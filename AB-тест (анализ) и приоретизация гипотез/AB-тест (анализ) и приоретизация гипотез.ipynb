{
 "cells": [
  {
   "cell_type": "markdown",
   "metadata": {},
   "source": [
    "# Приоретизация гипотез и анализ A/B-теста"
   ]
  },
  {
   "cell_type": "markdown",
   "metadata": {},
   "source": [
    "## 1. Обзор данных"
   ]
  },
  {
   "cell_type": "markdown",
   "metadata": {},
   "source": [
    "**Установки и обновления**"
   ]
  },
  {
   "cell_type": "code",
   "execution_count": 1,
   "metadata": {},
   "outputs": [],
   "source": [
    "#!pip install plotly --upgrade --user"
   ]
  },
  {
   "cell_type": "code",
   "execution_count": 2,
   "metadata": {},
   "outputs": [],
   "source": [
    "#pip install plotly"
   ]
  },
  {
   "cell_type": "code",
   "execution_count": 3,
   "metadata": {},
   "outputs": [],
   "source": [
    "#pip install -U kaleido"
   ]
  },
  {
   "cell_type": "markdown",
   "metadata": {},
   "source": [
    "**Импорты**"
   ]
  },
  {
   "cell_type": "code",
   "execution_count": 4,
   "metadata": {},
   "outputs": [
    {
     "data": {
      "text/html": [
       "        <script type=\"text/javascript\">\n",
       "        window.PlotlyConfig = {MathJaxConfig: 'local'};\n",
       "        if (window.MathJax) {MathJax.Hub.Config({SVG: {font: \"STIX-Web\"}});}\n",
       "        if (typeof require !== 'undefined') {\n",
       "        require.undef(\"plotly\");\n",
       "        requirejs.config({\n",
       "            paths: {\n",
       "                'plotly': ['https://cdn.plot.ly/plotly-2.9.0.min']\n",
       "            }\n",
       "        });\n",
       "        require(['plotly'], function(Plotly) {\n",
       "            window._Plotly = Plotly;\n",
       "        });\n",
       "        }\n",
       "        </script>\n",
       "        "
      ]
     },
     "metadata": {},
     "output_type": "display_data"
    }
   ],
   "source": [
    "import pandas as pd\n",
    "import plotly.express as px\n",
    "import plotly.graph_objects as go\n",
    "import numpy as np\n",
    "from scipy import stats as st\n",
    "import plotly.io as pio\n",
    "from plotly.offline import plot, iplot, init_notebook_mode\n",
    "import plotly.graph_objs as go\n",
    "init_notebook_mode(connected=True)"
   ]
  },
  {
   "cell_type": "markdown",
   "metadata": {},
   "source": [
    "**Таблицы**"
   ]
  },
  {
   "cell_type": "code",
   "execution_count": 5,
   "metadata": {},
   "outputs": [],
   "source": [
    "hypothesis = pd.read_csv('hypothesis.csv')\n",
    "orders = pd.read_csv('orders.csv')\n",
    "visits = pd.read_csv('visitors.csv')"
   ]
  },
  {
   "cell_type": "markdown",
   "metadata": {},
   "source": [
    "### Гипотезы"
   ]
  },
  {
   "cell_type": "code",
   "execution_count": 6,
   "metadata": {},
   "outputs": [
    {
     "data": {
      "text/html": [
       "<div>\n",
       "<style scoped>\n",
       "    .dataframe tbody tr th:only-of-type {\n",
       "        vertical-align: middle;\n",
       "    }\n",
       "\n",
       "    .dataframe tbody tr th {\n",
       "        vertical-align: top;\n",
       "    }\n",
       "\n",
       "    .dataframe thead th {\n",
       "        text-align: right;\n",
       "    }\n",
       "</style>\n",
       "<table border=\"1\" class=\"dataframe\">\n",
       "  <thead>\n",
       "    <tr style=\"text-align: right;\">\n",
       "      <th></th>\n",
       "      <th>Hypothesis</th>\n",
       "      <th>Reach</th>\n",
       "      <th>Impact</th>\n",
       "      <th>Confidence</th>\n",
       "      <th>Efforts</th>\n",
       "    </tr>\n",
       "  </thead>\n",
       "  <tbody>\n",
       "    <tr>\n",
       "      <th>0</th>\n",
       "      <td>Добавить два новых канала привлечения трафика, что позволит привлекать на 30% больше пользователей</td>\n",
       "      <td>3</td>\n",
       "      <td>10</td>\n",
       "      <td>8</td>\n",
       "      <td>6</td>\n",
       "    </tr>\n",
       "    <tr>\n",
       "      <th>1</th>\n",
       "      <td>Запустить собственную службу доставки, что сократит срок доставки заказов</td>\n",
       "      <td>2</td>\n",
       "      <td>5</td>\n",
       "      <td>4</td>\n",
       "      <td>10</td>\n",
       "    </tr>\n",
       "    <tr>\n",
       "      <th>2</th>\n",
       "      <td>Добавить блоки рекомендаций товаров на сайт интернет магазина, чтобы повысить конверсию и средний чек заказа</td>\n",
       "      <td>8</td>\n",
       "      <td>3</td>\n",
       "      <td>7</td>\n",
       "      <td>3</td>\n",
       "    </tr>\n",
       "    <tr>\n",
       "      <th>3</th>\n",
       "      <td>Изменить структура категорий, что увеличит конверсию, т.к. пользователи быстрее найдут нужный товар</td>\n",
       "      <td>8</td>\n",
       "      <td>3</td>\n",
       "      <td>3</td>\n",
       "      <td>8</td>\n",
       "    </tr>\n",
       "    <tr>\n",
       "      <th>4</th>\n",
       "      <td>Изменить цвет фона главной страницы, чтобы увеличить вовлеченность пользователей</td>\n",
       "      <td>3</td>\n",
       "      <td>1</td>\n",
       "      <td>1</td>\n",
       "      <td>1</td>\n",
       "    </tr>\n",
       "    <tr>\n",
       "      <th>5</th>\n",
       "      <td>Добавить страницу отзывов клиентов о магазине, что позволит увеличить количество заказов</td>\n",
       "      <td>3</td>\n",
       "      <td>2</td>\n",
       "      <td>2</td>\n",
       "      <td>3</td>\n",
       "    </tr>\n",
       "    <tr>\n",
       "      <th>6</th>\n",
       "      <td>Показать на главной странице баннеры с актуальными акциями и распродажами, чтобы увеличить конверсию</td>\n",
       "      <td>5</td>\n",
       "      <td>3</td>\n",
       "      <td>8</td>\n",
       "      <td>3</td>\n",
       "    </tr>\n",
       "    <tr>\n",
       "      <th>7</th>\n",
       "      <td>Добавить форму подписки на все основные страницы, чтобы собрать базу клиентов для email-рассылок</td>\n",
       "      <td>10</td>\n",
       "      <td>7</td>\n",
       "      <td>8</td>\n",
       "      <td>5</td>\n",
       "    </tr>\n",
       "    <tr>\n",
       "      <th>8</th>\n",
       "      <td>Запустить акцию, дающую скидку на товар в день рождения</td>\n",
       "      <td>1</td>\n",
       "      <td>9</td>\n",
       "      <td>9</td>\n",
       "      <td>5</td>\n",
       "    </tr>\n",
       "  </tbody>\n",
       "</table>\n",
       "</div>"
      ],
      "text/plain": [
       "                                                                                                     Hypothesis  \\\n",
       "0            Добавить два новых канала привлечения трафика, что позволит привлекать на 30% больше пользователей   \n",
       "1                                     Запустить собственную службу доставки, что сократит срок доставки заказов   \n",
       "2  Добавить блоки рекомендаций товаров на сайт интернет магазина, чтобы повысить конверсию и средний чек заказа   \n",
       "3           Изменить структура категорий, что увеличит конверсию, т.к. пользователи быстрее найдут нужный товар   \n",
       "4                              Изменить цвет фона главной страницы, чтобы увеличить вовлеченность пользователей   \n",
       "5                      Добавить страницу отзывов клиентов о магазине, что позволит увеличить количество заказов   \n",
       "6          Показать на главной странице баннеры с актуальными акциями и распродажами, чтобы увеличить конверсию   \n",
       "7              Добавить форму подписки на все основные страницы, чтобы собрать базу клиентов для email-рассылок   \n",
       "8                                                       Запустить акцию, дающую скидку на товар в день рождения   \n",
       "\n",
       "   Reach  Impact  Confidence  Efforts  \n",
       "0      3      10           8        6  \n",
       "1      2       5           4       10  \n",
       "2      8       3           7        3  \n",
       "3      8       3           3        8  \n",
       "4      3       1           1        1  \n",
       "5      3       2           2        3  \n",
       "6      5       3           8        3  \n",
       "7     10       7           8        5  \n",
       "8      1       9           9        5  "
      ]
     },
     "execution_count": 6,
     "metadata": {},
     "output_type": "execute_result"
    }
   ],
   "source": [
    "pd.set_option('display.max_colwidth', 200)\n",
    "hypothesis"
   ]
  },
  {
   "cell_type": "code",
   "execution_count": 7,
   "metadata": {},
   "outputs": [
    {
     "name": "stdout",
     "output_type": "stream",
     "text": [
      "<class 'pandas.core.frame.DataFrame'>\n",
      "RangeIndex: 9 entries, 0 to 8\n",
      "Data columns (total 5 columns):\n",
      " #   Column      Non-Null Count  Dtype \n",
      "---  ------      --------------  ----- \n",
      " 0   Hypothesis  9 non-null      object\n",
      " 1   Reach       9 non-null      int64 \n",
      " 2   Impact      9 non-null      int64 \n",
      " 3   Confidence  9 non-null      int64 \n",
      " 4   Efforts     9 non-null      int64 \n",
      "dtypes: int64(4), object(1)\n",
      "memory usage: 488.0+ bytes\n"
     ]
    }
   ],
   "source": [
    "hypothesis.info()"
   ]
  },
  {
   "cell_type": "markdown",
   "metadata": {},
   "source": [
    "**С данными все в порядке**"
   ]
  },
  {
   "cell_type": "markdown",
   "metadata": {},
   "source": [
    "### Заказы"
   ]
  },
  {
   "cell_type": "code",
   "execution_count": 8,
   "metadata": {},
   "outputs": [
    {
     "data": {
      "text/html": [
       "<div>\n",
       "<style scoped>\n",
       "    .dataframe tbody tr th:only-of-type {\n",
       "        vertical-align: middle;\n",
       "    }\n",
       "\n",
       "    .dataframe tbody tr th {\n",
       "        vertical-align: top;\n",
       "    }\n",
       "\n",
       "    .dataframe thead th {\n",
       "        text-align: right;\n",
       "    }\n",
       "</style>\n",
       "<table border=\"1\" class=\"dataframe\">\n",
       "  <thead>\n",
       "    <tr style=\"text-align: right;\">\n",
       "      <th></th>\n",
       "      <th>transactionId</th>\n",
       "      <th>visitorId</th>\n",
       "      <th>date</th>\n",
       "      <th>revenue</th>\n",
       "      <th>group</th>\n",
       "    </tr>\n",
       "  </thead>\n",
       "  <tbody>\n",
       "    <tr>\n",
       "      <th>0</th>\n",
       "      <td>3667963787</td>\n",
       "      <td>3312258926</td>\n",
       "      <td>2019-08-15</td>\n",
       "      <td>1650</td>\n",
       "      <td>B</td>\n",
       "    </tr>\n",
       "    <tr>\n",
       "      <th>1</th>\n",
       "      <td>2804400009</td>\n",
       "      <td>3642806036</td>\n",
       "      <td>2019-08-15</td>\n",
       "      <td>730</td>\n",
       "      <td>B</td>\n",
       "    </tr>\n",
       "    <tr>\n",
       "      <th>2</th>\n",
       "      <td>2961555356</td>\n",
       "      <td>4069496402</td>\n",
       "      <td>2019-08-15</td>\n",
       "      <td>400</td>\n",
       "      <td>A</td>\n",
       "    </tr>\n",
       "    <tr>\n",
       "      <th>3</th>\n",
       "      <td>3797467345</td>\n",
       "      <td>1196621759</td>\n",
       "      <td>2019-08-15</td>\n",
       "      <td>9759</td>\n",
       "      <td>B</td>\n",
       "    </tr>\n",
       "    <tr>\n",
       "      <th>4</th>\n",
       "      <td>2282983706</td>\n",
       "      <td>2322279887</td>\n",
       "      <td>2019-08-15</td>\n",
       "      <td>2308</td>\n",
       "      <td>B</td>\n",
       "    </tr>\n",
       "  </tbody>\n",
       "</table>\n",
       "</div>"
      ],
      "text/plain": [
       "   transactionId   visitorId        date  revenue group\n",
       "0     3667963787  3312258926  2019-08-15     1650     B\n",
       "1     2804400009  3642806036  2019-08-15      730     B\n",
       "2     2961555356  4069496402  2019-08-15      400     A\n",
       "3     3797467345  1196621759  2019-08-15     9759     B\n",
       "4     2282983706  2322279887  2019-08-15     2308     B"
      ]
     },
     "execution_count": 8,
     "metadata": {},
     "output_type": "execute_result"
    }
   ],
   "source": [
    "orders.head()"
   ]
  },
  {
   "cell_type": "code",
   "execution_count": 9,
   "metadata": {},
   "outputs": [
    {
     "name": "stdout",
     "output_type": "stream",
     "text": [
      "<class 'pandas.core.frame.DataFrame'>\n",
      "RangeIndex: 1197 entries, 0 to 1196\n",
      "Data columns (total 5 columns):\n",
      " #   Column         Non-Null Count  Dtype \n",
      "---  ------         --------------  ----- \n",
      " 0   transactionId  1197 non-null   int64 \n",
      " 1   visitorId      1197 non-null   int64 \n",
      " 2   date           1197 non-null   object\n",
      " 3   revenue        1197 non-null   int64 \n",
      " 4   group          1197 non-null   object\n",
      "dtypes: int64(3), object(2)\n",
      "memory usage: 46.9+ KB\n"
     ]
    }
   ],
   "source": [
    "orders.info()"
   ]
  },
  {
   "cell_type": "markdown",
   "metadata": {},
   "source": [
    "**Предобработка:**\n",
    "- Дату в datetime\n",
    "- Дубликаты\n",
    "- Проверить значения категориальных переменных (дата, группа)"
   ]
  },
  {
   "cell_type": "markdown",
   "metadata": {},
   "source": [
    "### Посещения"
   ]
  },
  {
   "cell_type": "code",
   "execution_count": 10,
   "metadata": {},
   "outputs": [
    {
     "data": {
      "text/html": [
       "<div>\n",
       "<style scoped>\n",
       "    .dataframe tbody tr th:only-of-type {\n",
       "        vertical-align: middle;\n",
       "    }\n",
       "\n",
       "    .dataframe tbody tr th {\n",
       "        vertical-align: top;\n",
       "    }\n",
       "\n",
       "    .dataframe thead th {\n",
       "        text-align: right;\n",
       "    }\n",
       "</style>\n",
       "<table border=\"1\" class=\"dataframe\">\n",
       "  <thead>\n",
       "    <tr style=\"text-align: right;\">\n",
       "      <th></th>\n",
       "      <th>date</th>\n",
       "      <th>group</th>\n",
       "      <th>visitors</th>\n",
       "    </tr>\n",
       "  </thead>\n",
       "  <tbody>\n",
       "    <tr>\n",
       "      <th>0</th>\n",
       "      <td>2019-08-01</td>\n",
       "      <td>A</td>\n",
       "      <td>719</td>\n",
       "    </tr>\n",
       "    <tr>\n",
       "      <th>1</th>\n",
       "      <td>2019-08-02</td>\n",
       "      <td>A</td>\n",
       "      <td>619</td>\n",
       "    </tr>\n",
       "    <tr>\n",
       "      <th>2</th>\n",
       "      <td>2019-08-03</td>\n",
       "      <td>A</td>\n",
       "      <td>507</td>\n",
       "    </tr>\n",
       "    <tr>\n",
       "      <th>3</th>\n",
       "      <td>2019-08-04</td>\n",
       "      <td>A</td>\n",
       "      <td>717</td>\n",
       "    </tr>\n",
       "    <tr>\n",
       "      <th>4</th>\n",
       "      <td>2019-08-05</td>\n",
       "      <td>A</td>\n",
       "      <td>756</td>\n",
       "    </tr>\n",
       "  </tbody>\n",
       "</table>\n",
       "</div>"
      ],
      "text/plain": [
       "         date group  visitors\n",
       "0  2019-08-01     A       719\n",
       "1  2019-08-02     A       619\n",
       "2  2019-08-03     A       507\n",
       "3  2019-08-04     A       717\n",
       "4  2019-08-05     A       756"
      ]
     },
     "execution_count": 10,
     "metadata": {},
     "output_type": "execute_result"
    }
   ],
   "source": [
    "visits.head()"
   ]
  },
  {
   "cell_type": "code",
   "execution_count": 11,
   "metadata": {},
   "outputs": [
    {
     "name": "stdout",
     "output_type": "stream",
     "text": [
      "<class 'pandas.core.frame.DataFrame'>\n",
      "RangeIndex: 62 entries, 0 to 61\n",
      "Data columns (total 3 columns):\n",
      " #   Column    Non-Null Count  Dtype \n",
      "---  ------    --------------  ----- \n",
      " 0   date      62 non-null     object\n",
      " 1   group     62 non-null     object\n",
      " 2   visitors  62 non-null     int64 \n",
      "dtypes: int64(1), object(2)\n",
      "memory usage: 1.6+ KB\n"
     ]
    }
   ],
   "source": [
    "visits.info()"
   ]
  },
  {
   "cell_type": "markdown",
   "metadata": {},
   "source": [
    "**Предобработка:**\n",
    "- Дату в datetime\n",
    "- Дубликаты\n",
    "- Проверить значения категориальных переменных (дата, группа)"
   ]
  },
  {
   "cell_type": "markdown",
   "metadata": {},
   "source": [
    "## 2. Предобработка"
   ]
  },
  {
   "cell_type": "markdown",
   "metadata": {},
   "source": [
    "### Заказы"
   ]
  },
  {
   "cell_type": "markdown",
   "metadata": {},
   "source": [
    "**Меняем тип даты**"
   ]
  },
  {
   "cell_type": "code",
   "execution_count": 12,
   "metadata": {},
   "outputs": [],
   "source": [
    "orders['date'] = pd.to_datetime(orders['date'], format='%Y-%m-%d')"
   ]
  },
  {
   "cell_type": "markdown",
   "metadata": {},
   "source": [
    "**Проверяем на дубликаты**"
   ]
  },
  {
   "cell_type": "code",
   "execution_count": 13,
   "metadata": {},
   "outputs": [
    {
     "name": "stdout",
     "output_type": "stream",
     "text": [
      "Дубликатов в таблице: 0\n"
     ]
    }
   ],
   "source": [
    "print('Дубликатов в таблице:', orders.duplicated().sum())"
   ]
  },
  {
   "cell_type": "markdown",
   "metadata": {},
   "source": [
    "**Смотрим значения в категореальных переменных**"
   ]
  },
  {
   "cell_type": "code",
   "execution_count": 14,
   "metadata": {},
   "outputs": [
    {
     "data": {
      "text/plain": [
       "array(['B', 'A'], dtype=object)"
      ]
     },
     "execution_count": 14,
     "metadata": {},
     "output_type": "execute_result"
    }
   ],
   "source": [
    "orders['group'].unique()"
   ]
  },
  {
   "cell_type": "code",
   "execution_count": 15,
   "metadata": {},
   "outputs": [
    {
     "data": {
      "text/plain": [
       "count                             1197\n",
       "mean     2019-08-15 13:06:46.015037696\n",
       "min                2019-08-01 00:00:00\n",
       "25%                2019-08-08 00:00:00\n",
       "50%                2019-08-15 00:00:00\n",
       "75%                2019-08-23 00:00:00\n",
       "max                2019-08-31 00:00:00\n",
       "Name: date, dtype: object"
      ]
     },
     "execution_count": 15,
     "metadata": {},
     "output_type": "execute_result"
    }
   ],
   "source": [
    "orders['date'].describe(datetime_is_numeric=True)"
   ]
  },
  {
   "cell_type": "markdown",
   "metadata": {},
   "source": [
    "**Все ок**"
   ]
  },
  {
   "cell_type": "markdown",
   "metadata": {},
   "source": [
    "### Визиты"
   ]
  },
  {
   "cell_type": "markdown",
   "metadata": {},
   "source": [
    "**Меняем тип даты**"
   ]
  },
  {
   "cell_type": "code",
   "execution_count": 16,
   "metadata": {},
   "outputs": [],
   "source": [
    "visits['date'] = pd.to_datetime(visits['date'], format='%Y-%m-%d')"
   ]
  },
  {
   "cell_type": "markdown",
   "metadata": {},
   "source": [
    "**Проверяем на дубликаты**"
   ]
  },
  {
   "cell_type": "code",
   "execution_count": 17,
   "metadata": {},
   "outputs": [
    {
     "name": "stdout",
     "output_type": "stream",
     "text": [
      "Дубликатов в таблице: 0\n"
     ]
    }
   ],
   "source": [
    "print('Дубликатов в таблице:', visits.duplicated().sum())"
   ]
  },
  {
   "cell_type": "markdown",
   "metadata": {},
   "source": [
    "**Смотрим значения в категореальных переменных**"
   ]
  },
  {
   "cell_type": "code",
   "execution_count": 18,
   "metadata": {},
   "outputs": [
    {
     "data": {
      "text/plain": [
       "array(['A', 'B'], dtype=object)"
      ]
     },
     "execution_count": 18,
     "metadata": {},
     "output_type": "execute_result"
    }
   ],
   "source": [
    "visits['group'].unique()"
   ]
  },
  {
   "cell_type": "code",
   "execution_count": 19,
   "metadata": {},
   "outputs": [
    {
     "data": {
      "text/plain": [
       "count                     62\n",
       "mean     2019-08-16 00:00:00\n",
       "min      2019-08-01 00:00:00\n",
       "25%      2019-08-08 06:00:00\n",
       "50%      2019-08-16 00:00:00\n",
       "75%      2019-08-23 18:00:00\n",
       "max      2019-08-31 00:00:00\n",
       "Name: date, dtype: object"
      ]
     },
     "execution_count": 19,
     "metadata": {},
     "output_type": "execute_result"
    }
   ],
   "source": [
    "visits['date'].describe(datetime_is_numeric=True)"
   ]
  },
  {
   "cell_type": "markdown",
   "metadata": {},
   "source": [
    "**Все ок**"
   ]
  },
  {
   "cell_type": "markdown",
   "metadata": {},
   "source": [
    "## 3. Приоретизация гипотез\n",
    "\n",
    "**Задачи:**\n",
    "- Применить фреймворк ICE (по убыванию)\n",
    "- Применить фреймворк RICE (по убыванию)\n",
    "- Объяснить результаты и различия: изменилась ли приоретизация?\n"
   ]
  },
  {
   "cell_type": "markdown",
   "metadata": {},
   "source": [
    "### ICE"
   ]
  },
  {
   "cell_type": "code",
   "execution_count": 20,
   "metadata": {},
   "outputs": [],
   "source": [
    "#формула: Импакт * Конфиденс / Эффортс\n",
    "hypothesis['ICE'] = hypothesis['Impact'] * hypothesis['Confidence'] / hypothesis['Efforts']"
   ]
  },
  {
   "cell_type": "code",
   "execution_count": 21,
   "metadata": {},
   "outputs": [
    {
     "data": {
      "text/html": [
       "<div>\n",
       "<style scoped>\n",
       "    .dataframe tbody tr th:only-of-type {\n",
       "        vertical-align: middle;\n",
       "    }\n",
       "\n",
       "    .dataframe tbody tr th {\n",
       "        vertical-align: top;\n",
       "    }\n",
       "\n",
       "    .dataframe thead th {\n",
       "        text-align: right;\n",
       "    }\n",
       "</style>\n",
       "<table border=\"1\" class=\"dataframe\">\n",
       "  <thead>\n",
       "    <tr style=\"text-align: right;\">\n",
       "      <th></th>\n",
       "      <th>Hypothesis</th>\n",
       "      <th>ICE</th>\n",
       "    </tr>\n",
       "  </thead>\n",
       "  <tbody>\n",
       "    <tr>\n",
       "      <th>0</th>\n",
       "      <td>Запустить акцию, дающую скидку на товар в день рождения</td>\n",
       "      <td>16.200000</td>\n",
       "    </tr>\n",
       "    <tr>\n",
       "      <th>1</th>\n",
       "      <td>Добавить два новых канала привлечения трафика, что позволит привлекать на 30% больше пользователей</td>\n",
       "      <td>13.333333</td>\n",
       "    </tr>\n",
       "    <tr>\n",
       "      <th>2</th>\n",
       "      <td>Добавить форму подписки на все основные страницы, чтобы собрать базу клиентов для email-рассылок</td>\n",
       "      <td>11.200000</td>\n",
       "    </tr>\n",
       "    <tr>\n",
       "      <th>3</th>\n",
       "      <td>Показать на главной странице баннеры с актуальными акциями и распродажами, чтобы увеличить конверсию</td>\n",
       "      <td>8.000000</td>\n",
       "    </tr>\n",
       "    <tr>\n",
       "      <th>4</th>\n",
       "      <td>Добавить блоки рекомендаций товаров на сайт интернет магазина, чтобы повысить конверсию и средний чек заказа</td>\n",
       "      <td>7.000000</td>\n",
       "    </tr>\n",
       "    <tr>\n",
       "      <th>5</th>\n",
       "      <td>Запустить собственную службу доставки, что сократит срок доставки заказов</td>\n",
       "      <td>2.000000</td>\n",
       "    </tr>\n",
       "    <tr>\n",
       "      <th>6</th>\n",
       "      <td>Добавить страницу отзывов клиентов о магазине, что позволит увеличить количество заказов</td>\n",
       "      <td>1.333333</td>\n",
       "    </tr>\n",
       "    <tr>\n",
       "      <th>7</th>\n",
       "      <td>Изменить структура категорий, что увеличит конверсию, т.к. пользователи быстрее найдут нужный товар</td>\n",
       "      <td>1.125000</td>\n",
       "    </tr>\n",
       "    <tr>\n",
       "      <th>8</th>\n",
       "      <td>Изменить цвет фона главной страницы, чтобы увеличить вовлеченность пользователей</td>\n",
       "      <td>1.000000</td>\n",
       "    </tr>\n",
       "  </tbody>\n",
       "</table>\n",
       "</div>"
      ],
      "text/plain": [
       "                                                                                                     Hypothesis  \\\n",
       "0                                                       Запустить акцию, дающую скидку на товар в день рождения   \n",
       "1            Добавить два новых канала привлечения трафика, что позволит привлекать на 30% больше пользователей   \n",
       "2              Добавить форму подписки на все основные страницы, чтобы собрать базу клиентов для email-рассылок   \n",
       "3          Показать на главной странице баннеры с актуальными акциями и распродажами, чтобы увеличить конверсию   \n",
       "4  Добавить блоки рекомендаций товаров на сайт интернет магазина, чтобы повысить конверсию и средний чек заказа   \n",
       "5                                     Запустить собственную службу доставки, что сократит срок доставки заказов   \n",
       "6                      Добавить страницу отзывов клиентов о магазине, что позволит увеличить количество заказов   \n",
       "7           Изменить структура категорий, что увеличит конверсию, т.к. пользователи быстрее найдут нужный товар   \n",
       "8                              Изменить цвет фона главной страницы, чтобы увеличить вовлеченность пользователей   \n",
       "\n",
       "         ICE  \n",
       "0  16.200000  \n",
       "1  13.333333  \n",
       "2  11.200000  \n",
       "3   8.000000  \n",
       "4   7.000000  \n",
       "5   2.000000  \n",
       "6   1.333333  \n",
       "7   1.125000  \n",
       "8   1.000000  "
      ]
     },
     "execution_count": 21,
     "metadata": {},
     "output_type": "execute_result"
    }
   ],
   "source": [
    "hypothesis.sort_values(by='ICE', ascending=False)[['Hypothesis', 'ICE']].reset_index(drop=True)"
   ]
  },
  {
   "cell_type": "markdown",
   "metadata": {},
   "source": [
    "### RICE"
   ]
  },
  {
   "cell_type": "code",
   "execution_count": 22,
   "metadata": {},
   "outputs": [],
   "source": [
    "#формула: Рич * Импэкт * Конфиденс / Эффортс\n",
    "hypothesis['RICE'] = hypothesis['Reach'] * hypothesis['Impact'] * hypothesis['Confidence'] / hypothesis['Efforts']"
   ]
  },
  {
   "cell_type": "code",
   "execution_count": 23,
   "metadata": {},
   "outputs": [
    {
     "data": {
      "text/html": [
       "<div>\n",
       "<style scoped>\n",
       "    .dataframe tbody tr th:only-of-type {\n",
       "        vertical-align: middle;\n",
       "    }\n",
       "\n",
       "    .dataframe tbody tr th {\n",
       "        vertical-align: top;\n",
       "    }\n",
       "\n",
       "    .dataframe thead th {\n",
       "        text-align: right;\n",
       "    }\n",
       "</style>\n",
       "<table border=\"1\" class=\"dataframe\">\n",
       "  <thead>\n",
       "    <tr style=\"text-align: right;\">\n",
       "      <th></th>\n",
       "      <th>Hypothesis</th>\n",
       "      <th>RICE</th>\n",
       "      <th>ICE</th>\n",
       "    </tr>\n",
       "  </thead>\n",
       "  <tbody>\n",
       "    <tr>\n",
       "      <th>0</th>\n",
       "      <td>Добавить форму подписки на все основные страницы, чтобы собрать базу клиентов для email-рассылок</td>\n",
       "      <td>112.0</td>\n",
       "      <td>11.200000</td>\n",
       "    </tr>\n",
       "    <tr>\n",
       "      <th>1</th>\n",
       "      <td>Добавить блоки рекомендаций товаров на сайт интернет магазина, чтобы повысить конверсию и средний чек заказа</td>\n",
       "      <td>56.0</td>\n",
       "      <td>7.000000</td>\n",
       "    </tr>\n",
       "    <tr>\n",
       "      <th>2</th>\n",
       "      <td>Добавить два новых канала привлечения трафика, что позволит привлекать на 30% больше пользователей</td>\n",
       "      <td>40.0</td>\n",
       "      <td>13.333333</td>\n",
       "    </tr>\n",
       "    <tr>\n",
       "      <th>3</th>\n",
       "      <td>Показать на главной странице баннеры с актуальными акциями и распродажами, чтобы увеличить конверсию</td>\n",
       "      <td>40.0</td>\n",
       "      <td>8.000000</td>\n",
       "    </tr>\n",
       "    <tr>\n",
       "      <th>4</th>\n",
       "      <td>Запустить акцию, дающую скидку на товар в день рождения</td>\n",
       "      <td>16.2</td>\n",
       "      <td>16.200000</td>\n",
       "    </tr>\n",
       "    <tr>\n",
       "      <th>5</th>\n",
       "      <td>Изменить структура категорий, что увеличит конверсию, т.к. пользователи быстрее найдут нужный товар</td>\n",
       "      <td>9.0</td>\n",
       "      <td>1.125000</td>\n",
       "    </tr>\n",
       "    <tr>\n",
       "      <th>6</th>\n",
       "      <td>Запустить собственную службу доставки, что сократит срок доставки заказов</td>\n",
       "      <td>4.0</td>\n",
       "      <td>2.000000</td>\n",
       "    </tr>\n",
       "    <tr>\n",
       "      <th>7</th>\n",
       "      <td>Добавить страницу отзывов клиентов о магазине, что позволит увеличить количество заказов</td>\n",
       "      <td>4.0</td>\n",
       "      <td>1.333333</td>\n",
       "    </tr>\n",
       "    <tr>\n",
       "      <th>8</th>\n",
       "      <td>Изменить цвет фона главной страницы, чтобы увеличить вовлеченность пользователей</td>\n",
       "      <td>3.0</td>\n",
       "      <td>1.000000</td>\n",
       "    </tr>\n",
       "  </tbody>\n",
       "</table>\n",
       "</div>"
      ],
      "text/plain": [
       "                                                                                                     Hypothesis  \\\n",
       "0              Добавить форму подписки на все основные страницы, чтобы собрать базу клиентов для email-рассылок   \n",
       "1  Добавить блоки рекомендаций товаров на сайт интернет магазина, чтобы повысить конверсию и средний чек заказа   \n",
       "2            Добавить два новых канала привлечения трафика, что позволит привлекать на 30% больше пользователей   \n",
       "3          Показать на главной странице баннеры с актуальными акциями и распродажами, чтобы увеличить конверсию   \n",
       "4                                                       Запустить акцию, дающую скидку на товар в день рождения   \n",
       "5           Изменить структура категорий, что увеличит конверсию, т.к. пользователи быстрее найдут нужный товар   \n",
       "6                                     Запустить собственную службу доставки, что сократит срок доставки заказов   \n",
       "7                      Добавить страницу отзывов клиентов о магазине, что позволит увеличить количество заказов   \n",
       "8                              Изменить цвет фона главной страницы, чтобы увеличить вовлеченность пользователей   \n",
       "\n",
       "    RICE        ICE  \n",
       "0  112.0  11.200000  \n",
       "1   56.0   7.000000  \n",
       "2   40.0  13.333333  \n",
       "3   40.0   8.000000  \n",
       "4   16.2  16.200000  \n",
       "5    9.0   1.125000  \n",
       "6    4.0   2.000000  \n",
       "7    4.0   1.333333  \n",
       "8    3.0   1.000000  "
      ]
     },
     "execution_count": 23,
     "metadata": {},
     "output_type": "execute_result"
    }
   ],
   "source": [
    "hypothesis.sort_values(by='RICE', ascending=False)[['Hypothesis', 'RICE','ICE']].reset_index(drop=True)"
   ]
  },
  {
   "cell_type": "markdown",
   "metadata": {},
   "source": [
    "**Выводы: чем отличаются результаты применения фреймворков?**\n",
    "\n",
    "Фреймворк RICE учитывает в формуле охват пользователей, поэтому в отличие от ICE, он вывел на первые позиции гипотезы с формулировками \"добавить на все основные страницы\", \"на сайт\", \"показать на главной\". Гипотеза, оцененная как самая приоритетная по фреймворку ICE (Акция в день рождения), потеряла позиции в RICE по той же причине: охват таких пользователей гораздо меньше. "
   ]
  },
  {
   "cell_type": "markdown",
   "metadata": {},
   "source": [
    "## 4. Анализ A/B теста"
   ]
  },
  {
   "cell_type": "markdown",
   "metadata": {},
   "source": [
    "### Кумулятивная выручка по группам"
   ]
  },
  {
   "cell_type": "code",
   "execution_count": 24,
   "metadata": {},
   "outputs": [],
   "source": [
    "#выделим выручку по дням по каждой группе в два отдельных фрейма\n",
    "revenueByDateA = orders.query('group == \"A\"')\\\n",
    "    .groupby('date', as_index=False)\\\n",
    "    .agg({'revenue':'sum'})\n",
    "\n",
    "revenueByDateB = orders.query('group == \"B\"')\\\n",
    "    .groupby('date', as_index=False)\\\n",
    "    .agg({'revenue':'sum'})"
   ]
  },
  {
   "cell_type": "code",
   "execution_count": 25,
   "metadata": {},
   "outputs": [],
   "source": [
    "#объединим данные в один фрейм для построения графика\n",
    "revenueByDate = revenueByDateA.merge(revenueByDateB, on='date', suffixes=['A','B'])"
   ]
  },
  {
   "cell_type": "code",
   "execution_count": 26,
   "metadata": {},
   "outputs": [],
   "source": [
    "#Посчитаем кумулятивную выручку по группам\n",
    "revenueByDate['revenueA'] = revenueByDate['revenueA'].cumsum()\n",
    "revenueByDate['revenueB'] = revenueByDate['revenueB'].cumsum()"
   ]
  },
  {
   "cell_type": "code",
   "execution_count": 62,
   "metadata": {},
   "outputs": [
    {
     "data": {
      "image/png": "[encoded data removed]"
     },
     "metadata": {},
     "output_type": "display_data"
    }
   ],
   "source": [
    "#строим график\n",
    "fig = px.line(revenueByDate, \n",
    "        x='date', \n",
    "        y=['revenueA','revenueB'],\n",
    "        markers=True,\n",
    "        title='Кумулятивная выручка по дням',\n",
    "        line_shape='spline',\n",
    "        labels={'date':'Дата','value':'Выручка', 'legend':'Выручка', 'variable':''},\n",
    "        template='plotly_dark')\n",
    "fig.data[0].name = 'Выручка А'\n",
    "fig.data[1].name = 'Выручка B'\n",
    "fig.add_annotation(x='2019-08-19', y=4116541,\n",
    "            text=\"Крупная покупка?\",\n",
    "            showarrow=True,\n",
    "            yshift=8)\n",
    "fig.show('png')"
   ]
  },
  {
   "cell_type": "markdown",
   "metadata": {},
   "source": [
    "**Выручку группы B искажает выборс**\n",
    "\n",
    "Мы видим как кумулятивная выручка двух групп равномерно растет, но 19 августа происходит крупная покупка в группе B, которая смещает весь график вверх. "
   ]
  },
  {
   "cell_type": "markdown",
   "metadata": {},
   "source": [
    "### Кумулятивный средний чек по группам"
   ]
  },
  {
   "cell_type": "code",
   "execution_count": 28,
   "metadata": {},
   "outputs": [],
   "source": [
    "#посчитаем количество покупок в каждой группе по датам и сохраним в отдельные фреймы\n",
    "ordersByDateA = orders.query('group == \"A\"')\\\n",
    "    .groupby('date', as_index=False)\\\n",
    "    .agg({'visitorId':'count'})\\\n",
    "    .rename(columns={'visitorId':'orders'})\n",
    "\n",
    "ordersByDateB = orders.query('group == \"B\"')\\\n",
    "    .groupby('date', as_index=False)\\\n",
    "    .agg({'visitorId':'count'})\\\n",
    "    .rename(columns={'visitorId':'orders'})"
   ]
  },
  {
   "cell_type": "code",
   "execution_count": 29,
   "metadata": {},
   "outputs": [],
   "source": [
    "#объединим количество покупок по группам в один фрейм\n",
    "ordersByDate = ordersByDateA.merge(ordersByDateB, on='date', suffixes=['A','B'])"
   ]
  },
  {
   "cell_type": "code",
   "execution_count": 30,
   "metadata": {},
   "outputs": [],
   "source": [
    "#Посчитаем кумулятивное количество покупок по группам\n",
    "ordersByDate['ordersA'] = ordersByDate['ordersA'].cumsum()\n",
    "ordersByDate['ordersB'] = ordersByDate['ordersB'].cumsum()"
   ]
  },
  {
   "cell_type": "code",
   "execution_count": 31,
   "metadata": {},
   "outputs": [],
   "source": [
    "#объединим фрейм кумулятивной выручки по группам с фреймом кумулятивного количества покупок\n",
    "totalFrame = revenueByDate.merge(ordersByDate, on='date')"
   ]
  },
  {
   "cell_type": "code",
   "execution_count": 32,
   "metadata": {},
   "outputs": [],
   "source": [
    "#посчиатем средний чек по группам\n",
    "totalFrame['averageCheckA'] = totalFrame['revenueA'] / totalFrame['ordersA']\n",
    "totalFrame['averageCheckB'] = totalFrame['revenueB'] / totalFrame['ordersB']"
   ]
  },
  {
   "cell_type": "code",
   "execution_count": 33,
   "metadata": {},
   "outputs": [
    {
     "data": {
      "image/svg+xml": [
       "<svg class=\"main-svg\" xmlns=\"http://www.w3.org/2000/svg\" xmlns:xlink=\"http://www.w3.org/1999/xlink\" width=\"700\" height=\"500\" style=\"\" viewBox=\"0 0 700 500\"><rect x=\"0\" y=\"0\" width=\"700\" height=\"500\" style=\"fill: rgb(17, 17, 17); fill-opacity: 1;\"/><defs id=\"defs-87e73f\"><g class=\"clips\"><clipPath id=\"clip87e73fxyplot\" class=\"plotclip\"><rect width=\"498\" height=\"320\"/></clipPath><clipPath class=\"axesclip\" id=\"clip87e73fx\"><rect x=\"80\" y=\"0\" width=\"498\" height=\"500\"/></clipPath><clipPath class=\"axesclip\" id=\"clip87e73fy\"><rect x=\"0\" y=\"100\" width=\"700\" height=\"320\"/></clipPath><clipPath class=\"axesclip\" id=\"clip87e73fxy\"><rect x=\"80\" y=\"100\" width=\"498\" height=\"320\"/></clipPath></g><g class=\"gradients\"/><g class=\"patterns\"/></defs><g class=\"bglayer\"/><g class=\"layer-below\"><g class=\"imagelayer\"/><g class=\"shapelayer\"/></g><g class=\"cartesianlayer\"><g class=\"subplot xy\"><g class=\"layer-subplot\"><g class=\"shapelayer\"/><g class=\"imagelayer\"/></g><g class=\"gridlayer\"><g class=\"x\"><path class=\"xgrid crisp\" transform=\"translate(152.72,0)\" d=\"M0,100v320\" style=\"stroke: rgb(40, 52, 66); stroke-opacity: 1; stroke-width: 1px;\"/><path class=\"xgrid crisp\" transform=\"translate(255.55,0)\" d=\"M0,100v320\" style=\"stroke: rgb(40, 52, 66); stroke-opacity: 1; stroke-width: 1px;\"/><path class=\"xgrid crisp\" transform=\"translate(358.38,0)\" d=\"M0,100v320\" style=\"stroke: rgb(40, 52, 66); stroke-opacity: 1; stroke-width: 1px;\"/><path class=\"xgrid crisp\" transform=\"translate(461.21,0)\" d=\"M0,100v320\" style=\"stroke: rgb(40, 52, 66); stroke-opacity: 1; stroke-width: 1px;\"/><path class=\"xgrid crisp\" transform=\"translate(564.04,0)\" d=\"M0,100v320\" style=\"stroke: rgb(40, 52, 66); stroke-opacity: 1; stroke-width: 1px;\"/></g><g class=\"y\"><path class=\"ygrid crisp\" transform=\"translate(0,387.01)\" d=\"M80,0h498\" style=\"stroke: rgb(40, 52, 66); stroke-opacity: 1; stroke-width: 1px;\"/><path class=\"ygrid crisp\" transform=\"translate(0,341.08000000000004)\" d=\"M80,0h498\" style=\"stroke: rgb(40, 52, 66); stroke-opacity: 1; stroke-width: 1px;\"/><path class=\"ygrid crisp\" transform=\"translate(0,295.15)\" d=\"M80,0h498\" style=\"stroke: rgb(40, 52, 66); stroke-opacity: 1; stroke-width: 1px;\"/><path class=\"ygrid crisp\" transform=\"translate(0,249.22)\" d=\"M80,0h498\" style=\"stroke: rgb(40, 52, 66); stroke-opacity: 1; stroke-width: 1px;\"/><path class=\"ygrid crisp\" transform=\"translate(0,203.29000000000002)\" d=\"M80,0h498\" style=\"stroke: rgb(40, 52, 66); stroke-opacity: 1; stroke-width: 1px;\"/><path class=\"ygrid crisp\" transform=\"translate(0,157.36)\" d=\"M80,0h498\" style=\"stroke: rgb(40, 52, 66); stroke-opacity: 1; stroke-width: 1px;\"/><path class=\"ygrid crisp\" transform=\"translate(0,111.43)\" d=\"M80,0h498\" style=\"stroke: rgb(40, 52, 66); stroke-opacity: 1; stroke-width: 1px;\"/></g></g><g class=\"zerolinelayer\"/><path class=\"xlines-below\"/><path class=\"ylines-below\"/><g class=\"overlines-below\"/><g class=\"xaxislayer-below\"/><g class=\"yaxislayer-below\"/><g class=\"overaxes-below\"/><g class=\"plot\" transform=\"translate(80,100)\" clip-path=\"url(#clip87e73fxyplot)\"><g class=\"scatterlayer mlayer\"><g class=\"trace scatter trace2b2faf\" style=\"stroke-miterlimit: 2; opacity: 1;\"><g class=\"fills\"/><g class=\"errorbars\"/><g class=\"lines\"><path class=\"js-line\" d=\"M28.65,232.32Q37.55,255.79 43.34,263.63C47.72,269.57 52.86,273.52 58.03,276.97C62.71,280.09 67.7,282.59 72.72,283.9C77.5,285.15 82.88,282.82 87.41,284.94C92.84,287.49 97.32,300.46 102.1,300.25C107.12,300.03 111.25,285.66 116.79,282C121.26,279.04 127.19,281.3 131.48,277.86C137.6,272.95 141.3,259.71 146.17,250.53C151.09,241.26 154.61,225.92 160.86,222.5C165.13,220.16 171.12,225.72 175.55,223.76C181.22,221.26 185.72,212.05 190.24,204.56C195.68,195.56 199.52,173.41 204.93,172.85C209.47,172.38 213.95,189.04 219.62,192.61C224.04,195.4 229.43,194.34 234.31,195.47C239.23,196.61 244.08,198.33 249,199.44C253.87,200.54 258.87,200.7 263.69,202.13C268.67,203.61 273.46,208.2 278.38,208.29C283.26,208.38 288.09,203.59 293.07,202.78C297.89,202 302.87,203.58 307.76,203.33C312.67,203.08 317.54,201.66 322.45,201.26C327.33,200.86 332.33,200.07 337.14,200.93C342.13,201.83 346.86,206.28 351.83,206.76C356.66,207.23 361.6,204.47 366.52,204C371.4,203.54 376.37,204.71 381.21,203.94C386.17,203.15 391.12,201.34 395.9,199.19C400.92,196.93 405.51,191.6 410.59,190.54C415.33,189.55 420.72,193.84 425.28,192.3C430.64,190.49 434.6,180.35 439.97,178.08C444.52,176.15 449.78,177.34 454.66,177.63Q459.57,177.92 469.35,179.83\" style=\"vector-effect: non-scaling-stroke; fill: none; stroke: rgb(99, 110, 250); stroke-opacity: 1; stroke-width: 2px; opacity: 1;\"/></g><g class=\"points\"><path class=\"point\" transform=\"translate(28.65,232.32)\" d=\"M3,0A3,3 0 1,1 0,-3A3,3 0 0,1 3,0Z\" style=\"opacity: 1; stroke-width: 0px; fill: rgb(99, 110, 250); fill-opacity: 1;\"/><path class=\"point\" transform=\"translate(43.34,263.63)\" d=\"M3,0A3,3 0 1,1 0,-3A3,3 0 0,1 3,0Z\" style=\"opacity: 1; stroke-width: 0px; fill: rgb(99, 110, 250); fill-opacity: 1;\"/><path class=\"point\" transform=\"translate(58.03,276.97)\" d=\"M3,0A3,3 0 1,1 0,-3A3,3 0 0,1 3,0Z\" style=\"opacity: 1; stroke-width: 0px; fill: rgb(99, 110, 250); fill-opacity: 1;\"/><path class=\"point\" transform=\"translate(72.72,283.9)\" d=\"M3,0A3,3 0 1,1 0,-3A3,3 0 0,1 3,0Z\" style=\"opacity: 1; stroke-width: 0px; fill: rgb(99, 110, 250); fill-opacity: 1;\"/><path class=\"point\" transform=\"translate(87.41,284.94)\" d=\"M3,0A3,3 0 1,1 0,-3A3,3 0 0,1 3,0Z\" style=\"opacity: 1; stroke-width: 0px; fill: rgb(99, 110, 250); fill-opacity: 1;\"/><path class=\"point\" transform=\"translate(102.1,300.25)\" d=\"M3,0A3,3 0 1,1 0,-3A3,3 0 0,1 3,0Z\" style=\"opacity: 1; stroke-width: 0px; fill: rgb(99, 110, 250); fill-opacity: 1;\"/><path class=\"point\" transform=\"translate(116.79,282)\" d=\"M3,0A3,3 0 1,1 0,-3A3,3 0 0,1 3,0Z\" style=\"opacity: 1; stroke-width: 0px; fill: rgb(99, 110, 250); fill-opacity: 1;\"/><path class=\"point\" transform=\"translate(131.48,277.86)\" d=\"M3,0A3,3 0 1,1 0,-3A3,3 0 0,1 3,0Z\" style=\"opacity: 1; stroke-width: 0px; fill: rgb(99, 110, 250); fill-opacity: 1;\"/><path class=\"point\" transform=\"translate(146.17,250.53)\" d=\"M3,0A3,3 0 1,1 0,-3A3,3 0 0,1 3,0Z\" style=\"opacity: 1; stroke-width: 0px; fill: rgb(99, 110, 250); fill-opacity: 1;\"/><path class=\"point\" transform=\"translate(160.86,222.5)\" d=\"M3,0A3,3 0 1,1 0,-3A3,3 0 0,1 3,0Z\" style=\"opacity: 1; stroke-width: 0px; fill: rgb(99, 110, 250); fill-opacity: 1;\"/><path class=\"point\" transform=\"translate(175.55,223.76)\" d=\"M3,0A3,3 0 1,1 0,-3A3,3 0 0,1 3,0Z\" style=\"opacity: 1; stroke-width: 0px; fill: rgb(99, 110, 250); fill-opacity: 1;\"/><path class=\"point\" transform=\"translate(190.24,204.56)\" d=\"M3,0A3,3 0 1,1 0,-3A3,3 0 0,1 3,0Z\" style=\"opacity: 1; stroke-width: 0px; fill: rgb(99, 110, 250); fill-opacity: 1;\"/><path class=\"point\" transform=\"translate(204.93,172.85)\" d=\"M3,0A3,3 0 1,1 0,-3A3,3 0 0,1 3,0Z\" style=\"opacity: 1; stroke-width: 0px; fill: rgb(99, 110, 250); fill-opacity: 1;\"/><path class=\"point\" transform=\"translate(219.62,192.61)\" d=\"M3,0A3,3 0 1,1 0,-3A3,3 0 0,1 3,0Z\" style=\"opacity: 1; stroke-width: 0px; fill: rgb(99, 110, 250); fill-opacity: 1;\"/><path class=\"point\" transform=\"translate(234.31,195.47)\" d=\"M3,0A3,3 0 1,1 0,-3A3,3 0 0,1 3,0Z\" style=\"opacity: 1; stroke-width: 0px; fill: rgb(99, 110, 250); fill-opacity: 1;\"/><path class=\"point\" transform=\"translate(249,199.44)\" d=\"M3,0A3,3 0 1,1 0,-3A3,3 0 0,1 3,0Z\" style=\"opacity: 1; stroke-width: 0px; fill: rgb(99, 110, 250); fill-opacity: 1;\"/><path class=\"point\" transform=\"translate(263.69,202.13)\" d=\"M3,0A3,3 0 1,1 0,-3A3,3 0 0,1 3,0Z\" style=\"opacity: 1; stroke-width: 0px; fill: rgb(99, 110, 250); fill-opacity: 1;\"/><path class=\"point\" transform=\"translate(278.38,208.29)\" d=\"M3,0A3,3 0 1,1 0,-3A3,3 0 0,1 3,0Z\" style=\"opacity: 1; stroke-width: 0px; fill: rgb(99, 110, 250); fill-opacity: 1;\"/><path class=\"point\" transform=\"translate(293.07,202.78)\" d=\"M3,0A3,3 0 1,1 0,-3A3,3 0 0,1 3,0Z\" style=\"opacity: 1; stroke-width: 0px; fill: rgb(99, 110, 250); fill-opacity: 1;\"/><path class=\"point\" transform=\"translate(307.76,203.33)\" d=\"M3,0A3,3 0 1,1 0,-3A3,3 0 0,1 3,0Z\" style=\"opacity: 1; stroke-width: 0px; fill: rgb(99, 110, 250); fill-opacity: 1;\"/><path class=\"point\" transform=\"translate(322.45,201.26)\" d=\"M3,0A3,3 0 1,1 0,-3A3,3 0 0,1 3,0Z\" style=\"opacity: 1; stroke-width: 0px; fill: rgb(99, 110, 250); fill-opacity: 1;\"/><path class=\"point\" transform=\"translate(337.14,200.93)\" d=\"M3,0A3,3 0 1,1 0,-3A3,3 0 0,1 3,0Z\" style=\"opacity: 1; stroke-width: 0px; fill: rgb(99, 110, 250); fill-opacity: 1;\"/><path class=\"point\" transform=\"translate(351.83,206.76)\" d=\"M3,0A3,3 0 1,1 0,-3A3,3 0 0,1 3,0Z\" style=\"opacity: 1; stroke-width: 0px; fill: rgb(99, 110, 250); fill-opacity: 1;\"/><path class=\"point\" transform=\"translate(366.52,204)\" d=\"M3,0A3,3 0 1,1 0,-3A3,3 0 0,1 3,0Z\" style=\"opacity: 1; stroke-width: 0px; fill: rgb(99, 110, 250); fill-opacity: 1;\"/><path class=\"point\" transform=\"translate(381.21,203.94)\" d=\"M3,0A3,3 0 1,1 0,-3A3,3 0 0,1 3,0Z\" style=\"opacity: 1; stroke-width: 0px; fill: rgb(99, 110, 250); fill-opacity: 1;\"/><path class=\"point\" transform=\"translate(395.9,199.19)\" d=\"M3,0A3,3 0 1,1 0,-3A3,3 0 0,1 3,0Z\" style=\"opacity: 1; stroke-width: 0px; fill: rgb(99, 110, 250); fill-opacity: 1;\"/><path class=\"point\" transform=\"translate(410.59,190.54)\" d=\"M3,0A3,3 0 1,1 0,-3A3,3 0 0,1 3,0Z\" style=\"opacity: 1; stroke-width: 0px; fill: rgb(99, 110, 250); fill-opacity: 1;\"/><path class=\"point\" transform=\"translate(425.28,192.3)\" d=\"M3,0A3,3 0 1,1 0,-3A3,3 0 0,1 3,0Z\" style=\"opacity: 1; stroke-width: 0px; fill: rgb(99, 110, 250); fill-opacity: 1;\"/><path class=\"point\" transform=\"translate(439.97,178.08)\" d=\"M3,0A3,3 0 1,1 0,-3A3,3 0 0,1 3,0Z\" style=\"opacity: 1; stroke-width: 0px; fill: rgb(99, 110, 250); fill-opacity: 1;\"/><path class=\"point\" transform=\"translate(454.66,177.63)\" d=\"M3,0A3,3 0 1,1 0,-3A3,3 0 0,1 3,0Z\" style=\"opacity: 1; stroke-width: 0px; fill: rgb(99, 110, 250); fill-opacity: 1;\"/><path class=\"point\" transform=\"translate(469.35,179.83)\" d=\"M3,0A3,3 0 1,1 0,-3A3,3 0 0,1 3,0Z\" style=\"opacity: 1; stroke-width: 0px; fill: rgb(99, 110, 250); fill-opacity: 1;\"/></g><g class=\"text\"/></g><g class=\"trace scatter traceb532f4\" style=\"stroke-miterlimit: 2; opacity: 1;\"><g class=\"fills\"/><g class=\"errorbars\"/><g class=\"lines\"><path class=\"js-line\" d=\"M28.65,295.29Q36.64,255.72 43.34,244.4C47.53,237.32 52.64,232.32 58.03,229.79C62.58,227.65 68.38,226.24 72.72,228.38C78.67,231.32 82.69,252.2 87.41,252C92.51,251.78 96.91,231.93 102.1,223.16C106.76,215.28 111.27,206.85 116.79,201.56C121.28,197.26 126.41,193.27 131.48,192.45C136.22,191.68 141.48,193.8 146.17,195.96C151.31,198.32 155.81,203.68 160.86,206.6C165.62,209.35 170.55,211.77 175.55,213.16C180.35,214.5 185.36,214.19 190.24,214.98C195.15,215.77 200.04,217.98 204.93,217.92C209.83,217.86 215.17,217.44 219.62,214.62C225.22,211.08 228.73,199.57 234.31,195.84C238.77,192.86 244.07,192.05 249,191.75C253.86,191.45 258.78,193.64 263.69,193.95C268.57,194.26 274.29,197.42 278.38,193.64C291.32,181.69 280.68,54.86 293.07,47.5C297.15,45.08 302.78,53.08 307.76,53.69C312.57,54.28 317.72,50.43 322.45,51.38C327.54,52.4 332.07,58.34 337.14,60.42C341.88,62.36 346.99,62.29 351.83,63.79C356.79,65.33 361.56,68.11 366.52,69.59C371.36,71.03 376.36,71.29 381.21,72.62C386.15,73.98 390.93,76.78 395.9,77.69C400.73,78.57 406.02,76.25 410.59,78.13C415.93,80.32 419.98,90.4 425.28,91.79C429.88,92.99 435.04,88.72 439.97,88.24C444.83,87.77 449.8,88.14 454.66,88.87Q459.6,89.61 469.35,92.69\" style=\"vector-effect: non-scaling-stroke; fill: none; stroke: rgb(239, 85, 59); stroke-opacity: 1; stroke-width: 2px; opacity: 1;\"/></g><g class=\"points\"><path class=\"point\" transform=\"translate(28.65,295.29)\" d=\"M3,0A3,3 0 1,1 0,-3A3,3 0 0,1 3,0Z\" style=\"opacity: 1; stroke-width: 0px; fill: rgb(239, 85, 59); fill-opacity: 1;\"/><path class=\"point\" transform=\"translate(43.34,244.4)\" d=\"M3,0A3,3 0 1,1 0,-3A3,3 0 0,1 3,0Z\" style=\"opacity: 1; stroke-width: 0px; fill: rgb(239, 85, 59); fill-opacity: 1;\"/><path class=\"point\" transform=\"translate(58.03,229.79)\" d=\"M3,0A3,3 0 1,1 0,-3A3,3 0 0,1 3,0Z\" style=\"opacity: 1; stroke-width: 0px; fill: rgb(239, 85, 59); fill-opacity: 1;\"/><path class=\"point\" transform=\"translate(72.72,228.38)\" d=\"M3,0A3,3 0 1,1 0,-3A3,3 0 0,1 3,0Z\" style=\"opacity: 1; stroke-width: 0px; fill: rgb(239, 85, 59); fill-opacity: 1;\"/><path class=\"point\" transform=\"translate(87.41,252)\" d=\"M3,0A3,3 0 1,1 0,-3A3,3 0 0,1 3,0Z\" style=\"opacity: 1; stroke-width: 0px; fill: rgb(239, 85, 59); fill-opacity: 1;\"/><path class=\"point\" transform=\"translate(102.1,223.16)\" d=\"M3,0A3,3 0 1,1 0,-3A3,3 0 0,1 3,0Z\" style=\"opacity: 1; stroke-width: 0px; fill: rgb(239, 85, 59); fill-opacity: 1;\"/><path class=\"point\" transform=\"translate(116.79,201.56)\" d=\"M3,0A3,3 0 1,1 0,-3A3,3 0 0,1 3,0Z\" style=\"opacity: 1; stroke-width: 0px; fill: rgb(239, 85, 59); fill-opacity: 1;\"/><path class=\"point\" transform=\"translate(131.48,192.45)\" d=\"M3,0A3,3 0 1,1 0,-3A3,3 0 0,1 3,0Z\" style=\"opacity: 1; stroke-width: 0px; fill: rgb(239, 85, 59); fill-opacity: 1;\"/><path class=\"point\" transform=\"translate(146.17,195.96)\" d=\"M3,0A3,3 0 1,1 0,-3A3,3 0 0,1 3,0Z\" style=\"opacity: 1; stroke-width: 0px; fill: rgb(239, 85, 59); fill-opacity: 1;\"/><path class=\"point\" transform=\"translate(160.86,206.6)\" d=\"M3,0A3,3 0 1,1 0,-3A3,3 0 0,1 3,0Z\" style=\"opacity: 1; stroke-width: 0px; fill: rgb(239, 85, 59); fill-opacity: 1;\"/><path class=\"point\" transform=\"translate(175.55,213.16)\" d=\"M3,0A3,3 0 1,1 0,-3A3,3 0 0,1 3,0Z\" style=\"opacity: 1; stroke-width: 0px; fill: rgb(239, 85, 59); fill-opacity: 1;\"/><path class=\"point\" transform=\"translate(190.24,214.98)\" d=\"M3,0A3,3 0 1,1 0,-3A3,3 0 0,1 3,0Z\" style=\"opacity: 1; stroke-width: 0px; fill: rgb(239, 85, 59); fill-opacity: 1;\"/><path class=\"point\" transform=\"translate(204.93,217.92)\" d=\"M3,0A3,3 0 1,1 0,-3A3,3 0 0,1 3,0Z\" style=\"opacity: 1; stroke-width: 0px; fill: rgb(239, 85, 59); fill-opacity: 1;\"/><path class=\"point\" transform=\"translate(219.62,214.62)\" d=\"M3,0A3,3 0 1,1 0,-3A3,3 0 0,1 3,0Z\" style=\"opacity: 1; stroke-width: 0px; fill: rgb(239, 85, 59); fill-opacity: 1;\"/><path class=\"point\" transform=\"translate(234.31,195.84)\" d=\"M3,0A3,3 0 1,1 0,-3A3,3 0 0,1 3,0Z\" style=\"opacity: 1; stroke-width: 0px; fill: rgb(239, 85, 59); fill-opacity: 1;\"/><path class=\"point\" transform=\"translate(249,191.75)\" d=\"M3,0A3,3 0 1,1 0,-3A3,3 0 0,1 3,0Z\" style=\"opacity: 1; stroke-width: 0px; fill: rgb(239, 85, 59); fill-opacity: 1;\"/><path class=\"point\" transform=\"translate(263.69,193.95)\" d=\"M3,0A3,3 0 1,1 0,-3A3,3 0 0,1 3,0Z\" style=\"opacity: 1; stroke-width: 0px; fill: rgb(239, 85, 59); fill-opacity: 1;\"/><path class=\"point\" transform=\"translate(278.38,193.64)\" d=\"M3,0A3,3 0 1,1 0,-3A3,3 0 0,1 3,0Z\" style=\"opacity: 1; stroke-width: 0px; fill: rgb(239, 85, 59); fill-opacity: 1;\"/><path class=\"point\" transform=\"translate(293.07,47.5)\" d=\"M3,0A3,3 0 1,1 0,-3A3,3 0 0,1 3,0Z\" style=\"opacity: 1; stroke-width: 0px; fill: rgb(239, 85, 59); fill-opacity: 1;\"/><path class=\"point\" transform=\"translate(307.76,53.69)\" d=\"M3,0A3,3 0 1,1 0,-3A3,3 0 0,1 3,0Z\" style=\"opacity: 1; stroke-width: 0px; fill: rgb(239, 85, 59); fill-opacity: 1;\"/><path class=\"point\" transform=\"translate(322.45,51.38)\" d=\"M3,0A3,3 0 1,1 0,-3A3,3 0 0,1 3,0Z\" style=\"opacity: 1; stroke-width: 0px; fill: rgb(239, 85, 59); fill-opacity: 1;\"/><path class=\"point\" transform=\"translate(337.14,60.42)\" d=\"M3,0A3,3 0 1,1 0,-3A3,3 0 0,1 3,0Z\" style=\"opacity: 1; stroke-width: 0px; fill: rgb(239, 85, 59); fill-opacity: 1;\"/><path class=\"point\" transform=\"translate(351.83,63.79)\" d=\"M3,0A3,3 0 1,1 0,-3A3,3 0 0,1 3,0Z\" style=\"opacity: 1; stroke-width: 0px; fill: rgb(239, 85, 59); fill-opacity: 1;\"/><path class=\"point\" transform=\"translate(366.52,69.59)\" d=\"M3,0A3,3 0 1,1 0,-3A3,3 0 0,1 3,0Z\" style=\"opacity: 1; stroke-width: 0px; fill: rgb(239, 85, 59); fill-opacity: 1;\"/><path class=\"point\" transform=\"translate(381.21,72.62)\" d=\"M3,0A3,3 0 1,1 0,-3A3,3 0 0,1 3,0Z\" style=\"opacity: 1; stroke-width: 0px; fill: rgb(239, 85, 59); fill-opacity: 1;\"/><path class=\"point\" transform=\"translate(395.9,77.69)\" d=\"M3,0A3,3 0 1,1 0,-3A3,3 0 0,1 3,0Z\" style=\"opacity: 1; stroke-width: 0px; fill: rgb(239, 85, 59); fill-opacity: 1;\"/><path class=\"point\" transform=\"translate(410.59,78.13)\" d=\"M3,0A3,3 0 1,1 0,-3A3,3 0 0,1 3,0Z\" style=\"opacity: 1; stroke-width: 0px; fill: rgb(239, 85, 59); fill-opacity: 1;\"/><path class=\"point\" transform=\"translate(425.28,91.79)\" d=\"M3,0A3,3 0 1,1 0,-3A3,3 0 0,1 3,0Z\" style=\"opacity: 1; stroke-width: 0px; fill: rgb(239, 85, 59); fill-opacity: 1;\"/><path class=\"point\" transform=\"translate(439.97,88.24)\" d=\"M3,0A3,3 0 1,1 0,-3A3,3 0 0,1 3,0Z\" style=\"opacity: 1; stroke-width: 0px; fill: rgb(239, 85, 59); fill-opacity: 1;\"/><path class=\"point\" transform=\"translate(454.66,88.87)\" d=\"M3,0A3,3 0 1,1 0,-3A3,3 0 0,1 3,0Z\" style=\"opacity: 1; stroke-width: 0px; fill: rgb(239, 85, 59); fill-opacity: 1;\"/><path class=\"point\" transform=\"translate(469.35,92.69)\" d=\"M3,0A3,3 0 1,1 0,-3A3,3 0 0,1 3,0Z\" style=\"opacity: 1; stroke-width: 0px; fill: rgb(239, 85, 59); fill-opacity: 1;\"/></g><g class=\"text\"/></g></g></g><g class=\"overplot\"/><path class=\"xlines-above crisp\" d=\"M0,0\" style=\"fill: none;\"/><path class=\"ylines-above crisp\" d=\"M0,0\" style=\"fill: none;\"/><g class=\"overlines-above\"/><g class=\"xaxislayer-above\"><g class=\"xtick\"><text text-anchor=\"middle\" x=\"0\" y=\"433\" transform=\"translate(152.72,0)\" style=\"font-family: 'Open Sans', verdana, arial, sans-serif; font-size: 12px; fill: rgb(242, 245, 250); fill-opacity: 1; white-space: pre; opacity: 1;\"><tspan class=\"line\" dy=\"0em\" x=\"0\" y=\"433\">Aug 4</tspan><tspan class=\"line\" dy=\"1.3em\" x=\"0\" y=\"433\">2019</tspan></text></g><g class=\"xtick\"><text text-anchor=\"middle\" x=\"0\" y=\"433\" style=\"font-family: 'Open Sans', verdana, arial, sans-serif; font-size: 12px; fill: rgb(242, 245, 250); fill-opacity: 1; white-space: pre; opacity: 1;\" transform=\"translate(255.55,0)\">Aug 11</text></g><g class=\"xtick\"><text text-anchor=\"middle\" x=\"0\" y=\"433\" style=\"font-family: 'Open Sans', verdana, arial, sans-serif; font-size: 12px; fill: rgb(242, 245, 250); fill-opacity: 1; white-space: pre; opacity: 1;\" transform=\"translate(358.38,0)\">Aug 18</text></g><g class=\"xtick\"><text text-anchor=\"middle\" x=\"0\" y=\"433\" style=\"font-family: 'Open Sans', verdana, arial, sans-serif; font-size: 12px; fill: rgb(242, 245, 250); fill-opacity: 1; white-space: pre; opacity: 1;\" transform=\"translate(461.21,0)\">Aug 25</text></g><g class=\"xtick\"><text text-anchor=\"middle\" x=\"0\" y=\"433\" style=\"font-family: 'Open Sans', verdana, arial, sans-serif; font-size: 12px; fill: rgb(242, 245, 250); fill-opacity: 1; white-space: pre; opacity: 1;\" transform=\"translate(564.04,0)\">Sep 1</text></g></g><g class=\"yaxislayer-above\"><g class=\"ytick\"><text text-anchor=\"end\" x=\"79\" y=\"4.199999999999999\" transform=\"translate(0,387.01)\" style=\"font-family: 'Open Sans', verdana, arial, sans-serif; font-size: 12px; fill: rgb(242, 245, 250); fill-opacity: 1; white-space: pre; opacity: 1;\">5k</text></g><g class=\"ytick\"><text text-anchor=\"end\" x=\"79\" y=\"4.199999999999999\" style=\"font-family: 'Open Sans', verdana, arial, sans-serif; font-size: 12px; fill: rgb(242, 245, 250); fill-opacity: 1; white-space: pre; opacity: 1;\" transform=\"translate(0,341.08000000000004)\">6k</text></g><g class=\"ytick\"><text text-anchor=\"end\" x=\"79\" y=\"4.199999999999999\" style=\"font-family: 'Open Sans', verdana, arial, sans-serif; font-size: 12px; fill: rgb(242, 245, 250); fill-opacity: 1; white-space: pre; opacity: 1;\" transform=\"translate(0,295.15)\">7k</text></g><g class=\"ytick\"><text text-anchor=\"end\" x=\"79\" y=\"4.199999999999999\" style=\"font-family: 'Open Sans', verdana, arial, sans-serif; font-size: 12px; fill: rgb(242, 245, 250); fill-opacity: 1; white-space: pre; opacity: 1;\" transform=\"translate(0,249.22)\">8k</text></g><g class=\"ytick\"><text text-anchor=\"end\" x=\"79\" y=\"4.199999999999999\" style=\"font-family: 'Open Sans', verdana, arial, sans-serif; font-size: 12px; fill: rgb(242, 245, 250); fill-opacity: 1; white-space: pre; opacity: 1;\" transform=\"translate(0,203.29000000000002)\">9k</text></g><g class=\"ytick\"><text text-anchor=\"end\" x=\"79\" y=\"4.199999999999999\" style=\"font-family: 'Open Sans', verdana, arial, sans-serif; font-size: 12px; fill: rgb(242, 245, 250); fill-opacity: 1; white-space: pre; opacity: 1;\" transform=\"translate(0,157.36)\">10k</text></g><g class=\"ytick\"><text text-anchor=\"end\" x=\"79\" y=\"4.199999999999999\" style=\"font-family: 'Open Sans', verdana, arial, sans-serif; font-size: 12px; fill: rgb(242, 245, 250); fill-opacity: 1; white-space: pre; opacity: 1;\" transform=\"translate(0,111.43)\">11k</text></g></g><g class=\"overaxes-above\"/></g></g><g class=\"polarlayer\"/><g class=\"smithlayer\"/><g class=\"ternarylayer\"/><g class=\"geolayer\"/><g class=\"funnelarealayer\"/><g class=\"pielayer\"/><g class=\"iciclelayer\"/><g class=\"treemaplayer\"/><g class=\"sunburstlayer\"/><g class=\"glimages\"/><defs id=\"topdefs-87e73f\"><g class=\"clips\"/><clipPath id=\"legend87e73f\"><rect width=\"100\" height=\"48\" x=\"0\" y=\"0\"/></clipPath></defs><g class=\"layer-above\"><g class=\"imagelayer\"/><g class=\"shapelayer\"/></g><g class=\"infolayer\"><g class=\"legend\" pointer-events=\"all\" transform=\"translate(587.96,100)\"><rect class=\"bg\" shape-rendering=\"crispEdges\" style=\"stroke: rgb(68, 68, 68); stroke-opacity: 1; fill: rgb(17, 17, 17); fill-opacity: 1; stroke-width: 0px;\" width=\"100\" height=\"48\" x=\"0\" y=\"0\"/><g class=\"scrollbox\" transform=\"\" clip-path=\"url(#legend87e73f)\"><g class=\"groups\" transform=\"\"><g class=\"traces\" transform=\"translate(0,14.5)\" style=\"opacity: 1;\"><text class=\"legendtext\" text-anchor=\"start\" x=\"40\" y=\"4.680000000000001\" style=\"font-family: 'Open Sans', verdana, arial, sans-serif; font-size: 12px; fill: rgb(242, 245, 250); fill-opacity: 1; white-space: pre;\">Ср.чек А</text><g class=\"layers\" style=\"opacity: 1;\"><g class=\"legendfill\"/><g class=\"legendlines\"><path class=\"js-line\" d=\"M5,0h30\" style=\"fill: none; stroke: rgb(99, 110, 250); stroke-opacity: 1; stroke-width: 2px;\"/></g><g class=\"legendsymbols\"><g class=\"legendpoints\"><path class=\"scatterpts\" transform=\"translate(20,0)\" d=\"M3,0A3,3 0 1,1 0,-3A3,3 0 0,1 3,0Z\" style=\"opacity: 1; stroke-width: 0px; fill: rgb(99, 110, 250); fill-opacity: 1;\"/></g></g></g><rect class=\"legendtoggle\" x=\"0\" y=\"-9.5\" width=\"94.96875\" height=\"19\" style=\"fill: rgb(0, 0, 0); fill-opacity: 0;\"/></g></g><g class=\"groups\" transform=\"\"><g class=\"traces\" transform=\"translate(0,33.5)\" style=\"opacity: 1;\"><text class=\"legendtext\" text-anchor=\"start\" x=\"40\" y=\"4.680000000000001\" style=\"font-family: 'Open Sans', verdana, arial, sans-serif; font-size: 12px; fill: rgb(242, 245, 250); fill-opacity: 1; white-space: pre;\">Ср.чек B</text><g class=\"layers\" style=\"opacity: 1;\"><g class=\"legendfill\"/><g class=\"legendlines\"><path class=\"js-line\" d=\"M5,0h30\" style=\"fill: none; stroke: rgb(239, 85, 59); stroke-opacity: 1; stroke-width: 2px;\"/></g><g class=\"legendsymbols\"><g class=\"legendpoints\"><path class=\"scatterpts\" transform=\"translate(20,0)\" d=\"M3,0A3,3 0 1,1 0,-3A3,3 0 0,1 3,0Z\" style=\"opacity: 1; stroke-width: 0px; fill: rgb(239, 85, 59); fill-opacity: 1;\"/></g></g></g><rect class=\"legendtoggle\" x=\"0\" y=\"-9.5\" width=\"94.96875\" height=\"19\" style=\"fill: rgb(0, 0, 0); fill-opacity: 0;\"/></g></g></g><rect class=\"scrollbar\" rx=\"20\" ry=\"3\" width=\"0\" height=\"0\" style=\"fill: rgb(128, 139, 164); fill-opacity: 1;\" x=\"0\" y=\"0\"/></g><g class=\"g-gtitle\"><text class=\"gtitle\" x=\"35\" y=\"50\" text-anchor=\"start\" dy=\"0em\" style=\"font-family: 'Open Sans', verdana, arial, sans-serif; font-size: 17px; fill: rgb(242, 245, 250); opacity: 1; font-weight: normal; white-space: pre;\">Кумулятивный средний чек по дням</text></g><g class=\"g-xtitle\"><text class=\"xtitle\" x=\"329\" y=\"476.409375\" text-anchor=\"middle\" style=\"font-family: 'Open Sans', verdana, arial, sans-serif; font-size: 14px; fill: rgb(242, 245, 250); opacity: 1; font-weight: normal; white-space: pre;\">Дата</text></g><g class=\"g-ytitle\"><text class=\"ytitle\" transform=\"rotate(-90,31.840625000000003,260)\" x=\"31.840625000000003\" y=\"260\" text-anchor=\"middle\" style=\"font-family: 'Open Sans', verdana, arial, sans-serif; font-size: 14px; fill: rgb(242, 245, 250); opacity: 1; font-weight: normal; white-space: pre;\">Средний чек</text></g><g class=\"annotation\" data-index=\"0\" style=\"opacity: 1;\"><g class=\"annotation-text-g\" transform=\"rotate(0,363.07,109.5)\"><g class=\"cursor-pointer\" transform=\"translate(309,100)\"><rect class=\"bg\" x=\"0.5\" y=\"0.5\" width=\"108\" height=\"18\" style=\"stroke-width: 1px; stroke: rgb(0, 0, 0); stroke-opacity: 0; fill: rgb(0, 0, 0); fill-opacity: 0;\"/><text class=\"annotation-text\" text-anchor=\"middle\" x=\"54.875\" y=\"14\" style=\"font-family: 'Open Sans', verdana, arial, sans-serif; font-size: 12px; fill: rgb(242, 245, 250); fill-opacity: 1; white-space: pre;\">А вот и снова он</text></g></g><g class=\"annotation-arrow-g\" style=\"opacity: 1;\"><path d=\"M366.07,118.5L373.07,139.5\" style=\"stroke-width: 1px; stroke: rgb(242, 245, 250); stroke-opacity: 1; stroke-dasharray: 0px, 0px, 22.1359px, 22.1359px;\"/></g></g></g></svg>"
      ]
     },
     "metadata": {},
     "output_type": "display_data"
    }
   ],
   "source": [
    "#строим график\n",
    "fig = px.line(totalFrame, \n",
    "        x='date', \n",
    "        y=['averageCheckA','averageCheckB'],\n",
    "        markers=True,\n",
    "        title='Кумулятивный средний чек по дням',\n",
    "        line_shape='spline',\n",
    "        labels={'date':'Дата','value':'Средний чек', 'variable':''},\n",
    "        template='plotly_dark')\n",
    "fig.data[0].name = 'Ср.чек А'\n",
    "fig.data[1].name = 'Ср.чек B'\n",
    "fig.add_annotation(x='2019-08-19', y=10214.741935,\n",
    "            text=\"А вот и снова он\",\n",
    "            showarrow=True,\n",
    "            yshift=8)\n",
    "fig.show(\"svg\")"
   ]
  },
  {
   "cell_type": "markdown",
   "metadata": {},
   "source": [
    "**Вывод**\n",
    "\n",
    "Вплоть до 18 августа графики среднего чека не могут \"устаканиться\". После 18-го, кажется, они должны были стабилизироваться, но та крупная покупка 19 августа в группе B проявляет себя и смещает весь график. Какой-то вывод относительного того, есть ли изменения среднего чека по группам, на данный момент сделать сложно. "
   ]
  },
  {
   "cell_type": "markdown",
   "metadata": {},
   "source": [
    "### Относительное изменение кумулятивного среднего чека"
   ]
  },
  {
   "cell_type": "code",
   "execution_count": 34,
   "metadata": {},
   "outputs": [
    {
     "data": {
      "image/svg+xml": [
       "<svg class=\"main-svg\" xmlns=\"http://www.w3.org/2000/svg\" xmlns:xlink=\"http://www.w3.org/1999/xlink\" width=\"700\" height=\"450\" style=\"\" viewBox=\"0 0 700 450\"><rect x=\"0\" y=\"0\" width=\"700\" height=\"450\" style=\"fill: rgb(17, 17, 17); fill-opacity: 1;\"/><defs id=\"defs-3f697c\"><g class=\"clips\"><clipPath id=\"clip3f697cxyplot\" class=\"plotclip\"><rect width=\"540\" height=\"270\"/></clipPath><clipPath class=\"axesclip\" id=\"clip3f697cx\"><rect x=\"80\" y=\"0\" width=\"540\" height=\"450\"/></clipPath><clipPath class=\"axesclip\" id=\"clip3f697cy\"><rect x=\"0\" y=\"100\" width=\"700\" height=\"270\"/></clipPath><clipPath class=\"axesclip\" id=\"clip3f697cxy\"><rect x=\"80\" y=\"100\" width=\"540\" height=\"270\"/></clipPath></g><g class=\"gradients\"/><g class=\"patterns\"/></defs><g class=\"bglayer\"/><g class=\"layer-below\"><g class=\"imagelayer\"/><g class=\"shapelayer\"/></g><g class=\"cartesianlayer\"><g class=\"subplot xy\"><g class=\"layer-subplot\"><g class=\"shapelayer\"/><g class=\"imagelayer\"/></g><g class=\"gridlayer\"><g class=\"x\"><path class=\"xgrid crisp\" transform=\"translate(134,0)\" d=\"M0,100v270\" style=\"stroke: rgb(40, 52, 66); stroke-opacity: 1; stroke-width: 1px;\"/><path class=\"xgrid crisp\" transform=\"translate(260,0)\" d=\"M0,100v270\" style=\"stroke: rgb(40, 52, 66); stroke-opacity: 1; stroke-width: 1px;\"/><path class=\"xgrid crisp\" transform=\"translate(386,0)\" d=\"M0,100v270\" style=\"stroke: rgb(40, 52, 66); stroke-opacity: 1; stroke-width: 1px;\"/><path class=\"xgrid crisp\" transform=\"translate(512,0)\" d=\"M0,100v270\" style=\"stroke: rgb(40, 52, 66); stroke-opacity: 1; stroke-width: 1px;\"/></g><g class=\"y\"><path class=\"ygrid crisp\" transform=\"translate(0,349.22)\" d=\"M80,0h540\" style=\"stroke: rgb(40, 52, 66); stroke-opacity: 1; stroke-width: 1px;\"/><path class=\"ygrid crisp\" transform=\"translate(0,213.49)\" d=\"M80,0h540\" style=\"stroke: rgb(40, 52, 66); stroke-opacity: 1; stroke-width: 1px;\"/><path class=\"ygrid crisp\" transform=\"translate(0,145.63)\" d=\"M80,0h540\" style=\"stroke: rgb(40, 52, 66); stroke-opacity: 1; stroke-width: 1px;\"/></g></g><g class=\"zerolinelayer\"><path class=\"yzl zl crisp\" transform=\"translate(0,281.36)\" d=\"M80,0h540\" style=\"stroke: rgb(40, 52, 66); stroke-opacity: 1; stroke-width: 2px;\"/></g><path class=\"xlines-below\"/><path class=\"ylines-below\"/><g class=\"overlines-below\"/><g class=\"xaxislayer-below\"/><g class=\"yaxislayer-below\"/><g class=\"overaxes-below\"/><g class=\"plot\" transform=\"translate(80,100)\" clip-path=\"url(#clip3f697cxyplot)\"><g class=\"scatterlayer mlayer\"><g class=\"trace scatter traced56e0a\" style=\"stroke-miterlimit: 2; opacity: 1;\"><g class=\"fills\"/><g class=\"errorbars\"/><g class=\"lines\"><path class=\"js-line\" d=\"M0,256.5L18,155.57L36,114.58L54,100.43L72,133.12L90,60.49L108,65.03L126,60.01L144,111.78L162,163.01L180,169.08L198,192.68L216,225.84L234,204.41L252,181.75L270,173.13L288,172.53L306,165.23L324,13.5L342,19.3L360,20.12L378,30.35L396,24.82L414,35.49L432,38.87L486,76.21L504,91.32L540,93.57\" style=\"vector-effect: non-scaling-stroke; fill: none; stroke: rgb(99, 110, 250); stroke-opacity: 1; stroke-width: 2px; opacity: 1;\"/></g><g class=\"points\"/><g class=\"text\"/></g></g></g><g class=\"overplot\"/><path class=\"xlines-above crisp\" d=\"M0,0\" style=\"fill: none;\"/><path class=\"ylines-above crisp\" d=\"M0,0\" style=\"fill: none;\"/><g class=\"overlines-above\"/><g class=\"xaxislayer-above\"><g class=\"xtick\"><text text-anchor=\"middle\" x=\"0\" y=\"383\" transform=\"translate(134,0)\" style=\"font-family: 'Open Sans', verdana, arial, sans-serif; font-size: 12px; fill: rgb(242, 245, 250); fill-opacity: 1; white-space: pre; opacity: 1;\"><tspan class=\"line\" dy=\"0em\" x=\"0\" y=\"383\">Aug 4</tspan><tspan class=\"line\" dy=\"1.3em\" x=\"0\" y=\"383\">2019</tspan></text></g><g class=\"xtick\"><text text-anchor=\"middle\" x=\"0\" y=\"383\" style=\"font-family: 'Open Sans', verdana, arial, sans-serif; font-size: 12px; fill: rgb(242, 245, 250); fill-opacity: 1; white-space: pre; opacity: 1;\" transform=\"translate(260,0)\">Aug 11</text></g><g class=\"xtick\"><text text-anchor=\"middle\" x=\"0\" y=\"383\" style=\"font-family: 'Open Sans', verdana, arial, sans-serif; font-size: 12px; fill: rgb(242, 245, 250); fill-opacity: 1; white-space: pre; opacity: 1;\" transform=\"translate(386,0)\">Aug 18</text></g><g class=\"xtick\"><text text-anchor=\"middle\" x=\"0\" y=\"383\" style=\"font-family: 'Open Sans', verdana, arial, sans-serif; font-size: 12px; fill: rgb(242, 245, 250); fill-opacity: 1; white-space: pre; opacity: 1;\" transform=\"translate(512,0)\">Aug 25</text></g></g><g class=\"yaxislayer-above\"><g class=\"ytick\"><text text-anchor=\"end\" x=\"79\" y=\"4.199999999999999\" transform=\"translate(0,349.22)\" style=\"font-family: 'Open Sans', verdana, arial, sans-serif; font-size: 12px; fill: rgb(242, 245, 250); fill-opacity: 1; white-space: pre; opacity: 1;\">−0.2</text></g><g class=\"ytick\"><text text-anchor=\"end\" x=\"79\" y=\"4.199999999999999\" style=\"font-family: 'Open Sans', verdana, arial, sans-serif; font-size: 12px; fill: rgb(242, 245, 250); fill-opacity: 1; white-space: pre; opacity: 1;\" transform=\"translate(0,281.36)\">0</text></g><g class=\"ytick\"><text text-anchor=\"end\" x=\"79\" y=\"4.199999999999999\" style=\"font-family: 'Open Sans', verdana, arial, sans-serif; font-size: 12px; fill: rgb(242, 245, 250); fill-opacity: 1; white-space: pre; opacity: 1;\" transform=\"translate(0,213.49)\">0.2</text></g><g class=\"ytick\"><text text-anchor=\"end\" x=\"79\" y=\"4.199999999999999\" style=\"font-family: 'Open Sans', verdana, arial, sans-serif; font-size: 12px; fill: rgb(242, 245, 250); fill-opacity: 1; white-space: pre; opacity: 1;\" transform=\"translate(0,145.63)\">0.4</text></g></g><g class=\"overaxes-above\"/></g></g><g class=\"polarlayer\"/><g class=\"smithlayer\"/><g class=\"ternarylayer\"/><g class=\"geolayer\"/><g class=\"funnelarealayer\"/><g class=\"pielayer\"/><g class=\"iciclelayer\"/><g class=\"treemaplayer\"/><g class=\"sunburstlayer\"/><g class=\"glimages\"/><defs id=\"topdefs-3f697c\"><g class=\"clips\"/></defs><g class=\"layer-above\"><g class=\"imagelayer\"/><g class=\"shapelayer\"/></g><g class=\"infolayer\"><g class=\"g-gtitle\"><text class=\"gtitle\" x=\"35\" y=\"50\" text-anchor=\"start\" dy=\"0em\" style=\"font-family: 'Open Sans', verdana, arial, sans-serif; font-size: 17px; fill: rgb(242, 245, 250); opacity: 1; font-weight: normal; white-space: pre;\">Относительное изменение кумулятивного среднего чека</text></g><g class=\"g-xtitle\"><text class=\"xtitle\" x=\"350\" y=\"426.409375\" text-anchor=\"middle\" style=\"font-family: 'Open Sans', verdana, arial, sans-serif; font-size: 14px; fill: rgb(242, 245, 250); opacity: 1; font-weight: normal; white-space: pre;\">Дата</text></g><g class=\"g-ytitle\"/></g></svg>"
      ]
     },
     "metadata": {},
     "output_type": "display_data"
    }
   ],
   "source": [
    "fig = go.Figure()\n",
    "\n",
    "fig.add_trace(go.Scatter(x=totalFrame['date'],\n",
    "                         y=totalFrame['averageCheckB'] / totalFrame['averageCheckA'] - 1))\n",
    "\n",
    "fig.update_layout(\n",
    "\n",
    "    title='Относительное изменение кумулятивного среднего чека',\n",
    "    template='plotly_dark',\n",
    "    xaxis_title='Дата',\n",
    "    height=450\n",
    "    \n",
    ")\n",
    "\n",
    "fig.show(\"svg\")"
   ]
  },
  {
   "cell_type": "markdown",
   "metadata": {},
   "source": [
    "**Вывод**\n",
    "\n",
    "По графику сейчас нельзя сделать вывод относительно того, в какой группе средний чек выше. В отличие от графика по выручке, график среднего чека (и относительного изменения среднего чека) скачет вплоть до 19 августа. Видимо - там есть аномальные значения (и не только 19 августа). "
   ]
  },
  {
   "cell_type": "markdown",
   "metadata": {},
   "source": [
    "### Кумулятивная конверсия по группам"
   ]
  },
  {
   "cell_type": "code",
   "execution_count": 35,
   "metadata": {},
   "outputs": [],
   "source": [
    "#возьмем из таблицы с визитами отдельно посещения по группе А и В \n",
    "visitorsA = visits.query('group == \"A\"')[['date','visitors']].rename(columns={'visitors':'visitorsA'}).reset_index(drop=True)\n",
    "visitorsB = visits.query('group == \"B\"')[['date','visitors']].rename(columns={'visitors':'visitorsB'}).reset_index(drop=True)"
   ]
  },
  {
   "cell_type": "code",
   "execution_count": 36,
   "metadata": {},
   "outputs": [],
   "source": [
    "#добавим их в общий фрейм\n",
    "totalFrame = totalFrame.merge(visitorsA, on='date').merge(visitorsB, on='date')"
   ]
  },
  {
   "cell_type": "code",
   "execution_count": 37,
   "metadata": {},
   "outputs": [],
   "source": [
    "#посчитаем количество посетителей кумулятивно\n",
    "totalFrame['visitorsA']= totalFrame['visitorsA'].cumsum()\n",
    "totalFrame['visitorsB']= totalFrame['visitorsB'].cumsum()"
   ]
  },
  {
   "cell_type": "code",
   "execution_count": 38,
   "metadata": {},
   "outputs": [],
   "source": [
    "#рассчитаем кумулятивную конверсию по группам\n",
    "totalFrame['conversionA'] = totalFrame['ordersA'] / totalFrame['visitorsA']\n",
    "totalFrame['conversionB'] = totalFrame['ordersB'] / totalFrame['visitorsB']"
   ]
  },
  {
   "cell_type": "code",
   "execution_count": 39,
   "metadata": {},
   "outputs": [
    {
     "data": {
      "image/svg+xml": [
       "<svg class=\"main-svg\" xmlns=\"http://www.w3.org/2000/svg\" xmlns:xlink=\"http://www.w3.org/1999/xlink\" width=\"700\" height=\"450\" style=\"\" viewBox=\"0 0 700 450\"><rect x=\"0\" y=\"0\" width=\"700\" height=\"450\" style=\"fill: rgb(17, 17, 17); fill-opacity: 1;\"/><defs id=\"defs-272223\"><g class=\"clips\"><clipPath id=\"clip272223xyplot\" class=\"plotclip\"><rect width=\"474\" height=\"270\"/></clipPath><clipPath class=\"axesclip\" id=\"clip272223x\"><rect x=\"80\" y=\"0\" width=\"474\" height=\"450\"/></clipPath><clipPath class=\"axesclip\" id=\"clip272223y\"><rect x=\"0\" y=\"100\" width=\"700\" height=\"270\"/></clipPath><clipPath class=\"axesclip\" id=\"clip272223xy\"><rect x=\"80\" y=\"100\" width=\"474\" height=\"270\"/></clipPath></g><g class=\"gradients\"/><g class=\"patterns\"/></defs><g class=\"bglayer\"/><g class=\"layer-below\"><g class=\"imagelayer\"/><g class=\"shapelayer\"/></g><g class=\"cartesianlayer\"><g class=\"subplot xy\"><g class=\"layer-subplot\"><g class=\"shapelayer\"/><g class=\"imagelayer\"/></g><g class=\"gridlayer\"><g class=\"x\"><path class=\"xgrid crisp\" transform=\"translate(149.36,0)\" d=\"M0,100v270\" style=\"stroke: rgb(40, 52, 66); stroke-opacity: 1; stroke-width: 1px;\"/><path class=\"xgrid crisp\" transform=\"translate(247.15,0)\" d=\"M0,100v270\" style=\"stroke: rgb(40, 52, 66); stroke-opacity: 1; stroke-width: 1px;\"/><path class=\"xgrid crisp\" transform=\"translate(344.94,0)\" d=\"M0,100v270\" style=\"stroke: rgb(40, 52, 66); stroke-opacity: 1; stroke-width: 1px;\"/><path class=\"xgrid crisp\" transform=\"translate(442.73,0)\" d=\"M0,100v270\" style=\"stroke: rgb(40, 52, 66); stroke-opacity: 1; stroke-width: 1px;\"/><path class=\"xgrid crisp\" transform=\"translate(540.52,0)\" d=\"M0,100v270\" style=\"stroke: rgb(40, 52, 66); stroke-opacity: 1; stroke-width: 1px;\"/></g><g class=\"y\"><path class=\"ygrid crisp\" transform=\"translate(0,302.5)\" d=\"M80,0h474\" style=\"stroke: rgb(40, 52, 66); stroke-opacity: 1; stroke-width: 1px;\"/><path class=\"ygrid crisp\" transform=\"translate(0,235)\" d=\"M80,0h474\" style=\"stroke: rgb(40, 52, 66); stroke-opacity: 1; stroke-width: 1px;\"/><path class=\"ygrid crisp\" transform=\"translate(0,167.5)\" d=\"M80,0h474\" style=\"stroke: rgb(40, 52, 66); stroke-opacity: 1; stroke-width: 1px;\"/></g></g><g class=\"zerolinelayer\"/><path class=\"xlines-below\"/><path class=\"ylines-below\"/><g class=\"overlines-below\"/><g class=\"xaxislayer-below\"/><g class=\"yaxislayer-below\"/><g class=\"overaxes-below\"/><g class=\"plot\" transform=\"translate(80,100)\" clip-path=\"url(#clip272223xyplot)\"><g class=\"scatterlayer mlayer\"><g class=\"trace scatter trace221769\" style=\"stroke-miterlimit: 2; opacity: 1;\"><g class=\"fills\"/><g class=\"errorbars\"/><g class=\"lines\"><path class=\"js-line\" d=\"M27.45,112.19L41.42,115.53L55.39,88.72L69.36,116.19L83.33,115.75L97.3,122.38L111.27,126.06L139.21,133.48L153.18,129.46L167.15,138.29L181.12,132.55L195.09,139.61L209.06,137.79L223.03,140.28L237,135.28L264.94,138.52L278.91,134.34L292.88,137.28L306.85,135.26L320.82,136.39L334.79,131.03L348.76,129.66L362.73,133.78L376.7,136.27L390.67,133.47L404.64,133.85L418.61,132.08L432.58,133.54L446.55,136.83\" style=\"vector-effect: non-scaling-stroke; fill: none; stroke: rgb(99, 110, 250); stroke-opacity: 1; stroke-width: 2px; opacity: 1;\"/></g><g class=\"points\"><path class=\"point\" transform=\"translate(27.45,112.19)\" d=\"M3,0A3,3 0 1,1 0,-3A3,3 0 0,1 3,0Z\" style=\"opacity: 1; stroke-width: 0px; fill: rgb(99, 110, 250); fill-opacity: 1;\"/><path class=\"point\" transform=\"translate(41.42,115.53)\" d=\"M3,0A3,3 0 1,1 0,-3A3,3 0 0,1 3,0Z\" style=\"opacity: 1; stroke-width: 0px; fill: rgb(99, 110, 250); fill-opacity: 1;\"/><path class=\"point\" transform=\"translate(55.39,88.72)\" d=\"M3,0A3,3 0 1,1 0,-3A3,3 0 0,1 3,0Z\" style=\"opacity: 1; stroke-width: 0px; fill: rgb(99, 110, 250); fill-opacity: 1;\"/><path class=\"point\" transform=\"translate(69.36,116.19)\" d=\"M3,0A3,3 0 1,1 0,-3A3,3 0 0,1 3,0Z\" style=\"opacity: 1; stroke-width: 0px; fill: rgb(99, 110, 250); fill-opacity: 1;\"/><path class=\"point\" transform=\"translate(83.33,115.75)\" d=\"M3,0A3,3 0 1,1 0,-3A3,3 0 0,1 3,0Z\" style=\"opacity: 1; stroke-width: 0px; fill: rgb(99, 110, 250); fill-opacity: 1;\"/><path class=\"point\" transform=\"translate(97.3,122.38)\" d=\"M3,0A3,3 0 1,1 0,-3A3,3 0 0,1 3,0Z\" style=\"opacity: 1; stroke-width: 0px; fill: rgb(99, 110, 250); fill-opacity: 1;\"/><path class=\"point\" transform=\"translate(111.27,126.06)\" d=\"M3,0A3,3 0 1,1 0,-3A3,3 0 0,1 3,0Z\" style=\"opacity: 1; stroke-width: 0px; fill: rgb(99, 110, 250); fill-opacity: 1;\"/><path class=\"point\" transform=\"translate(125.24,130.07)\" d=\"M3,0A3,3 0 1,1 0,-3A3,3 0 0,1 3,0Z\" style=\"opacity: 1; stroke-width: 0px; fill: rgb(99, 110, 250); fill-opacity: 1;\"/><path class=\"point\" transform=\"translate(139.21,133.48)\" d=\"M3,0A3,3 0 1,1 0,-3A3,3 0 0,1 3,0Z\" style=\"opacity: 1; stroke-width: 0px; fill: rgb(99, 110, 250); fill-opacity: 1;\"/><path class=\"point\" transform=\"translate(153.18,129.46)\" d=\"M3,0A3,3 0 1,1 0,-3A3,3 0 0,1 3,0Z\" style=\"opacity: 1; stroke-width: 0px; fill: rgb(99, 110, 250); fill-opacity: 1;\"/><path class=\"point\" transform=\"translate(167.15,138.29)\" d=\"M3,0A3,3 0 1,1 0,-3A3,3 0 0,1 3,0Z\" style=\"opacity: 1; stroke-width: 0px; fill: rgb(99, 110, 250); fill-opacity: 1;\"/><path class=\"point\" transform=\"translate(181.12,132.55)\" d=\"M3,0A3,3 0 1,1 0,-3A3,3 0 0,1 3,0Z\" style=\"opacity: 1; stroke-width: 0px; fill: rgb(99, 110, 250); fill-opacity: 1;\"/><path class=\"point\" transform=\"translate(195.09,139.61)\" d=\"M3,0A3,3 0 1,1 0,-3A3,3 0 0,1 3,0Z\" style=\"opacity: 1; stroke-width: 0px; fill: rgb(99, 110, 250); fill-opacity: 1;\"/><path class=\"point\" transform=\"translate(209.06,137.79)\" d=\"M3,0A3,3 0 1,1 0,-3A3,3 0 0,1 3,0Z\" style=\"opacity: 1; stroke-width: 0px; fill: rgb(99, 110, 250); fill-opacity: 1;\"/><path class=\"point\" transform=\"translate(223.03,140.28)\" d=\"M3,0A3,3 0 1,1 0,-3A3,3 0 0,1 3,0Z\" style=\"opacity: 1; stroke-width: 0px; fill: rgb(99, 110, 250); fill-opacity: 1;\"/><path class=\"point\" transform=\"translate(237,135.28)\" d=\"M3,0A3,3 0 1,1 0,-3A3,3 0 0,1 3,0Z\" style=\"opacity: 1; stroke-width: 0px; fill: rgb(99, 110, 250); fill-opacity: 1;\"/><path class=\"point\" transform=\"translate(250.97,136.79)\" d=\"M3,0A3,3 0 1,1 0,-3A3,3 0 0,1 3,0Z\" style=\"opacity: 1; stroke-width: 0px; fill: rgb(99, 110, 250); fill-opacity: 1;\"/><path class=\"point\" transform=\"translate(264.94,138.52)\" d=\"M3,0A3,3 0 1,1 0,-3A3,3 0 0,1 3,0Z\" style=\"opacity: 1; stroke-width: 0px; fill: rgb(99, 110, 250); fill-opacity: 1;\"/><path class=\"point\" transform=\"translate(278.91,134.34)\" d=\"M3,0A3,3 0 1,1 0,-3A3,3 0 0,1 3,0Z\" style=\"opacity: 1; stroke-width: 0px; fill: rgb(99, 110, 250); fill-opacity: 1;\"/><path class=\"point\" transform=\"translate(292.88,137.28)\" d=\"M3,0A3,3 0 1,1 0,-3A3,3 0 0,1 3,0Z\" style=\"opacity: 1; stroke-width: 0px; fill: rgb(99, 110, 250); fill-opacity: 1;\"/><path class=\"point\" transform=\"translate(306.85,135.26)\" d=\"M3,0A3,3 0 1,1 0,-3A3,3 0 0,1 3,0Z\" style=\"opacity: 1; stroke-width: 0px; fill: rgb(99, 110, 250); fill-opacity: 1;\"/><path class=\"point\" transform=\"translate(320.82,136.39)\" d=\"M3,0A3,3 0 1,1 0,-3A3,3 0 0,1 3,0Z\" style=\"opacity: 1; stroke-width: 0px; fill: rgb(99, 110, 250); fill-opacity: 1;\"/><path class=\"point\" transform=\"translate(334.79,131.03)\" d=\"M3,0A3,3 0 1,1 0,-3A3,3 0 0,1 3,0Z\" style=\"opacity: 1; stroke-width: 0px; fill: rgb(99, 110, 250); fill-opacity: 1;\"/><path class=\"point\" transform=\"translate(348.76,129.66)\" d=\"M3,0A3,3 0 1,1 0,-3A3,3 0 0,1 3,0Z\" style=\"opacity: 1; stroke-width: 0px; fill: rgb(99, 110, 250); fill-opacity: 1;\"/><path class=\"point\" transform=\"translate(362.73,133.78)\" d=\"M3,0A3,3 0 1,1 0,-3A3,3 0 0,1 3,0Z\" style=\"opacity: 1; stroke-width: 0px; fill: rgb(99, 110, 250); fill-opacity: 1;\"/><path class=\"point\" transform=\"translate(376.7,136.27)\" d=\"M3,0A3,3 0 1,1 0,-3A3,3 0 0,1 3,0Z\" style=\"opacity: 1; stroke-width: 0px; fill: rgb(99, 110, 250); fill-opacity: 1;\"/><path class=\"point\" transform=\"translate(390.67,133.47)\" d=\"M3,0A3,3 0 1,1 0,-3A3,3 0 0,1 3,0Z\" style=\"opacity: 1; stroke-width: 0px; fill: rgb(99, 110, 250); fill-opacity: 1;\"/><path class=\"point\" transform=\"translate(404.64,133.85)\" d=\"M3,0A3,3 0 1,1 0,-3A3,3 0 0,1 3,0Z\" style=\"opacity: 1; stroke-width: 0px; fill: rgb(99, 110, 250); fill-opacity: 1;\"/><path class=\"point\" transform=\"translate(418.61,132.08)\" d=\"M3,0A3,3 0 1,1 0,-3A3,3 0 0,1 3,0Z\" style=\"opacity: 1; stroke-width: 0px; fill: rgb(99, 110, 250); fill-opacity: 1;\"/><path class=\"point\" transform=\"translate(432.58,133.54)\" d=\"M3,0A3,3 0 1,1 0,-3A3,3 0 0,1 3,0Z\" style=\"opacity: 1; stroke-width: 0px; fill: rgb(99, 110, 250); fill-opacity: 1;\"/><path class=\"point\" transform=\"translate(446.55,136.83)\" d=\"M3,0A3,3 0 1,1 0,-3A3,3 0 0,1 3,0Z\" style=\"opacity: 1; stroke-width: 0px; fill: rgb(99, 110, 250); fill-opacity: 1;\"/></g><g class=\"text\"/></g><g class=\"trace scatter tracef71adf\" style=\"stroke-miterlimit: 2; opacity: 1;\"><g class=\"fills\"/><g class=\"errorbars\"/><g class=\"lines\"><path class=\"js-line\" d=\"M27.45,138.69L41.42,102.76L55.39,109.13L69.36,132.88L83.33,129.65L97.3,116.22L111.27,115.12L125.24,108.17L139.21,103.28L153.18,92.32L167.15,105.04L181.12,101.19L195.09,106L209.06,107.93L223.03,99.14L237,95.49L250.97,96.2L264.94,106.68L278.91,104.16L292.88,103.81L306.85,108.38L320.82,106.91L334.79,108.66L348.76,107.17L362.73,111.27L376.7,110.26L390.67,113.63L404.64,111.15L418.61,110.31L432.58,107.53L446.55,109.12\" style=\"vector-effect: non-scaling-stroke; fill: none; stroke: rgb(239, 85, 59); stroke-opacity: 1; stroke-width: 2px; opacity: 1;\"/></g><g class=\"points\"><path class=\"point\" transform=\"translate(27.45,138.69)\" d=\"M3,0A3,3 0 1,1 0,-3A3,3 0 0,1 3,0Z\" style=\"opacity: 1; stroke-width: 0px; fill: rgb(239, 85, 59); fill-opacity: 1;\"/><path class=\"point\" transform=\"translate(41.42,102.76)\" d=\"M3,0A3,3 0 1,1 0,-3A3,3 0 0,1 3,0Z\" style=\"opacity: 1; stroke-width: 0px; fill: rgb(239, 85, 59); fill-opacity: 1;\"/><path class=\"point\" transform=\"translate(55.39,109.13)\" d=\"M3,0A3,3 0 1,1 0,-3A3,3 0 0,1 3,0Z\" style=\"opacity: 1; stroke-width: 0px; fill: rgb(239, 85, 59); fill-opacity: 1;\"/><path class=\"point\" transform=\"translate(69.36,132.88)\" d=\"M3,0A3,3 0 1,1 0,-3A3,3 0 0,1 3,0Z\" style=\"opacity: 1; stroke-width: 0px; fill: rgb(239, 85, 59); fill-opacity: 1;\"/><path class=\"point\" transform=\"translate(83.33,129.65)\" d=\"M3,0A3,3 0 1,1 0,-3A3,3 0 0,1 3,0Z\" style=\"opacity: 1; stroke-width: 0px; fill: rgb(239, 85, 59); fill-opacity: 1;\"/><path class=\"point\" transform=\"translate(97.3,116.22)\" d=\"M3,0A3,3 0 1,1 0,-3A3,3 0 0,1 3,0Z\" style=\"opacity: 1; stroke-width: 0px; fill: rgb(239, 85, 59); fill-opacity: 1;\"/><path class=\"point\" transform=\"translate(111.27,115.12)\" d=\"M3,0A3,3 0 1,1 0,-3A3,3 0 0,1 3,0Z\" style=\"opacity: 1; stroke-width: 0px; fill: rgb(239, 85, 59); fill-opacity: 1;\"/><path class=\"point\" transform=\"translate(125.24,108.17)\" d=\"M3,0A3,3 0 1,1 0,-3A3,3 0 0,1 3,0Z\" style=\"opacity: 1; stroke-width: 0px; fill: rgb(239, 85, 59); fill-opacity: 1;\"/><path class=\"point\" transform=\"translate(139.21,103.28)\" d=\"M3,0A3,3 0 1,1 0,-3A3,3 0 0,1 3,0Z\" style=\"opacity: 1; stroke-width: 0px; fill: rgb(239, 85, 59); fill-opacity: 1;\"/><path class=\"point\" transform=\"translate(153.18,92.32)\" d=\"M3,0A3,3 0 1,1 0,-3A3,3 0 0,1 3,0Z\" style=\"opacity: 1; stroke-width: 0px; fill: rgb(239, 85, 59); fill-opacity: 1;\"/><path class=\"point\" transform=\"translate(167.15,105.04)\" d=\"M3,0A3,3 0 1,1 0,-3A3,3 0 0,1 3,0Z\" style=\"opacity: 1; stroke-width: 0px; fill: rgb(239, 85, 59); fill-opacity: 1;\"/><path class=\"point\" transform=\"translate(181.12,101.19)\" d=\"M3,0A3,3 0 1,1 0,-3A3,3 0 0,1 3,0Z\" style=\"opacity: 1; stroke-width: 0px; fill: rgb(239, 85, 59); fill-opacity: 1;\"/><path class=\"point\" transform=\"translate(195.09,106)\" d=\"M3,0A3,3 0 1,1 0,-3A3,3 0 0,1 3,0Z\" style=\"opacity: 1; stroke-width: 0px; fill: rgb(239, 85, 59); fill-opacity: 1;\"/><path class=\"point\" transform=\"translate(209.06,107.93)\" d=\"M3,0A3,3 0 1,1 0,-3A3,3 0 0,1 3,0Z\" style=\"opacity: 1; stroke-width: 0px; fill: rgb(239, 85, 59); fill-opacity: 1;\"/><path class=\"point\" transform=\"translate(223.03,99.14)\" d=\"M3,0A3,3 0 1,1 0,-3A3,3 0 0,1 3,0Z\" style=\"opacity: 1; stroke-width: 0px; fill: rgb(239, 85, 59); fill-opacity: 1;\"/><path class=\"point\" transform=\"translate(237,95.49)\" d=\"M3,0A3,3 0 1,1 0,-3A3,3 0 0,1 3,0Z\" style=\"opacity: 1; stroke-width: 0px; fill: rgb(239, 85, 59); fill-opacity: 1;\"/><path class=\"point\" transform=\"translate(250.97,96.2)\" d=\"M3,0A3,3 0 1,1 0,-3A3,3 0 0,1 3,0Z\" style=\"opacity: 1; stroke-width: 0px; fill: rgb(239, 85, 59); fill-opacity: 1;\"/><path class=\"point\" transform=\"translate(264.94,106.68)\" d=\"M3,0A3,3 0 1,1 0,-3A3,3 0 0,1 3,0Z\" style=\"opacity: 1; stroke-width: 0px; fill: rgb(239, 85, 59); fill-opacity: 1;\"/><path class=\"point\" transform=\"translate(278.91,104.16)\" d=\"M3,0A3,3 0 1,1 0,-3A3,3 0 0,1 3,0Z\" style=\"opacity: 1; stroke-width: 0px; fill: rgb(239, 85, 59); fill-opacity: 1;\"/><path class=\"point\" transform=\"translate(292.88,103.81)\" d=\"M3,0A3,3 0 1,1 0,-3A3,3 0 0,1 3,0Z\" style=\"opacity: 1; stroke-width: 0px; fill: rgb(239, 85, 59); fill-opacity: 1;\"/><path class=\"point\" transform=\"translate(306.85,108.38)\" d=\"M3,0A3,3 0 1,1 0,-3A3,3 0 0,1 3,0Z\" style=\"opacity: 1; stroke-width: 0px; fill: rgb(239, 85, 59); fill-opacity: 1;\"/><path class=\"point\" transform=\"translate(320.82,106.91)\" d=\"M3,0A3,3 0 1,1 0,-3A3,3 0 0,1 3,0Z\" style=\"opacity: 1; stroke-width: 0px; fill: rgb(239, 85, 59); fill-opacity: 1;\"/><path class=\"point\" transform=\"translate(334.79,108.66)\" d=\"M3,0A3,3 0 1,1 0,-3A3,3 0 0,1 3,0Z\" style=\"opacity: 1; stroke-width: 0px; fill: rgb(239, 85, 59); fill-opacity: 1;\"/><path class=\"point\" transform=\"translate(348.76,107.17)\" d=\"M3,0A3,3 0 1,1 0,-3A3,3 0 0,1 3,0Z\" style=\"opacity: 1; stroke-width: 0px; fill: rgb(239, 85, 59); fill-opacity: 1;\"/><path class=\"point\" transform=\"translate(362.73,111.27)\" d=\"M3,0A3,3 0 1,1 0,-3A3,3 0 0,1 3,0Z\" style=\"opacity: 1; stroke-width: 0px; fill: rgb(239, 85, 59); fill-opacity: 1;\"/><path class=\"point\" transform=\"translate(376.7,110.26)\" d=\"M3,0A3,3 0 1,1 0,-3A3,3 0 0,1 3,0Z\" style=\"opacity: 1; stroke-width: 0px; fill: rgb(239, 85, 59); fill-opacity: 1;\"/><path class=\"point\" transform=\"translate(390.67,113.63)\" d=\"M3,0A3,3 0 1,1 0,-3A3,3 0 0,1 3,0Z\" style=\"opacity: 1; stroke-width: 0px; fill: rgb(239, 85, 59); fill-opacity: 1;\"/><path class=\"point\" transform=\"translate(404.64,111.15)\" d=\"M3,0A3,3 0 1,1 0,-3A3,3 0 0,1 3,0Z\" style=\"opacity: 1; stroke-width: 0px; fill: rgb(239, 85, 59); fill-opacity: 1;\"/><path class=\"point\" transform=\"translate(418.61,110.31)\" d=\"M3,0A3,3 0 1,1 0,-3A3,3 0 0,1 3,0Z\" style=\"opacity: 1; stroke-width: 0px; fill: rgb(239, 85, 59); fill-opacity: 1;\"/><path class=\"point\" transform=\"translate(432.58,107.53)\" d=\"M3,0A3,3 0 1,1 0,-3A3,3 0 0,1 3,0Z\" style=\"opacity: 1; stroke-width: 0px; fill: rgb(239, 85, 59); fill-opacity: 1;\"/><path class=\"point\" transform=\"translate(446.55,109.12)\" d=\"M3,0A3,3 0 1,1 0,-3A3,3 0 0,1 3,0Z\" style=\"opacity: 1; stroke-width: 0px; fill: rgb(239, 85, 59); fill-opacity: 1;\"/></g><g class=\"text\"/></g></g></g><g class=\"overplot\"/><path class=\"xlines-above crisp\" d=\"M0,0\" style=\"fill: none;\"/><path class=\"ylines-above crisp\" d=\"M0,0\" style=\"fill: none;\"/><g class=\"overlines-above\"/><g class=\"xaxislayer-above\"><g class=\"xtick\"><text text-anchor=\"middle\" x=\"0\" y=\"383\" transform=\"translate(149.36,0)\" style=\"font-family: 'Open Sans', verdana, arial, sans-serif; font-size: 12px; fill: rgb(242, 245, 250); fill-opacity: 1; white-space: pre; opacity: 1;\"><tspan class=\"line\" dy=\"0em\" x=\"0\" y=\"383\">Aug 4</tspan><tspan class=\"line\" dy=\"1.3em\" x=\"0\" y=\"383\">2019</tspan></text></g><g class=\"xtick\"><text text-anchor=\"middle\" x=\"0\" y=\"383\" style=\"font-family: 'Open Sans', verdana, arial, sans-serif; font-size: 12px; fill: rgb(242, 245, 250); fill-opacity: 1; white-space: pre; opacity: 1;\" transform=\"translate(247.15,0)\">Aug 11</text></g><g class=\"xtick\"><text text-anchor=\"middle\" x=\"0\" y=\"383\" style=\"font-family: 'Open Sans', verdana, arial, sans-serif; font-size: 12px; fill: rgb(242, 245, 250); fill-opacity: 1; white-space: pre; opacity: 1;\" transform=\"translate(344.94,0)\">Aug 18</text></g><g class=\"xtick\"><text text-anchor=\"middle\" x=\"0\" y=\"383\" style=\"font-family: 'Open Sans', verdana, arial, sans-serif; font-size: 12px; fill: rgb(242, 245, 250); fill-opacity: 1; white-space: pre; opacity: 1;\" transform=\"translate(442.73,0)\">Aug 25</text></g><g class=\"xtick\"><text text-anchor=\"middle\" x=\"0\" y=\"383\" style=\"font-family: 'Open Sans', verdana, arial, sans-serif; font-size: 12px; fill: rgb(242, 245, 250); fill-opacity: 1; white-space: pre; opacity: 1;\" transform=\"translate(540.52,0)\">Sep 1</text></g></g><g class=\"yaxislayer-above\"><g class=\"ytick\"><text text-anchor=\"end\" x=\"79\" y=\"4.199999999999999\" transform=\"translate(0,370)\" style=\"font-family: 'Open Sans', verdana, arial, sans-serif; font-size: 12px; fill: rgb(242, 245, 250); fill-opacity: 1; white-space: pre; opacity: 1;\">0.01</text></g><g class=\"ytick\"><text text-anchor=\"end\" x=\"79\" y=\"4.199999999999999\" style=\"font-family: 'Open Sans', verdana, arial, sans-serif; font-size: 12px; fill: rgb(242, 245, 250); fill-opacity: 1; white-space: pre; opacity: 1;\" transform=\"translate(0,302.5)\">0.02</text></g><g class=\"ytick\"><text text-anchor=\"end\" x=\"79\" y=\"4.199999999999999\" style=\"font-family: 'Open Sans', verdana, arial, sans-serif; font-size: 12px; fill: rgb(242, 245, 250); fill-opacity: 1; white-space: pre; opacity: 1;\" transform=\"translate(0,235)\">0.03</text></g><g class=\"ytick\"><text text-anchor=\"end\" x=\"79\" y=\"4.199999999999999\" style=\"font-family: 'Open Sans', verdana, arial, sans-serif; font-size: 12px; fill: rgb(242, 245, 250); fill-opacity: 1; white-space: pre; opacity: 1;\" transform=\"translate(0,167.5)\">0.04</text></g><g class=\"ytick\"><text text-anchor=\"end\" x=\"79\" y=\"4.199999999999999\" style=\"font-family: 'Open Sans', verdana, arial, sans-serif; font-size: 12px; fill: rgb(242, 245, 250); fill-opacity: 1; white-space: pre; opacity: 1;\" transform=\"translate(0,100)\">0.05</text></g></g><g class=\"overaxes-above\"/></g></g><g class=\"polarlayer\"/><g class=\"smithlayer\"/><g class=\"ternarylayer\"/><g class=\"geolayer\"/><g class=\"funnelarealayer\"/><g class=\"pielayer\"/><g class=\"iciclelayer\"/><g class=\"treemaplayer\"/><g class=\"sunburstlayer\"/><g class=\"glimages\"/><defs id=\"topdefs-272223\"><g class=\"clips\"/><clipPath id=\"legend272223\"><rect width=\"125\" height=\"48\" x=\"0\" y=\"0\"/></clipPath></defs><g class=\"layer-above\"><g class=\"imagelayer\"/><g class=\"shapelayer\"/></g><g class=\"infolayer\"><g class=\"legend\" pointer-events=\"all\" transform=\"translate(563.48,100)\"><rect class=\"bg\" shape-rendering=\"crispEdges\" style=\"stroke: rgb(68, 68, 68); stroke-opacity: 1; fill: rgb(17, 17, 17); fill-opacity: 1; stroke-width: 0px;\" width=\"125\" height=\"48\" x=\"0\" y=\"0\"/><g class=\"scrollbox\" transform=\"\" clip-path=\"url(#legend272223)\"><g class=\"groups\" transform=\"\"><g class=\"traces\" transform=\"translate(0,14.5)\" style=\"opacity: 1;\"><text class=\"legendtext\" text-anchor=\"start\" x=\"40\" y=\"4.680000000000001\" style=\"font-family: 'Open Sans', verdana, arial, sans-serif; font-size: 12px; fill: rgb(242, 245, 250); fill-opacity: 1; white-space: pre;\">Конверсия А</text><g class=\"layers\" style=\"opacity: 1;\"><g class=\"legendfill\"/><g class=\"legendlines\"><path class=\"js-line\" d=\"M5,0h30\" style=\"fill: none; stroke: rgb(99, 110, 250); stroke-opacity: 1; stroke-width: 2px;\"/></g><g class=\"legendsymbols\"><g class=\"legendpoints\"><path class=\"scatterpts\" transform=\"translate(20,0)\" d=\"M3,0A3,3 0 1,1 0,-3A3,3 0 0,1 3,0Z\" style=\"opacity: 1; stroke-width: 0px; fill: rgb(99, 110, 250); fill-opacity: 1;\"/></g></g></g><rect class=\"legendtoggle\" x=\"0\" y=\"-9.5\" width=\"119.515625\" height=\"19\" style=\"fill: rgb(0, 0, 0); fill-opacity: 0;\"/></g></g><g class=\"groups\" transform=\"\"><g class=\"traces\" transform=\"translate(0,33.5)\" style=\"opacity: 1;\"><text class=\"legendtext\" text-anchor=\"start\" x=\"40\" y=\"4.680000000000001\" style=\"font-family: 'Open Sans', verdana, arial, sans-serif; font-size: 12px; fill: rgb(242, 245, 250); fill-opacity: 1; white-space: pre;\">Конверсия B</text><g class=\"layers\" style=\"opacity: 1;\"><g class=\"legendfill\"/><g class=\"legendlines\"><path class=\"js-line\" d=\"M5,0h30\" style=\"fill: none; stroke: rgb(239, 85, 59); stroke-opacity: 1; stroke-width: 2px;\"/></g><g class=\"legendsymbols\"><g class=\"legendpoints\"><path class=\"scatterpts\" transform=\"translate(20,0)\" d=\"M3,0A3,3 0 1,1 0,-3A3,3 0 0,1 3,0Z\" style=\"opacity: 1; stroke-width: 0px; fill: rgb(239, 85, 59); fill-opacity: 1;\"/></g></g></g><rect class=\"legendtoggle\" x=\"0\" y=\"-9.5\" width=\"119.515625\" height=\"19\" style=\"fill: rgb(0, 0, 0); fill-opacity: 0;\"/></g></g></g><rect class=\"scrollbar\" rx=\"20\" ry=\"3\" width=\"0\" height=\"0\" style=\"fill: rgb(128, 139, 164); fill-opacity: 1;\" x=\"0\" y=\"0\"/></g><g class=\"g-gtitle\"><text class=\"gtitle\" x=\"35\" y=\"50\" text-anchor=\"start\" dy=\"0em\" style=\"font-family: 'Open Sans', verdana, arial, sans-serif; font-size: 17px; fill: rgb(242, 245, 250); opacity: 1; font-weight: normal; white-space: pre;\">Кумулятивная конверсия по группам</text></g><g class=\"g-xtitle\"><text class=\"xtitle\" x=\"317\" y=\"426.409375\" text-anchor=\"middle\" style=\"font-family: 'Open Sans', verdana, arial, sans-serif; font-size: 14px; fill: rgb(242, 245, 250); opacity: 1; font-weight: normal; white-space: pre;\">Дата</text></g><g class=\"g-ytitle\"><text class=\"ytitle\" transform=\"rotate(-90,26.934375000000003,235)\" x=\"26.934375000000003\" y=\"235\" text-anchor=\"middle\" style=\"font-family: 'Open Sans', verdana, arial, sans-serif; font-size: 14px; fill: rgb(242, 245, 250); opacity: 1; font-weight: normal; white-space: pre;\">Конверсия</text></g></g></svg>"
      ]
     },
     "metadata": {},
     "output_type": "display_data"
    }
   ],
   "source": [
    "#строим график\n",
    "fig = px.line(totalFrame, \n",
    "        x='date', \n",
    "        y=['conversionA','conversionB'],\n",
    "        markers=True,\n",
    "        title='Кумулятивная конверсия по группам',\n",
    "        labels={'date':'Дата','value':'Конверсия', 'variable':''},\n",
    "        template='plotly_dark',\n",
    "        height=450)\n",
    "fig.data[0].name = 'Конверсия А'\n",
    "fig.data[1].name = 'Конверсия B'\n",
    "fig.update_yaxes(range=[0.01, 0.05])\n",
    "fig.show(\"svg\")"
   ]
  },
  {
   "cell_type": "markdown",
   "metadata": {},
   "source": [
    "**Вывод**\n",
    "\n",
    "Конверсия выглядит достаточно ровной. Вначале графики колебались, но в итоге выровнялись и зафиксировались на примерно одном расстоянии друг от друга. Поскольку конверсия не учитывает сумму покупки, а берет в расчет только количество покупателей, и в итоге не показывает на графике аномалий, можно предположить, что аномалии именно в размерах конкретных покупок. "
   ]
  },
  {
   "cell_type": "markdown",
   "metadata": {},
   "source": [
    "### Относительное изменение кумулятивной конверсии"
   ]
  },
  {
   "cell_type": "code",
   "execution_count": 40,
   "metadata": {},
   "outputs": [
    {
     "data": {
      "image/svg+xml": [
       "<svg class=\"main-svg\" xmlns=\"http://www.w3.org/2000/svg\" xmlns:xlink=\"http://www.w3.org/1999/xlink\" width=\"700\" height=\"450\" style=\"\" viewBox=\"0 0 700 450\"><rect x=\"0\" y=\"0\" width=\"700\" height=\"450\" style=\"fill: rgb(17, 17, 17); fill-opacity: 1;\"/><defs id=\"defs-250f0e\"><g class=\"clips\"><clipPath id=\"clip250f0exyplot\" class=\"plotclip\"><rect width=\"540\" height=\"270\"/></clipPath><clipPath class=\"axesclip\" id=\"clip250f0ex\"><rect x=\"80\" y=\"0\" width=\"540\" height=\"450\"/></clipPath><clipPath class=\"axesclip\" id=\"clip250f0ey\"><rect x=\"0\" y=\"100\" width=\"700\" height=\"270\"/></clipPath><clipPath class=\"axesclip\" id=\"clip250f0exy\"><rect x=\"80\" y=\"100\" width=\"540\" height=\"270\"/></clipPath></g><g class=\"gradients\"/><g class=\"patterns\"/></defs><g class=\"bglayer\"/><g class=\"layer-below\"><g class=\"imagelayer\"/><g class=\"shapelayer\"/></g><g class=\"cartesianlayer\"><g class=\"subplot xy\"><g class=\"layer-subplot\"><g class=\"shapelayer\"/><g class=\"imagelayer\"/></g><g class=\"gridlayer\"><g class=\"x\"><path class=\"xgrid crisp\" transform=\"translate(134,0)\" d=\"M0,100v270\" style=\"stroke: rgb(40, 52, 66); stroke-opacity: 1; stroke-width: 1px;\"/><path class=\"xgrid crisp\" transform=\"translate(260,0)\" d=\"M0,100v270\" style=\"stroke: rgb(40, 52, 66); stroke-opacity: 1; stroke-width: 1px;\"/><path class=\"xgrid crisp\" transform=\"translate(386,0)\" d=\"M0,100v270\" style=\"stroke: rgb(40, 52, 66); stroke-opacity: 1; stroke-width: 1px;\"/><path class=\"xgrid crisp\" transform=\"translate(512,0)\" d=\"M0,100v270\" style=\"stroke: rgb(40, 52, 66); stroke-opacity: 1; stroke-width: 1px;\"/></g><g class=\"y\"><path class=\"ygrid crisp\" transform=\"translate(0,343.36)\" d=\"M80,0h540\" style=\"stroke: rgb(40, 52, 66); stroke-opacity: 1; stroke-width: 1px;\"/><path class=\"ygrid crisp\" transform=\"translate(0,306.12)\" d=\"M80,0h540\" style=\"stroke: rgb(40, 52, 66); stroke-opacity: 1; stroke-width: 1px;\"/><path class=\"ygrid crisp\" transform=\"translate(0,231.64)\" d=\"M80,0h540\" style=\"stroke: rgb(40, 52, 66); stroke-opacity: 1; stroke-width: 1px;\"/><path class=\"ygrid crisp\" transform=\"translate(0,194.4)\" d=\"M80,0h540\" style=\"stroke: rgb(40, 52, 66); stroke-opacity: 1; stroke-width: 1px;\"/><path class=\"ygrid crisp\" transform=\"translate(0,157.16)\" d=\"M80,0h540\" style=\"stroke: rgb(40, 52, 66); stroke-opacity: 1; stroke-width: 1px;\"/><path class=\"ygrid crisp\" transform=\"translate(0,119.91)\" d=\"M80,0h540\" style=\"stroke: rgb(40, 52, 66); stroke-opacity: 1; stroke-width: 1px;\"/></g></g><g class=\"zerolinelayer\"><path class=\"yzl zl crisp\" transform=\"translate(0,268.88)\" d=\"M80,0h540\" style=\"stroke: rgb(255, 182, 193); stroke-opacity: 1; stroke-width: 2px;\"/></g><path class=\"xlines-below\"/><path class=\"ylines-below\"/><g class=\"overlines-below\"/><g class=\"xaxislayer-below\"/><g class=\"yaxislayer-below\"/><g class=\"overaxes-below\"/><g class=\"plot\" transform=\"translate(80,100)\" clip-path=\"url(#clip250f0exyplot)\"><g class=\"scatterlayer mlayer\"><g class=\"trace scatter trace5e103b\" style=\"stroke-miterlimit: 2; opacity: 1;\"><g class=\"fills\"/><g class=\"errorbars\"/><g class=\"lines\"><path class=\"js-line\" d=\"M0,256.5L18,126.05L36,229.99L54,225.04L72,215.55L90,147.54L108,130.32L126,90.25L144,58.65L162,35.91L180,44.57L198,54.92L216,42.36L234,57.52L252,13.5L270,22.34L288,18.25L306,49.67L324,58.22L342,44.37L360,69.86L378,59.7L396,88.19L414,88.32L432,86.58L450,72.62L468,96.47L486,85.87L504,89.96L522,73.88L540,66.03\" style=\"vector-effect: non-scaling-stroke; fill: none; stroke: rgb(99, 110, 250); stroke-opacity: 1; stroke-width: 2px; opacity: 1;\"/></g><g class=\"points\"/><g class=\"text\"/></g></g></g><g class=\"overplot\"/><path class=\"xlines-above crisp\" d=\"M0,0\" style=\"fill: none;\"/><path class=\"ylines-above crisp\" d=\"M0,0\" style=\"fill: none;\"/><g class=\"overlines-above\"/><g class=\"xaxislayer-above\"><g class=\"xtick\"><text text-anchor=\"middle\" x=\"0\" y=\"383\" transform=\"translate(134,0)\" style=\"font-family: 'Open Sans', verdana, arial, sans-serif; font-size: 12px; fill: rgb(242, 245, 250); fill-opacity: 1; white-space: pre; opacity: 1;\"><tspan class=\"line\" dy=\"0em\" x=\"0\" y=\"383\">Aug 4</tspan><tspan class=\"line\" dy=\"1.3em\" x=\"0\" y=\"383\">2019</tspan></text></g><g class=\"xtick\"><text text-anchor=\"middle\" x=\"0\" y=\"383\" style=\"font-family: 'Open Sans', verdana, arial, sans-serif; font-size: 12px; fill: rgb(242, 245, 250); fill-opacity: 1; white-space: pre; opacity: 1;\" transform=\"translate(260,0)\">Aug 11</text></g><g class=\"xtick\"><text text-anchor=\"middle\" x=\"0\" y=\"383\" style=\"font-family: 'Open Sans', verdana, arial, sans-serif; font-size: 12px; fill: rgb(242, 245, 250); fill-opacity: 1; white-space: pre; opacity: 1;\" transform=\"translate(386,0)\">Aug 18</text></g><g class=\"xtick\"><text text-anchor=\"middle\" x=\"0\" y=\"383\" style=\"font-family: 'Open Sans', verdana, arial, sans-serif; font-size: 12px; fill: rgb(242, 245, 250); fill-opacity: 1; white-space: pre; opacity: 1;\" transform=\"translate(512,0)\">Aug 25</text></g></g><g class=\"yaxislayer-above\"><g class=\"ytick\"><text text-anchor=\"end\" x=\"79\" y=\"4.199999999999999\" transform=\"translate(0,343.36)\" style=\"font-family: 'Open Sans', verdana, arial, sans-serif; font-size: 12px; fill: rgb(242, 245, 250); fill-opacity: 1; white-space: pre; opacity: 1;\">−0.1</text></g><g class=\"ytick\"><text text-anchor=\"end\" x=\"79\" y=\"4.199999999999999\" style=\"font-family: 'Open Sans', verdana, arial, sans-serif; font-size: 12px; fill: rgb(242, 245, 250); fill-opacity: 1; white-space: pre; opacity: 1;\" transform=\"translate(0,306.12)\">−0.05</text></g><g class=\"ytick\"><text text-anchor=\"end\" x=\"79\" y=\"4.199999999999999\" style=\"font-family: 'Open Sans', verdana, arial, sans-serif; font-size: 12px; fill: rgb(242, 245, 250); fill-opacity: 1; white-space: pre; opacity: 1;\" transform=\"translate(0,268.88)\">0</text></g><g class=\"ytick\"><text text-anchor=\"end\" x=\"79\" y=\"4.199999999999999\" style=\"font-family: 'Open Sans', verdana, arial, sans-serif; font-size: 12px; fill: rgb(242, 245, 250); fill-opacity: 1; white-space: pre; opacity: 1;\" transform=\"translate(0,231.64)\">0.05</text></g><g class=\"ytick\"><text text-anchor=\"end\" x=\"79\" y=\"4.199999999999999\" style=\"font-family: 'Open Sans', verdana, arial, sans-serif; font-size: 12px; fill: rgb(242, 245, 250); fill-opacity: 1; white-space: pre; opacity: 1;\" transform=\"translate(0,194.4)\">0.1</text></g><g class=\"ytick\"><text text-anchor=\"end\" x=\"79\" y=\"4.199999999999999\" style=\"font-family: 'Open Sans', verdana, arial, sans-serif; font-size: 12px; fill: rgb(242, 245, 250); fill-opacity: 1; white-space: pre; opacity: 1;\" transform=\"translate(0,157.16)\">0.15</text></g><g class=\"ytick\"><text text-anchor=\"end\" x=\"79\" y=\"4.199999999999999\" style=\"font-family: 'Open Sans', verdana, arial, sans-serif; font-size: 12px; fill: rgb(242, 245, 250); fill-opacity: 1; white-space: pre; opacity: 1;\" transform=\"translate(0,119.91)\">0.2</text></g></g><g class=\"overaxes-above\"/></g></g><g class=\"polarlayer\"/><g class=\"smithlayer\"/><g class=\"ternarylayer\"/><g class=\"geolayer\"/><g class=\"funnelarealayer\"/><g class=\"pielayer\"/><g class=\"iciclelayer\"/><g class=\"treemaplayer\"/><g class=\"sunburstlayer\"/><g class=\"glimages\"/><defs id=\"topdefs-250f0e\"><g class=\"clips\"/></defs><g class=\"layer-above\"><g class=\"imagelayer\"/><g class=\"shapelayer\"/></g><g class=\"infolayer\"><g class=\"g-gtitle\"><text class=\"gtitle\" x=\"35\" y=\"50\" text-anchor=\"start\" dy=\"0em\" style=\"font-family: 'Open Sans', verdana, arial, sans-serif; font-size: 17px; fill: rgb(242, 245, 250); opacity: 1; font-weight: normal; white-space: pre;\">Относительное изменение кумулятивной конверсии (гр.B к гр.A)</text></g><g class=\"g-xtitle\"><text class=\"xtitle\" x=\"350\" y=\"426.409375\" text-anchor=\"middle\" style=\"font-family: 'Open Sans', verdana, arial, sans-serif; font-size: 14px; fill: rgb(242, 245, 250); opacity: 1; font-weight: normal; white-space: pre;\">Дата</text></g><g class=\"g-ytitle\"/></g></svg>"
      ]
     },
     "metadata": {},
     "output_type": "display_data"
    }
   ],
   "source": [
    "fig = go.Figure()\n",
    "\n",
    "fig.add_trace(go.Scatter(x=totalFrame['date'],\n",
    "                         y=totalFrame['conversionB'] / totalFrame['conversionA'] - 1))\n",
    "\n",
    "fig.update_layout(\n",
    "\n",
    "    title='Относительное изменение кумулятивной конверсии (гр.B к гр.A)',\n",
    "    template='plotly_dark',\n",
    "    xaxis_title='Дата',\n",
    "    height=450\n",
    "    \n",
    ")\n",
    "\n",
    "fig.update_yaxes(zeroline=True, zerolinewidth=2, zerolinecolor='LightPink')\n",
    "\n",
    "fig.show(\"svg\")"
   ]
  },
  {
   "cell_type": "markdown",
   "metadata": {},
   "source": [
    "**Вывод**\n",
    "\n",
    "В начале группа B проигрывала в конверсии, но начиная с 6 августа начала расти и в итоге зафиксировалась где-то между 0.1 и 0.15 ед."
   ]
  },
  {
   "cell_type": "markdown",
   "metadata": {},
   "source": [
    "### Количество заказов по пользователям"
   ]
  },
  {
   "cell_type": "code",
   "execution_count": 41,
   "metadata": {},
   "outputs": [],
   "source": [
    "#для начала найдем количество заказов для каждого пользователя\n",
    "ordersPerVisitor = orders.groupby('visitorId', as_index=False)\\\n",
    "    .agg({'revenue':'count'})\\\n",
    "    .rename(columns={'revenue':'orders'})"
   ]
  },
  {
   "cell_type": "code",
   "execution_count": 42,
   "metadata": {},
   "outputs": [
    {
     "data": {
      "image/svg+xml": [
       "<svg class=\"main-svg\" xmlns=\"http://www.w3.org/2000/svg\" xmlns:xlink=\"http://www.w3.org/1999/xlink\" width=\"700\" height=\"450\" style=\"\" viewBox=\"0 0 700 450\"><rect x=\"0\" y=\"0\" width=\"700\" height=\"450\" style=\"fill: rgb(17, 17, 17); fill-opacity: 1;\"/><defs id=\"defs-44d3d1\"><g class=\"clips\"><clipPath id=\"clip44d3d1xyplot\" class=\"plotclip\"><rect width=\"540\" height=\"270\"/></clipPath><clipPath class=\"axesclip\" id=\"clip44d3d1x\"><rect x=\"80\" y=\"0\" width=\"540\" height=\"450\"/></clipPath><clipPath class=\"axesclip\" id=\"clip44d3d1y\"><rect x=\"0\" y=\"100\" width=\"700\" height=\"270\"/></clipPath><clipPath class=\"axesclip\" id=\"clip44d3d1xy\"><rect x=\"80\" y=\"100\" width=\"540\" height=\"270\"/></clipPath></g><g class=\"gradients\"/><g class=\"patterns\"/></defs><g class=\"bglayer\"/><g class=\"layer-below\"><g class=\"imagelayer\"/><g class=\"shapelayer\"/></g><g class=\"cartesianlayer\"><g class=\"subplot xy\"><g class=\"layer-subplot\"><g class=\"shapelayer\"/><g class=\"imagelayer\"/></g><g class=\"gridlayer\"><g class=\"x\"><path class=\"xgrid crisp\" transform=\"translate(203.2,0)\" d=\"M0,100v270\" style=\"stroke: rgb(40, 52, 66); stroke-opacity: 1; stroke-width: 1px;\"/><path class=\"xgrid crisp\" transform=\"translate(296.40999999999997,0)\" d=\"M0,100v270\" style=\"stroke: rgb(40, 52, 66); stroke-opacity: 1; stroke-width: 1px;\"/><path class=\"xgrid crisp\" transform=\"translate(389.61,0)\" d=\"M0,100v270\" style=\"stroke: rgb(40, 52, 66); stroke-opacity: 1; stroke-width: 1px;\"/><path class=\"xgrid crisp\" transform=\"translate(482.82,0)\" d=\"M0,100v270\" style=\"stroke: rgb(40, 52, 66); stroke-opacity: 1; stroke-width: 1px;\"/><path class=\"xgrid crisp\" transform=\"translate(576.02,0)\" d=\"M0,100v270\" style=\"stroke: rgb(40, 52, 66); stroke-opacity: 1; stroke-width: 1px;\"/></g><g class=\"y\"><path class=\"ygrid crisp\" transform=\"translate(0,329.8)\" d=\"M80,0h540\" style=\"stroke: rgb(40, 52, 66); stroke-opacity: 1; stroke-width: 1px;\"/><path class=\"ygrid crisp\" transform=\"translate(0,282.4)\" d=\"M80,0h540\" style=\"stroke: rgb(40, 52, 66); stroke-opacity: 1; stroke-width: 1px;\"/><path class=\"ygrid crisp\" transform=\"translate(0,235)\" d=\"M80,0h540\" style=\"stroke: rgb(40, 52, 66); stroke-opacity: 1; stroke-width: 1px;\"/><path class=\"ygrid crisp\" transform=\"translate(0,187.6)\" d=\"M80,0h540\" style=\"stroke: rgb(40, 52, 66); stroke-opacity: 1; stroke-width: 1px;\"/><path class=\"ygrid crisp\" transform=\"translate(0,140.2)\" d=\"M80,0h540\" style=\"stroke: rgb(40, 52, 66); stroke-opacity: 1; stroke-width: 1px;\"/></g></g><g class=\"zerolinelayer\"><path class=\"xzl zl crisp\" transform=\"translate(110,0)\" d=\"M0,100v270\" style=\"stroke: rgb(40, 52, 66); stroke-opacity: 1; stroke-width: 2px;\"/></g><path class=\"xlines-below\"/><path class=\"ylines-below\"/><g class=\"overlines-below\"/><g class=\"xaxislayer-below\"/><g class=\"yaxislayer-below\"/><g class=\"overaxes-below\"/><g class=\"plot\" transform=\"translate(80,100)\" clip-path=\"url(#clip44d3d1xyplot)\"><g class=\"scatterlayer mlayer\"><g class=\"trace scatter trace2423ad\" style=\"stroke-miterlimit: 2; opacity: 1;\"><g class=\"fills\"/><g class=\"errorbars\"/><g class=\"lines\"/><g class=\"points\"><path class=\"point\" transform=\"translate(30,253.5)\" d=\"M2,0A2,2 0 1,1 0,-2A2,2 0 0,1 2,0Z\" style=\"opacity: 1; stroke-width: 0px; fill: rgb(99, 110, 250); fill-opacity: 1;\"/><path class=\"point\" transform=\"translate(30.47,253.5)\" d=\"M2,0A2,2 0 1,1 0,-2A2,2 0 0,1 2,0Z\" style=\"opacity: 1; stroke-width: 0px; fill: rgb(99, 110, 250); fill-opacity: 1;\"/><path class=\"point\" transform=\"translate(30.93,229.8)\" d=\"M2,0A2,2 0 1,1 0,-2A2,2 0 0,1 2,0Z\" style=\"opacity: 1; stroke-width: 0px; fill: rgb(99, 110, 250); fill-opacity: 1;\"/><path class=\"point\" transform=\"translate(31.4,253.5)\" d=\"M2,0A2,2 0 1,1 0,-2A2,2 0 0,1 2,0Z\" style=\"opacity: 1; stroke-width: 0px; fill: rgb(99, 110, 250); fill-opacity: 1;\"/><path class=\"point\" transform=\"translate(31.86,253.5)\" d=\"M2,0A2,2 0 1,1 0,-2A2,2 0 0,1 2,0Z\" style=\"opacity: 1; stroke-width: 0px; fill: rgb(99, 110, 250); fill-opacity: 1;\"/><path class=\"point\" transform=\"translate(32.33,253.5)\" d=\"M2,0A2,2 0 1,1 0,-2A2,2 0 0,1 2,0Z\" style=\"opacity: 1; stroke-width: 0px; fill: rgb(99, 110, 250); fill-opacity: 1;\"/><path class=\"point\" transform=\"translate(32.8,253.5)\" d=\"M2,0A2,2 0 1,1 0,-2A2,2 0 0,1 2,0Z\" style=\"opacity: 1; stroke-width: 0px; fill: rgb(99, 110, 250); fill-opacity: 1;\"/><path class=\"point\" transform=\"translate(33.26,253.5)\" d=\"M2,0A2,2 0 1,1 0,-2A2,2 0 0,1 2,0Z\" style=\"opacity: 1; stroke-width: 0px; fill: rgb(99, 110, 250); fill-opacity: 1;\"/><path class=\"point\" transform=\"translate(33.73,253.5)\" d=\"M2,0A2,2 0 1,1 0,-2A2,2 0 0,1 2,0Z\" style=\"opacity: 1; stroke-width: 0px; fill: rgb(99, 110, 250); fill-opacity: 1;\"/><path class=\"point\" transform=\"translate(34.19,253.5)\" d=\"M2,0A2,2 0 1,1 0,-2A2,2 0 0,1 2,0Z\" style=\"opacity: 1; stroke-width: 0px; fill: rgb(99, 110, 250); fill-opacity: 1;\"/><path class=\"point\" transform=\"translate(34.66,253.5)\" d=\"M2,0A2,2 0 1,1 0,-2A2,2 0 0,1 2,0Z\" style=\"opacity: 1; stroke-width: 0px; fill: rgb(99, 110, 250); fill-opacity: 1;\"/><path class=\"point\" transform=\"translate(35.13,253.5)\" d=\"M2,0A2,2 0 1,1 0,-2A2,2 0 0,1 2,0Z\" style=\"opacity: 1; stroke-width: 0px; fill: rgb(99, 110, 250); fill-opacity: 1;\"/><path class=\"point\" transform=\"translate(35.59,253.5)\" d=\"M2,0A2,2 0 1,1 0,-2A2,2 0 0,1 2,0Z\" style=\"opacity: 1; stroke-width: 0px; fill: rgb(99, 110, 250); fill-opacity: 1;\"/><path class=\"point\" transform=\"translate(36.06,253.5)\" d=\"M2,0A2,2 0 1,1 0,-2A2,2 0 0,1 2,0Z\" style=\"opacity: 1; stroke-width: 0px; fill: rgb(99, 110, 250); fill-opacity: 1;\"/><path class=\"point\" transform=\"translate(36.52,253.5)\" d=\"M2,0A2,2 0 1,1 0,-2A2,2 0 0,1 2,0Z\" style=\"opacity: 1; stroke-width: 0px; fill: rgb(99, 110, 250); fill-opacity: 1;\"/><path class=\"point\" transform=\"translate(36.99,253.5)\" d=\"M2,0A2,2 0 1,1 0,-2A2,2 0 0,1 2,0Z\" style=\"opacity: 1; stroke-width: 0px; fill: rgb(99, 110, 250); fill-opacity: 1;\"/><path class=\"point\" transform=\"translate(37.46,253.5)\" d=\"M2,0A2,2 0 1,1 0,-2A2,2 0 0,1 2,0Z\" style=\"opacity: 1; stroke-width: 0px; fill: rgb(99, 110, 250); fill-opacity: 1;\"/><path class=\"point\" transform=\"translate(37.92,253.5)\" d=\"M2,0A2,2 0 1,1 0,-2A2,2 0 0,1 2,0Z\" style=\"opacity: 1; stroke-width: 0px; fill: rgb(99, 110, 250); fill-opacity: 1;\"/><path class=\"point\" transform=\"translate(38.39,253.5)\" d=\"M2,0A2,2 0 1,1 0,-2A2,2 0 0,1 2,0Z\" style=\"opacity: 1; stroke-width: 0px; fill: rgb(99, 110, 250); fill-opacity: 1;\"/><path class=\"point\" transform=\"translate(38.85,253.5)\" d=\"M2,0A2,2 0 1,1 0,-2A2,2 0 0,1 2,0Z\" style=\"opacity: 1; stroke-width: 0px; fill: rgb(99, 110, 250); fill-opacity: 1;\"/><path class=\"point\" transform=\"translate(39.32,253.5)\" d=\"M2,0A2,2 0 1,1 0,-2A2,2 0 0,1 2,0Z\" style=\"opacity: 1; stroke-width: 0px; fill: rgb(99, 110, 250); fill-opacity: 1;\"/><path class=\"point\" transform=\"translate(39.79,253.5)\" d=\"M2,0A2,2 0 1,1 0,-2A2,2 0 0,1 2,0Z\" style=\"opacity: 1; stroke-width: 0px; fill: rgb(99, 110, 250); fill-opacity: 1;\"/><path class=\"point\" transform=\"translate(40.25,253.5)\" d=\"M2,0A2,2 0 1,1 0,-2A2,2 0 0,1 2,0Z\" style=\"opacity: 1; stroke-width: 0px; fill: rgb(99, 110, 250); fill-opacity: 1;\"/><path class=\"point\" transform=\"translate(40.72,253.5)\" d=\"M2,0A2,2 0 1,1 0,-2A2,2 0 0,1 2,0Z\" style=\"opacity: 1; stroke-width: 0px; fill: rgb(99, 110, 250); fill-opacity: 1;\"/><path class=\"point\" transform=\"translate(41.18,253.5)\" d=\"M2,0A2,2 0 1,1 0,-2A2,2 0 0,1 2,0Z\" style=\"opacity: 1; stroke-width: 0px; fill: rgb(99, 110, 250); fill-opacity: 1;\"/><path class=\"point\" transform=\"translate(41.65,253.5)\" d=\"M2,0A2,2 0 1,1 0,-2A2,2 0 0,1 2,0Z\" style=\"opacity: 1; stroke-width: 0px; fill: rgb(99, 110, 250); fill-opacity: 1;\"/><path class=\"point\" transform=\"translate(42.12,253.5)\" d=\"M2,0A2,2 0 1,1 0,-2A2,2 0 0,1 2,0Z\" style=\"opacity: 1; stroke-width: 0px; fill: rgb(99, 110, 250); fill-opacity: 1;\"/><path class=\"point\" transform=\"translate(42.58,253.5)\" d=\"M2,0A2,2 0 1,1 0,-2A2,2 0 0,1 2,0Z\" style=\"opacity: 1; stroke-width: 0px; fill: rgb(99, 110, 250); fill-opacity: 1;\"/><path class=\"point\" transform=\"translate(43.05,253.5)\" d=\"M2,0A2,2 0 1,1 0,-2A2,2 0 0,1 2,0Z\" style=\"opacity: 1; stroke-width: 0px; fill: rgb(99, 110, 250); fill-opacity: 1;\"/><path class=\"point\" transform=\"translate(43.51,253.5)\" d=\"M2,0A2,2 0 1,1 0,-2A2,2 0 0,1 2,0Z\" style=\"opacity: 1; stroke-width: 0px; fill: rgb(99, 110, 250); fill-opacity: 1;\"/><path class=\"point\" transform=\"translate(43.98,253.5)\" d=\"M2,0A2,2 0 1,1 0,-2A2,2 0 0,1 2,0Z\" style=\"opacity: 1; stroke-width: 0px; fill: rgb(99, 110, 250); fill-opacity: 1;\"/><path class=\"point\" transform=\"translate(44.45,253.5)\" d=\"M2,0A2,2 0 1,1 0,-2A2,2 0 0,1 2,0Z\" style=\"opacity: 1; stroke-width: 0px; fill: rgb(99, 110, 250); fill-opacity: 1;\"/><path class=\"point\" transform=\"translate(44.91,253.5)\" d=\"M2,0A2,2 0 1,1 0,-2A2,2 0 0,1 2,0Z\" style=\"opacity: 1; stroke-width: 0px; fill: rgb(99, 110, 250); fill-opacity: 1;\"/><path class=\"point\" transform=\"translate(45.38,253.5)\" d=\"M2,0A2,2 0 1,1 0,-2A2,2 0 0,1 2,0Z\" style=\"opacity: 1; stroke-width: 0px; fill: rgb(99, 110, 250); fill-opacity: 1;\"/><path class=\"point\" transform=\"translate(45.84,253.5)\" d=\"M2,0A2,2 0 1,1 0,-2A2,2 0 0,1 2,0Z\" style=\"opacity: 1; stroke-width: 0px; fill: rgb(99, 110, 250); fill-opacity: 1;\"/><path class=\"point\" transform=\"translate(46.31,253.5)\" d=\"M2,0A2,2 0 1,1 0,-2A2,2 0 0,1 2,0Z\" style=\"opacity: 1; stroke-width: 0px; fill: rgb(99, 110, 250); fill-opacity: 1;\"/><path class=\"point\" transform=\"translate(46.78,253.5)\" d=\"M2,0A2,2 0 1,1 0,-2A2,2 0 0,1 2,0Z\" style=\"opacity: 1; stroke-width: 0px; fill: rgb(99, 110, 250); fill-opacity: 1;\"/><path class=\"point\" transform=\"translate(47.24,253.5)\" d=\"M2,0A2,2 0 1,1 0,-2A2,2 0 0,1 2,0Z\" style=\"opacity: 1; stroke-width: 0px; fill: rgb(99, 110, 250); fill-opacity: 1;\"/><path class=\"point\" transform=\"translate(47.71,253.5)\" d=\"M2,0A2,2 0 1,1 0,-2A2,2 0 0,1 2,0Z\" style=\"opacity: 1; stroke-width: 0px; fill: rgb(99, 110, 250); fill-opacity: 1;\"/><path class=\"point\" transform=\"translate(48.17,253.5)\" d=\"M2,0A2,2 0 1,1 0,-2A2,2 0 0,1 2,0Z\" style=\"opacity: 1; stroke-width: 0px; fill: rgb(99, 110, 250); fill-opacity: 1;\"/><path class=\"point\" transform=\"translate(48.64,253.5)\" d=\"M2,0A2,2 0 1,1 0,-2A2,2 0 0,1 2,0Z\" style=\"opacity: 1; stroke-width: 0px; fill: rgb(99, 110, 250); fill-opacity: 1;\"/><path class=\"point\" transform=\"translate(49.11,253.5)\" d=\"M2,0A2,2 0 1,1 0,-2A2,2 0 0,1 2,0Z\" style=\"opacity: 1; stroke-width: 0px; fill: rgb(99, 110, 250); fill-opacity: 1;\"/><path class=\"point\" transform=\"translate(49.57,253.5)\" d=\"M2,0A2,2 0 1,1 0,-2A2,2 0 0,1 2,0Z\" style=\"opacity: 1; stroke-width: 0px; fill: rgb(99, 110, 250); fill-opacity: 1;\"/><path class=\"point\" transform=\"translate(50.04,253.5)\" d=\"M2,0A2,2 0 1,1 0,-2A2,2 0 0,1 2,0Z\" style=\"opacity: 1; stroke-width: 0px; fill: rgb(99, 110, 250); fill-opacity: 1;\"/><path class=\"point\" transform=\"translate(50.5,158.7)\" d=\"M2,0A2,2 0 1,1 0,-2A2,2 0 0,1 2,0Z\" style=\"opacity: 1; stroke-width: 0px; fill: rgb(99, 110, 250); fill-opacity: 1;\"/><path class=\"point\" transform=\"translate(50.97,253.5)\" d=\"M2,0A2,2 0 1,1 0,-2A2,2 0 0,1 2,0Z\" style=\"opacity: 1; stroke-width: 0px; fill: rgb(99, 110, 250); fill-opacity: 1;\"/><path class=\"point\" transform=\"translate(51.44,253.5)\" d=\"M2,0A2,2 0 1,1 0,-2A2,2 0 0,1 2,0Z\" style=\"opacity: 1; stroke-width: 0px; fill: rgb(99, 110, 250); fill-opacity: 1;\"/><path class=\"point\" transform=\"translate(51.9,253.5)\" d=\"M2,0A2,2 0 1,1 0,-2A2,2 0 0,1 2,0Z\" style=\"opacity: 1; stroke-width: 0px; fill: rgb(99, 110, 250); fill-opacity: 1;\"/><path class=\"point\" transform=\"translate(52.37,253.5)\" d=\"M2,0A2,2 0 1,1 0,-2A2,2 0 0,1 2,0Z\" style=\"opacity: 1; stroke-width: 0px; fill: rgb(99, 110, 250); fill-opacity: 1;\"/><path class=\"point\" transform=\"translate(52.83,253.5)\" d=\"M2,0A2,2 0 1,1 0,-2A2,2 0 0,1 2,0Z\" style=\"opacity: 1; stroke-width: 0px; fill: rgb(99, 110, 250); fill-opacity: 1;\"/><path class=\"point\" transform=\"translate(53.3,253.5)\" d=\"M2,0A2,2 0 1,1 0,-2A2,2 0 0,1 2,0Z\" style=\"opacity: 1; stroke-width: 0px; fill: rgb(99, 110, 250); fill-opacity: 1;\"/><path class=\"point\" transform=\"translate(53.77,229.8)\" d=\"M2,0A2,2 0 1,1 0,-2A2,2 0 0,1 2,0Z\" style=\"opacity: 1; stroke-width: 0px; fill: rgb(99, 110, 250); fill-opacity: 1;\"/><path class=\"point\" transform=\"translate(54.23,253.5)\" d=\"M2,0A2,2 0 1,1 0,-2A2,2 0 0,1 2,0Z\" style=\"opacity: 1; stroke-width: 0px; fill: rgb(99, 110, 250); fill-opacity: 1;\"/><path class=\"point\" transform=\"translate(54.7,253.5)\" d=\"M2,0A2,2 0 1,1 0,-2A2,2 0 0,1 2,0Z\" style=\"opacity: 1; stroke-width: 0px; fill: rgb(99, 110, 250); fill-opacity: 1;\"/><path class=\"point\" transform=\"translate(55.17,253.5)\" d=\"M2,0A2,2 0 1,1 0,-2A2,2 0 0,1 2,0Z\" style=\"opacity: 1; stroke-width: 0px; fill: rgb(99, 110, 250); fill-opacity: 1;\"/><path class=\"point\" transform=\"translate(55.63,158.7)\" d=\"M2,0A2,2 0 1,1 0,-2A2,2 0 0,1 2,0Z\" style=\"opacity: 1; stroke-width: 0px; fill: rgb(99, 110, 250); fill-opacity: 1;\"/><path class=\"point\" transform=\"translate(56.1,253.5)\" d=\"M2,0A2,2 0 1,1 0,-2A2,2 0 0,1 2,0Z\" style=\"opacity: 1; stroke-width: 0px; fill: rgb(99, 110, 250); fill-opacity: 1;\"/><path class=\"point\" transform=\"translate(56.56,253.5)\" d=\"M2,0A2,2 0 1,1 0,-2A2,2 0 0,1 2,0Z\" style=\"opacity: 1; stroke-width: 0px; fill: rgb(99, 110, 250); fill-opacity: 1;\"/><path class=\"point\" transform=\"translate(57.03,253.5)\" d=\"M2,0A2,2 0 1,1 0,-2A2,2 0 0,1 2,0Z\" style=\"opacity: 1; stroke-width: 0px; fill: rgb(99, 110, 250); fill-opacity: 1;\"/><path class=\"point\" transform=\"translate(57.5,206.1)\" d=\"M2,0A2,2 0 1,1 0,-2A2,2 0 0,1 2,0Z\" style=\"opacity: 1; stroke-width: 0px; fill: rgb(99, 110, 250); fill-opacity: 1;\"/><path class=\"point\" transform=\"translate(57.96,253.5)\" d=\"M2,0A2,2 0 1,1 0,-2A2,2 0 0,1 2,0Z\" style=\"opacity: 1; stroke-width: 0px; fill: rgb(99, 110, 250); fill-opacity: 1;\"/><path class=\"point\" transform=\"translate(58.43,253.5)\" d=\"M2,0A2,2 0 1,1 0,-2A2,2 0 0,1 2,0Z\" style=\"opacity: 1; stroke-width: 0px; fill: rgb(99, 110, 250); fill-opacity: 1;\"/><path class=\"point\" transform=\"translate(58.89,253.5)\" d=\"M2,0A2,2 0 1,1 0,-2A2,2 0 0,1 2,0Z\" style=\"opacity: 1; stroke-width: 0px; fill: rgb(99, 110, 250); fill-opacity: 1;\"/><path class=\"point\" transform=\"translate(59.36,253.5)\" d=\"M2,0A2,2 0 1,1 0,-2A2,2 0 0,1 2,0Z\" style=\"opacity: 1; stroke-width: 0px; fill: rgb(99, 110, 250); fill-opacity: 1;\"/><path class=\"point\" transform=\"translate(59.83,253.5)\" d=\"M2,0A2,2 0 1,1 0,-2A2,2 0 0,1 2,0Z\" style=\"opacity: 1; stroke-width: 0px; fill: rgb(99, 110, 250); fill-opacity: 1;\"/><path class=\"point\" transform=\"translate(60.29,253.5)\" d=\"M2,0A2,2 0 1,1 0,-2A2,2 0 0,1 2,0Z\" style=\"opacity: 1; stroke-width: 0px; fill: rgb(99, 110, 250); fill-opacity: 1;\"/><path class=\"point\" transform=\"translate(60.76,229.8)\" d=\"M2,0A2,2 0 1,1 0,-2A2,2 0 0,1 2,0Z\" style=\"opacity: 1; stroke-width: 0px; fill: rgb(99, 110, 250); fill-opacity: 1;\"/><path class=\"point\" transform=\"translate(61.22,253.5)\" d=\"M2,0A2,2 0 1,1 0,-2A2,2 0 0,1 2,0Z\" style=\"opacity: 1; stroke-width: 0px; fill: rgb(99, 110, 250); fill-opacity: 1;\"/><path class=\"point\" transform=\"translate(61.69,253.5)\" d=\"M2,0A2,2 0 1,1 0,-2A2,2 0 0,1 2,0Z\" style=\"opacity: 1; stroke-width: 0px; fill: rgb(99, 110, 250); fill-opacity: 1;\"/><path class=\"point\" transform=\"translate(62.16,253.5)\" d=\"M2,0A2,2 0 1,1 0,-2A2,2 0 0,1 2,0Z\" style=\"opacity: 1; stroke-width: 0px; fill: rgb(99, 110, 250); fill-opacity: 1;\"/><path class=\"point\" transform=\"translate(62.62,253.5)\" d=\"M2,0A2,2 0 1,1 0,-2A2,2 0 0,1 2,0Z\" style=\"opacity: 1; stroke-width: 0px; fill: rgb(99, 110, 250); fill-opacity: 1;\"/><path class=\"point\" transform=\"translate(63.09,253.5)\" d=\"M2,0A2,2 0 1,1 0,-2A2,2 0 0,1 2,0Z\" style=\"opacity: 1; stroke-width: 0px; fill: rgb(99, 110, 250); fill-opacity: 1;\"/><path class=\"point\" transform=\"translate(63.55,253.5)\" d=\"M2,0A2,2 0 1,1 0,-2A2,2 0 0,1 2,0Z\" style=\"opacity: 1; stroke-width: 0px; fill: rgb(99, 110, 250); fill-opacity: 1;\"/><path class=\"point\" transform=\"translate(64.02,253.5)\" d=\"M2,0A2,2 0 1,1 0,-2A2,2 0 0,1 2,0Z\" style=\"opacity: 1; stroke-width: 0px; fill: rgb(99, 110, 250); fill-opacity: 1;\"/><path class=\"point\" transform=\"translate(64.49,253.5)\" d=\"M2,0A2,2 0 1,1 0,-2A2,2 0 0,1 2,0Z\" style=\"opacity: 1; stroke-width: 0px; fill: rgb(99, 110, 250); fill-opacity: 1;\"/><path class=\"point\" transform=\"translate(64.95,253.5)\" d=\"M2,0A2,2 0 1,1 0,-2A2,2 0 0,1 2,0Z\" style=\"opacity: 1; stroke-width: 0px; fill: rgb(99, 110, 250); fill-opacity: 1;\"/><path class=\"point\" transform=\"translate(65.42,253.5)\" d=\"M2,0A2,2 0 1,1 0,-2A2,2 0 0,1 2,0Z\" style=\"opacity: 1; stroke-width: 0px; fill: rgb(99, 110, 250); fill-opacity: 1;\"/><path class=\"point\" transform=\"translate(65.88,253.5)\" d=\"M2,0A2,2 0 1,1 0,-2A2,2 0 0,1 2,0Z\" style=\"opacity: 1; stroke-width: 0px; fill: rgb(99, 110, 250); fill-opacity: 1;\"/><path class=\"point\" transform=\"translate(66.35,253.5)\" d=\"M2,0A2,2 0 1,1 0,-2A2,2 0 0,1 2,0Z\" style=\"opacity: 1; stroke-width: 0px; fill: rgb(99, 110, 250); fill-opacity: 1;\"/><path class=\"point\" transform=\"translate(66.82,253.5)\" d=\"M2,0A2,2 0 1,1 0,-2A2,2 0 0,1 2,0Z\" style=\"opacity: 1; stroke-width: 0px; fill: rgb(99, 110, 250); fill-opacity: 1;\"/><path class=\"point\" transform=\"translate(67.28,253.5)\" d=\"M2,0A2,2 0 1,1 0,-2A2,2 0 0,1 2,0Z\" style=\"opacity: 1; stroke-width: 0px; fill: rgb(99, 110, 250); fill-opacity: 1;\"/><path class=\"point\" transform=\"translate(67.75,253.5)\" d=\"M2,0A2,2 0 1,1 0,-2A2,2 0 0,1 2,0Z\" style=\"opacity: 1; stroke-width: 0px; fill: rgb(99, 110, 250); fill-opacity: 1;\"/><path class=\"point\" transform=\"translate(68.21,253.5)\" d=\"M2,0A2,2 0 1,1 0,-2A2,2 0 0,1 2,0Z\" style=\"opacity: 1; stroke-width: 0px; fill: rgb(99, 110, 250); fill-opacity: 1;\"/><path class=\"point\" transform=\"translate(68.68,253.5)\" d=\"M2,0A2,2 0 1,1 0,-2A2,2 0 0,1 2,0Z\" style=\"opacity: 1; stroke-width: 0px; fill: rgb(99, 110, 250); fill-opacity: 1;\"/><path class=\"point\" transform=\"translate(69.15,229.8)\" d=\"M2,0A2,2 0 1,1 0,-2A2,2 0 0,1 2,0Z\" style=\"opacity: 1; stroke-width: 0px; fill: rgb(99, 110, 250); fill-opacity: 1;\"/><path class=\"point\" transform=\"translate(69.61,253.5)\" d=\"M2,0A2,2 0 1,1 0,-2A2,2 0 0,1 2,0Z\" style=\"opacity: 1; stroke-width: 0px; fill: rgb(99, 110, 250); fill-opacity: 1;\"/><path class=\"point\" transform=\"translate(70.08,253.5)\" d=\"M2,0A2,2 0 1,1 0,-2A2,2 0 0,1 2,0Z\" style=\"opacity: 1; stroke-width: 0px; fill: rgb(99, 110, 250); fill-opacity: 1;\"/><path class=\"point\" transform=\"translate(70.54,253.5)\" d=\"M2,0A2,2 0 1,1 0,-2A2,2 0 0,1 2,0Z\" style=\"opacity: 1; stroke-width: 0px; fill: rgb(99, 110, 250); fill-opacity: 1;\"/><path class=\"point\" transform=\"translate(71.01,229.8)\" d=\"M2,0A2,2 0 1,1 0,-2A2,2 0 0,1 2,0Z\" style=\"opacity: 1; stroke-width: 0px; fill: rgb(99, 110, 250); fill-opacity: 1;\"/><path class=\"point\" transform=\"translate(71.48,253.5)\" d=\"M2,0A2,2 0 1,1 0,-2A2,2 0 0,1 2,0Z\" style=\"opacity: 1; stroke-width: 0px; fill: rgb(99, 110, 250); fill-opacity: 1;\"/><path class=\"point\" transform=\"translate(71.94,253.5)\" d=\"M2,0A2,2 0 1,1 0,-2A2,2 0 0,1 2,0Z\" style=\"opacity: 1; stroke-width: 0px; fill: rgb(99, 110, 250); fill-opacity: 1;\"/><path class=\"point\" transform=\"translate(72.41,253.5)\" d=\"M2,0A2,2 0 1,1 0,-2A2,2 0 0,1 2,0Z\" style=\"opacity: 1; stroke-width: 0px; fill: rgb(99, 110, 250); fill-opacity: 1;\"/><path class=\"point\" transform=\"translate(72.87,253.5)\" d=\"M2,0A2,2 0 1,1 0,-2A2,2 0 0,1 2,0Z\" style=\"opacity: 1; stroke-width: 0px; fill: rgb(99, 110, 250); fill-opacity: 1;\"/><path class=\"point\" transform=\"translate(73.34,253.5)\" d=\"M2,0A2,2 0 1,1 0,-2A2,2 0 0,1 2,0Z\" style=\"opacity: 1; stroke-width: 0px; fill: rgb(99, 110, 250); fill-opacity: 1;\"/><path class=\"point\" transform=\"translate(73.81,253.5)\" d=\"M2,0A2,2 0 1,1 0,-2A2,2 0 0,1 2,0Z\" style=\"opacity: 1; stroke-width: 0px; fill: rgb(99, 110, 250); fill-opacity: 1;\"/><path class=\"point\" transform=\"translate(74.27,253.5)\" d=\"M2,0A2,2 0 1,1 0,-2A2,2 0 0,1 2,0Z\" style=\"opacity: 1; stroke-width: 0px; fill: rgb(99, 110, 250); fill-opacity: 1;\"/><path class=\"point\" transform=\"translate(74.74,253.5)\" d=\"M2,0A2,2 0 1,1 0,-2A2,2 0 0,1 2,0Z\" style=\"opacity: 1; stroke-width: 0px; fill: rgb(99, 110, 250); fill-opacity: 1;\"/><path class=\"point\" transform=\"translate(75.2,206.1)\" d=\"M2,0A2,2 0 1,1 0,-2A2,2 0 0,1 2,0Z\" style=\"opacity: 1; stroke-width: 0px; fill: rgb(99, 110, 250); fill-opacity: 1;\"/><path class=\"point\" transform=\"translate(75.67,253.5)\" d=\"M2,0A2,2 0 1,1 0,-2A2,2 0 0,1 2,0Z\" style=\"opacity: 1; stroke-width: 0px; fill: rgb(99, 110, 250); fill-opacity: 1;\"/><path class=\"point\" transform=\"translate(76.14,253.5)\" d=\"M2,0A2,2 0 1,1 0,-2A2,2 0 0,1 2,0Z\" style=\"opacity: 1; stroke-width: 0px; fill: rgb(99, 110, 250); fill-opacity: 1;\"/><path class=\"point\" transform=\"translate(76.6,253.5)\" d=\"M2,0A2,2 0 1,1 0,-2A2,2 0 0,1 2,0Z\" style=\"opacity: 1; stroke-width: 0px; fill: rgb(99, 110, 250); fill-opacity: 1;\"/><path class=\"point\" transform=\"translate(77.07,229.8)\" d=\"M2,0A2,2 0 1,1 0,-2A2,2 0 0,1 2,0Z\" style=\"opacity: 1; stroke-width: 0px; fill: rgb(99, 110, 250); fill-opacity: 1;\"/><path class=\"point\" transform=\"translate(77.53,253.5)\" d=\"M2,0A2,2 0 1,1 0,-2A2,2 0 0,1 2,0Z\" style=\"opacity: 1; stroke-width: 0px; fill: rgb(99, 110, 250); fill-opacity: 1;\"/><path class=\"point\" transform=\"translate(78,253.5)\" d=\"M2,0A2,2 0 1,1 0,-2A2,2 0 0,1 2,0Z\" style=\"opacity: 1; stroke-width: 0px; fill: rgb(99, 110, 250); fill-opacity: 1;\"/><path class=\"point\" transform=\"translate(78.47,253.5)\" d=\"M2,0A2,2 0 1,1 0,-2A2,2 0 0,1 2,0Z\" style=\"opacity: 1; stroke-width: 0px; fill: rgb(99, 110, 250); fill-opacity: 1;\"/><path class=\"point\" transform=\"translate(78.93,253.5)\" d=\"M2,0A2,2 0 1,1 0,-2A2,2 0 0,1 2,0Z\" style=\"opacity: 1; stroke-width: 0px; fill: rgb(99, 110, 250); fill-opacity: 1;\"/><path class=\"point\" transform=\"translate(79.4,253.5)\" d=\"M2,0A2,2 0 1,1 0,-2A2,2 0 0,1 2,0Z\" style=\"opacity: 1; stroke-width: 0px; fill: rgb(99, 110, 250); fill-opacity: 1;\"/><path class=\"point\" transform=\"translate(79.86,253.5)\" d=\"M2,0A2,2 0 1,1 0,-2A2,2 0 0,1 2,0Z\" style=\"opacity: 1; stroke-width: 0px; fill: rgb(99, 110, 250); fill-opacity: 1;\"/><path class=\"point\" transform=\"translate(80.33,253.5)\" d=\"M2,0A2,2 0 1,1 0,-2A2,2 0 0,1 2,0Z\" style=\"opacity: 1; stroke-width: 0px; fill: rgb(99, 110, 250); fill-opacity: 1;\"/><path class=\"point\" transform=\"translate(80.8,253.5)\" d=\"M2,0A2,2 0 1,1 0,-2A2,2 0 0,1 2,0Z\" style=\"opacity: 1; stroke-width: 0px; fill: rgb(99, 110, 250); fill-opacity: 1;\"/><path class=\"point\" transform=\"translate(81.26,253.5)\" d=\"M2,0A2,2 0 1,1 0,-2A2,2 0 0,1 2,0Z\" style=\"opacity: 1; stroke-width: 0px; fill: rgb(99, 110, 250); fill-opacity: 1;\"/><path class=\"point\" transform=\"translate(81.73,253.5)\" d=\"M2,0A2,2 0 1,1 0,-2A2,2 0 0,1 2,0Z\" style=\"opacity: 1; stroke-width: 0px; fill: rgb(99, 110, 250); fill-opacity: 1;\"/><path class=\"point\" transform=\"translate(82.19,253.5)\" d=\"M2,0A2,2 0 1,1 0,-2A2,2 0 0,1 2,0Z\" style=\"opacity: 1; stroke-width: 0px; fill: rgb(99, 110, 250); fill-opacity: 1;\"/><path class=\"point\" transform=\"translate(82.66,253.5)\" d=\"M2,0A2,2 0 1,1 0,-2A2,2 0 0,1 2,0Z\" style=\"opacity: 1; stroke-width: 0px; fill: rgb(99, 110, 250); fill-opacity: 1;\"/><path class=\"point\" transform=\"translate(83.13,182.4)\" d=\"M2,0A2,2 0 1,1 0,-2A2,2 0 0,1 2,0Z\" style=\"opacity: 1; stroke-width: 0px; fill: rgb(99, 110, 250); fill-opacity: 1;\"/><path class=\"point\" transform=\"translate(83.59,253.5)\" d=\"M2,0A2,2 0 1,1 0,-2A2,2 0 0,1 2,0Z\" style=\"opacity: 1; stroke-width: 0px; fill: rgb(99, 110, 250); fill-opacity: 1;\"/><path class=\"point\" transform=\"translate(84.06,253.5)\" d=\"M2,0A2,2 0 1,1 0,-2A2,2 0 0,1 2,0Z\" style=\"opacity: 1; stroke-width: 0px; fill: rgb(99, 110, 250); fill-opacity: 1;\"/><path class=\"point\" transform=\"translate(84.52,253.5)\" d=\"M2,0A2,2 0 1,1 0,-2A2,2 0 0,1 2,0Z\" style=\"opacity: 1; stroke-width: 0px; fill: rgb(99, 110, 250); fill-opacity: 1;\"/><path class=\"point\" transform=\"translate(84.99,253.5)\" d=\"M2,0A2,2 0 1,1 0,-2A2,2 0 0,1 2,0Z\" style=\"opacity: 1; stroke-width: 0px; fill: rgb(99, 110, 250); fill-opacity: 1;\"/><path class=\"point\" transform=\"translate(85.46,229.8)\" d=\"M2,0A2,2 0 1,1 0,-2A2,2 0 0,1 2,0Z\" style=\"opacity: 1; stroke-width: 0px; fill: rgb(99, 110, 250); fill-opacity: 1;\"/><path class=\"point\" transform=\"translate(85.92,253.5)\" d=\"M2,0A2,2 0 1,1 0,-2A2,2 0 0,1 2,0Z\" style=\"opacity: 1; stroke-width: 0px; fill: rgb(99, 110, 250); fill-opacity: 1;\"/><path class=\"point\" transform=\"translate(86.39,253.5)\" d=\"M2,0A2,2 0 1,1 0,-2A2,2 0 0,1 2,0Z\" style=\"opacity: 1; stroke-width: 0px; fill: rgb(99, 110, 250); fill-opacity: 1;\"/><path class=\"point\" transform=\"translate(86.85,229.8)\" d=\"M2,0A2,2 0 1,1 0,-2A2,2 0 0,1 2,0Z\" style=\"opacity: 1; stroke-width: 0px; fill: rgb(99, 110, 250); fill-opacity: 1;\"/><path class=\"point\" transform=\"translate(87.32,253.5)\" d=\"M2,0A2,2 0 1,1 0,-2A2,2 0 0,1 2,0Z\" style=\"opacity: 1; stroke-width: 0px; fill: rgb(99, 110, 250); fill-opacity: 1;\"/><path class=\"point\" transform=\"translate(87.79,253.5)\" d=\"M2,0A2,2 0 1,1 0,-2A2,2 0 0,1 2,0Z\" style=\"opacity: 1; stroke-width: 0px; fill: rgb(99, 110, 250); fill-opacity: 1;\"/><path class=\"point\" transform=\"translate(88.25,253.5)\" d=\"M2,0A2,2 0 1,1 0,-2A2,2 0 0,1 2,0Z\" style=\"opacity: 1; stroke-width: 0px; fill: rgb(99, 110, 250); fill-opacity: 1;\"/><path class=\"point\" transform=\"translate(88.72,253.5)\" d=\"M2,0A2,2 0 1,1 0,-2A2,2 0 0,1 2,0Z\" style=\"opacity: 1; stroke-width: 0px; fill: rgb(99, 110, 250); fill-opacity: 1;\"/><path class=\"point\" transform=\"translate(89.18,253.5)\" d=\"M2,0A2,2 0 1,1 0,-2A2,2 0 0,1 2,0Z\" style=\"opacity: 1; stroke-width: 0px; fill: rgb(99, 110, 250); fill-opacity: 1;\"/><path class=\"point\" transform=\"translate(89.65,229.8)\" d=\"M2,0A2,2 0 1,1 0,-2A2,2 0 0,1 2,0Z\" style=\"opacity: 1; stroke-width: 0px; fill: rgb(99, 110, 250); fill-opacity: 1;\"/><path class=\"point\" transform=\"translate(90.12,253.5)\" d=\"M2,0A2,2 0 1,1 0,-2A2,2 0 0,1 2,0Z\" style=\"opacity: 1; stroke-width: 0px; fill: rgb(99, 110, 250); fill-opacity: 1;\"/><path class=\"point\" transform=\"translate(90.58,253.5)\" d=\"M2,0A2,2 0 1,1 0,-2A2,2 0 0,1 2,0Z\" style=\"opacity: 1; stroke-width: 0px; fill: rgb(99, 110, 250); fill-opacity: 1;\"/><path class=\"point\" transform=\"translate(91.05,253.5)\" d=\"M2,0A2,2 0 1,1 0,-2A2,2 0 0,1 2,0Z\" style=\"opacity: 1; stroke-width: 0px; fill: rgb(99, 110, 250); fill-opacity: 1;\"/><path class=\"point\" transform=\"translate(91.51,253.5)\" d=\"M2,0A2,2 0 1,1 0,-2A2,2 0 0,1 2,0Z\" style=\"opacity: 1; stroke-width: 0px; fill: rgb(99, 110, 250); fill-opacity: 1;\"/><path class=\"point\" transform=\"translate(91.98,253.5)\" d=\"M2,0A2,2 0 1,1 0,-2A2,2 0 0,1 2,0Z\" style=\"opacity: 1; stroke-width: 0px; fill: rgb(99, 110, 250); fill-opacity: 1;\"/><path class=\"point\" transform=\"translate(92.45,253.5)\" d=\"M2,0A2,2 0 1,1 0,-2A2,2 0 0,1 2,0Z\" style=\"opacity: 1; stroke-width: 0px; fill: rgb(99, 110, 250); fill-opacity: 1;\"/><path class=\"point\" transform=\"translate(92.91,253.5)\" d=\"M2,0A2,2 0 1,1 0,-2A2,2 0 0,1 2,0Z\" style=\"opacity: 1; stroke-width: 0px; fill: rgb(99, 110, 250); fill-opacity: 1;\"/><path class=\"point\" transform=\"translate(93.38,253.5)\" d=\"M2,0A2,2 0 1,1 0,-2A2,2 0 0,1 2,0Z\" style=\"opacity: 1; stroke-width: 0px; fill: rgb(99, 110, 250); fill-opacity: 1;\"/><path class=\"point\" transform=\"translate(93.84,253.5)\" d=\"M2,0A2,2 0 1,1 0,-2A2,2 0 0,1 2,0Z\" style=\"opacity: 1; stroke-width: 0px; fill: rgb(99, 110, 250); fill-opacity: 1;\"/><path class=\"point\" transform=\"translate(94.31,253.5)\" d=\"M2,0A2,2 0 1,1 0,-2A2,2 0 0,1 2,0Z\" style=\"opacity: 1; stroke-width: 0px; fill: rgb(99, 110, 250); fill-opacity: 1;\"/><path class=\"point\" transform=\"translate(94.78,253.5)\" d=\"M2,0A2,2 0 1,1 0,-2A2,2 0 0,1 2,0Z\" style=\"opacity: 1; stroke-width: 0px; fill: rgb(99, 110, 250); fill-opacity: 1;\"/><path class=\"point\" transform=\"translate(95.24,253.5)\" d=\"M2,0A2,2 0 1,1 0,-2A2,2 0 0,1 2,0Z\" style=\"opacity: 1; stroke-width: 0px; fill: rgb(99, 110, 250); fill-opacity: 1;\"/><path class=\"point\" transform=\"translate(95.71,253.5)\" d=\"M2,0A2,2 0 1,1 0,-2A2,2 0 0,1 2,0Z\" style=\"opacity: 1; stroke-width: 0px; fill: rgb(99, 110, 250); fill-opacity: 1;\"/><path class=\"point\" transform=\"translate(96.17,253.5)\" d=\"M2,0A2,2 0 1,1 0,-2A2,2 0 0,1 2,0Z\" style=\"opacity: 1; stroke-width: 0px; fill: rgb(99, 110, 250); fill-opacity: 1;\"/><path class=\"point\" transform=\"translate(96.64,253.5)\" d=\"M2,0A2,2 0 1,1 0,-2A2,2 0 0,1 2,0Z\" style=\"opacity: 1; stroke-width: 0px; fill: rgb(99, 110, 250); fill-opacity: 1;\"/><path class=\"point\" transform=\"translate(97.11,253.5)\" d=\"M2,0A2,2 0 1,1 0,-2A2,2 0 0,1 2,0Z\" style=\"opacity: 1; stroke-width: 0px; fill: rgb(99, 110, 250); fill-opacity: 1;\"/><path class=\"point\" transform=\"translate(97.57,253.5)\" d=\"M2,0A2,2 0 1,1 0,-2A2,2 0 0,1 2,0Z\" style=\"opacity: 1; stroke-width: 0px; fill: rgb(99, 110, 250); fill-opacity: 1;\"/><path class=\"point\" transform=\"translate(98.04,253.5)\" d=\"M2,0A2,2 0 1,1 0,-2A2,2 0 0,1 2,0Z\" style=\"opacity: 1; stroke-width: 0px; fill: rgb(99, 110, 250); fill-opacity: 1;\"/><path class=\"point\" transform=\"translate(98.5,253.5)\" d=\"M2,0A2,2 0 1,1 0,-2A2,2 0 0,1 2,0Z\" style=\"opacity: 1; stroke-width: 0px; fill: rgb(99, 110, 250); fill-opacity: 1;\"/><path class=\"point\" transform=\"translate(98.97,206.1)\" d=\"M2,0A2,2 0 1,1 0,-2A2,2 0 0,1 2,0Z\" style=\"opacity: 1; stroke-width: 0px; fill: rgb(99, 110, 250); fill-opacity: 1;\"/><path class=\"point\" transform=\"translate(99.44,253.5)\" d=\"M2,0A2,2 0 1,1 0,-2A2,2 0 0,1 2,0Z\" style=\"opacity: 1; stroke-width: 0px; fill: rgb(99, 110, 250); fill-opacity: 1;\"/><path class=\"point\" transform=\"translate(99.9,253.5)\" d=\"M2,0A2,2 0 1,1 0,-2A2,2 0 0,1 2,0Z\" style=\"opacity: 1; stroke-width: 0px; fill: rgb(99, 110, 250); fill-opacity: 1;\"/><path class=\"point\" transform=\"translate(100.37,253.5)\" d=\"M2,0A2,2 0 1,1 0,-2A2,2 0 0,1 2,0Z\" style=\"opacity: 1; stroke-width: 0px; fill: rgb(99, 110, 250); fill-opacity: 1;\"/><path class=\"point\" transform=\"translate(100.83,253.5)\" d=\"M2,0A2,2 0 1,1 0,-2A2,2 0 0,1 2,0Z\" style=\"opacity: 1; stroke-width: 0px; fill: rgb(99, 110, 250); fill-opacity: 1;\"/><path class=\"point\" transform=\"translate(101.3,253.5)\" d=\"M2,0A2,2 0 1,1 0,-2A2,2 0 0,1 2,0Z\" style=\"opacity: 1; stroke-width: 0px; fill: rgb(99, 110, 250); fill-opacity: 1;\"/><path class=\"point\" transform=\"translate(101.77,253.5)\" d=\"M2,0A2,2 0 1,1 0,-2A2,2 0 0,1 2,0Z\" style=\"opacity: 1; stroke-width: 0px; fill: rgb(99, 110, 250); fill-opacity: 1;\"/><path class=\"point\" transform=\"translate(102.23,253.5)\" d=\"M2,0A2,2 0 1,1 0,-2A2,2 0 0,1 2,0Z\" style=\"opacity: 1; stroke-width: 0px; fill: rgb(99, 110, 250); fill-opacity: 1;\"/><path class=\"point\" transform=\"translate(102.7,253.5)\" d=\"M2,0A2,2 0 1,1 0,-2A2,2 0 0,1 2,0Z\" style=\"opacity: 1; stroke-width: 0px; fill: rgb(99, 110, 250); fill-opacity: 1;\"/><path class=\"point\" transform=\"translate(103.17,253.5)\" d=\"M2,0A2,2 0 1,1 0,-2A2,2 0 0,1 2,0Z\" style=\"opacity: 1; stroke-width: 0px; fill: rgb(99, 110, 250); fill-opacity: 1;\"/><path class=\"point\" transform=\"translate(103.63,253.5)\" d=\"M2,0A2,2 0 1,1 0,-2A2,2 0 0,1 2,0Z\" style=\"opacity: 1; stroke-width: 0px; fill: rgb(99, 110, 250); fill-opacity: 1;\"/><path class=\"point\" transform=\"translate(104.1,253.5)\" d=\"M2,0A2,2 0 1,1 0,-2A2,2 0 0,1 2,0Z\" style=\"opacity: 1; stroke-width: 0px; fill: rgb(99, 110, 250); fill-opacity: 1;\"/><path class=\"point\" transform=\"translate(104.56,253.5)\" d=\"M2,0A2,2 0 1,1 0,-2A2,2 0 0,1 2,0Z\" style=\"opacity: 1; stroke-width: 0px; fill: rgb(99, 110, 250); fill-opacity: 1;\"/><path class=\"point\" transform=\"translate(105.03,253.5)\" d=\"M2,0A2,2 0 1,1 0,-2A2,2 0 0,1 2,0Z\" style=\"opacity: 1; stroke-width: 0px; fill: rgb(99, 110, 250); fill-opacity: 1;\"/><path class=\"point\" transform=\"translate(105.5,253.5)\" d=\"M2,0A2,2 0 1,1 0,-2A2,2 0 0,1 2,0Z\" style=\"opacity: 1; stroke-width: 0px; fill: rgb(99, 110, 250); fill-opacity: 1;\"/><path class=\"point\" transform=\"translate(105.96,253.5)\" d=\"M2,0A2,2 0 1,1 0,-2A2,2 0 0,1 2,0Z\" style=\"opacity: 1; stroke-width: 0px; fill: rgb(99, 110, 250); fill-opacity: 1;\"/><path class=\"point\" transform=\"translate(106.43,253.5)\" d=\"M2,0A2,2 0 1,1 0,-2A2,2 0 0,1 2,0Z\" style=\"opacity: 1; stroke-width: 0px; fill: rgb(99, 110, 250); fill-opacity: 1;\"/><path class=\"point\" transform=\"translate(106.89,253.5)\" d=\"M2,0A2,2 0 1,1 0,-2A2,2 0 0,1 2,0Z\" style=\"opacity: 1; stroke-width: 0px; fill: rgb(99, 110, 250); fill-opacity: 1;\"/><path class=\"point\" transform=\"translate(107.36,253.5)\" d=\"M2,0A2,2 0 1,1 0,-2A2,2 0 0,1 2,0Z\" style=\"opacity: 1; stroke-width: 0px; fill: rgb(99, 110, 250); fill-opacity: 1;\"/><path class=\"point\" transform=\"translate(107.83,229.8)\" d=\"M2,0A2,2 0 1,1 0,-2A2,2 0 0,1 2,0Z\" style=\"opacity: 1; stroke-width: 0px; fill: rgb(99, 110, 250); fill-opacity: 1;\"/><path class=\"point\" transform=\"translate(108.29,253.5)\" d=\"M2,0A2,2 0 1,1 0,-2A2,2 0 0,1 2,0Z\" style=\"opacity: 1; stroke-width: 0px; fill: rgb(99, 110, 250); fill-opacity: 1;\"/><path class=\"point\" transform=\"translate(108.76,253.5)\" d=\"M2,0A2,2 0 1,1 0,-2A2,2 0 0,1 2,0Z\" style=\"opacity: 1; stroke-width: 0px; fill: rgb(99, 110, 250); fill-opacity: 1;\"/><path class=\"point\" transform=\"translate(109.22,253.5)\" d=\"M2,0A2,2 0 1,1 0,-2A2,2 0 0,1 2,0Z\" style=\"opacity: 1; stroke-width: 0px; fill: rgb(99, 110, 250); fill-opacity: 1;\"/><path class=\"point\" transform=\"translate(109.69,253.5)\" d=\"M2,0A2,2 0 1,1 0,-2A2,2 0 0,1 2,0Z\" style=\"opacity: 1; stroke-width: 0px; fill: rgb(99, 110, 250); fill-opacity: 1;\"/><path class=\"point\" transform=\"translate(110.16,253.5)\" d=\"M2,0A2,2 0 1,1 0,-2A2,2 0 0,1 2,0Z\" style=\"opacity: 1; stroke-width: 0px; fill: rgb(99, 110, 250); fill-opacity: 1;\"/><path class=\"point\" transform=\"translate(110.62,253.5)\" d=\"M2,0A2,2 0 1,1 0,-2A2,2 0 0,1 2,0Z\" style=\"opacity: 1; stroke-width: 0px; fill: rgb(99, 110, 250); fill-opacity: 1;\"/><path class=\"point\" transform=\"translate(111.09,253.5)\" d=\"M2,0A2,2 0 1,1 0,-2A2,2 0 0,1 2,0Z\" style=\"opacity: 1; stroke-width: 0px; fill: rgb(99, 110, 250); fill-opacity: 1;\"/><path class=\"point\" transform=\"translate(111.55,253.5)\" d=\"M2,0A2,2 0 1,1 0,-2A2,2 0 0,1 2,0Z\" style=\"opacity: 1; stroke-width: 0px; fill: rgb(99, 110, 250); fill-opacity: 1;\"/><path class=\"point\" transform=\"translate(112.02,253.5)\" d=\"M2,0A2,2 0 1,1 0,-2A2,2 0 0,1 2,0Z\" style=\"opacity: 1; stroke-width: 0px; fill: rgb(99, 110, 250); fill-opacity: 1;\"/><path class=\"point\" transform=\"translate(112.49,253.5)\" d=\"M2,0A2,2 0 1,1 0,-2A2,2 0 0,1 2,0Z\" style=\"opacity: 1; stroke-width: 0px; fill: rgb(99, 110, 250); fill-opacity: 1;\"/><path class=\"point\" transform=\"translate(112.95,253.5)\" d=\"M2,0A2,2 0 1,1 0,-2A2,2 0 0,1 2,0Z\" style=\"opacity: 1; stroke-width: 0px; fill: rgb(99, 110, 250); fill-opacity: 1;\"/><path class=\"point\" transform=\"translate(113.42,253.5)\" d=\"M2,0A2,2 0 1,1 0,-2A2,2 0 0,1 2,0Z\" style=\"opacity: 1; stroke-width: 0px; fill: rgb(99, 110, 250); fill-opacity: 1;\"/><path class=\"point\" transform=\"translate(113.88,253.5)\" d=\"M2,0A2,2 0 1,1 0,-2A2,2 0 0,1 2,0Z\" style=\"opacity: 1; stroke-width: 0px; fill: rgb(99, 110, 250); fill-opacity: 1;\"/><path class=\"point\" transform=\"translate(114.35,253.5)\" d=\"M2,0A2,2 0 1,1 0,-2A2,2 0 0,1 2,0Z\" style=\"opacity: 1; stroke-width: 0px; fill: rgb(99, 110, 250); fill-opacity: 1;\"/><path class=\"point\" transform=\"translate(114.82,253.5)\" d=\"M2,0A2,2 0 1,1 0,-2A2,2 0 0,1 2,0Z\" style=\"opacity: 1; stroke-width: 0px; fill: rgb(99, 110, 250); fill-opacity: 1;\"/><path class=\"point\" transform=\"translate(115.28,253.5)\" d=\"M2,0A2,2 0 1,1 0,-2A2,2 0 0,1 2,0Z\" style=\"opacity: 1; stroke-width: 0px; fill: rgb(99, 110, 250); fill-opacity: 1;\"/><path class=\"point\" transform=\"translate(115.75,253.5)\" d=\"M2,0A2,2 0 1,1 0,-2A2,2 0 0,1 2,0Z\" style=\"opacity: 1; stroke-width: 0px; fill: rgb(99, 110, 250); fill-opacity: 1;\"/><path class=\"point\" transform=\"translate(116.21,253.5)\" d=\"M2,0A2,2 0 1,1 0,-2A2,2 0 0,1 2,0Z\" style=\"opacity: 1; stroke-width: 0px; fill: rgb(99, 110, 250); fill-opacity: 1;\"/><path class=\"point\" transform=\"translate(116.68,229.8)\" d=\"M2,0A2,2 0 1,1 0,-2A2,2 0 0,1 2,0Z\" style=\"opacity: 1; stroke-width: 0px; fill: rgb(99, 110, 250); fill-opacity: 1;\"/><path class=\"point\" transform=\"translate(117.15,253.5)\" d=\"M2,0A2,2 0 1,1 0,-2A2,2 0 0,1 2,0Z\" style=\"opacity: 1; stroke-width: 0px; fill: rgb(99, 110, 250); fill-opacity: 1;\"/><path class=\"point\" transform=\"translate(117.61,253.5)\" d=\"M2,0A2,2 0 1,1 0,-2A2,2 0 0,1 2,0Z\" style=\"opacity: 1; stroke-width: 0px; fill: rgb(99, 110, 250); fill-opacity: 1;\"/><path class=\"point\" transform=\"translate(118.08,253.5)\" d=\"M2,0A2,2 0 1,1 0,-2A2,2 0 0,1 2,0Z\" style=\"opacity: 1; stroke-width: 0px; fill: rgb(99, 110, 250); fill-opacity: 1;\"/><path class=\"point\" transform=\"translate(118.54,253.5)\" d=\"M2,0A2,2 0 1,1 0,-2A2,2 0 0,1 2,0Z\" style=\"opacity: 1; stroke-width: 0px; fill: rgb(99, 110, 250); fill-opacity: 1;\"/><path class=\"point\" transform=\"translate(119.01,253.5)\" d=\"M2,0A2,2 0 1,1 0,-2A2,2 0 0,1 2,0Z\" style=\"opacity: 1; stroke-width: 0px; fill: rgb(99, 110, 250); fill-opacity: 1;\"/><path class=\"point\" transform=\"translate(119.48,229.8)\" d=\"M2,0A2,2 0 1,1 0,-2A2,2 0 0,1 2,0Z\" style=\"opacity: 1; stroke-width: 0px; fill: rgb(99, 110, 250); fill-opacity: 1;\"/><path class=\"point\" transform=\"translate(119.94,253.5)\" d=\"M2,0A2,2 0 1,1 0,-2A2,2 0 0,1 2,0Z\" style=\"opacity: 1; stroke-width: 0px; fill: rgb(99, 110, 250); fill-opacity: 1;\"/><path class=\"point\" transform=\"translate(120.41,253.5)\" d=\"M2,0A2,2 0 1,1 0,-2A2,2 0 0,1 2,0Z\" style=\"opacity: 1; stroke-width: 0px; fill: rgb(99, 110, 250); fill-opacity: 1;\"/><path class=\"point\" transform=\"translate(120.87,253.5)\" d=\"M2,0A2,2 0 1,1 0,-2A2,2 0 0,1 2,0Z\" style=\"opacity: 1; stroke-width: 0px; fill: rgb(99, 110, 250); fill-opacity: 1;\"/><path class=\"point\" transform=\"translate(121.34,253.5)\" d=\"M2,0A2,2 0 1,1 0,-2A2,2 0 0,1 2,0Z\" style=\"opacity: 1; stroke-width: 0px; fill: rgb(99, 110, 250); fill-opacity: 1;\"/><path class=\"point\" transform=\"translate(121.81,253.5)\" d=\"M2,0A2,2 0 1,1 0,-2A2,2 0 0,1 2,0Z\" style=\"opacity: 1; stroke-width: 0px; fill: rgb(99, 110, 250); fill-opacity: 1;\"/><path class=\"point\" transform=\"translate(122.27,253.5)\" d=\"M2,0A2,2 0 1,1 0,-2A2,2 0 0,1 2,0Z\" style=\"opacity: 1; stroke-width: 0px; fill: rgb(99, 110, 250); fill-opacity: 1;\"/><path class=\"point\" transform=\"translate(122.74,253.5)\" d=\"M2,0A2,2 0 1,1 0,-2A2,2 0 0,1 2,0Z\" style=\"opacity: 1; stroke-width: 0px; fill: rgb(99, 110, 250); fill-opacity: 1;\"/><path class=\"point\" transform=\"translate(123.2,253.5)\" d=\"M2,0A2,2 0 1,1 0,-2A2,2 0 0,1 2,0Z\" style=\"opacity: 1; stroke-width: 0px; fill: rgb(99, 110, 250); fill-opacity: 1;\"/><path class=\"point\" transform=\"translate(123.67,253.5)\" d=\"M2,0A2,2 0 1,1 0,-2A2,2 0 0,1 2,0Z\" style=\"opacity: 1; stroke-width: 0px; fill: rgb(99, 110, 250); fill-opacity: 1;\"/><path class=\"point\" transform=\"translate(124.14,253.5)\" d=\"M2,0A2,2 0 1,1 0,-2A2,2 0 0,1 2,0Z\" style=\"opacity: 1; stroke-width: 0px; fill: rgb(99, 110, 250); fill-opacity: 1;\"/><path class=\"point\" transform=\"translate(124.6,253.5)\" d=\"M2,0A2,2 0 1,1 0,-2A2,2 0 0,1 2,0Z\" style=\"opacity: 1; stroke-width: 0px; fill: rgb(99, 110, 250); fill-opacity: 1;\"/><path class=\"point\" transform=\"translate(125.07,253.5)\" d=\"M2,0A2,2 0 1,1 0,-2A2,2 0 0,1 2,0Z\" style=\"opacity: 1; stroke-width: 0px; fill: rgb(99, 110, 250); fill-opacity: 1;\"/><path class=\"point\" transform=\"translate(125.53,253.5)\" d=\"M2,0A2,2 0 1,1 0,-2A2,2 0 0,1 2,0Z\" style=\"opacity: 1; stroke-width: 0px; fill: rgb(99, 110, 250); fill-opacity: 1;\"/><path class=\"point\" transform=\"translate(126,253.5)\" d=\"M2,0A2,2 0 1,1 0,-2A2,2 0 0,1 2,0Z\" style=\"opacity: 1; stroke-width: 0px; fill: rgb(99, 110, 250); fill-opacity: 1;\"/><path class=\"point\" transform=\"translate(126.47,253.5)\" d=\"M2,0A2,2 0 1,1 0,-2A2,2 0 0,1 2,0Z\" style=\"opacity: 1; stroke-width: 0px; fill: rgb(99, 110, 250); fill-opacity: 1;\"/><path class=\"point\" transform=\"translate(126.93,253.5)\" d=\"M2,0A2,2 0 1,1 0,-2A2,2 0 0,1 2,0Z\" style=\"opacity: 1; stroke-width: 0px; fill: rgb(99, 110, 250); fill-opacity: 1;\"/><path class=\"point\" transform=\"translate(127.4,253.5)\" d=\"M2,0A2,2 0 1,1 0,-2A2,2 0 0,1 2,0Z\" style=\"opacity: 1; stroke-width: 0px; fill: rgb(99, 110, 250); fill-opacity: 1;\"/><path class=\"point\" transform=\"translate(127.86,253.5)\" d=\"M2,0A2,2 0 1,1 0,-2A2,2 0 0,1 2,0Z\" style=\"opacity: 1; stroke-width: 0px; fill: rgb(99, 110, 250); fill-opacity: 1;\"/><path class=\"point\" transform=\"translate(128.33,253.5)\" d=\"M2,0A2,2 0 1,1 0,-2A2,2 0 0,1 2,0Z\" style=\"opacity: 1; stroke-width: 0px; fill: rgb(99, 110, 250); fill-opacity: 1;\"/><path class=\"point\" transform=\"translate(128.8,253.5)\" d=\"M2,0A2,2 0 1,1 0,-2A2,2 0 0,1 2,0Z\" style=\"opacity: 1; stroke-width: 0px; fill: rgb(99, 110, 250); fill-opacity: 1;\"/><path class=\"point\" transform=\"translate(129.26,253.5)\" d=\"M2,0A2,2 0 1,1 0,-2A2,2 0 0,1 2,0Z\" style=\"opacity: 1; stroke-width: 0px; fill: rgb(99, 110, 250); fill-opacity: 1;\"/><path class=\"point\" transform=\"translate(129.73,253.5)\" d=\"M2,0A2,2 0 1,1 0,-2A2,2 0 0,1 2,0Z\" style=\"opacity: 1; stroke-width: 0px; fill: rgb(99, 110, 250); fill-opacity: 1;\"/><path class=\"point\" transform=\"translate(130.19,253.5)\" d=\"M2,0A2,2 0 1,1 0,-2A2,2 0 0,1 2,0Z\" style=\"opacity: 1; stroke-width: 0px; fill: rgb(99, 110, 250); fill-opacity: 1;\"/><path class=\"point\" transform=\"translate(130.66,253.5)\" d=\"M2,0A2,2 0 1,1 0,-2A2,2 0 0,1 2,0Z\" style=\"opacity: 1; stroke-width: 0px; fill: rgb(99, 110, 250); fill-opacity: 1;\"/><path class=\"point\" transform=\"translate(131.13,253.5)\" d=\"M2,0A2,2 0 1,1 0,-2A2,2 0 0,1 2,0Z\" style=\"opacity: 1; stroke-width: 0px; fill: rgb(99, 110, 250); fill-opacity: 1;\"/><path class=\"point\" transform=\"translate(131.59,253.5)\" d=\"M2,0A2,2 0 1,1 0,-2A2,2 0 0,1 2,0Z\" style=\"opacity: 1; stroke-width: 0px; fill: rgb(99, 110, 250); fill-opacity: 1;\"/><path class=\"point\" transform=\"translate(132.06,253.5)\" d=\"M2,0A2,2 0 1,1 0,-2A2,2 0 0,1 2,0Z\" style=\"opacity: 1; stroke-width: 0px; fill: rgb(99, 110, 250); fill-opacity: 1;\"/><path class=\"point\" transform=\"translate(132.52,253.5)\" d=\"M2,0A2,2 0 1,1 0,-2A2,2 0 0,1 2,0Z\" style=\"opacity: 1; stroke-width: 0px; fill: rgb(99, 110, 250); fill-opacity: 1;\"/><path class=\"point\" transform=\"translate(132.99,253.5)\" d=\"M2,0A2,2 0 1,1 0,-2A2,2 0 0,1 2,0Z\" style=\"opacity: 1; stroke-width: 0px; fill: rgb(99, 110, 250); fill-opacity: 1;\"/><path class=\"point\" transform=\"translate(133.46,253.5)\" d=\"M2,0A2,2 0 1,1 0,-2A2,2 0 0,1 2,0Z\" style=\"opacity: 1; stroke-width: 0px; fill: rgb(99, 110, 250); fill-opacity: 1;\"/><path class=\"point\" transform=\"translate(133.92,253.5)\" d=\"M2,0A2,2 0 1,1 0,-2A2,2 0 0,1 2,0Z\" style=\"opacity: 1; stroke-width: 0px; fill: rgb(99, 110, 250); fill-opacity: 1;\"/><path class=\"point\" transform=\"translate(134.39,253.5)\" d=\"M2,0A2,2 0 1,1 0,-2A2,2 0 0,1 2,0Z\" style=\"opacity: 1; stroke-width: 0px; fill: rgb(99, 110, 250); fill-opacity: 1;\"/><path class=\"point\" transform=\"translate(134.85,253.5)\" d=\"M2,0A2,2 0 1,1 0,-2A2,2 0 0,1 2,0Z\" style=\"opacity: 1; stroke-width: 0px; fill: rgb(99, 110, 250); fill-opacity: 1;\"/><path class=\"point\" transform=\"translate(135.32,253.5)\" d=\"M2,0A2,2 0 1,1 0,-2A2,2 0 0,1 2,0Z\" style=\"opacity: 1; stroke-width: 0px; fill: rgb(99, 110, 250); fill-opacity: 1;\"/><path class=\"point\" transform=\"translate(135.79,253.5)\" d=\"M2,0A2,2 0 1,1 0,-2A2,2 0 0,1 2,0Z\" style=\"opacity: 1; stroke-width: 0px; fill: rgb(99, 110, 250); fill-opacity: 1;\"/><path class=\"point\" transform=\"translate(136.25,253.5)\" d=\"M2,0A2,2 0 1,1 0,-2A2,2 0 0,1 2,0Z\" style=\"opacity: 1; stroke-width: 0px; fill: rgb(99, 110, 250); fill-opacity: 1;\"/><path class=\"point\" transform=\"translate(136.72,253.5)\" d=\"M2,0A2,2 0 1,1 0,-2A2,2 0 0,1 2,0Z\" style=\"opacity: 1; stroke-width: 0px; fill: rgb(99, 110, 250); fill-opacity: 1;\"/><path class=\"point\" transform=\"translate(137.18,253.5)\" d=\"M2,0A2,2 0 1,1 0,-2A2,2 0 0,1 2,0Z\" style=\"opacity: 1; stroke-width: 0px; fill: rgb(99, 110, 250); fill-opacity: 1;\"/><path class=\"point\" transform=\"translate(137.65,253.5)\" d=\"M2,0A2,2 0 1,1 0,-2A2,2 0 0,1 2,0Z\" style=\"opacity: 1; stroke-width: 0px; fill: rgb(99, 110, 250); fill-opacity: 1;\"/><path class=\"point\" transform=\"translate(138.12,253.5)\" d=\"M2,0A2,2 0 1,1 0,-2A2,2 0 0,1 2,0Z\" style=\"opacity: 1; stroke-width: 0px; fill: rgb(99, 110, 250); fill-opacity: 1;\"/><path class=\"point\" transform=\"translate(138.58,253.5)\" d=\"M2,0A2,2 0 1,1 0,-2A2,2 0 0,1 2,0Z\" style=\"opacity: 1; stroke-width: 0px; fill: rgb(99, 110, 250); fill-opacity: 1;\"/><path class=\"point\" transform=\"translate(139.05,253.5)\" d=\"M2,0A2,2 0 1,1 0,-2A2,2 0 0,1 2,0Z\" style=\"opacity: 1; stroke-width: 0px; fill: rgb(99, 110, 250); fill-opacity: 1;\"/><path class=\"point\" transform=\"translate(139.51,253.5)\" d=\"M2,0A2,2 0 1,1 0,-2A2,2 0 0,1 2,0Z\" style=\"opacity: 1; stroke-width: 0px; fill: rgb(99, 110, 250); fill-opacity: 1;\"/><path class=\"point\" transform=\"translate(139.98,229.8)\" d=\"M2,0A2,2 0 1,1 0,-2A2,2 0 0,1 2,0Z\" style=\"opacity: 1; stroke-width: 0px; fill: rgb(99, 110, 250); fill-opacity: 1;\"/><path class=\"point\" transform=\"translate(140.45,253.5)\" d=\"M2,0A2,2 0 1,1 0,-2A2,2 0 0,1 2,0Z\" style=\"opacity: 1; stroke-width: 0px; fill: rgb(99, 110, 250); fill-opacity: 1;\"/><path class=\"point\" transform=\"translate(140.91,253.5)\" d=\"M2,0A2,2 0 1,1 0,-2A2,2 0 0,1 2,0Z\" style=\"opacity: 1; stroke-width: 0px; fill: rgb(99, 110, 250); fill-opacity: 1;\"/><path class=\"point\" transform=\"translate(141.38,253.5)\" d=\"M2,0A2,2 0 1,1 0,-2A2,2 0 0,1 2,0Z\" style=\"opacity: 1; stroke-width: 0px; fill: rgb(99, 110, 250); fill-opacity: 1;\"/><path class=\"point\" transform=\"translate(141.84,253.5)\" d=\"M2,0A2,2 0 1,1 0,-2A2,2 0 0,1 2,0Z\" style=\"opacity: 1; stroke-width: 0px; fill: rgb(99, 110, 250); fill-opacity: 1;\"/><path class=\"point\" transform=\"translate(142.31,253.5)\" d=\"M2,0A2,2 0 1,1 0,-2A2,2 0 0,1 2,0Z\" style=\"opacity: 1; stroke-width: 0px; fill: rgb(99, 110, 250); fill-opacity: 1;\"/><path class=\"point\" transform=\"translate(142.78,253.5)\" d=\"M2,0A2,2 0 1,1 0,-2A2,2 0 0,1 2,0Z\" style=\"opacity: 1; stroke-width: 0px; fill: rgb(99, 110, 250); fill-opacity: 1;\"/><path class=\"point\" transform=\"translate(143.24,253.5)\" d=\"M2,0A2,2 0 1,1 0,-2A2,2 0 0,1 2,0Z\" style=\"opacity: 1; stroke-width: 0px; fill: rgb(99, 110, 250); fill-opacity: 1;\"/><path class=\"point\" transform=\"translate(143.71,253.5)\" d=\"M2,0A2,2 0 1,1 0,-2A2,2 0 0,1 2,0Z\" style=\"opacity: 1; stroke-width: 0px; fill: rgb(99, 110, 250); fill-opacity: 1;\"/><path class=\"point\" transform=\"translate(144.17,253.5)\" d=\"M2,0A2,2 0 1,1 0,-2A2,2 0 0,1 2,0Z\" style=\"opacity: 1; stroke-width: 0px; fill: rgb(99, 110, 250); fill-opacity: 1;\"/><path class=\"point\" transform=\"translate(144.64,253.5)\" d=\"M2,0A2,2 0 1,1 0,-2A2,2 0 0,1 2,0Z\" style=\"opacity: 1; stroke-width: 0px; fill: rgb(99, 110, 250); fill-opacity: 1;\"/><path class=\"point\" transform=\"translate(145.11,253.5)\" d=\"M2,0A2,2 0 1,1 0,-2A2,2 0 0,1 2,0Z\" style=\"opacity: 1; stroke-width: 0px; fill: rgb(99, 110, 250); fill-opacity: 1;\"/><path class=\"point\" transform=\"translate(145.57,253.5)\" d=\"M2,0A2,2 0 1,1 0,-2A2,2 0 0,1 2,0Z\" style=\"opacity: 1; stroke-width: 0px; fill: rgb(99, 110, 250); fill-opacity: 1;\"/><path class=\"point\" transform=\"translate(146.04,253.5)\" d=\"M2,0A2,2 0 1,1 0,-2A2,2 0 0,1 2,0Z\" style=\"opacity: 1; stroke-width: 0px; fill: rgb(99, 110, 250); fill-opacity: 1;\"/><path class=\"point\" transform=\"translate(146.5,253.5)\" d=\"M2,0A2,2 0 1,1 0,-2A2,2 0 0,1 2,0Z\" style=\"opacity: 1; stroke-width: 0px; fill: rgb(99, 110, 250); fill-opacity: 1;\"/><path class=\"point\" transform=\"translate(146.97,253.5)\" d=\"M2,0A2,2 0 1,1 0,-2A2,2 0 0,1 2,0Z\" style=\"opacity: 1; stroke-width: 0px; fill: rgb(99, 110, 250); fill-opacity: 1;\"/><path class=\"point\" transform=\"translate(147.44,253.5)\" d=\"M2,0A2,2 0 1,1 0,-2A2,2 0 0,1 2,0Z\" style=\"opacity: 1; stroke-width: 0px; fill: rgb(99, 110, 250); fill-opacity: 1;\"/><path class=\"point\" transform=\"translate(147.9,253.5)\" d=\"M2,0A2,2 0 1,1 0,-2A2,2 0 0,1 2,0Z\" style=\"opacity: 1; stroke-width: 0px; fill: rgb(99, 110, 250); fill-opacity: 1;\"/><path class=\"point\" transform=\"translate(148.37,253.5)\" d=\"M2,0A2,2 0 1,1 0,-2A2,2 0 0,1 2,0Z\" style=\"opacity: 1; stroke-width: 0px; fill: rgb(99, 110, 250); fill-opacity: 1;\"/><path class=\"point\" transform=\"translate(148.83,253.5)\" d=\"M2,0A2,2 0 1,1 0,-2A2,2 0 0,1 2,0Z\" style=\"opacity: 1; stroke-width: 0px; fill: rgb(99, 110, 250); fill-opacity: 1;\"/><path class=\"point\" transform=\"translate(149.3,253.5)\" d=\"M2,0A2,2 0 1,1 0,-2A2,2 0 0,1 2,0Z\" style=\"opacity: 1; stroke-width: 0px; fill: rgb(99, 110, 250); fill-opacity: 1;\"/><path class=\"point\" transform=\"translate(149.77,253.5)\" d=\"M2,0A2,2 0 1,1 0,-2A2,2 0 0,1 2,0Z\" style=\"opacity: 1; stroke-width: 0px; fill: rgb(99, 110, 250); fill-opacity: 1;\"/><path class=\"point\" transform=\"translate(150.23,253.5)\" d=\"M2,0A2,2 0 1,1 0,-2A2,2 0 0,1 2,0Z\" style=\"opacity: 1; stroke-width: 0px; fill: rgb(99, 110, 250); fill-opacity: 1;\"/><path class=\"point\" transform=\"translate(150.7,253.5)\" d=\"M2,0A2,2 0 1,1 0,-2A2,2 0 0,1 2,0Z\" style=\"opacity: 1; stroke-width: 0px; fill: rgb(99, 110, 250); fill-opacity: 1;\"/><path class=\"point\" transform=\"translate(151.17,253.5)\" d=\"M2,0A2,2 0 1,1 0,-2A2,2 0 0,1 2,0Z\" style=\"opacity: 1; stroke-width: 0px; fill: rgb(99, 110, 250); fill-opacity: 1;\"/><path class=\"point\" transform=\"translate(151.63,253.5)\" d=\"M2,0A2,2 0 1,1 0,-2A2,2 0 0,1 2,0Z\" style=\"opacity: 1; stroke-width: 0px; fill: rgb(99, 110, 250); fill-opacity: 1;\"/><path class=\"point\" transform=\"translate(152.1,253.5)\" d=\"M2,0A2,2 0 1,1 0,-2A2,2 0 0,1 2,0Z\" style=\"opacity: 1; stroke-width: 0px; fill: rgb(99, 110, 250); fill-opacity: 1;\"/><path class=\"point\" transform=\"translate(152.56,253.5)\" d=\"M2,0A2,2 0 1,1 0,-2A2,2 0 0,1 2,0Z\" style=\"opacity: 1; stroke-width: 0px; fill: rgb(99, 110, 250); fill-opacity: 1;\"/><path class=\"point\" transform=\"translate(153.03,253.5)\" d=\"M2,0A2,2 0 1,1 0,-2A2,2 0 0,1 2,0Z\" style=\"opacity: 1; stroke-width: 0px; fill: rgb(99, 110, 250); fill-opacity: 1;\"/><path class=\"point\" transform=\"translate(153.5,253.5)\" d=\"M2,0A2,2 0 1,1 0,-2A2,2 0 0,1 2,0Z\" style=\"opacity: 1; stroke-width: 0px; fill: rgb(99, 110, 250); fill-opacity: 1;\"/><path class=\"point\" transform=\"translate(153.96,253.5)\" d=\"M2,0A2,2 0 1,1 0,-2A2,2 0 0,1 2,0Z\" style=\"opacity: 1; stroke-width: 0px; fill: rgb(99, 110, 250); fill-opacity: 1;\"/><path class=\"point\" transform=\"translate(154.43,253.5)\" d=\"M2,0A2,2 0 1,1 0,-2A2,2 0 0,1 2,0Z\" style=\"opacity: 1; stroke-width: 0px; fill: rgb(99, 110, 250); fill-opacity: 1;\"/><path class=\"point\" transform=\"translate(154.89,253.5)\" d=\"M2,0A2,2 0 1,1 0,-2A2,2 0 0,1 2,0Z\" style=\"opacity: 1; stroke-width: 0px; fill: rgb(99, 110, 250); fill-opacity: 1;\"/><path class=\"point\" transform=\"translate(155.36,253.5)\" d=\"M2,0A2,2 0 1,1 0,-2A2,2 0 0,1 2,0Z\" style=\"opacity: 1; stroke-width: 0px; fill: rgb(99, 110, 250); fill-opacity: 1;\"/><path class=\"point\" transform=\"translate(155.83,253.5)\" d=\"M2,0A2,2 0 1,1 0,-2A2,2 0 0,1 2,0Z\" style=\"opacity: 1; stroke-width: 0px; fill: rgb(99, 110, 250); fill-opacity: 1;\"/><path class=\"point\" transform=\"translate(156.29,253.5)\" d=\"M2,0A2,2 0 1,1 0,-2A2,2 0 0,1 2,0Z\" style=\"opacity: 1; stroke-width: 0px; fill: rgb(99, 110, 250); fill-opacity: 1;\"/><path class=\"point\" transform=\"translate(156.76,253.5)\" d=\"M2,0A2,2 0 1,1 0,-2A2,2 0 0,1 2,0Z\" style=\"opacity: 1; stroke-width: 0px; fill: rgb(99, 110, 250); fill-opacity: 1;\"/><path class=\"point\" transform=\"translate(157.22,253.5)\" d=\"M2,0A2,2 0 1,1 0,-2A2,2 0 0,1 2,0Z\" style=\"opacity: 1; stroke-width: 0px; fill: rgb(99, 110, 250); fill-opacity: 1;\"/><path class=\"point\" transform=\"translate(157.69,253.5)\" d=\"M2,0A2,2 0 1,1 0,-2A2,2 0 0,1 2,0Z\" style=\"opacity: 1; stroke-width: 0px; fill: rgb(99, 110, 250); fill-opacity: 1;\"/><path class=\"point\" transform=\"translate(158.16,253.5)\" d=\"M2,0A2,2 0 1,1 0,-2A2,2 0 0,1 2,0Z\" style=\"opacity: 1; stroke-width: 0px; fill: rgb(99, 110, 250); fill-opacity: 1;\"/><path class=\"point\" transform=\"translate(158.62,253.5)\" d=\"M2,0A2,2 0 1,1 0,-2A2,2 0 0,1 2,0Z\" style=\"opacity: 1; stroke-width: 0px; fill: rgb(99, 110, 250); fill-opacity: 1;\"/><path class=\"point\" transform=\"translate(159.09,253.5)\" d=\"M2,0A2,2 0 1,1 0,-2A2,2 0 0,1 2,0Z\" style=\"opacity: 1; stroke-width: 0px; fill: rgb(99, 110, 250); fill-opacity: 1;\"/><path class=\"point\" transform=\"translate(159.55,253.5)\" d=\"M2,0A2,2 0 1,1 0,-2A2,2 0 0,1 2,0Z\" style=\"opacity: 1; stroke-width: 0px; fill: rgb(99, 110, 250); fill-opacity: 1;\"/><path class=\"point\" transform=\"translate(160.02,253.5)\" d=\"M2,0A2,2 0 1,1 0,-2A2,2 0 0,1 2,0Z\" style=\"opacity: 1; stroke-width: 0px; fill: rgb(99, 110, 250); fill-opacity: 1;\"/><path class=\"point\" transform=\"translate(160.49,253.5)\" d=\"M2,0A2,2 0 1,1 0,-2A2,2 0 0,1 2,0Z\" style=\"opacity: 1; stroke-width: 0px; fill: rgb(99, 110, 250); fill-opacity: 1;\"/><path class=\"point\" transform=\"translate(160.95,253.5)\" d=\"M2,0A2,2 0 1,1 0,-2A2,2 0 0,1 2,0Z\" style=\"opacity: 1; stroke-width: 0px; fill: rgb(99, 110, 250); fill-opacity: 1;\"/><path class=\"point\" transform=\"translate(161.42,253.5)\" d=\"M2,0A2,2 0 1,1 0,-2A2,2 0 0,1 2,0Z\" style=\"opacity: 1; stroke-width: 0px; fill: rgb(99, 110, 250); fill-opacity: 1;\"/><path class=\"point\" transform=\"translate(161.88,253.5)\" d=\"M2,0A2,2 0 1,1 0,-2A2,2 0 0,1 2,0Z\" style=\"opacity: 1; stroke-width: 0px; fill: rgb(99, 110, 250); fill-opacity: 1;\"/><path class=\"point\" transform=\"translate(162.35,253.5)\" d=\"M2,0A2,2 0 1,1 0,-2A2,2 0 0,1 2,0Z\" style=\"opacity: 1; stroke-width: 0px; fill: rgb(99, 110, 250); fill-opacity: 1;\"/><path class=\"point\" transform=\"translate(162.82,253.5)\" d=\"M2,0A2,2 0 1,1 0,-2A2,2 0 0,1 2,0Z\" style=\"opacity: 1; stroke-width: 0px; fill: rgb(99, 110, 250); fill-opacity: 1;\"/><path class=\"point\" transform=\"translate(163.28,253.5)\" d=\"M2,0A2,2 0 1,1 0,-2A2,2 0 0,1 2,0Z\" style=\"opacity: 1; stroke-width: 0px; fill: rgb(99, 110, 250); fill-opacity: 1;\"/><path class=\"point\" transform=\"translate(163.75,253.5)\" d=\"M2,0A2,2 0 1,1 0,-2A2,2 0 0,1 2,0Z\" style=\"opacity: 1; stroke-width: 0px; fill: rgb(99, 110, 250); fill-opacity: 1;\"/><path class=\"point\" transform=\"translate(164.21,253.5)\" d=\"M2,0A2,2 0 1,1 0,-2A2,2 0 0,1 2,0Z\" style=\"opacity: 1; stroke-width: 0px; fill: rgb(99, 110, 250); fill-opacity: 1;\"/><path class=\"point\" transform=\"translate(164.68,253.5)\" d=\"M2,0A2,2 0 1,1 0,-2A2,2 0 0,1 2,0Z\" style=\"opacity: 1; stroke-width: 0px; fill: rgb(99, 110, 250); fill-opacity: 1;\"/><path class=\"point\" transform=\"translate(165.15,253.5)\" d=\"M2,0A2,2 0 1,1 0,-2A2,2 0 0,1 2,0Z\" style=\"opacity: 1; stroke-width: 0px; fill: rgb(99, 110, 250); fill-opacity: 1;\"/><path class=\"point\" transform=\"translate(165.61,253.5)\" d=\"M2,0A2,2 0 1,1 0,-2A2,2 0 0,1 2,0Z\" style=\"opacity: 1; stroke-width: 0px; fill: rgb(99, 110, 250); fill-opacity: 1;\"/><path class=\"point\" transform=\"translate(166.08,253.5)\" d=\"M2,0A2,2 0 1,1 0,-2A2,2 0 0,1 2,0Z\" style=\"opacity: 1; stroke-width: 0px; fill: rgb(99, 110, 250); fill-opacity: 1;\"/><path class=\"point\" transform=\"translate(166.54,253.5)\" d=\"M2,0A2,2 0 1,1 0,-2A2,2 0 0,1 2,0Z\" style=\"opacity: 1; stroke-width: 0px; fill: rgb(99, 110, 250); fill-opacity: 1;\"/><path class=\"point\" transform=\"translate(167.01,253.5)\" d=\"M2,0A2,2 0 1,1 0,-2A2,2 0 0,1 2,0Z\" style=\"opacity: 1; stroke-width: 0px; fill: rgb(99, 110, 250); fill-opacity: 1;\"/><path class=\"point\" transform=\"translate(167.48,253.5)\" d=\"M2,0A2,2 0 1,1 0,-2A2,2 0 0,1 2,0Z\" style=\"opacity: 1; stroke-width: 0px; fill: rgb(99, 110, 250); fill-opacity: 1;\"/><path class=\"point\" transform=\"translate(167.94,253.5)\" d=\"M2,0A2,2 0 1,1 0,-2A2,2 0 0,1 2,0Z\" style=\"opacity: 1; stroke-width: 0px; fill: rgb(99, 110, 250); fill-opacity: 1;\"/><path class=\"point\" transform=\"translate(168.41,253.5)\" d=\"M2,0A2,2 0 1,1 0,-2A2,2 0 0,1 2,0Z\" style=\"opacity: 1; stroke-width: 0px; fill: rgb(99, 110, 250); fill-opacity: 1;\"/><path class=\"point\" transform=\"translate(168.87,253.5)\" d=\"M2,0A2,2 0 1,1 0,-2A2,2 0 0,1 2,0Z\" style=\"opacity: 1; stroke-width: 0px; fill: rgb(99, 110, 250); fill-opacity: 1;\"/><path class=\"point\" transform=\"translate(169.34,158.7)\" d=\"M2,0A2,2 0 1,1 0,-2A2,2 0 0,1 2,0Z\" style=\"opacity: 1; stroke-width: 0px; fill: rgb(99, 110, 250); fill-opacity: 1;\"/><path class=\"point\" transform=\"translate(169.81,253.5)\" d=\"M2,0A2,2 0 1,1 0,-2A2,2 0 0,1 2,0Z\" style=\"opacity: 1; stroke-width: 0px; fill: rgb(99, 110, 250); fill-opacity: 1;\"/><path class=\"point\" transform=\"translate(170.27,253.5)\" d=\"M2,0A2,2 0 1,1 0,-2A2,2 0 0,1 2,0Z\" style=\"opacity: 1; stroke-width: 0px; fill: rgb(99, 110, 250); fill-opacity: 1;\"/><path class=\"point\" transform=\"translate(170.74,253.5)\" d=\"M2,0A2,2 0 1,1 0,-2A2,2 0 0,1 2,0Z\" style=\"opacity: 1; stroke-width: 0px; fill: rgb(99, 110, 250); fill-opacity: 1;\"/><path class=\"point\" transform=\"translate(171.2,253.5)\" d=\"M2,0A2,2 0 1,1 0,-2A2,2 0 0,1 2,0Z\" style=\"opacity: 1; stroke-width: 0px; fill: rgb(99, 110, 250); fill-opacity: 1;\"/><path class=\"point\" transform=\"translate(171.67,253.5)\" d=\"M2,0A2,2 0 1,1 0,-2A2,2 0 0,1 2,0Z\" style=\"opacity: 1; stroke-width: 0px; fill: rgb(99, 110, 250); fill-opacity: 1;\"/><path class=\"point\" transform=\"translate(172.14,253.5)\" d=\"M2,0A2,2 0 1,1 0,-2A2,2 0 0,1 2,0Z\" style=\"opacity: 1; stroke-width: 0px; fill: rgb(99, 110, 250); fill-opacity: 1;\"/><path class=\"point\" transform=\"translate(172.6,253.5)\" d=\"M2,0A2,2 0 1,1 0,-2A2,2 0 0,1 2,0Z\" style=\"opacity: 1; stroke-width: 0px; fill: rgb(99, 110, 250); fill-opacity: 1;\"/><path class=\"point\" transform=\"translate(173.07,253.5)\" d=\"M2,0A2,2 0 1,1 0,-2A2,2 0 0,1 2,0Z\" style=\"opacity: 1; stroke-width: 0px; fill: rgb(99, 110, 250); fill-opacity: 1;\"/><path class=\"point\" transform=\"translate(173.53,253.5)\" d=\"M2,0A2,2 0 1,1 0,-2A2,2 0 0,1 2,0Z\" style=\"opacity: 1; stroke-width: 0px; fill: rgb(99, 110, 250); fill-opacity: 1;\"/><path class=\"point\" transform=\"translate(174,253.5)\" d=\"M2,0A2,2 0 1,1 0,-2A2,2 0 0,1 2,0Z\" style=\"opacity: 1; stroke-width: 0px; fill: rgb(99, 110, 250); fill-opacity: 1;\"/><path class=\"point\" transform=\"translate(174.47,253.5)\" d=\"M2,0A2,2 0 1,1 0,-2A2,2 0 0,1 2,0Z\" style=\"opacity: 1; stroke-width: 0px; fill: rgb(99, 110, 250); fill-opacity: 1;\"/><path class=\"point\" transform=\"translate(174.93,206.1)\" d=\"M2,0A2,2 0 1,1 0,-2A2,2 0 0,1 2,0Z\" style=\"opacity: 1; stroke-width: 0px; fill: rgb(99, 110, 250); fill-opacity: 1;\"/><path class=\"point\" transform=\"translate(175.4,253.5)\" d=\"M2,0A2,2 0 1,1 0,-2A2,2 0 0,1 2,0Z\" style=\"opacity: 1; stroke-width: 0px; fill: rgb(99, 110, 250); fill-opacity: 1;\"/><path class=\"point\" transform=\"translate(175.86,253.5)\" d=\"M2,0A2,2 0 1,1 0,-2A2,2 0 0,1 2,0Z\" style=\"opacity: 1; stroke-width: 0px; fill: rgb(99, 110, 250); fill-opacity: 1;\"/><path class=\"point\" transform=\"translate(176.33,253.5)\" d=\"M2,0A2,2 0 1,1 0,-2A2,2 0 0,1 2,0Z\" style=\"opacity: 1; stroke-width: 0px; fill: rgb(99, 110, 250); fill-opacity: 1;\"/><path class=\"point\" transform=\"translate(176.8,253.5)\" d=\"M2,0A2,2 0 1,1 0,-2A2,2 0 0,1 2,0Z\" style=\"opacity: 1; stroke-width: 0px; fill: rgb(99, 110, 250); fill-opacity: 1;\"/><path class=\"point\" transform=\"translate(177.26,229.8)\" d=\"M2,0A2,2 0 1,1 0,-2A2,2 0 0,1 2,0Z\" style=\"opacity: 1; stroke-width: 0px; fill: rgb(99, 110, 250); fill-opacity: 1;\"/><path class=\"point\" transform=\"translate(177.73,253.5)\" d=\"M2,0A2,2 0 1,1 0,-2A2,2 0 0,1 2,0Z\" style=\"opacity: 1; stroke-width: 0px; fill: rgb(99, 110, 250); fill-opacity: 1;\"/><path class=\"point\" transform=\"translate(178.19,229.8)\" d=\"M2,0A2,2 0 1,1 0,-2A2,2 0 0,1 2,0Z\" style=\"opacity: 1; stroke-width: 0px; fill: rgb(99, 110, 250); fill-opacity: 1;\"/><path class=\"point\" transform=\"translate(178.66,253.5)\" d=\"M2,0A2,2 0 1,1 0,-2A2,2 0 0,1 2,0Z\" style=\"opacity: 1; stroke-width: 0px; fill: rgb(99, 110, 250); fill-opacity: 1;\"/><path class=\"point\" transform=\"translate(179.13,253.5)\" d=\"M2,0A2,2 0 1,1 0,-2A2,2 0 0,1 2,0Z\" style=\"opacity: 1; stroke-width: 0px; fill: rgb(99, 110, 250); fill-opacity: 1;\"/><path class=\"point\" transform=\"translate(179.59,253.5)\" d=\"M2,0A2,2 0 1,1 0,-2A2,2 0 0,1 2,0Z\" style=\"opacity: 1; stroke-width: 0px; fill: rgb(99, 110, 250); fill-opacity: 1;\"/><path class=\"point\" transform=\"translate(180.06,253.5)\" d=\"M2,0A2,2 0 1,1 0,-2A2,2 0 0,1 2,0Z\" style=\"opacity: 1; stroke-width: 0px; fill: rgb(99, 110, 250); fill-opacity: 1;\"/><path class=\"point\" transform=\"translate(180.52,253.5)\" d=\"M2,0A2,2 0 1,1 0,-2A2,2 0 0,1 2,0Z\" style=\"opacity: 1; stroke-width: 0px; fill: rgb(99, 110, 250); fill-opacity: 1;\"/><path class=\"point\" transform=\"translate(180.99,253.5)\" d=\"M2,0A2,2 0 1,1 0,-2A2,2 0 0,1 2,0Z\" style=\"opacity: 1; stroke-width: 0px; fill: rgb(99, 110, 250); fill-opacity: 1;\"/><path class=\"point\" transform=\"translate(181.46,253.5)\" d=\"M2,0A2,2 0 1,1 0,-2A2,2 0 0,1 2,0Z\" style=\"opacity: 1; stroke-width: 0px; fill: rgb(99, 110, 250); fill-opacity: 1;\"/><path class=\"point\" transform=\"translate(181.92,253.5)\" d=\"M2,0A2,2 0 1,1 0,-2A2,2 0 0,1 2,0Z\" style=\"opacity: 1; stroke-width: 0px; fill: rgb(99, 110, 250); fill-opacity: 1;\"/><path class=\"point\" transform=\"translate(182.39,253.5)\" d=\"M2,0A2,2 0 1,1 0,-2A2,2 0 0,1 2,0Z\" style=\"opacity: 1; stroke-width: 0px; fill: rgb(99, 110, 250); fill-opacity: 1;\"/><path class=\"point\" transform=\"translate(182.85,253.5)\" d=\"M2,0A2,2 0 1,1 0,-2A2,2 0 0,1 2,0Z\" style=\"opacity: 1; stroke-width: 0px; fill: rgb(99, 110, 250); fill-opacity: 1;\"/><path class=\"point\" transform=\"translate(183.32,253.5)\" d=\"M2,0A2,2 0 1,1 0,-2A2,2 0 0,1 2,0Z\" style=\"opacity: 1; stroke-width: 0px; fill: rgb(99, 110, 250); fill-opacity: 1;\"/><path class=\"point\" transform=\"translate(183.79,253.5)\" d=\"M2,0A2,2 0 1,1 0,-2A2,2 0 0,1 2,0Z\" style=\"opacity: 1; stroke-width: 0px; fill: rgb(99, 110, 250); fill-opacity: 1;\"/><path class=\"point\" transform=\"translate(184.25,253.5)\" d=\"M2,0A2,2 0 1,1 0,-2A2,2 0 0,1 2,0Z\" style=\"opacity: 1; stroke-width: 0px; fill: rgb(99, 110, 250); fill-opacity: 1;\"/><path class=\"point\" transform=\"translate(184.72,253.5)\" d=\"M2,0A2,2 0 1,1 0,-2A2,2 0 0,1 2,0Z\" style=\"opacity: 1; stroke-width: 0px; fill: rgb(99, 110, 250); fill-opacity: 1;\"/><path class=\"point\" transform=\"translate(185.18,253.5)\" d=\"M2,0A2,2 0 1,1 0,-2A2,2 0 0,1 2,0Z\" style=\"opacity: 1; stroke-width: 0px; fill: rgb(99, 110, 250); fill-opacity: 1;\"/><path class=\"point\" transform=\"translate(185.65,253.5)\" d=\"M2,0A2,2 0 1,1 0,-2A2,2 0 0,1 2,0Z\" style=\"opacity: 1; stroke-width: 0px; fill: rgb(99, 110, 250); fill-opacity: 1;\"/><path class=\"point\" transform=\"translate(186.12,253.5)\" d=\"M2,0A2,2 0 1,1 0,-2A2,2 0 0,1 2,0Z\" style=\"opacity: 1; stroke-width: 0px; fill: rgb(99, 110, 250); fill-opacity: 1;\"/><path class=\"point\" transform=\"translate(186.58,253.5)\" d=\"M2,0A2,2 0 1,1 0,-2A2,2 0 0,1 2,0Z\" style=\"opacity: 1; stroke-width: 0px; fill: rgb(99, 110, 250); fill-opacity: 1;\"/><path class=\"point\" transform=\"translate(187.05,253.5)\" d=\"M2,0A2,2 0 1,1 0,-2A2,2 0 0,1 2,0Z\" style=\"opacity: 1; stroke-width: 0px; fill: rgb(99, 110, 250); fill-opacity: 1;\"/><path class=\"point\" transform=\"translate(187.51,253.5)\" d=\"M2,0A2,2 0 1,1 0,-2A2,2 0 0,1 2,0Z\" style=\"opacity: 1; stroke-width: 0px; fill: rgb(99, 110, 250); fill-opacity: 1;\"/><path class=\"point\" transform=\"translate(187.98,229.8)\" d=\"M2,0A2,2 0 1,1 0,-2A2,2 0 0,1 2,0Z\" style=\"opacity: 1; stroke-width: 0px; fill: rgb(99, 110, 250); fill-opacity: 1;\"/><path class=\"point\" transform=\"translate(188.45,206.1)\" d=\"M2,0A2,2 0 1,1 0,-2A2,2 0 0,1 2,0Z\" style=\"opacity: 1; stroke-width: 0px; fill: rgb(99, 110, 250); fill-opacity: 1;\"/><path class=\"point\" transform=\"translate(188.91,253.5)\" d=\"M2,0A2,2 0 1,1 0,-2A2,2 0 0,1 2,0Z\" style=\"opacity: 1; stroke-width: 0px; fill: rgb(99, 110, 250); fill-opacity: 1;\"/><path class=\"point\" transform=\"translate(189.38,253.5)\" d=\"M2,0A2,2 0 1,1 0,-2A2,2 0 0,1 2,0Z\" style=\"opacity: 1; stroke-width: 0px; fill: rgb(99, 110, 250); fill-opacity: 1;\"/><path class=\"point\" transform=\"translate(189.84,253.5)\" d=\"M2,0A2,2 0 1,1 0,-2A2,2 0 0,1 2,0Z\" style=\"opacity: 1; stroke-width: 0px; fill: rgb(99, 110, 250); fill-opacity: 1;\"/><path class=\"point\" transform=\"translate(190.31,253.5)\" d=\"M2,0A2,2 0 1,1 0,-2A2,2 0 0,1 2,0Z\" style=\"opacity: 1; stroke-width: 0px; fill: rgb(99, 110, 250); fill-opacity: 1;\"/><path class=\"point\" transform=\"translate(190.78,253.5)\" d=\"M2,0A2,2 0 1,1 0,-2A2,2 0 0,1 2,0Z\" style=\"opacity: 1; stroke-width: 0px; fill: rgb(99, 110, 250); fill-opacity: 1;\"/><path class=\"point\" transform=\"translate(191.24,253.5)\" d=\"M2,0A2,2 0 1,1 0,-2A2,2 0 0,1 2,0Z\" style=\"opacity: 1; stroke-width: 0px; fill: rgb(99, 110, 250); fill-opacity: 1;\"/><path class=\"point\" transform=\"translate(191.71,253.5)\" d=\"M2,0A2,2 0 1,1 0,-2A2,2 0 0,1 2,0Z\" style=\"opacity: 1; stroke-width: 0px; fill: rgb(99, 110, 250); fill-opacity: 1;\"/><path class=\"point\" transform=\"translate(192.17,253.5)\" d=\"M2,0A2,2 0 1,1 0,-2A2,2 0 0,1 2,0Z\" style=\"opacity: 1; stroke-width: 0px; fill: rgb(99, 110, 250); fill-opacity: 1;\"/><path class=\"point\" transform=\"translate(192.64,253.5)\" d=\"M2,0A2,2 0 1,1 0,-2A2,2 0 0,1 2,0Z\" style=\"opacity: 1; stroke-width: 0px; fill: rgb(99, 110, 250); fill-opacity: 1;\"/><path class=\"point\" transform=\"translate(193.11,253.5)\" d=\"M2,0A2,2 0 1,1 0,-2A2,2 0 0,1 2,0Z\" style=\"opacity: 1; stroke-width: 0px; fill: rgb(99, 110, 250); fill-opacity: 1;\"/><path class=\"point\" transform=\"translate(193.57,253.5)\" d=\"M2,0A2,2 0 1,1 0,-2A2,2 0 0,1 2,0Z\" style=\"opacity: 1; stroke-width: 0px; fill: rgb(99, 110, 250); fill-opacity: 1;\"/><path class=\"point\" transform=\"translate(194.04,253.5)\" d=\"M2,0A2,2 0 1,1 0,-2A2,2 0 0,1 2,0Z\" style=\"opacity: 1; stroke-width: 0px; fill: rgb(99, 110, 250); fill-opacity: 1;\"/><path class=\"point\" transform=\"translate(194.5,253.5)\" d=\"M2,0A2,2 0 1,1 0,-2A2,2 0 0,1 2,0Z\" style=\"opacity: 1; stroke-width: 0px; fill: rgb(99, 110, 250); fill-opacity: 1;\"/><path class=\"point\" transform=\"translate(194.97,253.5)\" d=\"M2,0A2,2 0 1,1 0,-2A2,2 0 0,1 2,0Z\" style=\"opacity: 1; stroke-width: 0px; fill: rgb(99, 110, 250); fill-opacity: 1;\"/><path class=\"point\" transform=\"translate(195.44,253.5)\" d=\"M2,0A2,2 0 1,1 0,-2A2,2 0 0,1 2,0Z\" style=\"opacity: 1; stroke-width: 0px; fill: rgb(99, 110, 250); fill-opacity: 1;\"/><path class=\"point\" transform=\"translate(195.9,253.5)\" d=\"M2,0A2,2 0 1,1 0,-2A2,2 0 0,1 2,0Z\" style=\"opacity: 1; stroke-width: 0px; fill: rgb(99, 110, 250); fill-opacity: 1;\"/><path class=\"point\" transform=\"translate(196.37,253.5)\" d=\"M2,0A2,2 0 1,1 0,-2A2,2 0 0,1 2,0Z\" style=\"opacity: 1; stroke-width: 0px; fill: rgb(99, 110, 250); fill-opacity: 1;\"/><path class=\"point\" transform=\"translate(196.83,253.5)\" d=\"M2,0A2,2 0 1,1 0,-2A2,2 0 0,1 2,0Z\" style=\"opacity: 1; stroke-width: 0px; fill: rgb(99, 110, 250); fill-opacity: 1;\"/><path class=\"point\" transform=\"translate(197.3,253.5)\" d=\"M2,0A2,2 0 1,1 0,-2A2,2 0 0,1 2,0Z\" style=\"opacity: 1; stroke-width: 0px; fill: rgb(99, 110, 250); fill-opacity: 1;\"/><path class=\"point\" transform=\"translate(197.77,253.5)\" d=\"M2,0A2,2 0 1,1 0,-2A2,2 0 0,1 2,0Z\" style=\"opacity: 1; stroke-width: 0px; fill: rgb(99, 110, 250); fill-opacity: 1;\"/><path class=\"point\" transform=\"translate(198.23,253.5)\" d=\"M2,0A2,2 0 1,1 0,-2A2,2 0 0,1 2,0Z\" style=\"opacity: 1; stroke-width: 0px; fill: rgb(99, 110, 250); fill-opacity: 1;\"/><path class=\"point\" transform=\"translate(198.7,253.5)\" d=\"M2,0A2,2 0 1,1 0,-2A2,2 0 0,1 2,0Z\" style=\"opacity: 1; stroke-width: 0px; fill: rgb(99, 110, 250); fill-opacity: 1;\"/><path class=\"point\" transform=\"translate(199.17,253.5)\" d=\"M2,0A2,2 0 1,1 0,-2A2,2 0 0,1 2,0Z\" style=\"opacity: 1; stroke-width: 0px; fill: rgb(99, 110, 250); fill-opacity: 1;\"/><path class=\"point\" transform=\"translate(199.63,253.5)\" d=\"M2,0A2,2 0 1,1 0,-2A2,2 0 0,1 2,0Z\" style=\"opacity: 1; stroke-width: 0px; fill: rgb(99, 110, 250); fill-opacity: 1;\"/><path class=\"point\" transform=\"translate(200.1,253.5)\" d=\"M2,0A2,2 0 1,1 0,-2A2,2 0 0,1 2,0Z\" style=\"opacity: 1; stroke-width: 0px; fill: rgb(99, 110, 250); fill-opacity: 1;\"/><path class=\"point\" transform=\"translate(200.56,253.5)\" d=\"M2,0A2,2 0 1,1 0,-2A2,2 0 0,1 2,0Z\" style=\"opacity: 1; stroke-width: 0px; fill: rgb(99, 110, 250); fill-opacity: 1;\"/><path class=\"point\" transform=\"translate(201.03,253.5)\" d=\"M2,0A2,2 0 1,1 0,-2A2,2 0 0,1 2,0Z\" style=\"opacity: 1; stroke-width: 0px; fill: rgb(99, 110, 250); fill-opacity: 1;\"/><path class=\"point\" transform=\"translate(201.5,253.5)\" d=\"M2,0A2,2 0 1,1 0,-2A2,2 0 0,1 2,0Z\" style=\"opacity: 1; stroke-width: 0px; fill: rgb(99, 110, 250); fill-opacity: 1;\"/><path class=\"point\" transform=\"translate(201.96,253.5)\" d=\"M2,0A2,2 0 1,1 0,-2A2,2 0 0,1 2,0Z\" style=\"opacity: 1; stroke-width: 0px; fill: rgb(99, 110, 250); fill-opacity: 1;\"/><path class=\"point\" transform=\"translate(202.43,253.5)\" d=\"M2,0A2,2 0 1,1 0,-2A2,2 0 0,1 2,0Z\" style=\"opacity: 1; stroke-width: 0px; fill: rgb(99, 110, 250); fill-opacity: 1;\"/><path class=\"point\" transform=\"translate(202.89,253.5)\" d=\"M2,0A2,2 0 1,1 0,-2A2,2 0 0,1 2,0Z\" style=\"opacity: 1; stroke-width: 0px; fill: rgb(99, 110, 250); fill-opacity: 1;\"/><path class=\"point\" transform=\"translate(203.36,253.5)\" d=\"M2,0A2,2 0 1,1 0,-2A2,2 0 0,1 2,0Z\" style=\"opacity: 1; stroke-width: 0px; fill: rgb(99, 110, 250); fill-opacity: 1;\"/><path class=\"point\" transform=\"translate(203.83,253.5)\" d=\"M2,0A2,2 0 1,1 0,-2A2,2 0 0,1 2,0Z\" style=\"opacity: 1; stroke-width: 0px; fill: rgb(99, 110, 250); fill-opacity: 1;\"/><path class=\"point\" transform=\"translate(204.29,253.5)\" d=\"M2,0A2,2 0 1,1 0,-2A2,2 0 0,1 2,0Z\" style=\"opacity: 1; stroke-width: 0px; fill: rgb(99, 110, 250); fill-opacity: 1;\"/><path class=\"point\" transform=\"translate(204.76,253.5)\" d=\"M2,0A2,2 0 1,1 0,-2A2,2 0 0,1 2,0Z\" style=\"opacity: 1; stroke-width: 0px; fill: rgb(99, 110, 250); fill-opacity: 1;\"/><path class=\"point\" transform=\"translate(205.22,253.5)\" d=\"M2,0A2,2 0 1,1 0,-2A2,2 0 0,1 2,0Z\" style=\"opacity: 1; stroke-width: 0px; fill: rgb(99, 110, 250); fill-opacity: 1;\"/><path class=\"point\" transform=\"translate(205.69,253.5)\" d=\"M2,0A2,2 0 1,1 0,-2A2,2 0 0,1 2,0Z\" style=\"opacity: 1; stroke-width: 0px; fill: rgb(99, 110, 250); fill-opacity: 1;\"/><path class=\"point\" transform=\"translate(206.16,253.5)\" d=\"M2,0A2,2 0 1,1 0,-2A2,2 0 0,1 2,0Z\" style=\"opacity: 1; stroke-width: 0px; fill: rgb(99, 110, 250); fill-opacity: 1;\"/><path class=\"point\" transform=\"translate(206.62,253.5)\" d=\"M2,0A2,2 0 1,1 0,-2A2,2 0 0,1 2,0Z\" style=\"opacity: 1; stroke-width: 0px; fill: rgb(99, 110, 250); fill-opacity: 1;\"/><path class=\"point\" transform=\"translate(207.09,253.5)\" d=\"M2,0A2,2 0 1,1 0,-2A2,2 0 0,1 2,0Z\" style=\"opacity: 1; stroke-width: 0px; fill: rgb(99, 110, 250); fill-opacity: 1;\"/><path class=\"point\" transform=\"translate(207.55,253.5)\" d=\"M2,0A2,2 0 1,1 0,-2A2,2 0 0,1 2,0Z\" style=\"opacity: 1; stroke-width: 0px; fill: rgb(99, 110, 250); fill-opacity: 1;\"/><path class=\"point\" transform=\"translate(208.02,253.5)\" d=\"M2,0A2,2 0 1,1 0,-2A2,2 0 0,1 2,0Z\" style=\"opacity: 1; stroke-width: 0px; fill: rgb(99, 110, 250); fill-opacity: 1;\"/><path class=\"point\" transform=\"translate(208.49,253.5)\" d=\"M2,0A2,2 0 1,1 0,-2A2,2 0 0,1 2,0Z\" style=\"opacity: 1; stroke-width: 0px; fill: rgb(99, 110, 250); fill-opacity: 1;\"/><path class=\"point\" transform=\"translate(208.95,253.5)\" d=\"M2,0A2,2 0 1,1 0,-2A2,2 0 0,1 2,0Z\" style=\"opacity: 1; stroke-width: 0px; fill: rgb(99, 110, 250); fill-opacity: 1;\"/><path class=\"point\" transform=\"translate(209.42,253.5)\" d=\"M2,0A2,2 0 1,1 0,-2A2,2 0 0,1 2,0Z\" style=\"opacity: 1; stroke-width: 0px; fill: rgb(99, 110, 250); fill-opacity: 1;\"/><path class=\"point\" transform=\"translate(209.88,229.8)\" d=\"M2,0A2,2 0 1,1 0,-2A2,2 0 0,1 2,0Z\" style=\"opacity: 1; stroke-width: 0px; fill: rgb(99, 110, 250); fill-opacity: 1;\"/><path class=\"point\" transform=\"translate(210.35,253.5)\" d=\"M2,0A2,2 0 1,1 0,-2A2,2 0 0,1 2,0Z\" style=\"opacity: 1; stroke-width: 0px; fill: rgb(99, 110, 250); fill-opacity: 1;\"/><path class=\"point\" transform=\"translate(210.82,253.5)\" d=\"M2,0A2,2 0 1,1 0,-2A2,2 0 0,1 2,0Z\" style=\"opacity: 1; stroke-width: 0px; fill: rgb(99, 110, 250); fill-opacity: 1;\"/><path class=\"point\" transform=\"translate(211.28,253.5)\" d=\"M2,0A2,2 0 1,1 0,-2A2,2 0 0,1 2,0Z\" style=\"opacity: 1; stroke-width: 0px; fill: rgb(99, 110, 250); fill-opacity: 1;\"/><path class=\"point\" transform=\"translate(211.75,253.5)\" d=\"M2,0A2,2 0 1,1 0,-2A2,2 0 0,1 2,0Z\" style=\"opacity: 1; stroke-width: 0px; fill: rgb(99, 110, 250); fill-opacity: 1;\"/><path class=\"point\" transform=\"translate(212.21,253.5)\" d=\"M2,0A2,2 0 1,1 0,-2A2,2 0 0,1 2,0Z\" style=\"opacity: 1; stroke-width: 0px; fill: rgb(99, 110, 250); fill-opacity: 1;\"/><path class=\"point\" transform=\"translate(212.68,253.5)\" d=\"M2,0A2,2 0 1,1 0,-2A2,2 0 0,1 2,0Z\" style=\"opacity: 1; stroke-width: 0px; fill: rgb(99, 110, 250); fill-opacity: 1;\"/><path class=\"point\" transform=\"translate(213.15,182.4)\" d=\"M2,0A2,2 0 1,1 0,-2A2,2 0 0,1 2,0Z\" style=\"opacity: 1; stroke-width: 0px; fill: rgb(99, 110, 250); fill-opacity: 1;\"/><path class=\"point\" transform=\"translate(213.61,229.8)\" d=\"M2,0A2,2 0 1,1 0,-2A2,2 0 0,1 2,0Z\" style=\"opacity: 1; stroke-width: 0px; fill: rgb(99, 110, 250); fill-opacity: 1;\"/><path class=\"point\" transform=\"translate(214.08,253.5)\" d=\"M2,0A2,2 0 1,1 0,-2A2,2 0 0,1 2,0Z\" style=\"opacity: 1; stroke-width: 0px; fill: rgb(99, 110, 250); fill-opacity: 1;\"/><path class=\"point\" transform=\"translate(214.54,253.5)\" d=\"M2,0A2,2 0 1,1 0,-2A2,2 0 0,1 2,0Z\" style=\"opacity: 1; stroke-width: 0px; fill: rgb(99, 110, 250); fill-opacity: 1;\"/><path class=\"point\" transform=\"translate(215.01,253.5)\" d=\"M2,0A2,2 0 1,1 0,-2A2,2 0 0,1 2,0Z\" style=\"opacity: 1; stroke-width: 0px; fill: rgb(99, 110, 250); fill-opacity: 1;\"/><path class=\"point\" transform=\"translate(215.48,253.5)\" d=\"M2,0A2,2 0 1,1 0,-2A2,2 0 0,1 2,0Z\" style=\"opacity: 1; stroke-width: 0px; fill: rgb(99, 110, 250); fill-opacity: 1;\"/><path class=\"point\" transform=\"translate(215.94,229.8)\" d=\"M2,0A2,2 0 1,1 0,-2A2,2 0 0,1 2,0Z\" style=\"opacity: 1; stroke-width: 0px; fill: rgb(99, 110, 250); fill-opacity: 1;\"/><path class=\"point\" transform=\"translate(216.41,253.5)\" d=\"M2,0A2,2 0 1,1 0,-2A2,2 0 0,1 2,0Z\" style=\"opacity: 1; stroke-width: 0px; fill: rgb(99, 110, 250); fill-opacity: 1;\"/><path class=\"point\" transform=\"translate(216.87,253.5)\" d=\"M2,0A2,2 0 1,1 0,-2A2,2 0 0,1 2,0Z\" style=\"opacity: 1; stroke-width: 0px; fill: rgb(99, 110, 250); fill-opacity: 1;\"/><path class=\"point\" transform=\"translate(217.34,229.8)\" d=\"M2,0A2,2 0 1,1 0,-2A2,2 0 0,1 2,0Z\" style=\"opacity: 1; stroke-width: 0px; fill: rgb(99, 110, 250); fill-opacity: 1;\"/><path class=\"point\" transform=\"translate(217.81,253.5)\" d=\"M2,0A2,2 0 1,1 0,-2A2,2 0 0,1 2,0Z\" style=\"opacity: 1; stroke-width: 0px; fill: rgb(99, 110, 250); fill-opacity: 1;\"/><path class=\"point\" transform=\"translate(218.27,253.5)\" d=\"M2,0A2,2 0 1,1 0,-2A2,2 0 0,1 2,0Z\" style=\"opacity: 1; stroke-width: 0px; fill: rgb(99, 110, 250); fill-opacity: 1;\"/><path class=\"point\" transform=\"translate(218.74,253.5)\" d=\"M2,0A2,2 0 1,1 0,-2A2,2 0 0,1 2,0Z\" style=\"opacity: 1; stroke-width: 0px; fill: rgb(99, 110, 250); fill-opacity: 1;\"/><path class=\"point\" transform=\"translate(219.2,206.1)\" d=\"M2,0A2,2 0 1,1 0,-2A2,2 0 0,1 2,0Z\" style=\"opacity: 1; stroke-width: 0px; fill: rgb(99, 110, 250); fill-opacity: 1;\"/><path class=\"point\" transform=\"translate(219.67,253.5)\" d=\"M2,0A2,2 0 1,1 0,-2A2,2 0 0,1 2,0Z\" style=\"opacity: 1; stroke-width: 0px; fill: rgb(99, 110, 250); fill-opacity: 1;\"/><path class=\"point\" transform=\"translate(220.14,253.5)\" d=\"M2,0A2,2 0 1,1 0,-2A2,2 0 0,1 2,0Z\" style=\"opacity: 1; stroke-width: 0px; fill: rgb(99, 110, 250); fill-opacity: 1;\"/><path class=\"point\" transform=\"translate(220.6,253.5)\" d=\"M2,0A2,2 0 1,1 0,-2A2,2 0 0,1 2,0Z\" style=\"opacity: 1; stroke-width: 0px; fill: rgb(99, 110, 250); fill-opacity: 1;\"/><path class=\"point\" transform=\"translate(221.07,253.5)\" d=\"M2,0A2,2 0 1,1 0,-2A2,2 0 0,1 2,0Z\" style=\"opacity: 1; stroke-width: 0px; fill: rgb(99, 110, 250); fill-opacity: 1;\"/><path class=\"point\" transform=\"translate(221.53,253.5)\" d=\"M2,0A2,2 0 1,1 0,-2A2,2 0 0,1 2,0Z\" style=\"opacity: 1; stroke-width: 0px; fill: rgb(99, 110, 250); fill-opacity: 1;\"/><path class=\"point\" transform=\"translate(222,253.5)\" d=\"M2,0A2,2 0 1,1 0,-2A2,2 0 0,1 2,0Z\" style=\"opacity: 1; stroke-width: 0px; fill: rgb(99, 110, 250); fill-opacity: 1;\"/><path class=\"point\" transform=\"translate(222.47,253.5)\" d=\"M2,0A2,2 0 1,1 0,-2A2,2 0 0,1 2,0Z\" style=\"opacity: 1; stroke-width: 0px; fill: rgb(99, 110, 250); fill-opacity: 1;\"/><path class=\"point\" transform=\"translate(222.93,253.5)\" d=\"M2,0A2,2 0 1,1 0,-2A2,2 0 0,1 2,0Z\" style=\"opacity: 1; stroke-width: 0px; fill: rgb(99, 110, 250); fill-opacity: 1;\"/><path class=\"point\" transform=\"translate(223.4,253.5)\" d=\"M2,0A2,2 0 1,1 0,-2A2,2 0 0,1 2,0Z\" style=\"opacity: 1; stroke-width: 0px; fill: rgb(99, 110, 250); fill-opacity: 1;\"/><path class=\"point\" transform=\"translate(223.86,253.5)\" d=\"M2,0A2,2 0 1,1 0,-2A2,2 0 0,1 2,0Z\" style=\"opacity: 1; stroke-width: 0px; fill: rgb(99, 110, 250); fill-opacity: 1;\"/><path class=\"point\" transform=\"translate(224.33,253.5)\" d=\"M2,0A2,2 0 1,1 0,-2A2,2 0 0,1 2,0Z\" style=\"opacity: 1; stroke-width: 0px; fill: rgb(99, 110, 250); fill-opacity: 1;\"/><path class=\"point\" transform=\"translate(224.8,253.5)\" d=\"M2,0A2,2 0 1,1 0,-2A2,2 0 0,1 2,0Z\" style=\"opacity: 1; stroke-width: 0px; fill: rgb(99, 110, 250); fill-opacity: 1;\"/><path class=\"point\" transform=\"translate(225.26,253.5)\" d=\"M2,0A2,2 0 1,1 0,-2A2,2 0 0,1 2,0Z\" style=\"opacity: 1; stroke-width: 0px; fill: rgb(99, 110, 250); fill-opacity: 1;\"/><path class=\"point\" transform=\"translate(225.73,253.5)\" d=\"M2,0A2,2 0 1,1 0,-2A2,2 0 0,1 2,0Z\" style=\"opacity: 1; stroke-width: 0px; fill: rgb(99, 110, 250); fill-opacity: 1;\"/><path class=\"point\" transform=\"translate(226.19,253.5)\" d=\"M2,0A2,2 0 1,1 0,-2A2,2 0 0,1 2,0Z\" style=\"opacity: 1; stroke-width: 0px; fill: rgb(99, 110, 250); fill-opacity: 1;\"/><path class=\"point\" transform=\"translate(226.66,206.1)\" d=\"M2,0A2,2 0 1,1 0,-2A2,2 0 0,1 2,0Z\" style=\"opacity: 1; stroke-width: 0px; fill: rgb(99, 110, 250); fill-opacity: 1;\"/><path class=\"point\" transform=\"translate(227.13,253.5)\" d=\"M2,0A2,2 0 1,1 0,-2A2,2 0 0,1 2,0Z\" style=\"opacity: 1; stroke-width: 0px; fill: rgb(99, 110, 250); fill-opacity: 1;\"/><path class=\"point\" transform=\"translate(227.59,253.5)\" d=\"M2,0A2,2 0 1,1 0,-2A2,2 0 0,1 2,0Z\" style=\"opacity: 1; stroke-width: 0px; fill: rgb(99, 110, 250); fill-opacity: 1;\"/><path class=\"point\" transform=\"translate(228.06,253.5)\" d=\"M2,0A2,2 0 1,1 0,-2A2,2 0 0,1 2,0Z\" style=\"opacity: 1; stroke-width: 0px; fill: rgb(99, 110, 250); fill-opacity: 1;\"/><path class=\"point\" transform=\"translate(228.52,253.5)\" d=\"M2,0A2,2 0 1,1 0,-2A2,2 0 0,1 2,0Z\" style=\"opacity: 1; stroke-width: 0px; fill: rgb(99, 110, 250); fill-opacity: 1;\"/><path class=\"point\" transform=\"translate(228.99,253.5)\" d=\"M2,0A2,2 0 1,1 0,-2A2,2 0 0,1 2,0Z\" style=\"opacity: 1; stroke-width: 0px; fill: rgb(99, 110, 250); fill-opacity: 1;\"/><path class=\"point\" transform=\"translate(229.46,253.5)\" d=\"M2,0A2,2 0 1,1 0,-2A2,2 0 0,1 2,0Z\" style=\"opacity: 1; stroke-width: 0px; fill: rgb(99, 110, 250); fill-opacity: 1;\"/><path class=\"point\" transform=\"translate(229.92,229.8)\" d=\"M2,0A2,2 0 1,1 0,-2A2,2 0 0,1 2,0Z\" style=\"opacity: 1; stroke-width: 0px; fill: rgb(99, 110, 250); fill-opacity: 1;\"/><path class=\"point\" transform=\"translate(230.39,253.5)\" d=\"M2,0A2,2 0 1,1 0,-2A2,2 0 0,1 2,0Z\" style=\"opacity: 1; stroke-width: 0px; fill: rgb(99, 110, 250); fill-opacity: 1;\"/><path class=\"point\" transform=\"translate(230.85,253.5)\" d=\"M2,0A2,2 0 1,1 0,-2A2,2 0 0,1 2,0Z\" style=\"opacity: 1; stroke-width: 0px; fill: rgb(99, 110, 250); fill-opacity: 1;\"/><path class=\"point\" transform=\"translate(231.32,253.5)\" d=\"M2,0A2,2 0 1,1 0,-2A2,2 0 0,1 2,0Z\" style=\"opacity: 1; stroke-width: 0px; fill: rgb(99, 110, 250); fill-opacity: 1;\"/><path class=\"point\" transform=\"translate(231.79,253.5)\" d=\"M2,0A2,2 0 1,1 0,-2A2,2 0 0,1 2,0Z\" style=\"opacity: 1; stroke-width: 0px; fill: rgb(99, 110, 250); fill-opacity: 1;\"/><path class=\"point\" transform=\"translate(232.25,253.5)\" d=\"M2,0A2,2 0 1,1 0,-2A2,2 0 0,1 2,0Z\" style=\"opacity: 1; stroke-width: 0px; fill: rgb(99, 110, 250); fill-opacity: 1;\"/><path class=\"point\" transform=\"translate(232.72,253.5)\" d=\"M2,0A2,2 0 1,1 0,-2A2,2 0 0,1 2,0Z\" style=\"opacity: 1; stroke-width: 0px; fill: rgb(99, 110, 250); fill-opacity: 1;\"/><path class=\"point\" transform=\"translate(233.18,229.8)\" d=\"M2,0A2,2 0 1,1 0,-2A2,2 0 0,1 2,0Z\" style=\"opacity: 1; stroke-width: 0px; fill: rgb(99, 110, 250); fill-opacity: 1;\"/><path class=\"point\" transform=\"translate(233.65,253.5)\" d=\"M2,0A2,2 0 1,1 0,-2A2,2 0 0,1 2,0Z\" style=\"opacity: 1; stroke-width: 0px; fill: rgb(99, 110, 250); fill-opacity: 1;\"/><path class=\"point\" transform=\"translate(234.12,253.5)\" d=\"M2,0A2,2 0 1,1 0,-2A2,2 0 0,1 2,0Z\" style=\"opacity: 1; stroke-width: 0px; fill: rgb(99, 110, 250); fill-opacity: 1;\"/><path class=\"point\" transform=\"translate(234.58,253.5)\" d=\"M2,0A2,2 0 1,1 0,-2A2,2 0 0,1 2,0Z\" style=\"opacity: 1; stroke-width: 0px; fill: rgb(99, 110, 250); fill-opacity: 1;\"/><path class=\"point\" transform=\"translate(235.05,253.5)\" d=\"M2,0A2,2 0 1,1 0,-2A2,2 0 0,1 2,0Z\" style=\"opacity: 1; stroke-width: 0px; fill: rgb(99, 110, 250); fill-opacity: 1;\"/><path class=\"point\" transform=\"translate(235.51,253.5)\" d=\"M2,0A2,2 0 1,1 0,-2A2,2 0 0,1 2,0Z\" style=\"opacity: 1; stroke-width: 0px; fill: rgb(99, 110, 250); fill-opacity: 1;\"/><path class=\"point\" transform=\"translate(235.98,253.5)\" d=\"M2,0A2,2 0 1,1 0,-2A2,2 0 0,1 2,0Z\" style=\"opacity: 1; stroke-width: 0px; fill: rgb(99, 110, 250); fill-opacity: 1;\"/><path class=\"point\" transform=\"translate(236.45,253.5)\" d=\"M2,0A2,2 0 1,1 0,-2A2,2 0 0,1 2,0Z\" style=\"opacity: 1; stroke-width: 0px; fill: rgb(99, 110, 250); fill-opacity: 1;\"/><path class=\"point\" transform=\"translate(236.91,253.5)\" d=\"M2,0A2,2 0 1,1 0,-2A2,2 0 0,1 2,0Z\" style=\"opacity: 1; stroke-width: 0px; fill: rgb(99, 110, 250); fill-opacity: 1;\"/><path class=\"point\" transform=\"translate(237.38,253.5)\" d=\"M2,0A2,2 0 1,1 0,-2A2,2 0 0,1 2,0Z\" style=\"opacity: 1; stroke-width: 0px; fill: rgb(99, 110, 250); fill-opacity: 1;\"/><path class=\"point\" transform=\"translate(237.84,253.5)\" d=\"M2,0A2,2 0 1,1 0,-2A2,2 0 0,1 2,0Z\" style=\"opacity: 1; stroke-width: 0px; fill: rgb(99, 110, 250); fill-opacity: 1;\"/><path class=\"point\" transform=\"translate(238.31,253.5)\" d=\"M2,0A2,2 0 1,1 0,-2A2,2 0 0,1 2,0Z\" style=\"opacity: 1; stroke-width: 0px; fill: rgb(99, 110, 250); fill-opacity: 1;\"/><path class=\"point\" transform=\"translate(238.78,253.5)\" d=\"M2,0A2,2 0 1,1 0,-2A2,2 0 0,1 2,0Z\" style=\"opacity: 1; stroke-width: 0px; fill: rgb(99, 110, 250); fill-opacity: 1;\"/><path class=\"point\" transform=\"translate(239.24,253.5)\" d=\"M2,0A2,2 0 1,1 0,-2A2,2 0 0,1 2,0Z\" style=\"opacity: 1; stroke-width: 0px; fill: rgb(99, 110, 250); fill-opacity: 1;\"/><path class=\"point\" transform=\"translate(239.71,253.5)\" d=\"M2,0A2,2 0 1,1 0,-2A2,2 0 0,1 2,0Z\" style=\"opacity: 1; stroke-width: 0px; fill: rgb(99, 110, 250); fill-opacity: 1;\"/><path class=\"point\" transform=\"translate(240.17,253.5)\" d=\"M2,0A2,2 0 1,1 0,-2A2,2 0 0,1 2,0Z\" style=\"opacity: 1; stroke-width: 0px; fill: rgb(99, 110, 250); fill-opacity: 1;\"/><path class=\"point\" transform=\"translate(240.64,253.5)\" d=\"M2,0A2,2 0 1,1 0,-2A2,2 0 0,1 2,0Z\" style=\"opacity: 1; stroke-width: 0px; fill: rgb(99, 110, 250); fill-opacity: 1;\"/><path class=\"point\" transform=\"translate(241.11,253.5)\" d=\"M2,0A2,2 0 1,1 0,-2A2,2 0 0,1 2,0Z\" style=\"opacity: 1; stroke-width: 0px; fill: rgb(99, 110, 250); fill-opacity: 1;\"/><path class=\"point\" transform=\"translate(241.57,253.5)\" d=\"M2,0A2,2 0 1,1 0,-2A2,2 0 0,1 2,0Z\" style=\"opacity: 1; stroke-width: 0px; fill: rgb(99, 110, 250); fill-opacity: 1;\"/><path class=\"point\" transform=\"translate(242.04,253.5)\" d=\"M2,0A2,2 0 1,1 0,-2A2,2 0 0,1 2,0Z\" style=\"opacity: 1; stroke-width: 0px; fill: rgb(99, 110, 250); fill-opacity: 1;\"/><path class=\"point\" transform=\"translate(242.5,253.5)\" d=\"M2,0A2,2 0 1,1 0,-2A2,2 0 0,1 2,0Z\" style=\"opacity: 1; stroke-width: 0px; fill: rgb(99, 110, 250); fill-opacity: 1;\"/><path class=\"point\" transform=\"translate(242.97,253.5)\" d=\"M2,0A2,2 0 1,1 0,-2A2,2 0 0,1 2,0Z\" style=\"opacity: 1; stroke-width: 0px; fill: rgb(99, 110, 250); fill-opacity: 1;\"/><path class=\"point\" transform=\"translate(243.44,253.5)\" d=\"M2,0A2,2 0 1,1 0,-2A2,2 0 0,1 2,0Z\" style=\"opacity: 1; stroke-width: 0px; fill: rgb(99, 110, 250); fill-opacity: 1;\"/><path class=\"point\" transform=\"translate(243.9,253.5)\" d=\"M2,0A2,2 0 1,1 0,-2A2,2 0 0,1 2,0Z\" style=\"opacity: 1; stroke-width: 0px; fill: rgb(99, 110, 250); fill-opacity: 1;\"/><path class=\"point\" transform=\"translate(244.37,253.5)\" d=\"M2,0A2,2 0 1,1 0,-2A2,2 0 0,1 2,0Z\" style=\"opacity: 1; stroke-width: 0px; fill: rgb(99, 110, 250); fill-opacity: 1;\"/><path class=\"point\" transform=\"translate(244.83,253.5)\" d=\"M2,0A2,2 0 1,1 0,-2A2,2 0 0,1 2,0Z\" style=\"opacity: 1; stroke-width: 0px; fill: rgb(99, 110, 250); fill-opacity: 1;\"/><path class=\"point\" transform=\"translate(245.3,253.5)\" d=\"M2,0A2,2 0 1,1 0,-2A2,2 0 0,1 2,0Z\" style=\"opacity: 1; stroke-width: 0px; fill: rgb(99, 110, 250); fill-opacity: 1;\"/><path class=\"point\" transform=\"translate(245.77,253.5)\" d=\"M2,0A2,2 0 1,1 0,-2A2,2 0 0,1 2,0Z\" style=\"opacity: 1; stroke-width: 0px; fill: rgb(99, 110, 250); fill-opacity: 1;\"/><path class=\"point\" transform=\"translate(246.23,253.5)\" d=\"M2,0A2,2 0 1,1 0,-2A2,2 0 0,1 2,0Z\" style=\"opacity: 1; stroke-width: 0px; fill: rgb(99, 110, 250); fill-opacity: 1;\"/><path class=\"point\" transform=\"translate(246.7,253.5)\" d=\"M2,0A2,2 0 1,1 0,-2A2,2 0 0,1 2,0Z\" style=\"opacity: 1; stroke-width: 0px; fill: rgb(99, 110, 250); fill-opacity: 1;\"/><path class=\"point\" transform=\"translate(247.17,253.5)\" d=\"M2,0A2,2 0 1,1 0,-2A2,2 0 0,1 2,0Z\" style=\"opacity: 1; stroke-width: 0px; fill: rgb(99, 110, 250); fill-opacity: 1;\"/><path class=\"point\" transform=\"translate(247.63,253.5)\" d=\"M2,0A2,2 0 1,1 0,-2A2,2 0 0,1 2,0Z\" style=\"opacity: 1; stroke-width: 0px; fill: rgb(99, 110, 250); fill-opacity: 1;\"/><path class=\"point\" transform=\"translate(248.1,253.5)\" d=\"M2,0A2,2 0 1,1 0,-2A2,2 0 0,1 2,0Z\" style=\"opacity: 1; stroke-width: 0px; fill: rgb(99, 110, 250); fill-opacity: 1;\"/><path class=\"point\" transform=\"translate(248.56,229.8)\" d=\"M2,0A2,2 0 1,1 0,-2A2,2 0 0,1 2,0Z\" style=\"opacity: 1; stroke-width: 0px; fill: rgb(99, 110, 250); fill-opacity: 1;\"/><path class=\"point\" transform=\"translate(249.03,253.5)\" d=\"M2,0A2,2 0 1,1 0,-2A2,2 0 0,1 2,0Z\" style=\"opacity: 1; stroke-width: 0px; fill: rgb(99, 110, 250); fill-opacity: 1;\"/><path class=\"point\" transform=\"translate(249.5,253.5)\" d=\"M2,0A2,2 0 1,1 0,-2A2,2 0 0,1 2,0Z\" style=\"opacity: 1; stroke-width: 0px; fill: rgb(99, 110, 250); fill-opacity: 1;\"/><path class=\"point\" transform=\"translate(249.96,253.5)\" d=\"M2,0A2,2 0 1,1 0,-2A2,2 0 0,1 2,0Z\" style=\"opacity: 1; stroke-width: 0px; fill: rgb(99, 110, 250); fill-opacity: 1;\"/><path class=\"point\" transform=\"translate(250.43,253.5)\" d=\"M2,0A2,2 0 1,1 0,-2A2,2 0 0,1 2,0Z\" style=\"opacity: 1; stroke-width: 0px; fill: rgb(99, 110, 250); fill-opacity: 1;\"/><path class=\"point\" transform=\"translate(250.89,253.5)\" d=\"M2,0A2,2 0 1,1 0,-2A2,2 0 0,1 2,0Z\" style=\"opacity: 1; stroke-width: 0px; fill: rgb(99, 110, 250); fill-opacity: 1;\"/><path class=\"point\" transform=\"translate(251.36,253.5)\" d=\"M2,0A2,2 0 1,1 0,-2A2,2 0 0,1 2,0Z\" style=\"opacity: 1; stroke-width: 0px; fill: rgb(99, 110, 250); fill-opacity: 1;\"/><path class=\"point\" transform=\"translate(251.83,229.8)\" d=\"M2,0A2,2 0 1,1 0,-2A2,2 0 0,1 2,0Z\" style=\"opacity: 1; stroke-width: 0px; fill: rgb(99, 110, 250); fill-opacity: 1;\"/><path class=\"point\" transform=\"translate(252.29,253.5)\" d=\"M2,0A2,2 0 1,1 0,-2A2,2 0 0,1 2,0Z\" style=\"opacity: 1; stroke-width: 0px; fill: rgb(99, 110, 250); fill-opacity: 1;\"/><path class=\"point\" transform=\"translate(252.76,253.5)\" d=\"M2,0A2,2 0 1,1 0,-2A2,2 0 0,1 2,0Z\" style=\"opacity: 1; stroke-width: 0px; fill: rgb(99, 110, 250); fill-opacity: 1;\"/><path class=\"point\" transform=\"translate(253.22,253.5)\" d=\"M2,0A2,2 0 1,1 0,-2A2,2 0 0,1 2,0Z\" style=\"opacity: 1; stroke-width: 0px; fill: rgb(99, 110, 250); fill-opacity: 1;\"/><path class=\"point\" transform=\"translate(253.69,253.5)\" d=\"M2,0A2,2 0 1,1 0,-2A2,2 0 0,1 2,0Z\" style=\"opacity: 1; stroke-width: 0px; fill: rgb(99, 110, 250); fill-opacity: 1;\"/><path class=\"point\" transform=\"translate(254.16,253.5)\" d=\"M2,0A2,2 0 1,1 0,-2A2,2 0 0,1 2,0Z\" style=\"opacity: 1; stroke-width: 0px; fill: rgb(99, 110, 250); fill-opacity: 1;\"/><path class=\"point\" transform=\"translate(254.62,253.5)\" d=\"M2,0A2,2 0 1,1 0,-2A2,2 0 0,1 2,0Z\" style=\"opacity: 1; stroke-width: 0px; fill: rgb(99, 110, 250); fill-opacity: 1;\"/><path class=\"point\" transform=\"translate(255.09,229.8)\" d=\"M2,0A2,2 0 1,1 0,-2A2,2 0 0,1 2,0Z\" style=\"opacity: 1; stroke-width: 0px; fill: rgb(99, 110, 250); fill-opacity: 1;\"/><path class=\"point\" transform=\"translate(255.55,253.5)\" d=\"M2,0A2,2 0 1,1 0,-2A2,2 0 0,1 2,0Z\" style=\"opacity: 1; stroke-width: 0px; fill: rgb(99, 110, 250); fill-opacity: 1;\"/><path class=\"point\" transform=\"translate(256.02,253.5)\" d=\"M2,0A2,2 0 1,1 0,-2A2,2 0 0,1 2,0Z\" style=\"opacity: 1; stroke-width: 0px; fill: rgb(99, 110, 250); fill-opacity: 1;\"/><path class=\"point\" transform=\"translate(256.49,253.5)\" d=\"M2,0A2,2 0 1,1 0,-2A2,2 0 0,1 2,0Z\" style=\"opacity: 1; stroke-width: 0px; fill: rgb(99, 110, 250); fill-opacity: 1;\"/><path class=\"point\" transform=\"translate(256.95,87.6)\" d=\"M2,0A2,2 0 1,1 0,-2A2,2 0 0,1 2,0Z\" style=\"opacity: 1; stroke-width: 0px; fill: rgb(99, 110, 250); fill-opacity: 1;\"/><path class=\"point\" transform=\"translate(257.42,253.5)\" d=\"M2,0A2,2 0 1,1 0,-2A2,2 0 0,1 2,0Z\" style=\"opacity: 1; stroke-width: 0px; fill: rgb(99, 110, 250); fill-opacity: 1;\"/><path class=\"point\" transform=\"translate(257.88,253.5)\" d=\"M2,0A2,2 0 1,1 0,-2A2,2 0 0,1 2,0Z\" style=\"opacity: 1; stroke-width: 0px; fill: rgb(99, 110, 250); fill-opacity: 1;\"/><path class=\"point\" transform=\"translate(258.35,253.5)\" d=\"M2,0A2,2 0 1,1 0,-2A2,2 0 0,1 2,0Z\" style=\"opacity: 1; stroke-width: 0px; fill: rgb(99, 110, 250); fill-opacity: 1;\"/><path class=\"point\" transform=\"translate(258.82,206.1)\" d=\"M2,0A2,2 0 1,1 0,-2A2,2 0 0,1 2,0Z\" style=\"opacity: 1; stroke-width: 0px; fill: rgb(99, 110, 250); fill-opacity: 1;\"/><path class=\"point\" transform=\"translate(259.28,253.5)\" d=\"M2,0A2,2 0 1,1 0,-2A2,2 0 0,1 2,0Z\" style=\"opacity: 1; stroke-width: 0px; fill: rgb(99, 110, 250); fill-opacity: 1;\"/><path class=\"point\" transform=\"translate(259.75,253.5)\" d=\"M2,0A2,2 0 1,1 0,-2A2,2 0 0,1 2,0Z\" style=\"opacity: 1; stroke-width: 0px; fill: rgb(99, 110, 250); fill-opacity: 1;\"/><path class=\"point\" transform=\"translate(260.21,253.5)\" d=\"M2,0A2,2 0 1,1 0,-2A2,2 0 0,1 2,0Z\" style=\"opacity: 1; stroke-width: 0px; fill: rgb(99, 110, 250); fill-opacity: 1;\"/><path class=\"point\" transform=\"translate(260.68,253.5)\" d=\"M2,0A2,2 0 1,1 0,-2A2,2 0 0,1 2,0Z\" style=\"opacity: 1; stroke-width: 0px; fill: rgb(99, 110, 250); fill-opacity: 1;\"/><path class=\"point\" transform=\"translate(261.15,253.5)\" d=\"M2,0A2,2 0 1,1 0,-2A2,2 0 0,1 2,0Z\" style=\"opacity: 1; stroke-width: 0px; fill: rgb(99, 110, 250); fill-opacity: 1;\"/><path class=\"point\" transform=\"translate(261.61,253.5)\" d=\"M2,0A2,2 0 1,1 0,-2A2,2 0 0,1 2,0Z\" style=\"opacity: 1; stroke-width: 0px; fill: rgb(99, 110, 250); fill-opacity: 1;\"/><path class=\"point\" transform=\"translate(262.08,253.5)\" d=\"M2,0A2,2 0 1,1 0,-2A2,2 0 0,1 2,0Z\" style=\"opacity: 1; stroke-width: 0px; fill: rgb(99, 110, 250); fill-opacity: 1;\"/><path class=\"point\" transform=\"translate(262.54,253.5)\" d=\"M2,0A2,2 0 1,1 0,-2A2,2 0 0,1 2,0Z\" style=\"opacity: 1; stroke-width: 0px; fill: rgb(99, 110, 250); fill-opacity: 1;\"/><path class=\"point\" transform=\"translate(263.01,253.5)\" d=\"M2,0A2,2 0 1,1 0,-2A2,2 0 0,1 2,0Z\" style=\"opacity: 1; stroke-width: 0px; fill: rgb(99, 110, 250); fill-opacity: 1;\"/><path class=\"point\" transform=\"translate(263.48,253.5)\" d=\"M2,0A2,2 0 1,1 0,-2A2,2 0 0,1 2,0Z\" style=\"opacity: 1; stroke-width: 0px; fill: rgb(99, 110, 250); fill-opacity: 1;\"/><path class=\"point\" transform=\"translate(263.94,229.8)\" d=\"M2,0A2,2 0 1,1 0,-2A2,2 0 0,1 2,0Z\" style=\"opacity: 1; stroke-width: 0px; fill: rgb(99, 110, 250); fill-opacity: 1;\"/><path class=\"point\" transform=\"translate(264.41,253.5)\" d=\"M2,0A2,2 0 1,1 0,-2A2,2 0 0,1 2,0Z\" style=\"opacity: 1; stroke-width: 0px; fill: rgb(99, 110, 250); fill-opacity: 1;\"/><path class=\"point\" transform=\"translate(264.87,206.1)\" d=\"M2,0A2,2 0 1,1 0,-2A2,2 0 0,1 2,0Z\" style=\"opacity: 1; stroke-width: 0px; fill: rgb(99, 110, 250); fill-opacity: 1;\"/><path class=\"point\" transform=\"translate(265.34,253.5)\" d=\"M2,0A2,2 0 1,1 0,-2A2,2 0 0,1 2,0Z\" style=\"opacity: 1; stroke-width: 0px; fill: rgb(99, 110, 250); fill-opacity: 1;\"/><path class=\"point\" transform=\"translate(265.81,253.5)\" d=\"M2,0A2,2 0 1,1 0,-2A2,2 0 0,1 2,0Z\" style=\"opacity: 1; stroke-width: 0px; fill: rgb(99, 110, 250); fill-opacity: 1;\"/><path class=\"point\" transform=\"translate(266.27,253.5)\" d=\"M2,0A2,2 0 1,1 0,-2A2,2 0 0,1 2,0Z\" style=\"opacity: 1; stroke-width: 0px; fill: rgb(99, 110, 250); fill-opacity: 1;\"/><path class=\"point\" transform=\"translate(266.74,253.5)\" d=\"M2,0A2,2 0 1,1 0,-2A2,2 0 0,1 2,0Z\" style=\"opacity: 1; stroke-width: 0px; fill: rgb(99, 110, 250); fill-opacity: 1;\"/><path class=\"point\" transform=\"translate(267.2,253.5)\" d=\"M2,0A2,2 0 1,1 0,-2A2,2 0 0,1 2,0Z\" style=\"opacity: 1; stroke-width: 0px; fill: rgb(99, 110, 250); fill-opacity: 1;\"/><path class=\"point\" transform=\"translate(267.67,253.5)\" d=\"M2,0A2,2 0 1,1 0,-2A2,2 0 0,1 2,0Z\" style=\"opacity: 1; stroke-width: 0px; fill: rgb(99, 110, 250); fill-opacity: 1;\"/><path class=\"point\" transform=\"translate(268.14,253.5)\" d=\"M2,0A2,2 0 1,1 0,-2A2,2 0 0,1 2,0Z\" style=\"opacity: 1; stroke-width: 0px; fill: rgb(99, 110, 250); fill-opacity: 1;\"/><path class=\"point\" transform=\"translate(268.6,253.5)\" d=\"M2,0A2,2 0 1,1 0,-2A2,2 0 0,1 2,0Z\" style=\"opacity: 1; stroke-width: 0px; fill: rgb(99, 110, 250); fill-opacity: 1;\"/><path class=\"point\" transform=\"translate(269.07,253.5)\" d=\"M2,0A2,2 0 1,1 0,-2A2,2 0 0,1 2,0Z\" style=\"opacity: 1; stroke-width: 0px; fill: rgb(99, 110, 250); fill-opacity: 1;\"/><path class=\"point\" transform=\"translate(269.53,253.5)\" d=\"M2,0A2,2 0 1,1 0,-2A2,2 0 0,1 2,0Z\" style=\"opacity: 1; stroke-width: 0px; fill: rgb(99, 110, 250); fill-opacity: 1;\"/><path class=\"point\" transform=\"translate(270,253.5)\" d=\"M2,0A2,2 0 1,1 0,-2A2,2 0 0,1 2,0Z\" style=\"opacity: 1; stroke-width: 0px; fill: rgb(99, 110, 250); fill-opacity: 1;\"/><path class=\"point\" transform=\"translate(270.47,253.5)\" d=\"M2,0A2,2 0 1,1 0,-2A2,2 0 0,1 2,0Z\" style=\"opacity: 1; stroke-width: 0px; fill: rgb(99, 110, 250); fill-opacity: 1;\"/><path class=\"point\" transform=\"translate(270.93,253.5)\" d=\"M2,0A2,2 0 1,1 0,-2A2,2 0 0,1 2,0Z\" style=\"opacity: 1; stroke-width: 0px; fill: rgb(99, 110, 250); fill-opacity: 1;\"/><path class=\"point\" transform=\"translate(271.4,253.5)\" d=\"M2,0A2,2 0 1,1 0,-2A2,2 0 0,1 2,0Z\" style=\"opacity: 1; stroke-width: 0px; fill: rgb(99, 110, 250); fill-opacity: 1;\"/><path class=\"point\" transform=\"translate(271.86,253.5)\" d=\"M2,0A2,2 0 1,1 0,-2A2,2 0 0,1 2,0Z\" style=\"opacity: 1; stroke-width: 0px; fill: rgb(99, 110, 250); fill-opacity: 1;\"/><path class=\"point\" transform=\"translate(272.33,253.5)\" d=\"M2,0A2,2 0 1,1 0,-2A2,2 0 0,1 2,0Z\" style=\"opacity: 1; stroke-width: 0px; fill: rgb(99, 110, 250); fill-opacity: 1;\"/><path class=\"point\" transform=\"translate(272.8,253.5)\" d=\"M2,0A2,2 0 1,1 0,-2A2,2 0 0,1 2,0Z\" style=\"opacity: 1; stroke-width: 0px; fill: rgb(99, 110, 250); fill-opacity: 1;\"/><path class=\"point\" transform=\"translate(273.26,253.5)\" d=\"M2,0A2,2 0 1,1 0,-2A2,2 0 0,1 2,0Z\" style=\"opacity: 1; stroke-width: 0px; fill: rgb(99, 110, 250); fill-opacity: 1;\"/><path class=\"point\" transform=\"translate(273.73,253.5)\" d=\"M2,0A2,2 0 1,1 0,-2A2,2 0 0,1 2,0Z\" style=\"opacity: 1; stroke-width: 0px; fill: rgb(99, 110, 250); fill-opacity: 1;\"/><path class=\"point\" transform=\"translate(274.19,253.5)\" d=\"M2,0A2,2 0 1,1 0,-2A2,2 0 0,1 2,0Z\" style=\"opacity: 1; stroke-width: 0px; fill: rgb(99, 110, 250); fill-opacity: 1;\"/><path class=\"point\" transform=\"translate(274.66,253.5)\" d=\"M2,0A2,2 0 1,1 0,-2A2,2 0 0,1 2,0Z\" style=\"opacity: 1; stroke-width: 0px; fill: rgb(99, 110, 250); fill-opacity: 1;\"/><path class=\"point\" transform=\"translate(275.13,253.5)\" d=\"M2,0A2,2 0 1,1 0,-2A2,2 0 0,1 2,0Z\" style=\"opacity: 1; stroke-width: 0px; fill: rgb(99, 110, 250); fill-opacity: 1;\"/><path class=\"point\" transform=\"translate(275.59,253.5)\" d=\"M2,0A2,2 0 1,1 0,-2A2,2 0 0,1 2,0Z\" style=\"opacity: 1; stroke-width: 0px; fill: rgb(99, 110, 250); fill-opacity: 1;\"/><path class=\"point\" transform=\"translate(276.06,253.5)\" d=\"M2,0A2,2 0 1,1 0,-2A2,2 0 0,1 2,0Z\" style=\"opacity: 1; stroke-width: 0px; fill: rgb(99, 110, 250); fill-opacity: 1;\"/><path class=\"point\" transform=\"translate(276.52,253.5)\" d=\"M2,0A2,2 0 1,1 0,-2A2,2 0 0,1 2,0Z\" style=\"opacity: 1; stroke-width: 0px; fill: rgb(99, 110, 250); fill-opacity: 1;\"/><path class=\"point\" transform=\"translate(276.99,253.5)\" d=\"M2,0A2,2 0 1,1 0,-2A2,2 0 0,1 2,0Z\" style=\"opacity: 1; stroke-width: 0px; fill: rgb(99, 110, 250); fill-opacity: 1;\"/><path class=\"point\" transform=\"translate(277.46,253.5)\" d=\"M2,0A2,2 0 1,1 0,-2A2,2 0 0,1 2,0Z\" style=\"opacity: 1; stroke-width: 0px; fill: rgb(99, 110, 250); fill-opacity: 1;\"/><path class=\"point\" transform=\"translate(277.92,253.5)\" d=\"M2,0A2,2 0 1,1 0,-2A2,2 0 0,1 2,0Z\" style=\"opacity: 1; stroke-width: 0px; fill: rgb(99, 110, 250); fill-opacity: 1;\"/><path class=\"point\" transform=\"translate(278.39,253.5)\" d=\"M2,0A2,2 0 1,1 0,-2A2,2 0 0,1 2,0Z\" style=\"opacity: 1; stroke-width: 0px; fill: rgb(99, 110, 250); fill-opacity: 1;\"/><path class=\"point\" transform=\"translate(278.85,253.5)\" d=\"M2,0A2,2 0 1,1 0,-2A2,2 0 0,1 2,0Z\" style=\"opacity: 1; stroke-width: 0px; fill: rgb(99, 110, 250); fill-opacity: 1;\"/><path class=\"point\" transform=\"translate(279.32,229.8)\" d=\"M2,0A2,2 0 1,1 0,-2A2,2 0 0,1 2,0Z\" style=\"opacity: 1; stroke-width: 0px; fill: rgb(99, 110, 250); fill-opacity: 1;\"/><path class=\"point\" transform=\"translate(279.79,253.5)\" d=\"M2,0A2,2 0 1,1 0,-2A2,2 0 0,1 2,0Z\" style=\"opacity: 1; stroke-width: 0px; fill: rgb(99, 110, 250); fill-opacity: 1;\"/><path class=\"point\" transform=\"translate(280.25,253.5)\" d=\"M2,0A2,2 0 1,1 0,-2A2,2 0 0,1 2,0Z\" style=\"opacity: 1; stroke-width: 0px; fill: rgb(99, 110, 250); fill-opacity: 1;\"/><path class=\"point\" transform=\"translate(280.72,253.5)\" d=\"M2,0A2,2 0 1,1 0,-2A2,2 0 0,1 2,0Z\" style=\"opacity: 1; stroke-width: 0px; fill: rgb(99, 110, 250); fill-opacity: 1;\"/><path class=\"point\" transform=\"translate(281.18,253.5)\" d=\"M2,0A2,2 0 1,1 0,-2A2,2 0 0,1 2,0Z\" style=\"opacity: 1; stroke-width: 0px; fill: rgb(99, 110, 250); fill-opacity: 1;\"/><path class=\"point\" transform=\"translate(281.65,253.5)\" d=\"M2,0A2,2 0 1,1 0,-2A2,2 0 0,1 2,0Z\" style=\"opacity: 1; stroke-width: 0px; fill: rgb(99, 110, 250); fill-opacity: 1;\"/><path class=\"point\" transform=\"translate(282.12,253.5)\" d=\"M2,0A2,2 0 1,1 0,-2A2,2 0 0,1 2,0Z\" style=\"opacity: 1; stroke-width: 0px; fill: rgb(99, 110, 250); fill-opacity: 1;\"/><path class=\"point\" transform=\"translate(282.58,253.5)\" d=\"M2,0A2,2 0 1,1 0,-2A2,2 0 0,1 2,0Z\" style=\"opacity: 1; stroke-width: 0px; fill: rgb(99, 110, 250); fill-opacity: 1;\"/><path class=\"point\" transform=\"translate(283.05,253.5)\" d=\"M2,0A2,2 0 1,1 0,-2A2,2 0 0,1 2,0Z\" style=\"opacity: 1; stroke-width: 0px; fill: rgb(99, 110, 250); fill-opacity: 1;\"/><path class=\"point\" transform=\"translate(283.51,253.5)\" d=\"M2,0A2,2 0 1,1 0,-2A2,2 0 0,1 2,0Z\" style=\"opacity: 1; stroke-width: 0px; fill: rgb(99, 110, 250); fill-opacity: 1;\"/><path class=\"point\" transform=\"translate(283.98,253.5)\" d=\"M2,0A2,2 0 1,1 0,-2A2,2 0 0,1 2,0Z\" style=\"opacity: 1; stroke-width: 0px; fill: rgb(99, 110, 250); fill-opacity: 1;\"/><path class=\"point\" transform=\"translate(284.45,253.5)\" d=\"M2,0A2,2 0 1,1 0,-2A2,2 0 0,1 2,0Z\" style=\"opacity: 1; stroke-width: 0px; fill: rgb(99, 110, 250); fill-opacity: 1;\"/><path class=\"point\" transform=\"translate(284.91,253.5)\" d=\"M2,0A2,2 0 1,1 0,-2A2,2 0 0,1 2,0Z\" style=\"opacity: 1; stroke-width: 0px; fill: rgb(99, 110, 250); fill-opacity: 1;\"/><path class=\"point\" transform=\"translate(285.38,253.5)\" d=\"M2,0A2,2 0 1,1 0,-2A2,2 0 0,1 2,0Z\" style=\"opacity: 1; stroke-width: 0px; fill: rgb(99, 110, 250); fill-opacity: 1;\"/><path class=\"point\" transform=\"translate(285.84,253.5)\" d=\"M2,0A2,2 0 1,1 0,-2A2,2 0 0,1 2,0Z\" style=\"opacity: 1; stroke-width: 0px; fill: rgb(99, 110, 250); fill-opacity: 1;\"/><path class=\"point\" transform=\"translate(286.31,253.5)\" d=\"M2,0A2,2 0 1,1 0,-2A2,2 0 0,1 2,0Z\" style=\"opacity: 1; stroke-width: 0px; fill: rgb(99, 110, 250); fill-opacity: 1;\"/><path class=\"point\" transform=\"translate(286.78,253.5)\" d=\"M2,0A2,2 0 1,1 0,-2A2,2 0 0,1 2,0Z\" style=\"opacity: 1; stroke-width: 0px; fill: rgb(99, 110, 250); fill-opacity: 1;\"/><path class=\"point\" transform=\"translate(287.24,253.5)\" d=\"M2,0A2,2 0 1,1 0,-2A2,2 0 0,1 2,0Z\" style=\"opacity: 1; stroke-width: 0px; fill: rgb(99, 110, 250); fill-opacity: 1;\"/><path class=\"point\" transform=\"translate(287.71,253.5)\" d=\"M2,0A2,2 0 1,1 0,-2A2,2 0 0,1 2,0Z\" style=\"opacity: 1; stroke-width: 0px; fill: rgb(99, 110, 250); fill-opacity: 1;\"/><path class=\"point\" transform=\"translate(288.17,253.5)\" d=\"M2,0A2,2 0 1,1 0,-2A2,2 0 0,1 2,0Z\" style=\"opacity: 1; stroke-width: 0px; fill: rgb(99, 110, 250); fill-opacity: 1;\"/><path class=\"point\" transform=\"translate(288.64,229.8)\" d=\"M2,0A2,2 0 1,1 0,-2A2,2 0 0,1 2,0Z\" style=\"opacity: 1; stroke-width: 0px; fill: rgb(99, 110, 250); fill-opacity: 1;\"/><path class=\"point\" transform=\"translate(289.11,253.5)\" d=\"M2,0A2,2 0 1,1 0,-2A2,2 0 0,1 2,0Z\" style=\"opacity: 1; stroke-width: 0px; fill: rgb(99, 110, 250); fill-opacity: 1;\"/><path class=\"point\" transform=\"translate(289.57,253.5)\" d=\"M2,0A2,2 0 1,1 0,-2A2,2 0 0,1 2,0Z\" style=\"opacity: 1; stroke-width: 0px; fill: rgb(99, 110, 250); fill-opacity: 1;\"/><path class=\"point\" transform=\"translate(290.04,253.5)\" d=\"M2,0A2,2 0 1,1 0,-2A2,2 0 0,1 2,0Z\" style=\"opacity: 1; stroke-width: 0px; fill: rgb(99, 110, 250); fill-opacity: 1;\"/><path class=\"point\" transform=\"translate(290.5,253.5)\" d=\"M2,0A2,2 0 1,1 0,-2A2,2 0 0,1 2,0Z\" style=\"opacity: 1; stroke-width: 0px; fill: rgb(99, 110, 250); fill-opacity: 1;\"/><path class=\"point\" transform=\"translate(290.97,253.5)\" d=\"M2,0A2,2 0 1,1 0,-2A2,2 0 0,1 2,0Z\" style=\"opacity: 1; stroke-width: 0px; fill: rgb(99, 110, 250); fill-opacity: 1;\"/><path class=\"point\" transform=\"translate(291.44,253.5)\" d=\"M2,0A2,2 0 1,1 0,-2A2,2 0 0,1 2,0Z\" style=\"opacity: 1; stroke-width: 0px; fill: rgb(99, 110, 250); fill-opacity: 1;\"/><path class=\"point\" transform=\"translate(291.9,253.5)\" d=\"M2,0A2,2 0 1,1 0,-2A2,2 0 0,1 2,0Z\" style=\"opacity: 1; stroke-width: 0px; fill: rgb(99, 110, 250); fill-opacity: 1;\"/><path class=\"point\" transform=\"translate(292.37,253.5)\" d=\"M2,0A2,2 0 1,1 0,-2A2,2 0 0,1 2,0Z\" style=\"opacity: 1; stroke-width: 0px; fill: rgb(99, 110, 250); fill-opacity: 1;\"/><path class=\"point\" transform=\"translate(292.83,253.5)\" d=\"M2,0A2,2 0 1,1 0,-2A2,2 0 0,1 2,0Z\" style=\"opacity: 1; stroke-width: 0px; fill: rgb(99, 110, 250); fill-opacity: 1;\"/><path class=\"point\" transform=\"translate(293.3,229.8)\" d=\"M2,0A2,2 0 1,1 0,-2A2,2 0 0,1 2,0Z\" style=\"opacity: 1; stroke-width: 0px; fill: rgb(99, 110, 250); fill-opacity: 1;\"/><path class=\"point\" transform=\"translate(293.77,253.5)\" d=\"M2,0A2,2 0 1,1 0,-2A2,2 0 0,1 2,0Z\" style=\"opacity: 1; stroke-width: 0px; fill: rgb(99, 110, 250); fill-opacity: 1;\"/><path class=\"point\" transform=\"translate(294.23,253.5)\" d=\"M2,0A2,2 0 1,1 0,-2A2,2 0 0,1 2,0Z\" style=\"opacity: 1; stroke-width: 0px; fill: rgb(99, 110, 250); fill-opacity: 1;\"/><path class=\"point\" transform=\"translate(294.7,253.5)\" d=\"M2,0A2,2 0 1,1 0,-2A2,2 0 0,1 2,0Z\" style=\"opacity: 1; stroke-width: 0px; fill: rgb(99, 110, 250); fill-opacity: 1;\"/><path class=\"point\" transform=\"translate(295.17,63.9)\" d=\"M2,0A2,2 0 1,1 0,-2A2,2 0 0,1 2,0Z\" style=\"opacity: 1; stroke-width: 0px; fill: rgb(99, 110, 250); fill-opacity: 1;\"/><path class=\"point\" transform=\"translate(295.63,253.5)\" d=\"M2,0A2,2 0 1,1 0,-2A2,2 0 0,1 2,0Z\" style=\"opacity: 1; stroke-width: 0px; fill: rgb(99, 110, 250); fill-opacity: 1;\"/><path class=\"point\" transform=\"translate(296.1,253.5)\" d=\"M2,0A2,2 0 1,1 0,-2A2,2 0 0,1 2,0Z\" style=\"opacity: 1; stroke-width: 0px; fill: rgb(99, 110, 250); fill-opacity: 1;\"/><path class=\"point\" transform=\"translate(296.56,253.5)\" d=\"M2,0A2,2 0 1,1 0,-2A2,2 0 0,1 2,0Z\" style=\"opacity: 1; stroke-width: 0px; fill: rgb(99, 110, 250); fill-opacity: 1;\"/><path class=\"point\" transform=\"translate(297.03,253.5)\" d=\"M2,0A2,2 0 1,1 0,-2A2,2 0 0,1 2,0Z\" style=\"opacity: 1; stroke-width: 0px; fill: rgb(99, 110, 250); fill-opacity: 1;\"/><path class=\"point\" transform=\"translate(297.5,253.5)\" d=\"M2,0A2,2 0 1,1 0,-2A2,2 0 0,1 2,0Z\" style=\"opacity: 1; stroke-width: 0px; fill: rgb(99, 110, 250); fill-opacity: 1;\"/><path class=\"point\" transform=\"translate(297.96,229.8)\" d=\"M2,0A2,2 0 1,1 0,-2A2,2 0 0,1 2,0Z\" style=\"opacity: 1; stroke-width: 0px; fill: rgb(99, 110, 250); fill-opacity: 1;\"/><path class=\"point\" transform=\"translate(298.43,253.5)\" d=\"M2,0A2,2 0 1,1 0,-2A2,2 0 0,1 2,0Z\" style=\"opacity: 1; stroke-width: 0px; fill: rgb(99, 110, 250); fill-opacity: 1;\"/><path class=\"point\" transform=\"translate(298.89,253.5)\" d=\"M2,0A2,2 0 1,1 0,-2A2,2 0 0,1 2,0Z\" style=\"opacity: 1; stroke-width: 0px; fill: rgb(99, 110, 250); fill-opacity: 1;\"/><path class=\"point\" transform=\"translate(299.36,253.5)\" d=\"M2,0A2,2 0 1,1 0,-2A2,2 0 0,1 2,0Z\" style=\"opacity: 1; stroke-width: 0px; fill: rgb(99, 110, 250); fill-opacity: 1;\"/><path class=\"point\" transform=\"translate(299.83,253.5)\" d=\"M2,0A2,2 0 1,1 0,-2A2,2 0 0,1 2,0Z\" style=\"opacity: 1; stroke-width: 0px; fill: rgb(99, 110, 250); fill-opacity: 1;\"/><path class=\"point\" transform=\"translate(300.29,253.5)\" d=\"M2,0A2,2 0 1,1 0,-2A2,2 0 0,1 2,0Z\" style=\"opacity: 1; stroke-width: 0px; fill: rgb(99, 110, 250); fill-opacity: 1;\"/><path class=\"point\" transform=\"translate(300.76,253.5)\" d=\"M2,0A2,2 0 1,1 0,-2A2,2 0 0,1 2,0Z\" style=\"opacity: 1; stroke-width: 0px; fill: rgb(99, 110, 250); fill-opacity: 1;\"/><path class=\"point\" transform=\"translate(301.22,253.5)\" d=\"M2,0A2,2 0 1,1 0,-2A2,2 0 0,1 2,0Z\" style=\"opacity: 1; stroke-width: 0px; fill: rgb(99, 110, 250); fill-opacity: 1;\"/><path class=\"point\" transform=\"translate(301.69,253.5)\" d=\"M2,0A2,2 0 1,1 0,-2A2,2 0 0,1 2,0Z\" style=\"opacity: 1; stroke-width: 0px; fill: rgb(99, 110, 250); fill-opacity: 1;\"/><path class=\"point\" transform=\"translate(302.16,253.5)\" d=\"M2,0A2,2 0 1,1 0,-2A2,2 0 0,1 2,0Z\" style=\"opacity: 1; stroke-width: 0px; fill: rgb(99, 110, 250); fill-opacity: 1;\"/><path class=\"point\" transform=\"translate(302.62,253.5)\" d=\"M2,0A2,2 0 1,1 0,-2A2,2 0 0,1 2,0Z\" style=\"opacity: 1; stroke-width: 0px; fill: rgb(99, 110, 250); fill-opacity: 1;\"/><path class=\"point\" transform=\"translate(303.09,253.5)\" d=\"M2,0A2,2 0 1,1 0,-2A2,2 0 0,1 2,0Z\" style=\"opacity: 1; stroke-width: 0px; fill: rgb(99, 110, 250); fill-opacity: 1;\"/><path class=\"point\" transform=\"translate(303.55,253.5)\" d=\"M2,0A2,2 0 1,1 0,-2A2,2 0 0,1 2,0Z\" style=\"opacity: 1; stroke-width: 0px; fill: rgb(99, 110, 250); fill-opacity: 1;\"/><path class=\"point\" transform=\"translate(304.02,253.5)\" d=\"M2,0A2,2 0 1,1 0,-2A2,2 0 0,1 2,0Z\" style=\"opacity: 1; stroke-width: 0px; fill: rgb(99, 110, 250); fill-opacity: 1;\"/><path class=\"point\" transform=\"translate(304.49,253.5)\" d=\"M2,0A2,2 0 1,1 0,-2A2,2 0 0,1 2,0Z\" style=\"opacity: 1; stroke-width: 0px; fill: rgb(99, 110, 250); fill-opacity: 1;\"/><path class=\"point\" transform=\"translate(304.95,253.5)\" d=\"M2,0A2,2 0 1,1 0,-2A2,2 0 0,1 2,0Z\" style=\"opacity: 1; stroke-width: 0px; fill: rgb(99, 110, 250); fill-opacity: 1;\"/><path class=\"point\" transform=\"translate(305.42,16.5)\" d=\"M2,0A2,2 0 1,1 0,-2A2,2 0 0,1 2,0Z\" style=\"opacity: 1; stroke-width: 0px; fill: rgb(99, 110, 250); fill-opacity: 1;\"/><path class=\"point\" transform=\"translate(305.88,253.5)\" d=\"M2,0A2,2 0 1,1 0,-2A2,2 0 0,1 2,0Z\" style=\"opacity: 1; stroke-width: 0px; fill: rgb(99, 110, 250); fill-opacity: 1;\"/><path class=\"point\" transform=\"translate(306.35,253.5)\" d=\"M2,0A2,2 0 1,1 0,-2A2,2 0 0,1 2,0Z\" style=\"opacity: 1; stroke-width: 0px; fill: rgb(99, 110, 250); fill-opacity: 1;\"/><path class=\"point\" transform=\"translate(306.82,253.5)\" d=\"M2,0A2,2 0 1,1 0,-2A2,2 0 0,1 2,0Z\" style=\"opacity: 1; stroke-width: 0px; fill: rgb(99, 110, 250); fill-opacity: 1;\"/><path class=\"point\" transform=\"translate(307.28,253.5)\" d=\"M2,0A2,2 0 1,1 0,-2A2,2 0 0,1 2,0Z\" style=\"opacity: 1; stroke-width: 0px; fill: rgb(99, 110, 250); fill-opacity: 1;\"/><path class=\"point\" transform=\"translate(307.75,253.5)\" d=\"M2,0A2,2 0 1,1 0,-2A2,2 0 0,1 2,0Z\" style=\"opacity: 1; stroke-width: 0px; fill: rgb(99, 110, 250); fill-opacity: 1;\"/><path class=\"point\" transform=\"translate(308.21,253.5)\" d=\"M2,0A2,2 0 1,1 0,-2A2,2 0 0,1 2,0Z\" style=\"opacity: 1; stroke-width: 0px; fill: rgb(99, 110, 250); fill-opacity: 1;\"/><path class=\"point\" transform=\"translate(308.68,253.5)\" d=\"M2,0A2,2 0 1,1 0,-2A2,2 0 0,1 2,0Z\" style=\"opacity: 1; stroke-width: 0px; fill: rgb(99, 110, 250); fill-opacity: 1;\"/><path class=\"point\" transform=\"translate(309.15,253.5)\" d=\"M2,0A2,2 0 1,1 0,-2A2,2 0 0,1 2,0Z\" style=\"opacity: 1; stroke-width: 0px; fill: rgb(99, 110, 250); fill-opacity: 1;\"/><path class=\"point\" transform=\"translate(309.61,253.5)\" d=\"M2,0A2,2 0 1,1 0,-2A2,2 0 0,1 2,0Z\" style=\"opacity: 1; stroke-width: 0px; fill: rgb(99, 110, 250); fill-opacity: 1;\"/><path class=\"point\" transform=\"translate(310.08,253.5)\" d=\"M2,0A2,2 0 1,1 0,-2A2,2 0 0,1 2,0Z\" style=\"opacity: 1; stroke-width: 0px; fill: rgb(99, 110, 250); fill-opacity: 1;\"/><path class=\"point\" transform=\"translate(310.54,253.5)\" d=\"M2,0A2,2 0 1,1 0,-2A2,2 0 0,1 2,0Z\" style=\"opacity: 1; stroke-width: 0px; fill: rgb(99, 110, 250); fill-opacity: 1;\"/><path class=\"point\" transform=\"translate(311.01,253.5)\" d=\"M2,0A2,2 0 1,1 0,-2A2,2 0 0,1 2,0Z\" style=\"opacity: 1; stroke-width: 0px; fill: rgb(99, 110, 250); fill-opacity: 1;\"/><path class=\"point\" transform=\"translate(311.48,253.5)\" d=\"M2,0A2,2 0 1,1 0,-2A2,2 0 0,1 2,0Z\" style=\"opacity: 1; stroke-width: 0px; fill: rgb(99, 110, 250); fill-opacity: 1;\"/><path class=\"point\" transform=\"translate(311.94,253.5)\" d=\"M2,0A2,2 0 1,1 0,-2A2,2 0 0,1 2,0Z\" style=\"opacity: 1; stroke-width: 0px; fill: rgb(99, 110, 250); fill-opacity: 1;\"/><path class=\"point\" transform=\"translate(312.41,253.5)\" d=\"M2,0A2,2 0 1,1 0,-2A2,2 0 0,1 2,0Z\" style=\"opacity: 1; stroke-width: 0px; fill: rgb(99, 110, 250); fill-opacity: 1;\"/><path class=\"point\" transform=\"translate(312.87,253.5)\" d=\"M2,0A2,2 0 1,1 0,-2A2,2 0 0,1 2,0Z\" style=\"opacity: 1; stroke-width: 0px; fill: rgb(99, 110, 250); fill-opacity: 1;\"/><path class=\"point\" transform=\"translate(313.34,253.5)\" d=\"M2,0A2,2 0 1,1 0,-2A2,2 0 0,1 2,0Z\" style=\"opacity: 1; stroke-width: 0px; fill: rgb(99, 110, 250); fill-opacity: 1;\"/><path class=\"point\" transform=\"translate(313.81,253.5)\" d=\"M2,0A2,2 0 1,1 0,-2A2,2 0 0,1 2,0Z\" style=\"opacity: 1; stroke-width: 0px; fill: rgb(99, 110, 250); fill-opacity: 1;\"/><path class=\"point\" transform=\"translate(314.27,253.5)\" d=\"M2,0A2,2 0 1,1 0,-2A2,2 0 0,1 2,0Z\" style=\"opacity: 1; stroke-width: 0px; fill: rgb(99, 110, 250); fill-opacity: 1;\"/><path class=\"point\" transform=\"translate(314.74,253.5)\" d=\"M2,0A2,2 0 1,1 0,-2A2,2 0 0,1 2,0Z\" style=\"opacity: 1; stroke-width: 0px; fill: rgb(99, 110, 250); fill-opacity: 1;\"/><path class=\"point\" transform=\"translate(315.2,253.5)\" d=\"M2,0A2,2 0 1,1 0,-2A2,2 0 0,1 2,0Z\" style=\"opacity: 1; stroke-width: 0px; fill: rgb(99, 110, 250); fill-opacity: 1;\"/><path class=\"point\" transform=\"translate(315.67,253.5)\" d=\"M2,0A2,2 0 1,1 0,-2A2,2 0 0,1 2,0Z\" style=\"opacity: 1; stroke-width: 0px; fill: rgb(99, 110, 250); fill-opacity: 1;\"/><path class=\"point\" transform=\"translate(316.14,229.8)\" d=\"M2,0A2,2 0 1,1 0,-2A2,2 0 0,1 2,0Z\" style=\"opacity: 1; stroke-width: 0px; fill: rgb(99, 110, 250); fill-opacity: 1;\"/><path class=\"point\" transform=\"translate(316.6,253.5)\" d=\"M2,0A2,2 0 1,1 0,-2A2,2 0 0,1 2,0Z\" style=\"opacity: 1; stroke-width: 0px; fill: rgb(99, 110, 250); fill-opacity: 1;\"/><path class=\"point\" transform=\"translate(317.07,253.5)\" d=\"M2,0A2,2 0 1,1 0,-2A2,2 0 0,1 2,0Z\" style=\"opacity: 1; stroke-width: 0px; fill: rgb(99, 110, 250); fill-opacity: 1;\"/><path class=\"point\" transform=\"translate(317.53,253.5)\" d=\"M2,0A2,2 0 1,1 0,-2A2,2 0 0,1 2,0Z\" style=\"opacity: 1; stroke-width: 0px; fill: rgb(99, 110, 250); fill-opacity: 1;\"/><path class=\"point\" transform=\"translate(318,253.5)\" d=\"M2,0A2,2 0 1,1 0,-2A2,2 0 0,1 2,0Z\" style=\"opacity: 1; stroke-width: 0px; fill: rgb(99, 110, 250); fill-opacity: 1;\"/><path class=\"point\" transform=\"translate(318.47,182.4)\" d=\"M2,0A2,2 0 1,1 0,-2A2,2 0 0,1 2,0Z\" style=\"opacity: 1; stroke-width: 0px; fill: rgb(99, 110, 250); fill-opacity: 1;\"/><path class=\"point\" transform=\"translate(318.93,253.5)\" d=\"M2,0A2,2 0 1,1 0,-2A2,2 0 0,1 2,0Z\" style=\"opacity: 1; stroke-width: 0px; fill: rgb(99, 110, 250); fill-opacity: 1;\"/><path class=\"point\" transform=\"translate(319.4,253.5)\" d=\"M2,0A2,2 0 1,1 0,-2A2,2 0 0,1 2,0Z\" style=\"opacity: 1; stroke-width: 0px; fill: rgb(99, 110, 250); fill-opacity: 1;\"/><path class=\"point\" transform=\"translate(319.86,229.8)\" d=\"M2,0A2,2 0 1,1 0,-2A2,2 0 0,1 2,0Z\" style=\"opacity: 1; stroke-width: 0px; fill: rgb(99, 110, 250); fill-opacity: 1;\"/><path class=\"point\" transform=\"translate(320.33,253.5)\" d=\"M2,0A2,2 0 1,1 0,-2A2,2 0 0,1 2,0Z\" style=\"opacity: 1; stroke-width: 0px; fill: rgb(99, 110, 250); fill-opacity: 1;\"/><path class=\"point\" transform=\"translate(320.8,253.5)\" d=\"M2,0A2,2 0 1,1 0,-2A2,2 0 0,1 2,0Z\" style=\"opacity: 1; stroke-width: 0px; fill: rgb(99, 110, 250); fill-opacity: 1;\"/><path class=\"point\" transform=\"translate(321.26,253.5)\" d=\"M2,0A2,2 0 1,1 0,-2A2,2 0 0,1 2,0Z\" style=\"opacity: 1; stroke-width: 0px; fill: rgb(99, 110, 250); fill-opacity: 1;\"/><path class=\"point\" transform=\"translate(321.73,253.5)\" d=\"M2,0A2,2 0 1,1 0,-2A2,2 0 0,1 2,0Z\" style=\"opacity: 1; stroke-width: 0px; fill: rgb(99, 110, 250); fill-opacity: 1;\"/><path class=\"point\" transform=\"translate(322.19,253.5)\" d=\"M2,0A2,2 0 1,1 0,-2A2,2 0 0,1 2,0Z\" style=\"opacity: 1; stroke-width: 0px; fill: rgb(99, 110, 250); fill-opacity: 1;\"/><path class=\"point\" transform=\"translate(322.66,253.5)\" d=\"M2,0A2,2 0 1,1 0,-2A2,2 0 0,1 2,0Z\" style=\"opacity: 1; stroke-width: 0px; fill: rgb(99, 110, 250); fill-opacity: 1;\"/><path class=\"point\" transform=\"translate(323.13,253.5)\" d=\"M2,0A2,2 0 1,1 0,-2A2,2 0 0,1 2,0Z\" style=\"opacity: 1; stroke-width: 0px; fill: rgb(99, 110, 250); fill-opacity: 1;\"/><path class=\"point\" transform=\"translate(323.59,253.5)\" d=\"M2,0A2,2 0 1,1 0,-2A2,2 0 0,1 2,0Z\" style=\"opacity: 1; stroke-width: 0px; fill: rgb(99, 110, 250); fill-opacity: 1;\"/><path class=\"point\" transform=\"translate(324.06,253.5)\" d=\"M2,0A2,2 0 1,1 0,-2A2,2 0 0,1 2,0Z\" style=\"opacity: 1; stroke-width: 0px; fill: rgb(99, 110, 250); fill-opacity: 1;\"/><path class=\"point\" transform=\"translate(324.52,253.5)\" d=\"M2,0A2,2 0 1,1 0,-2A2,2 0 0,1 2,0Z\" style=\"opacity: 1; stroke-width: 0px; fill: rgb(99, 110, 250); fill-opacity: 1;\"/><path class=\"point\" transform=\"translate(324.99,253.5)\" d=\"M2,0A2,2 0 1,1 0,-2A2,2 0 0,1 2,0Z\" style=\"opacity: 1; stroke-width: 0px; fill: rgb(99, 110, 250); fill-opacity: 1;\"/><path class=\"point\" transform=\"translate(325.46,253.5)\" d=\"M2,0A2,2 0 1,1 0,-2A2,2 0 0,1 2,0Z\" style=\"opacity: 1; stroke-width: 0px; fill: rgb(99, 110, 250); fill-opacity: 1;\"/><path class=\"point\" transform=\"translate(325.92,253.5)\" d=\"M2,0A2,2 0 1,1 0,-2A2,2 0 0,1 2,0Z\" style=\"opacity: 1; stroke-width: 0px; fill: rgb(99, 110, 250); fill-opacity: 1;\"/><path class=\"point\" transform=\"translate(326.39,253.5)\" d=\"M2,0A2,2 0 1,1 0,-2A2,2 0 0,1 2,0Z\" style=\"opacity: 1; stroke-width: 0px; fill: rgb(99, 110, 250); fill-opacity: 1;\"/><path class=\"point\" transform=\"translate(326.85,253.5)\" d=\"M2,0A2,2 0 1,1 0,-2A2,2 0 0,1 2,0Z\" style=\"opacity: 1; stroke-width: 0px; fill: rgb(99, 110, 250); fill-opacity: 1;\"/><path class=\"point\" transform=\"translate(327.32,253.5)\" d=\"M2,0A2,2 0 1,1 0,-2A2,2 0 0,1 2,0Z\" style=\"opacity: 1; stroke-width: 0px; fill: rgb(99, 110, 250); fill-opacity: 1;\"/><path class=\"point\" transform=\"translate(327.79,229.8)\" d=\"M2,0A2,2 0 1,1 0,-2A2,2 0 0,1 2,0Z\" style=\"opacity: 1; stroke-width: 0px; fill: rgb(99, 110, 250); fill-opacity: 1;\"/><path class=\"point\" transform=\"translate(328.25,253.5)\" d=\"M2,0A2,2 0 1,1 0,-2A2,2 0 0,1 2,0Z\" style=\"opacity: 1; stroke-width: 0px; fill: rgb(99, 110, 250); fill-opacity: 1;\"/><path class=\"point\" transform=\"translate(328.72,253.5)\" d=\"M2,0A2,2 0 1,1 0,-2A2,2 0 0,1 2,0Z\" style=\"opacity: 1; stroke-width: 0px; fill: rgb(99, 110, 250); fill-opacity: 1;\"/><path class=\"point\" transform=\"translate(329.18,253.5)\" d=\"M2,0A2,2 0 1,1 0,-2A2,2 0 0,1 2,0Z\" style=\"opacity: 1; stroke-width: 0px; fill: rgb(99, 110, 250); fill-opacity: 1;\"/><path class=\"point\" transform=\"translate(329.65,253.5)\" d=\"M2,0A2,2 0 1,1 0,-2A2,2 0 0,1 2,0Z\" style=\"opacity: 1; stroke-width: 0px; fill: rgb(99, 110, 250); fill-opacity: 1;\"/><path class=\"point\" transform=\"translate(330.12,253.5)\" d=\"M2,0A2,2 0 1,1 0,-2A2,2 0 0,1 2,0Z\" style=\"opacity: 1; stroke-width: 0px; fill: rgb(99, 110, 250); fill-opacity: 1;\"/><path class=\"point\" transform=\"translate(330.58,253.5)\" d=\"M2,0A2,2 0 1,1 0,-2A2,2 0 0,1 2,0Z\" style=\"opacity: 1; stroke-width: 0px; fill: rgb(99, 110, 250); fill-opacity: 1;\"/><path class=\"point\" transform=\"translate(331.05,253.5)\" d=\"M2,0A2,2 0 1,1 0,-2A2,2 0 0,1 2,0Z\" style=\"opacity: 1; stroke-width: 0px; fill: rgb(99, 110, 250); fill-opacity: 1;\"/><path class=\"point\" transform=\"translate(331.51,253.5)\" d=\"M2,0A2,2 0 1,1 0,-2A2,2 0 0,1 2,0Z\" style=\"opacity: 1; stroke-width: 0px; fill: rgb(99, 110, 250); fill-opacity: 1;\"/><path class=\"point\" transform=\"translate(331.98,229.8)\" d=\"M2,0A2,2 0 1,1 0,-2A2,2 0 0,1 2,0Z\" style=\"opacity: 1; stroke-width: 0px; fill: rgb(99, 110, 250); fill-opacity: 1;\"/><path class=\"point\" transform=\"translate(332.45,253.5)\" d=\"M2,0A2,2 0 1,1 0,-2A2,2 0 0,1 2,0Z\" style=\"opacity: 1; stroke-width: 0px; fill: rgb(99, 110, 250); fill-opacity: 1;\"/><path class=\"point\" transform=\"translate(332.91,253.5)\" d=\"M2,0A2,2 0 1,1 0,-2A2,2 0 0,1 2,0Z\" style=\"opacity: 1; stroke-width: 0px; fill: rgb(99, 110, 250); fill-opacity: 1;\"/><path class=\"point\" transform=\"translate(333.38,253.5)\" d=\"M2,0A2,2 0 1,1 0,-2A2,2 0 0,1 2,0Z\" style=\"opacity: 1; stroke-width: 0px; fill: rgb(99, 110, 250); fill-opacity: 1;\"/><path class=\"point\" transform=\"translate(333.84,253.5)\" d=\"M2,0A2,2 0 1,1 0,-2A2,2 0 0,1 2,0Z\" style=\"opacity: 1; stroke-width: 0px; fill: rgb(99, 110, 250); fill-opacity: 1;\"/><path class=\"point\" transform=\"translate(334.31,253.5)\" d=\"M2,0A2,2 0 1,1 0,-2A2,2 0 0,1 2,0Z\" style=\"opacity: 1; stroke-width: 0px; fill: rgb(99, 110, 250); fill-opacity: 1;\"/><path class=\"point\" transform=\"translate(334.78,253.5)\" d=\"M2,0A2,2 0 1,1 0,-2A2,2 0 0,1 2,0Z\" style=\"opacity: 1; stroke-width: 0px; fill: rgb(99, 110, 250); fill-opacity: 1;\"/><path class=\"point\" transform=\"translate(335.24,253.5)\" d=\"M2,0A2,2 0 1,1 0,-2A2,2 0 0,1 2,0Z\" style=\"opacity: 1; stroke-width: 0px; fill: rgb(99, 110, 250); fill-opacity: 1;\"/><path class=\"point\" transform=\"translate(335.71,253.5)\" d=\"M2,0A2,2 0 1,1 0,-2A2,2 0 0,1 2,0Z\" style=\"opacity: 1; stroke-width: 0px; fill: rgb(99, 110, 250); fill-opacity: 1;\"/><path class=\"point\" transform=\"translate(336.17,229.8)\" d=\"M2,0A2,2 0 1,1 0,-2A2,2 0 0,1 2,0Z\" style=\"opacity: 1; stroke-width: 0px; fill: rgb(99, 110, 250); fill-opacity: 1;\"/><path class=\"point\" transform=\"translate(336.64,253.5)\" d=\"M2,0A2,2 0 1,1 0,-2A2,2 0 0,1 2,0Z\" style=\"opacity: 1; stroke-width: 0px; fill: rgb(99, 110, 250); fill-opacity: 1;\"/><path class=\"point\" transform=\"translate(337.11,253.5)\" d=\"M2,0A2,2 0 1,1 0,-2A2,2 0 0,1 2,0Z\" style=\"opacity: 1; stroke-width: 0px; fill: rgb(99, 110, 250); fill-opacity: 1;\"/><path class=\"point\" transform=\"translate(337.57,253.5)\" d=\"M2,0A2,2 0 1,1 0,-2A2,2 0 0,1 2,0Z\" style=\"opacity: 1; stroke-width: 0px; fill: rgb(99, 110, 250); fill-opacity: 1;\"/><path class=\"point\" transform=\"translate(338.04,229.8)\" d=\"M2,0A2,2 0 1,1 0,-2A2,2 0 0,1 2,0Z\" style=\"opacity: 1; stroke-width: 0px; fill: rgb(99, 110, 250); fill-opacity: 1;\"/><path class=\"point\" transform=\"translate(338.5,229.8)\" d=\"M2,0A2,2 0 1,1 0,-2A2,2 0 0,1 2,0Z\" style=\"opacity: 1; stroke-width: 0px; fill: rgb(99, 110, 250); fill-opacity: 1;\"/><path class=\"point\" transform=\"translate(338.97,229.8)\" d=\"M2,0A2,2 0 1,1 0,-2A2,2 0 0,1 2,0Z\" style=\"opacity: 1; stroke-width: 0px; fill: rgb(99, 110, 250); fill-opacity: 1;\"/><path class=\"point\" transform=\"translate(339.44,253.5)\" d=\"M2,0A2,2 0 1,1 0,-2A2,2 0 0,1 2,0Z\" style=\"opacity: 1; stroke-width: 0px; fill: rgb(99, 110, 250); fill-opacity: 1;\"/><path class=\"point\" transform=\"translate(339.9,253.5)\" d=\"M2,0A2,2 0 1,1 0,-2A2,2 0 0,1 2,0Z\" style=\"opacity: 1; stroke-width: 0px; fill: rgb(99, 110, 250); fill-opacity: 1;\"/><path class=\"point\" transform=\"translate(340.37,253.5)\" d=\"M2,0A2,2 0 1,1 0,-2A2,2 0 0,1 2,0Z\" style=\"opacity: 1; stroke-width: 0px; fill: rgb(99, 110, 250); fill-opacity: 1;\"/><path class=\"point\" transform=\"translate(340.83,206.1)\" d=\"M2,0A2,2 0 1,1 0,-2A2,2 0 0,1 2,0Z\" style=\"opacity: 1; stroke-width: 0px; fill: rgb(99, 110, 250); fill-opacity: 1;\"/><path class=\"point\" transform=\"translate(341.3,253.5)\" d=\"M2,0A2,2 0 1,1 0,-2A2,2 0 0,1 2,0Z\" style=\"opacity: 1; stroke-width: 0px; fill: rgb(99, 110, 250); fill-opacity: 1;\"/><path class=\"point\" transform=\"translate(341.77,229.8)\" d=\"M2,0A2,2 0 1,1 0,-2A2,2 0 0,1 2,0Z\" style=\"opacity: 1; stroke-width: 0px; fill: rgb(99, 110, 250); fill-opacity: 1;\"/><path class=\"point\" transform=\"translate(342.23,253.5)\" d=\"M2,0A2,2 0 1,1 0,-2A2,2 0 0,1 2,0Z\" style=\"opacity: 1; stroke-width: 0px; fill: rgb(99, 110, 250); fill-opacity: 1;\"/><path class=\"point\" transform=\"translate(342.7,253.5)\" d=\"M2,0A2,2 0 1,1 0,-2A2,2 0 0,1 2,0Z\" style=\"opacity: 1; stroke-width: 0px; fill: rgb(99, 110, 250); fill-opacity: 1;\"/><path class=\"point\" transform=\"translate(343.17,253.5)\" d=\"M2,0A2,2 0 1,1 0,-2A2,2 0 0,1 2,0Z\" style=\"opacity: 1; stroke-width: 0px; fill: rgb(99, 110, 250); fill-opacity: 1;\"/><path class=\"point\" transform=\"translate(343.63,253.5)\" d=\"M2,0A2,2 0 1,1 0,-2A2,2 0 0,1 2,0Z\" style=\"opacity: 1; stroke-width: 0px; fill: rgb(99, 110, 250); fill-opacity: 1;\"/><path class=\"point\" transform=\"translate(344.1,253.5)\" d=\"M2,0A2,2 0 1,1 0,-2A2,2 0 0,1 2,0Z\" style=\"opacity: 1; stroke-width: 0px; fill: rgb(99, 110, 250); fill-opacity: 1;\"/><path class=\"point\" transform=\"translate(344.56,253.5)\" d=\"M2,0A2,2 0 1,1 0,-2A2,2 0 0,1 2,0Z\" style=\"opacity: 1; stroke-width: 0px; fill: rgb(99, 110, 250); fill-opacity: 1;\"/><path class=\"point\" transform=\"translate(345.03,253.5)\" d=\"M2,0A2,2 0 1,1 0,-2A2,2 0 0,1 2,0Z\" style=\"opacity: 1; stroke-width: 0px; fill: rgb(99, 110, 250); fill-opacity: 1;\"/><path class=\"point\" transform=\"translate(345.5,206.1)\" d=\"M2,0A2,2 0 1,1 0,-2A2,2 0 0,1 2,0Z\" style=\"opacity: 1; stroke-width: 0px; fill: rgb(99, 110, 250); fill-opacity: 1;\"/><path class=\"point\" transform=\"translate(345.96,253.5)\" d=\"M2,0A2,2 0 1,1 0,-2A2,2 0 0,1 2,0Z\" style=\"opacity: 1; stroke-width: 0px; fill: rgb(99, 110, 250); fill-opacity: 1;\"/><path class=\"point\" transform=\"translate(346.43,253.5)\" d=\"M2,0A2,2 0 1,1 0,-2A2,2 0 0,1 2,0Z\" style=\"opacity: 1; stroke-width: 0px; fill: rgb(99, 110, 250); fill-opacity: 1;\"/><path class=\"point\" transform=\"translate(346.89,253.5)\" d=\"M2,0A2,2 0 1,1 0,-2A2,2 0 0,1 2,0Z\" style=\"opacity: 1; stroke-width: 0px; fill: rgb(99, 110, 250); fill-opacity: 1;\"/><path class=\"point\" transform=\"translate(347.36,253.5)\" d=\"M2,0A2,2 0 1,1 0,-2A2,2 0 0,1 2,0Z\" style=\"opacity: 1; stroke-width: 0px; fill: rgb(99, 110, 250); fill-opacity: 1;\"/><path class=\"point\" transform=\"translate(347.83,253.5)\" d=\"M2,0A2,2 0 1,1 0,-2A2,2 0 0,1 2,0Z\" style=\"opacity: 1; stroke-width: 0px; fill: rgb(99, 110, 250); fill-opacity: 1;\"/><path class=\"point\" transform=\"translate(348.29,253.5)\" d=\"M2,0A2,2 0 1,1 0,-2A2,2 0 0,1 2,0Z\" style=\"opacity: 1; stroke-width: 0px; fill: rgb(99, 110, 250); fill-opacity: 1;\"/><path class=\"point\" transform=\"translate(348.76,253.5)\" d=\"M2,0A2,2 0 1,1 0,-2A2,2 0 0,1 2,0Z\" style=\"opacity: 1; stroke-width: 0px; fill: rgb(99, 110, 250); fill-opacity: 1;\"/><path class=\"point\" transform=\"translate(349.22,253.5)\" d=\"M2,0A2,2 0 1,1 0,-2A2,2 0 0,1 2,0Z\" style=\"opacity: 1; stroke-width: 0px; fill: rgb(99, 110, 250); fill-opacity: 1;\"/><path class=\"point\" transform=\"translate(349.69,253.5)\" d=\"M2,0A2,2 0 1,1 0,-2A2,2 0 0,1 2,0Z\" style=\"opacity: 1; stroke-width: 0px; fill: rgb(99, 110, 250); fill-opacity: 1;\"/><path class=\"point\" transform=\"translate(350.16,253.5)\" d=\"M2,0A2,2 0 1,1 0,-2A2,2 0 0,1 2,0Z\" style=\"opacity: 1; stroke-width: 0px; fill: rgb(99, 110, 250); fill-opacity: 1;\"/><path class=\"point\" transform=\"translate(350.62,253.5)\" d=\"M2,0A2,2 0 1,1 0,-2A2,2 0 0,1 2,0Z\" style=\"opacity: 1; stroke-width: 0px; fill: rgb(99, 110, 250); fill-opacity: 1;\"/><path class=\"point\" transform=\"translate(351.09,253.5)\" d=\"M2,0A2,2 0 1,1 0,-2A2,2 0 0,1 2,0Z\" style=\"opacity: 1; stroke-width: 0px; fill: rgb(99, 110, 250); fill-opacity: 1;\"/><path class=\"point\" transform=\"translate(351.55,253.5)\" d=\"M2,0A2,2 0 1,1 0,-2A2,2 0 0,1 2,0Z\" style=\"opacity: 1; stroke-width: 0px; fill: rgb(99, 110, 250); fill-opacity: 1;\"/><path class=\"point\" transform=\"translate(352.02,253.5)\" d=\"M2,0A2,2 0 1,1 0,-2A2,2 0 0,1 2,0Z\" style=\"opacity: 1; stroke-width: 0px; fill: rgb(99, 110, 250); fill-opacity: 1;\"/><path class=\"point\" transform=\"translate(352.49,253.5)\" d=\"M2,0A2,2 0 1,1 0,-2A2,2 0 0,1 2,0Z\" style=\"opacity: 1; stroke-width: 0px; fill: rgb(99, 110, 250); fill-opacity: 1;\"/><path class=\"point\" transform=\"translate(352.95,253.5)\" d=\"M2,0A2,2 0 1,1 0,-2A2,2 0 0,1 2,0Z\" style=\"opacity: 1; stroke-width: 0px; fill: rgb(99, 110, 250); fill-opacity: 1;\"/><path class=\"point\" transform=\"translate(353.42,253.5)\" d=\"M2,0A2,2 0 1,1 0,-2A2,2 0 0,1 2,0Z\" style=\"opacity: 1; stroke-width: 0px; fill: rgb(99, 110, 250); fill-opacity: 1;\"/><path class=\"point\" transform=\"translate(353.88,253.5)\" d=\"M2,0A2,2 0 1,1 0,-2A2,2 0 0,1 2,0Z\" style=\"opacity: 1; stroke-width: 0px; fill: rgb(99, 110, 250); fill-opacity: 1;\"/><path class=\"point\" transform=\"translate(354.35,253.5)\" d=\"M2,0A2,2 0 1,1 0,-2A2,2 0 0,1 2,0Z\" style=\"opacity: 1; stroke-width: 0px; fill: rgb(99, 110, 250); fill-opacity: 1;\"/><path class=\"point\" transform=\"translate(354.82,253.5)\" d=\"M2,0A2,2 0 1,1 0,-2A2,2 0 0,1 2,0Z\" style=\"opacity: 1; stroke-width: 0px; fill: rgb(99, 110, 250); fill-opacity: 1;\"/><path class=\"point\" transform=\"translate(355.28,253.5)\" d=\"M2,0A2,2 0 1,1 0,-2A2,2 0 0,1 2,0Z\" style=\"opacity: 1; stroke-width: 0px; fill: rgb(99, 110, 250); fill-opacity: 1;\"/><path class=\"point\" transform=\"translate(355.75,253.5)\" d=\"M2,0A2,2 0 1,1 0,-2A2,2 0 0,1 2,0Z\" style=\"opacity: 1; stroke-width: 0px; fill: rgb(99, 110, 250); fill-opacity: 1;\"/><path class=\"point\" transform=\"translate(356.21,229.8)\" d=\"M2,0A2,2 0 1,1 0,-2A2,2 0 0,1 2,0Z\" style=\"opacity: 1; stroke-width: 0px; fill: rgb(99, 110, 250); fill-opacity: 1;\"/><path class=\"point\" transform=\"translate(356.68,253.5)\" d=\"M2,0A2,2 0 1,1 0,-2A2,2 0 0,1 2,0Z\" style=\"opacity: 1; stroke-width: 0px; fill: rgb(99, 110, 250); fill-opacity: 1;\"/><path class=\"point\" transform=\"translate(357.15,253.5)\" d=\"M2,0A2,2 0 1,1 0,-2A2,2 0 0,1 2,0Z\" style=\"opacity: 1; stroke-width: 0px; fill: rgb(99, 110, 250); fill-opacity: 1;\"/><path class=\"point\" transform=\"translate(357.61,253.5)\" d=\"M2,0A2,2 0 1,1 0,-2A2,2 0 0,1 2,0Z\" style=\"opacity: 1; stroke-width: 0px; fill: rgb(99, 110, 250); fill-opacity: 1;\"/><path class=\"point\" transform=\"translate(358.08,253.5)\" d=\"M2,0A2,2 0 1,1 0,-2A2,2 0 0,1 2,0Z\" style=\"opacity: 1; stroke-width: 0px; fill: rgb(99, 110, 250); fill-opacity: 1;\"/><path class=\"point\" transform=\"translate(358.54,253.5)\" d=\"M2,0A2,2 0 1,1 0,-2A2,2 0 0,1 2,0Z\" style=\"opacity: 1; stroke-width: 0px; fill: rgb(99, 110, 250); fill-opacity: 1;\"/><path class=\"point\" transform=\"translate(359.01,253.5)\" d=\"M2,0A2,2 0 1,1 0,-2A2,2 0 0,1 2,0Z\" style=\"opacity: 1; stroke-width: 0px; fill: rgb(99, 110, 250); fill-opacity: 1;\"/><path class=\"point\" transform=\"translate(359.48,253.5)\" d=\"M2,0A2,2 0 1,1 0,-2A2,2 0 0,1 2,0Z\" style=\"opacity: 1; stroke-width: 0px; fill: rgb(99, 110, 250); fill-opacity: 1;\"/><path class=\"point\" transform=\"translate(359.94,253.5)\" d=\"M2,0A2,2 0 1,1 0,-2A2,2 0 0,1 2,0Z\" style=\"opacity: 1; stroke-width: 0px; fill: rgb(99, 110, 250); fill-opacity: 1;\"/><path class=\"point\" transform=\"translate(360.41,253.5)\" d=\"M2,0A2,2 0 1,1 0,-2A2,2 0 0,1 2,0Z\" style=\"opacity: 1; stroke-width: 0px; fill: rgb(99, 110, 250); fill-opacity: 1;\"/><path class=\"point\" transform=\"translate(360.87,229.8)\" d=\"M2,0A2,2 0 1,1 0,-2A2,2 0 0,1 2,0Z\" style=\"opacity: 1; stroke-width: 0px; fill: rgb(99, 110, 250); fill-opacity: 1;\"/><path class=\"point\" transform=\"translate(361.34,253.5)\" d=\"M2,0A2,2 0 1,1 0,-2A2,2 0 0,1 2,0Z\" style=\"opacity: 1; stroke-width: 0px; fill: rgb(99, 110, 250); fill-opacity: 1;\"/><path class=\"point\" transform=\"translate(361.81,253.5)\" d=\"M2,0A2,2 0 1,1 0,-2A2,2 0 0,1 2,0Z\" style=\"opacity: 1; stroke-width: 0px; fill: rgb(99, 110, 250); fill-opacity: 1;\"/><path class=\"point\" transform=\"translate(362.27,253.5)\" d=\"M2,0A2,2 0 1,1 0,-2A2,2 0 0,1 2,0Z\" style=\"opacity: 1; stroke-width: 0px; fill: rgb(99, 110, 250); fill-opacity: 1;\"/><path class=\"point\" transform=\"translate(362.74,253.5)\" d=\"M2,0A2,2 0 1,1 0,-2A2,2 0 0,1 2,0Z\" style=\"opacity: 1; stroke-width: 0px; fill: rgb(99, 110, 250); fill-opacity: 1;\"/><path class=\"point\" transform=\"translate(363.2,229.8)\" d=\"M2,0A2,2 0 1,1 0,-2A2,2 0 0,1 2,0Z\" style=\"opacity: 1; stroke-width: 0px; fill: rgb(99, 110, 250); fill-opacity: 1;\"/><path class=\"point\" transform=\"translate(363.67,253.5)\" d=\"M2,0A2,2 0 1,1 0,-2A2,2 0 0,1 2,0Z\" style=\"opacity: 1; stroke-width: 0px; fill: rgb(99, 110, 250); fill-opacity: 1;\"/><path class=\"point\" transform=\"translate(364.14,253.5)\" d=\"M2,0A2,2 0 1,1 0,-2A2,2 0 0,1 2,0Z\" style=\"opacity: 1; stroke-width: 0px; fill: rgb(99, 110, 250); fill-opacity: 1;\"/><path class=\"point\" transform=\"translate(364.6,229.8)\" d=\"M2,0A2,2 0 1,1 0,-2A2,2 0 0,1 2,0Z\" style=\"opacity: 1; stroke-width: 0px; fill: rgb(99, 110, 250); fill-opacity: 1;\"/><path class=\"point\" transform=\"translate(365.07,253.5)\" d=\"M2,0A2,2 0 1,1 0,-2A2,2 0 0,1 2,0Z\" style=\"opacity: 1; stroke-width: 0px; fill: rgb(99, 110, 250); fill-opacity: 1;\"/><path class=\"point\" transform=\"translate(365.53,253.5)\" d=\"M2,0A2,2 0 1,1 0,-2A2,2 0 0,1 2,0Z\" style=\"opacity: 1; stroke-width: 0px; fill: rgb(99, 110, 250); fill-opacity: 1;\"/><path class=\"point\" transform=\"translate(366,253.5)\" d=\"M2,0A2,2 0 1,1 0,-2A2,2 0 0,1 2,0Z\" style=\"opacity: 1; stroke-width: 0px; fill: rgb(99, 110, 250); fill-opacity: 1;\"/><path class=\"point\" transform=\"translate(366.47,253.5)\" d=\"M2,0A2,2 0 1,1 0,-2A2,2 0 0,1 2,0Z\" style=\"opacity: 1; stroke-width: 0px; fill: rgb(99, 110, 250); fill-opacity: 1;\"/><path class=\"point\" transform=\"translate(366.93,253.5)\" d=\"M2,0A2,2 0 1,1 0,-2A2,2 0 0,1 2,0Z\" style=\"opacity: 1; stroke-width: 0px; fill: rgb(99, 110, 250); fill-opacity: 1;\"/><path class=\"point\" transform=\"translate(367.4,253.5)\" d=\"M2,0A2,2 0 1,1 0,-2A2,2 0 0,1 2,0Z\" style=\"opacity: 1; stroke-width: 0px; fill: rgb(99, 110, 250); fill-opacity: 1;\"/><path class=\"point\" transform=\"translate(367.86,253.5)\" d=\"M2,0A2,2 0 1,1 0,-2A2,2 0 0,1 2,0Z\" style=\"opacity: 1; stroke-width: 0px; fill: rgb(99, 110, 250); fill-opacity: 1;\"/><path class=\"point\" transform=\"translate(368.33,206.1)\" d=\"M2,0A2,2 0 1,1 0,-2A2,2 0 0,1 2,0Z\" style=\"opacity: 1; stroke-width: 0px; fill: rgb(99, 110, 250); fill-opacity: 1;\"/><path class=\"point\" transform=\"translate(368.8,253.5)\" d=\"M2,0A2,2 0 1,1 0,-2A2,2 0 0,1 2,0Z\" style=\"opacity: 1; stroke-width: 0px; fill: rgb(99, 110, 250); fill-opacity: 1;\"/><path class=\"point\" transform=\"translate(369.26,253.5)\" d=\"M2,0A2,2 0 1,1 0,-2A2,2 0 0,1 2,0Z\" style=\"opacity: 1; stroke-width: 0px; fill: rgb(99, 110, 250); fill-opacity: 1;\"/><path class=\"point\" transform=\"translate(369.73,253.5)\" d=\"M2,0A2,2 0 1,1 0,-2A2,2 0 0,1 2,0Z\" style=\"opacity: 1; stroke-width: 0px; fill: rgb(99, 110, 250); fill-opacity: 1;\"/><path class=\"point\" transform=\"translate(370.19,253.5)\" d=\"M2,0A2,2 0 1,1 0,-2A2,2 0 0,1 2,0Z\" style=\"opacity: 1; stroke-width: 0px; fill: rgb(99, 110, 250); fill-opacity: 1;\"/><path class=\"point\" transform=\"translate(370.66,253.5)\" d=\"M2,0A2,2 0 1,1 0,-2A2,2 0 0,1 2,0Z\" style=\"opacity: 1; stroke-width: 0px; fill: rgb(99, 110, 250); fill-opacity: 1;\"/><path class=\"point\" transform=\"translate(371.13,253.5)\" d=\"M2,0A2,2 0 1,1 0,-2A2,2 0 0,1 2,0Z\" style=\"opacity: 1; stroke-width: 0px; fill: rgb(99, 110, 250); fill-opacity: 1;\"/><path class=\"point\" transform=\"translate(371.59,253.5)\" d=\"M2,0A2,2 0 1,1 0,-2A2,2 0 0,1 2,0Z\" style=\"opacity: 1; stroke-width: 0px; fill: rgb(99, 110, 250); fill-opacity: 1;\"/><path class=\"point\" transform=\"translate(372.06,253.5)\" d=\"M2,0A2,2 0 1,1 0,-2A2,2 0 0,1 2,0Z\" style=\"opacity: 1; stroke-width: 0px; fill: rgb(99, 110, 250); fill-opacity: 1;\"/><path class=\"point\" transform=\"translate(372.52,253.5)\" d=\"M2,0A2,2 0 1,1 0,-2A2,2 0 0,1 2,0Z\" style=\"opacity: 1; stroke-width: 0px; fill: rgb(99, 110, 250); fill-opacity: 1;\"/><path class=\"point\" transform=\"translate(372.99,253.5)\" d=\"M2,0A2,2 0 1,1 0,-2A2,2 0 0,1 2,0Z\" style=\"opacity: 1; stroke-width: 0px; fill: rgb(99, 110, 250); fill-opacity: 1;\"/><path class=\"point\" transform=\"translate(373.46,253.5)\" d=\"M2,0A2,2 0 1,1 0,-2A2,2 0 0,1 2,0Z\" style=\"opacity: 1; stroke-width: 0px; fill: rgb(99, 110, 250); fill-opacity: 1;\"/><path class=\"point\" transform=\"translate(373.92,253.5)\" d=\"M2,0A2,2 0 1,1 0,-2A2,2 0 0,1 2,0Z\" style=\"opacity: 1; stroke-width: 0px; fill: rgb(99, 110, 250); fill-opacity: 1;\"/><path class=\"point\" transform=\"translate(374.39,253.5)\" d=\"M2,0A2,2 0 1,1 0,-2A2,2 0 0,1 2,0Z\" style=\"opacity: 1; stroke-width: 0px; fill: rgb(99, 110, 250); fill-opacity: 1;\"/><path class=\"point\" transform=\"translate(374.85,253.5)\" d=\"M2,0A2,2 0 1,1 0,-2A2,2 0 0,1 2,0Z\" style=\"opacity: 1; stroke-width: 0px; fill: rgb(99, 110, 250); fill-opacity: 1;\"/><path class=\"point\" transform=\"translate(375.32,253.5)\" d=\"M2,0A2,2 0 1,1 0,-2A2,2 0 0,1 2,0Z\" style=\"opacity: 1; stroke-width: 0px; fill: rgb(99, 110, 250); fill-opacity: 1;\"/><path class=\"point\" transform=\"translate(375.79,253.5)\" d=\"M2,0A2,2 0 1,1 0,-2A2,2 0 0,1 2,0Z\" style=\"opacity: 1; stroke-width: 0px; fill: rgb(99, 110, 250); fill-opacity: 1;\"/><path class=\"point\" transform=\"translate(376.25,253.5)\" d=\"M2,0A2,2 0 1,1 0,-2A2,2 0 0,1 2,0Z\" style=\"opacity: 1; stroke-width: 0px; fill: rgb(99, 110, 250); fill-opacity: 1;\"/><path class=\"point\" transform=\"translate(376.72,158.7)\" d=\"M2,0A2,2 0 1,1 0,-2A2,2 0 0,1 2,0Z\" style=\"opacity: 1; stroke-width: 0px; fill: rgb(99, 110, 250); fill-opacity: 1;\"/><path class=\"point\" transform=\"translate(377.18,253.5)\" d=\"M2,0A2,2 0 1,1 0,-2A2,2 0 0,1 2,0Z\" style=\"opacity: 1; stroke-width: 0px; fill: rgb(99, 110, 250); fill-opacity: 1;\"/><path class=\"point\" transform=\"translate(377.65,253.5)\" d=\"M2,0A2,2 0 1,1 0,-2A2,2 0 0,1 2,0Z\" style=\"opacity: 1; stroke-width: 0px; fill: rgb(99, 110, 250); fill-opacity: 1;\"/><path class=\"point\" transform=\"translate(378.12,253.5)\" d=\"M2,0A2,2 0 1,1 0,-2A2,2 0 0,1 2,0Z\" style=\"opacity: 1; stroke-width: 0px; fill: rgb(99, 110, 250); fill-opacity: 1;\"/><path class=\"point\" transform=\"translate(378.58,253.5)\" d=\"M2,0A2,2 0 1,1 0,-2A2,2 0 0,1 2,0Z\" style=\"opacity: 1; stroke-width: 0px; fill: rgb(99, 110, 250); fill-opacity: 1;\"/><path class=\"point\" transform=\"translate(379.05,229.8)\" d=\"M2,0A2,2 0 1,1 0,-2A2,2 0 0,1 2,0Z\" style=\"opacity: 1; stroke-width: 0px; fill: rgb(99, 110, 250); fill-opacity: 1;\"/><path class=\"point\" transform=\"translate(379.51,253.5)\" d=\"M2,0A2,2 0 1,1 0,-2A2,2 0 0,1 2,0Z\" style=\"opacity: 1; stroke-width: 0px; fill: rgb(99, 110, 250); fill-opacity: 1;\"/><path class=\"point\" transform=\"translate(379.98,253.5)\" d=\"M2,0A2,2 0 1,1 0,-2A2,2 0 0,1 2,0Z\" style=\"opacity: 1; stroke-width: 0px; fill: rgb(99, 110, 250); fill-opacity: 1;\"/><path class=\"point\" transform=\"translate(380.45,253.5)\" d=\"M2,0A2,2 0 1,1 0,-2A2,2 0 0,1 2,0Z\" style=\"opacity: 1; stroke-width: 0px; fill: rgb(99, 110, 250); fill-opacity: 1;\"/><path class=\"point\" transform=\"translate(380.91,253.5)\" d=\"M2,0A2,2 0 1,1 0,-2A2,2 0 0,1 2,0Z\" style=\"opacity: 1; stroke-width: 0px; fill: rgb(99, 110, 250); fill-opacity: 1;\"/><path class=\"point\" transform=\"translate(381.38,253.5)\" d=\"M2,0A2,2 0 1,1 0,-2A2,2 0 0,1 2,0Z\" style=\"opacity: 1; stroke-width: 0px; fill: rgb(99, 110, 250); fill-opacity: 1;\"/><path class=\"point\" transform=\"translate(381.84,253.5)\" d=\"M2,0A2,2 0 1,1 0,-2A2,2 0 0,1 2,0Z\" style=\"opacity: 1; stroke-width: 0px; fill: rgb(99, 110, 250); fill-opacity: 1;\"/><path class=\"point\" transform=\"translate(382.31,253.5)\" d=\"M2,0A2,2 0 1,1 0,-2A2,2 0 0,1 2,0Z\" style=\"opacity: 1; stroke-width: 0px; fill: rgb(99, 110, 250); fill-opacity: 1;\"/><path class=\"point\" transform=\"translate(382.78,253.5)\" d=\"M2,0A2,2 0 1,1 0,-2A2,2 0 0,1 2,0Z\" style=\"opacity: 1; stroke-width: 0px; fill: rgb(99, 110, 250); fill-opacity: 1;\"/><path class=\"point\" transform=\"translate(383.24,253.5)\" d=\"M2,0A2,2 0 1,1 0,-2A2,2 0 0,1 2,0Z\" style=\"opacity: 1; stroke-width: 0px; fill: rgb(99, 110, 250); fill-opacity: 1;\"/><path class=\"point\" transform=\"translate(383.71,253.5)\" d=\"M2,0A2,2 0 1,1 0,-2A2,2 0 0,1 2,0Z\" style=\"opacity: 1; stroke-width: 0px; fill: rgb(99, 110, 250); fill-opacity: 1;\"/><path class=\"point\" transform=\"translate(384.17,253.5)\" d=\"M2,0A2,2 0 1,1 0,-2A2,2 0 0,1 2,0Z\" style=\"opacity: 1; stroke-width: 0px; fill: rgb(99, 110, 250); fill-opacity: 1;\"/><path class=\"point\" transform=\"translate(384.64,253.5)\" d=\"M2,0A2,2 0 1,1 0,-2A2,2 0 0,1 2,0Z\" style=\"opacity: 1; stroke-width: 0px; fill: rgb(99, 110, 250); fill-opacity: 1;\"/><path class=\"point\" transform=\"translate(385.11,253.5)\" d=\"M2,0A2,2 0 1,1 0,-2A2,2 0 0,1 2,0Z\" style=\"opacity: 1; stroke-width: 0px; fill: rgb(99, 110, 250); fill-opacity: 1;\"/><path class=\"point\" transform=\"translate(385.57,253.5)\" d=\"M2,0A2,2 0 1,1 0,-2A2,2 0 0,1 2,0Z\" style=\"opacity: 1; stroke-width: 0px; fill: rgb(99, 110, 250); fill-opacity: 1;\"/><path class=\"point\" transform=\"translate(386.04,253.5)\" d=\"M2,0A2,2 0 1,1 0,-2A2,2 0 0,1 2,0Z\" style=\"opacity: 1; stroke-width: 0px; fill: rgb(99, 110, 250); fill-opacity: 1;\"/><path class=\"point\" transform=\"translate(386.5,253.5)\" d=\"M2,0A2,2 0 1,1 0,-2A2,2 0 0,1 2,0Z\" style=\"opacity: 1; stroke-width: 0px; fill: rgb(99, 110, 250); fill-opacity: 1;\"/><path class=\"point\" transform=\"translate(386.97,253.5)\" d=\"M2,0A2,2 0 1,1 0,-2A2,2 0 0,1 2,0Z\" style=\"opacity: 1; stroke-width: 0px; fill: rgb(99, 110, 250); fill-opacity: 1;\"/><path class=\"point\" transform=\"translate(387.44,253.5)\" d=\"M2,0A2,2 0 1,1 0,-2A2,2 0 0,1 2,0Z\" style=\"opacity: 1; stroke-width: 0px; fill: rgb(99, 110, 250); fill-opacity: 1;\"/><path class=\"point\" transform=\"translate(387.9,253.5)\" d=\"M2,0A2,2 0 1,1 0,-2A2,2 0 0,1 2,0Z\" style=\"opacity: 1; stroke-width: 0px; fill: rgb(99, 110, 250); fill-opacity: 1;\"/><path class=\"point\" transform=\"translate(388.37,253.5)\" d=\"M2,0A2,2 0 1,1 0,-2A2,2 0 0,1 2,0Z\" style=\"opacity: 1; stroke-width: 0px; fill: rgb(99, 110, 250); fill-opacity: 1;\"/><path class=\"point\" transform=\"translate(388.83,253.5)\" d=\"M2,0A2,2 0 1,1 0,-2A2,2 0 0,1 2,0Z\" style=\"opacity: 1; stroke-width: 0px; fill: rgb(99, 110, 250); fill-opacity: 1;\"/><path class=\"point\" transform=\"translate(389.3,253.5)\" d=\"M2,0A2,2 0 1,1 0,-2A2,2 0 0,1 2,0Z\" style=\"opacity: 1; stroke-width: 0px; fill: rgb(99, 110, 250); fill-opacity: 1;\"/><path class=\"point\" transform=\"translate(389.77,253.5)\" d=\"M2,0A2,2 0 1,1 0,-2A2,2 0 0,1 2,0Z\" style=\"opacity: 1; stroke-width: 0px; fill: rgb(99, 110, 250); fill-opacity: 1;\"/><path class=\"point\" transform=\"translate(390.23,253.5)\" d=\"M2,0A2,2 0 1,1 0,-2A2,2 0 0,1 2,0Z\" style=\"opacity: 1; stroke-width: 0px; fill: rgb(99, 110, 250); fill-opacity: 1;\"/><path class=\"point\" transform=\"translate(390.7,253.5)\" d=\"M2,0A2,2 0 1,1 0,-2A2,2 0 0,1 2,0Z\" style=\"opacity: 1; stroke-width: 0px; fill: rgb(99, 110, 250); fill-opacity: 1;\"/><path class=\"point\" transform=\"translate(391.17,253.5)\" d=\"M2,0A2,2 0 1,1 0,-2A2,2 0 0,1 2,0Z\" style=\"opacity: 1; stroke-width: 0px; fill: rgb(99, 110, 250); fill-opacity: 1;\"/><path class=\"point\" transform=\"translate(391.63,253.5)\" d=\"M2,0A2,2 0 1,1 0,-2A2,2 0 0,1 2,0Z\" style=\"opacity: 1; stroke-width: 0px; fill: rgb(99, 110, 250); fill-opacity: 1;\"/><path class=\"point\" transform=\"translate(392.1,253.5)\" d=\"M2,0A2,2 0 1,1 0,-2A2,2 0 0,1 2,0Z\" style=\"opacity: 1; stroke-width: 0px; fill: rgb(99, 110, 250); fill-opacity: 1;\"/><path class=\"point\" transform=\"translate(392.56,253.5)\" d=\"M2,0A2,2 0 1,1 0,-2A2,2 0 0,1 2,0Z\" style=\"opacity: 1; stroke-width: 0px; fill: rgb(99, 110, 250); fill-opacity: 1;\"/><path class=\"point\" transform=\"translate(393.03,253.5)\" d=\"M2,0A2,2 0 1,1 0,-2A2,2 0 0,1 2,0Z\" style=\"opacity: 1; stroke-width: 0px; fill: rgb(99, 110, 250); fill-opacity: 1;\"/><path class=\"point\" transform=\"translate(393.5,253.5)\" d=\"M2,0A2,2 0 1,1 0,-2A2,2 0 0,1 2,0Z\" style=\"opacity: 1; stroke-width: 0px; fill: rgb(99, 110, 250); fill-opacity: 1;\"/><path class=\"point\" transform=\"translate(393.96,253.5)\" d=\"M2,0A2,2 0 1,1 0,-2A2,2 0 0,1 2,0Z\" style=\"opacity: 1; stroke-width: 0px; fill: rgb(99, 110, 250); fill-opacity: 1;\"/><path class=\"point\" transform=\"translate(394.43,253.5)\" d=\"M2,0A2,2 0 1,1 0,-2A2,2 0 0,1 2,0Z\" style=\"opacity: 1; stroke-width: 0px; fill: rgb(99, 110, 250); fill-opacity: 1;\"/><path class=\"point\" transform=\"translate(394.89,253.5)\" d=\"M2,0A2,2 0 1,1 0,-2A2,2 0 0,1 2,0Z\" style=\"opacity: 1; stroke-width: 0px; fill: rgb(99, 110, 250); fill-opacity: 1;\"/><path class=\"point\" transform=\"translate(395.36,229.8)\" d=\"M2,0A2,2 0 1,1 0,-2A2,2 0 0,1 2,0Z\" style=\"opacity: 1; stroke-width: 0px; fill: rgb(99, 110, 250); fill-opacity: 1;\"/><path class=\"point\" transform=\"translate(395.83,253.5)\" d=\"M2,0A2,2 0 1,1 0,-2A2,2 0 0,1 2,0Z\" style=\"opacity: 1; stroke-width: 0px; fill: rgb(99, 110, 250); fill-opacity: 1;\"/><path class=\"point\" transform=\"translate(396.29,253.5)\" d=\"M2,0A2,2 0 1,1 0,-2A2,2 0 0,1 2,0Z\" style=\"opacity: 1; stroke-width: 0px; fill: rgb(99, 110, 250); fill-opacity: 1;\"/><path class=\"point\" transform=\"translate(396.76,253.5)\" d=\"M2,0A2,2 0 1,1 0,-2A2,2 0 0,1 2,0Z\" style=\"opacity: 1; stroke-width: 0px; fill: rgb(99, 110, 250); fill-opacity: 1;\"/><path class=\"point\" transform=\"translate(397.22,253.5)\" d=\"M2,0A2,2 0 1,1 0,-2A2,2 0 0,1 2,0Z\" style=\"opacity: 1; stroke-width: 0px; fill: rgb(99, 110, 250); fill-opacity: 1;\"/><path class=\"point\" transform=\"translate(397.69,253.5)\" d=\"M2,0A2,2 0 1,1 0,-2A2,2 0 0,1 2,0Z\" style=\"opacity: 1; stroke-width: 0px; fill: rgb(99, 110, 250); fill-opacity: 1;\"/><path class=\"point\" transform=\"translate(398.16,253.5)\" d=\"M2,0A2,2 0 1,1 0,-2A2,2 0 0,1 2,0Z\" style=\"opacity: 1; stroke-width: 0px; fill: rgb(99, 110, 250); fill-opacity: 1;\"/><path class=\"point\" transform=\"translate(398.62,253.5)\" d=\"M2,0A2,2 0 1,1 0,-2A2,2 0 0,1 2,0Z\" style=\"opacity: 1; stroke-width: 0px; fill: rgb(99, 110, 250); fill-opacity: 1;\"/><path class=\"point\" transform=\"translate(399.09,229.8)\" d=\"M2,0A2,2 0 1,1 0,-2A2,2 0 0,1 2,0Z\" style=\"opacity: 1; stroke-width: 0px; fill: rgb(99, 110, 250); fill-opacity: 1;\"/><path class=\"point\" transform=\"translate(399.55,253.5)\" d=\"M2,0A2,2 0 1,1 0,-2A2,2 0 0,1 2,0Z\" style=\"opacity: 1; stroke-width: 0px; fill: rgb(99, 110, 250); fill-opacity: 1;\"/><path class=\"point\" transform=\"translate(400.02,253.5)\" d=\"M2,0A2,2 0 1,1 0,-2A2,2 0 0,1 2,0Z\" style=\"opacity: 1; stroke-width: 0px; fill: rgb(99, 110, 250); fill-opacity: 1;\"/><path class=\"point\" transform=\"translate(400.49,253.5)\" d=\"M2,0A2,2 0 1,1 0,-2A2,2 0 0,1 2,0Z\" style=\"opacity: 1; stroke-width: 0px; fill: rgb(99, 110, 250); fill-opacity: 1;\"/><path class=\"point\" transform=\"translate(400.95,253.5)\" d=\"M2,0A2,2 0 1,1 0,-2A2,2 0 0,1 2,0Z\" style=\"opacity: 1; stroke-width: 0px; fill: rgb(99, 110, 250); fill-opacity: 1;\"/><path class=\"point\" transform=\"translate(401.42,253.5)\" d=\"M2,0A2,2 0 1,1 0,-2A2,2 0 0,1 2,0Z\" style=\"opacity: 1; stroke-width: 0px; fill: rgb(99, 110, 250); fill-opacity: 1;\"/><path class=\"point\" transform=\"translate(401.88,253.5)\" d=\"M2,0A2,2 0 1,1 0,-2A2,2 0 0,1 2,0Z\" style=\"opacity: 1; stroke-width: 0px; fill: rgb(99, 110, 250); fill-opacity: 1;\"/><path class=\"point\" transform=\"translate(402.35,253.5)\" d=\"M2,0A2,2 0 1,1 0,-2A2,2 0 0,1 2,0Z\" style=\"opacity: 1; stroke-width: 0px; fill: rgb(99, 110, 250); fill-opacity: 1;\"/><path class=\"point\" transform=\"translate(402.82,253.5)\" d=\"M2,0A2,2 0 1,1 0,-2A2,2 0 0,1 2,0Z\" style=\"opacity: 1; stroke-width: 0px; fill: rgb(99, 110, 250); fill-opacity: 1;\"/><path class=\"point\" transform=\"translate(403.28,253.5)\" d=\"M2,0A2,2 0 1,1 0,-2A2,2 0 0,1 2,0Z\" style=\"opacity: 1; stroke-width: 0px; fill: rgb(99, 110, 250); fill-opacity: 1;\"/><path class=\"point\" transform=\"translate(403.75,253.5)\" d=\"M2,0A2,2 0 1,1 0,-2A2,2 0 0,1 2,0Z\" style=\"opacity: 1; stroke-width: 0px; fill: rgb(99, 110, 250); fill-opacity: 1;\"/><path class=\"point\" transform=\"translate(404.21,253.5)\" d=\"M2,0A2,2 0 1,1 0,-2A2,2 0 0,1 2,0Z\" style=\"opacity: 1; stroke-width: 0px; fill: rgb(99, 110, 250); fill-opacity: 1;\"/><path class=\"point\" transform=\"translate(404.68,253.5)\" d=\"M2,0A2,2 0 1,1 0,-2A2,2 0 0,1 2,0Z\" style=\"opacity: 1; stroke-width: 0px; fill: rgb(99, 110, 250); fill-opacity: 1;\"/><path class=\"point\" transform=\"translate(405.15,253.5)\" d=\"M2,0A2,2 0 1,1 0,-2A2,2 0 0,1 2,0Z\" style=\"opacity: 1; stroke-width: 0px; fill: rgb(99, 110, 250); fill-opacity: 1;\"/><path class=\"point\" transform=\"translate(405.61,253.5)\" d=\"M2,0A2,2 0 1,1 0,-2A2,2 0 0,1 2,0Z\" style=\"opacity: 1; stroke-width: 0px; fill: rgb(99, 110, 250); fill-opacity: 1;\"/><path class=\"point\" transform=\"translate(406.08,253.5)\" d=\"M2,0A2,2 0 1,1 0,-2A2,2 0 0,1 2,0Z\" style=\"opacity: 1; stroke-width: 0px; fill: rgb(99, 110, 250); fill-opacity: 1;\"/><path class=\"point\" transform=\"translate(406.54,253.5)\" d=\"M2,0A2,2 0 1,1 0,-2A2,2 0 0,1 2,0Z\" style=\"opacity: 1; stroke-width: 0px; fill: rgb(99, 110, 250); fill-opacity: 1;\"/><path class=\"point\" transform=\"translate(407.01,253.5)\" d=\"M2,0A2,2 0 1,1 0,-2A2,2 0 0,1 2,0Z\" style=\"opacity: 1; stroke-width: 0px; fill: rgb(99, 110, 250); fill-opacity: 1;\"/><path class=\"point\" transform=\"translate(407.48,253.5)\" d=\"M2,0A2,2 0 1,1 0,-2A2,2 0 0,1 2,0Z\" style=\"opacity: 1; stroke-width: 0px; fill: rgb(99, 110, 250); fill-opacity: 1;\"/><path class=\"point\" transform=\"translate(407.94,253.5)\" d=\"M2,0A2,2 0 1,1 0,-2A2,2 0 0,1 2,0Z\" style=\"opacity: 1; stroke-width: 0px; fill: rgb(99, 110, 250); fill-opacity: 1;\"/><path class=\"point\" transform=\"translate(408.41,253.5)\" d=\"M2,0A2,2 0 1,1 0,-2A2,2 0 0,1 2,0Z\" style=\"opacity: 1; stroke-width: 0px; fill: rgb(99, 110, 250); fill-opacity: 1;\"/><path class=\"point\" transform=\"translate(408.87,253.5)\" d=\"M2,0A2,2 0 1,1 0,-2A2,2 0 0,1 2,0Z\" style=\"opacity: 1; stroke-width: 0px; fill: rgb(99, 110, 250); fill-opacity: 1;\"/><path class=\"point\" transform=\"translate(409.34,253.5)\" d=\"M2,0A2,2 0 1,1 0,-2A2,2 0 0,1 2,0Z\" style=\"opacity: 1; stroke-width: 0px; fill: rgb(99, 110, 250); fill-opacity: 1;\"/><path class=\"point\" transform=\"translate(409.81,253.5)\" d=\"M2,0A2,2 0 1,1 0,-2A2,2 0 0,1 2,0Z\" style=\"opacity: 1; stroke-width: 0px; fill: rgb(99, 110, 250); fill-opacity: 1;\"/><path class=\"point\" transform=\"translate(410.27,253.5)\" d=\"M2,0A2,2 0 1,1 0,-2A2,2 0 0,1 2,0Z\" style=\"opacity: 1; stroke-width: 0px; fill: rgb(99, 110, 250); fill-opacity: 1;\"/><path class=\"point\" transform=\"translate(410.74,253.5)\" d=\"M2,0A2,2 0 1,1 0,-2A2,2 0 0,1 2,0Z\" style=\"opacity: 1; stroke-width: 0px; fill: rgb(99, 110, 250); fill-opacity: 1;\"/><path class=\"point\" transform=\"translate(411.2,253.5)\" d=\"M2,0A2,2 0 1,1 0,-2A2,2 0 0,1 2,0Z\" style=\"opacity: 1; stroke-width: 0px; fill: rgb(99, 110, 250); fill-opacity: 1;\"/><path class=\"point\" transform=\"translate(411.67,253.5)\" d=\"M2,0A2,2 0 1,1 0,-2A2,2 0 0,1 2,0Z\" style=\"opacity: 1; stroke-width: 0px; fill: rgb(99, 110, 250); fill-opacity: 1;\"/><path class=\"point\" transform=\"translate(412.14,253.5)\" d=\"M2,0A2,2 0 1,1 0,-2A2,2 0 0,1 2,0Z\" style=\"opacity: 1; stroke-width: 0px; fill: rgb(99, 110, 250); fill-opacity: 1;\"/><path class=\"point\" transform=\"translate(412.6,253.5)\" d=\"M2,0A2,2 0 1,1 0,-2A2,2 0 0,1 2,0Z\" style=\"opacity: 1; stroke-width: 0px; fill: rgb(99, 110, 250); fill-opacity: 1;\"/><path class=\"point\" transform=\"translate(413.07,229.8)\" d=\"M2,0A2,2 0 1,1 0,-2A2,2 0 0,1 2,0Z\" style=\"opacity: 1; stroke-width: 0px; fill: rgb(99, 110, 250); fill-opacity: 1;\"/><path class=\"point\" transform=\"translate(413.53,253.5)\" d=\"M2,0A2,2 0 1,1 0,-2A2,2 0 0,1 2,0Z\" style=\"opacity: 1; stroke-width: 0px; fill: rgb(99, 110, 250); fill-opacity: 1;\"/><path class=\"point\" transform=\"translate(414,253.5)\" d=\"M2,0A2,2 0 1,1 0,-2A2,2 0 0,1 2,0Z\" style=\"opacity: 1; stroke-width: 0px; fill: rgb(99, 110, 250); fill-opacity: 1;\"/><path class=\"point\" transform=\"translate(414.47,253.5)\" d=\"M2,0A2,2 0 1,1 0,-2A2,2 0 0,1 2,0Z\" style=\"opacity: 1; stroke-width: 0px; fill: rgb(99, 110, 250); fill-opacity: 1;\"/><path class=\"point\" transform=\"translate(414.93,253.5)\" d=\"M2,0A2,2 0 1,1 0,-2A2,2 0 0,1 2,0Z\" style=\"opacity: 1; stroke-width: 0px; fill: rgb(99, 110, 250); fill-opacity: 1;\"/><path class=\"point\" transform=\"translate(415.4,253.5)\" d=\"M2,0A2,2 0 1,1 0,-2A2,2 0 0,1 2,0Z\" style=\"opacity: 1; stroke-width: 0px; fill: rgb(99, 110, 250); fill-opacity: 1;\"/><path class=\"point\" transform=\"translate(415.86,253.5)\" d=\"M2,0A2,2 0 1,1 0,-2A2,2 0 0,1 2,0Z\" style=\"opacity: 1; stroke-width: 0px; fill: rgb(99, 110, 250); fill-opacity: 1;\"/><path class=\"point\" transform=\"translate(416.33,229.8)\" d=\"M2,0A2,2 0 1,1 0,-2A2,2 0 0,1 2,0Z\" style=\"opacity: 1; stroke-width: 0px; fill: rgb(99, 110, 250); fill-opacity: 1;\"/><path class=\"point\" transform=\"translate(416.8,253.5)\" d=\"M2,0A2,2 0 1,1 0,-2A2,2 0 0,1 2,0Z\" style=\"opacity: 1; stroke-width: 0px; fill: rgb(99, 110, 250); fill-opacity: 1;\"/><path class=\"point\" transform=\"translate(417.26,253.5)\" d=\"M2,0A2,2 0 1,1 0,-2A2,2 0 0,1 2,0Z\" style=\"opacity: 1; stroke-width: 0px; fill: rgb(99, 110, 250); fill-opacity: 1;\"/><path class=\"point\" transform=\"translate(417.73,253.5)\" d=\"M2,0A2,2 0 1,1 0,-2A2,2 0 0,1 2,0Z\" style=\"opacity: 1; stroke-width: 0px; fill: rgb(99, 110, 250); fill-opacity: 1;\"/><path class=\"point\" transform=\"translate(418.19,253.5)\" d=\"M2,0A2,2 0 1,1 0,-2A2,2 0 0,1 2,0Z\" style=\"opacity: 1; stroke-width: 0px; fill: rgb(99, 110, 250); fill-opacity: 1;\"/><path class=\"point\" transform=\"translate(418.66,229.8)\" d=\"M2,0A2,2 0 1,1 0,-2A2,2 0 0,1 2,0Z\" style=\"opacity: 1; stroke-width: 0px; fill: rgb(99, 110, 250); fill-opacity: 1;\"/><path class=\"point\" transform=\"translate(419.13,253.5)\" d=\"M2,0A2,2 0 1,1 0,-2A2,2 0 0,1 2,0Z\" style=\"opacity: 1; stroke-width: 0px; fill: rgb(99, 110, 250); fill-opacity: 1;\"/><path class=\"point\" transform=\"translate(419.59,253.5)\" d=\"M2,0A2,2 0 1,1 0,-2A2,2 0 0,1 2,0Z\" style=\"opacity: 1; stroke-width: 0px; fill: rgb(99, 110, 250); fill-opacity: 1;\"/><path class=\"point\" transform=\"translate(420.06,253.5)\" d=\"M2,0A2,2 0 1,1 0,-2A2,2 0 0,1 2,0Z\" style=\"opacity: 1; stroke-width: 0px; fill: rgb(99, 110, 250); fill-opacity: 1;\"/><path class=\"point\" transform=\"translate(420.52,253.5)\" d=\"M2,0A2,2 0 1,1 0,-2A2,2 0 0,1 2,0Z\" style=\"opacity: 1; stroke-width: 0px; fill: rgb(99, 110, 250); fill-opacity: 1;\"/><path class=\"point\" transform=\"translate(420.99,253.5)\" d=\"M2,0A2,2 0 1,1 0,-2A2,2 0 0,1 2,0Z\" style=\"opacity: 1; stroke-width: 0px; fill: rgb(99, 110, 250); fill-opacity: 1;\"/><path class=\"point\" transform=\"translate(421.46,253.5)\" d=\"M2,0A2,2 0 1,1 0,-2A2,2 0 0,1 2,0Z\" style=\"opacity: 1; stroke-width: 0px; fill: rgb(99, 110, 250); fill-opacity: 1;\"/><path class=\"point\" transform=\"translate(421.92,253.5)\" d=\"M2,0A2,2 0 1,1 0,-2A2,2 0 0,1 2,0Z\" style=\"opacity: 1; stroke-width: 0px; fill: rgb(99, 110, 250); fill-opacity: 1;\"/><path class=\"point\" transform=\"translate(422.39,253.5)\" d=\"M2,0A2,2 0 1,1 0,-2A2,2 0 0,1 2,0Z\" style=\"opacity: 1; stroke-width: 0px; fill: rgb(99, 110, 250); fill-opacity: 1;\"/><path class=\"point\" transform=\"translate(422.85,253.5)\" d=\"M2,0A2,2 0 1,1 0,-2A2,2 0 0,1 2,0Z\" style=\"opacity: 1; stroke-width: 0px; fill: rgb(99, 110, 250); fill-opacity: 1;\"/><path class=\"point\" transform=\"translate(423.32,253.5)\" d=\"M2,0A2,2 0 1,1 0,-2A2,2 0 0,1 2,0Z\" style=\"opacity: 1; stroke-width: 0px; fill: rgb(99, 110, 250); fill-opacity: 1;\"/><path class=\"point\" transform=\"translate(423.79,253.5)\" d=\"M2,0A2,2 0 1,1 0,-2A2,2 0 0,1 2,0Z\" style=\"opacity: 1; stroke-width: 0px; fill: rgb(99, 110, 250); fill-opacity: 1;\"/><path class=\"point\" transform=\"translate(424.25,253.5)\" d=\"M2,0A2,2 0 1,1 0,-2A2,2 0 0,1 2,0Z\" style=\"opacity: 1; stroke-width: 0px; fill: rgb(99, 110, 250); fill-opacity: 1;\"/><path class=\"point\" transform=\"translate(424.72,253.5)\" d=\"M2,0A2,2 0 1,1 0,-2A2,2 0 0,1 2,0Z\" style=\"opacity: 1; stroke-width: 0px; fill: rgb(99, 110, 250); fill-opacity: 1;\"/><path class=\"point\" transform=\"translate(425.18,253.5)\" d=\"M2,0A2,2 0 1,1 0,-2A2,2 0 0,1 2,0Z\" style=\"opacity: 1; stroke-width: 0px; fill: rgb(99, 110, 250); fill-opacity: 1;\"/><path class=\"point\" transform=\"translate(425.65,229.8)\" d=\"M2,0A2,2 0 1,1 0,-2A2,2 0 0,1 2,0Z\" style=\"opacity: 1; stroke-width: 0px; fill: rgb(99, 110, 250); fill-opacity: 1;\"/><path class=\"point\" transform=\"translate(426.12,253.5)\" d=\"M2,0A2,2 0 1,1 0,-2A2,2 0 0,1 2,0Z\" style=\"opacity: 1; stroke-width: 0px; fill: rgb(99, 110, 250); fill-opacity: 1;\"/><path class=\"point\" transform=\"translate(426.58,253.5)\" d=\"M2,0A2,2 0 1,1 0,-2A2,2 0 0,1 2,0Z\" style=\"opacity: 1; stroke-width: 0px; fill: rgb(99, 110, 250); fill-opacity: 1;\"/><path class=\"point\" transform=\"translate(427.05,253.5)\" d=\"M2,0A2,2 0 1,1 0,-2A2,2 0 0,1 2,0Z\" style=\"opacity: 1; stroke-width: 0px; fill: rgb(99, 110, 250); fill-opacity: 1;\"/><path class=\"point\" transform=\"translate(427.51,253.5)\" d=\"M2,0A2,2 0 1,1 0,-2A2,2 0 0,1 2,0Z\" style=\"opacity: 1; stroke-width: 0px; fill: rgb(99, 110, 250); fill-opacity: 1;\"/><path class=\"point\" transform=\"translate(427.98,253.5)\" d=\"M2,0A2,2 0 1,1 0,-2A2,2 0 0,1 2,0Z\" style=\"opacity: 1; stroke-width: 0px; fill: rgb(99, 110, 250); fill-opacity: 1;\"/><path class=\"point\" transform=\"translate(428.45,253.5)\" d=\"M2,0A2,2 0 1,1 0,-2A2,2 0 0,1 2,0Z\" style=\"opacity: 1; stroke-width: 0px; fill: rgb(99, 110, 250); fill-opacity: 1;\"/><path class=\"point\" transform=\"translate(428.91,253.5)\" d=\"M2,0A2,2 0 1,1 0,-2A2,2 0 0,1 2,0Z\" style=\"opacity: 1; stroke-width: 0px; fill: rgb(99, 110, 250); fill-opacity: 1;\"/><path class=\"point\" transform=\"translate(429.38,253.5)\" d=\"M2,0A2,2 0 1,1 0,-2A2,2 0 0,1 2,0Z\" style=\"opacity: 1; stroke-width: 0px; fill: rgb(99, 110, 250); fill-opacity: 1;\"/><path class=\"point\" transform=\"translate(429.84,253.5)\" d=\"M2,0A2,2 0 1,1 0,-2A2,2 0 0,1 2,0Z\" style=\"opacity: 1; stroke-width: 0px; fill: rgb(99, 110, 250); fill-opacity: 1;\"/><path class=\"point\" transform=\"translate(430.31,253.5)\" d=\"M2,0A2,2 0 1,1 0,-2A2,2 0 0,1 2,0Z\" style=\"opacity: 1; stroke-width: 0px; fill: rgb(99, 110, 250); fill-opacity: 1;\"/><path class=\"point\" transform=\"translate(430.78,253.5)\" d=\"M2,0A2,2 0 1,1 0,-2A2,2 0 0,1 2,0Z\" style=\"opacity: 1; stroke-width: 0px; fill: rgb(99, 110, 250); fill-opacity: 1;\"/><path class=\"point\" transform=\"translate(431.24,253.5)\" d=\"M2,0A2,2 0 1,1 0,-2A2,2 0 0,1 2,0Z\" style=\"opacity: 1; stroke-width: 0px; fill: rgb(99, 110, 250); fill-opacity: 1;\"/><path class=\"point\" transform=\"translate(431.71,253.5)\" d=\"M2,0A2,2 0 1,1 0,-2A2,2 0 0,1 2,0Z\" style=\"opacity: 1; stroke-width: 0px; fill: rgb(99, 110, 250); fill-opacity: 1;\"/><path class=\"point\" transform=\"translate(432.17,253.5)\" d=\"M2,0A2,2 0 1,1 0,-2A2,2 0 0,1 2,0Z\" style=\"opacity: 1; stroke-width: 0px; fill: rgb(99, 110, 250); fill-opacity: 1;\"/><path class=\"point\" transform=\"translate(432.64,253.5)\" d=\"M2,0A2,2 0 1,1 0,-2A2,2 0 0,1 2,0Z\" style=\"opacity: 1; stroke-width: 0px; fill: rgb(99, 110, 250); fill-opacity: 1;\"/><path class=\"point\" transform=\"translate(433.11,253.5)\" d=\"M2,0A2,2 0 1,1 0,-2A2,2 0 0,1 2,0Z\" style=\"opacity: 1; stroke-width: 0px; fill: rgb(99, 110, 250); fill-opacity: 1;\"/><path class=\"point\" transform=\"translate(433.57,253.5)\" d=\"M2,0A2,2 0 1,1 0,-2A2,2 0 0,1 2,0Z\" style=\"opacity: 1; stroke-width: 0px; fill: rgb(99, 110, 250); fill-opacity: 1;\"/><path class=\"point\" transform=\"translate(434.04,253.5)\" d=\"M2,0A2,2 0 1,1 0,-2A2,2 0 0,1 2,0Z\" style=\"opacity: 1; stroke-width: 0px; fill: rgb(99, 110, 250); fill-opacity: 1;\"/><path class=\"point\" transform=\"translate(434.5,253.5)\" d=\"M2,0A2,2 0 1,1 0,-2A2,2 0 0,1 2,0Z\" style=\"opacity: 1; stroke-width: 0px; fill: rgb(99, 110, 250); fill-opacity: 1;\"/><path class=\"point\" transform=\"translate(434.97,253.5)\" d=\"M2,0A2,2 0 1,1 0,-2A2,2 0 0,1 2,0Z\" style=\"opacity: 1; stroke-width: 0px; fill: rgb(99, 110, 250); fill-opacity: 1;\"/><path class=\"point\" transform=\"translate(435.44,253.5)\" d=\"M2,0A2,2 0 1,1 0,-2A2,2 0 0,1 2,0Z\" style=\"opacity: 1; stroke-width: 0px; fill: rgb(99, 110, 250); fill-opacity: 1;\"/><path class=\"point\" transform=\"translate(435.9,253.5)\" d=\"M2,0A2,2 0 1,1 0,-2A2,2 0 0,1 2,0Z\" style=\"opacity: 1; stroke-width: 0px; fill: rgb(99, 110, 250); fill-opacity: 1;\"/><path class=\"point\" transform=\"translate(436.37,253.5)\" d=\"M2,0A2,2 0 1,1 0,-2A2,2 0 0,1 2,0Z\" style=\"opacity: 1; stroke-width: 0px; fill: rgb(99, 110, 250); fill-opacity: 1;\"/><path class=\"point\" transform=\"translate(436.83,253.5)\" d=\"M2,0A2,2 0 1,1 0,-2A2,2 0 0,1 2,0Z\" style=\"opacity: 1; stroke-width: 0px; fill: rgb(99, 110, 250); fill-opacity: 1;\"/><path class=\"point\" transform=\"translate(437.3,253.5)\" d=\"M2,0A2,2 0 1,1 0,-2A2,2 0 0,1 2,0Z\" style=\"opacity: 1; stroke-width: 0px; fill: rgb(99, 110, 250); fill-opacity: 1;\"/><path class=\"point\" transform=\"translate(437.77,253.5)\" d=\"M2,0A2,2 0 1,1 0,-2A2,2 0 0,1 2,0Z\" style=\"opacity: 1; stroke-width: 0px; fill: rgb(99, 110, 250); fill-opacity: 1;\"/><path class=\"point\" transform=\"translate(438.23,253.5)\" d=\"M2,0A2,2 0 1,1 0,-2A2,2 0 0,1 2,0Z\" style=\"opacity: 1; stroke-width: 0px; fill: rgb(99, 110, 250); fill-opacity: 1;\"/><path class=\"point\" transform=\"translate(438.7,253.5)\" d=\"M2,0A2,2 0 1,1 0,-2A2,2 0 0,1 2,0Z\" style=\"opacity: 1; stroke-width: 0px; fill: rgb(99, 110, 250); fill-opacity: 1;\"/><path class=\"point\" transform=\"translate(439.17,253.5)\" d=\"M2,0A2,2 0 1,1 0,-2A2,2 0 0,1 2,0Z\" style=\"opacity: 1; stroke-width: 0px; fill: rgb(99, 110, 250); fill-opacity: 1;\"/><path class=\"point\" transform=\"translate(439.63,253.5)\" d=\"M2,0A2,2 0 1,1 0,-2A2,2 0 0,1 2,0Z\" style=\"opacity: 1; stroke-width: 0px; fill: rgb(99, 110, 250); fill-opacity: 1;\"/><path class=\"point\" transform=\"translate(440.1,253.5)\" d=\"M2,0A2,2 0 1,1 0,-2A2,2 0 0,1 2,0Z\" style=\"opacity: 1; stroke-width: 0px; fill: rgb(99, 110, 250); fill-opacity: 1;\"/><path class=\"point\" transform=\"translate(440.56,253.5)\" d=\"M2,0A2,2 0 1,1 0,-2A2,2 0 0,1 2,0Z\" style=\"opacity: 1; stroke-width: 0px; fill: rgb(99, 110, 250); fill-opacity: 1;\"/><path class=\"point\" transform=\"translate(441.03,253.5)\" d=\"M2,0A2,2 0 1,1 0,-2A2,2 0 0,1 2,0Z\" style=\"opacity: 1; stroke-width: 0px; fill: rgb(99, 110, 250); fill-opacity: 1;\"/><path class=\"point\" transform=\"translate(441.5,253.5)\" d=\"M2,0A2,2 0 1,1 0,-2A2,2 0 0,1 2,0Z\" style=\"opacity: 1; stroke-width: 0px; fill: rgb(99, 110, 250); fill-opacity: 1;\"/><path class=\"point\" transform=\"translate(441.96,229.8)\" d=\"M2,0A2,2 0 1,1 0,-2A2,2 0 0,1 2,0Z\" style=\"opacity: 1; stroke-width: 0px; fill: rgb(99, 110, 250); fill-opacity: 1;\"/><path class=\"point\" transform=\"translate(442.43,253.5)\" d=\"M2,0A2,2 0 1,1 0,-2A2,2 0 0,1 2,0Z\" style=\"opacity: 1; stroke-width: 0px; fill: rgb(99, 110, 250); fill-opacity: 1;\"/><path class=\"point\" transform=\"translate(442.89,253.5)\" d=\"M2,0A2,2 0 1,1 0,-2A2,2 0 0,1 2,0Z\" style=\"opacity: 1; stroke-width: 0px; fill: rgb(99, 110, 250); fill-opacity: 1;\"/><path class=\"point\" transform=\"translate(443.36,253.5)\" d=\"M2,0A2,2 0 1,1 0,-2A2,2 0 0,1 2,0Z\" style=\"opacity: 1; stroke-width: 0px; fill: rgb(99, 110, 250); fill-opacity: 1;\"/><path class=\"point\" transform=\"translate(443.83,253.5)\" d=\"M2,0A2,2 0 1,1 0,-2A2,2 0 0,1 2,0Z\" style=\"opacity: 1; stroke-width: 0px; fill: rgb(99, 110, 250); fill-opacity: 1;\"/><path class=\"point\" transform=\"translate(444.29,253.5)\" d=\"M2,0A2,2 0 1,1 0,-2A2,2 0 0,1 2,0Z\" style=\"opacity: 1; stroke-width: 0px; fill: rgb(99, 110, 250); fill-opacity: 1;\"/><path class=\"point\" transform=\"translate(444.76,253.5)\" d=\"M2,0A2,2 0 1,1 0,-2A2,2 0 0,1 2,0Z\" style=\"opacity: 1; stroke-width: 0px; fill: rgb(99, 110, 250); fill-opacity: 1;\"/><path class=\"point\" transform=\"translate(445.22,253.5)\" d=\"M2,0A2,2 0 1,1 0,-2A2,2 0 0,1 2,0Z\" style=\"opacity: 1; stroke-width: 0px; fill: rgb(99, 110, 250); fill-opacity: 1;\"/><path class=\"point\" transform=\"translate(445.69,253.5)\" d=\"M2,0A2,2 0 1,1 0,-2A2,2 0 0,1 2,0Z\" style=\"opacity: 1; stroke-width: 0px; fill: rgb(99, 110, 250); fill-opacity: 1;\"/><path class=\"point\" transform=\"translate(446.16,253.5)\" d=\"M2,0A2,2 0 1,1 0,-2A2,2 0 0,1 2,0Z\" style=\"opacity: 1; stroke-width: 0px; fill: rgb(99, 110, 250); fill-opacity: 1;\"/><path class=\"point\" transform=\"translate(446.62,253.5)\" d=\"M2,0A2,2 0 1,1 0,-2A2,2 0 0,1 2,0Z\" style=\"opacity: 1; stroke-width: 0px; fill: rgb(99, 110, 250); fill-opacity: 1;\"/><path class=\"point\" transform=\"translate(447.09,253.5)\" d=\"M2,0A2,2 0 1,1 0,-2A2,2 0 0,1 2,0Z\" style=\"opacity: 1; stroke-width: 0px; fill: rgb(99, 110, 250); fill-opacity: 1;\"/><path class=\"point\" transform=\"translate(447.55,253.5)\" d=\"M2,0A2,2 0 1,1 0,-2A2,2 0 0,1 2,0Z\" style=\"opacity: 1; stroke-width: 0px; fill: rgb(99, 110, 250); fill-opacity: 1;\"/><path class=\"point\" transform=\"translate(448.02,158.7)\" d=\"M2,0A2,2 0 1,1 0,-2A2,2 0 0,1 2,0Z\" style=\"opacity: 1; stroke-width: 0px; fill: rgb(99, 110, 250); fill-opacity: 1;\"/><path class=\"point\" transform=\"translate(448.49,253.5)\" d=\"M2,0A2,2 0 1,1 0,-2A2,2 0 0,1 2,0Z\" style=\"opacity: 1; stroke-width: 0px; fill: rgb(99, 110, 250); fill-opacity: 1;\"/><path class=\"point\" transform=\"translate(448.95,253.5)\" d=\"M2,0A2,2 0 1,1 0,-2A2,2 0 0,1 2,0Z\" style=\"opacity: 1; stroke-width: 0px; fill: rgb(99, 110, 250); fill-opacity: 1;\"/><path class=\"point\" transform=\"translate(449.42,253.5)\" d=\"M2,0A2,2 0 1,1 0,-2A2,2 0 0,1 2,0Z\" style=\"opacity: 1; stroke-width: 0px; fill: rgb(99, 110, 250); fill-opacity: 1;\"/><path class=\"point\" transform=\"translate(449.88,253.5)\" d=\"M2,0A2,2 0 1,1 0,-2A2,2 0 0,1 2,0Z\" style=\"opacity: 1; stroke-width: 0px; fill: rgb(99, 110, 250); fill-opacity: 1;\"/><path class=\"point\" transform=\"translate(450.35,253.5)\" d=\"M2,0A2,2 0 1,1 0,-2A2,2 0 0,1 2,0Z\" style=\"opacity: 1; stroke-width: 0px; fill: rgb(99, 110, 250); fill-opacity: 1;\"/><path class=\"point\" transform=\"translate(450.82,253.5)\" d=\"M2,0A2,2 0 1,1 0,-2A2,2 0 0,1 2,0Z\" style=\"opacity: 1; stroke-width: 0px; fill: rgb(99, 110, 250); fill-opacity: 1;\"/><path class=\"point\" transform=\"translate(451.28,253.5)\" d=\"M2,0A2,2 0 1,1 0,-2A2,2 0 0,1 2,0Z\" style=\"opacity: 1; stroke-width: 0px; fill: rgb(99, 110, 250); fill-opacity: 1;\"/><path class=\"point\" transform=\"translate(451.75,253.5)\" d=\"M2,0A2,2 0 1,1 0,-2A2,2 0 0,1 2,0Z\" style=\"opacity: 1; stroke-width: 0px; fill: rgb(99, 110, 250); fill-opacity: 1;\"/><path class=\"point\" transform=\"translate(452.21,253.5)\" d=\"M2,0A2,2 0 1,1 0,-2A2,2 0 0,1 2,0Z\" style=\"opacity: 1; stroke-width: 0px; fill: rgb(99, 110, 250); fill-opacity: 1;\"/><path class=\"point\" transform=\"translate(452.68,253.5)\" d=\"M2,0A2,2 0 1,1 0,-2A2,2 0 0,1 2,0Z\" style=\"opacity: 1; stroke-width: 0px; fill: rgb(99, 110, 250); fill-opacity: 1;\"/><path class=\"point\" transform=\"translate(453.15,253.5)\" d=\"M2,0A2,2 0 1,1 0,-2A2,2 0 0,1 2,0Z\" style=\"opacity: 1; stroke-width: 0px; fill: rgb(99, 110, 250); fill-opacity: 1;\"/><path class=\"point\" transform=\"translate(453.61,229.8)\" d=\"M2,0A2,2 0 1,1 0,-2A2,2 0 0,1 2,0Z\" style=\"opacity: 1; stroke-width: 0px; fill: rgb(99, 110, 250); fill-opacity: 1;\"/><path class=\"point\" transform=\"translate(454.08,253.5)\" d=\"M2,0A2,2 0 1,1 0,-2A2,2 0 0,1 2,0Z\" style=\"opacity: 1; stroke-width: 0px; fill: rgb(99, 110, 250); fill-opacity: 1;\"/><path class=\"point\" transform=\"translate(454.54,253.5)\" d=\"M2,0A2,2 0 1,1 0,-2A2,2 0 0,1 2,0Z\" style=\"opacity: 1; stroke-width: 0px; fill: rgb(99, 110, 250); fill-opacity: 1;\"/><path class=\"point\" transform=\"translate(455.01,253.5)\" d=\"M2,0A2,2 0 1,1 0,-2A2,2 0 0,1 2,0Z\" style=\"opacity: 1; stroke-width: 0px; fill: rgb(99, 110, 250); fill-opacity: 1;\"/><path class=\"point\" transform=\"translate(455.48,253.5)\" d=\"M2,0A2,2 0 1,1 0,-2A2,2 0 0,1 2,0Z\" style=\"opacity: 1; stroke-width: 0px; fill: rgb(99, 110, 250); fill-opacity: 1;\"/><path class=\"point\" transform=\"translate(455.94,253.5)\" d=\"M2,0A2,2 0 1,1 0,-2A2,2 0 0,1 2,0Z\" style=\"opacity: 1; stroke-width: 0px; fill: rgb(99, 110, 250); fill-opacity: 1;\"/><path class=\"point\" transform=\"translate(456.41,253.5)\" d=\"M2,0A2,2 0 1,1 0,-2A2,2 0 0,1 2,0Z\" style=\"opacity: 1; stroke-width: 0px; fill: rgb(99, 110, 250); fill-opacity: 1;\"/><path class=\"point\" transform=\"translate(456.87,253.5)\" d=\"M2,0A2,2 0 1,1 0,-2A2,2 0 0,1 2,0Z\" style=\"opacity: 1; stroke-width: 0px; fill: rgb(99, 110, 250); fill-opacity: 1;\"/><path class=\"point\" transform=\"translate(457.34,158.7)\" d=\"M2,0A2,2 0 1,1 0,-2A2,2 0 0,1 2,0Z\" style=\"opacity: 1; stroke-width: 0px; fill: rgb(99, 110, 250); fill-opacity: 1;\"/><path class=\"point\" transform=\"translate(457.81,253.5)\" d=\"M2,0A2,2 0 1,1 0,-2A2,2 0 0,1 2,0Z\" style=\"opacity: 1; stroke-width: 0px; fill: rgb(99, 110, 250); fill-opacity: 1;\"/><path class=\"point\" transform=\"translate(458.27,253.5)\" d=\"M2,0A2,2 0 1,1 0,-2A2,2 0 0,1 2,0Z\" style=\"opacity: 1; stroke-width: 0px; fill: rgb(99, 110, 250); fill-opacity: 1;\"/><path class=\"point\" transform=\"translate(458.74,253.5)\" d=\"M2,0A2,2 0 1,1 0,-2A2,2 0 0,1 2,0Z\" style=\"opacity: 1; stroke-width: 0px; fill: rgb(99, 110, 250); fill-opacity: 1;\"/><path class=\"point\" transform=\"translate(459.2,253.5)\" d=\"M2,0A2,2 0 1,1 0,-2A2,2 0 0,1 2,0Z\" style=\"opacity: 1; stroke-width: 0px; fill: rgb(99, 110, 250); fill-opacity: 1;\"/><path class=\"point\" transform=\"translate(459.67,253.5)\" d=\"M2,0A2,2 0 1,1 0,-2A2,2 0 0,1 2,0Z\" style=\"opacity: 1; stroke-width: 0px; fill: rgb(99, 110, 250); fill-opacity: 1;\"/><path class=\"point\" transform=\"translate(460.14,253.5)\" d=\"M2,0A2,2 0 1,1 0,-2A2,2 0 0,1 2,0Z\" style=\"opacity: 1; stroke-width: 0px; fill: rgb(99, 110, 250); fill-opacity: 1;\"/><path class=\"point\" transform=\"translate(460.6,253.5)\" d=\"M2,0A2,2 0 1,1 0,-2A2,2 0 0,1 2,0Z\" style=\"opacity: 1; stroke-width: 0px; fill: rgb(99, 110, 250); fill-opacity: 1;\"/><path class=\"point\" transform=\"translate(461.07,253.5)\" d=\"M2,0A2,2 0 1,1 0,-2A2,2 0 0,1 2,0Z\" style=\"opacity: 1; stroke-width: 0px; fill: rgb(99, 110, 250); fill-opacity: 1;\"/><path class=\"point\" transform=\"translate(461.53,253.5)\" d=\"M2,0A2,2 0 1,1 0,-2A2,2 0 0,1 2,0Z\" style=\"opacity: 1; stroke-width: 0px; fill: rgb(99, 110, 250); fill-opacity: 1;\"/><path class=\"point\" transform=\"translate(462,253.5)\" d=\"M2,0A2,2 0 1,1 0,-2A2,2 0 0,1 2,0Z\" style=\"opacity: 1; stroke-width: 0px; fill: rgb(99, 110, 250); fill-opacity: 1;\"/><path class=\"point\" transform=\"translate(462.47,253.5)\" d=\"M2,0A2,2 0 1,1 0,-2A2,2 0 0,1 2,0Z\" style=\"opacity: 1; stroke-width: 0px; fill: rgb(99, 110, 250); fill-opacity: 1;\"/><path class=\"point\" transform=\"translate(462.93,253.5)\" d=\"M2,0A2,2 0 1,1 0,-2A2,2 0 0,1 2,0Z\" style=\"opacity: 1; stroke-width: 0px; fill: rgb(99, 110, 250); fill-opacity: 1;\"/><path class=\"point\" transform=\"translate(463.4,253.5)\" d=\"M2,0A2,2 0 1,1 0,-2A2,2 0 0,1 2,0Z\" style=\"opacity: 1; stroke-width: 0px; fill: rgb(99, 110, 250); fill-opacity: 1;\"/><path class=\"point\" transform=\"translate(463.86,253.5)\" d=\"M2,0A2,2 0 1,1 0,-2A2,2 0 0,1 2,0Z\" style=\"opacity: 1; stroke-width: 0px; fill: rgb(99, 110, 250); fill-opacity: 1;\"/><path class=\"point\" transform=\"translate(464.33,206.1)\" d=\"M2,0A2,2 0 1,1 0,-2A2,2 0 0,1 2,0Z\" style=\"opacity: 1; stroke-width: 0px; fill: rgb(99, 110, 250); fill-opacity: 1;\"/><path class=\"point\" transform=\"translate(464.8,253.5)\" d=\"M2,0A2,2 0 1,1 0,-2A2,2 0 0,1 2,0Z\" style=\"opacity: 1; stroke-width: 0px; fill: rgb(99, 110, 250); fill-opacity: 1;\"/><path class=\"point\" transform=\"translate(465.26,253.5)\" d=\"M2,0A2,2 0 1,1 0,-2A2,2 0 0,1 2,0Z\" style=\"opacity: 1; stroke-width: 0px; fill: rgb(99, 110, 250); fill-opacity: 1;\"/><path class=\"point\" transform=\"translate(465.73,253.5)\" d=\"M2,0A2,2 0 1,1 0,-2A2,2 0 0,1 2,0Z\" style=\"opacity: 1; stroke-width: 0px; fill: rgb(99, 110, 250); fill-opacity: 1;\"/><path class=\"point\" transform=\"translate(466.19,253.5)\" d=\"M2,0A2,2 0 1,1 0,-2A2,2 0 0,1 2,0Z\" style=\"opacity: 1; stroke-width: 0px; fill: rgb(99, 110, 250); fill-opacity: 1;\"/><path class=\"point\" transform=\"translate(466.66,206.1)\" d=\"M2,0A2,2 0 1,1 0,-2A2,2 0 0,1 2,0Z\" style=\"opacity: 1; stroke-width: 0px; fill: rgb(99, 110, 250); fill-opacity: 1;\"/><path class=\"point\" transform=\"translate(467.13,253.5)\" d=\"M2,0A2,2 0 1,1 0,-2A2,2 0 0,1 2,0Z\" style=\"opacity: 1; stroke-width: 0px; fill: rgb(99, 110, 250); fill-opacity: 1;\"/><path class=\"point\" transform=\"translate(467.59,253.5)\" d=\"M2,0A2,2 0 1,1 0,-2A2,2 0 0,1 2,0Z\" style=\"opacity: 1; stroke-width: 0px; fill: rgb(99, 110, 250); fill-opacity: 1;\"/><path class=\"point\" transform=\"translate(468.06,253.5)\" d=\"M2,0A2,2 0 1,1 0,-2A2,2 0 0,1 2,0Z\" style=\"opacity: 1; stroke-width: 0px; fill: rgb(99, 110, 250); fill-opacity: 1;\"/><path class=\"point\" transform=\"translate(468.52,253.5)\" d=\"M2,0A2,2 0 1,1 0,-2A2,2 0 0,1 2,0Z\" style=\"opacity: 1; stroke-width: 0px; fill: rgb(99, 110, 250); fill-opacity: 1;\"/><path class=\"point\" transform=\"translate(468.99,253.5)\" d=\"M2,0A2,2 0 1,1 0,-2A2,2 0 0,1 2,0Z\" style=\"opacity: 1; stroke-width: 0px; fill: rgb(99, 110, 250); fill-opacity: 1;\"/><path class=\"point\" transform=\"translate(469.46,253.5)\" d=\"M2,0A2,2 0 1,1 0,-2A2,2 0 0,1 2,0Z\" style=\"opacity: 1; stroke-width: 0px; fill: rgb(99, 110, 250); fill-opacity: 1;\"/><path class=\"point\" transform=\"translate(469.92,229.8)\" d=\"M2,0A2,2 0 1,1 0,-2A2,2 0 0,1 2,0Z\" style=\"opacity: 1; stroke-width: 0px; fill: rgb(99, 110, 250); fill-opacity: 1;\"/><path class=\"point\" transform=\"translate(470.39,253.5)\" d=\"M2,0A2,2 0 1,1 0,-2A2,2 0 0,1 2,0Z\" style=\"opacity: 1; stroke-width: 0px; fill: rgb(99, 110, 250); fill-opacity: 1;\"/><path class=\"point\" transform=\"translate(470.85,253.5)\" d=\"M2,0A2,2 0 1,1 0,-2A2,2 0 0,1 2,0Z\" style=\"opacity: 1; stroke-width: 0px; fill: rgb(99, 110, 250); fill-opacity: 1;\"/><path class=\"point\" transform=\"translate(471.32,253.5)\" d=\"M2,0A2,2 0 1,1 0,-2A2,2 0 0,1 2,0Z\" style=\"opacity: 1; stroke-width: 0px; fill: rgb(99, 110, 250); fill-opacity: 1;\"/><path class=\"point\" transform=\"translate(471.79,229.8)\" d=\"M2,0A2,2 0 1,1 0,-2A2,2 0 0,1 2,0Z\" style=\"opacity: 1; stroke-width: 0px; fill: rgb(99, 110, 250); fill-opacity: 1;\"/><path class=\"point\" transform=\"translate(472.25,253.5)\" d=\"M2,0A2,2 0 1,1 0,-2A2,2 0 0,1 2,0Z\" style=\"opacity: 1; stroke-width: 0px; fill: rgb(99, 110, 250); fill-opacity: 1;\"/><path class=\"point\" transform=\"translate(472.72,229.8)\" d=\"M2,0A2,2 0 1,1 0,-2A2,2 0 0,1 2,0Z\" style=\"opacity: 1; stroke-width: 0px; fill: rgb(99, 110, 250); fill-opacity: 1;\"/><path class=\"point\" transform=\"translate(473.18,253.5)\" d=\"M2,0A2,2 0 1,1 0,-2A2,2 0 0,1 2,0Z\" style=\"opacity: 1; stroke-width: 0px; fill: rgb(99, 110, 250); fill-opacity: 1;\"/><path class=\"point\" transform=\"translate(473.65,253.5)\" d=\"M2,0A2,2 0 1,1 0,-2A2,2 0 0,1 2,0Z\" style=\"opacity: 1; stroke-width: 0px; fill: rgb(99, 110, 250); fill-opacity: 1;\"/><path class=\"point\" transform=\"translate(474.12,253.5)\" d=\"M2,0A2,2 0 1,1 0,-2A2,2 0 0,1 2,0Z\" style=\"opacity: 1; stroke-width: 0px; fill: rgb(99, 110, 250); fill-opacity: 1;\"/><path class=\"point\" transform=\"translate(474.58,229.8)\" d=\"M2,0A2,2 0 1,1 0,-2A2,2 0 0,1 2,0Z\" style=\"opacity: 1; stroke-width: 0px; fill: rgb(99, 110, 250); fill-opacity: 1;\"/><path class=\"point\" transform=\"translate(475.05,253.5)\" d=\"M2,0A2,2 0 1,1 0,-2A2,2 0 0,1 2,0Z\" style=\"opacity: 1; stroke-width: 0px; fill: rgb(99, 110, 250); fill-opacity: 1;\"/><path class=\"point\" transform=\"translate(475.51,253.5)\" d=\"M2,0A2,2 0 1,1 0,-2A2,2 0 0,1 2,0Z\" style=\"opacity: 1; stroke-width: 0px; fill: rgb(99, 110, 250); fill-opacity: 1;\"/><path class=\"point\" transform=\"translate(475.98,229.8)\" d=\"M2,0A2,2 0 1,1 0,-2A2,2 0 0,1 2,0Z\" style=\"opacity: 1; stroke-width: 0px; fill: rgb(99, 110, 250); fill-opacity: 1;\"/><path class=\"point\" transform=\"translate(476.45,229.8)\" d=\"M2,0A2,2 0 1,1 0,-2A2,2 0 0,1 2,0Z\" style=\"opacity: 1; stroke-width: 0px; fill: rgb(99, 110, 250); fill-opacity: 1;\"/><path class=\"point\" transform=\"translate(476.91,206.1)\" d=\"M2,0A2,2 0 1,1 0,-2A2,2 0 0,1 2,0Z\" style=\"opacity: 1; stroke-width: 0px; fill: rgb(99, 110, 250); fill-opacity: 1;\"/><path class=\"point\" transform=\"translate(477.38,229.8)\" d=\"M2,0A2,2 0 1,1 0,-2A2,2 0 0,1 2,0Z\" style=\"opacity: 1; stroke-width: 0px; fill: rgb(99, 110, 250); fill-opacity: 1;\"/><path class=\"point\" transform=\"translate(477.84,253.5)\" d=\"M2,0A2,2 0 1,1 0,-2A2,2 0 0,1 2,0Z\" style=\"opacity: 1; stroke-width: 0px; fill: rgb(99, 110, 250); fill-opacity: 1;\"/><path class=\"point\" transform=\"translate(478.31,253.5)\" d=\"M2,0A2,2 0 1,1 0,-2A2,2 0 0,1 2,0Z\" style=\"opacity: 1; stroke-width: 0px; fill: rgb(99, 110, 250); fill-opacity: 1;\"/><path class=\"point\" transform=\"translate(478.78,206.1)\" d=\"M2,0A2,2 0 1,1 0,-2A2,2 0 0,1 2,0Z\" style=\"opacity: 1; stroke-width: 0px; fill: rgb(99, 110, 250); fill-opacity: 1;\"/><path class=\"point\" transform=\"translate(479.24,253.5)\" d=\"M2,0A2,2 0 1,1 0,-2A2,2 0 0,1 2,0Z\" style=\"opacity: 1; stroke-width: 0px; fill: rgb(99, 110, 250); fill-opacity: 1;\"/><path class=\"point\" transform=\"translate(479.71,253.5)\" d=\"M2,0A2,2 0 1,1 0,-2A2,2 0 0,1 2,0Z\" style=\"opacity: 1; stroke-width: 0px; fill: rgb(99, 110, 250); fill-opacity: 1;\"/><path class=\"point\" transform=\"translate(480.17,253.5)\" d=\"M2,0A2,2 0 1,1 0,-2A2,2 0 0,1 2,0Z\" style=\"opacity: 1; stroke-width: 0px; fill: rgb(99, 110, 250); fill-opacity: 1;\"/><path class=\"point\" transform=\"translate(480.64,253.5)\" d=\"M2,0A2,2 0 1,1 0,-2A2,2 0 0,1 2,0Z\" style=\"opacity: 1; stroke-width: 0px; fill: rgb(99, 110, 250); fill-opacity: 1;\"/><path class=\"point\" transform=\"translate(481.11,253.5)\" d=\"M2,0A2,2 0 1,1 0,-2A2,2 0 0,1 2,0Z\" style=\"opacity: 1; stroke-width: 0px; fill: rgb(99, 110, 250); fill-opacity: 1;\"/><path class=\"point\" transform=\"translate(481.57,253.5)\" d=\"M2,0A2,2 0 1,1 0,-2A2,2 0 0,1 2,0Z\" style=\"opacity: 1; stroke-width: 0px; fill: rgb(99, 110, 250); fill-opacity: 1;\"/><path class=\"point\" transform=\"translate(482.04,253.5)\" d=\"M2,0A2,2 0 1,1 0,-2A2,2 0 0,1 2,0Z\" style=\"opacity: 1; stroke-width: 0px; fill: rgb(99, 110, 250); fill-opacity: 1;\"/><path class=\"point\" transform=\"translate(482.5,253.5)\" d=\"M2,0A2,2 0 1,1 0,-2A2,2 0 0,1 2,0Z\" style=\"opacity: 1; stroke-width: 0px; fill: rgb(99, 110, 250); fill-opacity: 1;\"/><path class=\"point\" transform=\"translate(482.97,253.5)\" d=\"M2,0A2,2 0 1,1 0,-2A2,2 0 0,1 2,0Z\" style=\"opacity: 1; stroke-width: 0px; fill: rgb(99, 110, 250); fill-opacity: 1;\"/><path class=\"point\" transform=\"translate(483.44,253.5)\" d=\"M2,0A2,2 0 1,1 0,-2A2,2 0 0,1 2,0Z\" style=\"opacity: 1; stroke-width: 0px; fill: rgb(99, 110, 250); fill-opacity: 1;\"/><path class=\"point\" transform=\"translate(483.9,253.5)\" d=\"M2,0A2,2 0 1,1 0,-2A2,2 0 0,1 2,0Z\" style=\"opacity: 1; stroke-width: 0px; fill: rgb(99, 110, 250); fill-opacity: 1;\"/><path class=\"point\" transform=\"translate(484.37,253.5)\" d=\"M2,0A2,2 0 1,1 0,-2A2,2 0 0,1 2,0Z\" style=\"opacity: 1; stroke-width: 0px; fill: rgb(99, 110, 250); fill-opacity: 1;\"/><path class=\"point\" transform=\"translate(484.83,253.5)\" d=\"M2,0A2,2 0 1,1 0,-2A2,2 0 0,1 2,0Z\" style=\"opacity: 1; stroke-width: 0px; fill: rgb(99, 110, 250); fill-opacity: 1;\"/><path class=\"point\" transform=\"translate(485.3,253.5)\" d=\"M2,0A2,2 0 1,1 0,-2A2,2 0 0,1 2,0Z\" style=\"opacity: 1; stroke-width: 0px; fill: rgb(99, 110, 250); fill-opacity: 1;\"/><path class=\"point\" transform=\"translate(485.77,253.5)\" d=\"M2,0A2,2 0 1,1 0,-2A2,2 0 0,1 2,0Z\" style=\"opacity: 1; stroke-width: 0px; fill: rgb(99, 110, 250); fill-opacity: 1;\"/><path class=\"point\" transform=\"translate(486.23,253.5)\" d=\"M2,0A2,2 0 1,1 0,-2A2,2 0 0,1 2,0Z\" style=\"opacity: 1; stroke-width: 0px; fill: rgb(99, 110, 250); fill-opacity: 1;\"/><path class=\"point\" transform=\"translate(486.7,253.5)\" d=\"M2,0A2,2 0 1,1 0,-2A2,2 0 0,1 2,0Z\" style=\"opacity: 1; stroke-width: 0px; fill: rgb(99, 110, 250); fill-opacity: 1;\"/><path class=\"point\" transform=\"translate(487.17,253.5)\" d=\"M2,0A2,2 0 1,1 0,-2A2,2 0 0,1 2,0Z\" style=\"opacity: 1; stroke-width: 0px; fill: rgb(99, 110, 250); fill-opacity: 1;\"/><path class=\"point\" transform=\"translate(487.63,253.5)\" d=\"M2,0A2,2 0 1,1 0,-2A2,2 0 0,1 2,0Z\" style=\"opacity: 1; stroke-width: 0px; fill: rgb(99, 110, 250); fill-opacity: 1;\"/><path class=\"point\" transform=\"translate(488.1,253.5)\" d=\"M2,0A2,2 0 1,1 0,-2A2,2 0 0,1 2,0Z\" style=\"opacity: 1; stroke-width: 0px; fill: rgb(99, 110, 250); fill-opacity: 1;\"/><path class=\"point\" transform=\"translate(488.56,229.8)\" d=\"M2,0A2,2 0 1,1 0,-2A2,2 0 0,1 2,0Z\" style=\"opacity: 1; stroke-width: 0px; fill: rgb(99, 110, 250); fill-opacity: 1;\"/><path class=\"point\" transform=\"translate(489.03,253.5)\" d=\"M2,0A2,2 0 1,1 0,-2A2,2 0 0,1 2,0Z\" style=\"opacity: 1; stroke-width: 0px; fill: rgb(99, 110, 250); fill-opacity: 1;\"/><path class=\"point\" transform=\"translate(489.5,253.5)\" d=\"M2,0A2,2 0 1,1 0,-2A2,2 0 0,1 2,0Z\" style=\"opacity: 1; stroke-width: 0px; fill: rgb(99, 110, 250); fill-opacity: 1;\"/><path class=\"point\" transform=\"translate(489.96,253.5)\" d=\"M2,0A2,2 0 1,1 0,-2A2,2 0 0,1 2,0Z\" style=\"opacity: 1; stroke-width: 0px; fill: rgb(99, 110, 250); fill-opacity: 1;\"/><path class=\"point\" transform=\"translate(490.43,253.5)\" d=\"M2,0A2,2 0 1,1 0,-2A2,2 0 0,1 2,0Z\" style=\"opacity: 1; stroke-width: 0px; fill: rgb(99, 110, 250); fill-opacity: 1;\"/><path class=\"point\" transform=\"translate(490.89,253.5)\" d=\"M2,0A2,2 0 1,1 0,-2A2,2 0 0,1 2,0Z\" style=\"opacity: 1; stroke-width: 0px; fill: rgb(99, 110, 250); fill-opacity: 1;\"/><path class=\"point\" transform=\"translate(491.36,253.5)\" d=\"M2,0A2,2 0 1,1 0,-2A2,2 0 0,1 2,0Z\" style=\"opacity: 1; stroke-width: 0px; fill: rgb(99, 110, 250); fill-opacity: 1;\"/><path class=\"point\" transform=\"translate(491.83,229.8)\" d=\"M2,0A2,2 0 1,1 0,-2A2,2 0 0,1 2,0Z\" style=\"opacity: 1; stroke-width: 0px; fill: rgb(99, 110, 250); fill-opacity: 1;\"/><path class=\"point\" transform=\"translate(492.29,229.8)\" d=\"M2,0A2,2 0 1,1 0,-2A2,2 0 0,1 2,0Z\" style=\"opacity: 1; stroke-width: 0px; fill: rgb(99, 110, 250); fill-opacity: 1;\"/><path class=\"point\" transform=\"translate(492.76,253.5)\" d=\"M2,0A2,2 0 1,1 0,-2A2,2 0 0,1 2,0Z\" style=\"opacity: 1; stroke-width: 0px; fill: rgb(99, 110, 250); fill-opacity: 1;\"/><path class=\"point\" transform=\"translate(493.22,253.5)\" d=\"M2,0A2,2 0 1,1 0,-2A2,2 0 0,1 2,0Z\" style=\"opacity: 1; stroke-width: 0px; fill: rgb(99, 110, 250); fill-opacity: 1;\"/><path class=\"point\" transform=\"translate(493.69,229.8)\" d=\"M2,0A2,2 0 1,1 0,-2A2,2 0 0,1 2,0Z\" style=\"opacity: 1; stroke-width: 0px; fill: rgb(99, 110, 250); fill-opacity: 1;\"/><path class=\"point\" transform=\"translate(494.16,253.5)\" d=\"M2,0A2,2 0 1,1 0,-2A2,2 0 0,1 2,0Z\" style=\"opacity: 1; stroke-width: 0px; fill: rgb(99, 110, 250); fill-opacity: 1;\"/><path class=\"point\" transform=\"translate(494.62,253.5)\" d=\"M2,0A2,2 0 1,1 0,-2A2,2 0 0,1 2,0Z\" style=\"opacity: 1; stroke-width: 0px; fill: rgb(99, 110, 250); fill-opacity: 1;\"/><path class=\"point\" transform=\"translate(495.09,253.5)\" d=\"M2,0A2,2 0 1,1 0,-2A2,2 0 0,1 2,0Z\" style=\"opacity: 1; stroke-width: 0px; fill: rgb(99, 110, 250); fill-opacity: 1;\"/><path class=\"point\" transform=\"translate(495.55,253.5)\" d=\"M2,0A2,2 0 1,1 0,-2A2,2 0 0,1 2,0Z\" style=\"opacity: 1; stroke-width: 0px; fill: rgb(99, 110, 250); fill-opacity: 1;\"/><path class=\"point\" transform=\"translate(496.02,253.5)\" d=\"M2,0A2,2 0 1,1 0,-2A2,2 0 0,1 2,0Z\" style=\"opacity: 1; stroke-width: 0px; fill: rgb(99, 110, 250); fill-opacity: 1;\"/><path class=\"point\" transform=\"translate(496.49,253.5)\" d=\"M2,0A2,2 0 1,1 0,-2A2,2 0 0,1 2,0Z\" style=\"opacity: 1; stroke-width: 0px; fill: rgb(99, 110, 250); fill-opacity: 1;\"/><path class=\"point\" transform=\"translate(496.95,253.5)\" d=\"M2,0A2,2 0 1,1 0,-2A2,2 0 0,1 2,0Z\" style=\"opacity: 1; stroke-width: 0px; fill: rgb(99, 110, 250); fill-opacity: 1;\"/><path class=\"point\" transform=\"translate(497.42,253.5)\" d=\"M2,0A2,2 0 1,1 0,-2A2,2 0 0,1 2,0Z\" style=\"opacity: 1; stroke-width: 0px; fill: rgb(99, 110, 250); fill-opacity: 1;\"/><path class=\"point\" transform=\"translate(497.88,253.5)\" d=\"M2,0A2,2 0 1,1 0,-2A2,2 0 0,1 2,0Z\" style=\"opacity: 1; stroke-width: 0px; fill: rgb(99, 110, 250); fill-opacity: 1;\"/><path class=\"point\" transform=\"translate(498.35,253.5)\" d=\"M2,0A2,2 0 1,1 0,-2A2,2 0 0,1 2,0Z\" style=\"opacity: 1; stroke-width: 0px; fill: rgb(99, 110, 250); fill-opacity: 1;\"/><path class=\"point\" transform=\"translate(498.82,253.5)\" d=\"M2,0A2,2 0 1,1 0,-2A2,2 0 0,1 2,0Z\" style=\"opacity: 1; stroke-width: 0px; fill: rgb(99, 110, 250); fill-opacity: 1;\"/><path class=\"point\" transform=\"translate(499.28,253.5)\" d=\"M2,0A2,2 0 1,1 0,-2A2,2 0 0,1 2,0Z\" style=\"opacity: 1; stroke-width: 0px; fill: rgb(99, 110, 250); fill-opacity: 1;\"/><path class=\"point\" transform=\"translate(499.75,253.5)\" d=\"M2,0A2,2 0 1,1 0,-2A2,2 0 0,1 2,0Z\" style=\"opacity: 1; stroke-width: 0px; fill: rgb(99, 110, 250); fill-opacity: 1;\"/><path class=\"point\" transform=\"translate(500.21,206.1)\" d=\"M2,0A2,2 0 1,1 0,-2A2,2 0 0,1 2,0Z\" style=\"opacity: 1; stroke-width: 0px; fill: rgb(99, 110, 250); fill-opacity: 1;\"/><path class=\"point\" transform=\"translate(500.68,253.5)\" d=\"M2,0A2,2 0 1,1 0,-2A2,2 0 0,1 2,0Z\" style=\"opacity: 1; stroke-width: 0px; fill: rgb(99, 110, 250); fill-opacity: 1;\"/><path class=\"point\" transform=\"translate(501.15,253.5)\" d=\"M2,0A2,2 0 1,1 0,-2A2,2 0 0,1 2,0Z\" style=\"opacity: 1; stroke-width: 0px; fill: rgb(99, 110, 250); fill-opacity: 1;\"/><path class=\"point\" transform=\"translate(501.61,253.5)\" d=\"M2,0A2,2 0 1,1 0,-2A2,2 0 0,1 2,0Z\" style=\"opacity: 1; stroke-width: 0px; fill: rgb(99, 110, 250); fill-opacity: 1;\"/><path class=\"point\" transform=\"translate(502.08,253.5)\" d=\"M2,0A2,2 0 1,1 0,-2A2,2 0 0,1 2,0Z\" style=\"opacity: 1; stroke-width: 0px; fill: rgb(99, 110, 250); fill-opacity: 1;\"/><path class=\"point\" transform=\"translate(502.54,253.5)\" d=\"M2,0A2,2 0 1,1 0,-2A2,2 0 0,1 2,0Z\" style=\"opacity: 1; stroke-width: 0px; fill: rgb(99, 110, 250); fill-opacity: 1;\"/><path class=\"point\" transform=\"translate(503.01,253.5)\" d=\"M2,0A2,2 0 1,1 0,-2A2,2 0 0,1 2,0Z\" style=\"opacity: 1; stroke-width: 0px; fill: rgb(99, 110, 250); fill-opacity: 1;\"/><path class=\"point\" transform=\"translate(503.48,253.5)\" d=\"M2,0A2,2 0 1,1 0,-2A2,2 0 0,1 2,0Z\" style=\"opacity: 1; stroke-width: 0px; fill: rgb(99, 110, 250); fill-opacity: 1;\"/><path class=\"point\" transform=\"translate(503.94,253.5)\" d=\"M2,0A2,2 0 1,1 0,-2A2,2 0 0,1 2,0Z\" style=\"opacity: 1; stroke-width: 0px; fill: rgb(99, 110, 250); fill-opacity: 1;\"/><path class=\"point\" transform=\"translate(504.41,253.5)\" d=\"M2,0A2,2 0 1,1 0,-2A2,2 0 0,1 2,0Z\" style=\"opacity: 1; stroke-width: 0px; fill: rgb(99, 110, 250); fill-opacity: 1;\"/><path class=\"point\" transform=\"translate(504.87,253.5)\" d=\"M2,0A2,2 0 1,1 0,-2A2,2 0 0,1 2,0Z\" style=\"opacity: 1; stroke-width: 0px; fill: rgb(99, 110, 250); fill-opacity: 1;\"/><path class=\"point\" transform=\"translate(505.34,253.5)\" d=\"M2,0A2,2 0 1,1 0,-2A2,2 0 0,1 2,0Z\" style=\"opacity: 1; stroke-width: 0px; fill: rgb(99, 110, 250); fill-opacity: 1;\"/><path class=\"point\" transform=\"translate(505.81,253.5)\" d=\"M2,0A2,2 0 1,1 0,-2A2,2 0 0,1 2,0Z\" style=\"opacity: 1; stroke-width: 0px; fill: rgb(99, 110, 250); fill-opacity: 1;\"/><path class=\"point\" transform=\"translate(506.27,253.5)\" d=\"M2,0A2,2 0 1,1 0,-2A2,2 0 0,1 2,0Z\" style=\"opacity: 1; stroke-width: 0px; fill: rgb(99, 110, 250); fill-opacity: 1;\"/><path class=\"point\" transform=\"translate(506.74,16.5)\" d=\"M2,0A2,2 0 1,1 0,-2A2,2 0 0,1 2,0Z\" style=\"opacity: 1; stroke-width: 0px; fill: rgb(99, 110, 250); fill-opacity: 1;\"/><path class=\"point\" transform=\"translate(507.2,253.5)\" d=\"M2,0A2,2 0 1,1 0,-2A2,2 0 0,1 2,0Z\" style=\"opacity: 1; stroke-width: 0px; fill: rgb(99, 110, 250); fill-opacity: 1;\"/><path class=\"point\" transform=\"translate(507.67,253.5)\" d=\"M2,0A2,2 0 1,1 0,-2A2,2 0 0,1 2,0Z\" style=\"opacity: 1; stroke-width: 0px; fill: rgb(99, 110, 250); fill-opacity: 1;\"/><path class=\"point\" transform=\"translate(508.14,229.8)\" d=\"M2,0A2,2 0 1,1 0,-2A2,2 0 0,1 2,0Z\" style=\"opacity: 1; stroke-width: 0px; fill: rgb(99, 110, 250); fill-opacity: 1;\"/><path class=\"point\" transform=\"translate(508.6,253.5)\" d=\"M2,0A2,2 0 1,1 0,-2A2,2 0 0,1 2,0Z\" style=\"opacity: 1; stroke-width: 0px; fill: rgb(99, 110, 250); fill-opacity: 1;\"/><path class=\"point\" transform=\"translate(509.07,253.5)\" d=\"M2,0A2,2 0 1,1 0,-2A2,2 0 0,1 2,0Z\" style=\"opacity: 1; stroke-width: 0px; fill: rgb(99, 110, 250); fill-opacity: 1;\"/><path class=\"point\" transform=\"translate(509.53,253.5)\" d=\"M2,0A2,2 0 1,1 0,-2A2,2 0 0,1 2,0Z\" style=\"opacity: 1; stroke-width: 0px; fill: rgb(99, 110, 250); fill-opacity: 1;\"/><path class=\"point\" transform=\"translate(510,253.5)\" d=\"M2,0A2,2 0 1,1 0,-2A2,2 0 0,1 2,0Z\" style=\"opacity: 1; stroke-width: 0px; fill: rgb(99, 110, 250); fill-opacity: 1;\"/></g><g class=\"text\"/></g></g></g><g class=\"overplot\"/><path class=\"xlines-above crisp\" d=\"M0,0\" style=\"fill: none;\"/><path class=\"ylines-above crisp\" d=\"M0,0\" style=\"fill: none;\"/><g class=\"overlines-above\"/><g class=\"xaxislayer-above\"><g class=\"xtick\"><text text-anchor=\"middle\" x=\"0\" y=\"383\" transform=\"translate(110,0)\" style=\"font-family: 'Open Sans', verdana, arial, sans-serif; font-size: 12px; fill: rgb(242, 245, 250); fill-opacity: 1; white-space: pre; opacity: 1;\">0</text></g><g class=\"xtick\"><text text-anchor=\"middle\" x=\"0\" y=\"383\" style=\"font-family: 'Open Sans', verdana, arial, sans-serif; font-size: 12px; fill: rgb(242, 245, 250); fill-opacity: 1; white-space: pre; opacity: 1;\" transform=\"translate(203.2,0)\">200</text></g><g class=\"xtick\"><text text-anchor=\"middle\" x=\"0\" y=\"383\" style=\"font-family: 'Open Sans', verdana, arial, sans-serif; font-size: 12px; fill: rgb(242, 245, 250); fill-opacity: 1; white-space: pre; opacity: 1;\" transform=\"translate(296.40999999999997,0)\">400</text></g><g class=\"xtick\"><text text-anchor=\"middle\" x=\"0\" y=\"383\" style=\"font-family: 'Open Sans', verdana, arial, sans-serif; font-size: 12px; fill: rgb(242, 245, 250); fill-opacity: 1; white-space: pre; opacity: 1;\" transform=\"translate(389.61,0)\">600</text></g><g class=\"xtick\"><text text-anchor=\"middle\" x=\"0\" y=\"383\" style=\"font-family: 'Open Sans', verdana, arial, sans-serif; font-size: 12px; fill: rgb(242, 245, 250); fill-opacity: 1; white-space: pre; opacity: 1;\" transform=\"translate(482.82,0)\">800</text></g><g class=\"xtick\"><text text-anchor=\"middle\" x=\"0\" y=\"383\" style=\"font-family: 'Open Sans', verdana, arial, sans-serif; font-size: 12px; fill: rgb(242, 245, 250); fill-opacity: 1; white-space: pre; opacity: 1;\" transform=\"translate(576.02,0)\">1000</text></g></g><g class=\"yaxislayer-above\"><g class=\"ytick\"><text text-anchor=\"end\" x=\"79\" y=\"4.199999999999999\" transform=\"translate(0,329.8)\" style=\"font-family: 'Open Sans', verdana, arial, sans-serif; font-size: 12px; fill: rgb(242, 245, 250); fill-opacity: 1; white-space: pre; opacity: 1;\">2</text></g><g class=\"ytick\"><text text-anchor=\"end\" x=\"79\" y=\"4.199999999999999\" style=\"font-family: 'Open Sans', verdana, arial, sans-serif; font-size: 12px; fill: rgb(242, 245, 250); fill-opacity: 1; white-space: pre; opacity: 1;\" transform=\"translate(0,282.4)\">4</text></g><g class=\"ytick\"><text text-anchor=\"end\" x=\"79\" y=\"4.199999999999999\" style=\"font-family: 'Open Sans', verdana, arial, sans-serif; font-size: 12px; fill: rgb(242, 245, 250); fill-opacity: 1; white-space: pre; opacity: 1;\" transform=\"translate(0,235)\">6</text></g><g class=\"ytick\"><text text-anchor=\"end\" x=\"79\" y=\"4.199999999999999\" style=\"font-family: 'Open Sans', verdana, arial, sans-serif; font-size: 12px; fill: rgb(242, 245, 250); fill-opacity: 1; white-space: pre; opacity: 1;\" transform=\"translate(0,187.6)\">8</text></g><g class=\"ytick\"><text text-anchor=\"end\" x=\"79\" y=\"4.199999999999999\" style=\"font-family: 'Open Sans', verdana, arial, sans-serif; font-size: 12px; fill: rgb(242, 245, 250); fill-opacity: 1; white-space: pre; opacity: 1;\" transform=\"translate(0,140.2)\">10</text></g></g><g class=\"overaxes-above\"/></g></g><g class=\"polarlayer\"/><g class=\"smithlayer\"/><g class=\"ternarylayer\"/><g class=\"geolayer\"/><g class=\"funnelarealayer\"/><g class=\"pielayer\"/><g class=\"iciclelayer\"/><g class=\"treemaplayer\"/><g class=\"sunburstlayer\"/><g class=\"glimages\"/><defs id=\"topdefs-44d3d1\"><g class=\"clips\"/></defs><g class=\"layer-above\"><g class=\"imagelayer\"/><g class=\"shapelayer\"/></g><g class=\"infolayer\"><g class=\"g-gtitle\"><text class=\"gtitle\" x=\"35\" y=\"50\" text-anchor=\"start\" dy=\"0em\" style=\"font-family: 'Open Sans', verdana, arial, sans-serif; font-size: 17px; fill: rgb(242, 245, 250); opacity: 1; font-weight: normal; white-space: pre;\">Количество заказов по пользователям</text></g><g class=\"g-xtitle\"><text class=\"xtitle\" x=\"350\" y=\"410.8\" text-anchor=\"middle\" style=\"font-family: 'Open Sans', verdana, arial, sans-serif; font-size: 14px; fill: rgb(242, 245, 250); opacity: 1; font-weight: normal; white-space: pre;\">Дата</text></g><g class=\"g-ytitle\"><text class=\"ytitle\" transform=\"rotate(-90,38.934375,235)\" x=\"38.934375\" y=\"235\" text-anchor=\"middle\" style=\"font-family: 'Open Sans', verdana, arial, sans-serif; font-size: 14px; fill: rgb(242, 245, 250); opacity: 1; font-weight: normal; white-space: pre;\">Кол-во заказов (шт.)</text></g></g></svg>"
      ]
     },
     "metadata": {},
     "output_type": "display_data"
    }
   ],
   "source": [
    "fig = go.Figure()\n",
    "\n",
    "fig.add_trace(go.Scatter(x=list(range(0, ordersPerVisitor.shape[0])),\n",
    "                         y=ordersPerVisitor['orders'],\n",
    "                         mode='markers',\n",
    "                         marker_size=4))\n",
    "\n",
    "fig.update_layout(\n",
    "\n",
    "    title='Количество заказов по пользователям',\n",
    "    template='plotly_dark',\n",
    "    xaxis_title='Дата',\n",
    "    yaxis_title='Кол-во заказов (шт.)',\n",
    "    height=450\n",
    "    \n",
    ")\n",
    "\n",
    "fig.show(\"svg\")"
   ]
  },
  {
   "cell_type": "markdown",
   "metadata": {},
   "source": [
    "**Чаще всего пользователи делают по 1 заказу в течение месяца.** Реже - 2. Больше 3 заказов происходит уже достаточно редко. "
   ]
  },
  {
   "cell_type": "markdown",
   "metadata": {},
   "source": [
    "Посчитаем 95-й и 99-й перцентили количества заказов на пользователя и более точно выберем границу для определения аномальных пользователей."
   ]
  },
  {
   "cell_type": "code",
   "execution_count": 43,
   "metadata": {},
   "outputs": [
    {
     "name": "stdout",
     "output_type": "stream",
     "text": [
      "95-й перцентиль: 2 заказа\n",
      "99-й перцентиль: 4 заказа\n"
     ]
    }
   ],
   "source": [
    "print('95-й перцентиль: {:.0f} заказа'.format(np.percentile(ordersPerVisitor['orders'], [95, 99])[0]))\n",
    "print('99-й перцентиль: {:.0f} заказа'.format(np.percentile(ordersPerVisitor['orders'], [95, 99])[1]))"
   ]
  },
  {
   "cell_type": "markdown",
   "metadata": {},
   "source": [
    "### Стоимости заказов"
   ]
  },
  {
   "cell_type": "code",
   "execution_count": 44,
   "metadata": {},
   "outputs": [
    {
     "data": {
      "image/svg+xml": [
       "<svg class=\"main-svg\" xmlns=\"http://www.w3.org/2000/svg\" xmlns:xlink=\"http://www.w3.org/1999/xlink\" width=\"700\" height=\"450\" style=\"\" viewBox=\"0 0 700 450\"><rect x=\"0\" y=\"0\" width=\"700\" height=\"450\" style=\"fill: rgb(17, 17, 17); fill-opacity: 1;\"/><defs id=\"defs-5b5d67\"><g class=\"clips\"><clipPath id=\"clip5b5d67xyplot\" class=\"plotclip\"><rect width=\"540\" height=\"270\"/></clipPath><clipPath class=\"axesclip\" id=\"clip5b5d67x\"><rect x=\"80\" y=\"0\" width=\"540\" height=\"450\"/></clipPath><clipPath class=\"axesclip\" id=\"clip5b5d67y\"><rect x=\"0\" y=\"100\" width=\"700\" height=\"270\"/></clipPath><clipPath class=\"axesclip\" id=\"clip5b5d67xy\"><rect x=\"80\" y=\"100\" width=\"540\" height=\"270\"/></clipPath></g><g class=\"gradients\"/><g class=\"patterns\"/></defs><g class=\"bglayer\"/><g class=\"layer-below\"><g class=\"imagelayer\"/><g class=\"shapelayer\"/></g><g class=\"cartesianlayer\"><g class=\"subplot xy\"><g class=\"layer-subplot\"><g class=\"shapelayer\"/><g class=\"imagelayer\"/></g><g class=\"gridlayer\"><g class=\"x\"><path class=\"xgrid crisp\" transform=\"translate(190.26999999999998,0)\" d=\"M0,100v270\" style=\"stroke: rgb(40, 52, 66); stroke-opacity: 1; stroke-width: 1px;\"/><path class=\"xgrid crisp\" transform=\"translate(270.53999999999996,0)\" d=\"M0,100v270\" style=\"stroke: rgb(40, 52, 66); stroke-opacity: 1; stroke-width: 1px;\"/><path class=\"xgrid crisp\" transform=\"translate(350.8,0)\" d=\"M0,100v270\" style=\"stroke: rgb(40, 52, 66); stroke-opacity: 1; stroke-width: 1px;\"/><path class=\"xgrid crisp\" transform=\"translate(431.07,0)\" d=\"M0,100v270\" style=\"stroke: rgb(40, 52, 66); stroke-opacity: 1; stroke-width: 1px;\"/><path class=\"xgrid crisp\" transform=\"translate(511.34,0)\" d=\"M0,100v270\" style=\"stroke: rgb(40, 52, 66); stroke-opacity: 1; stroke-width: 1px;\"/><path class=\"xgrid crisp\" transform=\"translate(591.61,0)\" d=\"M0,100v270\" style=\"stroke: rgb(40, 52, 66); stroke-opacity: 1; stroke-width: 1px;\"/></g><g class=\"y\"><path class=\"ygrid crisp\" transform=\"translate(0,273.94)\" d=\"M80,0h540\" style=\"stroke: rgb(40, 52, 66); stroke-opacity: 1; stroke-width: 1px;\"/><path class=\"ygrid crisp\" transform=\"translate(0,194.37)\" d=\"M80,0h540\" style=\"stroke: rgb(40, 52, 66); stroke-opacity: 1; stroke-width: 1px;\"/><path class=\"ygrid crisp\" transform=\"translate(0,114.8)\" d=\"M80,0h540\" style=\"stroke: rgb(40, 52, 66); stroke-opacity: 1; stroke-width: 1px;\"/></g></g><g class=\"zerolinelayer\"><path class=\"xzl zl crisp\" transform=\"translate(110,0)\" d=\"M0,100v270\" style=\"stroke: rgb(40, 52, 66); stroke-opacity: 1; stroke-width: 2px;\"/><path class=\"yzl zl crisp\" transform=\"translate(0,353.51)\" d=\"M80,0h540\" style=\"stroke: rgb(40, 52, 66); stroke-opacity: 1; stroke-width: 2px;\"/></g><path class=\"xlines-below\"/><path class=\"ylines-below\"/><g class=\"overlines-below\"/><g class=\"xaxislayer-below\"/><g class=\"yaxislayer-below\"/><g class=\"overaxes-below\"/><g class=\"plot\" transform=\"translate(80,100)\" clip-path=\"url(#clip5b5d67xyplot)\"><g class=\"scatterlayer mlayer\"><g class=\"trace scatter trace983861\" style=\"stroke-miterlimit: 2; opacity: 1;\"><g class=\"fills\"/><g class=\"errorbars\"/><g class=\"lines\"/><g class=\"points\"><path class=\"point\" transform=\"translate(30,253.25)\" d=\"M2,0A2,2 0 1,1 0,-2A2,2 0 0,1 2,0Z\" style=\"opacity: 1; stroke-width: 0px; fill: rgb(135, 206, 250); fill-opacity: 1;\"/><path class=\"point\" transform=\"translate(30.4,253.39)\" d=\"M2,0A2,2 0 1,1 0,-2A2,2 0 0,1 2,0Z\" style=\"opacity: 1; stroke-width: 0px; fill: rgb(135, 206, 250); fill-opacity: 1;\"/><path class=\"point\" transform=\"translate(30.8,253.44)\" d=\"M2,0A2,2 0 1,1 0,-2A2,2 0 0,1 2,0Z\" style=\"opacity: 1; stroke-width: 0px; fill: rgb(135, 206, 250); fill-opacity: 1;\"/><path class=\"point\" transform=\"translate(31.2,251.95)\" d=\"M2,0A2,2 0 1,1 0,-2A2,2 0 0,1 2,0Z\" style=\"opacity: 1; stroke-width: 0px; fill: rgb(135, 206, 250); fill-opacity: 1;\"/><path class=\"point\" transform=\"translate(31.61,253.14)\" d=\"M2,0A2,2 0 1,1 0,-2A2,2 0 0,1 2,0Z\" style=\"opacity: 1; stroke-width: 0px; fill: rgb(135, 206, 250); fill-opacity: 1;\"/><path class=\"point\" transform=\"translate(32.01,253.16)\" d=\"M2,0A2,2 0 1,1 0,-2A2,2 0 0,1 2,0Z\" style=\"opacity: 1; stroke-width: 0px; fill: rgb(135, 206, 250); fill-opacity: 1;\"/><path class=\"point\" transform=\"translate(32.41,253.21)\" d=\"M2,0A2,2 0 1,1 0,-2A2,2 0 0,1 2,0Z\" style=\"opacity: 1; stroke-width: 0px; fill: rgb(135, 206, 250); fill-opacity: 1;\"/><path class=\"point\" transform=\"translate(32.81,253.34)\" d=\"M2,0A2,2 0 1,1 0,-2A2,2 0 0,1 2,0Z\" style=\"opacity: 1; stroke-width: 0px; fill: rgb(135, 206, 250); fill-opacity: 1;\"/><path class=\"point\" transform=\"translate(33.21,251.33)\" d=\"M2,0A2,2 0 1,1 0,-2A2,2 0 0,1 2,0Z\" style=\"opacity: 1; stroke-width: 0px; fill: rgb(135, 206, 250); fill-opacity: 1;\"/><path class=\"point\" transform=\"translate(33.61,253.21)\" d=\"M2,0A2,2 0 1,1 0,-2A2,2 0 0,1 2,0Z\" style=\"opacity: 1; stroke-width: 0px; fill: rgb(135, 206, 250); fill-opacity: 1;\"/><path class=\"point\" transform=\"translate(34.01,252.87)\" d=\"M2,0A2,2 0 1,1 0,-2A2,2 0 0,1 2,0Z\" style=\"opacity: 1; stroke-width: 0px; fill: rgb(135, 206, 250); fill-opacity: 1;\"/><path class=\"point\" transform=\"translate(34.41,252.79)\" d=\"M2,0A2,2 0 1,1 0,-2A2,2 0 0,1 2,0Z\" style=\"opacity: 1; stroke-width: 0px; fill: rgb(135, 206, 250); fill-opacity: 1;\"/><path class=\"point\" transform=\"translate(34.82,252.34)\" d=\"M2,0A2,2 0 1,1 0,-2A2,2 0 0,1 2,0Z\" style=\"opacity: 1; stroke-width: 0px; fill: rgb(135, 206, 250); fill-opacity: 1;\"/><path class=\"point\" transform=\"translate(35.22,251.6)\" d=\"M2,0A2,2 0 1,1 0,-2A2,2 0 0,1 2,0Z\" style=\"opacity: 1; stroke-width: 0px; fill: rgb(135, 206, 250); fill-opacity: 1;\"/><path class=\"point\" transform=\"translate(35.62,251.76)\" d=\"M2,0A2,2 0 1,1 0,-2A2,2 0 0,1 2,0Z\" style=\"opacity: 1; stroke-width: 0px; fill: rgb(135, 206, 250); fill-opacity: 1;\"/><path class=\"point\" transform=\"translate(36.02,251.08)\" d=\"M2,0A2,2 0 1,1 0,-2A2,2 0 0,1 2,0Z\" style=\"opacity: 1; stroke-width: 0px; fill: rgb(135, 206, 250); fill-opacity: 1;\"/><path class=\"point\" transform=\"translate(36.42,253.34)\" d=\"M2,0A2,2 0 1,1 0,-2A2,2 0 0,1 2,0Z\" style=\"opacity: 1; stroke-width: 0px; fill: rgb(135, 206, 250); fill-opacity: 1;\"/><path class=\"point\" transform=\"translate(36.82,253.35)\" d=\"M2,0A2,2 0 1,1 0,-2A2,2 0 0,1 2,0Z\" style=\"opacity: 1; stroke-width: 0px; fill: rgb(135, 206, 250); fill-opacity: 1;\"/><path class=\"point\" transform=\"translate(37.22,250.88)\" d=\"M2,0A2,2 0 1,1 0,-2A2,2 0 0,1 2,0Z\" style=\"opacity: 1; stroke-width: 0px; fill: rgb(135, 206, 250); fill-opacity: 1;\"/><path class=\"point\" transform=\"translate(37.63,253.32)\" d=\"M2,0A2,2 0 1,1 0,-2A2,2 0 0,1 2,0Z\" style=\"opacity: 1; stroke-width: 0px; fill: rgb(135, 206, 250); fill-opacity: 1;\"/><path class=\"point\" transform=\"translate(38.03,253.46)\" d=\"M2,0A2,2 0 1,1 0,-2A2,2 0 0,1 2,0Z\" style=\"opacity: 1; stroke-width: 0px; fill: rgb(135, 206, 250); fill-opacity: 1;\"/><path class=\"point\" transform=\"translate(38.43,253.34)\" d=\"M2,0A2,2 0 1,1 0,-2A2,2 0 0,1 2,0Z\" style=\"opacity: 1; stroke-width: 0px; fill: rgb(135, 206, 250); fill-opacity: 1;\"/><path class=\"point\" transform=\"translate(38.83,253.41)\" d=\"M2,0A2,2 0 1,1 0,-2A2,2 0 0,1 2,0Z\" style=\"opacity: 1; stroke-width: 0px; fill: rgb(135, 206, 250); fill-opacity: 1;\"/><path class=\"point\" transform=\"translate(39.23,251.09)\" d=\"M2,0A2,2 0 1,1 0,-2A2,2 0 0,1 2,0Z\" style=\"opacity: 1; stroke-width: 0px; fill: rgb(135, 206, 250); fill-opacity: 1;\"/><path class=\"point\" transform=\"translate(39.63,252.31)\" d=\"M2,0A2,2 0 1,1 0,-2A2,2 0 0,1 2,0Z\" style=\"opacity: 1; stroke-width: 0px; fill: rgb(135, 206, 250); fill-opacity: 1;\"/><path class=\"point\" transform=\"translate(40.03,253.46)\" d=\"M2,0A2,2 0 1,1 0,-2A2,2 0 0,1 2,0Z\" style=\"opacity: 1; stroke-width: 0px; fill: rgb(135, 206, 250); fill-opacity: 1;\"/><path class=\"point\" transform=\"translate(40.43,252.95)\" d=\"M2,0A2,2 0 1,1 0,-2A2,2 0 0,1 2,0Z\" style=\"opacity: 1; stroke-width: 0px; fill: rgb(135, 206, 250); fill-opacity: 1;\"/><path class=\"point\" transform=\"translate(40.84,252.3)\" d=\"M2,0A2,2 0 1,1 0,-2A2,2 0 0,1 2,0Z\" style=\"opacity: 1; stroke-width: 0px; fill: rgb(135, 206, 250); fill-opacity: 1;\"/><path class=\"point\" transform=\"translate(41.24,252.67)\" d=\"M2,0A2,2 0 1,1 0,-2A2,2 0 0,1 2,0Z\" style=\"opacity: 1; stroke-width: 0px; fill: rgb(135, 206, 250); fill-opacity: 1;\"/><path class=\"point\" transform=\"translate(41.64,253.4)\" d=\"M2,0A2,2 0 1,1 0,-2A2,2 0 0,1 2,0Z\" style=\"opacity: 1; stroke-width: 0px; fill: rgb(135, 206, 250); fill-opacity: 1;\"/><path class=\"point\" transform=\"translate(42.04,253.48)\" d=\"M2,0A2,2 0 1,1 0,-2A2,2 0 0,1 2,0Z\" style=\"opacity: 1; stroke-width: 0px; fill: rgb(135, 206, 250); fill-opacity: 1;\"/><path class=\"point\" transform=\"translate(42.44,253.45)\" d=\"M2,0A2,2 0 1,1 0,-2A2,2 0 0,1 2,0Z\" style=\"opacity: 1; stroke-width: 0px; fill: rgb(135, 206, 250); fill-opacity: 1;\"/><path class=\"point\" transform=\"translate(42.84,253.24)\" d=\"M2,0A2,2 0 1,1 0,-2A2,2 0 0,1 2,0Z\" style=\"opacity: 1; stroke-width: 0px; fill: rgb(135, 206, 250); fill-opacity: 1;\"/><path class=\"point\" transform=\"translate(43.24,253.25)\" d=\"M2,0A2,2 0 1,1 0,-2A2,2 0 0,1 2,0Z\" style=\"opacity: 1; stroke-width: 0px; fill: rgb(135, 206, 250); fill-opacity: 1;\"/><path class=\"point\" transform=\"translate(43.65,249.88)\" d=\"M2,0A2,2 0 1,1 0,-2A2,2 0 0,1 2,0Z\" style=\"opacity: 1; stroke-width: 0px; fill: rgb(135, 206, 250); fill-opacity: 1;\"/><path class=\"point\" transform=\"translate(44.05,253.13)\" d=\"M2,0A2,2 0 1,1 0,-2A2,2 0 0,1 2,0Z\" style=\"opacity: 1; stroke-width: 0px; fill: rgb(135, 206, 250); fill-opacity: 1;\"/><path class=\"point\" transform=\"translate(44.45,253.11)\" d=\"M2,0A2,2 0 1,1 0,-2A2,2 0 0,1 2,0Z\" style=\"opacity: 1; stroke-width: 0px; fill: rgb(135, 206, 250); fill-opacity: 1;\"/><path class=\"point\" transform=\"translate(44.85,252.51)\" d=\"M2,0A2,2 0 1,1 0,-2A2,2 0 0,1 2,0Z\" style=\"opacity: 1; stroke-width: 0px; fill: rgb(135, 206, 250); fill-opacity: 1;\"/><path class=\"point\" transform=\"translate(45.25,250.44)\" d=\"M2,0A2,2 0 1,1 0,-2A2,2 0 0,1 2,0Z\" style=\"opacity: 1; stroke-width: 0px; fill: rgb(135, 206, 250); fill-opacity: 1;\"/><path class=\"point\" transform=\"translate(45.65,253.41)\" d=\"M2,0A2,2 0 1,1 0,-2A2,2 0 0,1 2,0Z\" style=\"opacity: 1; stroke-width: 0px; fill: rgb(135, 206, 250); fill-opacity: 1;\"/><path class=\"point\" transform=\"translate(46.05,253.03)\" d=\"M2,0A2,2 0 1,1 0,-2A2,2 0 0,1 2,0Z\" style=\"opacity: 1; stroke-width: 0px; fill: rgb(135, 206, 250); fill-opacity: 1;\"/><path class=\"point\" transform=\"translate(46.45,253.33)\" d=\"M2,0A2,2 0 1,1 0,-2A2,2 0 0,1 2,0Z\" style=\"opacity: 1; stroke-width: 0px; fill: rgb(135, 206, 250); fill-opacity: 1;\"/><path class=\"point\" transform=\"translate(46.86,252.03)\" d=\"M2,0A2,2 0 1,1 0,-2A2,2 0 0,1 2,0Z\" style=\"opacity: 1; stroke-width: 0px; fill: rgb(135, 206, 250); fill-opacity: 1;\"/><path class=\"point\" transform=\"translate(47.26,253.11)\" d=\"M2,0A2,2 0 1,1 0,-2A2,2 0 0,1 2,0Z\" style=\"opacity: 1; stroke-width: 0px; fill: rgb(135, 206, 250); fill-opacity: 1;\"/><path class=\"point\" transform=\"translate(47.66,253.03)\" d=\"M2,0A2,2 0 1,1 0,-2A2,2 0 0,1 2,0Z\" style=\"opacity: 1; stroke-width: 0px; fill: rgb(135, 206, 250); fill-opacity: 1;\"/><path class=\"point\" transform=\"translate(48.06,253.17)\" d=\"M2,0A2,2 0 1,1 0,-2A2,2 0 0,1 2,0Z\" style=\"opacity: 1; stroke-width: 0px; fill: rgb(135, 206, 250); fill-opacity: 1;\"/><path class=\"point\" transform=\"translate(48.46,252.94)\" d=\"M2,0A2,2 0 1,1 0,-2A2,2 0 0,1 2,0Z\" style=\"opacity: 1; stroke-width: 0px; fill: rgb(135, 206, 250); fill-opacity: 1;\"/><path class=\"point\" transform=\"translate(48.86,252.4)\" d=\"M2,0A2,2 0 1,1 0,-2A2,2 0 0,1 2,0Z\" style=\"opacity: 1; stroke-width: 0px; fill: rgb(135, 206, 250); fill-opacity: 1;\"/><path class=\"point\" transform=\"translate(49.26,253.31)\" d=\"M2,0A2,2 0 1,1 0,-2A2,2 0 0,1 2,0Z\" style=\"opacity: 1; stroke-width: 0px; fill: rgb(135, 206, 250); fill-opacity: 1;\"/><path class=\"point\" transform=\"translate(49.67,252.95)\" d=\"M2,0A2,2 0 1,1 0,-2A2,2 0 0,1 2,0Z\" style=\"opacity: 1; stroke-width: 0px; fill: rgb(135, 206, 250); fill-opacity: 1;\"/><path class=\"point\" transform=\"translate(50.07,253.04)\" d=\"M2,0A2,2 0 1,1 0,-2A2,2 0 0,1 2,0Z\" style=\"opacity: 1; stroke-width: 0px; fill: rgb(135, 206, 250); fill-opacity: 1;\"/><path class=\"point\" transform=\"translate(50.47,250.63)\" d=\"M2,0A2,2 0 1,1 0,-2A2,2 0 0,1 2,0Z\" style=\"opacity: 1; stroke-width: 0px; fill: rgb(135, 206, 250); fill-opacity: 1;\"/><path class=\"point\" transform=\"translate(50.87,253.44)\" d=\"M2,0A2,2 0 1,1 0,-2A2,2 0 0,1 2,0Z\" style=\"opacity: 1; stroke-width: 0px; fill: rgb(135, 206, 250); fill-opacity: 1;\"/><path class=\"point\" transform=\"translate(51.27,253.44)\" d=\"M2,0A2,2 0 1,1 0,-2A2,2 0 0,1 2,0Z\" style=\"opacity: 1; stroke-width: 0px; fill: rgb(135, 206, 250); fill-opacity: 1;\"/><path class=\"point\" transform=\"translate(51.67,253.49)\" d=\"M2,0A2,2 0 1,1 0,-2A2,2 0 0,1 2,0Z\" style=\"opacity: 1; stroke-width: 0px; fill: rgb(135, 206, 250); fill-opacity: 1;\"/><path class=\"point\" transform=\"translate(52.07,253.07)\" d=\"M2,0A2,2 0 1,1 0,-2A2,2 0 0,1 2,0Z\" style=\"opacity: 1; stroke-width: 0px; fill: rgb(135, 206, 250); fill-opacity: 1;\"/><path class=\"point\" transform=\"translate(52.47,253.42)\" d=\"M2,0A2,2 0 1,1 0,-2A2,2 0 0,1 2,0Z\" style=\"opacity: 1; stroke-width: 0px; fill: rgb(135, 206, 250); fill-opacity: 1;\"/><path class=\"point\" transform=\"translate(52.88,253.03)\" d=\"M2,0A2,2 0 1,1 0,-2A2,2 0 0,1 2,0Z\" style=\"opacity: 1; stroke-width: 0px; fill: rgb(135, 206, 250); fill-opacity: 1;\"/><path class=\"point\" transform=\"translate(53.28,253.28)\" d=\"M2,0A2,2 0 1,1 0,-2A2,2 0 0,1 2,0Z\" style=\"opacity: 1; stroke-width: 0px; fill: rgb(135, 206, 250); fill-opacity: 1;\"/><path class=\"point\" transform=\"translate(53.68,252.26)\" d=\"M2,0A2,2 0 1,1 0,-2A2,2 0 0,1 2,0Z\" style=\"opacity: 1; stroke-width: 0px; fill: rgb(135, 206, 250); fill-opacity: 1;\"/><path class=\"point\" transform=\"translate(54.08,244.49)\" d=\"M2,0A2,2 0 1,1 0,-2A2,2 0 0,1 2,0Z\" style=\"opacity: 1; stroke-width: 0px; fill: rgb(135, 206, 250); fill-opacity: 1;\"/><path class=\"point\" transform=\"translate(54.48,253.38)\" d=\"M2,0A2,2 0 1,1 0,-2A2,2 0 0,1 2,0Z\" style=\"opacity: 1; stroke-width: 0px; fill: rgb(135, 206, 250); fill-opacity: 1;\"/><path class=\"point\" transform=\"translate(54.88,253.44)\" d=\"M2,0A2,2 0 1,1 0,-2A2,2 0 0,1 2,0Z\" style=\"opacity: 1; stroke-width: 0px; fill: rgb(135, 206, 250); fill-opacity: 1;\"/><path class=\"point\" transform=\"translate(55.28,253.29)\" d=\"M2,0A2,2 0 1,1 0,-2A2,2 0 0,1 2,0Z\" style=\"opacity: 1; stroke-width: 0px; fill: rgb(135, 206, 250); fill-opacity: 1;\"/><path class=\"point\" transform=\"translate(55.69,253.1)\" d=\"M2,0A2,2 0 1,1 0,-2A2,2 0 0,1 2,0Z\" style=\"opacity: 1; stroke-width: 0px; fill: rgb(135, 206, 250); fill-opacity: 1;\"/><path class=\"point\" transform=\"translate(56.09,253.24)\" d=\"M2,0A2,2 0 1,1 0,-2A2,2 0 0,1 2,0Z\" style=\"opacity: 1; stroke-width: 0px; fill: rgb(135, 206, 250); fill-opacity: 1;\"/><path class=\"point\" transform=\"translate(56.49,253.13)\" d=\"M2,0A2,2 0 1,1 0,-2A2,2 0 0,1 2,0Z\" style=\"opacity: 1; stroke-width: 0px; fill: rgb(135, 206, 250); fill-opacity: 1;\"/><path class=\"point\" transform=\"translate(56.89,253.1)\" d=\"M2,0A2,2 0 1,1 0,-2A2,2 0 0,1 2,0Z\" style=\"opacity: 1; stroke-width: 0px; fill: rgb(135, 206, 250); fill-opacity: 1;\"/><path class=\"point\" transform=\"translate(57.29,251.18)\" d=\"M2,0A2,2 0 1,1 0,-2A2,2 0 0,1 2,0Z\" style=\"opacity: 1; stroke-width: 0px; fill: rgb(135, 206, 250); fill-opacity: 1;\"/><path class=\"point\" transform=\"translate(57.69,250.44)\" d=\"M2,0A2,2 0 1,1 0,-2A2,2 0 0,1 2,0Z\" style=\"opacity: 1; stroke-width: 0px; fill: rgb(135, 206, 250); fill-opacity: 1;\"/><path class=\"point\" transform=\"translate(58.09,252.08)\" d=\"M2,0A2,2 0 1,1 0,-2A2,2 0 0,1 2,0Z\" style=\"opacity: 1; stroke-width: 0px; fill: rgb(135, 206, 250); fill-opacity: 1;\"/><path class=\"point\" transform=\"translate(58.49,251.84)\" d=\"M2,0A2,2 0 1,1 0,-2A2,2 0 0,1 2,0Z\" style=\"opacity: 1; stroke-width: 0px; fill: rgb(135, 206, 250); fill-opacity: 1;\"/><path class=\"point\" transform=\"translate(58.9,253.4)\" d=\"M2,0A2,2 0 1,1 0,-2A2,2 0 0,1 2,0Z\" style=\"opacity: 1; stroke-width: 0px; fill: rgb(135, 206, 250); fill-opacity: 1;\"/><path class=\"point\" transform=\"translate(59.3,248.81)\" d=\"M2,0A2,2 0 1,1 0,-2A2,2 0 0,1 2,0Z\" style=\"opacity: 1; stroke-width: 0px; fill: rgb(135, 206, 250); fill-opacity: 1;\"/><path class=\"point\" transform=\"translate(59.7,253.38)\" d=\"M2,0A2,2 0 1,1 0,-2A2,2 0 0,1 2,0Z\" style=\"opacity: 1; stroke-width: 0px; fill: rgb(135, 206, 250); fill-opacity: 1;\"/><path class=\"point\" transform=\"translate(60.1,253.37)\" d=\"M2,0A2,2 0 1,1 0,-2A2,2 0 0,1 2,0Z\" style=\"opacity: 1; stroke-width: 0px; fill: rgb(135, 206, 250); fill-opacity: 1;\"/><path class=\"point\" transform=\"translate(60.5,252.81)\" d=\"M2,0A2,2 0 1,1 0,-2A2,2 0 0,1 2,0Z\" style=\"opacity: 1; stroke-width: 0px; fill: rgb(135, 206, 250); fill-opacity: 1;\"/><path class=\"point\" transform=\"translate(60.9,248.36)\" d=\"M2,0A2,2 0 1,1 0,-2A2,2 0 0,1 2,0Z\" style=\"opacity: 1; stroke-width: 0px; fill: rgb(135, 206, 250); fill-opacity: 1;\"/><path class=\"point\" transform=\"translate(61.3,247.02)\" d=\"M2,0A2,2 0 1,1 0,-2A2,2 0 0,1 2,0Z\" style=\"opacity: 1; stroke-width: 0px; fill: rgb(135, 206, 250); fill-opacity: 1;\"/><path class=\"point\" transform=\"translate(61.71,253.11)\" d=\"M2,0A2,2 0 1,1 0,-2A2,2 0 0,1 2,0Z\" style=\"opacity: 1; stroke-width: 0px; fill: rgb(135, 206, 250); fill-opacity: 1;\"/><path class=\"point\" transform=\"translate(62.11,253.18)\" d=\"M2,0A2,2 0 1,1 0,-2A2,2 0 0,1 2,0Z\" style=\"opacity: 1; stroke-width: 0px; fill: rgb(135, 206, 250); fill-opacity: 1;\"/><path class=\"point\" transform=\"translate(62.51,252.65)\" d=\"M2,0A2,2 0 1,1 0,-2A2,2 0 0,1 2,0Z\" style=\"opacity: 1; stroke-width: 0px; fill: rgb(135, 206, 250); fill-opacity: 1;\"/><path class=\"point\" transform=\"translate(62.91,252.7)\" d=\"M2,0A2,2 0 1,1 0,-2A2,2 0 0,1 2,0Z\" style=\"opacity: 1; stroke-width: 0px; fill: rgb(135, 206, 250); fill-opacity: 1;\"/><path class=\"point\" transform=\"translate(63.31,252.87)\" d=\"M2,0A2,2 0 1,1 0,-2A2,2 0 0,1 2,0Z\" style=\"opacity: 1; stroke-width: 0px; fill: rgb(135, 206, 250); fill-opacity: 1;\"/><path class=\"point\" transform=\"translate(63.71,253.4)\" d=\"M2,0A2,2 0 1,1 0,-2A2,2 0 0,1 2,0Z\" style=\"opacity: 1; stroke-width: 0px; fill: rgb(135, 206, 250); fill-opacity: 1;\"/><path class=\"point\" transform=\"translate(64.11,251.54)\" d=\"M2,0A2,2 0 1,1 0,-2A2,2 0 0,1 2,0Z\" style=\"opacity: 1; stroke-width: 0px; fill: rgb(135, 206, 250); fill-opacity: 1;\"/><path class=\"point\" transform=\"translate(64.52,253.3)\" d=\"M2,0A2,2 0 1,1 0,-2A2,2 0 0,1 2,0Z\" style=\"opacity: 1; stroke-width: 0px; fill: rgb(135, 206, 250); fill-opacity: 1;\"/><path class=\"point\" transform=\"translate(64.92,253.45)\" d=\"M2,0A2,2 0 1,1 0,-2A2,2 0 0,1 2,0Z\" style=\"opacity: 1; stroke-width: 0px; fill: rgb(135, 206, 250); fill-opacity: 1;\"/><path class=\"point\" transform=\"translate(65.32,253.48)\" d=\"M2,0A2,2 0 1,1 0,-2A2,2 0 0,1 2,0Z\" style=\"opacity: 1; stroke-width: 0px; fill: rgb(135, 206, 250); fill-opacity: 1;\"/><path class=\"point\" transform=\"translate(65.72,253.17)\" d=\"M2,0A2,2 0 1,1 0,-2A2,2 0 0,1 2,0Z\" style=\"opacity: 1; stroke-width: 0px; fill: rgb(135, 206, 250); fill-opacity: 1;\"/><path class=\"point\" transform=\"translate(66.12,253.27)\" d=\"M2,0A2,2 0 1,1 0,-2A2,2 0 0,1 2,0Z\" style=\"opacity: 1; stroke-width: 0px; fill: rgb(135, 206, 250); fill-opacity: 1;\"/><path class=\"point\" transform=\"translate(66.52,250.66)\" d=\"M2,0A2,2 0 1,1 0,-2A2,2 0 0,1 2,0Z\" style=\"opacity: 1; stroke-width: 0px; fill: rgb(135, 206, 250); fill-opacity: 1;\"/><path class=\"point\" transform=\"translate(66.92,253.2)\" d=\"M2,0A2,2 0 1,1 0,-2A2,2 0 0,1 2,0Z\" style=\"opacity: 1; stroke-width: 0px; fill: rgb(135, 206, 250); fill-opacity: 1;\"/><path class=\"point\" transform=\"translate(67.32,249.28)\" d=\"M2,0A2,2 0 1,1 0,-2A2,2 0 0,1 2,0Z\" style=\"opacity: 1; stroke-width: 0px; fill: rgb(135, 206, 250); fill-opacity: 1;\"/><path class=\"point\" transform=\"translate(67.73,252.56)\" d=\"M2,0A2,2 0 1,1 0,-2A2,2 0 0,1 2,0Z\" style=\"opacity: 1; stroke-width: 0px; fill: rgb(135, 206, 250); fill-opacity: 1;\"/><path class=\"point\" transform=\"translate(68.13,253.35)\" d=\"M2,0A2,2 0 1,1 0,-2A2,2 0 0,1 2,0Z\" style=\"opacity: 1; stroke-width: 0px; fill: rgb(135, 206, 250); fill-opacity: 1;\"/><path class=\"point\" transform=\"translate(68.53,252.07)\" d=\"M2,0A2,2 0 1,1 0,-2A2,2 0 0,1 2,0Z\" style=\"opacity: 1; stroke-width: 0px; fill: rgb(135, 206, 250); fill-opacity: 1;\"/><path class=\"point\" transform=\"translate(68.93,252.62)\" d=\"M2,0A2,2 0 1,1 0,-2A2,2 0 0,1 2,0Z\" style=\"opacity: 1; stroke-width: 0px; fill: rgb(135, 206, 250); fill-opacity: 1;\"/><path class=\"point\" transform=\"translate(69.33,252.37)\" d=\"M2,0A2,2 0 1,1 0,-2A2,2 0 0,1 2,0Z\" style=\"opacity: 1; stroke-width: 0px; fill: rgb(135, 206, 250); fill-opacity: 1;\"/><path class=\"point\" transform=\"translate(69.73,253.46)\" d=\"M2,0A2,2 0 1,1 0,-2A2,2 0 0,1 2,0Z\" style=\"opacity: 1; stroke-width: 0px; fill: rgb(135, 206, 250); fill-opacity: 1;\"/><path class=\"point\" transform=\"translate(70.13,252.99)\" d=\"M2,0A2,2 0 1,1 0,-2A2,2 0 0,1 2,0Z\" style=\"opacity: 1; stroke-width: 0px; fill: rgb(135, 206, 250); fill-opacity: 1;\"/><path class=\"point\" transform=\"translate(70.54,253.13)\" d=\"M2,0A2,2 0 1,1 0,-2A2,2 0 0,1 2,0Z\" style=\"opacity: 1; stroke-width: 0px; fill: rgb(135, 206, 250); fill-opacity: 1;\"/><path class=\"point\" transform=\"translate(70.94,253.03)\" d=\"M2,0A2,2 0 1,1 0,-2A2,2 0 0,1 2,0Z\" style=\"opacity: 1; stroke-width: 0px; fill: rgb(135, 206, 250); fill-opacity: 1;\"/><path class=\"point\" transform=\"translate(71.34,253.1)\" d=\"M2,0A2,2 0 1,1 0,-2A2,2 0 0,1 2,0Z\" style=\"opacity: 1; stroke-width: 0px; fill: rgb(135, 206, 250); fill-opacity: 1;\"/><path class=\"point\" transform=\"translate(71.74,250.71)\" d=\"M2,0A2,2 0 1,1 0,-2A2,2 0 0,1 2,0Z\" style=\"opacity: 1; stroke-width: 0px; fill: rgb(135, 206, 250); fill-opacity: 1;\"/><path class=\"point\" transform=\"translate(72.14,253.37)\" d=\"M2,0A2,2 0 1,1 0,-2A2,2 0 0,1 2,0Z\" style=\"opacity: 1; stroke-width: 0px; fill: rgb(135, 206, 250); fill-opacity: 1;\"/><path class=\"point\" transform=\"translate(72.54,252.65)\" d=\"M2,0A2,2 0 1,1 0,-2A2,2 0 0,1 2,0Z\" style=\"opacity: 1; stroke-width: 0px; fill: rgb(135, 206, 250); fill-opacity: 1;\"/><path class=\"point\" transform=\"translate(72.94,252.17)\" d=\"M2,0A2,2 0 1,1 0,-2A2,2 0 0,1 2,0Z\" style=\"opacity: 1; stroke-width: 0px; fill: rgb(135, 206, 250); fill-opacity: 1;\"/><path class=\"point\" transform=\"translate(73.34,252.57)\" d=\"M2,0A2,2 0 1,1 0,-2A2,2 0 0,1 2,0Z\" style=\"opacity: 1; stroke-width: 0px; fill: rgb(135, 206, 250); fill-opacity: 1;\"/><path class=\"point\" transform=\"translate(73.75,252.71)\" d=\"M2,0A2,2 0 1,1 0,-2A2,2 0 0,1 2,0Z\" style=\"opacity: 1; stroke-width: 0px; fill: rgb(135, 206, 250); fill-opacity: 1;\"/><path class=\"point\" transform=\"translate(74.15,252.4)\" d=\"M2,0A2,2 0 1,1 0,-2A2,2 0 0,1 2,0Z\" style=\"opacity: 1; stroke-width: 0px; fill: rgb(135, 206, 250); fill-opacity: 1;\"/><path class=\"point\" transform=\"translate(74.55,251.2)\" d=\"M2,0A2,2 0 1,1 0,-2A2,2 0 0,1 2,0Z\" style=\"opacity: 1; stroke-width: 0px; fill: rgb(135, 206, 250); fill-opacity: 1;\"/><path class=\"point\" transform=\"translate(74.95,252.16)\" d=\"M2,0A2,2 0 1,1 0,-2A2,2 0 0,1 2,0Z\" style=\"opacity: 1; stroke-width: 0px; fill: rgb(135, 206, 250); fill-opacity: 1;\"/><path class=\"point\" transform=\"translate(75.35,253.25)\" d=\"M2,0A2,2 0 1,1 0,-2A2,2 0 0,1 2,0Z\" style=\"opacity: 1; stroke-width: 0px; fill: rgb(135, 206, 250); fill-opacity: 1;\"/><path class=\"point\" transform=\"translate(75.75,252.58)\" d=\"M2,0A2,2 0 1,1 0,-2A2,2 0 0,1 2,0Z\" style=\"opacity: 1; stroke-width: 0px; fill: rgb(135, 206, 250); fill-opacity: 1;\"/><path class=\"point\" transform=\"translate(76.15,253.48)\" d=\"M2,0A2,2 0 1,1 0,-2A2,2 0 0,1 2,0Z\" style=\"opacity: 1; stroke-width: 0px; fill: rgb(135, 206, 250); fill-opacity: 1;\"/><path class=\"point\" transform=\"translate(76.56,252.52)\" d=\"M2,0A2,2 0 1,1 0,-2A2,2 0 0,1 2,0Z\" style=\"opacity: 1; stroke-width: 0px; fill: rgb(135, 206, 250); fill-opacity: 1;\"/><path class=\"point\" transform=\"translate(76.96,253.39)\" d=\"M2,0A2,2 0 1,1 0,-2A2,2 0 0,1 2,0Z\" style=\"opacity: 1; stroke-width: 0px; fill: rgb(135, 206, 250); fill-opacity: 1;\"/><path class=\"point\" transform=\"translate(77.36,252.97)\" d=\"M2,0A2,2 0 1,1 0,-2A2,2 0 0,1 2,0Z\" style=\"opacity: 1; stroke-width: 0px; fill: rgb(135, 206, 250); fill-opacity: 1;\"/><path class=\"point\" transform=\"translate(77.76,252.8)\" d=\"M2,0A2,2 0 1,1 0,-2A2,2 0 0,1 2,0Z\" style=\"opacity: 1; stroke-width: 0px; fill: rgb(135, 206, 250); fill-opacity: 1;\"/><path class=\"point\" transform=\"translate(78.16,252.8)\" d=\"M2,0A2,2 0 1,1 0,-2A2,2 0 0,1 2,0Z\" style=\"opacity: 1; stroke-width: 0px; fill: rgb(135, 206, 250); fill-opacity: 1;\"/><path class=\"point\" transform=\"translate(78.56,253.33)\" d=\"M2,0A2,2 0 1,1 0,-2A2,2 0 0,1 2,0Z\" style=\"opacity: 1; stroke-width: 0px; fill: rgb(135, 206, 250); fill-opacity: 1;\"/><path class=\"point\" transform=\"translate(78.96,251.54)\" d=\"M2,0A2,2 0 1,1 0,-2A2,2 0 0,1 2,0Z\" style=\"opacity: 1; stroke-width: 0px; fill: rgb(135, 206, 250); fill-opacity: 1;\"/><path class=\"point\" transform=\"translate(79.36,253.28)\" d=\"M2,0A2,2 0 1,1 0,-2A2,2 0 0,1 2,0Z\" style=\"opacity: 1; stroke-width: 0px; fill: rgb(135, 206, 250); fill-opacity: 1;\"/><path class=\"point\" transform=\"translate(79.77,252.8)\" d=\"M2,0A2,2 0 1,1 0,-2A2,2 0 0,1 2,0Z\" style=\"opacity: 1; stroke-width: 0px; fill: rgb(135, 206, 250); fill-opacity: 1;\"/><path class=\"point\" transform=\"translate(80.17,252.24)\" d=\"M2,0A2,2 0 1,1 0,-2A2,2 0 0,1 2,0Z\" style=\"opacity: 1; stroke-width: 0px; fill: rgb(135, 206, 250); fill-opacity: 1;\"/><path class=\"point\" transform=\"translate(80.57,252.7)\" d=\"M2,0A2,2 0 1,1 0,-2A2,2 0 0,1 2,0Z\" style=\"opacity: 1; stroke-width: 0px; fill: rgb(135, 206, 250); fill-opacity: 1;\"/><path class=\"point\" transform=\"translate(80.97,252.01)\" d=\"M2,0A2,2 0 1,1 0,-2A2,2 0 0,1 2,0Z\" style=\"opacity: 1; stroke-width: 0px; fill: rgb(135, 206, 250); fill-opacity: 1;\"/><path class=\"point\" transform=\"translate(81.37,252.48)\" d=\"M2,0A2,2 0 1,1 0,-2A2,2 0 0,1 2,0Z\" style=\"opacity: 1; stroke-width: 0px; fill: rgb(135, 206, 250); fill-opacity: 1;\"/><path class=\"point\" transform=\"translate(81.77,253.02)\" d=\"M2,0A2,2 0 1,1 0,-2A2,2 0 0,1 2,0Z\" style=\"opacity: 1; stroke-width: 0px; fill: rgb(135, 206, 250); fill-opacity: 1;\"/><path class=\"point\" transform=\"translate(82.17,252.53)\" d=\"M2,0A2,2 0 1,1 0,-2A2,2 0 0,1 2,0Z\" style=\"opacity: 1; stroke-width: 0px; fill: rgb(135, 206, 250); fill-opacity: 1;\"/><path class=\"point\" transform=\"translate(82.58,244.93)\" d=\"M2,0A2,2 0 1,1 0,-2A2,2 0 0,1 2,0Z\" style=\"opacity: 1; stroke-width: 0px; fill: rgb(135, 206, 250); fill-opacity: 1;\"/><path class=\"point\" transform=\"translate(82.98,252.41)\" d=\"M2,0A2,2 0 1,1 0,-2A2,2 0 0,1 2,0Z\" style=\"opacity: 1; stroke-width: 0px; fill: rgb(135, 206, 250); fill-opacity: 1;\"/><path class=\"point\" transform=\"translate(83.38,252.68)\" d=\"M2,0A2,2 0 1,1 0,-2A2,2 0 0,1 2,0Z\" style=\"opacity: 1; stroke-width: 0px; fill: rgb(135, 206, 250); fill-opacity: 1;\"/><path class=\"point\" transform=\"translate(83.78,252.4)\" d=\"M2,0A2,2 0 1,1 0,-2A2,2 0 0,1 2,0Z\" style=\"opacity: 1; stroke-width: 0px; fill: rgb(135, 206, 250); fill-opacity: 1;\"/><path class=\"point\" transform=\"translate(84.18,252.28)\" d=\"M2,0A2,2 0 1,1 0,-2A2,2 0 0,1 2,0Z\" style=\"opacity: 1; stroke-width: 0px; fill: rgb(135, 206, 250); fill-opacity: 1;\"/><path class=\"point\" transform=\"translate(84.58,253.44)\" d=\"M2,0A2,2 0 1,1 0,-2A2,2 0 0,1 2,0Z\" style=\"opacity: 1; stroke-width: 0px; fill: rgb(135, 206, 250); fill-opacity: 1;\"/><path class=\"point\" transform=\"translate(84.98,248.97)\" d=\"M2,0A2,2 0 1,1 0,-2A2,2 0 0,1 2,0Z\" style=\"opacity: 1; stroke-width: 0px; fill: rgb(135, 206, 250); fill-opacity: 1;\"/><path class=\"point\" transform=\"translate(85.38,253.45)\" d=\"M2,0A2,2 0 1,1 0,-2A2,2 0 0,1 2,0Z\" style=\"opacity: 1; stroke-width: 0px; fill: rgb(135, 206, 250); fill-opacity: 1;\"/><path class=\"point\" transform=\"translate(85.79,252.24)\" d=\"M2,0A2,2 0 1,1 0,-2A2,2 0 0,1 2,0Z\" style=\"opacity: 1; stroke-width: 0px; fill: rgb(135, 206, 250); fill-opacity: 1;\"/><path class=\"point\" transform=\"translate(86.19,253.32)\" d=\"M2,0A2,2 0 1,1 0,-2A2,2 0 0,1 2,0Z\" style=\"opacity: 1; stroke-width: 0px; fill: rgb(135, 206, 250); fill-opacity: 1;\"/><path class=\"point\" transform=\"translate(86.59,253.46)\" d=\"M2,0A2,2 0 1,1 0,-2A2,2 0 0,1 2,0Z\" style=\"opacity: 1; stroke-width: 0px; fill: rgb(135, 206, 250); fill-opacity: 1;\"/><path class=\"point\" transform=\"translate(86.99,253.27)\" d=\"M2,0A2,2 0 1,1 0,-2A2,2 0 0,1 2,0Z\" style=\"opacity: 1; stroke-width: 0px; fill: rgb(135, 206, 250); fill-opacity: 1;\"/><path class=\"point\" transform=\"translate(87.39,252.5)\" d=\"M2,0A2,2 0 1,1 0,-2A2,2 0 0,1 2,0Z\" style=\"opacity: 1; stroke-width: 0px; fill: rgb(135, 206, 250); fill-opacity: 1;\"/><path class=\"point\" transform=\"translate(87.79,253.07)\" d=\"M2,0A2,2 0 1,1 0,-2A2,2 0 0,1 2,0Z\" style=\"opacity: 1; stroke-width: 0px; fill: rgb(135, 206, 250); fill-opacity: 1;\"/><path class=\"point\" transform=\"translate(88.19,252.11)\" d=\"M2,0A2,2 0 1,1 0,-2A2,2 0 0,1 2,0Z\" style=\"opacity: 1; stroke-width: 0px; fill: rgb(135, 206, 250); fill-opacity: 1;\"/><path class=\"point\" transform=\"translate(88.6,253.03)\" d=\"M2,0A2,2 0 1,1 0,-2A2,2 0 0,1 2,0Z\" style=\"opacity: 1; stroke-width: 0px; fill: rgb(135, 206, 250); fill-opacity: 1;\"/><path class=\"point\" transform=\"translate(89,253.35)\" d=\"M2,0A2,2 0 1,1 0,-2A2,2 0 0,1 2,0Z\" style=\"opacity: 1; stroke-width: 0px; fill: rgb(135, 206, 250); fill-opacity: 1;\"/><path class=\"point\" transform=\"translate(89.4,253.46)\" d=\"M2,0A2,2 0 1,1 0,-2A2,2 0 0,1 2,0Z\" style=\"opacity: 1; stroke-width: 0px; fill: rgb(135, 206, 250); fill-opacity: 1;\"/><path class=\"point\" transform=\"translate(89.8,252)\" d=\"M2,0A2,2 0 1,1 0,-2A2,2 0 0,1 2,0Z\" style=\"opacity: 1; stroke-width: 0px; fill: rgb(135, 206, 250); fill-opacity: 1;\"/><path class=\"point\" transform=\"translate(90.2,253.04)\" d=\"M2,0A2,2 0 1,1 0,-2A2,2 0 0,1 2,0Z\" style=\"opacity: 1; stroke-width: 0px; fill: rgb(135, 206, 250); fill-opacity: 1;\"/><path class=\"point\" transform=\"translate(90.6,253.44)\" d=\"M2,0A2,2 0 1,1 0,-2A2,2 0 0,1 2,0Z\" style=\"opacity: 1; stroke-width: 0px; fill: rgb(135, 206, 250); fill-opacity: 1;\"/><path class=\"point\" transform=\"translate(91,251.92)\" d=\"M2,0A2,2 0 1,1 0,-2A2,2 0 0,1 2,0Z\" style=\"opacity: 1; stroke-width: 0px; fill: rgb(135, 206, 250); fill-opacity: 1;\"/><path class=\"point\" transform=\"translate(91.4,253.22)\" d=\"M2,0A2,2 0 1,1 0,-2A2,2 0 0,1 2,0Z\" style=\"opacity: 1; stroke-width: 0px; fill: rgb(135, 206, 250); fill-opacity: 1;\"/><path class=\"point\" transform=\"translate(91.81,252.72)\" d=\"M2,0A2,2 0 1,1 0,-2A2,2 0 0,1 2,0Z\" style=\"opacity: 1; stroke-width: 0px; fill: rgb(135, 206, 250); fill-opacity: 1;\"/><path class=\"point\" transform=\"translate(92.21,252.91)\" d=\"M2,0A2,2 0 1,1 0,-2A2,2 0 0,1 2,0Z\" style=\"opacity: 1; stroke-width: 0px; fill: rgb(135, 206, 250); fill-opacity: 1;\"/><path class=\"point\" transform=\"translate(92.61,252.22)\" d=\"M2,0A2,2 0 1,1 0,-2A2,2 0 0,1 2,0Z\" style=\"opacity: 1; stroke-width: 0px; fill: rgb(135, 206, 250); fill-opacity: 1;\"/><path class=\"point\" transform=\"translate(93.01,253.44)\" d=\"M2,0A2,2 0 1,1 0,-2A2,2 0 0,1 2,0Z\" style=\"opacity: 1; stroke-width: 0px; fill: rgb(135, 206, 250); fill-opacity: 1;\"/><path class=\"point\" transform=\"translate(93.41,251.6)\" d=\"M2,0A2,2 0 1,1 0,-2A2,2 0 0,1 2,0Z\" style=\"opacity: 1; stroke-width: 0px; fill: rgb(135, 206, 250); fill-opacity: 1;\"/><path class=\"point\" transform=\"translate(93.81,253.35)\" d=\"M2,0A2,2 0 1,1 0,-2A2,2 0 0,1 2,0Z\" style=\"opacity: 1; stroke-width: 0px; fill: rgb(135, 206, 250); fill-opacity: 1;\"/><path class=\"point\" transform=\"translate(94.21,250.5)\" d=\"M2,0A2,2 0 1,1 0,-2A2,2 0 0,1 2,0Z\" style=\"opacity: 1; stroke-width: 0px; fill: rgb(135, 206, 250); fill-opacity: 1;\"/><path class=\"point\" transform=\"translate(94.62,252.49)\" d=\"M2,0A2,2 0 1,1 0,-2A2,2 0 0,1 2,0Z\" style=\"opacity: 1; stroke-width: 0px; fill: rgb(135, 206, 250); fill-opacity: 1;\"/><path class=\"point\" transform=\"translate(95.02,253.19)\" d=\"M2,0A2,2 0 1,1 0,-2A2,2 0 0,1 2,0Z\" style=\"opacity: 1; stroke-width: 0px; fill: rgb(135, 206, 250); fill-opacity: 1;\"/><path class=\"point\" transform=\"translate(95.42,253.4)\" d=\"M2,0A2,2 0 1,1 0,-2A2,2 0 0,1 2,0Z\" style=\"opacity: 1; stroke-width: 0px; fill: rgb(135, 206, 250); fill-opacity: 1;\"/><path class=\"point\" transform=\"translate(95.82,253.28)\" d=\"M2,0A2,2 0 1,1 0,-2A2,2 0 0,1 2,0Z\" style=\"opacity: 1; stroke-width: 0px; fill: rgb(135, 206, 250); fill-opacity: 1;\"/><path class=\"point\" transform=\"translate(96.22,252.4)\" d=\"M2,0A2,2 0 1,1 0,-2A2,2 0 0,1 2,0Z\" style=\"opacity: 1; stroke-width: 0px; fill: rgb(135, 206, 250); fill-opacity: 1;\"/><path class=\"point\" transform=\"translate(96.62,253.44)\" d=\"M2,0A2,2 0 1,1 0,-2A2,2 0 0,1 2,0Z\" style=\"opacity: 1; stroke-width: 0px; fill: rgb(135, 206, 250); fill-opacity: 1;\"/><path class=\"point\" transform=\"translate(97.02,253.34)\" d=\"M2,0A2,2 0 1,1 0,-2A2,2 0 0,1 2,0Z\" style=\"opacity: 1; stroke-width: 0px; fill: rgb(135, 206, 250); fill-opacity: 1;\"/><path class=\"point\" transform=\"translate(97.42,253.22)\" d=\"M2,0A2,2 0 1,1 0,-2A2,2 0 0,1 2,0Z\" style=\"opacity: 1; stroke-width: 0px; fill: rgb(135, 206, 250); fill-opacity: 1;\"/><path class=\"point\" transform=\"translate(97.83,253.2)\" d=\"M2,0A2,2 0 1,1 0,-2A2,2 0 0,1 2,0Z\" style=\"opacity: 1; stroke-width: 0px; fill: rgb(135, 206, 250); fill-opacity: 1;\"/><path class=\"point\" transform=\"translate(98.23,252.94)\" d=\"M2,0A2,2 0 1,1 0,-2A2,2 0 0,1 2,0Z\" style=\"opacity: 1; stroke-width: 0px; fill: rgb(135, 206, 250); fill-opacity: 1;\"/><path class=\"point\" transform=\"translate(98.63,252.98)\" d=\"M2,0A2,2 0 1,1 0,-2A2,2 0 0,1 2,0Z\" style=\"opacity: 1; stroke-width: 0px; fill: rgb(135, 206, 250); fill-opacity: 1;\"/><path class=\"point\" transform=\"translate(99.03,252.64)\" d=\"M2,0A2,2 0 1,1 0,-2A2,2 0 0,1 2,0Z\" style=\"opacity: 1; stroke-width: 0px; fill: rgb(135, 206, 250); fill-opacity: 1;\"/><path class=\"point\" transform=\"translate(99.43,247.44)\" d=\"M2,0A2,2 0 1,1 0,-2A2,2 0 0,1 2,0Z\" style=\"opacity: 1; stroke-width: 0px; fill: rgb(135, 206, 250); fill-opacity: 1;\"/><path class=\"point\" transform=\"translate(99.83,253.06)\" d=\"M2,0A2,2 0 1,1 0,-2A2,2 0 0,1 2,0Z\" style=\"opacity: 1; stroke-width: 0px; fill: rgb(135, 206, 250); fill-opacity: 1;\"/><path class=\"point\" transform=\"translate(100.23,253.02)\" d=\"M2,0A2,2 0 1,1 0,-2A2,2 0 0,1 2,0Z\" style=\"opacity: 1; stroke-width: 0px; fill: rgb(135, 206, 250); fill-opacity: 1;\"/><path class=\"point\" transform=\"translate(100.64,253.35)\" d=\"M2,0A2,2 0 1,1 0,-2A2,2 0 0,1 2,0Z\" style=\"opacity: 1; stroke-width: 0px; fill: rgb(135, 206, 250); fill-opacity: 1;\"/><path class=\"point\" transform=\"translate(101.04,253.07)\" d=\"M2,0A2,2 0 1,1 0,-2A2,2 0 0,1 2,0Z\" style=\"opacity: 1; stroke-width: 0px; fill: rgb(135, 206, 250); fill-opacity: 1;\"/><path class=\"point\" transform=\"translate(101.44,253)\" d=\"M2,0A2,2 0 1,1 0,-2A2,2 0 0,1 2,0Z\" style=\"opacity: 1; stroke-width: 0px; fill: rgb(135, 206, 250); fill-opacity: 1;\"/><path class=\"point\" transform=\"translate(101.84,253.46)\" d=\"M2,0A2,2 0 1,1 0,-2A2,2 0 0,1 2,0Z\" style=\"opacity: 1; stroke-width: 0px; fill: rgb(135, 206, 250); fill-opacity: 1;\"/><path class=\"point\" transform=\"translate(102.24,253.18)\" d=\"M2,0A2,2 0 1,1 0,-2A2,2 0 0,1 2,0Z\" style=\"opacity: 1; stroke-width: 0px; fill: rgb(135, 206, 250); fill-opacity: 1;\"/><path class=\"point\" transform=\"translate(102.64,252.96)\" d=\"M2,0A2,2 0 1,1 0,-2A2,2 0 0,1 2,0Z\" style=\"opacity: 1; stroke-width: 0px; fill: rgb(135, 206, 250); fill-opacity: 1;\"/><path class=\"point\" transform=\"translate(103.04,253.38)\" d=\"M2,0A2,2 0 1,1 0,-2A2,2 0 0,1 2,0Z\" style=\"opacity: 1; stroke-width: 0px; fill: rgb(135, 206, 250); fill-opacity: 1;\"/><path class=\"point\" transform=\"translate(103.44,252.59)\" d=\"M2,0A2,2 0 1,1 0,-2A2,2 0 0,1 2,0Z\" style=\"opacity: 1; stroke-width: 0px; fill: rgb(135, 206, 250); fill-opacity: 1;\"/><path class=\"point\" transform=\"translate(103.85,252.78)\" d=\"M2,0A2,2 0 1,1 0,-2A2,2 0 0,1 2,0Z\" style=\"opacity: 1; stroke-width: 0px; fill: rgb(135, 206, 250); fill-opacity: 1;\"/><path class=\"point\" transform=\"translate(104.25,253.22)\" d=\"M2,0A2,2 0 1,1 0,-2A2,2 0 0,1 2,0Z\" style=\"opacity: 1; stroke-width: 0px; fill: rgb(135, 206, 250); fill-opacity: 1;\"/><path class=\"point\" transform=\"translate(104.65,252.95)\" d=\"M2,0A2,2 0 1,1 0,-2A2,2 0 0,1 2,0Z\" style=\"opacity: 1; stroke-width: 0px; fill: rgb(135, 206, 250); fill-opacity: 1;\"/><path class=\"point\" transform=\"translate(105.05,253.26)\" d=\"M2,0A2,2 0 1,1 0,-2A2,2 0 0,1 2,0Z\" style=\"opacity: 1; stroke-width: 0px; fill: rgb(135, 206, 250); fill-opacity: 1;\"/><path class=\"point\" transform=\"translate(105.45,250.65)\" d=\"M2,0A2,2 0 1,1 0,-2A2,2 0 0,1 2,0Z\" style=\"opacity: 1; stroke-width: 0px; fill: rgb(135, 206, 250); fill-opacity: 1;\"/><path class=\"point\" transform=\"translate(105.85,253.46)\" d=\"M2,0A2,2 0 1,1 0,-2A2,2 0 0,1 2,0Z\" style=\"opacity: 1; stroke-width: 0px; fill: rgb(135, 206, 250); fill-opacity: 1;\"/><path class=\"point\" transform=\"translate(106.25,252.4)\" d=\"M2,0A2,2 0 1,1 0,-2A2,2 0 0,1 2,0Z\" style=\"opacity: 1; stroke-width: 0px; fill: rgb(135, 206, 250); fill-opacity: 1;\"/><path class=\"point\" transform=\"translate(106.66,253.24)\" d=\"M2,0A2,2 0 1,1 0,-2A2,2 0 0,1 2,0Z\" style=\"opacity: 1; stroke-width: 0px; fill: rgb(135, 206, 250); fill-opacity: 1;\"/><path class=\"point\" transform=\"translate(107.06,253.37)\" d=\"M2,0A2,2 0 1,1 0,-2A2,2 0 0,1 2,0Z\" style=\"opacity: 1; stroke-width: 0px; fill: rgb(135, 206, 250); fill-opacity: 1;\"/><path class=\"point\" transform=\"translate(107.46,252.65)\" d=\"M2,0A2,2 0 1,1 0,-2A2,2 0 0,1 2,0Z\" style=\"opacity: 1; stroke-width: 0px; fill: rgb(135, 206, 250); fill-opacity: 1;\"/><path class=\"point\" transform=\"translate(107.86,251.74)\" d=\"M2,0A2,2 0 1,1 0,-2A2,2 0 0,1 2,0Z\" style=\"opacity: 1; stroke-width: 0px; fill: rgb(135, 206, 250); fill-opacity: 1;\"/><path class=\"point\" transform=\"translate(108.26,253.48)\" d=\"M2,0A2,2 0 1,1 0,-2A2,2 0 0,1 2,0Z\" style=\"opacity: 1; stroke-width: 0px; fill: rgb(135, 206, 250); fill-opacity: 1;\"/><path class=\"point\" transform=\"translate(108.66,253.09)\" d=\"M2,0A2,2 0 1,1 0,-2A2,2 0 0,1 2,0Z\" style=\"opacity: 1; stroke-width: 0px; fill: rgb(135, 206, 250); fill-opacity: 1;\"/><path class=\"point\" transform=\"translate(109.06,253.15)\" d=\"M2,0A2,2 0 1,1 0,-2A2,2 0 0,1 2,0Z\" style=\"opacity: 1; stroke-width: 0px; fill: rgb(135, 206, 250); fill-opacity: 1;\"/><path class=\"point\" transform=\"translate(109.46,253.24)\" d=\"M2,0A2,2 0 1,1 0,-2A2,2 0 0,1 2,0Z\" style=\"opacity: 1; stroke-width: 0px; fill: rgb(135, 206, 250); fill-opacity: 1;\"/><path class=\"point\" transform=\"translate(109.87,253.16)\" d=\"M2,0A2,2 0 1,1 0,-2A2,2 0 0,1 2,0Z\" style=\"opacity: 1; stroke-width: 0px; fill: rgb(135, 206, 250); fill-opacity: 1;\"/><path class=\"point\" transform=\"translate(110.27,253.06)\" d=\"M2,0A2,2 0 1,1 0,-2A2,2 0 0,1 2,0Z\" style=\"opacity: 1; stroke-width: 0px; fill: rgb(135, 206, 250); fill-opacity: 1;\"/><path class=\"point\" transform=\"translate(110.67,253.22)\" d=\"M2,0A2,2 0 1,1 0,-2A2,2 0 0,1 2,0Z\" style=\"opacity: 1; stroke-width: 0px; fill: rgb(135, 206, 250); fill-opacity: 1;\"/><path class=\"point\" transform=\"translate(111.07,253.27)\" d=\"M2,0A2,2 0 1,1 0,-2A2,2 0 0,1 2,0Z\" style=\"opacity: 1; stroke-width: 0px; fill: rgb(135, 206, 250); fill-opacity: 1;\"/><path class=\"point\" transform=\"translate(111.47,251.94)\" d=\"M2,0A2,2 0 1,1 0,-2A2,2 0 0,1 2,0Z\" style=\"opacity: 1; stroke-width: 0px; fill: rgb(135, 206, 250); fill-opacity: 1;\"/><path class=\"point\" transform=\"translate(111.87,252.44)\" d=\"M2,0A2,2 0 1,1 0,-2A2,2 0 0,1 2,0Z\" style=\"opacity: 1; stroke-width: 0px; fill: rgb(135, 206, 250); fill-opacity: 1;\"/><path class=\"point\" transform=\"translate(112.27,253.43)\" d=\"M2,0A2,2 0 1,1 0,-2A2,2 0 0,1 2,0Z\" style=\"opacity: 1; stroke-width: 0px; fill: rgb(135, 206, 250); fill-opacity: 1;\"/><path class=\"point\" transform=\"translate(112.68,253.09)\" d=\"M2,0A2,2 0 1,1 0,-2A2,2 0 0,1 2,0Z\" style=\"opacity: 1; stroke-width: 0px; fill: rgb(135, 206, 250); fill-opacity: 1;\"/><path class=\"point\" transform=\"translate(113.08,252.76)\" d=\"M2,0A2,2 0 1,1 0,-2A2,2 0 0,1 2,0Z\" style=\"opacity: 1; stroke-width: 0px; fill: rgb(135, 206, 250); fill-opacity: 1;\"/><path class=\"point\" transform=\"translate(113.48,248.63)\" d=\"M2,0A2,2 0 1,1 0,-2A2,2 0 0,1 2,0Z\" style=\"opacity: 1; stroke-width: 0px; fill: rgb(135, 206, 250); fill-opacity: 1;\"/><path class=\"point\" transform=\"translate(113.88,252.61)\" d=\"M2,0A2,2 0 1,1 0,-2A2,2 0 0,1 2,0Z\" style=\"opacity: 1; stroke-width: 0px; fill: rgb(135, 206, 250); fill-opacity: 1;\"/><path class=\"point\" transform=\"translate(114.28,253.49)\" d=\"M2,0A2,2 0 1,1 0,-2A2,2 0 0,1 2,0Z\" style=\"opacity: 1; stroke-width: 0px; fill: rgb(135, 206, 250); fill-opacity: 1;\"/><path class=\"point\" transform=\"translate(114.68,253.13)\" d=\"M2,0A2,2 0 1,1 0,-2A2,2 0 0,1 2,0Z\" style=\"opacity: 1; stroke-width: 0px; fill: rgb(135, 206, 250); fill-opacity: 1;\"/><path class=\"point\" transform=\"translate(115.08,253.06)\" d=\"M2,0A2,2 0 1,1 0,-2A2,2 0 0,1 2,0Z\" style=\"opacity: 1; stroke-width: 0px; fill: rgb(135, 206, 250); fill-opacity: 1;\"/><path class=\"point\" transform=\"translate(115.48,253.07)\" d=\"M2,0A2,2 0 1,1 0,-2A2,2 0 0,1 2,0Z\" style=\"opacity: 1; stroke-width: 0px; fill: rgb(135, 206, 250); fill-opacity: 1;\"/><path class=\"point\" transform=\"translate(115.89,250.74)\" d=\"M2,0A2,2 0 1,1 0,-2A2,2 0 0,1 2,0Z\" style=\"opacity: 1; stroke-width: 0px; fill: rgb(135, 206, 250); fill-opacity: 1;\"/><path class=\"point\" transform=\"translate(116.29,251.26)\" d=\"M2,0A2,2 0 1,1 0,-2A2,2 0 0,1 2,0Z\" style=\"opacity: 1; stroke-width: 0px; fill: rgb(135, 206, 250); fill-opacity: 1;\"/><path class=\"point\" transform=\"translate(116.69,252.84)\" d=\"M2,0A2,2 0 1,1 0,-2A2,2 0 0,1 2,0Z\" style=\"opacity: 1; stroke-width: 0px; fill: rgb(135, 206, 250); fill-opacity: 1;\"/><path class=\"point\" transform=\"translate(117.09,253.24)\" d=\"M2,0A2,2 0 1,1 0,-2A2,2 0 0,1 2,0Z\" style=\"opacity: 1; stroke-width: 0px; fill: rgb(135, 206, 250); fill-opacity: 1;\"/><path class=\"point\" transform=\"translate(117.49,253.16)\" d=\"M2,0A2,2 0 1,1 0,-2A2,2 0 0,1 2,0Z\" style=\"opacity: 1; stroke-width: 0px; fill: rgb(135, 206, 250); fill-opacity: 1;\"/><path class=\"point\" transform=\"translate(117.89,251.76)\" d=\"M2,0A2,2 0 1,1 0,-2A2,2 0 0,1 2,0Z\" style=\"opacity: 1; stroke-width: 0px; fill: rgb(135, 206, 250); fill-opacity: 1;\"/><path class=\"point\" transform=\"translate(118.29,253.13)\" d=\"M2,0A2,2 0 1,1 0,-2A2,2 0 0,1 2,0Z\" style=\"opacity: 1; stroke-width: 0px; fill: rgb(135, 206, 250); fill-opacity: 1;\"/><path class=\"point\" transform=\"translate(118.7,253.33)\" d=\"M2,0A2,2 0 1,1 0,-2A2,2 0 0,1 2,0Z\" style=\"opacity: 1; stroke-width: 0px; fill: rgb(135, 206, 250); fill-opacity: 1;\"/><path class=\"point\" transform=\"translate(119.1,253.3)\" d=\"M2,0A2,2 0 1,1 0,-2A2,2 0 0,1 2,0Z\" style=\"opacity: 1; stroke-width: 0px; fill: rgb(135, 206, 250); fill-opacity: 1;\"/><path class=\"point\" transform=\"translate(119.5,253.11)\" d=\"M2,0A2,2 0 1,1 0,-2A2,2 0 0,1 2,0Z\" style=\"opacity: 1; stroke-width: 0px; fill: rgb(135, 206, 250); fill-opacity: 1;\"/><path class=\"point\" transform=\"translate(119.9,253.29)\" d=\"M2,0A2,2 0 1,1 0,-2A2,2 0 0,1 2,0Z\" style=\"opacity: 1; stroke-width: 0px; fill: rgb(135, 206, 250); fill-opacity: 1;\"/><path class=\"point\" transform=\"translate(120.3,251.79)\" d=\"M2,0A2,2 0 1,1 0,-2A2,2 0 0,1 2,0Z\" style=\"opacity: 1; stroke-width: 0px; fill: rgb(135, 206, 250); fill-opacity: 1;\"/><path class=\"point\" transform=\"translate(120.7,252.03)\" d=\"M2,0A2,2 0 1,1 0,-2A2,2 0 0,1 2,0Z\" style=\"opacity: 1; stroke-width: 0px; fill: rgb(135, 206, 250); fill-opacity: 1;\"/><path class=\"point\" transform=\"translate(121.1,252.96)\" d=\"M2,0A2,2 0 1,1 0,-2A2,2 0 0,1 2,0Z\" style=\"opacity: 1; stroke-width: 0px; fill: rgb(135, 206, 250); fill-opacity: 1;\"/><path class=\"point\" transform=\"translate(121.51,253.04)\" d=\"M2,0A2,2 0 1,1 0,-2A2,2 0 0,1 2,0Z\" style=\"opacity: 1; stroke-width: 0px; fill: rgb(135, 206, 250); fill-opacity: 1;\"/><path class=\"point\" transform=\"translate(121.91,250.99)\" d=\"M2,0A2,2 0 1,1 0,-2A2,2 0 0,1 2,0Z\" style=\"opacity: 1; stroke-width: 0px; fill: rgb(135, 206, 250); fill-opacity: 1;\"/><path class=\"point\" transform=\"translate(122.31,249.12)\" d=\"M2,0A2,2 0 1,1 0,-2A2,2 0 0,1 2,0Z\" style=\"opacity: 1; stroke-width: 0px; fill: rgb(135, 206, 250); fill-opacity: 1;\"/><path class=\"point\" transform=\"translate(122.71,251.04)\" d=\"M2,0A2,2 0 1,1 0,-2A2,2 0 0,1 2,0Z\" style=\"opacity: 1; stroke-width: 0px; fill: rgb(135, 206, 250); fill-opacity: 1;\"/><path class=\"point\" transform=\"translate(123.11,253.09)\" d=\"M2,0A2,2 0 1,1 0,-2A2,2 0 0,1 2,0Z\" style=\"opacity: 1; stroke-width: 0px; fill: rgb(135, 206, 250); fill-opacity: 1;\"/><path class=\"point\" transform=\"translate(123.51,252.52)\" d=\"M2,0A2,2 0 1,1 0,-2A2,2 0 0,1 2,0Z\" style=\"opacity: 1; stroke-width: 0px; fill: rgb(135, 206, 250); fill-opacity: 1;\"/><path class=\"point\" transform=\"translate(123.91,253.14)\" d=\"M2,0A2,2 0 1,1 0,-2A2,2 0 0,1 2,0Z\" style=\"opacity: 1; stroke-width: 0px; fill: rgb(135, 206, 250); fill-opacity: 1;\"/><path class=\"point\" transform=\"translate(124.31,253.41)\" d=\"M2,0A2,2 0 1,1 0,-2A2,2 0 0,1 2,0Z\" style=\"opacity: 1; stroke-width: 0px; fill: rgb(135, 206, 250); fill-opacity: 1;\"/><path class=\"point\" transform=\"translate(124.72,253.4)\" d=\"M2,0A2,2 0 1,1 0,-2A2,2 0 0,1 2,0Z\" style=\"opacity: 1; stroke-width: 0px; fill: rgb(135, 206, 250); fill-opacity: 1;\"/><path class=\"point\" transform=\"translate(125.12,252.53)\" d=\"M2,0A2,2 0 1,1 0,-2A2,2 0 0,1 2,0Z\" style=\"opacity: 1; stroke-width: 0px; fill: rgb(135, 206, 250); fill-opacity: 1;\"/><path class=\"point\" transform=\"translate(125.52,253.04)\" d=\"M2,0A2,2 0 1,1 0,-2A2,2 0 0,1 2,0Z\" style=\"opacity: 1; stroke-width: 0px; fill: rgb(135, 206, 250); fill-opacity: 1;\"/><path class=\"point\" transform=\"translate(125.92,251.82)\" d=\"M2,0A2,2 0 1,1 0,-2A2,2 0 0,1 2,0Z\" style=\"opacity: 1; stroke-width: 0px; fill: rgb(135, 206, 250); fill-opacity: 1;\"/><path class=\"point\" transform=\"translate(126.32,253.49)\" d=\"M2,0A2,2 0 1,1 0,-2A2,2 0 0,1 2,0Z\" style=\"opacity: 1; stroke-width: 0px; fill: rgb(135, 206, 250); fill-opacity: 1;\"/><path class=\"point\" transform=\"translate(126.72,253.13)\" d=\"M2,0A2,2 0 1,1 0,-2A2,2 0 0,1 2,0Z\" style=\"opacity: 1; stroke-width: 0px; fill: rgb(135, 206, 250); fill-opacity: 1;\"/><path class=\"point\" transform=\"translate(127.12,251.47)\" d=\"M2,0A2,2 0 1,1 0,-2A2,2 0 0,1 2,0Z\" style=\"opacity: 1; stroke-width: 0px; fill: rgb(135, 206, 250); fill-opacity: 1;\"/><path class=\"point\" transform=\"translate(127.53,251.94)\" d=\"M2,0A2,2 0 1,1 0,-2A2,2 0 0,1 2,0Z\" style=\"opacity: 1; stroke-width: 0px; fill: rgb(135, 206, 250); fill-opacity: 1;\"/><path class=\"point\" transform=\"translate(127.93,253.36)\" d=\"M2,0A2,2 0 1,1 0,-2A2,2 0 0,1 2,0Z\" style=\"opacity: 1; stroke-width: 0px; fill: rgb(135, 206, 250); fill-opacity: 1;\"/><path class=\"point\" transform=\"translate(128.33,253.32)\" d=\"M2,0A2,2 0 1,1 0,-2A2,2 0 0,1 2,0Z\" style=\"opacity: 1; stroke-width: 0px; fill: rgb(135, 206, 250); fill-opacity: 1;\"/><path class=\"point\" transform=\"translate(128.73,252.95)\" d=\"M2,0A2,2 0 1,1 0,-2A2,2 0 0,1 2,0Z\" style=\"opacity: 1; stroke-width: 0px; fill: rgb(135, 206, 250); fill-opacity: 1;\"/><path class=\"point\" transform=\"translate(129.13,251.05)\" d=\"M2,0A2,2 0 1,1 0,-2A2,2 0 0,1 2,0Z\" style=\"opacity: 1; stroke-width: 0px; fill: rgb(135, 206, 250); fill-opacity: 1;\"/><path class=\"point\" transform=\"translate(129.53,253.36)\" d=\"M2,0A2,2 0 1,1 0,-2A2,2 0 0,1 2,0Z\" style=\"opacity: 1; stroke-width: 0px; fill: rgb(135, 206, 250); fill-opacity: 1;\"/><path class=\"point\" transform=\"translate(129.93,252.31)\" d=\"M2,0A2,2 0 1,1 0,-2A2,2 0 0,1 2,0Z\" style=\"opacity: 1; stroke-width: 0px; fill: rgb(135, 206, 250); fill-opacity: 1;\"/><path class=\"point\" transform=\"translate(130.33,253.14)\" d=\"M2,0A2,2 0 1,1 0,-2A2,2 0 0,1 2,0Z\" style=\"opacity: 1; stroke-width: 0px; fill: rgb(135, 206, 250); fill-opacity: 1;\"/><path class=\"point\" transform=\"translate(130.74,253)\" d=\"M2,0A2,2 0 1,1 0,-2A2,2 0 0,1 2,0Z\" style=\"opacity: 1; stroke-width: 0px; fill: rgb(135, 206, 250); fill-opacity: 1;\"/><path class=\"point\" transform=\"translate(131.14,253.13)\" d=\"M2,0A2,2 0 1,1 0,-2A2,2 0 0,1 2,0Z\" style=\"opacity: 1; stroke-width: 0px; fill: rgb(135, 206, 250); fill-opacity: 1;\"/><path class=\"point\" transform=\"translate(131.54,250.81)\" d=\"M2,0A2,2 0 1,1 0,-2A2,2 0 0,1 2,0Z\" style=\"opacity: 1; stroke-width: 0px; fill: rgb(135, 206, 250); fill-opacity: 1;\"/><path class=\"point\" transform=\"translate(131.94,248.04)\" d=\"M2,0A2,2 0 1,1 0,-2A2,2 0 0,1 2,0Z\" style=\"opacity: 1; stroke-width: 0px; fill: rgb(135, 206, 250); fill-opacity: 1;\"/><path class=\"point\" transform=\"translate(132.34,253.43)\" d=\"M2,0A2,2 0 1,1 0,-2A2,2 0 0,1 2,0Z\" style=\"opacity: 1; stroke-width: 0px; fill: rgb(135, 206, 250); fill-opacity: 1;\"/><path class=\"point\" transform=\"translate(132.74,253.25)\" d=\"M2,0A2,2 0 1,1 0,-2A2,2 0 0,1 2,0Z\" style=\"opacity: 1; stroke-width: 0px; fill: rgb(135, 206, 250); fill-opacity: 1;\"/><path class=\"point\" transform=\"translate(133.14,251.24)\" d=\"M2,0A2,2 0 1,1 0,-2A2,2 0 0,1 2,0Z\" style=\"opacity: 1; stroke-width: 0px; fill: rgb(135, 206, 250); fill-opacity: 1;\"/><path class=\"point\" transform=\"translate(133.55,253.2)\" d=\"M2,0A2,2 0 1,1 0,-2A2,2 0 0,1 2,0Z\" style=\"opacity: 1; stroke-width: 0px; fill: rgb(135, 206, 250); fill-opacity: 1;\"/><path class=\"point\" transform=\"translate(133.95,253.45)\" d=\"M2,0A2,2 0 1,1 0,-2A2,2 0 0,1 2,0Z\" style=\"opacity: 1; stroke-width: 0px; fill: rgb(135, 206, 250); fill-opacity: 1;\"/><path class=\"point\" transform=\"translate(134.35,253.13)\" d=\"M2,0A2,2 0 1,1 0,-2A2,2 0 0,1 2,0Z\" style=\"opacity: 1; stroke-width: 0px; fill: rgb(135, 206, 250); fill-opacity: 1;\"/><path class=\"point\" transform=\"translate(134.75,252.2)\" d=\"M2,0A2,2 0 1,1 0,-2A2,2 0 0,1 2,0Z\" style=\"opacity: 1; stroke-width: 0px; fill: rgb(135, 206, 250); fill-opacity: 1;\"/><path class=\"point\" transform=\"translate(135.15,253.46)\" d=\"M2,0A2,2 0 1,1 0,-2A2,2 0 0,1 2,0Z\" style=\"opacity: 1; stroke-width: 0px; fill: rgb(135, 206, 250); fill-opacity: 1;\"/><path class=\"point\" transform=\"translate(135.55,251.76)\" d=\"M2,0A2,2 0 1,1 0,-2A2,2 0 0,1 2,0Z\" style=\"opacity: 1; stroke-width: 0px; fill: rgb(135, 206, 250); fill-opacity: 1;\"/><path class=\"point\" transform=\"translate(135.95,253.48)\" d=\"M2,0A2,2 0 1,1 0,-2A2,2 0 0,1 2,0Z\" style=\"opacity: 1; stroke-width: 0px; fill: rgb(135, 206, 250); fill-opacity: 1;\"/><path class=\"point\" transform=\"translate(136.35,253.2)\" d=\"M2,0A2,2 0 1,1 0,-2A2,2 0 0,1 2,0Z\" style=\"opacity: 1; stroke-width: 0px; fill: rgb(135, 206, 250); fill-opacity: 1;\"/><path class=\"point\" transform=\"translate(136.76,251.22)\" d=\"M2,0A2,2 0 1,1 0,-2A2,2 0 0,1 2,0Z\" style=\"opacity: 1; stroke-width: 0px; fill: rgb(135, 206, 250); fill-opacity: 1;\"/><path class=\"point\" transform=\"translate(137.16,250.4)\" d=\"M2,0A2,2 0 1,1 0,-2A2,2 0 0,1 2,0Z\" style=\"opacity: 1; stroke-width: 0px; fill: rgb(135, 206, 250); fill-opacity: 1;\"/><path class=\"point\" transform=\"translate(137.56,251.84)\" d=\"M2,0A2,2 0 1,1 0,-2A2,2 0 0,1 2,0Z\" style=\"opacity: 1; stroke-width: 0px; fill: rgb(135, 206, 250); fill-opacity: 1;\"/><path class=\"point\" transform=\"translate(137.96,253.11)\" d=\"M2,0A2,2 0 1,1 0,-2A2,2 0 0,1 2,0Z\" style=\"opacity: 1; stroke-width: 0px; fill: rgb(135, 206, 250); fill-opacity: 1;\"/><path class=\"point\" transform=\"translate(138.36,253.46)\" d=\"M2,0A2,2 0 1,1 0,-2A2,2 0 0,1 2,0Z\" style=\"opacity: 1; stroke-width: 0px; fill: rgb(135, 206, 250); fill-opacity: 1;\"/><path class=\"point\" transform=\"translate(138.76,253.14)\" d=\"M2,0A2,2 0 1,1 0,-2A2,2 0 0,1 2,0Z\" style=\"opacity: 1; stroke-width: 0px; fill: rgb(135, 206, 250); fill-opacity: 1;\"/><path class=\"point\" transform=\"translate(139.16,253.22)\" d=\"M2,0A2,2 0 1,1 0,-2A2,2 0 0,1 2,0Z\" style=\"opacity: 1; stroke-width: 0px; fill: rgb(135, 206, 250); fill-opacity: 1;\"/><path class=\"point\" transform=\"translate(139.57,248.1)\" d=\"M2,0A2,2 0 1,1 0,-2A2,2 0 0,1 2,0Z\" style=\"opacity: 1; stroke-width: 0px; fill: rgb(135, 206, 250); fill-opacity: 1;\"/><path class=\"point\" transform=\"translate(139.97,253.33)\" d=\"M2,0A2,2 0 1,1 0,-2A2,2 0 0,1 2,0Z\" style=\"opacity: 1; stroke-width: 0px; fill: rgb(135, 206, 250); fill-opacity: 1;\"/><path class=\"point\" transform=\"translate(140.37,253.2)\" d=\"M2,0A2,2 0 1,1 0,-2A2,2 0 0,1 2,0Z\" style=\"opacity: 1; stroke-width: 0px; fill: rgb(135, 206, 250); fill-opacity: 1;\"/><path class=\"point\" transform=\"translate(140.77,253.14)\" d=\"M2,0A2,2 0 1,1 0,-2A2,2 0 0,1 2,0Z\" style=\"opacity: 1; stroke-width: 0px; fill: rgb(135, 206, 250); fill-opacity: 1;\"/><path class=\"point\" transform=\"translate(141.17,252.73)\" d=\"M2,0A2,2 0 1,1 0,-2A2,2 0 0,1 2,0Z\" style=\"opacity: 1; stroke-width: 0px; fill: rgb(135, 206, 250); fill-opacity: 1;\"/><path class=\"point\" transform=\"translate(141.57,251.49)\" d=\"M2,0A2,2 0 1,1 0,-2A2,2 0 0,1 2,0Z\" style=\"opacity: 1; stroke-width: 0px; fill: rgb(135, 206, 250); fill-opacity: 1;\"/><path class=\"point\" transform=\"translate(141.97,253.37)\" d=\"M2,0A2,2 0 1,1 0,-2A2,2 0 0,1 2,0Z\" style=\"opacity: 1; stroke-width: 0px; fill: rgb(135, 206, 250); fill-opacity: 1;\"/><path class=\"point\" transform=\"translate(142.37,252.97)\" d=\"M2,0A2,2 0 1,1 0,-2A2,2 0 0,1 2,0Z\" style=\"opacity: 1; stroke-width: 0px; fill: rgb(135, 206, 250); fill-opacity: 1;\"/><path class=\"point\" transform=\"translate(142.78,253.35)\" d=\"M2,0A2,2 0 1,1 0,-2A2,2 0 0,1 2,0Z\" style=\"opacity: 1; stroke-width: 0px; fill: rgb(135, 206, 250); fill-opacity: 1;\"/><path class=\"point\" transform=\"translate(143.18,253.19)\" d=\"M2,0A2,2 0 1,1 0,-2A2,2 0 0,1 2,0Z\" style=\"opacity: 1; stroke-width: 0px; fill: rgb(135, 206, 250); fill-opacity: 1;\"/><path class=\"point\" transform=\"translate(143.58,253.33)\" d=\"M2,0A2,2 0 1,1 0,-2A2,2 0 0,1 2,0Z\" style=\"opacity: 1; stroke-width: 0px; fill: rgb(135, 206, 250); fill-opacity: 1;\"/><path class=\"point\" transform=\"translate(143.98,253.35)\" d=\"M2,0A2,2 0 1,1 0,-2A2,2 0 0,1 2,0Z\" style=\"opacity: 1; stroke-width: 0px; fill: rgb(135, 206, 250); fill-opacity: 1;\"/><path class=\"point\" transform=\"translate(144.38,252.41)\" d=\"M2,0A2,2 0 1,1 0,-2A2,2 0 0,1 2,0Z\" style=\"opacity: 1; stroke-width: 0px; fill: rgb(135, 206, 250); fill-opacity: 1;\"/><path class=\"point\" transform=\"translate(144.78,250.44)\" d=\"M2,0A2,2 0 1,1 0,-2A2,2 0 0,1 2,0Z\" style=\"opacity: 1; stroke-width: 0px; fill: rgb(135, 206, 250); fill-opacity: 1;\"/><path class=\"point\" transform=\"translate(145.18,244.93)\" d=\"M2,0A2,2 0 1,1 0,-2A2,2 0 0,1 2,0Z\" style=\"opacity: 1; stroke-width: 0px; fill: rgb(135, 206, 250); fill-opacity: 1;\"/><path class=\"point\" transform=\"translate(145.59,253.19)\" d=\"M2,0A2,2 0 1,1 0,-2A2,2 0 0,1 2,0Z\" style=\"opacity: 1; stroke-width: 0px; fill: rgb(135, 206, 250); fill-opacity: 1;\"/><path class=\"point\" transform=\"translate(145.99,253.16)\" d=\"M2,0A2,2 0 1,1 0,-2A2,2 0 0,1 2,0Z\" style=\"opacity: 1; stroke-width: 0px; fill: rgb(135, 206, 250); fill-opacity: 1;\"/><path class=\"point\" transform=\"translate(146.39,253.44)\" d=\"M2,0A2,2 0 1,1 0,-2A2,2 0 0,1 2,0Z\" style=\"opacity: 1; stroke-width: 0px; fill: rgb(135, 206, 250); fill-opacity: 1;\"/><path class=\"point\" transform=\"translate(146.79,252.82)\" d=\"M2,0A2,2 0 1,1 0,-2A2,2 0 0,1 2,0Z\" style=\"opacity: 1; stroke-width: 0px; fill: rgb(135, 206, 250); fill-opacity: 1;\"/><path class=\"point\" transform=\"translate(147.19,251.51)\" d=\"M2,0A2,2 0 1,1 0,-2A2,2 0 0,1 2,0Z\" style=\"opacity: 1; stroke-width: 0px; fill: rgb(135, 206, 250); fill-opacity: 1;\"/><path class=\"point\" transform=\"translate(147.59,253.44)\" d=\"M2,0A2,2 0 1,1 0,-2A2,2 0 0,1 2,0Z\" style=\"opacity: 1; stroke-width: 0px; fill: rgb(135, 206, 250); fill-opacity: 1;\"/><path class=\"point\" transform=\"translate(147.99,249.73)\" d=\"M2,0A2,2 0 1,1 0,-2A2,2 0 0,1 2,0Z\" style=\"opacity: 1; stroke-width: 0px; fill: rgb(135, 206, 250); fill-opacity: 1;\"/><path class=\"point\" transform=\"translate(148.39,252.5)\" d=\"M2,0A2,2 0 1,1 0,-2A2,2 0 0,1 2,0Z\" style=\"opacity: 1; stroke-width: 0px; fill: rgb(135, 206, 250); fill-opacity: 1;\"/><path class=\"point\" transform=\"translate(148.8,253.43)\" d=\"M2,0A2,2 0 1,1 0,-2A2,2 0 0,1 2,0Z\" style=\"opacity: 1; stroke-width: 0px; fill: rgb(135, 206, 250); fill-opacity: 1;\"/><path class=\"point\" transform=\"translate(149.2,250)\" d=\"M2,0A2,2 0 1,1 0,-2A2,2 0 0,1 2,0Z\" style=\"opacity: 1; stroke-width: 0px; fill: rgb(135, 206, 250); fill-opacity: 1;\"/><path class=\"point\" transform=\"translate(149.6,253.04)\" d=\"M2,0A2,2 0 1,1 0,-2A2,2 0 0,1 2,0Z\" style=\"opacity: 1; stroke-width: 0px; fill: rgb(135, 206, 250); fill-opacity: 1;\"/><path class=\"point\" transform=\"translate(150,253.25)\" d=\"M2,0A2,2 0 1,1 0,-2A2,2 0 0,1 2,0Z\" style=\"opacity: 1; stroke-width: 0px; fill: rgb(135, 206, 250); fill-opacity: 1;\"/><path class=\"point\" transform=\"translate(150.4,253.14)\" d=\"M2,0A2,2 0 1,1 0,-2A2,2 0 0,1 2,0Z\" style=\"opacity: 1; stroke-width: 0px; fill: rgb(135, 206, 250); fill-opacity: 1;\"/><path class=\"point\" transform=\"translate(150.8,252.61)\" d=\"M2,0A2,2 0 1,1 0,-2A2,2 0 0,1 2,0Z\" style=\"opacity: 1; stroke-width: 0px; fill: rgb(135, 206, 250); fill-opacity: 1;\"/><path class=\"point\" transform=\"translate(151.2,252.32)\" d=\"M2,0A2,2 0 1,1 0,-2A2,2 0 0,1 2,0Z\" style=\"opacity: 1; stroke-width: 0px; fill: rgb(135, 206, 250); fill-opacity: 1;\"/><path class=\"point\" transform=\"translate(151.61,253.45)\" d=\"M2,0A2,2 0 1,1 0,-2A2,2 0 0,1 2,0Z\" style=\"opacity: 1; stroke-width: 0px; fill: rgb(135, 206, 250); fill-opacity: 1;\"/><path class=\"point\" transform=\"translate(152.01,253.32)\" d=\"M2,0A2,2 0 1,1 0,-2A2,2 0 0,1 2,0Z\" style=\"opacity: 1; stroke-width: 0px; fill: rgb(135, 206, 250); fill-opacity: 1;\"/><path class=\"point\" transform=\"translate(152.41,253.32)\" d=\"M2,0A2,2 0 1,1 0,-2A2,2 0 0,1 2,0Z\" style=\"opacity: 1; stroke-width: 0px; fill: rgb(135, 206, 250); fill-opacity: 1;\"/><path class=\"point\" transform=\"translate(152.81,253.18)\" d=\"M2,0A2,2 0 1,1 0,-2A2,2 0 0,1 2,0Z\" style=\"opacity: 1; stroke-width: 0px; fill: rgb(135, 206, 250); fill-opacity: 1;\"/><path class=\"point\" transform=\"translate(153.21,253.5)\" d=\"M2,0A2,2 0 1,1 0,-2A2,2 0 0,1 2,0Z\" style=\"opacity: 1; stroke-width: 0px; fill: rgb(135, 206, 250); fill-opacity: 1;\"/><path class=\"point\" transform=\"translate(153.61,253.21)\" d=\"M2,0A2,2 0 1,1 0,-2A2,2 0 0,1 2,0Z\" style=\"opacity: 1; stroke-width: 0px; fill: rgb(135, 206, 250); fill-opacity: 1;\"/><path class=\"point\" transform=\"translate(154.01,253.08)\" d=\"M2,0A2,2 0 1,1 0,-2A2,2 0 0,1 2,0Z\" style=\"opacity: 1; stroke-width: 0px; fill: rgb(135, 206, 250); fill-opacity: 1;\"/><path class=\"point\" transform=\"translate(154.41,250.29)\" d=\"M2,0A2,2 0 1,1 0,-2A2,2 0 0,1 2,0Z\" style=\"opacity: 1; stroke-width: 0px; fill: rgb(135, 206, 250); fill-opacity: 1;\"/><path class=\"point\" transform=\"translate(154.82,252.84)\" d=\"M2,0A2,2 0 1,1 0,-2A2,2 0 0,1 2,0Z\" style=\"opacity: 1; stroke-width: 0px; fill: rgb(135, 206, 250); fill-opacity: 1;\"/><path class=\"point\" transform=\"translate(155.22,253.35)\" d=\"M2,0A2,2 0 1,1 0,-2A2,2 0 0,1 2,0Z\" style=\"opacity: 1; stroke-width: 0px; fill: rgb(135, 206, 250); fill-opacity: 1;\"/><path class=\"point\" transform=\"translate(155.62,253.43)\" d=\"M2,0A2,2 0 1,1 0,-2A2,2 0 0,1 2,0Z\" style=\"opacity: 1; stroke-width: 0px; fill: rgb(135, 206, 250); fill-opacity: 1;\"/><path class=\"point\" transform=\"translate(156.02,253.38)\" d=\"M2,0A2,2 0 1,1 0,-2A2,2 0 0,1 2,0Z\" style=\"opacity: 1; stroke-width: 0px; fill: rgb(135, 206, 250); fill-opacity: 1;\"/><path class=\"point\" transform=\"translate(156.42,253.14)\" d=\"M2,0A2,2 0 1,1 0,-2A2,2 0 0,1 2,0Z\" style=\"opacity: 1; stroke-width: 0px; fill: rgb(135, 206, 250); fill-opacity: 1;\"/><path class=\"point\" transform=\"translate(156.82,253.11)\" d=\"M2,0A2,2 0 1,1 0,-2A2,2 0 0,1 2,0Z\" style=\"opacity: 1; stroke-width: 0px; fill: rgb(135, 206, 250); fill-opacity: 1;\"/><path class=\"point\" transform=\"translate(157.22,253.11)\" d=\"M2,0A2,2 0 1,1 0,-2A2,2 0 0,1 2,0Z\" style=\"opacity: 1; stroke-width: 0px; fill: rgb(135, 206, 250); fill-opacity: 1;\"/><path class=\"point\" transform=\"translate(157.63,251.6)\" d=\"M2,0A2,2 0 1,1 0,-2A2,2 0 0,1 2,0Z\" style=\"opacity: 1; stroke-width: 0px; fill: rgb(135, 206, 250); fill-opacity: 1;\"/><path class=\"point\" transform=\"translate(158.03,253.28)\" d=\"M2,0A2,2 0 1,1 0,-2A2,2 0 0,1 2,0Z\" style=\"opacity: 1; stroke-width: 0px; fill: rgb(135, 206, 250); fill-opacity: 1;\"/><path class=\"point\" transform=\"translate(158.43,253.28)\" d=\"M2,0A2,2 0 1,1 0,-2A2,2 0 0,1 2,0Z\" style=\"opacity: 1; stroke-width: 0px; fill: rgb(135, 206, 250); fill-opacity: 1;\"/><path class=\"point\" transform=\"translate(158.83,253.33)\" d=\"M2,0A2,2 0 1,1 0,-2A2,2 0 0,1 2,0Z\" style=\"opacity: 1; stroke-width: 0px; fill: rgb(135, 206, 250); fill-opacity: 1;\"/><path class=\"point\" transform=\"translate(159.23,253.47)\" d=\"M2,0A2,2 0 1,1 0,-2A2,2 0 0,1 2,0Z\" style=\"opacity: 1; stroke-width: 0px; fill: rgb(135, 206, 250); fill-opacity: 1;\"/><path class=\"point\" transform=\"translate(159.63,253.19)\" d=\"M2,0A2,2 0 1,1 0,-2A2,2 0 0,1 2,0Z\" style=\"opacity: 1; stroke-width: 0px; fill: rgb(135, 206, 250); fill-opacity: 1;\"/><path class=\"point\" transform=\"translate(160.03,252.52)\" d=\"M2,0A2,2 0 1,1 0,-2A2,2 0 0,1 2,0Z\" style=\"opacity: 1; stroke-width: 0px; fill: rgb(135, 206, 250); fill-opacity: 1;\"/><path class=\"point\" transform=\"translate(160.43,252.96)\" d=\"M2,0A2,2 0 1,1 0,-2A2,2 0 0,1 2,0Z\" style=\"opacity: 1; stroke-width: 0px; fill: rgb(135, 206, 250); fill-opacity: 1;\"/><path class=\"point\" transform=\"translate(160.84,253.38)\" d=\"M2,0A2,2 0 1,1 0,-2A2,2 0 0,1 2,0Z\" style=\"opacity: 1; stroke-width: 0px; fill: rgb(135, 206, 250); fill-opacity: 1;\"/><path class=\"point\" transform=\"translate(161.24,252.7)\" d=\"M2,0A2,2 0 1,1 0,-2A2,2 0 0,1 2,0Z\" style=\"opacity: 1; stroke-width: 0px; fill: rgb(135, 206, 250); fill-opacity: 1;\"/><path class=\"point\" transform=\"translate(161.64,252.1)\" d=\"M2,0A2,2 0 1,1 0,-2A2,2 0 0,1 2,0Z\" style=\"opacity: 1; stroke-width: 0px; fill: rgb(135, 206, 250); fill-opacity: 1;\"/><path class=\"point\" transform=\"translate(162.04,253.28)\" d=\"M2,0A2,2 0 1,1 0,-2A2,2 0 0,1 2,0Z\" style=\"opacity: 1; stroke-width: 0px; fill: rgb(135, 206, 250); fill-opacity: 1;\"/><path class=\"point\" transform=\"translate(162.44,253.37)\" d=\"M2,0A2,2 0 1,1 0,-2A2,2 0 0,1 2,0Z\" style=\"opacity: 1; stroke-width: 0px; fill: rgb(135, 206, 250); fill-opacity: 1;\"/><path class=\"point\" transform=\"translate(162.84,253.46)\" d=\"M2,0A2,2 0 1,1 0,-2A2,2 0 0,1 2,0Z\" style=\"opacity: 1; stroke-width: 0px; fill: rgb(135, 206, 250); fill-opacity: 1;\"/><path class=\"point\" transform=\"translate(163.24,253.23)\" d=\"M2,0A2,2 0 1,1 0,-2A2,2 0 0,1 2,0Z\" style=\"opacity: 1; stroke-width: 0px; fill: rgb(135, 206, 250); fill-opacity: 1;\"/><path class=\"point\" transform=\"translate(163.65,253.38)\" d=\"M2,0A2,2 0 1,1 0,-2A2,2 0 0,1 2,0Z\" style=\"opacity: 1; stroke-width: 0px; fill: rgb(135, 206, 250); fill-opacity: 1;\"/><path class=\"point\" transform=\"translate(164.05,253.31)\" d=\"M2,0A2,2 0 1,1 0,-2A2,2 0 0,1 2,0Z\" style=\"opacity: 1; stroke-width: 0px; fill: rgb(135, 206, 250); fill-opacity: 1;\"/><path class=\"point\" transform=\"translate(164.45,253.35)\" d=\"M2,0A2,2 0 1,1 0,-2A2,2 0 0,1 2,0Z\" style=\"opacity: 1; stroke-width: 0px; fill: rgb(135, 206, 250); fill-opacity: 1;\"/><path class=\"point\" transform=\"translate(164.85,252.23)\" d=\"M2,0A2,2 0 1,1 0,-2A2,2 0 0,1 2,0Z\" style=\"opacity: 1; stroke-width: 0px; fill: rgb(135, 206, 250); fill-opacity: 1;\"/><path class=\"point\" transform=\"translate(165.25,253.41)\" d=\"M2,0A2,2 0 1,1 0,-2A2,2 0 0,1 2,0Z\" style=\"opacity: 1; stroke-width: 0px; fill: rgb(135, 206, 250); fill-opacity: 1;\"/><path class=\"point\" transform=\"translate(165.65,251.11)\" d=\"M2,0A2,2 0 1,1 0,-2A2,2 0 0,1 2,0Z\" style=\"opacity: 1; stroke-width: 0px; fill: rgb(135, 206, 250); fill-opacity: 1;\"/><path class=\"point\" transform=\"translate(166.05,246.91)\" d=\"M2,0A2,2 0 1,1 0,-2A2,2 0 0,1 2,0Z\" style=\"opacity: 1; stroke-width: 0px; fill: rgb(135, 206, 250); fill-opacity: 1;\"/><path class=\"point\" transform=\"translate(166.45,253.19)\" d=\"M2,0A2,2 0 1,1 0,-2A2,2 0 0,1 2,0Z\" style=\"opacity: 1; stroke-width: 0px; fill: rgb(135, 206, 250); fill-opacity: 1;\"/><path class=\"point\" transform=\"translate(166.86,253.39)\" d=\"M2,0A2,2 0 1,1 0,-2A2,2 0 0,1 2,0Z\" style=\"opacity: 1; stroke-width: 0px; fill: rgb(135, 206, 250); fill-opacity: 1;\"/><path class=\"point\" transform=\"translate(167.26,253.4)\" d=\"M2,0A2,2 0 1,1 0,-2A2,2 0 0,1 2,0Z\" style=\"opacity: 1; stroke-width: 0px; fill: rgb(135, 206, 250); fill-opacity: 1;\"/><path class=\"point\" transform=\"translate(167.66,252.57)\" d=\"M2,0A2,2 0 1,1 0,-2A2,2 0 0,1 2,0Z\" style=\"opacity: 1; stroke-width: 0px; fill: rgb(135, 206, 250); fill-opacity: 1;\"/><path class=\"point\" transform=\"translate(168.06,253.26)\" d=\"M2,0A2,2 0 1,1 0,-2A2,2 0 0,1 2,0Z\" style=\"opacity: 1; stroke-width: 0px; fill: rgb(135, 206, 250); fill-opacity: 1;\"/><path class=\"point\" transform=\"translate(168.46,253.3)\" d=\"M2,0A2,2 0 1,1 0,-2A2,2 0 0,1 2,0Z\" style=\"opacity: 1; stroke-width: 0px; fill: rgb(135, 206, 250); fill-opacity: 1;\"/><path class=\"point\" transform=\"translate(168.86,253.29)\" d=\"M2,0A2,2 0 1,1 0,-2A2,2 0 0,1 2,0Z\" style=\"opacity: 1; stroke-width: 0px; fill: rgb(135, 206, 250); fill-opacity: 1;\"/><path class=\"point\" transform=\"translate(169.26,252.81)\" d=\"M2,0A2,2 0 1,1 0,-2A2,2 0 0,1 2,0Z\" style=\"opacity: 1; stroke-width: 0px; fill: rgb(135, 206, 250); fill-opacity: 1;\"/><path class=\"point\" transform=\"translate(169.67,253.44)\" d=\"M2,0A2,2 0 1,1 0,-2A2,2 0 0,1 2,0Z\" style=\"opacity: 1; stroke-width: 0px; fill: rgb(135, 206, 250); fill-opacity: 1;\"/><path class=\"point\" transform=\"translate(170.07,253.06)\" d=\"M2,0A2,2 0 1,1 0,-2A2,2 0 0,1 2,0Z\" style=\"opacity: 1; stroke-width: 0px; fill: rgb(135, 206, 250); fill-opacity: 1;\"/><path class=\"point\" transform=\"translate(170.47,252.55)\" d=\"M2,0A2,2 0 1,1 0,-2A2,2 0 0,1 2,0Z\" style=\"opacity: 1; stroke-width: 0px; fill: rgb(135, 206, 250); fill-opacity: 1;\"/><path class=\"point\" transform=\"translate(170.87,253.44)\" d=\"M2,0A2,2 0 1,1 0,-2A2,2 0 0,1 2,0Z\" style=\"opacity: 1; stroke-width: 0px; fill: rgb(135, 206, 250); fill-opacity: 1;\"/><path class=\"point\" transform=\"translate(171.27,253.1)\" d=\"M2,0A2,2 0 1,1 0,-2A2,2 0 0,1 2,0Z\" style=\"opacity: 1; stroke-width: 0px; fill: rgb(135, 206, 250); fill-opacity: 1;\"/><path class=\"point\" transform=\"translate(171.67,253.21)\" d=\"M2,0A2,2 0 1,1 0,-2A2,2 0 0,1 2,0Z\" style=\"opacity: 1; stroke-width: 0px; fill: rgb(135, 206, 250); fill-opacity: 1;\"/><path class=\"point\" transform=\"translate(172.07,252.69)\" d=\"M2,0A2,2 0 1,1 0,-2A2,2 0 0,1 2,0Z\" style=\"opacity: 1; stroke-width: 0px; fill: rgb(135, 206, 250); fill-opacity: 1;\"/><path class=\"point\" transform=\"translate(172.47,252.47)\" d=\"M2,0A2,2 0 1,1 0,-2A2,2 0 0,1 2,0Z\" style=\"opacity: 1; stroke-width: 0px; fill: rgb(135, 206, 250); fill-opacity: 1;\"/><path class=\"point\" transform=\"translate(172.88,252.71)\" d=\"M2,0A2,2 0 1,1 0,-2A2,2 0 0,1 2,0Z\" style=\"opacity: 1; stroke-width: 0px; fill: rgb(135, 206, 250); fill-opacity: 1;\"/><path class=\"point\" transform=\"translate(173.28,251.13)\" d=\"M2,0A2,2 0 1,1 0,-2A2,2 0 0,1 2,0Z\" style=\"opacity: 1; stroke-width: 0px; fill: rgb(135, 206, 250); fill-opacity: 1;\"/><path class=\"point\" transform=\"translate(173.68,252.06)\" d=\"M2,0A2,2 0 1,1 0,-2A2,2 0 0,1 2,0Z\" style=\"opacity: 1; stroke-width: 0px; fill: rgb(135, 206, 250); fill-opacity: 1;\"/><path class=\"point\" transform=\"translate(174.08,253.36)\" d=\"M2,0A2,2 0 1,1 0,-2A2,2 0 0,1 2,0Z\" style=\"opacity: 1; stroke-width: 0px; fill: rgb(135, 206, 250); fill-opacity: 1;\"/><path class=\"point\" transform=\"translate(174.48,252.1)\" d=\"M2,0A2,2 0 1,1 0,-2A2,2 0 0,1 2,0Z\" style=\"opacity: 1; stroke-width: 0px; fill: rgb(135, 206, 250); fill-opacity: 1;\"/><path class=\"point\" transform=\"translate(174.88,250.84)\" d=\"M2,0A2,2 0 1,1 0,-2A2,2 0 0,1 2,0Z\" style=\"opacity: 1; stroke-width: 0px; fill: rgb(135, 206, 250); fill-opacity: 1;\"/><path class=\"point\" transform=\"translate(175.28,253.16)\" d=\"M2,0A2,2 0 1,1 0,-2A2,2 0 0,1 2,0Z\" style=\"opacity: 1; stroke-width: 0px; fill: rgb(135, 206, 250); fill-opacity: 1;\"/><path class=\"point\" transform=\"translate(175.69,253.11)\" d=\"M2,0A2,2 0 1,1 0,-2A2,2 0 0,1 2,0Z\" style=\"opacity: 1; stroke-width: 0px; fill: rgb(135, 206, 250); fill-opacity: 1;\"/><path class=\"point\" transform=\"translate(176.09,253.25)\" d=\"M2,0A2,2 0 1,1 0,-2A2,2 0 0,1 2,0Z\" style=\"opacity: 1; stroke-width: 0px; fill: rgb(135, 206, 250); fill-opacity: 1;\"/><path class=\"point\" transform=\"translate(176.49,253.45)\" d=\"M2,0A2,2 0 1,1 0,-2A2,2 0 0,1 2,0Z\" style=\"opacity: 1; stroke-width: 0px; fill: rgb(135, 206, 250); fill-opacity: 1;\"/><path class=\"point\" transform=\"translate(176.89,250.84)\" d=\"M2,0A2,2 0 1,1 0,-2A2,2 0 0,1 2,0Z\" style=\"opacity: 1; stroke-width: 0px; fill: rgb(135, 206, 250); fill-opacity: 1;\"/><path class=\"point\" transform=\"translate(177.29,252.87)\" d=\"M2,0A2,2 0 1,1 0,-2A2,2 0 0,1 2,0Z\" style=\"opacity: 1; stroke-width: 0px; fill: rgb(135, 206, 250); fill-opacity: 1;\"/><path class=\"point\" transform=\"translate(177.69,250.32)\" d=\"M2,0A2,2 0 1,1 0,-2A2,2 0 0,1 2,0Z\" style=\"opacity: 1; stroke-width: 0px; fill: rgb(135, 206, 250); fill-opacity: 1;\"/><path class=\"point\" transform=\"translate(178.09,251.52)\" d=\"M2,0A2,2 0 1,1 0,-2A2,2 0 0,1 2,0Z\" style=\"opacity: 1; stroke-width: 0px; fill: rgb(135, 206, 250); fill-opacity: 1;\"/><path class=\"point\" transform=\"translate(178.49,253.1)\" d=\"M2,0A2,2 0 1,1 0,-2A2,2 0 0,1 2,0Z\" style=\"opacity: 1; stroke-width: 0px; fill: rgb(135, 206, 250); fill-opacity: 1;\"/><path class=\"point\" transform=\"translate(178.9,252.72)\" d=\"M2,0A2,2 0 1,1 0,-2A2,2 0 0,1 2,0Z\" style=\"opacity: 1; stroke-width: 0px; fill: rgb(135, 206, 250); fill-opacity: 1;\"/><path class=\"point\" transform=\"translate(179.3,253.45)\" d=\"M2,0A2,2 0 1,1 0,-2A2,2 0 0,1 2,0Z\" style=\"opacity: 1; stroke-width: 0px; fill: rgb(135, 206, 250); fill-opacity: 1;\"/><path class=\"point\" transform=\"translate(179.7,253.43)\" d=\"M2,0A2,2 0 1,1 0,-2A2,2 0 0,1 2,0Z\" style=\"opacity: 1; stroke-width: 0px; fill: rgb(135, 206, 250); fill-opacity: 1;\"/><path class=\"point\" transform=\"translate(180.1,250.85)\" d=\"M2,0A2,2 0 1,1 0,-2A2,2 0 0,1 2,0Z\" style=\"opacity: 1; stroke-width: 0px; fill: rgb(135, 206, 250); fill-opacity: 1;\"/><path class=\"point\" transform=\"translate(180.5,250.89)\" d=\"M2,0A2,2 0 1,1 0,-2A2,2 0 0,1 2,0Z\" style=\"opacity: 1; stroke-width: 0px; fill: rgb(135, 206, 250); fill-opacity: 1;\"/><path class=\"point\" transform=\"translate(180.9,252.75)\" d=\"M2,0A2,2 0 1,1 0,-2A2,2 0 0,1 2,0Z\" style=\"opacity: 1; stroke-width: 0px; fill: rgb(135, 206, 250); fill-opacity: 1;\"/><path class=\"point\" transform=\"translate(181.3,252.96)\" d=\"M2,0A2,2 0 1,1 0,-2A2,2 0 0,1 2,0Z\" style=\"opacity: 1; stroke-width: 0px; fill: rgb(135, 206, 250); fill-opacity: 1;\"/><path class=\"point\" transform=\"translate(181.71,252.65)\" d=\"M2,0A2,2 0 1,1 0,-2A2,2 0 0,1 2,0Z\" style=\"opacity: 1; stroke-width: 0px; fill: rgb(135, 206, 250); fill-opacity: 1;\"/><path class=\"point\" transform=\"translate(182.11,250.92)\" d=\"M2,0A2,2 0 1,1 0,-2A2,2 0 0,1 2,0Z\" style=\"opacity: 1; stroke-width: 0px; fill: rgb(135, 206, 250); fill-opacity: 1;\"/><path class=\"point\" transform=\"translate(182.51,253.13)\" d=\"M2,0A2,2 0 1,1 0,-2A2,2 0 0,1 2,0Z\" style=\"opacity: 1; stroke-width: 0px; fill: rgb(135, 206, 250); fill-opacity: 1;\"/><path class=\"point\" transform=\"translate(182.91,253.49)\" d=\"M2,0A2,2 0 1,1 0,-2A2,2 0 0,1 2,0Z\" style=\"opacity: 1; stroke-width: 0px; fill: rgb(135, 206, 250); fill-opacity: 1;\"/><path class=\"point\" transform=\"translate(183.31,253.1)\" d=\"M2,0A2,2 0 1,1 0,-2A2,2 0 0,1 2,0Z\" style=\"opacity: 1; stroke-width: 0px; fill: rgb(135, 206, 250); fill-opacity: 1;\"/><path class=\"point\" transform=\"translate(183.71,253.27)\" d=\"M2,0A2,2 0 1,1 0,-2A2,2 0 0,1 2,0Z\" style=\"opacity: 1; stroke-width: 0px; fill: rgb(135, 206, 250); fill-opacity: 1;\"/><path class=\"point\" transform=\"translate(184.11,252.72)\" d=\"M2,0A2,2 0 1,1 0,-2A2,2 0 0,1 2,0Z\" style=\"opacity: 1; stroke-width: 0px; fill: rgb(135, 206, 250); fill-opacity: 1;\"/><path class=\"point\" transform=\"translate(184.52,253.29)\" d=\"M2,0A2,2 0 1,1 0,-2A2,2 0 0,1 2,0Z\" style=\"opacity: 1; stroke-width: 0px; fill: rgb(135, 206, 250); fill-opacity: 1;\"/><path class=\"point\" transform=\"translate(184.92,250.17)\" d=\"M2,0A2,2 0 1,1 0,-2A2,2 0 0,1 2,0Z\" style=\"opacity: 1; stroke-width: 0px; fill: rgb(135, 206, 250); fill-opacity: 1;\"/><path class=\"point\" transform=\"translate(185.32,253.28)\" d=\"M2,0A2,2 0 1,1 0,-2A2,2 0 0,1 2,0Z\" style=\"opacity: 1; stroke-width: 0px; fill: rgb(135, 206, 250); fill-opacity: 1;\"/><path class=\"point\" transform=\"translate(185.72,252.63)\" d=\"M2,0A2,2 0 1,1 0,-2A2,2 0 0,1 2,0Z\" style=\"opacity: 1; stroke-width: 0px; fill: rgb(135, 206, 250); fill-opacity: 1;\"/><path class=\"point\" transform=\"translate(186.12,252.87)\" d=\"M2,0A2,2 0 1,1 0,-2A2,2 0 0,1 2,0Z\" style=\"opacity: 1; stroke-width: 0px; fill: rgb(135, 206, 250); fill-opacity: 1;\"/><path class=\"point\" transform=\"translate(186.52,253.46)\" d=\"M2,0A2,2 0 1,1 0,-2A2,2 0 0,1 2,0Z\" style=\"opacity: 1; stroke-width: 0px; fill: rgb(135, 206, 250); fill-opacity: 1;\"/><path class=\"point\" transform=\"translate(186.92,250.13)\" d=\"M2,0A2,2 0 1,1 0,-2A2,2 0 0,1 2,0Z\" style=\"opacity: 1; stroke-width: 0px; fill: rgb(135, 206, 250); fill-opacity: 1;\"/><path class=\"point\" transform=\"translate(187.32,253.09)\" d=\"M2,0A2,2 0 1,1 0,-2A2,2 0 0,1 2,0Z\" style=\"opacity: 1; stroke-width: 0px; fill: rgb(135, 206, 250); fill-opacity: 1;\"/><path class=\"point\" transform=\"translate(187.73,253.31)\" d=\"M2,0A2,2 0 1,1 0,-2A2,2 0 0,1 2,0Z\" style=\"opacity: 1; stroke-width: 0px; fill: rgb(135, 206, 250); fill-opacity: 1;\"/><path class=\"point\" transform=\"translate(188.13,251.51)\" d=\"M2,0A2,2 0 1,1 0,-2A2,2 0 0,1 2,0Z\" style=\"opacity: 1; stroke-width: 0px; fill: rgb(135, 206, 250); fill-opacity: 1;\"/><path class=\"point\" transform=\"translate(188.53,253.37)\" d=\"M2,0A2,2 0 1,1 0,-2A2,2 0 0,1 2,0Z\" style=\"opacity: 1; stroke-width: 0px; fill: rgb(135, 206, 250); fill-opacity: 1;\"/><path class=\"point\" transform=\"translate(188.93,251.92)\" d=\"M2,0A2,2 0 1,1 0,-2A2,2 0 0,1 2,0Z\" style=\"opacity: 1; stroke-width: 0px; fill: rgb(135, 206, 250); fill-opacity: 1;\"/><path class=\"point\" transform=\"translate(189.33,253.4)\" d=\"M2,0A2,2 0 1,1 0,-2A2,2 0 0,1 2,0Z\" style=\"opacity: 1; stroke-width: 0px; fill: rgb(135, 206, 250); fill-opacity: 1;\"/><path class=\"point\" transform=\"translate(189.73,252.89)\" d=\"M2,0A2,2 0 1,1 0,-2A2,2 0 0,1 2,0Z\" style=\"opacity: 1; stroke-width: 0px; fill: rgb(135, 206, 250); fill-opacity: 1;\"/><path class=\"point\" transform=\"translate(190.13,251.92)\" d=\"M2,0A2,2 0 1,1 0,-2A2,2 0 0,1 2,0Z\" style=\"opacity: 1; stroke-width: 0px; fill: rgb(135, 206, 250); fill-opacity: 1;\"/><path class=\"point\" transform=\"translate(190.54,252.62)\" d=\"M2,0A2,2 0 1,1 0,-2A2,2 0 0,1 2,0Z\" style=\"opacity: 1; stroke-width: 0px; fill: rgb(135, 206, 250); fill-opacity: 1;\"/><path class=\"point\" transform=\"translate(190.94,250.45)\" d=\"M2,0A2,2 0 1,1 0,-2A2,2 0 0,1 2,0Z\" style=\"opacity: 1; stroke-width: 0px; fill: rgb(135, 206, 250); fill-opacity: 1;\"/><path class=\"point\" transform=\"translate(191.34,253.02)\" d=\"M2,0A2,2 0 1,1 0,-2A2,2 0 0,1 2,0Z\" style=\"opacity: 1; stroke-width: 0px; fill: rgb(135, 206, 250); fill-opacity: 1;\"/><path class=\"point\" transform=\"translate(191.74,253.43)\" d=\"M2,0A2,2 0 1,1 0,-2A2,2 0 0,1 2,0Z\" style=\"opacity: 1; stroke-width: 0px; fill: rgb(135, 206, 250); fill-opacity: 1;\"/><path class=\"point\" transform=\"translate(192.14,253.5)\" d=\"M2,0A2,2 0 1,1 0,-2A2,2 0 0,1 2,0Z\" style=\"opacity: 1; stroke-width: 0px; fill: rgb(135, 206, 250); fill-opacity: 1;\"/><path class=\"point\" transform=\"translate(192.54,253.37)\" d=\"M2,0A2,2 0 1,1 0,-2A2,2 0 0,1 2,0Z\" style=\"opacity: 1; stroke-width: 0px; fill: rgb(135, 206, 250); fill-opacity: 1;\"/><path class=\"point\" transform=\"translate(192.94,249.21)\" d=\"M2,0A2,2 0 1,1 0,-2A2,2 0 0,1 2,0Z\" style=\"opacity: 1; stroke-width: 0px; fill: rgb(135, 206, 250); fill-opacity: 1;\"/><path class=\"point\" transform=\"translate(193.34,251.92)\" d=\"M2,0A2,2 0 1,1 0,-2A2,2 0 0,1 2,0Z\" style=\"opacity: 1; stroke-width: 0px; fill: rgb(135, 206, 250); fill-opacity: 1;\"/><path class=\"point\" transform=\"translate(193.75,251.28)\" d=\"M2,0A2,2 0 1,1 0,-2A2,2 0 0,1 2,0Z\" style=\"opacity: 1; stroke-width: 0px; fill: rgb(135, 206, 250); fill-opacity: 1;\"/><path class=\"point\" transform=\"translate(194.15,253.42)\" d=\"M2,0A2,2 0 1,1 0,-2A2,2 0 0,1 2,0Z\" style=\"opacity: 1; stroke-width: 0px; fill: rgb(135, 206, 250); fill-opacity: 1;\"/><path class=\"point\" transform=\"translate(194.55,253.38)\" d=\"M2,0A2,2 0 1,1 0,-2A2,2 0 0,1 2,0Z\" style=\"opacity: 1; stroke-width: 0px; fill: rgb(135, 206, 250); fill-opacity: 1;\"/><path class=\"point\" transform=\"translate(194.95,249.57)\" d=\"M2,0A2,2 0 1,1 0,-2A2,2 0 0,1 2,0Z\" style=\"opacity: 1; stroke-width: 0px; fill: rgb(135, 206, 250); fill-opacity: 1;\"/><path class=\"point\" transform=\"translate(195.35,253.35)\" d=\"M2,0A2,2 0 1,1 0,-2A2,2 0 0,1 2,0Z\" style=\"opacity: 1; stroke-width: 0px; fill: rgb(135, 206, 250); fill-opacity: 1;\"/><path class=\"point\" transform=\"translate(195.75,252.79)\" d=\"M2,0A2,2 0 1,1 0,-2A2,2 0 0,1 2,0Z\" style=\"opacity: 1; stroke-width: 0px; fill: rgb(135, 206, 250); fill-opacity: 1;\"/><path class=\"point\" transform=\"translate(196.15,253.46)\" d=\"M2,0A2,2 0 1,1 0,-2A2,2 0 0,1 2,0Z\" style=\"opacity: 1; stroke-width: 0px; fill: rgb(135, 206, 250); fill-opacity: 1;\"/><path class=\"point\" transform=\"translate(196.56,252.1)\" d=\"M2,0A2,2 0 1,1 0,-2A2,2 0 0,1 2,0Z\" style=\"opacity: 1; stroke-width: 0px; fill: rgb(135, 206, 250); fill-opacity: 1;\"/><path class=\"point\" transform=\"translate(196.96,253.41)\" d=\"M2,0A2,2 0 1,1 0,-2A2,2 0 0,1 2,0Z\" style=\"opacity: 1; stroke-width: 0px; fill: rgb(135, 206, 250); fill-opacity: 1;\"/><path class=\"point\" transform=\"translate(197.36,253.44)\" d=\"M2,0A2,2 0 1,1 0,-2A2,2 0 0,1 2,0Z\" style=\"opacity: 1; stroke-width: 0px; fill: rgb(135, 206, 250); fill-opacity: 1;\"/><path class=\"point\" transform=\"translate(197.76,253.39)\" d=\"M2,0A2,2 0 1,1 0,-2A2,2 0 0,1 2,0Z\" style=\"opacity: 1; stroke-width: 0px; fill: rgb(135, 206, 250); fill-opacity: 1;\"/><path class=\"point\" transform=\"translate(198.16,253.2)\" d=\"M2,0A2,2 0 1,1 0,-2A2,2 0 0,1 2,0Z\" style=\"opacity: 1; stroke-width: 0px; fill: rgb(135, 206, 250); fill-opacity: 1;\"/><path class=\"point\" transform=\"translate(198.56,247.53)\" d=\"M2,0A2,2 0 1,1 0,-2A2,2 0 0,1 2,0Z\" style=\"opacity: 1; stroke-width: 0px; fill: rgb(135, 206, 250); fill-opacity: 1;\"/><path class=\"point\" transform=\"translate(198.96,248.47)\" d=\"M2,0A2,2 0 1,1 0,-2A2,2 0 0,1 2,0Z\" style=\"opacity: 1; stroke-width: 0px; fill: rgb(135, 206, 250); fill-opacity: 1;\"/><path class=\"point\" transform=\"translate(199.36,252)\" d=\"M2,0A2,2 0 1,1 0,-2A2,2 0 0,1 2,0Z\" style=\"opacity: 1; stroke-width: 0px; fill: rgb(135, 206, 250); fill-opacity: 1;\"/><path class=\"point\" transform=\"translate(199.77,251.72)\" d=\"M2,0A2,2 0 1,1 0,-2A2,2 0 0,1 2,0Z\" style=\"opacity: 1; stroke-width: 0px; fill: rgb(135, 206, 250); fill-opacity: 1;\"/><path class=\"point\" transform=\"translate(200.17,253.43)\" d=\"M2,0A2,2 0 1,1 0,-2A2,2 0 0,1 2,0Z\" style=\"opacity: 1; stroke-width: 0px; fill: rgb(135, 206, 250); fill-opacity: 1;\"/><path class=\"point\" transform=\"translate(200.57,47.5)\" d=\"M2,0A2,2 0 1,1 0,-2A2,2 0 0,1 2,0Z\" style=\"opacity: 1; stroke-width: 0px; fill: rgb(135, 206, 250); fill-opacity: 1;\"/><path class=\"point\" transform=\"translate(200.97,253.09)\" d=\"M2,0A2,2 0 1,1 0,-2A2,2 0 0,1 2,0Z\" style=\"opacity: 1; stroke-width: 0px; fill: rgb(135, 206, 250); fill-opacity: 1;\"/><path class=\"point\" transform=\"translate(201.37,253.28)\" d=\"M2,0A2,2 0 1,1 0,-2A2,2 0 0,1 2,0Z\" style=\"opacity: 1; stroke-width: 0px; fill: rgb(135, 206, 250); fill-opacity: 1;\"/><path class=\"point\" transform=\"translate(201.77,252.72)\" d=\"M2,0A2,2 0 1,1 0,-2A2,2 0 0,1 2,0Z\" style=\"opacity: 1; stroke-width: 0px; fill: rgb(135, 206, 250); fill-opacity: 1;\"/><path class=\"point\" transform=\"translate(202.17,253.33)\" d=\"M2,0A2,2 0 1,1 0,-2A2,2 0 0,1 2,0Z\" style=\"opacity: 1; stroke-width: 0px; fill: rgb(135, 206, 250); fill-opacity: 1;\"/><path class=\"point\" transform=\"translate(202.58,253.01)\" d=\"M2,0A2,2 0 1,1 0,-2A2,2 0 0,1 2,0Z\" style=\"opacity: 1; stroke-width: 0px; fill: rgb(135, 206, 250); fill-opacity: 1;\"/><path class=\"point\" transform=\"translate(202.98,250.7)\" d=\"M2,0A2,2 0 1,1 0,-2A2,2 0 0,1 2,0Z\" style=\"opacity: 1; stroke-width: 0px; fill: rgb(135, 206, 250); fill-opacity: 1;\"/><path class=\"point\" transform=\"translate(203.38,252.64)\" d=\"M2,0A2,2 0 1,1 0,-2A2,2 0 0,1 2,0Z\" style=\"opacity: 1; stroke-width: 0px; fill: rgb(135, 206, 250); fill-opacity: 1;\"/><path class=\"point\" transform=\"translate(203.78,252.59)\" d=\"M2,0A2,2 0 1,1 0,-2A2,2 0 0,1 2,0Z\" style=\"opacity: 1; stroke-width: 0px; fill: rgb(135, 206, 250); fill-opacity: 1;\"/><path class=\"point\" transform=\"translate(204.18,253.26)\" d=\"M2,0A2,2 0 1,1 0,-2A2,2 0 0,1 2,0Z\" style=\"opacity: 1; stroke-width: 0px; fill: rgb(135, 206, 250); fill-opacity: 1;\"/><path class=\"point\" transform=\"translate(204.58,250.25)\" d=\"M2,0A2,2 0 1,1 0,-2A2,2 0 0,1 2,0Z\" style=\"opacity: 1; stroke-width: 0px; fill: rgb(135, 206, 250); fill-opacity: 1;\"/><path class=\"point\" transform=\"translate(204.98,251.75)\" d=\"M2,0A2,2 0 1,1 0,-2A2,2 0 0,1 2,0Z\" style=\"opacity: 1; stroke-width: 0px; fill: rgb(135, 206, 250); fill-opacity: 1;\"/><path class=\"point\" transform=\"translate(205.38,253.19)\" d=\"M2,0A2,2 0 1,1 0,-2A2,2 0 0,1 2,0Z\" style=\"opacity: 1; stroke-width: 0px; fill: rgb(135, 206, 250); fill-opacity: 1;\"/><path class=\"point\" transform=\"translate(205.79,253.15)\" d=\"M2,0A2,2 0 1,1 0,-2A2,2 0 0,1 2,0Z\" style=\"opacity: 1; stroke-width: 0px; fill: rgb(135, 206, 250); fill-opacity: 1;\"/><path class=\"point\" transform=\"translate(206.19,253.48)\" d=\"M2,0A2,2 0 1,1 0,-2A2,2 0 0,1 2,0Z\" style=\"opacity: 1; stroke-width: 0px; fill: rgb(135, 206, 250); fill-opacity: 1;\"/><path class=\"point\" transform=\"translate(206.59,253.19)\" d=\"M2,0A2,2 0 1,1 0,-2A2,2 0 0,1 2,0Z\" style=\"opacity: 1; stroke-width: 0px; fill: rgb(135, 206, 250); fill-opacity: 1;\"/><path class=\"point\" transform=\"translate(206.99,253.04)\" d=\"M2,0A2,2 0 1,1 0,-2A2,2 0 0,1 2,0Z\" style=\"opacity: 1; stroke-width: 0px; fill: rgb(135, 206, 250); fill-opacity: 1;\"/><path class=\"point\" transform=\"translate(207.39,253.43)\" d=\"M2,0A2,2 0 1,1 0,-2A2,2 0 0,1 2,0Z\" style=\"opacity: 1; stroke-width: 0px; fill: rgb(135, 206, 250); fill-opacity: 1;\"/><path class=\"point\" transform=\"translate(207.79,252.35)\" d=\"M2,0A2,2 0 1,1 0,-2A2,2 0 0,1 2,0Z\" style=\"opacity: 1; stroke-width: 0px; fill: rgb(135, 206, 250); fill-opacity: 1;\"/><path class=\"point\" transform=\"translate(208.19,250.57)\" d=\"M2,0A2,2 0 1,1 0,-2A2,2 0 0,1 2,0Z\" style=\"opacity: 1; stroke-width: 0px; fill: rgb(135, 206, 250); fill-opacity: 1;\"/><path class=\"point\" transform=\"translate(208.6,253.45)\" d=\"M2,0A2,2 0 1,1 0,-2A2,2 0 0,1 2,0Z\" style=\"opacity: 1; stroke-width: 0px; fill: rgb(135, 206, 250); fill-opacity: 1;\"/><path class=\"point\" transform=\"translate(209,252.45)\" d=\"M2,0A2,2 0 1,1 0,-2A2,2 0 0,1 2,0Z\" style=\"opacity: 1; stroke-width: 0px; fill: rgb(135, 206, 250); fill-opacity: 1;\"/><path class=\"point\" transform=\"translate(209.4,253.05)\" d=\"M2,0A2,2 0 1,1 0,-2A2,2 0 0,1 2,0Z\" style=\"opacity: 1; stroke-width: 0px; fill: rgb(135, 206, 250); fill-opacity: 1;\"/><path class=\"point\" transform=\"translate(209.8,253.04)\" d=\"M2,0A2,2 0 1,1 0,-2A2,2 0 0,1 2,0Z\" style=\"opacity: 1; stroke-width: 0px; fill: rgb(135, 206, 250); fill-opacity: 1;\"/><path class=\"point\" transform=\"translate(210.2,252.51)\" d=\"M2,0A2,2 0 1,1 0,-2A2,2 0 0,1 2,0Z\" style=\"opacity: 1; stroke-width: 0px; fill: rgb(135, 206, 250); fill-opacity: 1;\"/><path class=\"point\" transform=\"translate(210.6,253.28)\" d=\"M2,0A2,2 0 1,1 0,-2A2,2 0 0,1 2,0Z\" style=\"opacity: 1; stroke-width: 0px; fill: rgb(135, 206, 250); fill-opacity: 1;\"/><path class=\"point\" transform=\"translate(211,253.43)\" d=\"M2,0A2,2 0 1,1 0,-2A2,2 0 0,1 2,0Z\" style=\"opacity: 1; stroke-width: 0px; fill: rgb(135, 206, 250); fill-opacity: 1;\"/><path class=\"point\" transform=\"translate(211.4,252.67)\" d=\"M2,0A2,2 0 1,1 0,-2A2,2 0 0,1 2,0Z\" style=\"opacity: 1; stroke-width: 0px; fill: rgb(135, 206, 250); fill-opacity: 1;\"/><path class=\"point\" transform=\"translate(211.81,252.79)\" d=\"M2,0A2,2 0 1,1 0,-2A2,2 0 0,1 2,0Z\" style=\"opacity: 1; stroke-width: 0px; fill: rgb(135, 206, 250); fill-opacity: 1;\"/><path class=\"point\" transform=\"translate(212.21,252.34)\" d=\"M2,0A2,2 0 1,1 0,-2A2,2 0 0,1 2,0Z\" style=\"opacity: 1; stroke-width: 0px; fill: rgb(135, 206, 250); fill-opacity: 1;\"/><path class=\"point\" transform=\"translate(212.61,253.02)\" d=\"M2,0A2,2 0 1,1 0,-2A2,2 0 0,1 2,0Z\" style=\"opacity: 1; stroke-width: 0px; fill: rgb(135, 206, 250); fill-opacity: 1;\"/><path class=\"point\" transform=\"translate(213.01,253.25)\" d=\"M2,0A2,2 0 1,1 0,-2A2,2 0 0,1 2,0Z\" style=\"opacity: 1; stroke-width: 0px; fill: rgb(135, 206, 250); fill-opacity: 1;\"/><path class=\"point\" transform=\"translate(213.41,253.03)\" d=\"M2,0A2,2 0 1,1 0,-2A2,2 0 0,1 2,0Z\" style=\"opacity: 1; stroke-width: 0px; fill: rgb(135, 206, 250); fill-opacity: 1;\"/><path class=\"point\" transform=\"translate(213.81,253.3)\" d=\"M2,0A2,2 0 1,1 0,-2A2,2 0 0,1 2,0Z\" style=\"opacity: 1; stroke-width: 0px; fill: rgb(135, 206, 250); fill-opacity: 1;\"/><path class=\"point\" transform=\"translate(214.21,253.5)\" d=\"M2,0A2,2 0 1,1 0,-2A2,2 0 0,1 2,0Z\" style=\"opacity: 1; stroke-width: 0px; fill: rgb(135, 206, 250); fill-opacity: 1;\"/><path class=\"point\" transform=\"translate(214.62,253)\" d=\"M2,0A2,2 0 1,1 0,-2A2,2 0 0,1 2,0Z\" style=\"opacity: 1; stroke-width: 0px; fill: rgb(135, 206, 250); fill-opacity: 1;\"/><path class=\"point\" transform=\"translate(215.02,249.28)\" d=\"M2,0A2,2 0 1,1 0,-2A2,2 0 0,1 2,0Z\" style=\"opacity: 1; stroke-width: 0px; fill: rgb(135, 206, 250); fill-opacity: 1;\"/><path class=\"point\" transform=\"translate(215.42,252.04)\" d=\"M2,0A2,2 0 1,1 0,-2A2,2 0 0,1 2,0Z\" style=\"opacity: 1; stroke-width: 0px; fill: rgb(135, 206, 250); fill-opacity: 1;\"/><path class=\"point\" transform=\"translate(215.82,250.89)\" d=\"M2,0A2,2 0 1,1 0,-2A2,2 0 0,1 2,0Z\" style=\"opacity: 1; stroke-width: 0px; fill: rgb(135, 206, 250); fill-opacity: 1;\"/><path class=\"point\" transform=\"translate(216.22,253.22)\" d=\"M2,0A2,2 0 1,1 0,-2A2,2 0 0,1 2,0Z\" style=\"opacity: 1; stroke-width: 0px; fill: rgb(135, 206, 250); fill-opacity: 1;\"/><path class=\"point\" transform=\"translate(216.62,251.93)\" d=\"M2,0A2,2 0 1,1 0,-2A2,2 0 0,1 2,0Z\" style=\"opacity: 1; stroke-width: 0px; fill: rgb(135, 206, 250); fill-opacity: 1;\"/><path class=\"point\" transform=\"translate(217.02,253.06)\" d=\"M2,0A2,2 0 1,1 0,-2A2,2 0 0,1 2,0Z\" style=\"opacity: 1; stroke-width: 0px; fill: rgb(135, 206, 250); fill-opacity: 1;\"/><path class=\"point\" transform=\"translate(217.42,253.44)\" d=\"M2,0A2,2 0 1,1 0,-2A2,2 0 0,1 2,0Z\" style=\"opacity: 1; stroke-width: 0px; fill: rgb(135, 206, 250); fill-opacity: 1;\"/><path class=\"point\" transform=\"translate(217.83,253.27)\" d=\"M2,0A2,2 0 1,1 0,-2A2,2 0 0,1 2,0Z\" style=\"opacity: 1; stroke-width: 0px; fill: rgb(135, 206, 250); fill-opacity: 1;\"/><path class=\"point\" transform=\"translate(218.23,252.08)\" d=\"M2,0A2,2 0 1,1 0,-2A2,2 0 0,1 2,0Z\" style=\"opacity: 1; stroke-width: 0px; fill: rgb(135, 206, 250); fill-opacity: 1;\"/><path class=\"point\" transform=\"translate(218.63,252.11)\" d=\"M2,0A2,2 0 1,1 0,-2A2,2 0 0,1 2,0Z\" style=\"opacity: 1; stroke-width: 0px; fill: rgb(135, 206, 250); fill-opacity: 1;\"/><path class=\"point\" transform=\"translate(219.03,253.11)\" d=\"M2,0A2,2 0 1,1 0,-2A2,2 0 0,1 2,0Z\" style=\"opacity: 1; stroke-width: 0px; fill: rgb(135, 206, 250); fill-opacity: 1;\"/><path class=\"point\" transform=\"translate(219.43,253.19)\" d=\"M2,0A2,2 0 1,1 0,-2A2,2 0 0,1 2,0Z\" style=\"opacity: 1; stroke-width: 0px; fill: rgb(135, 206, 250); fill-opacity: 1;\"/><path class=\"point\" transform=\"translate(219.83,252.81)\" d=\"M2,0A2,2 0 1,1 0,-2A2,2 0 0,1 2,0Z\" style=\"opacity: 1; stroke-width: 0px; fill: rgb(135, 206, 250); fill-opacity: 1;\"/><path class=\"point\" transform=\"translate(220.23,253.35)\" d=\"M2,0A2,2 0 1,1 0,-2A2,2 0 0,1 2,0Z\" style=\"opacity: 1; stroke-width: 0px; fill: rgb(135, 206, 250); fill-opacity: 1;\"/><path class=\"point\" transform=\"translate(220.64,253.45)\" d=\"M2,0A2,2 0 1,1 0,-2A2,2 0 0,1 2,0Z\" style=\"opacity: 1; stroke-width: 0px; fill: rgb(135, 206, 250); fill-opacity: 1;\"/><path class=\"point\" transform=\"translate(221.04,253.46)\" d=\"M2,0A2,2 0 1,1 0,-2A2,2 0 0,1 2,0Z\" style=\"opacity: 1; stroke-width: 0px; fill: rgb(135, 206, 250); fill-opacity: 1;\"/><path class=\"point\" transform=\"translate(221.44,250.44)\" d=\"M2,0A2,2 0 1,1 0,-2A2,2 0 0,1 2,0Z\" style=\"opacity: 1; stroke-width: 0px; fill: rgb(135, 206, 250); fill-opacity: 1;\"/><path class=\"point\" transform=\"translate(221.84,251.32)\" d=\"M2,0A2,2 0 1,1 0,-2A2,2 0 0,1 2,0Z\" style=\"opacity: 1; stroke-width: 0px; fill: rgb(135, 206, 250); fill-opacity: 1;\"/><path class=\"point\" transform=\"translate(222.24,253.16)\" d=\"M2,0A2,2 0 1,1 0,-2A2,2 0 0,1 2,0Z\" style=\"opacity: 1; stroke-width: 0px; fill: rgb(135, 206, 250); fill-opacity: 1;\"/><path class=\"point\" transform=\"translate(222.64,253.26)\" d=\"M2,0A2,2 0 1,1 0,-2A2,2 0 0,1 2,0Z\" style=\"opacity: 1; stroke-width: 0px; fill: rgb(135, 206, 250); fill-opacity: 1;\"/><path class=\"point\" transform=\"translate(223.04,248.63)\" d=\"M2,0A2,2 0 1,1 0,-2A2,2 0 0,1 2,0Z\" style=\"opacity: 1; stroke-width: 0px; fill: rgb(135, 206, 250); fill-opacity: 1;\"/><path class=\"point\" transform=\"translate(223.44,253.22)\" d=\"M2,0A2,2 0 1,1 0,-2A2,2 0 0,1 2,0Z\" style=\"opacity: 1; stroke-width: 0px; fill: rgb(135, 206, 250); fill-opacity: 1;\"/><path class=\"point\" transform=\"translate(223.85,252.44)\" d=\"M2,0A2,2 0 1,1 0,-2A2,2 0 0,1 2,0Z\" style=\"opacity: 1; stroke-width: 0px; fill: rgb(135, 206, 250); fill-opacity: 1;\"/><path class=\"point\" transform=\"translate(224.25,252.51)\" d=\"M2,0A2,2 0 1,1 0,-2A2,2 0 0,1 2,0Z\" style=\"opacity: 1; stroke-width: 0px; fill: rgb(135, 206, 250); fill-opacity: 1;\"/><path class=\"point\" transform=\"translate(224.65,253.45)\" d=\"M2,0A2,2 0 1,1 0,-2A2,2 0 0,1 2,0Z\" style=\"opacity: 1; stroke-width: 0px; fill: rgb(135, 206, 250); fill-opacity: 1;\"/><path class=\"point\" transform=\"translate(225.05,253.33)\" d=\"M2,0A2,2 0 1,1 0,-2A2,2 0 0,1 2,0Z\" style=\"opacity: 1; stroke-width: 0px; fill: rgb(135, 206, 250); fill-opacity: 1;\"/><path class=\"point\" transform=\"translate(225.45,253.27)\" d=\"M2,0A2,2 0 1,1 0,-2A2,2 0 0,1 2,0Z\" style=\"opacity: 1; stroke-width: 0px; fill: rgb(135, 206, 250); fill-opacity: 1;\"/><path class=\"point\" transform=\"translate(225.85,253.25)\" d=\"M2,0A2,2 0 1,1 0,-2A2,2 0 0,1 2,0Z\" style=\"opacity: 1; stroke-width: 0px; fill: rgb(135, 206, 250); fill-opacity: 1;\"/><path class=\"point\" transform=\"translate(226.25,251.74)\" d=\"M2,0A2,2 0 1,1 0,-2A2,2 0 0,1 2,0Z\" style=\"opacity: 1; stroke-width: 0px; fill: rgb(135, 206, 250); fill-opacity: 1;\"/><path class=\"point\" transform=\"translate(226.66,250.31)\" d=\"M2,0A2,2 0 1,1 0,-2A2,2 0 0,1 2,0Z\" style=\"opacity: 1; stroke-width: 0px; fill: rgb(135, 206, 250); fill-opacity: 1;\"/><path class=\"point\" transform=\"translate(227.06,253.07)\" d=\"M2,0A2,2 0 1,1 0,-2A2,2 0 0,1 2,0Z\" style=\"opacity: 1; stroke-width: 0px; fill: rgb(135, 206, 250); fill-opacity: 1;\"/><path class=\"point\" transform=\"translate(227.46,252.09)\" d=\"M2,0A2,2 0 1,1 0,-2A2,2 0 0,1 2,0Z\" style=\"opacity: 1; stroke-width: 0px; fill: rgb(135, 206, 250); fill-opacity: 1;\"/><path class=\"point\" transform=\"translate(227.86,252.14)\" d=\"M2,0A2,2 0 1,1 0,-2A2,2 0 0,1 2,0Z\" style=\"opacity: 1; stroke-width: 0px; fill: rgb(135, 206, 250); fill-opacity: 1;\"/><path class=\"point\" transform=\"translate(228.26,253.19)\" d=\"M2,0A2,2 0 1,1 0,-2A2,2 0 0,1 2,0Z\" style=\"opacity: 1; stroke-width: 0px; fill: rgb(135, 206, 250); fill-opacity: 1;\"/><path class=\"point\" transform=\"translate(228.66,251.89)\" d=\"M2,0A2,2 0 1,1 0,-2A2,2 0 0,1 2,0Z\" style=\"opacity: 1; stroke-width: 0px; fill: rgb(135, 206, 250); fill-opacity: 1;\"/><path class=\"point\" transform=\"translate(229.06,248.58)\" d=\"M2,0A2,2 0 1,1 0,-2A2,2 0 0,1 2,0Z\" style=\"opacity: 1; stroke-width: 0px; fill: rgb(135, 206, 250); fill-opacity: 1;\"/><path class=\"point\" transform=\"translate(229.46,253.11)\" d=\"M2,0A2,2 0 1,1 0,-2A2,2 0 0,1 2,0Z\" style=\"opacity: 1; stroke-width: 0px; fill: rgb(135, 206, 250); fill-opacity: 1;\"/><path class=\"point\" transform=\"translate(229.87,253.13)\" d=\"M2,0A2,2 0 1,1 0,-2A2,2 0 0,1 2,0Z\" style=\"opacity: 1; stroke-width: 0px; fill: rgb(135, 206, 250); fill-opacity: 1;\"/><path class=\"point\" transform=\"translate(230.27,252)\" d=\"M2,0A2,2 0 1,1 0,-2A2,2 0 0,1 2,0Z\" style=\"opacity: 1; stroke-width: 0px; fill: rgb(135, 206, 250); fill-opacity: 1;\"/><path class=\"point\" transform=\"translate(230.67,253.31)\" d=\"M2,0A2,2 0 1,1 0,-2A2,2 0 0,1 2,0Z\" style=\"opacity: 1; stroke-width: 0px; fill: rgb(135, 206, 250); fill-opacity: 1;\"/><path class=\"point\" transform=\"translate(231.07,253.43)\" d=\"M2,0A2,2 0 1,1 0,-2A2,2 0 0,1 2,0Z\" style=\"opacity: 1; stroke-width: 0px; fill: rgb(135, 206, 250); fill-opacity: 1;\"/><path class=\"point\" transform=\"translate(231.47,253.46)\" d=\"M2,0A2,2 0 1,1 0,-2A2,2 0 0,1 2,0Z\" style=\"opacity: 1; stroke-width: 0px; fill: rgb(135, 206, 250); fill-opacity: 1;\"/><path class=\"point\" transform=\"translate(231.87,253.35)\" d=\"M2,0A2,2 0 1,1 0,-2A2,2 0 0,1 2,0Z\" style=\"opacity: 1; stroke-width: 0px; fill: rgb(135, 206, 250); fill-opacity: 1;\"/><path class=\"point\" transform=\"translate(232.27,253.1)\" d=\"M2,0A2,2 0 1,1 0,-2A2,2 0 0,1 2,0Z\" style=\"opacity: 1; stroke-width: 0px; fill: rgb(135, 206, 250); fill-opacity: 1;\"/><path class=\"point\" transform=\"translate(232.68,253.1)\" d=\"M2,0A2,2 0 1,1 0,-2A2,2 0 0,1 2,0Z\" style=\"opacity: 1; stroke-width: 0px; fill: rgb(135, 206, 250); fill-opacity: 1;\"/><path class=\"point\" transform=\"translate(233.08,252.2)\" d=\"M2,0A2,2 0 1,1 0,-2A2,2 0 0,1 2,0Z\" style=\"opacity: 1; stroke-width: 0px; fill: rgb(135, 206, 250); fill-opacity: 1;\"/><path class=\"point\" transform=\"translate(233.48,253.42)\" d=\"M2,0A2,2 0 1,1 0,-2A2,2 0 0,1 2,0Z\" style=\"opacity: 1; stroke-width: 0px; fill: rgb(135, 206, 250); fill-opacity: 1;\"/><path class=\"point\" transform=\"translate(233.88,252.66)\" d=\"M2,0A2,2 0 1,1 0,-2A2,2 0 0,1 2,0Z\" style=\"opacity: 1; stroke-width: 0px; fill: rgb(135, 206, 250); fill-opacity: 1;\"/><path class=\"point\" transform=\"translate(234.28,253.01)\" d=\"M2,0A2,2 0 1,1 0,-2A2,2 0 0,1 2,0Z\" style=\"opacity: 1; stroke-width: 0px; fill: rgb(135, 206, 250); fill-opacity: 1;\"/><path class=\"point\" transform=\"translate(234.68,253.2)\" d=\"M2,0A2,2 0 1,1 0,-2A2,2 0 0,1 2,0Z\" style=\"opacity: 1; stroke-width: 0px; fill: rgb(135, 206, 250); fill-opacity: 1;\"/><path class=\"point\" transform=\"translate(235.08,250.74)\" d=\"M2,0A2,2 0 1,1 0,-2A2,2 0 0,1 2,0Z\" style=\"opacity: 1; stroke-width: 0px; fill: rgb(135, 206, 250); fill-opacity: 1;\"/><path class=\"point\" transform=\"translate(235.48,252.74)\" d=\"M2,0A2,2 0 1,1 0,-2A2,2 0 0,1 2,0Z\" style=\"opacity: 1; stroke-width: 0px; fill: rgb(135, 206, 250); fill-opacity: 1;\"/><path class=\"point\" transform=\"translate(235.89,252.41)\" d=\"M2,0A2,2 0 1,1 0,-2A2,2 0 0,1 2,0Z\" style=\"opacity: 1; stroke-width: 0px; fill: rgb(135, 206, 250); fill-opacity: 1;\"/><path class=\"point\" transform=\"translate(236.29,252.6)\" d=\"M2,0A2,2 0 1,1 0,-2A2,2 0 0,1 2,0Z\" style=\"opacity: 1; stroke-width: 0px; fill: rgb(135, 206, 250); fill-opacity: 1;\"/><path class=\"point\" transform=\"translate(236.69,253.24)\" d=\"M2,0A2,2 0 1,1 0,-2A2,2 0 0,1 2,0Z\" style=\"opacity: 1; stroke-width: 0px; fill: rgb(135, 206, 250); fill-opacity: 1;\"/><path class=\"point\" transform=\"translate(237.09,252.54)\" d=\"M2,0A2,2 0 1,1 0,-2A2,2 0 0,1 2,0Z\" style=\"opacity: 1; stroke-width: 0px; fill: rgb(135, 206, 250); fill-opacity: 1;\"/><path class=\"point\" transform=\"translate(237.49,253.35)\" d=\"M2,0A2,2 0 1,1 0,-2A2,2 0 0,1 2,0Z\" style=\"opacity: 1; stroke-width: 0px; fill: rgb(135, 206, 250); fill-opacity: 1;\"/><path class=\"point\" transform=\"translate(237.89,253.01)\" d=\"M2,0A2,2 0 1,1 0,-2A2,2 0 0,1 2,0Z\" style=\"opacity: 1; stroke-width: 0px; fill: rgb(135, 206, 250); fill-opacity: 1;\"/><path class=\"point\" transform=\"translate(238.29,253.45)\" d=\"M2,0A2,2 0 1,1 0,-2A2,2 0 0,1 2,0Z\" style=\"opacity: 1; stroke-width: 0px; fill: rgb(135, 206, 250); fill-opacity: 1;\"/><path class=\"point\" transform=\"translate(238.7,253.39)\" d=\"M2,0A2,2 0 1,1 0,-2A2,2 0 0,1 2,0Z\" style=\"opacity: 1; stroke-width: 0px; fill: rgb(135, 206, 250); fill-opacity: 1;\"/><path class=\"point\" transform=\"translate(239.1,251.85)\" d=\"M2,0A2,2 0 1,1 0,-2A2,2 0 0,1 2,0Z\" style=\"opacity: 1; stroke-width: 0px; fill: rgb(135, 206, 250); fill-opacity: 1;\"/><path class=\"point\" transform=\"translate(239.5,252.97)\" d=\"M2,0A2,2 0 1,1 0,-2A2,2 0 0,1 2,0Z\" style=\"opacity: 1; stroke-width: 0px; fill: rgb(135, 206, 250); fill-opacity: 1;\"/><path class=\"point\" transform=\"translate(239.9,252.73)\" d=\"M2,0A2,2 0 1,1 0,-2A2,2 0 0,1 2,0Z\" style=\"opacity: 1; stroke-width: 0px; fill: rgb(135, 206, 250); fill-opacity: 1;\"/><path class=\"point\" transform=\"translate(240.3,252.46)\" d=\"M2,0A2,2 0 1,1 0,-2A2,2 0 0,1 2,0Z\" style=\"opacity: 1; stroke-width: 0px; fill: rgb(135, 206, 250); fill-opacity: 1;\"/><path class=\"point\" transform=\"translate(240.7,250.08)\" d=\"M2,0A2,2 0 1,1 0,-2A2,2 0 0,1 2,0Z\" style=\"opacity: 1; stroke-width: 0px; fill: rgb(135, 206, 250); fill-opacity: 1;\"/><path class=\"point\" transform=\"translate(241.1,253.43)\" d=\"M2,0A2,2 0 1,1 0,-2A2,2 0 0,1 2,0Z\" style=\"opacity: 1; stroke-width: 0px; fill: rgb(135, 206, 250); fill-opacity: 1;\"/><path class=\"point\" transform=\"translate(241.51,248.19)\" d=\"M2,0A2,2 0 1,1 0,-2A2,2 0 0,1 2,0Z\" style=\"opacity: 1; stroke-width: 0px; fill: rgb(135, 206, 250); fill-opacity: 1;\"/><path class=\"point\" transform=\"translate(241.91,253.39)\" d=\"M2,0A2,2 0 1,1 0,-2A2,2 0 0,1 2,0Z\" style=\"opacity: 1; stroke-width: 0px; fill: rgb(135, 206, 250); fill-opacity: 1;\"/><path class=\"point\" transform=\"translate(242.31,252.95)\" d=\"M2,0A2,2 0 1,1 0,-2A2,2 0 0,1 2,0Z\" style=\"opacity: 1; stroke-width: 0px; fill: rgb(135, 206, 250); fill-opacity: 1;\"/><path class=\"point\" transform=\"translate(242.71,246.51)\" d=\"M2,0A2,2 0 1,1 0,-2A2,2 0 0,1 2,0Z\" style=\"opacity: 1; stroke-width: 0px; fill: rgb(135, 206, 250); fill-opacity: 1;\"/><path class=\"point\" transform=\"translate(243.11,251.38)\" d=\"M2,0A2,2 0 1,1 0,-2A2,2 0 0,1 2,0Z\" style=\"opacity: 1; stroke-width: 0px; fill: rgb(135, 206, 250); fill-opacity: 1;\"/><path class=\"point\" transform=\"translate(243.51,251.93)\" d=\"M2,0A2,2 0 1,1 0,-2A2,2 0 0,1 2,0Z\" style=\"opacity: 1; stroke-width: 0px; fill: rgb(135, 206, 250); fill-opacity: 1;\"/><path class=\"point\" transform=\"translate(243.91,253.4)\" d=\"M2,0A2,2 0 1,1 0,-2A2,2 0 0,1 2,0Z\" style=\"opacity: 1; stroke-width: 0px; fill: rgb(135, 206, 250); fill-opacity: 1;\"/><path class=\"point\" transform=\"translate(244.31,252.79)\" d=\"M2,0A2,2 0 1,1 0,-2A2,2 0 0,1 2,0Z\" style=\"opacity: 1; stroke-width: 0px; fill: rgb(135, 206, 250); fill-opacity: 1;\"/><path class=\"point\" transform=\"translate(244.72,252.17)\" d=\"M2,0A2,2 0 1,1 0,-2A2,2 0 0,1 2,0Z\" style=\"opacity: 1; stroke-width: 0px; fill: rgb(135, 206, 250); fill-opacity: 1;\"/><path class=\"point\" transform=\"translate(245.12,250.29)\" d=\"M2,0A2,2 0 1,1 0,-2A2,2 0 0,1 2,0Z\" style=\"opacity: 1; stroke-width: 0px; fill: rgb(135, 206, 250); fill-opacity: 1;\"/><path class=\"point\" transform=\"translate(245.52,253.45)\" d=\"M2,0A2,2 0 1,1 0,-2A2,2 0 0,1 2,0Z\" style=\"opacity: 1; stroke-width: 0px; fill: rgb(135, 206, 250); fill-opacity: 1;\"/><path class=\"point\" transform=\"translate(245.92,252.73)\" d=\"M2,0A2,2 0 1,1 0,-2A2,2 0 0,1 2,0Z\" style=\"opacity: 1; stroke-width: 0px; fill: rgb(135, 206, 250); fill-opacity: 1;\"/><path class=\"point\" transform=\"translate(246.32,252.49)\" d=\"M2,0A2,2 0 1,1 0,-2A2,2 0 0,1 2,0Z\" style=\"opacity: 1; stroke-width: 0px; fill: rgb(135, 206, 250); fill-opacity: 1;\"/><path class=\"point\" transform=\"translate(246.72,253.33)\" d=\"M2,0A2,2 0 1,1 0,-2A2,2 0 0,1 2,0Z\" style=\"opacity: 1; stroke-width: 0px; fill: rgb(135, 206, 250); fill-opacity: 1;\"/><path class=\"point\" transform=\"translate(247.12,253.14)\" d=\"M2,0A2,2 0 1,1 0,-2A2,2 0 0,1 2,0Z\" style=\"opacity: 1; stroke-width: 0px; fill: rgb(135, 206, 250); fill-opacity: 1;\"/><path class=\"point\" transform=\"translate(247.53,251.84)\" d=\"M2,0A2,2 0 1,1 0,-2A2,2 0 0,1 2,0Z\" style=\"opacity: 1; stroke-width: 0px; fill: rgb(135, 206, 250); fill-opacity: 1;\"/><path class=\"point\" transform=\"translate(247.93,252.51)\" d=\"M2,0A2,2 0 1,1 0,-2A2,2 0 0,1 2,0Z\" style=\"opacity: 1; stroke-width: 0px; fill: rgb(135, 206, 250); fill-opacity: 1;\"/><path class=\"point\" transform=\"translate(248.33,251.64)\" d=\"M2,0A2,2 0 1,1 0,-2A2,2 0 0,1 2,0Z\" style=\"opacity: 1; stroke-width: 0px; fill: rgb(135, 206, 250); fill-opacity: 1;\"/><path class=\"point\" transform=\"translate(248.73,250.65)\" d=\"M2,0A2,2 0 1,1 0,-2A2,2 0 0,1 2,0Z\" style=\"opacity: 1; stroke-width: 0px; fill: rgb(135, 206, 250); fill-opacity: 1;\"/><path class=\"point\" transform=\"translate(249.13,252.88)\" d=\"M2,0A2,2 0 1,1 0,-2A2,2 0 0,1 2,0Z\" style=\"opacity: 1; stroke-width: 0px; fill: rgb(135, 206, 250); fill-opacity: 1;\"/><path class=\"point\" transform=\"translate(249.53,249.52)\" d=\"M2,0A2,2 0 1,1 0,-2A2,2 0 0,1 2,0Z\" style=\"opacity: 1; stroke-width: 0px; fill: rgb(135, 206, 250); fill-opacity: 1;\"/><path class=\"point\" transform=\"translate(249.93,253.26)\" d=\"M2,0A2,2 0 1,1 0,-2A2,2 0 0,1 2,0Z\" style=\"opacity: 1; stroke-width: 0px; fill: rgb(135, 206, 250); fill-opacity: 1;\"/><path class=\"point\" transform=\"translate(250.33,247.86)\" d=\"M2,0A2,2 0 1,1 0,-2A2,2 0 0,1 2,0Z\" style=\"opacity: 1; stroke-width: 0px; fill: rgb(135, 206, 250); fill-opacity: 1;\"/><path class=\"point\" transform=\"translate(250.74,251.96)\" d=\"M2,0A2,2 0 1,1 0,-2A2,2 0 0,1 2,0Z\" style=\"opacity: 1; stroke-width: 0px; fill: rgb(135, 206, 250); fill-opacity: 1;\"/><path class=\"point\" transform=\"translate(251.14,249.13)\" d=\"M2,0A2,2 0 1,1 0,-2A2,2 0 0,1 2,0Z\" style=\"opacity: 1; stroke-width: 0px; fill: rgb(135, 206, 250); fill-opacity: 1;\"/><path class=\"point\" transform=\"translate(251.54,253.27)\" d=\"M2,0A2,2 0 1,1 0,-2A2,2 0 0,1 2,0Z\" style=\"opacity: 1; stroke-width: 0px; fill: rgb(135, 206, 250); fill-opacity: 1;\"/><path class=\"point\" transform=\"translate(251.94,253.21)\" d=\"M2,0A2,2 0 1,1 0,-2A2,2 0 0,1 2,0Z\" style=\"opacity: 1; stroke-width: 0px; fill: rgb(135, 206, 250); fill-opacity: 1;\"/><path class=\"point\" transform=\"translate(252.34,253.37)\" d=\"M2,0A2,2 0 1,1 0,-2A2,2 0 0,1 2,0Z\" style=\"opacity: 1; stroke-width: 0px; fill: rgb(135, 206, 250); fill-opacity: 1;\"/><path class=\"point\" transform=\"translate(252.74,252.79)\" d=\"M2,0A2,2 0 1,1 0,-2A2,2 0 0,1 2,0Z\" style=\"opacity: 1; stroke-width: 0px; fill: rgb(135, 206, 250); fill-opacity: 1;\"/><path class=\"point\" transform=\"translate(253.14,252.71)\" d=\"M2,0A2,2 0 1,1 0,-2A2,2 0 0,1 2,0Z\" style=\"opacity: 1; stroke-width: 0px; fill: rgb(135, 206, 250); fill-opacity: 1;\"/><path class=\"point\" transform=\"translate(253.55,252.93)\" d=\"M2,0A2,2 0 1,1 0,-2A2,2 0 0,1 2,0Z\" style=\"opacity: 1; stroke-width: 0px; fill: rgb(135, 206, 250); fill-opacity: 1;\"/><path class=\"point\" transform=\"translate(253.95,252.71)\" d=\"M2,0A2,2 0 1,1 0,-2A2,2 0 0,1 2,0Z\" style=\"opacity: 1; stroke-width: 0px; fill: rgb(135, 206, 250); fill-opacity: 1;\"/><path class=\"point\" transform=\"translate(254.35,253.37)\" d=\"M2,0A2,2 0 1,1 0,-2A2,2 0 0,1 2,0Z\" style=\"opacity: 1; stroke-width: 0px; fill: rgb(135, 206, 250); fill-opacity: 1;\"/><path class=\"point\" transform=\"translate(254.75,253.26)\" d=\"M2,0A2,2 0 1,1 0,-2A2,2 0 0,1 2,0Z\" style=\"opacity: 1; stroke-width: 0px; fill: rgb(135, 206, 250); fill-opacity: 1;\"/><path class=\"point\" transform=\"translate(255.15,253.11)\" d=\"M2,0A2,2 0 1,1 0,-2A2,2 0 0,1 2,0Z\" style=\"opacity: 1; stroke-width: 0px; fill: rgb(135, 206, 250); fill-opacity: 1;\"/><path class=\"point\" transform=\"translate(255.55,248.25)\" d=\"M2,0A2,2 0 1,1 0,-2A2,2 0 0,1 2,0Z\" style=\"opacity: 1; stroke-width: 0px; fill: rgb(135, 206, 250); fill-opacity: 1;\"/><path class=\"point\" transform=\"translate(255.95,247.86)\" d=\"M2,0A2,2 0 1,1 0,-2A2,2 0 0,1 2,0Z\" style=\"opacity: 1; stroke-width: 0px; fill: rgb(135, 206, 250); fill-opacity: 1;\"/><path class=\"point\" transform=\"translate(256.35,253.35)\" d=\"M2,0A2,2 0 1,1 0,-2A2,2 0 0,1 2,0Z\" style=\"opacity: 1; stroke-width: 0px; fill: rgb(135, 206, 250); fill-opacity: 1;\"/><path class=\"point\" transform=\"translate(256.76,253.13)\" d=\"M2,0A2,2 0 1,1 0,-2A2,2 0 0,1 2,0Z\" style=\"opacity: 1; stroke-width: 0px; fill: rgb(135, 206, 250); fill-opacity: 1;\"/><path class=\"point\" transform=\"translate(257.16,252.63)\" d=\"M2,0A2,2 0 1,1 0,-2A2,2 0 0,1 2,0Z\" style=\"opacity: 1; stroke-width: 0px; fill: rgb(135, 206, 250); fill-opacity: 1;\"/><path class=\"point\" transform=\"translate(257.56,253.27)\" d=\"M2,0A2,2 0 1,1 0,-2A2,2 0 0,1 2,0Z\" style=\"opacity: 1; stroke-width: 0px; fill: rgb(135, 206, 250); fill-opacity: 1;\"/><path class=\"point\" transform=\"translate(257.96,249.12)\" d=\"M2,0A2,2 0 1,1 0,-2A2,2 0 0,1 2,0Z\" style=\"opacity: 1; stroke-width: 0px; fill: rgb(135, 206, 250); fill-opacity: 1;\"/><path class=\"point\" transform=\"translate(258.36,253.21)\" d=\"M2,0A2,2 0 1,1 0,-2A2,2 0 0,1 2,0Z\" style=\"opacity: 1; stroke-width: 0px; fill: rgb(135, 206, 250); fill-opacity: 1;\"/><path class=\"point\" transform=\"translate(258.76,248.52)\" d=\"M2,0A2,2 0 1,1 0,-2A2,2 0 0,1 2,0Z\" style=\"opacity: 1; stroke-width: 0px; fill: rgb(135, 206, 250); fill-opacity: 1;\"/><path class=\"point\" transform=\"translate(259.16,253.45)\" d=\"M2,0A2,2 0 1,1 0,-2A2,2 0 0,1 2,0Z\" style=\"opacity: 1; stroke-width: 0px; fill: rgb(135, 206, 250); fill-opacity: 1;\"/><path class=\"point\" transform=\"translate(259.57,253.19)\" d=\"M2,0A2,2 0 1,1 0,-2A2,2 0 0,1 2,0Z\" style=\"opacity: 1; stroke-width: 0px; fill: rgb(135, 206, 250); fill-opacity: 1;\"/><path class=\"point\" transform=\"translate(259.97,253.27)\" d=\"M2,0A2,2 0 1,1 0,-2A2,2 0 0,1 2,0Z\" style=\"opacity: 1; stroke-width: 0px; fill: rgb(135, 206, 250); fill-opacity: 1;\"/><path class=\"point\" transform=\"translate(260.37,253.46)\" d=\"M2,0A2,2 0 1,1 0,-2A2,2 0 0,1 2,0Z\" style=\"opacity: 1; stroke-width: 0px; fill: rgb(135, 206, 250); fill-opacity: 1;\"/><path class=\"point\" transform=\"translate(260.77,252.67)\" d=\"M2,0A2,2 0 1,1 0,-2A2,2 0 0,1 2,0Z\" style=\"opacity: 1; stroke-width: 0px; fill: rgb(135, 206, 250); fill-opacity: 1;\"/><path class=\"point\" transform=\"translate(261.17,252.44)\" d=\"M2,0A2,2 0 1,1 0,-2A2,2 0 0,1 2,0Z\" style=\"opacity: 1; stroke-width: 0px; fill: rgb(135, 206, 250); fill-opacity: 1;\"/><path class=\"point\" transform=\"translate(261.57,253.06)\" d=\"M2,0A2,2 0 1,1 0,-2A2,2 0 0,1 2,0Z\" style=\"opacity: 1; stroke-width: 0px; fill: rgb(135, 206, 250); fill-opacity: 1;\"/><path class=\"point\" transform=\"translate(261.97,253.26)\" d=\"M2,0A2,2 0 1,1 0,-2A2,2 0 0,1 2,0Z\" style=\"opacity: 1; stroke-width: 0px; fill: rgb(135, 206, 250); fill-opacity: 1;\"/><path class=\"point\" transform=\"translate(262.37,252.94)\" d=\"M2,0A2,2 0 1,1 0,-2A2,2 0 0,1 2,0Z\" style=\"opacity: 1; stroke-width: 0px; fill: rgb(135, 206, 250); fill-opacity: 1;\"/><path class=\"point\" transform=\"translate(262.78,250.44)\" d=\"M2,0A2,2 0 1,1 0,-2A2,2 0 0,1 2,0Z\" style=\"opacity: 1; stroke-width: 0px; fill: rgb(135, 206, 250); fill-opacity: 1;\"/><path class=\"point\" transform=\"translate(263.18,252.59)\" d=\"M2,0A2,2 0 1,1 0,-2A2,2 0 0,1 2,0Z\" style=\"opacity: 1; stroke-width: 0px; fill: rgb(135, 206, 250); fill-opacity: 1;\"/><path class=\"point\" transform=\"translate(263.58,253.23)\" d=\"M2,0A2,2 0 1,1 0,-2A2,2 0 0,1 2,0Z\" style=\"opacity: 1; stroke-width: 0px; fill: rgb(135, 206, 250); fill-opacity: 1;\"/><path class=\"point\" transform=\"translate(263.98,253.41)\" d=\"M2,0A2,2 0 1,1 0,-2A2,2 0 0,1 2,0Z\" style=\"opacity: 1; stroke-width: 0px; fill: rgb(135, 206, 250); fill-opacity: 1;\"/><path class=\"point\" transform=\"translate(264.38,253.5)\" d=\"M2,0A2,2 0 1,1 0,-2A2,2 0 0,1 2,0Z\" style=\"opacity: 1; stroke-width: 0px; fill: rgb(135, 206, 250); fill-opacity: 1;\"/><path class=\"point\" transform=\"translate(264.78,252.87)\" d=\"M2,0A2,2 0 1,1 0,-2A2,2 0 0,1 2,0Z\" style=\"opacity: 1; stroke-width: 0px; fill: rgb(135, 206, 250); fill-opacity: 1;\"/><path class=\"point\" transform=\"translate(265.18,252.95)\" d=\"M2,0A2,2 0 1,1 0,-2A2,2 0 0,1 2,0Z\" style=\"opacity: 1; stroke-width: 0px; fill: rgb(135, 206, 250); fill-opacity: 1;\"/><path class=\"point\" transform=\"translate(265.59,253.3)\" d=\"M2,0A2,2 0 1,1 0,-2A2,2 0 0,1 2,0Z\" style=\"opacity: 1; stroke-width: 0px; fill: rgb(135, 206, 250); fill-opacity: 1;\"/><path class=\"point\" transform=\"translate(265.99,250.7)\" d=\"M2,0A2,2 0 1,1 0,-2A2,2 0 0,1 2,0Z\" style=\"opacity: 1; stroke-width: 0px; fill: rgb(135, 206, 250); fill-opacity: 1;\"/><path class=\"point\" transform=\"translate(266.39,252.59)\" d=\"M2,0A2,2 0 1,1 0,-2A2,2 0 0,1 2,0Z\" style=\"opacity: 1; stroke-width: 0px; fill: rgb(135, 206, 250); fill-opacity: 1;\"/><path class=\"point\" transform=\"translate(266.79,253.3)\" d=\"M2,0A2,2 0 1,1 0,-2A2,2 0 0,1 2,0Z\" style=\"opacity: 1; stroke-width: 0px; fill: rgb(135, 206, 250); fill-opacity: 1;\"/><path class=\"point\" transform=\"translate(267.19,252.94)\" d=\"M2,0A2,2 0 1,1 0,-2A2,2 0 0,1 2,0Z\" style=\"opacity: 1; stroke-width: 0px; fill: rgb(135, 206, 250); fill-opacity: 1;\"/><path class=\"point\" transform=\"translate(267.59,253.47)\" d=\"M2,0A2,2 0 1,1 0,-2A2,2 0 0,1 2,0Z\" style=\"opacity: 1; stroke-width: 0px; fill: rgb(135, 206, 250); fill-opacity: 1;\"/><path class=\"point\" transform=\"translate(267.99,253.15)\" d=\"M2,0A2,2 0 1,1 0,-2A2,2 0 0,1 2,0Z\" style=\"opacity: 1; stroke-width: 0px; fill: rgb(135, 206, 250); fill-opacity: 1;\"/><path class=\"point\" transform=\"translate(268.39,251.83)\" d=\"M2,0A2,2 0 1,1 0,-2A2,2 0 0,1 2,0Z\" style=\"opacity: 1; stroke-width: 0px; fill: rgb(135, 206, 250); fill-opacity: 1;\"/><path class=\"point\" transform=\"translate(268.8,252.76)\" d=\"M2,0A2,2 0 1,1 0,-2A2,2 0 0,1 2,0Z\" style=\"opacity: 1; stroke-width: 0px; fill: rgb(135, 206, 250); fill-opacity: 1;\"/><path class=\"point\" transform=\"translate(269.2,251.46)\" d=\"M2,0A2,2 0 1,1 0,-2A2,2 0 0,1 2,0Z\" style=\"opacity: 1; stroke-width: 0px; fill: rgb(135, 206, 250); fill-opacity: 1;\"/><path class=\"point\" transform=\"translate(269.6,252.24)\" d=\"M2,0A2,2 0 1,1 0,-2A2,2 0 0,1 2,0Z\" style=\"opacity: 1; stroke-width: 0px; fill: rgb(135, 206, 250); fill-opacity: 1;\"/><path class=\"point\" transform=\"translate(270,253)\" d=\"M2,0A2,2 0 1,1 0,-2A2,2 0 0,1 2,0Z\" style=\"opacity: 1; stroke-width: 0px; fill: rgb(135, 206, 250); fill-opacity: 1;\"/><path class=\"point\" transform=\"translate(270.4,253.06)\" d=\"M2,0A2,2 0 1,1 0,-2A2,2 0 0,1 2,0Z\" style=\"opacity: 1; stroke-width: 0px; fill: rgb(135, 206, 250); fill-opacity: 1;\"/><path class=\"point\" transform=\"translate(270.8,253.43)\" d=\"M2,0A2,2 0 1,1 0,-2A2,2 0 0,1 2,0Z\" style=\"opacity: 1; stroke-width: 0px; fill: rgb(135, 206, 250); fill-opacity: 1;\"/><path class=\"point\" transform=\"translate(271.2,253.39)\" d=\"M2,0A2,2 0 1,1 0,-2A2,2 0 0,1 2,0Z\" style=\"opacity: 1; stroke-width: 0px; fill: rgb(135, 206, 250); fill-opacity: 1;\"/><path class=\"point\" transform=\"translate(271.61,253.47)\" d=\"M2,0A2,2 0 1,1 0,-2A2,2 0 0,1 2,0Z\" style=\"opacity: 1; stroke-width: 0px; fill: rgb(135, 206, 250); fill-opacity: 1;\"/><path class=\"point\" transform=\"translate(272.01,252.75)\" d=\"M2,0A2,2 0 1,1 0,-2A2,2 0 0,1 2,0Z\" style=\"opacity: 1; stroke-width: 0px; fill: rgb(135, 206, 250); fill-opacity: 1;\"/><path class=\"point\" transform=\"translate(272.41,251.28)\" d=\"M2,0A2,2 0 1,1 0,-2A2,2 0 0,1 2,0Z\" style=\"opacity: 1; stroke-width: 0px; fill: rgb(135, 206, 250); fill-opacity: 1;\"/><path class=\"point\" transform=\"translate(272.81,253.1)\" d=\"M2,0A2,2 0 1,1 0,-2A2,2 0 0,1 2,0Z\" style=\"opacity: 1; stroke-width: 0px; fill: rgb(135, 206, 250); fill-opacity: 1;\"/><path class=\"point\" transform=\"translate(273.21,253.43)\" d=\"M2,0A2,2 0 1,1 0,-2A2,2 0 0,1 2,0Z\" style=\"opacity: 1; stroke-width: 0px; fill: rgb(135, 206, 250); fill-opacity: 1;\"/><path class=\"point\" transform=\"translate(273.61,253.23)\" d=\"M2,0A2,2 0 1,1 0,-2A2,2 0 0,1 2,0Z\" style=\"opacity: 1; stroke-width: 0px; fill: rgb(135, 206, 250); fill-opacity: 1;\"/><path class=\"point\" transform=\"translate(274.01,251.51)\" d=\"M2,0A2,2 0 1,1 0,-2A2,2 0 0,1 2,0Z\" style=\"opacity: 1; stroke-width: 0px; fill: rgb(135, 206, 250); fill-opacity: 1;\"/><path class=\"point\" transform=\"translate(274.41,252.71)\" d=\"M2,0A2,2 0 1,1 0,-2A2,2 0 0,1 2,0Z\" style=\"opacity: 1; stroke-width: 0px; fill: rgb(135, 206, 250); fill-opacity: 1;\"/><path class=\"point\" transform=\"translate(274.82,253.06)\" d=\"M2,0A2,2 0 1,1 0,-2A2,2 0 0,1 2,0Z\" style=\"opacity: 1; stroke-width: 0px; fill: rgb(135, 206, 250); fill-opacity: 1;\"/><path class=\"point\" transform=\"translate(275.22,253.45)\" d=\"M2,0A2,2 0 1,1 0,-2A2,2 0 0,1 2,0Z\" style=\"opacity: 1; stroke-width: 0px; fill: rgb(135, 206, 250); fill-opacity: 1;\"/><path class=\"point\" transform=\"translate(275.62,253.21)\" d=\"M2,0A2,2 0 1,1 0,-2A2,2 0 0,1 2,0Z\" style=\"opacity: 1; stroke-width: 0px; fill: rgb(135, 206, 250); fill-opacity: 1;\"/><path class=\"point\" transform=\"translate(276.02,244.93)\" d=\"M2,0A2,2 0 1,1 0,-2A2,2 0 0,1 2,0Z\" style=\"opacity: 1; stroke-width: 0px; fill: rgb(135, 206, 250); fill-opacity: 1;\"/><path class=\"point\" transform=\"translate(276.42,251.6)\" d=\"M2,0A2,2 0 1,1 0,-2A2,2 0 0,1 2,0Z\" style=\"opacity: 1; stroke-width: 0px; fill: rgb(135, 206, 250); fill-opacity: 1;\"/><path class=\"point\" transform=\"translate(276.82,253.21)\" d=\"M2,0A2,2 0 1,1 0,-2A2,2 0 0,1 2,0Z\" style=\"opacity: 1; stroke-width: 0px; fill: rgb(135, 206, 250); fill-opacity: 1;\"/><path class=\"point\" transform=\"translate(277.22,253.19)\" d=\"M2,0A2,2 0 1,1 0,-2A2,2 0 0,1 2,0Z\" style=\"opacity: 1; stroke-width: 0px; fill: rgb(135, 206, 250); fill-opacity: 1;\"/><path class=\"point\" transform=\"translate(277.63,252.4)\" d=\"M2,0A2,2 0 1,1 0,-2A2,2 0 0,1 2,0Z\" style=\"opacity: 1; stroke-width: 0px; fill: rgb(135, 206, 250); fill-opacity: 1;\"/><path class=\"point\" transform=\"translate(278.03,253.34)\" d=\"M2,0A2,2 0 1,1 0,-2A2,2 0 0,1 2,0Z\" style=\"opacity: 1; stroke-width: 0px; fill: rgb(135, 206, 250); fill-opacity: 1;\"/><path class=\"point\" transform=\"translate(278.43,250.65)\" d=\"M2,0A2,2 0 1,1 0,-2A2,2 0 0,1 2,0Z\" style=\"opacity: 1; stroke-width: 0px; fill: rgb(135, 206, 250); fill-opacity: 1;\"/><path class=\"point\" transform=\"translate(278.83,253.3)\" d=\"M2,0A2,2 0 1,1 0,-2A2,2 0 0,1 2,0Z\" style=\"opacity: 1; stroke-width: 0px; fill: rgb(135, 206, 250); fill-opacity: 1;\"/><path class=\"point\" transform=\"translate(279.23,249.28)\" d=\"M2,0A2,2 0 1,1 0,-2A2,2 0 0,1 2,0Z\" style=\"opacity: 1; stroke-width: 0px; fill: rgb(135, 206, 250); fill-opacity: 1;\"/><path class=\"point\" transform=\"translate(279.63,250.44)\" d=\"M2,0A2,2 0 1,1 0,-2A2,2 0 0,1 2,0Z\" style=\"opacity: 1; stroke-width: 0px; fill: rgb(135, 206, 250); fill-opacity: 1;\"/><path class=\"point\" transform=\"translate(280.03,253.08)\" d=\"M2,0A2,2 0 1,1 0,-2A2,2 0 0,1 2,0Z\" style=\"opacity: 1; stroke-width: 0px; fill: rgb(135, 206, 250); fill-opacity: 1;\"/><path class=\"point\" transform=\"translate(280.43,253.12)\" d=\"M2,0A2,2 0 1,1 0,-2A2,2 0 0,1 2,0Z\" style=\"opacity: 1; stroke-width: 0px; fill: rgb(135, 206, 250); fill-opacity: 1;\"/><path class=\"point\" transform=\"translate(280.84,252.99)\" d=\"M2,0A2,2 0 1,1 0,-2A2,2 0 0,1 2,0Z\" style=\"opacity: 1; stroke-width: 0px; fill: rgb(135, 206, 250); fill-opacity: 1;\"/><path class=\"point\" transform=\"translate(281.24,253.25)\" d=\"M2,0A2,2 0 1,1 0,-2A2,2 0 0,1 2,0Z\" style=\"opacity: 1; stroke-width: 0px; fill: rgb(135, 206, 250); fill-opacity: 1;\"/><path class=\"point\" transform=\"translate(281.64,247.17)\" d=\"M2,0A2,2 0 1,1 0,-2A2,2 0 0,1 2,0Z\" style=\"opacity: 1; stroke-width: 0px; fill: rgb(135, 206, 250); fill-opacity: 1;\"/><path class=\"point\" transform=\"translate(282.04,253.44)\" d=\"M2,0A2,2 0 1,1 0,-2A2,2 0 0,1 2,0Z\" style=\"opacity: 1; stroke-width: 0px; fill: rgb(135, 206, 250); fill-opacity: 1;\"/><path class=\"point\" transform=\"translate(282.44,251.44)\" d=\"M2,0A2,2 0 1,1 0,-2A2,2 0 0,1 2,0Z\" style=\"opacity: 1; stroke-width: 0px; fill: rgb(135, 206, 250); fill-opacity: 1;\"/><path class=\"point\" transform=\"translate(282.84,249.39)\" d=\"M2,0A2,2 0 1,1 0,-2A2,2 0 0,1 2,0Z\" style=\"opacity: 1; stroke-width: 0px; fill: rgb(135, 206, 250); fill-opacity: 1;\"/><path class=\"point\" transform=\"translate(283.24,250.49)\" d=\"M2,0A2,2 0 1,1 0,-2A2,2 0 0,1 2,0Z\" style=\"opacity: 1; stroke-width: 0px; fill: rgb(135, 206, 250); fill-opacity: 1;\"/><path class=\"point\" transform=\"translate(283.65,252.9)\" d=\"M2,0A2,2 0 1,1 0,-2A2,2 0 0,1 2,0Z\" style=\"opacity: 1; stroke-width: 0px; fill: rgb(135, 206, 250); fill-opacity: 1;\"/><path class=\"point\" transform=\"translate(284.05,250.81)\" d=\"M2,0A2,2 0 1,1 0,-2A2,2 0 0,1 2,0Z\" style=\"opacity: 1; stroke-width: 0px; fill: rgb(135, 206, 250); fill-opacity: 1;\"/><path class=\"point\" transform=\"translate(284.45,250.64)\" d=\"M2,0A2,2 0 1,1 0,-2A2,2 0 0,1 2,0Z\" style=\"opacity: 1; stroke-width: 0px; fill: rgb(135, 206, 250); fill-opacity: 1;\"/><path class=\"point\" transform=\"translate(284.85,251.88)\" d=\"M2,0A2,2 0 1,1 0,-2A2,2 0 0,1 2,0Z\" style=\"opacity: 1; stroke-width: 0px; fill: rgb(135, 206, 250); fill-opacity: 1;\"/><path class=\"point\" transform=\"translate(285.25,252.71)\" d=\"M2,0A2,2 0 1,1 0,-2A2,2 0 0,1 2,0Z\" style=\"opacity: 1; stroke-width: 0px; fill: rgb(135, 206, 250); fill-opacity: 1;\"/><path class=\"point\" transform=\"translate(285.65,250.8)\" d=\"M2,0A2,2 0 1,1 0,-2A2,2 0 0,1 2,0Z\" style=\"opacity: 1; stroke-width: 0px; fill: rgb(135, 206, 250); fill-opacity: 1;\"/><path class=\"point\" transform=\"translate(286.05,253.02)\" d=\"M2,0A2,2 0 1,1 0,-2A2,2 0 0,1 2,0Z\" style=\"opacity: 1; stroke-width: 0px; fill: rgb(135, 206, 250); fill-opacity: 1;\"/><path class=\"point\" transform=\"translate(286.45,252.69)\" d=\"M2,0A2,2 0 1,1 0,-2A2,2 0 0,1 2,0Z\" style=\"opacity: 1; stroke-width: 0px; fill: rgb(135, 206, 250); fill-opacity: 1;\"/><path class=\"point\" transform=\"translate(286.86,251.04)\" d=\"M2,0A2,2 0 1,1 0,-2A2,2 0 0,1 2,0Z\" style=\"opacity: 1; stroke-width: 0px; fill: rgb(135, 206, 250); fill-opacity: 1;\"/><path class=\"point\" transform=\"translate(287.26,253.49)\" d=\"M2,0A2,2 0 1,1 0,-2A2,2 0 0,1 2,0Z\" style=\"opacity: 1; stroke-width: 0px; fill: rgb(135, 206, 250); fill-opacity: 1;\"/><path class=\"point\" transform=\"translate(287.66,251.94)\" d=\"M2,0A2,2 0 1,1 0,-2A2,2 0 0,1 2,0Z\" style=\"opacity: 1; stroke-width: 0px; fill: rgb(135, 206, 250); fill-opacity: 1;\"/><path class=\"point\" transform=\"translate(288.06,251.3)\" d=\"M2,0A2,2 0 1,1 0,-2A2,2 0 0,1 2,0Z\" style=\"opacity: 1; stroke-width: 0px; fill: rgb(135, 206, 250); fill-opacity: 1;\"/><path class=\"point\" transform=\"translate(288.46,253.26)\" d=\"M2,0A2,2 0 1,1 0,-2A2,2 0 0,1 2,0Z\" style=\"opacity: 1; stroke-width: 0px; fill: rgb(135, 206, 250); fill-opacity: 1;\"/><path class=\"point\" transform=\"translate(288.86,252.1)\" d=\"M2,0A2,2 0 1,1 0,-2A2,2 0 0,1 2,0Z\" style=\"opacity: 1; stroke-width: 0px; fill: rgb(135, 206, 250); fill-opacity: 1;\"/><path class=\"point\" transform=\"translate(289.26,252.77)\" d=\"M2,0A2,2 0 1,1 0,-2A2,2 0 0,1 2,0Z\" style=\"opacity: 1; stroke-width: 0px; fill: rgb(135, 206, 250); fill-opacity: 1;\"/><path class=\"point\" transform=\"translate(289.67,252)\" d=\"M2,0A2,2 0 1,1 0,-2A2,2 0 0,1 2,0Z\" style=\"opacity: 1; stroke-width: 0px; fill: rgb(135, 206, 250); fill-opacity: 1;\"/><path class=\"point\" transform=\"translate(290.07,246.56)\" d=\"M2,0A2,2 0 1,1 0,-2A2,2 0 0,1 2,0Z\" style=\"opacity: 1; stroke-width: 0px; fill: rgb(135, 206, 250); fill-opacity: 1;\"/><path class=\"point\" transform=\"translate(290.47,250.44)\" d=\"M2,0A2,2 0 1,1 0,-2A2,2 0 0,1 2,0Z\" style=\"opacity: 1; stroke-width: 0px; fill: rgb(135, 206, 250); fill-opacity: 1;\"/><path class=\"point\" transform=\"translate(290.87,253.21)\" d=\"M2,0A2,2 0 1,1 0,-2A2,2 0 0,1 2,0Z\" style=\"opacity: 1; stroke-width: 0px; fill: rgb(135, 206, 250); fill-opacity: 1;\"/><path class=\"point\" transform=\"translate(291.27,253.49)\" d=\"M2,0A2,2 0 1,1 0,-2A2,2 0 0,1 2,0Z\" style=\"opacity: 1; stroke-width: 0px; fill: rgb(135, 206, 250); fill-opacity: 1;\"/><path class=\"point\" transform=\"translate(291.67,252.84)\" d=\"M2,0A2,2 0 1,1 0,-2A2,2 0 0,1 2,0Z\" style=\"opacity: 1; stroke-width: 0px; fill: rgb(135, 206, 250); fill-opacity: 1;\"/><path class=\"point\" transform=\"translate(292.07,253.26)\" d=\"M2,0A2,2 0 1,1 0,-2A2,2 0 0,1 2,0Z\" style=\"opacity: 1; stroke-width: 0px; fill: rgb(135, 206, 250); fill-opacity: 1;\"/><path class=\"point\" transform=\"translate(292.47,248.01)\" d=\"M2,0A2,2 0 1,1 0,-2A2,2 0 0,1 2,0Z\" style=\"opacity: 1; stroke-width: 0px; fill: rgb(135, 206, 250); fill-opacity: 1;\"/><path class=\"point\" transform=\"translate(292.88,251.79)\" d=\"M2,0A2,2 0 1,1 0,-2A2,2 0 0,1 2,0Z\" style=\"opacity: 1; stroke-width: 0px; fill: rgb(135, 206, 250); fill-opacity: 1;\"/><path class=\"point\" transform=\"translate(293.28,253.45)\" d=\"M2,0A2,2 0 1,1 0,-2A2,2 0 0,1 2,0Z\" style=\"opacity: 1; stroke-width: 0px; fill: rgb(135, 206, 250); fill-opacity: 1;\"/><path class=\"point\" transform=\"translate(293.68,252.39)\" d=\"M2,0A2,2 0 1,1 0,-2A2,2 0 0,1 2,0Z\" style=\"opacity: 1; stroke-width: 0px; fill: rgb(135, 206, 250); fill-opacity: 1;\"/><path class=\"point\" transform=\"translate(294.08,250.65)\" d=\"M2,0A2,2 0 1,1 0,-2A2,2 0 0,1 2,0Z\" style=\"opacity: 1; stroke-width: 0px; fill: rgb(135, 206, 250); fill-opacity: 1;\"/><path class=\"point\" transform=\"translate(294.48,252.76)\" d=\"M2,0A2,2 0 1,1 0,-2A2,2 0 0,1 2,0Z\" style=\"opacity: 1; stroke-width: 0px; fill: rgb(135, 206, 250); fill-opacity: 1;\"/><path class=\"point\" transform=\"translate(294.88,253.18)\" d=\"M2,0A2,2 0 1,1 0,-2A2,2 0 0,1 2,0Z\" style=\"opacity: 1; stroke-width: 0px; fill: rgb(135, 206, 250); fill-opacity: 1;\"/><path class=\"point\" transform=\"translate(295.28,253.08)\" d=\"M2,0A2,2 0 1,1 0,-2A2,2 0 0,1 2,0Z\" style=\"opacity: 1; stroke-width: 0px; fill: rgb(135, 206, 250); fill-opacity: 1;\"/><path class=\"point\" transform=\"translate(295.69,240.94)\" d=\"M2,0A2,2 0 1,1 0,-2A2,2 0 0,1 2,0Z\" style=\"opacity: 1; stroke-width: 0px; fill: rgb(135, 206, 250); fill-opacity: 1;\"/><path class=\"point\" transform=\"translate(296.09,253.1)\" d=\"M2,0A2,2 0 1,1 0,-2A2,2 0 0,1 2,0Z\" style=\"opacity: 1; stroke-width: 0px; fill: rgb(135, 206, 250); fill-opacity: 1;\"/><path class=\"point\" transform=\"translate(296.49,252.73)\" d=\"M2,0A2,2 0 1,1 0,-2A2,2 0 0,1 2,0Z\" style=\"opacity: 1; stroke-width: 0px; fill: rgb(135, 206, 250); fill-opacity: 1;\"/><path class=\"point\" transform=\"translate(296.89,251.78)\" d=\"M2,0A2,2 0 1,1 0,-2A2,2 0 0,1 2,0Z\" style=\"opacity: 1; stroke-width: 0px; fill: rgb(135, 206, 250); fill-opacity: 1;\"/><path class=\"point\" transform=\"translate(297.29,253.31)\" d=\"M2,0A2,2 0 1,1 0,-2A2,2 0 0,1 2,0Z\" style=\"opacity: 1; stroke-width: 0px; fill: rgb(135, 206, 250); fill-opacity: 1;\"/><path class=\"point\" transform=\"translate(297.69,253.42)\" d=\"M2,0A2,2 0 1,1 0,-2A2,2 0 0,1 2,0Z\" style=\"opacity: 1; stroke-width: 0px; fill: rgb(135, 206, 250); fill-opacity: 1;\"/><path class=\"point\" transform=\"translate(298.09,253.09)\" d=\"M2,0A2,2 0 1,1 0,-2A2,2 0 0,1 2,0Z\" style=\"opacity: 1; stroke-width: 0px; fill: rgb(135, 206, 250); fill-opacity: 1;\"/><path class=\"point\" transform=\"translate(298.49,250.8)\" d=\"M2,0A2,2 0 1,1 0,-2A2,2 0 0,1 2,0Z\" style=\"opacity: 1; stroke-width: 0px; fill: rgb(135, 206, 250); fill-opacity: 1;\"/><path class=\"point\" transform=\"translate(298.9,253.41)\" d=\"M2,0A2,2 0 1,1 0,-2A2,2 0 0,1 2,0Z\" style=\"opacity: 1; stroke-width: 0px; fill: rgb(135, 206, 250); fill-opacity: 1;\"/><path class=\"point\" transform=\"translate(299.3,253.4)\" d=\"M2,0A2,2 0 1,1 0,-2A2,2 0 0,1 2,0Z\" style=\"opacity: 1; stroke-width: 0px; fill: rgb(135, 206, 250); fill-opacity: 1;\"/><path class=\"point\" transform=\"translate(299.7,252.46)\" d=\"M2,0A2,2 0 1,1 0,-2A2,2 0 0,1 2,0Z\" style=\"opacity: 1; stroke-width: 0px; fill: rgb(135, 206, 250); fill-opacity: 1;\"/><path class=\"point\" transform=\"translate(300.1,251.89)\" d=\"M2,0A2,2 0 1,1 0,-2A2,2 0 0,1 2,0Z\" style=\"opacity: 1; stroke-width: 0px; fill: rgb(135, 206, 250); fill-opacity: 1;\"/><path class=\"point\" transform=\"translate(300.5,252.49)\" d=\"M2,0A2,2 0 1,1 0,-2A2,2 0 0,1 2,0Z\" style=\"opacity: 1; stroke-width: 0px; fill: rgb(135, 206, 250); fill-opacity: 1;\"/><path class=\"point\" transform=\"translate(300.9,252.48)\" d=\"M2,0A2,2 0 1,1 0,-2A2,2 0 0,1 2,0Z\" style=\"opacity: 1; stroke-width: 0px; fill: rgb(135, 206, 250); fill-opacity: 1;\"/><path class=\"point\" transform=\"translate(301.3,253.24)\" d=\"M2,0A2,2 0 1,1 0,-2A2,2 0 0,1 2,0Z\" style=\"opacity: 1; stroke-width: 0px; fill: rgb(135, 206, 250); fill-opacity: 1;\"/><path class=\"point\" transform=\"translate(301.71,249.15)\" d=\"M2,0A2,2 0 1,1 0,-2A2,2 0 0,1 2,0Z\" style=\"opacity: 1; stroke-width: 0px; fill: rgb(135, 206, 250); fill-opacity: 1;\"/><path class=\"point\" transform=\"translate(302.11,253.2)\" d=\"M2,0A2,2 0 1,1 0,-2A2,2 0 0,1 2,0Z\" style=\"opacity: 1; stroke-width: 0px; fill: rgb(135, 206, 250); fill-opacity: 1;\"/><path class=\"point\" transform=\"translate(302.51,253.18)\" d=\"M2,0A2,2 0 1,1 0,-2A2,2 0 0,1 2,0Z\" style=\"opacity: 1; stroke-width: 0px; fill: rgb(135, 206, 250); fill-opacity: 1;\"/><path class=\"point\" transform=\"translate(302.91,253.24)\" d=\"M2,0A2,2 0 1,1 0,-2A2,2 0 0,1 2,0Z\" style=\"opacity: 1; stroke-width: 0px; fill: rgb(135, 206, 250); fill-opacity: 1;\"/><path class=\"point\" transform=\"translate(303.31,250.65)\" d=\"M2,0A2,2 0 1,1 0,-2A2,2 0 0,1 2,0Z\" style=\"opacity: 1; stroke-width: 0px; fill: rgb(135, 206, 250); fill-opacity: 1;\"/><path class=\"point\" transform=\"translate(303.71,240.94)\" d=\"M2,0A2,2 0 1,1 0,-2A2,2 0 0,1 2,0Z\" style=\"opacity: 1; stroke-width: 0px; fill: rgb(135, 206, 250); fill-opacity: 1;\"/><path class=\"point\" transform=\"translate(304.11,253.42)\" d=\"M2,0A2,2 0 1,1 0,-2A2,2 0 0,1 2,0Z\" style=\"opacity: 1; stroke-width: 0px; fill: rgb(135, 206, 250); fill-opacity: 1;\"/><path class=\"point\" transform=\"translate(304.52,246.71)\" d=\"M2,0A2,2 0 1,1 0,-2A2,2 0 0,1 2,0Z\" style=\"opacity: 1; stroke-width: 0px; fill: rgb(135, 206, 250); fill-opacity: 1;\"/><path class=\"point\" transform=\"translate(304.92,251.97)\" d=\"M2,0A2,2 0 1,1 0,-2A2,2 0 0,1 2,0Z\" style=\"opacity: 1; stroke-width: 0px; fill: rgb(135, 206, 250); fill-opacity: 1;\"/><path class=\"point\" transform=\"translate(305.32,252.69)\" d=\"M2,0A2,2 0 1,1 0,-2A2,2 0 0,1 2,0Z\" style=\"opacity: 1; stroke-width: 0px; fill: rgb(135, 206, 250); fill-opacity: 1;\"/><path class=\"point\" transform=\"translate(305.72,253.26)\" d=\"M2,0A2,2 0 1,1 0,-2A2,2 0 0,1 2,0Z\" style=\"opacity: 1; stroke-width: 0px; fill: rgb(135, 206, 250); fill-opacity: 1;\"/><path class=\"point\" transform=\"translate(306.12,253.04)\" d=\"M2,0A2,2 0 1,1 0,-2A2,2 0 0,1 2,0Z\" style=\"opacity: 1; stroke-width: 0px; fill: rgb(135, 206, 250); fill-opacity: 1;\"/><path class=\"point\" transform=\"translate(306.52,253.44)\" d=\"M2,0A2,2 0 1,1 0,-2A2,2 0 0,1 2,0Z\" style=\"opacity: 1; stroke-width: 0px; fill: rgb(135, 206, 250); fill-opacity: 1;\"/><path class=\"point\" transform=\"translate(306.92,250.65)\" d=\"M2,0A2,2 0 1,1 0,-2A2,2 0 0,1 2,0Z\" style=\"opacity: 1; stroke-width: 0px; fill: rgb(135, 206, 250); fill-opacity: 1;\"/><path class=\"point\" transform=\"translate(307.32,252.92)\" d=\"M2,0A2,2 0 1,1 0,-2A2,2 0 0,1 2,0Z\" style=\"opacity: 1; stroke-width: 0px; fill: rgb(135, 206, 250); fill-opacity: 1;\"/><path class=\"point\" transform=\"translate(307.73,252.68)\" d=\"M2,0A2,2 0 1,1 0,-2A2,2 0 0,1 2,0Z\" style=\"opacity: 1; stroke-width: 0px; fill: rgb(135, 206, 250); fill-opacity: 1;\"/><path class=\"point\" transform=\"translate(308.13,253.41)\" d=\"M2,0A2,2 0 1,1 0,-2A2,2 0 0,1 2,0Z\" style=\"opacity: 1; stroke-width: 0px; fill: rgb(135, 206, 250); fill-opacity: 1;\"/><path class=\"point\" transform=\"translate(308.53,252.03)\" d=\"M2,0A2,2 0 1,1 0,-2A2,2 0 0,1 2,0Z\" style=\"opacity: 1; stroke-width: 0px; fill: rgb(135, 206, 250); fill-opacity: 1;\"/><path class=\"point\" transform=\"translate(308.93,252.59)\" d=\"M2,0A2,2 0 1,1 0,-2A2,2 0 0,1 2,0Z\" style=\"opacity: 1; stroke-width: 0px; fill: rgb(135, 206, 250); fill-opacity: 1;\"/><path class=\"point\" transform=\"translate(309.33,253.13)\" d=\"M2,0A2,2 0 1,1 0,-2A2,2 0 0,1 2,0Z\" style=\"opacity: 1; stroke-width: 0px; fill: rgb(135, 206, 250); fill-opacity: 1;\"/><path class=\"point\" transform=\"translate(309.73,248.63)\" d=\"M2,0A2,2 0 1,1 0,-2A2,2 0 0,1 2,0Z\" style=\"opacity: 1; stroke-width: 0px; fill: rgb(135, 206, 250); fill-opacity: 1;\"/><path class=\"point\" transform=\"translate(310.13,251.2)\" d=\"M2,0A2,2 0 1,1 0,-2A2,2 0 0,1 2,0Z\" style=\"opacity: 1; stroke-width: 0px; fill: rgb(135, 206, 250); fill-opacity: 1;\"/><path class=\"point\" transform=\"translate(310.54,253.37)\" d=\"M2,0A2,2 0 1,1 0,-2A2,2 0 0,1 2,0Z\" style=\"opacity: 1; stroke-width: 0px; fill: rgb(135, 206, 250); fill-opacity: 1;\"/><path class=\"point\" transform=\"translate(310.94,253.18)\" d=\"M2,0A2,2 0 1,1 0,-2A2,2 0 0,1 2,0Z\" style=\"opacity: 1; stroke-width: 0px; fill: rgb(135, 206, 250); fill-opacity: 1;\"/><path class=\"point\" transform=\"translate(311.34,253.32)\" d=\"M2,0A2,2 0 1,1 0,-2A2,2 0 0,1 2,0Z\" style=\"opacity: 1; stroke-width: 0px; fill: rgb(135, 206, 250); fill-opacity: 1;\"/><path class=\"point\" transform=\"translate(311.74,253.1)\" d=\"M2,0A2,2 0 1,1 0,-2A2,2 0 0,1 2,0Z\" style=\"opacity: 1; stroke-width: 0px; fill: rgb(135, 206, 250); fill-opacity: 1;\"/><path class=\"point\" transform=\"translate(312.14,253.22)\" d=\"M2,0A2,2 0 1,1 0,-2A2,2 0 0,1 2,0Z\" style=\"opacity: 1; stroke-width: 0px; fill: rgb(135, 206, 250); fill-opacity: 1;\"/><path class=\"point\" transform=\"translate(312.54,250.4)\" d=\"M2,0A2,2 0 1,1 0,-2A2,2 0 0,1 2,0Z\" style=\"opacity: 1; stroke-width: 0px; fill: rgb(135, 206, 250); fill-opacity: 1;\"/><path class=\"point\" transform=\"translate(312.94,251.65)\" d=\"M2,0A2,2 0 1,1 0,-2A2,2 0 0,1 2,0Z\" style=\"opacity: 1; stroke-width: 0px; fill: rgb(135, 206, 250); fill-opacity: 1;\"/><path class=\"point\" transform=\"translate(313.34,252.94)\" d=\"M2,0A2,2 0 1,1 0,-2A2,2 0 0,1 2,0Z\" style=\"opacity: 1; stroke-width: 0px; fill: rgb(135, 206, 250); fill-opacity: 1;\"/><path class=\"point\" transform=\"translate(313.75,252.84)\" d=\"M2,0A2,2 0 1,1 0,-2A2,2 0 0,1 2,0Z\" style=\"opacity: 1; stroke-width: 0px; fill: rgb(135, 206, 250); fill-opacity: 1;\"/><path class=\"point\" transform=\"translate(314.15,253.29)\" d=\"M2,0A2,2 0 1,1 0,-2A2,2 0 0,1 2,0Z\" style=\"opacity: 1; stroke-width: 0px; fill: rgb(135, 206, 250); fill-opacity: 1;\"/><path class=\"point\" transform=\"translate(314.55,246.21)\" d=\"M2,0A2,2 0 1,1 0,-2A2,2 0 0,1 2,0Z\" style=\"opacity: 1; stroke-width: 0px; fill: rgb(135, 206, 250); fill-opacity: 1;\"/><path class=\"point\" transform=\"translate(314.95,251.83)\" d=\"M2,0A2,2 0 1,1 0,-2A2,2 0 0,1 2,0Z\" style=\"opacity: 1; stroke-width: 0px; fill: rgb(135, 206, 250); fill-opacity: 1;\"/><path class=\"point\" transform=\"translate(315.35,253.02)\" d=\"M2,0A2,2 0 1,1 0,-2A2,2 0 0,1 2,0Z\" style=\"opacity: 1; stroke-width: 0px; fill: rgb(135, 206, 250); fill-opacity: 1;\"/><path class=\"point\" transform=\"translate(315.75,253.13)\" d=\"M2,0A2,2 0 1,1 0,-2A2,2 0 0,1 2,0Z\" style=\"opacity: 1; stroke-width: 0px; fill: rgb(135, 206, 250); fill-opacity: 1;\"/><path class=\"point\" transform=\"translate(316.15,253.43)\" d=\"M2,0A2,2 0 1,1 0,-2A2,2 0 0,1 2,0Z\" style=\"opacity: 1; stroke-width: 0px; fill: rgb(135, 206, 250); fill-opacity: 1;\"/><path class=\"point\" transform=\"translate(316.56,253.46)\" d=\"M2,0A2,2 0 1,1 0,-2A2,2 0 0,1 2,0Z\" style=\"opacity: 1; stroke-width: 0px; fill: rgb(135, 206, 250); fill-opacity: 1;\"/><path class=\"point\" transform=\"translate(316.96,250.68)\" d=\"M2,0A2,2 0 1,1 0,-2A2,2 0 0,1 2,0Z\" style=\"opacity: 1; stroke-width: 0px; fill: rgb(135, 206, 250); fill-opacity: 1;\"/><path class=\"point\" transform=\"translate(317.36,253.43)\" d=\"M2,0A2,2 0 1,1 0,-2A2,2 0 0,1 2,0Z\" style=\"opacity: 1; stroke-width: 0px; fill: rgb(135, 206, 250); fill-opacity: 1;\"/><path class=\"point\" transform=\"translate(317.76,252.94)\" d=\"M2,0A2,2 0 1,1 0,-2A2,2 0 0,1 2,0Z\" style=\"opacity: 1; stroke-width: 0px; fill: rgb(135, 206, 250); fill-opacity: 1;\"/><path class=\"point\" transform=\"translate(318.16,249.63)\" d=\"M2,0A2,2 0 1,1 0,-2A2,2 0 0,1 2,0Z\" style=\"opacity: 1; stroke-width: 0px; fill: rgb(135, 206, 250); fill-opacity: 1;\"/><path class=\"point\" transform=\"translate(318.56,253.4)\" d=\"M2,0A2,2 0 1,1 0,-2A2,2 0 0,1 2,0Z\" style=\"opacity: 1; stroke-width: 0px; fill: rgb(135, 206, 250); fill-opacity: 1;\"/><path class=\"point\" transform=\"translate(318.96,253.45)\" d=\"M2,0A2,2 0 1,1 0,-2A2,2 0 0,1 2,0Z\" style=\"opacity: 1; stroke-width: 0px; fill: rgb(135, 206, 250); fill-opacity: 1;\"/><path class=\"point\" transform=\"translate(319.36,253.22)\" d=\"M2,0A2,2 0 1,1 0,-2A2,2 0 0,1 2,0Z\" style=\"opacity: 1; stroke-width: 0px; fill: rgb(135, 206, 250); fill-opacity: 1;\"/><path class=\"point\" transform=\"translate(319.77,252.4)\" d=\"M2,0A2,2 0 1,1 0,-2A2,2 0 0,1 2,0Z\" style=\"opacity: 1; stroke-width: 0px; fill: rgb(135, 206, 250); fill-opacity: 1;\"/><path class=\"point\" transform=\"translate(320.17,249)\" d=\"M2,0A2,2 0 1,1 0,-2A2,2 0 0,1 2,0Z\" style=\"opacity: 1; stroke-width: 0px; fill: rgb(135, 206, 250); fill-opacity: 1;\"/><path class=\"point\" transform=\"translate(320.57,253.04)\" d=\"M2,0A2,2 0 1,1 0,-2A2,2 0 0,1 2,0Z\" style=\"opacity: 1; stroke-width: 0px; fill: rgb(135, 206, 250); fill-opacity: 1;\"/><path class=\"point\" transform=\"translate(320.97,253.27)\" d=\"M2,0A2,2 0 1,1 0,-2A2,2 0 0,1 2,0Z\" style=\"opacity: 1; stroke-width: 0px; fill: rgb(135, 206, 250); fill-opacity: 1;\"/><path class=\"point\" transform=\"translate(321.37,253)\" d=\"M2,0A2,2 0 1,1 0,-2A2,2 0 0,1 2,0Z\" style=\"opacity: 1; stroke-width: 0px; fill: rgb(135, 206, 250); fill-opacity: 1;\"/><path class=\"point\" transform=\"translate(321.77,250.74)\" d=\"M2,0A2,2 0 1,1 0,-2A2,2 0 0,1 2,0Z\" style=\"opacity: 1; stroke-width: 0px; fill: rgb(135, 206, 250); fill-opacity: 1;\"/><path class=\"point\" transform=\"translate(322.17,248.81)\" d=\"M2,0A2,2 0 1,1 0,-2A2,2 0 0,1 2,0Z\" style=\"opacity: 1; stroke-width: 0px; fill: rgb(135, 206, 250); fill-opacity: 1;\"/><path class=\"point\" transform=\"translate(322.58,252.53)\" d=\"M2,0A2,2 0 1,1 0,-2A2,2 0 0,1 2,0Z\" style=\"opacity: 1; stroke-width: 0px; fill: rgb(135, 206, 250); fill-opacity: 1;\"/><path class=\"point\" transform=\"translate(322.98,252.35)\" d=\"M2,0A2,2 0 1,1 0,-2A2,2 0 0,1 2,0Z\" style=\"opacity: 1; stroke-width: 0px; fill: rgb(135, 206, 250); fill-opacity: 1;\"/><path class=\"point\" transform=\"translate(323.38,253.1)\" d=\"M2,0A2,2 0 1,1 0,-2A2,2 0 0,1 2,0Z\" style=\"opacity: 1; stroke-width: 0px; fill: rgb(135, 206, 250); fill-opacity: 1;\"/><path class=\"point\" transform=\"translate(323.78,252.93)\" d=\"M2,0A2,2 0 1,1 0,-2A2,2 0 0,1 2,0Z\" style=\"opacity: 1; stroke-width: 0px; fill: rgb(135, 206, 250); fill-opacity: 1;\"/><path class=\"point\" transform=\"translate(324.18,252.71)\" d=\"M2,0A2,2 0 1,1 0,-2A2,2 0 0,1 2,0Z\" style=\"opacity: 1; stroke-width: 0px; fill: rgb(135, 206, 250); fill-opacity: 1;\"/><path class=\"point\" transform=\"translate(324.58,251.94)\" d=\"M2,0A2,2 0 1,1 0,-2A2,2 0 0,1 2,0Z\" style=\"opacity: 1; stroke-width: 0px; fill: rgb(135, 206, 250); fill-opacity: 1;\"/><path class=\"point\" transform=\"translate(324.98,252.99)\" d=\"M2,0A2,2 0 1,1 0,-2A2,2 0 0,1 2,0Z\" style=\"opacity: 1; stroke-width: 0px; fill: rgb(135, 206, 250); fill-opacity: 1;\"/><path class=\"point\" transform=\"translate(325.38,251.2)\" d=\"M2,0A2,2 0 1,1 0,-2A2,2 0 0,1 2,0Z\" style=\"opacity: 1; stroke-width: 0px; fill: rgb(135, 206, 250); fill-opacity: 1;\"/><path class=\"point\" transform=\"translate(325.79,253.04)\" d=\"M2,0A2,2 0 1,1 0,-2A2,2 0 0,1 2,0Z\" style=\"opacity: 1; stroke-width: 0px; fill: rgb(135, 206, 250); fill-opacity: 1;\"/><path class=\"point\" transform=\"translate(326.19,253.35)\" d=\"M2,0A2,2 0 1,1 0,-2A2,2 0 0,1 2,0Z\" style=\"opacity: 1; stroke-width: 0px; fill: rgb(135, 206, 250); fill-opacity: 1;\"/><path class=\"point\" transform=\"translate(326.59,251.89)\" d=\"M2,0A2,2 0 1,1 0,-2A2,2 0 0,1 2,0Z\" style=\"opacity: 1; stroke-width: 0px; fill: rgb(135, 206, 250); fill-opacity: 1;\"/><path class=\"point\" transform=\"translate(326.99,253.42)\" d=\"M2,0A2,2 0 1,1 0,-2A2,2 0 0,1 2,0Z\" style=\"opacity: 1; stroke-width: 0px; fill: rgb(135, 206, 250); fill-opacity: 1;\"/><path class=\"point\" transform=\"translate(327.39,252.97)\" d=\"M2,0A2,2 0 1,1 0,-2A2,2 0 0,1 2,0Z\" style=\"opacity: 1; stroke-width: 0px; fill: rgb(135, 206, 250); fill-opacity: 1;\"/><path class=\"point\" transform=\"translate(327.79,251.2)\" d=\"M2,0A2,2 0 1,1 0,-2A2,2 0 0,1 2,0Z\" style=\"opacity: 1; stroke-width: 0px; fill: rgb(135, 206, 250); fill-opacity: 1;\"/><path class=\"point\" transform=\"translate(328.19,242.69)\" d=\"M2,0A2,2 0 1,1 0,-2A2,2 0 0,1 2,0Z\" style=\"opacity: 1; stroke-width: 0px; fill: rgb(135, 206, 250); fill-opacity: 1;\"/><path class=\"point\" transform=\"translate(328.6,239.72)\" d=\"M2,0A2,2 0 1,1 0,-2A2,2 0 0,1 2,0Z\" style=\"opacity: 1; stroke-width: 0px; fill: rgb(135, 206, 250); fill-opacity: 1;\"/><path class=\"point\" transform=\"translate(329,252.73)\" d=\"M2,0A2,2 0 1,1 0,-2A2,2 0 0,1 2,0Z\" style=\"opacity: 1; stroke-width: 0px; fill: rgb(135, 206, 250); fill-opacity: 1;\"/><path class=\"point\" transform=\"translate(329.4,245.63)\" d=\"M2,0A2,2 0 1,1 0,-2A2,2 0 0,1 2,0Z\" style=\"opacity: 1; stroke-width: 0px; fill: rgb(135, 206, 250); fill-opacity: 1;\"/><path class=\"point\" transform=\"translate(329.8,253.37)\" d=\"M2,0A2,2 0 1,1 0,-2A2,2 0 0,1 2,0Z\" style=\"opacity: 1; stroke-width: 0px; fill: rgb(135, 206, 250); fill-opacity: 1;\"/><path class=\"point\" transform=\"translate(330.2,253.4)\" d=\"M2,0A2,2 0 1,1 0,-2A2,2 0 0,1 2,0Z\" style=\"opacity: 1; stroke-width: 0px; fill: rgb(135, 206, 250); fill-opacity: 1;\"/><path class=\"point\" transform=\"translate(330.6,250.44)\" d=\"M2,0A2,2 0 1,1 0,-2A2,2 0 0,1 2,0Z\" style=\"opacity: 1; stroke-width: 0px; fill: rgb(135, 206, 250); fill-opacity: 1;\"/><path class=\"point\" transform=\"translate(331,253)\" d=\"M2,0A2,2 0 1,1 0,-2A2,2 0 0,1 2,0Z\" style=\"opacity: 1; stroke-width: 0px; fill: rgb(135, 206, 250); fill-opacity: 1;\"/><path class=\"point\" transform=\"translate(331.4,247.6)\" d=\"M2,0A2,2 0 1,1 0,-2A2,2 0 0,1 2,0Z\" style=\"opacity: 1; stroke-width: 0px; fill: rgb(135, 206, 250); fill-opacity: 1;\"/><path class=\"point\" transform=\"translate(331.81,253.45)\" d=\"M2,0A2,2 0 1,1 0,-2A2,2 0 0,1 2,0Z\" style=\"opacity: 1; stroke-width: 0px; fill: rgb(135, 206, 250); fill-opacity: 1;\"/><path class=\"point\" transform=\"translate(332.21,250.38)\" d=\"M2,0A2,2 0 1,1 0,-2A2,2 0 0,1 2,0Z\" style=\"opacity: 1; stroke-width: 0px; fill: rgb(135, 206, 250); fill-opacity: 1;\"/><path class=\"point\" transform=\"translate(332.61,253.1)\" d=\"M2,0A2,2 0 1,1 0,-2A2,2 0 0,1 2,0Z\" style=\"opacity: 1; stroke-width: 0px; fill: rgb(135, 206, 250); fill-opacity: 1;\"/><path class=\"point\" transform=\"translate(333.01,246.22)\" d=\"M2,0A2,2 0 1,1 0,-2A2,2 0 0,1 2,0Z\" style=\"opacity: 1; stroke-width: 0px; fill: rgb(135, 206, 250); fill-opacity: 1;\"/><path class=\"point\" transform=\"translate(333.41,253.5)\" d=\"M2,0A2,2 0 1,1 0,-2A2,2 0 0,1 2,0Z\" style=\"opacity: 1; stroke-width: 0px; fill: rgb(135, 206, 250); fill-opacity: 1;\"/><path class=\"point\" transform=\"translate(333.81,249.55)\" d=\"M2,0A2,2 0 1,1 0,-2A2,2 0 0,1 2,0Z\" style=\"opacity: 1; stroke-width: 0px; fill: rgb(135, 206, 250); fill-opacity: 1;\"/><path class=\"point\" transform=\"translate(334.21,253.23)\" d=\"M2,0A2,2 0 1,1 0,-2A2,2 0 0,1 2,0Z\" style=\"opacity: 1; stroke-width: 0px; fill: rgb(135, 206, 250); fill-opacity: 1;\"/><path class=\"point\" transform=\"translate(334.62,253.34)\" d=\"M2,0A2,2 0 1,1 0,-2A2,2 0 0,1 2,0Z\" style=\"opacity: 1; stroke-width: 0px; fill: rgb(135, 206, 250); fill-opacity: 1;\"/><path class=\"point\" transform=\"translate(335.02,253.33)\" d=\"M2,0A2,2 0 1,1 0,-2A2,2 0 0,1 2,0Z\" style=\"opacity: 1; stroke-width: 0px; fill: rgb(135, 206, 250); fill-opacity: 1;\"/><path class=\"point\" transform=\"translate(335.42,253.35)\" d=\"M2,0A2,2 0 1,1 0,-2A2,2 0 0,1 2,0Z\" style=\"opacity: 1; stroke-width: 0px; fill: rgb(135, 206, 250); fill-opacity: 1;\"/><path class=\"point\" transform=\"translate(335.82,252.6)\" d=\"M2,0A2,2 0 1,1 0,-2A2,2 0 0,1 2,0Z\" style=\"opacity: 1; stroke-width: 0px; fill: rgb(135, 206, 250); fill-opacity: 1;\"/><path class=\"point\" transform=\"translate(336.22,251.97)\" d=\"M2,0A2,2 0 1,1 0,-2A2,2 0 0,1 2,0Z\" style=\"opacity: 1; stroke-width: 0px; fill: rgb(135, 206, 250); fill-opacity: 1;\"/><path class=\"point\" transform=\"translate(336.62,253.33)\" d=\"M2,0A2,2 0 1,1 0,-2A2,2 0 0,1 2,0Z\" style=\"opacity: 1; stroke-width: 0px; fill: rgb(135, 206, 250); fill-opacity: 1;\"/><path class=\"point\" transform=\"translate(337.02,253.35)\" d=\"M2,0A2,2 0 1,1 0,-2A2,2 0 0,1 2,0Z\" style=\"opacity: 1; stroke-width: 0px; fill: rgb(135, 206, 250); fill-opacity: 1;\"/><path class=\"point\" transform=\"translate(337.42,252.63)\" d=\"M2,0A2,2 0 1,1 0,-2A2,2 0 0,1 2,0Z\" style=\"opacity: 1; stroke-width: 0px; fill: rgb(135, 206, 250); fill-opacity: 1;\"/><path class=\"point\" transform=\"translate(337.83,253.39)\" d=\"M2,0A2,2 0 1,1 0,-2A2,2 0 0,1 2,0Z\" style=\"opacity: 1; stroke-width: 0px; fill: rgb(135, 206, 250); fill-opacity: 1;\"/><path class=\"point\" transform=\"translate(338.23,253.13)\" d=\"M2,0A2,2 0 1,1 0,-2A2,2 0 0,1 2,0Z\" style=\"opacity: 1; stroke-width: 0px; fill: rgb(135, 206, 250); fill-opacity: 1;\"/><path class=\"point\" transform=\"translate(338.63,253.41)\" d=\"M2,0A2,2 0 1,1 0,-2A2,2 0 0,1 2,0Z\" style=\"opacity: 1; stroke-width: 0px; fill: rgb(135, 206, 250); fill-opacity: 1;\"/><path class=\"point\" transform=\"translate(339.03,253.21)\" d=\"M2,0A2,2 0 1,1 0,-2A2,2 0 0,1 2,0Z\" style=\"opacity: 1; stroke-width: 0px; fill: rgb(135, 206, 250); fill-opacity: 1;\"/><path class=\"point\" transform=\"translate(339.43,253.28)\" d=\"M2,0A2,2 0 1,1 0,-2A2,2 0 0,1 2,0Z\" style=\"opacity: 1; stroke-width: 0px; fill: rgb(135, 206, 250); fill-opacity: 1;\"/><path class=\"point\" transform=\"translate(339.83,253.25)\" d=\"M2,0A2,2 0 1,1 0,-2A2,2 0 0,1 2,0Z\" style=\"opacity: 1; stroke-width: 0px; fill: rgb(135, 206, 250); fill-opacity: 1;\"/><path class=\"point\" transform=\"translate(340.23,252.04)\" d=\"M2,0A2,2 0 1,1 0,-2A2,2 0 0,1 2,0Z\" style=\"opacity: 1; stroke-width: 0px; fill: rgb(135, 206, 250); fill-opacity: 1;\"/><path class=\"point\" transform=\"translate(340.64,253.1)\" d=\"M2,0A2,2 0 1,1 0,-2A2,2 0 0,1 2,0Z\" style=\"opacity: 1; stroke-width: 0px; fill: rgb(135, 206, 250); fill-opacity: 1;\"/><path class=\"point\" transform=\"translate(341.04,253.45)\" d=\"M2,0A2,2 0 1,1 0,-2A2,2 0 0,1 2,0Z\" style=\"opacity: 1; stroke-width: 0px; fill: rgb(135, 206, 250); fill-opacity: 1;\"/><path class=\"point\" transform=\"translate(341.44,253.37)\" d=\"M2,0A2,2 0 1,1 0,-2A2,2 0 0,1 2,0Z\" style=\"opacity: 1; stroke-width: 0px; fill: rgb(135, 206, 250); fill-opacity: 1;\"/><path class=\"point\" transform=\"translate(341.84,251.52)\" d=\"M2,0A2,2 0 1,1 0,-2A2,2 0 0,1 2,0Z\" style=\"opacity: 1; stroke-width: 0px; fill: rgb(135, 206, 250); fill-opacity: 1;\"/><path class=\"point\" transform=\"translate(342.24,252.75)\" d=\"M2,0A2,2 0 1,1 0,-2A2,2 0 0,1 2,0Z\" style=\"opacity: 1; stroke-width: 0px; fill: rgb(135, 206, 250); fill-opacity: 1;\"/><path class=\"point\" transform=\"translate(342.64,252.95)\" d=\"M2,0A2,2 0 1,1 0,-2A2,2 0 0,1 2,0Z\" style=\"opacity: 1; stroke-width: 0px; fill: rgb(135, 206, 250); fill-opacity: 1;\"/><path class=\"point\" transform=\"translate(343.04,253.38)\" d=\"M2,0A2,2 0 1,1 0,-2A2,2 0 0,1 2,0Z\" style=\"opacity: 1; stroke-width: 0px; fill: rgb(135, 206, 250); fill-opacity: 1;\"/><path class=\"point\" transform=\"translate(343.44,252.25)\" d=\"M2,0A2,2 0 1,1 0,-2A2,2 0 0,1 2,0Z\" style=\"opacity: 1; stroke-width: 0px; fill: rgb(135, 206, 250); fill-opacity: 1;\"/><path class=\"point\" transform=\"translate(343.85,253.09)\" d=\"M2,0A2,2 0 1,1 0,-2A2,2 0 0,1 2,0Z\" style=\"opacity: 1; stroke-width: 0px; fill: rgb(135, 206, 250); fill-opacity: 1;\"/><path class=\"point\" transform=\"translate(344.25,250.89)\" d=\"M2,0A2,2 0 1,1 0,-2A2,2 0 0,1 2,0Z\" style=\"opacity: 1; stroke-width: 0px; fill: rgb(135, 206, 250); fill-opacity: 1;\"/><path class=\"point\" transform=\"translate(344.65,252.71)\" d=\"M2,0A2,2 0 1,1 0,-2A2,2 0 0,1 2,0Z\" style=\"opacity: 1; stroke-width: 0px; fill: rgb(135, 206, 250); fill-opacity: 1;\"/><path class=\"point\" transform=\"translate(345.05,252.91)\" d=\"M2,0A2,2 0 1,1 0,-2A2,2 0 0,1 2,0Z\" style=\"opacity: 1; stroke-width: 0px; fill: rgb(135, 206, 250); fill-opacity: 1;\"/><path class=\"point\" transform=\"translate(345.45,253)\" d=\"M2,0A2,2 0 1,1 0,-2A2,2 0 0,1 2,0Z\" style=\"opacity: 1; stroke-width: 0px; fill: rgb(135, 206, 250); fill-opacity: 1;\"/><path class=\"point\" transform=\"translate(345.85,253.36)\" d=\"M2,0A2,2 0 1,1 0,-2A2,2 0 0,1 2,0Z\" style=\"opacity: 1; stroke-width: 0px; fill: rgb(135, 206, 250); fill-opacity: 1;\"/><path class=\"point\" transform=\"translate(346.25,252.89)\" d=\"M2,0A2,2 0 1,1 0,-2A2,2 0 0,1 2,0Z\" style=\"opacity: 1; stroke-width: 0px; fill: rgb(135, 206, 250); fill-opacity: 1;\"/><path class=\"point\" transform=\"translate(346.66,253.19)\" d=\"M2,0A2,2 0 1,1 0,-2A2,2 0 0,1 2,0Z\" style=\"opacity: 1; stroke-width: 0px; fill: rgb(135, 206, 250); fill-opacity: 1;\"/><path class=\"point\" transform=\"translate(347.06,253.45)\" d=\"M2,0A2,2 0 1,1 0,-2A2,2 0 0,1 2,0Z\" style=\"opacity: 1; stroke-width: 0px; fill: rgb(135, 206, 250); fill-opacity: 1;\"/><path class=\"point\" transform=\"translate(347.46,251.32)\" d=\"M2,0A2,2 0 1,1 0,-2A2,2 0 0,1 2,0Z\" style=\"opacity: 1; stroke-width: 0px; fill: rgb(135, 206, 250); fill-opacity: 1;\"/><path class=\"point\" transform=\"translate(347.86,253.35)\" d=\"M2,0A2,2 0 1,1 0,-2A2,2 0 0,1 2,0Z\" style=\"opacity: 1; stroke-width: 0px; fill: rgb(135, 206, 250); fill-opacity: 1;\"/><path class=\"point\" transform=\"translate(348.26,250.28)\" d=\"M2,0A2,2 0 1,1 0,-2A2,2 0 0,1 2,0Z\" style=\"opacity: 1; stroke-width: 0px; fill: rgb(135, 206, 250); fill-opacity: 1;\"/><path class=\"point\" transform=\"translate(348.66,253.29)\" d=\"M2,0A2,2 0 1,1 0,-2A2,2 0 0,1 2,0Z\" style=\"opacity: 1; stroke-width: 0px; fill: rgb(135, 206, 250); fill-opacity: 1;\"/><path class=\"point\" transform=\"translate(349.06,253.1)\" d=\"M2,0A2,2 0 1,1 0,-2A2,2 0 0,1 2,0Z\" style=\"opacity: 1; stroke-width: 0px; fill: rgb(135, 206, 250); fill-opacity: 1;\"/><path class=\"point\" transform=\"translate(349.46,253.32)\" d=\"M2,0A2,2 0 1,1 0,-2A2,2 0 0,1 2,0Z\" style=\"opacity: 1; stroke-width: 0px; fill: rgb(135, 206, 250); fill-opacity: 1;\"/><path class=\"point\" transform=\"translate(349.87,252.66)\" d=\"M2,0A2,2 0 1,1 0,-2A2,2 0 0,1 2,0Z\" style=\"opacity: 1; stroke-width: 0px; fill: rgb(135, 206, 250); fill-opacity: 1;\"/><path class=\"point\" transform=\"translate(350.27,252.6)\" d=\"M2,0A2,2 0 1,1 0,-2A2,2 0 0,1 2,0Z\" style=\"opacity: 1; stroke-width: 0px; fill: rgb(135, 206, 250); fill-opacity: 1;\"/><path class=\"point\" transform=\"translate(350.67,253.12)\" d=\"M2,0A2,2 0 1,1 0,-2A2,2 0 0,1 2,0Z\" style=\"opacity: 1; stroke-width: 0px; fill: rgb(135, 206, 250); fill-opacity: 1;\"/><path class=\"point\" transform=\"translate(351.07,253.25)\" d=\"M2,0A2,2 0 1,1 0,-2A2,2 0 0,1 2,0Z\" style=\"opacity: 1; stroke-width: 0px; fill: rgb(135, 206, 250); fill-opacity: 1;\"/><path class=\"point\" transform=\"translate(351.47,253.37)\" d=\"M2,0A2,2 0 1,1 0,-2A2,2 0 0,1 2,0Z\" style=\"opacity: 1; stroke-width: 0px; fill: rgb(135, 206, 250); fill-opacity: 1;\"/><path class=\"point\" transform=\"translate(351.87,253.4)\" d=\"M2,0A2,2 0 1,1 0,-2A2,2 0 0,1 2,0Z\" style=\"opacity: 1; stroke-width: 0px; fill: rgb(135, 206, 250); fill-opacity: 1;\"/><path class=\"point\" transform=\"translate(352.27,252.71)\" d=\"M2,0A2,2 0 1,1 0,-2A2,2 0 0,1 2,0Z\" style=\"opacity: 1; stroke-width: 0px; fill: rgb(135, 206, 250); fill-opacity: 1;\"/><path class=\"point\" transform=\"translate(352.68,252.84)\" d=\"M2,0A2,2 0 1,1 0,-2A2,2 0 0,1 2,0Z\" style=\"opacity: 1; stroke-width: 0px; fill: rgb(135, 206, 250); fill-opacity: 1;\"/><path class=\"point\" transform=\"translate(353.08,253.49)\" d=\"M2,0A2,2 0 1,1 0,-2A2,2 0 0,1 2,0Z\" style=\"opacity: 1; stroke-width: 0px; fill: rgb(135, 206, 250); fill-opacity: 1;\"/><path class=\"point\" transform=\"translate(353.48,253.37)\" d=\"M2,0A2,2 0 1,1 0,-2A2,2 0 0,1 2,0Z\" style=\"opacity: 1; stroke-width: 0px; fill: rgb(135, 206, 250); fill-opacity: 1;\"/><path class=\"point\" transform=\"translate(353.88,253.35)\" d=\"M2,0A2,2 0 1,1 0,-2A2,2 0 0,1 2,0Z\" style=\"opacity: 1; stroke-width: 0px; fill: rgb(135, 206, 250); fill-opacity: 1;\"/><path class=\"point\" transform=\"translate(354.28,253.28)\" d=\"M2,0A2,2 0 1,1 0,-2A2,2 0 0,1 2,0Z\" style=\"opacity: 1; stroke-width: 0px; fill: rgb(135, 206, 250); fill-opacity: 1;\"/><path class=\"point\" transform=\"translate(354.68,253.13)\" d=\"M2,0A2,2 0 1,1 0,-2A2,2 0 0,1 2,0Z\" style=\"opacity: 1; stroke-width: 0px; fill: rgb(135, 206, 250); fill-opacity: 1;\"/><path class=\"point\" transform=\"translate(355.08,252.22)\" d=\"M2,0A2,2 0 1,1 0,-2A2,2 0 0,1 2,0Z\" style=\"opacity: 1; stroke-width: 0px; fill: rgb(135, 206, 250); fill-opacity: 1;\"/><path class=\"point\" transform=\"translate(355.48,253.26)\" d=\"M2,0A2,2 0 1,1 0,-2A2,2 0 0,1 2,0Z\" style=\"opacity: 1; stroke-width: 0px; fill: rgb(135, 206, 250); fill-opacity: 1;\"/><path class=\"point\" transform=\"translate(355.89,253.4)\" d=\"M2,0A2,2 0 1,1 0,-2A2,2 0 0,1 2,0Z\" style=\"opacity: 1; stroke-width: 0px; fill: rgb(135, 206, 250); fill-opacity: 1;\"/><path class=\"point\" transform=\"translate(356.29,252.51)\" d=\"M2,0A2,2 0 1,1 0,-2A2,2 0 0,1 2,0Z\" style=\"opacity: 1; stroke-width: 0px; fill: rgb(135, 206, 250); fill-opacity: 1;\"/><path class=\"point\" transform=\"translate(356.69,250.55)\" d=\"M2,0A2,2 0 1,1 0,-2A2,2 0 0,1 2,0Z\" style=\"opacity: 1; stroke-width: 0px; fill: rgb(135, 206, 250); fill-opacity: 1;\"/><path class=\"point\" transform=\"translate(357.09,253.47)\" d=\"M2,0A2,2 0 1,1 0,-2A2,2 0 0,1 2,0Z\" style=\"opacity: 1; stroke-width: 0px; fill: rgb(135, 206, 250); fill-opacity: 1;\"/><path class=\"point\" transform=\"translate(357.49,252.24)\" d=\"M2,0A2,2 0 1,1 0,-2A2,2 0 0,1 2,0Z\" style=\"opacity: 1; stroke-width: 0px; fill: rgb(135, 206, 250); fill-opacity: 1;\"/><path class=\"point\" transform=\"translate(357.89,253.48)\" d=\"M2,0A2,2 0 1,1 0,-2A2,2 0 0,1 2,0Z\" style=\"opacity: 1; stroke-width: 0px; fill: rgb(135, 206, 250); fill-opacity: 1;\"/><path class=\"point\" transform=\"translate(358.29,252.78)\" d=\"M2,0A2,2 0 1,1 0,-2A2,2 0 0,1 2,0Z\" style=\"opacity: 1; stroke-width: 0px; fill: rgb(135, 206, 250); fill-opacity: 1;\"/><path class=\"point\" transform=\"translate(358.7,251.32)\" d=\"M2,0A2,2 0 1,1 0,-2A2,2 0 0,1 2,0Z\" style=\"opacity: 1; stroke-width: 0px; fill: rgb(135, 206, 250); fill-opacity: 1;\"/><path class=\"point\" transform=\"translate(359.1,253.46)\" d=\"M2,0A2,2 0 1,1 0,-2A2,2 0 0,1 2,0Z\" style=\"opacity: 1; stroke-width: 0px; fill: rgb(135, 206, 250); fill-opacity: 1;\"/><path class=\"point\" transform=\"translate(359.5,250.65)\" d=\"M2,0A2,2 0 1,1 0,-2A2,2 0 0,1 2,0Z\" style=\"opacity: 1; stroke-width: 0px; fill: rgb(135, 206, 250); fill-opacity: 1;\"/><path class=\"point\" transform=\"translate(359.9,253.13)\" d=\"M2,0A2,2 0 1,1 0,-2A2,2 0 0,1 2,0Z\" style=\"opacity: 1; stroke-width: 0px; fill: rgb(135, 206, 250); fill-opacity: 1;\"/><path class=\"point\" transform=\"translate(360.3,253.06)\" d=\"M2,0A2,2 0 1,1 0,-2A2,2 0 0,1 2,0Z\" style=\"opacity: 1; stroke-width: 0px; fill: rgb(135, 206, 250); fill-opacity: 1;\"/><path class=\"point\" transform=\"translate(360.7,250.33)\" d=\"M2,0A2,2 0 1,1 0,-2A2,2 0 0,1 2,0Z\" style=\"opacity: 1; stroke-width: 0px; fill: rgb(135, 206, 250); fill-opacity: 1;\"/><path class=\"point\" transform=\"translate(361.1,253.49)\" d=\"M2,0A2,2 0 1,1 0,-2A2,2 0 0,1 2,0Z\" style=\"opacity: 1; stroke-width: 0px; fill: rgb(135, 206, 250); fill-opacity: 1;\"/><path class=\"point\" transform=\"translate(361.51,253.33)\" d=\"M2,0A2,2 0 1,1 0,-2A2,2 0 0,1 2,0Z\" style=\"opacity: 1; stroke-width: 0px; fill: rgb(135, 206, 250); fill-opacity: 1;\"/><path class=\"point\" transform=\"translate(361.91,252.4)\" d=\"M2,0A2,2 0 1,1 0,-2A2,2 0 0,1 2,0Z\" style=\"opacity: 1; stroke-width: 0px; fill: rgb(135, 206, 250); fill-opacity: 1;\"/><path class=\"point\" transform=\"translate(362.31,253.08)\" d=\"M2,0A2,2 0 1,1 0,-2A2,2 0 0,1 2,0Z\" style=\"opacity: 1; stroke-width: 0px; fill: rgb(135, 206, 250); fill-opacity: 1;\"/><path class=\"point\" transform=\"translate(362.71,253.35)\" d=\"M2,0A2,2 0 1,1 0,-2A2,2 0 0,1 2,0Z\" style=\"opacity: 1; stroke-width: 0px; fill: rgb(135, 206, 250); fill-opacity: 1;\"/><path class=\"point\" transform=\"translate(363.11,253.33)\" d=\"M2,0A2,2 0 1,1 0,-2A2,2 0 0,1 2,0Z\" style=\"opacity: 1; stroke-width: 0px; fill: rgb(135, 206, 250); fill-opacity: 1;\"/><path class=\"point\" transform=\"translate(363.51,253.48)\" d=\"M2,0A2,2 0 1,1 0,-2A2,2 0 0,1 2,0Z\" style=\"opacity: 1; stroke-width: 0px; fill: rgb(135, 206, 250); fill-opacity: 1;\"/><path class=\"point\" transform=\"translate(363.91,253.45)\" d=\"M2,0A2,2 0 1,1 0,-2A2,2 0 0,1 2,0Z\" style=\"opacity: 1; stroke-width: 0px; fill: rgb(135, 206, 250); fill-opacity: 1;\"/><path class=\"point\" transform=\"translate(364.31,253.41)\" d=\"M2,0A2,2 0 1,1 0,-2A2,2 0 0,1 2,0Z\" style=\"opacity: 1; stroke-width: 0px; fill: rgb(135, 206, 250); fill-opacity: 1;\"/><path class=\"point\" transform=\"translate(364.72,252)\" d=\"M2,0A2,2 0 1,1 0,-2A2,2 0 0,1 2,0Z\" style=\"opacity: 1; stroke-width: 0px; fill: rgb(135, 206, 250); fill-opacity: 1;\"/><path class=\"point\" transform=\"translate(365.12,251.05)\" d=\"M2,0A2,2 0 1,1 0,-2A2,2 0 0,1 2,0Z\" style=\"opacity: 1; stroke-width: 0px; fill: rgb(135, 206, 250); fill-opacity: 1;\"/><path class=\"point\" transform=\"translate(365.52,252.97)\" d=\"M2,0A2,2 0 1,1 0,-2A2,2 0 0,1 2,0Z\" style=\"opacity: 1; stroke-width: 0px; fill: rgb(135, 206, 250); fill-opacity: 1;\"/><path class=\"point\" transform=\"translate(365.92,252.58)\" d=\"M2,0A2,2 0 1,1 0,-2A2,2 0 0,1 2,0Z\" style=\"opacity: 1; stroke-width: 0px; fill: rgb(135, 206, 250); fill-opacity: 1;\"/><path class=\"point\" transform=\"translate(366.32,252.84)\" d=\"M2,0A2,2 0 1,1 0,-2A2,2 0 0,1 2,0Z\" style=\"opacity: 1; stroke-width: 0px; fill: rgb(135, 206, 250); fill-opacity: 1;\"/><path class=\"point\" transform=\"translate(366.72,253.28)\" d=\"M2,0A2,2 0 1,1 0,-2A2,2 0 0,1 2,0Z\" style=\"opacity: 1; stroke-width: 0px; fill: rgb(135, 206, 250); fill-opacity: 1;\"/><path class=\"point\" transform=\"translate(367.12,252)\" d=\"M2,0A2,2 0 1,1 0,-2A2,2 0 0,1 2,0Z\" style=\"opacity: 1; stroke-width: 0px; fill: rgb(135, 206, 250); fill-opacity: 1;\"/><path class=\"point\" transform=\"translate(367.53,251.89)\" d=\"M2,0A2,2 0 1,1 0,-2A2,2 0 0,1 2,0Z\" style=\"opacity: 1; stroke-width: 0px; fill: rgb(135, 206, 250); fill-opacity: 1;\"/><path class=\"point\" transform=\"translate(367.93,253.35)\" d=\"M2,0A2,2 0 1,1 0,-2A2,2 0 0,1 2,0Z\" style=\"opacity: 1; stroke-width: 0px; fill: rgb(135, 206, 250); fill-opacity: 1;\"/><path class=\"point\" transform=\"translate(368.33,253.35)\" d=\"M2,0A2,2 0 1,1 0,-2A2,2 0 0,1 2,0Z\" style=\"opacity: 1; stroke-width: 0px; fill: rgb(135, 206, 250); fill-opacity: 1;\"/><path class=\"point\" transform=\"translate(368.73,249.86)\" d=\"M2,0A2,2 0 1,1 0,-2A2,2 0 0,1 2,0Z\" style=\"opacity: 1; stroke-width: 0px; fill: rgb(135, 206, 250); fill-opacity: 1;\"/><path class=\"point\" transform=\"translate(369.13,253.32)\" d=\"M2,0A2,2 0 1,1 0,-2A2,2 0 0,1 2,0Z\" style=\"opacity: 1; stroke-width: 0px; fill: rgb(135, 206, 250); fill-opacity: 1;\"/><path class=\"point\" transform=\"translate(369.53,253.19)\" d=\"M2,0A2,2 0 1,1 0,-2A2,2 0 0,1 2,0Z\" style=\"opacity: 1; stroke-width: 0px; fill: rgb(135, 206, 250); fill-opacity: 1;\"/><path class=\"point\" transform=\"translate(369.93,253.32)\" d=\"M2,0A2,2 0 1,1 0,-2A2,2 0 0,1 2,0Z\" style=\"opacity: 1; stroke-width: 0px; fill: rgb(135, 206, 250); fill-opacity: 1;\"/><path class=\"point\" transform=\"translate(370.33,251.2)\" d=\"M2,0A2,2 0 1,1 0,-2A2,2 0 0,1 2,0Z\" style=\"opacity: 1; stroke-width: 0px; fill: rgb(135, 206, 250); fill-opacity: 1;\"/><path class=\"point\" transform=\"translate(370.74,253.14)\" d=\"M2,0A2,2 0 1,1 0,-2A2,2 0 0,1 2,0Z\" style=\"opacity: 1; stroke-width: 0px; fill: rgb(135, 206, 250); fill-opacity: 1;\"/><path class=\"point\" transform=\"translate(371.14,253.08)\" d=\"M2,0A2,2 0 1,1 0,-2A2,2 0 0,1 2,0Z\" style=\"opacity: 1; stroke-width: 0px; fill: rgb(135, 206, 250); fill-opacity: 1;\"/><path class=\"point\" transform=\"translate(371.54,253.41)\" d=\"M2,0A2,2 0 1,1 0,-2A2,2 0 0,1 2,0Z\" style=\"opacity: 1; stroke-width: 0px; fill: rgb(135, 206, 250); fill-opacity: 1;\"/><path class=\"point\" transform=\"translate(371.94,252.76)\" d=\"M2,0A2,2 0 1,1 0,-2A2,2 0 0,1 2,0Z\" style=\"opacity: 1; stroke-width: 0px; fill: rgb(135, 206, 250); fill-opacity: 1;\"/><path class=\"point\" transform=\"translate(372.34,253.19)\" d=\"M2,0A2,2 0 1,1 0,-2A2,2 0 0,1 2,0Z\" style=\"opacity: 1; stroke-width: 0px; fill: rgb(135, 206, 250); fill-opacity: 1;\"/><path class=\"point\" transform=\"translate(372.74,253.39)\" d=\"M2,0A2,2 0 1,1 0,-2A2,2 0 0,1 2,0Z\" style=\"opacity: 1; stroke-width: 0px; fill: rgb(135, 206, 250); fill-opacity: 1;\"/><path class=\"point\" transform=\"translate(373.14,250.6)\" d=\"M2,0A2,2 0 1,1 0,-2A2,2 0 0,1 2,0Z\" style=\"opacity: 1; stroke-width: 0px; fill: rgb(135, 206, 250); fill-opacity: 1;\"/><path class=\"point\" transform=\"translate(373.55,253.39)\" d=\"M2,0A2,2 0 1,1 0,-2A2,2 0 0,1 2,0Z\" style=\"opacity: 1; stroke-width: 0px; fill: rgb(135, 206, 250); fill-opacity: 1;\"/><path class=\"point\" transform=\"translate(373.95,253.42)\" d=\"M2,0A2,2 0 1,1 0,-2A2,2 0 0,1 2,0Z\" style=\"opacity: 1; stroke-width: 0px; fill: rgb(135, 206, 250); fill-opacity: 1;\"/><path class=\"point\" transform=\"translate(374.35,238.56)\" d=\"M2,0A2,2 0 1,1 0,-2A2,2 0 0,1 2,0Z\" style=\"opacity: 1; stroke-width: 0px; fill: rgb(135, 206, 250); fill-opacity: 1;\"/><path class=\"point\" transform=\"translate(374.75,253.04)\" d=\"M2,0A2,2 0 1,1 0,-2A2,2 0 0,1 2,0Z\" style=\"opacity: 1; stroke-width: 0px; fill: rgb(135, 206, 250); fill-opacity: 1;\"/><path class=\"point\" transform=\"translate(375.15,252.09)\" d=\"M2,0A2,2 0 1,1 0,-2A2,2 0 0,1 2,0Z\" style=\"opacity: 1; stroke-width: 0px; fill: rgb(135, 206, 250); fill-opacity: 1;\"/><path class=\"point\" transform=\"translate(375.55,253.19)\" d=\"M2,0A2,2 0 1,1 0,-2A2,2 0 0,1 2,0Z\" style=\"opacity: 1; stroke-width: 0px; fill: rgb(135, 206, 250); fill-opacity: 1;\"/><path class=\"point\" transform=\"translate(375.95,252.38)\" d=\"M2,0A2,2 0 1,1 0,-2A2,2 0 0,1 2,0Z\" style=\"opacity: 1; stroke-width: 0px; fill: rgb(135, 206, 250); fill-opacity: 1;\"/><path class=\"point\" transform=\"translate(376.35,253.38)\" d=\"M2,0A2,2 0 1,1 0,-2A2,2 0 0,1 2,0Z\" style=\"opacity: 1; stroke-width: 0px; fill: rgb(135, 206, 250); fill-opacity: 1;\"/><path class=\"point\" transform=\"translate(376.76,251.5)\" d=\"M2,0A2,2 0 1,1 0,-2A2,2 0 0,1 2,0Z\" style=\"opacity: 1; stroke-width: 0px; fill: rgb(135, 206, 250); fill-opacity: 1;\"/><path class=\"point\" transform=\"translate(377.16,252.72)\" d=\"M2,0A2,2 0 1,1 0,-2A2,2 0 0,1 2,0Z\" style=\"opacity: 1; stroke-width: 0px; fill: rgb(135, 206, 250); fill-opacity: 1;\"/><path class=\"point\" transform=\"translate(377.56,252.98)\" d=\"M2,0A2,2 0 1,1 0,-2A2,2 0 0,1 2,0Z\" style=\"opacity: 1; stroke-width: 0px; fill: rgb(135, 206, 250); fill-opacity: 1;\"/><path class=\"point\" transform=\"translate(377.96,247.8)\" d=\"M2,0A2,2 0 1,1 0,-2A2,2 0 0,1 2,0Z\" style=\"opacity: 1; stroke-width: 0px; fill: rgb(135, 206, 250); fill-opacity: 1;\"/><path class=\"point\" transform=\"translate(378.36,252.81)\" d=\"M2,0A2,2 0 1,1 0,-2A2,2 0 0,1 2,0Z\" style=\"opacity: 1; stroke-width: 0px; fill: rgb(135, 206, 250); fill-opacity: 1;\"/><path class=\"point\" transform=\"translate(378.76,252.48)\" d=\"M2,0A2,2 0 1,1 0,-2A2,2 0 0,1 2,0Z\" style=\"opacity: 1; stroke-width: 0px; fill: rgb(135, 206, 250); fill-opacity: 1;\"/><path class=\"point\" transform=\"translate(379.16,250.65)\" d=\"M2,0A2,2 0 1,1 0,-2A2,2 0 0,1 2,0Z\" style=\"opacity: 1; stroke-width: 0px; fill: rgb(135, 206, 250); fill-opacity: 1;\"/><path class=\"point\" transform=\"translate(379.57,253.33)\" d=\"M2,0A2,2 0 1,1 0,-2A2,2 0 0,1 2,0Z\" style=\"opacity: 1; stroke-width: 0px; fill: rgb(135, 206, 250); fill-opacity: 1;\"/><path class=\"point\" transform=\"translate(379.97,253.37)\" d=\"M2,0A2,2 0 1,1 0,-2A2,2 0 0,1 2,0Z\" style=\"opacity: 1; stroke-width: 0px; fill: rgb(135, 206, 250); fill-opacity: 1;\"/><path class=\"point\" transform=\"translate(380.37,244.24)\" d=\"M2,0A2,2 0 1,1 0,-2A2,2 0 0,1 2,0Z\" style=\"opacity: 1; stroke-width: 0px; fill: rgb(135, 206, 250); fill-opacity: 1;\"/><path class=\"point\" transform=\"translate(380.77,253.25)\" d=\"M2,0A2,2 0 1,1 0,-2A2,2 0 0,1 2,0Z\" style=\"opacity: 1; stroke-width: 0px; fill: rgb(135, 206, 250); fill-opacity: 1;\"/><path class=\"point\" transform=\"translate(381.17,252.91)\" d=\"M2,0A2,2 0 1,1 0,-2A2,2 0 0,1 2,0Z\" style=\"opacity: 1; stroke-width: 0px; fill: rgb(135, 206, 250); fill-opacity: 1;\"/><path class=\"point\" transform=\"translate(381.57,252.95)\" d=\"M2,0A2,2 0 1,1 0,-2A2,2 0 0,1 2,0Z\" style=\"opacity: 1; stroke-width: 0px; fill: rgb(135, 206, 250); fill-opacity: 1;\"/><path class=\"point\" transform=\"translate(381.97,253.29)\" d=\"M2,0A2,2 0 1,1 0,-2A2,2 0 0,1 2,0Z\" style=\"opacity: 1; stroke-width: 0px; fill: rgb(135, 206, 250); fill-opacity: 1;\"/><path class=\"point\" transform=\"translate(382.37,253.49)\" d=\"M2,0A2,2 0 1,1 0,-2A2,2 0 0,1 2,0Z\" style=\"opacity: 1; stroke-width: 0px; fill: rgb(135, 206, 250); fill-opacity: 1;\"/><path class=\"point\" transform=\"translate(382.78,253.45)\" d=\"M2,0A2,2 0 1,1 0,-2A2,2 0 0,1 2,0Z\" style=\"opacity: 1; stroke-width: 0px; fill: rgb(135, 206, 250); fill-opacity: 1;\"/><path class=\"point\" transform=\"translate(383.18,251.28)\" d=\"M2,0A2,2 0 1,1 0,-2A2,2 0 0,1 2,0Z\" style=\"opacity: 1; stroke-width: 0px; fill: rgb(135, 206, 250); fill-opacity: 1;\"/><path class=\"point\" transform=\"translate(383.58,253.25)\" d=\"M2,0A2,2 0 1,1 0,-2A2,2 0 0,1 2,0Z\" style=\"opacity: 1; stroke-width: 0px; fill: rgb(135, 206, 250); fill-opacity: 1;\"/><path class=\"point\" transform=\"translate(383.98,253)\" d=\"M2,0A2,2 0 1,1 0,-2A2,2 0 0,1 2,0Z\" style=\"opacity: 1; stroke-width: 0px; fill: rgb(135, 206, 250); fill-opacity: 1;\"/><path class=\"point\" transform=\"translate(384.38,253.12)\" d=\"M2,0A2,2 0 1,1 0,-2A2,2 0 0,1 2,0Z\" style=\"opacity: 1; stroke-width: 0px; fill: rgb(135, 206, 250); fill-opacity: 1;\"/><path class=\"point\" transform=\"translate(384.78,253.28)\" d=\"M2,0A2,2 0 1,1 0,-2A2,2 0 0,1 2,0Z\" style=\"opacity: 1; stroke-width: 0px; fill: rgb(135, 206, 250); fill-opacity: 1;\"/><path class=\"point\" transform=\"translate(385.18,252.67)\" d=\"M2,0A2,2 0 1,1 0,-2A2,2 0 0,1 2,0Z\" style=\"opacity: 1; stroke-width: 0px; fill: rgb(135, 206, 250); fill-opacity: 1;\"/><path class=\"point\" transform=\"translate(385.59,249.57)\" d=\"M2,0A2,2 0 1,1 0,-2A2,2 0 0,1 2,0Z\" style=\"opacity: 1; stroke-width: 0px; fill: rgb(135, 206, 250); fill-opacity: 1;\"/><path class=\"point\" transform=\"translate(385.99,253.23)\" d=\"M2,0A2,2 0 1,1 0,-2A2,2 0 0,1 2,0Z\" style=\"opacity: 1; stroke-width: 0px; fill: rgb(135, 206, 250); fill-opacity: 1;\"/><path class=\"point\" transform=\"translate(386.39,252.99)\" d=\"M2,0A2,2 0 1,1 0,-2A2,2 0 0,1 2,0Z\" style=\"opacity: 1; stroke-width: 0px; fill: rgb(135, 206, 250); fill-opacity: 1;\"/><path class=\"point\" transform=\"translate(386.79,253.44)\" d=\"M2,0A2,2 0 1,1 0,-2A2,2 0 0,1 2,0Z\" style=\"opacity: 1; stroke-width: 0px; fill: rgb(135, 206, 250); fill-opacity: 1;\"/><path class=\"point\" transform=\"translate(387.19,248.63)\" d=\"M2,0A2,2 0 1,1 0,-2A2,2 0 0,1 2,0Z\" style=\"opacity: 1; stroke-width: 0px; fill: rgb(135, 206, 250); fill-opacity: 1;\"/><path class=\"point\" transform=\"translate(387.59,252.91)\" d=\"M2,0A2,2 0 1,1 0,-2A2,2 0 0,1 2,0Z\" style=\"opacity: 1; stroke-width: 0px; fill: rgb(135, 206, 250); fill-opacity: 1;\"/><path class=\"point\" transform=\"translate(387.99,251.69)\" d=\"M2,0A2,2 0 1,1 0,-2A2,2 0 0,1 2,0Z\" style=\"opacity: 1; stroke-width: 0px; fill: rgb(135, 206, 250); fill-opacity: 1;\"/><path class=\"point\" transform=\"translate(388.39,252.84)\" d=\"M2,0A2,2 0 1,1 0,-2A2,2 0 0,1 2,0Z\" style=\"opacity: 1; stroke-width: 0px; fill: rgb(135, 206, 250); fill-opacity: 1;\"/><path class=\"point\" transform=\"translate(388.8,253.42)\" d=\"M2,0A2,2 0 1,1 0,-2A2,2 0 0,1 2,0Z\" style=\"opacity: 1; stroke-width: 0px; fill: rgb(135, 206, 250); fill-opacity: 1;\"/><path class=\"point\" transform=\"translate(389.2,251.38)\" d=\"M2,0A2,2 0 1,1 0,-2A2,2 0 0,1 2,0Z\" style=\"opacity: 1; stroke-width: 0px; fill: rgb(135, 206, 250); fill-opacity: 1;\"/><path class=\"point\" transform=\"translate(389.6,253.27)\" d=\"M2,0A2,2 0 1,1 0,-2A2,2 0 0,1 2,0Z\" style=\"opacity: 1; stroke-width: 0px; fill: rgb(135, 206, 250); fill-opacity: 1;\"/><path class=\"point\" transform=\"translate(390,250.17)\" d=\"M2,0A2,2 0 1,1 0,-2A2,2 0 0,1 2,0Z\" style=\"opacity: 1; stroke-width: 0px; fill: rgb(135, 206, 250); fill-opacity: 1;\"/><path class=\"point\" transform=\"translate(390.4,250.75)\" d=\"M2,0A2,2 0 1,1 0,-2A2,2 0 0,1 2,0Z\" style=\"opacity: 1; stroke-width: 0px; fill: rgb(135, 206, 250); fill-opacity: 1;\"/><path class=\"point\" transform=\"translate(390.8,253.16)\" d=\"M2,0A2,2 0 1,1 0,-2A2,2 0 0,1 2,0Z\" style=\"opacity: 1; stroke-width: 0px; fill: rgb(135, 206, 250); fill-opacity: 1;\"/><path class=\"point\" transform=\"translate(391.2,253.38)\" d=\"M2,0A2,2 0 1,1 0,-2A2,2 0 0,1 2,0Z\" style=\"opacity: 1; stroke-width: 0px; fill: rgb(135, 206, 250); fill-opacity: 1;\"/><path class=\"point\" transform=\"translate(391.61,253.25)\" d=\"M2,0A2,2 0 1,1 0,-2A2,2 0 0,1 2,0Z\" style=\"opacity: 1; stroke-width: 0px; fill: rgb(135, 206, 250); fill-opacity: 1;\"/><path class=\"point\" transform=\"translate(392.01,253.48)\" d=\"M2,0A2,2 0 1,1 0,-2A2,2 0 0,1 2,0Z\" style=\"opacity: 1; stroke-width: 0px; fill: rgb(135, 206, 250); fill-opacity: 1;\"/><path class=\"point\" transform=\"translate(392.41,253.2)\" d=\"M2,0A2,2 0 1,1 0,-2A2,2 0 0,1 2,0Z\" style=\"opacity: 1; stroke-width: 0px; fill: rgb(135, 206, 250); fill-opacity: 1;\"/><path class=\"point\" transform=\"translate(392.81,253.45)\" d=\"M2,0A2,2 0 1,1 0,-2A2,2 0 0,1 2,0Z\" style=\"opacity: 1; stroke-width: 0px; fill: rgb(135, 206, 250); fill-opacity: 1;\"/><path class=\"point\" transform=\"translate(393.21,253.43)\" d=\"M2,0A2,2 0 1,1 0,-2A2,2 0 0,1 2,0Z\" style=\"opacity: 1; stroke-width: 0px; fill: rgb(135, 206, 250); fill-opacity: 1;\"/><path class=\"point\" transform=\"translate(393.61,253.1)\" d=\"M2,0A2,2 0 1,1 0,-2A2,2 0 0,1 2,0Z\" style=\"opacity: 1; stroke-width: 0px; fill: rgb(135, 206, 250); fill-opacity: 1;\"/><path class=\"point\" transform=\"translate(394.01,250.42)\" d=\"M2,0A2,2 0 1,1 0,-2A2,2 0 0,1 2,0Z\" style=\"opacity: 1; stroke-width: 0px; fill: rgb(135, 206, 250); fill-opacity: 1;\"/><path class=\"point\" transform=\"translate(394.41,253.5)\" d=\"M2,0A2,2 0 1,1 0,-2A2,2 0 0,1 2,0Z\" style=\"opacity: 1; stroke-width: 0px; fill: rgb(135, 206, 250); fill-opacity: 1;\"/><path class=\"point\" transform=\"translate(394.82,252.49)\" d=\"M2,0A2,2 0 1,1 0,-2A2,2 0 0,1 2,0Z\" style=\"opacity: 1; stroke-width: 0px; fill: rgb(135, 206, 250); fill-opacity: 1;\"/><path class=\"point\" transform=\"translate(395.22,253.1)\" d=\"M2,0A2,2 0 1,1 0,-2A2,2 0 0,1 2,0Z\" style=\"opacity: 1; stroke-width: 0px; fill: rgb(135, 206, 250); fill-opacity: 1;\"/><path class=\"point\" transform=\"translate(395.62,253.21)\" d=\"M2,0A2,2 0 1,1 0,-2A2,2 0 0,1 2,0Z\" style=\"opacity: 1; stroke-width: 0px; fill: rgb(135, 206, 250); fill-opacity: 1;\"/><path class=\"point\" transform=\"translate(396.02,252.87)\" d=\"M2,0A2,2 0 1,1 0,-2A2,2 0 0,1 2,0Z\" style=\"opacity: 1; stroke-width: 0px; fill: rgb(135, 206, 250); fill-opacity: 1;\"/><path class=\"point\" transform=\"translate(396.42,253.29)\" d=\"M2,0A2,2 0 1,1 0,-2A2,2 0 0,1 2,0Z\" style=\"opacity: 1; stroke-width: 0px; fill: rgb(135, 206, 250); fill-opacity: 1;\"/><path class=\"point\" transform=\"translate(396.82,252.87)\" d=\"M2,0A2,2 0 1,1 0,-2A2,2 0 0,1 2,0Z\" style=\"opacity: 1; stroke-width: 0px; fill: rgb(135, 206, 250); fill-opacity: 1;\"/><path class=\"point\" transform=\"translate(397.22,253.34)\" d=\"M2,0A2,2 0 1,1 0,-2A2,2 0 0,1 2,0Z\" style=\"opacity: 1; stroke-width: 0px; fill: rgb(135, 206, 250); fill-opacity: 1;\"/><path class=\"point\" transform=\"translate(397.63,252.68)\" d=\"M2,0A2,2 0 1,1 0,-2A2,2 0 0,1 2,0Z\" style=\"opacity: 1; stroke-width: 0px; fill: rgb(135, 206, 250); fill-opacity: 1;\"/><path class=\"point\" transform=\"translate(398.03,249.4)\" d=\"M2,0A2,2 0 1,1 0,-2A2,2 0 0,1 2,0Z\" style=\"opacity: 1; stroke-width: 0px; fill: rgb(135, 206, 250); fill-opacity: 1;\"/><path class=\"point\" transform=\"translate(398.43,253.4)\" d=\"M2,0A2,2 0 1,1 0,-2A2,2 0 0,1 2,0Z\" style=\"opacity: 1; stroke-width: 0px; fill: rgb(135, 206, 250); fill-opacity: 1;\"/><path class=\"point\" transform=\"translate(398.83,251.41)\" d=\"M2,0A2,2 0 1,1 0,-2A2,2 0 0,1 2,0Z\" style=\"opacity: 1; stroke-width: 0px; fill: rgb(135, 206, 250); fill-opacity: 1;\"/><path class=\"point\" transform=\"translate(399.23,252.63)\" d=\"M2,0A2,2 0 1,1 0,-2A2,2 0 0,1 2,0Z\" style=\"opacity: 1; stroke-width: 0px; fill: rgb(135, 206, 250); fill-opacity: 1;\"/><path class=\"point\" transform=\"translate(399.63,253.45)\" d=\"M2,0A2,2 0 1,1 0,-2A2,2 0 0,1 2,0Z\" style=\"opacity: 1; stroke-width: 0px; fill: rgb(135, 206, 250); fill-opacity: 1;\"/><path class=\"point\" transform=\"translate(400.03,253.15)\" d=\"M2,0A2,2 0 1,1 0,-2A2,2 0 0,1 2,0Z\" style=\"opacity: 1; stroke-width: 0px; fill: rgb(135, 206, 250); fill-opacity: 1;\"/><path class=\"point\" transform=\"translate(400.43,252.76)\" d=\"M2,0A2,2 0 1,1 0,-2A2,2 0 0,1 2,0Z\" style=\"opacity: 1; stroke-width: 0px; fill: rgb(135, 206, 250); fill-opacity: 1;\"/><path class=\"point\" transform=\"translate(400.84,253.39)\" d=\"M2,0A2,2 0 1,1 0,-2A2,2 0 0,1 2,0Z\" style=\"opacity: 1; stroke-width: 0px; fill: rgb(135, 206, 250); fill-opacity: 1;\"/><path class=\"point\" transform=\"translate(401.24,247.94)\" d=\"M2,0A2,2 0 1,1 0,-2A2,2 0 0,1 2,0Z\" style=\"opacity: 1; stroke-width: 0px; fill: rgb(135, 206, 250); fill-opacity: 1;\"/><path class=\"point\" transform=\"translate(401.64,252.96)\" d=\"M2,0A2,2 0 1,1 0,-2A2,2 0 0,1 2,0Z\" style=\"opacity: 1; stroke-width: 0px; fill: rgb(135, 206, 250); fill-opacity: 1;\"/><path class=\"point\" transform=\"translate(402.04,253.37)\" d=\"M2,0A2,2 0 1,1 0,-2A2,2 0 0,1 2,0Z\" style=\"opacity: 1; stroke-width: 0px; fill: rgb(135, 206, 250); fill-opacity: 1;\"/><path class=\"point\" transform=\"translate(402.44,248.25)\" d=\"M2,0A2,2 0 1,1 0,-2A2,2 0 0,1 2,0Z\" style=\"opacity: 1; stroke-width: 0px; fill: rgb(135, 206, 250); fill-opacity: 1;\"/><path class=\"point\" transform=\"translate(402.84,253.45)\" d=\"M2,0A2,2 0 1,1 0,-2A2,2 0 0,1 2,0Z\" style=\"opacity: 1; stroke-width: 0px; fill: rgb(135, 206, 250); fill-opacity: 1;\"/><path class=\"point\" transform=\"translate(403.24,250.41)\" d=\"M2,0A2,2 0 1,1 0,-2A2,2 0 0,1 2,0Z\" style=\"opacity: 1; stroke-width: 0px; fill: rgb(135, 206, 250); fill-opacity: 1;\"/><path class=\"point\" transform=\"translate(403.65,253.44)\" d=\"M2,0A2,2 0 1,1 0,-2A2,2 0 0,1 2,0Z\" style=\"opacity: 1; stroke-width: 0px; fill: rgb(135, 206, 250); fill-opacity: 1;\"/><path class=\"point\" transform=\"translate(404.05,253.39)\" d=\"M2,0A2,2 0 1,1 0,-2A2,2 0 0,1 2,0Z\" style=\"opacity: 1; stroke-width: 0px; fill: rgb(135, 206, 250); fill-opacity: 1;\"/><path class=\"point\" transform=\"translate(404.45,253.5)\" d=\"M2,0A2,2 0 1,1 0,-2A2,2 0 0,1 2,0Z\" style=\"opacity: 1; stroke-width: 0px; fill: rgb(135, 206, 250); fill-opacity: 1;\"/><path class=\"point\" transform=\"translate(404.85,253.26)\" d=\"M2,0A2,2 0 1,1 0,-2A2,2 0 0,1 2,0Z\" style=\"opacity: 1; stroke-width: 0px; fill: rgb(135, 206, 250); fill-opacity: 1;\"/><path class=\"point\" transform=\"translate(405.25,252.33)\" d=\"M2,0A2,2 0 1,1 0,-2A2,2 0 0,1 2,0Z\" style=\"opacity: 1; stroke-width: 0px; fill: rgb(135, 206, 250); fill-opacity: 1;\"/><path class=\"point\" transform=\"translate(405.65,253.16)\" d=\"M2,0A2,2 0 1,1 0,-2A2,2 0 0,1 2,0Z\" style=\"opacity: 1; stroke-width: 0px; fill: rgb(135, 206, 250); fill-opacity: 1;\"/><path class=\"point\" transform=\"translate(406.05,253.33)\" d=\"M2,0A2,2 0 1,1 0,-2A2,2 0 0,1 2,0Z\" style=\"opacity: 1; stroke-width: 0px; fill: rgb(135, 206, 250); fill-opacity: 1;\"/><path class=\"point\" transform=\"translate(406.45,253.26)\" d=\"M2,0A2,2 0 1,1 0,-2A2,2 0 0,1 2,0Z\" style=\"opacity: 1; stroke-width: 0px; fill: rgb(135, 206, 250); fill-opacity: 1;\"/><path class=\"point\" transform=\"translate(406.86,252.89)\" d=\"M2,0A2,2 0 1,1 0,-2A2,2 0 0,1 2,0Z\" style=\"opacity: 1; stroke-width: 0px; fill: rgb(135, 206, 250); fill-opacity: 1;\"/><path class=\"point\" transform=\"translate(407.26,244.19)\" d=\"M2,0A2,2 0 1,1 0,-2A2,2 0 0,1 2,0Z\" style=\"opacity: 1; stroke-width: 0px; fill: rgb(135, 206, 250); fill-opacity: 1;\"/><path class=\"point\" transform=\"translate(407.66,253.38)\" d=\"M2,0A2,2 0 1,1 0,-2A2,2 0 0,1 2,0Z\" style=\"opacity: 1; stroke-width: 0px; fill: rgb(135, 206, 250); fill-opacity: 1;\"/><path class=\"point\" transform=\"translate(408.06,252.36)\" d=\"M2,0A2,2 0 1,1 0,-2A2,2 0 0,1 2,0Z\" style=\"opacity: 1; stroke-width: 0px; fill: rgb(135, 206, 250); fill-opacity: 1;\"/><path class=\"point\" transform=\"translate(408.46,250.59)\" d=\"M2,0A2,2 0 1,1 0,-2A2,2 0 0,1 2,0Z\" style=\"opacity: 1; stroke-width: 0px; fill: rgb(135, 206, 250); fill-opacity: 1;\"/><path class=\"point\" transform=\"translate(408.86,250.57)\" d=\"M2,0A2,2 0 1,1 0,-2A2,2 0 0,1 2,0Z\" style=\"opacity: 1; stroke-width: 0px; fill: rgb(135, 206, 250); fill-opacity: 1;\"/><path class=\"point\" transform=\"translate(409.26,251.04)\" d=\"M2,0A2,2 0 1,1 0,-2A2,2 0 0,1 2,0Z\" style=\"opacity: 1; stroke-width: 0px; fill: rgb(135, 206, 250); fill-opacity: 1;\"/><path class=\"point\" transform=\"translate(409.67,252.98)\" d=\"M2,0A2,2 0 1,1 0,-2A2,2 0 0,1 2,0Z\" style=\"opacity: 1; stroke-width: 0px; fill: rgb(135, 206, 250); fill-opacity: 1;\"/><path class=\"point\" transform=\"translate(410.07,252.45)\" d=\"M2,0A2,2 0 1,1 0,-2A2,2 0 0,1 2,0Z\" style=\"opacity: 1; stroke-width: 0px; fill: rgb(135, 206, 250); fill-opacity: 1;\"/><path class=\"point\" transform=\"translate(410.47,252.83)\" d=\"M2,0A2,2 0 1,1 0,-2A2,2 0 0,1 2,0Z\" style=\"opacity: 1; stroke-width: 0px; fill: rgb(135, 206, 250); fill-opacity: 1;\"/><path class=\"point\" transform=\"translate(410.87,243.89)\" d=\"M2,0A2,2 0 1,1 0,-2A2,2 0 0,1 2,0Z\" style=\"opacity: 1; stroke-width: 0px; fill: rgb(135, 206, 250); fill-opacity: 1;\"/><path class=\"point\" transform=\"translate(411.27,249.63)\" d=\"M2,0A2,2 0 1,1 0,-2A2,2 0 0,1 2,0Z\" style=\"opacity: 1; stroke-width: 0px; fill: rgb(135, 206, 250); fill-opacity: 1;\"/><path class=\"point\" transform=\"translate(411.67,253.33)\" d=\"M2,0A2,2 0 1,1 0,-2A2,2 0 0,1 2,0Z\" style=\"opacity: 1; stroke-width: 0px; fill: rgb(135, 206, 250); fill-opacity: 1;\"/><path class=\"point\" transform=\"translate(412.07,253.18)\" d=\"M2,0A2,2 0 1,1 0,-2A2,2 0 0,1 2,0Z\" style=\"opacity: 1; stroke-width: 0px; fill: rgb(135, 206, 250); fill-opacity: 1;\"/><path class=\"point\" transform=\"translate(412.47,252.07)\" d=\"M2,0A2,2 0 1,1 0,-2A2,2 0 0,1 2,0Z\" style=\"opacity: 1; stroke-width: 0px; fill: rgb(135, 206, 250); fill-opacity: 1;\"/><path class=\"point\" transform=\"translate(412.88,253.3)\" d=\"M2,0A2,2 0 1,1 0,-2A2,2 0 0,1 2,0Z\" style=\"opacity: 1; stroke-width: 0px; fill: rgb(135, 206, 250); fill-opacity: 1;\"/><path class=\"point\" transform=\"translate(413.28,253.1)\" d=\"M2,0A2,2 0 1,1 0,-2A2,2 0 0,1 2,0Z\" style=\"opacity: 1; stroke-width: 0px; fill: rgb(135, 206, 250); fill-opacity: 1;\"/><path class=\"point\" transform=\"translate(413.68,253.32)\" d=\"M2,0A2,2 0 1,1 0,-2A2,2 0 0,1 2,0Z\" style=\"opacity: 1; stroke-width: 0px; fill: rgb(135, 206, 250); fill-opacity: 1;\"/><path class=\"point\" transform=\"translate(414.08,252.69)\" d=\"M2,0A2,2 0 1,1 0,-2A2,2 0 0,1 2,0Z\" style=\"opacity: 1; stroke-width: 0px; fill: rgb(135, 206, 250); fill-opacity: 1;\"/><path class=\"point\" transform=\"translate(414.48,252.97)\" d=\"M2,0A2,2 0 1,1 0,-2A2,2 0 0,1 2,0Z\" style=\"opacity: 1; stroke-width: 0px; fill: rgb(135, 206, 250); fill-opacity: 1;\"/><path class=\"point\" transform=\"translate(414.88,253.21)\" d=\"M2,0A2,2 0 1,1 0,-2A2,2 0 0,1 2,0Z\" style=\"opacity: 1; stroke-width: 0px; fill: rgb(135, 206, 250); fill-opacity: 1;\"/><path class=\"point\" transform=\"translate(415.28,248.93)\" d=\"M2,0A2,2 0 1,1 0,-2A2,2 0 0,1 2,0Z\" style=\"opacity: 1; stroke-width: 0px; fill: rgb(135, 206, 250); fill-opacity: 1;\"/><path class=\"point\" transform=\"translate(415.69,251.72)\" d=\"M2,0A2,2 0 1,1 0,-2A2,2 0 0,1 2,0Z\" style=\"opacity: 1; stroke-width: 0px; fill: rgb(135, 206, 250); fill-opacity: 1;\"/><path class=\"point\" transform=\"translate(416.09,250.44)\" d=\"M2,0A2,2 0 1,1 0,-2A2,2 0 0,1 2,0Z\" style=\"opacity: 1; stroke-width: 0px; fill: rgb(135, 206, 250); fill-opacity: 1;\"/><path class=\"point\" transform=\"translate(416.49,253.2)\" d=\"M2,0A2,2 0 1,1 0,-2A2,2 0 0,1 2,0Z\" style=\"opacity: 1; stroke-width: 0px; fill: rgb(135, 206, 250); fill-opacity: 1;\"/><path class=\"point\" transform=\"translate(416.89,253.23)\" d=\"M2,0A2,2 0 1,1 0,-2A2,2 0 0,1 2,0Z\" style=\"opacity: 1; stroke-width: 0px; fill: rgb(135, 206, 250); fill-opacity: 1;\"/><path class=\"point\" transform=\"translate(417.29,252.57)\" d=\"M2,0A2,2 0 1,1 0,-2A2,2 0 0,1 2,0Z\" style=\"opacity: 1; stroke-width: 0px; fill: rgb(135, 206, 250); fill-opacity: 1;\"/><path class=\"point\" transform=\"translate(417.69,253.45)\" d=\"M2,0A2,2 0 1,1 0,-2A2,2 0 0,1 2,0Z\" style=\"opacity: 1; stroke-width: 0px; fill: rgb(135, 206, 250); fill-opacity: 1;\"/><path class=\"point\" transform=\"translate(418.09,253.13)\" d=\"M2,0A2,2 0 1,1 0,-2A2,2 0 0,1 2,0Z\" style=\"opacity: 1; stroke-width: 0px; fill: rgb(135, 206, 250); fill-opacity: 1;\"/><path class=\"point\" transform=\"translate(418.49,253.14)\" d=\"M2,0A2,2 0 1,1 0,-2A2,2 0 0,1 2,0Z\" style=\"opacity: 1; stroke-width: 0px; fill: rgb(135, 206, 250); fill-opacity: 1;\"/><path class=\"point\" transform=\"translate(418.9,253.1)\" d=\"M2,0A2,2 0 1,1 0,-2A2,2 0 0,1 2,0Z\" style=\"opacity: 1; stroke-width: 0px; fill: rgb(135, 206, 250); fill-opacity: 1;\"/><path class=\"point\" transform=\"translate(419.3,252.94)\" d=\"M2,0A2,2 0 1,1 0,-2A2,2 0 0,1 2,0Z\" style=\"opacity: 1; stroke-width: 0px; fill: rgb(135, 206, 250); fill-opacity: 1;\"/><path class=\"point\" transform=\"translate(419.7,253.43)\" d=\"M2,0A2,2 0 1,1 0,-2A2,2 0 0,1 2,0Z\" style=\"opacity: 1; stroke-width: 0px; fill: rgb(135, 206, 250); fill-opacity: 1;\"/><path class=\"point\" transform=\"translate(420.1,252.94)\" d=\"M2,0A2,2 0 1,1 0,-2A2,2 0 0,1 2,0Z\" style=\"opacity: 1; stroke-width: 0px; fill: rgb(135, 206, 250); fill-opacity: 1;\"/><path class=\"point\" transform=\"translate(420.5,253.3)\" d=\"M2,0A2,2 0 1,1 0,-2A2,2 0 0,1 2,0Z\" style=\"opacity: 1; stroke-width: 0px; fill: rgb(135, 206, 250); fill-opacity: 1;\"/><path class=\"point\" transform=\"translate(420.9,252.9)\" d=\"M2,0A2,2 0 1,1 0,-2A2,2 0 0,1 2,0Z\" style=\"opacity: 1; stroke-width: 0px; fill: rgb(135, 206, 250); fill-opacity: 1;\"/><path class=\"point\" transform=\"translate(421.3,251.54)\" d=\"M2,0A2,2 0 1,1 0,-2A2,2 0 0,1 2,0Z\" style=\"opacity: 1; stroke-width: 0px; fill: rgb(135, 206, 250); fill-opacity: 1;\"/><path class=\"point\" transform=\"translate(421.71,253.05)\" d=\"M2,0A2,2 0 1,1 0,-2A2,2 0 0,1 2,0Z\" style=\"opacity: 1; stroke-width: 0px; fill: rgb(135, 206, 250); fill-opacity: 1;\"/><path class=\"point\" transform=\"translate(422.11,253.35)\" d=\"M2,0A2,2 0 1,1 0,-2A2,2 0 0,1 2,0Z\" style=\"opacity: 1; stroke-width: 0px; fill: rgb(135, 206, 250); fill-opacity: 1;\"/><path class=\"point\" transform=\"translate(422.51,253.09)\" d=\"M2,0A2,2 0 1,1 0,-2A2,2 0 0,1 2,0Z\" style=\"opacity: 1; stroke-width: 0px; fill: rgb(135, 206, 250); fill-opacity: 1;\"/><path class=\"point\" transform=\"translate(422.91,251.12)\" d=\"M2,0A2,2 0 1,1 0,-2A2,2 0 0,1 2,0Z\" style=\"opacity: 1; stroke-width: 0px; fill: rgb(135, 206, 250); fill-opacity: 1;\"/><path class=\"point\" transform=\"translate(423.31,253.48)\" d=\"M2,0A2,2 0 1,1 0,-2A2,2 0 0,1 2,0Z\" style=\"opacity: 1; stroke-width: 0px; fill: rgb(135, 206, 250); fill-opacity: 1;\"/><path class=\"point\" transform=\"translate(423.71,253.41)\" d=\"M2,0A2,2 0 1,1 0,-2A2,2 0 0,1 2,0Z\" style=\"opacity: 1; stroke-width: 0px; fill: rgb(135, 206, 250); fill-opacity: 1;\"/><path class=\"point\" transform=\"translate(424.11,252.19)\" d=\"M2,0A2,2 0 1,1 0,-2A2,2 0 0,1 2,0Z\" style=\"opacity: 1; stroke-width: 0px; fill: rgb(135, 206, 250); fill-opacity: 1;\"/><path class=\"point\" transform=\"translate(424.52,253.2)\" d=\"M2,0A2,2 0 1,1 0,-2A2,2 0 0,1 2,0Z\" style=\"opacity: 1; stroke-width: 0px; fill: rgb(135, 206, 250); fill-opacity: 1;\"/><path class=\"point\" transform=\"translate(424.92,253.49)\" d=\"M2,0A2,2 0 1,1 0,-2A2,2 0 0,1 2,0Z\" style=\"opacity: 1; stroke-width: 0px; fill: rgb(135, 206, 250); fill-opacity: 1;\"/><path class=\"point\" transform=\"translate(425.32,252.64)\" d=\"M2,0A2,2 0 1,1 0,-2A2,2 0 0,1 2,0Z\" style=\"opacity: 1; stroke-width: 0px; fill: rgb(135, 206, 250); fill-opacity: 1;\"/><path class=\"point\" transform=\"translate(425.72,253.38)\" d=\"M2,0A2,2 0 1,1 0,-2A2,2 0 0,1 2,0Z\" style=\"opacity: 1; stroke-width: 0px; fill: rgb(135, 206, 250); fill-opacity: 1;\"/><path class=\"point\" transform=\"translate(426.12,253.28)\" d=\"M2,0A2,2 0 1,1 0,-2A2,2 0 0,1 2,0Z\" style=\"opacity: 1; stroke-width: 0px; fill: rgb(135, 206, 250); fill-opacity: 1;\"/><path class=\"point\" transform=\"translate(426.52,253.25)\" d=\"M2,0A2,2 0 1,1 0,-2A2,2 0 0,1 2,0Z\" style=\"opacity: 1; stroke-width: 0px; fill: rgb(135, 206, 250); fill-opacity: 1;\"/><path class=\"point\" transform=\"translate(426.92,253.48)\" d=\"M2,0A2,2 0 1,1 0,-2A2,2 0 0,1 2,0Z\" style=\"opacity: 1; stroke-width: 0px; fill: rgb(135, 206, 250); fill-opacity: 1;\"/><path class=\"point\" transform=\"translate(427.32,252.49)\" d=\"M2,0A2,2 0 1,1 0,-2A2,2 0 0,1 2,0Z\" style=\"opacity: 1; stroke-width: 0px; fill: rgb(135, 206, 250); fill-opacity: 1;\"/><path class=\"point\" transform=\"translate(427.73,253.49)\" d=\"M2,0A2,2 0 1,1 0,-2A2,2 0 0,1 2,0Z\" style=\"opacity: 1; stroke-width: 0px; fill: rgb(135, 206, 250); fill-opacity: 1;\"/><path class=\"point\" transform=\"translate(428.13,252.76)\" d=\"M2,0A2,2 0 1,1 0,-2A2,2 0 0,1 2,0Z\" style=\"opacity: 1; stroke-width: 0px; fill: rgb(135, 206, 250); fill-opacity: 1;\"/><path class=\"point\" transform=\"translate(428.53,253.28)\" d=\"M2,0A2,2 0 1,1 0,-2A2,2 0 0,1 2,0Z\" style=\"opacity: 1; stroke-width: 0px; fill: rgb(135, 206, 250); fill-opacity: 1;\"/><path class=\"point\" transform=\"translate(428.93,253.28)\" d=\"M2,0A2,2 0 1,1 0,-2A2,2 0 0,1 2,0Z\" style=\"opacity: 1; stroke-width: 0px; fill: rgb(135, 206, 250); fill-opacity: 1;\"/><path class=\"point\" transform=\"translate(429.33,253.09)\" d=\"M2,0A2,2 0 1,1 0,-2A2,2 0 0,1 2,0Z\" style=\"opacity: 1; stroke-width: 0px; fill: rgb(135, 206, 250); fill-opacity: 1;\"/><path class=\"point\" transform=\"translate(429.73,253.49)\" d=\"M2,0A2,2 0 1,1 0,-2A2,2 0 0,1 2,0Z\" style=\"opacity: 1; stroke-width: 0px; fill: rgb(135, 206, 250); fill-opacity: 1;\"/><path class=\"point\" transform=\"translate(430.13,251.24)\" d=\"M2,0A2,2 0 1,1 0,-2A2,2 0 0,1 2,0Z\" style=\"opacity: 1; stroke-width: 0px; fill: rgb(135, 206, 250); fill-opacity: 1;\"/><path class=\"point\" transform=\"translate(430.54,251.6)\" d=\"M2,0A2,2 0 1,1 0,-2A2,2 0 0,1 2,0Z\" style=\"opacity: 1; stroke-width: 0px; fill: rgb(135, 206, 250); fill-opacity: 1;\"/><path class=\"point\" transform=\"translate(430.94,253.22)\" d=\"M2,0A2,2 0 1,1 0,-2A2,2 0 0,1 2,0Z\" style=\"opacity: 1; stroke-width: 0px; fill: rgb(135, 206, 250); fill-opacity: 1;\"/><path class=\"point\" transform=\"translate(431.34,252.87)\" d=\"M2,0A2,2 0 1,1 0,-2A2,2 0 0,1 2,0Z\" style=\"opacity: 1; stroke-width: 0px; fill: rgb(135, 206, 250); fill-opacity: 1;\"/><path class=\"point\" transform=\"translate(431.74,253.35)\" d=\"M2,0A2,2 0 1,1 0,-2A2,2 0 0,1 2,0Z\" style=\"opacity: 1; stroke-width: 0px; fill: rgb(135, 206, 250); fill-opacity: 1;\"/><path class=\"point\" transform=\"translate(432.14,253.33)\" d=\"M2,0A2,2 0 1,1 0,-2A2,2 0 0,1 2,0Z\" style=\"opacity: 1; stroke-width: 0px; fill: rgb(135, 206, 250); fill-opacity: 1;\"/><path class=\"point\" transform=\"translate(432.54,253.49)\" d=\"M2,0A2,2 0 1,1 0,-2A2,2 0 0,1 2,0Z\" style=\"opacity: 1; stroke-width: 0px; fill: rgb(135, 206, 250); fill-opacity: 1;\"/><path class=\"point\" transform=\"translate(432.94,253.32)\" d=\"M2,0A2,2 0 1,1 0,-2A2,2 0 0,1 2,0Z\" style=\"opacity: 1; stroke-width: 0px; fill: rgb(135, 206, 250); fill-opacity: 1;\"/><path class=\"point\" transform=\"translate(433.34,253.49)\" d=\"M2,0A2,2 0 1,1 0,-2A2,2 0 0,1 2,0Z\" style=\"opacity: 1; stroke-width: 0px; fill: rgb(135, 206, 250); fill-opacity: 1;\"/><path class=\"point\" transform=\"translate(433.75,245.09)\" d=\"M2,0A2,2 0 1,1 0,-2A2,2 0 0,1 2,0Z\" style=\"opacity: 1; stroke-width: 0px; fill: rgb(135, 206, 250); fill-opacity: 1;\"/><path class=\"point\" transform=\"translate(434.15,252.94)\" d=\"M2,0A2,2 0 1,1 0,-2A2,2 0 0,1 2,0Z\" style=\"opacity: 1; stroke-width: 0px; fill: rgb(135, 206, 250); fill-opacity: 1;\"/><path class=\"point\" transform=\"translate(434.55,253.06)\" d=\"M2,0A2,2 0 1,1 0,-2A2,2 0 0,1 2,0Z\" style=\"opacity: 1; stroke-width: 0px; fill: rgb(135, 206, 250); fill-opacity: 1;\"/><path class=\"point\" transform=\"translate(434.95,253.09)\" d=\"M2,0A2,2 0 1,1 0,-2A2,2 0 0,1 2,0Z\" style=\"opacity: 1; stroke-width: 0px; fill: rgb(135, 206, 250); fill-opacity: 1;\"/><path class=\"point\" transform=\"translate(435.35,252.95)\" d=\"M2,0A2,2 0 1,1 0,-2A2,2 0 0,1 2,0Z\" style=\"opacity: 1; stroke-width: 0px; fill: rgb(135, 206, 250); fill-opacity: 1;\"/><path class=\"point\" transform=\"translate(435.75,250.74)\" d=\"M2,0A2,2 0 1,1 0,-2A2,2 0 0,1 2,0Z\" style=\"opacity: 1; stroke-width: 0px; fill: rgb(135, 206, 250); fill-opacity: 1;\"/><path class=\"point\" transform=\"translate(436.15,252.81)\" d=\"M2,0A2,2 0 1,1 0,-2A2,2 0 0,1 2,0Z\" style=\"opacity: 1; stroke-width: 0px; fill: rgb(135, 206, 250); fill-opacity: 1;\"/><path class=\"point\" transform=\"translate(436.56,253.5)\" d=\"M2,0A2,2 0 1,1 0,-2A2,2 0 0,1 2,0Z\" style=\"opacity: 1; stroke-width: 0px; fill: rgb(135, 206, 250); fill-opacity: 1;\"/><path class=\"point\" transform=\"translate(436.96,251.95)\" d=\"M2,0A2,2 0 1,1 0,-2A2,2 0 0,1 2,0Z\" style=\"opacity: 1; stroke-width: 0px; fill: rgb(135, 206, 250); fill-opacity: 1;\"/><path class=\"point\" transform=\"translate(437.36,253.42)\" d=\"M2,0A2,2 0 1,1 0,-2A2,2 0 0,1 2,0Z\" style=\"opacity: 1; stroke-width: 0px; fill: rgb(135, 206, 250); fill-opacity: 1;\"/><path class=\"point\" transform=\"translate(437.76,253.43)\" d=\"M2,0A2,2 0 1,1 0,-2A2,2 0 0,1 2,0Z\" style=\"opacity: 1; stroke-width: 0px; fill: rgb(135, 206, 250); fill-opacity: 1;\"/><path class=\"point\" transform=\"translate(438.16,251.43)\" d=\"M2,0A2,2 0 1,1 0,-2A2,2 0 0,1 2,0Z\" style=\"opacity: 1; stroke-width: 0px; fill: rgb(135, 206, 250); fill-opacity: 1;\"/><path class=\"point\" transform=\"translate(438.56,252.69)\" d=\"M2,0A2,2 0 1,1 0,-2A2,2 0 0,1 2,0Z\" style=\"opacity: 1; stroke-width: 0px; fill: rgb(135, 206, 250); fill-opacity: 1;\"/><path class=\"point\" transform=\"translate(438.96,253.21)\" d=\"M2,0A2,2 0 1,1 0,-2A2,2 0 0,1 2,0Z\" style=\"opacity: 1; stroke-width: 0px; fill: rgb(135, 206, 250); fill-opacity: 1;\"/><path class=\"point\" transform=\"translate(439.36,253.37)\" d=\"M2,0A2,2 0 1,1 0,-2A2,2 0 0,1 2,0Z\" style=\"opacity: 1; stroke-width: 0px; fill: rgb(135, 206, 250); fill-opacity: 1;\"/><path class=\"point\" transform=\"translate(439.77,251.04)\" d=\"M2,0A2,2 0 1,1 0,-2A2,2 0 0,1 2,0Z\" style=\"opacity: 1; stroke-width: 0px; fill: rgb(135, 206, 250); fill-opacity: 1;\"/><path class=\"point\" transform=\"translate(440.17,253.09)\" d=\"M2,0A2,2 0 1,1 0,-2A2,2 0 0,1 2,0Z\" style=\"opacity: 1; stroke-width: 0px; fill: rgb(135, 206, 250); fill-opacity: 1;\"/><path class=\"point\" transform=\"translate(440.57,252.45)\" d=\"M2,0A2,2 0 1,1 0,-2A2,2 0 0,1 2,0Z\" style=\"opacity: 1; stroke-width: 0px; fill: rgb(135, 206, 250); fill-opacity: 1;\"/><path class=\"point\" transform=\"translate(440.97,253.48)\" d=\"M2,0A2,2 0 1,1 0,-2A2,2 0 0,1 2,0Z\" style=\"opacity: 1; stroke-width: 0px; fill: rgb(135, 206, 250); fill-opacity: 1;\"/><path class=\"point\" transform=\"translate(441.37,252.97)\" d=\"M2,0A2,2 0 1,1 0,-2A2,2 0 0,1 2,0Z\" style=\"opacity: 1; stroke-width: 0px; fill: rgb(135, 206, 250); fill-opacity: 1;\"/><path class=\"point\" transform=\"translate(441.77,250.55)\" d=\"M2,0A2,2 0 1,1 0,-2A2,2 0 0,1 2,0Z\" style=\"opacity: 1; stroke-width: 0px; fill: rgb(135, 206, 250); fill-opacity: 1;\"/><path class=\"point\" transform=\"translate(442.17,253.44)\" d=\"M2,0A2,2 0 1,1 0,-2A2,2 0 0,1 2,0Z\" style=\"opacity: 1; stroke-width: 0px; fill: rgb(135, 206, 250); fill-opacity: 1;\"/><path class=\"point\" transform=\"translate(442.58,253.32)\" d=\"M2,0A2,2 0 1,1 0,-2A2,2 0 0,1 2,0Z\" style=\"opacity: 1; stroke-width: 0px; fill: rgb(135, 206, 250); fill-opacity: 1;\"/><path class=\"point\" transform=\"translate(442.98,244.24)\" d=\"M2,0A2,2 0 1,1 0,-2A2,2 0 0,1 2,0Z\" style=\"opacity: 1; stroke-width: 0px; fill: rgb(135, 206, 250); fill-opacity: 1;\"/><path class=\"point\" transform=\"translate(443.38,253.06)\" d=\"M2,0A2,2 0 1,1 0,-2A2,2 0 0,1 2,0Z\" style=\"opacity: 1; stroke-width: 0px; fill: rgb(135, 206, 250); fill-opacity: 1;\"/><path class=\"point\" transform=\"translate(443.78,253.09)\" d=\"M2,0A2,2 0 1,1 0,-2A2,2 0 0,1 2,0Z\" style=\"opacity: 1; stroke-width: 0px; fill: rgb(135, 206, 250); fill-opacity: 1;\"/><path class=\"point\" transform=\"translate(444.18,253.02)\" d=\"M2,0A2,2 0 1,1 0,-2A2,2 0 0,1 2,0Z\" style=\"opacity: 1; stroke-width: 0px; fill: rgb(135, 206, 250); fill-opacity: 1;\"/><path class=\"point\" transform=\"translate(444.58,253.26)\" d=\"M2,0A2,2 0 1,1 0,-2A2,2 0 0,1 2,0Z\" style=\"opacity: 1; stroke-width: 0px; fill: rgb(135, 206, 250); fill-opacity: 1;\"/><path class=\"point\" transform=\"translate(444.98,251.6)\" d=\"M2,0A2,2 0 1,1 0,-2A2,2 0 0,1 2,0Z\" style=\"opacity: 1; stroke-width: 0px; fill: rgb(135, 206, 250); fill-opacity: 1;\"/><path class=\"point\" transform=\"translate(445.38,252.16)\" d=\"M2,0A2,2 0 1,1 0,-2A2,2 0 0,1 2,0Z\" style=\"opacity: 1; stroke-width: 0px; fill: rgb(135, 206, 250); fill-opacity: 1;\"/><path class=\"point\" transform=\"translate(445.79,252.18)\" d=\"M2,0A2,2 0 1,1 0,-2A2,2 0 0,1 2,0Z\" style=\"opacity: 1; stroke-width: 0px; fill: rgb(135, 206, 250); fill-opacity: 1;\"/><path class=\"point\" transform=\"translate(446.19,253.22)\" d=\"M2,0A2,2 0 1,1 0,-2A2,2 0 0,1 2,0Z\" style=\"opacity: 1; stroke-width: 0px; fill: rgb(135, 206, 250); fill-opacity: 1;\"/><path class=\"point\" transform=\"translate(446.59,249.05)\" d=\"M2,0A2,2 0 1,1 0,-2A2,2 0 0,1 2,0Z\" style=\"opacity: 1; stroke-width: 0px; fill: rgb(135, 206, 250); fill-opacity: 1;\"/><path class=\"point\" transform=\"translate(446.99,252.45)\" d=\"M2,0A2,2 0 1,1 0,-2A2,2 0 0,1 2,0Z\" style=\"opacity: 1; stroke-width: 0px; fill: rgb(135, 206, 250); fill-opacity: 1;\"/><path class=\"point\" transform=\"translate(447.39,250.55)\" d=\"M2,0A2,2 0 1,1 0,-2A2,2 0 0,1 2,0Z\" style=\"opacity: 1; stroke-width: 0px; fill: rgb(135, 206, 250); fill-opacity: 1;\"/><path class=\"point\" transform=\"translate(447.79,253.22)\" d=\"M2,0A2,2 0 1,1 0,-2A2,2 0 0,1 2,0Z\" style=\"opacity: 1; stroke-width: 0px; fill: rgb(135, 206, 250); fill-opacity: 1;\"/><path class=\"point\" transform=\"translate(448.19,253.47)\" d=\"M2,0A2,2 0 1,1 0,-2A2,2 0 0,1 2,0Z\" style=\"opacity: 1; stroke-width: 0px; fill: rgb(135, 206, 250); fill-opacity: 1;\"/><path class=\"point\" transform=\"translate(448.6,253.33)\" d=\"M2,0A2,2 0 1,1 0,-2A2,2 0 0,1 2,0Z\" style=\"opacity: 1; stroke-width: 0px; fill: rgb(135, 206, 250); fill-opacity: 1;\"/><path class=\"point\" transform=\"translate(449,252.13)\" d=\"M2,0A2,2 0 1,1 0,-2A2,2 0 0,1 2,0Z\" style=\"opacity: 1; stroke-width: 0px; fill: rgb(135, 206, 250); fill-opacity: 1;\"/><path class=\"point\" transform=\"translate(449.4,252.54)\" d=\"M2,0A2,2 0 1,1 0,-2A2,2 0 0,1 2,0Z\" style=\"opacity: 1; stroke-width: 0px; fill: rgb(135, 206, 250); fill-opacity: 1;\"/><path class=\"point\" transform=\"translate(449.8,253.22)\" d=\"M2,0A2,2 0 1,1 0,-2A2,2 0 0,1 2,0Z\" style=\"opacity: 1; stroke-width: 0px; fill: rgb(135, 206, 250); fill-opacity: 1;\"/><path class=\"point\" transform=\"translate(450.2,253)\" d=\"M2,0A2,2 0 1,1 0,-2A2,2 0 0,1 2,0Z\" style=\"opacity: 1; stroke-width: 0px; fill: rgb(135, 206, 250); fill-opacity: 1;\"/><path class=\"point\" transform=\"translate(450.6,253.23)\" d=\"M2,0A2,2 0 1,1 0,-2A2,2 0 0,1 2,0Z\" style=\"opacity: 1; stroke-width: 0px; fill: rgb(135, 206, 250); fill-opacity: 1;\"/><path class=\"point\" transform=\"translate(451,253)\" d=\"M2,0A2,2 0 1,1 0,-2A2,2 0 0,1 2,0Z\" style=\"opacity: 1; stroke-width: 0px; fill: rgb(135, 206, 250); fill-opacity: 1;\"/><path class=\"point\" transform=\"translate(451.4,252.91)\" d=\"M2,0A2,2 0 1,1 0,-2A2,2 0 0,1 2,0Z\" style=\"opacity: 1; stroke-width: 0px; fill: rgb(135, 206, 250); fill-opacity: 1;\"/><path class=\"point\" transform=\"translate(451.81,253.38)\" d=\"M2,0A2,2 0 1,1 0,-2A2,2 0 0,1 2,0Z\" style=\"opacity: 1; stroke-width: 0px; fill: rgb(135, 206, 250); fill-opacity: 1;\"/><path class=\"point\" transform=\"translate(452.21,251.2)\" d=\"M2,0A2,2 0 1,1 0,-2A2,2 0 0,1 2,0Z\" style=\"opacity: 1; stroke-width: 0px; fill: rgb(135, 206, 250); fill-opacity: 1;\"/><path class=\"point\" transform=\"translate(452.61,253.43)\" d=\"M2,0A2,2 0 1,1 0,-2A2,2 0 0,1 2,0Z\" style=\"opacity: 1; stroke-width: 0px; fill: rgb(135, 206, 250); fill-opacity: 1;\"/><path class=\"point\" transform=\"translate(453.01,252.97)\" d=\"M2,0A2,2 0 1,1 0,-2A2,2 0 0,1 2,0Z\" style=\"opacity: 1; stroke-width: 0px; fill: rgb(135, 206, 250); fill-opacity: 1;\"/><path class=\"point\" transform=\"translate(453.41,253.45)\" d=\"M2,0A2,2 0 1,1 0,-2A2,2 0 0,1 2,0Z\" style=\"opacity: 1; stroke-width: 0px; fill: rgb(135, 206, 250); fill-opacity: 1;\"/><path class=\"point\" transform=\"translate(453.81,251.05)\" d=\"M2,0A2,2 0 1,1 0,-2A2,2 0 0,1 2,0Z\" style=\"opacity: 1; stroke-width: 0px; fill: rgb(135, 206, 250); fill-opacity: 1;\"/><path class=\"point\" transform=\"translate(454.21,253.35)\" d=\"M2,0A2,2 0 1,1 0,-2A2,2 0 0,1 2,0Z\" style=\"opacity: 1; stroke-width: 0px; fill: rgb(135, 206, 250); fill-opacity: 1;\"/><path class=\"point\" transform=\"translate(454.62,250.8)\" d=\"M2,0A2,2 0 1,1 0,-2A2,2 0 0,1 2,0Z\" style=\"opacity: 1; stroke-width: 0px; fill: rgb(135, 206, 250); fill-opacity: 1;\"/><path class=\"point\" transform=\"translate(455.02,253.22)\" d=\"M2,0A2,2 0 1,1 0,-2A2,2 0 0,1 2,0Z\" style=\"opacity: 1; stroke-width: 0px; fill: rgb(135, 206, 250); fill-opacity: 1;\"/><path class=\"point\" transform=\"translate(455.42,252.08)\" d=\"M2,0A2,2 0 1,1 0,-2A2,2 0 0,1 2,0Z\" style=\"opacity: 1; stroke-width: 0px; fill: rgb(135, 206, 250); fill-opacity: 1;\"/><path class=\"point\" transform=\"translate(455.82,253.44)\" d=\"M2,0A2,2 0 1,1 0,-2A2,2 0 0,1 2,0Z\" style=\"opacity: 1; stroke-width: 0px; fill: rgb(135, 206, 250); fill-opacity: 1;\"/><path class=\"point\" transform=\"translate(456.22,252.19)\" d=\"M2,0A2,2 0 1,1 0,-2A2,2 0 0,1 2,0Z\" style=\"opacity: 1; stroke-width: 0px; fill: rgb(135, 206, 250); fill-opacity: 1;\"/><path class=\"point\" transform=\"translate(456.62,253.32)\" d=\"M2,0A2,2 0 1,1 0,-2A2,2 0 0,1 2,0Z\" style=\"opacity: 1; stroke-width: 0px; fill: rgb(135, 206, 250); fill-opacity: 1;\"/><path class=\"point\" transform=\"translate(457.02,250.59)\" d=\"M2,0A2,2 0 1,1 0,-2A2,2 0 0,1 2,0Z\" style=\"opacity: 1; stroke-width: 0px; fill: rgb(135, 206, 250); fill-opacity: 1;\"/><path class=\"point\" transform=\"translate(457.42,253.22)\" d=\"M2,0A2,2 0 1,1 0,-2A2,2 0 0,1 2,0Z\" style=\"opacity: 1; stroke-width: 0px; fill: rgb(135, 206, 250); fill-opacity: 1;\"/><path class=\"point\" transform=\"translate(457.83,252.6)\" d=\"M2,0A2,2 0 1,1 0,-2A2,2 0 0,1 2,0Z\" style=\"opacity: 1; stroke-width: 0px; fill: rgb(135, 206, 250); fill-opacity: 1;\"/><path class=\"point\" transform=\"translate(458.23,252.83)\" d=\"M2,0A2,2 0 1,1 0,-2A2,2 0 0,1 2,0Z\" style=\"opacity: 1; stroke-width: 0px; fill: rgb(135, 206, 250); fill-opacity: 1;\"/><path class=\"point\" transform=\"translate(458.63,252.91)\" d=\"M2,0A2,2 0 1,1 0,-2A2,2 0 0,1 2,0Z\" style=\"opacity: 1; stroke-width: 0px; fill: rgb(135, 206, 250); fill-opacity: 1;\"/><path class=\"point\" transform=\"translate(459.03,253.18)\" d=\"M2,0A2,2 0 1,1 0,-2A2,2 0 0,1 2,0Z\" style=\"opacity: 1; stroke-width: 0px; fill: rgb(135, 206, 250); fill-opacity: 1;\"/><path class=\"point\" transform=\"translate(459.43,253.41)\" d=\"M2,0A2,2 0 1,1 0,-2A2,2 0 0,1 2,0Z\" style=\"opacity: 1; stroke-width: 0px; fill: rgb(135, 206, 250); fill-opacity: 1;\"/><path class=\"point\" transform=\"translate(459.83,252.28)\" d=\"M2,0A2,2 0 1,1 0,-2A2,2 0 0,1 2,0Z\" style=\"opacity: 1; stroke-width: 0px; fill: rgb(135, 206, 250); fill-opacity: 1;\"/><path class=\"point\" transform=\"translate(460.23,253.22)\" d=\"M2,0A2,2 0 1,1 0,-2A2,2 0 0,1 2,0Z\" style=\"opacity: 1; stroke-width: 0px; fill: rgb(135, 206, 250); fill-opacity: 1;\"/><path class=\"point\" transform=\"translate(460.64,251.57)\" d=\"M2,0A2,2 0 1,1 0,-2A2,2 0 0,1 2,0Z\" style=\"opacity: 1; stroke-width: 0px; fill: rgb(135, 206, 250); fill-opacity: 1;\"/><path class=\"point\" transform=\"translate(461.04,253.3)\" d=\"M2,0A2,2 0 1,1 0,-2A2,2 0 0,1 2,0Z\" style=\"opacity: 1; stroke-width: 0px; fill: rgb(135, 206, 250); fill-opacity: 1;\"/><path class=\"point\" transform=\"translate(461.44,252.99)\" d=\"M2,0A2,2 0 1,1 0,-2A2,2 0 0,1 2,0Z\" style=\"opacity: 1; stroke-width: 0px; fill: rgb(135, 206, 250); fill-opacity: 1;\"/><path class=\"point\" transform=\"translate(461.84,252.11)\" d=\"M2,0A2,2 0 1,1 0,-2A2,2 0 0,1 2,0Z\" style=\"opacity: 1; stroke-width: 0px; fill: rgb(135, 206, 250); fill-opacity: 1;\"/><path class=\"point\" transform=\"translate(462.24,253.41)\" d=\"M2,0A2,2 0 1,1 0,-2A2,2 0 0,1 2,0Z\" style=\"opacity: 1; stroke-width: 0px; fill: rgb(135, 206, 250); fill-opacity: 1;\"/><path class=\"point\" transform=\"translate(462.64,253.45)\" d=\"M2,0A2,2 0 1,1 0,-2A2,2 0 0,1 2,0Z\" style=\"opacity: 1; stroke-width: 0px; fill: rgb(135, 206, 250); fill-opacity: 1;\"/><path class=\"point\" transform=\"translate(463.04,252.03)\" d=\"M2,0A2,2 0 1,1 0,-2A2,2 0 0,1 2,0Z\" style=\"opacity: 1; stroke-width: 0px; fill: rgb(135, 206, 250); fill-opacity: 1;\"/><path class=\"point\" transform=\"translate(463.44,252.22)\" d=\"M2,0A2,2 0 1,1 0,-2A2,2 0 0,1 2,0Z\" style=\"opacity: 1; stroke-width: 0px; fill: rgb(135, 206, 250); fill-opacity: 1;\"/><path class=\"point\" transform=\"translate(463.85,252.14)\" d=\"M2,0A2,2 0 1,1 0,-2A2,2 0 0,1 2,0Z\" style=\"opacity: 1; stroke-width: 0px; fill: rgb(135, 206, 250); fill-opacity: 1;\"/><path class=\"point\" transform=\"translate(464.25,252.55)\" d=\"M2,0A2,2 0 1,1 0,-2A2,2 0 0,1 2,0Z\" style=\"opacity: 1; stroke-width: 0px; fill: rgb(135, 206, 250); fill-opacity: 1;\"/><path class=\"point\" transform=\"translate(464.65,253.32)\" d=\"M2,0A2,2 0 1,1 0,-2A2,2 0 0,1 2,0Z\" style=\"opacity: 1; stroke-width: 0px; fill: rgb(135, 206, 250); fill-opacity: 1;\"/><path class=\"point\" transform=\"translate(465.05,253.38)\" d=\"M2,0A2,2 0 1,1 0,-2A2,2 0 0,1 2,0Z\" style=\"opacity: 1; stroke-width: 0px; fill: rgb(135, 206, 250); fill-opacity: 1;\"/><path class=\"point\" transform=\"translate(465.45,252.77)\" d=\"M2,0A2,2 0 1,1 0,-2A2,2 0 0,1 2,0Z\" style=\"opacity: 1; stroke-width: 0px; fill: rgb(135, 206, 250); fill-opacity: 1;\"/><path class=\"point\" transform=\"translate(465.85,253.44)\" d=\"M2,0A2,2 0 1,1 0,-2A2,2 0 0,1 2,0Z\" style=\"opacity: 1; stroke-width: 0px; fill: rgb(135, 206, 250); fill-opacity: 1;\"/><path class=\"point\" transform=\"translate(466.25,247.22)\" d=\"M2,0A2,2 0 1,1 0,-2A2,2 0 0,1 2,0Z\" style=\"opacity: 1; stroke-width: 0px; fill: rgb(135, 206, 250); fill-opacity: 1;\"/><path class=\"point\" transform=\"translate(466.66,252.46)\" d=\"M2,0A2,2 0 1,1 0,-2A2,2 0 0,1 2,0Z\" style=\"opacity: 1; stroke-width: 0px; fill: rgb(135, 206, 250); fill-opacity: 1;\"/><path class=\"point\" transform=\"translate(467.06,252.75)\" d=\"M2,0A2,2 0 1,1 0,-2A2,2 0 0,1 2,0Z\" style=\"opacity: 1; stroke-width: 0px; fill: rgb(135, 206, 250); fill-opacity: 1;\"/><path class=\"point\" transform=\"translate(467.46,253.44)\" d=\"M2,0A2,2 0 1,1 0,-2A2,2 0 0,1 2,0Z\" style=\"opacity: 1; stroke-width: 0px; fill: rgb(135, 206, 250); fill-opacity: 1;\"/><path class=\"point\" transform=\"translate(467.86,253.5)\" d=\"M2,0A2,2 0 1,1 0,-2A2,2 0 0,1 2,0Z\" style=\"opacity: 1; stroke-width: 0px; fill: rgb(135, 206, 250); fill-opacity: 1;\"/><path class=\"point\" transform=\"translate(468.26,253.46)\" d=\"M2,0A2,2 0 1,1 0,-2A2,2 0 0,1 2,0Z\" style=\"opacity: 1; stroke-width: 0px; fill: rgb(135, 206, 250); fill-opacity: 1;\"/><path class=\"point\" transform=\"translate(468.66,252.7)\" d=\"M2,0A2,2 0 1,1 0,-2A2,2 0 0,1 2,0Z\" style=\"opacity: 1; stroke-width: 0px; fill: rgb(135, 206, 250); fill-opacity: 1;\"/><path class=\"point\" transform=\"translate(469.06,252.79)\" d=\"M2,0A2,2 0 1,1 0,-2A2,2 0 0,1 2,0Z\" style=\"opacity: 1; stroke-width: 0px; fill: rgb(135, 206, 250); fill-opacity: 1;\"/><path class=\"point\" transform=\"translate(469.46,251.28)\" d=\"M2,0A2,2 0 1,1 0,-2A2,2 0 0,1 2,0Z\" style=\"opacity: 1; stroke-width: 0px; fill: rgb(135, 206, 250); fill-opacity: 1;\"/><path class=\"point\" transform=\"translate(469.87,248.32)\" d=\"M2,0A2,2 0 1,1 0,-2A2,2 0 0,1 2,0Z\" style=\"opacity: 1; stroke-width: 0px; fill: rgb(135, 206, 250); fill-opacity: 1;\"/><path class=\"point\" transform=\"translate(470.27,253.45)\" d=\"M2,0A2,2 0 1,1 0,-2A2,2 0 0,1 2,0Z\" style=\"opacity: 1; stroke-width: 0px; fill: rgb(135, 206, 250); fill-opacity: 1;\"/><path class=\"point\" transform=\"translate(470.67,250.82)\" d=\"M2,0A2,2 0 1,1 0,-2A2,2 0 0,1 2,0Z\" style=\"opacity: 1; stroke-width: 0px; fill: rgb(135, 206, 250); fill-opacity: 1;\"/><path class=\"point\" transform=\"translate(471.07,243.05)\" d=\"M2,0A2,2 0 1,1 0,-2A2,2 0 0,1 2,0Z\" style=\"opacity: 1; stroke-width: 0px; fill: rgb(135, 206, 250); fill-opacity: 1;\"/><path class=\"point\" transform=\"translate(471.47,253.04)\" d=\"M2,0A2,2 0 1,1 0,-2A2,2 0 0,1 2,0Z\" style=\"opacity: 1; stroke-width: 0px; fill: rgb(135, 206, 250); fill-opacity: 1;\"/><path class=\"point\" transform=\"translate(471.87,253.39)\" d=\"M2,0A2,2 0 1,1 0,-2A2,2 0 0,1 2,0Z\" style=\"opacity: 1; stroke-width: 0px; fill: rgb(135, 206, 250); fill-opacity: 1;\"/><path class=\"point\" transform=\"translate(472.27,252.48)\" d=\"M2,0A2,2 0 1,1 0,-2A2,2 0 0,1 2,0Z\" style=\"opacity: 1; stroke-width: 0px; fill: rgb(135, 206, 250); fill-opacity: 1;\"/><path class=\"point\" transform=\"translate(472.68,242.95)\" d=\"M2,0A2,2 0 1,1 0,-2A2,2 0 0,1 2,0Z\" style=\"opacity: 1; stroke-width: 0px; fill: rgb(135, 206, 250); fill-opacity: 1;\"/><path class=\"point\" transform=\"translate(473.08,253.26)\" d=\"M2,0A2,2 0 1,1 0,-2A2,2 0 0,1 2,0Z\" style=\"opacity: 1; stroke-width: 0px; fill: rgb(135, 206, 250); fill-opacity: 1;\"/><path class=\"point\" transform=\"translate(473.48,252.45)\" d=\"M2,0A2,2 0 1,1 0,-2A2,2 0 0,1 2,0Z\" style=\"opacity: 1; stroke-width: 0px; fill: rgb(135, 206, 250); fill-opacity: 1;\"/><path class=\"point\" transform=\"translate(473.88,252.98)\" d=\"M2,0A2,2 0 1,1 0,-2A2,2 0 0,1 2,0Z\" style=\"opacity: 1; stroke-width: 0px; fill: rgb(135, 206, 250); fill-opacity: 1;\"/><path class=\"point\" transform=\"translate(474.28,253.46)\" d=\"M2,0A2,2 0 1,1 0,-2A2,2 0 0,1 2,0Z\" style=\"opacity: 1; stroke-width: 0px; fill: rgb(135, 206, 250); fill-opacity: 1;\"/><path class=\"point\" transform=\"translate(474.68,253.32)\" d=\"M2,0A2,2 0 1,1 0,-2A2,2 0 0,1 2,0Z\" style=\"opacity: 1; stroke-width: 0px; fill: rgb(135, 206, 250); fill-opacity: 1;\"/><path class=\"point\" transform=\"translate(475.08,251.68)\" d=\"M2,0A2,2 0 1,1 0,-2A2,2 0 0,1 2,0Z\" style=\"opacity: 1; stroke-width: 0px; fill: rgb(135, 206, 250); fill-opacity: 1;\"/><path class=\"point\" transform=\"translate(475.48,253.25)\" d=\"M2,0A2,2 0 1,1 0,-2A2,2 0 0,1 2,0Z\" style=\"opacity: 1; stroke-width: 0px; fill: rgb(135, 206, 250); fill-opacity: 1;\"/><path class=\"point\" transform=\"translate(475.89,252.31)\" d=\"M2,0A2,2 0 1,1 0,-2A2,2 0 0,1 2,0Z\" style=\"opacity: 1; stroke-width: 0px; fill: rgb(135, 206, 250); fill-opacity: 1;\"/><path class=\"point\" transform=\"translate(476.29,253.46)\" d=\"M2,0A2,2 0 1,1 0,-2A2,2 0 0,1 2,0Z\" style=\"opacity: 1; stroke-width: 0px; fill: rgb(135, 206, 250); fill-opacity: 1;\"/><path class=\"point\" transform=\"translate(476.69,252.87)\" d=\"M2,0A2,2 0 1,1 0,-2A2,2 0 0,1 2,0Z\" style=\"opacity: 1; stroke-width: 0px; fill: rgb(135, 206, 250); fill-opacity: 1;\"/><path class=\"point\" transform=\"translate(477.09,252.31)\" d=\"M2,0A2,2 0 1,1 0,-2A2,2 0 0,1 2,0Z\" style=\"opacity: 1; stroke-width: 0px; fill: rgb(135, 206, 250); fill-opacity: 1;\"/><path class=\"point\" transform=\"translate(477.49,253.09)\" d=\"M2,0A2,2 0 1,1 0,-2A2,2 0 0,1 2,0Z\" style=\"opacity: 1; stroke-width: 0px; fill: rgb(135, 206, 250); fill-opacity: 1;\"/><path class=\"point\" transform=\"translate(477.89,253.37)\" d=\"M2,0A2,2 0 1,1 0,-2A2,2 0 0,1 2,0Z\" style=\"opacity: 1; stroke-width: 0px; fill: rgb(135, 206, 250); fill-opacity: 1;\"/><path class=\"point\" transform=\"translate(478.29,251.67)\" d=\"M2,0A2,2 0 1,1 0,-2A2,2 0 0,1 2,0Z\" style=\"opacity: 1; stroke-width: 0px; fill: rgb(135, 206, 250); fill-opacity: 1;\"/><path class=\"point\" transform=\"translate(478.7,253.39)\" d=\"M2,0A2,2 0 1,1 0,-2A2,2 0 0,1 2,0Z\" style=\"opacity: 1; stroke-width: 0px; fill: rgb(135, 206, 250); fill-opacity: 1;\"/><path class=\"point\" transform=\"translate(479.1,253.07)\" d=\"M2,0A2,2 0 1,1 0,-2A2,2 0 0,1 2,0Z\" style=\"opacity: 1; stroke-width: 0px; fill: rgb(135, 206, 250); fill-opacity: 1;\"/><path class=\"point\" transform=\"translate(479.5,253.3)\" d=\"M2,0A2,2 0 1,1 0,-2A2,2 0 0,1 2,0Z\" style=\"opacity: 1; stroke-width: 0px; fill: rgb(135, 206, 250); fill-opacity: 1;\"/><path class=\"point\" transform=\"translate(479.9,249.04)\" d=\"M2,0A2,2 0 1,1 0,-2A2,2 0 0,1 2,0Z\" style=\"opacity: 1; stroke-width: 0px; fill: rgb(135, 206, 250); fill-opacity: 1;\"/><path class=\"point\" transform=\"translate(480.3,253.19)\" d=\"M2,0A2,2 0 1,1 0,-2A2,2 0 0,1 2,0Z\" style=\"opacity: 1; stroke-width: 0px; fill: rgb(135, 206, 250); fill-opacity: 1;\"/><path class=\"point\" transform=\"translate(480.7,253.24)\" d=\"M2,0A2,2 0 1,1 0,-2A2,2 0 0,1 2,0Z\" style=\"opacity: 1; stroke-width: 0px; fill: rgb(135, 206, 250); fill-opacity: 1;\"/><path class=\"point\" transform=\"translate(481.1,252.43)\" d=\"M2,0A2,2 0 1,1 0,-2A2,2 0 0,1 2,0Z\" style=\"opacity: 1; stroke-width: 0px; fill: rgb(135, 206, 250); fill-opacity: 1;\"/><path class=\"point\" transform=\"translate(481.51,252.65)\" d=\"M2,0A2,2 0 1,1 0,-2A2,2 0 0,1 2,0Z\" style=\"opacity: 1; stroke-width: 0px; fill: rgb(135, 206, 250); fill-opacity: 1;\"/><path class=\"point\" transform=\"translate(481.91,252.24)\" d=\"M2,0A2,2 0 1,1 0,-2A2,2 0 0,1 2,0Z\" style=\"opacity: 1; stroke-width: 0px; fill: rgb(135, 206, 250); fill-opacity: 1;\"/><path class=\"point\" transform=\"translate(482.31,252.99)\" d=\"M2,0A2,2 0 1,1 0,-2A2,2 0 0,1 2,0Z\" style=\"opacity: 1; stroke-width: 0px; fill: rgb(135, 206, 250); fill-opacity: 1;\"/><path class=\"point\" transform=\"translate(482.71,253.35)\" d=\"M2,0A2,2 0 1,1 0,-2A2,2 0 0,1 2,0Z\" style=\"opacity: 1; stroke-width: 0px; fill: rgb(135, 206, 250); fill-opacity: 1;\"/><path class=\"point\" transform=\"translate(483.11,250.65)\" d=\"M2,0A2,2 0 1,1 0,-2A2,2 0 0,1 2,0Z\" style=\"opacity: 1; stroke-width: 0px; fill: rgb(135, 206, 250); fill-opacity: 1;\"/><path class=\"point\" transform=\"translate(483.51,249.53)\" d=\"M2,0A2,2 0 1,1 0,-2A2,2 0 0,1 2,0Z\" style=\"opacity: 1; stroke-width: 0px; fill: rgb(135, 206, 250); fill-opacity: 1;\"/><path class=\"point\" transform=\"translate(483.91,252.87)\" d=\"M2,0A2,2 0 1,1 0,-2A2,2 0 0,1 2,0Z\" style=\"opacity: 1; stroke-width: 0px; fill: rgb(135, 206, 250); fill-opacity: 1;\"/><path class=\"point\" transform=\"translate(484.31,252.15)\" d=\"M2,0A2,2 0 1,1 0,-2A2,2 0 0,1 2,0Z\" style=\"opacity: 1; stroke-width: 0px; fill: rgb(135, 206, 250); fill-opacity: 1;\"/><path class=\"point\" transform=\"translate(484.72,252.64)\" d=\"M2,0A2,2 0 1,1 0,-2A2,2 0 0,1 2,0Z\" style=\"opacity: 1; stroke-width: 0px; fill: rgb(135, 206, 250); fill-opacity: 1;\"/><path class=\"point\" transform=\"translate(485.12,253.11)\" d=\"M2,0A2,2 0 1,1 0,-2A2,2 0 0,1 2,0Z\" style=\"opacity: 1; stroke-width: 0px; fill: rgb(135, 206, 250); fill-opacity: 1;\"/><path class=\"point\" transform=\"translate(485.52,250.5)\" d=\"M2,0A2,2 0 1,1 0,-2A2,2 0 0,1 2,0Z\" style=\"opacity: 1; stroke-width: 0px; fill: rgb(135, 206, 250); fill-opacity: 1;\"/><path class=\"point\" transform=\"translate(485.92,238.78)\" d=\"M2,0A2,2 0 1,1 0,-2A2,2 0 0,1 2,0Z\" style=\"opacity: 1; stroke-width: 0px; fill: rgb(135, 206, 250); fill-opacity: 1;\"/><path class=\"point\" transform=\"translate(486.32,245.16)\" d=\"M2,0A2,2 0 1,1 0,-2A2,2 0 0,1 2,0Z\" style=\"opacity: 1; stroke-width: 0px; fill: rgb(135, 206, 250); fill-opacity: 1;\"/><path class=\"point\" transform=\"translate(486.72,253.29)\" d=\"M2,0A2,2 0 1,1 0,-2A2,2 0 0,1 2,0Z\" style=\"opacity: 1; stroke-width: 0px; fill: rgb(135, 206, 250); fill-opacity: 1;\"/><path class=\"point\" transform=\"translate(487.12,253.31)\" d=\"M2,0A2,2 0 1,1 0,-2A2,2 0 0,1 2,0Z\" style=\"opacity: 1; stroke-width: 0px; fill: rgb(135, 206, 250); fill-opacity: 1;\"/><path class=\"point\" transform=\"translate(487.53,253.14)\" d=\"M2,0A2,2 0 1,1 0,-2A2,2 0 0,1 2,0Z\" style=\"opacity: 1; stroke-width: 0px; fill: rgb(135, 206, 250); fill-opacity: 1;\"/><path class=\"point\" transform=\"translate(487.93,253.46)\" d=\"M2,0A2,2 0 1,1 0,-2A2,2 0 0,1 2,0Z\" style=\"opacity: 1; stroke-width: 0px; fill: rgb(135, 206, 250); fill-opacity: 1;\"/><path class=\"point\" transform=\"translate(488.33,245.09)\" d=\"M2,0A2,2 0 1,1 0,-2A2,2 0 0,1 2,0Z\" style=\"opacity: 1; stroke-width: 0px; fill: rgb(135, 206, 250); fill-opacity: 1;\"/><path class=\"point\" transform=\"translate(488.73,253.36)\" d=\"M2,0A2,2 0 1,1 0,-2A2,2 0 0,1 2,0Z\" style=\"opacity: 1; stroke-width: 0px; fill: rgb(135, 206, 250); fill-opacity: 1;\"/><path class=\"point\" transform=\"translate(489.13,253.27)\" d=\"M2,0A2,2 0 1,1 0,-2A2,2 0 0,1 2,0Z\" style=\"opacity: 1; stroke-width: 0px; fill: rgb(135, 206, 250); fill-opacity: 1;\"/><path class=\"point\" transform=\"translate(489.53,252.73)\" d=\"M2,0A2,2 0 1,1 0,-2A2,2 0 0,1 2,0Z\" style=\"opacity: 1; stroke-width: 0px; fill: rgb(135, 206, 250); fill-opacity: 1;\"/><path class=\"point\" transform=\"translate(489.93,252.85)\" d=\"M2,0A2,2 0 1,1 0,-2A2,2 0 0,1 2,0Z\" style=\"opacity: 1; stroke-width: 0px; fill: rgb(135, 206, 250); fill-opacity: 1;\"/><path class=\"point\" transform=\"translate(490.33,253.2)\" d=\"M2,0A2,2 0 1,1 0,-2A2,2 0 0,1 2,0Z\" style=\"opacity: 1; stroke-width: 0px; fill: rgb(135, 206, 250); fill-opacity: 1;\"/><path class=\"point\" transform=\"translate(490.74,253.37)\" d=\"M2,0A2,2 0 1,1 0,-2A2,2 0 0,1 2,0Z\" style=\"opacity: 1; stroke-width: 0px; fill: rgb(135, 206, 250); fill-opacity: 1;\"/><path class=\"point\" transform=\"translate(491.14,252)\" d=\"M2,0A2,2 0 1,1 0,-2A2,2 0 0,1 2,0Z\" style=\"opacity: 1; stroke-width: 0px; fill: rgb(135, 206, 250); fill-opacity: 1;\"/><path class=\"point\" transform=\"translate(491.54,253.29)\" d=\"M2,0A2,2 0 1,1 0,-2A2,2 0 0,1 2,0Z\" style=\"opacity: 1; stroke-width: 0px; fill: rgb(135, 206, 250); fill-opacity: 1;\"/><path class=\"point\" transform=\"translate(491.94,252.95)\" d=\"M2,0A2,2 0 1,1 0,-2A2,2 0 0,1 2,0Z\" style=\"opacity: 1; stroke-width: 0px; fill: rgb(135, 206, 250); fill-opacity: 1;\"/><path class=\"point\" transform=\"translate(492.34,253.35)\" d=\"M2,0A2,2 0 1,1 0,-2A2,2 0 0,1 2,0Z\" style=\"opacity: 1; stroke-width: 0px; fill: rgb(135, 206, 250); fill-opacity: 1;\"/><path class=\"point\" transform=\"translate(492.74,253.04)\" d=\"M2,0A2,2 0 1,1 0,-2A2,2 0 0,1 2,0Z\" style=\"opacity: 1; stroke-width: 0px; fill: rgb(135, 206, 250); fill-opacity: 1;\"/><path class=\"point\" transform=\"translate(493.14,253)\" d=\"M2,0A2,2 0 1,1 0,-2A2,2 0 0,1 2,0Z\" style=\"opacity: 1; stroke-width: 0px; fill: rgb(135, 206, 250); fill-opacity: 1;\"/><path class=\"point\" transform=\"translate(493.55,252.85)\" d=\"M2,0A2,2 0 1,1 0,-2A2,2 0 0,1 2,0Z\" style=\"opacity: 1; stroke-width: 0px; fill: rgb(135, 206, 250); fill-opacity: 1;\"/><path class=\"point\" transform=\"translate(493.95,253.19)\" d=\"M2,0A2,2 0 1,1 0,-2A2,2 0 0,1 2,0Z\" style=\"opacity: 1; stroke-width: 0px; fill: rgb(135, 206, 250); fill-opacity: 1;\"/><path class=\"point\" transform=\"translate(494.35,253.41)\" d=\"M2,0A2,2 0 1,1 0,-2A2,2 0 0,1 2,0Z\" style=\"opacity: 1; stroke-width: 0px; fill: rgb(135, 206, 250); fill-opacity: 1;\"/><path class=\"point\" transform=\"translate(494.75,253.45)\" d=\"M2,0A2,2 0 1,1 0,-2A2,2 0 0,1 2,0Z\" style=\"opacity: 1; stroke-width: 0px; fill: rgb(135, 206, 250); fill-opacity: 1;\"/><path class=\"point\" transform=\"translate(495.15,252.96)\" d=\"M2,0A2,2 0 1,1 0,-2A2,2 0 0,1 2,0Z\" style=\"opacity: 1; stroke-width: 0px; fill: rgb(135, 206, 250); fill-opacity: 1;\"/><path class=\"point\" transform=\"translate(495.55,252.95)\" d=\"M2,0A2,2 0 1,1 0,-2A2,2 0 0,1 2,0Z\" style=\"opacity: 1; stroke-width: 0px; fill: rgb(135, 206, 250); fill-opacity: 1;\"/><path class=\"point\" transform=\"translate(495.95,253.33)\" d=\"M2,0A2,2 0 1,1 0,-2A2,2 0 0,1 2,0Z\" style=\"opacity: 1; stroke-width: 0px; fill: rgb(135, 206, 250); fill-opacity: 1;\"/><path class=\"point\" transform=\"translate(496.35,252.49)\" d=\"M2,0A2,2 0 1,1 0,-2A2,2 0 0,1 2,0Z\" style=\"opacity: 1; stroke-width: 0px; fill: rgb(135, 206, 250); fill-opacity: 1;\"/><path class=\"point\" transform=\"translate(496.76,253.44)\" d=\"M2,0A2,2 0 1,1 0,-2A2,2 0 0,1 2,0Z\" style=\"opacity: 1; stroke-width: 0px; fill: rgb(135, 206, 250); fill-opacity: 1;\"/><path class=\"point\" transform=\"translate(497.16,252.02)\" d=\"M2,0A2,2 0 1,1 0,-2A2,2 0 0,1 2,0Z\" style=\"opacity: 1; stroke-width: 0px; fill: rgb(135, 206, 250); fill-opacity: 1;\"/><path class=\"point\" transform=\"translate(497.56,252.32)\" d=\"M2,0A2,2 0 1,1 0,-2A2,2 0 0,1 2,0Z\" style=\"opacity: 1; stroke-width: 0px; fill: rgb(135, 206, 250); fill-opacity: 1;\"/><path class=\"point\" transform=\"translate(497.96,252.96)\" d=\"M2,0A2,2 0 1,1 0,-2A2,2 0 0,1 2,0Z\" style=\"opacity: 1; stroke-width: 0px; fill: rgb(135, 206, 250); fill-opacity: 1;\"/><path class=\"point\" transform=\"translate(498.36,252.71)\" d=\"M2,0A2,2 0 1,1 0,-2A2,2 0 0,1 2,0Z\" style=\"opacity: 1; stroke-width: 0px; fill: rgb(135, 206, 250); fill-opacity: 1;\"/><path class=\"point\" transform=\"translate(498.76,253.22)\" d=\"M2,0A2,2 0 1,1 0,-2A2,2 0 0,1 2,0Z\" style=\"opacity: 1; stroke-width: 0px; fill: rgb(135, 206, 250); fill-opacity: 1;\"/><path class=\"point\" transform=\"translate(499.16,252.91)\" d=\"M2,0A2,2 0 1,1 0,-2A2,2 0 0,1 2,0Z\" style=\"opacity: 1; stroke-width: 0px; fill: rgb(135, 206, 250); fill-opacity: 1;\"/><path class=\"point\" transform=\"translate(499.57,253.3)\" d=\"M2,0A2,2 0 1,1 0,-2A2,2 0 0,1 2,0Z\" style=\"opacity: 1; stroke-width: 0px; fill: rgb(135, 206, 250); fill-opacity: 1;\"/><path class=\"point\" transform=\"translate(499.97,252.46)\" d=\"M2,0A2,2 0 1,1 0,-2A2,2 0 0,1 2,0Z\" style=\"opacity: 1; stroke-width: 0px; fill: rgb(135, 206, 250); fill-opacity: 1;\"/><path class=\"point\" transform=\"translate(500.37,253.38)\" d=\"M2,0A2,2 0 1,1 0,-2A2,2 0 0,1 2,0Z\" style=\"opacity: 1; stroke-width: 0px; fill: rgb(135, 206, 250); fill-opacity: 1;\"/><path class=\"point\" transform=\"translate(500.77,253.11)\" d=\"M2,0A2,2 0 1,1 0,-2A2,2 0 0,1 2,0Z\" style=\"opacity: 1; stroke-width: 0px; fill: rgb(135, 206, 250); fill-opacity: 1;\"/><path class=\"point\" transform=\"translate(501.17,253.3)\" d=\"M2,0A2,2 0 1,1 0,-2A2,2 0 0,1 2,0Z\" style=\"opacity: 1; stroke-width: 0px; fill: rgb(135, 206, 250); fill-opacity: 1;\"/><path class=\"point\" transform=\"translate(501.57,253.13)\" d=\"M2,0A2,2 0 1,1 0,-2A2,2 0 0,1 2,0Z\" style=\"opacity: 1; stroke-width: 0px; fill: rgb(135, 206, 250); fill-opacity: 1;\"/><path class=\"point\" transform=\"translate(501.97,253.03)\" d=\"M2,0A2,2 0 1,1 0,-2A2,2 0 0,1 2,0Z\" style=\"opacity: 1; stroke-width: 0px; fill: rgb(135, 206, 250); fill-opacity: 1;\"/><path class=\"point\" transform=\"translate(502.37,253.43)\" d=\"M2,0A2,2 0 1,1 0,-2A2,2 0 0,1 2,0Z\" style=\"opacity: 1; stroke-width: 0px; fill: rgb(135, 206, 250); fill-opacity: 1;\"/><path class=\"point\" transform=\"translate(502.78,253.48)\" d=\"M2,0A2,2 0 1,1 0,-2A2,2 0 0,1 2,0Z\" style=\"opacity: 1; stroke-width: 0px; fill: rgb(135, 206, 250); fill-opacity: 1;\"/><path class=\"point\" transform=\"translate(503.18,253.32)\" d=\"M2,0A2,2 0 1,1 0,-2A2,2 0 0,1 2,0Z\" style=\"opacity: 1; stroke-width: 0px; fill: rgb(135, 206, 250); fill-opacity: 1;\"/><path class=\"point\" transform=\"translate(503.58,252.52)\" d=\"M2,0A2,2 0 1,1 0,-2A2,2 0 0,1 2,0Z\" style=\"opacity: 1; stroke-width: 0px; fill: rgb(135, 206, 250); fill-opacity: 1;\"/><path class=\"point\" transform=\"translate(503.98,249.49)\" d=\"M2,0A2,2 0 1,1 0,-2A2,2 0 0,1 2,0Z\" style=\"opacity: 1; stroke-width: 0px; fill: rgb(135, 206, 250); fill-opacity: 1;\"/><path class=\"point\" transform=\"translate(504.38,253.3)\" d=\"M2,0A2,2 0 1,1 0,-2A2,2 0 0,1 2,0Z\" style=\"opacity: 1; stroke-width: 0px; fill: rgb(135, 206, 250); fill-opacity: 1;\"/><path class=\"point\" transform=\"translate(504.78,252.72)\" d=\"M2,0A2,2 0 1,1 0,-2A2,2 0 0,1 2,0Z\" style=\"opacity: 1; stroke-width: 0px; fill: rgb(135, 206, 250); fill-opacity: 1;\"/><path class=\"point\" transform=\"translate(505.18,251.86)\" d=\"M2,0A2,2 0 1,1 0,-2A2,2 0 0,1 2,0Z\" style=\"opacity: 1; stroke-width: 0px; fill: rgb(135, 206, 250); fill-opacity: 1;\"/><path class=\"point\" transform=\"translate(505.59,253.39)\" d=\"M2,0A2,2 0 1,1 0,-2A2,2 0 0,1 2,0Z\" style=\"opacity: 1; stroke-width: 0px; fill: rgb(135, 206, 250); fill-opacity: 1;\"/><path class=\"point\" transform=\"translate(505.99,251.06)\" d=\"M2,0A2,2 0 1,1 0,-2A2,2 0 0,1 2,0Z\" style=\"opacity: 1; stroke-width: 0px; fill: rgb(135, 206, 250); fill-opacity: 1;\"/><path class=\"point\" transform=\"translate(506.39,253.39)\" d=\"M2,0A2,2 0 1,1 0,-2A2,2 0 0,1 2,0Z\" style=\"opacity: 1; stroke-width: 0px; fill: rgb(135, 206, 250); fill-opacity: 1;\"/><path class=\"point\" transform=\"translate(506.79,253.49)\" d=\"M2,0A2,2 0 1,1 0,-2A2,2 0 0,1 2,0Z\" style=\"opacity: 1; stroke-width: 0px; fill: rgb(135, 206, 250); fill-opacity: 1;\"/><path class=\"point\" transform=\"translate(507.19,248.49)\" d=\"M2,0A2,2 0 1,1 0,-2A2,2 0 0,1 2,0Z\" style=\"opacity: 1; stroke-width: 0px; fill: rgb(135, 206, 250); fill-opacity: 1;\"/><path class=\"point\" transform=\"translate(507.59,252.14)\" d=\"M2,0A2,2 0 1,1 0,-2A2,2 0 0,1 2,0Z\" style=\"opacity: 1; stroke-width: 0px; fill: rgb(135, 206, 250); fill-opacity: 1;\"/><path class=\"point\" transform=\"translate(507.99,250.88)\" d=\"M2,0A2,2 0 1,1 0,-2A2,2 0 0,1 2,0Z\" style=\"opacity: 1; stroke-width: 0px; fill: rgb(135, 206, 250); fill-opacity: 1;\"/><path class=\"point\" transform=\"translate(508.39,252.48)\" d=\"M2,0A2,2 0 1,1 0,-2A2,2 0 0,1 2,0Z\" style=\"opacity: 1; stroke-width: 0px; fill: rgb(135, 206, 250); fill-opacity: 1;\"/><path class=\"point\" transform=\"translate(508.8,253)\" d=\"M2,0A2,2 0 1,1 0,-2A2,2 0 0,1 2,0Z\" style=\"opacity: 1; stroke-width: 0px; fill: rgb(135, 206, 250); fill-opacity: 1;\"/><path class=\"point\" transform=\"translate(509.2,251.83)\" d=\"M2,0A2,2 0 1,1 0,-2A2,2 0 0,1 2,0Z\" style=\"opacity: 1; stroke-width: 0px; fill: rgb(135, 206, 250); fill-opacity: 1;\"/><path class=\"point\" transform=\"translate(509.6,253.49)\" d=\"M2,0A2,2 0 1,1 0,-2A2,2 0 0,1 2,0Z\" style=\"opacity: 1; stroke-width: 0px; fill: rgb(135, 206, 250); fill-opacity: 1;\"/><path class=\"point\" transform=\"translate(510,221.24)\" d=\"M2,0A2,2 0 1,1 0,-2A2,2 0 0,1 2,0Z\" style=\"opacity: 1; stroke-width: 0px; fill: rgb(135, 206, 250); fill-opacity: 1;\"/></g><g class=\"text\"/></g></g></g><g class=\"overplot\"/><path class=\"xlines-above crisp\" d=\"M0,0\" style=\"fill: none;\"/><path class=\"ylines-above crisp\" d=\"M0,0\" style=\"fill: none;\"/><g class=\"overlines-above\"/><g class=\"xaxislayer-above\"><g class=\"xtick\"><text text-anchor=\"middle\" x=\"0\" y=\"383\" transform=\"translate(110,0)\" style=\"font-family: 'Open Sans', verdana, arial, sans-serif; font-size: 12px; fill: rgb(242, 245, 250); fill-opacity: 1; white-space: pre; opacity: 1;\">0</text></g><g class=\"xtick\"><text text-anchor=\"middle\" x=\"0\" y=\"383\" style=\"font-family: 'Open Sans', verdana, arial, sans-serif; font-size: 12px; fill: rgb(242, 245, 250); fill-opacity: 1; white-space: pre; opacity: 1;\" transform=\"translate(190.26999999999998,0)\">200</text></g><g class=\"xtick\"><text text-anchor=\"middle\" x=\"0\" y=\"383\" style=\"font-family: 'Open Sans', verdana, arial, sans-serif; font-size: 12px; fill: rgb(242, 245, 250); fill-opacity: 1; white-space: pre; opacity: 1;\" transform=\"translate(270.53999999999996,0)\">400</text></g><g class=\"xtick\"><text text-anchor=\"middle\" x=\"0\" y=\"383\" style=\"font-family: 'Open Sans', verdana, arial, sans-serif; font-size: 12px; fill: rgb(242, 245, 250); fill-opacity: 1; white-space: pre; opacity: 1;\" transform=\"translate(350.8,0)\">600</text></g><g class=\"xtick\"><text text-anchor=\"middle\" x=\"0\" y=\"383\" style=\"font-family: 'Open Sans', verdana, arial, sans-serif; font-size: 12px; fill: rgb(242, 245, 250); fill-opacity: 1; white-space: pre; opacity: 1;\" transform=\"translate(431.07,0)\">800</text></g><g class=\"xtick\"><text text-anchor=\"middle\" x=\"0\" y=\"383\" style=\"font-family: 'Open Sans', verdana, arial, sans-serif; font-size: 12px; fill: rgb(242, 245, 250); fill-opacity: 1; white-space: pre; opacity: 1;\" transform=\"translate(511.34,0)\">1000</text></g><g class=\"xtick\"><text text-anchor=\"middle\" x=\"0\" y=\"383\" style=\"font-family: 'Open Sans', verdana, arial, sans-serif; font-size: 12px; fill: rgb(242, 245, 250); fill-opacity: 1; white-space: pre; opacity: 1;\" transform=\"translate(591.61,0)\">1200</text></g></g><g class=\"yaxislayer-above\"><g class=\"ytick\"><text text-anchor=\"end\" x=\"79\" y=\"4.199999999999999\" transform=\"translate(0,353.51)\" style=\"font-family: 'Open Sans', verdana, arial, sans-serif; font-size: 12px; fill: rgb(242, 245, 250); fill-opacity: 1; white-space: pre; opacity: 1;\">0</text></g><g class=\"ytick\"><text text-anchor=\"end\" x=\"79\" y=\"4.199999999999999\" style=\"font-family: 'Open Sans', verdana, arial, sans-serif; font-size: 12px; fill: rgb(242, 245, 250); fill-opacity: 1; white-space: pre; opacity: 1;\" transform=\"translate(0,273.94)\">0.5M</text></g><g class=\"ytick\"><text text-anchor=\"end\" x=\"79\" y=\"4.199999999999999\" style=\"font-family: 'Open Sans', verdana, arial, sans-serif; font-size: 12px; fill: rgb(242, 245, 250); fill-opacity: 1; white-space: pre; opacity: 1;\" transform=\"translate(0,194.37)\">1M</text></g><g class=\"ytick\"><text text-anchor=\"end\" x=\"79\" y=\"4.199999999999999\" style=\"font-family: 'Open Sans', verdana, arial, sans-serif; font-size: 12px; fill: rgb(242, 245, 250); fill-opacity: 1; white-space: pre; opacity: 1;\" transform=\"translate(0,114.8)\">1.5M</text></g></g><g class=\"overaxes-above\"/></g></g><g class=\"polarlayer\"/><g class=\"smithlayer\"/><g class=\"ternarylayer\"/><g class=\"geolayer\"/><g class=\"funnelarealayer\"/><g class=\"pielayer\"/><g class=\"iciclelayer\"/><g class=\"treemaplayer\"/><g class=\"sunburstlayer\"/><g class=\"glimages\"/><defs id=\"topdefs-5b5d67\"><g class=\"clips\"/></defs><g class=\"layer-above\"><g class=\"imagelayer\"/><g class=\"shapelayer\"/></g><g class=\"infolayer\"><g class=\"g-gtitle\"><text class=\"gtitle\" x=\"35\" y=\"50\" text-anchor=\"start\" dy=\"0em\" style=\"font-family: 'Open Sans', verdana, arial, sans-serif; font-size: 17px; fill: rgb(242, 245, 250); opacity: 1; font-weight: normal; white-space: pre;\">Стоимости заказов</text></g><g class=\"g-xtitle\"><text class=\"xtitle\" x=\"350\" y=\"410.8\" text-anchor=\"middle\" style=\"font-family: 'Open Sans', verdana, arial, sans-serif; font-size: 14px; fill: rgb(242, 245, 250); opacity: 1; font-weight: normal; white-space: pre;\">Порядковый номер заказа</text></g><g class=\"g-ytitle\"><text class=\"ytitle\" transform=\"rotate(-90,24.450000000000003,235)\" x=\"24.450000000000003\" y=\"235\" text-anchor=\"middle\" style=\"font-family: 'Open Sans', verdana, arial, sans-serif; font-size: 14px; fill: rgb(242, 245, 250); opacity: 1; font-weight: normal; white-space: pre;\">Стоимость заказа</text></g><g class=\"annotation\" data-index=\"0\" style=\"opacity: 1;\"><g class=\"annotation-text-g\" transform=\"rotate(0,270.57,109.5)\"><g class=\"cursor-pointer\" transform=\"translate(213,100)\"><rect class=\"bg\" x=\"0.5\" y=\"0.5\" width=\"114\" height=\"18\" style=\"stroke-width: 1px; stroke: rgb(0, 0, 0); stroke-opacity: 0; fill: rgb(0, 0, 0); fill-opacity: 0;\"/><text class=\"annotation-text\" text-anchor=\"middle\" x=\"57.1875\" y=\"14\" style=\"font-family: 'Open Sans', verdana, arial, sans-serif; font-size: 12px; fill: rgb(242, 245, 250); fill-opacity: 1; white-space: pre;\">Парни, почему я?</text></g></g><g class=\"annotation-arrow-g\" style=\"opacity: 1;\"><path d=\"M273.57,118.5L280.57,139.5\" style=\"stroke-width: 1px; stroke: rgb(242, 245, 250); stroke-opacity: 1; stroke-dasharray: 0px, 0px, 22.1359px, 22.1359px;\"/></g></g></g></svg>"
      ]
     },
     "metadata": {},
     "output_type": "display_data"
    }
   ],
   "source": [
    "fig = go.Figure()\n",
    "\n",
    "fig.add_trace(go.Scatter(x=list(range(0, orders.shape[0])),\n",
    "                         y=orders['revenue'],\n",
    "                         mode='markers',\n",
    "                         marker=dict(color='LightSkyBlue', size=4)))\n",
    "\n",
    "fig.update_layout(\n",
    "\n",
    "    title='Стоимости заказов',\n",
    "    template='plotly_dark',\n",
    "    xaxis_title='Порядковый номер заказа',\n",
    "    yaxis_title='Стоимость заказа',\n",
    "    height=450\n",
    "    \n",
    ")\n",
    "\n",
    "fig.add_annotation(x=425, y=orders['revenue'].max(),\n",
    "            text=\"Парни, почему я?\",\n",
    "            showarrow=True,\n",
    "            yshift=8)\n",
    "\n",
    "fig.show(\"svg\")"
   ]
  },
  {
   "cell_type": "markdown",
   "metadata": {},
   "source": [
    "**Сразу видим один очень аномальный заказ под номером 425.** Из-за него масштаб графика становится неудобным для визуального рассмотрения. Приблизим график и увидим, что **стоимость основной массы находится до отметки в 50 тысяч.**\n",
    "\n",
    "**Найдем 95-й и 99-й перцентили стоимости заказов**, чтобы точно выберать границу для определения аномальных заказов."
   ]
  },
  {
   "cell_type": "code",
   "execution_count": 45,
   "metadata": {},
   "outputs": [
    {
     "name": "stdout",
     "output_type": "stream",
     "text": [
      "95-й перцентиль: 28000 у.е.\n",
      "99-й перцентиль: 58233 у.е.\n"
     ]
    }
   ],
   "source": [
    "print('95-й перцентиль: {:.0f} у.е.'.format(np.percentile(orders['revenue'], 95)))\n",
    "print('99-й перцентиль: {:.0f} у.е.'.format(np.percentile(orders['revenue'], 99)))"
   ]
  },
  {
   "cell_type": "markdown",
   "metadata": {},
   "source": [
    "В общем-то так примерно и оказалось: лишь 1% заказов превышает стоимость в 58233 у.е."
   ]
  },
  {
   "cell_type": "markdown",
   "metadata": {},
   "source": [
    "### Статистическая значимость различий по сырым данным"
   ]
  },
  {
   "cell_type": "markdown",
   "metadata": {},
   "source": [
    "#### Конверсия"
   ]
  },
  {
   "cell_type": "markdown",
   "metadata": {},
   "source": [
    "- H0: Значимых различий в конверсии нет\n",
    "- H1: Конверсия значимо различается\n",
    "- Уровень значимости - 0.05"
   ]
  },
  {
   "cell_type": "markdown",
   "metadata": {},
   "source": [
    "**Проверим значимость различий двумя способами:** \n",
    "- Критерием Манна-Уитни\n",
    "- t-тестом"
   ]
  },
  {
   "cell_type": "code",
   "execution_count": 46,
   "metadata": {},
   "outputs": [
    {
     "name": "stdout",
     "output_type": "stream",
     "text": [
      "Критерий Манна-Уитни. P-value: 0.08587\n",
      "t-test. P-value: 0.09229\n"
     ]
    }
   ],
   "source": [
    "print('Критерий Манна-Уитни. P-value: {:.5f}'.format(st.mannwhitneyu(ordersByDateA['orders'] / visitorsA['visitorsA']\n",
    "                                                                      ,ordersByDateB['orders'] / visitorsB['visitorsB'])[1]))\n",
    "print('t-test. P-value: {:.5f}'.format(st.ttest_ind(ordersByDateA['orders'] / visitorsA['visitorsA']\n",
    "                                                                      ,ordersByDateB['orders'] / visitorsB['visitorsB']).pvalue))"
   ]
  },
  {
   "cell_type": "code",
   "execution_count": 47,
   "metadata": {},
   "outputs": [
    {
     "name": "stdout",
     "output_type": "stream",
     "text": [
      "Конверсия в группе A: 3.07%\n",
      "Конверсия в группе B: 3.53%\n"
     ]
    }
   ],
   "source": [
    "print('Конверсия в группе A: {:.2%}'.format((ordersByDateA['orders'] / visitorsA['visitorsA']).mean()))\n",
    "print('Конверсия в группе B: {:.2%}'.format((ordersByDateB['orders'] / visitorsB['visitorsB']).mean()))"
   ]
  },
  {
   "cell_type": "markdown",
   "metadata": {},
   "source": [
    "**Вывод** \n",
    "\n",
    "1. Проверили разницу двух критериев оценки статистической значимости.  \n",
    "2. На одном и том же уровне значимости оба критерия предлагают отклонять гипотезу.\n",
    "3. Конверсия групп по \"сырым\" данным различается незначимо."
   ]
  },
  {
   "cell_type": "markdown",
   "metadata": {},
   "source": [
    "#### Средний чек"
   ]
  },
  {
   "cell_type": "markdown",
   "metadata": {},
   "source": [
    "- H0: Значимых различий в среднем чеке группы А и группы B нет\n",
    "- H1: Средний чек значимо различается\n",
    "- Уровень значимости - 0.05"
   ]
  },
  {
   "cell_type": "markdown",
   "metadata": {},
   "source": [
    "**Проверим значимость различий двумя способами:** \n",
    "- Критерием Манна-Уитни\n",
    "- t-тестом"
   ]
  },
  {
   "cell_type": "code",
   "execution_count": 48,
   "metadata": {},
   "outputs": [
    {
     "name": "stdout",
     "output_type": "stream",
     "text": [
      "Критерий Манна-Уитни. P-value: 0.40618\n",
      "t-test. P-value: 0.39347\n"
     ]
    }
   ],
   "source": [
    "print('Критерий Манна-Уитни. P-value: {:.5f}'.format(st.mannwhitneyu(revenueByDateA['revenue'] / ordersByDateA['orders'],\n",
    "                                                                     revenueByDateB['revenue'] / ordersByDateB['orders'])[1]))\n",
    "print('t-test. P-value: {:.5f}'.format(st.ttest_ind(revenueByDateA['revenue'] / ordersByDateA['orders'],\n",
    "                                                    revenueByDateB['revenue'] / ordersByDateB['orders']).pvalue))"
   ]
  },
  {
   "cell_type": "code",
   "execution_count": 49,
   "metadata": {},
   "outputs": [
    {
     "name": "stdout",
     "output_type": "stream",
     "text": [
      "Средний чек в группе A: 7373.29\n",
      "Средний чек в группе B: 9175.60\n"
     ]
    }
   ],
   "source": [
    "print('Средний чек в группе A: {:.2f}'.format((revenueByDateA['revenue'] / ordersByDateA['orders']).mean()))\n",
    "print('Средний чек в группе B: {:.2f}'.format((revenueByDateB['revenue'] / ordersByDateB['orders']).mean()))"
   ]
  },
  {
   "cell_type": "markdown",
   "metadata": {},
   "source": [
    "**Вывод:** \n",
    "1. Оба критерия говорят о том, что нулевую гипотезу нужно принять. Средний чек по \"сырым\" данным значимо не различается.\n",
    "2. Это интересно - по графикам казалось иначе, да и средние значения тоже показывают большое различие.  "
   ]
  },
  {
   "cell_type": "markdown",
   "metadata": {},
   "source": [
    "### Статистическая значимость различий по очищенным данным"
   ]
  },
  {
   "cell_type": "markdown",
   "metadata": {},
   "source": [
    "Напомним 95 и 99 перцентили для стоимости заказа и количества заказов на пользователя\n",
    "\n",
    "Стоимость заказа:\n",
    "- 95-й перцентиль: 28000 у.е.\n",
    "- 99-й перцентиль: 58233 у.е.\n",
    "\n",
    "Количество заказов на 1 пользователя:\n",
    "- 95-й перцентиль: 2 заказа\n",
    "- 99-й перцентиль: 4 заказа"
   ]
  },
  {
   "cell_type": "markdown",
   "metadata": {},
   "source": [
    "**Предлагаю для нашей задачи считать аномальными:** \n",
    "- пользователей, которые делают больше 3 заказов\n",
    "- заказы, стоимость которых выше 58233 у.е.\n",
    "\n",
    "*Предлагаю убрать именно сами заказы, а не пользователей, которые их делают, ведь эти же пользователи могли сделать и другие заказы, укладывающиеся в средние значения.*"
   ]
  },
  {
   "cell_type": "markdown",
   "metadata": {},
   "source": [
    "#### Очистим данные от аномалий"
   ]
  },
  {
   "cell_type": "code",
   "execution_count": 50,
   "metadata": {},
   "outputs": [],
   "source": [
    "#сделаем таблицу, в которой не будет аномальных заказов\n",
    "ordersClear = orders.query('revenue <= 58233')"
   ]
  },
  {
   "cell_type": "code",
   "execution_count": 51,
   "metadata": {},
   "outputs": [],
   "source": [
    "#найдем id пользователей, которые делают аномально много заказов и вытащим их в отдельный сериес\n",
    "abnormalVisitorsId = ordersPerVisitor.query('orders >= 3')['visitorId']"
   ]
  },
  {
   "cell_type": "code",
   "execution_count": 52,
   "metadata": {},
   "outputs": [],
   "source": [
    "#уберем из таблицы заказы пользователей из аномального списка\n",
    "ordersClear = ordersClear.query('visitorId not in @abnormalVisitorsId')"
   ]
  },
  {
   "cell_type": "markdown",
   "metadata": {},
   "source": [
    "#### Посчитаем выручку и количество заказов по очищенным данным"
   ]
  },
  {
   "cell_type": "code",
   "execution_count": 53,
   "metadata": {},
   "outputs": [],
   "source": [
    "#выручка\n",
    "clearRevenueByDateA = ordersClear.query('group ==\"A\"')\\\n",
    "    .groupby('date', as_index=False)\\\n",
    "    .agg({'revenue':'sum'})\\\n",
    "\n",
    "clearRevenueByDateB = ordersClear.query('group ==\"B\"')\\\n",
    "    .groupby('date', as_index=False)\\\n",
    "    .agg({'revenue':'sum'})"
   ]
  },
  {
   "cell_type": "code",
   "execution_count": 54,
   "metadata": {},
   "outputs": [],
   "source": [
    "#количество заказов\n",
    "clearOrdersByDateA = ordersClear.query('group ==\"A\"')\\\n",
    "    .groupby('date', as_index=False)\\\n",
    "    .agg({'revenue':'count'})\\\n",
    "    .rename(columns={'revenue':'orders'})\n",
    "\n",
    "clearOrdersByDateB = ordersClear.query('group ==\"B\"')\\\n",
    "    .groupby('date', as_index=False)\\\n",
    "    .agg({'revenue':'count'})\\\n",
    "    .rename(columns={'revenue':'orders'})"
   ]
  },
  {
   "cell_type": "markdown",
   "metadata": {},
   "source": [
    "#### Проверяем статистическую значимость"
   ]
  },
  {
   "cell_type": "markdown",
   "metadata": {},
   "source": [
    "**Конверсия**"
   ]
  },
  {
   "cell_type": "markdown",
   "metadata": {},
   "source": [
    "- H0: Значимых различий в конверсии нет\n",
    "- H1: Конверсия значимо различается\n",
    "- Уровень значимости - 0.05"
   ]
  },
  {
   "cell_type": "code",
   "execution_count": 55,
   "metadata": {},
   "outputs": [
    {
     "name": "stdout",
     "output_type": "stream",
     "text": [
      "Критерий Манна-Уитни. P-value: 0.03124\n",
      "t-test. P-value: 0.94093\n"
     ]
    }
   ],
   "source": [
    "print('Критерий Манна-Уитни. P-value: {:.5f}'.format(st.mannwhitneyu(clearOrdersByDateA['orders'] / visitorsA['visitorsA'],\n",
    "                                                                     clearOrdersByDateB['orders'] / visitorsB['visitorsB'])[1]))\n",
    "print('t-test. P-value: {:.5f}'.format(st.ttest_ind(clearOrdersByDateA['orders'] / visitorsA['visitorsA'],\n",
    "                                                    clearOrdersByDateA['orders'] / visitorsB['visitorsB']).pvalue))"
   ]
  },
  {
   "cell_type": "code",
   "execution_count": 56,
   "metadata": {},
   "outputs": [
    {
     "name": "stdout",
     "output_type": "stream",
     "text": [
      "Общая конверсия A: 2.57%\n",
      "Общая конверсия B: 3.02%\n"
     ]
    }
   ],
   "source": [
    "print('Общая конверсия A: {:.2%}'.format(clearOrdersByDateA['orders'].sum() / visitorsA['visitorsA'].sum()))\n",
    "print('Общая конверсия B: {:.2%}'.format(clearOrdersByDateB['orders'].sum() / visitorsB['visitorsB'].sum()))"
   ]
  },
  {
   "cell_type": "markdown",
   "metadata": {},
   "source": [
    "**Выводы:**\n",
    "- Очень интересно, как различаются p-значения по двум тестам\n",
    "- Доверять будем критерию Манна-Уитни\n",
    "- После очищения данных, p-value по Манна-Уитни показывает значимые различия"
   ]
  },
  {
   "cell_type": "markdown",
   "metadata": {},
   "source": [
    "**Средний чек**"
   ]
  },
  {
   "cell_type": "markdown",
   "metadata": {},
   "source": [
    "- H0: Значимых различий в среднем чеке нет\n",
    "- H1: Средний чек значимо различается\n",
    "- Уровень значимости - 0.05"
   ]
  },
  {
   "cell_type": "code",
   "execution_count": 57,
   "metadata": {},
   "outputs": [
    {
     "name": "stdout",
     "output_type": "stream",
     "text": [
      "Критерий Манна-Уитни. P-value: 1.00000\n",
      "t-test. P-value: 0.74204\n"
     ]
    }
   ],
   "source": [
    "print('Критерий Манна-Уитни. P-value: {:.5f}'.format(st.mannwhitneyu(clearRevenueByDateA['revenue'] / clearOrdersByDateA['orders'],\n",
    "                                                                     clearRevenueByDateB['revenue'] / clearOrdersByDateB['orders'])[1]))\n",
    "print('t-test. P-value: {:.5f}'.format(st.ttest_ind(clearRevenueByDateA['revenue'] / clearOrdersByDateA['orders'],\n",
    "                                                    clearRevenueByDateB['revenue'] / clearOrdersByDateB['orders']).pvalue))"
   ]
  },
  {
   "cell_type": "code",
   "execution_count": 58,
   "metadata": {},
   "outputs": [
    {
     "name": "stdout",
     "output_type": "stream",
     "text": [
      "Срдений чек A: 6477.88\n",
      "Средний чек B: 6316.95\n"
     ]
    }
   ],
   "source": [
    "print('Срдений чек A: {:.2f}'.format(clearRevenueByDateA['revenue'].sum() / clearOrdersByDateA['orders'].sum()))\n",
    "print('Средний чек B: {:.2f}'.format(clearRevenueByDateB['revenue'].sum() / clearOrdersByDateB['orders'].sum()))"
   ]
  },
  {
   "cell_type": "markdown",
   "metadata": {},
   "source": [
    "**Посмотрим графики, чтобы проверить это визуально**"
   ]
  },
  {
   "cell_type": "code",
   "execution_count": 59,
   "metadata": {},
   "outputs": [
    {
     "data": {
      "image/svg+xml": [
       "<svg class=\"main-svg\" xmlns=\"http://www.w3.org/2000/svg\" xmlns:xlink=\"http://www.w3.org/1999/xlink\" width=\"700\" height=\"450\" style=\"\" viewBox=\"0 0 700 450\"><rect x=\"0\" y=\"0\" width=\"700\" height=\"450\" style=\"fill: rgb(17, 17, 17); fill-opacity: 1;\"/><defs id=\"defs-a7c322\"><g class=\"clips\"><clipPath id=\"clipa7c322xyplot\" class=\"plotclip\"><rect width=\"461\" height=\"270\"/></clipPath><clipPath class=\"axesclip\" id=\"clipa7c322x\"><rect x=\"80\" y=\"0\" width=\"461\" height=\"450\"/></clipPath><clipPath class=\"axesclip\" id=\"clipa7c322y\"><rect x=\"0\" y=\"100\" width=\"700\" height=\"270\"/></clipPath><clipPath class=\"axesclip\" id=\"clipa7c322xy\"><rect x=\"80\" y=\"100\" width=\"461\" height=\"270\"/></clipPath></g><g class=\"gradients\"/><g class=\"patterns\"/></defs><g class=\"bglayer\"/><g class=\"layer-below\"><g class=\"imagelayer\"/><g class=\"shapelayer\"/></g><g class=\"cartesianlayer\"><g class=\"subplot xy\"><g class=\"layer-subplot\"><g class=\"shapelayer\"/><g class=\"imagelayer\"/></g><g class=\"gridlayer\"><g class=\"x\"><path class=\"xgrid crisp\" transform=\"translate(126.1,0)\" d=\"M0,100v270\" style=\"stroke: rgb(40, 52, 66); stroke-opacity: 1; stroke-width: 1px;\"/><path class=\"xgrid crisp\" transform=\"translate(233.67,0)\" d=\"M0,100v270\" style=\"stroke: rgb(40, 52, 66); stroke-opacity: 1; stroke-width: 1px;\"/><path class=\"xgrid crisp\" transform=\"translate(341.23,0)\" d=\"M0,100v270\" style=\"stroke: rgb(40, 52, 66); stroke-opacity: 1; stroke-width: 1px;\"/><path class=\"xgrid crisp\" transform=\"translate(448.8,0)\" d=\"M0,100v270\" style=\"stroke: rgb(40, 52, 66); stroke-opacity: 1; stroke-width: 1px;\"/></g><g class=\"y\"><path class=\"ygrid crisp\" transform=\"translate(0,323.22)\" d=\"M80,0h461\" style=\"stroke: rgb(40, 52, 66); stroke-opacity: 1; stroke-width: 1px;\"/><path class=\"ygrid crisp\" transform=\"translate(0,267.12)\" d=\"M80,0h461\" style=\"stroke: rgb(40, 52, 66); stroke-opacity: 1; stroke-width: 1px;\"/><path class=\"ygrid crisp\" transform=\"translate(0,211.03)\" d=\"M80,0h461\" style=\"stroke: rgb(40, 52, 66); stroke-opacity: 1; stroke-width: 1px;\"/><path class=\"ygrid crisp\" transform=\"translate(0,154.93)\" d=\"M80,0h461\" style=\"stroke: rgb(40, 52, 66); stroke-opacity: 1; stroke-width: 1px;\"/></g></g><g class=\"zerolinelayer\"/><path class=\"xlines-below\"/><path class=\"ylines-below\"/><g class=\"overlines-below\"/><g class=\"xaxislayer-below\"/><g class=\"yaxislayer-below\"/><g class=\"overaxes-below\"/><g class=\"plot\" transform=\"translate(80,100)\" clip-path=\"url(#clipa7c322xyplot)\"><g class=\"scatterlayer mlayer\"><g class=\"trace scatter trace8e95fc\" style=\"stroke-miterlimit: 2; opacity: 1;\"><g class=\"fills\"/><g class=\"errorbars\"/><g class=\"lines\"><path class=\"js-line\" d=\"M0,209.3L15.37,224.91L30.73,226.74L46.1,237.32L61.47,228.02L76.83,243.04L92.2,196.8L107.57,205.6L122.93,196.17L138.3,165.42L153.67,217.44L169.03,221.11L184.4,131.66L199.77,249.1L215.13,196.42L230.5,217.08L245.87,206.34L261.23,231.54L276.6,189.46L291.97,213.48L307.33,217.21L322.7,175.69L338.07,230.92L353.43,179.01L368.8,214.35L384.17,169.08L399.53,188.9L414.9,209.25L430.27,138.43L445.63,227.82L461,216.38\" style=\"vector-effect: non-scaling-stroke; fill: none; stroke: rgb(99, 110, 250); stroke-opacity: 1; stroke-width: 2px; opacity: 1;\"/></g><g class=\"points\"/><g class=\"text\"/></g><g class=\"trace scatter trace3b065f\" style=\"stroke-miterlimit: 2; opacity: 1;\"><g class=\"fills\"/><g class=\"errorbars\"/><g class=\"lines\"><path class=\"js-line\" d=\"M0,230.54L15.37,183.63L30.73,247.97L46.1,171.93L61.47,237.24L76.83,89.93L92.2,134.68L107.57,205.92L122.93,163.57L138.3,200.66L153.67,224.94L169.03,214.06L184.4,176.04L199.77,213.5L215.13,161.84L230.5,208.1L245.87,149.24L261.23,243.11L276.6,206.97L291.97,114.08L307.33,208.99L322.7,125.02L338.07,224.87L353.43,203.17L368.8,168.17L384.17,155.96L399.53,256.5L414.9,236.4L430.27,196.62L445.63,13.5L461,132.03\" style=\"vector-effect: non-scaling-stroke; fill: none; stroke: rgb(239, 85, 59); stroke-opacity: 1; stroke-width: 2px; opacity: 1;\"/></g><g class=\"points\"/><g class=\"text\"/></g></g></g><g class=\"overplot\"/><path class=\"xlines-above crisp\" d=\"M0,0\" style=\"fill: none;\"/><path class=\"ylines-above crisp\" d=\"M0,0\" style=\"fill: none;\"/><g class=\"overlines-above\"/><g class=\"xaxislayer-above\"><g class=\"xtick\"><text text-anchor=\"middle\" x=\"0\" y=\"383\" transform=\"translate(126.1,0)\" style=\"font-family: 'Open Sans', verdana, arial, sans-serif; font-size: 12px; fill: rgb(242, 245, 250); fill-opacity: 1; white-space: pre; opacity: 1;\"><tspan class=\"line\" dy=\"0em\" x=\"0\" y=\"383\">Aug 4</tspan><tspan class=\"line\" dy=\"1.3em\" x=\"0\" y=\"383\">2019</tspan></text></g><g class=\"xtick\"><text text-anchor=\"middle\" x=\"0\" y=\"383\" style=\"font-family: 'Open Sans', verdana, arial, sans-serif; font-size: 12px; fill: rgb(242, 245, 250); fill-opacity: 1; white-space: pre; opacity: 1;\" transform=\"translate(233.67,0)\">Aug 11</text></g><g class=\"xtick\"><text text-anchor=\"middle\" x=\"0\" y=\"383\" style=\"font-family: 'Open Sans', verdana, arial, sans-serif; font-size: 12px; fill: rgb(242, 245, 250); fill-opacity: 1; white-space: pre; opacity: 1;\" transform=\"translate(341.23,0)\">Aug 18</text></g><g class=\"xtick\"><text text-anchor=\"middle\" x=\"0\" y=\"383\" style=\"font-family: 'Open Sans', verdana, arial, sans-serif; font-size: 12px; fill: rgb(242, 245, 250); fill-opacity: 1; white-space: pre; opacity: 1;\" transform=\"translate(448.8,0)\">Aug 25</text></g></g><g class=\"yaxislayer-above\"><g class=\"ytick\"><text text-anchor=\"end\" x=\"79\" y=\"4.199999999999999\" transform=\"translate(0,323.22)\" style=\"font-family: 'Open Sans', verdana, arial, sans-serif; font-size: 12px; fill: rgb(242, 245, 250); fill-opacity: 1; white-space: pre; opacity: 1;\">5k</text></g><g class=\"ytick\"><text text-anchor=\"end\" x=\"79\" y=\"4.199999999999999\" style=\"font-family: 'Open Sans', verdana, arial, sans-serif; font-size: 12px; fill: rgb(242, 245, 250); fill-opacity: 1; white-space: pre; opacity: 1;\" transform=\"translate(0,267.12)\">10k</text></g><g class=\"ytick\"><text text-anchor=\"end\" x=\"79\" y=\"4.199999999999999\" style=\"font-family: 'Open Sans', verdana, arial, sans-serif; font-size: 12px; fill: rgb(242, 245, 250); fill-opacity: 1; white-space: pre; opacity: 1;\" transform=\"translate(0,211.03)\">15k</text></g><g class=\"ytick\"><text text-anchor=\"end\" x=\"79\" y=\"4.199999999999999\" style=\"font-family: 'Open Sans', verdana, arial, sans-serif; font-size: 12px; fill: rgb(242, 245, 250); fill-opacity: 1; white-space: pre; opacity: 1;\" transform=\"translate(0,154.93)\">20k</text></g></g><g class=\"overaxes-above\"/></g></g><g class=\"polarlayer\"/><g class=\"smithlayer\"/><g class=\"ternarylayer\"/><g class=\"geolayer\"/><g class=\"funnelarealayer\"/><g class=\"pielayer\"/><g class=\"iciclelayer\"/><g class=\"treemaplayer\"/><g class=\"sunburstlayer\"/><g class=\"glimages\"/><defs id=\"topdefs-a7c322\"><g class=\"clips\"/><clipPath id=\"legenda7c322\"><rect width=\"138\" height=\"48\" x=\"0\" y=\"0\"/></clipPath></defs><g class=\"layer-above\"><g class=\"imagelayer\"/><g class=\"shapelayer\"/></g><g class=\"infolayer\"><g class=\"legend\" pointer-events=\"all\" transform=\"translate(550.22,100)\"><rect class=\"bg\" shape-rendering=\"crispEdges\" style=\"stroke: rgb(68, 68, 68); stroke-opacity: 1; fill: rgb(17, 17, 17); fill-opacity: 1; stroke-width: 0px;\" width=\"138\" height=\"48\" x=\"0\" y=\"0\"/><g class=\"scrollbox\" transform=\"\" clip-path=\"url(#legenda7c322)\"><g class=\"groups\"><g class=\"traces\" transform=\"translate(0,14.5)\" style=\"opacity: 1;\"><text class=\"legendtext\" text-anchor=\"start\" x=\"40\" y=\"4.680000000000001\" style=\"font-family: 'Open Sans', verdana, arial, sans-serif; font-size: 12px; fill: rgb(242, 245, 250); fill-opacity: 1; white-space: pre;\">Средний чек А</text><g class=\"layers\" style=\"opacity: 1;\"><g class=\"legendfill\"/><g class=\"legendlines\"><path class=\"js-line\" d=\"M5,0h30\" style=\"fill: none; stroke: rgb(99, 110, 250); stroke-opacity: 1; stroke-width: 2px;\"/></g><g class=\"legendsymbols\"><g class=\"legendpoints\"/></g></g><rect class=\"legendtoggle\" x=\"0\" y=\"-9.5\" width=\"132.4375\" height=\"19\" style=\"fill: rgb(0, 0, 0); fill-opacity: 0;\"/></g><g class=\"traces\" transform=\"translate(0,33.5)\" style=\"opacity: 1;\"><text class=\"legendtext\" text-anchor=\"start\" x=\"40\" y=\"4.680000000000001\" style=\"font-family: 'Open Sans', verdana, arial, sans-serif; font-size: 12px; fill: rgb(242, 245, 250); fill-opacity: 1; white-space: pre;\">Средний чек B</text><g class=\"layers\" style=\"opacity: 1;\"><g class=\"legendfill\"/><g class=\"legendlines\"><path class=\"js-line\" d=\"M5,0h30\" style=\"fill: none; stroke: rgb(239, 85, 59); stroke-opacity: 1; stroke-width: 2px;\"/></g><g class=\"legendsymbols\"><g class=\"legendpoints\"/></g></g><rect class=\"legendtoggle\" x=\"0\" y=\"-9.5\" width=\"132.4375\" height=\"19\" style=\"fill: rgb(0, 0, 0); fill-opacity: 0;\"/></g></g></g><rect class=\"scrollbar\" rx=\"20\" ry=\"3\" width=\"0\" height=\"0\" style=\"fill: rgb(128, 139, 164); fill-opacity: 1;\" x=\"0\" y=\"0\"/></g><g class=\"g-gtitle\"><text class=\"gtitle\" x=\"35\" y=\"50\" text-anchor=\"start\" dy=\"0em\" style=\"font-family: 'Open Sans', verdana, arial, sans-serif; font-size: 17px; fill: rgb(242, 245, 250); opacity: 1; font-weight: normal; white-space: pre;\">Изменение среднего чека по очищенным данным</text></g><g class=\"g-xtitle\"><text class=\"xtitle\" x=\"310.5\" y=\"426.409375\" text-anchor=\"middle\" style=\"font-family: 'Open Sans', verdana, arial, sans-serif; font-size: 14px; fill: rgb(242, 245, 250); opacity: 1; font-weight: normal; white-space: pre;\">Дата</text></g><g class=\"g-ytitle\"><text class=\"ytitle\" transform=\"rotate(-90,31.840625000000003,235)\" x=\"31.840625000000003\" y=\"235\" text-anchor=\"middle\" style=\"font-family: 'Open Sans', verdana, arial, sans-serif; font-size: 14px; fill: rgb(242, 245, 250); opacity: 1; font-weight: normal; white-space: pre;\">Средний чек (у.е)</text></g></g></svg>"
      ]
     },
     "metadata": {},
     "output_type": "display_data"
    }
   ],
   "source": [
    "fig = go.Figure()\n",
    "\n",
    "fig.add_trace(go.Scatter(x=clearRevenueByDateA['date'],\n",
    "                         y=clearRevenueByDateA['revenue'] / clearOrdersByDateA['orders'],\n",
    "                         name=\"Средний чек А\"))\n",
    "\n",
    "fig.add_trace(go.Scatter(x=clearRevenueByDateB['date'],\n",
    "                         y=clearRevenueByDateB['revenue'] / clearOrdersByDateA['orders'],\n",
    "                         name=\"Средний чек B\"))\n",
    "\n",
    "fig.update_layout(\n",
    "\n",
    "    title='Изменение среднего чека по очищенным данным',\n",
    "    template='plotly_dark',\n",
    "    xaxis_title='Дата',\n",
    "    yaxis_title='Средний чек (у.е)',\n",
    "    height=450\n",
    "    \n",
    ")\n",
    "\n",
    "fig.update_yaxes(zeroline=True, zerolinewidth=2, zerolinecolor='LightPink')\n",
    "\n",
    "fig.show(\"svg\")"
   ]
  },
  {
   "cell_type": "code",
   "execution_count": 61,
   "metadata": {},
   "outputs": [
    {
     "data": {
      "application/vnd.plotly.v1+json": {
       "config": {
        "plotlyServerURL": "https://plot.ly"
       },
       "data": [
        {
         "name": "Средний чек А",
         "type": "scatter",
         "x": [
          "2019-08-01T00:00:00",
          "2019-08-02T00:00:00",
          "2019-08-03T00:00:00",
          "2019-08-04T00:00:00",
          "2019-08-05T00:00:00",
          "2019-08-06T00:00:00",
          "2019-08-07T00:00:00",
          "2019-08-08T00:00:00",
          "2019-08-09T00:00:00",
          "2019-08-10T00:00:00",
          "2019-08-11T00:00:00",
          "2019-08-12T00:00:00",
          "2019-08-13T00:00:00",
          "2019-08-14T00:00:00",
          "2019-08-15T00:00:00",
          "2019-08-16T00:00:00",
          "2019-08-17T00:00:00",
          "2019-08-18T00:00:00",
          "2019-08-19T00:00:00",
          "2019-08-20T00:00:00",
          "2019-08-21T00:00:00",
          "2019-08-22T00:00:00",
          "2019-08-23T00:00:00",
          "2019-08-24T00:00:00",
          "2019-08-25T00:00:00",
          "2019-08-26T00:00:00",
          "2019-08-27T00:00:00",
          "2019-08-28T00:00:00",
          "2019-08-29T00:00:00",
          "2019-08-30T00:00:00",
          "2019-08-31T00:00:00"
         ],
         "y": [
          6241.111111111111,
          5526.27027027027,
          5195.819672131148,
          4973.902777777777,
          4873.375,
          4677.779816513761,
          5039.015873015873,
          5192.178571428572,
          5340.073333333334,
          5777.490909090909,
          5761.085227272727,
          5707.90206185567,
          6175.946859903382,
          5841.362445414848,
          5912.2875,
          5886.821705426357,
          5903.135849056604,
          5804.00354609929,
          5956.838283828383,
          5953.996805111821,
          5928.858858858859,
          6025.291545189504,
          5917.74043715847,
          6029.094736842106,
          6024.1752577319585,
          6174.737623762377,
          6276.215456674473,
          6275.092550790067,
          6533.454545454545,
          6496.3184713375795,
          6477.877338877339
         ]
        },
        {
         "name": "Средний чек B",
         "type": "scatter",
         "x": [
          "2019-08-01T00:00:00",
          "2019-08-02T00:00:00",
          "2019-08-03T00:00:00",
          "2019-08-04T00:00:00",
          "2019-08-05T00:00:00",
          "2019-08-06T00:00:00",
          "2019-08-07T00:00:00",
          "2019-08-08T00:00:00",
          "2019-08-09T00:00:00",
          "2019-08-10T00:00:00",
          "2019-08-11T00:00:00",
          "2019-08-12T00:00:00",
          "2019-08-13T00:00:00",
          "2019-08-14T00:00:00",
          "2019-08-15T00:00:00",
          "2019-08-16T00:00:00",
          "2019-08-17T00:00:00",
          "2019-08-18T00:00:00",
          "2019-08-19T00:00:00",
          "2019-08-20T00:00:00",
          "2019-08-21T00:00:00",
          "2019-08-22T00:00:00",
          "2019-08-23T00:00:00",
          "2019-08-24T00:00:00",
          "2019-08-25T00:00:00",
          "2019-08-26T00:00:00",
          "2019-08-27T00:00:00",
          "2019-08-28T00:00:00",
          "2019-08-29T00:00:00",
          "2019-08-30T00:00:00",
          "2019-08-31T00:00:00"
         ],
         "y": [
          4347.666666666667,
          6494.621621621622,
          5038.524590163935,
          5731.125,
          5235.927083333333,
          6624.688073394495,
          7470.277777777777,
          7377.471428571429,
          7573.413333333333,
          7522.266666666666,
          7355.022727272727,
          7212.257731958763,
          7337.434782608696,
          7196.131004366812,
          7346.233333333334,
          7276.573643410853,
          7390.607547169811,
          7139.617021276596,
          7091.722772277228,
          7335.674121405751,
          7271.576576576576,
          7460.539358600583,
          7296.650273224043,
          7277.868421052632,
          7332.079896907217,
          7477.1435643564355,
          7183.941451990632,
          7062.620767494357,
          7075.2835497835495,
          7392.811040339703,
          7512.043659043659
         ]
        }
       ],
       "layout": {
        "height": 450,
        "template": {
         "data": {
          "bar": [
           {
            "error_x": {
             "color": "#f2f5fa"
            },
            "error_y": {
             "color": "#f2f5fa"
            },
            "marker": {
             "line": {
              "color": "rgb(17,17,17)",
              "width": 0.5
             },
             "pattern": {
              "fillmode": "overlay",
              "size": 10,
              "solidity": 0.2
             }
            },
            "type": "bar"
           }
          ],
          "barpolar": [
           {
            "marker": {
             "line": {
              "color": "rgb(17,17,17)",
              "width": 0.5
             },
             "pattern": {
              "fillmode": "overlay",
              "size": 10,
              "solidity": 0.2
             }
            },
            "type": "barpolar"
           }
          ],
          "carpet": [
           {
            "aaxis": {
             "endlinecolor": "#A2B1C6",
             "gridcolor": "#506784",
             "linecolor": "#506784",
             "minorgridcolor": "#506784",
             "startlinecolor": "#A2B1C6"
            },
            "baxis": {
             "endlinecolor": "#A2B1C6",
             "gridcolor": "#506784",
             "linecolor": "#506784",
             "minorgridcolor": "#506784",
             "startlinecolor": "#A2B1C6"
            },
            "type": "carpet"
           }
          ],
          "choropleth": [
           {
            "colorbar": {
             "outlinewidth": 0,
             "ticks": ""
            },
            "type": "choropleth"
           }
          ],
          "contour": [
           {
            "colorbar": {
             "outlinewidth": 0,
             "ticks": ""
            },
            "colorscale": [
             [
              0,
              "#0d0887"
             ],
             [
              0.1111111111111111,
              "#46039f"
             ],
             [
              0.2222222222222222,
              "#7201a8"
             ],
             [
              0.3333333333333333,
              "#9c179e"
             ],
             [
              0.4444444444444444,
              "#bd3786"
             ],
             [
              0.5555555555555556,
              "#d8576b"
             ],
             [
              0.6666666666666666,
              "#ed7953"
             ],
             [
              0.7777777777777778,
              "#fb9f3a"
             ],
             [
              0.8888888888888888,
              "#fdca26"
             ],
             [
              1,
              "#f0f921"
             ]
            ],
            "type": "contour"
           }
          ],
          "contourcarpet": [
           {
            "colorbar": {
             "outlinewidth": 0,
             "ticks": ""
            },
            "type": "contourcarpet"
           }
          ],
          "heatmap": [
           {
            "colorbar": {
             "outlinewidth": 0,
             "ticks": ""
            },
            "colorscale": [
             [
              0,
              "#0d0887"
             ],
             [
              0.1111111111111111,
              "#46039f"
             ],
             [
              0.2222222222222222,
              "#7201a8"
             ],
             [
              0.3333333333333333,
              "#9c179e"
             ],
             [
              0.4444444444444444,
              "#bd3786"
             ],
             [
              0.5555555555555556,
              "#d8576b"
             ],
             [
              0.6666666666666666,
              "#ed7953"
             ],
             [
              0.7777777777777778,
              "#fb9f3a"
             ],
             [
              0.8888888888888888,
              "#fdca26"
             ],
             [
              1,
              "#f0f921"
             ]
            ],
            "type": "heatmap"
           }
          ],
          "heatmapgl": [
           {
            "colorbar": {
             "outlinewidth": 0,
             "ticks": ""
            },
            "colorscale": [
             [
              0,
              "#0d0887"
             ],
             [
              0.1111111111111111,
              "#46039f"
             ],
             [
              0.2222222222222222,
              "#7201a8"
             ],
             [
              0.3333333333333333,
              "#9c179e"
             ],
             [
              0.4444444444444444,
              "#bd3786"
             ],
             [
              0.5555555555555556,
              "#d8576b"
             ],
             [
              0.6666666666666666,
              "#ed7953"
             ],
             [
              0.7777777777777778,
              "#fb9f3a"
             ],
             [
              0.8888888888888888,
              "#fdca26"
             ],
             [
              1,
              "#f0f921"
             ]
            ],
            "type": "heatmapgl"
           }
          ],
          "histogram": [
           {
            "marker": {
             "pattern": {
              "fillmode": "overlay",
              "size": 10,
              "solidity": 0.2
             }
            },
            "type": "histogram"
           }
          ],
          "histogram2d": [
           {
            "colorbar": {
             "outlinewidth": 0,
             "ticks": ""
            },
            "colorscale": [
             [
              0,
              "#0d0887"
             ],
             [
              0.1111111111111111,
              "#46039f"
             ],
             [
              0.2222222222222222,
              "#7201a8"
             ],
             [
              0.3333333333333333,
              "#9c179e"
             ],
             [
              0.4444444444444444,
              "#bd3786"
             ],
             [
              0.5555555555555556,
              "#d8576b"
             ],
             [
              0.6666666666666666,
              "#ed7953"
             ],
             [
              0.7777777777777778,
              "#fb9f3a"
             ],
             [
              0.8888888888888888,
              "#fdca26"
             ],
             [
              1,
              "#f0f921"
             ]
            ],
            "type": "histogram2d"
           }
          ],
          "histogram2dcontour": [
           {
            "colorbar": {
             "outlinewidth": 0,
             "ticks": ""
            },
            "colorscale": [
             [
              0,
              "#0d0887"
             ],
             [
              0.1111111111111111,
              "#46039f"
             ],
             [
              0.2222222222222222,
              "#7201a8"
             ],
             [
              0.3333333333333333,
              "#9c179e"
             ],
             [
              0.4444444444444444,
              "#bd3786"
             ],
             [
              0.5555555555555556,
              "#d8576b"
             ],
             [
              0.6666666666666666,
              "#ed7953"
             ],
             [
              0.7777777777777778,
              "#fb9f3a"
             ],
             [
              0.8888888888888888,
              "#fdca26"
             ],
             [
              1,
              "#f0f921"
             ]
            ],
            "type": "histogram2dcontour"
           }
          ],
          "mesh3d": [
           {
            "colorbar": {
             "outlinewidth": 0,
             "ticks": ""
            },
            "type": "mesh3d"
           }
          ],
          "parcoords": [
           {
            "line": {
             "colorbar": {
              "outlinewidth": 0,
              "ticks": ""
             }
            },
            "type": "parcoords"
           }
          ],
          "pie": [
           {
            "automargin": true,
            "type": "pie"
           }
          ],
          "scatter": [
           {
            "marker": {
             "line": {
              "color": "#283442"
             }
            },
            "type": "scatter"
           }
          ],
          "scatter3d": [
           {
            "line": {
             "colorbar": {
              "outlinewidth": 0,
              "ticks": ""
             }
            },
            "marker": {
             "colorbar": {
              "outlinewidth": 0,
              "ticks": ""
             }
            },
            "type": "scatter3d"
           }
          ],
          "scattercarpet": [
           {
            "marker": {
             "colorbar": {
              "outlinewidth": 0,
              "ticks": ""
             }
            },
            "type": "scattercarpet"
           }
          ],
          "scattergeo": [
           {
            "marker": {
             "colorbar": {
              "outlinewidth": 0,
              "ticks": ""
             }
            },
            "type": "scattergeo"
           }
          ],
          "scattergl": [
           {
            "marker": {
             "line": {
              "color": "#283442"
             }
            },
            "type": "scattergl"
           }
          ],
          "scattermapbox": [
           {
            "marker": {
             "colorbar": {
              "outlinewidth": 0,
              "ticks": ""
             }
            },
            "type": "scattermapbox"
           }
          ],
          "scatterpolar": [
           {
            "marker": {
             "colorbar": {
              "outlinewidth": 0,
              "ticks": ""
             }
            },
            "type": "scatterpolar"
           }
          ],
          "scatterpolargl": [
           {
            "marker": {
             "colorbar": {
              "outlinewidth": 0,
              "ticks": ""
             }
            },
            "type": "scatterpolargl"
           }
          ],
          "scatterternary": [
           {
            "marker": {
             "colorbar": {
              "outlinewidth": 0,
              "ticks": ""
             }
            },
            "type": "scatterternary"
           }
          ],
          "surface": [
           {
            "colorbar": {
             "outlinewidth": 0,
             "ticks": ""
            },
            "colorscale": [
             [
              0,
              "#0d0887"
             ],
             [
              0.1111111111111111,
              "#46039f"
             ],
             [
              0.2222222222222222,
              "#7201a8"
             ],
             [
              0.3333333333333333,
              "#9c179e"
             ],
             [
              0.4444444444444444,
              "#bd3786"
             ],
             [
              0.5555555555555556,
              "#d8576b"
             ],
             [
              0.6666666666666666,
              "#ed7953"
             ],
             [
              0.7777777777777778,
              "#fb9f3a"
             ],
             [
              0.8888888888888888,
              "#fdca26"
             ],
             [
              1,
              "#f0f921"
             ]
            ],
            "type": "surface"
           }
          ],
          "table": [
           {
            "cells": {
             "fill": {
              "color": "#506784"
             },
             "line": {
              "color": "rgb(17,17,17)"
             }
            },
            "header": {
             "fill": {
              "color": "#2a3f5f"
             },
             "line": {
              "color": "rgb(17,17,17)"
             }
            },
            "type": "table"
           }
          ]
         },
         "layout": {
          "annotationdefaults": {
           "arrowcolor": "#f2f5fa",
           "arrowhead": 0,
           "arrowwidth": 1
          },
          "autotypenumbers": "strict",
          "coloraxis": {
           "colorbar": {
            "outlinewidth": 0,
            "ticks": ""
           }
          },
          "colorscale": {
           "diverging": [
            [
             0,
             "#8e0152"
            ],
            [
             0.1,
             "#c51b7d"
            ],
            [
             0.2,
             "#de77ae"
            ],
            [
             0.3,
             "#f1b6da"
            ],
            [
             0.4,
             "#fde0ef"
            ],
            [
             0.5,
             "#f7f7f7"
            ],
            [
             0.6,
             "#e6f5d0"
            ],
            [
             0.7,
             "#b8e186"
            ],
            [
             0.8,
             "#7fbc41"
            ],
            [
             0.9,
             "#4d9221"
            ],
            [
             1,
             "#276419"
            ]
           ],
           "sequential": [
            [
             0,
             "#0d0887"
            ],
            [
             0.1111111111111111,
             "#46039f"
            ],
            [
             0.2222222222222222,
             "#7201a8"
            ],
            [
             0.3333333333333333,
             "#9c179e"
            ],
            [
             0.4444444444444444,
             "#bd3786"
            ],
            [
             0.5555555555555556,
             "#d8576b"
            ],
            [
             0.6666666666666666,
             "#ed7953"
            ],
            [
             0.7777777777777778,
             "#fb9f3a"
            ],
            [
             0.8888888888888888,
             "#fdca26"
            ],
            [
             1,
             "#f0f921"
            ]
           ],
           "sequentialminus": [
            [
             0,
             "#0d0887"
            ],
            [
             0.1111111111111111,
             "#46039f"
            ],
            [
             0.2222222222222222,
             "#7201a8"
            ],
            [
             0.3333333333333333,
             "#9c179e"
            ],
            [
             0.4444444444444444,
             "#bd3786"
            ],
            [
             0.5555555555555556,
             "#d8576b"
            ],
            [
             0.6666666666666666,
             "#ed7953"
            ],
            [
             0.7777777777777778,
             "#fb9f3a"
            ],
            [
             0.8888888888888888,
             "#fdca26"
            ],
            [
             1,
             "#f0f921"
            ]
           ]
          },
          "colorway": [
           "#636efa",
           "#EF553B",
           "#00cc96",
           "#ab63fa",
           "#FFA15A",
           "#19d3f3",
           "#FF6692",
           "#B6E880",
           "#FF97FF",
           "#FECB52"
          ],
          "font": {
           "color": "#f2f5fa"
          },
          "geo": {
           "bgcolor": "rgb(17,17,17)",
           "lakecolor": "rgb(17,17,17)",
           "landcolor": "rgb(17,17,17)",
           "showlakes": true,
           "showland": true,
           "subunitcolor": "#506784"
          },
          "hoverlabel": {
           "align": "left"
          },
          "hovermode": "closest",
          "mapbox": {
           "style": "dark"
          },
          "paper_bgcolor": "rgb(17,17,17)",
          "plot_bgcolor": "rgb(17,17,17)",
          "polar": {
           "angularaxis": {
            "gridcolor": "#506784",
            "linecolor": "#506784",
            "ticks": ""
           },
           "bgcolor": "rgb(17,17,17)",
           "radialaxis": {
            "gridcolor": "#506784",
            "linecolor": "#506784",
            "ticks": ""
           }
          },
          "scene": {
           "xaxis": {
            "backgroundcolor": "rgb(17,17,17)",
            "gridcolor": "#506784",
            "gridwidth": 2,
            "linecolor": "#506784",
            "showbackground": true,
            "ticks": "",
            "zerolinecolor": "#C8D4E3"
           },
           "yaxis": {
            "backgroundcolor": "rgb(17,17,17)",
            "gridcolor": "#506784",
            "gridwidth": 2,
            "linecolor": "#506784",
            "showbackground": true,
            "ticks": "",
            "zerolinecolor": "#C8D4E3"
           },
           "zaxis": {
            "backgroundcolor": "rgb(17,17,17)",
            "gridcolor": "#506784",
            "gridwidth": 2,
            "linecolor": "#506784",
            "showbackground": true,
            "ticks": "",
            "zerolinecolor": "#C8D4E3"
           }
          },
          "shapedefaults": {
           "line": {
            "color": "#f2f5fa"
           }
          },
          "sliderdefaults": {
           "bgcolor": "#C8D4E3",
           "bordercolor": "rgb(17,17,17)",
           "borderwidth": 1,
           "tickwidth": 0
          },
          "ternary": {
           "aaxis": {
            "gridcolor": "#506784",
            "linecolor": "#506784",
            "ticks": ""
           },
           "baxis": {
            "gridcolor": "#506784",
            "linecolor": "#506784",
            "ticks": ""
           },
           "bgcolor": "rgb(17,17,17)",
           "caxis": {
            "gridcolor": "#506784",
            "linecolor": "#506784",
            "ticks": ""
           }
          },
          "title": {
           "x": 0.05
          },
          "updatemenudefaults": {
           "bgcolor": "#506784",
           "borderwidth": 0
          },
          "xaxis": {
           "automargin": true,
           "gridcolor": "#283442",
           "linecolor": "#506784",
           "ticks": "",
           "title": {
            "standoff": 15
           },
           "zerolinecolor": "#283442",
           "zerolinewidth": 2
          },
          "yaxis": {
           "automargin": true,
           "gridcolor": "#283442",
           "linecolor": "#506784",
           "ticks": "",
           "title": {
            "standoff": 15
           },
           "zerolinecolor": "#283442",
           "zerolinewidth": 2
          }
         }
        },
        "title": {
         "text": "Изменение КУМУЛЯТИВНОГО среднего чека по очищенным данным"
        },
        "xaxis": {
         "title": {
          "text": "Дата"
         }
        },
        "yaxis": {
         "title": {
          "text": "Средний чек (у.е)"
         }
        }
       }
      },
      "text/html": [
       "<div>                            <div id=\"337c88a0-bcd1-4322-b576-8a0da9ccb7ba\" class=\"plotly-graph-div\" style=\"height:450px; width:100%;\"></div>            <script type=\"text/javascript\">                require([\"plotly\"], function(Plotly) {                    window.PLOTLYENV=window.PLOTLYENV || {};                                    if (document.getElementById(\"337c88a0-bcd1-4322-b576-8a0da9ccb7ba\")) {                    Plotly.newPlot(                        \"337c88a0-bcd1-4322-b576-8a0da9ccb7ba\",                        [{\"name\":\"\\u0421\\u0440\\u0435\\u0434\\u043d\\u0438\\u0439 \\u0447\\u0435\\u043a \\u0410\",\"x\":[\"2019-08-01T00:00:00\",\"2019-08-02T00:00:00\",\"2019-08-03T00:00:00\",\"2019-08-04T00:00:00\",\"2019-08-05T00:00:00\",\"2019-08-06T00:00:00\",\"2019-08-07T00:00:00\",\"2019-08-08T00:00:00\",\"2019-08-09T00:00:00\",\"2019-08-10T00:00:00\",\"2019-08-11T00:00:00\",\"2019-08-12T00:00:00\",\"2019-08-13T00:00:00\",\"2019-08-14T00:00:00\",\"2019-08-15T00:00:00\",\"2019-08-16T00:00:00\",\"2019-08-17T00:00:00\",\"2019-08-18T00:00:00\",\"2019-08-19T00:00:00\",\"2019-08-20T00:00:00\",\"2019-08-21T00:00:00\",\"2019-08-22T00:00:00\",\"2019-08-23T00:00:00\",\"2019-08-24T00:00:00\",\"2019-08-25T00:00:00\",\"2019-08-26T00:00:00\",\"2019-08-27T00:00:00\",\"2019-08-28T00:00:00\",\"2019-08-29T00:00:00\",\"2019-08-30T00:00:00\",\"2019-08-31T00:00:00\"],\"y\":[6241.111111111111,5526.27027027027,5195.819672131148,4973.902777777777,4873.375,4677.779816513761,5039.015873015873,5192.178571428572,5340.073333333334,5777.490909090909,5761.085227272727,5707.90206185567,6175.946859903382,5841.362445414848,5912.2875,5886.821705426357,5903.135849056604,5804.00354609929,5956.838283828383,5953.996805111821,5928.858858858859,6025.291545189504,5917.74043715847,6029.094736842106,6024.1752577319585,6174.737623762377,6276.215456674473,6275.092550790067,6533.454545454545,6496.3184713375795,6477.877338877339],\"type\":\"scatter\"},{\"name\":\"\\u0421\\u0440\\u0435\\u0434\\u043d\\u0438\\u0439 \\u0447\\u0435\\u043a B\",\"x\":[\"2019-08-01T00:00:00\",\"2019-08-02T00:00:00\",\"2019-08-03T00:00:00\",\"2019-08-04T00:00:00\",\"2019-08-05T00:00:00\",\"2019-08-06T00:00:00\",\"2019-08-07T00:00:00\",\"2019-08-08T00:00:00\",\"2019-08-09T00:00:00\",\"2019-08-10T00:00:00\",\"2019-08-11T00:00:00\",\"2019-08-12T00:00:00\",\"2019-08-13T00:00:00\",\"2019-08-14T00:00:00\",\"2019-08-15T00:00:00\",\"2019-08-16T00:00:00\",\"2019-08-17T00:00:00\",\"2019-08-18T00:00:00\",\"2019-08-19T00:00:00\",\"2019-08-20T00:00:00\",\"2019-08-21T00:00:00\",\"2019-08-22T00:00:00\",\"2019-08-23T00:00:00\",\"2019-08-24T00:00:00\",\"2019-08-25T00:00:00\",\"2019-08-26T00:00:00\",\"2019-08-27T00:00:00\",\"2019-08-28T00:00:00\",\"2019-08-29T00:00:00\",\"2019-08-30T00:00:00\",\"2019-08-31T00:00:00\"],\"y\":[4347.666666666667,6494.621621621622,5038.524590163935,5731.125,5235.927083333333,6624.688073394495,7470.277777777777,7377.471428571429,7573.413333333333,7522.266666666666,7355.022727272727,7212.257731958763,7337.434782608696,7196.131004366812,7346.233333333334,7276.573643410853,7390.607547169811,7139.617021276596,7091.722772277228,7335.674121405751,7271.576576576576,7460.539358600583,7296.650273224043,7277.868421052632,7332.079896907217,7477.1435643564355,7183.941451990632,7062.620767494357,7075.2835497835495,7392.811040339703,7512.043659043659],\"type\":\"scatter\"}],                        {\"template\":{\"data\":{\"barpolar\":[{\"marker\":{\"line\":{\"color\":\"rgb(17,17,17)\",\"width\":0.5},\"pattern\":{\"fillmode\":\"overlay\",\"size\":10,\"solidity\":0.2}},\"type\":\"barpolar\"}],\"bar\":[{\"error_x\":{\"color\":\"#f2f5fa\"},\"error_y\":{\"color\":\"#f2f5fa\"},\"marker\":{\"line\":{\"color\":\"rgb(17,17,17)\",\"width\":0.5},\"pattern\":{\"fillmode\":\"overlay\",\"size\":10,\"solidity\":0.2}},\"type\":\"bar\"}],\"carpet\":[{\"aaxis\":{\"endlinecolor\":\"#A2B1C6\",\"gridcolor\":\"#506784\",\"linecolor\":\"#506784\",\"minorgridcolor\":\"#506784\",\"startlinecolor\":\"#A2B1C6\"},\"baxis\":{\"endlinecolor\":\"#A2B1C6\",\"gridcolor\":\"#506784\",\"linecolor\":\"#506784\",\"minorgridcolor\":\"#506784\",\"startlinecolor\":\"#A2B1C6\"},\"type\":\"carpet\"}],\"choropleth\":[{\"colorbar\":{\"outlinewidth\":0,\"ticks\":\"\"},\"type\":\"choropleth\"}],\"contourcarpet\":[{\"colorbar\":{\"outlinewidth\":0,\"ticks\":\"\"},\"type\":\"contourcarpet\"}],\"contour\":[{\"colorbar\":{\"outlinewidth\":0,\"ticks\":\"\"},\"colorscale\":[[0.0,\"#0d0887\"],[0.1111111111111111,\"#46039f\"],[0.2222222222222222,\"#7201a8\"],[0.3333333333333333,\"#9c179e\"],[0.4444444444444444,\"#bd3786\"],[0.5555555555555556,\"#d8576b\"],[0.6666666666666666,\"#ed7953\"],[0.7777777777777778,\"#fb9f3a\"],[0.8888888888888888,\"#fdca26\"],[1.0,\"#f0f921\"]],\"type\":\"contour\"}],\"heatmapgl\":[{\"colorbar\":{\"outlinewidth\":0,\"ticks\":\"\"},\"colorscale\":[[0.0,\"#0d0887\"],[0.1111111111111111,\"#46039f\"],[0.2222222222222222,\"#7201a8\"],[0.3333333333333333,\"#9c179e\"],[0.4444444444444444,\"#bd3786\"],[0.5555555555555556,\"#d8576b\"],[0.6666666666666666,\"#ed7953\"],[0.7777777777777778,\"#fb9f3a\"],[0.8888888888888888,\"#fdca26\"],[1.0,\"#f0f921\"]],\"type\":\"heatmapgl\"}],\"heatmap\":[{\"colorbar\":{\"outlinewidth\":0,\"ticks\":\"\"},\"colorscale\":[[0.0,\"#0d0887\"],[0.1111111111111111,\"#46039f\"],[0.2222222222222222,\"#7201a8\"],[0.3333333333333333,\"#9c179e\"],[0.4444444444444444,\"#bd3786\"],[0.5555555555555556,\"#d8576b\"],[0.6666666666666666,\"#ed7953\"],[0.7777777777777778,\"#fb9f3a\"],[0.8888888888888888,\"#fdca26\"],[1.0,\"#f0f921\"]],\"type\":\"heatmap\"}],\"histogram2dcontour\":[{\"colorbar\":{\"outlinewidth\":0,\"ticks\":\"\"},\"colorscale\":[[0.0,\"#0d0887\"],[0.1111111111111111,\"#46039f\"],[0.2222222222222222,\"#7201a8\"],[0.3333333333333333,\"#9c179e\"],[0.4444444444444444,\"#bd3786\"],[0.5555555555555556,\"#d8576b\"],[0.6666666666666666,\"#ed7953\"],[0.7777777777777778,\"#fb9f3a\"],[0.8888888888888888,\"#fdca26\"],[1.0,\"#f0f921\"]],\"type\":\"histogram2dcontour\"}],\"histogram2d\":[{\"colorbar\":{\"outlinewidth\":0,\"ticks\":\"\"},\"colorscale\":[[0.0,\"#0d0887\"],[0.1111111111111111,\"#46039f\"],[0.2222222222222222,\"#7201a8\"],[0.3333333333333333,\"#9c179e\"],[0.4444444444444444,\"#bd3786\"],[0.5555555555555556,\"#d8576b\"],[0.6666666666666666,\"#ed7953\"],[0.7777777777777778,\"#fb9f3a\"],[0.8888888888888888,\"#fdca26\"],[1.0,\"#f0f921\"]],\"type\":\"histogram2d\"}],\"histogram\":[{\"marker\":{\"pattern\":{\"fillmode\":\"overlay\",\"size\":10,\"solidity\":0.2}},\"type\":\"histogram\"}],\"mesh3d\":[{\"colorbar\":{\"outlinewidth\":0,\"ticks\":\"\"},\"type\":\"mesh3d\"}],\"parcoords\":[{\"line\":{\"colorbar\":{\"outlinewidth\":0,\"ticks\":\"\"}},\"type\":\"parcoords\"}],\"pie\":[{\"automargin\":true,\"type\":\"pie\"}],\"scatter3d\":[{\"line\":{\"colorbar\":{\"outlinewidth\":0,\"ticks\":\"\"}},\"marker\":{\"colorbar\":{\"outlinewidth\":0,\"ticks\":\"\"}},\"type\":\"scatter3d\"}],\"scattercarpet\":[{\"marker\":{\"colorbar\":{\"outlinewidth\":0,\"ticks\":\"\"}},\"type\":\"scattercarpet\"}],\"scattergeo\":[{\"marker\":{\"colorbar\":{\"outlinewidth\":0,\"ticks\":\"\"}},\"type\":\"scattergeo\"}],\"scattergl\":[{\"marker\":{\"line\":{\"color\":\"#283442\"}},\"type\":\"scattergl\"}],\"scattermapbox\":[{\"marker\":{\"colorbar\":{\"outlinewidth\":0,\"ticks\":\"\"}},\"type\":\"scattermapbox\"}],\"scatterpolargl\":[{\"marker\":{\"colorbar\":{\"outlinewidth\":0,\"ticks\":\"\"}},\"type\":\"scatterpolargl\"}],\"scatterpolar\":[{\"marker\":{\"colorbar\":{\"outlinewidth\":0,\"ticks\":\"\"}},\"type\":\"scatterpolar\"}],\"scatter\":[{\"marker\":{\"line\":{\"color\":\"#283442\"}},\"type\":\"scatter\"}],\"scatterternary\":[{\"marker\":{\"colorbar\":{\"outlinewidth\":0,\"ticks\":\"\"}},\"type\":\"scatterternary\"}],\"surface\":[{\"colorbar\":{\"outlinewidth\":0,\"ticks\":\"\"},\"colorscale\":[[0.0,\"#0d0887\"],[0.1111111111111111,\"#46039f\"],[0.2222222222222222,\"#7201a8\"],[0.3333333333333333,\"#9c179e\"],[0.4444444444444444,\"#bd3786\"],[0.5555555555555556,\"#d8576b\"],[0.6666666666666666,\"#ed7953\"],[0.7777777777777778,\"#fb9f3a\"],[0.8888888888888888,\"#fdca26\"],[1.0,\"#f0f921\"]],\"type\":\"surface\"}],\"table\":[{\"cells\":{\"fill\":{\"color\":\"#506784\"},\"line\":{\"color\":\"rgb(17,17,17)\"}},\"header\":{\"fill\":{\"color\":\"#2a3f5f\"},\"line\":{\"color\":\"rgb(17,17,17)\"}},\"type\":\"table\"}]},\"layout\":{\"annotationdefaults\":{\"arrowcolor\":\"#f2f5fa\",\"arrowhead\":0,\"arrowwidth\":1},\"autotypenumbers\":\"strict\",\"coloraxis\":{\"colorbar\":{\"outlinewidth\":0,\"ticks\":\"\"}},\"colorscale\":{\"diverging\":[[0,\"#8e0152\"],[0.1,\"#c51b7d\"],[0.2,\"#de77ae\"],[0.3,\"#f1b6da\"],[0.4,\"#fde0ef\"],[0.5,\"#f7f7f7\"],[0.6,\"#e6f5d0\"],[0.7,\"#b8e186\"],[0.8,\"#7fbc41\"],[0.9,\"#4d9221\"],[1,\"#276419\"]],\"sequential\":[[0.0,\"#0d0887\"],[0.1111111111111111,\"#46039f\"],[0.2222222222222222,\"#7201a8\"],[0.3333333333333333,\"#9c179e\"],[0.4444444444444444,\"#bd3786\"],[0.5555555555555556,\"#d8576b\"],[0.6666666666666666,\"#ed7953\"],[0.7777777777777778,\"#fb9f3a\"],[0.8888888888888888,\"#fdca26\"],[1.0,\"#f0f921\"]],\"sequentialminus\":[[0.0,\"#0d0887\"],[0.1111111111111111,\"#46039f\"],[0.2222222222222222,\"#7201a8\"],[0.3333333333333333,\"#9c179e\"],[0.4444444444444444,\"#bd3786\"],[0.5555555555555556,\"#d8576b\"],[0.6666666666666666,\"#ed7953\"],[0.7777777777777778,\"#fb9f3a\"],[0.8888888888888888,\"#fdca26\"],[1.0,\"#f0f921\"]]},\"colorway\":[\"#636efa\",\"#EF553B\",\"#00cc96\",\"#ab63fa\",\"#FFA15A\",\"#19d3f3\",\"#FF6692\",\"#B6E880\",\"#FF97FF\",\"#FECB52\"],\"font\":{\"color\":\"#f2f5fa\"},\"geo\":{\"bgcolor\":\"rgb(17,17,17)\",\"lakecolor\":\"rgb(17,17,17)\",\"landcolor\":\"rgb(17,17,17)\",\"showlakes\":true,\"showland\":true,\"subunitcolor\":\"#506784\"},\"hoverlabel\":{\"align\":\"left\"},\"hovermode\":\"closest\",\"mapbox\":{\"style\":\"dark\"},\"paper_bgcolor\":\"rgb(17,17,17)\",\"plot_bgcolor\":\"rgb(17,17,17)\",\"polar\":{\"angularaxis\":{\"gridcolor\":\"#506784\",\"linecolor\":\"#506784\",\"ticks\":\"\"},\"bgcolor\":\"rgb(17,17,17)\",\"radialaxis\":{\"gridcolor\":\"#506784\",\"linecolor\":\"#506784\",\"ticks\":\"\"}},\"scene\":{\"xaxis\":{\"backgroundcolor\":\"rgb(17,17,17)\",\"gridcolor\":\"#506784\",\"gridwidth\":2,\"linecolor\":\"#506784\",\"showbackground\":true,\"ticks\":\"\",\"zerolinecolor\":\"#C8D4E3\"},\"yaxis\":{\"backgroundcolor\":\"rgb(17,17,17)\",\"gridcolor\":\"#506784\",\"gridwidth\":2,\"linecolor\":\"#506784\",\"showbackground\":true,\"ticks\":\"\",\"zerolinecolor\":\"#C8D4E3\"},\"zaxis\":{\"backgroundcolor\":\"rgb(17,17,17)\",\"gridcolor\":\"#506784\",\"gridwidth\":2,\"linecolor\":\"#506784\",\"showbackground\":true,\"ticks\":\"\",\"zerolinecolor\":\"#C8D4E3\"}},\"shapedefaults\":{\"line\":{\"color\":\"#f2f5fa\"}},\"sliderdefaults\":{\"bgcolor\":\"#C8D4E3\",\"bordercolor\":\"rgb(17,17,17)\",\"borderwidth\":1,\"tickwidth\":0},\"ternary\":{\"aaxis\":{\"gridcolor\":\"#506784\",\"linecolor\":\"#506784\",\"ticks\":\"\"},\"baxis\":{\"gridcolor\":\"#506784\",\"linecolor\":\"#506784\",\"ticks\":\"\"},\"bgcolor\":\"rgb(17,17,17)\",\"caxis\":{\"gridcolor\":\"#506784\",\"linecolor\":\"#506784\",\"ticks\":\"\"}},\"title\":{\"x\":0.05},\"updatemenudefaults\":{\"bgcolor\":\"#506784\",\"borderwidth\":0},\"xaxis\":{\"automargin\":true,\"gridcolor\":\"#283442\",\"linecolor\":\"#506784\",\"ticks\":\"\",\"title\":{\"standoff\":15},\"zerolinecolor\":\"#283442\",\"zerolinewidth\":2},\"yaxis\":{\"automargin\":true,\"gridcolor\":\"#283442\",\"linecolor\":\"#506784\",\"ticks\":\"\",\"title\":{\"standoff\":15},\"zerolinecolor\":\"#283442\",\"zerolinewidth\":2}}},\"title\":{\"text\":\"\\u0418\\u0437\\u043c\\u0435\\u043d\\u0435\\u043d\\u0438\\u0435 \\u041a\\u0423\\u041c\\u0423\\u041b\\u042f\\u0422\\u0418\\u0412\\u041d\\u041e\\u0413\\u041e \\u0441\\u0440\\u0435\\u0434\\u043d\\u0435\\u0433\\u043e \\u0447\\u0435\\u043a\\u0430 \\u043f\\u043e \\u043e\\u0447\\u0438\\u0449\\u0435\\u043d\\u043d\\u044b\\u043c \\u0434\\u0430\\u043d\\u043d\\u044b\\u043c\"},\"xaxis\":{\"title\":{\"text\":\"\\u0414\\u0430\\u0442\\u0430\"}},\"yaxis\":{\"title\":{\"text\":\"\\u0421\\u0440\\u0435\\u0434\\u043d\\u0438\\u0439 \\u0447\\u0435\\u043a (\\u0443.\\u0435)\"}},\"height\":450},                        {\"responsive\": true}                    ).then(function(){\n",
       "                            \n",
       "var gd = document.getElementById('337c88a0-bcd1-4322-b576-8a0da9ccb7ba');\n",
       "var x = new MutationObserver(function (mutations, observer) {{\n",
       "        var display = window.getComputedStyle(gd).display;\n",
       "        if (!display || display === 'none') {{\n",
       "            console.log([gd, 'removed!']);\n",
       "            Plotly.purge(gd);\n",
       "            observer.disconnect();\n",
       "        }}\n",
       "}});\n",
       "\n",
       "// Listen for the removal of the full notebook cells\n",
       "var notebookContainer = gd.closest('#notebook-container');\n",
       "if (notebookContainer) {{\n",
       "    x.observe(notebookContainer, {childList: true});\n",
       "}}\n",
       "\n",
       "// Listen for the clearing of the current output cell\n",
       "var outputEl = gd.closest('.output');\n",
       "if (outputEl) {{\n",
       "    x.observe(outputEl, {childList: true});\n",
       "}}\n",
       "\n",
       "                        })                };                });            </script>        </div>"
      ]
     },
     "metadata": {},
     "output_type": "display_data"
    }
   ],
   "source": [
    "fig = go.Figure()\n",
    "\n",
    "fig.add_trace(go.Scatter(x=clearRevenueByDateA['date'],\n",
    "                         y=clearRevenueByDateA['revenue'].cumsum() / clearOrdersByDateA['orders'].cumsum(),\n",
    "                         name=\"Средний чек А\"))\n",
    "\n",
    "fig.add_trace(go.Scatter(x=clearRevenueByDateB['date'],\n",
    "                         y=clearRevenueByDateB['revenue'].cumsum() / clearOrdersByDateA['orders'].cumsum(),\n",
    "                         name=\"Средний чек B\"))\n",
    "\n",
    "fig.update_layout(\n",
    "\n",
    "    title='Изменение КУМУЛЯТИВНОГО среднего чека по очищенным данным',\n",
    "    template='plotly_dark',\n",
    "    xaxis_title='Дата',\n",
    "    yaxis_title='Средний чек (у.е)',\n",
    "    height=450\n",
    "    \n",
    ")\n",
    "\n",
    "\n",
    "fig.show()"
   ]
  },
  {
   "cell_type": "markdown",
   "metadata": {},
   "source": [
    "**Выводы:**\n",
    "- После очищения данных, p-value стал еще больше\n",
    "- Критерий Манна-Уитни дает основания говорить, что средний чек значимо не изменился\n",
    "- Однако график кумулятивного среднего чека показывает различие чуть меньше, чем на тысячу и оба графика идут параллельно начиная с 7 августа. Это выглядит противоречиво."
   ]
  },
  {
   "cell_type": "markdown",
   "metadata": {},
   "source": [
    "## Итоговые выводы"
   ]
  },
  {
   "cell_type": "markdown",
   "metadata": {},
   "source": [
    "В ходе проекта мы помогали интернет-магазину:\n",
    "- приоритизировать гипотезы фреймворками RICE и ICE\n",
    "- проанализировать результаты A/B теста\n",
    "\n",
    "**Результаты. Приоритизация:**\n",
    "- Результаты работы двух фреймворков по приоритизации гипотез различаются\n",
    "- Гипотеза победитель по ICE - \"Запустить акцию, дающую скидку на товар в день рождения\"\n",
    "- Гипотеза победитель по RICE - \"Добавить форму подписки на все основные страницы, чтобы собрать базу клиентов для email-рассылок\"\n",
    "\n",
    "**Результаты. Анализ A/B теста:**\n",
    "- Мы не увидели значимых изменений конверсии по сырым данным\n",
    "- Зато по очищенным - конверсия изменилась значимо\n",
    "- Абсолютное изменение конверсии - 17.5%\n",
    "- Выводы по среднему чеку на сырых данных делать не имеет смысла (там были существенные выбросы)\n",
    "- Средний чек по очищенным данным, судя по критерию Манна-Уитни, значимо не отличается\n",
    "- Графики некумулятивного среднего чека \"сплетаются\" и тоже подтверждают это.  \n",
    "- Так как графики конверсии стабилизировались, и группа В лучше группы А по конверсии, при равном среднем чеке, то и денег она приносит больше.\n",
    "- **Тест успешный:** группа B показывает результаты лучше, чем группа А."
   ]
  }
 ],
 "metadata": {
  "ExecuteTimeLog": [
   {
    "duration": 561,
    "start_time": "2021-11-13T11:55:26.081Z"
   },
   {
    "duration": 91,
    "start_time": "2021-11-13T11:55:27.825Z"
   },
   {
    "duration": 15,
    "start_time": "2021-11-13T11:55:50.156Z"
   },
   {
    "duration": 6,
    "start_time": "2021-11-13T11:56:25.320Z"
   },
   {
    "duration": 230,
    "start_time": "2021-11-13T11:57:20.958Z"
   },
   {
    "duration": 8,
    "start_time": "2021-11-13T11:59:52.080Z"
   },
   {
    "duration": 8,
    "start_time": "2021-11-13T12:00:01.332Z"
   },
   {
    "duration": 9,
    "start_time": "2021-11-13T12:04:14.825Z"
   },
   {
    "duration": 7,
    "start_time": "2021-11-13T12:04:33.400Z"
   },
   {
    "duration": 8,
    "start_time": "2021-11-13T12:07:16.823Z"
   },
   {
    "duration": 6,
    "start_time": "2021-11-13T12:07:23.489Z"
   },
   {
    "duration": 11,
    "start_time": "2021-11-13T12:10:50.941Z"
   },
   {
    "duration": 6,
    "start_time": "2021-11-13T12:11:06.144Z"
   },
   {
    "duration": 11,
    "start_time": "2021-11-13T12:11:10.967Z"
   },
   {
    "duration": 6,
    "start_time": "2021-11-13T12:11:16.259Z"
   },
   {
    "duration": 11,
    "start_time": "2021-11-13T12:11:21.692Z"
   },
   {
    "duration": 5,
    "start_time": "2021-11-13T12:11:58.727Z"
   },
   {
    "duration": 6,
    "start_time": "2021-11-13T12:12:42.061Z"
   },
   {
    "duration": 4,
    "start_time": "2021-11-13T12:13:26.069Z"
   },
   {
    "duration": 8,
    "start_time": "2021-11-13T12:13:39.048Z"
   },
   {
    "duration": 4,
    "start_time": "2021-11-13T12:15:23.327Z"
   },
   {
    "duration": 5,
    "start_time": "2021-11-13T12:15:29.090Z"
   },
   {
    "duration": 4,
    "start_time": "2021-11-13T12:15:32.113Z"
   },
   {
    "duration": 8,
    "start_time": "2021-11-13T12:15:34.559Z"
   },
   {
    "duration": 168,
    "start_time": "2021-11-13T12:18:11.693Z"
   },
   {
    "duration": 8,
    "start_time": "2021-11-13T12:18:24.602Z"
   },
   {
    "duration": 6,
    "start_time": "2021-11-13T12:20:50.702Z"
   },
   {
    "duration": 9,
    "start_time": "2021-11-13T12:21:50.252Z"
   },
   {
    "duration": 9,
    "start_time": "2021-11-13T12:22:07.383Z"
   },
   {
    "duration": 9,
    "start_time": "2021-11-13T12:22:18.746Z"
   },
   {
    "duration": 10,
    "start_time": "2021-11-13T12:22:57.587Z"
   },
   {
    "duration": 4,
    "start_time": "2021-11-13T12:24:18.916Z"
   },
   {
    "duration": 11,
    "start_time": "2021-11-13T12:24:28.185Z"
   },
   {
    "duration": 11,
    "start_time": "2021-11-13T12:24:34.858Z"
   },
   {
    "duration": 11,
    "start_time": "2021-11-13T12:25:52.271Z"
   },
   {
    "duration": 1213,
    "start_time": "2021-11-13T17:24:20.840Z"
   },
   {
    "duration": 418,
    "start_time": "2021-11-13T17:24:23.430Z"
   },
   {
    "duration": 4,
    "start_time": "2021-11-13T17:24:31.690Z"
   },
   {
    "duration": 13,
    "start_time": "2021-11-13T17:24:32.428Z"
   },
   {
    "duration": 20494,
    "start_time": "2021-11-13T17:24:37.064Z"
   },
   {
    "duration": 6,
    "start_time": "2021-11-13T17:25:22.196Z"
   },
   {
    "duration": 4,
    "start_time": "2021-11-13T17:25:25.078Z"
   },
   {
    "duration": 7,
    "start_time": "2021-11-13T17:25:25.498Z"
   },
   {
    "duration": 7,
    "start_time": "2021-11-13T17:25:33.428Z"
   },
   {
    "duration": 1573,
    "start_time": "2021-11-13T17:25:57.839Z"
   },
   {
    "duration": 16,
    "start_time": "2021-11-13T17:25:59.416Z"
   },
   {
    "duration": 3783,
    "start_time": "2021-11-13T17:25:59.436Z"
   },
   {
    "duration": 76,
    "start_time": "2021-11-13T17:26:03.221Z"
   },
   {
    "duration": 15,
    "start_time": "2021-11-13T17:26:03.300Z"
   },
   {
    "duration": 19,
    "start_time": "2021-11-13T17:26:03.317Z"
   },
   {
    "duration": 26,
    "start_time": "2021-11-13T17:26:03.338Z"
   },
   {
    "duration": 18,
    "start_time": "2021-11-13T17:26:03.370Z"
   },
   {
    "duration": 18,
    "start_time": "2021-11-13T17:26:03.392Z"
   },
   {
    "duration": 22,
    "start_time": "2021-11-13T17:26:03.413Z"
   },
   {
    "duration": 12,
    "start_time": "2021-11-13T17:26:03.437Z"
   },
   {
    "duration": 18,
    "start_time": "2021-11-13T17:26:03.452Z"
   },
   {
    "duration": 7,
    "start_time": "2021-11-13T17:26:03.473Z"
   },
   {
    "duration": 16,
    "start_time": "2021-11-13T17:26:03.482Z"
   },
   {
    "duration": 28,
    "start_time": "2021-11-13T17:26:03.500Z"
   },
   {
    "duration": 15,
    "start_time": "2021-11-13T17:26:03.531Z"
   },
   {
    "duration": 25,
    "start_time": "2021-11-13T17:26:03.549Z"
   },
   {
    "duration": 21,
    "start_time": "2021-11-13T17:26:03.577Z"
   },
   {
    "duration": 17,
    "start_time": "2021-11-13T17:26:03.600Z"
   },
   {
    "duration": 24,
    "start_time": "2021-11-13T17:26:03.620Z"
   },
   {
    "duration": 16,
    "start_time": "2021-11-13T17:26:03.647Z"
   },
   {
    "duration": 32,
    "start_time": "2021-11-13T17:26:03.666Z"
   },
   {
    "duration": 18,
    "start_time": "2021-11-13T17:27:09.160Z"
   },
   {
    "duration": 21,
    "start_time": "2021-11-13T17:28:57.138Z"
   },
   {
    "duration": 55,
    "start_time": "2021-11-13T17:29:17.622Z"
   },
   {
    "duration": 14,
    "start_time": "2021-11-13T17:29:26.392Z"
   },
   {
    "duration": 7,
    "start_time": "2021-11-13T17:29:48.724Z"
   },
   {
    "duration": 100,
    "start_time": "2021-11-13T17:29:55.266Z"
   },
   {
    "duration": 6,
    "start_time": "2021-11-13T17:29:58.142Z"
   },
   {
    "duration": 4,
    "start_time": "2021-11-13T17:30:08.722Z"
   },
   {
    "duration": 11,
    "start_time": "2021-11-13T17:30:14.879Z"
   },
   {
    "duration": 381,
    "start_time": "2021-11-13T17:31:22.006Z"
   },
   {
    "duration": 23,
    "start_time": "2021-11-13T17:31:23.940Z"
   },
   {
    "duration": 6,
    "start_time": "2021-11-13T17:31:24.594Z"
   },
   {
    "duration": 12,
    "start_time": "2021-11-13T17:31:29.085Z"
   },
   {
    "duration": 668,
    "start_time": "2021-11-13T17:32:00.369Z"
   },
   {
    "duration": 5,
    "start_time": "2021-11-13T17:35:24.718Z"
   },
   {
    "duration": 5,
    "start_time": "2021-11-13T17:35:42.785Z"
   },
   {
    "duration": 395,
    "start_time": "2021-11-13T17:36:22.105Z"
   },
   {
    "duration": 312,
    "start_time": "2021-11-13T17:37:26.480Z"
   },
   {
    "duration": 284,
    "start_time": "2021-11-13T17:38:18.814Z"
   },
   {
    "duration": 9,
    "start_time": "2021-11-13T17:42:36.047Z"
   },
   {
    "duration": 14,
    "start_time": "2021-11-13T17:42:43.396Z"
   },
   {
    "duration": 102,
    "start_time": "2021-11-13T17:43:05.425Z"
   },
   {
    "duration": 8,
    "start_time": "2021-11-13T17:43:46.629Z"
   },
   {
    "duration": 111,
    "start_time": "2021-11-13T17:45:33.524Z"
   },
   {
    "duration": 279,
    "start_time": "2021-11-13T17:46:01.686Z"
   },
   {
    "duration": 107,
    "start_time": "2021-11-13T17:46:09.170Z"
   },
   {
    "duration": 99,
    "start_time": "2021-11-13T17:47:24.320Z"
   },
   {
    "duration": 93,
    "start_time": "2021-11-13T17:49:07.108Z"
   },
   {
    "duration": 282,
    "start_time": "2021-11-13T17:49:11.677Z"
   },
   {
    "duration": 111,
    "start_time": "2021-11-13T17:49:33.616Z"
   },
   {
    "duration": 99,
    "start_time": "2021-11-13T17:49:38.155Z"
   },
   {
    "duration": 96,
    "start_time": "2021-11-13T17:49:46.674Z"
   },
   {
    "duration": 401,
    "start_time": "2021-11-13T17:53:10.311Z"
   },
   {
    "duration": 108,
    "start_time": "2021-11-13T17:54:00.764Z"
   },
   {
    "duration": 95,
    "start_time": "2021-11-13T17:54:24.033Z"
   },
   {
    "duration": 97,
    "start_time": "2021-11-13T17:56:23.564Z"
   },
   {
    "duration": 289,
    "start_time": "2021-11-13T17:56:29.335Z"
   },
   {
    "duration": 99,
    "start_time": "2021-11-13T17:56:39.158Z"
   },
   {
    "duration": 96,
    "start_time": "2021-11-13T17:59:20.515Z"
   },
   {
    "duration": 93,
    "start_time": "2021-11-13T17:59:33.333Z"
   },
   {
    "duration": 103,
    "start_time": "2021-11-13T18:00:38.371Z"
   },
   {
    "duration": 104,
    "start_time": "2021-11-13T18:00:43.267Z"
   },
   {
    "duration": 95,
    "start_time": "2021-11-13T18:00:57.467Z"
   },
   {
    "duration": 97,
    "start_time": "2021-11-13T18:08:11.796Z"
   },
   {
    "duration": 103,
    "start_time": "2021-11-13T18:08:15.898Z"
   },
   {
    "duration": 167,
    "start_time": "2021-11-13T18:08:37.693Z"
   },
   {
    "duration": 12,
    "start_time": "2021-11-13T18:10:50.123Z"
   },
   {
    "duration": 109,
    "start_time": "2021-11-13T18:10:58.715Z"
   },
   {
    "duration": 1965,
    "start_time": "2021-11-13T18:12:28.723Z"
   },
   {
    "duration": 307,
    "start_time": "2021-11-13T18:12:34.132Z"
   },
   {
    "duration": 291,
    "start_time": "2021-11-13T18:12:39.218Z"
   },
   {
    "duration": 303,
    "start_time": "2021-11-13T18:13:03.276Z"
   },
   {
    "duration": 12,
    "start_time": "2021-11-13T18:14:42.892Z"
   },
   {
    "duration": 96,
    "start_time": "2021-11-13T18:14:55.013Z"
   },
   {
    "duration": 100,
    "start_time": "2021-11-13T18:15:01.287Z"
   },
   {
    "duration": 98,
    "start_time": "2021-11-13T18:15:08.832Z"
   },
   {
    "duration": 100,
    "start_time": "2021-11-13T18:16:07.956Z"
   },
   {
    "duration": 19,
    "start_time": "2021-11-13T18:16:52.287Z"
   },
   {
    "duration": 21,
    "start_time": "2021-11-13T18:18:29.506Z"
   },
   {
    "duration": 22,
    "start_time": "2021-11-13T18:19:15.932Z"
   },
   {
    "duration": 15,
    "start_time": "2021-11-13T18:19:38.993Z"
   },
   {
    "duration": 23,
    "start_time": "2021-11-13T18:20:10.011Z"
   },
   {
    "duration": 23,
    "start_time": "2021-11-13T18:20:36.452Z"
   },
   {
    "duration": 5,
    "start_time": "2021-11-13T18:21:05.493Z"
   },
   {
    "duration": 8,
    "start_time": "2021-11-13T18:21:31.824Z"
   },
   {
    "duration": 12,
    "start_time": "2021-11-13T18:21:34.806Z"
   },
   {
    "duration": 20,
    "start_time": "2021-11-13T18:23:05.329Z"
   },
   {
    "duration": 9,
    "start_time": "2021-11-13T18:23:11.030Z"
   },
   {
    "duration": 5,
    "start_time": "2021-11-13T18:24:57.782Z"
   },
   {
    "duration": 6,
    "start_time": "2021-11-13T18:25:07.681Z"
   },
   {
    "duration": 99,
    "start_time": "2021-11-13T18:25:51.062Z"
   },
   {
    "duration": 97,
    "start_time": "2021-11-13T18:26:23.952Z"
   },
   {
    "duration": 18,
    "start_time": "2021-11-13T18:27:02.153Z"
   },
   {
    "duration": 97,
    "start_time": "2021-11-13T18:27:19.377Z"
   },
   {
    "duration": 18,
    "start_time": "2021-11-13T19:10:46.984Z"
   },
   {
    "duration": 7,
    "start_time": "2021-11-13T19:11:20.121Z"
   },
   {
    "duration": 16,
    "start_time": "2021-11-13T19:12:36.361Z"
   },
   {
    "duration": 15,
    "start_time": "2021-11-13T19:15:31.572Z"
   },
   {
    "duration": 40,
    "start_time": "2021-11-13T19:15:48.540Z"
   },
   {
    "duration": 297,
    "start_time": "2021-11-13T19:17:19.450Z"
   },
   {
    "duration": 41,
    "start_time": "2021-11-13T19:19:02.465Z"
   },
   {
    "duration": 350,
    "start_time": "2021-11-13T19:20:33.183Z"
   },
   {
    "duration": 41,
    "start_time": "2021-11-13T19:20:54.064Z"
   },
   {
    "duration": 41,
    "start_time": "2021-11-13T19:23:54.661Z"
   },
   {
    "duration": 46,
    "start_time": "2021-11-13T19:24:04.738Z"
   },
   {
    "duration": 17,
    "start_time": "2021-11-13T19:29:47.577Z"
   },
   {
    "duration": 14,
    "start_time": "2021-11-13T19:31:04.077Z"
   },
   {
    "duration": 16,
    "start_time": "2021-11-13T19:32:31.447Z"
   },
   {
    "duration": 16,
    "start_time": "2021-11-13T19:32:43.865Z"
   },
   {
    "duration": 17,
    "start_time": "2021-11-13T19:33:13.507Z"
   },
   {
    "duration": 10,
    "start_time": "2021-11-13T19:33:25.786Z"
   },
   {
    "duration": 1720,
    "start_time": "2021-11-13T19:34:37.558Z"
   },
   {
    "duration": 4,
    "start_time": "2021-11-13T19:34:39.281Z"
   },
   {
    "duration": 72,
    "start_time": "2021-11-13T19:34:39.289Z"
   },
   {
    "duration": 31,
    "start_time": "2021-11-13T19:34:39.364Z"
   },
   {
    "duration": 10,
    "start_time": "2021-11-13T19:34:39.397Z"
   },
   {
    "duration": 13,
    "start_time": "2021-11-13T19:34:39.410Z"
   },
   {
    "duration": 11,
    "start_time": "2021-11-13T19:34:39.426Z"
   },
   {
    "duration": 12,
    "start_time": "2021-11-13T19:34:39.440Z"
   },
   {
    "duration": 8,
    "start_time": "2021-11-13T19:34:39.459Z"
   },
   {
    "duration": 55,
    "start_time": "2021-11-13T19:34:39.470Z"
   },
   {
    "duration": 8,
    "start_time": "2021-11-13T19:34:39.527Z"
   },
   {
    "duration": 6,
    "start_time": "2021-11-13T19:34:39.537Z"
   },
   {
    "duration": 12,
    "start_time": "2021-11-13T19:34:39.545Z"
   },
   {
    "duration": 9,
    "start_time": "2021-11-13T19:34:39.559Z"
   },
   {
    "duration": 11,
    "start_time": "2021-11-13T19:34:39.571Z"
   },
   {
    "duration": 43,
    "start_time": "2021-11-13T19:34:39.585Z"
   },
   {
    "duration": 16,
    "start_time": "2021-11-13T19:34:39.630Z"
   },
   {
    "duration": 7,
    "start_time": "2021-11-13T19:34:39.649Z"
   },
   {
    "duration": 15,
    "start_time": "2021-11-13T19:34:39.658Z"
   },
   {
    "duration": 47,
    "start_time": "2021-11-13T19:34:39.676Z"
   },
   {
    "duration": 16,
    "start_time": "2021-11-13T19:34:39.726Z"
   },
   {
    "duration": 23,
    "start_time": "2021-11-13T19:34:39.745Z"
   },
   {
    "duration": 5,
    "start_time": "2021-11-13T19:34:39.770Z"
   },
   {
    "duration": 9,
    "start_time": "2021-11-13T19:34:39.778Z"
   },
   {
    "duration": 688,
    "start_time": "2021-11-13T19:34:39.823Z"
   },
   {
    "duration": 24,
    "start_time": "2021-11-13T19:34:40.514Z"
   },
   {
    "duration": 5,
    "start_time": "2021-11-13T19:34:40.543Z"
   },
   {
    "duration": 9,
    "start_time": "2021-11-13T19:34:40.551Z"
   },
   {
    "duration": 63,
    "start_time": "2021-11-13T19:34:40.563Z"
   },
   {
    "duration": 8,
    "start_time": "2021-11-13T19:34:40.629Z"
   },
   {
    "duration": 193,
    "start_time": "2021-11-13T19:34:40.639Z"
   },
   {
    "duration": 41,
    "start_time": "2021-11-13T19:34:40.835Z"
   },
   {
    "duration": 15,
    "start_time": "2021-11-13T19:34:40.878Z"
   },
   {
    "duration": 19,
    "start_time": "2021-11-13T19:34:40.923Z"
   },
   {
    "duration": 24,
    "start_time": "2021-11-13T19:35:13.097Z"
   },
   {
    "duration": 14,
    "start_time": "2021-11-13T19:35:17.210Z"
   },
   {
    "duration": 24,
    "start_time": "2021-11-13T19:35:18.302Z"
   },
   {
    "duration": 32,
    "start_time": "2021-11-13T19:35:34.370Z"
   },
   {
    "duration": 31,
    "start_time": "2021-11-13T19:35:46.022Z"
   },
   {
    "duration": 16,
    "start_time": "2021-11-13T19:36:06.739Z"
   },
   {
    "duration": 28,
    "start_time": "2021-11-13T19:36:12.122Z"
   },
   {
    "duration": 6,
    "start_time": "2021-11-13T19:37:14.846Z"
   },
   {
    "duration": 23,
    "start_time": "2021-11-13T19:38:32.649Z"
   },
   {
    "duration": 7,
    "start_time": "2021-11-13T19:39:55.932Z"
   },
   {
    "duration": 5,
    "start_time": "2021-11-13T19:40:11.764Z"
   },
   {
    "duration": 5,
    "start_time": "2021-11-13T19:40:15.741Z"
   },
   {
    "duration": 21,
    "start_time": "2021-11-13T19:40:19.360Z"
   },
   {
    "duration": 6,
    "start_time": "2021-11-13T19:41:02.961Z"
   },
   {
    "duration": 97,
    "start_time": "2021-11-13T19:42:11.455Z"
   },
   {
    "duration": 96,
    "start_time": "2021-11-13T19:44:01.903Z"
   },
   {
    "duration": 98,
    "start_time": "2021-11-13T19:44:10.640Z"
   },
   {
    "duration": 102,
    "start_time": "2021-11-13T19:45:59.926Z"
   },
   {
    "duration": 102,
    "start_time": "2021-11-13T19:46:17.605Z"
   },
   {
    "duration": 102,
    "start_time": "2021-11-13T19:46:23.074Z"
   },
   {
    "duration": 40,
    "start_time": "2021-11-13T19:50:09.247Z"
   },
   {
    "duration": 1449,
    "start_time": "2021-11-13T19:50:44.166Z"
   },
   {
    "duration": 42,
    "start_time": "2021-11-13T19:51:08.394Z"
   },
   {
    "duration": 44,
    "start_time": "2021-11-13T19:52:32.894Z"
   },
   {
    "duration": 101,
    "start_time": "2021-11-13T19:53:14.458Z"
   },
   {
    "duration": 326,
    "start_time": "2021-11-13T19:53:22.394Z"
   },
   {
    "duration": 95,
    "start_time": "2021-11-13T19:53:34.191Z"
   },
   {
    "duration": 366,
    "start_time": "2021-11-13T19:53:37.280Z"
   },
   {
    "duration": 306,
    "start_time": "2021-11-13T19:54:43.352Z"
   },
   {
    "duration": 310,
    "start_time": "2021-11-13T19:54:52.631Z"
   },
   {
    "duration": 316,
    "start_time": "2021-11-13T19:54:56.554Z"
   },
   {
    "duration": 46,
    "start_time": "2021-11-13T19:55:35.638Z"
   },
   {
    "duration": 57,
    "start_time": "2021-11-13T19:55:47.673Z"
   },
   {
    "duration": 18,
    "start_time": "2021-11-13T19:59:25.162Z"
   },
   {
    "duration": 17,
    "start_time": "2021-11-13T20:01:23.640Z"
   },
   {
    "duration": 9,
    "start_time": "2021-11-13T20:02:16.536Z"
   },
   {
    "duration": 122,
    "start_time": "2021-11-13T20:03:16.290Z"
   },
   {
    "duration": 305,
    "start_time": "2021-11-13T20:03:21.118Z"
   },
   {
    "duration": 5,
    "start_time": "2021-11-13T20:04:00.617Z"
   },
   {
    "duration": 23,
    "start_time": "2021-11-13T20:04:45.886Z"
   },
   {
    "duration": 28,
    "start_time": "2021-11-13T20:04:55.372Z"
   },
   {
    "duration": 312,
    "start_time": "2021-11-13T20:05:02.306Z"
   },
   {
    "duration": 29,
    "start_time": "2021-11-13T20:05:06.293Z"
   },
   {
    "duration": 309,
    "start_time": "2021-11-13T20:06:08.692Z"
   },
   {
    "duration": 29,
    "start_time": "2021-11-13T20:06:17.264Z"
   },
   {
    "duration": 93,
    "start_time": "2021-11-13T20:07:08.598Z"
   },
   {
    "duration": 55,
    "start_time": "2021-11-13T20:07:12.262Z"
   },
   {
    "duration": 57,
    "start_time": "2021-11-13T20:07:51.461Z"
   },
   {
    "duration": 57,
    "start_time": "2021-11-13T20:07:58.180Z"
   },
   {
    "duration": 55,
    "start_time": "2021-11-13T20:08:11.495Z"
   },
   {
    "duration": 892,
    "start_time": "2021-11-13T20:09:59.924Z"
   },
   {
    "duration": 4,
    "start_time": "2021-11-13T20:10:00.818Z"
   },
   {
    "duration": 86,
    "start_time": "2021-11-13T20:10:00.825Z"
   },
   {
    "duration": 22,
    "start_time": "2021-11-13T20:10:00.914Z"
   },
   {
    "duration": 16,
    "start_time": "2021-11-13T20:10:00.939Z"
   },
   {
    "duration": 17,
    "start_time": "2021-11-13T20:10:00.958Z"
   },
   {
    "duration": 14,
    "start_time": "2021-11-13T20:10:00.977Z"
   },
   {
    "duration": 32,
    "start_time": "2021-11-13T20:10:00.995Z"
   },
   {
    "duration": 19,
    "start_time": "2021-11-13T20:10:01.030Z"
   },
   {
    "duration": 15,
    "start_time": "2021-11-13T20:10:01.051Z"
   },
   {
    "duration": 13,
    "start_time": "2021-11-13T20:10:01.069Z"
   },
   {
    "duration": 13,
    "start_time": "2021-11-13T20:10:01.085Z"
   },
   {
    "duration": 12,
    "start_time": "2021-11-13T20:10:01.122Z"
   },
   {
    "duration": 10,
    "start_time": "2021-11-13T20:10:01.136Z"
   },
   {
    "duration": 21,
    "start_time": "2021-11-13T20:10:01.148Z"
   },
   {
    "duration": 12,
    "start_time": "2021-11-13T20:10:01.171Z"
   },
   {
    "duration": 37,
    "start_time": "2021-11-13T20:10:01.185Z"
   },
   {
    "duration": 12,
    "start_time": "2021-11-13T20:10:01.225Z"
   },
   {
    "duration": 17,
    "start_time": "2021-11-13T20:10:01.239Z"
   },
   {
    "duration": 19,
    "start_time": "2021-11-13T20:10:01.258Z"
   },
   {
    "duration": 33,
    "start_time": "2021-11-13T20:10:01.280Z"
   },
   {
    "duration": 30,
    "start_time": "2021-11-13T20:10:01.323Z"
   },
   {
    "duration": 17,
    "start_time": "2021-11-13T20:10:01.358Z"
   },
   {
    "duration": 19,
    "start_time": "2021-11-13T20:10:01.378Z"
   },
   {
    "duration": 679,
    "start_time": "2021-11-13T20:10:01.400Z"
   },
   {
    "duration": 58,
    "start_time": "2021-11-13T20:10:02.082Z"
   },
   {
    "duration": 22,
    "start_time": "2021-11-13T20:10:02.143Z"
   },
   {
    "duration": 60,
    "start_time": "2021-11-13T20:10:02.168Z"
   },
   {
    "duration": 34,
    "start_time": "2021-11-13T20:10:02.230Z"
   },
   {
    "duration": 56,
    "start_time": "2021-11-13T20:10:02.267Z"
   },
   {
    "duration": 159,
    "start_time": "2021-11-13T20:10:02.326Z"
   },
   {
    "duration": 52,
    "start_time": "2021-11-13T20:10:02.487Z"
   },
   {
    "duration": 25,
    "start_time": "2021-11-13T20:10:02.542Z"
   },
   {
    "duration": 24,
    "start_time": "2021-11-13T20:10:02.569Z"
   },
   {
    "duration": 13,
    "start_time": "2021-11-13T20:10:02.595Z"
   },
   {
    "duration": 16,
    "start_time": "2021-11-13T20:10:02.610Z"
   },
   {
    "duration": 107,
    "start_time": "2021-11-13T20:10:02.628Z"
   },
   {
    "duration": 47,
    "start_time": "2021-11-13T20:10:02.738Z"
   },
   {
    "duration": 34,
    "start_time": "2021-11-13T20:10:02.788Z"
   },
   {
    "duration": 617,
    "start_time": "2021-11-13T20:10:02.825Z"
   },
   {
    "duration": 59,
    "start_time": "2021-11-13T20:10:09.625Z"
   },
   {
    "duration": 4,
    "start_time": "2021-11-13T20:13:40.065Z"
   },
   {
    "duration": 7,
    "start_time": "2021-11-13T20:14:16.939Z"
   },
   {
    "duration": 5,
    "start_time": "2021-11-13T20:15:43.348Z"
   },
   {
    "duration": 5,
    "start_time": "2021-11-13T20:16:03.406Z"
   },
   {
    "duration": 7,
    "start_time": "2021-11-13T20:16:17.931Z"
   },
   {
    "duration": 18,
    "start_time": "2021-11-13T20:18:18.469Z"
   },
   {
    "duration": 58,
    "start_time": "2021-11-13T20:19:41.565Z"
   },
   {
    "duration": 866,
    "start_time": "2021-11-13T20:21:13.824Z"
   },
   {
    "duration": 4,
    "start_time": "2021-11-13T20:21:14.693Z"
   },
   {
    "duration": 75,
    "start_time": "2021-11-13T20:21:14.701Z"
   },
   {
    "duration": 24,
    "start_time": "2021-11-13T20:21:14.779Z"
   },
   {
    "duration": 9,
    "start_time": "2021-11-13T20:21:14.806Z"
   },
   {
    "duration": 13,
    "start_time": "2021-11-13T20:21:14.818Z"
   },
   {
    "duration": 11,
    "start_time": "2021-11-13T20:21:14.833Z"
   },
   {
    "duration": 14,
    "start_time": "2021-11-13T20:21:14.846Z"
   },
   {
    "duration": 9,
    "start_time": "2021-11-13T20:21:14.864Z"
   },
   {
    "duration": 6,
    "start_time": "2021-11-13T20:21:14.877Z"
   },
   {
    "duration": 43,
    "start_time": "2021-11-13T20:21:14.886Z"
   },
   {
    "duration": 6,
    "start_time": "2021-11-13T20:21:14.931Z"
   },
   {
    "duration": 13,
    "start_time": "2021-11-13T20:21:14.939Z"
   },
   {
    "duration": 6,
    "start_time": "2021-11-13T20:21:14.954Z"
   },
   {
    "duration": 8,
    "start_time": "2021-11-13T20:21:14.963Z"
   },
   {
    "duration": 50,
    "start_time": "2021-11-13T20:21:14.974Z"
   },
   {
    "duration": 46,
    "start_time": "2021-11-13T20:21:15.026Z"
   },
   {
    "duration": 29,
    "start_time": "2021-11-13T20:21:15.074Z"
   },
   {
    "duration": 16,
    "start_time": "2021-11-13T20:21:15.106Z"
   },
   {
    "duration": 13,
    "start_time": "2021-11-13T20:21:15.125Z"
   },
   {
    "duration": 17,
    "start_time": "2021-11-13T20:21:15.141Z"
   },
   {
    "duration": 25,
    "start_time": "2021-11-13T20:21:15.161Z"
   },
   {
    "duration": 5,
    "start_time": "2021-11-13T20:21:15.188Z"
   },
   {
    "duration": 27,
    "start_time": "2021-11-13T20:21:15.196Z"
   },
   {
    "duration": 964,
    "start_time": "2021-11-13T20:22:33.599Z"
   },
   {
    "duration": 4,
    "start_time": "2021-11-13T20:22:34.565Z"
   },
   {
    "duration": 77,
    "start_time": "2021-11-13T20:22:34.572Z"
   },
   {
    "duration": 23,
    "start_time": "2021-11-13T20:22:34.652Z"
   },
   {
    "duration": 13,
    "start_time": "2021-11-13T20:22:34.678Z"
   },
   {
    "duration": 14,
    "start_time": "2021-11-13T20:22:34.693Z"
   },
   {
    "duration": 14,
    "start_time": "2021-11-13T20:22:34.709Z"
   },
   {
    "duration": 12,
    "start_time": "2021-11-13T20:22:34.725Z"
   },
   {
    "duration": 11,
    "start_time": "2021-11-13T20:22:34.741Z"
   },
   {
    "duration": 7,
    "start_time": "2021-11-13T20:22:34.756Z"
   },
   {
    "duration": 8,
    "start_time": "2021-11-13T20:22:34.765Z"
   },
   {
    "duration": 49,
    "start_time": "2021-11-13T20:22:34.776Z"
   },
   {
    "duration": 12,
    "start_time": "2021-11-13T20:22:34.828Z"
   },
   {
    "duration": 11,
    "start_time": "2021-11-13T20:22:34.842Z"
   },
   {
    "duration": 10,
    "start_time": "2021-11-13T20:22:34.855Z"
   },
   {
    "duration": 13,
    "start_time": "2021-11-13T20:22:34.868Z"
   },
   {
    "duration": 48,
    "start_time": "2021-11-13T20:22:34.883Z"
   },
   {
    "duration": 8,
    "start_time": "2021-11-13T20:22:34.933Z"
   },
   {
    "duration": 15,
    "start_time": "2021-11-13T20:22:34.943Z"
   },
   {
    "duration": 8,
    "start_time": "2021-11-13T20:22:34.960Z"
   },
   {
    "duration": 53,
    "start_time": "2021-11-13T20:22:34.971Z"
   },
   {
    "duration": 24,
    "start_time": "2021-11-13T20:22:35.027Z"
   },
   {
    "duration": 4,
    "start_time": "2021-11-13T20:22:35.054Z"
   },
   {
    "duration": 15,
    "start_time": "2021-11-13T20:22:35.061Z"
   },
   {
    "duration": 670,
    "start_time": "2021-11-13T20:22:35.079Z"
   },
   {
    "duration": 24,
    "start_time": "2021-11-13T20:22:35.751Z"
   },
   {
    "duration": 6,
    "start_time": "2021-11-13T20:22:35.824Z"
   },
   {
    "duration": 19,
    "start_time": "2021-11-13T20:22:35.833Z"
   },
   {
    "duration": 9,
    "start_time": "2021-11-13T20:22:35.855Z"
   },
   {
    "duration": 56,
    "start_time": "2021-11-13T20:22:35.866Z"
   },
   {
    "duration": 153,
    "start_time": "2021-11-13T20:22:35.925Z"
   },
   {
    "duration": 82,
    "start_time": "2021-11-13T20:22:36.081Z"
   },
   {
    "duration": 15,
    "start_time": "2021-11-13T20:22:36.165Z"
   },
   {
    "duration": 40,
    "start_time": "2021-11-13T20:22:36.182Z"
   },
   {
    "duration": 4,
    "start_time": "2021-11-13T20:22:36.225Z"
   },
   {
    "duration": 8,
    "start_time": "2021-11-13T20:22:36.232Z"
   },
   {
    "duration": 121,
    "start_time": "2021-11-13T20:22:36.242Z"
   },
   {
    "duration": 63,
    "start_time": "2021-11-13T20:22:36.365Z"
   },
   {
    "duration": 9,
    "start_time": "2021-11-13T20:22:36.430Z"
   },
   {
    "duration": 57,
    "start_time": "2021-11-13T20:22:36.441Z"
   },
   {
    "duration": 26,
    "start_time": "2021-11-13T20:22:36.500Z"
   },
   {
    "duration": 22,
    "start_time": "2021-11-13T20:22:36.529Z"
   },
   {
    "duration": 82,
    "start_time": "2021-11-13T20:22:36.554Z"
   },
   {
    "duration": 7,
    "start_time": "2021-11-13T20:27:03.423Z"
   },
   {
    "duration": 7,
    "start_time": "2021-11-13T20:27:20.266Z"
   },
   {
    "duration": 59,
    "start_time": "2021-11-13T20:29:33.459Z"
   },
   {
    "duration": 63,
    "start_time": "2021-11-13T20:30:04.087Z"
   },
   {
    "duration": 60,
    "start_time": "2021-11-13T20:30:15.722Z"
   },
   {
    "duration": 61,
    "start_time": "2021-11-13T20:30:39.451Z"
   },
   {
    "duration": 499,
    "start_time": "2021-11-13T20:31:05.168Z"
   },
   {
    "duration": 311,
    "start_time": "2021-11-13T20:31:11.753Z"
   },
   {
    "duration": 301,
    "start_time": "2021-11-13T20:31:57.552Z"
   },
   {
    "duration": 738,
    "start_time": "2021-11-13T20:32:05.737Z"
   },
   {
    "duration": 106,
    "start_time": "2021-11-13T20:32:48.775Z"
   },
   {
    "duration": 62,
    "start_time": "2021-11-13T20:32:52.944Z"
   },
   {
    "duration": 1341,
    "start_time": "2021-11-14T11:32:54.592Z"
   },
   {
    "duration": 3,
    "start_time": "2021-11-14T11:32:55.935Z"
   },
   {
    "duration": 87,
    "start_time": "2021-11-14T11:32:55.941Z"
   },
   {
    "duration": 21,
    "start_time": "2021-11-14T11:32:56.030Z"
   },
   {
    "duration": 35,
    "start_time": "2021-11-14T11:32:56.053Z"
   },
   {
    "duration": 17,
    "start_time": "2021-11-14T11:32:56.091Z"
   },
   {
    "duration": 11,
    "start_time": "2021-11-14T11:32:56.110Z"
   },
   {
    "duration": 13,
    "start_time": "2021-11-14T11:32:56.123Z"
   },
   {
    "duration": 28,
    "start_time": "2021-11-14T11:32:56.140Z"
   },
   {
    "duration": 21,
    "start_time": "2021-11-14T11:32:56.178Z"
   },
   {
    "duration": 11,
    "start_time": "2021-11-14T11:32:56.202Z"
   },
   {
    "duration": 6,
    "start_time": "2021-11-14T11:32:56.215Z"
   },
   {
    "duration": 16,
    "start_time": "2021-11-14T11:32:56.223Z"
   },
   {
    "duration": 9,
    "start_time": "2021-11-14T11:32:56.263Z"
   },
   {
    "duration": 22,
    "start_time": "2021-11-14T11:32:56.275Z"
   },
   {
    "duration": 9,
    "start_time": "2021-11-14T11:32:56.299Z"
   },
   {
    "duration": 13,
    "start_time": "2021-11-14T11:32:56.311Z"
   },
   {
    "duration": 6,
    "start_time": "2021-11-14T11:32:56.327Z"
   },
   {
    "duration": 52,
    "start_time": "2021-11-14T11:32:56.335Z"
   },
   {
    "duration": 6,
    "start_time": "2021-11-14T11:32:56.390Z"
   },
   {
    "duration": 21,
    "start_time": "2021-11-14T11:32:56.398Z"
   },
   {
    "duration": 57,
    "start_time": "2021-11-14T11:32:56.421Z"
   },
   {
    "duration": 5,
    "start_time": "2021-11-14T11:32:56.484Z"
   },
   {
    "duration": 12,
    "start_time": "2021-11-14T11:32:56.492Z"
   },
   {
    "duration": 603,
    "start_time": "2021-11-14T11:32:56.506Z"
   },
   {
    "duration": -9,
    "start_time": "2021-11-14T11:32:57.121Z"
   },
   {
    "duration": -11,
    "start_time": "2021-11-14T11:32:57.125Z"
   },
   {
    "duration": -22,
    "start_time": "2021-11-14T11:32:57.138Z"
   },
   {
    "duration": -25,
    "start_time": "2021-11-14T11:32:57.142Z"
   },
   {
    "duration": -27,
    "start_time": "2021-11-14T11:32:57.146Z"
   },
   {
    "duration": -52,
    "start_time": "2021-11-14T11:32:57.172Z"
   },
   {
    "duration": -54,
    "start_time": "2021-11-14T11:32:57.176Z"
   },
   {
    "duration": -55,
    "start_time": "2021-11-14T11:32:57.179Z"
   },
   {
    "duration": -63,
    "start_time": "2021-11-14T11:32:57.188Z"
   },
   {
    "duration": -64,
    "start_time": "2021-11-14T11:32:57.191Z"
   },
   {
    "duration": -69,
    "start_time": "2021-11-14T11:32:57.197Z"
   },
   {
    "duration": -72,
    "start_time": "2021-11-14T11:32:57.202Z"
   },
   {
    "duration": -75,
    "start_time": "2021-11-14T11:32:57.206Z"
   },
   {
    "duration": -78,
    "start_time": "2021-11-14T11:32:57.211Z"
   },
   {
    "duration": -80,
    "start_time": "2021-11-14T11:32:57.215Z"
   },
   {
    "duration": -94,
    "start_time": "2021-11-14T11:32:57.230Z"
   },
   {
    "duration": -96,
    "start_time": "2021-11-14T11:32:57.234Z"
   },
   {
    "duration": -100,
    "start_time": "2021-11-14T11:32:57.239Z"
   },
   {
    "duration": 25736,
    "start_time": "2021-11-14T11:33:25.979Z"
   },
   {
    "duration": 1003,
    "start_time": "2021-11-14T11:34:02.187Z"
   },
   {
    "duration": 3,
    "start_time": "2021-11-14T11:34:03.193Z"
   },
   {
    "duration": 82,
    "start_time": "2021-11-14T11:34:03.199Z"
   },
   {
    "duration": 27,
    "start_time": "2021-11-14T11:34:03.285Z"
   },
   {
    "duration": 10,
    "start_time": "2021-11-14T11:34:03.314Z"
   },
   {
    "duration": 13,
    "start_time": "2021-11-14T11:34:03.326Z"
   },
   {
    "duration": 18,
    "start_time": "2021-11-14T11:34:03.342Z"
   },
   {
    "duration": 30,
    "start_time": "2021-11-14T11:34:03.363Z"
   },
   {
    "duration": 10,
    "start_time": "2021-11-14T11:34:03.397Z"
   },
   {
    "duration": 8,
    "start_time": "2021-11-14T11:34:03.410Z"
   },
   {
    "duration": 15,
    "start_time": "2021-11-14T11:34:03.420Z"
   },
   {
    "duration": 29,
    "start_time": "2021-11-14T11:34:03.437Z"
   },
   {
    "duration": 35,
    "start_time": "2021-11-14T11:34:03.469Z"
   },
   {
    "duration": 11,
    "start_time": "2021-11-14T11:34:03.506Z"
   },
   {
    "duration": 9,
    "start_time": "2021-11-14T11:34:03.520Z"
   },
   {
    "duration": 8,
    "start_time": "2021-11-14T11:34:03.532Z"
   },
   {
    "duration": 43,
    "start_time": "2021-11-14T11:34:03.543Z"
   },
   {
    "duration": 15,
    "start_time": "2021-11-14T11:34:03.589Z"
   },
   {
    "duration": 19,
    "start_time": "2021-11-14T11:34:03.607Z"
   },
   {
    "duration": 10,
    "start_time": "2021-11-14T11:34:03.629Z"
   },
   {
    "duration": 42,
    "start_time": "2021-11-14T11:34:03.642Z"
   },
   {
    "duration": 22,
    "start_time": "2021-11-14T11:34:03.690Z"
   },
   {
    "duration": 4,
    "start_time": "2021-11-14T11:34:03.715Z"
   },
   {
    "duration": 17,
    "start_time": "2021-11-14T11:34:03.721Z"
   },
   {
    "duration": 1032,
    "start_time": "2021-11-14T11:34:03.760Z"
   },
   {
    "duration": 25,
    "start_time": "2021-11-14T11:34:04.795Z"
   },
   {
    "duration": 8,
    "start_time": "2021-11-14T11:34:04.859Z"
   },
   {
    "duration": 26,
    "start_time": "2021-11-14T11:34:04.871Z"
   },
   {
    "duration": 14,
    "start_time": "2021-11-14T11:34:04.900Z"
   },
   {
    "duration": 46,
    "start_time": "2021-11-14T11:34:04.917Z"
   },
   {
    "duration": 240,
    "start_time": "2021-11-14T11:34:04.965Z"
   },
   {
    "duration": 69,
    "start_time": "2021-11-14T11:34:05.208Z"
   },
   {
    "duration": 20,
    "start_time": "2021-11-14T11:34:05.281Z"
   },
   {
    "duration": 20,
    "start_time": "2021-11-14T11:34:05.303Z"
   },
   {
    "duration": 19,
    "start_time": "2021-11-14T11:34:05.326Z"
   },
   {
    "duration": 38,
    "start_time": "2021-11-14T11:34:05.347Z"
   },
   {
    "duration": 119,
    "start_time": "2021-11-14T11:34:05.388Z"
   },
   {
    "duration": 73,
    "start_time": "2021-11-14T11:34:05.510Z"
   },
   {
    "duration": 25,
    "start_time": "2021-11-14T11:34:05.586Z"
   },
   {
    "duration": 71,
    "start_time": "2021-11-14T11:34:05.613Z"
   },
   {
    "duration": 7,
    "start_time": "2021-11-14T11:34:05.686Z"
   },
   {
    "duration": 104,
    "start_time": "2021-11-14T11:34:05.695Z"
   },
   {
    "duration": 6,
    "start_time": "2021-11-14T11:34:05.802Z"
   },
   {
    "duration": 473,
    "start_time": "2021-11-14T11:36:08.121Z"
   },
   {
    "duration": 23,
    "start_time": "2021-11-14T11:39:14.725Z"
   },
   {
    "duration": 645,
    "start_time": "2021-11-14T11:39:37.443Z"
   },
   {
    "duration": 407,
    "start_time": "2021-11-14T11:39:42.896Z"
   },
   {
    "duration": 392,
    "start_time": "2021-11-14T11:39:46.253Z"
   },
   {
    "duration": 5,
    "start_time": "2021-11-14T11:39:49.826Z"
   },
   {
    "duration": 5,
    "start_time": "2021-11-14T11:40:08.072Z"
   },
   {
    "duration": 495,
    "start_time": "2021-11-14T11:40:34.972Z"
   },
   {
    "duration": 577,
    "start_time": "2021-11-14T11:40:47.786Z"
   },
   {
    "duration": 422,
    "start_time": "2021-11-14T11:40:54.290Z"
   },
   {
    "duration": 6,
    "start_time": "2021-11-14T11:45:02.573Z"
   },
   {
    "duration": 439,
    "start_time": "2021-11-14T11:47:04.073Z"
   },
   {
    "duration": 6,
    "start_time": "2021-11-14T11:47:09.931Z"
   },
   {
    "duration": 8,
    "start_time": "2021-11-14T11:49:34.809Z"
   },
   {
    "duration": 6,
    "start_time": "2021-11-14T11:50:31.879Z"
   },
   {
    "duration": 8,
    "start_time": "2021-11-14T11:58:11.118Z"
   },
   {
    "duration": 7,
    "start_time": "2021-11-14T12:00:09.273Z"
   },
   {
    "duration": 6,
    "start_time": "2021-11-14T12:00:12.406Z"
   },
   {
    "duration": 6,
    "start_time": "2021-11-14T12:00:15.720Z"
   },
   {
    "duration": 7,
    "start_time": "2021-11-14T12:00:19.709Z"
   },
   {
    "duration": 24,
    "start_time": "2021-11-14T12:01:42.085Z"
   },
   {
    "duration": 7,
    "start_time": "2021-11-14T12:01:48.052Z"
   },
   {
    "duration": 296,
    "start_time": "2021-11-14T12:01:52.217Z"
   },
   {
    "duration": 440,
    "start_time": "2021-11-14T12:01:58.264Z"
   },
   {
    "duration": 319,
    "start_time": "2021-11-14T12:02:05.423Z"
   },
   {
    "duration": 7,
    "start_time": "2021-11-14T12:05:21.076Z"
   },
   {
    "duration": 6,
    "start_time": "2021-11-14T12:06:36.574Z"
   },
   {
    "duration": 6,
    "start_time": "2021-11-14T12:06:44.424Z"
   },
   {
    "duration": 18,
    "start_time": "2021-11-14T12:20:15.984Z"
   },
   {
    "duration": 29,
    "start_time": "2021-11-14T12:20:29.754Z"
   },
   {
    "duration": 22,
    "start_time": "2021-11-14T12:20:40.687Z"
   },
   {
    "duration": 26,
    "start_time": "2021-11-14T12:20:50.952Z"
   },
   {
    "duration": 24,
    "start_time": "2021-11-14T12:21:05.995Z"
   },
   {
    "duration": 11,
    "start_time": "2021-11-14T12:22:38.036Z"
   },
   {
    "duration": 11,
    "start_time": "2021-11-14T12:22:43.056Z"
   },
   {
    "duration": 13,
    "start_time": "2021-11-14T12:23:11.031Z"
   },
   {
    "duration": 12,
    "start_time": "2021-11-14T12:23:23.935Z"
   },
   {
    "duration": 12,
    "start_time": "2021-11-14T12:23:28.530Z"
   },
   {
    "duration": 15,
    "start_time": "2021-11-14T12:23:40.871Z"
   },
   {
    "duration": 12,
    "start_time": "2021-11-14T12:23:45.112Z"
   },
   {
    "duration": 9,
    "start_time": "2021-11-14T12:24:16.879Z"
   },
   {
    "duration": 7,
    "start_time": "2021-11-14T12:25:11.692Z"
   },
   {
    "duration": 24,
    "start_time": "2021-11-14T12:26:08.242Z"
   },
   {
    "duration": 404,
    "start_time": "2021-11-14T12:26:22.571Z"
   },
   {
    "duration": 6,
    "start_time": "2021-11-14T12:26:27.571Z"
   },
   {
    "duration": 407,
    "start_time": "2021-11-14T12:26:28.008Z"
   },
   {
    "duration": 430,
    "start_time": "2021-11-14T12:26:30.243Z"
   },
   {
    "duration": 27,
    "start_time": "2021-11-14T12:29:51.770Z"
   },
   {
    "duration": 385,
    "start_time": "2021-11-14T12:30:06.306Z"
   },
   {
    "duration": 379,
    "start_time": "2021-11-14T12:30:23.872Z"
   },
   {
    "duration": 7,
    "start_time": "2021-11-14T12:30:34.174Z"
   },
   {
    "duration": 9,
    "start_time": "2021-11-14T12:30:42.079Z"
   },
   {
    "duration": 22,
    "start_time": "2021-11-14T12:30:54.312Z"
   },
   {
    "duration": 21,
    "start_time": "2021-11-14T12:31:04.117Z"
   },
   {
    "duration": 7,
    "start_time": "2021-11-14T12:31:16.946Z"
   },
   {
    "duration": 22,
    "start_time": "2021-11-14T12:31:46.595Z"
   },
   {
    "duration": 18,
    "start_time": "2021-11-14T12:33:39.728Z"
   },
   {
    "duration": 20,
    "start_time": "2021-11-14T12:35:10.414Z"
   },
   {
    "duration": 22,
    "start_time": "2021-11-14T12:35:19.028Z"
   },
   {
    "duration": 25,
    "start_time": "2021-11-14T12:36:15.353Z"
   },
   {
    "duration": 24,
    "start_time": "2021-11-14T12:36:25.502Z"
   },
   {
    "duration": 1735,
    "start_time": "2021-11-16T06:05:56.243Z"
   },
   {
    "duration": 4,
    "start_time": "2021-11-16T06:05:57.981Z"
   },
   {
    "duration": 97,
    "start_time": "2021-11-16T06:05:57.989Z"
   },
   {
    "duration": 24,
    "start_time": "2021-11-16T06:05:58.090Z"
   },
   {
    "duration": 12,
    "start_time": "2021-11-16T06:05:58.117Z"
   },
   {
    "duration": 37,
    "start_time": "2021-11-16T06:05:58.132Z"
   },
   {
    "duration": 15,
    "start_time": "2021-11-16T06:05:58.172Z"
   },
   {
    "duration": 13,
    "start_time": "2021-11-16T06:05:58.192Z"
   },
   {
    "duration": 12,
    "start_time": "2021-11-16T06:05:58.208Z"
   },
   {
    "duration": 12,
    "start_time": "2021-11-16T06:05:58.222Z"
   },
   {
    "duration": 37,
    "start_time": "2021-11-16T06:05:58.237Z"
   },
   {
    "duration": 6,
    "start_time": "2021-11-16T06:05:58.276Z"
   },
   {
    "duration": 13,
    "start_time": "2021-11-16T06:05:58.284Z"
   },
   {
    "duration": 7,
    "start_time": "2021-11-16T06:05:58.299Z"
   },
   {
    "duration": 9,
    "start_time": "2021-11-16T06:05:58.308Z"
   },
   {
    "duration": 49,
    "start_time": "2021-11-16T06:05:58.320Z"
   },
   {
    "duration": 16,
    "start_time": "2021-11-16T06:05:58.371Z"
   },
   {
    "duration": 12,
    "start_time": "2021-11-16T06:05:58.389Z"
   },
   {
    "duration": 15,
    "start_time": "2021-11-16T06:05:58.403Z"
   },
   {
    "duration": 8,
    "start_time": "2021-11-16T06:05:58.420Z"
   },
   {
    "duration": 47,
    "start_time": "2021-11-16T06:05:58.430Z"
   },
   {
    "duration": 24,
    "start_time": "2021-11-16T06:05:58.480Z"
   },
   {
    "duration": 6,
    "start_time": "2021-11-16T06:05:58.509Z"
   },
   {
    "duration": 13,
    "start_time": "2021-11-16T06:05:58.518Z"
   },
   {
    "duration": 471,
    "start_time": "2021-11-16T06:05:58.534Z"
   },
   {
    "duration": 982,
    "start_time": "2021-11-16T06:05:58.026Z"
   },
   {
    "duration": 966,
    "start_time": "2021-11-16T06:05:58.043Z"
   },
   {
    "duration": 950,
    "start_time": "2021-11-16T06:05:58.060Z"
   },
   {
    "duration": 938,
    "start_time": "2021-11-16T06:05:58.074Z"
   },
   {
    "duration": 907,
    "start_time": "2021-11-16T06:05:58.106Z"
   },
   {
    "duration": 901,
    "start_time": "2021-11-16T06:05:58.114Z"
   },
   {
    "duration": 892,
    "start_time": "2021-11-16T06:05:58.124Z"
   },
   {
    "duration": 886,
    "start_time": "2021-11-16T06:05:58.132Z"
   },
   {
    "duration": 881,
    "start_time": "2021-11-16T06:05:58.138Z"
   },
   {
    "duration": 876,
    "start_time": "2021-11-16T06:05:58.145Z"
   },
   {
    "duration": 872,
    "start_time": "2021-11-16T06:05:58.150Z"
   },
   {
    "duration": 867,
    "start_time": "2021-11-16T06:05:58.156Z"
   },
   {
    "duration": 864,
    "start_time": "2021-11-16T06:05:58.161Z"
   },
   {
    "duration": 858,
    "start_time": "2021-11-16T06:05:58.168Z"
   },
   {
    "duration": 854,
    "start_time": "2021-11-16T06:05:58.173Z"
   },
   {
    "duration": 850,
    "start_time": "2021-11-16T06:05:58.179Z"
   },
   {
    "duration": 846,
    "start_time": "2021-11-16T06:05:58.184Z"
   },
   {
    "duration": 842,
    "start_time": "2021-11-16T06:05:58.189Z"
   },
   {
    "duration": 837,
    "start_time": "2021-11-16T06:05:58.196Z"
   },
   {
    "duration": 823,
    "start_time": "2021-11-16T06:05:58.211Z"
   },
   {
    "duration": 820,
    "start_time": "2021-11-16T06:05:58.215Z"
   },
   {
    "duration": 815,
    "start_time": "2021-11-16T06:05:58.222Z"
   },
   {
    "duration": 811,
    "start_time": "2021-11-16T06:05:58.227Z"
   },
   {
    "duration": 806,
    "start_time": "2021-11-16T06:05:58.233Z"
   },
   {
    "duration": 803,
    "start_time": "2021-11-16T06:05:58.238Z"
   },
   {
    "duration": 798,
    "start_time": "2021-11-16T06:05:58.244Z"
   },
   {
    "duration": 794,
    "start_time": "2021-11-16T06:05:58.249Z"
   },
   {
    "duration": 813,
    "start_time": "2021-11-16T06:05:58.255Z"
   },
   {
    "duration": 809,
    "start_time": "2021-11-16T06:05:58.260Z"
   },
   {
    "duration": 1746,
    "start_time": "2021-11-16T06:06:04.528Z"
   },
   {
    "duration": 31642,
    "start_time": "2021-11-16T06:06:06.277Z"
   },
   {
    "duration": 72,
    "start_time": "2021-11-16T06:06:37.922Z"
   },
   {
    "duration": 24,
    "start_time": "2021-11-16T06:06:37.997Z"
   },
   {
    "duration": 10,
    "start_time": "2021-11-16T06:06:38.023Z"
   },
   {
    "duration": 16,
    "start_time": "2021-11-16T06:06:38.036Z"
   },
   {
    "duration": 12,
    "start_time": "2021-11-16T06:06:38.068Z"
   },
   {
    "duration": 15,
    "start_time": "2021-11-16T06:06:38.085Z"
   },
   {
    "duration": 14,
    "start_time": "2021-11-16T06:06:38.104Z"
   },
   {
    "duration": 50,
    "start_time": "2021-11-16T06:06:38.121Z"
   },
   {
    "duration": 12,
    "start_time": "2021-11-16T06:06:38.175Z"
   },
   {
    "duration": 7,
    "start_time": "2021-11-16T06:06:38.190Z"
   },
   {
    "duration": 16,
    "start_time": "2021-11-16T06:06:38.200Z"
   },
   {
    "duration": 10,
    "start_time": "2021-11-16T06:06:38.219Z"
   },
   {
    "duration": 9,
    "start_time": "2021-11-16T06:06:38.267Z"
   },
   {
    "duration": 10,
    "start_time": "2021-11-16T06:06:38.279Z"
   },
   {
    "duration": 16,
    "start_time": "2021-11-16T06:06:38.291Z"
   },
   {
    "duration": 11,
    "start_time": "2021-11-16T06:06:38.310Z"
   },
   {
    "duration": 53,
    "start_time": "2021-11-16T06:06:38.324Z"
   },
   {
    "duration": 6,
    "start_time": "2021-11-16T06:06:38.380Z"
   },
   {
    "duration": 16,
    "start_time": "2021-11-16T06:06:38.389Z"
   },
   {
    "duration": 59,
    "start_time": "2021-11-16T06:06:38.408Z"
   },
   {
    "duration": 5,
    "start_time": "2021-11-16T06:06:38.473Z"
   },
   {
    "duration": 10,
    "start_time": "2021-11-16T06:06:38.482Z"
   },
   {
    "duration": 436,
    "start_time": "2021-11-16T06:06:38.494Z"
   },
   {
    "duration": 687,
    "start_time": "2021-11-16T06:06:38.246Z"
   },
   {
    "duration": 686,
    "start_time": "2021-11-16T06:06:38.249Z"
   },
   {
    "duration": 683,
    "start_time": "2021-11-16T06:06:38.253Z"
   },
   {
    "duration": 679,
    "start_time": "2021-11-16T06:06:38.258Z"
   },
   {
    "duration": 677,
    "start_time": "2021-11-16T06:06:38.262Z"
   },
   {
    "duration": 673,
    "start_time": "2021-11-16T06:06:38.267Z"
   },
   {
    "duration": 671,
    "start_time": "2021-11-16T06:06:38.270Z"
   },
   {
    "duration": 668,
    "start_time": "2021-11-16T06:06:38.275Z"
   },
   {
    "duration": 666,
    "start_time": "2021-11-16T06:06:38.278Z"
   },
   {
    "duration": 663,
    "start_time": "2021-11-16T06:06:38.282Z"
   },
   {
    "duration": 661,
    "start_time": "2021-11-16T06:06:38.286Z"
   },
   {
    "duration": 657,
    "start_time": "2021-11-16T06:06:38.291Z"
   },
   {
    "duration": 654,
    "start_time": "2021-11-16T06:06:38.295Z"
   },
   {
    "duration": 652,
    "start_time": "2021-11-16T06:06:38.299Z"
   },
   {
    "duration": 650,
    "start_time": "2021-11-16T06:06:38.302Z"
   },
   {
    "duration": 646,
    "start_time": "2021-11-16T06:06:38.307Z"
   },
   {
    "duration": 645,
    "start_time": "2021-11-16T06:06:38.310Z"
   },
   {
    "duration": 641,
    "start_time": "2021-11-16T06:06:38.315Z"
   },
   {
    "duration": 639,
    "start_time": "2021-11-16T06:06:38.318Z"
   },
   {
    "duration": 637,
    "start_time": "2021-11-16T06:06:38.322Z"
   },
   {
    "duration": 634,
    "start_time": "2021-11-16T06:06:38.326Z"
   },
   {
    "duration": 631,
    "start_time": "2021-11-16T06:06:38.330Z"
   },
   {
    "duration": 630,
    "start_time": "2021-11-16T06:06:38.333Z"
   },
   {
    "duration": 627,
    "start_time": "2021-11-16T06:06:38.337Z"
   },
   {
    "duration": 623,
    "start_time": "2021-11-16T06:06:38.342Z"
   },
   {
    "duration": 613,
    "start_time": "2021-11-16T06:06:38.354Z"
   },
   {
    "duration": 609,
    "start_time": "2021-11-16T06:06:38.359Z"
   },
   {
    "duration": 605,
    "start_time": "2021-11-16T06:06:38.364Z"
   },
   {
    "duration": 602,
    "start_time": "2021-11-16T06:06:38.368Z"
   },
   {
    "duration": 1416,
    "start_time": "2021-11-16T06:07:02.960Z"
   },
   {
    "duration": 5,
    "start_time": "2021-11-16T06:07:04.379Z"
   },
   {
    "duration": 74,
    "start_time": "2021-11-16T06:07:04.387Z"
   },
   {
    "duration": 25,
    "start_time": "2021-11-16T06:07:04.464Z"
   },
   {
    "duration": 62,
    "start_time": "2021-11-16T06:07:04.491Z"
   },
   {
    "duration": 24,
    "start_time": "2021-11-16T06:07:04.555Z"
   },
   {
    "duration": 10,
    "start_time": "2021-11-16T06:07:04.582Z"
   },
   {
    "duration": 13,
    "start_time": "2021-11-16T06:07:04.596Z"
   },
   {
    "duration": 9,
    "start_time": "2021-11-16T06:07:04.612Z"
   },
   {
    "duration": 52,
    "start_time": "2021-11-16T06:07:04.623Z"
   },
   {
    "duration": 8,
    "start_time": "2021-11-16T06:07:04.683Z"
   },
   {
    "duration": 5,
    "start_time": "2021-11-16T06:07:04.693Z"
   },
   {
    "duration": 14,
    "start_time": "2021-11-16T06:07:04.700Z"
   },
   {
    "duration": 7,
    "start_time": "2021-11-16T06:07:04.716Z"
   },
   {
    "duration": 12,
    "start_time": "2021-11-16T06:07:04.767Z"
   },
   {
    "duration": 5,
    "start_time": "2021-11-16T06:07:04.782Z"
   },
   {
    "duration": 14,
    "start_time": "2021-11-16T06:07:04.790Z"
   },
   {
    "duration": 9,
    "start_time": "2021-11-16T06:07:04.806Z"
   },
   {
    "duration": 60,
    "start_time": "2021-11-16T06:07:04.818Z"
   },
   {
    "duration": 8,
    "start_time": "2021-11-16T06:07:04.884Z"
   },
   {
    "duration": 19,
    "start_time": "2021-11-16T06:07:04.895Z"
   },
   {
    "duration": 58,
    "start_time": "2021-11-16T06:07:04.917Z"
   },
   {
    "duration": 6,
    "start_time": "2021-11-16T06:07:04.983Z"
   },
   {
    "duration": 15,
    "start_time": "2021-11-16T06:07:04.992Z"
   },
   {
    "duration": 655,
    "start_time": "2021-11-16T06:07:05.009Z"
   },
   {
    "duration": 35,
    "start_time": "2021-11-16T06:07:05.667Z"
   },
   {
    "duration": 1187,
    "start_time": "2021-11-16T06:07:05.705Z"
   },
   {
    "duration": 52,
    "start_time": "2021-11-16T06:07:06.895Z"
   },
   {
    "duration": 18,
    "start_time": "2021-11-16T06:07:06.950Z"
   },
   {
    "duration": 16,
    "start_time": "2021-11-16T06:07:06.970Z"
   },
   {
    "duration": 114,
    "start_time": "2021-11-16T06:07:06.989Z"
   },
   {
    "duration": 69,
    "start_time": "2021-11-16T06:07:07.106Z"
   },
   {
    "duration": 15,
    "start_time": "2021-11-16T06:07:07.178Z"
   },
   {
    "duration": 24,
    "start_time": "2021-11-16T06:07:07.196Z"
   },
   {
    "duration": 8,
    "start_time": "2021-11-16T06:07:07.222Z"
   },
   {
    "duration": 18,
    "start_time": "2021-11-16T06:07:07.232Z"
   },
   {
    "duration": 137,
    "start_time": "2021-11-16T06:07:07.252Z"
   },
   {
    "duration": 51,
    "start_time": "2021-11-16T06:07:07.392Z"
   },
   {
    "duration": 23,
    "start_time": "2021-11-16T06:07:07.446Z"
   },
   {
    "duration": 60,
    "start_time": "2021-11-16T06:07:07.472Z"
   },
   {
    "duration": 37,
    "start_time": "2021-11-16T06:07:07.534Z"
   },
   {
    "duration": 93,
    "start_time": "2021-11-16T06:07:07.574Z"
   },
   {
    "duration": 8,
    "start_time": "2021-11-16T06:07:07.676Z"
   },
   {
    "duration": 9,
    "start_time": "2021-11-16T06:07:07.687Z"
   },
   {
    "duration": 8,
    "start_time": "2021-11-16T06:07:07.699Z"
   },
   {
    "duration": 7,
    "start_time": "2021-11-16T06:07:07.709Z"
   },
   {
    "duration": 54,
    "start_time": "2021-11-16T06:07:07.718Z"
   },
   {
    "duration": 12,
    "start_time": "2021-11-16T06:07:07.775Z"
   },
   {
    "duration": 9,
    "start_time": "2021-11-16T06:07:07.789Z"
   },
   {
    "duration": 10,
    "start_time": "2021-11-16T06:07:07.801Z"
   },
   {
    "duration": 68,
    "start_time": "2021-11-16T06:07:07.814Z"
   },
   {
    "duration": 26,
    "start_time": "2021-11-16T06:07:07.884Z"
   },
   {
    "duration": 491,
    "start_time": "2021-11-16T06:07:07.913Z"
   },
   {
    "duration": -85,
    "start_time": "2021-11-16T06:07:08.491Z"
   },
   {
    "duration": 13,
    "start_time": "2021-11-16T06:11:42.902Z"
   },
   {
    "duration": 12,
    "start_time": "2021-11-16T06:11:49.630Z"
   },
   {
    "duration": 23,
    "start_time": "2021-11-16T06:14:40.881Z"
   },
   {
    "duration": 6,
    "start_time": "2021-11-16T06:14:41.358Z"
   },
   {
    "duration": 8,
    "start_time": "2021-11-16T06:14:42.843Z"
   },
   {
    "duration": 10,
    "start_time": "2021-11-16T06:14:46.735Z"
   },
   {
    "duration": 1915,
    "start_time": "2021-11-16T06:15:05.638Z"
   },
   {
    "duration": 10,
    "start_time": "2021-11-16T06:15:07.557Z"
   },
   {
    "duration": 69,
    "start_time": "2021-11-16T06:15:07.572Z"
   },
   {
    "duration": 36,
    "start_time": "2021-11-16T06:15:07.645Z"
   },
   {
    "duration": 100,
    "start_time": "2021-11-16T06:15:07.684Z"
   },
   {
    "duration": 18,
    "start_time": "2021-11-16T06:15:07.787Z"
   },
   {
    "duration": 17,
    "start_time": "2021-11-16T06:15:07.808Z"
   },
   {
    "duration": 45,
    "start_time": "2021-11-16T06:15:07.831Z"
   },
   {
    "duration": 12,
    "start_time": "2021-11-16T06:15:07.880Z"
   },
   {
    "duration": 12,
    "start_time": "2021-11-16T06:15:07.896Z"
   },
   {
    "duration": 12,
    "start_time": "2021-11-16T06:15:07.911Z"
   },
   {
    "duration": 46,
    "start_time": "2021-11-16T06:15:07.926Z"
   },
   {
    "duration": 17,
    "start_time": "2021-11-16T06:15:07.976Z"
   },
   {
    "duration": 10,
    "start_time": "2021-11-16T06:15:07.996Z"
   },
   {
    "duration": 14,
    "start_time": "2021-11-16T06:15:08.009Z"
   },
   {
    "duration": 49,
    "start_time": "2021-11-16T06:15:08.026Z"
   },
   {
    "duration": 19,
    "start_time": "2021-11-16T06:15:08.079Z"
   },
   {
    "duration": 12,
    "start_time": "2021-11-16T06:15:08.101Z"
   },
   {
    "duration": 15,
    "start_time": "2021-11-16T06:15:08.116Z"
   },
   {
    "duration": 37,
    "start_time": "2021-11-16T06:15:08.134Z"
   },
   {
    "duration": 23,
    "start_time": "2021-11-16T06:15:08.173Z"
   },
   {
    "duration": 23,
    "start_time": "2021-11-16T06:15:08.199Z"
   },
   {
    "duration": 43,
    "start_time": "2021-11-16T06:15:08.228Z"
   },
   {
    "duration": 14,
    "start_time": "2021-11-16T06:15:08.275Z"
   },
   {
    "duration": 637,
    "start_time": "2021-11-16T06:15:08.292Z"
   },
   {
    "duration": 50,
    "start_time": "2021-11-16T06:15:08.932Z"
   },
   {
    "duration": 6,
    "start_time": "2021-11-16T06:15:08.985Z"
   },
   {
    "duration": 11,
    "start_time": "2021-11-16T06:15:08.994Z"
   },
   {
    "duration": 61,
    "start_time": "2021-11-16T06:15:09.008Z"
   },
   {
    "duration": 11,
    "start_time": "2021-11-16T06:15:09.072Z"
   },
   {
    "duration": 200,
    "start_time": "2021-11-16T06:15:09.085Z"
   },
   {
    "duration": 48,
    "start_time": "2021-11-16T06:15:09.289Z"
   },
   {
    "duration": 43,
    "start_time": "2021-11-16T06:15:09.340Z"
   },
   {
    "duration": 32,
    "start_time": "2021-11-16T06:15:09.385Z"
   },
   {
    "duration": 14,
    "start_time": "2021-11-16T06:15:09.419Z"
   },
   {
    "duration": 28,
    "start_time": "2021-11-16T06:15:09.437Z"
   },
   {
    "duration": 119,
    "start_time": "2021-11-16T06:15:09.468Z"
   },
   {
    "duration": 53,
    "start_time": "2021-11-16T06:15:09.591Z"
   },
   {
    "duration": 28,
    "start_time": "2021-11-16T06:15:09.647Z"
   },
   {
    "duration": 94,
    "start_time": "2021-11-16T06:15:09.679Z"
   },
   {
    "duration": 7,
    "start_time": "2021-11-16T06:15:09.776Z"
   },
   {
    "duration": 95,
    "start_time": "2021-11-16T06:15:09.786Z"
   },
   {
    "duration": 9,
    "start_time": "2021-11-16T06:15:09.884Z"
   },
   {
    "duration": 8,
    "start_time": "2021-11-16T06:15:09.896Z"
   },
   {
    "duration": 69,
    "start_time": "2021-11-16T06:15:09.907Z"
   },
   {
    "duration": 19,
    "start_time": "2021-11-16T06:15:09.978Z"
   },
   {
    "duration": 8,
    "start_time": "2021-11-16T06:15:10.000Z"
   },
   {
    "duration": 17,
    "start_time": "2021-11-16T06:15:10.010Z"
   },
   {
    "duration": 14,
    "start_time": "2021-11-16T06:15:10.029Z"
   },
   {
    "duration": 8,
    "start_time": "2021-11-16T06:15:10.068Z"
   },
   {
    "duration": 16,
    "start_time": "2021-11-16T06:15:10.079Z"
   },
   {
    "duration": 12,
    "start_time": "2021-11-16T06:15:10.098Z"
   },
   {
    "duration": 27,
    "start_time": "2021-11-16T06:15:10.113Z"
   },
   {
    "duration": 22,
    "start_time": "2021-11-16T06:15:10.167Z"
   },
   {
    "duration": 487,
    "start_time": "2021-11-16T06:15:10.192Z"
   },
   {
    "duration": 437,
    "start_time": "2021-11-16T06:15:10.245Z"
   },
   {
    "duration": 297,
    "start_time": "2021-11-16T06:15:51.085Z"
   },
   {
    "duration": 12,
    "start_time": "2021-11-16T06:15:59.643Z"
   },
   {
    "duration": 287,
    "start_time": "2021-11-16T06:16:06.819Z"
   },
   {
    "duration": 1027,
    "start_time": "2021-11-16T06:16:33.269Z"
   },
   {
    "duration": 6485,
    "start_time": "2021-11-16T06:16:36.953Z"
   },
   {
    "duration": 6,
    "start_time": "2021-11-16T06:16:47.246Z"
   },
   {
    "duration": 1019,
    "start_time": "2021-11-16T06:16:57.954Z"
   },
   {
    "duration": 12,
    "start_time": "2021-11-16T06:17:00.744Z"
   },
   {
    "duration": 9,
    "start_time": "2021-11-16T06:17:21.196Z"
   },
   {
    "duration": 11,
    "start_time": "2021-11-16T06:18:39.781Z"
   },
   {
    "duration": 13,
    "start_time": "2021-11-16T06:19:10.189Z"
   },
   {
    "duration": 12,
    "start_time": "2021-11-16T06:19:49.188Z"
   },
   {
    "duration": 266,
    "start_time": "2021-11-16T06:19:58.037Z"
   },
   {
    "duration": 11,
    "start_time": "2021-11-16T06:20:34.352Z"
   },
   {
    "duration": 8,
    "start_time": "2021-11-16T06:20:46.342Z"
   },
   {
    "duration": 8,
    "start_time": "2021-11-16T06:20:50.749Z"
   },
   {
    "duration": 8,
    "start_time": "2021-11-16T06:21:04.345Z"
   },
   {
    "duration": 7,
    "start_time": "2021-11-16T06:21:45.413Z"
   },
   {
    "duration": 7,
    "start_time": "2021-11-16T06:21:54.742Z"
   },
   {
    "duration": 11,
    "start_time": "2021-11-16T06:22:06.881Z"
   },
   {
    "duration": 7,
    "start_time": "2021-11-16T06:22:24.000Z"
   },
   {
    "duration": 9,
    "start_time": "2021-11-16T06:23:49.918Z"
   },
   {
    "duration": 9,
    "start_time": "2021-11-16T06:24:05.674Z"
   },
   {
    "duration": 6,
    "start_time": "2021-11-16T06:24:12.112Z"
   },
   {
    "duration": 9,
    "start_time": "2021-11-16T06:24:21.725Z"
   },
   {
    "duration": 8,
    "start_time": "2021-11-16T06:24:32.806Z"
   },
   {
    "duration": 7,
    "start_time": "2021-11-16T06:24:40.847Z"
   },
   {
    "duration": 12,
    "start_time": "2021-11-16T06:24:57.012Z"
   },
   {
    "duration": 11,
    "start_time": "2021-11-16T06:25:05.273Z"
   },
   {
    "duration": 9,
    "start_time": "2021-11-16T06:25:17.971Z"
   },
   {
    "duration": 1047,
    "start_time": "2021-11-16T06:25:34.396Z"
   },
   {
    "duration": 13,
    "start_time": "2021-11-16T06:25:39.011Z"
   },
   {
    "duration": 26,
    "start_time": "2021-11-16T06:26:13.856Z"
   },
   {
    "duration": 18,
    "start_time": "2021-11-16T06:26:14.408Z"
   },
   {
    "duration": 8237,
    "start_time": "2021-11-16T06:26:14.815Z"
   },
   {
    "duration": 881,
    "start_time": "2021-11-16T06:26:22.173Z"
   },
   {
    "duration": 856,
    "start_time": "2021-11-16T06:26:22.200Z"
   },
   {
    "duration": 13,
    "start_time": "2021-11-16T06:26:53.941Z"
   },
   {
    "duration": 17,
    "start_time": "2021-11-16T06:27:01.069Z"
   },
   {
    "duration": 34,
    "start_time": "2021-11-16T06:27:20.256Z"
   },
   {
    "duration": 1507,
    "start_time": "2021-11-16T06:27:35.578Z"
   },
   {
    "duration": 3,
    "start_time": "2021-11-16T06:27:37.088Z"
   },
   {
    "duration": 67,
    "start_time": "2021-11-16T06:27:37.094Z"
   },
   {
    "duration": 28,
    "start_time": "2021-11-16T06:27:37.164Z"
   },
   {
    "duration": 88,
    "start_time": "2021-11-16T06:27:37.195Z"
   },
   {
    "duration": 21,
    "start_time": "2021-11-16T06:27:37.286Z"
   },
   {
    "duration": 12,
    "start_time": "2021-11-16T06:27:37.309Z"
   },
   {
    "duration": 16,
    "start_time": "2021-11-16T06:27:37.325Z"
   },
   {
    "duration": 31,
    "start_time": "2021-11-16T06:27:37.344Z"
   },
   {
    "duration": 18,
    "start_time": "2021-11-16T06:27:37.378Z"
   },
   {
    "duration": 9,
    "start_time": "2021-11-16T06:27:37.398Z"
   },
   {
    "duration": 10,
    "start_time": "2021-11-16T06:27:37.410Z"
   },
   {
    "duration": 49,
    "start_time": "2021-11-16T06:27:37.422Z"
   },
   {
    "duration": 7,
    "start_time": "2021-11-16T06:27:37.474Z"
   },
   {
    "duration": 12,
    "start_time": "2021-11-16T06:27:37.486Z"
   },
   {
    "duration": 10,
    "start_time": "2021-11-16T06:27:37.500Z"
   },
   {
    "duration": 16,
    "start_time": "2021-11-16T06:27:37.513Z"
   },
   {
    "duration": 56,
    "start_time": "2021-11-16T06:27:37.531Z"
   },
   {
    "duration": 13,
    "start_time": "2021-11-16T06:27:37.590Z"
   },
   {
    "duration": 11,
    "start_time": "2021-11-16T06:27:37.606Z"
   },
   {
    "duration": 21,
    "start_time": "2021-11-16T06:27:37.619Z"
   },
   {
    "duration": 54,
    "start_time": "2021-11-16T06:27:37.642Z"
   },
   {
    "duration": 6,
    "start_time": "2021-11-16T06:27:37.701Z"
   },
   {
    "duration": 12,
    "start_time": "2021-11-16T06:27:37.710Z"
   },
   {
    "duration": 662,
    "start_time": "2021-11-16T06:27:37.724Z"
   },
   {
    "duration": 26,
    "start_time": "2021-11-16T06:27:38.390Z"
   },
   {
    "duration": 7,
    "start_time": "2021-11-16T06:27:38.470Z"
   },
   {
    "duration": 10,
    "start_time": "2021-11-16T06:27:38.480Z"
   },
   {
    "duration": 11,
    "start_time": "2021-11-16T06:27:38.493Z"
   },
   {
    "duration": 8,
    "start_time": "2021-11-16T06:27:38.507Z"
   },
   {
    "duration": 269,
    "start_time": "2021-11-16T06:27:38.517Z"
   },
   {
    "duration": 51,
    "start_time": "2021-11-16T06:27:38.789Z"
   },
   {
    "duration": 41,
    "start_time": "2021-11-16T06:27:38.842Z"
   },
   {
    "duration": 20,
    "start_time": "2021-11-16T06:27:38.885Z"
   },
   {
    "duration": 6,
    "start_time": "2021-11-16T06:27:38.908Z"
   },
   {
    "duration": 8,
    "start_time": "2021-11-16T06:27:38.916Z"
   },
   {
    "duration": 152,
    "start_time": "2021-11-16T06:27:38.927Z"
   },
   {
    "duration": 51,
    "start_time": "2021-11-16T06:27:39.083Z"
   },
   {
    "duration": 41,
    "start_time": "2021-11-16T06:27:39.136Z"
   },
   {
    "duration": 63,
    "start_time": "2021-11-16T06:27:39.180Z"
   },
   {
    "duration": 26,
    "start_time": "2021-11-16T06:27:39.245Z"
   },
   {
    "duration": 65,
    "start_time": "2021-11-16T06:27:39.279Z"
   },
   {
    "duration": 9,
    "start_time": "2021-11-16T06:27:39.368Z"
   },
   {
    "duration": 11,
    "start_time": "2021-11-16T06:27:39.388Z"
   },
   {
    "duration": 12,
    "start_time": "2021-11-16T06:27:39.402Z"
   },
   {
    "duration": 19,
    "start_time": "2021-11-16T06:27:39.417Z"
   },
   {
    "duration": 43,
    "start_time": "2021-11-16T06:27:39.439Z"
   },
   {
    "duration": 12,
    "start_time": "2021-11-16T06:27:39.486Z"
   },
   {
    "duration": 8,
    "start_time": "2021-11-16T06:27:39.501Z"
   },
   {
    "duration": 9,
    "start_time": "2021-11-16T06:27:39.511Z"
   },
   {
    "duration": 45,
    "start_time": "2021-11-16T06:27:39.523Z"
   },
   {
    "duration": 23,
    "start_time": "2021-11-16T06:27:39.571Z"
   },
   {
    "duration": 20,
    "start_time": "2021-11-16T06:27:39.597Z"
   },
   {
    "duration": 14,
    "start_time": "2021-11-16T06:27:39.619Z"
   },
   {
    "duration": 22,
    "start_time": "2021-11-16T06:27:39.635Z"
   },
   {
    "duration": 37,
    "start_time": "2021-11-16T06:27:39.660Z"
   },
   {
    "duration": 628,
    "start_time": "2021-11-16T06:27:39.700Z"
   },
   {
    "duration": 382,
    "start_time": "2021-11-16T06:27:39.949Z"
   },
   {
    "duration": 6,
    "start_time": "2021-11-16T06:29:01.548Z"
   },
   {
    "duration": 415,
    "start_time": "2021-11-16T06:29:21.119Z"
   },
   {
    "duration": 113,
    "start_time": "2021-11-16T06:29:33.659Z"
   },
   {
    "duration": 10,
    "start_time": "2021-11-16T06:31:44.045Z"
   },
   {
    "duration": 1471,
    "start_time": "2021-11-16T06:35:13.512Z"
   },
   {
    "duration": 4,
    "start_time": "2021-11-16T06:35:14.986Z"
   },
   {
    "duration": 81,
    "start_time": "2021-11-16T06:35:14.994Z"
   },
   {
    "duration": 28,
    "start_time": "2021-11-16T06:35:15.079Z"
   },
   {
    "duration": 81,
    "start_time": "2021-11-16T06:35:15.110Z"
   },
   {
    "duration": 19,
    "start_time": "2021-11-16T06:35:15.195Z"
   },
   {
    "duration": 12,
    "start_time": "2021-11-16T06:35:15.217Z"
   },
   {
    "duration": 47,
    "start_time": "2021-11-16T06:35:15.233Z"
   },
   {
    "duration": 10,
    "start_time": "2021-11-16T06:35:15.283Z"
   },
   {
    "duration": 13,
    "start_time": "2021-11-16T06:35:15.295Z"
   },
   {
    "duration": 12,
    "start_time": "2021-11-16T06:35:15.310Z"
   },
   {
    "duration": 8,
    "start_time": "2021-11-16T06:35:15.324Z"
   },
   {
    "duration": 47,
    "start_time": "2021-11-16T06:35:15.334Z"
   },
   {
    "duration": 7,
    "start_time": "2021-11-16T06:35:15.384Z"
   },
   {
    "duration": 14,
    "start_time": "2021-11-16T06:35:15.394Z"
   },
   {
    "duration": 10,
    "start_time": "2021-11-16T06:35:15.410Z"
   },
   {
    "duration": 50,
    "start_time": "2021-11-16T06:35:15.423Z"
   },
   {
    "duration": 12,
    "start_time": "2021-11-16T06:35:15.476Z"
   },
   {
    "duration": 14,
    "start_time": "2021-11-16T06:35:15.490Z"
   },
   {
    "duration": 11,
    "start_time": "2021-11-16T06:35:15.506Z"
   },
   {
    "duration": 51,
    "start_time": "2021-11-16T06:35:15.520Z"
   },
   {
    "duration": 33,
    "start_time": "2021-11-16T06:35:15.575Z"
   },
   {
    "duration": 6,
    "start_time": "2021-11-16T06:35:15.613Z"
   },
   {
    "duration": 15,
    "start_time": "2021-11-16T06:35:15.622Z"
   },
   {
    "duration": 722,
    "start_time": "2021-11-16T06:35:15.639Z"
   },
   {
    "duration": 35,
    "start_time": "2021-11-16T06:35:16.364Z"
   },
   {
    "duration": 10,
    "start_time": "2021-11-16T06:35:16.402Z"
   },
   {
    "duration": 69,
    "start_time": "2021-11-16T06:35:16.415Z"
   },
   {
    "duration": 11,
    "start_time": "2021-11-16T06:35:16.487Z"
   },
   {
    "duration": 7,
    "start_time": "2021-11-16T06:35:16.501Z"
   },
   {
    "duration": 214,
    "start_time": "2021-11-16T06:35:16.511Z"
   },
   {
    "duration": 58,
    "start_time": "2021-11-16T06:35:16.772Z"
   },
   {
    "duration": 14,
    "start_time": "2021-11-16T06:35:16.833Z"
   },
   {
    "duration": 38,
    "start_time": "2021-11-16T06:35:16.850Z"
   },
   {
    "duration": 10,
    "start_time": "2021-11-16T06:35:16.891Z"
   },
   {
    "duration": 10,
    "start_time": "2021-11-16T06:35:16.904Z"
   },
   {
    "duration": 138,
    "start_time": "2021-11-16T06:35:16.916Z"
   },
   {
    "duration": 60,
    "start_time": "2021-11-16T06:35:17.056Z"
   },
   {
    "duration": 10,
    "start_time": "2021-11-16T06:35:17.118Z"
   },
   {
    "duration": 92,
    "start_time": "2021-11-16T06:35:17.131Z"
   },
   {
    "duration": 7,
    "start_time": "2021-11-16T06:35:17.225Z"
   },
   {
    "duration": 96,
    "start_time": "2021-11-16T06:35:17.235Z"
   },
   {
    "duration": 8,
    "start_time": "2021-11-16T06:35:17.334Z"
   },
   {
    "duration": 34,
    "start_time": "2021-11-16T06:35:17.345Z"
   },
   {
    "duration": 6,
    "start_time": "2021-11-16T06:35:17.384Z"
   },
   {
    "duration": 7,
    "start_time": "2021-11-16T06:35:17.393Z"
   },
   {
    "duration": 9,
    "start_time": "2021-11-16T06:35:17.403Z"
   },
   {
    "duration": 11,
    "start_time": "2021-11-16T06:35:17.415Z"
   },
   {
    "duration": 57,
    "start_time": "2021-11-16T06:35:17.428Z"
   },
   {
    "duration": 29,
    "start_time": "2021-11-16T06:35:17.487Z"
   },
   {
    "duration": 21,
    "start_time": "2021-11-16T06:35:17.519Z"
   },
   {
    "duration": 1196,
    "start_time": "2021-11-16T06:35:17.542Z"
   },
   {
    "duration": 690,
    "start_time": "2021-11-16T06:35:18.050Z"
   },
   {
    "duration": 9,
    "start_time": "2021-11-16T06:36:53.768Z"
   },
   {
    "duration": 24,
    "start_time": "2021-11-16T06:37:28.163Z"
   },
   {
    "duration": 23,
    "start_time": "2021-11-16T06:37:32.215Z"
   },
   {
    "duration": 18,
    "start_time": "2021-11-16T06:37:32.763Z"
   },
   {
    "duration": 22,
    "start_time": "2021-11-16T06:37:37.495Z"
   },
   {
    "duration": 5,
    "start_time": "2021-11-16T06:37:38.305Z"
   },
   {
    "duration": 8,
    "start_time": "2021-11-16T06:37:38.809Z"
   },
   {
    "duration": 126,
    "start_time": "2021-11-16T06:37:39.304Z"
   },
   {
    "duration": 11,
    "start_time": "2021-11-16T06:39:46.419Z"
   },
   {
    "duration": 9,
    "start_time": "2021-11-16T06:40:21.734Z"
   },
   {
    "duration": 1474,
    "start_time": "2021-11-16T06:40:31.673Z"
   },
   {
    "duration": 4,
    "start_time": "2021-11-16T06:40:33.150Z"
   },
   {
    "duration": 72,
    "start_time": "2021-11-16T06:40:33.157Z"
   },
   {
    "duration": 23,
    "start_time": "2021-11-16T06:40:33.231Z"
   },
   {
    "duration": 76,
    "start_time": "2021-11-16T06:40:33.256Z"
   },
   {
    "duration": 19,
    "start_time": "2021-11-16T06:40:33.334Z"
   },
   {
    "duration": 21,
    "start_time": "2021-11-16T06:40:33.356Z"
   },
   {
    "duration": 13,
    "start_time": "2021-11-16T06:40:33.383Z"
   },
   {
    "duration": 15,
    "start_time": "2021-11-16T06:40:33.400Z"
   },
   {
    "duration": 19,
    "start_time": "2021-11-16T06:40:33.418Z"
   },
   {
    "duration": 44,
    "start_time": "2021-11-16T06:40:33.440Z"
   },
   {
    "duration": 7,
    "start_time": "2021-11-16T06:40:33.488Z"
   },
   {
    "duration": 21,
    "start_time": "2021-11-16T06:40:33.498Z"
   },
   {
    "duration": 13,
    "start_time": "2021-11-16T06:40:33.522Z"
   },
   {
    "duration": 37,
    "start_time": "2021-11-16T06:40:33.538Z"
   },
   {
    "duration": 12,
    "start_time": "2021-11-16T06:40:33.579Z"
   },
   {
    "duration": 12,
    "start_time": "2021-11-16T06:40:33.594Z"
   },
   {
    "duration": 16,
    "start_time": "2021-11-16T06:40:33.610Z"
   },
   {
    "duration": 48,
    "start_time": "2021-11-16T06:40:33.629Z"
   },
   {
    "duration": 7,
    "start_time": "2021-11-16T06:40:33.680Z"
   },
   {
    "duration": 31,
    "start_time": "2021-11-16T06:40:33.690Z"
   },
   {
    "duration": 27,
    "start_time": "2021-11-16T06:40:33.724Z"
   },
   {
    "duration": 6,
    "start_time": "2021-11-16T06:40:33.777Z"
   },
   {
    "duration": 9,
    "start_time": "2021-11-16T06:40:33.788Z"
   },
   {
    "duration": 675,
    "start_time": "2021-11-16T06:40:33.800Z"
   },
   {
    "duration": 31,
    "start_time": "2021-11-16T06:40:34.488Z"
   },
   {
    "duration": 51,
    "start_time": "2021-11-16T06:40:34.522Z"
   },
   {
    "duration": 15,
    "start_time": "2021-11-16T06:40:34.576Z"
   },
   {
    "duration": 17,
    "start_time": "2021-11-16T06:40:34.594Z"
   },
   {
    "duration": 62,
    "start_time": "2021-11-16T06:40:34.613Z"
   },
   {
    "duration": 213,
    "start_time": "2021-11-16T06:40:34.678Z"
   },
   {
    "duration": 46,
    "start_time": "2021-11-16T06:40:34.893Z"
   },
   {
    "duration": 42,
    "start_time": "2021-11-16T06:40:34.941Z"
   },
   {
    "duration": 22,
    "start_time": "2021-11-16T06:40:34.987Z"
   },
   {
    "duration": 12,
    "start_time": "2021-11-16T06:40:35.012Z"
   },
   {
    "duration": 9,
    "start_time": "2021-11-16T06:40:35.027Z"
   },
   {
    "duration": 166,
    "start_time": "2021-11-16T06:40:35.039Z"
   },
   {
    "duration": 94,
    "start_time": "2021-11-16T06:40:35.208Z"
   },
   {
    "duration": 9,
    "start_time": "2021-11-16T06:40:35.305Z"
   },
   {
    "duration": 86,
    "start_time": "2021-11-16T06:40:35.316Z"
   },
   {
    "duration": 6,
    "start_time": "2021-11-16T06:40:35.404Z"
   },
   {
    "duration": 119,
    "start_time": "2021-11-16T06:40:35.412Z"
   },
   {
    "duration": 8,
    "start_time": "2021-11-16T06:40:35.534Z"
   },
   {
    "duration": 42,
    "start_time": "2021-11-16T06:40:35.545Z"
   },
   {
    "duration": 10,
    "start_time": "2021-11-16T06:40:35.590Z"
   },
   {
    "duration": 14,
    "start_time": "2021-11-16T06:40:35.602Z"
   },
   {
    "duration": 17,
    "start_time": "2021-11-16T06:40:35.619Z"
   },
   {
    "duration": 10,
    "start_time": "2021-11-16T06:40:35.638Z"
   },
   {
    "duration": 45,
    "start_time": "2021-11-16T06:40:35.651Z"
   },
   {
    "duration": 22,
    "start_time": "2021-11-16T06:40:35.699Z"
   },
   {
    "duration": 7,
    "start_time": "2021-11-16T06:40:46.562Z"
   },
   {
    "duration": 7,
    "start_time": "2021-11-16T06:40:54.846Z"
   },
   {
    "duration": 6,
    "start_time": "2021-11-16T06:41:00.704Z"
   },
   {
    "duration": 6,
    "start_time": "2021-11-16T06:41:14.107Z"
   },
   {
    "duration": 6,
    "start_time": "2021-11-16T06:41:22.593Z"
   },
   {
    "duration": 12,
    "start_time": "2021-11-16T06:41:50.691Z"
   },
   {
    "duration": 26,
    "start_time": "2021-11-16T06:41:52.972Z"
   },
   {
    "duration": 12,
    "start_time": "2021-11-16T06:41:53.603Z"
   },
   {
    "duration": 6,
    "start_time": "2021-11-16T06:41:59.034Z"
   },
   {
    "duration": 12,
    "start_time": "2021-11-16T06:42:02.023Z"
   },
   {
    "duration": 12,
    "start_time": "2021-11-16T06:42:23.053Z"
   },
   {
    "duration": 4,
    "start_time": "2021-11-16T06:42:33.207Z"
   },
   {
    "duration": 25,
    "start_time": "2021-11-16T06:43:09.991Z"
   },
   {
    "duration": 4,
    "start_time": "2021-11-16T06:43:14.533Z"
   },
   {
    "duration": 15,
    "start_time": "2021-11-16T06:43:19.469Z"
   },
   {
    "duration": 5,
    "start_time": "2021-11-16T06:43:26.728Z"
   },
   {
    "duration": 12,
    "start_time": "2021-11-16T06:43:29.718Z"
   },
   {
    "duration": 1445,
    "start_time": "2021-11-16T06:44:13.261Z"
   },
   {
    "duration": 4,
    "start_time": "2021-11-16T06:44:14.710Z"
   },
   {
    "duration": 66,
    "start_time": "2021-11-16T06:44:14.718Z"
   },
   {
    "duration": 24,
    "start_time": "2021-11-16T06:44:14.787Z"
   },
   {
    "duration": 69,
    "start_time": "2021-11-16T06:44:14.814Z"
   },
   {
    "duration": 13,
    "start_time": "2021-11-16T06:44:14.886Z"
   },
   {
    "duration": 22,
    "start_time": "2021-11-16T06:44:14.901Z"
   },
   {
    "duration": 50,
    "start_time": "2021-11-16T06:44:14.928Z"
   },
   {
    "duration": 11,
    "start_time": "2021-11-16T06:44:14.983Z"
   },
   {
    "duration": 12,
    "start_time": "2021-11-16T06:44:14.997Z"
   },
   {
    "duration": 22,
    "start_time": "2021-11-16T06:44:15.012Z"
   },
   {
    "duration": 6,
    "start_time": "2021-11-16T06:44:15.036Z"
   },
   {
    "duration": 21,
    "start_time": "2021-11-16T06:44:15.071Z"
   },
   {
    "duration": 9,
    "start_time": "2021-11-16T06:44:15.094Z"
   },
   {
    "duration": 18,
    "start_time": "2021-11-16T06:44:15.106Z"
   },
   {
    "duration": 6,
    "start_time": "2021-11-16T06:44:15.127Z"
   },
   {
    "duration": 43,
    "start_time": "2021-11-16T06:44:15.136Z"
   },
   {
    "duration": 13,
    "start_time": "2021-11-16T06:44:15.184Z"
   },
   {
    "duration": 17,
    "start_time": "2021-11-16T06:44:15.200Z"
   },
   {
    "duration": 8,
    "start_time": "2021-11-16T06:44:15.220Z"
   },
   {
    "duration": 55,
    "start_time": "2021-11-16T06:44:15.232Z"
   },
   {
    "duration": 25,
    "start_time": "2021-11-16T06:44:15.289Z"
   },
   {
    "duration": 3,
    "start_time": "2021-11-16T06:44:15.321Z"
   },
   {
    "duration": 51,
    "start_time": "2021-11-16T06:44:15.328Z"
   },
   {
    "duration": 10,
    "start_time": "2021-11-16T06:44:15.382Z"
   },
   {
    "duration": 665,
    "start_time": "2021-11-16T06:44:15.394Z"
   },
   {
    "duration": 40,
    "start_time": "2021-11-16T06:44:16.062Z"
   },
   {
    "duration": 8,
    "start_time": "2021-11-16T06:44:16.104Z"
   },
   {
    "duration": 59,
    "start_time": "2021-11-16T06:44:16.114Z"
   },
   {
    "duration": 18,
    "start_time": "2021-11-16T06:44:16.176Z"
   },
   {
    "duration": 13,
    "start_time": "2021-11-16T06:44:16.196Z"
   },
   {
    "duration": 287,
    "start_time": "2021-11-16T06:44:16.212Z"
   },
   {
    "duration": 84,
    "start_time": "2021-11-16T06:44:16.502Z"
   },
   {
    "duration": 21,
    "start_time": "2021-11-16T06:44:16.589Z"
   },
   {
    "duration": 21,
    "start_time": "2021-11-16T06:44:16.613Z"
   },
   {
    "duration": 10,
    "start_time": "2021-11-16T06:44:16.636Z"
   },
   {
    "duration": 16,
    "start_time": "2021-11-16T06:44:16.667Z"
   },
   {
    "duration": 125,
    "start_time": "2021-11-16T06:44:16.685Z"
   },
   {
    "duration": 67,
    "start_time": "2021-11-16T06:44:16.813Z"
   },
   {
    "duration": 11,
    "start_time": "2021-11-16T06:44:16.883Z"
   },
   {
    "duration": 94,
    "start_time": "2021-11-16T06:44:16.896Z"
   },
   {
    "duration": 9,
    "start_time": "2021-11-16T06:44:16.993Z"
   },
   {
    "duration": 104,
    "start_time": "2021-11-16T06:44:17.005Z"
   },
   {
    "duration": 8,
    "start_time": "2021-11-16T06:44:17.113Z"
   },
   {
    "duration": 13,
    "start_time": "2021-11-16T06:44:17.124Z"
   },
   {
    "duration": 41,
    "start_time": "2021-11-16T06:44:17.140Z"
   },
   {
    "duration": 22,
    "start_time": "2021-11-16T06:44:17.184Z"
   },
   {
    "duration": 14,
    "start_time": "2021-11-16T06:44:17.210Z"
   },
   {
    "duration": 12,
    "start_time": "2021-11-16T06:44:17.227Z"
   },
   {
    "duration": 49,
    "start_time": "2021-11-16T06:44:17.242Z"
   },
   {
    "duration": 23,
    "start_time": "2021-11-16T06:44:17.293Z"
   },
   {
    "duration": 18,
    "start_time": "2021-11-16T06:44:31.513Z"
   },
   {
    "duration": 34,
    "start_time": "2021-11-16T06:46:09.536Z"
   },
   {
    "duration": 9,
    "start_time": "2021-11-16T06:46:37.034Z"
   },
   {
    "duration": 24,
    "start_time": "2021-11-16T06:47:46.001Z"
   },
   {
    "duration": 9,
    "start_time": "2021-11-16T06:47:46.445Z"
   },
   {
    "duration": 6,
    "start_time": "2021-11-16T06:47:46.992Z"
   },
   {
    "duration": 9,
    "start_time": "2021-11-16T06:47:49.585Z"
   },
   {
    "duration": 9,
    "start_time": "2021-11-16T06:47:50.071Z"
   },
   {
    "duration": 165,
    "start_time": "2021-11-16T06:47:50.661Z"
   },
   {
    "duration": 28,
    "start_time": "2021-11-16T06:48:16.552Z"
   },
   {
    "duration": 12,
    "start_time": "2021-11-16T06:48:20.602Z"
   },
   {
    "duration": 4,
    "start_time": "2021-11-16T06:48:37.294Z"
   },
   {
    "duration": 13,
    "start_time": "2021-11-16T06:48:41.788Z"
   },
   {
    "duration": 5,
    "start_time": "2021-11-16T06:48:50.283Z"
   },
   {
    "duration": 12,
    "start_time": "2021-11-16T06:48:53.299Z"
   },
   {
    "duration": 5,
    "start_time": "2021-11-16T06:49:29.477Z"
   },
   {
    "duration": 30,
    "start_time": "2021-11-16T06:49:32.660Z"
   },
   {
    "duration": 6,
    "start_time": "2021-11-16T06:49:40.068Z"
   },
   {
    "duration": 6,
    "start_time": "2021-11-16T06:49:40.588Z"
   },
   {
    "duration": 12,
    "start_time": "2021-11-16T06:49:41.110Z"
   },
   {
    "duration": 24,
    "start_time": "2021-11-16T06:49:45.840Z"
   },
   {
    "duration": 5,
    "start_time": "2021-11-16T06:49:47.150Z"
   },
   {
    "duration": 6,
    "start_time": "2021-11-16T06:49:47.699Z"
   },
   {
    "duration": 14,
    "start_time": "2021-11-16T06:49:48.273Z"
   },
   {
    "duration": 24,
    "start_time": "2021-11-16T06:50:43.822Z"
   },
   {
    "duration": 518,
    "start_time": "2021-11-16T06:50:44.243Z"
   },
   {
    "duration": 13,
    "start_time": "2021-11-16T06:50:50.274Z"
   },
   {
    "duration": 13,
    "start_time": "2021-11-16T06:50:54.895Z"
   },
   {
    "duration": 7055,
    "start_time": "2021-11-16T06:51:29.151Z"
   },
   {
    "duration": 859,
    "start_time": "2021-11-16T06:51:35.350Z"
   },
   {
    "duration": 5,
    "start_time": "2021-11-16T06:51:58.779Z"
   },
   {
    "duration": 205,
    "start_time": "2021-11-16T06:52:00.008Z"
   },
   {
    "duration": 19,
    "start_time": "2021-11-16T06:52:16.364Z"
   },
   {
    "duration": 1434,
    "start_time": "2021-11-16T06:52:34.074Z"
   },
   {
    "duration": 3,
    "start_time": "2021-11-16T06:52:35.511Z"
   },
   {
    "duration": 75,
    "start_time": "2021-11-16T06:52:35.517Z"
   },
   {
    "duration": 21,
    "start_time": "2021-11-16T06:52:35.595Z"
   },
   {
    "duration": 68,
    "start_time": "2021-11-16T06:52:35.619Z"
   },
   {
    "duration": 14,
    "start_time": "2021-11-16T06:52:35.689Z"
   },
   {
    "duration": 9,
    "start_time": "2021-11-16T06:52:35.706Z"
   },
   {
    "duration": 11,
    "start_time": "2021-11-16T06:52:35.719Z"
   },
   {
    "duration": 15,
    "start_time": "2021-11-16T06:52:35.767Z"
   },
   {
    "duration": 8,
    "start_time": "2021-11-16T06:52:35.784Z"
   },
   {
    "duration": 9,
    "start_time": "2021-11-16T06:52:35.795Z"
   },
   {
    "duration": 7,
    "start_time": "2021-11-16T06:52:35.807Z"
   },
   {
    "duration": 65,
    "start_time": "2021-11-16T06:52:35.816Z"
   },
   {
    "duration": 7,
    "start_time": "2021-11-16T06:52:35.883Z"
   },
   {
    "duration": 11,
    "start_time": "2021-11-16T06:52:35.893Z"
   },
   {
    "duration": 9,
    "start_time": "2021-11-16T06:52:35.907Z"
   },
   {
    "duration": 15,
    "start_time": "2021-11-16T06:52:35.918Z"
   },
   {
    "duration": 46,
    "start_time": "2021-11-16T06:52:35.936Z"
   },
   {
    "duration": 18,
    "start_time": "2021-11-16T06:52:35.985Z"
   },
   {
    "duration": 17,
    "start_time": "2021-11-16T06:52:36.007Z"
   },
   {
    "duration": 21,
    "start_time": "2021-11-16T06:52:36.027Z"
   },
   {
    "duration": 50,
    "start_time": "2021-11-16T06:52:36.050Z"
   },
   {
    "duration": 8,
    "start_time": "2021-11-16T06:52:36.105Z"
   },
   {
    "duration": 20,
    "start_time": "2021-11-16T06:52:36.116Z"
   },
   {
    "duration": 381,
    "start_time": "2021-11-16T06:52:36.139Z"
   },
   {
    "duration": 885,
    "start_time": "2021-11-16T06:52:35.639Z"
   },
   {
    "duration": 882,
    "start_time": "2021-11-16T06:52:35.644Z"
   },
   {
    "duration": 875,
    "start_time": "2021-11-16T06:52:35.653Z"
   },
   {
    "duration": 871,
    "start_time": "2021-11-16T06:52:35.659Z"
   },
   {
    "duration": 865,
    "start_time": "2021-11-16T06:52:35.667Z"
   },
   {
    "duration": 862,
    "start_time": "2021-11-16T06:52:35.672Z"
   },
   {
    "duration": 860,
    "start_time": "2021-11-16T06:52:35.676Z"
   },
   {
    "duration": 854,
    "start_time": "2021-11-16T06:52:35.684Z"
   },
   {
    "duration": 852,
    "start_time": "2021-11-16T06:52:35.688Z"
   },
   {
    "duration": 848,
    "start_time": "2021-11-16T06:52:35.694Z"
   },
   {
    "duration": 843,
    "start_time": "2021-11-16T06:52:35.701Z"
   },
   {
    "duration": 841,
    "start_time": "2021-11-16T06:52:35.705Z"
   },
   {
    "duration": 838,
    "start_time": "2021-11-16T06:52:35.710Z"
   },
   {
    "duration": 834,
    "start_time": "2021-11-16T06:52:35.716Z"
   },
   {
    "duration": 831,
    "start_time": "2021-11-16T06:52:35.721Z"
   },
   {
    "duration": 827,
    "start_time": "2021-11-16T06:52:35.727Z"
   },
   {
    "duration": 814,
    "start_time": "2021-11-16T06:52:35.743Z"
   },
   {
    "duration": 808,
    "start_time": "2021-11-16T06:52:35.751Z"
   },
   {
    "duration": 805,
    "start_time": "2021-11-16T06:52:35.755Z"
   },
   {
    "duration": 802,
    "start_time": "2021-11-16T06:52:35.760Z"
   },
   {
    "duration": 795,
    "start_time": "2021-11-16T06:52:35.768Z"
   },
   {
    "duration": 792,
    "start_time": "2021-11-16T06:52:35.772Z"
   },
   {
    "duration": 788,
    "start_time": "2021-11-16T06:52:35.777Z"
   },
   {
    "duration": 782,
    "start_time": "2021-11-16T06:52:35.785Z"
   },
   {
    "duration": 780,
    "start_time": "2021-11-16T06:52:35.789Z"
   },
   {
    "duration": 666,
    "start_time": "2021-11-16T06:52:52.019Z"
   },
   {
    "duration": 1421,
    "start_time": "2021-11-16T06:53:00.070Z"
   },
   {
    "duration": 4,
    "start_time": "2021-11-16T06:53:01.493Z"
   },
   {
    "duration": 100,
    "start_time": "2021-11-16T06:53:01.500Z"
   },
   {
    "duration": 22,
    "start_time": "2021-11-16T06:53:01.603Z"
   },
   {
    "duration": 95,
    "start_time": "2021-11-16T06:53:01.628Z"
   },
   {
    "duration": 28,
    "start_time": "2021-11-16T06:53:01.725Z"
   },
   {
    "duration": 22,
    "start_time": "2021-11-16T06:53:01.755Z"
   },
   {
    "duration": 20,
    "start_time": "2021-11-16T06:53:01.781Z"
   },
   {
    "duration": 14,
    "start_time": "2021-11-16T06:53:01.805Z"
   },
   {
    "duration": 15,
    "start_time": "2021-11-16T06:53:01.822Z"
   },
   {
    "duration": 32,
    "start_time": "2021-11-16T06:53:01.840Z"
   },
   {
    "duration": 16,
    "start_time": "2021-11-16T06:53:01.874Z"
   },
   {
    "duration": 23,
    "start_time": "2021-11-16T06:53:01.894Z"
   },
   {
    "duration": 24,
    "start_time": "2021-11-16T06:53:01.919Z"
   },
   {
    "duration": 15,
    "start_time": "2021-11-16T06:53:01.946Z"
   },
   {
    "duration": 23,
    "start_time": "2021-11-16T06:53:01.963Z"
   },
   {
    "duration": 22,
    "start_time": "2021-11-16T06:53:01.988Z"
   },
   {
    "duration": 26,
    "start_time": "2021-11-16T06:53:02.012Z"
   },
   {
    "duration": 16,
    "start_time": "2021-11-16T06:53:02.040Z"
   },
   {
    "duration": 29,
    "start_time": "2021-11-16T06:53:02.058Z"
   },
   {
    "duration": 50,
    "start_time": "2021-11-16T06:53:02.089Z"
   },
   {
    "duration": 34,
    "start_time": "2021-11-16T06:53:02.142Z"
   },
   {
    "duration": 13,
    "start_time": "2021-11-16T06:53:02.185Z"
   },
   {
    "duration": 15,
    "start_time": "2021-11-16T06:53:02.201Z"
   },
   {
    "duration": 668,
    "start_time": "2021-11-16T06:53:02.218Z"
   },
   {
    "duration": 26,
    "start_time": "2021-11-16T06:53:02.889Z"
   },
   {
    "duration": 62,
    "start_time": "2021-11-16T06:53:02.917Z"
   },
   {
    "duration": 10,
    "start_time": "2021-11-16T06:53:02.983Z"
   },
   {
    "duration": 564,
    "start_time": "2021-11-16T06:53:02.996Z"
   },
   {
    "duration": 235,
    "start_time": "2021-11-16T06:53:03.327Z"
   },
   {
    "duration": 234,
    "start_time": "2021-11-16T06:53:03.330Z"
   },
   {
    "duration": 231,
    "start_time": "2021-11-16T06:53:03.334Z"
   },
   {
    "duration": 230,
    "start_time": "2021-11-16T06:53:03.337Z"
   },
   {
    "duration": 230,
    "start_time": "2021-11-16T06:53:03.341Z"
   },
   {
    "duration": 229,
    "start_time": "2021-11-16T06:53:03.344Z"
   },
   {
    "duration": 229,
    "start_time": "2021-11-16T06:53:03.347Z"
   },
   {
    "duration": 228,
    "start_time": "2021-11-16T06:53:03.350Z"
   },
   {
    "duration": 227,
    "start_time": "2021-11-16T06:53:03.353Z"
   },
   {
    "duration": 225,
    "start_time": "2021-11-16T06:53:03.357Z"
   },
   {
    "duration": 223,
    "start_time": "2021-11-16T06:53:03.360Z"
   },
   {
    "duration": 221,
    "start_time": "2021-11-16T06:53:03.364Z"
   },
   {
    "duration": 218,
    "start_time": "2021-11-16T06:53:03.368Z"
   },
   {
    "duration": 216,
    "start_time": "2021-11-16T06:53:03.372Z"
   },
   {
    "duration": 213,
    "start_time": "2021-11-16T06:53:03.376Z"
   },
   {
    "duration": 210,
    "start_time": "2021-11-16T06:53:03.381Z"
   },
   {
    "duration": 208,
    "start_time": "2021-11-16T06:53:03.384Z"
   },
   {
    "duration": 206,
    "start_time": "2021-11-16T06:53:03.387Z"
   },
   {
    "duration": 204,
    "start_time": "2021-11-16T06:53:03.391Z"
   },
   {
    "duration": 202,
    "start_time": "2021-11-16T06:53:03.394Z"
   },
   {
    "duration": 200,
    "start_time": "2021-11-16T06:53:03.398Z"
   },
   {
    "duration": 10,
    "start_time": "2021-11-16T06:53:15.571Z"
   },
   {
    "duration": 6,
    "start_time": "2021-11-16T06:53:16.220Z"
   },
   {
    "duration": 110,
    "start_time": "2021-11-16T06:53:16.679Z"
   },
   {
    "duration": 42,
    "start_time": "2021-11-16T06:53:17.404Z"
   },
   {
    "duration": 15,
    "start_time": "2021-11-16T06:53:17.934Z"
   },
   {
    "duration": 15,
    "start_time": "2021-11-16T06:53:18.098Z"
   },
   {
    "duration": 5,
    "start_time": "2021-11-16T06:53:18.259Z"
   },
   {
    "duration": 7,
    "start_time": "2021-11-16T06:53:18.417Z"
   },
   {
    "duration": 132,
    "start_time": "2021-11-16T06:53:18.567Z"
   },
   {
    "duration": 57,
    "start_time": "2021-11-16T06:53:19.018Z"
   },
   {
    "duration": 9,
    "start_time": "2021-11-16T06:53:20.001Z"
   },
   {
    "duration": 72,
    "start_time": "2021-11-16T06:53:20.157Z"
   },
   {
    "duration": 7,
    "start_time": "2021-11-16T06:53:21.314Z"
   },
   {
    "duration": 67,
    "start_time": "2021-11-16T06:53:23.926Z"
   },
   {
    "duration": 7,
    "start_time": "2021-11-16T06:53:25.138Z"
   },
   {
    "duration": 11,
    "start_time": "2021-11-16T06:53:27.421Z"
   },
   {
    "duration": 10,
    "start_time": "2021-11-16T06:57:26.049Z"
   },
   {
    "duration": 12,
    "start_time": "2021-11-16T06:57:37.157Z"
   },
   {
    "duration": 18,
    "start_time": "2021-11-16T06:57:44.374Z"
   },
   {
    "duration": 24,
    "start_time": "2021-11-16T06:59:36.641Z"
   },
   {
    "duration": 10,
    "start_time": "2021-11-16T06:59:37.012Z"
   },
   {
    "duration": 5,
    "start_time": "2021-11-16T06:59:37.396Z"
   },
   {
    "duration": 146,
    "start_time": "2021-11-16T06:59:37.873Z"
   },
   {
    "duration": 25,
    "start_time": "2021-11-16T06:59:44.506Z"
   },
   {
    "duration": 34,
    "start_time": "2021-11-16T06:59:50.892Z"
   },
   {
    "duration": 9,
    "start_time": "2021-11-16T06:59:57.454Z"
   },
   {
    "duration": 6,
    "start_time": "2021-11-16T06:59:58.605Z"
   },
   {
    "duration": 9,
    "start_time": "2021-11-16T06:59:59.176Z"
   },
   {
    "duration": 7,
    "start_time": "2021-11-16T06:59:59.598Z"
   },
   {
    "duration": 205,
    "start_time": "2021-11-16T07:00:00.131Z"
   },
   {
    "duration": 48,
    "start_time": "2021-11-16T07:00:03.869Z"
   },
   {
    "duration": 17,
    "start_time": "2021-11-16T07:00:08.521Z"
   },
   {
    "duration": 19,
    "start_time": "2021-11-16T07:00:08.541Z"
   },
   {
    "duration": 18,
    "start_time": "2021-11-16T07:00:08.563Z"
   },
   {
    "duration": 19,
    "start_time": "2021-11-16T07:00:08.584Z"
   },
   {
    "duration": 113,
    "start_time": "2021-11-16T07:00:09.610Z"
   },
   {
    "duration": 56,
    "start_time": "2021-11-16T07:00:15.029Z"
   },
   {
    "duration": 12,
    "start_time": "2021-11-16T07:00:18.272Z"
   },
   {
    "duration": 66,
    "start_time": "2021-11-16T07:00:18.809Z"
   },
   {
    "duration": 7,
    "start_time": "2021-11-16T07:00:38.801Z"
   },
   {
    "duration": 68,
    "start_time": "2021-11-16T07:00:39.724Z"
   },
   {
    "duration": 6,
    "start_time": "2021-11-16T07:00:43.040Z"
   },
   {
    "duration": 12,
    "start_time": "2021-11-16T07:00:45.155Z"
   },
   {
    "duration": 9,
    "start_time": "2021-11-16T07:00:48.167Z"
   },
   {
    "duration": 8,
    "start_time": "2021-11-16T07:02:23.424Z"
   },
   {
    "duration": 6,
    "start_time": "2021-11-16T07:02:26.748Z"
   },
   {
    "duration": 13,
    "start_time": "2021-11-16T07:02:29.058Z"
   },
   {
    "duration": 26,
    "start_time": "2021-11-16T07:02:52.017Z"
   },
   {
    "duration": 16,
    "start_time": "2021-11-16T07:02:56.770Z"
   },
   {
    "duration": 29,
    "start_time": "2021-11-16T07:03:16.953Z"
   },
   {
    "duration": 18,
    "start_time": "2021-11-16T07:03:20.760Z"
   },
   {
    "duration": 88,
    "start_time": "2021-11-16T07:05:10.101Z"
   },
   {
    "duration": 6649,
    "start_time": "2021-11-16T07:05:53.547Z"
   },
   {
    "duration": 23,
    "start_time": "2021-11-16T07:06:34.495Z"
   },
   {
    "duration": 12,
    "start_time": "2021-11-16T07:06:40.733Z"
   },
   {
    "duration": 24,
    "start_time": "2021-11-16T07:07:11.424Z"
   },
   {
    "duration": 24,
    "start_time": "2021-11-16T07:07:11.687Z"
   },
   {
    "duration": 275,
    "start_time": "2021-11-16T07:07:16.068Z"
   },
   {
    "duration": 9,
    "start_time": "2021-11-16T07:07:32.339Z"
   },
   {
    "duration": 14,
    "start_time": "2021-11-16T07:07:45.244Z"
   },
   {
    "duration": 8,
    "start_time": "2021-11-16T07:08:31.455Z"
   },
   {
    "duration": 918,
    "start_time": "2021-11-16T07:09:51.621Z"
   },
   {
    "duration": 11,
    "start_time": "2021-11-16T07:09:56.070Z"
   },
   {
    "duration": 6,
    "start_time": "2021-11-16T07:10:09.465Z"
   },
   {
    "duration": 7,
    "start_time": "2021-11-16T07:10:21.919Z"
   },
   {
    "duration": 268,
    "start_time": "2021-11-16T07:10:50.610Z"
   },
   {
    "duration": 110,
    "start_time": "2021-11-16T07:10:56.743Z"
   },
   {
    "duration": 10,
    "start_time": "2021-11-16T07:16:14.728Z"
   },
   {
    "duration": 6,
    "start_time": "2021-11-16T07:16:52.489Z"
   },
   {
    "duration": 8,
    "start_time": "2021-11-16T07:16:58.285Z"
   },
   {
    "duration": 91,
    "start_time": "2021-11-16T07:20:01.044Z"
   },
   {
    "duration": 49,
    "start_time": "2021-11-16T07:20:06.478Z"
   },
   {
    "duration": 48,
    "start_time": "2021-11-16T07:20:36.989Z"
   },
   {
    "duration": 52,
    "start_time": "2021-11-16T07:21:05.114Z"
   },
   {
    "duration": 57,
    "start_time": "2021-11-16T07:21:23.910Z"
   },
   {
    "duration": 61,
    "start_time": "2021-11-16T07:22:16.418Z"
   },
   {
    "duration": 53,
    "start_time": "2021-11-16T07:23:11.490Z"
   },
   {
    "duration": 108,
    "start_time": "2021-11-16T07:31:01.290Z"
   },
   {
    "duration": 113,
    "start_time": "2021-11-16T07:31:06.373Z"
   },
   {
    "duration": 294,
    "start_time": "2021-11-16T07:31:11.212Z"
   },
   {
    "duration": 317,
    "start_time": "2021-11-16T07:31:24.985Z"
   },
   {
    "duration": 267,
    "start_time": "2021-11-16T07:31:52.614Z"
   },
   {
    "duration": 7,
    "start_time": "2021-11-16T07:32:41.907Z"
   },
   {
    "duration": 7,
    "start_time": "2021-11-16T07:32:49.615Z"
   },
   {
    "duration": 296,
    "start_time": "2021-11-16T07:33:10.881Z"
   },
   {
    "duration": 269,
    "start_time": "2021-11-16T07:33:56.940Z"
   },
   {
    "duration": 51,
    "start_time": "2021-11-16T07:34:45.878Z"
   },
   {
    "duration": 13,
    "start_time": "2021-11-16T07:47:30.129Z"
   },
   {
    "duration": 5,
    "start_time": "2021-11-16T07:53:51.272Z"
   },
   {
    "duration": 5,
    "start_time": "2021-11-16T07:54:06.117Z"
   },
   {
    "duration": 1282,
    "start_time": "2021-11-16T07:57:43.495Z"
   },
   {
    "duration": 3,
    "start_time": "2021-11-16T07:57:44.780Z"
   },
   {
    "duration": 81,
    "start_time": "2021-11-16T07:57:44.786Z"
   },
   {
    "duration": 21,
    "start_time": "2021-11-16T07:57:44.870Z"
   },
   {
    "duration": 77,
    "start_time": "2021-11-16T07:57:44.894Z"
   },
   {
    "duration": 11,
    "start_time": "2021-11-16T07:57:44.974Z"
   },
   {
    "duration": 13,
    "start_time": "2021-11-16T07:57:44.987Z"
   },
   {
    "duration": 21,
    "start_time": "2021-11-16T07:57:45.003Z"
   },
   {
    "duration": 11,
    "start_time": "2021-11-16T07:57:45.027Z"
   },
   {
    "duration": 35,
    "start_time": "2021-11-16T07:57:45.040Z"
   },
   {
    "duration": 17,
    "start_time": "2021-11-16T07:57:45.077Z"
   },
   {
    "duration": 11,
    "start_time": "2021-11-16T07:57:45.096Z"
   },
   {
    "duration": 14,
    "start_time": "2021-11-16T07:57:45.110Z"
   },
   {
    "duration": 8,
    "start_time": "2021-11-16T07:57:45.126Z"
   },
   {
    "duration": 39,
    "start_time": "2021-11-16T07:57:45.136Z"
   },
   {
    "duration": 7,
    "start_time": "2021-11-16T07:57:45.178Z"
   },
   {
    "duration": 16,
    "start_time": "2021-11-16T07:57:45.187Z"
   },
   {
    "duration": 8,
    "start_time": "2021-11-16T07:57:45.205Z"
   },
   {
    "duration": 14,
    "start_time": "2021-11-16T07:57:45.216Z"
   },
   {
    "duration": 40,
    "start_time": "2021-11-16T07:57:45.232Z"
   },
   {
    "duration": 15,
    "start_time": "2021-11-16T07:57:45.275Z"
   },
   {
    "duration": 26,
    "start_time": "2021-11-16T07:57:45.293Z"
   },
   {
    "duration": 42,
    "start_time": "2021-11-16T07:57:45.325Z"
   },
   {
    "duration": 7,
    "start_time": "2021-11-16T07:57:45.371Z"
   },
   {
    "duration": 1428,
    "start_time": "2021-11-16T07:58:26.742Z"
   },
   {
    "duration": 4,
    "start_time": "2021-11-16T07:58:28.173Z"
   },
   {
    "duration": 71,
    "start_time": "2021-11-16T07:58:28.180Z"
   },
   {
    "duration": 24,
    "start_time": "2021-11-16T07:58:28.255Z"
   },
   {
    "duration": 73,
    "start_time": "2021-11-16T07:58:28.281Z"
   },
   {
    "duration": 12,
    "start_time": "2021-11-16T07:58:28.368Z"
   },
   {
    "duration": 14,
    "start_time": "2021-11-16T07:58:28.383Z"
   },
   {
    "duration": 12,
    "start_time": "2021-11-16T07:58:28.402Z"
   },
   {
    "duration": 15,
    "start_time": "2021-11-16T07:58:28.417Z"
   },
   {
    "duration": 7,
    "start_time": "2021-11-16T07:58:28.467Z"
   },
   {
    "duration": 12,
    "start_time": "2021-11-16T07:58:28.477Z"
   },
   {
    "duration": 10,
    "start_time": "2021-11-16T07:58:28.492Z"
   },
   {
    "duration": 48,
    "start_time": "2021-11-16T07:58:28.504Z"
   },
   {
    "duration": 9,
    "start_time": "2021-11-16T07:58:28.554Z"
   },
   {
    "duration": 17,
    "start_time": "2021-11-16T07:58:28.566Z"
   },
   {
    "duration": 9,
    "start_time": "2021-11-16T07:58:28.586Z"
   },
   {
    "duration": 17,
    "start_time": "2021-11-16T07:58:28.598Z"
   },
   {
    "duration": 9,
    "start_time": "2021-11-16T07:58:28.618Z"
   },
   {
    "duration": 43,
    "start_time": "2021-11-16T07:58:28.629Z"
   },
   {
    "duration": 7,
    "start_time": "2021-11-16T07:58:28.675Z"
   },
   {
    "duration": 24,
    "start_time": "2021-11-16T07:58:28.685Z"
   },
   {
    "duration": 25,
    "start_time": "2021-11-16T07:58:28.711Z"
   },
   {
    "duration": 8,
    "start_time": "2021-11-16T07:58:28.766Z"
   },
   {
    "duration": 11,
    "start_time": "2021-11-16T07:58:28.778Z"
   },
   {
    "duration": 606,
    "start_time": "2021-11-16T07:58:28.791Z"
   },
   {
    "duration": 69,
    "start_time": "2021-11-16T07:58:29.399Z"
   },
   {
    "duration": 9,
    "start_time": "2021-11-16T07:58:29.471Z"
   },
   {
    "duration": 14,
    "start_time": "2021-11-16T07:58:29.482Z"
   },
   {
    "duration": 20,
    "start_time": "2021-11-16T07:58:29.499Z"
   },
   {
    "duration": 8,
    "start_time": "2021-11-16T07:58:29.567Z"
   },
   {
    "duration": 154,
    "start_time": "2021-11-16T07:58:29.577Z"
   },
   {
    "duration": 73,
    "start_time": "2021-11-16T07:58:29.734Z"
   },
   {
    "duration": 16,
    "start_time": "2021-11-16T07:58:29.810Z"
   },
   {
    "duration": 48,
    "start_time": "2021-11-16T07:58:29.829Z"
   },
   {
    "duration": 7,
    "start_time": "2021-11-16T07:58:29.880Z"
   },
   {
    "duration": 11,
    "start_time": "2021-11-16T07:58:29.889Z"
   },
   {
    "duration": 124,
    "start_time": "2021-11-16T07:58:29.902Z"
   },
   {
    "duration": 59,
    "start_time": "2021-11-16T07:58:30.029Z"
   },
   {
    "duration": 13,
    "start_time": "2021-11-16T07:58:30.090Z"
   },
   {
    "duration": 78,
    "start_time": "2021-11-16T07:58:30.105Z"
   },
   {
    "duration": 7,
    "start_time": "2021-11-16T07:58:30.185Z"
   },
   {
    "duration": 87,
    "start_time": "2021-11-16T07:58:30.194Z"
   },
   {
    "duration": 6,
    "start_time": "2021-11-16T07:58:30.284Z"
   },
   {
    "duration": 56,
    "start_time": "2021-11-16T07:58:30.292Z"
   },
   {
    "duration": 77,
    "start_time": "2021-11-16T07:58:30.351Z"
   },
   {
    "duration": 27,
    "start_time": "2021-11-16T07:58:30.430Z"
   },
   {
    "duration": 27,
    "start_time": "2021-11-16T07:58:30.460Z"
   },
   {
    "duration": 43,
    "start_time": "2021-11-16T07:58:30.489Z"
   },
   {
    "duration": 48,
    "start_time": "2021-11-16T07:58:30.535Z"
   },
   {
    "duration": 45,
    "start_time": "2021-11-16T07:58:30.585Z"
   },
   {
    "duration": 10,
    "start_time": "2021-11-16T07:58:30.633Z"
   },
   {
    "duration": 30,
    "start_time": "2021-11-16T07:58:30.645Z"
   },
   {
    "duration": 29,
    "start_time": "2021-11-16T07:58:30.678Z"
   },
   {
    "duration": 45,
    "start_time": "2021-11-16T07:58:30.710Z"
   },
   {
    "duration": 55,
    "start_time": "2021-11-16T07:58:30.758Z"
   },
   {
    "duration": 64,
    "start_time": "2021-11-16T07:58:30.816Z"
   },
   {
    "duration": 1936,
    "start_time": "2021-11-16T14:13:28.776Z"
   },
   {
    "duration": 4,
    "start_time": "2021-11-16T14:13:30.715Z"
   },
   {
    "duration": 116,
    "start_time": "2021-11-16T14:13:30.723Z"
   },
   {
    "duration": 29,
    "start_time": "2021-11-16T14:13:30.842Z"
   },
   {
    "duration": 49,
    "start_time": "2021-11-16T14:13:30.874Z"
   },
   {
    "duration": 30,
    "start_time": "2021-11-16T14:13:30.925Z"
   },
   {
    "duration": 23,
    "start_time": "2021-11-16T14:13:30.957Z"
   },
   {
    "duration": 16,
    "start_time": "2021-11-16T14:13:30.989Z"
   },
   {
    "duration": 20,
    "start_time": "2021-11-16T14:13:31.008Z"
   },
   {
    "duration": 20,
    "start_time": "2021-11-16T14:13:31.031Z"
   },
   {
    "duration": 23,
    "start_time": "2021-11-16T14:13:31.054Z"
   },
   {
    "duration": 13,
    "start_time": "2021-11-16T14:13:31.080Z"
   },
   {
    "duration": 20,
    "start_time": "2021-11-16T14:13:31.099Z"
   },
   {
    "duration": 20,
    "start_time": "2021-11-16T14:13:31.121Z"
   },
   {
    "duration": 20,
    "start_time": "2021-11-16T14:13:31.143Z"
   },
   {
    "duration": 27,
    "start_time": "2021-11-16T14:13:31.166Z"
   },
   {
    "duration": 20,
    "start_time": "2021-11-16T14:13:31.196Z"
   },
   {
    "duration": 14,
    "start_time": "2021-11-16T14:13:31.219Z"
   },
   {
    "duration": 16,
    "start_time": "2021-11-16T14:13:31.236Z"
   },
   {
    "duration": 13,
    "start_time": "2021-11-16T14:13:31.255Z"
   },
   {
    "duration": 42,
    "start_time": "2021-11-16T14:13:31.270Z"
   },
   {
    "duration": 25,
    "start_time": "2021-11-16T14:13:31.314Z"
   },
   {
    "duration": 9,
    "start_time": "2021-11-16T14:13:31.345Z"
   },
   {
    "duration": 27,
    "start_time": "2021-11-16T14:13:31.357Z"
   },
   {
    "duration": 589,
    "start_time": "2021-11-16T14:13:31.386Z"
   },
   {
    "duration": -597,
    "start_time": "2021-11-16T14:13:32.575Z"
   },
   {
    "duration": -700,
    "start_time": "2021-11-16T14:13:32.679Z"
   },
   {
    "duration": -792,
    "start_time": "2021-11-16T14:13:32.777Z"
   },
   {
    "duration": -796,
    "start_time": "2021-11-16T14:13:32.783Z"
   },
   {
    "duration": -800,
    "start_time": "2021-11-16T14:13:32.790Z"
   },
   {
    "duration": -804,
    "start_time": "2021-11-16T14:13:32.796Z"
   },
   {
    "duration": -809,
    "start_time": "2021-11-16T14:13:32.803Z"
   },
   {
    "duration": -813,
    "start_time": "2021-11-16T14:13:32.810Z"
   },
   {
    "duration": -818,
    "start_time": "2021-11-16T14:13:32.817Z"
   },
   {
    "duration": -822,
    "start_time": "2021-11-16T14:13:32.823Z"
   },
   {
    "duration": -827,
    "start_time": "2021-11-16T14:13:32.830Z"
   },
   {
    "duration": -832,
    "start_time": "2021-11-16T14:13:32.837Z"
   },
   {
    "duration": -836,
    "start_time": "2021-11-16T14:13:32.843Z"
   },
   {
    "duration": -841,
    "start_time": "2021-11-16T14:13:32.850Z"
   },
   {
    "duration": -846,
    "start_time": "2021-11-16T14:13:32.857Z"
   },
   {
    "duration": -851,
    "start_time": "2021-11-16T14:13:32.864Z"
   },
   {
    "duration": -857,
    "start_time": "2021-11-16T14:13:32.872Z"
   },
   {
    "duration": -862,
    "start_time": "2021-11-16T14:13:32.879Z"
   },
   {
    "duration": -867,
    "start_time": "2021-11-16T14:13:32.886Z"
   },
   {
    "duration": -872,
    "start_time": "2021-11-16T14:13:32.893Z"
   },
   {
    "duration": -876,
    "start_time": "2021-11-16T14:13:32.899Z"
   },
   {
    "duration": -881,
    "start_time": "2021-11-16T14:13:32.906Z"
   },
   {
    "duration": -832,
    "start_time": "2021-11-16T14:13:32.913Z"
   },
   {
    "duration": -834,
    "start_time": "2021-11-16T14:13:32.920Z"
   },
   {
    "duration": -839,
    "start_time": "2021-11-16T14:13:32.927Z"
   },
   {
    "duration": -844,
    "start_time": "2021-11-16T14:13:32.934Z"
   },
   {
    "duration": -850,
    "start_time": "2021-11-16T14:13:32.941Z"
   },
   {
    "duration": -853,
    "start_time": "2021-11-16T14:13:32.947Z"
   },
   {
    "duration": -859,
    "start_time": "2021-11-16T14:13:32.955Z"
   },
   {
    "duration": -863,
    "start_time": "2021-11-16T14:13:32.961Z"
   },
   {
    "duration": -868,
    "start_time": "2021-11-16T14:13:32.967Z"
   },
   {
    "duration": 1562,
    "start_time": "2021-11-16T15:21:33.492Z"
   },
   {
    "duration": 4,
    "start_time": "2021-11-16T15:21:35.056Z"
   },
   {
    "duration": 70,
    "start_time": "2021-11-16T15:21:35.063Z"
   },
   {
    "duration": 32,
    "start_time": "2021-11-16T15:21:35.136Z"
   },
   {
    "duration": 77,
    "start_time": "2021-11-16T15:21:35.171Z"
   },
   {
    "duration": 23,
    "start_time": "2021-11-16T15:21:35.250Z"
   },
   {
    "duration": 14,
    "start_time": "2021-11-16T15:21:35.275Z"
   },
   {
    "duration": 17,
    "start_time": "2021-11-16T15:21:35.292Z"
   },
   {
    "duration": 13,
    "start_time": "2021-11-16T15:21:35.314Z"
   },
   {
    "duration": 7,
    "start_time": "2021-11-16T15:21:35.331Z"
   },
   {
    "duration": 43,
    "start_time": "2021-11-16T15:21:35.340Z"
   },
   {
    "duration": 8,
    "start_time": "2021-11-16T15:21:35.386Z"
   },
   {
    "duration": 17,
    "start_time": "2021-11-16T15:21:35.399Z"
   },
   {
    "duration": 6,
    "start_time": "2021-11-16T15:21:35.418Z"
   },
   {
    "duration": 9,
    "start_time": "2021-11-16T15:21:35.427Z"
   },
   {
    "duration": 8,
    "start_time": "2021-11-16T15:21:35.485Z"
   },
   {
    "duration": 20,
    "start_time": "2021-11-16T15:21:35.498Z"
   },
   {
    "duration": 14,
    "start_time": "2021-11-16T15:21:35.521Z"
   },
   {
    "duration": 65,
    "start_time": "2021-11-16T15:21:35.538Z"
   },
   {
    "duration": 8,
    "start_time": "2021-11-16T15:21:35.606Z"
   },
   {
    "duration": 34,
    "start_time": "2021-11-16T15:21:35.616Z"
   },
   {
    "duration": 36,
    "start_time": "2021-11-16T15:21:35.653Z"
   },
   {
    "duration": 14,
    "start_time": "2021-11-16T15:21:35.693Z"
   },
   {
    "duration": 14,
    "start_time": "2021-11-16T15:21:35.711Z"
   },
   {
    "duration": 4893,
    "start_time": "2021-11-16T15:21:35.728Z"
   },
   {
    "duration": 922,
    "start_time": "2021-11-16T15:21:40.624Z"
   },
   {
    "duration": 40,
    "start_time": "2021-11-16T15:21:41.583Z"
   },
   {
    "duration": 66,
    "start_time": "2021-11-16T15:21:41.627Z"
   },
   {
    "duration": 8,
    "start_time": "2021-11-16T15:21:41.696Z"
   },
   {
    "duration": 11,
    "start_time": "2021-11-16T15:21:41.710Z"
   },
   {
    "duration": 67,
    "start_time": "2021-11-16T15:21:41.724Z"
   },
   {
    "duration": 236,
    "start_time": "2021-11-16T15:21:41.800Z"
   },
   {
    "duration": 87,
    "start_time": "2021-11-16T15:21:42.040Z"
   },
   {
    "duration": 20,
    "start_time": "2021-11-16T15:21:42.129Z"
   },
   {
    "duration": 40,
    "start_time": "2021-11-16T15:21:42.152Z"
   },
   {
    "duration": 9,
    "start_time": "2021-11-16T15:21:42.195Z"
   },
   {
    "duration": 10,
    "start_time": "2021-11-16T15:21:42.207Z"
   },
   {
    "duration": 143,
    "start_time": "2021-11-16T15:21:42.219Z"
   },
   {
    "duration": 77,
    "start_time": "2021-11-16T15:21:42.365Z"
   },
   {
    "duration": 9,
    "start_time": "2021-11-16T15:21:42.444Z"
   },
   {
    "duration": 73,
    "start_time": "2021-11-16T15:21:42.455Z"
   },
   {
    "duration": 6,
    "start_time": "2021-11-16T15:21:42.531Z"
   },
   {
    "duration": 91,
    "start_time": "2021-11-16T15:21:42.540Z"
   },
   {
    "duration": 6,
    "start_time": "2021-11-16T15:21:42.633Z"
   },
   {
    "duration": 51,
    "start_time": "2021-11-16T15:21:42.641Z"
   },
   {
    "duration": 19,
    "start_time": "2021-11-16T15:21:42.696Z"
   },
   {
    "duration": 7,
    "start_time": "2021-11-16T15:21:42.717Z"
   },
   {
    "duration": 8,
    "start_time": "2021-11-16T15:21:42.726Z"
   },
   {
    "duration": 12,
    "start_time": "2021-11-16T15:21:42.736Z"
   },
   {
    "duration": 64,
    "start_time": "2021-11-16T15:21:42.751Z"
   },
   {
    "duration": 25,
    "start_time": "2021-11-16T15:21:42.817Z"
   },
   {
    "duration": 51,
    "start_time": "2021-11-16T15:21:42.845Z"
   },
   {
    "duration": 13,
    "start_time": "2021-11-16T15:21:42.899Z"
   },
   {
    "duration": 13,
    "start_time": "2021-11-16T15:21:42.915Z"
   },
   {
    "duration": 9,
    "start_time": "2021-11-16T15:21:42.931Z"
   },
   {
    "duration": 125,
    "start_time": "2021-11-16T15:21:42.942Z"
   },
   {
    "duration": 67,
    "start_time": "2021-11-16T15:21:43.070Z"
   },
   {
    "duration": 24,
    "start_time": "2021-11-16T15:30:00.062Z"
   },
   {
    "duration": 9,
    "start_time": "2021-11-16T15:30:00.711Z"
   },
   {
    "duration": 12,
    "start_time": "2021-11-16T15:32:24.905Z"
   },
   {
    "duration": 8,
    "start_time": "2021-11-16T16:06:02.311Z"
   },
   {
    "duration": 8,
    "start_time": "2021-11-16T16:12:02.724Z"
   },
   {
    "duration": 7,
    "start_time": "2021-11-16T16:12:42.380Z"
   },
   {
    "duration": 6,
    "start_time": "2021-11-16T16:12:56.951Z"
   },
   {
    "duration": 8,
    "start_time": "2021-11-16T16:13:21.104Z"
   },
   {
    "duration": 6,
    "start_time": "2021-11-16T16:13:30.221Z"
   },
   {
    "duration": 6,
    "start_time": "2021-11-16T16:13:44.203Z"
   },
   {
    "duration": 5,
    "start_time": "2021-11-16T16:13:50.460Z"
   },
   {
    "duration": 3731,
    "start_time": "2021-11-16T16:23:18.459Z"
   },
   {
    "duration": 5,
    "start_time": "2021-11-16T16:23:22.193Z"
   },
   {
    "duration": 102,
    "start_time": "2021-11-16T16:23:22.201Z"
   },
   {
    "duration": 29,
    "start_time": "2021-11-16T16:23:22.306Z"
   },
   {
    "duration": 86,
    "start_time": "2021-11-16T16:23:22.338Z"
   },
   {
    "duration": 22,
    "start_time": "2021-11-16T16:23:22.427Z"
   },
   {
    "duration": 37,
    "start_time": "2021-11-16T16:23:22.452Z"
   },
   {
    "duration": 14,
    "start_time": "2021-11-16T16:23:22.495Z"
   },
   {
    "duration": 12,
    "start_time": "2021-11-16T16:23:22.512Z"
   },
   {
    "duration": 9,
    "start_time": "2021-11-16T16:23:22.527Z"
   },
   {
    "duration": 52,
    "start_time": "2021-11-16T16:23:22.539Z"
   },
   {
    "duration": 9,
    "start_time": "2021-11-16T16:23:22.595Z"
   },
   {
    "duration": 17,
    "start_time": "2021-11-16T16:23:22.607Z"
   },
   {
    "duration": 8,
    "start_time": "2021-11-16T16:23:22.628Z"
   },
   {
    "duration": 50,
    "start_time": "2021-11-16T16:23:22.639Z"
   },
   {
    "duration": 8,
    "start_time": "2021-11-16T16:23:22.692Z"
   },
   {
    "duration": 18,
    "start_time": "2021-11-16T16:23:22.703Z"
   },
   {
    "duration": 14,
    "start_time": "2021-11-16T16:23:22.724Z"
   },
   {
    "duration": 65,
    "start_time": "2021-11-16T16:23:22.740Z"
   },
   {
    "duration": 7,
    "start_time": "2021-11-16T16:23:22.808Z"
   },
   {
    "duration": 23,
    "start_time": "2021-11-16T16:23:22.818Z"
   },
   {
    "duration": 48,
    "start_time": "2021-11-16T16:23:22.844Z"
   },
   {
    "duration": 11,
    "start_time": "2021-11-16T16:23:22.900Z"
   },
   {
    "duration": 9,
    "start_time": "2021-11-16T16:23:22.915Z"
   },
   {
    "duration": 823,
    "start_time": "2021-11-16T16:23:22.927Z"
   },
   {
    "duration": 50,
    "start_time": "2021-11-16T16:23:23.753Z"
   },
   {
    "duration": 13,
    "start_time": "2021-11-16T16:23:23.805Z"
   },
   {
    "duration": 7,
    "start_time": "2021-11-16T16:23:23.820Z"
   },
   {
    "duration": 59,
    "start_time": "2021-11-16T16:23:23.829Z"
   },
   {
    "duration": 14,
    "start_time": "2021-11-16T16:23:23.891Z"
   },
   {
    "duration": 205,
    "start_time": "2021-11-16T16:23:23.908Z"
   },
   {
    "duration": 111,
    "start_time": "2021-11-16T16:23:24.115Z"
   },
   {
    "duration": 24,
    "start_time": "2021-11-16T16:23:24.284Z"
   },
   {
    "duration": 26,
    "start_time": "2021-11-16T16:23:24.311Z"
   },
   {
    "duration": 44,
    "start_time": "2021-11-16T16:23:24.341Z"
   },
   {
    "duration": 17,
    "start_time": "2021-11-16T16:23:24.388Z"
   },
   {
    "duration": 131,
    "start_time": "2021-11-16T16:23:24.408Z"
   },
   {
    "duration": 98,
    "start_time": "2021-11-16T16:23:24.543Z"
   },
   {
    "duration": 14,
    "start_time": "2021-11-16T16:23:24.644Z"
   },
   {
    "duration": 76,
    "start_time": "2021-11-16T16:23:24.661Z"
   },
   {
    "duration": 8,
    "start_time": "2021-11-16T16:23:24.740Z"
   },
   {
    "duration": 95,
    "start_time": "2021-11-16T16:23:24.750Z"
   },
   {
    "duration": 33,
    "start_time": "2021-11-16T16:23:24.848Z"
   },
   {
    "duration": 15,
    "start_time": "2021-11-16T16:23:24.884Z"
   },
   {
    "duration": 16,
    "start_time": "2021-11-16T16:23:24.903Z"
   },
   {
    "duration": 10,
    "start_time": "2021-11-16T16:23:24.926Z"
   },
   {
    "duration": 45,
    "start_time": "2021-11-16T16:23:24.940Z"
   },
   {
    "duration": 17,
    "start_time": "2021-11-16T16:23:24.988Z"
   },
   {
    "duration": 29,
    "start_time": "2021-11-16T16:23:25.008Z"
   },
   {
    "duration": 43,
    "start_time": "2021-11-16T16:23:25.040Z"
   },
   {
    "duration": 10,
    "start_time": "2021-11-16T16:23:25.086Z"
   },
   {
    "duration": 14,
    "start_time": "2021-11-16T16:23:25.098Z"
   },
   {
    "duration": 16,
    "start_time": "2021-11-16T16:23:25.115Z"
   },
   {
    "duration": 10,
    "start_time": "2021-11-16T16:23:25.136Z"
   },
   {
    "duration": 99,
    "start_time": "2021-11-16T16:23:25.183Z"
   },
   {
    "duration": 58,
    "start_time": "2021-11-16T16:23:25.285Z"
   },
   {
    "duration": 1999,
    "start_time": "2021-11-16T16:24:23.930Z"
   },
   {
    "duration": 5,
    "start_time": "2021-11-16T16:24:25.933Z"
   },
   {
    "duration": 82,
    "start_time": "2021-11-16T16:24:25.943Z"
   },
   {
    "duration": 33,
    "start_time": "2021-11-16T16:24:26.029Z"
   },
   {
    "duration": 89,
    "start_time": "2021-11-16T16:24:26.066Z"
   },
   {
    "duration": 25,
    "start_time": "2021-11-16T16:24:26.159Z"
   },
   {
    "duration": 15,
    "start_time": "2021-11-16T16:24:26.186Z"
   },
   {
    "duration": 15,
    "start_time": "2021-11-16T16:24:26.207Z"
   },
   {
    "duration": 15,
    "start_time": "2021-11-16T16:24:26.227Z"
   },
   {
    "duration": 49,
    "start_time": "2021-11-16T16:24:26.245Z"
   },
   {
    "duration": 14,
    "start_time": "2021-11-16T16:24:26.298Z"
   },
   {
    "duration": 7,
    "start_time": "2021-11-16T16:24:26.316Z"
   },
   {
    "duration": 19,
    "start_time": "2021-11-16T16:24:26.325Z"
   },
   {
    "duration": 42,
    "start_time": "2021-11-16T16:24:26.346Z"
   },
   {
    "duration": 15,
    "start_time": "2021-11-16T16:24:26.390Z"
   },
   {
    "duration": 8,
    "start_time": "2021-11-16T16:24:26.408Z"
   },
   {
    "duration": 17,
    "start_time": "2021-11-16T16:24:26.419Z"
   },
   {
    "duration": 56,
    "start_time": "2021-11-16T16:24:26.439Z"
   },
   {
    "duration": 20,
    "start_time": "2021-11-16T16:24:26.499Z"
   },
   {
    "duration": 8,
    "start_time": "2021-11-16T16:24:26.522Z"
   },
   {
    "duration": 50,
    "start_time": "2021-11-16T16:24:26.534Z"
   },
   {
    "duration": 38,
    "start_time": "2021-11-16T16:24:26.587Z"
   },
   {
    "duration": 12,
    "start_time": "2021-11-16T16:24:26.634Z"
   },
   {
    "duration": 36,
    "start_time": "2021-11-16T16:24:26.651Z"
   },
   {
    "duration": 959,
    "start_time": "2021-11-16T16:24:26.690Z"
   },
   {
    "duration": 53,
    "start_time": "2021-11-16T16:24:27.651Z"
   },
   {
    "duration": 9,
    "start_time": "2021-11-16T16:24:27.707Z"
   },
   {
    "duration": 63,
    "start_time": "2021-11-16T16:24:27.719Z"
   },
   {
    "duration": 10,
    "start_time": "2021-11-16T16:24:27.785Z"
   },
   {
    "duration": 9,
    "start_time": "2021-11-16T16:24:27.797Z"
   },
   {
    "duration": 199,
    "start_time": "2021-11-16T16:24:27.809Z"
   },
   {
    "duration": 121,
    "start_time": "2021-11-16T16:24:28.011Z"
   },
   {
    "duration": 65,
    "start_time": "2021-11-16T16:24:28.134Z"
   },
   {
    "duration": 15,
    "start_time": "2021-11-16T16:24:28.201Z"
   },
   {
    "duration": 7,
    "start_time": "2021-11-16T16:24:28.220Z"
   },
   {
    "duration": 55,
    "start_time": "2021-11-16T16:24:28.230Z"
   },
   {
    "duration": 129,
    "start_time": "2021-11-16T16:24:28.288Z"
   },
   {
    "duration": 94,
    "start_time": "2021-11-16T16:24:28.420Z"
   },
   {
    "duration": 14,
    "start_time": "2021-11-16T16:24:28.517Z"
   },
   {
    "duration": 116,
    "start_time": "2021-11-16T16:24:28.535Z"
   },
   {
    "duration": 28,
    "start_time": "2021-11-16T16:24:28.655Z"
   },
   {
    "duration": 70,
    "start_time": "2021-11-16T16:24:28.687Z"
   },
   {
    "duration": 10,
    "start_time": "2021-11-16T16:24:28.783Z"
   },
   {
    "duration": 16,
    "start_time": "2021-11-16T16:24:28.796Z"
   },
   {
    "duration": 13,
    "start_time": "2021-11-16T16:24:28.815Z"
   },
   {
    "duration": 51,
    "start_time": "2021-11-16T16:24:28.831Z"
   },
   {
    "duration": 9,
    "start_time": "2021-11-16T16:24:28.887Z"
   },
   {
    "duration": 11,
    "start_time": "2021-11-16T16:24:28.899Z"
   },
   {
    "duration": 24,
    "start_time": "2021-11-16T16:24:28.913Z"
   },
   {
    "duration": 60,
    "start_time": "2021-11-16T16:24:28.940Z"
   },
   {
    "duration": 13,
    "start_time": "2021-11-16T16:24:29.003Z"
   },
   {
    "duration": 8,
    "start_time": "2021-11-16T16:24:29.020Z"
   },
   {
    "duration": 53,
    "start_time": "2021-11-16T16:24:29.030Z"
   },
   {
    "duration": 7,
    "start_time": "2021-11-16T16:24:29.085Z"
   },
   {
    "duration": 87,
    "start_time": "2021-11-16T16:24:29.095Z"
   },
   {
    "duration": 55,
    "start_time": "2021-11-16T16:24:29.185Z"
   },
   {
    "duration": 1724,
    "start_time": "2021-11-16T16:45:09.000Z"
   },
   {
    "duration": 4,
    "start_time": "2021-11-16T16:45:10.728Z"
   },
   {
    "duration": 78,
    "start_time": "2021-11-16T16:45:10.736Z"
   },
   {
    "duration": 37,
    "start_time": "2021-11-16T16:45:10.818Z"
   },
   {
    "duration": 83,
    "start_time": "2021-11-16T16:45:10.858Z"
   },
   {
    "duration": 16,
    "start_time": "2021-11-16T16:45:10.945Z"
   },
   {
    "duration": 13,
    "start_time": "2021-11-16T16:45:10.983Z"
   },
   {
    "duration": 17,
    "start_time": "2021-11-16T16:45:11.000Z"
   },
   {
    "duration": 11,
    "start_time": "2021-11-16T16:45:11.020Z"
   },
   {
    "duration": 52,
    "start_time": "2021-11-16T16:45:11.034Z"
   },
   {
    "duration": 10,
    "start_time": "2021-11-16T16:45:11.089Z"
   },
   {
    "duration": 7,
    "start_time": "2021-11-16T16:45:11.103Z"
   },
   {
    "duration": 16,
    "start_time": "2021-11-16T16:45:11.113Z"
   },
   {
    "duration": 52,
    "start_time": "2021-11-16T16:45:11.132Z"
   },
   {
    "duration": 7,
    "start_time": "2021-11-16T16:45:11.187Z"
   },
   {
    "duration": 8,
    "start_time": "2021-11-16T16:45:11.197Z"
   },
   {
    "duration": 16,
    "start_time": "2021-11-16T16:45:11.209Z"
   },
   {
    "duration": 15,
    "start_time": "2021-11-16T16:45:11.229Z"
   },
   {
    "duration": 17,
    "start_time": "2021-11-16T16:45:11.284Z"
   },
   {
    "duration": 9,
    "start_time": "2021-11-16T16:45:11.304Z"
   },
   {
    "duration": 21,
    "start_time": "2021-11-16T16:45:11.316Z"
   },
   {
    "duration": 63,
    "start_time": "2021-11-16T16:45:11.339Z"
   },
   {
    "duration": 10,
    "start_time": "2021-11-16T16:45:11.412Z"
   },
   {
    "duration": 16,
    "start_time": "2021-11-16T16:45:11.426Z"
   },
   {
    "duration": 1030,
    "start_time": "2021-11-16T16:45:11.445Z"
   },
   {
    "duration": 25,
    "start_time": "2021-11-16T16:45:12.478Z"
   },
   {
    "duration": 14,
    "start_time": "2021-11-16T16:45:12.506Z"
   },
   {
    "duration": 59,
    "start_time": "2021-11-16T16:45:12.523Z"
   },
   {
    "duration": 10,
    "start_time": "2021-11-16T16:45:12.585Z"
   },
   {
    "duration": 9,
    "start_time": "2021-11-16T16:45:12.598Z"
   },
   {
    "duration": 301,
    "start_time": "2021-11-16T16:45:12.610Z"
   },
   {
    "duration": 93,
    "start_time": "2021-11-16T16:45:12.916Z"
   },
   {
    "duration": 17,
    "start_time": "2021-11-16T16:45:13.011Z"
   },
   {
    "duration": 53,
    "start_time": "2021-11-16T16:45:13.030Z"
   },
   {
    "duration": 8,
    "start_time": "2021-11-16T16:45:13.086Z"
   },
   {
    "duration": 13,
    "start_time": "2021-11-16T16:45:13.096Z"
   },
   {
    "duration": 186,
    "start_time": "2021-11-16T16:45:13.112Z"
   },
   {
    "duration": 88,
    "start_time": "2021-11-16T16:45:13.301Z"
   },
   {
    "duration": 12,
    "start_time": "2021-11-16T16:45:13.392Z"
   },
   {
    "duration": 113,
    "start_time": "2021-11-16T16:45:13.407Z"
   },
   {
    "duration": 10,
    "start_time": "2021-11-16T16:45:13.524Z"
   },
   {
    "duration": 124,
    "start_time": "2021-11-16T16:45:13.537Z"
   },
   {
    "duration": 20,
    "start_time": "2021-11-16T16:45:13.663Z"
   },
   {
    "duration": 13,
    "start_time": "2021-11-16T16:45:13.687Z"
   },
   {
    "duration": 21,
    "start_time": "2021-11-16T16:45:13.704Z"
   },
   {
    "duration": 10,
    "start_time": "2021-11-16T16:45:13.728Z"
   },
   {
    "duration": 54,
    "start_time": "2021-11-16T16:45:13.741Z"
   },
   {
    "duration": 15,
    "start_time": "2021-11-16T16:45:13.798Z"
   },
   {
    "duration": 35,
    "start_time": "2021-11-16T16:45:13.816Z"
   },
   {
    "duration": 53,
    "start_time": "2021-11-16T16:45:13.854Z"
   },
   {
    "duration": 12,
    "start_time": "2021-11-16T16:45:13.910Z"
   },
   {
    "duration": 11,
    "start_time": "2021-11-16T16:45:13.926Z"
   },
   {
    "duration": 48,
    "start_time": "2021-11-16T16:45:13.941Z"
   },
   {
    "duration": 15,
    "start_time": "2021-11-16T16:45:13.992Z"
   },
   {
    "duration": 102,
    "start_time": "2021-11-16T16:45:14.010Z"
   },
   {
    "duration": 82,
    "start_time": "2021-11-16T16:45:14.115Z"
   }
  ],
  "kernelspec": {
   "display_name": "Python 3 (ipykernel)",
   "language": "python",
   "name": "python3"
  },
  "language_info": {
   "codemirror_mode": {
    "name": "ipython",
    "version": 3
   },
   "file_extension": ".py",
   "mimetype": "text/x-python",
   "name": "python",
   "nbconvert_exporter": "python",
   "pygments_lexer": "ipython3",
   "version": "3.9.7"
  },
  "toc": {
   "base_numbering": 1,
   "nav_menu": {},
   "number_sections": true,
   "sideBar": true,
   "skip_h1_title": true,
   "title_cell": "Table of Contents",
   "title_sidebar": "Contents",
   "toc_cell": false,
   "toc_position": {},
   "toc_section_display": true,
   "toc_window_display": false
  }
 },
 "nbformat": 4,
 "nbformat_minor": 2
}
