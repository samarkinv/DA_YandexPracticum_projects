{
 "cells": [
  {
   "cell_type": "markdown",
   "metadata": {},
   "source": [
    "# Кластеризация и прогнозирование оттока клиентов <br>сети фитнес-центров «Культурист дата-саентист» "
   ]
  },
  {
   "cell_type": "markdown",
   "metadata": {},
   "source": [
    "## 1. Обзор данных"
   ]
  },
  {
   "cell_type": "markdown",
   "metadata": {},
   "source": [
    "**Импорты**"
   ]
  },
  {
   "cell_type": "code",
   "execution_count": 1,
   "metadata": {},
   "outputs": [],
   "source": [
    "import pandas as pd\n",
    "import seaborn as sns\n",
    "import matplotlib.pyplot as plt\n",
    "\n",
    "from sklearn.model_selection import train_test_split\n",
    "from sklearn.linear_model import LogisticRegression\n",
    "from sklearn.ensemble import RandomForestClassifier\n",
    "from sklearn.preprocessing import StandardScaler\n",
    "from sklearn.metrics import accuracy_score, precision_score, recall_score, f1_score\n",
    "from scipy.cluster.hierarchy import dendrogram, linkage\n",
    "from sklearn.cluster import KMeans\n",
    "\n",
    "import warnings\n",
    "warnings.filterwarnings(\"ignore\")"
   ]
  },
  {
   "cell_type": "code",
   "execution_count": 2,
   "metadata": {},
   "outputs": [],
   "source": [
    "#pip install -U seaborn"
   ]
  },
  {
   "cell_type": "markdown",
   "metadata": {},
   "source": [
    "**Фреймы**"
   ]
  },
  {
   "cell_type": "code",
   "execution_count": 3,
   "metadata": {},
   "outputs": [],
   "source": [
    "df = pd.read_csv('gym_churn.csv')"
   ]
  },
  {
   "cell_type": "markdown",
   "metadata": {},
   "source": [
    "**Обзор**"
   ]
  },
  {
   "cell_type": "code",
   "execution_count": 4,
   "metadata": {},
   "outputs": [
    {
     "data": {
      "text/html": [
       "<div>\n",
       "<style scoped>\n",
       "    .dataframe tbody tr th:only-of-type {\n",
       "        vertical-align: middle;\n",
       "    }\n",
       "\n",
       "    .dataframe tbody tr th {\n",
       "        vertical-align: top;\n",
       "    }\n",
       "\n",
       "    .dataframe thead th {\n",
       "        text-align: right;\n",
       "    }\n",
       "</style>\n",
       "<table border=\"1\" class=\"dataframe\">\n",
       "  <thead>\n",
       "    <tr style=\"text-align: right;\">\n",
       "      <th></th>\n",
       "      <th>gender</th>\n",
       "      <th>Near_Location</th>\n",
       "      <th>Partner</th>\n",
       "      <th>Promo_friends</th>\n",
       "      <th>Phone</th>\n",
       "      <th>Contract_period</th>\n",
       "      <th>Group_visits</th>\n",
       "      <th>Age</th>\n",
       "      <th>Avg_additional_charges_total</th>\n",
       "      <th>Month_to_end_contract</th>\n",
       "      <th>Lifetime</th>\n",
       "      <th>Avg_class_frequency_total</th>\n",
       "      <th>Avg_class_frequency_current_month</th>\n",
       "      <th>Churn</th>\n",
       "    </tr>\n",
       "  </thead>\n",
       "  <tbody>\n",
       "    <tr>\n",
       "      <th>0</th>\n",
       "      <td>1</td>\n",
       "      <td>1</td>\n",
       "      <td>1</td>\n",
       "      <td>1</td>\n",
       "      <td>0</td>\n",
       "      <td>6</td>\n",
       "      <td>1</td>\n",
       "      <td>29</td>\n",
       "      <td>14.227470</td>\n",
       "      <td>5.0</td>\n",
       "      <td>3</td>\n",
       "      <td>0.020398</td>\n",
       "      <td>0.000000</td>\n",
       "      <td>0</td>\n",
       "    </tr>\n",
       "    <tr>\n",
       "      <th>1</th>\n",
       "      <td>0</td>\n",
       "      <td>1</td>\n",
       "      <td>0</td>\n",
       "      <td>0</td>\n",
       "      <td>1</td>\n",
       "      <td>12</td>\n",
       "      <td>1</td>\n",
       "      <td>31</td>\n",
       "      <td>113.202938</td>\n",
       "      <td>12.0</td>\n",
       "      <td>7</td>\n",
       "      <td>1.922936</td>\n",
       "      <td>1.910244</td>\n",
       "      <td>0</td>\n",
       "    </tr>\n",
       "    <tr>\n",
       "      <th>2</th>\n",
       "      <td>0</td>\n",
       "      <td>1</td>\n",
       "      <td>1</td>\n",
       "      <td>0</td>\n",
       "      <td>1</td>\n",
       "      <td>1</td>\n",
       "      <td>0</td>\n",
       "      <td>28</td>\n",
       "      <td>129.448479</td>\n",
       "      <td>1.0</td>\n",
       "      <td>2</td>\n",
       "      <td>1.859098</td>\n",
       "      <td>1.736502</td>\n",
       "      <td>0</td>\n",
       "    </tr>\n",
       "    <tr>\n",
       "      <th>3</th>\n",
       "      <td>0</td>\n",
       "      <td>1</td>\n",
       "      <td>1</td>\n",
       "      <td>1</td>\n",
       "      <td>1</td>\n",
       "      <td>12</td>\n",
       "      <td>1</td>\n",
       "      <td>33</td>\n",
       "      <td>62.669863</td>\n",
       "      <td>12.0</td>\n",
       "      <td>2</td>\n",
       "      <td>3.205633</td>\n",
       "      <td>3.357215</td>\n",
       "      <td>0</td>\n",
       "    </tr>\n",
       "    <tr>\n",
       "      <th>4</th>\n",
       "      <td>1</td>\n",
       "      <td>1</td>\n",
       "      <td>1</td>\n",
       "      <td>1</td>\n",
       "      <td>1</td>\n",
       "      <td>1</td>\n",
       "      <td>0</td>\n",
       "      <td>26</td>\n",
       "      <td>198.362265</td>\n",
       "      <td>1.0</td>\n",
       "      <td>3</td>\n",
       "      <td>1.113884</td>\n",
       "      <td>1.120078</td>\n",
       "      <td>0</td>\n",
       "    </tr>\n",
       "  </tbody>\n",
       "</table>\n",
       "</div>"
      ],
      "text/plain": [
       "   gender  Near_Location  Partner  Promo_friends  Phone  Contract_period  \\\n",
       "0       1              1        1              1      0                6   \n",
       "1       0              1        0              0      1               12   \n",
       "2       0              1        1              0      1                1   \n",
       "3       0              1        1              1      1               12   \n",
       "4       1              1        1              1      1                1   \n",
       "\n",
       "   Group_visits  Age  Avg_additional_charges_total  Month_to_end_contract  \\\n",
       "0             1   29                     14.227470                    5.0   \n",
       "1             1   31                    113.202938                   12.0   \n",
       "2             0   28                    129.448479                    1.0   \n",
       "3             1   33                     62.669863                   12.0   \n",
       "4             0   26                    198.362265                    1.0   \n",
       "\n",
       "   Lifetime  Avg_class_frequency_total  Avg_class_frequency_current_month  \\\n",
       "0         3                   0.020398                           0.000000   \n",
       "1         7                   1.922936                           1.910244   \n",
       "2         2                   1.859098                           1.736502   \n",
       "3         2                   3.205633                           3.357215   \n",
       "4         3                   1.113884                           1.120078   \n",
       "\n",
       "   Churn  \n",
       "0      0  \n",
       "1      0  \n",
       "2      0  \n",
       "3      0  \n",
       "4      0  "
      ]
     },
     "execution_count": 4,
     "metadata": {},
     "output_type": "execute_result"
    }
   ],
   "source": [
    "df.head()"
   ]
  },
  {
   "cell_type": "code",
   "execution_count": 5,
   "metadata": {},
   "outputs": [
    {
     "name": "stdout",
     "output_type": "stream",
     "text": [
      "<class 'pandas.core.frame.DataFrame'>\n",
      "RangeIndex: 4000 entries, 0 to 3999\n",
      "Data columns (total 14 columns):\n",
      " #   Column                             Non-Null Count  Dtype  \n",
      "---  ------                             --------------  -----  \n",
      " 0   gender                             4000 non-null   int64  \n",
      " 1   Near_Location                      4000 non-null   int64  \n",
      " 2   Partner                            4000 non-null   int64  \n",
      " 3   Promo_friends                      4000 non-null   int64  \n",
      " 4   Phone                              4000 non-null   int64  \n",
      " 5   Contract_period                    4000 non-null   int64  \n",
      " 6   Group_visits                       4000 non-null   int64  \n",
      " 7   Age                                4000 non-null   int64  \n",
      " 8   Avg_additional_charges_total       4000 non-null   float64\n",
      " 9   Month_to_end_contract              4000 non-null   float64\n",
      " 10  Lifetime                           4000 non-null   int64  \n",
      " 11  Avg_class_frequency_total          4000 non-null   float64\n",
      " 12  Avg_class_frequency_current_month  4000 non-null   float64\n",
      " 13  Churn                              4000 non-null   int64  \n",
      "dtypes: float64(4), int64(10)\n",
      "memory usage: 437.6 KB\n"
     ]
    }
   ],
   "source": [
    "df.info()"
   ]
  },
  {
   "cell_type": "code",
   "execution_count": 6,
   "metadata": {},
   "outputs": [],
   "source": [
    "#небольшая предобработка\n",
    "df.columns = df.columns.str.lower()"
   ]
  },
  {
   "cell_type": "code",
   "execution_count": 7,
   "metadata": {},
   "outputs": [
    {
     "name": "stdout",
     "output_type": "stream",
     "text": [
      "Дубликатов в таблице: 0\n"
     ]
    }
   ],
   "source": [
    "#и сразу дубликаты посмотрим\n",
    "print('Дубликатов в таблице:', df.duplicated().sum())"
   ]
  },
  {
   "cell_type": "markdown",
   "metadata": {},
   "source": [
    "**Резюме по имеющимся данным**\n",
    "- 4000 наблюдений\n",
    "- 13 признаков и 1 целевая переменная\n",
    "- Пропусков нет\n",
    "- Дубликатов нет\n",
    "- Категориальных переменных без числовых значений нет"
   ]
  },
  {
   "cell_type": "markdown",
   "metadata": {},
   "source": [
    "## 2. EDA: Исследовательский анализ данных"
   ]
  },
  {
   "cell_type": "markdown",
   "metadata": {},
   "source": [
    "**Средние значения по всем клиентам**"
   ]
  },
  {
   "cell_type": "code",
   "execution_count": 8,
   "metadata": {},
   "outputs": [
    {
     "data": {
      "text/html": [
       "<div>\n",
       "<style scoped>\n",
       "    .dataframe tbody tr th:only-of-type {\n",
       "        vertical-align: middle;\n",
       "    }\n",
       "\n",
       "    .dataframe tbody tr th {\n",
       "        vertical-align: top;\n",
       "    }\n",
       "\n",
       "    .dataframe thead th {\n",
       "        text-align: right;\n",
       "    }\n",
       "</style>\n",
       "<table border=\"1\" class=\"dataframe\">\n",
       "  <thead>\n",
       "    <tr style=\"text-align: right;\">\n",
       "      <th></th>\n",
       "      <th>gender</th>\n",
       "      <th>near_location</th>\n",
       "      <th>partner</th>\n",
       "      <th>promo_friends</th>\n",
       "      <th>phone</th>\n",
       "      <th>contract_period</th>\n",
       "      <th>group_visits</th>\n",
       "      <th>age</th>\n",
       "      <th>avg_additional_charges_total</th>\n",
       "      <th>month_to_end_contract</th>\n",
       "      <th>lifetime</th>\n",
       "      <th>avg_class_frequency_total</th>\n",
       "      <th>avg_class_frequency_current_month</th>\n",
       "      <th>churn</th>\n",
       "    </tr>\n",
       "  </thead>\n",
       "  <tbody>\n",
       "    <tr>\n",
       "      <th>count</th>\n",
       "      <td>4000.000000</td>\n",
       "      <td>4000.000000</td>\n",
       "      <td>4000.000000</td>\n",
       "      <td>4000.000000</td>\n",
       "      <td>4000.000000</td>\n",
       "      <td>4000.000000</td>\n",
       "      <td>4000.000000</td>\n",
       "      <td>4000.000000</td>\n",
       "      <td>4000.000000</td>\n",
       "      <td>4000.000000</td>\n",
       "      <td>4000.000000</td>\n",
       "      <td>4000.000000</td>\n",
       "      <td>4000.000000</td>\n",
       "      <td>4000.000000</td>\n",
       "    </tr>\n",
       "    <tr>\n",
       "      <th>mean</th>\n",
       "      <td>0.510250</td>\n",
       "      <td>0.845250</td>\n",
       "      <td>0.486750</td>\n",
       "      <td>0.308500</td>\n",
       "      <td>0.903500</td>\n",
       "      <td>4.681250</td>\n",
       "      <td>0.412250</td>\n",
       "      <td>29.184250</td>\n",
       "      <td>146.943728</td>\n",
       "      <td>4.322750</td>\n",
       "      <td>3.724750</td>\n",
       "      <td>1.879020</td>\n",
       "      <td>1.767052</td>\n",
       "      <td>0.265250</td>\n",
       "    </tr>\n",
       "    <tr>\n",
       "      <th>std</th>\n",
       "      <td>0.499957</td>\n",
       "      <td>0.361711</td>\n",
       "      <td>0.499887</td>\n",
       "      <td>0.461932</td>\n",
       "      <td>0.295313</td>\n",
       "      <td>4.549706</td>\n",
       "      <td>0.492301</td>\n",
       "      <td>3.258367</td>\n",
       "      <td>96.355602</td>\n",
       "      <td>4.191297</td>\n",
       "      <td>3.749267</td>\n",
       "      <td>0.972245</td>\n",
       "      <td>1.052906</td>\n",
       "      <td>0.441521</td>\n",
       "    </tr>\n",
       "    <tr>\n",
       "      <th>min</th>\n",
       "      <td>0.000000</td>\n",
       "      <td>0.000000</td>\n",
       "      <td>0.000000</td>\n",
       "      <td>0.000000</td>\n",
       "      <td>0.000000</td>\n",
       "      <td>1.000000</td>\n",
       "      <td>0.000000</td>\n",
       "      <td>18.000000</td>\n",
       "      <td>0.148205</td>\n",
       "      <td>1.000000</td>\n",
       "      <td>0.000000</td>\n",
       "      <td>0.000000</td>\n",
       "      <td>0.000000</td>\n",
       "      <td>0.000000</td>\n",
       "    </tr>\n",
       "    <tr>\n",
       "      <th>25%</th>\n",
       "      <td>0.000000</td>\n",
       "      <td>1.000000</td>\n",
       "      <td>0.000000</td>\n",
       "      <td>0.000000</td>\n",
       "      <td>1.000000</td>\n",
       "      <td>1.000000</td>\n",
       "      <td>0.000000</td>\n",
       "      <td>27.000000</td>\n",
       "      <td>68.868830</td>\n",
       "      <td>1.000000</td>\n",
       "      <td>1.000000</td>\n",
       "      <td>1.180875</td>\n",
       "      <td>0.963003</td>\n",
       "      <td>0.000000</td>\n",
       "    </tr>\n",
       "    <tr>\n",
       "      <th>50%</th>\n",
       "      <td>1.000000</td>\n",
       "      <td>1.000000</td>\n",
       "      <td>0.000000</td>\n",
       "      <td>0.000000</td>\n",
       "      <td>1.000000</td>\n",
       "      <td>1.000000</td>\n",
       "      <td>0.000000</td>\n",
       "      <td>29.000000</td>\n",
       "      <td>136.220159</td>\n",
       "      <td>1.000000</td>\n",
       "      <td>3.000000</td>\n",
       "      <td>1.832768</td>\n",
       "      <td>1.719574</td>\n",
       "      <td>0.000000</td>\n",
       "    </tr>\n",
       "    <tr>\n",
       "      <th>75%</th>\n",
       "      <td>1.000000</td>\n",
       "      <td>1.000000</td>\n",
       "      <td>1.000000</td>\n",
       "      <td>1.000000</td>\n",
       "      <td>1.000000</td>\n",
       "      <td>6.000000</td>\n",
       "      <td>1.000000</td>\n",
       "      <td>31.000000</td>\n",
       "      <td>210.949625</td>\n",
       "      <td>6.000000</td>\n",
       "      <td>5.000000</td>\n",
       "      <td>2.536078</td>\n",
       "      <td>2.510336</td>\n",
       "      <td>1.000000</td>\n",
       "    </tr>\n",
       "    <tr>\n",
       "      <th>max</th>\n",
       "      <td>1.000000</td>\n",
       "      <td>1.000000</td>\n",
       "      <td>1.000000</td>\n",
       "      <td>1.000000</td>\n",
       "      <td>1.000000</td>\n",
       "      <td>12.000000</td>\n",
       "      <td>1.000000</td>\n",
       "      <td>41.000000</td>\n",
       "      <td>552.590740</td>\n",
       "      <td>12.000000</td>\n",
       "      <td>31.000000</td>\n",
       "      <td>6.023668</td>\n",
       "      <td>6.146783</td>\n",
       "      <td>1.000000</td>\n",
       "    </tr>\n",
       "  </tbody>\n",
       "</table>\n",
       "</div>"
      ],
      "text/plain": [
       "            gender  near_location      partner  promo_friends        phone  \\\n",
       "count  4000.000000    4000.000000  4000.000000    4000.000000  4000.000000   \n",
       "mean      0.510250       0.845250     0.486750       0.308500     0.903500   \n",
       "std       0.499957       0.361711     0.499887       0.461932     0.295313   \n",
       "min       0.000000       0.000000     0.000000       0.000000     0.000000   \n",
       "25%       0.000000       1.000000     0.000000       0.000000     1.000000   \n",
       "50%       1.000000       1.000000     0.000000       0.000000     1.000000   \n",
       "75%       1.000000       1.000000     1.000000       1.000000     1.000000   \n",
       "max       1.000000       1.000000     1.000000       1.000000     1.000000   \n",
       "\n",
       "       contract_period  group_visits          age  \\\n",
       "count      4000.000000   4000.000000  4000.000000   \n",
       "mean          4.681250      0.412250    29.184250   \n",
       "std           4.549706      0.492301     3.258367   \n",
       "min           1.000000      0.000000    18.000000   \n",
       "25%           1.000000      0.000000    27.000000   \n",
       "50%           1.000000      0.000000    29.000000   \n",
       "75%           6.000000      1.000000    31.000000   \n",
       "max          12.000000      1.000000    41.000000   \n",
       "\n",
       "       avg_additional_charges_total  month_to_end_contract     lifetime  \\\n",
       "count                   4000.000000            4000.000000  4000.000000   \n",
       "mean                     146.943728               4.322750     3.724750   \n",
       "std                       96.355602               4.191297     3.749267   \n",
       "min                        0.148205               1.000000     0.000000   \n",
       "25%                       68.868830               1.000000     1.000000   \n",
       "50%                      136.220159               1.000000     3.000000   \n",
       "75%                      210.949625               6.000000     5.000000   \n",
       "max                      552.590740              12.000000    31.000000   \n",
       "\n",
       "       avg_class_frequency_total  avg_class_frequency_current_month  \\\n",
       "count                4000.000000                        4000.000000   \n",
       "mean                    1.879020                           1.767052   \n",
       "std                     0.972245                           1.052906   \n",
       "min                     0.000000                           0.000000   \n",
       "25%                     1.180875                           0.963003   \n",
       "50%                     1.832768                           1.719574   \n",
       "75%                     2.536078                           2.510336   \n",
       "max                     6.023668                           6.146783   \n",
       "\n",
       "             churn  \n",
       "count  4000.000000  \n",
       "mean      0.265250  \n",
       "std       0.441521  \n",
       "min       0.000000  \n",
       "25%       0.000000  \n",
       "50%       0.000000  \n",
       "75%       1.000000  \n",
       "max       1.000000  "
      ]
     },
     "execution_count": 8,
     "metadata": {},
     "output_type": "execute_result"
    }
   ],
   "source": [
    "df.describe()"
   ]
  },
  {
   "cell_type": "markdown",
   "metadata": {},
   "source": [
    "**Наблюдения по данным:**\n",
    "- Мужчин и женщин поровну\n",
    "- 85% клиентов живут или работают рядом с фитнес-клубом\n",
    "- Половина клиентов - сотрудники компании-партнёра клуба\n",
    "- По акции \"Приведи друга\" пришло 30% клиентов\n",
    "- Подавляющая часть клиентов (90%) оставляет номер\n",
    "- Средняя длительность абонимента - 4.6 месяцев (то есть 3 или 6 месяцев)\n",
    "- 41% клиентов хоть раз посещал групповые программы\n",
    "- Средний возраст - 29 лет, а самому старшему клиенту 41 год\n",
    "- Средний лайфтайм - около 4 месяцев\n",
    "- Клуб в среднем посещают 2 раза в неделю (стандартное отклонение - 1 день): то есть от 1 до 3 дней. Частота посещений в неделю за последний месяц отличается не сильно. \n",
    "- Клиенты тратят на другие услуги фитнес-центра в среднем 150 у.е.\n",
    "- 26% всех клиентов (из данной таблицы) перестали ходить в текущем месяце"
   ]
  },
  {
   "cell_type": "markdown",
   "metadata": {},
   "source": [
    "**Средние значения по двум отдельным группам**\n",
    "\n",
    "Смотрим значения признаков в двух группах: тех, кто ушел в отток и тех, кто остался"
   ]
  },
  {
   "cell_type": "code",
   "execution_count": 9,
   "metadata": {},
   "outputs": [
    {
     "data": {
      "text/html": [
       "<div>\n",
       "<style scoped>\n",
       "    .dataframe tbody tr th:only-of-type {\n",
       "        vertical-align: middle;\n",
       "    }\n",
       "\n",
       "    .dataframe tbody tr th {\n",
       "        vertical-align: top;\n",
       "    }\n",
       "\n",
       "    .dataframe thead th {\n",
       "        text-align: right;\n",
       "    }\n",
       "</style>\n",
       "<table border=\"1\" class=\"dataframe\">\n",
       "  <thead>\n",
       "    <tr style=\"text-align: right;\">\n",
       "      <th>churn</th>\n",
       "      <th>0</th>\n",
       "      <th>1</th>\n",
       "    </tr>\n",
       "  </thead>\n",
       "  <tbody>\n",
       "    <tr>\n",
       "      <th>gender</th>\n",
       "      <td>0.510037</td>\n",
       "      <td>0.510839</td>\n",
       "    </tr>\n",
       "    <tr>\n",
       "      <th>near_location</th>\n",
       "      <td>0.873086</td>\n",
       "      <td>0.768143</td>\n",
       "    </tr>\n",
       "    <tr>\n",
       "      <th>partner</th>\n",
       "      <td>0.534195</td>\n",
       "      <td>0.355325</td>\n",
       "    </tr>\n",
       "    <tr>\n",
       "      <th>promo_friends</th>\n",
       "      <td>0.353522</td>\n",
       "      <td>0.183789</td>\n",
       "    </tr>\n",
       "    <tr>\n",
       "      <th>phone</th>\n",
       "      <td>0.903709</td>\n",
       "      <td>0.902922</td>\n",
       "    </tr>\n",
       "    <tr>\n",
       "      <th>contract_period</th>\n",
       "      <td>5.747193</td>\n",
       "      <td>1.728558</td>\n",
       "    </tr>\n",
       "    <tr>\n",
       "      <th>group_visits</th>\n",
       "      <td>0.464103</td>\n",
       "      <td>0.268615</td>\n",
       "    </tr>\n",
       "    <tr>\n",
       "      <th>age</th>\n",
       "      <td>29.976523</td>\n",
       "      <td>26.989632</td>\n",
       "    </tr>\n",
       "    <tr>\n",
       "      <th>avg_additional_charges_total</th>\n",
       "      <td>158.445715</td>\n",
       "      <td>115.082899</td>\n",
       "    </tr>\n",
       "    <tr>\n",
       "      <th>month_to_end_contract</th>\n",
       "      <td>5.283089</td>\n",
       "      <td>1.662582</td>\n",
       "    </tr>\n",
       "    <tr>\n",
       "      <th>lifetime</th>\n",
       "      <td>4.711807</td>\n",
       "      <td>0.990575</td>\n",
       "    </tr>\n",
       "    <tr>\n",
       "      <th>avg_class_frequency_total</th>\n",
       "      <td>2.024876</td>\n",
       "      <td>1.474995</td>\n",
       "    </tr>\n",
       "    <tr>\n",
       "      <th>avg_class_frequency_current_month</th>\n",
       "      <td>2.027882</td>\n",
       "      <td>1.044546</td>\n",
       "    </tr>\n",
       "  </tbody>\n",
       "</table>\n",
       "</div>"
      ],
      "text/plain": [
       "churn                                       0           1\n",
       "gender                               0.510037    0.510839\n",
       "near_location                        0.873086    0.768143\n",
       "partner                              0.534195    0.355325\n",
       "promo_friends                        0.353522    0.183789\n",
       "phone                                0.903709    0.902922\n",
       "contract_period                      5.747193    1.728558\n",
       "group_visits                         0.464103    0.268615\n",
       "age                                 29.976523   26.989632\n",
       "avg_additional_charges_total       158.445715  115.082899\n",
       "month_to_end_contract                5.283089    1.662582\n",
       "lifetime                             4.711807    0.990575\n",
       "avg_class_frequency_total            2.024876    1.474995\n",
       "avg_class_frequency_current_month    2.027882    1.044546"
      ]
     },
     "execution_count": 9,
     "metadata": {},
     "output_type": "execute_result"
    }
   ],
   "source": [
    "df.groupby('churn') \\\n",
    "    .mean().T"
   ]
  },
  {
   "cell_type": "markdown",
   "metadata": {},
   "source": [
    "**Наблюдения по данным:**\n",
    "- Клиенты, котрые остаются, немного чаще являются сотрудниками компаний-партнёров клуба\n",
    "- Равно как и те, кто пришли по акции \"Приведи друга\"\n",
    "- Очень показательная (и кажется очень логичная) ситуация с периодом абонимента. У тех, кто остается, он в среднем на 5 месяцев больше (длиннее). Столбец \"month_to_end_contract\" показывает то же самое. Есть ощущение, что он будет сильно скоррелирован со столбцом \"contract_period\". \n",
    "- Групповые занятия посещает почти в два раза больше тех, кто остается. (Тоже вполне логично: это показывает вовлечение в спорт. Пошел на допы, значит заинтересован.\n",
    "- Те, кто уходят, в среднем на 3 года моложе\n",
    "- Эту же мысль отчасти подтверждает и столбец \"avg_additional_charges_total\". Клиенты, которые остались, тратили на 40 у.е. больше на дополнительные услуги: тоже показатель вовлеченности. \n",
    "- Очень показательно работает столбец \"lifetime\". У тех, кто покидает, среднее время с момента первого обращения - 1 месяц. То есть, скорее всего, они решили попробовать, купили абонимент на месяц, сходили пару раз и забросили. Как раз у нас данные на месяц до оттока. \n",
    "- Те, кто остался, посещали зал чаще, чем те, кто ушел. В последнем месяце это разница ровно в 1 посещение в неделю.\n"
   ]
  },
  {
   "cell_type": "markdown",
   "metadata": {},
   "source": [
    "**Предварительное предположение**\n",
    "\n",
    "Клиенты, которые уходят, в среднем:\n",
    "- Покупают короткие абонименты (на месяц)\n",
    "- Меньше тратят на доп.услуги\n",
    "- Реже посещают групповые занятия\n",
    "- Первый раз пришли в клуб месяц назад\n",
    "- Ходят 1 - 1.5 раза в неделю\n",
    "- Чаще (но не сильно чаще) всего пришли не из компании-партнера и не по рекомендации друга"
   ]
  },
  {
   "cell_type": "markdown",
   "metadata": {},
   "source": [
    "**Клиенты, которые остались. Распределение признаков**"
   ]
  },
  {
   "cell_type": "code",
   "execution_count": 10,
   "metadata": {},
   "outputs": [
    {
     "data": {
      "image/png": "[encoded data removed]",
      "text/plain": [
       "<Figure size 1080x720 with 16 Axes>"
      ]
     },
     "metadata": {
      "needs_background": "light"
     },
     "output_type": "display_data"
    }
   ],
   "source": [
    "df.query('churn == 0').hist(bins=30, figsize=(15,10))\n",
    "pass"
   ]
  },
  {
   "cell_type": "markdown",
   "metadata": {},
   "source": [
    "**Клиенты, которые ушли. Распределение признаков**"
   ]
  },
  {
   "cell_type": "code",
   "execution_count": 11,
   "metadata": {},
   "outputs": [
    {
     "data": {
      "image/png": "[encoded data removed]",
      "text/plain": [
       "<Figure size 1080x720 with 16 Axes>"
      ]
     },
     "metadata": {
      "needs_background": "light"
     },
     "output_type": "display_data"
    }
   ],
   "source": [
    "df.query('churn == 1').hist(bins=30, figsize=(15,10))\n",
    "pass"
   ]
  },
  {
   "cell_type": "markdown",
   "metadata": {},
   "source": [
    "- Гистограммы хорошо показывают разницу между группами в количестве посещений за последний месяц, длительности абонимента и лайфтайме\n",
    "- Особых выбросов (или намеков на них), способных исказить данные, не замечается "
   ]
  },
  {
   "cell_type": "markdown",
   "metadata": {},
   "source": [
    "**Матрица корреляций**"
   ]
  },
  {
   "cell_type": "code",
   "execution_count": 12,
   "metadata": {},
   "outputs": [],
   "source": [
    "df_corr_matrix = df.corr()"
   ]
  },
  {
   "cell_type": "code",
   "execution_count": 13,
   "metadata": {},
   "outputs": [
    {
     "data": {
      "image/png": "[encoded data removed]",
      "text/plain": [
       "<Figure size 648x648 with 2 Axes>"
      ]
     },
     "metadata": {
      "needs_background": "light"
     },
     "output_type": "display_data"
    }
   ],
   "source": [
    "fig, ax = plt.subplots(figsize=(9,9))\n",
    "plt.title('Матрица корреляций')\n",
    "sns.heatmap(df_corr_matrix, square=True, cmap='coolwarm', annot=True, linewidths=.5, fmt='.2f')\n",
    "pass"
   ]
  },
  {
   "cell_type": "markdown",
   "metadata": {},
   "source": [
    "**Выводы по матрице:**\n",
    "- Как и предполагал, есть две очень скоррелированных признака:\n",
    "    - month_to_end_contract и contract_period\n",
    "    - avg_class_frequency_total\tи avg_class_frequency_current_month\n",
    "- 0.45 корреляции между статусами \"Пришел из компании партнера\" и \"Пришел по рекомендации друга\". Может быть коллеги советуют ходить?\n",
    "- С целевой переменной оттока в большей степени коррелируют признаки (не беря в рассчет один из скоррелированных):\n",
    "    - contract_period (0.39)\n",
    "    - age (0.4), хотя по таблице средних разница была всего в 3 года\n",
    "    - lifetime (0.44)\n",
    "    - avg_class_frequency_current_month (0.41)\n",
    "- Возраст и признак \"Оставил телефон или нет\" сами по себе не влияют на факт оттока от слова совсем."
   ]
  },
  {
   "cell_type": "markdown",
   "metadata": {},
   "source": [
    "## Создаем модель прогнозирования оттока клиентов"
   ]
  },
  {
   "cell_type": "markdown",
   "metadata": {},
   "source": [
    "**Избавимся от скоррелированных столбцов**"
   ]
  },
  {
   "cell_type": "code",
   "execution_count": 14,
   "metadata": {},
   "outputs": [],
   "source": [
    "df_for_model = df.drop(['month_to_end_contract', 'avg_class_frequency_total'], axis=1)"
   ]
  },
  {
   "cell_type": "markdown",
   "metadata": {},
   "source": [
    "**Делим данные на две выборки**"
   ]
  },
  {
   "cell_type": "code",
   "execution_count": 15,
   "metadata": {},
   "outputs": [],
   "source": [
    "X = df_for_model.drop('churn', axis=1)\n",
    "y = df_for_model.churn"
   ]
  },
  {
   "cell_type": "code",
   "execution_count": 16,
   "metadata": {},
   "outputs": [],
   "source": [
    "X_train, X_test, y_train, y_test = train_test_split(X, y, random_state=50, test_size=0.2)"
   ]
  },
  {
   "cell_type": "markdown",
   "metadata": {},
   "source": [
    "**Обучаем модели**"
   ]
  },
  {
   "cell_type": "markdown",
   "metadata": {},
   "source": [
    "Логистическая регрессия"
   ]
  },
  {
   "cell_type": "code",
   "execution_count": 17,
   "metadata": {},
   "outputs": [],
   "source": [
    "lr_model = LogisticRegression(random_state = 50)"
   ]
  },
  {
   "cell_type": "code",
   "execution_count": 18,
   "metadata": {},
   "outputs": [],
   "source": [
    "lr_model.fit(X_train, y_train)\n",
    "pass"
   ]
  },
  {
   "cell_type": "markdown",
   "metadata": {},
   "source": [
    "Случайный лес"
   ]
  },
  {
   "cell_type": "code",
   "execution_count": 19,
   "metadata": {},
   "outputs": [],
   "source": [
    "#теперь случайный лес\n",
    "rf_model = RandomForestClassifier(random_state = 50)"
   ]
  },
  {
   "cell_type": "code",
   "execution_count": 20,
   "metadata": {},
   "outputs": [],
   "source": [
    "rf_model.fit(X_train, y_train)\n",
    "pass"
   ]
  },
  {
   "cell_type": "markdown",
   "metadata": {},
   "source": [
    "**Делаем предсказания**"
   ]
  },
  {
   "cell_type": "code",
   "execution_count": 21,
   "metadata": {},
   "outputs": [],
   "source": [
    "#логист.регрессия\n",
    "lr_predictions = lr_model.predict(X_test)"
   ]
  },
  {
   "cell_type": "code",
   "execution_count": 22,
   "metadata": {},
   "outputs": [],
   "source": [
    "#случайный лес\n",
    "rf_predictions = rf_model.predict(X_test)"
   ]
  },
  {
   "cell_type": "markdown",
   "metadata": {},
   "source": [
    "**Оцениваем метрики**"
   ]
  },
  {
   "cell_type": "code",
   "execution_count": 23,
   "metadata": {},
   "outputs": [
    {
     "name": "stdout",
     "output_type": "stream",
     "text": [
      "Оценки для модели Логистической регрессии\n",
      "Accuracy (Доля правильных): 0.905\n",
      "Precision (Точность): 0.802\n",
      "Recall (Полнота): 0.848\n",
      "F1-мера: 0.824\n"
     ]
    }
   ],
   "source": [
    "print('Оценки для модели Логистической регрессии')\n",
    "\n",
    "# отношение количества правильных прогнозов к их общему количеству.\n",
    "print('Accuracy (Доля правильных): {:.3f}'.format(accuracy_score(y_test, lr_predictions)))\n",
    "\n",
    "# доля объектов, названных классификатором положительными, и при этом действительно являющимися положительными\n",
    "# как много наблюдений, из тех что классификатор назвал оттоком, действительно являются оттоком\n",
    "print('Precision (Точность): {:.3f}'.format(precision_score(y_test, lr_predictions)))\n",
    "\n",
    "# доля наблюдений, которые классификатор назвал положительными из всех, что действительно такими являлись\n",
    "print('Recall (Полнота): {:.3f}'.format(recall_score(y_test, lr_predictions)))\n",
    "\n",
    "# балансирует точность и полноту\n",
    "print('F1-мера: {:.3f}'.format(f1_score(y_test, lr_predictions)))"
   ]
  },
  {
   "cell_type": "code",
   "execution_count": 24,
   "metadata": {},
   "outputs": [
    {
     "name": "stdout",
     "output_type": "stream",
     "text": [
      "Оценки для модели Случайного леса\n",
      "Accuracy (Доля правильных): 0.900\n",
      "Precision (Точность): 0.801\n",
      "Recall (полнота): 0.824\n",
      "F1-мера: 0.812\n"
     ]
    }
   ],
   "source": [
    "print('Оценки для модели Случайного леса')\n",
    "\n",
    "# отношение количества правильных прогнозов к их общему количеству.\n",
    "print('Accuracy (Доля правильных): {:.3f}'.format(accuracy_score(y_test, rf_predictions)))\n",
    "\n",
    "# доля объектов, названных классификатором положительными, и при этом действительно являющимися положительными\n",
    "# как много наблюдений, из тех что классификатор назвал оттоком, действительно являются оттоком\n",
    "print('Precision (Точность): {:.3f}'.format(precision_score(y_test, rf_predictions)))\n",
    "\n",
    "# доля наблюдений, которые классификатор назвал положительными из всех, что действительно такими являлись\n",
    "print('Recall (полнота): {:.3f}'.format(recall_score(y_test, rf_predictions)))\n",
    "\n",
    "# балансирует точность и полноту\n",
    "print('F1-мера: {:.3f}'.format(f1_score(y_test, rf_predictions)))"
   ]
  },
  {
   "cell_type": "markdown",
   "metadata": {},
   "source": [
    "**Выводы по оценкам**\n",
    "\n",
    "- Модели показывают схожие оценки\n",
    "- На долю правильных ответов можно особо не смотреть: классы не сбалансированы\n",
    "- Логистическая регрессия показывает чуть лучший recall\n",
    "- Случайный лес - чуть лучший precision\n",
    "- Объединяющая recall и precision f1-мера практически одинаковая\n",
    "\n",
    "**Что важнее для нас в модели?**\n",
    "\n",
    "- Чем выше precision, тем меньше ложно позитивных предсказаний - то есть тем меньше ситуаций, когда модель предсказала клиенту отток, хотя он и не собирался уходить.\n",
    "- Чем выше recall, тем меньше ложно негативных предсказаний - то есть тем меньше ситуаций, когда модель предсказала, что клиент не собирается уходить, а он все таки ушел.\n",
    "\n",
    "Дальше все зависит от наших ресурсов и тех мер, которые мы готовы предпринять. \n",
    "1. Если мы вкладываем в удеражние каждого клиента не так много ресурса (условно, просто организовываем массовую e-mail рассылку), то лучше взять модель с большим recall, то есть - Логистическую регрессию. В таком случае мы рискуем чуть чаще отправлять такие письма клиентам, которые и не собирались уходить. Но это не страшно, нам это почти ничего не стоит.\n",
    "\n",
    "2. Если же для удержания мы проводим большую индивидуальную работу (предлагаем индивидуальные условия, скидку, доп.услуги), то лучше взять модель с большим precision, то есть - Случайный лес. Да, модель будет показывать больше ложно-негативных предсказаний, зато мы с меньшей вероятностью потратим ресурс на тех, кто и уходить особо не собирался. "
   ]
  },
  {
   "cell_type": "markdown",
   "metadata": {},
   "source": [
    "**Важность признаков**\n",
    "\n",
    "Посмотрим на признаки, которые в наибольшей степени влияют на отток клиентов. \n",
    "Поскольку мы не стандартизировали признаки, то смотреть их коэффициенты для модели Логистической регрессии бессмысленно. Они не покажут нам реальную силу. Поэтому посмотрим на значения важности признаков в модели Случайного леса. Они приведены к виду, когда в сумме дают единицу."
   ]
  },
  {
   "cell_type": "code",
   "execution_count": 25,
   "metadata": {},
   "outputs": [],
   "source": [
    "features_dict = {'feature': X.columns, 'importance_level': rf_model.feature_importances_}\n",
    "features_df = pd.DataFrame(data=features_dict).sort_values(by='importance_level', ascending=False)"
   ]
  },
  {
   "cell_type": "code",
   "execution_count": 26,
   "metadata": {},
   "outputs": [
    {
     "data": {
      "image/png": "[encoded data removed]",
      "text/plain": [
       "<Figure size 864x432 with 1 Axes>"
      ]
     },
     "metadata": {
      "needs_background": "light"
     },
     "output_type": "display_data"
    }
   ],
   "source": [
    "fig, ax = plt.subplots(figsize=(12,6))\n",
    "plt.title('Значимость признаков в модели Случайного леса')\n",
    "sns.barplot(data=features_df, y='feature', x='importance_level', orient='h')\n",
    "pass"
   ]
  },
  {
   "cell_type": "markdown",
   "metadata": {},
   "source": [
    "График подтверждает предварительные наблюдения из матрицы корреляций. Модель Случайного леса считает самыми важными признаками для оценки оттока:\n",
    "\n",
    "- Лайфтайм (время с момента первого обращения) - причем с большим отрывом\n",
    "- Частоту посещений в последний месяц\n",
    "- Возраст (и это слегка неожиданно)\n",
    "- Траты на дополнительные услуги\n",
    "- Период текущего абонимента"
   ]
  },
  {
   "cell_type": "markdown",
   "metadata": {},
   "source": [
    "## Кластеризация клиентов"
   ]
  },
  {
   "cell_type": "markdown",
   "metadata": {},
   "source": [
    "Теперь попробуем узнать чуть побольше о самих клиентах и разделить их на несколько целевых групп. "
   ]
  },
  {
   "cell_type": "markdown",
   "metadata": {},
   "source": [
    "**Стандартизируем данные**"
   ]
  },
  {
   "cell_type": "code",
   "execution_count": 27,
   "metadata": {},
   "outputs": [],
   "source": [
    "scaler = StandardScaler()\n",
    "X_st = scaler.fit_transform(X)"
   ]
  },
  {
   "cell_type": "markdown",
   "metadata": {},
   "source": [
    "**Матрица расстояний и дендрограмма**"
   ]
  },
  {
   "cell_type": "code",
   "execution_count": 28,
   "metadata": {},
   "outputs": [],
   "source": [
    "linked = linkage(X_st, method = 'ward')"
   ]
  },
  {
   "cell_type": "code",
   "execution_count": 29,
   "metadata": {},
   "outputs": [
    {
     "data": {
      "image/png": "[encoded data removed]",
      "text/plain": [
       "<Figure size 1080x720 with 1 Axes>"
      ]
     },
     "metadata": {
      "needs_background": "light"
     },
     "output_type": "display_data"
    }
   ],
   "source": [
    "plt.figure(figsize=(15, 10))  \n",
    "dendrogram(linked, orientation='top')\n",
    "plt.show()"
   ]
  },
  {
   "cell_type": "markdown",
   "metadata": {},
   "source": [
    "График показывает группы 4-х цветов, но хорошо видно, что фиолетовая группа состоит из двух больших подгрупп. Каждая из подгрупп по размеру даже превосходит другие целые группы. Предлагаю все таки выделять 5 кластеров. "
   ]
  },
  {
   "cell_type": "markdown",
   "metadata": {},
   "source": [
    "**Строим модель по алгоритму K-Means**"
   ]
  },
  {
   "cell_type": "code",
   "execution_count": 30,
   "metadata": {},
   "outputs": [],
   "source": [
    "km_model = KMeans(n_clusters = 5, random_state=50)\n",
    "clusters = km_model.fit_predict(X_st)"
   ]
  },
  {
   "cell_type": "markdown",
   "metadata": {},
   "source": [
    "**Средние значения каждого кластера**"
   ]
  },
  {
   "cell_type": "code",
   "execution_count": 31,
   "metadata": {},
   "outputs": [],
   "source": [
    "#добавим в исходный фрейм отдельный столбец с номером кластера для каждого клиента\n",
    "df['cluster'] = clusters"
   ]
  },
  {
   "cell_type": "code",
   "execution_count": 32,
   "metadata": {},
   "outputs": [
    {
     "data": {
      "text/plain": [
       "4    1066\n",
       "0    1003\n",
       "2     987\n",
       "1     558\n",
       "3     386\n",
       "Name: cluster, dtype: int64"
      ]
     },
     "execution_count": 32,
     "metadata": {},
     "output_type": "execute_result"
    }
   ],
   "source": [
    "df.cluster.value_counts()"
   ]
  },
  {
   "cell_type": "markdown",
   "metadata": {},
   "source": [
    "Самые многочисленный кластер - 4. Самый маленький - 3."
   ]
  },
  {
   "cell_type": "code",
   "execution_count": 33,
   "metadata": {},
   "outputs": [
    {
     "data": {
      "text/html": [
       "<div>\n",
       "<style scoped>\n",
       "    .dataframe tbody tr th:only-of-type {\n",
       "        vertical-align: middle;\n",
       "    }\n",
       "\n",
       "    .dataframe tbody tr th {\n",
       "        vertical-align: top;\n",
       "    }\n",
       "\n",
       "    .dataframe thead th {\n",
       "        text-align: right;\n",
       "    }\n",
       "</style>\n",
       "<table border=\"1\" class=\"dataframe\">\n",
       "  <thead>\n",
       "    <tr style=\"text-align: right;\">\n",
       "      <th>cluster</th>\n",
       "      <th>0</th>\n",
       "      <th>1</th>\n",
       "      <th>2</th>\n",
       "      <th>3</th>\n",
       "      <th>4</th>\n",
       "    </tr>\n",
       "  </thead>\n",
       "  <tbody>\n",
       "    <tr>\n",
       "      <th>gender</th>\n",
       "      <td>0.544367</td>\n",
       "      <td>0.500000</td>\n",
       "      <td>0.496454</td>\n",
       "      <td>0.523316</td>\n",
       "      <td>0.491557</td>\n",
       "    </tr>\n",
       "    <tr>\n",
       "      <th>near_location</th>\n",
       "      <td>0.996012</td>\n",
       "      <td>0.000000</td>\n",
       "      <td>0.995947</td>\n",
       "      <td>0.862694</td>\n",
       "      <td>1.000000</td>\n",
       "    </tr>\n",
       "    <tr>\n",
       "      <th>partner</th>\n",
       "      <td>0.380857</td>\n",
       "      <td>0.489247</td>\n",
       "      <td>0.890578</td>\n",
       "      <td>0.471503</td>\n",
       "      <td>0.216698</td>\n",
       "    </tr>\n",
       "    <tr>\n",
       "      <th>promo_friends</th>\n",
       "      <td>0.009970</td>\n",
       "      <td>0.078853</td>\n",
       "      <td>1.000000</td>\n",
       "      <td>0.305699</td>\n",
       "      <td>0.070356</td>\n",
       "    </tr>\n",
       "    <tr>\n",
       "      <th>phone</th>\n",
       "      <td>1.000000</td>\n",
       "      <td>1.000000</td>\n",
       "      <td>1.000000</td>\n",
       "      <td>0.000000</td>\n",
       "      <td>1.000000</td>\n",
       "    </tr>\n",
       "    <tr>\n",
       "      <th>contract_period</th>\n",
       "      <td>6.203390</td>\n",
       "      <td>2.994624</td>\n",
       "      <td>6.910841</td>\n",
       "      <td>4.777202</td>\n",
       "      <td>2.032833</td>\n",
       "    </tr>\n",
       "    <tr>\n",
       "      <th>group_visits</th>\n",
       "      <td>0.525424</td>\n",
       "      <td>0.232975</td>\n",
       "      <td>0.523810</td>\n",
       "      <td>0.427461</td>\n",
       "      <td>0.290807</td>\n",
       "    </tr>\n",
       "    <tr>\n",
       "      <th>age</th>\n",
       "      <td>30.640080</td>\n",
       "      <td>28.679211</td>\n",
       "      <td>29.600811</td>\n",
       "      <td>29.297927</td>\n",
       "      <td>27.651970</td>\n",
       "    </tr>\n",
       "    <tr>\n",
       "      <th>avg_additional_charges_total</th>\n",
       "      <td>178.037296</td>\n",
       "      <td>137.125763</td>\n",
       "      <td>153.546885</td>\n",
       "      <td>144.208179</td>\n",
       "      <td>117.703748</td>\n",
       "    </tr>\n",
       "    <tr>\n",
       "      <th>month_to_end_contract</th>\n",
       "      <td>5.645065</td>\n",
       "      <td>2.818996</td>\n",
       "      <td>6.322188</td>\n",
       "      <td>4.466321</td>\n",
       "      <td>1.962477</td>\n",
       "    </tr>\n",
       "    <tr>\n",
       "      <th>lifetime</th>\n",
       "      <td>5.412762</td>\n",
       "      <td>2.974910</td>\n",
       "      <td>4.282675</td>\n",
       "      <td>3.940415</td>\n",
       "      <td>1.934334</td>\n",
       "    </tr>\n",
       "    <tr>\n",
       "      <th>avg_class_frequency_total</th>\n",
       "      <td>2.348265</td>\n",
       "      <td>1.764122</td>\n",
       "      <td>1.963034</td>\n",
       "      <td>1.854211</td>\n",
       "      <td>1.428845</td>\n",
       "    </tr>\n",
       "    <tr>\n",
       "      <th>avg_class_frequency_current_month</th>\n",
       "      <td>2.350429</td>\n",
       "      <td>1.597146</td>\n",
       "      <td>1.920546</td>\n",
       "      <td>1.723967</td>\n",
       "      <td>1.180571</td>\n",
       "    </tr>\n",
       "    <tr>\n",
       "      <th>churn</th>\n",
       "      <td>0.016949</td>\n",
       "      <td>0.403226</td>\n",
       "      <td>0.119554</td>\n",
       "      <td>0.266839</td>\n",
       "      <td>0.560976</td>\n",
       "    </tr>\n",
       "  </tbody>\n",
       "</table>\n",
       "</div>"
      ],
      "text/plain": [
       "cluster                                     0           1           2  \\\n",
       "gender                               0.544367    0.500000    0.496454   \n",
       "near_location                        0.996012    0.000000    0.995947   \n",
       "partner                              0.380857    0.489247    0.890578   \n",
       "promo_friends                        0.009970    0.078853    1.000000   \n",
       "phone                                1.000000    1.000000    1.000000   \n",
       "contract_period                      6.203390    2.994624    6.910841   \n",
       "group_visits                         0.525424    0.232975    0.523810   \n",
       "age                                 30.640080   28.679211   29.600811   \n",
       "avg_additional_charges_total       178.037296  137.125763  153.546885   \n",
       "month_to_end_contract                5.645065    2.818996    6.322188   \n",
       "lifetime                             5.412762    2.974910    4.282675   \n",
       "avg_class_frequency_total            2.348265    1.764122    1.963034   \n",
       "avg_class_frequency_current_month    2.350429    1.597146    1.920546   \n",
       "churn                                0.016949    0.403226    0.119554   \n",
       "\n",
       "cluster                                     3           4  \n",
       "gender                               0.523316    0.491557  \n",
       "near_location                        0.862694    1.000000  \n",
       "partner                              0.471503    0.216698  \n",
       "promo_friends                        0.305699    0.070356  \n",
       "phone                                0.000000    1.000000  \n",
       "contract_period                      4.777202    2.032833  \n",
       "group_visits                         0.427461    0.290807  \n",
       "age                                 29.297927   27.651970  \n",
       "avg_additional_charges_total       144.208179  117.703748  \n",
       "month_to_end_contract                4.466321    1.962477  \n",
       "lifetime                             3.940415    1.934334  \n",
       "avg_class_frequency_total            1.854211    1.428845  \n",
       "avg_class_frequency_current_month    1.723967    1.180571  \n",
       "churn                                0.266839    0.560976  "
      ]
     },
     "execution_count": 33,
     "metadata": {},
     "output_type": "execute_result"
    }
   ],
   "source": [
    "#посмотрим на средние значения признаков каждого кластера\n",
    "df.groupby('cluster').mean().T"
   ]
  },
  {
   "cell_type": "markdown",
   "metadata": {},
   "source": [
    "Что характерного можно сразу заметить по средним значениям каждого кластера:\n",
    "1. В кластере \"3\" никто не оставил своего номера телефона.\n",
    "2. В кластере \"1\" судя по всему находятся клиенты, которые не живут и не работают в районе фитнес-центра. \n",
    "3. В кластере \"2\" все клиенты пришли по приглашению друга.\n",
    "4. Кластеры разделились по признаку \"lifetime\": 2 мес., 3 мес., 4.мес, 4.2 мес, 5.5 мес.\n",
    "6. Похоже, что в 0 кластере собрались самые надежные клиенты - там доля оттока всего-лишь чуть больше 1%.\n",
    "7. Самый \"гулящий\" - кластер номер 4. Процент оттока - 56%. \n",
    "8. Группа с наименьшим оттоком самая взрослая, а группа с наибольшим оттоком - самая молодая. \n",
    "\n",
    "Значения в целом сходятся с теми параметрами важности признаков, что показала модель бинарной классификации. "
   ]
  },
  {
   "cell_type": "markdown",
   "metadata": {},
   "source": [
    "### Распределения признаков по кластерам"
   ]
  },
  {
   "cell_type": "markdown",
   "metadata": {},
   "source": [
    "**Кластер 0 - Самые лояльные**\n",
    "1. Наименьшая доля оттока - всего 1.16%\n",
    "2. Берут больше абониментов длительностью на год, чем абониментов на месяц. \n",
    "3. Никто из них при этом не пришел по рекомендации друга. \n",
    "4. Чаще всех ходят в зал, больше всех тратят на допы\n",
    "5. Средний возраст самый высокий. \n",
    "\n",
    "Этот кластер - самые молодцы. "
   ]
  },
  {
   "cell_type": "code",
   "execution_count": 34,
   "metadata": {},
   "outputs": [
    {
     "data": {
      "image/png": "[encoded data removed]",
      "text/plain": [
       "<Figure size 1080x720 with 16 Axes>"
      ]
     },
     "metadata": {
      "needs_background": "light"
     },
     "output_type": "display_data"
    }
   ],
   "source": [
    "df.query('cluster == 0').hist(bins=30, figsize=(15, 10))\n",
    "pass"
   ]
  },
  {
   "cell_type": "markdown",
   "metadata": {},
   "source": [
    "**Кластер 1 - Далекоживущие**\n",
    "1. Никто из клиентов кластера не живет и не работает в районе фитнес-центра.\n",
    "2. Лишь небольшая доля пришла по рекомендации друзей. \n",
    "3. Чаще всего берут абонимет на месяц\n",
    "4. Второе место по оттоку клиентов среди всех кластеров \n",
    "\n",
    "(!) Сюда нужно обратить внимание: этот кластер кажется требует работы. "
   ]
  },
  {
   "cell_type": "code",
   "execution_count": 35,
   "metadata": {},
   "outputs": [
    {
     "data": {
      "image/png": "[encoded data removed]",
      "text/plain": [
       "<Figure size 1080x720 with 16 Axes>"
      ]
     },
     "metadata": {
      "needs_background": "light"
     },
     "output_type": "display_data"
    }
   ],
   "source": [
    "df.query('cluster == 1').hist(bins=30, figsize=(15, 10))\n",
    "pass"
   ]
  },
  {
   "cell_type": "markdown",
   "metadata": {},
   "source": [
    "**Кластер 2 - Коллеги**\n",
    "1. Все клиенты пришли по приглашению друга и практически все - по партнерской программе. Ощущение, что этот кластер можно назвать \"коллеги\". \n",
    "2. Отток у наших \"коллег\" достаточно небольшой\n",
    "3. У этого кластера самый высокий средний период купленного абонимента. На графике распределений видно, как много у них годовых абониментов.\n",
    "4. Достаточно много тратят на доп.услуги.\n",
    "\n",
    "Хороший лояльный кластер - молодцы. Оставим их в покое. "
   ]
  },
  {
   "cell_type": "code",
   "execution_count": 36,
   "metadata": {
    "scrolled": false
   },
   "outputs": [
    {
     "data": {
      "image/png": "[encoded data removed]",
      "text/plain": [
       "<Figure size 1080x720 with 16 Axes>"
      ]
     },
     "metadata": {
      "needs_background": "light"
     },
     "output_type": "display_data"
    }
   ],
   "source": [
    "df.query('cluster == 2').hist(bins=30, figsize=(15, 10))\n",
    "pass"
   ]
  },
  {
   "cell_type": "markdown",
   "metadata": {},
   "source": [
    "**Кластер 3 - Среднячки**\n",
    "\n",
    "В этом кластере никто из клиентов не оставил своего номера телефона. И видимо это единственный признак, по которому их отделил алгоритм. Здесь все показатели - средненькие. Средненько тратят, берут средненькие по длительности абонименты, средненько ходят на тренировки. Наблюдаем за ними, но никаких действий по ним я бы по ним не предпринимал. "
   ]
  },
  {
   "cell_type": "code",
   "execution_count": 37,
   "metadata": {},
   "outputs": [
    {
     "data": {
      "image/png": "[encoded data removed]",
      "text/plain": [
       "<Figure size 1080x720 with 16 Axes>"
      ]
     },
     "metadata": {
      "needs_background": "light"
     },
     "output_type": "display_data"
    }
   ],
   "source": [
    "df.query('cluster == 3').hist(bins=30, figsize=(15, 10))\n",
    "pass"
   ]
  },
  {
   "cell_type": "markdown",
   "metadata": {},
   "source": [
    "**Кластер 4 - Самые нелояльные**\n",
    "1. Наибольшая доля оттока - 53%\n",
    "2. Чаще всего пришли не по приглашению друга, и не по партнерской программе. Грубо говоря - одиночки. \n",
    "3. Чаще всего берут абонимент на месяц\n",
    "4. При этом у каждого из них спортзал находится \"под рукой\" - в районе проживания или работы. Вот же ленивцы, а!\n",
    "5. Это самый большой по численности кластер\n",
    "\n",
    "(!!!) Этот кластер - первый объект внимания для нас. "
   ]
  },
  {
   "cell_type": "code",
   "execution_count": 38,
   "metadata": {},
   "outputs": [
    {
     "data": {
      "image/png": "[encoded data removed]",
      "text/plain": [
       "<Figure size 1080x720 with 16 Axes>"
      ]
     },
     "metadata": {
      "needs_background": "light"
     },
     "output_type": "display_data"
    }
   ],
   "source": [
    "df.query('cluster == 4').hist(bins=30, figsize=(15, 10))\n",
    "pass"
   ]
  },
  {
   "cell_type": "markdown",
   "metadata": {},
   "source": [
    "## Выводы "
   ]
  },
  {
   "cell_type": "markdown",
   "metadata": {},
   "source": [
    "**Что сделали**\n",
    "\n",
    "В данной работе мы прогнозировали вероятность оттока клиентов фитнес-центра и занимались их кластеризацией.\n",
    "- Обучили две модели бинарной классификации (Логистическую регрессию и Случайный лес) и вычисили их метрики\n",
    "- Научились прогнозировать вероятность оттока для каждого клиента в следующий месяц\n",
    "- Нашли основные признаки, наиболее сильно влияющие на отток\n",
    "- Обучили модель кластеризации KMeans с ограничением на 5 кластеров\n",
    "- Сформировали типичные портреты клиентов\n",
    "\n",
    "\n",
    "**Признаки, влияющие на отток (в порядке уменьшения важности):**\n",
    "\n",
    "- Лайфтайм\n",
    "- Частота посещений в последний месяц\n",
    "- Возраст \n",
    "- Траты на дополнительные услуги\n",
    "- Период текущего абонимента\n",
    "\n",
    "**Портрет клиента, который скоро от нас уйдет**\n",
    "\n",
    "- Покупает абонимент на месяц (contract_period)\n",
    "- 1 раз в неделю посещает зал (avg_class_frequency_current_month)\n",
    "- Тратит на дополнительные услуги меньше 115-120 у.е. (avg_additional_charges_total)\n",
    "- Скорее всего пришёл не по рекомендации друга (promo_friends)\n",
    "- И скорее всего - не по партнерской программе (partner)\n",
    "- В среднем моложе остальных (age)\n",
    "\n",
    "**Предложения по взаимодействию с клиентами**\n",
    "\n",
    "1. Снизить продажу абониментов длительностью на месяц для новых клиентов. Возможно, предложить более выгодные условия на более длительные абонименты при первой покупке. \n",
    "2. Следить за параметрами: возраст, частота посещения, траты на доп.услуги. Если они принимают определенные значения, то это знак, что клиент скоро может уйти и пора выйти к нему с коммуникацией (предложением). \n",
    "3. Неплохо работает партнерская программа и акция \"Приведи друга\". Допускаю такую логику: люди, пришедшие по этим программам, скорее всего посещают зал с друзьями и коллегами, а это куда веселее, чем одному. Возможное предложение - расширить эту программу (больше компаний-партеров, более высокий бенефит за приведенного друга).\n",
    "\n"
   ]
  }
 ],
 "metadata": {
  "ExecuteTimeLog": [
   {
    "duration": 761,
    "start_time": "2022-01-15T08:15:18.918Z"
   },
   {
    "duration": 27,
    "start_time": "2022-01-15T08:15:42.891Z"
   },
   {
    "duration": 28,
    "start_time": "2022-01-15T08:15:46.220Z"
   },
   {
    "duration": 12,
    "start_time": "2022-01-15T08:17:26.689Z"
   },
   {
    "duration": 5,
    "start_time": "2022-01-15T08:21:16.979Z"
   },
   {
    "duration": 554,
    "start_time": "2022-01-15T08:21:30.250Z"
   },
   {
    "duration": 301,
    "start_time": "2022-01-15T08:21:34.446Z"
   },
   {
    "duration": 6,
    "start_time": "2022-01-15T08:21:53.393Z"
   },
   {
    "duration": 4,
    "start_time": "2022-01-15T08:22:02.126Z"
   },
   {
    "duration": 27,
    "start_time": "2022-01-15T08:22:04.084Z"
   },
   {
    "duration": 4,
    "start_time": "2022-01-15T08:22:20.616Z"
   },
   {
    "duration": 315,
    "start_time": "2022-01-15T08:24:27.520Z"
   },
   {
    "duration": 14,
    "start_time": "2022-01-15T08:24:31.497Z"
   },
   {
    "duration": 12,
    "start_time": "2022-01-15T08:25:03.436Z"
   },
   {
    "duration": 70,
    "start_time": "2022-01-15T08:25:57.947Z"
   },
   {
    "duration": 772,
    "start_time": "2022-01-17T08:03:46.296Z"
   },
   {
    "duration": 24,
    "start_time": "2022-01-17T08:03:47.074Z"
   },
   {
    "duration": 35,
    "start_time": "2022-01-17T08:03:47.101Z"
   },
   {
    "duration": 13,
    "start_time": "2022-01-17T08:03:47.138Z"
   },
   {
    "duration": 4,
    "start_time": "2022-01-17T08:03:47.154Z"
   },
   {
    "duration": 13,
    "start_time": "2022-01-17T08:03:47.161Z"
   },
   {
    "duration": 110,
    "start_time": "2022-01-17T08:03:47.178Z"
   },
   {
    "duration": 22,
    "start_time": "2022-01-17T08:14:35.169Z"
   },
   {
    "duration": 2568,
    "start_time": "2022-01-17T08:34:03.314Z"
   },
   {
    "duration": 627,
    "start_time": "2022-01-17T08:40:02.377Z"
   },
   {
    "duration": 457,
    "start_time": "2022-01-17T08:40:14.596Z"
   },
   {
    "duration": 4291,
    "start_time": "2022-01-17T08:40:47.460Z"
   },
   {
    "duration": 1362,
    "start_time": "2022-01-17T08:40:58.273Z"
   },
   {
    "duration": 3566,
    "start_time": "2022-01-17T08:40:59.638Z"
   },
   {
    "duration": 29,
    "start_time": "2022-01-17T08:41:03.209Z"
   },
   {
    "duration": 30,
    "start_time": "2022-01-17T08:41:03.241Z"
   },
   {
    "duration": 13,
    "start_time": "2022-01-17T08:41:03.274Z"
   },
   {
    "duration": 3,
    "start_time": "2022-01-17T08:41:03.289Z"
   },
   {
    "duration": 39,
    "start_time": "2022-01-17T08:41:03.295Z"
   },
   {
    "duration": 108,
    "start_time": "2022-01-17T08:41:03.336Z"
   },
   {
    "duration": 22,
    "start_time": "2022-01-17T08:41:03.448Z"
   },
   {
    "duration": 2464,
    "start_time": "2022-01-17T08:41:03.472Z"
   },
   {
    "duration": -935,
    "start_time": "2022-01-17T08:41:58.159Z"
   },
   {
    "duration": 109503,
    "start_time": "2022-01-17T08:41:58.552Z"
   },
   {
    "duration": 30,
    "start_time": "2022-01-17T08:43:48.058Z"
   },
   {
    "duration": 684,
    "start_time": "2022-01-17T08:45:43.542Z"
   },
   {
    "duration": 1646,
    "start_time": "2022-01-17T08:46:48.557Z"
   },
   {
    "duration": 14,
    "start_time": "2022-01-17T08:47:18.808Z"
   },
   {
    "duration": 1561,
    "start_time": "2022-01-17T08:47:24.453Z"
   },
   {
    "duration": 1525,
    "start_time": "2022-01-17T08:49:31.619Z"
   },
   {
    "duration": 7,
    "start_time": "2022-01-17T08:49:42.876Z"
   },
   {
    "duration": 1564,
    "start_time": "2022-01-17T08:49:47.247Z"
   },
   {
    "duration": 4,
    "start_time": "2022-01-17T08:51:09.061Z"
   },
   {
    "duration": 1756,
    "start_time": "2022-01-17T08:51:20.587Z"
   },
   {
    "duration": 1796,
    "start_time": "2022-01-17T08:51:48.360Z"
   },
   {
    "duration": 1656,
    "start_time": "2022-01-17T08:51:59.050Z"
   },
   {
    "duration": 1676,
    "start_time": "2022-01-17T08:52:13.750Z"
   },
   {
    "duration": 354,
    "start_time": "2022-01-17T09:02:48.738Z"
   },
   {
    "duration": 364,
    "start_time": "2022-01-17T09:02:58.526Z"
   },
   {
    "duration": 333,
    "start_time": "2022-01-17T09:03:03.137Z"
   },
   {
    "duration": 330,
    "start_time": "2022-01-17T09:03:15.287Z"
   },
   {
    "duration": 1444,
    "start_time": "2022-01-18T06:06:53.355Z"
   },
   {
    "duration": 4337,
    "start_time": "2022-01-18T06:06:54.802Z"
   },
   {
    "duration": 26,
    "start_time": "2022-01-18T06:06:59.143Z"
   },
   {
    "duration": 24,
    "start_time": "2022-01-18T06:06:59.172Z"
   },
   {
    "duration": 13,
    "start_time": "2022-01-18T06:06:59.198Z"
   },
   {
    "duration": 21,
    "start_time": "2022-01-18T06:06:59.213Z"
   },
   {
    "duration": 14,
    "start_time": "2022-01-18T06:06:59.236Z"
   },
   {
    "duration": 89,
    "start_time": "2022-01-18T06:06:59.253Z"
   },
   {
    "duration": 22,
    "start_time": "2022-01-18T06:06:59.345Z"
   },
   {
    "duration": 268,
    "start_time": "2022-01-18T06:06:59.370Z"
   },
   {
    "duration": 2573,
    "start_time": "2022-01-18T06:06:59.640Z"
   },
   {
    "duration": 16,
    "start_time": "2022-01-18T06:07:02.216Z"
   },
   {
    "duration": 1656,
    "start_time": "2022-01-18T06:07:02.234Z"
   },
   {
    "duration": 3893,
    "start_time": "2022-01-18T06:07:59.237Z"
   },
   {
    "duration": 3805,
    "start_time": "2022-01-18T06:10:03.700Z"
   },
   {
    "duration": 3860,
    "start_time": "2022-01-18T06:10:38.038Z"
   },
   {
    "duration": 469,
    "start_time": "2022-01-18T06:11:24.883Z"
   },
   {
    "duration": 3887,
    "start_time": "2022-01-18T06:13:12.893Z"
   },
   {
    "duration": 1890,
    "start_time": "2022-01-18T06:14:14.560Z"
   },
   {
    "duration": 6,
    "start_time": "2022-01-18T06:20:44.965Z"
   },
   {
    "duration": 27,
    "start_time": "2022-01-18T06:20:49.131Z"
   },
   {
    "duration": 81,
    "start_time": "2022-01-18T06:24:30.578Z"
   },
   {
    "duration": 5,
    "start_time": "2022-01-18T06:25:20.167Z"
   },
   {
    "duration": 9,
    "start_time": "2022-01-18T06:26:15.489Z"
   },
   {
    "duration": 4,
    "start_time": "2022-01-18T06:27:16.100Z"
   },
   {
    "duration": 46,
    "start_time": "2022-01-18T06:27:34.253Z"
   },
   {
    "duration": 42,
    "start_time": "2022-01-18T06:27:42.929Z"
   },
   {
    "duration": 3,
    "start_time": "2022-01-18T06:28:21.243Z"
   },
   {
    "duration": 42,
    "start_time": "2022-01-18T06:28:22.876Z"
   },
   {
    "duration": 4,
    "start_time": "2022-01-18T06:28:51.838Z"
   },
   {
    "duration": 51,
    "start_time": "2022-01-18T06:29:01.536Z"
   },
   {
    "duration": 8,
    "start_time": "2022-01-18T06:30:09.969Z"
   },
   {
    "duration": 5,
    "start_time": "2022-01-18T06:30:25.717Z"
   },
   {
    "duration": 10,
    "start_time": "2022-01-18T06:30:37.576Z"
   },
   {
    "duration": 4,
    "start_time": "2022-01-18T06:32:18.854Z"
   },
   {
    "duration": 43,
    "start_time": "2022-01-18T06:32:19.349Z"
   },
   {
    "duration": 4,
    "start_time": "2022-01-18T06:32:25.975Z"
   },
   {
    "duration": 52,
    "start_time": "2022-01-18T06:32:26.221Z"
   },
   {
    "duration": 5,
    "start_time": "2022-01-18T06:32:27.988Z"
   },
   {
    "duration": 10,
    "start_time": "2022-01-18T06:32:28.218Z"
   },
   {
    "duration": 5,
    "start_time": "2022-01-18T06:33:57.387Z"
   },
   {
    "duration": 321,
    "start_time": "2022-01-18T06:41:54.861Z"
   },
   {
    "duration": 12,
    "start_time": "2022-01-18T06:41:59.834Z"
   },
   {
    "duration": 13,
    "start_time": "2022-01-18T06:42:46.379Z"
   },
   {
    "duration": 11,
    "start_time": "2022-01-18T06:42:53.648Z"
   },
   {
    "duration": 11,
    "start_time": "2022-01-18T06:43:07.149Z"
   },
   {
    "duration": 11,
    "start_time": "2022-01-18T06:43:14.141Z"
   },
   {
    "duration": 12,
    "start_time": "2022-01-18T06:44:48.802Z"
   },
   {
    "duration": 12,
    "start_time": "2022-01-18T06:45:08.331Z"
   },
   {
    "duration": 1531,
    "start_time": "2022-01-18T07:17:21.289Z"
   },
   {
    "duration": 3477,
    "start_time": "2022-01-18T07:17:22.823Z"
   },
   {
    "duration": 41,
    "start_time": "2022-01-18T07:17:26.304Z"
   },
   {
    "duration": 24,
    "start_time": "2022-01-18T07:17:26.347Z"
   },
   {
    "duration": 11,
    "start_time": "2022-01-18T07:17:26.373Z"
   },
   {
    "duration": 4,
    "start_time": "2022-01-18T07:17:26.387Z"
   },
   {
    "duration": 43,
    "start_time": "2022-01-18T07:17:26.393Z"
   },
   {
    "duration": 74,
    "start_time": "2022-01-18T07:17:26.441Z"
   },
   {
    "duration": 29,
    "start_time": "2022-01-18T07:17:26.532Z"
   },
   {
    "duration": 4126,
    "start_time": "2022-01-18T07:17:26.564Z"
   },
   {
    "duration": 4376,
    "start_time": "2022-01-18T07:17:30.693Z"
   },
   {
    "duration": 7,
    "start_time": "2022-01-18T07:17:35.071Z"
   },
   {
    "duration": 1932,
    "start_time": "2022-01-18T07:17:35.081Z"
   },
   {
    "duration": 5,
    "start_time": "2022-01-18T07:17:37.015Z"
   },
   {
    "duration": 5,
    "start_time": "2022-01-18T07:17:37.032Z"
   },
   {
    "duration": 15,
    "start_time": "2022-01-18T07:17:37.040Z"
   },
   {
    "duration": 4,
    "start_time": "2022-01-18T07:17:37.057Z"
   },
   {
    "duration": 42,
    "start_time": "2022-01-18T07:17:37.064Z"
   },
   {
    "duration": 5,
    "start_time": "2022-01-18T07:17:37.134Z"
   },
   {
    "duration": 66,
    "start_time": "2022-01-18T07:17:37.142Z"
   },
   {
    "duration": 22,
    "start_time": "2022-01-18T07:17:37.212Z"
   },
   {
    "duration": 18,
    "start_time": "2022-01-18T07:17:37.237Z"
   },
   {
    "duration": 12,
    "start_time": "2022-01-18T07:17:37.260Z"
   },
   {
    "duration": 15,
    "start_time": "2022-01-18T07:17:37.274Z"
   },
   {
    "duration": 5,
    "start_time": "2022-01-18T07:18:13.302Z"
   },
   {
    "duration": 16,
    "start_time": "2022-01-18T07:19:44.048Z"
   },
   {
    "duration": 20,
    "start_time": "2022-01-18T07:20:07.730Z"
   },
   {
    "duration": 7,
    "start_time": "2022-01-18T07:33:12.399Z"
   },
   {
    "duration": 1215,
    "start_time": "2022-01-18T12:02:32.978Z"
   },
   {
    "duration": 82198,
    "start_time": "2022-01-18T12:02:34.195Z"
   },
   {
    "duration": 24,
    "start_time": "2022-01-18T12:03:56.396Z"
   },
   {
    "duration": 28,
    "start_time": "2022-01-18T12:03:56.422Z"
   },
   {
    "duration": 14,
    "start_time": "2022-01-18T12:03:56.451Z"
   },
   {
    "duration": 21,
    "start_time": "2022-01-18T12:03:56.466Z"
   },
   {
    "duration": 26,
    "start_time": "2022-01-18T12:03:56.489Z"
   },
   {
    "duration": 63,
    "start_time": "2022-01-18T12:03:56.517Z"
   },
   {
    "duration": 17,
    "start_time": "2022-01-18T12:03:56.582Z"
   },
   {
    "duration": 2661,
    "start_time": "2022-01-18T12:03:56.601Z"
   },
   {
    "duration": 2881,
    "start_time": "2022-01-18T12:03:59.263Z"
   },
   {
    "duration": 5,
    "start_time": "2022-01-18T12:04:02.146Z"
   },
   {
    "duration": 1268,
    "start_time": "2022-01-18T12:04:02.153Z"
   },
   {
    "duration": 3,
    "start_time": "2022-01-18T12:04:03.423Z"
   },
   {
    "duration": 10,
    "start_time": "2022-01-18T12:04:03.428Z"
   },
   {
    "duration": 8,
    "start_time": "2022-01-18T12:04:03.440Z"
   },
   {
    "duration": 4,
    "start_time": "2022-01-18T12:04:03.450Z"
   },
   {
    "duration": 24,
    "start_time": "2022-01-18T12:04:03.456Z"
   },
   {
    "duration": 17,
    "start_time": "2022-01-18T12:04:03.482Z"
   },
   {
    "duration": 40,
    "start_time": "2022-01-18T12:04:03.501Z"
   },
   {
    "duration": 4,
    "start_time": "2022-01-18T12:04:03.542Z"
   },
   {
    "duration": 10,
    "start_time": "2022-01-18T12:04:03.547Z"
   },
   {
    "duration": 10,
    "start_time": "2022-01-18T12:04:03.560Z"
   },
   {
    "duration": 28,
    "start_time": "2022-01-18T12:04:03.572Z"
   },
   {
    "duration": 279,
    "start_time": "2022-01-18T12:04:18.895Z"
   },
   {
    "duration": 3,
    "start_time": "2022-01-18T12:04:24.936Z"
   },
   {
    "duration": 6,
    "start_time": "2022-01-18T12:05:29.744Z"
   },
   {
    "duration": 3,
    "start_time": "2022-01-18T12:08:39.561Z"
   },
   {
    "duration": 507,
    "start_time": "2022-01-18T12:09:38.852Z"
   },
   {
    "duration": 96534,
    "start_time": "2022-01-18T12:09:46.983Z"
   },
   {
    "duration": 15,
    "start_time": "2022-01-18T12:14:00.702Z"
   },
   {
    "duration": 1606,
    "start_time": "2022-01-18T12:15:35.596Z"
   },
   {
    "duration": 6,
    "start_time": "2022-01-18T12:16:01.323Z"
   },
   {
    "duration": 27,
    "start_time": "2022-01-18T12:16:10.601Z"
   },
   {
    "duration": 333,
    "start_time": "2022-01-18T12:16:32.576Z"
   },
   {
    "duration": 4,
    "start_time": "2022-01-18T12:17:16.125Z"
   },
   {
    "duration": 19,
    "start_time": "2022-01-18T12:17:34.851Z"
   },
   {
    "duration": 20,
    "start_time": "2022-01-18T12:19:06.829Z"
   },
   {
    "duration": 13,
    "start_time": "2022-01-18T12:20:56.176Z"
   },
   {
    "duration": 7,
    "start_time": "2022-01-18T12:21:06.006Z"
   },
   {
    "duration": 8,
    "start_time": "2022-01-18T12:21:16.655Z"
   },
   {
    "duration": 252,
    "start_time": "2022-01-18T12:24:05.868Z"
   },
   {
    "duration": 1807,
    "start_time": "2022-01-18T12:30:48.778Z"
   },
   {
    "duration": 2953,
    "start_time": "2022-01-18T12:31:17.028Z"
   },
   {
    "duration": 2860,
    "start_time": "2022-01-18T12:31:23.388Z"
   },
   {
    "duration": 2928,
    "start_time": "2022-01-18T12:33:53.324Z"
   },
   {
    "duration": 3173,
    "start_time": "2022-01-18T12:34:29.214Z"
   },
   {
    "duration": 2988,
    "start_time": "2022-01-18T12:35:11.889Z"
   },
   {
    "duration": 3036,
    "start_time": "2022-01-18T12:35:40.809Z"
   },
   {
    "duration": 75,
    "start_time": "2022-01-18T12:40:46.666Z"
   },
   {
    "duration": 6,
    "start_time": "2022-01-18T13:04:01.535Z"
   },
   {
    "duration": 6,
    "start_time": "2022-01-18T13:04:03.701Z"
   },
   {
    "duration": 1157,
    "start_time": "2022-01-18T14:41:09.739Z"
   },
   {
    "duration": 2,
    "start_time": "2022-01-18T14:41:10.898Z"
   },
   {
    "duration": 29,
    "start_time": "2022-01-18T14:41:10.902Z"
   },
   {
    "duration": 15,
    "start_time": "2022-01-18T14:41:10.932Z"
   },
   {
    "duration": 8,
    "start_time": "2022-01-18T14:41:10.949Z"
   },
   {
    "duration": 2,
    "start_time": "2022-01-18T14:41:10.959Z"
   },
   {
    "duration": 32,
    "start_time": "2022-01-18T14:41:10.963Z"
   },
   {
    "duration": 47,
    "start_time": "2022-01-18T14:41:10.998Z"
   },
   {
    "duration": 18,
    "start_time": "2022-01-18T14:41:11.047Z"
   },
   {
    "duration": 2654,
    "start_time": "2022-01-18T14:41:11.067Z"
   },
   {
    "duration": 2769,
    "start_time": "2022-01-18T14:41:13.722Z"
   },
   {
    "duration": 8,
    "start_time": "2022-01-18T14:41:16.493Z"
   },
   {
    "duration": 1176,
    "start_time": "2022-01-18T14:41:16.503Z"
   },
   {
    "duration": 4,
    "start_time": "2022-01-18T14:41:17.681Z"
   },
   {
    "duration": 11,
    "start_time": "2022-01-18T14:41:17.687Z"
   },
   {
    "duration": 7,
    "start_time": "2022-01-18T14:41:17.700Z"
   },
   {
    "duration": 5,
    "start_time": "2022-01-18T14:41:17.708Z"
   },
   {
    "duration": 25,
    "start_time": "2022-01-18T14:41:17.715Z"
   },
   {
    "duration": 3,
    "start_time": "2022-01-18T14:41:17.742Z"
   },
   {
    "duration": 60,
    "start_time": "2022-01-18T14:41:17.747Z"
   },
   {
    "duration": 4,
    "start_time": "2022-01-18T14:41:17.809Z"
   },
   {
    "duration": 9,
    "start_time": "2022-01-18T14:41:17.814Z"
   },
   {
    "duration": 10,
    "start_time": "2022-01-18T14:41:17.826Z"
   },
   {
    "duration": 9,
    "start_time": "2022-01-18T14:41:17.838Z"
   },
   {
    "duration": 6,
    "start_time": "2022-01-18T14:41:17.849Z"
   },
   {
    "duration": 550,
    "start_time": "2022-01-18T14:41:17.856Z"
   },
   {
    "duration": 94704,
    "start_time": "2022-01-18T14:41:18.408Z"
   },
   {
    "duration": 1685,
    "start_time": "2022-01-18T14:42:53.114Z"
   },
   {
    "duration": 4,
    "start_time": "2022-01-18T14:42:54.801Z"
   },
   {
    "duration": 10,
    "start_time": "2022-01-18T14:42:54.807Z"
   },
   {
    "duration": 18,
    "start_time": "2022-01-18T14:42:54.819Z"
   },
   {
    "duration": 3077,
    "start_time": "2022-01-18T14:42:54.839Z"
   },
   {
    "duration": 2892,
    "start_time": "2022-01-18T14:42:57.918Z"
   },
   {
    "duration": 3216,
    "start_time": "2022-01-18T14:43:00.812Z"
   },
   {
    "duration": 3017,
    "start_time": "2022-01-18T14:43:04.030Z"
   },
   {
    "duration": 3064,
    "start_time": "2022-01-18T14:43:07.048Z"
   },
   {
    "duration": 1707,
    "start_time": "2022-01-18T14:56:56.797Z"
   },
   {
    "duration": 4,
    "start_time": "2022-01-18T14:57:01.736Z"
   },
   {
    "duration": 7,
    "start_time": "2022-01-18T14:57:02.892Z"
   },
   {
    "duration": 1820,
    "start_time": "2022-01-18T14:57:09.980Z"
   },
   {
    "duration": 3,
    "start_time": "2022-01-18T14:57:12.485Z"
   },
   {
    "duration": 5,
    "start_time": "2022-01-18T14:57:13.001Z"
   },
   {
    "duration": 1781,
    "start_time": "2022-01-18T14:57:24.124Z"
   },
   {
    "duration": 3,
    "start_time": "2022-01-18T14:57:26.808Z"
   },
   {
    "duration": 6,
    "start_time": "2022-01-18T14:57:27.131Z"
   },
   {
    "duration": 18,
    "start_time": "2022-01-18T14:57:31.841Z"
   },
   {
    "duration": 1697,
    "start_time": "2022-01-18T14:57:41.018Z"
   },
   {
    "duration": 3,
    "start_time": "2022-01-18T14:57:43.782Z"
   },
   {
    "duration": 6,
    "start_time": "2022-01-18T14:57:44.175Z"
   },
   {
    "duration": 19,
    "start_time": "2022-01-18T14:57:55.164Z"
   },
   {
    "duration": 2912,
    "start_time": "2022-01-18T14:59:39.994Z"
   },
   {
    "duration": 3115,
    "start_time": "2022-01-18T15:00:17.522Z"
   },
   {
    "duration": 3001,
    "start_time": "2022-01-18T15:01:46.915Z"
   },
   {
    "duration": 3019,
    "start_time": "2022-01-18T15:01:54.384Z"
   },
   {
    "duration": 330,
    "start_time": "2022-01-18T15:11:08.347Z"
   },
   {
    "duration": 4,
    "start_time": "2022-01-18T15:11:25.696Z"
   },
   {
    "duration": 6,
    "start_time": "2022-01-18T15:12:16.888Z"
   },
   {
    "duration": 12,
    "start_time": "2022-01-18T15:15:54.871Z"
   },
   {
    "duration": 5,
    "start_time": "2022-01-18T15:20:00.985Z"
   },
   {
    "duration": 81,
    "start_time": "2022-01-18T15:20:23.793Z"
   },
   {
    "duration": 231,
    "start_time": "2022-01-18T15:20:27.208Z"
   },
   {
    "duration": 232,
    "start_time": "2022-01-18T15:21:08.989Z"
   },
   {
    "duration": 245,
    "start_time": "2022-01-18T15:21:15.931Z"
   },
   {
    "duration": 431,
    "start_time": "2022-01-18T15:21:30.242Z"
   },
   {
    "duration": 278,
    "start_time": "2022-01-18T15:22:17.071Z"
   },
   {
    "duration": 321,
    "start_time": "2022-01-18T15:22:22.872Z"
   },
   {
    "duration": 612,
    "start_time": "2022-01-18T15:22:53.615Z"
   },
   {
    "duration": 330,
    "start_time": "2022-01-18T15:23:03.600Z"
   },
   {
    "duration": 309,
    "start_time": "2022-01-18T15:23:09.445Z"
   },
   {
    "duration": 6,
    "start_time": "2022-01-18T15:23:59.026Z"
   },
   {
    "duration": 83,
    "start_time": "2022-01-18T15:23:59.896Z"
   },
   {
    "duration": 307,
    "start_time": "2022-01-18T15:24:04.017Z"
   },
   {
    "duration": 302,
    "start_time": "2022-01-18T15:26:06.375Z"
   },
   {
    "duration": 1715,
    "start_time": "2022-01-19T13:51:53.507Z"
   },
   {
    "duration": 3,
    "start_time": "2022-01-19T13:51:55.225Z"
   },
   {
    "duration": 32,
    "start_time": "2022-01-19T13:51:55.232Z"
   },
   {
    "duration": 25,
    "start_time": "2022-01-19T13:51:55.267Z"
   },
   {
    "duration": 14,
    "start_time": "2022-01-19T13:51:55.295Z"
   },
   {
    "duration": 12,
    "start_time": "2022-01-19T13:51:55.312Z"
   },
   {
    "duration": 37,
    "start_time": "2022-01-19T13:51:55.327Z"
   },
   {
    "duration": 73,
    "start_time": "2022-01-19T13:51:55.368Z"
   },
   {
    "duration": 23,
    "start_time": "2022-01-19T13:51:55.460Z"
   },
   {
    "duration": 4101,
    "start_time": "2022-01-19T13:51:55.485Z"
   },
   {
    "duration": 4416,
    "start_time": "2022-01-19T13:51:59.589Z"
   },
   {
    "duration": 6,
    "start_time": "2022-01-19T13:52:04.008Z"
   },
   {
    "duration": 1762,
    "start_time": "2022-01-19T13:52:04.017Z"
   },
   {
    "duration": 5,
    "start_time": "2022-01-19T13:52:05.781Z"
   },
   {
    "duration": 10,
    "start_time": "2022-01-19T13:52:05.788Z"
   },
   {
    "duration": 7,
    "start_time": "2022-01-19T13:52:05.801Z"
   },
   {
    "duration": 4,
    "start_time": "2022-01-19T13:52:05.810Z"
   },
   {
    "duration": 74,
    "start_time": "2022-01-19T13:52:05.816Z"
   },
   {
    "duration": 6,
    "start_time": "2022-01-19T13:52:05.893Z"
   },
   {
    "duration": 70,
    "start_time": "2022-01-19T13:52:05.902Z"
   },
   {
    "duration": 7,
    "start_time": "2022-01-19T13:52:05.975Z"
   },
   {
    "duration": 8,
    "start_time": "2022-01-19T13:52:05.985Z"
   },
   {
    "duration": 14,
    "start_time": "2022-01-19T13:52:05.997Z"
   },
   {
    "duration": 51,
    "start_time": "2022-01-19T13:52:06.013Z"
   },
   {
    "duration": 502,
    "start_time": "2022-01-19T13:52:06.067Z"
   },
   {
    "duration": 281,
    "start_time": "2022-01-19T13:52:06.292Z"
   },
   {
    "duration": 280,
    "start_time": "2022-01-19T13:52:06.295Z"
   },
   {
    "duration": 280,
    "start_time": "2022-01-19T13:52:06.297Z"
   },
   {
    "duration": 278,
    "start_time": "2022-01-19T13:52:06.302Z"
   },
   {
    "duration": 277,
    "start_time": "2022-01-19T13:52:06.305Z"
   },
   {
    "duration": 277,
    "start_time": "2022-01-19T13:52:06.307Z"
   },
   {
    "duration": 275,
    "start_time": "2022-01-19T13:52:06.310Z"
   },
   {
    "duration": 274,
    "start_time": "2022-01-19T13:52:06.313Z"
   },
   {
    "duration": 272,
    "start_time": "2022-01-19T13:52:06.316Z"
   },
   {
    "duration": 270,
    "start_time": "2022-01-19T13:52:06.319Z"
   },
   {
    "duration": 269,
    "start_time": "2022-01-19T13:52:06.322Z"
   },
   {
    "duration": 264,
    "start_time": "2022-01-19T13:52:06.328Z"
   },
   {
    "duration": 264,
    "start_time": "2022-01-19T13:52:06.330Z"
   },
   {
    "duration": 10,
    "start_time": "2022-01-19T13:59:49.018Z"
   },
   {
    "duration": 497,
    "start_time": "2022-01-19T13:59:50.779Z"
   },
   {
    "duration": 7,
    "start_time": "2022-01-19T14:03:56.223Z"
   },
   {
    "duration": 807,
    "start_time": "2022-01-19T14:03:57.592Z"
   },
   {
    "duration": 141558,
    "start_time": "2022-01-19T14:03:59.964Z"
   },
   {
    "duration": 1871,
    "start_time": "2022-01-19T14:06:57.406Z"
   },
   {
    "duration": 4,
    "start_time": "2022-01-19T14:06:59.900Z"
   },
   {
    "duration": 9,
    "start_time": "2022-01-19T14:07:00.636Z"
   },
   {
    "duration": 26,
    "start_time": "2022-01-19T14:07:06.400Z"
   },
   {
    "duration": 4473,
    "start_time": "2022-01-19T14:08:40.079Z"
   },
   {
    "duration": 4261,
    "start_time": "2022-01-19T14:08:52.742Z"
   },
   {
    "duration": 4347,
    "start_time": "2022-01-19T14:09:06.582Z"
   },
   {
    "duration": 4294,
    "start_time": "2022-01-19T14:09:21.973Z"
   },
   {
    "duration": 4648,
    "start_time": "2022-01-19T14:09:30.017Z"
   },
   {
    "duration": 256,
    "start_time": "2022-01-20T13:25:58.182Z"
   },
   {
    "duration": 1420,
    "start_time": "2022-01-20T13:26:19.133Z"
   },
   {
    "duration": 5,
    "start_time": "2022-01-20T13:26:20.556Z"
   },
   {
    "duration": 105,
    "start_time": "2022-01-20T13:26:20.563Z"
   },
   {
    "duration": 54,
    "start_time": "2022-01-20T13:26:20.671Z"
   },
   {
    "duration": 52,
    "start_time": "2022-01-20T13:26:20.728Z"
   },
   {
    "duration": 30,
    "start_time": "2022-01-20T13:26:20.782Z"
   },
   {
    "duration": 39,
    "start_time": "2022-01-20T13:26:20.814Z"
   },
   {
    "duration": 75,
    "start_time": "2022-01-20T13:26:20.856Z"
   },
   {
    "duration": 17,
    "start_time": "2022-01-20T13:26:20.933Z"
   },
   {
    "duration": 2791,
    "start_time": "2022-01-20T13:26:20.952Z"
   },
   {
    "duration": 2499,
    "start_time": "2022-01-20T13:26:23.745Z"
   },
   {
    "duration": 18,
    "start_time": "2022-01-20T13:26:26.246Z"
   },
   {
    "duration": 1217,
    "start_time": "2022-01-20T13:26:26.265Z"
   },
   {
    "duration": 4,
    "start_time": "2022-01-20T13:26:27.483Z"
   },
   {
    "duration": 33,
    "start_time": "2022-01-20T13:26:27.489Z"
   },
   {
    "duration": 42,
    "start_time": "2022-01-20T13:26:27.524Z"
   },
   {
    "duration": 35,
    "start_time": "2022-01-20T13:26:27.568Z"
   },
   {
    "duration": 50,
    "start_time": "2022-01-20T13:26:27.605Z"
   },
   {
    "duration": 25,
    "start_time": "2022-01-20T13:26:27.656Z"
   },
   {
    "duration": 87,
    "start_time": "2022-01-20T13:26:27.683Z"
   },
   {
    "duration": 3,
    "start_time": "2022-01-20T13:26:27.772Z"
   },
   {
    "duration": 27,
    "start_time": "2022-01-20T13:26:27.777Z"
   },
   {
    "duration": 18,
    "start_time": "2022-01-20T13:26:27.807Z"
   },
   {
    "duration": 9,
    "start_time": "2022-01-20T13:26:27.828Z"
   },
   {
    "duration": 10,
    "start_time": "2022-01-20T13:26:27.839Z"
   },
   {
    "duration": 268,
    "start_time": "2022-01-20T13:26:27.851Z"
   },
   {
    "duration": 6,
    "start_time": "2022-01-20T13:26:28.120Z"
   },
   {
    "duration": 695,
    "start_time": "2022-01-20T13:26:28.127Z"
   },
   {
    "duration": 82806,
    "start_time": "2022-01-20T13:26:28.823Z"
   },
   {
    "duration": 1541,
    "start_time": "2022-01-20T13:27:51.631Z"
   },
   {
    "duration": 17,
    "start_time": "2022-01-20T13:27:53.174Z"
   },
   {
    "duration": 120,
    "start_time": "2022-01-20T13:27:53.205Z"
   },
   {
    "duration": 53,
    "start_time": "2022-01-20T13:27:53.327Z"
   },
   {
    "duration": 2750,
    "start_time": "2022-01-20T13:27:53.382Z"
   },
   {
    "duration": 2775,
    "start_time": "2022-01-20T13:27:56.134Z"
   },
   {
    "duration": 2766,
    "start_time": "2022-01-20T13:27:58.911Z"
   },
   {
    "duration": 2683,
    "start_time": "2022-01-20T13:28:01.679Z"
   },
   {
    "duration": 2685,
    "start_time": "2022-01-20T13:28:04.364Z"
   },
   {
    "duration": 13,
    "start_time": "2022-01-20T13:28:27.792Z"
   },
   {
    "duration": 14,
    "start_time": "2022-01-20T13:35:34.070Z"
   },
   {
    "duration": 359,
    "start_time": "2022-01-20T13:41:12.118Z"
   },
   {
    "duration": 7,
    "start_time": "2022-01-20T13:42:04.420Z"
   }
  ],
  "kernelspec": {
   "display_name": "Python 3 (ipykernel)",
   "language": "python",
   "name": "python3"
  },
  "language_info": {
   "codemirror_mode": {
    "name": "ipython",
    "version": 3
   },
   "file_extension": ".py",
   "mimetype": "text/x-python",
   "name": "python",
   "nbconvert_exporter": "python",
   "pygments_lexer": "ipython3",
   "version": "3.9.7"
  },
  "toc": {
   "base_numbering": 1,
   "nav_menu": {},
   "number_sections": true,
   "sideBar": true,
   "skip_h1_title": true,
   "title_cell": "Table of Contents",
   "title_sidebar": "Contents",
   "toc_cell": false,
   "toc_position": {},
   "toc_section_display": true,
   "toc_window_display": false
  }
 },
 "nbformat": 4,
 "nbformat_minor": 2
}
