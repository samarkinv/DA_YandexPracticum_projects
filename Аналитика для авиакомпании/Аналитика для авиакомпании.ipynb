{
 "cells": [
  {
   "cell_type": "markdown",
   "metadata": {},
   "source": [
    "# Аналитика в авиакомпании"
   ]
  },
  {
   "cell_type": "markdown",
   "metadata": {},
   "source": [
    "## 1. Обзор данных"
   ]
  },
  {
   "cell_type": "markdown",
   "metadata": {},
   "source": [
    "**Библиотеки**"
   ]
  },
  {
   "cell_type": "code",
   "execution_count": 1,
   "metadata": {},
   "outputs": [],
   "source": [
    "import pandas as pd\n",
    "import matplotlib.pyplot as plt\n",
    "import plotly.express as px\n",
    "import plotly.io as pio\n",
    "pio.renderers.default = \"svg\""
   ]
  },
  {
   "cell_type": "markdown",
   "metadata": {},
   "source": [
    "**Данные**"
   ]
  },
  {
   "cell_type": "code",
   "execution_count": 2,
   "metadata": {},
   "outputs": [],
   "source": [
    "df_model_flight = pd.read_csv('query_1.csv')\n",
    "df_city_flight = pd.read_csv('query_3.csv')"
   ]
  },
  {
   "cell_type": "markdown",
   "metadata": {},
   "source": [
    "**Таблица самолетов**"
   ]
  },
  {
   "cell_type": "code",
   "execution_count": 3,
   "metadata": {},
   "outputs": [
    {
     "data": {
      "text/html": [
       "<div>\n",
       "<style scoped>\n",
       "    .dataframe tbody tr th:only-of-type {\n",
       "        vertical-align: middle;\n",
       "    }\n",
       "\n",
       "    .dataframe tbody tr th {\n",
       "        vertical-align: top;\n",
       "    }\n",
       "\n",
       "    .dataframe thead th {\n",
       "        text-align: right;\n",
       "    }\n",
       "</style>\n",
       "<table border=\"1\" class=\"dataframe\">\n",
       "  <thead>\n",
       "    <tr style=\"text-align: right;\">\n",
       "      <th></th>\n",
       "      <th>model</th>\n",
       "      <th>flights_amount</th>\n",
       "    </tr>\n",
       "  </thead>\n",
       "  <tbody>\n",
       "    <tr>\n",
       "      <th>0</th>\n",
       "      <td>Airbus A319-100</td>\n",
       "      <td>607</td>\n",
       "    </tr>\n",
       "    <tr>\n",
       "      <th>1</th>\n",
       "      <td>Airbus A321-200</td>\n",
       "      <td>960</td>\n",
       "    </tr>\n",
       "    <tr>\n",
       "      <th>2</th>\n",
       "      <td>Boeing 737-300</td>\n",
       "      <td>630</td>\n",
       "    </tr>\n",
       "    <tr>\n",
       "      <th>3</th>\n",
       "      <td>Boeing 767-300</td>\n",
       "      <td>600</td>\n",
       "    </tr>\n",
       "    <tr>\n",
       "      <th>4</th>\n",
       "      <td>Boeing 777-300</td>\n",
       "      <td>300</td>\n",
       "    </tr>\n",
       "    <tr>\n",
       "      <th>5</th>\n",
       "      <td>Bombardier CRJ-200</td>\n",
       "      <td>4446</td>\n",
       "    </tr>\n",
       "    <tr>\n",
       "      <th>6</th>\n",
       "      <td>Cessna 208 Caravan</td>\n",
       "      <td>4557</td>\n",
       "    </tr>\n",
       "    <tr>\n",
       "      <th>7</th>\n",
       "      <td>Sukhoi SuperJet-100</td>\n",
       "      <td>4185</td>\n",
       "    </tr>\n",
       "  </tbody>\n",
       "</table>\n",
       "</div>"
      ],
      "text/plain": [
       "                 model  flights_amount\n",
       "0      Airbus A319-100             607\n",
       "1      Airbus A321-200             960\n",
       "2       Boeing 737-300             630\n",
       "3       Boeing 767-300             600\n",
       "4       Boeing 777-300             300\n",
       "5   Bombardier CRJ-200            4446\n",
       "6   Cessna 208 Caravan            4557\n",
       "7  Sukhoi SuperJet-100            4185"
      ]
     },
     "metadata": {},
     "output_type": "display_data"
    }
   ],
   "source": [
    "display(df_model_flight)"
   ]
  },
  {
   "cell_type": "code",
   "execution_count": 4,
   "metadata": {},
   "outputs": [
    {
     "name": "stdout",
     "output_type": "stream",
     "text": [
      "<class 'pandas.core.frame.DataFrame'>\n",
      "RangeIndex: 8 entries, 0 to 7\n",
      "Data columns (total 2 columns):\n",
      " #   Column          Non-Null Count  Dtype \n",
      "---  ------          --------------  ----- \n",
      " 0   model           8 non-null      object\n",
      " 1   flights_amount  8 non-null      int64 \n",
      "dtypes: int64(1), object(1)\n",
      "memory usage: 256.0+ bytes\n"
     ]
    }
   ],
   "source": [
    "df_model_flight.info()"
   ]
  },
  {
   "cell_type": "markdown",
   "metadata": {},
   "source": [
    "**Таблица городов**"
   ]
  },
  {
   "cell_type": "code",
   "execution_count": 5,
   "metadata": {},
   "outputs": [
    {
     "data": {
      "text/html": [
       "<div>\n",
       "<style scoped>\n",
       "    .dataframe tbody tr th:only-of-type {\n",
       "        vertical-align: middle;\n",
       "    }\n",
       "\n",
       "    .dataframe tbody tr th {\n",
       "        vertical-align: top;\n",
       "    }\n",
       "\n",
       "    .dataframe thead th {\n",
       "        text-align: right;\n",
       "    }\n",
       "</style>\n",
       "<table border=\"1\" class=\"dataframe\">\n",
       "  <thead>\n",
       "    <tr style=\"text-align: right;\">\n",
       "      <th></th>\n",
       "      <th>city</th>\n",
       "      <th>average_flights</th>\n",
       "    </tr>\n",
       "  </thead>\n",
       "  <tbody>\n",
       "    <tr>\n",
       "      <th>0</th>\n",
       "      <td>Абакан</td>\n",
       "      <td>3.870968</td>\n",
       "    </tr>\n",
       "    <tr>\n",
       "      <th>1</th>\n",
       "      <td>Анадырь</td>\n",
       "      <td>1.000000</td>\n",
       "    </tr>\n",
       "    <tr>\n",
       "      <th>2</th>\n",
       "      <td>Анапа</td>\n",
       "      <td>2.161290</td>\n",
       "    </tr>\n",
       "    <tr>\n",
       "      <th>3</th>\n",
       "      <td>Архангельск</td>\n",
       "      <td>5.354839</td>\n",
       "    </tr>\n",
       "    <tr>\n",
       "      <th>4</th>\n",
       "      <td>Астрахань</td>\n",
       "      <td>2.451613</td>\n",
       "    </tr>\n",
       "  </tbody>\n",
       "</table>\n",
       "</div>"
      ],
      "text/plain": [
       "          city  average_flights\n",
       "0       Абакан         3.870968\n",
       "1      Анадырь         1.000000\n",
       "2        Анапа         2.161290\n",
       "3  Архангельск         5.354839\n",
       "4    Астрахань         2.451613"
      ]
     },
     "execution_count": 5,
     "metadata": {},
     "output_type": "execute_result"
    }
   ],
   "source": [
    "df_city_flight.head()"
   ]
  },
  {
   "cell_type": "code",
   "execution_count": 6,
   "metadata": {},
   "outputs": [
    {
     "name": "stdout",
     "output_type": "stream",
     "text": [
      "<class 'pandas.core.frame.DataFrame'>\n",
      "RangeIndex: 101 entries, 0 to 100\n",
      "Data columns (total 2 columns):\n",
      " #   Column           Non-Null Count  Dtype  \n",
      "---  ------           --------------  -----  \n",
      " 0   city             101 non-null    object \n",
      " 1   average_flights  101 non-null    float64\n",
      "dtypes: float64(1), object(1)\n",
      "memory usage: 1.7+ KB\n"
     ]
    }
   ],
   "source": [
    "df_city_flight.info()"
   ]
  },
  {
   "cell_type": "markdown",
   "metadata": {},
   "source": [
    "**Таблица df_model_flight**\n",
    "- Пропусков нет\n",
    "- Типы данных корректны\n",
    "- Дубликатов нет\n",
    "\n",
    "**Таблица df_city_flight**\n",
    "- Пропусков нет\n",
    "- Тип данных столбца average_flights можно заменить на int (нам не нужна точность до 6 знаков после запятой)\n",
    "- Проверить на дубликаты"
   ]
  },
  {
   "cell_type": "markdown",
   "metadata": {},
   "source": [
    "## 2. Предобработка"
   ]
  },
  {
   "cell_type": "markdown",
   "metadata": {},
   "source": [
    "**Типы данных**"
   ]
  },
  {
   "cell_type": "markdown",
   "metadata": {},
   "source": [
    "Округлим все значения, и столбец автоматически перейдет в int"
   ]
  },
  {
   "cell_type": "code",
   "execution_count": 7,
   "metadata": {},
   "outputs": [],
   "source": [
    "df_city_flight['average_flights'] = df_city_flight['average_flights'].apply(round)"
   ]
  },
  {
   "cell_type": "markdown",
   "metadata": {},
   "source": [
    "**Дубликаты**"
   ]
  },
  {
   "cell_type": "code",
   "execution_count": 8,
   "metadata": {},
   "outputs": [
    {
     "data": {
      "text/plain": [
       "0"
      ]
     },
     "execution_count": 8,
     "metadata": {},
     "output_type": "execute_result"
    }
   ],
   "source": [
    "df_city_flight.duplicated().sum()"
   ]
  },
  {
   "cell_type": "markdown",
   "metadata": {},
   "source": [
    "Готово"
   ]
  },
  {
   "cell_type": "markdown",
   "metadata": {},
   "source": [
    "## 3. Визуализация и анализ"
   ]
  },
  {
   "cell_type": "markdown",
   "metadata": {},
   "source": [
    "### Количество рейсов для разных моделей самолетов"
   ]
  },
  {
   "cell_type": "code",
   "execution_count": 9,
   "metadata": {},
   "outputs": [
    {
     "data": {
      "image/svg+xml": [
       "<svg class=\"main-svg\" xmlns=\"http://www.w3.org/2000/svg\" xmlns:xlink=\"http://www.w3.org/1999/xlink\" width=\"750\" height=\"500\" style=\"\" viewBox=\"0 0 750 500\"><rect x=\"0\" y=\"0\" width=\"750\" height=\"500\" style=\"fill: rgb(17, 17, 17); fill-opacity: 1;\"/><defs id=\"defs-410e88\"><g class=\"clips\"><clipPath id=\"clip410e88xyplot\" class=\"plotclip\"><rect width=\"407\" height=\"320\"/></clipPath><clipPath class=\"axesclip\" id=\"clip410e88x\"><rect x=\"164\" y=\"0\" width=\"407\" height=\"500\"/></clipPath><clipPath class=\"axesclip\" id=\"clip410e88y\"><rect x=\"0\" y=\"100\" width=\"750\" height=\"320\"/></clipPath><clipPath class=\"axesclip\" id=\"clip410e88xy\"><rect x=\"164\" y=\"100\" width=\"407\" height=\"320\"/></clipPath></g><g class=\"gradients\"><linearGradient x1=\"0\" x2=\"0\" y1=\"1\" y2=\"0\" id=\"g410e88-cbcoloraxis\"><stop offset=\"0%\" stop-color=\"rgb(13, 8, 135)\" stop-opacity=\"1\"/><stop offset=\"11.111111%\" stop-color=\"rgb(70, 3, 159)\" stop-opacity=\"1\"/><stop offset=\"22.222222%\" stop-color=\"rgb(114, 1, 168)\" stop-opacity=\"1\"/><stop offset=\"33.333333%\" stop-color=\"rgb(156, 23, 158)\" stop-opacity=\"1\"/><stop offset=\"44.444444%\" stop-color=\"rgb(189, 55, 134)\" stop-opacity=\"1\"/><stop offset=\"55.555556%\" stop-color=\"rgb(216, 87, 107)\" stop-opacity=\"1\"/><stop offset=\"66.666667%\" stop-color=\"rgb(237, 121, 83)\" stop-opacity=\"1\"/><stop offset=\"77.777778%\" stop-color=\"rgb(251, 159, 58)\" stop-opacity=\"1\"/><stop offset=\"88.888889%\" stop-color=\"rgb(253, 202, 38)\" stop-opacity=\"1\"/><stop offset=\"100%\" stop-color=\"rgb(240, 249, 33)\" stop-opacity=\"1\"/></linearGradient></g><g class=\"patterns\"/></defs><g class=\"bglayer\"/><g class=\"layer-below\"><g class=\"imagelayer\"/><g class=\"shapelayer\"/></g><g class=\"cartesianlayer\"><g class=\"subplot xy\"><g class=\"layer-subplot\"><g class=\"shapelayer\"/><g class=\"imagelayer\"/></g><g class=\"gridlayer\"><g class=\"x\"><path class=\"xgrid crisp\" transform=\"translate(248.85,0)\" d=\"M0,100v320\" style=\"stroke: rgb(40, 52, 66); stroke-opacity: 1; stroke-width: 1px;\"/><path class=\"xgrid crisp\" transform=\"translate(333.69,0)\" d=\"M0,100v320\" style=\"stroke: rgb(40, 52, 66); stroke-opacity: 1; stroke-width: 1px;\"/><path class=\"xgrid crisp\" transform=\"translate(418.53999999999996,0)\" d=\"M0,100v320\" style=\"stroke: rgb(40, 52, 66); stroke-opacity: 1; stroke-width: 1px;\"/><path class=\"xgrid crisp\" transform=\"translate(503.39,0)\" d=\"M0,100v320\" style=\"stroke: rgb(40, 52, 66); stroke-opacity: 1; stroke-width: 1px;\"/></g><g class=\"y\"/></g><g class=\"zerolinelayer\"><path class=\"xzl zl crisp\" transform=\"translate(164,0)\" d=\"M0,100v320\" style=\"stroke: rgb(40, 52, 66); stroke-opacity: 1; stroke-width: 2px;\"/></g><path class=\"xlines-below\"/><path class=\"ylines-below\"/><g class=\"overlines-below\"/><g class=\"xaxislayer-below\"/><g class=\"yaxislayer-below\"/><g class=\"overaxes-below\"/><g class=\"plot\" transform=\"translate(164,100)\" clip-path=\"url(#clip410e88xyplot)\"><g class=\"barlayer mlayer\"><g class=\"trace bars\" style=\"opacity: 1;\"><g class=\"points\"><g class=\"point\"><path d=\"M0,316V284H25.45V316Z\" style=\"vector-effect: non-scaling-stroke; opacity: 1; stroke-width: 0.5px; fill: rgb(13, 8, 135); fill-opacity: 1; stroke: rgb(17, 17, 17); stroke-opacity: 1;\"/></g><g class=\"point\"><path d=\"M0,276V244H50.91V276Z\" style=\"vector-effect: non-scaling-stroke; opacity: 1; stroke-width: 0.5px; fill: rgb(49, 5, 150); fill-opacity: 1; stroke: rgb(17, 17, 17); stroke-opacity: 1;\"/></g><g class=\"point\"><path d=\"M0,236V204H51.5V236Z\" style=\"vector-effect: non-scaling-stroke; opacity: 1; stroke-width: 0.5px; fill: rgb(50, 5, 151); fill-opacity: 1; stroke: rgb(17, 17, 17); stroke-opacity: 1;\"/></g><g class=\"point\"><path d=\"M0,196V164H53.45V196Z\" style=\"vector-effect: non-scaling-stroke; opacity: 1; stroke-width: 0.5px; fill: rgb(53, 5, 152); fill-opacity: 1; stroke: rgb(17, 17, 17); stroke-opacity: 1;\"/></g><g class=\"point\"><path d=\"M0,156V124H81.45V156Z\" style=\"vector-effect: non-scaling-stroke; opacity: 1; stroke-width: 0.5px; fill: rgb(87, 2, 163); fill-opacity: 1; stroke: rgb(17, 17, 17); stroke-opacity: 1;\"/></g><g class=\"point\"><path d=\"M0,116V84H355.09V116Z\" style=\"vector-effect: non-scaling-stroke; opacity: 1; stroke-width: 0.5px; fill: rgb(250, 212, 37); fill-opacity: 1; stroke: rgb(17, 17, 17); stroke-opacity: 1;\"/></g><g class=\"point\"><path d=\"M0,76V44H377.23V76Z\" style=\"vector-effect: non-scaling-stroke; opacity: 1; stroke-width: 0.5px; fill: rgb(243, 238, 34); fill-opacity: 1; stroke: rgb(17, 17, 17); stroke-opacity: 1;\"/></g><g class=\"point\"><path d=\"M0,36V4H386.65V36Z\" style=\"vector-effect: non-scaling-stroke; opacity: 1; stroke-width: 0.5px; fill: rgb(240, 249, 33); fill-opacity: 1; stroke: rgb(17, 17, 17); stroke-opacity: 1;\"/></g></g></g></g></g><g class=\"overplot\"/><path class=\"xlines-above crisp\" d=\"M0,0\" style=\"fill: none;\"/><path class=\"ylines-above crisp\" d=\"M0,0\" style=\"fill: none;\"/><g class=\"overlines-above\"/><g class=\"xaxislayer-above\"><g class=\"xtick\"><text text-anchor=\"middle\" x=\"0\" y=\"433\" transform=\"translate(164,0)\" style=\"font-family: 'Open Sans', verdana, arial, sans-serif; font-size: 12px; fill: rgb(242, 245, 250); fill-opacity: 1; white-space: pre; opacity: 1;\">0</text></g><g class=\"xtick\"><text text-anchor=\"middle\" x=\"0\" y=\"433\" style=\"font-family: 'Open Sans', verdana, arial, sans-serif; font-size: 12px; fill: rgb(242, 245, 250); fill-opacity: 1; white-space: pre; opacity: 1;\" transform=\"translate(248.85,0)\">1000</text></g><g class=\"xtick\"><text text-anchor=\"middle\" x=\"0\" y=\"433\" style=\"font-family: 'Open Sans', verdana, arial, sans-serif; font-size: 12px; fill: rgb(242, 245, 250); fill-opacity: 1; white-space: pre; opacity: 1;\" transform=\"translate(333.69,0)\">2000</text></g><g class=\"xtick\"><text text-anchor=\"middle\" x=\"0\" y=\"433\" style=\"font-family: 'Open Sans', verdana, arial, sans-serif; font-size: 12px; fill: rgb(242, 245, 250); fill-opacity: 1; white-space: pre; opacity: 1;\" transform=\"translate(418.53999999999996,0)\">3000</text></g><g class=\"xtick\"><text text-anchor=\"middle\" x=\"0\" y=\"433\" style=\"font-family: 'Open Sans', verdana, arial, sans-serif; font-size: 12px; fill: rgb(242, 245, 250); fill-opacity: 1; white-space: pre; opacity: 1;\" transform=\"translate(503.39,0)\">4000</text></g></g><g class=\"yaxislayer-above\"><g class=\"ytick\"><text text-anchor=\"end\" x=\"163\" y=\"4.199999999999999\" transform=\"translate(0,400)\" style=\"font-family: 'Open Sans', verdana, arial, sans-serif; font-size: 12px; fill: rgb(242, 245, 250); fill-opacity: 1; white-space: pre; opacity: 1;\">Boeing 777-300</text></g><g class=\"ytick\"><text text-anchor=\"end\" x=\"163\" y=\"4.199999999999999\" transform=\"translate(0,360)\" style=\"font-family: 'Open Sans', verdana, arial, sans-serif; font-size: 12px; fill: rgb(242, 245, 250); fill-opacity: 1; white-space: pre; opacity: 1;\">Boeing 767-300</text></g><g class=\"ytick\"><text text-anchor=\"end\" x=\"163\" y=\"4.199999999999999\" transform=\"translate(0,320)\" style=\"font-family: 'Open Sans', verdana, arial, sans-serif; font-size: 12px; fill: rgb(242, 245, 250); fill-opacity: 1; white-space: pre; opacity: 1;\">Airbus A319-100</text></g><g class=\"ytick\"><text text-anchor=\"end\" x=\"163\" y=\"4.199999999999999\" transform=\"translate(0,280)\" style=\"font-family: 'Open Sans', verdana, arial, sans-serif; font-size: 12px; fill: rgb(242, 245, 250); fill-opacity: 1; white-space: pre; opacity: 1;\">Boeing 737-300</text></g><g class=\"ytick\"><text text-anchor=\"end\" x=\"163\" y=\"4.199999999999999\" transform=\"translate(0,240)\" style=\"font-family: 'Open Sans', verdana, arial, sans-serif; font-size: 12px; fill: rgb(242, 245, 250); fill-opacity: 1; white-space: pre; opacity: 1;\">Airbus A321-200</text></g><g class=\"ytick\"><text text-anchor=\"end\" x=\"163\" y=\"4.199999999999999\" transform=\"translate(0,200)\" style=\"font-family: 'Open Sans', verdana, arial, sans-serif; font-size: 12px; fill: rgb(242, 245, 250); fill-opacity: 1; white-space: pre; opacity: 1;\">Sukhoi SuperJet-100</text></g><g class=\"ytick\"><text text-anchor=\"end\" x=\"163\" y=\"4.199999999999999\" transform=\"translate(0,160)\" style=\"font-family: 'Open Sans', verdana, arial, sans-serif; font-size: 12px; fill: rgb(242, 245, 250); fill-opacity: 1; white-space: pre; opacity: 1;\">Bombardier CRJ-200</text></g><g class=\"ytick\"><text text-anchor=\"end\" x=\"163\" y=\"4.199999999999999\" transform=\"translate(0,120)\" style=\"font-family: 'Open Sans', verdana, arial, sans-serif; font-size: 12px; fill: rgb(242, 245, 250); fill-opacity: 1; white-space: pre; opacity: 1;\">Cessna 208 Caravan</text></g></g><g class=\"overaxes-above\"/></g></g><g class=\"polarlayer\"/><g class=\"smithlayer\"/><g class=\"ternarylayer\"/><g class=\"geolayer\"/><g class=\"funnelarealayer\"/><g class=\"pielayer\"/><g class=\"iciclelayer\"/><g class=\"treemaplayer\"/><g class=\"sunburstlayer\"/><g class=\"glimages\"/><defs id=\"topdefs-410e88\"><g class=\"clips\"/></defs><g class=\"layer-above\"><g class=\"imagelayer\"/><g class=\"shapelayer\"/></g><g class=\"infolayer\"><g class=\"cbcoloraxis colorbar\" transform=\"translate(164,100)\"><rect class=\"cbbg\" x=\"415\" y=\"0\" width=\"159.3125\" height=\"320\" style=\"fill: rgb(0, 0, 0); fill-opacity: 0; stroke: rgb(68, 68, 68); stroke-opacity: 1; stroke-width: 0;\"/><g class=\"cbfills\" transform=\"translate(0,32)\"><rect class=\"cbfill\" x=\"425\" y=\"0\" width=\"30\" height=\"278\" style=\"fill: url('#g410e88-cbcoloraxis');\"/></g><g class=\"cblines\" transform=\"translate(0,32)\"/><g class=\"cbaxis crisp\" transform=\"translate(0,-100)\"><g class=\"ycbcoloraxistick\"><text text-anchor=\"start\" x=\"457.9\" y=\"4.199999999999999\" transform=\"translate(0,364.28999999999996)\" style=\"font-family: 'Open Sans', verdana, arial, sans-serif; font-size: 12px; fill: rgb(242, 245, 250); fill-opacity: 1; white-space: pre; opacity: 1;\">1000</text></g><g class=\"ycbcoloraxistick\"><text text-anchor=\"start\" x=\"457.9\" y=\"4.199999999999999\" style=\"font-family: 'Open Sans', verdana, arial, sans-serif; font-size: 12px; fill: rgb(242, 245, 250); fill-opacity: 1; white-space: pre; opacity: 1;\" transform=\"translate(0,298.98)\">2000</text></g><g class=\"ycbcoloraxistick\"><text text-anchor=\"start\" x=\"457.9\" y=\"4.199999999999999\" style=\"font-family: 'Open Sans', verdana, arial, sans-serif; font-size: 12px; fill: rgb(242, 245, 250); fill-opacity: 1; white-space: pre; opacity: 1;\" transform=\"translate(0,233.68)\">3000</text></g><g class=\"ycbcoloraxistick\"><text text-anchor=\"start\" x=\"457.9\" y=\"4.199999999999999\" style=\"font-family: 'Open Sans', verdana, arial, sans-serif; font-size: 12px; fill: rgb(242, 245, 250); fill-opacity: 1; white-space: pre; opacity: 1;\" transform=\"translate(0,168.37)\">4000</text></g></g><g class=\"cbtitleunshift\" transform=\"translate(-164,-100)\"><g class=\"cbtitle\" transform=\"\"><text class=\"ycbcoloraxistitle\" x=\"589.14\" y=\"123.5\" text-anchor=\"start\" style=\"font-family: 'Open Sans', verdana, arial, sans-serif; font-size: 14px; fill: rgb(242, 245, 250); opacity: 1; font-weight: normal; white-space: pre;\">Количество рейсов</text></g></g><rect class=\"cboutline\" x=\"425\" y=\"32\" width=\"30\" height=\"278\" style=\"stroke: rgb(68, 68, 68); stroke-opacity: 1; fill: none; stroke-width: 0;\"/></g><g class=\"g-gtitle\"><text class=\"gtitle\" x=\"37.5\" y=\"50\" text-anchor=\"start\" dy=\"0em\" style=\"font-family: 'Open Sans', verdana, arial, sans-serif; font-size: 17px; fill: rgb(242, 245, 250); opacity: 1; font-weight: normal; white-space: pre;\">Количество рейсов для каждой модели самолета за сентябрь 2018</text></g><g class=\"g-xtitle\"><text class=\"xtitle\" x=\"367.5\" y=\"460.8\" text-anchor=\"middle\" style=\"font-family: 'Open Sans', verdana, arial, sans-serif; font-size: 14px; fill: rgb(242, 245, 250); opacity: 1; font-weight: normal; white-space: pre;\">Количество рейсов</text></g><g class=\"g-ytitle\" transform=\"translate(2.0654296875,0)\"><text class=\"ytitle\" transform=\"rotate(-90,11.934374999999989,260)\" x=\"11.934374999999989\" y=\"260\" text-anchor=\"middle\" style=\"font-family: 'Open Sans', verdana, arial, sans-serif; font-size: 14px; fill: rgb(242, 245, 250); opacity: 1; font-weight: normal; white-space: pre;\">Модель самолета</text></g></g></svg>"
      ]
     },
     "metadata": {},
     "output_type": "display_data"
    }
   ],
   "source": [
    "px.bar(df_model_flight.sort_values(by='flights_amount', ascending=True), \n",
    "             x=\"flights_amount\", \n",
    "             y=\"model\",\n",
    "             color = 'flights_amount',\n",
    "             orientation = 'h',\n",
    "             width=750,\n",
    "             height=500,\n",
    "             labels = {'model':'Модель самолета', 'flights_amount':'Количество рейсов'},\n",
    "             title=\"Количество рейсов для каждой модели самолета за сентябрь 2018\",\n",
    "             template = 'plotly_dark')"
   ]
  },
  {
   "cell_type": "markdown",
   "metadata": {},
   "source": [
    "**Выводы:**\n",
    "- Больше всего рейсов за месяц выполняют самолеты Cessna, Bombardier и Sukhoi\n",
    "- Они превосходят по количеству полетов в месяц следующие в рейтинге Аэробусы и Боинги аж в 4 раза.  "
   ]
  },
  {
   "cell_type": "markdown",
   "metadata": {},
   "source": [
    "### Топ-10 городов по количеству рейсов"
   ]
  },
  {
   "cell_type": "code",
   "execution_count": 10,
   "metadata": {},
   "outputs": [
    {
     "data": {
      "image/svg+xml": [
       "<svg class=\"main-svg\" xmlns=\"http://www.w3.org/2000/svg\" xmlns:xlink=\"http://www.w3.org/1999/xlink\" width=\"750\" height=\"500\" style=\"\" viewBox=\"0 0 750 500\"><rect x=\"0\" y=\"0\" width=\"750\" height=\"500\" style=\"fill: rgb(17, 17, 17); fill-opacity: 1;\"/><defs id=\"defs-5344dc\"><g class=\"clips\"><clipPath id=\"clip5344dcxyplot\" class=\"plotclip\"><rect width=\"526\" height=\"320\"/></clipPath><clipPath class=\"axesclip\" id=\"clip5344dcx\"><rect x=\"144\" y=\"0\" width=\"526\" height=\"500\"/></clipPath><clipPath class=\"axesclip\" id=\"clip5344dcy\"><rect x=\"0\" y=\"100\" width=\"750\" height=\"320\"/></clipPath><clipPath class=\"axesclip\" id=\"clip5344dcxy\"><rect x=\"144\" y=\"100\" width=\"526\" height=\"320\"/></clipPath></g><g class=\"gradients\"/><g class=\"patterns\"/></defs><g class=\"bglayer\"/><g class=\"layer-below\"><g class=\"imagelayer\"/><g class=\"shapelayer\"/></g><g class=\"cartesianlayer\"><g class=\"subplot xy\"><g class=\"layer-subplot\"><g class=\"shapelayer\"/><g class=\"imagelayer\"/></g><g class=\"gridlayer\"><g class=\"x\"><path class=\"xgrid crisp\" transform=\"translate(220.88,0)\" d=\"M0,100v320\" style=\"stroke: rgb(40, 52, 66); stroke-opacity: 1; stroke-width: 1px;\"/><path class=\"xgrid crisp\" transform=\"translate(297.75,0)\" d=\"M0,100v320\" style=\"stroke: rgb(40, 52, 66); stroke-opacity: 1; stroke-width: 1px;\"/><path class=\"xgrid crisp\" transform=\"translate(374.63,0)\" d=\"M0,100v320\" style=\"stroke: rgb(40, 52, 66); stroke-opacity: 1; stroke-width: 1px;\"/><path class=\"xgrid crisp\" transform=\"translate(451.51,0)\" d=\"M0,100v320\" style=\"stroke: rgb(40, 52, 66); stroke-opacity: 1; stroke-width: 1px;\"/><path class=\"xgrid crisp\" transform=\"translate(528.38,0)\" d=\"M0,100v320\" style=\"stroke: rgb(40, 52, 66); stroke-opacity: 1; stroke-width: 1px;\"/><path class=\"xgrid crisp\" transform=\"translate(605.26,0)\" d=\"M0,100v320\" style=\"stroke: rgb(40, 52, 66); stroke-opacity: 1; stroke-width: 1px;\"/></g><g class=\"y\"/></g><g class=\"zerolinelayer\"><path class=\"xzl zl crisp\" transform=\"translate(144,0)\" d=\"M0,100v320\" style=\"stroke: rgb(40, 52, 66); stroke-opacity: 1; stroke-width: 2px;\"/></g><path class=\"xlines-below\"/><path class=\"ylines-below\"/><g class=\"overlines-below\"/><g class=\"xaxislayer-below\"/><g class=\"yaxislayer-below\"/><g class=\"overaxes-below\"/><g class=\"plot\" transform=\"translate(144,100)\" clip-path=\"url(#clip5344dcxyplot)\"><g class=\"barlayer mlayer\"><g class=\"trace bars\" style=\"opacity: 1;\"><g class=\"points\"><g class=\"point\"><path d=\"M0,316.8V291.2H38.44V316.8Z\" style=\"vector-effect: non-scaling-stroke; opacity: 1; stroke-width: 0.5px; fill: rgb(99, 110, 250); fill-opacity: 1; stroke: rgb(17, 17, 17); stroke-opacity: 1;\"/></g><g class=\"point\"><path d=\"M0,284.8V259.2H38.44V284.8Z\" style=\"vector-effect: non-scaling-stroke; opacity: 1; stroke-width: 0.5px; fill: rgb(99, 110, 250); fill-opacity: 1; stroke: rgb(17, 17, 17); stroke-opacity: 1;\"/></g><g class=\"point\"><path d=\"M0,252.8V227.2H38.44V252.8Z\" style=\"vector-effect: non-scaling-stroke; opacity: 1; stroke-width: 0.5px; fill: rgb(99, 110, 250); fill-opacity: 1; stroke: rgb(17, 17, 17); stroke-opacity: 1;\"/></g><g class=\"point\"><path d=\"M0,220.8V195.2H38.44V220.8Z\" style=\"vector-effect: non-scaling-stroke; opacity: 1; stroke-width: 0.5px; fill: rgb(99, 110, 250); fill-opacity: 1; stroke: rgb(17, 17, 17); stroke-opacity: 1;\"/></g><g class=\"point\"><path d=\"M0,188.8V163.2H38.44V188.8Z\" style=\"vector-effect: non-scaling-stroke; opacity: 1; stroke-width: 0.5px; fill: rgb(99, 110, 250); fill-opacity: 1; stroke: rgb(17, 17, 17); stroke-opacity: 1;\"/></g><g class=\"point\"><path d=\"M0,156.8V131.2H42.28V156.8Z\" style=\"vector-effect: non-scaling-stroke; opacity: 1; stroke-width: 0.5px; fill: rgb(99, 110, 250); fill-opacity: 1; stroke: rgb(17, 17, 17); stroke-opacity: 1;\"/></g><g class=\"point\"><path d=\"M0,124.8V99.2H46.13V124.8Z\" style=\"vector-effect: non-scaling-stroke; opacity: 1; stroke-width: 0.5px; fill: rgb(99, 110, 250); fill-opacity: 1; stroke: rgb(17, 17, 17); stroke-opacity: 1;\"/></g><g class=\"point\"><path d=\"M0,92.8V67.2H65.35V92.8Z\" style=\"vector-effect: non-scaling-stroke; opacity: 1; stroke-width: 0.5px; fill: rgb(99, 110, 250); fill-opacity: 1; stroke: rgb(17, 17, 17); stroke-opacity: 1;\"/></g><g class=\"point\"><path d=\"M0,60.8V35.2H119.16V60.8Z\" style=\"vector-effect: non-scaling-stroke; opacity: 1; stroke-width: 0.5px; fill: rgb(99, 110, 250); fill-opacity: 1; stroke: rgb(17, 17, 17); stroke-opacity: 1;\"/></g><g class=\"point\"><path d=\"M0,28.8V3.2H499.7V28.8Z\" style=\"vector-effect: non-scaling-stroke; opacity: 1; stroke-width: 0.5px; fill: rgb(99, 110, 250); fill-opacity: 1; stroke: rgb(17, 17, 17); stroke-opacity: 1;\"/></g></g></g></g></g><g class=\"overplot\"/><path class=\"xlines-above crisp\" d=\"M0,0\" style=\"fill: none;\"/><path class=\"ylines-above crisp\" d=\"M0,0\" style=\"fill: none;\"/><g class=\"overlines-above\"/><g class=\"xaxislayer-above\"><g class=\"xtick\"><text text-anchor=\"middle\" x=\"0\" y=\"433\" transform=\"translate(144,0)\" style=\"font-family: 'Open Sans', verdana, arial, sans-serif; font-size: 12px; fill: rgb(242, 245, 250); fill-opacity: 1; white-space: pre; opacity: 1;\">0</text></g><g class=\"xtick\"><text text-anchor=\"middle\" x=\"0\" y=\"433\" style=\"font-family: 'Open Sans', verdana, arial, sans-serif; font-size: 12px; fill: rgb(242, 245, 250); fill-opacity: 1; white-space: pre; opacity: 1;\" transform=\"translate(220.88,0)\">20</text></g><g class=\"xtick\"><text text-anchor=\"middle\" x=\"0\" y=\"433\" style=\"font-family: 'Open Sans', verdana, arial, sans-serif; font-size: 12px; fill: rgb(242, 245, 250); fill-opacity: 1; white-space: pre; opacity: 1;\" transform=\"translate(297.75,0)\">40</text></g><g class=\"xtick\"><text text-anchor=\"middle\" x=\"0\" y=\"433\" style=\"font-family: 'Open Sans', verdana, arial, sans-serif; font-size: 12px; fill: rgb(242, 245, 250); fill-opacity: 1; white-space: pre; opacity: 1;\" transform=\"translate(374.63,0)\">60</text></g><g class=\"xtick\"><text text-anchor=\"middle\" x=\"0\" y=\"433\" style=\"font-family: 'Open Sans', verdana, arial, sans-serif; font-size: 12px; fill: rgb(242, 245, 250); fill-opacity: 1; white-space: pre; opacity: 1;\" transform=\"translate(451.51,0)\">80</text></g><g class=\"xtick\"><text text-anchor=\"middle\" x=\"0\" y=\"433\" style=\"font-family: 'Open Sans', verdana, arial, sans-serif; font-size: 12px; fill: rgb(242, 245, 250); fill-opacity: 1; white-space: pre; opacity: 1;\" transform=\"translate(528.38,0)\">100</text></g><g class=\"xtick\"><text text-anchor=\"middle\" x=\"0\" y=\"433\" style=\"font-family: 'Open Sans', verdana, arial, sans-serif; font-size: 12px; fill: rgb(242, 245, 250); fill-opacity: 1; white-space: pre; opacity: 1;\" transform=\"translate(605.26,0)\">120</text></g></g><g class=\"yaxislayer-above\"><g class=\"ytick\"><text text-anchor=\"end\" x=\"143\" y=\"4.199999999999999\" transform=\"translate(0,404)\" style=\"font-family: 'Open Sans', verdana, arial, sans-serif; font-size: 12px; fill: rgb(242, 245, 250); fill-opacity: 1; white-space: pre; opacity: 1;\">Сочи</text></g><g class=\"ytick\"><text text-anchor=\"end\" x=\"143\" y=\"4.199999999999999\" transform=\"translate(0,372)\" style=\"font-family: 'Open Sans', verdana, arial, sans-serif; font-size: 12px; fill: rgb(242, 245, 250); fill-opacity: 1; white-space: pre; opacity: 1;\">Ульяновск</text></g><g class=\"ytick\"><text text-anchor=\"end\" x=\"143\" y=\"4.199999999999999\" transform=\"translate(0,340)\" style=\"font-family: 'Open Sans', verdana, arial, sans-serif; font-size: 12px; fill: rgb(242, 245, 250); fill-opacity: 1; white-space: pre; opacity: 1;\">Ростов-на-Дону</text></g><g class=\"ytick\"><text text-anchor=\"end\" x=\"143\" y=\"4.199999999999999\" transform=\"translate(0,308)\" style=\"font-family: 'Open Sans', verdana, arial, sans-serif; font-size: 12px; fill: rgb(242, 245, 250); fill-opacity: 1; white-space: pre; opacity: 1;\">Пермь</text></g><g class=\"ytick\"><text text-anchor=\"end\" x=\"143\" y=\"4.199999999999999\" transform=\"translate(0,276)\" style=\"font-family: 'Open Sans', verdana, arial, sans-serif; font-size: 12px; fill: rgb(242, 245, 250); fill-opacity: 1; white-space: pre; opacity: 1;\">Брянск</text></g><g class=\"ytick\"><text text-anchor=\"end\" x=\"143\" y=\"4.199999999999999\" transform=\"translate(0,244)\" style=\"font-family: 'Open Sans', verdana, arial, sans-serif; font-size: 12px; fill: rgb(242, 245, 250); fill-opacity: 1; white-space: pre; opacity: 1;\">Екатеринбург</text></g><g class=\"ytick\"><text text-anchor=\"end\" x=\"143\" y=\"4.199999999999999\" transform=\"translate(0,212)\" style=\"font-family: 'Open Sans', verdana, arial, sans-serif; font-size: 12px; fill: rgb(242, 245, 250); fill-opacity: 1; white-space: pre; opacity: 1;\">Красноярск</text></g><g class=\"ytick\"><text text-anchor=\"end\" x=\"143\" y=\"4.199999999999999\" transform=\"translate(0,180)\" style=\"font-family: 'Open Sans', verdana, arial, sans-serif; font-size: 12px; fill: rgb(242, 245, 250); fill-opacity: 1; white-space: pre; opacity: 1;\">Новосибирск</text></g><g class=\"ytick\"><text text-anchor=\"end\" x=\"143\" y=\"4.199999999999999\" transform=\"translate(0,148)\" style=\"font-family: 'Open Sans', verdana, arial, sans-serif; font-size: 12px; fill: rgb(242, 245, 250); fill-opacity: 1; white-space: pre; opacity: 1;\">Санкт-Петербург</text></g><g class=\"ytick\"><text text-anchor=\"end\" x=\"143\" y=\"4.199999999999999\" transform=\"translate(0,116)\" style=\"font-family: 'Open Sans', verdana, arial, sans-serif; font-size: 12px; fill: rgb(242, 245, 250); fill-opacity: 1; white-space: pre; opacity: 1;\">Москва</text></g></g><g class=\"overaxes-above\"/></g></g><g class=\"polarlayer\"/><g class=\"smithlayer\"/><g class=\"ternarylayer\"/><g class=\"geolayer\"/><g class=\"funnelarealayer\"/><g class=\"pielayer\"/><g class=\"iciclelayer\"/><g class=\"treemaplayer\"/><g class=\"sunburstlayer\"/><g class=\"glimages\"/><defs id=\"topdefs-5344dc\"><g class=\"clips\"/></defs><g class=\"layer-above\"><g class=\"imagelayer\"/><g class=\"shapelayer\"/></g><g class=\"infolayer\"><g class=\"g-gtitle\"><text class=\"gtitle\" x=\"37.5\" y=\"50\" text-anchor=\"start\" dy=\"0em\" style=\"font-family: 'Open Sans', verdana, arial, sans-serif; font-size: 17px; fill: rgb(242, 245, 250); opacity: 1; font-weight: normal; white-space: pre;\">Топ 10 городов по количеству прибывающих рейсов в день (за август 2018)</text></g><g class=\"g-xtitle\"><text class=\"xtitle\" x=\"407\" y=\"460.8\" text-anchor=\"middle\" style=\"font-family: 'Open Sans', verdana, arial, sans-serif; font-size: 14px; fill: rgb(242, 245, 250); opacity: 1; font-weight: normal; white-space: pre;\">Среднее количество рейсов в день</text></g><g class=\"g-ytitle\" transform=\"translate(1.8935546875,0)\"><text class=\"ytitle\" transform=\"rotate(-90,12.106249999999989,260)\" x=\"12.106249999999989\" y=\"260\" text-anchor=\"middle\" style=\"font-family: 'Open Sans', verdana, arial, sans-serif; font-size: 14px; fill: rgb(242, 245, 250); opacity: 1; font-weight: normal; white-space: pre;\">Город</text></g></g></svg>"
      ]
     },
     "metadata": {},
     "output_type": "display_data"
    }
   ],
   "source": [
    "px.bar(df_city_flight.sort_values(by='average_flights', ascending=True).tail(10), \n",
    "             x=\"average_flights\", \n",
    "             y=\"city\",\n",
    "             orientation = 'h',\n",
    "             width=750,\n",
    "             height=500,\n",
    "             labels = {'city':'Город', 'average_flights':'Среднее количество рейсов в день'},\n",
    "             title=\"Топ 10 городов по количеству прибывающих рейсов в день (за август 2018)\",\n",
    "             template = 'plotly_dark')\n"
   ]
  },
  {
   "cell_type": "markdown",
   "metadata": {},
   "source": [
    "**Выводы:**\n",
    "- Москва с большим отрывом лидирует по количеству прибывающих рейсов (что не удивительно)\n",
    "- После Санкт-Петербурга в дестяке расположились города, которые можно назвать региональными центрами."
   ]
  },
  {
   "cell_type": "markdown",
   "metadata": {},
   "source": [
    "### Города и количество рейсов"
   ]
  },
  {
   "cell_type": "code",
   "execution_count": 11,
   "metadata": {},
   "outputs": [
    {
     "data": {
      "image/svg+xml": [
       "<svg class=\"main-svg\" xmlns=\"http://www.w3.org/2000/svg\" xmlns:xlink=\"http://www.w3.org/1999/xlink\" width=\"1200\" height=\"500\" style=\"\" viewBox=\"0 0 1200 500\"><rect x=\"0\" y=\"0\" width=\"1200\" height=\"500\" style=\"fill: rgb(17, 17, 17); fill-opacity: 1;\"/><defs id=\"defs-8299c6\"><g class=\"clips\"><clipPath id=\"clip8299c6xyplot\" class=\"plotclip\"><rect width=\"1040\" height=\"246\"/></clipPath><clipPath class=\"axesclip\" id=\"clip8299c6x\"><rect x=\"80\" y=\"0\" width=\"1040\" height=\"500\"/></clipPath><clipPath class=\"axesclip\" id=\"clip8299c6y\"><rect x=\"0\" y=\"100\" width=\"1200\" height=\"246\"/></clipPath><clipPath class=\"axesclip\" id=\"clip8299c6xy\"><rect x=\"80\" y=\"100\" width=\"1040\" height=\"246\"/></clipPath></g><g class=\"gradients\"/><g class=\"patterns\"/></defs><g class=\"bglayer\"/><g class=\"layer-below\"><g class=\"imagelayer\"/><g class=\"shapelayer\"/></g><g class=\"cartesianlayer\"><g class=\"subplot xy\"><g class=\"layer-subplot\"><g class=\"shapelayer\"/><g class=\"imagelayer\"/></g><g class=\"gridlayer\"><g class=\"x\"/><g class=\"y\"><path class=\"ygrid crisp\" transform=\"translate(0,310.05)\" d=\"M80,0h1040\" style=\"stroke: rgb(40, 52, 66); stroke-opacity: 1; stroke-width: 1px;\"/><path class=\"ygrid crisp\" transform=\"translate(0,274.09000000000003)\" d=\"M80,0h1040\" style=\"stroke: rgb(40, 52, 66); stroke-opacity: 1; stroke-width: 1px;\"/><path class=\"ygrid crisp\" transform=\"translate(0,238.14)\" d=\"M80,0h1040\" style=\"stroke: rgb(40, 52, 66); stroke-opacity: 1; stroke-width: 1px;\"/><path class=\"ygrid crisp\" transform=\"translate(0,202.18)\" d=\"M80,0h1040\" style=\"stroke: rgb(40, 52, 66); stroke-opacity: 1; stroke-width: 1px;\"/><path class=\"ygrid crisp\" transform=\"translate(0,166.23000000000002)\" d=\"M80,0h1040\" style=\"stroke: rgb(40, 52, 66); stroke-opacity: 1; stroke-width: 1px;\"/><path class=\"ygrid crisp\" transform=\"translate(0,130.28)\" d=\"M80,0h1040\" style=\"stroke: rgb(40, 52, 66); stroke-opacity: 1; stroke-width: 1px;\"/></g></g><g class=\"zerolinelayer\"><path class=\"yzl zl crisp\" transform=\"translate(0,346)\" d=\"M80,0h1040\" style=\"stroke: rgb(40, 52, 66); stroke-opacity: 1; stroke-width: 2px;\"/></g><path class=\"xlines-below\"/><path class=\"ylines-below\"/><g class=\"overlines-below\"/><g class=\"xaxislayer-below\"/><g class=\"yaxislayer-below\"/><g class=\"overaxes-below\"/><g class=\"plot\" transform=\"translate(80,100)\" clip-path=\"url(#clip8299c6xyplot)\"><g class=\"barlayer mlayer\"><g class=\"trace bars\" style=\"opacity: 1;\"><g class=\"points\"><g class=\"point\"><path d=\"M1.03,246V12.3H9.27V246Z\" style=\"vector-effect: non-scaling-stroke; opacity: 1; stroke-width: 0.5px; fill: rgb(99, 110, 250); fill-opacity: 1; stroke: rgb(17, 17, 17); stroke-opacity: 1;\"/></g><g class=\"point\"><path d=\"M11.33,246V190.27H19.56V246Z\" style=\"vector-effect: non-scaling-stroke; opacity: 1; stroke-width: 0.5px; fill: rgb(99, 110, 250); fill-opacity: 1; stroke: rgb(17, 17, 17); stroke-opacity: 1;\"/></g><g class=\"point\"><path d=\"M21.62,246V215.44H29.86V246Z\" style=\"vector-effect: non-scaling-stroke; opacity: 1; stroke-width: 0.5px; fill: rgb(99, 110, 250); fill-opacity: 1; stroke: rgb(17, 17, 17); stroke-opacity: 1;\"/></g><g class=\"point\"><path d=\"M31.92,246V224.43H40.16V246Z\" style=\"vector-effect: non-scaling-stroke; opacity: 1; stroke-width: 0.5px; fill: rgb(99, 110, 250); fill-opacity: 1; stroke: rgb(17, 17, 17); stroke-opacity: 1;\"/></g><g class=\"point\"><path d=\"M42.22,246V226.23H50.46V246Z\" style=\"vector-effect: non-scaling-stroke; opacity: 1; stroke-width: 0.5px; fill: rgb(99, 110, 250); fill-opacity: 1; stroke: rgb(17, 17, 17); stroke-opacity: 1;\"/></g><g class=\"point\"><path d=\"M52.51,246V228.02H60.75V246Z\" style=\"vector-effect: non-scaling-stroke; opacity: 1; stroke-width: 0.5px; fill: rgb(99, 110, 250); fill-opacity: 1; stroke: rgb(17, 17, 17); stroke-opacity: 1;\"/></g><g class=\"point\"><path d=\"M62.81,246V228.02H71.05V246Z\" style=\"vector-effect: non-scaling-stroke; opacity: 1; stroke-width: 0.5px; fill: rgb(99, 110, 250); fill-opacity: 1; stroke: rgb(17, 17, 17); stroke-opacity: 1;\"/></g><g class=\"point\"><path d=\"M73.11,246V228.02H81.35V246Z\" style=\"vector-effect: non-scaling-stroke; opacity: 1; stroke-width: 0.5px; fill: rgb(99, 110, 250); fill-opacity: 1; stroke: rgb(17, 17, 17); stroke-opacity: 1;\"/></g><g class=\"point\"><path d=\"M83.41,246V228.02H91.64V246Z\" style=\"vector-effect: non-scaling-stroke; opacity: 1; stroke-width: 0.5px; fill: rgb(99, 110, 250); fill-opacity: 1; stroke: rgb(17, 17, 17); stroke-opacity: 1;\"/></g><g class=\"point\"><path d=\"M93.7,246V228.02H101.94V246Z\" style=\"vector-effect: non-scaling-stroke; opacity: 1; stroke-width: 0.5px; fill: rgb(99, 110, 250); fill-opacity: 1; stroke: rgb(17, 17, 17); stroke-opacity: 1;\"/></g><g class=\"point\"><path d=\"M104,246V229.82H112.24V246Z\" style=\"vector-effect: non-scaling-stroke; opacity: 1; stroke-width: 0.5px; fill: rgb(99, 110, 250); fill-opacity: 1; stroke: rgb(17, 17, 17); stroke-opacity: 1;\"/></g><g class=\"point\"><path d=\"M114.3,246V229.82H122.53V246Z\" style=\"vector-effect: non-scaling-stroke; opacity: 1; stroke-width: 0.5px; fill: rgb(99, 110, 250); fill-opacity: 1; stroke: rgb(17, 17, 17); stroke-opacity: 1;\"/></g><g class=\"point\"><path d=\"M124.59,246V231.62H132.83V246Z\" style=\"vector-effect: non-scaling-stroke; opacity: 1; stroke-width: 0.5px; fill: rgb(99, 110, 250); fill-opacity: 1; stroke: rgb(17, 17, 17); stroke-opacity: 1;\"/></g><g class=\"point\"><path d=\"M134.89,246V231.62H143.13V246Z\" style=\"vector-effect: non-scaling-stroke; opacity: 1; stroke-width: 0.5px; fill: rgb(99, 110, 250); fill-opacity: 1; stroke: rgb(17, 17, 17); stroke-opacity: 1;\"/></g><g class=\"point\"><path d=\"M145.19,246V231.62H153.43V246Z\" style=\"vector-effect: non-scaling-stroke; opacity: 1; stroke-width: 0.5px; fill: rgb(99, 110, 250); fill-opacity: 1; stroke: rgb(17, 17, 17); stroke-opacity: 1;\"/></g><g class=\"point\"><path d=\"M155.49,246V233.42H163.72V246Z\" style=\"vector-effect: non-scaling-stroke; opacity: 1; stroke-width: 0.5px; fill: rgb(99, 110, 250); fill-opacity: 1; stroke: rgb(17, 17, 17); stroke-opacity: 1;\"/></g><g class=\"point\"><path d=\"M165.78,246V233.42H174.02V246Z\" style=\"vector-effect: non-scaling-stroke; opacity: 1; stroke-width: 0.5px; fill: rgb(99, 110, 250); fill-opacity: 1; stroke: rgb(17, 17, 17); stroke-opacity: 1;\"/></g><g class=\"point\"><path d=\"M176.08,246V233.42H184.32V246Z\" style=\"vector-effect: non-scaling-stroke; opacity: 1; stroke-width: 0.5px; fill: rgb(99, 110, 250); fill-opacity: 1; stroke: rgb(17, 17, 17); stroke-opacity: 1;\"/></g><g class=\"point\"><path d=\"M186.38,246V235.21H194.61V246Z\" style=\"vector-effect: non-scaling-stroke; opacity: 1; stroke-width: 0.5px; fill: rgb(99, 110, 250); fill-opacity: 1; stroke: rgb(17, 17, 17); stroke-opacity: 1;\"/></g><g class=\"point\"><path d=\"M196.67,246V235.21H204.91V246Z\" style=\"vector-effect: non-scaling-stroke; opacity: 1; stroke-width: 0.5px; fill: rgb(99, 110, 250); fill-opacity: 1; stroke: rgb(17, 17, 17); stroke-opacity: 1;\"/></g><g class=\"point\"><path d=\"M206.97,246V235.21H215.21V246Z\" style=\"vector-effect: non-scaling-stroke; opacity: 1; stroke-width: 0.5px; fill: rgb(99, 110, 250); fill-opacity: 1; stroke: rgb(17, 17, 17); stroke-opacity: 1;\"/></g><g class=\"point\"><path d=\"M217.27,246V235.21H225.5V246Z\" style=\"vector-effect: non-scaling-stroke; opacity: 1; stroke-width: 0.5px; fill: rgb(99, 110, 250); fill-opacity: 1; stroke: rgb(17, 17, 17); stroke-opacity: 1;\"/></g><g class=\"point\"><path d=\"M227.56,246V235.21H235.8V246Z\" style=\"vector-effect: non-scaling-stroke; opacity: 1; stroke-width: 0.5px; fill: rgb(99, 110, 250); fill-opacity: 1; stroke: rgb(17, 17, 17); stroke-opacity: 1;\"/></g><g class=\"point\"><path d=\"M237.86,246V235.21H246.1V246Z\" style=\"vector-effect: non-scaling-stroke; opacity: 1; stroke-width: 0.5px; fill: rgb(99, 110, 250); fill-opacity: 1; stroke: rgb(17, 17, 17); stroke-opacity: 1;\"/></g><g class=\"point\"><path d=\"M248.16,246V235.21H256.4V246Z\" style=\"vector-effect: non-scaling-stroke; opacity: 1; stroke-width: 0.5px; fill: rgb(99, 110, 250); fill-opacity: 1; stroke: rgb(17, 17, 17); stroke-opacity: 1;\"/></g><g class=\"point\"><path d=\"M258.46,246V235.21H266.69V246Z\" style=\"vector-effect: non-scaling-stroke; opacity: 1; stroke-width: 0.5px; fill: rgb(99, 110, 250); fill-opacity: 1; stroke: rgb(17, 17, 17); stroke-opacity: 1;\"/></g><g class=\"point\"><path d=\"M268.75,246V237.01H276.99V246Z\" style=\"vector-effect: non-scaling-stroke; opacity: 1; stroke-width: 0.5px; fill: rgb(99, 110, 250); fill-opacity: 1; stroke: rgb(17, 17, 17); stroke-opacity: 1;\"/></g><g class=\"point\"><path d=\"M279.05,246V237.01H287.29V246Z\" style=\"vector-effect: non-scaling-stroke; opacity: 1; stroke-width: 0.5px; fill: rgb(99, 110, 250); fill-opacity: 1; stroke: rgb(17, 17, 17); stroke-opacity: 1;\"/></g><g class=\"point\"><path d=\"M289.35,246V237.01H297.58V246Z\" style=\"vector-effect: non-scaling-stroke; opacity: 1; stroke-width: 0.5px; fill: rgb(99, 110, 250); fill-opacity: 1; stroke: rgb(17, 17, 17); stroke-opacity: 1;\"/></g><g class=\"point\"><path d=\"M299.64,246V237.01H307.88V246Z\" style=\"vector-effect: non-scaling-stroke; opacity: 1; stroke-width: 0.5px; fill: rgb(99, 110, 250); fill-opacity: 1; stroke: rgb(17, 17, 17); stroke-opacity: 1;\"/></g><g class=\"point\"><path d=\"M309.94,246V237.01H318.18V246Z\" style=\"vector-effect: non-scaling-stroke; opacity: 1; stroke-width: 0.5px; fill: rgb(99, 110, 250); fill-opacity: 1; stroke: rgb(17, 17, 17); stroke-opacity: 1;\"/></g><g class=\"point\"><path d=\"M320.24,246V237.01H328.48V246Z\" style=\"vector-effect: non-scaling-stroke; opacity: 1; stroke-width: 0.5px; fill: rgb(99, 110, 250); fill-opacity: 1; stroke: rgb(17, 17, 17); stroke-opacity: 1;\"/></g><g class=\"point\"><path d=\"M330.53,246V238.81H338.77V246Z\" style=\"vector-effect: non-scaling-stroke; opacity: 1; stroke-width: 0.5px; fill: rgb(99, 110, 250); fill-opacity: 1; stroke: rgb(17, 17, 17); stroke-opacity: 1;\"/></g><g class=\"point\"><path d=\"M340.83,246V238.81H349.07V246Z\" style=\"vector-effect: non-scaling-stroke; opacity: 1; stroke-width: 0.5px; fill: rgb(99, 110, 250); fill-opacity: 1; stroke: rgb(17, 17, 17); stroke-opacity: 1;\"/></g><g class=\"point\"><path d=\"M351.13,246V238.81H359.37V246Z\" style=\"vector-effect: non-scaling-stroke; opacity: 1; stroke-width: 0.5px; fill: rgb(99, 110, 250); fill-opacity: 1; stroke: rgb(17, 17, 17); stroke-opacity: 1;\"/></g><g class=\"point\"><path d=\"M361.43,246V238.81H369.66V246Z\" style=\"vector-effect: non-scaling-stroke; opacity: 1; stroke-width: 0.5px; fill: rgb(99, 110, 250); fill-opacity: 1; stroke: rgb(17, 17, 17); stroke-opacity: 1;\"/></g><g class=\"point\"><path d=\"M371.72,246V238.81H379.96V246Z\" style=\"vector-effect: non-scaling-stroke; opacity: 1; stroke-width: 0.5px; fill: rgb(99, 110, 250); fill-opacity: 1; stroke: rgb(17, 17, 17); stroke-opacity: 1;\"/></g><g class=\"point\"><path d=\"M382.02,246V238.81H390.26V246Z\" style=\"vector-effect: non-scaling-stroke; opacity: 1; stroke-width: 0.5px; fill: rgb(99, 110, 250); fill-opacity: 1; stroke: rgb(17, 17, 17); stroke-opacity: 1;\"/></g><g class=\"point\"><path d=\"M392.32,246V238.81H400.55V246Z\" style=\"vector-effect: non-scaling-stroke; opacity: 1; stroke-width: 0.5px; fill: rgb(99, 110, 250); fill-opacity: 1; stroke: rgb(17, 17, 17); stroke-opacity: 1;\"/></g><g class=\"point\"><path d=\"M402.61,246V238.81H410.85V246Z\" style=\"vector-effect: non-scaling-stroke; opacity: 1; stroke-width: 0.5px; fill: rgb(99, 110, 250); fill-opacity: 1; stroke: rgb(17, 17, 17); stroke-opacity: 1;\"/></g><g class=\"point\"><path d=\"M412.91,246V238.81H421.15V246Z\" style=\"vector-effect: non-scaling-stroke; opacity: 1; stroke-width: 0.5px; fill: rgb(99, 110, 250); fill-opacity: 1; stroke: rgb(17, 17, 17); stroke-opacity: 1;\"/></g><g class=\"point\"><path d=\"M423.21,246V238.81H431.45V246Z\" style=\"vector-effect: non-scaling-stroke; opacity: 1; stroke-width: 0.5px; fill: rgb(99, 110, 250); fill-opacity: 1; stroke: rgb(17, 17, 17); stroke-opacity: 1;\"/></g><g class=\"point\"><path d=\"M433.5,246V238.81H441.74V246Z\" style=\"vector-effect: non-scaling-stroke; opacity: 1; stroke-width: 0.5px; fill: rgb(99, 110, 250); fill-opacity: 1; stroke: rgb(17, 17, 17); stroke-opacity: 1;\"/></g><g class=\"point\"><path d=\"M443.8,246V240.61H452.04V246Z\" style=\"vector-effect: non-scaling-stroke; opacity: 1; stroke-width: 0.5px; fill: rgb(99, 110, 250); fill-opacity: 1; stroke: rgb(17, 17, 17); stroke-opacity: 1;\"/></g><g class=\"point\"><path d=\"M454.1,246V240.61H462.34V246Z\" style=\"vector-effect: non-scaling-stroke; opacity: 1; stroke-width: 0.5px; fill: rgb(99, 110, 250); fill-opacity: 1; stroke: rgb(17, 17, 17); stroke-opacity: 1;\"/></g><g class=\"point\"><path d=\"M464.4,246V240.61H472.63V246Z\" style=\"vector-effect: non-scaling-stroke; opacity: 1; stroke-width: 0.5px; fill: rgb(99, 110, 250); fill-opacity: 1; stroke: rgb(17, 17, 17); stroke-opacity: 1;\"/></g><g class=\"point\"><path d=\"M474.69,246V240.61H482.93V246Z\" style=\"vector-effect: non-scaling-stroke; opacity: 1; stroke-width: 0.5px; fill: rgb(99, 110, 250); fill-opacity: 1; stroke: rgb(17, 17, 17); stroke-opacity: 1;\"/></g><g class=\"point\"><path d=\"M484.99,246V240.61H493.23V246Z\" style=\"vector-effect: non-scaling-stroke; opacity: 1; stroke-width: 0.5px; fill: rgb(99, 110, 250); fill-opacity: 1; stroke: rgb(17, 17, 17); stroke-opacity: 1;\"/></g><g class=\"point\"><path d=\"M495.29,246V240.61H503.52V246Z\" style=\"vector-effect: non-scaling-stroke; opacity: 1; stroke-width: 0.5px; fill: rgb(99, 110, 250); fill-opacity: 1; stroke: rgb(17, 17, 17); stroke-opacity: 1;\"/></g><g class=\"point\"><path d=\"M505.58,246V240.61H513.82V246Z\" style=\"vector-effect: non-scaling-stroke; opacity: 1; stroke-width: 0.5px; fill: rgb(99, 110, 250); fill-opacity: 1; stroke: rgb(17, 17, 17); stroke-opacity: 1;\"/></g><g class=\"point\"><path d=\"M515.88,246V240.61H524.12V246Z\" style=\"vector-effect: non-scaling-stroke; opacity: 1; stroke-width: 0.5px; fill: rgb(99, 110, 250); fill-opacity: 1; stroke: rgb(17, 17, 17); stroke-opacity: 1;\"/></g><g class=\"point\"><path d=\"M526.18,246V240.61H534.42V246Z\" style=\"vector-effect: non-scaling-stroke; opacity: 1; stroke-width: 0.5px; fill: rgb(99, 110, 250); fill-opacity: 1; stroke: rgb(17, 17, 17); stroke-opacity: 1;\"/></g><g class=\"point\"><path d=\"M536.48,246V240.61H544.71V246Z\" style=\"vector-effect: non-scaling-stroke; opacity: 1; stroke-width: 0.5px; fill: rgb(99, 110, 250); fill-opacity: 1; stroke: rgb(17, 17, 17); stroke-opacity: 1;\"/></g><g class=\"point\"><path d=\"M546.77,246V240.61H555.01V246Z\" style=\"vector-effect: non-scaling-stroke; opacity: 1; stroke-width: 0.5px; fill: rgb(99, 110, 250); fill-opacity: 1; stroke: rgb(17, 17, 17); stroke-opacity: 1;\"/></g><g class=\"point\"><path d=\"M557.07,246V240.61H565.31V246Z\" style=\"vector-effect: non-scaling-stroke; opacity: 1; stroke-width: 0.5px; fill: rgb(99, 110, 250); fill-opacity: 1; stroke: rgb(17, 17, 17); stroke-opacity: 1;\"/></g><g class=\"point\"><path d=\"M567.37,246V240.61H575.6V246Z\" style=\"vector-effect: non-scaling-stroke; opacity: 1; stroke-width: 0.5px; fill: rgb(99, 110, 250); fill-opacity: 1; stroke: rgb(17, 17, 17); stroke-opacity: 1;\"/></g><g class=\"point\"><path d=\"M577.66,246V240.61H585.9V246Z\" style=\"vector-effect: non-scaling-stroke; opacity: 1; stroke-width: 0.5px; fill: rgb(99, 110, 250); fill-opacity: 1; stroke: rgb(17, 17, 17); stroke-opacity: 1;\"/></g><g class=\"point\"><path d=\"M587.96,246V240.61H596.2V246Z\" style=\"vector-effect: non-scaling-stroke; opacity: 1; stroke-width: 0.5px; fill: rgb(99, 110, 250); fill-opacity: 1; stroke: rgb(17, 17, 17); stroke-opacity: 1;\"/></g><g class=\"point\"><path d=\"M598.26,246V240.61H606.5V246Z\" style=\"vector-effect: non-scaling-stroke; opacity: 1; stroke-width: 0.5px; fill: rgb(99, 110, 250); fill-opacity: 1; stroke: rgb(17, 17, 17); stroke-opacity: 1;\"/></g><g class=\"point\"><path d=\"M608.55,246V240.61H616.79V246Z\" style=\"vector-effect: non-scaling-stroke; opacity: 1; stroke-width: 0.5px; fill: rgb(99, 110, 250); fill-opacity: 1; stroke: rgb(17, 17, 17); stroke-opacity: 1;\"/></g><g class=\"point\"><path d=\"M618.85,246V240.61H627.09V246Z\" style=\"vector-effect: non-scaling-stroke; opacity: 1; stroke-width: 0.5px; fill: rgb(99, 110, 250); fill-opacity: 1; stroke: rgb(17, 17, 17); stroke-opacity: 1;\"/></g><g class=\"point\"><path d=\"M629.15,246V240.61H637.39V246Z\" style=\"vector-effect: non-scaling-stroke; opacity: 1; stroke-width: 0.5px; fill: rgb(99, 110, 250); fill-opacity: 1; stroke: rgb(17, 17, 17); stroke-opacity: 1;\"/></g><g class=\"point\"><path d=\"M639.45,246V240.61H647.68V246Z\" style=\"vector-effect: non-scaling-stroke; opacity: 1; stroke-width: 0.5px; fill: rgb(99, 110, 250); fill-opacity: 1; stroke: rgb(17, 17, 17); stroke-opacity: 1;\"/></g><g class=\"point\"><path d=\"M649.74,246V242.4H657.98V246Z\" style=\"vector-effect: non-scaling-stroke; opacity: 1; stroke-width: 0.5px; fill: rgb(99, 110, 250); fill-opacity: 1; stroke: rgb(17, 17, 17); stroke-opacity: 1;\"/></g><g class=\"point\"><path d=\"M660.04,246V242.4H668.28V246Z\" style=\"vector-effect: non-scaling-stroke; opacity: 1; stroke-width: 0.5px; fill: rgb(99, 110, 250); fill-opacity: 1; stroke: rgb(17, 17, 17); stroke-opacity: 1;\"/></g><g class=\"point\"><path d=\"M670.34,246V242.4H678.57V246Z\" style=\"vector-effect: non-scaling-stroke; opacity: 1; stroke-width: 0.5px; fill: rgb(99, 110, 250); fill-opacity: 1; stroke: rgb(17, 17, 17); stroke-opacity: 1;\"/></g><g class=\"point\"><path d=\"M680.63,246V242.4H688.87V246Z\" style=\"vector-effect: non-scaling-stroke; opacity: 1; stroke-width: 0.5px; fill: rgb(99, 110, 250); fill-opacity: 1; stroke: rgb(17, 17, 17); stroke-opacity: 1;\"/></g><g class=\"point\"><path d=\"M690.93,246V242.4H699.17V246Z\" style=\"vector-effect: non-scaling-stroke; opacity: 1; stroke-width: 0.5px; fill: rgb(99, 110, 250); fill-opacity: 1; stroke: rgb(17, 17, 17); stroke-opacity: 1;\"/></g><g class=\"point\"><path d=\"M701.23,246V242.4H709.47V246Z\" style=\"vector-effect: non-scaling-stroke; opacity: 1; stroke-width: 0.5px; fill: rgb(99, 110, 250); fill-opacity: 1; stroke: rgb(17, 17, 17); stroke-opacity: 1;\"/></g><g class=\"point\"><path d=\"M711.52,246V242.4H719.76V246Z\" style=\"vector-effect: non-scaling-stroke; opacity: 1; stroke-width: 0.5px; fill: rgb(99, 110, 250); fill-opacity: 1; stroke: rgb(17, 17, 17); stroke-opacity: 1;\"/></g><g class=\"point\"><path d=\"M721.82,246V242.4H730.06V246Z\" style=\"vector-effect: non-scaling-stroke; opacity: 1; stroke-width: 0.5px; fill: rgb(99, 110, 250); fill-opacity: 1; stroke: rgb(17, 17, 17); stroke-opacity: 1;\"/></g><g class=\"point\"><path d=\"M732.12,246V242.4H740.36V246Z\" style=\"vector-effect: non-scaling-stroke; opacity: 1; stroke-width: 0.5px; fill: rgb(99, 110, 250); fill-opacity: 1; stroke: rgb(17, 17, 17); stroke-opacity: 1;\"/></g><g class=\"point\"><path d=\"M742.42,246V242.4H750.65V246Z\" style=\"vector-effect: non-scaling-stroke; opacity: 1; stroke-width: 0.5px; fill: rgb(99, 110, 250); fill-opacity: 1; stroke: rgb(17, 17, 17); stroke-opacity: 1;\"/></g><g class=\"point\"><path d=\"M752.71,246V242.4H760.95V246Z\" style=\"vector-effect: non-scaling-stroke; opacity: 1; stroke-width: 0.5px; fill: rgb(99, 110, 250); fill-opacity: 1; stroke: rgb(17, 17, 17); stroke-opacity: 1;\"/></g><g class=\"point\"><path d=\"M763.01,246V242.4H771.25V246Z\" style=\"vector-effect: non-scaling-stroke; opacity: 1; stroke-width: 0.5px; fill: rgb(99, 110, 250); fill-opacity: 1; stroke: rgb(17, 17, 17); stroke-opacity: 1;\"/></g><g class=\"point\"><path d=\"M773.31,246V242.4H781.54V246Z\" style=\"vector-effect: non-scaling-stroke; opacity: 1; stroke-width: 0.5px; fill: rgb(99, 110, 250); fill-opacity: 1; stroke: rgb(17, 17, 17); stroke-opacity: 1;\"/></g><g class=\"point\"><path d=\"M783.6,246V242.4H791.84V246Z\" style=\"vector-effect: non-scaling-stroke; opacity: 1; stroke-width: 0.5px; fill: rgb(99, 110, 250); fill-opacity: 1; stroke: rgb(17, 17, 17); stroke-opacity: 1;\"/></g><g class=\"point\"><path d=\"M793.9,246V242.4H802.14V246Z\" style=\"vector-effect: non-scaling-stroke; opacity: 1; stroke-width: 0.5px; fill: rgb(99, 110, 250); fill-opacity: 1; stroke: rgb(17, 17, 17); stroke-opacity: 1;\"/></g><g class=\"point\"><path d=\"M804.2,246V242.4H812.44V246Z\" style=\"vector-effect: non-scaling-stroke; opacity: 1; stroke-width: 0.5px; fill: rgb(99, 110, 250); fill-opacity: 1; stroke: rgb(17, 17, 17); stroke-opacity: 1;\"/></g><g class=\"point\"><path d=\"M814.5,246V242.4H822.73V246Z\" style=\"vector-effect: non-scaling-stroke; opacity: 1; stroke-width: 0.5px; fill: rgb(99, 110, 250); fill-opacity: 1; stroke: rgb(17, 17, 17); stroke-opacity: 1;\"/></g><g class=\"point\"><path d=\"M824.79,246V242.4H833.03V246Z\" style=\"vector-effect: non-scaling-stroke; opacity: 1; stroke-width: 0.5px; fill: rgb(99, 110, 250); fill-opacity: 1; stroke: rgb(17, 17, 17); stroke-opacity: 1;\"/></g><g class=\"point\"><path d=\"M835.09,246V242.4H843.33V246Z\" style=\"vector-effect: non-scaling-stroke; opacity: 1; stroke-width: 0.5px; fill: rgb(99, 110, 250); fill-opacity: 1; stroke: rgb(17, 17, 17); stroke-opacity: 1;\"/></g><g class=\"point\"><path d=\"M845.39,246V242.4H853.62V246Z\" style=\"vector-effect: non-scaling-stroke; opacity: 1; stroke-width: 0.5px; fill: rgb(99, 110, 250); fill-opacity: 1; stroke: rgb(17, 17, 17); stroke-opacity: 1;\"/></g><g class=\"point\"><path d=\"M855.68,246V244.2H863.92V246Z\" style=\"vector-effect: non-scaling-stroke; opacity: 1; stroke-width: 0.5px; fill: rgb(99, 110, 250); fill-opacity: 1; stroke: rgb(17, 17, 17); stroke-opacity: 1;\"/></g><g class=\"point\"><path d=\"M865.98,246V244.2H874.22V246Z\" style=\"vector-effect: non-scaling-stroke; opacity: 1; stroke-width: 0.5px; fill: rgb(99, 110, 250); fill-opacity: 1; stroke: rgb(17, 17, 17); stroke-opacity: 1;\"/></g><g class=\"point\"><path d=\"M876.28,246V244.2H884.51V246Z\" style=\"vector-effect: non-scaling-stroke; opacity: 1; stroke-width: 0.5px; fill: rgb(99, 110, 250); fill-opacity: 1; stroke: rgb(17, 17, 17); stroke-opacity: 1;\"/></g><g class=\"point\"><path d=\"M886.57,246V244.2H894.81V246Z\" style=\"vector-effect: non-scaling-stroke; opacity: 1; stroke-width: 0.5px; fill: rgb(99, 110, 250); fill-opacity: 1; stroke: rgb(17, 17, 17); stroke-opacity: 1;\"/></g><g class=\"point\"><path d=\"M896.87,246V244.2H905.11V246Z\" style=\"vector-effect: non-scaling-stroke; opacity: 1; stroke-width: 0.5px; fill: rgb(99, 110, 250); fill-opacity: 1; stroke: rgb(17, 17, 17); stroke-opacity: 1;\"/></g><g class=\"point\"><path d=\"M907.17,246V244.2H915.41V246Z\" style=\"vector-effect: non-scaling-stroke; opacity: 1; stroke-width: 0.5px; fill: rgb(99, 110, 250); fill-opacity: 1; stroke: rgb(17, 17, 17); stroke-opacity: 1;\"/></g><g class=\"point\"><path d=\"M917.47,246V244.2H925.7V246Z\" style=\"vector-effect: non-scaling-stroke; opacity: 1; stroke-width: 0.5px; fill: rgb(99, 110, 250); fill-opacity: 1; stroke: rgb(17, 17, 17); stroke-opacity: 1;\"/></g><g class=\"point\"><path d=\"M927.76,246V244.2H936V246Z\" style=\"vector-effect: non-scaling-stroke; opacity: 1; stroke-width: 0.5px; fill: rgb(99, 110, 250); fill-opacity: 1; stroke: rgb(17, 17, 17); stroke-opacity: 1;\"/></g><g class=\"point\"><path d=\"M938.06,246V244.2H946.3V246Z\" style=\"vector-effect: non-scaling-stroke; opacity: 1; stroke-width: 0.5px; fill: rgb(99, 110, 250); fill-opacity: 1; stroke: rgb(17, 17, 17); stroke-opacity: 1;\"/></g><g class=\"point\"><path d=\"M948.36,246V244.2H956.59V246Z\" style=\"vector-effect: non-scaling-stroke; opacity: 1; stroke-width: 0.5px; fill: rgb(99, 110, 250); fill-opacity: 1; stroke: rgb(17, 17, 17); stroke-opacity: 1;\"/></g><g class=\"point\"><path d=\"M958.65,246V244.2H966.89V246Z\" style=\"vector-effect: non-scaling-stroke; opacity: 1; stroke-width: 0.5px; fill: rgb(99, 110, 250); fill-opacity: 1; stroke: rgb(17, 17, 17); stroke-opacity: 1;\"/></g><g class=\"point\"><path d=\"M968.95,246V244.2H977.19V246Z\" style=\"vector-effect: non-scaling-stroke; opacity: 1; stroke-width: 0.5px; fill: rgb(99, 110, 250); fill-opacity: 1; stroke: rgb(17, 17, 17); stroke-opacity: 1;\"/></g><g class=\"point\"><path d=\"M979.25,246V244.2H987.49V246Z\" style=\"vector-effect: non-scaling-stroke; opacity: 1; stroke-width: 0.5px; fill: rgb(99, 110, 250); fill-opacity: 1; stroke: rgb(17, 17, 17); stroke-opacity: 1;\"/></g><g class=\"point\"><path d=\"M989.54,246V244.2H997.78V246Z\" style=\"vector-effect: non-scaling-stroke; opacity: 1; stroke-width: 0.5px; fill: rgb(99, 110, 250); fill-opacity: 1; stroke: rgb(17, 17, 17); stroke-opacity: 1;\"/></g><g class=\"point\"><path d=\"M999.84,246V244.2H1008.08V246Z\" style=\"vector-effect: non-scaling-stroke; opacity: 1; stroke-width: 0.5px; fill: rgb(99, 110, 250); fill-opacity: 1; stroke: rgb(17, 17, 17); stroke-opacity: 1;\"/></g><g class=\"point\"><path d=\"M1010.14,246V244.2H1018.38V246Z\" style=\"vector-effect: non-scaling-stroke; opacity: 1; stroke-width: 0.5px; fill: rgb(99, 110, 250); fill-opacity: 1; stroke: rgb(17, 17, 17); stroke-opacity: 1;\"/></g><g class=\"point\"><path d=\"M1020.44,246V244.2H1028.67V246Z\" style=\"vector-effect: non-scaling-stroke; opacity: 1; stroke-width: 0.5px; fill: rgb(99, 110, 250); fill-opacity: 1; stroke: rgb(17, 17, 17); stroke-opacity: 1;\"/></g><g class=\"point\"><path d=\"M1030.73,246V244.2H1038.97V246Z\" style=\"vector-effect: non-scaling-stroke; opacity: 1; stroke-width: 0.5px; fill: rgb(99, 110, 250); fill-opacity: 1; stroke: rgb(17, 17, 17); stroke-opacity: 1;\"/></g></g></g></g></g><g class=\"overplot\"/><path class=\"xlines-above crisp\" d=\"M0,0\" style=\"fill: none;\"/><path class=\"ylines-above crisp\" d=\"M0,0\" style=\"fill: none;\"/><g class=\"overlines-above\"/><g class=\"xaxislayer-above\"><g class=\"xtick\"><text text-anchor=\"start\" x=\"0\" y=\"355\" transform=\"translate(85.15,0) rotate(90,0,351)\" style=\"font-family: 'Open Sans', verdana, arial, sans-serif; font-size: 8px; fill: rgb(242, 245, 250); fill-opacity: 1; white-space: pre; opacity: 1;\">Москва</text></g><g class=\"xtick\"><text text-anchor=\"start\" x=\"0\" y=\"355\" transform=\"translate(95.45,0) rotate(90,0,351)\" style=\"font-family: 'Open Sans', verdana, arial, sans-serif; font-size: 8px; fill: rgb(242, 245, 250); fill-opacity: 1; white-space: pre; opacity: 1;\">Санкт-Петербург</text></g><g class=\"xtick\"><text text-anchor=\"start\" x=\"0\" y=\"355\" transform=\"translate(105.74,0) rotate(90,0,351)\" style=\"font-family: 'Open Sans', verdana, arial, sans-serif; font-size: 8px; fill: rgb(242, 245, 250); fill-opacity: 1; white-space: pre; opacity: 1;\">Новосибирск</text></g><g class=\"xtick\"><text text-anchor=\"start\" x=\"0\" y=\"355\" transform=\"translate(116.03999999999999,0) rotate(90,0,351)\" style=\"font-family: 'Open Sans', verdana, arial, sans-serif; font-size: 8px; fill: rgb(242, 245, 250); fill-opacity: 1; white-space: pre; opacity: 1;\">Красноярск</text></g><g class=\"xtick\"><text text-anchor=\"start\" x=\"0\" y=\"355\" transform=\"translate(126.34,0) rotate(90,0,351)\" style=\"font-family: 'Open Sans', verdana, arial, sans-serif; font-size: 8px; fill: rgb(242, 245, 250); fill-opacity: 1; white-space: pre; opacity: 1;\">Екатеринбург</text></g><g class=\"xtick\"><text text-anchor=\"start\" x=\"0\" y=\"355\" transform=\"translate(136.63,0) rotate(90,0,351)\" style=\"font-family: 'Open Sans', verdana, arial, sans-serif; font-size: 8px; fill: rgb(242, 245, 250); fill-opacity: 1; white-space: pre; opacity: 1;\">Ростов-на-Дону</text></g><g class=\"xtick\"><text text-anchor=\"start\" x=\"0\" y=\"355\" transform=\"translate(146.93,0) rotate(90,0,351)\" style=\"font-family: 'Open Sans', verdana, arial, sans-serif; font-size: 8px; fill: rgb(242, 245, 250); fill-opacity: 1; white-space: pre; opacity: 1;\">Сочи</text></g><g class=\"xtick\"><text text-anchor=\"start\" x=\"0\" y=\"355\" transform=\"translate(157.23000000000002,0) rotate(90,0,351)\" style=\"font-family: 'Open Sans', verdana, arial, sans-serif; font-size: 8px; fill: rgb(242, 245, 250); fill-opacity: 1; white-space: pre; opacity: 1;\">Ульяновск</text></g><g class=\"xtick\"><text text-anchor=\"start\" x=\"0\" y=\"355\" transform=\"translate(167.51999999999998,0) rotate(90,0,351)\" style=\"font-family: 'Open Sans', verdana, arial, sans-serif; font-size: 8px; fill: rgb(242, 245, 250); fill-opacity: 1; white-space: pre; opacity: 1;\">Пермь</text></g><g class=\"xtick\"><text text-anchor=\"start\" x=\"0\" y=\"355\" transform=\"translate(177.82,0) rotate(90,0,351)\" style=\"font-family: 'Open Sans', verdana, arial, sans-serif; font-size: 8px; fill: rgb(242, 245, 250); fill-opacity: 1; white-space: pre; opacity: 1;\">Брянск</text></g><g class=\"xtick\"><text text-anchor=\"start\" x=\"0\" y=\"355\" transform=\"translate(188.12,0) rotate(90,0,351)\" style=\"font-family: 'Open Sans', verdana, arial, sans-serif; font-size: 8px; fill: rgb(242, 245, 250); fill-opacity: 1; white-space: pre; opacity: 1;\">Сургут</text></g><g class=\"xtick\"><text text-anchor=\"start\" x=\"0\" y=\"355\" transform=\"translate(198.42000000000002,0) rotate(90,0,351)\" style=\"font-family: 'Open Sans', verdana, arial, sans-serif; font-size: 8px; fill: rgb(242, 245, 250); fill-opacity: 1; white-space: pre; opacity: 1;\">Советский</text></g><g class=\"xtick\"><text text-anchor=\"start\" x=\"0\" y=\"355\" transform=\"translate(208.71,0) rotate(90,0,351)\" style=\"font-family: 'Open Sans', verdana, arial, sans-serif; font-size: 8px; fill: rgb(242, 245, 250); fill-opacity: 1; white-space: pre; opacity: 1;\">Казань</text></g><g class=\"xtick\"><text text-anchor=\"start\" x=\"0\" y=\"355\" transform=\"translate(219.01,0) rotate(90,0,351)\" style=\"font-family: 'Open Sans', verdana, arial, sans-serif; font-size: 8px; fill: rgb(242, 245, 250); fill-opacity: 1; white-space: pre; opacity: 1;\">Ханты-Мансийск</text></g><g class=\"xtick\"><text text-anchor=\"start\" x=\"0\" y=\"355\" transform=\"translate(229.31,0) rotate(90,0,351)\" style=\"font-family: 'Open Sans', verdana, arial, sans-serif; font-size: 8px; fill: rgb(242, 245, 250); fill-opacity: 1; white-space: pre; opacity: 1;\">Новый Уренгой</text></g><g class=\"xtick\"><text text-anchor=\"start\" x=\"0\" y=\"355\" transform=\"translate(239.6,0) rotate(90,0,351)\" style=\"font-family: 'Open Sans', verdana, arial, sans-serif; font-size: 8px; fill: rgb(242, 245, 250); fill-opacity: 1; white-space: pre; opacity: 1;\">Челябинск</text></g><g class=\"xtick\"><text text-anchor=\"start\" x=\"0\" y=\"355\" transform=\"translate(249.9,0) rotate(90,0,351)\" style=\"font-family: 'Open Sans', verdana, arial, sans-serif; font-size: 8px; fill: rgb(242, 245, 250); fill-opacity: 1; white-space: pre; opacity: 1;\">Тюмень</text></g><g class=\"xtick\"><text text-anchor=\"start\" x=\"0\" y=\"355\" transform=\"translate(260.2,0) rotate(90,0,351)\" style=\"font-family: 'Open Sans', verdana, arial, sans-serif; font-size: 8px; fill: rgb(242, 245, 250); fill-opacity: 1; white-space: pre; opacity: 1;\">Хабаровск</text></g><g class=\"xtick\"><text text-anchor=\"start\" x=\"0\" y=\"355\" transform=\"translate(270.5,0) rotate(90,0,351)\" style=\"font-family: 'Open Sans', verdana, arial, sans-serif; font-size: 8px; fill: rgb(242, 245, 250); fill-opacity: 1; white-space: pre; opacity: 1;\">Петрозаводск</text></g><g class=\"xtick\"><text text-anchor=\"start\" x=\"0\" y=\"355\" transform=\"translate(280.78999999999996,0) rotate(90,0,351)\" style=\"font-family: 'Open Sans', verdana, arial, sans-serif; font-size: 8px; fill: rgb(242, 245, 250); fill-opacity: 1; white-space: pre; opacity: 1;\">Иркутск</text></g><g class=\"xtick\"><text text-anchor=\"start\" x=\"0\" y=\"355\" transform=\"translate(291.09000000000003,0) rotate(90,0,351)\" style=\"font-family: 'Open Sans', verdana, arial, sans-serif; font-size: 8px; fill: rgb(242, 245, 250); fill-opacity: 1; white-space: pre; opacity: 1;\">Мирный</text></g><g class=\"xtick\"><text text-anchor=\"start\" x=\"0\" y=\"355\" transform=\"translate(301.39,0) rotate(90,0,351)\" style=\"font-family: 'Open Sans', verdana, arial, sans-serif; font-size: 8px; fill: rgb(242, 245, 250); fill-opacity: 1; white-space: pre; opacity: 1;\">Киров</text></g><g class=\"xtick\"><text text-anchor=\"start\" x=\"0\" y=\"355\" transform=\"translate(311.68,0) rotate(90,0,351)\" style=\"font-family: 'Open Sans', verdana, arial, sans-serif; font-size: 8px; fill: rgb(242, 245, 250); fill-opacity: 1; white-space: pre; opacity: 1;\">Новокузнецк</text></g><g class=\"xtick\"><text text-anchor=\"start\" x=\"0\" y=\"355\" transform=\"translate(321.98,0) rotate(90,0,351)\" style=\"font-family: 'Open Sans', verdana, arial, sans-serif; font-size: 8px; fill: rgb(242, 245, 250); fill-opacity: 1; white-space: pre; opacity: 1;\">Нижний Новгород</text></g><g class=\"xtick\"><text text-anchor=\"start\" x=\"0\" y=\"355\" transform=\"translate(332.28,0) rotate(90,0,351)\" style=\"font-family: 'Open Sans', verdana, arial, sans-serif; font-size: 8px; fill: rgb(242, 245, 250); fill-opacity: 1; white-space: pre; opacity: 1;\">Белгород</text></g><g class=\"xtick\"><text text-anchor=\"start\" x=\"0\" y=\"355\" transform=\"translate(342.57,0) rotate(90,0,351)\" style=\"font-family: 'Open Sans', verdana, arial, sans-serif; font-size: 8px; fill: rgb(242, 245, 250); fill-opacity: 1; white-space: pre; opacity: 1;\">Уфа</text></g><g class=\"xtick\"><text text-anchor=\"start\" x=\"0\" y=\"355\" transform=\"translate(352.87,0) rotate(90,0,351)\" style=\"font-family: 'Open Sans', verdana, arial, sans-serif; font-size: 8px; fill: rgb(242, 245, 250); fill-opacity: 1; white-space: pre; opacity: 1;\">Архангельск</text></g><g class=\"xtick\"><text text-anchor=\"start\" x=\"0\" y=\"355\" transform=\"translate(363.17,0) rotate(90,0,351)\" style=\"font-family: 'Open Sans', verdana, arial, sans-serif; font-size: 8px; fill: rgb(242, 245, 250); fill-opacity: 1; white-space: pre; opacity: 1;\">Элиста</text></g><g class=\"xtick\"><text text-anchor=\"start\" x=\"0\" y=\"355\" transform=\"translate(373.47,0) rotate(90,0,351)\" style=\"font-family: 'Open Sans', verdana, arial, sans-serif; font-size: 8px; fill: rgb(242, 245, 250); fill-opacity: 1; white-space: pre; opacity: 1;\">Оренбург</text></g><g class=\"xtick\"><text text-anchor=\"start\" x=\"0\" y=\"355\" transform=\"translate(383.76,0) rotate(90,0,351)\" style=\"font-family: 'Open Sans', verdana, arial, sans-serif; font-size: 8px; fill: rgb(242, 245, 250); fill-opacity: 1; white-space: pre; opacity: 1;\">Воркута</text></g><g class=\"xtick\"><text text-anchor=\"start\" x=\"0\" y=\"355\" transform=\"translate(394.06,0) rotate(90,0,351)\" style=\"font-family: 'Open Sans', verdana, arial, sans-serif; font-size: 8px; fill: rgb(242, 245, 250); fill-opacity: 1; white-space: pre; opacity: 1;\">Волгоград</text></g><g class=\"xtick\"><text text-anchor=\"start\" x=\"0\" y=\"355\" transform=\"translate(404.36,0) rotate(90,0,351)\" style=\"font-family: 'Open Sans', verdana, arial, sans-serif; font-size: 8px; fill: rgb(242, 245, 250); fill-opacity: 1; white-space: pre; opacity: 1;\">Чебоксары</text></g><g class=\"xtick\"><text text-anchor=\"start\" x=\"0\" y=\"355\" transform=\"translate(414.65,0) rotate(90,0,351)\" style=\"font-family: 'Open Sans', verdana, arial, sans-serif; font-size: 8px; fill: rgb(242, 245, 250); fill-opacity: 1; white-space: pre; opacity: 1;\">Йошкар-Ола</text></g><g class=\"xtick\"><text text-anchor=\"start\" x=\"0\" y=\"355\" transform=\"translate(424.95,0) rotate(90,0,351)\" style=\"font-family: 'Open Sans', verdana, arial, sans-serif; font-size: 8px; fill: rgb(242, 245, 250); fill-opacity: 1; white-space: pre; opacity: 1;\">Нижнекамск</text></g><g class=\"xtick\"><text text-anchor=\"start\" x=\"0\" y=\"355\" transform=\"translate(435.25,0) rotate(90,0,351)\" style=\"font-family: 'Open Sans', verdana, arial, sans-serif; font-size: 8px; fill: rgb(242, 245, 250); fill-opacity: 1; white-space: pre; opacity: 1;\">Южно-Сахалинск</text></g><g class=\"xtick\"><text text-anchor=\"start\" x=\"0\" y=\"355\" transform=\"translate(445.54,0) rotate(90,0,351)\" style=\"font-family: 'Open Sans', verdana, arial, sans-serif; font-size: 8px; fill: rgb(242, 245, 250); fill-opacity: 1; white-space: pre; opacity: 1;\">Пенза</text></g><g class=\"xtick\"><text text-anchor=\"start\" x=\"0\" y=\"355\" transform=\"translate(455.84,0) rotate(90,0,351)\" style=\"font-family: 'Open Sans', verdana, arial, sans-serif; font-size: 8px; fill: rgb(242, 245, 250); fill-opacity: 1; white-space: pre; opacity: 1;\">Магнитогорск</text></g><g class=\"xtick\"><text text-anchor=\"start\" x=\"0\" y=\"355\" transform=\"translate(466.14,0) rotate(90,0,351)\" style=\"font-family: 'Open Sans', verdana, arial, sans-serif; font-size: 8px; fill: rgb(242, 245, 250); fill-opacity: 1; white-space: pre; opacity: 1;\">Абакан</text></g><g class=\"xtick\"><text text-anchor=\"start\" x=\"0\" y=\"355\" transform=\"translate(476.44,0) rotate(90,0,351)\" style=\"font-family: 'Open Sans', verdana, arial, sans-serif; font-size: 8px; fill: rgb(242, 245, 250); fill-opacity: 1; white-space: pre; opacity: 1;\">Краснодар</text></g><g class=\"xtick\"><text text-anchor=\"start\" x=\"0\" y=\"355\" transform=\"translate(486.73,0) rotate(90,0,351)\" style=\"font-family: 'Open Sans', verdana, arial, sans-serif; font-size: 8px; fill: rgb(242, 245, 250); fill-opacity: 1; white-space: pre; opacity: 1;\">Саратов</text></g><g class=\"xtick\"><text text-anchor=\"start\" x=\"0\" y=\"355\" transform=\"translate(497.03,0) rotate(90,0,351)\" style=\"font-family: 'Open Sans', verdana, arial, sans-serif; font-size: 8px; fill: rgb(242, 245, 250); fill-opacity: 1; white-space: pre; opacity: 1;\">Томск</text></g><g class=\"xtick\"><text text-anchor=\"start\" x=\"0\" y=\"355\" transform=\"translate(507.33,0) rotate(90,0,351)\" style=\"font-family: 'Open Sans', verdana, arial, sans-serif; font-size: 8px; fill: rgb(242, 245, 250); fill-opacity: 1; white-space: pre; opacity: 1;\">Тамбов</text></g><g class=\"xtick\"><text text-anchor=\"start\" x=\"0\" y=\"355\" transform=\"translate(517.62,0) rotate(90,0,351)\" style=\"font-family: 'Open Sans', verdana, arial, sans-serif; font-size: 8px; fill: rgb(242, 245, 250); fill-opacity: 1; white-space: pre; opacity: 1;\">Сыктывкар</text></g><g class=\"xtick\"><text text-anchor=\"start\" x=\"0\" y=\"355\" transform=\"translate(527.9200000000001,0) rotate(90,0,351)\" style=\"font-family: 'Open Sans', verdana, arial, sans-serif; font-size: 8px; fill: rgb(242, 245, 250); fill-opacity: 1; white-space: pre; opacity: 1;\">Самара</text></g><g class=\"xtick\"><text text-anchor=\"start\" x=\"0\" y=\"355\" transform=\"translate(538.22,0) rotate(90,0,351)\" style=\"font-family: 'Open Sans', verdana, arial, sans-serif; font-size: 8px; fill: rgb(242, 245, 250); fill-opacity: 1; white-space: pre; opacity: 1;\">Усть-Илимск</text></g><g class=\"xtick\"><text text-anchor=\"start\" x=\"0\" y=\"355\" transform=\"translate(548.51,0) rotate(90,0,351)\" style=\"font-family: 'Open Sans', verdana, arial, sans-serif; font-size: 8px; fill: rgb(242, 245, 250); fill-opacity: 1; white-space: pre; opacity: 1;\">Удачный</text></g><g class=\"xtick\"><text text-anchor=\"start\" x=\"0\" y=\"355\" transform=\"translate(558.81,0) rotate(90,0,351)\" style=\"font-family: 'Open Sans', verdana, arial, sans-serif; font-size: 8px; fill: rgb(242, 245, 250); fill-opacity: 1; white-space: pre; opacity: 1;\">Омск</text></g><g class=\"xtick\"><text text-anchor=\"start\" x=\"0\" y=\"355\" transform=\"translate(569.11,0) rotate(90,0,351)\" style=\"font-family: 'Open Sans', verdana, arial, sans-serif; font-size: 8px; fill: rgb(242, 245, 250); fill-opacity: 1; white-space: pre; opacity: 1;\">Ноябрьск</text></g><g class=\"xtick\"><text text-anchor=\"start\" x=\"0\" y=\"355\" transform=\"translate(579.4100000000001,0) rotate(90,0,351)\" style=\"font-family: 'Open Sans', verdana, arial, sans-serif; font-size: 8px; fill: rgb(242, 245, 250); fill-opacity: 1; white-space: pre; opacity: 1;\">Якутск</text></g><g class=\"xtick\"><text text-anchor=\"start\" x=\"0\" y=\"355\" transform=\"translate(589.7,0) rotate(90,0,351)\" style=\"font-family: 'Open Sans', verdana, arial, sans-serif; font-size: 8px; fill: rgb(242, 245, 250); fill-opacity: 1; white-space: pre; opacity: 1;\">Ухта</text></g><g class=\"xtick\"><text text-anchor=\"start\" x=\"0\" y=\"355\" transform=\"translate(600,0) rotate(90,0,351)\" style=\"font-family: 'Open Sans', verdana, arial, sans-serif; font-size: 8px; fill: rgb(242, 245, 250); fill-opacity: 1; white-space: pre; opacity: 1;\">Нижневартовск</text></g><g class=\"xtick\"><text text-anchor=\"start\" x=\"0\" y=\"355\" transform=\"translate(610.3,0) rotate(90,0,351)\" style=\"font-family: 'Open Sans', verdana, arial, sans-serif; font-size: 8px; fill: rgb(242, 245, 250); fill-opacity: 1; white-space: pre; opacity: 1;\">Минеральные Воды</text></g><g class=\"xtick\"><text text-anchor=\"start\" x=\"0\" y=\"355\" transform=\"translate(620.59,0) rotate(90,0,351)\" style=\"font-family: 'Open Sans', verdana, arial, sans-serif; font-size: 8px; fill: rgb(242, 245, 250); fill-opacity: 1; white-space: pre; opacity: 1;\">Нерюнгри</text></g><g class=\"xtick\"><text text-anchor=\"start\" x=\"0\" y=\"355\" transform=\"translate(630.89,0) rotate(90,0,351)\" style=\"font-family: 'Open Sans', verdana, arial, sans-serif; font-size: 8px; fill: rgb(242, 245, 250); fill-opacity: 1; white-space: pre; opacity: 1;\">Нарьян-Мар</text></g><g class=\"xtick\"><text text-anchor=\"start\" x=\"0\" y=\"355\" transform=\"translate(641.19,0) rotate(90,0,351)\" style=\"font-family: 'Open Sans', verdana, arial, sans-serif; font-size: 8px; fill: rgb(242, 245, 250); fill-opacity: 1; white-space: pre; opacity: 1;\">Нальчик</text></g><g class=\"xtick\"><text text-anchor=\"start\" x=\"0\" y=\"355\" transform=\"translate(651.49,0) rotate(90,0,351)\" style=\"font-family: 'Open Sans', verdana, arial, sans-serif; font-size: 8px; fill: rgb(242, 245, 250); fill-opacity: 1; white-space: pre; opacity: 1;\">Владивосток</text></g><g class=\"xtick\"><text text-anchor=\"start\" x=\"0\" y=\"355\" transform=\"translate(661.78,0) rotate(90,0,351)\" style=\"font-family: 'Open Sans', verdana, arial, sans-serif; font-size: 8px; fill: rgb(242, 245, 250); fill-opacity: 1; white-space: pre; opacity: 1;\">Бугульма</text></g><g class=\"xtick\"><text text-anchor=\"start\" x=\"0\" y=\"355\" transform=\"translate(672.08,0) rotate(90,0,351)\" style=\"font-family: 'Open Sans', verdana, arial, sans-serif; font-size: 8px; fill: rgb(242, 245, 250); fill-opacity: 1; white-space: pre; opacity: 1;\">Геленджик</text></g><g class=\"xtick\"><text text-anchor=\"start\" x=\"0\" y=\"355\" transform=\"translate(682.38,0) rotate(90,0,351)\" style=\"font-family: 'Open Sans', verdana, arial, sans-serif; font-size: 8px; fill: rgb(242, 245, 250); fill-opacity: 1; white-space: pre; opacity: 1;\">Калининград</text></g><g class=\"xtick\"><text text-anchor=\"start\" x=\"0\" y=\"355\" transform=\"translate(692.67,0) rotate(90,0,351)\" style=\"font-family: 'Open Sans', verdana, arial, sans-serif; font-size: 8px; fill: rgb(242, 245, 250); fill-opacity: 1; white-space: pre; opacity: 1;\">Курган</text></g><g class=\"xtick\"><text text-anchor=\"start\" x=\"0\" y=\"355\" transform=\"translate(702.97,0) rotate(90,0,351)\" style=\"font-family: 'Open Sans', verdana, arial, sans-serif; font-size: 8px; fill: rgb(242, 245, 250); fill-opacity: 1; white-space: pre; opacity: 1;\">Махачкала</text></g><g class=\"xtick\"><text text-anchor=\"start\" x=\"0\" y=\"355\" transform=\"translate(713.27,0) rotate(90,0,351)\" style=\"font-family: 'Open Sans', verdana, arial, sans-serif; font-size: 8px; fill: rgb(242, 245, 250); fill-opacity: 1; white-space: pre; opacity: 1;\">Когалым</text></g><g class=\"xtick\"><text text-anchor=\"start\" x=\"0\" y=\"355\" transform=\"translate(723.56,0) rotate(90,0,351)\" style=\"font-family: 'Open Sans', verdana, arial, sans-serif; font-size: 8px; fill: rgb(242, 245, 250); fill-opacity: 1; white-space: pre; opacity: 1;\">Барнаул</text></g><g class=\"xtick\"><text text-anchor=\"start\" x=\"0\" y=\"355\" transform=\"translate(733.86,0) rotate(90,0,351)\" style=\"font-family: 'Open Sans', verdana, arial, sans-serif; font-size: 8px; fill: rgb(242, 245, 250); fill-opacity: 1; white-space: pre; opacity: 1;\">Кемерово</text></g><g class=\"xtick\"><text text-anchor=\"start\" x=\"0\" y=\"355\" transform=\"translate(744.16,0) rotate(90,0,351)\" style=\"font-family: 'Open Sans', verdana, arial, sans-serif; font-size: 8px; fill: rgb(242, 245, 250); fill-opacity: 1; white-space: pre; opacity: 1;\">Белоярский</text></g><g class=\"xtick\"><text text-anchor=\"start\" x=\"0\" y=\"355\" transform=\"translate(754.46,0) rotate(90,0,351)\" style=\"font-family: 'Open Sans', verdana, arial, sans-serif; font-size: 8px; fill: rgb(242, 245, 250); fill-opacity: 1; white-space: pre; opacity: 1;\">Курск</text></g><g class=\"xtick\"><text text-anchor=\"start\" x=\"0\" y=\"355\" transform=\"translate(764.75,0) rotate(90,0,351)\" style=\"font-family: 'Open Sans', verdana, arial, sans-serif; font-size: 8px; fill: rgb(242, 245, 250); fill-opacity: 1; white-space: pre; opacity: 1;\">Ставрополь</text></g><g class=\"xtick\"><text text-anchor=\"start\" x=\"0\" y=\"355\" transform=\"translate(775.05,0) rotate(90,0,351)\" style=\"font-family: 'Open Sans', verdana, arial, sans-serif; font-size: 8px; fill: rgb(242, 245, 250); fill-opacity: 1; white-space: pre; opacity: 1;\">Урай</text></g><g class=\"xtick\"><text text-anchor=\"start\" x=\"0\" y=\"355\" transform=\"translate(785.35,0) rotate(90,0,351)\" style=\"font-family: 'Open Sans', verdana, arial, sans-serif; font-size: 8px; fill: rgb(242, 245, 250); fill-opacity: 1; white-space: pre; opacity: 1;\">Калуга</text></g><g class=\"xtick\"><text text-anchor=\"start\" x=\"0\" y=\"355\" transform=\"translate(795.64,0) rotate(90,0,351)\" style=\"font-family: 'Open Sans', verdana, arial, sans-serif; font-size: 8px; fill: rgb(242, 245, 250); fill-opacity: 1; white-space: pre; opacity: 1;\">Саранск</text></g><g class=\"xtick\"><text text-anchor=\"start\" x=\"0\" y=\"355\" transform=\"translate(805.94,0) rotate(90,0,351)\" style=\"font-family: 'Open Sans', verdana, arial, sans-serif; font-size: 8px; fill: rgb(242, 245, 250); fill-opacity: 1; white-space: pre; opacity: 1;\">Череповец</text></g><g class=\"xtick\"><text text-anchor=\"start\" x=\"0\" y=\"355\" transform=\"translate(816.24,0) rotate(90,0,351)\" style=\"font-family: 'Open Sans', verdana, arial, sans-serif; font-size: 8px; fill: rgb(242, 245, 250); fill-opacity: 1; white-space: pre; opacity: 1;\">Воронеж</text></g><g class=\"xtick\"><text text-anchor=\"start\" x=\"0\" y=\"355\" transform=\"translate(826.53,0) rotate(90,0,351)\" style=\"font-family: 'Open Sans', verdana, arial, sans-serif; font-size: 8px; fill: rgb(242, 245, 250); fill-opacity: 1; white-space: pre; opacity: 1;\">Салехард</text></g><g class=\"xtick\"><text text-anchor=\"start\" x=\"0\" y=\"355\" transform=\"translate(836.83,0) rotate(90,0,351)\" style=\"font-family: 'Open Sans', verdana, arial, sans-serif; font-size: 8px; fill: rgb(242, 245, 250); fill-opacity: 1; white-space: pre; opacity: 1;\">Улан-Удэ</text></g><g class=\"xtick\"><text text-anchor=\"start\" x=\"0\" y=\"355\" transform=\"translate(847.13,0) rotate(90,0,351)\" style=\"font-family: 'Open Sans', verdana, arial, sans-serif; font-size: 8px; fill: rgb(242, 245, 250); fill-opacity: 1; white-space: pre; opacity: 1;\">Псков</text></g><g class=\"xtick\"><text text-anchor=\"start\" x=\"0\" y=\"355\" transform=\"translate(857.43,0) rotate(90,0,351)\" style=\"font-family: 'Open Sans', verdana, arial, sans-serif; font-size: 8px; fill: rgb(242, 245, 250); fill-opacity: 1; white-space: pre; opacity: 1;\">Чита</text></g><g class=\"xtick\"><text text-anchor=\"start\" x=\"0\" y=\"355\" transform=\"translate(867.72,0) rotate(90,0,351)\" style=\"font-family: 'Open Sans', verdana, arial, sans-serif; font-size: 8px; fill: rgb(242, 245, 250); fill-opacity: 1; white-space: pre; opacity: 1;\">Астрахань</text></g><g class=\"xtick\"><text text-anchor=\"start\" x=\"0\" y=\"355\" transform=\"translate(878.02,0) rotate(90,0,351)\" style=\"font-family: 'Open Sans', verdana, arial, sans-serif; font-size: 8px; fill: rgb(242, 245, 250); fill-opacity: 1; white-space: pre; opacity: 1;\">Орск</text></g><g class=\"xtick\"><text text-anchor=\"start\" x=\"0\" y=\"355\" transform=\"translate(888.32,0) rotate(90,0,351)\" style=\"font-family: 'Open Sans', verdana, arial, sans-serif; font-size: 8px; fill: rgb(242, 245, 250); fill-opacity: 1; white-space: pre; opacity: 1;\">Мурманск</text></g><g class=\"xtick\"><text text-anchor=\"start\" x=\"0\" y=\"355\" transform=\"translate(898.61,0) rotate(90,0,351)\" style=\"font-family: 'Open Sans', verdana, arial, sans-serif; font-size: 8px; fill: rgb(242, 245, 250); fill-opacity: 1; white-space: pre; opacity: 1;\">Анапа</text></g><g class=\"xtick\"><text text-anchor=\"start\" x=\"0\" y=\"355\" transform=\"translate(908.91,0) rotate(90,0,351)\" style=\"font-family: 'Open Sans', verdana, arial, sans-serif; font-size: 8px; fill: rgb(242, 245, 250); fill-opacity: 1; white-space: pre; opacity: 1;\">Надым</text></g><g class=\"xtick\"><text text-anchor=\"start\" x=\"0\" y=\"355\" transform=\"translate(919.21,0) rotate(90,0,351)\" style=\"font-family: 'Open Sans', verdana, arial, sans-serif; font-size: 8px; fill: rgb(242, 245, 250); fill-opacity: 1; white-space: pre; opacity: 1;\">Норильск</text></g><g class=\"xtick\"><text text-anchor=\"start\" x=\"0\" y=\"355\" transform=\"translate(929.5,0) rotate(90,0,351)\" style=\"font-family: 'Open Sans', verdana, arial, sans-serif; font-size: 8px; fill: rgb(242, 245, 250); fill-opacity: 1; white-space: pre; opacity: 1;\">Владикавказ</text></g><g class=\"xtick\"><text text-anchor=\"start\" x=\"0\" y=\"355\" transform=\"translate(939.8,0) rotate(90,0,351)\" style=\"font-family: 'Open Sans', verdana, arial, sans-serif; font-size: 8px; fill: rgb(242, 245, 250); fill-opacity: 1; white-space: pre; opacity: 1;\">Анадырь</text></g><g class=\"xtick\"><text text-anchor=\"start\" x=\"0\" y=\"355\" transform=\"translate(950.1,0) rotate(90,0,351)\" style=\"font-family: 'Open Sans', verdana, arial, sans-serif; font-size: 8px; fill: rgb(242, 245, 250); fill-opacity: 1; white-space: pre; opacity: 1;\">Братск</text></g><g class=\"xtick\"><text text-anchor=\"start\" x=\"0\" y=\"355\" transform=\"translate(960.4,0) rotate(90,0,351)\" style=\"font-family: 'Open Sans', verdana, arial, sans-serif; font-size: 8px; fill: rgb(242, 245, 250); fill-opacity: 1; white-space: pre; opacity: 1;\">Благовещенск</text></g><g class=\"xtick\"><text text-anchor=\"start\" x=\"0\" y=\"355\" transform=\"translate(970.69,0) rotate(90,0,351)\" style=\"font-family: 'Open Sans', verdana, arial, sans-serif; font-size: 8px; fill: rgb(242, 245, 250); fill-opacity: 1; white-space: pre; opacity: 1;\">Усть-Кут</text></g><g class=\"xtick\"><text text-anchor=\"start\" x=\"0\" y=\"355\" transform=\"translate(980.99,0) rotate(90,0,351)\" style=\"font-family: 'Open Sans', verdana, arial, sans-serif; font-size: 8px; fill: rgb(242, 245, 250); fill-opacity: 1; white-space: pre; opacity: 1;\">Стрежевой</text></g><g class=\"xtick\"><text text-anchor=\"start\" x=\"0\" y=\"355\" transform=\"translate(991.29,0) rotate(90,0,351)\" style=\"font-family: 'Open Sans', verdana, arial, sans-serif; font-size: 8px; fill: rgb(242, 245, 250); fill-opacity: 1; white-space: pre; opacity: 1;\">Усинск</text></g><g class=\"xtick\"><text text-anchor=\"start\" x=\"0\" y=\"355\" transform=\"translate(1001.58,0) rotate(90,0,351)\" style=\"font-family: 'Open Sans', verdana, arial, sans-serif; font-size: 8px; fill: rgb(242, 245, 250); fill-opacity: 1; white-space: pre; opacity: 1;\">Горно-Алтайск</text></g><g class=\"xtick\"><text text-anchor=\"start\" x=\"0\" y=\"355\" transform=\"translate(1011.88,0) rotate(90,0,351)\" style=\"font-family: 'Open Sans', verdana, arial, sans-serif; font-size: 8px; fill: rgb(242, 245, 250); fill-opacity: 1; white-space: pre; opacity: 1;\">Грозный</text></g><g class=\"xtick\"><text text-anchor=\"start\" x=\"0\" y=\"355\" transform=\"translate(1022.18,0) rotate(90,0,351)\" style=\"font-family: 'Open Sans', verdana, arial, sans-serif; font-size: 8px; fill: rgb(242, 245, 250); fill-opacity: 1; white-space: pre; opacity: 1;\">Иваново</text></g><g class=\"xtick\"><text text-anchor=\"start\" x=\"0\" y=\"355\" transform=\"translate(1032.48,0) rotate(90,0,351)\" style=\"font-family: 'Open Sans', verdana, arial, sans-serif; font-size: 8px; fill: rgb(242, 245, 250); fill-opacity: 1; white-space: pre; opacity: 1;\">Ижевск</text></g><g class=\"xtick\"><text text-anchor=\"start\" x=\"0\" y=\"355\" transform=\"translate(1042.77,0) rotate(90,0,351)\" style=\"font-family: 'Open Sans', verdana, arial, sans-serif; font-size: 8px; fill: rgb(242, 245, 250); fill-opacity: 1; white-space: pre; opacity: 1;\">Нефтеюганск</text></g><g class=\"xtick\"><text text-anchor=\"start\" x=\"0\" y=\"355\" transform=\"translate(1053.0700000000002,0) rotate(90,0,351)\" style=\"font-family: 'Open Sans', verdana, arial, sans-serif; font-size: 8px; fill: rgb(242, 245, 250); fill-opacity: 1; white-space: pre; opacity: 1;\">Комсомольск-на-Амуре</text></g><g class=\"xtick\"><text text-anchor=\"start\" x=\"0\" y=\"355\" transform=\"translate(1063.37,0) rotate(90,0,351)\" style=\"font-family: 'Open Sans', verdana, arial, sans-serif; font-size: 8px; fill: rgb(242, 245, 250); fill-opacity: 1; white-space: pre; opacity: 1;\">Кызыл</text></g><g class=\"xtick\"><text text-anchor=\"start\" x=\"0\" y=\"355\" transform=\"translate(1073.6599999999999,0) rotate(90,0,351)\" style=\"font-family: 'Open Sans', verdana, arial, sans-serif; font-size: 8px; fill: rgb(242, 245, 250); fill-opacity: 1; white-space: pre; opacity: 1;\">Петропавловск-Камчатский</text></g><g class=\"xtick\"><text text-anchor=\"start\" x=\"0\" y=\"355\" transform=\"translate(1083.96,0) rotate(90,0,351)\" style=\"font-family: 'Open Sans', verdana, arial, sans-serif; font-size: 8px; fill: rgb(242, 245, 250); fill-opacity: 1; white-space: pre; opacity: 1;\">Липецк</text></g><g class=\"xtick\"><text text-anchor=\"start\" x=\"0\" y=\"355\" transform=\"translate(1094.26,0) rotate(90,0,351)\" style=\"font-family: 'Open Sans', verdana, arial, sans-serif; font-size: 8px; fill: rgb(242, 245, 250); fill-opacity: 1; white-space: pre; opacity: 1;\">Магадан</text></g><g class=\"xtick\"><text text-anchor=\"start\" x=\"0\" y=\"355\" transform=\"translate(1104.55,0) rotate(90,0,351)\" style=\"font-family: 'Open Sans', verdana, arial, sans-serif; font-size: 8px; fill: rgb(242, 245, 250); fill-opacity: 1; white-space: pre; opacity: 1;\">Нягань</text></g><g class=\"xtick\"><text text-anchor=\"start\" x=\"0\" y=\"355\" transform=\"translate(1114.85,0) rotate(90,0,351)\" style=\"font-family: 'Open Sans', verdana, arial, sans-serif; font-size: 8px; fill: rgb(242, 245, 250); fill-opacity: 1; white-space: pre; opacity: 1;\">Ярославль</text></g></g><g class=\"yaxislayer-above\"><g class=\"ytick\"><text text-anchor=\"end\" x=\"79\" y=\"2.8\" transform=\"translate(0,346)\" style=\"font-family: 'Open Sans', verdana, arial, sans-serif; font-size: 8px; fill: rgb(242, 245, 250); fill-opacity: 1; white-space: pre; opacity: 1;\">0</text></g><g class=\"ytick\"><text text-anchor=\"end\" x=\"79\" y=\"2.8\" style=\"font-family: 'Open Sans', verdana, arial, sans-serif; font-size: 8px; fill: rgb(242, 245, 250); fill-opacity: 1; white-space: pre; opacity: 1;\" transform=\"translate(0,310.05)\">20</text></g><g class=\"ytick\"><text text-anchor=\"end\" x=\"79\" y=\"2.8\" style=\"font-family: 'Open Sans', verdana, arial, sans-serif; font-size: 8px; fill: rgb(242, 245, 250); fill-opacity: 1; white-space: pre; opacity: 1;\" transform=\"translate(0,274.09000000000003)\">40</text></g><g class=\"ytick\"><text text-anchor=\"end\" x=\"79\" y=\"2.8\" style=\"font-family: 'Open Sans', verdana, arial, sans-serif; font-size: 8px; fill: rgb(242, 245, 250); fill-opacity: 1; white-space: pre; opacity: 1;\" transform=\"translate(0,238.14)\">60</text></g><g class=\"ytick\"><text text-anchor=\"end\" x=\"79\" y=\"2.8\" style=\"font-family: 'Open Sans', verdana, arial, sans-serif; font-size: 8px; fill: rgb(242, 245, 250); fill-opacity: 1; white-space: pre; opacity: 1;\" transform=\"translate(0,202.18)\">80</text></g><g class=\"ytick\"><text text-anchor=\"end\" x=\"79\" y=\"2.8\" style=\"font-family: 'Open Sans', verdana, arial, sans-serif; font-size: 8px; fill: rgb(242, 245, 250); fill-opacity: 1; white-space: pre; opacity: 1;\" transform=\"translate(0,166.23000000000002)\">100</text></g><g class=\"ytick\"><text text-anchor=\"end\" x=\"79\" y=\"2.8\" style=\"font-family: 'Open Sans', verdana, arial, sans-serif; font-size: 8px; fill: rgb(242, 245, 250); fill-opacity: 1; white-space: pre; opacity: 1;\" transform=\"translate(0,130.28)\">120</text></g></g><g class=\"overaxes-above\"/></g></g><g class=\"polarlayer\"/><g class=\"smithlayer\"/><g class=\"ternarylayer\"/><g class=\"geolayer\"/><g class=\"funnelarealayer\"/><g class=\"pielayer\"/><g class=\"iciclelayer\"/><g class=\"treemaplayer\"/><g class=\"sunburstlayer\"/><g class=\"glimages\"/><defs id=\"topdefs-8299c6\"><g class=\"clips\"/></defs><g class=\"layer-above\"><g class=\"imagelayer\"/><g class=\"shapelayer\"/></g><g class=\"infolayer\"><g class=\"g-gtitle\"><text class=\"gtitle\" x=\"60\" y=\"50\" text-anchor=\"start\" dy=\"0em\" style=\"font-family: 'Open Sans', verdana, arial, sans-serif; font-size: 16px; fill: rgb(242, 245, 250); opacity: 1; font-weight: normal; white-space: pre;\">Города и количество прибывающих в них рейсов в день за август 2018</text></g><g class=\"g-xtitle\"><text class=\"xtitle\" x=\"600\" y=\"488.25\" text-anchor=\"middle\" style=\"font-family: 'Open Sans', verdana, arial, sans-serif; font-size: 10px; fill: rgb(242, 245, 250); opacity: 1; font-weight: normal; white-space: pre;\">Город</text></g><g class=\"g-ytitle\"><text class=\"ytitle\" transform=\"rotate(-90,41.734375,223)\" x=\"41.734375\" y=\"223\" text-anchor=\"middle\" style=\"font-family: 'Open Sans', verdana, arial, sans-serif; font-size: 10px; fill: rgb(242, 245, 250); opacity: 1; font-weight: normal; white-space: pre;\">Среднее кол-во рейсов</text></g></g></svg>"
      ]
     },
     "metadata": {},
     "output_type": "display_data"
    }
   ],
   "source": [
    "fig = px.bar(df_city_flight.sort_values(by='average_flights', ascending=False),\n",
    "             y='average_flights',\n",
    "             x='city',\n",
    "             title='Города и количество прибывающих в них рейсов в день за август 2018',\n",
    "             labels={'city':'Город', 'average_flights':'Среднее кол-во рейсов'},\n",
    "             template = 'plotly_dark')\n",
    "\n",
    "fig.update_layout(\n",
    "    font_size=8,\n",
    "    title_font_size=16,\n",
    "    width=1200,\n",
    "    height=500\n",
    ")\n",
    "\n",
    "fig.show()"
   ]
  },
  {
   "cell_type": "markdown",
   "metadata": {},
   "source": [
    "Московский столбик делает масштаб графика неудобным. Посмотрим на график без Москвы, Санкт-Петербурга и Новосибирска"
   ]
  },
  {
   "cell_type": "code",
   "execution_count": 12,
   "metadata": {},
   "outputs": [
    {
     "data": {
      "image/svg+xml": [
       "<svg class=\"main-svg\" xmlns=\"http://www.w3.org/2000/svg\" xmlns:xlink=\"http://www.w3.org/1999/xlink\" width=\"1200\" height=\"500\" style=\"\" viewBox=\"0 0 1200 500\"><rect x=\"0\" y=\"0\" width=\"1200\" height=\"500\" style=\"fill: rgb(17, 17, 17); fill-opacity: 1;\"/><defs id=\"defs-9473a6\"><g class=\"clips\"><clipPath id=\"clip9473a6xyplot\" class=\"plotclip\"><rect width=\"1040\" height=\"246\"/></clipPath><clipPath class=\"axesclip\" id=\"clip9473a6x\"><rect x=\"80\" y=\"0\" width=\"1040\" height=\"500\"/></clipPath><clipPath class=\"axesclip\" id=\"clip9473a6y\"><rect x=\"0\" y=\"100\" width=\"1200\" height=\"246\"/></clipPath><clipPath class=\"axesclip\" id=\"clip9473a6xy\"><rect x=\"80\" y=\"100\" width=\"1040\" height=\"246\"/></clipPath></g><g class=\"gradients\"/><g class=\"patterns\"/></defs><g class=\"bglayer\"/><g class=\"layer-below\"><g class=\"imagelayer\"/><g class=\"shapelayer\"/></g><g class=\"cartesianlayer\"><g class=\"subplot xy\"><g class=\"layer-subplot\"><g class=\"shapelayer\"/><g class=\"imagelayer\"/></g><g class=\"gridlayer\"><g class=\"x\"/><g class=\"y\"><path class=\"ygrid crisp\" transform=\"translate(0,307.05)\" d=\"M80,0h1040\" style=\"stroke: rgb(40, 52, 66); stroke-opacity: 1; stroke-width: 1px;\"/><path class=\"ygrid crisp\" transform=\"translate(0,268.1)\" d=\"M80,0h1040\" style=\"stroke: rgb(40, 52, 66); stroke-opacity: 1; stroke-width: 1px;\"/><path class=\"ygrid crisp\" transform=\"translate(0,229.15)\" d=\"M80,0h1040\" style=\"stroke: rgb(40, 52, 66); stroke-opacity: 1; stroke-width: 1px;\"/><path class=\"ygrid crisp\" transform=\"translate(0,190.2)\" d=\"M80,0h1040\" style=\"stroke: rgb(40, 52, 66); stroke-opacity: 1; stroke-width: 1px;\"/><path class=\"ygrid crisp\" transform=\"translate(0,151.25)\" d=\"M80,0h1040\" style=\"stroke: rgb(40, 52, 66); stroke-opacity: 1; stroke-width: 1px;\"/><path class=\"ygrid crisp\" transform=\"translate(0,112.3)\" d=\"M80,0h1040\" style=\"stroke: rgb(40, 52, 66); stroke-opacity: 1; stroke-width: 1px;\"/></g></g><g class=\"zerolinelayer\"><path class=\"yzl zl crisp\" transform=\"translate(0,346)\" d=\"M80,0h1040\" style=\"stroke: rgb(40, 52, 66); stroke-opacity: 1; stroke-width: 2px;\"/></g><path class=\"xlines-below\"/><path class=\"ylines-below\"/><g class=\"overlines-below\"/><g class=\"xaxislayer-below\"/><g class=\"yaxislayer-below\"/><g class=\"overaxes-below\"/><g class=\"plot\" transform=\"translate(80,100)\" clip-path=\"url(#clip9473a6xyplot)\"><g class=\"barlayer mlayer\"><g class=\"trace bars\" style=\"opacity: 1;\"><g class=\"points\"><g class=\"point\"><path d=\"M1.06,246V12.3H9.55V246Z\" style=\"vector-effect: non-scaling-stroke; opacity: 1; stroke-width: 0.5px; fill: rgb(99, 110, 250); fill-opacity: 1; stroke: rgb(17, 17, 17); stroke-opacity: 1;\"/></g><g class=\"point\"><path d=\"M11.67,246V31.78H20.16V246Z\" style=\"vector-effect: non-scaling-stroke; opacity: 1; stroke-width: 0.5px; fill: rgb(99, 110, 250); fill-opacity: 1; stroke: rgb(17, 17, 17); stroke-opacity: 1;\"/></g><g class=\"point\"><path d=\"M22.29,246V51.25H30.78V246Z\" style=\"vector-effect: non-scaling-stroke; opacity: 1; stroke-width: 0.5px; fill: rgb(99, 110, 250); fill-opacity: 1; stroke: rgb(17, 17, 17); stroke-opacity: 1;\"/></g><g class=\"point\"><path d=\"M32.9,246V51.25H41.39V246Z\" style=\"vector-effect: non-scaling-stroke; opacity: 1; stroke-width: 0.5px; fill: rgb(99, 110, 250); fill-opacity: 1; stroke: rgb(17, 17, 17); stroke-opacity: 1;\"/></g><g class=\"point\"><path d=\"M43.51,246V51.25H52V246Z\" style=\"vector-effect: non-scaling-stroke; opacity: 1; stroke-width: 0.5px; fill: rgb(99, 110, 250); fill-opacity: 1; stroke: rgb(17, 17, 17); stroke-opacity: 1;\"/></g><g class=\"point\"><path d=\"M54.12,246V51.25H62.61V246Z\" style=\"vector-effect: non-scaling-stroke; opacity: 1; stroke-width: 0.5px; fill: rgb(99, 110, 250); fill-opacity: 1; stroke: rgb(17, 17, 17); stroke-opacity: 1;\"/></g><g class=\"point\"><path d=\"M64.73,246V51.25H73.22V246Z\" style=\"vector-effect: non-scaling-stroke; opacity: 1; stroke-width: 0.5px; fill: rgb(99, 110, 250); fill-opacity: 1; stroke: rgb(17, 17, 17); stroke-opacity: 1;\"/></g><g class=\"point\"><path d=\"M75.35,246V70.73H83.84V246Z\" style=\"vector-effect: non-scaling-stroke; opacity: 1; stroke-width: 0.5px; fill: rgb(99, 110, 250); fill-opacity: 1; stroke: rgb(17, 17, 17); stroke-opacity: 1;\"/></g><g class=\"point\"><path d=\"M85.96,246V70.73H94.45V246Z\" style=\"vector-effect: non-scaling-stroke; opacity: 1; stroke-width: 0.5px; fill: rgb(99, 110, 250); fill-opacity: 1; stroke: rgb(17, 17, 17); stroke-opacity: 1;\"/></g><g class=\"point\"><path d=\"M96.57,246V90.2H105.06V246Z\" style=\"vector-effect: non-scaling-stroke; opacity: 1; stroke-width: 0.5px; fill: rgb(99, 110, 250); fill-opacity: 1; stroke: rgb(17, 17, 17); stroke-opacity: 1;\"/></g><g class=\"point\"><path d=\"M107.18,246V90.2H115.67V246Z\" style=\"vector-effect: non-scaling-stroke; opacity: 1; stroke-width: 0.5px; fill: rgb(99, 110, 250); fill-opacity: 1; stroke: rgb(17, 17, 17); stroke-opacity: 1;\"/></g><g class=\"point\"><path d=\"M117.8,246V90.2H126.29V246Z\" style=\"vector-effect: non-scaling-stroke; opacity: 1; stroke-width: 0.5px; fill: rgb(99, 110, 250); fill-opacity: 1; stroke: rgb(17, 17, 17); stroke-opacity: 1;\"/></g><g class=\"point\"><path d=\"M128.41,246V109.68H136.9V246Z\" style=\"vector-effect: non-scaling-stroke; opacity: 1; stroke-width: 0.5px; fill: rgb(99, 110, 250); fill-opacity: 1; stroke: rgb(17, 17, 17); stroke-opacity: 1;\"/></g><g class=\"point\"><path d=\"M139.02,246V109.68H147.51V246Z\" style=\"vector-effect: non-scaling-stroke; opacity: 1; stroke-width: 0.5px; fill: rgb(99, 110, 250); fill-opacity: 1; stroke: rgb(17, 17, 17); stroke-opacity: 1;\"/></g><g class=\"point\"><path d=\"M149.63,246V109.68H158.12V246Z\" style=\"vector-effect: non-scaling-stroke; opacity: 1; stroke-width: 0.5px; fill: rgb(99, 110, 250); fill-opacity: 1; stroke: rgb(17, 17, 17); stroke-opacity: 1;\"/></g><g class=\"point\"><path d=\"M160.24,246V129.15H168.73V246Z\" style=\"vector-effect: non-scaling-stroke; opacity: 1; stroke-width: 0.5px; fill: rgb(99, 110, 250); fill-opacity: 1; stroke: rgb(17, 17, 17); stroke-opacity: 1;\"/></g><g class=\"point\"><path d=\"M170.86,246V129.15H179.35V246Z\" style=\"vector-effect: non-scaling-stroke; opacity: 1; stroke-width: 0.5px; fill: rgb(99, 110, 250); fill-opacity: 1; stroke: rgb(17, 17, 17); stroke-opacity: 1;\"/></g><g class=\"point\"><path d=\"M181.47,246V129.15H189.96V246Z\" style=\"vector-effect: non-scaling-stroke; opacity: 1; stroke-width: 0.5px; fill: rgb(99, 110, 250); fill-opacity: 1; stroke: rgb(17, 17, 17); stroke-opacity: 1;\"/></g><g class=\"point\"><path d=\"M192.08,246V129.15H200.57V246Z\" style=\"vector-effect: non-scaling-stroke; opacity: 1; stroke-width: 0.5px; fill: rgb(99, 110, 250); fill-opacity: 1; stroke: rgb(17, 17, 17); stroke-opacity: 1;\"/></g><g class=\"point\"><path d=\"M202.69,246V129.15H211.18V246Z\" style=\"vector-effect: non-scaling-stroke; opacity: 1; stroke-width: 0.5px; fill: rgb(99, 110, 250); fill-opacity: 1; stroke: rgb(17, 17, 17); stroke-opacity: 1;\"/></g><g class=\"point\"><path d=\"M213.31,246V129.15H221.8V246Z\" style=\"vector-effect: non-scaling-stroke; opacity: 1; stroke-width: 0.5px; fill: rgb(99, 110, 250); fill-opacity: 1; stroke: rgb(17, 17, 17); stroke-opacity: 1;\"/></g><g class=\"point\"><path d=\"M223.92,246V129.15H232.41V246Z\" style=\"vector-effect: non-scaling-stroke; opacity: 1; stroke-width: 0.5px; fill: rgb(99, 110, 250); fill-opacity: 1; stroke: rgb(17, 17, 17); stroke-opacity: 1;\"/></g><g class=\"point\"><path d=\"M234.53,246V129.15H243.02V246Z\" style=\"vector-effect: non-scaling-stroke; opacity: 1; stroke-width: 0.5px; fill: rgb(99, 110, 250); fill-opacity: 1; stroke: rgb(17, 17, 17); stroke-opacity: 1;\"/></g><g class=\"point\"><path d=\"M245.14,246V148.63H253.63V246Z\" style=\"vector-effect: non-scaling-stroke; opacity: 1; stroke-width: 0.5px; fill: rgb(99, 110, 250); fill-opacity: 1; stroke: rgb(17, 17, 17); stroke-opacity: 1;\"/></g><g class=\"point\"><path d=\"M255.76,246V148.63H264.24V246Z\" style=\"vector-effect: non-scaling-stroke; opacity: 1; stroke-width: 0.5px; fill: rgb(99, 110, 250); fill-opacity: 1; stroke: rgb(17, 17, 17); stroke-opacity: 1;\"/></g><g class=\"point\"><path d=\"M266.37,246V148.63H274.86V246Z\" style=\"vector-effect: non-scaling-stroke; opacity: 1; stroke-width: 0.5px; fill: rgb(99, 110, 250); fill-opacity: 1; stroke: rgb(17, 17, 17); stroke-opacity: 1;\"/></g><g class=\"point\"><path d=\"M276.98,246V148.63H285.47V246Z\" style=\"vector-effect: non-scaling-stroke; opacity: 1; stroke-width: 0.5px; fill: rgb(99, 110, 250); fill-opacity: 1; stroke: rgb(17, 17, 17); stroke-opacity: 1;\"/></g><g class=\"point\"><path d=\"M287.59,246V148.63H296.08V246Z\" style=\"vector-effect: non-scaling-stroke; opacity: 1; stroke-width: 0.5px; fill: rgb(99, 110, 250); fill-opacity: 1; stroke: rgb(17, 17, 17); stroke-opacity: 1;\"/></g><g class=\"point\"><path d=\"M298.2,246V148.63H306.69V246Z\" style=\"vector-effect: non-scaling-stroke; opacity: 1; stroke-width: 0.5px; fill: rgb(99, 110, 250); fill-opacity: 1; stroke: rgb(17, 17, 17); stroke-opacity: 1;\"/></g><g class=\"point\"><path d=\"M308.82,246V168.1H317.31V246Z\" style=\"vector-effect: non-scaling-stroke; opacity: 1; stroke-width: 0.5px; fill: rgb(99, 110, 250); fill-opacity: 1; stroke: rgb(17, 17, 17); stroke-opacity: 1;\"/></g><g class=\"point\"><path d=\"M319.43,246V168.1H327.92V246Z\" style=\"vector-effect: non-scaling-stroke; opacity: 1; stroke-width: 0.5px; fill: rgb(99, 110, 250); fill-opacity: 1; stroke: rgb(17, 17, 17); stroke-opacity: 1;\"/></g><g class=\"point\"><path d=\"M330.04,246V168.1H338.53V246Z\" style=\"vector-effect: non-scaling-stroke; opacity: 1; stroke-width: 0.5px; fill: rgb(99, 110, 250); fill-opacity: 1; stroke: rgb(17, 17, 17); stroke-opacity: 1;\"/></g><g class=\"point\"><path d=\"M340.65,246V168.1H349.14V246Z\" style=\"vector-effect: non-scaling-stroke; opacity: 1; stroke-width: 0.5px; fill: rgb(99, 110, 250); fill-opacity: 1; stroke: rgb(17, 17, 17); stroke-opacity: 1;\"/></g><g class=\"point\"><path d=\"M351.27,246V168.1H359.76V246Z\" style=\"vector-effect: non-scaling-stroke; opacity: 1; stroke-width: 0.5px; fill: rgb(99, 110, 250); fill-opacity: 1; stroke: rgb(17, 17, 17); stroke-opacity: 1;\"/></g><g class=\"point\"><path d=\"M361.88,246V168.1H370.37V246Z\" style=\"vector-effect: non-scaling-stroke; opacity: 1; stroke-width: 0.5px; fill: rgb(99, 110, 250); fill-opacity: 1; stroke: rgb(17, 17, 17); stroke-opacity: 1;\"/></g><g class=\"point\"><path d=\"M372.49,246V168.1H380.98V246Z\" style=\"vector-effect: non-scaling-stroke; opacity: 1; stroke-width: 0.5px; fill: rgb(99, 110, 250); fill-opacity: 1; stroke: rgb(17, 17, 17); stroke-opacity: 1;\"/></g><g class=\"point\"><path d=\"M383.1,246V168.1H391.59V246Z\" style=\"vector-effect: non-scaling-stroke; opacity: 1; stroke-width: 0.5px; fill: rgb(99, 110, 250); fill-opacity: 1; stroke: rgb(17, 17, 17); stroke-opacity: 1;\"/></g><g class=\"point\"><path d=\"M393.71,246V168.1H402.2V246Z\" style=\"vector-effect: non-scaling-stroke; opacity: 1; stroke-width: 0.5px; fill: rgb(99, 110, 250); fill-opacity: 1; stroke: rgb(17, 17, 17); stroke-opacity: 1;\"/></g><g class=\"point\"><path d=\"M404.33,246V168.1H412.82V246Z\" style=\"vector-effect: non-scaling-stroke; opacity: 1; stroke-width: 0.5px; fill: rgb(99, 110, 250); fill-opacity: 1; stroke: rgb(17, 17, 17); stroke-opacity: 1;\"/></g><g class=\"point\"><path d=\"M414.94,246V168.1H423.43V246Z\" style=\"vector-effect: non-scaling-stroke; opacity: 1; stroke-width: 0.5px; fill: rgb(99, 110, 250); fill-opacity: 1; stroke: rgb(17, 17, 17); stroke-opacity: 1;\"/></g><g class=\"point\"><path d=\"M425.55,246V187.58H434.04V246Z\" style=\"vector-effect: non-scaling-stroke; opacity: 1; stroke-width: 0.5px; fill: rgb(99, 110, 250); fill-opacity: 1; stroke: rgb(17, 17, 17); stroke-opacity: 1;\"/></g><g class=\"point\"><path d=\"M436.16,246V187.58H444.65V246Z\" style=\"vector-effect: non-scaling-stroke; opacity: 1; stroke-width: 0.5px; fill: rgb(99, 110, 250); fill-opacity: 1; stroke: rgb(17, 17, 17); stroke-opacity: 1;\"/></g><g class=\"point\"><path d=\"M446.78,246V187.58H455.27V246Z\" style=\"vector-effect: non-scaling-stroke; opacity: 1; stroke-width: 0.5px; fill: rgb(99, 110, 250); fill-opacity: 1; stroke: rgb(17, 17, 17); stroke-opacity: 1;\"/></g><g class=\"point\"><path d=\"M457.39,246V187.58H465.88V246Z\" style=\"vector-effect: non-scaling-stroke; opacity: 1; stroke-width: 0.5px; fill: rgb(99, 110, 250); fill-opacity: 1; stroke: rgb(17, 17, 17); stroke-opacity: 1;\"/></g><g class=\"point\"><path d=\"M468,246V187.58H476.49V246Z\" style=\"vector-effect: non-scaling-stroke; opacity: 1; stroke-width: 0.5px; fill: rgb(99, 110, 250); fill-opacity: 1; stroke: rgb(17, 17, 17); stroke-opacity: 1;\"/></g><g class=\"point\"><path d=\"M478.61,246V187.58H487.1V246Z\" style=\"vector-effect: non-scaling-stroke; opacity: 1; stroke-width: 0.5px; fill: rgb(99, 110, 250); fill-opacity: 1; stroke: rgb(17, 17, 17); stroke-opacity: 1;\"/></g><g class=\"point\"><path d=\"M489.22,246V187.58H497.71V246Z\" style=\"vector-effect: non-scaling-stroke; opacity: 1; stroke-width: 0.5px; fill: rgb(99, 110, 250); fill-opacity: 1; stroke: rgb(17, 17, 17); stroke-opacity: 1;\"/></g><g class=\"point\"><path d=\"M499.84,246V187.58H508.33V246Z\" style=\"vector-effect: non-scaling-stroke; opacity: 1; stroke-width: 0.5px; fill: rgb(99, 110, 250); fill-opacity: 1; stroke: rgb(17, 17, 17); stroke-opacity: 1;\"/></g><g class=\"point\"><path d=\"M510.45,246V187.58H518.94V246Z\" style=\"vector-effect: non-scaling-stroke; opacity: 1; stroke-width: 0.5px; fill: rgb(99, 110, 250); fill-opacity: 1; stroke: rgb(17, 17, 17); stroke-opacity: 1;\"/></g><g class=\"point\"><path d=\"M521.06,246V187.58H529.55V246Z\" style=\"vector-effect: non-scaling-stroke; opacity: 1; stroke-width: 0.5px; fill: rgb(99, 110, 250); fill-opacity: 1; stroke: rgb(17, 17, 17); stroke-opacity: 1;\"/></g><g class=\"point\"><path d=\"M531.67,246V187.58H540.16V246Z\" style=\"vector-effect: non-scaling-stroke; opacity: 1; stroke-width: 0.5px; fill: rgb(99, 110, 250); fill-opacity: 1; stroke: rgb(17, 17, 17); stroke-opacity: 1;\"/></g><g class=\"point\"><path d=\"M542.29,246V187.58H550.78V246Z\" style=\"vector-effect: non-scaling-stroke; opacity: 1; stroke-width: 0.5px; fill: rgb(99, 110, 250); fill-opacity: 1; stroke: rgb(17, 17, 17); stroke-opacity: 1;\"/></g><g class=\"point\"><path d=\"M552.9,246V187.58H561.39V246Z\" style=\"vector-effect: non-scaling-stroke; opacity: 1; stroke-width: 0.5px; fill: rgb(99, 110, 250); fill-opacity: 1; stroke: rgb(17, 17, 17); stroke-opacity: 1;\"/></g><g class=\"point\"><path d=\"M563.51,246V187.58H572V246Z\" style=\"vector-effect: non-scaling-stroke; opacity: 1; stroke-width: 0.5px; fill: rgb(99, 110, 250); fill-opacity: 1; stroke: rgb(17, 17, 17); stroke-opacity: 1;\"/></g><g class=\"point\"><path d=\"M574.12,246V187.58H582.61V246Z\" style=\"vector-effect: non-scaling-stroke; opacity: 1; stroke-width: 0.5px; fill: rgb(99, 110, 250); fill-opacity: 1; stroke: rgb(17, 17, 17); stroke-opacity: 1;\"/></g><g class=\"point\"><path d=\"M584.73,246V187.58H593.22V246Z\" style=\"vector-effect: non-scaling-stroke; opacity: 1; stroke-width: 0.5px; fill: rgb(99, 110, 250); fill-opacity: 1; stroke: rgb(17, 17, 17); stroke-opacity: 1;\"/></g><g class=\"point\"><path d=\"M595.35,246V187.58H603.84V246Z\" style=\"vector-effect: non-scaling-stroke; opacity: 1; stroke-width: 0.5px; fill: rgb(99, 110, 250); fill-opacity: 1; stroke: rgb(17, 17, 17); stroke-opacity: 1;\"/></g><g class=\"point\"><path d=\"M605.96,246V187.58H614.45V246Z\" style=\"vector-effect: non-scaling-stroke; opacity: 1; stroke-width: 0.5px; fill: rgb(99, 110, 250); fill-opacity: 1; stroke: rgb(17, 17, 17); stroke-opacity: 1;\"/></g><g class=\"point\"><path d=\"M616.57,246V187.58H625.06V246Z\" style=\"vector-effect: non-scaling-stroke; opacity: 1; stroke-width: 0.5px; fill: rgb(99, 110, 250); fill-opacity: 1; stroke: rgb(17, 17, 17); stroke-opacity: 1;\"/></g><g class=\"point\"><path d=\"M627.18,246V187.58H635.67V246Z\" style=\"vector-effect: non-scaling-stroke; opacity: 1; stroke-width: 0.5px; fill: rgb(99, 110, 250); fill-opacity: 1; stroke: rgb(17, 17, 17); stroke-opacity: 1;\"/></g><g class=\"point\"><path d=\"M637.8,246V207.05H646.29V246Z\" style=\"vector-effect: non-scaling-stroke; opacity: 1; stroke-width: 0.5px; fill: rgb(99, 110, 250); fill-opacity: 1; stroke: rgb(17, 17, 17); stroke-opacity: 1;\"/></g><g class=\"point\"><path d=\"M648.41,246V207.05H656.9V246Z\" style=\"vector-effect: non-scaling-stroke; opacity: 1; stroke-width: 0.5px; fill: rgb(99, 110, 250); fill-opacity: 1; stroke: rgb(17, 17, 17); stroke-opacity: 1;\"/></g><g class=\"point\"><path d=\"M659.02,246V207.05H667.51V246Z\" style=\"vector-effect: non-scaling-stroke; opacity: 1; stroke-width: 0.5px; fill: rgb(99, 110, 250); fill-opacity: 1; stroke: rgb(17, 17, 17); stroke-opacity: 1;\"/></g><g class=\"point\"><path d=\"M669.63,246V207.05H678.12V246Z\" style=\"vector-effect: non-scaling-stroke; opacity: 1; stroke-width: 0.5px; fill: rgb(99, 110, 250); fill-opacity: 1; stroke: rgb(17, 17, 17); stroke-opacity: 1;\"/></g><g class=\"point\"><path d=\"M680.24,246V207.05H688.73V246Z\" style=\"vector-effect: non-scaling-stroke; opacity: 1; stroke-width: 0.5px; fill: rgb(99, 110, 250); fill-opacity: 1; stroke: rgb(17, 17, 17); stroke-opacity: 1;\"/></g><g class=\"point\"><path d=\"M690.86,246V207.05H699.35V246Z\" style=\"vector-effect: non-scaling-stroke; opacity: 1; stroke-width: 0.5px; fill: rgb(99, 110, 250); fill-opacity: 1; stroke: rgb(17, 17, 17); stroke-opacity: 1;\"/></g><g class=\"point\"><path d=\"M701.47,246V207.05H709.96V246Z\" style=\"vector-effect: non-scaling-stroke; opacity: 1; stroke-width: 0.5px; fill: rgb(99, 110, 250); fill-opacity: 1; stroke: rgb(17, 17, 17); stroke-opacity: 1;\"/></g><g class=\"point\"><path d=\"M712.08,246V207.05H720.57V246Z\" style=\"vector-effect: non-scaling-stroke; opacity: 1; stroke-width: 0.5px; fill: rgb(99, 110, 250); fill-opacity: 1; stroke: rgb(17, 17, 17); stroke-opacity: 1;\"/></g><g class=\"point\"><path d=\"M722.69,246V207.05H731.18V246Z\" style=\"vector-effect: non-scaling-stroke; opacity: 1; stroke-width: 0.5px; fill: rgb(99, 110, 250); fill-opacity: 1; stroke: rgb(17, 17, 17); stroke-opacity: 1;\"/></g><g class=\"point\"><path d=\"M733.31,246V207.05H741.8V246Z\" style=\"vector-effect: non-scaling-stroke; opacity: 1; stroke-width: 0.5px; fill: rgb(99, 110, 250); fill-opacity: 1; stroke: rgb(17, 17, 17); stroke-opacity: 1;\"/></g><g class=\"point\"><path d=\"M743.92,246V207.05H752.41V246Z\" style=\"vector-effect: non-scaling-stroke; opacity: 1; stroke-width: 0.5px; fill: rgb(99, 110, 250); fill-opacity: 1; stroke: rgb(17, 17, 17); stroke-opacity: 1;\"/></g><g class=\"point\"><path d=\"M754.53,246V207.05H763.02V246Z\" style=\"vector-effect: non-scaling-stroke; opacity: 1; stroke-width: 0.5px; fill: rgb(99, 110, 250); fill-opacity: 1; stroke: rgb(17, 17, 17); stroke-opacity: 1;\"/></g><g class=\"point\"><path d=\"M765.14,246V207.05H773.63V246Z\" style=\"vector-effect: non-scaling-stroke; opacity: 1; stroke-width: 0.5px; fill: rgb(99, 110, 250); fill-opacity: 1; stroke: rgb(17, 17, 17); stroke-opacity: 1;\"/></g><g class=\"point\"><path d=\"M775.76,246V207.05H784.24V246Z\" style=\"vector-effect: non-scaling-stroke; opacity: 1; stroke-width: 0.5px; fill: rgb(99, 110, 250); fill-opacity: 1; stroke: rgb(17, 17, 17); stroke-opacity: 1;\"/></g><g class=\"point\"><path d=\"M786.37,246V207.05H794.86V246Z\" style=\"vector-effect: non-scaling-stroke; opacity: 1; stroke-width: 0.5px; fill: rgb(99, 110, 250); fill-opacity: 1; stroke: rgb(17, 17, 17); stroke-opacity: 1;\"/></g><g class=\"point\"><path d=\"M796.98,246V207.05H805.47V246Z\" style=\"vector-effect: non-scaling-stroke; opacity: 1; stroke-width: 0.5px; fill: rgb(99, 110, 250); fill-opacity: 1; stroke: rgb(17, 17, 17); stroke-opacity: 1;\"/></g><g class=\"point\"><path d=\"M807.59,246V207.05H816.08V246Z\" style=\"vector-effect: non-scaling-stroke; opacity: 1; stroke-width: 0.5px; fill: rgb(99, 110, 250); fill-opacity: 1; stroke: rgb(17, 17, 17); stroke-opacity: 1;\"/></g><g class=\"point\"><path d=\"M818.2,246V207.05H826.69V246Z\" style=\"vector-effect: non-scaling-stroke; opacity: 1; stroke-width: 0.5px; fill: rgb(99, 110, 250); fill-opacity: 1; stroke: rgb(17, 17, 17); stroke-opacity: 1;\"/></g><g class=\"point\"><path d=\"M828.82,246V207.05H837.31V246Z\" style=\"vector-effect: non-scaling-stroke; opacity: 1; stroke-width: 0.5px; fill: rgb(99, 110, 250); fill-opacity: 1; stroke: rgb(17, 17, 17); stroke-opacity: 1;\"/></g><g class=\"point\"><path d=\"M839.43,246V207.05H847.92V246Z\" style=\"vector-effect: non-scaling-stroke; opacity: 1; stroke-width: 0.5px; fill: rgb(99, 110, 250); fill-opacity: 1; stroke: rgb(17, 17, 17); stroke-opacity: 1;\"/></g><g class=\"point\"><path d=\"M850.04,246V226.53H858.53V246Z\" style=\"vector-effect: non-scaling-stroke; opacity: 1; stroke-width: 0.5px; fill: rgb(99, 110, 250); fill-opacity: 1; stroke: rgb(17, 17, 17); stroke-opacity: 1;\"/></g><g class=\"point\"><path d=\"M860.65,246V226.53H869.14V246Z\" style=\"vector-effect: non-scaling-stroke; opacity: 1; stroke-width: 0.5px; fill: rgb(99, 110, 250); fill-opacity: 1; stroke: rgb(17, 17, 17); stroke-opacity: 1;\"/></g><g class=\"point\"><path d=\"M871.27,246V226.53H879.76V246Z\" style=\"vector-effect: non-scaling-stroke; opacity: 1; stroke-width: 0.5px; fill: rgb(99, 110, 250); fill-opacity: 1; stroke: rgb(17, 17, 17); stroke-opacity: 1;\"/></g><g class=\"point\"><path d=\"M881.88,246V226.53H890.37V246Z\" style=\"vector-effect: non-scaling-stroke; opacity: 1; stroke-width: 0.5px; fill: rgb(99, 110, 250); fill-opacity: 1; stroke: rgb(17, 17, 17); stroke-opacity: 1;\"/></g><g class=\"point\"><path d=\"M892.49,246V226.53H900.98V246Z\" style=\"vector-effect: non-scaling-stroke; opacity: 1; stroke-width: 0.5px; fill: rgb(99, 110, 250); fill-opacity: 1; stroke: rgb(17, 17, 17); stroke-opacity: 1;\"/></g><g class=\"point\"><path d=\"M903.1,246V226.53H911.59V246Z\" style=\"vector-effect: non-scaling-stroke; opacity: 1; stroke-width: 0.5px; fill: rgb(99, 110, 250); fill-opacity: 1; stroke: rgb(17, 17, 17); stroke-opacity: 1;\"/></g><g class=\"point\"><path d=\"M913.71,246V226.53H922.2V246Z\" style=\"vector-effect: non-scaling-stroke; opacity: 1; stroke-width: 0.5px; fill: rgb(99, 110, 250); fill-opacity: 1; stroke: rgb(17, 17, 17); stroke-opacity: 1;\"/></g><g class=\"point\"><path d=\"M924.33,246V226.53H932.82V246Z\" style=\"vector-effect: non-scaling-stroke; opacity: 1; stroke-width: 0.5px; fill: rgb(99, 110, 250); fill-opacity: 1; stroke: rgb(17, 17, 17); stroke-opacity: 1;\"/></g><g class=\"point\"><path d=\"M934.94,246V226.53H943.43V246Z\" style=\"vector-effect: non-scaling-stroke; opacity: 1; stroke-width: 0.5px; fill: rgb(99, 110, 250); fill-opacity: 1; stroke: rgb(17, 17, 17); stroke-opacity: 1;\"/></g><g class=\"point\"><path d=\"M945.55,246V226.53H954.04V246Z\" style=\"vector-effect: non-scaling-stroke; opacity: 1; stroke-width: 0.5px; fill: rgb(99, 110, 250); fill-opacity: 1; stroke: rgb(17, 17, 17); stroke-opacity: 1;\"/></g><g class=\"point\"><path d=\"M956.16,246V226.53H964.65V246Z\" style=\"vector-effect: non-scaling-stroke; opacity: 1; stroke-width: 0.5px; fill: rgb(99, 110, 250); fill-opacity: 1; stroke: rgb(17, 17, 17); stroke-opacity: 1;\"/></g><g class=\"point\"><path d=\"M966.78,246V226.53H975.27V246Z\" style=\"vector-effect: non-scaling-stroke; opacity: 1; stroke-width: 0.5px; fill: rgb(99, 110, 250); fill-opacity: 1; stroke: rgb(17, 17, 17); stroke-opacity: 1;\"/></g><g class=\"point\"><path d=\"M977.39,246V226.53H985.88V246Z\" style=\"vector-effect: non-scaling-stroke; opacity: 1; stroke-width: 0.5px; fill: rgb(99, 110, 250); fill-opacity: 1; stroke: rgb(17, 17, 17); stroke-opacity: 1;\"/></g><g class=\"point\"><path d=\"M988,246V226.53H996.49V246Z\" style=\"vector-effect: non-scaling-stroke; opacity: 1; stroke-width: 0.5px; fill: rgb(99, 110, 250); fill-opacity: 1; stroke: rgb(17, 17, 17); stroke-opacity: 1;\"/></g><g class=\"point\"><path d=\"M998.61,246V226.53H1007.1V246Z\" style=\"vector-effect: non-scaling-stroke; opacity: 1; stroke-width: 0.5px; fill: rgb(99, 110, 250); fill-opacity: 1; stroke: rgb(17, 17, 17); stroke-opacity: 1;\"/></g><g class=\"point\"><path d=\"M1009.22,246V226.53H1017.71V246Z\" style=\"vector-effect: non-scaling-stroke; opacity: 1; stroke-width: 0.5px; fill: rgb(99, 110, 250); fill-opacity: 1; stroke: rgb(17, 17, 17); stroke-opacity: 1;\"/></g><g class=\"point\"><path d=\"M1019.84,246V226.53H1028.33V246Z\" style=\"vector-effect: non-scaling-stroke; opacity: 1; stroke-width: 0.5px; fill: rgb(99, 110, 250); fill-opacity: 1; stroke: rgb(17, 17, 17); stroke-opacity: 1;\"/></g><g class=\"point\"><path d=\"M1030.45,246V226.53H1038.94V246Z\" style=\"vector-effect: non-scaling-stroke; opacity: 1; stroke-width: 0.5px; fill: rgb(99, 110, 250); fill-opacity: 1; stroke: rgb(17, 17, 17); stroke-opacity: 1;\"/></g></g></g></g></g><g class=\"overplot\"/><path class=\"xlines-above crisp\" d=\"M0,0\" style=\"fill: none;\"/><path class=\"ylines-above crisp\" d=\"M0,0\" style=\"fill: none;\"/><g class=\"overlines-above\"/><g class=\"xaxislayer-above\"><g class=\"xtick\"><text text-anchor=\"start\" x=\"0\" y=\"355\" transform=\"translate(85.31,0) rotate(90,0,351)\" style=\"font-family: 'Open Sans', verdana, arial, sans-serif; font-size: 8px; fill: rgb(242, 245, 250); fill-opacity: 1; white-space: pre; opacity: 1;\">Красноярск</text></g><g class=\"xtick\"><text text-anchor=\"start\" x=\"0\" y=\"355\" transform=\"translate(95.92,0) rotate(90,0,351)\" style=\"font-family: 'Open Sans', verdana, arial, sans-serif; font-size: 8px; fill: rgb(242, 245, 250); fill-opacity: 1; white-space: pre; opacity: 1;\">Екатеринбург</text></g><g class=\"xtick\"><text text-anchor=\"start\" x=\"0\" y=\"355\" transform=\"translate(106.53,0) rotate(90,0,351)\" style=\"font-family: 'Open Sans', verdana, arial, sans-serif; font-size: 8px; fill: rgb(242, 245, 250); fill-opacity: 1; white-space: pre; opacity: 1;\">Ростов-на-Дону</text></g><g class=\"xtick\"><text text-anchor=\"start\" x=\"0\" y=\"355\" transform=\"translate(117.14,0) rotate(90,0,351)\" style=\"font-family: 'Open Sans', verdana, arial, sans-serif; font-size: 8px; fill: rgb(242, 245, 250); fill-opacity: 1; white-space: pre; opacity: 1;\">Сочи</text></g><g class=\"xtick\"><text text-anchor=\"start\" x=\"0\" y=\"355\" transform=\"translate(127.75999999999999,0) rotate(90,0,351)\" style=\"font-family: 'Open Sans', verdana, arial, sans-serif; font-size: 8px; fill: rgb(242, 245, 250); fill-opacity: 1; white-space: pre; opacity: 1;\">Ульяновск</text></g><g class=\"xtick\"><text text-anchor=\"start\" x=\"0\" y=\"355\" transform=\"translate(138.37,0) rotate(90,0,351)\" style=\"font-family: 'Open Sans', verdana, arial, sans-serif; font-size: 8px; fill: rgb(242, 245, 250); fill-opacity: 1; white-space: pre; opacity: 1;\">Пермь</text></g><g class=\"xtick\"><text text-anchor=\"start\" x=\"0\" y=\"355\" transform=\"translate(148.98000000000002,0) rotate(90,0,351)\" style=\"font-family: 'Open Sans', verdana, arial, sans-serif; font-size: 8px; fill: rgb(242, 245, 250); fill-opacity: 1; white-space: pre; opacity: 1;\">Брянск</text></g><g class=\"xtick\"><text text-anchor=\"start\" x=\"0\" y=\"355\" transform=\"translate(159.59,0) rotate(90,0,351)\" style=\"font-family: 'Open Sans', verdana, arial, sans-serif; font-size: 8px; fill: rgb(242, 245, 250); fill-opacity: 1; white-space: pre; opacity: 1;\">Сургут</text></g><g class=\"xtick\"><text text-anchor=\"start\" x=\"0\" y=\"355\" transform=\"translate(170.2,0) rotate(90,0,351)\" style=\"font-family: 'Open Sans', verdana, arial, sans-serif; font-size: 8px; fill: rgb(242, 245, 250); fill-opacity: 1; white-space: pre; opacity: 1;\">Советский</text></g><g class=\"xtick\"><text text-anchor=\"start\" x=\"0\" y=\"355\" transform=\"translate(180.82,0) rotate(90,0,351)\" style=\"font-family: 'Open Sans', verdana, arial, sans-serif; font-size: 8px; fill: rgb(242, 245, 250); fill-opacity: 1; white-space: pre; opacity: 1;\">Казань</text></g><g class=\"xtick\"><text text-anchor=\"start\" x=\"0\" y=\"355\" transform=\"translate(191.43,0) rotate(90,0,351)\" style=\"font-family: 'Open Sans', verdana, arial, sans-serif; font-size: 8px; fill: rgb(242, 245, 250); fill-opacity: 1; white-space: pre; opacity: 1;\">Ханты-Мансийск</text></g><g class=\"xtick\"><text text-anchor=\"start\" x=\"0\" y=\"355\" transform=\"translate(202.04000000000002,0) rotate(90,0,351)\" style=\"font-family: 'Open Sans', verdana, arial, sans-serif; font-size: 8px; fill: rgb(242, 245, 250); fill-opacity: 1; white-space: pre; opacity: 1;\">Новый Уренгой</text></g><g class=\"xtick\"><text text-anchor=\"start\" x=\"0\" y=\"355\" transform=\"translate(212.65,0) rotate(90,0,351)\" style=\"font-family: 'Open Sans', verdana, arial, sans-serif; font-size: 8px; fill: rgb(242, 245, 250); fill-opacity: 1; white-space: pre; opacity: 1;\">Челябинск</text></g><g class=\"xtick\"><text text-anchor=\"start\" x=\"0\" y=\"355\" transform=\"translate(223.27,0) rotate(90,0,351)\" style=\"font-family: 'Open Sans', verdana, arial, sans-serif; font-size: 8px; fill: rgb(242, 245, 250); fill-opacity: 1; white-space: pre; opacity: 1;\">Тюмень</text></g><g class=\"xtick\"><text text-anchor=\"start\" x=\"0\" y=\"355\" transform=\"translate(233.88,0) rotate(90,0,351)\" style=\"font-family: 'Open Sans', verdana, arial, sans-serif; font-size: 8px; fill: rgb(242, 245, 250); fill-opacity: 1; white-space: pre; opacity: 1;\">Хабаровск</text></g><g class=\"xtick\"><text text-anchor=\"start\" x=\"0\" y=\"355\" transform=\"translate(244.49,0) rotate(90,0,351)\" style=\"font-family: 'Open Sans', verdana, arial, sans-serif; font-size: 8px; fill: rgb(242, 245, 250); fill-opacity: 1; white-space: pre; opacity: 1;\">Петрозаводск</text></g><g class=\"xtick\"><text text-anchor=\"start\" x=\"0\" y=\"355\" transform=\"translate(255.1,0) rotate(90,0,351)\" style=\"font-family: 'Open Sans', verdana, arial, sans-serif; font-size: 8px; fill: rgb(242, 245, 250); fill-opacity: 1; white-space: pre; opacity: 1;\">Иркутск</text></g><g class=\"xtick\"><text text-anchor=\"start\" x=\"0\" y=\"355\" transform=\"translate(265.71000000000004,0) rotate(90,0,351)\" style=\"font-family: 'Open Sans', verdana, arial, sans-serif; font-size: 8px; fill: rgb(242, 245, 250); fill-opacity: 1; white-space: pre; opacity: 1;\">Мирный</text></g><g class=\"xtick\"><text text-anchor=\"start\" x=\"0\" y=\"355\" transform=\"translate(276.33000000000004,0) rotate(90,0,351)\" style=\"font-family: 'Open Sans', verdana, arial, sans-serif; font-size: 8px; fill: rgb(242, 245, 250); fill-opacity: 1; white-space: pre; opacity: 1;\">Киров</text></g><g class=\"xtick\"><text text-anchor=\"start\" x=\"0\" y=\"355\" transform=\"translate(286.94,0) rotate(90,0,351)\" style=\"font-family: 'Open Sans', verdana, arial, sans-serif; font-size: 8px; fill: rgb(242, 245, 250); fill-opacity: 1; white-space: pre; opacity: 1;\">Новокузнецк</text></g><g class=\"xtick\"><text text-anchor=\"start\" x=\"0\" y=\"355\" transform=\"translate(297.55,0) rotate(90,0,351)\" style=\"font-family: 'Open Sans', verdana, arial, sans-serif; font-size: 8px; fill: rgb(242, 245, 250); fill-opacity: 1; white-space: pre; opacity: 1;\">Нижний Новгород</text></g><g class=\"xtick\"><text text-anchor=\"start\" x=\"0\" y=\"355\" transform=\"translate(308.15999999999997,0) rotate(90,0,351)\" style=\"font-family: 'Open Sans', verdana, arial, sans-serif; font-size: 8px; fill: rgb(242, 245, 250); fill-opacity: 1; white-space: pre; opacity: 1;\">Белгород</text></g><g class=\"xtick\"><text text-anchor=\"start\" x=\"0\" y=\"355\" transform=\"translate(318.78,0) rotate(90,0,351)\" style=\"font-family: 'Open Sans', verdana, arial, sans-serif; font-size: 8px; fill: rgb(242, 245, 250); fill-opacity: 1; white-space: pre; opacity: 1;\">Уфа</text></g><g class=\"xtick\"><text text-anchor=\"start\" x=\"0\" y=\"355\" transform=\"translate(329.39,0) rotate(90,0,351)\" style=\"font-family: 'Open Sans', verdana, arial, sans-serif; font-size: 8px; fill: rgb(242, 245, 250); fill-opacity: 1; white-space: pre; opacity: 1;\">Архангельск</text></g><g class=\"xtick\"><text text-anchor=\"start\" x=\"0\" y=\"355\" transform=\"translate(340,0) rotate(90,0,351)\" style=\"font-family: 'Open Sans', verdana, arial, sans-serif; font-size: 8px; fill: rgb(242, 245, 250); fill-opacity: 1; white-space: pre; opacity: 1;\">Элиста</text></g><g class=\"xtick\"><text text-anchor=\"start\" x=\"0\" y=\"355\" transform=\"translate(350.61,0) rotate(90,0,351)\" style=\"font-family: 'Open Sans', verdana, arial, sans-serif; font-size: 8px; fill: rgb(242, 245, 250); fill-opacity: 1; white-space: pre; opacity: 1;\">Оренбург</text></g><g class=\"xtick\"><text text-anchor=\"start\" x=\"0\" y=\"355\" transform=\"translate(361.22,0) rotate(90,0,351)\" style=\"font-family: 'Open Sans', verdana, arial, sans-serif; font-size: 8px; fill: rgb(242, 245, 250); fill-opacity: 1; white-space: pre; opacity: 1;\">Воркута</text></g><g class=\"xtick\"><text text-anchor=\"start\" x=\"0\" y=\"355\" transform=\"translate(371.84,0) rotate(90,0,351)\" style=\"font-family: 'Open Sans', verdana, arial, sans-serif; font-size: 8px; fill: rgb(242, 245, 250); fill-opacity: 1; white-space: pre; opacity: 1;\">Волгоград</text></g><g class=\"xtick\"><text text-anchor=\"start\" x=\"0\" y=\"355\" transform=\"translate(382.45,0) rotate(90,0,351)\" style=\"font-family: 'Open Sans', verdana, arial, sans-serif; font-size: 8px; fill: rgb(242, 245, 250); fill-opacity: 1; white-space: pre; opacity: 1;\">Чебоксары</text></g><g class=\"xtick\"><text text-anchor=\"start\" x=\"0\" y=\"355\" transform=\"translate(393.06,0) rotate(90,0,351)\" style=\"font-family: 'Open Sans', verdana, arial, sans-serif; font-size: 8px; fill: rgb(242, 245, 250); fill-opacity: 1; white-space: pre; opacity: 1;\">Йошкар-Ола</text></g><g class=\"xtick\"><text text-anchor=\"start\" x=\"0\" y=\"355\" transform=\"translate(403.67,0) rotate(90,0,351)\" style=\"font-family: 'Open Sans', verdana, arial, sans-serif; font-size: 8px; fill: rgb(242, 245, 250); fill-opacity: 1; white-space: pre; opacity: 1;\">Нижнекамск</text></g><g class=\"xtick\"><text text-anchor=\"start\" x=\"0\" y=\"355\" transform=\"translate(414.29,0) rotate(90,0,351)\" style=\"font-family: 'Open Sans', verdana, arial, sans-serif; font-size: 8px; fill: rgb(242, 245, 250); fill-opacity: 1; white-space: pre; opacity: 1;\">Южно-Сахалинск</text></g><g class=\"xtick\"><text text-anchor=\"start\" x=\"0\" y=\"355\" transform=\"translate(424.9,0) rotate(90,0,351)\" style=\"font-family: 'Open Sans', verdana, arial, sans-serif; font-size: 8px; fill: rgb(242, 245, 250); fill-opacity: 1; white-space: pre; opacity: 1;\">Пенза</text></g><g class=\"xtick\"><text text-anchor=\"start\" x=\"0\" y=\"355\" transform=\"translate(435.51,0) rotate(90,0,351)\" style=\"font-family: 'Open Sans', verdana, arial, sans-serif; font-size: 8px; fill: rgb(242, 245, 250); fill-opacity: 1; white-space: pre; opacity: 1;\">Магнитогорск</text></g><g class=\"xtick\"><text text-anchor=\"start\" x=\"0\" y=\"355\" transform=\"translate(446.12,0) rotate(90,0,351)\" style=\"font-family: 'Open Sans', verdana, arial, sans-serif; font-size: 8px; fill: rgb(242, 245, 250); fill-opacity: 1; white-space: pre; opacity: 1;\">Абакан</text></g><g class=\"xtick\"><text text-anchor=\"start\" x=\"0\" y=\"355\" transform=\"translate(456.73,0) rotate(90,0,351)\" style=\"font-family: 'Open Sans', verdana, arial, sans-serif; font-size: 8px; fill: rgb(242, 245, 250); fill-opacity: 1; white-space: pre; opacity: 1;\">Краснодар</text></g><g class=\"xtick\"><text text-anchor=\"start\" x=\"0\" y=\"355\" transform=\"translate(467.35,0) rotate(90,0,351)\" style=\"font-family: 'Open Sans', verdana, arial, sans-serif; font-size: 8px; fill: rgb(242, 245, 250); fill-opacity: 1; white-space: pre; opacity: 1;\">Саратов</text></g><g class=\"xtick\"><text text-anchor=\"start\" x=\"0\" y=\"355\" transform=\"translate(477.96,0) rotate(90,0,351)\" style=\"font-family: 'Open Sans', verdana, arial, sans-serif; font-size: 8px; fill: rgb(242, 245, 250); fill-opacity: 1; white-space: pre; opacity: 1;\">Томск</text></g><g class=\"xtick\"><text text-anchor=\"start\" x=\"0\" y=\"355\" transform=\"translate(488.57,0) rotate(90,0,351)\" style=\"font-family: 'Open Sans', verdana, arial, sans-serif; font-size: 8px; fill: rgb(242, 245, 250); fill-opacity: 1; white-space: pre; opacity: 1;\">Тамбов</text></g><g class=\"xtick\"><text text-anchor=\"start\" x=\"0\" y=\"355\" transform=\"translate(499.18,0) rotate(90,0,351)\" style=\"font-family: 'Open Sans', verdana, arial, sans-serif; font-size: 8px; fill: rgb(242, 245, 250); fill-opacity: 1; white-space: pre; opacity: 1;\">Сыктывкар</text></g><g class=\"xtick\"><text text-anchor=\"start\" x=\"0\" y=\"355\" transform=\"translate(509.8,0) rotate(90,0,351)\" style=\"font-family: 'Open Sans', verdana, arial, sans-serif; font-size: 8px; fill: rgb(242, 245, 250); fill-opacity: 1; white-space: pre; opacity: 1;\">Самара</text></g><g class=\"xtick\"><text text-anchor=\"start\" x=\"0\" y=\"355\" transform=\"translate(520.4100000000001,0) rotate(90,0,351)\" style=\"font-family: 'Open Sans', verdana, arial, sans-serif; font-size: 8px; fill: rgb(242, 245, 250); fill-opacity: 1; white-space: pre; opacity: 1;\">Усть-Илимск</text></g><g class=\"xtick\"><text text-anchor=\"start\" x=\"0\" y=\"355\" transform=\"translate(531.02,0) rotate(90,0,351)\" style=\"font-family: 'Open Sans', verdana, arial, sans-serif; font-size: 8px; fill: rgb(242, 245, 250); fill-opacity: 1; white-space: pre; opacity: 1;\">Удачный</text></g><g class=\"xtick\"><text text-anchor=\"start\" x=\"0\" y=\"355\" transform=\"translate(541.63,0) rotate(90,0,351)\" style=\"font-family: 'Open Sans', verdana, arial, sans-serif; font-size: 8px; fill: rgb(242, 245, 250); fill-opacity: 1; white-space: pre; opacity: 1;\">Омск</text></g><g class=\"xtick\"><text text-anchor=\"start\" x=\"0\" y=\"355\" transform=\"translate(552.24,0) rotate(90,0,351)\" style=\"font-family: 'Open Sans', verdana, arial, sans-serif; font-size: 8px; fill: rgb(242, 245, 250); fill-opacity: 1; white-space: pre; opacity: 1;\">Ноябрьск</text></g><g class=\"xtick\"><text text-anchor=\"start\" x=\"0\" y=\"355\" transform=\"translate(562.86,0) rotate(90,0,351)\" style=\"font-family: 'Open Sans', verdana, arial, sans-serif; font-size: 8px; fill: rgb(242, 245, 250); fill-opacity: 1; white-space: pre; opacity: 1;\">Якутск</text></g><g class=\"xtick\"><text text-anchor=\"start\" x=\"0\" y=\"355\" transform=\"translate(573.47,0) rotate(90,0,351)\" style=\"font-family: 'Open Sans', verdana, arial, sans-serif; font-size: 8px; fill: rgb(242, 245, 250); fill-opacity: 1; white-space: pre; opacity: 1;\">Ухта</text></g><g class=\"xtick\"><text text-anchor=\"start\" x=\"0\" y=\"355\" transform=\"translate(584.0799999999999,0) rotate(90,0,351)\" style=\"font-family: 'Open Sans', verdana, arial, sans-serif; font-size: 8px; fill: rgb(242, 245, 250); fill-opacity: 1; white-space: pre; opacity: 1;\">Нижневартовск</text></g><g class=\"xtick\"><text text-anchor=\"start\" x=\"0\" y=\"355\" transform=\"translate(594.69,0) rotate(90,0,351)\" style=\"font-family: 'Open Sans', verdana, arial, sans-serif; font-size: 8px; fill: rgb(242, 245, 250); fill-opacity: 1; white-space: pre; opacity: 1;\">Минеральные Воды</text></g><g class=\"xtick\"><text text-anchor=\"start\" x=\"0\" y=\"355\" transform=\"translate(605.31,0) rotate(90,0,351)\" style=\"font-family: 'Open Sans', verdana, arial, sans-serif; font-size: 8px; fill: rgb(242, 245, 250); fill-opacity: 1; white-space: pre; opacity: 1;\">Нерюнгри</text></g><g class=\"xtick\"><text text-anchor=\"start\" x=\"0\" y=\"355\" transform=\"translate(615.92,0) rotate(90,0,351)\" style=\"font-family: 'Open Sans', verdana, arial, sans-serif; font-size: 8px; fill: rgb(242, 245, 250); fill-opacity: 1; white-space: pre; opacity: 1;\">Нарьян-Мар</text></g><g class=\"xtick\"><text text-anchor=\"start\" x=\"0\" y=\"355\" transform=\"translate(626.53,0) rotate(90,0,351)\" style=\"font-family: 'Open Sans', verdana, arial, sans-serif; font-size: 8px; fill: rgb(242, 245, 250); fill-opacity: 1; white-space: pre; opacity: 1;\">Нальчик</text></g><g class=\"xtick\"><text text-anchor=\"start\" x=\"0\" y=\"355\" transform=\"translate(637.14,0) rotate(90,0,351)\" style=\"font-family: 'Open Sans', verdana, arial, sans-serif; font-size: 8px; fill: rgb(242, 245, 250); fill-opacity: 1; white-space: pre; opacity: 1;\">Владивосток</text></g><g class=\"xtick\"><text text-anchor=\"start\" x=\"0\" y=\"355\" transform=\"translate(647.76,0) rotate(90,0,351)\" style=\"font-family: 'Open Sans', verdana, arial, sans-serif; font-size: 8px; fill: rgb(242, 245, 250); fill-opacity: 1; white-space: pre; opacity: 1;\">Бугульма</text></g><g class=\"xtick\"><text text-anchor=\"start\" x=\"0\" y=\"355\" transform=\"translate(658.37,0) rotate(90,0,351)\" style=\"font-family: 'Open Sans', verdana, arial, sans-serif; font-size: 8px; fill: rgb(242, 245, 250); fill-opacity: 1; white-space: pre; opacity: 1;\">Геленджик</text></g><g class=\"xtick\"><text text-anchor=\"start\" x=\"0\" y=\"355\" transform=\"translate(668.98,0) rotate(90,0,351)\" style=\"font-family: 'Open Sans', verdana, arial, sans-serif; font-size: 8px; fill: rgb(242, 245, 250); fill-opacity: 1; white-space: pre; opacity: 1;\">Калининград</text></g><g class=\"xtick\"><text text-anchor=\"start\" x=\"0\" y=\"355\" transform=\"translate(679.59,0) rotate(90,0,351)\" style=\"font-family: 'Open Sans', verdana, arial, sans-serif; font-size: 8px; fill: rgb(242, 245, 250); fill-opacity: 1; white-space: pre; opacity: 1;\">Курган</text></g><g class=\"xtick\"><text text-anchor=\"start\" x=\"0\" y=\"355\" transform=\"translate(690.2,0) rotate(90,0,351)\" style=\"font-family: 'Open Sans', verdana, arial, sans-serif; font-size: 8px; fill: rgb(242, 245, 250); fill-opacity: 1; white-space: pre; opacity: 1;\">Махачкала</text></g><g class=\"xtick\"><text text-anchor=\"start\" x=\"0\" y=\"355\" transform=\"translate(700.82,0) rotate(90,0,351)\" style=\"font-family: 'Open Sans', verdana, arial, sans-serif; font-size: 8px; fill: rgb(242, 245, 250); fill-opacity: 1; white-space: pre; opacity: 1;\">Когалым</text></g><g class=\"xtick\"><text text-anchor=\"start\" x=\"0\" y=\"355\" transform=\"translate(711.43,0) rotate(90,0,351)\" style=\"font-family: 'Open Sans', verdana, arial, sans-serif; font-size: 8px; fill: rgb(242, 245, 250); fill-opacity: 1; white-space: pre; opacity: 1;\">Барнаул</text></g><g class=\"xtick\"><text text-anchor=\"start\" x=\"0\" y=\"355\" transform=\"translate(722.04,0) rotate(90,0,351)\" style=\"font-family: 'Open Sans', verdana, arial, sans-serif; font-size: 8px; fill: rgb(242, 245, 250); fill-opacity: 1; white-space: pre; opacity: 1;\">Кемерово</text></g><g class=\"xtick\"><text text-anchor=\"start\" x=\"0\" y=\"355\" transform=\"translate(732.65,0) rotate(90,0,351)\" style=\"font-family: 'Open Sans', verdana, arial, sans-serif; font-size: 8px; fill: rgb(242, 245, 250); fill-opacity: 1; white-space: pre; opacity: 1;\">Белоярский</text></g><g class=\"xtick\"><text text-anchor=\"start\" x=\"0\" y=\"355\" transform=\"translate(743.27,0) rotate(90,0,351)\" style=\"font-family: 'Open Sans', verdana, arial, sans-serif; font-size: 8px; fill: rgb(242, 245, 250); fill-opacity: 1; white-space: pre; opacity: 1;\">Курск</text></g><g class=\"xtick\"><text text-anchor=\"start\" x=\"0\" y=\"355\" transform=\"translate(753.88,0) rotate(90,0,351)\" style=\"font-family: 'Open Sans', verdana, arial, sans-serif; font-size: 8px; fill: rgb(242, 245, 250); fill-opacity: 1; white-space: pre; opacity: 1;\">Ставрополь</text></g><g class=\"xtick\"><text text-anchor=\"start\" x=\"0\" y=\"355\" transform=\"translate(764.49,0) rotate(90,0,351)\" style=\"font-family: 'Open Sans', verdana, arial, sans-serif; font-size: 8px; fill: rgb(242, 245, 250); fill-opacity: 1; white-space: pre; opacity: 1;\">Урай</text></g><g class=\"xtick\"><text text-anchor=\"start\" x=\"0\" y=\"355\" transform=\"translate(775.1,0) rotate(90,0,351)\" style=\"font-family: 'Open Sans', verdana, arial, sans-serif; font-size: 8px; fill: rgb(242, 245, 250); fill-opacity: 1; white-space: pre; opacity: 1;\">Калуга</text></g><g class=\"xtick\"><text text-anchor=\"start\" x=\"0\" y=\"355\" transform=\"translate(785.71,0) rotate(90,0,351)\" style=\"font-family: 'Open Sans', verdana, arial, sans-serif; font-size: 8px; fill: rgb(242, 245, 250); fill-opacity: 1; white-space: pre; opacity: 1;\">Саранск</text></g><g class=\"xtick\"><text text-anchor=\"start\" x=\"0\" y=\"355\" transform=\"translate(796.33,0) rotate(90,0,351)\" style=\"font-family: 'Open Sans', verdana, arial, sans-serif; font-size: 8px; fill: rgb(242, 245, 250); fill-opacity: 1; white-space: pre; opacity: 1;\">Череповец</text></g><g class=\"xtick\"><text text-anchor=\"start\" x=\"0\" y=\"355\" transform=\"translate(806.94,0) rotate(90,0,351)\" style=\"font-family: 'Open Sans', verdana, arial, sans-serif; font-size: 8px; fill: rgb(242, 245, 250); fill-opacity: 1; white-space: pre; opacity: 1;\">Воронеж</text></g><g class=\"xtick\"><text text-anchor=\"start\" x=\"0\" y=\"355\" transform=\"translate(817.55,0) rotate(90,0,351)\" style=\"font-family: 'Open Sans', verdana, arial, sans-serif; font-size: 8px; fill: rgb(242, 245, 250); fill-opacity: 1; white-space: pre; opacity: 1;\">Салехард</text></g><g class=\"xtick\"><text text-anchor=\"start\" x=\"0\" y=\"355\" transform=\"translate(828.16,0) rotate(90,0,351)\" style=\"font-family: 'Open Sans', verdana, arial, sans-serif; font-size: 8px; fill: rgb(242, 245, 250); fill-opacity: 1; white-space: pre; opacity: 1;\">Улан-Удэ</text></g><g class=\"xtick\"><text text-anchor=\"start\" x=\"0\" y=\"355\" transform=\"translate(838.78,0) rotate(90,0,351)\" style=\"font-family: 'Open Sans', verdana, arial, sans-serif; font-size: 8px; fill: rgb(242, 245, 250); fill-opacity: 1; white-space: pre; opacity: 1;\">Псков</text></g><g class=\"xtick\"><text text-anchor=\"start\" x=\"0\" y=\"355\" transform=\"translate(849.39,0) rotate(90,0,351)\" style=\"font-family: 'Open Sans', verdana, arial, sans-serif; font-size: 8px; fill: rgb(242, 245, 250); fill-opacity: 1; white-space: pre; opacity: 1;\">Чита</text></g><g class=\"xtick\"><text text-anchor=\"start\" x=\"0\" y=\"355\" transform=\"translate(860,0) rotate(90,0,351)\" style=\"font-family: 'Open Sans', verdana, arial, sans-serif; font-size: 8px; fill: rgb(242, 245, 250); fill-opacity: 1; white-space: pre; opacity: 1;\">Астрахань</text></g><g class=\"xtick\"><text text-anchor=\"start\" x=\"0\" y=\"355\" transform=\"translate(870.61,0) rotate(90,0,351)\" style=\"font-family: 'Open Sans', verdana, arial, sans-serif; font-size: 8px; fill: rgb(242, 245, 250); fill-opacity: 1; white-space: pre; opacity: 1;\">Орск</text></g><g class=\"xtick\"><text text-anchor=\"start\" x=\"0\" y=\"355\" transform=\"translate(881.22,0) rotate(90,0,351)\" style=\"font-family: 'Open Sans', verdana, arial, sans-serif; font-size: 8px; fill: rgb(242, 245, 250); fill-opacity: 1; white-space: pre; opacity: 1;\">Мурманск</text></g><g class=\"xtick\"><text text-anchor=\"start\" x=\"0\" y=\"355\" transform=\"translate(891.84,0) rotate(90,0,351)\" style=\"font-family: 'Open Sans', verdana, arial, sans-serif; font-size: 8px; fill: rgb(242, 245, 250); fill-opacity: 1; white-space: pre; opacity: 1;\">Анапа</text></g><g class=\"xtick\"><text text-anchor=\"start\" x=\"0\" y=\"355\" transform=\"translate(902.45,0) rotate(90,0,351)\" style=\"font-family: 'Open Sans', verdana, arial, sans-serif; font-size: 8px; fill: rgb(242, 245, 250); fill-opacity: 1; white-space: pre; opacity: 1;\">Надым</text></g><g class=\"xtick\"><text text-anchor=\"start\" x=\"0\" y=\"355\" transform=\"translate(913.06,0) rotate(90,0,351)\" style=\"font-family: 'Open Sans', verdana, arial, sans-serif; font-size: 8px; fill: rgb(242, 245, 250); fill-opacity: 1; white-space: pre; opacity: 1;\">Норильск</text></g><g class=\"xtick\"><text text-anchor=\"start\" x=\"0\" y=\"355\" transform=\"translate(923.67,0) rotate(90,0,351)\" style=\"font-family: 'Open Sans', verdana, arial, sans-serif; font-size: 8px; fill: rgb(242, 245, 250); fill-opacity: 1; white-space: pre; opacity: 1;\">Владикавказ</text></g><g class=\"xtick\"><text text-anchor=\"start\" x=\"0\" y=\"355\" transform=\"translate(934.29,0) rotate(90,0,351)\" style=\"font-family: 'Open Sans', verdana, arial, sans-serif; font-size: 8px; fill: rgb(242, 245, 250); fill-opacity: 1; white-space: pre; opacity: 1;\">Анадырь</text></g><g class=\"xtick\"><text text-anchor=\"start\" x=\"0\" y=\"355\" transform=\"translate(944.9,0) rotate(90,0,351)\" style=\"font-family: 'Open Sans', verdana, arial, sans-serif; font-size: 8px; fill: rgb(242, 245, 250); fill-opacity: 1; white-space: pre; opacity: 1;\">Братск</text></g><g class=\"xtick\"><text text-anchor=\"start\" x=\"0\" y=\"355\" transform=\"translate(955.51,0) rotate(90,0,351)\" style=\"font-family: 'Open Sans', verdana, arial, sans-serif; font-size: 8px; fill: rgb(242, 245, 250); fill-opacity: 1; white-space: pre; opacity: 1;\">Благовещенск</text></g><g class=\"xtick\"><text text-anchor=\"start\" x=\"0\" y=\"355\" transform=\"translate(966.12,0) rotate(90,0,351)\" style=\"font-family: 'Open Sans', verdana, arial, sans-serif; font-size: 8px; fill: rgb(242, 245, 250); fill-opacity: 1; white-space: pre; opacity: 1;\">Усть-Кут</text></g><g class=\"xtick\"><text text-anchor=\"start\" x=\"0\" y=\"355\" transform=\"translate(976.73,0) rotate(90,0,351)\" style=\"font-family: 'Open Sans', verdana, arial, sans-serif; font-size: 8px; fill: rgb(242, 245, 250); fill-opacity: 1; white-space: pre; opacity: 1;\">Стрежевой</text></g><g class=\"xtick\"><text text-anchor=\"start\" x=\"0\" y=\"355\" transform=\"translate(987.35,0) rotate(90,0,351)\" style=\"font-family: 'Open Sans', verdana, arial, sans-serif; font-size: 8px; fill: rgb(242, 245, 250); fill-opacity: 1; white-space: pre; opacity: 1;\">Усинск</text></g><g class=\"xtick\"><text text-anchor=\"start\" x=\"0\" y=\"355\" transform=\"translate(997.96,0) rotate(90,0,351)\" style=\"font-family: 'Open Sans', verdana, arial, sans-serif; font-size: 8px; fill: rgb(242, 245, 250); fill-opacity: 1; white-space: pre; opacity: 1;\">Горно-Алтайск</text></g><g class=\"xtick\"><text text-anchor=\"start\" x=\"0\" y=\"355\" transform=\"translate(1008.57,0) rotate(90,0,351)\" style=\"font-family: 'Open Sans', verdana, arial, sans-serif; font-size: 8px; fill: rgb(242, 245, 250); fill-opacity: 1; white-space: pre; opacity: 1;\">Грозный</text></g><g class=\"xtick\"><text text-anchor=\"start\" x=\"0\" y=\"355\" transform=\"translate(1019.18,0) rotate(90,0,351)\" style=\"font-family: 'Open Sans', verdana, arial, sans-serif; font-size: 8px; fill: rgb(242, 245, 250); fill-opacity: 1; white-space: pre; opacity: 1;\">Иваново</text></g><g class=\"xtick\"><text text-anchor=\"start\" x=\"0\" y=\"355\" transform=\"translate(1029.8,0) rotate(90,0,351)\" style=\"font-family: 'Open Sans', verdana, arial, sans-serif; font-size: 8px; fill: rgb(242, 245, 250); fill-opacity: 1; white-space: pre; opacity: 1;\">Ижевск</text></g><g class=\"xtick\"><text text-anchor=\"start\" x=\"0\" y=\"355\" transform=\"translate(1040.4099999999999,0) rotate(90,0,351)\" style=\"font-family: 'Open Sans', verdana, arial, sans-serif; font-size: 8px; fill: rgb(242, 245, 250); fill-opacity: 1; white-space: pre; opacity: 1;\">Нефтеюганск</text></g><g class=\"xtick\"><text text-anchor=\"start\" x=\"0\" y=\"355\" transform=\"translate(1051.02,0) rotate(90,0,351)\" style=\"font-family: 'Open Sans', verdana, arial, sans-serif; font-size: 8px; fill: rgb(242, 245, 250); fill-opacity: 1; white-space: pre; opacity: 1;\">Комсомольск-на-Амуре</text></g><g class=\"xtick\"><text text-anchor=\"start\" x=\"0\" y=\"355\" transform=\"translate(1061.63,0) rotate(90,0,351)\" style=\"font-family: 'Open Sans', verdana, arial, sans-serif; font-size: 8px; fill: rgb(242, 245, 250); fill-opacity: 1; white-space: pre; opacity: 1;\">Кызыл</text></g><g class=\"xtick\"><text text-anchor=\"start\" x=\"0\" y=\"355\" transform=\"translate(1072.24,0) rotate(90,0,351)\" style=\"font-family: 'Open Sans', verdana, arial, sans-serif; font-size: 8px; fill: rgb(242, 245, 250); fill-opacity: 1; white-space: pre; opacity: 1;\">Петропавловск-Камчатский</text></g><g class=\"xtick\"><text text-anchor=\"start\" x=\"0\" y=\"355\" transform=\"translate(1082.8600000000001,0) rotate(90,0,351)\" style=\"font-family: 'Open Sans', verdana, arial, sans-serif; font-size: 8px; fill: rgb(242, 245, 250); fill-opacity: 1; white-space: pre; opacity: 1;\">Липецк</text></g><g class=\"xtick\"><text text-anchor=\"start\" x=\"0\" y=\"355\" transform=\"translate(1093.47,0) rotate(90,0,351)\" style=\"font-family: 'Open Sans', verdana, arial, sans-serif; font-size: 8px; fill: rgb(242, 245, 250); fill-opacity: 1; white-space: pre; opacity: 1;\">Магадан</text></g><g class=\"xtick\"><text text-anchor=\"start\" x=\"0\" y=\"355\" transform=\"translate(1104.08,0) rotate(90,0,351)\" style=\"font-family: 'Open Sans', verdana, arial, sans-serif; font-size: 8px; fill: rgb(242, 245, 250); fill-opacity: 1; white-space: pre; opacity: 1;\">Нягань</text></g><g class=\"xtick\"><text text-anchor=\"start\" x=\"0\" y=\"355\" transform=\"translate(1114.69,0) rotate(90,0,351)\" style=\"font-family: 'Open Sans', verdana, arial, sans-serif; font-size: 8px; fill: rgb(242, 245, 250); fill-opacity: 1; white-space: pre; opacity: 1;\">Ярославль</text></g></g><g class=\"yaxislayer-above\"><g class=\"ytick\"><text text-anchor=\"end\" x=\"79\" y=\"2.8\" transform=\"translate(0,346)\" style=\"font-family: 'Open Sans', verdana, arial, sans-serif; font-size: 8px; fill: rgb(242, 245, 250); fill-opacity: 1; white-space: pre; opacity: 1;\">0</text></g><g class=\"ytick\"><text text-anchor=\"end\" x=\"79\" y=\"2.8\" style=\"font-family: 'Open Sans', verdana, arial, sans-serif; font-size: 8px; fill: rgb(242, 245, 250); fill-opacity: 1; white-space: pre; opacity: 1;\" transform=\"translate(0,307.05)\">2</text></g><g class=\"ytick\"><text text-anchor=\"end\" x=\"79\" y=\"2.8\" style=\"font-family: 'Open Sans', verdana, arial, sans-serif; font-size: 8px; fill: rgb(242, 245, 250); fill-opacity: 1; white-space: pre; opacity: 1;\" transform=\"translate(0,268.1)\">4</text></g><g class=\"ytick\"><text text-anchor=\"end\" x=\"79\" y=\"2.8\" style=\"font-family: 'Open Sans', verdana, arial, sans-serif; font-size: 8px; fill: rgb(242, 245, 250); fill-opacity: 1; white-space: pre; opacity: 1;\" transform=\"translate(0,229.15)\">6</text></g><g class=\"ytick\"><text text-anchor=\"end\" x=\"79\" y=\"2.8\" style=\"font-family: 'Open Sans', verdana, arial, sans-serif; font-size: 8px; fill: rgb(242, 245, 250); fill-opacity: 1; white-space: pre; opacity: 1;\" transform=\"translate(0,190.2)\">8</text></g><g class=\"ytick\"><text text-anchor=\"end\" x=\"79\" y=\"2.8\" style=\"font-family: 'Open Sans', verdana, arial, sans-serif; font-size: 8px; fill: rgb(242, 245, 250); fill-opacity: 1; white-space: pre; opacity: 1;\" transform=\"translate(0,151.25)\">10</text></g><g class=\"ytick\"><text text-anchor=\"end\" x=\"79\" y=\"2.8\" style=\"font-family: 'Open Sans', verdana, arial, sans-serif; font-size: 8px; fill: rgb(242, 245, 250); fill-opacity: 1; white-space: pre; opacity: 1;\" transform=\"translate(0,112.3)\">12</text></g></g><g class=\"overaxes-above\"/></g></g><g class=\"polarlayer\"/><g class=\"smithlayer\"/><g class=\"ternarylayer\"/><g class=\"geolayer\"/><g class=\"funnelarealayer\"/><g class=\"pielayer\"/><g class=\"iciclelayer\"/><g class=\"treemaplayer\"/><g class=\"sunburstlayer\"/><g class=\"glimages\"/><defs id=\"topdefs-9473a6\"><g class=\"clips\"/></defs><g class=\"layer-above\"><g class=\"imagelayer\"/><g class=\"shapelayer\"/></g><g class=\"infolayer\"><g class=\"g-gtitle\"><text class=\"gtitle\" x=\"60\" y=\"50\" text-anchor=\"start\" dy=\"0em\" style=\"font-family: 'Open Sans', verdana, arial, sans-serif; font-size: 16px; fill: rgb(242, 245, 250); opacity: 1; font-weight: normal; white-space: pre;\">Города и количество прибывающих в них рейсов в день за август 2018</text></g><g class=\"g-xtitle\"><text class=\"xtitle\" x=\"600\" y=\"488.25\" text-anchor=\"middle\" style=\"font-family: 'Open Sans', verdana, arial, sans-serif; font-size: 10px; fill: rgb(242, 245, 250); opacity: 1; font-weight: normal; white-space: pre;\">Город</text></g><g class=\"g-ytitle\"><text class=\"ytitle\" transform=\"rotate(-90,46.828125,223)\" x=\"46.828125\" y=\"223\" text-anchor=\"middle\" style=\"font-family: 'Open Sans', verdana, arial, sans-serif; font-size: 10px; fill: rgb(242, 245, 250); opacity: 1; font-weight: normal; white-space: pre;\">Среднее кол-во рейсов</text></g></g></svg>"
      ]
     },
     "metadata": {},
     "output_type": "display_data"
    }
   ],
   "source": [
    "fig = px.bar(df_city_flight.sort_values(by='average_flights', ascending=False).tail(98),\n",
    "             y='average_flights',\n",
    "             x='city',\n",
    "             title='Города и количество прибывающих в них рейсов в день за август 2018',\n",
    "             labels={'city':'Город', 'average_flights':'Среднее кол-во рейсов'},\n",
    "             template = 'plotly_dark')\n",
    "\n",
    "fig.update_layout(\n",
    "    font_size=8,\n",
    "    title_font_size=16,\n",
    "    width=1200,\n",
    "    height=500\n",
    ")\n",
    "\n",
    "fig.show()"
   ]
  },
  {
   "cell_type": "markdown",
   "metadata": {},
   "source": [
    "Сгруппируем по количеству рейсов и посмотрим по каждому - количество городов (в которые прилетает столько-то самолетов)."
   ]
  },
  {
   "cell_type": "code",
   "execution_count": 13,
   "metadata": {},
   "outputs": [
    {
     "data": {
      "image/svg+xml": [
       "<svg class=\"main-svg\" xmlns=\"http://www.w3.org/2000/svg\" xmlns:xlink=\"http://www.w3.org/1999/xlink\" width=\"750\" height=\"500\" style=\"\" viewBox=\"0 0 750 500\"><rect x=\"0\" y=\"0\" width=\"750\" height=\"500\" style=\"fill: rgb(17, 17, 17); fill-opacity: 1;\"/><defs id=\"defs-9343eb\"><g class=\"clips\"><clipPath id=\"clip9343ebxyplot\" class=\"plotclip\"><rect width=\"590\" height=\"320\"/></clipPath><clipPath class=\"axesclip\" id=\"clip9343ebx\"><rect x=\"80\" y=\"0\" width=\"590\" height=\"500\"/></clipPath><clipPath class=\"axesclip\" id=\"clip9343eby\"><rect x=\"0\" y=\"100\" width=\"750\" height=\"320\"/></clipPath><clipPath class=\"axesclip\" id=\"clip9343ebxy\"><rect x=\"80\" y=\"100\" width=\"590\" height=\"320\"/></clipPath></g><g class=\"gradients\"/><g class=\"patterns\"/></defs><g class=\"bglayer\"/><g class=\"layer-below\"><g class=\"imagelayer\"/><g class=\"shapelayer\"/></g><g class=\"cartesianlayer\"><g class=\"subplot xy\"><g class=\"layer-subplot\"><g class=\"shapelayer\"/><g class=\"imagelayer\"/></g><g class=\"gridlayer\"><g class=\"x\"/><g class=\"y\"><path class=\"ygrid crisp\" transform=\"translate(0,344)\" d=\"M80,0h590\" style=\"stroke: rgb(40, 52, 66); stroke-opacity: 1; stroke-width: 1px;\"/><path class=\"ygrid crisp\" transform=\"translate(0,268)\" d=\"M80,0h590\" style=\"stroke: rgb(40, 52, 66); stroke-opacity: 1; stroke-width: 1px;\"/><path class=\"ygrid crisp\" transform=\"translate(0,192)\" d=\"M80,0h590\" style=\"stroke: rgb(40, 52, 66); stroke-opacity: 1; stroke-width: 1px;\"/><path class=\"ygrid crisp\" transform=\"translate(0,116)\" d=\"M80,0h590\" style=\"stroke: rgb(40, 52, 66); stroke-opacity: 1; stroke-width: 1px;\"/></g></g><g class=\"zerolinelayer\"><path class=\"yzl zl crisp\" transform=\"translate(0,420)\" d=\"M80,0h590\" style=\"stroke: rgb(40, 52, 66); stroke-opacity: 1; stroke-width: 2px;\"/></g><path class=\"xlines-below\"/><path class=\"ylines-below\"/><g class=\"overlines-below\"/><g class=\"xaxislayer-below\"/><g class=\"yaxislayer-below\"/><g class=\"overaxes-below\"/><g class=\"plot\" transform=\"translate(80,100)\" clip-path=\"url(#clip9343ebxyplot)\"><g class=\"barlayer mlayer\"><g class=\"trace bars\" style=\"opacity: 1;\"><g class=\"points\"><g class=\"point\"><path d=\"M0.45,320V46.4H4.08V320Z\" style=\"vector-effect: non-scaling-stroke; opacity: 1; stroke-width: 0.5px; fill: rgb(99, 110, 250); fill-opacity: 1; stroke: rgb(17, 17, 17); stroke-opacity: 1;\"/></g><g class=\"point\"><path d=\"M4.99,320V16H8.62V320Z\" style=\"vector-effect: non-scaling-stroke; opacity: 1; stroke-width: 0.5px; fill: rgb(99, 110, 250); fill-opacity: 1; stroke: rgb(17, 17, 17); stroke-opacity: 1;\"/></g><g class=\"point\"><path d=\"M9.53,320V16H13.16V320Z\" style=\"vector-effect: non-scaling-stroke; opacity: 1; stroke-width: 0.5px; fill: rgb(99, 110, 250); fill-opacity: 1; stroke: rgb(17, 17, 17); stroke-opacity: 1;\"/></g><g class=\"point\"><path d=\"M14.07,320V152.8H17.7V320Z\" style=\"vector-effect: non-scaling-stroke; opacity: 1; stroke-width: 0.5px; fill: rgb(99, 110, 250); fill-opacity: 1; stroke: rgb(17, 17, 17); stroke-opacity: 1;\"/></g><g class=\"point\"><path d=\"M18.61,320V228.8H22.24V320Z\" style=\"vector-effect: non-scaling-stroke; opacity: 1; stroke-width: 0.5px; fill: rgb(99, 110, 250); fill-opacity: 1; stroke: rgb(17, 17, 17); stroke-opacity: 1;\"/></g><g class=\"point\"><path d=\"M23.15,320V198.4H26.78V320Z\" style=\"vector-effect: non-scaling-stroke; opacity: 1; stroke-width: 0.5px; fill: rgb(99, 110, 250); fill-opacity: 1; stroke: rgb(17, 17, 17); stroke-opacity: 1;\"/></g><g class=\"point\"><path d=\"M27.68,320V274.4H31.32V320Z\" style=\"vector-effect: non-scaling-stroke; opacity: 1; stroke-width: 0.5px; fill: rgb(99, 110, 250); fill-opacity: 1; stroke: rgb(17, 17, 17); stroke-opacity: 1;\"/></g><g class=\"point\"><path d=\"M32.22,320V274.4H35.85V320Z\" style=\"vector-effect: non-scaling-stroke; opacity: 1; stroke-width: 0.5px; fill: rgb(99, 110, 250); fill-opacity: 1; stroke: rgb(17, 17, 17); stroke-opacity: 1;\"/></g><g class=\"point\"><path d=\"M36.76,320V289.6H40.39V320Z\" style=\"vector-effect: non-scaling-stroke; opacity: 1; stroke-width: 0.5px; fill: rgb(99, 110, 250); fill-opacity: 1; stroke: rgb(17, 17, 17); stroke-opacity: 1;\"/></g><g class=\"point\"><path d=\"M41.3,320V244H44.93V320Z\" style=\"vector-effect: non-scaling-stroke; opacity: 1; stroke-width: 0.5px; fill: rgb(99, 110, 250); fill-opacity: 1; stroke: rgb(17, 17, 17); stroke-opacity: 1;\"/></g><g class=\"point\"><path d=\"M45.84,320V304.8H49.47V320Z\" style=\"vector-effect: non-scaling-stroke; opacity: 1; stroke-width: 0.5px; fill: rgb(99, 110, 250); fill-opacity: 1; stroke: rgb(17, 17, 17); stroke-opacity: 1;\"/></g><g class=\"point\"><path d=\"M50.38,320V304.8H54.01V320Z\" style=\"vector-effect: non-scaling-stroke; opacity: 1; stroke-width: 0.5px; fill: rgb(99, 110, 250); fill-opacity: 1; stroke: rgb(17, 17, 17); stroke-opacity: 1;\"/></g><g class=\"point\"><path d=\"M73.07,320V304.8H76.7V320Z\" style=\"vector-effect: non-scaling-stroke; opacity: 1; stroke-width: 0.5px; fill: rgb(99, 110, 250); fill-opacity: 1; stroke: rgb(17, 17, 17); stroke-opacity: 1;\"/></g><g class=\"point\"><path d=\"M136.61,320V304.8H140.24V320Z\" style=\"vector-effect: non-scaling-stroke; opacity: 1; stroke-width: 0.5px; fill: rgb(99, 110, 250); fill-opacity: 1; stroke: rgb(17, 17, 17); stroke-opacity: 1;\"/></g><g class=\"point\"><path d=\"M585.92,320V304.8H589.55V320Z\" style=\"vector-effect: non-scaling-stroke; opacity: 1; stroke-width: 0.5px; fill: rgb(99, 110, 250); fill-opacity: 1; stroke: rgb(17, 17, 17); stroke-opacity: 1;\"/></g></g></g></g></g><g class=\"overplot\"/><path class=\"xlines-above crisp\" d=\"M0,0\" style=\"fill: none;\"/><path class=\"ylines-above crisp\" d=\"M0,0\" style=\"fill: none;\"/><g class=\"overlines-above\"/><g class=\"xaxislayer-above\"><g class=\"xtick\"><text text-anchor=\"middle\" x=\"0\" y=\"433\" transform=\"translate(168.5,0)\" style=\"font-family: 'Open Sans', verdana, arial, sans-serif; font-size: 12px; fill: rgb(242, 245, 250); fill-opacity: 1; white-space: pre; opacity: 1;\">20</text></g><g class=\"xtick\"><text text-anchor=\"middle\" x=\"0\" y=\"433\" style=\"font-family: 'Open Sans', verdana, arial, sans-serif; font-size: 12px; fill: rgb(242, 245, 250); fill-opacity: 1; white-space: pre; opacity: 1;\" transform=\"translate(259.27,0)\">40</text></g><g class=\"xtick\"><text text-anchor=\"middle\" x=\"0\" y=\"433\" style=\"font-family: 'Open Sans', verdana, arial, sans-serif; font-size: 12px; fill: rgb(242, 245, 250); fill-opacity: 1; white-space: pre; opacity: 1;\" transform=\"translate(350.04,0)\">60</text></g><g class=\"xtick\"><text text-anchor=\"middle\" x=\"0\" y=\"433\" style=\"font-family: 'Open Sans', verdana, arial, sans-serif; font-size: 12px; fill: rgb(242, 245, 250); fill-opacity: 1; white-space: pre; opacity: 1;\" transform=\"translate(440.81,0)\">80</text></g><g class=\"xtick\"><text text-anchor=\"middle\" x=\"0\" y=\"433\" style=\"font-family: 'Open Sans', verdana, arial, sans-serif; font-size: 12px; fill: rgb(242, 245, 250); fill-opacity: 1; white-space: pre; opacity: 1;\" transform=\"translate(531.5799999999999,0)\">100</text></g><g class=\"xtick\"><text text-anchor=\"middle\" x=\"0\" y=\"433\" style=\"font-family: 'Open Sans', verdana, arial, sans-serif; font-size: 12px; fill: rgb(242, 245, 250); fill-opacity: 1; white-space: pre; opacity: 1;\" transform=\"translate(622.35,0)\">120</text></g></g><g class=\"yaxislayer-above\"><g class=\"ytick\"><text text-anchor=\"end\" x=\"79\" y=\"4.199999999999999\" transform=\"translate(0,420)\" style=\"font-family: 'Open Sans', verdana, arial, sans-serif; font-size: 12px; fill: rgb(242, 245, 250); fill-opacity: 1; white-space: pre; opacity: 1;\">0</text></g><g class=\"ytick\"><text text-anchor=\"end\" x=\"79\" y=\"4.199999999999999\" style=\"font-family: 'Open Sans', verdana, arial, sans-serif; font-size: 12px; fill: rgb(242, 245, 250); fill-opacity: 1; white-space: pre; opacity: 1;\" transform=\"translate(0,344)\">5</text></g><g class=\"ytick\"><text text-anchor=\"end\" x=\"79\" y=\"4.199999999999999\" style=\"font-family: 'Open Sans', verdana, arial, sans-serif; font-size: 12px; fill: rgb(242, 245, 250); fill-opacity: 1; white-space: pre; opacity: 1;\" transform=\"translate(0,268)\">10</text></g><g class=\"ytick\"><text text-anchor=\"end\" x=\"79\" y=\"4.199999999999999\" style=\"font-family: 'Open Sans', verdana, arial, sans-serif; font-size: 12px; fill: rgb(242, 245, 250); fill-opacity: 1; white-space: pre; opacity: 1;\" transform=\"translate(0,192)\">15</text></g><g class=\"ytick\"><text text-anchor=\"end\" x=\"79\" y=\"4.199999999999999\" style=\"font-family: 'Open Sans', verdana, arial, sans-serif; font-size: 12px; fill: rgb(242, 245, 250); fill-opacity: 1; white-space: pre; opacity: 1;\" transform=\"translate(0,116)\">20</text></g></g><g class=\"overaxes-above\"/></g></g><g class=\"polarlayer\"/><g class=\"smithlayer\"/><g class=\"ternarylayer\"/><g class=\"geolayer\"/><g class=\"funnelarealayer\"/><g class=\"pielayer\"/><g class=\"iciclelayer\"/><g class=\"treemaplayer\"/><g class=\"sunburstlayer\"/><g class=\"glimages\"/><defs id=\"topdefs-9343eb\"><g class=\"clips\"/></defs><g class=\"layer-above\"><g class=\"imagelayer\"/><g class=\"shapelayer\"/></g><g class=\"infolayer\"><g class=\"g-gtitle\"><text class=\"gtitle\" x=\"37.5\" y=\"50\" text-anchor=\"start\" dy=\"0em\" style=\"font-family: 'Open Sans', verdana, arial, sans-serif; font-size: 17px; fill: rgb(242, 245, 250); opacity: 1; font-weight: normal; white-space: pre;\">Количество городов по количеству прибывающих рейсов в день</text></g><g class=\"g-xtitle\"><text class=\"xtitle\" x=\"375\" y=\"460.8\" text-anchor=\"middle\" style=\"font-family: 'Open Sans', verdana, arial, sans-serif; font-size: 14px; fill: rgb(242, 245, 250); opacity: 1; font-weight: normal; white-space: pre;\">Среднее количество прибывающих рейсов в день</text></g><g class=\"g-ytitle\"><text class=\"ytitle\" transform=\"rotate(-90,38.934375,260)\" x=\"38.934375\" y=\"260\" text-anchor=\"middle\" style=\"font-family: 'Open Sans', verdana, arial, sans-serif; font-size: 14px; fill: rgb(242, 245, 250); opacity: 1; font-weight: normal; white-space: pre;\">Кол-во городов</text></g></g></svg>"
      ]
     },
     "metadata": {},
     "output_type": "display_data"
    }
   ],
   "source": [
    "px.bar(df_city_flight.groupby('average_flights')['city'].count().reset_index(), \n",
    "             x=\"average_flights\", \n",
    "             y=\"city\",\n",
    "             width=750,\n",
    "             height=500,\n",
    "             labels = {'city':'Кол-во городов', 'average_flights':'Среднее количество прибывающих рейсов в день'},\n",
    "             title=\"Количество городов по количеству прибывающих рейсов в день\",\n",
    "             template = 'plotly_dark')"
   ]
  },
  {
   "cell_type": "markdown",
   "metadata": {},
   "source": [
    "**Выводы:**\n",
    "- За исключением \"двух столиц\" количество рейсов в день в других городах не превышает 20\n",
    "- Подавляющее большинство российских городов принимает всего лишь от 1 до 4 рейсов в день"
   ]
  },
  {
   "cell_type": "markdown",
   "metadata": {},
   "source": [
    "## Выводы"
   ]
  },
  {
   "cell_type": "markdown",
   "metadata": {},
   "source": [
    "В ходе работы мы проанализировали предпочтения пользователей, покупающих билеты на разные направления.\n",
    "- Больше всего рейсов за месяц выполняют самолеты Cessna, Bombardier и Sukhoi\n",
    "- Больше всего рейсов в день принимают аэропорты Москвы, превосходя следующий за ним в рейтинге Санкт-Петербург в 4 раза\n",
    "- Подавляющее большинство российских городов принимает всего лишь от 1 до 4 рейсов в день"
   ]
  }
 ],
 "metadata": {
  "ExecuteTimeLog": [
   {
    "duration": 795,
    "start_time": "2021-10-15T06:09:37.597Z"
   },
   {
    "duration": 197,
    "start_time": "2021-10-15T06:10:46.853Z"
   },
   {
    "duration": 404,
    "start_time": "2021-10-15T06:10:54.089Z"
   },
   {
    "duration": 96,
    "start_time": "2021-10-15T06:11:09.691Z"
   },
   {
    "duration": 34,
    "start_time": "2021-10-15T06:11:13.580Z"
   },
   {
    "duration": 19,
    "start_time": "2021-10-15T06:11:36.764Z"
   },
   {
    "duration": 9,
    "start_time": "2021-10-15T06:11:41.628Z"
   },
   {
    "duration": 9,
    "start_time": "2021-10-15T06:12:04.428Z"
   },
   {
    "duration": 14,
    "start_time": "2021-10-15T06:12:27.789Z"
   },
   {
    "duration": 10,
    "start_time": "2021-10-15T06:12:33.093Z"
   },
   {
    "duration": 9,
    "start_time": "2021-10-15T06:13:00.623Z"
   },
   {
    "duration": 5,
    "start_time": "2021-10-15T06:18:21.254Z"
   },
   {
    "duration": 306,
    "start_time": "2021-10-15T06:18:31.784Z"
   },
   {
    "duration": 9,
    "start_time": "2021-10-15T06:18:47.400Z"
   },
   {
    "duration": 7,
    "start_time": "2021-10-15T06:18:51.220Z"
   },
   {
    "duration": 10,
    "start_time": "2021-10-15T06:19:33.807Z"
   },
   {
    "duration": 6,
    "start_time": "2021-10-15T06:19:45.603Z"
   },
   {
    "duration": 7,
    "start_time": "2021-10-15T06:19:51.380Z"
   },
   {
    "duration": 9,
    "start_time": "2021-10-15T06:20:14.700Z"
   },
   {
    "duration": 777,
    "start_time": "2021-10-15T06:22:23.074Z"
   },
   {
    "duration": 34,
    "start_time": "2021-10-15T06:22:23.974Z"
   },
   {
    "duration": 20,
    "start_time": "2021-10-15T06:22:24.546Z"
   },
   {
    "duration": 9,
    "start_time": "2021-10-15T06:22:26.423Z"
   },
   {
    "duration": 10,
    "start_time": "2021-10-15T06:22:26.925Z"
   },
   {
    "duration": 8,
    "start_time": "2021-10-15T06:22:27.398Z"
   },
   {
    "duration": 7,
    "start_time": "2021-10-15T06:23:06.324Z"
   },
   {
    "duration": 5,
    "start_time": "2021-10-15T06:23:21.557Z"
   },
   {
    "duration": 7,
    "start_time": "2021-10-15T06:23:29.175Z"
   },
   {
    "duration": 10,
    "start_time": "2021-10-15T06:23:34.921Z"
   },
   {
    "duration": 7,
    "start_time": "2021-10-15T06:23:56.475Z"
   },
   {
    "duration": 15,
    "start_time": "2021-10-15T06:25:37.178Z"
   },
   {
    "duration": 440,
    "start_time": "2021-10-15T06:26:08.395Z"
   },
   {
    "duration": 3,
    "start_time": "2021-10-15T06:26:48.322Z"
   },
   {
    "duration": 279,
    "start_time": "2021-10-15T06:28:07.235Z"
   },
   {
    "duration": 538,
    "start_time": "2021-10-15T06:29:32.726Z"
   },
   {
    "duration": 326,
    "start_time": "2021-10-15T06:29:37.042Z"
   },
   {
    "duration": 440,
    "start_time": "2021-10-15T06:29:51.741Z"
   },
   {
    "duration": 398,
    "start_time": "2021-10-15T06:31:00.518Z"
   },
   {
    "duration": 416,
    "start_time": "2021-10-15T06:31:11.572Z"
   },
   {
    "duration": 404,
    "start_time": "2021-10-15T06:31:17.854Z"
   },
   {
    "duration": 391,
    "start_time": "2021-10-15T06:31:41.068Z"
   },
   {
    "duration": 365,
    "start_time": "2021-10-15T06:35:02.160Z"
   },
   {
    "duration": 675,
    "start_time": "2021-10-15T06:41:01.500Z"
   },
   {
    "duration": 379,
    "start_time": "2021-10-15T06:43:43.111Z"
   },
   {
    "duration": 331,
    "start_time": "2021-10-15T06:43:50.045Z"
   },
   {
    "duration": 14,
    "start_time": "2021-10-15T06:44:50.054Z"
   },
   {
    "duration": 384,
    "start_time": "2021-10-15T06:44:56.813Z"
   },
   {
    "duration": 1094,
    "start_time": "2021-10-15T06:46:00.275Z"
   },
   {
    "duration": 329,
    "start_time": "2021-10-15T06:46:21.831Z"
   },
   {
    "duration": 595,
    "start_time": "2021-10-15T06:46:32.419Z"
   },
   {
    "duration": 383,
    "start_time": "2021-10-15T06:48:29.397Z"
   },
   {
    "duration": 528,
    "start_time": "2021-10-15T06:49:33.645Z"
   },
   {
    "duration": 154,
    "start_time": "2021-10-15T06:51:11.299Z"
   },
   {
    "duration": 384,
    "start_time": "2021-10-15T06:51:15.763Z"
   },
   {
    "duration": 308,
    "start_time": "2021-10-15T06:54:29.463Z"
   },
   {
    "duration": 324,
    "start_time": "2021-10-15T06:55:09.475Z"
   },
   {
    "duration": 537,
    "start_time": "2021-10-15T06:55:13.527Z"
   },
   {
    "duration": 377,
    "start_time": "2021-10-15T06:55:34.092Z"
   },
   {
    "duration": 550,
    "start_time": "2021-10-15T06:56:21.450Z"
   },
   {
    "duration": 400,
    "start_time": "2021-10-15T06:56:29.772Z"
   },
   {
    "duration": 550,
    "start_time": "2021-10-15T06:59:15.223Z"
   },
   {
    "duration": 388,
    "start_time": "2021-10-15T06:59:27.133Z"
   },
   {
    "duration": 395,
    "start_time": "2021-10-15T06:59:35.485Z"
   },
   {
    "duration": 311,
    "start_time": "2021-10-15T07:01:55.968Z"
   },
   {
    "duration": 578,
    "start_time": "2021-10-15T07:02:39.076Z"
   },
   {
    "duration": 386,
    "start_time": "2021-10-15T07:04:24.694Z"
   },
   {
    "duration": 550,
    "start_time": "2021-10-15T07:04:32.655Z"
   },
   {
    "duration": 382,
    "start_time": "2021-10-15T07:04:53.181Z"
   },
   {
    "duration": 534,
    "start_time": "2021-10-15T07:05:18.837Z"
   },
   {
    "duration": 387,
    "start_time": "2021-10-15T07:06:56.689Z"
   },
   {
    "duration": 551,
    "start_time": "2021-10-15T07:07:02.128Z"
   },
   {
    "duration": 330,
    "start_time": "2021-10-15T07:11:05.062Z"
   },
   {
    "duration": 313,
    "start_time": "2021-10-15T07:11:25.393Z"
   },
   {
    "duration": 308,
    "start_time": "2021-10-15T07:11:50.360Z"
   },
   {
    "duration": 673,
    "start_time": "2021-10-15T07:12:03.885Z"
   },
   {
    "duration": 841,
    "start_time": "2021-10-15T07:12:10.195Z"
   },
   {
    "duration": 375,
    "start_time": "2021-10-15T07:13:41.310Z"
   },
   {
    "duration": 575,
    "start_time": "2021-10-15T07:14:02.740Z"
   },
   {
    "duration": 385,
    "start_time": "2021-10-15T07:14:10.058Z"
   },
   {
    "duration": 381,
    "start_time": "2021-10-15T07:14:22.757Z"
   },
   {
    "duration": 568,
    "start_time": "2021-10-15T07:14:36.766Z"
   },
   {
    "duration": 314,
    "start_time": "2021-10-15T07:16:23.035Z"
   },
   {
    "duration": 312,
    "start_time": "2021-10-15T07:16:28.142Z"
   },
   {
    "duration": 371,
    "start_time": "2021-10-15T07:16:38.192Z"
   },
   {
    "duration": 310,
    "start_time": "2021-10-15T07:17:05.360Z"
   },
   {
    "duration": 540,
    "start_time": "2021-10-15T07:17:24.260Z"
   },
   {
    "duration": 379,
    "start_time": "2021-10-15T07:17:29.356Z"
   },
   {
    "duration": 567,
    "start_time": "2021-10-15T07:18:47.721Z"
   },
   {
    "duration": 760,
    "start_time": "2021-10-15T07:20:35.086Z"
   },
   {
    "duration": 880,
    "start_time": "2021-10-15T07:21:33.782Z"
   },
   {
    "duration": 677,
    "start_time": "2021-10-15T07:21:37.644Z"
   },
   {
    "duration": 551,
    "start_time": "2021-10-15T07:21:57.769Z"
   },
   {
    "duration": 674,
    "start_time": "2021-10-15T07:22:39.121Z"
   },
   {
    "duration": 703,
    "start_time": "2021-10-15T07:24:16.885Z"
   },
   {
    "duration": 553,
    "start_time": "2021-10-15T07:28:33.597Z"
   },
   {
    "duration": 1333,
    "start_time": "2021-10-15T11:47:34.203Z"
   },
   {
    "duration": 32,
    "start_time": "2021-10-15T11:47:35.539Z"
   },
   {
    "duration": 21,
    "start_time": "2021-10-15T11:47:35.574Z"
   },
   {
    "duration": 8,
    "start_time": "2021-10-15T11:47:35.599Z"
   },
   {
    "duration": 16,
    "start_time": "2021-10-15T11:47:35.609Z"
   },
   {
    "duration": 16,
    "start_time": "2021-10-15T11:47:35.628Z"
   },
   {
    "duration": 12,
    "start_time": "2021-10-15T11:47:35.646Z"
   },
   {
    "duration": 10,
    "start_time": "2021-10-15T11:47:35.661Z"
   },
   {
    "duration": 1028,
    "start_time": "2021-10-15T11:47:35.673Z"
   },
   {
    "duration": 655,
    "start_time": "2021-10-15T11:47:36.704Z"
   },
   {
    "duration": 524,
    "start_time": "2021-10-15T11:47:37.362Z"
   },
   {
    "duration": 518,
    "start_time": "2021-10-15T11:57:35.405Z"
   },
   {
    "duration": 8,
    "start_time": "2021-10-15T11:59:46.978Z"
   },
   {
    "duration": 543,
    "start_time": "2021-10-15T12:00:13.142Z"
   },
   {
    "duration": 327,
    "start_time": "2021-10-15T12:00:19.904Z"
   },
   {
    "duration": 8,
    "start_time": "2021-10-15T12:00:54.246Z"
   },
   {
    "duration": 483,
    "start_time": "2021-10-15T12:01:11.697Z"
   },
   {
    "duration": 299,
    "start_time": "2021-10-15T12:01:28.132Z"
   },
   {
    "duration": 6,
    "start_time": "2021-10-15T12:01:50.552Z"
   },
   {
    "duration": 310,
    "start_time": "2021-10-15T12:02:08.997Z"
   },
   {
    "duration": 383,
    "start_time": "2021-10-15T12:02:47.552Z"
   },
   {
    "duration": 330,
    "start_time": "2021-10-15T12:03:10.687Z"
   },
   {
    "duration": 650,
    "start_time": "2021-10-15T12:04:26.273Z"
   },
   {
    "duration": 648,
    "start_time": "2021-10-15T12:04:34.381Z"
   },
   {
    "duration": 346,
    "start_time": "2021-10-15T12:04:41.068Z"
   },
   {
    "duration": 380,
    "start_time": "2021-10-15T12:04:57.010Z"
   },
   {
    "duration": 392,
    "start_time": "2021-10-15T12:05:08.877Z"
   },
   {
    "duration": 400,
    "start_time": "2021-10-15T12:07:20.246Z"
   },
   {
    "duration": 533,
    "start_time": "2021-10-15T12:09:15.962Z"
   },
   {
    "duration": 386,
    "start_time": "2021-10-15T12:09:29.260Z"
   },
   {
    "duration": 1147,
    "start_time": "2021-10-15T14:44:44.951Z"
   },
   {
    "duration": 31,
    "start_time": "2021-10-15T14:44:46.100Z"
   },
   {
    "duration": 20,
    "start_time": "2021-10-15T14:44:46.133Z"
   },
   {
    "duration": 22,
    "start_time": "2021-10-15T14:44:46.155Z"
   },
   {
    "duration": 21,
    "start_time": "2021-10-15T14:44:46.179Z"
   },
   {
    "duration": 10,
    "start_time": "2021-10-15T14:44:46.202Z"
   },
   {
    "duration": 8,
    "start_time": "2021-10-15T14:44:46.214Z"
   },
   {
    "duration": 9,
    "start_time": "2021-10-15T14:44:46.225Z"
   },
   {
    "duration": 666,
    "start_time": "2021-10-15T14:44:46.236Z"
   },
   {
    "duration": 413,
    "start_time": "2021-10-15T14:44:46.904Z"
   },
   {
    "duration": 357,
    "start_time": "2021-10-15T14:44:47.319Z"
   },
   {
    "duration": 351,
    "start_time": "2021-10-15T14:44:47.678Z"
   },
   {
    "duration": 231,
    "start_time": "2021-10-15T14:44:48.031Z"
   },
   {
    "duration": 1041,
    "start_time": "2021-10-15T15:13:22.709Z"
   },
   {
    "duration": 30,
    "start_time": "2021-10-15T15:13:23.752Z"
   },
   {
    "duration": 14,
    "start_time": "2021-10-15T15:13:23.784Z"
   },
   {
    "duration": 5,
    "start_time": "2021-10-15T15:13:23.800Z"
   },
   {
    "duration": 11,
    "start_time": "2021-10-15T15:13:23.807Z"
   },
   {
    "duration": 7,
    "start_time": "2021-10-15T15:13:23.819Z"
   },
   {
    "duration": 9,
    "start_time": "2021-10-15T15:13:23.828Z"
   },
   {
    "duration": 13,
    "start_time": "2021-10-15T15:13:23.838Z"
   },
   {
    "duration": 677,
    "start_time": "2021-10-15T15:13:23.853Z"
   },
   {
    "duration": 359,
    "start_time": "2021-10-15T15:13:24.532Z"
   },
   {
    "duration": 345,
    "start_time": "2021-10-15T15:13:24.893Z"
   },
   {
    "duration": 350,
    "start_time": "2021-10-15T15:13:25.240Z"
   },
   {
    "duration": 226,
    "start_time": "2021-10-15T15:13:25.591Z"
   },
   {
    "duration": 1092,
    "start_time": "2021-10-15T15:32:21.693Z"
   },
   {
    "duration": 32,
    "start_time": "2021-10-15T15:32:22.787Z"
   },
   {
    "duration": 14,
    "start_time": "2021-10-15T15:32:22.822Z"
   },
   {
    "duration": 6,
    "start_time": "2021-10-15T15:32:22.838Z"
   },
   {
    "duration": 8,
    "start_time": "2021-10-15T15:32:22.846Z"
   },
   {
    "duration": 7,
    "start_time": "2021-10-15T15:32:22.856Z"
   },
   {
    "duration": 8,
    "start_time": "2021-10-15T15:32:22.864Z"
   },
   {
    "duration": 11,
    "start_time": "2021-10-15T15:32:22.873Z"
   },
   {
    "duration": 650,
    "start_time": "2021-10-15T15:32:22.887Z"
   },
   {
    "duration": 338,
    "start_time": "2021-10-15T15:32:23.538Z"
   },
   {
    "duration": 344,
    "start_time": "2021-10-15T15:32:23.878Z"
   },
   {
    "duration": 347,
    "start_time": "2021-10-15T15:32:24.223Z"
   },
   {
    "duration": 231,
    "start_time": "2021-10-15T15:32:24.571Z"
   }
  ],
  "kernelspec": {
   "display_name": "Python 3 (ipykernel)",
   "language": "python",
   "name": "python3"
  },
  "language_info": {
   "codemirror_mode": {
    "name": "ipython",
    "version": 3
   },
   "file_extension": ".py",
   "mimetype": "text/x-python",
   "name": "python",
   "nbconvert_exporter": "python",
   "pygments_lexer": "ipython3",
   "version": "3.9.7"
  },
  "toc": {
   "base_numbering": 1,
   "nav_menu": {},
   "number_sections": true,
   "sideBar": true,
   "skip_h1_title": true,
   "title_cell": "Table of Contents",
   "title_sidebar": "Contents",
   "toc_cell": false,
   "toc_position": {},
   "toc_section_display": true,
   "toc_window_display": false
  }
 },
 "nbformat": 4,
 "nbformat_minor": 2
}
