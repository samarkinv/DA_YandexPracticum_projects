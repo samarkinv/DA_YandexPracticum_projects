{
 "cells": [
  {
   "cell_type": "markdown",
   "metadata": {},
   "source": [
    "# Исследование надёжности заёмщиков"
   ]
  },
  {
   "cell_type": "markdown",
   "metadata": {},
   "source": [
    "## 1. Обзор"
   ]
  },
  {
   "cell_type": "markdown",
   "metadata": {},
   "source": [
    "Импортируем библиотеку Пандас, выводим начало таблицы и общую информацию по ней"
   ]
  },
  {
   "cell_type": "code",
   "execution_count": 1,
   "metadata": {},
   "outputs": [
    {
     "data": {
      "text/html": [
       "<div>\n",
       "<style scoped>\n",
       "    .dataframe tbody tr th:only-of-type {\n",
       "        vertical-align: middle;\n",
       "    }\n",
       "\n",
       "    .dataframe tbody tr th {\n",
       "        vertical-align: top;\n",
       "    }\n",
       "\n",
       "    .dataframe thead th {\n",
       "        text-align: right;\n",
       "    }\n",
       "</style>\n",
       "<table border=\"1\" class=\"dataframe\">\n",
       "  <thead>\n",
       "    <tr style=\"text-align: right;\">\n",
       "      <th></th>\n",
       "      <th>children</th>\n",
       "      <th>days_employed</th>\n",
       "      <th>dob_years</th>\n",
       "      <th>education</th>\n",
       "      <th>education_id</th>\n",
       "      <th>family_status</th>\n",
       "      <th>family_status_id</th>\n",
       "      <th>gender</th>\n",
       "      <th>income_type</th>\n",
       "      <th>debt</th>\n",
       "      <th>total_income</th>\n",
       "      <th>purpose</th>\n",
       "    </tr>\n",
       "  </thead>\n",
       "  <tbody>\n",
       "    <tr>\n",
       "      <td>0</td>\n",
       "      <td>1</td>\n",
       "      <td>-8437.673028</td>\n",
       "      <td>42</td>\n",
       "      <td>высшее</td>\n",
       "      <td>0</td>\n",
       "      <td>женат / замужем</td>\n",
       "      <td>0</td>\n",
       "      <td>F</td>\n",
       "      <td>сотрудник</td>\n",
       "      <td>0</td>\n",
       "      <td>253875.639453</td>\n",
       "      <td>покупка жилья</td>\n",
       "    </tr>\n",
       "    <tr>\n",
       "      <td>1</td>\n",
       "      <td>1</td>\n",
       "      <td>-4024.803754</td>\n",
       "      <td>36</td>\n",
       "      <td>среднее</td>\n",
       "      <td>1</td>\n",
       "      <td>женат / замужем</td>\n",
       "      <td>0</td>\n",
       "      <td>F</td>\n",
       "      <td>сотрудник</td>\n",
       "      <td>0</td>\n",
       "      <td>112080.014102</td>\n",
       "      <td>приобретение автомобиля</td>\n",
       "    </tr>\n",
       "    <tr>\n",
       "      <td>2</td>\n",
       "      <td>0</td>\n",
       "      <td>-5623.422610</td>\n",
       "      <td>33</td>\n",
       "      <td>Среднее</td>\n",
       "      <td>1</td>\n",
       "      <td>женат / замужем</td>\n",
       "      <td>0</td>\n",
       "      <td>M</td>\n",
       "      <td>сотрудник</td>\n",
       "      <td>0</td>\n",
       "      <td>145885.952297</td>\n",
       "      <td>покупка жилья</td>\n",
       "    </tr>\n",
       "    <tr>\n",
       "      <td>3</td>\n",
       "      <td>3</td>\n",
       "      <td>-4124.747207</td>\n",
       "      <td>32</td>\n",
       "      <td>среднее</td>\n",
       "      <td>1</td>\n",
       "      <td>женат / замужем</td>\n",
       "      <td>0</td>\n",
       "      <td>M</td>\n",
       "      <td>сотрудник</td>\n",
       "      <td>0</td>\n",
       "      <td>267628.550329</td>\n",
       "      <td>дополнительное образование</td>\n",
       "    </tr>\n",
       "    <tr>\n",
       "      <td>4</td>\n",
       "      <td>0</td>\n",
       "      <td>340266.072047</td>\n",
       "      <td>53</td>\n",
       "      <td>среднее</td>\n",
       "      <td>1</td>\n",
       "      <td>гражданский брак</td>\n",
       "      <td>1</td>\n",
       "      <td>F</td>\n",
       "      <td>пенсионер</td>\n",
       "      <td>0</td>\n",
       "      <td>158616.077870</td>\n",
       "      <td>сыграть свадьбу</td>\n",
       "    </tr>\n",
       "  </tbody>\n",
       "</table>\n",
       "</div>"
      ],
      "text/plain": [
       "   children  days_employed  dob_years education  education_id  \\\n",
       "0         1   -8437.673028         42    высшее             0   \n",
       "1         1   -4024.803754         36   среднее             1   \n",
       "2         0   -5623.422610         33   Среднее             1   \n",
       "3         3   -4124.747207         32   среднее             1   \n",
       "4         0  340266.072047         53   среднее             1   \n",
       "\n",
       "      family_status  family_status_id gender income_type  debt   total_income  \\\n",
       "0   женат / замужем                 0      F   сотрудник     0  253875.639453   \n",
       "1   женат / замужем                 0      F   сотрудник     0  112080.014102   \n",
       "2   женат / замужем                 0      M   сотрудник     0  145885.952297   \n",
       "3   женат / замужем                 0      M   сотрудник     0  267628.550329   \n",
       "4  гражданский брак                 1      F   пенсионер     0  158616.077870   \n",
       "\n",
       "                      purpose  \n",
       "0               покупка жилья  \n",
       "1     приобретение автомобиля  \n",
       "2               покупка жилья  \n",
       "3  дополнительное образование  \n",
       "4             сыграть свадьбу  "
      ]
     },
     "execution_count": 1,
     "metadata": {},
     "output_type": "execute_result"
    }
   ],
   "source": [
    "import pandas as pd\n",
    "data = pd.read_csv('/datasets/data.csv')\n",
    "data.head(5)"
   ]
  },
  {
   "cell_type": "code",
   "execution_count": 2,
   "metadata": {},
   "outputs": [
    {
     "name": "stdout",
     "output_type": "stream",
     "text": [
      "<class 'pandas.core.frame.DataFrame'>\n",
      "RangeIndex: 21525 entries, 0 to 21524\n",
      "Data columns (total 12 columns):\n",
      "children            21525 non-null int64\n",
      "days_employed       19351 non-null float64\n",
      "dob_years           21525 non-null int64\n",
      "education           21525 non-null object\n",
      "education_id        21525 non-null int64\n",
      "family_status       21525 non-null object\n",
      "family_status_id    21525 non-null int64\n",
      "gender              21525 non-null object\n",
      "income_type         21525 non-null object\n",
      "debt                21525 non-null int64\n",
      "total_income        19351 non-null float64\n",
      "purpose             21525 non-null object\n",
      "dtypes: float64(2), int64(5), object(5)\n",
      "memory usage: 2.0+ MB\n"
     ]
    }
   ],
   "source": [
    "data.info()"
   ]
  },
  {
   "cell_type": "markdown",
   "metadata": {},
   "source": [
    "**Наблюдения по таблице**"
   ]
  },
  {
   "cell_type": "markdown",
   "metadata": {},
   "source": [
    "1. Трудовой стаж имеет дробные значения, часть из которых - отрицательные. Нужно перевести значения столбца в целочисленный тип и избавиться от отрицательных значений. \n",
    "2. Странное название столбца, где хранится возраст клиента: почему dob_years? \n",
    "3. Одни и те же значения в столбце education написаны в разном регистре. \n",
    "4. Пары столбцов education + education_id и family_status + family_status_id  - взаимозаменяемы. Похоже на то, что надо создать словари с ними. \n",
    "5. Есть пропуски в столбцах days_employed и total_income\n",
    "6. Кроме столбца \"days_employed\" тип данных можно изменить еще и в столбце 'debt'. Логичнее использовать там булевый тип, хотя, можно оставить и так. "
   ]
  },
  {
   "cell_type": "markdown",
   "metadata": {},
   "source": [
    "**Сразу исправим то, что не будет затронуто в шаге номер 2.**"
   ]
  },
  {
   "cell_type": "markdown",
   "metadata": {},
   "source": [
    "Переименуем столбец, где хранится возраст клиентов в понятный 'age'"
   ]
  },
  {
   "cell_type": "code",
   "execution_count": 3,
   "metadata": {
    "scrolled": true
   },
   "outputs": [],
   "source": [
    "data.rename(columns = {'dob_years' : 'age'}, inplace = True)"
   ]
  },
  {
   "cell_type": "markdown",
   "metadata": {},
   "source": [
    "Приведем все значения в столбце 'education' к нижнему регистру и сразу выведем их, чтобы убедиться, что все сработало. "
   ]
  },
  {
   "cell_type": "code",
   "execution_count": 4,
   "metadata": {},
   "outputs": [
    {
     "data": {
      "text/plain": [
       "array(['высшее', 'среднее', 'неоконченное высшее', 'начальное',\n",
       "       'ученая степень'], dtype=object)"
      ]
     },
     "execution_count": 4,
     "metadata": {},
     "output_type": "execute_result"
    }
   ],
   "source": [
    "data['education'] = data['education'].str.lower()\n",
    "data['education'].unique()"
   ]
  },
  {
   "cell_type": "markdown",
   "metadata": {},
   "source": [
    "## 2. Предобработка данных"
   ]
  },
  {
   "cell_type": "markdown",
   "metadata": {},
   "source": [
    "### Обработка пропусков"
   ]
  },
  {
   "cell_type": "markdown",
   "metadata": {},
   "source": [
    "Пропуски есть в двух столбцах, а их количество одинаково. Может ли быть такое, что пропуск в days_employed соответствует пропуску в total_income? Чтобы это проверить - посчитаем общее количество пропусков..."
   ]
  },
  {
   "cell_type": "code",
   "execution_count": 5,
   "metadata": {
    "scrolled": true
   },
   "outputs": [
    {
     "data": {
      "text/plain": [
       "2174"
      ]
     },
     "execution_count": 5,
     "metadata": {},
     "output_type": "execute_result"
    }
   ],
   "source": [
    "21525 - 19351"
   ]
  },
  {
   "cell_type": "markdown",
   "metadata": {},
   "source": [
    "...а затем посчитаем количество строк таблицы, в которых значения в столбцах 'days_employed' и 'total_income' пропущенны одновременно"
   ]
  },
  {
   "cell_type": "code",
   "execution_count": 6,
   "metadata": {},
   "outputs": [
    {
     "data": {
      "text/plain": [
       "2174"
      ]
     },
     "execution_count": 6,
     "metadata": {},
     "output_type": "execute_result"
    }
   ],
   "source": [
    "len(data[(data['days_employed'].isna() == True) & (data['total_income'].isna() == True)])"
   ]
  },
  {
   "cell_type": "markdown",
   "metadata": {},
   "source": [
    "2174 и 2174. Предположение подтвредилось. Допускаю, что логика простая: если ни дня не работал, то и дохода быть не могло. Возможно, при заполнении данных эти значения были взаимосвязаны. Посмотрим - вдруг значения можно восстановить, опираясь на какие-то характеристики. Выведем только эти строчки и посмотрим на них. "
   ]
  },
  {
   "cell_type": "code",
   "execution_count": 7,
   "metadata": {
    "scrolled": true
   },
   "outputs": [
    {
     "data": {
      "text/html": [
       "<div>\n",
       "<style scoped>\n",
       "    .dataframe tbody tr th:only-of-type {\n",
       "        vertical-align: middle;\n",
       "    }\n",
       "\n",
       "    .dataframe tbody tr th {\n",
       "        vertical-align: top;\n",
       "    }\n",
       "\n",
       "    .dataframe thead th {\n",
       "        text-align: right;\n",
       "    }\n",
       "</style>\n",
       "<table border=\"1\" class=\"dataframe\">\n",
       "  <thead>\n",
       "    <tr style=\"text-align: right;\">\n",
       "      <th></th>\n",
       "      <th>children</th>\n",
       "      <th>days_employed</th>\n",
       "      <th>age</th>\n",
       "      <th>education</th>\n",
       "      <th>education_id</th>\n",
       "      <th>family_status</th>\n",
       "      <th>family_status_id</th>\n",
       "      <th>gender</th>\n",
       "      <th>income_type</th>\n",
       "      <th>debt</th>\n",
       "      <th>total_income</th>\n",
       "      <th>purpose</th>\n",
       "    </tr>\n",
       "  </thead>\n",
       "  <tbody>\n",
       "    <tr>\n",
       "      <td>12</td>\n",
       "      <td>0</td>\n",
       "      <td>NaN</td>\n",
       "      <td>65</td>\n",
       "      <td>среднее</td>\n",
       "      <td>1</td>\n",
       "      <td>гражданский брак</td>\n",
       "      <td>1</td>\n",
       "      <td>M</td>\n",
       "      <td>пенсионер</td>\n",
       "      <td>0</td>\n",
       "      <td>NaN</td>\n",
       "      <td>сыграть свадьбу</td>\n",
       "    </tr>\n",
       "    <tr>\n",
       "      <td>26</td>\n",
       "      <td>0</td>\n",
       "      <td>NaN</td>\n",
       "      <td>41</td>\n",
       "      <td>среднее</td>\n",
       "      <td>1</td>\n",
       "      <td>женат / замужем</td>\n",
       "      <td>0</td>\n",
       "      <td>M</td>\n",
       "      <td>госслужащий</td>\n",
       "      <td>0</td>\n",
       "      <td>NaN</td>\n",
       "      <td>образование</td>\n",
       "    </tr>\n",
       "    <tr>\n",
       "      <td>29</td>\n",
       "      <td>0</td>\n",
       "      <td>NaN</td>\n",
       "      <td>63</td>\n",
       "      <td>среднее</td>\n",
       "      <td>1</td>\n",
       "      <td>Не женат / не замужем</td>\n",
       "      <td>4</td>\n",
       "      <td>F</td>\n",
       "      <td>пенсионер</td>\n",
       "      <td>0</td>\n",
       "      <td>NaN</td>\n",
       "      <td>строительство жилой недвижимости</td>\n",
       "    </tr>\n",
       "    <tr>\n",
       "      <td>41</td>\n",
       "      <td>0</td>\n",
       "      <td>NaN</td>\n",
       "      <td>50</td>\n",
       "      <td>среднее</td>\n",
       "      <td>1</td>\n",
       "      <td>женат / замужем</td>\n",
       "      <td>0</td>\n",
       "      <td>F</td>\n",
       "      <td>госслужащий</td>\n",
       "      <td>0</td>\n",
       "      <td>NaN</td>\n",
       "      <td>сделка с подержанным автомобилем</td>\n",
       "    </tr>\n",
       "    <tr>\n",
       "      <td>55</td>\n",
       "      <td>0</td>\n",
       "      <td>NaN</td>\n",
       "      <td>54</td>\n",
       "      <td>среднее</td>\n",
       "      <td>1</td>\n",
       "      <td>гражданский брак</td>\n",
       "      <td>1</td>\n",
       "      <td>F</td>\n",
       "      <td>пенсионер</td>\n",
       "      <td>1</td>\n",
       "      <td>NaN</td>\n",
       "      <td>сыграть свадьбу</td>\n",
       "    </tr>\n",
       "  </tbody>\n",
       "</table>\n",
       "</div>"
      ],
      "text/plain": [
       "    children  days_employed  age education  education_id  \\\n",
       "12         0            NaN   65   среднее             1   \n",
       "26         0            NaN   41   среднее             1   \n",
       "29         0            NaN   63   среднее             1   \n",
       "41         0            NaN   50   среднее             1   \n",
       "55         0            NaN   54   среднее             1   \n",
       "\n",
       "            family_status  family_status_id gender  income_type  debt  \\\n",
       "12       гражданский брак                 1      M    пенсионер     0   \n",
       "26        женат / замужем                 0      M  госслужащий     0   \n",
       "29  Не женат / не замужем                 4      F    пенсионер     0   \n",
       "41        женат / замужем                 0      F  госслужащий     0   \n",
       "55       гражданский брак                 1      F    пенсионер     1   \n",
       "\n",
       "    total_income                           purpose  \n",
       "12           NaN                   сыграть свадьбу  \n",
       "26           NaN                       образование  \n",
       "29           NaN  строительство жилой недвижимости  \n",
       "41           NaN  сделка с подержанным автомобилем  \n",
       "55           NaN                   сыграть свадьбу  "
      ]
     },
     "execution_count": 7,
     "metadata": {},
     "output_type": "execute_result"
    }
   ],
   "source": [
    "data[(data['days_employed'].isna() == True) & (data['total_income'].isna() == True)].head()"
   ]
  },
  {
   "cell_type": "markdown",
   "metadata": {},
   "source": [
    "Других корреляций, которые помогли бы заполнить пропуски - не вижу. Тогда действуем по дефолту.\n",
    "Поскольку это пропуски в количественных переменных, то их нужно заполнить характерными значениями. Выведем среднеарифметическое и медиану с помощью describe."
   ]
  },
  {
   "cell_type": "code",
   "execution_count": 8,
   "metadata": {},
   "outputs": [
    {
     "data": {
      "text/plain": [
       "count     19351.000000\n",
       "mean      63046.497661\n",
       "std      140827.311974\n",
       "min      -18388.949901\n",
       "25%       -2747.423625\n",
       "50%       -1203.369529\n",
       "75%        -291.095954\n",
       "max      401755.400475\n",
       "Name: days_employed, dtype: float64"
      ]
     },
     "execution_count": 8,
     "metadata": {},
     "output_type": "execute_result"
    }
   ],
   "source": [
    "data['days_employed'].describe()"
   ]
  },
  {
   "cell_type": "markdown",
   "metadata": {},
   "source": [
    "Интересно: максимальное значение трудового стажа - 401 тысяча дней. Это больше тысячи лет. Похоже на артефакт в данных. Попробуем разобраться и исправить. Первое, что я заметил еще при посмотре таблицы - все отрицательные значения - в пределах нормы, а вот положительные - гигантские и встречаются только у пенсионеров. Проверим это. "
   ]
  },
  {
   "cell_type": "code",
   "execution_count": 9,
   "metadata": {},
   "outputs": [
    {
     "data": {
      "text/plain": [
       "array(['пенсионер', 'безработный'], dtype=object)"
      ]
     },
     "execution_count": 9,
     "metadata": {},
     "output_type": "execute_result"
    }
   ],
   "source": [
    "data[data['days_employed'] > 0]['income_type'].unique()"
   ]
  },
  {
   "cell_type": "markdown",
   "metadata": {},
   "source": [
    "Наблюдение подтвердилось с небольшим дополнением. Положительное количество рабочих дней в таблице - у пенсионеров и безработных. В этом прослеживается какая-то логика: и те и другие сейчас без работы. Но пока не совсем понятно. Посмотрим информацию по значениям столбца 'days_employed' для той и другой категории. "
   ]
  },
  {
   "cell_type": "code",
   "execution_count": 10,
   "metadata": {},
   "outputs": [
    {
     "data": {
      "text/plain": [
       "count      3445.000000\n",
       "mean     365004.309916\n",
       "std       21075.016396\n",
       "min      328728.720605\n",
       "25%      346639.413916\n",
       "50%      365213.306266\n",
       "75%      383246.444219\n",
       "max      401755.400475\n",
       "Name: days_employed, dtype: float64"
      ]
     },
     "execution_count": 10,
     "metadata": {},
     "output_type": "execute_result"
    }
   ],
   "source": [
    "data[(data['income_type'] == 'пенсионер') | (data['income_type'] == 'безработный')]['days_employed'].describe()"
   ]
  },
  {
   "cell_type": "markdown",
   "metadata": {},
   "source": [
    "Минимум 328 728 дней. А в каких пределах находятся отрицательные значения в этом столбце?"
   ]
  },
  {
   "cell_type": "code",
   "execution_count": 11,
   "metadata": {},
   "outputs": [
    {
     "data": {
      "text/plain": [
       "count    15906.000000\n",
       "mean     -2353.015932\n",
       "std       2304.243851\n",
       "min     -18388.949901\n",
       "25%      -3157.480084\n",
       "50%      -1630.019381\n",
       "75%       -756.371964\n",
       "max        -24.141633\n",
       "Name: days_employed, dtype: float64"
      ]
     },
     "execution_count": 11,
     "metadata": {},
     "output_type": "execute_result"
    }
   ],
   "source": [
    "data[data['days_employed'] < 0]['days_employed'].describe()"
   ]
  },
  {
   "cell_type": "markdown",
   "metadata": {},
   "source": [
    "Максимальное количество рабочих дней стажа среди отрицательных значений - 18388 дней. Это 51 год. А медианное так вообще - 4.5 года. Выглядит куда правдоподобнее. Есть повод предположить, что проблема с завышенными величинами коснулась только пенсионеров и безработных. Ради интереса посмотрим - сколько лет человеку, который имеет опыт работы в 51 год."
   ]
  },
  {
   "cell_type": "code",
   "execution_count": 12,
   "metadata": {},
   "outputs": [
    {
     "data": {
      "text/html": [
       "<div>\n",
       "<style scoped>\n",
       "    .dataframe tbody tr th:only-of-type {\n",
       "        vertical-align: middle;\n",
       "    }\n",
       "\n",
       "    .dataframe tbody tr th {\n",
       "        vertical-align: top;\n",
       "    }\n",
       "\n",
       "    .dataframe thead th {\n",
       "        text-align: right;\n",
       "    }\n",
       "</style>\n",
       "<table border=\"1\" class=\"dataframe\">\n",
       "  <thead>\n",
       "    <tr style=\"text-align: right;\">\n",
       "      <th></th>\n",
       "      <th>children</th>\n",
       "      <th>days_employed</th>\n",
       "      <th>age</th>\n",
       "      <th>education</th>\n",
       "      <th>education_id</th>\n",
       "      <th>family_status</th>\n",
       "      <th>family_status_id</th>\n",
       "      <th>gender</th>\n",
       "      <th>income_type</th>\n",
       "      <th>debt</th>\n",
       "      <th>total_income</th>\n",
       "      <th>purpose</th>\n",
       "    </tr>\n",
       "  </thead>\n",
       "  <tbody>\n",
       "    <tr>\n",
       "      <td>16335</td>\n",
       "      <td>1</td>\n",
       "      <td>-18388.949901</td>\n",
       "      <td>61</td>\n",
       "      <td>среднее</td>\n",
       "      <td>1</td>\n",
       "      <td>женат / замужем</td>\n",
       "      <td>0</td>\n",
       "      <td>F</td>\n",
       "      <td>сотрудник</td>\n",
       "      <td>0</td>\n",
       "      <td>186178.934089</td>\n",
       "      <td>операции с недвижимостью</td>\n",
       "    </tr>\n",
       "  </tbody>\n",
       "</table>\n",
       "</div>"
      ],
      "text/plain": [
       "       children  days_employed  age education  education_id    family_status  \\\n",
       "16335         1  -18388.949901   61   среднее             1  женат / замужем   \n",
       "\n",
       "       family_status_id gender income_type  debt   total_income  \\\n",
       "16335                 0      F   сотрудник     0  186178.934089   \n",
       "\n",
       "                        purpose  \n",
       "16335  операции с недвижимостью  "
      ]
     },
     "execution_count": 12,
     "metadata": {},
     "output_type": "execute_result"
    }
   ],
   "source": [
    "data[data['days_employed'] < -18000]"
   ]
  },
  {
   "cell_type": "markdown",
   "metadata": {},
   "source": [
    "Начала работать с 10 лет:)"
   ]
  },
  {
   "cell_type": "markdown",
   "metadata": {},
   "source": [
    "**В итоге я не смог найти ответа на то, по какой причине так вышло и почему данные записаны именно так. Какая-то логика в этом определенно есть. Вопрос скорее всего в том - как получают эти данные.** "
   ]
  },
  {
   "cell_type": "markdown",
   "metadata": {},
   "source": [
    "Для дальнейшего исследования данные именно этого столбца нам не поднадобятся, но пропуски заполнить нужно. Поскольку это количественная переменная, то заполняем пропуски харакерными значениями. Посчитаем медиану для каждой группы клиентов по источнику дохода и сохраним получившуюся серию в отдельную переменную... "
   ]
  },
  {
   "cell_type": "code",
   "execution_count": 13,
   "metadata": {
    "scrolled": true
   },
   "outputs": [
    {
     "data": {
      "text/plain": [
       "income_type\n",
       "безработный        366413.652744\n",
       "в декрете           -3296.759962\n",
       "госслужащий         -2689.368353\n",
       "компаньон           -1547.382223\n",
       "пенсионер          365213.306266\n",
       "предприниматель      -520.848083\n",
       "сотрудник           -1574.202821\n",
       "студент              -578.751554\n",
       "Name: days_employed, dtype: float64"
      ]
     },
     "execution_count": 13,
     "metadata": {},
     "output_type": "execute_result"
    }
   ],
   "source": [
    "days_employed_median = data.groupby('income_type')['days_employed'].median()\n",
    "days_employed_median"
   ]
  },
  {
   "cell_type": "markdown",
   "metadata": {},
   "source": [
    "...а затем заменим пропуски в каждой группе получившимися значениями. Для этого - соберем все уникальные значения источников дохода, а затем пройдемся по каждому из них, заменяя пропущенные данные столбца 'days_employed' на медианы из серии 'days_employed_median'."
   ]
  },
  {
   "cell_type": "code",
   "execution_count": 14,
   "metadata": {},
   "outputs": [],
   "source": [
    "income_type_list = data['income_type'].unique()\n",
    "\n",
    "for income_type in income_type_list:\n",
    "    new_days_employed = days_employed_median[income_type]\n",
    "    data[data['income_type'] == income_type] = data[data['income_type'] == income_type].fillna(value={'days_employed': new_days_employed})"
   ]
  },
  {
   "cell_type": "markdown",
   "metadata": {},
   "source": [
    "Ну и заодно - уберем отрицательные значения в столбце. Отрицательный рабочий стаж в днях - это странно. "
   ]
  },
  {
   "cell_type": "code",
   "execution_count": 15,
   "metadata": {},
   "outputs": [],
   "source": [
    "data['days_employed'] = abs(data['days_employed'])"
   ]
  },
  {
   "cell_type": "markdown",
   "metadata": {},
   "source": [
    "**Теперь сделаем тоже самое со столбцом total_income**"
   ]
  },
  {
   "cell_type": "markdown",
   "metadata": {},
   "source": [
    "Логика та же: люди из одной группы по типу дохода скорее всего получают более близкие друг к другу суммы. Поэтому: \n",
    "- сгруппируем по типу дохода и найдем медиану для каждой группы\n",
    "- сохраним в отдельную серию\n",
    "- заменим все пропуски в каждой группе на значения из серии с медианами"
   ]
  },
  {
   "cell_type": "code",
   "execution_count": 17,
   "metadata": {},
   "outputs": [],
   "source": [
    "total_income_median = data.groupby('income_type')['total_income'].median()"
   ]
  },
  {
   "cell_type": "code",
   "execution_count": 18,
   "metadata": {},
   "outputs": [],
   "source": [
    "for income_type in income_type_list:\n",
    "    new_total_income = total_income_median[income_type]\n",
    "    data[data['income_type'] == income_type] = data[data['income_type'] == income_type].fillna(value={'total_income': new_total_income})"
   ]
  },
  {
   "cell_type": "markdown",
   "metadata": {},
   "source": [
    "**Вывод**"
   ]
  },
  {
   "cell_type": "markdown",
   "metadata": {},
   "source": [
    "Заменили пропуски в количественных данных с помощью характерных значений - медиан.\n",
    "Обнаружили аномальные значения в столбце 'days_employed'."
   ]
  },
  {
   "cell_type": "markdown",
   "metadata": {},
   "source": [
    "### Замена типа данных"
   ]
  },
  {
   "cell_type": "markdown",
   "metadata": {},
   "source": [
    "Тип данных нужно заменить в столбце days_employed (на целочисленный), и в столбце debt (на булевый). В нужный конкретный тип значения переводят с помощью 'as_type'."
   ]
  },
  {
   "cell_type": "code",
   "execution_count": 20,
   "metadata": {},
   "outputs": [],
   "source": [
    "data['days_employed'] = data['days_employed'].astype(int)\n",
    "data['total_income'] = data['total_income'].astype(int)\n",
    "data['debt'] = data['debt'].astype(bool)"
   ]
  },
  {
   "cell_type": "markdown",
   "metadata": {},
   "source": [
    "**Вывод**"
   ]
  },
  {
   "cell_type": "markdown",
   "metadata": {},
   "source": [
    "Заменили тип данных в столбцах 'days_employed', 'total_income' и 'debt'"
   ]
  },
  {
   "cell_type": "markdown",
   "metadata": {},
   "source": [
    "### Обработка дубликатов"
   ]
  },
  {
   "cell_type": "markdown",
   "metadata": {},
   "source": [
    "Удалять дубликаты вручную в такой таблице - бессмысленно (и беспощадно). \n",
    "Пытаться вычислить неполные дубликаты тоже странно - любое отличие даже в одном столбце данных может означать то, что это просто другой клиент. Поэтому удалим только полные дубликаты с помощью drop_duplicates.\n",
    "\n",
    "Для начала посмотрим - сколько у нас полных дубликатов."
   ]
  },
  {
   "cell_type": "code",
   "execution_count": 22,
   "metadata": {},
   "outputs": [
    {
     "data": {
      "text/plain": [
       "71"
      ]
     },
     "execution_count": 22,
     "metadata": {},
     "output_type": "execute_result"
    }
   ],
   "source": [
    "data.duplicated().sum()"
   ]
  },
  {
   "cell_type": "markdown",
   "metadata": {},
   "source": [
    "Посмотрим на них, чтобы попробовать выделить причины появления. "
   ]
  },
  {
   "cell_type": "code",
   "execution_count": 23,
   "metadata": {},
   "outputs": [
    {
     "data": {
      "text/html": [
       "<div>\n",
       "<style scoped>\n",
       "    .dataframe tbody tr th:only-of-type {\n",
       "        vertical-align: middle;\n",
       "    }\n",
       "\n",
       "    .dataframe tbody tr th {\n",
       "        vertical-align: top;\n",
       "    }\n",
       "\n",
       "    .dataframe thead th {\n",
       "        text-align: right;\n",
       "    }\n",
       "</style>\n",
       "<table border=\"1\" class=\"dataframe\">\n",
       "  <thead>\n",
       "    <tr style=\"text-align: right;\">\n",
       "      <th></th>\n",
       "      <th>children</th>\n",
       "      <th>days_employed</th>\n",
       "      <th>age</th>\n",
       "      <th>education</th>\n",
       "      <th>education_id</th>\n",
       "      <th>family_status</th>\n",
       "      <th>family_status_id</th>\n",
       "      <th>gender</th>\n",
       "      <th>income_type</th>\n",
       "      <th>debt</th>\n",
       "      <th>total_income</th>\n",
       "      <th>purpose</th>\n",
       "    </tr>\n",
       "  </thead>\n",
       "  <tbody>\n",
       "    <tr>\n",
       "      <td>2849</td>\n",
       "      <td>0</td>\n",
       "      <td>1574</td>\n",
       "      <td>41</td>\n",
       "      <td>среднее</td>\n",
       "      <td>1</td>\n",
       "      <td>женат / замужем</td>\n",
       "      <td>0</td>\n",
       "      <td>F</td>\n",
       "      <td>сотрудник</td>\n",
       "      <td>False</td>\n",
       "      <td>142594</td>\n",
       "      <td>покупка жилья для семьи</td>\n",
       "    </tr>\n",
       "    <tr>\n",
       "      <td>3290</td>\n",
       "      <td>0</td>\n",
       "      <td>365213</td>\n",
       "      <td>58</td>\n",
       "      <td>среднее</td>\n",
       "      <td>1</td>\n",
       "      <td>гражданский брак</td>\n",
       "      <td>1</td>\n",
       "      <td>F</td>\n",
       "      <td>пенсионер</td>\n",
       "      <td>False</td>\n",
       "      <td>118514</td>\n",
       "      <td>сыграть свадьбу</td>\n",
       "    </tr>\n",
       "    <tr>\n",
       "      <td>4182</td>\n",
       "      <td>1</td>\n",
       "      <td>1574</td>\n",
       "      <td>34</td>\n",
       "      <td>высшее</td>\n",
       "      <td>0</td>\n",
       "      <td>гражданский брак</td>\n",
       "      <td>1</td>\n",
       "      <td>F</td>\n",
       "      <td>сотрудник</td>\n",
       "      <td>False</td>\n",
       "      <td>142594</td>\n",
       "      <td>свадьба</td>\n",
       "    </tr>\n",
       "    <tr>\n",
       "      <td>4851</td>\n",
       "      <td>0</td>\n",
       "      <td>365213</td>\n",
       "      <td>60</td>\n",
       "      <td>среднее</td>\n",
       "      <td>1</td>\n",
       "      <td>гражданский брак</td>\n",
       "      <td>1</td>\n",
       "      <td>F</td>\n",
       "      <td>пенсионер</td>\n",
       "      <td>False</td>\n",
       "      <td>118514</td>\n",
       "      <td>свадьба</td>\n",
       "    </tr>\n",
       "    <tr>\n",
       "      <td>5557</td>\n",
       "      <td>0</td>\n",
       "      <td>365213</td>\n",
       "      <td>58</td>\n",
       "      <td>среднее</td>\n",
       "      <td>1</td>\n",
       "      <td>гражданский брак</td>\n",
       "      <td>1</td>\n",
       "      <td>F</td>\n",
       "      <td>пенсионер</td>\n",
       "      <td>False</td>\n",
       "      <td>118514</td>\n",
       "      <td>сыграть свадьбу</td>\n",
       "    </tr>\n",
       "    <tr>\n",
       "      <td>6312</td>\n",
       "      <td>0</td>\n",
       "      <td>1574</td>\n",
       "      <td>30</td>\n",
       "      <td>среднее</td>\n",
       "      <td>1</td>\n",
       "      <td>женат / замужем</td>\n",
       "      <td>0</td>\n",
       "      <td>M</td>\n",
       "      <td>сотрудник</td>\n",
       "      <td>False</td>\n",
       "      <td>142594</td>\n",
       "      <td>строительство жилой недвижимости</td>\n",
       "    </tr>\n",
       "    <tr>\n",
       "      <td>7808</td>\n",
       "      <td>0</td>\n",
       "      <td>365213</td>\n",
       "      <td>57</td>\n",
       "      <td>среднее</td>\n",
       "      <td>1</td>\n",
       "      <td>гражданский брак</td>\n",
       "      <td>1</td>\n",
       "      <td>F</td>\n",
       "      <td>пенсионер</td>\n",
       "      <td>False</td>\n",
       "      <td>118514</td>\n",
       "      <td>на проведение свадьбы</td>\n",
       "    </tr>\n",
       "    <tr>\n",
       "      <td>7921</td>\n",
       "      <td>0</td>\n",
       "      <td>365213</td>\n",
       "      <td>64</td>\n",
       "      <td>высшее</td>\n",
       "      <td>0</td>\n",
       "      <td>гражданский брак</td>\n",
       "      <td>1</td>\n",
       "      <td>F</td>\n",
       "      <td>пенсионер</td>\n",
       "      <td>False</td>\n",
       "      <td>118514</td>\n",
       "      <td>на проведение свадьбы</td>\n",
       "    </tr>\n",
       "    <tr>\n",
       "      <td>7938</td>\n",
       "      <td>0</td>\n",
       "      <td>365213</td>\n",
       "      <td>71</td>\n",
       "      <td>среднее</td>\n",
       "      <td>1</td>\n",
       "      <td>гражданский брак</td>\n",
       "      <td>1</td>\n",
       "      <td>F</td>\n",
       "      <td>пенсионер</td>\n",
       "      <td>False</td>\n",
       "      <td>118514</td>\n",
       "      <td>на проведение свадьбы</td>\n",
       "    </tr>\n",
       "    <tr>\n",
       "      <td>8583</td>\n",
       "      <td>0</td>\n",
       "      <td>365213</td>\n",
       "      <td>58</td>\n",
       "      <td>высшее</td>\n",
       "      <td>0</td>\n",
       "      <td>Не женат / не замужем</td>\n",
       "      <td>4</td>\n",
       "      <td>F</td>\n",
       "      <td>пенсионер</td>\n",
       "      <td>False</td>\n",
       "      <td>118514</td>\n",
       "      <td>дополнительное образование</td>\n",
       "    </tr>\n",
       "    <tr>\n",
       "      <td>9238</td>\n",
       "      <td>2</td>\n",
       "      <td>1574</td>\n",
       "      <td>34</td>\n",
       "      <td>среднее</td>\n",
       "      <td>1</td>\n",
       "      <td>женат / замужем</td>\n",
       "      <td>0</td>\n",
       "      <td>F</td>\n",
       "      <td>сотрудник</td>\n",
       "      <td>False</td>\n",
       "      <td>142594</td>\n",
       "      <td>покупка жилья для сдачи</td>\n",
       "    </tr>\n",
       "    <tr>\n",
       "      <td>9528</td>\n",
       "      <td>0</td>\n",
       "      <td>365213</td>\n",
       "      <td>66</td>\n",
       "      <td>среднее</td>\n",
       "      <td>1</td>\n",
       "      <td>вдовец / вдова</td>\n",
       "      <td>2</td>\n",
       "      <td>F</td>\n",
       "      <td>пенсионер</td>\n",
       "      <td>False</td>\n",
       "      <td>118514</td>\n",
       "      <td>операции со своей недвижимостью</td>\n",
       "    </tr>\n",
       "    <tr>\n",
       "      <td>9604</td>\n",
       "      <td>0</td>\n",
       "      <td>365213</td>\n",
       "      <td>71</td>\n",
       "      <td>среднее</td>\n",
       "      <td>1</td>\n",
       "      <td>гражданский брак</td>\n",
       "      <td>1</td>\n",
       "      <td>F</td>\n",
       "      <td>пенсионер</td>\n",
       "      <td>False</td>\n",
       "      <td>118514</td>\n",
       "      <td>на проведение свадьбы</td>\n",
       "    </tr>\n",
       "    <tr>\n",
       "      <td>9627</td>\n",
       "      <td>0</td>\n",
       "      <td>365213</td>\n",
       "      <td>56</td>\n",
       "      <td>среднее</td>\n",
       "      <td>1</td>\n",
       "      <td>женат / замужем</td>\n",
       "      <td>0</td>\n",
       "      <td>F</td>\n",
       "      <td>пенсионер</td>\n",
       "      <td>False</td>\n",
       "      <td>118514</td>\n",
       "      <td>операции со своей недвижимостью</td>\n",
       "    </tr>\n",
       "    <tr>\n",
       "      <td>9855</td>\n",
       "      <td>0</td>\n",
       "      <td>365213</td>\n",
       "      <td>62</td>\n",
       "      <td>среднее</td>\n",
       "      <td>1</td>\n",
       "      <td>женат / замужем</td>\n",
       "      <td>0</td>\n",
       "      <td>F</td>\n",
       "      <td>пенсионер</td>\n",
       "      <td>False</td>\n",
       "      <td>118514</td>\n",
       "      <td>получение дополнительного образования</td>\n",
       "    </tr>\n",
       "  </tbody>\n",
       "</table>\n",
       "</div>"
      ],
      "text/plain": [
       "      children  days_employed  age education  education_id  \\\n",
       "2849         0           1574   41   среднее             1   \n",
       "3290         0         365213   58   среднее             1   \n",
       "4182         1           1574   34    высшее             0   \n",
       "4851         0         365213   60   среднее             1   \n",
       "5557         0         365213   58   среднее             1   \n",
       "6312         0           1574   30   среднее             1   \n",
       "7808         0         365213   57   среднее             1   \n",
       "7921         0         365213   64    высшее             0   \n",
       "7938         0         365213   71   среднее             1   \n",
       "8583         0         365213   58    высшее             0   \n",
       "9238         2           1574   34   среднее             1   \n",
       "9528         0         365213   66   среднее             1   \n",
       "9604         0         365213   71   среднее             1   \n",
       "9627         0         365213   56   среднее             1   \n",
       "9855         0         365213   62   среднее             1   \n",
       "\n",
       "              family_status  family_status_id gender income_type   debt  \\\n",
       "2849        женат / замужем                 0      F   сотрудник  False   \n",
       "3290       гражданский брак                 1      F   пенсионер  False   \n",
       "4182       гражданский брак                 1      F   сотрудник  False   \n",
       "4851       гражданский брак                 1      F   пенсионер  False   \n",
       "5557       гражданский брак                 1      F   пенсионер  False   \n",
       "6312        женат / замужем                 0      M   сотрудник  False   \n",
       "7808       гражданский брак                 1      F   пенсионер  False   \n",
       "7921       гражданский брак                 1      F   пенсионер  False   \n",
       "7938       гражданский брак                 1      F   пенсионер  False   \n",
       "8583  Не женат / не замужем                 4      F   пенсионер  False   \n",
       "9238        женат / замужем                 0      F   сотрудник  False   \n",
       "9528         вдовец / вдова                 2      F   пенсионер  False   \n",
       "9604       гражданский брак                 1      F   пенсионер  False   \n",
       "9627        женат / замужем                 0      F   пенсионер  False   \n",
       "9855        женат / замужем                 0      F   пенсионер  False   \n",
       "\n",
       "      total_income                                purpose  \n",
       "2849        142594                покупка жилья для семьи  \n",
       "3290        118514                        сыграть свадьбу  \n",
       "4182        142594                                свадьба  \n",
       "4851        118514                                свадьба  \n",
       "5557        118514                        сыграть свадьбу  \n",
       "6312        142594       строительство жилой недвижимости  \n",
       "7808        118514                  на проведение свадьбы  \n",
       "7921        118514                  на проведение свадьбы  \n",
       "7938        118514                  на проведение свадьбы  \n",
       "8583        118514             дополнительное образование  \n",
       "9238        142594                покупка жилья для сдачи  \n",
       "9528        118514        операции со своей недвижимостью  \n",
       "9604        118514                  на проведение свадьбы  \n",
       "9627        118514        операции со своей недвижимостью  \n",
       "9855        118514  получение дополнительного образования  "
      ]
     },
     "execution_count": 23,
     "metadata": {},
     "output_type": "execute_result"
    }
   ],
   "source": [
    "data[data.duplicated() == True].head(15)"
   ]
  },
  {
   "cell_type": "markdown",
   "metadata": {},
   "source": [
    "Интересно, что во всех показанных строках изначально не были определены значения в столбцах со стажем и доходом. На мой взгляд дубликаты могли появиться из-за того, что клиенты подавали несколько заявок на кредит и поэтому не один раз остались в базе данных. "
   ]
  },
  {
   "cell_type": "markdown",
   "metadata": {},
   "source": [
    "Удалим дубликаты (обновив индексы) и снова выведем количество дубликатов, чтобы убедиться, что все сработало. "
   ]
  },
  {
   "cell_type": "code",
   "execution_count": 24,
   "metadata": {},
   "outputs": [
    {
     "data": {
      "text/plain": [
       "0"
      ]
     },
     "execution_count": 24,
     "metadata": {},
     "output_type": "execute_result"
    }
   ],
   "source": [
    "data = data.drop_duplicates().reset_index(drop=True)\n",
    "data.duplicated().sum()"
   ]
  },
  {
   "cell_type": "markdown",
   "metadata": {},
   "source": [
    "**Вывод**"
   ]
  },
  {
   "cell_type": "markdown",
   "metadata": {},
   "source": [
    "Удалили 71 строчку с полными дубликатами. "
   ]
  },
  {
   "cell_type": "markdown",
   "metadata": {},
   "source": [
    "### Лемматизация"
   ]
  },
  {
   "cell_type": "markdown",
   "metadata": {},
   "source": [
    "Леммы пригодятся нам для того, чтобы категоризировать цели получения кредита. Импортируем библиотеку для работы с лемматизацией."
   ]
  },
  {
   "cell_type": "code",
   "execution_count": 25,
   "metadata": {},
   "outputs": [],
   "source": [
    "from pymystem3 import Mystem\n",
    "m = Mystem()"
   ]
  },
  {
   "cell_type": "markdown",
   "metadata": {},
   "source": [
    "Создаем новый столбец и сохраняем там леммы каждой строчки. Сразу выведем таблицу и посмотрим результат работы."
   ]
  },
  {
   "cell_type": "code",
   "execution_count": 26,
   "metadata": {},
   "outputs": [
    {
     "data": {
      "text/html": [
       "<div>\n",
       "<style scoped>\n",
       "    .dataframe tbody tr th:only-of-type {\n",
       "        vertical-align: middle;\n",
       "    }\n",
       "\n",
       "    .dataframe tbody tr th {\n",
       "        vertical-align: top;\n",
       "    }\n",
       "\n",
       "    .dataframe thead th {\n",
       "        text-align: right;\n",
       "    }\n",
       "</style>\n",
       "<table border=\"1\" class=\"dataframe\">\n",
       "  <thead>\n",
       "    <tr style=\"text-align: right;\">\n",
       "      <th></th>\n",
       "      <th>children</th>\n",
       "      <th>days_employed</th>\n",
       "      <th>age</th>\n",
       "      <th>education</th>\n",
       "      <th>education_id</th>\n",
       "      <th>family_status</th>\n",
       "      <th>family_status_id</th>\n",
       "      <th>gender</th>\n",
       "      <th>income_type</th>\n",
       "      <th>debt</th>\n",
       "      <th>total_income</th>\n",
       "      <th>purpose</th>\n",
       "      <th>purpose_lemmas</th>\n",
       "    </tr>\n",
       "  </thead>\n",
       "  <tbody>\n",
       "    <tr>\n",
       "      <td>0</td>\n",
       "      <td>1</td>\n",
       "      <td>8437</td>\n",
       "      <td>42</td>\n",
       "      <td>высшее</td>\n",
       "      <td>0</td>\n",
       "      <td>женат / замужем</td>\n",
       "      <td>0</td>\n",
       "      <td>F</td>\n",
       "      <td>сотрудник</td>\n",
       "      <td>False</td>\n",
       "      <td>253875</td>\n",
       "      <td>покупка жилья</td>\n",
       "      <td>[покупка,  , жилье, \\n]</td>\n",
       "    </tr>\n",
       "    <tr>\n",
       "      <td>1</td>\n",
       "      <td>1</td>\n",
       "      <td>4024</td>\n",
       "      <td>36</td>\n",
       "      <td>среднее</td>\n",
       "      <td>1</td>\n",
       "      <td>женат / замужем</td>\n",
       "      <td>0</td>\n",
       "      <td>F</td>\n",
       "      <td>сотрудник</td>\n",
       "      <td>False</td>\n",
       "      <td>112080</td>\n",
       "      <td>приобретение автомобиля</td>\n",
       "      <td>[приобретение,  , автомобиль, \\n]</td>\n",
       "    </tr>\n",
       "    <tr>\n",
       "      <td>2</td>\n",
       "      <td>0</td>\n",
       "      <td>5623</td>\n",
       "      <td>33</td>\n",
       "      <td>среднее</td>\n",
       "      <td>1</td>\n",
       "      <td>женат / замужем</td>\n",
       "      <td>0</td>\n",
       "      <td>M</td>\n",
       "      <td>сотрудник</td>\n",
       "      <td>False</td>\n",
       "      <td>145885</td>\n",
       "      <td>покупка жилья</td>\n",
       "      <td>[покупка,  , жилье, \\n]</td>\n",
       "    </tr>\n",
       "    <tr>\n",
       "      <td>3</td>\n",
       "      <td>3</td>\n",
       "      <td>4124</td>\n",
       "      <td>32</td>\n",
       "      <td>среднее</td>\n",
       "      <td>1</td>\n",
       "      <td>женат / замужем</td>\n",
       "      <td>0</td>\n",
       "      <td>M</td>\n",
       "      <td>сотрудник</td>\n",
       "      <td>False</td>\n",
       "      <td>267628</td>\n",
       "      <td>дополнительное образование</td>\n",
       "      <td>[дополнительный,  , образование, \\n]</td>\n",
       "    </tr>\n",
       "    <tr>\n",
       "      <td>4</td>\n",
       "      <td>0</td>\n",
       "      <td>340266</td>\n",
       "      <td>53</td>\n",
       "      <td>среднее</td>\n",
       "      <td>1</td>\n",
       "      <td>гражданский брак</td>\n",
       "      <td>1</td>\n",
       "      <td>F</td>\n",
       "      <td>пенсионер</td>\n",
       "      <td>False</td>\n",
       "      <td>158616</td>\n",
       "      <td>сыграть свадьбу</td>\n",
       "      <td>[сыграть,  , свадьба, \\n]</td>\n",
       "    </tr>\n",
       "  </tbody>\n",
       "</table>\n",
       "</div>"
      ],
      "text/plain": [
       "   children  days_employed  age education  education_id     family_status  \\\n",
       "0         1           8437   42    высшее             0   женат / замужем   \n",
       "1         1           4024   36   среднее             1   женат / замужем   \n",
       "2         0           5623   33   среднее             1   женат / замужем   \n",
       "3         3           4124   32   среднее             1   женат / замужем   \n",
       "4         0         340266   53   среднее             1  гражданский брак   \n",
       "\n",
       "   family_status_id gender income_type   debt  total_income  \\\n",
       "0                 0      F   сотрудник  False        253875   \n",
       "1                 0      F   сотрудник  False        112080   \n",
       "2                 0      M   сотрудник  False        145885   \n",
       "3                 0      M   сотрудник  False        267628   \n",
       "4                 1      F   пенсионер  False        158616   \n",
       "\n",
       "                      purpose                        purpose_lemmas  \n",
       "0               покупка жилья               [покупка,  , жилье, \\n]  \n",
       "1     приобретение автомобиля     [приобретение,  , автомобиль, \\n]  \n",
       "2               покупка жилья               [покупка,  , жилье, \\n]  \n",
       "3  дополнительное образование  [дополнительный,  , образование, \\n]  \n",
       "4             сыграть свадьбу             [сыграть,  , свадьба, \\n]  "
      ]
     },
     "execution_count": 26,
     "metadata": {},
     "output_type": "execute_result"
    }
   ],
   "source": [
    "data['purpose_lemmas'] = data['purpose'].apply(m.lemmatize)\n",
    "data.head()"
   ]
  },
  {
   "cell_type": "markdown",
   "metadata": {},
   "source": [
    "Есть нюанс. Преобразуя строку в леммы, функция лемматизации сохраняет также символы пробелов и переносов на новую строку. Нам они не нужны. Напишем функцию, которая их удалит. \n",
    "Она будет получать на вход строку, считать количество пробелов в ней, а затем удалять их все, вместе с символом перехода на новую строку. "
   ]
  },
  {
   "cell_type": "code",
   "execution_count": 27,
   "metadata": {},
   "outputs": [],
   "source": [
    "def space_and_enter_remover(string):\n",
    "    space_count = string.count(' ')\n",
    "    for i in range(space_count):\n",
    "        string.remove(' ')\n",
    "    string.remove('\\n')\n",
    "    return string"
   ]
  },
  {
   "cell_type": "markdown",
   "metadata": {},
   "source": [
    "И применим функцию ко всем значениям в столбце 'purpose_lemmas'. Снова выведем таблицу, чтобы проверить работу функции."
   ]
  },
  {
   "cell_type": "code",
   "execution_count": 28,
   "metadata": {},
   "outputs": [
    {
     "data": {
      "text/html": [
       "<div>\n",
       "<style scoped>\n",
       "    .dataframe tbody tr th:only-of-type {\n",
       "        vertical-align: middle;\n",
       "    }\n",
       "\n",
       "    .dataframe tbody tr th {\n",
       "        vertical-align: top;\n",
       "    }\n",
       "\n",
       "    .dataframe thead th {\n",
       "        text-align: right;\n",
       "    }\n",
       "</style>\n",
       "<table border=\"1\" class=\"dataframe\">\n",
       "  <thead>\n",
       "    <tr style=\"text-align: right;\">\n",
       "      <th></th>\n",
       "      <th>children</th>\n",
       "      <th>days_employed</th>\n",
       "      <th>age</th>\n",
       "      <th>education</th>\n",
       "      <th>education_id</th>\n",
       "      <th>family_status</th>\n",
       "      <th>family_status_id</th>\n",
       "      <th>gender</th>\n",
       "      <th>income_type</th>\n",
       "      <th>debt</th>\n",
       "      <th>total_income</th>\n",
       "      <th>purpose</th>\n",
       "      <th>purpose_lemmas</th>\n",
       "    </tr>\n",
       "  </thead>\n",
       "  <tbody>\n",
       "    <tr>\n",
       "      <td>0</td>\n",
       "      <td>1</td>\n",
       "      <td>8437</td>\n",
       "      <td>42</td>\n",
       "      <td>высшее</td>\n",
       "      <td>0</td>\n",
       "      <td>женат / замужем</td>\n",
       "      <td>0</td>\n",
       "      <td>F</td>\n",
       "      <td>сотрудник</td>\n",
       "      <td>False</td>\n",
       "      <td>253875</td>\n",
       "      <td>покупка жилья</td>\n",
       "      <td>[покупка, жилье]</td>\n",
       "    </tr>\n",
       "    <tr>\n",
       "      <td>1</td>\n",
       "      <td>1</td>\n",
       "      <td>4024</td>\n",
       "      <td>36</td>\n",
       "      <td>среднее</td>\n",
       "      <td>1</td>\n",
       "      <td>женат / замужем</td>\n",
       "      <td>0</td>\n",
       "      <td>F</td>\n",
       "      <td>сотрудник</td>\n",
       "      <td>False</td>\n",
       "      <td>112080</td>\n",
       "      <td>приобретение автомобиля</td>\n",
       "      <td>[приобретение, автомобиль]</td>\n",
       "    </tr>\n",
       "    <tr>\n",
       "      <td>2</td>\n",
       "      <td>0</td>\n",
       "      <td>5623</td>\n",
       "      <td>33</td>\n",
       "      <td>среднее</td>\n",
       "      <td>1</td>\n",
       "      <td>женат / замужем</td>\n",
       "      <td>0</td>\n",
       "      <td>M</td>\n",
       "      <td>сотрудник</td>\n",
       "      <td>False</td>\n",
       "      <td>145885</td>\n",
       "      <td>покупка жилья</td>\n",
       "      <td>[покупка, жилье]</td>\n",
       "    </tr>\n",
       "    <tr>\n",
       "      <td>3</td>\n",
       "      <td>3</td>\n",
       "      <td>4124</td>\n",
       "      <td>32</td>\n",
       "      <td>среднее</td>\n",
       "      <td>1</td>\n",
       "      <td>женат / замужем</td>\n",
       "      <td>0</td>\n",
       "      <td>M</td>\n",
       "      <td>сотрудник</td>\n",
       "      <td>False</td>\n",
       "      <td>267628</td>\n",
       "      <td>дополнительное образование</td>\n",
       "      <td>[дополнительный, образование]</td>\n",
       "    </tr>\n",
       "    <tr>\n",
       "      <td>4</td>\n",
       "      <td>0</td>\n",
       "      <td>340266</td>\n",
       "      <td>53</td>\n",
       "      <td>среднее</td>\n",
       "      <td>1</td>\n",
       "      <td>гражданский брак</td>\n",
       "      <td>1</td>\n",
       "      <td>F</td>\n",
       "      <td>пенсионер</td>\n",
       "      <td>False</td>\n",
       "      <td>158616</td>\n",
       "      <td>сыграть свадьбу</td>\n",
       "      <td>[сыграть, свадьба]</td>\n",
       "    </tr>\n",
       "  </tbody>\n",
       "</table>\n",
       "</div>"
      ],
      "text/plain": [
       "   children  days_employed  age education  education_id     family_status  \\\n",
       "0         1           8437   42    высшее             0   женат / замужем   \n",
       "1         1           4024   36   среднее             1   женат / замужем   \n",
       "2         0           5623   33   среднее             1   женат / замужем   \n",
       "3         3           4124   32   среднее             1   женат / замужем   \n",
       "4         0         340266   53   среднее             1  гражданский брак   \n",
       "\n",
       "   family_status_id gender income_type   debt  total_income  \\\n",
       "0                 0      F   сотрудник  False        253875   \n",
       "1                 0      F   сотрудник  False        112080   \n",
       "2                 0      M   сотрудник  False        145885   \n",
       "3                 0      M   сотрудник  False        267628   \n",
       "4                 1      F   пенсионер  False        158616   \n",
       "\n",
       "                      purpose                 purpose_lemmas  \n",
       "0               покупка жилья               [покупка, жилье]  \n",
       "1     приобретение автомобиля     [приобретение, автомобиль]  \n",
       "2               покупка жилья               [покупка, жилье]  \n",
       "3  дополнительное образование  [дополнительный, образование]  \n",
       "4             сыграть свадьбу             [сыграть, свадьба]  "
      ]
     },
     "execution_count": 28,
     "metadata": {},
     "output_type": "execute_result"
    }
   ],
   "source": [
    "data['purpose_lemmas'] = data['purpose_lemmas'].apply(space_and_enter_remover)\n",
    "data.head()"
   ]
  },
  {
   "cell_type": "markdown",
   "metadata": {},
   "source": [
    "**Вуаля! Столбец с леммами создан**"
   ]
  },
  {
   "cell_type": "markdown",
   "metadata": {},
   "source": [
    "### Категоризация данных"
   ]
  },
  {
   "cell_type": "markdown",
   "metadata": {},
   "source": [
    "В проекте нас ожидает работа над двумя столбцами, данные по которым нужно категоризировать. Это столбцы с целями кредитов и уровнем дохода. "
   ]
  },
  {
   "cell_type": "markdown",
   "metadata": {},
   "source": [
    "**Категоризируем данные по уровню дохода**"
   ]
  },
  {
   "cell_type": "markdown",
   "metadata": {},
   "source": [
    "Посмотрим на общую информацию по данным"
   ]
  },
  {
   "cell_type": "code",
   "execution_count": 29,
   "metadata": {},
   "outputs": [
    {
     "data": {
      "text/plain": [
       "count    2.145400e+04\n",
       "mean     1.653196e+05\n",
       "std      9.818730e+04\n",
       "min      2.066700e+04\n",
       "25%      1.076230e+05\n",
       "50%      1.425940e+05\n",
       "75%      1.958202e+05\n",
       "max      2.265604e+06\n",
       "Name: total_income, dtype: float64"
      ]
     },
     "execution_count": 29,
     "metadata": {},
     "output_type": "execute_result"
    }
   ],
   "source": [
    "data['total_income'].describe()"
   ]
  },
  {
   "cell_type": "code",
   "execution_count": 30,
   "metadata": {},
   "outputs": [
    {
     "name": "stdout",
     "output_type": "stream",
     "text": [
      "<class 'pandas.core.frame.DataFrame'>\n",
      "RangeIndex: 21454 entries, 0 to 21453\n",
      "Data columns (total 13 columns):\n",
      "children            21454 non-null int64\n",
      "days_employed       21454 non-null int64\n",
      "age                 21454 non-null int64\n",
      "education           21454 non-null object\n",
      "education_id        21454 non-null int64\n",
      "family_status       21454 non-null object\n",
      "family_status_id    21454 non-null int64\n",
      "gender              21454 non-null object\n",
      "income_type         21454 non-null object\n",
      "debt                21454 non-null bool\n",
      "total_income        21454 non-null int64\n",
      "purpose             21454 non-null object\n",
      "purpose_lemmas      21454 non-null object\n",
      "dtypes: bool(1), int64(6), object(6)\n",
      "memory usage: 2.0+ MB\n"
     ]
    }
   ],
   "source": [
    "data.info()"
   ]
  },
  {
   "cell_type": "markdown",
   "metadata": {},
   "source": [
    "В интернете я нашел следующий подход к делению, который зависит от медианной зарплаты:\n",
    "- меньше 0,75 медиан - низкий доход\n",
    "- 0,75 - 1,25 медианы - медианная группа (средний доход)\n",
    "- 1,25 - 2 медианы - выше среднего\n",
    "- 2 - 4 медианы - обеспеченные\n",
    "- больше 4 медиан - состоятельные\n",
    "\n",
    "Медианная зарплата в России на 2020 год равнялась 32 422 рублей. Следовательно, наши группы будут выглядеть следующим образом (с учетом небольшого округления):\n",
    "\n",
    "- меньше 24 т.р - низкий доход\n",
    "- от 24 до 40 - средний доход\n",
    "- от 40 до 65 - выше среднего\n",
    "- от 65 до 130 - обеспеченные\n",
    "- выше 130 - состоятельные\n",
    "\n",
    "Попробовав разбить их таким образом я столкнулся с тем, что группы получаются очень неравномерные и состоятельных людей среди них больше всего. Поэтому используем другой способ. Разобъем данные на группы равного размера и категоризируем их. Для этого нам поднадобится метод qcut. Применим метод qcut к столбу 'total_income', разделив данные на 4 интервала и передадим ему переменную с названиями всех категорий."
   ]
  },
  {
   "cell_type": "code",
   "execution_count": 31,
   "metadata": {},
   "outputs": [
    {
     "data": {
      "text/html": [
       "<div>\n",
       "<style scoped>\n",
       "    .dataframe tbody tr th:only-of-type {\n",
       "        vertical-align: middle;\n",
       "    }\n",
       "\n",
       "    .dataframe tbody tr th {\n",
       "        vertical-align: top;\n",
       "    }\n",
       "\n",
       "    .dataframe thead th {\n",
       "        text-align: right;\n",
       "    }\n",
       "</style>\n",
       "<table border=\"1\" class=\"dataframe\">\n",
       "  <thead>\n",
       "    <tr style=\"text-align: right;\">\n",
       "      <th></th>\n",
       "      <th>children</th>\n",
       "      <th>days_employed</th>\n",
       "      <th>age</th>\n",
       "      <th>education</th>\n",
       "      <th>education_id</th>\n",
       "      <th>family_status</th>\n",
       "      <th>family_status_id</th>\n",
       "      <th>gender</th>\n",
       "      <th>income_type</th>\n",
       "      <th>debt</th>\n",
       "      <th>total_income</th>\n",
       "      <th>purpose</th>\n",
       "      <th>purpose_lemmas</th>\n",
       "      <th>income_category</th>\n",
       "    </tr>\n",
       "  </thead>\n",
       "  <tbody>\n",
       "    <tr>\n",
       "      <td>0</td>\n",
       "      <td>1</td>\n",
       "      <td>8437</td>\n",
       "      <td>42</td>\n",
       "      <td>высшее</td>\n",
       "      <td>0</td>\n",
       "      <td>женат / замужем</td>\n",
       "      <td>0</td>\n",
       "      <td>F</td>\n",
       "      <td>сотрудник</td>\n",
       "      <td>False</td>\n",
       "      <td>253875</td>\n",
       "      <td>покупка жилья</td>\n",
       "      <td>[покупка, жилье]</td>\n",
       "      <td>обсепеченные</td>\n",
       "    </tr>\n",
       "    <tr>\n",
       "      <td>1</td>\n",
       "      <td>1</td>\n",
       "      <td>4024</td>\n",
       "      <td>36</td>\n",
       "      <td>среднее</td>\n",
       "      <td>1</td>\n",
       "      <td>женат / замужем</td>\n",
       "      <td>0</td>\n",
       "      <td>F</td>\n",
       "      <td>сотрудник</td>\n",
       "      <td>False</td>\n",
       "      <td>112080</td>\n",
       "      <td>приобретение автомобиля</td>\n",
       "      <td>[приобретение, автомобиль]</td>\n",
       "      <td>средний</td>\n",
       "    </tr>\n",
       "    <tr>\n",
       "      <td>2</td>\n",
       "      <td>0</td>\n",
       "      <td>5623</td>\n",
       "      <td>33</td>\n",
       "      <td>среднее</td>\n",
       "      <td>1</td>\n",
       "      <td>женат / замужем</td>\n",
       "      <td>0</td>\n",
       "      <td>M</td>\n",
       "      <td>сотрудник</td>\n",
       "      <td>False</td>\n",
       "      <td>145885</td>\n",
       "      <td>покупка жилья</td>\n",
       "      <td>[покупка, жилье]</td>\n",
       "      <td>выше среднего</td>\n",
       "    </tr>\n",
       "    <tr>\n",
       "      <td>3</td>\n",
       "      <td>3</td>\n",
       "      <td>4124</td>\n",
       "      <td>32</td>\n",
       "      <td>среднее</td>\n",
       "      <td>1</td>\n",
       "      <td>женат / замужем</td>\n",
       "      <td>0</td>\n",
       "      <td>M</td>\n",
       "      <td>сотрудник</td>\n",
       "      <td>False</td>\n",
       "      <td>267628</td>\n",
       "      <td>дополнительное образование</td>\n",
       "      <td>[дополнительный, образование]</td>\n",
       "      <td>обсепеченные</td>\n",
       "    </tr>\n",
       "    <tr>\n",
       "      <td>4</td>\n",
       "      <td>0</td>\n",
       "      <td>340266</td>\n",
       "      <td>53</td>\n",
       "      <td>среднее</td>\n",
       "      <td>1</td>\n",
       "      <td>гражданский брак</td>\n",
       "      <td>1</td>\n",
       "      <td>F</td>\n",
       "      <td>пенсионер</td>\n",
       "      <td>False</td>\n",
       "      <td>158616</td>\n",
       "      <td>сыграть свадьбу</td>\n",
       "      <td>[сыграть, свадьба]</td>\n",
       "      <td>выше среднего</td>\n",
       "    </tr>\n",
       "  </tbody>\n",
       "</table>\n",
       "</div>"
      ],
      "text/plain": [
       "   children  days_employed  age education  education_id     family_status  \\\n",
       "0         1           8437   42    высшее             0   женат / замужем   \n",
       "1         1           4024   36   среднее             1   женат / замужем   \n",
       "2         0           5623   33   среднее             1   женат / замужем   \n",
       "3         3           4124   32   среднее             1   женат / замужем   \n",
       "4         0         340266   53   среднее             1  гражданский брак   \n",
       "\n",
       "   family_status_id gender income_type   debt  total_income  \\\n",
       "0                 0      F   сотрудник  False        253875   \n",
       "1                 0      F   сотрудник  False        112080   \n",
       "2                 0      M   сотрудник  False        145885   \n",
       "3                 0      M   сотрудник  False        267628   \n",
       "4                 1      F   пенсионер  False        158616   \n",
       "\n",
       "                      purpose                 purpose_lemmas income_category  \n",
       "0               покупка жилья               [покупка, жилье]    обсепеченные  \n",
       "1     приобретение автомобиля     [приобретение, автомобиль]         средний  \n",
       "2               покупка жилья               [покупка, жилье]   выше среднего  \n",
       "3  дополнительное образование  [дополнительный, образование]    обсепеченные  \n",
       "4             сыграть свадьбу             [сыграть, свадьба]   выше среднего  "
      ]
     },
     "execution_count": 31,
     "metadata": {},
     "output_type": "execute_result"
    }
   ],
   "source": [
    "income_categories = ['низкий', 'средний', 'выше среднего', 'обсепеченные']\n",
    "\n",
    "data['income_category'] = pd.qcut(data['total_income'], q=4, labels=income_categories)\n",
    "data.head()"
   ]
  },
  {
   "cell_type": "markdown",
   "metadata": {},
   "source": [
    "**Категоризируем данные по целям кредита**"
   ]
  },
  {
   "cell_type": "markdown",
   "metadata": {},
   "source": [
    "Чтобы определить категории - посмотрим на все имеющиеся значения столбца и разделим их по смыслу. "
   ]
  },
  {
   "cell_type": "code",
   "execution_count": 32,
   "metadata": {},
   "outputs": [
    {
     "data": {
      "text/plain": [
       "[автомобиль]                                  972\n",
       "[свадьба]                                     791\n",
       "[на, проведение, свадьба]                     768\n",
       "[сыграть, свадьба]                            765\n",
       "[операция, с, недвижимость]                   675\n",
       "[покупка, коммерческий, недвижимость]         661\n",
       "[операция, с, жилье]                          652\n",
       "[покупка, жилье, для, сдача]                  651\n",
       "[операция, с, коммерческий, недвижимость]     650\n",
       "[покупка, жилье]                              646\n",
       "[жилье]                                       646\n",
       "[покупка, жилье, для, семья]                  638\n",
       "[строительство, собственный, недвижимость]    635\n",
       "[недвижимость]                                633\n",
       "[операция, со, свой, недвижимость]            627\n",
       "[строительство, жилой, недвижимость]          624\n",
       "[покупка, недвижимость]                       621\n",
       "[покупка, свой, жилье]                        620\n",
       "[строительство, недвижимость]                 619\n",
       "[ремонт, жилье]                               607\n",
       "[покупка, жилой, недвижимость]                606\n",
       "[на, покупка, свой, автомобиль]               505\n",
       "[заниматься, высокий, образование]            496\n",
       "[сделка, с, подержанный, автомобиль]          486\n",
       "[свой, автомобиль]                            478\n",
       "[на, покупка, подержать, автомобиль]          478\n",
       "[на, покупка, автомобиль]                     471\n",
       "[приобретение, автомобиль]                    461\n",
       "[дополнительный, образование]                 460\n",
       "[сделка, с, автомобиль]                       455\n",
       "[высокий, образование]                        452\n",
       "[образование]                                 447\n",
       "[получение, дополнительный, образование]      446\n",
       "[получение, образование]                      442\n",
       "[профильный, образование]                     436\n",
       "[получение, высокий, образование]             426\n",
       "[заниматься, образование]                     408\n",
       "Name: purpose_lemmas, dtype: int64"
      ]
     },
     "execution_count": 32,
     "metadata": {},
     "output_type": "execute_result"
    }
   ],
   "source": [
    "data['purpose_lemmas'].value_counts()"
   ]
  },
  {
   "cell_type": "markdown",
   "metadata": {},
   "source": [
    "Вижу следующие уникальные группы: \n",
    "- автомобиль\n",
    "- свадьба\n",
    "- образование\n",
    "- жилье/недвижимость(надо учитывать оба слова, ведь это одно и то же)\n",
    "- коммерческая недвижимость. \n",
    "\n",
    "Напишем функцию, которая получает на вход строку с леммами и возвращает категорию."
   ]
  },
  {
   "cell_type": "code",
   "execution_count": 33,
   "metadata": {},
   "outputs": [],
   "source": [
    "def purpose_category_definder(purpose_lemmas):\n",
    "    if ('жилье' in purpose_lemmas) or ('недвижимость' in purpose_lemmas) and ('коммерческий' not in purpose_lemmas):\n",
    "        purpose_category = 'жилая недвижимость'\n",
    "    elif ('коммерческий' in purpose_lemmas):\n",
    "        purpose_category = 'коммерческая недвижимость'\n",
    "    elif ('автомобиль' in purpose_lemmas):\n",
    "        purpose_category = 'автомобиль'\n",
    "    elif ('образование' in purpose_lemmas):\n",
    "        purpose_category = 'образование'\n",
    "    elif ('свадьба' in purpose_lemmas):\n",
    "        purpose_category = 'свадьба'\n",
    "    #на всякий случай оставим команду, которая присваивает иную категорию леммам, не прошедшим условия \n",
    "    #если мы увидим ее в дальнейшем, значит какие-то леммы прошли мимо условий и мы сделали ошибку\n",
    "    #это будет для нас проверкой корректной работы\n",
    "    else:\n",
    "        purpose_category = 'иная категория'\n",
    "    \n",
    "    return purpose_category"
   ]
  },
  {
   "cell_type": "markdown",
   "metadata": {},
   "source": [
    "Применим функцию и создадим новый столбец"
   ]
  },
  {
   "cell_type": "code",
   "execution_count": 34,
   "metadata": {},
   "outputs": [],
   "source": [
    "data['purpose_category'] = data['purpose_lemmas'].apply(purpose_category_definder)"
   ]
  },
  {
   "cell_type": "markdown",
   "metadata": {},
   "source": [
    "### Cловари"
   ]
  },
  {
   "cell_type": "markdown",
   "metadata": {},
   "source": [
    "Пары столбцов education + education_id и family_status + family_status_id  - взаимозаменяемы. \n",
    "Похоже на то, что надо создать словари с ними. Выделим каждую пару в отдельный словарь, удалим из него дубликаты, а затем уберем строковые столбцы из общей таблицы. "
   ]
  },
  {
   "cell_type": "code",
   "execution_count": 35,
   "metadata": {},
   "outputs": [
    {
     "data": {
      "text/html": [
       "<div>\n",
       "<style scoped>\n",
       "    .dataframe tbody tr th:only-of-type {\n",
       "        vertical-align: middle;\n",
       "    }\n",
       "\n",
       "    .dataframe tbody tr th {\n",
       "        vertical-align: top;\n",
       "    }\n",
       "\n",
       "    .dataframe thead th {\n",
       "        text-align: right;\n",
       "    }\n",
       "</style>\n",
       "<table border=\"1\" class=\"dataframe\">\n",
       "  <thead>\n",
       "    <tr style=\"text-align: right;\">\n",
       "      <th></th>\n",
       "      <th>education_id</th>\n",
       "      <th>education</th>\n",
       "    </tr>\n",
       "  </thead>\n",
       "  <tbody>\n",
       "    <tr>\n",
       "      <td>0</td>\n",
       "      <td>0</td>\n",
       "      <td>высшее</td>\n",
       "    </tr>\n",
       "    <tr>\n",
       "      <td>1</td>\n",
       "      <td>1</td>\n",
       "      <td>среднее</td>\n",
       "    </tr>\n",
       "    <tr>\n",
       "      <td>2</td>\n",
       "      <td>2</td>\n",
       "      <td>неоконченное высшее</td>\n",
       "    </tr>\n",
       "    <tr>\n",
       "      <td>3</td>\n",
       "      <td>3</td>\n",
       "      <td>начальное</td>\n",
       "    </tr>\n",
       "    <tr>\n",
       "      <td>4</td>\n",
       "      <td>4</td>\n",
       "      <td>ученая степень</td>\n",
       "    </tr>\n",
       "  </tbody>\n",
       "</table>\n",
       "</div>"
      ],
      "text/plain": [
       "   education_id            education\n",
       "0             0               высшее\n",
       "1             1              среднее\n",
       "2             2  неоконченное высшее\n",
       "3             3            начальное\n",
       "4             4       ученая степень"
      ]
     },
     "execution_count": 35,
     "metadata": {},
     "output_type": "execute_result"
    }
   ],
   "source": [
    "education_dict = data[['education_id','education']]\n",
    "education_dict = education_dict.drop_duplicates().reset_index(drop=True)\n",
    "education_dict"
   ]
  },
  {
   "cell_type": "code",
   "execution_count": 36,
   "metadata": {},
   "outputs": [
    {
     "data": {
      "text/html": [
       "<div>\n",
       "<style scoped>\n",
       "    .dataframe tbody tr th:only-of-type {\n",
       "        vertical-align: middle;\n",
       "    }\n",
       "\n",
       "    .dataframe tbody tr th {\n",
       "        vertical-align: top;\n",
       "    }\n",
       "\n",
       "    .dataframe thead th {\n",
       "        text-align: right;\n",
       "    }\n",
       "</style>\n",
       "<table border=\"1\" class=\"dataframe\">\n",
       "  <thead>\n",
       "    <tr style=\"text-align: right;\">\n",
       "      <th></th>\n",
       "      <th>family_status_id</th>\n",
       "      <th>family_status</th>\n",
       "    </tr>\n",
       "  </thead>\n",
       "  <tbody>\n",
       "    <tr>\n",
       "      <td>0</td>\n",
       "      <td>0</td>\n",
       "      <td>женат / замужем</td>\n",
       "    </tr>\n",
       "    <tr>\n",
       "      <td>1</td>\n",
       "      <td>1</td>\n",
       "      <td>гражданский брак</td>\n",
       "    </tr>\n",
       "    <tr>\n",
       "      <td>2</td>\n",
       "      <td>2</td>\n",
       "      <td>вдовец / вдова</td>\n",
       "    </tr>\n",
       "    <tr>\n",
       "      <td>3</td>\n",
       "      <td>3</td>\n",
       "      <td>в разводе</td>\n",
       "    </tr>\n",
       "    <tr>\n",
       "      <td>4</td>\n",
       "      <td>4</td>\n",
       "      <td>Не женат / не замужем</td>\n",
       "    </tr>\n",
       "  </tbody>\n",
       "</table>\n",
       "</div>"
      ],
      "text/plain": [
       "   family_status_id          family_status\n",
       "0                 0        женат / замужем\n",
       "1                 1       гражданский брак\n",
       "2                 2         вдовец / вдова\n",
       "3                 3              в разводе\n",
       "4                 4  Не женат / не замужем"
      ]
     },
     "execution_count": 36,
     "metadata": {},
     "output_type": "execute_result"
    }
   ],
   "source": [
    "family_status_dict = data[['family_status_id','family_status']]\n",
    "family_status_dict = family_status_dict.drop_duplicates().reset_index(drop=True)\n",
    "family_status_dict"
   ]
  },
  {
   "cell_type": "code",
   "execution_count": 37,
   "metadata": {},
   "outputs": [
    {
     "data": {
      "text/html": [
       "<div>\n",
       "<style scoped>\n",
       "    .dataframe tbody tr th:only-of-type {\n",
       "        vertical-align: middle;\n",
       "    }\n",
       "\n",
       "    .dataframe tbody tr th {\n",
       "        vertical-align: top;\n",
       "    }\n",
       "\n",
       "    .dataframe thead th {\n",
       "        text-align: right;\n",
       "    }\n",
       "</style>\n",
       "<table border=\"1\" class=\"dataframe\">\n",
       "  <thead>\n",
       "    <tr style=\"text-align: right;\">\n",
       "      <th></th>\n",
       "      <th>children</th>\n",
       "      <th>days_employed</th>\n",
       "      <th>age</th>\n",
       "      <th>education_id</th>\n",
       "      <th>family_status_id</th>\n",
       "      <th>gender</th>\n",
       "      <th>income_type</th>\n",
       "      <th>debt</th>\n",
       "      <th>total_income</th>\n",
       "      <th>purpose</th>\n",
       "      <th>purpose_lemmas</th>\n",
       "      <th>income_category</th>\n",
       "      <th>purpose_category</th>\n",
       "    </tr>\n",
       "  </thead>\n",
       "  <tbody>\n",
       "    <tr>\n",
       "      <td>0</td>\n",
       "      <td>1</td>\n",
       "      <td>8437</td>\n",
       "      <td>42</td>\n",
       "      <td>0</td>\n",
       "      <td>0</td>\n",
       "      <td>F</td>\n",
       "      <td>сотрудник</td>\n",
       "      <td>False</td>\n",
       "      <td>253875</td>\n",
       "      <td>покупка жилья</td>\n",
       "      <td>[покупка, жилье]</td>\n",
       "      <td>обсепеченные</td>\n",
       "      <td>жилая недвижимость</td>\n",
       "    </tr>\n",
       "    <tr>\n",
       "      <td>1</td>\n",
       "      <td>1</td>\n",
       "      <td>4024</td>\n",
       "      <td>36</td>\n",
       "      <td>1</td>\n",
       "      <td>0</td>\n",
       "      <td>F</td>\n",
       "      <td>сотрудник</td>\n",
       "      <td>False</td>\n",
       "      <td>112080</td>\n",
       "      <td>приобретение автомобиля</td>\n",
       "      <td>[приобретение, автомобиль]</td>\n",
       "      <td>средний</td>\n",
       "      <td>автомобиль</td>\n",
       "    </tr>\n",
       "    <tr>\n",
       "      <td>2</td>\n",
       "      <td>0</td>\n",
       "      <td>5623</td>\n",
       "      <td>33</td>\n",
       "      <td>1</td>\n",
       "      <td>0</td>\n",
       "      <td>M</td>\n",
       "      <td>сотрудник</td>\n",
       "      <td>False</td>\n",
       "      <td>145885</td>\n",
       "      <td>покупка жилья</td>\n",
       "      <td>[покупка, жилье]</td>\n",
       "      <td>выше среднего</td>\n",
       "      <td>жилая недвижимость</td>\n",
       "    </tr>\n",
       "    <tr>\n",
       "      <td>3</td>\n",
       "      <td>3</td>\n",
       "      <td>4124</td>\n",
       "      <td>32</td>\n",
       "      <td>1</td>\n",
       "      <td>0</td>\n",
       "      <td>M</td>\n",
       "      <td>сотрудник</td>\n",
       "      <td>False</td>\n",
       "      <td>267628</td>\n",
       "      <td>дополнительное образование</td>\n",
       "      <td>[дополнительный, образование]</td>\n",
       "      <td>обсепеченные</td>\n",
       "      <td>образование</td>\n",
       "    </tr>\n",
       "    <tr>\n",
       "      <td>4</td>\n",
       "      <td>0</td>\n",
       "      <td>340266</td>\n",
       "      <td>53</td>\n",
       "      <td>1</td>\n",
       "      <td>1</td>\n",
       "      <td>F</td>\n",
       "      <td>пенсионер</td>\n",
       "      <td>False</td>\n",
       "      <td>158616</td>\n",
       "      <td>сыграть свадьбу</td>\n",
       "      <td>[сыграть, свадьба]</td>\n",
       "      <td>выше среднего</td>\n",
       "      <td>свадьба</td>\n",
       "    </tr>\n",
       "  </tbody>\n",
       "</table>\n",
       "</div>"
      ],
      "text/plain": [
       "   children  days_employed  age  education_id  family_status_id gender  \\\n",
       "0         1           8437   42             0                 0      F   \n",
       "1         1           4024   36             1                 0      F   \n",
       "2         0           5623   33             1                 0      M   \n",
       "3         3           4124   32             1                 0      M   \n",
       "4         0         340266   53             1                 1      F   \n",
       "\n",
       "  income_type   debt  total_income                     purpose  \\\n",
       "0   сотрудник  False        253875               покупка жилья   \n",
       "1   сотрудник  False        112080     приобретение автомобиля   \n",
       "2   сотрудник  False        145885               покупка жилья   \n",
       "3   сотрудник  False        267628  дополнительное образование   \n",
       "4   пенсионер  False        158616             сыграть свадьбу   \n",
       "\n",
       "                  purpose_lemmas income_category    purpose_category  \n",
       "0               [покупка, жилье]    обсепеченные  жилая недвижимость  \n",
       "1     [приобретение, автомобиль]         средний          автомобиль  \n",
       "2               [покупка, жилье]   выше среднего  жилая недвижимость  \n",
       "3  [дополнительный, образование]    обсепеченные         образование  \n",
       "4             [сыграть, свадьба]   выше среднего             свадьба  "
      ]
     },
     "execution_count": 37,
     "metadata": {},
     "output_type": "execute_result"
    }
   ],
   "source": [
    "data.drop(['family_status', 'education'], axis=1, inplace=True)\n",
    "data.head()"
   ]
  },
  {
   "cell_type": "markdown",
   "metadata": {},
   "source": [
    "## 3. Анализ"
   ]
  },
  {
   "cell_type": "markdown",
   "metadata": {},
   "source": [
    "### Есть ли зависимость между наличием детей и возвратом кредита в срок?"
   ]
  },
  {
   "cell_type": "markdown",
   "metadata": {},
   "source": [
    "Нам нужно разбить все данные по возрастам. Для начала взглянем - какие значения вообще есть в столбце 'children'"
   ]
  },
  {
   "cell_type": "code",
   "execution_count": 38,
   "metadata": {},
   "outputs": [
    {
     "data": {
      "text/plain": [
       " 0     14091\n",
       " 1      4808\n",
       " 2      2052\n",
       " 3       330\n",
       " 20       76\n",
       "-1        47\n",
       " 4        41\n",
       " 5         9\n",
       "Name: children, dtype: int64"
      ]
     },
     "execution_count": 38,
     "metadata": {},
     "output_type": "execute_result"
    }
   ],
   "source": [
    "data['children'].value_counts()"
   ]
  },
  {
   "cell_type": "markdown",
   "metadata": {},
   "source": [
    "А вот и еще артефакты. Значения \"-1\" и \"20\". Перед тем как считать и группировать - надо разобраться с этими данными и исправить их, отнеся к какой-то категории. Предполагаю, что значение \"-1\" - это на самом деле \"1\": либо ставили символ \"тире\", либо оно просто считалось в отрицательную, а не положительную сторону. Поэтому заменим все значения \"-1\" на \"1\"."
   ]
  },
  {
   "cell_type": "code",
   "execution_count": 39,
   "metadata": {},
   "outputs": [],
   "source": [
    "data.loc[data['children'] < 0, 'children'] = 1"
   ]
  },
  {
   "cell_type": "markdown",
   "metadata": {},
   "source": [
    "Со значением \"20\" все чуть-чуть сложнее. Это точно не 20 детей. Скорее всего - здесь должна быть цифра 2, но по каким-то причинам к ней прибавился ноль. Может быть это было 2.0, но что-то случилось с точкой. Так или иначе. Предлагаю перевести их в значение \"2\". "
   ]
  },
  {
   "cell_type": "code",
   "execution_count": 40,
   "metadata": {},
   "outputs": [
    {
     "data": {
      "text/plain": [
       "0    14091\n",
       "1     4855\n",
       "2     2128\n",
       "3      330\n",
       "4       41\n",
       "5        9\n",
       "Name: children, dtype: int64"
      ]
     },
     "execution_count": 40,
     "metadata": {},
     "output_type": "execute_result"
    }
   ],
   "source": [
    "data.loc[data['children'] == 20, 'children'] = 2\n",
    "data['children'].value_counts()"
   ]
  },
  {
   "cell_type": "markdown",
   "metadata": {},
   "source": [
    "Теперь сгруппируем всю таблицу количеству детей и сразу посчитаем два показателя: количество клиентов с задолженностью (sum) и общее количество клиентов (count). Сохраним в отдельный фрейм, чтобы работать с ним дальше и выведем"
   ]
  },
  {
   "cell_type": "code",
   "execution_count": 41,
   "metadata": {},
   "outputs": [
    {
     "data": {
      "text/html": [
       "<div>\n",
       "<style scoped>\n",
       "    .dataframe tbody tr th:only-of-type {\n",
       "        vertical-align: middle;\n",
       "    }\n",
       "\n",
       "    .dataframe tbody tr th {\n",
       "        vertical-align: top;\n",
       "    }\n",
       "\n",
       "    .dataframe thead tr th {\n",
       "        text-align: left;\n",
       "    }\n",
       "\n",
       "    .dataframe thead tr:last-of-type th {\n",
       "        text-align: right;\n",
       "    }\n",
       "</style>\n",
       "<table border=\"1\" class=\"dataframe\">\n",
       "  <thead>\n",
       "    <tr>\n",
       "      <th></th>\n",
       "      <th colspan=\"2\" halign=\"left\">debt</th>\n",
       "    </tr>\n",
       "    <tr>\n",
       "      <th></th>\n",
       "      <th>sum</th>\n",
       "      <th>count</th>\n",
       "    </tr>\n",
       "    <tr>\n",
       "      <th>children</th>\n",
       "      <th></th>\n",
       "      <th></th>\n",
       "    </tr>\n",
       "  </thead>\n",
       "  <tbody>\n",
       "    <tr>\n",
       "      <td>0</td>\n",
       "      <td>1063.0</td>\n",
       "      <td>14091</td>\n",
       "    </tr>\n",
       "    <tr>\n",
       "      <td>1</td>\n",
       "      <td>445.0</td>\n",
       "      <td>4855</td>\n",
       "    </tr>\n",
       "    <tr>\n",
       "      <td>2</td>\n",
       "      <td>202.0</td>\n",
       "      <td>2128</td>\n",
       "    </tr>\n",
       "    <tr>\n",
       "      <td>3</td>\n",
       "      <td>27.0</td>\n",
       "      <td>330</td>\n",
       "    </tr>\n",
       "    <tr>\n",
       "      <td>4</td>\n",
       "      <td>4.0</td>\n",
       "      <td>41</td>\n",
       "    </tr>\n",
       "    <tr>\n",
       "      <td>5</td>\n",
       "      <td>0.0</td>\n",
       "      <td>9</td>\n",
       "    </tr>\n",
       "  </tbody>\n",
       "</table>\n",
       "</div>"
      ],
      "text/plain": [
       "            debt       \n",
       "             sum  count\n",
       "children               \n",
       "0         1063.0  14091\n",
       "1          445.0   4855\n",
       "2          202.0   2128\n",
       "3           27.0    330\n",
       "4            4.0     41\n",
       "5            0.0      9"
      ]
     },
     "execution_count": 41,
     "metadata": {},
     "output_type": "execute_result"
    }
   ],
   "source": [
    "children_debt = data.groupby('children').agg({'debt':['sum', 'count']})\n",
    "children_debt"
   ]
  },
  {
   "cell_type": "markdown",
   "metadata": {},
   "source": [
    "Уберем двойную индексацию столбцов, переименовав их, а затем найдем долю клиентов с задолженностью ('rate') среди всех по двум группам и сравним."
   ]
  },
  {
   "cell_type": "code",
   "execution_count": 42,
   "metadata": {},
   "outputs": [],
   "source": [
    "children_debt.set_axis(['has_debt', 'total'], axis='columns', inplace=True)\n",
    "children_debt['rate'] = children_debt['has_debt'] / children_debt['total']"
   ]
  },
  {
   "cell_type": "code",
   "execution_count": 43,
   "metadata": {},
   "outputs": [
    {
     "data": {
      "text/html": [
       "<div>\n",
       "<style scoped>\n",
       "    .dataframe tbody tr th:only-of-type {\n",
       "        vertical-align: middle;\n",
       "    }\n",
       "\n",
       "    .dataframe tbody tr th {\n",
       "        vertical-align: top;\n",
       "    }\n",
       "\n",
       "    .dataframe thead th {\n",
       "        text-align: right;\n",
       "    }\n",
       "</style>\n",
       "<table border=\"1\" class=\"dataframe\">\n",
       "  <thead>\n",
       "    <tr style=\"text-align: right;\">\n",
       "      <th></th>\n",
       "      <th>has_debt</th>\n",
       "      <th>total</th>\n",
       "      <th>rate</th>\n",
       "    </tr>\n",
       "    <tr>\n",
       "      <th>children</th>\n",
       "      <th></th>\n",
       "      <th></th>\n",
       "      <th></th>\n",
       "    </tr>\n",
       "  </thead>\n",
       "  <tbody>\n",
       "    <tr>\n",
       "      <td>4</td>\n",
       "      <td>4.0</td>\n",
       "      <td>41</td>\n",
       "      <td>0.097561</td>\n",
       "    </tr>\n",
       "    <tr>\n",
       "      <td>2</td>\n",
       "      <td>202.0</td>\n",
       "      <td>2128</td>\n",
       "      <td>0.094925</td>\n",
       "    </tr>\n",
       "    <tr>\n",
       "      <td>1</td>\n",
       "      <td>445.0</td>\n",
       "      <td>4855</td>\n",
       "      <td>0.091658</td>\n",
       "    </tr>\n",
       "    <tr>\n",
       "      <td>3</td>\n",
       "      <td>27.0</td>\n",
       "      <td>330</td>\n",
       "      <td>0.081818</td>\n",
       "    </tr>\n",
       "    <tr>\n",
       "      <td>0</td>\n",
       "      <td>1063.0</td>\n",
       "      <td>14091</td>\n",
       "      <td>0.075438</td>\n",
       "    </tr>\n",
       "    <tr>\n",
       "      <td>5</td>\n",
       "      <td>0.0</td>\n",
       "      <td>9</td>\n",
       "      <td>0.000000</td>\n",
       "    </tr>\n",
       "  </tbody>\n",
       "</table>\n",
       "</div>"
      ],
      "text/plain": [
       "          has_debt  total      rate\n",
       "children                           \n",
       "4              4.0     41  0.097561\n",
       "2            202.0   2128  0.094925\n",
       "1            445.0   4855  0.091658\n",
       "3             27.0    330  0.081818\n",
       "0           1063.0  14091  0.075438\n",
       "5              0.0      9  0.000000"
      ]
     },
     "execution_count": 43,
     "metadata": {},
     "output_type": "execute_result"
    }
   ],
   "source": [
    "children_debt.sort_values(by='rate', ascending=False)"
   ]
  },
  {
   "cell_type": "markdown",
   "metadata": {},
   "source": [
    "**Вывод**"
   ]
  },
  {
   "cell_type": "markdown",
   "metadata": {},
   "source": [
    "Наличие детей влияет на возврат кредита в срок. \n",
    "Клиенты, у которых нет детей, имеют меньше фактов задолженности, нежели клиенты с детьми. Не берем в расчет клиентов с 5 детьми, потому что выборка очень маленькая.  Интересно при этом, что у клиентов с 3 детьми рейтинг задолженности получился ниже, чем у клиентов 1 или 2 детьми. \n",
    "\n",
    "Предполагаю, что логика здесь простая: ребенок - это дополнительная финансовая нагрузка на семью, а следовательно наличие детей (и внеплановых трат, связанных с ними) может привести с задержкам по кредиту. "
   ]
  },
  {
   "cell_type": "markdown",
   "metadata": {},
   "source": [
    "### Есть ли зависимость между семейным положением и возвратом кредита в срок?"
   ]
  },
  {
   "cell_type": "markdown",
   "metadata": {},
   "source": [
    "Значения семейного положения мы уже проверили на этапе создания словарей. С ними все в порядке. Сгруппируем, и найдем долю клиентов с задолженностью по каждой группе. "
   ]
  },
  {
   "cell_type": "code",
   "execution_count": 44,
   "metadata": {},
   "outputs": [
    {
     "data": {
      "text/html": [
       "<div>\n",
       "<style scoped>\n",
       "    .dataframe tbody tr th:only-of-type {\n",
       "        vertical-align: middle;\n",
       "    }\n",
       "\n",
       "    .dataframe tbody tr th {\n",
       "        vertical-align: top;\n",
       "    }\n",
       "\n",
       "    .dataframe thead th {\n",
       "        text-align: right;\n",
       "    }\n",
       "</style>\n",
       "<table border=\"1\" class=\"dataframe\">\n",
       "  <thead>\n",
       "    <tr style=\"text-align: right;\">\n",
       "      <th></th>\n",
       "      <th>debt</th>\n",
       "      <th>total</th>\n",
       "      <th>rate</th>\n",
       "    </tr>\n",
       "    <tr>\n",
       "      <th>family_status_id</th>\n",
       "      <th></th>\n",
       "      <th></th>\n",
       "      <th></th>\n",
       "    </tr>\n",
       "  </thead>\n",
       "  <tbody>\n",
       "    <tr>\n",
       "      <td>0</td>\n",
       "      <td>931.0</td>\n",
       "      <td>12339</td>\n",
       "      <td>0.075452</td>\n",
       "    </tr>\n",
       "    <tr>\n",
       "      <td>1</td>\n",
       "      <td>388.0</td>\n",
       "      <td>4151</td>\n",
       "      <td>0.093471</td>\n",
       "    </tr>\n",
       "    <tr>\n",
       "      <td>2</td>\n",
       "      <td>63.0</td>\n",
       "      <td>959</td>\n",
       "      <td>0.065693</td>\n",
       "    </tr>\n",
       "    <tr>\n",
       "      <td>3</td>\n",
       "      <td>85.0</td>\n",
       "      <td>1195</td>\n",
       "      <td>0.071130</td>\n",
       "    </tr>\n",
       "    <tr>\n",
       "      <td>4</td>\n",
       "      <td>274.0</td>\n",
       "      <td>2810</td>\n",
       "      <td>0.097509</td>\n",
       "    </tr>\n",
       "  </tbody>\n",
       "</table>\n",
       "</div>"
      ],
      "text/plain": [
       "                   debt  total      rate\n",
       "family_status_id                        \n",
       "0                 931.0  12339  0.075452\n",
       "1                 388.0   4151  0.093471\n",
       "2                  63.0    959  0.065693\n",
       "3                  85.0   1195  0.071130\n",
       "4                 274.0   2810  0.097509"
      ]
     },
     "execution_count": 44,
     "metadata": {},
     "output_type": "execute_result"
    }
   ],
   "source": [
    "family_status_debt = data.groupby('family_status_id').agg({'debt':['sum', 'count']})\n",
    "family_status_debt.set_axis(['debt', 'total'], axis='columns', inplace=True)\n",
    "family_status_debt['rate'] = family_status_debt['debt'] / family_status_debt['total']\n",
    "family_status_debt"
   ]
  },
  {
   "cell_type": "markdown",
   "metadata": {},
   "source": [
    "Смерджим получившуюся таблицу со словарем"
   ]
  },
  {
   "cell_type": "code",
   "execution_count": 45,
   "metadata": {},
   "outputs": [],
   "source": [
    "family_status_debt = family_status_dict.merge(family_status_debt, on='family_status_id', how='left')"
   ]
  },
  {
   "cell_type": "code",
   "execution_count": 46,
   "metadata": {},
   "outputs": [
    {
     "data": {
      "text/html": [
       "<div>\n",
       "<style scoped>\n",
       "    .dataframe tbody tr th:only-of-type {\n",
       "        vertical-align: middle;\n",
       "    }\n",
       "\n",
       "    .dataframe tbody tr th {\n",
       "        vertical-align: top;\n",
       "    }\n",
       "\n",
       "    .dataframe thead th {\n",
       "        text-align: right;\n",
       "    }\n",
       "</style>\n",
       "<table border=\"1\" class=\"dataframe\">\n",
       "  <thead>\n",
       "    <tr style=\"text-align: right;\">\n",
       "      <th></th>\n",
       "      <th>family_status_id</th>\n",
       "      <th>family_status</th>\n",
       "      <th>debt</th>\n",
       "      <th>total</th>\n",
       "      <th>rate</th>\n",
       "    </tr>\n",
       "  </thead>\n",
       "  <tbody>\n",
       "    <tr>\n",
       "      <td>4</td>\n",
       "      <td>4</td>\n",
       "      <td>Не женат / не замужем</td>\n",
       "      <td>274.0</td>\n",
       "      <td>2810</td>\n",
       "      <td>0.097509</td>\n",
       "    </tr>\n",
       "    <tr>\n",
       "      <td>1</td>\n",
       "      <td>1</td>\n",
       "      <td>гражданский брак</td>\n",
       "      <td>388.0</td>\n",
       "      <td>4151</td>\n",
       "      <td>0.093471</td>\n",
       "    </tr>\n",
       "    <tr>\n",
       "      <td>0</td>\n",
       "      <td>0</td>\n",
       "      <td>женат / замужем</td>\n",
       "      <td>931.0</td>\n",
       "      <td>12339</td>\n",
       "      <td>0.075452</td>\n",
       "    </tr>\n",
       "    <tr>\n",
       "      <td>3</td>\n",
       "      <td>3</td>\n",
       "      <td>в разводе</td>\n",
       "      <td>85.0</td>\n",
       "      <td>1195</td>\n",
       "      <td>0.071130</td>\n",
       "    </tr>\n",
       "    <tr>\n",
       "      <td>2</td>\n",
       "      <td>2</td>\n",
       "      <td>вдовец / вдова</td>\n",
       "      <td>63.0</td>\n",
       "      <td>959</td>\n",
       "      <td>0.065693</td>\n",
       "    </tr>\n",
       "  </tbody>\n",
       "</table>\n",
       "</div>"
      ],
      "text/plain": [
       "   family_status_id          family_status   debt  total      rate\n",
       "4                 4  Не женат / не замужем  274.0   2810  0.097509\n",
       "1                 1       гражданский брак  388.0   4151  0.093471\n",
       "0                 0        женат / замужем  931.0  12339  0.075452\n",
       "3                 3              в разводе   85.0   1195  0.071130\n",
       "2                 2         вдовец / вдова   63.0    959  0.065693"
      ]
     },
     "execution_count": 46,
     "metadata": {},
     "output_type": "execute_result"
    }
   ],
   "source": [
    "family_status_debt.sort_values(by='rate', ascending=False)"
   ]
  },
  {
   "cell_type": "markdown",
   "metadata": {},
   "source": [
    "**Вывод**"
   ]
  },
  {
   "cell_type": "markdown",
   "metadata": {},
   "source": [
    "Зависимость между семейным положением и возвратом кредита в срок - есть. \n",
    "Чаще она встречается у клиентов без партнера или находящихся в гражданском браке. Причина может быть в том, что наличие партнера - это дополнительная финансовая поддержка, а люди в гражданском браке не так тесно связаны обязательствами друг перед другом. \n",
    "Интересно, что последнее место в нашем рейтинге заняли клиенты, потерявшие супруга. У меня есть (может быть не совсем этично прозвучит) предположение, что они получили в наследство часть имущества от своего партнера и поэтому тоже чувствуют себя более уверенно с финансовой точки зрения. А возможно - у нас просто сликшом маленькая выборка по ним. "
   ]
  },
  {
   "cell_type": "markdown",
   "metadata": {},
   "source": [
    "### Есть ли зависимость между уровнем дохода и возвратом кредита в срок?"
   ]
  },
  {
   "cell_type": "markdown",
   "metadata": {},
   "source": [
    "Мы категоризировали клиентов по уровню дохода. Осталось лишь сгруппировать их и посчитать долю клиентов с задолженностью по кажддой группе. "
   ]
  },
  {
   "cell_type": "code",
   "execution_count": 47,
   "metadata": {},
   "outputs": [
    {
     "data": {
      "text/html": [
       "<div>\n",
       "<style scoped>\n",
       "    .dataframe tbody tr th:only-of-type {\n",
       "        vertical-align: middle;\n",
       "    }\n",
       "\n",
       "    .dataframe tbody tr th {\n",
       "        vertical-align: top;\n",
       "    }\n",
       "\n",
       "    .dataframe thead th {\n",
       "        text-align: right;\n",
       "    }\n",
       "</style>\n",
       "<table border=\"1\" class=\"dataframe\">\n",
       "  <thead>\n",
       "    <tr style=\"text-align: right;\">\n",
       "      <th></th>\n",
       "      <th>children</th>\n",
       "      <th>days_employed</th>\n",
       "      <th>age</th>\n",
       "      <th>education_id</th>\n",
       "      <th>family_status_id</th>\n",
       "      <th>gender</th>\n",
       "      <th>income_type</th>\n",
       "      <th>debt</th>\n",
       "      <th>total_income</th>\n",
       "      <th>purpose</th>\n",
       "      <th>purpose_lemmas</th>\n",
       "      <th>income_category</th>\n",
       "      <th>purpose_category</th>\n",
       "    </tr>\n",
       "  </thead>\n",
       "  <tbody>\n",
       "    <tr>\n",
       "      <td>0</td>\n",
       "      <td>1</td>\n",
       "      <td>8437</td>\n",
       "      <td>42</td>\n",
       "      <td>0</td>\n",
       "      <td>0</td>\n",
       "      <td>F</td>\n",
       "      <td>сотрудник</td>\n",
       "      <td>False</td>\n",
       "      <td>253875</td>\n",
       "      <td>покупка жилья</td>\n",
       "      <td>[покупка, жилье]</td>\n",
       "      <td>обсепеченные</td>\n",
       "      <td>жилая недвижимость</td>\n",
       "    </tr>\n",
       "    <tr>\n",
       "      <td>1</td>\n",
       "      <td>1</td>\n",
       "      <td>4024</td>\n",
       "      <td>36</td>\n",
       "      <td>1</td>\n",
       "      <td>0</td>\n",
       "      <td>F</td>\n",
       "      <td>сотрудник</td>\n",
       "      <td>False</td>\n",
       "      <td>112080</td>\n",
       "      <td>приобретение автомобиля</td>\n",
       "      <td>[приобретение, автомобиль]</td>\n",
       "      <td>средний</td>\n",
       "      <td>автомобиль</td>\n",
       "    </tr>\n",
       "    <tr>\n",
       "      <td>2</td>\n",
       "      <td>0</td>\n",
       "      <td>5623</td>\n",
       "      <td>33</td>\n",
       "      <td>1</td>\n",
       "      <td>0</td>\n",
       "      <td>M</td>\n",
       "      <td>сотрудник</td>\n",
       "      <td>False</td>\n",
       "      <td>145885</td>\n",
       "      <td>покупка жилья</td>\n",
       "      <td>[покупка, жилье]</td>\n",
       "      <td>выше среднего</td>\n",
       "      <td>жилая недвижимость</td>\n",
       "    </tr>\n",
       "    <tr>\n",
       "      <td>3</td>\n",
       "      <td>3</td>\n",
       "      <td>4124</td>\n",
       "      <td>32</td>\n",
       "      <td>1</td>\n",
       "      <td>0</td>\n",
       "      <td>M</td>\n",
       "      <td>сотрудник</td>\n",
       "      <td>False</td>\n",
       "      <td>267628</td>\n",
       "      <td>дополнительное образование</td>\n",
       "      <td>[дополнительный, образование]</td>\n",
       "      <td>обсепеченные</td>\n",
       "      <td>образование</td>\n",
       "    </tr>\n",
       "    <tr>\n",
       "      <td>4</td>\n",
       "      <td>0</td>\n",
       "      <td>340266</td>\n",
       "      <td>53</td>\n",
       "      <td>1</td>\n",
       "      <td>1</td>\n",
       "      <td>F</td>\n",
       "      <td>пенсионер</td>\n",
       "      <td>False</td>\n",
       "      <td>158616</td>\n",
       "      <td>сыграть свадьбу</td>\n",
       "      <td>[сыграть, свадьба]</td>\n",
       "      <td>выше среднего</td>\n",
       "      <td>свадьба</td>\n",
       "    </tr>\n",
       "  </tbody>\n",
       "</table>\n",
       "</div>"
      ],
      "text/plain": [
       "   children  days_employed  age  education_id  family_status_id gender  \\\n",
       "0         1           8437   42             0                 0      F   \n",
       "1         1           4024   36             1                 0      F   \n",
       "2         0           5623   33             1                 0      M   \n",
       "3         3           4124   32             1                 0      M   \n",
       "4         0         340266   53             1                 1      F   \n",
       "\n",
       "  income_type   debt  total_income                     purpose  \\\n",
       "0   сотрудник  False        253875               покупка жилья   \n",
       "1   сотрудник  False        112080     приобретение автомобиля   \n",
       "2   сотрудник  False        145885               покупка жилья   \n",
       "3   сотрудник  False        267628  дополнительное образование   \n",
       "4   пенсионер  False        158616             сыграть свадьбу   \n",
       "\n",
       "                  purpose_lemmas income_category    purpose_category  \n",
       "0               [покупка, жилье]    обсепеченные  жилая недвижимость  \n",
       "1     [приобретение, автомобиль]         средний          автомобиль  \n",
       "2               [покупка, жилье]   выше среднего  жилая недвижимость  \n",
       "3  [дополнительный, образование]    обсепеченные         образование  \n",
       "4             [сыграть, свадьба]   выше среднего             свадьба  "
      ]
     },
     "execution_count": 47,
     "metadata": {},
     "output_type": "execute_result"
    }
   ],
   "source": [
    "data.head()"
   ]
  },
  {
   "cell_type": "code",
   "execution_count": 48,
   "metadata": {
    "scrolled": true
   },
   "outputs": [
    {
     "data": {
      "text/html": [
       "<div>\n",
       "<style scoped>\n",
       "    .dataframe tbody tr th:only-of-type {\n",
       "        vertical-align: middle;\n",
       "    }\n",
       "\n",
       "    .dataframe tbody tr th {\n",
       "        vertical-align: top;\n",
       "    }\n",
       "\n",
       "    .dataframe thead th {\n",
       "        text-align: right;\n",
       "    }\n",
       "</style>\n",
       "<table border=\"1\" class=\"dataframe\">\n",
       "  <thead>\n",
       "    <tr style=\"text-align: right;\">\n",
       "      <th></th>\n",
       "      <th>debt</th>\n",
       "      <th>total</th>\n",
       "      <th>rate</th>\n",
       "    </tr>\n",
       "    <tr>\n",
       "      <th>income_category</th>\n",
       "      <th></th>\n",
       "      <th></th>\n",
       "      <th></th>\n",
       "    </tr>\n",
       "  </thead>\n",
       "  <tbody>\n",
       "    <tr>\n",
       "      <td>средний</td>\n",
       "      <td>483.0</td>\n",
       "      <td>5479</td>\n",
       "      <td>0.088155</td>\n",
       "    </tr>\n",
       "    <tr>\n",
       "      <td>выше среднего</td>\n",
       "      <td>448.0</td>\n",
       "      <td>5247</td>\n",
       "      <td>0.085382</td>\n",
       "    </tr>\n",
       "    <tr>\n",
       "      <td>низкий</td>\n",
       "      <td>427.0</td>\n",
       "      <td>5364</td>\n",
       "      <td>0.079605</td>\n",
       "    </tr>\n",
       "    <tr>\n",
       "      <td>обсепеченные</td>\n",
       "      <td>383.0</td>\n",
       "      <td>5364</td>\n",
       "      <td>0.071402</td>\n",
       "    </tr>\n",
       "  </tbody>\n",
       "</table>\n",
       "</div>"
      ],
      "text/plain": [
       "                  debt  total      rate\n",
       "income_category                        \n",
       "средний          483.0   5479  0.088155\n",
       "выше среднего    448.0   5247  0.085382\n",
       "низкий           427.0   5364  0.079605\n",
       "обсепеченные     383.0   5364  0.071402"
      ]
     },
     "execution_count": 48,
     "metadata": {},
     "output_type": "execute_result"
    }
   ],
   "source": [
    "income_debt = data.groupby('income_category').agg({'debt':['sum', 'count']})\n",
    "income_debt.set_axis(['debt', 'total'], axis='columns', inplace=True)\n",
    "income_debt['rate'] = income_debt['debt'] / income_debt['total']\n",
    "income_debt.sort_values(by='rate', ascending=False)"
   ]
  },
  {
   "cell_type": "markdown",
   "metadata": {},
   "source": [
    "**Вывод**"
   ]
  },
  {
   "cell_type": "markdown",
   "metadata": {},
   "source": [
    "Интересные результаты. Клиенты с самым низким (из имеющихся) уровнем дохода имеют задолженность по кредиту реже, чем клиенты с доходом среднего и выше среднего уровня.  Звучит контринтуитивно. \n",
    "Обеспеченные клиенты, при этом, как и кажется чисто интуитивно, реже всего имеют задолженность. "
   ]
  },
  {
   "cell_type": "markdown",
   "metadata": {},
   "source": [
    "### Как разные цели кредита влияют на его возврат в срок?"
   ]
  },
  {
   "cell_type": "markdown",
   "metadata": {},
   "source": [
    "Данные для этого исследования мы тоже уже категоризировали. Нам нужно сгруппировать данные и снова посчитать долю клиентов, имеющих задолженность. В этот раз сделаем это с помощью сводной таблицы, а заодно покажем долю по каждой подкатегории. "
   ]
  },
  {
   "cell_type": "markdown",
   "metadata": {},
   "source": [
    "Создадим сводную табличку, взяв туда цель кредита и ее категорию. Значениями таблицы станет факт задолженности, но обработанный функциями суммы и количества"
   ]
  },
  {
   "cell_type": "code",
   "execution_count": 50,
   "metadata": {},
   "outputs": [],
   "source": [
    "purpose_debt_pivot = data.pivot_table(index=['purpose_category', 'purpose'],\n",
    "                                      values='debt', \n",
    "                                      aggfunc=['sum', 'count'])"
   ]
  },
  {
   "cell_type": "markdown",
   "metadata": {},
   "source": [
    "Избавимся от двойной индексации столбцов и создадим еще один, где посчитаем долю"
   ]
  },
  {
   "cell_type": "code",
   "execution_count": 51,
   "metadata": {},
   "outputs": [],
   "source": [
    "purpose_debt_pivot.set_axis(['debt', 'total'], axis='columns', inplace=True)\n",
    "purpose_debt_pivot['rate'] = purpose_debt_pivot['debt'] / purpose_debt_pivot['total']"
   ]
  },
  {
   "cell_type": "markdown",
   "metadata": {},
   "source": [
    "А затем выведем, отсортировав по категории, а внутри каджой категории - по доле клиентов с задолженностью."
   ]
  },
  {
   "cell_type": "code",
   "execution_count": 52,
   "metadata": {},
   "outputs": [
    {
     "data": {
      "text/html": [
       "<div>\n",
       "<style scoped>\n",
       "    .dataframe tbody tr th:only-of-type {\n",
       "        vertical-align: middle;\n",
       "    }\n",
       "\n",
       "    .dataframe tbody tr th {\n",
       "        vertical-align: top;\n",
       "    }\n",
       "\n",
       "    .dataframe thead th {\n",
       "        text-align: right;\n",
       "    }\n",
       "</style>\n",
       "<table border=\"1\" class=\"dataframe\">\n",
       "  <thead>\n",
       "    <tr style=\"text-align: right;\">\n",
       "      <th></th>\n",
       "      <th></th>\n",
       "      <th>debt</th>\n",
       "      <th>total</th>\n",
       "      <th>rate</th>\n",
       "    </tr>\n",
       "    <tr>\n",
       "      <th>purpose_category</th>\n",
       "      <th>purpose</th>\n",
       "      <th></th>\n",
       "      <th></th>\n",
       "      <th></th>\n",
       "    </tr>\n",
       "  </thead>\n",
       "  <tbody>\n",
       "    <tr>\n",
       "      <td rowspan=\"9\" valign=\"top\">автомобиль</td>\n",
       "      <td>сделка с автомобилем</td>\n",
       "      <td>50.0</td>\n",
       "      <td>455</td>\n",
       "      <td>0.109890</td>\n",
       "    </tr>\n",
       "    <tr>\n",
       "      <td>сделка с подержанным автомобилем</td>\n",
       "      <td>51.0</td>\n",
       "      <td>486</td>\n",
       "      <td>0.104938</td>\n",
       "    </tr>\n",
       "    <tr>\n",
       "      <td>свой автомобиль</td>\n",
       "      <td>48.0</td>\n",
       "      <td>478</td>\n",
       "      <td>0.100418</td>\n",
       "    </tr>\n",
       "    <tr>\n",
       "      <td>на покупку автомобиля</td>\n",
       "      <td>44.0</td>\n",
       "      <td>471</td>\n",
       "      <td>0.093418</td>\n",
       "    </tr>\n",
       "    <tr>\n",
       "      <td>автомобили</td>\n",
       "      <td>44.0</td>\n",
       "      <td>478</td>\n",
       "      <td>0.092050</td>\n",
       "    </tr>\n",
       "    <tr>\n",
       "      <td>приобретение автомобиля</td>\n",
       "      <td>42.0</td>\n",
       "      <td>461</td>\n",
       "      <td>0.091106</td>\n",
       "    </tr>\n",
       "    <tr>\n",
       "      <td>на покупку своего автомобиля</td>\n",
       "      <td>46.0</td>\n",
       "      <td>505</td>\n",
       "      <td>0.091089</td>\n",
       "    </tr>\n",
       "    <tr>\n",
       "      <td>автомобиль</td>\n",
       "      <td>42.0</td>\n",
       "      <td>494</td>\n",
       "      <td>0.085020</td>\n",
       "    </tr>\n",
       "    <tr>\n",
       "      <td>на покупку подержанного автомобиля</td>\n",
       "      <td>36.0</td>\n",
       "      <td>478</td>\n",
       "      <td>0.075314</td>\n",
       "    </tr>\n",
       "    <tr>\n",
       "      <td rowspan=\"15\" valign=\"top\">жилая недвижимость</td>\n",
       "      <td>строительство недвижимости</td>\n",
       "      <td>54.0</td>\n",
       "      <td>619</td>\n",
       "      <td>0.087237</td>\n",
       "    </tr>\n",
       "    <tr>\n",
       "      <td>операции с недвижимостью</td>\n",
       "      <td>55.0</td>\n",
       "      <td>675</td>\n",
       "      <td>0.081481</td>\n",
       "    </tr>\n",
       "    <tr>\n",
       "      <td>покупка жилья для сдачи</td>\n",
       "      <td>52.0</td>\n",
       "      <td>651</td>\n",
       "      <td>0.079877</td>\n",
       "    </tr>\n",
       "    <tr>\n",
       "      <td>операции со своей недвижимостью</td>\n",
       "      <td>50.0</td>\n",
       "      <td>627</td>\n",
       "      <td>0.079745</td>\n",
       "    </tr>\n",
       "    <tr>\n",
       "      <td>строительство жилой недвижимости</td>\n",
       "      <td>48.0</td>\n",
       "      <td>624</td>\n",
       "      <td>0.076923</td>\n",
       "    </tr>\n",
       "    <tr>\n",
       "      <td>покупка жилья</td>\n",
       "      <td>48.0</td>\n",
       "      <td>646</td>\n",
       "      <td>0.074303</td>\n",
       "    </tr>\n",
       "    <tr>\n",
       "      <td>операции с жильем</td>\n",
       "      <td>48.0</td>\n",
       "      <td>652</td>\n",
       "      <td>0.073620</td>\n",
       "    </tr>\n",
       "    <tr>\n",
       "      <td>жилье</td>\n",
       "      <td>46.0</td>\n",
       "      <td>646</td>\n",
       "      <td>0.071207</td>\n",
       "    </tr>\n",
       "    <tr>\n",
       "      <td>покупка жилья для семьи</td>\n",
       "      <td>45.0</td>\n",
       "      <td>638</td>\n",
       "      <td>0.070533</td>\n",
       "    </tr>\n",
       "    <tr>\n",
       "      <td>покупка недвижимости</td>\n",
       "      <td>43.0</td>\n",
       "      <td>621</td>\n",
       "      <td>0.069243</td>\n",
       "    </tr>\n",
       "    <tr>\n",
       "      <td>покупка жилой недвижимости</td>\n",
       "      <td>41.0</td>\n",
       "      <td>606</td>\n",
       "      <td>0.067657</td>\n",
       "    </tr>\n",
       "    <tr>\n",
       "      <td>недвижимость</td>\n",
       "      <td>42.0</td>\n",
       "      <td>633</td>\n",
       "      <td>0.066351</td>\n",
       "    </tr>\n",
       "    <tr>\n",
       "      <td>строительство собственной недвижимости</td>\n",
       "      <td>42.0</td>\n",
       "      <td>635</td>\n",
       "      <td>0.066142</td>\n",
       "    </tr>\n",
       "    <tr>\n",
       "      <td>ремонт жилью</td>\n",
       "      <td>35.0</td>\n",
       "      <td>607</td>\n",
       "      <td>0.057661</td>\n",
       "    </tr>\n",
       "    <tr>\n",
       "      <td>покупка своего жилья</td>\n",
       "      <td>34.0</td>\n",
       "      <td>620</td>\n",
       "      <td>0.054839</td>\n",
       "    </tr>\n",
       "    <tr>\n",
       "      <td rowspan=\"2\" valign=\"top\">коммерческая недвижимость</td>\n",
       "      <td>операции с коммерческой недвижимостью</td>\n",
       "      <td>52.0</td>\n",
       "      <td>650</td>\n",
       "      <td>0.080000</td>\n",
       "    </tr>\n",
       "    <tr>\n",
       "      <td>покупка коммерческой недвижимости</td>\n",
       "      <td>47.0</td>\n",
       "      <td>661</td>\n",
       "      <td>0.071104</td>\n",
       "    </tr>\n",
       "    <tr>\n",
       "      <td rowspan=\"9\" valign=\"top\">образование</td>\n",
       "      <td>получение дополнительного образования</td>\n",
       "      <td>51.0</td>\n",
       "      <td>446</td>\n",
       "      <td>0.114350</td>\n",
       "    </tr>\n",
       "    <tr>\n",
       "      <td>получение высшего образования</td>\n",
       "      <td>46.0</td>\n",
       "      <td>426</td>\n",
       "      <td>0.107981</td>\n",
       "    </tr>\n",
       "    <tr>\n",
       "      <td>профильное образование</td>\n",
       "      <td>44.0</td>\n",
       "      <td>436</td>\n",
       "      <td>0.100917</td>\n",
       "    </tr>\n",
       "    <tr>\n",
       "      <td>заняться образованием</td>\n",
       "      <td>39.0</td>\n",
       "      <td>408</td>\n",
       "      <td>0.095588</td>\n",
       "    </tr>\n",
       "    <tr>\n",
       "      <td>высшее образование</td>\n",
       "      <td>40.0</td>\n",
       "      <td>452</td>\n",
       "      <td>0.088496</td>\n",
       "    </tr>\n",
       "    <tr>\n",
       "      <td>заняться высшим образованием</td>\n",
       "      <td>43.0</td>\n",
       "      <td>496</td>\n",
       "      <td>0.086694</td>\n",
       "    </tr>\n",
       "    <tr>\n",
       "      <td>получение образования</td>\n",
       "      <td>37.0</td>\n",
       "      <td>442</td>\n",
       "      <td>0.083710</td>\n",
       "    </tr>\n",
       "    <tr>\n",
       "      <td>дополнительное образование</td>\n",
       "      <td>38.0</td>\n",
       "      <td>460</td>\n",
       "      <td>0.082609</td>\n",
       "    </tr>\n",
       "    <tr>\n",
       "      <td>образование</td>\n",
       "      <td>32.0</td>\n",
       "      <td>447</td>\n",
       "      <td>0.071588</td>\n",
       "    </tr>\n",
       "    <tr>\n",
       "      <td rowspan=\"3\" valign=\"top\">свадьба</td>\n",
       "      <td>на проведение свадьбы</td>\n",
       "      <td>64.0</td>\n",
       "      <td>768</td>\n",
       "      <td>0.083333</td>\n",
       "    </tr>\n",
       "    <tr>\n",
       "      <td>свадьба</td>\n",
       "      <td>64.0</td>\n",
       "      <td>791</td>\n",
       "      <td>0.080910</td>\n",
       "    </tr>\n",
       "    <tr>\n",
       "      <td>сыграть свадьбу</td>\n",
       "      <td>58.0</td>\n",
       "      <td>765</td>\n",
       "      <td>0.075817</td>\n",
       "    </tr>\n",
       "  </tbody>\n",
       "</table>\n",
       "</div>"
      ],
      "text/plain": [
       "                                                                  debt  total  \\\n",
       "purpose_category          purpose                                               \n",
       "автомобиль                сделка с автомобилем                    50.0    455   \n",
       "                          сделка с подержанным автомобилем        51.0    486   \n",
       "                          свой автомобиль                         48.0    478   \n",
       "                          на покупку автомобиля                   44.0    471   \n",
       "                          автомобили                              44.0    478   \n",
       "                          приобретение автомобиля                 42.0    461   \n",
       "                          на покупку своего автомобиля            46.0    505   \n",
       "                          автомобиль                              42.0    494   \n",
       "                          на покупку подержанного автомобиля      36.0    478   \n",
       "жилая недвижимость        строительство недвижимости              54.0    619   \n",
       "                          операции с недвижимостью                55.0    675   \n",
       "                          покупка жилья для сдачи                 52.0    651   \n",
       "                          операции со своей недвижимостью         50.0    627   \n",
       "                          строительство жилой недвижимости        48.0    624   \n",
       "                          покупка жилья                           48.0    646   \n",
       "                          операции с жильем                       48.0    652   \n",
       "                          жилье                                   46.0    646   \n",
       "                          покупка жилья для семьи                 45.0    638   \n",
       "                          покупка недвижимости                    43.0    621   \n",
       "                          покупка жилой недвижимости              41.0    606   \n",
       "                          недвижимость                            42.0    633   \n",
       "                          строительство собственной недвижимости  42.0    635   \n",
       "                          ремонт жилью                            35.0    607   \n",
       "                          покупка своего жилья                    34.0    620   \n",
       "коммерческая недвижимость операции с коммерческой недвижимостью   52.0    650   \n",
       "                          покупка коммерческой недвижимости       47.0    661   \n",
       "образование               получение дополнительного образования   51.0    446   \n",
       "                          получение высшего образования           46.0    426   \n",
       "                          профильное образование                  44.0    436   \n",
       "                          заняться образованием                   39.0    408   \n",
       "                          высшее образование                      40.0    452   \n",
       "                          заняться высшим образованием            43.0    496   \n",
       "                          получение образования                   37.0    442   \n",
       "                          дополнительное образование              38.0    460   \n",
       "                          образование                             32.0    447   \n",
       "свадьба                   на проведение свадьбы                   64.0    768   \n",
       "                          свадьба                                 64.0    791   \n",
       "                          сыграть свадьбу                         58.0    765   \n",
       "\n",
       "                                                                      rate  \n",
       "purpose_category          purpose                                           \n",
       "автомобиль                сделка с автомобилем                    0.109890  \n",
       "                          сделка с подержанным автомобилем        0.104938  \n",
       "                          свой автомобиль                         0.100418  \n",
       "                          на покупку автомобиля                   0.093418  \n",
       "                          автомобили                              0.092050  \n",
       "                          приобретение автомобиля                 0.091106  \n",
       "                          на покупку своего автомобиля            0.091089  \n",
       "                          автомобиль                              0.085020  \n",
       "                          на покупку подержанного автомобиля      0.075314  \n",
       "жилая недвижимость        строительство недвижимости              0.087237  \n",
       "                          операции с недвижимостью                0.081481  \n",
       "                          покупка жилья для сдачи                 0.079877  \n",
       "                          операции со своей недвижимостью         0.079745  \n",
       "                          строительство жилой недвижимости        0.076923  \n",
       "                          покупка жилья                           0.074303  \n",
       "                          операции с жильем                       0.073620  \n",
       "                          жилье                                   0.071207  \n",
       "                          покупка жилья для семьи                 0.070533  \n",
       "                          покупка недвижимости                    0.069243  \n",
       "                          покупка жилой недвижимости              0.067657  \n",
       "                          недвижимость                            0.066351  \n",
       "                          строительство собственной недвижимости  0.066142  \n",
       "                          ремонт жилью                            0.057661  \n",
       "                          покупка своего жилья                    0.054839  \n",
       "коммерческая недвижимость операции с коммерческой недвижимостью   0.080000  \n",
       "                          покупка коммерческой недвижимости       0.071104  \n",
       "образование               получение дополнительного образования   0.114350  \n",
       "                          получение высшего образования           0.107981  \n",
       "                          профильное образование                  0.100917  \n",
       "                          заняться образованием                   0.095588  \n",
       "                          высшее образование                      0.088496  \n",
       "                          заняться высшим образованием            0.086694  \n",
       "                          получение образования                   0.083710  \n",
       "                          дополнительное образование              0.082609  \n",
       "                          образование                             0.071588  \n",
       "свадьба                   на проведение свадьбы                   0.083333  \n",
       "                          свадьба                                 0.080910  \n",
       "                          сыграть свадьбу                         0.075817  "
      ]
     },
     "execution_count": 52,
     "metadata": {},
     "output_type": "execute_result"
    }
   ],
   "source": [
    "purpose_debt_pivot.sort_values(['purpose_category', 'rate'], ascending=[True, False])"
   ]
  },
  {
   "cell_type": "markdown",
   "metadata": {},
   "source": [
    "**Вывод**"
   ]
  },
  {
   "cell_type": "markdown",
   "metadata": {},
   "source": [
    "Задолженности встречаются чаще в случае кредита на автомобиль и образование. В нижней части рейтинга - недвижимость. Допускаю, что покупка недвижимости - более осознанный шаг, к которому люди готовятся основательнее, а следовательно имеют куда более продуманный финансовый план. На \"вершине\" нашего рейтинга - получение дополнительного образования. Самое низкое значение у цели \"покупка своего жилья\". "
   ]
  },
  {
   "cell_type": "markdown",
   "metadata": {},
   "source": [
    "## 4. Выводы"
   ]
  },
  {
   "cell_type": "markdown",
   "metadata": {},
   "source": [
    "Мы изучили таблицу со статистикой платежеспособности клиентов, предобработали данные в ней и проверили несколько гипотез. \n",
    "\n",
    "**В ходе предобработки, мы:**\n",
    "- Избавлись от дубликатов\n",
    "- Обработали пропуски\n",
    "- Изменили тип некоторых данных\n",
    "- Леммтизировали столбец целей получения кредита для дальнейшей группировки\n",
    "- Создали словари с данными\n",
    "- Категоризировали данные для дальнейшего анализа\n",
    "\n",
    "**Затем провели исследование и получили следующие выводы:**\n",
    "\n",
    "Задолженность по возврату кредита чаще встречается у:\n",
    "- Клиентов с детьми\n",
    "- Клиентов без партнера или находящих в гражданском браке\n",
    "- Клиентов, которые берут кредит на авто и образование\n",
    "\n",
    "Уровень дохода при этом пропорционально не влияет на уровень возврата кредита в срок. Клиенты со средним доходом имеют меньше задолженностей, нежели клиенты с доходом выше среднего. "
   ]
  }
 ],
 "metadata": {
  "ExecuteTimeLog": [
   {
    "duration": 638,
    "start_time": "2021-08-14T07:00:42.663Z"
   },
   {
    "duration": 52,
    "start_time": "2021-08-14T07:10:15.586Z"
   },
   {
    "duration": 12,
    "start_time": "2021-08-14T07:10:36.875Z"
   },
   {
    "duration": 56,
    "start_time": "2021-08-14T07:14:24.943Z"
   },
   {
    "duration": 61,
    "start_time": "2021-08-14T07:14:35.731Z"
   },
   {
    "duration": 59,
    "start_time": "2021-08-14T07:14:59.631Z"
   },
   {
    "duration": 64,
    "start_time": "2021-08-14T07:15:08.903Z"
   },
   {
    "duration": 53,
    "start_time": "2021-08-14T07:15:15.461Z"
   },
   {
    "duration": 60,
    "start_time": "2021-08-14T07:17:15.115Z"
   },
   {
    "duration": 59,
    "start_time": "2021-08-14T07:17:34.300Z"
   },
   {
    "duration": 11,
    "start_time": "2021-08-14T07:18:31.926Z"
   },
   {
    "duration": 59,
    "start_time": "2021-08-14T07:18:45.721Z"
   },
   {
    "duration": 12,
    "start_time": "2021-08-14T07:37:17.226Z"
   },
   {
    "duration": 13,
    "start_time": "2021-08-14T07:38:37.931Z"
   },
   {
    "duration": 19,
    "start_time": "2021-08-14T07:38:44.094Z"
   },
   {
    "duration": 5,
    "start_time": "2021-08-14T07:39:05.160Z"
   },
   {
    "duration": 6,
    "start_time": "2021-08-14T07:39:32.960Z"
   },
   {
    "duration": 68,
    "start_time": "2021-08-14T07:39:45.331Z"
   },
   {
    "duration": 7,
    "start_time": "2021-08-14T07:41:14.643Z"
   },
   {
    "duration": 15,
    "start_time": "2021-08-14T07:41:53.199Z"
   },
   {
    "duration": 306,
    "start_time": "2021-08-14T07:47:57.014Z"
   },
   {
    "duration": 9,
    "start_time": "2021-08-14T07:48:10.304Z"
   },
   {
    "duration": 244,
    "start_time": "2021-08-14T07:48:26.654Z"
   },
   {
    "duration": 8,
    "start_time": "2021-08-14T07:51:30.111Z"
   },
   {
    "duration": 7,
    "start_time": "2021-08-14T07:51:41.272Z"
   },
   {
    "duration": 9,
    "start_time": "2021-08-14T07:52:09.389Z"
   },
   {
    "duration": 3,
    "start_time": "2021-08-14T07:52:37.690Z"
   },
   {
    "duration": 5,
    "start_time": "2021-08-14T07:52:43.829Z"
   },
   {
    "duration": 104,
    "start_time": "2021-08-14T07:53:30.653Z"
   },
   {
    "duration": 4,
    "start_time": "2021-08-14T07:53:33.474Z"
   },
   {
    "duration": 5,
    "start_time": "2021-08-14T07:53:51.680Z"
   },
   {
    "duration": 6,
    "start_time": "2021-08-14T07:54:37.609Z"
   },
   {
    "duration": 272,
    "start_time": "2021-08-14T07:54:58.591Z"
   },
   {
    "duration": 6,
    "start_time": "2021-08-14T07:55:08.248Z"
   },
   {
    "duration": 13,
    "start_time": "2021-08-14T07:56:32.930Z"
   },
   {
    "duration": 7,
    "start_time": "2021-08-14T07:56:41.503Z"
   },
   {
    "duration": 8,
    "start_time": "2021-08-14T07:56:48.120Z"
   },
   {
    "duration": 20,
    "start_time": "2021-08-14T07:57:05.364Z"
   },
   {
    "duration": 8,
    "start_time": "2021-08-14T07:57:08.901Z"
   },
   {
    "duration": 19,
    "start_time": "2021-08-14T07:58:59.049Z"
   },
   {
    "duration": 19,
    "start_time": "2021-08-14T07:59:05.263Z"
   },
   {
    "duration": 10,
    "start_time": "2021-08-14T07:59:47.846Z"
   },
   {
    "duration": 28,
    "start_time": "2021-08-14T08:00:03.125Z"
   },
   {
    "duration": 262,
    "start_time": "2021-08-14T08:00:27.323Z"
   },
   {
    "duration": 20,
    "start_time": "2021-08-14T08:00:42.692Z"
   },
   {
    "duration": 15,
    "start_time": "2021-08-14T08:00:52.942Z"
   },
   {
    "duration": 7,
    "start_time": "2021-08-14T08:01:07.876Z"
   },
   {
    "duration": 13,
    "start_time": "2021-08-14T08:01:12.849Z"
   },
   {
    "duration": 22,
    "start_time": "2021-08-14T08:01:17.486Z"
   },
   {
    "duration": 4,
    "start_time": "2021-08-14T08:02:12.186Z"
   },
   {
    "duration": 4,
    "start_time": "2021-08-14T08:02:31.274Z"
   },
   {
    "duration": 4,
    "start_time": "2021-08-14T08:03:05.297Z"
   },
   {
    "duration": 5,
    "start_time": "2021-08-14T08:03:10.514Z"
   },
   {
    "duration": 4,
    "start_time": "2021-08-14T08:03:44.218Z"
   },
   {
    "duration": 7,
    "start_time": "2021-08-14T08:04:05.382Z"
   },
   {
    "duration": 93,
    "start_time": "2021-08-14T08:05:08.454Z"
   },
   {
    "duration": 13,
    "start_time": "2021-08-14T08:05:41.967Z"
   },
   {
    "duration": 24,
    "start_time": "2021-08-14T08:06:45.532Z"
   },
   {
    "duration": 15,
    "start_time": "2021-08-14T08:07:59.854Z"
   },
   {
    "duration": 14,
    "start_time": "2021-08-14T08:16:53.689Z"
   },
   {
    "duration": 14,
    "start_time": "2021-08-14T08:16:55.866Z"
   },
   {
    "duration": 5,
    "start_time": "2021-08-14T08:17:19.770Z"
   },
   {
    "duration": 284,
    "start_time": "2021-08-14T08:19:08.712Z"
   },
   {
    "duration": 259,
    "start_time": "2021-08-14T08:19:58.683Z"
   },
   {
    "duration": 4,
    "start_time": "2021-08-14T08:21:58.199Z"
   },
   {
    "duration": 3,
    "start_time": "2021-08-14T08:22:02.987Z"
   },
   {
    "duration": 31,
    "start_time": "2021-08-14T08:22:06.730Z"
   },
   {
    "duration": 12,
    "start_time": "2021-08-14T08:22:26.918Z"
   },
   {
    "duration": 6,
    "start_time": "2021-08-14T08:23:01.151Z"
   },
   {
    "duration": 5,
    "start_time": "2021-08-14T08:23:24.692Z"
   },
   {
    "duration": 6,
    "start_time": "2021-08-14T08:23:32.252Z"
   },
   {
    "duration": 4,
    "start_time": "2021-08-14T08:24:12.264Z"
   },
   {
    "duration": 646,
    "start_time": "2021-08-14T08:25:24.252Z"
   },
   {
    "duration": 10,
    "start_time": "2021-08-14T08:25:24.900Z"
   },
   {
    "duration": 8,
    "start_time": "2021-08-14T08:25:24.912Z"
   },
   {
    "duration": 18,
    "start_time": "2021-08-14T08:25:24.921Z"
   },
   {
    "duration": 24,
    "start_time": "2021-08-14T08:25:24.942Z"
   },
   {
    "duration": 4,
    "start_time": "2021-08-14T08:25:24.968Z"
   },
   {
    "duration": 14,
    "start_time": "2021-08-14T08:25:24.974Z"
   },
   {
    "duration": 14,
    "start_time": "2021-08-14T08:25:24.991Z"
   },
   {
    "duration": 5,
    "start_time": "2021-08-14T08:25:25.007Z"
   },
   {
    "duration": 31,
    "start_time": "2021-08-14T08:25:25.014Z"
   },
   {
    "duration": 13,
    "start_time": "2021-08-14T08:25:25.050Z"
   },
   {
    "duration": 9,
    "start_time": "2021-08-14T08:25:25.065Z"
   },
   {
    "duration": 7,
    "start_time": "2021-08-14T08:25:25.076Z"
   },
   {
    "duration": 8,
    "start_time": "2021-08-14T08:28:43.575Z"
   },
   {
    "duration": 8,
    "start_time": "2021-08-14T08:28:58.376Z"
   },
   {
    "duration": 8,
    "start_time": "2021-08-14T08:29:17.076Z"
   },
   {
    "duration": 8,
    "start_time": "2021-08-14T08:29:18.872Z"
   },
   {
    "duration": 11,
    "start_time": "2021-08-14T08:29:40.084Z"
   },
   {
    "duration": 8,
    "start_time": "2021-08-14T08:29:56.329Z"
   },
   {
    "duration": 61,
    "start_time": "2021-08-14T08:34:25.454Z"
   },
   {
    "duration": 55,
    "start_time": "2021-08-14T08:35:28.147Z"
   },
   {
    "duration": 7,
    "start_time": "2021-08-14T08:40:36.184Z"
   },
   {
    "duration": 7,
    "start_time": "2021-08-14T08:40:57.208Z"
   },
   {
    "duration": 628,
    "start_time": "2021-08-14T08:41:04.055Z"
   },
   {
    "duration": 12,
    "start_time": "2021-08-14T08:41:04.685Z"
   },
   {
    "duration": 5,
    "start_time": "2021-08-14T08:41:04.699Z"
   },
   {
    "duration": 8,
    "start_time": "2021-08-14T08:41:04.706Z"
   },
   {
    "duration": 30,
    "start_time": "2021-08-14T08:41:04.716Z"
   },
   {
    "duration": 3,
    "start_time": "2021-08-14T08:41:04.748Z"
   },
   {
    "duration": 9,
    "start_time": "2021-08-14T08:41:04.753Z"
   },
   {
    "duration": 13,
    "start_time": "2021-08-14T08:41:04.764Z"
   },
   {
    "duration": 4,
    "start_time": "2021-08-14T08:41:04.778Z"
   },
   {
    "duration": 6,
    "start_time": "2021-08-14T08:41:04.784Z"
   },
   {
    "duration": 16,
    "start_time": "2021-08-14T08:41:04.791Z"
   },
   {
    "duration": 5,
    "start_time": "2021-08-14T08:41:04.841Z"
   },
   {
    "duration": 5,
    "start_time": "2021-08-14T08:41:04.848Z"
   },
   {
    "duration": 8,
    "start_time": "2021-08-14T08:41:04.855Z"
   },
   {
    "duration": 7,
    "start_time": "2021-08-14T08:41:04.865Z"
   },
   {
    "duration": 9,
    "start_time": "2021-08-14T08:41:08.935Z"
   },
   {
    "duration": 4,
    "start_time": "2021-08-14T08:41:34.191Z"
   },
   {
    "duration": 6,
    "start_time": "2021-08-14T08:46:03.023Z"
   },
   {
    "duration": 5,
    "start_time": "2021-08-14T08:46:18.615Z"
   },
   {
    "duration": 4,
    "start_time": "2021-08-14T08:46:51.356Z"
   },
   {
    "duration": 4,
    "start_time": "2021-08-14T08:46:56.832Z"
   },
   {
    "duration": 407,
    "start_time": "2021-08-14T08:47:21.423Z"
   },
   {
    "duration": 25,
    "start_time": "2021-08-14T08:48:31.356Z"
   },
   {
    "duration": 89,
    "start_time": "2021-08-14T08:48:57.893Z"
   },
   {
    "duration": 4,
    "start_time": "2021-08-14T08:49:00.557Z"
   },
   {
    "duration": 7,
    "start_time": "2021-08-14T08:49:06.976Z"
   },
   {
    "duration": 5,
    "start_time": "2021-08-14T08:49:09.572Z"
   },
   {
    "duration": 11,
    "start_time": "2021-08-14T08:49:21.647Z"
   },
   {
    "duration": 29,
    "start_time": "2021-08-14T08:50:44.254Z"
   },
   {
    "duration": 24,
    "start_time": "2021-08-14T08:51:17.951Z"
   },
   {
    "duration": 39,
    "start_time": "2021-08-14T08:51:21.861Z"
   },
   {
    "duration": 623,
    "start_time": "2021-08-14T08:52:29.351Z"
   },
   {
    "duration": 10,
    "start_time": "2021-08-14T08:52:29.976Z"
   },
   {
    "duration": 7,
    "start_time": "2021-08-14T08:52:29.988Z"
   },
   {
    "duration": 14,
    "start_time": "2021-08-14T08:52:29.996Z"
   },
   {
    "duration": 15,
    "start_time": "2021-08-14T08:52:30.012Z"
   },
   {
    "duration": 13,
    "start_time": "2021-08-14T08:52:30.029Z"
   },
   {
    "duration": 13,
    "start_time": "2021-08-14T08:52:30.044Z"
   },
   {
    "duration": 19,
    "start_time": "2021-08-14T08:52:30.059Z"
   },
   {
    "duration": 3,
    "start_time": "2021-08-14T08:52:30.080Z"
   },
   {
    "duration": 8,
    "start_time": "2021-08-14T08:52:30.085Z"
   },
   {
    "duration": 13,
    "start_time": "2021-08-14T08:52:30.094Z"
   },
   {
    "duration": 16,
    "start_time": "2021-08-14T08:52:30.108Z"
   },
   {
    "duration": 23,
    "start_time": "2021-08-14T08:52:30.125Z"
   },
   {
    "duration": 11,
    "start_time": "2021-08-14T08:52:30.149Z"
   },
   {
    "duration": 26,
    "start_time": "2021-08-14T08:52:30.161Z"
   },
   {
    "duration": 12,
    "start_time": "2021-08-14T08:52:30.189Z"
   },
   {
    "duration": 37,
    "start_time": "2021-08-14T08:53:11.406Z"
   },
   {
    "duration": 38,
    "start_time": "2021-08-14T08:53:24.334Z"
   },
   {
    "duration": 36,
    "start_time": "2021-08-14T08:54:17.258Z"
   },
   {
    "duration": 37,
    "start_time": "2021-08-14T08:54:28.039Z"
   },
   {
    "duration": 35,
    "start_time": "2021-08-14T08:55:30.820Z"
   },
   {
    "duration": 37,
    "start_time": "2021-08-14T08:56:58.612Z"
   },
   {
    "duration": 27,
    "start_time": "2021-08-14T08:57:12.682Z"
   },
   {
    "duration": 26,
    "start_time": "2021-08-14T08:58:08.084Z"
   },
   {
    "duration": 39,
    "start_time": "2021-08-14T08:58:13.390Z"
   },
   {
    "duration": 41,
    "start_time": "2021-08-14T08:58:32.477Z"
   },
   {
    "duration": 605,
    "start_time": "2021-08-14T08:58:48.773Z"
   },
   {
    "duration": 10,
    "start_time": "2021-08-14T08:58:49.380Z"
   },
   {
    "duration": 3,
    "start_time": "2021-08-14T08:58:49.392Z"
   },
   {
    "duration": 5,
    "start_time": "2021-08-14T08:58:49.397Z"
   },
   {
    "duration": 13,
    "start_time": "2021-08-14T08:58:49.404Z"
   },
   {
    "duration": 24,
    "start_time": "2021-08-14T08:58:49.419Z"
   },
   {
    "duration": 8,
    "start_time": "2021-08-14T08:58:49.445Z"
   },
   {
    "duration": 13,
    "start_time": "2021-08-14T08:58:49.455Z"
   },
   {
    "duration": 4,
    "start_time": "2021-08-14T08:58:49.469Z"
   },
   {
    "duration": 6,
    "start_time": "2021-08-14T08:58:49.474Z"
   },
   {
    "duration": 11,
    "start_time": "2021-08-14T08:58:49.481Z"
   },
   {
    "duration": 8,
    "start_time": "2021-08-14T08:58:49.493Z"
   },
   {
    "duration": 41,
    "start_time": "2021-08-14T08:58:49.502Z"
   },
   {
    "duration": 8,
    "start_time": "2021-08-14T08:58:49.545Z"
   },
   {
    "duration": 7,
    "start_time": "2021-08-14T08:58:49.554Z"
   },
   {
    "duration": 42,
    "start_time": "2021-08-14T08:58:49.563Z"
   },
   {
    "duration": 866,
    "start_time": "2021-08-15T10:43:09.554Z"
   },
   {
    "duration": 859,
    "start_time": "2021-08-15T10:44:42.263Z"
   },
   {
    "duration": 15,
    "start_time": "2021-08-15T10:44:43.124Z"
   },
   {
    "duration": 22,
    "start_time": "2021-08-15T10:44:43.142Z"
   },
   {
    "duration": 10,
    "start_time": "2021-08-15T10:44:43.167Z"
   },
   {
    "duration": 23,
    "start_time": "2021-08-15T10:44:43.180Z"
   },
   {
    "duration": 9,
    "start_time": "2021-08-15T10:44:43.206Z"
   },
   {
    "duration": 45,
    "start_time": "2021-08-15T10:44:43.217Z"
   },
   {
    "duration": 21,
    "start_time": "2021-08-15T10:44:43.266Z"
   },
   {
    "duration": 7,
    "start_time": "2021-08-15T10:44:43.290Z"
   },
   {
    "duration": 8,
    "start_time": "2021-08-15T10:44:43.299Z"
   },
   {
    "duration": 55,
    "start_time": "2021-08-15T10:44:43.309Z"
   },
   {
    "duration": 6,
    "start_time": "2021-08-15T10:44:43.367Z"
   },
   {
    "duration": 10,
    "start_time": "2021-08-15T10:44:43.376Z"
   },
   {
    "duration": 12,
    "start_time": "2021-08-15T10:44:43.389Z"
   },
   {
    "duration": 11,
    "start_time": "2021-08-15T10:44:43.403Z"
   },
   {
    "duration": 478,
    "start_time": "2021-08-15T10:44:43.461Z"
   },
   {
    "duration": 60,
    "start_time": "2021-08-15T10:44:50.700Z"
   },
   {
    "duration": 41,
    "start_time": "2021-08-15T10:45:04.918Z"
   },
   {
    "duration": 44,
    "start_time": "2021-08-15T10:45:19.384Z"
   },
   {
    "duration": 63,
    "start_time": "2021-08-15T10:47:39.470Z"
   },
   {
    "duration": 62,
    "start_time": "2021-08-15T10:47:45.462Z"
   },
   {
    "duration": 30,
    "start_time": "2021-08-15T10:49:39.190Z"
   },
   {
    "duration": 42,
    "start_time": "2021-08-15T10:49:58.953Z"
   },
   {
    "duration": 116,
    "start_time": "2021-08-15T10:52:57.205Z"
   },
   {
    "duration": 63,
    "start_time": "2021-08-15T10:53:12.072Z"
   },
   {
    "duration": 10,
    "start_time": "2021-08-15T10:54:28.436Z"
   },
   {
    "duration": 871,
    "start_time": "2021-08-15T10:56:36.524Z"
   },
   {
    "duration": 15,
    "start_time": "2021-08-15T10:56:37.398Z"
   },
   {
    "duration": 6,
    "start_time": "2021-08-15T10:56:37.416Z"
   },
   {
    "duration": 8,
    "start_time": "2021-08-15T10:56:37.425Z"
   },
   {
    "duration": 42,
    "start_time": "2021-08-15T10:56:37.435Z"
   },
   {
    "duration": 11,
    "start_time": "2021-08-15T10:56:37.480Z"
   },
   {
    "duration": 15,
    "start_time": "2021-08-15T10:56:37.493Z"
   },
   {
    "duration": 22,
    "start_time": "2021-08-15T10:56:37.511Z"
   },
   {
    "duration": 6,
    "start_time": "2021-08-15T10:56:37.562Z"
   },
   {
    "duration": 19,
    "start_time": "2021-08-15T10:56:37.570Z"
   },
   {
    "duration": 18,
    "start_time": "2021-08-15T10:56:37.592Z"
   },
   {
    "duration": 6,
    "start_time": "2021-08-15T10:56:37.612Z"
   },
   {
    "duration": 18,
    "start_time": "2021-08-15T10:56:37.620Z"
   },
   {
    "duration": 28,
    "start_time": "2021-08-15T10:56:37.641Z"
   },
   {
    "duration": 19,
    "start_time": "2021-08-15T10:56:37.671Z"
   },
   {
    "duration": 9,
    "start_time": "2021-08-15T10:56:37.692Z"
   },
   {
    "duration": 440,
    "start_time": "2021-08-15T10:56:37.703Z"
   },
   {
    "duration": 41,
    "start_time": "2021-08-15T10:59:10.539Z"
   },
   {
    "duration": 64,
    "start_time": "2021-08-15T11:00:06.494Z"
   },
   {
    "duration": 14,
    "start_time": "2021-08-15T11:02:02.022Z"
   },
   {
    "duration": 9,
    "start_time": "2021-08-15T11:02:26.738Z"
   },
   {
    "duration": 14,
    "start_time": "2021-08-15T11:03:37.166Z"
   },
   {
    "duration": 67,
    "start_time": "2021-08-15T11:06:01.821Z"
   },
   {
    "duration": 62,
    "start_time": "2021-08-15T11:06:09.674Z"
   },
   {
    "duration": 2309,
    "start_time": "2021-08-15T11:07:08.707Z"
   },
   {
    "duration": 2444,
    "start_time": "2021-08-15T11:08:10.635Z"
   },
   {
    "duration": 2281,
    "start_time": "2021-08-15T11:08:31.315Z"
   },
   {
    "duration": 28,
    "start_time": "2021-08-15T11:08:39.453Z"
   },
   {
    "duration": 38,
    "start_time": "2021-08-15T11:08:48.716Z"
   },
   {
    "duration": 42,
    "start_time": "2021-08-15T11:10:00.358Z"
   },
   {
    "duration": 42,
    "start_time": "2021-08-15T11:12:08.897Z"
   },
   {
    "duration": 18,
    "start_time": "2021-08-15T11:14:09.424Z"
   },
   {
    "duration": 917,
    "start_time": "2021-08-15T11:19:44.780Z"
   },
   {
    "duration": 23,
    "start_time": "2021-08-15T11:19:45.700Z"
   },
   {
    "duration": 7,
    "start_time": "2021-08-15T11:19:45.727Z"
   },
   {
    "duration": 30,
    "start_time": "2021-08-15T11:19:45.737Z"
   },
   {
    "duration": 22,
    "start_time": "2021-08-15T11:19:45.770Z"
   },
   {
    "duration": 6,
    "start_time": "2021-08-15T11:19:45.794Z"
   },
   {
    "duration": 14,
    "start_time": "2021-08-15T11:19:45.803Z"
   },
   {
    "duration": 25,
    "start_time": "2021-08-15T11:19:45.865Z"
   },
   {
    "duration": 7,
    "start_time": "2021-08-15T11:19:45.894Z"
   },
   {
    "duration": 9,
    "start_time": "2021-08-15T11:19:45.904Z"
   },
   {
    "duration": 59,
    "start_time": "2021-08-15T11:19:45.916Z"
   },
   {
    "duration": 30,
    "start_time": "2021-08-15T11:19:45.977Z"
   },
   {
    "duration": 12,
    "start_time": "2021-08-15T11:19:46.010Z"
   },
   {
    "duration": 25,
    "start_time": "2021-08-15T11:19:46.025Z"
   },
   {
    "duration": 21,
    "start_time": "2021-08-15T11:19:46.052Z"
   },
   {
    "duration": 19,
    "start_time": "2021-08-15T11:19:46.076Z"
   },
   {
    "duration": 221,
    "start_time": "2021-08-15T11:19:46.098Z"
   },
   {
    "duration": 160,
    "start_time": "2021-08-15T11:20:14.125Z"
   },
   {
    "duration": 168,
    "start_time": "2021-08-15T11:21:15.120Z"
   },
   {
    "duration": 161,
    "start_time": "2021-08-15T11:21:25.593Z"
   },
   {
    "duration": 155,
    "start_time": "2021-08-15T11:21:42.210Z"
   },
   {
    "duration": 152,
    "start_time": "2021-08-15T11:21:50.601Z"
   },
   {
    "duration": 11,
    "start_time": "2021-08-15T11:21:52.185Z"
   },
   {
    "duration": 15,
    "start_time": "2021-08-15T11:22:40.958Z"
   },
   {
    "duration": 19,
    "start_time": "2021-08-15T11:23:18.944Z"
   },
   {
    "duration": 34,
    "start_time": "2021-08-15T11:23:24.600Z"
   },
   {
    "duration": 23,
    "start_time": "2021-08-15T11:23:36.078Z"
   },
   {
    "duration": 15,
    "start_time": "2021-08-15T11:23:47.119Z"
   },
   {
    "duration": 8,
    "start_time": "2021-08-15T11:25:19.327Z"
   },
   {
    "duration": 7,
    "start_time": "2021-08-15T11:25:25.089Z"
   },
   {
    "duration": 11,
    "start_time": "2021-08-15T11:26:53.708Z"
   },
   {
    "duration": 10,
    "start_time": "2021-08-15T11:30:34.291Z"
   },
   {
    "duration": 10,
    "start_time": "2021-08-15T11:30:45.547Z"
   },
   {
    "duration": 7,
    "start_time": "2021-08-15T11:32:36.078Z"
   },
   {
    "duration": 8,
    "start_time": "2021-08-15T11:32:51.446Z"
   },
   {
    "duration": 11,
    "start_time": "2021-08-15T11:32:53.760Z"
   },
   {
    "duration": 150,
    "start_time": "2021-08-15T11:33:57.039Z"
   },
   {
    "duration": 15,
    "start_time": "2021-08-15T11:33:57.980Z"
   },
   {
    "duration": 33,
    "start_time": "2021-08-15T11:36:42.229Z"
   },
   {
    "duration": 17,
    "start_time": "2021-08-15T11:37:05.008Z"
   },
   {
    "duration": 17,
    "start_time": "2021-08-15T11:37:22.561Z"
   },
   {
    "duration": 5,
    "start_time": "2021-08-15T11:37:27.748Z"
   },
   {
    "duration": 7,
    "start_time": "2021-08-15T11:37:54.485Z"
   },
   {
    "duration": 18,
    "start_time": "2021-08-15T11:37:55.349Z"
   },
   {
    "duration": 19,
    "start_time": "2021-08-15T11:38:05.567Z"
   },
   {
    "duration": 23,
    "start_time": "2021-08-15T11:38:20.279Z"
   },
   {
    "duration": 858,
    "start_time": "2021-08-15T11:38:30.341Z"
   },
   {
    "duration": 15,
    "start_time": "2021-08-15T11:38:31.201Z"
   },
   {
    "duration": 29,
    "start_time": "2021-08-15T11:38:31.219Z"
   },
   {
    "duration": 11,
    "start_time": "2021-08-15T11:38:31.251Z"
   },
   {
    "duration": 33,
    "start_time": "2021-08-15T11:38:31.264Z"
   },
   {
    "duration": 10,
    "start_time": "2021-08-15T11:38:31.299Z"
   },
   {
    "duration": 23,
    "start_time": "2021-08-15T11:38:31.312Z"
   },
   {
    "duration": 38,
    "start_time": "2021-08-15T11:38:31.338Z"
   },
   {
    "duration": 7,
    "start_time": "2021-08-15T11:38:31.380Z"
   },
   {
    "duration": 19,
    "start_time": "2021-08-15T11:38:31.391Z"
   },
   {
    "duration": 34,
    "start_time": "2021-08-15T11:38:31.412Z"
   },
   {
    "duration": 17,
    "start_time": "2021-08-15T11:38:31.448Z"
   },
   {
    "duration": 20,
    "start_time": "2021-08-15T11:38:31.467Z"
   },
   {
    "duration": 14,
    "start_time": "2021-08-15T11:38:31.489Z"
   },
   {
    "duration": 14,
    "start_time": "2021-08-15T11:38:31.505Z"
   },
   {
    "duration": 42,
    "start_time": "2021-08-15T11:38:31.521Z"
   },
   {
    "duration": 164,
    "start_time": "2021-08-15T11:38:31.565Z"
   },
   {
    "duration": 14,
    "start_time": "2021-08-15T11:38:31.732Z"
   },
   {
    "duration": 11,
    "start_time": "2021-08-15T11:38:31.761Z"
   },
   {
    "duration": 11,
    "start_time": "2021-08-15T11:38:31.774Z"
   },
   {
    "duration": 183,
    "start_time": "2021-08-15T11:38:31.787Z"
   },
   {
    "duration": 20,
    "start_time": "2021-08-15T11:38:31.973Z"
   },
   {
    "duration": 34,
    "start_time": "2021-08-15T11:38:31.996Z"
   },
   {
    "duration": 35,
    "start_time": "2021-08-15T11:38:32.033Z"
   },
   {
    "duration": 23,
    "start_time": "2021-08-15T11:38:32.071Z"
   },
   {
    "duration": 23,
    "start_time": "2021-08-15T11:38:43.762Z"
   },
   {
    "duration": 26,
    "start_time": "2021-08-15T11:39:18.181Z"
   },
   {
    "duration": 23,
    "start_time": "2021-08-15T11:39:21.849Z"
   },
   {
    "duration": 25,
    "start_time": "2021-08-15T11:39:29.427Z"
   },
   {
    "duration": 44,
    "start_time": "2021-08-15T11:39:46.889Z"
   },
   {
    "duration": 30,
    "start_time": "2021-08-15T11:39:56.983Z"
   },
   {
    "duration": 22,
    "start_time": "2021-08-15T11:40:44.857Z"
   },
   {
    "duration": 41,
    "start_time": "2021-08-15T11:41:49.877Z"
   },
   {
    "duration": 815,
    "start_time": "2021-08-15T11:43:29.873Z"
   },
   {
    "duration": 17,
    "start_time": "2021-08-15T11:43:30.690Z"
   },
   {
    "duration": 7,
    "start_time": "2021-08-15T11:43:30.710Z"
   },
   {
    "duration": 11,
    "start_time": "2021-08-15T11:43:30.719Z"
   },
   {
    "duration": 46,
    "start_time": "2021-08-15T11:43:30.733Z"
   },
   {
    "duration": 5,
    "start_time": "2021-08-15T11:43:30.782Z"
   },
   {
    "duration": 18,
    "start_time": "2021-08-15T11:43:30.790Z"
   },
   {
    "duration": 51,
    "start_time": "2021-08-15T11:43:30.812Z"
   },
   {
    "duration": 6,
    "start_time": "2021-08-15T11:43:30.867Z"
   },
   {
    "duration": 21,
    "start_time": "2021-08-15T11:43:30.875Z"
   },
   {
    "duration": 28,
    "start_time": "2021-08-15T11:43:30.898Z"
   },
   {
    "duration": 22,
    "start_time": "2021-08-15T11:43:30.928Z"
   },
   {
    "duration": 19,
    "start_time": "2021-08-15T11:43:30.952Z"
   },
   {
    "duration": 12,
    "start_time": "2021-08-15T11:43:30.973Z"
   },
   {
    "duration": 19,
    "start_time": "2021-08-15T11:43:30.989Z"
   },
   {
    "duration": 19,
    "start_time": "2021-08-15T11:43:31.011Z"
   },
   {
    "duration": 228,
    "start_time": "2021-08-15T11:43:31.062Z"
   },
   {
    "duration": 22,
    "start_time": "2021-08-15T11:43:31.293Z"
   },
   {
    "duration": 16,
    "start_time": "2021-08-15T11:43:31.318Z"
   },
   {
    "duration": 41,
    "start_time": "2021-08-15T11:43:31.337Z"
   },
   {
    "duration": 164,
    "start_time": "2021-08-15T11:43:31.380Z"
   },
   {
    "duration": 21,
    "start_time": "2021-08-15T11:43:31.547Z"
   },
   {
    "duration": 23,
    "start_time": "2021-08-15T11:43:31.573Z"
   },
   {
    "duration": 17,
    "start_time": "2021-08-15T11:43:31.599Z"
   },
   {
    "duration": 49,
    "start_time": "2021-08-15T11:43:31.618Z"
   },
   {
    "duration": 138,
    "start_time": "2021-08-15T11:43:31.670Z"
   },
   {
    "duration": -171,
    "start_time": "2021-08-15T11:43:31.981Z"
   },
   {
    "duration": 26,
    "start_time": "2021-08-15T11:43:35.608Z"
   },
   {
    "duration": 23,
    "start_time": "2021-08-15T11:43:40.075Z"
   },
   {
    "duration": 45,
    "start_time": "2021-08-15T11:44:48.507Z"
   },
   {
    "duration": 47,
    "start_time": "2021-08-15T11:46:31.723Z"
   },
   {
    "duration": 49,
    "start_time": "2021-08-15T11:48:10.976Z"
   },
   {
    "duration": 34,
    "start_time": "2021-08-15T11:49:31.302Z"
   },
   {
    "duration": 34,
    "start_time": "2021-08-15T11:49:37.340Z"
   },
   {
    "duration": 32,
    "start_time": "2021-08-15T11:49:40.789Z"
   },
   {
    "duration": 68,
    "start_time": "2021-08-15T11:49:41.813Z"
   },
   {
    "duration": 129,
    "start_time": "2021-08-15T11:50:52.485Z"
   },
   {
    "duration": 43,
    "start_time": "2021-08-15T11:52:55.072Z"
   },
   {
    "duration": 10,
    "start_time": "2021-08-15T11:57:04.749Z"
   },
   {
    "duration": 3,
    "start_time": "2021-08-15T11:57:29.834Z"
   },
   {
    "duration": 8,
    "start_time": "2021-08-15T11:59:20.503Z"
   },
   {
    "duration": 7,
    "start_time": "2021-08-15T11:59:42.475Z"
   },
   {
    "duration": 439,
    "start_time": "2021-08-15T12:01:23.341Z"
   },
   {
    "duration": 1288,
    "start_time": "2021-08-15T12:02:59.290Z"
   },
   {
    "duration": 19,
    "start_time": "2021-08-15T12:03:31.331Z"
   },
   {
    "duration": 20,
    "start_time": "2021-08-15T12:03:33.690Z"
   },
   {
    "duration": 20,
    "start_time": "2021-08-15T12:03:49.158Z"
   },
   {
    "duration": 119,
    "start_time": "2021-08-15T12:05:57.622Z"
   },
   {
    "duration": 387,
    "start_time": "2021-08-15T12:06:22.682Z"
   },
   {
    "duration": 322,
    "start_time": "2021-08-15T12:07:07.611Z"
   },
   {
    "duration": 8,
    "start_time": "2021-08-15T12:07:42.769Z"
   },
   {
    "duration": 412,
    "start_time": "2021-08-15T12:08:37.158Z"
   },
   {
    "duration": 348,
    "start_time": "2021-08-15T12:08:40.971Z"
   },
   {
    "duration": 103,
    "start_time": "2021-08-15T12:09:25.774Z"
   },
   {
    "duration": 23,
    "start_time": "2021-08-15T12:09:29.569Z"
   },
   {
    "duration": 19,
    "start_time": "2021-08-15T12:16:55.891Z"
   },
   {
    "duration": 16,
    "start_time": "2021-08-15T12:16:57.988Z"
   },
   {
    "duration": 14,
    "start_time": "2021-08-15T12:17:33.244Z"
   },
   {
    "duration": 7,
    "start_time": "2021-08-15T12:21:21.347Z"
   },
   {
    "duration": 15,
    "start_time": "2021-08-15T12:21:22.666Z"
   },
   {
    "duration": 15,
    "start_time": "2021-08-15T12:21:38.592Z"
   },
   {
    "duration": 106,
    "start_time": "2021-08-15T12:22:58.237Z"
   },
   {
    "duration": 27,
    "start_time": "2021-08-15T12:23:06.819Z"
   },
   {
    "duration": 9,
    "start_time": "2021-08-15T12:23:37.536Z"
   },
   {
    "duration": 9,
    "start_time": "2021-08-15T12:24:00.037Z"
   },
   {
    "duration": 7,
    "start_time": "2021-08-15T12:24:14.220Z"
   },
   {
    "duration": 20,
    "start_time": "2021-08-15T12:24:15.767Z"
   },
   {
    "duration": 385,
    "start_time": "2021-08-15T12:28:58.531Z"
   },
   {
    "duration": 69,
    "start_time": "2021-08-15T12:29:21.934Z"
   },
   {
    "duration": 41,
    "start_time": "2021-08-15T12:29:34.447Z"
   },
   {
    "duration": 8,
    "start_time": "2021-08-15T12:33:27.902Z"
   },
   {
    "duration": 8,
    "start_time": "2021-08-15T12:34:38.572Z"
   },
   {
    "duration": 11,
    "start_time": "2021-08-15T12:35:54.051Z"
   },
   {
    "duration": 9,
    "start_time": "2021-08-15T12:37:00.780Z"
   },
   {
    "duration": 10,
    "start_time": "2021-08-15T12:37:05.673Z"
   },
   {
    "duration": 4,
    "start_time": "2021-08-15T12:46:24.279Z"
   },
   {
    "duration": 11,
    "start_time": "2021-08-15T12:47:11.580Z"
   },
   {
    "duration": 25,
    "start_time": "2021-08-15T12:47:17.760Z"
   },
   {
    "duration": 5,
    "start_time": "2021-08-15T12:47:35.791Z"
   },
   {
    "duration": 26,
    "start_time": "2021-08-15T12:47:55.762Z"
   },
   {
    "duration": 14,
    "start_time": "2021-08-15T12:48:32.097Z"
   },
   {
    "duration": 5,
    "start_time": "2021-08-15T12:50:09.342Z"
   },
   {
    "duration": 10,
    "start_time": "2021-08-15T12:51:25.237Z"
   },
   {
    "duration": 5,
    "start_time": "2021-08-15T12:53:06.013Z"
   },
   {
    "duration": 5,
    "start_time": "2021-08-15T12:53:21.311Z"
   },
   {
    "duration": 5,
    "start_time": "2021-08-15T12:56:50.970Z"
   },
   {
    "duration": 6,
    "start_time": "2021-08-15T12:57:07.772Z"
   },
   {
    "duration": 5,
    "start_time": "2021-08-15T12:57:08.917Z"
   },
   {
    "duration": 11,
    "start_time": "2021-08-15T12:58:25.739Z"
   },
   {
    "duration": 27,
    "start_time": "2021-08-15T12:59:44.735Z"
   },
   {
    "duration": 14,
    "start_time": "2021-08-15T13:00:12.376Z"
   },
   {
    "duration": 11,
    "start_time": "2021-08-15T13:00:55.595Z"
   },
   {
    "duration": 8,
    "start_time": "2021-08-15T13:01:25.167Z"
   },
   {
    "duration": 12,
    "start_time": "2021-08-15T13:01:31.093Z"
   },
   {
    "duration": 350,
    "start_time": "2021-08-15T13:03:32.988Z"
   },
   {
    "duration": 471,
    "start_time": "2021-08-15T13:05:40.818Z"
   },
   {
    "duration": 12,
    "start_time": "2021-08-15T13:05:57.329Z"
   },
   {
    "duration": 11,
    "start_time": "2021-08-15T13:08:16.774Z"
   },
   {
    "duration": 319,
    "start_time": "2021-08-15T13:08:18.609Z"
   },
   {
    "duration": 11,
    "start_time": "2021-08-15T13:08:23.322Z"
   },
   {
    "duration": 124,
    "start_time": "2021-08-15T13:09:07.262Z"
   },
   {
    "duration": 13,
    "start_time": "2021-08-15T13:09:14.450Z"
   },
   {
    "duration": 12,
    "start_time": "2021-08-15T13:09:24.329Z"
   },
   {
    "duration": 17,
    "start_time": "2021-08-15T13:11:17.381Z"
   },
   {
    "duration": 12,
    "start_time": "2021-08-15T13:11:50.695Z"
   },
   {
    "duration": 13,
    "start_time": "2021-08-15T13:11:59.105Z"
   },
   {
    "duration": 19,
    "start_time": "2021-08-15T13:16:08.006Z"
   },
   {
    "duration": 7,
    "start_time": "2021-08-15T13:16:32.905Z"
   },
   {
    "duration": 8,
    "start_time": "2021-08-15T13:16:38.818Z"
   },
   {
    "duration": 7,
    "start_time": "2021-08-15T13:16:49.948Z"
   },
   {
    "duration": 7,
    "start_time": "2021-08-15T13:26:41.532Z"
   },
   {
    "duration": 70,
    "start_time": "2021-08-15T13:27:35.905Z"
   },
   {
    "duration": 8,
    "start_time": "2021-08-15T13:28:28.181Z"
   },
   {
    "duration": 5,
    "start_time": "2021-08-15T13:28:32.636Z"
   },
   {
    "duration": 50,
    "start_time": "2021-08-15T13:28:33.982Z"
   },
   {
    "duration": 32,
    "start_time": "2021-08-15T13:29:19.049Z"
   },
   {
    "duration": 43,
    "start_time": "2021-08-15T13:29:30.426Z"
   },
   {
    "duration": 33,
    "start_time": "2021-08-15T13:29:43.448Z"
   },
   {
    "duration": 381,
    "start_time": "2021-08-15T13:30:12.336Z"
   },
   {
    "duration": 10,
    "start_time": "2021-08-15T13:30:17.499Z"
   },
   {
    "duration": 8,
    "start_time": "2021-08-15T13:30:46.905Z"
   },
   {
    "duration": 7,
    "start_time": "2021-08-15T13:31:52.950Z"
   },
   {
    "duration": 31,
    "start_time": "2021-08-15T13:31:54.655Z"
   },
   {
    "duration": 11,
    "start_time": "2021-08-15T13:31:57.254Z"
   },
   {
    "duration": 10,
    "start_time": "2021-08-15T13:33:53.018Z"
   },
   {
    "duration": 6,
    "start_time": "2021-08-15T13:34:24.713Z"
   },
   {
    "duration": 5,
    "start_time": "2021-08-15T13:34:39.552Z"
   },
   {
    "duration": 6,
    "start_time": "2021-08-15T13:34:51.743Z"
   },
   {
    "duration": 10,
    "start_time": "2021-08-15T13:35:22.633Z"
   },
   {
    "duration": 11,
    "start_time": "2021-08-15T13:35:26.465Z"
   },
   {
    "duration": 8,
    "start_time": "2021-08-15T13:36:45.019Z"
   },
   {
    "duration": 757,
    "start_time": "2021-08-15T13:44:29.732Z"
   },
   {
    "duration": 498,
    "start_time": "2021-08-16T05:59:31.683Z"
   },
   {
    "duration": 927,
    "start_time": "2021-08-16T05:59:49.009Z"
   },
   {
    "duration": 34,
    "start_time": "2021-08-16T05:59:49.939Z"
   },
   {
    "duration": 6,
    "start_time": "2021-08-16T05:59:49.977Z"
   },
   {
    "duration": 11,
    "start_time": "2021-08-16T05:59:49.987Z"
   },
   {
    "duration": 26,
    "start_time": "2021-08-16T05:59:50.001Z"
   },
   {
    "duration": 39,
    "start_time": "2021-08-16T05:59:50.030Z"
   },
   {
    "duration": 12,
    "start_time": "2021-08-16T05:59:50.072Z"
   },
   {
    "duration": 23,
    "start_time": "2021-08-16T05:59:50.088Z"
   },
   {
    "duration": 6,
    "start_time": "2021-08-16T05:59:50.114Z"
   },
   {
    "duration": 47,
    "start_time": "2021-08-16T05:59:50.123Z"
   },
   {
    "duration": 24,
    "start_time": "2021-08-16T05:59:50.173Z"
   },
   {
    "duration": 10,
    "start_time": "2021-08-16T05:59:50.199Z"
   },
   {
    "duration": 9,
    "start_time": "2021-08-16T05:59:50.212Z"
   },
   {
    "duration": 11,
    "start_time": "2021-08-16T05:59:50.224Z"
   },
   {
    "duration": 10,
    "start_time": "2021-08-16T05:59:50.268Z"
   },
   {
    "duration": 10,
    "start_time": "2021-08-16T05:59:50.281Z"
   },
   {
    "duration": 198,
    "start_time": "2021-08-16T05:59:50.294Z"
   },
   {
    "duration": 20,
    "start_time": "2021-08-16T05:59:50.495Z"
   },
   {
    "duration": 12,
    "start_time": "2021-08-16T05:59:50.518Z"
   },
   {
    "duration": 37,
    "start_time": "2021-08-16T05:59:50.533Z"
   },
   {
    "duration": 199,
    "start_time": "2021-08-16T05:59:50.573Z"
   },
   {
    "duration": 16,
    "start_time": "2021-08-16T05:59:50.775Z"
   },
   {
    "duration": 26,
    "start_time": "2021-08-16T05:59:50.797Z"
   },
   {
    "duration": 39,
    "start_time": "2021-08-16T05:59:50.828Z"
   },
   {
    "duration": 34,
    "start_time": "2021-08-16T05:59:50.870Z"
   },
   {
    "duration": 24,
    "start_time": "2021-08-16T05:59:50.907Z"
   },
   {
    "duration": 76,
    "start_time": "2021-08-16T05:59:50.934Z"
   },
   {
    "duration": 57,
    "start_time": "2021-08-16T05:59:51.012Z"
   },
   {
    "duration": 9,
    "start_time": "2021-08-16T05:59:51.071Z"
   },
   {
    "duration": 4787,
    "start_time": "2021-08-16T05:59:51.082Z"
   },
   {
    "duration": 9,
    "start_time": "2021-08-16T05:59:55.872Z"
   },
   {
    "duration": 18,
    "start_time": "2021-08-16T05:59:55.884Z"
   },
   {
    "duration": 16,
    "start_time": "2021-08-16T05:59:55.904Z"
   },
   {
    "duration": 47,
    "start_time": "2021-08-16T05:59:55.922Z"
   },
   {
    "duration": 4,
    "start_time": "2021-08-16T05:59:55.971Z"
   },
   {
    "duration": 31,
    "start_time": "2021-08-16T05:59:55.978Z"
   },
   {
    "duration": 15,
    "start_time": "2021-08-16T05:59:56.011Z"
   },
   {
    "duration": 45,
    "start_time": "2021-08-16T05:59:56.029Z"
   },
   {
    "duration": 140,
    "start_time": "2021-08-16T05:59:56.077Z"
   },
   {
    "duration": -197,
    "start_time": "2021-08-16T05:59:56.417Z"
   },
   {
    "duration": -204,
    "start_time": "2021-08-16T05:59:56.425Z"
   },
   {
    "duration": -207,
    "start_time": "2021-08-16T05:59:56.430Z"
   },
   {
    "duration": -210,
    "start_time": "2021-08-16T05:59:56.434Z"
   },
   {
    "duration": -213,
    "start_time": "2021-08-16T05:59:56.438Z"
   },
   {
    "duration": -215,
    "start_time": "2021-08-16T05:59:56.442Z"
   },
   {
    "duration": -218,
    "start_time": "2021-08-16T05:59:56.446Z"
   },
   {
    "duration": -220,
    "start_time": "2021-08-16T05:59:56.449Z"
   },
   {
    "duration": -223,
    "start_time": "2021-08-16T05:59:56.454Z"
   },
   {
    "duration": -226,
    "start_time": "2021-08-16T05:59:56.458Z"
   },
   {
    "duration": -230,
    "start_time": "2021-08-16T05:59:56.463Z"
   },
   {
    "duration": -232,
    "start_time": "2021-08-16T05:59:56.467Z"
   },
   {
    "duration": -235,
    "start_time": "2021-08-16T05:59:56.471Z"
   },
   {
    "duration": -237,
    "start_time": "2021-08-16T05:59:56.474Z"
   },
   {
    "duration": -240,
    "start_time": "2021-08-16T05:59:56.479Z"
   },
   {
    "duration": -242,
    "start_time": "2021-08-16T05:59:56.482Z"
   },
   {
    "duration": -245,
    "start_time": "2021-08-16T05:59:56.486Z"
   },
   {
    "duration": -256,
    "start_time": "2021-08-16T05:59:56.498Z"
   },
   {
    "duration": -259,
    "start_time": "2021-08-16T05:59:56.503Z"
   },
   {
    "duration": 3631,
    "start_time": "2021-08-16T06:00:05.184Z"
   },
   {
    "duration": 51,
    "start_time": "2021-08-16T06:05:57.289Z"
   },
   {
    "duration": 3581,
    "start_time": "2021-08-16T06:06:21.939Z"
   },
   {
    "duration": 5,
    "start_time": "2021-08-16T06:06:31.839Z"
   },
   {
    "duration": 1646,
    "start_time": "2021-08-16T06:06:33.244Z"
   },
   {
    "duration": 5,
    "start_time": "2021-08-16T06:06:49.251Z"
   },
   {
    "duration": 1691,
    "start_time": "2021-08-16T06:06:50.546Z"
   },
   {
    "duration": 889,
    "start_time": "2021-08-16T06:07:09.660Z"
   },
   {
    "duration": 15,
    "start_time": "2021-08-16T06:07:10.552Z"
   },
   {
    "duration": 6,
    "start_time": "2021-08-16T06:07:10.570Z"
   },
   {
    "duration": 8,
    "start_time": "2021-08-16T06:07:10.578Z"
   },
   {
    "duration": 22,
    "start_time": "2021-08-16T06:07:10.588Z"
   },
   {
    "duration": 7,
    "start_time": "2021-08-16T06:07:10.613Z"
   },
   {
    "duration": 52,
    "start_time": "2021-08-16T06:07:10.622Z"
   },
   {
    "duration": 22,
    "start_time": "2021-08-16T06:07:10.677Z"
   },
   {
    "duration": 6,
    "start_time": "2021-08-16T06:07:10.702Z"
   },
   {
    "duration": 6,
    "start_time": "2021-08-16T06:07:10.711Z"
   },
   {
    "duration": 59,
    "start_time": "2021-08-16T06:07:10.720Z"
   },
   {
    "duration": 12,
    "start_time": "2021-08-16T06:07:10.781Z"
   },
   {
    "duration": 6,
    "start_time": "2021-08-16T06:07:10.795Z"
   },
   {
    "duration": 11,
    "start_time": "2021-08-16T06:07:10.804Z"
   },
   {
    "duration": 55,
    "start_time": "2021-08-16T06:07:10.817Z"
   },
   {
    "duration": 10,
    "start_time": "2021-08-16T06:07:10.875Z"
   },
   {
    "duration": 174,
    "start_time": "2021-08-16T06:07:10.887Z"
   },
   {
    "duration": 16,
    "start_time": "2021-08-16T06:07:11.063Z"
   },
   {
    "duration": 10,
    "start_time": "2021-08-16T06:07:11.081Z"
   },
   {
    "duration": 10,
    "start_time": "2021-08-16T06:07:11.093Z"
   },
   {
    "duration": 192,
    "start_time": "2021-08-16T06:07:11.106Z"
   },
   {
    "duration": 14,
    "start_time": "2021-08-16T06:07:11.300Z"
   },
   {
    "duration": 47,
    "start_time": "2021-08-16T06:07:11.320Z"
   },
   {
    "duration": 6,
    "start_time": "2021-08-16T06:07:11.370Z"
   },
   {
    "duration": 24,
    "start_time": "2021-08-16T06:07:11.378Z"
   },
   {
    "duration": 25,
    "start_time": "2021-08-16T06:07:11.405Z"
   },
   {
    "duration": 75,
    "start_time": "2021-08-16T06:07:11.433Z"
   },
   {
    "duration": 62,
    "start_time": "2021-08-16T06:07:11.510Z"
   },
   {
    "duration": 8,
    "start_time": "2021-08-16T06:07:11.574Z"
   },
   {
    "duration": 4633,
    "start_time": "2021-08-16T06:07:11.584Z"
   },
   {
    "duration": 4,
    "start_time": "2021-08-16T06:07:16.219Z"
   },
   {
    "duration": 64,
    "start_time": "2021-08-16T06:07:16.225Z"
   },
   {
    "duration": 16,
    "start_time": "2021-08-16T06:07:16.291Z"
   },
   {
    "duration": 7,
    "start_time": "2021-08-16T06:07:16.309Z"
   },
   {
    "duration": 6,
    "start_time": "2021-08-16T06:07:16.319Z"
   },
   {
    "duration": 69,
    "start_time": "2021-08-16T06:07:16.327Z"
   },
   {
    "duration": 16,
    "start_time": "2021-08-16T06:07:16.399Z"
   },
   {
    "duration": 11,
    "start_time": "2021-08-16T06:07:16.418Z"
   },
   {
    "duration": 114,
    "start_time": "2021-08-16T06:07:16.467Z"
   },
   {
    "duration": -306,
    "start_time": "2021-08-16T06:07:16.890Z"
   },
   {
    "duration": -312,
    "start_time": "2021-08-16T06:07:16.897Z"
   },
   {
    "duration": -315,
    "start_time": "2021-08-16T06:07:16.902Z"
   },
   {
    "duration": -327,
    "start_time": "2021-08-16T06:07:16.915Z"
   },
   {
    "duration": -335,
    "start_time": "2021-08-16T06:07:16.925Z"
   },
   {
    "duration": -345,
    "start_time": "2021-08-16T06:07:16.937Z"
   },
   {
    "duration": -352,
    "start_time": "2021-08-16T06:07:16.946Z"
   },
   {
    "duration": -357,
    "start_time": "2021-08-16T06:07:16.953Z"
   },
   {
    "duration": -360,
    "start_time": "2021-08-16T06:07:16.957Z"
   },
   {
    "duration": -363,
    "start_time": "2021-08-16T06:07:16.961Z"
   },
   {
    "duration": -365,
    "start_time": "2021-08-16T06:07:16.965Z"
   },
   {
    "duration": -368,
    "start_time": "2021-08-16T06:07:16.970Z"
   },
   {
    "duration": -369,
    "start_time": "2021-08-16T06:07:16.973Z"
   },
   {
    "duration": -372,
    "start_time": "2021-08-16T06:07:16.977Z"
   },
   {
    "duration": -375,
    "start_time": "2021-08-16T06:07:16.981Z"
   },
   {
    "duration": -377,
    "start_time": "2021-08-16T06:07:16.985Z"
   },
   {
    "duration": -379,
    "start_time": "2021-08-16T06:07:16.988Z"
   },
   {
    "duration": -382,
    "start_time": "2021-08-16T06:07:16.992Z"
   },
   {
    "duration": -383,
    "start_time": "2021-08-16T06:07:16.995Z"
   },
   {
    "duration": 2432,
    "start_time": "2021-08-16T06:11:28.686Z"
   },
   {
    "duration": 8,
    "start_time": "2021-08-16T06:13:09.572Z"
   },
   {
    "duration": 11,
    "start_time": "2021-08-16T06:13:26.054Z"
   },
   {
    "duration": 38,
    "start_time": "2021-08-16T06:13:37.428Z"
   },
   {
    "duration": 6,
    "start_time": "2021-08-16T06:26:18.724Z"
   },
   {
    "duration": 6,
    "start_time": "2021-08-16T06:26:50.750Z"
   },
   {
    "duration": 9140,
    "start_time": "2021-08-16T06:29:15.944Z"
   },
   {
    "duration": 25,
    "start_time": "2021-08-16T06:29:28.092Z"
   },
   {
    "duration": 37,
    "start_time": "2021-08-16T06:34:18.109Z"
   },
   {
    "duration": 338,
    "start_time": "2021-08-16T06:34:51.984Z"
   },
   {
    "duration": 11,
    "start_time": "2021-08-16T06:34:58.338Z"
   },
   {
    "duration": 11,
    "start_time": "2021-08-16T06:35:10.102Z"
   },
   {
    "duration": 9,
    "start_time": "2021-08-16T06:37:21.457Z"
   },
   {
    "duration": 9,
    "start_time": "2021-08-16T06:37:32.139Z"
   },
   {
    "duration": 6,
    "start_time": "2021-08-16T06:37:43.485Z"
   },
   {
    "duration": 13,
    "start_time": "2021-08-16T06:37:48.753Z"
   },
   {
    "duration": 14,
    "start_time": "2021-08-16T06:38:15.625Z"
   },
   {
    "duration": 28,
    "start_time": "2021-08-16T06:39:05.927Z"
   },
   {
    "duration": 864,
    "start_time": "2021-08-16T18:39:29.411Z"
   },
   {
    "duration": 16,
    "start_time": "2021-08-16T18:39:38.854Z"
   },
   {
    "duration": 9,
    "start_time": "2021-08-16T18:46:39.244Z"
   },
   {
    "duration": 9,
    "start_time": "2021-08-16T18:47:14.868Z"
   },
   {
    "duration": 346,
    "start_time": "2021-08-16T18:47:37.513Z"
   },
   {
    "duration": 273,
    "start_time": "2021-08-16T18:48:03.626Z"
   },
   {
    "duration": 266,
    "start_time": "2021-08-16T18:48:46.483Z"
   },
   {
    "duration": 255,
    "start_time": "2021-08-16T18:49:14.559Z"
   },
   {
    "duration": 8,
    "start_time": "2021-08-16T18:49:31.461Z"
   },
   {
    "duration": 21,
    "start_time": "2021-08-16T18:50:13.927Z"
   },
   {
    "duration": 25,
    "start_time": "2021-08-16T18:50:18.405Z"
   },
   {
    "duration": 7,
    "start_time": "2021-08-16T18:52:36.254Z"
   },
   {
    "duration": 17,
    "start_time": "2021-08-16T18:53:15.214Z"
   },
   {
    "duration": 9,
    "start_time": "2021-08-16T18:54:15.953Z"
   },
   {
    "duration": 23,
    "start_time": "2021-08-16T18:54:50.533Z"
   },
   {
    "duration": 5,
    "start_time": "2021-08-16T18:55:44.997Z"
   },
   {
    "duration": 91,
    "start_time": "2021-08-16T18:56:44.494Z"
   },
   {
    "duration": 12,
    "start_time": "2021-08-16T18:57:02.373Z"
   },
   {
    "duration": 23,
    "start_time": "2021-08-16T18:59:47.221Z"
   },
   {
    "duration": 12,
    "start_time": "2021-08-16T19:04:23.131Z"
   },
   {
    "duration": 15,
    "start_time": "2021-08-16T19:06:15.799Z"
   },
   {
    "duration": 7,
    "start_time": "2021-08-16T19:07:09.949Z"
   },
   {
    "duration": 7,
    "start_time": "2021-08-16T19:07:12.788Z"
   },
   {
    "duration": 808,
    "start_time": "2021-08-16T19:11:47.202Z"
   },
   {
    "duration": 16,
    "start_time": "2021-08-16T19:11:49.235Z"
   },
   {
    "duration": 7,
    "start_time": "2021-08-16T19:11:51.909Z"
   },
   {
    "duration": 22,
    "start_time": "2021-08-16T19:11:53.537Z"
   },
   {
    "duration": 5,
    "start_time": "2021-08-16T19:11:55.529Z"
   },
   {
    "duration": 10,
    "start_time": "2021-08-16T19:11:57.270Z"
   },
   {
    "duration": 21,
    "start_time": "2021-08-16T19:11:59.384Z"
   },
   {
    "duration": 12,
    "start_time": "2021-08-16T19:12:02.101Z"
   },
   {
    "duration": 22,
    "start_time": "2021-08-16T19:14:36.021Z"
   },
   {
    "duration": 51,
    "start_time": "2021-08-16T19:15:40.070Z"
   },
   {
    "duration": 16,
    "start_time": "2021-08-16T19:16:09.422Z"
   },
   {
    "duration": 13,
    "start_time": "2021-08-16T19:17:01.156Z"
   },
   {
    "duration": 11,
    "start_time": "2021-08-16T19:17:13.355Z"
   },
   {
    "duration": 8,
    "start_time": "2021-08-16T19:18:12.285Z"
   },
   {
    "duration": 360,
    "start_time": "2021-08-16T19:22:36.427Z"
   },
   {
    "duration": 14,
    "start_time": "2021-08-16T19:23:23.824Z"
   },
   {
    "duration": 267,
    "start_time": "2021-08-16T19:26:32.782Z"
   },
   {
    "duration": 87,
    "start_time": "2021-08-16T19:26:57.012Z"
   },
   {
    "duration": 17,
    "start_time": "2021-08-16T19:28:34.913Z"
   },
   {
    "duration": 11,
    "start_time": "2021-08-16T19:30:04.023Z"
   },
   {
    "duration": 17,
    "start_time": "2021-08-16T19:30:12.605Z"
   },
   {
    "duration": 16,
    "start_time": "2021-08-16T19:30:26.307Z"
   },
   {
    "duration": 13,
    "start_time": "2021-08-16T19:41:08.968Z"
   },
   {
    "duration": 18,
    "start_time": "2021-08-16T19:41:31.596Z"
   },
   {
    "duration": 16,
    "start_time": "2021-08-16T19:42:48.121Z"
   },
   {
    "duration": 13,
    "start_time": "2021-08-16T19:46:34.416Z"
   },
   {
    "duration": 15,
    "start_time": "2021-08-16T19:56:36.118Z"
   },
   {
    "duration": 11,
    "start_time": "2021-08-16T19:57:05.192Z"
   },
   {
    "duration": 146,
    "start_time": "2021-08-16T19:59:55.481Z"
   },
   {
    "duration": 5,
    "start_time": "2021-08-16T20:01:06.612Z"
   },
   {
    "duration": 15,
    "start_time": "2021-08-16T20:01:08.053Z"
   },
   {
    "duration": 10,
    "start_time": "2021-08-16T20:01:36.420Z"
   },
   {
    "duration": 11,
    "start_time": "2021-08-16T20:01:47.008Z"
   },
   {
    "duration": 8,
    "start_time": "2021-08-16T20:05:22.957Z"
   },
   {
    "duration": 143,
    "start_time": "2021-08-16T20:05:23.366Z"
   },
   {
    "duration": 16,
    "start_time": "2021-08-16T20:05:24.343Z"
   },
   {
    "duration": 14,
    "start_time": "2021-08-16T20:11:04.098Z"
   },
   {
    "duration": 6,
    "start_time": "2021-08-16T20:11:11.851Z"
   },
   {
    "duration": 15,
    "start_time": "2021-08-16T20:11:12.488Z"
   },
   {
    "duration": 14,
    "start_time": "2021-08-16T20:11:32.649Z"
   },
   {
    "duration": 22,
    "start_time": "2021-08-16T20:12:29.758Z"
   },
   {
    "duration": 44,
    "start_time": "2021-08-16T20:12:33.914Z"
   },
   {
    "duration": 22,
    "start_time": "2021-08-16T20:16:39.033Z"
   },
   {
    "duration": 42,
    "start_time": "2021-08-16T20:17:25.164Z"
   },
   {
    "duration": 16,
    "start_time": "2021-08-16T20:17:33.141Z"
   },
   {
    "duration": 285,
    "start_time": "2021-08-16T20:19:27.558Z"
   },
   {
    "duration": 935,
    "start_time": "2021-08-16T20:21:49.104Z"
   },
   {
    "duration": 16,
    "start_time": "2021-08-16T20:21:50.042Z"
   },
   {
    "duration": 7,
    "start_time": "2021-08-16T20:21:53.201Z"
   },
   {
    "duration": 21,
    "start_time": "2021-08-16T20:21:54.959Z"
   },
   {
    "duration": 5,
    "start_time": "2021-08-16T20:21:57.077Z"
   },
   {
    "duration": 10,
    "start_time": "2021-08-16T20:21:58.618Z"
   },
   {
    "duration": 22,
    "start_time": "2021-08-16T20:22:00.543Z"
   },
   {
    "duration": 13,
    "start_time": "2021-08-16T20:22:16.360Z"
   },
   {
    "duration": 9,
    "start_time": "2021-08-16T20:22:18.760Z"
   },
   {
    "duration": 17,
    "start_time": "2021-08-16T20:22:20.769Z"
   },
   {
    "duration": 17,
    "start_time": "2021-08-16T20:22:23.608Z"
   },
   {
    "duration": 18,
    "start_time": "2021-08-16T20:22:26.189Z"
   },
   {
    "duration": 11,
    "start_time": "2021-08-16T20:22:49.848Z"
   },
   {
    "duration": 152,
    "start_time": "2021-08-16T20:22:51.061Z"
   },
   {
    "duration": 5,
    "start_time": "2021-08-16T20:22:52.971Z"
   },
   {
    "duration": 16,
    "start_time": "2021-08-16T20:22:54.771Z"
   },
   {
    "duration": 10,
    "start_time": "2021-08-16T20:22:57.167Z"
   },
   {
    "duration": 149,
    "start_time": "2021-08-16T20:22:57.831Z"
   },
   {
    "duration": 14,
    "start_time": "2021-08-16T20:22:59.265Z"
   },
   {
    "duration": 6,
    "start_time": "2021-08-16T20:23:01.466Z"
   },
   {
    "duration": 15,
    "start_time": "2021-08-16T20:23:02.411Z"
   },
   {
    "duration": 23,
    "start_time": "2021-08-16T20:23:05.996Z"
   },
   {
    "duration": 399,
    "start_time": "2021-08-16T20:23:07.378Z"
   },
   {
    "duration": 282,
    "start_time": "2021-08-16T20:23:17.139Z"
   },
   {
    "duration": 47,
    "start_time": "2021-08-16T20:23:30.723Z"
   },
   {
    "duration": 10,
    "start_time": "2021-08-16T20:24:46.494Z"
   },
   {
    "duration": 4540,
    "start_time": "2021-08-16T20:24:57.317Z"
   },
   {
    "duration": 5,
    "start_time": "2021-08-16T20:25:15.183Z"
   },
   {
    "duration": 49,
    "start_time": "2021-08-16T20:25:20.173Z"
   },
   {
    "duration": 9,
    "start_time": "2021-08-16T20:36:44.800Z"
   },
   {
    "duration": 31,
    "start_time": "2021-08-16T20:39:00.858Z"
   },
   {
    "duration": 27,
    "start_time": "2021-08-16T20:40:04.832Z"
   },
   {
    "duration": 27,
    "start_time": "2021-08-16T20:40:22.059Z"
   },
   {
    "duration": 28,
    "start_time": "2021-08-16T20:41:09.885Z"
   },
   {
    "duration": 282,
    "start_time": "2021-08-16T20:48:49.920Z"
   },
   {
    "duration": 3327,
    "start_time": "2021-08-16T20:49:10.726Z"
   },
   {
    "duration": 22,
    "start_time": "2021-08-16T20:50:24.567Z"
   },
   {
    "duration": 12,
    "start_time": "2021-08-16T20:50:32.959Z"
   },
   {
    "duration": 27,
    "start_time": "2021-08-16T20:50:35.447Z"
   },
   {
    "duration": 13,
    "start_time": "2021-08-16T20:50:40.850Z"
   },
   {
    "duration": 11,
    "start_time": "2021-08-16T20:50:45.973Z"
   },
   {
    "duration": 8,
    "start_time": "2021-08-16T20:51:05.617Z"
   },
   {
    "duration": 37,
    "start_time": "2021-08-16T20:54:00.631Z"
   },
   {
    "duration": 355,
    "start_time": "2021-08-17T05:53:09.870Z"
   },
   {
    "duration": 861,
    "start_time": "2021-08-17T05:53:26.848Z"
   },
   {
    "duration": 15,
    "start_time": "2021-08-17T05:53:27.712Z"
   },
   {
    "duration": 6,
    "start_time": "2021-08-17T05:53:30.815Z"
   },
   {
    "duration": 23,
    "start_time": "2021-08-17T05:53:32.083Z"
   },
   {
    "duration": 6,
    "start_time": "2021-08-17T05:53:34.120Z"
   },
   {
    "duration": 11,
    "start_time": "2021-08-17T05:53:35.586Z"
   },
   {
    "duration": 22,
    "start_time": "2021-08-17T05:53:39.397Z"
   },
   {
    "duration": 12,
    "start_time": "2021-08-17T05:53:42.905Z"
   },
   {
    "duration": 9,
    "start_time": "2021-08-17T05:53:45.026Z"
   },
   {
    "duration": 18,
    "start_time": "2021-08-17T05:53:46.942Z"
   },
   {
    "duration": 16,
    "start_time": "2021-08-17T05:53:49.361Z"
   },
   {
    "duration": 18,
    "start_time": "2021-08-17T05:53:57.111Z"
   },
   {
    "duration": 11,
    "start_time": "2021-08-17T05:54:09.185Z"
   },
   {
    "duration": 250,
    "start_time": "2021-08-17T05:54:10.741Z"
   },
   {
    "duration": 5,
    "start_time": "2021-08-17T05:54:13.545Z"
   },
   {
    "duration": 16,
    "start_time": "2021-08-17T05:54:15.912Z"
   },
   {
    "duration": 9,
    "start_time": "2021-08-17T05:54:18.705Z"
   },
   {
    "duration": 147,
    "start_time": "2021-08-17T05:54:21.150Z"
   },
   {
    "duration": 16,
    "start_time": "2021-08-17T05:54:22.711Z"
   },
   {
    "duration": 7,
    "start_time": "2021-08-17T05:54:25.069Z"
   },
   {
    "duration": 16,
    "start_time": "2021-08-17T05:54:26.919Z"
   },
   {
    "duration": 24,
    "start_time": "2021-08-17T05:54:30.239Z"
   },
   {
    "duration": 47,
    "start_time": "2021-08-17T05:54:32.029Z"
   },
   {
    "duration": 8,
    "start_time": "2021-08-17T05:54:35.257Z"
   },
   {
    "duration": 4401,
    "start_time": "2021-08-17T05:54:36.892Z"
   },
   {
    "duration": 4,
    "start_time": "2021-08-17T05:54:43.190Z"
   },
   {
    "duration": 48,
    "start_time": "2021-08-17T05:54:44.818Z"
   },
   {
    "duration": 9,
    "start_time": "2021-08-17T05:54:48.711Z"
   },
   {
    "duration": 11,
    "start_time": "2021-08-17T05:54:52.148Z"
   },
   {
    "duration": 7,
    "start_time": "2021-08-17T05:55:16.302Z"
   },
   {
    "duration": 7,
    "start_time": "2021-08-17T05:55:34.187Z"
   },
   {
    "duration": 6,
    "start_time": "2021-08-17T05:56:06.295Z"
   },
   {
    "duration": 7,
    "start_time": "2021-08-17T05:56:08.877Z"
   },
   {
    "duration": 54,
    "start_time": "2021-08-17T05:56:17.939Z"
   },
   {
    "duration": 7,
    "start_time": "2021-08-17T05:56:26.329Z"
   },
   {
    "duration": 9,
    "start_time": "2021-08-17T05:57:55.072Z"
   },
   {
    "duration": 10,
    "start_time": "2021-08-17T05:58:05.696Z"
   },
   {
    "duration": 4,
    "start_time": "2021-08-17T05:59:33.080Z"
   },
   {
    "duration": 30,
    "start_time": "2021-08-17T05:59:49.378Z"
   },
   {
    "duration": 25,
    "start_time": "2021-08-17T06:01:25.043Z"
   },
   {
    "duration": 19,
    "start_time": "2021-08-17T06:03:16.736Z"
   },
   {
    "duration": 9112,
    "start_time": "2021-08-17T06:04:34.294Z"
   },
   {
    "duration": 22,
    "start_time": "2021-08-17T06:05:30.764Z"
   },
   {
    "duration": 8506,
    "start_time": "2021-08-17T06:06:02.451Z"
   },
   {
    "duration": 9,
    "start_time": "2021-08-17T06:06:14.735Z"
   },
   {
    "duration": 1343,
    "start_time": "2021-08-17T06:08:08.217Z"
   },
   {
    "duration": 1359,
    "start_time": "2021-08-17T06:08:10.752Z"
   },
   {
    "duration": 1382,
    "start_time": "2021-08-17T06:08:24.790Z"
   },
   {
    "duration": 13,
    "start_time": "2021-08-17T06:08:36.998Z"
   },
   {
    "duration": 13,
    "start_time": "2021-08-17T06:09:53.776Z"
   },
   {
    "duration": 10,
    "start_time": "2021-08-17T06:13:33.599Z"
   },
   {
    "duration": 25,
    "start_time": "2021-08-17T06:14:38.000Z"
   },
   {
    "duration": 4847,
    "start_time": "2021-08-17T06:19:05.618Z"
   },
   {
    "duration": 9,
    "start_time": "2021-08-17T06:19:35.649Z"
   },
   {
    "duration": 4,
    "start_time": "2021-08-17T06:22:13.984Z"
   },
   {
    "duration": 29,
    "start_time": "2021-08-17T06:24:13.272Z"
   },
   {
    "duration": 40,
    "start_time": "2021-08-17T06:24:22.999Z"
   },
   {
    "duration": 9469,
    "start_time": "2021-08-17T06:25:56.804Z"
   },
   {
    "duration": 28,
    "start_time": "2021-08-17T06:26:16.172Z"
   },
   {
    "duration": 12,
    "start_time": "2021-08-17T06:41:09.389Z"
   },
   {
    "duration": 7,
    "start_time": "2021-08-17T06:42:27.613Z"
   },
   {
    "duration": 12,
    "start_time": "2021-08-17T06:42:31.857Z"
   },
   {
    "duration": 324,
    "start_time": "2021-08-17T06:43:58.901Z"
   },
   {
    "duration": 305,
    "start_time": "2021-08-17T06:44:17.714Z"
   },
   {
    "duration": 17,
    "start_time": "2021-08-17T06:44:52.837Z"
   },
   {
    "duration": 11,
    "start_time": "2021-08-17T06:45:04.314Z"
   },
   {
    "duration": 4,
    "start_time": "2021-08-17T06:45:14.767Z"
   },
   {
    "duration": 11,
    "start_time": "2021-08-17T06:45:22.660Z"
   },
   {
    "duration": 28,
    "start_time": "2021-08-17T06:45:31.728Z"
   },
   {
    "duration": 10,
    "start_time": "2021-08-17T06:45:50.892Z"
   },
   {
    "duration": 820,
    "start_time": "2021-08-17T06:46:33.423Z"
   },
   {
    "duration": 25,
    "start_time": "2021-08-17T06:46:34.247Z"
   },
   {
    "duration": 7,
    "start_time": "2021-08-17T06:46:35.907Z"
   },
   {
    "duration": 22,
    "start_time": "2021-08-17T06:46:36.310Z"
   },
   {
    "duration": 5,
    "start_time": "2021-08-17T06:46:38.163Z"
   },
   {
    "duration": 11,
    "start_time": "2021-08-17T06:46:38.952Z"
   },
   {
    "duration": 22,
    "start_time": "2021-08-17T06:46:39.923Z"
   },
   {
    "duration": 12,
    "start_time": "2021-08-17T06:46:41.902Z"
   },
   {
    "duration": 8,
    "start_time": "2021-08-17T06:46:42.860Z"
   },
   {
    "duration": 16,
    "start_time": "2021-08-17T06:46:45.442Z"
   },
   {
    "duration": 15,
    "start_time": "2021-08-17T06:46:46.275Z"
   },
   {
    "duration": 18,
    "start_time": "2021-08-17T06:46:48.117Z"
   },
   {
    "duration": 10,
    "start_time": "2021-08-17T06:46:50.370Z"
   },
   {
    "duration": 150,
    "start_time": "2021-08-17T06:46:51.347Z"
   },
   {
    "duration": 4,
    "start_time": "2021-08-17T06:46:53.023Z"
   },
   {
    "duration": 14,
    "start_time": "2021-08-17T06:46:53.787Z"
   },
   {
    "duration": 9,
    "start_time": "2021-08-17T06:46:57.683Z"
   },
   {
    "duration": 149,
    "start_time": "2021-08-17T06:46:57.935Z"
   },
   {
    "duration": 15,
    "start_time": "2021-08-17T06:46:58.742Z"
   },
   {
    "duration": 6,
    "start_time": "2021-08-17T06:47:02.500Z"
   },
   {
    "duration": 16,
    "start_time": "2021-08-17T06:47:03.829Z"
   },
   {
    "duration": 24,
    "start_time": "2021-08-17T06:47:06.025Z"
   },
   {
    "duration": 45,
    "start_time": "2021-08-17T06:47:07.533Z"
   },
   {
    "duration": 8,
    "start_time": "2021-08-17T06:47:10.871Z"
   },
   {
    "duration": 4400,
    "start_time": "2021-08-17T06:47:11.417Z"
   },
   {
    "duration": 5,
    "start_time": "2021-08-17T06:47:17.226Z"
   },
   {
    "duration": 49,
    "start_time": "2021-08-17T06:47:18.601Z"
   },
   {
    "duration": 9,
    "start_time": "2021-08-17T06:47:22.709Z"
   },
   {
    "duration": 13,
    "start_time": "2021-08-17T06:47:24.812Z"
   },
   {
    "duration": 4,
    "start_time": "2021-08-17T06:47:25.499Z"
   },
   {
    "duration": 31,
    "start_time": "2021-08-17T06:47:26.937Z"
   },
   {
    "duration": 25,
    "start_time": "2021-08-17T06:47:28.706Z"
   },
   {
    "duration": 18,
    "start_time": "2021-08-17T06:47:30.333Z"
   },
   {
    "duration": 10,
    "start_time": "2021-08-17T06:47:34.399Z"
   },
   {
    "duration": 29,
    "start_time": "2021-08-17T06:47:35.690Z"
   },
   {
    "duration": 7,
    "start_time": "2021-08-17T06:47:37.818Z"
   },
   {
    "duration": 3,
    "start_time": "2021-08-17T06:47:39.483Z"
   },
   {
    "duration": 32,
    "start_time": "2021-08-17T06:47:40.931Z"
   },
   {
    "duration": 12,
    "start_time": "2021-08-17T06:47:44.097Z"
   },
   {
    "duration": 5,
    "start_time": "2021-08-17T06:48:13.206Z"
   },
   {
    "duration": 11,
    "start_time": "2021-08-17T06:48:17.835Z"
   },
   {
    "duration": 21,
    "start_time": "2021-08-17T06:48:34.705Z"
   },
   {
    "duration": 5,
    "start_time": "2021-08-17T06:50:02.121Z"
   },
   {
    "duration": 7,
    "start_time": "2021-08-17T06:50:36.955Z"
   },
   {
    "duration": 7,
    "start_time": "2021-08-17T06:50:44.743Z"
   },
   {
    "duration": 8,
    "start_time": "2021-08-17T06:51:21.413Z"
   },
   {
    "duration": 5,
    "start_time": "2021-08-17T06:55:32.438Z"
   },
   {
    "duration": 37,
    "start_time": "2021-08-17T06:57:37.208Z"
   },
   {
    "duration": 36,
    "start_time": "2021-08-17T06:57:57.517Z"
   },
   {
    "duration": 33,
    "start_time": "2021-08-17T06:59:45.966Z"
   },
   {
    "duration": 35,
    "start_time": "2021-08-17T07:03:23.911Z"
   },
   {
    "duration": 5,
    "start_time": "2021-08-17T07:04:31.714Z"
   },
   {
    "duration": 46,
    "start_time": "2021-08-17T07:07:06.879Z"
   },
   {
    "duration": 952,
    "start_time": "2021-08-17T07:18:08.345Z"
   },
   {
    "duration": 15,
    "start_time": "2021-08-17T07:18:09.300Z"
   },
   {
    "duration": 8,
    "start_time": "2021-08-17T07:18:09.319Z"
   },
   {
    "duration": 44,
    "start_time": "2021-08-17T07:18:09.330Z"
   },
   {
    "duration": 5,
    "start_time": "2021-08-17T07:18:09.376Z"
   },
   {
    "duration": 11,
    "start_time": "2021-08-17T07:18:09.383Z"
   },
   {
    "duration": 20,
    "start_time": "2021-08-17T07:18:09.397Z"
   },
   {
    "duration": 50,
    "start_time": "2021-08-17T07:18:09.420Z"
   },
   {
    "duration": 8,
    "start_time": "2021-08-17T07:18:09.474Z"
   },
   {
    "duration": 16,
    "start_time": "2021-08-17T07:18:09.484Z"
   },
   {
    "duration": 17,
    "start_time": "2021-08-17T07:18:09.503Z"
   },
   {
    "duration": 58,
    "start_time": "2021-08-17T07:18:09.522Z"
   },
   {
    "duration": 13,
    "start_time": "2021-08-17T07:18:09.584Z"
   },
   {
    "duration": 184,
    "start_time": "2021-08-17T07:18:09.600Z"
   },
   {
    "duration": 6,
    "start_time": "2021-08-17T07:18:09.787Z"
   },
   {
    "duration": 17,
    "start_time": "2021-08-17T07:18:09.795Z"
   },
   {
    "duration": 10,
    "start_time": "2021-08-17T07:18:09.815Z"
   },
   {
    "duration": 195,
    "start_time": "2021-08-17T07:18:09.827Z"
   },
   {
    "duration": 17,
    "start_time": "2021-08-17T07:18:10.025Z"
   },
   {
    "duration": 22,
    "start_time": "2021-08-17T07:18:10.045Z"
   },
   {
    "duration": 18,
    "start_time": "2021-08-17T07:18:10.070Z"
   },
   {
    "duration": 25,
    "start_time": "2021-08-17T07:18:10.091Z"
   },
   {
    "duration": 60,
    "start_time": "2021-08-17T07:18:10.124Z"
   },
   {
    "duration": 49,
    "start_time": "2021-08-17T07:18:10.188Z"
   },
   {
    "duration": 28,
    "start_time": "2021-08-17T07:18:10.239Z"
   },
   {
    "duration": 4504,
    "start_time": "2021-08-17T07:18:10.269Z"
   },
   {
    "duration": 5,
    "start_time": "2021-08-17T07:18:14.775Z"
   },
   {
    "duration": 64,
    "start_time": "2021-08-17T07:18:14.783Z"
   },
   {
    "duration": 20,
    "start_time": "2021-08-17T07:18:14.850Z"
   },
   {
    "duration": 21,
    "start_time": "2021-08-17T07:18:14.872Z"
   },
   {
    "duration": 3,
    "start_time": "2021-08-17T07:18:14.896Z"
   },
   {
    "duration": 45,
    "start_time": "2021-08-17T07:18:14.901Z"
   },
   {
    "duration": 30,
    "start_time": "2021-08-17T07:18:14.948Z"
   },
   {
    "duration": 17,
    "start_time": "2021-08-17T07:18:14.981Z"
   },
   {
    "duration": 10,
    "start_time": "2021-08-17T07:18:15.000Z"
   },
   {
    "duration": 55,
    "start_time": "2021-08-17T07:18:15.012Z"
   },
   {
    "duration": 8,
    "start_time": "2021-08-17T07:18:15.070Z"
   },
   {
    "duration": 7,
    "start_time": "2021-08-17T07:18:15.081Z"
   },
   {
    "duration": 42,
    "start_time": "2021-08-17T07:18:15.091Z"
   },
   {
    "duration": 34,
    "start_time": "2021-08-17T07:18:15.136Z"
   },
   {
    "duration": 4,
    "start_time": "2021-08-17T07:18:15.173Z"
   },
   {
    "duration": 29,
    "start_time": "2021-08-17T07:18:15.179Z"
   },
   {
    "duration": 26,
    "start_time": "2021-08-17T07:18:15.211Z"
   },
   {
    "duration": 28,
    "start_time": "2021-08-17T07:18:15.239Z"
   },
   {
    "duration": 5,
    "start_time": "2021-08-17T07:18:15.269Z"
   },
   {
    "duration": 23,
    "start_time": "2021-08-17T07:18:15.276Z"
   },
   {
    "duration": 10,
    "start_time": "2021-08-17T07:18:15.302Z"
   },
   {
    "duration": 54,
    "start_time": "2021-08-17T07:18:15.314Z"
   },
   {
    "duration": 36,
    "start_time": "2021-08-17T07:18:15.370Z"
   },
   {
    "duration": 15,
    "start_time": "2021-08-17T07:18:15.408Z"
   },
   {
    "duration": 65,
    "start_time": "2021-08-17T07:18:15.426Z"
   },
   {
    "duration": 863,
    "start_time": "2021-08-17T07:19:08.086Z"
   },
   {
    "duration": 23,
    "start_time": "2021-08-17T07:19:08.952Z"
   },
   {
    "duration": 5,
    "start_time": "2021-08-17T07:19:08.979Z"
   },
   {
    "duration": 24,
    "start_time": "2021-08-17T07:19:08.988Z"
   },
   {
    "duration": 6,
    "start_time": "2021-08-17T07:19:09.015Z"
   },
   {
    "duration": 50,
    "start_time": "2021-08-17T07:19:09.024Z"
   },
   {
    "duration": 21,
    "start_time": "2021-08-17T07:19:09.076Z"
   },
   {
    "duration": 11,
    "start_time": "2021-08-17T07:19:09.101Z"
   },
   {
    "duration": 8,
    "start_time": "2021-08-17T07:19:09.114Z"
   },
   {
    "duration": 16,
    "start_time": "2021-08-17T07:19:09.168Z"
   },
   {
    "duration": 14,
    "start_time": "2021-08-17T07:19:09.187Z"
   },
   {
    "duration": 16,
    "start_time": "2021-08-17T07:19:09.204Z"
   },
   {
    "duration": 46,
    "start_time": "2021-08-17T07:19:09.222Z"
   },
   {
    "duration": 167,
    "start_time": "2021-08-17T07:19:09.271Z"
   },
   {
    "duration": 4,
    "start_time": "2021-08-17T07:19:09.440Z"
   },
   {
    "duration": 25,
    "start_time": "2021-08-17T07:19:09.446Z"
   },
   {
    "duration": 6,
    "start_time": "2021-08-17T07:19:09.473Z"
   },
   {
    "duration": 164,
    "start_time": "2021-08-17T07:19:09.482Z"
   },
   {
    "duration": 18,
    "start_time": "2021-08-17T07:19:09.649Z"
   },
   {
    "duration": 6,
    "start_time": "2021-08-17T07:19:09.669Z"
   },
   {
    "duration": 17,
    "start_time": "2021-08-17T07:19:09.678Z"
   },
   {
    "duration": 24,
    "start_time": "2021-08-17T07:19:09.698Z"
   },
   {
    "duration": 76,
    "start_time": "2021-08-17T07:19:09.729Z"
   },
   {
    "duration": 69,
    "start_time": "2021-08-17T07:19:09.808Z"
   },
   {
    "duration": 8,
    "start_time": "2021-08-17T07:19:09.880Z"
   },
   {
    "duration": 4560,
    "start_time": "2021-08-17T07:19:09.890Z"
   },
   {
    "duration": 6,
    "start_time": "2021-08-17T07:19:14.468Z"
   },
   {
    "duration": 51,
    "start_time": "2021-08-17T07:19:14.477Z"
   },
   {
    "duration": 9,
    "start_time": "2021-08-17T07:19:14.530Z"
   },
   {
    "duration": 13,
    "start_time": "2021-08-17T07:19:14.568Z"
   },
   {
    "duration": 4,
    "start_time": "2021-08-17T07:19:14.584Z"
   },
   {
    "duration": 31,
    "start_time": "2021-08-17T07:19:14.590Z"
   },
   {
    "duration": 60,
    "start_time": "2021-08-17T07:19:14.624Z"
   },
   {
    "duration": 16,
    "start_time": "2021-08-17T07:19:14.687Z"
   },
   {
    "duration": 9,
    "start_time": "2021-08-17T07:19:14.705Z"
   },
   {
    "duration": 51,
    "start_time": "2021-08-17T07:19:14.717Z"
   },
   {
    "duration": 7,
    "start_time": "2021-08-17T07:19:14.771Z"
   },
   {
    "duration": 7,
    "start_time": "2021-08-17T07:19:14.780Z"
   },
   {
    "duration": 35,
    "start_time": "2021-08-17T07:19:14.790Z"
   },
   {
    "duration": 12,
    "start_time": "2021-08-17T07:19:14.827Z"
   },
   {
    "duration": 6,
    "start_time": "2021-08-17T07:19:14.841Z"
   },
   {
    "duration": 16,
    "start_time": "2021-08-17T07:19:14.850Z"
   },
   {
    "duration": 22,
    "start_time": "2021-08-17T07:19:14.869Z"
   },
   {
    "duration": 11,
    "start_time": "2021-08-17T07:19:14.893Z"
   },
   {
    "duration": 16,
    "start_time": "2021-08-17T07:19:14.906Z"
   },
   {
    "duration": 16,
    "start_time": "2021-08-17T07:19:14.924Z"
   },
   {
    "duration": 5,
    "start_time": "2021-08-17T07:19:14.942Z"
   },
   {
    "duration": 44,
    "start_time": "2021-08-17T07:19:14.949Z"
   },
   {
    "duration": 44,
    "start_time": "2021-08-17T07:19:14.996Z"
   },
   {
    "duration": 9,
    "start_time": "2021-08-17T07:19:15.042Z"
   },
   {
    "duration": 53,
    "start_time": "2021-08-17T07:19:15.054Z"
   },
   {
    "duration": 859,
    "start_time": "2021-08-17T11:03:12.685Z"
   },
   {
    "duration": 15,
    "start_time": "2021-08-17T11:03:13.547Z"
   },
   {
    "duration": 24,
    "start_time": "2021-08-17T11:03:13.564Z"
   },
   {
    "duration": 31,
    "start_time": "2021-08-17T11:03:13.590Z"
   },
   {
    "duration": 5,
    "start_time": "2021-08-17T11:03:13.623Z"
   },
   {
    "duration": 11,
    "start_time": "2021-08-17T11:03:13.631Z"
   },
   {
    "duration": 21,
    "start_time": "2021-08-17T11:03:13.644Z"
   },
   {
    "duration": 12,
    "start_time": "2021-08-17T11:03:13.703Z"
   },
   {
    "duration": 8,
    "start_time": "2021-08-17T11:03:13.719Z"
   },
   {
    "duration": 18,
    "start_time": "2021-08-17T11:03:13.730Z"
   },
   {
    "duration": 13,
    "start_time": "2021-08-17T11:03:13.750Z"
   },
   {
    "duration": 16,
    "start_time": "2021-08-17T11:03:13.801Z"
   },
   {
    "duration": 21,
    "start_time": "2021-08-17T11:03:13.819Z"
   },
   {
    "duration": 172,
    "start_time": "2021-08-17T11:03:13.843Z"
   },
   {
    "duration": 5,
    "start_time": "2021-08-17T11:03:14.017Z"
   },
   {
    "duration": 17,
    "start_time": "2021-08-17T11:03:14.025Z"
   },
   {
    "duration": 8,
    "start_time": "2021-08-17T11:03:14.045Z"
   },
   {
    "duration": 184,
    "start_time": "2021-08-17T11:03:14.056Z"
   },
   {
    "duration": 16,
    "start_time": "2021-08-17T11:03:14.243Z"
   },
   {
    "duration": 7,
    "start_time": "2021-08-17T11:03:14.262Z"
   },
   {
    "duration": 42,
    "start_time": "2021-08-17T11:03:14.272Z"
   },
   {
    "duration": 23,
    "start_time": "2021-08-17T11:03:14.317Z"
   },
   {
    "duration": 69,
    "start_time": "2021-08-17T11:03:14.347Z"
   },
   {
    "duration": 43,
    "start_time": "2021-08-17T11:03:14.420Z"
   },
   {
    "duration": 8,
    "start_time": "2021-08-17T11:03:14.466Z"
   },
   {
    "duration": 4606,
    "start_time": "2021-08-17T11:03:14.477Z"
   },
   {
    "duration": 14,
    "start_time": "2021-08-17T11:03:19.086Z"
   },
   {
    "duration": 53,
    "start_time": "2021-08-17T11:03:19.103Z"
   },
   {
    "duration": 9,
    "start_time": "2021-08-17T11:03:19.159Z"
   },
   {
    "duration": 38,
    "start_time": "2021-08-17T11:03:19.170Z"
   },
   {
    "duration": 4,
    "start_time": "2021-08-17T11:03:19.211Z"
   },
   {
    "duration": 31,
    "start_time": "2021-08-17T11:03:19.217Z"
   },
   {
    "duration": 52,
    "start_time": "2021-08-17T11:03:19.250Z"
   },
   {
    "duration": 18,
    "start_time": "2021-08-17T11:03:19.305Z"
   },
   {
    "duration": 10,
    "start_time": "2021-08-17T11:03:19.325Z"
   },
   {
    "duration": 29,
    "start_time": "2021-08-17T11:03:19.337Z"
   },
   {
    "duration": 36,
    "start_time": "2021-08-17T11:03:19.368Z"
   },
   {
    "duration": 8,
    "start_time": "2021-08-17T11:03:19.406Z"
   },
   {
    "duration": 37,
    "start_time": "2021-08-17T11:03:19.416Z"
   },
   {
    "duration": 11,
    "start_time": "2021-08-17T11:03:19.456Z"
   },
   {
    "duration": 33,
    "start_time": "2021-08-17T11:03:19.470Z"
   },
   {
    "duration": 16,
    "start_time": "2021-08-17T11:03:19.505Z"
   },
   {
    "duration": 21,
    "start_time": "2021-08-17T11:03:19.523Z"
   },
   {
    "duration": 9,
    "start_time": "2021-08-17T11:03:19.546Z"
   },
   {
    "duration": 8,
    "start_time": "2021-08-17T11:03:19.557Z"
   },
   {
    "duration": 7,
    "start_time": "2021-08-17T11:03:19.601Z"
   },
   {
    "duration": 5,
    "start_time": "2021-08-17T11:03:19.610Z"
   },
   {
    "duration": 45,
    "start_time": "2021-08-17T11:03:19.617Z"
   },
   {
    "duration": 58,
    "start_time": "2021-08-17T11:03:19.665Z"
   },
   {
    "duration": 5,
    "start_time": "2021-08-17T11:03:19.726Z"
   },
   {
    "duration": 66,
    "start_time": "2021-08-17T11:03:19.734Z"
   },
   {
    "duration": 839,
    "start_time": "2021-08-19T06:02:24.966Z"
   },
   {
    "duration": 15,
    "start_time": "2021-08-19T06:02:25.808Z"
   },
   {
    "duration": 5,
    "start_time": "2021-08-19T06:02:28.967Z"
   },
   {
    "duration": 22,
    "start_time": "2021-08-19T06:02:29.819Z"
   },
   {
    "duration": 6,
    "start_time": "2021-08-19T06:02:33.430Z"
   },
   {
    "duration": 11,
    "start_time": "2021-08-19T06:02:34.072Z"
   },
   {
    "duration": 23,
    "start_time": "2021-08-19T06:02:35.613Z"
   },
   {
    "duration": 13,
    "start_time": "2021-08-19T06:02:36.500Z"
   },
   {
    "duration": 10,
    "start_time": "2021-08-19T06:02:37.362Z"
   },
   {
    "duration": 18,
    "start_time": "2021-08-19T06:02:38.489Z"
   },
   {
    "duration": 17,
    "start_time": "2021-08-19T06:02:41.888Z"
   },
   {
    "duration": 18,
    "start_time": "2021-08-19T06:02:42.672Z"
   },
   {
    "duration": 12,
    "start_time": "2021-08-19T06:02:45.798Z"
   },
   {
    "duration": 149,
    "start_time": "2021-08-19T06:02:46.786Z"
   },
   {
    "duration": 4,
    "start_time": "2021-08-19T06:02:49.127Z"
   },
   {
    "duration": 17,
    "start_time": "2021-08-19T06:02:49.803Z"
   },
   {
    "duration": 8,
    "start_time": "2021-08-19T06:02:51.293Z"
   },
   {
    "duration": 149,
    "start_time": "2021-08-19T06:02:51.825Z"
   },
   {
    "duration": 17,
    "start_time": "2021-08-19T06:02:52.487Z"
   },
   {
    "duration": 7,
    "start_time": "2021-08-19T06:03:28.610Z"
   },
   {
    "duration": 16,
    "start_time": "2021-08-19T06:03:31.918Z"
   },
   {
    "duration": 25,
    "start_time": "2021-08-19T06:04:39.023Z"
   },
   {
    "duration": 39,
    "start_time": "2021-08-19T06:04:39.829Z"
   },
   {
    "duration": 46,
    "start_time": "2021-08-19T06:04:44.027Z"
   },
   {
    "duration": 11,
    "start_time": "2021-08-19T06:05:00.247Z"
   },
   {
    "duration": 4825,
    "start_time": "2021-08-19T06:05:00.956Z"
   },
   {
    "duration": 5,
    "start_time": "2021-08-19T06:05:05.785Z"
   },
   {
    "duration": 69,
    "start_time": "2021-08-19T06:05:05.794Z"
   },
   {
    "duration": 14,
    "start_time": "2021-08-19T06:09:57.958Z"
   },
   {
    "duration": 22,
    "start_time": "2021-08-19T06:11:16.379Z"
   },
   {
    "duration": 7,
    "start_time": "2021-08-19T06:11:40.946Z"
   },
   {
    "duration": 17,
    "start_time": "2021-08-19T06:11:41.918Z"
   },
   {
    "duration": 828,
    "start_time": "2021-08-19T06:12:07.991Z"
   },
   {
    "duration": 15,
    "start_time": "2021-08-19T06:12:08.821Z"
   },
   {
    "duration": 5,
    "start_time": "2021-08-19T06:12:10.654Z"
   },
   {
    "duration": 34,
    "start_time": "2021-08-19T06:12:11.168Z"
   },
   {
    "duration": 5,
    "start_time": "2021-08-19T06:12:12.971Z"
   },
   {
    "duration": 11,
    "start_time": "2021-08-19T06:12:13.912Z"
   },
   {
    "duration": 22,
    "start_time": "2021-08-19T06:12:14.283Z"
   },
   {
    "duration": 12,
    "start_time": "2021-08-19T06:12:15.001Z"
   },
   {
    "duration": 9,
    "start_time": "2021-08-19T06:12:15.452Z"
   },
   {
    "duration": 20,
    "start_time": "2021-08-19T06:12:16.380Z"
   },
   {
    "duration": 17,
    "start_time": "2021-08-19T06:12:17.300Z"
   },
   {
    "duration": 16,
    "start_time": "2021-08-19T06:12:18.320Z"
   },
   {
    "duration": 12,
    "start_time": "2021-08-19T06:12:20.212Z"
   },
   {
    "duration": 152,
    "start_time": "2021-08-19T06:12:21.310Z"
   },
   {
    "duration": 5,
    "start_time": "2021-08-19T06:12:22.050Z"
   },
   {
    "duration": 16,
    "start_time": "2021-08-19T06:12:23.328Z"
   },
   {
    "duration": 9,
    "start_time": "2021-08-19T06:12:24.375Z"
   },
   {
    "duration": 145,
    "start_time": "2021-08-19T06:12:24.674Z"
   },
   {
    "duration": 16,
    "start_time": "2021-08-19T06:12:25.425Z"
   },
   {
    "duration": 9,
    "start_time": "2021-08-19T06:12:27.651Z"
   },
   {
    "duration": 17,
    "start_time": "2021-08-19T06:12:28.853Z"
   },
   {
    "duration": 23,
    "start_time": "2021-08-19T06:12:33.534Z"
   },
   {
    "duration": 39,
    "start_time": "2021-08-19T06:12:34.426Z"
   },
   {
    "duration": 46,
    "start_time": "2021-08-19T06:12:35.620Z"
   },
   {
    "duration": 10,
    "start_time": "2021-08-19T06:12:38.043Z"
   },
   {
    "duration": 4662,
    "start_time": "2021-08-19T06:12:38.741Z"
   },
   {
    "duration": 4,
    "start_time": "2021-08-19T06:12:43.406Z"
   },
   {
    "duration": 50,
    "start_time": "2021-08-19T06:12:46.790Z"
   },
   {
    "duration": 12,
    "start_time": "2021-08-19T06:12:50.629Z"
   },
   {
    "duration": 22,
    "start_time": "2021-08-19T06:12:53.212Z"
   },
   {
    "duration": 8,
    "start_time": "2021-08-19T06:23:11.380Z"
   },
   {
    "duration": 5,
    "start_time": "2021-08-19T06:28:32.656Z"
   },
   {
    "duration": 6,
    "start_time": "2021-08-19T06:29:38.540Z"
   },
   {
    "duration": 5,
    "start_time": "2021-08-19T06:29:55.271Z"
   },
   {
    "duration": 5,
    "start_time": "2021-08-19T06:30:17.273Z"
   },
   {
    "duration": 6,
    "start_time": "2021-08-19T06:32:39.157Z"
   },
   {
    "duration": 38,
    "start_time": "2021-08-19T06:33:13.692Z"
   },
   {
    "duration": 790,
    "start_time": "2021-08-19T06:44:54.212Z"
   },
   {
    "duration": 16,
    "start_time": "2021-08-19T06:44:55.005Z"
   },
   {
    "duration": 7,
    "start_time": "2021-08-19T06:44:56.040Z"
   },
   {
    "duration": 22,
    "start_time": "2021-08-19T06:44:56.554Z"
   },
   {
    "duration": 6,
    "start_time": "2021-08-19T06:44:57.613Z"
   },
   {
    "duration": 10,
    "start_time": "2021-08-19T06:44:57.982Z"
   },
   {
    "duration": 23,
    "start_time": "2021-08-19T06:44:58.123Z"
   },
   {
    "duration": 12,
    "start_time": "2021-08-19T06:44:58.379Z"
   },
   {
    "duration": 10,
    "start_time": "2021-08-19T06:44:58.585Z"
   },
   {
    "duration": 17,
    "start_time": "2021-08-19T06:44:59.134Z"
   },
   {
    "duration": 16,
    "start_time": "2021-08-19T06:44:59.678Z"
   },
   {
    "duration": 17,
    "start_time": "2021-08-19T06:45:00.074Z"
   },
   {
    "duration": 10,
    "start_time": "2021-08-19T06:45:01.287Z"
   },
   {
    "duration": 156,
    "start_time": "2021-08-19T06:45:01.650Z"
   },
   {
    "duration": 5,
    "start_time": "2021-08-19T06:45:02.198Z"
   },
   {
    "duration": 15,
    "start_time": "2021-08-19T06:45:02.305Z"
   },
   {
    "duration": 7,
    "start_time": "2021-08-19T06:45:03.221Z"
   },
   {
    "duration": 164,
    "start_time": "2021-08-19T06:45:03.231Z"
   },
   {
    "duration": 14,
    "start_time": "2021-08-19T06:45:03.507Z"
   },
   {
    "duration": 7,
    "start_time": "2021-08-19T06:45:05.320Z"
   },
   {
    "duration": 17,
    "start_time": "2021-08-19T06:45:06.368Z"
   },
   {
    "duration": 24,
    "start_time": "2021-08-19T06:45:07.463Z"
   },
   {
    "duration": 40,
    "start_time": "2021-08-19T06:45:08.629Z"
   },
   {
    "duration": 45,
    "start_time": "2021-08-19T06:45:09.539Z"
   },
   {
    "duration": 10,
    "start_time": "2021-08-19T06:45:11.608Z"
   },
   {
    "duration": 4749,
    "start_time": "2021-08-19T06:45:12.893Z"
   },
   {
    "duration": 4,
    "start_time": "2021-08-19T06:45:18.650Z"
   },
   {
    "duration": 49,
    "start_time": "2021-08-19T06:45:19.558Z"
   },
   {
    "duration": 12,
    "start_time": "2021-08-19T06:45:21.701Z"
   },
   {
    "duration": 21,
    "start_time": "2021-08-19T06:45:25.241Z"
   },
   {
    "duration": 11088,
    "start_time": "2021-08-19T06:45:38.879Z"
   },
   {
    "duration": 30,
    "start_time": "2021-08-19T06:46:02.364Z"
   },
   {
    "duration": 122,
    "start_time": "2021-08-19T06:47:16.645Z"
   },
   {
    "duration": 35,
    "start_time": "2021-08-19T06:49:47.037Z"
   },
   {
    "duration": 448,
    "start_time": "2021-08-19T06:50:42.977Z"
   },
   {
    "duration": 5,
    "start_time": "2021-08-19T06:50:48.289Z"
   },
   {
    "duration": 18,
    "start_time": "2021-08-19T06:50:49.673Z"
   },
   {
    "duration": 9,
    "start_time": "2021-08-19T06:51:16.804Z"
   },
   {
    "duration": 13,
    "start_time": "2021-08-19T06:53:21.078Z"
   },
   {
    "duration": 13,
    "start_time": "2021-08-19T07:00:25.588Z"
   },
   {
    "duration": 19,
    "start_time": "2021-08-19T07:01:20.577Z"
   },
   {
    "duration": 19,
    "start_time": "2021-08-19T07:02:15.812Z"
   },
   {
    "duration": 1485,
    "start_time": "2021-08-19T07:02:36.050Z"
   },
   {
    "duration": 1413,
    "start_time": "2021-08-19T07:02:53.585Z"
   },
   {
    "duration": 345,
    "start_time": "2021-08-19T07:03:19.846Z"
   },
   {
    "duration": 12,
    "start_time": "2021-08-19T07:03:28.927Z"
   },
   {
    "duration": 885,
    "start_time": "2021-08-19T07:04:55.537Z"
   },
   {
    "duration": 15,
    "start_time": "2021-08-19T07:04:56.424Z"
   },
   {
    "duration": 22,
    "start_time": "2021-08-19T07:04:56.442Z"
   },
   {
    "duration": 22,
    "start_time": "2021-08-19T07:04:56.467Z"
   },
   {
    "duration": 5,
    "start_time": "2021-08-19T07:04:56.492Z"
   },
   {
    "duration": 13,
    "start_time": "2021-08-19T07:04:56.499Z"
   },
   {
    "duration": 58,
    "start_time": "2021-08-19T07:04:56.514Z"
   },
   {
    "duration": 13,
    "start_time": "2021-08-19T07:04:56.576Z"
   },
   {
    "duration": 9,
    "start_time": "2021-08-19T07:04:56.592Z"
   },
   {
    "duration": 18,
    "start_time": "2021-08-19T07:04:56.603Z"
   },
   {
    "duration": 53,
    "start_time": "2021-08-19T07:04:56.623Z"
   },
   {
    "duration": 18,
    "start_time": "2021-08-19T07:04:56.678Z"
   },
   {
    "duration": 12,
    "start_time": "2021-08-19T07:04:56.698Z"
   },
   {
    "duration": 190,
    "start_time": "2021-08-19T07:04:56.713Z"
   },
   {
    "duration": 4,
    "start_time": "2021-08-19T07:04:56.906Z"
   },
   {
    "duration": 22,
    "start_time": "2021-08-19T07:04:56.912Z"
   },
   {
    "duration": 7,
    "start_time": "2021-08-19T07:04:56.937Z"
   },
   {
    "duration": 161,
    "start_time": "2021-08-19T07:04:56.963Z"
   },
   {
    "duration": 15,
    "start_time": "2021-08-19T07:04:57.126Z"
   },
   {
    "duration": 24,
    "start_time": "2021-08-19T07:04:57.143Z"
   },
   {
    "duration": 20,
    "start_time": "2021-08-19T07:04:57.169Z"
   },
   {
    "duration": 31,
    "start_time": "2021-08-19T07:04:57.192Z"
   },
   {
    "duration": 81,
    "start_time": "2021-08-19T07:04:57.232Z"
   },
   {
    "duration": 83,
    "start_time": "2021-08-19T07:04:57.317Z"
   },
   {
    "duration": 13,
    "start_time": "2021-08-19T07:04:57.403Z"
   },
   {
    "duration": 4852,
    "start_time": "2021-08-19T07:04:57.419Z"
   },
   {
    "duration": 4,
    "start_time": "2021-08-19T07:05:02.274Z"
   },
   {
    "duration": 61,
    "start_time": "2021-08-19T07:05:02.280Z"
   },
   {
    "duration": 20,
    "start_time": "2021-08-19T07:05:02.343Z"
   },
   {
    "duration": 21,
    "start_time": "2021-08-19T07:05:02.365Z"
   },
   {
    "duration": 30,
    "start_time": "2021-08-19T07:05:02.389Z"
   },
   {
    "duration": 69,
    "start_time": "2021-08-19T07:05:02.421Z"
   },
   {
    "duration": 9,
    "start_time": "2021-08-19T07:05:02.492Z"
   },
   {
    "duration": 26,
    "start_time": "2021-08-19T07:05:02.504Z"
   },
   {
    "duration": 26,
    "start_time": "2021-08-19T07:05:02.533Z"
   },
   {
    "duration": 28,
    "start_time": "2021-08-19T07:05:02.562Z"
   },
   {
    "duration": 13,
    "start_time": "2021-08-19T07:05:02.593Z"
   },
   {
    "duration": 23,
    "start_time": "2021-08-19T07:05:02.608Z"
   },
   {
    "duration": 14,
    "start_time": "2021-08-19T07:05:02.633Z"
   },
   {
    "duration": 45,
    "start_time": "2021-08-19T07:05:02.649Z"
   },
   {
    "duration": 494,
    "start_time": "2021-08-19T07:05:02.697Z"
   },
   {
    "duration": -59,
    "start_time": "2021-08-19T07:05:03.252Z"
   },
   {
    "duration": -64,
    "start_time": "2021-08-19T07:05:03.259Z"
   },
   {
    "duration": -70,
    "start_time": "2021-08-19T07:05:03.266Z"
   },
   {
    "duration": -77,
    "start_time": "2021-08-19T07:05:03.274Z"
   },
   {
    "duration": -80,
    "start_time": "2021-08-19T07:05:03.279Z"
   },
   {
    "duration": -84,
    "start_time": "2021-08-19T07:05:03.284Z"
   },
   {
    "duration": -88,
    "start_time": "2021-08-19T07:05:03.289Z"
   },
   {
    "duration": -90,
    "start_time": "2021-08-19T07:05:03.293Z"
   },
   {
    "duration": -102,
    "start_time": "2021-08-19T07:05:03.306Z"
   },
   {
    "duration": -107,
    "start_time": "2021-08-19T07:05:03.312Z"
   },
   {
    "duration": 3408,
    "start_time": "2021-08-19T07:13:20.507Z"
   },
   {
    "duration": 15,
    "start_time": "2021-08-19T07:13:37.760Z"
   },
   {
    "duration": 18,
    "start_time": "2021-08-19T07:14:54.018Z"
   },
   {
    "duration": 17,
    "start_time": "2021-08-19T07:15:37.953Z"
   },
   {
    "duration": 17,
    "start_time": "2021-08-19T07:16:00.369Z"
   },
   {
    "duration": 26,
    "start_time": "2021-08-19T07:18:33.735Z"
   },
   {
    "duration": 876,
    "start_time": "2021-08-19T07:19:06.216Z"
   },
   {
    "duration": 15,
    "start_time": "2021-08-19T07:19:07.094Z"
   },
   {
    "duration": 6,
    "start_time": "2021-08-19T07:19:07.115Z"
   },
   {
    "duration": 56,
    "start_time": "2021-08-19T07:19:07.123Z"
   },
   {
    "duration": 4,
    "start_time": "2021-08-19T07:19:07.182Z"
   },
   {
    "duration": 12,
    "start_time": "2021-08-19T07:19:07.190Z"
   },
   {
    "duration": 60,
    "start_time": "2021-08-19T07:19:07.208Z"
   },
   {
    "duration": 13,
    "start_time": "2021-08-19T07:19:07.273Z"
   },
   {
    "duration": 8,
    "start_time": "2021-08-19T07:19:07.288Z"
   },
   {
    "duration": 19,
    "start_time": "2021-08-19T07:19:07.298Z"
   },
   {
    "duration": 16,
    "start_time": "2021-08-19T07:19:07.363Z"
   },
   {
    "duration": 17,
    "start_time": "2021-08-19T07:19:07.382Z"
   },
   {
    "duration": 18,
    "start_time": "2021-08-19T07:19:07.402Z"
   },
   {
    "duration": 186,
    "start_time": "2021-08-19T07:19:07.422Z"
   },
   {
    "duration": 4,
    "start_time": "2021-08-19T07:19:07.610Z"
   },
   {
    "duration": 18,
    "start_time": "2021-08-19T07:19:07.617Z"
   },
   {
    "duration": 29,
    "start_time": "2021-08-19T07:19:07.637Z"
   },
   {
    "duration": 166,
    "start_time": "2021-08-19T07:19:07.668Z"
   },
   {
    "duration": 26,
    "start_time": "2021-08-19T07:19:07.836Z"
   },
   {
    "duration": 7,
    "start_time": "2021-08-19T07:19:07.864Z"
   },
   {
    "duration": 21,
    "start_time": "2021-08-19T07:19:07.874Z"
   },
   {
    "duration": 22,
    "start_time": "2021-08-19T07:19:07.900Z"
   },
   {
    "duration": 38,
    "start_time": "2021-08-19T07:19:07.961Z"
   },
   {
    "duration": 62,
    "start_time": "2021-08-19T07:19:08.001Z"
   },
   {
    "duration": 10,
    "start_time": "2021-08-19T07:19:08.065Z"
   },
   {
    "duration": 4932,
    "start_time": "2021-08-19T07:19:08.078Z"
   },
   {
    "duration": 4,
    "start_time": "2021-08-19T07:19:13.013Z"
   },
   {
    "duration": 65,
    "start_time": "2021-08-19T07:19:13.019Z"
   },
   {
    "duration": 11,
    "start_time": "2021-08-19T07:19:13.086Z"
   },
   {
    "duration": 26,
    "start_time": "2021-08-19T07:19:13.099Z"
   },
   {
    "duration": 56,
    "start_time": "2021-08-19T07:19:13.127Z"
   },
   {
    "duration": 36,
    "start_time": "2021-08-19T07:19:13.186Z"
   },
   {
    "duration": 24,
    "start_time": "2021-08-19T07:19:13.224Z"
   },
   {
    "duration": 39,
    "start_time": "2021-08-19T07:19:13.250Z"
   },
   {
    "duration": 31,
    "start_time": "2021-08-19T07:19:13.292Z"
   },
   {
    "duration": 32,
    "start_time": "2021-08-19T07:19:13.326Z"
   },
   {
    "duration": 26,
    "start_time": "2021-08-19T07:19:13.361Z"
   },
   {
    "duration": 22,
    "start_time": "2021-08-19T07:19:13.390Z"
   },
   {
    "duration": 24,
    "start_time": "2021-08-19T07:19:13.415Z"
   },
   {
    "duration": 28,
    "start_time": "2021-08-19T07:19:13.442Z"
   },
   {
    "duration": 19,
    "start_time": "2021-08-19T07:19:13.473Z"
   },
   {
    "duration": 12,
    "start_time": "2021-08-19T07:19:13.495Z"
   },
   {
    "duration": 15,
    "start_time": "2021-08-19T07:19:13.510Z"
   },
   {
    "duration": 479,
    "start_time": "2021-08-19T07:19:13.561Z"
   },
   {
    "duration": -139,
    "start_time": "2021-08-19T07:19:14.183Z"
   },
   {
    "duration": -144,
    "start_time": "2021-08-19T07:19:14.189Z"
   },
   {
    "duration": -146,
    "start_time": "2021-08-19T07:19:14.194Z"
   },
   {
    "duration": -156,
    "start_time": "2021-08-19T07:19:14.206Z"
   },
   {
    "duration": -165,
    "start_time": "2021-08-19T07:19:14.217Z"
   },
   {
    "duration": -171,
    "start_time": "2021-08-19T07:19:14.226Z"
   },
   {
    "duration": -175,
    "start_time": "2021-08-19T07:19:14.233Z"
   },
   {
    "duration": -178,
    "start_time": "2021-08-19T07:19:14.238Z"
   },
   {
    "duration": -184,
    "start_time": "2021-08-19T07:19:14.246Z"
   },
   {
    "duration": -187,
    "start_time": "2021-08-19T07:19:14.252Z"
   },
   {
    "duration": 20,
    "start_time": "2021-08-19T07:22:54.556Z"
   },
   {
    "duration": 17,
    "start_time": "2021-08-19T07:25:25.960Z"
   },
   {
    "duration": 12,
    "start_time": "2021-08-19T07:25:58.687Z"
   },
   {
    "duration": 15,
    "start_time": "2021-08-19T07:26:12.770Z"
   },
   {
    "duration": 872,
    "start_time": "2021-08-19T07:30:53.822Z"
   },
   {
    "duration": 17,
    "start_time": "2021-08-19T07:30:54.697Z"
   },
   {
    "duration": 7,
    "start_time": "2021-08-19T07:30:54.718Z"
   },
   {
    "duration": 52,
    "start_time": "2021-08-19T07:30:54.728Z"
   },
   {
    "duration": 7,
    "start_time": "2021-08-19T07:30:54.783Z"
   },
   {
    "duration": 10,
    "start_time": "2021-08-19T07:30:54.794Z"
   },
   {
    "duration": 60,
    "start_time": "2021-08-19T07:30:54.807Z"
   },
   {
    "duration": 13,
    "start_time": "2021-08-19T07:30:54.871Z"
   },
   {
    "duration": 9,
    "start_time": "2021-08-19T07:30:54.888Z"
   },
   {
    "duration": 19,
    "start_time": "2021-08-19T07:30:54.900Z"
   },
   {
    "duration": 18,
    "start_time": "2021-08-19T07:30:54.963Z"
   },
   {
    "duration": 18,
    "start_time": "2021-08-19T07:30:54.984Z"
   },
   {
    "duration": 14,
    "start_time": "2021-08-19T07:30:55.005Z"
   },
   {
    "duration": 165,
    "start_time": "2021-08-19T07:30:55.063Z"
   },
   {
    "duration": 6,
    "start_time": "2021-08-19T07:30:55.230Z"
   },
   {
    "duration": 34,
    "start_time": "2021-08-19T07:30:55.239Z"
   },
   {
    "duration": 9,
    "start_time": "2021-08-19T07:30:55.276Z"
   },
   {
    "duration": 175,
    "start_time": "2021-08-19T07:30:55.288Z"
   },
   {
    "duration": 18,
    "start_time": "2021-08-19T07:30:55.465Z"
   },
   {
    "duration": 10,
    "start_time": "2021-08-19T07:30:55.486Z"
   },
   {
    "duration": 22,
    "start_time": "2021-08-19T07:30:55.498Z"
   },
   {
    "duration": 60,
    "start_time": "2021-08-19T07:30:55.522Z"
   },
   {
    "duration": 37,
    "start_time": "2021-08-19T07:30:55.587Z"
   },
   {
    "duration": 67,
    "start_time": "2021-08-19T07:30:55.627Z"
   },
   {
    "duration": 11,
    "start_time": "2021-08-19T07:30:55.697Z"
   },
   {
    "duration": 4482,
    "start_time": "2021-08-19T07:30:55.711Z"
   },
   {
    "duration": 4,
    "start_time": "2021-08-19T07:31:00.196Z"
   },
   {
    "duration": 64,
    "start_time": "2021-08-19T07:31:00.202Z"
   },
   {
    "duration": 11,
    "start_time": "2021-08-19T07:31:00.269Z"
   },
   {
    "duration": 21,
    "start_time": "2021-08-19T07:31:00.282Z"
   },
   {
    "duration": 62,
    "start_time": "2021-08-19T07:31:00.305Z"
   },
   {
    "duration": 37,
    "start_time": "2021-08-19T07:31:00.369Z"
   },
   {
    "duration": 27,
    "start_time": "2021-08-19T07:31:00.408Z"
   },
   {
    "duration": 38,
    "start_time": "2021-08-19T07:31:00.438Z"
   },
   {
    "duration": 23,
    "start_time": "2021-08-19T07:31:00.478Z"
   },
   {
    "duration": 16,
    "start_time": "2021-08-19T07:31:00.503Z"
   },
   {
    "duration": 48,
    "start_time": "2021-08-19T07:31:00.521Z"
   },
   {
    "duration": 8,
    "start_time": "2021-08-19T07:31:00.571Z"
   },
   {
    "duration": 21,
    "start_time": "2021-08-19T07:31:00.581Z"
   },
   {
    "duration": 17,
    "start_time": "2021-08-19T07:31:00.605Z"
   },
   {
    "duration": 36,
    "start_time": "2021-08-19T07:31:00.625Z"
   },
   {
    "duration": 11,
    "start_time": "2021-08-19T07:31:00.663Z"
   },
   {
    "duration": 39,
    "start_time": "2021-08-19T07:31:00.677Z"
   },
   {
    "duration": 32,
    "start_time": "2021-08-19T07:31:00.719Z"
   },
   {
    "duration": 9,
    "start_time": "2021-08-19T07:31:00.755Z"
   },
   {
    "duration": 25,
    "start_time": "2021-08-19T07:31:00.767Z"
   },
   {
    "duration": 481,
    "start_time": "2021-08-19T07:31:00.795Z"
   },
   {
    "duration": -29,
    "start_time": "2021-08-19T07:31:01.309Z"
   },
   {
    "duration": -34,
    "start_time": "2021-08-19T07:31:01.316Z"
   },
   {
    "duration": -40,
    "start_time": "2021-08-19T07:31:01.324Z"
   },
   {
    "duration": -43,
    "start_time": "2021-08-19T07:31:01.330Z"
   },
   {
    "duration": -48,
    "start_time": "2021-08-19T07:31:01.337Z"
   },
   {
    "duration": 20,
    "start_time": "2021-08-19T07:32:30.551Z"
   },
   {
    "duration": 22,
    "start_time": "2021-08-19T07:33:18.517Z"
   },
   {
    "duration": 120,
    "start_time": "2021-08-19T07:35:55.789Z"
   },
   {
    "duration": 25,
    "start_time": "2021-08-19T07:38:12.380Z"
   },
   {
    "duration": 331,
    "start_time": "2021-08-19T07:43:30.609Z"
   },
   {
    "duration": 113,
    "start_time": "2021-08-19T07:46:07.158Z"
   },
   {
    "duration": 128,
    "start_time": "2021-08-19T07:46:11.391Z"
   },
   {
    "duration": 759,
    "start_time": "2021-08-19T07:46:19.814Z"
   },
   {
    "duration": 2005,
    "start_time": "2021-08-19T07:48:07.755Z"
   },
   {
    "duration": 406,
    "start_time": "2021-08-19T07:48:22.809Z"
   },
   {
    "duration": 355,
    "start_time": "2021-08-19T07:54:12.204Z"
   },
   {
    "duration": 82,
    "start_time": "2021-08-19T07:56:20.992Z"
   },
   {
    "duration": 47,
    "start_time": "2021-08-19T07:57:47.659Z"
   },
   {
    "duration": 72,
    "start_time": "2021-08-19T07:58:21.592Z"
   },
   {
    "duration": 56,
    "start_time": "2021-08-19T08:00:18.331Z"
   },
   {
    "duration": 24,
    "start_time": "2021-08-19T08:00:21.959Z"
   },
   {
    "duration": 28,
    "start_time": "2021-08-19T08:00:53.452Z"
   },
   {
    "duration": 1471,
    "start_time": "2021-08-19T08:03:04.453Z"
   },
   {
    "duration": 1758,
    "start_time": "2021-08-19T08:03:09.623Z"
   },
   {
    "duration": 1125,
    "start_time": "2021-08-19T08:03:28.541Z"
   },
   {
    "duration": 23,
    "start_time": "2021-08-19T08:03:29.671Z"
   },
   {
    "duration": 9,
    "start_time": "2021-08-19T08:03:29.699Z"
   },
   {
    "duration": 56,
    "start_time": "2021-08-19T08:03:29.712Z"
   },
   {
    "duration": 7,
    "start_time": "2021-08-19T08:03:29.771Z"
   },
   {
    "duration": 15,
    "start_time": "2021-08-19T08:03:29.781Z"
   },
   {
    "duration": 25,
    "start_time": "2021-08-19T08:03:29.798Z"
   },
   {
    "duration": 16,
    "start_time": "2021-08-19T08:03:29.864Z"
   },
   {
    "duration": 13,
    "start_time": "2021-08-19T08:03:29.884Z"
   },
   {
    "duration": 22,
    "start_time": "2021-08-19T08:03:29.899Z"
   },
   {
    "duration": 55,
    "start_time": "2021-08-19T08:03:29.923Z"
   },
   {
    "duration": 19,
    "start_time": "2021-08-19T08:03:29.981Z"
   },
   {
    "duration": 19,
    "start_time": "2021-08-19T08:03:30.002Z"
   },
   {
    "duration": 185,
    "start_time": "2021-08-19T08:03:30.023Z"
   },
   {
    "duration": 5,
    "start_time": "2021-08-19T08:03:30.210Z"
   },
   {
    "duration": 46,
    "start_time": "2021-08-19T08:03:30.218Z"
   },
   {
    "duration": 22,
    "start_time": "2021-08-19T08:03:30.267Z"
   },
   {
    "duration": 239,
    "start_time": "2021-08-19T08:03:30.293Z"
   },
   {
    "duration": 30,
    "start_time": "2021-08-19T08:03:30.535Z"
   },
   {
    "duration": 10,
    "start_time": "2021-08-19T08:03:30.568Z"
   },
   {
    "duration": 42,
    "start_time": "2021-08-19T08:03:30.582Z"
   },
   {
    "duration": 41,
    "start_time": "2021-08-19T08:03:30.627Z"
   },
   {
    "duration": 44,
    "start_time": "2021-08-19T08:03:30.674Z"
   },
   {
    "duration": 78,
    "start_time": "2021-08-19T08:03:30.721Z"
   },
   {
    "duration": 9,
    "start_time": "2021-08-19T08:03:30.802Z"
   },
   {
    "duration": 5254,
    "start_time": "2021-08-19T08:03:30.814Z"
   },
   {
    "duration": 7,
    "start_time": "2021-08-19T08:03:36.072Z"
   },
   {
    "duration": 107,
    "start_time": "2021-08-19T08:03:36.083Z"
   },
   {
    "duration": 14,
    "start_time": "2021-08-19T08:03:36.192Z"
   },
   {
    "duration": 22,
    "start_time": "2021-08-19T08:03:36.208Z"
   },
   {
    "duration": 77,
    "start_time": "2021-08-19T08:03:36.233Z"
   },
   {
    "duration": 59,
    "start_time": "2021-08-19T08:03:36.314Z"
   },
   {
    "duration": 8,
    "start_time": "2021-08-19T08:03:36.375Z"
   },
   {
    "duration": 26,
    "start_time": "2021-08-19T08:03:36.385Z"
   },
   {
    "duration": 23,
    "start_time": "2021-08-19T08:03:36.414Z"
   },
   {
    "duration": 20,
    "start_time": "2021-08-19T08:03:36.461Z"
   },
   {
    "duration": 25,
    "start_time": "2021-08-19T08:03:36.484Z"
   },
   {
    "duration": 15,
    "start_time": "2021-08-19T08:03:36.511Z"
   },
   {
    "duration": 34,
    "start_time": "2021-08-19T08:03:36.528Z"
   },
   {
    "duration": 15,
    "start_time": "2021-08-19T08:03:36.564Z"
   },
   {
    "duration": 24,
    "start_time": "2021-08-19T08:03:36.582Z"
   },
   {
    "duration": 13,
    "start_time": "2021-08-19T08:03:36.609Z"
   },
   {
    "duration": 21,
    "start_time": "2021-08-19T08:03:36.662Z"
   },
   {
    "duration": 19,
    "start_time": "2021-08-19T08:03:36.686Z"
   },
   {
    "duration": 8,
    "start_time": "2021-08-19T08:03:36.707Z"
   },
   {
    "duration": 56,
    "start_time": "2021-08-19T08:03:36.717Z"
   },
   {
    "duration": 42,
    "start_time": "2021-08-19T08:03:36.775Z"
   },
   {
    "duration": 22,
    "start_time": "2021-08-19T08:03:36.819Z"
   },
   {
    "duration": 44,
    "start_time": "2021-08-19T08:03:36.843Z"
   },
   {
    "duration": 79,
    "start_time": "2021-08-19T08:03:36.891Z"
   },
   {
    "duration": 31,
    "start_time": "2021-08-19T08:03:36.973Z"
   },
   {
    "duration": 863,
    "start_time": "2021-08-19T08:04:14.299Z"
   },
   {
    "duration": 16,
    "start_time": "2021-08-19T08:04:15.165Z"
   },
   {
    "duration": 7,
    "start_time": "2021-08-19T08:04:15.184Z"
   },
   {
    "duration": 32,
    "start_time": "2021-08-19T08:04:15.195Z"
   },
   {
    "duration": 36,
    "start_time": "2021-08-19T08:04:15.230Z"
   },
   {
    "duration": 13,
    "start_time": "2021-08-19T08:04:15.268Z"
   },
   {
    "duration": 22,
    "start_time": "2021-08-19T08:04:15.284Z"
   },
   {
    "duration": 12,
    "start_time": "2021-08-19T08:04:15.308Z"
   },
   {
    "duration": 9,
    "start_time": "2021-08-19T08:04:15.364Z"
   },
   {
    "duration": 18,
    "start_time": "2021-08-19T08:04:15.376Z"
   },
   {
    "duration": 18,
    "start_time": "2021-08-19T08:04:15.396Z"
   },
   {
    "duration": 49,
    "start_time": "2021-08-19T08:04:15.416Z"
   },
   {
    "duration": 13,
    "start_time": "2021-08-19T08:04:15.468Z"
   },
   {
    "duration": 175,
    "start_time": "2021-08-19T08:04:15.483Z"
   },
   {
    "duration": 4,
    "start_time": "2021-08-19T08:04:15.660Z"
   },
   {
    "duration": 20,
    "start_time": "2021-08-19T08:04:15.666Z"
   },
   {
    "duration": 7,
    "start_time": "2021-08-19T08:04:15.688Z"
   },
   {
    "duration": 178,
    "start_time": "2021-08-19T08:04:15.697Z"
   },
   {
    "duration": 14,
    "start_time": "2021-08-19T08:04:15.877Z"
   },
   {
    "duration": 6,
    "start_time": "2021-08-19T08:04:15.894Z"
   },
   {
    "duration": 19,
    "start_time": "2021-08-19T08:04:15.902Z"
   },
   {
    "duration": 53,
    "start_time": "2021-08-19T08:04:15.924Z"
   },
   {
    "duration": 35,
    "start_time": "2021-08-19T08:04:15.980Z"
   },
   {
    "duration": 76,
    "start_time": "2021-08-19T08:04:16.018Z"
   },
   {
    "duration": 9,
    "start_time": "2021-08-19T08:04:16.096Z"
   },
   {
    "duration": 4586,
    "start_time": "2021-08-19T08:04:16.107Z"
   },
   {
    "duration": 5,
    "start_time": "2021-08-19T08:04:20.700Z"
   },
   {
    "duration": 70,
    "start_time": "2021-08-19T08:04:20.709Z"
   },
   {
    "duration": 14,
    "start_time": "2021-08-19T08:04:20.782Z"
   },
   {
    "duration": 19,
    "start_time": "2021-08-19T08:04:20.798Z"
   },
   {
    "duration": 63,
    "start_time": "2021-08-19T08:04:20.820Z"
   },
   {
    "duration": 33,
    "start_time": "2021-08-19T08:04:20.885Z"
   },
   {
    "duration": 8,
    "start_time": "2021-08-19T08:04:20.921Z"
   },
   {
    "duration": 41,
    "start_time": "2021-08-19T08:04:20.931Z"
   },
   {
    "duration": 22,
    "start_time": "2021-08-19T08:04:20.974Z"
   },
   {
    "duration": 15,
    "start_time": "2021-08-19T08:04:20.999Z"
   },
   {
    "duration": 53,
    "start_time": "2021-08-19T08:04:21.016Z"
   },
   {
    "duration": 13,
    "start_time": "2021-08-19T08:04:21.072Z"
   },
   {
    "duration": 9,
    "start_time": "2021-08-19T08:04:21.087Z"
   },
   {
    "duration": 14,
    "start_time": "2021-08-19T08:04:21.098Z"
   },
   {
    "duration": 47,
    "start_time": "2021-08-19T08:04:21.115Z"
   },
   {
    "duration": 11,
    "start_time": "2021-08-19T08:04:21.165Z"
   },
   {
    "duration": 13,
    "start_time": "2021-08-19T08:04:21.179Z"
   },
   {
    "duration": 36,
    "start_time": "2021-08-19T08:04:21.195Z"
   },
   {
    "duration": 29,
    "start_time": "2021-08-19T08:04:21.233Z"
   },
   {
    "duration": 20,
    "start_time": "2021-08-19T08:04:21.265Z"
   },
   {
    "duration": 49,
    "start_time": "2021-08-19T08:04:21.288Z"
   },
   {
    "duration": 38,
    "start_time": "2021-08-19T08:04:21.339Z"
   },
   {
    "duration": 32,
    "start_time": "2021-08-19T08:04:21.379Z"
   },
   {
    "duration": 39,
    "start_time": "2021-08-19T08:04:21.413Z"
   },
   {
    "duration": 5,
    "start_time": "2021-08-19T08:04:21.461Z"
   },
   {
    "duration": 22,
    "start_time": "2021-08-19T08:04:28.065Z"
   }
  ],
  "kernelspec": {
   "display_name": "Python 3 (ipykernel)",
   "language": "python",
   "name": "python3"
  },
  "language_info": {
   "codemirror_mode": {
    "name": "ipython",
    "version": 3
   },
   "file_extension": ".py",
   "mimetype": "text/x-python",
   "name": "python",
   "nbconvert_exporter": "python",
   "pygments_lexer": "ipython3",
   "version": "3.9.7"
  },
  "toc": {
   "base_numbering": 1,
   "nav_menu": {},
   "number_sections": true,
   "sideBar": true,
   "skip_h1_title": true,
   "title_cell": "Table of Contents",
   "title_sidebar": "Contents",
   "toc_cell": false,
   "toc_position": {},
   "toc_section_display": true,
   "toc_window_display": false
  }
 },
 "nbformat": 4,
 "nbformat_minor": 2
}
