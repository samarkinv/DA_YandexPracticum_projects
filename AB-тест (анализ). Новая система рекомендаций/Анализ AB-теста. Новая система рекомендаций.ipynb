{
 "cells": [
  {
   "cell_type": "markdown",
   "metadata": {},
   "source": [
    "# Анализ AB-теста. Новая система рекомендаций"
   ]
  },
  {
   "cell_type": "markdown",
   "metadata": {},
   "source": [
    "## 1. Обзор и предобработка"
   ]
  },
  {
   "cell_type": "markdown",
   "metadata": {},
   "source": [
    "**Импорты**"
   ]
  },
  {
   "cell_type": "code",
   "execution_count": 1,
   "metadata": {},
   "outputs": [],
   "source": [
    "import pandas as pd\n",
    "import seaborn as sns\n",
    "import plotly.express as px\n",
    "from datetime import timedelta \n",
    "from plotly import graph_objects as go\n",
    "from matplotlib import pyplot as plt\n",
    "from statsmodels.stats.proportion import proportions_ztest\n",
    "\n",
    "import warnings\n",
    "warnings.filterwarnings('ignore')\n",
    "\n",
    "import plotly.io as pio\n",
    "pio.renderers.default = \"png\""
   ]
  },
  {
   "cell_type": "markdown",
   "metadata": {},
   "source": [
    "**Апдейты**"
   ]
  },
  {
   "cell_type": "code",
   "execution_count": 2,
   "metadata": {},
   "outputs": [],
   "source": [
    "#!pip install plotly --upgrade --user\n",
    "#!pip install -U seaborn"
   ]
  },
  {
   "cell_type": "markdown",
   "metadata": {},
   "source": [
    "**Данные**"
   ]
  },
  {
   "cell_type": "code",
   "execution_count": 3,
   "metadata": {},
   "outputs": [],
   "source": [
    "df_marketing_events = pd.read_csv('ab_project_marketing_events.csv')\n",
    "df_all_new_users = pd.read_csv('final_ab_new_users.csv')\n",
    "df_user_events = pd.read_csv('final_ab_events.csv')\n",
    "df_test_participants = pd.read_csv('final_ab_participants.csv')"
   ]
  },
  {
   "cell_type": "markdown",
   "metadata": {},
   "source": [
    "**Таблица маркетинговых мероприятий**"
   ]
  },
  {
   "cell_type": "code",
   "execution_count": 4,
   "metadata": {},
   "outputs": [
    {
     "data": {
      "text/html": [
       "<div>\n",
       "<style scoped>\n",
       "    .dataframe tbody tr th:only-of-type {\n",
       "        vertical-align: middle;\n",
       "    }\n",
       "\n",
       "    .dataframe tbody tr th {\n",
       "        vertical-align: top;\n",
       "    }\n",
       "\n",
       "    .dataframe thead th {\n",
       "        text-align: right;\n",
       "    }\n",
       "</style>\n",
       "<table border=\"1\" class=\"dataframe\">\n",
       "  <thead>\n",
       "    <tr style=\"text-align: right;\">\n",
       "      <th></th>\n",
       "      <th>name</th>\n",
       "      <th>regions</th>\n",
       "      <th>start_dt</th>\n",
       "      <th>finish_dt</th>\n",
       "    </tr>\n",
       "  </thead>\n",
       "  <tbody>\n",
       "    <tr>\n",
       "      <th>0</th>\n",
       "      <td>Christmas&amp;New Year Promo</td>\n",
       "      <td>EU, N.America</td>\n",
       "      <td>2020-12-25</td>\n",
       "      <td>2021-01-03</td>\n",
       "    </tr>\n",
       "    <tr>\n",
       "      <th>1</th>\n",
       "      <td>St. Valentine's Day Giveaway</td>\n",
       "      <td>EU, CIS, APAC, N.America</td>\n",
       "      <td>2020-02-14</td>\n",
       "      <td>2020-02-16</td>\n",
       "    </tr>\n",
       "    <tr>\n",
       "      <th>2</th>\n",
       "      <td>St. Patric's Day Promo</td>\n",
       "      <td>EU, N.America</td>\n",
       "      <td>2020-03-17</td>\n",
       "      <td>2020-03-19</td>\n",
       "    </tr>\n",
       "    <tr>\n",
       "      <th>3</th>\n",
       "      <td>Easter Promo</td>\n",
       "      <td>EU, CIS, APAC, N.America</td>\n",
       "      <td>2020-04-12</td>\n",
       "      <td>2020-04-19</td>\n",
       "    </tr>\n",
       "    <tr>\n",
       "      <th>4</th>\n",
       "      <td>4th of July Promo</td>\n",
       "      <td>N.America</td>\n",
       "      <td>2020-07-04</td>\n",
       "      <td>2020-07-11</td>\n",
       "    </tr>\n",
       "  </tbody>\n",
       "</table>\n",
       "</div>"
      ],
      "text/plain": [
       "                           name                   regions    start_dt  \\\n",
       "0      Christmas&New Year Promo             EU, N.America  2020-12-25   \n",
       "1  St. Valentine's Day Giveaway  EU, CIS, APAC, N.America  2020-02-14   \n",
       "2        St. Patric's Day Promo             EU, N.America  2020-03-17   \n",
       "3                  Easter Promo  EU, CIS, APAC, N.America  2020-04-12   \n",
       "4             4th of July Promo                 N.America  2020-07-04   \n",
       "\n",
       "    finish_dt  \n",
       "0  2021-01-03  \n",
       "1  2020-02-16  \n",
       "2  2020-03-19  \n",
       "3  2020-04-19  \n",
       "4  2020-07-11  "
      ]
     },
     "execution_count": 4,
     "metadata": {},
     "output_type": "execute_result"
    }
   ],
   "source": [
    "df_marketing_events.head()"
   ]
  },
  {
   "cell_type": "code",
   "execution_count": 5,
   "metadata": {},
   "outputs": [
    {
     "name": "stdout",
     "output_type": "stream",
     "text": [
      "<class 'pandas.core.frame.DataFrame'>\n",
      "RangeIndex: 14 entries, 0 to 13\n",
      "Data columns (total 4 columns):\n",
      " #   Column     Non-Null Count  Dtype \n",
      "---  ------     --------------  ----- \n",
      " 0   name       14 non-null     object\n",
      " 1   regions    14 non-null     object\n",
      " 2   start_dt   14 non-null     object\n",
      " 3   finish_dt  14 non-null     object\n",
      "dtypes: object(4)\n",
      "memory usage: 576.0+ bytes\n"
     ]
    }
   ],
   "source": [
    "df_marketing_events.info()"
   ]
  },
  {
   "cell_type": "markdown",
   "metadata": {},
   "source": [
    "Что сделать:\n",
    "- Даты в datetime\n",
    "- Дубликаты"
   ]
  },
  {
   "cell_type": "code",
   "execution_count": 6,
   "metadata": {},
   "outputs": [],
   "source": [
    "df_marketing_events['start_dt'] = pd.to_datetime(df_marketing_events['start_dt'], format='%Y-%m-%d')\n",
    "df_marketing_events['finish_dt'] = pd.to_datetime(df_marketing_events['start_dt'], format='%Y-%m-%d')"
   ]
  },
  {
   "cell_type": "code",
   "execution_count": 7,
   "metadata": {},
   "outputs": [
    {
     "name": "stdout",
     "output_type": "stream",
     "text": [
      "Дубликатов в таблице: 0\n"
     ]
    }
   ],
   "source": [
    "print('Дубликатов в таблице:', df_marketing_events.duplicated().sum())"
   ]
  },
  {
   "cell_type": "markdown",
   "metadata": {},
   "source": [
    "**Таблица новых пользователей**\n",
    "\n",
    "Зарегистрировавшиеся с 7 по 21 декабря 2020 года"
   ]
  },
  {
   "cell_type": "code",
   "execution_count": 8,
   "metadata": {},
   "outputs": [
    {
     "data": {
      "text/html": [
       "<div>\n",
       "<style scoped>\n",
       "    .dataframe tbody tr th:only-of-type {\n",
       "        vertical-align: middle;\n",
       "    }\n",
       "\n",
       "    .dataframe tbody tr th {\n",
       "        vertical-align: top;\n",
       "    }\n",
       "\n",
       "    .dataframe thead th {\n",
       "        text-align: right;\n",
       "    }\n",
       "</style>\n",
       "<table border=\"1\" class=\"dataframe\">\n",
       "  <thead>\n",
       "    <tr style=\"text-align: right;\">\n",
       "      <th></th>\n",
       "      <th>user_id</th>\n",
       "      <th>first_date</th>\n",
       "      <th>region</th>\n",
       "      <th>device</th>\n",
       "    </tr>\n",
       "  </thead>\n",
       "  <tbody>\n",
       "    <tr>\n",
       "      <th>0</th>\n",
       "      <td>D72A72121175D8BE</td>\n",
       "      <td>2020-12-07</td>\n",
       "      <td>EU</td>\n",
       "      <td>PC</td>\n",
       "    </tr>\n",
       "    <tr>\n",
       "      <th>1</th>\n",
       "      <td>F1C668619DFE6E65</td>\n",
       "      <td>2020-12-07</td>\n",
       "      <td>N.America</td>\n",
       "      <td>Android</td>\n",
       "    </tr>\n",
       "    <tr>\n",
       "      <th>2</th>\n",
       "      <td>2E1BF1D4C37EA01F</td>\n",
       "      <td>2020-12-07</td>\n",
       "      <td>EU</td>\n",
       "      <td>PC</td>\n",
       "    </tr>\n",
       "    <tr>\n",
       "      <th>3</th>\n",
       "      <td>50734A22C0C63768</td>\n",
       "      <td>2020-12-07</td>\n",
       "      <td>EU</td>\n",
       "      <td>iPhone</td>\n",
       "    </tr>\n",
       "    <tr>\n",
       "      <th>4</th>\n",
       "      <td>E1BDDCE0DAFA2679</td>\n",
       "      <td>2020-12-07</td>\n",
       "      <td>N.America</td>\n",
       "      <td>iPhone</td>\n",
       "    </tr>\n",
       "  </tbody>\n",
       "</table>\n",
       "</div>"
      ],
      "text/plain": [
       "            user_id  first_date     region   device\n",
       "0  D72A72121175D8BE  2020-12-07         EU       PC\n",
       "1  F1C668619DFE6E65  2020-12-07  N.America  Android\n",
       "2  2E1BF1D4C37EA01F  2020-12-07         EU       PC\n",
       "3  50734A22C0C63768  2020-12-07         EU   iPhone\n",
       "4  E1BDDCE0DAFA2679  2020-12-07  N.America   iPhone"
      ]
     },
     "execution_count": 8,
     "metadata": {},
     "output_type": "execute_result"
    }
   ],
   "source": [
    "df_all_new_users.head()"
   ]
  },
  {
   "cell_type": "code",
   "execution_count": 9,
   "metadata": {},
   "outputs": [
    {
     "name": "stdout",
     "output_type": "stream",
     "text": [
      "<class 'pandas.core.frame.DataFrame'>\n",
      "RangeIndex: 61733 entries, 0 to 61732\n",
      "Data columns (total 4 columns):\n",
      " #   Column      Non-Null Count  Dtype \n",
      "---  ------      --------------  ----- \n",
      " 0   user_id     61733 non-null  object\n",
      " 1   first_date  61733 non-null  object\n",
      " 2   region      61733 non-null  object\n",
      " 3   device      61733 non-null  object\n",
      "dtypes: object(4)\n",
      "memory usage: 1.9+ MB\n"
     ]
    }
   ],
   "source": [
    "df_all_new_users.info()"
   ]
  },
  {
   "cell_type": "markdown",
   "metadata": {},
   "source": [
    "Что сделать:\n",
    "- Дату в datetime\n",
    "- Дубликаты\n",
    "- Значения категориальных столбцов\n",
    "- Диапозон дат"
   ]
  },
  {
   "cell_type": "code",
   "execution_count": 10,
   "metadata": {},
   "outputs": [],
   "source": [
    "df_all_new_users['first_date'] = pd.to_datetime(df_all_new_users['first_date'], format='%Y-%m-%d')"
   ]
  },
  {
   "cell_type": "code",
   "execution_count": 11,
   "metadata": {},
   "outputs": [
    {
     "name": "stdout",
     "output_type": "stream",
     "text": [
      "Дубликатов в таблице: 0\n"
     ]
    }
   ],
   "source": [
    "print('Дубликатов в таблице:', df_all_new_users.duplicated().sum())"
   ]
  },
  {
   "cell_type": "markdown",
   "metadata": {},
   "source": [
    "Один и тот же пользователь случайно не попал в регистрацию два раза: в разные даты и с разных устройств? Посмотрим дубликаты только по user_id."
   ]
  },
  {
   "cell_type": "code",
   "execution_count": 12,
   "metadata": {},
   "outputs": [
    {
     "name": "stdout",
     "output_type": "stream",
     "text": [
      "Дубликатов user_id в таблице: 0\n"
     ]
    }
   ],
   "source": [
    "print('Дубликатов user_id в таблице:', df_all_new_users.duplicated(subset='user_id').sum())"
   ]
  },
  {
   "cell_type": "code",
   "execution_count": 13,
   "metadata": {},
   "outputs": [
    {
     "data": {
      "text/plain": [
       "array(['EU', 'N.America', 'APAC', 'CIS'], dtype=object)"
      ]
     },
     "execution_count": 13,
     "metadata": {},
     "output_type": "execute_result"
    }
   ],
   "source": [
    "df_all_new_users['region'].unique()"
   ]
  },
  {
   "cell_type": "code",
   "execution_count": 14,
   "metadata": {},
   "outputs": [
    {
     "data": {
      "text/plain": [
       "array(['PC', 'Android', 'iPhone', 'Mac'], dtype=object)"
      ]
     },
     "execution_count": 14,
     "metadata": {},
     "output_type": "execute_result"
    }
   ],
   "source": [
    "df_all_new_users['device'].unique()"
   ]
  },
  {
   "cell_type": "markdown",
   "metadata": {},
   "source": [
    "В категориальных значениях все ок: повторений с разными написаниями нет. "
   ]
  },
  {
   "cell_type": "code",
   "execution_count": 15,
   "metadata": {},
   "outputs": [
    {
     "data": {
      "text/plain": [
       "count                            61733\n",
       "mean     2020-12-14 23:38:12.796397568\n",
       "min                2020-12-07 00:00:00\n",
       "25%                2020-12-11 00:00:00\n",
       "50%                2020-12-15 00:00:00\n",
       "75%                2020-12-20 00:00:00\n",
       "max                2020-12-23 00:00:00\n",
       "Name: first_date, dtype: object"
      ]
     },
     "execution_count": 15,
     "metadata": {},
     "output_type": "execute_result"
    }
   ],
   "source": [
    "df_all_new_users['first_date'].describe(datetime_is_numeric=True)"
   ]
  },
  {
   "cell_type": "markdown",
   "metadata": {},
   "source": [
    "А вот последняя дата регистрации не совпадает с границей диапозона. Должны были закончить набирать пользователей 21 декабря, а последние регистрации есть 23 декабря. Стоит проверить - попали ли нужные нам пользователи в описанный интервал. Возможно, в наших тестовых группах нет пользователей, зарегестрированных 22 или 23 декабря и тогда - все ок. "
   ]
  },
  {
   "cell_type": "markdown",
   "metadata": {},
   "source": [
    "**Таблица действий новых пользователей**\n",
    "\n",
    "В период с 7 декабря 2020 по 4 января 2021 года."
   ]
  },
  {
   "cell_type": "code",
   "execution_count": 16,
   "metadata": {},
   "outputs": [
    {
     "data": {
      "text/html": [
       "<div>\n",
       "<style scoped>\n",
       "    .dataframe tbody tr th:only-of-type {\n",
       "        vertical-align: middle;\n",
       "    }\n",
       "\n",
       "    .dataframe tbody tr th {\n",
       "        vertical-align: top;\n",
       "    }\n",
       "\n",
       "    .dataframe thead th {\n",
       "        text-align: right;\n",
       "    }\n",
       "</style>\n",
       "<table border=\"1\" class=\"dataframe\">\n",
       "  <thead>\n",
       "    <tr style=\"text-align: right;\">\n",
       "      <th></th>\n",
       "      <th>user_id</th>\n",
       "      <th>event_dt</th>\n",
       "      <th>event_name</th>\n",
       "      <th>details</th>\n",
       "    </tr>\n",
       "  </thead>\n",
       "  <tbody>\n",
       "    <tr>\n",
       "      <th>0</th>\n",
       "      <td>E1BDDCE0DAFA2679</td>\n",
       "      <td>2020-12-07 20:22:03</td>\n",
       "      <td>purchase</td>\n",
       "      <td>99.99</td>\n",
       "    </tr>\n",
       "    <tr>\n",
       "      <th>1</th>\n",
       "      <td>7B6452F081F49504</td>\n",
       "      <td>2020-12-07 09:22:53</td>\n",
       "      <td>purchase</td>\n",
       "      <td>9.99</td>\n",
       "    </tr>\n",
       "    <tr>\n",
       "      <th>2</th>\n",
       "      <td>9CD9F34546DF254C</td>\n",
       "      <td>2020-12-07 12:59:29</td>\n",
       "      <td>purchase</td>\n",
       "      <td>4.99</td>\n",
       "    </tr>\n",
       "    <tr>\n",
       "      <th>3</th>\n",
       "      <td>96F27A054B191457</td>\n",
       "      <td>2020-12-07 04:02:40</td>\n",
       "      <td>purchase</td>\n",
       "      <td>4.99</td>\n",
       "    </tr>\n",
       "    <tr>\n",
       "      <th>4</th>\n",
       "      <td>1FD7660FDF94CA1F</td>\n",
       "      <td>2020-12-07 10:15:09</td>\n",
       "      <td>purchase</td>\n",
       "      <td>4.99</td>\n",
       "    </tr>\n",
       "  </tbody>\n",
       "</table>\n",
       "</div>"
      ],
      "text/plain": [
       "            user_id             event_dt event_name  details\n",
       "0  E1BDDCE0DAFA2679  2020-12-07 20:22:03   purchase    99.99\n",
       "1  7B6452F081F49504  2020-12-07 09:22:53   purchase     9.99\n",
       "2  9CD9F34546DF254C  2020-12-07 12:59:29   purchase     4.99\n",
       "3  96F27A054B191457  2020-12-07 04:02:40   purchase     4.99\n",
       "4  1FD7660FDF94CA1F  2020-12-07 10:15:09   purchase     4.99"
      ]
     },
     "execution_count": 16,
     "metadata": {},
     "output_type": "execute_result"
    }
   ],
   "source": [
    "df_user_events.head()"
   ]
  },
  {
   "cell_type": "code",
   "execution_count": 17,
   "metadata": {},
   "outputs": [
    {
     "name": "stdout",
     "output_type": "stream",
     "text": [
      "<class 'pandas.core.frame.DataFrame'>\n",
      "RangeIndex: 440317 entries, 0 to 440316\n",
      "Data columns (total 4 columns):\n",
      " #   Column      Non-Null Count   Dtype  \n",
      "---  ------      --------------   -----  \n",
      " 0   user_id     440317 non-null  object \n",
      " 1   event_dt    440317 non-null  object \n",
      " 2   event_name  440317 non-null  object \n",
      " 3   details     62740 non-null   float64\n",
      "dtypes: float64(1), object(3)\n",
      "memory usage: 13.4+ MB\n"
     ]
    }
   ],
   "source": [
    "df_user_events.info()"
   ]
  },
  {
   "cell_type": "markdown",
   "metadata": {},
   "source": [
    "Есть куча пропусков в столбце с деталями, но это не страшно. В описании к данным сказано, что там хранится дополнительное инфо (стоимость покупки) о событии purchase. Совсем необязательно, чтобы детали были к каждому событию. Интересно посмотреть - ко всем ли событям 'purchase' указана сумма покупки. "
   ]
  },
  {
   "cell_type": "markdown",
   "metadata": {},
   "source": [
    "Что сделать:\n",
    "- Дату в datetime\n",
    "- Дубликаты\n",
    "- Значения в категориальном столбце event_name\n",
    "- Диапозон дат\n",
    "- Пропуски в столбце details (по фильтру event_name == purchase)"
   ]
  },
  {
   "cell_type": "code",
   "execution_count": 18,
   "metadata": {},
   "outputs": [],
   "source": [
    "df_user_events['event_dt'] = pd.to_datetime(df_user_events['event_dt'], format='%Y-%m-%d %H:%M:%S')"
   ]
  },
  {
   "cell_type": "code",
   "execution_count": 19,
   "metadata": {},
   "outputs": [
    {
     "name": "stdout",
     "output_type": "stream",
     "text": [
      "Дубликатов в таблице: 0\n"
     ]
    }
   ],
   "source": [
    "print('Дубликатов в таблице:', df_user_events.duplicated().sum())"
   ]
  },
  {
   "cell_type": "code",
   "execution_count": 20,
   "metadata": {},
   "outputs": [
    {
     "data": {
      "text/plain": [
       "array(['purchase', 'product_cart', 'product_page', 'login'], dtype=object)"
      ]
     },
     "execution_count": 20,
     "metadata": {},
     "output_type": "execute_result"
    }
   ],
   "source": [
    "df_user_events['event_name'].unique()"
   ]
  },
  {
   "cell_type": "markdown",
   "metadata": {},
   "source": [
    "Лишних значений нет. Сразу видим всю воронку. "
   ]
  },
  {
   "cell_type": "code",
   "execution_count": 21,
   "metadata": {},
   "outputs": [
    {
     "data": {
      "text/plain": [
       "count                           440317\n",
       "mean     2020-12-18 16:33:30.344980992\n",
       "min                2020-12-07 00:00:33\n",
       "25%                2020-12-14 06:38:31\n",
       "50%                2020-12-19 02:14:36\n",
       "75%                2020-12-22 23:47:03\n",
       "max                2020-12-30 23:36:33\n",
       "Name: event_dt, dtype: object"
      ]
     },
     "execution_count": 21,
     "metadata": {},
     "output_type": "execute_result"
    }
   ],
   "source": [
    "df_user_events['event_dt'].describe(datetime_is_numeric=True)"
   ]
  },
  {
   "cell_type": "markdown",
   "metadata": {},
   "source": [
    "Данные о действиях пользователей попадают в необходимый диапозон (7 декабря - 4 января), но заканчиваются даже раньше. Последнее действие - 30 декабря. "
   ]
  },
  {
   "cell_type": "code",
   "execution_count": 22,
   "metadata": {},
   "outputs": [
    {
     "name": "stdout",
     "output_type": "stream",
     "text": [
      "<class 'pandas.core.frame.DataFrame'>\n",
      "Int64Index: 62740 entries, 0 to 62739\n",
      "Data columns (total 4 columns):\n",
      " #   Column      Non-Null Count  Dtype         \n",
      "---  ------      --------------  -----         \n",
      " 0   user_id     62740 non-null  object        \n",
      " 1   event_dt    62740 non-null  datetime64[ns]\n",
      " 2   event_name  62740 non-null  object        \n",
      " 3   details     62740 non-null  float64       \n",
      "dtypes: datetime64[ns](1), float64(1), object(2)\n",
      "memory usage: 2.4+ MB\n"
     ]
    }
   ],
   "source": [
    "df_user_events.query('event_name == \"purchase\"').info()"
   ]
  },
  {
   "cell_type": "markdown",
   "metadata": {},
   "source": [
    "Видим, что все значения в столбце details - это сумма покупки. Пропусков нет. Для каждого действия 'purchase' в деталях указана его стоимость. "
   ]
  },
  {
   "cell_type": "markdown",
   "metadata": {},
   "source": [
    "**Таблица участников теста**"
   ]
  },
  {
   "cell_type": "code",
   "execution_count": 23,
   "metadata": {},
   "outputs": [
    {
     "data": {
      "text/html": [
       "<div>\n",
       "<style scoped>\n",
       "    .dataframe tbody tr th:only-of-type {\n",
       "        vertical-align: middle;\n",
       "    }\n",
       "\n",
       "    .dataframe tbody tr th {\n",
       "        vertical-align: top;\n",
       "    }\n",
       "\n",
       "    .dataframe thead th {\n",
       "        text-align: right;\n",
       "    }\n",
       "</style>\n",
       "<table border=\"1\" class=\"dataframe\">\n",
       "  <thead>\n",
       "    <tr style=\"text-align: right;\">\n",
       "      <th></th>\n",
       "      <th>user_id</th>\n",
       "      <th>group</th>\n",
       "      <th>ab_test</th>\n",
       "    </tr>\n",
       "  </thead>\n",
       "  <tbody>\n",
       "    <tr>\n",
       "      <th>0</th>\n",
       "      <td>D1ABA3E2887B6A73</td>\n",
       "      <td>A</td>\n",
       "      <td>recommender_system_test</td>\n",
       "    </tr>\n",
       "    <tr>\n",
       "      <th>1</th>\n",
       "      <td>A7A3664BD6242119</td>\n",
       "      <td>A</td>\n",
       "      <td>recommender_system_test</td>\n",
       "    </tr>\n",
       "    <tr>\n",
       "      <th>2</th>\n",
       "      <td>DABC14FDDFADD29E</td>\n",
       "      <td>A</td>\n",
       "      <td>recommender_system_test</td>\n",
       "    </tr>\n",
       "    <tr>\n",
       "      <th>3</th>\n",
       "      <td>04988C5DF189632E</td>\n",
       "      <td>A</td>\n",
       "      <td>recommender_system_test</td>\n",
       "    </tr>\n",
       "    <tr>\n",
       "      <th>4</th>\n",
       "      <td>482F14783456D21B</td>\n",
       "      <td>B</td>\n",
       "      <td>recommender_system_test</td>\n",
       "    </tr>\n",
       "  </tbody>\n",
       "</table>\n",
       "</div>"
      ],
      "text/plain": [
       "            user_id group                  ab_test\n",
       "0  D1ABA3E2887B6A73     A  recommender_system_test\n",
       "1  A7A3664BD6242119     A  recommender_system_test\n",
       "2  DABC14FDDFADD29E     A  recommender_system_test\n",
       "3  04988C5DF189632E     A  recommender_system_test\n",
       "4  482F14783456D21B     B  recommender_system_test"
      ]
     },
     "execution_count": 23,
     "metadata": {},
     "output_type": "execute_result"
    }
   ],
   "source": [
    "df_test_participants.head()"
   ]
  },
  {
   "cell_type": "code",
   "execution_count": 24,
   "metadata": {},
   "outputs": [
    {
     "name": "stdout",
     "output_type": "stream",
     "text": [
      "<class 'pandas.core.frame.DataFrame'>\n",
      "RangeIndex: 18268 entries, 0 to 18267\n",
      "Data columns (total 3 columns):\n",
      " #   Column   Non-Null Count  Dtype \n",
      "---  ------   --------------  ----- \n",
      " 0   user_id  18268 non-null  object\n",
      " 1   group    18268 non-null  object\n",
      " 2   ab_test  18268 non-null  object\n",
      "dtypes: object(3)\n",
      "memory usage: 428.3+ KB\n"
     ]
    }
   ],
   "source": [
    "df_test_participants.info()"
   ]
  },
  {
   "cell_type": "markdown",
   "metadata": {},
   "source": [
    "Что сделать:\n",
    "- дубликаты\n",
    "- значения в категориальных столбцах"
   ]
  },
  {
   "cell_type": "code",
   "execution_count": 25,
   "metadata": {},
   "outputs": [
    {
     "data": {
      "text/plain": [
       "array(['A', 'B'], dtype=object)"
      ]
     },
     "execution_count": 25,
     "metadata": {},
     "output_type": "execute_result"
    }
   ],
   "source": [
    "df_test_participants['group'].unique()"
   ]
  },
  {
   "cell_type": "code",
   "execution_count": 26,
   "metadata": {},
   "outputs": [
    {
     "data": {
      "text/plain": [
       "array(['recommender_system_test', 'interface_eu_test'], dtype=object)"
      ]
     },
     "execution_count": 26,
     "metadata": {},
     "output_type": "execute_result"
    }
   ],
   "source": [
    "df_test_participants['ab_test'].unique()"
   ]
  },
  {
   "cell_type": "markdown",
   "metadata": {},
   "source": [
    "О, у нас данные по двум тестам. "
   ]
  },
  {
   "cell_type": "code",
   "execution_count": 27,
   "metadata": {},
   "outputs": [
    {
     "name": "stdout",
     "output_type": "stream",
     "text": [
      "Дубликатов в таблице: 0\n"
     ]
    }
   ],
   "source": [
    "print('Дубликатов в таблице:', df_test_participants.duplicated().sum())"
   ]
  },
  {
   "cell_type": "markdown",
   "metadata": {},
   "source": [
    "А вдруг один и тот же пользователь оказался в двух группах одного теста. Посмотрим. "
   ]
  },
  {
   "cell_type": "code",
   "execution_count": 28,
   "metadata": {},
   "outputs": [
    {
     "data": {
      "text/plain": [
       "0"
      ]
     },
     "execution_count": 28,
     "metadata": {},
     "output_type": "execute_result"
    }
   ],
   "source": [
    "df_test_participants.duplicated(subset=['user_id', 'ab_test']).sum()"
   ]
  },
  {
   "cell_type": "markdown",
   "metadata": {},
   "source": [
    "А что, если пользователь оказался сразу в двух тестах?"
   ]
  },
  {
   "cell_type": "code",
   "execution_count": 29,
   "metadata": {},
   "outputs": [
    {
     "data": {
      "text/plain": [
       "1602"
      ]
     },
     "execution_count": 29,
     "metadata": {},
     "output_type": "execute_result"
    }
   ],
   "source": [
    "df_test_participants.duplicated(subset=['user_id']).sum()"
   ]
  },
  {
   "cell_type": "markdown",
   "metadata": {},
   "source": [
    "Интересно. Вернемся к этому ниже во время оценки корректности проведения теста. "
   ]
  },
  {
   "cell_type": "markdown",
   "metadata": {},
   "source": [
    "**С данными познакомились, предобработали, приступаем к анализу**"
   ]
  },
  {
   "cell_type": "markdown",
   "metadata": {},
   "source": [
    "## 2. Оценка корректности проведения теста: recommender_system_test "
   ]
  },
  {
   "cell_type": "markdown",
   "metadata": {},
   "source": [
    "**Время проведения теста**\n",
    "\n",
    "Тест проходил с 7 декабря 2020 года по 4 января 2021 года. Проверим, не проходило ли в этот момент каких-то маркетинговых активностей в нашем регионе."
   ]
  },
  {
   "cell_type": "code",
   "execution_count": 30,
   "metadata": {},
   "outputs": [
    {
     "data": {
      "text/html": [
       "<div>\n",
       "<style scoped>\n",
       "    .dataframe tbody tr th:only-of-type {\n",
       "        vertical-align: middle;\n",
       "    }\n",
       "\n",
       "    .dataframe tbody tr th {\n",
       "        vertical-align: top;\n",
       "    }\n",
       "\n",
       "    .dataframe thead th {\n",
       "        text-align: right;\n",
       "    }\n",
       "</style>\n",
       "<table border=\"1\" class=\"dataframe\">\n",
       "  <thead>\n",
       "    <tr style=\"text-align: right;\">\n",
       "      <th></th>\n",
       "      <th>name</th>\n",
       "      <th>regions</th>\n",
       "      <th>start_dt</th>\n",
       "      <th>finish_dt</th>\n",
       "    </tr>\n",
       "  </thead>\n",
       "  <tbody>\n",
       "    <tr>\n",
       "      <th>0</th>\n",
       "      <td>Christmas&amp;New Year Promo</td>\n",
       "      <td>EU, N.America</td>\n",
       "      <td>2020-12-25</td>\n",
       "      <td>2020-12-25</td>\n",
       "    </tr>\n",
       "    <tr>\n",
       "      <th>10</th>\n",
       "      <td>CIS New Year Gift Lottery</td>\n",
       "      <td>CIS</td>\n",
       "      <td>2020-12-30</td>\n",
       "      <td>2020-12-30</td>\n",
       "    </tr>\n",
       "  </tbody>\n",
       "</table>\n",
       "</div>"
      ],
      "text/plain": [
       "                         name        regions   start_dt  finish_dt\n",
       "0    Christmas&New Year Promo  EU, N.America 2020-12-25 2020-12-25\n",
       "10  CIS New Year Gift Lottery            CIS 2020-12-30 2020-12-30"
      ]
     },
     "execution_count": 30,
     "metadata": {},
     "output_type": "execute_result"
    }
   ],
   "source": [
    "df_marketing_events.query('start_dt > \"2020-12-07\" | finish_dt > \"2020-12-07\"')"
   ]
  },
  {
   "cell_type": "markdown",
   "metadata": {},
   "source": [
    "Да, в нашем регионе (EU) 25 декабря было запущено рождественское промо. Это могло отразиться на действиях пользователей, а следовательно - исказить результаты теста."
   ]
  },
  {
   "cell_type": "markdown",
   "metadata": {},
   "source": [
    "**Пересечения пользователей**\n",
    "\n",
    "Выше мы уже выяснили, что 1602 участника попали сразу в два теста. "
   ]
  },
  {
   "cell_type": "code",
   "execution_count": 31,
   "metadata": {},
   "outputs": [
    {
     "data": {
      "text/plain": [
       "recommender_system_test    1602\n",
       "interface_eu_test          1602\n",
       "Name: ab_test, dtype: int64"
      ]
     },
     "execution_count": 31,
     "metadata": {},
     "output_type": "execute_result"
    }
   ],
   "source": [
    "df_test_participants[df_test_participants.duplicated(subset=['user_id'], keep=False) == True]['ab_test'].value_counts()"
   ]
  },
  {
   "cell_type": "markdown",
   "metadata": {},
   "source": [
    "Да, так и есть, видим что 1602 айдишника встречается сразу в двух группах. \n",
    "Быть так конечно же, не должно, ведь результаты по ним теперь могут быть искажены влияением другого теста."
   ]
  },
  {
   "cell_type": "markdown",
   "metadata": {},
   "source": [
    "**Распределение по тестовым группам**"
   ]
  },
  {
   "cell_type": "code",
   "execution_count": 32,
   "metadata": {},
   "outputs": [
    {
     "data": {
      "text/plain": [
       "A    3824\n",
       "B    2877\n",
       "Name: group, dtype: int64"
      ]
     },
     "execution_count": 32,
     "metadata": {},
     "output_type": "execute_result"
    }
   ],
   "source": [
    "df_test_participants.query('ab_test == \"recommender_system_test\"')['group'].value_counts()"
   ]
  },
  {
   "cell_type": "markdown",
   "metadata": {},
   "source": [
    "Очень неравномерное разделение на группы: они отличаются чуть ли не на 1000 человек."
   ]
  },
  {
   "cell_type": "markdown",
   "metadata": {},
   "source": [
    "**Регионы пользователей**\n",
    "\n",
    "В техническом задании было сказано, что мы проводим тест на пользователях региона EU. Проверим - все ли пользователи нашей тестовой группы из этого региона. Объединим таблицу с участниками и таблицу регистраций и посмотрим значения столбца region. "
   ]
  },
  {
   "cell_type": "code",
   "execution_count": 33,
   "metadata": {},
   "outputs": [
    {
     "data": {
      "text/plain": [
       "EU           6351\n",
       "N.America     223\n",
       "APAC           72\n",
       "CIS            55\n",
       "Name: region, dtype: int64"
      ]
     },
     "execution_count": 33,
     "metadata": {},
     "output_type": "execute_result"
    }
   ],
   "source": [
    "df_all_new_users.merge(df_test_participants.query('ab_test == \"recommender_system_test\"'), how='right', on='user_id')['region'].value_counts()"
   ]
  },
  {
   "cell_type": "markdown",
   "metadata": {},
   "source": [
    "Оказывается, что еще и не все пользователи в нашем тесте имеют сооветствующий регион. Хотя, справедливости ради, ожидаемые 6000 человек из нужного региона у нас все таки есть. "
   ]
  },
  {
   "cell_type": "markdown",
   "metadata": {},
   "source": [
    "**15% новых пользователей из региона EU**\n",
    "\n",
    "Нам необходимо было набрать 15% от всех новых пользователей региона EU. Так и есть?"
   ]
  },
  {
   "cell_type": "code",
   "execution_count": 34,
   "metadata": {},
   "outputs": [
    {
     "data": {
      "text/plain": [
       "0.15"
      ]
     },
     "execution_count": 34,
     "metadata": {},
     "output_type": "execute_result"
    }
   ],
   "source": [
    "df_all_new_users.merge(df_test_participants.query('ab_test == \"recommender_system_test\"'), how='right', on='user_id').query('region == \"EU\" & first_date < \"2020-12-22\"').shape[0] / df_all_new_users.query('region == \"EU\" & first_date < \"2020-12-22\"').shape[0]"
   ]
  },
  {
   "cell_type": "markdown",
   "metadata": {},
   "source": [
    "Здесь все выполняется"
   ]
  },
  {
   "cell_type": "markdown",
   "metadata": {},
   "source": [
    "**Корректность проведения теста вызывает вопросы:**\n",
    "- В период проведения проходило маркетинговое промо\n",
    "- Наша тестовая группа пересекалась с группой другого теста\n",
    "- Пользователи крайне неравномерно распределились между контрольной и целевой группой\n",
    "- В тест попали пользователи не того региона\n",
    "\n",
    "Анализировать этот тест практически не имеет смысла, ведь имеющиеся данные имеют очень плохое качество. Результаты, которые мы получим, вряд ли что-то расскажут нам о реальном положении дел. Давайте посмотрим другой тест на предмет корректности и выполнения наших условий."
   ]
  },
  {
   "cell_type": "markdown",
   "metadata": {},
   "source": [
    "## 3. Оценка корректности проведения теста: interface_eu_test "
   ]
  },
  {
   "cell_type": "markdown",
   "metadata": {},
   "source": [
    "**Распределение по тестовым группам**"
   ]
  },
  {
   "cell_type": "code",
   "execution_count": 35,
   "metadata": {},
   "outputs": [
    {
     "data": {
      "text/plain": [
       "A    5831\n",
       "B    5736\n",
       "Name: group, dtype: int64"
      ]
     },
     "execution_count": 35,
     "metadata": {},
     "output_type": "execute_result"
    }
   ],
   "source": [
    "df_test_participants.query('ab_test == \"interface_eu_test\"')['group'].value_counts()"
   ]
  },
  {
   "cell_type": "markdown",
   "metadata": {},
   "source": [
    "Гораздо более равномерно. Кроме того, в этом тесте в каждой группе почти по 6000 пользователей. "
   ]
  },
  {
   "cell_type": "markdown",
   "metadata": {},
   "source": [
    "**15% новых пользователей из региона EU**\n",
    "\n",
    "Нам необходимо было набрать 15% от всех новых пользователей региона EU. Так и есть?"
   ]
  },
  {
   "cell_type": "code",
   "execution_count": 36,
   "metadata": {},
   "outputs": [
    {
     "data": {
      "text/plain": [
       "0.24998919386211368"
      ]
     },
     "execution_count": 36,
     "metadata": {},
     "output_type": "execute_result"
    }
   ],
   "source": [
    "df_all_new_users.merge(df_test_participants.query('ab_test == \"interface_eu_test\"'), how='right', on='user_id').query('region == \"EU\"').shape[0] / df_all_new_users.query('region == \"EU\"').shape[0]"
   ]
  },
  {
   "cell_type": "markdown",
   "metadata": {},
   "source": [
    "В этом тесте даже больше - 25%"
   ]
  },
  {
   "cell_type": "markdown",
   "metadata": {},
   "source": [
    "**Регионы пользователей**"
   ]
  },
  {
   "cell_type": "code",
   "execution_count": 37,
   "metadata": {},
   "outputs": [
    {
     "data": {
      "text/plain": [
       "EU    11567\n",
       "Name: region, dtype: int64"
      ]
     },
     "execution_count": 37,
     "metadata": {},
     "output_type": "execute_result"
    }
   ],
   "source": [
    "df_all_new_users.merge(df_test_participants.query('ab_test == \"interface_eu_test\"'), how='right', on='user_id')['region'].value_counts()"
   ]
  },
  {
   "cell_type": "markdown",
   "metadata": {},
   "source": [
    "Перфекто - все пользователи из нужные нам регионов. "
   ]
  },
  {
   "cell_type": "markdown",
   "metadata": {},
   "source": [
    "**Пересечения пользователей**\n",
    "\n",
    "Мы уже видели, что они есть. Это может влиять на результаты. Что, если мы попробуем их убрать? Сильно ли изменится распределение по группам?"
   ]
  },
  {
   "cell_type": "code",
   "execution_count": 38,
   "metadata": {},
   "outputs": [],
   "source": [
    "duplicated_users = df_test_participants[df_test_participants.duplicated(subset=['user_id']) == True]['user_id']"
   ]
  },
  {
   "cell_type": "code",
   "execution_count": 39,
   "metadata": {},
   "outputs": [
    {
     "data": {
      "text/plain": [
       "A    5012\n",
       "B    4953\n",
       "Name: group, dtype: int64"
      ]
     },
     "execution_count": 39,
     "metadata": {},
     "output_type": "execute_result"
    }
   ],
   "source": [
    "df_test_participants.query('user_id not in @duplicated_users & ab_test == \"interface_eu_test\"')['group'].value_counts()"
   ]
  },
  {
   "cell_type": "markdown",
   "metadata": {},
   "source": [
    "Количество пользователей уменьшилось, но пропоции сохранились. "
   ]
  },
  {
   "cell_type": "markdown",
   "metadata": {},
   "source": [
    "**Вывод**\n",
    "\n",
    "Данные для анализа теста \"recommender_system_test\" имеют значительные искажения и оценить их бесполезно. В то же время тест под названием \"interface_eu_test\" удовлетворяет нашим условиям. Предлагаю удалить пересекающихся пользователей и продолжить анализ именно по этому тесту."
   ]
  },
  {
   "cell_type": "code",
   "execution_count": 40,
   "metadata": {},
   "outputs": [],
   "source": [
    "correct_recommender_system_test_participants = df_test_participants.query('user_id not in @duplicated_users & ab_test == \"interface_eu_test\"')"
   ]
  },
  {
   "cell_type": "markdown",
   "metadata": {},
   "source": [
    "## 4. Исследовательский анализ данных"
   ]
  },
  {
   "cell_type": "markdown",
   "metadata": {},
   "source": [
    "**Итоговая таблица**\n",
    "\n",
    "Соберем все необходимые для анализа в один фрейм:\n",
    "- объединим данные о нужных нам пользователях; \n",
    "- отфильтруем действия (по каждому пользователю нам нужны действие только за первые 14 дней с момента регистрации; будем считать, что день регистрации входит в эти 14 дней)"
   ]
  },
  {
   "cell_type": "code",
   "execution_count": 41,
   "metadata": {},
   "outputs": [],
   "source": [
    "#соберем все данные\n",
    "total_df = correct_recommender_system_test_participants \\\n",
    "    .merge(df_all_new_users, on='user_id', how='left') \\\n",
    "    .merge(df_user_events, on='user_id', how='left') \\\n",
    "    .drop(['ab_test', 'region', 'device'], axis=1)"
   ]
  },
  {
   "cell_type": "code",
   "execution_count": 42,
   "metadata": {},
   "outputs": [],
   "source": [
    "#вынесем дату каждого действия в отдельный столбец\n",
    "total_df['event_date'] = total_df['event_dt'].dt.date\n",
    "#для каждого действия (а на самом деле пользователя) найдем последнюю дату, в которую его действия учитываются условиям теста\n",
    "total_df['last_date'] = total_df['first_date'] + timedelta(days=13)"
   ]
  },
  {
   "cell_type": "code",
   "execution_count": 43,
   "metadata": {},
   "outputs": [],
   "source": [
    "#возьмем в итоговый фрейм только те действия, что попадают в ограничение по дате\n",
    "total_df = total_df.query('event_dt <= last_date')"
   ]
  },
  {
   "cell_type": "code",
   "execution_count": 44,
   "metadata": {},
   "outputs": [
    {
     "name": "stdout",
     "output_type": "stream",
     "text": [
      "<class 'pandas.core.frame.DataFrame'>\n",
      "Int64Index: 71561 entries, 0 to 76034\n",
      "Data columns (total 8 columns):\n",
      " #   Column      Non-Null Count  Dtype         \n",
      "---  ------      --------------  -----         \n",
      " 0   user_id     71561 non-null  object        \n",
      " 1   group       71561 non-null  object        \n",
      " 2   first_date  71561 non-null  datetime64[ns]\n",
      " 3   event_dt    71561 non-null  datetime64[ns]\n",
      " 4   event_name  71561 non-null  object        \n",
      " 5   details     10554 non-null  float64       \n",
      " 6   event_date  71561 non-null  object        \n",
      " 7   last_date   71561 non-null  datetime64[ns]\n",
      "dtypes: datetime64[ns](3), float64(1), object(4)\n",
      "memory usage: 4.9+ MB\n"
     ]
    }
   ],
   "source": [
    "total_df.info()"
   ]
  },
  {
   "cell_type": "markdown",
   "metadata": {},
   "source": [
    "Все ок. Пропусков нет, кроме столбца detail. А пропуски там, как мы помним - не беда. "
   ]
  },
  {
   "cell_type": "markdown",
   "metadata": {},
   "source": [
    "**Как меняется конверсия в воронке на разных этапах?**"
   ]
  },
  {
   "cell_type": "code",
   "execution_count": 45,
   "metadata": {},
   "outputs": [],
   "source": [
    "total_funnel = total_df.groupby(['group', 'event_name'], as_index=False) \\\n",
    "    .agg({'user_id':'nunique'}) \\\n",
    "    .rename(columns={'user_id':'users_count'}) \\\n",
    "    .reindex([0, 2, 1, 3, 4, 6, 5, 7]) \n",
    "    #меняем строчки местами, потому что сортировка по юзерам ломает порядок воронки\n",
    "    #на последнем этапе пользователей получается больше, чем на предпоследнем"
   ]
  },
  {
   "cell_type": "code",
   "execution_count": 46,
   "metadata": {},
   "outputs": [
    {
     "data": {
      "text/html": [
       "<div>\n",
       "<style scoped>\n",
       "    .dataframe tbody tr th:only-of-type {\n",
       "        vertical-align: middle;\n",
       "    }\n",
       "\n",
       "    .dataframe tbody tr th {\n",
       "        vertical-align: top;\n",
       "    }\n",
       "\n",
       "    .dataframe thead th {\n",
       "        text-align: right;\n",
       "    }\n",
       "</style>\n",
       "<table border=\"1\" class=\"dataframe\">\n",
       "  <thead>\n",
       "    <tr style=\"text-align: right;\">\n",
       "      <th></th>\n",
       "      <th>group</th>\n",
       "      <th>event_name</th>\n",
       "      <th>users_count</th>\n",
       "    </tr>\n",
       "  </thead>\n",
       "  <tbody>\n",
       "    <tr>\n",
       "      <th>0</th>\n",
       "      <td>A</td>\n",
       "      <td>login</td>\n",
       "      <td>5009</td>\n",
       "    </tr>\n",
       "    <tr>\n",
       "      <th>2</th>\n",
       "      <td>A</td>\n",
       "      <td>product_page</td>\n",
       "      <td>3365</td>\n",
       "    </tr>\n",
       "    <tr>\n",
       "      <th>1</th>\n",
       "      <td>A</td>\n",
       "      <td>product_cart</td>\n",
       "      <td>1629</td>\n",
       "    </tr>\n",
       "    <tr>\n",
       "      <th>3</th>\n",
       "      <td>A</td>\n",
       "      <td>purchase</td>\n",
       "      <td>1782</td>\n",
       "    </tr>\n",
       "    <tr>\n",
       "      <th>4</th>\n",
       "      <td>B</td>\n",
       "      <td>login</td>\n",
       "      <td>4951</td>\n",
       "    </tr>\n",
       "    <tr>\n",
       "      <th>6</th>\n",
       "      <td>B</td>\n",
       "      <td>product_page</td>\n",
       "      <td>3253</td>\n",
       "    </tr>\n",
       "    <tr>\n",
       "      <th>5</th>\n",
       "      <td>B</td>\n",
       "      <td>product_cart</td>\n",
       "      <td>1686</td>\n",
       "    </tr>\n",
       "    <tr>\n",
       "      <th>7</th>\n",
       "      <td>B</td>\n",
       "      <td>purchase</td>\n",
       "      <td>1653</td>\n",
       "    </tr>\n",
       "  </tbody>\n",
       "</table>\n",
       "</div>"
      ],
      "text/plain": [
       "  group    event_name  users_count\n",
       "0     A         login         5009\n",
       "2     A  product_page         3365\n",
       "1     A  product_cart         1629\n",
       "3     A      purchase         1782\n",
       "4     B         login         4951\n",
       "6     B  product_page         3253\n",
       "5     B  product_cart         1686\n",
       "7     B      purchase         1653"
      ]
     },
     "execution_count": 46,
     "metadata": {},
     "output_type": "execute_result"
    }
   ],
   "source": [
    "total_funnel"
   ]
  },
  {
   "cell_type": "code",
   "execution_count": 47,
   "metadata": {},
   "outputs": [
    {
     "data": {
      "text/html": [
       "<div>\n",
       "<style scoped>\n",
       "    .dataframe tbody tr th:only-of-type {\n",
       "        vertical-align: middle;\n",
       "    }\n",
       "\n",
       "    .dataframe tbody tr th {\n",
       "        vertical-align: top;\n",
       "    }\n",
       "\n",
       "    .dataframe thead th {\n",
       "        text-align: right;\n",
       "    }\n",
       "</style>\n",
       "<table border=\"1\" class=\"dataframe\">\n",
       "  <thead>\n",
       "    <tr style=\"text-align: right;\">\n",
       "      <th></th>\n",
       "      <th>group</th>\n",
       "      <th>user_id</th>\n",
       "    </tr>\n",
       "  </thead>\n",
       "  <tbody>\n",
       "    <tr>\n",
       "      <th>0</th>\n",
       "      <td>A</td>\n",
       "      <td>5010</td>\n",
       "    </tr>\n",
       "    <tr>\n",
       "      <th>1</th>\n",
       "      <td>B</td>\n",
       "      <td>4951</td>\n",
       "    </tr>\n",
       "  </tbody>\n",
       "</table>\n",
       "</div>"
      ],
      "text/plain": [
       "  group  user_id\n",
       "0     A     5010\n",
       "1     B     4951"
      ]
     },
     "execution_count": 47,
     "metadata": {},
     "output_type": "execute_result"
    }
   ],
   "source": [
    "total_df.groupby(['group'], as_index=False) \\\n",
    "    .agg({'user_id':'nunique'})"
   ]
  },
  {
   "cell_type": "markdown",
   "metadata": {},
   "source": [
    "Разницы между залогинившимися пользователями и общим количеством пользователей практически нет. Предлагаю для удобства считать, что количество залогинившихся пользователей - и есть размер группы. "
   ]
  },
  {
   "cell_type": "code",
   "execution_count": 48,
   "metadata": {},
   "outputs": [
    {
     "data": {
      "image/png": "[encoded data removed]"
     },
     "metadata": {},
     "output_type": "display_data"
    }
   ],
   "source": [
    "fig = go.Figure()\n",
    "\n",
    "fig.add_trace(go.Funnel(\n",
    "    name = 'Группа А',\n",
    "    y = total_funnel.query('group == \"A\"')['event_name'],\n",
    "    x = total_funnel.query('group == \"A\"')['users_count'],\n",
    "    textinfo = \"value+percent initial\"))\n",
    "\n",
    "fig.add_trace(go.Funnel(\n",
    "    name = 'Группа B',\n",
    "    y = total_funnel.query('group == \"B\"')['event_name'],\n",
    "    x = total_funnel.query('group == \"B\"')['users_count'],\n",
    "    textinfo = \"value+percent initial\"))\n",
    "\n",
    "fig.update_layout(\n",
    "    title=\"Воронка пользователей по группам\",\n",
    "    template='plotly_dark',\n",
    "    width=800, \n",
    "    height=500,\n",
    ")\n",
    "\n",
    "fig.show()"
   ]
  },
  {
   "cell_type": "markdown",
   "metadata": {},
   "source": [
    "- Треть пользователей отваливаются при переходе к просмотру карточки товара\n",
    "- Только половина от посмотревших карточку товара, переходит в корзину\n",
    "- Интереснее последний переход: в группе А количество оплативших товар пользователей больше, чем количество пользователей, посмотревших корзину\n",
    "- Судя по всему - оплатить товар можно, не заходя в корзину\n",
    "- В целом, между предпоследним и последним этапом конверсия практически стопроцентная\n",
    "- Предварительно - по этому графику, мы не видим улучшений по конверсии"
   ]
  },
  {
   "cell_type": "markdown",
   "metadata": {},
   "source": [
    "**Распределение количества событий на пользователя в разных группах**"
   ]
  },
  {
   "cell_type": "code",
   "execution_count": 49,
   "metadata": {},
   "outputs": [],
   "source": [
    "events_per_user = total_df.groupby('user_id', as_index=False) \\\n",
    "    .agg({'event_name':'count', 'group':'max'})\\\n",
    "    .rename(columns={'event_name':'events_count'})"
   ]
  },
  {
   "cell_type": "code",
   "execution_count": 50,
   "metadata": {},
   "outputs": [
    {
     "data": {
      "image/png": "[encoded data removed]",
      "text/plain": [
       "<Figure size 864x432 with 1 Axes>"
      ]
     },
     "metadata": {
      "needs_background": "light"
     },
     "output_type": "display_data"
    }
   ],
   "source": [
    "plt.figure(figsize=(12,6))\n",
    "sns.histplot(events_per_user, x='events_count', hue='group', discrete=True)\n",
    "plt.title(\"Распределение количества событий на пользователя\")\n",
    "plt.xlabel('Кол-во событий')\n",
    "plt.ylabel('Кол-во повторений')\n",
    "pass"
   ]
  },
  {
   "cell_type": "markdown",
   "metadata": {},
   "source": [
    "Видим, что количества событий на пользователя в двух группах распредлены примерно одинаково. Где-то чуть выше группа B, где-то А, но в целом, характерных отличий нет. Выбросов нет, распределение расположено вполне компактно. Посмотрим еще дополнительные показатели."
   ]
  },
  {
   "cell_type": "code",
   "execution_count": 51,
   "metadata": {},
   "outputs": [
    {
     "name": "stdout",
     "output_type": "stream",
     "text": [
      "Всего событий в логе: 71561\n",
      "Событий на одного пользователя в среднем: 7.2\n"
     ]
    }
   ],
   "source": [
    "print('Всего событий в логе:', total_df['event_name'].count())\n",
    "print('Событий на одного пользователя в среднем: {:.1f}'.format(events_per_user['events_count'].mean()))"
   ]
  },
  {
   "cell_type": "code",
   "execution_count": 52,
   "metadata": {},
   "outputs": [
    {
     "name": "stdout",
     "output_type": "stream",
     "text": [
      "Событий на одного пользователя в среднем (гр.А): 7.2\n",
      "Событий на одного пользователя в среднем (гр.B): 7.1\n"
     ]
    }
   ],
   "source": [
    "print('Событий на одного пользователя в среднем (гр.А): {:.1f}'.format(events_per_user.query('group == \"A\"')['events_count'].mean()))\n",
    "print('Событий на одного пользователя в среднем (гр.B): {:.1f}'.format(events_per_user.query('group == \"B\"')['events_count'].mean()))"
   ]
  },
  {
   "cell_type": "markdown",
   "metadata": {},
   "source": [
    "Средние значения практически идентичны"
   ]
  },
  {
   "cell_type": "markdown",
   "metadata": {},
   "source": [
    "**В выборках встречаются одни и те же пользователи?**"
   ]
  },
  {
   "cell_type": "markdown",
   "metadata": {},
   "source": [
    "Мы уже проверяли это ранее - на этапе предобработки, но на всякий случай посмотрим еще раз. "
   ]
  },
  {
   "cell_type": "code",
   "execution_count": 53,
   "metadata": {},
   "outputs": [
    {
     "name": "stdout",
     "output_type": "stream",
     "text": [
      "Дублирующихся пользователей в группах: 0\n"
     ]
    }
   ],
   "source": [
    "print('Дублирующихся пользователей в группах:', events_per_user.duplicated(subset='user_id').sum())"
   ]
  },
  {
   "cell_type": "markdown",
   "metadata": {},
   "source": [
    "**Распределение числа событий по дням**"
   ]
  },
  {
   "cell_type": "code",
   "execution_count": 54,
   "metadata": {},
   "outputs": [],
   "source": [
    "total_df['event_date'] = total_df['event_dt'].dt.date"
   ]
  },
  {
   "cell_type": "code",
   "execution_count": 55,
   "metadata": {},
   "outputs": [],
   "source": [
    "events_per_date = total_df.groupby(['event_date', 'group'], as_index=False) \\\n",
    "    .agg({'event_name':'count'}) \\\n",
    "    .rename(columns={'event_name':'events_count'})"
   ]
  },
  {
   "cell_type": "code",
   "execution_count": 56,
   "metadata": {},
   "outputs": [
    {
     "data": {
      "image/png": "[encoded data removed]"
     },
     "metadata": {},
     "output_type": "display_data"
    }
   ],
   "source": [
    "px.line(events_per_date, \n",
    "        x='event_date', \n",
    "        y='events_count', \n",
    "        color='group',\n",
    "        title=\"Количество событий по дням\",\n",
    "        template='plotly_dark',\n",
    "        labels={'event_date':'Дата', 'events_count':'Кол-во событий', 'group':'Группа'},\n",
    "        width=900, \n",
    "        height=450)"
   ]
  },
  {
   "cell_type": "markdown",
   "metadata": {},
   "source": [
    "- Видим, что форма графиков двух группа примерно одинаковая.\n",
    "- Есть два пика (14 и 21 декабря) - это ровно неделя и две недели с начала теста. Предполагаю, что в эти дни больше всего именно событий login, то есть пользователей набирали. \n",
    "- Между двумя пиками группа А по событиям превосходит группа B\n",
    "- Не смотря на то, что тест длился до 4 января, события в нашем датасэте заканчиваются 30 декабря. \n",
    "- 25 января в нашем регионе проходила маркетинговая акция \"Рождественское промо\": её влияния (что хорошо) на графике не видно"
   ]
  },
  {
   "cell_type": "markdown",
   "metadata": {},
   "source": [
    "**Дополнительно: посмотрим на среднюю сумму покупки по группам**"
   ]
  },
  {
   "cell_type": "code",
   "execution_count": 57,
   "metadata": {},
   "outputs": [],
   "source": [
    "purchases = total_df.query('event_name == \"purchase\"')"
   ]
  },
  {
   "cell_type": "code",
   "execution_count": 58,
   "metadata": {},
   "outputs": [
    {
     "data": {
      "image/png": "[encoded data removed]",
      "text/plain": [
       "<Figure size 432x288 with 1 Axes>"
      ]
     },
     "metadata": {
      "needs_background": "light"
     },
     "output_type": "display_data"
    }
   ],
   "source": [
    "sns.boxplot(data=purchases, x='details')\n",
    "plt.xlabel('Сумма покупки')\n",
    "plt.title(\"Распределение суммы покупки\")\n",
    "pass"
   ]
  },
  {
   "cell_type": "markdown",
   "metadata": {},
   "source": [
    "Есть два выброса, уберем их и посмотрим гистограмму распределения. "
   ]
  },
  {
   "cell_type": "code",
   "execution_count": 59,
   "metadata": {},
   "outputs": [],
   "source": [
    "purchases = purchases.query('details < 90')"
   ]
  },
  {
   "cell_type": "code",
   "execution_count": 60,
   "metadata": {},
   "outputs": [
    {
     "data": {
      "image/png": "[encoded data removed]",
      "text/plain": [
       "<Figure size 576x360 with 1 Axes>"
      ]
     },
     "metadata": {
      "needs_background": "light"
     },
     "output_type": "display_data"
    }
   ],
   "source": [
    "plt.figure(figsize=(8,5))\n",
    "sns.histplot(purchases, x='details', hue='group')\n",
    "plt.title(\"Распределение суммы покупки\")\n",
    "plt.xlabel('Сумма')\n",
    "plt.ylabel('Кол-во повторений')\n",
    "pass"
   ]
  },
  {
   "cell_type": "markdown",
   "metadata": {},
   "source": [
    "Видим, что суммы всего 2 (если вспомнить выбросы, то 4). Судя по всему, там 4.99 и 9.99. Вряд ли это подписки, потому что у нас есть карточки товаров и корзины. Значит, просто стоимость у товаров такая фиксированная. \n",
    "\n",
    "В итоге, средние можем даже не смотреть. Уже по гистограмме видим, что пользователи группы А тратят больше."
   ]
  },
  {
   "cell_type": "markdown",
   "metadata": {},
   "source": [
    "## 5. Оценка результатов A/B-теста"
   ]
  },
  {
   "cell_type": "markdown",
   "metadata": {},
   "source": [
    "Проделаем несколько вспомогательных операций и напишем несколько функций, чтобы результаты вывелись в одной итоговой табличке"
   ]
  },
  {
   "cell_type": "code",
   "execution_count": 61,
   "metadata": {},
   "outputs": [],
   "source": [
    "#приведем в порядок индексы\n",
    "total_funnel.reset_index(drop=True, inplace=True)"
   ]
  },
  {
   "cell_type": "code",
   "execution_count": 62,
   "metadata": {},
   "outputs": [],
   "source": [
    "#вспомогательная функция, которая возвращает количество пользователей на указанном этапе воронки в выбранной группе\n",
    "def users_count(group, step):\n",
    "    users_count = 0\n",
    "    users_count = total_funnel.query('group == @group & event_name == @step')['users_count'].sum()\n",
    "    return users_count"
   ]
  },
  {
   "cell_type": "code",
   "execution_count": 63,
   "metadata": {},
   "outputs": [],
   "source": [
    "#функция, которая считает две конверсии в разных группах и результат z-теста\n",
    "#итог возвращается в виде строчки, которая затем передается в финальную функцию\n",
    "def conversion_comparison(prev_step, next_step):\n",
    "    prev_step_users = [users_count(\"A\", prev_step), users_count(\"B\", prev_step)]\n",
    "    next_step_users = [users_count(\"A\", next_step), users_count(\"B\", next_step)]\n",
    "    \n",
    "    conversionA = (next_step_users[0] / prev_step_users[0]).round(2)\n",
    "    conversionB = (next_step_users[1] / prev_step_users[1]).round(2)\n",
    "    p_value = proportions_ztest(next_step_users, prev_step_users, alternative='two-sided')[1].round(5)\n",
    "    test_name = 'Конверсия из ' + prev_step + ' в ' + next_step\n",
    "    results = [test_name, conversionA, conversionB, p_value]\n",
    "    \n",
    "    return results"
   ]
  },
  {
   "cell_type": "code",
   "execution_count": 64,
   "metadata": {},
   "outputs": [],
   "source": [
    "#итоговая функция, которая выводит табличку с результатами сравнения между двумя группами по всем этапам конверсии\n",
    "def group_comparison():\n",
    "    results = []\n",
    "    \n",
    "    for event in total_funnel['event_name'].unique():\n",
    "        results.append(conversion_comparison('login', event))\n",
    "        \n",
    "    columns_names = ['Этап', 'Конверсия А', 'Конверсия B', 'p-value']\n",
    "\n",
    "    return pd.DataFrame(data=results, columns=columns_names)"
   ]
  },
  {
   "cell_type": "markdown",
   "metadata": {},
   "source": [
    "**Результаты стат.теста**\n",
    "- H0: Конверсия (между определенными этапами воронки) в двух группах одинаковая\n",
    "- H1: Конверсия (между определенными этапами воронки) в двух группах различается\n",
    "- Оцениваем результаты на уровне значимости 0.05\n",
    "- Поскольку мы будем проверять не одну, а сразу 4 гипотезы (3 сейчас и одну дополнительную) на одних и тех же данных, то стоит скорректировать уровень значимости. Воспользуемся методом Бонферрони. \n",
    "- Итого: для каждого отдельного теста используем alpha = 0.05 / 4 = 0.0125"
   ]
  },
  {
   "cell_type": "code",
   "execution_count": 65,
   "metadata": {},
   "outputs": [
    {
     "data": {
      "text/html": [
       "<div>\n",
       "<style scoped>\n",
       "    .dataframe tbody tr th:only-of-type {\n",
       "        vertical-align: middle;\n",
       "    }\n",
       "\n",
       "    .dataframe tbody tr th {\n",
       "        vertical-align: top;\n",
       "    }\n",
       "\n",
       "    .dataframe thead th {\n",
       "        text-align: right;\n",
       "    }\n",
       "</style>\n",
       "<table border=\"1\" class=\"dataframe\">\n",
       "  <thead>\n",
       "    <tr style=\"text-align: right;\">\n",
       "      <th></th>\n",
       "      <th>Этап</th>\n",
       "      <th>Конверсия А</th>\n",
       "      <th>Конверсия B</th>\n",
       "      <th>p-value</th>\n",
       "    </tr>\n",
       "  </thead>\n",
       "  <tbody>\n",
       "    <tr>\n",
       "      <th>1</th>\n",
       "      <td>Конверсия из login в product_page</td>\n",
       "      <td>0.67</td>\n",
       "      <td>0.66</td>\n",
       "      <td>0.11901</td>\n",
       "    </tr>\n",
       "    <tr>\n",
       "      <th>2</th>\n",
       "      <td>Конверсия из login в product_cart</td>\n",
       "      <td>0.33</td>\n",
       "      <td>0.34</td>\n",
       "      <td>0.10469</td>\n",
       "    </tr>\n",
       "    <tr>\n",
       "      <th>3</th>\n",
       "      <td>Конверсия из login в purchase</td>\n",
       "      <td>0.36</td>\n",
       "      <td>0.33</td>\n",
       "      <td>0.02158</td>\n",
       "    </tr>\n",
       "  </tbody>\n",
       "</table>\n",
       "</div>"
      ],
      "text/plain": [
       "                                Этап  Конверсия А  Конверсия B  p-value\n",
       "1  Конверсия из login в product_page         0.67         0.66  0.11901\n",
       "2  Конверсия из login в product_cart         0.33         0.34  0.10469\n",
       "3      Конверсия из login в purchase         0.36         0.33  0.02158"
      ]
     },
     "execution_count": 65,
     "metadata": {},
     "output_type": "execute_result"
    }
   ],
   "source": [
    "group_comparison().drop(0)"
   ]
  },
  {
   "cell_type": "markdown",
   "metadata": {},
   "source": [
    "**Вывод по результатам**\n",
    "\n",
    "Ни один из тестов не показал значимых изменений. Вкупе со значениями конверсий напрашивается вывод о том, что изменения как минимум не влияют на конверсию, а как максимум - ухудшают её. "
   ]
  },
  {
   "cell_type": "markdown",
   "metadata": {},
   "source": [
    "**Дополнительный тест**\n",
    "\n",
    "Мы помним, что пользователи, судя по всему, могут оплачивать товар, не переходя в корзину. Что если у нас улучшилась конверсия из product_page в purchase? Проверим это. "
   ]
  },
  {
   "cell_type": "code",
   "execution_count": 66,
   "metadata": {},
   "outputs": [
    {
     "data": {
      "text/plain": [
       "['Конверсия из product_page в purchase', 0.53, 0.51, 0.0812]"
      ]
     },
     "execution_count": 66,
     "metadata": {},
     "output_type": "execute_result"
    }
   ],
   "source": [
    "conversion_comparison('product_page', 'purchase')"
   ]
  },
  {
   "cell_type": "markdown",
   "metadata": {},
   "source": [
    "Нет, z-тест говорит, что разница не значима. А та что есть все равно показывает, что результаты лучше в контрольной группе. "
   ]
  },
  {
   "cell_type": "markdown",
   "metadata": {},
   "source": [
    "## Выводы"
   ]
  },
  {
   "cell_type": "markdown",
   "metadata": {},
   "source": [
    "**В данном проекте мы** анализировали данные по A/B-тестам:\n",
    "\n",
    "- Проверили корректность проведения;\n",
    "- Проанализировали результаты;\n",
    "\n",
    "**Корректность проведения теста \"recommender_system_test\", указанного в ТЗ, вызывает вопросы:**\n",
    "- Пользователей мало\n",
    "- Есть пересечение с маркетинговой активностью\n",
    "- Присутствуют пользователи из других регионов\n",
    "- Пользователи неравномерно распределены между группами\n",
    "- Есть пересечения с пользователями из другого теста\n",
    "\n",
    "Анализировать результаты этого теста было бесполезно (много искажений), поэтому мы взглянули на второй тест - 'interface_eu_test' и проанализровали его результаты. \n",
    "\n",
    "**Результаты анализа А/B-теста \"interface_eu_test\":**\n",
    "\n",
    "Общие выводы о данных: \n",
    "- 30% пользователей отваливаются при переходе к просмотру карточки товара\n",
    "- Только половина от посмотревших карточку товара, переходит в корзину\n",
    "- Судя по всему - оплатить товар можно, не заходя в корзину\n",
    "- Между предпоследним и последним этапом конверсия практически стопроцентная\n",
    "- В группе А немного выше средний чек (но, статистическую значимость этих различий мы не проверяли)\n",
    "\n",
    "Анализ конверсий (z-тест на уровне значимости 0.05 для каждого отдельного теста):\n",
    "- Мы не увидели значимых изменений конверсии. А если принимать в расчет сами значения конверсии, то можно сказать, что мы либо не видим изменений, либо вообще скорее получили ухудшение. \n",
    "\n",
    "**Итоговый вывод:**\n",
    "\n",
    "Ожидаемого эффекта не достигли. Тест \"interface_eu_test\" - неудачный и эти изменения внедрять не стоит. "
   ]
  }
 ],
 "metadata": {
  "ExecuteTimeLog": [
   {
    "duration": 1378,
    "start_time": "2022-02-03T12:19:41.253Z"
   },
   {
    "duration": 734,
    "start_time": "2022-02-03T12:20:51.828Z"
   },
   {
    "duration": 16,
    "start_time": "2022-02-03T12:21:22.886Z"
   },
   {
    "duration": 9,
    "start_time": "2022-02-03T12:21:28.336Z"
   },
   {
    "duration": 7,
    "start_time": "2022-02-03T12:22:14.013Z"
   },
   {
    "duration": 9,
    "start_time": "2022-02-03T12:22:20.739Z"
   },
   {
    "duration": 7,
    "start_time": "2022-02-03T12:22:41.020Z"
   },
   {
    "duration": 11,
    "start_time": "2022-02-03T12:23:08.892Z"
   },
   {
    "duration": 21,
    "start_time": "2022-02-03T12:23:14.374Z"
   },
   {
    "duration": 16,
    "start_time": "2022-02-03T12:24:11.674Z"
   },
   {
    "duration": 38,
    "start_time": "2022-02-03T12:24:30.548Z"
   },
   {
    "duration": 26,
    "start_time": "2022-02-03T12:24:45.987Z"
   },
   {
    "duration": 27,
    "start_time": "2022-02-03T12:25:29.713Z"
   },
   {
    "duration": 9,
    "start_time": "2022-02-03T12:25:32.318Z"
   },
   {
    "duration": 8,
    "start_time": "2022-02-03T12:25:34.701Z"
   },
   {
    "duration": 13,
    "start_time": "2022-02-03T12:26:09.087Z"
   },
   {
    "duration": 67,
    "start_time": "2022-02-03T12:26:15.432Z"
   },
   {
    "duration": 129,
    "start_time": "2022-02-03T12:27:13.612Z"
   },
   {
    "duration": 247,
    "start_time": "2022-02-03T12:27:34.234Z"
   },
   {
    "duration": 214,
    "start_time": "2022-02-03T12:27:38.872Z"
   },
   {
    "duration": 27,
    "start_time": "2022-02-03T12:27:41.026Z"
   },
   {
    "duration": 11,
    "start_time": "2022-02-03T12:28:12.268Z"
   },
   {
    "duration": 10,
    "start_time": "2022-02-03T12:28:17.441Z"
   },
   {
    "duration": 6,
    "start_time": "2022-02-03T12:28:53.198Z"
   },
   {
    "duration": 6,
    "start_time": "2022-02-03T12:28:53.733Z"
   },
   {
    "duration": 16,
    "start_time": "2022-02-03T12:29:11.274Z"
   },
   {
    "duration": 13,
    "start_time": "2022-02-03T12:29:25.490Z"
   },
   {
    "duration": 15,
    "start_time": "2022-02-03T12:29:49.132Z"
   },
   {
    "duration": 12,
    "start_time": "2022-02-03T12:30:16.381Z"
   },
   {
    "duration": 22,
    "start_time": "2022-02-03T12:31:47.681Z"
   },
   {
    "duration": 22,
    "start_time": "2022-02-03T12:32:47.669Z"
   },
   {
    "duration": 14,
    "start_time": "2022-02-03T12:33:48.622Z"
   },
   {
    "duration": 55,
    "start_time": "2022-02-03T12:34:28.006Z"
   },
   {
    "duration": 14,
    "start_time": "2022-02-03T12:36:24.772Z"
   },
   {
    "duration": 60,
    "start_time": "2022-02-03T12:38:13.622Z"
   },
   {
    "duration": 52,
    "start_time": "2022-02-03T12:38:24.078Z"
   },
   {
    "duration": 62,
    "start_time": "2022-02-03T12:38:28.189Z"
   },
   {
    "duration": 51,
    "start_time": "2022-02-03T12:38:43.407Z"
   },
   {
    "duration": 19,
    "start_time": "2022-02-03T12:40:12.344Z"
   },
   {
    "duration": 5,
    "start_time": "2022-02-03T12:40:55.946Z"
   },
   {
    "duration": 90,
    "start_time": "2022-02-03T12:41:02.624Z"
   },
   {
    "duration": 21,
    "start_time": "2022-02-03T12:41:26.654Z"
   },
   {
    "duration": 63,
    "start_time": "2022-02-03T12:41:38.438Z"
   },
   {
    "duration": 74,
    "start_time": "2022-02-03T12:41:53.925Z"
   },
   {
    "duration": 72,
    "start_time": "2022-02-03T12:42:30.121Z"
   },
   {
    "duration": 61,
    "start_time": "2022-02-03T12:52:26.393Z"
   },
   {
    "duration": 49,
    "start_time": "2022-02-03T12:53:10.665Z"
   },
   {
    "duration": 20,
    "start_time": "2022-02-03T12:55:23.446Z"
   },
   {
    "duration": 13,
    "start_time": "2022-02-03T12:55:47.587Z"
   },
   {
    "duration": 15,
    "start_time": "2022-02-03T12:56:02.619Z"
   },
   {
    "duration": 21,
    "start_time": "2022-02-03T12:56:10.501Z"
   },
   {
    "duration": 20,
    "start_time": "2022-02-03T12:56:38.629Z"
   },
   {
    "duration": 11,
    "start_time": "2022-02-03T12:57:08.025Z"
   },
   {
    "duration": 17,
    "start_time": "2022-02-03T12:57:26.555Z"
   },
   {
    "duration": 20,
    "start_time": "2022-02-03T12:57:48.788Z"
   },
   {
    "duration": 16,
    "start_time": "2022-02-03T12:58:14.523Z"
   },
   {
    "duration": 11,
    "start_time": "2022-02-03T13:04:22.778Z"
   },
   {
    "duration": 15,
    "start_time": "2022-02-03T13:04:26.265Z"
   },
   {
    "duration": 501,
    "start_time": "2022-02-03T13:06:32.696Z"
   },
   {
    "duration": 15,
    "start_time": "2022-02-03T13:08:17.422Z"
   },
   {
    "duration": 217,
    "start_time": "2022-02-03T13:09:00.638Z"
   },
   {
    "duration": 191,
    "start_time": "2022-02-03T13:09:51.857Z"
   },
   {
    "duration": 235,
    "start_time": "2022-02-03T13:15:04.958Z"
   },
   {
    "duration": 30,
    "start_time": "2022-02-03T13:15:09.927Z"
   },
   {
    "duration": 75,
    "start_time": "2022-02-03T13:18:42.273Z"
   },
   {
    "duration": 78,
    "start_time": "2022-02-03T13:19:37.650Z"
   },
   {
    "duration": 86,
    "start_time": "2022-02-03T13:19:56.513Z"
   },
   {
    "duration": 76,
    "start_time": "2022-02-03T13:20:00.069Z"
   },
   {
    "duration": 78,
    "start_time": "2022-02-03T13:20:10.108Z"
   },
   {
    "duration": 141,
    "start_time": "2022-02-03T13:22:55.427Z"
   },
   {
    "duration": 95,
    "start_time": "2022-02-03T13:22:58.871Z"
   },
   {
    "duration": 68,
    "start_time": "2022-02-03T13:23:28.646Z"
   },
   {
    "duration": 468,
    "start_time": "2022-02-03T13:24:10.066Z"
   },
   {
    "duration": 19369,
    "start_time": "2022-02-03T13:25:15.035Z"
   },
   {
    "duration": 1661,
    "start_time": "2022-02-03T13:25:51.409Z"
   },
   {
    "duration": 4,
    "start_time": "2022-02-03T13:25:53.072Z"
   },
   {
    "duration": 759,
    "start_time": "2022-02-03T13:25:53.079Z"
   },
   {
    "duration": 16,
    "start_time": "2022-02-03T13:25:53.841Z"
   },
   {
    "duration": 9,
    "start_time": "2022-02-03T13:25:53.860Z"
   },
   {
    "duration": 8,
    "start_time": "2022-02-03T13:25:53.872Z"
   },
   {
    "duration": 9,
    "start_time": "2022-02-03T13:25:53.882Z"
   },
   {
    "duration": 11,
    "start_time": "2022-02-03T13:25:53.895Z"
   },
   {
    "duration": 55,
    "start_time": "2022-02-03T13:25:53.910Z"
   },
   {
    "duration": 19,
    "start_time": "2022-02-03T13:25:53.967Z"
   },
   {
    "duration": 37,
    "start_time": "2022-02-03T13:25:53.988Z"
   },
   {
    "duration": 26,
    "start_time": "2022-02-03T13:25:54.049Z"
   },
   {
    "duration": 8,
    "start_time": "2022-02-03T13:25:54.077Z"
   },
   {
    "duration": 10,
    "start_time": "2022-02-03T13:25:54.088Z"
   },
   {
    "duration": 12,
    "start_time": "2022-02-03T13:25:54.100Z"
   },
   {
    "duration": 67,
    "start_time": "2022-02-03T13:25:54.149Z"
   },
   {
    "duration": 150,
    "start_time": "2022-02-03T13:25:54.219Z"
   },
   {
    "duration": 215,
    "start_time": "2022-02-03T13:25:54.372Z"
   },
   {
    "duration": 30,
    "start_time": "2022-02-03T13:25:54.589Z"
   },
   {
    "duration": 29,
    "start_time": "2022-02-03T13:25:54.622Z"
   },
   {
    "duration": 17,
    "start_time": "2022-02-03T13:25:54.653Z"
   },
   {
    "duration": 21,
    "start_time": "2022-02-03T13:25:54.673Z"
   },
   {
    "duration": 12,
    "start_time": "2022-02-03T13:25:54.699Z"
   },
   {
    "duration": 17,
    "start_time": "2022-02-03T13:25:54.714Z"
   },
   {
    "duration": 13,
    "start_time": "2022-02-03T13:25:54.749Z"
   },
   {
    "duration": 11,
    "start_time": "2022-02-03T13:25:54.765Z"
   },
   {
    "duration": 23,
    "start_time": "2022-02-03T13:25:54.778Z"
   },
   {
    "duration": 52,
    "start_time": "2022-02-03T13:25:54.803Z"
   },
   {
    "duration": 11,
    "start_time": "2022-02-03T13:25:54.858Z"
   },
   {
    "duration": 50,
    "start_time": "2022-02-03T13:25:54.871Z"
   },
   {
    "duration": 78,
    "start_time": "2022-02-03T13:25:54.923Z"
   },
   {
    "duration": 12,
    "start_time": "2022-02-03T13:25:55.003Z"
   },
   {
    "duration": 84,
    "start_time": "2022-02-03T13:25:55.018Z"
   },
   {
    "duration": 61,
    "start_time": "2022-02-03T13:25:55.104Z"
   },
   {
    "duration": 10,
    "start_time": "2022-02-03T13:25:55.168Z"
   },
   {
    "duration": 16,
    "start_time": "2022-02-03T13:25:55.180Z"
   },
   {
    "duration": 10,
    "start_time": "2022-02-03T13:25:55.198Z"
   },
   {
    "duration": 207,
    "start_time": "2022-02-03T13:25:55.210Z"
   },
   {
    "duration": 28,
    "start_time": "2022-02-03T13:25:55.420Z"
   },
   {
    "duration": 70,
    "start_time": "2022-02-03T13:25:55.451Z"
   },
   {
    "duration": 1216,
    "start_time": "2022-02-03T13:25:55.523Z"
   },
   {
    "duration": 79,
    "start_time": "2022-02-03T13:26:46.890Z"
   },
   {
    "duration": 11,
    "start_time": "2022-02-03T13:26:50.790Z"
   },
   {
    "duration": 79,
    "start_time": "2022-02-03T13:27:12.985Z"
   },
   {
    "duration": 10,
    "start_time": "2022-02-03T13:27:13.445Z"
   },
   {
    "duration": 86,
    "start_time": "2022-02-03T13:27:34.265Z"
   },
   {
    "duration": 88,
    "start_time": "2022-02-03T13:28:52.044Z"
   },
   {
    "duration": 11,
    "start_time": "2022-02-03T13:28:52.733Z"
   },
   {
    "duration": 84,
    "start_time": "2022-02-03T13:28:54.647Z"
   },
   {
    "duration": 82,
    "start_time": "2022-02-03T13:29:05.412Z"
   },
   {
    "duration": 10,
    "start_time": "2022-02-03T13:29:05.497Z"
   },
   {
    "duration": 80,
    "start_time": "2022-02-03T13:29:14.369Z"
   },
   {
    "duration": 100,
    "start_time": "2022-02-03T13:32:52.648Z"
   },
   {
    "duration": 80,
    "start_time": "2022-02-03T13:32:58.613Z"
   },
   {
    "duration": 82,
    "start_time": "2022-02-03T13:33:04.690Z"
   },
   {
    "duration": 456,
    "start_time": "2022-02-03T13:33:17.968Z"
   },
   {
    "duration": 258,
    "start_time": "2022-02-03T13:36:01.208Z"
   },
   {
    "duration": 81,
    "start_time": "2022-02-03T13:37:14.946Z"
   },
   {
    "duration": 397,
    "start_time": "2022-02-03T13:37:27.476Z"
   },
   {
    "duration": 4,
    "start_time": "2022-02-03T13:37:44.511Z"
   },
   {
    "duration": 282,
    "start_time": "2022-02-03T13:37:47.937Z"
   },
   {
    "duration": 118,
    "start_time": "2022-02-03T13:39:24.039Z"
   },
   {
    "duration": 47,
    "start_time": "2022-02-03T13:39:32.697Z"
   },
   {
    "duration": 50,
    "start_time": "2022-02-03T13:39:49.660Z"
   },
   {
    "duration": 115,
    "start_time": "2022-02-03T13:41:02.126Z"
   },
   {
    "duration": 11,
    "start_time": "2022-02-03T13:41:02.500Z"
   },
   {
    "duration": 52,
    "start_time": "2022-02-03T13:41:03.381Z"
   },
   {
    "duration": 121,
    "start_time": "2022-02-03T13:43:19.912Z"
   },
   {
    "duration": 54,
    "start_time": "2022-02-03T13:45:15.054Z"
   },
   {
    "duration": 52,
    "start_time": "2022-02-03T13:45:35.129Z"
   },
   {
    "duration": 51,
    "start_time": "2022-02-03T13:45:48.183Z"
   },
   {
    "duration": 1336,
    "start_time": "2022-02-04T06:02:16.677Z"
   },
   {
    "duration": 14626,
    "start_time": "2022-02-04T06:02:20.240Z"
   },
   {
    "duration": 1171,
    "start_time": "2022-02-04T06:02:54.511Z"
   },
   {
    "duration": 2,
    "start_time": "2022-02-04T06:02:55.684Z"
   },
   {
    "duration": 507,
    "start_time": "2022-02-04T06:02:55.687Z"
   },
   {
    "duration": 10,
    "start_time": "2022-02-04T06:02:56.195Z"
   },
   {
    "duration": 8,
    "start_time": "2022-02-04T06:02:56.206Z"
   },
   {
    "duration": 6,
    "start_time": "2022-02-04T06:02:56.215Z"
   },
   {
    "duration": 7,
    "start_time": "2022-02-04T06:02:56.222Z"
   },
   {
    "duration": 7,
    "start_time": "2022-02-04T06:02:56.232Z"
   },
   {
    "duration": 13,
    "start_time": "2022-02-04T06:02:56.240Z"
   },
   {
    "duration": 10,
    "start_time": "2022-02-04T06:02:56.254Z"
   },
   {
    "duration": 23,
    "start_time": "2022-02-04T06:02:56.266Z"
   },
   {
    "duration": 40,
    "start_time": "2022-02-04T06:02:56.291Z"
   },
   {
    "duration": 5,
    "start_time": "2022-02-04T06:02:56.333Z"
   },
   {
    "duration": 6,
    "start_time": "2022-02-04T06:02:56.339Z"
   },
   {
    "duration": 7,
    "start_time": "2022-02-04T06:02:56.346Z"
   },
   {
    "duration": 51,
    "start_time": "2022-02-04T06:02:56.354Z"
   },
   {
    "duration": 83,
    "start_time": "2022-02-04T06:02:56.427Z"
   },
   {
    "duration": 141,
    "start_time": "2022-02-04T06:02:56.512Z"
   },
   {
    "duration": 18,
    "start_time": "2022-02-04T06:02:56.655Z"
   },
   {
    "duration": 7,
    "start_time": "2022-02-04T06:02:56.674Z"
   },
   {
    "duration": 10,
    "start_time": "2022-02-04T06:02:56.682Z"
   },
   {
    "duration": 6,
    "start_time": "2022-02-04T06:02:56.694Z"
   },
   {
    "duration": 4,
    "start_time": "2022-02-04T06:02:56.728Z"
   },
   {
    "duration": 9,
    "start_time": "2022-02-04T06:02:56.734Z"
   },
   {
    "duration": 8,
    "start_time": "2022-02-04T06:02:56.744Z"
   },
   {
    "duration": 8,
    "start_time": "2022-02-04T06:02:56.753Z"
   },
   {
    "duration": 15,
    "start_time": "2022-02-04T06:02:56.762Z"
   },
   {
    "duration": 8,
    "start_time": "2022-02-04T06:02:56.779Z"
   },
   {
    "duration": 7,
    "start_time": "2022-02-04T06:02:56.789Z"
   },
   {
    "duration": 59,
    "start_time": "2022-02-04T06:02:56.798Z"
   },
   {
    "duration": 32,
    "start_time": "2022-02-04T06:02:56.859Z"
   },
   {
    "duration": 8,
    "start_time": "2022-02-04T06:02:56.892Z"
   },
   {
    "duration": 56,
    "start_time": "2022-02-04T06:02:56.901Z"
   },
   {
    "duration": 27,
    "start_time": "2022-02-04T06:02:56.958Z"
   },
   {
    "duration": 6,
    "start_time": "2022-02-04T06:02:56.986Z"
   },
   {
    "duration": 10,
    "start_time": "2022-02-04T06:02:56.993Z"
   },
   {
    "duration": 28,
    "start_time": "2022-02-04T06:02:57.004Z"
   },
   {
    "duration": 118,
    "start_time": "2022-02-04T06:02:57.033Z"
   },
   {
    "duration": 12,
    "start_time": "2022-02-04T06:02:57.153Z"
   },
   {
    "duration": 69,
    "start_time": "2022-02-04T06:02:57.166Z"
   },
   {
    "duration": 6,
    "start_time": "2022-02-04T06:02:57.237Z"
   },
   {
    "duration": 52,
    "start_time": "2022-02-04T06:02:57.244Z"
   },
   {
    "duration": 401,
    "start_time": "2022-02-04T06:02:57.298Z"
   },
   {
    "duration": 12,
    "start_time": "2022-02-04T06:03:32.042Z"
   },
   {
    "duration": 22,
    "start_time": "2022-02-04T06:04:19.806Z"
   },
   {
    "duration": 708,
    "start_time": "2022-02-04T06:04:34.483Z"
   },
   {
    "duration": 667,
    "start_time": "2022-02-04T06:05:22.836Z"
   },
   {
    "duration": 722,
    "start_time": "2022-02-04T06:05:53.383Z"
   },
   {
    "duration": 381,
    "start_time": "2022-02-04T06:06:22.262Z"
   },
   {
    "duration": 294,
    "start_time": "2022-02-04T06:06:29.704Z"
   },
   {
    "duration": 95,
    "start_time": "2022-02-04T06:07:02.656Z"
   },
   {
    "duration": 84,
    "start_time": "2022-02-04T06:07:10.643Z"
   },
   {
    "duration": 98,
    "start_time": "2022-02-04T06:07:16.509Z"
   },
   {
    "duration": 2706,
    "start_time": "2022-02-04T06:07:20.210Z"
   },
   {
    "duration": 1115,
    "start_time": "2022-02-04T06:07:34.248Z"
   },
   {
    "duration": 3,
    "start_time": "2022-02-04T06:07:35.364Z"
   },
   {
    "duration": 500,
    "start_time": "2022-02-04T06:07:35.369Z"
   },
   {
    "duration": 11,
    "start_time": "2022-02-04T06:07:35.871Z"
   },
   {
    "duration": 7,
    "start_time": "2022-02-04T06:07:35.884Z"
   },
   {
    "duration": 8,
    "start_time": "2022-02-04T06:07:35.892Z"
   },
   {
    "duration": 6,
    "start_time": "2022-02-04T06:07:35.902Z"
   },
   {
    "duration": 17,
    "start_time": "2022-02-04T06:07:35.911Z"
   },
   {
    "duration": 13,
    "start_time": "2022-02-04T06:07:35.930Z"
   },
   {
    "duration": 10,
    "start_time": "2022-02-04T06:07:35.945Z"
   },
   {
    "duration": 23,
    "start_time": "2022-02-04T06:07:35.957Z"
   },
   {
    "duration": 45,
    "start_time": "2022-02-04T06:07:35.982Z"
   },
   {
    "duration": 6,
    "start_time": "2022-02-04T06:07:36.029Z"
   },
   {
    "duration": 7,
    "start_time": "2022-02-04T06:07:36.037Z"
   },
   {
    "duration": 8,
    "start_time": "2022-02-04T06:07:36.045Z"
   },
   {
    "duration": 74,
    "start_time": "2022-02-04T06:07:36.054Z"
   },
   {
    "duration": 83,
    "start_time": "2022-02-04T06:07:36.129Z"
   },
   {
    "duration": 145,
    "start_time": "2022-02-04T06:07:36.213Z"
   },
   {
    "duration": 17,
    "start_time": "2022-02-04T06:07:36.359Z"
   },
   {
    "duration": 6,
    "start_time": "2022-02-04T06:07:36.378Z"
   },
   {
    "duration": 7,
    "start_time": "2022-02-04T06:07:36.385Z"
   },
   {
    "duration": 3,
    "start_time": "2022-02-04T06:07:36.394Z"
   },
   {
    "duration": 4,
    "start_time": "2022-02-04T06:07:36.401Z"
   },
   {
    "duration": 7,
    "start_time": "2022-02-04T06:07:36.427Z"
   },
   {
    "duration": 7,
    "start_time": "2022-02-04T06:07:36.435Z"
   },
   {
    "duration": 7,
    "start_time": "2022-02-04T06:07:36.443Z"
   },
   {
    "duration": 13,
    "start_time": "2022-02-04T06:07:36.452Z"
   },
   {
    "duration": 7,
    "start_time": "2022-02-04T06:07:36.466Z"
   },
   {
    "duration": 6,
    "start_time": "2022-02-04T06:07:36.475Z"
   },
   {
    "duration": 63,
    "start_time": "2022-02-04T06:07:36.483Z"
   },
   {
    "duration": 39,
    "start_time": "2022-02-04T06:07:36.548Z"
   },
   {
    "duration": 8,
    "start_time": "2022-02-04T06:07:36.588Z"
   },
   {
    "duration": 59,
    "start_time": "2022-02-04T06:07:36.598Z"
   },
   {
    "duration": 30,
    "start_time": "2022-02-04T06:07:36.658Z"
   },
   {
    "duration": 6,
    "start_time": "2022-02-04T06:07:36.689Z"
   },
   {
    "duration": 9,
    "start_time": "2022-02-04T06:07:36.696Z"
   },
   {
    "duration": 20,
    "start_time": "2022-02-04T06:07:36.707Z"
   },
   {
    "duration": 122,
    "start_time": "2022-02-04T06:07:36.729Z"
   },
   {
    "duration": 12,
    "start_time": "2022-02-04T06:07:36.852Z"
   },
   {
    "duration": 63,
    "start_time": "2022-02-04T06:07:36.866Z"
   },
   {
    "duration": 6,
    "start_time": "2022-02-04T06:07:36.931Z"
   },
   {
    "duration": 47,
    "start_time": "2022-02-04T06:07:36.938Z"
   },
   {
    "duration": 376,
    "start_time": "2022-02-04T06:07:36.986Z"
   },
   {
    "duration": 800,
    "start_time": "2022-02-04T06:07:37.363Z"
   },
   {
    "duration": 525,
    "start_time": "2022-02-04T06:07:38.165Z"
   },
   {
    "duration": 410,
    "start_time": "2022-02-04T06:08:23.722Z"
   },
   {
    "duration": 365,
    "start_time": "2022-02-04T06:08:56.469Z"
   },
   {
    "duration": 380,
    "start_time": "2022-02-04T06:09:04.689Z"
   },
   {
    "duration": 198,
    "start_time": "2022-02-04T06:09:32.347Z"
   },
   {
    "duration": 213,
    "start_time": "2022-02-04T06:09:38.417Z"
   },
   {
    "duration": 456,
    "start_time": "2022-02-04T06:10:13.035Z"
   },
   {
    "duration": 3,
    "start_time": "2022-02-04T06:11:47.038Z"
   },
   {
    "duration": 300,
    "start_time": "2022-02-04T06:11:50.743Z"
   },
   {
    "duration": 378,
    "start_time": "2022-02-04T06:11:57.547Z"
   },
   {
    "duration": 332,
    "start_time": "2022-02-04T06:12:03.297Z"
   },
   {
    "duration": 341,
    "start_time": "2022-02-04T06:13:11.029Z"
   },
   {
    "duration": 343,
    "start_time": "2022-02-04T06:13:16.732Z"
   },
   {
    "duration": 9,
    "start_time": "2022-02-04T06:15:38.426Z"
   },
   {
    "duration": 6,
    "start_time": "2022-02-04T06:16:25.713Z"
   },
   {
    "duration": 6,
    "start_time": "2022-02-04T06:17:51.318Z"
   },
   {
    "duration": 12,
    "start_time": "2022-02-04T06:19:00.116Z"
   },
   {
    "duration": 23,
    "start_time": "2022-02-04T06:19:32.555Z"
   },
   {
    "duration": 19,
    "start_time": "2022-02-04T06:20:01.554Z"
   },
   {
    "duration": 22,
    "start_time": "2022-02-04T06:20:24.729Z"
   },
   {
    "duration": 24,
    "start_time": "2022-02-04T06:20:37.674Z"
   },
   {
    "duration": 18,
    "start_time": "2022-02-04T06:20:47.113Z"
   },
   {
    "duration": 190,
    "start_time": "2022-02-04T06:21:16.819Z"
   },
   {
    "duration": 182,
    "start_time": "2022-02-04T06:21:19.971Z"
   },
   {
    "duration": 231,
    "start_time": "2022-02-04T06:21:53.664Z"
   },
   {
    "duration": 241,
    "start_time": "2022-02-04T06:22:01.702Z"
   },
   {
    "duration": 86,
    "start_time": "2022-02-04T06:22:29.431Z"
   },
   {
    "duration": 53,
    "start_time": "2022-02-04T06:23:42.689Z"
   },
   {
    "duration": 54,
    "start_time": "2022-02-04T06:23:50.215Z"
   },
   {
    "duration": 49,
    "start_time": "2022-02-04T06:23:54.724Z"
   },
   {
    "duration": 52,
    "start_time": "2022-02-04T06:23:58.893Z"
   },
   {
    "duration": 160,
    "start_time": "2022-02-04T06:24:33.065Z"
   },
   {
    "duration": 50,
    "start_time": "2022-02-04T06:24:37.771Z"
   },
   {
    "duration": 52,
    "start_time": "2022-02-04T06:25:25.807Z"
   },
   {
    "duration": 56,
    "start_time": "2022-02-04T06:25:29.210Z"
   },
   {
    "duration": 12,
    "start_time": "2022-02-04T06:26:18.313Z"
   },
   {
    "duration": 14,
    "start_time": "2022-02-04T06:31:48.629Z"
   },
   {
    "duration": 320,
    "start_time": "2022-02-04T06:36:23.359Z"
   },
   {
    "duration": 13,
    "start_time": "2022-02-04T06:36:44.827Z"
   },
   {
    "duration": 4,
    "start_time": "2022-02-04T06:37:41.982Z"
   },
   {
    "duration": 97,
    "start_time": "2022-02-04T06:38:33.143Z"
   },
   {
    "duration": 7,
    "start_time": "2022-02-04T06:38:35.633Z"
   },
   {
    "duration": 19,
    "start_time": "2022-02-04T06:40:16.965Z"
   },
   {
    "duration": 12,
    "start_time": "2022-02-04T06:40:22.999Z"
   },
   {
    "duration": 17,
    "start_time": "2022-02-04T06:40:27.819Z"
   },
   {
    "duration": 7,
    "start_time": "2022-02-04T06:41:10.111Z"
   },
   {
    "duration": 2083,
    "start_time": "2022-02-04T06:41:30.772Z"
   },
   {
    "duration": 4514,
    "start_time": "2022-02-04T06:41:36.808Z"
   },
   {
    "duration": 109,
    "start_time": "2022-02-04T06:42:13.512Z"
   },
   {
    "duration": 119,
    "start_time": "2022-02-04T06:43:01.644Z"
   },
   {
    "duration": 387,
    "start_time": "2022-02-04T06:44:11.298Z"
   },
   {
    "duration": 8,
    "start_time": "2022-02-04T06:44:28.724Z"
   },
   {
    "duration": 6,
    "start_time": "2022-02-04T06:44:34.966Z"
   },
   {
    "duration": 272,
    "start_time": "2022-02-04T06:44:40.263Z"
   },
   {
    "duration": 257,
    "start_time": "2022-02-04T06:45:11.481Z"
   },
   {
    "duration": 246,
    "start_time": "2022-02-04T06:45:15.629Z"
   },
   {
    "duration": 245,
    "start_time": "2022-02-04T06:45:36.953Z"
   },
   {
    "duration": 10,
    "start_time": "2022-02-04T06:52:04.755Z"
   },
   {
    "duration": 1679,
    "start_time": "2022-02-04T12:58:43.928Z"
   },
   {
    "duration": 19513,
    "start_time": "2022-02-04T12:58:46.795Z"
   },
   {
    "duration": 1371,
    "start_time": "2022-02-04T12:59:24.383Z"
   },
   {
    "duration": 2,
    "start_time": "2022-02-04T12:59:25.756Z"
   },
   {
    "duration": 1102,
    "start_time": "2022-02-04T12:59:25.761Z"
   },
   {
    "duration": 13,
    "start_time": "2022-02-04T12:59:26.866Z"
   },
   {
    "duration": 695,
    "start_time": "2022-02-04T12:59:26.881Z"
   },
   {
    "duration": 303,
    "start_time": "2022-02-04T12:59:27.579Z"
   },
   {
    "duration": 12,
    "start_time": "2022-02-04T12:59:27.884Z"
   },
   {
    "duration": 15,
    "start_time": "2022-02-04T12:59:27.900Z"
   },
   {
    "duration": 23,
    "start_time": "2022-02-04T12:59:27.918Z"
   },
   {
    "duration": 16,
    "start_time": "2022-02-04T12:59:27.943Z"
   },
   {
    "duration": 33,
    "start_time": "2022-02-04T12:59:27.960Z"
   },
   {
    "duration": 36,
    "start_time": "2022-02-04T12:59:27.995Z"
   },
   {
    "duration": 8,
    "start_time": "2022-02-04T12:59:28.033Z"
   },
   {
    "duration": 13,
    "start_time": "2022-02-04T12:59:28.043Z"
   },
   {
    "duration": 11,
    "start_time": "2022-02-04T12:59:28.057Z"
   },
   {
    "duration": 97,
    "start_time": "2022-02-04T12:59:28.070Z"
   },
   {
    "duration": 110,
    "start_time": "2022-02-04T12:59:28.169Z"
   },
   {
    "duration": 206,
    "start_time": "2022-02-04T12:59:28.281Z"
   },
   {
    "duration": 27,
    "start_time": "2022-02-04T12:59:28.489Z"
   },
   {
    "duration": 19,
    "start_time": "2022-02-04T12:59:28.518Z"
   },
   {
    "duration": 15,
    "start_time": "2022-02-04T12:59:28.538Z"
   },
   {
    "duration": 7,
    "start_time": "2022-02-04T12:59:28.556Z"
   },
   {
    "duration": 13,
    "start_time": "2022-02-04T12:59:28.567Z"
   },
   {
    "duration": 27,
    "start_time": "2022-02-04T12:59:28.582Z"
   },
   {
    "duration": 12,
    "start_time": "2022-02-04T12:59:28.615Z"
   },
   {
    "duration": 10,
    "start_time": "2022-02-04T12:59:28.629Z"
   },
   {
    "duration": 17,
    "start_time": "2022-02-04T12:59:28.641Z"
   },
   {
    "duration": 11,
    "start_time": "2022-02-04T12:59:28.660Z"
   },
   {
    "duration": 44,
    "start_time": "2022-02-04T12:59:28.673Z"
   },
   {
    "duration": 45,
    "start_time": "2022-02-04T12:59:28.719Z"
   },
   {
    "duration": 70,
    "start_time": "2022-02-04T12:59:28.765Z"
   },
   {
    "duration": 15,
    "start_time": "2022-02-04T12:59:28.841Z"
   },
   {
    "duration": 72,
    "start_time": "2022-02-04T12:59:28.858Z"
   },
   {
    "duration": 40,
    "start_time": "2022-02-04T12:59:28.932Z"
   },
   {
    "duration": 8,
    "start_time": "2022-02-04T12:59:28.974Z"
   },
   {
    "duration": 36,
    "start_time": "2022-02-04T12:59:28.984Z"
   },
   {
    "duration": 15,
    "start_time": "2022-02-04T12:59:29.021Z"
   },
   {
    "duration": 173,
    "start_time": "2022-02-04T12:59:29.038Z"
   },
   {
    "duration": 21,
    "start_time": "2022-02-04T12:59:29.213Z"
   },
   {
    "duration": 88,
    "start_time": "2022-02-04T12:59:29.237Z"
   },
   {
    "duration": 10,
    "start_time": "2022-02-04T12:59:29.327Z"
   },
   {
    "duration": 86,
    "start_time": "2022-02-04T12:59:29.341Z"
   },
   {
    "duration": 487,
    "start_time": "2022-02-04T12:59:29.431Z"
   },
   {
    "duration": 1086,
    "start_time": "2022-02-04T12:59:29.921Z"
   },
   {
    "duration": 461,
    "start_time": "2022-02-04T12:59:31.011Z"
   },
   {
    "duration": 8,
    "start_time": "2022-02-04T12:59:31.474Z"
   },
   {
    "duration": 25,
    "start_time": "2022-02-04T12:59:31.483Z"
   },
   {
    "duration": 53,
    "start_time": "2022-02-04T12:59:31.510Z"
   },
   {
    "duration": 33,
    "start_time": "2022-02-04T12:59:31.566Z"
   },
   {
    "duration": 108,
    "start_time": "2022-02-04T12:59:31.601Z"
   },
   {
    "duration": 11,
    "start_time": "2022-02-04T12:59:31.712Z"
   },
   {
    "duration": 174,
    "start_time": "2022-02-04T12:59:31.726Z"
   },
   {
    "duration": 11,
    "start_time": "2022-02-04T12:59:31.902Z"
   },
   {
    "duration": 432,
    "start_time": "2022-02-04T12:59:31.916Z"
   },
   {
    "duration": 5,
    "start_time": "2022-02-04T12:59:32.351Z"
   },
   {
    "duration": 39,
    "start_time": "2022-02-04T12:59:32.358Z"
   },
   {
    "duration": 23,
    "start_time": "2022-02-04T13:01:02.117Z"
   },
   {
    "duration": 400,
    "start_time": "2022-02-04T13:01:12.777Z"
   },
   {
    "duration": 9,
    "start_time": "2022-02-04T13:01:28.332Z"
   },
   {
    "duration": 10,
    "start_time": "2022-02-04T13:01:41.927Z"
   },
   {
    "duration": 3,
    "start_time": "2022-02-04T13:01:56.999Z"
   },
   {
    "duration": 7,
    "start_time": "2022-02-04T13:05:42.063Z"
   },
   {
    "duration": 7,
    "start_time": "2022-02-04T13:06:59.780Z"
   },
   {
    "duration": 273,
    "start_time": "2022-02-04T13:07:42.249Z"
   },
   {
    "duration": 11,
    "start_time": "2022-02-04T13:07:59.011Z"
   },
   {
    "duration": 8,
    "start_time": "2022-02-04T13:08:05.990Z"
   },
   {
    "duration": 4,
    "start_time": "2022-02-04T13:14:28.466Z"
   },
   {
    "duration": 10,
    "start_time": "2022-02-04T13:15:59.108Z"
   },
   {
    "duration": 9,
    "start_time": "2022-02-04T13:16:07.487Z"
   },
   {
    "duration": 4,
    "start_time": "2022-02-04T13:16:25.139Z"
   },
   {
    "duration": 11,
    "start_time": "2022-02-04T13:16:25.238Z"
   },
   {
    "duration": 3,
    "start_time": "2022-02-04T13:16:34.907Z"
   },
   {
    "duration": 13,
    "start_time": "2022-02-04T13:16:35.244Z"
   },
   {
    "duration": 83,
    "start_time": "2022-02-04T13:18:30.449Z"
   },
   {
    "duration": 3,
    "start_time": "2022-02-04T13:18:34.886Z"
   },
   {
    "duration": 8,
    "start_time": "2022-02-04T13:18:35.539Z"
   },
   {
    "duration": 8,
    "start_time": "2022-02-04T13:19:12.493Z"
   },
   {
    "duration": 4,
    "start_time": "2022-02-04T13:19:13.542Z"
   },
   {
    "duration": 221,
    "start_time": "2022-02-04T13:19:34.172Z"
   },
   {
    "duration": 11,
    "start_time": "2022-02-04T13:19:41.740Z"
   },
   {
    "duration": 4,
    "start_time": "2022-02-04T13:19:46.414Z"
   },
   {
    "duration": 4,
    "start_time": "2022-02-04T13:24:26.966Z"
   },
   {
    "duration": 472,
    "start_time": "2022-02-04T13:24:36.440Z"
   },
   {
    "duration": 5,
    "start_time": "2022-02-04T13:25:15.696Z"
   },
   {
    "duration": 11,
    "start_time": "2022-02-04T13:25:16.258Z"
   },
   {
    "duration": 5,
    "start_time": "2022-02-04T13:25:41.468Z"
   },
   {
    "duration": 11,
    "start_time": "2022-02-04T13:25:41.786Z"
   },
   {
    "duration": 4,
    "start_time": "2022-02-04T13:28:39.916Z"
   },
   {
    "duration": 437,
    "start_time": "2022-02-04T13:28:44.162Z"
   },
   {
    "duration": 4,
    "start_time": "2022-02-04T13:28:52.376Z"
   },
   {
    "duration": 467,
    "start_time": "2022-02-04T13:28:52.814Z"
   },
   {
    "duration": 4,
    "start_time": "2022-02-04T13:29:20.451Z"
   },
   {
    "duration": 36,
    "start_time": "2022-02-04T13:29:20.707Z"
   },
   {
    "duration": 28,
    "start_time": "2022-02-04T13:29:25.638Z"
   },
   {
    "duration": 47,
    "start_time": "2022-02-04T13:29:29.887Z"
   },
   {
    "duration": 45,
    "start_time": "2022-02-04T13:29:31.751Z"
   },
   {
    "duration": 4,
    "start_time": "2022-02-04T13:32:25.387Z"
   },
   {
    "duration": 11,
    "start_time": "2022-02-04T13:32:30.055Z"
   },
   {
    "duration": 4,
    "start_time": "2022-02-04T13:33:21.653Z"
   },
   {
    "duration": 34,
    "start_time": "2022-02-04T13:33:21.982Z"
   },
   {
    "duration": 5,
    "start_time": "2022-02-04T13:40:53.336Z"
   },
   {
    "duration": 4,
    "start_time": "2022-02-04T13:41:00.937Z"
   },
   {
    "duration": 54,
    "start_time": "2022-02-04T13:41:01.441Z"
   },
   {
    "duration": 5,
    "start_time": "2022-02-04T13:41:18.206Z"
   },
   {
    "duration": 4,
    "start_time": "2022-02-04T13:41:18.420Z"
   },
   {
    "duration": 54,
    "start_time": "2022-02-04T13:41:19.236Z"
   },
   {
    "duration": 16,
    "start_time": "2022-02-04T13:41:37.599Z"
   },
   {
    "duration": 110222,
    "start_time": "2022-02-05T10:37:52.321Z"
   },
   {
    "duration": 6,
    "start_time": "2022-02-05T10:39:42.546Z"
   },
   {
    "duration": 834,
    "start_time": "2022-02-05T10:39:42.557Z"
   },
   {
    "duration": 17,
    "start_time": "2022-02-05T10:39:43.393Z"
   },
   {
    "duration": 9,
    "start_time": "2022-02-05T10:39:43.412Z"
   },
   {
    "duration": 9,
    "start_time": "2022-02-05T10:39:43.423Z"
   },
   {
    "duration": 12,
    "start_time": "2022-02-05T10:39:43.435Z"
   },
   {
    "duration": 18,
    "start_time": "2022-02-05T10:39:43.462Z"
   },
   {
    "duration": 21,
    "start_time": "2022-02-05T10:39:43.483Z"
   },
   {
    "duration": 21,
    "start_time": "2022-02-05T10:39:43.506Z"
   },
   {
    "duration": 45,
    "start_time": "2022-02-05T10:39:43.529Z"
   },
   {
    "duration": 26,
    "start_time": "2022-02-05T10:39:43.577Z"
   },
   {
    "duration": 8,
    "start_time": "2022-02-05T10:39:43.605Z"
   },
   {
    "duration": 9,
    "start_time": "2022-02-05T10:39:43.616Z"
   },
   {
    "duration": 12,
    "start_time": "2022-02-05T10:39:43.627Z"
   },
   {
    "duration": 76,
    "start_time": "2022-02-05T10:39:43.641Z"
   },
   {
    "duration": 149,
    "start_time": "2022-02-05T10:39:43.719Z"
   },
   {
    "duration": 217,
    "start_time": "2022-02-05T10:39:43.871Z"
   },
   {
    "duration": 28,
    "start_time": "2022-02-05T10:39:44.091Z"
   },
   {
    "duration": 36,
    "start_time": "2022-02-05T10:39:44.121Z"
   },
   {
    "duration": 14,
    "start_time": "2022-02-05T10:39:44.161Z"
   },
   {
    "duration": 7,
    "start_time": "2022-02-05T10:39:44.178Z"
   },
   {
    "duration": 63,
    "start_time": "2022-02-05T10:39:44.190Z"
   },
   {
    "duration": 20,
    "start_time": "2022-02-05T10:39:44.258Z"
   },
   {
    "duration": 10,
    "start_time": "2022-02-05T10:39:44.280Z"
   },
   {
    "duration": 9,
    "start_time": "2022-02-05T10:39:44.292Z"
   },
   {
    "duration": 25,
    "start_time": "2022-02-05T10:39:44.303Z"
   },
   {
    "duration": 19,
    "start_time": "2022-02-05T10:39:44.331Z"
   },
   {
    "duration": 13,
    "start_time": "2022-02-05T10:39:44.353Z"
   },
   {
    "duration": 60,
    "start_time": "2022-02-05T10:39:44.369Z"
   },
   {
    "duration": 78,
    "start_time": "2022-02-05T10:39:44.431Z"
   },
   {
    "duration": 48,
    "start_time": "2022-02-05T10:39:44.511Z"
   },
   {
    "duration": 200,
    "start_time": "2022-02-05T10:39:44.562Z"
   },
   {
    "duration": 108,
    "start_time": "2022-02-05T10:39:44.765Z"
   },
   {
    "duration": 9,
    "start_time": "2022-02-05T10:39:44.876Z"
   },
   {
    "duration": 76,
    "start_time": "2022-02-05T10:39:44.888Z"
   },
   {
    "duration": 12,
    "start_time": "2022-02-05T10:39:44.966Z"
   },
   {
    "duration": 291,
    "start_time": "2022-02-05T10:39:44.981Z"
   },
   {
    "duration": 19,
    "start_time": "2022-02-05T10:39:45.274Z"
   },
   {
    "duration": 110,
    "start_time": "2022-02-05T10:39:45.295Z"
   },
   {
    "duration": 10,
    "start_time": "2022-02-05T10:39:45.407Z"
   },
   {
    "duration": 90,
    "start_time": "2022-02-05T10:39:45.419Z"
   },
   {
    "duration": 1146,
    "start_time": "2022-02-05T10:39:45.512Z"
   },
   {
    "duration": 2193,
    "start_time": "2022-02-05T10:39:46.661Z"
   },
   {
    "duration": 839,
    "start_time": "2022-02-05T10:39:48.857Z"
   },
   {
    "duration": -873,
    "start_time": "2022-02-05T10:39:50.572Z"
   },
   {
    "duration": -884,
    "start_time": "2022-02-05T10:39:50.585Z"
   },
   {
    "duration": -891,
    "start_time": "2022-02-05T10:39:50.593Z"
   },
   {
    "duration": -898,
    "start_time": "2022-02-05T10:39:50.602Z"
   },
   {
    "duration": -908,
    "start_time": "2022-02-05T10:39:50.613Z"
   },
   {
    "duration": -909,
    "start_time": "2022-02-05T10:39:50.615Z"
   },
   {
    "duration": -909,
    "start_time": "2022-02-05T10:39:50.617Z"
   },
   {
    "duration": -909,
    "start_time": "2022-02-05T10:39:50.618Z"
   },
   {
    "duration": -910,
    "start_time": "2022-02-05T10:39:50.620Z"
   },
   {
    "duration": -910,
    "start_time": "2022-02-05T10:39:50.622Z"
   },
   {
    "duration": -916,
    "start_time": "2022-02-05T10:39:50.629Z"
   },
   {
    "duration": -927,
    "start_time": "2022-02-05T10:39:50.642Z"
   },
   {
    "duration": -928,
    "start_time": "2022-02-05T10:39:50.644Z"
   },
   {
    "duration": -929,
    "start_time": "2022-02-05T10:39:50.646Z"
   },
   {
    "duration": -930,
    "start_time": "2022-02-05T10:39:50.648Z"
   },
   {
    "duration": 16,
    "start_time": "2022-02-05T10:47:58.320Z"
   },
   {
    "duration": 17,
    "start_time": "2022-02-05T10:48:06.920Z"
   },
   {
    "duration": 15,
    "start_time": "2022-02-05T10:48:15.624Z"
   },
   {
    "duration": 68,
    "start_time": "2022-02-05T10:48:22.683Z"
   },
   {
    "duration": 1564,
    "start_time": "2022-02-05T12:06:59.142Z"
   },
   {
    "duration": 33805,
    "start_time": "2022-02-05T12:07:03.177Z"
   },
   {
    "duration": 1233,
    "start_time": "2022-02-05T12:08:18.243Z"
   },
   {
    "duration": 2,
    "start_time": "2022-02-05T12:08:23.507Z"
   },
   {
    "duration": 506,
    "start_time": "2022-02-05T12:08:24.507Z"
   },
   {
    "duration": 11,
    "start_time": "2022-02-05T12:08:25.996Z"
   },
   {
    "duration": 6,
    "start_time": "2022-02-05T12:08:27.524Z"
   },
   {
    "duration": 4,
    "start_time": "2022-02-05T12:09:08.323Z"
   },
   {
    "duration": 5,
    "start_time": "2022-02-05T12:09:08.698Z"
   },
   {
    "duration": 7,
    "start_time": "2022-02-05T12:09:12.575Z"
   },
   {
    "duration": 13,
    "start_time": "2022-02-05T12:09:13.365Z"
   },
   {
    "duration": 11,
    "start_time": "2022-02-05T12:09:25.509Z"
   },
   {
    "duration": 22,
    "start_time": "2022-02-05T12:09:25.959Z"
   },
   {
    "duration": 16,
    "start_time": "2022-02-05T12:09:26.789Z"
   },
   {
    "duration": 6,
    "start_time": "2022-02-05T12:09:26.972Z"
   },
   {
    "duration": 6,
    "start_time": "2022-02-05T12:09:27.507Z"
   },
   {
    "duration": 366,
    "start_time": "2022-02-05T12:09:47.489Z"
   },
   {
    "duration": 9,
    "start_time": "2022-02-05T12:09:49.456Z"
   },
   {
    "duration": 8,
    "start_time": "2022-02-05T12:11:39.267Z"
   },
   {
    "duration": 49,
    "start_time": "2022-02-05T12:11:39.744Z"
   },
   {
    "duration": 104,
    "start_time": "2022-02-05T12:11:49.824Z"
   },
   {
    "duration": 132,
    "start_time": "2022-02-05T12:11:50.170Z"
   },
   {
    "duration": 18,
    "start_time": "2022-02-05T12:11:50.550Z"
   },
   {
    "duration": 46,
    "start_time": "2022-02-05T12:12:02.519Z"
   },
   {
    "duration": 7,
    "start_time": "2022-02-05T12:13:31.762Z"
   },
   {
    "duration": 7,
    "start_time": "2022-02-05T12:13:31.886Z"
   },
   {
    "duration": 5,
    "start_time": "2022-02-05T12:13:32.093Z"
   },
   {
    "duration": 5,
    "start_time": "2022-02-05T12:13:32.238Z"
   },
   {
    "duration": 11,
    "start_time": "2022-02-05T12:13:33.266Z"
   },
   {
    "duration": 8,
    "start_time": "2022-02-05T12:13:34.185Z"
   },
   {
    "duration": 6,
    "start_time": "2022-02-05T12:13:36.278Z"
   },
   {
    "duration": 420,
    "start_time": "2022-02-05T12:16:18.285Z"
   },
   {
    "duration": 21,
    "start_time": "2022-02-05T12:16:25.392Z"
   },
   {
    "duration": 10,
    "start_time": "2022-02-05T12:19:10.252Z"
   },
   {
    "duration": 14,
    "start_time": "2022-02-05T12:19:17.827Z"
   },
   {
    "duration": 9,
    "start_time": "2022-02-05T12:19:19.838Z"
   },
   {
    "duration": 29,
    "start_time": "2022-02-05T12:19:25.850Z"
   },
   {
    "duration": 36,
    "start_time": "2022-02-05T12:20:18.690Z"
   },
   {
    "duration": 39,
    "start_time": "2022-02-05T12:20:58.449Z"
   },
   {
    "duration": 37,
    "start_time": "2022-02-05T12:21:01.289Z"
   },
   {
    "duration": 35,
    "start_time": "2022-02-05T12:22:05.172Z"
   },
   {
    "duration": 35,
    "start_time": "2022-02-05T12:24:06.584Z"
   },
   {
    "duration": 92,
    "start_time": "2022-02-05T12:26:08.064Z"
   },
   {
    "duration": 40,
    "start_time": "2022-02-05T12:26:21.156Z"
   },
   {
    "duration": 14,
    "start_time": "2022-02-05T12:26:41.936Z"
   },
   {
    "duration": 11,
    "start_time": "2022-02-05T12:26:47.911Z"
   },
   {
    "duration": 37,
    "start_time": "2022-02-05T12:27:15.608Z"
   },
   {
    "duration": 56,
    "start_time": "2022-02-05T12:30:06.548Z"
   },
   {
    "duration": 50,
    "start_time": "2022-02-05T12:32:13.364Z"
   },
   {
    "duration": 110,
    "start_time": "2022-02-05T12:38:07.328Z"
   },
   {
    "duration": 109,
    "start_time": "2022-02-05T12:38:35.238Z"
   },
   {
    "duration": 111,
    "start_time": "2022-02-05T12:38:46.924Z"
   },
   {
    "duration": 111,
    "start_time": "2022-02-05T12:39:33.118Z"
   },
   {
    "duration": 44,
    "start_time": "2022-02-05T12:46:13.598Z"
   },
   {
    "duration": 52,
    "start_time": "2022-02-05T12:46:17.401Z"
   },
   {
    "duration": 37,
    "start_time": "2022-02-05T12:46:55.309Z"
   },
   {
    "duration": 38,
    "start_time": "2022-02-05T12:47:01.890Z"
   },
   {
    "duration": 34,
    "start_time": "2022-02-05T12:47:14.521Z"
   },
   {
    "duration": 158,
    "start_time": "2022-02-05T12:47:40.421Z"
   },
   {
    "duration": 268,
    "start_time": "2022-02-05T12:47:52.356Z"
   },
   {
    "duration": 601,
    "start_time": "2022-02-05T12:47:56.135Z"
   },
   {
    "duration": 343,
    "start_time": "2022-02-05T12:51:52.661Z"
   },
   {
    "duration": 55,
    "start_time": "2022-02-05T12:51:59.805Z"
   },
   {
    "duration": 54,
    "start_time": "2022-02-05T12:52:10.022Z"
   },
   {
    "duration": 54,
    "start_time": "2022-02-05T12:52:31.693Z"
   },
   {
    "duration": 93,
    "start_time": "2022-02-05T12:56:11.321Z"
   },
   {
    "duration": 99,
    "start_time": "2022-02-05T12:56:14.368Z"
   },
   {
    "duration": 213,
    "start_time": "2022-02-05T12:56:37.894Z"
   },
   {
    "duration": 12,
    "start_time": "2022-02-05T12:56:58.005Z"
   },
   {
    "duration": 15,
    "start_time": "2022-02-05T12:57:39.880Z"
   },
   {
    "duration": 9,
    "start_time": "2022-02-05T12:58:08.547Z"
   },
   {
    "duration": 53,
    "start_time": "2022-02-05T12:58:57.695Z"
   },
   {
    "duration": 312,
    "start_time": "2022-02-05T13:07:29.087Z"
   },
   {
    "duration": 9,
    "start_time": "2022-02-05T13:07:36.670Z"
   },
   {
    "duration": 47,
    "start_time": "2022-02-05T13:07:37.421Z"
   },
   {
    "duration": 30,
    "start_time": "2022-02-05T13:07:38.471Z"
   },
   {
    "duration": 6,
    "start_time": "2022-02-05T13:07:39.601Z"
   },
   {
    "duration": 15,
    "start_time": "2022-02-05T13:07:39.835Z"
   },
   {
    "duration": 7,
    "start_time": "2022-02-05T13:07:43.794Z"
   },
   {
    "duration": 143,
    "start_time": "2022-02-05T13:07:47.535Z"
   },
   {
    "duration": 16,
    "start_time": "2022-02-05T13:07:48.452Z"
   },
   {
    "duration": 121,
    "start_time": "2022-02-05T13:09:56.668Z"
   },
   {
    "duration": 107,
    "start_time": "2022-02-05T13:10:23.750Z"
   },
   {
    "duration": 159,
    "start_time": "2022-02-05T13:10:26.341Z"
   },
   {
    "duration": 127,
    "start_time": "2022-02-05T13:12:16.126Z"
   },
   {
    "duration": 111,
    "start_time": "2022-02-05T13:13:06.198Z"
   },
   {
    "duration": 13,
    "start_time": "2022-02-05T13:13:09.236Z"
   },
   {
    "duration": 13,
    "start_time": "2022-02-05T13:13:14.289Z"
   },
   {
    "duration": 24,
    "start_time": "2022-02-05T13:13:39.461Z"
   },
   {
    "duration": 15,
    "start_time": "2022-02-05T13:14:13.782Z"
   },
   {
    "duration": 3,
    "start_time": "2022-02-05T13:16:19.131Z"
   },
   {
    "duration": 533,
    "start_time": "2022-02-05T13:16:32.000Z"
   },
   {
    "duration": 3,
    "start_time": "2022-02-05T13:16:37.085Z"
   },
   {
    "duration": 3,
    "start_time": "2022-02-05T13:16:45.328Z"
   },
   {
    "duration": 5,
    "start_time": "2022-02-05T13:17:28.756Z"
   },
   {
    "duration": 16,
    "start_time": "2022-02-05T13:17:33.637Z"
   },
   {
    "duration": 5,
    "start_time": "2022-02-05T13:18:32.266Z"
   },
   {
    "duration": 17,
    "start_time": "2022-02-05T13:18:33.816Z"
   },
   {
    "duration": 1114,
    "start_time": "2022-02-05T13:19:08.753Z"
   },
   {
    "duration": 19,
    "start_time": "2022-02-05T13:19:31.236Z"
   },
   {
    "duration": 311,
    "start_time": "2022-02-05T13:19:43.397Z"
   },
   {
    "duration": 24,
    "start_time": "2022-02-05T13:19:46.330Z"
   },
   {
    "duration": 5274,
    "start_time": "2022-02-05T13:20:06.390Z"
   },
   {
    "duration": 21,
    "start_time": "2022-02-05T13:20:25.386Z"
   },
   {
    "duration": 9,
    "start_time": "2022-02-05T13:22:38.602Z"
   },
   {
    "duration": 16,
    "start_time": "2022-02-05T13:22:40.677Z"
   },
   {
    "duration": 49,
    "start_time": "2022-02-05T13:23:16.528Z"
   },
   {
    "duration": 7,
    "start_time": "2022-02-05T13:23:17.943Z"
   },
   {
    "duration": 44,
    "start_time": "2022-02-05T13:23:23.550Z"
   },
   {
    "duration": 36,
    "start_time": "2022-02-05T13:23:42.724Z"
   },
   {
    "duration": 741,
    "start_time": "2022-02-05T13:24:20.694Z"
   },
   {
    "duration": 322,
    "start_time": "2022-02-05T13:24:22.441Z"
   },
   {
    "duration": 6,
    "start_time": "2022-02-05T13:24:27.783Z"
   },
   {
    "duration": 11,
    "start_time": "2022-02-05T13:25:30.400Z"
   },
   {
    "duration": 9,
    "start_time": "2022-02-05T13:25:51.932Z"
   },
   {
    "duration": 38,
    "start_time": "2022-02-05T13:25:54.023Z"
   },
   {
    "duration": 28,
    "start_time": "2022-02-05T13:25:58.372Z"
   },
   {
    "duration": 88,
    "start_time": "2022-02-05T13:25:59.047Z"
   },
   {
    "duration": 10,
    "start_time": "2022-02-05T13:26:20.461Z"
   },
   {
    "duration": 178,
    "start_time": "2022-02-05T13:26:20.968Z"
   },
   {
    "duration": 8,
    "start_time": "2022-02-05T13:26:23.727Z"
   },
   {
    "duration": 416,
    "start_time": "2022-02-05T13:26:24.065Z"
   },
   {
    "duration": 3,
    "start_time": "2022-02-05T13:26:28.322Z"
   },
   {
    "duration": 4,
    "start_time": "2022-02-05T13:26:28.680Z"
   },
   {
    "duration": 6,
    "start_time": "2022-02-05T13:26:29.800Z"
   },
   {
    "duration": 3,
    "start_time": "2022-02-05T13:26:30.135Z"
   },
   {
    "duration": 64,
    "start_time": "2022-02-05T13:26:31.642Z"
   },
   {
    "duration": 13,
    "start_time": "2022-02-05T13:49:06.015Z"
   },
   {
    "duration": 40,
    "start_time": "2022-02-05T14:02:16.976Z"
   },
   {
    "duration": 5,
    "start_time": "2022-02-05T14:04:38.088Z"
   },
   {
    "duration": 1241,
    "start_time": "2022-02-05T14:10:22.550Z"
   },
   {
    "duration": 3,
    "start_time": "2022-02-05T14:10:23.793Z"
   },
   {
    "duration": 549,
    "start_time": "2022-02-05T14:10:23.798Z"
   },
   {
    "duration": 14,
    "start_time": "2022-02-05T14:10:24.350Z"
   },
   {
    "duration": 5,
    "start_time": "2022-02-05T14:10:24.366Z"
   },
   {
    "duration": 9,
    "start_time": "2022-02-05T14:10:24.373Z"
   },
   {
    "duration": 10,
    "start_time": "2022-02-05T14:10:24.384Z"
   },
   {
    "duration": 12,
    "start_time": "2022-02-05T14:10:24.397Z"
   },
   {
    "duration": 36,
    "start_time": "2022-02-05T14:10:24.411Z"
   },
   {
    "duration": 10,
    "start_time": "2022-02-05T14:10:24.449Z"
   },
   {
    "duration": 23,
    "start_time": "2022-02-05T14:10:24.460Z"
   },
   {
    "duration": 15,
    "start_time": "2022-02-05T14:10:24.484Z"
   },
   {
    "duration": 30,
    "start_time": "2022-02-05T14:10:24.500Z"
   },
   {
    "duration": 22,
    "start_time": "2022-02-05T14:10:24.532Z"
   },
   {
    "duration": 8,
    "start_time": "2022-02-05T14:10:24.555Z"
   },
   {
    "duration": 6,
    "start_time": "2022-02-05T14:10:24.564Z"
   },
   {
    "duration": 62,
    "start_time": "2022-02-05T14:10:24.572Z"
   },
   {
    "duration": 97,
    "start_time": "2022-02-05T14:10:24.636Z"
   },
   {
    "duration": 136,
    "start_time": "2022-02-05T14:10:24.736Z"
   },
   {
    "duration": 17,
    "start_time": "2022-02-05T14:10:24.873Z"
   },
   {
    "duration": 57,
    "start_time": "2022-02-05T14:10:24.891Z"
   },
   {
    "duration": 25,
    "start_time": "2022-02-05T14:10:24.950Z"
   },
   {
    "duration": 6,
    "start_time": "2022-02-05T14:10:24.979Z"
   },
   {
    "duration": 9,
    "start_time": "2022-02-05T14:10:24.988Z"
   },
   {
    "duration": 5,
    "start_time": "2022-02-05T14:10:24.998Z"
   },
   {
    "duration": 24,
    "start_time": "2022-02-05T14:10:25.004Z"
   },
   {
    "duration": 11,
    "start_time": "2022-02-05T14:10:25.030Z"
   },
   {
    "duration": 11,
    "start_time": "2022-02-05T14:10:25.043Z"
   },
   {
    "duration": 6,
    "start_time": "2022-02-05T14:10:25.056Z"
   },
   {
    "duration": 10,
    "start_time": "2022-02-05T14:10:25.063Z"
   },
   {
    "duration": 9,
    "start_time": "2022-02-05T14:10:25.074Z"
   },
   {
    "duration": 7,
    "start_time": "2022-02-05T14:10:25.084Z"
   },
   {
    "duration": 39,
    "start_time": "2022-02-05T14:10:25.127Z"
   },
   {
    "duration": 30,
    "start_time": "2022-02-05T14:10:25.168Z"
   },
   {
    "duration": 60,
    "start_time": "2022-02-05T14:10:25.200Z"
   },
   {
    "duration": 111,
    "start_time": "2022-02-05T14:10:25.261Z"
   },
   {
    "duration": 53,
    "start_time": "2022-02-05T14:10:25.374Z"
   },
   {
    "duration": 38,
    "start_time": "2022-02-05T14:10:25.429Z"
   },
   {
    "duration": 440,
    "start_time": "2022-02-05T14:10:25.469Z"
   },
   {
    "duration": 164,
    "start_time": "2022-02-05T14:10:25.911Z"
   },
   {
    "duration": 57,
    "start_time": "2022-02-05T14:10:26.077Z"
   },
   {
    "duration": 16,
    "start_time": "2022-02-05T14:10:26.137Z"
   },
   {
    "duration": 48,
    "start_time": "2022-02-05T14:10:26.155Z"
   },
   {
    "duration": 28,
    "start_time": "2022-02-05T14:10:26.204Z"
   },
   {
    "duration": 43,
    "start_time": "2022-02-05T14:10:26.233Z"
   },
   {
    "duration": 27,
    "start_time": "2022-02-05T14:10:26.278Z"
   },
   {
    "duration": 23,
    "start_time": "2022-02-05T14:10:26.307Z"
   },
   {
    "duration": 14,
    "start_time": "2022-02-05T14:10:26.332Z"
   },
   {
    "duration": 6,
    "start_time": "2022-02-05T14:10:26.348Z"
   },
   {
    "duration": 147,
    "start_time": "2022-02-05T14:10:26.355Z"
   },
   {
    "duration": 24,
    "start_time": "2022-02-05T14:10:26.504Z"
   },
   {
    "duration": 23,
    "start_time": "2022-02-05T14:10:26.530Z"
   },
   {
    "duration": 16,
    "start_time": "2022-02-05T14:10:26.554Z"
   },
   {
    "duration": 56,
    "start_time": "2022-02-05T14:10:26.572Z"
   },
   {
    "duration": 9,
    "start_time": "2022-02-05T14:10:26.633Z"
   },
   {
    "duration": 46,
    "start_time": "2022-02-05T14:10:26.644Z"
   },
   {
    "duration": 61,
    "start_time": "2022-02-05T14:10:26.691Z"
   },
   {
    "duration": 816,
    "start_time": "2022-02-05T14:10:26.754Z"
   },
   {
    "duration": 556,
    "start_time": "2022-02-05T14:10:27.573Z"
   },
   {
    "duration": 9,
    "start_time": "2022-02-05T14:10:28.131Z"
   },
   {
    "duration": 20,
    "start_time": "2022-02-05T14:10:28.142Z"
   },
   {
    "duration": 7,
    "start_time": "2022-02-05T14:10:28.163Z"
   },
   {
    "duration": 24,
    "start_time": "2022-02-05T14:10:28.171Z"
   },
   {
    "duration": 48,
    "start_time": "2022-02-05T14:10:28.196Z"
   },
   {
    "duration": 54,
    "start_time": "2022-02-05T14:10:28.246Z"
   },
   {
    "duration": 8,
    "start_time": "2022-02-05T14:10:28.301Z"
   },
   {
    "duration": 142,
    "start_time": "2022-02-05T14:10:28.311Z"
   },
   {
    "duration": 5,
    "start_time": "2022-02-05T14:10:28.458Z"
   },
   {
    "duration": 267,
    "start_time": "2022-02-05T14:10:28.465Z"
   },
   {
    "duration": 3,
    "start_time": "2022-02-05T14:10:28.733Z"
   },
   {
    "duration": 22,
    "start_time": "2022-02-05T14:10:28.737Z"
   },
   {
    "duration": 8,
    "start_time": "2022-02-05T14:10:28.760Z"
   },
   {
    "duration": 7,
    "start_time": "2022-02-05T14:10:28.770Z"
   },
   {
    "duration": 44,
    "start_time": "2022-02-05T14:10:28.778Z"
   },
   {
    "duration": 17,
    "start_time": "2022-02-05T14:10:28.823Z"
   },
   {
    "duration": 1642,
    "start_time": "2022-02-05T19:36:20.249Z"
   },
   {
    "duration": 2,
    "start_time": "2022-02-05T19:36:21.893Z"
   },
   {
    "duration": 967,
    "start_time": "2022-02-05T19:36:21.897Z"
   },
   {
    "duration": 11,
    "start_time": "2022-02-05T19:36:22.866Z"
   },
   {
    "duration": 9,
    "start_time": "2022-02-05T19:36:22.879Z"
   },
   {
    "duration": 7,
    "start_time": "2022-02-05T19:36:22.890Z"
   },
   {
    "duration": 7,
    "start_time": "2022-02-05T19:36:22.898Z"
   },
   {
    "duration": 9,
    "start_time": "2022-02-05T19:36:22.907Z"
   },
   {
    "duration": 41,
    "start_time": "2022-02-05T19:36:22.918Z"
   },
   {
    "duration": 11,
    "start_time": "2022-02-05T19:36:22.961Z"
   },
   {
    "duration": 24,
    "start_time": "2022-02-05T19:36:22.973Z"
   },
   {
    "duration": 14,
    "start_time": "2022-02-05T19:36:22.999Z"
   },
   {
    "duration": 6,
    "start_time": "2022-02-05T19:36:23.015Z"
   },
   {
    "duration": 39,
    "start_time": "2022-02-05T19:36:23.022Z"
   },
   {
    "duration": 8,
    "start_time": "2022-02-05T19:36:23.063Z"
   },
   {
    "duration": 9,
    "start_time": "2022-02-05T19:36:23.072Z"
   },
   {
    "duration": 78,
    "start_time": "2022-02-05T19:36:23.083Z"
   },
   {
    "duration": 98,
    "start_time": "2022-02-05T19:36:23.163Z"
   },
   {
    "duration": 191,
    "start_time": "2022-02-05T19:36:23.263Z"
   },
   {
    "duration": 27,
    "start_time": "2022-02-05T19:36:23.458Z"
   },
   {
    "duration": 78,
    "start_time": "2022-02-05T19:36:23.487Z"
   },
   {
    "duration": 26,
    "start_time": "2022-02-05T19:36:23.567Z"
   },
   {
    "duration": 6,
    "start_time": "2022-02-05T19:36:23.597Z"
   },
   {
    "duration": 11,
    "start_time": "2022-02-05T19:36:23.606Z"
   },
   {
    "duration": 6,
    "start_time": "2022-02-05T19:36:23.619Z"
   },
   {
    "duration": 7,
    "start_time": "2022-02-05T19:36:23.626Z"
   },
   {
    "duration": 9,
    "start_time": "2022-02-05T19:36:23.659Z"
   },
   {
    "duration": 9,
    "start_time": "2022-02-05T19:36:23.670Z"
   },
   {
    "duration": 7,
    "start_time": "2022-02-05T19:36:23.680Z"
   },
   {
    "duration": 12,
    "start_time": "2022-02-05T19:36:23.688Z"
   },
   {
    "duration": 12,
    "start_time": "2022-02-05T19:36:23.702Z"
   },
   {
    "duration": 47,
    "start_time": "2022-02-05T19:36:23.716Z"
   },
   {
    "duration": 30,
    "start_time": "2022-02-05T19:36:23.765Z"
   },
   {
    "duration": 35,
    "start_time": "2022-02-05T19:36:23.797Z"
   },
   {
    "duration": 53,
    "start_time": "2022-02-05T19:36:23.833Z"
   },
   {
    "duration": 162,
    "start_time": "2022-02-05T19:36:23.888Z"
   },
   {
    "duration": 53,
    "start_time": "2022-02-05T19:36:24.052Z"
   },
   {
    "duration": 30,
    "start_time": "2022-02-05T19:36:24.107Z"
   },
   {
    "duration": 5296,
    "start_time": "2022-02-05T19:36:24.139Z"
   },
   {
    "duration": 229,
    "start_time": "2022-02-05T19:36:29.436Z"
   },
   {
    "duration": 11,
    "start_time": "2022-02-05T19:36:29.667Z"
   },
   {
    "duration": 15,
    "start_time": "2022-02-05T19:36:29.681Z"
   },
   {
    "duration": 78,
    "start_time": "2022-02-05T19:36:29.698Z"
   },
   {
    "duration": 10,
    "start_time": "2022-02-05T19:36:29.778Z"
   },
   {
    "duration": 38,
    "start_time": "2022-02-05T19:36:29.790Z"
   },
   {
    "duration": 53,
    "start_time": "2022-02-05T19:36:29.830Z"
   },
   {
    "duration": 7,
    "start_time": "2022-02-05T19:36:29.885Z"
   },
   {
    "duration": 11,
    "start_time": "2022-02-05T19:36:29.894Z"
   },
   {
    "duration": 7,
    "start_time": "2022-02-05T19:36:29.907Z"
   },
   {
    "duration": 262,
    "start_time": "2022-02-05T19:36:29.916Z"
   },
   {
    "duration": 58,
    "start_time": "2022-02-05T19:36:30.188Z"
   },
   {
    "duration": 202,
    "start_time": "2022-02-05T19:36:30.260Z"
   },
   {
    "duration": 47,
    "start_time": "2022-02-05T19:36:30.466Z"
   },
   {
    "duration": 23,
    "start_time": "2022-02-05T19:36:30.515Z"
   },
   {
    "duration": 7,
    "start_time": "2022-02-05T19:36:30.540Z"
   },
   {
    "duration": 31,
    "start_time": "2022-02-05T19:36:30.549Z"
   },
   {
    "duration": 45,
    "start_time": "2022-02-05T19:36:30.582Z"
   },
   {
    "duration": 685,
    "start_time": "2022-02-05T19:36:30.628Z"
   },
   {
    "duration": 576,
    "start_time": "2022-02-05T19:36:31.315Z"
   },
   {
    "duration": -2719,
    "start_time": "2022-02-05T19:36:34.612Z"
   },
   {
    "duration": -2725,
    "start_time": "2022-02-05T19:36:34.619Z"
   },
   {
    "duration": -2727,
    "start_time": "2022-02-05T19:36:34.622Z"
   },
   {
    "duration": -2729,
    "start_time": "2022-02-05T19:36:34.625Z"
   },
   {
    "duration": -2731,
    "start_time": "2022-02-05T19:36:34.628Z"
   },
   {
    "duration": -2732,
    "start_time": "2022-02-05T19:36:34.631Z"
   },
   {
    "duration": -2733,
    "start_time": "2022-02-05T19:36:34.633Z"
   },
   {
    "duration": -2735,
    "start_time": "2022-02-05T19:36:34.636Z"
   },
   {
    "duration": -2736,
    "start_time": "2022-02-05T19:36:34.638Z"
   },
   {
    "duration": -2738,
    "start_time": "2022-02-05T19:36:34.641Z"
   },
   {
    "duration": -2740,
    "start_time": "2022-02-05T19:36:34.644Z"
   },
   {
    "duration": -2741,
    "start_time": "2022-02-05T19:36:34.646Z"
   },
   {
    "duration": -2743,
    "start_time": "2022-02-05T19:36:34.649Z"
   },
   {
    "duration": -2744,
    "start_time": "2022-02-05T19:36:34.651Z"
   },
   {
    "duration": -2745,
    "start_time": "2022-02-05T19:36:34.653Z"
   },
   {
    "duration": -2747,
    "start_time": "2022-02-05T19:36:34.656Z"
   },
   {
    "duration": 18865,
    "start_time": "2022-02-05T19:36:55.841Z"
   },
   {
    "duration": 1191,
    "start_time": "2022-02-05T19:38:19.406Z"
   },
   {
    "duration": 66715,
    "start_time": "2022-02-05T19:38:20.598Z"
   },
   {
    "duration": 506,
    "start_time": "2022-02-05T19:39:27.316Z"
   },
   {
    "duration": 15,
    "start_time": "2022-02-05T19:39:27.824Z"
   },
   {
    "duration": 12,
    "start_time": "2022-02-05T19:39:27.840Z"
   },
   {
    "duration": 5,
    "start_time": "2022-02-05T19:39:27.858Z"
   },
   {
    "duration": 8,
    "start_time": "2022-02-05T19:39:27.865Z"
   },
   {
    "duration": 11,
    "start_time": "2022-02-05T19:39:27.876Z"
   },
   {
    "duration": 18,
    "start_time": "2022-02-05T19:39:27.889Z"
   },
   {
    "duration": 11,
    "start_time": "2022-02-05T19:39:27.908Z"
   },
   {
    "duration": 42,
    "start_time": "2022-02-05T19:39:27.920Z"
   },
   {
    "duration": 12,
    "start_time": "2022-02-05T19:39:27.963Z"
   },
   {
    "duration": 5,
    "start_time": "2022-02-05T19:39:27.977Z"
   },
   {
    "duration": 7,
    "start_time": "2022-02-05T19:39:27.984Z"
   },
   {
    "duration": 8,
    "start_time": "2022-02-05T19:39:27.992Z"
   },
   {
    "duration": 7,
    "start_time": "2022-02-05T19:39:28.001Z"
   },
   {
    "duration": 90,
    "start_time": "2022-02-05T19:39:28.010Z"
   },
   {
    "duration": 86,
    "start_time": "2022-02-05T19:39:28.102Z"
   },
   {
    "duration": 177,
    "start_time": "2022-02-05T19:39:28.189Z"
   },
   {
    "duration": 25,
    "start_time": "2022-02-05T19:39:28.368Z"
   },
   {
    "duration": 66,
    "start_time": "2022-02-05T19:39:28.394Z"
   },
   {
    "duration": 28,
    "start_time": "2022-02-05T19:39:28.462Z"
   },
   {
    "duration": 7,
    "start_time": "2022-02-05T19:39:28.494Z"
   },
   {
    "duration": 14,
    "start_time": "2022-02-05T19:39:28.503Z"
   },
   {
    "duration": 6,
    "start_time": "2022-02-05T19:39:28.518Z"
   },
   {
    "duration": 8,
    "start_time": "2022-02-05T19:39:28.525Z"
   },
   {
    "duration": 34,
    "start_time": "2022-02-05T19:39:28.534Z"
   },
   {
    "duration": 8,
    "start_time": "2022-02-05T19:39:28.570Z"
   },
   {
    "duration": 6,
    "start_time": "2022-02-05T19:39:28.580Z"
   },
   {
    "duration": 12,
    "start_time": "2022-02-05T19:39:28.588Z"
   },
   {
    "duration": 10,
    "start_time": "2022-02-05T19:39:28.601Z"
   },
   {
    "duration": 7,
    "start_time": "2022-02-05T19:39:28.612Z"
   },
   {
    "duration": 61,
    "start_time": "2022-02-05T19:39:28.620Z"
   },
   {
    "duration": 30,
    "start_time": "2022-02-05T19:39:28.683Z"
   },
   {
    "duration": 48,
    "start_time": "2022-02-05T19:39:28.715Z"
   },
   {
    "duration": 139,
    "start_time": "2022-02-05T19:39:28.765Z"
   },
   {
    "duration": 53,
    "start_time": "2022-02-05T19:39:28.906Z"
   },
   {
    "duration": 29,
    "start_time": "2022-02-05T19:39:28.960Z"
   },
   {
    "duration": 1111,
    "start_time": "2022-02-05T19:39:28.990Z"
   },
   {
    "duration": 269,
    "start_time": "2022-02-05T19:39:30.103Z"
   },
   {
    "duration": 10,
    "start_time": "2022-02-05T19:39:30.374Z"
   },
   {
    "duration": 19,
    "start_time": "2022-02-05T19:39:30.386Z"
   },
   {
    "duration": 55,
    "start_time": "2022-02-05T19:39:30.407Z"
   },
   {
    "duration": 9,
    "start_time": "2022-02-05T19:39:30.464Z"
   },
   {
    "duration": 43,
    "start_time": "2022-02-05T19:39:30.474Z"
   },
   {
    "duration": 47,
    "start_time": "2022-02-05T19:39:30.519Z"
   },
   {
    "duration": 7,
    "start_time": "2022-02-05T19:39:30.568Z"
   },
   {
    "duration": 10,
    "start_time": "2022-02-05T19:39:30.576Z"
   },
   {
    "duration": 6,
    "start_time": "2022-02-05T19:39:30.588Z"
   },
   {
    "duration": 224,
    "start_time": "2022-02-05T19:39:30.596Z"
   },
   {
    "duration": 25,
    "start_time": "2022-02-05T19:39:30.822Z"
   },
   {
    "duration": 23,
    "start_time": "2022-02-05T19:39:30.858Z"
   },
   {
    "duration": 20,
    "start_time": "2022-02-05T19:39:30.883Z"
   },
   {
    "duration": 22,
    "start_time": "2022-02-05T19:39:30.905Z"
   },
   {
    "duration": 7,
    "start_time": "2022-02-05T19:39:30.929Z"
   },
   {
    "duration": 48,
    "start_time": "2022-02-05T19:39:30.937Z"
   },
   {
    "duration": 38,
    "start_time": "2022-02-05T19:39:30.987Z"
   },
   {
    "duration": 713,
    "start_time": "2022-02-05T19:39:31.027Z"
   },
   {
    "duration": 365,
    "start_time": "2022-02-05T19:39:31.742Z"
   },
   {
    "duration": 6,
    "start_time": "2022-02-05T19:39:32.109Z"
   },
   {
    "duration": 12,
    "start_time": "2022-02-05T19:39:32.117Z"
   },
   {
    "duration": 11,
    "start_time": "2022-02-05T19:39:32.131Z"
   },
   {
    "duration": 23,
    "start_time": "2022-02-05T19:39:32.159Z"
   },
   {
    "duration": 22,
    "start_time": "2022-02-05T19:39:32.184Z"
   },
   {
    "duration": 76,
    "start_time": "2022-02-05T19:39:32.208Z"
   },
   {
    "duration": 8,
    "start_time": "2022-02-05T19:39:32.286Z"
   },
   {
    "duration": 145,
    "start_time": "2022-02-05T19:39:32.296Z"
   },
   {
    "duration": 16,
    "start_time": "2022-02-05T19:39:32.445Z"
   },
   {
    "duration": 313,
    "start_time": "2022-02-05T19:39:32.462Z"
   },
   {
    "duration": 2,
    "start_time": "2022-02-05T19:39:32.777Z"
   },
   {
    "duration": 6,
    "start_time": "2022-02-05T19:39:32.781Z"
   },
   {
    "duration": 6,
    "start_time": "2022-02-05T19:39:32.788Z"
   },
   {
    "duration": 5,
    "start_time": "2022-02-05T19:39:32.795Z"
   },
   {
    "duration": 58,
    "start_time": "2022-02-05T19:39:32.802Z"
   },
   {
    "duration": 12,
    "start_time": "2022-02-05T19:39:32.861Z"
   }
  ],
  "kernelspec": {
   "display_name": "Python 3 (ipykernel)",
   "language": "python",
   "name": "python3"
  },
  "language_info": {
   "codemirror_mode": {
    "name": "ipython",
    "version": 3
   },
   "file_extension": ".py",
   "mimetype": "text/x-python",
   "name": "python",
   "nbconvert_exporter": "python",
   "pygments_lexer": "ipython3",
   "version": "3.9.7"
  },
  "toc": {
   "base_numbering": 1,
   "nav_menu": {},
   "number_sections": true,
   "sideBar": true,
   "skip_h1_title": true,
   "title_cell": "Table of Contents",
   "title_sidebar": "Contents",
   "toc_cell": false,
   "toc_position": {},
   "toc_section_display": true,
   "toc_window_display": false
  }
 },
 "nbformat": 4,
 "nbformat_minor": 2
}
