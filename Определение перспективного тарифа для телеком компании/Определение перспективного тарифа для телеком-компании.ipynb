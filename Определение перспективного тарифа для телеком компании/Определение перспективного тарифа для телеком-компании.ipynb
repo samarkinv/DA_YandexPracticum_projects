{
 "cells": [
  {
   "cell_type": "markdown",
   "metadata": {},
   "source": [
    "# Определение перспективного тарифа для телеком компании"
   ]
  },
  {
   "cell_type": "markdown",
   "metadata": {},
   "source": [
    "## 1. Обзор данных и предобработка"
   ]
  },
  {
   "cell_type": "markdown",
   "metadata": {},
   "source": [
    "**Библиотеки**"
   ]
  },
  {
   "cell_type": "code",
   "execution_count": 1,
   "metadata": {},
   "outputs": [],
   "source": [
    "import pandas as pd\n",
    "import math\n",
    "import numpy as np\n",
    "import matplotlib.pyplot as plt\n",
    "from scipy import stats as st"
   ]
  },
  {
   "cell_type": "markdown",
   "metadata": {},
   "source": [
    "**Таблицы**"
   ]
  },
  {
   "cell_type": "code",
   "execution_count": 2,
   "metadata": {},
   "outputs": [],
   "source": [
    "data_calls = pd.read_csv('calls.csv')\n",
    "data_internet = pd.read_csv('internet.csv')\n",
    "data_messages = pd.read_csv('messages.csv')\n",
    "data_tariffs = pd.read_csv('tariffs.csv')\n",
    "data_users = pd.read_csv('users.csv')"
   ]
  },
  {
   "cell_type": "markdown",
   "metadata": {},
   "source": [
    "### Информация о звонках"
   ]
  },
  {
   "cell_type": "code",
   "execution_count": 3,
   "metadata": {},
   "outputs": [
    {
     "data": {
      "text/html": [
       "<div>\n",
       "<style scoped>\n",
       "    .dataframe tbody tr th:only-of-type {\n",
       "        vertical-align: middle;\n",
       "    }\n",
       "\n",
       "    .dataframe tbody tr th {\n",
       "        vertical-align: top;\n",
       "    }\n",
       "\n",
       "    .dataframe thead th {\n",
       "        text-align: right;\n",
       "    }\n",
       "</style>\n",
       "<table border=\"1\" class=\"dataframe\">\n",
       "  <thead>\n",
       "    <tr style=\"text-align: right;\">\n",
       "      <th></th>\n",
       "      <th>id</th>\n",
       "      <th>call_date</th>\n",
       "      <th>duration</th>\n",
       "      <th>user_id</th>\n",
       "    </tr>\n",
       "  </thead>\n",
       "  <tbody>\n",
       "    <tr>\n",
       "      <th>0</th>\n",
       "      <td>1000_0</td>\n",
       "      <td>2018-07-25</td>\n",
       "      <td>0.00</td>\n",
       "      <td>1000</td>\n",
       "    </tr>\n",
       "    <tr>\n",
       "      <th>1</th>\n",
       "      <td>1000_1</td>\n",
       "      <td>2018-08-17</td>\n",
       "      <td>0.00</td>\n",
       "      <td>1000</td>\n",
       "    </tr>\n",
       "    <tr>\n",
       "      <th>2</th>\n",
       "      <td>1000_2</td>\n",
       "      <td>2018-06-11</td>\n",
       "      <td>2.85</td>\n",
       "      <td>1000</td>\n",
       "    </tr>\n",
       "    <tr>\n",
       "      <th>3</th>\n",
       "      <td>1000_3</td>\n",
       "      <td>2018-09-21</td>\n",
       "      <td>13.80</td>\n",
       "      <td>1000</td>\n",
       "    </tr>\n",
       "    <tr>\n",
       "      <th>4</th>\n",
       "      <td>1000_4</td>\n",
       "      <td>2018-12-15</td>\n",
       "      <td>5.18</td>\n",
       "      <td>1000</td>\n",
       "    </tr>\n",
       "  </tbody>\n",
       "</table>\n",
       "</div>"
      ],
      "text/plain": [
       "       id   call_date  duration  user_id\n",
       "0  1000_0  2018-07-25      0.00     1000\n",
       "1  1000_1  2018-08-17      0.00     1000\n",
       "2  1000_2  2018-06-11      2.85     1000\n",
       "3  1000_3  2018-09-21     13.80     1000\n",
       "4  1000_4  2018-12-15      5.18     1000"
      ]
     },
     "execution_count": 3,
     "metadata": {},
     "output_type": "execute_result"
    }
   ],
   "source": [
    "data_calls.head(5)"
   ]
  },
  {
   "cell_type": "code",
   "execution_count": 4,
   "metadata": {},
   "outputs": [
    {
     "name": "stdout",
     "output_type": "stream",
     "text": [
      "<class 'pandas.core.frame.DataFrame'>\n",
      "RangeIndex: 202607 entries, 0 to 202606\n",
      "Data columns (total 4 columns):\n",
      " #   Column     Non-Null Count   Dtype  \n",
      "---  ------     --------------   -----  \n",
      " 0   id         202607 non-null  object \n",
      " 1   call_date  202607 non-null  object \n",
      " 2   duration   202607 non-null  float64\n",
      " 3   user_id    202607 non-null  int64  \n",
      "dtypes: float64(1), int64(1), object(2)\n",
      "memory usage: 6.2+ MB\n"
     ]
    }
   ],
   "source": [
    "data_calls.info()"
   ]
  },
  {
   "cell_type": "code",
   "execution_count": 5,
   "metadata": {},
   "outputs": [
    {
     "data": {
      "text/plain": [
       "0"
      ]
     },
     "execution_count": 5,
     "metadata": {},
     "output_type": "execute_result"
    }
   ],
   "source": [
    "data_calls.duplicated().sum()"
   ]
  },
  {
   "cell_type": "markdown",
   "metadata": {},
   "source": [
    "На всякий случай отдельно посмотрим на столбец duration на предмет аномалий"
   ]
  },
  {
   "cell_type": "code",
   "execution_count": 6,
   "metadata": {},
   "outputs": [
    {
     "data": {
      "image/png": "[encoded data removed]",
      "text/plain": [
       "<Figure size 432x288 with 1 Axes>"
      ]
     },
     "metadata": {
      "needs_background": "light"
     },
     "output_type": "display_data"
    }
   ],
   "source": [
    "data_calls['duration'].hist(bins=50)\n",
    "plt.title('Гистограмма распределения длительности звонков')\n",
    "plt.xlabel('Длительность звонка (сек.)');"
   ]
  },
  {
   "cell_type": "markdown",
   "metadata": {},
   "source": [
    "**Что исправить**\n",
    "1. Нужно привести дату к типу datetime, чтобы с ней было удобно работать\n",
    "2. Длительность всех звонков надо округлить в большую сторону до целого числа. Оператор всегда округляет их до минуты, даже если звонок длится 1 секнуду. После округления можно перевести весь столбец в int.\n",
    "\n",
    "Кроме того, на гистограмме мы видим очень много звонков с нулевой продолжительностью. В описании проекта было сказано, что это не ошибка, а просто пропущенные звонки и удалять их не нужно. "
   ]
  },
  {
   "cell_type": "code",
   "execution_count": 7,
   "metadata": {},
   "outputs": [],
   "source": [
    "data_calls['call_date'] = pd.to_datetime(data_calls['call_date'], format='%Y-%m-%d')"
   ]
  },
  {
   "cell_type": "code",
   "execution_count": 8,
   "metadata": {},
   "outputs": [],
   "source": [
    "data_calls['duration'] = data_calls['duration'].apply(math.ceil)\n",
    "data_calls['duration'] = data_calls['duration'].astype('int')"
   ]
  },
  {
   "cell_type": "markdown",
   "metadata": {},
   "source": [
    "### Информация об интернет-сессиях"
   ]
  },
  {
   "cell_type": "code",
   "execution_count": 9,
   "metadata": {},
   "outputs": [
    {
     "data": {
      "text/html": [
       "<div>\n",
       "<style scoped>\n",
       "    .dataframe tbody tr th:only-of-type {\n",
       "        vertical-align: middle;\n",
       "    }\n",
       "\n",
       "    .dataframe tbody tr th {\n",
       "        vertical-align: top;\n",
       "    }\n",
       "\n",
       "    .dataframe thead th {\n",
       "        text-align: right;\n",
       "    }\n",
       "</style>\n",
       "<table border=\"1\" class=\"dataframe\">\n",
       "  <thead>\n",
       "    <tr style=\"text-align: right;\">\n",
       "      <th></th>\n",
       "      <th>Unnamed: 0</th>\n",
       "      <th>id</th>\n",
       "      <th>mb_used</th>\n",
       "      <th>session_date</th>\n",
       "      <th>user_id</th>\n",
       "    </tr>\n",
       "  </thead>\n",
       "  <tbody>\n",
       "    <tr>\n",
       "      <th>0</th>\n",
       "      <td>0</td>\n",
       "      <td>1000_0</td>\n",
       "      <td>112.95</td>\n",
       "      <td>2018-11-25</td>\n",
       "      <td>1000</td>\n",
       "    </tr>\n",
       "    <tr>\n",
       "      <th>1</th>\n",
       "      <td>1</td>\n",
       "      <td>1000_1</td>\n",
       "      <td>1052.81</td>\n",
       "      <td>2018-09-07</td>\n",
       "      <td>1000</td>\n",
       "    </tr>\n",
       "    <tr>\n",
       "      <th>2</th>\n",
       "      <td>2</td>\n",
       "      <td>1000_2</td>\n",
       "      <td>1197.26</td>\n",
       "      <td>2018-06-25</td>\n",
       "      <td>1000</td>\n",
       "    </tr>\n",
       "    <tr>\n",
       "      <th>3</th>\n",
       "      <td>3</td>\n",
       "      <td>1000_3</td>\n",
       "      <td>550.27</td>\n",
       "      <td>2018-08-22</td>\n",
       "      <td>1000</td>\n",
       "    </tr>\n",
       "    <tr>\n",
       "      <th>4</th>\n",
       "      <td>4</td>\n",
       "      <td>1000_4</td>\n",
       "      <td>302.56</td>\n",
       "      <td>2018-09-24</td>\n",
       "      <td>1000</td>\n",
       "    </tr>\n",
       "  </tbody>\n",
       "</table>\n",
       "</div>"
      ],
      "text/plain": [
       "   Unnamed: 0      id  mb_used session_date  user_id\n",
       "0           0  1000_0   112.95   2018-11-25     1000\n",
       "1           1  1000_1  1052.81   2018-09-07     1000\n",
       "2           2  1000_2  1197.26   2018-06-25     1000\n",
       "3           3  1000_3   550.27   2018-08-22     1000\n",
       "4           4  1000_4   302.56   2018-09-24     1000"
      ]
     },
     "execution_count": 9,
     "metadata": {},
     "output_type": "execute_result"
    }
   ],
   "source": [
    "data_internet.head(5)"
   ]
  },
  {
   "cell_type": "code",
   "execution_count": 10,
   "metadata": {},
   "outputs": [
    {
     "name": "stdout",
     "output_type": "stream",
     "text": [
      "<class 'pandas.core.frame.DataFrame'>\n",
      "RangeIndex: 149396 entries, 0 to 149395\n",
      "Data columns (total 5 columns):\n",
      " #   Column        Non-Null Count   Dtype  \n",
      "---  ------        --------------   -----  \n",
      " 0   Unnamed: 0    149396 non-null  int64  \n",
      " 1   id            149396 non-null  object \n",
      " 2   mb_used       149396 non-null  float64\n",
      " 3   session_date  149396 non-null  object \n",
      " 4   user_id       149396 non-null  int64  \n",
      "dtypes: float64(1), int64(2), object(2)\n",
      "memory usage: 5.7+ MB\n"
     ]
    }
   ],
   "source": [
    "data_internet.info()"
   ]
  },
  {
   "cell_type": "code",
   "execution_count": 11,
   "metadata": {},
   "outputs": [
    {
     "name": "stdout",
     "output_type": "stream",
     "text": [
      "Количество дубликатов = 0\n"
     ]
    }
   ],
   "source": [
    "print('Количество дубликатов =', data_internet.duplicated().sum())"
   ]
  },
  {
   "cell_type": "markdown",
   "metadata": {},
   "source": [
    "Снова на всякий случай отдельно посмотрим на столбец mb_used на предмет ошибок"
   ]
  },
  {
   "cell_type": "code",
   "execution_count": 12,
   "metadata": {},
   "outputs": [
    {
     "data": {
      "image/png": "[encoded data removed]",
      "text/plain": [
       "<Figure size 432x288 with 1 Axes>"
      ]
     },
     "metadata": {
      "needs_background": "light"
     },
     "output_type": "display_data"
    }
   ],
   "source": [
    "data_internet['mb_used'].hist(bins=50)\n",
    "plt.title('Гистограмма распределения скаченных мегайбайт в течении одной сессии')\n",
    "plt.xlabel('Кол-во мегабайт');"
   ]
  },
  {
   "cell_type": "markdown",
   "metadata": {},
   "source": [
    "Снова есть нулевые значения. Возможно, это сессии, которые начались и тут же закончились: устройство не успело принять или передать данные. Округлять траффик сейчас не будем, потому что по правилу оператора, это делается не с отдельными сессиями, а по итогам месяца. "
   ]
  },
  {
   "cell_type": "markdown",
   "metadata": {},
   "source": [
    "**Что исправить**\n",
    "1. Нужно перевести столбец с датой в дейттайм\n",
    "2. В таблице есть столбец \"Unnamed:0\", который, судя по всему, просто повторяет индексацию каждой строки. Нам он для дальнейше работы не нужен."
   ]
  },
  {
   "cell_type": "code",
   "execution_count": 13,
   "metadata": {},
   "outputs": [],
   "source": [
    "data_internet['session_date'] = pd.to_datetime(data_internet['session_date'], format='%Y-%m-%d')"
   ]
  },
  {
   "cell_type": "code",
   "execution_count": 14,
   "metadata": {},
   "outputs": [],
   "source": [
    "data_internet = data_internet[['id','mb_used','session_date', 'user_id']]"
   ]
  },
  {
   "cell_type": "markdown",
   "metadata": {},
   "source": [
    "### Информация о сообщениях"
   ]
  },
  {
   "cell_type": "code",
   "execution_count": 15,
   "metadata": {},
   "outputs": [
    {
     "data": {
      "text/html": [
       "<div>\n",
       "<style scoped>\n",
       "    .dataframe tbody tr th:only-of-type {\n",
       "        vertical-align: middle;\n",
       "    }\n",
       "\n",
       "    .dataframe tbody tr th {\n",
       "        vertical-align: top;\n",
       "    }\n",
       "\n",
       "    .dataframe thead th {\n",
       "        text-align: right;\n",
       "    }\n",
       "</style>\n",
       "<table border=\"1\" class=\"dataframe\">\n",
       "  <thead>\n",
       "    <tr style=\"text-align: right;\">\n",
       "      <th></th>\n",
       "      <th>id</th>\n",
       "      <th>message_date</th>\n",
       "      <th>user_id</th>\n",
       "    </tr>\n",
       "  </thead>\n",
       "  <tbody>\n",
       "    <tr>\n",
       "      <th>116243</th>\n",
       "      <td>1472_547</td>\n",
       "      <td>2018-08-17</td>\n",
       "      <td>1472</td>\n",
       "    </tr>\n",
       "    <tr>\n",
       "      <th>106531</th>\n",
       "      <td>1431_273</td>\n",
       "      <td>2018-05-05</td>\n",
       "      <td>1431</td>\n",
       "    </tr>\n",
       "    <tr>\n",
       "      <th>119762</th>\n",
       "      <td>1484_283</td>\n",
       "      <td>2018-09-07</td>\n",
       "      <td>1484</td>\n",
       "    </tr>\n",
       "    <tr>\n",
       "      <th>15475</th>\n",
       "      <td>1066_217</td>\n",
       "      <td>2018-06-29</td>\n",
       "      <td>1066</td>\n",
       "    </tr>\n",
       "    <tr>\n",
       "      <th>13227</th>\n",
       "      <td>1055_193</td>\n",
       "      <td>2018-12-04</td>\n",
       "      <td>1055</td>\n",
       "    </tr>\n",
       "  </tbody>\n",
       "</table>\n",
       "</div>"
      ],
      "text/plain": [
       "              id message_date  user_id\n",
       "116243  1472_547   2018-08-17     1472\n",
       "106531  1431_273   2018-05-05     1431\n",
       "119762  1484_283   2018-09-07     1484\n",
       "15475   1066_217   2018-06-29     1066\n",
       "13227   1055_193   2018-12-04     1055"
      ]
     },
     "execution_count": 15,
     "metadata": {},
     "output_type": "execute_result"
    }
   ],
   "source": [
    "data_messages.sample(5)"
   ]
  },
  {
   "cell_type": "code",
   "execution_count": 16,
   "metadata": {},
   "outputs": [
    {
     "name": "stdout",
     "output_type": "stream",
     "text": [
      "<class 'pandas.core.frame.DataFrame'>\n",
      "RangeIndex: 123036 entries, 0 to 123035\n",
      "Data columns (total 3 columns):\n",
      " #   Column        Non-Null Count   Dtype \n",
      "---  ------        --------------   ----- \n",
      " 0   id            123036 non-null  object\n",
      " 1   message_date  123036 non-null  object\n",
      " 2   user_id       123036 non-null  int64 \n",
      "dtypes: int64(1), object(2)\n",
      "memory usage: 2.8+ MB\n"
     ]
    }
   ],
   "source": [
    "data_messages.info()"
   ]
  },
  {
   "cell_type": "code",
   "execution_count": 17,
   "metadata": {},
   "outputs": [
    {
     "name": "stdout",
     "output_type": "stream",
     "text": [
      "Количество дубликатов = 0\n"
     ]
    }
   ],
   "source": [
    "print('Количество дубликатов =', data_messages.duplicated().sum())"
   ]
  },
  {
   "cell_type": "markdown",
   "metadata": {},
   "source": [
    "**Что исправить**\n",
    "1. Нужно изменить тип столбца с датой в дейттайм"
   ]
  },
  {
   "cell_type": "code",
   "execution_count": 18,
   "metadata": {},
   "outputs": [],
   "source": [
    "data_messages['message_date'] = pd.to_datetime(data_messages['message_date'], format='%Y-%m-%d')"
   ]
  },
  {
   "cell_type": "markdown",
   "metadata": {},
   "source": [
    "### Информация о пользователях"
   ]
  },
  {
   "cell_type": "code",
   "execution_count": 19,
   "metadata": {},
   "outputs": [
    {
     "data": {
      "text/html": [
       "<div>\n",
       "<style scoped>\n",
       "    .dataframe tbody tr th:only-of-type {\n",
       "        vertical-align: middle;\n",
       "    }\n",
       "\n",
       "    .dataframe tbody tr th {\n",
       "        vertical-align: top;\n",
       "    }\n",
       "\n",
       "    .dataframe thead th {\n",
       "        text-align: right;\n",
       "    }\n",
       "</style>\n",
       "<table border=\"1\" class=\"dataframe\">\n",
       "  <thead>\n",
       "    <tr style=\"text-align: right;\">\n",
       "      <th></th>\n",
       "      <th>user_id</th>\n",
       "      <th>age</th>\n",
       "      <th>churn_date</th>\n",
       "      <th>city</th>\n",
       "      <th>first_name</th>\n",
       "      <th>last_name</th>\n",
       "      <th>reg_date</th>\n",
       "      <th>tariff</th>\n",
       "    </tr>\n",
       "  </thead>\n",
       "  <tbody>\n",
       "    <tr>\n",
       "      <th>0</th>\n",
       "      <td>1000</td>\n",
       "      <td>52</td>\n",
       "      <td>NaN</td>\n",
       "      <td>Краснодар</td>\n",
       "      <td>Рафаил</td>\n",
       "      <td>Верещагин</td>\n",
       "      <td>2018-05-25</td>\n",
       "      <td>ultra</td>\n",
       "    </tr>\n",
       "    <tr>\n",
       "      <th>1</th>\n",
       "      <td>1001</td>\n",
       "      <td>41</td>\n",
       "      <td>NaN</td>\n",
       "      <td>Москва</td>\n",
       "      <td>Иван</td>\n",
       "      <td>Ежов</td>\n",
       "      <td>2018-11-01</td>\n",
       "      <td>smart</td>\n",
       "    </tr>\n",
       "    <tr>\n",
       "      <th>2</th>\n",
       "      <td>1002</td>\n",
       "      <td>59</td>\n",
       "      <td>NaN</td>\n",
       "      <td>Стерлитамак</td>\n",
       "      <td>Евгений</td>\n",
       "      <td>Абрамович</td>\n",
       "      <td>2018-06-17</td>\n",
       "      <td>smart</td>\n",
       "    </tr>\n",
       "    <tr>\n",
       "      <th>3</th>\n",
       "      <td>1003</td>\n",
       "      <td>23</td>\n",
       "      <td>NaN</td>\n",
       "      <td>Москва</td>\n",
       "      <td>Белла</td>\n",
       "      <td>Белякова</td>\n",
       "      <td>2018-08-17</td>\n",
       "      <td>ultra</td>\n",
       "    </tr>\n",
       "    <tr>\n",
       "      <th>4</th>\n",
       "      <td>1004</td>\n",
       "      <td>68</td>\n",
       "      <td>NaN</td>\n",
       "      <td>Новокузнецк</td>\n",
       "      <td>Татьяна</td>\n",
       "      <td>Авдеенко</td>\n",
       "      <td>2018-05-14</td>\n",
       "      <td>ultra</td>\n",
       "    </tr>\n",
       "  </tbody>\n",
       "</table>\n",
       "</div>"
      ],
      "text/plain": [
       "   user_id  age churn_date         city first_name  last_name    reg_date  \\\n",
       "0     1000   52        NaN    Краснодар     Рафаил  Верещагин  2018-05-25   \n",
       "1     1001   41        NaN       Москва       Иван       Ежов  2018-11-01   \n",
       "2     1002   59        NaN  Стерлитамак    Евгений  Абрамович  2018-06-17   \n",
       "3     1003   23        NaN       Москва      Белла   Белякова  2018-08-17   \n",
       "4     1004   68        NaN  Новокузнецк    Татьяна   Авдеенко  2018-05-14   \n",
       "\n",
       "  tariff  \n",
       "0  ultra  \n",
       "1  smart  \n",
       "2  smart  \n",
       "3  ultra  \n",
       "4  ultra  "
      ]
     },
     "execution_count": 19,
     "metadata": {},
     "output_type": "execute_result"
    }
   ],
   "source": [
    "data_users.head(5)"
   ]
  },
  {
   "cell_type": "code",
   "execution_count": 20,
   "metadata": {},
   "outputs": [
    {
     "name": "stdout",
     "output_type": "stream",
     "text": [
      "<class 'pandas.core.frame.DataFrame'>\n",
      "RangeIndex: 500 entries, 0 to 499\n",
      "Data columns (total 8 columns):\n",
      " #   Column      Non-Null Count  Dtype \n",
      "---  ------      --------------  ----- \n",
      " 0   user_id     500 non-null    int64 \n",
      " 1   age         500 non-null    int64 \n",
      " 2   churn_date  38 non-null     object\n",
      " 3   city        500 non-null    object\n",
      " 4   first_name  500 non-null    object\n",
      " 5   last_name   500 non-null    object\n",
      " 6   reg_date    500 non-null    object\n",
      " 7   tariff      500 non-null    object\n",
      "dtypes: int64(2), object(6)\n",
      "memory usage: 31.4+ KB\n"
     ]
    }
   ],
   "source": [
    "data_users.info()"
   ]
  },
  {
   "cell_type": "code",
   "execution_count": 21,
   "metadata": {},
   "outputs": [
    {
     "name": "stdout",
     "output_type": "stream",
     "text": [
      "Количество дубликатов = 0\n"
     ]
    }
   ],
   "source": [
    "print('Количество дубликатов =', data_users.duplicated().sum())"
   ]
  },
  {
   "cell_type": "markdown",
   "metadata": {},
   "source": [
    "**Что сделать**\n",
    "1. Столбец reg_date - перевести в дейттайм\n",
    "2. Столбец churn_date - перевести в дейттайм\n",
    "3. Проверить названия городов, чтобы не было дублей, и мы могли группировать по ним\n",
    "4. Проверить написание наваний тарифов\n",
    "5. На всякий случай посмотрим еще и возраст"
   ]
  },
  {
   "cell_type": "code",
   "execution_count": 22,
   "metadata": {},
   "outputs": [],
   "source": [
    "data_users['reg_date'] = pd.to_datetime(data_users['reg_date'], format='%Y-%m-%d')"
   ]
  },
  {
   "cell_type": "code",
   "execution_count": 23,
   "metadata": {},
   "outputs": [],
   "source": [
    "data_users['churn_date'] = pd.to_datetime(data_users['churn_date'], format='%Y-%m-%d')"
   ]
  },
  {
   "cell_type": "code",
   "execution_count": 24,
   "metadata": {},
   "outputs": [
    {
     "data": {
      "text/plain": [
       "array(['Краснодар', 'Москва', 'Стерлитамак', 'Новокузнецк',\n",
       "       'Набережные Челны', 'Ульяновск', 'Челябинск', 'Пермь', 'Тюмень',\n",
       "       'Самара', 'Санкт-Петербург', 'Иваново', 'Чебоксары', 'Омск', 'Уфа',\n",
       "       'Томск', 'Чита', 'Мурманск', 'Петрозаводск', 'Тверь',\n",
       "       'Екатеринбург', 'Махачкала', 'Вологда', 'Череповец', 'Ярославль',\n",
       "       'Сочи', 'Хабаровск', 'Ставрополь', 'Рязань', 'Улан-Удэ', 'Тула',\n",
       "       'Саратов', 'Ростов-на-Дону', 'Казань', 'Иркутск', 'Курск',\n",
       "       'Калуга', 'Якутск', 'Астрахань', 'Химки', 'Владикавказ',\n",
       "       'Волгоград', 'Саранск', 'Ижевск', 'Новосибирск', 'Брянск',\n",
       "       'Тольятти', 'Нижний Тагил', 'Орёл', 'Белгород', 'Воронеж',\n",
       "       'Волжский', 'Курган', 'Барнаул', 'Красноярск', 'Архангельск',\n",
       "       'Липецк', 'Кемерово', 'Киров', 'Сургут', 'Пенза', 'Магнитогорск',\n",
       "       'Нижний Новгород', 'Кострома', 'Владивосток', 'Тамбов', 'Балашиха',\n",
       "       'Севастополь', 'Калининград', 'Оренбург', 'Смоленск',\n",
       "       'Нижневартовск', 'Владимир', 'Новороссийск', 'Грозный', 'Подольск'],\n",
       "      dtype=object)"
      ]
     },
     "execution_count": 24,
     "metadata": {},
     "output_type": "execute_result"
    }
   ],
   "source": [
    "data_users['city'].unique()"
   ]
  },
  {
   "cell_type": "code",
   "execution_count": 25,
   "metadata": {},
   "outputs": [
    {
     "data": {
      "text/plain": [
       "array(['ultra', 'smart'], dtype=object)"
      ]
     },
     "execution_count": 25,
     "metadata": {},
     "output_type": "execute_result"
    }
   ],
   "source": [
    "data_users['tariff'].unique()"
   ]
  },
  {
   "cell_type": "code",
   "execution_count": 26,
   "metadata": {},
   "outputs": [
    {
     "data": {
      "text/plain": [
       "count    500.00000\n",
       "mean      46.58800\n",
       "std       16.66763\n",
       "min       18.00000\n",
       "25%       32.00000\n",
       "50%       46.00000\n",
       "75%       62.00000\n",
       "max       75.00000\n",
       "Name: age, dtype: float64"
      ]
     },
     "execution_count": 26,
     "metadata": {},
     "output_type": "execute_result"
    }
   ],
   "source": [
    "data_users['age'].describe()"
   ]
  },
  {
   "cell_type": "markdown",
   "metadata": {},
   "source": [
    "С названиями все ок. Возраст тоже в норме. "
   ]
  },
  {
   "cell_type": "markdown",
   "metadata": {},
   "source": [
    "### Информация о тарифах"
   ]
  },
  {
   "cell_type": "code",
   "execution_count": 27,
   "metadata": {},
   "outputs": [
    {
     "data": {
      "text/html": [
       "<div>\n",
       "<style scoped>\n",
       "    .dataframe tbody tr th:only-of-type {\n",
       "        vertical-align: middle;\n",
       "    }\n",
       "\n",
       "    .dataframe tbody tr th {\n",
       "        vertical-align: top;\n",
       "    }\n",
       "\n",
       "    .dataframe thead th {\n",
       "        text-align: right;\n",
       "    }\n",
       "</style>\n",
       "<table border=\"1\" class=\"dataframe\">\n",
       "  <thead>\n",
       "    <tr style=\"text-align: right;\">\n",
       "      <th></th>\n",
       "      <th>messages_included</th>\n",
       "      <th>mb_per_month_included</th>\n",
       "      <th>minutes_included</th>\n",
       "      <th>rub_monthly_fee</th>\n",
       "      <th>rub_per_gb</th>\n",
       "      <th>rub_per_message</th>\n",
       "      <th>rub_per_minute</th>\n",
       "      <th>tariff_name</th>\n",
       "    </tr>\n",
       "  </thead>\n",
       "  <tbody>\n",
       "    <tr>\n",
       "      <th>0</th>\n",
       "      <td>50</td>\n",
       "      <td>15360</td>\n",
       "      <td>500</td>\n",
       "      <td>550</td>\n",
       "      <td>200</td>\n",
       "      <td>3</td>\n",
       "      <td>3</td>\n",
       "      <td>smart</td>\n",
       "    </tr>\n",
       "    <tr>\n",
       "      <th>1</th>\n",
       "      <td>1000</td>\n",
       "      <td>30720</td>\n",
       "      <td>3000</td>\n",
       "      <td>1950</td>\n",
       "      <td>150</td>\n",
       "      <td>1</td>\n",
       "      <td>1</td>\n",
       "      <td>ultra</td>\n",
       "    </tr>\n",
       "  </tbody>\n",
       "</table>\n",
       "</div>"
      ],
      "text/plain": [
       "   messages_included  mb_per_month_included  minutes_included  \\\n",
       "0                 50                  15360               500   \n",
       "1               1000                  30720              3000   \n",
       "\n",
       "   rub_monthly_fee  rub_per_gb  rub_per_message  rub_per_minute tariff_name  \n",
       "0              550         200                3               3       smart  \n",
       "1             1950         150                1               1       ultra  "
      ]
     },
     "execution_count": 27,
     "metadata": {},
     "output_type": "execute_result"
    }
   ],
   "source": [
    "data_tariffs"
   ]
  },
  {
   "cell_type": "code",
   "execution_count": 28,
   "metadata": {},
   "outputs": [
    {
     "name": "stdout",
     "output_type": "stream",
     "text": [
      "<class 'pandas.core.frame.DataFrame'>\n",
      "RangeIndex: 2 entries, 0 to 1\n",
      "Data columns (total 8 columns):\n",
      " #   Column                 Non-Null Count  Dtype \n",
      "---  ------                 --------------  ----- \n",
      " 0   messages_included      2 non-null      int64 \n",
      " 1   mb_per_month_included  2 non-null      int64 \n",
      " 2   minutes_included       2 non-null      int64 \n",
      " 3   rub_monthly_fee        2 non-null      int64 \n",
      " 4   rub_per_gb             2 non-null      int64 \n",
      " 5   rub_per_message        2 non-null      int64 \n",
      " 6   rub_per_minute         2 non-null      int64 \n",
      " 7   tariff_name            2 non-null      object\n",
      "dtypes: int64(7), object(1)\n",
      "memory usage: 256.0+ bytes\n"
     ]
    }
   ],
   "source": [
    "data_tariffs.info()"
   ]
  },
  {
   "cell_type": "markdown",
   "metadata": {},
   "source": [
    "Здесь все ок - маленькая табличка с нужными параметрами тарифов"
   ]
  },
  {
   "cell_type": "markdown",
   "metadata": {},
   "source": [
    "## 3. Добавляем расчеты"
   ]
  },
  {
   "cell_type": "markdown",
   "metadata": {},
   "source": [
    "Задача этапа - посчитать для каждого пользователя: \n",
    "- количество сделанных звонков и израсходованных минут разговора по месяцам;\n",
    "- количество отправленных сообщений по месяцам;\n",
    "- объем израсходованного интернет-трафика по месяцам;\n",
    "- помесячную выручку с каждого пользователя (вычтите бесплатный лимит из суммарного количества звонков, сообщений и интернет-трафика; остаток умножьте на значение из тарифного плана; прибавьте абонентскую плату, соответствующую тарифному плану)."
   ]
  },
  {
   "cell_type": "markdown",
   "metadata": {},
   "source": [
    "### Звонки\n",
    "Добавляем количество сделанных звонков и израсходованных минут разговора по месяцам."
   ]
  },
  {
   "cell_type": "markdown",
   "metadata": {},
   "source": [
    "Чтобы агрегировать по месяцам, нужно добавить отдельный столбец с месяцем звонка"
   ]
  },
  {
   "cell_type": "code",
   "execution_count": 29,
   "metadata": {},
   "outputs": [],
   "source": [
    "data_calls['month'] = data_calls['call_date'].dt.month"
   ]
  },
  {
   "cell_type": "code",
   "execution_count": 30,
   "metadata": {},
   "outputs": [],
   "source": [
    "data_calls_pivot = data_calls.pivot_table(index=['user_id','month'], \n",
    "                       values=['duration', 'id'], \n",
    "                       aggfunc={'duration' : 'sum', \n",
    "                                'id' : 'count'})\n",
    "data_calls_pivot.columns = ['min_used', 'calls_count']"
   ]
  },
  {
   "cell_type": "markdown",
   "metadata": {},
   "source": [
    "### Сообщения\n",
    "Добавляем количество отправленных сообщений по месяцам."
   ]
  },
  {
   "cell_type": "markdown",
   "metadata": {},
   "source": [
    "Аналогично - сначала надо добавить месяц"
   ]
  },
  {
   "cell_type": "code",
   "execution_count": 31,
   "metadata": {},
   "outputs": [],
   "source": [
    "data_messages['month'] = data_messages['message_date'].dt.month"
   ]
  },
  {
   "cell_type": "code",
   "execution_count": 32,
   "metadata": {},
   "outputs": [],
   "source": [
    "data_messages_pivot = data_messages.pivot_table(index=['user_id','month'], \n",
    "                       values='id', \n",
    "                       aggfunc='count')\n",
    "data_messages_pivot.columns = ['message_count']"
   ]
  },
  {
   "cell_type": "markdown",
   "metadata": {},
   "source": [
    "### Интернет\n",
    "Добавляем объем израсходованного интернет-трафика по месяцам."
   ]
  },
  {
   "cell_type": "markdown",
   "metadata": {},
   "source": [
    "И снова сначала добавим месяц"
   ]
  },
  {
   "cell_type": "code",
   "execution_count": 33,
   "metadata": {},
   "outputs": [],
   "source": [
    "data_internet['month'] = data_internet['session_date'].dt.month"
   ]
  },
  {
   "cell_type": "code",
   "execution_count": 34,
   "metadata": {},
   "outputs": [],
   "source": [
    "data_internet_pivot = data_internet.pivot_table(index=['user_id','month'], \n",
    "                       values='mb_used', \n",
    "                       aggfunc='sum')"
   ]
  },
  {
   "cell_type": "markdown",
   "metadata": {},
   "source": [
    "Для дальнейших расчетов надо сразу окргулить траффик за месяц до целых гигабайтов. Сделаем простую функцию: она берет целую часть от деления на 1024, и если остаток не нулевой, прибавляет к результату еще 1. "
   ]
  },
  {
   "cell_type": "code",
   "execution_count": 35,
   "metadata": {},
   "outputs": [],
   "source": [
    "def traffic_converter(mb):\n",
    "    gb = mb // 1024\n",
    "    if mb % 1024 > 0:\n",
    "        gb += 1\n",
    "    return gb"
   ]
  },
  {
   "cell_type": "markdown",
   "metadata": {},
   "source": [
    "Применим функцию ко всем значениям и переведем их в гигабайты"
   ]
  },
  {
   "cell_type": "code",
   "execution_count": 36,
   "metadata": {},
   "outputs": [],
   "source": [
    "data_internet_pivot['mb_used'] = data_internet_pivot['mb_used'].apply(traffic_converter)"
   ]
  },
  {
   "cell_type": "markdown",
   "metadata": {},
   "source": [
    "Сразу переименуем столбец и переведем его в int"
   ]
  },
  {
   "cell_type": "code",
   "execution_count": 37,
   "metadata": {},
   "outputs": [],
   "source": [
    "data_internet_pivot.columns = ['gb_used']\n",
    "data_internet_pivot['gb_used'] = data_internet_pivot['gb_used'].astype('int')"
   ]
  },
  {
   "cell_type": "markdown",
   "metadata": {},
   "source": [
    "### Выручка\n",
    "Нужно посчитать помесячную выручку с каждого пользователя: \n",
    "1. Вычесть бесплатный лимит из суммарного количества звонков, сообщений и интернет-трафика; \n",
    "2. Умножить остаток на значение из тарифного плана; \n",
    "3. Прибавить абонентскую плату, соответствующую тарифному плану."
   ]
  },
  {
   "cell_type": "markdown",
   "metadata": {},
   "source": [
    "Для начала нужно склеить все сводные таблички в одну"
   ]
  },
  {
   "cell_type": "code",
   "execution_count": 38,
   "metadata": {},
   "outputs": [],
   "source": [
    "user_stat = data_calls_pivot.join(data_internet_pivot, how='outer').join(data_messages_pivot, how='outer')"
   ]
  },
  {
   "cell_type": "markdown",
   "metadata": {},
   "source": [
    "1. Заполним все значения NaN нулями. Если их нет, значит в этом месяце пользователь просто не использовал услугу. \n",
    "2. Гигабайты и сообщения переведем в int. \n",
    "3. Переименуем столбцы для простоты"
   ]
  },
  {
   "cell_type": "code",
   "execution_count": 39,
   "metadata": {},
   "outputs": [],
   "source": [
    "user_stat = user_stat.fillna(0)\n",
    "user_stat['gb_used'] = user_stat['gb_used'].astype('int')\n",
    "user_stat['message_count'] = user_stat['message_count'].astype('int')\n",
    "user_stat.columns = ['mins', 'calls', 'gb', 'messages']"
   ]
  },
  {
   "cell_type": "markdown",
   "metadata": {},
   "source": [
    "Теперь добавляем для каждого пользователя его тариф из таблички пользователей. "
   ]
  },
  {
   "cell_type": "code",
   "execution_count": 40,
   "metadata": {},
   "outputs": [],
   "source": [
    "user_stat = user_stat.join(data_users.set_index('user_id')[['tariff', 'city']])"
   ]
  },
  {
   "cell_type": "markdown",
   "metadata": {},
   "source": [
    "Для удобства дальнейшего обращения в функции при подсчете, сделаем названия тарифов индексами в табличке с параметрами тарифов. "
   ]
  },
  {
   "cell_type": "code",
   "execution_count": 41,
   "metadata": {},
   "outputs": [],
   "source": [
    "data_tariffs.set_index('tariff_name', inplace=True)"
   ]
  },
  {
   "cell_type": "markdown",
   "metadata": {},
   "source": [
    "Теперь напишем функцию, которая будет подсчитывать выручку с каждого абонента по тарифу. Точнее, функции будет две. \n",
    "1. Первая считает выручку по конкретному тарифу, получая названия тарифа, количество минут, гигов и сообщений.\n",
    "2. Вторая - та, что будет применяться к каждой строчке. Она достает нужные значения из строки, передает их первой функции и возвращает результат. "
   ]
  },
  {
   "cell_type": "code",
   "execution_count": 42,
   "metadata": {},
   "outputs": [],
   "source": [
    "#первая функция\n",
    "def proceeds_counter(tariff_name, messages, gb, mins):\n",
    "    proceeds = data_tariffs.loc[tariff_name, 'rub_monthly_fee']\n",
    "    messages_diff = messages - data_tariffs.loc[tariff_name, 'messages_included']\n",
    "    mins_diff = mins - data_tariffs.loc[tariff_name, 'minutes_included']\n",
    "    internet_diff = gb - data_tariffs.loc[tariff_name, 'mb_per_month_included'] / 1024\n",
    "    if  messages_diff > 0:\n",
    "        proceeds += messages_diff * data_tariffs.loc[tariff_name, 'rub_per_message']\n",
    "    if mins_diff > 0:\n",
    "        proceeds += mins_diff * data_tariffs.loc[tariff_name, 'rub_per_minute']\n",
    "    if internet_diff > 0:\n",
    "        proceeds += internet_diff * data_tariffs.loc[tariff_name, 'rub_per_gb']\n",
    "    return proceeds\n",
    "\n",
    "#вторая функция\n",
    "def tariff_proceeds(row):\n",
    "    tariff_name = row['tariff']\n",
    "    messages = row['messages']\n",
    "    gb = row['gb']\n",
    "    mins = row['mins']\n",
    "    return proceeds_counter(tariff_name, messages, gb, mins) "
   ]
  },
  {
   "cell_type": "markdown",
   "metadata": {},
   "source": [
    "Теперь применим вторую функцию к каждой строчке и создадим новый столбец с выручкой по каждому пользователю по каждому месяцу."
   ]
  },
  {
   "cell_type": "code",
   "execution_count": 43,
   "metadata": {},
   "outputs": [],
   "source": [
    "user_stat['proceeds'] = user_stat.apply(tariff_proceeds, axis=1)"
   ]
  },
  {
   "cell_type": "code",
   "execution_count": 44,
   "metadata": {},
   "outputs": [
    {
     "data": {
      "text/html": [
       "<div>\n",
       "<style scoped>\n",
       "    .dataframe tbody tr th:only-of-type {\n",
       "        vertical-align: middle;\n",
       "    }\n",
       "\n",
       "    .dataframe tbody tr th {\n",
       "        vertical-align: top;\n",
       "    }\n",
       "\n",
       "    .dataframe thead th {\n",
       "        text-align: right;\n",
       "    }\n",
       "</style>\n",
       "<table border=\"1\" class=\"dataframe\">\n",
       "  <thead>\n",
       "    <tr style=\"text-align: right;\">\n",
       "      <th></th>\n",
       "      <th></th>\n",
       "      <th>mins</th>\n",
       "      <th>calls</th>\n",
       "      <th>gb</th>\n",
       "      <th>messages</th>\n",
       "      <th>tariff</th>\n",
       "      <th>city</th>\n",
       "      <th>proceeds</th>\n",
       "    </tr>\n",
       "    <tr>\n",
       "      <th>user_id</th>\n",
       "      <th>month</th>\n",
       "      <th></th>\n",
       "      <th></th>\n",
       "      <th></th>\n",
       "      <th></th>\n",
       "      <th></th>\n",
       "      <th></th>\n",
       "      <th></th>\n",
       "    </tr>\n",
       "  </thead>\n",
       "  <tbody>\n",
       "    <tr>\n",
       "      <th rowspan=\"5\" valign=\"top\">1000</th>\n",
       "      <th>5</th>\n",
       "      <td>159.0</td>\n",
       "      <td>22.0</td>\n",
       "      <td>3</td>\n",
       "      <td>22</td>\n",
       "      <td>ultra</td>\n",
       "      <td>Краснодар</td>\n",
       "      <td>1950.0</td>\n",
       "    </tr>\n",
       "    <tr>\n",
       "      <th>6</th>\n",
       "      <td>172.0</td>\n",
       "      <td>43.0</td>\n",
       "      <td>23</td>\n",
       "      <td>60</td>\n",
       "      <td>ultra</td>\n",
       "      <td>Краснодар</td>\n",
       "      <td>1950.0</td>\n",
       "    </tr>\n",
       "    <tr>\n",
       "      <th>7</th>\n",
       "      <td>340.0</td>\n",
       "      <td>47.0</td>\n",
       "      <td>14</td>\n",
       "      <td>75</td>\n",
       "      <td>ultra</td>\n",
       "      <td>Краснодар</td>\n",
       "      <td>1950.0</td>\n",
       "    </tr>\n",
       "    <tr>\n",
       "      <th>8</th>\n",
       "      <td>408.0</td>\n",
       "      <td>52.0</td>\n",
       "      <td>14</td>\n",
       "      <td>81</td>\n",
       "      <td>ultra</td>\n",
       "      <td>Краснодар</td>\n",
       "      <td>1950.0</td>\n",
       "    </tr>\n",
       "    <tr>\n",
       "      <th>9</th>\n",
       "      <td>466.0</td>\n",
       "      <td>58.0</td>\n",
       "      <td>15</td>\n",
       "      <td>57</td>\n",
       "      <td>ultra</td>\n",
       "      <td>Краснодар</td>\n",
       "      <td>1950.0</td>\n",
       "    </tr>\n",
       "    <tr>\n",
       "      <th>...</th>\n",
       "      <th>...</th>\n",
       "      <td>...</td>\n",
       "      <td>...</td>\n",
       "      <td>...</td>\n",
       "      <td>...</td>\n",
       "      <td>...</td>\n",
       "      <td>...</td>\n",
       "      <td>...</td>\n",
       "    </tr>\n",
       "    <tr>\n",
       "      <th>1498</th>\n",
       "      <th>10</th>\n",
       "      <td>247.0</td>\n",
       "      <td>41.0</td>\n",
       "      <td>21</td>\n",
       "      <td>42</td>\n",
       "      <td>smart</td>\n",
       "      <td>Владикавказ</td>\n",
       "      <td>1750.0</td>\n",
       "    </tr>\n",
       "    <tr>\n",
       "      <th rowspan=\"4\" valign=\"top\">1499</th>\n",
       "      <th>9</th>\n",
       "      <td>70.0</td>\n",
       "      <td>9.0</td>\n",
       "      <td>2</td>\n",
       "      <td>11</td>\n",
       "      <td>smart</td>\n",
       "      <td>Пермь</td>\n",
       "      <td>550.0</td>\n",
       "    </tr>\n",
       "    <tr>\n",
       "      <th>10</th>\n",
       "      <td>449.0</td>\n",
       "      <td>68.0</td>\n",
       "      <td>18</td>\n",
       "      <td>48</td>\n",
       "      <td>smart</td>\n",
       "      <td>Пермь</td>\n",
       "      <td>1150.0</td>\n",
       "    </tr>\n",
       "    <tr>\n",
       "      <th>11</th>\n",
       "      <td>612.0</td>\n",
       "      <td>74.0</td>\n",
       "      <td>18</td>\n",
       "      <td>59</td>\n",
       "      <td>smart</td>\n",
       "      <td>Пермь</td>\n",
       "      <td>1513.0</td>\n",
       "    </tr>\n",
       "    <tr>\n",
       "      <th>12</th>\n",
       "      <td>492.0</td>\n",
       "      <td>69.0</td>\n",
       "      <td>13</td>\n",
       "      <td>66</td>\n",
       "      <td>smart</td>\n",
       "      <td>Пермь</td>\n",
       "      <td>598.0</td>\n",
       "    </tr>\n",
       "  </tbody>\n",
       "</table>\n",
       "<p>3214 rows × 7 columns</p>\n",
       "</div>"
      ],
      "text/plain": [
       "                mins  calls  gb  messages tariff         city  proceeds\n",
       "user_id month                                                          \n",
       "1000    5      159.0   22.0   3        22  ultra    Краснодар    1950.0\n",
       "        6      172.0   43.0  23        60  ultra    Краснодар    1950.0\n",
       "        7      340.0   47.0  14        75  ultra    Краснодар    1950.0\n",
       "        8      408.0   52.0  14        81  ultra    Краснодар    1950.0\n",
       "        9      466.0   58.0  15        57  ultra    Краснодар    1950.0\n",
       "...              ...    ...  ..       ...    ...          ...       ...\n",
       "1498    10     247.0   41.0  21        42  smart  Владикавказ    1750.0\n",
       "1499    9       70.0    9.0   2        11  smart        Пермь     550.0\n",
       "        10     449.0   68.0  18        48  smart        Пермь    1150.0\n",
       "        11     612.0   74.0  18        59  smart        Пермь    1513.0\n",
       "        12     492.0   69.0  13        66  smart        Пермь     598.0\n",
       "\n",
       "[3214 rows x 7 columns]"
      ]
     },
     "execution_count": 44,
     "metadata": {},
     "output_type": "execute_result"
    }
   ],
   "source": [
    "user_stat"
   ]
  },
  {
   "cell_type": "markdown",
   "metadata": {},
   "source": [
    "Таблица для проверки гипотез на шаге №4 - готова"
   ]
  },
  {
   "cell_type": "markdown",
   "metadata": {},
   "source": [
    "## 4. Анализ данных"
   ]
  },
  {
   "cell_type": "markdown",
   "metadata": {},
   "source": [
    "Задача этапа: описать поведение клиентов оператора, исходя из выборки. Сколько минут разговора, сколько сообщений и какой объём интернет-трафика требуется пользователям каждого тарифа в месяц? \n",
    "- Посчитать среднее количество, дисперсию и стандартное отклонение. \n",
    "- Построить гистограммы. \n",
    "- Описать распределения."
   ]
  },
  {
   "cell_type": "markdown",
   "metadata": {},
   "source": [
    "Для этого этапа сделаем копию таблички user_stat, чтобы выполнять нужные преобразования и не испорить ее для этапа проверки гипотез. \n",
    "- Уберем из нее столбец с выручкой и количеством звонков\n",
    "- Сбросим двойную индексацию, она больше не нужна"
   ]
  },
  {
   "cell_type": "code",
   "execution_count": 45,
   "metadata": {},
   "outputs": [],
   "source": [
    "user_stat_df = user_stat[['mins','gb','messages','tariff']]\n",
    "user_stat_df.reset_index(inplace=True)"
   ]
  },
  {
   "cell_type": "code",
   "execution_count": 46,
   "metadata": {},
   "outputs": [
    {
     "data": {
      "text/html": [
       "<div>\n",
       "<style scoped>\n",
       "    .dataframe tbody tr th:only-of-type {\n",
       "        vertical-align: middle;\n",
       "    }\n",
       "\n",
       "    .dataframe tbody tr th {\n",
       "        vertical-align: top;\n",
       "    }\n",
       "\n",
       "    .dataframe thead th {\n",
       "        text-align: right;\n",
       "    }\n",
       "</style>\n",
       "<table border=\"1\" class=\"dataframe\">\n",
       "  <thead>\n",
       "    <tr style=\"text-align: right;\">\n",
       "      <th></th>\n",
       "      <th>user_id</th>\n",
       "      <th>month</th>\n",
       "      <th>mins</th>\n",
       "      <th>gb</th>\n",
       "      <th>messages</th>\n",
       "      <th>tariff</th>\n",
       "    </tr>\n",
       "  </thead>\n",
       "  <tbody>\n",
       "    <tr>\n",
       "      <th>0</th>\n",
       "      <td>1000</td>\n",
       "      <td>5</td>\n",
       "      <td>159.0</td>\n",
       "      <td>3</td>\n",
       "      <td>22</td>\n",
       "      <td>ultra</td>\n",
       "    </tr>\n",
       "    <tr>\n",
       "      <th>1</th>\n",
       "      <td>1000</td>\n",
       "      <td>6</td>\n",
       "      <td>172.0</td>\n",
       "      <td>23</td>\n",
       "      <td>60</td>\n",
       "      <td>ultra</td>\n",
       "    </tr>\n",
       "    <tr>\n",
       "      <th>2</th>\n",
       "      <td>1000</td>\n",
       "      <td>7</td>\n",
       "      <td>340.0</td>\n",
       "      <td>14</td>\n",
       "      <td>75</td>\n",
       "      <td>ultra</td>\n",
       "    </tr>\n",
       "    <tr>\n",
       "      <th>3</th>\n",
       "      <td>1000</td>\n",
       "      <td>8</td>\n",
       "      <td>408.0</td>\n",
       "      <td>14</td>\n",
       "      <td>81</td>\n",
       "      <td>ultra</td>\n",
       "    </tr>\n",
       "    <tr>\n",
       "      <th>4</th>\n",
       "      <td>1000</td>\n",
       "      <td>9</td>\n",
       "      <td>466.0</td>\n",
       "      <td>15</td>\n",
       "      <td>57</td>\n",
       "      <td>ultra</td>\n",
       "    </tr>\n",
       "    <tr>\n",
       "      <th>...</th>\n",
       "      <td>...</td>\n",
       "      <td>...</td>\n",
       "      <td>...</td>\n",
       "      <td>...</td>\n",
       "      <td>...</td>\n",
       "      <td>...</td>\n",
       "    </tr>\n",
       "    <tr>\n",
       "      <th>3209</th>\n",
       "      <td>1498</td>\n",
       "      <td>10</td>\n",
       "      <td>247.0</td>\n",
       "      <td>21</td>\n",
       "      <td>42</td>\n",
       "      <td>smart</td>\n",
       "    </tr>\n",
       "    <tr>\n",
       "      <th>3210</th>\n",
       "      <td>1499</td>\n",
       "      <td>9</td>\n",
       "      <td>70.0</td>\n",
       "      <td>2</td>\n",
       "      <td>11</td>\n",
       "      <td>smart</td>\n",
       "    </tr>\n",
       "    <tr>\n",
       "      <th>3211</th>\n",
       "      <td>1499</td>\n",
       "      <td>10</td>\n",
       "      <td>449.0</td>\n",
       "      <td>18</td>\n",
       "      <td>48</td>\n",
       "      <td>smart</td>\n",
       "    </tr>\n",
       "    <tr>\n",
       "      <th>3212</th>\n",
       "      <td>1499</td>\n",
       "      <td>11</td>\n",
       "      <td>612.0</td>\n",
       "      <td>18</td>\n",
       "      <td>59</td>\n",
       "      <td>smart</td>\n",
       "    </tr>\n",
       "    <tr>\n",
       "      <th>3213</th>\n",
       "      <td>1499</td>\n",
       "      <td>12</td>\n",
       "      <td>492.0</td>\n",
       "      <td>13</td>\n",
       "      <td>66</td>\n",
       "      <td>smart</td>\n",
       "    </tr>\n",
       "  </tbody>\n",
       "</table>\n",
       "<p>3214 rows × 6 columns</p>\n",
       "</div>"
      ],
      "text/plain": [
       "      user_id  month   mins  gb  messages tariff\n",
       "0        1000      5  159.0   3        22  ultra\n",
       "1        1000      6  172.0  23        60  ultra\n",
       "2        1000      7  340.0  14        75  ultra\n",
       "3        1000      8  408.0  14        81  ultra\n",
       "4        1000      9  466.0  15        57  ultra\n",
       "...       ...    ...    ...  ..       ...    ...\n",
       "3209     1498     10  247.0  21        42  smart\n",
       "3210     1499      9   70.0   2        11  smart\n",
       "3211     1499     10  449.0  18        48  smart\n",
       "3212     1499     11  612.0  18        59  smart\n",
       "3213     1499     12  492.0  13        66  smart\n",
       "\n",
       "[3214 rows x 6 columns]"
      ]
     },
     "execution_count": 46,
     "metadata": {},
     "output_type": "execute_result"
    }
   ],
   "source": [
    "user_stat_df"
   ]
  },
  {
   "cell_type": "markdown",
   "metadata": {},
   "source": [
    "Напишем функцию, которая будет сразу выводить весь анализ: среднее, дисперсию, стд.отклонение, а еще показывать гистограмму и боксплот. На вход отдаем название тарифа, нужный нам столбец и количество корзин для гистограммы. "
   ]
  },
  {
   "cell_type": "code",
   "execution_count": 47,
   "metadata": {},
   "outputs": [],
   "source": [
    "def data_describer(tariff_name, parameter, hist_bins):\n",
    "    series = user_stat_df.query('tariff == @tariff_name')[parameter]\n",
    "    \n",
    "    print('Среднее количество:', round(series.mean(), 2))\n",
    "    print('Дисперсия:', round(np.var(series, ddof=1), 2))\n",
    "    print('Стандартное отклонение:', round(np.std(series, ddof=1), 2))\n",
    "    \n",
    "    series.hist(bins=hist_bins)\n",
    "    plt.title(\"Частотная гистограмма. Тариф: {}\".format(tariff_name))\n",
    "    plt.xlabel(parameter)\n",
    "    plt.ylabel('частота')\n",
    "    \n",
    "    plt.show()\n",
    "    \n",
    "    user_stat_df.query('tariff == @tariff_name').boxplot(parameter)\n",
    "    plt.title(\"График распределения boxplot. Тариф: {}\".format(tariff_name))"
   ]
  },
  {
   "cell_type": "markdown",
   "metadata": {},
   "source": [
    "### Минуты"
   ]
  },
  {
   "cell_type": "markdown",
   "metadata": {},
   "source": [
    "#### Тариф \"Ультра\""
   ]
  },
  {
   "cell_type": "code",
   "execution_count": 48,
   "metadata": {},
   "outputs": [
    {
     "name": "stdout",
     "output_type": "stream",
     "text": [
      "Среднее количество: 526.62\n",
      "Дисперсия: 100873.63\n",
      "Стандартное отклонение: 317.61\n"
     ]
    },
    {
     "data": {
      "image/png": "[encoded data removed]",
      "text/plain": [
       "<Figure size 432x288 with 1 Axes>"
      ]
     },
     "metadata": {
      "needs_background": "light"
     },
     "output_type": "display_data"
    },
    {
     "data": {
      "image/png": "[encoded data removed]",
      "text/plain": [
       "<Figure size 432x288 with 1 Axes>"
      ]
     },
     "metadata": {
      "needs_background": "light"
     },
     "output_type": "display_data"
    }
   ],
   "source": [
    "data_describer('ultra', 'mins', 30)"
   ]
  },
  {
   "cell_type": "markdown",
   "metadata": {},
   "source": [
    "**Минуты. Ультра. Выводы**\n",
    "- Данные скошены вправо\n",
    "- В среднем пользователи тарифа тратят всего 526 минут (при имеющихся в пакете 3000!)\n",
    "- Стандартное отклонение - 317 минут\n",
    "- Максимальное значение даже близко не подбирается к границе пакета минут\n",
    "- Пользователи тарифа недоиспользуют его возможности"
   ]
  },
  {
   "cell_type": "markdown",
   "metadata": {},
   "source": [
    "#### Тариф \"Смарт\""
   ]
  },
  {
   "cell_type": "code",
   "execution_count": 49,
   "metadata": {},
   "outputs": [
    {
     "name": "stdout",
     "output_type": "stream",
     "text": [
      "Среднее количество: 417.93\n",
      "Дисперсия: 36219.32\n",
      "Стандартное отклонение: 190.31\n"
     ]
    },
    {
     "data": {
      "image/png": "[encoded data removed]",
      "text/plain": [
       "<Figure size 432x288 with 1 Axes>"
      ]
     },
     "metadata": {
      "needs_background": "light"
     },
     "output_type": "display_data"
    },
    {
     "data": {
      "image/png": "[encoded data removed]",
      "text/plain": [
       "<Figure size 432x288 with 1 Axes>"
      ]
     },
     "metadata": {
      "needs_background": "light"
     },
     "output_type": "display_data"
    }
   ],
   "source": [
    "data_describer('smart', 'mins', 30)"
   ]
  },
  {
   "cell_type": "markdown",
   "metadata": {},
   "source": [
    "**Минуты. Смарт. Выводы**\n",
    "- Данные распределены нормально\n",
    "- В среднем пользователи тарифа тратят 418 минут в месяц (500 в пакете)\n",
    "- Стандартное отклонение - 190 минут\n",
    "- Справа на гистограмме есть хвост: при всего 500 минутах в пакете, есть и такие пользователи, которые тратят и 1000 и даже 1400 минут"
   ]
  },
  {
   "cell_type": "markdown",
   "metadata": {},
   "source": [
    "### Гигабайты"
   ]
  },
  {
   "cell_type": "markdown",
   "metadata": {},
   "source": [
    "#### Тариф \"Ультра\""
   ]
  },
  {
   "cell_type": "code",
   "execution_count": 50,
   "metadata": {},
   "outputs": [
    {
     "name": "stdout",
     "output_type": "stream",
     "text": [
      "Среднее количество: 19.49\n",
      "Дисперсия: 97.09\n",
      "Стандартное отклонение: 9.85\n"
     ]
    },
    {
     "data": {
      "image/png": "[encoded data removed]",
      "text/plain": [
       "<Figure size 432x288 with 1 Axes>"
      ]
     },
     "metadata": {
      "needs_background": "light"
     },
     "output_type": "display_data"
    },
    {
     "data": {
      "image/png": "[encoded data removed]",
      "text/plain": [
       "<Figure size 432x288 with 1 Axes>"
      ]
     },
     "metadata": {
      "needs_background": "light"
     },
     "output_type": "display_data"
    }
   ],
   "source": [
    "data_describer('ultra', 'gb', 10)"
   ]
  },
  {
   "cell_type": "markdown",
   "metadata": {},
   "source": [
    "**Гиги. Ультра. Выводы**\n",
    "- Данные распределены нормально\n",
    "- В среднем пользователи тарифа тратят 19 гигабайт в месяц (30 в пакете)\n",
    "- Стандартное отклонение - 10 гигабайт \n",
    "- Данные лежат очень плотно, без выборосов: межквартильный размах приходится ровно на весь диапозон данных\n",
    "- Большая часть пользователей недоиспользует возможности тарифа"
   ]
  },
  {
   "cell_type": "markdown",
   "metadata": {},
   "source": [
    "#### Тариф \"Смарт\""
   ]
  },
  {
   "cell_type": "code",
   "execution_count": 51,
   "metadata": {},
   "outputs": [
    {
     "name": "stdout",
     "output_type": "stream",
     "text": [
      "Среднее количество: 16.33\n",
      "Дисперсия: 33.03\n",
      "Стандартное отклонение: 5.75\n"
     ]
    },
    {
     "data": {
      "image/png": "[encoded data removed]",
      "text/plain": [
       "<Figure size 432x288 with 1 Axes>"
      ]
     },
     "metadata": {
      "needs_background": "light"
     },
     "output_type": "display_data"
    },
    {
     "data": {
      "image/png": "[encoded data removed]",
      "text/plain": [
       "<Figure size 432x288 with 1 Axes>"
      ]
     },
     "metadata": {
      "needs_background": "light"
     },
     "output_type": "display_data"
    }
   ],
   "source": [
    "data_describer('smart', 'gb', 10)"
   ]
  },
  {
   "cell_type": "markdown",
   "metadata": {},
   "source": [
    "**Гиги. Смарт. Выводы**\n",
    "- Гистограмма похожа на нормальное распределение\n",
    "- В среднем пользователи тарифа тратят 16 гигабайт в месяц (15 в пакете), и это всего на 3 гига меньше, чем пользователи Ультры\n",
    "- Особенная \"скученность\" есть между 13 и 20 гигами (в этом диапозоне больше всего пользователей)\n",
    "- Стандартное отклонение - 6 гигабайт "
   ]
  },
  {
   "cell_type": "markdown",
   "metadata": {},
   "source": [
    "### Минуты"
   ]
  },
  {
   "cell_type": "markdown",
   "metadata": {},
   "source": [
    "#### Тариф \"Ультра\""
   ]
  },
  {
   "cell_type": "code",
   "execution_count": 52,
   "metadata": {},
   "outputs": [
    {
     "name": "stdout",
     "output_type": "stream",
     "text": [
      "Среднее количество: 49.36\n",
      "Дисперсия: 2285.27\n",
      "Стандартное отклонение: 47.8\n"
     ]
    },
    {
     "data": {
      "image/png": "[encoded data removed]",
      "text/plain": [
       "<Figure size 432x288 with 1 Axes>"
      ]
     },
     "metadata": {
      "needs_background": "light"
     },
     "output_type": "display_data"
    },
    {
     "data": {
      "image/png": "[encoded data removed]",
      "text/plain": [
       "<Figure size 432x288 with 1 Axes>"
      ]
     },
     "metadata": {
      "needs_background": "light"
     },
     "output_type": "display_data"
    }
   ],
   "source": [
    "data_describer('ultra', 'messages', 30)"
   ]
  },
  {
   "cell_type": "markdown",
   "metadata": {},
   "source": [
    "**Сообщения. Ультра. Выводы**\n",
    "- Огромное количество пользователей не используют смски\n",
    "- Распределение сложно оценить, потому как данные очень смещены за счет огромной \"палки\" в самом начале гистограммы\n",
    "\n",
    "Давайте ради эксперимента уберем пользователей с нулём смсок и оценим распределение среди тех, кто вообще отправляет сообщения. "
   ]
  },
  {
   "cell_type": "code",
   "execution_count": 53,
   "metadata": {},
   "outputs": [
    {
     "data": {
      "image/png": "[encoded data removed]",
      "text/plain": [
       "<Figure size 432x288 with 1 Axes>"
      ]
     },
     "metadata": {
      "needs_background": "light"
     },
     "output_type": "display_data"
    }
   ],
   "source": [
    "ultra_messages = user_stat_df.query('tariff == \"ultra\" and messages != 0')['messages']\n",
    "ultra_messages.hist()\n",
    "plt.title(\"Частотная гистограмма. Тариф: ultra\")\n",
    "plt.xlabel('messages')\n",
    "plt.ylabel('частота');"
   ]
  },
  {
   "cell_type": "code",
   "execution_count": 54,
   "metadata": {},
   "outputs": [
    {
     "name": "stdout",
     "output_type": "stream",
     "text": [
      "Среднее количество: 61.16\n",
      "Дисперсия: 2109.66\n",
      "Стандартное отклонение: 45.93\n"
     ]
    }
   ],
   "source": [
    "print('Среднее количество:', round(ultra_messages.mean(),2))\n",
    "print('Дисперсия:', round(np.var(ultra_messages, ddof=1),2))\n",
    "print('Стандартное отклонение:', round(np.std(ultra_messages, ddof=1),2))"
   ]
  },
  {
   "cell_type": "markdown",
   "metadata": {},
   "source": [
    "**Сообщения. Ультра. Выводы 2**\n",
    "- Данные скошены вправо\n",
    "- Среди тех, кто использует смски есть очевидный тренд: чем больше количество смс, тем меньше людей столько отправляет.\n",
    "- Среднее - 61, а стандартное отклонение - 46\n",
    "- И снова важное наблюдение: пользователи недоиспользуют тариф; в пакете 1000 сообщений, а мы видим максимум 200"
   ]
  },
  {
   "cell_type": "markdown",
   "metadata": {},
   "source": [
    "#### Тариф \"Смарт\""
   ]
  },
  {
   "cell_type": "code",
   "execution_count": 55,
   "metadata": {},
   "outputs": [
    {
     "name": "stdout",
     "output_type": "stream",
     "text": [
      "Среднее количество: 33.38\n",
      "Дисперсия: 796.81\n",
      "Стандартное отклонение: 28.23\n"
     ]
    },
    {
     "data": {
      "image/png": "[encoded data removed]",
      "text/plain": [
       "<Figure size 432x288 with 1 Axes>"
      ]
     },
     "metadata": {
      "needs_background": "light"
     },
     "output_type": "display_data"
    },
    {
     "data": {
      "image/png": "[encoded data removed]",
      "text/plain": [
       "<Figure size 432x288 with 1 Axes>"
      ]
     },
     "metadata": {
      "needs_background": "light"
     },
     "output_type": "display_data"
    }
   ],
   "source": [
    "data_describer('smart', 'messages', 30)"
   ]
  },
  {
   "cell_type": "markdown",
   "metadata": {},
   "source": [
    "**Сообщения. Смарт. Выводы**\n",
    "- Такая же история: очень много пользователей, которые не отправляют сообщения. \n",
    "- Посмотрим на тех, кто все таки это делает. \n"
   ]
  },
  {
   "cell_type": "code",
   "execution_count": 56,
   "metadata": {},
   "outputs": [
    {
     "data": {
      "image/png": "[encoded data removed]",
      "text/plain": [
       "<Figure size 432x288 with 1 Axes>"
      ]
     },
     "metadata": {
      "needs_background": "light"
     },
     "output_type": "display_data"
    }
   ],
   "source": [
    "smart_messages = user_stat_df.query('tariff == \"smart\" and messages != 0')['messages']\n",
    "smart_messages.hist()\n",
    "plt.title(\"Частотная гистограмма. Тариф: smart\")\n",
    "plt.xlabel('messages')\n",
    "plt.ylabel('частота');"
   ]
  },
  {
   "cell_type": "code",
   "execution_count": 57,
   "metadata": {},
   "outputs": [
    {
     "name": "stdout",
     "output_type": "stream",
     "text": [
      "Среднее количество: 38.72\n",
      "Дисперсия: 717.59\n",
      "Стандартное отклонение: 26.79\n"
     ]
    }
   ],
   "source": [
    "print('Среднее количество:', round(smart_messages.mean(),2))\n",
    "print('Дисперсия:', round(np.var(smart_messages, ddof=1),2))\n",
    "print('Стандартное отклонение:', round(np.std(smart_messages, ddof=1),2))"
   ]
  },
  {
   "cell_type": "markdown",
   "metadata": {},
   "source": [
    "**Сообщения. Смарт. Выводы 2**\n",
    "- Очень похоже на поведение пользователей ультры\n",
    "- Данные скошены вправо\n",
    "- Среди тех, кто использует смски есть очевидный тренд: чем больше количество смс, тем меньше людей столько отправляет.\n",
    "- Среднее и стд отличаются от ультры где-то в полтора раза: среднее - 39, а стандартное отклонение - 27 (размеры пакетов при этом отличаются в 20 раз)"
   ]
  },
  {
   "cell_type": "markdown",
   "metadata": {},
   "source": [
    "### Вывод\n",
    "\n",
    "Исследовали поведение пользователей тарифов Ультра и Смарт. \n",
    "\n",
    "В среднем пользователи тарифа Ультра используют в месяц:\n",
    "- 526 минут\n",
    "- 19 гигабайт\n",
    "- 49 сообщений\n",
    "\n",
    "Аналогично пользователи тарифа Смарт:\n",
    "- 418 минут\n",
    "- 16 гигабайт\n",
    "- 33 сообщения\n",
    "\n",
    "Можно легко заметить, что значения пользователей Смарта и Ультры отличаются на единицы и десятки, в то время как лимиты по пакетам (и их стоимость) отличаются в разы. \n",
    "- Пользователи Ультры в среднем недоиспользуют все возможности тарифа. \n",
    "- Пользователи Смарта в среднем укладываются в лимит, но что-то все же приходится докупать"
   ]
  },
  {
   "cell_type": "markdown",
   "metadata": {},
   "source": [
    "## Проверка гипотез"
   ]
  },
  {
   "cell_type": "markdown",
   "metadata": {},
   "source": [
    "Задача - проверить гипотезы: \n",
    "1. Средняя выручка пользователей тарифов «Ультра» и «Смарт» различаются;\n",
    "2. Средняя выручка пользователей из Москвы отличается от выручки пользователей из других регионов."
   ]
  },
  {
   "cell_type": "markdown",
   "metadata": {},
   "source": [
    "### Гипотеза 1: выручка Ультры и Смарта"
   ]
  },
  {
   "cell_type": "markdown",
   "metadata": {},
   "source": [
    "Формулируем нулевую и альтернативную гипотезы. Нулевая должна быть сформулирована со знаком равенства, поэтому:\n",
    "- H0: Средняя выручка пользователей тарифа \"Ультра\" равна средней выручке пользователей тарифа \"Смарт\"\n",
    "- H1: Средняя выручка пользователей тарифов «Ультра» и «Смарт» различаются\n",
    "\n",
    "Гипотеза двустороняя, сравниваем две генеральные совокупности. Между выборками нет зависимости. Чтобы проверить гипотезу о равенстве среднего двух генеральных совокупностей по взятым из них выборкам, применяем метод scipy.stats.ttest_**ind**.\n",
    "Критический уровень статистической значимости возьмем равным 0.05."
   ]
  },
  {
   "cell_type": "code",
   "execution_count": 58,
   "metadata": {},
   "outputs": [],
   "source": [
    "alpha = 0.05"
   ]
  },
  {
   "cell_type": "code",
   "execution_count": 59,
   "metadata": {},
   "outputs": [
    {
     "name": "stdout",
     "output_type": "stream",
     "text": [
      "p-значение: 1.4229814360764067e-160\n",
      "Отвергаем нулевую гипотезу\n"
     ]
    }
   ],
   "source": [
    "#забираем выручку для разных тарифов в разные массивы\n",
    "proceeds_ultra = user_stat.query('tariff == \"ultra\"')['proceeds']\n",
    "proceeds_smart = user_stat.query('tariff == \"smart\"')['proceeds']\n",
    "\n",
    "#проводим проверку\n",
    "results = st.ttest_ind (proceeds_smart, proceeds_ultra)\n",
    "\n",
    "#сравниваем результаты и делаем вывод\n",
    "print('p-значение:', results.pvalue)\n",
    "\n",
    "if results.pvalue < alpha:\n",
    "    print('Отвергаем нулевую гипотезу')\n",
    "else:\n",
    "    print('Не получилось отвергнуть нулевую гипотезу') "
   ]
  },
  {
   "cell_type": "markdown",
   "metadata": {},
   "source": [
    "Посмотрим как отличаются средние выручки по обоим столбцам"
   ]
  },
  {
   "cell_type": "code",
   "execution_count": 60,
   "metadata": {
    "scrolled": true
   },
   "outputs": [
    {
     "name": "stdout",
     "output_type": "stream",
     "text": [
      "Средняя выручка пользователей тарифа \"Смарт\" 1290 ₽\n",
      "Средняя выручка пользователей тарифа \"Ультра\" 2070 ₽\n"
     ]
    }
   ],
   "source": [
    "print('Средняя выручка пользователей тарифа \"Смарт\"', round(proceeds_smart.mean()), '₽')\n",
    "print('Средняя выручка пользователей тарифа \"Ультра\"', round(proceeds_ultra.mean()), '₽')"
   ]
  },
  {
   "cell_type": "markdown",
   "metadata": {},
   "source": [
    "**Вывод**\n",
    "- Данные не противоречат гипотезе о том, что средняя выручка пользователей тарифов «Ультра» и «Смарт» различаются\n",
    "- Этому не противоречат и сами средние значения: средняя выручка по Ультре больше 800 рублей.\n"
   ]
  },
  {
   "cell_type": "markdown",
   "metadata": {},
   "source": [
    "### Гипотеза 1: выручка Москвы и регионов"
   ]
  },
  {
   "cell_type": "markdown",
   "metadata": {},
   "source": [
    "Формулируем нулевую и альтернативную гипотезы. Нулевая должна быть сформулирована со знаком равенства, поэтому:\n",
    "- H0: Средняя выручка пользователей из Москвы равна средней выручке пользователей регионов\n",
    "- H1: Средняя выручка пользователей из Москвы отличается от выручки пользователей из других регионов.\n",
    "\n",
    "Гипотеза двустороняя, сравниваем две генеральные совокупности. Между выборками нет зависимости. Чтобы проверить гипотезу о равенстве среднего двух генеральных совокупностей по взятым из них выборкам, применяем метод scipy.stats.ttest_**ind**.\n",
    "Критический уровень статистической значимости возьмем равным 0.05 (мы уже задали его выше)."
   ]
  },
  {
   "cell_type": "markdown",
   "metadata": {},
   "source": [
    "Сейчас в нашей таблице нет данных о регионе пользователя. Давайте добавим это. "
   ]
  },
  {
   "cell_type": "code",
   "execution_count": 61,
   "metadata": {},
   "outputs": [
    {
     "name": "stdout",
     "output_type": "stream",
     "text": [
      "p-значение: 0.5440152911670224\n",
      "Не получилось отвергнуть нулевую гипотезу\n"
     ]
    }
   ],
   "source": [
    "#забираем выручку для москвы и регионов в разные массивы\n",
    "proceeds_moscow = user_stat.query('city == \"Москва\"')['proceeds']\n",
    "proceeds_other = user_stat.query('city != \"Москва\"')['proceeds']\n",
    "\n",
    "#проводим проверку\n",
    "results = st.ttest_ind (proceeds_moscow, proceeds_other)\n",
    "\n",
    "#сравниваем результаты и делаем вывод\n",
    "print('p-значение:', results.pvalue)\n",
    "\n",
    "if results.pvalue < alpha:\n",
    "    print('Отвергаем нулевую гипотезу')\n",
    "else:\n",
    "    print('Не получилось отвергнуть нулевую гипотезу') "
   ]
  },
  {
   "cell_type": "markdown",
   "metadata": {},
   "source": [
    "Посмотрим как отличаются средние выручки по обоим столбцам"
   ]
  },
  {
   "cell_type": "code",
   "execution_count": 62,
   "metadata": {
    "scrolled": true
   },
   "outputs": [
    {
     "name": "stdout",
     "output_type": "stream",
     "text": [
      "Средняя выручка пользователей из Москвы 1547 ₽\n",
      "Средняя выручка пользователей из регионов 1525 ₽\n"
     ]
    }
   ],
   "source": [
    "print('Средняя выручка пользователей из Москвы', round(proceeds_moscow.mean()), '₽')\n",
    "print('Средняя выручка пользователей из регионов', round(proceeds_other.mean()), '₽')"
   ]
  },
  {
   "cell_type": "markdown",
   "metadata": {},
   "source": [
    "**Вывод**\n",
    "- Данные не противоречат гипотезе о том, что средняя выручка пользователей из Москвы равна средней выручке пользователей регионов\n",
    "- Показатели средней выручки так же подтверждают это: 1547 и 1525 - существенно разницы действительно нет\n"
   ]
  },
  {
   "cell_type": "markdown",
   "metadata": {},
   "source": [
    "## Вывод"
   ]
  },
  {
   "cell_type": "markdown",
   "metadata": {},
   "source": [
    "В нашем исследовании мы анализировали поведение клиентов компании Мегалайн и сравнивали тарифы с точки зрениях выручки для оператора. "
   ]
  },
  {
   "cell_type": "markdown",
   "metadata": {},
   "source": [
    "**Что выяснили**\n",
    "1. **Поведение пользователей двух тарифов отличается.**\n",
    "- В среднем пользователи Смарта используют включенные в пакет тарифа минуты, сообщения и гиги полностью. \n",
    "- Пользователи же Ультры обычно не используют весь пакет, причем в случае с минутами и сообщениями - отличие на порядок. \n",
    "\n",
    "2. **Проверка гипотез о выручке говорит следующее:**\n",
    "- Данные не противоречат предположению, что средняя выручка пользователей тарифов «Ультра» и «Смарт» различаются\n",
    "- При этом, судя по всему, средняя выручка пользователей из Москвы и из других регионов, наоборот, значимо не отличается. Данные говорят о том, что гипотезу о равенстве выручек мы отвергнуть не можем. \n",
    "\n",
    "3. **Выяснили - какой тариф лучше**\n",
    "- Судя по всему - большую выручку приносит тариф \"Ультра\". \n",
    "- Но выручка не показывает маржинальность. Тариф \"Ультра\" стоит дороже, но и предлагает пользователям больше.\n",
    "- Гипотетический вывод поможет сделать исследование поведения пользователей. Мы увидели, что пользователи Ультры используют не намного больше минут, гигов и сообщений, чем пользователи Смарта. \n",
    "- Получается, что \"Мегалайн\" тратит схожее количество ресурсов на пользователей Ультры и Смарта, а денег получает больше от Ультры. \n",
    "- **Вывод: Тариф \"Ультра\" - лучше.**"
   ]
  }
 ],
 "metadata": {
  "ExecuteTimeLog": [
   {
    "duration": 1299,
    "start_time": "2021-09-15T18:39:40.197Z"
   },
   {
    "duration": 22,
    "start_time": "2021-09-15T18:40:24.805Z"
   },
   {
    "duration": 18,
    "start_time": "2021-09-15T18:42:56.203Z"
   },
   {
    "duration": 18,
    "start_time": "2021-09-15T18:42:59.074Z"
   },
   {
    "duration": 27,
    "start_time": "2021-09-15T18:43:18.797Z"
   },
   {
    "duration": 138,
    "start_time": "2021-09-15T18:46:28.657Z"
   },
   {
    "duration": 384,
    "start_time": "2021-09-15T18:47:56.496Z"
   },
   {
    "duration": 509,
    "start_time": "2021-09-15T18:49:05.466Z"
   },
   {
    "duration": 39,
    "start_time": "2021-09-15T18:50:15.702Z"
   },
   {
    "duration": 18,
    "start_time": "2021-09-15T18:50:23.163Z"
   },
   {
    "duration": 20,
    "start_time": "2021-09-15T18:50:29.342Z"
   },
   {
    "duration": 19,
    "start_time": "2021-09-15T18:50:38.904Z"
   },
   {
    "duration": 13,
    "start_time": "2021-09-15T18:50:46.665Z"
   },
   {
    "duration": 12,
    "start_time": "2021-09-15T18:50:49.873Z"
   },
   {
    "duration": 12,
    "start_time": "2021-09-15T18:50:56.512Z"
   },
   {
    "duration": 22,
    "start_time": "2021-09-15T18:51:08.852Z"
   },
   {
    "duration": 20,
    "start_time": "2021-09-15T18:51:21.664Z"
   },
   {
    "duration": 4,
    "start_time": "2021-09-15T18:53:19.203Z"
   },
   {
    "duration": 128,
    "start_time": "2021-09-15T18:53:35.221Z"
   },
   {
    "duration": 4,
    "start_time": "2021-09-15T18:54:33.809Z"
   },
   {
    "duration": 130,
    "start_time": "2021-09-15T18:54:34.353Z"
   },
   {
    "duration": 5,
    "start_time": "2021-09-15T18:56:56.072Z"
   },
   {
    "duration": 132,
    "start_time": "2021-09-15T18:56:57.448Z"
   },
   {
    "duration": 4,
    "start_time": "2021-09-15T18:57:10.653Z"
   },
   {
    "duration": 131,
    "start_time": "2021-09-15T18:57:12.300Z"
   },
   {
    "duration": 4,
    "start_time": "2021-09-15T18:57:20.704Z"
   },
   {
    "duration": 141,
    "start_time": "2021-09-15T18:57:22.855Z"
   },
   {
    "duration": 4,
    "start_time": "2021-09-15T18:57:48.947Z"
   },
   {
    "duration": 149,
    "start_time": "2021-09-15T18:57:49.574Z"
   },
   {
    "duration": 4,
    "start_time": "2021-09-15T18:57:59.259Z"
   },
   {
    "duration": 138,
    "start_time": "2021-09-15T18:58:00.325Z"
   },
   {
    "duration": 4,
    "start_time": "2021-09-15T18:58:11.904Z"
   },
   {
    "duration": 148,
    "start_time": "2021-09-15T18:58:12.576Z"
   },
   {
    "duration": 5,
    "start_time": "2021-09-15T18:59:51.905Z"
   },
   {
    "duration": 119,
    "start_time": "2021-09-15T18:59:52.455Z"
   },
   {
    "duration": 19,
    "start_time": "2021-09-15T19:01:03.648Z"
   },
   {
    "duration": 12,
    "start_time": "2021-09-15T19:01:21.500Z"
   },
   {
    "duration": 23,
    "start_time": "2021-09-15T19:01:33.983Z"
   },
   {
    "duration": 13,
    "start_time": "2021-09-15T19:01:52.349Z"
   },
   {
    "duration": 12,
    "start_time": "2021-09-15T19:01:56.625Z"
   },
   {
    "duration": 17,
    "start_time": "2021-09-15T19:02:04.461Z"
   },
   {
    "duration": 324,
    "start_time": "2021-09-15T19:02:33.194Z"
   },
   {
    "duration": 116,
    "start_time": "2021-09-15T19:02:40.674Z"
   },
   {
    "duration": 30,
    "start_time": "2021-09-15T19:03:37.386Z"
   },
   {
    "duration": 14,
    "start_time": "2021-09-15T19:06:38.164Z"
   },
   {
    "duration": 17,
    "start_time": "2021-09-15T19:06:42.323Z"
   },
   {
    "duration": 12,
    "start_time": "2021-09-15T19:06:45.580Z"
   },
   {
    "duration": 288,
    "start_time": "2021-09-15T19:06:51.854Z"
   },
   {
    "duration": 18,
    "start_time": "2021-09-15T19:07:01.227Z"
   },
   {
    "duration": 16,
    "start_time": "2021-09-15T19:08:04.955Z"
   },
   {
    "duration": 20,
    "start_time": "2021-09-15T19:08:12.986Z"
   },
   {
    "duration": 63,
    "start_time": "2021-09-15T19:08:28.533Z"
   },
   {
    "duration": 27,
    "start_time": "2021-09-15T19:09:43.816Z"
   },
   {
    "duration": 16,
    "start_time": "2021-09-15T19:10:33.721Z"
   },
   {
    "duration": 9,
    "start_time": "2021-09-15T19:10:48.023Z"
   },
   {
    "duration": 10,
    "start_time": "2021-09-15T19:12:08.174Z"
   },
   {
    "duration": 9,
    "start_time": "2021-09-15T19:14:52.697Z"
   },
   {
    "duration": 10,
    "start_time": "2021-09-15T19:15:05.935Z"
   },
   {
    "duration": 10,
    "start_time": "2021-09-15T19:15:11.091Z"
   },
   {
    "duration": 8,
    "start_time": "2021-09-15T19:15:48.668Z"
   },
   {
    "duration": 15,
    "start_time": "2021-09-15T19:16:16.369Z"
   },
   {
    "duration": 8,
    "start_time": "2021-09-15T19:16:44.303Z"
   },
   {
    "duration": 6,
    "start_time": "2021-09-15T19:16:50.081Z"
   },
   {
    "duration": 9,
    "start_time": "2021-09-15T19:16:59.154Z"
   },
   {
    "duration": 7,
    "start_time": "2021-09-15T19:17:10.050Z"
   },
   {
    "duration": 373,
    "start_time": "2021-09-15T19:18:36.941Z"
   },
   {
    "duration": 12,
    "start_time": "2021-09-15T19:18:42.819Z"
   },
   {
    "duration": 12,
    "start_time": "2021-09-15T19:18:47.069Z"
   },
   {
    "duration": 10,
    "start_time": "2021-09-15T19:19:01.879Z"
   },
   {
    "duration": 1398,
    "start_time": "2021-09-17T09:53:02.827Z"
   },
   {
    "duration": 28,
    "start_time": "2021-09-17T09:53:08.007Z"
   },
   {
    "duration": 27,
    "start_time": "2021-09-17T09:53:08.995Z"
   },
   {
    "duration": 131,
    "start_time": "2021-09-17T09:53:14.682Z"
   },
   {
    "duration": 23,
    "start_time": "2021-09-17T09:55:56.564Z"
   },
   {
    "duration": 468,
    "start_time": "2021-09-17T09:56:17.661Z"
   },
   {
    "duration": 409,
    "start_time": "2021-09-17T09:56:23.903Z"
   },
   {
    "duration": 497,
    "start_time": "2021-09-17T09:56:30.267Z"
   },
   {
    "duration": 56,
    "start_time": "2021-09-17T09:58:11.844Z"
   },
   {
    "duration": 441,
    "start_time": "2021-09-17T10:02:29.548Z"
   },
   {
    "duration": 122,
    "start_time": "2021-09-17T10:02:34.315Z"
   },
   {
    "duration": 136,
    "start_time": "2021-09-17T10:02:36.248Z"
   },
   {
    "duration": 27,
    "start_time": "2021-09-17T10:02:38.658Z"
   },
   {
    "duration": 13,
    "start_time": "2021-09-17T10:02:48.074Z"
   },
   {
    "duration": 1380,
    "start_time": "2021-09-17T10:02:58.238Z"
   },
   {
    "duration": 21,
    "start_time": "2021-09-17T10:02:59.620Z"
   },
   {
    "duration": 34,
    "start_time": "2021-09-17T10:03:02.557Z"
   },
   {
    "duration": 141,
    "start_time": "2021-09-17T10:03:03.168Z"
   },
   {
    "duration": 538,
    "start_time": "2021-09-17T10:03:04.812Z"
   },
   {
    "duration": 44,
    "start_time": "2021-09-17T10:03:09.626Z"
   },
   {
    "duration": 110,
    "start_time": "2021-09-17T10:03:11.203Z"
   },
   {
    "duration": 26,
    "start_time": "2021-09-17T10:03:14.626Z"
   },
   {
    "duration": 12,
    "start_time": "2021-09-17T10:03:21.322Z"
   },
   {
    "duration": 1383,
    "start_time": "2021-09-17T10:03:51.234Z"
   },
   {
    "duration": 21,
    "start_time": "2021-09-17T10:03:52.620Z"
   },
   {
    "duration": 41,
    "start_time": "2021-09-17T10:03:52.643Z"
   },
   {
    "duration": 144,
    "start_time": "2021-09-17T10:03:52.801Z"
   },
   {
    "duration": 618,
    "start_time": "2021-09-17T10:03:54.551Z"
   },
   {
    "duration": 39,
    "start_time": "2021-09-17T10:03:56.111Z"
   },
   {
    "duration": 115,
    "start_time": "2021-09-17T10:03:57.023Z"
   },
   {
    "duration": 12,
    "start_time": "2021-09-17T10:03:57.537Z"
   },
   {
    "duration": 12,
    "start_time": "2021-09-17T10:04:08.000Z"
   },
   {
    "duration": 23,
    "start_time": "2021-09-17T10:04:11.182Z"
   },
   {
    "duration": 112,
    "start_time": "2021-09-17T10:04:11.517Z"
   },
   {
    "duration": 94,
    "start_time": "2021-09-17T10:04:51.961Z"
   },
   {
    "duration": 404,
    "start_time": "2021-09-17T10:05:45.966Z"
   },
   {
    "duration": 37,
    "start_time": "2021-09-17T10:07:32.231Z"
   },
   {
    "duration": 14,
    "start_time": "2021-09-17T10:07:32.674Z"
   },
   {
    "duration": 20,
    "start_time": "2021-09-17T10:08:26.650Z"
   },
   {
    "duration": 24,
    "start_time": "2021-09-17T10:08:27.463Z"
   },
   {
    "duration": 59,
    "start_time": "2021-09-17T10:08:40.985Z"
   },
   {
    "duration": 24,
    "start_time": "2021-09-17T10:08:48.956Z"
   },
   {
    "duration": 27,
    "start_time": "2021-09-17T10:09:13.059Z"
   },
   {
    "duration": 15,
    "start_time": "2021-09-17T10:09:15.284Z"
   },
   {
    "duration": 9,
    "start_time": "2021-09-17T10:09:23.009Z"
   },
   {
    "duration": 9,
    "start_time": "2021-09-17T10:09:33.145Z"
   },
   {
    "duration": 7,
    "start_time": "2021-09-17T10:10:20.952Z"
   },
   {
    "duration": 7,
    "start_time": "2021-09-17T10:10:23.004Z"
   },
   {
    "duration": 6,
    "start_time": "2021-09-17T10:10:24.685Z"
   },
   {
    "duration": 7580,
    "start_time": "2021-09-17T10:10:39.953Z"
   },
   {
    "duration": 6,
    "start_time": "2021-09-17T10:10:49.291Z"
   },
   {
    "duration": 71,
    "start_time": "2021-09-17T10:10:56.032Z"
   },
   {
    "duration": 7,
    "start_time": "2021-09-17T10:10:57.870Z"
   },
   {
    "duration": 16,
    "start_time": "2021-09-17T10:11:13.405Z"
   },
   {
    "duration": 359,
    "start_time": "2021-09-17T10:11:42.182Z"
   },
   {
    "duration": 283,
    "start_time": "2021-09-17T10:11:51.306Z"
   },
   {
    "duration": 11,
    "start_time": "2021-09-17T10:11:57.874Z"
   },
   {
    "duration": 12,
    "start_time": "2021-09-17T10:12:50.572Z"
   },
   {
    "duration": 9,
    "start_time": "2021-09-17T10:12:51.526Z"
   },
   {
    "duration": 13,
    "start_time": "2021-09-17T10:15:50.247Z"
   },
   {
    "duration": 97,
    "start_time": "2021-09-17T10:17:44.345Z"
   },
   {
    "duration": 8338,
    "start_time": "2021-09-17T10:19:16.897Z"
   },
   {
    "duration": 58,
    "start_time": "2021-09-17T10:20:39.815Z"
   },
   {
    "duration": 28,
    "start_time": "2021-09-17T10:20:51.842Z"
   },
   {
    "duration": 1793,
    "start_time": "2021-09-17T10:22:25.317Z"
   },
   {
    "duration": 400,
    "start_time": "2021-09-17T10:23:00.442Z"
   },
   {
    "duration": 42,
    "start_time": "2021-09-17T10:24:10.283Z"
   },
   {
    "duration": 12,
    "start_time": "2021-09-17T10:24:16.233Z"
   },
   {
    "duration": 301,
    "start_time": "2021-09-17T10:26:35.688Z"
   },
   {
    "duration": 296,
    "start_time": "2021-09-17T10:26:38.225Z"
   },
   {
    "duration": 39,
    "start_time": "2021-09-17T10:27:03.560Z"
   },
   {
    "duration": 68,
    "start_time": "2021-09-17T10:27:15.131Z"
   },
   {
    "duration": 29,
    "start_time": "2021-09-17T10:27:16.885Z"
   },
   {
    "duration": 12,
    "start_time": "2021-09-17T10:28:26.378Z"
   },
   {
    "duration": 24,
    "start_time": "2021-09-17T10:29:05.621Z"
   },
   {
    "duration": 19,
    "start_time": "2021-09-17T10:30:15.952Z"
   },
   {
    "duration": 23,
    "start_time": "2021-09-17T10:30:42.762Z"
   },
   {
    "duration": 48,
    "start_time": "2021-09-17T10:31:45.756Z"
   },
   {
    "duration": 19,
    "start_time": "2021-09-17T10:31:46.177Z"
   },
   {
    "duration": 12,
    "start_time": "2021-09-17T10:32:41.296Z"
   },
   {
    "duration": 42,
    "start_time": "2021-09-17T10:33:26.965Z"
   },
   {
    "duration": 48,
    "start_time": "2021-09-17T10:33:37.414Z"
   },
   {
    "duration": 4,
    "start_time": "2021-09-17T10:39:23.289Z"
   },
   {
    "duration": 5,
    "start_time": "2021-09-17T10:39:32.809Z"
   },
   {
    "duration": 6,
    "start_time": "2021-09-17T10:39:41.546Z"
   },
   {
    "duration": 5,
    "start_time": "2021-09-17T10:39:43.797Z"
   },
   {
    "duration": 15,
    "start_time": "2021-09-17T10:40:10.834Z"
   },
   {
    "duration": 7,
    "start_time": "2021-09-17T10:40:17.811Z"
   },
   {
    "duration": 18,
    "start_time": "2021-09-17T10:40:21.582Z"
   },
   {
    "duration": 6,
    "start_time": "2021-09-17T10:41:20.504Z"
   },
   {
    "duration": 18,
    "start_time": "2021-09-17T10:41:24.802Z"
   },
   {
    "duration": 1360,
    "start_time": "2021-09-17T10:45:58.740Z"
   },
   {
    "duration": 22,
    "start_time": "2021-09-17T10:46:00.102Z"
   },
   {
    "duration": 47,
    "start_time": "2021-09-17T10:46:00.127Z"
   },
   {
    "duration": 141,
    "start_time": "2021-09-17T10:46:00.178Z"
   },
   {
    "duration": 557,
    "start_time": "2021-09-17T10:46:00.322Z"
   },
   {
    "duration": 39,
    "start_time": "2021-09-17T10:46:00.882Z"
   },
   {
    "duration": 121,
    "start_time": "2021-09-17T10:46:00.924Z"
   },
   {
    "duration": 16,
    "start_time": "2021-09-17T10:46:01.049Z"
   },
   {
    "duration": 43,
    "start_time": "2021-09-17T10:46:01.068Z"
   },
   {
    "duration": 117,
    "start_time": "2021-09-17T10:46:01.113Z"
   },
   {
    "duration": 454,
    "start_time": "2021-09-17T10:46:01.233Z"
   },
   {
    "duration": 30,
    "start_time": "2021-09-17T10:46:01.690Z"
   },
   {
    "duration": 93,
    "start_time": "2021-09-17T10:46:01.723Z"
   },
   {
    "duration": 113,
    "start_time": "2021-09-17T10:46:01.818Z"
   },
   {
    "duration": 47,
    "start_time": "2021-09-17T10:46:01.934Z"
   },
   {
    "duration": 63,
    "start_time": "2021-09-17T10:46:01.984Z"
   },
   {
    "duration": 37,
    "start_time": "2021-09-17T10:46:02.049Z"
   },
   {
    "duration": 37,
    "start_time": "2021-09-17T10:46:02.089Z"
   },
   {
    "duration": 42,
    "start_time": "2021-09-17T10:46:02.129Z"
   },
   {
    "duration": 61,
    "start_time": "2021-09-17T10:46:02.174Z"
   },
   {
    "duration": 70,
    "start_time": "2021-09-17T10:46:02.238Z"
   },
   {
    "duration": 13,
    "start_time": "2021-09-17T10:46:02.311Z"
   },
   {
    "duration": 20,
    "start_time": "2021-09-17T10:46:02.329Z"
   },
   {
    "duration": 30,
    "start_time": "2021-09-17T10:46:02.352Z"
   },
   {
    "duration": 16,
    "start_time": "2021-09-17T10:46:02.384Z"
   },
   {
    "duration": 26,
    "start_time": "2021-09-17T10:46:02.403Z"
   },
   {
    "duration": 40,
    "start_time": "2021-09-17T10:46:02.431Z"
   },
   {
    "duration": 1528,
    "start_time": "2021-09-17T10:46:02.474Z"
   },
   {
    "duration": 414,
    "start_time": "2021-09-17T10:46:04.005Z"
   },
   {
    "duration": -77,
    "start_time": "2021-09-17T10:46:04.498Z"
   },
   {
    "duration": -79,
    "start_time": "2021-09-17T10:46:04.502Z"
   },
   {
    "duration": -81,
    "start_time": "2021-09-17T10:46:04.505Z"
   },
   {
    "duration": -82,
    "start_time": "2021-09-17T10:46:04.508Z"
   },
   {
    "duration": -85,
    "start_time": "2021-09-17T10:46:04.512Z"
   },
   {
    "duration": -87,
    "start_time": "2021-09-17T10:46:04.515Z"
   },
   {
    "duration": -109,
    "start_time": "2021-09-17T10:46:04.539Z"
   },
   {
    "duration": -112,
    "start_time": "2021-09-17T10:46:04.543Z"
   },
   {
    "duration": -119,
    "start_time": "2021-09-17T10:46:04.551Z"
   },
   {
    "duration": -121,
    "start_time": "2021-09-17T10:46:04.555Z"
   },
   {
    "duration": -123,
    "start_time": "2021-09-17T10:46:04.558Z"
   },
   {
    "duration": 33,
    "start_time": "2021-09-17T10:46:32.598Z"
   },
   {
    "duration": 67,
    "start_time": "2021-09-17T10:46:40.351Z"
   },
   {
    "duration": 19,
    "start_time": "2021-09-17T10:46:41.265Z"
   },
   {
    "duration": 27,
    "start_time": "2021-09-17T10:46:47.958Z"
   },
   {
    "duration": 12,
    "start_time": "2021-09-17T10:46:49.427Z"
   },
   {
    "duration": 47,
    "start_time": "2021-09-17T10:46:54.731Z"
   },
   {
    "duration": 19,
    "start_time": "2021-09-17T10:46:55.226Z"
   },
   {
    "duration": 31,
    "start_time": "2021-09-17T10:47:01.134Z"
   },
   {
    "duration": 13,
    "start_time": "2021-09-17T10:47:02.700Z"
   },
   {
    "duration": 45,
    "start_time": "2021-09-17T10:47:15.380Z"
   },
   {
    "duration": 4,
    "start_time": "2021-09-17T10:47:19.226Z"
   },
   {
    "duration": 7,
    "start_time": "2021-09-17T10:47:19.597Z"
   },
   {
    "duration": 5,
    "start_time": "2021-09-17T10:47:21.549Z"
   },
   {
    "duration": 33,
    "start_time": "2021-09-17T10:50:41.841Z"
   },
   {
    "duration": 11,
    "start_time": "2021-09-17T10:51:14.159Z"
   },
   {
    "duration": 22,
    "start_time": "2021-09-17T10:51:18.085Z"
   },
   {
    "duration": 9,
    "start_time": "2021-09-17T10:51:49.589Z"
   },
   {
    "duration": 20,
    "start_time": "2021-09-17T10:52:55.529Z"
   },
   {
    "duration": 285,
    "start_time": "2021-09-17T10:53:12.392Z"
   },
   {
    "duration": 453,
    "start_time": "2021-09-17T10:53:19.993Z"
   },
   {
    "duration": 123,
    "start_time": "2021-09-17T10:54:15.425Z"
   },
   {
    "duration": 28,
    "start_time": "2021-09-17T10:54:20.694Z"
   },
   {
    "duration": 10,
    "start_time": "2021-09-17T10:54:28.526Z"
   },
   {
    "duration": 22,
    "start_time": "2021-09-17T10:55:44.127Z"
   },
   {
    "duration": 14,
    "start_time": "2021-09-17T10:55:51.456Z"
   },
   {
    "duration": 10,
    "start_time": "2021-09-17T10:55:58.263Z"
   },
   {
    "duration": 14,
    "start_time": "2021-09-17T10:57:13.738Z"
   },
   {
    "duration": 12,
    "start_time": "2021-09-17T10:58:40.298Z"
   },
   {
    "duration": 16,
    "start_time": "2021-09-17T10:59:32.414Z"
   },
   {
    "duration": 12,
    "start_time": "2021-09-17T10:59:41.293Z"
   },
   {
    "duration": 338,
    "start_time": "2021-09-17T11:00:39.046Z"
   },
   {
    "duration": 8288,
    "start_time": "2021-09-17T11:01:54.172Z"
   },
   {
    "duration": 295,
    "start_time": "2021-09-17T11:02:18.099Z"
   },
   {
    "duration": 278,
    "start_time": "2021-09-17T11:04:43.121Z"
   },
   {
    "duration": 275,
    "start_time": "2021-09-17T11:04:45.919Z"
   },
   {
    "duration": 402,
    "start_time": "2021-09-17T11:05:50.449Z"
   },
   {
    "duration": 293,
    "start_time": "2021-09-17T11:09:06.794Z"
   },
   {
    "duration": 22,
    "start_time": "2021-09-17T11:09:18.965Z"
   },
   {
    "duration": 1531,
    "start_time": "2021-09-17T11:10:18.221Z"
   },
   {
    "duration": 29,
    "start_time": "2021-09-17T11:10:19.754Z"
   },
   {
    "duration": 34,
    "start_time": "2021-09-17T11:10:19.786Z"
   },
   {
    "duration": 156,
    "start_time": "2021-09-17T11:10:19.822Z"
   },
   {
    "duration": 559,
    "start_time": "2021-09-17T11:10:19.980Z"
   },
   {
    "duration": 51,
    "start_time": "2021-09-17T11:10:20.542Z"
   },
   {
    "duration": 124,
    "start_time": "2021-09-17T11:10:20.595Z"
   },
   {
    "duration": 13,
    "start_time": "2021-09-17T11:10:20.723Z"
   },
   {
    "duration": 42,
    "start_time": "2021-09-17T11:10:20.739Z"
   },
   {
    "duration": 112,
    "start_time": "2021-09-17T11:10:20.784Z"
   },
   {
    "duration": 439,
    "start_time": "2021-09-17T11:10:20.899Z"
   },
   {
    "duration": 40,
    "start_time": "2021-09-17T11:10:21.341Z"
   },
   {
    "duration": 14,
    "start_time": "2021-09-17T11:10:21.384Z"
   },
   {
    "duration": 31,
    "start_time": "2021-09-17T11:10:21.401Z"
   },
   {
    "duration": 45,
    "start_time": "2021-09-17T11:10:21.435Z"
   },
   {
    "duration": 84,
    "start_time": "2021-09-17T11:10:21.483Z"
   },
   {
    "duration": 33,
    "start_time": "2021-09-17T11:10:21.569Z"
   },
   {
    "duration": 15,
    "start_time": "2021-09-17T11:10:21.604Z"
   },
   {
    "duration": 47,
    "start_time": "2021-09-17T11:10:21.621Z"
   },
   {
    "duration": 9,
    "start_time": "2021-09-17T11:10:21.720Z"
   },
   {
    "duration": 9,
    "start_time": "2021-09-17T11:10:21.731Z"
   },
   {
    "duration": 18,
    "start_time": "2021-09-17T11:10:21.755Z"
   },
   {
    "duration": 8,
    "start_time": "2021-09-17T11:10:21.778Z"
   },
   {
    "duration": 10,
    "start_time": "2021-09-17T11:10:21.788Z"
   },
   {
    "duration": 14,
    "start_time": "2021-09-17T11:10:21.800Z"
   },
   {
    "duration": 44,
    "start_time": "2021-09-17T11:10:21.816Z"
   },
   {
    "duration": 14,
    "start_time": "2021-09-17T11:10:21.863Z"
   },
   {
    "duration": 37,
    "start_time": "2021-09-17T11:10:21.880Z"
   },
   {
    "duration": 81,
    "start_time": "2021-09-17T11:10:21.919Z"
   },
   {
    "duration": 18,
    "start_time": "2021-09-17T11:10:22.002Z"
   },
   {
    "duration": 43,
    "start_time": "2021-09-17T11:10:22.022Z"
   },
   {
    "duration": 30,
    "start_time": "2021-09-17T11:10:22.068Z"
   },
   {
    "duration": 40,
    "start_time": "2021-09-17T11:10:22.101Z"
   },
   {
    "duration": 39,
    "start_time": "2021-09-17T11:10:22.143Z"
   },
   {
    "duration": 44,
    "start_time": "2021-09-17T11:10:22.184Z"
   },
   {
    "duration": 59,
    "start_time": "2021-09-17T11:10:22.230Z"
   },
   {
    "duration": 4,
    "start_time": "2021-09-17T11:10:22.291Z"
   },
   {
    "duration": 23,
    "start_time": "2021-09-17T11:10:22.298Z"
   },
   {
    "duration": 14,
    "start_time": "2021-09-17T11:10:22.324Z"
   },
   {
    "duration": 41,
    "start_time": "2021-09-17T11:10:22.341Z"
   },
   {
    "duration": 13,
    "start_time": "2021-09-17T11:10:22.384Z"
   },
   {
    "duration": 1302,
    "start_time": "2021-09-17T11:10:22.399Z"
   },
   {
    "duration": -79,
    "start_time": "2021-09-17T11:10:23.783Z"
   },
   {
    "duration": -80,
    "start_time": "2021-09-17T11:10:23.786Z"
   },
   {
    "duration": 29,
    "start_time": "2021-09-17T11:13:06.669Z"
   },
   {
    "duration": 16,
    "start_time": "2021-09-17T11:13:15.473Z"
   },
   {
    "duration": 384,
    "start_time": "2021-09-17T11:13:19.850Z"
   },
   {
    "duration": 27,
    "start_time": "2021-09-17T11:13:24.712Z"
   },
   {
    "duration": 28,
    "start_time": "2021-09-17T11:13:36.313Z"
   },
   {
    "duration": 30,
    "start_time": "2021-09-17T11:14:01.678Z"
   },
   {
    "duration": 25,
    "start_time": "2021-09-17T11:14:11.119Z"
   },
   {
    "duration": 25,
    "start_time": "2021-09-17T11:14:15.222Z"
   },
   {
    "duration": 20,
    "start_time": "2021-09-17T11:14:50.753Z"
   },
   {
    "duration": 11,
    "start_time": "2021-09-17T11:14:54.271Z"
   },
   {
    "duration": 23,
    "start_time": "2021-09-17T11:15:02.852Z"
   },
   {
    "duration": 1314,
    "start_time": "2021-09-17T13:20:15.251Z"
   },
   {
    "duration": 26,
    "start_time": "2021-09-17T13:20:16.567Z"
   },
   {
    "duration": 45,
    "start_time": "2021-09-17T13:20:16.596Z"
   },
   {
    "duration": 135,
    "start_time": "2021-09-17T13:20:16.644Z"
   },
   {
    "duration": 524,
    "start_time": "2021-09-17T13:20:16.782Z"
   },
   {
    "duration": 40,
    "start_time": "2021-09-17T13:20:17.310Z"
   },
   {
    "duration": 119,
    "start_time": "2021-09-17T13:20:17.353Z"
   },
   {
    "duration": 14,
    "start_time": "2021-09-17T13:20:17.483Z"
   },
   {
    "duration": 26,
    "start_time": "2021-09-17T13:20:17.504Z"
   },
   {
    "duration": 133,
    "start_time": "2021-09-17T13:20:17.534Z"
   },
   {
    "duration": 433,
    "start_time": "2021-09-17T13:20:17.670Z"
   },
   {
    "duration": 31,
    "start_time": "2021-09-17T13:20:18.107Z"
   },
   {
    "duration": 13,
    "start_time": "2021-09-17T13:20:18.140Z"
   },
   {
    "duration": 17,
    "start_time": "2021-09-17T13:20:18.183Z"
   },
   {
    "duration": 21,
    "start_time": "2021-09-17T13:20:18.202Z"
   },
   {
    "duration": 95,
    "start_time": "2021-09-17T13:20:18.226Z"
   },
   {
    "duration": 26,
    "start_time": "2021-09-17T13:20:18.324Z"
   },
   {
    "duration": 32,
    "start_time": "2021-09-17T13:20:18.353Z"
   },
   {
    "duration": 22,
    "start_time": "2021-09-17T13:20:18.388Z"
   },
   {
    "duration": 75,
    "start_time": "2021-09-17T13:20:18.413Z"
   },
   {
    "duration": 6,
    "start_time": "2021-09-17T13:20:18.491Z"
   },
   {
    "duration": 14,
    "start_time": "2021-09-17T13:20:18.500Z"
   },
   {
    "duration": 12,
    "start_time": "2021-09-17T13:20:18.516Z"
   },
   {
    "duration": 7,
    "start_time": "2021-09-17T13:20:18.531Z"
   },
   {
    "duration": 45,
    "start_time": "2021-09-17T13:20:18.540Z"
   },
   {
    "duration": 14,
    "start_time": "2021-09-17T13:20:18.587Z"
   },
   {
    "duration": 19,
    "start_time": "2021-09-17T13:20:18.606Z"
   },
   {
    "duration": 44,
    "start_time": "2021-09-17T13:20:18.628Z"
   },
   {
    "duration": 55,
    "start_time": "2021-09-17T13:20:18.683Z"
   },
   {
    "duration": 20,
    "start_time": "2021-09-17T13:20:18.741Z"
   },
   {
    "duration": 12,
    "start_time": "2021-09-17T13:20:18.783Z"
   },
   {
    "duration": 26,
    "start_time": "2021-09-17T13:20:18.797Z"
   },
   {
    "duration": 58,
    "start_time": "2021-09-17T13:20:18.826Z"
   },
   {
    "duration": 18,
    "start_time": "2021-09-17T13:20:18.886Z"
   },
   {
    "duration": 32,
    "start_time": "2021-09-17T13:20:18.907Z"
   },
   {
    "duration": 62,
    "start_time": "2021-09-17T13:20:18.942Z"
   },
   {
    "duration": 4,
    "start_time": "2021-09-17T13:20:19.006Z"
   },
   {
    "duration": 14,
    "start_time": "2021-09-17T13:20:19.012Z"
   },
   {
    "duration": 7,
    "start_time": "2021-09-17T13:20:19.028Z"
   },
   {
    "duration": 54,
    "start_time": "2021-09-17T13:20:19.037Z"
   },
   {
    "duration": 13,
    "start_time": "2021-09-17T13:20:19.094Z"
   },
   {
    "duration": 26,
    "start_time": "2021-09-17T13:20:19.110Z"
   },
   {
    "duration": 11,
    "start_time": "2021-09-17T13:20:43.965Z"
   },
   {
    "duration": 13,
    "start_time": "2021-09-17T13:21:48.988Z"
   },
   {
    "duration": 9883,
    "start_time": "2021-09-17T13:23:42.002Z"
   },
   {
    "duration": 342,
    "start_time": "2021-09-17T13:24:54.412Z"
   },
   {
    "duration": 6663,
    "start_time": "2021-09-17T13:24:58.823Z"
   },
   {
    "duration": 347,
    "start_time": "2021-09-17T13:26:58.207Z"
   },
   {
    "duration": 7802,
    "start_time": "2021-09-17T13:27:02.501Z"
   },
   {
    "duration": 5,
    "start_time": "2021-09-17T13:29:11.088Z"
   },
   {
    "duration": 5,
    "start_time": "2021-09-17T13:29:11.768Z"
   },
   {
    "duration": 355,
    "start_time": "2021-09-17T13:29:23.347Z"
   },
   {
    "duration": 376,
    "start_time": "2021-09-17T13:29:33.535Z"
   },
   {
    "duration": 11,
    "start_time": "2021-09-17T13:29:39.128Z"
   },
   {
    "duration": 21,
    "start_time": "2021-09-17T13:30:13.189Z"
   },
   {
    "duration": 1285,
    "start_time": "2021-09-17T13:30:20.042Z"
   },
   {
    "duration": 22,
    "start_time": "2021-09-17T13:30:21.329Z"
   },
   {
    "duration": 29,
    "start_time": "2021-09-17T13:30:21.354Z"
   },
   {
    "duration": 138,
    "start_time": "2021-09-17T13:30:21.386Z"
   },
   {
    "duration": 520,
    "start_time": "2021-09-17T13:30:21.526Z"
   },
   {
    "duration": 53,
    "start_time": "2021-09-17T13:30:22.048Z"
   },
   {
    "duration": 106,
    "start_time": "2021-09-17T13:30:22.103Z"
   },
   {
    "duration": 12,
    "start_time": "2021-09-17T13:30:22.213Z"
   },
   {
    "duration": 28,
    "start_time": "2021-09-17T13:30:22.228Z"
   },
   {
    "duration": 134,
    "start_time": "2021-09-17T13:30:22.258Z"
   },
   {
    "duration": 439,
    "start_time": "2021-09-17T13:30:22.394Z"
   },
   {
    "duration": 32,
    "start_time": "2021-09-17T13:30:22.835Z"
   },
   {
    "duration": 13,
    "start_time": "2021-09-17T13:30:22.883Z"
   },
   {
    "duration": 22,
    "start_time": "2021-09-17T13:30:22.899Z"
   },
   {
    "duration": 20,
    "start_time": "2021-09-17T13:30:22.923Z"
   },
   {
    "duration": 96,
    "start_time": "2021-09-17T13:30:22.946Z"
   },
   {
    "duration": 45,
    "start_time": "2021-09-17T13:30:23.044Z"
   },
   {
    "duration": 14,
    "start_time": "2021-09-17T13:30:23.091Z"
   },
   {
    "duration": 13,
    "start_time": "2021-09-17T13:30:23.107Z"
   },
   {
    "duration": 9,
    "start_time": "2021-09-17T13:30:23.188Z"
   },
   {
    "duration": 10,
    "start_time": "2021-09-17T13:30:23.199Z"
   },
   {
    "duration": 16,
    "start_time": "2021-09-17T13:30:23.212Z"
   },
   {
    "duration": 12,
    "start_time": "2021-09-17T13:30:23.232Z"
   },
   {
    "duration": 10,
    "start_time": "2021-09-17T13:30:23.247Z"
   },
   {
    "duration": 35,
    "start_time": "2021-09-17T13:30:23.259Z"
   },
   {
    "duration": 14,
    "start_time": "2021-09-17T13:30:23.296Z"
   },
   {
    "duration": 13,
    "start_time": "2021-09-17T13:30:23.312Z"
   },
   {
    "duration": 40,
    "start_time": "2021-09-17T13:30:23.327Z"
   },
   {
    "duration": 59,
    "start_time": "2021-09-17T13:30:23.383Z"
   },
   {
    "duration": 19,
    "start_time": "2021-09-17T13:30:23.445Z"
   },
   {
    "duration": 10,
    "start_time": "2021-09-17T13:30:23.484Z"
   },
   {
    "duration": 23,
    "start_time": "2021-09-17T13:30:23.496Z"
   },
   {
    "duration": 63,
    "start_time": "2021-09-17T13:30:23.521Z"
   },
   {
    "duration": 17,
    "start_time": "2021-09-17T13:30:23.586Z"
   },
   {
    "duration": 32,
    "start_time": "2021-09-17T13:30:23.605Z"
   },
   {
    "duration": 63,
    "start_time": "2021-09-17T13:30:23.639Z"
   },
   {
    "duration": 4,
    "start_time": "2021-09-17T13:30:23.704Z"
   },
   {
    "duration": 14,
    "start_time": "2021-09-17T13:30:23.710Z"
   },
   {
    "duration": 14,
    "start_time": "2021-09-17T13:30:23.726Z"
   },
   {
    "duration": 51,
    "start_time": "2021-09-17T13:30:23.742Z"
   },
   {
    "duration": 14,
    "start_time": "2021-09-17T13:30:23.796Z"
   },
   {
    "duration": 26,
    "start_time": "2021-09-17T13:30:23.812Z"
   },
   {
    "duration": 4,
    "start_time": "2021-09-17T13:30:23.840Z"
   },
   {
    "duration": 38,
    "start_time": "2021-09-17T13:30:23.846Z"
   },
   {
    "duration": 32,
    "start_time": "2021-09-17T13:30:23.886Z"
   },
   {
    "duration": 11,
    "start_time": "2021-09-17T13:34:56.090Z"
   },
   {
    "duration": 22,
    "start_time": "2021-09-17T13:34:59.705Z"
   },
   {
    "duration": 11,
    "start_time": "2021-09-17T13:39:08.483Z"
   },
   {
    "duration": 7,
    "start_time": "2021-09-17T13:56:55.762Z"
   },
   {
    "duration": 893,
    "start_time": "2021-09-17T13:57:16.514Z"
   },
   {
    "duration": 837,
    "start_time": "2021-09-17T13:58:47.572Z"
   },
   {
    "duration": 26,
    "start_time": "2021-09-17T13:58:52.249Z"
   },
   {
    "duration": 1407,
    "start_time": "2021-09-17T13:59:54.732Z"
   },
   {
    "duration": 27,
    "start_time": "2021-09-17T13:59:56.142Z"
   },
   {
    "duration": 40,
    "start_time": "2021-09-17T13:59:56.172Z"
   },
   {
    "duration": 133,
    "start_time": "2021-09-17T13:59:56.215Z"
   },
   {
    "duration": 550,
    "start_time": "2021-09-17T13:59:56.351Z"
   },
   {
    "duration": 51,
    "start_time": "2021-09-17T13:59:56.904Z"
   },
   {
    "duration": 124,
    "start_time": "2021-09-17T13:59:56.958Z"
   },
   {
    "duration": 12,
    "start_time": "2021-09-17T13:59:57.086Z"
   },
   {
    "duration": 33,
    "start_time": "2021-09-17T13:59:57.100Z"
   },
   {
    "duration": 130,
    "start_time": "2021-09-17T13:59:57.136Z"
   },
   {
    "duration": 439,
    "start_time": "2021-09-17T13:59:57.269Z"
   },
   {
    "duration": 46,
    "start_time": "2021-09-17T13:59:57.712Z"
   },
   {
    "duration": 22,
    "start_time": "2021-09-17T13:59:57.761Z"
   },
   {
    "duration": 22,
    "start_time": "2021-09-17T13:59:57.786Z"
   },
   {
    "duration": 27,
    "start_time": "2021-09-17T13:59:57.811Z"
   },
   {
    "duration": 75,
    "start_time": "2021-09-17T13:59:57.841Z"
   },
   {
    "duration": 26,
    "start_time": "2021-09-17T13:59:57.918Z"
   },
   {
    "duration": 20,
    "start_time": "2021-09-17T13:59:57.948Z"
   },
   {
    "duration": 21,
    "start_time": "2021-09-17T13:59:57.971Z"
   },
   {
    "duration": 11,
    "start_time": "2021-09-17T13:59:58.053Z"
   },
   {
    "duration": 16,
    "start_time": "2021-09-17T13:59:58.067Z"
   },
   {
    "duration": 10,
    "start_time": "2021-09-17T13:59:58.086Z"
   },
   {
    "duration": 7,
    "start_time": "2021-09-17T13:59:58.104Z"
   },
   {
    "duration": 8,
    "start_time": "2021-09-17T13:59:58.115Z"
   },
   {
    "duration": 11,
    "start_time": "2021-09-17T13:59:58.125Z"
   },
   {
    "duration": 12,
    "start_time": "2021-09-17T13:59:58.138Z"
   },
   {
    "duration": 14,
    "start_time": "2021-09-17T13:59:58.152Z"
   },
   {
    "duration": 35,
    "start_time": "2021-09-17T13:59:58.168Z"
   },
   {
    "duration": 58,
    "start_time": "2021-09-17T13:59:58.205Z"
   },
   {
    "duration": 28,
    "start_time": "2021-09-17T13:59:58.266Z"
   },
   {
    "duration": 15,
    "start_time": "2021-09-17T13:59:58.297Z"
   },
   {
    "duration": 24,
    "start_time": "2021-09-17T13:59:58.315Z"
   },
   {
    "duration": 36,
    "start_time": "2021-09-17T13:59:58.341Z"
   },
   {
    "duration": 18,
    "start_time": "2021-09-17T13:59:58.382Z"
   },
   {
    "duration": 29,
    "start_time": "2021-09-17T13:59:58.403Z"
   },
   {
    "duration": 50,
    "start_time": "2021-09-17T13:59:58.434Z"
   },
   {
    "duration": 4,
    "start_time": "2021-09-17T13:59:58.486Z"
   },
   {
    "duration": 10,
    "start_time": "2021-09-17T13:59:58.492Z"
   },
   {
    "duration": 7,
    "start_time": "2021-09-17T13:59:58.504Z"
   },
   {
    "duration": 39,
    "start_time": "2021-09-17T13:59:58.513Z"
   },
   {
    "duration": 14,
    "start_time": "2021-09-17T13:59:58.556Z"
   },
   {
    "duration": 16,
    "start_time": "2021-09-17T13:59:58.572Z"
   },
   {
    "duration": 4,
    "start_time": "2021-09-17T13:59:58.590Z"
   },
   {
    "duration": 25,
    "start_time": "2021-09-17T13:59:58.596Z"
   },
   {
    "duration": 11,
    "start_time": "2021-09-17T13:59:58.624Z"
   },
   {
    "duration": 8,
    "start_time": "2021-09-17T13:59:58.637Z"
   },
   {
    "duration": 692,
    "start_time": "2021-09-17T13:59:58.648Z"
   },
   {
    "duration": -817,
    "start_time": "2021-09-17T14:00:00.160Z"
   },
   {
    "duration": 894,
    "start_time": "2021-09-17T14:00:08.948Z"
   },
   {
    "duration": 26,
    "start_time": "2021-09-17T14:00:10.514Z"
   },
   {
    "duration": 1791,
    "start_time": "2021-09-17T14:03:39.644Z"
   },
   {
    "duration": 22,
    "start_time": "2021-09-17T14:03:41.438Z"
   },
   {
    "duration": 33,
    "start_time": "2021-09-17T14:03:41.463Z"
   },
   {
    "duration": 137,
    "start_time": "2021-09-17T14:03:41.499Z"
   },
   {
    "duration": 541,
    "start_time": "2021-09-17T14:03:41.638Z"
   },
   {
    "duration": 37,
    "start_time": "2021-09-17T14:03:42.182Z"
   },
   {
    "duration": 117,
    "start_time": "2021-09-17T14:03:42.221Z"
   },
   {
    "duration": 12,
    "start_time": "2021-09-17T14:03:42.342Z"
   },
   {
    "duration": 43,
    "start_time": "2021-09-17T14:03:42.357Z"
   },
   {
    "duration": 108,
    "start_time": "2021-09-17T14:03:42.402Z"
   },
   {
    "duration": 440,
    "start_time": "2021-09-17T14:03:42.513Z"
   },
   {
    "duration": 38,
    "start_time": "2021-09-17T14:03:42.956Z"
   },
   {
    "duration": 11,
    "start_time": "2021-09-17T14:03:42.996Z"
   },
   {
    "duration": 17,
    "start_time": "2021-09-17T14:03:43.009Z"
   },
   {
    "duration": 18,
    "start_time": "2021-09-17T14:03:43.028Z"
   },
   {
    "duration": 89,
    "start_time": "2021-09-17T14:03:43.049Z"
   },
   {
    "duration": 25,
    "start_time": "2021-09-17T14:03:43.140Z"
   },
   {
    "duration": 15,
    "start_time": "2021-09-17T14:03:43.183Z"
   },
   {
    "duration": 14,
    "start_time": "2021-09-17T14:03:43.200Z"
   },
   {
    "duration": 73,
    "start_time": "2021-09-17T14:03:43.216Z"
   },
   {
    "duration": 9,
    "start_time": "2021-09-17T14:03:43.292Z"
   },
   {
    "duration": 9,
    "start_time": "2021-09-17T14:03:43.304Z"
   },
   {
    "duration": 6,
    "start_time": "2021-09-17T14:03:43.319Z"
   },
   {
    "duration": 6,
    "start_time": "2021-09-17T14:03:43.328Z"
   },
   {
    "duration": 51,
    "start_time": "2021-09-17T14:03:43.337Z"
   },
   {
    "duration": 12,
    "start_time": "2021-09-17T14:03:43.390Z"
   },
   {
    "duration": 12,
    "start_time": "2021-09-17T14:03:43.404Z"
   },
   {
    "duration": 38,
    "start_time": "2021-09-17T14:03:43.418Z"
   },
   {
    "duration": 78,
    "start_time": "2021-09-17T14:03:43.459Z"
   },
   {
    "duration": 19,
    "start_time": "2021-09-17T14:03:43.539Z"
   },
   {
    "duration": 30,
    "start_time": "2021-09-17T14:03:43.560Z"
   },
   {
    "duration": 27,
    "start_time": "2021-09-17T14:03:43.593Z"
   },
   {
    "duration": 60,
    "start_time": "2021-09-17T14:03:43.622Z"
   },
   {
    "duration": 21,
    "start_time": "2021-09-17T14:03:43.685Z"
   },
   {
    "duration": 31,
    "start_time": "2021-09-17T14:03:43.708Z"
   },
   {
    "duration": 69,
    "start_time": "2021-09-17T14:03:43.742Z"
   },
   {
    "duration": 3,
    "start_time": "2021-09-17T14:03:43.814Z"
   },
   {
    "duration": 14,
    "start_time": "2021-09-17T14:03:43.820Z"
   },
   {
    "duration": 11,
    "start_time": "2021-09-17T14:03:43.836Z"
   },
   {
    "duration": 49,
    "start_time": "2021-09-17T14:03:43.849Z"
   },
   {
    "duration": 13,
    "start_time": "2021-09-17T14:03:43.900Z"
   },
   {
    "duration": 11,
    "start_time": "2021-09-17T14:03:43.916Z"
   },
   {
    "duration": 7,
    "start_time": "2021-09-17T14:03:43.929Z"
   },
   {
    "duration": 58,
    "start_time": "2021-09-17T14:03:43.939Z"
   },
   {
    "duration": 10,
    "start_time": "2021-09-17T14:03:44.000Z"
   },
   {
    "duration": 8,
    "start_time": "2021-09-17T14:03:44.012Z"
   },
   {
    "duration": 868,
    "start_time": "2021-09-17T14:03:44.022Z"
   },
   {
    "duration": 23,
    "start_time": "2021-09-17T14:03:44.892Z"
   },
   {
    "duration": 120,
    "start_time": "2021-09-17T14:04:27.078Z"
   },
   {
    "duration": 3,
    "start_time": "2021-09-17T14:11:19.822Z"
   },
   {
    "duration": 4,
    "start_time": "2021-09-17T14:12:36.162Z"
   },
   {
    "duration": 6,
    "start_time": "2021-09-17T14:12:39.047Z"
   },
   {
    "duration": 4,
    "start_time": "2021-09-17T14:12:49.138Z"
   },
   {
    "duration": 6,
    "start_time": "2021-09-17T14:12:49.804Z"
   },
   {
    "duration": 23,
    "start_time": "2021-09-17T14:12:53.058Z"
   },
   {
    "duration": 7,
    "start_time": "2021-09-17T14:14:32.216Z"
   },
   {
    "duration": 6,
    "start_time": "2021-09-17T14:14:42.713Z"
   },
   {
    "duration": 6,
    "start_time": "2021-09-17T14:16:32.516Z"
   },
   {
    "duration": 28,
    "start_time": "2021-09-17T14:16:37.961Z"
   },
   {
    "duration": 8,
    "start_time": "2021-09-17T14:17:59.276Z"
   },
   {
    "duration": 696,
    "start_time": "2021-09-17T14:18:15.413Z"
   },
   {
    "duration": 376,
    "start_time": "2021-09-17T14:18:24.989Z"
   },
   {
    "duration": 385,
    "start_time": "2021-09-17T14:18:32.704Z"
   },
   {
    "duration": 9,
    "start_time": "2021-09-17T14:18:36.520Z"
   },
   {
    "duration": 7,
    "start_time": "2021-09-17T14:20:32.849Z"
   },
   {
    "duration": 6,
    "start_time": "2021-09-17T14:20:41.452Z"
   },
   {
    "duration": 28,
    "start_time": "2021-09-17T14:20:43.775Z"
   },
   {
    "duration": 5,
    "start_time": "2021-09-17T14:20:48.596Z"
   },
   {
    "duration": 29,
    "start_time": "2021-09-17T14:20:49.093Z"
   },
   {
    "duration": 8,
    "start_time": "2021-09-17T14:21:07.928Z"
   },
   {
    "duration": 29,
    "start_time": "2021-09-17T14:21:08.288Z"
   },
   {
    "duration": 361,
    "start_time": "2021-09-17T14:21:20.479Z"
   },
   {
    "duration": 25,
    "start_time": "2021-09-17T14:21:21.230Z"
   },
   {
    "duration": 1266,
    "start_time": "2021-09-17T14:21:38.724Z"
   },
   {
    "duration": 23,
    "start_time": "2021-09-17T14:21:39.993Z"
   },
   {
    "duration": 96,
    "start_time": "2021-09-17T14:21:40.020Z"
   },
   {
    "duration": 130,
    "start_time": "2021-09-17T14:21:40.119Z"
   },
   {
    "duration": 526,
    "start_time": "2021-09-17T14:21:40.253Z"
   },
   {
    "duration": 40,
    "start_time": "2021-09-17T14:21:40.783Z"
   },
   {
    "duration": 124,
    "start_time": "2021-09-17T14:21:40.825Z"
   },
   {
    "duration": 13,
    "start_time": "2021-09-17T14:21:40.954Z"
   },
   {
    "duration": 23,
    "start_time": "2021-09-17T14:21:40.983Z"
   },
   {
    "duration": 120,
    "start_time": "2021-09-17T14:21:41.009Z"
   },
   {
    "duration": 435,
    "start_time": "2021-09-17T14:21:41.131Z"
   },
   {
    "duration": 35,
    "start_time": "2021-09-17T14:21:41.568Z"
   },
   {
    "duration": 12,
    "start_time": "2021-09-17T14:21:41.606Z"
   },
   {
    "duration": 17,
    "start_time": "2021-09-17T14:21:41.621Z"
   },
   {
    "duration": 44,
    "start_time": "2021-09-17T14:21:41.640Z"
   },
   {
    "duration": 64,
    "start_time": "2021-09-17T14:21:41.686Z"
   },
   {
    "duration": 52,
    "start_time": "2021-09-17T14:21:41.753Z"
   },
   {
    "duration": 14,
    "start_time": "2021-09-17T14:21:41.807Z"
   },
   {
    "duration": 12,
    "start_time": "2021-09-17T14:21:41.823Z"
   },
   {
    "duration": 77,
    "start_time": "2021-09-17T14:21:41.837Z"
   },
   {
    "duration": 6,
    "start_time": "2021-09-17T14:21:41.917Z"
   },
   {
    "duration": 10,
    "start_time": "2021-09-17T14:21:41.925Z"
   },
   {
    "duration": 6,
    "start_time": "2021-09-17T14:21:41.941Z"
   },
   {
    "duration": 34,
    "start_time": "2021-09-17T14:21:41.950Z"
   },
   {
    "duration": 17,
    "start_time": "2021-09-17T14:21:41.986Z"
   },
   {
    "duration": 21,
    "start_time": "2021-09-17T14:21:42.005Z"
   },
   {
    "duration": 20,
    "start_time": "2021-09-17T14:21:42.028Z"
   },
   {
    "duration": 50,
    "start_time": "2021-09-17T14:21:42.051Z"
   },
   {
    "duration": 59,
    "start_time": "2021-09-17T14:21:42.103Z"
   },
   {
    "duration": 32,
    "start_time": "2021-09-17T14:21:42.164Z"
   },
   {
    "duration": 14,
    "start_time": "2021-09-17T14:21:42.199Z"
   },
   {
    "duration": 27,
    "start_time": "2021-09-17T14:21:42.216Z"
   },
   {
    "duration": 59,
    "start_time": "2021-09-17T14:21:42.245Z"
   },
   {
    "duration": 17,
    "start_time": "2021-09-17T14:21:42.307Z"
   },
   {
    "duration": 28,
    "start_time": "2021-09-17T14:21:42.326Z"
   },
   {
    "duration": 63,
    "start_time": "2021-09-17T14:21:42.357Z"
   },
   {
    "duration": 4,
    "start_time": "2021-09-17T14:21:42.422Z"
   },
   {
    "duration": 13,
    "start_time": "2021-09-17T14:21:42.429Z"
   },
   {
    "duration": 10,
    "start_time": "2021-09-17T14:21:42.444Z"
   },
   {
    "duration": 55,
    "start_time": "2021-09-17T14:21:42.456Z"
   },
   {
    "duration": 13,
    "start_time": "2021-09-17T14:21:42.513Z"
   },
   {
    "duration": 9,
    "start_time": "2021-09-17T14:21:42.528Z"
   },
   {
    "duration": 7,
    "start_time": "2021-09-17T14:21:42.539Z"
   },
   {
    "duration": 36,
    "start_time": "2021-09-17T14:21:42.548Z"
   },
   {
    "duration": 861,
    "start_time": "2021-09-17T14:21:42.586Z"
   },
   {
    "duration": 33,
    "start_time": "2021-09-17T14:21:43.449Z"
   },
   {
    "duration": 3,
    "start_time": "2021-09-17T14:21:43.485Z"
   },
   {
    "duration": 16,
    "start_time": "2021-09-17T14:21:43.490Z"
   },
   {
    "duration": 485,
    "start_time": "2021-09-17T14:21:43.508Z"
   },
   {
    "duration": -34,
    "start_time": "2021-09-17T14:21:44.029Z"
   },
   {
    "duration": 337,
    "start_time": "2021-09-17T14:22:02.194Z"
   },
   {
    "duration": 386,
    "start_time": "2021-09-17T14:22:13.533Z"
   },
   {
    "duration": 3,
    "start_time": "2021-09-17T14:22:20.838Z"
   },
   {
    "duration": 5,
    "start_time": "2021-09-17T14:22:23.400Z"
   },
   {
    "duration": 6,
    "start_time": "2021-09-17T14:22:24.883Z"
   },
   {
    "duration": 26,
    "start_time": "2021-09-17T14:22:27.281Z"
   },
   {
    "duration": 366,
    "start_time": "2021-09-17T14:22:33.249Z"
   },
   {
    "duration": 1338,
    "start_time": "2021-09-17T14:23:21.794Z"
   },
   {
    "duration": 23,
    "start_time": "2021-09-17T14:23:23.135Z"
   },
   {
    "duration": 30,
    "start_time": "2021-09-17T14:23:23.161Z"
   },
   {
    "duration": 142,
    "start_time": "2021-09-17T14:23:23.194Z"
   },
   {
    "duration": 532,
    "start_time": "2021-09-17T14:23:23.338Z"
   },
   {
    "duration": 48,
    "start_time": "2021-09-17T14:23:23.872Z"
   },
   {
    "duration": 116,
    "start_time": "2021-09-17T14:23:23.922Z"
   },
   {
    "duration": 12,
    "start_time": "2021-09-17T14:23:24.042Z"
   },
   {
    "duration": 40,
    "start_time": "2021-09-17T14:23:24.057Z"
   },
   {
    "duration": 115,
    "start_time": "2021-09-17T14:23:24.099Z"
   },
   {
    "duration": 431,
    "start_time": "2021-09-17T14:23:24.216Z"
   },
   {
    "duration": 43,
    "start_time": "2021-09-17T14:23:24.650Z"
   },
   {
    "duration": 13,
    "start_time": "2021-09-17T14:23:24.695Z"
   },
   {
    "duration": 25,
    "start_time": "2021-09-17T14:23:24.710Z"
   },
   {
    "duration": 24,
    "start_time": "2021-09-17T14:23:24.738Z"
   },
   {
    "duration": 77,
    "start_time": "2021-09-17T14:23:24.765Z"
   },
   {
    "duration": 47,
    "start_time": "2021-09-17T14:23:24.844Z"
   },
   {
    "duration": 15,
    "start_time": "2021-09-17T14:23:24.893Z"
   },
   {
    "duration": 18,
    "start_time": "2021-09-17T14:23:24.910Z"
   },
   {
    "duration": 70,
    "start_time": "2021-09-17T14:23:24.930Z"
   },
   {
    "duration": 10,
    "start_time": "2021-09-17T14:23:25.002Z"
   },
   {
    "duration": 14,
    "start_time": "2021-09-17T14:23:25.014Z"
   },
   {
    "duration": 16,
    "start_time": "2021-09-17T14:23:25.033Z"
   },
   {
    "duration": 8,
    "start_time": "2021-09-17T14:23:25.052Z"
   },
   {
    "duration": 10,
    "start_time": "2021-09-17T14:23:25.083Z"
   },
   {
    "duration": 14,
    "start_time": "2021-09-17T14:23:25.095Z"
   },
   {
    "duration": 23,
    "start_time": "2021-09-17T14:23:25.111Z"
   },
   {
    "duration": 54,
    "start_time": "2021-09-17T14:23:25.136Z"
   },
   {
    "duration": 65,
    "start_time": "2021-09-17T14:23:25.193Z"
   },
   {
    "duration": 34,
    "start_time": "2021-09-17T14:23:25.260Z"
   },
   {
    "duration": 11,
    "start_time": "2021-09-17T14:23:25.297Z"
   },
   {
    "duration": 24,
    "start_time": "2021-09-17T14:23:25.310Z"
   },
   {
    "duration": 73,
    "start_time": "2021-09-17T14:23:25.337Z"
   },
   {
    "duration": 19,
    "start_time": "2021-09-17T14:23:25.413Z"
   },
   {
    "duration": 48,
    "start_time": "2021-09-17T14:23:25.435Z"
   },
   {
    "duration": 44,
    "start_time": "2021-09-17T14:23:25.486Z"
   },
   {
    "duration": 4,
    "start_time": "2021-09-17T14:23:25.533Z"
   },
   {
    "duration": 32,
    "start_time": "2021-09-17T14:23:25.539Z"
   },
   {
    "duration": 51,
    "start_time": "2021-09-17T14:23:25.574Z"
   },
   {
    "duration": 121,
    "start_time": "2021-09-17T14:23:25.627Z"
   },
   {
    "duration": 13,
    "start_time": "2021-09-17T14:23:25.750Z"
   },
   {
    "duration": 42,
    "start_time": "2021-09-17T14:23:25.766Z"
   },
   {
    "duration": 24,
    "start_time": "2021-09-17T14:23:25.811Z"
   },
   {
    "duration": 30,
    "start_time": "2021-09-17T14:23:25.838Z"
   },
   {
    "duration": 1043,
    "start_time": "2021-09-17T14:23:25.870Z"
   },
   {
    "duration": 82,
    "start_time": "2021-09-17T14:23:26.923Z"
   },
   {
    "duration": 4,
    "start_time": "2021-09-17T14:23:27.022Z"
   },
   {
    "duration": 14,
    "start_time": "2021-09-17T14:23:27.030Z"
   },
   {
    "duration": 7,
    "start_time": "2021-09-17T14:23:27.047Z"
   },
   {
    "duration": 23,
    "start_time": "2021-09-17T14:23:27.057Z"
   },
   {
    "duration": 22,
    "start_time": "2021-09-17T14:23:27.082Z"
   },
   {
    "duration": 1259,
    "start_time": "2021-09-17T14:24:25.316Z"
   },
   {
    "duration": 24,
    "start_time": "2021-09-17T14:24:26.578Z"
   },
   {
    "duration": 32,
    "start_time": "2021-09-17T14:24:26.606Z"
   },
   {
    "duration": 154,
    "start_time": "2021-09-17T14:24:26.641Z"
   },
   {
    "duration": 537,
    "start_time": "2021-09-17T14:24:26.798Z"
   },
   {
    "duration": 52,
    "start_time": "2021-09-17T14:24:27.337Z"
   },
   {
    "duration": 111,
    "start_time": "2021-09-17T14:24:27.392Z"
   },
   {
    "duration": 12,
    "start_time": "2021-09-17T14:24:27.507Z"
   },
   {
    "duration": 28,
    "start_time": "2021-09-17T14:24:27.522Z"
   },
   {
    "duration": 141,
    "start_time": "2021-09-17T14:24:27.552Z"
   },
   {
    "duration": 487,
    "start_time": "2021-09-17T14:24:27.696Z"
   },
   {
    "duration": 30,
    "start_time": "2021-09-17T14:24:28.185Z"
   },
   {
    "duration": 11,
    "start_time": "2021-09-17T14:24:28.218Z"
   },
   {
    "duration": 19,
    "start_time": "2021-09-17T14:24:28.232Z"
   },
   {
    "duration": 45,
    "start_time": "2021-09-17T14:24:28.253Z"
   },
   {
    "duration": 90,
    "start_time": "2021-09-17T14:24:28.302Z"
   },
   {
    "duration": 29,
    "start_time": "2021-09-17T14:24:28.395Z"
   },
   {
    "duration": 18,
    "start_time": "2021-09-17T14:24:28.426Z"
   },
   {
    "duration": 40,
    "start_time": "2021-09-17T14:24:28.447Z"
   },
   {
    "duration": 11,
    "start_time": "2021-09-17T14:24:28.534Z"
   },
   {
    "duration": 7,
    "start_time": "2021-09-17T14:24:28.548Z"
   },
   {
    "duration": 30,
    "start_time": "2021-09-17T14:24:28.584Z"
   },
   {
    "duration": 57,
    "start_time": "2021-09-17T14:24:28.622Z"
   },
   {
    "duration": 49,
    "start_time": "2021-09-17T14:24:28.683Z"
   },
   {
    "duration": 39,
    "start_time": "2021-09-17T14:24:28.735Z"
   },
   {
    "duration": 15,
    "start_time": "2021-09-17T14:24:28.777Z"
   },
   {
    "duration": 17,
    "start_time": "2021-09-17T14:24:28.794Z"
   },
   {
    "duration": 38,
    "start_time": "2021-09-17T14:24:28.813Z"
   },
   {
    "duration": 78,
    "start_time": "2021-09-17T14:24:28.854Z"
   },
   {
    "duration": 21,
    "start_time": "2021-09-17T14:24:28.935Z"
   },
   {
    "duration": 32,
    "start_time": "2021-09-17T14:24:28.959Z"
   },
   {
    "duration": 21,
    "start_time": "2021-09-17T14:24:28.993Z"
   },
   {
    "duration": 36,
    "start_time": "2021-09-17T14:24:29.017Z"
   },
   {
    "duration": 43,
    "start_time": "2021-09-17T14:24:29.055Z"
   },
   {
    "duration": 31,
    "start_time": "2021-09-17T14:24:29.100Z"
   },
   {
    "duration": 63,
    "start_time": "2021-09-17T14:24:29.133Z"
   },
   {
    "duration": 3,
    "start_time": "2021-09-17T14:24:29.199Z"
   },
   {
    "duration": 20,
    "start_time": "2021-09-17T14:24:29.205Z"
   },
   {
    "duration": 14,
    "start_time": "2021-09-17T14:24:29.227Z"
   },
   {
    "duration": 46,
    "start_time": "2021-09-17T14:24:29.243Z"
   },
   {
    "duration": 13,
    "start_time": "2021-09-17T14:24:29.292Z"
   },
   {
    "duration": 10,
    "start_time": "2021-09-17T14:24:29.307Z"
   },
   {
    "duration": 6,
    "start_time": "2021-09-17T14:24:29.320Z"
   },
   {
    "duration": 13,
    "start_time": "2021-09-17T14:24:29.328Z"
   },
   {
    "duration": 890,
    "start_time": "2021-09-17T14:24:29.344Z"
   },
   {
    "duration": 27,
    "start_time": "2021-09-17T14:24:30.236Z"
   },
   {
    "duration": 120,
    "start_time": "2021-09-17T14:24:30.281Z"
   },
   {
    "duration": 190,
    "start_time": "2021-09-17T14:24:30.404Z"
   },
   {
    "duration": 8,
    "start_time": "2021-09-17T14:24:40.972Z"
   },
   {
    "duration": 17,
    "start_time": "2021-09-17T14:24:43.912Z"
   },
   {
    "duration": 7,
    "start_time": "2021-09-17T14:24:54.684Z"
   },
   {
    "duration": 6,
    "start_time": "2021-09-17T14:25:30.055Z"
   },
   {
    "duration": 6,
    "start_time": "2021-09-17T14:25:46.069Z"
   },
   {
    "duration": 6,
    "start_time": "2021-09-17T14:26:42.935Z"
   },
   {
    "duration": 103,
    "start_time": "2021-09-17T14:28:48.981Z"
   },
   {
    "duration": 8,
    "start_time": "2021-09-17T14:28:53.143Z"
   },
   {
    "duration": 17,
    "start_time": "2021-09-17T14:28:53.879Z"
   },
   {
    "duration": 986,
    "start_time": "2021-09-17T14:29:00.343Z"
   },
   {
    "duration": 496,
    "start_time": "2021-09-17T14:29:20.206Z"
   },
   {
    "duration": 683,
    "start_time": "2021-09-17T14:29:29.844Z"
   },
   {
    "duration": 11,
    "start_time": "2021-09-17T14:29:43.462Z"
   },
   {
    "duration": -240,
    "start_time": "2021-09-17T14:30:10.060Z"
   },
   {
    "duration": 14,
    "start_time": "2021-09-17T14:30:33.134Z"
   },
   {
    "duration": 308,
    "start_time": "2021-09-17T14:30:43.594Z"
   },
   {
    "duration": 7,
    "start_time": "2021-09-17T14:33:48.129Z"
   },
   {
    "duration": 340,
    "start_time": "2021-09-17T14:35:38.176Z"
   },
   {
    "duration": 4,
    "start_time": "2021-09-17T14:35:50.747Z"
   },
   {
    "duration": 8,
    "start_time": "2021-09-17T14:35:51.862Z"
   },
   {
    "duration": 6,
    "start_time": "2021-09-17T14:35:52.449Z"
   },
   {
    "duration": 4,
    "start_time": "2021-09-17T14:38:21.135Z"
   },
   {
    "duration": 11,
    "start_time": "2021-09-17T14:38:42.026Z"
   },
   {
    "duration": 10,
    "start_time": "2021-09-17T14:39:02.704Z"
   },
   {
    "duration": 552,
    "start_time": "2021-09-17T14:39:12.786Z"
   },
   {
    "duration": 386,
    "start_time": "2021-09-17T14:39:18.612Z"
   },
   {
    "duration": 363,
    "start_time": "2021-09-17T14:39:28.574Z"
   },
   {
    "duration": 4,
    "start_time": "2021-09-17T14:40:17.746Z"
   },
   {
    "duration": 10,
    "start_time": "2021-09-17T14:40:19.184Z"
   },
   {
    "duration": 314,
    "start_time": "2021-09-17T14:40:28.068Z"
   },
   {
    "duration": 337,
    "start_time": "2021-09-17T14:40:56.644Z"
   },
   {
    "duration": 351,
    "start_time": "2021-09-17T14:41:00.512Z"
   },
   {
    "duration": 971,
    "start_time": "2021-09-18T11:10:24.007Z"
   },
   {
    "duration": 14,
    "start_time": "2021-09-18T11:10:24.980Z"
   },
   {
    "duration": 32,
    "start_time": "2021-09-18T11:10:24.996Z"
   },
   {
    "duration": 99,
    "start_time": "2021-09-18T11:10:25.030Z"
   },
   {
    "duration": 323,
    "start_time": "2021-09-18T11:10:25.130Z"
   },
   {
    "duration": 24,
    "start_time": "2021-09-18T11:10:25.455Z"
   },
   {
    "duration": 83,
    "start_time": "2021-09-18T11:10:25.480Z"
   },
   {
    "duration": 8,
    "start_time": "2021-09-18T11:10:25.565Z"
   },
   {
    "duration": 38,
    "start_time": "2021-09-18T11:10:25.576Z"
   },
   {
    "duration": 56,
    "start_time": "2021-09-18T11:10:25.616Z"
   },
   {
    "duration": 279,
    "start_time": "2021-09-18T11:10:25.674Z"
   },
   {
    "duration": 19,
    "start_time": "2021-09-18T11:10:25.955Z"
   },
   {
    "duration": 8,
    "start_time": "2021-09-18T11:10:25.976Z"
   },
   {
    "duration": 31,
    "start_time": "2021-09-18T11:10:25.986Z"
   },
   {
    "duration": 14,
    "start_time": "2021-09-18T11:10:26.018Z"
   },
   {
    "duration": 42,
    "start_time": "2021-09-18T11:10:26.034Z"
   },
   {
    "duration": 42,
    "start_time": "2021-09-18T11:10:26.078Z"
   },
   {
    "duration": 9,
    "start_time": "2021-09-18T11:10:26.122Z"
   },
   {
    "duration": 8,
    "start_time": "2021-09-18T11:10:26.132Z"
   },
   {
    "duration": 47,
    "start_time": "2021-09-18T11:10:26.141Z"
   },
   {
    "duration": 7,
    "start_time": "2021-09-18T11:10:26.204Z"
   },
   {
    "duration": 6,
    "start_time": "2021-09-18T11:10:26.213Z"
   },
   {
    "duration": 6,
    "start_time": "2021-09-18T11:10:26.221Z"
   },
   {
    "duration": 7,
    "start_time": "2021-09-18T11:10:26.228Z"
   },
   {
    "duration": 8,
    "start_time": "2021-09-18T11:10:26.236Z"
   },
   {
    "duration": 8,
    "start_time": "2021-09-18T11:10:26.246Z"
   },
   {
    "duration": 6,
    "start_time": "2021-09-18T11:10:26.258Z"
   },
   {
    "duration": 60,
    "start_time": "2021-09-18T11:10:26.266Z"
   },
   {
    "duration": 43,
    "start_time": "2021-09-18T11:10:26.328Z"
   },
   {
    "duration": 13,
    "start_time": "2021-09-18T11:10:26.373Z"
   },
   {
    "duration": 20,
    "start_time": "2021-09-18T11:10:26.387Z"
   },
   {
    "duration": 24,
    "start_time": "2021-09-18T11:10:26.408Z"
   },
   {
    "duration": 24,
    "start_time": "2021-09-18T11:10:26.434Z"
   },
   {
    "duration": 10,
    "start_time": "2021-09-18T11:10:26.460Z"
   },
   {
    "duration": 40,
    "start_time": "2021-09-18T11:10:26.472Z"
   },
   {
    "duration": 29,
    "start_time": "2021-09-18T11:10:26.514Z"
   },
   {
    "duration": 2,
    "start_time": "2021-09-18T11:10:26.545Z"
   },
   {
    "duration": 7,
    "start_time": "2021-09-18T11:10:26.549Z"
   },
   {
    "duration": 5,
    "start_time": "2021-09-18T11:10:26.557Z"
   },
   {
    "duration": 47,
    "start_time": "2021-09-18T11:10:26.564Z"
   },
   {
    "duration": 12,
    "start_time": "2021-09-18T11:10:26.614Z"
   },
   {
    "duration": 7,
    "start_time": "2021-09-18T11:10:26.628Z"
   },
   {
    "duration": 3,
    "start_time": "2021-09-18T11:10:26.637Z"
   },
   {
    "duration": 5,
    "start_time": "2021-09-18T11:10:26.642Z"
   },
   {
    "duration": 443,
    "start_time": "2021-09-18T11:10:26.648Z"
   },
   {
    "duration": 23,
    "start_time": "2021-09-18T11:10:27.093Z"
   },
   {
    "duration": 6,
    "start_time": "2021-09-18T11:10:27.117Z"
   },
   {
    "duration": 9,
    "start_time": "2021-09-18T11:10:27.125Z"
   },
   {
    "duration": 2,
    "start_time": "2021-09-18T11:10:27.136Z"
   },
   {
    "duration": 5,
    "start_time": "2021-09-18T11:10:27.139Z"
   },
   {
    "duration": 9,
    "start_time": "2021-09-18T11:10:27.145Z"
   },
   {
    "duration": 220,
    "start_time": "2021-09-18T11:10:27.156Z"
   },
   {
    "duration": 249,
    "start_time": "2021-09-18T11:10:27.378Z"
   },
   {
    "duration": 184,
    "start_time": "2021-09-18T11:13:29.927Z"
   },
   {
    "duration": 219,
    "start_time": "2021-09-18T11:13:43.893Z"
   },
   {
    "duration": 137,
    "start_time": "2021-09-18T11:13:49.807Z"
   },
   {
    "duration": 224,
    "start_time": "2021-09-18T11:14:19.145Z"
   },
   {
    "duration": 139,
    "start_time": "2021-09-18T11:16:39.192Z"
   },
   {
    "duration": 202,
    "start_time": "2021-09-18T11:20:42.378Z"
   },
   {
    "duration": 244,
    "start_time": "2021-09-18T11:20:48.196Z"
   },
   {
    "duration": 171,
    "start_time": "2021-09-18T11:23:05.039Z"
   },
   {
    "duration": 4,
    "start_time": "2021-09-18T11:23:08.402Z"
   },
   {
    "duration": 209,
    "start_time": "2021-09-18T11:23:09.637Z"
   },
   {
    "duration": 214,
    "start_time": "2021-09-18T11:24:50.363Z"
   },
   {
    "duration": 261,
    "start_time": "2021-09-18T11:24:56.429Z"
   },
   {
    "duration": 133,
    "start_time": "2021-09-18T11:28:40.052Z"
   },
   {
    "duration": 4,
    "start_time": "2021-09-18T11:33:56.449Z"
   },
   {
    "duration": 355,
    "start_time": "2021-09-18T11:34:17.545Z"
   },
   {
    "duration": 4,
    "start_time": "2021-09-18T11:34:59.984Z"
   },
   {
    "duration": 625,
    "start_time": "2021-09-18T11:35:00.523Z"
   },
   {
    "duration": 4,
    "start_time": "2021-09-18T11:35:15.845Z"
   },
   {
    "duration": 168,
    "start_time": "2021-09-18T11:35:18.460Z"
   },
   {
    "duration": 171,
    "start_time": "2021-09-18T11:35:55.138Z"
   },
   {
    "duration": 4,
    "start_time": "2021-09-18T11:36:05.513Z"
   },
   {
    "duration": 353,
    "start_time": "2021-09-18T11:36:06.115Z"
   },
   {
    "duration": 361,
    "start_time": "2021-09-18T11:37:03.406Z"
   },
   {
    "duration": 5,
    "start_time": "2021-09-18T11:38:11.220Z"
   },
   {
    "duration": 174,
    "start_time": "2021-09-18T11:38:11.784Z"
   },
   {
    "duration": 4,
    "start_time": "2021-09-18T11:38:25.086Z"
   },
   {
    "duration": 539,
    "start_time": "2021-09-18T11:38:25.651Z"
   },
   {
    "duration": 4,
    "start_time": "2021-09-18T11:38:39.051Z"
   },
   {
    "duration": 182,
    "start_time": "2021-09-18T11:38:40.568Z"
   },
   {
    "duration": 2,
    "start_time": "2021-09-18T11:39:43.764Z"
   },
   {
    "duration": 3,
    "start_time": "2021-09-18T11:39:49.710Z"
   },
   {
    "duration": 329,
    "start_time": "2021-09-18T11:39:50.022Z"
   },
   {
    "duration": 4,
    "start_time": "2021-09-18T11:41:21.754Z"
   },
   {
    "duration": 56,
    "start_time": "2021-09-18T11:41:38.815Z"
   },
   {
    "duration": 346,
    "start_time": "2021-09-18T11:41:47.519Z"
   },
   {
    "duration": 433,
    "start_time": "2021-09-18T11:42:24.632Z"
   },
   {
    "duration": 325,
    "start_time": "2021-09-18T11:42:51.159Z"
   },
   {
    "duration": 311,
    "start_time": "2021-09-18T11:43:30.527Z"
   },
   {
    "duration": 304,
    "start_time": "2021-09-18T11:43:37.963Z"
   },
   {
    "duration": 311,
    "start_time": "2021-09-18T11:43:44.933Z"
   },
   {
    "duration": 387,
    "start_time": "2021-09-18T11:43:57.575Z"
   },
   {
    "duration": 303,
    "start_time": "2021-09-18T11:46:41.719Z"
   },
   {
    "duration": 323,
    "start_time": "2021-09-18T11:51:49.647Z"
   },
   {
    "duration": 207,
    "start_time": "2021-09-18T11:55:45.188Z"
   },
   {
    "duration": 169,
    "start_time": "2021-09-18T11:55:55.346Z"
   },
   {
    "duration": 202,
    "start_time": "2021-09-18T11:56:05.562Z"
   },
   {
    "duration": 216,
    "start_time": "2021-09-18T11:56:16.756Z"
   },
   {
    "duration": 196,
    "start_time": "2021-09-18T11:56:27.473Z"
   },
   {
    "duration": 238,
    "start_time": "2021-09-18T11:56:33.370Z"
   },
   {
    "duration": 181,
    "start_time": "2021-09-18T11:56:43.285Z"
   },
   {
    "duration": 245,
    "start_time": "2021-09-18T11:57:07.120Z"
   },
   {
    "duration": 180,
    "start_time": "2021-09-18T11:57:21.286Z"
   },
   {
    "duration": 5,
    "start_time": "2021-09-18T11:58:15.343Z"
   },
   {
    "duration": 171,
    "start_time": "2021-09-18T11:58:49.240Z"
   },
   {
    "duration": 344,
    "start_time": "2021-09-18T12:02:43.275Z"
   },
   {
    "duration": 183,
    "start_time": "2021-09-18T12:04:16.267Z"
   },
   {
    "duration": 184,
    "start_time": "2021-09-18T12:04:30.629Z"
   },
   {
    "duration": 5,
    "start_time": "2021-09-18T12:04:50.877Z"
   },
   {
    "duration": 15,
    "start_time": "2021-09-18T12:11:02.099Z"
   },
   {
    "duration": 413,
    "start_time": "2021-09-18T12:17:30.016Z"
   },
   {
    "duration": 8,
    "start_time": "2021-09-18T12:24:34.343Z"
   },
   {
    "duration": 195,
    "start_time": "2021-09-18T12:24:52.890Z"
   },
   {
    "duration": 5,
    "start_time": "2021-09-18T12:25:00.919Z"
   },
   {
    "duration": 3,
    "start_time": "2021-09-18T12:27:08.007Z"
   },
   {
    "duration": 10,
    "start_time": "2021-09-18T12:27:13.419Z"
   },
   {
    "duration": 16,
    "start_time": "2021-09-18T12:32:36.836Z"
   },
   {
    "duration": 9,
    "start_time": "2021-09-18T12:33:40.245Z"
   },
   {
    "duration": 10,
    "start_time": "2021-09-18T12:33:53.295Z"
   },
   {
    "duration": 182,
    "start_time": "2021-09-18T12:34:29.387Z"
   },
   {
    "duration": 170,
    "start_time": "2021-09-18T12:34:56.433Z"
   },
   {
    "duration": 181,
    "start_time": "2021-09-18T12:35:07.259Z"
   },
   {
    "duration": 190,
    "start_time": "2021-09-18T12:35:30.969Z"
   },
   {
    "duration": 10,
    "start_time": "2021-09-18T12:35:46.115Z"
   },
   {
    "duration": 6,
    "start_time": "2021-09-18T12:35:52.887Z"
   },
   {
    "duration": 11,
    "start_time": "2021-09-18T12:36:09.554Z"
   },
   {
    "duration": 188,
    "start_time": "2021-09-18T12:36:15.481Z"
   },
   {
    "duration": 940,
    "start_time": "2021-09-18T12:36:30.423Z"
   },
   {
    "duration": 15,
    "start_time": "2021-09-18T12:36:31.365Z"
   },
   {
    "duration": 20,
    "start_time": "2021-09-18T12:36:31.382Z"
   },
   {
    "duration": 102,
    "start_time": "2021-09-18T12:36:31.404Z"
   },
   {
    "duration": 322,
    "start_time": "2021-09-18T12:36:31.509Z"
   },
   {
    "duration": 27,
    "start_time": "2021-09-18T12:36:31.833Z"
   },
   {
    "duration": 88,
    "start_time": "2021-09-18T12:36:31.862Z"
   },
   {
    "duration": 9,
    "start_time": "2021-09-18T12:36:31.953Z"
   },
   {
    "duration": 18,
    "start_time": "2021-09-18T12:36:31.964Z"
   },
   {
    "duration": 60,
    "start_time": "2021-09-18T12:36:31.999Z"
   },
   {
    "duration": 257,
    "start_time": "2021-09-18T12:36:32.061Z"
   },
   {
    "duration": 21,
    "start_time": "2021-09-18T12:36:32.321Z"
   },
   {
    "duration": 9,
    "start_time": "2021-09-18T12:36:32.344Z"
   },
   {
    "duration": 11,
    "start_time": "2021-09-18T12:36:32.355Z"
   },
   {
    "duration": 38,
    "start_time": "2021-09-18T12:36:32.368Z"
   },
   {
    "duration": 43,
    "start_time": "2021-09-18T12:36:32.408Z"
   },
   {
    "duration": 20,
    "start_time": "2021-09-18T12:36:32.453Z"
   },
   {
    "duration": 32,
    "start_time": "2021-09-18T12:36:32.475Z"
   },
   {
    "duration": 8,
    "start_time": "2021-09-18T12:36:32.509Z"
   },
   {
    "duration": 50,
    "start_time": "2021-09-18T12:36:32.519Z"
   },
   {
    "duration": 28,
    "start_time": "2021-09-18T12:36:32.571Z"
   },
   {
    "duration": 7,
    "start_time": "2021-09-18T12:36:32.601Z"
   },
   {
    "duration": 4,
    "start_time": "2021-09-18T12:36:32.612Z"
   },
   {
    "duration": 5,
    "start_time": "2021-09-18T12:36:32.619Z"
   },
   {
    "duration": 8,
    "start_time": "2021-09-18T12:36:32.626Z"
   },
   {
    "duration": 7,
    "start_time": "2021-09-18T12:36:32.635Z"
   },
   {
    "duration": 8,
    "start_time": "2021-09-18T12:36:32.643Z"
   },
   {
    "duration": 51,
    "start_time": "2021-09-18T12:36:32.652Z"
   },
   {
    "duration": 41,
    "start_time": "2021-09-18T12:36:32.704Z"
   },
   {
    "duration": 11,
    "start_time": "2021-09-18T12:36:32.747Z"
   },
   {
    "duration": 7,
    "start_time": "2021-09-18T12:36:32.760Z"
   },
   {
    "duration": 39,
    "start_time": "2021-09-18T12:36:32.768Z"
   },
   {
    "duration": 25,
    "start_time": "2021-09-18T12:36:32.808Z"
   },
   {
    "duration": 10,
    "start_time": "2021-09-18T12:36:32.835Z"
   },
   {
    "duration": 16,
    "start_time": "2021-09-18T12:36:32.847Z"
   },
   {
    "duration": 50,
    "start_time": "2021-09-18T12:36:32.864Z"
   },
   {
    "duration": 3,
    "start_time": "2021-09-18T12:36:32.915Z"
   },
   {
    "duration": 8,
    "start_time": "2021-09-18T12:36:32.919Z"
   },
   {
    "duration": 7,
    "start_time": "2021-09-18T12:36:32.928Z"
   },
   {
    "duration": 23,
    "start_time": "2021-09-18T12:36:32.937Z"
   },
   {
    "duration": 9,
    "start_time": "2021-09-18T12:36:32.961Z"
   },
   {
    "duration": 32,
    "start_time": "2021-09-18T12:36:32.971Z"
   },
   {
    "duration": 5,
    "start_time": "2021-09-18T12:36:33.004Z"
   },
   {
    "duration": 6,
    "start_time": "2021-09-18T12:36:33.010Z"
   },
   {
    "duration": 442,
    "start_time": "2021-09-18T12:36:33.018Z"
   },
   {
    "duration": 15,
    "start_time": "2021-09-18T12:36:33.461Z"
   },
   {
    "duration": 7,
    "start_time": "2021-09-18T12:36:33.478Z"
   },
   {
    "duration": 23,
    "start_time": "2021-09-18T12:36:33.486Z"
   },
   {
    "duration": 4,
    "start_time": "2021-09-18T12:36:33.511Z"
   },
   {
    "duration": 7,
    "start_time": "2021-09-18T12:36:33.517Z"
   },
   {
    "duration": 346,
    "start_time": "2021-09-18T12:36:33.526Z"
   },
   {
    "duration": 335,
    "start_time": "2021-09-18T12:36:33.874Z"
   },
   {
    "duration": 296,
    "start_time": "2021-09-18T12:36:34.211Z"
   },
   {
    "duration": 320,
    "start_time": "2021-09-18T12:36:34.508Z"
   },
   {
    "duration": 398,
    "start_time": "2021-09-18T12:36:34.829Z"
   },
   {
    "duration": 183,
    "start_time": "2021-09-18T12:36:35.229Z"
   },
   {
    "duration": 5,
    "start_time": "2021-09-18T12:36:35.413Z"
   },
   {
    "duration": 353,
    "start_time": "2021-09-18T12:36:35.420Z"
   },
   {
    "duration": 196,
    "start_time": "2021-09-18T12:36:35.774Z"
   },
   {
    "duration": 4,
    "start_time": "2021-09-18T12:36:35.971Z"
   },
   {
    "duration": 354,
    "start_time": "2021-09-18T12:36:35.977Z"
   },
   {
    "duration": 11,
    "start_time": "2021-09-18T12:36:36.333Z"
   },
   {
    "duration": 10,
    "start_time": "2021-09-18T12:36:36.346Z"
   },
   {
    "duration": 12,
    "start_time": "2021-09-18T12:36:36.358Z"
   },
   {
    "duration": 27,
    "start_time": "2021-09-18T12:36:36.372Z"
   },
   {
    "duration": 600,
    "start_time": "2021-09-18T12:36:36.401Z"
   },
   {
    "duration": 13,
    "start_time": "2021-09-18T12:36:37.004Z"
   },
   {
    "duration": 10,
    "start_time": "2021-09-18T12:36:43.766Z"
   },
   {
    "duration": 970,
    "start_time": "2021-09-18T12:37:06.482Z"
   },
   {
    "duration": 13,
    "start_time": "2021-09-18T12:37:07.454Z"
   },
   {
    "duration": 24,
    "start_time": "2021-09-18T12:37:07.469Z"
   },
   {
    "duration": 89,
    "start_time": "2021-09-18T12:37:07.495Z"
   },
   {
    "duration": 323,
    "start_time": "2021-09-18T12:37:07.586Z"
   },
   {
    "duration": 25,
    "start_time": "2021-09-18T12:37:07.910Z"
   },
   {
    "duration": 77,
    "start_time": "2021-09-18T12:37:07.937Z"
   },
   {
    "duration": 8,
    "start_time": "2021-09-18T12:37:08.017Z"
   },
   {
    "duration": 16,
    "start_time": "2021-09-18T12:37:08.027Z"
   },
   {
    "duration": 72,
    "start_time": "2021-09-18T12:37:08.044Z"
   },
   {
    "duration": 245,
    "start_time": "2021-09-18T12:37:08.118Z"
   },
   {
    "duration": 21,
    "start_time": "2021-09-18T12:37:08.365Z"
   },
   {
    "duration": 19,
    "start_time": "2021-09-18T12:37:08.387Z"
   },
   {
    "duration": 14,
    "start_time": "2021-09-18T12:37:08.407Z"
   },
   {
    "duration": 14,
    "start_time": "2021-09-18T12:37:08.422Z"
   },
   {
    "duration": 63,
    "start_time": "2021-09-18T12:37:08.438Z"
   },
   {
    "duration": 18,
    "start_time": "2021-09-18T12:37:08.502Z"
   },
   {
    "duration": 9,
    "start_time": "2021-09-18T12:37:08.522Z"
   },
   {
    "duration": 8,
    "start_time": "2021-09-18T12:37:08.532Z"
   },
   {
    "duration": 67,
    "start_time": "2021-09-18T12:37:08.542Z"
   },
   {
    "duration": 7,
    "start_time": "2021-09-18T12:37:08.611Z"
   },
   {
    "duration": 7,
    "start_time": "2021-09-18T12:37:08.619Z"
   },
   {
    "duration": 5,
    "start_time": "2021-09-18T12:37:08.630Z"
   },
   {
    "duration": 5,
    "start_time": "2021-09-18T12:37:08.637Z"
   },
   {
    "duration": 9,
    "start_time": "2021-09-18T12:37:08.643Z"
   },
   {
    "duration": 9,
    "start_time": "2021-09-18T12:37:08.653Z"
   },
   {
    "duration": 36,
    "start_time": "2021-09-18T12:37:08.663Z"
   },
   {
    "duration": 21,
    "start_time": "2021-09-18T12:37:08.701Z"
   },
   {
    "duration": 43,
    "start_time": "2021-09-18T12:37:08.723Z"
   },
   {
    "duration": 13,
    "start_time": "2021-09-18T12:37:08.767Z"
   },
   {
    "duration": 24,
    "start_time": "2021-09-18T12:37:08.781Z"
   },
   {
    "duration": 17,
    "start_time": "2021-09-18T12:37:08.807Z"
   },
   {
    "duration": 25,
    "start_time": "2021-09-18T12:37:08.825Z"
   },
   {
    "duration": 11,
    "start_time": "2021-09-18T12:37:08.851Z"
   },
   {
    "duration": 41,
    "start_time": "2021-09-18T12:37:08.864Z"
   },
   {
    "duration": 27,
    "start_time": "2021-09-18T12:37:08.907Z"
   },
   {
    "duration": 2,
    "start_time": "2021-09-18T12:37:08.936Z"
   },
   {
    "duration": 7,
    "start_time": "2021-09-18T12:37:08.940Z"
   },
   {
    "duration": 5,
    "start_time": "2021-09-18T12:37:08.948Z"
   },
   {
    "duration": 24,
    "start_time": "2021-09-18T12:37:08.955Z"
   },
   {
    "duration": 25,
    "start_time": "2021-09-18T12:37:08.980Z"
   },
   {
    "duration": 6,
    "start_time": "2021-09-18T12:37:09.007Z"
   },
   {
    "duration": 7,
    "start_time": "2021-09-18T12:37:09.014Z"
   },
   {
    "duration": 5,
    "start_time": "2021-09-18T12:37:09.022Z"
   },
   {
    "duration": 423,
    "start_time": "2021-09-18T12:37:09.028Z"
   },
   {
    "duration": 14,
    "start_time": "2021-09-18T12:37:09.452Z"
   },
   {
    "duration": 5,
    "start_time": "2021-09-18T12:37:09.467Z"
   },
   {
    "duration": 26,
    "start_time": "2021-09-18T12:37:09.473Z"
   },
   {
    "duration": 2,
    "start_time": "2021-09-18T12:37:09.501Z"
   },
   {
    "duration": 11,
    "start_time": "2021-09-18T12:37:09.504Z"
   },
   {
    "duration": 336,
    "start_time": "2021-09-18T12:37:09.517Z"
   },
   {
    "duration": 339,
    "start_time": "2021-09-18T12:37:09.855Z"
   },
   {
    "duration": 301,
    "start_time": "2021-09-18T12:37:10.195Z"
   },
   {
    "duration": 316,
    "start_time": "2021-09-18T12:37:10.497Z"
   },
   {
    "duration": 393,
    "start_time": "2021-09-18T12:37:10.815Z"
   },
   {
    "duration": 192,
    "start_time": "2021-09-18T12:37:11.209Z"
   },
   {
    "duration": 4,
    "start_time": "2021-09-18T12:37:11.403Z"
   },
   {
    "duration": 355,
    "start_time": "2021-09-18T12:37:11.409Z"
   },
   {
    "duration": 261,
    "start_time": "2021-09-18T12:37:11.765Z"
   },
   {
    "duration": 5,
    "start_time": "2021-09-18T12:37:12.028Z"
   },
   {
    "duration": 385,
    "start_time": "2021-09-18T12:37:12.035Z"
   },
   {
    "duration": 10,
    "start_time": "2021-09-18T12:37:12.422Z"
   },
   {
    "duration": 10,
    "start_time": "2021-09-18T12:37:12.433Z"
   },
   {
    "duration": 14,
    "start_time": "2021-09-18T12:37:12.444Z"
   },
   {
    "duration": 250,
    "start_time": "2021-09-18T12:37:12.459Z"
   },
   {
    "duration": -77,
    "start_time": "2021-09-18T12:37:12.788Z"
   },
   {
    "duration": -82,
    "start_time": "2021-09-18T12:37:12.794Z"
   },
   {
    "duration": 6,
    "start_time": "2021-09-18T12:37:46.009Z"
   },
   {
    "duration": 10,
    "start_time": "2021-09-18T12:37:49.443Z"
   },
   {
    "duration": 178,
    "start_time": "2021-09-18T12:38:44.170Z"
   },
   {
    "duration": 172,
    "start_time": "2021-09-18T12:38:59.368Z"
   },
   {
    "duration": 170,
    "start_time": "2021-09-18T12:39:03.963Z"
   },
   {
    "duration": 950,
    "start_time": "2021-09-18T12:40:44.797Z"
   },
   {
    "duration": 13,
    "start_time": "2021-09-18T12:40:45.748Z"
   },
   {
    "duration": 21,
    "start_time": "2021-09-18T12:40:45.763Z"
   },
   {
    "duration": 90,
    "start_time": "2021-09-18T12:40:45.786Z"
   },
   {
    "duration": 306,
    "start_time": "2021-09-18T12:40:45.878Z"
   },
   {
    "duration": 29,
    "start_time": "2021-09-18T12:40:46.185Z"
   },
   {
    "duration": 68,
    "start_time": "2021-09-18T12:40:46.216Z"
   },
   {
    "duration": 20,
    "start_time": "2021-09-18T12:40:46.287Z"
   },
   {
    "duration": 20,
    "start_time": "2021-09-18T12:40:46.308Z"
   },
   {
    "duration": 71,
    "start_time": "2021-09-18T12:40:46.329Z"
   },
   {
    "duration": 248,
    "start_time": "2021-09-18T12:40:46.402Z"
   },
   {
    "duration": 19,
    "start_time": "2021-09-18T12:40:46.652Z"
   },
   {
    "duration": 8,
    "start_time": "2021-09-18T12:40:46.673Z"
   },
   {
    "duration": 20,
    "start_time": "2021-09-18T12:40:46.683Z"
   },
   {
    "duration": 14,
    "start_time": "2021-09-18T12:40:46.705Z"
   },
   {
    "duration": 43,
    "start_time": "2021-09-18T12:40:46.721Z"
   },
   {
    "duration": 44,
    "start_time": "2021-09-18T12:40:46.766Z"
   },
   {
    "duration": 10,
    "start_time": "2021-09-18T12:40:46.812Z"
   },
   {
    "duration": 7,
    "start_time": "2021-09-18T12:40:46.824Z"
   },
   {
    "duration": 31,
    "start_time": "2021-09-18T12:40:46.873Z"
   },
   {
    "duration": 5,
    "start_time": "2021-09-18T12:40:46.905Z"
   },
   {
    "duration": 6,
    "start_time": "2021-09-18T12:40:46.911Z"
   },
   {
    "duration": 5,
    "start_time": "2021-09-18T12:40:46.921Z"
   },
   {
    "duration": 4,
    "start_time": "2021-09-18T12:40:46.929Z"
   },
   {
    "duration": 9,
    "start_time": "2021-09-18T12:40:46.935Z"
   },
   {
    "duration": 7,
    "start_time": "2021-09-18T12:40:46.946Z"
   },
   {
    "duration": 46,
    "start_time": "2021-09-18T12:40:46.955Z"
   },
   {
    "duration": 22,
    "start_time": "2021-09-18T12:40:47.003Z"
   },
   {
    "duration": 45,
    "start_time": "2021-09-18T12:40:47.027Z"
   },
   {
    "duration": 32,
    "start_time": "2021-09-18T12:40:47.073Z"
   },
   {
    "duration": 8,
    "start_time": "2021-09-18T12:40:47.106Z"
   },
   {
    "duration": 15,
    "start_time": "2021-09-18T12:40:47.116Z"
   },
   {
    "duration": 23,
    "start_time": "2021-09-18T12:40:47.133Z"
   },
   {
    "duration": 11,
    "start_time": "2021-09-18T12:40:47.158Z"
   },
   {
    "duration": 42,
    "start_time": "2021-09-18T12:40:47.170Z"
   },
   {
    "duration": 29,
    "start_time": "2021-09-18T12:40:47.214Z"
   },
   {
    "duration": 2,
    "start_time": "2021-09-18T12:40:47.245Z"
   },
   {
    "duration": 6,
    "start_time": "2021-09-18T12:40:47.249Z"
   },
   {
    "duration": 6,
    "start_time": "2021-09-18T12:40:47.257Z"
   },
   {
    "duration": 44,
    "start_time": "2021-09-18T12:40:47.265Z"
   },
   {
    "duration": 8,
    "start_time": "2021-09-18T12:40:47.311Z"
   },
   {
    "duration": 6,
    "start_time": "2021-09-18T12:40:47.320Z"
   },
   {
    "duration": 3,
    "start_time": "2021-09-18T12:40:47.328Z"
   },
   {
    "duration": 5,
    "start_time": "2021-09-18T12:40:47.333Z"
   },
   {
    "duration": 424,
    "start_time": "2021-09-18T12:40:47.339Z"
   },
   {
    "duration": 15,
    "start_time": "2021-09-18T12:40:47.765Z"
   },
   {
    "duration": 18,
    "start_time": "2021-09-18T12:40:47.781Z"
   },
   {
    "duration": 10,
    "start_time": "2021-09-18T12:40:47.801Z"
   },
   {
    "duration": 2,
    "start_time": "2021-09-18T12:40:47.813Z"
   },
   {
    "duration": 6,
    "start_time": "2021-09-18T12:40:47.816Z"
   },
   {
    "duration": 354,
    "start_time": "2021-09-18T12:40:47.823Z"
   },
   {
    "duration": 362,
    "start_time": "2021-09-18T12:40:48.179Z"
   },
   {
    "duration": 302,
    "start_time": "2021-09-18T12:40:48.542Z"
   },
   {
    "duration": 303,
    "start_time": "2021-09-18T12:40:48.845Z"
   },
   {
    "duration": 382,
    "start_time": "2021-09-18T12:40:49.149Z"
   },
   {
    "duration": 185,
    "start_time": "2021-09-18T12:40:49.533Z"
   },
   {
    "duration": 5,
    "start_time": "2021-09-18T12:40:49.719Z"
   },
   {
    "duration": 352,
    "start_time": "2021-09-18T12:40:49.726Z"
   },
   {
    "duration": 191,
    "start_time": "2021-09-18T12:40:50.080Z"
   },
   {
    "duration": 5,
    "start_time": "2021-09-18T12:40:50.273Z"
   },
   {
    "duration": 348,
    "start_time": "2021-09-18T12:40:50.279Z"
   },
   {
    "duration": 11,
    "start_time": "2021-09-18T12:40:50.628Z"
   },
   {
    "duration": 10,
    "start_time": "2021-09-18T12:40:50.640Z"
   },
   {
    "duration": 13,
    "start_time": "2021-09-18T12:40:50.652Z"
   },
   {
    "duration": 307,
    "start_time": "2021-09-18T12:40:50.667Z"
   },
   {
    "duration": -67,
    "start_time": "2021-09-18T12:40:51.044Z"
   },
   {
    "duration": -70,
    "start_time": "2021-09-18T12:40:51.048Z"
   },
   {
    "duration": 205,
    "start_time": "2021-09-18T12:45:09.324Z"
   },
   {
    "duration": 7,
    "start_time": "2021-09-18T12:45:21.205Z"
   },
   {
    "duration": 11,
    "start_time": "2021-09-18T12:45:25.408Z"
   },
   {
    "duration": 10,
    "start_time": "2021-09-18T12:45:46.031Z"
   },
   {
    "duration": 12,
    "start_time": "2021-09-18T12:45:49.185Z"
   },
   {
    "duration": 12,
    "start_time": "2021-09-18T12:45:56.206Z"
   },
   {
    "duration": 10,
    "start_time": "2021-09-18T12:46:10.592Z"
   },
   {
    "duration": 12,
    "start_time": "2021-09-18T12:47:06.168Z"
   },
   {
    "duration": 11,
    "start_time": "2021-09-18T12:47:41.714Z"
   },
   {
    "duration": 56,
    "start_time": "2021-09-18T12:54:36.968Z"
   },
   {
    "duration": 929,
    "start_time": "2021-09-18T13:08:53.367Z"
   },
   {
    "duration": 14,
    "start_time": "2021-09-18T13:08:54.297Z"
   },
   {
    "duration": 22,
    "start_time": "2021-09-18T13:08:54.313Z"
   },
   {
    "duration": 111,
    "start_time": "2021-09-18T13:08:54.337Z"
   },
   {
    "duration": 322,
    "start_time": "2021-09-18T13:08:54.449Z"
   },
   {
    "duration": 38,
    "start_time": "2021-09-18T13:08:54.772Z"
   },
   {
    "duration": 70,
    "start_time": "2021-09-18T13:08:54.812Z"
   },
   {
    "duration": 8,
    "start_time": "2021-09-18T13:08:54.884Z"
   },
   {
    "duration": 27,
    "start_time": "2021-09-18T13:08:54.901Z"
   },
   {
    "duration": 57,
    "start_time": "2021-09-18T13:08:54.930Z"
   },
   {
    "duration": 256,
    "start_time": "2021-09-18T13:08:54.988Z"
   },
   {
    "duration": 20,
    "start_time": "2021-09-18T13:08:55.246Z"
   },
   {
    "duration": 11,
    "start_time": "2021-09-18T13:08:55.267Z"
   },
   {
    "duration": 22,
    "start_time": "2021-09-18T13:08:55.280Z"
   },
   {
    "duration": 16,
    "start_time": "2021-09-18T13:08:55.303Z"
   },
   {
    "duration": 51,
    "start_time": "2021-09-18T13:08:55.321Z"
   },
   {
    "duration": 25,
    "start_time": "2021-09-18T13:08:55.374Z"
   },
   {
    "duration": 9,
    "start_time": "2021-09-18T13:08:55.401Z"
   },
   {
    "duration": 11,
    "start_time": "2021-09-18T13:08:55.412Z"
   },
   {
    "duration": 50,
    "start_time": "2021-09-18T13:08:55.424Z"
   },
   {
    "duration": 25,
    "start_time": "2021-09-18T13:08:55.475Z"
   },
   {
    "duration": 12,
    "start_time": "2021-09-18T13:08:55.501Z"
   },
   {
    "duration": 20,
    "start_time": "2021-09-18T13:08:55.514Z"
   },
   {
    "duration": 7,
    "start_time": "2021-09-18T13:08:55.535Z"
   },
   {
    "duration": 21,
    "start_time": "2021-09-18T13:08:55.544Z"
   },
   {
    "duration": 16,
    "start_time": "2021-09-18T13:08:55.567Z"
   },
   {
    "duration": 14,
    "start_time": "2021-09-18T13:08:55.587Z"
   },
   {
    "duration": 28,
    "start_time": "2021-09-18T13:08:55.603Z"
   },
   {
    "duration": 42,
    "start_time": "2021-09-18T13:08:55.633Z"
   },
   {
    "duration": 12,
    "start_time": "2021-09-18T13:08:55.676Z"
   },
   {
    "duration": 15,
    "start_time": "2021-09-18T13:08:55.689Z"
   },
   {
    "duration": 22,
    "start_time": "2021-09-18T13:08:55.706Z"
   },
   {
    "duration": 25,
    "start_time": "2021-09-18T13:08:55.729Z"
   },
   {
    "duration": 11,
    "start_time": "2021-09-18T13:08:55.755Z"
   },
   {
    "duration": 36,
    "start_time": "2021-09-18T13:08:55.767Z"
   },
   {
    "duration": 30,
    "start_time": "2021-09-18T13:08:55.804Z"
   },
   {
    "duration": 2,
    "start_time": "2021-09-18T13:08:55.836Z"
   },
   {
    "duration": 9,
    "start_time": "2021-09-18T13:08:55.840Z"
   },
   {
    "duration": 6,
    "start_time": "2021-09-18T13:08:55.851Z"
   },
   {
    "duration": 33,
    "start_time": "2021-09-18T13:08:55.859Z"
   },
   {
    "duration": 8,
    "start_time": "2021-09-18T13:08:55.900Z"
   },
   {
    "duration": 14,
    "start_time": "2021-09-18T13:08:55.910Z"
   },
   {
    "duration": 17,
    "start_time": "2021-09-18T13:08:55.925Z"
   },
   {
    "duration": 15,
    "start_time": "2021-09-18T13:08:55.943Z"
   },
   {
    "duration": 407,
    "start_time": "2021-09-18T13:08:55.960Z"
   },
   {
    "duration": 14,
    "start_time": "2021-09-18T13:08:56.369Z"
   },
   {
    "duration": 16,
    "start_time": "2021-09-18T13:08:56.385Z"
   },
   {
    "duration": 9,
    "start_time": "2021-09-18T13:08:56.403Z"
   },
   {
    "duration": 4,
    "start_time": "2021-09-18T13:08:56.414Z"
   },
   {
    "duration": 5,
    "start_time": "2021-09-18T13:08:56.419Z"
   },
   {
    "duration": 367,
    "start_time": "2021-09-18T13:08:56.426Z"
   },
   {
    "duration": 345,
    "start_time": "2021-09-18T13:08:56.794Z"
   },
   {
    "duration": 305,
    "start_time": "2021-09-18T13:08:57.140Z"
   },
   {
    "duration": 320,
    "start_time": "2021-09-18T13:08:57.446Z"
   },
   {
    "duration": 401,
    "start_time": "2021-09-18T13:08:57.768Z"
   },
   {
    "duration": 179,
    "start_time": "2021-09-18T13:08:58.170Z"
   },
   {
    "duration": 5,
    "start_time": "2021-09-18T13:08:58.351Z"
   },
   {
    "duration": 368,
    "start_time": "2021-09-18T13:08:58.358Z"
   },
   {
    "duration": 203,
    "start_time": "2021-09-18T13:08:58.728Z"
   },
   {
    "duration": 6,
    "start_time": "2021-09-18T13:08:58.933Z"
   },
   {
    "duration": 313,
    "start_time": "2021-09-18T13:08:58.941Z"
   },
   {
    "duration": 13,
    "start_time": "2021-09-18T13:08:59.256Z"
   },
   {
    "duration": 6,
    "start_time": "2021-09-18T13:08:59.271Z"
   },
   {
    "duration": 28,
    "start_time": "2021-09-18T13:08:59.279Z"
   },
   {
    "duration": 58,
    "start_time": "2021-09-18T13:11:40.560Z"
   },
   {
    "duration": 263,
    "start_time": "2021-09-18T13:14:20.487Z"
   },
   {
    "duration": 923,
    "start_time": "2021-09-18T13:14:26.841Z"
   },
   {
    "duration": 14,
    "start_time": "2021-09-18T13:14:27.766Z"
   },
   {
    "duration": 25,
    "start_time": "2021-09-18T13:14:27.782Z"
   },
   {
    "duration": 104,
    "start_time": "2021-09-18T13:14:27.809Z"
   },
   {
    "duration": 313,
    "start_time": "2021-09-18T13:14:27.914Z"
   },
   {
    "duration": 27,
    "start_time": "2021-09-18T13:14:28.229Z"
   },
   {
    "duration": 78,
    "start_time": "2021-09-18T13:14:28.257Z"
   },
   {
    "duration": 8,
    "start_time": "2021-09-18T13:14:28.338Z"
   },
   {
    "duration": 17,
    "start_time": "2021-09-18T13:14:28.348Z"
   },
   {
    "duration": 69,
    "start_time": "2021-09-18T13:14:28.367Z"
   },
   {
    "duration": 254,
    "start_time": "2021-09-18T13:14:28.437Z"
   },
   {
    "duration": 24,
    "start_time": "2021-09-18T13:14:28.693Z"
   },
   {
    "duration": 9,
    "start_time": "2021-09-18T13:14:28.719Z"
   },
   {
    "duration": 12,
    "start_time": "2021-09-18T13:14:28.730Z"
   },
   {
    "duration": 14,
    "start_time": "2021-09-18T13:14:28.743Z"
   },
   {
    "duration": 71,
    "start_time": "2021-09-18T13:14:28.758Z"
   },
   {
    "duration": 19,
    "start_time": "2021-09-18T13:14:28.831Z"
   },
   {
    "duration": 9,
    "start_time": "2021-09-18T13:14:28.852Z"
   },
   {
    "duration": 10,
    "start_time": "2021-09-18T13:14:28.862Z"
   },
   {
    "duration": 7,
    "start_time": "2021-09-18T13:14:28.934Z"
   },
   {
    "duration": 5,
    "start_time": "2021-09-18T13:14:28.943Z"
   },
   {
    "duration": 6,
    "start_time": "2021-09-18T13:14:28.949Z"
   },
   {
    "duration": 6,
    "start_time": "2021-09-18T13:14:28.958Z"
   },
   {
    "duration": 35,
    "start_time": "2021-09-18T13:14:28.966Z"
   },
   {
    "duration": 8,
    "start_time": "2021-09-18T13:14:29.003Z"
   },
   {
    "duration": 9,
    "start_time": "2021-09-18T13:14:29.012Z"
   },
   {
    "duration": 7,
    "start_time": "2021-09-18T13:14:29.022Z"
   },
   {
    "duration": 24,
    "start_time": "2021-09-18T13:14:29.030Z"
   },
   {
    "duration": 66,
    "start_time": "2021-09-18T13:14:29.055Z"
   },
   {
    "duration": 11,
    "start_time": "2021-09-18T13:14:29.123Z"
   },
   {
    "duration": 16,
    "start_time": "2021-09-18T13:14:29.135Z"
   },
   {
    "duration": 27,
    "start_time": "2021-09-18T13:14:29.152Z"
   },
   {
    "duration": 11,
    "start_time": "2021-09-18T13:14:29.200Z"
   },
   {
    "duration": 18,
    "start_time": "2021-09-18T13:14:29.213Z"
   },
   {
    "duration": 28,
    "start_time": "2021-09-18T13:14:29.232Z"
   },
   {
    "duration": 3,
    "start_time": "2021-09-18T13:14:29.262Z"
   },
   {
    "duration": 7,
    "start_time": "2021-09-18T13:14:29.266Z"
   },
   {
    "duration": 3,
    "start_time": "2021-09-18T13:14:29.299Z"
   },
   {
    "duration": 23,
    "start_time": "2021-09-18T13:14:29.303Z"
   },
   {
    "duration": 8,
    "start_time": "2021-09-18T13:14:29.327Z"
   },
   {
    "duration": 8,
    "start_time": "2021-09-18T13:14:29.337Z"
   },
   {
    "duration": 5,
    "start_time": "2021-09-18T13:14:29.346Z"
   },
   {
    "duration": 4,
    "start_time": "2021-09-18T13:14:29.353Z"
   },
   {
    "duration": 422,
    "start_time": "2021-09-18T13:14:29.359Z"
   },
   {
    "duration": 21,
    "start_time": "2021-09-18T13:14:29.783Z"
   },
   {
    "duration": 4,
    "start_time": "2021-09-18T13:14:29.806Z"
   },
   {
    "duration": 13,
    "start_time": "2021-09-18T13:14:29.812Z"
   },
   {
    "duration": 2,
    "start_time": "2021-09-18T13:14:29.826Z"
   },
   {
    "duration": 4,
    "start_time": "2021-09-18T13:14:29.830Z"
   },
   {
    "duration": 365,
    "start_time": "2021-09-18T13:14:29.836Z"
   },
   {
    "duration": 348,
    "start_time": "2021-09-18T13:14:30.202Z"
   },
   {
    "duration": 301,
    "start_time": "2021-09-18T13:14:30.552Z"
   },
   {
    "duration": 313,
    "start_time": "2021-09-18T13:14:30.855Z"
   },
   {
    "duration": 388,
    "start_time": "2021-09-18T13:14:31.170Z"
   },
   {
    "duration": 194,
    "start_time": "2021-09-18T13:14:31.560Z"
   },
   {
    "duration": 5,
    "start_time": "2021-09-18T13:14:31.756Z"
   },
   {
    "duration": 362,
    "start_time": "2021-09-18T13:14:31.764Z"
   },
   {
    "duration": 199,
    "start_time": "2021-09-18T13:14:32.128Z"
   },
   {
    "duration": 5,
    "start_time": "2021-09-18T13:14:32.329Z"
   },
   {
    "duration": 298,
    "start_time": "2021-09-18T13:14:32.336Z"
   },
   {
    "duration": 11,
    "start_time": "2021-09-18T13:14:32.635Z"
   },
   {
    "duration": 31,
    "start_time": "2021-09-18T13:14:32.647Z"
   },
   {
    "duration": 11,
    "start_time": "2021-09-18T13:14:32.679Z"
   },
   {
    "duration": 6,
    "start_time": "2021-09-18T13:17:05.558Z"
   },
   {
    "duration": 11,
    "start_time": "2021-09-18T13:17:13.726Z"
   },
   {
    "duration": 949,
    "start_time": "2021-09-18T13:20:16.721Z"
   },
   {
    "duration": 14,
    "start_time": "2021-09-18T13:20:17.672Z"
   },
   {
    "duration": 26,
    "start_time": "2021-09-18T13:20:17.688Z"
   },
   {
    "duration": 106,
    "start_time": "2021-09-18T13:20:17.716Z"
   },
   {
    "duration": 316,
    "start_time": "2021-09-18T13:20:17.824Z"
   },
   {
    "duration": 26,
    "start_time": "2021-09-18T13:20:18.141Z"
   },
   {
    "duration": 78,
    "start_time": "2021-09-18T13:20:18.168Z"
   },
   {
    "duration": 8,
    "start_time": "2021-09-18T13:20:18.248Z"
   },
   {
    "duration": 18,
    "start_time": "2021-09-18T13:20:18.258Z"
   },
   {
    "duration": 75,
    "start_time": "2021-09-18T13:20:18.278Z"
   },
   {
    "duration": 258,
    "start_time": "2021-09-18T13:20:18.355Z"
   },
   {
    "duration": 20,
    "start_time": "2021-09-18T13:20:18.615Z"
   },
   {
    "duration": 9,
    "start_time": "2021-09-18T13:20:18.636Z"
   },
   {
    "duration": 11,
    "start_time": "2021-09-18T13:20:18.647Z"
   },
   {
    "duration": 40,
    "start_time": "2021-09-18T13:20:18.660Z"
   },
   {
    "duration": 45,
    "start_time": "2021-09-18T13:20:18.702Z"
   },
   {
    "duration": 21,
    "start_time": "2021-09-18T13:20:18.749Z"
   },
   {
    "duration": 34,
    "start_time": "2021-09-18T13:20:18.771Z"
   },
   {
    "duration": 8,
    "start_time": "2021-09-18T13:20:18.807Z"
   },
   {
    "duration": 51,
    "start_time": "2021-09-18T13:20:18.817Z"
   },
   {
    "duration": 33,
    "start_time": "2021-09-18T13:20:18.870Z"
   },
   {
    "duration": 6,
    "start_time": "2021-09-18T13:20:18.905Z"
   },
   {
    "duration": 4,
    "start_time": "2021-09-18T13:20:18.916Z"
   },
   {
    "duration": 4,
    "start_time": "2021-09-18T13:20:18.923Z"
   },
   {
    "duration": 9,
    "start_time": "2021-09-18T13:20:18.929Z"
   },
   {
    "duration": 8,
    "start_time": "2021-09-18T13:20:18.939Z"
   },
   {
    "duration": 7,
    "start_time": "2021-09-18T13:20:18.949Z"
   },
   {
    "duration": 59,
    "start_time": "2021-09-18T13:20:18.957Z"
   },
   {
    "duration": 43,
    "start_time": "2021-09-18T13:20:19.018Z"
   },
   {
    "duration": 12,
    "start_time": "2021-09-18T13:20:19.063Z"
   },
   {
    "duration": 36,
    "start_time": "2021-09-18T13:20:19.077Z"
   },
   {
    "duration": 25,
    "start_time": "2021-09-18T13:20:19.115Z"
   },
   {
    "duration": 14,
    "start_time": "2021-09-18T13:20:19.141Z"
   },
   {
    "duration": 18,
    "start_time": "2021-09-18T13:20:19.156Z"
   },
   {
    "duration": 51,
    "start_time": "2021-09-18T13:20:19.176Z"
   },
   {
    "duration": 2,
    "start_time": "2021-09-18T13:20:19.228Z"
   },
   {
    "duration": 10,
    "start_time": "2021-09-18T13:20:19.232Z"
   },
   {
    "duration": 11,
    "start_time": "2021-09-18T13:20:19.243Z"
   },
   {
    "duration": 25,
    "start_time": "2021-09-18T13:20:19.255Z"
   },
   {
    "duration": 20,
    "start_time": "2021-09-18T13:20:19.281Z"
   },
   {
    "duration": 6,
    "start_time": "2021-09-18T13:20:19.302Z"
   },
   {
    "duration": 4,
    "start_time": "2021-09-18T13:20:19.309Z"
   },
   {
    "duration": 5,
    "start_time": "2021-09-18T13:20:19.314Z"
   },
   {
    "duration": 428,
    "start_time": "2021-09-18T13:20:19.320Z"
   },
   {
    "duration": 14,
    "start_time": "2021-09-18T13:20:19.749Z"
   },
   {
    "duration": 5,
    "start_time": "2021-09-18T13:20:19.765Z"
   },
   {
    "duration": 30,
    "start_time": "2021-09-18T13:20:19.771Z"
   },
   {
    "duration": 3,
    "start_time": "2021-09-18T13:20:19.802Z"
   },
   {
    "duration": 5,
    "start_time": "2021-09-18T13:20:19.806Z"
   },
   {
    "duration": 358,
    "start_time": "2021-09-18T13:20:19.812Z"
   },
   {
    "duration": 343,
    "start_time": "2021-09-18T13:20:20.172Z"
   },
   {
    "duration": 317,
    "start_time": "2021-09-18T13:20:20.517Z"
   },
   {
    "duration": 321,
    "start_time": "2021-09-18T13:20:20.836Z"
   },
   {
    "duration": 386,
    "start_time": "2021-09-18T13:20:21.158Z"
   },
   {
    "duration": 182,
    "start_time": "2021-09-18T13:20:21.545Z"
   },
   {
    "duration": 5,
    "start_time": "2021-09-18T13:20:21.729Z"
   },
   {
    "duration": 380,
    "start_time": "2021-09-18T13:20:21.736Z"
   },
   {
    "duration": 195,
    "start_time": "2021-09-18T13:20:22.118Z"
   },
   {
    "duration": 6,
    "start_time": "2021-09-18T13:20:22.315Z"
   },
   {
    "duration": 340,
    "start_time": "2021-09-18T13:20:22.322Z"
   },
   {
    "duration": 11,
    "start_time": "2021-09-18T13:20:22.664Z"
   },
   {
    "duration": 7,
    "start_time": "2021-09-18T13:20:22.676Z"
   },
   {
    "duration": 24,
    "start_time": "2021-09-18T13:20:22.685Z"
   },
   {
    "duration": 1298,
    "start_time": "2021-09-19T04:52:57.600Z"
   },
   {
    "duration": 21,
    "start_time": "2021-09-19T04:52:58.901Z"
   },
   {
    "duration": 28,
    "start_time": "2021-09-19T04:52:58.926Z"
   },
   {
    "duration": 152,
    "start_time": "2021-09-19T04:52:58.958Z"
   },
   {
    "duration": 635,
    "start_time": "2021-09-19T04:52:59.113Z"
   },
   {
    "duration": 56,
    "start_time": "2021-09-19T04:52:59.751Z"
   },
   {
    "duration": 117,
    "start_time": "2021-09-19T04:52:59.809Z"
   },
   {
    "duration": 13,
    "start_time": "2021-09-19T04:52:59.932Z"
   },
   {
    "duration": 49,
    "start_time": "2021-09-19T04:52:59.949Z"
   },
   {
    "duration": 124,
    "start_time": "2021-09-19T04:53:00.001Z"
   },
   {
    "duration": 431,
    "start_time": "2021-09-19T04:53:00.128Z"
   },
   {
    "duration": 42,
    "start_time": "2021-09-19T04:53:00.562Z"
   },
   {
    "duration": 13,
    "start_time": "2021-09-19T04:53:00.607Z"
   },
   {
    "duration": 21,
    "start_time": "2021-09-19T04:53:00.622Z"
   },
   {
    "duration": 39,
    "start_time": "2021-09-19T04:53:00.646Z"
   },
   {
    "duration": 62,
    "start_time": "2021-09-19T04:53:00.688Z"
   },
   {
    "duration": 47,
    "start_time": "2021-09-19T04:53:00.753Z"
   },
   {
    "duration": 14,
    "start_time": "2021-09-19T04:53:00.803Z"
   },
   {
    "duration": 14,
    "start_time": "2021-09-19T04:53:00.819Z"
   },
   {
    "duration": 80,
    "start_time": "2021-09-19T04:53:00.835Z"
   },
   {
    "duration": 14,
    "start_time": "2021-09-19T04:53:00.918Z"
   },
   {
    "duration": 22,
    "start_time": "2021-09-19T04:53:00.934Z"
   },
   {
    "duration": 6,
    "start_time": "2021-09-19T04:53:00.962Z"
   },
   {
    "duration": 15,
    "start_time": "2021-09-19T04:53:00.971Z"
   },
   {
    "duration": 20,
    "start_time": "2021-09-19T04:53:00.989Z"
   },
   {
    "duration": 17,
    "start_time": "2021-09-19T04:53:01.012Z"
   },
   {
    "duration": 23,
    "start_time": "2021-09-19T04:53:01.032Z"
   },
   {
    "duration": 53,
    "start_time": "2021-09-19T04:53:01.057Z"
   },
   {
    "duration": 71,
    "start_time": "2021-09-19T04:53:01.112Z"
   },
   {
    "duration": 20,
    "start_time": "2021-09-19T04:53:01.185Z"
   },
   {
    "duration": 33,
    "start_time": "2021-09-19T04:53:01.207Z"
   },
   {
    "duration": 55,
    "start_time": "2021-09-19T04:53:01.242Z"
   },
   {
    "duration": 17,
    "start_time": "2021-09-19T04:53:01.300Z"
   },
   {
    "duration": 34,
    "start_time": "2021-09-19T04:53:01.320Z"
   },
   {
    "duration": 59,
    "start_time": "2021-09-19T04:53:01.357Z"
   },
   {
    "duration": 4,
    "start_time": "2021-09-19T04:53:01.419Z"
   },
   {
    "duration": 18,
    "start_time": "2021-09-19T04:53:01.426Z"
   },
   {
    "duration": 23,
    "start_time": "2021-09-19T04:53:01.447Z"
   },
   {
    "duration": 47,
    "start_time": "2021-09-19T04:53:01.472Z"
   },
   {
    "duration": 12,
    "start_time": "2021-09-19T04:53:01.522Z"
   },
   {
    "duration": 38,
    "start_time": "2021-09-19T04:53:01.537Z"
   },
   {
    "duration": 25,
    "start_time": "2021-09-19T04:53:01.578Z"
   },
   {
    "duration": 22,
    "start_time": "2021-09-19T04:53:01.607Z"
   },
   {
    "duration": 895,
    "start_time": "2021-09-19T04:53:01.632Z"
   },
   {
    "duration": 22,
    "start_time": "2021-09-19T04:53:02.530Z"
   },
   {
    "duration": 29,
    "start_time": "2021-09-19T04:53:02.554Z"
   },
   {
    "duration": 32,
    "start_time": "2021-09-19T04:53:02.585Z"
   },
   {
    "duration": 16,
    "start_time": "2021-09-19T04:53:02.619Z"
   },
   {
    "duration": 36,
    "start_time": "2021-09-19T04:53:02.638Z"
   },
   {
    "duration": 596,
    "start_time": "2021-09-19T04:53:02.677Z"
   },
   {
    "duration": 567,
    "start_time": "2021-09-19T04:53:03.276Z"
   },
   {
    "duration": 505,
    "start_time": "2021-09-19T04:53:03.847Z"
   },
   {
    "duration": 520,
    "start_time": "2021-09-19T04:53:04.355Z"
   },
   {
    "duration": 636,
    "start_time": "2021-09-19T04:53:04.877Z"
   },
   {
    "duration": 306,
    "start_time": "2021-09-19T04:53:05.516Z"
   },
   {
    "duration": 8,
    "start_time": "2021-09-19T04:53:05.825Z"
   },
   {
    "duration": 599,
    "start_time": "2021-09-19T04:53:05.835Z"
   },
   {
    "duration": 339,
    "start_time": "2021-09-19T04:53:06.436Z"
   },
   {
    "duration": 8,
    "start_time": "2021-09-19T04:53:06.778Z"
   },
   {
    "duration": 421,
    "start_time": "2021-09-19T04:53:06.788Z"
   },
   {
    "duration": 17,
    "start_time": "2021-09-19T04:53:07.212Z"
   },
   {
    "duration": 10,
    "start_time": "2021-09-19T04:53:07.232Z"
   },
   {
    "duration": 43,
    "start_time": "2021-09-19T04:53:07.244Z"
   },
   {
    "duration": 82,
    "start_time": "2021-09-19T08:36:15.294Z"
   },
   {
    "duration": 892,
    "start_time": "2021-09-19T08:40:52.368Z"
   },
   {
    "duration": 12,
    "start_time": "2021-09-19T08:40:53.262Z"
   },
   {
    "duration": 19,
    "start_time": "2021-09-19T08:40:53.276Z"
   },
   {
    "duration": 77,
    "start_time": "2021-09-19T08:40:53.297Z"
   },
   {
    "duration": 273,
    "start_time": "2021-09-19T08:40:53.376Z"
   },
   {
    "duration": 24,
    "start_time": "2021-09-19T08:40:53.650Z"
   },
   {
    "duration": 79,
    "start_time": "2021-09-19T08:40:53.675Z"
   },
   {
    "duration": 7,
    "start_time": "2021-09-19T08:40:53.757Z"
   },
   {
    "duration": 17,
    "start_time": "2021-09-19T08:40:53.765Z"
   },
   {
    "duration": 62,
    "start_time": "2021-09-19T08:40:53.783Z"
   },
   {
    "duration": 222,
    "start_time": "2021-09-19T08:40:53.847Z"
   },
   {
    "duration": 19,
    "start_time": "2021-09-19T08:40:54.071Z"
   },
   {
    "duration": 7,
    "start_time": "2021-09-19T08:40:54.092Z"
   },
   {
    "duration": 11,
    "start_time": "2021-09-19T08:40:54.101Z"
   },
   {
    "duration": 12,
    "start_time": "2021-09-19T08:40:54.114Z"
   },
   {
    "duration": 53,
    "start_time": "2021-09-19T08:40:54.128Z"
   },
   {
    "duration": 17,
    "start_time": "2021-09-19T08:40:54.183Z"
   },
   {
    "duration": 9,
    "start_time": "2021-09-19T08:40:54.202Z"
   },
   {
    "duration": 11,
    "start_time": "2021-09-19T08:40:54.212Z"
   },
   {
    "duration": 41,
    "start_time": "2021-09-19T08:40:54.244Z"
   },
   {
    "duration": 5,
    "start_time": "2021-09-19T08:40:54.286Z"
   },
   {
    "duration": 9,
    "start_time": "2021-09-19T08:40:54.292Z"
   },
   {
    "duration": 4,
    "start_time": "2021-09-19T08:40:54.304Z"
   },
   {
    "duration": 5,
    "start_time": "2021-09-19T08:40:54.310Z"
   },
   {
    "duration": 30,
    "start_time": "2021-09-19T08:40:54.316Z"
   },
   {
    "duration": 6,
    "start_time": "2021-09-19T08:40:54.348Z"
   },
   {
    "duration": 7,
    "start_time": "2021-09-19T08:40:54.356Z"
   },
   {
    "duration": 22,
    "start_time": "2021-09-19T08:40:54.365Z"
   },
   {
    "duration": 56,
    "start_time": "2021-09-19T08:40:54.388Z"
   },
   {
    "duration": 11,
    "start_time": "2021-09-19T08:40:54.446Z"
   },
   {
    "duration": 17,
    "start_time": "2021-09-19T08:40:54.458Z"
   },
   {
    "duration": 23,
    "start_time": "2021-09-19T08:40:54.476Z"
   },
   {
    "duration": 11,
    "start_time": "2021-09-19T08:40:54.500Z"
   },
   {
    "duration": 41,
    "start_time": "2021-09-19T08:40:54.512Z"
   },
   {
    "duration": 27,
    "start_time": "2021-09-19T08:40:54.555Z"
   },
   {
    "duration": 3,
    "start_time": "2021-09-19T08:40:54.584Z"
   },
   {
    "duration": 7,
    "start_time": "2021-09-19T08:40:54.588Z"
   },
   {
    "duration": 6,
    "start_time": "2021-09-19T08:40:54.596Z"
   },
   {
    "duration": 92,
    "start_time": "2021-09-19T08:40:54.604Z"
   },
   {
    "duration": -574,
    "start_time": "2021-09-19T08:40:55.271Z"
   },
   {
    "duration": -577,
    "start_time": "2021-09-19T08:40:55.275Z"
   },
   {
    "duration": -580,
    "start_time": "2021-09-19T08:40:55.279Z"
   },
   {
    "duration": -584,
    "start_time": "2021-09-19T08:40:55.284Z"
   },
   {
    "duration": -587,
    "start_time": "2021-09-19T08:40:55.288Z"
   },
   {
    "duration": -591,
    "start_time": "2021-09-19T08:40:55.293Z"
   },
   {
    "duration": -594,
    "start_time": "2021-09-19T08:40:55.297Z"
   },
   {
    "duration": -597,
    "start_time": "2021-09-19T08:40:55.301Z"
   },
   {
    "duration": -600,
    "start_time": "2021-09-19T08:40:55.305Z"
   },
   {
    "duration": -604,
    "start_time": "2021-09-19T08:40:55.310Z"
   },
   {
    "duration": -607,
    "start_time": "2021-09-19T08:40:55.314Z"
   },
   {
    "duration": -642,
    "start_time": "2021-09-19T08:40:55.350Z"
   },
   {
    "duration": -647,
    "start_time": "2021-09-19T08:40:55.356Z"
   },
   {
    "duration": -650,
    "start_time": "2021-09-19T08:40:55.360Z"
   },
   {
    "duration": -653,
    "start_time": "2021-09-19T08:40:55.364Z"
   },
   {
    "duration": -656,
    "start_time": "2021-09-19T08:40:55.368Z"
   },
   {
    "duration": -664,
    "start_time": "2021-09-19T08:40:55.376Z"
   },
   {
    "duration": -668,
    "start_time": "2021-09-19T08:40:55.381Z"
   },
   {
    "duration": -671,
    "start_time": "2021-09-19T08:40:55.385Z"
   },
   {
    "duration": -674,
    "start_time": "2021-09-19T08:40:55.389Z"
   },
   {
    "duration": -678,
    "start_time": "2021-09-19T08:40:55.394Z"
   },
   {
    "duration": -681,
    "start_time": "2021-09-19T08:40:55.398Z"
   },
   {
    "duration": -684,
    "start_time": "2021-09-19T08:40:55.402Z"
   },
   {
    "duration": -688,
    "start_time": "2021-09-19T08:40:55.407Z"
   },
   {
    "duration": 25,
    "start_time": "2021-09-19T08:42:36.753Z"
   },
   {
    "duration": 9,
    "start_time": "2021-09-19T08:59:43.982Z"
   },
   {
    "duration": 5,
    "start_time": "2021-09-19T08:59:47.018Z"
   },
   {
    "duration": 3,
    "start_time": "2021-09-19T08:59:49.010Z"
   },
   {
    "duration": 5,
    "start_time": "2021-09-19T08:59:52.959Z"
   },
   {
    "duration": 408,
    "start_time": "2021-09-19T08:59:54.889Z"
   },
   {
    "duration": 16,
    "start_time": "2021-09-19T08:59:55.298Z"
   },
   {
    "duration": 7,
    "start_time": "2021-09-19T09:00:00.133Z"
   },
   {
    "duration": 13,
    "start_time": "2021-09-19T09:00:00.676Z"
   },
   {
    "duration": 2,
    "start_time": "2021-09-19T09:00:03.607Z"
   },
   {
    "duration": 86,
    "start_time": "2021-09-19T09:00:05.525Z"
   },
   {
    "duration": 3,
    "start_time": "2021-09-19T09:00:21.133Z"
   },
   {
    "duration": 306,
    "start_time": "2021-09-19T09:00:23.569Z"
   },
   {
    "duration": 3,
    "start_time": "2021-09-19T09:02:54.806Z"
   },
   {
    "duration": 1082,
    "start_time": "2021-09-19T09:02:57.111Z"
   },
   {
    "duration": 4,
    "start_time": "2021-09-19T09:03:09.036Z"
   },
   {
    "duration": 716,
    "start_time": "2021-09-19T09:03:11.602Z"
   },
   {
    "duration": 4,
    "start_time": "2021-09-19T09:04:56.358Z"
   },
   {
    "duration": 725,
    "start_time": "2021-09-19T09:04:58.350Z"
   },
   {
    "duration": 4,
    "start_time": "2021-09-19T09:09:41.741Z"
   },
   {
    "duration": 630,
    "start_time": "2021-09-19T09:09:43.657Z"
   },
   {
    "duration": 4,
    "start_time": "2021-09-19T09:10:48.314Z"
   },
   {
    "duration": 689,
    "start_time": "2021-09-19T09:10:50.226Z"
   },
   {
    "duration": 4,
    "start_time": "2021-09-19T09:11:39.700Z"
   },
   {
    "duration": 365,
    "start_time": "2021-09-19T09:11:42.340Z"
   },
   {
    "duration": 4,
    "start_time": "2021-09-19T09:13:39.221Z"
   },
   {
    "duration": 426,
    "start_time": "2021-09-19T09:13:41.968Z"
   },
   {
    "duration": 4,
    "start_time": "2021-09-19T09:13:59.864Z"
   },
   {
    "duration": 308,
    "start_time": "2021-09-19T09:14:01.631Z"
   },
   {
    "duration": 4,
    "start_time": "2021-09-19T09:15:17.986Z"
   },
   {
    "duration": 305,
    "start_time": "2021-09-19T09:15:19.577Z"
   },
   {
    "duration": 4,
    "start_time": "2021-09-19T09:15:46.543Z"
   },
   {
    "duration": 706,
    "start_time": "2021-09-19T09:15:48.724Z"
   },
   {
    "duration": 4,
    "start_time": "2021-09-19T09:16:16.101Z"
   },
   {
    "duration": 383,
    "start_time": "2021-09-19T09:16:17.890Z"
   },
   {
    "duration": 4,
    "start_time": "2021-09-19T09:17:04.496Z"
   },
   {
    "duration": 383,
    "start_time": "2021-09-19T09:17:06.145Z"
   },
   {
    "duration": 4,
    "start_time": "2021-09-19T09:17:40.672Z"
   },
   {
    "duration": 1112,
    "start_time": "2021-09-19T09:17:42.422Z"
   },
   {
    "duration": 5,
    "start_time": "2021-09-19T09:17:49.807Z"
   },
   {
    "duration": 320,
    "start_time": "2021-09-19T09:17:51.372Z"
   },
   {
    "duration": 5,
    "start_time": "2021-09-19T09:21:07.925Z"
   },
   {
    "duration": 309,
    "start_time": "2021-09-19T09:21:09.253Z"
   },
   {
    "duration": 4,
    "start_time": "2021-09-19T09:21:32.201Z"
   },
   {
    "duration": 309,
    "start_time": "2021-09-19T09:21:37.160Z"
   },
   {
    "duration": 484,
    "start_time": "2021-09-19T09:21:46.435Z"
   },
   {
    "duration": 290,
    "start_time": "2021-09-19T09:23:19.942Z"
   },
   {
    "duration": 275,
    "start_time": "2021-09-19T09:23:37.105Z"
   },
   {
    "duration": 293,
    "start_time": "2021-09-19T09:24:20.329Z"
   },
   {
    "duration": 257,
    "start_time": "2021-09-19T09:24:32.664Z"
   },
   {
    "duration": 163,
    "start_time": "2021-09-19T09:25:20.730Z"
   },
   {
    "duration": 5,
    "start_time": "2021-09-19T09:25:51.130Z"
   },
   {
    "duration": 343,
    "start_time": "2021-09-19T09:26:05.990Z"
   },
   {
    "duration": 230,
    "start_time": "2021-09-19T09:26:27.641Z"
   },
   {
    "duration": 5,
    "start_time": "2021-09-19T09:26:47.294Z"
   },
   {
    "duration": 345,
    "start_time": "2021-09-19T09:33:49.625Z"
   },
   {
    "duration": 10,
    "start_time": "2021-09-19T09:33:51.165Z"
   },
   {
    "duration": 4,
    "start_time": "2021-09-19T09:35:26.609Z"
   },
   {
    "duration": 4,
    "start_time": "2021-09-19T09:35:53.427Z"
   },
   {
    "duration": 5,
    "start_time": "2021-09-19T09:36:28.720Z"
   },
   {
    "duration": 6,
    "start_time": "2021-09-19T09:40:22.765Z"
   },
   {
    "duration": 10,
    "start_time": "2021-09-19T09:40:23.512Z"
   },
   {
    "duration": 4,
    "start_time": "2021-09-19T09:40:26.657Z"
   },
   {
    "duration": 2,
    "start_time": "2021-09-19T09:50:27.245Z"
   },
   {
    "duration": 992,
    "start_time": "2021-09-19T09:53:36.916Z"
   },
   {
    "duration": 354,
    "start_time": "2021-09-19T09:53:37.910Z"
   },
   {
    "duration": 10,
    "start_time": "2021-09-19T09:53:38.267Z"
   },
   {
    "duration": 20,
    "start_time": "2021-09-19T09:53:38.278Z"
   },
   {
    "duration": 83,
    "start_time": "2021-09-19T09:53:38.300Z"
   },
   {
    "duration": 219,
    "start_time": "2021-09-19T09:53:38.385Z"
   },
   {
    "duration": 26,
    "start_time": "2021-09-19T09:53:38.606Z"
   },
   {
    "duration": 70,
    "start_time": "2021-09-19T09:53:38.634Z"
   },
   {
    "duration": 7,
    "start_time": "2021-09-19T09:53:38.706Z"
   },
   {
    "duration": 30,
    "start_time": "2021-09-19T09:53:38.714Z"
   },
   {
    "duration": 56,
    "start_time": "2021-09-19T09:53:38.746Z"
   },
   {
    "duration": 226,
    "start_time": "2021-09-19T09:53:38.804Z"
   },
   {
    "duration": 22,
    "start_time": "2021-09-19T09:53:39.032Z"
   },
   {
    "duration": 8,
    "start_time": "2021-09-19T09:53:39.056Z"
   },
   {
    "duration": 11,
    "start_time": "2021-09-19T09:53:39.066Z"
   },
   {
    "duration": 12,
    "start_time": "2021-09-19T09:53:39.079Z"
   },
   {
    "duration": 58,
    "start_time": "2021-09-19T09:53:39.093Z"
   },
   {
    "duration": 19,
    "start_time": "2021-09-19T09:53:39.153Z"
   },
   {
    "duration": 8,
    "start_time": "2021-09-19T09:53:39.173Z"
   },
   {
    "duration": 7,
    "start_time": "2021-09-19T09:53:39.182Z"
   },
   {
    "duration": 6,
    "start_time": "2021-09-19T09:53:39.191Z"
   },
   {
    "duration": 9,
    "start_time": "2021-09-19T09:53:39.198Z"
   },
   {
    "duration": 6,
    "start_time": "2021-09-19T09:53:39.210Z"
   },
   {
    "duration": 28,
    "start_time": "2021-09-19T09:53:39.218Z"
   },
   {
    "duration": 4,
    "start_time": "2021-09-19T09:53:39.247Z"
   },
   {
    "duration": 8,
    "start_time": "2021-09-19T09:53:39.252Z"
   },
   {
    "duration": 8,
    "start_time": "2021-09-19T09:53:39.262Z"
   },
   {
    "duration": 7,
    "start_time": "2021-09-19T09:53:39.271Z"
   },
   {
    "duration": 24,
    "start_time": "2021-09-19T09:53:39.279Z"
   },
   {
    "duration": 59,
    "start_time": "2021-09-19T09:53:39.304Z"
   },
   {
    "duration": 12,
    "start_time": "2021-09-19T09:53:39.364Z"
   },
   {
    "duration": 16,
    "start_time": "2021-09-19T09:53:39.377Z"
   },
   {
    "duration": 22,
    "start_time": "2021-09-19T09:53:39.394Z"
   },
   {
    "duration": 27,
    "start_time": "2021-09-19T09:53:39.418Z"
   },
   {
    "duration": 18,
    "start_time": "2021-09-19T09:53:39.447Z"
   },
   {
    "duration": 27,
    "start_time": "2021-09-19T09:53:39.466Z"
   },
   {
    "duration": 2,
    "start_time": "2021-09-19T09:53:39.495Z"
   },
   {
    "duration": 7,
    "start_time": "2021-09-19T09:53:39.499Z"
   },
   {
    "duration": 6,
    "start_time": "2021-09-19T09:53:39.507Z"
   },
   {
    "duration": 48,
    "start_time": "2021-09-19T09:53:39.514Z"
   },
   {
    "duration": 8,
    "start_time": "2021-09-19T09:53:39.563Z"
   },
   {
    "duration": 10,
    "start_time": "2021-09-19T09:53:39.572Z"
   },
   {
    "duration": 9,
    "start_time": "2021-09-19T09:53:39.583Z"
   },
   {
    "duration": 10,
    "start_time": "2021-09-19T09:53:39.593Z"
   },
   {
    "duration": 418,
    "start_time": "2021-09-19T09:53:39.604Z"
   },
   {
    "duration": 22,
    "start_time": "2021-09-19T09:53:40.023Z"
   },
   {
    "duration": 5,
    "start_time": "2021-09-19T09:53:40.046Z"
   },
   {
    "duration": 16,
    "start_time": "2021-09-19T09:53:40.053Z"
   },
   {
    "duration": 3,
    "start_time": "2021-09-19T09:53:40.071Z"
   },
   {
    "duration": 332,
    "start_time": "2021-09-19T09:53:40.076Z"
   },
   {
    "duration": 374,
    "start_time": "2021-09-19T09:53:40.410Z"
   },
   {
    "duration": 302,
    "start_time": "2021-09-19T09:53:40.786Z"
   },
   {
    "duration": 304,
    "start_time": "2021-09-19T09:53:41.089Z"
   },
   {
    "duration": 299,
    "start_time": "2021-09-19T09:53:41.395Z"
   },
   {
    "duration": 183,
    "start_time": "2021-09-19T09:53:41.695Z"
   },
   {
    "duration": 5,
    "start_time": "2021-09-19T09:53:41.880Z"
   },
   {
    "duration": 331,
    "start_time": "2021-09-19T09:53:41.886Z"
   },
   {
    "duration": 187,
    "start_time": "2021-09-19T09:53:42.219Z"
   },
   {
    "duration": 4,
    "start_time": "2021-09-19T09:53:42.407Z"
   },
   {
    "duration": 6,
    "start_time": "2021-09-19T09:53:42.413Z"
   },
   {
    "duration": 11,
    "start_time": "2021-09-19T09:53:42.420Z"
   },
   {
    "duration": 15,
    "start_time": "2021-09-19T09:53:42.432Z"
   },
   {
    "duration": 8,
    "start_time": "2021-09-19T09:53:42.448Z"
   },
   {
    "duration": 86,
    "start_time": "2021-09-19T09:53:42.458Z"
   },
   {
    "duration": 3,
    "start_time": "2021-09-19T09:53:42.546Z"
   }
  ],
  "kernelspec": {
   "display_name": "Python 3 (ipykernel)",
   "language": "python",
   "name": "python3"
  },
  "language_info": {
   "codemirror_mode": {
    "name": "ipython",
    "version": 3
   },
   "file_extension": ".py",
   "mimetype": "text/x-python",
   "name": "python",
   "nbconvert_exporter": "python",
   "pygments_lexer": "ipython3",
   "version": "3.9.7"
  },
  "toc": {
   "base_numbering": 1,
   "nav_menu": {},
   "number_sections": true,
   "sideBar": true,
   "skip_h1_title": true,
   "title_cell": "Table of Contents",
   "title_sidebar": "Contents",
   "toc_cell": false,
   "toc_position": {},
   "toc_section_display": true,
   "toc_window_display": false
  }
 },
 "nbformat": 4,
 "nbformat_minor": 2
}
