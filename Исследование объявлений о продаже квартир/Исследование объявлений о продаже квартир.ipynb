{
 "cells": [
  {
   "cell_type": "markdown",
   "metadata": {},
   "source": [
    "# Исследование объявлений о продаже квартир"
   ]
  },
  {
   "cell_type": "markdown",
   "metadata": {},
   "source": [
    "## 1. Обзор данных"
   ]
  },
  {
   "cell_type": "markdown",
   "metadata": {},
   "source": [
    "**Библиотеки**"
   ]
  },
  {
   "cell_type": "code",
   "execution_count": 1,
   "metadata": {},
   "outputs": [],
   "source": [
    "import pandas as pd\n",
    "import matplotlib.pyplot as plt"
   ]
  },
  {
   "cell_type": "markdown",
   "metadata": {},
   "source": [
    "**Таблицы**"
   ]
  },
  {
   "cell_type": "code",
   "execution_count": 2,
   "metadata": {},
   "outputs": [],
   "source": [
    "data = pd.read_csv('real_estate_data.csv', sep='\\t')"
   ]
  },
  {
   "cell_type": "markdown",
   "metadata": {},
   "source": [
    "**Обзор**"
   ]
  },
  {
   "cell_type": "code",
   "execution_count": 3,
   "metadata": {},
   "outputs": [
    {
     "data": {
      "text/html": [
       "<div>\n",
       "<style scoped>\n",
       "    .dataframe tbody tr th:only-of-type {\n",
       "        vertical-align: middle;\n",
       "    }\n",
       "\n",
       "    .dataframe tbody tr th {\n",
       "        vertical-align: top;\n",
       "    }\n",
       "\n",
       "    .dataframe thead th {\n",
       "        text-align: right;\n",
       "    }\n",
       "</style>\n",
       "<table border=\"1\" class=\"dataframe\">\n",
       "  <thead>\n",
       "    <tr style=\"text-align: right;\">\n",
       "      <th></th>\n",
       "      <th>total_images</th>\n",
       "      <th>last_price</th>\n",
       "      <th>total_area</th>\n",
       "      <th>first_day_exposition</th>\n",
       "      <th>rooms</th>\n",
       "      <th>ceiling_height</th>\n",
       "      <th>floors_total</th>\n",
       "      <th>living_area</th>\n",
       "      <th>floor</th>\n",
       "      <th>is_apartment</th>\n",
       "      <th>...</th>\n",
       "      <th>kitchen_area</th>\n",
       "      <th>balcony</th>\n",
       "      <th>locality_name</th>\n",
       "      <th>airports_nearest</th>\n",
       "      <th>cityCenters_nearest</th>\n",
       "      <th>parks_around3000</th>\n",
       "      <th>parks_nearest</th>\n",
       "      <th>ponds_around3000</th>\n",
       "      <th>ponds_nearest</th>\n",
       "      <th>days_exposition</th>\n",
       "    </tr>\n",
       "  </thead>\n",
       "  <tbody>\n",
       "    <tr>\n",
       "      <th>0</th>\n",
       "      <td>20</td>\n",
       "      <td>13000000.0</td>\n",
       "      <td>108.0</td>\n",
       "      <td>2019-03-07T00:00:00</td>\n",
       "      <td>3</td>\n",
       "      <td>2.70</td>\n",
       "      <td>16.0</td>\n",
       "      <td>51.0</td>\n",
       "      <td>8</td>\n",
       "      <td>NaN</td>\n",
       "      <td>...</td>\n",
       "      <td>25.0</td>\n",
       "      <td>NaN</td>\n",
       "      <td>Санкт-Петербург</td>\n",
       "      <td>18863.0</td>\n",
       "      <td>16028.0</td>\n",
       "      <td>1.0</td>\n",
       "      <td>482.0</td>\n",
       "      <td>2.0</td>\n",
       "      <td>755.0</td>\n",
       "      <td>NaN</td>\n",
       "    </tr>\n",
       "    <tr>\n",
       "      <th>1</th>\n",
       "      <td>7</td>\n",
       "      <td>3350000.0</td>\n",
       "      <td>40.4</td>\n",
       "      <td>2018-12-04T00:00:00</td>\n",
       "      <td>1</td>\n",
       "      <td>NaN</td>\n",
       "      <td>11.0</td>\n",
       "      <td>18.6</td>\n",
       "      <td>1</td>\n",
       "      <td>NaN</td>\n",
       "      <td>...</td>\n",
       "      <td>11.0</td>\n",
       "      <td>2.0</td>\n",
       "      <td>посёлок Шушары</td>\n",
       "      <td>12817.0</td>\n",
       "      <td>18603.0</td>\n",
       "      <td>0.0</td>\n",
       "      <td>NaN</td>\n",
       "      <td>0.0</td>\n",
       "      <td>NaN</td>\n",
       "      <td>81.0</td>\n",
       "    </tr>\n",
       "    <tr>\n",
       "      <th>2</th>\n",
       "      <td>10</td>\n",
       "      <td>5196000.0</td>\n",
       "      <td>56.0</td>\n",
       "      <td>2015-08-20T00:00:00</td>\n",
       "      <td>2</td>\n",
       "      <td>NaN</td>\n",
       "      <td>5.0</td>\n",
       "      <td>34.3</td>\n",
       "      <td>4</td>\n",
       "      <td>NaN</td>\n",
       "      <td>...</td>\n",
       "      <td>8.3</td>\n",
       "      <td>0.0</td>\n",
       "      <td>Санкт-Петербург</td>\n",
       "      <td>21741.0</td>\n",
       "      <td>13933.0</td>\n",
       "      <td>1.0</td>\n",
       "      <td>90.0</td>\n",
       "      <td>2.0</td>\n",
       "      <td>574.0</td>\n",
       "      <td>558.0</td>\n",
       "    </tr>\n",
       "    <tr>\n",
       "      <th>3</th>\n",
       "      <td>0</td>\n",
       "      <td>64900000.0</td>\n",
       "      <td>159.0</td>\n",
       "      <td>2015-07-24T00:00:00</td>\n",
       "      <td>3</td>\n",
       "      <td>NaN</td>\n",
       "      <td>14.0</td>\n",
       "      <td>NaN</td>\n",
       "      <td>9</td>\n",
       "      <td>NaN</td>\n",
       "      <td>...</td>\n",
       "      <td>NaN</td>\n",
       "      <td>0.0</td>\n",
       "      <td>Санкт-Петербург</td>\n",
       "      <td>28098.0</td>\n",
       "      <td>6800.0</td>\n",
       "      <td>2.0</td>\n",
       "      <td>84.0</td>\n",
       "      <td>3.0</td>\n",
       "      <td>234.0</td>\n",
       "      <td>424.0</td>\n",
       "    </tr>\n",
       "    <tr>\n",
       "      <th>4</th>\n",
       "      <td>2</td>\n",
       "      <td>10000000.0</td>\n",
       "      <td>100.0</td>\n",
       "      <td>2018-06-19T00:00:00</td>\n",
       "      <td>2</td>\n",
       "      <td>3.03</td>\n",
       "      <td>14.0</td>\n",
       "      <td>32.0</td>\n",
       "      <td>13</td>\n",
       "      <td>NaN</td>\n",
       "      <td>...</td>\n",
       "      <td>41.0</td>\n",
       "      <td>NaN</td>\n",
       "      <td>Санкт-Петербург</td>\n",
       "      <td>31856.0</td>\n",
       "      <td>8098.0</td>\n",
       "      <td>2.0</td>\n",
       "      <td>112.0</td>\n",
       "      <td>1.0</td>\n",
       "      <td>48.0</td>\n",
       "      <td>121.0</td>\n",
       "    </tr>\n",
       "  </tbody>\n",
       "</table>\n",
       "<p>5 rows × 22 columns</p>\n",
       "</div>"
      ],
      "text/plain": [
       "   total_images  last_price  total_area first_day_exposition  rooms  \\\n",
       "0            20  13000000.0       108.0  2019-03-07T00:00:00      3   \n",
       "1             7   3350000.0        40.4  2018-12-04T00:00:00      1   \n",
       "2            10   5196000.0        56.0  2015-08-20T00:00:00      2   \n",
       "3             0  64900000.0       159.0  2015-07-24T00:00:00      3   \n",
       "4             2  10000000.0       100.0  2018-06-19T00:00:00      2   \n",
       "\n",
       "   ceiling_height  floors_total  living_area  floor is_apartment  ...  \\\n",
       "0            2.70          16.0         51.0      8          NaN  ...   \n",
       "1             NaN          11.0         18.6      1          NaN  ...   \n",
       "2             NaN           5.0         34.3      4          NaN  ...   \n",
       "3             NaN          14.0          NaN      9          NaN  ...   \n",
       "4            3.03          14.0         32.0     13          NaN  ...   \n",
       "\n",
       "   kitchen_area  balcony    locality_name  airports_nearest  \\\n",
       "0          25.0      NaN  Санкт-Петербург           18863.0   \n",
       "1          11.0      2.0   посёлок Шушары           12817.0   \n",
       "2           8.3      0.0  Санкт-Петербург           21741.0   \n",
       "3           NaN      0.0  Санкт-Петербург           28098.0   \n",
       "4          41.0      NaN  Санкт-Петербург           31856.0   \n",
       "\n",
       "  cityCenters_nearest  parks_around3000  parks_nearest  ponds_around3000  \\\n",
       "0             16028.0               1.0          482.0               2.0   \n",
       "1             18603.0               0.0            NaN               0.0   \n",
       "2             13933.0               1.0           90.0               2.0   \n",
       "3              6800.0               2.0           84.0               3.0   \n",
       "4              8098.0               2.0          112.0               1.0   \n",
       "\n",
       "   ponds_nearest  days_exposition  \n",
       "0          755.0              NaN  \n",
       "1            NaN             81.0  \n",
       "2          574.0            558.0  \n",
       "3          234.0            424.0  \n",
       "4           48.0            121.0  \n",
       "\n",
       "[5 rows x 22 columns]"
      ]
     },
     "execution_count": 3,
     "metadata": {},
     "output_type": "execute_result"
    }
   ],
   "source": [
    "data.head()"
   ]
  },
  {
   "cell_type": "code",
   "execution_count": 4,
   "metadata": {},
   "outputs": [
    {
     "name": "stdout",
     "output_type": "stream",
     "text": [
      "<class 'pandas.core.frame.DataFrame'>\n",
      "RangeIndex: 23699 entries, 0 to 23698\n",
      "Data columns (total 22 columns):\n",
      " #   Column                Non-Null Count  Dtype  \n",
      "---  ------                --------------  -----  \n",
      " 0   total_images          23699 non-null  int64  \n",
      " 1   last_price            23699 non-null  float64\n",
      " 2   total_area            23699 non-null  float64\n",
      " 3   first_day_exposition  23699 non-null  object \n",
      " 4   rooms                 23699 non-null  int64  \n",
      " 5   ceiling_height        14504 non-null  float64\n",
      " 6   floors_total          23613 non-null  float64\n",
      " 7   living_area           21796 non-null  float64\n",
      " 8   floor                 23699 non-null  int64  \n",
      " 9   is_apartment          2775 non-null   object \n",
      " 10  studio                23699 non-null  bool   \n",
      " 11  open_plan             23699 non-null  bool   \n",
      " 12  kitchen_area          21421 non-null  float64\n",
      " 13  balcony               12180 non-null  float64\n",
      " 14  locality_name         23650 non-null  object \n",
      " 15  airports_nearest      18157 non-null  float64\n",
      " 16  cityCenters_nearest   18180 non-null  float64\n",
      " 17  parks_around3000      18181 non-null  float64\n",
      " 18  parks_nearest         8079 non-null   float64\n",
      " 19  ponds_around3000      18181 non-null  float64\n",
      " 20  ponds_nearest         9110 non-null   float64\n",
      " 21  days_exposition       20518 non-null  float64\n",
      "dtypes: bool(2), float64(14), int64(3), object(3)\n",
      "memory usage: 3.7+ MB\n"
     ]
    }
   ],
   "source": [
    "data.info()"
   ]
  },
  {
   "cell_type": "markdown",
   "metadata": {},
   "source": [
    "### Что обработать"
   ]
  },
  {
   "cell_type": "markdown",
   "metadata": {},
   "source": [
    "1. Данные в следующих столбцах нужно привести к целочисленному типу: \n",
    "- число парков в радиусе 3 км - не может быть 1,5 парка\n",
    "- число водоёмов в радиусе 3 км - не может быть 1,5 водоема\n",
    "- сколько дней было размещено объявление (от публикации до снятия) - сложно корректно интерпретировать 1.87 дня, да и вряд ли нам нужна такая точность\n",
    "- число балконов - не может быть 1.5 балконов\n",
    "- всего этажей в доме - не может быть 1.5 этажа\n",
    "- цена на момент снятия с публикации - вряд ли нам нужна цена с точностью до копеек\n",
    "\n",
    "2. Столбец 'first_day_exposition' содержит информацию о дате размещения в неудобном для работы виде. Нужно привести его к рабочему виду с помощью to_datetime()\n",
    "\n",
    "3. Столбец 'is_apartment' стоит перевести в булев тип\n",
    "\n",
    "4. Пропусков много и они в разных столбцах. Разебермся с каждым из них в отдельности в блоке предобработки. "
   ]
  },
  {
   "cell_type": "markdown",
   "metadata": {},
   "source": [
    "## 2. Предобработка"
   ]
  },
  {
   "cell_type": "markdown",
   "metadata": {},
   "source": [
    "### Пропуски"
   ]
  },
  {
   "cell_type": "markdown",
   "metadata": {},
   "source": [
    "#### Столбец ceiling_height - высота потолков"
   ]
  },
  {
   "cell_type": "code",
   "execution_count": 5,
   "metadata": {},
   "outputs": [
    {
     "data": {
      "text/plain": [
       "count    14504.000000\n",
       "mean         2.771499\n",
       "std          1.261056\n",
       "min          1.000000\n",
       "25%          2.520000\n",
       "50%          2.650000\n",
       "75%          2.800000\n",
       "max        100.000000\n",
       "Name: ceiling_height, dtype: float64"
      ]
     },
     "execution_count": 5,
     "metadata": {},
     "output_type": "execute_result"
    }
   ],
   "source": [
    "data['ceiling_height'].describe()"
   ]
  },
  {
   "cell_type": "markdown",
   "metadata": {},
   "source": [
    "Высоту потолков пользователь мог просто не указать: не хотел или не видел в этом необходимости (например подумал, что она везде стандартная). Пропусков в этом столбце очень много, поэтому удалять их мы точно не будем. Но и заменить на харакетрное значение (медиану или среднее) будет не совсем верным решением. Заменив 11 тысяч пропусков на одно единственное значение мы можем сильно исказить данные и это помешает дальнейшему исследованию. **Оставим этот столбец как есть.** "
   ]
  },
  {
   "cell_type": "markdown",
   "metadata": {},
   "source": [
    "#### Столбцы living_area и kitchen_area: жилая площадь и площадь кухни в кв.м.\n",
    "Рассматриваем эти пропуски вместе, потому что их природа может быть одинаковой. Пользователь мог посчитать ненужным заполнять именно эти пункты, ведь самое главное - общая площадь. Попробуем разобраться - есть ли закономерность в их появлении. \n",
    "\n",
    "\n",
    "Что, если площадь кухни не указана там же, где и жилая площадь? А что, если площадь кухни и жилая площадь не указывается в квартирах со свободной планировкой или квартирах студиях (раз нет деления на комнаты то и нет данных по площадям кажой части квартиры?  "
   ]
  },
  {
   "cell_type": "code",
   "execution_count": 6,
   "metadata": {},
   "outputs": [
    {
     "name": "stdout",
     "output_type": "stream",
     "text": [
      "Пропусков в столбцах\n",
      "Площадь кухни:  2278\n",
      "Жилая площадь:  1903\n",
      "Жилая площадь + площадь кухни: 1464\n",
      "Площадь кухни + свободная планировка:  67\n",
      "Жилая площадь + свободная планировка:  5\n",
      "Площадь кухни + студия:  149\n",
      "Жилая площадь + студия:  10\n"
     ]
    }
   ],
   "source": [
    "print('Пропусков в столбцах')\n",
    "print('Площадь кухни: ', len(data[data['kitchen_area'].isna()]))\n",
    "print('Жилая площадь: ', len(data[data['living_area'].isna()]))\n",
    "print('Жилая площадь + площадь кухни:', len(data[(data['living_area'].isna()) & (data['kitchen_area'].isna())]))\n",
    "print('Площадь кухни + свободная планировка: ', len(data[(data['kitchen_area'].isna()) & \n",
    "                                                 (data['open_plan'] == True)]))\n",
    "print('Жилая площадь + свободная планировка: ', len(data[(data['living_area'].isna()) & \n",
    "                                                 (data['open_plan'] == True)]))\n",
    "print('Площадь кухни + студия: ', len(data[(data['kitchen_area'].isna()) & \n",
    "                                                 (data['studio'] == True)]))\n",
    "print('Жилая площадь + студия: ', len(data[(data['living_area'].isna()) & \n",
    "                                                 (data['studio'] == True)]))"
   ]
  },
  {
   "cell_type": "markdown",
   "metadata": {},
   "source": [
    "Второе предположение точно не оправдалось. Первое предположение проявилось частично, но не настолько, чтобы помочь разобраться в природе появления пропусков. Значит, идем по классическому пути. Переменная количественная, поэтому заменяем пропуски на характерные значения. Но, есть нюанс: медиана здесь не сработает. Медиана может дать противоречивые данные. Например: общая площадь квартиры будет 20 кв.м, а жилая (заполненная по медиане) - 35 кв.м. В случае с площадью, как мне кажется, может быть справедливой следующая идея:\n",
    "\n",
    "Значения доли площади кухни и жилой площади в общей площади квартиры в среднем будут находится в небольшом диапозоне значений. Соответственно, посчитав среднюю долю, мы сможем заполнить пропуски в каждом столбце на основании данных из столбца с общей площадью (она есть для всех объявлений). В таком случае у нас никогда не получится ситуации, что кухня больше, чем вся квартира. \n",
    "\n",
    "Найдем доли кухни и жилой площади и сразу округлим их двух знаков после запятой. "
   ]
  },
  {
   "cell_type": "code",
   "execution_count": 7,
   "metadata": {},
   "outputs": [],
   "source": [
    "data['living_area_part'] = data['living_area'] / data['total_area']\n",
    "data['kitchen_area_part'] = data['kitchen_area'] / data['total_area']\n",
    "data[['living_area_part','kitchen_area_part']] = data[['living_area_part','kitchen_area_part']].round(2)"
   ]
  },
  {
   "cell_type": "code",
   "execution_count": 8,
   "metadata": {},
   "outputs": [
    {
     "data": {
      "text/plain": [
       "<AxesSubplot:>"
      ]
     },
     "execution_count": 8,
     "metadata": {},
     "output_type": "execute_result"
    },
    {
     "data": {
      "image/png": "[encoded data removed]",
      "text/plain": [
       "<Figure size 432x288 with 1 Axes>"
      ]
     },
     "metadata": {
      "needs_background": "light"
     },
     "output_type": "display_data"
    }
   ],
   "source": [
    "data['living_area_part'].hist(bins=20)"
   ]
  },
  {
   "cell_type": "code",
   "execution_count": 9,
   "metadata": {},
   "outputs": [
    {
     "data": {
      "text/plain": [
       "count    21796.000000\n",
       "mean         0.564745\n",
       "std          0.105431\n",
       "min          0.020000\n",
       "25%          0.500000\n",
       "50%          0.570000\n",
       "75%          0.640000\n",
       "max          1.000000\n",
       "Name: living_area_part, dtype: float64"
      ]
     },
     "execution_count": 9,
     "metadata": {},
     "output_type": "execute_result"
    }
   ],
   "source": [
    "data['living_area_part'].describe()"
   ]
  },
  {
   "cell_type": "code",
   "execution_count": 10,
   "metadata": {},
   "outputs": [
    {
     "data": {
      "text/plain": [
       "<AxesSubplot:>"
      ]
     },
     "execution_count": 10,
     "metadata": {},
     "output_type": "execute_result"
    },
    {
     "data": {
      "image/png": "[encoded data removed]",
      "text/plain": [
       "<Figure size 432x288 with 1 Axes>"
      ]
     },
     "metadata": {
      "needs_background": "light"
     },
     "output_type": "display_data"
    }
   ],
   "source": [
    "data['kitchen_area_part'].hist(bins=20)"
   ]
  },
  {
   "cell_type": "code",
   "execution_count": 11,
   "metadata": {},
   "outputs": [
    {
     "data": {
      "text/plain": [
       "count    21421.000000\n",
       "mean         0.187321\n",
       "std          0.073073\n",
       "min          0.030000\n",
       "25%          0.130000\n",
       "50%          0.170000\n",
       "75%          0.230000\n",
       "max          0.790000\n",
       "Name: kitchen_area_part, dtype: float64"
      ]
     },
     "execution_count": 11,
     "metadata": {},
     "output_type": "execute_result"
    }
   ],
   "source": [
    "data['kitchen_area_part'].describe()"
   ]
  },
  {
   "cell_type": "markdown",
   "metadata": {},
   "source": [
    "И действительно: больше всего значений доли жилой площади находится в диапозоне от 0.4 до 0.8, а доли кухни - от 0.1 до 0.3. Возьмем медиану для каждого столбца и заполним пропуски, просто умножая нужную долю на total_area. Округлим значения до 1 знака после запятой. "
   ]
  },
  {
   "cell_type": "code",
   "execution_count": 12,
   "metadata": {},
   "outputs": [],
   "source": [
    "data['living_area'].fillna(data['living_area_part'].median() * data['total_area'], inplace=True)\n",
    "data['kitchen_area'].fillna(data['kitchen_area_part'].median() * data['total_area'], inplace=True)\n",
    "data[['living_area','kitchen_area']] = data[['living_area','kitchen_area']].round(1)"
   ]
  },
  {
   "cell_type": "markdown",
   "metadata": {},
   "source": [
    "#### Столбец floors_total - общее количество этажей в доме.\n",
    "Опять же, скорее всего пользователь просто забыл проставить это значения, либо (если эти данные автоматически подгружаются из какой-то базы) информации по конкретно этим домам не было. Посмотрим на эти строки"
   ]
  },
  {
   "cell_type": "code",
   "execution_count": 13,
   "metadata": {},
   "outputs": [
    {
     "data": {
      "text/plain": [
       "86"
      ]
     },
     "execution_count": 13,
     "metadata": {},
     "output_type": "execute_result"
    }
   ],
   "source": [
    "data[data['floors_total'].isna()].shape[0]"
   ]
  },
  {
   "cell_type": "markdown",
   "metadata": {},
   "source": [
    "Переменная количественная, но брать среднее значения для нее тоже может оказаться ошибочным. Получится, что где-то квартира находится на 12 этаже, когда в доме всего 6. Строк с пропусками всего 86. Это достаточно мало и вряд ли повлияет на полноту информации. Поэтому просто избавимся от них. "
   ]
  },
  {
   "cell_type": "code",
   "execution_count": 14,
   "metadata": {},
   "outputs": [],
   "source": [
    "data.dropna(subset=['floors_total'], inplace=True)"
   ]
  },
  {
   "cell_type": "markdown",
   "metadata": {},
   "source": [
    "#### Столбец is_apartment: является ли помещение нежилым.\n",
    "В этом столбце всего 2775 строчек имеют указанное значение. Поскольку значения может быть всего два (Тру или Фолс), предполагаю, что все незаполенные значения - это False. Помещение не является апартаментами и этот пункт пользователь просто пропустил (для него это поле было вообще не актуальным). Значит ли это, что все указанные значения - это True?"
   ]
  },
  {
   "cell_type": "code",
   "execution_count": 15,
   "metadata": {},
   "outputs": [
    {
     "name": "stdout",
     "output_type": "stream",
     "text": [
      "Среди имеющихся значений:\n",
      "Значений False: 2725\n",
      "Значений True: 50\n"
     ]
    }
   ],
   "source": [
    "print('Среди имеющихся значений:')\n",
    "print('Значений False:', data.query('is_apartment == False')['is_apartment'].count())\n",
    "print('Значений True:', data.query('is_apartment == True')['is_apartment'].count())"
   ]
  },
  {
   "cell_type": "markdown",
   "metadata": {},
   "source": [
    "Даже в заполненных ячейках значений True всего 50, так что скорее всего гипотеза верная. Заполним все пропуски значением False."
   ]
  },
  {
   "cell_type": "code",
   "execution_count": 16,
   "metadata": {},
   "outputs": [],
   "source": [
    "data['is_apartment'].fillna(False, inplace=True)"
   ]
  },
  {
   "cell_type": "markdown",
   "metadata": {},
   "source": [
    "#### Столбец balcony - количество балконов\n",
    "Скорее всего - здесь все просто: если число балконов не указано, то их просто нет. Пользователь пропустил это поле, не увидев смысла проставлять значение 0. Заменим все пропуски на 0."
   ]
  },
  {
   "cell_type": "code",
   "execution_count": 17,
   "metadata": {},
   "outputs": [],
   "source": [
    "data['balcony'].fillna(0, inplace=True)"
   ]
  },
  {
   "cell_type": "markdown",
   "metadata": {},
   "source": [
    "#### Столбец locality_name - название населённого пункта\n",
    "Вряд ли пропуск связан с ошибкой пользователя: адрес объекта - важная часть объявления. Учитывая то, что в большей части этих строчек расстояние до центра города не превышает 10км, могу предополжить, что это объекты в Питере для которых указали адрес, но не написали название города.  \n",
    "\n",
    "Пропусков немного, но предлагаю не избавляться от них, а просто заменить на значение \"Неизвестно\"."
   ]
  },
  {
   "cell_type": "code",
   "execution_count": 18,
   "metadata": {},
   "outputs": [],
   "source": [
    "data['locality_name'].fillna('Неизвестно', inplace=True)"
   ]
  },
  {
   "cell_type": "markdown",
   "metadata": {},
   "source": [
    " #### Столбец airports_nearest и cityCenters_nearest - расстояния до ближайшего аэропорта и центра города\n",
    " Судя по описанию задания - эти данные получены автоматически. Беглая проверка показала, что пропуски встречаются во всех строчках с конкретными населенными пунтками. Почему именно в них - предположить не могу. Пропусков в этих пункатах практически одинаковое количество (а еще - оно сходится с количеством пропусков в столбцах parks_around3000 и ponds_around3000. Есть ощущение, что это взаимосвязанные события. Может быть функцию показа этих значений в объявлении запустили только недавно и данные по старым объявлениям не были обновлены. \n",
    " \n",
    "Для заполнения пропусков можно было бы проверить расстояние на карте, но населенных пунктов (с пропусками значений в данных столбцах) очень много, чтобы делать это вручную. Заполнять их характерными значениями кажется неподходящей идеей: пропусков около 5 тысяч, и неверной заменой мы исказим данные для анализа. Я предлагаю оставить их как есть (а еще сообщить коллегам, что в этих населенных пунтках не указано расстояние до аэропорта и центра города). "
   ]
  },
  {
   "cell_type": "markdown",
   "metadata": {},
   "source": [
    "#### Столбцы parks_around3000 и ponds_around3000: наличие парка и пруда в радиусе 3 км\n",
    "Здесь было бы логично предположить, что в пропущенных значениях должно быть 0. Раз значения нет, значит и парков(прудов) рядом просто нет. Заменим пропуски и там и там на нули. "
   ]
  },
  {
   "cell_type": "code",
   "execution_count": 19,
   "metadata": {},
   "outputs": [],
   "source": [
    "data['parks_around3000'].fillna(0, inplace=True)\n",
    "data['ponds_around3000'].fillna(0, inplace=True)"
   ]
  },
  {
   "cell_type": "markdown",
   "metadata": {},
   "source": [
    "#### Столбцы parks_nearests и ponds_nearests: расстояние до ближайшего парка и пруда\n",
    "Самое простое предположение: расстояние до парка и пруда не указано, если парка и пруда в радиусе 3км просто нет. Проверим это:"
   ]
  },
  {
   "cell_type": "code",
   "execution_count": 20,
   "metadata": {},
   "outputs": [
    {
     "name": "stdout",
     "output_type": "stream",
     "text": [
      "Пропусков в столбце\n",
      "Расстояние до парка:  15568\n",
      "Расстояние до парка, когда рядом нет парков:  15568\n"
     ]
    }
   ],
   "source": [
    "print('Пропусков в столбце')\n",
    "print('Расстояние до парка: ', len(data[data['parks_nearest'].isna()]))\n",
    "print('Расстояние до парка, когда рядом нет парков: ', len(data[(data['parks_nearest'].isna()) & \n",
    "                                                               (data['parks_around3000'] == 0)]))"
   ]
  },
  {
   "cell_type": "markdown",
   "metadata": {},
   "source": [
    "Точно! Проверим тоже самое для прудов"
   ]
  },
  {
   "cell_type": "code",
   "execution_count": 21,
   "metadata": {},
   "outputs": [
    {
     "name": "stdout",
     "output_type": "stream",
     "text": [
      "Пропусков в столбце\n",
      "Расстояние до пруда:  14552\n",
      "Расстояние до пруда, когда рядом нет парков:  14552\n"
     ]
    }
   ],
   "source": [
    "print('Пропусков в столбце')\n",
    "print('Расстояние до пруда: ', len(data[data['ponds_nearest'].isna()]))\n",
    "print('Расстояние до пруда, когда рядом нет парков: ', len(data[(data['ponds_nearest'].isna()) & \n",
    "                                                               (data['ponds_around3000'] == 0)]))"
   ]
  },
  {
   "cell_type": "markdown",
   "metadata": {},
   "source": [
    "Логика пропусков выяснена. Что с этим делать? С одной стороны, если парка в радиусе 3 км нет, значит расстояние до ближайшего парка будет больше 3 км. То есть мы могли бы взять значение 3001 и в дальнейшем помнить - что именно оно означает.  \n",
    "\n",
    "Однако, если данные понадобятся для анализа - у нас будет 14552 заполненных значения, которые исказят информацию очень сильно. **Предлагаю оставлять их как есть.** "
   ]
  },
  {
   "cell_type": "markdown",
   "metadata": {},
   "source": [
    "#### Столбец days_exposition: количество дней от публикации до снятия\n",
    "Предположение простое: объявление сняли в тот же день, а значение '0' почему-то не проставляется. Попробуем проверить это, посмотрев, есть ли вообще строки со значением 0?"
   ]
  },
  {
   "cell_type": "code",
   "execution_count": 22,
   "metadata": {},
   "outputs": [
    {
     "data": {
      "text/plain": [
       "0"
      ]
     },
     "execution_count": 22,
     "metadata": {},
     "output_type": "execute_result"
    }
   ],
   "source": [
    "data.query('days_exposition == 0').shape[0]"
   ]
  },
  {
   "cell_type": "markdown",
   "metadata": {},
   "source": [
    "Скорее всего - помещение купили в тот же день, а может быть объявление разместили, а затем сняли и разместили другое заново. Так или иначе - заполняем все нулями.  "
   ]
  },
  {
   "cell_type": "code",
   "execution_count": 23,
   "metadata": {},
   "outputs": [],
   "source": [
    "data['days_exposition'].fillna(0, inplace=True)"
   ]
  },
  {
   "cell_type": "markdown",
   "metadata": {},
   "source": [
    "Финально посмотрим на данные о фрейме, чтобы убедиться, что все ок. "
   ]
  },
  {
   "cell_type": "code",
   "execution_count": 24,
   "metadata": {},
   "outputs": [
    {
     "name": "stdout",
     "output_type": "stream",
     "text": [
      "<class 'pandas.core.frame.DataFrame'>\n",
      "Int64Index: 23613 entries, 0 to 23698\n",
      "Data columns (total 24 columns):\n",
      " #   Column                Non-Null Count  Dtype  \n",
      "---  ------                --------------  -----  \n",
      " 0   total_images          23613 non-null  int64  \n",
      " 1   last_price            23613 non-null  float64\n",
      " 2   total_area            23613 non-null  float64\n",
      " 3   first_day_exposition  23613 non-null  object \n",
      " 4   rooms                 23613 non-null  int64  \n",
      " 5   ceiling_height        14495 non-null  float64\n",
      " 6   floors_total          23613 non-null  float64\n",
      " 7   living_area           23613 non-null  float64\n",
      " 8   floor                 23613 non-null  int64  \n",
      " 9   is_apartment          23613 non-null  bool   \n",
      " 10  studio                23613 non-null  bool   \n",
      " 11  open_plan             23613 non-null  bool   \n",
      " 12  kitchen_area          23613 non-null  float64\n",
      " 13  balcony               23613 non-null  float64\n",
      " 14  locality_name         23613 non-null  object \n",
      " 15  airports_nearest      18081 non-null  float64\n",
      " 16  cityCenters_nearest   18104 non-null  float64\n",
      " 17  parks_around3000      23613 non-null  float64\n",
      " 18  parks_nearest         8045 non-null   float64\n",
      " 19  ponds_around3000      23613 non-null  float64\n",
      " 20  ponds_nearest         9061 non-null   float64\n",
      " 21  days_exposition       23613 non-null  float64\n",
      " 22  living_area_part      21743 non-null  float64\n",
      " 23  kitchen_area_part     21382 non-null  float64\n",
      "dtypes: bool(3), float64(16), int64(3), object(2)\n",
      "memory usage: 4.0+ MB\n"
     ]
    }
   ],
   "source": [
    "data.info()"
   ]
  },
  {
   "cell_type": "markdown",
   "metadata": {},
   "source": [
    "### Названия населенных пунктов"
   ]
  },
  {
   "cell_type": "markdown",
   "metadata": {},
   "source": [
    "Посмотрим - сколько значения вообще есть в этом столбце"
   ]
  },
  {
   "cell_type": "code",
   "execution_count": 25,
   "metadata": {},
   "outputs": [
    {
     "data": {
      "text/plain": [
       "365"
      ]
     },
     "execution_count": 25,
     "metadata": {},
     "output_type": "execute_result"
    }
   ],
   "source": [
    "data['locality_name'].nunique()"
   ]
  },
  {
   "cell_type": "markdown",
   "metadata": {},
   "source": [
    "Значений много, поэтому исправить руками не выйдет. Посмторим на них визуально, а затем будем поэтапно приводить в порядок."
   ]
  },
  {
   "cell_type": "code",
   "execution_count": 26,
   "metadata": {},
   "outputs": [
    {
     "data": {
      "text/plain": [
       "array(['Санкт-Петербург', 'посёлок Шушары', 'городской посёлок Янино-1',\n",
       "       'посёлок Парголово', 'посёлок Мурино', 'Ломоносов', 'Сертолово',\n",
       "       'Петергоф', 'Пушкин', 'деревня Кудрово', 'Коммунар', 'Колпино',\n",
       "       'поселок городского типа Красный Бор', 'Гатчина', 'поселок Мурино',\n",
       "       'деревня Фёдоровское', 'Выборг', 'Кронштадт', 'Кировск',\n",
       "       'деревня Новое Девяткино', 'посёлок Металлострой',\n",
       "       'посёлок городского типа Лебяжье',\n",
       "       'посёлок городского типа Сиверский', 'поселок Молодцово',\n",
       "       'поселок городского типа Кузьмоловский',\n",
       "       'садовое товарищество Новая Ропша', 'Павловск',\n",
       "       'деревня Пикколово', 'Всеволожск', 'Волхов', 'Кингисепп',\n",
       "       'Приозерск', 'Сестрорецк', 'деревня Куттузи', 'посёлок Аннино',\n",
       "       'поселок городского типа Ефимовский', 'посёлок Плодовое',\n",
       "       'деревня Заклинье', 'поселок Торковичи', 'поселок Первомайское',\n",
       "       'Красное Село', 'посёлок Понтонный', 'Сясьстрой', 'деревня Старая',\n",
       "       'деревня Лесколово', 'посёлок Новый Свет', 'Сланцы',\n",
       "       'село Путилово', 'Ивангород', 'Мурино', 'Шлиссельбург',\n",
       "       'Никольское', 'Зеленогорск', 'Сосновый Бор', 'поселок Новый Свет',\n",
       "       'деревня Оржицы', 'деревня Кальтино', 'Кудрово',\n",
       "       'поселок Романовка', 'посёлок Бугры', 'поселок Бугры',\n",
       "       'поселок городского типа Рощино', 'Кириши', 'Луга', 'Волосово',\n",
       "       'Отрадное', 'село Павлово', 'поселок Оредеж', 'село Копорье',\n",
       "       'посёлок городского типа Красный Бор', 'посёлок Молодёжное',\n",
       "       'Тихвин', 'посёлок Победа', 'деревня Нурма',\n",
       "       'поселок городского типа Синявино', 'Тосно',\n",
       "       'посёлок городского типа Кузьмоловский', 'посёлок Стрельна',\n",
       "       'Бокситогорск', 'посёлок Александровская', 'деревня Лопухинка',\n",
       "       'Пикалёво', 'поселок Терволово',\n",
       "       'поселок городского типа Советский', 'Подпорожье',\n",
       "       'посёлок Петровское', 'посёлок городского типа Токсово',\n",
       "       'поселок Сельцо', 'посёлок городского типа Вырица',\n",
       "       'деревня Кипень', 'деревня Келози', 'деревня Вартемяги',\n",
       "       'посёлок Тельмана', 'поселок Севастьяново',\n",
       "       'городской поселок Большая Ижора', 'Неизвестно',\n",
       "       'городской посёлок Павлово', 'деревня Агалатово',\n",
       "       'посёлок Новогорелово', 'городской посёлок Лесогорский',\n",
       "       'деревня Лаголово', 'поселок Цвелодубово',\n",
       "       'поселок городского типа Рахья', 'поселок городского типа Вырица',\n",
       "       'деревня Белогорка', 'поселок Заводской',\n",
       "       'городской посёлок Новоселье', 'деревня Большие Колпаны',\n",
       "       'деревня Горбунки', 'деревня Батово', 'деревня Заневка',\n",
       "       'деревня Иссад', 'Приморск', 'городской посёлок Фёдоровское',\n",
       "       'деревня Мистолово', 'Новая Ладога', 'поселок Зимитицы',\n",
       "       'поселок Барышево', 'деревня Разметелево',\n",
       "       'поселок городского типа имени Свердлова', 'деревня Пеники',\n",
       "       'поселок Рябово', 'деревня Пудомяги', 'поселок станции Корнево',\n",
       "       'деревня Низино', 'деревня Бегуницы', 'посёлок Поляны',\n",
       "       'городской посёлок Мга', 'поселок Елизаветино',\n",
       "       'посёлок городского типа Кузнечное', 'деревня Колтуши',\n",
       "       'поселок Запорожское', 'посёлок городского типа Рощино',\n",
       "       'деревня Гостилицы', 'деревня Малое Карлино',\n",
       "       'посёлок Мичуринское', 'посёлок городского типа имени Морозова',\n",
       "       'посёлок Песочный', 'посёлок Сосново', 'деревня Аро',\n",
       "       'поселок Ильичёво', 'посёлок городского типа Тайцы',\n",
       "       'деревня Малое Верево', 'деревня Извара', 'поселок станции Вещево',\n",
       "       'село Паша', 'деревня Калитино',\n",
       "       'посёлок городского типа Ульяновка', 'деревня Чудской Бор',\n",
       "       'поселок городского типа Дубровка', 'деревня Мины',\n",
       "       'поселок Войсковицы', 'посёлок городского типа имени Свердлова',\n",
       "       'деревня Коркино', 'посёлок Ропша',\n",
       "       'поселок городского типа Приладожский', 'посёлок Щеглово',\n",
       "       'посёлок Гаврилово', 'Лодейное Поле', 'деревня Рабитицы',\n",
       "       'поселок городского типа Никольский', 'деревня Кузьмолово',\n",
       "       'деревня Малые Колпаны', 'поселок Тельмана',\n",
       "       'посёлок Петро-Славянка', 'городской посёлок Назия',\n",
       "       'посёлок Репино', 'посёлок Ильичёво', 'поселок Углово',\n",
       "       'поселок Старая Малукса', 'садовое товарищество Рахья',\n",
       "       'поселок Аннино', 'поселок Победа', 'деревня Меньково',\n",
       "       'деревня Старые Бегуницы', 'посёлок Сапёрный', 'поселок Семрино',\n",
       "       'поселок Гаврилово', 'поселок Глажево', 'поселок Кобринское',\n",
       "       'деревня Гарболово', 'деревня Юкки',\n",
       "       'поселок станции Приветнинское', 'деревня Мануйлово',\n",
       "       'деревня Пчева', 'поселок Поляны', 'поселок Цвылёво',\n",
       "       'поселок Мельниково', 'посёлок Пудость', 'посёлок Усть-Луга',\n",
       "       'Светогорск', 'Любань', 'поселок Селезнёво',\n",
       "       'поселок городского типа Рябово', 'Каменногорск', 'деревня Кривко',\n",
       "       'поселок Глебычево', 'деревня Парицы', 'поселок Жилпосёлок',\n",
       "       'посёлок городского типа Мга', 'городской поселок Янино-1',\n",
       "       'посёлок Войскорово', 'село Никольское', 'посёлок Терволово',\n",
       "       'поселок Стеклянный', 'посёлок городского типа Важины',\n",
       "       'посёлок Мыза-Ивановка', 'село Русско-Высоцкое',\n",
       "       'поселок городского типа Лебяжье',\n",
       "       'поселок городского типа Форносово', 'село Старая Ладога',\n",
       "       'поселок Житково', 'городской посёлок Виллози', 'деревня Лампово',\n",
       "       'деревня Шпаньково', 'деревня Лаврики', 'посёлок Сумино',\n",
       "       'посёлок Возрождение', 'деревня Старосиверская',\n",
       "       'посёлок Кикерино', 'поселок Возрождение',\n",
       "       'деревня Старое Хинколово', 'посёлок Пригородный',\n",
       "       'посёлок Торфяное', 'городской посёлок Будогощь',\n",
       "       'поселок Суходолье', 'поселок Красная Долина', 'деревня Хапо-Ое',\n",
       "       'поселок городского типа Дружная Горка', 'поселок Лисий Нос',\n",
       "       'деревня Яльгелево', 'посёлок Стеклянный', 'село Рождествено',\n",
       "       'деревня Старополье', 'посёлок Левашово', 'деревня Сяськелево',\n",
       "       'деревня Камышовка',\n",
       "       'садоводческое некоммерческое товарищество Лесная Поляна',\n",
       "       'деревня Хязельки', 'поселок Жилгородок',\n",
       "       'посёлок городского типа Павлово', 'деревня Ялгино',\n",
       "       'поселок Новый Учхоз', 'городской посёлок Рощино',\n",
       "       'поселок Гончарово', 'поселок Почап', 'посёлок Сапёрное',\n",
       "       'посёлок Платформа 69-й километр', 'поселок Каложицы',\n",
       "       'деревня Фалилеево', 'деревня Пельгора',\n",
       "       'поселок городского типа Лесогорский', 'деревня Торошковичи',\n",
       "       'посёлок Белоостров', 'посёлок Алексеевка', 'поселок Серебрянский',\n",
       "       'поселок Лукаши', 'поселок Петровское', 'деревня Щеглово',\n",
       "       'поселок Мичуринское', 'деревня Тарасово', 'поселок Кингисеппский',\n",
       "       'посёлок при железнодорожной станции Вещево', 'поселок Ушаки',\n",
       "       'деревня Котлы', 'деревня Сижно', 'деревня Торосово',\n",
       "       'посёлок Форт Красная Горка', 'деревня Новолисино',\n",
       "       'посёлок станции Громово', 'деревня Глинка', 'посёлок Мельниково',\n",
       "       'поселок городского типа Назия', 'деревня Старая Пустошь',\n",
       "       'поселок Коммунары', 'поселок Починок',\n",
       "       'посёлок городского типа Вознесенье', 'деревня Разбегаево',\n",
       "       'посёлок городского типа Рябово', 'поселок Гладкое',\n",
       "       'посёлок при железнодорожной станции Приветнинское',\n",
       "       'поселок Тёсово-4', 'посёлок Жилгородок', 'деревня Бор',\n",
       "       'посёлок Коробицыно', 'деревня Большая Вруда', 'деревня Курковицы',\n",
       "       'посёлок Лисий Нос', 'городской посёлок Советский',\n",
       "       'посёлок Кобралово', 'деревня Суоранда', 'поселок Кобралово',\n",
       "       'поселок городского типа Кондратьево',\n",
       "       'коттеджный поселок Счастье', 'поселок Любань', 'деревня Реброво',\n",
       "       'деревня Зимитицы', 'деревня Тойворово', 'поселок Семиозерье',\n",
       "       'поселок Лесное', 'поселок Совхозный', 'поселок Усть-Луга',\n",
       "       'посёлок Ленинское', 'посёлок Суйда',\n",
       "       'посёлок городского типа Форносово', 'деревня Нижние Осельки',\n",
       "       'посёлок станции Свирь', 'поселок Перово', 'Высоцк',\n",
       "       'поселок Гарболово', 'село Шум', 'поселок Котельский',\n",
       "       'поселок станции Лужайка', 'деревня Большая Пустомержа',\n",
       "       'поселок Красносельское', 'деревня Вахнова Кара', 'деревня Пижма',\n",
       "       'коттеджный поселок Кивеннапа Север', 'поселок Коробицыно',\n",
       "       'поселок Ромашки', 'посёлок Перово', 'деревня Каськово',\n",
       "       'деревня Куровицы', 'посёлок Плоское', 'поселок Сумино',\n",
       "       'поселок городского типа Большая Ижора', 'поселок Кирпичное',\n",
       "       'деревня Ям-Тесово', 'деревня Раздолье', 'деревня Терпилицы',\n",
       "       'поселок городского типа Токсово', 'посёлок Шугозеро',\n",
       "       'деревня Ваганово', 'поселок Пушное', 'садовое товарищество Садко',\n",
       "       'посёлок Усть-Ижора', 'деревня Выскатка',\n",
       "       'городской посёлок Свирьстрой', 'поселок Громово',\n",
       "       'деревня Кисельня', 'посёлок Старая Малукса',\n",
       "       'деревня Трубников Бор', 'поселок Калитино',\n",
       "       'посёлок Высокоключевой', 'садовое товарищество Приладожский',\n",
       "       'посёлок Пансионат Зелёный Бор', 'деревня Ненимяки',\n",
       "       'поселок Пансионат Зелёный Бор', 'деревня Снегирёвка',\n",
       "       'деревня Рапполово', 'деревня Пустынка', 'поселок Рабитицы',\n",
       "       'деревня Большой Сабск', 'деревня Русско', 'деревня Лупполово',\n",
       "       'деревня Большое Рейзино', 'деревня Малая Романовка',\n",
       "       'поселок Дружноселье', 'поселок Пчевжа', 'поселок Володарское',\n",
       "       'деревня Нижняя', 'коттеджный посёлок Лесное', 'деревня Тихковицы',\n",
       "       'деревня Борисова Грива', 'посёлок Дзержинского'], dtype=object)"
      ]
     },
     "execution_count": 26,
     "metadata": {},
     "output_type": "execute_result"
    }
   ],
   "source": [
    "data['locality_name'].unique()"
   ]
  },
  {
   "cell_type": "markdown",
   "metadata": {},
   "source": [
    "Приведем все к нижнему регистру. "
   ]
  },
  {
   "cell_type": "code",
   "execution_count": 27,
   "metadata": {},
   "outputs": [],
   "source": [
    "data['locality_name'] = data['locality_name'].str.lower()"
   ]
  },
  {
   "cell_type": "markdown",
   "metadata": {},
   "source": [
    "Заменим букву ё на е"
   ]
  },
  {
   "cell_type": "code",
   "execution_count": 28,
   "metadata": {},
   "outputs": [],
   "source": [
    "data['locality_name'].replace('ё', 'е', regex=True, inplace=True)"
   ]
  },
  {
   "cell_type": "markdown",
   "metadata": {},
   "source": [
    "Уберем из названий обозначения населенных пунктов: поселок, деревня, поселок городского типа, село, садовое товарищество, городской поселок, поселок станции, садоводческое некоммерческое товарищество, посёлок при железнодорожной станции, коттеджный поселок"
   ]
  },
  {
   "cell_type": "code",
   "execution_count": 29,
   "metadata": {},
   "outputs": [],
   "source": [
    "locality_names_to_remove = ['деревня', \n",
    "                            'поселок городского типа', \n",
    "                            'садовое товарищество', \n",
    "                            'городской поселок', \n",
    "                            'поселок станции', \n",
    "                            'садоводческое некоммерческое товарищество', \n",
    "                            'поселок при железнодорожной станции', \n",
    "                            'коттеджный поселок',\n",
    "                            'поселок',\n",
    "                            'село']"
   ]
  },
  {
   "cell_type": "code",
   "execution_count": 30,
   "metadata": {},
   "outputs": [],
   "source": [
    "for name_to_remove in locality_names_to_remove:\n",
    "    data['locality_name'] = data['locality_name'].str.replace(name_to_remove, \"\")"
   ]
  },
  {
   "cell_type": "code",
   "execution_count": 31,
   "metadata": {
    "scrolled": true
   },
   "outputs": [
    {
     "data": {
      "text/plain": [
       "array(['санкт-петербург', ' шушары', ' янино-1', ' парголово', ' мурино',\n",
       "       'ломоносов', 'сертолово', 'петергоф', 'пушкин', ' кудрово',\n",
       "       'коммунар', 'колпино', ' красный бор', 'гатчина', ' федоровское',\n",
       "       'выборг', 'кронштадт', 'кировск', ' новое девяткино',\n",
       "       ' металлострой', ' лебяжье', ' сиверский', ' молодцово',\n",
       "       ' кузьмоловский', ' новая ропша', 'павловск', ' пикколово',\n",
       "       'всеволожск', 'волхов', 'кингисепп', 'приозерск', 'сестрорецк',\n",
       "       ' куттузи', ' аннино', ' ефимовский', ' плодовое', ' заклинье',\n",
       "       ' торковичи', ' первомайское', 'красное ', ' понтонный',\n",
       "       'сясьстрой', ' старая', ' лесколово', ' новый свет', 'сланцы',\n",
       "       ' путилово', 'ивангород', 'мурино', 'шлиссельбург', 'никольское',\n",
       "       'зеленогорск', 'сосновый бор', ' оржицы', ' кальтино', 'кудрово',\n",
       "       ' романовка', ' бугры', ' рощино', 'кириши', 'луга', 'волосово',\n",
       "       'отрадное', ' павлово', ' оредеж', ' копорье', ' молодежное',\n",
       "       'тихвин', ' победа', ' нурма', ' синявино', 'тосно', ' стрельна',\n",
       "       'бокситогорск', ' александровская', ' лопухинка', 'пикалево',\n",
       "       ' терволово', ' советский', 'подпорожье', ' петровское',\n",
       "       ' токсово', ' сельцо', ' вырица', ' кипень', ' келози',\n",
       "       ' вартемяги', ' тельмана', ' севастьяново', ' большая ижора',\n",
       "       'неизвестно', ' агалатово', ' новогорелово', ' лесогорский',\n",
       "       ' лаголово', ' цвелодубово', ' рахья', ' белогорка', ' заводской',\n",
       "       ' новоселье', ' большие колпаны', ' горбунки', ' батово',\n",
       "       ' заневка', ' иссад', 'приморск', ' мистолово', 'новая ладога',\n",
       "       ' зимитицы', ' барышево', ' разметелево', ' имени свердлова',\n",
       "       ' пеники', ' рябово', ' пудомяги', ' корнево', ' низино',\n",
       "       ' бегуницы', ' поляны', ' мга', ' елизаветино', ' кузнечное',\n",
       "       ' колтуши', ' запорожское', ' гостилицы', ' малое карлино',\n",
       "       ' мичуринское', ' имени морозова', ' песочный', ' сосново', ' аро',\n",
       "       ' ильичево', ' тайцы', ' малое верево', ' извара', ' вещево',\n",
       "       ' паша', ' калитино', ' ульяновка', ' чудской бор', ' дубровка',\n",
       "       ' мины', ' войсковицы', ' коркино', ' ропша', ' приладожский',\n",
       "       ' щеглово', ' гаврилово', 'лодейное поле', ' рабитицы',\n",
       "       ' никольский', ' кузьмолово', ' малые колпаны', ' петро-славянка',\n",
       "       ' назия', ' репино', ' углово', ' старая малукса', ' меньково',\n",
       "       ' старые бегуницы', ' саперный', ' семрино', ' глажево',\n",
       "       ' кобринское', ' гарболово', ' юкки', ' приветнинское',\n",
       "       ' мануйлово', ' пчева', ' цвылево', ' мельниково', ' пудость',\n",
       "       ' усть-луга', 'светогорск', 'любань', ' селезнево', 'каменногорск',\n",
       "       ' кривко', ' глебычево', ' парицы', ' жил', ' войскорово',\n",
       "       ' никольское', ' стеклянный', ' важины', ' мыза-ивановка',\n",
       "       ' русско-высоцкое', ' форносово', ' старая ладога', ' житково',\n",
       "       ' виллози', ' лампово', ' шпаньково', ' лаврики', ' сумино',\n",
       "       ' возрождение', ' старосиверская', ' кикерино',\n",
       "       ' старое хинколово', ' пригородный', ' торфяное', ' будогощь',\n",
       "       ' суходолье', ' красная долина', ' хапо-ое', ' дружная горка',\n",
       "       ' лисий нос', ' яльгелево', ' рождествено', ' старополье',\n",
       "       ' левашово', ' сяськелево', ' камышовка', ' лесная поляна',\n",
       "       ' хязельки', ' жилгородок', ' ялгино', ' новый учхоз',\n",
       "       ' гончарово', ' почап', ' саперное', ' платформа 69-й километр',\n",
       "       ' каложицы', ' фалилеево', ' пельгора', ' торошковичи',\n",
       "       ' белоостров', ' алексеевка', ' серебрянский', ' лукаши',\n",
       "       ' тарасово', ' кингисеппский', ' ушаки', ' котлы', ' сижно',\n",
       "       ' торосово', ' форт красная горка', ' новолисино', ' громово',\n",
       "       ' глинка', ' старая пустошь', ' коммунары', ' починок',\n",
       "       ' вознесенье', ' разбегаево', ' гладкое', ' тесово-4', ' бор',\n",
       "       ' коробицыно', ' большая вруда', ' курковицы', ' кобралово',\n",
       "       ' суоранда', ' кондратьево', ' счастье', ' любань', ' реброво',\n",
       "       ' тойворово', ' семиозерье', ' лесное', ' совхозный', ' ленинское',\n",
       "       ' суйда', ' нижние осельки', ' свирь', ' перово', 'высоцк', ' шум',\n",
       "       ' котельский', ' лужайка', ' большая пустомержа',\n",
       "       ' красносельское', ' вахнова кара', ' пижма', ' кивеннапа север',\n",
       "       ' ромашки', ' каськово', ' куровицы', ' плоское', ' кирпичное',\n",
       "       ' ям-тесово', ' раздолье', ' терпилицы', ' шугозеро', ' ваганово',\n",
       "       ' пушное', ' садко', ' усть-ижора', ' выскатка', ' свирьстрой',\n",
       "       ' кисельня', ' трубников бор', ' высокоключевой',\n",
       "       ' пансионат зеленый бор', ' ненимяки', ' снегиревка', ' рапполово',\n",
       "       ' пустынка', ' большой сабск', ' русско', ' лупполово',\n",
       "       ' большое рейзино', ' малая романовка', ' дружноселье', ' пчевжа',\n",
       "       ' володарское', ' нижняя', ' тихковицы', ' борисова грива',\n",
       "       ' дзержинского'], dtype=object)"
      ]
     },
     "execution_count": 31,
     "metadata": {},
     "output_type": "execute_result"
    }
   ],
   "source": [
    "data['locality_name'].unique()"
   ]
  },
  {
   "cell_type": "markdown",
   "metadata": {},
   "source": [
    "Осталось лишь убрать пробелы в начале строки"
   ]
  },
  {
   "cell_type": "code",
   "execution_count": 32,
   "metadata": {},
   "outputs": [],
   "source": [
    "data['locality_name'] = data['locality_name'].str.lstrip()"
   ]
  },
  {
   "cell_type": "code",
   "execution_count": 33,
   "metadata": {
    "scrolled": true
   },
   "outputs": [
    {
     "data": {
      "text/plain": [
       "array(['санкт-петербург', 'шушары', 'янино-1', 'парголово', 'мурино',\n",
       "       'ломоносов', 'сертолово', 'петергоф', 'пушкин', 'кудрово',\n",
       "       'коммунар', 'колпино', 'красный бор', 'гатчина', 'федоровское',\n",
       "       'выборг', 'кронштадт', 'кировск', 'новое девяткино',\n",
       "       'металлострой', 'лебяжье', 'сиверский', 'молодцово',\n",
       "       'кузьмоловский', 'новая ропша', 'павловск', 'пикколово',\n",
       "       'всеволожск', 'волхов', 'кингисепп', 'приозерск', 'сестрорецк',\n",
       "       'куттузи', 'аннино', 'ефимовский', 'плодовое', 'заклинье',\n",
       "       'торковичи', 'первомайское', 'красное ', 'понтонный', 'сясьстрой',\n",
       "       'старая', 'лесколово', 'новый свет', 'сланцы', 'путилово',\n",
       "       'ивангород', 'шлиссельбург', 'никольское', 'зеленогорск',\n",
       "       'сосновый бор', 'оржицы', 'кальтино', 'романовка', 'бугры',\n",
       "       'рощино', 'кириши', 'луга', 'волосово', 'отрадное', 'павлово',\n",
       "       'оредеж', 'копорье', 'молодежное', 'тихвин', 'победа', 'нурма',\n",
       "       'синявино', 'тосно', 'стрельна', 'бокситогорск', 'александровская',\n",
       "       'лопухинка', 'пикалево', 'терволово', 'советский', 'подпорожье',\n",
       "       'петровское', 'токсово', 'сельцо', 'вырица', 'кипень', 'келози',\n",
       "       'вартемяги', 'тельмана', 'севастьяново', 'большая ижора',\n",
       "       'неизвестно', 'агалатово', 'новогорелово', 'лесогорский',\n",
       "       'лаголово', 'цвелодубово', 'рахья', 'белогорка', 'заводской',\n",
       "       'новоселье', 'большие колпаны', 'горбунки', 'батово', 'заневка',\n",
       "       'иссад', 'приморск', 'мистолово', 'новая ладога', 'зимитицы',\n",
       "       'барышево', 'разметелево', 'имени свердлова', 'пеники', 'рябово',\n",
       "       'пудомяги', 'корнево', 'низино', 'бегуницы', 'поляны', 'мга',\n",
       "       'елизаветино', 'кузнечное', 'колтуши', 'запорожское', 'гостилицы',\n",
       "       'малое карлино', 'мичуринское', 'имени морозова', 'песочный',\n",
       "       'сосново', 'аро', 'ильичево', 'тайцы', 'малое верево', 'извара',\n",
       "       'вещево', 'паша', 'калитино', 'ульяновка', 'чудской бор',\n",
       "       'дубровка', 'мины', 'войсковицы', 'коркино', 'ропша',\n",
       "       'приладожский', 'щеглово', 'гаврилово', 'лодейное поле',\n",
       "       'рабитицы', 'никольский', 'кузьмолово', 'малые колпаны',\n",
       "       'петро-славянка', 'назия', 'репино', 'углово', 'старая малукса',\n",
       "       'меньково', 'старые бегуницы', 'саперный', 'семрино', 'глажево',\n",
       "       'кобринское', 'гарболово', 'юкки', 'приветнинское', 'мануйлово',\n",
       "       'пчева', 'цвылево', 'мельниково', 'пудость', 'усть-луга',\n",
       "       'светогорск', 'любань', 'селезнево', 'каменногорск', 'кривко',\n",
       "       'глебычево', 'парицы', 'жил', 'войскорово', 'стеклянный', 'важины',\n",
       "       'мыза-ивановка', 'русско-высоцкое', 'форносово', 'старая ладога',\n",
       "       'житково', 'виллози', 'лампово', 'шпаньково', 'лаврики', 'сумино',\n",
       "       'возрождение', 'старосиверская', 'кикерино', 'старое хинколово',\n",
       "       'пригородный', 'торфяное', 'будогощь', 'суходолье',\n",
       "       'красная долина', 'хапо-ое', 'дружная горка', 'лисий нос',\n",
       "       'яльгелево', 'рождествено', 'старополье', 'левашово', 'сяськелево',\n",
       "       'камышовка', 'лесная поляна', 'хязельки', 'жилгородок', 'ялгино',\n",
       "       'новый учхоз', 'гончарово', 'почап', 'саперное',\n",
       "       'платформа 69-й километр', 'каложицы', 'фалилеево', 'пельгора',\n",
       "       'торошковичи', 'белоостров', 'алексеевка', 'серебрянский',\n",
       "       'лукаши', 'тарасово', 'кингисеппский', 'ушаки', 'котлы', 'сижно',\n",
       "       'торосово', 'форт красная горка', 'новолисино', 'громово',\n",
       "       'глинка', 'старая пустошь', 'коммунары', 'починок', 'вознесенье',\n",
       "       'разбегаево', 'гладкое', 'тесово-4', 'бор', 'коробицыно',\n",
       "       'большая вруда', 'курковицы', 'кобралово', 'суоранда',\n",
       "       'кондратьево', 'счастье', 'реброво', 'тойворово', 'семиозерье',\n",
       "       'лесное', 'совхозный', 'ленинское', 'суйда', 'нижние осельки',\n",
       "       'свирь', 'перово', 'высоцк', 'шум', 'котельский', 'лужайка',\n",
       "       'большая пустомержа', 'красносельское', 'вахнова кара', 'пижма',\n",
       "       'кивеннапа север', 'ромашки', 'каськово', 'куровицы', 'плоское',\n",
       "       'кирпичное', 'ям-тесово', 'раздолье', 'терпилицы', 'шугозеро',\n",
       "       'ваганово', 'пушное', 'садко', 'усть-ижора', 'выскатка',\n",
       "       'свирьстрой', 'кисельня', 'трубников бор', 'высокоключевой',\n",
       "       'пансионат зеленый бор', 'ненимяки', 'снегиревка', 'рапполово',\n",
       "       'пустынка', 'большой сабск', 'русско', 'лупполово',\n",
       "       'большое рейзино', 'малая романовка', 'дружноселье', 'пчевжа',\n",
       "       'володарское', 'нижняя', 'тихковицы', 'борисова грива',\n",
       "       'дзержинского'], dtype=object)"
      ]
     },
     "execution_count": 33,
     "metadata": {},
     "output_type": "execute_result"
    }
   ],
   "source": [
    "data['locality_name'].unique()"
   ]
  },
  {
   "cell_type": "markdown",
   "metadata": {},
   "source": [
    "Сделано!"
   ]
  },
  {
   "cell_type": "markdown",
   "metadata": {},
   "source": [
    "### Замена типов данных"
   ]
  },
  {
   "cell_type": "markdown",
   "metadata": {},
   "source": [
    "#### Float на Int\n",
    "Заменить вещественный тип на целочисленные значения имеет смысл в следующих столбцах:\n",
    "- last_price: зачем нам точность до копеек, когда речь идет о миллионах\n",
    "- floors_total: этажей в доме не может быть 2.5\n",
    "- balcony: в квартире не может быть 1.5 балкона\n",
    "- ponds_around3000 и parks_around3000: не может быть 1.5 парка или пруда\n",
    "- days_exposition: аналогично"
   ]
  },
  {
   "cell_type": "code",
   "execution_count": 34,
   "metadata": {},
   "outputs": [],
   "source": [
    "data[['last_price', \n",
    "      'floors_total', \n",
    "      'balcony', \n",
    "      'days_exposition', \n",
    "      'ponds_around3000', \n",
    "      'parks_around3000']] = data[['last_price', \n",
    "      'floors_total', \n",
    "      'balcony', \n",
    "      'days_exposition', \n",
    "      'ponds_around3000', \n",
    "      'parks_around3000']].astype('int')"
   ]
  },
  {
   "cell_type": "markdown",
   "metadata": {},
   "source": [
    "#### Obejct на Datetime\n",
    "В одном из столбцов нам нужно привести дату в рабочий вид, чтобы затем работать с ней и получать разные данные. Это делают методом to_datetime()."
   ]
  },
  {
   "cell_type": "code",
   "execution_count": 35,
   "metadata": {},
   "outputs": [],
   "source": [
    "data['first_day_exposition'] = pd.to_datetime(data['first_day_exposition'], format='%Y-%m-%dT%H:%M:%S')"
   ]
  },
  {
   "cell_type": "markdown",
   "metadata": {},
   "source": [
    "### Дубликаты"
   ]
  },
  {
   "cell_type": "code",
   "execution_count": 36,
   "metadata": {},
   "outputs": [
    {
     "data": {
      "text/plain": [
       "0"
      ]
     },
     "execution_count": 36,
     "metadata": {},
     "output_type": "execute_result"
    }
   ],
   "source": [
    "data.duplicated().sum()"
   ]
  },
  {
   "cell_type": "markdown",
   "metadata": {},
   "source": [
    "Повторяющихся строк нет"
   ]
  },
  {
   "cell_type": "markdown",
   "metadata": {},
   "source": [
    "## 3. Расчёты"
   ]
  },
  {
   "cell_type": "markdown",
   "metadata": {},
   "source": [
    "Данные предобработаны. Теперь нам нужно посчитать и добавить в таблицу:\n",
    "- цену квадратного метра;\n",
    "- день недели, месяц и год публикации объявления;\n",
    "- этаж квартиры; варианты — первый, последний, другой;\n",
    "- соотношение жилой и общей площади, а также отношение площади кухни к общей."
   ]
  },
  {
   "cell_type": "markdown",
   "metadata": {},
   "source": [
    "### Цена квадратного метра\n",
    "Столбец 'last_price' делим на столбец 'total_area'. Сразу переведем в целый тип, чтобы не мешала дробная часть. "
   ]
  },
  {
   "cell_type": "code",
   "execution_count": 37,
   "metadata": {},
   "outputs": [],
   "source": [
    "data['square_meter_price'] = data['last_price'] / data['total_area']\n",
    "data['square_meter_price'] = data['square_meter_price'].astype('int')"
   ]
  },
  {
   "cell_type": "markdown",
   "metadata": {},
   "source": [
    "### День недели, месяц и год публикации объявления"
   ]
  },
  {
   "cell_type": "markdown",
   "metadata": {},
   "source": [
    "#### День недели"
   ]
  },
  {
   "cell_type": "code",
   "execution_count": 38,
   "metadata": {},
   "outputs": [],
   "source": [
    "data['day_of_week_exposition'] = data['first_day_exposition'].dt.weekday"
   ]
  },
  {
   "cell_type": "markdown",
   "metadata": {},
   "source": [
    "#### Месяц"
   ]
  },
  {
   "cell_type": "code",
   "execution_count": 39,
   "metadata": {},
   "outputs": [],
   "source": [
    "data['month_exposition'] = data['first_day_exposition'].dt.month"
   ]
  },
  {
   "cell_type": "markdown",
   "metadata": {},
   "source": [
    "#### Год"
   ]
  },
  {
   "cell_type": "code",
   "execution_count": 40,
   "metadata": {},
   "outputs": [],
   "source": [
    "data['year_exposition'] = data['first_day_exposition'].dt.year"
   ]
  },
  {
   "cell_type": "markdown",
   "metadata": {},
   "source": [
    "### Этаж квартиры\n",
    "Три варианта: первый, последний, другой. Напишем функцию, которая присваивает категорию этажа и применим ее ко всем строчкам, создав новый столбец. "
   ]
  },
  {
   "cell_type": "code",
   "execution_count": 41,
   "metadata": {},
   "outputs": [],
   "source": [
    "def floor_category_definder(row):\n",
    "    if row['floor'] == 1:\n",
    "        category = 'Первый'\n",
    "    elif (row['floor'] != 1) & (row['floor'] == row['floors_total']):\n",
    "        category = 'Последний'\n",
    "    else:\n",
    "        category = 'Другой'\n",
    "    return category"
   ]
  },
  {
   "cell_type": "code",
   "execution_count": 42,
   "metadata": {},
   "outputs": [],
   "source": [
    "data['floor_category'] = data.apply(floor_category_definder, axis=1)"
   ]
  },
  {
   "cell_type": "markdown",
   "metadata": {},
   "source": [
    "## 4. Исследовательский анализ данных"
   ]
  },
  {
   "cell_type": "markdown",
   "metadata": {},
   "source": [
    "### Площадь, цена, число комнат, высота потолков."
   ]
  },
  {
   "cell_type": "markdown",
   "metadata": {},
   "source": [
    "#### Площадь\n",
    "Посмотрим общие данные о столбце, построим гистограмму и \"ящик с усами\", чтобы увидеть как распределились значения. "
   ]
  },
  {
   "cell_type": "code",
   "execution_count": 43,
   "metadata": {},
   "outputs": [
    {
     "data": {
      "text/plain": [
       "count    23613.000000\n",
       "mean        60.340678\n",
       "std         35.648988\n",
       "min         12.000000\n",
       "25%         40.000000\n",
       "50%         52.000000\n",
       "75%         69.800000\n",
       "max        900.000000\n",
       "Name: total_area, dtype: float64"
      ]
     },
     "execution_count": 43,
     "metadata": {},
     "output_type": "execute_result"
    }
   ],
   "source": [
    "data['total_area'].describe()"
   ]
  },
  {
   "cell_type": "code",
   "execution_count": 44,
   "metadata": {},
   "outputs": [
    {
     "data": {
      "image/png": "[encoded data removed]",
      "text/plain": [
       "<Figure size 432x288 with 1 Axes>"
      ]
     },
     "metadata": {
      "needs_background": "light"
     },
     "output_type": "display_data"
    }
   ],
   "source": [
    "data['total_area'].hist(bins=30, range=(0,200))\n",
    "plt.title('Гистограмма распределения площадей квартир')\n",
    "plt.xlabel('Площадь (кв.м)')\n",
    "plt.ylabel('Частота');"
   ]
  },
  {
   "cell_type": "code",
   "execution_count": 45,
   "metadata": {},
   "outputs": [
    {
     "data": {
      "image/png": "[encoded data removed]",
      "text/plain": [
       "<Figure size 432x288 with 1 Axes>"
      ]
     },
     "metadata": {
      "needs_background": "light"
     },
     "output_type": "display_data"
    }
   ],
   "source": [
    "import matplotlib.pyplot as plt\n",
    "plt.ylim(0,200)\n",
    "data.boxplot(column='total_area')\n",
    "plt.title('Распределение площадей квартир')\n",
    "plt.ylabel('Площадь (кв.м)');"
   ]
  },
  {
   "cell_type": "code",
   "execution_count": 46,
   "metadata": {},
   "outputs": [
    {
     "data": {
      "text/plain": [
       "7"
      ]
     },
     "execution_count": 46,
     "metadata": {},
     "output_type": "execute_result"
    }
   ],
   "source": [
    "data.query('total_area > 500').shape[0]"
   ]
  },
  {
   "cell_type": "markdown",
   "metadata": {},
   "source": [
    "#### Площадь: вывод\n",
    "Большая часть значений площади лежит в диапозоне от 40 до 69 кв.м. Выглядит правдоподобно: средние квартиры обычно имеют площадь, которая попадает в этот рэнж. Статистически значимые значения заканчиваются на отметке где-то в 110 кв.м. Есть и квартиры гораздо большей площади, но они выходят за края усов. Квартир с площадью от 500 до 900 всего 7 штук. \n",
    "Резюмируем: данные выглядят правдоподобно, медиана не смещена и действительное отображает среднее значение по столбцу. "
   ]
  },
  {
   "cell_type": "markdown",
   "metadata": {},
   "source": [
    "#### Цена\n",
    "Посмотрим общие данные о столбце, построим гистограмму и \"ящик с усами\", чтобы увидеть как распределились значения. "
   ]
  },
  {
   "cell_type": "code",
   "execution_count": 47,
   "metadata": {
    "scrolled": true
   },
   "outputs": [
    {
     "data": {
      "text/plain": [
       "count    2.361300e+04\n",
       "mean     6.540555e+06\n",
       "std      1.090172e+07\n",
       "min      1.219000e+04\n",
       "25%      3.400000e+06\n",
       "50%      4.650000e+06\n",
       "75%      6.799000e+06\n",
       "max      7.630000e+08\n",
       "Name: last_price, dtype: float64"
      ]
     },
     "execution_count": 47,
     "metadata": {},
     "output_type": "execute_result"
    }
   ],
   "source": [
    "data['last_price'].describe()"
   ]
  },
  {
   "cell_type": "markdown",
   "metadata": {},
   "source": [
    "Значения у стоимостей слишком большие, поэтому юпитер показывает их в экспоненциальном виде. Оценивать их в таком виде - не удобно. Отжерем нули, разделив все значения столбца на 1 миллион, и будем помнить, что стоимость у нас хранится в миллионах.  "
   ]
  },
  {
   "cell_type": "code",
   "execution_count": 48,
   "metadata": {},
   "outputs": [
    {
     "data": {
      "text/plain": [
       "count    23613.000000\n",
       "mean         6.540555\n",
       "std         10.901723\n",
       "min          0.012190\n",
       "25%          3.400000\n",
       "50%          4.650000\n",
       "75%          6.799000\n",
       "max        763.000000\n",
       "Name: last_price, dtype: float64"
      ]
     },
     "execution_count": 48,
     "metadata": {},
     "output_type": "execute_result"
    }
   ],
   "source": [
    "data['last_price'] = data['last_price'] / 1000000\n",
    "data['last_price'].describe()"
   ]
  },
  {
   "cell_type": "code",
   "execution_count": 49,
   "metadata": {},
   "outputs": [
    {
     "data": {
      "image/png": "[encoded data removed]",
      "text/plain": [
       "<Figure size 432x288 with 1 Axes>"
      ]
     },
     "metadata": {
      "needs_background": "light"
     },
     "output_type": "display_data"
    }
   ],
   "source": [
    "data['last_price'].hist(bins=50, range=(0,40))\n",
    "plt.title('Гистограмма распределения стоимостей квартир')\n",
    "plt.xlabel('Стоимость (млн. р.)')\n",
    "plt.ylabel('Частота');"
   ]
  },
  {
   "cell_type": "code",
   "execution_count": 50,
   "metadata": {},
   "outputs": [
    {
     "data": {
      "image/png": "[encoded data removed]",
      "text/plain": [
       "<Figure size 432x288 with 1 Axes>"
      ]
     },
     "metadata": {
      "needs_background": "light"
     },
     "output_type": "display_data"
    }
   ],
   "source": [
    "plt.ylim(0,20)\n",
    "data.boxplot(column='last_price')\n",
    "plt.title('Распределение стоимостей квартир')\n",
    "plt.ylabel('Стоимость (млн. р.)');"
   ]
  },
  {
   "cell_type": "markdown",
   "metadata": {},
   "source": [
    "#### Цена: вывод\n",
    "Снова без сюрпризов: большая часть квартир плотненько лежит в диапозоне от 3.4 до 6.8 миллионов. Это сходится с реальностью. Гистограмма похожа на нормальное распределение. Хвост гистограммы уходит аж до 763 миллионов (видимо это та самая - 900 кв.м), но он незначительный и никак не смещяет средние значения. Статистически значимые значения заканчиваются на отметке где-то в 12 млн, что тоже похоже на правду. Квартиры дороже 12 млн покупают на-а-а-много реже. Данные выглядят правдоподобно.  "
   ]
  },
  {
   "cell_type": "markdown",
   "metadata": {},
   "source": [
    "#### Число комнат\n",
    "Посмотрим общие данные о столбце, построим гистограмму и \"ящик с усами\", чтобы увидеть как распределились значения. "
   ]
  },
  {
   "cell_type": "code",
   "execution_count": 51,
   "metadata": {
    "scrolled": true
   },
   "outputs": [
    {
     "data": {
      "text/plain": [
       "count    23613.000000\n",
       "mean         2.071147\n",
       "std          1.078380\n",
       "min          0.000000\n",
       "25%          1.000000\n",
       "50%          2.000000\n",
       "75%          3.000000\n",
       "max         19.000000\n",
       "Name: rooms, dtype: float64"
      ]
     },
     "execution_count": 51,
     "metadata": {},
     "output_type": "execute_result"
    }
   ],
   "source": [
    "data['rooms'].describe()"
   ]
  },
  {
   "cell_type": "markdown",
   "metadata": {},
   "source": [
    "Кстати - а что это за значения \"0\" комнат? Может быть это студии или квартиры со свободной планировкой?"
   ]
  },
  {
   "cell_type": "code",
   "execution_count": 52,
   "metadata": {},
   "outputs": [
    {
     "name": "stdout",
     "output_type": "stream",
     "text": [
      "Ноль комнат: 194\n",
      "Ноль комнат в квартирах со свободной планировкой: 59\n",
      "Ноль комнат в студиях: 135\n",
      "Студий со свободной планировкой: 0\n"
     ]
    }
   ],
   "source": [
    "print('Ноль комнат:', len(data.query('rooms == 0')))\n",
    "print('Ноль комнат в квартирах со свободной планировкой:', len(data.query('rooms == 0 and open_plan == True')))\n",
    "print('Ноль комнат в студиях:', len(data.query('rooms == 0 and studio == True')))\n",
    "print('Студий со свободной планировкой:', len(data.query('studio == True and open_plan == True')))"
   ]
  },
  {
   "cell_type": "markdown",
   "metadata": {},
   "source": [
    "Так и есть: значение \"ноль\" команат - это не ошибка. Это либо студии, либо квартиры со свободной планировкой...и другого не дано. Таких значений немного, но это не совсем корректно, ведь при дальнейшем исследовании влияния количества комнат на цену, это может сказаться на результате. Давайте заменим их. \n",
    "\n",
    "Мы не можем точно сказать - сколько комнат в студиях и квартирах со свободной планировкой. Поэтому предлагаю заменить все нули на медиану столбца. "
   ]
  },
  {
   "cell_type": "code",
   "execution_count": 53,
   "metadata": {},
   "outputs": [],
   "source": [
    "data['rooms'].where(data['rooms'] > 0, 2, inplace=True)"
   ]
  },
  {
   "cell_type": "code",
   "execution_count": 54,
   "metadata": {},
   "outputs": [
    {
     "data": {
      "image/png": "[encoded data removed]",
      "text/plain": [
       "<Figure size 432x288 with 1 Axes>"
      ]
     },
     "metadata": {
      "needs_background": "light"
     },
     "output_type": "display_data"
    }
   ],
   "source": [
    "data['rooms'].hist(bins=10, range=(0,10))\n",
    "plt.title('Гистограмма распределения количества комнат')\n",
    "plt.xlabel('Кол-во комнат (шт.)')\n",
    "plt.ylabel('Частота');"
   ]
  },
  {
   "cell_type": "code",
   "execution_count": 55,
   "metadata": {},
   "outputs": [
    {
     "data": {
      "image/png": "[encoded data removed]",
      "text/plain": [
       "<Figure size 432x288 with 1 Axes>"
      ]
     },
     "metadata": {
      "needs_background": "light"
     },
     "output_type": "display_data"
    }
   ],
   "source": [
    "plt.ylim(0,10)\n",
    "data.boxplot(column='rooms')\n",
    "plt.title('Распределение количества комнат')\n",
    "plt.ylabel('Кол-во комнат (шт.)');"
   ]
  },
  {
   "cell_type": "markdown",
   "metadata": {},
   "source": [
    "#### Число команат: вывод\n",
    "И здесь, за исключением ситуации с 0 комнатами, все в порядке. Большая часть квартир имеет от 1 до 3 комнат, третий квартиль заканчивается на значении 6 комнат. Хотя даже это уже редкость: есть ли у кого-то из знакомых такая квартира? Едва ли.  \n",
    "\n",
    "Есть выборсы, но они не смещают сердние значения.  Данные выглядят правдоподобно.  "
   ]
  },
  {
   "cell_type": "markdown",
   "metadata": {},
   "source": [
    "#### Высота потолков\n",
    "Здесь мы вносили изменения во время преобработки. Сейчас выясним - какую роль они сыграли на информативности данных. Напомним, что там мы заполнили одним значением практически 11 тысяч пропусков. "
   ]
  },
  {
   "cell_type": "code",
   "execution_count": 56,
   "metadata": {
    "scrolled": true
   },
   "outputs": [
    {
     "data": {
      "text/plain": [
       "count    14495.000000\n",
       "mean         2.771495\n",
       "std          1.261445\n",
       "min          1.000000\n",
       "25%          2.520000\n",
       "50%          2.650000\n",
       "75%          2.800000\n",
       "max        100.000000\n",
       "Name: ceiling_height, dtype: float64"
      ]
     },
     "execution_count": 56,
     "metadata": {},
     "output_type": "execute_result"
    }
   ],
   "source": [
    "data['ceiling_height'].describe()"
   ]
  },
  {
   "cell_type": "code",
   "execution_count": 57,
   "metadata": {},
   "outputs": [
    {
     "data": {
      "image/png": "[encoded data removed]",
      "text/plain": [
       "<Figure size 432x288 with 1 Axes>"
      ]
     },
     "metadata": {
      "needs_background": "light"
     },
     "output_type": "display_data"
    }
   ],
   "source": [
    "data['ceiling_height'].hist(bins=20, range=(1.5,5))\n",
    "plt.title('Гистограмма распределения высоты потолков')\n",
    "plt.xlabel('Высота (м.)')\n",
    "plt.ylabel('Частота');"
   ]
  },
  {
   "cell_type": "code",
   "execution_count": 58,
   "metadata": {},
   "outputs": [
    {
     "data": {
      "image/png": "[encoded data removed]",
      "text/plain": [
       "<Figure size 432x288 with 1 Axes>"
      ]
     },
     "metadata": {
      "needs_background": "light"
     },
     "output_type": "display_data"
    }
   ],
   "source": [
    "plt.ylim(2,5)\n",
    "data.boxplot(column='ceiling_height')\n",
    "plt.title('Распределение высоты потолков')\n",
    "plt.ylabel('Высота (м.)');"
   ]
  },
  {
   "cell_type": "markdown",
   "metadata": {},
   "source": [
    "#### Высота потолков: вывод\n",
    "Распределение выглядит правдоподобно. Большая часть значений находится в диапозоне от 2.5 до 2.8 метра, что вполне соответствует реальности. Гистограмма похожа на нормальное распределение. "
   ]
  },
  {
   "cell_type": "markdown",
   "metadata": {},
   "source": [
    "### Время продажи квартиры"
   ]
  },
  {
   "cell_type": "markdown",
   "metadata": {},
   "source": [
    "Задача: изучить время продажи квартиры. \n",
    "- построить гистограмму,\n",
    "- посчитать среднее и медиану\n",
    "- описать: сколько времени обычно занимает продажа\n",
    "- ответить на вопроса: когда можно считать, что продажи прошли очень быстро, а когда необычно долго?\n",
    "- убрать редкие и выбивающиеся значения\n",
    "- описать, какие особенности обнаружены"
   ]
  },
  {
   "cell_type": "code",
   "execution_count": 59,
   "metadata": {},
   "outputs": [
    {
     "data": {
      "text/plain": [
       "count    23613.000000\n",
       "mean       156.586075\n",
       "std        213.502550\n",
       "min          0.000000\n",
       "25%         22.000000\n",
       "50%         73.000000\n",
       "75%        199.000000\n",
       "max       1580.000000\n",
       "Name: days_exposition, dtype: float64"
      ]
     },
     "execution_count": 59,
     "metadata": {},
     "output_type": "execute_result"
    }
   ],
   "source": [
    "data['days_exposition'].describe()"
   ]
  },
  {
   "cell_type": "code",
   "execution_count": 60,
   "metadata": {},
   "outputs": [
    {
     "data": {
      "image/png": "[encoded data removed]",
      "text/plain": [
       "<Figure size 432x288 with 1 Axes>"
      ]
     },
     "metadata": {
      "needs_background": "light"
     },
     "output_type": "display_data"
    }
   ],
   "source": [
    "data['days_exposition'].hist(bins=100, range=(0,800))\n",
    "plt.title('Гистограмма количества дней размещения квартир')\n",
    "plt.xlabel('Кол-во дней размещения объявления')\n",
    "plt.ylabel('Частота');"
   ]
  },
  {
   "cell_type": "markdown",
   "metadata": {},
   "source": [
    "Гистограмма напоминает нормальное распредление за исключением нескольких пиков на конкрентых диапозонах. Самый большой пик - на значении 0. Причем 3200 таких значений мы заполнили самостоятельно во время предобработки данных. Гипотеза была в том, что значения NaN автоматически проставлялись в случае, когда публикация была снята в тот же день или сразу после публикации. \n",
    "\n",
    "Однако, пик поднимается до количества 4000. Это значит, что были такие строчки, где значение \"0 дней\" было и до замены пропусков. Значит, NaN проставляется не по этой причине: может быть это  ошибочные публикации, которые были не до конца заполнены или удалены моментально после. Так или иначе, они могут влиять на среднее значение и судя по гистограмме, их здесь быть не должно. Уберем их из выборки и вернем этот столбец в исходный вид. Пусть NaN отражает то, что объявление было с ошибкой. Обратимся к исходному фрейму  и заменим имеющийся столбец на исходный. "
   ]
  },
  {
   "cell_type": "code",
   "execution_count": 61,
   "metadata": {},
   "outputs": [],
   "source": [
    "data_original = pd.read_csv('real_estate_data.csv', sep='\\t')\n",
    "data_original.dropna(subset=['floors_total'])\n",
    "data['days_exposition'] = data_original['days_exposition']"
   ]
  },
  {
   "cell_type": "markdown",
   "metadata": {},
   "source": [
    "Теперь посмотрим еще раз и сделаем выводы"
   ]
  },
  {
   "cell_type": "code",
   "execution_count": 62,
   "metadata": {},
   "outputs": [
    {
     "data": {
      "text/plain": [
       "count    20441.000000\n",
       "mean       180.884839\n",
       "std        219.685543\n",
       "min          1.000000\n",
       "25%         45.000000\n",
       "50%         95.000000\n",
       "75%        232.000000\n",
       "max       1580.000000\n",
       "Name: days_exposition, dtype: float64"
      ]
     },
     "execution_count": 62,
     "metadata": {},
     "output_type": "execute_result"
    }
   ],
   "source": [
    "data['days_exposition'].describe()"
   ]
  },
  {
   "cell_type": "code",
   "execution_count": 63,
   "metadata": {},
   "outputs": [
    {
     "data": {
      "text/plain": [
       "Text(0, 0.5, 'Частота')"
      ]
     },
     "execution_count": 63,
     "metadata": {},
     "output_type": "execute_result"
    },
    {
     "data": {
      "image/png": "[encoded data removed]",
      "text/plain": [
       "<Figure size 432x288 with 1 Axes>"
      ]
     },
     "metadata": {
      "needs_background": "light"
     },
     "output_type": "display_data"
    }
   ],
   "source": [
    "data['days_exposition'].hist(bins=50)\n",
    "plt.title('Гистограмма количества дней размещения квартир')\n",
    "plt.xlabel('Кол-во дней размещения объявления')\n",
    "plt.ylabel('Частота')"
   ]
  },
  {
   "cell_type": "code",
   "execution_count": 64,
   "metadata": {},
   "outputs": [
    {
     "data": {
      "image/png": "[encoded data removed]",
      "text/plain": [
       "<Figure size 432x288 with 1 Axes>"
      ]
     },
     "metadata": {
      "needs_background": "light"
     },
     "output_type": "display_data"
    }
   ],
   "source": [
    "data.boxplot('days_exposition')\n",
    "plt.title('Распределение количества дней размещения квартир')\n",
    "plt.ylabel('Кол-во дней размещения объявления');"
   ]
  },
  {
   "cell_type": "markdown",
   "metadata": {},
   "source": [
    "И отдельно только коробку с усами без выбросов"
   ]
  },
  {
   "cell_type": "code",
   "execution_count": 65,
   "metadata": {},
   "outputs": [
    {
     "data": {
      "image/png": "[encoded data removed]",
      "text/plain": [
       "<Figure size 432x288 with 1 Axes>"
      ]
     },
     "metadata": {
      "needs_background": "light"
     },
     "output_type": "display_data"
    }
   ],
   "source": [
    "data.boxplot('days_exposition', showfliers=False)\n",
    "plt.title('Распределение количества дней размещения квартир')\n",
    "plt.ylabel('Кол-во дней размещения объявления');"
   ]
  },
  {
   "cell_type": "markdown",
   "metadata": {},
   "source": [
    "#### Вывод\n",
    "- построили гистограмму;\n",
    "- посчитать среднее (190 дней) и медиану (103 дней) по продаже;\n",
    "- выяснили, что обычно продажа занимает от 45 до 247 дней;\n",
    "- выяснили, что можно считать продажу очень быстрой, если она случилась раньше 45 дней и необыно долго, если это случилось после 550 дней;"
   ]
  },
  {
   "cell_type": "markdown",
   "metadata": {},
   "source": [
    "### Редкие и выбивающиеся значения"
   ]
  },
  {
   "cell_type": "markdown",
   "metadata": {},
   "source": [
    "#### Площадь"
   ]
  },
  {
   "cell_type": "code",
   "execution_count": 66,
   "metadata": {},
   "outputs": [
    {
     "data": {
      "text/plain": [
       "<AxesSubplot:>"
      ]
     },
     "execution_count": 66,
     "metadata": {},
     "output_type": "execute_result"
    },
    {
     "data": {
      "image/png": "[encoded data removed]",
      "text/plain": [
       "<Figure size 432x288 with 1 Axes>"
      ]
     },
     "metadata": {
      "needs_background": "light"
     },
     "output_type": "display_data"
    }
   ],
   "source": [
    "data['total_area'].hist()"
   ]
  },
  {
   "cell_type": "code",
   "execution_count": 67,
   "metadata": {},
   "outputs": [
    {
     "data": {
      "text/plain": [
       "<AxesSubplot:>"
      ]
     },
     "execution_count": 67,
     "metadata": {},
     "output_type": "execute_result"
    },
    {
     "data": {
      "image/png": "[encoded data removed]",
      "text/plain": [
       "<Figure size 432x288 with 1 Axes>"
      ]
     },
     "metadata": {
      "needs_background": "light"
     },
     "output_type": "display_data"
    }
   ],
   "source": [
    "data.boxplot('total_area')"
   ]
  },
  {
   "cell_type": "markdown",
   "metadata": {},
   "source": [
    "На общем плане гистограммы видно, что после 400 кв.м она сливается с нулем. Однако \"ящик показывает, что там все еще есть несколько точек. А вот после где-то после 550 лежат лишь 3 значения. Нащупаем границу и избавимся от них. "
   ]
  },
  {
   "cell_type": "code",
   "execution_count": 68,
   "metadata": {},
   "outputs": [
    {
     "data": {
      "text/html": [
       "<div>\n",
       "<style scoped>\n",
       "    .dataframe tbody tr th:only-of-type {\n",
       "        vertical-align: middle;\n",
       "    }\n",
       "\n",
       "    .dataframe tbody tr th {\n",
       "        vertical-align: top;\n",
       "    }\n",
       "\n",
       "    .dataframe thead th {\n",
       "        text-align: right;\n",
       "    }\n",
       "</style>\n",
       "<table border=\"1\" class=\"dataframe\">\n",
       "  <thead>\n",
       "    <tr style=\"text-align: right;\">\n",
       "      <th></th>\n",
       "      <th>total_images</th>\n",
       "      <th>last_price</th>\n",
       "      <th>total_area</th>\n",
       "      <th>first_day_exposition</th>\n",
       "      <th>rooms</th>\n",
       "      <th>ceiling_height</th>\n",
       "      <th>floors_total</th>\n",
       "      <th>living_area</th>\n",
       "      <th>floor</th>\n",
       "      <th>is_apartment</th>\n",
       "      <th>...</th>\n",
       "      <th>ponds_around3000</th>\n",
       "      <th>ponds_nearest</th>\n",
       "      <th>days_exposition</th>\n",
       "      <th>living_area_part</th>\n",
       "      <th>kitchen_area_part</th>\n",
       "      <th>square_meter_price</th>\n",
       "      <th>day_of_week_exposition</th>\n",
       "      <th>month_exposition</th>\n",
       "      <th>year_exposition</th>\n",
       "      <th>floor_category</th>\n",
       "    </tr>\n",
       "  </thead>\n",
       "  <tbody>\n",
       "    <tr>\n",
       "      <th>3117</th>\n",
       "      <td>19</td>\n",
       "      <td>140.0</td>\n",
       "      <td>631.0</td>\n",
       "      <td>2019-03-30</td>\n",
       "      <td>7</td>\n",
       "      <td>NaN</td>\n",
       "      <td>5</td>\n",
       "      <td>359.7</td>\n",
       "      <td>5</td>\n",
       "      <td>False</td>\n",
       "      <td>...</td>\n",
       "      <td>2</td>\n",
       "      <td>210.0</td>\n",
       "      <td>NaN</td>\n",
       "      <td>NaN</td>\n",
       "      <td>0.10</td>\n",
       "      <td>221870</td>\n",
       "      <td>5</td>\n",
       "      <td>3</td>\n",
       "      <td>2019</td>\n",
       "      <td>Последний</td>\n",
       "    </tr>\n",
       "    <tr>\n",
       "      <th>5358</th>\n",
       "      <td>20</td>\n",
       "      <td>65.0</td>\n",
       "      <td>590.0</td>\n",
       "      <td>2019-02-14</td>\n",
       "      <td>15</td>\n",
       "      <td>3.5</td>\n",
       "      <td>6</td>\n",
       "      <td>409.0</td>\n",
       "      <td>3</td>\n",
       "      <td>False</td>\n",
       "      <td>...</td>\n",
       "      <td>0</td>\n",
       "      <td>NaN</td>\n",
       "      <td>14.0</td>\n",
       "      <td>0.69</td>\n",
       "      <td>0.17</td>\n",
       "      <td>110169</td>\n",
       "      <td>3</td>\n",
       "      <td>2</td>\n",
       "      <td>2019</td>\n",
       "      <td>Другой</td>\n",
       "    </tr>\n",
       "    <tr>\n",
       "      <th>12859</th>\n",
       "      <td>20</td>\n",
       "      <td>140.0</td>\n",
       "      <td>631.2</td>\n",
       "      <td>2019-04-09</td>\n",
       "      <td>7</td>\n",
       "      <td>3.9</td>\n",
       "      <td>4</td>\n",
       "      <td>322.3</td>\n",
       "      <td>4</td>\n",
       "      <td>False</td>\n",
       "      <td>...</td>\n",
       "      <td>2</td>\n",
       "      <td>210.0</td>\n",
       "      <td>NaN</td>\n",
       "      <td>0.51</td>\n",
       "      <td>0.03</td>\n",
       "      <td>221799</td>\n",
       "      <td>1</td>\n",
       "      <td>4</td>\n",
       "      <td>2019</td>\n",
       "      <td>Последний</td>\n",
       "    </tr>\n",
       "    <tr>\n",
       "      <th>15651</th>\n",
       "      <td>20</td>\n",
       "      <td>300.0</td>\n",
       "      <td>618.0</td>\n",
       "      <td>2017-12-18</td>\n",
       "      <td>7</td>\n",
       "      <td>3.4</td>\n",
       "      <td>7</td>\n",
       "      <td>258.0</td>\n",
       "      <td>5</td>\n",
       "      <td>False</td>\n",
       "      <td>...</td>\n",
       "      <td>2</td>\n",
       "      <td>198.0</td>\n",
       "      <td>111.0</td>\n",
       "      <td>0.42</td>\n",
       "      <td>0.11</td>\n",
       "      <td>485436</td>\n",
       "      <td>0</td>\n",
       "      <td>12</td>\n",
       "      <td>2017</td>\n",
       "      <td>Другой</td>\n",
       "    </tr>\n",
       "    <tr>\n",
       "      <th>19540</th>\n",
       "      <td>8</td>\n",
       "      <td>420.0</td>\n",
       "      <td>900.0</td>\n",
       "      <td>2017-12-06</td>\n",
       "      <td>12</td>\n",
       "      <td>2.8</td>\n",
       "      <td>25</td>\n",
       "      <td>409.7</td>\n",
       "      <td>25</td>\n",
       "      <td>False</td>\n",
       "      <td>...</td>\n",
       "      <td>2</td>\n",
       "      <td>318.0</td>\n",
       "      <td>106.0</td>\n",
       "      <td>0.46</td>\n",
       "      <td>0.12</td>\n",
       "      <td>466666</td>\n",
       "      <td>2</td>\n",
       "      <td>12</td>\n",
       "      <td>2017</td>\n",
       "      <td>Последний</td>\n",
       "    </tr>\n",
       "  </tbody>\n",
       "</table>\n",
       "<p>5 rows × 29 columns</p>\n",
       "</div>"
      ],
      "text/plain": [
       "       total_images  last_price  total_area first_day_exposition  rooms  \\\n",
       "3117             19       140.0       631.0           2019-03-30      7   \n",
       "5358             20        65.0       590.0           2019-02-14     15   \n",
       "12859            20       140.0       631.2           2019-04-09      7   \n",
       "15651            20       300.0       618.0           2017-12-18      7   \n",
       "19540             8       420.0       900.0           2017-12-06     12   \n",
       "\n",
       "       ceiling_height  floors_total  living_area  floor  is_apartment  ...  \\\n",
       "3117              NaN             5        359.7      5         False  ...   \n",
       "5358              3.5             6        409.0      3         False  ...   \n",
       "12859             3.9             4        322.3      4         False  ...   \n",
       "15651             3.4             7        258.0      5         False  ...   \n",
       "19540             2.8            25        409.7     25         False  ...   \n",
       "\n",
       "       ponds_around3000  ponds_nearest  days_exposition  living_area_part  \\\n",
       "3117                  2          210.0              NaN               NaN   \n",
       "5358                  0            NaN             14.0              0.69   \n",
       "12859                 2          210.0              NaN              0.51   \n",
       "15651                 2          198.0            111.0              0.42   \n",
       "19540                 2          318.0            106.0              0.46   \n",
       "\n",
       "      kitchen_area_part  square_meter_price  day_of_week_exposition  \\\n",
       "3117               0.10              221870                       5   \n",
       "5358               0.17              110169                       3   \n",
       "12859              0.03              221799                       1   \n",
       "15651              0.11              485436                       0   \n",
       "19540              0.12              466666                       2   \n",
       "\n",
       "       month_exposition  year_exposition  floor_category  \n",
       "3117                  3             2019       Последний  \n",
       "5358                  2             2019          Другой  \n",
       "12859                 4             2019       Последний  \n",
       "15651                12             2017          Другой  \n",
       "19540                12             2017       Последний  \n",
       "\n",
       "[5 rows x 29 columns]"
      ]
     },
     "execution_count": 68,
     "metadata": {},
     "output_type": "execute_result"
    }
   ],
   "source": [
    "data.query('total_area > 550')"
   ]
  },
  {
   "cell_type": "markdown",
   "metadata": {},
   "source": [
    "Так и есть, они после 550, удаляем. "
   ]
  },
  {
   "cell_type": "code",
   "execution_count": 69,
   "metadata": {},
   "outputs": [],
   "source": [
    "data = data.query('total_area < 550')"
   ]
  },
  {
   "cell_type": "markdown",
   "metadata": {},
   "source": [
    "#### Цена"
   ]
  },
  {
   "cell_type": "code",
   "execution_count": 70,
   "metadata": {},
   "outputs": [
    {
     "data": {
      "text/plain": [
       "<AxesSubplot:>"
      ]
     },
     "execution_count": 70,
     "metadata": {},
     "output_type": "execute_result"
    },
    {
     "data": {
      "image/png": "[encoded data removed]",
      "text/plain": [
       "<Figure size 432x288 with 1 Axes>"
      ]
     },
     "metadata": {
      "needs_background": "light"
     },
     "output_type": "display_data"
    }
   ],
   "source": [
    "data.boxplot('last_price')"
   ]
  },
  {
   "cell_type": "markdown",
   "metadata": {},
   "source": [
    "Аналогичная ситуация: после 300 - всего лишь 3 редких значения, одно из которых к тому же задрано очень сильно. Уберем их."
   ]
  },
  {
   "cell_type": "code",
   "execution_count": 71,
   "metadata": {},
   "outputs": [],
   "source": [
    "data = data.query('last_price < 300')"
   ]
  },
  {
   "cell_type": "markdown",
   "metadata": {},
   "source": [
    "#### Число комнат"
   ]
  },
  {
   "cell_type": "code",
   "execution_count": 72,
   "metadata": {},
   "outputs": [
    {
     "data": {
      "text/plain": [
       "<AxesSubplot:>"
      ]
     },
     "execution_count": 72,
     "metadata": {},
     "output_type": "execute_result"
    },
    {
     "data": {
      "image/png": "[encoded data removed]",
      "text/plain": [
       "<Figure size 432x288 with 1 Axes>"
      ]
     },
     "metadata": {
      "needs_background": "light"
     },
     "output_type": "display_data"
    }
   ],
   "source": [
    "data.boxplot('rooms')"
   ]
  },
  {
   "cell_type": "code",
   "execution_count": 73,
   "metadata": {},
   "outputs": [
    {
     "data": {
      "text/plain": [
       "<AxesSubplot:>"
      ]
     },
     "execution_count": 73,
     "metadata": {},
     "output_type": "execute_result"
    },
    {
     "data": {
      "image/png": "[encoded data removed]",
      "text/plain": [
       "<Figure size 432x288 with 1 Axes>"
      ]
     },
     "metadata": {
      "needs_background": "light"
     },
     "output_type": "display_data"
    }
   ],
   "source": [
    "data['rooms'].hist(bins=20, range=(8,20))"
   ]
  },
  {
   "cell_type": "markdown",
   "metadata": {},
   "source": [
    "То же самое и с комнатами, начиная с 9 комнат мы видим лишь редкие и очень высокие значения. Отрежем их. "
   ]
  },
  {
   "cell_type": "code",
   "execution_count": 74,
   "metadata": {},
   "outputs": [],
   "source": [
    "data = data.query('rooms < 9')"
   ]
  },
  {
   "cell_type": "markdown",
   "metadata": {},
   "source": [
    "#### Высота потолков"
   ]
  },
  {
   "cell_type": "code",
   "execution_count": 75,
   "metadata": {},
   "outputs": [
    {
     "data": {
      "text/plain": [
       "<AxesSubplot:>"
      ]
     },
     "execution_count": 75,
     "metadata": {},
     "output_type": "execute_result"
    },
    {
     "data": {
      "image/png": "[encoded data removed]",
      "text/plain": [
       "<Figure size 432x288 with 1 Axes>"
      ]
     },
     "metadata": {
      "needs_background": "light"
     },
     "output_type": "display_data"
    }
   ],
   "source": [
    "data.boxplot('ceiling_height')"
   ]
  },
  {
   "cell_type": "markdown",
   "metadata": {},
   "source": [
    "Есть ощущение, что все значения после 20 могут быть ошибками (хотели написать 2.1, но забыли точку). Но, боюсь, что это может быть неверным предположением и исправив это вручную, исказим данные. Посмотрим - много ли там объявлений"
   ]
  },
  {
   "cell_type": "code",
   "execution_count": 76,
   "metadata": {},
   "outputs": [
    {
     "data": {
      "text/plain": [
       "22"
      ]
     },
     "execution_count": 76,
     "metadata": {},
     "output_type": "execute_result"
    }
   ],
   "source": [
    "len(data.query('ceiling_height > 20'))"
   ]
  },
  {
   "cell_type": "markdown",
   "metadata": {},
   "source": [
    "Таких немного, поэтому предлагаю просто удалить их. "
   ]
  },
  {
   "cell_type": "code",
   "execution_count": 77,
   "metadata": {},
   "outputs": [],
   "source": [
    "data = data.query('ceiling_height < 20')"
   ]
  },
  {
   "cell_type": "markdown",
   "metadata": {},
   "source": [
    "#### Время продажи квартиры"
   ]
  },
  {
   "cell_type": "code",
   "execution_count": 78,
   "metadata": {},
   "outputs": [
    {
     "data": {
      "text/plain": [
       "<AxesSubplot:>"
      ]
     },
     "execution_count": 78,
     "metadata": {},
     "output_type": "execute_result"
    },
    {
     "data": {
      "image/png": "[encoded data removed]",
      "text/plain": [
       "<Figure size 432x288 with 1 Axes>"
      ]
     },
     "metadata": {
      "needs_background": "light"
     },
     "output_type": "display_data"
    }
   ],
   "source": [
    "data['days_exposition'].hist()"
   ]
  },
  {
   "cell_type": "code",
   "execution_count": 79,
   "metadata": {},
   "outputs": [
    {
     "data": {
      "text/plain": [
       "<AxesSubplot:>"
      ]
     },
     "execution_count": 79,
     "metadata": {},
     "output_type": "execute_result"
    },
    {
     "data": {
      "image/png": "[encoded data removed]",
      "text/plain": [
       "<Figure size 432x288 with 1 Axes>"
      ]
     },
     "metadata": {
      "needs_background": "light"
     },
     "output_type": "display_data"
    }
   ],
   "source": [
    "data.boxplot('days_exposition')"
   ]
  },
  {
   "cell_type": "code",
   "execution_count": 80,
   "metadata": {},
   "outputs": [
    {
     "data": {
      "text/plain": [
       "<AxesSubplot:>"
      ]
     },
     "execution_count": 80,
     "metadata": {},
     "output_type": "execute_result"
    },
    {
     "data": {
      "image/png": "[encoded data removed]",
      "text/plain": [
       "<Figure size 432x288 with 1 Axes>"
      ]
     },
     "metadata": {
      "needs_background": "light"
     },
     "output_type": "display_data"
    }
   ],
   "source": [
    "plt.ylim(1400,1600)\n",
    "data.boxplot('days_exposition')"
   ]
  },
  {
   "cell_type": "markdown",
   "metadata": {},
   "source": [
    "Значений, которые выбиваются прямо таки резко, нет. \"Колбаса\" боксплота лишь немного редеет после 1500, но и в диапозоне от 1400 до 1600 не наблюдается резко оторванных значений. Предлагаю этот столбец оставить как есть. "
   ]
  },
  {
   "cell_type": "markdown",
   "metadata": {},
   "source": [
    "## 5. Анализ"
   ]
  },
  {
   "cell_type": "markdown",
   "metadata": {},
   "source": [
    "### Факты влияющие на стоимость квартиры\n",
    "Задача: выяснить какие факторы больше всего влияют на стоимость квартиры. \n",
    "1. изучить: зависит ли цена от площади, числа комнат, этажа (первого или последнего), удалённости от центра. \n",
    "2. изучить зависимость от даты размещения: дня недели, месяца и года. "
   ]
  },
  {
   "cell_type": "markdown",
   "metadata": {},
   "source": [
    "#### Часть 1: цена, число комнат, этаж, удаленность от центра\n",
    "Чтобы увидеть возможную зависимость, нам нужно построить матрицу корреляции. Все данные для нее у нас готовы, кроме столбца 'floor_category': там хранятся категореальные переменные, а по ним корреляция посчитана не будет. Чтобы учесть их тоже, создадим еще один столбец, содержащий булевый тип. Если этаж первый или последний - True, иначе - False. И после этого построим матрицу. "
   ]
  },
  {
   "cell_type": "code",
   "execution_count": 81,
   "metadata": {},
   "outputs": [
    {
     "data": {
      "text/html": [
       "<div>\n",
       "<style scoped>\n",
       "    .dataframe tbody tr th:only-of-type {\n",
       "        vertical-align: middle;\n",
       "    }\n",
       "\n",
       "    .dataframe tbody tr th {\n",
       "        vertical-align: top;\n",
       "    }\n",
       "\n",
       "    .dataframe thead th {\n",
       "        text-align: right;\n",
       "    }\n",
       "</style>\n",
       "<table border=\"1\" class=\"dataframe\">\n",
       "  <thead>\n",
       "    <tr style=\"text-align: right;\">\n",
       "      <th></th>\n",
       "      <th>last_price</th>\n",
       "      <th>total_area</th>\n",
       "      <th>rooms</th>\n",
       "      <th>floor_category_id</th>\n",
       "      <th>cityCenters_nearest</th>\n",
       "    </tr>\n",
       "  </thead>\n",
       "  <tbody>\n",
       "    <tr>\n",
       "      <th>last_price</th>\n",
       "      <td>1.000000</td>\n",
       "      <td>0.715896</td>\n",
       "      <td>0.414188</td>\n",
       "      <td>-0.039281</td>\n",
       "      <td>-0.253260</td>\n",
       "    </tr>\n",
       "    <tr>\n",
       "      <th>total_area</th>\n",
       "      <td>0.715896</td>\n",
       "      <td>1.000000</td>\n",
       "      <td>0.757171</td>\n",
       "      <td>-0.000200</td>\n",
       "      <td>-0.245986</td>\n",
       "    </tr>\n",
       "    <tr>\n",
       "      <th>rooms</th>\n",
       "      <td>0.414188</td>\n",
       "      <td>0.757171</td>\n",
       "      <td>1.000000</td>\n",
       "      <td>0.057901</td>\n",
       "      <td>-0.192532</td>\n",
       "    </tr>\n",
       "    <tr>\n",
       "      <th>floor_category_id</th>\n",
       "      <td>-0.039281</td>\n",
       "      <td>-0.000200</td>\n",
       "      <td>0.057901</td>\n",
       "      <td>1.000000</td>\n",
       "      <td>0.052743</td>\n",
       "    </tr>\n",
       "    <tr>\n",
       "      <th>cityCenters_nearest</th>\n",
       "      <td>-0.253260</td>\n",
       "      <td>-0.245986</td>\n",
       "      <td>-0.192532</td>\n",
       "      <td>0.052743</td>\n",
       "      <td>1.000000</td>\n",
       "    </tr>\n",
       "  </tbody>\n",
       "</table>\n",
       "</div>"
      ],
      "text/plain": [
       "                     last_price  total_area     rooms  floor_category_id  \\\n",
       "last_price             1.000000    0.715896  0.414188          -0.039281   \n",
       "total_area             0.715896    1.000000  0.757171          -0.000200   \n",
       "rooms                  0.414188    0.757171  1.000000           0.057901   \n",
       "floor_category_id     -0.039281   -0.000200  0.057901           1.000000   \n",
       "cityCenters_nearest   -0.253260   -0.245986 -0.192532           0.052743   \n",
       "\n",
       "                     cityCenters_nearest  \n",
       "last_price                     -0.253260  \n",
       "total_area                     -0.245986  \n",
       "rooms                          -0.192532  \n",
       "floor_category_id               0.052743  \n",
       "cityCenters_nearest             1.000000  "
      ]
     },
     "execution_count": 81,
     "metadata": {},
     "output_type": "execute_result"
    }
   ],
   "source": [
    "data['floor_category_id'] = (data['floor_category'] == 'Первый') | (data['floor_category'] == 'Последний')\n",
    "data[['last_price','total_area', 'rooms', 'floor_category_id', 'cityCenters_nearest']].corr()"
   ]
  },
  {
   "cell_type": "markdown",
   "metadata": {},
   "source": [
    "Посмотрим детальнее столбцы с наибольшими коэффициентами корреляции: площадь и кол-во комнат."
   ]
  },
  {
   "cell_type": "code",
   "execution_count": 82,
   "metadata": {},
   "outputs": [
    {
     "data": {
      "image/png": "[encoded data removed]",
      "text/plain": [
       "<Figure size 720x432 with 1 Axes>"
      ]
     },
     "metadata": {
      "needs_background": "light"
     },
     "output_type": "display_data"
    }
   ],
   "source": [
    "data.plot(x='total_area', \n",
    "          y='last_price', \n",
    "          kind='scatter', \n",
    "          grid=True, \n",
    "          figsize=(10,6))\n",
    "plt.title('График зависимости стоимости квартиры от площади')\n",
    "plt.xlabel('Площадь (кв.м.)')\n",
    "plt.xlabel('Стоимость (млн.р.)');"
   ]
  },
  {
   "cell_type": "markdown",
   "metadata": {},
   "source": [
    "Видно, что при площади от 0 до 20 точки лежат толстой линией, а дальше начинается разброс. Скорее всего, дело в том, что начиная с определнного момента площадь начинает влиять на стоимость все меньше и меньше.  "
   ]
  },
  {
   "cell_type": "code",
   "execution_count": 83,
   "metadata": {},
   "outputs": [
    {
     "data": {
      "image/png": "[encoded data removed]",
      "text/plain": [
       "<Figure size 432x288 with 1 Axes>"
      ]
     },
     "metadata": {
      "needs_background": "light"
     },
     "output_type": "display_data"
    }
   ],
   "source": [
    "data.plot(x='rooms', \n",
    "          y='last_price', \n",
    "          grid=True,\n",
    "          kind='scatter')\n",
    "plt.title('График зависимости стоимости квартиры от кол-ва комнат')\n",
    "plt.xlabel('Кол-во комнат')\n",
    "plt.xlabel('Стоимость (млн.р.)');"
   ]
  },
  {
   "cell_type": "markdown",
   "metadata": {},
   "source": [
    "С количеством комнат все не так однозначно. С одной стороны, с увеличением количества комнат точки начинают появляться все выше. При этом, нижняя граница вверх не поднимается. Это подтверждает невысокий коэффициент корреляции. "
   ]
  },
  {
   "cell_type": "markdown",
   "metadata": {},
   "source": [
    "#### Часть 1: Вывод\n",
    "Заметная корреляция обнаружена только между ценой и площадью квартиры: 0.73. Это подтверждает вполне очевидное интуитивное наблюдение: чем больше площадь, тем дороже квартира. \n",
    "\n",
    "Количество комнат показывает меньший коэффицент - 0.42. Умеренно, но немного. При этом, куда более заметная (и очень логичная) корреляция наблюдаяется между количеством комнат и площадью квартиры. Это тоже очень логично. \n",
    "\n",
    "Расстояние от центра коррелирует со стоимостью довольно слабо, а расположение квартиры на первом или последнем этаже вообще не влияет на стоимость. "
   ]
  },
  {
   "cell_type": "markdown",
   "metadata": {},
   "source": [
    "#### Часть 2: дата размещения (день недели, месяц, год)\n",
    "Для этого исследования нам снова нужно внести небольшие изменения. Мы создали столбцы с днем недели и месяцем размещения, которые содержат названия. Нам же нужны такие, которые содержат числовое выражение. Заменим их и снова построим матрицу корреляции"
   ]
  },
  {
   "cell_type": "code",
   "execution_count": 84,
   "metadata": {},
   "outputs": [],
   "source": [
    "data['day_of_week_exposition'] = data['first_day_exposition'].dt.weekday\n",
    "data['month_exposition'] = data['first_day_exposition'].dt.month"
   ]
  },
  {
   "cell_type": "code",
   "execution_count": 85,
   "metadata": {},
   "outputs": [
    {
     "data": {
      "text/html": [
       "<div>\n",
       "<style scoped>\n",
       "    .dataframe tbody tr th:only-of-type {\n",
       "        vertical-align: middle;\n",
       "    }\n",
       "\n",
       "    .dataframe tbody tr th {\n",
       "        vertical-align: top;\n",
       "    }\n",
       "\n",
       "    .dataframe thead th {\n",
       "        text-align: right;\n",
       "    }\n",
       "</style>\n",
       "<table border=\"1\" class=\"dataframe\">\n",
       "  <thead>\n",
       "    <tr style=\"text-align: right;\">\n",
       "      <th></th>\n",
       "      <th>last_price</th>\n",
       "      <th>day_of_week_exposition</th>\n",
       "      <th>month_exposition</th>\n",
       "      <th>year_exposition</th>\n",
       "    </tr>\n",
       "  </thead>\n",
       "  <tbody>\n",
       "    <tr>\n",
       "      <th>last_price</th>\n",
       "      <td>1.000000</td>\n",
       "      <td>-0.011804</td>\n",
       "      <td>0.000843</td>\n",
       "      <td>-0.065655</td>\n",
       "    </tr>\n",
       "    <tr>\n",
       "      <th>day_of_week_exposition</th>\n",
       "      <td>-0.011804</td>\n",
       "      <td>1.000000</td>\n",
       "      <td>-0.007945</td>\n",
       "      <td>-0.003289</td>\n",
       "    </tr>\n",
       "    <tr>\n",
       "      <th>month_exposition</th>\n",
       "      <td>0.000843</td>\n",
       "      <td>-0.007945</td>\n",
       "      <td>1.000000</td>\n",
       "      <td>-0.301114</td>\n",
       "    </tr>\n",
       "    <tr>\n",
       "      <th>year_exposition</th>\n",
       "      <td>-0.065655</td>\n",
       "      <td>-0.003289</td>\n",
       "      <td>-0.301114</td>\n",
       "      <td>1.000000</td>\n",
       "    </tr>\n",
       "  </tbody>\n",
       "</table>\n",
       "</div>"
      ],
      "text/plain": [
       "                        last_price  day_of_week_exposition  month_exposition  \\\n",
       "last_price                1.000000               -0.011804          0.000843   \n",
       "day_of_week_exposition   -0.011804                1.000000         -0.007945   \n",
       "month_exposition          0.000843               -0.007945          1.000000   \n",
       "year_exposition          -0.065655               -0.003289         -0.301114   \n",
       "\n",
       "                        year_exposition  \n",
       "last_price                    -0.065655  \n",
       "day_of_week_exposition        -0.003289  \n",
       "month_exposition              -0.301114  \n",
       "year_exposition                1.000000  "
      ]
     },
     "execution_count": 85,
     "metadata": {},
     "output_type": "execute_result"
    }
   ],
   "source": [
    "data[['last_price', 'day_of_week_exposition', 'month_exposition', 'year_exposition']].corr()"
   ]
  },
  {
   "cell_type": "markdown",
   "metadata": {},
   "source": [
    "#### Часть 2: Вывод\n",
    "Заметной корреляции не обнаружено ни с одним столбцом. Ни день недели, ни месяц ни год не влияют на цену продажи хоть сколь-нибудь заметно. "
   ]
  },
  {
   "cell_type": "markdown",
   "metadata": {},
   "source": [
    "### Исследование населенных пунктов\n",
    "\n",
    "Задачи: \n",
    "- Выбрать 10 населённых пунктов с наибольшим числом объявлений\n",
    "- Посчитать среднюю цену квадратного метра в этих населённых пунктах. \n",
    "- Выделить среди них населённые пункты с самой высокой и низкой стоимостью жилья. "
   ]
  },
  {
   "cell_type": "markdown",
   "metadata": {},
   "source": [
    "Сгруппируем данные по населенным пунктам с помощью  pivot_table: сделаем столбец с количеством объявлений и средней ценой кв.м. Оставим только 10 и отсортируем по убыванию. Дополнительно, чисто косметически, переназовем колонки и избавимся от кучи знаков после запятой в столбце  square_meter_price"
   ]
  },
  {
   "cell_type": "code",
   "execution_count": 86,
   "metadata": {},
   "outputs": [],
   "source": [
    "data_locality = data.pivot_table(index='locality_name', \n",
    "                                 values='square_meter_price', \n",
    "                                 aggfunc=['mean', 'count'])"
   ]
  },
  {
   "cell_type": "code",
   "execution_count": 87,
   "metadata": {},
   "outputs": [],
   "source": [
    "data_locality.columns = ['square_meter_price', 'count']\n",
    "data_locality['square_meter_price'] = data_locality['square_meter_price'].astype('int')"
   ]
  },
  {
   "cell_type": "code",
   "execution_count": 88,
   "metadata": {},
   "outputs": [],
   "source": [
    "data_locality = data_locality.sort_values(by='count', ascending=False).head(10).reset_index()"
   ]
  },
  {
   "cell_type": "code",
   "execution_count": 89,
   "metadata": {},
   "outputs": [
    {
     "data": {
      "image/png": "[encoded data removed]",
      "text/plain": [
       "<Figure size 1152x360 with 2 Axes>"
      ]
     },
     "metadata": {
      "needs_background": "light"
     },
     "output_type": "display_data"
    }
   ],
   "source": [
    "fig, (ax1, ax2) = plt.subplots(1,2, figsize=(16,5))\n",
    "\n",
    "data_locality = data_locality.sort_values(by='square_meter_price', ascending=False)\n",
    "ax1.bar(data_locality['locality_name'], data_locality['square_meter_price'])\n",
    "ax1.set_title('Средняя стоимость квадратного метра квартиры')\n",
    "ax1.set_ylabel('Стоимость кв.м. (р.)')\n",
    "ax1.tick_params(axis='x', labelrotation=45)\n",
    "\n",
    "data_locality = data_locality.sort_values(by='count', ascending=False)\n",
    "ax2.bar(data_locality['locality_name'], data_locality['count'])\n",
    "ax2.set_title('Количество объявление в городах')\n",
    "ax2.set_ylabel('Кол-во объявлений (шт.)')\n",
    "ax1.tick_params(axis='x', labelrotation=45);"
   ]
  },
  {
   "cell_type": "markdown",
   "metadata": {},
   "source": [
    "#### Вывод\n",
    "Выделили 10 населенных пунктов с наибольшим количеством объявлений и посчитали по каждому из них среднюю цену квадратного метра. Самый дорогой квадратный метр - в Питере, а самый дешевый - во Всеволжске. "
   ]
  },
  {
   "cell_type": "markdown",
   "metadata": {},
   "source": [
    "### Центр Питера\n",
    "\n",
    "Наша задача - изучить предложения квартир в центре Санкт-Петербурге. Нам нужно выяснить - какая область входит в центр, а затем выделить сегмент квартир в центре и проанализировать их. \n",
    "\n",
    "Шаги: \n",
    "1. Создаем столбец с расстоянием до центра в километрах, округляя до целых значений.\n",
    "2. Считаем среднюю цену для каждого километра.\n",
    "3. Строим график, который показывает как цена зависит от удалённости от центра.\n",
    "4. Определяем границу центра: где график сильно меняется — это и будет центральная зона.\n",
    "5. Выделяем сегмент квартир в центре\n",
    "6. Анализируем для сегмента параметры: площадь, цена, число комнат, высота потолков.\n",
    "7. Ищем факторы, который влияют на стоимость квартиры: число комнат, этаж, удалённость от центра, дата размещения объявления.\n",
    "8. Делаем вывод: отличается ли это от общих выводов. "
   ]
  },
  {
   "cell_type": "markdown",
   "metadata": {},
   "source": [
    "#### Шаг 1\n",
    "Мы не избавились от пропусков в столбце 'cityCenters_nearest', потому как замена может привести к искажению данных. Пропусков в этом столбце довольно много, но для этого исследования нам все же придется от них избавиться. Создадим отдельный фрейм и проведем исследование с ним. Сделаем столбец с расстоянием в километрах (в целых числах),"
   ]
  },
  {
   "cell_type": "code",
   "execution_count": 90,
   "metadata": {},
   "outputs": [],
   "source": [
    "data_for_center = data\n",
    "data_for_center.dropna(subset=['cityCenters_nearest'], inplace=True)\n",
    "data_for_center['cityCenters_nearest_km'] = data_for_center['cityCenters_nearest'] / 1000\n",
    "data_for_center['cityCenters_nearest_km'] = data_for_center['cityCenters_nearest_km'].astype('int')"
   ]
  },
  {
   "cell_type": "markdown",
   "metadata": {},
   "source": [
    "#### Шаг 2-3\n",
    "Считаем среднюю цену для каждого расстояния и строим график. Напомним, что цена указана в миллионах."
   ]
  },
  {
   "cell_type": "code",
   "execution_count": 91,
   "metadata": {},
   "outputs": [],
   "source": [
    "data_for_center_stat = data_for_center.pivot_table(index='cityCenters_nearest_km', \n",
    "                            values='last_price', \n",
    "                            aggfunc='mean')"
   ]
  },
  {
   "cell_type": "code",
   "execution_count": 92,
   "metadata": {},
   "outputs": [
    {
     "data": {
      "image/png": "[encoded data removed]",
      "text/plain": [
       "<Figure size 864x432 with 1 Axes>"
      ]
     },
     "metadata": {
      "needs_background": "light"
     },
     "output_type": "display_data"
    }
   ],
   "source": [
    "data_for_center_stat.plot(y='last_price', figsize=(12,6))\n",
    "plt.title('Зависимость стоимости квартиры от расстояния до центра Питера')\n",
    "plt.xlabel('Расстояние до центра (км.)')\n",
    "plt.ylabel('Стоимость квартиры (млн. р.)');"
   ]
  },
  {
   "cell_type": "markdown",
   "metadata": {},
   "source": [
    "#### Шаг 4-5\n",
    "Определяем центр: видим, что где-то на отметке в 9км цена начинает стремительно ползти вверх. Скорее всего здесь и начинается граница центра города. Приблизим график, чтобы найти точное значение, с которого начинается подъем, а затем выделим весь сегмент квартир, находящихся в центре в отдельный фрейм, чтобы продолжить с ним работу. \n",
    "\n",
    "p.s. а еще - видны очень необычные пики на значениях около 40 и 55 км"
   ]
  },
  {
   "cell_type": "code",
   "execution_count": 93,
   "metadata": {},
   "outputs": [
    {
     "data": {
      "image/png": "[encoded data removed]",
      "text/plain": [
       "<Figure size 432x288 with 1 Axes>"
      ]
     },
     "metadata": {
      "needs_background": "light"
     },
     "output_type": "display_data"
    }
   ],
   "source": [
    "data_for_center_stat.plot(y='last_price', xlim=(0,14));"
   ]
  },
  {
   "cell_type": "code",
   "execution_count": 94,
   "metadata": {},
   "outputs": [],
   "source": [
    "data_only_center = data_for_center.query('cityCenters_nearest_km < 9')"
   ]
  },
  {
   "cell_type": "markdown",
   "metadata": {},
   "source": [
    "#### Шаг 6: площадь\n",
    "Проанализируем параметры: площадь, цена, число комнат, высота потолков."
   ]
  },
  {
   "cell_type": "code",
   "execution_count": 95,
   "metadata": {},
   "outputs": [
    {
     "data": {
      "text/plain": [
       "count    2854.000000\n",
       "mean       89.094660\n",
       "std        53.762227\n",
       "min        12.000000\n",
       "25%        55.000000\n",
       "50%        75.850000\n",
       "75%       107.000000\n",
       "max       507.000000\n",
       "Name: total_area, dtype: float64"
      ]
     },
     "execution_count": 95,
     "metadata": {},
     "output_type": "execute_result"
    }
   ],
   "source": [
    "data_only_center['total_area'].describe()"
   ]
  },
  {
   "cell_type": "code",
   "execution_count": 96,
   "metadata": {},
   "outputs": [
    {
     "data": {
      "image/png": "[encoded data removed]",
      "text/plain": [
       "<Figure size 432x288 with 1 Axes>"
      ]
     },
     "metadata": {
      "needs_background": "light"
     },
     "output_type": "display_data"
    }
   ],
   "source": [
    "data_only_center['total_area'].hist(range=(0,200), bins=30)\n",
    "plt.title('Гистограмма распределения площадей квартир')\n",
    "plt.xlabel('Площадь (кв.м.)')\n",
    "plt.ylabel('Частота');"
   ]
  },
  {
   "cell_type": "markdown",
   "metadata": {},
   "source": [
    "Площадь квартир в центре Питера в среднем больше, чем по всей выборке: медианное значение отличается ( в большую сторону) аж на 23 квадратных метра. Большая часть значений лежит в диапозоне от 51 до 100 кв.м. Это больше, чем аналогичный рэндж по всей выборке. "
   ]
  },
  {
   "cell_type": "markdown",
   "metadata": {},
   "source": [
    "#### Шаг 6: цена"
   ]
  },
  {
   "cell_type": "code",
   "execution_count": 97,
   "metadata": {},
   "outputs": [
    {
     "data": {
      "text/plain": [
       "count    2854.000000\n",
       "mean       13.413352\n",
       "std        16.833808\n",
       "min         1.600000\n",
       "25%         6.390000\n",
       "50%         8.900000\n",
       "75%        13.548744\n",
       "max       289.238400\n",
       "Name: last_price, dtype: float64"
      ]
     },
     "execution_count": 97,
     "metadata": {},
     "output_type": "execute_result"
    }
   ],
   "source": [
    "data_only_center['last_price'].describe()"
   ]
  },
  {
   "cell_type": "code",
   "execution_count": 98,
   "metadata": {},
   "outputs": [
    {
     "data": {
      "image/png": "[encoded data removed]",
      "text/plain": [
       "<Figure size 432x288 with 1 Axes>"
      ]
     },
     "metadata": {
      "needs_background": "light"
     },
     "output_type": "display_data"
    }
   ],
   "source": [
    "data_only_center['last_price'].hist(range=(0,25), bins=30)\n",
    "plt.title('Гистограмма распределения цен квартир')\n",
    "plt.xlabel('Цена (млн.р.)')\n",
    "plt.ylabel('Частота');"
   ]
  },
  {
   "cell_type": "markdown",
   "metadata": {},
   "source": [
    "Тоже самое происходит и с ценой. В центре города цены на жилье гораздо выше, чем в среднем по всей выборке. Медианная стоимость отличается практически в 2 раза! Большая часть значений так же лежит в диапозоне более высоких цен. Это хорошо видно на гистограмме. Пик по всем объявлениям находится в диапозоне от 0 до 5, а пик по объявлениям из центра города - между 5 и 10. "
   ]
  },
  {
   "cell_type": "markdown",
   "metadata": {},
   "source": [
    "#### Шаг 6: комнаты и высота потолков"
   ]
  },
  {
   "cell_type": "code",
   "execution_count": 99,
   "metadata": {},
   "outputs": [
    {
     "data": {
      "text/plain": [
       "count    2854.000000\n",
       "mean        2.768746\n",
       "std         1.294299\n",
       "min         1.000000\n",
       "25%         2.000000\n",
       "50%         3.000000\n",
       "75%         3.000000\n",
       "max         8.000000\n",
       "Name: rooms, dtype: float64"
      ]
     },
     "execution_count": 99,
     "metadata": {},
     "output_type": "execute_result"
    }
   ],
   "source": [
    "data_only_center['rooms'].describe()"
   ]
  },
  {
   "cell_type": "code",
   "execution_count": 100,
   "metadata": {},
   "outputs": [
    {
     "data": {
      "text/plain": [
       "count    2854.000000\n",
       "mean        3.042624\n",
       "std         0.375140\n",
       "min         2.000000\n",
       "25%         2.800000\n",
       "50%         3.000000\n",
       "75%         3.200000\n",
       "max         6.000000\n",
       "Name: ceiling_height, dtype: float64"
      ]
     },
     "execution_count": 100,
     "metadata": {},
     "output_type": "execute_result"
    }
   ],
   "source": [
    "data_only_center['ceiling_height'].describe()"
   ]
  },
  {
   "cell_type": "markdown",
   "metadata": {},
   "source": [
    "Все то же самое произошло с количеством комнат и высотой потолков. В квартирах в центре в среднем на одну команту больше, а потолки на 35 сантиметров выше.  "
   ]
  },
  {
   "cell_type": "markdown",
   "metadata": {},
   "source": [
    "#### Шаг 7\n",
    "Теперь попробуем выяснить, влияют ли на стоимость квартиры площадь, число комнат, этаж, удалённость от центра и дата размещения объявления. Для этого выделим только нужные нам столбцы и поработаем с ними. В одном фрейме будет все (что нам нужно) кроме параметров даты, а во втором - только параметры даты."
   ]
  },
  {
   "cell_type": "code",
   "execution_count": 101,
   "metadata": {},
   "outputs": [],
   "source": [
    "data_only_center_small = data_only_center[['last_price',\n",
    "                                           'total_area',\n",
    "                                           'rooms', \n",
    "                                           'floor', \n",
    "                                           'cityCenters_nearest_km']]\n",
    "\n",
    "data_only_center_date = data_only_center[['last_price',\n",
    "                                          'day_of_week_exposition', \n",
    "                                          'month_exposition', \n",
    "                                          'year_exposition']]"
   ]
  },
  {
   "cell_type": "markdown",
   "metadata": {},
   "source": [
    "Начнем с первого фрейма: посторим матрицу корреляции и матрицу диаграмм рассеяния"
   ]
  },
  {
   "cell_type": "code",
   "execution_count": 102,
   "metadata": {},
   "outputs": [
    {
     "data": {
      "text/html": [
       "<div>\n",
       "<style scoped>\n",
       "    .dataframe tbody tr th:only-of-type {\n",
       "        vertical-align: middle;\n",
       "    }\n",
       "\n",
       "    .dataframe tbody tr th {\n",
       "        vertical-align: top;\n",
       "    }\n",
       "\n",
       "    .dataframe thead th {\n",
       "        text-align: right;\n",
       "    }\n",
       "</style>\n",
       "<table border=\"1\" class=\"dataframe\">\n",
       "  <thead>\n",
       "    <tr style=\"text-align: right;\">\n",
       "      <th></th>\n",
       "      <th>last_price</th>\n",
       "      <th>total_area</th>\n",
       "      <th>rooms</th>\n",
       "      <th>floor</th>\n",
       "      <th>cityCenters_nearest_km</th>\n",
       "    </tr>\n",
       "  </thead>\n",
       "  <tbody>\n",
       "    <tr>\n",
       "      <th>last_price</th>\n",
       "      <td>1.000000</td>\n",
       "      <td>0.686390</td>\n",
       "      <td>0.381705</td>\n",
       "      <td>0.091517</td>\n",
       "      <td>-0.116097</td>\n",
       "    </tr>\n",
       "    <tr>\n",
       "      <th>total_area</th>\n",
       "      <td>0.686390</td>\n",
       "      <td>1.000000</td>\n",
       "      <td>0.748209</td>\n",
       "      <td>0.078745</td>\n",
       "      <td>-0.188470</td>\n",
       "    </tr>\n",
       "    <tr>\n",
       "      <th>rooms</th>\n",
       "      <td>0.381705</td>\n",
       "      <td>0.748209</td>\n",
       "      <td>1.000000</td>\n",
       "      <td>-0.071135</td>\n",
       "      <td>-0.240299</td>\n",
       "    </tr>\n",
       "    <tr>\n",
       "      <th>floor</th>\n",
       "      <td>0.091517</td>\n",
       "      <td>0.078745</td>\n",
       "      <td>-0.071135</td>\n",
       "      <td>1.000000</td>\n",
       "      <td>0.279868</td>\n",
       "    </tr>\n",
       "    <tr>\n",
       "      <th>cityCenters_nearest_km</th>\n",
       "      <td>-0.116097</td>\n",
       "      <td>-0.188470</td>\n",
       "      <td>-0.240299</td>\n",
       "      <td>0.279868</td>\n",
       "      <td>1.000000</td>\n",
       "    </tr>\n",
       "  </tbody>\n",
       "</table>\n",
       "</div>"
      ],
      "text/plain": [
       "                        last_price  total_area     rooms     floor  \\\n",
       "last_price                1.000000    0.686390  0.381705  0.091517   \n",
       "total_area                0.686390    1.000000  0.748209  0.078745   \n",
       "rooms                     0.381705    0.748209  1.000000 -0.071135   \n",
       "floor                     0.091517    0.078745 -0.071135  1.000000   \n",
       "cityCenters_nearest_km   -0.116097   -0.188470 -0.240299  0.279868   \n",
       "\n",
       "                        cityCenters_nearest_km  \n",
       "last_price                           -0.116097  \n",
       "total_area                           -0.188470  \n",
       "rooms                                -0.240299  \n",
       "floor                                 0.279868  \n",
       "cityCenters_nearest_km                1.000000  "
      ]
     },
     "execution_count": 102,
     "metadata": {},
     "output_type": "execute_result"
    }
   ],
   "source": [
    "data_only_center_small.corr()"
   ]
  },
  {
   "cell_type": "code",
   "execution_count": 103,
   "metadata": {},
   "outputs": [
    {
     "data": {
      "image/png": "[encoded data removed]",
      "text/plain": [
       "<Figure size 864x864 with 25 Axes>"
      ]
     },
     "metadata": {
      "needs_background": "light"
     },
     "output_type": "display_data"
    }
   ],
   "source": [
    "pd.plotting.scatter_matrix(data_only_center_small, figsize=(12,12))\n",
    "pass"
   ]
  },
  {
   "cell_type": "markdown",
   "metadata": {},
   "source": [
    "Здесь без сюрпризов: коэффициенты корреляции очень похожи на те, что мы рассчитали по всей выборке. Заметная корреляция наблюдается с площадью квартиры - 0.68. Это значение можно наблюдать на диаграмме рассеяния: до определенного момента площадь растет вместе с ценой, но затем точки начианают разлетаться в разные стороны. Судя по всему, начиная с определенного момента на стоимость начинают сильнее влиять и другие факторы. "
   ]
  },
  {
   "cell_type": "markdown",
   "metadata": {},
   "source": [
    "Теперь проверим возможное влияние даты на стоимость квартиры. "
   ]
  },
  {
   "cell_type": "code",
   "execution_count": 104,
   "metadata": {},
   "outputs": [
    {
     "data": {
      "text/html": [
       "<div>\n",
       "<style scoped>\n",
       "    .dataframe tbody tr th:only-of-type {\n",
       "        vertical-align: middle;\n",
       "    }\n",
       "\n",
       "    .dataframe tbody tr th {\n",
       "        vertical-align: top;\n",
       "    }\n",
       "\n",
       "    .dataframe thead th {\n",
       "        text-align: right;\n",
       "    }\n",
       "</style>\n",
       "<table border=\"1\" class=\"dataframe\">\n",
       "  <thead>\n",
       "    <tr style=\"text-align: right;\">\n",
       "      <th></th>\n",
       "      <th>last_price</th>\n",
       "      <th>day_of_week_exposition</th>\n",
       "      <th>month_exposition</th>\n",
       "      <th>year_exposition</th>\n",
       "    </tr>\n",
       "  </thead>\n",
       "  <tbody>\n",
       "    <tr>\n",
       "      <th>last_price</th>\n",
       "      <td>1.000000</td>\n",
       "      <td>-0.000903</td>\n",
       "      <td>-0.012433</td>\n",
       "      <td>-0.083622</td>\n",
       "    </tr>\n",
       "    <tr>\n",
       "      <th>day_of_week_exposition</th>\n",
       "      <td>-0.000903</td>\n",
       "      <td>1.000000</td>\n",
       "      <td>0.018116</td>\n",
       "      <td>-0.001743</td>\n",
       "    </tr>\n",
       "    <tr>\n",
       "      <th>month_exposition</th>\n",
       "      <td>-0.012433</td>\n",
       "      <td>0.018116</td>\n",
       "      <td>1.000000</td>\n",
       "      <td>-0.264734</td>\n",
       "    </tr>\n",
       "    <tr>\n",
       "      <th>year_exposition</th>\n",
       "      <td>-0.083622</td>\n",
       "      <td>-0.001743</td>\n",
       "      <td>-0.264734</td>\n",
       "      <td>1.000000</td>\n",
       "    </tr>\n",
       "  </tbody>\n",
       "</table>\n",
       "</div>"
      ],
      "text/plain": [
       "                        last_price  day_of_week_exposition  month_exposition  \\\n",
       "last_price                1.000000               -0.000903         -0.012433   \n",
       "day_of_week_exposition   -0.000903                1.000000          0.018116   \n",
       "month_exposition         -0.012433                0.018116          1.000000   \n",
       "year_exposition          -0.083622               -0.001743         -0.264734   \n",
       "\n",
       "                        year_exposition  \n",
       "last_price                    -0.083622  \n",
       "day_of_week_exposition        -0.001743  \n",
       "month_exposition              -0.264734  \n",
       "year_exposition                1.000000  "
      ]
     },
     "execution_count": 104,
     "metadata": {},
     "output_type": "execute_result"
    }
   ],
   "source": [
    "data_only_center_date.corr()"
   ]
  },
  {
   "cell_type": "code",
   "execution_count": 105,
   "metadata": {},
   "outputs": [
    {
     "data": {
      "image/png": "[encoded data removed]",
      "text/plain": [
       "<Figure size 648x648 with 16 Axes>"
      ]
     },
     "metadata": {
      "needs_background": "light"
     },
     "output_type": "display_data"
    }
   ],
   "source": [
    "pd.plotting.scatter_matrix(data_only_center_date, figsize=(9,9)) \n",
    "pass"
   ]
  },
  {
   "cell_type": "markdown",
   "metadata": {},
   "source": [
    "С компонентами даты все то же самое. Ни день, ни месяц, ни год публикации не оказывают хоть сколь-нибудь заметного влияния на стоимость. Это хорошо видно на диаграммах и просто по коэффициентам корреляции. "
   ]
  },
  {
   "cell_type": "markdown",
   "metadata": {},
   "source": [
    "#### Вывод\n",
    "Мы выделили среди всех объявлений те, что располагаются в центре города и проанализировали только их. Площадь квартиры, цена, количество комнат и высота потолков выросла по сравнению с аналогичным анализом по всей выборке объявлений. Это подчиняется интуитивной логике: квартиры в центре скорее всего больше и дороже. \n",
    "\n",
    "Одновременно с этим мы попробовали найти факторы, влияющие на стоимость квартиры в центре, но выводы не изменились: заметное влияние оказывает только площадь квартиры и совсем немного - количество комнат. "
   ]
  },
  {
   "cell_type": "markdown",
   "metadata": {},
   "source": [
    "## Общий вывод"
   ]
  },
  {
   "cell_type": "markdown",
   "metadata": {},
   "source": [
    "1. Мы предобработали данные с архивом объявлений о продаже квартир в Санкт-Петербурег и соседних населенных пунктах за несколько лет. \n",
    "\n",
    "- Обработали пропуски\n",
    "- Заменили типы данных\n",
    "- Рассчитали и добавили дополнительные параметры в таблицу\n",
    "- Обработали строковый столбец с названиями населенных пунктов, чтобы они не дублировали друг друга\n",
    "\n",
    "2. Затем - провели анализ, чтобы найти параметры, помогающие определить рыночную стоимость недвижимости. Проверили влияние на цену квартиры ее площади, числа комнат, высоты потолков и удаленности от центра. \n",
    "\n",
    "3. Детально изучили время продажи квартиры. Скорее всего вы продадите ее через 103 дня после размещения объявления. Большая часть значений попадает в диапозон от 45 до 247 дней. \n",
    "\n",
    "4. Удалили редкие значения в столбцах (площадь, цена, число комнта, время продажи), чтобы избежать их влияния на коэффициент корреляции\n",
    "\n",
    "4. Провели анализ находящихся в центре города. Параметры площади, количества комнат, стоимости и высоты потолков для них получились выше, чем в общей выборке. Однако проверка влияния этих параметров на цену не показала ничего нового. \n",
    "\n",
    "**Итог**: на стоимость квартиры заметно влияет ее **площадь** (коэф. корел. 0.73) и **количество комнат** (0.42). Предлагаю коллегам взять эти параметры для оценки рыночной стоимости квартиры. \n"
   ]
  }
 ],
 "metadata": {
  "ExecuteTimeLog": [
   {
    "duration": 794,
    "start_time": "2021-08-30T11:14:25.191Z"
   },
   {
    "duration": 111,
    "start_time": "2021-08-30T11:14:48.066Z"
   },
   {
    "duration": 16,
    "start_time": "2021-08-30T11:15:10.132Z"
   },
   {
    "duration": 518,
    "start_time": "2021-08-30T11:32:09.300Z"
   },
   {
    "duration": 78,
    "start_time": "2021-08-30T11:32:39.160Z"
   },
   {
    "duration": 11,
    "start_time": "2021-08-30T11:38:02.913Z"
   },
   {
    "duration": 396,
    "start_time": "2021-08-30T11:38:26.419Z"
   },
   {
    "duration": 331,
    "start_time": "2021-08-30T11:38:59.633Z"
   },
   {
    "duration": 318,
    "start_time": "2021-08-30T11:39:07.216Z"
   },
   {
    "duration": 358,
    "start_time": "2021-08-30T11:39:12.779Z"
   },
   {
    "duration": 326,
    "start_time": "2021-08-30T11:39:15.603Z"
   },
   {
    "duration": 381,
    "start_time": "2021-08-30T11:39:22.148Z"
   },
   {
    "duration": 14,
    "start_time": "2021-08-30T11:40:16.034Z"
   },
   {
    "duration": 40,
    "start_time": "2021-08-30T11:40:52.743Z"
   },
   {
    "duration": 35,
    "start_time": "2021-08-30T11:41:31.927Z"
   },
   {
    "duration": 36,
    "start_time": "2021-08-30T11:41:34.663Z"
   },
   {
    "duration": 52,
    "start_time": "2021-08-30T11:41:40.441Z"
   },
   {
    "duration": 53,
    "start_time": "2021-08-30T11:41:56.635Z"
   },
   {
    "duration": 54,
    "start_time": "2021-08-30T11:42:16.189Z"
   },
   {
    "duration": 74,
    "start_time": "2021-08-30T11:42:31.918Z"
   },
   {
    "duration": 528,
    "start_time": "2021-08-30T11:43:56.621Z"
   },
   {
    "duration": 316,
    "start_time": "2021-08-30T11:44:05.184Z"
   },
   {
    "duration": 345,
    "start_time": "2021-08-30T11:44:18.137Z"
   },
   {
    "duration": 589,
    "start_time": "2021-08-30T11:44:25.912Z"
   },
   {
    "duration": 304,
    "start_time": "2021-08-30T11:44:46.394Z"
   },
   {
    "duration": 322,
    "start_time": "2021-08-30T11:46:21.883Z"
   },
   {
    "duration": 316,
    "start_time": "2021-08-30T11:48:18.917Z"
   },
   {
    "duration": 425,
    "start_time": "2021-08-30T11:48:24.678Z"
   },
   {
    "duration": 15,
    "start_time": "2021-08-30T11:51:12.800Z"
   },
   {
    "duration": 16,
    "start_time": "2021-08-30T11:51:27.758Z"
   },
   {
    "duration": 12,
    "start_time": "2021-08-30T11:51:40.233Z"
   },
   {
    "duration": 310,
    "start_time": "2021-08-30T11:51:48.001Z"
   },
   {
    "duration": 322,
    "start_time": "2021-08-30T11:52:03.834Z"
   },
   {
    "duration": 5,
    "start_time": "2021-08-30T11:52:26.351Z"
   },
   {
    "duration": 57,
    "start_time": "2021-08-30T11:53:55.647Z"
   },
   {
    "duration": 39,
    "start_time": "2021-08-30T11:57:23.475Z"
   },
   {
    "duration": 56,
    "start_time": "2021-08-30T11:57:33.543Z"
   },
   {
    "duration": 43,
    "start_time": "2021-08-30T11:58:05.850Z"
   },
   {
    "duration": 41,
    "start_time": "2021-08-30T11:58:46.975Z"
   },
   {
    "duration": 53,
    "start_time": "2021-08-30T12:01:39.433Z"
   },
   {
    "duration": 12,
    "start_time": "2021-08-30T12:04:36.095Z"
   },
   {
    "duration": 289,
    "start_time": "2021-08-30T12:04:57.772Z"
   },
   {
    "duration": 298,
    "start_time": "2021-08-30T12:05:14.840Z"
   },
   {
    "duration": 334,
    "start_time": "2021-08-30T12:05:35.656Z"
   },
   {
    "duration": 344,
    "start_time": "2021-08-30T12:05:41.278Z"
   },
   {
    "duration": 14,
    "start_time": "2021-08-30T12:12:50.187Z"
   },
   {
    "duration": 350,
    "start_time": "2021-08-30T12:13:12.158Z"
   },
   {
    "duration": 384,
    "start_time": "2021-08-30T12:13:26.324Z"
   },
   {
    "duration": 333,
    "start_time": "2021-08-30T12:14:03.174Z"
   },
   {
    "duration": 373,
    "start_time": "2021-08-30T12:16:53.657Z"
   },
   {
    "duration": 381,
    "start_time": "2021-08-30T12:19:33.595Z"
   },
   {
    "duration": 292,
    "start_time": "2021-08-30T12:21:40.673Z"
   },
   {
    "duration": 119,
    "start_time": "2021-08-30T12:21:52.472Z"
   },
   {
    "duration": 10,
    "start_time": "2021-08-30T12:21:59.512Z"
   },
   {
    "duration": 28,
    "start_time": "2021-08-30T12:22:29.340Z"
   },
   {
    "duration": 90,
    "start_time": "2021-08-30T12:23:27.222Z"
   },
   {
    "duration": 323,
    "start_time": "2021-08-30T12:26:08.823Z"
   },
   {
    "duration": 39,
    "start_time": "2021-08-30T12:26:13.943Z"
   },
   {
    "duration": 13,
    "start_time": "2021-08-30T12:26:20.695Z"
   },
   {
    "duration": 54,
    "start_time": "2021-08-30T12:26:39.095Z"
   },
   {
    "duration": 15,
    "start_time": "2021-08-30T12:28:50.717Z"
   },
   {
    "duration": 17,
    "start_time": "2021-08-30T12:28:58.568Z"
   },
   {
    "duration": 7,
    "start_time": "2021-08-30T12:29:11.098Z"
   },
   {
    "duration": 7,
    "start_time": "2021-08-30T12:29:18.499Z"
   },
   {
    "duration": 15,
    "start_time": "2021-08-30T12:29:18.863Z"
   },
   {
    "duration": 4,
    "start_time": "2021-08-30T12:29:27.157Z"
   },
   {
    "duration": 14,
    "start_time": "2021-08-30T12:29:27.979Z"
   },
   {
    "duration": 323,
    "start_time": "2021-08-30T12:31:19.895Z"
   },
   {
    "duration": 26,
    "start_time": "2021-08-30T12:31:34.833Z"
   },
   {
    "duration": 70,
    "start_time": "2021-08-30T12:33:27.415Z"
   },
   {
    "duration": 71,
    "start_time": "2021-08-30T12:35:27.528Z"
   },
   {
    "duration": 62,
    "start_time": "2021-08-30T12:35:38.061Z"
   },
   {
    "duration": 14,
    "start_time": "2021-08-30T12:36:48.292Z"
   },
   {
    "duration": 64,
    "start_time": "2021-08-30T12:38:14.928Z"
   },
   {
    "duration": 13,
    "start_time": "2021-08-30T12:40:28.987Z"
   },
   {
    "duration": 11,
    "start_time": "2021-08-30T12:40:36.686Z"
   },
   {
    "duration": 8,
    "start_time": "2021-08-30T12:42:31.117Z"
   },
   {
    "duration": 19,
    "start_time": "2021-08-30T12:42:40.731Z"
   },
   {
    "duration": 37,
    "start_time": "2021-08-30T12:42:57.972Z"
   },
   {
    "duration": 76,
    "start_time": "2021-08-30T12:43:08.347Z"
   },
   {
    "duration": 73,
    "start_time": "2021-08-30T12:43:11.885Z"
   },
   {
    "duration": 6,
    "start_time": "2021-08-30T12:43:18.831Z"
   },
   {
    "duration": 76,
    "start_time": "2021-08-30T12:45:21.005Z"
   },
   {
    "duration": 301,
    "start_time": "2021-08-30T12:46:40.184Z"
   },
   {
    "duration": 432,
    "start_time": "2021-08-30T12:46:49.606Z"
   },
   {
    "duration": 368,
    "start_time": "2021-08-30T12:46:54.426Z"
   },
   {
    "duration": 351,
    "start_time": "2021-08-30T12:47:08.517Z"
   },
   {
    "duration": 383,
    "start_time": "2021-08-30T12:47:11.863Z"
   },
   {
    "duration": 318,
    "start_time": "2021-08-30T12:47:15.485Z"
   },
   {
    "duration": 76,
    "start_time": "2021-08-30T12:49:58.031Z"
   },
   {
    "duration": 109,
    "start_time": "2021-08-30T12:52:55.694Z"
   },
   {
    "duration": 54,
    "start_time": "2021-08-30T12:53:02.576Z"
   },
   {
    "duration": 2632,
    "start_time": "2021-08-30T12:56:46.089Z"
   },
   {
    "duration": 3104,
    "start_time": "2021-08-30T12:59:13.723Z"
   },
   {
    "duration": 17,
    "start_time": "2021-08-30T12:59:22.711Z"
   },
   {
    "duration": 23,
    "start_time": "2021-08-30T13:00:02.641Z"
   },
   {
    "duration": 78,
    "start_time": "2021-08-30T13:04:35.225Z"
   },
   {
    "duration": 110,
    "start_time": "2021-08-30T13:04:57.533Z"
   },
   {
    "duration": 388,
    "start_time": "2021-08-30T13:05:06.724Z"
   },
   {
    "duration": 7,
    "start_time": "2021-08-30T13:05:20.215Z"
   },
   {
    "duration": 58,
    "start_time": "2021-08-30T13:05:56.258Z"
   },
   {
    "duration": 119,
    "start_time": "2021-08-30T13:06:33.848Z"
   },
   {
    "duration": 75,
    "start_time": "2021-08-30T13:06:43.840Z"
   },
   {
    "duration": 10,
    "start_time": "2021-08-30T13:07:27.170Z"
   },
   {
    "duration": 59,
    "start_time": "2021-08-30T13:09:34.637Z"
   },
   {
    "duration": 12,
    "start_time": "2021-08-30T13:10:11.967Z"
   },
   {
    "duration": 11,
    "start_time": "2021-08-30T13:10:24.043Z"
   },
   {
    "duration": 10,
    "start_time": "2021-08-30T13:11:04.235Z"
   },
   {
    "duration": 50,
    "start_time": "2021-08-30T13:11:15.671Z"
   },
   {
    "duration": 9,
    "start_time": "2021-08-30T13:11:32.868Z"
   },
   {
    "duration": 844,
    "start_time": "2021-08-30T13:59:59.149Z"
   },
   {
    "duration": 17,
    "start_time": "2021-08-30T14:00:01.335Z"
   },
   {
    "duration": 13,
    "start_time": "2021-08-30T14:00:04.387Z"
   },
   {
    "duration": 6,
    "start_time": "2021-08-30T14:00:07.318Z"
   },
   {
    "duration": 63,
    "start_time": "2021-08-30T14:00:10.896Z"
   },
   {
    "duration": 69,
    "start_time": "2021-08-30T14:01:35.906Z"
   },
   {
    "duration": 37,
    "start_time": "2021-08-30T14:01:44.953Z"
   },
   {
    "duration": 33,
    "start_time": "2021-08-30T14:02:05.755Z"
   },
   {
    "duration": 13,
    "start_time": "2021-08-30T14:02:24.410Z"
   },
   {
    "duration": 97,
    "start_time": "2021-08-30T14:05:36.056Z"
   },
   {
    "duration": 16,
    "start_time": "2021-08-30T14:05:40.528Z"
   },
   {
    "duration": 14,
    "start_time": "2021-08-30T14:06:50.104Z"
   },
   {
    "duration": 380,
    "start_time": "2021-08-30T18:38:06.911Z"
   },
   {
    "duration": 842,
    "start_time": "2021-08-30T18:38:20.197Z"
   },
   {
    "duration": 21,
    "start_time": "2021-08-30T18:38:21.041Z"
   },
   {
    "duration": 15,
    "start_time": "2021-08-30T18:38:24.229Z"
   },
   {
    "duration": 4,
    "start_time": "2021-08-30T18:38:25.095Z"
   },
   {
    "duration": 17,
    "start_time": "2021-08-30T18:38:28.587Z"
   },
   {
    "duration": 16,
    "start_time": "2021-08-30T18:38:48.620Z"
   },
   {
    "duration": 16,
    "start_time": "2021-08-30T18:39:02.801Z"
   },
   {
    "duration": 18,
    "start_time": "2021-08-30T18:39:20.882Z"
   },
   {
    "duration": 23,
    "start_time": "2021-08-30T18:40:14.760Z"
   },
   {
    "duration": 30,
    "start_time": "2021-08-30T18:43:13.188Z"
   },
   {
    "duration": 14,
    "start_time": "2021-08-30T18:47:29.289Z"
   },
   {
    "duration": 40,
    "start_time": "2021-08-30T18:52:42.885Z"
   },
   {
    "duration": 64,
    "start_time": "2021-08-30T18:53:18.699Z"
   },
   {
    "duration": 5,
    "start_time": "2021-08-30T18:53:54.173Z"
   },
   {
    "duration": 498,
    "start_time": "2021-08-30T18:54:06.868Z"
   },
   {
    "duration": 12,
    "start_time": "2021-08-30T18:54:35.030Z"
   },
   {
    "duration": 379,
    "start_time": "2021-08-30T18:55:05.486Z"
   },
   {
    "duration": 12,
    "start_time": "2021-08-30T18:55:22.345Z"
   },
   {
    "duration": 454,
    "start_time": "2021-08-30T19:01:01.162Z"
   },
   {
    "duration": 83,
    "start_time": "2021-08-30T19:01:16.346Z"
   },
   {
    "duration": 33,
    "start_time": "2021-08-30T19:02:15.944Z"
   },
   {
    "duration": 52,
    "start_time": "2021-08-30T19:03:05.905Z"
   },
   {
    "duration": 13,
    "start_time": "2021-08-30T19:03:31.509Z"
   },
   {
    "duration": 21,
    "start_time": "2021-08-30T19:06:11.854Z"
   },
   {
    "duration": 7,
    "start_time": "2021-08-30T19:06:24.017Z"
   },
   {
    "duration": 5,
    "start_time": "2021-08-30T19:09:14.037Z"
   },
   {
    "duration": 15,
    "start_time": "2021-08-30T19:09:22.221Z"
   },
   {
    "duration": 64,
    "start_time": "2021-08-30T19:10:39.428Z"
   },
   {
    "duration": 67,
    "start_time": "2021-08-30T19:19:34.819Z"
   },
   {
    "duration": 35,
    "start_time": "2021-08-30T19:20:52.222Z"
   },
   {
    "duration": 54,
    "start_time": "2021-08-30T19:21:39.364Z"
   },
   {
    "duration": 66,
    "start_time": "2021-08-30T19:23:41.410Z"
   },
   {
    "duration": 73,
    "start_time": "2021-08-30T19:23:57.445Z"
   },
   {
    "duration": 50,
    "start_time": "2021-08-30T19:41:15.928Z"
   },
   {
    "duration": 359,
    "start_time": "2021-08-30T19:41:25.377Z"
   },
   {
    "duration": 123,
    "start_time": "2021-08-30T19:41:28.012Z"
   },
   {
    "duration": 8,
    "start_time": "2021-08-30T19:41:30.282Z"
   },
   {
    "duration": 8,
    "start_time": "2021-08-30T19:42:09.925Z"
   },
   {
    "duration": 7,
    "start_time": "2021-08-30T19:43:07.188Z"
   },
   {
    "duration": 15,
    "start_time": "2021-08-30T19:43:16.007Z"
   },
   {
    "duration": 6,
    "start_time": "2021-08-30T19:44:33.131Z"
   },
   {
    "duration": 69,
    "start_time": "2021-08-30T19:45:38.086Z"
   },
   {
    "duration": 15,
    "start_time": "2021-08-30T19:49:03.859Z"
   },
   {
    "duration": 14,
    "start_time": "2021-08-30T19:49:29.504Z"
   },
   {
    "duration": 23,
    "start_time": "2021-08-30T19:51:31.476Z"
   },
   {
    "duration": 11,
    "start_time": "2021-08-30T19:52:11.324Z"
   },
   {
    "duration": 14,
    "start_time": "2021-08-30T19:52:38.981Z"
   },
   {
    "duration": 54,
    "start_time": "2021-08-30T19:58:15.591Z"
   },
   {
    "duration": 34,
    "start_time": "2021-08-30T19:58:33.247Z"
   },
   {
    "duration": 24,
    "start_time": "2021-08-30T19:58:49.978Z"
   },
   {
    "duration": 35,
    "start_time": "2021-08-30T19:58:58.193Z"
   },
   {
    "duration": 35,
    "start_time": "2021-08-30T19:59:00.683Z"
   },
   {
    "duration": 24,
    "start_time": "2021-08-30T19:59:03.465Z"
   },
   {
    "duration": 112,
    "start_time": "2021-08-30T19:59:08.679Z"
   },
   {
    "duration": 23,
    "start_time": "2021-08-30T19:59:11.937Z"
   },
   {
    "duration": 59,
    "start_time": "2021-08-30T19:59:14.458Z"
   },
   {
    "duration": 23,
    "start_time": "2021-08-30T19:59:22.703Z"
   },
   {
    "duration": 307,
    "start_time": "2021-08-30T19:59:35.114Z"
   },
   {
    "duration": 552,
    "start_time": "2021-08-30T19:59:52.368Z"
   },
   {
    "duration": 455,
    "start_time": "2021-08-30T20:00:04.649Z"
   },
   {
    "duration": 446,
    "start_time": "2021-08-30T20:00:17.887Z"
   },
   {
    "duration": 505,
    "start_time": "2021-08-30T20:00:24.359Z"
   },
   {
    "duration": 25,
    "start_time": "2021-08-30T20:02:03.853Z"
   },
   {
    "duration": 4,
    "start_time": "2021-08-30T20:04:28.263Z"
   },
   {
    "duration": 15,
    "start_time": "2021-08-30T20:05:11.901Z"
   },
   {
    "duration": 372,
    "start_time": "2021-08-30T20:17:56.727Z"
   },
   {
    "duration": 370,
    "start_time": "2021-08-30T20:18:27.416Z"
   },
   {
    "duration": 5,
    "start_time": "2021-08-30T20:18:56.123Z"
   },
   {
    "duration": 14,
    "start_time": "2021-08-30T20:18:58.896Z"
   },
   {
    "duration": 15,
    "start_time": "2021-08-30T20:19:02.414Z"
   },
   {
    "duration": 324,
    "start_time": "2021-08-30T20:21:08.267Z"
   },
   {
    "duration": 549,
    "start_time": "2021-08-30T20:21:23.612Z"
   },
   {
    "duration": 113,
    "start_time": "2021-08-30T20:21:27.823Z"
   },
   {
    "duration": 329,
    "start_time": "2021-08-30T20:21:37.352Z"
   },
   {
    "duration": 367,
    "start_time": "2021-08-30T20:24:25.505Z"
   },
   {
    "duration": 20,
    "start_time": "2021-08-30T20:24:50.168Z"
   },
   {
    "duration": 94,
    "start_time": "2021-08-30T20:28:00.044Z"
   },
   {
    "duration": 52,
    "start_time": "2021-08-30T20:28:05.433Z"
   },
   {
    "duration": 37,
    "start_time": "2021-08-30T20:28:09.054Z"
   },
   {
    "duration": 44,
    "start_time": "2021-08-30T20:28:21.992Z"
   },
   {
    "duration": 31,
    "start_time": "2021-08-30T20:28:31.461Z"
   },
   {
    "duration": 3689,
    "start_time": "2021-08-30T20:29:28.054Z"
   },
   {
    "duration": 14,
    "start_time": "2021-08-30T20:30:15.243Z"
   },
   {
    "duration": 322,
    "start_time": "2021-08-30T20:30:36.216Z"
   },
   {
    "duration": 12,
    "start_time": "2021-08-30T20:30:47.751Z"
   },
   {
    "duration": 40,
    "start_time": "2021-08-30T20:30:56.965Z"
   },
   {
    "duration": 6,
    "start_time": "2021-08-30T20:37:21.290Z"
   },
   {
    "duration": 5,
    "start_time": "2021-08-30T20:42:56.585Z"
   },
   {
    "duration": 5,
    "start_time": "2021-08-30T20:43:12.756Z"
   },
   {
    "duration": 8,
    "start_time": "2021-08-30T20:44:12.650Z"
   },
   {
    "duration": 65,
    "start_time": "2021-08-30T20:44:35.893Z"
   },
   {
    "duration": 7,
    "start_time": "2021-08-30T20:45:39.161Z"
   },
   {
    "duration": 832,
    "start_time": "2021-08-30T20:45:45.524Z"
   },
   {
    "duration": -112,
    "start_time": "2021-08-30T20:45:57.276Z"
   },
   {
    "duration": 347,
    "start_time": "2021-08-30T20:46:02.353Z"
   },
   {
    "duration": 364,
    "start_time": "2021-08-30T20:46:06.045Z"
   },
   {
    "duration": 379,
    "start_time": "2021-08-30T20:46:10.546Z"
   },
   {
    "duration": 92,
    "start_time": "2021-08-30T20:46:25.362Z"
   },
   {
    "duration": 5,
    "start_time": "2021-08-30T20:47:30.252Z"
   },
   {
    "duration": 15,
    "start_time": "2021-08-30T20:48:51.017Z"
   },
   {
    "duration": 15,
    "start_time": "2021-08-30T20:48:52.518Z"
   },
   {
    "duration": 7,
    "start_time": "2021-08-30T20:48:54.613Z"
   },
   {
    "duration": 6,
    "start_time": "2021-08-30T20:48:55.225Z"
   },
   {
    "duration": 318,
    "start_time": "2021-08-30T20:49:02.547Z"
   },
   {
    "duration": 39,
    "start_time": "2021-08-30T20:49:04.144Z"
   },
   {
    "duration": 8,
    "start_time": "2021-08-30T20:59:19.513Z"
   },
   {
    "duration": 11,
    "start_time": "2021-08-30T21:01:41.757Z"
   },
   {
    "duration": 4748,
    "start_time": "2021-08-30T21:03:26.989Z"
   },
   {
    "duration": 388,
    "start_time": "2021-08-30T21:04:10.639Z"
   },
   {
    "duration": 5183,
    "start_time": "2021-08-30T21:04:27.555Z"
   },
   {
    "duration": 4527,
    "start_time": "2021-08-30T21:04:56.913Z"
   },
   {
    "duration": 1501,
    "start_time": "2021-08-30T21:06:46.887Z"
   },
   {
    "duration": 1443,
    "start_time": "2021-08-30T21:06:58.712Z"
   },
   {
    "duration": 1576,
    "start_time": "2021-08-30T21:07:26.097Z"
   },
   {
    "duration": 55,
    "start_time": "2021-08-30T21:07:45.789Z"
   },
   {
    "duration": 1188,
    "start_time": "2021-08-30T21:09:07.803Z"
   },
   {
    "duration": 60,
    "start_time": "2021-08-30T21:09:12.119Z"
   },
   {
    "duration": 51,
    "start_time": "2021-08-30T21:09:19.330Z"
   },
   {
    "duration": 61,
    "start_time": "2021-08-30T21:09:52.947Z"
   },
   {
    "duration": 348,
    "start_time": "2021-08-30T21:10:49.263Z"
   },
   {
    "duration": 127,
    "start_time": "2021-08-30T21:11:08.166Z"
   },
   {
    "duration": 17,
    "start_time": "2021-08-30T21:11:14.286Z"
   },
   {
    "duration": 43,
    "start_time": "2021-08-30T21:11:17.431Z"
   },
   {
    "duration": 1114,
    "start_time": "2021-08-30T21:11:33.162Z"
   },
   {
    "duration": 67,
    "start_time": "2021-08-30T21:11:34.340Z"
   },
   {
    "duration": 1196,
    "start_time": "2021-08-30T21:12:08.015Z"
   },
   {
    "duration": 78,
    "start_time": "2021-08-30T21:12:09.214Z"
   },
   {
    "duration": 51,
    "start_time": "2021-08-30T21:12:26.015Z"
   },
   {
    "duration": 36,
    "start_time": "2021-08-30T21:14:18.468Z"
   },
   {
    "duration": 35,
    "start_time": "2021-08-30T21:14:24.088Z"
   },
   {
    "duration": 42,
    "start_time": "2021-08-30T21:17:24.562Z"
   },
   {
    "duration": 123,
    "start_time": "2021-08-30T21:19:44.971Z"
   },
   {
    "duration": 19,
    "start_time": "2021-08-30T21:20:07.091Z"
   },
   {
    "duration": 10,
    "start_time": "2021-08-30T21:20:33.337Z"
   },
   {
    "duration": 334,
    "start_time": "2021-08-30T21:20:35.856Z"
   },
   {
    "duration": 12,
    "start_time": "2021-08-30T21:20:39.002Z"
   },
   {
    "duration": 371,
    "start_time": "2021-08-30T21:20:45.021Z"
   },
   {
    "duration": 408,
    "start_time": "2021-08-30T21:20:52.793Z"
   },
   {
    "duration": 313,
    "start_time": "2021-08-30T21:20:56.825Z"
   },
   {
    "duration": 11,
    "start_time": "2021-08-30T21:21:04.070Z"
   },
   {
    "duration": 42,
    "start_time": "2021-08-30T21:21:08.875Z"
   },
   {
    "duration": 46,
    "start_time": "2021-08-30T21:22:26.193Z"
   },
   {
    "duration": 825,
    "start_time": "2021-08-30T21:22:56.407Z"
   },
   {
    "duration": 15,
    "start_time": "2021-08-30T21:22:57.235Z"
   },
   {
    "duration": 13,
    "start_time": "2021-08-30T21:22:57.262Z"
   },
   {
    "duration": 5,
    "start_time": "2021-08-30T21:22:57.279Z"
   },
   {
    "duration": 27,
    "start_time": "2021-08-30T21:22:57.287Z"
   },
   {
    "duration": 55,
    "start_time": "2021-08-30T21:22:57.317Z"
   },
   {
    "duration": 440,
    "start_time": "2021-08-30T21:22:57.374Z"
   },
   {
    "duration": 13,
    "start_time": "2021-08-30T21:22:57.818Z"
   },
   {
    "duration": 339,
    "start_time": "2021-08-30T21:22:57.834Z"
   },
   {
    "duration": 11,
    "start_time": "2021-08-30T21:22:58.176Z"
   },
   {
    "duration": 42,
    "start_time": "2021-08-30T21:22:58.189Z"
   },
   {
    "duration": 77,
    "start_time": "2021-08-30T21:22:58.233Z"
   },
   {
    "duration": 12,
    "start_time": "2021-08-30T21:22:58.312Z"
   },
   {
    "duration": 43,
    "start_time": "2021-08-30T21:22:58.326Z"
   },
   {
    "duration": 7,
    "start_time": "2021-08-30T21:22:58.372Z"
   },
   {
    "duration": 8,
    "start_time": "2021-08-30T21:22:58.381Z"
   },
   {
    "duration": 18,
    "start_time": "2021-08-30T21:22:58.392Z"
   },
   {
    "duration": 5,
    "start_time": "2021-08-30T21:22:58.413Z"
   },
   {
    "duration": 53,
    "start_time": "2021-08-30T21:22:58.421Z"
   },
   {
    "duration": 12,
    "start_time": "2021-08-30T21:22:58.477Z"
   },
   {
    "duration": 22,
    "start_time": "2021-08-30T21:22:58.491Z"
   },
   {
    "duration": 4,
    "start_time": "2021-08-30T21:22:58.515Z"
   },
   {
    "duration": 13,
    "start_time": "2021-08-30T21:22:58.563Z"
   },
   {
    "duration": 15,
    "start_time": "2021-08-30T21:22:58.579Z"
   },
   {
    "duration": 34,
    "start_time": "2021-08-30T21:22:58.596Z"
   },
   {
    "duration": 40,
    "start_time": "2021-08-30T21:22:58.632Z"
   },
   {
    "duration": 37,
    "start_time": "2021-08-30T21:22:58.675Z"
   },
   {
    "duration": 5,
    "start_time": "2021-08-30T21:22:58.714Z"
   },
   {
    "duration": 47,
    "start_time": "2021-08-30T21:22:58.721Z"
   },
   {
    "duration": 26,
    "start_time": "2021-08-30T21:22:58.771Z"
   },
   {
    "duration": 21,
    "start_time": "2021-08-30T21:22:58.799Z"
   },
   {
    "duration": 38,
    "start_time": "2021-08-30T21:22:58.822Z"
   },
   {
    "duration": 1102,
    "start_time": "2021-08-30T21:22:58.862Z"
   },
   {
    "duration": 37,
    "start_time": "2021-08-30T21:23:17.978Z"
   },
   {
    "duration": 7,
    "start_time": "2021-08-30T21:24:20.102Z"
   },
   {
    "duration": 16,
    "start_time": "2021-08-30T21:24:21.807Z"
   },
   {
    "duration": 16,
    "start_time": "2021-08-30T21:24:23.945Z"
   },
   {
    "duration": 7,
    "start_time": "2021-08-30T21:24:24.490Z"
   },
   {
    "duration": 37,
    "start_time": "2021-08-30T21:24:24.970Z"
   },
   {
    "duration": 898,
    "start_time": "2021-08-31T10:14:24.330Z"
   },
   {
    "duration": 24,
    "start_time": "2021-08-31T10:14:25.231Z"
   },
   {
    "duration": 28,
    "start_time": "2021-08-31T10:14:25.259Z"
   },
   {
    "duration": 29,
    "start_time": "2021-08-31T10:14:25.289Z"
   },
   {
    "duration": 48,
    "start_time": "2021-08-31T10:14:25.320Z"
   },
   {
    "duration": 24,
    "start_time": "2021-08-31T10:14:25.372Z"
   },
   {
    "duration": 468,
    "start_time": "2021-08-31T10:14:25.398Z"
   },
   {
    "duration": 12,
    "start_time": "2021-08-31T10:14:25.873Z"
   },
   {
    "duration": 349,
    "start_time": "2021-08-31T10:14:25.888Z"
   },
   {
    "duration": 25,
    "start_time": "2021-08-31T10:14:26.240Z"
   },
   {
    "duration": 43,
    "start_time": "2021-08-31T10:14:26.269Z"
   },
   {
    "duration": 75,
    "start_time": "2021-08-31T10:14:26.315Z"
   },
   {
    "duration": 13,
    "start_time": "2021-08-31T10:14:26.392Z"
   },
   {
    "duration": 36,
    "start_time": "2021-08-31T10:14:26.407Z"
   },
   {
    "duration": 26,
    "start_time": "2021-08-31T10:14:26.446Z"
   },
   {
    "duration": 28,
    "start_time": "2021-08-31T10:14:26.475Z"
   },
   {
    "duration": 28,
    "start_time": "2021-08-31T10:14:26.505Z"
   },
   {
    "duration": 20,
    "start_time": "2021-08-31T10:14:26.535Z"
   },
   {
    "duration": 23,
    "start_time": "2021-08-31T10:14:26.558Z"
   },
   {
    "duration": 21,
    "start_time": "2021-08-31T10:14:26.583Z"
   },
   {
    "duration": 30,
    "start_time": "2021-08-31T10:14:26.607Z"
   },
   {
    "duration": 18,
    "start_time": "2021-08-31T10:14:26.639Z"
   },
   {
    "duration": 27,
    "start_time": "2021-08-31T10:14:26.665Z"
   },
   {
    "duration": 14,
    "start_time": "2021-08-31T10:14:26.695Z"
   },
   {
    "duration": 56,
    "start_time": "2021-08-31T10:14:26.712Z"
   },
   {
    "duration": 11,
    "start_time": "2021-08-31T10:14:26.771Z"
   },
   {
    "duration": 55,
    "start_time": "2021-08-31T10:14:26.784Z"
   },
   {
    "duration": 17,
    "start_time": "2021-08-31T10:14:26.841Z"
   },
   {
    "duration": 38,
    "start_time": "2021-08-31T10:14:26.862Z"
   },
   {
    "duration": 26,
    "start_time": "2021-08-31T10:14:26.903Z"
   },
   {
    "duration": 21,
    "start_time": "2021-08-31T10:14:26.931Z"
   },
   {
    "duration": 55,
    "start_time": "2021-08-31T10:14:26.954Z"
   },
   {
    "duration": 1401,
    "start_time": "2021-08-31T10:14:27.012Z"
   },
   {
    "duration": 49,
    "start_time": "2021-08-31T10:14:28.415Z"
   },
   {
    "duration": 15,
    "start_time": "2021-08-31T10:17:07.269Z"
   },
   {
    "duration": 352,
    "start_time": "2021-08-31T10:20:26.821Z"
   },
   {
    "duration": 95,
    "start_time": "2021-08-31T10:20:45.789Z"
   },
   {
    "duration": 405,
    "start_time": "2021-08-31T10:20:48.842Z"
   },
   {
    "duration": 433,
    "start_time": "2021-08-31T10:20:56.906Z"
   },
   {
    "duration": 649,
    "start_time": "2021-08-31T10:21:11.256Z"
   },
   {
    "duration": 594,
    "start_time": "2021-08-31T10:21:13.786Z"
   },
   {
    "duration": 401,
    "start_time": "2021-08-31T10:22:25.442Z"
   },
   {
    "duration": 54,
    "start_time": "2021-08-31T10:24:12.229Z"
   },
   {
    "duration": 14,
    "start_time": "2021-08-31T10:26:16.333Z"
   },
   {
    "duration": 42,
    "start_time": "2021-08-31T10:26:23.511Z"
   },
   {
    "duration": 44,
    "start_time": "2021-08-31T10:26:33.149Z"
   },
   {
    "duration": 76,
    "start_time": "2021-08-31T10:26:42.047Z"
   },
   {
    "duration": 48,
    "start_time": "2021-08-31T10:26:44.821Z"
   },
   {
    "duration": 380,
    "start_time": "2021-08-31T10:28:09.654Z"
   },
   {
    "duration": 205,
    "start_time": "2021-08-31T10:28:35.653Z"
   },
   {
    "duration": 100,
    "start_time": "2021-08-31T10:30:37.525Z"
   },
   {
    "duration": 285,
    "start_time": "2021-08-31T10:30:40.662Z"
   },
   {
    "duration": 230,
    "start_time": "2021-08-31T10:31:09.015Z"
   },
   {
    "duration": 230,
    "start_time": "2021-08-31T10:31:59.690Z"
   },
   {
    "duration": 13,
    "start_time": "2021-08-31T10:42:41.669Z"
   },
   {
    "duration": 366,
    "start_time": "2021-08-31T10:43:00.479Z"
   },
   {
    "duration": 357,
    "start_time": "2021-08-31T10:43:06.364Z"
   },
   {
    "duration": 546,
    "start_time": "2021-08-31T10:43:21.375Z"
   },
   {
    "duration": 351,
    "start_time": "2021-08-31T10:43:29.971Z"
   },
   {
    "duration": 387,
    "start_time": "2021-08-31T10:43:38.823Z"
   },
   {
    "duration": 473,
    "start_time": "2021-08-31T10:43:48.702Z"
   },
   {
    "duration": 317,
    "start_time": "2021-08-31T10:43:51.927Z"
   },
   {
    "duration": 356,
    "start_time": "2021-08-31T10:44:01.786Z"
   },
   {
    "duration": 466,
    "start_time": "2021-08-31T10:45:27.238Z"
   },
   {
    "duration": 34,
    "start_time": "2021-08-31T10:50:05.662Z"
   },
   {
    "duration": 364,
    "start_time": "2021-08-31T10:51:05.101Z"
   },
   {
    "duration": 351,
    "start_time": "2021-08-31T10:51:22.073Z"
   },
   {
    "duration": 356,
    "start_time": "2021-08-31T10:51:29.416Z"
   },
   {
    "duration": 438,
    "start_time": "2021-08-31T10:51:36.995Z"
   },
   {
    "duration": -15,
    "start_time": "2021-08-31T10:52:10.814Z"
   },
   {
    "duration": 462,
    "start_time": "2021-08-31T10:52:16.551Z"
   },
   {
    "duration": 253,
    "start_time": "2021-08-31T10:52:24.232Z"
   },
   {
    "duration": 202,
    "start_time": "2021-08-31T10:52:52.285Z"
   },
   {
    "duration": 203,
    "start_time": "2021-08-31T10:56:22.585Z"
   },
   {
    "duration": 235,
    "start_time": "2021-08-31T10:56:30.963Z"
   },
   {
    "duration": 10,
    "start_time": "2021-08-31T10:59:06.880Z"
   },
   {
    "duration": 467,
    "start_time": "2021-08-31T10:59:26.924Z"
   },
   {
    "duration": 431,
    "start_time": "2021-08-31T10:59:38.723Z"
   },
   {
    "duration": 346,
    "start_time": "2021-08-31T10:59:45.761Z"
   },
   {
    "duration": 322,
    "start_time": "2021-08-31T10:59:59.056Z"
   },
   {
    "duration": 216,
    "start_time": "2021-08-31T11:00:33.758Z"
   },
   {
    "duration": 63,
    "start_time": "2021-08-31T11:01:10.632Z"
   },
   {
    "duration": 10,
    "start_time": "2021-08-31T11:01:35.076Z"
   },
   {
    "duration": 15,
    "start_time": "2021-08-31T11:01:44.048Z"
   },
   {
    "duration": 71,
    "start_time": "2021-08-31T11:02:01.755Z"
   },
   {
    "duration": 77,
    "start_time": "2021-08-31T11:02:11.167Z"
   },
   {
    "duration": 17,
    "start_time": "2021-08-31T11:02:24.362Z"
   },
   {
    "duration": 99,
    "start_time": "2021-08-31T11:04:21.847Z"
   },
   {
    "duration": 20,
    "start_time": "2021-08-31T11:04:30.858Z"
   },
   {
    "duration": 23,
    "start_time": "2021-08-31T11:05:19.276Z"
   },
   {
    "duration": 27,
    "start_time": "2021-08-31T11:05:45.137Z"
   },
   {
    "duration": 31,
    "start_time": "2021-08-31T11:08:07.658Z"
   },
   {
    "duration": 31,
    "start_time": "2021-08-31T11:08:30.162Z"
   },
   {
    "duration": 23,
    "start_time": "2021-08-31T11:08:39.115Z"
   },
   {
    "duration": 13,
    "start_time": "2021-08-31T11:15:32.349Z"
   },
   {
    "duration": 322,
    "start_time": "2021-08-31T11:15:39.449Z"
   },
   {
    "duration": 308,
    "start_time": "2021-08-31T11:15:43.894Z"
   },
   {
    "duration": 336,
    "start_time": "2021-08-31T11:15:49.888Z"
   },
   {
    "duration": 356,
    "start_time": "2021-08-31T11:16:02.679Z"
   },
   {
    "duration": 353,
    "start_time": "2021-08-31T11:16:06.865Z"
   },
   {
    "duration": 514,
    "start_time": "2021-08-31T11:16:10.378Z"
   },
   {
    "duration": 370,
    "start_time": "2021-08-31T11:16:19.192Z"
   },
   {
    "duration": 356,
    "start_time": "2021-08-31T11:16:22.528Z"
   },
   {
    "duration": 226,
    "start_time": "2021-08-31T11:16:42.494Z"
   },
   {
    "duration": 222,
    "start_time": "2021-08-31T11:19:18.839Z"
   },
   {
    "duration": 112,
    "start_time": "2021-08-31T11:31:22.432Z"
   },
   {
    "duration": 104,
    "start_time": "2021-08-31T11:32:18.109Z"
   },
   {
    "duration": 105,
    "start_time": "2021-08-31T11:32:36.214Z"
   },
   {
    "duration": 341,
    "start_time": "2021-08-31T11:32:51.940Z"
   },
   {
    "duration": 373,
    "start_time": "2021-08-31T11:32:58.977Z"
   },
   {
    "duration": 497,
    "start_time": "2021-08-31T11:33:03.278Z"
   },
   {
    "duration": 12,
    "start_time": "2021-08-31T11:34:49.097Z"
   },
   {
    "duration": 10,
    "start_time": "2021-08-31T11:36:36.589Z"
   },
   {
    "duration": 14,
    "start_time": "2021-08-31T11:36:55.552Z"
   },
   {
    "duration": 204,
    "start_time": "2021-08-31T11:38:44.018Z"
   },
   {
    "duration": 226,
    "start_time": "2021-08-31T11:38:47.822Z"
   },
   {
    "duration": 13,
    "start_time": "2021-08-31T11:44:56.315Z"
   },
   {
    "duration": 349,
    "start_time": "2021-08-31T11:45:08.869Z"
   },
   {
    "duration": 694,
    "start_time": "2021-08-31T11:45:29.488Z"
   },
   {
    "duration": 389,
    "start_time": "2021-08-31T11:45:33.710Z"
   },
   {
    "duration": 387,
    "start_time": "2021-08-31T11:45:38.560Z"
   },
   {
    "duration": 616,
    "start_time": "2021-08-31T11:45:50.032Z"
   },
   {
    "duration": 344,
    "start_time": "2021-08-31T11:46:10.641Z"
   },
   {
    "duration": 393,
    "start_time": "2021-08-31T11:46:15.319Z"
   },
   {
    "duration": 432,
    "start_time": "2021-08-31T11:46:17.847Z"
   },
   {
    "duration": 676,
    "start_time": "2021-08-31T11:46:21.692Z"
   },
   {
    "duration": 591,
    "start_time": "2021-08-31T11:47:49.471Z"
   },
   {
    "duration": 714,
    "start_time": "2021-08-31T11:47:56.043Z"
   },
   {
    "duration": 559,
    "start_time": "2021-08-31T11:47:59.954Z"
   },
   {
    "duration": 542,
    "start_time": "2021-08-31T11:48:06.027Z"
   },
   {
    "duration": 847,
    "start_time": "2021-08-31T11:48:19.552Z"
   },
   {
    "duration": 586,
    "start_time": "2021-08-31T11:50:11.237Z"
   },
   {
    "duration": 574,
    "start_time": "2021-08-31T11:50:19.823Z"
   },
   {
    "duration": 578,
    "start_time": "2021-08-31T11:51:18.888Z"
   },
   {
    "duration": 7,
    "start_time": "2021-08-31T12:01:46.558Z"
   },
   {
    "duration": 768,
    "start_time": "2021-08-31T12:01:54.399Z"
   },
   {
    "duration": 12,
    "start_time": "2021-08-31T12:02:21.063Z"
   },
   {
    "duration": 12,
    "start_time": "2021-08-31T12:03:12.439Z"
   },
   {
    "duration": 10,
    "start_time": "2021-08-31T12:03:51.669Z"
   },
   {
    "duration": 266,
    "start_time": "2021-08-31T12:07:29.355Z"
   },
   {
    "duration": 250,
    "start_time": "2021-08-31T12:07:34.110Z"
   },
   {
    "duration": 241,
    "start_time": "2021-08-31T12:07:44.073Z"
   },
   {
    "duration": 471,
    "start_time": "2021-08-31T12:08:00.818Z"
   },
   {
    "duration": 570,
    "start_time": "2021-08-31T12:14:08.124Z"
   },
   {
    "duration": 448,
    "start_time": "2021-08-31T12:14:28.806Z"
   },
   {
    "duration": 614,
    "start_time": "2021-08-31T12:14:50.586Z"
   },
   {
    "duration": 320,
    "start_time": "2021-08-31T12:17:28.769Z"
   },
   {
    "duration": 637,
    "start_time": "2021-08-31T12:17:44.245Z"
   },
   {
    "duration": 751,
    "start_time": "2021-08-31T12:18:01.025Z"
   },
   {
    "duration": 17,
    "start_time": "2021-08-31T12:19:15.084Z"
   },
   {
    "duration": 262,
    "start_time": "2021-08-31T12:20:05.654Z"
   },
   {
    "duration": 10,
    "start_time": "2021-08-31T12:20:28.917Z"
   },
   {
    "duration": 10,
    "start_time": "2021-08-31T12:20:45.242Z"
   },
   {
    "duration": 10,
    "start_time": "2021-08-31T12:20:47.371Z"
   },
   {
    "duration": 11,
    "start_time": "2021-08-31T12:25:52.516Z"
   },
   {
    "duration": 10,
    "start_time": "2021-08-31T12:25:59.231Z"
   },
   {
    "duration": 601,
    "start_time": "2021-08-31T12:32:58.330Z"
   },
   {
    "duration": 263,
    "start_time": "2021-08-31T12:40:11.415Z"
   },
   {
    "duration": 15,
    "start_time": "2021-08-31T12:40:15.744Z"
   },
   {
    "duration": 737,
    "start_time": "2021-08-31T12:40:16.759Z"
   },
   {
    "duration": 692,
    "start_time": "2021-08-31T12:41:57.328Z"
   },
   {
    "duration": 15,
    "start_time": "2021-08-31T12:42:54.346Z"
   },
   {
    "duration": 8,
    "start_time": "2021-08-31T12:43:57.922Z"
   },
   {
    "duration": 10,
    "start_time": "2021-08-31T12:44:24.353Z"
   },
   {
    "duration": 10,
    "start_time": "2021-08-31T12:44:35.674Z"
   },
   {
    "duration": 8,
    "start_time": "2021-08-31T12:44:40.078Z"
   },
   {
    "duration": 15,
    "start_time": "2021-08-31T12:44:46.658Z"
   },
   {
    "duration": 8,
    "start_time": "2021-08-31T12:44:50.548Z"
   },
   {
    "duration": 8,
    "start_time": "2021-08-31T12:44:52.842Z"
   },
   {
    "duration": 7,
    "start_time": "2021-08-31T12:44:54.994Z"
   },
   {
    "duration": 7,
    "start_time": "2021-08-31T12:44:57.038Z"
   },
   {
    "duration": 8,
    "start_time": "2021-08-31T12:45:00.000Z"
   },
   {
    "duration": 7,
    "start_time": "2021-08-31T12:45:02.937Z"
   },
   {
    "duration": 8,
    "start_time": "2021-08-31T12:45:05.773Z"
   },
   {
    "duration": 7,
    "start_time": "2021-08-31T12:45:07.907Z"
   },
   {
    "duration": 9,
    "start_time": "2021-08-31T12:45:27.554Z"
   },
   {
    "duration": 3693,
    "start_time": "2021-08-31T12:45:39.071Z"
   },
   {
    "duration": 15,
    "start_time": "2021-08-31T12:46:28.959Z"
   },
   {
    "duration": 7,
    "start_time": "2021-08-31T12:46:37.497Z"
   },
   {
    "duration": 8,
    "start_time": "2021-08-31T12:46:43.109Z"
   },
   {
    "duration": 512,
    "start_time": "2021-08-31T12:47:08.266Z"
   },
   {
    "duration": 7,
    "start_time": "2021-08-31T12:47:17.220Z"
   },
   {
    "duration": 7,
    "start_time": "2021-08-31T12:47:25.942Z"
   },
   {
    "duration": 7,
    "start_time": "2021-08-31T12:47:30.038Z"
   },
   {
    "duration": 346,
    "start_time": "2021-08-31T12:47:55.670Z"
   },
   {
    "duration": 419,
    "start_time": "2021-08-31T12:48:16.301Z"
   },
   {
    "duration": 623,
    "start_time": "2021-08-31T12:49:43.417Z"
   },
   {
    "duration": 648,
    "start_time": "2021-08-31T12:50:18.797Z"
   },
   {
    "duration": 913,
    "start_time": "2021-08-31T12:51:05.833Z"
   },
   {
    "duration": 10,
    "start_time": "2021-08-31T12:51:10.392Z"
   },
   {
    "duration": 319,
    "start_time": "2021-08-31T12:52:02.797Z"
   },
   {
    "duration": 10,
    "start_time": "2021-08-31T12:52:07.646Z"
   },
   {
    "duration": 10,
    "start_time": "2021-08-31T12:52:26.506Z"
   },
   {
    "duration": 10,
    "start_time": "2021-08-31T12:52:39.217Z"
   },
   {
    "duration": 10,
    "start_time": "2021-08-31T12:53:04.880Z"
   },
   {
    "duration": 14,
    "start_time": "2021-08-31T12:53:08.981Z"
   },
   {
    "duration": 13,
    "start_time": "2021-08-31T12:53:12.647Z"
   },
   {
    "duration": 26,
    "start_time": "2021-08-31T12:53:43.099Z"
   },
   {
    "duration": 26,
    "start_time": "2021-08-31T12:54:03.583Z"
   },
   {
    "duration": 34,
    "start_time": "2021-08-31T12:54:05.560Z"
   },
   {
    "duration": 259,
    "start_time": "2021-08-31T12:55:32.412Z"
   },
   {
    "duration": 306,
    "start_time": "2021-08-31T12:55:43.704Z"
   },
   {
    "duration": 13,
    "start_time": "2021-08-31T12:57:23.963Z"
   },
   {
    "duration": 20,
    "start_time": "2021-08-31T12:58:00.368Z"
   },
   {
    "duration": 275,
    "start_time": "2021-08-31T12:58:33.527Z"
   },
   {
    "duration": 1251,
    "start_time": "2021-08-31T12:59:53.875Z"
   },
   {
    "duration": 6,
    "start_time": "2021-08-31T13:00:57.225Z"
   },
   {
    "duration": 6,
    "start_time": "2021-08-31T13:01:03.978Z"
   },
   {
    "duration": 32,
    "start_time": "2021-08-31T13:01:08.726Z"
   },
   {
    "duration": 563,
    "start_time": "2021-08-31T13:01:19.343Z"
   },
   {
    "duration": 513,
    "start_time": "2021-08-31T13:01:53.170Z"
   },
   {
    "duration": 250,
    "start_time": "2021-08-31T13:02:04.303Z"
   },
   {
    "duration": 608,
    "start_time": "2021-08-31T13:02:20.744Z"
   },
   {
    "duration": 567,
    "start_time": "2021-08-31T13:02:23.211Z"
   },
   {
    "duration": 12,
    "start_time": "2021-08-31T13:02:28.606Z"
   },
   {
    "duration": 779,
    "start_time": "2021-08-31T13:02:31.819Z"
   },
   {
    "duration": 13,
    "start_time": "2021-08-31T13:02:34.758Z"
   },
   {
    "duration": 8,
    "start_time": "2021-08-31T13:02:49.593Z"
   },
   {
    "duration": 14,
    "start_time": "2021-08-31T13:11:08.577Z"
   },
   {
    "duration": 41,
    "start_time": "2021-08-31T13:13:33.255Z"
   },
   {
    "duration": 49,
    "start_time": "2021-08-31T13:13:44.803Z"
   },
   {
    "duration": 285,
    "start_time": "2021-08-31T13:14:37.414Z"
   },
   {
    "duration": 329,
    "start_time": "2021-08-31T13:14:48.100Z"
   },
   {
    "duration": 269,
    "start_time": "2021-08-31T13:14:53.253Z"
   },
   {
    "duration": 53,
    "start_time": "2021-08-31T13:14:58.383Z"
   },
   {
    "duration": 34,
    "start_time": "2021-08-31T13:15:07.631Z"
   },
   {
    "duration": 35,
    "start_time": "2021-08-31T13:17:20.188Z"
   },
   {
    "duration": 44,
    "start_time": "2021-08-31T13:17:37.238Z"
   },
   {
    "duration": 39,
    "start_time": "2021-08-31T13:29:45.479Z"
   },
   {
    "duration": 15,
    "start_time": "2021-08-31T13:30:36.138Z"
   },
   {
    "duration": 274,
    "start_time": "2021-08-31T13:33:12.966Z"
   },
   {
    "duration": 43,
    "start_time": "2021-08-31T13:33:32.393Z"
   },
   {
    "duration": 21,
    "start_time": "2021-08-31T13:33:42.468Z"
   },
   {
    "duration": 16,
    "start_time": "2021-08-31T13:33:55.460Z"
   },
   {
    "duration": 402,
    "start_time": "2021-09-01T11:58:57.668Z"
   },
   {
    "duration": 817,
    "start_time": "2021-09-01T11:59:11.973Z"
   },
   {
    "duration": 11,
    "start_time": "2021-09-01T11:59:12.791Z"
   },
   {
    "duration": 9,
    "start_time": "2021-09-01T11:59:12.804Z"
   },
   {
    "duration": 3,
    "start_time": "2021-09-01T11:59:12.815Z"
   },
   {
    "duration": 19,
    "start_time": "2021-09-01T11:59:12.819Z"
   },
   {
    "duration": 14,
    "start_time": "2021-09-01T11:59:12.840Z"
   },
   {
    "duration": 302,
    "start_time": "2021-09-01T11:59:12.856Z"
   },
   {
    "duration": 9,
    "start_time": "2021-09-01T11:59:13.161Z"
   },
   {
    "duration": 213,
    "start_time": "2021-09-01T11:59:13.172Z"
   },
   {
    "duration": 12,
    "start_time": "2021-09-01T11:59:13.387Z"
   },
   {
    "duration": 27,
    "start_time": "2021-09-01T11:59:13.401Z"
   },
   {
    "duration": 32,
    "start_time": "2021-09-01T11:59:13.429Z"
   },
   {
    "duration": 11,
    "start_time": "2021-09-01T11:59:13.491Z"
   },
   {
    "duration": 12,
    "start_time": "2021-09-01T11:59:13.504Z"
   },
   {
    "duration": 7,
    "start_time": "2021-09-01T11:59:13.518Z"
   },
   {
    "duration": 5,
    "start_time": "2021-09-01T11:59:13.527Z"
   },
   {
    "duration": 19,
    "start_time": "2021-09-01T11:59:13.534Z"
   },
   {
    "duration": 5,
    "start_time": "2021-09-01T11:59:13.555Z"
   },
   {
    "duration": 16,
    "start_time": "2021-09-01T11:59:13.593Z"
   },
   {
    "duration": 12,
    "start_time": "2021-09-01T11:59:13.611Z"
   },
   {
    "duration": 13,
    "start_time": "2021-09-01T11:59:13.625Z"
   },
   {
    "duration": 2,
    "start_time": "2021-09-01T11:59:13.640Z"
   },
   {
    "duration": 48,
    "start_time": "2021-09-01T11:59:13.646Z"
   },
   {
    "duration": 13,
    "start_time": "2021-09-01T11:59:13.696Z"
   },
   {
    "duration": 19,
    "start_time": "2021-09-01T11:59:13.711Z"
   },
   {
    "duration": 7,
    "start_time": "2021-09-01T11:59:13.732Z"
   },
   {
    "duration": 51,
    "start_time": "2021-09-01T11:59:13.741Z"
   },
   {
    "duration": 6,
    "start_time": "2021-09-01T11:59:13.794Z"
   },
   {
    "duration": 19,
    "start_time": "2021-09-01T11:59:13.802Z"
   },
   {
    "duration": 15,
    "start_time": "2021-09-01T11:59:13.824Z"
   },
   {
    "duration": 8,
    "start_time": "2021-09-01T11:59:13.842Z"
   },
   {
    "duration": 61,
    "start_time": "2021-09-01T11:59:13.852Z"
   },
   {
    "duration": 1224,
    "start_time": "2021-09-01T11:59:13.915Z"
   },
   {
    "duration": 23,
    "start_time": "2021-09-01T11:59:15.141Z"
   },
   {
    "duration": 28,
    "start_time": "2021-09-01T11:59:15.166Z"
   },
   {
    "duration": 25,
    "start_time": "2021-09-01T11:59:15.196Z"
   },
   {
    "duration": 234,
    "start_time": "2021-09-01T11:59:15.223Z"
   },
   {
    "duration": 168,
    "start_time": "2021-09-01T11:59:15.458Z"
   },
   {
    "duration": 12,
    "start_time": "2021-09-01T11:59:15.628Z"
   },
   {
    "duration": 11,
    "start_time": "2021-09-01T11:59:15.642Z"
   },
   {
    "duration": 423,
    "start_time": "2021-09-01T11:59:15.656Z"
   },
   {
    "duration": 142,
    "start_time": "2021-09-01T11:59:16.081Z"
   },
   {
    "duration": 9,
    "start_time": "2021-09-01T11:59:16.225Z"
   },
   {
    "duration": 186,
    "start_time": "2021-09-01T11:59:16.236Z"
   },
   {
    "duration": 16,
    "start_time": "2021-09-01T11:59:16.424Z"
   },
   {
    "duration": 134,
    "start_time": "2021-09-01T11:59:16.441Z"
   },
   {
    "duration": 18,
    "start_time": "2021-09-01T11:59:16.577Z"
   },
   {
    "duration": 200,
    "start_time": "2021-09-01T11:59:16.597Z"
   },
   {
    "duration": 195,
    "start_time": "2021-09-01T11:59:16.799Z"
   },
   {
    "duration": 105,
    "start_time": "2021-09-01T11:59:16.997Z"
   },
   {
    "duration": 11,
    "start_time": "2021-09-01T11:59:17.104Z"
   },
   {
    "duration": 394,
    "start_time": "2021-09-01T11:59:17.117Z"
   },
   {
    "duration": 202,
    "start_time": "2021-09-01T11:59:17.513Z"
   },
   {
    "duration": 11,
    "start_time": "2021-09-01T11:59:17.717Z"
   },
   {
    "duration": 549,
    "start_time": "2021-09-01T11:59:17.730Z"
   },
   {
    "duration": 13,
    "start_time": "2021-09-01T11:59:18.282Z"
   },
   {
    "duration": 8,
    "start_time": "2021-09-01T11:59:18.298Z"
   },
   {
    "duration": 12,
    "start_time": "2021-09-01T11:59:18.308Z"
   },
   {
    "duration": 219,
    "start_time": "2021-09-01T11:59:18.322Z"
   },
   {
    "duration": 319,
    "start_time": "2021-09-01T11:59:18.543Z"
   },
   {
    "duration": 9,
    "start_time": "2021-09-01T11:59:18.865Z"
   },
   {
    "duration": 385,
    "start_time": "2021-09-01T11:59:18.876Z"
   },
   {
    "duration": 7,
    "start_time": "2021-09-01T11:59:19.263Z"
   },
   {
    "duration": 21,
    "start_time": "2021-09-01T11:59:19.272Z"
   },
   {
    "duration": 22,
    "start_time": "2021-09-01T11:59:19.295Z"
   },
   {
    "duration": 8,
    "start_time": "2021-09-01T11:59:19.319Z"
   },
   {
    "duration": 25,
    "start_time": "2021-09-01T11:59:19.329Z"
   },
   {
    "duration": 9,
    "start_time": "2021-09-01T11:59:19.359Z"
   },
   {
    "duration": 31,
    "start_time": "2021-09-01T11:59:19.370Z"
   },
   {
    "duration": 19,
    "start_time": "2021-09-01T11:59:19.403Z"
   },
   {
    "duration": 4,
    "start_time": "2021-09-01T11:59:19.424Z"
   },
   {
    "duration": 16,
    "start_time": "2021-09-01T11:59:53.648Z"
   },
   {
    "duration": 28,
    "start_time": "2021-09-01T12:02:54.717Z"
   },
   {
    "duration": 20,
    "start_time": "2021-09-01T12:03:34.072Z"
   },
   {
    "duration": 26,
    "start_time": "2021-09-01T12:03:41.611Z"
   },
   {
    "duration": 26,
    "start_time": "2021-09-01T12:04:19.151Z"
   },
   {
    "duration": 24,
    "start_time": "2021-09-01T12:05:52.310Z"
   },
   {
    "duration": 25,
    "start_time": "2021-09-01T12:05:58.756Z"
   },
   {
    "duration": 25,
    "start_time": "2021-09-01T12:06:09.229Z"
   },
   {
    "duration": 424,
    "start_time": "2021-09-01T12:09:34.287Z"
   },
   {
    "duration": 23,
    "start_time": "2021-09-01T12:09:37.140Z"
   },
   {
    "duration": 23,
    "start_time": "2021-09-01T12:09:51.415Z"
   },
   {
    "duration": 374,
    "start_time": "2021-09-01T12:22:12.098Z"
   },
   {
    "duration": 22,
    "start_time": "2021-09-01T12:22:14.420Z"
   },
   {
    "duration": 6,
    "start_time": "2021-09-01T12:22:42.237Z"
   },
   {
    "duration": 424,
    "start_time": "2021-09-01T12:25:05.640Z"
   },
   {
    "duration": 384,
    "start_time": "2021-09-01T12:34:51.877Z"
   },
   {
    "duration": 373,
    "start_time": "2021-09-01T12:35:26.534Z"
   },
   {
    "duration": 425,
    "start_time": "2021-09-01T12:35:31.908Z"
   },
   {
    "duration": 370,
    "start_time": "2021-09-01T12:36:00.454Z"
   },
   {
    "duration": 368,
    "start_time": "2021-09-01T12:36:33.454Z"
   },
   {
    "duration": 365,
    "start_time": "2021-09-01T12:37:18.040Z"
   },
   {
    "duration": 26,
    "start_time": "2021-09-01T12:37:28.917Z"
   },
   {
    "duration": 13,
    "start_time": "2021-09-01T12:38:00.298Z"
   },
   {
    "duration": 696,
    "start_time": "2021-09-01T12:39:06.936Z"
   },
   {
    "duration": 9,
    "start_time": "2021-09-01T12:39:07.633Z"
   },
   {
    "duration": 8,
    "start_time": "2021-09-01T12:39:07.644Z"
   },
   {
    "duration": 3,
    "start_time": "2021-09-01T12:39:07.654Z"
   },
   {
    "duration": 46,
    "start_time": "2021-09-01T12:39:07.659Z"
   },
   {
    "duration": 14,
    "start_time": "2021-09-01T12:39:07.707Z"
   },
   {
    "duration": 266,
    "start_time": "2021-09-01T12:39:07.722Z"
   },
   {
    "duration": 10,
    "start_time": "2021-09-01T12:39:07.991Z"
   },
   {
    "duration": 193,
    "start_time": "2021-09-01T12:39:08.003Z"
   },
   {
    "duration": 8,
    "start_time": "2021-09-01T12:39:08.198Z"
   },
   {
    "duration": 25,
    "start_time": "2021-09-01T12:39:08.207Z"
   },
   {
    "duration": 29,
    "start_time": "2021-09-01T12:39:08.233Z"
   },
   {
    "duration": 35,
    "start_time": "2021-09-01T12:39:08.263Z"
   },
   {
    "duration": 16,
    "start_time": "2021-09-01T12:39:08.300Z"
   },
   {
    "duration": 16,
    "start_time": "2021-09-01T12:39:08.318Z"
   },
   {
    "duration": 14,
    "start_time": "2021-09-01T12:39:08.336Z"
   },
   {
    "duration": 18,
    "start_time": "2021-09-01T12:39:08.352Z"
   },
   {
    "duration": 16,
    "start_time": "2021-09-01T12:39:08.371Z"
   },
   {
    "duration": 29,
    "start_time": "2021-09-01T12:39:08.389Z"
   },
   {
    "duration": 9,
    "start_time": "2021-09-01T12:39:08.419Z"
   },
   {
    "duration": 19,
    "start_time": "2021-09-01T12:39:08.430Z"
   },
   {
    "duration": 16,
    "start_time": "2021-09-01T12:39:08.451Z"
   },
   {
    "duration": 31,
    "start_time": "2021-09-01T12:39:08.472Z"
   },
   {
    "duration": 38,
    "start_time": "2021-09-01T12:39:08.505Z"
   },
   {
    "duration": 20,
    "start_time": "2021-09-01T12:39:08.545Z"
   },
   {
    "duration": 9,
    "start_time": "2021-09-01T12:39:08.566Z"
   },
   {
    "duration": 35,
    "start_time": "2021-09-01T12:39:08.577Z"
   },
   {
    "duration": 5,
    "start_time": "2021-09-01T12:39:08.615Z"
   },
   {
    "duration": 13,
    "start_time": "2021-09-01T12:39:08.622Z"
   },
   {
    "duration": 21,
    "start_time": "2021-09-01T12:39:08.636Z"
   },
   {
    "duration": 12,
    "start_time": "2021-09-01T12:39:08.659Z"
   },
   {
    "duration": 39,
    "start_time": "2021-09-01T12:39:08.673Z"
   },
   {
    "duration": 710,
    "start_time": "2021-09-01T12:39:08.714Z"
   },
   {
    "duration": 26,
    "start_time": "2021-09-01T12:39:09.426Z"
   },
   {
    "duration": 13,
    "start_time": "2021-09-01T12:39:09.455Z"
   },
   {
    "duration": 42,
    "start_time": "2021-09-01T12:39:09.470Z"
   },
   {
    "duration": 237,
    "start_time": "2021-09-01T12:39:09.514Z"
   },
   {
    "duration": 134,
    "start_time": "2021-09-01T12:39:09.753Z"
   },
   {
    "duration": 7,
    "start_time": "2021-09-01T12:39:09.891Z"
   },
   {
    "duration": 11,
    "start_time": "2021-09-01T12:39:09.900Z"
   },
   {
    "duration": 303,
    "start_time": "2021-09-01T12:39:09.913Z"
   },
   {
    "duration": 143,
    "start_time": "2021-09-01T12:39:10.218Z"
   },
   {
    "duration": 8,
    "start_time": "2021-09-01T12:39:10.363Z"
   },
   {
    "duration": 200,
    "start_time": "2021-09-01T12:39:10.372Z"
   },
   {
    "duration": 24,
    "start_time": "2021-09-01T12:39:10.573Z"
   },
   {
    "duration": 123,
    "start_time": "2021-09-01T12:39:10.599Z"
   },
   {
    "duration": 8,
    "start_time": "2021-09-01T12:39:10.724Z"
   },
   {
    "duration": 201,
    "start_time": "2021-09-01T12:39:10.734Z"
   },
   {
    "duration": 135,
    "start_time": "2021-09-01T12:39:10.937Z"
   },
   {
    "duration": 75,
    "start_time": "2021-09-01T12:39:11.073Z"
   },
   {
    "duration": 8,
    "start_time": "2021-09-01T12:39:11.149Z"
   },
   {
    "duration": 269,
    "start_time": "2021-09-01T12:39:11.159Z"
   },
   {
    "duration": 155,
    "start_time": "2021-09-01T12:39:11.430Z"
   },
   {
    "duration": 10,
    "start_time": "2021-09-01T12:39:11.587Z"
   },
   {
    "duration": 322,
    "start_time": "2021-09-01T12:39:11.598Z"
   },
   {
    "duration": 6,
    "start_time": "2021-09-01T12:39:11.923Z"
   },
   {
    "duration": 5,
    "start_time": "2021-09-01T12:39:11.931Z"
   },
   {
    "duration": 11,
    "start_time": "2021-09-01T12:39:11.938Z"
   },
   {
    "duration": 210,
    "start_time": "2021-09-01T12:39:11.952Z"
   },
   {
    "duration": 347,
    "start_time": "2021-09-01T12:39:12.164Z"
   },
   {
    "duration": 8,
    "start_time": "2021-09-01T12:39:12.513Z"
   },
   {
    "duration": 395,
    "start_time": "2021-09-01T12:39:12.523Z"
   },
   {
    "duration": 8,
    "start_time": "2021-09-01T12:39:12.921Z"
   },
   {
    "duration": 14,
    "start_time": "2021-09-01T12:39:12.931Z"
   },
   {
    "duration": 31,
    "start_time": "2021-09-01T12:39:12.947Z"
   },
   {
    "duration": 16,
    "start_time": "2021-09-01T12:39:12.980Z"
   },
   {
    "duration": 39,
    "start_time": "2021-09-01T12:39:12.997Z"
   },
   {
    "duration": 13,
    "start_time": "2021-09-01T12:39:13.041Z"
   },
   {
    "duration": 21,
    "start_time": "2021-09-01T12:39:13.056Z"
   },
   {
    "duration": 25,
    "start_time": "2021-09-01T12:39:13.079Z"
   },
   {
    "duration": 7,
    "start_time": "2021-09-01T12:39:13.106Z"
   },
   {
    "duration": 20,
    "start_time": "2021-09-01T12:39:26.833Z"
   },
   {
    "duration": 12,
    "start_time": "2021-09-01T12:39:59.002Z"
   },
   {
    "duration": 458,
    "start_time": "2021-09-01T12:40:49.300Z"
   },
   {
    "duration": 18,
    "start_time": "2021-09-01T12:41:10.480Z"
   },
   {
    "duration": 30,
    "start_time": "2021-09-01T12:41:33.838Z"
   },
   {
    "duration": 19,
    "start_time": "2021-09-01T12:44:10.189Z"
   },
   {
    "duration": 9829,
    "start_time": "2021-09-01T12:46:40.142Z"
   },
   {
    "duration": 165,
    "start_time": "2021-09-01T12:47:00.569Z"
   },
   {
    "duration": 210,
    "start_time": "2021-09-01T12:47:57.740Z"
   },
   {
    "duration": 303,
    "start_time": "2021-09-01T12:48:03.882Z"
   },
   {
    "duration": 686,
    "start_time": "2021-09-01T12:51:37.737Z"
   },
   {
    "duration": 137,
    "start_time": "2021-09-01T12:52:16.640Z"
   },
   {
    "duration": 227,
    "start_time": "2021-09-01T12:52:19.164Z"
   },
   {
    "duration": 199,
    "start_time": "2021-09-01T12:53:16.085Z"
   },
   {
    "duration": 219,
    "start_time": "2021-09-01T12:53:36.153Z"
   },
   {
    "duration": 222,
    "start_time": "2021-09-01T12:54:08.746Z"
   },
   {
    "duration": 375,
    "start_time": "2021-09-01T12:56:09.959Z"
   },
   {
    "duration": 214,
    "start_time": "2021-09-01T12:56:21.261Z"
   },
   {
    "duration": 375,
    "start_time": "2021-09-01T12:58:20.225Z"
   },
   {
    "duration": 9,
    "start_time": "2021-09-01T12:58:24.250Z"
   },
   {
    "duration": 9,
    "start_time": "2021-09-01T12:58:26.000Z"
   },
   {
    "duration": 180,
    "start_time": "2021-09-01T12:58:38.800Z"
   },
   {
    "duration": 204,
    "start_time": "2021-09-01T12:58:55.855Z"
   },
   {
    "duration": 254,
    "start_time": "2021-09-01T13:00:53.299Z"
   },
   {
    "duration": 211,
    "start_time": "2021-09-01T13:00:56.047Z"
   },
   {
    "duration": 10,
    "start_time": "2021-09-01T13:03:19.579Z"
   },
   {
    "duration": 215,
    "start_time": "2021-09-01T13:03:35.067Z"
   },
   {
    "duration": 210,
    "start_time": "2021-09-01T13:03:40.012Z"
   },
   {
    "duration": 10,
    "start_time": "2021-09-01T13:06:48.888Z"
   },
   {
    "duration": 64,
    "start_time": "2021-09-01T13:07:13.879Z"
   },
   {
    "duration": 9,
    "start_time": "2021-09-01T13:07:19.241Z"
   },
   {
    "duration": 4,
    "start_time": "2021-09-01T13:15:49.421Z"
   },
   {
    "duration": 13,
    "start_time": "2021-09-01T13:16:04.084Z"
   },
   {
    "duration": 11,
    "start_time": "2021-09-01T13:19:59.395Z"
   },
   {
    "duration": 2733,
    "start_time": "2021-09-01T13:20:16.770Z"
   },
   {
    "duration": 3189,
    "start_time": "2021-09-01T13:21:01.544Z"
   },
   {
    "duration": 5,
    "start_time": "2021-09-01T13:21:43.572Z"
   },
   {
    "duration": 13,
    "start_time": "2021-09-01T13:21:44.810Z"
   },
   {
    "duration": 1707,
    "start_time": "2021-09-01T13:21:45.520Z"
   },
   {
    "duration": 6,
    "start_time": "2021-09-01T13:22:15.322Z"
   },
   {
    "duration": 9,
    "start_time": "2021-09-01T13:22:16.766Z"
   },
   {
    "duration": 3487,
    "start_time": "2021-09-01T13:22:17.904Z"
   },
   {
    "duration": 361,
    "start_time": "2021-09-01T13:22:34.064Z"
   },
   {
    "duration": 9,
    "start_time": "2021-09-01T13:22:43.752Z"
   },
   {
    "duration": 3872,
    "start_time": "2021-09-01T13:22:49.738Z"
   },
   {
    "duration": 4689,
    "start_time": "2021-09-01T13:24:49.206Z"
   },
   {
    "duration": 9,
    "start_time": "2021-09-01T13:26:51.299Z"
   },
   {
    "duration": 7,
    "start_time": "2021-09-01T13:27:06.269Z"
   },
   {
    "duration": 7,
    "start_time": "2021-09-01T13:27:42.335Z"
   },
   {
    "duration": 7,
    "start_time": "2021-09-01T13:27:43.872Z"
   },
   {
    "duration": 220,
    "start_time": "2021-09-01T13:27:49.365Z"
   },
   {
    "duration": 8,
    "start_time": "2021-09-01T13:28:09.369Z"
   },
   {
    "duration": 197,
    "start_time": "2021-09-01T13:28:10.970Z"
   },
   {
    "duration": 9,
    "start_time": "2021-09-01T13:28:15.123Z"
   },
   {
    "duration": 14,
    "start_time": "2021-09-01T13:28:19.393Z"
   },
   {
    "duration": 6,
    "start_time": "2021-09-01T13:28:23.487Z"
   },
   {
    "duration": 9,
    "start_time": "2021-09-01T13:28:26.406Z"
   },
   {
    "duration": 5,
    "start_time": "2021-09-01T13:28:58.176Z"
   },
   {
    "duration": 10,
    "start_time": "2021-09-01T13:29:00.424Z"
   },
   {
    "duration": 111,
    "start_time": "2021-09-01T13:29:21.358Z"
   },
   {
    "duration": 4,
    "start_time": "2021-09-01T13:29:29.093Z"
   },
   {
    "duration": 9,
    "start_time": "2021-09-01T13:29:30.780Z"
   },
   {
    "duration": 2803,
    "start_time": "2021-09-01T13:29:40.922Z"
   },
   {
    "duration": 933,
    "start_time": "2021-09-01T17:51:47.093Z"
   },
   {
    "duration": 42,
    "start_time": "2021-09-01T17:51:48.030Z"
   },
   {
    "duration": 13,
    "start_time": "2021-09-01T17:51:48.076Z"
   },
   {
    "duration": 5,
    "start_time": "2021-09-01T17:51:48.092Z"
   },
   {
    "duration": 74,
    "start_time": "2021-09-01T17:51:48.100Z"
   },
   {
    "duration": 19,
    "start_time": "2021-09-01T17:51:48.177Z"
   },
   {
    "duration": 468,
    "start_time": "2021-09-01T17:51:48.199Z"
   },
   {
    "duration": 12,
    "start_time": "2021-09-01T17:51:48.671Z"
   },
   {
    "duration": 384,
    "start_time": "2021-09-01T17:51:48.687Z"
   },
   {
    "duration": 17,
    "start_time": "2021-09-01T17:51:49.075Z"
   },
   {
    "duration": 75,
    "start_time": "2021-09-01T17:51:49.095Z"
   },
   {
    "duration": 55,
    "start_time": "2021-09-01T17:51:49.173Z"
   },
   {
    "duration": 17,
    "start_time": "2021-09-01T17:51:49.255Z"
   },
   {
    "duration": 24,
    "start_time": "2021-09-01T17:51:49.275Z"
   },
   {
    "duration": 15,
    "start_time": "2021-09-01T17:51:49.303Z"
   },
   {
    "duration": 58,
    "start_time": "2021-09-01T17:51:49.321Z"
   },
   {
    "duration": 36,
    "start_time": "2021-09-01T17:51:49.382Z"
   },
   {
    "duration": 20,
    "start_time": "2021-09-01T17:51:49.420Z"
   },
   {
    "duration": 31,
    "start_time": "2021-09-01T17:51:49.443Z"
   },
   {
    "duration": 31,
    "start_time": "2021-09-01T17:51:49.477Z"
   },
   {
    "duration": 41,
    "start_time": "2021-09-01T17:51:49.511Z"
   },
   {
    "duration": 9,
    "start_time": "2021-09-01T17:51:49.555Z"
   },
   {
    "duration": 23,
    "start_time": "2021-09-01T17:51:49.574Z"
   },
   {
    "duration": 19,
    "start_time": "2021-09-01T17:51:49.603Z"
   },
   {
    "duration": 65,
    "start_time": "2021-09-01T17:51:49.624Z"
   },
   {
    "duration": 28,
    "start_time": "2021-09-01T17:51:49.692Z"
   },
   {
    "duration": 57,
    "start_time": "2021-09-01T17:51:49.722Z"
   },
   {
    "duration": 7,
    "start_time": "2021-09-01T17:51:49.782Z"
   },
   {
    "duration": 34,
    "start_time": "2021-09-01T17:51:49.791Z"
   },
   {
    "duration": 34,
    "start_time": "2021-09-01T17:51:49.828Z"
   },
   {
    "duration": 11,
    "start_time": "2021-09-01T17:51:49.865Z"
   },
   {
    "duration": 47,
    "start_time": "2021-09-01T17:51:49.879Z"
   },
   {
    "duration": 1340,
    "start_time": "2021-09-01T17:51:49.929Z"
   },
   {
    "duration": 36,
    "start_time": "2021-09-01T17:51:51.271Z"
   },
   {
    "duration": 42,
    "start_time": "2021-09-01T17:51:51.309Z"
   },
   {
    "duration": 48,
    "start_time": "2021-09-01T17:51:51.354Z"
   },
   {
    "duration": 430,
    "start_time": "2021-09-01T17:51:51.404Z"
   },
   {
    "duration": 264,
    "start_time": "2021-09-01T17:51:51.837Z"
   },
   {
    "duration": 12,
    "start_time": "2021-09-01T17:51:52.103Z"
   },
   {
    "duration": 44,
    "start_time": "2021-09-01T17:51:52.117Z"
   },
   {
    "duration": 456,
    "start_time": "2021-09-01T17:51:52.165Z"
   },
   {
    "duration": 264,
    "start_time": "2021-09-01T17:51:52.623Z"
   },
   {
    "duration": 15,
    "start_time": "2021-09-01T17:51:52.890Z"
   },
   {
    "duration": 350,
    "start_time": "2021-09-01T17:51:52.907Z"
   },
   {
    "duration": 27,
    "start_time": "2021-09-01T17:51:53.260Z"
   },
   {
    "duration": 235,
    "start_time": "2021-09-01T17:51:53.290Z"
   },
   {
    "duration": 26,
    "start_time": "2021-09-01T17:51:53.528Z"
   },
   {
    "duration": 380,
    "start_time": "2021-09-01T17:51:53.557Z"
   },
   {
    "duration": 272,
    "start_time": "2021-09-01T17:51:53.940Z"
   },
   {
    "duration": 153,
    "start_time": "2021-09-01T17:51:54.215Z"
   },
   {
    "duration": 13,
    "start_time": "2021-09-01T17:51:54.371Z"
   },
   {
    "duration": 438,
    "start_time": "2021-09-01T17:51:54.387Z"
   },
   {
    "duration": 263,
    "start_time": "2021-09-01T17:51:54.828Z"
   },
   {
    "duration": 16,
    "start_time": "2021-09-01T17:51:55.094Z"
   },
   {
    "duration": 1185,
    "start_time": "2021-09-01T17:51:55.114Z"
   },
   {
    "duration": 62,
    "start_time": "2021-09-01T17:51:56.301Z"
   },
   {
    "duration": 18,
    "start_time": "2021-09-01T17:51:56.368Z"
   },
   {
    "duration": 15,
    "start_time": "2021-09-01T17:51:56.390Z"
   },
   {
    "duration": 396,
    "start_time": "2021-09-01T17:51:56.458Z"
   },
   {
    "duration": 641,
    "start_time": "2021-09-01T17:51:56.860Z"
   },
   {
    "duration": 12,
    "start_time": "2021-09-01T17:51:57.504Z"
   },
   {
    "duration": 710,
    "start_time": "2021-09-01T17:51:57.519Z"
   },
   {
    "duration": 26,
    "start_time": "2021-09-01T17:51:58.231Z"
   },
   {
    "duration": 11,
    "start_time": "2021-09-01T17:51:58.262Z"
   },
   {
    "duration": 25,
    "start_time": "2021-09-01T17:51:58.276Z"
   },
   {
    "duration": 7,
    "start_time": "2021-09-01T17:51:58.304Z"
   },
   {
    "duration": 82,
    "start_time": "2021-09-01T17:51:58.314Z"
   },
   {
    "duration": 15,
    "start_time": "2021-09-01T17:51:58.407Z"
   },
   {
    "duration": 23,
    "start_time": "2021-09-01T17:51:58.459Z"
   },
   {
    "duration": 36,
    "start_time": "2021-09-01T17:51:58.485Z"
   },
   {
    "duration": 34,
    "start_time": "2021-09-01T17:51:58.524Z"
   },
   {
    "duration": 383,
    "start_time": "2021-09-01T17:51:58.560Z"
   },
   {
    "duration": 360,
    "start_time": "2021-09-01T17:51:58.946Z"
   },
   {
    "duration": 11,
    "start_time": "2021-09-01T17:51:59.308Z"
   },
   {
    "duration": 35,
    "start_time": "2021-09-01T17:51:59.321Z"
   },
   {
    "duration": 523,
    "start_time": "2021-09-01T17:51:59.360Z"
   },
   {
    "duration": 12,
    "start_time": "2021-09-01T17:51:59.886Z"
   },
   {
    "duration": 424,
    "start_time": "2021-09-01T17:51:59.900Z"
   },
   {
    "duration": 35,
    "start_time": "2021-09-01T17:52:00.326Z"
   },
   {
    "duration": 57,
    "start_time": "2021-09-01T17:52:00.364Z"
   },
   {
    "duration": 39,
    "start_time": "2021-09-01T17:52:00.424Z"
   },
   {
    "duration": 35,
    "start_time": "2021-09-01T17:52:00.467Z"
   },
   {
    "duration": 5515,
    "start_time": "2021-09-01T17:52:00.506Z"
   },
   {
    "duration": 14,
    "start_time": "2021-09-01T17:52:06.024Z"
   },
   {
    "duration": 2459,
    "start_time": "2021-09-01T17:53:02.207Z"
   },
   {
    "duration": 6,
    "start_time": "2021-09-01T17:53:31.154Z"
   },
   {
    "duration": 13,
    "start_time": "2021-09-01T17:53:37.582Z"
   },
   {
    "duration": 3347,
    "start_time": "2021-09-01T17:53:42.845Z"
   },
   {
    "duration": 966,
    "start_time": "2021-09-01T18:13:56.220Z"
   },
   {
    "duration": 17,
    "start_time": "2021-09-01T18:13:59.184Z"
   },
   {
    "duration": 16,
    "start_time": "2021-09-01T18:14:16.271Z"
   },
   {
    "duration": 27,
    "start_time": "2021-09-01T18:15:24.762Z"
   },
   {
    "duration": 22,
    "start_time": "2021-09-01T18:17:27.886Z"
   },
   {
    "duration": 440,
    "start_time": "2021-09-01T18:17:31.331Z"
   },
   {
    "duration": 12,
    "start_time": "2021-09-01T18:17:33.803Z"
   },
   {
    "duration": 323,
    "start_time": "2021-09-01T18:17:34.692Z"
   },
   {
    "duration": 13,
    "start_time": "2021-09-01T18:17:35.090Z"
   },
   {
    "duration": 42,
    "start_time": "2021-09-01T18:17:46.605Z"
   },
   {
    "duration": 50,
    "start_time": "2021-09-01T18:18:16.059Z"
   },
   {
    "duration": 14,
    "start_time": "2021-09-01T18:18:24.960Z"
   },
   {
    "duration": 18,
    "start_time": "2021-09-01T18:18:43.115Z"
   },
   {
    "duration": 16,
    "start_time": "2021-09-01T18:19:33.887Z"
   },
   {
    "duration": 7,
    "start_time": "2021-09-01T18:19:55.952Z"
   },
   {
    "duration": 5,
    "start_time": "2021-09-01T18:20:05.753Z"
   },
   {
    "duration": 18,
    "start_time": "2021-09-01T18:20:36.945Z"
   },
   {
    "duration": 6,
    "start_time": "2021-09-01T18:20:43.431Z"
   },
   {
    "duration": 5,
    "start_time": "2021-09-01T18:22:25.101Z"
   },
   {
    "duration": 16,
    "start_time": "2021-09-01T18:22:44.732Z"
   },
   {
    "duration": 15,
    "start_time": "2021-09-01T18:22:46.435Z"
   },
   {
    "duration": 886,
    "start_time": "2021-09-02T05:05:17.085Z"
   },
   {
    "duration": 16,
    "start_time": "2021-09-02T05:05:17.973Z"
   },
   {
    "duration": 12,
    "start_time": "2021-09-02T05:05:40.003Z"
   },
   {
    "duration": 27,
    "start_time": "2021-09-02T05:05:43.473Z"
   },
   {
    "duration": 21,
    "start_time": "2021-09-02T05:05:59.332Z"
   },
   {
    "duration": 443,
    "start_time": "2021-09-02T05:05:59.779Z"
   },
   {
    "duration": 11,
    "start_time": "2021-09-02T05:06:00.224Z"
   },
   {
    "duration": 340,
    "start_time": "2021-09-02T05:06:02.310Z"
   },
   {
    "duration": 12,
    "start_time": "2021-09-02T05:06:02.793Z"
   },
   {
    "duration": 45,
    "start_time": "2021-09-02T05:06:11.238Z"
   },
   {
    "duration": 60,
    "start_time": "2021-09-02T05:06:16.576Z"
   },
   {
    "duration": 13,
    "start_time": "2021-09-02T05:06:19.386Z"
   },
   {
    "duration": 18,
    "start_time": "2021-09-02T05:06:23.557Z"
   },
   {
    "duration": 7,
    "start_time": "2021-09-02T05:06:33.279Z"
   },
   {
    "duration": 5,
    "start_time": "2021-09-02T05:06:38.431Z"
   },
   {
    "duration": 6,
    "start_time": "2021-09-02T05:06:41.594Z"
   },
   {
    "duration": 6,
    "start_time": "2021-09-02T05:07:28.249Z"
   },
   {
    "duration": 19,
    "start_time": "2021-09-02T05:07:32.015Z"
   },
   {
    "duration": 14,
    "start_time": "2021-09-02T05:07:34.260Z"
   },
   {
    "duration": 24,
    "start_time": "2021-09-02T05:36:50.221Z"
   },
   {
    "duration": 6,
    "start_time": "2021-09-02T05:37:13.979Z"
   },
   {
    "duration": 16,
    "start_time": "2021-09-02T05:37:15.006Z"
   },
   {
    "duration": 22,
    "start_time": "2021-09-02T05:37:56.561Z"
   },
   {
    "duration": 19,
    "start_time": "2021-09-02T05:38:08.764Z"
   },
   {
    "duration": 58,
    "start_time": "2021-09-02T05:38:10.492Z"
   },
   {
    "duration": 8,
    "start_time": "2021-09-02T05:38:52.567Z"
   },
   {
    "duration": 17,
    "start_time": "2021-09-02T05:39:00.926Z"
   },
   {
    "duration": 509,
    "start_time": "2021-09-02T05:39:14.293Z"
   },
   {
    "duration": 9,
    "start_time": "2021-09-02T05:39:23.260Z"
   },
   {
    "duration": 8,
    "start_time": "2021-09-02T05:39:28.214Z"
   },
   {
    "duration": 8,
    "start_time": "2021-09-02T05:39:31.302Z"
   },
   {
    "duration": 38,
    "start_time": "2021-09-02T05:39:31.770Z"
   },
   {
    "duration": 1177,
    "start_time": "2021-09-02T05:40:05.527Z"
   },
   {
    "duration": 34,
    "start_time": "2021-09-02T05:40:16.220Z"
   },
   {
    "duration": 14,
    "start_time": "2021-09-02T05:40:22.786Z"
   },
   {
    "duration": 50,
    "start_time": "2021-09-02T05:40:27.198Z"
   },
   {
    "duration": 373,
    "start_time": "2021-09-02T05:40:30.026Z"
   },
   {
    "duration": 226,
    "start_time": "2021-09-02T05:40:32.129Z"
   },
   {
    "duration": 15,
    "start_time": "2021-09-02T05:41:25.417Z"
   },
   {
    "duration": 17,
    "start_time": "2021-09-02T05:41:46.180Z"
   },
   {
    "duration": 667,
    "start_time": "2021-09-02T05:41:54.439Z"
   },
   {
    "duration": 336,
    "start_time": "2021-09-02T05:41:57.934Z"
   },
   {
    "duration": 15,
    "start_time": "2021-09-02T05:42:16.394Z"
   },
   {
    "duration": 303,
    "start_time": "2021-09-02T05:42:18.228Z"
   },
   {
    "duration": 24,
    "start_time": "2021-09-02T05:42:23.605Z"
   },
   {
    "duration": 7,
    "start_time": "2021-09-02T05:49:55.255Z"
   },
   {
    "duration": 41,
    "start_time": "2021-09-02T05:50:05.128Z"
   },
   {
    "duration": 293,
    "start_time": "2021-09-02T05:50:17.191Z"
   },
   {
    "duration": 207,
    "start_time": "2021-09-02T05:50:21.742Z"
   },
   {
    "duration": 12,
    "start_time": "2021-09-02T05:51:36.970Z"
   },
   {
    "duration": 331,
    "start_time": "2021-09-02T05:51:39.811Z"
   },
   {
    "duration": 292,
    "start_time": "2021-09-02T05:51:44.624Z"
   },
   {
    "duration": 375,
    "start_time": "2021-09-02T05:52:27.713Z"
   },
   {
    "duration": 311,
    "start_time": "2021-09-02T05:52:37.625Z"
   },
   {
    "duration": 12,
    "start_time": "2021-09-02T05:53:18.249Z"
   },
   {
    "duration": 554,
    "start_time": "2021-09-02T05:53:19.119Z"
   },
   {
    "duration": 471,
    "start_time": "2021-09-02T05:57:24.485Z"
   },
   {
    "duration": 454,
    "start_time": "2021-09-02T05:58:06.177Z"
   },
   {
    "duration": 74,
    "start_time": "2021-09-02T05:58:14.107Z"
   },
   {
    "duration": 458,
    "start_time": "2021-09-02T05:58:36.177Z"
   },
   {
    "duration": 438,
    "start_time": "2021-09-02T05:58:56.175Z"
   },
   {
    "duration": 439,
    "start_time": "2021-09-02T05:59:01.596Z"
   },
   {
    "duration": 1907,
    "start_time": "2021-09-02T05:59:13.740Z"
   },
   {
    "duration": 286,
    "start_time": "2021-09-02T05:59:32.862Z"
   },
   {
    "duration": 129,
    "start_time": "2021-09-02T05:59:42.405Z"
   },
   {
    "duration": 91,
    "start_time": "2021-09-02T05:59:48.116Z"
   },
   {
    "duration": 1276,
    "start_time": "2021-09-02T05:59:50.201Z"
   },
   {
    "duration": 377,
    "start_time": "2021-09-02T06:01:54.628Z"
   },
   {
    "duration": 4,
    "start_time": "2021-09-02T06:02:02.444Z"
   },
   {
    "duration": 5,
    "start_time": "2021-09-02T06:02:16.842Z"
   },
   {
    "duration": 8,
    "start_time": "2021-09-02T06:02:18.387Z"
   },
   {
    "duration": 13,
    "start_time": "2021-09-02T06:02:29.095Z"
   },
   {
    "duration": 587,
    "start_time": "2021-09-02T06:04:06.462Z"
   },
   {
    "duration": 419,
    "start_time": "2021-09-02T06:04:37.459Z"
   },
   {
    "duration": 3189,
    "start_time": "2021-09-02T06:04:53.885Z"
   },
   {
    "duration": 7,
    "start_time": "2021-09-02T06:08:13.153Z"
   },
   {
    "duration": 8,
    "start_time": "2021-09-02T06:08:42.317Z"
   },
   {
    "duration": 368,
    "start_time": "2021-09-02T06:10:55.916Z"
   },
   {
    "duration": 6,
    "start_time": "2021-09-02T06:10:58.494Z"
   },
   {
    "duration": 407,
    "start_time": "2021-09-02T06:14:17.048Z"
   },
   {
    "duration": 401,
    "start_time": "2021-09-02T06:14:23.063Z"
   },
   {
    "duration": 100,
    "start_time": "2021-09-02T06:14:40.942Z"
   },
   {
    "duration": 483,
    "start_time": "2021-09-02T06:14:42.423Z"
   },
   {
    "duration": 13,
    "start_time": "2021-09-02T06:14:54.623Z"
   },
   {
    "duration": 11,
    "start_time": "2021-09-02T06:15:04.524Z"
   },
   {
    "duration": 617,
    "start_time": "2021-09-02T06:15:10.788Z"
   },
   {
    "duration": 450,
    "start_time": "2021-09-02T06:16:05.970Z"
   },
   {
    "duration": 401,
    "start_time": "2021-09-02T06:16:18.913Z"
   },
   {
    "duration": 433,
    "start_time": "2021-09-02T06:16:37.134Z"
   },
   {
    "duration": 14,
    "start_time": "2021-09-02T06:17:31.151Z"
   },
   {
    "duration": 730,
    "start_time": "2021-09-02T06:17:42.163Z"
   },
   {
    "duration": 10,
    "start_time": "2021-09-02T06:17:56.579Z"
   },
   {
    "duration": 62,
    "start_time": "2021-09-02T06:19:21.084Z"
   },
   {
    "duration": 154,
    "start_time": "2021-09-02T06:19:25.889Z"
   },
   {
    "duration": 58,
    "start_time": "2021-09-02T06:19:29.903Z"
   },
   {
    "duration": 59,
    "start_time": "2021-09-02T06:20:45.892Z"
   },
   {
    "duration": 39,
    "start_time": "2021-09-02T06:26:06.191Z"
   },
   {
    "duration": 17,
    "start_time": "2021-09-02T06:30:48.197Z"
   },
   {
    "duration": 801,
    "start_time": "2021-09-02T06:33:17.490Z"
   },
   {
    "duration": 4,
    "start_time": "2021-09-02T06:33:41.149Z"
   },
   {
    "duration": 939,
    "start_time": "2021-09-02T06:33:48.112Z"
   },
   {
    "duration": 926,
    "start_time": "2021-09-02T06:34:25.165Z"
   },
   {
    "duration": 950,
    "start_time": "2021-09-02T06:34:45.444Z"
   },
   {
    "duration": 895,
    "start_time": "2021-09-02T06:35:03.341Z"
   },
   {
    "duration": 892,
    "start_time": "2021-09-02T06:35:46.422Z"
   },
   {
    "duration": 203,
    "start_time": "2021-09-02T06:37:18.057Z"
   },
   {
    "duration": 661,
    "start_time": "2021-09-02T06:37:22.243Z"
   },
   {
    "duration": 656,
    "start_time": "2021-09-02T06:37:40.657Z"
   },
   {
    "duration": 12526,
    "start_time": "2021-09-02T06:40:41.018Z"
   },
   {
    "duration": 14380,
    "start_time": "2021-09-02T06:41:22.341Z"
   },
   {
    "duration": 13650,
    "start_time": "2021-09-02T06:41:52.850Z"
   },
   {
    "duration": 12858,
    "start_time": "2021-09-02T06:42:32.560Z"
   },
   {
    "duration": 885,
    "start_time": "2021-09-02T06:44:00.955Z"
   },
   {
    "duration": 837,
    "start_time": "2021-09-02T06:44:18.660Z"
   },
   {
    "duration": 1472,
    "start_time": "2021-09-02T06:45:13.664Z"
   },
   {
    "duration": 745,
    "start_time": "2021-09-02T06:45:36.392Z"
   },
   {
    "duration": 679,
    "start_time": "2021-09-02T06:46:00.980Z"
   },
   {
    "duration": 16,
    "start_time": "2021-09-02T06:46:41.020Z"
   },
   {
    "duration": 5,
    "start_time": "2021-09-02T06:47:22.426Z"
   },
   {
    "duration": 35,
    "start_time": "2021-09-02T06:50:11.588Z"
   },
   {
    "duration": 15,
    "start_time": "2021-09-02T06:51:56.369Z"
   },
   {
    "duration": 34,
    "start_time": "2021-09-02T06:52:08.630Z"
   },
   {
    "duration": 45,
    "start_time": "2021-09-02T06:52:12.452Z"
   },
   {
    "duration": 5,
    "start_time": "2021-09-02T06:54:01.449Z"
   },
   {
    "duration": 839,
    "start_time": "2021-09-02T06:54:06.796Z"
   },
   {
    "duration": 957,
    "start_time": "2021-09-02T06:54:19.901Z"
   },
   {
    "duration": 7,
    "start_time": "2021-09-02T06:54:55.286Z"
   },
   {
    "duration": 796,
    "start_time": "2021-09-02T06:54:56.925Z"
   },
   {
    "duration": 5,
    "start_time": "2021-09-02T06:55:32.115Z"
   },
   {
    "duration": 833,
    "start_time": "2021-09-02T06:55:33.796Z"
   },
   {
    "duration": 5,
    "start_time": "2021-09-02T06:56:01.403Z"
   },
   {
    "duration": 16,
    "start_time": "2021-09-02T06:56:06.049Z"
   },
   {
    "duration": 46,
    "start_time": "2021-09-02T06:56:32.416Z"
   },
   {
    "duration": 55,
    "start_time": "2021-09-02T06:59:24.004Z"
   },
   {
    "duration": 47,
    "start_time": "2021-09-02T06:59:33.489Z"
   },
   {
    "duration": 139,
    "start_time": "2021-09-02T06:59:46.834Z"
   },
   {
    "duration": 1415,
    "start_time": "2021-09-02T06:59:55.841Z"
   },
   {
    "duration": 48,
    "start_time": "2021-09-02T07:01:04.125Z"
   },
   {
    "duration": 669,
    "start_time": "2021-09-02T07:01:04.709Z"
   },
   {
    "duration": 11,
    "start_time": "2021-09-02T07:07:01.263Z"
   },
   {
    "duration": 10,
    "start_time": "2021-09-02T07:07:31.219Z"
   },
   {
    "duration": 41,
    "start_time": "2021-09-02T07:08:02.026Z"
   },
   {
    "duration": 694,
    "start_time": "2021-09-02T07:08:12.729Z"
   },
   {
    "duration": 366,
    "start_time": "2021-09-02T07:08:19.239Z"
   },
   {
    "duration": 330,
    "start_time": "2021-09-02T07:08:25.213Z"
   },
   {
    "duration": 388,
    "start_time": "2021-09-02T07:08:27.681Z"
   },
   {
    "duration": 424,
    "start_time": "2021-09-02T07:08:37.821Z"
   },
   {
    "duration": 398,
    "start_time": "2021-09-02T07:08:43.188Z"
   },
   {
    "duration": 362,
    "start_time": "2021-09-02T07:10:32.011Z"
   },
   {
    "duration": 221,
    "start_time": "2021-09-02T07:10:41.267Z"
   },
   {
    "duration": 713,
    "start_time": "2021-09-02T07:10:54.029Z"
   },
   {
    "duration": 217,
    "start_time": "2021-09-02T07:11:17.754Z"
   },
   {
    "duration": 325,
    "start_time": "2021-09-02T07:11:23.018Z"
   },
   {
    "duration": 217,
    "start_time": "2021-09-02T07:11:26.414Z"
   },
   {
    "duration": 32,
    "start_time": "2021-09-02T07:12:55.405Z"
   },
   {
    "duration": 13,
    "start_time": "2021-09-02T07:13:05.101Z"
   },
   {
    "duration": 17,
    "start_time": "2021-09-02T07:13:05.398Z"
   },
   {
    "duration": 39,
    "start_time": "2021-09-02T07:13:09.584Z"
   },
   {
    "duration": 13,
    "start_time": "2021-09-02T07:13:20.688Z"
   },
   {
    "duration": 391,
    "start_time": "2021-09-02T07:13:22.140Z"
   },
   {
    "duration": 410,
    "start_time": "2021-09-02T07:13:25.265Z"
   },
   {
    "duration": 10,
    "start_time": "2021-09-02T07:13:28.062Z"
   },
   {
    "duration": 13,
    "start_time": "2021-09-02T07:13:29.670Z"
   },
   {
    "duration": 377,
    "start_time": "2021-09-02T07:13:29.984Z"
   },
   {
    "duration": 12,
    "start_time": "2021-09-02T07:13:33.128Z"
   },
   {
    "duration": 12,
    "start_time": "2021-09-02T07:13:44.095Z"
   },
   {
    "duration": 12,
    "start_time": "2021-09-02T07:14:10.325Z"
   },
   {
    "duration": 346,
    "start_time": "2021-09-02T07:14:13.725Z"
   },
   {
    "duration": 11,
    "start_time": "2021-09-02T07:14:17.666Z"
   },
   {
    "duration": 11,
    "start_time": "2021-09-02T07:14:18.782Z"
   },
   {
    "duration": 8,
    "start_time": "2021-09-02T07:14:20.840Z"
   },
   {
    "duration": 7,
    "start_time": "2021-09-02T07:14:52.689Z"
   },
   {
    "duration": 15,
    "start_time": "2021-09-02T07:14:55.244Z"
   },
   {
    "duration": 4802,
    "start_time": "2021-09-02T07:14:55.907Z"
   },
   {
    "duration": 14,
    "start_time": "2021-09-02T07:15:04.607Z"
   },
   {
    "duration": 3688,
    "start_time": "2021-09-02T07:15:05.095Z"
   },
   {
    "duration": 14,
    "start_time": "2021-09-02T07:16:50.253Z"
   },
   {
    "duration": 554,
    "start_time": "2021-09-02T18:17:31.182Z"
   },
   {
    "duration": 298,
    "start_time": "2021-09-02T18:17:47.089Z"
   },
   {
    "duration": 831,
    "start_time": "2021-09-02T18:17:53.367Z"
   },
   {
    "duration": 12,
    "start_time": "2021-09-02T18:17:54.200Z"
   },
   {
    "duration": 27,
    "start_time": "2021-09-02T18:17:54.214Z"
   },
   {
    "duration": 23,
    "start_time": "2021-09-02T18:17:54.243Z"
   },
   {
    "duration": 25,
    "start_time": "2021-09-02T18:17:54.268Z"
   },
   {
    "duration": 459,
    "start_time": "2021-09-02T18:17:54.295Z"
   },
   {
    "duration": 11,
    "start_time": "2021-09-02T18:17:54.756Z"
   },
   {
    "duration": 345,
    "start_time": "2021-09-02T18:17:54.771Z"
   },
   {
    "duration": 24,
    "start_time": "2021-09-02T18:17:55.119Z"
   },
   {
    "duration": 43,
    "start_time": "2021-09-02T18:17:55.146Z"
   },
   {
    "duration": 69,
    "start_time": "2021-09-02T18:17:55.191Z"
   },
   {
    "duration": 13,
    "start_time": "2021-09-02T18:17:55.262Z"
   },
   {
    "duration": 17,
    "start_time": "2021-09-02T18:17:55.277Z"
   },
   {
    "duration": 7,
    "start_time": "2021-09-02T18:17:55.296Z"
   },
   {
    "duration": 36,
    "start_time": "2021-09-02T18:17:55.305Z"
   },
   {
    "duration": 7,
    "start_time": "2021-09-02T18:17:55.343Z"
   },
   {
    "duration": 13,
    "start_time": "2021-09-02T18:17:55.352Z"
   },
   {
    "duration": 33,
    "start_time": "2021-09-02T18:17:55.367Z"
   },
   {
    "duration": 20,
    "start_time": "2021-09-02T18:17:55.402Z"
   },
   {
    "duration": 23,
    "start_time": "2021-09-02T18:17:55.424Z"
   },
   {
    "duration": 6,
    "start_time": "2021-09-02T18:17:55.449Z"
   },
   {
    "duration": 26,
    "start_time": "2021-09-02T18:17:55.457Z"
   },
   {
    "duration": 16,
    "start_time": "2021-09-02T18:17:55.488Z"
   },
   {
    "duration": 19,
    "start_time": "2021-09-02T18:17:55.507Z"
   },
   {
    "duration": 45,
    "start_time": "2021-09-02T18:17:55.528Z"
   },
   {
    "duration": 5,
    "start_time": "2021-09-02T18:17:55.575Z"
   },
   {
    "duration": 22,
    "start_time": "2021-09-02T18:17:55.582Z"
   },
   {
    "duration": 25,
    "start_time": "2021-09-02T18:17:55.606Z"
   },
   {
    "duration": 10,
    "start_time": "2021-09-02T18:17:55.633Z"
   },
   {
    "duration": 38,
    "start_time": "2021-09-02T18:17:55.644Z"
   },
   {
    "duration": 1298,
    "start_time": "2021-09-02T18:17:55.685Z"
   },
   {
    "duration": 39,
    "start_time": "2021-09-02T18:17:56.986Z"
   },
   {
    "duration": 25,
    "start_time": "2021-09-02T18:17:57.027Z"
   },
   {
    "duration": 43,
    "start_time": "2021-09-02T18:17:57.055Z"
   },
   {
    "duration": 435,
    "start_time": "2021-09-02T18:17:57.101Z"
   },
   {
    "duration": 245,
    "start_time": "2021-09-02T18:17:57.541Z"
   },
   {
    "duration": 12,
    "start_time": "2021-09-02T18:17:57.788Z"
   },
   {
    "duration": 13,
    "start_time": "2021-09-02T18:17:57.803Z"
   },
   {
    "duration": 700,
    "start_time": "2021-09-02T18:17:57.841Z"
   },
   {
    "duration": 271,
    "start_time": "2021-09-02T18:17:58.544Z"
   },
   {
    "duration": 9,
    "start_time": "2021-09-02T18:17:58.817Z"
   },
   {
    "duration": 19,
    "start_time": "2021-09-02T18:17:58.842Z"
   },
   {
    "duration": 9,
    "start_time": "2021-09-02T18:17:58.863Z"
   },
   {
    "duration": 233,
    "start_time": "2021-09-02T18:17:58.873Z"
   },
   {
    "duration": 227,
    "start_time": "2021-09-02T18:17:59.109Z"
   },
   {
    "duration": 13,
    "start_time": "2021-09-02T18:17:59.339Z"
   },
   {
    "duration": 288,
    "start_time": "2021-09-02T18:17:59.354Z"
   },
   {
    "duration": 156,
    "start_time": "2021-09-02T18:17:59.644Z"
   },
   {
    "duration": 10,
    "start_time": "2021-09-02T18:17:59.803Z"
   },
   {
    "duration": 699,
    "start_time": "2021-09-02T18:17:59.815Z"
   },
   {
    "duration": 125,
    "start_time": "2021-09-02T18:18:00.516Z"
   },
   {
    "duration": 12,
    "start_time": "2021-09-02T18:18:00.644Z"
   },
   {
    "duration": 12,
    "start_time": "2021-09-02T18:18:00.659Z"
   },
   {
    "duration": 567,
    "start_time": "2021-09-02T18:18:00.674Z"
   },
   {
    "duration": 17,
    "start_time": "2021-09-02T18:18:01.244Z"
   },
   {
    "duration": 757,
    "start_time": "2021-09-02T18:18:01.264Z"
   },
   {
    "duration": 19,
    "start_time": "2021-09-02T18:18:02.023Z"
   },
   {
    "duration": 37,
    "start_time": "2021-09-02T18:18:02.044Z"
   },
   {
    "duration": 415,
    "start_time": "2021-09-02T18:18:02.084Z"
   },
   {
    "duration": 223,
    "start_time": "2021-09-02T18:18:02.501Z"
   },
   {
    "duration": 19,
    "start_time": "2021-09-02T18:18:02.726Z"
   },
   {
    "duration": 32,
    "start_time": "2021-09-02T18:18:02.748Z"
   },
   {
    "duration": 10,
    "start_time": "2021-09-02T18:18:02.783Z"
   },
   {
    "duration": 47,
    "start_time": "2021-09-02T18:18:02.795Z"
   },
   {
    "duration": 27,
    "start_time": "2021-09-02T18:18:02.845Z"
   },
   {
    "duration": 10,
    "start_time": "2021-09-02T18:18:02.875Z"
   },
   {
    "duration": 359,
    "start_time": "2021-09-02T18:18:02.887Z"
   },
   {
    "duration": 319,
    "start_time": "2021-09-02T18:18:03.254Z"
   },
   {
    "duration": 8,
    "start_time": "2021-09-02T18:18:03.576Z"
   },
   {
    "duration": 15,
    "start_time": "2021-09-02T18:18:03.587Z"
   },
   {
    "duration": 295,
    "start_time": "2021-09-02T18:18:03.604Z"
   },
   {
    "duration": 12,
    "start_time": "2021-09-02T18:18:03.902Z"
   },
   {
    "duration": 418,
    "start_time": "2021-09-02T18:18:03.916Z"
   },
   {
    "duration": 12,
    "start_time": "2021-09-02T18:18:04.336Z"
   },
   {
    "duration": 16,
    "start_time": "2021-09-02T18:18:04.350Z"
   },
   {
    "duration": 5,
    "start_time": "2021-09-02T18:18:04.368Z"
   },
   {
    "duration": 15,
    "start_time": "2021-09-02T18:18:04.375Z"
   },
   {
    "duration": 5193,
    "start_time": "2021-09-02T18:18:04.392Z"
   },
   {
    "duration": 11,
    "start_time": "2021-09-02T18:18:09.587Z"
   },
   {
    "duration": 2857,
    "start_time": "2021-09-02T18:18:09.600Z"
   },
   {
    "duration": 777,
    "start_time": "2021-09-02T18:19:45.405Z"
   },
   {
    "duration": 5,
    "start_time": "2021-09-02T18:19:48.181Z"
   },
   {
    "duration": 8,
    "start_time": "2021-09-02T18:23:10.872Z"
   },
   {
    "duration": 7,
    "start_time": "2021-09-02T18:23:47.985Z"
   },
   {
    "duration": 325,
    "start_time": "2021-09-02T18:28:18.187Z"
   },
   {
    "duration": 9,
    "start_time": "2021-09-02T18:29:40.485Z"
   },
   {
    "duration": 10,
    "start_time": "2021-09-02T18:29:51.200Z"
   },
   {
    "duration": 13,
    "start_time": "2021-09-02T18:30:06.552Z"
   },
   {
    "duration": 13,
    "start_time": "2021-09-02T18:30:17.934Z"
   },
   {
    "duration": 13,
    "start_time": "2021-09-02T18:30:19.846Z"
   },
   {
    "duration": 40,
    "start_time": "2021-09-02T18:31:14.832Z"
   },
   {
    "duration": 33,
    "start_time": "2021-09-02T18:31:22.129Z"
   },
   {
    "duration": 35,
    "start_time": "2021-09-02T18:31:25.179Z"
   },
   {
    "duration": 38,
    "start_time": "2021-09-02T18:32:10.798Z"
   },
   {
    "duration": 36,
    "start_time": "2021-09-02T18:32:12.852Z"
   },
   {
    "duration": 1153,
    "start_time": "2021-09-02T18:40:24.660Z"
   },
   {
    "duration": 27,
    "start_time": "2021-09-02T18:40:25.815Z"
   },
   {
    "duration": 10,
    "start_time": "2021-09-02T18:40:25.845Z"
   },
   {
    "duration": 42,
    "start_time": "2021-09-02T18:40:25.857Z"
   },
   {
    "duration": 45,
    "start_time": "2021-09-02T18:40:25.901Z"
   },
   {
    "duration": 481,
    "start_time": "2021-09-02T18:40:25.948Z"
   },
   {
    "duration": 17,
    "start_time": "2021-09-02T18:40:26.432Z"
   },
   {
    "duration": 363,
    "start_time": "2021-09-02T18:40:26.453Z"
   },
   {
    "duration": 11,
    "start_time": "2021-09-02T18:40:26.819Z"
   },
   {
    "duration": 32,
    "start_time": "2021-09-02T18:40:26.841Z"
   },
   {
    "duration": 53,
    "start_time": "2021-09-02T18:40:26.875Z"
   },
   {
    "duration": 17,
    "start_time": "2021-09-02T18:40:26.930Z"
   },
   {
    "duration": 28,
    "start_time": "2021-09-02T18:40:26.949Z"
   },
   {
    "duration": 30,
    "start_time": "2021-09-02T18:40:26.979Z"
   },
   {
    "duration": 21,
    "start_time": "2021-09-02T18:40:27.010Z"
   },
   {
    "duration": 23,
    "start_time": "2021-09-02T18:40:27.033Z"
   },
   {
    "duration": 45,
    "start_time": "2021-09-02T18:40:27.058Z"
   },
   {
    "duration": 36,
    "start_time": "2021-09-02T18:40:27.105Z"
   },
   {
    "duration": 34,
    "start_time": "2021-09-02T18:40:27.143Z"
   },
   {
    "duration": 39,
    "start_time": "2021-09-02T18:40:27.179Z"
   },
   {
    "duration": 14,
    "start_time": "2021-09-02T18:40:27.221Z"
   },
   {
    "duration": 29,
    "start_time": "2021-09-02T18:40:27.237Z"
   },
   {
    "duration": 25,
    "start_time": "2021-09-02T18:40:27.271Z"
   },
   {
    "duration": 32,
    "start_time": "2021-09-02T18:40:27.300Z"
   },
   {
    "duration": 29,
    "start_time": "2021-09-02T18:40:27.335Z"
   },
   {
    "duration": 34,
    "start_time": "2021-09-02T18:40:27.367Z"
   },
   {
    "duration": 56,
    "start_time": "2021-09-02T18:40:27.404Z"
   },
   {
    "duration": 45,
    "start_time": "2021-09-02T18:40:27.462Z"
   },
   {
    "duration": 7,
    "start_time": "2021-09-02T18:40:27.509Z"
   },
   {
    "duration": 33,
    "start_time": "2021-09-02T18:40:27.518Z"
   },
   {
    "duration": 18,
    "start_time": "2021-09-02T18:40:27.554Z"
   },
   {
    "duration": 31,
    "start_time": "2021-09-02T18:40:27.575Z"
   },
   {
    "duration": 64,
    "start_time": "2021-09-02T18:40:27.608Z"
   },
   {
    "duration": 1475,
    "start_time": "2021-09-02T18:40:27.674Z"
   },
   {
    "duration": 92,
    "start_time": "2021-09-02T18:40:29.151Z"
   },
   {
    "duration": 13,
    "start_time": "2021-09-02T18:40:29.245Z"
   },
   {
    "duration": 91,
    "start_time": "2021-09-02T18:40:29.260Z"
   },
   {
    "duration": 271,
    "start_time": "2021-09-02T18:40:29.353Z"
   },
   {
    "duration": 173,
    "start_time": "2021-09-02T18:40:29.626Z"
   },
   {
    "duration": 10,
    "start_time": "2021-09-02T18:40:29.801Z"
   },
   {
    "duration": 29,
    "start_time": "2021-09-02T18:40:29.813Z"
   },
   {
    "duration": 297,
    "start_time": "2021-09-02T18:40:29.844Z"
   },
   {
    "duration": 173,
    "start_time": "2021-09-02T18:40:30.144Z"
   },
   {
    "duration": 12,
    "start_time": "2021-09-02T18:40:30.319Z"
   },
   {
    "duration": 64,
    "start_time": "2021-09-02T18:40:30.344Z"
   },
   {
    "duration": 38,
    "start_time": "2021-09-02T18:40:30.411Z"
   },
   {
    "duration": 489,
    "start_time": "2021-09-02T18:40:30.452Z"
   },
   {
    "duration": 349,
    "start_time": "2021-09-02T18:40:30.944Z"
   },
   {
    "duration": 13,
    "start_time": "2021-09-02T18:40:31.295Z"
   },
   {
    "duration": 379,
    "start_time": "2021-09-02T18:40:31.310Z"
   },
   {
    "duration": 232,
    "start_time": "2021-09-02T18:40:31.691Z"
   },
   {
    "duration": 18,
    "start_time": "2021-09-02T18:40:31.925Z"
   },
   {
    "duration": 432,
    "start_time": "2021-09-02T18:40:31.944Z"
   },
   {
    "duration": 132,
    "start_time": "2021-09-02T18:40:32.378Z"
   },
   {
    "duration": 12,
    "start_time": "2021-09-02T18:40:32.513Z"
   },
   {
    "duration": 28,
    "start_time": "2021-09-02T18:40:32.528Z"
   },
   {
    "duration": 208,
    "start_time": "2021-09-02T18:40:32.559Z"
   },
   {
    "duration": -159,
    "start_time": "2021-09-02T18:40:32.929Z"
   },
   {
    "duration": -169,
    "start_time": "2021-09-02T18:40:32.941Z"
   },
   {
    "duration": -180,
    "start_time": "2021-09-02T18:40:32.953Z"
   },
   {
    "duration": -187,
    "start_time": "2021-09-02T18:40:32.962Z"
   },
   {
    "duration": -191,
    "start_time": "2021-09-02T18:40:32.968Z"
   },
   {
    "duration": -196,
    "start_time": "2021-09-02T18:40:32.974Z"
   },
   {
    "duration": -202,
    "start_time": "2021-09-02T18:40:32.982Z"
   },
   {
    "duration": -207,
    "start_time": "2021-09-02T18:40:32.988Z"
   },
   {
    "duration": -212,
    "start_time": "2021-09-02T18:40:32.995Z"
   },
   {
    "duration": -264,
    "start_time": "2021-09-02T18:40:33.048Z"
   },
   {
    "duration": -274,
    "start_time": "2021-09-02T18:40:33.060Z"
   },
   {
    "duration": -280,
    "start_time": "2021-09-02T18:40:33.067Z"
   },
   {
    "duration": -283,
    "start_time": "2021-09-02T18:40:33.072Z"
   },
   {
    "duration": -297,
    "start_time": "2021-09-02T18:40:33.087Z"
   },
   {
    "duration": -303,
    "start_time": "2021-09-02T18:40:33.095Z"
   },
   {
    "duration": -309,
    "start_time": "2021-09-02T18:40:33.102Z"
   },
   {
    "duration": -312,
    "start_time": "2021-09-02T18:40:33.107Z"
   },
   {
    "duration": -319,
    "start_time": "2021-09-02T18:40:33.116Z"
   },
   {
    "duration": -324,
    "start_time": "2021-09-02T18:40:33.122Z"
   },
   {
    "duration": -328,
    "start_time": "2021-09-02T18:40:33.128Z"
   },
   {
    "duration": -332,
    "start_time": "2021-09-02T18:40:33.134Z"
   },
   {
    "duration": -337,
    "start_time": "2021-09-02T18:40:33.140Z"
   },
   {
    "duration": -353,
    "start_time": "2021-09-02T18:40:33.157Z"
   },
   {
    "duration": -359,
    "start_time": "2021-09-02T18:40:33.165Z"
   },
   {
    "duration": -363,
    "start_time": "2021-09-02T18:40:33.170Z"
   },
   {
    "duration": -369,
    "start_time": "2021-09-02T18:40:33.178Z"
   },
   {
    "duration": 192,
    "start_time": "2021-09-02T18:41:11.199Z"
   },
   {
    "duration": 217,
    "start_time": "2021-09-02T18:42:48.471Z"
   },
   {
    "duration": 38,
    "start_time": "2021-09-02T18:44:35.128Z"
   },
   {
    "duration": 10,
    "start_time": "2021-09-02T18:45:04.015Z"
   },
   {
    "duration": 187,
    "start_time": "2021-09-02T18:46:26.385Z"
   },
   {
    "duration": 233,
    "start_time": "2021-09-02T18:46:48.994Z"
   },
   {
    "duration": 214,
    "start_time": "2021-09-02T18:47:04.673Z"
   },
   {
    "duration": 188,
    "start_time": "2021-09-02T18:48:02.178Z"
   },
   {
    "duration": 22,
    "start_time": "2021-09-02T18:49:06.163Z"
   },
   {
    "duration": 9,
    "start_time": "2021-09-02T18:49:21.155Z"
   },
   {
    "duration": 8,
    "start_time": "2021-09-02T18:49:45.852Z"
   },
   {
    "duration": 7,
    "start_time": "2021-09-02T18:49:55.681Z"
   },
   {
    "duration": 7,
    "start_time": "2021-09-02T18:49:57.520Z"
   },
   {
    "duration": 204,
    "start_time": "2021-09-02T18:50:12.139Z"
   },
   {
    "duration": 200,
    "start_time": "2021-09-02T18:50:25.790Z"
   },
   {
    "duration": 294,
    "start_time": "2021-09-02T18:50:34.514Z"
   },
   {
    "duration": 303,
    "start_time": "2021-09-02T18:51:45.989Z"
   },
   {
    "duration": 240,
    "start_time": "2021-09-02T18:52:18.447Z"
   },
   {
    "duration": 14,
    "start_time": "2021-09-02T18:53:57.102Z"
   },
   {
    "duration": 471,
    "start_time": "2021-09-02T18:54:24.547Z"
   },
   {
    "duration": 147,
    "start_time": "2021-09-02T18:54:30.888Z"
   },
   {
    "duration": 195,
    "start_time": "2021-09-02T18:54:51.496Z"
   },
   {
    "duration": 272,
    "start_time": "2021-09-02T18:55:04.816Z"
   },
   {
    "duration": 231,
    "start_time": "2021-09-02T18:55:17.510Z"
   },
   {
    "duration": 214,
    "start_time": "2021-09-02T18:55:19.724Z"
   },
   {
    "duration": 209,
    "start_time": "2021-09-02T18:56:49.002Z"
   },
   {
    "duration": 205,
    "start_time": "2021-09-02T18:56:58.027Z"
   },
   {
    "duration": 69,
    "start_time": "2021-09-02T18:57:58.426Z"
   },
   {
    "duration": 37,
    "start_time": "2021-09-02T18:58:08.579Z"
   },
   {
    "duration": 9,
    "start_time": "2021-09-02T18:58:15.582Z"
   },
   {
    "duration": 7,
    "start_time": "2021-09-02T18:58:44.088Z"
   },
   {
    "duration": 190,
    "start_time": "2021-09-02T18:58:50.048Z"
   },
   {
    "duration": 150,
    "start_time": "2021-09-02T18:59:09.792Z"
   },
   {
    "duration": 35,
    "start_time": "2021-09-02T19:01:36.931Z"
   },
   {
    "duration": 8,
    "start_time": "2021-09-02T19:01:44.615Z"
   },
   {
    "duration": 8,
    "start_time": "2021-09-02T19:02:19.779Z"
   },
   {
    "duration": 9,
    "start_time": "2021-09-02T19:04:54.418Z"
   },
   {
    "duration": 207,
    "start_time": "2021-09-02T19:05:22.886Z"
   },
   {
    "duration": 368,
    "start_time": "2021-09-02T19:05:30.477Z"
   },
   {
    "duration": 156,
    "start_time": "2021-09-02T19:06:06.761Z"
   },
   {
    "duration": 137,
    "start_time": "2021-09-02T19:07:47.457Z"
   },
   {
    "duration": 143,
    "start_time": "2021-09-02T19:07:59.515Z"
   },
   {
    "duration": 216,
    "start_time": "2021-09-02T19:08:33.186Z"
   },
   {
    "duration": 163,
    "start_time": "2021-09-02T19:09:36.237Z"
   },
   {
    "duration": 10,
    "start_time": "2021-09-02T19:10:11.803Z"
   },
   {
    "duration": 162,
    "start_time": "2021-09-02T19:10:54.203Z"
   },
   {
    "duration": 9,
    "start_time": "2021-09-02T19:11:17.598Z"
   },
   {
    "duration": 30,
    "start_time": "2021-09-02T19:13:37.267Z"
   },
   {
    "duration": 422,
    "start_time": "2021-09-02T19:15:33.870Z"
   },
   {
    "duration": 474,
    "start_time": "2021-09-02T19:15:55.952Z"
   },
   {
    "duration": 628,
    "start_time": "2021-09-02T19:16:03.089Z"
   },
   {
    "duration": 476,
    "start_time": "2021-09-02T19:18:56.723Z"
   },
   {
    "duration": 603,
    "start_time": "2021-09-02T19:19:06.523Z"
   },
   {
    "duration": 460,
    "start_time": "2021-09-02T19:19:25.666Z"
   },
   {
    "duration": 573,
    "start_time": "2021-09-02T19:20:36.395Z"
   },
   {
    "duration": 450,
    "start_time": "2021-09-02T19:20:48.206Z"
   },
   {
    "duration": 713,
    "start_time": "2021-09-02T19:21:19.715Z"
   },
   {
    "duration": 447,
    "start_time": "2021-09-02T19:21:25.418Z"
   },
   {
    "duration": 710,
    "start_time": "2021-09-02T19:21:38.660Z"
   },
   {
    "duration": 920,
    "start_time": "2021-09-02T19:21:43.819Z"
   },
   {
    "duration": 580,
    "start_time": "2021-09-02T19:21:57.964Z"
   },
   {
    "duration": 10,
    "start_time": "2021-09-02T19:23:43.534Z"
   },
   {
    "duration": 11,
    "start_time": "2021-09-02T19:23:44.888Z"
   },
   {
    "duration": 26,
    "start_time": "2021-09-02T19:23:52.786Z"
   },
   {
    "duration": 6,
    "start_time": "2021-09-02T19:24:29.666Z"
   },
   {
    "duration": 6,
    "start_time": "2021-09-02T19:25:54.104Z"
   },
   {
    "duration": 7,
    "start_time": "2021-09-02T19:25:57.113Z"
   },
   {
    "duration": 995,
    "start_time": "2021-09-02T19:26:11.561Z"
   },
   {
    "duration": 16,
    "start_time": "2021-09-02T19:26:12.558Z"
   },
   {
    "duration": 12,
    "start_time": "2021-09-02T19:26:12.577Z"
   },
   {
    "duration": 27,
    "start_time": "2021-09-02T19:26:12.591Z"
   },
   {
    "duration": 44,
    "start_time": "2021-09-02T19:26:12.620Z"
   },
   {
    "duration": 468,
    "start_time": "2021-09-02T19:26:12.667Z"
   },
   {
    "duration": 11,
    "start_time": "2021-09-02T19:26:13.141Z"
   },
   {
    "duration": 239,
    "start_time": "2021-09-02T19:26:13.155Z"
   },
   {
    "duration": 11,
    "start_time": "2021-09-02T19:26:13.397Z"
   },
   {
    "duration": 62,
    "start_time": "2021-09-02T19:26:13.410Z"
   },
   {
    "duration": 36,
    "start_time": "2021-09-02T19:26:13.474Z"
   },
   {
    "duration": 10,
    "start_time": "2021-09-02T19:26:13.512Z"
   },
   {
    "duration": 32,
    "start_time": "2021-09-02T19:26:13.524Z"
   },
   {
    "duration": 6,
    "start_time": "2021-09-02T19:26:13.558Z"
   },
   {
    "duration": 10,
    "start_time": "2021-09-02T19:26:13.566Z"
   },
   {
    "duration": 14,
    "start_time": "2021-09-02T19:26:13.578Z"
   },
   {
    "duration": 8,
    "start_time": "2021-09-02T19:26:13.595Z"
   },
   {
    "duration": 37,
    "start_time": "2021-09-02T19:26:13.606Z"
   },
   {
    "duration": 14,
    "start_time": "2021-09-02T19:26:13.651Z"
   },
   {
    "duration": 16,
    "start_time": "2021-09-02T19:26:13.667Z"
   },
   {
    "duration": 10,
    "start_time": "2021-09-02T19:26:13.685Z"
   },
   {
    "duration": 20,
    "start_time": "2021-09-02T19:26:13.696Z"
   },
   {
    "duration": 231,
    "start_time": "2021-09-02T19:26:13.740Z"
   },
   {
    "duration": -1881,
    "start_time": "2021-09-02T19:26:15.857Z"
   },
   {
    "duration": -1889,
    "start_time": "2021-09-02T19:26:15.866Z"
   },
   {
    "duration": -1894,
    "start_time": "2021-09-02T19:26:15.872Z"
   },
   {
    "duration": -1898,
    "start_time": "2021-09-02T19:26:15.879Z"
   },
   {
    "duration": -1903,
    "start_time": "2021-09-02T19:26:15.885Z"
   },
   {
    "duration": -1910,
    "start_time": "2021-09-02T19:26:15.893Z"
   },
   {
    "duration": -1915,
    "start_time": "2021-09-02T19:26:15.899Z"
   },
   {
    "duration": -1921,
    "start_time": "2021-09-02T19:26:15.906Z"
   },
   {
    "duration": -1927,
    "start_time": "2021-09-02T19:26:15.912Z"
   },
   {
    "duration": -1933,
    "start_time": "2021-09-02T19:26:15.919Z"
   },
   {
    "duration": -1938,
    "start_time": "2021-09-02T19:26:15.925Z"
   },
   {
    "duration": -1944,
    "start_time": "2021-09-02T19:26:15.932Z"
   },
   {
    "duration": -1947,
    "start_time": "2021-09-02T19:26:15.938Z"
   },
   {
    "duration": -1953,
    "start_time": "2021-09-02T19:26:15.946Z"
   },
   {
    "duration": -1958,
    "start_time": "2021-09-02T19:26:15.952Z"
   },
   {
    "duration": -1972,
    "start_time": "2021-09-02T19:26:15.968Z"
   },
   {
    "duration": -1981,
    "start_time": "2021-09-02T19:26:15.978Z"
   },
   {
    "duration": -1992,
    "start_time": "2021-09-02T19:26:15.990Z"
   },
   {
    "duration": -1997,
    "start_time": "2021-09-02T19:26:15.996Z"
   },
   {
    "duration": -2003,
    "start_time": "2021-09-02T19:26:16.003Z"
   },
   {
    "duration": -2007,
    "start_time": "2021-09-02T19:26:16.009Z"
   },
   {
    "duration": -2013,
    "start_time": "2021-09-02T19:26:16.016Z"
   },
   {
    "duration": -2020,
    "start_time": "2021-09-02T19:26:16.024Z"
   },
   {
    "duration": -2026,
    "start_time": "2021-09-02T19:26:16.031Z"
   },
   {
    "duration": -2032,
    "start_time": "2021-09-02T19:26:16.037Z"
   },
   {
    "duration": -2038,
    "start_time": "2021-09-02T19:26:16.044Z"
   },
   {
    "duration": -2043,
    "start_time": "2021-09-02T19:26:16.050Z"
   },
   {
    "duration": -2050,
    "start_time": "2021-09-02T19:26:16.057Z"
   },
   {
    "duration": -2056,
    "start_time": "2021-09-02T19:26:16.064Z"
   },
   {
    "duration": -2070,
    "start_time": "2021-09-02T19:26:16.079Z"
   },
   {
    "duration": -2077,
    "start_time": "2021-09-02T19:26:16.086Z"
   },
   {
    "duration": -2082,
    "start_time": "2021-09-02T19:26:16.092Z"
   },
   {
    "duration": -2092,
    "start_time": "2021-09-02T19:26:16.103Z"
   },
   {
    "duration": -2100,
    "start_time": "2021-09-02T19:26:16.111Z"
   },
   {
    "duration": -2105,
    "start_time": "2021-09-02T19:26:16.117Z"
   },
   {
    "duration": -2112,
    "start_time": "2021-09-02T19:26:16.125Z"
   },
   {
    "duration": -2118,
    "start_time": "2021-09-02T19:26:16.131Z"
   },
   {
    "duration": -2124,
    "start_time": "2021-09-02T19:26:16.138Z"
   },
   {
    "duration": -2130,
    "start_time": "2021-09-02T19:26:16.145Z"
   },
   {
    "duration": -2137,
    "start_time": "2021-09-02T19:26:16.152Z"
   },
   {
    "duration": -2142,
    "start_time": "2021-09-02T19:26:16.158Z"
   },
   {
    "duration": -2147,
    "start_time": "2021-09-02T19:26:16.165Z"
   },
   {
    "duration": -2130,
    "start_time": "2021-09-02T19:26:16.171Z"
   },
   {
    "duration": -2145,
    "start_time": "2021-09-02T19:26:16.187Z"
   },
   {
    "duration": -2150,
    "start_time": "2021-09-02T19:26:16.193Z"
   },
   {
    "duration": -2157,
    "start_time": "2021-09-02T19:26:16.201Z"
   },
   {
    "duration": -2162,
    "start_time": "2021-09-02T19:26:16.207Z"
   },
   {
    "duration": -2169,
    "start_time": "2021-09-02T19:26:16.215Z"
   },
   {
    "duration": -2173,
    "start_time": "2021-09-02T19:26:16.221Z"
   },
   {
    "duration": -2179,
    "start_time": "2021-09-02T19:26:16.228Z"
   },
   {
    "duration": -2184,
    "start_time": "2021-09-02T19:26:16.234Z"
   },
   {
    "duration": -2190,
    "start_time": "2021-09-02T19:26:16.241Z"
   },
   {
    "duration": -2195,
    "start_time": "2021-09-02T19:26:16.247Z"
   },
   {
    "duration": -2201,
    "start_time": "2021-09-02T19:26:16.254Z"
   },
   {
    "duration": -2205,
    "start_time": "2021-09-02T19:26:16.260Z"
   },
   {
    "duration": -2211,
    "start_time": "2021-09-02T19:26:16.267Z"
   },
   {
    "duration": -2218,
    "start_time": "2021-09-02T19:26:16.274Z"
   },
   {
    "duration": -2224,
    "start_time": "2021-09-02T19:26:16.281Z"
   },
   {
    "duration": -2237,
    "start_time": "2021-09-02T19:26:16.296Z"
   },
   {
    "duration": -2243,
    "start_time": "2021-09-02T19:26:16.303Z"
   },
   {
    "duration": -2248,
    "start_time": "2021-09-02T19:26:16.309Z"
   },
   {
    "duration": -2256,
    "start_time": "2021-09-02T19:26:16.318Z"
   },
   {
    "duration": -2261,
    "start_time": "2021-09-02T19:26:16.323Z"
   },
   {
    "duration": -2267,
    "start_time": "2021-09-02T19:26:16.330Z"
   },
   {
    "duration": -2273,
    "start_time": "2021-09-02T19:26:16.337Z"
   },
   {
    "duration": -2279,
    "start_time": "2021-09-02T19:26:16.344Z"
   },
   {
    "duration": -2284,
    "start_time": "2021-09-02T19:26:16.350Z"
   },
   {
    "duration": -2289,
    "start_time": "2021-09-02T19:26:16.356Z"
   },
   {
    "duration": -2294,
    "start_time": "2021-09-02T19:26:16.362Z"
   },
   {
    "duration": -2300,
    "start_time": "2021-09-02T19:26:16.369Z"
   },
   {
    "duration": -2305,
    "start_time": "2021-09-02T19:26:16.375Z"
   },
   {
    "duration": 6,
    "start_time": "2021-09-02T19:26:29.967Z"
   },
   {
    "duration": 9,
    "start_time": "2021-09-02T19:26:32.739Z"
   },
   {
    "duration": 7,
    "start_time": "2021-09-02T19:26:35.965Z"
   },
   {
    "duration": 6,
    "start_time": "2021-09-02T19:27:37.111Z"
   },
   {
    "duration": 17,
    "start_time": "2021-09-02T19:33:51.267Z"
   },
   {
    "duration": 21,
    "start_time": "2021-09-02T19:33:55.035Z"
   },
   {
    "duration": 16,
    "start_time": "2021-09-02T19:41:15.901Z"
   },
   {
    "duration": 9,
    "start_time": "2021-09-02T19:41:31.431Z"
   },
   {
    "duration": 8,
    "start_time": "2021-09-02T19:41:55.051Z"
   },
   {
    "duration": 9,
    "start_time": "2021-09-02T19:42:44.722Z"
   },
   {
    "duration": 3177,
    "start_time": "2021-09-02T19:42:52.808Z"
   },
   {
    "duration": 9,
    "start_time": "2021-09-02T19:43:45.764Z"
   },
   {
    "duration": 387,
    "start_time": "2021-09-02T19:44:18.445Z"
   },
   {
    "duration": 298,
    "start_time": "2021-09-02T19:45:02.668Z"
   },
   {
    "duration": 339,
    "start_time": "2021-09-02T19:45:08.507Z"
   },
   {
    "duration": 21,
    "start_time": "2021-09-02T19:45:54.150Z"
   },
   {
    "duration": 4,
    "start_time": "2021-09-02T19:46:45.176Z"
   },
   {
    "duration": 267,
    "start_time": "2021-09-02T19:46:52.257Z"
   },
   {
    "duration": 4,
    "start_time": "2021-09-02T19:48:00.767Z"
   },
   {
    "duration": 3,
    "start_time": "2021-09-02T19:48:18.160Z"
   },
   {
    "duration": 280,
    "start_time": "2021-09-02T19:48:26.452Z"
   },
   {
    "duration": 98,
    "start_time": "2021-09-02T19:48:53.202Z"
   },
   {
    "duration": 463,
    "start_time": "2021-09-02T19:48:58.774Z"
   },
   {
    "duration": 8,
    "start_time": "2021-09-02T19:49:28.024Z"
   },
   {
    "duration": 8,
    "start_time": "2021-09-02T19:49:31.093Z"
   },
   {
    "duration": 7,
    "start_time": "2021-09-02T19:49:34.455Z"
   },
   {
    "duration": 6,
    "start_time": "2021-09-02T19:49:43.208Z"
   },
   {
    "duration": 7,
    "start_time": "2021-09-02T19:49:44.648Z"
   },
   {
    "duration": 10,
    "start_time": "2021-09-02T19:49:47.244Z"
   },
   {
    "duration": 9,
    "start_time": "2021-09-02T19:50:01.247Z"
   },
   {
    "duration": 805,
    "start_time": "2021-09-02T19:51:08.975Z"
   },
   {
    "duration": 11,
    "start_time": "2021-09-02T19:51:09.783Z"
   },
   {
    "duration": 9,
    "start_time": "2021-09-02T19:51:09.797Z"
   },
   {
    "duration": 27,
    "start_time": "2021-09-02T19:51:09.841Z"
   },
   {
    "duration": 20,
    "start_time": "2021-09-02T19:51:09.870Z"
   },
   {
    "duration": 367,
    "start_time": "2021-09-02T19:51:09.892Z"
   },
   {
    "duration": 10,
    "start_time": "2021-09-02T19:51:10.261Z"
   },
   {
    "duration": 236,
    "start_time": "2021-09-02T19:51:10.274Z"
   },
   {
    "duration": 10,
    "start_time": "2021-09-02T19:51:10.514Z"
   },
   {
    "duration": 46,
    "start_time": "2021-09-02T19:51:10.541Z"
   },
   {
    "duration": 63,
    "start_time": "2021-09-02T19:51:10.589Z"
   },
   {
    "duration": 11,
    "start_time": "2021-09-02T19:51:10.654Z"
   },
   {
    "duration": 12,
    "start_time": "2021-09-02T19:51:10.667Z"
   },
   {
    "duration": 5,
    "start_time": "2021-09-02T19:51:10.681Z"
   },
   {
    "duration": 7,
    "start_time": "2021-09-02T19:51:10.688Z"
   },
   {
    "duration": 8,
    "start_time": "2021-09-02T19:51:10.696Z"
   },
   {
    "duration": 39,
    "start_time": "2021-09-02T19:51:10.706Z"
   },
   {
    "duration": 21,
    "start_time": "2021-09-02T19:51:10.747Z"
   },
   {
    "duration": 10,
    "start_time": "2021-09-02T19:51:10.770Z"
   },
   {
    "duration": 17,
    "start_time": "2021-09-02T19:51:10.782Z"
   },
   {
    "duration": 3,
    "start_time": "2021-09-02T19:51:10.801Z"
   },
   {
    "duration": 48,
    "start_time": "2021-09-02T19:51:10.806Z"
   },
   {
    "duration": 5,
    "start_time": "2021-09-02T19:51:10.860Z"
   },
   {
    "duration": 7,
    "start_time": "2021-09-02T19:51:10.868Z"
   },
   {
    "duration": 14,
    "start_time": "2021-09-02T19:51:10.877Z"
   },
   {
    "duration": 101,
    "start_time": "2021-09-02T19:51:10.893Z"
   },
   {
    "duration": -432,
    "start_time": "2021-09-02T19:51:11.429Z"
   },
   {
    "duration": -506,
    "start_time": "2021-09-02T19:51:11.504Z"
   },
   {
    "duration": -523,
    "start_time": "2021-09-02T19:51:11.522Z"
   },
   {
    "duration": -536,
    "start_time": "2021-09-02T19:51:11.536Z"
   },
   {
    "duration": -556,
    "start_time": "2021-09-02T19:51:11.557Z"
   },
   {
    "duration": -562,
    "start_time": "2021-09-02T19:51:11.564Z"
   },
   {
    "duration": -572,
    "start_time": "2021-09-02T19:51:11.575Z"
   },
   {
    "duration": -577,
    "start_time": "2021-09-02T19:51:11.581Z"
   },
   {
    "duration": -587,
    "start_time": "2021-09-02T19:51:11.592Z"
   },
   {
    "duration": -617,
    "start_time": "2021-09-02T19:51:11.623Z"
   },
   {
    "duration": -630,
    "start_time": "2021-09-02T19:51:11.637Z"
   },
   {
    "duration": -638,
    "start_time": "2021-09-02T19:51:11.646Z"
   },
   {
    "duration": -645,
    "start_time": "2021-09-02T19:51:11.655Z"
   },
   {
    "duration": -651,
    "start_time": "2021-09-02T19:51:11.662Z"
   },
   {
    "duration": -659,
    "start_time": "2021-09-02T19:51:11.671Z"
   },
   {
    "duration": -665,
    "start_time": "2021-09-02T19:51:11.678Z"
   },
   {
    "duration": -673,
    "start_time": "2021-09-02T19:51:11.687Z"
   },
   {
    "duration": -678,
    "start_time": "2021-09-02T19:51:11.693Z"
   },
   {
    "duration": -686,
    "start_time": "2021-09-02T19:51:11.702Z"
   },
   {
    "duration": -692,
    "start_time": "2021-09-02T19:51:11.709Z"
   },
   {
    "duration": -709,
    "start_time": "2021-09-02T19:51:11.727Z"
   },
   {
    "duration": -716,
    "start_time": "2021-09-02T19:51:11.735Z"
   },
   {
    "duration": -727,
    "start_time": "2021-09-02T19:51:11.747Z"
   },
   {
    "duration": -732,
    "start_time": "2021-09-02T19:51:11.754Z"
   },
   {
    "duration": -739,
    "start_time": "2021-09-02T19:51:11.762Z"
   },
   {
    "duration": -746,
    "start_time": "2021-09-02T19:51:11.770Z"
   },
   {
    "duration": -754,
    "start_time": "2021-09-02T19:51:11.779Z"
   },
   {
    "duration": -760,
    "start_time": "2021-09-02T19:51:11.786Z"
   },
   {
    "duration": -770,
    "start_time": "2021-09-02T19:51:11.797Z"
   },
   {
    "duration": -776,
    "start_time": "2021-09-02T19:51:11.804Z"
   },
   {
    "duration": -789,
    "start_time": "2021-09-02T19:51:11.818Z"
   },
   {
    "duration": -810,
    "start_time": "2021-09-02T19:51:11.840Z"
   },
   {
    "duration": -819,
    "start_time": "2021-09-02T19:51:11.849Z"
   },
   {
    "duration": -825,
    "start_time": "2021-09-02T19:51:11.856Z"
   },
   {
    "duration": -838,
    "start_time": "2021-09-02T19:51:11.870Z"
   },
   {
    "duration": -858,
    "start_time": "2021-09-02T19:51:11.891Z"
   },
   {
    "duration": -868,
    "start_time": "2021-09-02T19:51:11.902Z"
   },
   {
    "duration": -895,
    "start_time": "2021-09-02T19:51:11.930Z"
   },
   {
    "duration": -892,
    "start_time": "2021-09-02T19:51:11.943Z"
   },
   {
    "duration": -900,
    "start_time": "2021-09-02T19:51:11.952Z"
   },
   {
    "duration": -936,
    "start_time": "2021-09-02T19:51:11.990Z"
   },
   {
    "duration": -948,
    "start_time": "2021-09-02T19:51:12.002Z"
   },
   {
    "duration": -959,
    "start_time": "2021-09-02T19:51:12.014Z"
   },
   {
    "duration": -966,
    "start_time": "2021-09-02T19:51:12.022Z"
   },
   {
    "duration": -976,
    "start_time": "2021-09-02T19:51:12.033Z"
   },
   {
    "duration": -990,
    "start_time": "2021-09-02T19:51:12.048Z"
   },
   {
    "duration": -1007,
    "start_time": "2021-09-02T19:51:12.065Z"
   },
   {
    "duration": -1013,
    "start_time": "2021-09-02T19:51:12.072Z"
   },
   {
    "duration": -1024,
    "start_time": "2021-09-02T19:51:12.083Z"
   },
   {
    "duration": -1032,
    "start_time": "2021-09-02T19:51:12.092Z"
   },
   {
    "duration": -1042,
    "start_time": "2021-09-02T19:51:12.103Z"
   },
   {
    "duration": -1052,
    "start_time": "2021-09-02T19:51:12.113Z"
   },
   {
    "duration": -1060,
    "start_time": "2021-09-02T19:51:12.122Z"
   },
   {
    "duration": -1070,
    "start_time": "2021-09-02T19:51:12.132Z"
   },
   {
    "duration": -1079,
    "start_time": "2021-09-02T19:51:12.142Z"
   },
   {
    "duration": -1086,
    "start_time": "2021-09-02T19:51:12.151Z"
   },
   {
    "duration": -1096,
    "start_time": "2021-09-02T19:51:12.162Z"
   },
   {
    "duration": -1103,
    "start_time": "2021-09-02T19:51:12.170Z"
   },
   {
    "duration": -1147,
    "start_time": "2021-09-02T19:51:12.215Z"
   },
   {
    "duration": -1155,
    "start_time": "2021-09-02T19:51:12.224Z"
   },
   {
    "duration": -1166,
    "start_time": "2021-09-02T19:51:12.236Z"
   },
   {
    "duration": -1175,
    "start_time": "2021-09-02T19:51:12.245Z"
   },
   {
    "duration": -1205,
    "start_time": "2021-09-02T19:51:12.276Z"
   },
   {
    "duration": -1475,
    "start_time": "2021-09-02T19:51:12.547Z"
   },
   {
    "duration": -1493,
    "start_time": "2021-09-02T19:51:12.566Z"
   },
   {
    "duration": -1499,
    "start_time": "2021-09-02T19:51:12.573Z"
   },
   {
    "duration": -1507,
    "start_time": "2021-09-02T19:51:12.582Z"
   },
   {
    "duration": -1521,
    "start_time": "2021-09-02T19:51:12.597Z"
   },
   {
    "duration": -1528,
    "start_time": "2021-09-02T19:51:12.605Z"
   },
   {
    "duration": -1540,
    "start_time": "2021-09-02T19:51:12.620Z"
   },
   {
    "duration": -1554,
    "start_time": "2021-09-02T19:51:12.635Z"
   },
   {
    "duration": -1560,
    "start_time": "2021-09-02T19:51:12.643Z"
   },
   {
    "duration": -1574,
    "start_time": "2021-09-02T19:51:12.658Z"
   },
   {
    "duration": 22,
    "start_time": "2021-09-02T19:58:22.837Z"
   },
   {
    "duration": 6,
    "start_time": "2021-09-02T19:58:37.214Z"
   },
   {
    "duration": 9,
    "start_time": "2021-09-02T19:58:52.794Z"
   },
   {
    "duration": 13,
    "start_time": "2021-09-02T19:59:02.102Z"
   },
   {
    "duration": 8,
    "start_time": "2021-09-02T19:59:03.210Z"
   },
   {
    "duration": 7,
    "start_time": "2021-09-02T19:59:06.825Z"
   },
   {
    "duration": 463,
    "start_time": "2021-09-02T20:04:59.449Z"
   },
   {
    "duration": 3,
    "start_time": "2021-09-02T20:05:03.821Z"
   },
   {
    "duration": 20,
    "start_time": "2021-09-02T20:05:04.850Z"
   },
   {
    "duration": 36,
    "start_time": "2021-09-02T20:05:23.332Z"
   },
   {
    "duration": 197,
    "start_time": "2021-09-02T20:05:39.560Z"
   },
   {
    "duration": 291,
    "start_time": "2021-09-02T20:05:51.198Z"
   },
   {
    "duration": 38,
    "start_time": "2021-09-02T20:06:18.511Z"
   },
   {
    "duration": 345,
    "start_time": "2021-09-02T20:06:53.871Z"
   },
   {
    "duration": 132,
    "start_time": "2021-09-02T20:07:06.902Z"
   },
   {
    "duration": 6,
    "start_time": "2021-09-02T20:07:16.889Z"
   },
   {
    "duration": 8,
    "start_time": "2021-09-02T20:07:24.826Z"
   },
   {
    "duration": 97,
    "start_time": "2021-09-02T20:08:07.073Z"
   },
   {
    "duration": 9,
    "start_time": "2021-09-02T20:08:08.049Z"
   },
   {
    "duration": 3,
    "start_time": "2021-09-02T20:08:56.112Z"
   },
   {
    "duration": 109,
    "start_time": "2021-09-02T20:08:57.535Z"
   },
   {
    "duration": 9,
    "start_time": "2021-09-02T20:08:58.470Z"
   },
   {
    "duration": 20,
    "start_time": "2021-09-02T20:09:16.391Z"
   },
   {
    "duration": 11,
    "start_time": "2021-09-02T20:09:17.158Z"
   },
   {
    "duration": 856,
    "start_time": "2021-09-02T20:09:42.800Z"
   },
   {
    "duration": 18,
    "start_time": "2021-09-02T20:09:43.658Z"
   },
   {
    "duration": 10,
    "start_time": "2021-09-02T20:09:43.678Z"
   },
   {
    "duration": 22,
    "start_time": "2021-09-02T20:09:43.690Z"
   },
   {
    "duration": 49,
    "start_time": "2021-09-02T20:09:43.713Z"
   },
   {
    "duration": 371,
    "start_time": "2021-09-02T20:09:43.765Z"
   },
   {
    "duration": 16,
    "start_time": "2021-09-02T20:09:44.138Z"
   },
   {
    "duration": 250,
    "start_time": "2021-09-02T20:09:44.157Z"
   },
   {
    "duration": 9,
    "start_time": "2021-09-02T20:09:44.410Z"
   },
   {
    "duration": 53,
    "start_time": "2021-09-02T20:09:44.421Z"
   },
   {
    "duration": 34,
    "start_time": "2021-09-02T20:09:44.477Z"
   },
   {
    "duration": 38,
    "start_time": "2021-09-02T20:09:44.513Z"
   },
   {
    "duration": 18,
    "start_time": "2021-09-02T20:09:44.554Z"
   },
   {
    "duration": 11,
    "start_time": "2021-09-02T20:09:44.576Z"
   },
   {
    "duration": 7,
    "start_time": "2021-09-02T20:09:44.589Z"
   },
   {
    "duration": 6,
    "start_time": "2021-09-02T20:09:44.598Z"
   },
   {
    "duration": 8,
    "start_time": "2021-09-02T20:09:44.606Z"
   },
   {
    "duration": 35,
    "start_time": "2021-09-02T20:09:44.616Z"
   },
   {
    "duration": 23,
    "start_time": "2021-09-02T20:09:44.654Z"
   },
   {
    "duration": 17,
    "start_time": "2021-09-02T20:09:44.685Z"
   },
   {
    "duration": 10,
    "start_time": "2021-09-02T20:09:44.703Z"
   },
   {
    "duration": 26,
    "start_time": "2021-09-02T20:09:44.715Z"
   },
   {
    "duration": 11,
    "start_time": "2021-09-02T20:09:44.747Z"
   },
   {
    "duration": 16,
    "start_time": "2021-09-02T20:09:44.762Z"
   },
   {
    "duration": 15,
    "start_time": "2021-09-02T20:09:44.781Z"
   },
   {
    "duration": 17,
    "start_time": "2021-09-02T20:09:44.798Z"
   },
   {
    "duration": 17,
    "start_time": "2021-09-02T20:09:44.817Z"
   },
   {
    "duration": 129,
    "start_time": "2021-09-02T20:09:44.846Z"
   },
   {
    "duration": -1572,
    "start_time": "2021-09-02T20:09:46.551Z"
   },
   {
    "duration": -1581,
    "start_time": "2021-09-02T20:09:46.562Z"
   },
   {
    "duration": -1590,
    "start_time": "2021-09-02T20:09:46.572Z"
   },
   {
    "duration": -1595,
    "start_time": "2021-09-02T20:09:46.578Z"
   },
   {
    "duration": -1600,
    "start_time": "2021-09-02T20:09:46.585Z"
   },
   {
    "duration": -1605,
    "start_time": "2021-09-02T20:09:46.591Z"
   },
   {
    "duration": -1610,
    "start_time": "2021-09-02T20:09:46.597Z"
   },
   {
    "duration": -1615,
    "start_time": "2021-09-02T20:09:46.603Z"
   },
   {
    "duration": -1627,
    "start_time": "2021-09-02T20:09:46.616Z"
   },
   {
    "duration": -1632,
    "start_time": "2021-09-02T20:09:46.622Z"
   },
   {
    "duration": -1638,
    "start_time": "2021-09-02T20:09:46.629Z"
   },
   {
    "duration": -1643,
    "start_time": "2021-09-02T20:09:46.635Z"
   },
   {
    "duration": -1691,
    "start_time": "2021-09-02T20:09:46.684Z"
   },
   {
    "duration": -1700,
    "start_time": "2021-09-02T20:09:46.694Z"
   },
   {
    "duration": -1714,
    "start_time": "2021-09-02T20:09:46.709Z"
   },
   {
    "duration": -1719,
    "start_time": "2021-09-02T20:09:46.715Z"
   },
   {
    "duration": -1724,
    "start_time": "2021-09-02T20:09:46.721Z"
   },
   {
    "duration": -1730,
    "start_time": "2021-09-02T20:09:46.727Z"
   },
   {
    "duration": -1736,
    "start_time": "2021-09-02T20:09:46.734Z"
   },
   {
    "duration": -2450,
    "start_time": "2021-09-02T20:09:47.449Z"
   },
   {
    "duration": -2469,
    "start_time": "2021-09-02T20:09:47.469Z"
   },
   {
    "duration": -2477,
    "start_time": "2021-09-02T20:09:47.478Z"
   },
   {
    "duration": -2486,
    "start_time": "2021-09-02T20:09:47.488Z"
   },
   {
    "duration": -2492,
    "start_time": "2021-09-02T20:09:47.495Z"
   },
   {
    "duration": -2502,
    "start_time": "2021-09-02T20:09:47.506Z"
   },
   {
    "duration": -2509,
    "start_time": "2021-09-02T20:09:47.513Z"
   },
   {
    "duration": -2516,
    "start_time": "2021-09-02T20:09:47.521Z"
   },
   {
    "duration": -2523,
    "start_time": "2021-09-02T20:09:47.529Z"
   },
   {
    "duration": -2534,
    "start_time": "2021-09-02T20:09:47.541Z"
   },
   {
    "duration": -2540,
    "start_time": "2021-09-02T20:09:47.547Z"
   },
   {
    "duration": -2548,
    "start_time": "2021-09-02T20:09:47.556Z"
   },
   {
    "duration": -2553,
    "start_time": "2021-09-02T20:09:47.562Z"
   },
   {
    "duration": -2579,
    "start_time": "2021-09-02T20:09:47.589Z"
   },
   {
    "duration": -2585,
    "start_time": "2021-09-02T20:09:47.596Z"
   },
   {
    "duration": -2593,
    "start_time": "2021-09-02T20:09:47.605Z"
   },
   {
    "duration": -2605,
    "start_time": "2021-09-02T20:09:47.618Z"
   },
   {
    "duration": -2610,
    "start_time": "2021-09-02T20:09:47.624Z"
   },
   {
    "duration": -2615,
    "start_time": "2021-09-02T20:09:47.630Z"
   },
   {
    "duration": -2620,
    "start_time": "2021-09-02T20:09:47.636Z"
   },
   {
    "duration": -2625,
    "start_time": "2021-09-02T20:09:47.642Z"
   },
   {
    "duration": -2604,
    "start_time": "2021-09-02T20:09:47.649Z"
   },
   {
    "duration": -2608,
    "start_time": "2021-09-02T20:09:47.654Z"
   },
   {
    "duration": -2612,
    "start_time": "2021-09-02T20:09:47.661Z"
   },
   {
    "duration": -2617,
    "start_time": "2021-09-02T20:09:47.667Z"
   },
   {
    "duration": -2623,
    "start_time": "2021-09-02T20:09:47.674Z"
   },
   {
    "duration": -2687,
    "start_time": "2021-09-02T20:09:47.740Z"
   },
   {
    "duration": -2696,
    "start_time": "2021-09-02T20:09:47.750Z"
   },
   {
    "duration": -2704,
    "start_time": "2021-09-02T20:09:47.759Z"
   },
   {
    "duration": -2713,
    "start_time": "2021-09-02T20:09:47.770Z"
   },
   {
    "duration": -2720,
    "start_time": "2021-09-02T20:09:47.778Z"
   },
   {
    "duration": -2728,
    "start_time": "2021-09-02T20:09:47.787Z"
   },
   {
    "duration": -2733,
    "start_time": "2021-09-02T20:09:47.795Z"
   },
   {
    "duration": -2759,
    "start_time": "2021-09-02T20:09:47.822Z"
   },
   {
    "duration": -2765,
    "start_time": "2021-09-02T20:09:47.830Z"
   },
   {
    "duration": -2772,
    "start_time": "2021-09-02T20:09:47.839Z"
   },
   {
    "duration": -2818,
    "start_time": "2021-09-02T20:09:47.887Z"
   },
   {
    "duration": -2826,
    "start_time": "2021-09-02T20:09:47.896Z"
   },
   {
    "duration": -2836,
    "start_time": "2021-09-02T20:09:47.907Z"
   },
   {
    "duration": -2846,
    "start_time": "2021-09-02T20:09:47.919Z"
   },
   {
    "duration": -2853,
    "start_time": "2021-09-02T20:09:47.927Z"
   },
   {
    "duration": -2896,
    "start_time": "2021-09-02T20:09:47.971Z"
   },
   {
    "duration": -2902,
    "start_time": "2021-09-02T20:09:47.979Z"
   },
   {
    "duration": -2913,
    "start_time": "2021-09-02T20:09:47.992Z"
   },
   {
    "duration": -2927,
    "start_time": "2021-09-02T20:09:48.007Z"
   },
   {
    "duration": -2934,
    "start_time": "2021-09-02T20:09:48.015Z"
   },
   {
    "duration": -3034,
    "start_time": "2021-09-02T20:09:48.116Z"
   },
   {
    "duration": -3042,
    "start_time": "2021-09-02T20:09:48.126Z"
   },
   {
    "duration": -3052,
    "start_time": "2021-09-02T20:09:48.136Z"
   },
   {
    "duration": -3059,
    "start_time": "2021-09-02T20:09:48.145Z"
   },
   {
    "duration": -3102,
    "start_time": "2021-09-02T20:09:48.189Z"
   },
   {
    "duration": -3109,
    "start_time": "2021-09-02T20:09:48.196Z"
   },
   {
    "duration": 20,
    "start_time": "2021-09-02T20:09:54.775Z"
   },
   {
    "duration": 16,
    "start_time": "2021-09-02T20:09:55.955Z"
   },
   {
    "duration": 115,
    "start_time": "2021-09-02T20:10:06.539Z"
   },
   {
    "duration": 8,
    "start_time": "2021-09-02T20:10:07.223Z"
   },
   {
    "duration": 782,
    "start_time": "2021-09-02T20:10:25.297Z"
   },
   {
    "duration": 12,
    "start_time": "2021-09-02T20:10:26.082Z"
   },
   {
    "duration": 9,
    "start_time": "2021-09-02T20:10:26.096Z"
   },
   {
    "duration": 50,
    "start_time": "2021-09-02T20:10:26.108Z"
   },
   {
    "duration": 20,
    "start_time": "2021-09-02T20:10:26.160Z"
   },
   {
    "duration": 379,
    "start_time": "2021-09-02T20:10:26.183Z"
   },
   {
    "duration": 17,
    "start_time": "2021-09-02T20:10:26.564Z"
   },
   {
    "duration": 269,
    "start_time": "2021-09-02T20:10:26.584Z"
   },
   {
    "duration": 15,
    "start_time": "2021-09-02T20:10:26.858Z"
   },
   {
    "duration": 44,
    "start_time": "2021-09-02T20:10:26.876Z"
   },
   {
    "duration": 69,
    "start_time": "2021-09-02T20:10:26.922Z"
   },
   {
    "duration": 11,
    "start_time": "2021-09-02T20:10:26.993Z"
   },
   {
    "duration": 14,
    "start_time": "2021-09-02T20:10:27.006Z"
   },
   {
    "duration": 19,
    "start_time": "2021-09-02T20:10:27.022Z"
   },
   {
    "duration": 21,
    "start_time": "2021-09-02T20:10:27.044Z"
   },
   {
    "duration": 15,
    "start_time": "2021-09-02T20:10:27.067Z"
   },
   {
    "duration": 15,
    "start_time": "2021-09-02T20:10:27.084Z"
   },
   {
    "duration": 24,
    "start_time": "2021-09-02T20:10:27.101Z"
   },
   {
    "duration": 31,
    "start_time": "2021-09-02T20:10:27.127Z"
   },
   {
    "duration": 21,
    "start_time": "2021-09-02T20:10:27.160Z"
   },
   {
    "duration": 9,
    "start_time": "2021-09-02T20:10:27.183Z"
   },
   {
    "duration": 22,
    "start_time": "2021-09-02T20:10:27.193Z"
   },
   {
    "duration": 6,
    "start_time": "2021-09-02T20:10:27.219Z"
   },
   {
    "duration": 9,
    "start_time": "2021-09-02T20:10:27.228Z"
   },
   {
    "duration": 20,
    "start_time": "2021-09-02T20:10:27.238Z"
   },
   {
    "duration": 25,
    "start_time": "2021-09-02T20:10:27.260Z"
   },
   {
    "duration": 17,
    "start_time": "2021-09-02T20:10:27.287Z"
   },
   {
    "duration": 122,
    "start_time": "2021-09-02T20:10:27.306Z"
   },
   {
    "duration": -4601,
    "start_time": "2021-09-02T20:10:32.032Z"
   },
   {
    "duration": -4606,
    "start_time": "2021-09-02T20:10:32.038Z"
   },
   {
    "duration": -4613,
    "start_time": "2021-09-02T20:10:32.046Z"
   },
   {
    "duration": -4617,
    "start_time": "2021-09-02T20:10:32.051Z"
   },
   {
    "duration": -4624,
    "start_time": "2021-09-02T20:10:32.058Z"
   },
   {
    "duration": -4629,
    "start_time": "2021-09-02T20:10:32.064Z"
   },
   {
    "duration": -4635,
    "start_time": "2021-09-02T20:10:32.071Z"
   },
   {
    "duration": -4641,
    "start_time": "2021-09-02T20:10:32.078Z"
   },
   {
    "duration": -4647,
    "start_time": "2021-09-02T20:10:32.085Z"
   },
   {
    "duration": -4652,
    "start_time": "2021-09-02T20:10:32.091Z"
   },
   {
    "duration": -4659,
    "start_time": "2021-09-02T20:10:32.099Z"
   },
   {
    "duration": -4664,
    "start_time": "2021-09-02T20:10:32.105Z"
   },
   {
    "duration": -4710,
    "start_time": "2021-09-02T20:10:32.152Z"
   },
   {
    "duration": -4717,
    "start_time": "2021-09-02T20:10:32.160Z"
   },
   {
    "duration": -4724,
    "start_time": "2021-09-02T20:10:32.168Z"
   },
   {
    "duration": -4729,
    "start_time": "2021-09-02T20:10:32.174Z"
   },
   {
    "duration": -4738,
    "start_time": "2021-09-02T20:10:32.184Z"
   },
   {
    "duration": -4743,
    "start_time": "2021-09-02T20:10:32.190Z"
   },
   {
    "duration": -4750,
    "start_time": "2021-09-02T20:10:32.197Z"
   },
   {
    "duration": -4754,
    "start_time": "2021-09-02T20:10:32.202Z"
   },
   {
    "duration": -4761,
    "start_time": "2021-09-02T20:10:32.210Z"
   },
   {
    "duration": -4775,
    "start_time": "2021-09-02T20:10:32.225Z"
   },
   {
    "duration": -4782,
    "start_time": "2021-09-02T20:10:32.233Z"
   },
   {
    "duration": -4799,
    "start_time": "2021-09-02T20:10:32.251Z"
   },
   {
    "duration": -4816,
    "start_time": "2021-09-02T20:10:32.269Z"
   },
   {
    "duration": -4822,
    "start_time": "2021-09-02T20:10:32.276Z"
   },
   {
    "duration": -4839,
    "start_time": "2021-09-02T20:10:32.295Z"
   },
   {
    "duration": -4845,
    "start_time": "2021-09-02T20:10:32.302Z"
   },
   {
    "duration": -4862,
    "start_time": "2021-09-02T20:10:32.320Z"
   },
   {
    "duration": -4869,
    "start_time": "2021-09-02T20:10:32.329Z"
   },
   {
    "duration": -4879,
    "start_time": "2021-09-02T20:10:32.340Z"
   },
   {
    "duration": -4885,
    "start_time": "2021-09-02T20:10:32.347Z"
   },
   {
    "duration": -4893,
    "start_time": "2021-09-02T20:10:32.356Z"
   },
   {
    "duration": -4898,
    "start_time": "2021-09-02T20:10:32.362Z"
   },
   {
    "duration": -4907,
    "start_time": "2021-09-02T20:10:32.372Z"
   },
   {
    "duration": -4912,
    "start_time": "2021-09-02T20:10:32.377Z"
   },
   {
    "duration": -4919,
    "start_time": "2021-09-02T20:10:32.385Z"
   },
   {
    "duration": -4925,
    "start_time": "2021-09-02T20:10:32.392Z"
   },
   {
    "duration": -4933,
    "start_time": "2021-09-02T20:10:32.401Z"
   },
   {
    "duration": -4939,
    "start_time": "2021-09-02T20:10:32.408Z"
   },
   {
    "duration": -4947,
    "start_time": "2021-09-02T20:10:32.416Z"
   },
   {
    "duration": -4967,
    "start_time": "2021-09-02T20:10:32.437Z"
   },
   {
    "duration": -4977,
    "start_time": "2021-09-02T20:10:32.448Z"
   },
   {
    "duration": -4983,
    "start_time": "2021-09-02T20:10:32.455Z"
   },
   {
    "duration": -4992,
    "start_time": "2021-09-02T20:10:32.465Z"
   },
   {
    "duration": -4997,
    "start_time": "2021-09-02T20:10:32.471Z"
   },
   {
    "duration": -5006,
    "start_time": "2021-09-02T20:10:32.480Z"
   },
   {
    "duration": -5011,
    "start_time": "2021-09-02T20:10:32.486Z"
   },
   {
    "duration": -5020,
    "start_time": "2021-09-02T20:10:32.496Z"
   },
   {
    "duration": -5025,
    "start_time": "2021-09-02T20:10:32.502Z"
   },
   {
    "duration": -5033,
    "start_time": "2021-09-02T20:10:32.511Z"
   },
   {
    "duration": -5038,
    "start_time": "2021-09-02T20:10:32.517Z"
   },
   {
    "duration": -5047,
    "start_time": "2021-09-02T20:10:32.527Z"
   },
   {
    "duration": -4992,
    "start_time": "2021-09-02T20:10:32.534Z"
   },
   {
    "duration": -5017,
    "start_time": "2021-09-02T20:10:32.560Z"
   },
   {
    "duration": -5022,
    "start_time": "2021-09-02T20:10:32.566Z"
   },
   {
    "duration": -5033,
    "start_time": "2021-09-02T20:10:32.577Z"
   },
   {
    "duration": -5039,
    "start_time": "2021-09-02T20:10:32.584Z"
   },
   {
    "duration": -5047,
    "start_time": "2021-09-02T20:10:32.593Z"
   },
   {
    "duration": -5053,
    "start_time": "2021-09-02T20:10:32.600Z"
   },
   {
    "duration": -5064,
    "start_time": "2021-09-02T20:10:32.612Z"
   },
   {
    "duration": -5076,
    "start_time": "2021-09-02T20:10:32.626Z"
   },
   {
    "duration": -5085,
    "start_time": "2021-09-02T20:10:32.636Z"
   },
   {
    "duration": -5089,
    "start_time": "2021-09-02T20:10:32.641Z"
   },
   {
    "duration": -5100,
    "start_time": "2021-09-02T20:10:32.653Z"
   },
   {
    "duration": -5131,
    "start_time": "2021-09-02T20:10:32.685Z"
   },
   {
    "duration": -5140,
    "start_time": "2021-09-02T20:10:32.695Z"
   },
   {
    "duration": -5149,
    "start_time": "2021-09-02T20:10:32.705Z"
   },
   {
    "duration": -5156,
    "start_time": "2021-09-02T20:10:32.714Z"
   },
   {
    "duration": -5162,
    "start_time": "2021-09-02T20:10:32.722Z"
   },
   {
    "duration": -5169,
    "start_time": "2021-09-02T20:10:32.730Z"
   },
   {
    "duration": 156,
    "start_time": "2021-09-02T20:10:42.148Z"
   },
   {
    "duration": 13,
    "start_time": "2021-09-02T20:10:43.065Z"
   },
   {
    "duration": 1000,
    "start_time": "2021-09-02T20:13:04.179Z"
   },
   {
    "duration": 17,
    "start_time": "2021-09-02T20:13:05.181Z"
   },
   {
    "duration": 11,
    "start_time": "2021-09-02T20:13:05.200Z"
   },
   {
    "duration": 47,
    "start_time": "2021-09-02T20:13:05.213Z"
   },
   {
    "duration": 23,
    "start_time": "2021-09-02T20:13:05.262Z"
   },
   {
    "duration": 337,
    "start_time": "2021-09-02T20:13:05.287Z"
   },
   {
    "duration": 19,
    "start_time": "2021-09-02T20:13:05.626Z"
   },
   {
    "duration": 252,
    "start_time": "2021-09-02T20:13:05.650Z"
   },
   {
    "duration": 9,
    "start_time": "2021-09-02T20:13:05.904Z"
   },
   {
    "duration": 53,
    "start_time": "2021-09-02T20:13:05.914Z"
   },
   {
    "duration": 36,
    "start_time": "2021-09-02T20:13:05.970Z"
   },
   {
    "duration": 33,
    "start_time": "2021-09-02T20:13:06.008Z"
   },
   {
    "duration": 18,
    "start_time": "2021-09-02T20:13:06.044Z"
   },
   {
    "duration": 28,
    "start_time": "2021-09-02T20:13:06.064Z"
   },
   {
    "duration": 16,
    "start_time": "2021-09-02T20:13:06.093Z"
   },
   {
    "duration": 21,
    "start_time": "2021-09-02T20:13:06.111Z"
   },
   {
    "duration": 19,
    "start_time": "2021-09-02T20:13:06.134Z"
   },
   {
    "duration": 29,
    "start_time": "2021-09-02T20:13:06.154Z"
   },
   {
    "duration": 12,
    "start_time": "2021-09-02T20:13:06.185Z"
   },
   {
    "duration": 17,
    "start_time": "2021-09-02T20:13:06.200Z"
   },
   {
    "duration": 4,
    "start_time": "2021-09-02T20:13:06.219Z"
   },
   {
    "duration": 48,
    "start_time": "2021-09-02T20:13:06.226Z"
   },
   {
    "duration": 6,
    "start_time": "2021-09-02T20:13:06.280Z"
   },
   {
    "duration": 8,
    "start_time": "2021-09-02T20:13:06.288Z"
   },
   {
    "duration": 15,
    "start_time": "2021-09-02T20:13:06.297Z"
   },
   {
    "duration": 38,
    "start_time": "2021-09-02T20:13:06.314Z"
   },
   {
    "duration": 7,
    "start_time": "2021-09-02T20:13:06.354Z"
   },
   {
    "duration": 123,
    "start_time": "2021-09-02T20:13:06.363Z"
   },
   {
    "duration": -1270,
    "start_time": "2021-09-02T20:13:07.759Z"
   },
   {
    "duration": -1277,
    "start_time": "2021-09-02T20:13:07.768Z"
   },
   {
    "duration": -1283,
    "start_time": "2021-09-02T20:13:07.775Z"
   },
   {
    "duration": -1290,
    "start_time": "2021-09-02T20:13:07.783Z"
   },
   {
    "duration": -1296,
    "start_time": "2021-09-02T20:13:07.790Z"
   },
   {
    "duration": -1302,
    "start_time": "2021-09-02T20:13:07.797Z"
   },
   {
    "duration": -1309,
    "start_time": "2021-09-02T20:13:07.805Z"
   },
   {
    "duration": -1316,
    "start_time": "2021-09-02T20:13:07.813Z"
   },
   {
    "duration": -1322,
    "start_time": "2021-09-02T20:13:07.820Z"
   },
   {
    "duration": -1329,
    "start_time": "2021-09-02T20:13:07.828Z"
   },
   {
    "duration": -1335,
    "start_time": "2021-09-02T20:13:07.835Z"
   },
   {
    "duration": -1342,
    "start_time": "2021-09-02T20:13:07.843Z"
   },
   {
    "duration": -1347,
    "start_time": "2021-09-02T20:13:07.849Z"
   },
   {
    "duration": -1403,
    "start_time": "2021-09-02T20:13:07.906Z"
   },
   {
    "duration": -1410,
    "start_time": "2021-09-02T20:13:07.914Z"
   },
   {
    "duration": -1416,
    "start_time": "2021-09-02T20:13:07.922Z"
   },
   {
    "duration": -1424,
    "start_time": "2021-09-02T20:13:07.931Z"
   },
   {
    "duration": -1429,
    "start_time": "2021-09-02T20:13:07.937Z"
   },
   {
    "duration": -1435,
    "start_time": "2021-09-02T20:13:07.944Z"
   },
   {
    "duration": -1441,
    "start_time": "2021-09-02T20:13:07.951Z"
   },
   {
    "duration": -1446,
    "start_time": "2021-09-02T20:13:07.957Z"
   },
   {
    "duration": -1549,
    "start_time": "2021-09-02T20:13:08.061Z"
   },
   {
    "duration": -1555,
    "start_time": "2021-09-02T20:13:08.068Z"
   },
   {
    "duration": -1563,
    "start_time": "2021-09-02T20:13:08.077Z"
   },
   {
    "duration": -1568,
    "start_time": "2021-09-02T20:13:08.083Z"
   },
   {
    "duration": -1576,
    "start_time": "2021-09-02T20:13:08.092Z"
   },
   {
    "duration": -1580,
    "start_time": "2021-09-02T20:13:08.098Z"
   },
   {
    "duration": -1586,
    "start_time": "2021-09-02T20:13:08.105Z"
   },
   {
    "duration": -1591,
    "start_time": "2021-09-02T20:13:08.111Z"
   },
   {
    "duration": -1596,
    "start_time": "2021-09-02T20:13:08.117Z"
   },
   {
    "duration": -1601,
    "start_time": "2021-09-02T20:13:08.123Z"
   },
   {
    "duration": -1611,
    "start_time": "2021-09-02T20:13:08.134Z"
   },
   {
    "duration": -1622,
    "start_time": "2021-09-02T20:13:08.146Z"
   },
   {
    "duration": -1636,
    "start_time": "2021-09-02T20:13:08.161Z"
   },
   {
    "duration": -1648,
    "start_time": "2021-09-02T20:13:08.174Z"
   },
   {
    "duration": -1655,
    "start_time": "2021-09-02T20:13:08.182Z"
   },
   {
    "duration": -1648,
    "start_time": "2021-09-02T20:13:08.191Z"
   },
   {
    "duration": -1656,
    "start_time": "2021-09-02T20:13:08.200Z"
   },
   {
    "duration": -1663,
    "start_time": "2021-09-02T20:13:08.208Z"
   },
   {
    "duration": -1668,
    "start_time": "2021-09-02T20:13:08.214Z"
   },
   {
    "duration": -1674,
    "start_time": "2021-09-02T20:13:08.220Z"
   },
   {
    "duration": -1682,
    "start_time": "2021-09-02T20:13:08.229Z"
   },
   {
    "duration": -1683,
    "start_time": "2021-09-02T20:13:08.235Z"
   },
   {
    "duration": -1696,
    "start_time": "2021-09-02T20:13:08.248Z"
   },
   {
    "duration": -1704,
    "start_time": "2021-09-02T20:13:08.257Z"
   },
   {
    "duration": -1706,
    "start_time": "2021-09-02T20:13:08.264Z"
   },
   {
    "duration": -2132,
    "start_time": "2021-09-02T20:13:08.691Z"
   },
   {
    "duration": -2139,
    "start_time": "2021-09-02T20:13:08.700Z"
   },
   {
    "duration": -2146,
    "start_time": "2021-09-02T20:13:08.708Z"
   },
   {
    "duration": -2152,
    "start_time": "2021-09-02T20:13:08.716Z"
   },
   {
    "duration": -2157,
    "start_time": "2021-09-02T20:13:08.723Z"
   },
   {
    "duration": -2163,
    "start_time": "2021-09-02T20:13:08.730Z"
   },
   {
    "duration": -2169,
    "start_time": "2021-09-02T20:13:08.737Z"
   },
   {
    "duration": -2176,
    "start_time": "2021-09-02T20:13:08.745Z"
   },
   {
    "duration": -2182,
    "start_time": "2021-09-02T20:13:08.752Z"
   },
   {
    "duration": -2190,
    "start_time": "2021-09-02T20:13:08.761Z"
   },
   {
    "duration": -2192,
    "start_time": "2021-09-02T20:13:08.767Z"
   },
   {
    "duration": -2198,
    "start_time": "2021-09-02T20:13:08.775Z"
   },
   {
    "duration": -2203,
    "start_time": "2021-09-02T20:13:08.781Z"
   },
   {
    "duration": -2209,
    "start_time": "2021-09-02T20:13:08.788Z"
   },
   {
    "duration": -2227,
    "start_time": "2021-09-02T20:13:08.807Z"
   },
   {
    "duration": -2234,
    "start_time": "2021-09-02T20:13:08.814Z"
   },
   {
    "duration": -2240,
    "start_time": "2021-09-02T20:13:08.821Z"
   },
   {
    "duration": -2246,
    "start_time": "2021-09-02T20:13:08.828Z"
   },
   {
    "duration": -2250,
    "start_time": "2021-09-02T20:13:08.833Z"
   },
   {
    "duration": -2256,
    "start_time": "2021-09-02T20:13:08.840Z"
   },
   {
    "duration": -2261,
    "start_time": "2021-09-02T20:13:08.846Z"
   },
   {
    "duration": -2268,
    "start_time": "2021-09-02T20:13:08.854Z"
   },
   {
    "duration": -2307,
    "start_time": "2021-09-02T20:13:08.894Z"
   },
   {
    "duration": -2313,
    "start_time": "2021-09-02T20:13:08.901Z"
   },
   {
    "duration": -2333,
    "start_time": "2021-09-02T20:13:08.922Z"
   },
   {
    "duration": 156,
    "start_time": "2021-09-02T20:13:14.360Z"
   },
   {
    "duration": 13,
    "start_time": "2021-09-02T20:13:15.416Z"
   },
   {
    "duration": 879,
    "start_time": "2021-09-02T20:14:02.821Z"
   },
   {
    "duration": 17,
    "start_time": "2021-09-02T20:14:03.703Z"
   },
   {
    "duration": 26,
    "start_time": "2021-09-02T20:14:03.722Z"
   },
   {
    "duration": 30,
    "start_time": "2021-09-02T20:14:03.750Z"
   },
   {
    "duration": 15,
    "start_time": "2021-09-02T20:14:03.782Z"
   },
   {
    "duration": 414,
    "start_time": "2021-09-02T20:14:03.799Z"
   },
   {
    "duration": 12,
    "start_time": "2021-09-02T20:14:04.215Z"
   },
   {
    "duration": 340,
    "start_time": "2021-09-02T20:14:04.230Z"
   },
   {
    "duration": 10,
    "start_time": "2021-09-02T20:14:04.573Z"
   },
   {
    "duration": 30,
    "start_time": "2021-09-02T20:14:04.585Z"
   },
   {
    "duration": 71,
    "start_time": "2021-09-02T20:14:04.617Z"
   },
   {
    "duration": 11,
    "start_time": "2021-09-02T20:14:04.689Z"
   },
   {
    "duration": 13,
    "start_time": "2021-09-02T20:14:04.702Z"
   },
   {
    "duration": 30,
    "start_time": "2021-09-02T20:14:04.717Z"
   },
   {
    "duration": 9,
    "start_time": "2021-09-02T20:14:04.751Z"
   },
   {
    "duration": 8,
    "start_time": "2021-09-02T20:14:04.764Z"
   },
   {
    "duration": 7,
    "start_time": "2021-09-02T20:14:04.776Z"
   },
   {
    "duration": 13,
    "start_time": "2021-09-02T20:14:04.785Z"
   },
   {
    "duration": 45,
    "start_time": "2021-09-02T20:14:04.800Z"
   },
   {
    "duration": 29,
    "start_time": "2021-09-02T20:14:04.847Z"
   },
   {
    "duration": 5,
    "start_time": "2021-09-02T20:14:04.878Z"
   },
   {
    "duration": 14,
    "start_time": "2021-09-02T20:14:04.885Z"
   },
   {
    "duration": 55,
    "start_time": "2021-09-02T20:14:04.903Z"
   },
   {
    "duration": 13,
    "start_time": "2021-09-02T20:14:04.964Z"
   },
   {
    "duration": 16,
    "start_time": "2021-09-02T20:14:04.980Z"
   },
   {
    "duration": 26,
    "start_time": "2021-09-02T20:14:05.043Z"
   },
   {
    "duration": 7,
    "start_time": "2021-09-02T20:14:05.071Z"
   },
   {
    "duration": 158,
    "start_time": "2021-09-02T20:14:05.080Z"
   },
   {
    "duration": -2356,
    "start_time": "2021-09-02T20:14:07.597Z"
   },
   {
    "duration": -2361,
    "start_time": "2021-09-02T20:14:07.604Z"
   },
   {
    "duration": -2367,
    "start_time": "2021-09-02T20:14:07.611Z"
   },
   {
    "duration": -2373,
    "start_time": "2021-09-02T20:14:07.618Z"
   },
   {
    "duration": -2467,
    "start_time": "2021-09-02T20:14:07.713Z"
   },
   {
    "duration": -2482,
    "start_time": "2021-09-02T20:14:07.728Z"
   },
   {
    "duration": -2495,
    "start_time": "2021-09-02T20:14:07.742Z"
   },
   {
    "duration": -2501,
    "start_time": "2021-09-02T20:14:07.749Z"
   },
   {
    "duration": -2506,
    "start_time": "2021-09-02T20:14:07.755Z"
   },
   {
    "duration": -2514,
    "start_time": "2021-09-02T20:14:07.764Z"
   },
   {
    "duration": -2521,
    "start_time": "2021-09-02T20:14:07.772Z"
   },
   {
    "duration": -2530,
    "start_time": "2021-09-02T20:14:07.782Z"
   },
   {
    "duration": -2537,
    "start_time": "2021-09-02T20:14:07.789Z"
   },
   {
    "duration": -2609,
    "start_time": "2021-09-02T20:14:07.862Z"
   },
   {
    "duration": -2626,
    "start_time": "2021-09-02T20:14:07.880Z"
   },
   {
    "duration": -2633,
    "start_time": "2021-09-02T20:14:07.888Z"
   },
   {
    "duration": -2644,
    "start_time": "2021-09-02T20:14:07.899Z"
   },
   {
    "duration": -2649,
    "start_time": "2021-09-02T20:14:07.907Z"
   },
   {
    "duration": -2654,
    "start_time": "2021-09-02T20:14:07.913Z"
   },
   {
    "duration": -2660,
    "start_time": "2021-09-02T20:14:07.920Z"
   },
   {
    "duration": -2665,
    "start_time": "2021-09-02T20:14:07.926Z"
   },
   {
    "duration": -2671,
    "start_time": "2021-09-02T20:14:07.933Z"
   },
   {
    "duration": -2676,
    "start_time": "2021-09-02T20:14:07.939Z"
   },
   {
    "duration": -2683,
    "start_time": "2021-09-02T20:14:07.947Z"
   },
   {
    "duration": -2687,
    "start_time": "2021-09-02T20:14:07.952Z"
   },
   {
    "duration": -2693,
    "start_time": "2021-09-02T20:14:07.959Z"
   },
   {
    "duration": -2748,
    "start_time": "2021-09-02T20:14:08.015Z"
   },
   {
    "duration": -2755,
    "start_time": "2021-09-02T20:14:08.024Z"
   },
   {
    "duration": -2765,
    "start_time": "2021-09-02T20:14:08.035Z"
   },
   {
    "duration": -2771,
    "start_time": "2021-09-02T20:14:08.043Z"
   },
   {
    "duration": -2777,
    "start_time": "2021-09-02T20:14:08.051Z"
   },
   {
    "duration": -2784,
    "start_time": "2021-09-02T20:14:08.059Z"
   },
   {
    "duration": -2789,
    "start_time": "2021-09-02T20:14:08.066Z"
   },
   {
    "duration": -2796,
    "start_time": "2021-09-02T20:14:08.074Z"
   },
   {
    "duration": -2803,
    "start_time": "2021-09-02T20:14:08.082Z"
   },
   {
    "duration": -2809,
    "start_time": "2021-09-02T20:14:08.089Z"
   },
   {
    "duration": -2814,
    "start_time": "2021-09-02T20:14:08.096Z"
   },
   {
    "duration": -2820,
    "start_time": "2021-09-02T20:14:08.103Z"
   },
   {
    "duration": -2839,
    "start_time": "2021-09-02T20:14:08.123Z"
   },
   {
    "duration": -2788,
    "start_time": "2021-09-02T20:14:08.133Z"
   },
   {
    "duration": -2801,
    "start_time": "2021-09-02T20:14:08.147Z"
   },
   {
    "duration": -2806,
    "start_time": "2021-09-02T20:14:08.154Z"
   },
   {
    "duration": -2811,
    "start_time": "2021-09-02T20:14:08.160Z"
   },
   {
    "duration": -2819,
    "start_time": "2021-09-02T20:14:08.169Z"
   },
   {
    "duration": -2830,
    "start_time": "2021-09-02T20:14:08.181Z"
   },
   {
    "duration": -2837,
    "start_time": "2021-09-02T20:14:08.189Z"
   },
   {
    "duration": -2842,
    "start_time": "2021-09-02T20:14:08.195Z"
   },
   {
    "duration": -2848,
    "start_time": "2021-09-02T20:14:08.203Z"
   },
   {
    "duration": -2845,
    "start_time": "2021-09-02T20:14:08.209Z"
   },
   {
    "duration": -2851,
    "start_time": "2021-09-02T20:14:08.216Z"
   },
   {
    "duration": -2865,
    "start_time": "2021-09-02T20:14:08.231Z"
   },
   {
    "duration": -2872,
    "start_time": "2021-09-02T20:14:08.239Z"
   },
   {
    "duration": -2928,
    "start_time": "2021-09-02T20:14:08.296Z"
   },
   {
    "duration": -2933,
    "start_time": "2021-09-02T20:14:08.303Z"
   },
   {
    "duration": -2938,
    "start_time": "2021-09-02T20:14:08.309Z"
   },
   {
    "duration": -2948,
    "start_time": "2021-09-02T20:14:08.320Z"
   },
   {
    "duration": -2952,
    "start_time": "2021-09-02T20:14:08.326Z"
   },
   {
    "duration": -2970,
    "start_time": "2021-09-02T20:14:08.345Z"
   },
   {
    "duration": -2976,
    "start_time": "2021-09-02T20:14:08.352Z"
   },
   {
    "duration": -2981,
    "start_time": "2021-09-02T20:14:08.359Z"
   },
   {
    "duration": -2988,
    "start_time": "2021-09-02T20:14:08.369Z"
   },
   {
    "duration": -2999,
    "start_time": "2021-09-02T20:14:08.381Z"
   },
   {
    "duration": -3003,
    "start_time": "2021-09-02T20:14:08.387Z"
   },
   {
    "duration": -3009,
    "start_time": "2021-09-02T20:14:08.395Z"
   },
   {
    "duration": -3016,
    "start_time": "2021-09-02T20:14:08.403Z"
   },
   {
    "duration": -3022,
    "start_time": "2021-09-02T20:14:08.410Z"
   },
   {
    "duration": -3027,
    "start_time": "2021-09-02T20:14:08.416Z"
   },
   {
    "duration": -3034,
    "start_time": "2021-09-02T20:14:08.424Z"
   },
   {
    "duration": -3042,
    "start_time": "2021-09-02T20:14:08.433Z"
   },
   {
    "duration": -2999,
    "start_time": "2021-09-02T20:14:08.439Z"
   },
   {
    "duration": -3015,
    "start_time": "2021-09-02T20:14:08.456Z"
   },
   {
    "duration": 4,
    "start_time": "2021-09-02T20:14:12.705Z"
   },
   {
    "duration": 165,
    "start_time": "2021-09-02T20:14:15.619Z"
   },
   {
    "duration": 9,
    "start_time": "2021-09-02T20:14:16.900Z"
   },
   {
    "duration": 19,
    "start_time": "2021-09-02T20:14:58.754Z"
   },
   {
    "duration": 17,
    "start_time": "2021-09-02T20:15:04.562Z"
   },
   {
    "duration": 820,
    "start_time": "2021-09-02T20:15:26.631Z"
   },
   {
    "duration": 16,
    "start_time": "2021-09-02T20:15:27.454Z"
   },
   {
    "duration": 12,
    "start_time": "2021-09-02T20:15:27.472Z"
   },
   {
    "duration": 23,
    "start_time": "2021-09-02T20:15:27.486Z"
   },
   {
    "duration": 37,
    "start_time": "2021-09-02T20:15:27.511Z"
   },
   {
    "duration": 321,
    "start_time": "2021-09-02T20:15:27.551Z"
   },
   {
    "duration": 8,
    "start_time": "2021-09-02T20:15:27.874Z"
   },
   {
    "duration": 239,
    "start_time": "2021-09-02T20:15:27.885Z"
   },
   {
    "duration": 17,
    "start_time": "2021-09-02T20:15:28.126Z"
   },
   {
    "duration": 38,
    "start_time": "2021-09-02T20:15:28.147Z"
   },
   {
    "duration": 62,
    "start_time": "2021-09-02T20:15:28.187Z"
   },
   {
    "duration": 18,
    "start_time": "2021-09-02T20:15:28.251Z"
   },
   {
    "duration": 12,
    "start_time": "2021-09-02T20:15:28.271Z"
   },
   {
    "duration": 20,
    "start_time": "2021-09-02T20:15:28.285Z"
   },
   {
    "duration": 14,
    "start_time": "2021-09-02T20:15:28.306Z"
   },
   {
    "duration": 11,
    "start_time": "2021-09-02T20:15:28.321Z"
   },
   {
    "duration": 12,
    "start_time": "2021-09-02T20:15:28.334Z"
   },
   {
    "duration": 22,
    "start_time": "2021-09-02T20:15:28.356Z"
   },
   {
    "duration": 11,
    "start_time": "2021-09-02T20:15:28.379Z"
   },
   {
    "duration": 15,
    "start_time": "2021-09-02T20:15:28.392Z"
   },
   {
    "duration": 3,
    "start_time": "2021-09-02T20:15:28.409Z"
   },
   {
    "duration": 30,
    "start_time": "2021-09-02T20:15:28.414Z"
   },
   {
    "duration": 9,
    "start_time": "2021-09-02T20:15:28.450Z"
   },
   {
    "duration": 18,
    "start_time": "2021-09-02T20:15:28.463Z"
   },
   {
    "duration": 15,
    "start_time": "2021-09-02T20:15:28.483Z"
   },
   {
    "duration": 19,
    "start_time": "2021-09-02T20:15:28.500Z"
   },
   {
    "duration": 12,
    "start_time": "2021-09-02T20:15:28.521Z"
   },
   {
    "duration": 166,
    "start_time": "2021-09-02T20:15:28.546Z"
   },
   {
    "duration": 8,
    "start_time": "2021-09-02T20:15:28.714Z"
   },
   {
    "duration": 113,
    "start_time": "2021-09-02T20:15:28.724Z"
   },
   {
    "duration": -1778,
    "start_time": "2021-09-02T20:15:30.619Z"
   },
   {
    "duration": -1783,
    "start_time": "2021-09-02T20:15:30.626Z"
   },
   {
    "duration": -1787,
    "start_time": "2021-09-02T20:15:30.631Z"
   },
   {
    "duration": -1793,
    "start_time": "2021-09-02T20:15:30.638Z"
   },
   {
    "duration": -1803,
    "start_time": "2021-09-02T20:15:30.649Z"
   },
   {
    "duration": -1809,
    "start_time": "2021-09-02T20:15:30.656Z"
   },
   {
    "duration": -1813,
    "start_time": "2021-09-02T20:15:30.661Z"
   },
   {
    "duration": -1816,
    "start_time": "2021-09-02T20:15:30.668Z"
   },
   {
    "duration": -1821,
    "start_time": "2021-09-02T20:15:30.674Z"
   },
   {
    "duration": -1826,
    "start_time": "2021-09-02T20:15:30.680Z"
   },
   {
    "duration": -1831,
    "start_time": "2021-09-02T20:15:30.686Z"
   },
   {
    "duration": -1832,
    "start_time": "2021-09-02T20:15:30.692Z"
   },
   {
    "duration": -1836,
    "start_time": "2021-09-02T20:15:30.697Z"
   },
   {
    "duration": -1842,
    "start_time": "2021-09-02T20:15:30.704Z"
   },
   {
    "duration": -1846,
    "start_time": "2021-09-02T20:15:30.709Z"
   },
   {
    "duration": -1902,
    "start_time": "2021-09-02T20:15:30.770Z"
   },
   {
    "duration": -1911,
    "start_time": "2021-09-02T20:15:30.780Z"
   },
   {
    "duration": -1918,
    "start_time": "2021-09-02T20:15:30.788Z"
   },
   {
    "duration": -1924,
    "start_time": "2021-09-02T20:15:30.795Z"
   },
   {
    "duration": -1932,
    "start_time": "2021-09-02T20:15:30.805Z"
   },
   {
    "duration": -1939,
    "start_time": "2021-09-02T20:15:30.813Z"
   },
   {
    "duration": -1956,
    "start_time": "2021-09-02T20:15:30.831Z"
   },
   {
    "duration": -1977,
    "start_time": "2021-09-02T20:15:30.853Z"
   },
   {
    "duration": -1985,
    "start_time": "2021-09-02T20:15:30.863Z"
   },
   {
    "duration": -1999,
    "start_time": "2021-09-02T20:15:30.878Z"
   },
   {
    "duration": -2017,
    "start_time": "2021-09-02T20:15:30.897Z"
   },
   {
    "duration": -2039,
    "start_time": "2021-09-02T20:15:30.920Z"
   },
   {
    "duration": -2081,
    "start_time": "2021-09-02T20:15:30.963Z"
   },
   {
    "duration": -2086,
    "start_time": "2021-09-02T20:15:30.969Z"
   },
   {
    "duration": -2092,
    "start_time": "2021-09-02T20:15:30.976Z"
   },
   {
    "duration": -2097,
    "start_time": "2021-09-02T20:15:30.982Z"
   },
   {
    "duration": -2103,
    "start_time": "2021-09-02T20:15:30.989Z"
   },
   {
    "duration": -2107,
    "start_time": "2021-09-02T20:15:30.994Z"
   },
   {
    "duration": -2114,
    "start_time": "2021-09-02T20:15:31.001Z"
   },
   {
    "duration": -2119,
    "start_time": "2021-09-02T20:15:31.007Z"
   },
   {
    "duration": -2133,
    "start_time": "2021-09-02T20:15:31.022Z"
   },
   {
    "duration": -2140,
    "start_time": "2021-09-02T20:15:31.030Z"
   },
   {
    "duration": -2145,
    "start_time": "2021-09-02T20:15:31.036Z"
   },
   {
    "duration": -2150,
    "start_time": "2021-09-02T20:15:31.042Z"
   },
   {
    "duration": -2156,
    "start_time": "2021-09-02T20:15:31.049Z"
   },
   {
    "duration": -2161,
    "start_time": "2021-09-02T20:15:31.055Z"
   },
   {
    "duration": -2166,
    "start_time": "2021-09-02T20:15:31.061Z"
   },
   {
    "duration": -2173,
    "start_time": "2021-09-02T20:15:31.068Z"
   },
   {
    "duration": -2178,
    "start_time": "2021-09-02T20:15:31.074Z"
   },
   {
    "duration": -2182,
    "start_time": "2021-09-02T20:15:31.079Z"
   },
   {
    "duration": -2188,
    "start_time": "2021-09-02T20:15:31.086Z"
   },
   {
    "duration": -2192,
    "start_time": "2021-09-02T20:15:31.091Z"
   },
   {
    "duration": -2198,
    "start_time": "2021-09-02T20:15:31.098Z"
   },
   {
    "duration": -2154,
    "start_time": "2021-09-02T20:15:31.103Z"
   },
   {
    "duration": -2160,
    "start_time": "2021-09-02T20:15:31.110Z"
   },
   {
    "duration": -2327,
    "start_time": "2021-09-02T20:15:31.278Z"
   },
   {
    "duration": -2332,
    "start_time": "2021-09-02T20:15:31.284Z"
   },
   {
    "duration": -2336,
    "start_time": "2021-09-02T20:15:31.289Z"
   },
   {
    "duration": -2342,
    "start_time": "2021-09-02T20:15:31.296Z"
   },
   {
    "duration": -2347,
    "start_time": "2021-09-02T20:15:31.302Z"
   },
   {
    "duration": -2352,
    "start_time": "2021-09-02T20:15:31.308Z"
   },
   {
    "duration": -2357,
    "start_time": "2021-09-02T20:15:31.314Z"
   },
   {
    "duration": -2362,
    "start_time": "2021-09-02T20:15:31.320Z"
   },
   {
    "duration": -2368,
    "start_time": "2021-09-02T20:15:31.326Z"
   },
   {
    "duration": -2374,
    "start_time": "2021-09-02T20:15:31.333Z"
   },
   {
    "duration": -2377,
    "start_time": "2021-09-02T20:15:31.338Z"
   },
   {
    "duration": -2381,
    "start_time": "2021-09-02T20:15:31.344Z"
   },
   {
    "duration": -2386,
    "start_time": "2021-09-02T20:15:31.350Z"
   },
   {
    "duration": -2391,
    "start_time": "2021-09-02T20:15:31.356Z"
   },
   {
    "duration": -2395,
    "start_time": "2021-09-02T20:15:31.362Z"
   },
   {
    "duration": -2400,
    "start_time": "2021-09-02T20:15:31.368Z"
   },
   {
    "duration": -2404,
    "start_time": "2021-09-02T20:15:31.373Z"
   },
   {
    "duration": -2419,
    "start_time": "2021-09-02T20:15:31.390Z"
   },
   {
    "duration": -2426,
    "start_time": "2021-09-02T20:15:31.398Z"
   },
   {
    "duration": -2431,
    "start_time": "2021-09-02T20:15:31.404Z"
   },
   {
    "duration": 11,
    "start_time": "2021-09-02T20:15:46.549Z"
   },
   {
    "duration": 12,
    "start_time": "2021-09-02T20:16:04.451Z"
   },
   {
    "duration": 27,
    "start_time": "2021-09-02T20:16:12.633Z"
   },
   {
    "duration": 13,
    "start_time": "2021-09-02T20:20:01.196Z"
   },
   {
    "duration": 12,
    "start_time": "2021-09-02T20:20:28.852Z"
   },
   {
    "duration": 10,
    "start_time": "2021-09-02T20:20:41.537Z"
   },
   {
    "duration": 15,
    "start_time": "2021-09-02T20:25:33.703Z"
   },
   {
    "duration": 9,
    "start_time": "2021-09-02T20:25:35.572Z"
   },
   {
    "duration": 25,
    "start_time": "2021-09-02T20:25:35.890Z"
   },
   {
    "duration": 26,
    "start_time": "2021-09-02T20:25:38.277Z"
   },
   {
    "duration": 8,
    "start_time": "2021-09-02T20:25:42.039Z"
   },
   {
    "duration": 8,
    "start_time": "2021-09-02T20:25:43.891Z"
   },
   {
    "duration": 8,
    "start_time": "2021-09-02T20:25:44.396Z"
   },
   {
    "duration": 10,
    "start_time": "2021-09-02T20:25:45.139Z"
   },
   {
    "duration": 30,
    "start_time": "2021-09-02T20:25:45.482Z"
   },
   {
    "duration": 889,
    "start_time": "2021-09-02T20:25:47.680Z"
   },
   {
    "duration": 26,
    "start_time": "2021-09-02T20:25:51.223Z"
   },
   {
    "duration": 9,
    "start_time": "2021-09-02T20:25:53.899Z"
   },
   {
    "duration": 41,
    "start_time": "2021-09-02T20:25:54.145Z"
   },
   {
    "duration": 267,
    "start_time": "2021-09-02T20:25:54.694Z"
   },
   {
    "duration": 10,
    "start_time": "2021-09-02T20:25:58.529Z"
   },
   {
    "duration": 14,
    "start_time": "2021-09-02T20:25:59.738Z"
   },
   {
    "duration": 335,
    "start_time": "2021-09-02T20:26:00.170Z"
   },
   {
    "duration": 833,
    "start_time": "2021-09-02T20:26:23.154Z"
   },
   {
    "duration": 12,
    "start_time": "2021-09-02T20:26:23.990Z"
   },
   {
    "duration": 9,
    "start_time": "2021-09-02T20:26:24.004Z"
   },
   {
    "duration": 45,
    "start_time": "2021-09-02T20:26:24.015Z"
   },
   {
    "duration": 18,
    "start_time": "2021-09-02T20:26:24.062Z"
   },
   {
    "duration": 432,
    "start_time": "2021-09-02T20:26:24.083Z"
   },
   {
    "duration": 8,
    "start_time": "2021-09-02T20:26:24.517Z"
   },
   {
    "duration": 256,
    "start_time": "2021-09-02T20:26:24.527Z"
   },
   {
    "duration": 8,
    "start_time": "2021-09-02T20:26:24.785Z"
   },
   {
    "duration": 46,
    "start_time": "2021-09-02T20:26:24.795Z"
   },
   {
    "duration": 43,
    "start_time": "2021-09-02T20:26:24.843Z"
   },
   {
    "duration": 11,
    "start_time": "2021-09-02T20:26:24.889Z"
   },
   {
    "duration": 39,
    "start_time": "2021-09-02T20:26:24.902Z"
   },
   {
    "duration": 7,
    "start_time": "2021-09-02T20:26:24.943Z"
   },
   {
    "duration": 18,
    "start_time": "2021-09-02T20:26:24.957Z"
   },
   {
    "duration": 14,
    "start_time": "2021-09-02T20:26:24.977Z"
   },
   {
    "duration": 19,
    "start_time": "2021-09-02T20:26:24.993Z"
   },
   {
    "duration": 18,
    "start_time": "2021-09-02T20:26:25.017Z"
   },
   {
    "duration": 36,
    "start_time": "2021-09-02T20:26:25.038Z"
   },
   {
    "duration": 33,
    "start_time": "2021-09-02T20:26:25.076Z"
   },
   {
    "duration": 13,
    "start_time": "2021-09-02T20:26:25.111Z"
   },
   {
    "duration": 28,
    "start_time": "2021-09-02T20:26:25.126Z"
   },
   {
    "duration": 12,
    "start_time": "2021-09-02T20:26:25.157Z"
   },
   {
    "duration": 22,
    "start_time": "2021-09-02T20:26:25.171Z"
   },
   {
    "duration": 23,
    "start_time": "2021-09-02T20:26:25.195Z"
   },
   {
    "duration": 45,
    "start_time": "2021-09-02T20:26:25.220Z"
   },
   {
    "duration": 13,
    "start_time": "2021-09-02T20:26:25.267Z"
   },
   {
    "duration": 155,
    "start_time": "2021-09-02T20:26:25.282Z"
   },
   {
    "duration": 14,
    "start_time": "2021-09-02T20:26:25.439Z"
   },
   {
    "duration": 31,
    "start_time": "2021-09-02T20:26:25.456Z"
   },
   {
    "duration": 24,
    "start_time": "2021-09-02T20:26:25.488Z"
   },
   {
    "duration": 31,
    "start_time": "2021-09-02T20:26:25.514Z"
   },
   {
    "duration": 15,
    "start_time": "2021-09-02T20:26:25.547Z"
   },
   {
    "duration": 36,
    "start_time": "2021-09-02T20:26:25.564Z"
   },
   {
    "duration": 26,
    "start_time": "2021-09-02T20:26:25.602Z"
   },
   {
    "duration": 15,
    "start_time": "2021-09-02T20:26:25.630Z"
   },
   {
    "duration": 17,
    "start_time": "2021-09-02T20:26:25.647Z"
   },
   {
    "duration": 13,
    "start_time": "2021-09-02T20:26:25.666Z"
   },
   {
    "duration": 12,
    "start_time": "2021-09-02T20:26:25.681Z"
   },
   {
    "duration": 26,
    "start_time": "2021-09-02T20:26:25.695Z"
   },
   {
    "duration": 904,
    "start_time": "2021-09-02T20:26:25.723Z"
   },
   {
    "duration": 37,
    "start_time": "2021-09-02T20:26:26.629Z"
   },
   {
    "duration": 20,
    "start_time": "2021-09-02T20:26:26.668Z"
   },
   {
    "duration": 31,
    "start_time": "2021-09-02T20:26:26.690Z"
   },
   {
    "duration": 278,
    "start_time": "2021-09-02T20:26:26.723Z"
   },
   {
    "duration": 182,
    "start_time": "2021-09-02T20:26:27.003Z"
   },
   {
    "duration": 8,
    "start_time": "2021-09-02T20:26:27.187Z"
   },
   {
    "duration": 15,
    "start_time": "2021-09-02T20:26:27.197Z"
   },
   {
    "duration": 323,
    "start_time": "2021-09-02T20:26:27.213Z"
   },
   {
    "duration": 179,
    "start_time": "2021-09-02T20:26:27.538Z"
   },
   {
    "duration": 10,
    "start_time": "2021-09-02T20:26:27.718Z"
   },
   {
    "duration": 31,
    "start_time": "2021-09-02T20:26:27.741Z"
   },
   {
    "duration": 6,
    "start_time": "2021-09-02T20:26:27.774Z"
   },
   {
    "duration": 226,
    "start_time": "2021-09-02T20:26:27.786Z"
   },
   {
    "duration": 166,
    "start_time": "2021-09-02T20:26:28.015Z"
   },
   {
    "duration": 9,
    "start_time": "2021-09-02T20:26:28.183Z"
   },
   {
    "duration": 236,
    "start_time": "2021-09-02T20:26:28.194Z"
   },
   {
    "duration": 227,
    "start_time": "2021-09-02T20:26:28.432Z"
   },
   {
    "duration": 12,
    "start_time": "2021-09-02T20:26:28.661Z"
   },
   {
    "duration": 413,
    "start_time": "2021-09-02T20:26:28.675Z"
   },
   {
    "duration": 99,
    "start_time": "2021-09-02T20:26:29.090Z"
   },
   {
    "duration": 9,
    "start_time": "2021-09-02T20:26:29.191Z"
   },
   {
    "duration": 317,
    "start_time": "2021-09-02T20:26:29.202Z"
   },
   {
    "duration": 176,
    "start_time": "2021-09-02T20:26:29.521Z"
   },
   {
    "duration": 455,
    "start_time": "2021-09-02T20:26:29.699Z"
   },
   {
    "duration": 263,
    "start_time": "2021-09-02T20:26:30.156Z"
   },
   {
    "duration": 40,
    "start_time": "2021-09-02T20:26:30.421Z"
   },
   {
    "duration": 11,
    "start_time": "2021-09-02T20:26:30.464Z"
   },
   {
    "duration": 205,
    "start_time": "2021-09-02T20:26:30.477Z"
   },
   {
    "duration": 10,
    "start_time": "2021-09-02T20:26:30.685Z"
   },
   {
    "duration": 172,
    "start_time": "2021-09-02T20:26:30.697Z"
   },
   {
    "duration": 242,
    "start_time": "2021-09-02T20:26:30.871Z"
   },
   {
    "duration": 9,
    "start_time": "2021-09-02T20:26:31.115Z"
   },
   {
    "duration": 264,
    "start_time": "2021-09-02T20:26:31.126Z"
   },
   {
    "duration": 9,
    "start_time": "2021-09-02T20:26:31.391Z"
   },
   {
    "duration": 27,
    "start_time": "2021-09-02T20:26:31.402Z"
   },
   {
    "duration": 235,
    "start_time": "2021-09-02T20:26:31.431Z"
   },
   {
    "duration": 185,
    "start_time": "2021-09-02T20:26:31.669Z"
   },
   {
    "duration": 163,
    "start_time": "2021-09-02T20:26:31.856Z"
   },
   {
    "duration": 36,
    "start_time": "2021-09-02T20:26:32.021Z"
   },
   {
    "duration": 507,
    "start_time": "2021-09-02T20:26:32.059Z"
   },
   {
    "duration": 485,
    "start_time": "2021-09-02T20:26:32.568Z"
   },
   {
    "duration": 11,
    "start_time": "2021-09-02T20:26:33.055Z"
   },
   {
    "duration": 19,
    "start_time": "2021-09-02T20:26:33.068Z"
   },
   {
    "duration": 100,
    "start_time": "2021-09-02T20:26:33.090Z"
   },
   {
    "duration": -766,
    "start_time": "2021-09-02T20:26:33.958Z"
   },
   {
    "duration": -771,
    "start_time": "2021-09-02T20:26:33.965Z"
   },
   {
    "duration": -780,
    "start_time": "2021-09-02T20:26:33.975Z"
   },
   {
    "duration": -786,
    "start_time": "2021-09-02T20:26:33.983Z"
   },
   {
    "duration": -789,
    "start_time": "2021-09-02T20:26:33.988Z"
   },
   {
    "duration": -795,
    "start_time": "2021-09-02T20:26:33.995Z"
   },
   {
    "duration": -800,
    "start_time": "2021-09-02T20:26:34.002Z"
   },
   {
    "duration": -805,
    "start_time": "2021-09-02T20:26:34.008Z"
   },
   {
    "duration": -809,
    "start_time": "2021-09-02T20:26:34.014Z"
   },
   {
    "duration": -815,
    "start_time": "2021-09-02T20:26:34.021Z"
   },
   {
    "duration": -820,
    "start_time": "2021-09-02T20:26:34.028Z"
   },
   {
    "duration": -826,
    "start_time": "2021-09-02T20:26:34.035Z"
   },
   {
    "duration": -830,
    "start_time": "2021-09-02T20:26:34.041Z"
   },
   {
    "duration": -882,
    "start_time": "2021-09-02T20:26:34.094Z"
   },
   {
    "duration": -887,
    "start_time": "2021-09-02T20:26:34.101Z"
   },
   {
    "duration": -893,
    "start_time": "2021-09-02T20:26:34.108Z"
   },
   {
    "duration": 31,
    "start_time": "2021-09-02T20:26:42.917Z"
   },
   {
    "duration": 15,
    "start_time": "2021-09-02T20:26:47.154Z"
   },
   {
    "duration": 12,
    "start_time": "2021-09-02T20:27:38.013Z"
   },
   {
    "duration": 287,
    "start_time": "2021-09-02T20:27:38.993Z"
   },
   {
    "duration": 214,
    "start_time": "2021-09-02T20:27:42.820Z"
   },
   {
    "duration": 9,
    "start_time": "2021-09-02T20:27:43.161Z"
   },
   {
    "duration": 9,
    "start_time": "2021-09-02T20:27:45.217Z"
   },
   {
    "duration": 271,
    "start_time": "2021-09-02T20:27:48.285Z"
   },
   {
    "duration": 15,
    "start_time": "2021-09-02T20:27:51.340Z"
   },
   {
    "duration": 245,
    "start_time": "2021-09-02T20:27:51.357Z"
   },
   {
    "duration": 11,
    "start_time": "2021-09-02T20:27:54.226Z"
   },
   {
    "duration": 11,
    "start_time": "2021-09-02T20:27:54.639Z"
   },
   {
    "duration": 6,
    "start_time": "2021-09-02T20:27:59.618Z"
   },
   {
    "duration": 11,
    "start_time": "2021-09-02T20:28:01.181Z"
   },
   {
    "duration": 3455,
    "start_time": "2021-09-02T20:28:01.949Z"
   },
   {
    "duration": 10,
    "start_time": "2021-09-02T20:28:07.773Z"
   },
   {
    "duration": 2204,
    "start_time": "2021-09-02T20:28:09.596Z"
   },
   {
    "duration": 18,
    "start_time": "2021-09-02T20:28:43.847Z"
   },
   {
    "duration": 89,
    "start_time": "2021-09-03T07:06:25.854Z"
   },
   {
    "duration": 93,
    "start_time": "2021-09-03T07:10:42.695Z"
   }
  ],
  "kernelspec": {
   "display_name": "Python 3 (ipykernel)",
   "language": "python",
   "name": "python3"
  },
  "language_info": {
   "codemirror_mode": {
    "name": "ipython",
    "version": 3
   },
   "file_extension": ".py",
   "mimetype": "text/x-python",
   "name": "python",
   "nbconvert_exporter": "python",
   "pygments_lexer": "ipython3",
   "version": "3.9.7"
  },
  "toc": {
   "base_numbering": 1,
   "nav_menu": {},
   "number_sections": true,
   "sideBar": true,
   "skip_h1_title": true,
   "title_cell": "Содержание",
   "title_sidebar": "Contents",
   "toc_cell": true,
   "toc_position": {
    "height": "calc(100% - 180px)",
    "left": "10px",
    "top": "150px",
    "width": "227px"
   },
   "toc_section_display": true,
   "toc_window_display": true
  }
 },
 "nbformat": 4,
 "nbformat_minor": 2
}
