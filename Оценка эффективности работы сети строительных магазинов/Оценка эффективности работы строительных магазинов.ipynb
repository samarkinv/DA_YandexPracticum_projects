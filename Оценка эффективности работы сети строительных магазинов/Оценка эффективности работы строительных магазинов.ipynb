{
 "cells": [
  {
   "cell_type": "markdown",
   "metadata": {},
   "source": [
    "# Оценка эффективности работы сети строительных магазинов"
   ]
  },
  {
   "cell_type": "markdown",
   "metadata": {},
   "source": [
    "## 1. Обзор"
   ]
  },
  {
   "cell_type": "markdown",
   "metadata": {},
   "source": [
    "**Импорты**"
   ]
  },
  {
   "cell_type": "code",
   "execution_count": 1,
   "metadata": {},
   "outputs": [],
   "source": [
    "import pandas as pd\n",
    "import seaborn as sns\n",
    "import matplotlib.pyplot as plt\n",
    "import numpy as np\n",
    "import scipy.stats as st\n",
    "import warnings\n",
    "warnings.filterwarnings('ignore')"
   ]
  },
  {
   "cell_type": "markdown",
   "metadata": {},
   "source": [
    "**Апдейты**"
   ]
  },
  {
   "cell_type": "code",
   "execution_count": 2,
   "metadata": {},
   "outputs": [],
   "source": [
    "#pip install -U seaborn"
   ]
  },
  {
   "cell_type": "markdown",
   "metadata": {},
   "source": [
    "**Данные**"
   ]
  },
  {
   "cell_type": "code",
   "execution_count": 3,
   "metadata": {},
   "outputs": [],
   "source": [
    "product_price = pd.read_csv('product_codes.csv')\n",
    "df = pd.read_csv('retail_dataset.csv')"
   ]
  },
  {
   "cell_type": "markdown",
   "metadata": {},
   "source": [
    "**Обзор: Основной датасэт**"
   ]
  },
  {
   "cell_type": "code",
   "execution_count": 4,
   "metadata": {},
   "outputs": [
    {
     "data": {
      "text/html": [
       "<div>\n",
       "<style scoped>\n",
       "    .dataframe tbody tr th:only-of-type {\n",
       "        vertical-align: middle;\n",
       "    }\n",
       "\n",
       "    .dataframe tbody tr th {\n",
       "        vertical-align: top;\n",
       "    }\n",
       "\n",
       "    .dataframe thead th {\n",
       "        text-align: right;\n",
       "    }\n",
       "</style>\n",
       "<table border=\"1\" class=\"dataframe\">\n",
       "  <thead>\n",
       "    <tr style=\"text-align: right;\">\n",
       "      <th></th>\n",
       "      <th>purchaseid</th>\n",
       "      <th>item_ID</th>\n",
       "      <th>Quantity</th>\n",
       "      <th>purchasedate</th>\n",
       "      <th>CustomerID</th>\n",
       "      <th>ShopID</th>\n",
       "      <th>loyalty_program</th>\n",
       "    </tr>\n",
       "  </thead>\n",
       "  <tbody>\n",
       "    <tr>\n",
       "      <td>0</td>\n",
       "      <td>538280</td>\n",
       "      <td>21873</td>\n",
       "      <td>11</td>\n",
       "      <td>2016-12-10 12:50:00</td>\n",
       "      <td>18427.0</td>\n",
       "      <td>Shop 0</td>\n",
       "      <td>0.0</td>\n",
       "    </tr>\n",
       "    <tr>\n",
       "      <td>1</td>\n",
       "      <td>538862</td>\n",
       "      <td>22195</td>\n",
       "      <td>0</td>\n",
       "      <td>2016-12-14 14:11:00</td>\n",
       "      <td>22389.0</td>\n",
       "      <td>Shop 0</td>\n",
       "      <td>1.0</td>\n",
       "    </tr>\n",
       "    <tr>\n",
       "      <td>2</td>\n",
       "      <td>538855</td>\n",
       "      <td>21239</td>\n",
       "      <td>7</td>\n",
       "      <td>2016-12-14 13:50:00</td>\n",
       "      <td>22182.0</td>\n",
       "      <td>Shop 0</td>\n",
       "      <td>1.0</td>\n",
       "    </tr>\n",
       "    <tr>\n",
       "      <td>3</td>\n",
       "      <td>543543</td>\n",
       "      <td>22271</td>\n",
       "      <td>0</td>\n",
       "      <td>2017-02-09 15:33:00</td>\n",
       "      <td>23522.0</td>\n",
       "      <td>Shop 0</td>\n",
       "      <td>1.0</td>\n",
       "    </tr>\n",
       "    <tr>\n",
       "      <td>4</td>\n",
       "      <td>543812</td>\n",
       "      <td>79321</td>\n",
       "      <td>0</td>\n",
       "      <td>2017-02-13 14:40:00</td>\n",
       "      <td>23151.0</td>\n",
       "      <td>Shop 0</td>\n",
       "      <td>1.0</td>\n",
       "    </tr>\n",
       "  </tbody>\n",
       "</table>\n",
       "</div>"
      ],
      "text/plain": [
       "  purchaseid item_ID  Quantity         purchasedate  CustomerID  ShopID  \\\n",
       "0     538280   21873        11  2016-12-10 12:50:00     18427.0  Shop 0   \n",
       "1     538862   22195         0  2016-12-14 14:11:00     22389.0  Shop 0   \n",
       "2     538855   21239         7  2016-12-14 13:50:00     22182.0  Shop 0   \n",
       "3     543543   22271         0  2017-02-09 15:33:00     23522.0  Shop 0   \n",
       "4     543812   79321         0  2017-02-13 14:40:00     23151.0  Shop 0   \n",
       "\n",
       "   loyalty_program  \n",
       "0              0.0  \n",
       "1              1.0  \n",
       "2              1.0  \n",
       "3              1.0  \n",
       "4              1.0  "
      ]
     },
     "execution_count": 4,
     "metadata": {},
     "output_type": "execute_result"
    }
   ],
   "source": [
    "df.head()"
   ]
  },
  {
   "cell_type": "code",
   "execution_count": 5,
   "metadata": {},
   "outputs": [
    {
     "name": "stdout",
     "output_type": "stream",
     "text": [
      "<class 'pandas.core.frame.DataFrame'>\n",
      "RangeIndex: 105335 entries, 0 to 105334\n",
      "Data columns (total 7 columns):\n",
      "purchaseid         105335 non-null object\n",
      "item_ID            105335 non-null object\n",
      "Quantity           105335 non-null int64\n",
      "purchasedate       105335 non-null object\n",
      "CustomerID         69125 non-null float64\n",
      "ShopID             105335 non-null object\n",
      "loyalty_program    105335 non-null float64\n",
      "dtypes: float64(2), int64(1), object(4)\n",
      "memory usage: 5.6+ MB\n"
     ]
    }
   ],
   "source": [
    "df.info()"
   ]
  },
  {
   "cell_type": "markdown",
   "metadata": {},
   "source": [
    "Что сделать:\n",
    "- Удобные названия столбцов\n",
    "- Дату в дейттайм\n",
    "- Пропуски в customer_id\n",
    "- Тип данных в столбце customer_id\n",
    "- Столбец ShopID к нижнему регистру\n",
    "- Тип данных в loaylty_programm\n",
    "- Дубликаты"
   ]
  },
  {
   "cell_type": "markdown",
   "metadata": {},
   "source": [
    "**Обзор: Цены продуктов**"
   ]
  },
  {
   "cell_type": "code",
   "execution_count": 6,
   "metadata": {},
   "outputs": [
    {
     "data": {
      "text/html": [
       "<div>\n",
       "<style scoped>\n",
       "    .dataframe tbody tr th:only-of-type {\n",
       "        vertical-align: middle;\n",
       "    }\n",
       "\n",
       "    .dataframe tbody tr th {\n",
       "        vertical-align: top;\n",
       "    }\n",
       "\n",
       "    .dataframe thead th {\n",
       "        text-align: right;\n",
       "    }\n",
       "</style>\n",
       "<table border=\"1\" class=\"dataframe\">\n",
       "  <thead>\n",
       "    <tr style=\"text-align: right;\">\n",
       "      <th></th>\n",
       "      <th>productID</th>\n",
       "      <th>price_per_one</th>\n",
       "    </tr>\n",
       "  </thead>\n",
       "  <tbody>\n",
       "    <tr>\n",
       "      <td>0</td>\n",
       "      <td>85123A</td>\n",
       "      <td>2.55</td>\n",
       "    </tr>\n",
       "    <tr>\n",
       "      <td>1</td>\n",
       "      <td>71053</td>\n",
       "      <td>3.39</td>\n",
       "    </tr>\n",
       "    <tr>\n",
       "      <td>2</td>\n",
       "      <td>84406B</td>\n",
       "      <td>2.75</td>\n",
       "    </tr>\n",
       "    <tr>\n",
       "      <td>3</td>\n",
       "      <td>84029G</td>\n",
       "      <td>3.39</td>\n",
       "    </tr>\n",
       "    <tr>\n",
       "      <td>4</td>\n",
       "      <td>84029E</td>\n",
       "      <td>3.39</td>\n",
       "    </tr>\n",
       "  </tbody>\n",
       "</table>\n",
       "</div>"
      ],
      "text/plain": [
       "  productID  price_per_one\n",
       "0    85123A           2.55\n",
       "1     71053           3.39\n",
       "2    84406B           2.75\n",
       "3    84029G           3.39\n",
       "4    84029E           3.39"
      ]
     },
     "execution_count": 6,
     "metadata": {},
     "output_type": "execute_result"
    }
   ],
   "source": [
    "product_price.head()"
   ]
  },
  {
   "cell_type": "code",
   "execution_count": 7,
   "metadata": {},
   "outputs": [
    {
     "name": "stdout",
     "output_type": "stream",
     "text": [
      "<class 'pandas.core.frame.DataFrame'>\n",
      "RangeIndex: 9969 entries, 0 to 9968\n",
      "Data columns (total 2 columns):\n",
      "productID        9969 non-null object\n",
      "price_per_one    9969 non-null float64\n",
      "dtypes: float64(1), object(1)\n",
      "memory usage: 155.9+ KB\n"
     ]
    }
   ],
   "source": [
    "product_price.info()"
   ]
  },
  {
   "cell_type": "markdown",
   "metadata": {},
   "source": [
    "Что сделать:\n",
    "- Названия столбцов\n",
    "- Дубликаты"
   ]
  },
  {
   "cell_type": "markdown",
   "metadata": {},
   "source": [
    "## 2. Предобработка"
   ]
  },
  {
   "cell_type": "markdown",
   "metadata": {},
   "source": [
    "**Основной датасэт**"
   ]
  },
  {
   "cell_type": "code",
   "execution_count": 8,
   "metadata": {},
   "outputs": [],
   "source": [
    "#удобные названия столбцов\n",
    "df.columns = ['purchase_id', 'product_id', 'quantity', 'purchase_dt', 'customer_id', 'shop_id', 'loyal']"
   ]
  },
  {
   "cell_type": "code",
   "execution_count": 9,
   "metadata": {},
   "outputs": [],
   "source": [
    "#Дату в дейттайм\n",
    "df['purchase_dt'] = pd.to_datetime(df['purchase_dt'], format='%Y-%m-%d %H:%M:%S')"
   ]
  },
  {
   "cell_type": "markdown",
   "metadata": {},
   "source": [
    "Проверим, нет ли вдруг дробных значений в столбце loyal. Если нет, то переведем его в int."
   ]
  },
  {
   "cell_type": "code",
   "execution_count": 10,
   "metadata": {},
   "outputs": [
    {
     "data": {
      "text/plain": [
       "array([0., 1.])"
      ]
     },
     "execution_count": 10,
     "metadata": {},
     "output_type": "execute_result"
    }
   ],
   "source": [
    "df['loyal'].unique()"
   ]
  },
  {
   "cell_type": "code",
   "execution_count": 11,
   "metadata": {},
   "outputs": [],
   "source": [
    "#Тип данных в loaylty_programm\n",
    "df['loyal'] = df['loyal'].astype('int')"
   ]
  },
  {
   "cell_type": "code",
   "execution_count": 12,
   "metadata": {},
   "outputs": [],
   "source": [
    "#для удобства переведем в нижний регистр\n",
    "df['shop_id'] = df['shop_id'].str.lower()"
   ]
  },
  {
   "cell_type": "markdown",
   "metadata": {},
   "source": [
    "В столбце customer_id много пропусков. Видимо дело в том, что не у всех есть карта магазина, а без неё нет и id покупателя. Восстановить их никак не получится, поэтому оставим как есть. Проверим, нет ли дробных значений в столбце customer_id. Если нет, то переведем его в int."
   ]
  },
  {
   "cell_type": "code",
   "execution_count": 13,
   "metadata": {},
   "outputs": [
    {
     "data": {
      "text/plain": [
       "0.0"
      ]
     },
     "execution_count": 13,
     "metadata": {},
     "output_type": "execute_result"
    }
   ],
   "source": [
    "df[df['customer_id'] % 1 > 0]['customer_id'].sum()"
   ]
  },
  {
   "cell_type": "code",
   "execution_count": 14,
   "metadata": {},
   "outputs": [],
   "source": [
    "df['customer_id'] = df['customer_id'].astype('Int64')"
   ]
  },
  {
   "cell_type": "code",
   "execution_count": 15,
   "metadata": {},
   "outputs": [
    {
     "name": "stdout",
     "output_type": "stream",
     "text": [
      "Дубликатов в таблице: 1033\n"
     ]
    }
   ],
   "source": [
    "print('Дубликатов в таблице:', df.duplicated().sum())"
   ]
  },
  {
   "cell_type": "markdown",
   "metadata": {},
   "source": [
    "Дубликатов много и это не похоже на ошибку в данных. Скорее всего таким образом просто пробили товар. Поскольку каждая строчка - это товар в чеке, то вполне можно представить как в одном чеке два раза пробивают один и тот же товар с одинаковым количеством (два раза по 10 досок, вместо одной позиции на 20 досок). Поэтому, удалять их мы не будем. "
   ]
  },
  {
   "cell_type": "markdown",
   "metadata": {},
   "source": [
    "Данные после предобработки"
   ]
  },
  {
   "cell_type": "code",
   "execution_count": 16,
   "metadata": {},
   "outputs": [
    {
     "data": {
      "text/html": [
       "<div>\n",
       "<style scoped>\n",
       "    .dataframe tbody tr th:only-of-type {\n",
       "        vertical-align: middle;\n",
       "    }\n",
       "\n",
       "    .dataframe tbody tr th {\n",
       "        vertical-align: top;\n",
       "    }\n",
       "\n",
       "    .dataframe thead th {\n",
       "        text-align: right;\n",
       "    }\n",
       "</style>\n",
       "<table border=\"1\" class=\"dataframe\">\n",
       "  <thead>\n",
       "    <tr style=\"text-align: right;\">\n",
       "      <th></th>\n",
       "      <th>purchase_id</th>\n",
       "      <th>product_id</th>\n",
       "      <th>quantity</th>\n",
       "      <th>purchase_dt</th>\n",
       "      <th>customer_id</th>\n",
       "      <th>shop_id</th>\n",
       "      <th>loyal</th>\n",
       "    </tr>\n",
       "  </thead>\n",
       "  <tbody>\n",
       "    <tr>\n",
       "      <td>0</td>\n",
       "      <td>538280</td>\n",
       "      <td>21873</td>\n",
       "      <td>11</td>\n",
       "      <td>2016-12-10 12:50:00</td>\n",
       "      <td>18427</td>\n",
       "      <td>shop 0</td>\n",
       "      <td>0</td>\n",
       "    </tr>\n",
       "    <tr>\n",
       "      <td>1</td>\n",
       "      <td>538862</td>\n",
       "      <td>22195</td>\n",
       "      <td>0</td>\n",
       "      <td>2016-12-14 14:11:00</td>\n",
       "      <td>22389</td>\n",
       "      <td>shop 0</td>\n",
       "      <td>1</td>\n",
       "    </tr>\n",
       "    <tr>\n",
       "      <td>2</td>\n",
       "      <td>538855</td>\n",
       "      <td>21239</td>\n",
       "      <td>7</td>\n",
       "      <td>2016-12-14 13:50:00</td>\n",
       "      <td>22182</td>\n",
       "      <td>shop 0</td>\n",
       "      <td>1</td>\n",
       "    </tr>\n",
       "    <tr>\n",
       "      <td>3</td>\n",
       "      <td>543543</td>\n",
       "      <td>22271</td>\n",
       "      <td>0</td>\n",
       "      <td>2017-02-09 15:33:00</td>\n",
       "      <td>23522</td>\n",
       "      <td>shop 0</td>\n",
       "      <td>1</td>\n",
       "    </tr>\n",
       "    <tr>\n",
       "      <td>4</td>\n",
       "      <td>543812</td>\n",
       "      <td>79321</td>\n",
       "      <td>0</td>\n",
       "      <td>2017-02-13 14:40:00</td>\n",
       "      <td>23151</td>\n",
       "      <td>shop 0</td>\n",
       "      <td>1</td>\n",
       "    </tr>\n",
       "  </tbody>\n",
       "</table>\n",
       "</div>"
      ],
      "text/plain": [
       "  purchase_id product_id  quantity         purchase_dt  customer_id shop_id  \\\n",
       "0      538280      21873        11 2016-12-10 12:50:00        18427  shop 0   \n",
       "1      538862      22195         0 2016-12-14 14:11:00        22389  shop 0   \n",
       "2      538855      21239         7 2016-12-14 13:50:00        22182  shop 0   \n",
       "3      543543      22271         0 2017-02-09 15:33:00        23522  shop 0   \n",
       "4      543812      79321         0 2017-02-13 14:40:00        23151  shop 0   \n",
       "\n",
       "   loyal  \n",
       "0      0  \n",
       "1      1  \n",
       "2      1  \n",
       "3      1  \n",
       "4      1  "
      ]
     },
     "execution_count": 16,
     "metadata": {},
     "output_type": "execute_result"
    }
   ],
   "source": [
    "df.head()"
   ]
  },
  {
   "cell_type": "code",
   "execution_count": 17,
   "metadata": {},
   "outputs": [
    {
     "name": "stdout",
     "output_type": "stream",
     "text": [
      "<class 'pandas.core.frame.DataFrame'>\n",
      "RangeIndex: 105335 entries, 0 to 105334\n",
      "Data columns (total 7 columns):\n",
      "purchase_id    105335 non-null object\n",
      "product_id     105335 non-null object\n",
      "quantity       105335 non-null int64\n",
      "purchase_dt    105335 non-null datetime64[ns]\n",
      "customer_id    69125 non-null Int64\n",
      "shop_id        105335 non-null object\n",
      "loyal          105335 non-null int64\n",
      "dtypes: Int64(1), datetime64[ns](1), int64(2), object(3)\n",
      "memory usage: 5.7+ MB\n"
     ]
    }
   ],
   "source": [
    "df.info()"
   ]
  },
  {
   "cell_type": "markdown",
   "metadata": {},
   "source": [
    "**Датасэт с ценами продуктов**"
   ]
  },
  {
   "cell_type": "code",
   "execution_count": 18,
   "metadata": {},
   "outputs": [],
   "source": [
    "product_price.columns = ['product_id', 'price']"
   ]
  },
  {
   "cell_type": "code",
   "execution_count": 19,
   "metadata": {},
   "outputs": [
    {
     "name": "stdout",
     "output_type": "stream",
     "text": [
      "Дубликатов в таблице: 0\n"
     ]
    }
   ],
   "source": [
    "print('Дубликатов в таблице:', product_price.duplicated().sum())"
   ]
  },
  {
   "cell_type": "markdown",
   "metadata": {},
   "source": [
    "А что если есть дубликаты только в product_id? Проверим. "
   ]
  },
  {
   "cell_type": "code",
   "execution_count": 20,
   "metadata": {},
   "outputs": [
    {
     "name": "stdout",
     "output_type": "stream",
     "text": [
      "Дубликатов по ID продукта: 6810\n"
     ]
    }
   ],
   "source": [
    "print('Дубликатов по ID продукта:', product_price.duplicated(subset=['product_id']).sum())"
   ]
  },
  {
   "cell_type": "markdown",
   "metadata": {},
   "source": [
    "Очень много. С этим надо что-то делать. Посмотрим пару примеров, чтобы разобраться - в чем дело. "
   ]
  },
  {
   "cell_type": "code",
   "execution_count": 21,
   "metadata": {},
   "outputs": [
    {
     "data": {
      "text/html": [
       "<div>\n",
       "<style scoped>\n",
       "    .dataframe tbody tr th:only-of-type {\n",
       "        vertical-align: middle;\n",
       "    }\n",
       "\n",
       "    .dataframe tbody tr th {\n",
       "        vertical-align: top;\n",
       "    }\n",
       "\n",
       "    .dataframe thead th {\n",
       "        text-align: right;\n",
       "    }\n",
       "</style>\n",
       "<table border=\"1\" class=\"dataframe\">\n",
       "  <thead>\n",
       "    <tr style=\"text-align: right;\">\n",
       "      <th></th>\n",
       "      <th>product_id</th>\n",
       "      <th>price</th>\n",
       "    </tr>\n",
       "  </thead>\n",
       "  <tbody>\n",
       "    <tr>\n",
       "      <td>0</td>\n",
       "      <td>85123A</td>\n",
       "      <td>2.55</td>\n",
       "    </tr>\n",
       "    <tr>\n",
       "      <td>281</td>\n",
       "      <td>85123A</td>\n",
       "      <td>2.95</td>\n",
       "    </tr>\n",
       "    <tr>\n",
       "      <td>1168</td>\n",
       "      <td>85123A</td>\n",
       "      <td>5.91</td>\n",
       "    </tr>\n",
       "    <tr>\n",
       "      <td>5778</td>\n",
       "      <td>85123A</td>\n",
       "      <td>0.00</td>\n",
       "    </tr>\n",
       "    <tr>\n",
       "      <td>6438</td>\n",
       "      <td>85123A</td>\n",
       "      <td>3.24</td>\n",
       "    </tr>\n",
       "    <tr>\n",
       "      <td>6916</td>\n",
       "      <td>85123A</td>\n",
       "      <td>5.79</td>\n",
       "    </tr>\n",
       "  </tbody>\n",
       "</table>\n",
       "</div>"
      ],
      "text/plain": [
       "     product_id  price\n",
       "0        85123A   2.55\n",
       "281      85123A   2.95\n",
       "1168     85123A   5.91\n",
       "5778     85123A   0.00\n",
       "6438     85123A   3.24\n",
       "6916     85123A   5.79"
      ]
     },
     "execution_count": 21,
     "metadata": {},
     "output_type": "execute_result"
    }
   ],
   "source": [
    "product_price.query('product_id == \"85123A\"')"
   ]
  },
  {
   "cell_type": "code",
   "execution_count": 22,
   "metadata": {},
   "outputs": [
    {
     "data": {
      "text/html": [
       "<div>\n",
       "<style scoped>\n",
       "    .dataframe tbody tr th:only-of-type {\n",
       "        vertical-align: middle;\n",
       "    }\n",
       "\n",
       "    .dataframe tbody tr th {\n",
       "        vertical-align: top;\n",
       "    }\n",
       "\n",
       "    .dataframe thead th {\n",
       "        text-align: right;\n",
       "    }\n",
       "</style>\n",
       "<table border=\"1\" class=\"dataframe\">\n",
       "  <thead>\n",
       "    <tr style=\"text-align: right;\">\n",
       "      <th></th>\n",
       "      <th>product_id</th>\n",
       "      <th>price</th>\n",
       "    </tr>\n",
       "  </thead>\n",
       "  <tbody>\n",
       "    <tr>\n",
       "      <td>1</td>\n",
       "      <td>71053</td>\n",
       "      <td>3.39</td>\n",
       "    </tr>\n",
       "    <tr>\n",
       "      <td>1122</td>\n",
       "      <td>71053</td>\n",
       "      <td>8.47</td>\n",
       "    </tr>\n",
       "    <tr>\n",
       "      <td>2320</td>\n",
       "      <td>71053</td>\n",
       "      <td>3.75</td>\n",
       "    </tr>\n",
       "    <tr>\n",
       "      <td>8389</td>\n",
       "      <td>71053</td>\n",
       "      <td>8.29</td>\n",
       "    </tr>\n",
       "  </tbody>\n",
       "</table>\n",
       "</div>"
      ],
      "text/plain": [
       "     product_id  price\n",
       "1         71053   3.39\n",
       "1122      71053   8.47\n",
       "2320      71053   3.75\n",
       "8389      71053   8.29"
      ]
     },
     "execution_count": 22,
     "metadata": {},
     "output_type": "execute_result"
    }
   ],
   "source": [
    "product_price.query('product_id == \"71053\"')"
   ]
  },
  {
   "cell_type": "code",
   "execution_count": 23,
   "metadata": {},
   "outputs": [
    {
     "data": {
      "text/html": [
       "<div>\n",
       "<style scoped>\n",
       "    .dataframe tbody tr th:only-of-type {\n",
       "        vertical-align: middle;\n",
       "    }\n",
       "\n",
       "    .dataframe tbody tr th {\n",
       "        vertical-align: top;\n",
       "    }\n",
       "\n",
       "    .dataframe thead th {\n",
       "        text-align: right;\n",
       "    }\n",
       "</style>\n",
       "<table border=\"1\" class=\"dataframe\">\n",
       "  <thead>\n",
       "    <tr style=\"text-align: right;\">\n",
       "      <th></th>\n",
       "      <th>product_id</th>\n",
       "      <th>price</th>\n",
       "    </tr>\n",
       "  </thead>\n",
       "  <tbody>\n",
       "    <tr>\n",
       "      <td>2</td>\n",
       "      <td>84406B</td>\n",
       "      <td>2.75</td>\n",
       "    </tr>\n",
       "    <tr>\n",
       "      <td>2018</td>\n",
       "      <td>84406B</td>\n",
       "      <td>3.25</td>\n",
       "    </tr>\n",
       "    <tr>\n",
       "      <td>3734</td>\n",
       "      <td>84406B</td>\n",
       "      <td>6.77</td>\n",
       "    </tr>\n",
       "    <tr>\n",
       "      <td>6476</td>\n",
       "      <td>84406B</td>\n",
       "      <td>3.44</td>\n",
       "    </tr>\n",
       "    <tr>\n",
       "      <td>6864</td>\n",
       "      <td>84406B</td>\n",
       "      <td>6.63</td>\n",
       "    </tr>\n",
       "    <tr>\n",
       "      <td>9081</td>\n",
       "      <td>84406B</td>\n",
       "      <td>4.15</td>\n",
       "    </tr>\n",
       "    <tr>\n",
       "      <td>9409</td>\n",
       "      <td>84406B</td>\n",
       "      <td>0.00</td>\n",
       "    </tr>\n",
       "    <tr>\n",
       "      <td>9431</td>\n",
       "      <td>84406B</td>\n",
       "      <td>3.50</td>\n",
       "    </tr>\n",
       "    <tr>\n",
       "      <td>9445</td>\n",
       "      <td>84406B</td>\n",
       "      <td>8.29</td>\n",
       "    </tr>\n",
       "    <tr>\n",
       "      <td>9572</td>\n",
       "      <td>84406B</td>\n",
       "      <td>3.75</td>\n",
       "    </tr>\n",
       "  </tbody>\n",
       "</table>\n",
       "</div>"
      ],
      "text/plain": [
       "     product_id  price\n",
       "2        84406B   2.75\n",
       "2018     84406B   3.25\n",
       "3734     84406B   6.77\n",
       "6476     84406B   3.44\n",
       "6864     84406B   6.63\n",
       "9081     84406B   4.15\n",
       "9409     84406B   0.00\n",
       "9431     84406B   3.50\n",
       "9445     84406B   8.29\n",
       "9572     84406B   3.75"
      ]
     },
     "execution_count": 23,
     "metadata": {},
     "output_type": "execute_result"
    }
   ],
   "source": [
    "product_price.query('product_id == \"84406B\"')"
   ]
  },
  {
   "cell_type": "markdown",
   "metadata": {},
   "source": [
    "У каждого товара может быть очень много дубликатов с разными ценами. То есть, при размере фрейма в 900 строк, уникальных товаров там в разы меньше. Логики в изменениях цены практически нет: она не возрастает и не убывает, а меняется от наблюдения к наблюдению очень хаотично. По хорошему - об этом надо спросить у коллег и указать на такую проблему. Может быть имеет смысл удалять из базы неакутальные цены, или хотя бы маркировать ту, которая является актуальной на данный товар на текущий момент.  "
   ]
  },
  {
   "cell_type": "markdown",
   "metadata": {},
   "source": [
    "Так или иначе, нам нужно сделать что-то, чтобы с данными можно было продолжить работу. Я вижу два варианта:\n",
    "1. Взять последнюю цену в таблице для каждого товара\n",
    "2. Взять среднюю цену\n",
    "\n",
    "Первый вариант мне нравится больше, но с ним может быть проблема. Что если последней ценой окажется \"0\"? Такие цены в таблице есть. К тому же, если цена менялась непосредственно в период наблюдений, то и взять какую-то одну из них будет неправильно (сегодня продали по 2 рубля, завтра по 8, а мы смотрим на данные так, словно всегда продавали по 8). \n",
    "\n",
    "В общем, предлагаю брать среднее: это необходимое допущение для дальнейшей работы. "
   ]
  },
  {
   "cell_type": "code",
   "execution_count": 24,
   "metadata": {},
   "outputs": [],
   "source": [
    "product_price = product_price.groupby('product_id', as_index=False).agg({'price':'mean'})"
   ]
  },
  {
   "cell_type": "markdown",
   "metadata": {},
   "source": [
    "Таблица после предобработки (сократилась на треть)"
   ]
  },
  {
   "cell_type": "code",
   "execution_count": 25,
   "metadata": {},
   "outputs": [
    {
     "data": {
      "text/html": [
       "<div>\n",
       "<style scoped>\n",
       "    .dataframe tbody tr th:only-of-type {\n",
       "        vertical-align: middle;\n",
       "    }\n",
       "\n",
       "    .dataframe tbody tr th {\n",
       "        vertical-align: top;\n",
       "    }\n",
       "\n",
       "    .dataframe thead th {\n",
       "        text-align: right;\n",
       "    }\n",
       "</style>\n",
       "<table border=\"1\" class=\"dataframe\">\n",
       "  <thead>\n",
       "    <tr style=\"text-align: right;\">\n",
       "      <th></th>\n",
       "      <th>product_id</th>\n",
       "      <th>price</th>\n",
       "    </tr>\n",
       "  </thead>\n",
       "  <tbody>\n",
       "    <tr>\n",
       "      <td>0</td>\n",
       "      <td>10002</td>\n",
       "      <td>1.38</td>\n",
       "    </tr>\n",
       "    <tr>\n",
       "      <td>1</td>\n",
       "      <td>10080</td>\n",
       "      <td>0.85</td>\n",
       "    </tr>\n",
       "    <tr>\n",
       "      <td>2</td>\n",
       "      <td>10120</td>\n",
       "      <td>0.21</td>\n",
       "    </tr>\n",
       "    <tr>\n",
       "      <td>3</td>\n",
       "      <td>10123C</td>\n",
       "      <td>0.65</td>\n",
       "    </tr>\n",
       "    <tr>\n",
       "      <td>4</td>\n",
       "      <td>10124A</td>\n",
       "      <td>0.42</td>\n",
       "    </tr>\n",
       "  </tbody>\n",
       "</table>\n",
       "</div>"
      ],
      "text/plain": [
       "  product_id  price\n",
       "0      10002   1.38\n",
       "1      10080   0.85\n",
       "2      10120   0.21\n",
       "3     10123C   0.65\n",
       "4     10124A   0.42"
      ]
     },
     "execution_count": 25,
     "metadata": {},
     "output_type": "execute_result"
    }
   ],
   "source": [
    "product_price.head()"
   ]
  },
  {
   "cell_type": "code",
   "execution_count": 26,
   "metadata": {},
   "outputs": [
    {
     "name": "stdout",
     "output_type": "stream",
     "text": [
      "<class 'pandas.core.frame.DataFrame'>\n",
      "Int64Index: 3159 entries, 0 to 3158\n",
      "Data columns (total 2 columns):\n",
      "product_id    3159 non-null object\n",
      "price         3159 non-null float64\n",
      "dtypes: float64(1), object(1)\n",
      "memory usage: 74.0+ KB\n"
     ]
    }
   ],
   "source": [
    "product_price.info()"
   ]
  },
  {
   "cell_type": "markdown",
   "metadata": {},
   "source": [
    "**Предобработка все!**"
   ]
  },
  {
   "cell_type": "markdown",
   "metadata": {},
   "source": [
    "## 3. Исследовательский анализ данных"
   ]
  },
  {
   "cell_type": "markdown",
   "metadata": {},
   "source": [
    "**Подготовка данных**\n",
    "\n",
    "Для удобства дальнейшей работы сразу объединим две таблички, посчитаем сумму по каждому товару, выделим дату в отдельный столбец и поменяем местами столбцы. "
   ]
  },
  {
   "cell_type": "code",
   "execution_count": 27,
   "metadata": {},
   "outputs": [],
   "source": [
    "df = df.merge(product_price, on='product_id', how='left')\n",
    "df['sum'] = df['price'] * df['quantity']"
   ]
  },
  {
   "cell_type": "code",
   "execution_count": 28,
   "metadata": {},
   "outputs": [],
   "source": [
    "df['purchase_date'] = df['purchase_dt'].dt.date"
   ]
  },
  {
   "cell_type": "code",
   "execution_count": 29,
   "metadata": {},
   "outputs": [],
   "source": [
    "df = df[['purchase_id', 'shop_id', 'purchase_dt', 'purchase_date', 'product_id', 'price', 'quantity', 'sum', 'customer_id', 'loyal']]"
   ]
  },
  {
   "cell_type": "markdown",
   "metadata": {},
   "source": [
    "**Период имеющихся данных**"
   ]
  },
  {
   "cell_type": "code",
   "execution_count": 30,
   "metadata": {},
   "outputs": [
    {
     "data": {
      "text/plain": [
       "count                  105335\n",
       "unique                   4430\n",
       "top       2016-12-06 16:57:00\n",
       "freq                      675\n",
       "first     2016-12-01 08:26:00\n",
       "last      2017-02-28 17:04:00\n",
       "Name: purchase_dt, dtype: object"
      ]
     },
     "execution_count": 30,
     "metadata": {},
     "output_type": "execute_result"
    }
   ],
   "source": [
    "df['purchase_dt'].describe()"
   ]
  },
  {
   "cell_type": "markdown",
   "metadata": {},
   "source": [
    "В нашем распоряжении данные по продажам ровно за 3 зимних месяца (декабрь 2016, январь и февраль 2017)"
   ]
  },
  {
   "cell_type": "markdown",
   "metadata": {},
   "source": [
    "**Распределение столбца с количеством проданного товара | Среднее кол-во проданного товара**"
   ]
  },
  {
   "cell_type": "code",
   "execution_count": 31,
   "metadata": {},
   "outputs": [],
   "source": [
    "sns.set_style(\"darkgrid\")"
   ]
  },
  {
   "cell_type": "code",
   "execution_count": 32,
   "metadata": {},
   "outputs": [
    {
     "data": {
      "image/png": "[encoded data removed]",
      "text/plain": [
       "<Figure size 432x288 with 1 Axes>"
      ]
     },
     "metadata": {},
     "output_type": "display_data"
    }
   ],
   "source": [
    "sns.boxplot(df['quantity'])\n",
    "plt.title('Распределение столбца с количеством единиц проданного товара')\n",
    "plt.xlabel('Количество товара в одной проданной позции')\n",
    "pass"
   ]
  },
  {
   "cell_type": "code",
   "execution_count": 33,
   "metadata": {},
   "outputs": [
    {
     "data": {
      "text/html": [
       "<div>\n",
       "<style scoped>\n",
       "    .dataframe tbody tr th:only-of-type {\n",
       "        vertical-align: middle;\n",
       "    }\n",
       "\n",
       "    .dataframe tbody tr th {\n",
       "        vertical-align: top;\n",
       "    }\n",
       "\n",
       "    .dataframe thead th {\n",
       "        text-align: right;\n",
       "    }\n",
       "</style>\n",
       "<table border=\"1\" class=\"dataframe\">\n",
       "  <thead>\n",
       "    <tr style=\"text-align: right;\">\n",
       "      <th></th>\n",
       "      <th>purchase_id</th>\n",
       "      <th>shop_id</th>\n",
       "      <th>purchase_dt</th>\n",
       "      <th>purchase_date</th>\n",
       "      <th>product_id</th>\n",
       "      <th>price</th>\n",
       "      <th>quantity</th>\n",
       "      <th>sum</th>\n",
       "      <th>customer_id</th>\n",
       "      <th>loyal</th>\n",
       "    </tr>\n",
       "  </thead>\n",
       "  <tbody>\n",
       "    <tr>\n",
       "      <td>49411</td>\n",
       "      <td>C541433</td>\n",
       "      <td>shop 0</td>\n",
       "      <td>2017-01-18 10:17:00</td>\n",
       "      <td>2017-01-18</td>\n",
       "      <td>23166</td>\n",
       "      <td>1.04</td>\n",
       "      <td>-74216</td>\n",
       "      <td>-77184.64</td>\n",
       "      <td>18025</td>\n",
       "      <td>0</td>\n",
       "    </tr>\n",
       "    <tr>\n",
       "      <td>69074</td>\n",
       "      <td>541431</td>\n",
       "      <td>shop 0</td>\n",
       "      <td>2017-01-18 10:01:00</td>\n",
       "      <td>2017-01-18</td>\n",
       "      <td>23166</td>\n",
       "      <td>1.04</td>\n",
       "      <td>74214</td>\n",
       "      <td>77182.56</td>\n",
       "      <td>18025</td>\n",
       "      <td>0</td>\n",
       "    </tr>\n",
       "  </tbody>\n",
       "</table>\n",
       "</div>"
      ],
      "text/plain": [
       "      purchase_id shop_id         purchase_dt purchase_date product_id  price  \\\n",
       "49411     C541433  shop 0 2017-01-18 10:17:00    2017-01-18      23166   1.04   \n",
       "69074      541431  shop 0 2017-01-18 10:01:00    2017-01-18      23166   1.04   \n",
       "\n",
       "       quantity       sum  customer_id  loyal  \n",
       "49411    -74216 -77184.64        18025      0  \n",
       "69074     74214  77182.56        18025      0  "
      ]
     },
     "execution_count": 33,
     "metadata": {},
     "output_type": "execute_result"
    }
   ],
   "source": [
    "df.query('quantity > 40000 | quantity < -40000')"
   ]
  },
  {
   "cell_type": "markdown",
   "metadata": {},
   "source": [
    "1. Количества товаров могут быть отрицательными и это скорее всего возвраты.\n",
    "2. Видим два явных выброса, которые являются покупкой и возвратом одного и того же товара. Они уравновешивают друг друга, но очень растягивают дисперсию. К тому же - это слишком большая по количеству покупка, которая является сильным исключением из правила. Для дальнейшего анализа лучше избавимся от неё. "
   ]
  },
  {
   "cell_type": "code",
   "execution_count": 34,
   "metadata": {},
   "outputs": [],
   "source": [
    "df = df.query('quantity < 40000 & quantity > -40000')"
   ]
  },
  {
   "cell_type": "code",
   "execution_count": 35,
   "metadata": {},
   "outputs": [
    {
     "data": {
      "image/png": "[encoded data removed]",
      "text/plain": [
       "<Figure size 432x288 with 1 Axes>"
      ]
     },
     "metadata": {},
     "output_type": "display_data"
    }
   ],
   "source": [
    "sns.boxplot(df['quantity'])\n",
    "plt.title('Распределение столбца с количеством единиц проданного товара')\n",
    "plt.xlabel('Количество товара в одной проданной позции')\n",
    "pass"
   ]
  },
  {
   "cell_type": "code",
   "execution_count": 36,
   "metadata": {},
   "outputs": [
    {
     "data": {
      "image/png": "[encoded data removed]",
      "text/plain": [
       "<Figure size 432x288 with 1 Axes>"
      ]
     },
     "metadata": {},
     "output_type": "display_data"
    }
   ],
   "source": [
    "df['quantity'].hist(bins=100, range=(-100, 100))\n",
    "plt.title('Гистограмма столбца с количеством единиц проданного товара')\n",
    "plt.xlabel('Количество товара в одной проданной позции')\n",
    "pass"
   ]
  },
  {
   "cell_type": "markdown",
   "metadata": {},
   "source": [
    "Видим, что наибольше кол-во значений по количеству товара расположились около нуля. Что если там есть нулевые количества?"
   ]
  },
  {
   "cell_type": "code",
   "execution_count": 37,
   "metadata": {},
   "outputs": [
    {
     "data": {
      "text/plain": [
       "33055"
      ]
     },
     "execution_count": 37,
     "metadata": {},
     "output_type": "execute_result"
    }
   ],
   "source": [
    "df.query('quantity == 0').shape[0]"
   ]
  },
  {
   "cell_type": "code",
   "execution_count": 38,
   "metadata": {},
   "outputs": [
    {
     "data": {
      "image/png": "[encoded data removed]",
      "text/plain": [
       "<Figure size 432x288 with 1 Axes>"
      ]
     },
     "metadata": {},
     "output_type": "display_data"
    }
   ],
   "source": [
    "sns.barplot(data=df.query('quantity == 0').groupby('shop_id', as_index=False).agg({'product_id':'count'}), x='product_id', y='shop_id')\n",
    "plt.title('Количество позиций товара с количеством \"0\" по магазинам')\n",
    "plt.xlabel('Количество позиций')\n",
    "plt.ylabel('ID магазина')\n",
    "pass"
   ]
  },
  {
   "cell_type": "markdown",
   "metadata": {},
   "source": [
    "Такие позиции есть и их очень много. Это третья часть от всего фрейма. Основная масса товаров с нулевым количеством пробита в магазине с ID \"0\" - очень ирончно. "
   ]
  },
  {
   "cell_type": "code",
   "execution_count": 39,
   "metadata": {},
   "outputs": [
    {
     "data": {
      "text/html": [
       "<div>\n",
       "<style scoped>\n",
       "    .dataframe tbody tr th:only-of-type {\n",
       "        vertical-align: middle;\n",
       "    }\n",
       "\n",
       "    .dataframe tbody tr th {\n",
       "        vertical-align: top;\n",
       "    }\n",
       "\n",
       "    .dataframe thead th {\n",
       "        text-align: right;\n",
       "    }\n",
       "</style>\n",
       "<table border=\"1\" class=\"dataframe\">\n",
       "  <thead>\n",
       "    <tr style=\"text-align: right;\">\n",
       "      <th></th>\n",
       "      <th>purchase_id</th>\n",
       "      <th>shop_id</th>\n",
       "      <th>purchase_dt</th>\n",
       "      <th>purchase_date</th>\n",
       "      <th>product_id</th>\n",
       "      <th>price</th>\n",
       "      <th>quantity</th>\n",
       "      <th>sum</th>\n",
       "      <th>customer_id</th>\n",
       "      <th>loyal</th>\n",
       "    </tr>\n",
       "  </thead>\n",
       "  <tbody>\n",
       "    <tr>\n",
       "      <td>6</td>\n",
       "      <td>540468</td>\n",
       "      <td>shop 0</td>\n",
       "      <td>2017-01-07 13:55:00</td>\n",
       "      <td>2017-01-07</td>\n",
       "      <td>22189</td>\n",
       "      <td>5.282000</td>\n",
       "      <td>0</td>\n",
       "      <td>0.0</td>\n",
       "      <td>NaN</td>\n",
       "      <td>0</td>\n",
       "    </tr>\n",
       "    <tr>\n",
       "      <td>8</td>\n",
       "      <td>538883</td>\n",
       "      <td>shop 0</td>\n",
       "      <td>2016-12-14 15:56:00</td>\n",
       "      <td>2016-12-14</td>\n",
       "      <td>22891</td>\n",
       "      <td>6.190000</td>\n",
       "      <td>0</td>\n",
       "      <td>0.0</td>\n",
       "      <td>NaN</td>\n",
       "      <td>0</td>\n",
       "    </tr>\n",
       "    <tr>\n",
       "      <td>23</td>\n",
       "      <td>538149</td>\n",
       "      <td>shop 0</td>\n",
       "      <td>2016-12-09 16:27:00</td>\n",
       "      <td>2016-12-09</td>\n",
       "      <td>21154</td>\n",
       "      <td>2.321667</td>\n",
       "      <td>0</td>\n",
       "      <td>0.0</td>\n",
       "      <td>NaN</td>\n",
       "      <td>0</td>\n",
       "    </tr>\n",
       "    <tr>\n",
       "      <td>28</td>\n",
       "      <td>539451</td>\n",
       "      <td>shop 0</td>\n",
       "      <td>2016-12-17 16:59:00</td>\n",
       "      <td>2016-12-17</td>\n",
       "      <td>22376</td>\n",
       "      <td>4.891667</td>\n",
       "      <td>0</td>\n",
       "      <td>0.0</td>\n",
       "      <td>NaN</td>\n",
       "      <td>0</td>\n",
       "    </tr>\n",
       "    <tr>\n",
       "      <td>32</td>\n",
       "      <td>540468</td>\n",
       "      <td>shop 0</td>\n",
       "      <td>2017-01-07 13:55:00</td>\n",
       "      <td>2017-01-07</td>\n",
       "      <td>21990</td>\n",
       "      <td>2.640000</td>\n",
       "      <td>0</td>\n",
       "      <td>0.0</td>\n",
       "      <td>NaN</td>\n",
       "      <td>0</td>\n",
       "    </tr>\n",
       "  </tbody>\n",
       "</table>\n",
       "</div>"
      ],
      "text/plain": [
       "   purchase_id shop_id         purchase_dt purchase_date product_id     price  \\\n",
       "6       540468  shop 0 2017-01-07 13:55:00    2017-01-07      22189  5.282000   \n",
       "8       538883  shop 0 2016-12-14 15:56:00    2016-12-14      22891  6.190000   \n",
       "23      538149  shop 0 2016-12-09 16:27:00    2016-12-09      21154  2.321667   \n",
       "28      539451  shop 0 2016-12-17 16:59:00    2016-12-17      22376  4.891667   \n",
       "32      540468  shop 0 2017-01-07 13:55:00    2017-01-07      21990  2.640000   \n",
       "\n",
       "    quantity  sum  customer_id  loyal  \n",
       "6          0  0.0          NaN      0  \n",
       "8          0  0.0          NaN      0  \n",
       "23         0  0.0          NaN      0  \n",
       "28         0  0.0          NaN      0  \n",
       "32         0  0.0          NaN      0  "
      ]
     },
     "execution_count": 39,
     "metadata": {},
     "output_type": "execute_result"
    }
   ],
   "source": [
    "df[(df['quantity'] == 0) & (df['customer_id'].isna() == True)].head()"
   ]
  },
  {
   "cell_type": "markdown",
   "metadata": {},
   "source": [
    "Предположение о том, что нулевое количество - это товары, пробитые по бонусам или скидкам для владельцев карт лояльности не оправдалось. Нулевые количества товаров есть и у тех, кто не участвует в программе лояльности."
   ]
  },
  {
   "cell_type": "markdown",
   "metadata": {},
   "source": [
    "Заменить эти значения не получится а еще их очень много, поэтому просто оставим как есть, но будем иметь в виду и передадим информацию коллегам. Чтобы оценить среднее количество пробиваемого товара - посчитаем медиану по всему массиву без нулевых значений. "
   ]
  },
  {
   "cell_type": "code",
   "execution_count": 40,
   "metadata": {},
   "outputs": [
    {
     "name": "stdout",
     "output_type": "stream",
     "text": [
      "Одну позицию товара в среднем пробивают в количестве 5 штук\n"
     ]
    }
   ],
   "source": [
    "print('Одну позицию товара в среднем пробивают в количестве {:.0f} штук'.format(df.query('quantity != 0')['quantity'].median()))"
   ]
  },
  {
   "cell_type": "markdown",
   "metadata": {},
   "source": [
    "**Топ-10 товаров, покупаемых в самых больших количествах**"
   ]
  },
  {
   "cell_type": "code",
   "execution_count": 41,
   "metadata": {},
   "outputs": [],
   "source": [
    "top10products = df.groupby('product_id', as_index=False).agg({'quantity':'sum'}).sort_values(by='quantity', ascending=False).head(10)"
   ]
  },
  {
   "cell_type": "code",
   "execution_count": 42,
   "metadata": {},
   "outputs": [
    {
     "data": {
      "image/png": "[encoded data removed]",
      "text/plain": [
       "<Figure size 792x504 with 1 Axes>"
      ]
     },
     "metadata": {},
     "output_type": "display_data"
    }
   ],
   "source": [
    "plt.figure(figsize = (11,7))\n",
    "sns.barplot(data=top10products, x='quantity', y='product_id', palette=\"rocket\")\n",
    "plt.title('Топ-10 товаров, покупаемых в самых больших количествах')\n",
    "plt.xlabel('Количество единиц проданного товара')\n",
    "plt.ylabel('ID товара')\n",
    "pass"
   ]
  },
  {
   "cell_type": "markdown",
   "metadata": {},
   "source": [
    "За 3 месяца таких товаров купили от 5000 до 10000 штук каждого. "
   ]
  },
  {
   "cell_type": "markdown",
   "metadata": {},
   "source": [
    "**Количество чеков (продаж) по каждому магазину** "
   ]
  },
  {
   "cell_type": "markdown",
   "metadata": {},
   "source": [
    "Для следующих графиков нам потребуется дополнительный сгруппированный фрейм в котором мы объединим все наблюдения в покупки (чеки). "
   ]
  },
  {
   "cell_type": "code",
   "execution_count": 43,
   "metadata": {},
   "outputs": [],
   "source": [
    "df_grouped = df.groupby(['purchase_id'], as_index=False) \\\n",
    "    .agg({'shop_id':'max', 'purchase_dt':'max', 'product_id':'count', 'quantity':'mean', 'price':'mean', 'sum':'sum', 'loyal':'max', 'customer_id':'max'}) \\\n",
    "    .rename(columns={'product_id':'product_count', 'quantity':'mean_quantity', 'price':'mean_price', 'sum':'purchase_sum'})"
   ]
  },
  {
   "cell_type": "code",
   "execution_count": 44,
   "metadata": {},
   "outputs": [],
   "source": [
    "df_grouped['mean_quantity'] = df_grouped['mean_quantity'].round(2)"
   ]
  },
  {
   "cell_type": "code",
   "execution_count": 45,
   "metadata": {},
   "outputs": [],
   "source": [
    "df_grouped['mean_price'] = df_grouped['mean_price'].round(2)"
   ]
  },
  {
   "cell_type": "code",
   "execution_count": 46,
   "metadata": {},
   "outputs": [
    {
     "name": "stdout",
     "output_type": "stream",
     "text": [
      "<class 'pandas.core.frame.DataFrame'>\n",
      "Int64Index: 4892 entries, 0 to 4891\n",
      "Data columns (total 9 columns):\n",
      "purchase_id      4892 non-null object\n",
      "shop_id          4892 non-null object\n",
      "purchase_dt      4892 non-null datetime64[ns]\n",
      "product_count    4892 non-null int64\n",
      "mean_quantity    4892 non-null float64\n",
      "mean_price       4892 non-null float64\n",
      "purchase_sum     4892 non-null float64\n",
      "loyal            4892 non-null int64\n",
      "customer_id      4144 non-null Int64\n",
      "dtypes: Int64(1), datetime64[ns](1), float64(3), int64(2), object(2)\n",
      "memory usage: 387.0+ KB\n"
     ]
    }
   ],
   "source": [
    "df_grouped.info()"
   ]
  },
  {
   "cell_type": "code",
   "execution_count": 47,
   "metadata": {},
   "outputs": [],
   "source": [
    "purchases_per_shop = df_grouped.groupby('shop_id', as_index=False) \\\n",
    "    .agg({'purchase_id':'count'}) \\\n",
    "    .rename(columns={'purchase_id':'purchases_count'}) \\\n",
    "    .sort_values(by='purchases_count', ascending=False)"
   ]
  },
  {
   "cell_type": "code",
   "execution_count": 48,
   "metadata": {},
   "outputs": [
    {
     "data": {
      "image/png": "[encoded data removed]",
      "text/plain": [
       "<Figure size 1440x360 with 1 Axes>"
      ]
     },
     "metadata": {},
     "output_type": "display_data"
    }
   ],
   "source": [
    "plt.figure(figsize = (20,5))\n",
    "plt.xticks(rotation='vertical')\n",
    "plt.title('Количество покупок в разных магазинах')\n",
    "sns.barplot(data=purchases_per_shop, x='shop_id', y='purchases_count', palette=\"rocket\")\n",
    "plt.xlabel('ID магазина')\n",
    "plt.ylabel('Количество покупок')\n",
    "pass"
   ]
  },
  {
   "cell_type": "code",
   "execution_count": 49,
   "metadata": {},
   "outputs": [
    {
     "name": "stdout",
     "output_type": "stream",
     "text": [
      "В нашем датасете 91% всех чеков приходится на Shop 0\n"
     ]
    }
   ],
   "source": [
    "print('В нашем датасете {:.0%} всех чеков приходится на Shop 0'.format(purchases_per_shop.iloc[0,1] / purchases_per_shop['purchases_count'].sum()))"
   ]
  },
  {
   "cell_type": "markdown",
   "metadata": {},
   "source": [
    "Очень интересно. Количество покупок в других магазинах по сравнению с Shop 0 просто ничтожное, а большинстве магазине - вообще сливается с нулём. Посмотрим тот же график, но без нулевого мазаина "
   ]
  },
  {
   "cell_type": "code",
   "execution_count": 50,
   "metadata": {},
   "outputs": [
    {
     "data": {
      "image/png": "[encoded data removed]",
      "text/plain": [
       "<Figure size 1440x360 with 1 Axes>"
      ]
     },
     "metadata": {},
     "output_type": "display_data"
    }
   ],
   "source": [
    "plt.figure(figsize = (20,5))\n",
    "plt.xticks(rotation='vertical')\n",
    "plt.title('Количество покупок в разных магазинах')\n",
    "sns.barplot(data=purchases_per_shop[1:], x='shop_id', y='purchases_count', palette=\"rocket\")\n",
    "plt.xlabel('ID магазина')\n",
    "plt.ylabel('Количество покупок')\n",
    "pass"
   ]
  },
  {
   "cell_type": "markdown",
   "metadata": {},
   "source": [
    "Лишь в 3 магазинах на графике мы видим больше 20 покупок. В остальных магазинах их меньше 20 за 3 месяца."
   ]
  },
  {
   "cell_type": "markdown",
   "metadata": {},
   "source": [
    "**Покупки во времени**"
   ]
  },
  {
   "cell_type": "code",
   "execution_count": 51,
   "metadata": {},
   "outputs": [],
   "source": [
    "df_grouped['purchase_date'] = df_grouped['purchase_dt'].dt.date"
   ]
  },
  {
   "cell_type": "code",
   "execution_count": 52,
   "metadata": {},
   "outputs": [],
   "source": [
    "purchases_per_date = df_grouped.groupby('purchase_date', as_index=False) \\\n",
    "    .agg({'purchase_id':'count'}) \\\n",
    "    .rename(columns={'purchase_id':'purchases_count'}) \\\n",
    "    .sort_values(by='purchase_date')"
   ]
  },
  {
   "cell_type": "code",
   "execution_count": 53,
   "metadata": {},
   "outputs": [
    {
     "data": {
      "image/png": "[encoded data removed]",
      "text/plain": [
       "<Figure size 1224x432 with 1 Axes>"
      ]
     },
     "metadata": {},
     "output_type": "display_data"
    }
   ],
   "source": [
    "plt.figure(figsize = (17,6))\n",
    "#plt.xticks(rotation='vertical')\n",
    "plt.title('Количество покупок в зависимости от времени')\n",
    "sns.lineplot(data=purchases_per_date, x='purchase_date', y='purchases_count', color=\"#c53c54\")\n",
    "plt.xlabel('Дата')\n",
    "plt.ylabel('Количество покупок в день (шт.)')\n",
    "pass"
   ]
  },
  {
   "cell_type": "markdown",
   "metadata": {},
   "source": [
    "Видим, что количество покупок до нового года было несколько выше, чем после. "
   ]
  },
  {
   "cell_type": "markdown",
   "metadata": {},
   "source": [
    "**Средний чек**"
   ]
  },
  {
   "cell_type": "markdown",
   "metadata": {},
   "source": [
    "Помним, что есть возвраты и нулевые количества (а следовательно и сумма, равная нулю), поэтому для оценки возьмем только положительные ненулевые значения суммы."
   ]
  },
  {
   "cell_type": "code",
   "execution_count": 54,
   "metadata": {},
   "outputs": [
    {
     "data": {
      "image/png": "[encoded data removed]",
      "text/plain": [
       "<Figure size 432x288 with 1 Axes>"
      ]
     },
     "metadata": {},
     "output_type": "display_data"
    }
   ],
   "source": [
    "sns.histplot(df_grouped.query('purchase_sum > 0')['purchase_sum'])\n",
    "plt.title('Гистограмма распределения значений суммы покупок')\n",
    "plt.xlabel('Сумма покупки')\n",
    "plt.ylabel('Кол-во значений')\n",
    "pass"
   ]
  },
  {
   "cell_type": "markdown",
   "metadata": {},
   "source": [
    "У распределения здоровенный хвост, но основные значения лежат в диапозоне от 0 до 2000 у.е. Для оценки среднего возьмем медиану."
   ]
  },
  {
   "cell_type": "code",
   "execution_count": 55,
   "metadata": {},
   "outputs": [
    {
     "name": "stdout",
     "output_type": "stream",
     "text": [
      "Средний чек: 332 у.е\n"
     ]
    }
   ],
   "source": [
    "print('Средний чек: {:.0f} у.е'.format(df_grouped.query('purchase_sum > 0')['purchase_sum'].median()))"
   ]
  },
  {
   "cell_type": "markdown",
   "metadata": {},
   "source": [
    "**Разнообразие товара в чеке | Среднее количество разных товаров в чеке**"
   ]
  },
  {
   "cell_type": "code",
   "execution_count": 56,
   "metadata": {},
   "outputs": [
    {
     "data": {
      "image/png": "[encoded data removed]",
      "text/plain": [
       "<Figure size 432x288 with 1 Axes>"
      ]
     },
     "metadata": {},
     "output_type": "display_data"
    }
   ],
   "source": [
    "sns.histplot(df_grouped['product_count'])\n",
    "plt.title('Гистограмма количества разных товаров в чеке')\n",
    "plt.xlabel('Кол-во разных товаров в чеке')\n",
    "plt.ylabel('Кол-во значений')\n",
    "pass"
   ]
  },
  {
   "cell_type": "markdown",
   "metadata": {},
   "source": [
    "Основные значения расположились в промежутке от 0 до 100. У распределения большой пик около нуля и длинный и незаметный хвост.\n",
    "Предполгаю, что пик - это значение \"1\"."
   ]
  },
  {
   "cell_type": "code",
   "execution_count": 57,
   "metadata": {},
   "outputs": [
    {
     "name": "stdout",
     "output_type": "stream",
     "text": [
      "Самое частое значение в столбце с количеством разных позиций товара в чеке: 1\n"
     ]
    }
   ],
   "source": [
    "print('Самое частое значение в столбце с количеством разных позиций товара в чеке:', df_grouped['product_count'].mode()[0])"
   ]
  },
  {
   "cell_type": "markdown",
   "metadata": {},
   "source": [
    "Так и есть. Теперь посчитаем среднее и для оценки так же возьмем медиану. "
   ]
  },
  {
   "cell_type": "code",
   "execution_count": 58,
   "metadata": {},
   "outputs": [
    {
     "name": "stdout",
     "output_type": "stream",
     "text": [
      "Среднее количество разных товаров в чеке: 10\n"
     ]
    }
   ],
   "source": [
    "print('Среднее количество разных товаров в чеке: {:.0f}'.format(df_grouped['product_count'].median()))"
   ]
  },
  {
   "cell_type": "markdown",
   "metadata": {},
   "source": [
    "**Средняя цена товара**"
   ]
  },
  {
   "cell_type": "code",
   "execution_count": 59,
   "metadata": {},
   "outputs": [
    {
     "data": {
      "text/plain": [
       "count    3159.000000\n",
       "mean        7.704377\n",
       "std       165.331310\n",
       "min         0.000000\n",
       "25%         1.380000\n",
       "50%         2.772500\n",
       "75%         4.988750\n",
       "max      9268.762222\n",
       "Name: price, dtype: float64"
      ]
     },
     "execution_count": 59,
     "metadata": {},
     "output_type": "execute_result"
    }
   ],
   "source": [
    "product_price['price'].describe()"
   ]
  },
  {
   "cell_type": "code",
   "execution_count": 60,
   "metadata": {},
   "outputs": [
    {
     "name": "stdout",
     "output_type": "stream",
     "text": [
      "В нашем датасэте 57 товара с ценой равной нулю\n"
     ]
    }
   ],
   "source": [
    "print('В нашем датасэте {:.0f} товара с ценой равной нулю'.format(product_price.query('price == 0')['price'].count()))"
   ]
  },
  {
   "cell_type": "markdown",
   "metadata": {},
   "source": [
    "Даже после усреднения, у нас все равно остались товары с нулевой ценой. Значит, цена там всегда была нулевая. Скорее всего - это какие-то акционные товары, которые достаются бесплатно, но все равно пробиваются в чеке. Посмотрим на среднюю цену товара без них. "
   ]
  },
  {
   "cell_type": "code",
   "execution_count": 61,
   "metadata": {},
   "outputs": [
    {
     "data": {
      "image/png": "[encoded data removed]",
      "text/plain": [
       "<Figure size 432x288 with 1 Axes>"
      ]
     },
     "metadata": {},
     "output_type": "display_data"
    }
   ],
   "source": [
    "sns.histplot(product_price.query('price > 0')['price'])\n",
    "plt.title('Гистограмма распределения цены товара')\n",
    "plt.xlabel('Цена')\n",
    "plt.ylabel('Кол-во значений')\n",
    "pass"
   ]
  },
  {
   "cell_type": "markdown",
   "metadata": {},
   "source": [
    "Судя по получившемуся графику, там есть очень сильный выброс по цене. Что там? "
   ]
  },
  {
   "cell_type": "code",
   "execution_count": 62,
   "metadata": {},
   "outputs": [
    {
     "data": {
      "text/html": [
       "<div>\n",
       "<style scoped>\n",
       "    .dataframe tbody tr th:only-of-type {\n",
       "        vertical-align: middle;\n",
       "    }\n",
       "\n",
       "    .dataframe tbody tr th {\n",
       "        vertical-align: top;\n",
       "    }\n",
       "\n",
       "    .dataframe thead th {\n",
       "        text-align: right;\n",
       "    }\n",
       "</style>\n",
       "<table border=\"1\" class=\"dataframe\">\n",
       "  <thead>\n",
       "    <tr style=\"text-align: right;\">\n",
       "      <th></th>\n",
       "      <th>purchase_id</th>\n",
       "      <th>shop_id</th>\n",
       "      <th>purchase_dt</th>\n",
       "      <th>purchase_date</th>\n",
       "      <th>product_id</th>\n",
       "      <th>price</th>\n",
       "      <th>quantity</th>\n",
       "      <th>sum</th>\n",
       "      <th>customer_id</th>\n",
       "      <th>loyal</th>\n",
       "    </tr>\n",
       "  </thead>\n",
       "  <tbody>\n",
       "    <tr>\n",
       "      <td>1181</td>\n",
       "      <td>C537652</td>\n",
       "      <td>shop 0</td>\n",
       "      <td>2016-12-07 15:51:00</td>\n",
       "      <td>2016-12-07</td>\n",
       "      <td>AMAZONFEE</td>\n",
       "      <td>9268.762222</td>\n",
       "      <td>-2</td>\n",
       "      <td>-18537.524444</td>\n",
       "      <td>NaN</td>\n",
       "      <td>0</td>\n",
       "    </tr>\n",
       "    <tr>\n",
       "      <td>2637</td>\n",
       "      <td>C544589</td>\n",
       "      <td>shop 0</td>\n",
       "      <td>2017-02-21 15:11:00</td>\n",
       "      <td>2017-02-21</td>\n",
       "      <td>AMAZONFEE</td>\n",
       "      <td>9268.762222</td>\n",
       "      <td>-2</td>\n",
       "      <td>-18537.524444</td>\n",
       "      <td>NaN</td>\n",
       "      <td>0</td>\n",
       "    </tr>\n",
       "    <tr>\n",
       "      <td>8119</td>\n",
       "      <td>C540117</td>\n",
       "      <td>shop 0</td>\n",
       "      <td>2017-01-05 09:55:00</td>\n",
       "      <td>2017-01-05</td>\n",
       "      <td>AMAZONFEE</td>\n",
       "      <td>9268.762222</td>\n",
       "      <td>-2</td>\n",
       "      <td>-18537.524444</td>\n",
       "      <td>NaN</td>\n",
       "      <td>0</td>\n",
       "    </tr>\n",
       "    <tr>\n",
       "      <td>12550</td>\n",
       "      <td>537632</td>\n",
       "      <td>shop 0</td>\n",
       "      <td>2016-12-07 15:08:00</td>\n",
       "      <td>2016-12-07</td>\n",
       "      <td>AMAZONFEE</td>\n",
       "      <td>9268.762222</td>\n",
       "      <td>0</td>\n",
       "      <td>0.000000</td>\n",
       "      <td>NaN</td>\n",
       "      <td>0</td>\n",
       "    </tr>\n",
       "    <tr>\n",
       "      <td>24571</td>\n",
       "      <td>C537630</td>\n",
       "      <td>shop 0</td>\n",
       "      <td>2016-12-07 15:04:00</td>\n",
       "      <td>2016-12-07</td>\n",
       "      <td>AMAZONFEE</td>\n",
       "      <td>9268.762222</td>\n",
       "      <td>-2</td>\n",
       "      <td>-18537.524444</td>\n",
       "      <td>NaN</td>\n",
       "      <td>0</td>\n",
       "    </tr>\n",
       "    <tr>\n",
       "      <td>34815</td>\n",
       "      <td>C537651</td>\n",
       "      <td>shop 0</td>\n",
       "      <td>2016-12-07 15:49:00</td>\n",
       "      <td>2016-12-07</td>\n",
       "      <td>AMAZONFEE</td>\n",
       "      <td>9268.762222</td>\n",
       "      <td>-2</td>\n",
       "      <td>-18537.524444</td>\n",
       "      <td>NaN</td>\n",
       "      <td>0</td>\n",
       "    </tr>\n",
       "    <tr>\n",
       "      <td>35911</td>\n",
       "      <td>C537644</td>\n",
       "      <td>shop 0</td>\n",
       "      <td>2016-12-07 15:34:00</td>\n",
       "      <td>2016-12-07</td>\n",
       "      <td>AMAZONFEE</td>\n",
       "      <td>9268.762222</td>\n",
       "      <td>-2</td>\n",
       "      <td>-18537.524444</td>\n",
       "      <td>NaN</td>\n",
       "      <td>0</td>\n",
       "    </tr>\n",
       "    <tr>\n",
       "      <td>58981</td>\n",
       "      <td>C540118</td>\n",
       "      <td>shop 0</td>\n",
       "      <td>2017-01-05 09:57:00</td>\n",
       "      <td>2017-01-05</td>\n",
       "      <td>AMAZONFEE</td>\n",
       "      <td>9268.762222</td>\n",
       "      <td>-2</td>\n",
       "      <td>-18537.524444</td>\n",
       "      <td>NaN</td>\n",
       "      <td>0</td>\n",
       "    </tr>\n",
       "    <tr>\n",
       "      <td>59911</td>\n",
       "      <td>C537647</td>\n",
       "      <td>shop 0</td>\n",
       "      <td>2016-12-07 15:41:00</td>\n",
       "      <td>2016-12-07</td>\n",
       "      <td>AMAZONFEE</td>\n",
       "      <td>9268.762222</td>\n",
       "      <td>-2</td>\n",
       "      <td>-18537.524444</td>\n",
       "      <td>NaN</td>\n",
       "      <td>0</td>\n",
       "    </tr>\n",
       "    <tr>\n",
       "      <td>63101</td>\n",
       "      <td>C544587</td>\n",
       "      <td>shop 0</td>\n",
       "      <td>2017-02-21 15:07:00</td>\n",
       "      <td>2017-02-21</td>\n",
       "      <td>AMAZONFEE</td>\n",
       "      <td>9268.762222</td>\n",
       "      <td>-2</td>\n",
       "      <td>-18537.524444</td>\n",
       "      <td>NaN</td>\n",
       "      <td>0</td>\n",
       "    </tr>\n",
       "    <tr>\n",
       "      <td>67898</td>\n",
       "      <td>C537600</td>\n",
       "      <td>shop 0</td>\n",
       "      <td>2016-12-07 12:41:00</td>\n",
       "      <td>2016-12-07</td>\n",
       "      <td>AMAZONFEE</td>\n",
       "      <td>9268.762222</td>\n",
       "      <td>-2</td>\n",
       "      <td>-18537.524444</td>\n",
       "      <td>NaN</td>\n",
       "      <td>0</td>\n",
       "    </tr>\n",
       "  </tbody>\n",
       "</table>\n",
       "</div>"
      ],
      "text/plain": [
       "      purchase_id shop_id         purchase_dt purchase_date product_id  \\\n",
       "1181      C537652  shop 0 2016-12-07 15:51:00    2016-12-07  AMAZONFEE   \n",
       "2637      C544589  shop 0 2017-02-21 15:11:00    2017-02-21  AMAZONFEE   \n",
       "8119      C540117  shop 0 2017-01-05 09:55:00    2017-01-05  AMAZONFEE   \n",
       "12550      537632  shop 0 2016-12-07 15:08:00    2016-12-07  AMAZONFEE   \n",
       "24571     C537630  shop 0 2016-12-07 15:04:00    2016-12-07  AMAZONFEE   \n",
       "34815     C537651  shop 0 2016-12-07 15:49:00    2016-12-07  AMAZONFEE   \n",
       "35911     C537644  shop 0 2016-12-07 15:34:00    2016-12-07  AMAZONFEE   \n",
       "58981     C540118  shop 0 2017-01-05 09:57:00    2017-01-05  AMAZONFEE   \n",
       "59911     C537647  shop 0 2016-12-07 15:41:00    2016-12-07  AMAZONFEE   \n",
       "63101     C544587  shop 0 2017-02-21 15:07:00    2017-02-21  AMAZONFEE   \n",
       "67898     C537600  shop 0 2016-12-07 12:41:00    2016-12-07  AMAZONFEE   \n",
       "\n",
       "             price  quantity           sum  customer_id  loyal  \n",
       "1181   9268.762222        -2 -18537.524444          NaN      0  \n",
       "2637   9268.762222        -2 -18537.524444          NaN      0  \n",
       "8119   9268.762222        -2 -18537.524444          NaN      0  \n",
       "12550  9268.762222         0      0.000000          NaN      0  \n",
       "24571  9268.762222        -2 -18537.524444          NaN      0  \n",
       "34815  9268.762222        -2 -18537.524444          NaN      0  \n",
       "35911  9268.762222        -2 -18537.524444          NaN      0  \n",
       "58981  9268.762222        -2 -18537.524444          NaN      0  \n",
       "59911  9268.762222        -2 -18537.524444          NaN      0  \n",
       "63101  9268.762222        -2 -18537.524444          NaN      0  \n",
       "67898  9268.762222        -2 -18537.524444          NaN      0  "
      ]
     },
     "execution_count": 62,
     "metadata": {},
     "output_type": "execute_result"
    }
   ],
   "source": [
    "df.query('price > 1000')"
   ]
  },
  {
   "cell_type": "markdown",
   "metadata": {},
   "source": [
    "AMAZONFEE - это комиссия за размещение Маркетплейсу? Почему её выплачивают из Shop 0? \n",
    "\n",
    "Но есть еще наблюдение - BANK CHARGES."
   ]
  },
  {
   "cell_type": "code",
   "execution_count": 63,
   "metadata": {},
   "outputs": [
    {
     "data": {
      "text/html": [
       "<div>\n",
       "<style scoped>\n",
       "    .dataframe tbody tr th:only-of-type {\n",
       "        vertical-align: middle;\n",
       "    }\n",
       "\n",
       "    .dataframe tbody tr th {\n",
       "        vertical-align: top;\n",
       "    }\n",
       "\n",
       "    .dataframe thead th {\n",
       "        text-align: right;\n",
       "    }\n",
       "</style>\n",
       "<table border=\"1\" class=\"dataframe\">\n",
       "  <thead>\n",
       "    <tr style=\"text-align: right;\">\n",
       "      <th></th>\n",
       "      <th>purchase_id</th>\n",
       "      <th>shop_id</th>\n",
       "      <th>purchase_dt</th>\n",
       "      <th>purchase_date</th>\n",
       "      <th>product_id</th>\n",
       "      <th>price</th>\n",
       "      <th>quantity</th>\n",
       "      <th>sum</th>\n",
       "      <th>customer_id</th>\n",
       "      <th>loyal</th>\n",
       "    </tr>\n",
       "  </thead>\n",
       "  <tbody>\n",
       "    <tr>\n",
       "      <td>81548</td>\n",
       "      <td>536779</td>\n",
       "      <td>shop 0</td>\n",
       "      <td>2016-12-02 15:08:00</td>\n",
       "      <td>2016-12-02</td>\n",
       "      <td>BANK CHARGES</td>\n",
       "      <td>385.947500</td>\n",
       "      <td>0</td>\n",
       "      <td>0.000000</td>\n",
       "      <td>21502</td>\n",
       "      <td>0</td>\n",
       "    </tr>\n",
       "    <tr>\n",
       "      <td>1181</td>\n",
       "      <td>C537652</td>\n",
       "      <td>shop 0</td>\n",
       "      <td>2016-12-07 15:51:00</td>\n",
       "      <td>2016-12-07</td>\n",
       "      <td>AMAZONFEE</td>\n",
       "      <td>9268.762222</td>\n",
       "      <td>-2</td>\n",
       "      <td>-18537.524444</td>\n",
       "      <td>NaN</td>\n",
       "      <td>0</td>\n",
       "    </tr>\n",
       "    <tr>\n",
       "      <td>67898</td>\n",
       "      <td>C537600</td>\n",
       "      <td>shop 0</td>\n",
       "      <td>2016-12-07 12:41:00</td>\n",
       "      <td>2016-12-07</td>\n",
       "      <td>AMAZONFEE</td>\n",
       "      <td>9268.762222</td>\n",
       "      <td>-2</td>\n",
       "      <td>-18537.524444</td>\n",
       "      <td>NaN</td>\n",
       "      <td>0</td>\n",
       "    </tr>\n",
       "    <tr>\n",
       "      <td>59911</td>\n",
       "      <td>C537647</td>\n",
       "      <td>shop 0</td>\n",
       "      <td>2016-12-07 15:41:00</td>\n",
       "      <td>2016-12-07</td>\n",
       "      <td>AMAZONFEE</td>\n",
       "      <td>9268.762222</td>\n",
       "      <td>-2</td>\n",
       "      <td>-18537.524444</td>\n",
       "      <td>NaN</td>\n",
       "      <td>0</td>\n",
       "    </tr>\n",
       "    <tr>\n",
       "      <td>55236</td>\n",
       "      <td>C537572</td>\n",
       "      <td>shop 0</td>\n",
       "      <td>2016-12-07 12:00:00</td>\n",
       "      <td>2016-12-07</td>\n",
       "      <td>BANK CHARGES</td>\n",
       "      <td>385.947500</td>\n",
       "      <td>-2</td>\n",
       "      <td>-771.895000</td>\n",
       "      <td>NaN</td>\n",
       "      <td>0</td>\n",
       "    </tr>\n",
       "  </tbody>\n",
       "</table>\n",
       "</div>"
      ],
      "text/plain": [
       "      purchase_id shop_id         purchase_dt purchase_date    product_id  \\\n",
       "81548      536779  shop 0 2016-12-02 15:08:00    2016-12-02  BANK CHARGES   \n",
       "1181      C537652  shop 0 2016-12-07 15:51:00    2016-12-07     AMAZONFEE   \n",
       "67898     C537600  shop 0 2016-12-07 12:41:00    2016-12-07     AMAZONFEE   \n",
       "59911     C537647  shop 0 2016-12-07 15:41:00    2016-12-07     AMAZONFEE   \n",
       "55236     C537572  shop 0 2016-12-07 12:00:00    2016-12-07  BANK CHARGES   \n",
       "\n",
       "             price  quantity           sum  customer_id  loyal  \n",
       "81548   385.947500         0      0.000000        21502      0  \n",
       "1181   9268.762222        -2 -18537.524444          NaN      0  \n",
       "67898  9268.762222        -2 -18537.524444          NaN      0  \n",
       "59911  9268.762222        -2 -18537.524444          NaN      0  \n",
       "55236   385.947500        -2   -771.895000          NaN      0  "
      ]
     },
     "execution_count": 63,
     "metadata": {},
     "output_type": "execute_result"
    }
   ],
   "source": [
    "df.query('price > 300').sort_values(by='purchase_date').head()"
   ]
  },
  {
   "cell_type": "markdown",
   "metadata": {},
   "source": [
    "Кроме комиссии Амазону из Shop 0 выплачивают еще и некоторые банковские сборы. Что если Shop 0 - это интернет-магазин? Он один, поэтому и индекс у него нулевой. Правда, неужели онлайн-продажи в строительной сфере настолько превышают продажи в реальных магазинах?"
   ]
  },
  {
   "cell_type": "markdown",
   "metadata": {},
   "source": [
    "Что если кроме этих, есть еще какие-то специфические выплаты? Найдем последние квантили распределния и посмотрим значения product_id по ним. "
   ]
  },
  {
   "cell_type": "code",
   "execution_count": 64,
   "metadata": {},
   "outputs": [
    {
     "data": {
      "text/plain": [
       "array([ 8.95   , 12.65125, 27.7241 ])"
      ]
     },
     "execution_count": 64,
     "metadata": {},
     "output_type": "execute_result"
    }
   ],
   "source": [
    "np.quantile(product_price.query('price > 0')['price'], [0.9, 0.95, 0.99])"
   ]
  },
  {
   "cell_type": "code",
   "execution_count": 65,
   "metadata": {},
   "outputs": [
    {
     "data": {
      "text/plain": [
       "array(['DOT', '22946', 'AMAZONFEE', '84078A', 'BANK CHARGES', '22828',\n",
       "       'M', '22803', 'S', 'C2', '21359', '22503', '22656', '21761',\n",
       "       '21769', '22827', '22655', '84616', '22833', '22929', '22823', 'D',\n",
       "       '21686', '22824', 'gift_0001_40', '84963A', '20785', '84816',\n",
       "       '22826', 'gift_0001_50', '22764', '84632'], dtype=object)"
      ]
     },
     "execution_count": 65,
     "metadata": {},
     "output_type": "execute_result"
    }
   ],
   "source": [
    "df.query('price > 27.7241')['product_id'].unique()"
   ]
  },
  {
   "cell_type": "markdown",
   "metadata": {},
   "source": [
    "Есть еще \"говорящие\" позиции 'gift_0001_40' и 'gift_0001_50', а так же позиции с названиями DOT, M, S, D, C2. Но по их названиям вряд ли можно понять их предназначение. В остальном - больше ничего подозрительного. Будем иметь это в виду, а пока пойдем дальше. Комиссии банку и амазону нужно убрать - они будут влиять на данные и расчеты эффективности.  "
   ]
  },
  {
   "cell_type": "code",
   "execution_count": 66,
   "metadata": {},
   "outputs": [],
   "source": [
    "df = df.query('price < 300')"
   ]
  },
  {
   "cell_type": "markdown",
   "metadata": {},
   "source": [
    "Вернемся к средней цене. Давайте посмотрим на распределение цены по данным до 0.99 квантиля."
   ]
  },
  {
   "cell_type": "code",
   "execution_count": 67,
   "metadata": {},
   "outputs": [
    {
     "data": {
      "image/png": "[encoded data removed]",
      "text/plain": [
       "<Figure size 432x288 with 1 Axes>"
      ]
     },
     "metadata": {},
     "output_type": "display_data"
    }
   ],
   "source": [
    "quantile99 = np.quantile(product_price.query('price > 0')['price'], 0.99)\n",
    "sns.histplot(product_price.query('price < @quantile99')['price'])\n",
    "plt.title('Гистограмма распределения цены товара')\n",
    "plt.xlabel('Цена')\n",
    "plt.ylabel('Кол-во значений')\n",
    "pass"
   ]
  },
  {
   "cell_type": "markdown",
   "metadata": {},
   "source": [
    "Гораздо лучше. Основная масса наблюдений лежит в диапозоне от 0 до 5 у.е. Хвост расходится до 25 у.е. Возьмем медиану для оценки среднего."
   ]
  },
  {
   "cell_type": "code",
   "execution_count": 68,
   "metadata": {},
   "outputs": [
    {
     "name": "stdout",
     "output_type": "stream",
     "text": [
      "Средняя цена товара: 2.77\n"
     ]
    }
   ],
   "source": [
    "print('Средняя цена товара: {:.2f}'.format(product_price.query('price < @quantile99')['price'].median()))"
   ]
  },
  {
   "cell_type": "markdown",
   "metadata": {},
   "source": [
    "**Количество клиентов / Доля клиентов, имеющих карту лояльности**"
   ]
  },
  {
   "cell_type": "markdown",
   "metadata": {},
   "source": [
    "Для этого блока сразу сделаем агрерированный фрейм, который пригодится нам в дальнейшем. "
   ]
  },
  {
   "cell_type": "code",
   "execution_count": 69,
   "metadata": {},
   "outputs": [],
   "source": [
    "clients = df_grouped.groupby('customer_id', as_index=False) \\\n",
    "    .agg({'loyal':'max', 'purchase_sum':['sum', 'mean'], 'purchase_id':'count'})"
   ]
  },
  {
   "cell_type": "code",
   "execution_count": 70,
   "metadata": {},
   "outputs": [],
   "source": [
    "clients.columns = ['customer_id', 'loyal', 'all_purchases_sum', 'mean_purchase', 'purchases_count']"
   ]
  },
  {
   "cell_type": "code",
   "execution_count": 71,
   "metadata": {},
   "outputs": [
    {
     "name": "stdout",
     "output_type": "stream",
     "text": [
      "<class 'pandas.core.frame.DataFrame'>\n",
      "Int64Index: 1748 entries, 0 to 1747\n",
      "Data columns (total 5 columns):\n",
      "customer_id          1748 non-null int64\n",
      "loyal                1748 non-null int64\n",
      "all_purchases_sum    1748 non-null float64\n",
      "mean_purchase        1748 non-null float64\n",
      "purchases_count      1748 non-null int64\n",
      "dtypes: float64(2), int64(3)\n",
      "memory usage: 81.9 KB\n"
     ]
    }
   ],
   "source": [
    "clients.info()"
   ]
  },
  {
   "cell_type": "code",
   "execution_count": 72,
   "metadata": {},
   "outputs": [
    {
     "name": "stdout",
     "output_type": "stream",
     "text": [
      "Общее количество клиентов с указанным customer_id, совершивших хотя бы одну покупку за 3 месяца: 1748\n",
      "Доля клиентов с картой лояльности: 33.6%\n"
     ]
    }
   ],
   "source": [
    "print('Общее количество клиентов с указанным customer_id, совершивших хотя бы одну покупку за 3 месяца:', len(clients))\n",
    "print('Доля клиентов с картой лояльности: {:.1%}'.format(clients['loyal'].mean()))"
   ]
  },
  {
   "cell_type": "markdown",
   "metadata": {},
   "source": [
    "**Выводы по итогам исследовательского анализа**\n",
    "\n",
    "- Имеем данные по продажам за 3 зимних месяца (декабрь 2016, январь и февраль 2017)\n",
    "- 1/3 всех наблюдений содержит НУЛЕВОЕ количество товара\n",
    "- 91% от всех чеков приходится на магазин \"Shop 0\"\n",
    "- Есть все основания предположить, что Shop 0 - это интернет-магазин\n",
    "- Лишь в 4-х магазинах мы видим больше 20 чеков (покупок) за 3 месяца\n",
    "- Количество покупок в последний месяц старого года несколько выше, чем после\n",
    "- В датасэте 1748 клиентов с указанным id\n",
    "- Среди них - 33.6% с картой лояльности\n",
    "\n",
    "Средние\n",
    "- Одну позицию товара в среднем пробивают в количестве 5 штук\n",
    "- Средний чек: 332 у.е\n",
    "- Среднее количество разных товаров в чеке: 10\n",
    "- Средняя цена товара: 2.77 у.е.\n",
    "\n",
    "Для дальнейшего анализа важно помнить:\n",
    "- Много нулевых количеств товара\n",
    "- Соответственно много нулевых сумм покупок\n",
    "- Отрицательные количества - это возвраты\n",
    "- Есть товары с нулевой ценой"
   ]
  },
  {
   "cell_type": "markdown",
   "metadata": {},
   "source": [
    "## 4. Оценка эффективности магазинов"
   ]
  },
  {
   "cell_type": "markdown",
   "metadata": {},
   "source": [
    "Посмотрим на магазины с точки зрения разных показателей и выделим лучшие из них. "
   ]
  },
  {
   "cell_type": "markdown",
   "metadata": {},
   "source": [
    "**Топ 10 магазинов по количеству покупок**"
   ]
  },
  {
   "cell_type": "markdown",
   "metadata": {},
   "source": [
    "Это график мы уже строили, но учитывали там все чеки (и даже возвраты). Теперь возьмем только положительные чеки (реальные покупки), отберем только 10 лучших магазинов и покажем еще раз. Shop 0 в расчет брать не будем. "
   ]
  },
  {
   "cell_type": "code",
   "execution_count": 73,
   "metadata": {},
   "outputs": [],
   "source": [
    "purchases_per_shop = df_grouped.query('purchase_sum > 0') \\\n",
    "    .groupby('shop_id', as_index=False) \\\n",
    "    .agg({'purchase_id':'count'}) \\\n",
    "    .rename(columns={'purchase_id':'purchases_count'}) \\\n",
    "    .sort_values(by='purchases_count', ascending=False)"
   ]
  },
  {
   "cell_type": "code",
   "execution_count": 74,
   "metadata": {},
   "outputs": [
    {
     "data": {
      "image/png": "[encoded data removed]",
      "text/plain": [
       "<Figure size 720x432 with 1 Axes>"
      ]
     },
     "metadata": {},
     "output_type": "display_data"
    }
   ],
   "source": [
    "plt.figure(figsize = (10,6))\n",
    "plt.xticks(rotation='vertical')\n",
    "plt.title('Суммарное количество чеков по магазинам')\n",
    "sns.barplot(data=purchases_per_shop[1:].head(10), x='shop_id', y='purchases_count', palette=\"rocket\")\n",
    "plt.xlabel('ID магазина')\n",
    "plt.ylabel('Количество чеков (шт.)')\n",
    "pass"
   ]
  },
  {
   "cell_type": "markdown",
   "metadata": {},
   "source": [
    "С сильным отрывом первые 3 строчки занимают Shop 4, Shop 1 и Shop 6. "
   ]
  },
  {
   "cell_type": "markdown",
   "metadata": {},
   "source": [
    "**Топ-10 магазинов по среднему чеку**"
   ]
  },
  {
   "cell_type": "code",
   "execution_count": 75,
   "metadata": {},
   "outputs": [],
   "source": [
    "shop_mean_purchase = df_grouped.groupby('shop_id', as_index=False) \\\n",
    "    .agg({'purchase_sum':'mean'}) \\\n",
    "    .rename(columns={'purchase_sum':'mean_purchase'}) \\\n",
    "    .sort_values(by='mean_purchase', ascending=False)"
   ]
  },
  {
   "cell_type": "code",
   "execution_count": 76,
   "metadata": {},
   "outputs": [
    {
     "data": {
      "image/png": "[encoded data removed]",
      "text/plain": [
       "<Figure size 720x432 with 1 Axes>"
      ]
     },
     "metadata": {},
     "output_type": "display_data"
    }
   ],
   "source": [
    "plt.figure(figsize = (10,6))\n",
    "plt.xticks(rotation='vertical')\n",
    "plt.title('Средний чек по магазинам')\n",
    "sns.barplot(data=shop_mean_purchase.head(10), x='shop_id', y='mean_purchase', palette=\"rocket\")\n",
    "plt.xlabel('ID магазина')\n",
    "plt.ylabel('Средний чек (у.е)')\n",
    "pass"
   ]
  },
  {
   "cell_type": "markdown",
   "metadata": {},
   "source": [
    "С большим отрывом лидирует Shop 3. Значения по среднему чеку там очень высокие, учитывая что средний чек по всему фрейму равен 322 у.е. Shop 0 в десятку не попал. "
   ]
  },
  {
   "cell_type": "markdown",
   "metadata": {},
   "source": [
    "**Топ 10 магазинов по наименьшему проценту возврата**"
   ]
  },
  {
   "cell_type": "markdown",
   "metadata": {},
   "source": [
    "Посчитаем количество возвратов по каждому магазину. "
   ]
  },
  {
   "cell_type": "code",
   "execution_count": 77,
   "metadata": {},
   "outputs": [],
   "source": [
    "refund_rate = df_grouped.query('purchase_sum < 0') \\\n",
    "    .groupby('shop_id', as_index=False) \\\n",
    "    .agg({'purchase_id':'count'}) \\\n",
    "    .rename(columns={'purchase_id':'refund_count'}) \\\n",
    "    .sort_values(by='refund_count', ascending=True)"
   ]
  },
  {
   "cell_type": "markdown",
   "metadata": {},
   "source": [
    "А затем объединим с таблицей по чекам и разделим возвраты на все чеки. "
   ]
  },
  {
   "cell_type": "code",
   "execution_count": 78,
   "metadata": {},
   "outputs": [],
   "source": [
    "refund_rate = refund_rate.merge(purchases_per_shop, on='shop_id')"
   ]
  },
  {
   "cell_type": "code",
   "execution_count": 79,
   "metadata": {},
   "outputs": [],
   "source": [
    "refund_rate['refund_rate'] = (refund_rate['refund_count'] / refund_rate['purchases_count']).round(2)"
   ]
  },
  {
   "cell_type": "code",
   "execution_count": 80,
   "metadata": {},
   "outputs": [],
   "source": [
    "refund_rate = refund_rate.sort_values(by='refund_rate')"
   ]
  },
  {
   "cell_type": "code",
   "execution_count": 81,
   "metadata": {},
   "outputs": [
    {
     "data": {
      "image/png": "[encoded data removed]",
      "text/plain": [
       "<Figure size 720x432 with 1 Axes>"
      ]
     },
     "metadata": {},
     "output_type": "display_data"
    }
   ],
   "source": [
    "plt.figure(figsize = (10,6))\n",
    "plt.xticks(rotation='vertical')\n",
    "plt.title('Доля возвратов по магазинам')\n",
    "sns.set_style(\"darkgrid\")\n",
    "sns.barplot(data=refund_rate.head(10), x='shop_id', y='refund_rate', palette=\"rocket\")\n",
    "plt.xlabel('ID магазина')\n",
    "plt.ylabel('Доля возвратов')\n",
    "pass"
   ]
  },
  {
   "cell_type": "markdown",
   "metadata": {},
   "source": [
    "На первых строчках по этому параметру: Shop 7, Shop 2, Shop 3 и Shop 18"
   ]
  },
  {
   "cell_type": "markdown",
   "metadata": {},
   "source": [
    "**10 самых прибыльных клиентов**"
   ]
  },
  {
   "cell_type": "code",
   "execution_count": 82,
   "metadata": {},
   "outputs": [],
   "source": [
    "top_10_purchase_sum_clients = clients.sort_values(by='all_purchases_sum', ascending=False).head(10)"
   ]
  },
  {
   "cell_type": "code",
   "execution_count": 83,
   "metadata": {},
   "outputs": [
    {
     "data": {
      "image/png": "[encoded data removed]",
      "text/plain": [
       "<Figure size 720x432 with 1 Axes>"
      ]
     },
     "metadata": {},
     "output_type": "display_data"
    }
   ],
   "source": [
    "plt.figure(figsize = (10,6))\n",
    "#plt.xticks(rotation='vertical')\n",
    "plt.title('10 самых прибыльных клиентов')\n",
    "sns.barplot(data=top_10_purchase_sum_clients, \n",
    "            y='all_purchases_sum', \n",
    "            x='customer_id', \n",
    "            palette=\"rocket\", \n",
    "            order=top_10_purchase_sum_clients['customer_id'])\n",
    "plt.xlabel('ID клиента')\n",
    "plt.ylabel('Сумма покупок по клиенту за 3 месяца (у.е.)')\n",
    "pass"
   ]
  },
  {
   "cell_type": "markdown",
   "metadata": {},
   "source": [
    "Два лидера с большим отрывом - клиенты 20325 и 23781"
   ]
  },
  {
   "cell_type": "markdown",
   "metadata": {},
   "source": [
    "**Топ-10 магазинов по среднемесячной выручке**"
   ]
  },
  {
   "cell_type": "markdown",
   "metadata": {},
   "source": [
    "Считать будем следующим образом:\n",
    "- Возвраты включены: то есть возврат уменьшает выручку\n",
    "- Уберем из рассмотрения Shop 0 - он сильно изменит масштаб графика и с ним все понятно"
   ]
  },
  {
   "cell_type": "code",
   "execution_count": 84,
   "metadata": {},
   "outputs": [],
   "source": [
    "#название месяца\n",
    "df_grouped['purchase_month'] = df_grouped['purchase_dt'].dt.month_name()"
   ]
  },
  {
   "cell_type": "code",
   "execution_count": 85,
   "metadata": {},
   "outputs": [],
   "source": [
    "#фрейм, где выручка за каждый месяц\n",
    "shops_month_revenue = df_grouped.groupby(['shop_id', 'purchase_month'], as_index=False) \\\n",
    "    .agg({'purchase_sum':'sum'})"
   ]
  },
  {
   "cell_type": "code",
   "execution_count": 86,
   "metadata": {},
   "outputs": [],
   "source": [
    "#фрейм, где среднемесячная выручка\n",
    "mean_month_revenue = shops_month_revenue.groupby('shop_id', as_index=False) \\\n",
    "    .agg({'purchase_sum':'mean'}) \\\n",
    "    .rename(columns={'purchase_sum':'mean_month_revenue'}) \\\n",
    "    .sort_values(by='mean_month_revenue', ascending=False)"
   ]
  },
  {
   "cell_type": "code",
   "execution_count": 87,
   "metadata": {},
   "outputs": [
    {
     "data": {
      "image/png": "[encoded data removed]",
      "text/plain": [
       "<Figure size 720x432 with 1 Axes>"
      ]
     },
     "metadata": {},
     "output_type": "display_data"
    }
   ],
   "source": [
    "plt.figure(figsize = (10,6))\n",
    "plt.title('Топ-10 магазинов по среднемесячной выручке')\n",
    "sns.barplot(data=mean_month_revenue[1:].head(10), \n",
    "            y='mean_month_revenue', \n",
    "            x='shop_id', \n",
    "            palette=\"rocket\")\n",
    "plt.xlabel('ID магазина')\n",
    "plt.ylabel('Среднемесячная выручка (у.е.)')\n",
    "pass"
   ]
  },
  {
   "cell_type": "markdown",
   "metadata": {},
   "source": [
    "## 5. Проверка гипотез"
   ]
  },
  {
   "cell_type": "markdown",
   "metadata": {},
   "source": [
    "### Гипотеза 1. Программа лояльности работает: её участники приносят сети больше денег"
   ]
  },
  {
   "cell_type": "markdown",
   "metadata": {},
   "source": [
    "Проверим эту гипотезу с помощью двух сравнений:\n",
    "- Сумма чека (Гипотеза - Лояльные пользователи в среднем тратят больше)\n",
    "- Количество покупок (Гипотеза - Лояльные пользователи покупают чаще)\n",
    "\n",
    "\n",
    "Для удобства проверки всех гипотез напишем простенькую функцию. "
   ]
  },
  {
   "cell_type": "code",
   "execution_count": 88,
   "metadata": {},
   "outputs": [],
   "source": [
    "'''\n",
    "    Функция сравнения двух выборок. \n",
    "    \n",
    "    Берет на вход две выборки, выводит среднее значение по каждой и результат статистического теста (ttest)\n",
    "\n",
    "'''\n",
    "\n",
    "def comparative_test(sample_1, sample_1_name, sample_2, sample_2_name):\n",
    "    print(sample_1_name, ': среднее - {:.2f}'.format(sample_1.mean()))\n",
    "    print(sample_2_name, ': среднее - {:.2f}'.format(sample_2.mean()))\n",
    "    print('T-test p_value:', st.ttest_ind(sample_1, sample_2).pvalue)"
   ]
  },
  {
   "cell_type": "markdown",
   "metadata": {},
   "source": [
    "#### Сумма по чеку"
   ]
  },
  {
   "cell_type": "markdown",
   "metadata": {},
   "source": [
    "Возьмем для каждого типа покупателей все суммы покупок:\n",
    "\n",
    "- Не учитывая возвраты (отрицательные)\n",
    "- Не учитывая нулевые суммы (они возникли из-за нулевых количеств товара и могут сместить среднее, если таких покупок в какой-то группе окажется больше)"
   ]
  },
  {
   "cell_type": "code",
   "execution_count": 89,
   "metadata": {},
   "outputs": [],
   "source": [
    "loyal_purchases = df_grouped.query('loyal == 1  & purchase_sum > 0')['purchase_sum']\n",
    "unloyal_purchases = df_grouped.query('loyal == 0  & purchase_sum > 0')['purchase_sum']"
   ]
  },
  {
   "cell_type": "code",
   "execution_count": 90,
   "metadata": {},
   "outputs": [
    {
     "name": "stdout",
     "output_type": "stream",
     "text": [
      "Лояльные клиенты : среднее - 581.80\n",
      "Нелояльные клиенты : среднее - 689.67\n",
      "T-test p_value: 0.04588707434579465\n"
     ]
    }
   ],
   "source": [
    "comparative_test(loyal_purchases, 'Лояльные клиенты', unloyal_purchases, 'Нелояльные клиенты')"
   ]
  },
  {
   "cell_type": "markdown",
   "metadata": {},
   "source": [
    "Выводы противоположные ожидаемым. Средний чек по нелояльным клиентам больше, и при alpha = 0.05 мы скажем, что эти различия статистически значимые. \n",
    "\n",
    "Что если мы зря убрали возвраты? Может быть стоит считать вместе с ними? Попробуем."
   ]
  },
  {
   "cell_type": "code",
   "execution_count": 91,
   "metadata": {},
   "outputs": [],
   "source": [
    "loyal_purchases = df_grouped.query('loyal == 1  & purchase_sum != 0')['purchase_sum']\n",
    "unloyal_purchases = df_grouped.query('loyal == 0  & purchase_sum != 0')['purchase_sum']"
   ]
  },
  {
   "cell_type": "code",
   "execution_count": 92,
   "metadata": {},
   "outputs": [
    {
     "name": "stdout",
     "output_type": "stream",
     "text": [
      "Лояльные клиенты : среднее - 467.57\n",
      "Нелояльные клиенты : среднее - 412.65\n",
      "T-test p_value: 0.3696707985433558\n"
     ]
    }
   ],
   "source": [
    "comparative_test(loyal_purchases, 'Лояльные клиенты', unloyal_purchases, 'Нелояльные клиенты')"
   ]
  },
  {
   "cell_type": "markdown",
   "metadata": {},
   "source": [
    "Ситуация изменилась, но не кардинально. Мы видим, что средний чек по лояльным покупателям увеличился, но ttest говорит, что эти различия статистически незначимы. Принимаем нулевую гипотезу и говорим, что различия в средних чеках мы скорее получили случайно, а на самом деле они примерно равны. "
   ]
  },
  {
   "cell_type": "markdown",
   "metadata": {},
   "source": [
    "**Вывод**\n",
    "\n",
    "Лояльные клиенты в среднем тратят не больше, а возможно даже меньше, чем нелояльные клиенты. "
   ]
  },
  {
   "cell_type": "markdown",
   "metadata": {},
   "source": [
    "#### Количество покупок"
   ]
  },
  {
   "cell_type": "markdown",
   "metadata": {},
   "source": [
    "Проверим вторую часть гипотезы и посмотрим - покупают ли лояльные клиенты чаще, чем нелояльные. "
   ]
  },
  {
   "cell_type": "code",
   "execution_count": 93,
   "metadata": {},
   "outputs": [],
   "source": [
    "loyal_purchases_count = clients.query('loyal == 1')['purchases_count']\n",
    "unloyal_purchases_count = clients.query('loyal == 0')['purchases_count']"
   ]
  },
  {
   "cell_type": "code",
   "execution_count": 94,
   "metadata": {},
   "outputs": [
    {
     "name": "stdout",
     "output_type": "stream",
     "text": [
      "Лояльные клиенты : среднее - 2.29\n",
      "Нелояльные клиенты : среднее - 2.41\n",
      "T-test p_value: 0.4182681463128234\n"
     ]
    }
   ],
   "source": [
    "comparative_test(loyal_purchases_count, 'Лояльные клиенты', unloyal_purchases_count, 'Нелояльные клиенты')"
   ]
  },
  {
   "cell_type": "markdown",
   "metadata": {},
   "source": [
    "**Вывод**\n",
    "\n",
    "Ответ кажется однозначным - нулевую гипотезу принимаем и говорим, что никаких различий в количестве покупок нет."
   ]
  },
  {
   "cell_type": "markdown",
   "metadata": {},
   "source": [
    "#### Общий вывод\n",
    "\n",
    "С программой лояльности что-то не так. Стоит рассказать о результатах коллегам и разобраться - почему так просиходит. "
   ]
  },
  {
   "cell_type": "markdown",
   "metadata": {},
   "source": [
    "### Гипотеза 2. Модель интернета-магазина работает эффективнее, чем оффлайн-магазины"
   ]
  },
  {
   "cell_type": "markdown",
   "metadata": {},
   "source": [
    "В данном случае эффективность будем измерять только средним чеком. Мы уже знаем, что по количеству покупок онлайн-магазин (Shop 0) в десятки раз превосходит другие магазины. Но, большое количество покупок не означает больше прибыли. Мы не знаем издержки. Поэтому средний чек на мой взгляд является более объективной метрикой эффективности. \n",
    "\n",
    "Проведем так же два теста: учитывая и не учитывая возвраты."
   ]
  },
  {
   "cell_type": "markdown",
   "metadata": {},
   "source": [
    "**Тест среднего чека без возвратов**"
   ]
  },
  {
   "cell_type": "code",
   "execution_count": 95,
   "metadata": {},
   "outputs": [],
   "source": [
    "online_purchases = df_grouped.query('shop_id == \"shop 0\" & purchase_sum > 0 ')['purchase_sum']\n",
    "offline_purchases = df_grouped.query('shop_id != \"shop 0\" & purchase_sum > 0 ')['purchase_sum']"
   ]
  },
  {
   "cell_type": "code",
   "execution_count": 96,
   "metadata": {},
   "outputs": [
    {
     "name": "stdout",
     "output_type": "stream",
     "text": [
      "Онлайн-магазин : среднее - 590.15\n",
      "Оффлайн-магазины : среднее - 1346.08\n",
      "T-test p_value: 3.72128917866874e-18\n"
     ]
    }
   ],
   "source": [
    "comparative_test(online_purchases, 'Онлайн-магазин', offline_purchases, 'Оффлайн-магазины')"
   ]
  },
  {
   "cell_type": "markdown",
   "metadata": {},
   "source": [
    "Выводы однозначные. Проверим то же самое с возвратами. "
   ]
  },
  {
   "cell_type": "markdown",
   "metadata": {},
   "source": [
    "**Тест среднего чека с возвратами**"
   ]
  },
  {
   "cell_type": "code",
   "execution_count": 97,
   "metadata": {},
   "outputs": [],
   "source": [
    "online_purchases = df_grouped.query('shop_id == \"shop 0\" & purchase_sum != 0 ')['purchase_sum']\n",
    "offline_purchases = df_grouped.query('shop_id != \"shop 0\" & purchase_sum != 0 ')['purchase_sum']"
   ]
  },
  {
   "cell_type": "code",
   "execution_count": 98,
   "metadata": {},
   "outputs": [
    {
     "name": "stdout",
     "output_type": "stream",
     "text": [
      "Онлайн-магазин : среднее - 370.50\n",
      "Оффлайн-магазины : среднее - 1016.96\n",
      "T-test p_value: 2.1980945139314105e-11\n"
     ]
    }
   ],
   "source": [
    "comparative_test(online_purchases, 'Онлайн-магазин', offline_purchases, 'Оффлайн-магазины')"
   ]
  },
  {
   "cell_type": "markdown",
   "metadata": {},
   "source": [
    "Ситуация не изменилась. Средние чеки просто уменьшились на примерно одинаковую величину, а разница осталась. "
   ]
  },
  {
   "cell_type": "markdown",
   "metadata": {},
   "source": [
    "**Общий вывод**"
   ]
  },
  {
   "cell_type": "markdown",
   "metadata": {},
   "source": [
    "Оффлайн магазины генерируют куда больший средний чек, нежели онлайн-магазины. Однако, об оценке эффективности здесь все таки стоит говорить с осторожностью. Возможно, онлайн-магазин берет своё именно масштабами. В любом случае, о результатах этого теста тоже стоит рассказать коллегам. "
   ]
  },
  {
   "cell_type": "markdown",
   "metadata": {},
   "source": [
    "## Выводы"
   ]
  },
  {
   "cell_type": "markdown",
   "metadata": {},
   "source": [
    "**В нашем распоряжении** были данные о покупках в сети строительных магазинах за 3 месяца. \n",
    "\n",
    "**Перед нами стояла задача** исследовать эти данные, оценить эффективность магазинов и проверить гипотезы. \n",
    "\n",
    "**Общие показатели:**\n",
    "\n",
    "- Одну позицию товара в среднем пробивают в количестве 5 штук\n",
    "- Средний чек: 332 у.е\n",
    "- Среднее количество разных товаров в чеке: 10\n",
    "- Средняя цена товара: 2.77 у.е.\n",
    "\n",
    "**Оценка эффективности**\n",
    "\n",
    "Рассмотрев эффективность по разным параметрам можно заметить, что на первых позициях чаще оказываются определенные магазины. А именно: Shop 4, Shop 6 и лидер - Shop 3. На Shop 3 стоит обратить внимание и посмотреть на модель его работы. По совокупности показателей он уверенно занимает первое место (наибольшая среднемесячная выручка, наибольший средний чек, низкая доля возвратов). \n",
    "\n",
    "**Проверка гипотез**\n",
    "\n",
    "Мы проверили две гипотезы и вот результаты:\n",
    "- Сравнивая участников программы лояльности и обычных покупателей мы не увидели статистически значимых отличий между группами ни по среднему чеку ни по количеству покупок. А в одном тесте \"нелояльные\" клиенты оказались даже значимо лучше. В общем - с программой лояльности что-то не так. Это стоит обсудить. \n",
    "- Во втором тесте мы сравнивали работу онлайн-магазина против оффлайн продаж. Тест по среднему чеку показал однозначное значимое отличие. Оффлайн магазины показывают куда больший средний чек. Но, думаю, что здесь не стоит сразу экстраполировать эти выводы на эффективность.\n",
    "\n",
    "**Дополнительно стоит обсудить с коллегами, что:**\n",
    "- 1/3 всех наблюдений содержит НУЛЕВОЕ количество товара\n",
    "- Нужно привести в порядок датасэт с ценами на товары"
   ]
  }
 ],
 "metadata": {
  "ExecuteTimeLog": [
   {
    "duration": 727,
    "start_time": "2022-01-24T08:57:58.849Z"
   },
   {
    "duration": 818,
    "start_time": "2022-01-24T08:58:13.069Z"
   },
   {
    "duration": 6047,
    "start_time": "2022-01-24T09:01:58.963Z"
   },
   {
    "duration": 195,
    "start_time": "2022-01-24T09:03:45.284Z"
   },
   {
    "duration": 563,
    "start_time": "2022-01-24T09:07:24.608Z"
   },
   {
    "duration": 24,
    "start_time": "2022-01-24T09:07:30.942Z"
   },
   {
    "duration": 572,
    "start_time": "2022-01-24T09:10:01.260Z"
   },
   {
    "duration": 14,
    "start_time": "2022-01-24T09:10:06.740Z"
   },
   {
    "duration": 29,
    "start_time": "2022-01-24T09:10:14.984Z"
   },
   {
    "duration": 10,
    "start_time": "2022-01-24T09:10:28.454Z"
   },
   {
    "duration": 9,
    "start_time": "2022-01-24T09:10:34.016Z"
   },
   {
    "duration": 807,
    "start_time": "2022-01-24T13:39:36.487Z"
   },
   {
    "duration": 564,
    "start_time": "2022-01-24T13:39:38.538Z"
   },
   {
    "duration": 30,
    "start_time": "2022-01-24T13:39:40.526Z"
   },
   {
    "duration": 29,
    "start_time": "2022-01-24T13:39:41.900Z"
   },
   {
    "duration": 9,
    "start_time": "2022-01-24T13:39:49.103Z"
   },
   {
    "duration": 8,
    "start_time": "2022-01-24T13:39:49.762Z"
   },
   {
    "duration": 4,
    "start_time": "2022-01-24T13:42:03.178Z"
   },
   {
    "duration": 27,
    "start_time": "2022-01-24T13:43:07.368Z"
   },
   {
    "duration": 8,
    "start_time": "2022-01-24T13:43:33.147Z"
   },
   {
    "duration": 14,
    "start_time": "2022-01-24T13:43:37.508Z"
   },
   {
    "duration": 9,
    "start_time": "2022-01-24T13:43:46.841Z"
   },
   {
    "duration": 11,
    "start_time": "2022-01-24T13:43:52.733Z"
   },
   {
    "duration": 404,
    "start_time": "2022-01-24T13:44:03.873Z"
   },
   {
    "duration": 5,
    "start_time": "2022-01-24T13:44:14.963Z"
   },
   {
    "duration": 6,
    "start_time": "2022-01-24T13:44:34.211Z"
   },
   {
    "duration": 12,
    "start_time": "2022-01-24T13:44:39.970Z"
   },
   {
    "duration": 317,
    "start_time": "2022-01-24T13:44:48.586Z"
   },
   {
    "duration": 36,
    "start_time": "2022-01-24T13:44:51.340Z"
   },
   {
    "duration": 64,
    "start_time": "2022-01-24T13:44:56.241Z"
   },
   {
    "duration": 7,
    "start_time": "2022-01-24T13:45:34.942Z"
   },
   {
    "duration": 19,
    "start_time": "2022-01-24T13:45:39.491Z"
   },
   {
    "duration": 4,
    "start_time": "2022-01-24T13:46:21.539Z"
   },
   {
    "duration": 30,
    "start_time": "2022-01-24T13:46:47.609Z"
   },
   {
    "duration": 33,
    "start_time": "2022-01-24T13:46:58.024Z"
   },
   {
    "duration": 32,
    "start_time": "2022-01-24T13:47:04.187Z"
   },
   {
    "duration": 1115,
    "start_time": "2022-01-24T13:49:22.683Z"
   },
   {
    "duration": 37,
    "start_time": "2022-01-24T13:49:59.798Z"
   },
   {
    "duration": 19,
    "start_time": "2022-01-24T13:50:03.166Z"
   },
   {
    "duration": 14,
    "start_time": "2022-01-24T13:50:06.212Z"
   },
   {
    "duration": 12,
    "start_time": "2022-01-24T13:50:28.632Z"
   },
   {
    "duration": 8,
    "start_time": "2022-01-24T13:50:34.426Z"
   },
   {
    "duration": 68,
    "start_time": "2022-01-24T13:50:50.717Z"
   },
   {
    "duration": 65,
    "start_time": "2022-01-24T13:51:27.152Z"
   },
   {
    "duration": 68,
    "start_time": "2022-01-24T13:51:31.876Z"
   },
   {
    "duration": 84,
    "start_time": "2022-01-24T13:51:38.963Z"
   },
   {
    "duration": 3,
    "start_time": "2022-01-24T13:52:22.615Z"
   },
   {
    "duration": 59,
    "start_time": "2022-01-24T13:53:11.263Z"
   },
   {
    "duration": 22,
    "start_time": "2022-01-24T13:54:03.369Z"
   },
   {
    "duration": 22,
    "start_time": "2022-01-24T13:55:28.950Z"
   },
   {
    "duration": 13,
    "start_time": "2022-01-24T14:01:55.561Z"
   },
   {
    "duration": 14,
    "start_time": "2022-01-24T14:02:00.663Z"
   },
   {
    "duration": 22,
    "start_time": "2022-01-24T14:02:06.757Z"
   },
   {
    "duration": 13,
    "start_time": "2022-01-24T14:03:13.038Z"
   },
   {
    "duration": 4,
    "start_time": "2022-01-24T14:03:39.980Z"
   },
   {
    "duration": 8,
    "start_time": "2022-01-24T14:04:09.860Z"
   },
   {
    "duration": 9,
    "start_time": "2022-01-24T14:05:09.797Z"
   },
   {
    "duration": 8,
    "start_time": "2022-01-24T14:05:13.591Z"
   },
   {
    "duration": 13,
    "start_time": "2022-01-24T14:05:31.829Z"
   },
   {
    "duration": 10,
    "start_time": "2022-01-24T14:05:41.794Z"
   },
   {
    "duration": 13,
    "start_time": "2022-01-24T14:06:13.672Z"
   },
   {
    "duration": 8,
    "start_time": "2022-01-24T14:06:47.464Z"
   },
   {
    "duration": 9,
    "start_time": "2022-01-24T14:06:50.436Z"
   },
   {
    "duration": 12,
    "start_time": "2022-01-24T14:07:44.649Z"
   },
   {
    "duration": 15,
    "start_time": "2022-01-24T14:09:14.030Z"
   },
   {
    "duration": 3627,
    "start_time": "2022-01-24T14:15:23.341Z"
   },
   {
    "duration": 439,
    "start_time": "2022-01-24T14:15:30.833Z"
   },
   {
    "duration": 355,
    "start_time": "2022-01-24T14:15:33.846Z"
   },
   {
    "duration": 10,
    "start_time": "2022-01-24T14:15:59.808Z"
   },
   {
    "duration": 322,
    "start_time": "2022-01-24T14:16:29.887Z"
   },
   {
    "duration": 9,
    "start_time": "2022-01-24T14:16:50.397Z"
   },
   {
    "duration": 16,
    "start_time": "2022-01-24T14:17:08.683Z"
   },
   {
    "duration": 16,
    "start_time": "2022-01-24T14:17:59.158Z"
   },
   {
    "duration": 17,
    "start_time": "2022-01-24T14:18:20.516Z"
   },
   {
    "duration": 8,
    "start_time": "2022-01-24T14:18:27.359Z"
   },
   {
    "duration": 16,
    "start_time": "2022-01-24T14:18:29.618Z"
   },
   {
    "duration": 9,
    "start_time": "2022-01-24T14:18:36.143Z"
   },
   {
    "duration": 8,
    "start_time": "2022-01-24T14:18:45.283Z"
   },
   {
    "duration": 81,
    "start_time": "2022-01-24T14:20:29.341Z"
   },
   {
    "duration": 84,
    "start_time": "2022-01-24T14:20:38.486Z"
   },
   {
    "duration": 61,
    "start_time": "2022-01-24T14:22:34.240Z"
   },
   {
    "duration": 85,
    "start_time": "2022-01-24T14:22:39.038Z"
   },
   {
    "duration": 71,
    "start_time": "2022-01-24T14:22:49.973Z"
   },
   {
    "duration": 88,
    "start_time": "2022-01-24T14:23:03.102Z"
   },
   {
    "duration": 103,
    "start_time": "2022-01-24T14:23:16.519Z"
   },
   {
    "duration": 70,
    "start_time": "2022-01-24T14:23:23.172Z"
   },
   {
    "duration": 49,
    "start_time": "2022-01-24T14:24:11.291Z"
   },
   {
    "duration": 26,
    "start_time": "2022-01-24T14:24:29.553Z"
   },
   {
    "duration": 45,
    "start_time": "2022-01-24T14:25:42.353Z"
   },
   {
    "duration": 55,
    "start_time": "2022-01-24T14:27:08.242Z"
   },
   {
    "duration": 30,
    "start_time": "2022-01-24T14:27:31.924Z"
   },
   {
    "duration": 13,
    "start_time": "2022-01-24T14:27:39.300Z"
   },
   {
    "duration": 7,
    "start_time": "2022-01-24T14:28:12.066Z"
   },
   {
    "duration": 27,
    "start_time": "2022-01-24T14:28:21.530Z"
   },
   {
    "duration": 469,
    "start_time": "2022-01-24T14:28:27.794Z"
   },
   {
    "duration": 23,
    "start_time": "2022-01-24T14:28:31.670Z"
   },
   {
    "duration": 14,
    "start_time": "2022-01-24T14:29:04.486Z"
   },
   {
    "duration": 299,
    "start_time": "2022-01-24T14:29:24.936Z"
   },
   {
    "duration": 312,
    "start_time": "2022-01-24T14:29:26.734Z"
   },
   {
    "duration": 6,
    "start_time": "2022-01-24T14:29:31.546Z"
   },
   {
    "duration": 7,
    "start_time": "2022-01-24T14:29:38.215Z"
   },
   {
    "duration": 327,
    "start_time": "2022-01-24T14:29:42.529Z"
   },
   {
    "duration": 8,
    "start_time": "2022-01-24T14:30:16.130Z"
   },
   {
    "duration": 6,
    "start_time": "2022-01-24T14:30:18.969Z"
   },
   {
    "duration": 22,
    "start_time": "2022-01-24T14:30:23.624Z"
   },
   {
    "duration": 18,
    "start_time": "2022-01-24T14:31:34.891Z"
   },
   {
    "duration": 104,
    "start_time": "2022-01-24T14:34:22.133Z"
   },
   {
    "duration": 120,
    "start_time": "2022-01-24T14:34:29.249Z"
   },
   {
    "duration": 138,
    "start_time": "2022-01-24T14:34:33.987Z"
   },
   {
    "duration": 50,
    "start_time": "2022-01-24T14:34:37.228Z"
   },
   {
    "duration": 44,
    "start_time": "2022-01-24T14:35:00.940Z"
   },
   {
    "duration": 53,
    "start_time": "2022-01-24T14:35:37.124Z"
   },
   {
    "duration": 663,
    "start_time": "2022-01-24T14:36:45.393Z"
   },
   {
    "duration": 389,
    "start_time": "2022-01-24T14:37:11.377Z"
   },
   {
    "duration": 284,
    "start_time": "2022-01-24T14:37:46.371Z"
   },
   {
    "duration": 413,
    "start_time": "2022-01-24T14:37:52.186Z"
   },
   {
    "duration": 515,
    "start_time": "2022-01-24T14:38:04.328Z"
   },
   {
    "duration": 274,
    "start_time": "2022-01-24T14:38:20.224Z"
   },
   {
    "duration": 288,
    "start_time": "2022-01-24T14:38:39.720Z"
   },
   {
    "duration": 18,
    "start_time": "2022-01-24T14:39:15.762Z"
   },
   {
    "duration": 20,
    "start_time": "2022-01-24T14:39:30.784Z"
   },
   {
    "duration": 53,
    "start_time": "2022-01-24T14:42:23.353Z"
   },
   {
    "duration": 48,
    "start_time": "2022-01-24T14:43:06.127Z"
   },
   {
    "duration": 23,
    "start_time": "2022-01-24T14:43:15.350Z"
   },
   {
    "duration": 335,
    "start_time": "2022-01-24T14:43:21.800Z"
   },
   {
    "duration": 295,
    "start_time": "2022-01-24T14:43:37.797Z"
   },
   {
    "duration": 411,
    "start_time": "2022-01-24T14:43:42.766Z"
   },
   {
    "duration": 514,
    "start_time": "2022-01-24T14:43:50.012Z"
   },
   {
    "duration": 531,
    "start_time": "2022-01-24T14:44:20.273Z"
   },
   {
    "duration": 272,
    "start_time": "2022-01-24T14:46:31.839Z"
   },
   {
    "duration": 246,
    "start_time": "2022-01-24T14:46:34.337Z"
   },
   {
    "duration": 542,
    "start_time": "2022-01-24T14:46:37.358Z"
   },
   {
    "duration": 403,
    "start_time": "2022-01-24T14:47:33.264Z"
   },
   {
    "duration": 334,
    "start_time": "2022-01-24T14:47:44.795Z"
   },
   {
    "duration": 402,
    "start_time": "2022-01-24T14:47:51.703Z"
   },
   {
    "duration": 54,
    "start_time": "2022-01-24T14:48:33.813Z"
   },
   {
    "duration": 355,
    "start_time": "2022-01-24T14:48:48.750Z"
   },
   {
    "duration": 24,
    "start_time": "2022-01-24T14:48:50.442Z"
   },
   {
    "duration": 40,
    "start_time": "2022-01-24T14:48:56.123Z"
   },
   {
    "duration": 30,
    "start_time": "2022-01-24T14:49:13.122Z"
   },
   {
    "duration": 15,
    "start_time": "2022-01-24T14:49:28.883Z"
   },
   {
    "duration": 22,
    "start_time": "2022-01-24T14:49:50.007Z"
   },
   {
    "duration": 35,
    "start_time": "2022-01-24T14:52:09.188Z"
   },
   {
    "duration": 46,
    "start_time": "2022-01-24T14:52:31.223Z"
   },
   {
    "duration": 28,
    "start_time": "2022-01-24T14:53:03.656Z"
   },
   {
    "duration": 37,
    "start_time": "2022-01-24T14:53:38.423Z"
   },
   {
    "duration": 16,
    "start_time": "2022-01-24T14:54:06.601Z"
   },
   {
    "duration": 29,
    "start_time": "2022-01-24T14:54:17.635Z"
   },
   {
    "duration": 314,
    "start_time": "2022-01-24T14:56:16.479Z"
   },
   {
    "duration": 108,
    "start_time": "2022-01-24T14:56:23.492Z"
   },
   {
    "duration": 103,
    "start_time": "2022-01-24T14:56:27.352Z"
   },
   {
    "duration": 327,
    "start_time": "2022-01-24T14:56:29.244Z"
   },
   {
    "duration": 36,
    "start_time": "2022-01-24T14:57:41.371Z"
   },
   {
    "duration": 25,
    "start_time": "2022-01-24T14:57:56.279Z"
   },
   {
    "duration": 221,
    "start_time": "2022-01-24T15:03:14.045Z"
   },
   {
    "duration": 774,
    "start_time": "2022-01-24T15:03:31.311Z"
   },
   {
    "duration": 226,
    "start_time": "2022-01-24T15:03:34.509Z"
   },
   {
    "duration": 751,
    "start_time": "2022-01-24T15:04:16.665Z"
   },
   {
    "duration": 109,
    "start_time": "2022-01-24T15:04:38.373Z"
   },
   {
    "duration": 26,
    "start_time": "2022-01-24T15:04:41.592Z"
   },
   {
    "duration": 351,
    "start_time": "2022-01-24T15:05:12.929Z"
   },
   {
    "duration": 401,
    "start_time": "2022-01-24T15:05:20.652Z"
   },
   {
    "duration": 366,
    "start_time": "2022-01-24T15:05:43.595Z"
   },
   {
    "duration": 48,
    "start_time": "2022-01-24T15:06:25.164Z"
   },
   {
    "duration": 8090,
    "start_time": "2022-01-24T15:06:38.743Z"
   },
   {
    "duration": 47,
    "start_time": "2022-01-24T15:06:53.366Z"
   },
   {
    "duration": 149,
    "start_time": "2022-01-24T15:07:33.036Z"
   },
   {
    "duration": 70,
    "start_time": "2022-01-24T15:07:53.189Z"
   },
   {
    "duration": 76,
    "start_time": "2022-01-24T15:07:58.506Z"
   },
   {
    "duration": 60,
    "start_time": "2022-01-24T15:08:02.050Z"
   },
   {
    "duration": 107,
    "start_time": "2022-01-24T15:09:12.145Z"
   },
   {
    "duration": 61,
    "start_time": "2022-01-24T15:09:27.756Z"
   },
   {
    "duration": 49,
    "start_time": "2022-01-24T15:10:00.893Z"
   },
   {
    "duration": 32,
    "start_time": "2022-01-24T15:10:05.316Z"
   },
   {
    "duration": 5,
    "start_time": "2022-01-24T15:10:26.498Z"
   },
   {
    "duration": 5,
    "start_time": "2022-01-24T15:10:36.672Z"
   },
   {
    "duration": 24,
    "start_time": "2022-01-24T15:10:40.301Z"
   },
   {
    "duration": 28,
    "start_time": "2022-01-24T15:12:37.187Z"
   },
   {
    "duration": 30,
    "start_time": "2022-01-24T15:12:54.368Z"
   },
   {
    "duration": 26,
    "start_time": "2022-01-24T15:13:37.576Z"
   },
   {
    "duration": 20,
    "start_time": "2022-01-24T15:14:04.441Z"
   },
   {
    "duration": 293,
    "start_time": "2022-01-24T15:14:18.873Z"
   },
   {
    "duration": 297,
    "start_time": "2022-01-24T15:14:32.979Z"
   },
   {
    "duration": 319,
    "start_time": "2022-01-24T15:16:12.569Z"
   },
   {
    "duration": 24,
    "start_time": "2022-01-24T15:16:22.998Z"
   },
   {
    "duration": 13,
    "start_time": "2022-01-24T15:17:26.722Z"
   },
   {
    "duration": 314,
    "start_time": "2022-01-24T15:17:53.732Z"
   },
   {
    "duration": 603,
    "start_time": "2022-01-24T15:17:58.199Z"
   },
   {
    "duration": 963,
    "start_time": "2022-01-24T15:20:12.565Z"
   },
   {
    "duration": 4,
    "start_time": "2022-01-24T15:20:29.773Z"
   },
   {
    "duration": 549,
    "start_time": "2022-01-24T15:20:33.880Z"
   },
   {
    "duration": 532,
    "start_time": "2022-01-24T15:20:41.173Z"
   },
   {
    "duration": 782,
    "start_time": "2022-01-24T15:20:47.187Z"
   },
   {
    "duration": 13,
    "start_time": "2022-01-24T15:22:26.735Z"
   },
   {
    "duration": 335,
    "start_time": "2022-01-24T15:23:35.174Z"
   },
   {
    "duration": 720,
    "start_time": "2022-01-24T15:23:52.159Z"
   },
   {
    "duration": 859,
    "start_time": "2022-01-24T15:24:01.851Z"
   },
   {
    "duration": 774,
    "start_time": "2022-01-24T15:24:20.252Z"
   },
   {
    "duration": 804,
    "start_time": "2022-01-24T15:24:33.037Z"
   },
   {
    "duration": 1046,
    "start_time": "2022-01-24T15:24:42.526Z"
   },
   {
    "duration": 748,
    "start_time": "2022-01-24T15:25:45.840Z"
   },
   {
    "duration": 665,
    "start_time": "2022-01-24T15:26:07.169Z"
   },
   {
    "duration": 11,
    "start_time": "2022-01-24T15:26:33.788Z"
   },
   {
    "duration": 670,
    "start_time": "2022-01-24T15:26:34.918Z"
   },
   {
    "duration": 790,
    "start_time": "2022-01-24T15:29:17.075Z"
   },
   {
    "duration": 1100,
    "start_time": "2022-01-25T08:01:39.068Z"
   },
   {
    "duration": 698,
    "start_time": "2022-01-25T08:01:40.170Z"
   },
   {
    "duration": 12,
    "start_time": "2022-01-25T08:01:40.873Z"
   },
   {
    "duration": 19,
    "start_time": "2022-01-25T08:01:40.886Z"
   },
   {
    "duration": 6,
    "start_time": "2022-01-25T08:01:40.907Z"
   },
   {
    "duration": 6,
    "start_time": "2022-01-25T08:01:40.914Z"
   },
   {
    "duration": 8,
    "start_time": "2022-01-25T08:01:40.923Z"
   },
   {
    "duration": 54,
    "start_time": "2022-01-25T08:01:40.933Z"
   },
   {
    "duration": 5,
    "start_time": "2022-01-25T08:01:40.989Z"
   },
   {
    "duration": 4,
    "start_time": "2022-01-25T08:01:40.996Z"
   },
   {
    "duration": 32,
    "start_time": "2022-01-25T08:01:41.002Z"
   },
   {
    "duration": 40,
    "start_time": "2022-01-25T08:01:41.036Z"
   },
   {
    "duration": 6,
    "start_time": "2022-01-25T08:01:41.078Z"
   },
   {
    "duration": 44,
    "start_time": "2022-01-25T08:01:41.086Z"
   },
   {
    "duration": 10,
    "start_time": "2022-01-25T08:01:41.132Z"
   },
   {
    "duration": 39,
    "start_time": "2022-01-25T08:01:41.143Z"
   },
   {
    "duration": 3,
    "start_time": "2022-01-25T08:01:41.184Z"
   },
   {
    "duration": 7,
    "start_time": "2022-01-25T08:01:41.189Z"
   },
   {
    "duration": 6,
    "start_time": "2022-01-25T08:01:41.197Z"
   },
   {
    "duration": 9,
    "start_time": "2022-01-25T08:01:41.205Z"
   },
   {
    "duration": 9,
    "start_time": "2022-01-25T08:01:41.215Z"
   },
   {
    "duration": 53,
    "start_time": "2022-01-25T08:01:41.228Z"
   },
   {
    "duration": 7,
    "start_time": "2022-01-25T08:01:41.283Z"
   },
   {
    "duration": 7,
    "start_time": "2022-01-25T08:01:41.292Z"
   },
   {
    "duration": 6,
    "start_time": "2022-01-25T08:01:41.301Z"
   },
   {
    "duration": 63,
    "start_time": "2022-01-25T08:01:41.309Z"
   },
   {
    "duration": 51,
    "start_time": "2022-01-25T08:01:41.374Z"
   },
   {
    "duration": 24,
    "start_time": "2022-01-25T08:01:41.426Z"
   },
   {
    "duration": 26,
    "start_time": "2022-01-25T08:01:41.451Z"
   },
   {
    "duration": 169,
    "start_time": "2022-01-25T08:01:41.478Z"
   },
   {
    "duration": 23,
    "start_time": "2022-01-25T08:01:41.648Z"
   },
   {
    "duration": 12,
    "start_time": "2022-01-25T08:01:41.673Z"
   },
   {
    "duration": 168,
    "start_time": "2022-01-25T08:01:41.686Z"
   },
   {
    "duration": 353,
    "start_time": "2022-01-25T08:01:41.856Z"
   },
   {
    "duration": 11,
    "start_time": "2022-01-25T08:01:42.210Z"
   },
   {
    "duration": 257,
    "start_time": "2022-01-25T08:01:42.222Z"
   },
   {
    "duration": 16,
    "start_time": "2022-01-25T08:01:42.481Z"
   },
   {
    "duration": 18,
    "start_time": "2022-01-25T08:01:42.498Z"
   },
   {
    "duration": 213,
    "start_time": "2022-01-25T08:01:42.518Z"
   },
   {
    "duration": 30,
    "start_time": "2022-01-25T08:01:42.732Z"
   },
   {
    "duration": 9,
    "start_time": "2022-01-25T08:01:42.764Z"
   },
   {
    "duration": 5,
    "start_time": "2022-01-25T08:01:42.775Z"
   },
   {
    "duration": 7,
    "start_time": "2022-01-25T08:01:42.782Z"
   },
   {
    "duration": 518,
    "start_time": "2022-01-25T08:01:42.790Z"
   },
   {
    "duration": 523,
    "start_time": "2022-01-25T08:01:43.310Z"
   },
   {
    "duration": 14,
    "start_time": "2022-01-25T08:02:33.482Z"
   },
   {
    "duration": 8,
    "start_time": "2022-01-25T08:06:30.795Z"
   },
   {
    "duration": 363,
    "start_time": "2022-01-25T08:07:59.477Z"
   },
   {
    "duration": 16,
    "start_time": "2022-01-25T08:08:03.550Z"
   },
   {
    "duration": 12,
    "start_time": "2022-01-25T08:08:22.173Z"
   },
   {
    "duration": 989,
    "start_time": "2022-01-25T08:09:14.683Z"
   },
   {
    "duration": 191,
    "start_time": "2022-01-25T08:09:36.323Z"
   },
   {
    "duration": 377,
    "start_time": "2022-01-25T08:09:44.757Z"
   },
   {
    "duration": 9086,
    "start_time": "2022-01-25T08:10:19.434Z"
   },
   {
    "duration": 1495,
    "start_time": "2022-01-25T08:10:35.470Z"
   },
   {
    "duration": 3198,
    "start_time": "2022-01-25T08:10:36.967Z"
   },
   {
    "duration": 614,
    "start_time": "2022-01-25T08:10:40.167Z"
   },
   {
    "duration": 13,
    "start_time": "2022-01-25T08:10:40.783Z"
   },
   {
    "duration": 21,
    "start_time": "2022-01-25T08:10:40.797Z"
   },
   {
    "duration": 7,
    "start_time": "2022-01-25T08:10:40.819Z"
   },
   {
    "duration": 7,
    "start_time": "2022-01-25T08:10:40.827Z"
   },
   {
    "duration": 3,
    "start_time": "2022-01-25T08:10:40.836Z"
   },
   {
    "duration": 20,
    "start_time": "2022-01-25T08:10:40.841Z"
   },
   {
    "duration": 10,
    "start_time": "2022-01-25T08:10:40.862Z"
   },
   {
    "duration": 3,
    "start_time": "2022-01-25T08:10:40.874Z"
   },
   {
    "duration": 34,
    "start_time": "2022-01-25T08:10:40.879Z"
   },
   {
    "duration": 14,
    "start_time": "2022-01-25T08:10:40.915Z"
   },
   {
    "duration": 5,
    "start_time": "2022-01-25T08:10:40.931Z"
   },
   {
    "duration": 48,
    "start_time": "2022-01-25T08:10:40.937Z"
   },
   {
    "duration": 10,
    "start_time": "2022-01-25T08:10:40.986Z"
   },
   {
    "duration": 19,
    "start_time": "2022-01-25T08:10:40.997Z"
   },
   {
    "duration": 2,
    "start_time": "2022-01-25T08:10:41.018Z"
   },
   {
    "duration": 11,
    "start_time": "2022-01-25T08:10:41.022Z"
   },
   {
    "duration": 12,
    "start_time": "2022-01-25T08:10:41.034Z"
   },
   {
    "duration": 12,
    "start_time": "2022-01-25T08:10:41.047Z"
   },
   {
    "duration": 11,
    "start_time": "2022-01-25T08:10:41.060Z"
   },
   {
    "duration": 12,
    "start_time": "2022-01-25T08:10:41.074Z"
   },
   {
    "duration": 8,
    "start_time": "2022-01-25T08:10:41.088Z"
   },
   {
    "duration": 13,
    "start_time": "2022-01-25T08:10:41.098Z"
   },
   {
    "duration": 12,
    "start_time": "2022-01-25T08:10:41.112Z"
   },
   {
    "duration": 32,
    "start_time": "2022-01-25T08:10:41.126Z"
   },
   {
    "duration": 34,
    "start_time": "2022-01-25T08:10:41.159Z"
   },
   {
    "duration": 24,
    "start_time": "2022-01-25T08:10:41.194Z"
   },
   {
    "duration": 9,
    "start_time": "2022-01-25T08:10:41.220Z"
   },
   {
    "duration": 167,
    "start_time": "2022-01-25T08:10:41.230Z"
   },
   {
    "duration": 13,
    "start_time": "2022-01-25T08:10:41.398Z"
   },
   {
    "duration": 12,
    "start_time": "2022-01-25T08:10:41.413Z"
   },
   {
    "duration": 156,
    "start_time": "2022-01-25T08:10:41.426Z"
   },
   {
    "duration": 294,
    "start_time": "2022-01-25T08:10:41.584Z"
   },
   {
    "duration": 11,
    "start_time": "2022-01-25T08:10:41.879Z"
   },
   {
    "duration": 231,
    "start_time": "2022-01-25T08:10:41.891Z"
   },
   {
    "duration": 16,
    "start_time": "2022-01-25T08:10:42.123Z"
   },
   {
    "duration": 13,
    "start_time": "2022-01-25T08:10:42.140Z"
   },
   {
    "duration": 175,
    "start_time": "2022-01-25T08:10:42.154Z"
   },
   {
    "duration": 30,
    "start_time": "2022-01-25T08:10:42.330Z"
   },
   {
    "duration": 3,
    "start_time": "2022-01-25T08:10:42.362Z"
   },
   {
    "duration": 7,
    "start_time": "2022-01-25T08:10:42.366Z"
   },
   {
    "duration": 8,
    "start_time": "2022-01-25T08:10:42.374Z"
   },
   {
    "duration": 459,
    "start_time": "2022-01-25T08:10:42.384Z"
   },
   {
    "duration": 396,
    "start_time": "2022-01-25T08:10:42.845Z"
   },
   {
    "duration": 5,
    "start_time": "2022-01-25T08:10:43.242Z"
   },
   {
    "duration": 12,
    "start_time": "2022-01-25T08:10:43.249Z"
   },
   {
    "duration": 219,
    "start_time": "2022-01-25T08:10:43.262Z"
   },
   {
    "duration": 297,
    "start_time": "2022-01-25T08:13:25.370Z"
   },
   {
    "duration": 268,
    "start_time": "2022-01-25T08:13:32.695Z"
   },
   {
    "duration": 1064,
    "start_time": "2022-01-25T08:15:31.302Z"
   },
   {
    "duration": 550,
    "start_time": "2022-01-25T08:19:48.004Z"
   },
   {
    "duration": 259,
    "start_time": "2022-01-25T08:19:51.188Z"
   },
   {
    "duration": 327,
    "start_time": "2022-01-25T08:20:12.076Z"
   },
   {
    "duration": 16,
    "start_time": "2022-01-25T08:21:06.916Z"
   },
   {
    "duration": 7,
    "start_time": "2022-01-25T08:22:30.381Z"
   },
   {
    "duration": 15,
    "start_time": "2022-01-25T08:24:25.424Z"
   },
   {
    "duration": 14,
    "start_time": "2022-01-25T08:25:03.156Z"
   },
   {
    "duration": 13,
    "start_time": "2022-01-25T08:25:11.244Z"
   },
   {
    "duration": 4458,
    "start_time": "2022-01-25T08:26:49.982Z"
   },
   {
    "duration": 869,
    "start_time": "2022-01-25T08:28:48.483Z"
   },
   {
    "duration": 249,
    "start_time": "2022-01-25T08:29:06.599Z"
   },
   {
    "duration": 121,
    "start_time": "2022-01-25T08:29:11.229Z"
   },
   {
    "duration": 7,
    "start_time": "2022-01-25T08:32:21.205Z"
   },
   {
    "duration": 16,
    "start_time": "2022-01-25T08:32:44.522Z"
   },
   {
    "duration": 8,
    "start_time": "2022-01-25T08:33:57.752Z"
   },
   {
    "duration": 779,
    "start_time": "2022-01-25T08:34:22.341Z"
   },
   {
    "duration": 5,
    "start_time": "2022-01-25T08:34:36.746Z"
   },
   {
    "duration": 8,
    "start_time": "2022-01-25T08:34:41.429Z"
   },
   {
    "duration": 5,
    "start_time": "2022-01-25T08:37:02.496Z"
   },
   {
    "duration": 242,
    "start_time": "2022-01-25T08:37:07.018Z"
   },
   {
    "duration": 4,
    "start_time": "2022-01-25T08:37:10.047Z"
   },
   {
    "duration": 4,
    "start_time": "2022-01-25T08:40:30.676Z"
   },
   {
    "duration": 5,
    "start_time": "2022-01-25T08:40:43.961Z"
   },
   {
    "duration": 5,
    "start_time": "2022-01-25T08:40:47.404Z"
   },
   {
    "duration": 6,
    "start_time": "2022-01-25T08:40:53.307Z"
   },
   {
    "duration": 4,
    "start_time": "2022-01-25T08:41:00.087Z"
   },
   {
    "duration": 16,
    "start_time": "2022-01-25T08:41:11.913Z"
   },
   {
    "duration": 20,
    "start_time": "2022-01-25T08:43:44.765Z"
   },
   {
    "duration": 14,
    "start_time": "2022-01-25T08:44:01.150Z"
   },
   {
    "duration": 50525,
    "start_time": "2022-01-25T08:44:32.876Z"
   },
   {
    "duration": 10,
    "start_time": "2022-01-25T08:45:23.403Z"
   },
   {
    "duration": 10,
    "start_time": "2022-01-25T08:45:32.469Z"
   },
   {
    "duration": 8,
    "start_time": "2022-01-25T08:45:36.569Z"
   },
   {
    "duration": 6,
    "start_time": "2022-01-25T08:45:51.514Z"
   },
   {
    "duration": 6,
    "start_time": "2022-01-25T08:45:58.229Z"
   },
   {
    "duration": 5,
    "start_time": "2022-01-25T08:46:55.746Z"
   },
   {
    "duration": 6,
    "start_time": "2022-01-25T08:46:59.907Z"
   },
   {
    "duration": 1059,
    "start_time": "2022-01-25T08:49:39.301Z"
   },
   {
    "duration": 2192,
    "start_time": "2022-01-25T08:49:41.404Z"
   },
   {
    "duration": 1106,
    "start_time": "2022-01-25T08:49:58.063Z"
   },
   {
    "duration": 628,
    "start_time": "2022-01-25T08:49:59.316Z"
   },
   {
    "duration": 12,
    "start_time": "2022-01-25T08:50:00.094Z"
   },
   {
    "duration": 21,
    "start_time": "2022-01-25T08:50:01.907Z"
   },
   {
    "duration": 6,
    "start_time": "2022-01-25T08:50:03.727Z"
   },
   {
    "duration": 6,
    "start_time": "2022-01-25T08:50:04.040Z"
   },
   {
    "duration": 3,
    "start_time": "2022-01-25T08:50:06.285Z"
   },
   {
    "duration": 20,
    "start_time": "2022-01-25T08:50:06.632Z"
   },
   {
    "duration": 6,
    "start_time": "2022-01-25T08:50:07.325Z"
   },
   {
    "duration": 4,
    "start_time": "2022-01-25T08:50:07.706Z"
   },
   {
    "duration": 30,
    "start_time": "2022-01-25T08:50:08.211Z"
   },
   {
    "duration": 17,
    "start_time": "2022-01-25T08:50:08.625Z"
   },
   {
    "duration": 6,
    "start_time": "2022-01-25T08:50:10.252Z"
   },
   {
    "duration": 45,
    "start_time": "2022-01-25T08:50:10.971Z"
   },
   {
    "duration": 9,
    "start_time": "2022-01-25T08:50:12.908Z"
   },
   {
    "duration": 16,
    "start_time": "2022-01-25T08:50:13.381Z"
   },
   {
    "duration": 3,
    "start_time": "2022-01-25T08:50:17.158Z"
   },
   {
    "duration": 5,
    "start_time": "2022-01-25T08:50:18.048Z"
   },
   {
    "duration": 5,
    "start_time": "2022-01-25T08:50:19.125Z"
   },
   {
    "duration": 9,
    "start_time": "2022-01-25T08:50:22.541Z"
   },
   {
    "duration": 9,
    "start_time": "2022-01-25T08:50:22.962Z"
   },
   {
    "duration": 9,
    "start_time": "2022-01-25T08:50:23.320Z"
   },
   {
    "duration": 13,
    "start_time": "2022-01-25T08:56:01.009Z"
   },
   {
    "duration": 11,
    "start_time": "2022-01-25T08:56:18.877Z"
   },
   {
    "duration": 14,
    "start_time": "2022-01-25T08:56:29.165Z"
   },
   {
    "duration": 9,
    "start_time": "2022-01-25T08:56:47.215Z"
   },
   {
    "duration": 7,
    "start_time": "2022-01-25T08:56:49.367Z"
   },
   {
    "duration": 8,
    "start_time": "2022-01-25T08:56:50.576Z"
   },
   {
    "duration": 28,
    "start_time": "2022-01-25T08:57:02.987Z"
   },
   {
    "duration": 34,
    "start_time": "2022-01-25T08:57:03.606Z"
   },
   {
    "duration": 27,
    "start_time": "2022-01-25T08:57:04.045Z"
   },
   {
    "duration": 9,
    "start_time": "2022-01-25T08:57:04.914Z"
   },
   {
    "duration": 160,
    "start_time": "2022-01-25T08:57:09.749Z"
   },
   {
    "duration": 162,
    "start_time": "2022-01-25T08:57:12.996Z"
   },
   {
    "duration": 15,
    "start_time": "2022-01-25T08:57:15.540Z"
   },
   {
    "duration": 14,
    "start_time": "2022-01-25T08:57:56.377Z"
   },
   {
    "duration": 153,
    "start_time": "2022-01-25T08:57:56.911Z"
   },
   {
    "duration": 298,
    "start_time": "2022-01-25T08:57:59.324Z"
   },
   {
    "duration": 11,
    "start_time": "2022-01-25T08:58:03.909Z"
   },
   {
    "duration": 231,
    "start_time": "2022-01-25T08:58:04.562Z"
   },
   {
    "duration": 17,
    "start_time": "2022-01-25T08:58:08.627Z"
   },
   {
    "duration": 15,
    "start_time": "2022-01-25T08:58:33.066Z"
   },
   {
    "duration": 15,
    "start_time": "2022-01-25T08:58:38.217Z"
   },
   {
    "duration": 168,
    "start_time": "2022-01-25T08:58:39.457Z"
   },
   {
    "duration": 31,
    "start_time": "2022-01-25T08:58:45.471Z"
   },
   {
    "duration": 4,
    "start_time": "2022-01-25T08:58:45.887Z"
   },
   {
    "duration": 4,
    "start_time": "2022-01-25T08:58:46.278Z"
   },
   {
    "duration": 8,
    "start_time": "2022-01-25T08:58:46.655Z"
   },
   {
    "duration": 453,
    "start_time": "2022-01-25T08:58:48.173Z"
   },
   {
    "duration": 390,
    "start_time": "2022-01-25T08:58:50.641Z"
   },
   {
    "duration": 5,
    "start_time": "2022-01-25T08:58:54.033Z"
   },
   {
    "duration": 9,
    "start_time": "2022-01-25T08:58:54.275Z"
   },
   {
    "duration": 265,
    "start_time": "2022-01-25T08:58:54.561Z"
   },
   {
    "duration": 856,
    "start_time": "2022-01-25T08:59:01.628Z"
   },
   {
    "duration": 7,
    "start_time": "2022-01-25T08:59:05.790Z"
   },
   {
    "duration": 642,
    "start_time": "2022-01-25T08:59:12.525Z"
   },
   {
    "duration": 4,
    "start_time": "2022-01-25T08:59:13.319Z"
   },
   {
    "duration": 12,
    "start_time": "2022-01-25T08:59:17.616Z"
   },
   {
    "duration": 7,
    "start_time": "2022-01-25T08:59:18.216Z"
   },
   {
    "duration": 89,
    "start_time": "2022-01-25T09:02:05.956Z"
   },
   {
    "duration": 7,
    "start_time": "2022-01-25T09:02:10.446Z"
   },
   {
    "duration": 33634,
    "start_time": "2022-01-25T09:03:10.609Z"
   },
   {
    "duration": 2,
    "start_time": "2022-01-25T09:05:33.802Z"
   },
   {
    "duration": 7,
    "start_time": "2022-01-25T09:06:03.514Z"
   },
   {
    "duration": 250,
    "start_time": "2022-01-25T09:08:08.607Z"
   },
   {
    "duration": 7,
    "start_time": "2022-01-25T09:09:17.838Z"
   },
   {
    "duration": 1208,
    "start_time": "2022-01-25T10:36:24.983Z"
   },
   {
    "duration": 3,
    "start_time": "2022-01-25T10:36:26.192Z"
   },
   {
    "duration": 650,
    "start_time": "2022-01-25T10:36:26.197Z"
   },
   {
    "duration": 13,
    "start_time": "2022-01-25T10:36:26.849Z"
   },
   {
    "duration": 26,
    "start_time": "2022-01-25T10:36:26.864Z"
   },
   {
    "duration": 7,
    "start_time": "2022-01-25T10:36:26.891Z"
   },
   {
    "duration": 23,
    "start_time": "2022-01-25T10:36:26.899Z"
   },
   {
    "duration": 9,
    "start_time": "2022-01-25T10:36:26.924Z"
   },
   {
    "duration": 26,
    "start_time": "2022-01-25T10:36:26.934Z"
   },
   {
    "duration": 5,
    "start_time": "2022-01-25T10:36:26.961Z"
   },
   {
    "duration": 11,
    "start_time": "2022-01-25T10:36:26.967Z"
   },
   {
    "duration": 30,
    "start_time": "2022-01-25T10:36:26.980Z"
   },
   {
    "duration": 14,
    "start_time": "2022-01-25T10:36:27.012Z"
   },
   {
    "duration": 5,
    "start_time": "2022-01-25T10:36:27.028Z"
   },
   {
    "duration": 63,
    "start_time": "2022-01-25T10:36:27.034Z"
   },
   {
    "duration": 9,
    "start_time": "2022-01-25T10:36:27.099Z"
   },
   {
    "duration": 17,
    "start_time": "2022-01-25T10:36:27.110Z"
   },
   {
    "duration": 2,
    "start_time": "2022-01-25T10:36:27.128Z"
   },
   {
    "duration": 7,
    "start_time": "2022-01-25T10:36:27.132Z"
   },
   {
    "duration": 4,
    "start_time": "2022-01-25T10:36:27.141Z"
   },
   {
    "duration": 10,
    "start_time": "2022-01-25T10:36:27.171Z"
   },
   {
    "duration": 9,
    "start_time": "2022-01-25T10:36:27.182Z"
   },
   {
    "duration": 9,
    "start_time": "2022-01-25T10:36:27.194Z"
   },
   {
    "duration": 7,
    "start_time": "2022-01-25T10:36:27.205Z"
   },
   {
    "duration": 5,
    "start_time": "2022-01-25T10:36:27.214Z"
   },
   {
    "duration": 14,
    "start_time": "2022-01-25T10:36:27.221Z"
   },
   {
    "duration": 54,
    "start_time": "2022-01-25T10:36:27.237Z"
   },
   {
    "duration": 33,
    "start_time": "2022-01-25T10:36:27.293Z"
   },
   {
    "duration": 25,
    "start_time": "2022-01-25T10:36:27.328Z"
   },
   {
    "duration": 22,
    "start_time": "2022-01-25T10:36:27.355Z"
   },
   {
    "duration": 165,
    "start_time": "2022-01-25T10:36:27.379Z"
   },
   {
    "duration": 14,
    "start_time": "2022-01-25T10:36:27.545Z"
   },
   {
    "duration": 23,
    "start_time": "2022-01-25T10:36:27.560Z"
   },
   {
    "duration": 169,
    "start_time": "2022-01-25T10:36:27.584Z"
   },
   {
    "duration": 310,
    "start_time": "2022-01-25T10:36:27.755Z"
   },
   {
    "duration": 13,
    "start_time": "2022-01-25T10:36:28.067Z"
   },
   {
    "duration": 224,
    "start_time": "2022-01-25T10:36:28.081Z"
   },
   {
    "duration": 16,
    "start_time": "2022-01-25T10:36:28.306Z"
   },
   {
    "duration": 13,
    "start_time": "2022-01-25T10:36:28.323Z"
   },
   {
    "duration": 34,
    "start_time": "2022-01-25T10:36:28.337Z"
   },
   {
    "duration": 166,
    "start_time": "2022-01-25T10:36:28.373Z"
   },
   {
    "duration": 40,
    "start_time": "2022-01-25T10:36:28.540Z"
   },
   {
    "duration": 3,
    "start_time": "2022-01-25T10:36:28.581Z"
   },
   {
    "duration": 5,
    "start_time": "2022-01-25T10:36:28.586Z"
   },
   {
    "duration": 8,
    "start_time": "2022-01-25T10:36:28.593Z"
   },
   {
    "duration": 450,
    "start_time": "2022-01-25T10:36:28.602Z"
   },
   {
    "duration": 386,
    "start_time": "2022-01-25T10:36:29.054Z"
   },
   {
    "duration": 5,
    "start_time": "2022-01-25T10:36:29.441Z"
   },
   {
    "duration": 9,
    "start_time": "2022-01-25T10:36:29.447Z"
   },
   {
    "duration": 280,
    "start_time": "2022-01-25T10:36:29.457Z"
   },
   {
    "duration": 689,
    "start_time": "2022-01-25T10:36:29.738Z"
   },
   {
    "duration": -191,
    "start_time": "2022-01-25T10:36:30.620Z"
   },
   {
    "duration": -196,
    "start_time": "2022-01-25T10:36:30.626Z"
   },
   {
    "duration": -200,
    "start_time": "2022-01-25T10:36:30.631Z"
   },
   {
    "duration": -204,
    "start_time": "2022-01-25T10:36:30.636Z"
   },
   {
    "duration": -208,
    "start_time": "2022-01-25T10:36:30.641Z"
   },
   {
    "duration": -212,
    "start_time": "2022-01-25T10:36:30.646Z"
   },
   {
    "duration": -215,
    "start_time": "2022-01-25T10:36:30.650Z"
   },
   {
    "duration": -220,
    "start_time": "2022-01-25T10:36:30.656Z"
   },
   {
    "duration": -245,
    "start_time": "2022-01-25T10:36:30.682Z"
   },
   {
    "duration": 8,
    "start_time": "2022-01-25T10:39:44.617Z"
   },
   {
    "duration": 9,
    "start_time": "2022-01-25T10:40:00.093Z"
   },
   {
    "duration": 6,
    "start_time": "2022-01-25T10:40:12.701Z"
   },
   {
    "duration": 7,
    "start_time": "2022-01-25T10:40:27.796Z"
   },
   {
    "duration": 244,
    "start_time": "2022-01-25T10:41:25.368Z"
   },
   {
    "duration": 258,
    "start_time": "2022-01-25T10:41:34.494Z"
   },
   {
    "duration": 262,
    "start_time": "2022-01-25T10:41:53.963Z"
   },
   {
    "duration": 4,
    "start_time": "2022-01-25T10:41:59.840Z"
   },
   {
    "duration": 4,
    "start_time": "2022-01-25T10:42:04.235Z"
   },
   {
    "duration": 5,
    "start_time": "2022-01-25T10:42:10.250Z"
   },
   {
    "duration": 268,
    "start_time": "2022-01-25T10:42:17.996Z"
   },
   {
    "duration": 4,
    "start_time": "2022-01-25T10:42:21.086Z"
   },
   {
    "duration": 3636,
    "start_time": "2022-01-25T10:45:29.696Z"
   },
   {
    "duration": 1065,
    "start_time": "2022-01-25T10:45:44.292Z"
   },
   {
    "duration": 2300,
    "start_time": "2022-01-25T10:45:45.359Z"
   },
   {
    "duration": 607,
    "start_time": "2022-01-25T10:45:47.661Z"
   },
   {
    "duration": 13,
    "start_time": "2022-01-25T10:45:48.270Z"
   },
   {
    "duration": 23,
    "start_time": "2022-01-25T10:45:48.284Z"
   },
   {
    "duration": 6,
    "start_time": "2022-01-25T10:45:48.308Z"
   },
   {
    "duration": 6,
    "start_time": "2022-01-25T10:45:48.316Z"
   },
   {
    "duration": 2,
    "start_time": "2022-01-25T10:45:48.325Z"
   },
   {
    "duration": 44,
    "start_time": "2022-01-25T10:45:48.329Z"
   },
   {
    "duration": 5,
    "start_time": "2022-01-25T10:45:48.374Z"
   },
   {
    "duration": 4,
    "start_time": "2022-01-25T10:45:48.380Z"
   },
   {
    "duration": 30,
    "start_time": "2022-01-25T10:45:48.385Z"
   },
   {
    "duration": 13,
    "start_time": "2022-01-25T10:45:48.417Z"
   },
   {
    "duration": 4,
    "start_time": "2022-01-25T10:45:48.432Z"
   },
   {
    "duration": 65,
    "start_time": "2022-01-25T10:45:48.437Z"
   },
   {
    "duration": 9,
    "start_time": "2022-01-25T10:45:48.503Z"
   },
   {
    "duration": 17,
    "start_time": "2022-01-25T10:45:48.513Z"
   },
   {
    "duration": 2,
    "start_time": "2022-01-25T10:45:48.531Z"
   },
   {
    "duration": 7,
    "start_time": "2022-01-25T10:45:48.534Z"
   },
   {
    "duration": 29,
    "start_time": "2022-01-25T10:45:48.543Z"
   },
   {
    "duration": 9,
    "start_time": "2022-01-25T10:45:48.573Z"
   },
   {
    "duration": 10,
    "start_time": "2022-01-25T10:45:48.584Z"
   },
   {
    "duration": 9,
    "start_time": "2022-01-25T10:45:48.598Z"
   },
   {
    "duration": 12,
    "start_time": "2022-01-25T10:45:48.609Z"
   },
   {
    "duration": 9,
    "start_time": "2022-01-25T10:45:48.622Z"
   },
   {
    "duration": 8,
    "start_time": "2022-01-25T10:45:48.633Z"
   },
   {
    "duration": 47,
    "start_time": "2022-01-25T10:45:48.642Z"
   },
   {
    "duration": 35,
    "start_time": "2022-01-25T10:45:48.691Z"
   },
   {
    "duration": 27,
    "start_time": "2022-01-25T10:45:48.728Z"
   },
   {
    "duration": 11,
    "start_time": "2022-01-25T10:45:48.772Z"
   },
   {
    "duration": 175,
    "start_time": "2022-01-25T10:45:48.785Z"
   },
   {
    "duration": 20,
    "start_time": "2022-01-25T10:45:48.962Z"
   },
   {
    "duration": 12,
    "start_time": "2022-01-25T10:45:48.984Z"
   },
   {
    "duration": 163,
    "start_time": "2022-01-25T10:45:48.998Z"
   },
   {
    "duration": 296,
    "start_time": "2022-01-25T10:45:49.162Z"
   },
   {
    "duration": 19,
    "start_time": "2022-01-25T10:45:49.459Z"
   },
   {
    "duration": 228,
    "start_time": "2022-01-25T10:45:49.480Z"
   },
   {
    "duration": 16,
    "start_time": "2022-01-25T10:45:49.710Z"
   },
   {
    "duration": 13,
    "start_time": "2022-01-25T10:45:49.728Z"
   },
   {
    "duration": 34,
    "start_time": "2022-01-25T10:45:49.743Z"
   },
   {
    "duration": 178,
    "start_time": "2022-01-25T10:45:49.778Z"
   },
   {
    "duration": 36,
    "start_time": "2022-01-25T10:45:49.957Z"
   },
   {
    "duration": 4,
    "start_time": "2022-01-25T10:45:49.994Z"
   },
   {
    "duration": 16,
    "start_time": "2022-01-25T10:45:49.999Z"
   },
   {
    "duration": 25,
    "start_time": "2022-01-25T10:45:50.017Z"
   },
   {
    "duration": 487,
    "start_time": "2022-01-25T10:45:50.044Z"
   },
   {
    "duration": 4,
    "start_time": "2022-01-25T10:45:50.533Z"
   },
   {
    "duration": 407,
    "start_time": "2022-01-25T10:45:50.538Z"
   },
   {
    "duration": 5,
    "start_time": "2022-01-25T10:45:50.947Z"
   },
   {
    "duration": 19,
    "start_time": "2022-01-25T10:45:50.954Z"
   },
   {
    "duration": 284,
    "start_time": "2022-01-25T10:45:50.974Z"
   },
   {
    "duration": 989,
    "start_time": "2022-01-25T10:45:51.260Z"
   },
   {
    "duration": 6,
    "start_time": "2022-01-25T10:45:52.251Z"
   },
   {
    "duration": 641,
    "start_time": "2022-01-25T10:45:52.258Z"
   },
   {
    "duration": 3,
    "start_time": "2022-01-25T10:45:52.901Z"
   },
   {
    "duration": 11,
    "start_time": "2022-01-25T10:45:52.905Z"
   },
   {
    "duration": 4,
    "start_time": "2022-01-25T10:45:52.917Z"
   },
   {
    "duration": 31555,
    "start_time": "2022-01-25T10:45:52.922Z"
   },
   {
    "duration": 8,
    "start_time": "2022-01-25T10:46:24.479Z"
   },
   {
    "duration": 274,
    "start_time": "2022-01-25T10:46:24.489Z"
   },
   {
    "duration": 9,
    "start_time": "2022-01-25T10:46:24.766Z"
   },
   {
    "duration": 306,
    "start_time": "2022-01-25T10:53:56.260Z"
   },
   {
    "duration": 1113,
    "start_time": "2022-01-25T13:11:33.118Z"
   },
   {
    "duration": 1086,
    "start_time": "2022-01-25T13:12:33.237Z"
   },
   {
    "duration": 2,
    "start_time": "2022-01-25T13:12:34.325Z"
   },
   {
    "duration": 670,
    "start_time": "2022-01-25T13:12:34.331Z"
   },
   {
    "duration": 13,
    "start_time": "2022-01-25T13:12:35.003Z"
   },
   {
    "duration": 22,
    "start_time": "2022-01-25T13:12:35.018Z"
   },
   {
    "duration": 7,
    "start_time": "2022-01-25T13:12:35.041Z"
   },
   {
    "duration": 8,
    "start_time": "2022-01-25T13:12:35.050Z"
   },
   {
    "duration": 3,
    "start_time": "2022-01-25T13:12:35.060Z"
   },
   {
    "duration": 50,
    "start_time": "2022-01-25T13:12:35.064Z"
   },
   {
    "duration": 4,
    "start_time": "2022-01-25T13:12:35.116Z"
   },
   {
    "duration": 6,
    "start_time": "2022-01-25T13:12:35.122Z"
   },
   {
    "duration": 37,
    "start_time": "2022-01-25T13:12:35.130Z"
   },
   {
    "duration": 32,
    "start_time": "2022-01-25T13:12:35.169Z"
   },
   {
    "duration": 5,
    "start_time": "2022-01-25T13:12:35.203Z"
   },
   {
    "duration": 47,
    "start_time": "2022-01-25T13:12:35.210Z"
   },
   {
    "duration": 10,
    "start_time": "2022-01-25T13:12:35.259Z"
   },
   {
    "duration": 48,
    "start_time": "2022-01-25T13:12:35.270Z"
   },
   {
    "duration": 2,
    "start_time": "2022-01-25T13:12:35.320Z"
   },
   {
    "duration": 9,
    "start_time": "2022-01-25T13:12:35.324Z"
   },
   {
    "duration": 6,
    "start_time": "2022-01-25T13:12:35.335Z"
   },
   {
    "duration": 12,
    "start_time": "2022-01-25T13:12:35.342Z"
   },
   {
    "duration": 8,
    "start_time": "2022-01-25T13:12:35.358Z"
   },
   {
    "duration": 34,
    "start_time": "2022-01-25T13:12:35.369Z"
   },
   {
    "duration": 8,
    "start_time": "2022-01-25T13:12:35.405Z"
   },
   {
    "duration": 13,
    "start_time": "2022-01-25T13:12:35.415Z"
   },
   {
    "duration": 18,
    "start_time": "2022-01-25T13:12:35.430Z"
   },
   {
    "duration": 35,
    "start_time": "2022-01-25T13:12:35.450Z"
   },
   {
    "duration": 44,
    "start_time": "2022-01-25T13:12:35.486Z"
   },
   {
    "duration": 27,
    "start_time": "2022-01-25T13:12:35.532Z"
   },
   {
    "duration": 9,
    "start_time": "2022-01-25T13:12:35.561Z"
   },
   {
    "duration": 206,
    "start_time": "2022-01-25T13:12:35.572Z"
   },
   {
    "duration": 19,
    "start_time": "2022-01-25T13:12:35.780Z"
   },
   {
    "duration": 13,
    "start_time": "2022-01-25T13:12:35.801Z"
   },
   {
    "duration": 194,
    "start_time": "2022-01-25T13:12:35.815Z"
   },
   {
    "duration": 365,
    "start_time": "2022-01-25T13:12:36.010Z"
   },
   {
    "duration": 11,
    "start_time": "2022-01-25T13:12:36.377Z"
   },
   {
    "duration": 268,
    "start_time": "2022-01-25T13:12:36.389Z"
   },
   {
    "duration": 18,
    "start_time": "2022-01-25T13:12:36.658Z"
   },
   {
    "duration": 28,
    "start_time": "2022-01-25T13:12:36.677Z"
   },
   {
    "duration": 14,
    "start_time": "2022-01-25T13:12:36.706Z"
   },
   {
    "duration": 222,
    "start_time": "2022-01-25T13:12:36.721Z"
   },
   {
    "duration": 33,
    "start_time": "2022-01-25T13:12:36.945Z"
   },
   {
    "duration": 20,
    "start_time": "2022-01-25T13:12:36.980Z"
   },
   {
    "duration": 7,
    "start_time": "2022-01-25T13:12:37.001Z"
   },
   {
    "duration": 10,
    "start_time": "2022-01-25T13:12:37.009Z"
   },
   {
    "duration": 530,
    "start_time": "2022-01-25T13:12:37.021Z"
   },
   {
    "duration": 3,
    "start_time": "2022-01-25T13:12:37.553Z"
   },
   {
    "duration": 457,
    "start_time": "2022-01-25T13:12:37.558Z"
   },
   {
    "duration": 5,
    "start_time": "2022-01-25T13:12:38.017Z"
   },
   {
    "duration": 12,
    "start_time": "2022-01-25T13:12:38.024Z"
   },
   {
    "duration": 320,
    "start_time": "2022-01-25T13:12:38.038Z"
   },
   {
    "duration": 297,
    "start_time": "2022-01-25T13:12:38.360Z"
   },
   {
    "duration": -382,
    "start_time": "2022-01-25T13:12:39.042Z"
   },
   {
    "duration": -396,
    "start_time": "2022-01-25T13:12:39.057Z"
   },
   {
    "duration": -399,
    "start_time": "2022-01-25T13:12:39.061Z"
   },
   {
    "duration": -401,
    "start_time": "2022-01-25T13:12:39.065Z"
   },
   {
    "duration": -403,
    "start_time": "2022-01-25T13:12:39.068Z"
   },
   {
    "duration": -405,
    "start_time": "2022-01-25T13:12:39.072Z"
   },
   {
    "duration": -408,
    "start_time": "2022-01-25T13:12:39.076Z"
   },
   {
    "duration": -409,
    "start_time": "2022-01-25T13:12:39.079Z"
   },
   {
    "duration": -410,
    "start_time": "2022-01-25T13:12:39.081Z"
   },
   {
    "duration": 1146,
    "start_time": "2022-01-25T13:15:10.089Z"
   },
   {
    "duration": 106914,
    "start_time": "2022-01-25T13:15:11.236Z"
   },
   {
    "duration": 608,
    "start_time": "2022-01-25T13:16:58.152Z"
   },
   {
    "duration": 14,
    "start_time": "2022-01-25T13:16:58.762Z"
   },
   {
    "duration": 31,
    "start_time": "2022-01-25T13:16:58.777Z"
   },
   {
    "duration": 7,
    "start_time": "2022-01-25T13:16:58.809Z"
   },
   {
    "duration": 26,
    "start_time": "2022-01-25T13:16:58.818Z"
   },
   {
    "duration": 14,
    "start_time": "2022-01-25T13:16:58.847Z"
   },
   {
    "duration": 36,
    "start_time": "2022-01-25T13:16:58.863Z"
   },
   {
    "duration": 5,
    "start_time": "2022-01-25T13:16:58.901Z"
   },
   {
    "duration": 9,
    "start_time": "2022-01-25T13:16:58.907Z"
   },
   {
    "duration": 42,
    "start_time": "2022-01-25T13:16:58.918Z"
   },
   {
    "duration": 20,
    "start_time": "2022-01-25T13:16:58.962Z"
   },
   {
    "duration": 11,
    "start_time": "2022-01-25T13:16:58.984Z"
   },
   {
    "duration": 59,
    "start_time": "2022-01-25T13:16:58.996Z"
   },
   {
    "duration": 11,
    "start_time": "2022-01-25T13:16:59.057Z"
   },
   {
    "duration": 30,
    "start_time": "2022-01-25T13:16:59.069Z"
   },
   {
    "duration": 3,
    "start_time": "2022-01-25T13:16:59.100Z"
   },
   {
    "duration": 20,
    "start_time": "2022-01-25T13:16:59.105Z"
   },
   {
    "duration": 12,
    "start_time": "2022-01-25T13:16:59.126Z"
   },
   {
    "duration": 23,
    "start_time": "2022-01-25T13:16:59.140Z"
   },
   {
    "duration": 27,
    "start_time": "2022-01-25T13:16:59.165Z"
   },
   {
    "duration": 22,
    "start_time": "2022-01-25T13:16:59.196Z"
   },
   {
    "duration": 19,
    "start_time": "2022-01-25T13:16:59.220Z"
   },
   {
    "duration": 23,
    "start_time": "2022-01-25T13:16:59.241Z"
   },
   {
    "duration": 12,
    "start_time": "2022-01-25T13:16:59.266Z"
   },
   {
    "duration": 48,
    "start_time": "2022-01-25T13:16:59.279Z"
   },
   {
    "duration": 36,
    "start_time": "2022-01-25T13:16:59.329Z"
   },
   {
    "duration": 45,
    "start_time": "2022-01-25T13:16:59.366Z"
   },
   {
    "duration": 12,
    "start_time": "2022-01-25T13:16:59.413Z"
   },
   {
    "duration": 193,
    "start_time": "2022-01-25T13:16:59.426Z"
   },
   {
    "duration": 15,
    "start_time": "2022-01-25T13:16:59.621Z"
   },
   {
    "duration": 23,
    "start_time": "2022-01-25T13:16:59.638Z"
   },
   {
    "duration": 185,
    "start_time": "2022-01-25T13:16:59.662Z"
   },
   {
    "duration": 354,
    "start_time": "2022-01-25T13:16:59.849Z"
   },
   {
    "duration": 11,
    "start_time": "2022-01-25T13:17:00.205Z"
   },
   {
    "duration": 283,
    "start_time": "2022-01-25T13:17:00.218Z"
   },
   {
    "duration": 18,
    "start_time": "2022-01-25T13:17:00.503Z"
   },
   {
    "duration": 20,
    "start_time": "2022-01-25T13:17:00.522Z"
   },
   {
    "duration": 17,
    "start_time": "2022-01-25T13:17:00.544Z"
   },
   {
    "duration": 227,
    "start_time": "2022-01-25T13:17:00.563Z"
   },
   {
    "duration": 39,
    "start_time": "2022-01-25T13:17:00.791Z"
   },
   {
    "duration": 3,
    "start_time": "2022-01-25T13:17:00.832Z"
   },
   {
    "duration": 18,
    "start_time": "2022-01-25T13:17:00.836Z"
   },
   {
    "duration": 21,
    "start_time": "2022-01-25T13:17:00.856Z"
   },
   {
    "duration": 559,
    "start_time": "2022-01-25T13:17:00.880Z"
   },
   {
    "duration": 5,
    "start_time": "2022-01-25T13:17:01.441Z"
   },
   {
    "duration": 503,
    "start_time": "2022-01-25T13:17:01.448Z"
   },
   {
    "duration": 6,
    "start_time": "2022-01-25T13:17:01.954Z"
   },
   {
    "duration": 26,
    "start_time": "2022-01-25T13:17:01.962Z"
   },
   {
    "duration": 349,
    "start_time": "2022-01-25T13:17:01.989Z"
   },
   {
    "duration": 304,
    "start_time": "2022-01-25T13:17:02.340Z"
   },
   {
    "duration": -365,
    "start_time": "2022-01-25T13:17:03.011Z"
   },
   {
    "duration": -367,
    "start_time": "2022-01-25T13:17:03.014Z"
   },
   {
    "duration": -369,
    "start_time": "2022-01-25T13:17:03.017Z"
   },
   {
    "duration": -370,
    "start_time": "2022-01-25T13:17:03.020Z"
   },
   {
    "duration": -373,
    "start_time": "2022-01-25T13:17:03.024Z"
   },
   {
    "duration": -375,
    "start_time": "2022-01-25T13:17:03.027Z"
   },
   {
    "duration": -379,
    "start_time": "2022-01-25T13:17:03.032Z"
   },
   {
    "duration": -380,
    "start_time": "2022-01-25T13:17:03.034Z"
   },
   {
    "duration": -381,
    "start_time": "2022-01-25T13:17:03.037Z"
   },
   {
    "duration": 1121,
    "start_time": "2022-01-25T13:17:24.570Z"
   },
   {
    "duration": 3,
    "start_time": "2022-01-25T13:17:25.693Z"
   },
   {
    "duration": 612,
    "start_time": "2022-01-25T13:17:25.699Z"
   },
   {
    "duration": 14,
    "start_time": "2022-01-25T13:17:26.313Z"
   },
   {
    "duration": 26,
    "start_time": "2022-01-25T13:17:26.329Z"
   },
   {
    "duration": 6,
    "start_time": "2022-01-25T13:17:26.357Z"
   },
   {
    "duration": 33,
    "start_time": "2022-01-25T13:17:26.365Z"
   },
   {
    "duration": 4,
    "start_time": "2022-01-25T13:17:26.402Z"
   },
   {
    "duration": 25,
    "start_time": "2022-01-25T13:17:26.409Z"
   },
   {
    "duration": 4,
    "start_time": "2022-01-25T13:17:26.436Z"
   },
   {
    "duration": 5,
    "start_time": "2022-01-25T13:17:26.442Z"
   },
   {
    "duration": 69,
    "start_time": "2022-01-25T13:17:26.449Z"
   },
   {
    "duration": 17,
    "start_time": "2022-01-25T13:17:26.520Z"
   },
   {
    "duration": 5,
    "start_time": "2022-01-25T13:17:26.538Z"
   },
   {
    "duration": 72,
    "start_time": "2022-01-25T13:17:26.545Z"
   },
   {
    "duration": 10,
    "start_time": "2022-01-25T13:17:26.619Z"
   },
   {
    "duration": 22,
    "start_time": "2022-01-25T13:17:26.630Z"
   },
   {
    "duration": 3,
    "start_time": "2022-01-25T13:17:26.653Z"
   },
   {
    "duration": 9,
    "start_time": "2022-01-25T13:17:26.657Z"
   },
   {
    "duration": 30,
    "start_time": "2022-01-25T13:17:26.668Z"
   },
   {
    "duration": 10,
    "start_time": "2022-01-25T13:17:26.700Z"
   },
   {
    "duration": 13,
    "start_time": "2022-01-25T13:17:26.712Z"
   },
   {
    "duration": 13,
    "start_time": "2022-01-25T13:17:26.729Z"
   },
   {
    "duration": 10,
    "start_time": "2022-01-25T13:17:26.744Z"
   },
   {
    "duration": 7,
    "start_time": "2022-01-25T13:17:26.756Z"
   },
   {
    "duration": 37,
    "start_time": "2022-01-25T13:17:26.765Z"
   },
   {
    "duration": 30,
    "start_time": "2022-01-25T13:17:26.804Z"
   },
   {
    "duration": 37,
    "start_time": "2022-01-25T13:17:26.836Z"
   },
   {
    "duration": 47,
    "start_time": "2022-01-25T13:17:26.875Z"
   },
   {
    "duration": 9,
    "start_time": "2022-01-25T13:17:26.924Z"
   },
   {
    "duration": 213,
    "start_time": "2022-01-25T13:17:26.935Z"
   },
   {
    "duration": 15,
    "start_time": "2022-01-25T13:17:27.149Z"
   },
   {
    "duration": 32,
    "start_time": "2022-01-25T13:17:27.166Z"
   },
   {
    "duration": 200,
    "start_time": "2022-01-25T13:17:27.200Z"
   },
   {
    "duration": 380,
    "start_time": "2022-01-25T13:17:27.402Z"
   },
   {
    "duration": 16,
    "start_time": "2022-01-25T13:17:27.784Z"
   },
   {
    "duration": 301,
    "start_time": "2022-01-25T13:17:27.801Z"
   },
   {
    "duration": 17,
    "start_time": "2022-01-25T13:17:28.104Z"
   },
   {
    "duration": 14,
    "start_time": "2022-01-25T13:17:28.123Z"
   },
   {
    "duration": 14,
    "start_time": "2022-01-25T13:17:28.138Z"
   },
   {
    "duration": 259,
    "start_time": "2022-01-25T13:17:28.154Z"
   },
   {
    "duration": 34,
    "start_time": "2022-01-25T13:17:28.415Z"
   },
   {
    "duration": 3,
    "start_time": "2022-01-25T13:17:28.451Z"
   },
   {
    "duration": 17,
    "start_time": "2022-01-25T13:17:28.456Z"
   },
   {
    "duration": 24,
    "start_time": "2022-01-25T13:17:28.475Z"
   },
   {
    "duration": 593,
    "start_time": "2022-01-25T13:17:28.501Z"
   },
   {
    "duration": 4,
    "start_time": "2022-01-25T13:17:29.097Z"
   },
   {
    "duration": 525,
    "start_time": "2022-01-25T13:17:29.103Z"
   },
   {
    "duration": 5,
    "start_time": "2022-01-25T13:17:29.630Z"
   },
   {
    "duration": 27,
    "start_time": "2022-01-25T13:17:29.637Z"
   },
   {
    "duration": 336,
    "start_time": "2022-01-25T13:17:29.665Z"
   },
   {
    "duration": 1205,
    "start_time": "2022-01-25T13:17:30.004Z"
   },
   {
    "duration": 8,
    "start_time": "2022-01-25T13:17:31.210Z"
   },
   {
    "duration": 903,
    "start_time": "2022-01-25T13:17:31.220Z"
   },
   {
    "duration": 5,
    "start_time": "2022-01-25T13:17:32.124Z"
   },
   {
    "duration": 38,
    "start_time": "2022-01-25T13:17:32.131Z"
   },
   {
    "duration": 31,
    "start_time": "2022-01-25T13:17:32.170Z"
   },
   {
    "duration": 37919,
    "start_time": "2022-01-25T13:17:32.203Z"
   },
   {
    "duration": 7,
    "start_time": "2022-01-25T13:18:10.124Z"
   },
   {
    "duration": 317,
    "start_time": "2022-01-25T13:18:10.133Z"
   },
   {
    "duration": 6,
    "start_time": "2022-01-25T13:18:10.451Z"
   },
   {
    "duration": 18,
    "start_time": "2022-01-25T13:20:34.371Z"
   },
   {
    "duration": 302,
    "start_time": "2022-01-25T13:21:30.924Z"
   },
   {
    "duration": 13,
    "start_time": "2022-01-25T13:21:35.110Z"
   },
   {
    "duration": 12,
    "start_time": "2022-01-25T13:22:07.382Z"
   },
   {
    "duration": 12,
    "start_time": "2022-01-25T13:22:38.993Z"
   },
   {
    "duration": 12,
    "start_time": "2022-01-25T13:23:19.008Z"
   },
   {
    "duration": 6,
    "start_time": "2022-01-25T13:23:48.411Z"
   },
   {
    "duration": 498,
    "start_time": "2022-01-25T13:24:16.353Z"
   },
   {
    "duration": 8,
    "start_time": "2022-01-25T13:24:34.425Z"
   },
   {
    "duration": 2386,
    "start_time": "2022-01-25T13:24:34.893Z"
   },
   {
    "duration": 7,
    "start_time": "2022-01-25T13:24:40.870Z"
   },
   {
    "duration": 505,
    "start_time": "2022-01-25T13:24:53.446Z"
   },
   {
    "duration": 8,
    "start_time": "2022-01-25T13:25:26.963Z"
   },
   {
    "duration": 305,
    "start_time": "2022-01-25T13:25:27.257Z"
   },
   {
    "duration": 303,
    "start_time": "2022-01-25T13:25:38.617Z"
   },
   {
    "duration": 260,
    "start_time": "2022-01-25T13:25:51.401Z"
   },
   {
    "duration": 262,
    "start_time": "2022-01-25T13:28:00.606Z"
   },
   {
    "duration": 265,
    "start_time": "2022-01-25T13:29:28.065Z"
   },
   {
    "duration": 526,
    "start_time": "2022-01-25T13:29:33.017Z"
   },
   {
    "duration": 299,
    "start_time": "2022-01-25T13:29:35.362Z"
   },
   {
    "duration": 22,
    "start_time": "2022-01-25T13:31:07.723Z"
   },
   {
    "duration": 17,
    "start_time": "2022-01-25T13:31:39.986Z"
   },
   {
    "duration": 15,
    "start_time": "2022-01-25T13:32:04.051Z"
   },
   {
    "duration": 16,
    "start_time": "2022-01-25T13:32:07.212Z"
   },
   {
    "duration": 15,
    "start_time": "2022-01-25T13:32:29.399Z"
   },
   {
    "duration": 14,
    "start_time": "2022-01-25T13:32:31.750Z"
   },
   {
    "duration": 16,
    "start_time": "2022-01-25T13:32:33.951Z"
   },
   {
    "duration": 14,
    "start_time": "2022-01-25T13:35:19.975Z"
   },
   {
    "duration": 89,
    "start_time": "2022-01-25T13:35:22.933Z"
   },
   {
    "duration": 15,
    "start_time": "2022-01-25T13:35:24.775Z"
   },
   {
    "duration": 19,
    "start_time": "2022-01-25T13:36:48.296Z"
   },
   {
    "duration": 15,
    "start_time": "2022-01-25T13:38:14.683Z"
   },
   {
    "duration": 35,
    "start_time": "2022-01-25T13:45:58.726Z"
   },
   {
    "duration": 37,
    "start_time": "2022-01-25T13:46:02.425Z"
   },
   {
    "duration": 41,
    "start_time": "2022-01-25T13:46:31.677Z"
   },
   {
    "duration": 16,
    "start_time": "2022-01-25T13:53:58.941Z"
   },
   {
    "duration": 22,
    "start_time": "2022-01-25T13:54:01.712Z"
   },
   {
    "duration": 21,
    "start_time": "2022-01-25T13:54:19.548Z"
   },
   {
    "duration": 9,
    "start_time": "2022-01-25T13:55:02.048Z"
   },
   {
    "duration": 13,
    "start_time": "2022-01-25T13:56:50.711Z"
   },
   {
    "duration": 7,
    "start_time": "2022-01-25T13:56:51.770Z"
   },
   {
    "duration": 391,
    "start_time": "2022-01-25T13:56:55.442Z"
   },
   {
    "duration": 7,
    "start_time": "2022-01-25T13:57:00.285Z"
   },
   {
    "duration": 3899,
    "start_time": "2022-01-25T13:57:49.907Z"
   },
   {
    "duration": 22,
    "start_time": "2022-01-25T13:58:37.447Z"
   },
   {
    "duration": 7,
    "start_time": "2022-01-25T13:58:53.087Z"
   },
   {
    "duration": 17,
    "start_time": "2022-01-25T14:00:05.906Z"
   },
   {
    "duration": 8,
    "start_time": "2022-01-25T14:00:16.459Z"
   },
   {
    "duration": 12,
    "start_time": "2022-01-25T14:00:44.780Z"
   },
   {
    "duration": 9,
    "start_time": "2022-01-25T14:01:10.747Z"
   },
   {
    "duration": 8,
    "start_time": "2022-01-25T14:01:14.951Z"
   },
   {
    "duration": 15,
    "start_time": "2022-01-25T14:03:23.123Z"
   },
   {
    "duration": 18,
    "start_time": "2022-01-25T14:04:37.577Z"
   },
   {
    "duration": 21,
    "start_time": "2022-01-25T14:05:04.659Z"
   },
   {
    "duration": 13,
    "start_time": "2022-01-25T14:07:19.127Z"
   },
   {
    "duration": 216,
    "start_time": "2022-01-25T14:07:46.481Z"
   },
   {
    "duration": 14,
    "start_time": "2022-01-25T14:07:51.749Z"
   },
   {
    "duration": 295,
    "start_time": "2022-01-25T14:08:53.988Z"
   },
   {
    "duration": 9,
    "start_time": "2022-01-25T14:10:19.542Z"
   },
   {
    "duration": 328,
    "start_time": "2022-01-25T14:10:30.471Z"
   },
   {
    "duration": 7,
    "start_time": "2022-01-25T14:10:34.601Z"
   },
   {
    "duration": 8,
    "start_time": "2022-01-25T14:11:38.309Z"
   },
   {
    "duration": 8,
    "start_time": "2022-01-25T14:11:41.375Z"
   },
   {
    "duration": 679,
    "start_time": "2022-01-25T14:12:14.482Z"
   },
   {
    "duration": 312,
    "start_time": "2022-01-25T14:12:32.886Z"
   },
   {
    "duration": 9,
    "start_time": "2022-01-25T14:13:26.744Z"
   },
   {
    "duration": 10,
    "start_time": "2022-01-25T14:15:40.450Z"
   },
   {
    "duration": 312,
    "start_time": "2022-01-25T14:15:41.167Z"
   },
   {
    "duration": 11,
    "start_time": "2022-01-25T14:16:34.662Z"
   },
   {
    "duration": 5,
    "start_time": "2022-01-25T14:17:04.177Z"
   },
   {
    "duration": 8,
    "start_time": "2022-01-25T14:17:19.919Z"
   },
   {
    "duration": 5227,
    "start_time": "2022-01-25T14:17:46.505Z"
   },
   {
    "duration": -418,
    "start_time": "2022-01-25T14:17:52.151Z"
   },
   {
    "duration": 6,
    "start_time": "2022-01-25T14:18:00.253Z"
   },
   {
    "duration": 4,
    "start_time": "2022-01-25T14:18:03.434Z"
   },
   {
    "duration": 10,
    "start_time": "2022-01-25T14:18:05.482Z"
   },
   {
    "duration": 10,
    "start_time": "2022-01-25T14:18:11.441Z"
   },
   {
    "duration": 6,
    "start_time": "2022-01-25T14:18:12.659Z"
   },
   {
    "duration": 3,
    "start_time": "2022-01-25T14:18:13.105Z"
   },
   {
    "duration": 9,
    "start_time": "2022-01-25T14:18:13.544Z"
   },
   {
    "duration": 5,
    "start_time": "2022-01-25T14:18:30.533Z"
   },
   {
    "duration": 9,
    "start_time": "2022-01-25T14:18:31.563Z"
   },
   {
    "duration": 296,
    "start_time": "2022-01-25T14:19:10.079Z"
   },
   {
    "duration": 296,
    "start_time": "2022-01-25T14:19:18.346Z"
   },
   {
    "duration": 288,
    "start_time": "2022-01-25T14:19:29.627Z"
   },
   {
    "duration": 10,
    "start_time": "2022-01-25T14:19:53.704Z"
   },
   {
    "duration": 293,
    "start_time": "2022-01-25T14:19:54.147Z"
   },
   {
    "duration": 3,
    "start_time": "2022-01-25T14:20:05.376Z"
   },
   {
    "duration": 292,
    "start_time": "2022-01-25T14:20:06.158Z"
   },
   {
    "duration": 1152,
    "start_time": "2022-01-26T13:12:31.616Z"
   },
   {
    "duration": 3249,
    "start_time": "2022-01-26T13:12:32.769Z"
   },
   {
    "duration": 1570,
    "start_time": "2022-01-26T13:12:36.020Z"
   },
   {
    "duration": 17,
    "start_time": "2022-01-26T13:12:37.592Z"
   },
   {
    "duration": 26,
    "start_time": "2022-01-26T13:12:37.610Z"
   },
   {
    "duration": 10,
    "start_time": "2022-01-26T13:12:37.638Z"
   },
   {
    "duration": 15,
    "start_time": "2022-01-26T13:12:37.649Z"
   },
   {
    "duration": 10,
    "start_time": "2022-01-26T13:12:37.672Z"
   },
   {
    "duration": 31,
    "start_time": "2022-01-26T13:12:37.684Z"
   },
   {
    "duration": 5,
    "start_time": "2022-01-26T13:12:37.717Z"
   },
   {
    "duration": 20,
    "start_time": "2022-01-26T13:12:37.724Z"
   },
   {
    "duration": 41,
    "start_time": "2022-01-26T13:12:37.745Z"
   },
   {
    "duration": 22,
    "start_time": "2022-01-26T13:12:37.788Z"
   },
   {
    "duration": 9,
    "start_time": "2022-01-26T13:12:37.812Z"
   },
   {
    "duration": 42,
    "start_time": "2022-01-26T13:12:37.822Z"
   },
   {
    "duration": 13,
    "start_time": "2022-01-26T13:12:37.866Z"
   },
   {
    "duration": 33,
    "start_time": "2022-01-26T13:12:37.880Z"
   },
   {
    "duration": 2,
    "start_time": "2022-01-26T13:12:37.915Z"
   },
   {
    "duration": 15,
    "start_time": "2022-01-26T13:12:37.919Z"
   },
   {
    "duration": 4,
    "start_time": "2022-01-26T13:12:37.936Z"
   },
   {
    "duration": 19,
    "start_time": "2022-01-26T13:12:37.942Z"
   },
   {
    "duration": 12,
    "start_time": "2022-01-26T13:12:37.962Z"
   },
   {
    "duration": 12,
    "start_time": "2022-01-26T13:12:37.978Z"
   },
   {
    "duration": 10,
    "start_time": "2022-01-26T13:12:37.993Z"
   },
   {
    "duration": 7,
    "start_time": "2022-01-26T13:12:38.004Z"
   },
   {
    "duration": 10,
    "start_time": "2022-01-26T13:12:38.012Z"
   },
   {
    "duration": 31,
    "start_time": "2022-01-26T13:12:38.023Z"
   },
   {
    "duration": 38,
    "start_time": "2022-01-26T13:12:38.055Z"
   },
   {
    "duration": 28,
    "start_time": "2022-01-26T13:12:38.094Z"
   },
   {
    "duration": 11,
    "start_time": "2022-01-26T13:12:38.124Z"
   },
   {
    "duration": 176,
    "start_time": "2022-01-26T13:12:38.136Z"
   },
   {
    "duration": 14,
    "start_time": "2022-01-26T13:12:38.313Z"
   },
   {
    "duration": 12,
    "start_time": "2022-01-26T13:12:38.328Z"
   },
   {
    "duration": 167,
    "start_time": "2022-01-26T13:12:38.341Z"
   },
   {
    "duration": 286,
    "start_time": "2022-01-26T13:12:38.509Z"
   },
   {
    "duration": 9,
    "start_time": "2022-01-26T13:12:38.797Z"
   },
   {
    "duration": 223,
    "start_time": "2022-01-26T13:12:38.808Z"
   },
   {
    "duration": 15,
    "start_time": "2022-01-26T13:12:39.032Z"
   },
   {
    "duration": 23,
    "start_time": "2022-01-26T13:12:39.049Z"
   },
   {
    "duration": 12,
    "start_time": "2022-01-26T13:12:39.074Z"
   },
   {
    "duration": 177,
    "start_time": "2022-01-26T13:12:39.087Z"
   },
   {
    "duration": 35,
    "start_time": "2022-01-26T13:12:39.266Z"
   },
   {
    "duration": 2,
    "start_time": "2022-01-26T13:12:39.303Z"
   },
   {
    "duration": 17,
    "start_time": "2022-01-26T13:12:39.307Z"
   },
   {
    "duration": 24,
    "start_time": "2022-01-26T13:12:39.325Z"
   },
   {
    "duration": 452,
    "start_time": "2022-01-26T13:12:39.351Z"
   },
   {
    "duration": 4,
    "start_time": "2022-01-26T13:12:39.804Z"
   },
   {
    "duration": 407,
    "start_time": "2022-01-26T13:12:39.810Z"
   },
   {
    "duration": 5,
    "start_time": "2022-01-26T13:12:40.219Z"
   },
   {
    "duration": 8,
    "start_time": "2022-01-26T13:12:40.226Z"
   },
   {
    "duration": 310,
    "start_time": "2022-01-26T13:12:40.235Z"
   },
   {
    "duration": 443,
    "start_time": "2022-01-26T13:12:40.547Z"
   },
   {
    "duration": 109,
    "start_time": "2022-01-26T13:12:40.883Z"
   },
   {
    "duration": 70,
    "start_time": "2022-01-26T13:12:40.924Z"
   },
   {
    "duration": 56,
    "start_time": "2022-01-26T13:12:40.939Z"
   },
   {
    "duration": 43,
    "start_time": "2022-01-26T13:12:40.953Z"
   },
   {
    "duration": 28,
    "start_time": "2022-01-26T13:12:40.969Z"
   },
   {
    "duration": 15,
    "start_time": "2022-01-26T13:12:40.984Z"
   },
   {
    "duration": -2,
    "start_time": "2022-01-26T13:12:41.002Z"
   },
   {
    "duration": -13,
    "start_time": "2022-01-26T13:12:41.014Z"
   },
   {
    "duration": -51,
    "start_time": "2022-01-26T13:12:41.053Z"
   },
   {
    "duration": -62,
    "start_time": "2022-01-26T13:12:41.065Z"
   },
   {
    "duration": -76,
    "start_time": "2022-01-26T13:12:41.080Z"
   },
   {
    "duration": -85,
    "start_time": "2022-01-26T13:12:41.090Z"
   },
   {
    "duration": -96,
    "start_time": "2022-01-26T13:12:41.102Z"
   },
   {
    "duration": -106,
    "start_time": "2022-01-26T13:12:41.113Z"
   },
   {
    "duration": -116,
    "start_time": "2022-01-26T13:12:41.124Z"
   },
   {
    "duration": -126,
    "start_time": "2022-01-26T13:12:41.135Z"
   },
   {
    "duration": -138,
    "start_time": "2022-01-26T13:12:41.148Z"
   },
   {
    "duration": -176,
    "start_time": "2022-01-26T13:12:41.187Z"
   },
   {
    "duration": -189,
    "start_time": "2022-01-26T13:12:41.202Z"
   },
   {
    "duration": -201,
    "start_time": "2022-01-26T13:12:41.215Z"
   },
   {
    "duration": -211,
    "start_time": "2022-01-26T13:12:41.226Z"
   },
   {
    "duration": -221,
    "start_time": "2022-01-26T13:12:41.237Z"
   },
   {
    "duration": 1035,
    "start_time": "2022-01-26T13:12:49.609Z"
   },
   {
    "duration": 2,
    "start_time": "2022-01-26T13:12:50.646Z"
   },
   {
    "duration": 21451,
    "start_time": "2022-01-26T13:12:50.650Z"
   },
   {
    "duration": 12,
    "start_time": "2022-01-26T13:13:12.102Z"
   },
   {
    "duration": 23,
    "start_time": "2022-01-26T13:13:12.115Z"
   },
   {
    "duration": 6,
    "start_time": "2022-01-26T13:13:12.139Z"
   },
   {
    "duration": 25,
    "start_time": "2022-01-26T13:13:12.147Z"
   },
   {
    "duration": 3,
    "start_time": "2022-01-26T13:13:12.174Z"
   },
   {
    "duration": 21,
    "start_time": "2022-01-26T13:13:12.179Z"
   },
   {
    "duration": 4,
    "start_time": "2022-01-26T13:13:12.201Z"
   },
   {
    "duration": 4,
    "start_time": "2022-01-26T13:13:12.207Z"
   },
   {
    "duration": 34,
    "start_time": "2022-01-26T13:13:12.212Z"
   },
   {
    "duration": 33,
    "start_time": "2022-01-26T13:13:12.247Z"
   },
   {
    "duration": 5,
    "start_time": "2022-01-26T13:13:12.281Z"
   },
   {
    "duration": 40,
    "start_time": "2022-01-26T13:13:12.287Z"
   },
   {
    "duration": 8,
    "start_time": "2022-01-26T13:13:12.329Z"
   },
   {
    "duration": 36,
    "start_time": "2022-01-26T13:13:12.339Z"
   },
   {
    "duration": 2,
    "start_time": "2022-01-26T13:13:12.377Z"
   },
   {
    "duration": 7,
    "start_time": "2022-01-26T13:13:12.380Z"
   },
   {
    "duration": 6,
    "start_time": "2022-01-26T13:13:12.388Z"
   },
   {
    "duration": 13,
    "start_time": "2022-01-26T13:13:12.395Z"
   },
   {
    "duration": 12,
    "start_time": "2022-01-26T13:13:12.409Z"
   },
   {
    "duration": 7,
    "start_time": "2022-01-26T13:13:12.424Z"
   },
   {
    "duration": 11,
    "start_time": "2022-01-26T13:13:12.433Z"
   },
   {
    "duration": 28,
    "start_time": "2022-01-26T13:13:12.445Z"
   },
   {
    "duration": 6,
    "start_time": "2022-01-26T13:13:12.475Z"
   },
   {
    "duration": 31,
    "start_time": "2022-01-26T13:13:12.483Z"
   },
   {
    "duration": 31,
    "start_time": "2022-01-26T13:13:12.515Z"
   },
   {
    "duration": 38,
    "start_time": "2022-01-26T13:13:12.548Z"
   },
   {
    "duration": 9,
    "start_time": "2022-01-26T13:13:12.587Z"
   },
   {
    "duration": 166,
    "start_time": "2022-01-26T13:13:12.597Z"
   },
   {
    "duration": 14,
    "start_time": "2022-01-26T13:13:12.764Z"
   },
   {
    "duration": 12,
    "start_time": "2022-01-26T13:13:12.779Z"
   },
   {
    "duration": 175,
    "start_time": "2022-01-26T13:13:12.793Z"
   },
   {
    "duration": 301,
    "start_time": "2022-01-26T13:13:12.971Z"
   },
   {
    "duration": 11,
    "start_time": "2022-01-26T13:13:13.274Z"
   },
   {
    "duration": 234,
    "start_time": "2022-01-26T13:13:13.287Z"
   },
   {
    "duration": 16,
    "start_time": "2022-01-26T13:13:13.523Z"
   },
   {
    "duration": 32,
    "start_time": "2022-01-26T13:13:13.540Z"
   },
   {
    "duration": 14,
    "start_time": "2022-01-26T13:13:13.573Z"
   },
   {
    "duration": 181,
    "start_time": "2022-01-26T13:13:13.588Z"
   },
   {
    "duration": 29,
    "start_time": "2022-01-26T13:13:13.772Z"
   },
   {
    "duration": 2,
    "start_time": "2022-01-26T13:13:13.803Z"
   },
   {
    "duration": 4,
    "start_time": "2022-01-26T13:13:13.807Z"
   },
   {
    "duration": 7,
    "start_time": "2022-01-26T13:13:13.812Z"
   },
   {
    "duration": 472,
    "start_time": "2022-01-26T13:13:13.821Z"
   },
   {
    "duration": 3,
    "start_time": "2022-01-26T13:13:14.295Z"
   },
   {
    "duration": 411,
    "start_time": "2022-01-26T13:13:14.300Z"
   },
   {
    "duration": 5,
    "start_time": "2022-01-26T13:13:14.713Z"
   },
   {
    "duration": 10,
    "start_time": "2022-01-26T13:13:14.720Z"
   },
   {
    "duration": 290,
    "start_time": "2022-01-26T13:13:14.732Z"
   },
   {
    "duration": 888,
    "start_time": "2022-01-26T13:13:15.024Z"
   },
   {
    "duration": 7,
    "start_time": "2022-01-26T13:13:15.913Z"
   },
   {
    "duration": 666,
    "start_time": "2022-01-26T13:13:15.921Z"
   },
   {
    "duration": 3,
    "start_time": "2022-01-26T13:13:16.589Z"
   },
   {
    "duration": 9,
    "start_time": "2022-01-26T13:13:16.593Z"
   },
   {
    "duration": 4,
    "start_time": "2022-01-26T13:13:16.604Z"
   },
   {
    "duration": 31153,
    "start_time": "2022-01-26T13:13:16.610Z"
   },
   {
    "duration": 17,
    "start_time": "2022-01-26T13:13:47.765Z"
   },
   {
    "duration": 12,
    "start_time": "2022-01-26T13:13:47.784Z"
   },
   {
    "duration": 6,
    "start_time": "2022-01-26T13:13:47.798Z"
   },
   {
    "duration": 7,
    "start_time": "2022-01-26T13:13:47.805Z"
   },
   {
    "duration": 14,
    "start_time": "2022-01-26T13:13:47.813Z"
   },
   {
    "duration": 280,
    "start_time": "2022-01-26T13:13:47.828Z"
   },
   {
    "duration": 6,
    "start_time": "2022-01-26T13:13:48.109Z"
   },
   {
    "duration": 15,
    "start_time": "2022-01-26T13:13:48.117Z"
   },
   {
    "duration": 249,
    "start_time": "2022-01-26T13:13:48.134Z"
   },
   {
    "duration": 8,
    "start_time": "2022-01-26T13:13:48.387Z"
   },
   {
    "duration": 233,
    "start_time": "2022-01-26T13:13:48.396Z"
   },
   {
    "duration": 10,
    "start_time": "2022-01-26T13:13:48.631Z"
   },
   {
    "duration": 5,
    "start_time": "2022-01-26T13:13:48.643Z"
   },
   {
    "duration": 23,
    "start_time": "2022-01-26T13:13:48.650Z"
   },
   {
    "duration": 5,
    "start_time": "2022-01-26T13:13:48.675Z"
   },
   {
    "duration": 2010,
    "start_time": "2022-01-26T13:13:48.681Z"
   },
   {
    "duration": 5,
    "start_time": "2022-01-26T13:15:27.249Z"
   },
   {
    "duration": 49,
    "start_time": "2022-01-26T13:15:32.846Z"
   },
   {
    "duration": 1076,
    "start_time": "2022-01-26T13:17:28.276Z"
   },
   {
    "duration": 3,
    "start_time": "2022-01-26T13:17:29.353Z"
   },
   {
    "duration": 598,
    "start_time": "2022-01-26T13:17:29.358Z"
   },
   {
    "duration": 12,
    "start_time": "2022-01-26T13:17:29.958Z"
   },
   {
    "duration": 20,
    "start_time": "2022-01-26T13:17:29.971Z"
   },
   {
    "duration": 6,
    "start_time": "2022-01-26T13:17:29.992Z"
   },
   {
    "duration": 5,
    "start_time": "2022-01-26T13:17:30.000Z"
   },
   {
    "duration": 6,
    "start_time": "2022-01-26T13:17:30.008Z"
   },
   {
    "duration": 21,
    "start_time": "2022-01-26T13:17:30.016Z"
   },
   {
    "duration": 33,
    "start_time": "2022-01-26T13:17:30.039Z"
   },
   {
    "duration": 5,
    "start_time": "2022-01-26T13:17:30.074Z"
   },
   {
    "duration": 31,
    "start_time": "2022-01-26T13:17:30.080Z"
   },
   {
    "duration": 974,
    "start_time": "2022-01-26T13:17:30.113Z"
   },
   {
    "duration": 56,
    "start_time": "2022-01-26T13:17:31.034Z"
   },
   {
    "duration": 39,
    "start_time": "2022-01-26T13:17:31.052Z"
   },
   {
    "duration": 32,
    "start_time": "2022-01-26T13:17:31.060Z"
   },
   {
    "duration": 22,
    "start_time": "2022-01-26T13:17:31.071Z"
   },
   {
    "duration": 12,
    "start_time": "2022-01-26T13:17:31.082Z"
   },
   {
    "duration": 5,
    "start_time": "2022-01-26T13:17:31.090Z"
   },
   {
    "duration": -5,
    "start_time": "2022-01-26T13:17:31.100Z"
   },
   {
    "duration": -25,
    "start_time": "2022-01-26T13:17:31.121Z"
   },
   {
    "duration": -35,
    "start_time": "2022-01-26T13:17:31.132Z"
   },
   {
    "duration": -42,
    "start_time": "2022-01-26T13:17:31.140Z"
   },
   {
    "duration": -51,
    "start_time": "2022-01-26T13:17:31.150Z"
   },
   {
    "duration": -58,
    "start_time": "2022-01-26T13:17:31.158Z"
   },
   {
    "duration": -67,
    "start_time": "2022-01-26T13:17:31.168Z"
   },
   {
    "duration": -73,
    "start_time": "2022-01-26T13:17:31.175Z"
   },
   {
    "duration": -79,
    "start_time": "2022-01-26T13:17:31.182Z"
   },
   {
    "duration": -83,
    "start_time": "2022-01-26T13:17:31.187Z"
   },
   {
    "duration": -87,
    "start_time": "2022-01-26T13:17:31.192Z"
   },
   {
    "duration": -92,
    "start_time": "2022-01-26T13:17:31.198Z"
   },
   {
    "duration": -95,
    "start_time": "2022-01-26T13:17:31.202Z"
   },
   {
    "duration": -99,
    "start_time": "2022-01-26T13:17:31.207Z"
   },
   {
    "duration": -104,
    "start_time": "2022-01-26T13:17:31.212Z"
   },
   {
    "duration": -108,
    "start_time": "2022-01-26T13:17:31.217Z"
   },
   {
    "duration": -121,
    "start_time": "2022-01-26T13:17:31.231Z"
   },
   {
    "duration": -125,
    "start_time": "2022-01-26T13:17:31.236Z"
   },
   {
    "duration": -128,
    "start_time": "2022-01-26T13:17:31.240Z"
   },
   {
    "duration": -135,
    "start_time": "2022-01-26T13:17:31.248Z"
   },
   {
    "duration": -138,
    "start_time": "2022-01-26T13:17:31.252Z"
   },
   {
    "duration": -143,
    "start_time": "2022-01-26T13:17:31.257Z"
   },
   {
    "duration": -150,
    "start_time": "2022-01-26T13:17:31.265Z"
   },
   {
    "duration": -154,
    "start_time": "2022-01-26T13:17:31.270Z"
   },
   {
    "duration": -157,
    "start_time": "2022-01-26T13:17:31.274Z"
   },
   {
    "duration": -163,
    "start_time": "2022-01-26T13:17:31.281Z"
   },
   {
    "duration": -167,
    "start_time": "2022-01-26T13:17:31.286Z"
   },
   {
    "duration": -174,
    "start_time": "2022-01-26T13:17:31.294Z"
   },
   {
    "duration": -179,
    "start_time": "2022-01-26T13:17:31.300Z"
   },
   {
    "duration": -183,
    "start_time": "2022-01-26T13:17:31.304Z"
   },
   {
    "duration": -185,
    "start_time": "2022-01-26T13:17:31.307Z"
   },
   {
    "duration": -190,
    "start_time": "2022-01-26T13:17:31.313Z"
   },
   {
    "duration": -192,
    "start_time": "2022-01-26T13:17:31.316Z"
   },
   {
    "duration": -195,
    "start_time": "2022-01-26T13:17:31.320Z"
   },
   {
    "duration": -198,
    "start_time": "2022-01-26T13:17:31.324Z"
   },
   {
    "duration": -209,
    "start_time": "2022-01-26T13:17:31.336Z"
   },
   {
    "duration": -213,
    "start_time": "2022-01-26T13:17:31.340Z"
   },
   {
    "duration": -219,
    "start_time": "2022-01-26T13:17:31.347Z"
   },
   {
    "duration": -223,
    "start_time": "2022-01-26T13:17:31.352Z"
   },
   {
    "duration": -225,
    "start_time": "2022-01-26T13:17:31.355Z"
   },
   {
    "duration": -189,
    "start_time": "2022-01-26T13:17:31.360Z"
   },
   {
    "duration": -196,
    "start_time": "2022-01-26T13:17:31.368Z"
   },
   {
    "duration": -199,
    "start_time": "2022-01-26T13:17:31.372Z"
   },
   {
    "duration": -201,
    "start_time": "2022-01-26T13:17:31.375Z"
   },
   {
    "duration": -205,
    "start_time": "2022-01-26T13:17:31.380Z"
   },
   {
    "duration": -208,
    "start_time": "2022-01-26T13:17:31.384Z"
   },
   {
    "duration": -211,
    "start_time": "2022-01-26T13:17:31.388Z"
   },
   {
    "duration": -214,
    "start_time": "2022-01-26T13:17:31.392Z"
   },
   {
    "duration": -217,
    "start_time": "2022-01-26T13:17:31.396Z"
   },
   {
    "duration": -220,
    "start_time": "2022-01-26T13:17:31.400Z"
   },
   {
    "duration": -222,
    "start_time": "2022-01-26T13:17:31.403Z"
   },
   {
    "duration": -225,
    "start_time": "2022-01-26T13:17:31.407Z"
   },
   {
    "duration": -228,
    "start_time": "2022-01-26T13:17:31.411Z"
   },
   {
    "duration": -237,
    "start_time": "2022-01-26T13:17:31.421Z"
   },
   {
    "duration": -241,
    "start_time": "2022-01-26T13:17:31.426Z"
   },
   {
    "duration": -246,
    "start_time": "2022-01-26T13:17:31.432Z"
   },
   {
    "duration": 20,
    "start_time": "2022-01-26T13:19:32.994Z"
   },
   {
    "duration": 15,
    "start_time": "2022-01-26T13:19:57.610Z"
   },
   {
    "duration": 17,
    "start_time": "2022-01-26T13:20:13.483Z"
   },
   {
    "duration": 11,
    "start_time": "2022-01-26T13:20:36.358Z"
   },
   {
    "duration": 17,
    "start_time": "2022-01-26T13:20:38.779Z"
   },
   {
    "duration": 12,
    "start_time": "2022-01-26T13:28:51.650Z"
   },
   {
    "duration": 5,
    "start_time": "2022-01-26T13:28:51.945Z"
   },
   {
    "duration": 43,
    "start_time": "2022-01-26T13:28:52.572Z"
   },
   {
    "duration": 86,
    "start_time": "2022-01-26T13:29:02.524Z"
   },
   {
    "duration": 8,
    "start_time": "2022-01-26T13:29:05.138Z"
   },
   {
    "duration": 10,
    "start_time": "2022-01-26T13:29:08.695Z"
   },
   {
    "duration": 17,
    "start_time": "2022-01-26T13:29:08.884Z"
   },
   {
    "duration": 3,
    "start_time": "2022-01-26T13:29:12.225Z"
   },
   {
    "duration": 6,
    "start_time": "2022-01-26T13:29:12.450Z"
   },
   {
    "duration": 5,
    "start_time": "2022-01-26T13:29:13.217Z"
   },
   {
    "duration": 8,
    "start_time": "2022-01-26T13:29:14.093Z"
   },
   {
    "duration": 9,
    "start_time": "2022-01-26T13:29:17.039Z"
   },
   {
    "duration": 9,
    "start_time": "2022-01-26T13:29:17.287Z"
   },
   {
    "duration": 8,
    "start_time": "2022-01-26T13:29:21.423Z"
   },
   {
    "duration": 8,
    "start_time": "2022-01-26T13:29:21.898Z"
   },
   {
    "duration": 6,
    "start_time": "2022-01-26T13:29:22.259Z"
   },
   {
    "duration": 31,
    "start_time": "2022-01-26T13:29:26.393Z"
   },
   {
    "duration": 33,
    "start_time": "2022-01-26T13:29:26.851Z"
   },
   {
    "duration": 23,
    "start_time": "2022-01-26T13:29:27.153Z"
   },
   {
    "duration": 8,
    "start_time": "2022-01-26T13:29:28.258Z"
   },
   {
    "duration": 167,
    "start_time": "2022-01-26T13:30:22.226Z"
   },
   {
    "duration": 13,
    "start_time": "2022-01-26T13:30:22.550Z"
   },
   {
    "duration": 14,
    "start_time": "2022-01-26T13:30:24.606Z"
   },
   {
    "duration": 153,
    "start_time": "2022-01-26T13:30:24.621Z"
   },
   {
    "duration": 294,
    "start_time": "2022-01-26T13:30:26.355Z"
   },
   {
    "duration": 11,
    "start_time": "2022-01-26T13:30:28.564Z"
   },
   {
    "duration": 229,
    "start_time": "2022-01-26T13:30:28.792Z"
   },
   {
    "duration": 16,
    "start_time": "2022-01-26T13:30:37.346Z"
   },
   {
    "duration": 14,
    "start_time": "2022-01-26T13:30:44.671Z"
   },
   {
    "duration": 14,
    "start_time": "2022-01-26T13:30:51.150Z"
   },
   {
    "duration": 190,
    "start_time": "2022-01-26T13:30:51.650Z"
   },
   {
    "duration": 37,
    "start_time": "2022-01-26T13:31:57.574Z"
   },
   {
    "duration": 4,
    "start_time": "2022-01-26T13:31:58.415Z"
   },
   {
    "duration": 4,
    "start_time": "2022-01-26T13:31:59.005Z"
   },
   {
    "duration": 14,
    "start_time": "2022-01-26T13:32:07.263Z"
   },
   {
    "duration": 10,
    "start_time": "2022-01-26T13:32:24.342Z"
   },
   {
    "duration": 16,
    "start_time": "2022-01-26T13:33:35.601Z"
   },
   {
    "duration": 3,
    "start_time": "2022-01-26T13:33:52.855Z"
   },
   {
    "duration": 588,
    "start_time": "2022-01-26T13:34:26.903Z"
   },
   {
    "duration": 16,
    "start_time": "2022-01-26T13:34:30.782Z"
   },
   {
    "duration": 4,
    "start_time": "2022-01-26T13:36:10.296Z"
   },
   {
    "duration": 4,
    "start_time": "2022-01-26T13:36:10.761Z"
   },
   {
    "duration": 8,
    "start_time": "2022-01-26T13:36:11.335Z"
   },
   {
    "duration": 9,
    "start_time": "2022-01-26T13:36:45.001Z"
   },
   {
    "duration": 463,
    "start_time": "2022-01-26T13:36:45.475Z"
   },
   {
    "duration": 4,
    "start_time": "2022-01-26T13:37:01.031Z"
   },
   {
    "duration": 509,
    "start_time": "2022-01-26T13:37:02.900Z"
   },
   {
    "duration": 5,
    "start_time": "2022-01-26T13:37:07.133Z"
   },
   {
    "duration": 8,
    "start_time": "2022-01-26T13:37:07.488Z"
   },
   {
    "duration": 266,
    "start_time": "2022-01-26T13:37:09.080Z"
   },
   {
    "duration": 870,
    "start_time": "2022-01-26T13:37:12.923Z"
   },
   {
    "duration": 7,
    "start_time": "2022-01-26T13:37:13.963Z"
   },
   {
    "duration": 643,
    "start_time": "2022-01-26T13:37:17.896Z"
   },
   {
    "duration": 4,
    "start_time": "2022-01-26T13:37:18.658Z"
   },
   {
    "duration": 8,
    "start_time": "2022-01-26T13:37:21.914Z"
   },
   {
    "duration": 6,
    "start_time": "2022-01-26T13:37:22.147Z"
   },
   {
    "duration": 30384,
    "start_time": "2022-01-26T13:37:23.034Z"
   },
   {
    "duration": 14,
    "start_time": "2022-01-26T13:37:56.047Z"
   },
   {
    "duration": 14,
    "start_time": "2022-01-26T13:37:56.789Z"
   },
   {
    "duration": 7,
    "start_time": "2022-01-26T13:37:58.456Z"
   },
   {
    "duration": 8,
    "start_time": "2022-01-26T13:37:59.368Z"
   },
   {
    "duration": 15,
    "start_time": "2022-01-26T13:38:01.790Z"
   },
   {
    "duration": 246,
    "start_time": "2022-01-26T13:38:02.559Z"
   },
   {
    "duration": 7,
    "start_time": "2022-01-26T13:38:04.345Z"
   },
   {
    "duration": 17,
    "start_time": "2022-01-26T13:38:28.392Z"
   },
   {
    "duration": 11,
    "start_time": "2022-01-26T13:39:07.800Z"
   },
   {
    "duration": 11,
    "start_time": "2022-01-26T13:39:13.962Z"
   },
   {
    "duration": 18,
    "start_time": "2022-01-26T13:39:54.924Z"
   },
   {
    "duration": 15,
    "start_time": "2022-01-26T13:40:37.109Z"
   },
   {
    "duration": 16,
    "start_time": "2022-01-26T13:41:38.725Z"
   },
   {
    "duration": 22,
    "start_time": "2022-01-26T13:42:56.139Z"
   },
   {
    "duration": 14,
    "start_time": "2022-01-26T13:45:08.330Z"
   },
   {
    "duration": 20,
    "start_time": "2022-01-26T13:45:21.659Z"
   },
   {
    "duration": 12,
    "start_time": "2022-01-26T13:45:32.047Z"
   },
   {
    "duration": 13,
    "start_time": "2022-01-26T13:45:37.639Z"
   },
   {
    "duration": 4,
    "start_time": "2022-01-26T13:45:45.451Z"
   },
   {
    "duration": 12,
    "start_time": "2022-01-26T13:45:49.774Z"
   },
   {
    "duration": 4,
    "start_time": "2022-01-26T13:46:24.666Z"
   },
   {
    "duration": 11,
    "start_time": "2022-01-26T13:46:39.978Z"
   },
   {
    "duration": 6,
    "start_time": "2022-01-26T13:46:45.059Z"
   },
   {
    "duration": 4,
    "start_time": "2022-01-26T13:48:52.613Z"
   },
   {
    "duration": 17,
    "start_time": "2022-01-26T13:51:03.980Z"
   },
   {
    "duration": 10,
    "start_time": "2022-01-26T13:51:29.790Z"
   },
   {
    "duration": 238,
    "start_time": "2022-01-26T13:51:30.126Z"
   },
   {
    "duration": 8,
    "start_time": "2022-01-26T13:51:38.550Z"
   },
   {
    "duration": 223,
    "start_time": "2022-01-26T13:51:38.749Z"
   },
   {
    "duration": 10,
    "start_time": "2022-01-26T13:51:42.639Z"
   },
   {
    "duration": 5,
    "start_time": "2022-01-26T13:51:43.433Z"
   },
   {
    "duration": 4,
    "start_time": "2022-01-26T13:51:43.996Z"
   },
   {
    "duration": 4,
    "start_time": "2022-01-26T13:51:44.468Z"
   },
   {
    "duration": 2086,
    "start_time": "2022-01-26T13:51:44.736Z"
   },
   {
    "duration": 11,
    "start_time": "2022-01-26T13:52:19.969Z"
   },
   {
    "duration": 12,
    "start_time": "2022-01-26T13:52:57.551Z"
   },
   {
    "duration": 6,
    "start_time": "2022-01-26T13:53:51.213Z"
   },
   {
    "duration": 4,
    "start_time": "2022-01-26T13:54:05.916Z"
   },
   {
    "duration": 286,
    "start_time": "2022-01-26T13:54:22.917Z"
   },
   {
    "duration": 8,
    "start_time": "2022-01-26T13:54:43.356Z"
   },
   {
    "duration": 242,
    "start_time": "2022-01-26T13:55:08.341Z"
   },
   {
    "duration": 5,
    "start_time": "2022-01-26T13:55:31.842Z"
   },
   {
    "duration": 235,
    "start_time": "2022-01-26T13:55:32.386Z"
   },
   {
    "duration": 8,
    "start_time": "2022-01-26T13:55:38.271Z"
   },
   {
    "duration": 271,
    "start_time": "2022-01-26T13:55:52.643Z"
   },
   {
    "duration": 261,
    "start_time": "2022-01-26T13:56:15.747Z"
   },
   {
    "duration": 769,
    "start_time": "2022-01-26T13:57:53.356Z"
   },
   {
    "duration": 2223,
    "start_time": "2022-01-26T13:58:00.073Z"
   },
   {
    "duration": 409,
    "start_time": "2022-01-26T13:58:07.418Z"
   },
   {
    "duration": 284,
    "start_time": "2022-01-26T13:59:10.624Z"
   },
   {
    "duration": 362,
    "start_time": "2022-01-26T13:59:30.671Z"
   },
   {
    "duration": 159,
    "start_time": "2022-01-26T14:00:41.851Z"
   },
   {
    "duration": 281,
    "start_time": "2022-01-26T14:01:25.484Z"
   },
   {
    "duration": 246,
    "start_time": "2022-01-26T14:01:43.829Z"
   },
   {
    "duration": 334,
    "start_time": "2022-01-26T14:02:41.864Z"
   },
   {
    "duration": 17,
    "start_time": "2022-01-26T14:03:54.548Z"
   },
   {
    "duration": 15,
    "start_time": "2022-01-26T14:04:49.989Z"
   },
   {
    "duration": 6,
    "start_time": "2022-01-26T14:05:11.841Z"
   },
   {
    "duration": 4,
    "start_time": "2022-01-26T14:05:37.016Z"
   },
   {
    "duration": 7,
    "start_time": "2022-01-26T14:05:49.462Z"
   },
   {
    "duration": 6,
    "start_time": "2022-01-26T14:06:10.473Z"
   },
   {
    "duration": 16,
    "start_time": "2022-01-26T14:06:24.904Z"
   },
   {
    "duration": 15,
    "start_time": "2022-01-26T14:06:56.583Z"
   },
   {
    "duration": 7,
    "start_time": "2022-01-26T14:08:39.172Z"
   },
   {
    "duration": 287,
    "start_time": "2022-01-26T14:09:05.212Z"
   },
   {
    "duration": 10,
    "start_time": "2022-01-26T14:09:13.519Z"
   },
   {
    "duration": 12,
    "start_time": "2022-01-26T14:09:21.884Z"
   },
   {
    "duration": 11,
    "start_time": "2022-01-26T14:10:04.666Z"
   },
   {
    "duration": 8,
    "start_time": "2022-01-26T14:10:13.120Z"
   },
   {
    "duration": 7,
    "start_time": "2022-01-26T14:10:35.772Z"
   },
   {
    "duration": 256,
    "start_time": "2022-01-26T14:11:58.205Z"
   },
   {
    "duration": 252,
    "start_time": "2022-01-26T14:12:10.255Z"
   },
   {
    "duration": 244,
    "start_time": "2022-01-26T14:12:14.387Z"
   },
   {
    "duration": 273,
    "start_time": "2022-01-26T14:15:20.377Z"
   },
   {
    "duration": 2,
    "start_time": "2022-01-26T14:15:44.159Z"
   },
   {
    "duration": 253,
    "start_time": "2022-01-26T14:15:44.642Z"
   },
   {
    "duration": 286,
    "start_time": "2022-01-26T14:16:22.585Z"
   },
   {
    "duration": 19,
    "start_time": "2022-01-26T14:17:21.164Z"
   },
   {
    "duration": 19,
    "start_time": "2022-01-26T14:22:40.775Z"
   },
   {
    "duration": 1458,
    "start_time": "2022-01-27T07:59:39.117Z"
   },
   {
    "duration": 4431,
    "start_time": "2022-01-27T07:59:40.578Z"
   },
   {
    "duration": 559,
    "start_time": "2022-01-27T07:59:45.014Z"
   },
   {
    "duration": 19,
    "start_time": "2022-01-27T07:59:45.576Z"
   },
   {
    "duration": 47,
    "start_time": "2022-01-27T07:59:45.598Z"
   },
   {
    "duration": 9,
    "start_time": "2022-01-27T07:59:45.648Z"
   },
   {
    "duration": 10,
    "start_time": "2022-01-27T07:59:45.659Z"
   },
   {
    "duration": 3,
    "start_time": "2022-01-27T07:59:45.675Z"
   },
   {
    "duration": 88,
    "start_time": "2022-01-27T07:59:45.682Z"
   },
   {
    "duration": 9,
    "start_time": "2022-01-27T07:59:45.773Z"
   },
   {
    "duration": 38,
    "start_time": "2022-01-27T07:59:45.785Z"
   },
   {
    "duration": 70,
    "start_time": "2022-01-27T07:59:45.826Z"
   },
   {
    "duration": 38,
    "start_time": "2022-01-27T07:59:45.899Z"
   },
   {
    "duration": 8,
    "start_time": "2022-01-27T07:59:45.940Z"
   },
   {
    "duration": 109,
    "start_time": "2022-01-27T07:59:45.951Z"
   },
   {
    "duration": 19,
    "start_time": "2022-01-27T07:59:46.063Z"
   },
   {
    "duration": 46,
    "start_time": "2022-01-27T07:59:46.085Z"
   },
   {
    "duration": 4,
    "start_time": "2022-01-27T07:59:46.133Z"
   },
   {
    "duration": 10,
    "start_time": "2022-01-27T07:59:46.139Z"
   },
   {
    "duration": 9,
    "start_time": "2022-01-27T07:59:46.152Z"
   },
   {
    "duration": 14,
    "start_time": "2022-01-27T07:59:46.164Z"
   },
   {
    "duration": 54,
    "start_time": "2022-01-27T07:59:46.181Z"
   },
   {
    "duration": 12,
    "start_time": "2022-01-27T07:59:46.241Z"
   },
   {
    "duration": 15,
    "start_time": "2022-01-27T07:59:46.256Z"
   },
   {
    "duration": 11,
    "start_time": "2022-01-27T07:59:46.273Z"
   },
   {
    "duration": 7,
    "start_time": "2022-01-27T07:59:46.324Z"
   },
   {
    "duration": 44,
    "start_time": "2022-01-27T07:59:46.334Z"
   },
   {
    "duration": 75,
    "start_time": "2022-01-27T07:59:46.381Z"
   },
   {
    "duration": 34,
    "start_time": "2022-01-27T07:59:46.459Z"
   },
   {
    "duration": 29,
    "start_time": "2022-01-27T07:59:46.495Z"
   },
   {
    "duration": 5,
    "start_time": "2022-01-27T07:59:46.527Z"
   },
   {
    "duration": 627,
    "start_time": "2022-01-27T07:59:46.535Z"
   },
   {
    "duration": 30,
    "start_time": "2022-01-27T07:59:47.165Z"
   },
   {
    "duration": 36,
    "start_time": "2022-01-27T07:59:47.197Z"
   },
   {
    "duration": 397,
    "start_time": "2022-01-27T07:59:47.235Z"
   },
   {
    "duration": 661,
    "start_time": "2022-01-27T07:59:47.634Z"
   },
   {
    "duration": 28,
    "start_time": "2022-01-27T07:59:48.297Z"
   },
   {
    "duration": 816,
    "start_time": "2022-01-27T07:59:48.328Z"
   },
   {
    "duration": 38,
    "start_time": "2022-01-27T07:59:49.148Z"
   },
   {
    "duration": 45,
    "start_time": "2022-01-27T07:59:49.189Z"
   },
   {
    "duration": 19,
    "start_time": "2022-01-27T07:59:49.237Z"
   },
   {
    "duration": 422,
    "start_time": "2022-01-27T07:59:49.258Z"
   },
   {
    "duration": 857,
    "start_time": "2022-01-27T07:59:49.682Z"
   },
   {
    "duration": 4,
    "start_time": "2022-01-27T07:59:50.542Z"
   },
   {
    "duration": 10,
    "start_time": "2022-01-27T07:59:50.548Z"
   },
   {
    "duration": 14,
    "start_time": "2022-01-27T07:59:50.560Z"
   },
   {
    "duration": 110,
    "start_time": "2022-01-27T07:59:50.576Z"
   },
   {
    "duration": 1234,
    "start_time": "2022-01-27T07:59:50.689Z"
   },
   {
    "duration": 6,
    "start_time": "2022-01-27T07:59:51.926Z"
   },
   {
    "duration": 1242,
    "start_time": "2022-01-27T07:59:51.935Z"
   },
   {
    "duration": 10,
    "start_time": "2022-01-27T07:59:53.181Z"
   },
   {
    "duration": 38,
    "start_time": "2022-01-27T07:59:53.194Z"
   },
   {
    "duration": 924,
    "start_time": "2022-01-27T07:59:53.236Z"
   },
   {
    "duration": 579,
    "start_time": "2022-01-27T07:59:54.163Z"
   },
   {
    "duration": 10,
    "start_time": "2022-01-27T07:59:54.737Z"
   },
   {
    "duration": 1,
    "start_time": "2022-01-27T07:59:54.747Z"
   },
   {
    "duration": -4,
    "start_time": "2022-01-27T07:59:54.754Z"
   },
   {
    "duration": -13,
    "start_time": "2022-01-27T07:59:54.764Z"
   },
   {
    "duration": -19,
    "start_time": "2022-01-27T07:59:54.771Z"
   },
   {
    "duration": -48,
    "start_time": "2022-01-27T07:59:54.802Z"
   },
   {
    "duration": -53,
    "start_time": "2022-01-27T07:59:54.808Z"
   },
   {
    "duration": -94,
    "start_time": "2022-01-27T07:59:54.851Z"
   },
   {
    "duration": -132,
    "start_time": "2022-01-27T07:59:54.890Z"
   },
   {
    "duration": -143,
    "start_time": "2022-01-27T07:59:54.902Z"
   },
   {
    "duration": -152,
    "start_time": "2022-01-27T07:59:54.913Z"
   },
   {
    "duration": -158,
    "start_time": "2022-01-27T07:59:54.920Z"
   },
   {
    "duration": -165,
    "start_time": "2022-01-27T07:59:54.929Z"
   },
   {
    "duration": -172,
    "start_time": "2022-01-27T07:59:54.937Z"
   },
   {
    "duration": -179,
    "start_time": "2022-01-27T07:59:54.946Z"
   },
   {
    "duration": -186,
    "start_time": "2022-01-27T07:59:54.955Z"
   },
   {
    "duration": -193,
    "start_time": "2022-01-27T07:59:54.963Z"
   },
   {
    "duration": -198,
    "start_time": "2022-01-27T07:59:54.970Z"
   },
   {
    "duration": -205,
    "start_time": "2022-01-27T07:59:54.978Z"
   },
   {
    "duration": -211,
    "start_time": "2022-01-27T07:59:54.986Z"
   },
   {
    "duration": -237,
    "start_time": "2022-01-27T07:59:55.013Z"
   },
   {
    "duration": -243,
    "start_time": "2022-01-27T07:59:55.021Z"
   },
   {
    "duration": -252,
    "start_time": "2022-01-27T07:59:55.031Z"
   },
   {
    "duration": -257,
    "start_time": "2022-01-27T07:59:55.038Z"
   },
   {
    "duration": -265,
    "start_time": "2022-01-27T07:59:55.047Z"
   },
   {
    "duration": -272,
    "start_time": "2022-01-27T07:59:55.055Z"
   },
   {
    "duration": -280,
    "start_time": "2022-01-27T07:59:55.064Z"
   },
   {
    "duration": -286,
    "start_time": "2022-01-27T07:59:55.071Z"
   },
   {
    "duration": -256,
    "start_time": "2022-01-27T07:59:55.079Z"
   },
   {
    "duration": -263,
    "start_time": "2022-01-27T07:59:55.087Z"
   },
   {
    "duration": -268,
    "start_time": "2022-01-27T07:59:55.094Z"
   },
   {
    "duration": -275,
    "start_time": "2022-01-27T07:59:55.102Z"
   },
   {
    "duration": 1573,
    "start_time": "2022-01-27T08:00:10.521Z"
   },
   {
    "duration": 3,
    "start_time": "2022-01-27T08:00:12.096Z"
   },
   {
    "duration": 530,
    "start_time": "2022-01-27T08:00:12.102Z"
   },
   {
    "duration": 18,
    "start_time": "2022-01-27T08:00:12.635Z"
   },
   {
    "duration": 25,
    "start_time": "2022-01-27T08:00:12.655Z"
   },
   {
    "duration": 40,
    "start_time": "2022-01-27T08:00:12.683Z"
   },
   {
    "duration": 8,
    "start_time": "2022-01-27T08:00:12.726Z"
   },
   {
    "duration": 5,
    "start_time": "2022-01-27T08:00:12.740Z"
   },
   {
    "duration": 38,
    "start_time": "2022-01-27T08:00:12.748Z"
   },
   {
    "duration": 36,
    "start_time": "2022-01-27T08:00:12.789Z"
   },
   {
    "duration": 5,
    "start_time": "2022-01-27T08:00:12.827Z"
   },
   {
    "duration": 54,
    "start_time": "2022-01-27T08:00:12.835Z"
   },
   {
    "duration": 33,
    "start_time": "2022-01-27T08:00:12.891Z"
   },
   {
    "duration": 7,
    "start_time": "2022-01-27T08:00:12.927Z"
   },
   {
    "duration": 63,
    "start_time": "2022-01-27T08:00:12.936Z"
   },
   {
    "duration": 34,
    "start_time": "2022-01-27T08:00:13.001Z"
   },
   {
    "duration": 24,
    "start_time": "2022-01-27T08:00:13.037Z"
   },
   {
    "duration": 4,
    "start_time": "2022-01-27T08:00:13.064Z"
   },
   {
    "duration": 10,
    "start_time": "2022-01-27T08:00:13.070Z"
   },
   {
    "duration": 42,
    "start_time": "2022-01-27T08:00:13.082Z"
   },
   {
    "duration": 15,
    "start_time": "2022-01-27T08:00:13.127Z"
   },
   {
    "duration": 12,
    "start_time": "2022-01-27T08:00:13.144Z"
   },
   {
    "duration": 14,
    "start_time": "2022-01-27T08:00:13.165Z"
   },
   {
    "duration": 55,
    "start_time": "2022-01-27T08:00:13.184Z"
   },
   {
    "duration": 10,
    "start_time": "2022-01-27T08:00:13.242Z"
   },
   {
    "duration": 12,
    "start_time": "2022-01-27T08:00:13.255Z"
   },
   {
    "duration": 64,
    "start_time": "2022-01-27T08:00:13.270Z"
   },
   {
    "duration": 48,
    "start_time": "2022-01-27T08:00:13.336Z"
   },
   {
    "duration": 53,
    "start_time": "2022-01-27T08:00:13.386Z"
   },
   {
    "duration": 17,
    "start_time": "2022-01-27T08:00:13.441Z"
   },
   {
    "duration": 4,
    "start_time": "2022-01-27T08:00:13.461Z"
   },
   {
    "duration": 423,
    "start_time": "2022-01-27T08:00:13.468Z"
   },
   {
    "duration": 33,
    "start_time": "2022-01-27T08:00:13.894Z"
   },
   {
    "duration": 20,
    "start_time": "2022-01-27T08:00:13.929Z"
   },
   {
    "duration": 490,
    "start_time": "2022-01-27T08:00:13.952Z"
   },
   {
    "duration": 675,
    "start_time": "2022-01-27T08:00:14.444Z"
   },
   {
    "duration": 15,
    "start_time": "2022-01-27T08:00:15.123Z"
   },
   {
    "duration": 531,
    "start_time": "2022-01-27T08:00:15.141Z"
   },
   {
    "duration": 25,
    "start_time": "2022-01-27T08:00:15.674Z"
   },
   {
    "duration": 40,
    "start_time": "2022-01-27T08:00:15.702Z"
   },
   {
    "duration": 19,
    "start_time": "2022-01-27T08:00:15.745Z"
   },
   {
    "duration": 441,
    "start_time": "2022-01-27T08:00:15.767Z"
   },
   {
    "duration": 805,
    "start_time": "2022-01-27T08:00:16.212Z"
   },
   {
    "duration": 6,
    "start_time": "2022-01-27T08:00:17.019Z"
   },
   {
    "duration": 8,
    "start_time": "2022-01-27T08:00:17.027Z"
   },
   {
    "duration": 14,
    "start_time": "2022-01-27T08:00:17.037Z"
   },
   {
    "duration": 11,
    "start_time": "2022-01-27T08:00:17.054Z"
   },
   {
    "duration": 875,
    "start_time": "2022-01-27T08:00:17.068Z"
   },
   {
    "duration": 5,
    "start_time": "2022-01-27T08:00:17.946Z"
   },
   {
    "duration": 900,
    "start_time": "2022-01-27T08:00:17.953Z"
   },
   {
    "duration": 7,
    "start_time": "2022-01-27T08:00:18.855Z"
   },
   {
    "duration": 13,
    "start_time": "2022-01-27T08:00:18.864Z"
   },
   {
    "duration": 626,
    "start_time": "2022-01-27T08:00:18.879Z"
   },
   {
    "duration": 2354,
    "start_time": "2022-01-27T08:00:19.508Z"
   },
   {
    "duration": 13,
    "start_time": "2022-01-27T08:00:21.865Z"
   },
   {
    "duration": 2117,
    "start_time": "2022-01-27T08:00:21.882Z"
   },
   {
    "duration": 6,
    "start_time": "2022-01-27T08:00:24.002Z"
   },
   {
    "duration": 22,
    "start_time": "2022-01-27T08:00:24.011Z"
   },
   {
    "duration": 7,
    "start_time": "2022-01-27T08:00:24.035Z"
   },
   {
    "duration": 53643,
    "start_time": "2022-01-27T08:00:24.045Z"
   },
   {
    "duration": 42,
    "start_time": "2022-01-27T08:01:17.691Z"
   },
   {
    "duration": 22,
    "start_time": "2022-01-27T08:01:17.736Z"
   },
   {
    "duration": 11,
    "start_time": "2022-01-27T08:01:17.761Z"
   },
   {
    "duration": 47,
    "start_time": "2022-01-27T08:01:17.776Z"
   },
   {
    "duration": 25,
    "start_time": "2022-01-27T08:01:17.826Z"
   },
   {
    "duration": 603,
    "start_time": "2022-01-27T08:01:17.854Z"
   },
   {
    "duration": 8,
    "start_time": "2022-01-27T08:01:18.460Z"
   },
   {
    "duration": 25,
    "start_time": "2022-01-27T08:01:18.476Z"
   },
   {
    "duration": 3,
    "start_time": "2022-01-27T08:01:18.524Z"
   },
   {
    "duration": 12,
    "start_time": "2022-01-27T08:01:18.530Z"
   },
   {
    "duration": 24,
    "start_time": "2022-01-27T08:01:18.545Z"
   },
   {
    "duration": 36,
    "start_time": "2022-01-27T08:01:18.573Z"
   },
   {
    "duration": 444,
    "start_time": "2022-01-27T08:01:18.611Z"
   },
   {
    "duration": 12,
    "start_time": "2022-01-27T08:01:19.058Z"
   },
   {
    "duration": 439,
    "start_time": "2022-01-27T08:01:19.073Z"
   },
   {
    "duration": 19,
    "start_time": "2022-01-27T08:01:19.515Z"
   },
   {
    "duration": 9,
    "start_time": "2022-01-27T08:01:19.536Z"
   },
   {
    "duration": 9,
    "start_time": "2022-01-27T08:01:19.548Z"
   },
   {
    "duration": 7,
    "start_time": "2022-01-27T08:01:19.559Z"
   },
   {
    "duration": 2473,
    "start_time": "2022-01-27T08:01:19.568Z"
   },
   {
    "duration": 6,
    "start_time": "2022-01-27T08:01:22.043Z"
   },
   {
    "duration": 429,
    "start_time": "2022-01-27T08:01:22.051Z"
   },
   {
    "duration": 7,
    "start_time": "2022-01-27T08:01:22.483Z"
   },
   {
    "duration": 34,
    "start_time": "2022-01-27T08:01:22.492Z"
   },
   {
    "duration": 10,
    "start_time": "2022-01-27T08:01:22.528Z"
   },
   {
    "duration": 421,
    "start_time": "2022-01-27T08:01:22.541Z"
   },
   {
    "duration": 16,
    "start_time": "2022-01-27T08:02:50.508Z"
   },
   {
    "duration": 4,
    "start_time": "2022-01-27T08:05:43.772Z"
   },
   {
    "duration": 44,
    "start_time": "2022-01-27T08:06:52.863Z"
   },
   {
    "duration": 35,
    "start_time": "2022-01-27T08:10:58.519Z"
   },
   {
    "duration": 32,
    "start_time": "2022-01-27T08:11:09.751Z"
   },
   {
    "duration": 34,
    "start_time": "2022-01-27T08:11:46.589Z"
   },
   {
    "duration": 14,
    "start_time": "2022-01-27T08:11:55.085Z"
   },
   {
    "duration": 9,
    "start_time": "2022-01-27T08:12:05.272Z"
   },
   {
    "duration": 17,
    "start_time": "2022-01-27T08:12:26.620Z"
   },
   {
    "duration": 46,
    "start_time": "2022-01-27T08:12:34.461Z"
   },
   {
    "duration": 30,
    "start_time": "2022-01-27T08:12:45.248Z"
   },
   {
    "duration": 14,
    "start_time": "2022-01-27T08:13:13.179Z"
   },
   {
    "duration": 5,
    "start_time": "2022-01-27T08:14:09.459Z"
   },
   {
    "duration": 410,
    "start_time": "2022-01-27T08:16:02.400Z"
   },
   {
    "duration": 7,
    "start_time": "2022-01-27T08:16:06.824Z"
   },
   {
    "duration": 6,
    "start_time": "2022-01-27T08:16:09.698Z"
   },
   {
    "duration": 6,
    "start_time": "2022-01-27T08:16:13.320Z"
   },
   {
    "duration": 8,
    "start_time": "2022-01-27T08:16:23.527Z"
   },
   {
    "duration": 26,
    "start_time": "2022-01-27T08:17:01.891Z"
   },
   {
    "duration": 14,
    "start_time": "2022-01-27T08:17:35.377Z"
   },
   {
    "duration": 10,
    "start_time": "2022-01-27T08:17:38.965Z"
   },
   {
    "duration": 360,
    "start_time": "2022-01-27T08:19:24.431Z"
   },
   {
    "duration": 325,
    "start_time": "2022-01-27T08:20:02.602Z"
   },
   {
    "duration": 8,
    "start_time": "2022-01-27T08:20:16.466Z"
   },
   {
    "duration": 13,
    "start_time": "2022-01-27T08:20:19.644Z"
   },
   {
    "duration": 8,
    "start_time": "2022-01-27T08:20:19.858Z"
   },
   {
    "duration": 15,
    "start_time": "2022-01-27T08:22:03.555Z"
   },
   {
    "duration": 8,
    "start_time": "2022-01-27T08:22:03.959Z"
   },
   {
    "duration": 13,
    "start_time": "2022-01-27T08:24:12.384Z"
   },
   {
    "duration": 9,
    "start_time": "2022-01-27T08:24:12.862Z"
   },
   {
    "duration": 17,
    "start_time": "2022-01-27T08:27:54.033Z"
   },
   {
    "duration": 34,
    "start_time": "2022-01-27T08:28:27.911Z"
   },
   {
    "duration": 12,
    "start_time": "2022-01-27T08:28:51.945Z"
   },
   {
    "duration": 10,
    "start_time": "2022-01-27T08:29:14.650Z"
   },
   {
    "duration": 8,
    "start_time": "2022-01-27T08:29:55.107Z"
   },
   {
    "duration": 8,
    "start_time": "2022-01-27T08:30:17.405Z"
   },
   {
    "duration": 414,
    "start_time": "2022-01-27T08:30:38.969Z"
   },
   {
    "duration": 694,
    "start_time": "2022-01-27T08:30:48.324Z"
   },
   {
    "duration": 437,
    "start_time": "2022-01-27T08:30:53.164Z"
   },
   {
    "duration": 413,
    "start_time": "2022-01-27T08:31:02.131Z"
   },
   {
    "duration": 348,
    "start_time": "2022-01-27T08:31:32.397Z"
   },
   {
    "duration": 319,
    "start_time": "2022-01-27T08:31:45.662Z"
   },
   {
    "duration": 28,
    "start_time": "2022-01-27T08:41:34.237Z"
   },
   {
    "duration": 44,
    "start_time": "2022-01-27T08:42:08.140Z"
   },
   {
    "duration": 32,
    "start_time": "2022-01-27T08:43:53.669Z"
   },
   {
    "duration": 11,
    "start_time": "2022-01-27T08:44:23.146Z"
   },
   {
    "duration": 15,
    "start_time": "2022-01-27T08:44:35.614Z"
   },
   {
    "duration": 111,
    "start_time": "2022-01-27T08:47:48.170Z"
   },
   {
    "duration": 4,
    "start_time": "2022-01-27T08:47:55.990Z"
   },
   {
    "duration": 4,
    "start_time": "2022-01-27T08:49:21.037Z"
   },
   {
    "duration": 8,
    "start_time": "2022-01-27T08:49:25.265Z"
   },
   {
    "duration": 14,
    "start_time": "2022-01-27T08:49:39.956Z"
   },
   {
    "duration": 7,
    "start_time": "2022-01-27T08:49:40.319Z"
   },
   {
    "duration": 15,
    "start_time": "2022-01-27T08:49:50.207Z"
   },
   {
    "duration": 7,
    "start_time": "2022-01-27T08:49:55.634Z"
   },
   {
    "duration": 4,
    "start_time": "2022-01-27T08:51:03.096Z"
   },
   {
    "duration": 4,
    "start_time": "2022-01-27T08:51:14.317Z"
   },
   {
    "duration": 7,
    "start_time": "2022-01-27T08:51:48.527Z"
   },
   {
    "duration": 6,
    "start_time": "2022-01-27T08:52:41.985Z"
   },
   {
    "duration": 15,
    "start_time": "2022-01-27T08:53:39.930Z"
   },
   {
    "duration": 7,
    "start_time": "2022-01-27T08:53:41.523Z"
   },
   {
    "duration": 1124,
    "start_time": "2022-01-27T13:44:52.996Z"
   },
   {
    "duration": 3362,
    "start_time": "2022-01-27T13:44:59.964Z"
   },
   {
    "duration": 1057,
    "start_time": "2022-01-27T13:45:15.630Z"
   },
   {
    "duration": 3,
    "start_time": "2022-01-27T13:45:17.479Z"
   },
   {
    "duration": 692,
    "start_time": "2022-01-27T13:45:18.078Z"
   },
   {
    "duration": 11,
    "start_time": "2022-01-27T13:45:18.772Z"
   },
   {
    "duration": 20,
    "start_time": "2022-01-27T13:45:19.017Z"
   },
   {
    "duration": 6,
    "start_time": "2022-01-27T13:45:19.952Z"
   },
   {
    "duration": 6,
    "start_time": "2022-01-27T13:45:20.223Z"
   },
   {
    "duration": 3,
    "start_time": "2022-01-27T13:45:21.234Z"
   },
   {
    "duration": 19,
    "start_time": "2022-01-27T13:45:21.453Z"
   },
   {
    "duration": 5,
    "start_time": "2022-01-27T13:45:21.883Z"
   },
   {
    "duration": 5,
    "start_time": "2022-01-27T13:45:22.075Z"
   },
   {
    "duration": 30,
    "start_time": "2022-01-27T13:45:22.278Z"
   },
   {
    "duration": 16,
    "start_time": "2022-01-27T13:45:22.632Z"
   },
   {
    "duration": 5,
    "start_time": "2022-01-27T13:45:22.815Z"
   },
   {
    "duration": 41,
    "start_time": "2022-01-27T13:45:23.004Z"
   },
   {
    "duration": 9,
    "start_time": "2022-01-27T13:45:24.078Z"
   },
   {
    "duration": 24,
    "start_time": "2022-01-27T13:45:24.226Z"
   },
   {
    "duration": 3,
    "start_time": "2022-01-27T13:45:24.453Z"
   },
   {
    "duration": 6,
    "start_time": "2022-01-27T13:45:24.923Z"
   },
   {
    "duration": 6,
    "start_time": "2022-01-27T13:45:25.147Z"
   },
   {
    "duration": 8,
    "start_time": "2022-01-27T13:45:25.777Z"
   },
   {
    "duration": 8,
    "start_time": "2022-01-27T13:45:26.401Z"
   },
   {
    "duration": 8,
    "start_time": "2022-01-27T13:45:26.549Z"
   },
   {
    "duration": 8,
    "start_time": "2022-01-27T13:45:27.407Z"
   },
   {
    "duration": 7,
    "start_time": "2022-01-27T13:45:27.684Z"
   },
   {
    "duration": 6,
    "start_time": "2022-01-27T13:45:28.165Z"
   },
   {
    "duration": 29,
    "start_time": "2022-01-27T13:45:32.418Z"
   },
   {
    "duration": 32,
    "start_time": "2022-01-27T13:45:32.763Z"
   },
   {
    "duration": 22,
    "start_time": "2022-01-27T13:45:33.083Z"
   },
   {
    "duration": 9,
    "start_time": "2022-01-27T13:45:35.204Z"
   },
   {
    "duration": 3,
    "start_time": "2022-01-27T13:45:40.069Z"
   },
   {
    "duration": 225,
    "start_time": "2022-01-27T13:45:40.891Z"
   },
   {
    "duration": 13,
    "start_time": "2022-01-27T13:45:52.020Z"
   },
   {
    "duration": 13,
    "start_time": "2022-01-27T13:47:20.254Z"
   },
   {
    "duration": 223,
    "start_time": "2022-01-27T13:47:20.780Z"
   },
   {
    "duration": 358,
    "start_time": "2022-01-27T13:47:25.080Z"
   },
   {
    "duration": 235,
    "start_time": "2022-01-27T13:49:08.105Z"
   },
   {
    "duration": 235,
    "start_time": "2022-01-27T13:49:38.162Z"
   },
   {
    "duration": 433,
    "start_time": "2022-01-27T13:50:01.549Z"
   },
   {
    "duration": 10,
    "start_time": "2022-01-27T13:50:11.914Z"
   },
   {
    "duration": 277,
    "start_time": "2022-01-27T13:50:12.535Z"
   },
   {
    "duration": 286,
    "start_time": "2022-01-27T13:51:09.821Z"
   },
   {
    "duration": 15,
    "start_time": "2022-01-27T13:51:39.532Z"
   },
   {
    "duration": 13,
    "start_time": "2022-01-27T13:52:15.208Z"
   },
   {
    "duration": 19,
    "start_time": "2022-01-27T13:52:19.736Z"
   },
   {
    "duration": 224,
    "start_time": "2022-01-27T13:52:20.169Z"
   },
   {
    "duration": 248,
    "start_time": "2022-01-27T13:52:54.133Z"
   },
   {
    "duration": 264,
    "start_time": "2022-01-27T13:53:06.920Z"
   },
   {
    "duration": 384,
    "start_time": "2022-01-27T13:53:17.739Z"
   },
   {
    "duration": 4,
    "start_time": "2022-01-27T13:53:18.124Z"
   },
   {
    "duration": 3,
    "start_time": "2022-01-27T13:53:18.339Z"
   },
   {
    "duration": 7,
    "start_time": "2022-01-27T13:53:19.538Z"
   },
   {
    "duration": 8,
    "start_time": "2022-01-27T13:53:19.773Z"
   },
   {
    "duration": 458,
    "start_time": "2022-01-27T13:53:31.548Z"
   },
   {
    "duration": 4,
    "start_time": "2022-01-27T13:53:36.373Z"
   },
   {
    "duration": 4,
    "start_time": "2022-01-27T13:53:40.879Z"
   },
   {
    "duration": 442,
    "start_time": "2022-01-27T13:53:45.695Z"
   },
   {
    "duration": 5,
    "start_time": "2022-01-27T13:53:59.561Z"
   },
   {
    "duration": 8,
    "start_time": "2022-01-27T13:53:59.967Z"
   },
   {
    "duration": 355,
    "start_time": "2022-01-27T13:54:00.390Z"
   },
   {
    "duration": 974,
    "start_time": "2022-01-27T13:54:16.219Z"
   },
   {
    "duration": 907,
    "start_time": "2022-01-27T13:54:47.481Z"
   },
   {
    "duration": 1032,
    "start_time": "2022-01-27T13:55:03.019Z"
   },
   {
    "duration": 6,
    "start_time": "2022-01-27T13:55:15.774Z"
   },
   {
    "duration": 854,
    "start_time": "2022-01-27T13:55:25.884Z"
   },
   {
    "duration": 723,
    "start_time": "2022-01-27T13:56:00.206Z"
   },
   {
    "duration": 4,
    "start_time": "2022-01-27T13:56:17.760Z"
   },
   {
    "duration": 4,
    "start_time": "2022-01-27T13:56:36.831Z"
   },
   {
    "duration": 5,
    "start_time": "2022-01-27T13:57:20.885Z"
   },
   {
    "duration": 197,
    "start_time": "2022-01-27T13:57:29.756Z"
   },
   {
    "duration": 4,
    "start_time": "2022-01-27T13:57:31.177Z"
   },
   {
    "duration": 4,
    "start_time": "2022-01-27T13:57:59.473Z"
   },
   {
    "duration": 7,
    "start_time": "2022-01-27T13:58:10.863Z"
   },
   {
    "duration": 5,
    "start_time": "2022-01-27T13:58:13.142Z"
   },
   {
    "duration": 31061,
    "start_time": "2022-01-27T13:58:45.879Z"
   },
   {
    "duration": 15,
    "start_time": "2022-01-27T13:59:52.125Z"
   },
   {
    "duration": 14,
    "start_time": "2022-01-27T13:59:58.400Z"
   },
   {
    "duration": 7,
    "start_time": "2022-01-27T14:00:01.746Z"
   },
   {
    "duration": 8,
    "start_time": "2022-01-27T14:00:01.982Z"
   },
   {
    "duration": 16,
    "start_time": "2022-01-27T14:00:10.971Z"
   },
   {
    "duration": 330,
    "start_time": "2022-01-27T14:00:20.273Z"
   },
   {
    "duration": 321,
    "start_time": "2022-01-27T14:00:25.769Z"
   },
   {
    "duration": 6,
    "start_time": "2022-01-27T14:00:31.206Z"
   },
   {
    "duration": 12,
    "start_time": "2022-01-27T14:00:42.091Z"
   },
   {
    "duration": 2,
    "start_time": "2022-01-27T14:00:42.552Z"
   },
   {
    "duration": 6,
    "start_time": "2022-01-27T14:00:43.042Z"
   },
   {
    "duration": 4,
    "start_time": "2022-01-27T14:00:43.699Z"
   },
   {
    "duration": 10,
    "start_time": "2022-01-27T14:03:10.644Z"
   },
   {
    "duration": 2367,
    "start_time": "2022-01-27T14:03:10.842Z"
   },
   {
    "duration": 8,
    "start_time": "2022-01-27T14:03:25.036Z"
   },
   {
    "duration": 237,
    "start_time": "2022-01-27T14:03:25.271Z"
   },
   {
    "duration": 10,
    "start_time": "2022-01-27T14:04:20.947Z"
   },
   {
    "duration": 5,
    "start_time": "2022-01-27T14:04:22.631Z"
   },
   {
    "duration": 3,
    "start_time": "2022-01-27T14:04:22.906Z"
   },
   {
    "duration": 4,
    "start_time": "2022-01-27T14:04:23.276Z"
   },
   {
    "duration": 237,
    "start_time": "2022-01-27T14:04:23.670Z"
   },
   {
    "duration": 4,
    "start_time": "2022-01-27T14:04:29.375Z"
   },
   {
    "duration": 233,
    "start_time": "2022-01-27T14:04:29.886Z"
   },
   {
    "duration": 5,
    "start_time": "2022-01-27T14:04:39.732Z"
   },
   {
    "duration": 9,
    "start_time": "2022-01-27T14:04:40.083Z"
   },
   {
    "duration": 7,
    "start_time": "2022-01-27T14:04:40.447Z"
   },
   {
    "duration": 346,
    "start_time": "2022-01-27T14:04:49.435Z"
   },
   {
    "duration": 3,
    "start_time": "2022-01-27T14:05:56.438Z"
   },
   {
    "duration": 9,
    "start_time": "2022-01-27T14:05:58.814Z"
   },
   {
    "duration": 5,
    "start_time": "2022-01-27T14:05:59.230Z"
   },
   {
    "duration": 10,
    "start_time": "2022-01-27T14:06:01.039Z"
   },
   {
    "duration": 4,
    "start_time": "2022-01-27T14:06:01.306Z"
   },
   {
    "duration": 8,
    "start_time": "2022-01-27T14:06:03.688Z"
   },
   {
    "duration": 5,
    "start_time": "2022-01-27T14:06:06.111Z"
   },
   {
    "duration": 10,
    "start_time": "2022-01-27T14:06:08.336Z"
   },
   {
    "duration": 5,
    "start_time": "2022-01-27T14:06:08.461Z"
   },
   {
    "duration": 11,
    "start_time": "2022-01-27T14:06:10.542Z"
   },
   {
    "duration": 5,
    "start_time": "2022-01-27T14:06:10.655Z"
   },
   {
    "duration": 1541,
    "start_time": "2022-01-30T10:30:58.125Z"
   },
   {
    "duration": 4804,
    "start_time": "2022-01-30T10:30:59.668Z"
   },
   {
    "duration": 683,
    "start_time": "2022-01-30T10:31:04.476Z"
   },
   {
    "duration": 23,
    "start_time": "2022-01-30T10:31:05.164Z"
   },
   {
    "duration": 31,
    "start_time": "2022-01-30T10:31:05.190Z"
   },
   {
    "duration": 14,
    "start_time": "2022-01-30T10:31:05.248Z"
   },
   {
    "duration": 21,
    "start_time": "2022-01-30T10:31:05.268Z"
   },
   {
    "duration": 6,
    "start_time": "2022-01-30T10:31:05.291Z"
   },
   {
    "duration": 51,
    "start_time": "2022-01-30T10:31:05.301Z"
   },
   {
    "duration": 10,
    "start_time": "2022-01-30T10:31:05.357Z"
   },
   {
    "duration": 14,
    "start_time": "2022-01-30T10:31:05.370Z"
   },
   {
    "duration": 79,
    "start_time": "2022-01-30T10:31:05.387Z"
   },
   {
    "duration": 26,
    "start_time": "2022-01-30T10:31:05.468Z"
   },
   {
    "duration": 50,
    "start_time": "2022-01-30T10:31:05.497Z"
   },
   {
    "duration": 78,
    "start_time": "2022-01-30T10:31:05.551Z"
   },
   {
    "duration": 31,
    "start_time": "2022-01-30T10:31:05.631Z"
   },
   {
    "duration": 25,
    "start_time": "2022-01-30T10:31:05.665Z"
   },
   {
    "duration": 13,
    "start_time": "2022-01-30T10:31:05.693Z"
   },
   {
    "duration": 20,
    "start_time": "2022-01-30T10:31:05.708Z"
   },
   {
    "duration": 23,
    "start_time": "2022-01-30T10:31:05.730Z"
   },
   {
    "duration": 23,
    "start_time": "2022-01-30T10:31:05.760Z"
   },
   {
    "duration": 16,
    "start_time": "2022-01-30T10:31:05.786Z"
   },
   {
    "duration": 46,
    "start_time": "2022-01-30T10:31:05.805Z"
   },
   {
    "duration": 22,
    "start_time": "2022-01-30T10:31:05.855Z"
   },
   {
    "duration": 12,
    "start_time": "2022-01-30T10:31:05.880Z"
   },
   {
    "duration": 9,
    "start_time": "2022-01-30T10:31:05.896Z"
   },
   {
    "duration": 87,
    "start_time": "2022-01-30T10:31:05.914Z"
   },
   {
    "duration": 62,
    "start_time": "2022-01-30T10:31:06.006Z"
   },
   {
    "duration": 40,
    "start_time": "2022-01-30T10:31:06.071Z"
   },
   {
    "duration": 41,
    "start_time": "2022-01-30T10:31:06.114Z"
   },
   {
    "duration": 8,
    "start_time": "2022-01-30T10:31:06.158Z"
   },
   {
    "duration": 474,
    "start_time": "2022-01-30T10:31:06.170Z"
   },
   {
    "duration": 27,
    "start_time": "2022-01-30T10:31:06.650Z"
   },
   {
    "duration": 23,
    "start_time": "2022-01-30T10:31:06.680Z"
   },
   {
    "duration": 508,
    "start_time": "2022-01-30T10:31:06.706Z"
   },
   {
    "duration": 783,
    "start_time": "2022-01-30T10:31:07.217Z"
   },
   {
    "duration": 18,
    "start_time": "2022-01-30T10:31:08.003Z"
   },
   {
    "duration": 599,
    "start_time": "2022-01-30T10:31:08.024Z"
   },
   {
    "duration": 42,
    "start_time": "2022-01-30T10:31:08.626Z"
   },
   {
    "duration": 21,
    "start_time": "2022-01-30T10:31:08.671Z"
   },
   {
    "duration": 19,
    "start_time": "2022-01-30T10:31:08.695Z"
   },
   {
    "duration": 551,
    "start_time": "2022-01-30T10:31:08.717Z"
   },
   {
    "duration": 893,
    "start_time": "2022-01-30T10:31:09.271Z"
   },
   {
    "duration": 4,
    "start_time": "2022-01-30T10:31:10.167Z"
   },
   {
    "duration": 8,
    "start_time": "2022-01-30T10:31:10.173Z"
   },
   {
    "duration": 13,
    "start_time": "2022-01-30T10:31:10.183Z"
   },
   {
    "duration": 119,
    "start_time": "2022-01-30T10:31:10.199Z"
   },
   {
    "duration": 877,
    "start_time": "2022-01-30T10:31:10.321Z"
   },
   {
    "duration": 6,
    "start_time": "2022-01-30T10:31:11.201Z"
   },
   {
    "duration": 853,
    "start_time": "2022-01-30T10:31:11.209Z"
   },
   {
    "duration": 9,
    "start_time": "2022-01-30T10:31:12.064Z"
   },
   {
    "duration": 20,
    "start_time": "2022-01-30T10:31:12.077Z"
   },
   {
    "duration": 682,
    "start_time": "2022-01-30T10:31:12.099Z"
   },
   {
    "duration": 397,
    "start_time": "2022-01-30T10:31:12.783Z"
   },
   {
    "duration": 5,
    "start_time": "2022-01-30T10:31:13.178Z"
   },
   {
    "duration": 1,
    "start_time": "2022-01-30T10:31:13.184Z"
   },
   {
    "duration": -18,
    "start_time": "2022-01-30T10:31:13.205Z"
   },
   {
    "duration": -68,
    "start_time": "2022-01-30T10:31:13.256Z"
   },
   {
    "duration": -92,
    "start_time": "2022-01-30T10:31:13.282Z"
   },
   {
    "duration": -127,
    "start_time": "2022-01-30T10:31:13.318Z"
   },
   {
    "duration": -130,
    "start_time": "2022-01-30T10:31:13.323Z"
   },
   {
    "duration": -137,
    "start_time": "2022-01-30T10:31:13.331Z"
   },
   {
    "duration": -140,
    "start_time": "2022-01-30T10:31:13.336Z"
   },
   {
    "duration": -146,
    "start_time": "2022-01-30T10:31:13.343Z"
   },
   {
    "duration": -149,
    "start_time": "2022-01-30T10:31:13.348Z"
   },
   {
    "duration": -153,
    "start_time": "2022-01-30T10:31:13.353Z"
   },
   {
    "duration": -156,
    "start_time": "2022-01-30T10:31:13.358Z"
   },
   {
    "duration": -159,
    "start_time": "2022-01-30T10:31:13.363Z"
   },
   {
    "duration": -162,
    "start_time": "2022-01-30T10:31:13.368Z"
   },
   {
    "duration": -166,
    "start_time": "2022-01-30T10:31:13.373Z"
   },
   {
    "duration": -169,
    "start_time": "2022-01-30T10:31:13.378Z"
   },
   {
    "duration": -172,
    "start_time": "2022-01-30T10:31:13.383Z"
   },
   {
    "duration": -176,
    "start_time": "2022-01-30T10:31:13.388Z"
   },
   {
    "duration": -179,
    "start_time": "2022-01-30T10:31:13.393Z"
   },
   {
    "duration": -182,
    "start_time": "2022-01-30T10:31:13.397Z"
   },
   {
    "duration": -185,
    "start_time": "2022-01-30T10:31:13.402Z"
   },
   {
    "duration": -187,
    "start_time": "2022-01-30T10:31:13.406Z"
   },
   {
    "duration": -192,
    "start_time": "2022-01-30T10:31:13.412Z"
   },
   {
    "duration": -242,
    "start_time": "2022-01-30T10:31:13.463Z"
   },
   {
    "duration": -246,
    "start_time": "2022-01-30T10:31:13.468Z"
   },
   {
    "duration": -224,
    "start_time": "2022-01-30T10:31:13.473Z"
   },
   {
    "duration": -229,
    "start_time": "2022-01-30T10:31:13.480Z"
   },
   {
    "duration": -233,
    "start_time": "2022-01-30T10:31:13.485Z"
   },
   {
    "duration": -233,
    "start_time": "2022-01-30T10:31:13.490Z"
   },
   {
    "duration": -235,
    "start_time": "2022-01-30T10:31:13.494Z"
   },
   {
    "duration": -238,
    "start_time": "2022-01-30T10:31:13.499Z"
   },
   {
    "duration": -277,
    "start_time": "2022-01-30T10:31:13.540Z"
   },
   {
    "duration": -282,
    "start_time": "2022-01-30T10:31:13.547Z"
   },
   {
    "duration": -283,
    "start_time": "2022-01-30T10:31:13.551Z"
   },
   {
    "duration": -287,
    "start_time": "2022-01-30T10:31:13.557Z"
   },
   {
    "duration": -291,
    "start_time": "2022-01-30T10:31:13.562Z"
   },
   {
    "duration": -294,
    "start_time": "2022-01-30T10:31:13.567Z"
   },
   {
    "duration": -298,
    "start_time": "2022-01-30T10:31:13.572Z"
   },
   {
    "duration": -301,
    "start_time": "2022-01-30T10:31:13.577Z"
   },
   {
    "duration": -305,
    "start_time": "2022-01-30T10:31:13.582Z"
   },
   {
    "duration": -311,
    "start_time": "2022-01-30T10:31:13.590Z"
   },
   {
    "duration": -314,
    "start_time": "2022-01-30T10:31:13.595Z"
   },
   {
    "duration": -320,
    "start_time": "2022-01-30T10:31:13.602Z"
   },
   {
    "duration": 1584,
    "start_time": "2022-01-30T10:31:17.818Z"
   },
   {
    "duration": 3,
    "start_time": "2022-01-30T10:31:19.405Z"
   },
   {
    "duration": 620,
    "start_time": "2022-01-30T10:31:19.411Z"
   },
   {
    "duration": 29,
    "start_time": "2022-01-30T10:31:20.034Z"
   },
   {
    "duration": 32,
    "start_time": "2022-01-30T10:31:20.067Z"
   },
   {
    "duration": 9,
    "start_time": "2022-01-30T10:31:20.101Z"
   },
   {
    "duration": 38,
    "start_time": "2022-01-30T10:31:20.112Z"
   },
   {
    "duration": 5,
    "start_time": "2022-01-30T10:31:20.153Z"
   },
   {
    "duration": 37,
    "start_time": "2022-01-30T10:31:20.167Z"
   },
   {
    "duration": 6,
    "start_time": "2022-01-30T10:31:20.207Z"
   },
   {
    "duration": 34,
    "start_time": "2022-01-30T10:31:20.216Z"
   },
   {
    "duration": 51,
    "start_time": "2022-01-30T10:31:20.253Z"
   },
   {
    "duration": 42,
    "start_time": "2022-01-30T10:31:20.306Z"
   },
   {
    "duration": 9,
    "start_time": "2022-01-30T10:31:20.352Z"
   },
   {
    "duration": 65,
    "start_time": "2022-01-30T10:31:20.364Z"
   },
   {
    "duration": 20,
    "start_time": "2022-01-30T10:31:20.450Z"
   },
   {
    "duration": 31,
    "start_time": "2022-01-30T10:31:20.472Z"
   },
   {
    "duration": 3,
    "start_time": "2022-01-30T10:31:20.505Z"
   },
   {
    "duration": 9,
    "start_time": "2022-01-30T10:31:20.511Z"
   },
   {
    "duration": 12,
    "start_time": "2022-01-30T10:31:20.549Z"
   },
   {
    "duration": 23,
    "start_time": "2022-01-30T10:31:20.564Z"
   },
   {
    "duration": 15,
    "start_time": "2022-01-30T10:31:20.590Z"
   },
   {
    "duration": 17,
    "start_time": "2022-01-30T10:31:20.608Z"
   },
   {
    "duration": 20,
    "start_time": "2022-01-30T10:31:20.650Z"
   },
   {
    "duration": 14,
    "start_time": "2022-01-30T10:31:20.672Z"
   },
   {
    "duration": 16,
    "start_time": "2022-01-30T10:31:20.689Z"
   },
   {
    "duration": 76,
    "start_time": "2022-01-30T10:31:20.712Z"
   },
   {
    "duration": 64,
    "start_time": "2022-01-30T10:31:20.793Z"
   },
   {
    "duration": 41,
    "start_time": "2022-01-30T10:31:20.861Z"
   },
   {
    "duration": 16,
    "start_time": "2022-01-30T10:31:20.904Z"
   },
   {
    "duration": 29,
    "start_time": "2022-01-30T10:31:20.923Z"
   },
   {
    "duration": 488,
    "start_time": "2022-01-30T10:31:20.955Z"
   },
   {
    "duration": 26,
    "start_time": "2022-01-30T10:31:21.449Z"
   },
   {
    "duration": 21,
    "start_time": "2022-01-30T10:31:21.478Z"
   },
   {
    "duration": 485,
    "start_time": "2022-01-30T10:31:21.502Z"
   },
   {
    "duration": 755,
    "start_time": "2022-01-30T10:31:21.989Z"
   },
   {
    "duration": 19,
    "start_time": "2022-01-30T10:31:22.746Z"
   },
   {
    "duration": 602,
    "start_time": "2022-01-30T10:31:22.769Z"
   },
   {
    "duration": 26,
    "start_time": "2022-01-30T10:31:23.374Z"
   },
   {
    "duration": 20,
    "start_time": "2022-01-30T10:31:23.402Z"
   },
   {
    "duration": 26,
    "start_time": "2022-01-30T10:31:23.449Z"
   },
   {
    "duration": 538,
    "start_time": "2022-01-30T10:31:23.477Z"
   },
   {
    "duration": 926,
    "start_time": "2022-01-30T10:31:24.017Z"
   },
   {
    "duration": 8,
    "start_time": "2022-01-30T10:31:24.948Z"
   },
   {
    "duration": 17,
    "start_time": "2022-01-30T10:31:24.959Z"
   },
   {
    "duration": 28,
    "start_time": "2022-01-30T10:31:24.978Z"
   },
   {
    "duration": 20,
    "start_time": "2022-01-30T10:31:25.008Z"
   },
   {
    "duration": 1093,
    "start_time": "2022-01-30T10:31:25.030Z"
   },
   {
    "duration": 5,
    "start_time": "2022-01-30T10:31:26.126Z"
   },
   {
    "duration": 904,
    "start_time": "2022-01-30T10:31:26.151Z"
   },
   {
    "duration": 13,
    "start_time": "2022-01-30T10:31:27.058Z"
   },
   {
    "duration": 28,
    "start_time": "2022-01-30T10:31:27.074Z"
   },
   {
    "duration": 696,
    "start_time": "2022-01-30T10:31:27.105Z"
   },
   {
    "duration": 1868,
    "start_time": "2022-01-30T10:31:27.804Z"
   },
   {
    "duration": 11,
    "start_time": "2022-01-30T10:31:29.676Z"
   },
   {
    "duration": 1412,
    "start_time": "2022-01-30T10:31:29.689Z"
   },
   {
    "duration": 6,
    "start_time": "2022-01-30T10:31:31.104Z"
   },
   {
    "duration": 12,
    "start_time": "2022-01-30T10:31:31.112Z"
   },
   {
    "duration": 26,
    "start_time": "2022-01-30T10:31:31.127Z"
   },
   {
    "duration": 20,
    "start_time": "2022-01-30T10:31:31.157Z"
   },
   {
    "duration": 60020,
    "start_time": "2022-01-30T10:31:31.180Z"
   },
   {
    "duration": 23,
    "start_time": "2022-01-30T10:32:31.203Z"
   },
   {
    "duration": 48,
    "start_time": "2022-01-30T10:32:31.229Z"
   },
   {
    "duration": 9,
    "start_time": "2022-01-30T10:32:31.279Z"
   },
   {
    "duration": 29,
    "start_time": "2022-01-30T10:32:31.291Z"
   },
   {
    "duration": 50,
    "start_time": "2022-01-30T10:32:31.323Z"
   },
   {
    "duration": 628,
    "start_time": "2022-01-30T10:32:31.375Z"
   },
   {
    "duration": 10,
    "start_time": "2022-01-30T10:32:32.006Z"
   },
   {
    "duration": 48,
    "start_time": "2022-01-30T10:32:32.018Z"
   },
   {
    "duration": 5,
    "start_time": "2022-01-30T10:32:32.069Z"
   },
   {
    "duration": 11,
    "start_time": "2022-01-30T10:32:32.078Z"
   },
   {
    "duration": 10,
    "start_time": "2022-01-30T10:32:32.092Z"
   },
   {
    "duration": 51,
    "start_time": "2022-01-30T10:32:32.104Z"
   },
   {
    "duration": 701,
    "start_time": "2022-01-30T10:32:32.158Z"
   },
   {
    "duration": 15,
    "start_time": "2022-01-30T10:32:32.862Z"
   },
   {
    "duration": 508,
    "start_time": "2022-01-30T10:32:32.880Z"
   },
   {
    "duration": 15,
    "start_time": "2022-01-30T10:32:33.391Z"
   },
   {
    "duration": 8,
    "start_time": "2022-01-30T10:32:33.409Z"
   },
   {
    "duration": 33,
    "start_time": "2022-01-30T10:32:33.419Z"
   },
   {
    "duration": 11,
    "start_time": "2022-01-30T10:32:33.456Z"
   },
   {
    "duration": 2897,
    "start_time": "2022-01-30T10:32:33.476Z"
   },
   {
    "duration": 6,
    "start_time": "2022-01-30T10:32:36.376Z"
   },
   {
    "duration": 471,
    "start_time": "2022-01-30T10:32:36.384Z"
   },
   {
    "duration": 10,
    "start_time": "2022-01-30T10:32:36.859Z"
   },
   {
    "duration": 17,
    "start_time": "2022-01-30T10:32:36.872Z"
   },
   {
    "duration": 10,
    "start_time": "2022-01-30T10:32:36.891Z"
   },
   {
    "duration": 512,
    "start_time": "2022-01-30T10:32:36.904Z"
   },
   {
    "duration": 6,
    "start_time": "2022-01-30T10:32:37.419Z"
   },
   {
    "duration": 39,
    "start_time": "2022-01-30T10:32:37.427Z"
   },
   {
    "duration": 10,
    "start_time": "2022-01-30T10:32:37.470Z"
   },
   {
    "duration": 19,
    "start_time": "2022-01-30T10:32:37.483Z"
   },
   {
    "duration": 46,
    "start_time": "2022-01-30T10:32:37.505Z"
   },
   {
    "duration": 13,
    "start_time": "2022-01-30T10:32:37.554Z"
   },
   {
    "duration": 18,
    "start_time": "2022-01-30T10:32:37.570Z"
   },
   {
    "duration": 27,
    "start_time": "2022-01-30T10:32:37.591Z"
   },
   {
    "duration": 31,
    "start_time": "2022-01-30T10:32:37.620Z"
   },
   {
    "duration": 21,
    "start_time": "2022-01-30T10:32:37.655Z"
   },
   {
    "duration": 11,
    "start_time": "2022-01-30T10:32:37.679Z"
   },
   {
    "duration": 487,
    "start_time": "2022-01-30T10:41:40.334Z"
   },
   {
    "duration": 551,
    "start_time": "2022-01-30T10:42:02.910Z"
   },
   {
    "duration": 534,
    "start_time": "2022-01-30T10:42:18.199Z"
   },
   {
    "duration": 502,
    "start_time": "2022-01-30T10:42:26.074Z"
   },
   {
    "duration": 521,
    "start_time": "2022-01-30T10:42:34.565Z"
   },
   {
    "duration": 838,
    "start_time": "2022-01-30T10:43:29.129Z"
   },
   {
    "duration": 921,
    "start_time": "2022-01-30T10:43:41.135Z"
   },
   {
    "duration": 12,
    "start_time": "2022-01-30T10:46:04.164Z"
   },
   {
    "duration": 928,
    "start_time": "2022-01-30T10:48:49.643Z"
   },
   {
    "duration": 1049,
    "start_time": "2022-01-30T10:51:03.206Z"
   },
   {
    "duration": 1470,
    "start_time": "2022-01-30T10:52:44.396Z"
   },
   {
    "duration": 732,
    "start_time": "2022-01-30T10:53:06.846Z"
   },
   {
    "duration": 657,
    "start_time": "2022-01-30T10:53:19.657Z"
   },
   {
    "duration": 524,
    "start_time": "2022-01-30T10:57:43.004Z"
   },
   {
    "duration": 522,
    "start_time": "2022-01-30T10:57:45.957Z"
   },
   {
    "duration": 484,
    "start_time": "2022-01-30T10:57:51.648Z"
   },
   {
    "duration": 1605,
    "start_time": "2022-01-30T11:20:52.576Z"
   },
   {
    "duration": 4080,
    "start_time": "2022-01-30T11:20:54.780Z"
   },
   {
    "duration": 1604,
    "start_time": "2022-01-30T11:21:08.555Z"
   },
   {
    "duration": 4,
    "start_time": "2022-01-30T11:21:10.163Z"
   },
   {
    "duration": 733,
    "start_time": "2022-01-30T11:21:10.170Z"
   },
   {
    "duration": 26,
    "start_time": "2022-01-30T11:21:10.907Z"
   },
   {
    "duration": 39,
    "start_time": "2022-01-30T11:21:10.948Z"
   },
   {
    "duration": 10,
    "start_time": "2022-01-30T11:21:10.990Z"
   },
   {
    "duration": 10,
    "start_time": "2022-01-30T11:21:11.002Z"
   },
   {
    "duration": 12,
    "start_time": "2022-01-30T11:21:11.052Z"
   },
   {
    "duration": 32,
    "start_time": "2022-01-30T11:21:11.069Z"
   },
   {
    "duration": 8,
    "start_time": "2022-01-30T11:21:11.104Z"
   },
   {
    "duration": 40,
    "start_time": "2022-01-30T11:21:11.115Z"
   },
   {
    "duration": 50,
    "start_time": "2022-01-30T11:21:11.162Z"
   },
   {
    "duration": 38,
    "start_time": "2022-01-30T11:21:11.215Z"
   },
   {
    "duration": 10,
    "start_time": "2022-01-30T11:21:11.256Z"
   },
   {
    "duration": 90,
    "start_time": "2022-01-30T11:21:11.269Z"
   },
   {
    "duration": 16,
    "start_time": "2022-01-30T11:21:11.363Z"
   },
   {
    "duration": 30,
    "start_time": "2022-01-30T11:21:11.381Z"
   },
   {
    "duration": 4,
    "start_time": "2022-01-30T11:21:11.413Z"
   },
   {
    "duration": 45,
    "start_time": "2022-01-30T11:21:11.419Z"
   },
   {
    "duration": 8,
    "start_time": "2022-01-30T11:21:11.468Z"
   },
   {
    "duration": 14,
    "start_time": "2022-01-30T11:21:11.479Z"
   },
   {
    "duration": 14,
    "start_time": "2022-01-30T11:21:11.496Z"
   },
   {
    "duration": 54,
    "start_time": "2022-01-30T11:21:11.516Z"
   },
   {
    "duration": 14,
    "start_time": "2022-01-30T11:21:11.575Z"
   },
   {
    "duration": 12,
    "start_time": "2022-01-30T11:21:11.593Z"
   },
   {
    "duration": 58,
    "start_time": "2022-01-30T11:21:11.608Z"
   },
   {
    "duration": 56,
    "start_time": "2022-01-30T11:21:11.669Z"
   },
   {
    "duration": 84,
    "start_time": "2022-01-30T11:21:11.728Z"
   },
   {
    "duration": 57,
    "start_time": "2022-01-30T11:21:11.815Z"
   },
   {
    "duration": 15,
    "start_time": "2022-01-30T11:21:11.875Z"
   },
   {
    "duration": 4,
    "start_time": "2022-01-30T11:21:11.893Z"
   },
   {
    "duration": 524,
    "start_time": "2022-01-30T11:21:11.900Z"
   },
   {
    "duration": 34,
    "start_time": "2022-01-30T11:21:12.426Z"
   },
   {
    "duration": 25,
    "start_time": "2022-01-30T11:21:12.464Z"
   },
   {
    "duration": 688,
    "start_time": "2022-01-30T11:21:12.492Z"
   },
   {
    "duration": 1075,
    "start_time": "2022-01-30T11:21:13.189Z"
   },
   {
    "duration": 16,
    "start_time": "2022-01-30T11:21:14.267Z"
   },
   {
    "duration": 603,
    "start_time": "2022-01-30T11:21:14.286Z"
   },
   {
    "duration": 25,
    "start_time": "2022-01-30T11:21:14.892Z"
   },
   {
    "duration": 47,
    "start_time": "2022-01-30T11:21:14.920Z"
   },
   {
    "duration": 24,
    "start_time": "2022-01-30T11:21:14.970Z"
   },
   {
    "duration": 607,
    "start_time": "2022-01-30T11:21:14.997Z"
   },
   {
    "duration": 918,
    "start_time": "2022-01-30T11:21:15.608Z"
   },
   {
    "duration": 4,
    "start_time": "2022-01-30T11:21:16.529Z"
   },
   {
    "duration": 6,
    "start_time": "2022-01-30T11:21:16.554Z"
   },
   {
    "duration": 14,
    "start_time": "2022-01-30T11:21:16.563Z"
   },
   {
    "duration": 13,
    "start_time": "2022-01-30T11:21:16.580Z"
   },
   {
    "duration": 1037,
    "start_time": "2022-01-30T11:21:16.596Z"
   },
   {
    "duration": 13,
    "start_time": "2022-01-30T11:21:17.636Z"
   },
   {
    "duration": 933,
    "start_time": "2022-01-30T11:21:17.652Z"
   },
   {
    "duration": 8,
    "start_time": "2022-01-30T11:21:18.588Z"
   },
   {
    "duration": 29,
    "start_time": "2022-01-30T11:21:18.598Z"
   },
   {
    "duration": 742,
    "start_time": "2022-01-30T11:21:18.629Z"
   },
   {
    "duration": 2699,
    "start_time": "2022-01-30T11:21:19.374Z"
   },
   {
    "duration": 13,
    "start_time": "2022-01-30T11:21:22.077Z"
   },
   {
    "duration": 2012,
    "start_time": "2022-01-30T11:21:22.092Z"
   },
   {
    "duration": 6,
    "start_time": "2022-01-30T11:21:24.107Z"
   },
   {
    "duration": 5,
    "start_time": "2022-01-30T11:21:24.115Z"
   },
   {
    "duration": 17,
    "start_time": "2022-01-30T11:21:24.149Z"
   },
   {
    "duration": 10,
    "start_time": "2022-01-30T11:21:24.169Z"
   },
   {
    "duration": 61158,
    "start_time": "2022-01-30T11:21:24.181Z"
   },
   {
    "duration": 34,
    "start_time": "2022-01-30T11:22:25.348Z"
   },
   {
    "duration": 27,
    "start_time": "2022-01-30T11:22:25.385Z"
   },
   {
    "duration": 50,
    "start_time": "2022-01-30T11:22:25.415Z"
   },
   {
    "duration": 23,
    "start_time": "2022-01-30T11:22:25.469Z"
   },
   {
    "duration": 30,
    "start_time": "2022-01-30T11:22:25.495Z"
   },
   {
    "duration": 976,
    "start_time": "2022-01-30T11:22:25.528Z"
   },
   {
    "duration": 9,
    "start_time": "2022-01-30T11:22:26.514Z"
   },
   {
    "duration": 52,
    "start_time": "2022-01-30T11:22:26.526Z"
   },
   {
    "duration": 4,
    "start_time": "2022-01-30T11:22:26.581Z"
   },
   {
    "duration": 13,
    "start_time": "2022-01-30T11:22:26.588Z"
   },
   {
    "duration": 6,
    "start_time": "2022-01-30T11:22:26.604Z"
   },
   {
    "duration": 59,
    "start_time": "2022-01-30T11:22:26.613Z"
   },
   {
    "duration": 561,
    "start_time": "2022-01-30T11:22:26.678Z"
   },
   {
    "duration": 17,
    "start_time": "2022-01-30T11:22:27.254Z"
   },
   {
    "duration": 523,
    "start_time": "2022-01-30T11:22:27.273Z"
   },
   {
    "duration": 20,
    "start_time": "2022-01-30T11:22:27.800Z"
   },
   {
    "duration": 32,
    "start_time": "2022-01-30T11:22:27.823Z"
   },
   {
    "duration": 20,
    "start_time": "2022-01-30T11:22:27.859Z"
   },
   {
    "duration": 7,
    "start_time": "2022-01-30T11:22:27.882Z"
   },
   {
    "duration": 2835,
    "start_time": "2022-01-30T11:22:27.892Z"
   },
   {
    "duration": 21,
    "start_time": "2022-01-30T11:22:30.730Z"
   },
   {
    "duration": 515,
    "start_time": "2022-01-30T11:22:30.754Z"
   },
   {
    "duration": 11,
    "start_time": "2022-01-30T11:22:31.273Z"
   },
   {
    "duration": 20,
    "start_time": "2022-01-30T11:22:31.287Z"
   },
   {
    "duration": 18,
    "start_time": "2022-01-30T11:22:31.310Z"
   },
   {
    "duration": 543,
    "start_time": "2022-01-30T11:22:31.347Z"
   },
   {
    "duration": 7,
    "start_time": "2022-01-30T11:22:31.893Z"
   },
   {
    "duration": 21,
    "start_time": "2022-01-30T11:22:31.902Z"
   },
   {
    "duration": 28,
    "start_time": "2022-01-30T11:22:31.928Z"
   },
   {
    "duration": 27,
    "start_time": "2022-01-30T11:22:31.959Z"
   },
   {
    "duration": 6,
    "start_time": "2022-01-30T11:22:31.989Z"
   },
   {
    "duration": 15,
    "start_time": "2022-01-30T11:22:31.998Z"
   },
   {
    "duration": 36,
    "start_time": "2022-01-30T11:22:32.016Z"
   },
   {
    "duration": 22,
    "start_time": "2022-01-30T11:22:32.064Z"
   },
   {
    "duration": 9,
    "start_time": "2022-01-30T11:22:32.090Z"
   },
   {
    "duration": 55,
    "start_time": "2022-01-30T11:22:32.102Z"
   },
   {
    "duration": 14,
    "start_time": "2022-01-30T11:22:32.160Z"
   },
   {
    "duration": 1513,
    "start_time": "2022-02-02T06:28:44.310Z"
   },
   {
    "duration": 5511,
    "start_time": "2022-02-02T06:28:47.931Z"
   },
   {
    "duration": 5455,
    "start_time": "2022-02-02T06:29:34.202Z"
   },
   {
    "duration": 12829,
    "start_time": "2022-02-02T06:30:46.444Z"
   },
   {
    "duration": 5466,
    "start_time": "2022-02-02T06:31:15.209Z"
   },
   {
    "duration": 2494,
    "start_time": "2022-02-02T10:09:45.237Z"
   },
   {
    "duration": 318,
    "start_time": "2022-02-02T10:13:24.095Z"
   },
   {
    "duration": 2726,
    "start_time": "2022-02-02T10:15:24.755Z"
   },
   {
    "duration": 146,
    "start_time": "2022-02-02T10:16:16.790Z"
   },
   {
    "duration": 3182,
    "start_time": "2022-02-02T10:17:01.050Z"
   },
   {
    "duration": 6109,
    "start_time": "2022-02-02T10:18:05.708Z"
   },
   {
    "duration": 318,
    "start_time": "2022-02-02T10:18:43.750Z"
   },
   {
    "duration": 166,
    "start_time": "2022-02-02T10:19:17.674Z"
   },
   {
    "duration": 12,
    "start_time": "2022-02-02T10:19:21.803Z"
   },
   {
    "duration": 42375,
    "start_time": "2022-02-02T10:28:40.015Z"
   },
   {
    "duration": 5,
    "start_time": "2022-02-02T10:29:24.986Z"
   },
   {
    "duration": 3,
    "start_time": "2022-02-02T10:29:25.621Z"
   },
   {
    "duration": 47569,
    "start_time": "2022-02-02T10:29:26.469Z"
   },
   {
    "duration": -952,
    "start_time": "2022-02-02T10:38:02.661Z"
   },
   {
    "duration": 4,
    "start_time": "2022-02-02T10:38:06.127Z"
   },
   {
    "duration": 3,
    "start_time": "2022-02-02T10:38:10.681Z"
   },
   {
    "duration": 2,
    "start_time": "2022-02-02T10:38:11.161Z"
   },
   {
    "duration": 123997,
    "start_time": "2022-02-02T10:38:11.940Z"
   },
   {
    "duration": -1018,
    "start_time": "2022-02-02T10:40:16.957Z"
   },
   {
    "duration": 1124,
    "start_time": "2022-02-02T10:40:21.649Z"
   },
   {
    "duration": 1106,
    "start_time": "2022-02-02T10:40:30.708Z"
   },
   {
    "duration": 1126,
    "start_time": "2022-02-02T12:36:41.910Z"
   },
   {
    "duration": 1181,
    "start_time": "2022-02-02T12:36:46.360Z"
   },
   {
    "duration": 12,
    "start_time": "2022-02-02T12:36:55.001Z"
   },
   {
    "duration": 3376,
    "start_time": "2022-02-02T12:36:58.342Z"
   },
   {
    "duration": 1049,
    "start_time": "2022-02-02T12:37:10.662Z"
   },
   {
    "duration": 3,
    "start_time": "2022-02-02T12:37:11.712Z"
   },
   {
    "duration": 520,
    "start_time": "2022-02-02T12:37:11.717Z"
   },
   {
    "duration": 11,
    "start_time": "2022-02-02T12:37:12.239Z"
   },
   {
    "duration": 20,
    "start_time": "2022-02-02T12:37:12.252Z"
   },
   {
    "duration": 6,
    "start_time": "2022-02-02T12:37:12.274Z"
   },
   {
    "duration": 6,
    "start_time": "2022-02-02T12:37:12.282Z"
   },
   {
    "duration": 2,
    "start_time": "2022-02-02T12:37:12.291Z"
   },
   {
    "duration": 50,
    "start_time": "2022-02-02T12:37:12.295Z"
   },
   {
    "duration": 5,
    "start_time": "2022-02-02T12:37:12.346Z"
   },
   {
    "duration": 4,
    "start_time": "2022-02-02T12:37:12.352Z"
   },
   {
    "duration": 30,
    "start_time": "2022-02-02T12:37:12.358Z"
   },
   {
    "duration": 12,
    "start_time": "2022-02-02T12:37:12.390Z"
   },
   {
    "duration": 32,
    "start_time": "2022-02-02T12:37:12.403Z"
   },
   {
    "duration": 41,
    "start_time": "2022-02-02T12:37:12.436Z"
   },
   {
    "duration": 8,
    "start_time": "2022-02-02T12:37:12.479Z"
   },
   {
    "duration": 16,
    "start_time": "2022-02-02T12:37:12.489Z"
   },
   {
    "duration": 2,
    "start_time": "2022-02-02T12:37:12.507Z"
   },
   {
    "duration": 26,
    "start_time": "2022-02-02T12:37:12.510Z"
   },
   {
    "duration": 10,
    "start_time": "2022-02-02T12:37:12.538Z"
   },
   {
    "duration": 8,
    "start_time": "2022-02-02T12:37:12.550Z"
   },
   {
    "duration": 10,
    "start_time": "2022-02-02T12:37:12.559Z"
   },
   {
    "duration": 7,
    "start_time": "2022-02-02T12:37:12.572Z"
   },
   {
    "duration": 8,
    "start_time": "2022-02-02T12:37:12.582Z"
   },
   {
    "duration": 6,
    "start_time": "2022-02-02T12:37:12.592Z"
   },
   {
    "duration": 8,
    "start_time": "2022-02-02T12:37:12.632Z"
   },
   {
    "duration": 30,
    "start_time": "2022-02-02T12:37:12.642Z"
   },
   {
    "duration": 33,
    "start_time": "2022-02-02T12:37:12.673Z"
   },
   {
    "duration": 45,
    "start_time": "2022-02-02T12:37:12.707Z"
   },
   {
    "duration": 11,
    "start_time": "2022-02-02T12:37:12.754Z"
   },
   {
    "duration": 3,
    "start_time": "2022-02-02T12:37:12.766Z"
   },
   {
    "duration": 286,
    "start_time": "2022-02-02T12:37:12.770Z"
   },
   {
    "duration": 13,
    "start_time": "2022-02-02T12:37:13.058Z"
   },
   {
    "duration": 14,
    "start_time": "2022-02-02T12:37:13.073Z"
   },
   {
    "duration": 272,
    "start_time": "2022-02-02T12:37:13.088Z"
   },
   {
    "duration": 401,
    "start_time": "2022-02-02T12:37:13.362Z"
   },
   {
    "duration": 12,
    "start_time": "2022-02-02T12:37:13.765Z"
   },
   {
    "duration": 322,
    "start_time": "2022-02-02T12:37:13.778Z"
   },
   {
    "duration": 31,
    "start_time": "2022-02-02T12:37:14.102Z"
   },
   {
    "duration": 17,
    "start_time": "2022-02-02T12:37:14.135Z"
   },
   {
    "duration": 15,
    "start_time": "2022-02-02T12:37:14.154Z"
   },
   {
    "duration": 342,
    "start_time": "2022-02-02T12:37:14.171Z"
   },
   {
    "duration": 420,
    "start_time": "2022-02-02T12:37:14.515Z"
   },
   {
    "duration": 4,
    "start_time": "2022-02-02T12:37:14.938Z"
   },
   {
    "duration": 4,
    "start_time": "2022-02-02T12:37:14.944Z"
   },
   {
    "duration": 10,
    "start_time": "2022-02-02T12:37:14.950Z"
   },
   {
    "duration": 7,
    "start_time": "2022-02-02T12:37:14.962Z"
   },
   {
    "duration": 546,
    "start_time": "2022-02-02T12:37:14.971Z"
   },
   {
    "duration": 7,
    "start_time": "2022-02-02T12:37:15.527Z"
   },
   {
    "duration": 471,
    "start_time": "2022-02-02T12:37:15.536Z"
   },
   {
    "duration": 4,
    "start_time": "2022-02-02T12:37:16.009Z"
   },
   {
    "duration": 20,
    "start_time": "2022-02-02T12:37:16.015Z"
   },
   {
    "duration": 381,
    "start_time": "2022-02-02T12:37:16.037Z"
   },
   {
    "duration": 980,
    "start_time": "2022-02-02T12:37:16.419Z"
   },
   {
    "duration": 6,
    "start_time": "2022-02-02T12:37:17.401Z"
   },
   {
    "duration": 843,
    "start_time": "2022-02-02T12:37:17.409Z"
   },
   {
    "duration": 5,
    "start_time": "2022-02-02T12:37:18.254Z"
   },
   {
    "duration": 9,
    "start_time": "2022-02-02T12:37:18.260Z"
   },
   {
    "duration": 9,
    "start_time": "2022-02-02T12:37:18.271Z"
   },
   {
    "duration": 5,
    "start_time": "2022-02-02T12:37:18.282Z"
   },
   {
    "duration": 33040,
    "start_time": "2022-02-02T12:37:18.289Z"
   },
   {
    "duration": 16,
    "start_time": "2022-02-02T12:37:51.332Z"
   },
   {
    "duration": 13,
    "start_time": "2022-02-02T12:37:51.350Z"
   },
   {
    "duration": 6,
    "start_time": "2022-02-02T12:37:51.365Z"
   },
   {
    "duration": 6,
    "start_time": "2022-02-02T12:37:51.373Z"
   },
   {
    "duration": 51,
    "start_time": "2022-02-02T12:37:51.380Z"
   },
   {
    "duration": 352,
    "start_time": "2022-02-02T12:37:51.434Z"
   },
   {
    "duration": 6,
    "start_time": "2022-02-02T12:37:51.791Z"
   },
   {
    "duration": 16,
    "start_time": "2022-02-02T12:37:51.799Z"
   },
   {
    "duration": 2,
    "start_time": "2022-02-02T12:37:51.817Z"
   },
   {
    "duration": 19,
    "start_time": "2022-02-02T12:37:51.820Z"
   },
   {
    "duration": 5,
    "start_time": "2022-02-02T12:37:51.841Z"
   },
   {
    "duration": 11,
    "start_time": "2022-02-02T12:37:51.848Z"
   },
   {
    "duration": 282,
    "start_time": "2022-02-02T12:37:51.861Z"
   },
   {
    "duration": 8,
    "start_time": "2022-02-02T12:37:52.144Z"
   },
   {
    "duration": 277,
    "start_time": "2022-02-02T12:37:52.154Z"
   },
   {
    "duration": 13,
    "start_time": "2022-02-02T12:37:52.433Z"
   },
   {
    "duration": 6,
    "start_time": "2022-02-02T12:37:52.448Z"
   },
   {
    "duration": 6,
    "start_time": "2022-02-02T12:37:52.455Z"
   },
   {
    "duration": 5,
    "start_time": "2022-02-02T12:37:52.462Z"
   },
   {
    "duration": 2250,
    "start_time": "2022-02-02T12:37:52.468Z"
   },
   {
    "duration": 10,
    "start_time": "2022-02-02T12:37:54.720Z"
   },
   {
    "duration": 270,
    "start_time": "2022-02-02T12:37:54.732Z"
   },
   {
    "duration": 5,
    "start_time": "2022-02-02T12:37:55.004Z"
   },
   {
    "duration": 21,
    "start_time": "2022-02-02T12:37:55.010Z"
   },
   {
    "duration": 13,
    "start_time": "2022-02-02T12:37:55.034Z"
   },
   {
    "duration": 278,
    "start_time": "2022-02-02T12:37:55.049Z"
   },
   {
    "duration": 5,
    "start_time": "2022-02-02T12:37:55.329Z"
   },
   {
    "duration": 17,
    "start_time": "2022-02-02T12:37:55.336Z"
   },
   {
    "duration": 4,
    "start_time": "2022-02-02T12:37:55.354Z"
   },
   {
    "duration": 11,
    "start_time": "2022-02-02T12:37:55.359Z"
   },
   {
    "duration": 4,
    "start_time": "2022-02-02T12:37:55.371Z"
   },
   {
    "duration": 7,
    "start_time": "2022-02-02T12:37:55.376Z"
   },
   {
    "duration": 6,
    "start_time": "2022-02-02T12:37:55.385Z"
   },
   {
    "duration": 9,
    "start_time": "2022-02-02T12:37:55.392Z"
   },
   {
    "duration": 5,
    "start_time": "2022-02-02T12:37:55.435Z"
   },
   {
    "duration": 11,
    "start_time": "2022-02-02T12:37:55.442Z"
   },
   {
    "duration": 3,
    "start_time": "2022-02-02T12:37:55.455Z"
   }
  ],
  "kernelspec": {
   "display_name": "Python 3 (ipykernel)",
   "language": "python",
   "name": "python3"
  },
  "language_info": {
   "codemirror_mode": {
    "name": "ipython",
    "version": 3
   },
   "file_extension": ".py",
   "mimetype": "text/x-python",
   "name": "python",
   "nbconvert_exporter": "python",
   "pygments_lexer": "ipython3",
   "version": "3.9.7"
  },
  "toc": {
   "base_numbering": 1,
   "nav_menu": {},
   "number_sections": true,
   "sideBar": true,
   "skip_h1_title": true,
   "title_cell": "Table of Contents",
   "title_sidebar": "Contents",
   "toc_cell": false,
   "toc_position": {},
   "toc_section_display": true,
   "toc_window_display": false
  }
 },
 "nbformat": 4,
 "nbformat_minor": 2
}
