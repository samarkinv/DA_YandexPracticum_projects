{
 "cells": [
  {
   "cell_type": "markdown",
   "metadata": {},
   "source": [
    "# Анализ поведения пользователей мобильного приложения <br> для покупки продуктов питания"
   ]
  },
  {
   "cell_type": "markdown",
   "metadata": {},
   "source": [
    "## 1. Обзор данных"
   ]
  },
  {
   "cell_type": "markdown",
   "metadata": {},
   "source": [
    "**Импорты**"
   ]
  },
  {
   "cell_type": "code",
   "execution_count": 1,
   "metadata": {},
   "outputs": [],
   "source": [
    "import pandas as pd\n",
    "import datetime\n",
    "import math\n",
    "\n",
    "from plotly import graph_objects as go\n",
    "import plotly.express as px\n",
    "\n",
    "from scipy import stats as st\n",
    "from statsmodels.stats.proportion import proportions_ztest\n",
    "\n",
    "import plotly.io as pio\n",
    "pio.renderers.default = \"png\""
   ]
  },
  {
   "cell_type": "markdown",
   "metadata": {},
   "source": [
    "**Апдейты**"
   ]
  },
  {
   "cell_type": "code",
   "execution_count": 2,
   "metadata": {},
   "outputs": [],
   "source": [
    "#!pip install plotly --upgrade --user"
   ]
  },
  {
   "cell_type": "markdown",
   "metadata": {},
   "source": [
    "**Таблицы**"
   ]
  },
  {
   "cell_type": "code",
   "execution_count": 3,
   "metadata": {},
   "outputs": [],
   "source": [
    "df = pd.read_csv('logs_exp.csv', sep='\\t')"
   ]
  },
  {
   "cell_type": "markdown",
   "metadata": {},
   "source": [
    "**Обзор**"
   ]
  },
  {
   "cell_type": "code",
   "execution_count": 4,
   "metadata": {},
   "outputs": [
    {
     "data": {
      "text/html": [
       "<div>\n",
       "<style scoped>\n",
       "    .dataframe tbody tr th:only-of-type {\n",
       "        vertical-align: middle;\n",
       "    }\n",
       "\n",
       "    .dataframe tbody tr th {\n",
       "        vertical-align: top;\n",
       "    }\n",
       "\n",
       "    .dataframe thead th {\n",
       "        text-align: right;\n",
       "    }\n",
       "</style>\n",
       "<table border=\"1\" class=\"dataframe\">\n",
       "  <thead>\n",
       "    <tr style=\"text-align: right;\">\n",
       "      <th></th>\n",
       "      <th>EventName</th>\n",
       "      <th>DeviceIDHash</th>\n",
       "      <th>EventTimestamp</th>\n",
       "      <th>ExpId</th>\n",
       "    </tr>\n",
       "  </thead>\n",
       "  <tbody>\n",
       "    <tr>\n",
       "      <th>0</th>\n",
       "      <td>MainScreenAppear</td>\n",
       "      <td>4575588528974610257</td>\n",
       "      <td>1564029816</td>\n",
       "      <td>246</td>\n",
       "    </tr>\n",
       "    <tr>\n",
       "      <th>1</th>\n",
       "      <td>MainScreenAppear</td>\n",
       "      <td>7416695313311560658</td>\n",
       "      <td>1564053102</td>\n",
       "      <td>246</td>\n",
       "    </tr>\n",
       "    <tr>\n",
       "      <th>2</th>\n",
       "      <td>PaymentScreenSuccessful</td>\n",
       "      <td>3518123091307005509</td>\n",
       "      <td>1564054127</td>\n",
       "      <td>248</td>\n",
       "    </tr>\n",
       "    <tr>\n",
       "      <th>3</th>\n",
       "      <td>CartScreenAppear</td>\n",
       "      <td>3518123091307005509</td>\n",
       "      <td>1564054127</td>\n",
       "      <td>248</td>\n",
       "    </tr>\n",
       "    <tr>\n",
       "      <th>4</th>\n",
       "      <td>PaymentScreenSuccessful</td>\n",
       "      <td>6217807653094995999</td>\n",
       "      <td>1564055322</td>\n",
       "      <td>248</td>\n",
       "    </tr>\n",
       "  </tbody>\n",
       "</table>\n",
       "</div>"
      ],
      "text/plain": [
       "                 EventName         DeviceIDHash  EventTimestamp  ExpId\n",
       "0         MainScreenAppear  4575588528974610257      1564029816    246\n",
       "1         MainScreenAppear  7416695313311560658      1564053102    246\n",
       "2  PaymentScreenSuccessful  3518123091307005509      1564054127    248\n",
       "3         CartScreenAppear  3518123091307005509      1564054127    248\n",
       "4  PaymentScreenSuccessful  6217807653094995999      1564055322    248"
      ]
     },
     "execution_count": 4,
     "metadata": {},
     "output_type": "execute_result"
    }
   ],
   "source": [
    "df.head()"
   ]
  },
  {
   "cell_type": "code",
   "execution_count": 5,
   "metadata": {},
   "outputs": [
    {
     "name": "stdout",
     "output_type": "stream",
     "text": [
      "<class 'pandas.core.frame.DataFrame'>\n",
      "RangeIndex: 244126 entries, 0 to 244125\n",
      "Data columns (total 4 columns):\n",
      " #   Column          Non-Null Count   Dtype \n",
      "---  ------          --------------   ----- \n",
      " 0   EventName       244126 non-null  object\n",
      " 1   DeviceIDHash    244126 non-null  int64 \n",
      " 2   EventTimestamp  244126 non-null  int64 \n",
      " 3   ExpId           244126 non-null  int64 \n",
      "dtypes: int64(3), object(1)\n",
      "memory usage: 7.5+ MB\n"
     ]
    }
   ],
   "source": [
    "df.info()"
   ]
  },
  {
   "cell_type": "markdown",
   "metadata": {},
   "source": [
    "**На предобработку:**\n",
    "- Названия столбцов\n",
    "- Столбец с датой в datetime\n",
    "- Значения в категориальных столбцах (EventName, ExpId)\n",
    "- Дубликаты"
   ]
  },
  {
   "cell_type": "markdown",
   "metadata": {},
   "source": [
    "## 2. Предобработка"
   ]
  },
  {
   "cell_type": "markdown",
   "metadata": {},
   "source": [
    "**Названия столбцов**"
   ]
  },
  {
   "cell_type": "code",
   "execution_count": 6,
   "metadata": {},
   "outputs": [],
   "source": [
    "df.columns = ['event', 'user_id', 'event_datetime', 'exp_group']"
   ]
  },
  {
   "cell_type": "markdown",
   "metadata": {},
   "source": [
    "**Столбец с датой в дейттайм**"
   ]
  },
  {
   "cell_type": "code",
   "execution_count": 7,
   "metadata": {},
   "outputs": [],
   "source": [
    "df['event_datetime'] = pd.to_datetime(df['event_datetime'], unit='s')"
   ]
  },
  {
   "cell_type": "markdown",
   "metadata": {},
   "source": [
    "**Значения в категориальных переменных**"
   ]
  },
  {
   "cell_type": "code",
   "execution_count": 8,
   "metadata": {},
   "outputs": [
    {
     "data": {
      "text/plain": [
       "array(['MainScreenAppear', 'PaymentScreenSuccessful', 'CartScreenAppear',\n",
       "       'OffersScreenAppear', 'Tutorial'], dtype=object)"
      ]
     },
     "execution_count": 8,
     "metadata": {},
     "output_type": "execute_result"
    }
   ],
   "source": [
    "#значения в категориальных столбцах\n",
    "df['event'].unique()"
   ]
  },
  {
   "cell_type": "code",
   "execution_count": 9,
   "metadata": {},
   "outputs": [
    {
     "data": {
      "text/plain": [
       "array([246, 248, 247], dtype=int64)"
      ]
     },
     "execution_count": 9,
     "metadata": {},
     "output_type": "execute_result"
    }
   ],
   "source": [
    "df['exp_group'].unique()"
   ]
  },
  {
   "cell_type": "markdown",
   "metadata": {},
   "source": [
    "Все ок, ничего лишнего"
   ]
  },
  {
   "cell_type": "markdown",
   "metadata": {},
   "source": [
    "**Дубликаты**"
   ]
  },
  {
   "cell_type": "code",
   "execution_count": 10,
   "metadata": {},
   "outputs": [
    {
     "name": "stdout",
     "output_type": "stream",
     "text": [
      "Полных дубликатов в таблице: 413\n"
     ]
    }
   ],
   "source": [
    "print('Полных дубликатов в таблице:', df.duplicated().sum())"
   ]
  },
  {
   "cell_type": "code",
   "execution_count": 11,
   "metadata": {},
   "outputs": [],
   "source": [
    "#удалим\n",
    "#если уж это события одинаковые с точностью до секунды, \n",
    "#то скорее всего они просто задвоились и нам не нужны\n",
    "df.drop_duplicates(inplace=True)"
   ]
  },
  {
   "cell_type": "markdown",
   "metadata": {},
   "source": [
    "**Таблица после предобработки**"
   ]
  },
  {
   "cell_type": "code",
   "execution_count": 12,
   "metadata": {},
   "outputs": [
    {
     "data": {
      "text/html": [
       "<div>\n",
       "<style scoped>\n",
       "    .dataframe tbody tr th:only-of-type {\n",
       "        vertical-align: middle;\n",
       "    }\n",
       "\n",
       "    .dataframe tbody tr th {\n",
       "        vertical-align: top;\n",
       "    }\n",
       "\n",
       "    .dataframe thead th {\n",
       "        text-align: right;\n",
       "    }\n",
       "</style>\n",
       "<table border=\"1\" class=\"dataframe\">\n",
       "  <thead>\n",
       "    <tr style=\"text-align: right;\">\n",
       "      <th></th>\n",
       "      <th>event</th>\n",
       "      <th>user_id</th>\n",
       "      <th>event_datetime</th>\n",
       "      <th>exp_group</th>\n",
       "    </tr>\n",
       "  </thead>\n",
       "  <tbody>\n",
       "    <tr>\n",
       "      <th>0</th>\n",
       "      <td>MainScreenAppear</td>\n",
       "      <td>4575588528974610257</td>\n",
       "      <td>2019-07-25 04:43:36</td>\n",
       "      <td>246</td>\n",
       "    </tr>\n",
       "    <tr>\n",
       "      <th>1</th>\n",
       "      <td>MainScreenAppear</td>\n",
       "      <td>7416695313311560658</td>\n",
       "      <td>2019-07-25 11:11:42</td>\n",
       "      <td>246</td>\n",
       "    </tr>\n",
       "    <tr>\n",
       "      <th>2</th>\n",
       "      <td>PaymentScreenSuccessful</td>\n",
       "      <td>3518123091307005509</td>\n",
       "      <td>2019-07-25 11:28:47</td>\n",
       "      <td>248</td>\n",
       "    </tr>\n",
       "    <tr>\n",
       "      <th>3</th>\n",
       "      <td>CartScreenAppear</td>\n",
       "      <td>3518123091307005509</td>\n",
       "      <td>2019-07-25 11:28:47</td>\n",
       "      <td>248</td>\n",
       "    </tr>\n",
       "    <tr>\n",
       "      <th>4</th>\n",
       "      <td>PaymentScreenSuccessful</td>\n",
       "      <td>6217807653094995999</td>\n",
       "      <td>2019-07-25 11:48:42</td>\n",
       "      <td>248</td>\n",
       "    </tr>\n",
       "  </tbody>\n",
       "</table>\n",
       "</div>"
      ],
      "text/plain": [
       "                     event              user_id      event_datetime  exp_group\n",
       "0         MainScreenAppear  4575588528974610257 2019-07-25 04:43:36        246\n",
       "1         MainScreenAppear  7416695313311560658 2019-07-25 11:11:42        246\n",
       "2  PaymentScreenSuccessful  3518123091307005509 2019-07-25 11:28:47        248\n",
       "3         CartScreenAppear  3518123091307005509 2019-07-25 11:28:47        248\n",
       "4  PaymentScreenSuccessful  6217807653094995999 2019-07-25 11:48:42        248"
      ]
     },
     "execution_count": 12,
     "metadata": {},
     "output_type": "execute_result"
    }
   ],
   "source": [
    "df.head()"
   ]
  },
  {
   "cell_type": "markdown",
   "metadata": {},
   "source": [
    "## 3. Проверка данных"
   ]
  },
  {
   "cell_type": "markdown",
   "metadata": {},
   "source": [
    "### Гистограмма количества событий на одного пользователя"
   ]
  },
  {
   "cell_type": "code",
   "execution_count": 13,
   "metadata": {},
   "outputs": [],
   "source": [
    "eventCountByUsers = df.groupby('user_id', as_index=False) \\\n",
    "    .agg({'event':'count'}) \\\n",
    "    .rename(columns={'event':'event_count'})"
   ]
  },
  {
   "cell_type": "code",
   "execution_count": 14,
   "metadata": {},
   "outputs": [
    {
     "data": {
      "image/png": "[encoded data removed]"
     },
     "metadata": {},
     "output_type": "display_data"
    }
   ],
   "source": [
    "px.histogram(eventCountByUsers, \n",
    "             x='event_count',\n",
    "             title=\"Гистограмма распределения количества<br>событий на одного пользователя\",\n",
    "             labels={'event_date':''},\n",
    "             template='plotly_dark',\n",
    "             width=600, \n",
    "             height=400)"
   ]
  },
  {
   "cell_type": "markdown",
   "metadata": {},
   "source": [
    "У распределения огромный хвост, поэтому для оценки среднего будем брать медиану. "
   ]
  },
  {
   "cell_type": "markdown",
   "metadata": {},
   "source": [
    "### Общие данные"
   ]
  },
  {
   "cell_type": "code",
   "execution_count": 15,
   "metadata": {},
   "outputs": [
    {
     "name": "stdout",
     "output_type": "stream",
     "text": [
      "Всего событий в логе: 243713\n",
      "Всего пользователей в логе: 7551\n",
      "Событий на одного пользователя в среднем: 20\n"
     ]
    }
   ],
   "source": [
    "print('Всего событий в логе:', df.shape[0])\n",
    "print('Всего пользователей в логе:', df['user_id'].nunique())\n",
    "print('Событий на одного пользователя в среднем: {:.0f}'.format(eventCountByUsers['event_count'].median()))"
   ]
  },
  {
   "cell_type": "markdown",
   "metadata": {},
   "source": [
    "### Период имеющихся данных"
   ]
  },
  {
   "cell_type": "code",
   "execution_count": 16,
   "metadata": {},
   "outputs": [],
   "source": [
    "#вытащим дату в отдельный столбец\n",
    "df['event_date'] = df['event_datetime'].dt.date"
   ]
  },
  {
   "cell_type": "code",
   "execution_count": 17,
   "metadata": {},
   "outputs": [
    {
     "name": "stdout",
     "output_type": "stream",
     "text": [
      "Самая ранняя дата: 2019-07-25 04:43:36\n",
      "Самая поздняя дата: 2019-08-07 21:15:17\n",
      "Период имеющихся данных: 13 days 16:31:41\n"
     ]
    }
   ],
   "source": [
    "print('Самая ранняя дата:', df['event_datetime'].min())\n",
    "print('Самая поздняя дата:', df['event_datetime'].max())\n",
    "print('Период имеющихся данных:', df['event_datetime'].max() - df['event_datetime'].min())"
   ]
  },
  {
   "cell_type": "markdown",
   "metadata": {},
   "source": [
    "Грубо говоря, имеем 14 дней эксперимента. "
   ]
  },
  {
   "cell_type": "markdown",
   "metadata": {},
   "source": [
    "### Распределение записей в логах по датам"
   ]
  },
  {
   "cell_type": "code",
   "execution_count": 18,
   "metadata": {},
   "outputs": [
    {
     "data": {
      "image/png": "[encoded data removed]"
     },
     "metadata": {},
     "output_type": "display_data"
    }
   ],
   "source": [
    "px.histogram(df, \n",
    "             x='event_date',\n",
    "             title=\"Гистограмма распределения количества событий по датам\",\n",
    "             labels={'event_date':''},\n",
    "             template='plotly_dark',\n",
    "             width=600, \n",
    "             height=400)"
   ]
  },
  {
   "cell_type": "markdown",
   "metadata": {},
   "source": [
    "Видим, что полные данные мы начинаем получать только с 1 августа. Сохраним данные начиная с 1 августа в отдельный фрейм. Получается, что **в нашем распоряжении на самом деле всего неделя наблюдений.** "
   ]
  },
  {
   "cell_type": "code",
   "execution_count": 19,
   "metadata": {},
   "outputs": [],
   "source": [
    "#оставим в новом фрейме только наблюдения с 1 августа\n",
    "df_upd = df.query('event_datetime > 20190801')"
   ]
  },
  {
   "cell_type": "code",
   "execution_count": 20,
   "metadata": {},
   "outputs": [
    {
     "name": "stdout",
     "output_type": "stream",
     "text": [
      "Отбросив часть данных мы потеряли 17 пользователей\n",
      "Это 0.2% от общего числа пользователей\n"
     ]
    }
   ],
   "source": [
    "print('Отбросив часть данных мы потеряли {} пользователей'. format(df['user_id'].nunique() - df_upd['user_id'].nunique()))\n",
    "print('Это {:.1%} от общего числа пользователей'. format((df['user_id'].nunique() - df_upd['user_id'].nunique()) / df['user_id'].nunique()))"
   ]
  },
  {
   "cell_type": "markdown",
   "metadata": {},
   "source": [
    "### Распределение пользователей по группам"
   ]
  },
  {
   "cell_type": "code",
   "execution_count": 21,
   "metadata": {},
   "outputs": [
    {
     "data": {
      "text/html": [
       "<div>\n",
       "<style scoped>\n",
       "    .dataframe tbody tr th:only-of-type {\n",
       "        vertical-align: middle;\n",
       "    }\n",
       "\n",
       "    .dataframe tbody tr th {\n",
       "        vertical-align: top;\n",
       "    }\n",
       "\n",
       "    .dataframe thead th {\n",
       "        text-align: right;\n",
       "    }\n",
       "</style>\n",
       "<table border=\"1\" class=\"dataframe\">\n",
       "  <thead>\n",
       "    <tr style=\"text-align: right;\">\n",
       "      <th></th>\n",
       "      <th>user_id</th>\n",
       "    </tr>\n",
       "    <tr>\n",
       "      <th>exp_group</th>\n",
       "      <th></th>\n",
       "    </tr>\n",
       "  </thead>\n",
       "  <tbody>\n",
       "    <tr>\n",
       "      <th>246</th>\n",
       "      <td>2484</td>\n",
       "    </tr>\n",
       "    <tr>\n",
       "      <th>247</th>\n",
       "      <td>2513</td>\n",
       "    </tr>\n",
       "    <tr>\n",
       "      <th>248</th>\n",
       "      <td>2537</td>\n",
       "    </tr>\n",
       "  </tbody>\n",
       "</table>\n",
       "</div>"
      ],
      "text/plain": [
       "           user_id\n",
       "exp_group         \n",
       "246           2484\n",
       "247           2513\n",
       "248           2537"
      ]
     },
     "execution_count": 21,
     "metadata": {},
     "output_type": "execute_result"
    }
   ],
   "source": [
    "df_upd.groupby('exp_group') \\\n",
    "    .agg({'user_id':'nunique'})"
   ]
  },
  {
   "cell_type": "markdown",
   "metadata": {},
   "source": [
    "Все ок! Количество пользователей в группах различается незначительно."
   ]
  },
  {
   "cell_type": "markdown",
   "metadata": {},
   "source": [
    "## 4. Изучаем воронку событий"
   ]
  },
  {
   "cell_type": "markdown",
   "metadata": {},
   "source": [
    "### События в логах"
   ]
  },
  {
   "cell_type": "markdown",
   "metadata": {},
   "source": [
    "**Общее кол-во событий**"
   ]
  },
  {
   "cell_type": "code",
   "execution_count": 22,
   "metadata": {},
   "outputs": [
    {
     "data": {
      "image/png": "[encoded data removed]"
     },
     "metadata": {},
     "output_type": "display_data"
    }
   ],
   "source": [
    "px.bar(df_upd['event'].value_counts().reset_index(), \n",
    "       x='index', \n",
    "       y='event',\n",
    "       title='Количество событий в логах',\n",
    "       labels={'index':'Событие', 'event':'Кол-во повторений (шт.)'},\n",
    "       template='plotly_dark',\n",
    "       height=450)"
   ]
  },
  {
   "cell_type": "markdown",
   "metadata": {},
   "source": [
    "**События и уникальные пользователи**"
   ]
  },
  {
   "cell_type": "code",
   "execution_count": 23,
   "metadata": {},
   "outputs": [],
   "source": [
    "#найдем кол-во пользователей для каждого из событий\n",
    "funnel = df.groupby('event', as_index=False)\\\n",
    "    .agg({'user_id':'nunique'})\\\n",
    "    .rename(columns={'user_id':'uniqe_user_count'})\\\n",
    "    .sort_values(by='uniqe_user_count', ascending=False)"
   ]
  },
  {
   "cell_type": "code",
   "execution_count": 24,
   "metadata": {},
   "outputs": [],
   "source": [
    "#найдем общее количество пользователей в логах\n",
    "all_users = df_upd['user_id'].nunique()"
   ]
  },
  {
   "cell_type": "code",
   "execution_count": 25,
   "metadata": {},
   "outputs": [],
   "source": [
    "#найдем для каждого события долю пользователей, которые хоть раз его совершали\n",
    "funnel['unique_user_rate'] = (funnel['uniqe_user_count'] / all_users).round(2)"
   ]
  },
  {
   "cell_type": "code",
   "execution_count": 26,
   "metadata": {},
   "outputs": [],
   "source": [
    "funnel.reset_index(drop=True, inplace=True)"
   ]
  },
  {
   "cell_type": "code",
   "execution_count": 27,
   "metadata": {},
   "outputs": [
    {
     "data": {
      "image/png": "[encoded data removed]"
     },
     "metadata": {},
     "output_type": "display_data"
    }
   ],
   "source": [
    "px.bar(funnel, \n",
    "       x='event', \n",
    "       y='uniqe_user_count',\n",
    "       color='unique_user_rate',\n",
    "       title='Уникальные пользователи для каждого события',\n",
    "       labels={'event':'Событие', \n",
    "               'uniqe_user_count':'Кол-во пользователей (шт.)',\n",
    "               'unique_user_rate':'Конверсия'},\n",
    "       template='plotly_dark',\n",
    "       height=450)"
   ]
  },
  {
   "cell_type": "markdown",
   "metadata": {},
   "source": [
    "### Воронка событий"
   ]
  },
  {
   "cell_type": "markdown",
   "metadata": {},
   "source": [
    "Судя по названиями и количеству пользователей на каждом этапе, воронка выглядит так:\n",
    "\n",
    "- MainScreenAppear (Главный экран)\n",
    "- OffersScreenAppear (Экран с предложением - товаром)\n",
    "- CartScreenAppear (Экран с корзиной)\n",
    "- PaymentScreenSuccessful (Экран с подтверждением оплаты)\n",
    "\n",
    "Этап tutorial по количеству пользователей стоит после подтверждения оплаты, но логически ему там не место. Скорее всего tutorial предлагается пройти на главном экране (или даже перед ним), но этот этап можно скипнуть. Думаю, что его можно не учитывать в итоговой воронке. "
   ]
  },
  {
   "cell_type": "code",
   "execution_count": 28,
   "metadata": {},
   "outputs": [],
   "source": [
    "#уберем этап tutorial из воронки\n",
    "funnel.drop(4, inplace=True)"
   ]
  },
  {
   "cell_type": "markdown",
   "metadata": {},
   "source": [
    "**Иллюстрируем воронку событий**"
   ]
  },
  {
   "cell_type": "code",
   "execution_count": 29,
   "metadata": {
    "scrolled": false
   },
   "outputs": [
    {
     "data": {
      "image/png": "[encoded data removed]"
     },
     "metadata": {},
     "output_type": "display_data"
    }
   ],
   "source": [
    "fig = go.Figure()\n",
    "\n",
    "fig.add_trace(go.Funnel(\n",
    "    y = funnel['event'],\n",
    "    x = funnel['uniqe_user_count'],\n",
    "    textinfo = \"value+percent previous\"))\n",
    "\n",
    "fig.update_layout(\n",
    "    title=\"Воронка событий\",\n",
    "    template='plotly_dark',\n",
    "    height=450\n",
    ")\n",
    "\n",
    "fig.show()"
   ]
  },
  {
   "cell_type": "markdown",
   "metadata": {},
   "source": [
    "Для каждого этапа воронки на графике показывается количество пользователей и доля пользователей <u>от числа пользователей на предыдущем этапе.<u/>"
   ]
  },
  {
   "cell_type": "markdown",
   "metadata": {},
   "source": [
    "**Выводы**"
   ]
  },
  {
   "cell_type": "markdown",
   "metadata": {},
   "source": [
    "Больше всего пользователей теряется между главным экраном и оффер-скрином"
   ]
  },
  {
   "cell_type": "code",
   "execution_count": 30,
   "metadata": {},
   "outputs": [
    {
     "name": "stdout",
     "output_type": "stream",
     "text": [
      "От первого события до оплаты доходит 47.7% пользователей\n"
     ]
    }
   ],
   "source": [
    "print('От первого события до оплаты доходит {:.1%} пользователей'.format(funnel.loc[3, 'uniqe_user_count'] / funnel.loc[0, 'uniqe_user_count']))"
   ]
  },
  {
   "cell_type": "markdown",
   "metadata": {},
   "source": [
    "## 5. Изучаем результаты эксперимента"
   ]
  },
  {
   "cell_type": "markdown",
   "metadata": {},
   "source": [
    "### Пересечения в группах"
   ]
  },
  {
   "cell_type": "code",
   "execution_count": 31,
   "metadata": {},
   "outputs": [
    {
     "name": "stdout",
     "output_type": "stream",
     "text": [
      "Количество пользователей, которые попали больше, чем в одну группу:  0\n"
     ]
    }
   ],
   "source": [
    "print('Количество пользователей, которые попали больше, чем в одну группу: ', df_upd.groupby('user_id', as_index=False) \\\n",
    "    .agg({'exp_group':'nunique'}) \\\n",
    "    .query('exp_group != 1') \\\n",
    "    .shape[0])\n",
    "\n",
    "#на всякий случай сделал через (не равно единице), вдруг там у кого-то был бы ноль групп, уж не знаю по каким причинам"
   ]
  },
  {
   "cell_type": "markdown",
   "metadata": {},
   "source": [
    "Получается, что все ок: пересечений нет. "
   ]
  },
  {
   "cell_type": "markdown",
   "metadata": {},
   "source": [
    "**Достаточно ли пользователей для теста?**\n",
    "\n",
    "Если мы будем считать, что для нас главная конверсия в этом тесте - это конверсия из мейнскрина (можно грубо сказать, что из всех пользователей группы) в заказ, то при нашем количестве пользователей мы увидим и зафиксируем (как значимый) абсолютный прирост, только если он составит 4% и выше. "
   ]
  },
  {
   "cell_type": "markdown",
   "metadata": {},
   "source": [
    "### Функция для проверки различий в группах"
   ]
  },
  {
   "cell_type": "markdown",
   "metadata": {},
   "source": [
    "В следующих заданиях мы будем проделывать однотипную операцию: проверять статистическую значимость различий конверсии между группами. С этим справится z-тест. **Конверсией в нашем случае будет считаться доля уникальных пользователей группы, которые перешли на выбранный этап вопронки.** Для рассчета конверсии нам нужно знать общее число уникальных пользователей в каждой группе (это число не меняется) и кол-во уникальных пользователей в группе, перешедших на указанный этап воронки (это число меняется в зависимости от этапа). Напишем общую функцию для этой проверки. \n",
    "\n",
    "Она будет принимать на вход фрейм и номера групп сравнения, а возвращать - целую таблицу с результатами. В таблице будут конверсии по каждой группе, p_value и результат теста для выбранного уровня значимости. "
   ]
  },
  {
   "cell_type": "markdown",
   "metadata": {},
   "source": [
    "**Дисклеймер.** В коде функции будет вагон и маленькая тележка комментариев. Я пишу их скорее для себя, чтобы все это получше уселось в голове. "
   ]
  },
  {
   "cell_type": "code",
   "execution_count": 32,
   "metadata": {},
   "outputs": [],
   "source": [
    "#Первый модуль для итоговой функции\n",
    "#принимает фрейм, группу и название этапа воронки\n",
    "#возвращает количество уникальных пользователей дошедших до этого этапа в этой группе\n",
    "\n",
    "def usersOnStepCounter(dataframe, group, step):\n",
    "    usersOnStepcount = dataframe \\\n",
    "    .query('exp_group == @group & event == @step') \\\n",
    "    ['user_id'].nunique()\n",
    "    \n",
    "    return usersOnStepcount"
   ]
  },
  {
   "cell_type": "code",
   "execution_count": 33,
   "metadata": {},
   "outputs": [],
   "source": [
    "#второй модуль для итоговой функции\n",
    "#принимает фрейм, группы и название этапа\n",
    "#возвращает строку с результатами: конверсии, p-значение, результат стат.теста\n",
    "\n",
    "def difference_test(dataframe, group1, group2, step):\n",
    "    #объявим словарь для количеств пользователей на каждом шаге и в целом в группе\n",
    "    usersOnStep = {}\n",
    "    groupSize = {}\n",
    "    \n",
    "    #сохраним количества пользователей дошедших до данного этапа\n",
    "    #ключ - номер группы\n",
    "    usersOnStep[group1] = usersOnStepCounter(dataframe, group1, step)\n",
    "    usersOnStep[group2] = usersOnStepCounter(dataframe, group2, step)\n",
    "    \n",
    "    #получим и сохраним размеры групп\n",
    "    groupSize[group1] = dataframe.query('exp_group == @group1')['user_id'].nunique()\n",
    "    groupSize[group2] = dataframe.query('exp_group == @group2')['user_id'].nunique()\n",
    "    \n",
    "    #теперь посчитаем z-статистику\n",
    "    #z_value = (p1 - p2) / math.sqrt(P * (1 - P) * (1/n1 + 1/n2) )\n",
    "    \n",
    "    #p1 - это конверсия (пропорция) в первой группе\n",
    "    #p2 - конверсия во второй\n",
    "    p1 = usersOnStep[group1] / groupSize[group1]\n",
    "    p2 = usersOnStep[group2] / groupSize[group2]\n",
    "    \n",
    "    #P - это конверсия во всем наборе (в первой и второй выборке вместе)\n",
    "    #причем это не среднее из двух конверсий, а именно конверсия объединенного набора данных\n",
    "    P = (usersOnStep[group1] + usersOnStep[group2]) \\\n",
    "        / (groupSize[group1] + groupSize[group2])\n",
    "    \n",
    "    #n1 и n2 - размеры двух выборок    \n",
    "    #в числителе формулы есть еще (п1 - п2), но именно равенство этих двух показателей мы и предполагаем\n",
    "    #поэтому они автоматически исчезают\n",
    "    \n",
    "    #считаем z-статистику\n",
    "    z_value = (p1 - p2) / math.sqrt(P * (1 - P) * (1/groupSize[group1] + 1/groupSize[group2]) )\n",
    "    \n",
    "    #теперь найдем p-value для такого z-значения\n",
    "    \n",
    "    #задаем нормальное распределение и сохраняем в переменную distr\n",
    "    distr = st.norm(0,1)\n",
    "    \n",
    "    #считаем p-value c помощью кумулятивной функции распределения\n",
    "    #cdf(x) - кумулятивная функция распрделения\n",
    "    #она возвращает вероятность того, что некоторая величина примет значение меньшее или равное x\n",
    "    #образно говоря, она возвращает вероятность получить любое значение... \n",
    "    #...в области закрашенного графика распределения до нашего значения x\n",
    "    #вычитая из неё единицу, мы получим вероятность получить хвост справа\n",
    "    #нас интересует двусторонее отклонение, то есть не только левый, но и правый хвост\n",
    "    #поэтому множаем на два\n",
    "    #а еще - берем z_value по модулю\n",
    "    #ведь иначе, при вычитани полученного результата из единицы \n",
    "    #при отрицательном z_value \n",
    "    #мы получим не тот хвост\n",
    "    p_value = (1 - distr.cdf(abs(z_value))) * 2\n",
    "    \n",
    "    #теперь сравниваем с уровнем значимости, возьмем его 0.05\n",
    "    alpha = 0.05\n",
    "    #сохраняем ответ по тесту в отдельную переменную\n",
    "    if p_value < alpha:\n",
    "        z_test_message = 'значимы'\n",
    "    else:\n",
    "        z_test_message = 'незначимы'\n",
    "    \n",
    "    #возвращаем строку с ответом: \n",
    "    #конверсия в первой группе \n",
    "    #конверсия во второй\n",
    "    #p_value\n",
    "    #результат z-теста\n",
    "    return ['{:.2%}'.format(p1), '{:.2%}'.format(p2), p_value.round(3), z_test_message]"
   ]
  },
  {
   "cell_type": "code",
   "execution_count": 34,
   "metadata": {},
   "outputs": [],
   "source": [
    "#для итоговой функции нужен список этапов\n",
    "#сохраних их (без этапа tutorial) в отдельную переменную\n",
    "events_list = df_upd['event'].unique()[1:5]"
   ]
  },
  {
   "cell_type": "code",
   "execution_count": 35,
   "metadata": {},
   "outputs": [],
   "source": [
    "#итоговая функция\n",
    "#принимает фрейм и две группы\n",
    "#проходит в цикле по каждому событию и записывает результат в список\n",
    "#а затем создает аккуратный фрейм с результатами\n",
    "def group_comparison(dataframe, group1, group2):\n",
    "    results = []\n",
    "    \n",
    "    for event in events_list:\n",
    "        results.append(difference_test(dataframe, group1, group2, event))\n",
    "        \n",
    "    columns_names = ['Конверсия ' + str(group1), 'Конверсия ' + str(group2), 'p-значение', 'Различия']\n",
    "\n",
    "    return pd.DataFrame(data=results, index=events_list, columns=columns_names)"
   ]
  },
  {
   "cell_type": "markdown",
   "metadata": {},
   "source": [
    "### А/А-тест. Проверяем различия"
   ]
  },
  {
   "cell_type": "markdown",
   "metadata": {},
   "source": [
    "**Самое популярное событие: показ главного экрана**\n",
    "\n",
    "Посчитаем число и долю пользователей, совершивших это событие в каждой из контрольных групп."
   ]
  },
  {
   "cell_type": "code",
   "execution_count": 36,
   "metadata": {},
   "outputs": [],
   "source": [
    "#найдем число пользователей\n",
    "mainScreenUsers = df_upd.query('event == \"MainScreenAppear\"') \\\n",
    "    .groupby('exp_group', as_index=False) \\\n",
    "    .agg({'user_id':'nunique'}) \\\n",
    "    .rename(columns={'user_id':'users_count'})"
   ]
  },
  {
   "cell_type": "code",
   "execution_count": 37,
   "metadata": {},
   "outputs": [],
   "source": [
    "#найдем размер каждой группы\n",
    "groupUsersCount = df_upd.groupby('exp_group', as_index=False) \\\n",
    "    .agg({'user_id':'nunique'}) \\\n",
    "    .rename(columns={'user_id':'users_count'})"
   ]
  },
  {
   "cell_type": "code",
   "execution_count": 38,
   "metadata": {},
   "outputs": [],
   "source": [
    "#поделим на размер групп и получим долю\n",
    "mainScreenUsers['conversion'] = (mainScreenUsers['users_count'] / groupUsersCount['users_count']).round(3)"
   ]
  },
  {
   "cell_type": "code",
   "execution_count": 39,
   "metadata": {},
   "outputs": [
    {
     "data": {
      "text/html": [
       "<div>\n",
       "<style scoped>\n",
       "    .dataframe tbody tr th:only-of-type {\n",
       "        vertical-align: middle;\n",
       "    }\n",
       "\n",
       "    .dataframe tbody tr th {\n",
       "        vertical-align: top;\n",
       "    }\n",
       "\n",
       "    .dataframe thead th {\n",
       "        text-align: right;\n",
       "    }\n",
       "</style>\n",
       "<table border=\"1\" class=\"dataframe\">\n",
       "  <thead>\n",
       "    <tr style=\"text-align: right;\">\n",
       "      <th></th>\n",
       "      <th>exp_group</th>\n",
       "      <th>users_count</th>\n",
       "      <th>conversion</th>\n",
       "    </tr>\n",
       "  </thead>\n",
       "  <tbody>\n",
       "    <tr>\n",
       "      <th>0</th>\n",
       "      <td>246</td>\n",
       "      <td>2450</td>\n",
       "      <td>0.986</td>\n",
       "    </tr>\n",
       "    <tr>\n",
       "      <th>1</th>\n",
       "      <td>247</td>\n",
       "      <td>2476</td>\n",
       "      <td>0.985</td>\n",
       "    </tr>\n",
       "    <tr>\n",
       "      <th>2</th>\n",
       "      <td>248</td>\n",
       "      <td>2493</td>\n",
       "      <td>0.983</td>\n",
       "    </tr>\n",
       "  </tbody>\n",
       "</table>\n",
       "</div>"
      ],
      "text/plain": [
       "   exp_group  users_count  conversion\n",
       "0        246         2450       0.986\n",
       "1        247         2476       0.985\n",
       "2        248         2493       0.983"
      ]
     },
     "execution_count": 39,
     "metadata": {},
     "output_type": "execute_result"
    }
   ],
   "source": [
    "mainScreenUsers"
   ]
  },
  {
   "cell_type": "markdown",
   "metadata": {},
   "source": [
    "Конверсия в самый популярный этап между 246 и 247 группами отличается на одну тысячную. "
   ]
  },
  {
   "cell_type": "markdown",
   "metadata": {},
   "source": [
    "Теперь давайте проверим все этапы и посмотрим статистическую значимость различий."
   ]
  },
  {
   "cell_type": "markdown",
   "metadata": {},
   "source": [
    "**Сравнение контрольных групп: 246 и 247**"
   ]
  },
  {
   "cell_type": "code",
   "execution_count": 40,
   "metadata": {},
   "outputs": [
    {
     "data": {
      "text/html": [
       "<div>\n",
       "<style scoped>\n",
       "    .dataframe tbody tr th:only-of-type {\n",
       "        vertical-align: middle;\n",
       "    }\n",
       "\n",
       "    .dataframe tbody tr th {\n",
       "        vertical-align: top;\n",
       "    }\n",
       "\n",
       "    .dataframe thead th {\n",
       "        text-align: right;\n",
       "    }\n",
       "</style>\n",
       "<table border=\"1\" class=\"dataframe\">\n",
       "  <thead>\n",
       "    <tr style=\"text-align: right;\">\n",
       "      <th></th>\n",
       "      <th>Конверсия 246</th>\n",
       "      <th>Конверсия 247</th>\n",
       "      <th>p-значение</th>\n",
       "      <th>Различия</th>\n",
       "    </tr>\n",
       "  </thead>\n",
       "  <tbody>\n",
       "    <tr>\n",
       "      <th>MainScreenAppear</th>\n",
       "      <td>98.63%</td>\n",
       "      <td>98.53%</td>\n",
       "      <td>0.757</td>\n",
       "      <td>незначимы</td>\n",
       "    </tr>\n",
       "    <tr>\n",
       "      <th>OffersScreenAppear</th>\n",
       "      <td>62.08%</td>\n",
       "      <td>60.49%</td>\n",
       "      <td>0.248</td>\n",
       "      <td>незначимы</td>\n",
       "    </tr>\n",
       "    <tr>\n",
       "      <th>CartScreenAppear</th>\n",
       "      <td>50.97%</td>\n",
       "      <td>49.26%</td>\n",
       "      <td>0.229</td>\n",
       "      <td>незначимы</td>\n",
       "    </tr>\n",
       "    <tr>\n",
       "      <th>PaymentScreenSuccessful</th>\n",
       "      <td>48.31%</td>\n",
       "      <td>46.08%</td>\n",
       "      <td>0.115</td>\n",
       "      <td>незначимы</td>\n",
       "    </tr>\n",
       "  </tbody>\n",
       "</table>\n",
       "</div>"
      ],
      "text/plain": [
       "                        Конверсия 246 Конверсия 247  p-значение   Различия\n",
       "MainScreenAppear               98.63%        98.53%       0.757  незначимы\n",
       "OffersScreenAppear             62.08%        60.49%       0.248  незначимы\n",
       "CartScreenAppear               50.97%        49.26%       0.229  незначимы\n",
       "PaymentScreenSuccessful        48.31%        46.08%       0.115  незначимы"
      ]
     },
     "execution_count": 40,
     "metadata": {},
     "output_type": "execute_result"
    }
   ],
   "source": [
    "group_comparison(df_upd, 246, 247)"
   ]
  },
  {
   "cell_type": "markdown",
   "metadata": {},
   "source": [
    "<u>Вывод: группы настроены корректно.</u> Конверсия различается тем больше, чем дальше по воронке мы продвигаемся. P-значение при этом не подтверждает различия на всех этапах даже на уровне значимости в 0.1 (хотя мы для себя установили 0.05). Скорее всего колебания появляются из-за того, что с каждым этапом уменьшается размер выборок. "
   ]
  },
  {
   "cell_type": "markdown",
   "metadata": {},
   "source": [
    "### А/B-тест. Проверяем различия"
   ]
  },
  {
   "cell_type": "markdown",
   "metadata": {},
   "source": [
    "**Сравнение групп: 246 (А) и 248 (B)**"
   ]
  },
  {
   "cell_type": "code",
   "execution_count": 41,
   "metadata": {},
   "outputs": [
    {
     "data": {
      "text/html": [
       "<div>\n",
       "<style scoped>\n",
       "    .dataframe tbody tr th:only-of-type {\n",
       "        vertical-align: middle;\n",
       "    }\n",
       "\n",
       "    .dataframe tbody tr th {\n",
       "        vertical-align: top;\n",
       "    }\n",
       "\n",
       "    .dataframe thead th {\n",
       "        text-align: right;\n",
       "    }\n",
       "</style>\n",
       "<table border=\"1\" class=\"dataframe\">\n",
       "  <thead>\n",
       "    <tr style=\"text-align: right;\">\n",
       "      <th></th>\n",
       "      <th>Конверсия 246</th>\n",
       "      <th>Конверсия 248</th>\n",
       "      <th>p-значение</th>\n",
       "      <th>Различия</th>\n",
       "    </tr>\n",
       "  </thead>\n",
       "  <tbody>\n",
       "    <tr>\n",
       "      <th>MainScreenAppear</th>\n",
       "      <td>98.63%</td>\n",
       "      <td>98.27%</td>\n",
       "      <td>0.295</td>\n",
       "      <td>незначимы</td>\n",
       "    </tr>\n",
       "    <tr>\n",
       "      <th>OffersScreenAppear</th>\n",
       "      <td>62.08%</td>\n",
       "      <td>60.35%</td>\n",
       "      <td>0.208</td>\n",
       "      <td>незначимы</td>\n",
       "    </tr>\n",
       "    <tr>\n",
       "      <th>CartScreenAppear</th>\n",
       "      <td>50.97%</td>\n",
       "      <td>48.48%</td>\n",
       "      <td>0.078</td>\n",
       "      <td>незначимы</td>\n",
       "    </tr>\n",
       "    <tr>\n",
       "      <th>PaymentScreenSuccessful</th>\n",
       "      <td>48.31%</td>\n",
       "      <td>46.55%</td>\n",
       "      <td>0.212</td>\n",
       "      <td>незначимы</td>\n",
       "    </tr>\n",
       "  </tbody>\n",
       "</table>\n",
       "</div>"
      ],
      "text/plain": [
       "                        Конверсия 246 Конверсия 248  p-значение   Различия\n",
       "MainScreenAppear               98.63%        98.27%       0.295  незначимы\n",
       "OffersScreenAppear             62.08%        60.35%       0.208  незначимы\n",
       "CartScreenAppear               50.97%        48.48%       0.078  незначимы\n",
       "PaymentScreenSuccessful        48.31%        46.55%       0.212  незначимы"
      ]
     },
     "execution_count": 41,
     "metadata": {},
     "output_type": "execute_result"
    }
   ],
   "source": [
    "group_comparison(df_upd, 246, 248)"
   ]
  },
  {
   "cell_type": "markdown",
   "metadata": {},
   "source": [
    "**Сравнение групп: 247 (А) и 248 (B)**"
   ]
  },
  {
   "cell_type": "code",
   "execution_count": 42,
   "metadata": {
    "scrolled": true
   },
   "outputs": [
    {
     "data": {
      "text/html": [
       "<div>\n",
       "<style scoped>\n",
       "    .dataframe tbody tr th:only-of-type {\n",
       "        vertical-align: middle;\n",
       "    }\n",
       "\n",
       "    .dataframe tbody tr th {\n",
       "        vertical-align: top;\n",
       "    }\n",
       "\n",
       "    .dataframe thead th {\n",
       "        text-align: right;\n",
       "    }\n",
       "</style>\n",
       "<table border=\"1\" class=\"dataframe\">\n",
       "  <thead>\n",
       "    <tr style=\"text-align: right;\">\n",
       "      <th></th>\n",
       "      <th>Конверсия 247</th>\n",
       "      <th>Конверсия 248</th>\n",
       "      <th>p-значение</th>\n",
       "      <th>Различия</th>\n",
       "    </tr>\n",
       "  </thead>\n",
       "  <tbody>\n",
       "    <tr>\n",
       "      <th>MainScreenAppear</th>\n",
       "      <td>98.53%</td>\n",
       "      <td>98.27%</td>\n",
       "      <td>0.459</td>\n",
       "      <td>незначимы</td>\n",
       "    </tr>\n",
       "    <tr>\n",
       "      <th>OffersScreenAppear</th>\n",
       "      <td>60.49%</td>\n",
       "      <td>60.35%</td>\n",
       "      <td>0.920</td>\n",
       "      <td>незначимы</td>\n",
       "    </tr>\n",
       "    <tr>\n",
       "      <th>CartScreenAppear</th>\n",
       "      <td>49.26%</td>\n",
       "      <td>48.48%</td>\n",
       "      <td>0.579</td>\n",
       "      <td>незначимы</td>\n",
       "    </tr>\n",
       "    <tr>\n",
       "      <th>PaymentScreenSuccessful</th>\n",
       "      <td>46.08%</td>\n",
       "      <td>46.55%</td>\n",
       "      <td>0.737</td>\n",
       "      <td>незначимы</td>\n",
       "    </tr>\n",
       "  </tbody>\n",
       "</table>\n",
       "</div>"
      ],
      "text/plain": [
       "                        Конверсия 247 Конверсия 248  p-значение   Различия\n",
       "MainScreenAppear               98.53%        98.27%       0.459  незначимы\n",
       "OffersScreenAppear             60.49%        60.35%       0.920  незначимы\n",
       "CartScreenAppear               49.26%        48.48%       0.579  незначимы\n",
       "PaymentScreenSuccessful        46.08%        46.55%       0.737  незначимы"
      ]
     },
     "execution_count": 42,
     "metadata": {},
     "output_type": "execute_result"
    }
   ],
   "source": [
    "group_comparison(df_upd, 247, 248)"
   ]
  },
  {
   "cell_type": "markdown",
   "metadata": {},
   "source": [
    "Оба A/B-теста не показывают статистически значимых различий (даже на уровне в 0.1). Причем сравнение 247 и 248 вообще говорит о том, что результаты практически идентичные. "
   ]
  },
  {
   "cell_type": "markdown",
   "metadata": {},
   "source": [
    "**Сравнение групп: объединённая 246 (А) + 247 (А) и 248 (B)**"
   ]
  },
  {
   "cell_type": "code",
   "execution_count": 43,
   "metadata": {},
   "outputs": [],
   "source": [
    "#чтобы сделать это сравнение, используя мою функцию, придется сделать еще один фрейм\n",
    "#в нем мы заменим номера групп: события из групп 246 и 247 получат одинаковый номер - 245\n",
    "united_control_groups_df = df_upd.replace({'exp_group': [246, 247]}, 245)"
   ]
  },
  {
   "cell_type": "code",
   "execution_count": 44,
   "metadata": {
    "scrolled": true
   },
   "outputs": [
    {
     "data": {
      "text/html": [
       "<div>\n",
       "<style scoped>\n",
       "    .dataframe tbody tr th:only-of-type {\n",
       "        vertical-align: middle;\n",
       "    }\n",
       "\n",
       "    .dataframe tbody tr th {\n",
       "        vertical-align: top;\n",
       "    }\n",
       "\n",
       "    .dataframe thead th {\n",
       "        text-align: right;\n",
       "    }\n",
       "</style>\n",
       "<table border=\"1\" class=\"dataframe\">\n",
       "  <thead>\n",
       "    <tr style=\"text-align: right;\">\n",
       "      <th></th>\n",
       "      <th>Конверсия 245</th>\n",
       "      <th>Конверсия 248</th>\n",
       "      <th>p-значение</th>\n",
       "      <th>Различия</th>\n",
       "    </tr>\n",
       "  </thead>\n",
       "  <tbody>\n",
       "    <tr>\n",
       "      <th>MainScreenAppear</th>\n",
       "      <td>98.58%</td>\n",
       "      <td>98.27%</td>\n",
       "      <td>0.294</td>\n",
       "      <td>незначимы</td>\n",
       "    </tr>\n",
       "    <tr>\n",
       "      <th>OffersScreenAppear</th>\n",
       "      <td>61.28%</td>\n",
       "      <td>60.35%</td>\n",
       "      <td>0.434</td>\n",
       "      <td>незначимы</td>\n",
       "    </tr>\n",
       "    <tr>\n",
       "      <th>CartScreenAppear</th>\n",
       "      <td>50.11%</td>\n",
       "      <td>48.48%</td>\n",
       "      <td>0.182</td>\n",
       "      <td>незначимы</td>\n",
       "    </tr>\n",
       "    <tr>\n",
       "      <th>PaymentScreenSuccessful</th>\n",
       "      <td>47.19%</td>\n",
       "      <td>46.55%</td>\n",
       "      <td>0.600</td>\n",
       "      <td>незначимы</td>\n",
       "    </tr>\n",
       "  </tbody>\n",
       "</table>\n",
       "</div>"
      ],
      "text/plain": [
       "                        Конверсия 245 Конверсия 248  p-значение   Различия\n",
       "MainScreenAppear               98.58%        98.27%       0.294  незначимы\n",
       "OffersScreenAppear             61.28%        60.35%       0.434  незначимы\n",
       "CartScreenAppear               50.11%        48.48%       0.182  незначимы\n",
       "PaymentScreenSuccessful        47.19%        46.55%       0.600  незначимы"
      ]
     },
     "execution_count": 44,
     "metadata": {},
     "output_type": "execute_result"
    }
   ],
   "source": [
    "group_comparison(united_control_groups_df, 245, 248)"
   ]
  },
  {
   "cell_type": "markdown",
   "metadata": {},
   "source": [
    "В объединенной группе результаты характерным образом не отличаются. "
   ]
  },
  {
   "cell_type": "markdown",
   "metadata": {},
   "source": [
    "### A/B-тест. Проверим еще одну гипотезу"
   ]
  },
  {
   "cell_type": "markdown",
   "metadata": {},
   "source": [
    "Наибольшее кол-во пользователей отваливается между главным экраном и оффер-скрином. Что, если изменение шрифтов повлияло именно на эту конверсию? Проверим эту гипотезу. На этот раз воспользуемся готовой функцией для z-теста."
   ]
  },
  {
   "cell_type": "markdown",
   "metadata": {},
   "source": [
    "**Подготовка данных**"
   ]
  },
  {
   "cell_type": "code",
   "execution_count": 45,
   "metadata": {},
   "outputs": [],
   "source": [
    "#сделаем воронку по всем группам\n",
    "group_funnel = df_upd.pivot_table(index='event', \n",
    "                   columns='exp_group', \n",
    "                   values='user_id', \n",
    "                   aggfunc='nunique') \\\n",
    "    .sort_values(by=246, ascending=False) \\\n",
    "    .drop('Tutorial')"
   ]
  },
  {
   "cell_type": "code",
   "execution_count": 46,
   "metadata": {},
   "outputs": [],
   "source": [
    "#напишем функцию, которая принимает два номера групп и печатает все результаты\n",
    "\n",
    "def mainScreenToOfferConversionComparison(group1, group2):\n",
    "    #посчитаем кол-во \"попыток\" - пользователей увидевших главный экран\n",
    "    prev_step_users = []\n",
    "    prev_step_users.append(group_funnel.loc[\"MainScreenAppear\",group1])\n",
    "    prev_step_users.append(group_funnel.loc[\"MainScreenAppear\",group2])\n",
    "\n",
    "    #посчитаем кол-во \"успехов\" - пользователей увидевших офферскрин\n",
    "    next_step_users = []\n",
    "    next_step_users.append(group_funnel.loc[\"OffersScreenAppear\",group1])\n",
    "    next_step_users.append(group_funnel.loc[\"OffersScreenAppear\",group2])\n",
    "    \n",
    "    print('Конверсия {}: {:.2%}'.format(group1, (next_step_users[0] / prev_step_users[0])))\n",
    "    print('Конверсия {}: {:.2%}'.format(group2, (next_step_users[1] / prev_step_users[1])))\n",
    "    print('Z-тест p-value: {:.3f}'.format(proportions_ztest(next_step_users, prev_step_users, alternative='two-sided')[1]))         "
   ]
  },
  {
   "cell_type": "markdown",
   "metadata": {},
   "source": [
    "**Сравнение конверсий с главного экрана в оффер-скрин: 246 vs 248**"
   ]
  },
  {
   "cell_type": "code",
   "execution_count": 47,
   "metadata": {},
   "outputs": [
    {
     "name": "stdout",
     "output_type": "stream",
     "text": [
      "Конверсия 246: 62.94%\n",
      "Конверсия 248: 61.41%\n",
      "Z-тест p-value: 0.268\n"
     ]
    }
   ],
   "source": [
    "mainScreenToOfferConversionComparison(246, 248)"
   ]
  },
  {
   "cell_type": "markdown",
   "metadata": {},
   "source": [
    "**Сравнение конверсий с главного экрана в оффер-скрин: 247 vs 248**"
   ]
  },
  {
   "cell_type": "code",
   "execution_count": 48,
   "metadata": {},
   "outputs": [
    {
     "name": "stdout",
     "output_type": "stream",
     "text": [
      "Конверсия 247: 61.39%\n",
      "Конверсия 248: 61.41%\n",
      "Z-тест p-value: 0.987\n"
     ]
    }
   ],
   "source": [
    "mainScreenToOfferConversionComparison(247, 248)"
   ]
  },
  {
   "cell_type": "markdown",
   "metadata": {},
   "source": [
    "Нет, эта гипотеза тоже не подтвердилась."
   ]
  },
  {
   "cell_type": "markdown",
   "metadata": {},
   "source": [
    "## Результаты"
   ]
  },
  {
   "cell_type": "markdown",
   "metadata": {},
   "source": [
    "**В ходе проекта мы:** разбирались как ведут себя пользователи приложения для заказа продуктов питания и анализировали результаты эксперимента с заменой шрифтов. \n",
    "\n",
    "**Результаты проекта**\n",
    "\n",
    "1. Определили воронку продаж:\n",
    "\n",
    "- Главный экран\n",
    "- Экран с предложением - товаром\n",
    "- Экран с корзиной\n",
    "- Экран с подтверждением оплаты\n",
    "\n",
    "2. Высянили, что до покупки доходит 47% пользователей.\n",
    "\n",
    "3. Больше всего пользователей отваливается между главным экраном и экраном с товаром.\n",
    "\n",
    "4. Эксперимент со шрифтами неудачный. Конверсия на разных этапах значимо не изменилась. \n",
    "\n",
    "5. Конверсия из главного экрана в экран с товарами тоже значимо не изменилась в группе с новыми шрифтами. \n",
    "\n",
    "**Вывод-рекомендация:** стоит оставить имеющийся шрифт. "
   ]
  }
 ],
 "metadata": {
  "ExecuteTimeLog": [
   {
    "duration": 636,
    "start_time": "2021-12-13T13:37:13.902Z"
   },
   {
    "duration": 307,
    "start_time": "2021-12-13T13:37:16.275Z"
   },
   {
    "duration": 13,
    "start_time": "2021-12-13T13:37:35.527Z"
   },
   {
    "duration": 186,
    "start_time": "2021-12-13T13:37:43.394Z"
   },
   {
    "duration": 122,
    "start_time": "2021-12-13T13:37:57.836Z"
   },
   {
    "duration": 7,
    "start_time": "2021-12-13T13:37:59.244Z"
   },
   {
    "duration": 16,
    "start_time": "2021-12-13T13:38:18.493Z"
   },
   {
    "duration": 4,
    "start_time": "2021-12-13T13:43:00.062Z"
   },
   {
    "duration": 385,
    "start_time": "2021-12-13T13:44:05.775Z"
   },
   {
    "duration": 3,
    "start_time": "2021-12-13T13:44:16.615Z"
   },
   {
    "duration": 10,
    "start_time": "2021-12-13T13:44:18.530Z"
   },
   {
    "duration": 3,
    "start_time": "2021-12-13T13:45:26.911Z"
   },
   {
    "duration": 5,
    "start_time": "2021-12-13T13:45:34.646Z"
   },
   {
    "duration": 410,
    "start_time": "2021-12-13T13:45:38.320Z"
   },
   {
    "duration": 653,
    "start_time": "2021-12-13T13:45:44.578Z"
   },
   {
    "duration": 351,
    "start_time": "2021-12-13T13:47:21.902Z"
   },
   {
    "duration": 36,
    "start_time": "2021-12-13T13:47:27.053Z"
   },
   {
    "duration": 10,
    "start_time": "2021-12-13T13:48:07.542Z"
   },
   {
    "duration": 10,
    "start_time": "2021-12-13T13:49:26.636Z"
   },
   {
    "duration": 24,
    "start_time": "2021-12-13T13:50:19.105Z"
   },
   {
    "duration": 16,
    "start_time": "2021-12-13T13:51:02.210Z"
   },
   {
    "duration": 5,
    "start_time": "2021-12-13T13:51:17.870Z"
   },
   {
    "duration": 331,
    "start_time": "2021-12-13T13:51:33.892Z"
   },
   {
    "duration": 53,
    "start_time": "2021-12-13T13:51:37.590Z"
   },
   {
    "duration": 53,
    "start_time": "2021-12-13T13:52:22.291Z"
   },
   {
    "duration": 54,
    "start_time": "2021-12-13T13:52:27.032Z"
   },
   {
    "duration": 53,
    "start_time": "2021-12-13T13:52:29.680Z"
   },
   {
    "duration": 11,
    "start_time": "2021-12-13T13:52:49.826Z"
   },
   {
    "duration": 125,
    "start_time": "2021-12-13T13:53:14.782Z"
   },
   {
    "duration": 49,
    "start_time": "2021-12-13T13:53:18.147Z"
   },
   {
    "duration": 3,
    "start_time": "2021-12-13T13:53:22.677Z"
   },
   {
    "duration": 12,
    "start_time": "2021-12-13T13:53:23.007Z"
   },
   {
    "duration": 16,
    "start_time": "2021-12-13T13:53:23.326Z"
   },
   {
    "duration": 5,
    "start_time": "2021-12-13T13:53:23.831Z"
   },
   {
    "duration": 64,
    "start_time": "2021-12-13T13:53:24.647Z"
   },
   {
    "duration": 5,
    "start_time": "2021-12-13T13:54:26.502Z"
   },
   {
    "duration": 334,
    "start_time": "2021-12-13T13:55:50.951Z"
   },
   {
    "duration": 64,
    "start_time": "2021-12-13T13:55:55.869Z"
   },
   {
    "duration": 60,
    "start_time": "2021-12-13T13:56:04.186Z"
   },
   {
    "duration": 9,
    "start_time": "2021-12-13T13:56:22.776Z"
   },
   {
    "duration": 753,
    "start_time": "2021-12-13T18:05:26.466Z"
   },
   {
    "duration": 154,
    "start_time": "2021-12-13T18:05:27.224Z"
   },
   {
    "duration": 21,
    "start_time": "2021-12-13T18:05:27.382Z"
   },
   {
    "duration": 36,
    "start_time": "2021-12-13T18:05:27.406Z"
   },
   {
    "duration": 3,
    "start_time": "2021-12-13T18:05:27.444Z"
   },
   {
    "duration": 20,
    "start_time": "2021-12-13T18:05:27.449Z"
   },
   {
    "duration": 20,
    "start_time": "2021-12-13T18:05:27.471Z"
   },
   {
    "duration": 7,
    "start_time": "2021-12-13T18:05:27.522Z"
   },
   {
    "duration": 83,
    "start_time": "2021-12-13T18:05:27.531Z"
   },
   {
    "duration": 81,
    "start_time": "2021-12-13T18:05:27.624Z"
   },
   {
    "duration": 24,
    "start_time": "2021-12-13T18:05:27.707Z"
   },
   {
    "duration": 11,
    "start_time": "2021-12-13T18:07:41.163Z"
   },
   {
    "duration": 10,
    "start_time": "2021-12-13T18:08:09.846Z"
   },
   {
    "duration": 8,
    "start_time": "2021-12-13T18:09:18.416Z"
   },
   {
    "duration": 35,
    "start_time": "2021-12-13T18:09:21.862Z"
   },
   {
    "duration": 36,
    "start_time": "2021-12-13T18:10:24.032Z"
   },
   {
    "duration": 9,
    "start_time": "2021-12-13T18:10:41.572Z"
   },
   {
    "duration": 14,
    "start_time": "2021-12-13T18:11:20.123Z"
   },
   {
    "duration": 358,
    "start_time": "2021-12-13T18:11:51.158Z"
   },
   {
    "duration": 418,
    "start_time": "2021-12-13T18:12:06.452Z"
   },
   {
    "duration": 12,
    "start_time": "2021-12-13T18:12:13.618Z"
   },
   {
    "duration": 285,
    "start_time": "2021-12-13T18:13:08.975Z"
   },
   {
    "duration": 187,
    "start_time": "2021-12-13T18:13:34.684Z"
   },
   {
    "duration": 12,
    "start_time": "2021-12-13T18:13:43.562Z"
   },
   {
    "duration": 11,
    "start_time": "2021-12-13T18:16:07.371Z"
   },
   {
    "duration": 341,
    "start_time": "2021-12-13T18:17:18.546Z"
   },
   {
    "duration": 11,
    "start_time": "2021-12-13T18:17:25.226Z"
   },
   {
    "duration": 299,
    "start_time": "2021-12-13T18:19:04.795Z"
   },
   {
    "duration": 299,
    "start_time": "2021-12-13T18:19:09.188Z"
   },
   {
    "duration": 459,
    "start_time": "2021-12-13T18:20:27.740Z"
   },
   {
    "duration": 11,
    "start_time": "2021-12-13T18:22:02.927Z"
   },
   {
    "duration": 187,
    "start_time": "2021-12-13T18:23:46.749Z"
   },
   {
    "duration": 508,
    "start_time": "2021-12-13T18:23:53.470Z"
   },
   {
    "duration": 46,
    "start_time": "2021-12-13T18:55:42.667Z"
   },
   {
    "duration": 313,
    "start_time": "2021-12-13T18:55:57.399Z"
   },
   {
    "duration": 49,
    "start_time": "2021-12-13T18:56:02.068Z"
   },
   {
    "duration": 124,
    "start_time": "2021-12-13T18:56:16.966Z"
   },
   {
    "duration": 10,
    "start_time": "2021-12-13T18:56:40.060Z"
   },
   {
    "duration": 11,
    "start_time": "2021-12-13T18:57:14.880Z"
   },
   {
    "duration": 12,
    "start_time": "2021-12-13T18:57:18.128Z"
   },
   {
    "duration": 390,
    "start_time": "2021-12-13T18:57:39.709Z"
   },
   {
    "duration": 387,
    "start_time": "2021-12-13T18:57:53.178Z"
   },
   {
    "duration": 450,
    "start_time": "2021-12-13T18:58:00.716Z"
   },
   {
    "duration": 975,
    "start_time": "2021-12-13T18:58:27.429Z"
   },
   {
    "duration": 1890,
    "start_time": "2021-12-13T18:58:44.434Z"
   },
   {
    "duration": 10960,
    "start_time": "2021-12-13T18:59:01.324Z"
   },
   {
    "duration": 84,
    "start_time": "2021-12-13T18:59:35.608Z"
   },
   {
    "duration": 10750,
    "start_time": "2021-12-13T18:59:39.640Z"
   },
   {
    "duration": 11261,
    "start_time": "2021-12-13T19:00:44.451Z"
   },
   {
    "duration": 11054,
    "start_time": "2021-12-13T19:02:19.416Z"
   },
   {
    "duration": 24,
    "start_time": "2021-12-13T19:04:47.027Z"
   },
   {
    "duration": 18,
    "start_time": "2021-12-13T19:04:51.777Z"
   },
   {
    "duration": 20,
    "start_time": "2021-12-13T19:04:58.222Z"
   },
   {
    "duration": 22,
    "start_time": "2021-12-13T19:05:03.820Z"
   },
   {
    "duration": 21,
    "start_time": "2021-12-13T19:05:14.245Z"
   },
   {
    "duration": 19,
    "start_time": "2021-12-13T19:05:16.435Z"
   },
   {
    "duration": 18,
    "start_time": "2021-12-13T19:05:33.316Z"
   },
   {
    "duration": 1129,
    "start_time": "2021-12-13T19:05:41.254Z"
   },
   {
    "duration": 95,
    "start_time": "2021-12-13T19:05:58.753Z"
   },
   {
    "duration": 142,
    "start_time": "2021-12-13T19:08:07.181Z"
   },
   {
    "duration": 124,
    "start_time": "2021-12-13T19:08:15.756Z"
   },
   {
    "duration": 276,
    "start_time": "2021-12-13T19:08:20.077Z"
   },
   {
    "duration": 4,
    "start_time": "2021-12-13T19:08:39.705Z"
   },
   {
    "duration": 4,
    "start_time": "2021-12-13T19:08:42.908Z"
   },
   {
    "duration": 27,
    "start_time": "2021-12-13T19:08:50.700Z"
   },
   {
    "duration": 4,
    "start_time": "2021-12-13T19:09:15.547Z"
   },
   {
    "duration": 671,
    "start_time": "2021-12-13T19:09:15.554Z"
   },
   {
    "duration": 6,
    "start_time": "2021-12-13T19:09:22.925Z"
   },
   {
    "duration": 14,
    "start_time": "2021-12-13T19:09:32.918Z"
   },
   {
    "duration": 34,
    "start_time": "2021-12-13T19:11:56.693Z"
   },
   {
    "duration": 1481,
    "start_time": "2021-12-13T19:12:08.629Z"
   },
   {
    "duration": 55,
    "start_time": "2021-12-13T19:12:16.466Z"
   },
   {
    "duration": 131,
    "start_time": "2021-12-13T19:12:39.699Z"
   },
   {
    "duration": 36,
    "start_time": "2021-12-13T19:12:44.283Z"
   },
   {
    "duration": 26,
    "start_time": "2021-12-13T19:13:00.131Z"
   },
   {
    "duration": 6,
    "start_time": "2021-12-13T19:13:43.636Z"
   },
   {
    "duration": 5,
    "start_time": "2021-12-13T19:14:17.942Z"
   },
   {
    "duration": 5,
    "start_time": "2021-12-13T19:15:18.734Z"
   },
   {
    "duration": 7,
    "start_time": "2021-12-13T19:15:52.433Z"
   },
   {
    "duration": 12,
    "start_time": "2021-12-13T19:17:23.911Z"
   },
   {
    "duration": 32,
    "start_time": "2021-12-13T19:19:58.828Z"
   },
   {
    "duration": 36,
    "start_time": "2021-12-13T19:21:21.664Z"
   },
   {
    "duration": 430,
    "start_time": "2021-12-13T19:21:44.354Z"
   },
   {
    "duration": 73,
    "start_time": "2021-12-13T19:22:59.624Z"
   },
   {
    "duration": 63,
    "start_time": "2021-12-13T19:23:57.998Z"
   },
   {
    "duration": 67,
    "start_time": "2021-12-13T19:24:02.433Z"
   },
   {
    "duration": 67,
    "start_time": "2021-12-13T19:24:07.317Z"
   },
   {
    "duration": 501,
    "start_time": "2021-12-13T19:24:36.707Z"
   },
   {
    "duration": 65,
    "start_time": "2021-12-13T19:24:40.257Z"
   },
   {
    "duration": 65,
    "start_time": "2021-12-13T19:26:24.703Z"
   },
   {
    "duration": 10,
    "start_time": "2021-12-13T19:26:28.269Z"
   },
   {
    "duration": 3,
    "start_time": "2021-12-13T19:28:16.259Z"
   },
   {
    "duration": 287,
    "start_time": "2021-12-13T19:28:21.941Z"
   },
   {
    "duration": 8,
    "start_time": "2021-12-13T19:28:38.155Z"
   },
   {
    "duration": 6,
    "start_time": "2021-12-13T19:28:41.841Z"
   },
   {
    "duration": 6,
    "start_time": "2021-12-13T19:28:42.267Z"
   },
   {
    "duration": 5,
    "start_time": "2021-12-13T19:28:45.844Z"
   },
   {
    "duration": 11,
    "start_time": "2021-12-13T19:28:53.087Z"
   },
   {
    "duration": 5,
    "start_time": "2021-12-13T19:29:19.064Z"
   },
   {
    "duration": 10,
    "start_time": "2021-12-13T19:29:19.485Z"
   },
   {
    "duration": 5,
    "start_time": "2021-12-13T19:29:24.364Z"
   },
   {
    "duration": 10,
    "start_time": "2021-12-13T19:29:25.652Z"
   },
   {
    "duration": 5,
    "start_time": "2021-12-13T19:29:31.341Z"
   },
   {
    "duration": 10,
    "start_time": "2021-12-13T19:29:32.457Z"
   },
   {
    "duration": 1922,
    "start_time": "2021-12-13T19:31:56.986Z"
   },
   {
    "duration": 278,
    "start_time": "2021-12-13T19:36:57.866Z"
   },
   {
    "duration": 28190,
    "start_time": "2021-12-13T19:38:00.407Z"
   },
   {
    "duration": 904,
    "start_time": "2021-12-13T19:38:35.674Z"
   },
   {
    "duration": 4191,
    "start_time": "2021-12-13T19:38:36.581Z"
   },
   {
    "duration": 265,
    "start_time": "2021-12-13T19:38:40.777Z"
   },
   {
    "duration": 1957,
    "start_time": "2021-12-13T19:38:41.045Z"
   },
   {
    "duration": 1335,
    "start_time": "2021-12-13T19:38:43.005Z"
   },
   {
    "duration": 170,
    "start_time": "2021-12-13T19:38:44.343Z"
   },
   {
    "duration": 296,
    "start_time": "2021-12-13T19:38:44.515Z"
   },
   {
    "duration": 1174,
    "start_time": "2021-12-13T19:38:44.815Z"
   },
   {
    "duration": 1468,
    "start_time": "2021-12-13T19:38:45.992Z"
   },
   {
    "duration": 1192,
    "start_time": "2021-12-13T19:38:47.462Z"
   },
   {
    "duration": 1667,
    "start_time": "2021-12-13T19:38:48.657Z"
   },
   {
    "duration": 516,
    "start_time": "2021-12-13T19:38:50.326Z"
   },
   {
    "duration": 1032,
    "start_time": "2021-12-13T19:38:50.845Z"
   },
   {
    "duration": 1329,
    "start_time": "2021-12-13T19:38:51.880Z"
   },
   {
    "duration": 603,
    "start_time": "2021-12-13T19:38:53.211Z"
   },
   {
    "duration": 12772,
    "start_time": "2021-12-13T19:38:53.817Z"
   },
   {
    "duration": 50,
    "start_time": "2021-12-13T19:39:06.592Z"
   },
   {
    "duration": 651,
    "start_time": "2021-12-13T19:39:06.644Z"
   },
   {
    "duration": 698,
    "start_time": "2021-12-13T19:39:07.298Z"
   },
   {
    "duration": 1413,
    "start_time": "2021-12-13T19:39:07.999Z"
   },
   {
    "duration": 847,
    "start_time": "2021-12-13T19:39:09.414Z"
   },
   {
    "duration": 918,
    "start_time": "2021-12-13T19:39:10.264Z"
   },
   {
    "duration": 1489,
    "start_time": "2021-12-13T19:39:11.186Z"
   },
   {
    "duration": 890,
    "start_time": "2021-12-13T19:39:12.677Z"
   },
   {
    "duration": 1171,
    "start_time": "2021-12-13T19:39:13.570Z"
   },
   {
    "duration": 1124,
    "start_time": "2021-12-13T19:39:20.830Z"
   },
   {
    "duration": 327,
    "start_time": "2021-12-13T19:39:21.958Z"
   },
   {
    "duration": 1568,
    "start_time": "2021-12-13T19:39:22.289Z"
   },
   {
    "duration": 678,
    "start_time": "2021-12-13T19:39:23.860Z"
   },
   {
    "duration": 804,
    "start_time": "2021-12-13T19:39:24.540Z"
   },
   {
    "duration": 901,
    "start_time": "2021-12-13T19:39:25.347Z"
   },
   {
    "duration": 1167,
    "start_time": "2021-12-13T19:39:26.251Z"
   },
   {
    "duration": 697,
    "start_time": "2021-12-13T19:39:27.422Z"
   },
   {
    "duration": 775,
    "start_time": "2021-12-13T19:39:28.122Z"
   },
   {
    "duration": 880,
    "start_time": "2021-12-13T19:39:28.899Z"
   },
   {
    "duration": 478,
    "start_time": "2021-12-13T19:39:29.781Z"
   },
   {
    "duration": 568,
    "start_time": "2021-12-13T19:39:30.261Z"
   },
   {
    "duration": 766,
    "start_time": "2021-12-13T19:39:30.831Z"
   },
   {
    "duration": 624,
    "start_time": "2021-12-13T19:39:31.600Z"
   },
   {
    "duration": 380,
    "start_time": "2021-12-13T19:39:32.226Z"
   },
   {
    "duration": 11181,
    "start_time": "2021-12-13T19:39:32.609Z"
   },
   {
    "duration": 51,
    "start_time": "2021-12-13T19:39:43.792Z"
   },
   {
    "duration": 194,
    "start_time": "2021-12-13T19:39:43.845Z"
   },
   {
    "duration": 455,
    "start_time": "2021-12-13T19:39:44.041Z"
   },
   {
    "duration": 450,
    "start_time": "2021-12-13T19:39:44.498Z"
   },
   {
    "duration": 320,
    "start_time": "2021-12-13T19:39:44.951Z"
   },
   {
    "duration": 430,
    "start_time": "2021-12-13T19:39:45.274Z"
   },
   {
    "duration": 309,
    "start_time": "2021-12-13T19:39:45.708Z"
   },
   {
    "duration": 354,
    "start_time": "2021-12-13T19:39:46.020Z"
   },
   {
    "duration": 307,
    "start_time": "2021-12-13T19:39:46.376Z"
   },
   {
    "duration": 399,
    "start_time": "2021-12-13T19:39:46.685Z"
   },
   {
    "duration": 78,
    "start_time": "2021-12-13T19:40:06.175Z"
   },
   {
    "duration": 62,
    "start_time": "2021-12-13T19:41:12.879Z"
   },
   {
    "duration": 9,
    "start_time": "2021-12-13T19:41:18.120Z"
   },
   {
    "duration": 8,
    "start_time": "2021-12-13T19:41:58.884Z"
   },
   {
    "duration": 6,
    "start_time": "2021-12-13T19:42:34.395Z"
   },
   {
    "duration": 11,
    "start_time": "2021-12-13T19:42:38.867Z"
   },
   {
    "duration": 76,
    "start_time": "2021-12-13T19:42:46.496Z"
   },
   {
    "duration": 12,
    "start_time": "2021-12-13T19:42:52.294Z"
   },
   {
    "duration": 884,
    "start_time": "2021-12-13T19:48:59.729Z"
   },
   {
    "duration": 368,
    "start_time": "2021-12-13T19:51:27.346Z"
   },
   {
    "duration": 9,
    "start_time": "2021-12-13T19:53:22.301Z"
   },
   {
    "duration": -16,
    "start_time": "2021-12-13T19:53:33.622Z"
   },
   {
    "duration": 9,
    "start_time": "2021-12-13T19:53:40.795Z"
   },
   {
    "duration": 330,
    "start_time": "2021-12-13T19:53:48.428Z"
   },
   {
    "duration": -14,
    "start_time": "2021-12-13T19:55:05.978Z"
   },
   {
    "duration": 11,
    "start_time": "2021-12-13T19:55:15.884Z"
   },
   {
    "duration": 11,
    "start_time": "2021-12-13T19:55:18.725Z"
   },
   {
    "duration": 6,
    "start_time": "2021-12-13T19:55:36.108Z"
   },
   {
    "duration": 5,
    "start_time": "2021-12-13T19:55:49.909Z"
   },
   {
    "duration": 4,
    "start_time": "2021-12-13T19:57:08.712Z"
   },
   {
    "duration": 18,
    "start_time": "2021-12-13T19:58:44.629Z"
   },
   {
    "duration": 6,
    "start_time": "2021-12-13T19:59:24.849Z"
   },
   {
    "duration": 15,
    "start_time": "2021-12-13T19:59:26.771Z"
   },
   {
    "duration": 16,
    "start_time": "2021-12-13T20:00:59.370Z"
   },
   {
    "duration": 6,
    "start_time": "2021-12-13T20:03:11.039Z"
   },
   {
    "duration": 891,
    "start_time": "2021-12-15T18:42:20.388Z"
   },
   {
    "duration": 811,
    "start_time": "2021-12-15T18:42:43.244Z"
   },
   {
    "duration": 816,
    "start_time": "2021-12-15T18:43:13.531Z"
   },
   {
    "duration": 2,
    "start_time": "2021-12-15T18:44:20.240Z"
   },
   {
    "duration": 142,
    "start_time": "2021-12-15T18:44:20.244Z"
   },
   {
    "duration": 14,
    "start_time": "2021-12-15T18:44:20.388Z"
   },
   {
    "duration": 20,
    "start_time": "2021-12-15T18:44:20.404Z"
   },
   {
    "duration": 3,
    "start_time": "2021-12-15T18:44:25.661Z"
   },
   {
    "duration": 12,
    "start_time": "2021-12-15T18:44:26.112Z"
   },
   {
    "duration": 15,
    "start_time": "2021-12-15T18:44:26.651Z"
   },
   {
    "duration": 5,
    "start_time": "2021-12-15T18:44:26.816Z"
   },
   {
    "duration": 55,
    "start_time": "2021-12-15T18:44:28.801Z"
   },
   {
    "duration": 56,
    "start_time": "2021-12-15T18:44:29.021Z"
   },
   {
    "duration": 9,
    "start_time": "2021-12-15T18:44:31.032Z"
   },
   {
    "duration": 8,
    "start_time": "2021-12-15T18:44:33.825Z"
   },
   {
    "duration": 72,
    "start_time": "2021-12-15T18:44:34.516Z"
   },
   {
    "duration": 10,
    "start_time": "2021-12-15T18:44:34.905Z"
   },
   {
    "duration": 6579,
    "start_time": "2021-12-15T18:44:40.576Z"
   },
   {
    "duration": 15,
    "start_time": "2021-12-15T18:44:54.565Z"
   },
   {
    "duration": 4,
    "start_time": "2021-12-15T18:44:55.113Z"
   },
   {
    "duration": 8,
    "start_time": "2021-12-15T18:44:56.589Z"
   },
   {
    "duration": 251,
    "start_time": "2021-12-15T18:45:30.532Z"
   },
   {
    "duration": 47,
    "start_time": "2021-12-15T18:45:36.454Z"
   },
   {
    "duration": 5,
    "start_time": "2021-12-15T18:45:38.171Z"
   },
   {
    "duration": 6,
    "start_time": "2021-12-15T18:45:38.751Z"
   },
   {
    "duration": 4,
    "start_time": "2021-12-15T18:45:39.920Z"
   },
   {
    "duration": 4,
    "start_time": "2021-12-15T18:45:40.590Z"
   },
   {
    "duration": 221,
    "start_time": "2021-12-15T18:45:43.418Z"
   },
   {
    "duration": 4,
    "start_time": "2021-12-15T18:45:49.494Z"
   },
   {
    "duration": 6,
    "start_time": "2021-12-15T18:47:08.195Z"
   },
   {
    "duration": 13,
    "start_time": "2021-12-15T18:47:43.137Z"
   },
   {
    "duration": 29,
    "start_time": "2021-12-15T18:48:15.997Z"
   },
   {
    "duration": 32,
    "start_time": "2021-12-15T18:48:57.068Z"
   },
   {
    "duration": 35,
    "start_time": "2021-12-15T18:49:32.740Z"
   },
   {
    "duration": 231,
    "start_time": "2021-12-15T18:50:07.804Z"
   },
   {
    "duration": 6,
    "start_time": "2021-12-15T18:50:38.267Z"
   },
   {
    "duration": 15,
    "start_time": "2021-12-15T18:52:34.073Z"
   },
   {
    "duration": 19,
    "start_time": "2021-12-15T19:08:48.865Z"
   },
   {
    "duration": 31,
    "start_time": "2021-12-15T19:13:18.822Z"
   },
   {
    "duration": 3,
    "start_time": "2021-12-15T19:29:17.780Z"
   },
   {
    "duration": 289,
    "start_time": "2021-12-15T19:34:12.722Z"
   },
   {
    "duration": 3,
    "start_time": "2021-12-15T19:34:16.322Z"
   },
   {
    "duration": 2,
    "start_time": "2021-12-15T19:36:17.216Z"
   },
   {
    "duration": 3,
    "start_time": "2021-12-15T19:37:14.119Z"
   },
   {
    "duration": 4,
    "start_time": "2021-12-15T19:37:21.107Z"
   },
   {
    "duration": 4,
    "start_time": "2021-12-15T19:38:44.010Z"
   },
   {
    "duration": 14,
    "start_time": "2021-12-15T19:39:14.281Z"
   },
   {
    "duration": 18,
    "start_time": "2021-12-15T19:40:28.767Z"
   },
   {
    "duration": 16,
    "start_time": "2021-12-15T19:40:39.815Z"
   },
   {
    "duration": 29,
    "start_time": "2021-12-15T19:41:35.385Z"
   },
   {
    "duration": 3,
    "start_time": "2021-12-15T19:41:56.195Z"
   },
   {
    "duration": 31,
    "start_time": "2021-12-15T19:41:59.628Z"
   },
   {
    "duration": 22,
    "start_time": "2021-12-15T19:42:45.417Z"
   },
   {
    "duration": 4,
    "start_time": "2021-12-15T19:43:37.690Z"
   },
   {
    "duration": 5,
    "start_time": "2021-12-15T19:43:41.282Z"
   },
   {
    "duration": 3,
    "start_time": "2021-12-15T19:45:23.436Z"
   },
   {
    "duration": 3,
    "start_time": "2021-12-15T19:45:31.528Z"
   },
   {
    "duration": 478,
    "start_time": "2021-12-15T19:48:34.660Z"
   },
   {
    "duration": 4,
    "start_time": "2021-12-15T19:48:49.199Z"
   },
   {
    "duration": 197,
    "start_time": "2021-12-15T19:50:55.617Z"
   },
   {
    "duration": 178,
    "start_time": "2021-12-15T19:51:15.979Z"
   },
   {
    "duration": 4,
    "start_time": "2021-12-15T19:51:25.301Z"
   },
   {
    "duration": 6,
    "start_time": "2021-12-15T19:51:48.103Z"
   },
   {
    "duration": 6,
    "start_time": "2021-12-15T19:51:55.725Z"
   },
   {
    "duration": 3,
    "start_time": "2021-12-15T19:52:06.675Z"
   },
   {
    "duration": 164,
    "start_time": "2021-12-15T19:52:32.565Z"
   },
   {
    "duration": 6,
    "start_time": "2021-12-15T19:52:49.302Z"
   },
   {
    "duration": 162,
    "start_time": "2021-12-15T19:54:40.171Z"
   },
   {
    "duration": 4,
    "start_time": "2021-12-15T19:54:54.317Z"
   },
   {
    "duration": 5,
    "start_time": "2021-12-15T19:54:56.142Z"
   },
   {
    "duration": 5,
    "start_time": "2021-12-15T19:55:00.513Z"
   },
   {
    "duration": 5,
    "start_time": "2021-12-15T19:55:07.064Z"
   },
   {
    "duration": 5,
    "start_time": "2021-12-15T19:56:47.328Z"
   },
   {
    "duration": 173,
    "start_time": "2021-12-15T19:56:52.613Z"
   },
   {
    "duration": 2224,
    "start_time": "2021-12-15T19:56:55.327Z"
   },
   {
    "duration": 2636,
    "start_time": "2021-12-15T19:57:00.735Z"
   },
   {
    "duration": 2260,
    "start_time": "2021-12-15T19:57:07.100Z"
   },
   {
    "duration": 5,
    "start_time": "2021-12-15T19:57:18.655Z"
   },
   {
    "duration": 5,
    "start_time": "2021-12-15T19:57:57.155Z"
   },
   {
    "duration": 4,
    "start_time": "2021-12-15T19:59:20.783Z"
   },
   {
    "duration": 5,
    "start_time": "2021-12-15T20:00:16.317Z"
   },
   {
    "duration": 5,
    "start_time": "2021-12-15T20:00:18.959Z"
   },
   {
    "duration": 4,
    "start_time": "2021-12-15T20:00:20.801Z"
   },
   {
    "duration": 4,
    "start_time": "2021-12-15T20:00:22.881Z"
   },
   {
    "duration": 5,
    "start_time": "2021-12-15T20:02:56.726Z"
   },
   {
    "duration": 4,
    "start_time": "2021-12-15T20:03:20.808Z"
   },
   {
    "duration": 58,
    "start_time": "2021-12-15T20:03:34.566Z"
   },
   {
    "duration": 4,
    "start_time": "2021-12-15T20:03:37.229Z"
   },
   {
    "duration": 4,
    "start_time": "2021-12-15T20:09:14.561Z"
   },
   {
    "duration": 3,
    "start_time": "2021-12-15T20:12:51.605Z"
   },
   {
    "duration": 3,
    "start_time": "2021-12-15T20:32:16.382Z"
   },
   {
    "duration": 30,
    "start_time": "2021-12-15T20:32:31.624Z"
   },
   {
    "duration": 4,
    "start_time": "2021-12-15T20:32:36.128Z"
   },
   {
    "duration": 18,
    "start_time": "2021-12-15T20:32:50.331Z"
   },
   {
    "duration": 13,
    "start_time": "2021-12-15T20:33:11.463Z"
   },
   {
    "duration": 24,
    "start_time": "2021-12-15T20:33:13.831Z"
   },
   {
    "duration": 26,
    "start_time": "2021-12-15T20:33:16.048Z"
   },
   {
    "duration": 25,
    "start_time": "2021-12-15T20:33:19.203Z"
   },
   {
    "duration": 5,
    "start_time": "2021-12-15T20:35:03.144Z"
   },
   {
    "duration": 6,
    "start_time": "2021-12-15T20:49:59.468Z"
   },
   {
    "duration": 367,
    "start_time": "2021-12-15T20:50:36.550Z"
   },
   {
    "duration": 3,
    "start_time": "2021-12-15T20:50:54.017Z"
   },
   {
    "duration": 6,
    "start_time": "2021-12-15T20:50:57.903Z"
   },
   {
    "duration": 45,
    "start_time": "2021-12-15T20:50:59.313Z"
   },
   {
    "duration": 7,
    "start_time": "2021-12-15T20:57:57.434Z"
   },
   {
    "duration": 7,
    "start_time": "2021-12-15T20:58:21.856Z"
   },
   {
    "duration": 46,
    "start_time": "2021-12-15T20:58:24.179Z"
   },
   {
    "duration": 7,
    "start_time": "2021-12-15T20:58:51.178Z"
   },
   {
    "duration": 45,
    "start_time": "2021-12-15T20:58:51.619Z"
   },
   {
    "duration": 7,
    "start_time": "2021-12-15T20:59:00.492Z"
   },
   {
    "duration": 49,
    "start_time": "2021-12-15T20:59:00.754Z"
   },
   {
    "duration": 7,
    "start_time": "2021-12-15T21:06:21.401Z"
   },
   {
    "duration": 8,
    "start_time": "2021-12-15T21:07:11.733Z"
   },
   {
    "duration": 62,
    "start_time": "2021-12-15T21:07:12.085Z"
   },
   {
    "duration": 1272,
    "start_time": "2021-12-16T06:42:40.694Z"
   },
   {
    "duration": 3,
    "start_time": "2021-12-16T06:42:41.968Z"
   },
   {
    "duration": 137,
    "start_time": "2021-12-16T06:42:41.973Z"
   },
   {
    "duration": 13,
    "start_time": "2021-12-16T06:42:42.112Z"
   },
   {
    "duration": 23,
    "start_time": "2021-12-16T06:42:42.127Z"
   },
   {
    "duration": 4,
    "start_time": "2021-12-16T06:42:42.152Z"
   },
   {
    "duration": 20,
    "start_time": "2021-12-16T06:42:42.157Z"
   },
   {
    "duration": 23,
    "start_time": "2021-12-16T06:42:42.180Z"
   },
   {
    "duration": 12,
    "start_time": "2021-12-16T06:42:42.205Z"
   },
   {
    "duration": 72,
    "start_time": "2021-12-16T06:42:42.218Z"
   },
   {
    "duration": 69,
    "start_time": "2021-12-16T06:42:42.292Z"
   },
   {
    "duration": 7,
    "start_time": "2021-12-16T06:42:42.363Z"
   },
   {
    "duration": 31,
    "start_time": "2021-12-16T06:42:42.372Z"
   },
   {
    "duration": 86,
    "start_time": "2021-12-16T06:42:42.405Z"
   },
   {
    "duration": 9,
    "start_time": "2021-12-16T06:42:42.492Z"
   },
   {
    "duration": 6734,
    "start_time": "2021-12-16T06:42:42.503Z"
   },
   {
    "duration": 18,
    "start_time": "2021-12-16T06:42:49.239Z"
   },
   {
    "duration": 31,
    "start_time": "2021-12-16T06:42:49.259Z"
   },
   {
    "duration": 57,
    "start_time": "2021-12-16T06:42:49.291Z"
   },
   {
    "duration": 463,
    "start_time": "2021-12-16T06:42:49.350Z"
   },
   {
    "duration": 48,
    "start_time": "2021-12-16T06:42:49.845Z"
   },
   {
    "duration": 6,
    "start_time": "2021-12-16T06:42:49.894Z"
   },
   {
    "duration": 42,
    "start_time": "2021-12-16T06:42:49.904Z"
   },
   {
    "duration": 24,
    "start_time": "2021-12-16T06:42:49.948Z"
   },
   {
    "duration": 42,
    "start_time": "2021-12-16T06:42:49.974Z"
   },
   {
    "duration": 140,
    "start_time": "2021-12-16T06:42:50.018Z"
   },
   {
    "duration": 4,
    "start_time": "2021-12-16T06:42:50.160Z"
   },
   {
    "duration": 34,
    "start_time": "2021-12-16T06:42:50.165Z"
   },
   {
    "duration": 5,
    "start_time": "2021-12-16T06:42:50.201Z"
   },
   {
    "duration": 11,
    "start_time": "2021-12-16T06:42:50.208Z"
   },
   {
    "duration": 7,
    "start_time": "2021-12-16T06:42:50.221Z"
   },
   {
    "duration": 74,
    "start_time": "2021-12-16T06:42:50.229Z"
   },
   {
    "duration": 85,
    "start_time": "2021-12-16T06:51:57.645Z"
   },
   {
    "duration": 25,
    "start_time": "2021-12-16T06:52:00.287Z"
   },
   {
    "duration": 31,
    "start_time": "2021-12-16T06:52:07.892Z"
   },
   {
    "duration": 83,
    "start_time": "2021-12-16T06:52:22.819Z"
   },
   {
    "duration": 32,
    "start_time": "2021-12-16T06:52:25.397Z"
   },
   {
    "duration": 161,
    "start_time": "2021-12-16T06:52:39.934Z"
   },
   {
    "duration": 30,
    "start_time": "2021-12-16T06:52:42.561Z"
   },
   {
    "duration": 30,
    "start_time": "2021-12-16T06:52:55.286Z"
   },
   {
    "duration": 30,
    "start_time": "2021-12-16T06:53:24.150Z"
   },
   {
    "duration": 32,
    "start_time": "2021-12-16T06:53:28.267Z"
   },
   {
    "duration": 439,
    "start_time": "2021-12-16T06:59:44.976Z"
   },
   {
    "duration": 4,
    "start_time": "2021-12-16T06:59:55.269Z"
   },
   {
    "duration": 6,
    "start_time": "2021-12-16T07:00:00.335Z"
   },
   {
    "duration": 3,
    "start_time": "2021-12-16T07:00:23.446Z"
   },
   {
    "duration": 4,
    "start_time": "2021-12-16T07:00:25.465Z"
   },
   {
    "duration": 7,
    "start_time": "2021-12-16T07:00:25.887Z"
   },
   {
    "duration": 294,
    "start_time": "2021-12-16T07:00:59.253Z"
   },
   {
    "duration": 14,
    "start_time": "2021-12-16T07:01:23.333Z"
   },
   {
    "duration": 13,
    "start_time": "2021-12-16T07:02:23.099Z"
   },
   {
    "duration": 4,
    "start_time": "2021-12-16T07:02:51.058Z"
   },
   {
    "duration": 13,
    "start_time": "2021-12-16T07:02:51.609Z"
   },
   {
    "duration": 4,
    "start_time": "2021-12-16T07:02:53.811Z"
   },
   {
    "duration": 7,
    "start_time": "2021-12-16T07:02:54.343Z"
   },
   {
    "duration": 7,
    "start_time": "2021-12-16T07:06:58.793Z"
   },
   {
    "duration": 57,
    "start_time": "2021-12-16T07:07:03.244Z"
   },
   {
    "duration": 7,
    "start_time": "2021-12-16T07:09:05.855Z"
   },
   {
    "duration": 65,
    "start_time": "2021-12-16T07:09:08.047Z"
   },
   {
    "duration": 6,
    "start_time": "2021-12-16T07:10:33.543Z"
   },
   {
    "duration": 3,
    "start_time": "2021-12-16T07:11:02.803Z"
   },
   {
    "duration": 60,
    "start_time": "2021-12-16T07:11:17.174Z"
   },
   {
    "duration": 52,
    "start_time": "2021-12-16T07:11:19.543Z"
   },
   {
    "duration": 3,
    "start_time": "2021-12-16T07:11:23.458Z"
   },
   {
    "duration": 54,
    "start_time": "2021-12-16T07:11:34.039Z"
   },
   {
    "duration": 4,
    "start_time": "2021-12-16T07:11:34.600Z"
   },
   {
    "duration": 55,
    "start_time": "2021-12-16T07:11:35.996Z"
   },
   {
    "duration": 56,
    "start_time": "2021-12-16T07:11:37.111Z"
   },
   {
    "duration": 4,
    "start_time": "2021-12-16T07:11:42.534Z"
   },
   {
    "duration": 9,
    "start_time": "2021-12-16T07:11:43.156Z"
   },
   {
    "duration": 22,
    "start_time": "2021-12-16T07:13:24.876Z"
   },
   {
    "duration": 15,
    "start_time": "2021-12-16T07:13:55.844Z"
   },
   {
    "duration": 15,
    "start_time": "2021-12-16T07:14:00.631Z"
   },
   {
    "duration": 21,
    "start_time": "2021-12-16T07:14:14.925Z"
   },
   {
    "duration": 15,
    "start_time": "2021-12-16T07:14:47.981Z"
   },
   {
    "duration": 14,
    "start_time": "2021-12-16T07:15:24.976Z"
   },
   {
    "duration": 285,
    "start_time": "2021-12-16T07:20:45.451Z"
   },
   {
    "duration": 287,
    "start_time": "2021-12-16T07:20:52.800Z"
   },
   {
    "duration": 13,
    "start_time": "2021-12-16T07:20:54.172Z"
   },
   {
    "duration": 16,
    "start_time": "2021-12-16T07:20:56.896Z"
   },
   {
    "duration": 14,
    "start_time": "2021-12-16T07:21:03.332Z"
   },
   {
    "duration": 424,
    "start_time": "2021-12-16T07:22:28.088Z"
   },
   {
    "duration": 6,
    "start_time": "2021-12-16T07:22:38.814Z"
   },
   {
    "duration": 5,
    "start_time": "2021-12-16T07:22:42.702Z"
   },
   {
    "duration": 5,
    "start_time": "2021-12-16T07:22:45.684Z"
   },
   {
    "duration": 5,
    "start_time": "2021-12-16T07:22:59.225Z"
   },
   {
    "duration": 3,
    "start_time": "2021-12-16T07:23:09.470Z"
   },
   {
    "duration": 4,
    "start_time": "2021-12-16T07:23:23.152Z"
   },
   {
    "duration": 5,
    "start_time": "2021-12-16T07:23:28.120Z"
   },
   {
    "duration": 4,
    "start_time": "2021-12-16T07:23:41.548Z"
   },
   {
    "duration": 3,
    "start_time": "2021-12-16T07:23:42.594Z"
   },
   {
    "duration": 2,
    "start_time": "2021-12-16T07:23:42.946Z"
   },
   {
    "duration": 4,
    "start_time": "2021-12-16T07:23:43.286Z"
   },
   {
    "duration": 7,
    "start_time": "2021-12-16T07:25:35.785Z"
   },
   {
    "duration": 2,
    "start_time": "2021-12-16T07:25:57.444Z"
   },
   {
    "duration": 34,
    "start_time": "2021-12-16T07:26:02.233Z"
   },
   {
    "duration": 4,
    "start_time": "2021-12-16T07:26:02.831Z"
   },
   {
    "duration": 6,
    "start_time": "2021-12-16T07:26:33.970Z"
   },
   {
    "duration": 4,
    "start_time": "2021-12-16T07:26:38.782Z"
   },
   {
    "duration": 1690,
    "start_time": "2021-12-16T12:09:43.050Z"
   },
   {
    "duration": 4,
    "start_time": "2021-12-16T12:09:44.742Z"
   },
   {
    "duration": 198,
    "start_time": "2021-12-16T12:09:44.749Z"
   },
   {
    "duration": 20,
    "start_time": "2021-12-16T12:09:44.949Z"
   },
   {
    "duration": 29,
    "start_time": "2021-12-16T12:09:44.971Z"
   },
   {
    "duration": 18,
    "start_time": "2021-12-16T12:09:45.002Z"
   },
   {
    "duration": 26,
    "start_time": "2021-12-16T12:09:45.022Z"
   },
   {
    "duration": 29,
    "start_time": "2021-12-16T12:09:45.052Z"
   },
   {
    "duration": 6,
    "start_time": "2021-12-16T12:09:45.084Z"
   },
   {
    "duration": 95,
    "start_time": "2021-12-16T12:09:45.092Z"
   },
   {
    "duration": 107,
    "start_time": "2021-12-16T12:09:45.189Z"
   },
   {
    "duration": 21,
    "start_time": "2021-12-16T12:09:45.298Z"
   },
   {
    "duration": 30,
    "start_time": "2021-12-16T12:09:45.321Z"
   },
   {
    "duration": 125,
    "start_time": "2021-12-16T12:09:45.354Z"
   },
   {
    "duration": 12,
    "start_time": "2021-12-16T12:09:45.482Z"
   },
   {
    "duration": 11502,
    "start_time": "2021-12-16T12:09:45.496Z"
   },
   {
    "duration": 37,
    "start_time": "2021-12-16T12:09:57.001Z"
   },
   {
    "duration": 15,
    "start_time": "2021-12-16T12:09:57.041Z"
   },
   {
    "duration": 64,
    "start_time": "2021-12-16T12:09:57.058Z"
   },
   {
    "duration": 767,
    "start_time": "2021-12-16T12:09:57.124Z"
   },
   {
    "duration": 85,
    "start_time": "2021-12-16T12:09:57.893Z"
   },
   {
    "duration": 6,
    "start_time": "2021-12-16T12:09:57.980Z"
   },
   {
    "duration": 27,
    "start_time": "2021-12-16T12:09:57.992Z"
   },
   {
    "duration": 5,
    "start_time": "2021-12-16T12:09:58.022Z"
   },
   {
    "duration": 9,
    "start_time": "2021-12-16T12:09:58.030Z"
   },
   {
    "duration": 209,
    "start_time": "2021-12-16T12:09:58.041Z"
   },
   {
    "duration": 4,
    "start_time": "2021-12-16T12:09:58.253Z"
   },
   {
    "duration": 60,
    "start_time": "2021-12-16T12:09:58.259Z"
   },
   {
    "duration": 9,
    "start_time": "2021-12-16T12:09:58.321Z"
   },
   {
    "duration": 12,
    "start_time": "2021-12-16T12:09:58.333Z"
   },
   {
    "duration": 9,
    "start_time": "2021-12-16T12:09:58.347Z"
   },
   {
    "duration": 538,
    "start_time": "2021-12-16T12:09:58.359Z"
   },
   {
    "duration": -1984,
    "start_time": "2021-12-16T12:10:00.883Z"
   },
   {
    "duration": -1989,
    "start_time": "2021-12-16T12:10:00.890Z"
   },
   {
    "duration": -1993,
    "start_time": "2021-12-16T12:10:00.895Z"
   },
   {
    "duration": -1999,
    "start_time": "2021-12-16T12:10:00.903Z"
   },
   {
    "duration": -2004,
    "start_time": "2021-12-16T12:10:00.909Z"
   },
   {
    "duration": -2048,
    "start_time": "2021-12-16T12:10:00.955Z"
   },
   {
    "duration": -2059,
    "start_time": "2021-12-16T12:10:00.967Z"
   },
   {
    "duration": -2065,
    "start_time": "2021-12-16T12:10:00.975Z"
   },
   {
    "duration": -2069,
    "start_time": "2021-12-16T12:10:00.980Z"
   },
   {
    "duration": -2075,
    "start_time": "2021-12-16T12:10:00.988Z"
   },
   {
    "duration": -2080,
    "start_time": "2021-12-16T12:10:00.994Z"
   },
   {
    "duration": -2086,
    "start_time": "2021-12-16T12:10:01.002Z"
   },
   {
    "duration": -2090,
    "start_time": "2021-12-16T12:10:01.008Z"
   },
   {
    "duration": -2094,
    "start_time": "2021-12-16T12:10:01.013Z"
   },
   {
    "duration": -2100,
    "start_time": "2021-12-16T12:10:01.021Z"
   },
   {
    "duration": -2106,
    "start_time": "2021-12-16T12:10:01.028Z"
   },
   {
    "duration": -2110,
    "start_time": "2021-12-16T12:10:01.034Z"
   },
   {
    "duration": 4,
    "start_time": "2021-12-16T12:10:10.686Z"
   },
   {
    "duration": 10,
    "start_time": "2021-12-16T12:10:11.358Z"
   },
   {
    "duration": 30,
    "start_time": "2021-12-16T12:10:12.381Z"
   },
   {
    "duration": 5,
    "start_time": "2021-12-16T12:12:22.813Z"
   },
   {
    "duration": 621,
    "start_time": "2021-12-16T12:12:33.325Z"
   },
   {
    "duration": 5,
    "start_time": "2021-12-16T12:12:41.077Z"
   },
   {
    "duration": 158,
    "start_time": "2021-12-16T12:12:41.525Z"
   },
   {
    "duration": 5,
    "start_time": "2021-12-16T12:14:05.812Z"
   },
   {
    "duration": 155,
    "start_time": "2021-12-16T12:14:06.127Z"
   },
   {
    "duration": 5,
    "start_time": "2021-12-16T12:14:30.125Z"
   },
   {
    "duration": 160,
    "start_time": "2021-12-16T12:14:31.240Z"
   },
   {
    "duration": 6,
    "start_time": "2021-12-16T12:15:00.683Z"
   },
   {
    "duration": 165,
    "start_time": "2021-12-16T12:15:00.865Z"
   },
   {
    "duration": 5,
    "start_time": "2021-12-16T12:15:04.387Z"
   },
   {
    "duration": 160,
    "start_time": "2021-12-16T12:15:04.853Z"
   },
   {
    "duration": 5,
    "start_time": "2021-12-16T12:15:16.019Z"
   },
   {
    "duration": 160,
    "start_time": "2021-12-16T12:15:16.758Z"
   },
   {
    "duration": 10,
    "start_time": "2021-12-16T12:15:59.502Z"
   },
   {
    "duration": 5,
    "start_time": "2021-12-16T12:16:02.805Z"
   },
   {
    "duration": 156,
    "start_time": "2021-12-16T12:16:03.213Z"
   },
   {
    "duration": 4,
    "start_time": "2021-12-16T12:16:18.903Z"
   },
   {
    "duration": 160,
    "start_time": "2021-12-16T12:16:19.132Z"
   },
   {
    "duration": 10,
    "start_time": "2021-12-16T12:23:27.316Z"
   },
   {
    "duration": 174,
    "start_time": "2021-12-16T12:23:31.109Z"
   },
   {
    "duration": 95,
    "start_time": "2021-12-16T12:28:00.779Z"
   },
   {
    "duration": 235,
    "start_time": "2021-12-16T12:28:13.976Z"
   },
   {
    "duration": 257,
    "start_time": "2021-12-16T12:28:31.727Z"
   },
   {
    "duration": 260,
    "start_time": "2021-12-16T12:28:33.997Z"
   },
   {
    "duration": 21,
    "start_time": "2021-12-16T12:28:59.305Z"
   },
   {
    "duration": 51,
    "start_time": "2021-12-16T12:29:09.351Z"
   },
   {
    "duration": 50,
    "start_time": "2021-12-16T12:29:53.073Z"
   },
   {
    "duration": 245,
    "start_time": "2021-12-16T12:30:29.078Z"
   },
   {
    "duration": 10,
    "start_time": "2021-12-16T12:31:01.970Z"
   },
   {
    "duration": 50,
    "start_time": "2021-12-16T12:31:17.566Z"
   },
   {
    "duration": 48,
    "start_time": "2021-12-16T12:31:56.178Z"
   },
   {
    "duration": 46,
    "start_time": "2021-12-16T12:32:43.812Z"
   },
   {
    "duration": 9,
    "start_time": "2021-12-16T12:33:16.338Z"
   },
   {
    "duration": 5,
    "start_time": "2021-12-16T12:33:20.405Z"
   },
   {
    "duration": 10,
    "start_time": "2021-12-16T12:33:26.229Z"
   },
   {
    "duration": 5,
    "start_time": "2021-12-16T12:33:40.139Z"
   },
   {
    "duration": 10,
    "start_time": "2021-12-16T12:33:41.035Z"
   },
   {
    "duration": 5,
    "start_time": "2021-12-16T12:33:49.417Z"
   },
   {
    "duration": 10,
    "start_time": "2021-12-16T12:33:50.670Z"
   },
   {
    "duration": 167,
    "start_time": "2021-12-16T12:42:20.970Z"
   },
   {
    "duration": 157,
    "start_time": "2021-12-16T12:42:40.598Z"
   },
   {
    "duration": 4,
    "start_time": "2021-12-16T12:47:50.799Z"
   },
   {
    "duration": 11,
    "start_time": "2021-12-16T12:47:51.329Z"
   },
   {
    "duration": 19,
    "start_time": "2021-12-16T12:47:51.858Z"
   },
   {
    "duration": 6,
    "start_time": "2021-12-16T12:47:52.247Z"
   },
   {
    "duration": 154,
    "start_time": "2021-12-16T12:48:00.177Z"
   },
   {
    "duration": 151,
    "start_time": "2021-12-16T12:48:06.257Z"
   },
   {
    "duration": 152,
    "start_time": "2021-12-16T12:48:09.511Z"
   },
   {
    "duration": 257,
    "start_time": "2021-12-16T12:52:30.012Z"
   },
   {
    "duration": 3,
    "start_time": "2021-12-16T12:53:21.459Z"
   },
   {
    "duration": 449,
    "start_time": "2021-12-16T12:53:30.472Z"
   },
   {
    "duration": 283,
    "start_time": "2021-12-16T12:53:36.532Z"
   },
   {
    "duration": 238,
    "start_time": "2021-12-16T12:55:11.258Z"
   },
   {
    "duration": 257,
    "start_time": "2021-12-16T12:55:14.643Z"
   },
   {
    "duration": 226,
    "start_time": "2021-12-16T12:55:58.884Z"
   },
   {
    "duration": 243,
    "start_time": "2021-12-16T12:56:05.928Z"
   },
   {
    "duration": 234,
    "start_time": "2021-12-16T12:57:38.925Z"
   },
   {
    "duration": 90,
    "start_time": "2021-12-16T12:57:43.007Z"
   },
   {
    "duration": 248,
    "start_time": "2021-12-16T12:57:48.444Z"
   },
   {
    "duration": 252,
    "start_time": "2021-12-16T12:58:30.449Z"
   },
   {
    "duration": 91,
    "start_time": "2021-12-16T12:58:36.929Z"
   },
   {
    "duration": 421,
    "start_time": "2021-12-16T12:59:29.781Z"
   },
   {
    "duration": 237,
    "start_time": "2021-12-16T13:01:15.727Z"
   },
   {
    "duration": 27,
    "start_time": "2021-12-16T13:05:07.055Z"
   },
   {
    "duration": 244,
    "start_time": "2021-12-16T13:05:19.775Z"
   },
   {
    "duration": 281,
    "start_time": "2021-12-16T13:05:23.616Z"
   },
   {
    "duration": 19,
    "start_time": "2021-12-16T13:05:49.597Z"
   },
   {
    "duration": 11,
    "start_time": "2021-12-16T13:06:05.291Z"
   },
   {
    "duration": 37,
    "start_time": "2021-12-16T13:06:31.210Z"
   },
   {
    "duration": 13,
    "start_time": "2021-12-16T13:06:36.347Z"
   },
   {
    "duration": 777,
    "start_time": "2021-12-16T13:06:58.900Z"
   },
   {
    "duration": 12,
    "start_time": "2021-12-16T13:07:06.684Z"
   },
   {
    "duration": 729,
    "start_time": "2021-12-16T13:07:07.154Z"
   },
   {
    "duration": 152,
    "start_time": "2021-12-16T13:07:21.757Z"
   },
   {
    "duration": 21,
    "start_time": "2021-12-16T13:07:30.813Z"
   },
   {
    "duration": 20,
    "start_time": "2021-12-16T13:07:38.121Z"
   },
   {
    "duration": 310,
    "start_time": "2021-12-16T13:12:38.574Z"
   },
   {
    "duration": 30,
    "start_time": "2021-12-16T13:12:45.017Z"
   },
   {
    "duration": 17,
    "start_time": "2021-12-16T13:12:58.118Z"
   },
   {
    "duration": 18,
    "start_time": "2021-12-16T13:13:14.669Z"
   },
   {
    "duration": 10,
    "start_time": "2021-12-16T13:14:08.853Z"
   },
   {
    "duration": 211,
    "start_time": "2021-12-16T13:14:22.415Z"
   },
   {
    "duration": 237,
    "start_time": "2021-12-16T13:14:27.729Z"
   },
   {
    "duration": 244,
    "start_time": "2021-12-16T13:14:31.238Z"
   },
   {
    "duration": 294,
    "start_time": "2021-12-16T13:14:38.972Z"
   },
   {
    "duration": 1385,
    "start_time": "2021-12-16T19:02:31.029Z"
   },
   {
    "duration": 3,
    "start_time": "2021-12-16T19:03:56.412Z"
   },
   {
    "duration": 131,
    "start_time": "2021-12-16T19:03:57.327Z"
   },
   {
    "duration": 14,
    "start_time": "2021-12-16T19:04:00.025Z"
   },
   {
    "duration": 14,
    "start_time": "2021-12-16T19:04:00.367Z"
   },
   {
    "duration": 3,
    "start_time": "2021-12-16T19:04:13.979Z"
   },
   {
    "duration": 9,
    "start_time": "2021-12-16T19:04:16.324Z"
   },
   {
    "duration": 14,
    "start_time": "2021-12-16T19:04:18.662Z"
   },
   {
    "duration": 5,
    "start_time": "2021-12-16T19:04:18.976Z"
   },
   {
    "duration": 67,
    "start_time": "2021-12-16T19:04:32.831Z"
   },
   {
    "duration": 58,
    "start_time": "2021-12-16T19:05:01.211Z"
   },
   {
    "duration": 10,
    "start_time": "2021-12-16T19:05:02.285Z"
   },
   {
    "duration": 7,
    "start_time": "2021-12-16T19:05:14.613Z"
   },
   {
    "duration": 8,
    "start_time": "2021-12-16T19:05:22.021Z"
   },
   {
    "duration": 12,
    "start_time": "2021-12-16T19:05:29.587Z"
   },
   {
    "duration": 80,
    "start_time": "2021-12-16T19:06:01.596Z"
   },
   {
    "duration": 9,
    "start_time": "2021-12-16T19:06:04.324Z"
   },
   {
    "duration": 6903,
    "start_time": "2021-12-16T19:06:32.174Z"
   },
   {
    "duration": 94,
    "start_time": "2021-12-16T19:08:04.113Z"
   },
   {
    "duration": 6832,
    "start_time": "2021-12-16T19:08:06.993Z"
   },
   {
    "duration": 385,
    "start_time": "2021-12-16T19:08:37.791Z"
   },
   {
    "duration": 6011,
    "start_time": "2021-12-16T19:08:42.728Z"
   },
   {
    "duration": 236,
    "start_time": "2021-12-16T19:09:23.197Z"
   },
   {
    "duration": 6940,
    "start_time": "2021-12-16T19:09:34.413Z"
   },
   {
    "duration": 6028,
    "start_time": "2021-12-16T19:12:16.021Z"
   },
   {
    "duration": 242,
    "start_time": "2021-12-16T19:12:32.978Z"
   },
   {
    "duration": 294,
    "start_time": "2021-12-16T19:12:38.623Z"
   },
   {
    "duration": 5866,
    "start_time": "2021-12-16T19:12:54.455Z"
   },
   {
    "duration": 5739,
    "start_time": "2021-12-16T19:13:06.730Z"
   },
   {
    "duration": 18,
    "start_time": "2021-12-16T19:13:32.853Z"
   },
   {
    "duration": 3,
    "start_time": "2021-12-16T19:13:37.278Z"
   },
   {
    "duration": 6,
    "start_time": "2021-12-16T19:13:42.828Z"
   },
   {
    "duration": 347,
    "start_time": "2021-12-16T19:14:04.681Z"
   },
   {
    "duration": 410,
    "start_time": "2021-12-16T19:16:01.600Z"
   },
   {
    "duration": 250,
    "start_time": "2021-12-16T19:16:32.808Z"
   },
   {
    "duration": 45,
    "start_time": "2021-12-16T19:16:55.743Z"
   },
   {
    "duration": 6,
    "start_time": "2021-12-16T19:17:11.117Z"
   },
   {
    "duration": 6,
    "start_time": "2021-12-16T19:17:50.804Z"
   },
   {
    "duration": 5,
    "start_time": "2021-12-16T19:17:52.493Z"
   },
   {
    "duration": 7,
    "start_time": "2021-12-16T19:18:01.428Z"
   },
   {
    "duration": 43,
    "start_time": "2021-12-16T19:19:09.652Z"
   },
   {
    "duration": 4,
    "start_time": "2021-12-16T19:19:09.983Z"
   },
   {
    "duration": 3,
    "start_time": "2021-12-16T19:19:10.364Z"
   },
   {
    "duration": 8,
    "start_time": "2021-12-16T19:19:11.515Z"
   },
   {
    "duration": 8,
    "start_time": "2021-12-16T19:21:23.403Z"
   },
   {
    "duration": 7,
    "start_time": "2021-12-16T19:21:42.655Z"
   },
   {
    "duration": 3,
    "start_time": "2021-12-16T19:21:52.559Z"
   },
   {
    "duration": 7,
    "start_time": "2021-12-16T19:21:55.838Z"
   },
   {
    "duration": 77,
    "start_time": "2021-12-16T19:23:40.678Z"
   },
   {
    "duration": 375,
    "start_time": "2021-12-16T19:23:45.759Z"
   },
   {
    "duration": 221,
    "start_time": "2021-12-16T19:24:20.160Z"
   },
   {
    "duration": 224,
    "start_time": "2021-12-16T19:24:44.447Z"
   },
   {
    "duration": 362,
    "start_time": "2021-12-16T19:24:55.153Z"
   },
   {
    "duration": 4,
    "start_time": "2021-12-16T19:25:26.137Z"
   },
   {
    "duration": 642,
    "start_time": "2021-12-16T19:25:26.650Z"
   },
   {
    "duration": 8,
    "start_time": "2021-12-16T19:27:23.254Z"
   },
   {
    "duration": 4,
    "start_time": "2021-12-16T19:27:37.853Z"
   },
   {
    "duration": 108,
    "start_time": "2021-12-16T19:27:43.141Z"
   },
   {
    "duration": 190,
    "start_time": "2021-12-16T19:31:12.326Z"
   },
   {
    "duration": 183,
    "start_time": "2021-12-16T19:31:46.643Z"
   },
   {
    "duration": 415,
    "start_time": "2021-12-16T19:33:34.735Z"
   },
   {
    "duration": 4,
    "start_time": "2021-12-16T19:34:52.034Z"
   },
   {
    "duration": 33,
    "start_time": "2021-12-16T19:36:02.959Z"
   },
   {
    "duration": 3,
    "start_time": "2021-12-16T19:39:50.149Z"
   },
   {
    "duration": 3,
    "start_time": "2021-12-16T19:40:45.196Z"
   },
   {
    "duration": 6,
    "start_time": "2021-12-16T19:43:15.123Z"
   },
   {
    "duration": 12,
    "start_time": "2021-12-16T19:43:44.149Z"
   },
   {
    "duration": 3,
    "start_time": "2021-12-16T19:43:45.245Z"
   },
   {
    "duration": 3,
    "start_time": "2021-12-16T19:45:17.801Z"
   },
   {
    "duration": 37,
    "start_time": "2021-12-16T19:45:36.352Z"
   },
   {
    "duration": 3,
    "start_time": "2021-12-16T19:45:38.332Z"
   },
   {
    "duration": 7,
    "start_time": "2021-12-16T19:45:39.248Z"
   },
   {
    "duration": 68,
    "start_time": "2021-12-16T19:46:10.558Z"
   },
   {
    "duration": 140,
    "start_time": "2021-12-16T19:46:34.362Z"
   },
   {
    "duration": 140,
    "start_time": "2021-12-16T19:47:47.275Z"
   },
   {
    "duration": 134,
    "start_time": "2021-12-16T19:48:01.894Z"
   },
   {
    "duration": 8,
    "start_time": "2021-12-16T19:50:15.028Z"
   },
   {
    "duration": 154,
    "start_time": "2021-12-16T19:50:15.472Z"
   },
   {
    "duration": 11,
    "start_time": "2021-12-16T20:00:48.456Z"
   },
   {
    "duration": 1181,
    "start_time": "2021-12-16T20:03:26.429Z"
   },
   {
    "duration": 2,
    "start_time": "2021-12-16T20:03:27.612Z"
   },
   {
    "duration": 114,
    "start_time": "2021-12-16T20:03:27.616Z"
   },
   {
    "duration": 12,
    "start_time": "2021-12-16T20:03:27.732Z"
   },
   {
    "duration": 17,
    "start_time": "2021-12-16T20:03:27.746Z"
   },
   {
    "duration": 3,
    "start_time": "2021-12-16T20:03:27.764Z"
   },
   {
    "duration": 26,
    "start_time": "2021-12-16T20:03:27.768Z"
   },
   {
    "duration": 13,
    "start_time": "2021-12-16T20:03:27.797Z"
   },
   {
    "duration": 5,
    "start_time": "2021-12-16T20:03:27.812Z"
   },
   {
    "duration": 71,
    "start_time": "2021-12-16T20:03:27.818Z"
   },
   {
    "duration": 54,
    "start_time": "2021-12-16T20:03:27.890Z"
   },
   {
    "duration": 8,
    "start_time": "2021-12-16T20:03:27.946Z"
   },
   {
    "duration": 32,
    "start_time": "2021-12-16T20:03:27.956Z"
   },
   {
    "duration": 69,
    "start_time": "2021-12-16T20:03:27.989Z"
   },
   {
    "duration": 9,
    "start_time": "2021-12-16T20:03:28.060Z"
   },
   {
    "duration": 6637,
    "start_time": "2021-12-16T20:03:28.088Z"
   },
   {
    "duration": 18,
    "start_time": "2021-12-16T20:03:34.726Z"
   },
   {
    "duration": 44,
    "start_time": "2021-12-16T20:03:34.746Z"
   },
   {
    "duration": 15,
    "start_time": "2021-12-16T20:03:34.792Z"
   },
   {
    "duration": 424,
    "start_time": "2021-12-16T20:03:34.808Z"
   },
   {
    "duration": 91,
    "start_time": "2021-12-16T20:03:35.234Z"
   },
   {
    "duration": 4,
    "start_time": "2021-12-16T20:03:35.326Z"
   },
   {
    "duration": 58,
    "start_time": "2021-12-16T20:03:35.333Z"
   },
   {
    "duration": 5,
    "start_time": "2021-12-16T20:03:35.393Z"
   },
   {
    "duration": 347,
    "start_time": "2021-12-16T20:03:35.399Z"
   },
   {
    "duration": 3,
    "start_time": "2021-12-16T20:03:35.748Z"
   },
   {
    "duration": 330,
    "start_time": "2021-12-16T20:03:35.752Z"
   },
   {
    "duration": 4,
    "start_time": "2021-12-16T20:03:36.084Z"
   },
   {
    "duration": 35,
    "start_time": "2021-12-16T20:03:36.089Z"
   },
   {
    "duration": 4,
    "start_time": "2021-12-16T20:03:36.126Z"
   },
   {
    "duration": 30,
    "start_time": "2021-12-16T20:03:36.132Z"
   },
   {
    "duration": 50,
    "start_time": "2021-12-16T20:03:36.164Z"
   },
   {
    "duration": 5,
    "start_time": "2021-12-16T20:03:36.216Z"
   },
   {
    "duration": 63,
    "start_time": "2021-12-16T20:03:36.223Z"
   },
   {
    "duration": 4,
    "start_time": "2021-12-16T20:03:36.288Z"
   },
   {
    "duration": 9,
    "start_time": "2021-12-16T20:03:36.294Z"
   },
   {
    "duration": 158,
    "start_time": "2021-12-16T20:03:36.304Z"
   },
   {
    "duration": 149,
    "start_time": "2021-12-16T20:03:36.463Z"
   },
   {
    "duration": 148,
    "start_time": "2021-12-16T20:03:36.614Z"
   },
   {
    "duration": 6,
    "start_time": "2021-12-16T20:03:36.764Z"
   },
   {
    "duration": 177,
    "start_time": "2021-12-16T20:03:36.771Z"
   },
   {
    "duration": 2,
    "start_time": "2021-12-16T20:03:36.950Z"
   },
   {
    "duration": 5,
    "start_time": "2021-12-16T20:03:36.953Z"
   },
   {
    "duration": 7,
    "start_time": "2021-12-16T20:03:57.106Z"
   },
   {
    "duration": 194,
    "start_time": "2021-12-16T20:04:44.839Z"
   },
   {
    "duration": 535,
    "start_time": "2021-12-16T20:05:59.071Z"
   },
   {
    "duration": 188,
    "start_time": "2021-12-16T20:06:03.930Z"
   },
   {
    "duration": 188,
    "start_time": "2021-12-16T20:06:13.530Z"
   },
   {
    "duration": 528,
    "start_time": "2021-12-16T20:06:27.519Z"
   },
   {
    "duration": 191,
    "start_time": "2021-12-16T20:06:39.450Z"
   },
   {
    "duration": 186,
    "start_time": "2021-12-16T20:07:28.572Z"
   },
   {
    "duration": 7,
    "start_time": "2021-12-16T20:07:30.606Z"
   },
   {
    "duration": 233,
    "start_time": "2021-12-16T20:08:14.736Z"
   },
   {
    "duration": 4,
    "start_time": "2021-12-16T20:08:33.835Z"
   },
   {
    "duration": 234,
    "start_time": "2021-12-16T20:09:18.602Z"
   },
   {
    "duration": 238,
    "start_time": "2021-12-16T20:09:33.188Z"
   },
   {
    "duration": 3,
    "start_time": "2021-12-16T20:09:55.835Z"
   },
   {
    "duration": 3,
    "start_time": "2021-12-16T20:10:15.810Z"
   },
   {
    "duration": 4,
    "start_time": "2021-12-16T20:10:21.108Z"
   },
   {
    "duration": 6,
    "start_time": "2021-12-16T20:10:49.435Z"
   },
   {
    "duration": 5,
    "start_time": "2021-12-16T20:12:00.069Z"
   },
   {
    "duration": 5,
    "start_time": "2021-12-16T20:12:09.329Z"
   },
   {
    "duration": 5,
    "start_time": "2021-12-16T20:12:32.306Z"
   },
   {
    "duration": 4,
    "start_time": "2021-12-16T20:12:37.539Z"
   },
   {
    "duration": 223,
    "start_time": "2021-12-16T20:12:59.974Z"
   },
   {
    "duration": 4,
    "start_time": "2021-12-16T20:13:25.412Z"
   },
   {
    "duration": 3,
    "start_time": "2021-12-16T20:16:29.861Z"
   },
   {
    "duration": 4,
    "start_time": "2021-12-16T20:16:49.066Z"
   },
   {
    "duration": 4,
    "start_time": "2021-12-16T20:17:03.882Z"
   },
   {
    "duration": 4,
    "start_time": "2021-12-16T20:17:44.826Z"
   },
   {
    "duration": 4,
    "start_time": "2021-12-16T20:20:08.548Z"
   },
   {
    "duration": 4,
    "start_time": "2021-12-16T20:20:10.656Z"
   },
   {
    "duration": 5,
    "start_time": "2021-12-16T20:20:17.963Z"
   },
   {
    "duration": 65,
    "start_time": "2021-12-16T20:23:44.414Z"
   },
   {
    "duration": 5,
    "start_time": "2021-12-16T20:24:13.936Z"
   },
   {
    "duration": 4,
    "start_time": "2021-12-16T20:24:25.496Z"
   },
   {
    "duration": 4,
    "start_time": "2021-12-16T20:24:38.308Z"
   },
   {
    "duration": 6,
    "start_time": "2021-12-16T20:25:36.779Z"
   },
   {
    "duration": 4,
    "start_time": "2021-12-16T20:27:27.123Z"
   },
   {
    "duration": 5,
    "start_time": "2021-12-16T20:27:32.584Z"
   },
   {
    "duration": 6,
    "start_time": "2021-12-16T20:28:19.061Z"
   },
   {
    "duration": 4,
    "start_time": "2021-12-16T20:28:39.013Z"
   },
   {
    "duration": 5,
    "start_time": "2021-12-16T20:29:14.761Z"
   },
   {
    "duration": 1195,
    "start_time": "2021-12-16T20:40:51.920Z"
   },
   {
    "duration": 2,
    "start_time": "2021-12-16T20:40:53.117Z"
   },
   {
    "duration": 119,
    "start_time": "2021-12-16T20:40:53.121Z"
   },
   {
    "duration": 12,
    "start_time": "2021-12-16T20:40:53.242Z"
   },
   {
    "duration": 16,
    "start_time": "2021-12-16T20:40:53.256Z"
   },
   {
    "duration": 2,
    "start_time": "2021-12-16T20:40:53.274Z"
   },
   {
    "duration": 15,
    "start_time": "2021-12-16T20:40:53.278Z"
   },
   {
    "duration": 14,
    "start_time": "2021-12-16T20:40:53.295Z"
   },
   {
    "duration": 4,
    "start_time": "2021-12-16T20:40:53.311Z"
   },
   {
    "duration": 50,
    "start_time": "2021-12-16T20:40:53.316Z"
   },
   {
    "duration": 69,
    "start_time": "2021-12-16T20:40:53.368Z"
   },
   {
    "duration": 7,
    "start_time": "2021-12-16T20:40:53.439Z"
   },
   {
    "duration": 8,
    "start_time": "2021-12-16T20:40:53.448Z"
   },
   {
    "duration": 89,
    "start_time": "2021-12-16T20:40:53.457Z"
   },
   {
    "duration": 9,
    "start_time": "2021-12-16T20:40:53.548Z"
   },
   {
    "duration": 6633,
    "start_time": "2021-12-16T20:40:53.558Z"
   },
   {
    "duration": 18,
    "start_time": "2021-12-16T20:41:00.194Z"
   },
   {
    "duration": 3,
    "start_time": "2021-12-16T20:41:00.214Z"
   },
   {
    "duration": 11,
    "start_time": "2021-12-16T20:41:00.219Z"
   },
   {
    "duration": 506,
    "start_time": "2021-12-16T20:41:00.232Z"
   },
   {
    "duration": 84,
    "start_time": "2021-12-16T20:41:00.740Z"
   },
   {
    "duration": 5,
    "start_time": "2021-12-16T20:41:00.826Z"
   },
   {
    "duration": 10,
    "start_time": "2021-12-16T20:41:00.835Z"
   },
   {
    "duration": 22,
    "start_time": "2021-12-16T20:41:00.847Z"
   },
   {
    "duration": 230,
    "start_time": "2021-12-16T20:41:00.871Z"
   },
   {
    "duration": 3,
    "start_time": "2021-12-16T20:41:01.103Z"
   },
   {
    "duration": 371,
    "start_time": "2021-12-16T20:41:01.108Z"
   },
   {
    "duration": 3,
    "start_time": "2021-12-16T20:41:01.481Z"
   },
   {
    "duration": 43,
    "start_time": "2021-12-16T20:41:01.487Z"
   },
   {
    "duration": 3,
    "start_time": "2021-12-16T20:41:01.532Z"
   },
   {
    "duration": 14,
    "start_time": "2021-12-16T20:41:01.537Z"
   },
   {
    "duration": 44,
    "start_time": "2021-12-16T20:41:01.553Z"
   },
   {
    "duration": 9,
    "start_time": "2021-12-16T20:41:01.599Z"
   },
   {
    "duration": 59,
    "start_time": "2021-12-16T20:41:01.609Z"
   },
   {
    "duration": 4,
    "start_time": "2021-12-16T20:41:01.669Z"
   },
   {
    "duration": 34,
    "start_time": "2021-12-16T20:41:01.675Z"
   },
   {
    "duration": 163,
    "start_time": "2021-12-16T20:41:01.710Z"
   },
   {
    "duration": 147,
    "start_time": "2021-12-16T20:41:01.876Z"
   },
   {
    "duration": 153,
    "start_time": "2021-12-16T20:41:02.025Z"
   },
   {
    "duration": 11,
    "start_time": "2021-12-16T20:41:02.179Z"
   },
   {
    "duration": 181,
    "start_time": "2021-12-16T20:41:02.191Z"
   },
   {
    "duration": 202,
    "start_time": "2021-12-16T20:41:02.374Z"
   },
   {
    "duration": 13,
    "start_time": "2021-12-16T20:41:02.577Z"
   },
   {
    "duration": 33,
    "start_time": "2021-12-16T20:41:02.591Z"
   },
   {
    "duration": 17,
    "start_time": "2021-12-16T20:41:02.626Z"
   },
   {
    "duration": 65,
    "start_time": "2021-12-17T08:31:23.969Z"
   },
   {
    "duration": 1238,
    "start_time": "2021-12-18T11:31:58.910Z"
   },
   {
    "duration": 3,
    "start_time": "2021-12-18T11:32:00.150Z"
   },
   {
    "duration": 135,
    "start_time": "2021-12-18T11:32:00.154Z"
   },
   {
    "duration": 13,
    "start_time": "2021-12-18T11:32:00.291Z"
   },
   {
    "duration": 25,
    "start_time": "2021-12-18T11:32:00.306Z"
   },
   {
    "duration": 3,
    "start_time": "2021-12-18T11:32:00.333Z"
   },
   {
    "duration": 14,
    "start_time": "2021-12-18T11:32:00.338Z"
   },
   {
    "duration": 16,
    "start_time": "2021-12-18T11:32:00.355Z"
   },
   {
    "duration": 6,
    "start_time": "2021-12-18T11:32:00.387Z"
   },
   {
    "duration": 54,
    "start_time": "2021-12-18T11:32:00.394Z"
   },
   {
    "duration": 68,
    "start_time": "2021-12-18T11:32:00.450Z"
   },
   {
    "duration": 7,
    "start_time": "2021-12-18T11:32:00.520Z"
   },
   {
    "duration": 11,
    "start_time": "2021-12-18T11:32:00.528Z"
   },
   {
    "duration": 81,
    "start_time": "2021-12-18T11:32:00.540Z"
   },
   {
    "duration": 10,
    "start_time": "2021-12-18T11:32:00.623Z"
   },
   {
    "duration": 6581,
    "start_time": "2021-12-18T11:32:00.635Z"
   },
   {
    "duration": 17,
    "start_time": "2021-12-18T11:32:07.217Z"
   },
   {
    "duration": 3,
    "start_time": "2021-12-18T11:32:07.236Z"
   },
   {
    "duration": 49,
    "start_time": "2021-12-18T11:32:07.241Z"
   },
   {
    "duration": 433,
    "start_time": "2021-12-18T11:32:07.291Z"
   },
   {
    "duration": 99,
    "start_time": "2021-12-18T11:32:07.725Z"
   },
   {
    "duration": 5,
    "start_time": "2021-12-18T11:32:07.825Z"
   },
   {
    "duration": 4,
    "start_time": "2021-12-18T11:32:07.834Z"
   },
   {
    "duration": 8,
    "start_time": "2021-12-18T11:32:07.840Z"
   },
   {
    "duration": 244,
    "start_time": "2021-12-18T11:32:07.849Z"
   },
   {
    "duration": 4,
    "start_time": "2021-12-18T11:32:08.094Z"
   },
   {
    "duration": 323,
    "start_time": "2021-12-18T11:32:08.099Z"
   },
   {
    "duration": 4,
    "start_time": "2021-12-18T11:32:08.424Z"
   },
   {
    "duration": 59,
    "start_time": "2021-12-18T11:32:08.430Z"
   },
   {
    "duration": 3,
    "start_time": "2021-12-18T11:32:08.491Z"
   },
   {
    "duration": 8,
    "start_time": "2021-12-18T11:32:08.496Z"
   },
   {
    "duration": 24,
    "start_time": "2021-12-18T11:32:08.506Z"
   },
   {
    "duration": 8,
    "start_time": "2021-12-18T11:32:08.531Z"
   },
   {
    "duration": 55,
    "start_time": "2021-12-18T11:32:08.540Z"
   },
   {
    "duration": 3,
    "start_time": "2021-12-18T11:32:08.597Z"
   },
   {
    "duration": 59,
    "start_time": "2021-12-18T11:32:08.602Z"
   },
   {
    "duration": 167,
    "start_time": "2021-12-18T11:32:08.662Z"
   },
   {
    "duration": 146,
    "start_time": "2021-12-18T11:32:08.831Z"
   },
   {
    "duration": 145,
    "start_time": "2021-12-18T11:32:08.978Z"
   },
   {
    "duration": 7,
    "start_time": "2021-12-18T11:32:09.124Z"
   },
   {
    "duration": 158,
    "start_time": "2021-12-18T11:32:09.132Z"
   },
   {
    "duration": 199,
    "start_time": "2021-12-18T11:32:09.291Z"
   },
   {
    "duration": 4,
    "start_time": "2021-12-18T11:32:09.492Z"
   },
   {
    "duration": 20,
    "start_time": "2021-12-18T11:32:09.498Z"
   },
   {
    "duration": 4,
    "start_time": "2021-12-18T11:32:09.520Z"
   },
   {
    "duration": 62,
    "start_time": "2021-12-18T11:34:17.250Z"
   },
   {
    "duration": 7,
    "start_time": "2021-12-18T11:34:20.560Z"
   },
   {
    "duration": 7,
    "start_time": "2021-12-18T11:35:08.283Z"
   },
   {
    "duration": 3,
    "start_time": "2021-12-18T11:36:01.726Z"
   },
   {
    "duration": 11,
    "start_time": "2021-12-18T11:37:09.828Z"
   },
   {
    "duration": 26,
    "start_time": "2021-12-18T11:38:23.301Z"
   },
   {
    "duration": 6,
    "start_time": "2021-12-18T11:38:50.317Z"
   },
   {
    "duration": 27,
    "start_time": "2021-12-18T11:38:54.370Z"
   },
   {
    "duration": 6,
    "start_time": "2021-12-18T11:43:42.923Z"
   },
   {
    "duration": 80,
    "start_time": "2021-12-18T11:43:49.241Z"
   },
   {
    "duration": 3,
    "start_time": "2021-12-18T11:43:56.973Z"
   },
   {
    "duration": 30,
    "start_time": "2021-12-18T11:47:13.744Z"
   },
   {
    "duration": 13,
    "start_time": "2021-12-18T11:48:49.808Z"
   },
   {
    "duration": 34,
    "start_time": "2021-12-18T11:49:13.744Z"
   },
   {
    "duration": 32,
    "start_time": "2021-12-18T11:49:35.788Z"
   },
   {
    "duration": 33,
    "start_time": "2021-12-18T11:49:47.193Z"
   },
   {
    "duration": 64,
    "start_time": "2021-12-18T11:50:36.520Z"
   },
   {
    "duration": 31,
    "start_time": "2021-12-18T11:50:49.170Z"
   },
   {
    "duration": 32,
    "start_time": "2021-12-18T11:53:26.265Z"
   },
   {
    "duration": 31,
    "start_time": "2021-12-18T11:54:10.083Z"
   },
   {
    "duration": 4,
    "start_time": "2021-12-18T12:02:13.227Z"
   },
   {
    "duration": 5,
    "start_time": "2021-12-18T12:02:24.308Z"
   },
   {
    "duration": 453,
    "start_time": "2021-12-18T12:02:29.202Z"
   },
   {
    "duration": 4,
    "start_time": "2021-12-18T12:02:35.741Z"
   },
   {
    "duration": 3,
    "start_time": "2021-12-18T12:02:46.099Z"
   },
   {
    "duration": 24,
    "start_time": "2021-12-18T12:11:28.505Z"
   },
   {
    "duration": 63,
    "start_time": "2021-12-18T12:11:47.456Z"
   },
   {
    "duration": 23,
    "start_time": "2021-12-18T12:11:49.768Z"
   },
   {
    "duration": 19,
    "start_time": "2021-12-18T12:12:02.725Z"
   },
   {
    "duration": 388,
    "start_time": "2021-12-18T12:12:31.588Z"
   },
   {
    "duration": 340,
    "start_time": "2021-12-18T12:12:47.622Z"
   },
   {
    "duration": 241,
    "start_time": "2021-12-18T12:12:51.601Z"
   },
   {
    "duration": 377,
    "start_time": "2021-12-18T12:12:56.111Z"
   },
   {
    "duration": 5,
    "start_time": "2021-12-18T12:13:55.004Z"
   },
   {
    "duration": 4,
    "start_time": "2021-12-18T12:13:57.965Z"
   },
   {
    "duration": 5,
    "start_time": "2021-12-18T12:14:35.348Z"
   },
   {
    "duration": 5,
    "start_time": "2021-12-18T12:14:39.536Z"
   },
   {
    "duration": 221,
    "start_time": "2021-12-18T12:16:28.405Z"
   },
   {
    "duration": 4,
    "start_time": "2021-12-18T12:16:41.717Z"
   },
   {
    "duration": 4,
    "start_time": "2021-12-18T12:16:49.375Z"
   },
   {
    "duration": 5,
    "start_time": "2021-12-18T12:16:53.741Z"
   },
   {
    "duration": 82,
    "start_time": "2021-12-19T06:13:37.256Z"
   }
  ],
  "kernelspec": {
   "display_name": "Python 3 (ipykernel)",
   "language": "python",
   "name": "python3"
  },
  "language_info": {
   "codemirror_mode": {
    "name": "ipython",
    "version": 3
   },
   "file_extension": ".py",
   "mimetype": "text/x-python",
   "name": "python",
   "nbconvert_exporter": "python",
   "pygments_lexer": "ipython3",
   "version": "3.9.7"
  },
  "toc": {
   "base_numbering": 1,
   "nav_menu": {},
   "number_sections": true,
   "sideBar": true,
   "skip_h1_title": true,
   "title_cell": "Table of Contents",
   "title_sidebar": "Contents",
   "toc_cell": false,
   "toc_position": {},
   "toc_section_display": true,
   "toc_window_display": false
  }
 },
 "nbformat": 4,
 "nbformat_minor": 2
}
