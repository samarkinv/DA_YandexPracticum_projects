{
 "cells": [
  {
   "cell_type": "markdown",
   "metadata": {},
   "source": [
    "# SQL-запросы. Книжный онлайн-сервис"
   ]
  },
  {
   "cell_type": "markdown",
   "metadata": {},
   "source": [
    "## 1. Обзор таблиц"
   ]
  },
  {
   "cell_type": "markdown",
   "metadata": {},
   "source": [
    "**Импорты**"
   ]
  },
  {
   "cell_type": "code",
   "execution_count": 1,
   "metadata": {},
   "outputs": [],
   "source": [
    "import pandas as pd\n",
    "from sqlalchemy import create_engine"
   ]
  },
  {
   "cell_type": "markdown",
   "metadata": {},
   "source": [
    "**Подключение к БД**"
   ]
  },
  {
   "cell_type": "code",
   "execution_count": 2,
   "metadata": {},
   "outputs": [],
   "source": [
    "db_config = {'user': # имя пользователя, \n",
    "             'pwd': # пароль, \n",
    "             'host': #host,\n",
    "             'port': # порт подключения,\n",
    "             'db': # название базы данных} "
   ]
  },
  {
   "cell_type": "code",
   "execution_count": 3,
   "metadata": {},
   "outputs": [],
   "source": [
    "connection_string = 'postgresql://{}:{}@{}:{}/{}'.format(db_config['user'],\n",
    "                                                         db_config['pwd'],\n",
    "                                                         db_config['host'],\n",
    "                                                         db_config['port'],\n",
    "                                                         db_config['db']) "
   ]
  },
  {
   "cell_type": "code",
   "execution_count": 4,
   "metadata": {},
   "outputs": [],
   "source": [
    "engine = create_engine(connection_string, connect_args={'sslmode':'require'}) "
   ]
  },
  {
   "cell_type": "markdown",
   "metadata": {},
   "source": [
    "**Таблица книг**"
   ]
  },
  {
   "cell_type": "code",
   "execution_count": 5,
   "metadata": {},
   "outputs": [
    {
     "data": {
      "text/html": [
       "<div>\n",
       "<style scoped>\n",
       "    .dataframe tbody tr th:only-of-type {\n",
       "        vertical-align: middle;\n",
       "    }\n",
       "\n",
       "    .dataframe tbody tr th {\n",
       "        vertical-align: top;\n",
       "    }\n",
       "\n",
       "    .dataframe thead th {\n",
       "        text-align: right;\n",
       "    }\n",
       "</style>\n",
       "<table border=\"1\" class=\"dataframe\">\n",
       "  <thead>\n",
       "    <tr style=\"text-align: right;\">\n",
       "      <th></th>\n",
       "      <th>book_id</th>\n",
       "      <th>author_id</th>\n",
       "      <th>title</th>\n",
       "      <th>num_pages</th>\n",
       "      <th>publication_date</th>\n",
       "      <th>publisher_id</th>\n",
       "    </tr>\n",
       "  </thead>\n",
       "  <tbody>\n",
       "    <tr>\n",
       "      <td>0</td>\n",
       "      <td>1</td>\n",
       "      <td>546</td>\n",
       "      <td>'Salem's Lot</td>\n",
       "      <td>594</td>\n",
       "      <td>2005-11-01</td>\n",
       "      <td>93</td>\n",
       "    </tr>\n",
       "    <tr>\n",
       "      <td>1</td>\n",
       "      <td>2</td>\n",
       "      <td>465</td>\n",
       "      <td>1 000 Places to See Before You Die</td>\n",
       "      <td>992</td>\n",
       "      <td>2003-05-22</td>\n",
       "      <td>336</td>\n",
       "    </tr>\n",
       "    <tr>\n",
       "      <td>2</td>\n",
       "      <td>3</td>\n",
       "      <td>407</td>\n",
       "      <td>13 Little Blue Envelopes (Little Blue Envelope...</td>\n",
       "      <td>322</td>\n",
       "      <td>2010-12-21</td>\n",
       "      <td>135</td>\n",
       "    </tr>\n",
       "    <tr>\n",
       "      <td>3</td>\n",
       "      <td>4</td>\n",
       "      <td>82</td>\n",
       "      <td>1491: New Revelations of the Americas Before C...</td>\n",
       "      <td>541</td>\n",
       "      <td>2006-10-10</td>\n",
       "      <td>309</td>\n",
       "    </tr>\n",
       "    <tr>\n",
       "      <td>4</td>\n",
       "      <td>5</td>\n",
       "      <td>125</td>\n",
       "      <td>1776</td>\n",
       "      <td>386</td>\n",
       "      <td>2006-07-04</td>\n",
       "      <td>268</td>\n",
       "    </tr>\n",
       "  </tbody>\n",
       "</table>\n",
       "</div>"
      ],
      "text/plain": [
       "   book_id  author_id                                              title  \\\n",
       "0        1        546                                       'Salem's Lot   \n",
       "1        2        465                 1 000 Places to See Before You Die   \n",
       "2        3        407  13 Little Blue Envelopes (Little Blue Envelope...   \n",
       "3        4         82  1491: New Revelations of the Americas Before C...   \n",
       "4        5        125                                               1776   \n",
       "\n",
       "   num_pages publication_date  publisher_id  \n",
       "0        594       2005-11-01            93  \n",
       "1        992       2003-05-22           336  \n",
       "2        322       2010-12-21           135  \n",
       "3        541       2006-10-10           309  \n",
       "4        386       2006-07-04           268  "
      ]
     },
     "execution_count": 5,
     "metadata": {},
     "output_type": "execute_result"
    }
   ],
   "source": [
    "query = \"SELECT * FROM books\"\n",
    "books = pd.io.sql.read_sql(query, con = engine)\n",
    "books.head()"
   ]
  },
  {
   "cell_type": "code",
   "execution_count": 6,
   "metadata": {},
   "outputs": [
    {
     "name": "stdout",
     "output_type": "stream",
     "text": [
      "<class 'pandas.core.frame.DataFrame'>\n",
      "RangeIndex: 1000 entries, 0 to 999\n",
      "Data columns (total 6 columns):\n",
      "book_id             1000 non-null int64\n",
      "author_id           1000 non-null int64\n",
      "title               1000 non-null object\n",
      "num_pages           1000 non-null int64\n",
      "publication_date    1000 non-null object\n",
      "publisher_id        1000 non-null int64\n",
      "dtypes: int64(4), object(2)\n",
      "memory usage: 47.0+ KB\n"
     ]
    }
   ],
   "source": [
    "books.info()"
   ]
  },
  {
   "cell_type": "markdown",
   "metadata": {},
   "source": [
    "У нас данные о 1000 книг. Пропусков нет."
   ]
  },
  {
   "cell_type": "markdown",
   "metadata": {},
   "source": [
    "**Таблица авторов**"
   ]
  },
  {
   "cell_type": "code",
   "execution_count": 7,
   "metadata": {},
   "outputs": [
    {
     "data": {
      "text/html": [
       "<div>\n",
       "<style scoped>\n",
       "    .dataframe tbody tr th:only-of-type {\n",
       "        vertical-align: middle;\n",
       "    }\n",
       "\n",
       "    .dataframe tbody tr th {\n",
       "        vertical-align: top;\n",
       "    }\n",
       "\n",
       "    .dataframe thead th {\n",
       "        text-align: right;\n",
       "    }\n",
       "</style>\n",
       "<table border=\"1\" class=\"dataframe\">\n",
       "  <thead>\n",
       "    <tr style=\"text-align: right;\">\n",
       "      <th></th>\n",
       "      <th>author_id</th>\n",
       "      <th>author</th>\n",
       "    </tr>\n",
       "  </thead>\n",
       "  <tbody>\n",
       "    <tr>\n",
       "      <td>0</td>\n",
       "      <td>1</td>\n",
       "      <td>A.S. Byatt</td>\n",
       "    </tr>\n",
       "    <tr>\n",
       "      <td>1</td>\n",
       "      <td>2</td>\n",
       "      <td>Aesop/Laura Harris/Laura Gibbs</td>\n",
       "    </tr>\n",
       "    <tr>\n",
       "      <td>2</td>\n",
       "      <td>3</td>\n",
       "      <td>Agatha Christie</td>\n",
       "    </tr>\n",
       "    <tr>\n",
       "      <td>3</td>\n",
       "      <td>4</td>\n",
       "      <td>Alan Brennert</td>\n",
       "    </tr>\n",
       "    <tr>\n",
       "      <td>4</td>\n",
       "      <td>5</td>\n",
       "      <td>Alan Moore/David   Lloyd</td>\n",
       "    </tr>\n",
       "  </tbody>\n",
       "</table>\n",
       "</div>"
      ],
      "text/plain": [
       "   author_id                          author\n",
       "0          1                      A.S. Byatt\n",
       "1          2  Aesop/Laura Harris/Laura Gibbs\n",
       "2          3                 Agatha Christie\n",
       "3          4                   Alan Brennert\n",
       "4          5        Alan Moore/David   Lloyd"
      ]
     },
     "execution_count": 7,
     "metadata": {},
     "output_type": "execute_result"
    }
   ],
   "source": [
    "query = \"SELECT * FROM authors\"\n",
    "authors = pd.io.sql.read_sql(query, con = engine)\n",
    "authors.head()"
   ]
  },
  {
   "cell_type": "code",
   "execution_count": 8,
   "metadata": {},
   "outputs": [
    {
     "name": "stdout",
     "output_type": "stream",
     "text": [
      "<class 'pandas.core.frame.DataFrame'>\n",
      "RangeIndex: 636 entries, 0 to 635\n",
      "Data columns (total 2 columns):\n",
      "author_id    636 non-null int64\n",
      "author       636 non-null object\n",
      "dtypes: int64(1), object(1)\n",
      "memory usage: 10.1+ KB\n"
     ]
    }
   ],
   "source": [
    "authors.info()"
   ]
  },
  {
   "cell_type": "markdown",
   "metadata": {},
   "source": [
    "636 авторов"
   ]
  },
  {
   "cell_type": "markdown",
   "metadata": {},
   "source": [
    "**Таблица издательств**"
   ]
  },
  {
   "cell_type": "code",
   "execution_count": 9,
   "metadata": {},
   "outputs": [
    {
     "data": {
      "text/html": [
       "<div>\n",
       "<style scoped>\n",
       "    .dataframe tbody tr th:only-of-type {\n",
       "        vertical-align: middle;\n",
       "    }\n",
       "\n",
       "    .dataframe tbody tr th {\n",
       "        vertical-align: top;\n",
       "    }\n",
       "\n",
       "    .dataframe thead th {\n",
       "        text-align: right;\n",
       "    }\n",
       "</style>\n",
       "<table border=\"1\" class=\"dataframe\">\n",
       "  <thead>\n",
       "    <tr style=\"text-align: right;\">\n",
       "      <th></th>\n",
       "      <th>publisher_id</th>\n",
       "      <th>publisher</th>\n",
       "    </tr>\n",
       "  </thead>\n",
       "  <tbody>\n",
       "    <tr>\n",
       "      <td>0</td>\n",
       "      <td>1</td>\n",
       "      <td>Ace</td>\n",
       "    </tr>\n",
       "    <tr>\n",
       "      <td>1</td>\n",
       "      <td>2</td>\n",
       "      <td>Ace Book</td>\n",
       "    </tr>\n",
       "    <tr>\n",
       "      <td>2</td>\n",
       "      <td>3</td>\n",
       "      <td>Ace Books</td>\n",
       "    </tr>\n",
       "    <tr>\n",
       "      <td>3</td>\n",
       "      <td>4</td>\n",
       "      <td>Ace Hardcover</td>\n",
       "    </tr>\n",
       "    <tr>\n",
       "      <td>4</td>\n",
       "      <td>5</td>\n",
       "      <td>Addison Wesley Publishing Company</td>\n",
       "    </tr>\n",
       "  </tbody>\n",
       "</table>\n",
       "</div>"
      ],
      "text/plain": [
       "   publisher_id                          publisher\n",
       "0             1                                Ace\n",
       "1             2                           Ace Book\n",
       "2             3                          Ace Books\n",
       "3             4                      Ace Hardcover\n",
       "4             5  Addison Wesley Publishing Company"
      ]
     },
     "execution_count": 9,
     "metadata": {},
     "output_type": "execute_result"
    }
   ],
   "source": [
    "query = \"SELECT * FROM publishers\"\n",
    "publishers = pd.io.sql.read_sql(query, con = engine)\n",
    "publishers.head()"
   ]
  },
  {
   "cell_type": "code",
   "execution_count": 10,
   "metadata": {},
   "outputs": [
    {
     "name": "stdout",
     "output_type": "stream",
     "text": [
      "<class 'pandas.core.frame.DataFrame'>\n",
      "RangeIndex: 340 entries, 0 to 339\n",
      "Data columns (total 2 columns):\n",
      "publisher_id    340 non-null int64\n",
      "publisher       340 non-null object\n",
      "dtypes: int64(1), object(1)\n",
      "memory usage: 5.4+ KB\n"
     ]
    }
   ],
   "source": [
    "publishers.info()"
   ]
  },
  {
   "cell_type": "markdown",
   "metadata": {},
   "source": [
    "340 издательств"
   ]
  },
  {
   "cell_type": "markdown",
   "metadata": {},
   "source": [
    "**Таблица пользовательских оценок**"
   ]
  },
  {
   "cell_type": "code",
   "execution_count": 11,
   "metadata": {},
   "outputs": [
    {
     "data": {
      "text/html": [
       "<div>\n",
       "<style scoped>\n",
       "    .dataframe tbody tr th:only-of-type {\n",
       "        vertical-align: middle;\n",
       "    }\n",
       "\n",
       "    .dataframe tbody tr th {\n",
       "        vertical-align: top;\n",
       "    }\n",
       "\n",
       "    .dataframe thead th {\n",
       "        text-align: right;\n",
       "    }\n",
       "</style>\n",
       "<table border=\"1\" class=\"dataframe\">\n",
       "  <thead>\n",
       "    <tr style=\"text-align: right;\">\n",
       "      <th></th>\n",
       "      <th>rating_id</th>\n",
       "      <th>book_id</th>\n",
       "      <th>username</th>\n",
       "      <th>rating</th>\n",
       "    </tr>\n",
       "  </thead>\n",
       "  <tbody>\n",
       "    <tr>\n",
       "      <td>0</td>\n",
       "      <td>1</td>\n",
       "      <td>1</td>\n",
       "      <td>ryanfranco</td>\n",
       "      <td>4</td>\n",
       "    </tr>\n",
       "    <tr>\n",
       "      <td>1</td>\n",
       "      <td>2</td>\n",
       "      <td>1</td>\n",
       "      <td>grantpatricia</td>\n",
       "      <td>2</td>\n",
       "    </tr>\n",
       "    <tr>\n",
       "      <td>2</td>\n",
       "      <td>3</td>\n",
       "      <td>1</td>\n",
       "      <td>brandtandrea</td>\n",
       "      <td>5</td>\n",
       "    </tr>\n",
       "    <tr>\n",
       "      <td>3</td>\n",
       "      <td>4</td>\n",
       "      <td>2</td>\n",
       "      <td>lorichen</td>\n",
       "      <td>3</td>\n",
       "    </tr>\n",
       "    <tr>\n",
       "      <td>4</td>\n",
       "      <td>5</td>\n",
       "      <td>2</td>\n",
       "      <td>mariokeller</td>\n",
       "      <td>2</td>\n",
       "    </tr>\n",
       "  </tbody>\n",
       "</table>\n",
       "</div>"
      ],
      "text/plain": [
       "   rating_id  book_id       username  rating\n",
       "0          1        1     ryanfranco       4\n",
       "1          2        1  grantpatricia       2\n",
       "2          3        1   brandtandrea       5\n",
       "3          4        2       lorichen       3\n",
       "4          5        2    mariokeller       2"
      ]
     },
     "execution_count": 11,
     "metadata": {},
     "output_type": "execute_result"
    }
   ],
   "source": [
    "query = \"SELECT * FROM ratings\"\n",
    "ratings = pd.io.sql.read_sql(query, con = engine)\n",
    "ratings.head()"
   ]
  },
  {
   "cell_type": "code",
   "execution_count": 12,
   "metadata": {},
   "outputs": [
    {
     "name": "stdout",
     "output_type": "stream",
     "text": [
      "<class 'pandas.core.frame.DataFrame'>\n",
      "RangeIndex: 6456 entries, 0 to 6455\n",
      "Data columns (total 4 columns):\n",
      "rating_id    6456 non-null int64\n",
      "book_id      6456 non-null int64\n",
      "username     6456 non-null object\n",
      "rating       6456 non-null int64\n",
      "dtypes: int64(3), object(1)\n",
      "memory usage: 201.9+ KB\n"
     ]
    }
   ],
   "source": [
    "ratings.info()"
   ]
  },
  {
   "cell_type": "markdown",
   "metadata": {},
   "source": [
    "6456 оценок от пользователей"
   ]
  },
  {
   "cell_type": "markdown",
   "metadata": {},
   "source": [
    "**Пользовательские отзывы**"
   ]
  },
  {
   "cell_type": "code",
   "execution_count": 13,
   "metadata": {},
   "outputs": [
    {
     "data": {
      "text/html": [
       "<div>\n",
       "<style scoped>\n",
       "    .dataframe tbody tr th:only-of-type {\n",
       "        vertical-align: middle;\n",
       "    }\n",
       "\n",
       "    .dataframe tbody tr th {\n",
       "        vertical-align: top;\n",
       "    }\n",
       "\n",
       "    .dataframe thead th {\n",
       "        text-align: right;\n",
       "    }\n",
       "</style>\n",
       "<table border=\"1\" class=\"dataframe\">\n",
       "  <thead>\n",
       "    <tr style=\"text-align: right;\">\n",
       "      <th></th>\n",
       "      <th>review_id</th>\n",
       "      <th>book_id</th>\n",
       "      <th>username</th>\n",
       "      <th>text</th>\n",
       "    </tr>\n",
       "  </thead>\n",
       "  <tbody>\n",
       "    <tr>\n",
       "      <td>0</td>\n",
       "      <td>1</td>\n",
       "      <td>1</td>\n",
       "      <td>brandtandrea</td>\n",
       "      <td>Mention society tell send professor analysis. ...</td>\n",
       "    </tr>\n",
       "    <tr>\n",
       "      <td>1</td>\n",
       "      <td>2</td>\n",
       "      <td>1</td>\n",
       "      <td>ryanfranco</td>\n",
       "      <td>Foot glass pretty audience hit themselves. Amo...</td>\n",
       "    </tr>\n",
       "    <tr>\n",
       "      <td>2</td>\n",
       "      <td>3</td>\n",
       "      <td>2</td>\n",
       "      <td>lorichen</td>\n",
       "      <td>Listen treat keep worry. Miss husband tax but ...</td>\n",
       "    </tr>\n",
       "    <tr>\n",
       "      <td>3</td>\n",
       "      <td>4</td>\n",
       "      <td>3</td>\n",
       "      <td>johnsonamanda</td>\n",
       "      <td>Finally month interesting blue could nature cu...</td>\n",
       "    </tr>\n",
       "    <tr>\n",
       "      <td>4</td>\n",
       "      <td>5</td>\n",
       "      <td>3</td>\n",
       "      <td>scotttamara</td>\n",
       "      <td>Nation purpose heavy give wait song will. List...</td>\n",
       "    </tr>\n",
       "  </tbody>\n",
       "</table>\n",
       "</div>"
      ],
      "text/plain": [
       "   review_id  book_id       username  \\\n",
       "0          1        1   brandtandrea   \n",
       "1          2        1     ryanfranco   \n",
       "2          3        2       lorichen   \n",
       "3          4        3  johnsonamanda   \n",
       "4          5        3    scotttamara   \n",
       "\n",
       "                                                text  \n",
       "0  Mention society tell send professor analysis. ...  \n",
       "1  Foot glass pretty audience hit themselves. Amo...  \n",
       "2  Listen treat keep worry. Miss husband tax but ...  \n",
       "3  Finally month interesting blue could nature cu...  \n",
       "4  Nation purpose heavy give wait song will. List...  "
      ]
     },
     "execution_count": 13,
     "metadata": {},
     "output_type": "execute_result"
    }
   ],
   "source": [
    "query = \"SELECT * FROM reviews\"\n",
    "reviews = pd.io.sql.read_sql(query, con = engine)\n",
    "reviews.head()"
   ]
  },
  {
   "cell_type": "code",
   "execution_count": 14,
   "metadata": {},
   "outputs": [
    {
     "name": "stdout",
     "output_type": "stream",
     "text": [
      "<class 'pandas.core.frame.DataFrame'>\n",
      "RangeIndex: 2793 entries, 0 to 2792\n",
      "Data columns (total 4 columns):\n",
      "review_id    2793 non-null int64\n",
      "book_id      2793 non-null int64\n",
      "username     2793 non-null object\n",
      "text         2793 non-null object\n",
      "dtypes: int64(2), object(2)\n",
      "memory usage: 87.4+ KB\n"
     ]
    }
   ],
   "source": [
    "reviews.info()"
   ]
  },
  {
   "cell_type": "markdown",
   "metadata": {},
   "source": [
    "2793 отзывов. Получается, что отзывы имеют только 43% оценок."
   ]
  },
  {
   "cell_type": "markdown",
   "metadata": {},
   "source": [
    "## 2. Запросы и анализ данных"
   ]
  },
  {
   "cell_type": "markdown",
   "metadata": {},
   "source": [
    "### Количество книг, вышедших после 1 января 2000 года"
   ]
  },
  {
   "cell_type": "code",
   "execution_count": 15,
   "metadata": {},
   "outputs": [],
   "source": [
    "query = '''\n",
    "\n",
    "  SELECT COUNT(*) \n",
    "  FROM books\n",
    "  WHERE publication_date > '2000-01-01'\n",
    "\n",
    "  '''"
   ]
  },
  {
   "cell_type": "code",
   "execution_count": 16,
   "metadata": {},
   "outputs": [
    {
     "name": "stdout",
     "output_type": "stream",
     "text": [
      "В нашей базе 819 книг, вышедших после 1 января 2000 года\n"
     ]
    }
   ],
   "source": [
    "print('В нашей базе {} книг, вышедших после 1 января 2000 года'.format(pd.io.sql.read_sql(query, con = engine).iloc[0,0]))"
   ]
  },
  {
   "cell_type": "markdown",
   "metadata": {},
   "source": [
    "Соответственно, 181 книга из нашей базы была выпущена до 1 января 2000 года. "
   ]
  },
  {
   "cell_type": "markdown",
   "metadata": {},
   "source": [
    "### Количество обзоров и средняя оценка по каждой книге"
   ]
  },
  {
   "cell_type": "markdown",
   "metadata": {},
   "source": [
    "Не просто посчитаем количество, а выведем сначала топ-5 по средней оценке, а затем топ-5 по количеству обзоров. "
   ]
  },
  {
   "cell_type": "code",
   "execution_count": 28,
   "metadata": {},
   "outputs": [],
   "source": [
    "query = '''\n",
    "\n",
    "  SELECT books.book_id,\n",
    "         books.title, \n",
    "         ratings.avg_rating,\n",
    "         reviews.reviews_count\n",
    "  FROM books\n",
    "  LEFT JOIN (SELECT book_id,\n",
    "                    AVG(rating) as avg_rating\n",
    "             FROM ratings\n",
    "             GROUP BY book_id) as ratings ON books.book_id = ratings.book_id\n",
    "  LEFT JOIN (SELECT book_id,\n",
    "                    COUNT (review_id) as reviews_count\n",
    "                    FROM reviews\n",
    "                    GROUP BY book_id) as reviews ON books.book_id = reviews.book_id\n",
    "  ORDER BY ratings.avg_rating DESC\n",
    "  '''"
   ]
  },
  {
   "cell_type": "markdown",
   "metadata": {},
   "source": [
    "Топ-5 по средней оценке"
   ]
  },
  {
   "cell_type": "code",
   "execution_count": 29,
   "metadata": {},
   "outputs": [
    {
     "data": {
      "text/html": [
       "<div>\n",
       "<style scoped>\n",
       "    .dataframe tbody tr th:only-of-type {\n",
       "        vertical-align: middle;\n",
       "    }\n",
       "\n",
       "    .dataframe tbody tr th {\n",
       "        vertical-align: top;\n",
       "    }\n",
       "\n",
       "    .dataframe thead th {\n",
       "        text-align: right;\n",
       "    }\n",
       "</style>\n",
       "<table border=\"1\" class=\"dataframe\">\n",
       "  <thead>\n",
       "    <tr style=\"text-align: right;\">\n",
       "      <th></th>\n",
       "      <th>book_id</th>\n",
       "      <th>title</th>\n",
       "      <th>avg_rating</th>\n",
       "      <th>reviews_count</th>\n",
       "    </tr>\n",
       "  </thead>\n",
       "  <tbody>\n",
       "    <tr>\n",
       "      <td>0</td>\n",
       "      <td>518</td>\n",
       "      <td>Pop Goes the Weasel (Alex Cross  #5)</td>\n",
       "      <td>5.00</td>\n",
       "      <td>2.0</td>\n",
       "    </tr>\n",
       "    <tr>\n",
       "      <td>1</td>\n",
       "      <td>732</td>\n",
       "      <td>The Ghost Map: The Story of London's Most Terr...</td>\n",
       "      <td>5.00</td>\n",
       "      <td>2.0</td>\n",
       "    </tr>\n",
       "    <tr>\n",
       "      <td>2</td>\n",
       "      <td>347</td>\n",
       "      <td>In the Hand of the Goddess (Song of the Liones...</td>\n",
       "      <td>5.00</td>\n",
       "      <td>2.0</td>\n",
       "    </tr>\n",
       "    <tr>\n",
       "      <td>3</td>\n",
       "      <td>610</td>\n",
       "      <td>Tai-Pan (Asian Saga  #2)</td>\n",
       "      <td>5.00</td>\n",
       "      <td>2.0</td>\n",
       "    </tr>\n",
       "    <tr>\n",
       "      <td>4</td>\n",
       "      <td>330</td>\n",
       "      <td>How to Be a Domestic Goddess: Baking and the A...</td>\n",
       "      <td>5.00</td>\n",
       "      <td>1.0</td>\n",
       "    </tr>\n",
       "    <tr>\n",
       "      <td>...</td>\n",
       "      <td>...</td>\n",
       "      <td>...</td>\n",
       "      <td>...</td>\n",
       "      <td>...</td>\n",
       "    </tr>\n",
       "    <tr>\n",
       "      <td>995</td>\n",
       "      <td>915</td>\n",
       "      <td>The World Is Flat: A Brief History of the Twen...</td>\n",
       "      <td>2.25</td>\n",
       "      <td>3.0</td>\n",
       "    </tr>\n",
       "    <tr>\n",
       "      <td>996</td>\n",
       "      <td>371</td>\n",
       "      <td>Junky</td>\n",
       "      <td>2.00</td>\n",
       "      <td>2.0</td>\n",
       "    </tr>\n",
       "    <tr>\n",
       "      <td>997</td>\n",
       "      <td>316</td>\n",
       "      <td>His Excellency: George Washington</td>\n",
       "      <td>2.00</td>\n",
       "      <td>2.0</td>\n",
       "    </tr>\n",
       "    <tr>\n",
       "      <td>998</td>\n",
       "      <td>202</td>\n",
       "      <td>Drowning Ruth</td>\n",
       "      <td>2.00</td>\n",
       "      <td>3.0</td>\n",
       "    </tr>\n",
       "    <tr>\n",
       "      <td>999</td>\n",
       "      <td>303</td>\n",
       "      <td>Harvesting the Heart</td>\n",
       "      <td>1.50</td>\n",
       "      <td>2.0</td>\n",
       "    </tr>\n",
       "  </tbody>\n",
       "</table>\n",
       "<p>1000 rows × 4 columns</p>\n",
       "</div>"
      ],
      "text/plain": [
       "     book_id                                              title  avg_rating  \\\n",
       "0        518               Pop Goes the Weasel (Alex Cross  #5)        5.00   \n",
       "1        732  The Ghost Map: The Story of London's Most Terr...        5.00   \n",
       "2        347  In the Hand of the Goddess (Song of the Liones...        5.00   \n",
       "3        610                           Tai-Pan (Asian Saga  #2)        5.00   \n",
       "4        330  How to Be a Domestic Goddess: Baking and the A...        5.00   \n",
       "..       ...                                                ...         ...   \n",
       "995      915  The World Is Flat: A Brief History of the Twen...        2.25   \n",
       "996      371                                              Junky        2.00   \n",
       "997      316                  His Excellency: George Washington        2.00   \n",
       "998      202                                      Drowning Ruth        2.00   \n",
       "999      303                               Harvesting the Heart        1.50   \n",
       "\n",
       "     reviews_count  \n",
       "0              2.0  \n",
       "1              2.0  \n",
       "2              2.0  \n",
       "3              2.0  \n",
       "4              1.0  \n",
       "..             ...  \n",
       "995            3.0  \n",
       "996            2.0  \n",
       "997            2.0  \n",
       "998            3.0  \n",
       "999            2.0  \n",
       "\n",
       "[1000 rows x 4 columns]"
      ]
     },
     "execution_count": 29,
     "metadata": {},
     "output_type": "execute_result"
    }
   ],
   "source": [
    "pd.io.sql.read_sql(query, con = engine)"
   ]
  },
  {
   "cell_type": "markdown",
   "metadata": {},
   "source": [
    "Но, откровенно говоря, эти данные нам мало что дают. По такому принципу в топ может попасть любая книга, у которой есть всего одна оценка, но пятерка. Это не совсем объективно.  "
   ]
  },
  {
   "cell_type": "code",
   "execution_count": 19,
   "metadata": {},
   "outputs": [],
   "source": [
    "query = '''\n",
    "\n",
    "  SELECT books.book_id,\n",
    "         books.title, \n",
    "         ratings.avg_rating,\n",
    "         reviews.reviews_count\n",
    "  FROM books\n",
    "  LEFT JOIN (SELECT book_id,\n",
    "                    AVG(rating) as avg_rating\n",
    "             FROM ratings\n",
    "             GROUP BY book_id) as ratings ON books.book_id = ratings.book_id\n",
    "  LEFT JOIN (SELECT book_id,\n",
    "                    COUNT (review_id) as reviews_count\n",
    "                    FROM reviews\n",
    "                    GROUP BY book_id) as reviews ON books.book_id = reviews.book_id\n",
    "  WHERE reviews.reviews_count != 'NaN'::NUMERIC\n",
    "  ORDER BY reviews.reviews_count DESC\n",
    "  '''"
   ]
  },
  {
   "cell_type": "markdown",
   "metadata": {},
   "source": [
    "Топ-5 по количеству отзывов"
   ]
  },
  {
   "cell_type": "code",
   "execution_count": 20,
   "metadata": {},
   "outputs": [
    {
     "data": {
      "text/html": [
       "<div>\n",
       "<style scoped>\n",
       "    .dataframe tbody tr th:only-of-type {\n",
       "        vertical-align: middle;\n",
       "    }\n",
       "\n",
       "    .dataframe tbody tr th {\n",
       "        vertical-align: top;\n",
       "    }\n",
       "\n",
       "    .dataframe thead th {\n",
       "        text-align: right;\n",
       "    }\n",
       "</style>\n",
       "<table border=\"1\" class=\"dataframe\">\n",
       "  <thead>\n",
       "    <tr style=\"text-align: right;\">\n",
       "      <th></th>\n",
       "      <th>book_id</th>\n",
       "      <th>title</th>\n",
       "      <th>avg_rating</th>\n",
       "      <th>reviews_count</th>\n",
       "    </tr>\n",
       "  </thead>\n",
       "  <tbody>\n",
       "    <tr>\n",
       "      <td>0</td>\n",
       "      <td>948</td>\n",
       "      <td>Twilight (Twilight  #1)</td>\n",
       "      <td>3.662500</td>\n",
       "      <td>7</td>\n",
       "    </tr>\n",
       "    <tr>\n",
       "      <td>1</td>\n",
       "      <td>656</td>\n",
       "      <td>The Book Thief</td>\n",
       "      <td>4.264151</td>\n",
       "      <td>6</td>\n",
       "    </tr>\n",
       "    <tr>\n",
       "      <td>2</td>\n",
       "      <td>497</td>\n",
       "      <td>Outlander (Outlander  #1)</td>\n",
       "      <td>4.125000</td>\n",
       "      <td>6</td>\n",
       "    </tr>\n",
       "    <tr>\n",
       "      <td>3</td>\n",
       "      <td>963</td>\n",
       "      <td>Water for Elephants</td>\n",
       "      <td>3.977273</td>\n",
       "      <td>6</td>\n",
       "    </tr>\n",
       "    <tr>\n",
       "      <td>4</td>\n",
       "      <td>696</td>\n",
       "      <td>The Da Vinci Code (Robert Langdon  #2)</td>\n",
       "      <td>3.830508</td>\n",
       "      <td>6</td>\n",
       "    </tr>\n",
       "  </tbody>\n",
       "</table>\n",
       "</div>"
      ],
      "text/plain": [
       "   book_id                                   title  avg_rating  reviews_count\n",
       "0      948                 Twilight (Twilight  #1)    3.662500              7\n",
       "1      656                          The Book Thief    4.264151              6\n",
       "2      497               Outlander (Outlander  #1)    4.125000              6\n",
       "3      963                     Water for Elephants    3.977273              6\n",
       "4      696  The Da Vinci Code (Robert Langdon  #2)    3.830508              6"
      ]
     },
     "execution_count": 20,
     "metadata": {},
     "output_type": "execute_result"
    }
   ],
   "source": [
    "pd.io.sql.read_sql(query, con = engine).head()"
   ]
  },
  {
   "cell_type": "markdown",
   "metadata": {},
   "source": [
    "С отзывами интереснее. Можно сказать, что это самые обсуждаемые книги. На первом месте - \"Сумерки\"."
   ]
  },
  {
   "cell_type": "markdown",
   "metadata": {},
   "source": [
    "### Издательство, которое выпустило наибольшее число книг толще 50 страниц"
   ]
  },
  {
   "cell_type": "code",
   "execution_count": 21,
   "metadata": {},
   "outputs": [],
   "source": [
    "query = '''\n",
    "\n",
    "  SELECT publishers.publisher,\n",
    "         COUNT (DISTINCT books.book_id) as books_count\n",
    "  FROM publishers\n",
    "  LEFT JOIN books ON publishers.publisher_id = books.publisher_id\n",
    "  WHERE books.num_pages > 50\n",
    "  GROUP BY publishers.publisher_id\n",
    "  ORDER BY books_count DESC\n",
    "  LIMIT 5\n",
    "\n",
    "  '''"
   ]
  },
  {
   "cell_type": "code",
   "execution_count": 22,
   "metadata": {
    "scrolled": true
   },
   "outputs": [
    {
     "data": {
      "text/html": [
       "<div>\n",
       "<style scoped>\n",
       "    .dataframe tbody tr th:only-of-type {\n",
       "        vertical-align: middle;\n",
       "    }\n",
       "\n",
       "    .dataframe tbody tr th {\n",
       "        vertical-align: top;\n",
       "    }\n",
       "\n",
       "    .dataframe thead th {\n",
       "        text-align: right;\n",
       "    }\n",
       "</style>\n",
       "<table border=\"1\" class=\"dataframe\">\n",
       "  <thead>\n",
       "    <tr style=\"text-align: right;\">\n",
       "      <th></th>\n",
       "      <th>publisher</th>\n",
       "      <th>books_count</th>\n",
       "    </tr>\n",
       "  </thead>\n",
       "  <tbody>\n",
       "    <tr>\n",
       "      <td>0</td>\n",
       "      <td>Penguin Books</td>\n",
       "      <td>42</td>\n",
       "    </tr>\n",
       "    <tr>\n",
       "      <td>1</td>\n",
       "      <td>Vintage</td>\n",
       "      <td>31</td>\n",
       "    </tr>\n",
       "    <tr>\n",
       "      <td>2</td>\n",
       "      <td>Grand Central Publishing</td>\n",
       "      <td>25</td>\n",
       "    </tr>\n",
       "    <tr>\n",
       "      <td>3</td>\n",
       "      <td>Penguin Classics</td>\n",
       "      <td>24</td>\n",
       "    </tr>\n",
       "    <tr>\n",
       "      <td>4</td>\n",
       "      <td>Ballantine Books</td>\n",
       "      <td>19</td>\n",
       "    </tr>\n",
       "  </tbody>\n",
       "</table>\n",
       "</div>"
      ],
      "text/plain": [
       "                  publisher  books_count\n",
       "0             Penguin Books           42\n",
       "1                   Vintage           31\n",
       "2  Grand Central Publishing           25\n",
       "3          Penguin Classics           24\n",
       "4          Ballantine Books           19"
      ]
     },
     "execution_count": 22,
     "metadata": {},
     "output_type": "execute_result"
    }
   ],
   "source": [
    "pd.io.sql.read_sql(query, con = engine)"
   ]
  },
  {
   "cell_type": "markdown",
   "metadata": {},
   "source": [
    "Наибольшее число книг выпустило издательство \"Penguin Books\""
   ]
  },
  {
   "cell_type": "markdown",
   "metadata": {},
   "source": [
    "### Автор с самой высокой средней оценкой книг\n",
    "\n",
    "Учитывая только книги с 50 и более оценками"
   ]
  },
  {
   "cell_type": "code",
   "execution_count": 23,
   "metadata": {},
   "outputs": [],
   "source": [
    "query = '''\n",
    "\n",
    "  SELECT authors.author as author,\n",
    "         AVG (ratings.avg_rating) as avg_rating\n",
    "  FROM authors\n",
    "  LEFT JOIN books ON authors.author_id = books.author_id\n",
    "  LEFT JOIN \n",
    "    (SELECT book_id,\n",
    "            AVG (rating) AS avg_rating,\n",
    "            COUNT (rating_id) AS rating_counts\n",
    "     FROM ratings\n",
    "     GROUP BY book_id\n",
    "     HAVING COUNT (rating_id) > 49) as ratings ON books.book_id = ratings.book_id\n",
    "  GROUP BY author\n",
    "  HAVING AVG (ratings.avg_rating) != 'NaN'\n",
    "  ORDER BY avg_rating DESC\n",
    "  \n",
    "  '''"
   ]
  },
  {
   "cell_type": "code",
   "execution_count": 24,
   "metadata": {},
   "outputs": [
    {
     "data": {
      "text/html": [
       "<div>\n",
       "<style scoped>\n",
       "    .dataframe tbody tr th:only-of-type {\n",
       "        vertical-align: middle;\n",
       "    }\n",
       "\n",
       "    .dataframe tbody tr th {\n",
       "        vertical-align: top;\n",
       "    }\n",
       "\n",
       "    .dataframe thead th {\n",
       "        text-align: right;\n",
       "    }\n",
       "</style>\n",
       "<table border=\"1\" class=\"dataframe\">\n",
       "  <thead>\n",
       "    <tr style=\"text-align: right;\">\n",
       "      <th></th>\n",
       "      <th>author</th>\n",
       "      <th>avg_rating</th>\n",
       "    </tr>\n",
       "  </thead>\n",
       "  <tbody>\n",
       "    <tr>\n",
       "      <td>0</td>\n",
       "      <td>J.K. Rowling/Mary GrandPré</td>\n",
       "      <td>4.283844</td>\n",
       "    </tr>\n",
       "    <tr>\n",
       "      <td>1</td>\n",
       "      <td>Markus Zusak/Cao Xuân Việt Khương</td>\n",
       "      <td>4.264151</td>\n",
       "    </tr>\n",
       "    <tr>\n",
       "      <td>2</td>\n",
       "      <td>J.R.R. Tolkien</td>\n",
       "      <td>4.258446</td>\n",
       "    </tr>\n",
       "    <tr>\n",
       "      <td>3</td>\n",
       "      <td>Louisa May Alcott</td>\n",
       "      <td>4.192308</td>\n",
       "    </tr>\n",
       "    <tr>\n",
       "      <td>4</td>\n",
       "      <td>Rick Riordan</td>\n",
       "      <td>4.080645</td>\n",
       "    </tr>\n",
       "  </tbody>\n",
       "</table>\n",
       "</div>"
      ],
      "text/plain": [
       "                              author  avg_rating\n",
       "0         J.K. Rowling/Mary GrandPré    4.283844\n",
       "1  Markus Zusak/Cao Xuân Việt Khương    4.264151\n",
       "2                     J.R.R. Tolkien    4.258446\n",
       "3                  Louisa May Alcott    4.192308\n",
       "4                       Rick Riordan    4.080645"
      ]
     },
     "execution_count": 24,
     "metadata": {},
     "output_type": "execute_result"
    }
   ],
   "source": [
    "pd.io.sql.read_sql(query, con = engine).head()"
   ]
  },
  {
   "cell_type": "markdown",
   "metadata": {},
   "source": [
    "На первом месте видим хорошо знакомую всем Джоан Роулинг. Второе имя рядом с ней - это иллюстратор, которая нарисовала иллюстрации к книгам о Гарри Поттере. "
   ]
  },
  {
   "cell_type": "markdown",
   "metadata": {},
   "source": [
    "### Cреднее количество обзоров от пользователей, которые поставили больше 50 оценок"
   ]
  },
  {
   "cell_type": "code",
   "execution_count": 25,
   "metadata": {},
   "outputs": [],
   "source": [
    "query = '''\n",
    "\n",
    "  SELECT AVG (reviews_count) as avg_reviews_count\n",
    "  FROM ( \n",
    "        SELECT username,\n",
    "        COUNT(review_id) as reviews_count\n",
    "        FROM reviews\n",
    "        GROUP BY username\n",
    "        HAVING username IN (\n",
    "                            SELECT username\n",
    "                            FROM ratings\n",
    "                            GROUP BY username\n",
    "                            HAVING COUNT (rating_id) > 50\n",
    "                            )\n",
    "                            \n",
    "                            \n",
    "        ) as reviews\n",
    "  \n",
    "  '''\n",
    "\n"
   ]
  },
  {
   "cell_type": "code",
   "execution_count": 26,
   "metadata": {},
   "outputs": [
    {
     "name": "stdout",
     "output_type": "stream",
     "text": [
      "Пользователи, поставившие больше 50 оценок, в среднем пишут по 24 обзора\n"
     ]
    }
   ],
   "source": [
    "print('Пользователи, поставившие больше 50 оценок, в среднем пишут по {:.0f} обзора' \\\n",
    "      .format(pd.io.sql.read_sql(query, con = engine).iloc[0,0].round()))"
   ]
  },
  {
   "cell_type": "markdown",
   "metadata": {},
   "source": [
    "## Выводы"
   ]
  },
  {
   "cell_type": "markdown",
   "metadata": {},
   "source": [
    "В этом проекте мы изучили информацию о книгах и сопутствующие данные. Вот результаты.\n",
    "\n",
    "**В нашей базе:**\n",
    "- 1000 книг\n",
    "- от 636 авторов\n",
    "- и 340 издательств\n",
    "- по которым мы имеем 6456 оценок от пользователей\n",
    "- и 2793 пользовательских отзыва\n",
    "\n",
    "**Результаты анализа:** \n",
    "- 819 книг из нашей базы выпущено в этом веке, и, соответственно, 181 - в прошлом. \n",
    "- Больше всего книг (без учета небольших брошюр) выпустило издательство \"Penguin Books\"\n",
    "- Самые обсуждаемые книги (по количеству пользовательских обзоров) - Сумерки, Книжный вор и Чужестранка. \n",
    "- А самые активные пользователи (поставившие больше 50 оценок) пишут в среднем по 24 обзора (1 обзор на 2 книги)\n",
    "- Самые высокооцененные авторы: Джоан Роулинг, Маркус Зусак и Джон Толкиен"
   ]
  }
 ],
 "metadata": {
  "ExecuteTimeLog": [
   {
    "duration": 582,
    "start_time": "2022-02-06T12:58:39.128Z"
   },
   {
    "duration": 2,
    "start_time": "2022-02-06T12:59:09.919Z"
   },
   {
    "duration": 3,
    "start_time": "2022-02-06T12:59:16.572Z"
   },
   {
    "duration": 30,
    "start_time": "2022-02-06T12:59:23.780Z"
   },
   {
    "duration": 40,
    "start_time": "2022-02-06T13:02:06.403Z"
   },
   {
    "duration": 16,
    "start_time": "2022-02-06T13:02:16.981Z"
   },
   {
    "duration": 14,
    "start_time": "2022-02-06T13:03:10.339Z"
   },
   {
    "duration": 6,
    "start_time": "2022-02-06T13:03:14.728Z"
   },
   {
    "duration": 13,
    "start_time": "2022-02-06T13:04:19.403Z"
   },
   {
    "duration": 5,
    "start_time": "2022-02-06T13:04:24.969Z"
   },
   {
    "duration": 11,
    "start_time": "2022-02-06T13:05:25.332Z"
   },
   {
    "duration": 6,
    "start_time": "2022-02-06T13:05:31.205Z"
   },
   {
    "duration": 24,
    "start_time": "2022-02-06T13:06:14.033Z"
   },
   {
    "duration": 6,
    "start_time": "2022-02-06T13:06:25.673Z"
   },
   {
    "duration": 18,
    "start_time": "2022-02-06T13:07:09.208Z"
   },
   {
    "duration": 5,
    "start_time": "2022-02-06T13:07:26.824Z"
   },
   {
    "duration": 2,
    "start_time": "2022-02-06T13:08:56.070Z"
   },
   {
    "duration": 10,
    "start_time": "2022-02-06T13:08:57.033Z"
   },
   {
    "duration": 30,
    "start_time": "2022-02-06T13:09:06.997Z"
   },
   {
    "duration": 11,
    "start_time": "2022-02-06T13:09:11.220Z"
   },
   {
    "duration": 86,
    "start_time": "2022-02-06T13:10:57.767Z"
   },
   {
    "duration": 10,
    "start_time": "2022-02-06T13:11:00.673Z"
   },
   {
    "duration": 7528,
    "start_time": "2022-02-06T13:11:05.000Z"
   },
   {
    "duration": -582,
    "start_time": "2022-02-06T13:11:21.580Z"
   },
   {
    "duration": 10,
    "start_time": "2022-02-06T13:11:24.905Z"
   },
   {
    "duration": 8,
    "start_time": "2022-02-06T13:11:34.672Z"
   },
   {
    "duration": 8,
    "start_time": "2022-02-06T13:12:28.163Z"
   },
   {
    "duration": 3,
    "start_time": "2022-02-06T13:14:07.204Z"
   },
   {
    "duration": 22,
    "start_time": "2022-02-06T13:14:08.424Z"
   },
   {
    "duration": 3,
    "start_time": "2022-02-06T13:15:00.153Z"
   },
   {
    "duration": 21,
    "start_time": "2022-02-06T13:15:00.516Z"
   },
   {
    "duration": 21,
    "start_time": "2022-02-06T13:15:19.962Z"
   },
   {
    "duration": 2,
    "start_time": "2022-02-06T13:17:18.058Z"
   },
   {
    "duration": 19,
    "start_time": "2022-02-06T13:17:33.179Z"
   },
   {
    "duration": 3,
    "start_time": "2022-02-06T13:18:19.383Z"
   },
   {
    "duration": 275,
    "start_time": "2022-02-06T13:18:20.780Z"
   },
   {
    "duration": 2,
    "start_time": "2022-02-06T13:19:01.514Z"
   },
   {
    "duration": 309,
    "start_time": "2022-02-06T13:19:02.278Z"
   },
   {
    "duration": 3,
    "start_time": "2022-02-06T13:19:25.571Z"
   },
   {
    "duration": 278,
    "start_time": "2022-02-06T13:19:26.071Z"
   },
   {
    "duration": 2,
    "start_time": "2022-02-06T13:20:13.320Z"
   },
   {
    "duration": 17,
    "start_time": "2022-02-06T13:20:14.078Z"
   },
   {
    "duration": 2,
    "start_time": "2022-02-06T13:20:22.773Z"
   },
   {
    "duration": 12,
    "start_time": "2022-02-06T13:20:23.378Z"
   },
   {
    "duration": 3,
    "start_time": "2022-02-06T13:20:33.008Z"
   },
   {
    "duration": 307,
    "start_time": "2022-02-06T13:20:33.662Z"
   },
   {
    "duration": 2,
    "start_time": "2022-02-06T13:20:38.388Z"
   },
   {
    "duration": 11,
    "start_time": "2022-02-06T13:20:39.551Z"
   },
   {
    "duration": 2,
    "start_time": "2022-02-06T13:22:08.960Z"
   },
   {
    "duration": 306,
    "start_time": "2022-02-06T13:22:09.589Z"
   },
   {
    "duration": 2,
    "start_time": "2022-02-06T13:22:53.573Z"
   },
   {
    "duration": 280,
    "start_time": "2022-02-06T13:22:54.139Z"
   },
   {
    "duration": 3,
    "start_time": "2022-02-06T13:23:06.635Z"
   },
   {
    "duration": 324,
    "start_time": "2022-02-06T13:23:07.305Z"
   },
   {
    "duration": 3,
    "start_time": "2022-02-06T13:23:27.124Z"
   },
   {
    "duration": 506,
    "start_time": "2022-02-06T13:23:27.938Z"
   },
   {
    "duration": 2,
    "start_time": "2022-02-06T13:25:15.589Z"
   },
   {
    "duration": 306,
    "start_time": "2022-02-06T13:25:16.242Z"
   },
   {
    "duration": 2,
    "start_time": "2022-02-06T13:25:21.512Z"
   },
   {
    "duration": 17,
    "start_time": "2022-02-06T13:25:22.140Z"
   },
   {
    "duration": 3,
    "start_time": "2022-02-06T13:26:49.899Z"
   },
   {
    "duration": 14,
    "start_time": "2022-02-06T13:26:55.499Z"
   },
   {
    "duration": 2,
    "start_time": "2022-02-06T13:28:38.131Z"
   },
   {
    "duration": 15,
    "start_time": "2022-02-06T13:28:44.306Z"
   },
   {
    "duration": 852,
    "start_time": "2022-02-07T09:20:16.602Z"
   },
   {
    "duration": 3,
    "start_time": "2022-02-07T09:20:17.457Z"
   },
   {
    "duration": 5,
    "start_time": "2022-02-07T09:20:17.466Z"
   },
   {
    "duration": 62,
    "start_time": "2022-02-07T09:20:17.473Z"
   },
   {
    "duration": 260,
    "start_time": "2022-02-07T09:20:17.538Z"
   },
   {
    "duration": 10,
    "start_time": "2022-02-07T09:20:17.801Z"
   },
   {
    "duration": 70,
    "start_time": "2022-02-07T09:20:17.813Z"
   },
   {
    "duration": 8,
    "start_time": "2022-02-07T09:20:17.887Z"
   },
   {
    "duration": 71,
    "start_time": "2022-02-07T09:20:17.898Z"
   },
   {
    "duration": 7,
    "start_time": "2022-02-07T09:20:17.972Z"
   },
   {
    "duration": 109,
    "start_time": "2022-02-07T09:20:17.982Z"
   },
   {
    "duration": 10,
    "start_time": "2022-02-07T09:20:18.093Z"
   },
   {
    "duration": 113,
    "start_time": "2022-02-07T09:20:18.107Z"
   },
   {
    "duration": 8,
    "start_time": "2022-02-07T09:20:18.222Z"
   },
   {
    "duration": 25,
    "start_time": "2022-02-07T09:20:18.232Z"
   },
   {
    "duration": 96,
    "start_time": "2022-02-07T09:20:18.259Z"
   },
   {
    "duration": 4,
    "start_time": "2022-02-07T09:20:18.357Z"
   },
   {
    "duration": 101,
    "start_time": "2022-02-07T09:20:18.363Z"
   },
   {
    "duration": 4,
    "start_time": "2022-02-07T09:20:18.466Z"
   },
   {
    "duration": 81,
    "start_time": "2022-02-07T09:20:18.473Z"
   },
   {
    "duration": 3,
    "start_time": "2022-02-07T09:20:18.556Z"
   },
   {
    "duration": 69,
    "start_time": "2022-02-07T09:20:18.561Z"
   },
   {
    "duration": 3,
    "start_time": "2022-02-07T09:20:18.632Z"
   },
   {
    "duration": 79,
    "start_time": "2022-02-07T09:20:18.638Z"
   },
   {
    "duration": 3,
    "start_time": "2022-02-07T09:20:50.495Z"
   },
   {
    "duration": 66,
    "start_time": "2022-02-07T09:21:03.428Z"
   },
   {
    "duration": 3,
    "start_time": "2022-02-07T09:26:17.033Z"
   },
   {
    "duration": 69,
    "start_time": "2022-02-07T09:26:17.353Z"
   },
   {
    "duration": 3,
    "start_time": "2022-02-07T09:30:46.325Z"
   },
   {
    "duration": 74,
    "start_time": "2022-02-07T09:30:46.617Z"
   },
   {
    "duration": 3,
    "start_time": "2022-02-07T09:32:52.220Z"
   },
   {
    "duration": 490,
    "start_time": "2022-02-07T09:32:52.665Z"
   },
   {
    "duration": 3,
    "start_time": "2022-02-07T09:33:18.213Z"
   },
   {
    "duration": 71,
    "start_time": "2022-02-07T09:33:18.635Z"
   },
   {
    "duration": 4,
    "start_time": "2022-02-07T09:33:57.765Z"
   },
   {
    "duration": 76,
    "start_time": "2022-02-07T09:34:01.575Z"
   },
   {
    "duration": 4,
    "start_time": "2022-02-07T09:34:37.975Z"
   },
   {
    "duration": 520,
    "start_time": "2022-02-07T09:34:38.318Z"
   },
   {
    "duration": 3,
    "start_time": "2022-02-07T09:34:43.108Z"
   },
   {
    "duration": 388,
    "start_time": "2022-02-07T09:34:43.561Z"
   },
   {
    "duration": 3,
    "start_time": "2022-02-07T09:36:21.523Z"
   },
   {
    "duration": 467,
    "start_time": "2022-02-07T09:36:21.938Z"
   },
   {
    "duration": 4,
    "start_time": "2022-02-07T09:36:35.349Z"
   },
   {
    "duration": 372,
    "start_time": "2022-02-07T09:36:35.879Z"
   },
   {
    "duration": 3,
    "start_time": "2022-02-07T09:37:07.024Z"
   },
   {
    "duration": 67,
    "start_time": "2022-02-07T09:37:07.330Z"
   },
   {
    "duration": 106,
    "start_time": "2022-02-07T09:37:56.462Z"
   },
   {
    "duration": 67,
    "start_time": "2022-02-07T09:38:01.013Z"
   },
   {
    "duration": 65,
    "start_time": "2022-02-07T09:38:15.368Z"
   },
   {
    "duration": 373,
    "start_time": "2022-02-07T09:39:34.634Z"
   },
   {
    "duration": 64,
    "start_time": "2022-02-07T09:39:39.052Z"
   },
   {
    "duration": 64,
    "start_time": "2022-02-07T09:39:47.866Z"
   },
   {
    "duration": 799,
    "start_time": "2022-02-07T09:40:07.558Z"
   },
   {
    "duration": 3,
    "start_time": "2022-02-07T09:40:08.360Z"
   },
   {
    "duration": 12,
    "start_time": "2022-02-07T09:40:08.366Z"
   },
   {
    "duration": 38,
    "start_time": "2022-02-07T09:40:08.381Z"
   },
   {
    "duration": 258,
    "start_time": "2022-02-07T09:40:08.422Z"
   },
   {
    "duration": 8,
    "start_time": "2022-02-07T09:40:08.682Z"
   },
   {
    "duration": 72,
    "start_time": "2022-02-07T09:40:08.693Z"
   },
   {
    "duration": 8,
    "start_time": "2022-02-07T09:40:08.768Z"
   },
   {
    "duration": 71,
    "start_time": "2022-02-07T09:40:08.779Z"
   },
   {
    "duration": 7,
    "start_time": "2022-02-07T09:40:08.853Z"
   },
   {
    "duration": 95,
    "start_time": "2022-02-07T09:40:08.863Z"
   },
   {
    "duration": 8,
    "start_time": "2022-02-07T09:40:08.961Z"
   },
   {
    "duration": 84,
    "start_time": "2022-02-07T09:40:08.972Z"
   },
   {
    "duration": 9,
    "start_time": "2022-02-07T09:40:09.059Z"
   },
   {
    "duration": 6,
    "start_time": "2022-02-07T09:40:09.071Z"
   },
   {
    "duration": 64,
    "start_time": "2022-02-07T09:40:09.080Z"
   },
   {
    "duration": 4,
    "start_time": "2022-02-07T09:40:09.146Z"
   },
   {
    "duration": 79,
    "start_time": "2022-02-07T09:40:09.152Z"
   },
   {
    "duration": 5,
    "start_time": "2022-02-07T09:40:09.234Z"
   },
   {
    "duration": 79,
    "start_time": "2022-02-07T09:40:09.242Z"
   },
   {
    "duration": 4,
    "start_time": "2022-02-07T09:40:09.324Z"
   },
   {
    "duration": 70,
    "start_time": "2022-02-07T09:40:09.330Z"
   },
   {
    "duration": 3,
    "start_time": "2022-02-07T09:40:09.404Z"
   },
   {
    "duration": 72,
    "start_time": "2022-02-07T09:40:09.409Z"
   },
   {
    "duration": 3,
    "start_time": "2022-02-07T09:40:09.484Z"
   },
   {
    "duration": 65,
    "start_time": "2022-02-07T09:40:09.489Z"
   },
   {
    "duration": 6,
    "start_time": "2022-02-07T09:51:35.098Z"
   },
   {
    "duration": 782,
    "start_time": "2022-02-08T07:42:28.879Z"
   },
   {
    "duration": 4,
    "start_time": "2022-02-08T07:42:29.664Z"
   },
   {
    "duration": 10,
    "start_time": "2022-02-08T07:42:29.671Z"
   },
   {
    "duration": 47,
    "start_time": "2022-02-08T07:42:29.684Z"
   },
   {
    "duration": 310,
    "start_time": "2022-02-08T07:42:29.733Z"
   },
   {
    "duration": 9,
    "start_time": "2022-02-08T07:42:30.045Z"
   },
   {
    "duration": 85,
    "start_time": "2022-02-08T07:42:30.056Z"
   },
   {
    "duration": 8,
    "start_time": "2022-02-08T07:42:30.145Z"
   },
   {
    "duration": 90,
    "start_time": "2022-02-08T07:42:30.156Z"
   },
   {
    "duration": 8,
    "start_time": "2022-02-08T07:42:30.248Z"
   },
   {
    "duration": 144,
    "start_time": "2022-02-08T07:42:30.259Z"
   },
   {
    "duration": 9,
    "start_time": "2022-02-08T07:42:30.405Z"
   },
   {
    "duration": 113,
    "start_time": "2022-02-08T07:42:30.416Z"
   },
   {
    "duration": 9,
    "start_time": "2022-02-08T07:42:30.532Z"
   },
   {
    "duration": 17,
    "start_time": "2022-02-08T07:42:30.544Z"
   },
   {
    "duration": 94,
    "start_time": "2022-02-08T07:42:30.564Z"
   },
   {
    "duration": 4,
    "start_time": "2022-02-08T07:42:30.660Z"
   },
   {
    "duration": 113,
    "start_time": "2022-02-08T07:42:30.667Z"
   },
   {
    "duration": 3,
    "start_time": "2022-02-08T07:42:30.783Z"
   },
   {
    "duration": 100,
    "start_time": "2022-02-08T07:42:30.789Z"
   },
   {
    "duration": 4,
    "start_time": "2022-02-08T07:42:30.891Z"
   },
   {
    "duration": 113,
    "start_time": "2022-02-08T07:42:30.898Z"
   },
   {
    "duration": 4,
    "start_time": "2022-02-08T07:42:31.018Z"
   },
   {
    "duration": 125,
    "start_time": "2022-02-08T07:42:31.026Z"
   },
   {
    "duration": 3,
    "start_time": "2022-02-08T07:42:31.154Z"
   },
   {
    "duration": 88,
    "start_time": "2022-02-08T07:42:31.160Z"
   },
   {
    "duration": 78,
    "start_time": "2022-02-08T07:42:57.376Z"
   },
   {
    "duration": 4,
    "start_time": "2022-02-08T07:42:59.478Z"
   },
   {
    "duration": 112,
    "start_time": "2022-02-08T07:43:00.443Z"
   }
  ],
  "kernelspec": {
   "display_name": "Python 3 (ipykernel)",
   "language": "python",
   "name": "python3"
  },
  "language_info": {
   "codemirror_mode": {
    "name": "ipython",
    "version": 3
   },
   "file_extension": ".py",
   "mimetype": "text/x-python",
   "name": "python",
   "nbconvert_exporter": "python",
   "pygments_lexer": "ipython3",
   "version": "3.9.7"
  },
  "toc": {
   "base_numbering": 1,
   "nav_menu": {},
   "number_sections": true,
   "sideBar": true,
   "skip_h1_title": true,
   "title_cell": "Table of Contents",
   "title_sidebar": "Contents",
   "toc_cell": false,
   "toc_position": {},
   "toc_section_display": true,
   "toc_window_display": false
  }
 },
 "nbformat": 4,
 "nbformat_minor": 2
}
