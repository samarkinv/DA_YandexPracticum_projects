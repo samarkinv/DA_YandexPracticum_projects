{
 "cells": [
  {
   "cell_type": "markdown",
   "metadata": {},
   "source": [
    "# Анализ рынка заведений общественного питания Москвы"
   ]
  },
  {
   "cell_type": "markdown",
   "metadata": {},
   "source": [
    "## 1. Обзор данных"
   ]
  },
  {
   "cell_type": "markdown",
   "metadata": {},
   "source": [
    "**Импорты**"
   ]
  },
  {
   "cell_type": "code",
   "execution_count": 1,
   "metadata": {},
   "outputs": [],
   "source": [
    "import pandas as pd\n",
    "import seaborn as sns\n",
    "import numpy as np\n",
    "\n",
    "import plotly\n",
    "import plotly.express as px\n",
    "import plotly.graph_objects as go\n",
    "from plotly.subplots import make_subplots\n",
    "\n",
    "import re\n",
    "\n",
    "import plotly.io as pio\n",
    "pio.renderers.default = \"png\""
   ]
  },
  {
   "cell_type": "markdown",
   "metadata": {},
   "source": [
    "**Обновления**"
   ]
  },
  {
   "cell_type": "code",
   "execution_count": 2,
   "metadata": {},
   "outputs": [],
   "source": [
    "# !pip install plotly --upgrade --user"
   ]
  },
  {
   "cell_type": "markdown",
   "metadata": {},
   "source": [
    "**Таблицы**"
   ]
  },
  {
   "cell_type": "code",
   "execution_count": 3,
   "metadata": {},
   "outputs": [],
   "source": [
    "df = pd.read_csv('rest_data.csv')"
   ]
  },
  {
   "cell_type": "markdown",
   "metadata": {},
   "source": [
    "**Обзор**"
   ]
  },
  {
   "cell_type": "code",
   "execution_count": 4,
   "metadata": {},
   "outputs": [
    {
     "data": {
      "text/html": [
       "<div>\n",
       "<style scoped>\n",
       "    .dataframe tbody tr th:only-of-type {\n",
       "        vertical-align: middle;\n",
       "    }\n",
       "\n",
       "    .dataframe tbody tr th {\n",
       "        vertical-align: top;\n",
       "    }\n",
       "\n",
       "    .dataframe thead th {\n",
       "        text-align: right;\n",
       "    }\n",
       "</style>\n",
       "<table border=\"1\" class=\"dataframe\">\n",
       "  <thead>\n",
       "    <tr style=\"text-align: right;\">\n",
       "      <th></th>\n",
       "      <th>id</th>\n",
       "      <th>object_name</th>\n",
       "      <th>chain</th>\n",
       "      <th>object_type</th>\n",
       "      <th>address</th>\n",
       "      <th>number</th>\n",
       "    </tr>\n",
       "  </thead>\n",
       "  <tbody>\n",
       "    <tr>\n",
       "      <th>0</th>\n",
       "      <td>151635</td>\n",
       "      <td>СМЕТАНА</td>\n",
       "      <td>нет</td>\n",
       "      <td>кафе</td>\n",
       "      <td>город Москва, улица Егора Абакумова, дом 9</td>\n",
       "      <td>48</td>\n",
       "    </tr>\n",
       "    <tr>\n",
       "      <th>1</th>\n",
       "      <td>77874</td>\n",
       "      <td>Родник</td>\n",
       "      <td>нет</td>\n",
       "      <td>кафе</td>\n",
       "      <td>город Москва, улица Талалихина, дом 2/1, корпус 1</td>\n",
       "      <td>35</td>\n",
       "    </tr>\n",
       "    <tr>\n",
       "      <th>2</th>\n",
       "      <td>24309</td>\n",
       "      <td>Кафе «Академия»</td>\n",
       "      <td>нет</td>\n",
       "      <td>кафе</td>\n",
       "      <td>город Москва, Абельмановская улица, дом 6</td>\n",
       "      <td>95</td>\n",
       "    </tr>\n",
       "    <tr>\n",
       "      <th>3</th>\n",
       "      <td>21894</td>\n",
       "      <td>ПИЦЦЕТОРИЯ</td>\n",
       "      <td>да</td>\n",
       "      <td>кафе</td>\n",
       "      <td>город Москва, Абрамцевская улица, дом 1</td>\n",
       "      <td>40</td>\n",
       "    </tr>\n",
       "    <tr>\n",
       "      <th>4</th>\n",
       "      <td>119365</td>\n",
       "      <td>Кафе «Вишневая метель»</td>\n",
       "      <td>нет</td>\n",
       "      <td>кафе</td>\n",
       "      <td>город Москва, Абрамцевская улица, дом 9, корпус 1</td>\n",
       "      <td>50</td>\n",
       "    </tr>\n",
       "  </tbody>\n",
       "</table>\n",
       "</div>"
      ],
      "text/plain": [
       "       id             object_name chain object_type  \\\n",
       "0  151635                 СМЕТАНА   нет        кафе   \n",
       "1   77874                  Родник   нет        кафе   \n",
       "2   24309         Кафе «Академия»   нет        кафе   \n",
       "3   21894              ПИЦЦЕТОРИЯ    да        кафе   \n",
       "4  119365  Кафе «Вишневая метель»   нет        кафе   \n",
       "\n",
       "                                             address  number  \n",
       "0         город Москва, улица Егора Абакумова, дом 9      48  \n",
       "1  город Москва, улица Талалихина, дом 2/1, корпус 1      35  \n",
       "2          город Москва, Абельмановская улица, дом 6      95  \n",
       "3            город Москва, Абрамцевская улица, дом 1      40  \n",
       "4  город Москва, Абрамцевская улица, дом 9, корпус 1      50  "
      ]
     },
     "execution_count": 4,
     "metadata": {},
     "output_type": "execute_result"
    }
   ],
   "source": [
    "df.head()"
   ]
  },
  {
   "cell_type": "code",
   "execution_count": 5,
   "metadata": {},
   "outputs": [
    {
     "name": "stdout",
     "output_type": "stream",
     "text": [
      "<class 'pandas.core.frame.DataFrame'>\n",
      "RangeIndex: 15366 entries, 0 to 15365\n",
      "Data columns (total 6 columns):\n",
      " #   Column       Non-Null Count  Dtype \n",
      "---  ------       --------------  ----- \n",
      " 0   id           15366 non-null  int64 \n",
      " 1   object_name  15366 non-null  object\n",
      " 2   chain        15366 non-null  object\n",
      " 3   object_type  15366 non-null  object\n",
      " 4   address      15366 non-null  object\n",
      " 5   number       15366 non-null  int64 \n",
      "dtypes: int64(2), object(4)\n",
      "memory usage: 720.4+ KB\n"
     ]
    }
   ],
   "source": [
    "df.info()"
   ]
  },
  {
   "cell_type": "markdown",
   "metadata": {},
   "source": [
    "**На предобработку**"
   ]
  },
  {
   "cell_type": "markdown",
   "metadata": {},
   "source": [
    "1. Проверить значения в категориальных столбцах <code>chain</code> и <code>object_type</code>\n",
    "2. Проверить диапозон значений в столбце <code>number</code>\n",
    "3. Привести все строковые столбцы к нижнему регистру\n",
    "4. Дубликаты"
   ]
  },
  {
   "cell_type": "markdown",
   "metadata": {},
   "source": [
    "## 2. Предобработка"
   ]
  },
  {
   "cell_type": "markdown",
   "metadata": {},
   "source": [
    "**Значения в категориальных столбцах <code>chain</code> и <code>object_type</code>**"
   ]
  },
  {
   "cell_type": "code",
   "execution_count": 6,
   "metadata": {},
   "outputs": [
    {
     "data": {
      "text/plain": [
       "нет    12398\n",
       "да      2968\n",
       "Name: chain, dtype: int64"
      ]
     },
     "execution_count": 6,
     "metadata": {},
     "output_type": "execute_result"
    }
   ],
   "source": [
    "df['chain'].value_counts()"
   ]
  },
  {
   "cell_type": "code",
   "execution_count": 7,
   "metadata": {},
   "outputs": [
    {
     "data": {
      "text/plain": [
       "кафе                                 6099\n",
       "столовая                             2587\n",
       "ресторан                             2285\n",
       "предприятие быстрого обслуживания    1923\n",
       "бар                                   856\n",
       "буфет                                 585\n",
       "кафетерий                             398\n",
       "закусочная                            360\n",
       "магазин (отдел кулинарии)             273\n",
       "Name: object_type, dtype: int64"
      ]
     },
     "execution_count": 7,
     "metadata": {},
     "output_type": "execute_result"
    }
   ],
   "source": [
    "df['object_type'].value_counts()"
   ]
  },
  {
   "cell_type": "markdown",
   "metadata": {},
   "source": [
    "Все ок. Ничего лишнего"
   ]
  },
  {
   "cell_type": "markdown",
   "metadata": {},
   "source": [
    "**Диапозон значений в столбце <code>number</code>**"
   ]
  },
  {
   "cell_type": "code",
   "execution_count": 8,
   "metadata": {},
   "outputs": [
    {
     "data": {
      "text/plain": [
       "count    15366.000000\n",
       "mean        59.547182\n",
       "std         74.736833\n",
       "min          0.000000\n",
       "25%         12.000000\n",
       "50%         40.000000\n",
       "75%         80.000000\n",
       "max       1700.000000\n",
       "Name: number, dtype: float64"
      ]
     },
     "execution_count": 8,
     "metadata": {},
     "output_type": "execute_result"
    }
   ],
   "source": [
    "df['number'].describe()"
   ]
  },
  {
   "cell_type": "markdown",
   "metadata": {},
   "source": [
    "Все ок. Отрицательных нет."
   ]
  },
  {
   "cell_type": "markdown",
   "metadata": {},
   "source": [
    "**Строковые столбцы к нижнему регистру**"
   ]
  },
  {
   "cell_type": "code",
   "execution_count": 9,
   "metadata": {},
   "outputs": [],
   "source": [
    "df['object_name'] = df['object_name'].str.lower()\n",
    "df['address'] = df['address'].str.lower()"
   ]
  },
  {
   "cell_type": "markdown",
   "metadata": {},
   "source": [
    "**Дубликаты**"
   ]
  },
  {
   "cell_type": "code",
   "execution_count": 10,
   "metadata": {},
   "outputs": [
    {
     "name": "stdout",
     "output_type": "stream",
     "text": [
      "Дубликатов в таблице: 0\n"
     ]
    }
   ],
   "source": [
    "print('Дубликатов в таблице:', df.duplicated().sum())"
   ]
  },
  {
   "cell_type": "markdown",
   "metadata": {},
   "source": [
    "А если без столбца id?"
   ]
  },
  {
   "cell_type": "code",
   "execution_count": 11,
   "metadata": {},
   "outputs": [
    {
     "name": "stdout",
     "output_type": "stream",
     "text": [
      "Дубликатов в таблице: 85\n"
     ]
    }
   ],
   "source": [
    "print('Дубликатов в таблице:', df.drop('id', axis=1).duplicated(keep='last').sum())"
   ]
  },
  {
   "cell_type": "markdown",
   "metadata": {},
   "source": [
    "Уберем их, оставляя более поздние записи"
   ]
  },
  {
   "cell_type": "code",
   "execution_count": 12,
   "metadata": {},
   "outputs": [],
   "source": [
    "#отсортируем по порядку id\n",
    "df = df.sort_values(by='id')"
   ]
  },
  {
   "cell_type": "code",
   "execution_count": 13,
   "metadata": {},
   "outputs": [],
   "source": [
    "#удалим дубликаты, кроме последних\n",
    "df.drop_duplicates(keep='last', inplace=True)"
   ]
  },
  {
   "cell_type": "code",
   "execution_count": 14,
   "metadata": {},
   "outputs": [],
   "source": [
    "df.reset_index(drop=True, inplace=True)"
   ]
  },
  {
   "cell_type": "markdown",
   "metadata": {},
   "source": [
    "**Таблица после предобработки**"
   ]
  },
  {
   "cell_type": "code",
   "execution_count": 15,
   "metadata": {},
   "outputs": [
    {
     "data": {
      "text/html": [
       "<div>\n",
       "<style scoped>\n",
       "    .dataframe tbody tr th:only-of-type {\n",
       "        vertical-align: middle;\n",
       "    }\n",
       "\n",
       "    .dataframe tbody tr th {\n",
       "        vertical-align: top;\n",
       "    }\n",
       "\n",
       "    .dataframe thead th {\n",
       "        text-align: right;\n",
       "    }\n",
       "</style>\n",
       "<table border=\"1\" class=\"dataframe\">\n",
       "  <thead>\n",
       "    <tr style=\"text-align: right;\">\n",
       "      <th></th>\n",
       "      <th>id</th>\n",
       "      <th>object_name</th>\n",
       "      <th>chain</th>\n",
       "      <th>object_type</th>\n",
       "      <th>address</th>\n",
       "      <th>number</th>\n",
       "    </tr>\n",
       "  </thead>\n",
       "  <tbody>\n",
       "    <tr>\n",
       "      <th>0</th>\n",
       "      <td>838</td>\n",
       "      <td>темпл бар</td>\n",
       "      <td>да</td>\n",
       "      <td>кафе</td>\n",
       "      <td>город москва, первомайская улица, дом 33</td>\n",
       "      <td>356</td>\n",
       "    </tr>\n",
       "    <tr>\n",
       "      <th>1</th>\n",
       "      <td>5882</td>\n",
       "      <td>кафе «эссе»</td>\n",
       "      <td>нет</td>\n",
       "      <td>кафе</td>\n",
       "      <td>город москва, никитинская улица, дом 13а</td>\n",
       "      <td>70</td>\n",
       "    </tr>\n",
       "    <tr>\n",
       "      <th>2</th>\n",
       "      <td>19613</td>\n",
       "      <td>бар азбука вкуса</td>\n",
       "      <td>да</td>\n",
       "      <td>бар</td>\n",
       "      <td>город москва, мичуринский проспект, дом 22, ко...</td>\n",
       "      <td>6</td>\n",
       "    </tr>\n",
       "    <tr>\n",
       "      <th>3</th>\n",
       "      <td>19618</td>\n",
       "      <td>кафе «галладенс»</td>\n",
       "      <td>нет</td>\n",
       "      <td>кафе</td>\n",
       "      <td>город москва, мичуринский проспект, дом 21, ко...</td>\n",
       "      <td>25</td>\n",
       "    </tr>\n",
       "    <tr>\n",
       "      <th>4</th>\n",
       "      <td>19619</td>\n",
       "      <td>бар-фитнес</td>\n",
       "      <td>нет</td>\n",
       "      <td>бар</td>\n",
       "      <td>город москва, пятницкое шоссе, дом 29, корпус 5</td>\n",
       "      <td>24</td>\n",
       "    </tr>\n",
       "  </tbody>\n",
       "</table>\n",
       "</div>"
      ],
      "text/plain": [
       "      id       object_name chain object_type  \\\n",
       "0    838         темпл бар    да        кафе   \n",
       "1   5882       кафе «эссе»   нет        кафе   \n",
       "2  19613  бар азбука вкуса    да         бар   \n",
       "3  19618  кафе «галладенс»   нет        кафе   \n",
       "4  19619        бар-фитнес   нет         бар   \n",
       "\n",
       "                                             address  number  \n",
       "0           город москва, первомайская улица, дом 33     356  \n",
       "1           город москва, никитинская улица, дом 13а      70  \n",
       "2  город москва, мичуринский проспект, дом 22, ко...       6  \n",
       "3  город москва, мичуринский проспект, дом 21, ко...      25  \n",
       "4    город москва, пятницкое шоссе, дом 29, корпус 5      24  "
      ]
     },
     "execution_count": 15,
     "metadata": {},
     "output_type": "execute_result"
    }
   ],
   "source": [
    "df.head()"
   ]
  },
  {
   "cell_type": "markdown",
   "metadata": {},
   "source": [
    "## 3. Анализ данных"
   ]
  },
  {
   "cell_type": "markdown",
   "metadata": {},
   "source": [
    "### Виды объектов общественного питания"
   ]
  },
  {
   "cell_type": "code",
   "execution_count": 16,
   "metadata": {
    "scrolled": false
   },
   "outputs": [
    {
     "data": {
      "image/png": "[encoded data removed]"
     },
     "metadata": {},
     "output_type": "display_data"
    }
   ],
   "source": [
    "px.bar(df['object_type'].value_counts().reset_index().sort_values(by='object_type', ascending=True), \n",
    "       x='object_type',\n",
    "       y='index',\n",
    "       template='plotly_dark',\n",
    "       title='Количество объектов общественного питания по видам',\n",
    "       labels={'index':'', 'object_type':'Кол-во объектов (шт.)'},\n",
    "       orientation='h',\n",
    "       height=500)"
   ]
  },
  {
   "cell_type": "markdown",
   "metadata": {},
   "source": [
    "В городе больше всего кафе. Затем идут столовые, рестораны и предприятия быстрого обслуживания. "
   ]
  },
  {
   "cell_type": "markdown",
   "metadata": {},
   "source": [
    "### Сетевые и несетевые заведения"
   ]
  },
  {
   "cell_type": "code",
   "execution_count": 17,
   "metadata": {},
   "outputs": [],
   "source": [
    "#заменим \"да\" и \"нет\" на \"сетевое\" и \"несетевое\" для удобства отображения на графике\n",
    "df['chain'] = df['chain'].replace({'да':'сетевое'})\n",
    "df['chain'] = df['chain'].replace({'нет':'несетевое'})"
   ]
  },
  {
   "cell_type": "code",
   "execution_count": 18,
   "metadata": {},
   "outputs": [
    {
     "data": {
      "image/png": "[encoded data removed]"
     },
     "metadata": {},
     "output_type": "display_data"
    }
   ],
   "source": [
    "px.pie(df['chain'].value_counts().reset_index(), \n",
    "       values='chain',\n",
    "       names='index',\n",
    "       template='plotly_dark',\n",
    "       title='Соотношение сетевых и несетевых заведений',\n",
    "       labels={'index':'Тип заведения', 'chain':'Кол-во заведений (шт.)'},\n",
    "       height=480,\n",
    "      width=750)"
   ]
  },
  {
   "cell_type": "markdown",
   "metadata": {},
   "source": [
    "Несетевых заведений практически в 4 раза больше. "
   ]
  },
  {
   "cell_type": "markdown",
   "metadata": {},
   "source": [
    "### Виды и типы заведений\n",
    "Для какого вида объекта общественного питания характерно сетевое распространение?"
   ]
  },
  {
   "cell_type": "code",
   "execution_count": 19,
   "metadata": {},
   "outputs": [],
   "source": [
    "#найдем количество всех заведений для каждого типа\n",
    "object_type_count = df.groupby('object_type')\\\n",
    "    .agg({'id':'count'})"
   ]
  },
  {
   "cell_type": "code",
   "execution_count": 20,
   "metadata": {},
   "outputs": [],
   "source": [
    "#найдем количество сетевых заведений для каждого типа\n",
    "object_type_chain_count = df.query('chain == \"сетевое\"')\\\n",
    "    .groupby('object_type')\\\n",
    "    .agg({'id':'count'})"
   ]
  },
  {
   "cell_type": "code",
   "execution_count": 21,
   "metadata": {},
   "outputs": [],
   "source": [
    "#найдем долю сетевых заведений для каждого типа\n",
    "object_type_chain_ratio = (object_type_chain_count / object_type_count).reset_index().rename(columns={'id':'ratio'})\n",
    "#округлим для удобства отображения\n",
    "object_type_chain_ratio['ratio'] = object_type_chain_ratio['ratio'].round(2)"
   ]
  },
  {
   "cell_type": "code",
   "execution_count": 22,
   "metadata": {},
   "outputs": [
    {
     "data": {
      "image/png": "[encoded data removed]"
     },
     "metadata": {},
     "output_type": "display_data"
    }
   ],
   "source": [
    "fig = px.bar(object_type_chain_ratio.sort_values(by='ratio', ascending=True),\n",
    "      x='ratio',\n",
    "      y='object_type',\n",
    "      template='plotly_dark',\n",
    "      orientation='h',\n",
    "      title='Доля сетевых заведений для каждого вида',\n",
    "      labels={'object_type':'Вид заведения', 'ratio':'Доля сетевых заведений'},\n",
    "      height=480)\n",
    "\n",
    "fig.update_layout(xaxis_tickformat = '2%')\n",
    "\n",
    "fig.show()"
   ]
  },
  {
   "cell_type": "markdown",
   "metadata": {},
   "source": [
    "**Сетевое распространение характерно для:**\n",
    "- Предприятий быстрого обслуживания\n",
    "- Магазинов\n",
    "- Ресторанов\n",
    "- Кафе\n",
    "\n",
    "Сетевых столовых кстати нет вообще:)"
   ]
  },
  {
   "cell_type": "markdown",
   "metadata": {},
   "source": [
    "### Посадочные места в сетевых заведениях"
   ]
  },
  {
   "cell_type": "code",
   "execution_count": 23,
   "metadata": {},
   "outputs": [],
   "source": [
    "#подготовим таблицу для графика\n",
    "seatsInChainObjects = df.query('chain == \"сетевое\"')\\\n",
    "    .groupby('object_name', as_index=False)\\\n",
    "    .agg({'id':'count', 'number':'mean'})\\\n",
    "    .rename(columns={'id':'object_count', 'number':'mean_seats'})"
   ]
  },
  {
   "cell_type": "code",
   "execution_count": 24,
   "metadata": {},
   "outputs": [],
   "source": [
    "#Шаг 1. Избавимся от сетей, в которых всего 1 заведение. Ведь это получается и не сети вовсе\n",
    "seatsInChainObjects = seatsInChainObjects.query('object_count > 1')"
   ]
  },
  {
   "cell_type": "code",
   "execution_count": 25,
   "metadata": {},
   "outputs": [],
   "source": [
    "#Шаг 2. Найдем границы для разделения сетей (по количеству заведений и числу мест)\n",
    "#Значением-границей в обоих случаях будет являться 70-ый перцентиль. \n",
    "\n",
    "#граница по количеству заведений в сети\n",
    "objects_count_border = np.percentile(seatsInChainObjects['object_count'], 70)\n",
    "\n",
    "#граница по числу посадочных мест\n",
    "seats_count_border = np.percentile(seatsInChainObjects['mean_seats'], 70)"
   ]
  },
  {
   "cell_type": "code",
   "execution_count": 26,
   "metadata": {},
   "outputs": [
    {
     "name": "stdout",
     "output_type": "stream",
     "text": [
      "Мало заведений, мало мест: 121 сетей\n",
      "Мало заведений, много мест: 56 сетей\n",
      "Много заведений, мало мест: 51 сетей\n",
      "Много заведений, много мест: 18 сетей\n"
     ]
    }
   ],
   "source": [
    "#Шаг 3. Разделим данные на 4 группы по количеству мест и заведений и посчитаем кол-во в каждой группе\n",
    "print('Мало заведений, мало мест:', \n",
    "      seatsInChainObjects.query('object_count <= @objects_count_border & mean_seats <= @seats_count_border').shape[0],\n",
    "      'сетей')\n",
    "\n",
    "print('Мало заведений, много мест:', \n",
    "      seatsInChainObjects.query('object_count <= @objects_count_border & mean_seats > @seats_count_border').shape[0],\n",
    "      'сетей')\n",
    "\n",
    "print('Много заведений, мало мест:', \n",
    "      seatsInChainObjects.query('object_count > @objects_count_border & mean_seats <= @seats_count_border').shape[0],\n",
    "      'сетей')\n",
    "\n",
    "print('Много заведений, много мест:', \n",
    "      seatsInChainObjects.query('object_count > @objects_count_border & mean_seats > @seats_count_border').shape[0],\n",
    "      'сетей')"
   ]
  },
  {
   "cell_type": "code",
   "execution_count": 27,
   "metadata": {},
   "outputs": [
    {
     "data": {
      "image/png": "[encoded data removed]"
     },
     "metadata": {},
     "output_type": "display_data"
    }
   ],
   "source": [
    "fig = go.Figure()\n",
    "\n",
    "#сам график\n",
    "fig.add_trace(go.Scatter(x = seatsInChainObjects['mean_seats'],\n",
    "                         y = seatsInChainObjects['object_count'],\n",
    "                         mode='markers'))\n",
    "#полупрозрачные квадраты \n",
    "fig.add_shape(type=\"rect\",\n",
    "    x0=0, y0=0, x1=seats_count_border, y1=objects_count_border,\n",
    "    fillcolor=\"LightSkyBlue\",\n",
    "    line_color=\"LightSkyBlue\",\n",
    "    opacity=0.2,\n",
    "              \n",
    ")\n",
    "\n",
    "fig.add_shape(type=\"rect\",\n",
    "    x0=0, y0=objects_count_border, x1=seats_count_border, y1=160,\n",
    "    fillcolor=\"LightPink\",\n",
    "    line_color=\"LightPink\",\n",
    "    opacity=0.2,\n",
    "              \n",
    ")\n",
    "\n",
    "fig.add_shape(type=\"rect\",\n",
    "    x0=seats_count_border, y0=objects_count_border, x1=300, y1=160,\n",
    "    fillcolor=\"LightYellow\",\n",
    "    line_color=\"LightYellow\",\n",
    "    opacity=0.2,\n",
    "              \n",
    ")\n",
    "\n",
    "fig.add_shape(type=\"rect\",\n",
    "    x0=seats_count_border, y0=0, x1=300, y1=objects_count_border,\n",
    "    fillcolor=\"LightGreen\",\n",
    "    line_color=\"LightGreen\",\n",
    "    opacity=0.2,\n",
    "              \n",
    ")\n",
    "\n",
    "#настройки графика\n",
    "fig.update_layout(title='Сети заведений: одна точка - отдельная сеть',\n",
    "                  xaxis_title=\"Среднее кол-во посадочных мест в заведениях сети\",\n",
    "                  yaxis_title=\"Кол-во заведений в сети\",\n",
    "                  template=\"plotly_dark\",\n",
    "                  showlegend=False,\n",
    "                  xaxis_range=[0,100],\n",
    "                  yaxis_range=[0,15]\n",
    "                 )\n",
    "\n",
    "fig.show()"
   ]
  },
  {
   "cell_type": "markdown",
   "metadata": {},
   "source": [
    "**Для сетей характерно:** малое количество заведений (меньше 7) с малым количеством посадочных мест (до 77)."
   ]
  },
  {
   "cell_type": "markdown",
   "metadata": {},
   "source": [
    "### Среднее количество посадочных мест для разных видов объектов"
   ]
  },
  {
   "cell_type": "markdown",
   "metadata": {},
   "source": [
    "**Предобработка.**\n",
    "Перед тем как описать среднее - посмотрим на распределение количества посадочных мест в заведениях по каждому виду. "
   ]
  },
  {
   "cell_type": "code",
   "execution_count": 28,
   "metadata": {},
   "outputs": [
    {
     "data": {
      "image/png": "[encoded data removed]"
     },
     "metadata": {},
     "output_type": "display_data"
    }
   ],
   "source": [
    "px.strip(df, \n",
    "       x='object_type', \n",
    "       y='number',\n",
    "       template='plotly_dark',\n",
    "       title='Распределние количества посадочных мест в заведениях разных типов',\n",
    "       labels={'number':'Кол-во посадочных мест', 'object_type':'Тип заведения'})"
   ]
  },
  {
   "cell_type": "markdown",
   "metadata": {},
   "source": [
    "**Уберем из таблицы совсем уж яркие выбросы** для каждого типа:\n",
    "- 1700 мест для бара\n",
    "- 1400 и 1288 мест для столовой\n",
    "- 1500, 1200, 1040 и 920 мест для ресторана\n",
    "- 200 мест для кафетерия\n",
    "- 216 мест для закусочной"
   ]
  },
  {
   "cell_type": "code",
   "execution_count": 29,
   "metadata": {},
   "outputs": [
    {
     "name": "stdout",
     "output_type": "stream",
     "text": [
      "Процент удаляемых значений:0.06%\n"
     ]
    }
   ],
   "source": [
    "print('Процент удаляемых значений:{:.2%}'.format(9 / len(df)))"
   ]
  },
  {
   "cell_type": "code",
   "execution_count": 30,
   "metadata": {},
   "outputs": [],
   "source": [
    "#вынесем неповторяющиеся количества в отдельный список\n",
    "unusual_number = [1700, 1400, 1288, 1500, 1200, 1040, 920]\n",
    "\n",
    "#оставим в таблице все строки, кроме тех, что содержат выбросы\n",
    "df = df.query('number not in @unusual_number')"
   ]
  },
  {
   "cell_type": "code",
   "execution_count": 31,
   "metadata": {},
   "outputs": [],
   "source": [
    "#найдем индексы строк для 200 и 216 мест и сразу передадим их методу drop\n",
    "df.drop(df.query('number == 216 & object_type == \"закусочная\"').index, inplace=True)\n",
    "df.drop(df.query('number == 200 & object_type == \"кафетерий\"').index, inplace=True)"
   ]
  },
  {
   "cell_type": "markdown",
   "metadata": {},
   "source": [
    "Готово! Теперь опишем среднее количество посадочных мест для каждого типа заведения. Использовать будем среднеарифметическое. "
   ]
  },
  {
   "cell_type": "markdown",
   "metadata": {},
   "source": [
    "**Расчеты и график**"
   ]
  },
  {
   "cell_type": "code",
   "execution_count": 32,
   "metadata": {},
   "outputs": [],
   "source": [
    "#подготовим табличку для графика\n",
    "objectTypeMeanSeats = df.groupby('object_type', as_index=False)\\\n",
    "    .agg({'number':'mean'})\\\n",
    "    .rename(columns={'number':'mean_number'})\\\n",
    "    .sort_values(by='mean_number', ascending=True)"
   ]
  },
  {
   "cell_type": "code",
   "execution_count": 33,
   "metadata": {},
   "outputs": [
    {
     "data": {
      "image/png": "[encoded data removed]"
     },
     "metadata": {},
     "output_type": "display_data"
    }
   ],
   "source": [
    "px.bar(objectTypeMeanSeats,\n",
    "      x='mean_number',\n",
    "      y='object_type',\n",
    "      template='plotly_dark',\n",
    "      title='Среднее количество посадочных мест в заведениях разных типов',\n",
    "      labels={'object_type':'', 'mean_number':'Среднее кол-во посадочных мест (шт.)'},\n",
    "      orientation='h')"
   ]
  },
  {
   "cell_type": "markdown",
   "metadata": {},
   "source": [
    "**В среднем, больше всего посадочных мест** встречается в столовых и ресторанах."
   ]
  },
  {
   "cell_type": "markdown",
   "metadata": {},
   "source": [
    "### Топ-10 улиц по количеству объектов общественного питания\n",
    "- Показать топ-10 улиц по количеству объектов общественного питания\n",
    "- В каких районах находятся эти улицы?"
   ]
  },
  {
   "cell_type": "markdown",
   "metadata": {},
   "source": [
    "**Подготовка данных**\n",
    "\n",
    "Первым шагом необходимо выделить информацию об улице в отдельный столбец. \n",
    "- Адреса указаны в формате \"город, улица, дом/корпус и т.д.\"\n",
    "- Т.е. каждая часть адреса разделена друг от друга запятой\n",
    "- Значит нам нужно найти все части адреса (между запятыми) и взять только вторую\n",
    "- Но есть исключения. Иногда после названия \"город москва\" идет не улица, а название административной единицы внутри москвы (город зеленоград, город троицк, поселение московский), и только затем название улицы\n",
    "- В таком случае брать только название улицы не совсем корректно, ведь, к примеру, в \"город москва\" и в \"город москва, город зеленоград\" могут быть улицы с одинаковыми названиями. Заведения по ним просуммируются.\n",
    "- Кроме того, бывает так, что город вообще не указан и адрес сразу начинается с улицы\n",
    "\n",
    "Что делаем: \n",
    "1. Выносим в отдельный столбец не только улицу но и административную единицу\n",
    "2. Если в адресе нет наименования города, то автоматически присваем ему \"город москва\". Это допущение, но необходимое"
   ]
  },
  {
   "cell_type": "code",
   "execution_count": 34,
   "metadata": {},
   "outputs": [],
   "source": [
    "#функция получает строку, а возвращает наименование админ.единицы и улицы\n",
    "def cityUnit_and_street_detector(row):\n",
    "    #сохраняем в отдельную переменную строку с адресом\n",
    "    address = row['address']\n",
    "    #делим весь адрес на составляющие\n",
    "    address = address.split(', ')\n",
    "    #объявляем наименования админ.единиц, наличие которых нужно проверить\n",
    "    city_unit_find_names = {'город', 'поселение', 'поселок', 'село'}\n",
    "    \n",
    "    #проверяем, содержит ли адрес название города\n",
    "    #берем первую часть адреса и проверяем что внутри: улица или наименование административной единицы\n",
    "    #используем isdisjoint(): он возвращает True, если в рассматриваемом множестве... \n",
    "    #...не найдено элементов, присутствующих в указанном объекте.\n",
    "    if city_unit_find_names.isdisjoint(address[0].split()):\n",
    "        #если совпадений не найдено, значит в нашей строке нет названия админ.единицы\n",
    "        #а первый элемент строки - и есть улица\n",
    "        #в таком случае объявляем админ.единицей \"город москва\"\n",
    "        city_unit = 'город москва'\n",
    "        #а первый элемент записываем как улицу\n",
    "        street = address[0]\n",
    "    \n",
    "    else:\n",
    "        #если же в адресе есть название города, то нужно понять - какое из них взять - первое или второе\n",
    "        if city_unit_find_names.isdisjoint(address[1].split()):\n",
    "            #если во второй части совпадений не найдено, значит здесь хранится адрес\n",
    "            #в таком случае сохраняем первую часть как админ.единицу\n",
    "            city_unit = address[0]\n",
    "            #а вторую - как улицу\n",
    "            street = address[1]\n",
    "        else:\n",
    "            #иначе, сохраняем вторую часть как админ.единицу\n",
    "            city_unit = address[1]\n",
    "            #и третью - как улицу\n",
    "            street = address[2]\n",
    "    \n",
    "    return (city_unit, street)"
   ]
  },
  {
   "cell_type": "code",
   "execution_count": 35,
   "metadata": {},
   "outputs": [],
   "source": [
    "#применим функцию к каждой строке и сохраним в отдельных столбцах\n",
    "df[['city_unit','street']] = df.apply(cityUnit_and_street_detector, axis=1, result_type='expand')"
   ]
  },
  {
   "cell_type": "markdown",
   "metadata": {},
   "source": [
    "**Расчеты и график**"
   ]
  },
  {
   "cell_type": "code",
   "execution_count": 36,
   "metadata": {},
   "outputs": [],
   "source": [
    "#посчитаем кол-во объектов по каждой улице и отсортируем по убыванию\n",
    "#группировать будем не только по улице, но и по админ единице\n",
    "objectsPerStreet = df.groupby(['city_unit','street'], as_index=False)\\\n",
    "    .agg({'id':'count'})\\\n",
    "    .rename(columns={'id':'object_count'})\\\n",
    "    .sort_values(by='object_count', ascending=False)"
   ]
  },
  {
   "cell_type": "code",
   "execution_count": 37,
   "metadata": {},
   "outputs": [
    {
     "data": {
      "image/png": "[encoded data removed]"
     },
     "metadata": {},
     "output_type": "display_data"
    }
   ],
   "source": [
    "#выведем 10 топовых улиц по количеству заведений\n",
    "px.bar(objectsPerStreet.head(10).sort_values(by='object_count', ascending=True),\n",
    "      x='object_count',\n",
    "      y='street',\n",
    "      template='plotly_dark',\n",
    "      title='Топ-10 улиц по количеству заведений',\n",
    "      labels={'street':'', 'object_count':'Кол-во заведений (шт.)'},\n",
    "      orientation='h',\n",
    "      height=480)"
   ]
  },
  {
   "cell_type": "markdown",
   "metadata": {},
   "source": [
    "Предварительный вывод: большое количество заведений расположенно на проспектах и шоссе, потому что это очень протяженные улицы. "
   ]
  },
  {
   "cell_type": "markdown",
   "metadata": {},
   "source": [
    "**В каких районах Москвы находятся эти улицы?**\n",
    "\n",
    "Для ответа на этот вопрос нам нужны внешние данные о районах для каждой улицы. Такие данные есть в таблице по этой ссылке: \n",
    "https://frs.noosphere.ru/xmlui/bitstream/handle/20.500.11925/714058/mosgaz-streets.csv?sequence=1&isAllowed=y.\n",
    "Присоединим их и найдем ответ на вопрос. "
   ]
  },
  {
   "cell_type": "markdown",
   "metadata": {},
   "source": [
    "**Выгрузим и посмотрим дополнительную таблицу**"
   ]
  },
  {
   "cell_type": "code",
   "execution_count": 38,
   "metadata": {},
   "outputs": [
    {
     "data": {
      "text/html": [
       "<div>\n",
       "<style scoped>\n",
       "    .dataframe tbody tr th:only-of-type {\n",
       "        vertical-align: middle;\n",
       "    }\n",
       "\n",
       "    .dataframe tbody tr th {\n",
       "        vertical-align: top;\n",
       "    }\n",
       "\n",
       "    .dataframe thead th {\n",
       "        text-align: right;\n",
       "    }\n",
       "</style>\n",
       "<table border=\"1\" class=\"dataframe\">\n",
       "  <thead>\n",
       "    <tr style=\"text-align: right;\">\n",
       "      <th></th>\n",
       "      <th>streetname</th>\n",
       "      <th>areaid</th>\n",
       "      <th>okrug</th>\n",
       "      <th>area</th>\n",
       "    </tr>\n",
       "  </thead>\n",
       "  <tbody>\n",
       "    <tr>\n",
       "      <th>0</th>\n",
       "      <td>Выставочный переулок</td>\n",
       "      <td>17</td>\n",
       "      <td>ЦАО</td>\n",
       "      <td>Пресненский район</td>\n",
       "    </tr>\n",
       "    <tr>\n",
       "      <th>1</th>\n",
       "      <td>улица Гашека</td>\n",
       "      <td>17</td>\n",
       "      <td>ЦАО</td>\n",
       "      <td>Пресненский район</td>\n",
       "    </tr>\n",
       "    <tr>\n",
       "      <th>2</th>\n",
       "      <td>Большая Никитская улица</td>\n",
       "      <td>17</td>\n",
       "      <td>ЦАО</td>\n",
       "      <td>Пресненский район</td>\n",
       "    </tr>\n",
       "    <tr>\n",
       "      <th>3</th>\n",
       "      <td>Глубокий переулок</td>\n",
       "      <td>17</td>\n",
       "      <td>ЦАО</td>\n",
       "      <td>Пресненский район</td>\n",
       "    </tr>\n",
       "    <tr>\n",
       "      <th>4</th>\n",
       "      <td>Большой Гнездниковский переулок</td>\n",
       "      <td>17</td>\n",
       "      <td>ЦАО</td>\n",
       "      <td>Пресненский район</td>\n",
       "    </tr>\n",
       "  </tbody>\n",
       "</table>\n",
       "</div>"
      ],
      "text/plain": [
       "                        streetname  areaid okrug               area\n",
       "0             Выставочный переулок      17   ЦАО  Пресненский район\n",
       "1                     улица Гашека      17   ЦАО  Пресненский район\n",
       "2          Большая Никитская улица      17   ЦАО  Пресненский район\n",
       "3                Глубокий переулок      17   ЦАО  Пресненский район\n",
       "4  Большой Гнездниковский переулок      17   ЦАО  Пресненский район"
      ]
     },
     "execution_count": 38,
     "metadata": {},
     "output_type": "execute_result"
    }
   ],
   "source": [
    "moscow_area_data = pd.read_csv('https://frs.noosphere.ru/xmlui/bitstream/handle/20.500.11925/714058/mosgaz-streets.csv?sequence=1&isAllowed=y')\n",
    "moscow_area_data.head()"
   ]
  },
  {
   "cell_type": "code",
   "execution_count": 39,
   "metadata": {},
   "outputs": [
    {
     "name": "stdout",
     "output_type": "stream",
     "text": [
      "<class 'pandas.core.frame.DataFrame'>\n",
      "RangeIndex: 4398 entries, 0 to 4397\n",
      "Data columns (total 4 columns):\n",
      " #   Column      Non-Null Count  Dtype \n",
      "---  ------      --------------  ----- \n",
      " 0   streetname  4398 non-null   object\n",
      " 1   areaid      4398 non-null   int64 \n",
      " 2   okrug       4398 non-null   object\n",
      " 3   area        4398 non-null   object\n",
      "dtypes: int64(1), object(3)\n",
      "memory usage: 137.6+ KB\n"
     ]
    }
   ],
   "source": [
    "moscow_area_data.info()"
   ]
  },
  {
   "cell_type": "markdown",
   "metadata": {},
   "source": [
    "**Предобработаем таблицу** <code>moscow_area_data</code>"
   ]
  },
  {
   "cell_type": "code",
   "execution_count": 40,
   "metadata": {},
   "outputs": [],
   "source": [
    "#приведем строковые столбцы к нижнему регистру\n",
    "moscow_area_data['streetname'] = moscow_area_data['streetname'].str.lower()\n",
    "moscow_area_data['area'] = moscow_area_data['area'].str.lower()\n",
    "moscow_area_data['okrug'] = moscow_area_data['okrug'].str.lower()"
   ]
  },
  {
   "cell_type": "code",
   "execution_count": 41,
   "metadata": {},
   "outputs": [
    {
     "name": "stdout",
     "output_type": "stream",
     "text": [
      "Дубликатов в таблице: 8\n"
     ]
    }
   ],
   "source": [
    "#проверим дубликаты\n",
    "print('Дубликатов в таблице:', moscow_area_data.duplicated().sum())"
   ]
  },
  {
   "cell_type": "code",
   "execution_count": 42,
   "metadata": {},
   "outputs": [],
   "source": [
    "#дропнем дубликаты\n",
    "moscow_area_data.drop_duplicates(inplace=True)"
   ]
  },
  {
   "cell_type": "markdown",
   "metadata": {},
   "source": [
    "**Районы, в которых находятся ТОП-10 улиц по количеству заведений**"
   ]
  },
  {
   "cell_type": "code",
   "execution_count": 43,
   "metadata": {},
   "outputs": [
    {
     "data": {
      "text/plain": [
       "array(['алексеевский район', 'ярославский район', 'район марьина роща',\n",
       "       'останкинский район', 'район ростокино', 'район свиблово',\n",
       "       'мещанский район', 'академический район', 'район черемушки',\n",
       "       'район ясенево', 'район коньково', 'обручевский район',\n",
       "       'район теплый стан', 'район аэропорт', 'район беговой',\n",
       "       'хорошевский район', 'район сокол', 'пресненский район',\n",
       "       'район чертаново центральное', 'район чертаново северное',\n",
       "       'район чертаново южное', 'донской район',\n",
       "       'район нагатино-садовники', 'нагорный район',\n",
       "       'район северное бутово', 'район южное бутово',\n",
       "       'район проспект вернадского', 'район тропарево-никулино',\n",
       "       'район гагаринский', 'ломоносовский район', 'район якиманка',\n",
       "       'район раменки', 'район дорогомилово', 'район фили-давыдково',\n",
       "       'район москворечье-сабурово', 'район орехово-борисово южное',\n",
       "       'район орехово-борисово северное'], dtype=object)"
      ]
     },
     "execution_count": 43,
     "metadata": {},
     "output_type": "execute_result"
    }
   ],
   "source": [
    "objectsPerStreet.head(10).merge(moscow_area_data, left_on='street', right_on='streetname')['area'].unique()"
   ]
  },
  {
   "cell_type": "markdown",
   "metadata": {},
   "source": [
    "Стоит отметить, что такой большой список получился еще и потому, что наши протяженные улицы попадают сразу в несколько районов. Один только Проспект Мира проходит в 8 районах. "
   ]
  },
  {
   "cell_type": "code",
   "execution_count": 44,
   "metadata": {},
   "outputs": [],
   "source": [
    "#найдем количество районов для каждой улицы\n",
    "areaCountPerStreet = objectsPerStreet.merge(moscow_area_data, left_on='street', right_on='streetname')\\\n",
    "    .groupby(['city_unit','street'], as_index=False)\\\n",
    "    .agg({'area':'count'})\\\n",
    "    .rename(columns={'area':'area_count'})"
   ]
  },
  {
   "cell_type": "code",
   "execution_count": 45,
   "metadata": {},
   "outputs": [],
   "source": [
    "#объединим в один фрейм с количеством заведений на каждой улице\n",
    "densityRateFrame = objectsPerStreet.merge(areaCountPerStreet, on=['city_unit', 'street'])"
   ]
  },
  {
   "cell_type": "code",
   "execution_count": 46,
   "metadata": {},
   "outputs": [],
   "source": [
    "#найдем оценку плотности\n",
    "densityRateFrame['density_rate'] = (densityRateFrame['object_count'] / densityRateFrame['area_count']).round(2)"
   ]
  },
  {
   "cell_type": "code",
   "execution_count": 47,
   "metadata": {},
   "outputs": [],
   "source": [
    "#оставим только топ-10 улиц по плотности в отдельном фрейме\n",
    "top10densityStreets = densityRateFrame.sort_values(by='density_rate', ascending=False).head(10)"
   ]
  },
  {
   "cell_type": "code",
   "execution_count": 48,
   "metadata": {},
   "outputs": [
    {
     "data": {
      "image/png": "[encoded data removed]"
     },
     "metadata": {},
     "output_type": "display_data"
    }
   ],
   "source": [
    "#выведем топ-10 на графике (но показывать будем не плотность, а количество заведений, хотя это скорее всего одинаковые цифры)\n",
    "fig = px.bar(top10densityStreets.sort_values(by='object_count', ascending=True),\n",
    "      x='object_count',\n",
    "      y='street',\n",
    "      template='plotly_dark',\n",
    "      title='Топ-10 самых плотных по количеству заведений улиц',\n",
    "      labels={'street':'', 'object_count':'Кол-во заведений (шт.)'},\n",
    "      orientation='h',\n",
    "      height=480,\n",
    "            width=900)\n",
    "\n",
    "fig.update_layout(xaxis_range=[60,170])\n",
    "\n",
    "fig.show()"
   ]
  },
  {
   "cell_type": "markdown",
   "metadata": {},
   "source": [
    "Ну, кстати:\n",
    "- Пресненская набережная - это Москва-Сити, логично\n",
    "- Арбат (новый и старый) - понятно, прогулочные улицы\n",
    "- Пятницкая и Тверская так вообще - одни из центральных\n",
    "\n",
    "Плюс-минус что-то близкое к правде, наверное"
   ]
  },
  {
   "cell_type": "markdown",
   "metadata": {},
   "source": [
    "### Улицы с одним объектом общественного питания\n",
    "- Число улиц с одним объектом общественного питания. \n",
    "- В каких районах Москвы находятся эти улицы?"
   ]
  },
  {
   "cell_type": "code",
   "execution_count": 49,
   "metadata": {},
   "outputs": [
    {
     "name": "stdout",
     "output_type": "stream",
     "text": [
      "В Москве 693 улицы с одним объектом общественного питания:\n"
     ]
    }
   ],
   "source": [
    "print('В Москве {} улицы с одним объектом общественного питания:'.format(len(objectsPerStreet.query('object_count == 1'))))"
   ]
  },
  {
   "cell_type": "markdown",
   "metadata": {},
   "source": [
    "**Районы Москвы, в которых находятся улицы с 1 объектом**"
   ]
  },
  {
   "cell_type": "code",
   "execution_count": 50,
   "metadata": {},
   "outputs": [],
   "source": [
    "#найдем количество районов для каждой улицы\n",
    "areaCountPerStreet = objectsPerStreet.merge(moscow_area_data, left_on='street', right_on='streetname')\\\n",
    "    .groupby(['city_unit','street'], as_index=False)\\\n",
    "    .agg({'area':'count'})\\\n",
    "    .rename(columns={'area':'area_count'})"
   ]
  },
  {
   "cell_type": "code",
   "execution_count": 51,
   "metadata": {},
   "outputs": [],
   "source": [
    "#сохраним в отдельный фрейм только те улицы, на которых находятся по одному заведению\n",
    "#присоединим название района для каждой улицы\n",
    "oneObjectStreets = objectsPerStreet.query('object_count == 1').merge(moscow_area_data, left_on='street', right_on='streetname')\\\n",
    "    [['city_unit', 'street', 'area']]"
   ]
  },
  {
   "cell_type": "code",
   "execution_count": 52,
   "metadata": {},
   "outputs": [],
   "source": [
    "#cгруппируем по районам, посчитаем кол-во улиц и возьем только топовые 10 райнов\n",
    "top10oneObjectAreas = oneObjectStreets.groupby('area', as_index=False)\\\n",
    "    .agg({'street':'count'})\\\n",
    "    .rename(columns={'street':'streets_count'})\\\n",
    "    .sort_values(by='streets_count', ascending=False)\\\n",
    "    .head(10)"
   ]
  },
  {
   "cell_type": "code",
   "execution_count": 53,
   "metadata": {},
   "outputs": [
    {
     "data": {
      "text/plain": [
       "97        таганский район\n",
       "3         басманный район\n",
       "82        район хамовники\n",
       "21      пресненский район\n",
       "98         тверской район\n",
       "52     район марьина роща\n",
       "22            район арбат\n",
       "13        мещанский район\n",
       "76       район сокольники\n",
       "34    район замоскворечье\n",
       "Name: area, dtype: object"
      ]
     },
     "execution_count": 53,
     "metadata": {},
     "output_type": "execute_result"
    }
   ],
   "source": [
    "#посмотрим на них\n",
    "top10oneObjectAreas['area']"
   ]
  },
  {
   "cell_type": "code",
   "execution_count": 54,
   "metadata": {},
   "outputs": [
    {
     "data": {
      "text/html": [
       "<div>\n",
       "<style scoped>\n",
       "    .dataframe tbody tr th:only-of-type {\n",
       "        vertical-align: middle;\n",
       "    }\n",
       "\n",
       "    .dataframe tbody tr th {\n",
       "        vertical-align: top;\n",
       "    }\n",
       "\n",
       "    .dataframe thead th {\n",
       "        text-align: right;\n",
       "    }\n",
       "</style>\n",
       "<table border=\"1\" class=\"dataframe\">\n",
       "  <thead>\n",
       "    <tr style=\"text-align: right;\">\n",
       "      <th></th>\n",
       "      <th>area</th>\n",
       "      <th>streets_count</th>\n",
       "      <th>okrug</th>\n",
       "    </tr>\n",
       "  </thead>\n",
       "  <tbody>\n",
       "    <tr>\n",
       "      <th>0</th>\n",
       "      <td>таганский район</td>\n",
       "      <td>27</td>\n",
       "      <td>цао</td>\n",
       "    </tr>\n",
       "    <tr>\n",
       "      <th>1</th>\n",
       "      <td>басманный район</td>\n",
       "      <td>26</td>\n",
       "      <td>цао</td>\n",
       "    </tr>\n",
       "    <tr>\n",
       "      <th>2</th>\n",
       "      <td>район хамовники</td>\n",
       "      <td>26</td>\n",
       "      <td>цао</td>\n",
       "    </tr>\n",
       "    <tr>\n",
       "      <th>3</th>\n",
       "      <td>пресненский район</td>\n",
       "      <td>20</td>\n",
       "      <td>цао</td>\n",
       "    </tr>\n",
       "    <tr>\n",
       "      <th>4</th>\n",
       "      <td>тверской район</td>\n",
       "      <td>20</td>\n",
       "      <td>цао</td>\n",
       "    </tr>\n",
       "    <tr>\n",
       "      <th>5</th>\n",
       "      <td>район марьина роща</td>\n",
       "      <td>18</td>\n",
       "      <td>свао</td>\n",
       "    </tr>\n",
       "    <tr>\n",
       "      <th>6</th>\n",
       "      <td>район арбат</td>\n",
       "      <td>18</td>\n",
       "      <td>цао</td>\n",
       "    </tr>\n",
       "    <tr>\n",
       "      <th>7</th>\n",
       "      <td>мещанский район</td>\n",
       "      <td>15</td>\n",
       "      <td>цао</td>\n",
       "    </tr>\n",
       "    <tr>\n",
       "      <th>8</th>\n",
       "      <td>район сокольники</td>\n",
       "      <td>15</td>\n",
       "      <td>вао</td>\n",
       "    </tr>\n",
       "    <tr>\n",
       "      <th>9</th>\n",
       "      <td>район замоскворечье</td>\n",
       "      <td>14</td>\n",
       "      <td>цао</td>\n",
       "    </tr>\n",
       "  </tbody>\n",
       "</table>\n",
       "</div>"
      ],
      "text/plain": [
       "                  area  streets_count okrug\n",
       "0      таганский район             27   цао\n",
       "1      басманный район             26   цао\n",
       "2      район хамовники             26   цао\n",
       "3    пресненский район             20   цао\n",
       "4       тверской район             20   цао\n",
       "5   район марьина роща             18  свао\n",
       "6          район арбат             18   цао\n",
       "7      мещанский район             15   цао\n",
       "8     район сокольники             15   вао\n",
       "9  район замоскворечье             14   цао"
      ]
     },
     "execution_count": 54,
     "metadata": {},
     "output_type": "execute_result"
    }
   ],
   "source": [
    "#прежде чем смотреть на карте, попробуем оценить расположение по округам\n",
    "#добавим к каждому району наименование округа\n",
    "top10oneObjectAreas.merge(moscow_area_data[['area','okrug']], on='area').drop_duplicates().reset_index(drop=True)"
   ]
  },
  {
   "cell_type": "markdown",
   "metadata": {},
   "source": [
    "**Вывод**\n",
    "\n",
    "Топ-10 районов, которые содержат наибольшое количество улиц с одним заведением, находятся в центре города в пределах ТТК. Лишь два района из списка лежит в других округах. Получился контринтуитивный вывод. Я ожидал увидеть их на окраинах города. Допускаю такую причину: в центре города в принципе больше заведений, чем на окраинах, поэтому вероятность найти улицу с одним заведением в центре куда выше. "
   ]
  },
  {
   "cell_type": "markdown",
   "metadata": {},
   "source": [
    "### Количество посадочных мест для улиц с большим количеством заведений"
   ]
  },
  {
   "cell_type": "code",
   "execution_count": 55,
   "metadata": {},
   "outputs": [],
   "source": [
    "#возьмем в рассмотрение даже не 10, а 20 улиц с самым большим количеством заведений top10streets\n",
    "top20streets = objectsPerStreet.head(20)['street'].unique()"
   ]
  },
  {
   "cell_type": "code",
   "execution_count": 56,
   "metadata": {},
   "outputs": [
    {
     "data": {
      "image/png": "[encoded data removed]"
     },
     "metadata": {},
     "output_type": "display_data"
    }
   ],
   "source": [
    "px.box(df.query('city_unit == \"город москва\" & street in @top20streets'),\n",
    "       y=\"number\", \n",
    "       points=\"all\",\n",
    "       template='plotly_dark',\n",
    "       title=\"Распределение посадочных мест для топ-10 улиц по количеству заведений\",\n",
    "       labels={'number':'Кол-во посадочных мест (шт.)'},\n",
    "       height=480)"
   ]
  },
  {
   "cell_type": "markdown",
   "metadata": {},
   "source": [
    "- Больше чем 400 посадочных мест в таких заведениях - большая редкость\n",
    "- Скорее всего, в заведении на топовой улице будет от 10 до 65 мест"
   ]
  },
  {
   "cell_type": "code",
   "execution_count": 57,
   "metadata": {},
   "outputs": [],
   "source": [
    "top10streets = objectsPerStreet.head(10)['street'].unique()"
   ]
  },
  {
   "cell_type": "code",
   "execution_count": 58,
   "metadata": {},
   "outputs": [
    {
     "data": {
      "image/png": "[encoded data removed]"
     },
     "metadata": {},
     "output_type": "display_data"
    }
   ],
   "source": [
    "px.box(df.query('city_unit == \"город москва\" & street in @top10streets'),\n",
    "       y=\"number\",\n",
    "       x='street',\n",
    "       template='plotly_dark',\n",
    "       title=\"Распределение посадочных мест для топ-10 улиц по количеству заведений\",\n",
    "       labels={'number':'Кол-во посадочных мест (шт.)', 'street':''},\n",
    "       height=480)"
   ]
  },
  {
   "cell_type": "markdown",
   "metadata": {},
   "source": [
    "Чисто визуально видим, что на пресненской набережной межквартильный размах самый узкий. То есть разброс по посадочным местам самый небольшой. А на кутузовском и профсоюзной нет заведений с количеством посадочных мест больше 255. "
   ]
  },
  {
   "cell_type": "markdown",
   "metadata": {},
   "source": [
    "## Общий вывод"
   ]
  },
  {
   "cell_type": "markdown",
   "metadata": {},
   "source": [
    "В этом проекте мы исследовали рынок заведений общественного питания в Москве. Все для того, чтобы подготовить аналитику, представить её инвесторам и получить деньги на открытие нашего оригинального кафе. \n",
    "\n",
    "**Что узнали:**\n",
    "- В Москве больше всего кафе. Далее по количеству идут столовые, рестораны и предприятия быстрого обслуживания; \n",
    "- Несетевых заведений практически в 4 раза больше, чем сетевых;\n",
    "- Сетевое же распространение характерно для предприятий быстрого обслуживания, магазинов, ресторанов, кафе;\n",
    "- Для сетей характерно малое количество заведений (меньше 7) с малым количеством посадочных мест (до 77).\n",
    "- В среднем, больше всего посадочных мест встречается в столовых и ресторанах;\n",
    "- Больше всего заведений находится на проспектах и шоссе: скорее всего дело еще и в том, что это просто очень протяженные улицы;\n",
    "- В городе 693 улицы на которых находится только 1 объект;\n",
    "- Топ-10 районов, которые содержат наибольшое количество улиц с одним заведением, находятся в центре города в пределах ТТК (в ЦАО)\n",
    "- Количество посадочных мест в заведениях на топовых улицах скорее всего лежит в диапозоне от 10 до 65;\n",
    "\n",
    "**Рекомендации:**\n",
    "1. Заведение с такой оригинальной идеей скорее всего требует расположения в центральных районах города. Наша идея сейчас не столько про \"поесть\", сколько про \"фудинтертейнмент\", а в этом случае - нужен охват и узнаваемость. \n",
    "2. Задумывать такое заведение в формате сети, на мой взгляд, рационально только в том случае, если такой формат финансово более выгоден, нежели заведение с официантами-людьми. Тогда это похоже на модель, котрую можно масштабировать (косты меньше за счет работы роботов). Ради развлечения люди сходят 1 раз, а постоянно будут посещать, только если у нас будет вкусно и выгодно. В общем, для начала, это в любом случае должно быть только одно заведение. \n",
    "3. Какой это будет вид объекта - зависит скорее от нашего позиционирования, нежели от количества объектов разного вида в городе. Но, понимая концепцию, скорее всего, стоит рассмотреть формат ресторана, кафе или бара. Вряд ли кто-то ожидает обслуживания от роботов в столовой или закусочной :)"
   ]
  }
 ],
 "metadata": {
  "ExecuteTimeLog": [
   {
    "duration": 794,
    "start_time": "2021-11-22T07:47:07.926Z"
   },
   {
    "duration": 61,
    "start_time": "2021-11-22T07:49:11.338Z"
   },
   {
    "duration": 24,
    "start_time": "2021-11-22T07:49:32.670Z"
   },
   {
    "duration": 13,
    "start_time": "2021-11-22T07:49:36.478Z"
   },
   {
    "duration": 7,
    "start_time": "2021-11-22T07:59:41.914Z"
   },
   {
    "duration": 9,
    "start_time": "2021-11-22T07:59:59.610Z"
   },
   {
    "duration": 10,
    "start_time": "2021-11-22T08:00:06.219Z"
   },
   {
    "duration": 363,
    "start_time": "2021-11-22T08:01:00.482Z"
   },
   {
    "duration": 12,
    "start_time": "2021-11-22T08:01:05.816Z"
   },
   {
    "duration": 280,
    "start_time": "2021-11-22T08:02:34.734Z"
   },
   {
    "duration": 16,
    "start_time": "2021-11-22T08:02:38.017Z"
   },
   {
    "duration": 18,
    "start_time": "2021-11-22T08:02:47.053Z"
   },
   {
    "duration": 19,
    "start_time": "2021-11-22T08:02:55.598Z"
   },
   {
    "duration": 29,
    "start_time": "2021-11-22T08:03:20.416Z"
   },
   {
    "duration": 24,
    "start_time": "2021-11-22T08:03:46.773Z"
   },
   {
    "duration": 22,
    "start_time": "2021-11-22T08:03:53.025Z"
   },
   {
    "duration": 13,
    "start_time": "2021-11-22T08:03:59.844Z"
   },
   {
    "duration": 9,
    "start_time": "2021-11-22T08:05:43.531Z"
   },
   {
    "duration": 1164,
    "start_time": "2021-11-22T08:07:00.752Z"
   },
   {
    "duration": 26600,
    "start_time": "2021-11-22T08:07:04.702Z"
   },
   {
    "duration": 1727,
    "start_time": "2021-11-22T08:07:42.165Z"
   },
   {
    "duration": 3,
    "start_time": "2021-11-22T08:07:43.896Z"
   },
   {
    "duration": 67,
    "start_time": "2021-11-22T08:07:43.902Z"
   },
   {
    "duration": 19,
    "start_time": "2021-11-22T08:07:43.972Z"
   },
   {
    "duration": 15,
    "start_time": "2021-11-22T08:07:43.993Z"
   },
   {
    "duration": 11,
    "start_time": "2021-11-22T08:07:44.010Z"
   },
   {
    "duration": 45,
    "start_time": "2021-11-22T08:07:44.024Z"
   },
   {
    "duration": 13,
    "start_time": "2021-11-22T08:07:44.071Z"
   },
   {
    "duration": 17,
    "start_time": "2021-11-22T08:07:44.088Z"
   },
   {
    "duration": 24,
    "start_time": "2021-11-22T08:07:44.107Z"
   },
   {
    "duration": 62,
    "start_time": "2021-11-22T08:07:44.133Z"
   },
   {
    "duration": 11,
    "start_time": "2021-11-22T08:07:44.198Z"
   },
   {
    "duration": 962,
    "start_time": "2021-11-22T08:08:40.335Z"
   },
   {
    "duration": 16,
    "start_time": "2021-11-22T08:09:26.659Z"
   },
   {
    "duration": 85,
    "start_time": "2021-11-22T08:10:02.159Z"
   },
   {
    "duration": 91,
    "start_time": "2021-11-22T08:10:29.425Z"
   },
   {
    "duration": 87,
    "start_time": "2021-11-22T08:12:03.863Z"
   },
   {
    "duration": 86,
    "start_time": "2021-11-22T08:12:14.473Z"
   },
   {
    "duration": 83,
    "start_time": "2021-11-22T08:13:09.332Z"
   },
   {
    "duration": 101,
    "start_time": "2021-11-22T08:13:59.372Z"
   },
   {
    "duration": 85,
    "start_time": "2021-11-22T08:14:04.976Z"
   },
   {
    "duration": 84,
    "start_time": "2021-11-22T08:14:19.413Z"
   },
   {
    "duration": 8,
    "start_time": "2021-11-22T08:16:58.604Z"
   },
   {
    "duration": 553,
    "start_time": "2021-11-22T08:19:17.770Z"
   },
   {
    "duration": 269,
    "start_time": "2021-11-22T08:19:57.654Z"
   },
   {
    "duration": 409,
    "start_time": "2021-11-22T08:20:01.272Z"
   },
   {
    "duration": 9,
    "start_time": "2021-11-22T08:20:04.188Z"
   },
   {
    "duration": 8,
    "start_time": "2021-11-22T08:20:19.088Z"
   },
   {
    "duration": 9,
    "start_time": "2021-11-22T08:20:24.357Z"
   },
   {
    "duration": 8,
    "start_time": "2021-11-22T08:20:56.089Z"
   },
   {
    "duration": 383,
    "start_time": "2021-11-22T08:21:45.820Z"
   },
   {
    "duration": 292,
    "start_time": "2021-11-22T08:21:58.427Z"
   },
   {
    "duration": 560,
    "start_time": "2021-11-22T08:22:32.334Z"
   },
   {
    "duration": 14,
    "start_time": "2021-11-22T08:22:41.715Z"
   },
   {
    "duration": 90,
    "start_time": "2021-11-22T08:23:39.507Z"
   },
   {
    "duration": 88,
    "start_time": "2021-11-22T08:23:43.305Z"
   },
   {
    "duration": 83,
    "start_time": "2021-11-22T08:23:52.602Z"
   },
   {
    "duration": 84,
    "start_time": "2021-11-22T08:24:03.813Z"
   },
   {
    "duration": 8,
    "start_time": "2021-11-22T08:24:52.769Z"
   },
   {
    "duration": 21,
    "start_time": "2021-11-22T08:28:12.729Z"
   },
   {
    "duration": 19,
    "start_time": "2021-11-22T08:29:22.888Z"
   },
   {
    "duration": 22,
    "start_time": "2021-11-22T08:29:41.571Z"
   },
   {
    "duration": 14,
    "start_time": "2021-11-22T08:30:57.418Z"
   },
   {
    "duration": 11,
    "start_time": "2021-11-22T08:31:11.330Z"
   },
   {
    "duration": 116,
    "start_time": "2021-11-22T08:31:45.834Z"
   },
   {
    "duration": 86,
    "start_time": "2021-11-22T08:32:09.854Z"
   },
   {
    "duration": 91,
    "start_time": "2021-11-22T08:32:23.739Z"
   },
   {
    "duration": 13,
    "start_time": "2021-11-22T08:32:28.892Z"
   },
   {
    "duration": 13,
    "start_time": "2021-11-22T08:32:32.184Z"
   },
   {
    "duration": 92,
    "start_time": "2021-11-22T08:32:41.818Z"
   },
   {
    "duration": 86,
    "start_time": "2021-11-22T08:35:46.630Z"
   },
   {
    "duration": 94,
    "start_time": "2021-11-22T08:36:38.574Z"
   },
   {
    "duration": 94,
    "start_time": "2021-11-22T08:36:45.086Z"
   },
   {
    "duration": 92,
    "start_time": "2021-11-22T08:40:10.119Z"
   },
   {
    "duration": 10,
    "start_time": "2021-11-22T08:42:58.502Z"
   },
   {
    "duration": 28,
    "start_time": "2021-11-22T08:43:24.867Z"
   },
   {
    "duration": 18,
    "start_time": "2021-11-22T08:43:43.686Z"
   },
   {
    "duration": 14,
    "start_time": "2021-11-22T08:44:05.218Z"
   },
   {
    "duration": 107,
    "start_time": "2021-11-22T08:44:52.189Z"
   },
   {
    "duration": 26,
    "start_time": "2021-11-22T08:47:22.981Z"
   },
   {
    "duration": 349,
    "start_time": "2021-11-22T08:50:03.092Z"
   },
   {
    "duration": 26,
    "start_time": "2021-11-22T08:50:08.647Z"
   },
   {
    "duration": 26,
    "start_time": "2021-11-22T08:51:13.331Z"
   },
   {
    "duration": 16,
    "start_time": "2021-11-22T08:52:08.533Z"
   },
   {
    "duration": 91,
    "start_time": "2021-11-22T08:52:42.741Z"
   },
   {
    "duration": 88,
    "start_time": "2021-11-22T08:53:09.805Z"
   },
   {
    "duration": 16,
    "start_time": "2021-11-22T08:55:07.437Z"
   },
   {
    "duration": 5,
    "start_time": "2021-11-22T08:55:49.868Z"
   },
   {
    "duration": 262,
    "start_time": "2021-11-22T08:56:28.373Z"
   },
   {
    "duration": 86,
    "start_time": "2021-11-22T08:57:31.957Z"
   },
   {
    "duration": 260,
    "start_time": "2021-11-22T08:57:37.953Z"
   },
   {
    "duration": 18,
    "start_time": "2021-11-22T08:57:56.018Z"
   },
   {
    "duration": 285,
    "start_time": "2021-11-22T08:58:06.899Z"
   },
   {
    "duration": 19,
    "start_time": "2021-11-22T08:59:01.310Z"
   },
   {
    "duration": 27,
    "start_time": "2021-11-22T09:04:22.701Z"
   },
   {
    "duration": 20,
    "start_time": "2021-11-22T09:04:31.855Z"
   },
   {
    "duration": 21,
    "start_time": "2021-11-22T09:05:23.152Z"
   },
   {
    "duration": 118,
    "start_time": "2021-11-22T09:06:22.182Z"
   },
   {
    "duration": 341,
    "start_time": "2021-11-22T09:06:25.423Z"
   },
   {
    "duration": 284,
    "start_time": "2021-11-22T09:06:31.933Z"
   },
   {
    "duration": 20,
    "start_time": "2021-11-22T09:06:38.695Z"
   },
   {
    "duration": 23,
    "start_time": "2021-11-22T09:08:32.566Z"
   },
   {
    "duration": 22,
    "start_time": "2021-11-22T09:08:41.587Z"
   },
   {
    "duration": 30,
    "start_time": "2021-11-22T09:11:29.096Z"
   },
   {
    "duration": 28,
    "start_time": "2021-11-22T09:12:55.946Z"
   },
   {
    "duration": 317,
    "start_time": "2021-11-22T09:14:30.462Z"
   },
   {
    "duration": 411,
    "start_time": "2021-11-22T09:16:50.495Z"
   },
   {
    "duration": 28,
    "start_time": "2021-11-22T09:16:55.772Z"
   },
   {
    "duration": 27,
    "start_time": "2021-11-22T09:17:38.817Z"
   },
   {
    "duration": 30,
    "start_time": "2021-11-22T09:18:48.884Z"
   },
   {
    "duration": 66,
    "start_time": "2021-11-22T09:19:08.403Z"
   },
   {
    "duration": 60,
    "start_time": "2021-11-22T09:21:00.221Z"
   },
   {
    "duration": 300,
    "start_time": "2021-11-22T09:21:44.544Z"
   },
   {
    "duration": 294,
    "start_time": "2021-11-22T09:21:54.606Z"
   },
   {
    "duration": 63,
    "start_time": "2021-11-22T09:22:10.292Z"
   },
   {
    "duration": 65,
    "start_time": "2021-11-22T09:22:35.371Z"
   },
   {
    "duration": 70,
    "start_time": "2021-11-22T09:23:40.085Z"
   },
   {
    "duration": 70,
    "start_time": "2021-11-22T09:24:18.353Z"
   },
   {
    "duration": 5,
    "start_time": "2021-11-22T10:09:49.449Z"
   },
   {
    "duration": 6,
    "start_time": "2021-11-22T10:10:59.102Z"
   },
   {
    "duration": 8,
    "start_time": "2021-11-22T10:11:09.073Z"
   },
   {
    "duration": 7,
    "start_time": "2021-11-22T10:11:28.606Z"
   },
   {
    "duration": 12,
    "start_time": "2021-11-22T13:04:34.291Z"
   },
   {
    "duration": 7,
    "start_time": "2021-11-22T13:05:39.502Z"
   },
   {
    "duration": 6,
    "start_time": "2021-11-22T13:06:00.409Z"
   },
   {
    "duration": 16,
    "start_time": "2021-11-22T13:06:55.460Z"
   },
   {
    "duration": 16,
    "start_time": "2021-11-22T13:07:20.509Z"
   },
   {
    "duration": 16,
    "start_time": "2021-11-22T13:07:26.504Z"
   },
   {
    "duration": 342,
    "start_time": "2021-11-22T13:08:35.756Z"
   },
   {
    "duration": 411,
    "start_time": "2021-11-22T13:08:53.535Z"
   },
   {
    "duration": 343,
    "start_time": "2021-11-22T13:14:49.163Z"
   },
   {
    "duration": 1383,
    "start_time": "2021-11-22T18:41:15.127Z"
   },
   {
    "duration": 14244,
    "start_time": "2021-11-22T18:41:16.512Z"
   },
   {
    "duration": 47,
    "start_time": "2021-11-22T18:41:30.758Z"
   },
   {
    "duration": 13,
    "start_time": "2021-11-22T18:41:30.807Z"
   },
   {
    "duration": 14,
    "start_time": "2021-11-22T18:41:30.821Z"
   },
   {
    "duration": 9,
    "start_time": "2021-11-22T18:41:30.837Z"
   },
   {
    "duration": 9,
    "start_time": "2021-11-22T18:41:30.848Z"
   },
   {
    "duration": 31,
    "start_time": "2021-11-22T18:41:30.860Z"
   },
   {
    "duration": 11,
    "start_time": "2021-11-22T18:41:30.893Z"
   },
   {
    "duration": 32,
    "start_time": "2021-11-22T18:41:30.906Z"
   },
   {
    "duration": 24,
    "start_time": "2021-11-22T18:41:30.940Z"
   },
   {
    "duration": 798,
    "start_time": "2021-11-22T18:41:30.966Z"
   },
   {
    "duration": 6,
    "start_time": "2021-11-22T18:41:31.767Z"
   },
   {
    "duration": 325,
    "start_time": "2021-11-22T18:41:31.792Z"
   },
   {
    "duration": 10,
    "start_time": "2021-11-22T18:41:32.118Z"
   },
   {
    "duration": 370,
    "start_time": "2021-11-22T18:41:32.129Z"
   },
   {
    "duration": 12,
    "start_time": "2021-11-22T18:41:32.501Z"
   },
   {
    "duration": 445,
    "start_time": "2021-11-22T18:41:32.515Z"
   },
   {
    "duration": -15980,
    "start_time": "2021-11-22T18:41:48.942Z"
   },
   {
    "duration": -15987,
    "start_time": "2021-11-22T18:41:48.950Z"
   },
   {
    "duration": 1133,
    "start_time": "2021-11-22T18:41:53.346Z"
   },
   {
    "duration": 3,
    "start_time": "2021-11-22T18:41:54.481Z"
   },
   {
    "duration": 48,
    "start_time": "2021-11-22T18:41:54.492Z"
   },
   {
    "duration": 12,
    "start_time": "2021-11-22T18:41:54.541Z"
   },
   {
    "duration": 10,
    "start_time": "2021-11-22T18:41:54.555Z"
   },
   {
    "duration": 7,
    "start_time": "2021-11-22T18:41:54.567Z"
   },
   {
    "duration": 20,
    "start_time": "2021-11-22T18:41:54.576Z"
   },
   {
    "duration": 9,
    "start_time": "2021-11-22T18:41:54.598Z"
   },
   {
    "duration": 10,
    "start_time": "2021-11-22T18:41:54.611Z"
   },
   {
    "duration": 15,
    "start_time": "2021-11-22T18:41:54.623Z"
   },
   {
    "duration": 53,
    "start_time": "2021-11-22T18:41:54.640Z"
   },
   {
    "duration": 444,
    "start_time": "2021-11-22T18:41:54.695Z"
   },
   {
    "duration": 7,
    "start_time": "2021-11-22T18:41:55.141Z"
   },
   {
    "duration": 87,
    "start_time": "2021-11-22T18:41:55.150Z"
   },
   {
    "duration": 60,
    "start_time": "2021-11-22T18:41:55.238Z"
   },
   {
    "duration": 109,
    "start_time": "2021-11-22T18:41:55.300Z"
   },
   {
    "duration": 11,
    "start_time": "2021-11-22T18:41:55.411Z"
   },
   {
    "duration": 46,
    "start_time": "2021-11-22T18:41:55.424Z"
   },
   {
    "duration": 7,
    "start_time": "2021-11-22T18:41:55.491Z"
   },
   {
    "duration": 200,
    "start_time": "2021-11-22T18:41:55.499Z"
   },
   {
    "duration": 328,
    "start_time": "2021-11-22T18:44:20.980Z"
   },
   {
    "duration": 38,
    "start_time": "2021-11-22T18:45:11.919Z"
   },
   {
    "duration": 231,
    "start_time": "2021-11-22T18:46:02.794Z"
   },
   {
    "duration": 7,
    "start_time": "2021-11-22T18:47:12.065Z"
   },
   {
    "duration": 163,
    "start_time": "2021-11-22T18:50:19.247Z"
   },
   {
    "duration": 13,
    "start_time": "2021-11-22T18:59:00.956Z"
   },
   {
    "duration": 16,
    "start_time": "2021-11-22T18:59:27.223Z"
   },
   {
    "duration": 7,
    "start_time": "2021-11-22T18:59:52.798Z"
   },
   {
    "duration": 7,
    "start_time": "2021-11-22T19:00:14.679Z"
   },
   {
    "duration": 6,
    "start_time": "2021-11-22T19:01:07.699Z"
   },
   {
    "duration": 6,
    "start_time": "2021-11-22T19:01:41.078Z"
   },
   {
    "duration": 5,
    "start_time": "2021-11-22T19:02:56.075Z"
   },
   {
    "duration": 175,
    "start_time": "2021-11-22T19:03:22.329Z"
   },
   {
    "duration": 6,
    "start_time": "2021-11-22T19:03:33.215Z"
   },
   {
    "duration": 5,
    "start_time": "2021-11-22T19:03:41.975Z"
   },
   {
    "duration": 1207,
    "start_time": "2021-11-22T19:04:17.395Z"
   },
   {
    "duration": 2,
    "start_time": "2021-11-22T19:04:18.604Z"
   },
   {
    "duration": 49,
    "start_time": "2021-11-22T19:04:18.608Z"
   },
   {
    "duration": 12,
    "start_time": "2021-11-22T19:04:18.659Z"
   },
   {
    "duration": 24,
    "start_time": "2021-11-22T19:04:18.672Z"
   },
   {
    "duration": 8,
    "start_time": "2021-11-22T19:04:18.698Z"
   },
   {
    "duration": 9,
    "start_time": "2021-11-22T19:04:18.708Z"
   },
   {
    "duration": 13,
    "start_time": "2021-11-22T19:04:18.719Z"
   },
   {
    "duration": 12,
    "start_time": "2021-11-22T19:04:18.734Z"
   },
   {
    "duration": 20,
    "start_time": "2021-11-22T19:04:18.748Z"
   },
   {
    "duration": 26,
    "start_time": "2021-11-22T19:04:18.791Z"
   },
   {
    "duration": 420,
    "start_time": "2021-11-22T19:04:18.819Z"
   },
   {
    "duration": 6,
    "start_time": "2021-11-22T19:04:19.240Z"
   },
   {
    "duration": 145,
    "start_time": "2021-11-22T19:04:19.248Z"
   },
   {
    "duration": 9,
    "start_time": "2021-11-22T19:04:19.395Z"
   },
   {
    "duration": 107,
    "start_time": "2021-11-22T19:04:19.406Z"
   },
   {
    "duration": 13,
    "start_time": "2021-11-22T19:04:19.514Z"
   },
   {
    "duration": 64,
    "start_time": "2021-11-22T19:04:19.529Z"
   },
   {
    "duration": 209,
    "start_time": "2021-11-22T19:04:19.595Z"
   },
   {
    "duration": 3,
    "start_time": "2021-11-22T19:04:19.806Z"
   },
   {
    "duration": 8,
    "start_time": "2021-11-22T19:04:19.811Z"
   },
   {
    "duration": 5,
    "start_time": "2021-11-22T19:04:19.820Z"
   },
   {
    "duration": 6,
    "start_time": "2021-11-22T19:04:19.827Z"
   },
   {
    "duration": 6,
    "start_time": "2021-11-22T19:04:19.835Z"
   },
   {
    "duration": 50,
    "start_time": "2021-11-22T19:04:19.843Z"
   },
   {
    "duration": 208,
    "start_time": "2021-11-22T19:04:26.591Z"
   },
   {
    "duration": 259,
    "start_time": "2021-11-22T19:04:35.367Z"
   },
   {
    "duration": 8,
    "start_time": "2021-11-22T19:04:53.615Z"
   },
   {
    "duration": 9,
    "start_time": "2021-11-22T19:04:59.279Z"
   },
   {
    "duration": 285,
    "start_time": "2021-11-22T19:06:11.495Z"
   },
   {
    "duration": 8,
    "start_time": "2021-11-22T19:06:15.340Z"
   },
   {
    "duration": 8,
    "start_time": "2021-11-22T19:06:18.092Z"
   },
   {
    "duration": 335,
    "start_time": "2021-11-22T19:06:34.130Z"
   },
   {
    "duration": 8,
    "start_time": "2021-11-22T19:07:47.733Z"
   },
   {
    "duration": 8,
    "start_time": "2021-11-22T19:07:52.939Z"
   },
   {
    "duration": 172,
    "start_time": "2021-11-22T19:08:11.613Z"
   },
   {
    "duration": 12,
    "start_time": "2021-11-22T19:09:15.065Z"
   },
   {
    "duration": 8,
    "start_time": "2021-11-22T19:09:25.828Z"
   },
   {
    "duration": 8,
    "start_time": "2021-11-22T19:09:29.112Z"
   },
   {
    "duration": 8,
    "start_time": "2021-11-22T19:09:38.376Z"
   },
   {
    "duration": 233,
    "start_time": "2021-11-22T19:10:11.322Z"
   },
   {
    "duration": 7,
    "start_time": "2021-11-22T19:10:59.597Z"
   },
   {
    "duration": 8,
    "start_time": "2021-11-22T19:11:06.041Z"
   },
   {
    "duration": 8,
    "start_time": "2021-11-22T19:11:12.379Z"
   },
   {
    "duration": 336,
    "start_time": "2021-11-22T19:12:44.873Z"
   },
   {
    "duration": 10,
    "start_time": "2021-11-22T19:12:47.209Z"
   },
   {
    "duration": 9,
    "start_time": "2021-11-22T19:13:54.118Z"
   },
   {
    "duration": 8,
    "start_time": "2021-11-22T19:13:54.996Z"
   },
   {
    "duration": 8,
    "start_time": "2021-11-22T19:14:36.683Z"
   },
   {
    "duration": 7,
    "start_time": "2021-11-22T19:14:38.021Z"
   },
   {
    "duration": 168,
    "start_time": "2021-11-22T19:21:04.843Z"
   },
   {
    "duration": 387,
    "start_time": "2021-11-22T19:21:30.050Z"
   },
   {
    "duration": 12,
    "start_time": "2021-11-22T19:21:37.516Z"
   },
   {
    "duration": 7,
    "start_time": "2021-11-22T19:22:20.440Z"
   },
   {
    "duration": 7,
    "start_time": "2021-11-22T19:22:56.696Z"
   },
   {
    "duration": 12,
    "start_time": "2021-11-22T19:23:01.643Z"
   },
   {
    "duration": 7,
    "start_time": "2021-11-22T19:23:03.450Z"
   },
   {
    "duration": 12,
    "start_time": "2021-11-22T19:23:04.396Z"
   },
   {
    "duration": 14,
    "start_time": "2021-11-22T19:23:22.077Z"
   },
   {
    "duration": 11,
    "start_time": "2021-11-22T19:23:47.821Z"
   },
   {
    "duration": 8,
    "start_time": "2021-11-22T19:23:57.125Z"
   },
   {
    "duration": 8,
    "start_time": "2021-11-22T19:24:32.652Z"
   },
   {
    "duration": 7,
    "start_time": "2021-11-22T19:24:45.026Z"
   },
   {
    "duration": 16,
    "start_time": "2021-11-22T19:24:48.257Z"
   },
   {
    "duration": 14,
    "start_time": "2021-11-22T19:25:36.604Z"
   },
   {
    "duration": 193,
    "start_time": "2021-11-22T19:25:52.505Z"
   },
   {
    "duration": 12,
    "start_time": "2021-11-22T19:25:56.116Z"
   },
   {
    "duration": 5,
    "start_time": "2021-11-22T19:26:14.699Z"
   },
   {
    "duration": 19,
    "start_time": "2021-11-22T19:26:26.903Z"
   },
   {
    "duration": 1183,
    "start_time": "2021-11-22T19:27:56.700Z"
   },
   {
    "duration": 3,
    "start_time": "2021-11-22T19:27:57.885Z"
   },
   {
    "duration": 47,
    "start_time": "2021-11-22T19:27:57.892Z"
   },
   {
    "duration": 11,
    "start_time": "2021-11-22T19:27:57.941Z"
   },
   {
    "duration": 11,
    "start_time": "2021-11-22T19:27:57.953Z"
   },
   {
    "duration": 8,
    "start_time": "2021-11-22T19:27:57.965Z"
   },
   {
    "duration": 20,
    "start_time": "2021-11-22T19:27:57.976Z"
   },
   {
    "duration": 9,
    "start_time": "2021-11-22T19:27:57.998Z"
   },
   {
    "duration": 10,
    "start_time": "2021-11-22T19:27:58.008Z"
   },
   {
    "duration": 13,
    "start_time": "2021-11-22T19:27:58.020Z"
   },
   {
    "duration": 22,
    "start_time": "2021-11-22T19:27:58.035Z"
   },
   {
    "duration": 429,
    "start_time": "2021-11-22T19:27:58.059Z"
   },
   {
    "duration": 6,
    "start_time": "2021-11-22T19:27:58.490Z"
   },
   {
    "duration": 101,
    "start_time": "2021-11-22T19:27:58.497Z"
   },
   {
    "duration": 9,
    "start_time": "2021-11-22T19:27:58.600Z"
   },
   {
    "duration": 108,
    "start_time": "2021-11-22T19:27:58.611Z"
   },
   {
    "duration": 11,
    "start_time": "2021-11-22T19:27:58.721Z"
   },
   {
    "duration": 70,
    "start_time": "2021-11-22T19:27:58.733Z"
   },
   {
    "duration": 179,
    "start_time": "2021-11-22T19:27:58.805Z"
   },
   {
    "duration": 10,
    "start_time": "2021-11-22T19:27:58.985Z"
   },
   {
    "duration": 15,
    "start_time": "2021-11-22T19:27:58.997Z"
   },
   {
    "duration": 12,
    "start_time": "2021-11-22T19:27:59.014Z"
   },
   {
    "duration": 15,
    "start_time": "2021-11-22T19:29:35.959Z"
   },
   {
    "duration": 11,
    "start_time": "2021-11-22T19:30:01.967Z"
   },
   {
    "duration": 9,
    "start_time": "2021-11-22T19:31:31.185Z"
   },
   {
    "duration": 87,
    "start_time": "2021-11-22T19:31:58.281Z"
   },
   {
    "duration": 51,
    "start_time": "2021-11-22T19:33:17.880Z"
   },
   {
    "duration": 48,
    "start_time": "2021-11-22T19:34:09.884Z"
   },
   {
    "duration": 8,
    "start_time": "2021-11-22T19:35:09.233Z"
   },
   {
    "duration": 48,
    "start_time": "2021-11-22T19:35:09.625Z"
   },
   {
    "duration": 8,
    "start_time": "2021-11-22T19:35:15.055Z"
   },
   {
    "duration": 51,
    "start_time": "2021-11-22T19:35:15.896Z"
   },
   {
    "duration": 50,
    "start_time": "2021-11-22T19:37:18.571Z"
   },
   {
    "duration": 13,
    "start_time": "2021-11-22T19:38:36.141Z"
   },
   {
    "duration": 11,
    "start_time": "2021-11-22T19:39:35.987Z"
   },
   {
    "duration": 3,
    "start_time": "2021-11-22T19:43:32.243Z"
   },
   {
    "duration": 10,
    "start_time": "2021-11-22T19:44:39.899Z"
   },
   {
    "duration": 4387,
    "start_time": "2021-11-22T19:44:53.487Z"
   },
   {
    "duration": 6,
    "start_time": "2021-11-22T19:44:58.669Z"
   },
   {
    "duration": 5,
    "start_time": "2021-11-22T19:45:07.467Z"
   },
   {
    "duration": 5,
    "start_time": "2021-11-22T19:46:08.483Z"
   },
   {
    "duration": 9,
    "start_time": "2021-11-22T19:47:20.477Z"
   },
   {
    "duration": 12,
    "start_time": "2021-11-22T19:47:24.823Z"
   },
   {
    "duration": 10,
    "start_time": "2021-11-22T19:47:28.624Z"
   },
   {
    "duration": 11,
    "start_time": "2021-11-22T19:47:32.242Z"
   },
   {
    "duration": 12,
    "start_time": "2021-11-22T19:47:36.191Z"
   },
   {
    "duration": 10,
    "start_time": "2021-11-22T19:47:40.893Z"
   },
   {
    "duration": 11,
    "start_time": "2021-11-22T19:47:45.783Z"
   },
   {
    "duration": 10,
    "start_time": "2021-11-22T19:47:49.537Z"
   },
   {
    "duration": 3,
    "start_time": "2021-11-22T19:50:16.449Z"
   },
   {
    "duration": 2778,
    "start_time": "2021-11-22T19:50:45.453Z"
   },
   {
    "duration": 329,
    "start_time": "2021-11-22T19:51:11.856Z"
   },
   {
    "duration": 3,
    "start_time": "2021-11-22T19:51:44.737Z"
   },
   {
    "duration": 180,
    "start_time": "2021-11-22T19:51:45.166Z"
   },
   {
    "duration": 8,
    "start_time": "2021-11-22T19:52:11.113Z"
   },
   {
    "duration": 3,
    "start_time": "2021-11-22T19:53:28.607Z"
   },
   {
    "duration": 202,
    "start_time": "2021-11-22T19:53:29.414Z"
   },
   {
    "duration": 201,
    "start_time": "2021-11-22T19:54:13.377Z"
   },
   {
    "duration": 15,
    "start_time": "2021-11-22T19:54:17.524Z"
   },
   {
    "duration": 13,
    "start_time": "2021-11-22T19:54:26.999Z"
   },
   {
    "duration": 11,
    "start_time": "2021-11-22T19:55:51.702Z"
   },
   {
    "duration": 4,
    "start_time": "2021-11-22T20:07:42.233Z"
   },
   {
    "duration": 5,
    "start_time": "2021-11-22T20:07:45.332Z"
   },
   {
    "duration": 6,
    "start_time": "2021-11-22T20:08:00.097Z"
   },
   {
    "duration": 5,
    "start_time": "2021-11-22T20:08:35.076Z"
   },
   {
    "duration": 4,
    "start_time": "2021-11-22T20:10:13.335Z"
   },
   {
    "duration": 227,
    "start_time": "2021-11-22T20:10:13.825Z"
   },
   {
    "duration": 16,
    "start_time": "2021-11-22T20:10:14.790Z"
   },
   {
    "duration": 4,
    "start_time": "2021-11-22T20:10:27.154Z"
   },
   {
    "duration": 235,
    "start_time": "2021-11-22T20:10:27.608Z"
   },
   {
    "duration": 13,
    "start_time": "2021-11-22T20:10:28.343Z"
   },
   {
    "duration": 4,
    "start_time": "2021-11-22T20:11:11.825Z"
   },
   {
    "duration": 5,
    "start_time": "2021-11-22T20:11:16.429Z"
   },
   {
    "duration": 5,
    "start_time": "2021-11-22T20:11:19.092Z"
   },
   {
    "duration": 5,
    "start_time": "2021-11-22T20:11:35.317Z"
   },
   {
    "duration": 5,
    "start_time": "2021-11-22T20:11:39.827Z"
   },
   {
    "duration": 5,
    "start_time": "2021-11-22T20:12:41.007Z"
   },
   {
    "duration": 5,
    "start_time": "2021-11-22T20:12:45.571Z"
   },
   {
    "duration": 4,
    "start_time": "2021-11-22T20:12:59.999Z"
   },
   {
    "duration": 229,
    "start_time": "2021-11-22T20:13:00.392Z"
   },
   {
    "duration": 11,
    "start_time": "2021-11-22T20:13:00.804Z"
   },
   {
    "duration": 5,
    "start_time": "2021-11-22T20:14:14.654Z"
   },
   {
    "duration": 3,
    "start_time": "2021-11-22T20:15:14.095Z"
   },
   {
    "duration": 213,
    "start_time": "2021-11-22T20:15:14.720Z"
   },
   {
    "duration": 11,
    "start_time": "2021-11-22T20:15:15.603Z"
   },
   {
    "duration": 14,
    "start_time": "2021-11-22T20:15:36.568Z"
   },
   {
    "duration": 4,
    "start_time": "2021-11-22T20:16:30.455Z"
   },
   {
    "duration": 215,
    "start_time": "2021-11-22T20:16:30.797Z"
   },
   {
    "duration": 10,
    "start_time": "2021-11-22T20:18:01.628Z"
   },
   {
    "duration": 14,
    "start_time": "2021-11-22T20:18:07.627Z"
   },
   {
    "duration": 13,
    "start_time": "2021-11-22T20:19:58.454Z"
   },
   {
    "duration": 3,
    "start_time": "2021-11-22T20:21:00.539Z"
   },
   {
    "duration": 221,
    "start_time": "2021-11-22T20:21:00.956Z"
   },
   {
    "duration": 14,
    "start_time": "2021-11-22T20:21:01.611Z"
   },
   {
    "duration": 10,
    "start_time": "2021-11-22T20:21:31.653Z"
   },
   {
    "duration": 48,
    "start_time": "2021-11-22T20:22:40.260Z"
   },
   {
    "duration": 11,
    "start_time": "2021-11-22T20:23:28.275Z"
   },
   {
    "duration": 48,
    "start_time": "2021-11-22T20:23:28.674Z"
   },
   {
    "duration": 3,
    "start_time": "2021-11-22T20:26:14.675Z"
   },
   {
    "duration": 212,
    "start_time": "2021-11-22T20:26:15.046Z"
   },
   {
    "duration": 10,
    "start_time": "2021-11-22T20:26:15.896Z"
   },
   {
    "duration": 47,
    "start_time": "2021-11-22T20:26:16.422Z"
   },
   {
    "duration": 1408,
    "start_time": "2021-11-23T07:16:55.310Z"
   },
   {
    "duration": 14846,
    "start_time": "2021-11-23T07:16:56.720Z"
   },
   {
    "duration": 46,
    "start_time": "2021-11-23T07:17:11.569Z"
   },
   {
    "duration": 13,
    "start_time": "2021-11-23T07:17:11.617Z"
   },
   {
    "duration": 10,
    "start_time": "2021-11-23T07:17:11.631Z"
   },
   {
    "duration": 5,
    "start_time": "2021-11-23T07:17:11.643Z"
   },
   {
    "duration": 7,
    "start_time": "2021-11-23T07:17:11.650Z"
   },
   {
    "duration": 33,
    "start_time": "2021-11-23T07:17:11.659Z"
   },
   {
    "duration": 10,
    "start_time": "2021-11-23T07:17:11.694Z"
   },
   {
    "duration": 20,
    "start_time": "2021-11-23T07:17:11.706Z"
   },
   {
    "duration": 23,
    "start_time": "2021-11-23T07:17:11.728Z"
   },
   {
    "duration": 817,
    "start_time": "2021-11-23T07:17:11.752Z"
   },
   {
    "duration": 21,
    "start_time": "2021-11-23T07:17:12.571Z"
   },
   {
    "duration": 362,
    "start_time": "2021-11-23T07:17:12.594Z"
   },
   {
    "duration": 9,
    "start_time": "2021-11-23T07:17:12.958Z"
   },
   {
    "duration": 384,
    "start_time": "2021-11-23T07:17:12.969Z"
   },
   {
    "duration": 13,
    "start_time": "2021-11-23T07:17:13.355Z"
   },
   {
    "duration": 496,
    "start_time": "2021-11-23T07:17:13.369Z"
   },
   {
    "duration": -870,
    "start_time": "2021-11-23T07:17:14.737Z"
   },
   {
    "duration": -872,
    "start_time": "2021-11-23T07:17:14.740Z"
   },
   {
    "duration": -873,
    "start_time": "2021-11-23T07:17:14.743Z"
   },
   {
    "duration": -874,
    "start_time": "2021-11-23T07:17:14.745Z"
   },
   {
    "duration": -876,
    "start_time": "2021-11-23T07:17:14.748Z"
   },
   {
    "duration": -878,
    "start_time": "2021-11-23T07:17:14.750Z"
   },
   {
    "duration": -880,
    "start_time": "2021-11-23T07:17:14.754Z"
   },
   {
    "duration": -881,
    "start_time": "2021-11-23T07:17:14.756Z"
   },
   {
    "duration": -883,
    "start_time": "2021-11-23T07:17:14.759Z"
   },
   {
    "duration": 2093,
    "start_time": "2021-11-23T07:17:33.483Z"
   },
   {
    "duration": 3,
    "start_time": "2021-11-23T07:17:35.578Z"
   },
   {
    "duration": 663,
    "start_time": "2021-11-23T07:17:35.583Z"
   },
   {
    "duration": 736,
    "start_time": "2021-11-23T07:17:36.248Z"
   },
   {
    "duration": 1199,
    "start_time": "2021-11-23T07:17:36.986Z"
   },
   {
    "duration": 1257,
    "start_time": "2021-11-23T07:17:38.186Z"
   },
   {
    "duration": 347,
    "start_time": "2021-11-23T07:17:39.445Z"
   },
   {
    "duration": 863,
    "start_time": "2021-11-23T07:17:39.795Z"
   },
   {
    "duration": 872,
    "start_time": "2021-11-23T07:17:40.660Z"
   },
   {
    "duration": 20,
    "start_time": "2021-11-23T07:17:41.534Z"
   },
   {
    "duration": 26,
    "start_time": "2021-11-23T07:17:41.556Z"
   },
   {
    "duration": 419,
    "start_time": "2021-11-23T07:17:41.584Z"
   },
   {
    "duration": 7,
    "start_time": "2021-11-23T07:17:42.005Z"
   },
   {
    "duration": 100,
    "start_time": "2021-11-23T07:17:42.013Z"
   },
   {
    "duration": 9,
    "start_time": "2021-11-23T07:17:42.114Z"
   },
   {
    "duration": 116,
    "start_time": "2021-11-23T07:17:42.125Z"
   },
   {
    "duration": 54,
    "start_time": "2021-11-23T07:17:42.243Z"
   },
   {
    "duration": 47,
    "start_time": "2021-11-23T07:17:42.301Z"
   },
   {
    "duration": 207,
    "start_time": "2021-11-23T07:17:42.349Z"
   },
   {
    "duration": 7,
    "start_time": "2021-11-23T07:17:42.557Z"
   },
   {
    "duration": 38,
    "start_time": "2021-11-23T07:17:42.565Z"
   },
   {
    "duration": 10,
    "start_time": "2021-11-23T07:17:42.605Z"
   },
   {
    "duration": 104,
    "start_time": "2021-11-23T07:17:42.618Z"
   },
   {
    "duration": 4,
    "start_time": "2021-11-23T07:17:42.723Z"
   },
   {
    "duration": 8,
    "start_time": "2021-11-23T07:17:42.729Z"
   },
   {
    "duration": 57,
    "start_time": "2021-11-23T07:17:42.739Z"
   },
   {
    "duration": 7,
    "start_time": "2021-11-23T07:17:42.799Z"
   },
   {
    "duration": 11,
    "start_time": "2021-11-23T07:18:12.151Z"
   },
   {
    "duration": 11,
    "start_time": "2021-11-23T07:18:15.372Z"
   },
   {
    "duration": 10,
    "start_time": "2021-11-23T07:18:20.920Z"
   },
   {
    "duration": 11,
    "start_time": "2021-11-23T07:18:26.404Z"
   },
   {
    "duration": 10,
    "start_time": "2021-11-23T07:18:30.948Z"
   },
   {
    "duration": 10,
    "start_time": "2021-11-23T07:18:35.476Z"
   },
   {
    "duration": 10,
    "start_time": "2021-11-23T07:18:37.646Z"
   },
   {
    "duration": 13,
    "start_time": "2021-11-23T07:18:41.495Z"
   },
   {
    "duration": 10,
    "start_time": "2021-11-23T07:20:00.825Z"
   },
   {
    "duration": 5227,
    "start_time": "2021-11-23T07:21:15.274Z"
   },
   {
    "duration": 3,
    "start_time": "2021-11-23T07:21:22.595Z"
   },
   {
    "duration": 5,
    "start_time": "2021-11-23T07:21:27.547Z"
   },
   {
    "duration": 162,
    "start_time": "2021-11-23T07:21:44.348Z"
   },
   {
    "duration": 189,
    "start_time": "2021-11-23T07:22:04.428Z"
   },
   {
    "duration": 5,
    "start_time": "2021-11-23T07:22:16.967Z"
   },
   {
    "duration": 5,
    "start_time": "2021-11-23T07:22:30.337Z"
   },
   {
    "duration": 4,
    "start_time": "2021-11-23T07:23:34.098Z"
   },
   {
    "duration": 4,
    "start_time": "2021-11-23T07:23:45.068Z"
   },
   {
    "duration": 4,
    "start_time": "2021-11-23T07:23:46.537Z"
   },
   {
    "duration": 4,
    "start_time": "2021-11-23T07:23:52.814Z"
   },
   {
    "duration": 4,
    "start_time": "2021-11-23T07:23:55.546Z"
   },
   {
    "duration": 5,
    "start_time": "2021-11-23T07:23:57.592Z"
   },
   {
    "duration": 6,
    "start_time": "2021-11-23T07:24:08.804Z"
   },
   {
    "duration": 3,
    "start_time": "2021-11-23T07:24:20.802Z"
   },
   {
    "duration": 4,
    "start_time": "2021-11-23T07:24:21.196Z"
   },
   {
    "duration": 5,
    "start_time": "2021-11-23T07:26:54.737Z"
   },
   {
    "duration": 4,
    "start_time": "2021-11-23T07:27:34.868Z"
   },
   {
    "duration": 14,
    "start_time": "2021-11-23T07:28:10.840Z"
   },
   {
    "duration": 5,
    "start_time": "2021-11-23T07:28:17.048Z"
   },
   {
    "duration": 5,
    "start_time": "2021-11-23T07:28:36.889Z"
   },
   {
    "duration": 5,
    "start_time": "2021-11-23T07:28:40.162Z"
   },
   {
    "duration": 5,
    "start_time": "2021-11-23T07:29:13.297Z"
   },
   {
    "duration": 6,
    "start_time": "2021-11-23T07:29:19.036Z"
   },
   {
    "duration": 175,
    "start_time": "2021-11-23T07:29:32.034Z"
   },
   {
    "duration": 5,
    "start_time": "2021-11-23T07:29:38.444Z"
   },
   {
    "duration": 6,
    "start_time": "2021-11-23T07:29:50.792Z"
   },
   {
    "duration": 5,
    "start_time": "2021-11-23T07:29:53.180Z"
   },
   {
    "duration": 6,
    "start_time": "2021-11-23T07:29:57.602Z"
   },
   {
    "duration": 6,
    "start_time": "2021-11-23T07:30:03.464Z"
   },
   {
    "duration": 6,
    "start_time": "2021-11-23T07:30:21.017Z"
   },
   {
    "duration": 5,
    "start_time": "2021-11-23T07:30:23.960Z"
   },
   {
    "duration": 227,
    "start_time": "2021-11-23T07:31:12.729Z"
   },
   {
    "duration": 6,
    "start_time": "2021-11-23T07:31:18.109Z"
   },
   {
    "duration": 6,
    "start_time": "2021-11-23T07:31:43.747Z"
   },
   {
    "duration": 5,
    "start_time": "2021-11-23T07:31:56.470Z"
   },
   {
    "duration": 5,
    "start_time": "2021-11-23T07:32:02.065Z"
   },
   {
    "duration": 5,
    "start_time": "2021-11-23T07:32:05.056Z"
   },
   {
    "duration": 5,
    "start_time": "2021-11-23T07:32:08.352Z"
   },
   {
    "duration": 5,
    "start_time": "2021-11-23T07:32:11.794Z"
   },
   {
    "duration": 5,
    "start_time": "2021-11-23T07:32:14.737Z"
   },
   {
    "duration": 4,
    "start_time": "2021-11-23T07:32:21.278Z"
   },
   {
    "duration": 4,
    "start_time": "2021-11-23T07:32:24.883Z"
   },
   {
    "duration": 5,
    "start_time": "2021-11-23T07:32:28.305Z"
   },
   {
    "duration": 5,
    "start_time": "2021-11-23T07:32:31.486Z"
   },
   {
    "duration": 4,
    "start_time": "2021-11-23T07:32:33.399Z"
   },
   {
    "duration": 4,
    "start_time": "2021-11-23T07:32:35.808Z"
   },
   {
    "duration": 4,
    "start_time": "2021-11-23T07:32:38.183Z"
   },
   {
    "duration": 4,
    "start_time": "2021-11-23T07:32:40.656Z"
   },
   {
    "duration": 5,
    "start_time": "2021-11-23T07:32:43.188Z"
   },
   {
    "duration": -722,
    "start_time": "2021-11-23T07:36:25.609Z"
   },
   {
    "duration": 55,
    "start_time": "2021-11-23T07:36:28.933Z"
   },
   {
    "duration": 4,
    "start_time": "2021-11-23T07:36:31.692Z"
   },
   {
    "duration": 6,
    "start_time": "2021-11-23T07:36:34.923Z"
   },
   {
    "duration": 5,
    "start_time": "2021-11-23T07:36:43.502Z"
   },
   {
    "duration": 5,
    "start_time": "2021-11-23T07:36:50.175Z"
   },
   {
    "duration": 5,
    "start_time": "2021-11-23T07:37:03.379Z"
   },
   {
    "duration": 6,
    "start_time": "2021-11-23T07:37:23.255Z"
   },
   {
    "duration": 6,
    "start_time": "2021-11-23T07:37:32.051Z"
   },
   {
    "duration": 5,
    "start_time": "2021-11-23T07:38:47.347Z"
   },
   {
    "duration": 6,
    "start_time": "2021-11-23T07:38:52.082Z"
   },
   {
    "duration": 6,
    "start_time": "2021-11-23T07:38:56.471Z"
   },
   {
    "duration": -582,
    "start_time": "2021-11-23T07:39:05.389Z"
   },
   {
    "duration": 5,
    "start_time": "2021-11-23T07:39:06.125Z"
   },
   {
    "duration": 5,
    "start_time": "2021-11-23T07:39:09.171Z"
   },
   {
    "duration": 5,
    "start_time": "2021-11-23T07:39:11.677Z"
   },
   {
    "duration": 5,
    "start_time": "2021-11-23T07:39:13.568Z"
   },
   {
    "duration": 3,
    "start_time": "2021-11-23T07:39:54.082Z"
   },
   {
    "duration": 196,
    "start_time": "2021-11-23T07:40:14.074Z"
   },
   {
    "duration": 20,
    "start_time": "2021-11-23T07:40:20.912Z"
   },
   {
    "duration": 18,
    "start_time": "2021-11-23T07:41:10.088Z"
   },
   {
    "duration": 17,
    "start_time": "2021-11-23T07:41:18.562Z"
   },
   {
    "duration": 16,
    "start_time": "2021-11-23T07:41:23.438Z"
   },
   {
    "duration": 16,
    "start_time": "2021-11-23T07:41:26.508Z"
   },
   {
    "duration": 15,
    "start_time": "2021-11-23T07:41:29.308Z"
   },
   {
    "duration": 11,
    "start_time": "2021-11-23T07:41:36.361Z"
   },
   {
    "duration": 12,
    "start_time": "2021-11-23T07:41:40.089Z"
   },
   {
    "duration": 10,
    "start_time": "2021-11-23T07:41:42.915Z"
   },
   {
    "duration": 12,
    "start_time": "2021-11-23T07:41:44.344Z"
   },
   {
    "duration": 11,
    "start_time": "2021-11-23T07:41:45.803Z"
   },
   {
    "duration": 11,
    "start_time": "2021-11-23T07:41:54.030Z"
   },
   {
    "duration": 11,
    "start_time": "2021-11-23T07:41:57.633Z"
   },
   {
    "duration": 12,
    "start_time": "2021-11-23T07:42:03.303Z"
   },
   {
    "duration": 18,
    "start_time": "2021-11-23T07:42:27.269Z"
   },
   {
    "duration": 18,
    "start_time": "2021-11-23T07:43:17.517Z"
   },
   {
    "duration": 20,
    "start_time": "2021-11-23T07:44:32.425Z"
   },
   {
    "duration": 11,
    "start_time": "2021-11-23T07:44:56.375Z"
   },
   {
    "duration": 18,
    "start_time": "2021-11-23T07:45:04.999Z"
   },
   {
    "duration": 10,
    "start_time": "2021-11-23T07:45:13.180Z"
   },
   {
    "duration": 17,
    "start_time": "2021-11-23T07:45:42.335Z"
   },
   {
    "duration": 10,
    "start_time": "2021-11-23T07:46:27.611Z"
   },
   {
    "duration": 47,
    "start_time": "2021-11-23T07:46:37.569Z"
   },
   {
    "duration": 5,
    "start_time": "2021-11-23T08:05:57.685Z"
   },
   {
    "duration": 177,
    "start_time": "2021-11-23T08:06:25.034Z"
   },
   {
    "duration": 5,
    "start_time": "2021-11-23T08:06:37.422Z"
   },
   {
    "duration": 5,
    "start_time": "2021-11-23T08:07:13.052Z"
   },
   {
    "duration": 228,
    "start_time": "2021-11-23T08:11:17.807Z"
   },
   {
    "duration": 3,
    "start_time": "2021-11-23T08:11:21.662Z"
   },
   {
    "duration": 4,
    "start_time": "2021-11-23T08:11:22.131Z"
   },
   {
    "duration": 3,
    "start_time": "2021-11-23T08:12:12.234Z"
   },
   {
    "duration": 4,
    "start_time": "2021-11-23T08:12:21.713Z"
   },
   {
    "duration": 4,
    "start_time": "2021-11-23T08:13:59.882Z"
   },
   {
    "duration": 5,
    "start_time": "2021-11-23T08:14:08.935Z"
   },
   {
    "duration": 3,
    "start_time": "2021-11-23T08:14:30.755Z"
   },
   {
    "duration": 4,
    "start_time": "2021-11-23T08:14:40.215Z"
   },
   {
    "duration": 6,
    "start_time": "2021-11-23T08:14:43.705Z"
   },
   {
    "duration": 5,
    "start_time": "2021-11-23T08:14:46.608Z"
   },
   {
    "duration": 5,
    "start_time": "2021-11-23T08:14:49.485Z"
   },
   {
    "duration": 5,
    "start_time": "2021-11-23T08:14:51.161Z"
   },
   {
    "duration": 5,
    "start_time": "2021-11-23T08:14:53.383Z"
   },
   {
    "duration": 5,
    "start_time": "2021-11-23T08:14:55.946Z"
   },
   {
    "duration": 5,
    "start_time": "2021-11-23T08:14:58.072Z"
   },
   {
    "duration": 3116,
    "start_time": "2021-11-23T08:14:59.849Z"
   },
   {
    "duration": 6,
    "start_time": "2021-11-23T08:15:05.117Z"
   },
   {
    "duration": 11,
    "start_time": "2021-11-23T08:15:27.994Z"
   },
   {
    "duration": 4,
    "start_time": "2021-11-23T08:15:54.149Z"
   },
   {
    "duration": 3,
    "start_time": "2021-11-23T08:15:57.654Z"
   },
   {
    "duration": 4,
    "start_time": "2021-11-23T08:15:58.179Z"
   },
   {
    "duration": 4,
    "start_time": "2021-11-23T08:16:14.136Z"
   },
   {
    "duration": 3,
    "start_time": "2021-11-23T08:16:26.888Z"
   },
   {
    "duration": 6,
    "start_time": "2021-11-23T08:16:27.404Z"
   },
   {
    "duration": 4,
    "start_time": "2021-11-23T08:16:38.618Z"
   },
   {
    "duration": 5,
    "start_time": "2021-11-23T08:16:52.905Z"
   },
   {
    "duration": 211,
    "start_time": "2021-11-23T08:20:05.026Z"
   },
   {
    "duration": 2,
    "start_time": "2021-11-23T08:22:40.468Z"
   },
   {
    "duration": 169,
    "start_time": "2021-11-23T08:22:46.341Z"
   },
   {
    "duration": 3,
    "start_time": "2021-11-23T08:24:10.222Z"
   },
   {
    "duration": 6,
    "start_time": "2021-11-23T08:24:21.253Z"
   },
   {
    "duration": 4,
    "start_time": "2021-11-23T08:25:06.515Z"
   },
   {
    "duration": 4,
    "start_time": "2021-11-23T08:25:15.186Z"
   },
   {
    "duration": 4,
    "start_time": "2021-11-23T08:25:21.131Z"
   },
   {
    "duration": 4,
    "start_time": "2021-11-23T08:25:28.445Z"
   },
   {
    "duration": 3,
    "start_time": "2021-11-23T08:25:32.014Z"
   },
   {
    "duration": 4,
    "start_time": "2021-11-23T08:25:32.386Z"
   },
   {
    "duration": 4,
    "start_time": "2021-11-23T08:25:34.009Z"
   },
   {
    "duration": 7,
    "start_time": "2021-11-23T08:25:35.200Z"
   },
   {
    "duration": 4,
    "start_time": "2021-11-23T08:25:39.582Z"
   },
   {
    "duration": 909,
    "start_time": "2021-11-23T08:37:51.706Z"
   },
   {
    "duration": 758,
    "start_time": "2021-11-23T08:37:57.685Z"
   },
   {
    "duration": 5,
    "start_time": "2021-11-23T08:40:27.499Z"
   },
   {
    "duration": 337,
    "start_time": "2021-11-23T08:41:01.346Z"
   },
   {
    "duration": 6,
    "start_time": "2021-11-23T08:41:13.575Z"
   },
   {
    "duration": 4,
    "start_time": "2021-11-23T08:41:28.452Z"
   },
   {
    "duration": 4,
    "start_time": "2021-11-23T08:41:29.138Z"
   },
   {
    "duration": 184,
    "start_time": "2021-11-23T08:41:39.566Z"
   },
   {
    "duration": 812,
    "start_time": "2021-11-23T08:41:44.016Z"
   },
   {
    "duration": 4,
    "start_time": "2021-11-23T08:41:48.436Z"
   },
   {
    "duration": 8,
    "start_time": "2021-11-23T08:41:59.004Z"
   },
   {
    "duration": 4,
    "start_time": "2021-11-23T08:42:07.557Z"
   },
   {
    "duration": 5,
    "start_time": "2021-11-23T08:42:35.546Z"
   },
   {
    "duration": 10,
    "start_time": "2021-11-23T08:43:11.794Z"
   },
   {
    "duration": 5,
    "start_time": "2021-11-23T08:43:13.076Z"
   },
   {
    "duration": 4,
    "start_time": "2021-11-23T08:43:19.826Z"
   },
   {
    "duration": 6,
    "start_time": "2021-11-23T08:43:24.421Z"
   },
   {
    "duration": 4,
    "start_time": "2021-11-23T08:43:47.588Z"
   },
   {
    "duration": 5,
    "start_time": "2021-11-23T08:43:48.225Z"
   },
   {
    "duration": 5,
    "start_time": "2021-11-23T08:43:55.132Z"
   },
   {
    "duration": 20,
    "start_time": "2021-11-23T08:44:05.701Z"
   },
   {
    "duration": 5,
    "start_time": "2021-11-23T08:44:12.426Z"
   },
   {
    "duration": 5,
    "start_time": "2021-11-23T08:45:05.081Z"
   },
   {
    "duration": 5,
    "start_time": "2021-11-23T08:45:17.145Z"
   },
   {
    "duration": 5,
    "start_time": "2021-11-23T08:45:20.568Z"
   },
   {
    "duration": 4,
    "start_time": "2021-11-23T08:45:23.873Z"
   },
   {
    "duration": 10,
    "start_time": "2021-11-23T08:46:02.147Z"
   },
   {
    "duration": 385,
    "start_time": "2021-11-23T08:47:15.706Z"
   },
   {
    "duration": 180,
    "start_time": "2021-11-23T08:47:54.161Z"
   },
   {
    "duration": 454,
    "start_time": "2021-11-23T08:48:07.045Z"
   },
   {
    "duration": 25,
    "start_time": "2021-11-23T08:48:10.258Z"
   },
   {
    "duration": 194,
    "start_time": "2021-11-23T08:50:49.667Z"
   },
   {
    "duration": 2028,
    "start_time": "2021-11-23T08:52:05.746Z"
   },
   {
    "duration": 732,
    "start_time": "2021-11-23T08:53:15.928Z"
   },
   {
    "duration": 2068,
    "start_time": "2021-11-23T08:53:27.195Z"
   },
   {
    "duration": 201,
    "start_time": "2021-11-23T08:53:35.716Z"
   },
   {
    "duration": 225,
    "start_time": "2021-11-23T08:58:14.788Z"
   },
   {
    "duration": 288,
    "start_time": "2021-11-23T08:58:22.224Z"
   },
   {
    "duration": 208,
    "start_time": "2021-11-23T08:58:26.877Z"
   },
   {
    "duration": 197,
    "start_time": "2021-11-23T08:58:29.478Z"
   },
   {
    "duration": 203,
    "start_time": "2021-11-23T09:00:02.523Z"
   },
   {
    "duration": 203,
    "start_time": "2021-11-23T09:00:06.098Z"
   },
   {
    "duration": 208,
    "start_time": "2021-11-23T09:00:20.649Z"
   },
   {
    "duration": 238,
    "start_time": "2021-11-23T09:03:50.821Z"
   },
   {
    "duration": 292,
    "start_time": "2021-11-23T09:04:22.750Z"
   },
   {
    "duration": 200,
    "start_time": "2021-11-23T09:05:10.665Z"
   },
   {
    "duration": 385,
    "start_time": "2021-11-23T09:05:22.219Z"
   },
   {
    "duration": 1971,
    "start_time": "2021-11-23T09:05:32.765Z"
   },
   {
    "duration": 2094,
    "start_time": "2021-11-23T09:05:41.319Z"
   },
   {
    "duration": 2143,
    "start_time": "2021-11-23T09:05:49.130Z"
   },
   {
    "duration": 4,
    "start_time": "2021-11-23T09:06:21.146Z"
   },
   {
    "duration": 4004,
    "start_time": "2021-11-23T09:06:21.152Z"
   },
   {
    "duration": 25,
    "start_time": "2021-11-23T09:06:27.179Z"
   },
   {
    "duration": 13,
    "start_time": "2021-11-23T09:06:36.212Z"
   },
   {
    "duration": 13,
    "start_time": "2021-11-23T09:06:50.955Z"
   },
   {
    "duration": 12,
    "start_time": "2021-11-23T09:06:55.911Z"
   },
   {
    "duration": 12,
    "start_time": "2021-11-23T09:06:59.165Z"
   },
   {
    "duration": 12,
    "start_time": "2021-11-23T09:07:02.149Z"
   },
   {
    "duration": 13,
    "start_time": "2021-11-23T09:07:03.640Z"
   },
   {
    "duration": 12,
    "start_time": "2021-11-23T09:07:06.366Z"
   },
   {
    "duration": 12,
    "start_time": "2021-11-23T09:07:07.521Z"
   },
   {
    "duration": 12,
    "start_time": "2021-11-23T09:07:08.746Z"
   },
   {
    "duration": 13,
    "start_time": "2021-11-23T09:07:33.549Z"
   },
   {
    "duration": 17,
    "start_time": "2021-11-23T09:07:40.585Z"
   },
   {
    "duration": 14,
    "start_time": "2021-11-23T09:07:44.679Z"
   },
   {
    "duration": 19,
    "start_time": "2021-11-23T09:07:48.590Z"
   },
   {
    "duration": 12,
    "start_time": "2021-11-23T09:07:51.822Z"
   },
   {
    "duration": 13,
    "start_time": "2021-11-23T09:07:54.112Z"
   },
   {
    "duration": 19,
    "start_time": "2021-11-23T09:07:56.389Z"
   },
   {
    "duration": 13,
    "start_time": "2021-11-23T09:07:59.416Z"
   },
   {
    "duration": 16,
    "start_time": "2021-11-23T09:08:01.698Z"
   },
   {
    "duration": 17,
    "start_time": "2021-11-23T09:08:03.792Z"
   },
   {
    "duration": 12,
    "start_time": "2021-11-23T09:08:06.073Z"
   },
   {
    "duration": 12,
    "start_time": "2021-11-23T09:08:08.765Z"
   },
   {
    "duration": 20,
    "start_time": "2021-11-23T09:08:11.094Z"
   },
   {
    "duration": 18,
    "start_time": "2021-11-23T09:08:13.493Z"
   },
   {
    "duration": 12,
    "start_time": "2021-11-23T09:08:16.031Z"
   },
   {
    "duration": 13,
    "start_time": "2021-11-23T09:08:20.743Z"
   },
   {
    "duration": 18,
    "start_time": "2021-11-23T09:08:23.997Z"
   },
   {
    "duration": 12,
    "start_time": "2021-11-23T09:08:26.552Z"
   },
   {
    "duration": 14,
    "start_time": "2021-11-23T09:08:29.613Z"
   },
   {
    "duration": 18,
    "start_time": "2021-11-23T09:11:43.741Z"
   },
   {
    "duration": 12,
    "start_time": "2021-11-23T09:11:49.371Z"
   },
   {
    "duration": 13,
    "start_time": "2021-11-23T09:11:52.169Z"
   },
   {
    "duration": 12,
    "start_time": "2021-11-23T09:11:54.930Z"
   },
   {
    "duration": 12,
    "start_time": "2021-11-23T09:11:58.824Z"
   },
   {
    "duration": 13,
    "start_time": "2021-11-23T09:12:01.052Z"
   },
   {
    "duration": 19,
    "start_time": "2021-11-23T09:12:27.189Z"
   },
   {
    "duration": 13,
    "start_time": "2021-11-23T09:12:30.045Z"
   },
   {
    "duration": 17,
    "start_time": "2021-11-23T09:12:31.384Z"
   },
   {
    "duration": 13,
    "start_time": "2021-11-23T09:12:33.473Z"
   },
   {
    "duration": 4,
    "start_time": "2021-11-23T09:20:36.546Z"
   },
   {
    "duration": 3687,
    "start_time": "2021-11-23T09:20:37.897Z"
   },
   {
    "duration": 14,
    "start_time": "2021-11-23T09:20:43.244Z"
   },
   {
    "duration": 13,
    "start_time": "2021-11-23T09:20:49.553Z"
   },
   {
    "duration": 14,
    "start_time": "2021-11-23T09:20:53.063Z"
   },
   {
    "duration": 14,
    "start_time": "2021-11-23T09:20:56.019Z"
   },
   {
    "duration": 20,
    "start_time": "2021-11-23T09:20:57.837Z"
   },
   {
    "duration": 11,
    "start_time": "2021-11-23T09:21:03.892Z"
   },
   {
    "duration": 13,
    "start_time": "2021-11-23T09:21:07.649Z"
   },
   {
    "duration": 12,
    "start_time": "2021-11-23T09:21:10.466Z"
   },
   {
    "duration": 12,
    "start_time": "2021-11-23T09:21:15.542Z"
   },
   {
    "duration": 13,
    "start_time": "2021-11-23T09:21:17.488Z"
   },
   {
    "duration": 13,
    "start_time": "2021-11-23T09:21:19.573Z"
   },
   {
    "duration": 12,
    "start_time": "2021-11-23T09:21:21.511Z"
   },
   {
    "duration": 12,
    "start_time": "2021-11-23T09:21:24.577Z"
   },
   {
    "duration": 13,
    "start_time": "2021-11-23T09:21:26.264Z"
   },
   {
    "duration": 13,
    "start_time": "2021-11-23T09:21:29.135Z"
   },
   {
    "duration": 13,
    "start_time": "2021-11-23T09:21:31.028Z"
   },
   {
    "duration": 18,
    "start_time": "2021-11-23T09:21:35.113Z"
   },
   {
    "duration": 13,
    "start_time": "2021-11-23T09:21:36.909Z"
   },
   {
    "duration": 13,
    "start_time": "2021-11-23T09:21:40.238Z"
   },
   {
    "duration": 12,
    "start_time": "2021-11-23T09:21:43.345Z"
   },
   {
    "duration": 17,
    "start_time": "2021-11-23T09:21:46.148Z"
   },
   {
    "duration": 13,
    "start_time": "2021-11-23T09:21:52.108Z"
   },
   {
    "duration": 12,
    "start_time": "2021-11-23T09:21:54.052Z"
   },
   {
    "duration": 13,
    "start_time": "2021-11-23T09:22:46.201Z"
   },
   {
    "duration": 13,
    "start_time": "2021-11-23T09:22:49.073Z"
   },
   {
    "duration": 14,
    "start_time": "2021-11-23T09:22:51.719Z"
   },
   {
    "duration": 13,
    "start_time": "2021-11-23T09:22:54.622Z"
   },
   {
    "duration": 14,
    "start_time": "2021-11-23T09:22:56.145Z"
   },
   {
    "duration": 12,
    "start_time": "2021-11-23T09:23:00.074Z"
   },
   {
    "duration": 13,
    "start_time": "2021-11-23T09:23:01.759Z"
   },
   {
    "duration": 16,
    "start_time": "2021-11-23T09:23:04.591Z"
   },
   {
    "duration": 16,
    "start_time": "2021-11-23T09:23:06.055Z"
   },
   {
    "duration": 20,
    "start_time": "2021-11-23T09:23:14.531Z"
   },
   {
    "duration": 14,
    "start_time": "2021-11-23T09:23:17.544Z"
   },
   {
    "duration": 24,
    "start_time": "2021-11-23T09:23:20.075Z"
   },
   {
    "duration": 12,
    "start_time": "2021-11-23T09:23:21.987Z"
   },
   {
    "duration": 14,
    "start_time": "2021-11-23T09:23:23.768Z"
   },
   {
    "duration": 13,
    "start_time": "2021-11-23T09:23:25.685Z"
   },
   {
    "duration": 12,
    "start_time": "2021-11-23T09:23:29.602Z"
   },
   {
    "duration": 12,
    "start_time": "2021-11-23T09:23:31.922Z"
   },
   {
    "duration": 16,
    "start_time": "2021-11-23T09:23:33.932Z"
   },
   {
    "duration": 13,
    "start_time": "2021-11-23T09:23:35.707Z"
   },
   {
    "duration": 18,
    "start_time": "2021-11-23T09:23:37.802Z"
   },
   {
    "duration": 12,
    "start_time": "2021-11-23T09:23:39.859Z"
   },
   {
    "duration": 13,
    "start_time": "2021-11-23T09:23:41.785Z"
   },
   {
    "duration": 14,
    "start_time": "2021-11-23T09:23:43.512Z"
   },
   {
    "duration": 12,
    "start_time": "2021-11-23T09:23:46.457Z"
   },
   {
    "duration": 17,
    "start_time": "2021-11-23T09:23:48.396Z"
   },
   {
    "duration": 12,
    "start_time": "2021-11-23T09:23:50.344Z"
   },
   {
    "duration": 12,
    "start_time": "2021-11-23T09:23:52.089Z"
   },
   {
    "duration": 12,
    "start_time": "2021-11-23T09:23:54.013Z"
   },
   {
    "duration": 12,
    "start_time": "2021-11-23T09:23:56.836Z"
   },
   {
    "duration": 13,
    "start_time": "2021-11-23T09:24:03.180Z"
   },
   {
    "duration": 12,
    "start_time": "2021-11-23T09:24:05.495Z"
   },
   {
    "duration": 14,
    "start_time": "2021-11-23T09:24:07.291Z"
   },
   {
    "duration": 13,
    "start_time": "2021-11-23T09:24:09.437Z"
   },
   {
    "duration": 12,
    "start_time": "2021-11-23T09:24:12.032Z"
   },
   {
    "duration": 13,
    "start_time": "2021-11-23T09:24:13.705Z"
   },
   {
    "duration": 12,
    "start_time": "2021-11-23T09:24:16.037Z"
   },
   {
    "duration": 13,
    "start_time": "2021-11-23T09:24:17.419Z"
   },
   {
    "duration": 12,
    "start_time": "2021-11-23T09:24:22.269Z"
   },
   {
    "duration": 13,
    "start_time": "2021-11-23T09:24:25.875Z"
   },
   {
    "duration": 17,
    "start_time": "2021-11-23T09:24:28.701Z"
   },
   {
    "duration": 17,
    "start_time": "2021-11-23T09:24:30.679Z"
   },
   {
    "duration": 17,
    "start_time": "2021-11-23T09:24:32.392Z"
   },
   {
    "duration": 16,
    "start_time": "2021-11-23T09:24:34.775Z"
   },
   {
    "duration": 16,
    "start_time": "2021-11-23T09:24:36.612Z"
   },
   {
    "duration": 228,
    "start_time": "2021-11-23T09:28:42.570Z"
   },
   {
    "duration": 24,
    "start_time": "2021-11-23T09:29:00.476Z"
   },
   {
    "duration": 21,
    "start_time": "2021-11-23T09:29:23.996Z"
   },
   {
    "duration": 26,
    "start_time": "2021-11-23T09:29:43.679Z"
   },
   {
    "duration": 15,
    "start_time": "2021-11-23T09:30:21.434Z"
   },
   {
    "duration": 15,
    "start_time": "2021-11-23T09:31:22.600Z"
   },
   {
    "duration": 11,
    "start_time": "2021-11-23T09:31:22.934Z"
   },
   {
    "duration": 19,
    "start_time": "2021-11-23T09:31:30.284Z"
   },
   {
    "duration": 9,
    "start_time": "2021-11-23T09:31:30.770Z"
   },
   {
    "duration": 58,
    "start_time": "2021-11-23T09:32:07.716Z"
   },
   {
    "duration": 63,
    "start_time": "2021-11-23T09:32:16.365Z"
   },
   {
    "duration": 48,
    "start_time": "2021-11-23T09:32:46.542Z"
   },
   {
    "duration": 52,
    "start_time": "2021-11-23T09:33:00.127Z"
   },
   {
    "duration": 50,
    "start_time": "2021-11-23T09:33:07.940Z"
   },
   {
    "duration": 10,
    "start_time": "2021-11-23T09:33:55.304Z"
   },
   {
    "duration": 58,
    "start_time": "2021-11-23T10:00:25.032Z"
   },
   {
    "duration": 173,
    "start_time": "2021-11-23T10:00:27.503Z"
   },
   {
    "duration": 4,
    "start_time": "2021-11-23T10:03:04.904Z"
   },
   {
    "duration": 4,
    "start_time": "2021-11-23T10:03:16.896Z"
   },
   {
    "duration": 3,
    "start_time": "2021-11-23T10:03:19.703Z"
   },
   {
    "duration": 9,
    "start_time": "2021-11-23T10:04:02.891Z"
   },
   {
    "duration": 49,
    "start_time": "2021-11-23T10:04:08.402Z"
   },
   {
    "duration": 9,
    "start_time": "2021-11-23T10:04:29.320Z"
   },
   {
    "duration": 49,
    "start_time": "2021-11-23T10:04:29.739Z"
   },
   {
    "duration": 1135,
    "start_time": "2021-11-23T10:46:29.356Z"
   },
   {
    "duration": 2,
    "start_time": "2021-11-23T10:46:30.493Z"
   },
   {
    "duration": 60,
    "start_time": "2021-11-23T10:46:30.497Z"
   },
   {
    "duration": 11,
    "start_time": "2021-11-23T10:46:30.559Z"
   },
   {
    "duration": 31,
    "start_time": "2021-11-23T10:46:30.571Z"
   },
   {
    "duration": 15,
    "start_time": "2021-11-23T10:46:30.604Z"
   },
   {
    "duration": 20,
    "start_time": "2021-11-23T10:46:30.620Z"
   },
   {
    "duration": 29,
    "start_time": "2021-11-23T10:46:30.642Z"
   },
   {
    "duration": 25,
    "start_time": "2021-11-23T10:46:30.673Z"
   },
   {
    "duration": 26,
    "start_time": "2021-11-23T10:46:30.700Z"
   },
   {
    "duration": 46,
    "start_time": "2021-11-23T10:46:30.728Z"
   },
   {
    "duration": 409,
    "start_time": "2021-11-23T10:46:30.776Z"
   },
   {
    "duration": 5,
    "start_time": "2021-11-23T10:46:31.187Z"
   },
   {
    "duration": 111,
    "start_time": "2021-11-23T10:46:31.194Z"
   },
   {
    "duration": 10,
    "start_time": "2021-11-23T10:46:31.307Z"
   },
   {
    "duration": 111,
    "start_time": "2021-11-23T10:46:31.318Z"
   },
   {
    "duration": 12,
    "start_time": "2021-11-23T10:46:31.431Z"
   },
   {
    "duration": 57,
    "start_time": "2021-11-23T10:46:31.444Z"
   },
   {
    "duration": 188,
    "start_time": "2021-11-23T10:46:31.503Z"
   },
   {
    "duration": 3,
    "start_time": "2021-11-23T10:46:31.693Z"
   },
   {
    "duration": 11,
    "start_time": "2021-11-23T10:46:31.698Z"
   },
   {
    "duration": 14,
    "start_time": "2021-11-23T10:46:31.711Z"
   },
   {
    "duration": 7,
    "start_time": "2021-11-23T10:46:31.729Z"
   },
   {
    "duration": 101,
    "start_time": "2021-11-23T10:46:31.738Z"
   },
   {
    "duration": 5,
    "start_time": "2021-11-23T10:46:31.840Z"
   },
   {
    "duration": 3695,
    "start_time": "2021-11-23T10:46:31.892Z"
   },
   {
    "duration": 19,
    "start_time": "2021-11-23T10:46:35.591Z"
   },
   {
    "duration": 47,
    "start_time": "2021-11-23T10:46:35.611Z"
   },
   {
    "duration": 3148,
    "start_time": "2021-11-23T10:47:51.509Z"
   },
   {
    "duration": 3197,
    "start_time": "2021-11-23T10:48:06.994Z"
   },
   {
    "duration": 188,
    "start_time": "2021-11-23T10:48:46.988Z"
   },
   {
    "duration": 13,
    "start_time": "2021-11-23T10:48:49.424Z"
   },
   {
    "duration": 5,
    "start_time": "2021-11-23T10:49:37.551Z"
   },
   {
    "duration": 7,
    "start_time": "2021-11-23T10:49:40.405Z"
   },
   {
    "duration": 5,
    "start_time": "2021-11-23T10:49:54.822Z"
   },
   {
    "duration": 15,
    "start_time": "2021-11-23T10:49:57.545Z"
   },
   {
    "duration": 9,
    "start_time": "2021-11-23T10:50:12.243Z"
   },
   {
    "duration": 246,
    "start_time": "2021-11-23T10:50:43.046Z"
   },
   {
    "duration": 6,
    "start_time": "2021-11-23T10:51:19.608Z"
   },
   {
    "duration": 454,
    "start_time": "2021-11-23T10:51:23.595Z"
   },
   {
    "duration": 10,
    "start_time": "2021-11-23T10:51:47.728Z"
   },
   {
    "duration": 13,
    "start_time": "2021-11-23T10:51:51.194Z"
   },
   {
    "duration": 243,
    "start_time": "2021-11-23T10:52:28.270Z"
   },
   {
    "duration": 22,
    "start_time": "2021-11-23T10:52:43.015Z"
   },
   {
    "duration": 19,
    "start_time": "2021-11-23T10:53:04.694Z"
   },
   {
    "duration": 13,
    "start_time": "2021-11-23T10:53:09.378Z"
   },
   {
    "duration": 30,
    "start_time": "2021-11-23T10:53:20.096Z"
   },
   {
    "duration": 174,
    "start_time": "2021-11-23T10:54:09.960Z"
   },
   {
    "duration": 16,
    "start_time": "2021-11-23T10:54:13.776Z"
   },
   {
    "duration": 6,
    "start_time": "2021-11-23T10:54:17.233Z"
   },
   {
    "duration": 21,
    "start_time": "2021-11-23T10:54:17.946Z"
   },
   {
    "duration": 19,
    "start_time": "2021-11-23T10:55:19.879Z"
   },
   {
    "duration": 197,
    "start_time": "2021-11-23T10:57:20.116Z"
   },
   {
    "duration": 6,
    "start_time": "2021-11-23T10:57:59.366Z"
   },
   {
    "duration": 189,
    "start_time": "2021-11-23T10:57:59.831Z"
   },
   {
    "duration": 19,
    "start_time": "2021-11-23T10:58:03.779Z"
   },
   {
    "duration": 186,
    "start_time": "2021-11-23T10:58:42.942Z"
   },
   {
    "duration": 17,
    "start_time": "2021-11-23T10:58:47.435Z"
   },
   {
    "duration": 20,
    "start_time": "2021-11-23T11:00:56.889Z"
   },
   {
    "duration": 12,
    "start_time": "2021-11-23T11:01:52.062Z"
   },
   {
    "duration": 10,
    "start_time": "2021-11-23T11:02:12.812Z"
   },
   {
    "duration": 1482,
    "start_time": "2021-11-23T13:21:22.949Z"
   },
   {
    "duration": 2,
    "start_time": "2021-11-23T13:21:24.433Z"
   },
   {
    "duration": 48,
    "start_time": "2021-11-23T13:21:24.437Z"
   },
   {
    "duration": 11,
    "start_time": "2021-11-23T13:21:24.488Z"
   },
   {
    "duration": 15,
    "start_time": "2021-11-23T13:21:24.501Z"
   },
   {
    "duration": 6,
    "start_time": "2021-11-23T13:21:24.517Z"
   },
   {
    "duration": 13,
    "start_time": "2021-11-23T13:21:24.524Z"
   },
   {
    "duration": 7,
    "start_time": "2021-11-23T13:21:24.539Z"
   },
   {
    "duration": 25,
    "start_time": "2021-11-23T13:21:24.548Z"
   },
   {
    "duration": 14,
    "start_time": "2021-11-23T13:21:24.575Z"
   },
   {
    "duration": 22,
    "start_time": "2021-11-23T13:21:24.591Z"
   },
   {
    "duration": 865,
    "start_time": "2021-11-23T13:21:24.615Z"
   },
   {
    "duration": 7,
    "start_time": "2021-11-23T13:21:25.482Z"
   },
   {
    "duration": 425,
    "start_time": "2021-11-23T13:21:25.491Z"
   },
   {
    "duration": 11,
    "start_time": "2021-11-23T13:21:25.918Z"
   },
   {
    "duration": 404,
    "start_time": "2021-11-23T13:21:25.931Z"
   },
   {
    "duration": 12,
    "start_time": "2021-11-23T13:21:26.337Z"
   },
   {
    "duration": 567,
    "start_time": "2021-11-23T13:21:26.351Z"
   },
   {
    "duration": -1186,
    "start_time": "2021-11-23T13:21:28.106Z"
   },
   {
    "duration": -1190,
    "start_time": "2021-11-23T13:21:28.111Z"
   },
   {
    "duration": -1194,
    "start_time": "2021-11-23T13:21:28.116Z"
   },
   {
    "duration": -1197,
    "start_time": "2021-11-23T13:21:28.120Z"
   },
   {
    "duration": -1199,
    "start_time": "2021-11-23T13:21:28.123Z"
   },
   {
    "duration": -1200,
    "start_time": "2021-11-23T13:21:28.125Z"
   },
   {
    "duration": -1203,
    "start_time": "2021-11-23T13:21:28.129Z"
   },
   {
    "duration": -1203,
    "start_time": "2021-11-23T13:21:28.131Z"
   },
   {
    "duration": -1211,
    "start_time": "2021-11-23T13:21:28.140Z"
   },
   {
    "duration": -1213,
    "start_time": "2021-11-23T13:21:28.143Z"
   },
   {
    "duration": -1215,
    "start_time": "2021-11-23T13:21:28.146Z"
   },
   {
    "duration": -1216,
    "start_time": "2021-11-23T13:21:28.148Z"
   },
   {
    "duration": -1218,
    "start_time": "2021-11-23T13:21:28.151Z"
   },
   {
    "duration": -1219,
    "start_time": "2021-11-23T13:21:28.153Z"
   },
   {
    "duration": 2023,
    "start_time": "2021-11-23T13:21:44.804Z"
   },
   {
    "duration": 12195,
    "start_time": "2021-11-23T13:21:46.828Z"
   },
   {
    "duration": 48,
    "start_time": "2021-11-23T13:21:59.026Z"
   },
   {
    "duration": 13,
    "start_time": "2021-11-23T13:21:59.076Z"
   },
   {
    "duration": 13,
    "start_time": "2021-11-23T13:21:59.090Z"
   },
   {
    "duration": 8,
    "start_time": "2021-11-23T13:21:59.104Z"
   },
   {
    "duration": 8,
    "start_time": "2021-11-23T13:21:59.114Z"
   },
   {
    "duration": 11,
    "start_time": "2021-11-23T13:21:59.124Z"
   },
   {
    "duration": 34,
    "start_time": "2021-11-23T13:21:59.137Z"
   },
   {
    "duration": 13,
    "start_time": "2021-11-23T13:21:59.172Z"
   },
   {
    "duration": 23,
    "start_time": "2021-11-23T13:21:59.187Z"
   },
   {
    "duration": 852,
    "start_time": "2021-11-23T13:21:59.212Z"
   },
   {
    "duration": 6,
    "start_time": "2021-11-23T13:22:00.065Z"
   },
   {
    "duration": 347,
    "start_time": "2021-11-23T13:22:00.073Z"
   },
   {
    "duration": 10,
    "start_time": "2021-11-23T13:22:00.421Z"
   },
   {
    "duration": 592,
    "start_time": "2021-11-23T13:22:00.433Z"
   },
   {
    "duration": 12,
    "start_time": "2021-11-23T13:22:01.026Z"
   },
   {
    "duration": 536,
    "start_time": "2021-11-23T13:22:01.040Z"
   },
   {
    "duration": -1106,
    "start_time": "2021-11-23T13:22:02.685Z"
   },
   {
    "duration": -1135,
    "start_time": "2021-11-23T13:22:02.715Z"
   },
   {
    "duration": -1135,
    "start_time": "2021-11-23T13:22:02.717Z"
   },
   {
    "duration": -1141,
    "start_time": "2021-11-23T13:22:02.724Z"
   },
   {
    "duration": -1142,
    "start_time": "2021-11-23T13:22:02.727Z"
   },
   {
    "duration": -1144,
    "start_time": "2021-11-23T13:22:02.730Z"
   },
   {
    "duration": -1145,
    "start_time": "2021-11-23T13:22:02.732Z"
   },
   {
    "duration": -1147,
    "start_time": "2021-11-23T13:22:02.735Z"
   },
   {
    "duration": -1150,
    "start_time": "2021-11-23T13:22:02.740Z"
   },
   {
    "duration": -1153,
    "start_time": "2021-11-23T13:22:02.744Z"
   },
   {
    "duration": -1165,
    "start_time": "2021-11-23T13:22:02.757Z"
   },
   {
    "duration": -1182,
    "start_time": "2021-11-23T13:22:02.774Z"
   },
   {
    "duration": -1189,
    "start_time": "2021-11-23T13:22:02.782Z"
   },
   {
    "duration": -1189,
    "start_time": "2021-11-23T13:22:02.784Z"
   },
   {
    "duration": 1324,
    "start_time": "2021-11-23T13:22:16.973Z"
   },
   {
    "duration": 2,
    "start_time": "2021-11-23T13:22:18.300Z"
   },
   {
    "duration": 58,
    "start_time": "2021-11-23T13:22:18.304Z"
   },
   {
    "duration": 13,
    "start_time": "2021-11-23T13:22:18.364Z"
   },
   {
    "duration": 13,
    "start_time": "2021-11-23T13:22:18.378Z"
   },
   {
    "duration": 9,
    "start_time": "2021-11-23T13:22:18.393Z"
   },
   {
    "duration": 12,
    "start_time": "2021-11-23T13:22:18.404Z"
   },
   {
    "duration": 13,
    "start_time": "2021-11-23T13:22:18.420Z"
   },
   {
    "duration": 33,
    "start_time": "2021-11-23T13:22:18.436Z"
   },
   {
    "duration": 20,
    "start_time": "2021-11-23T13:22:18.472Z"
   },
   {
    "duration": 26,
    "start_time": "2021-11-23T13:22:18.494Z"
   },
   {
    "duration": 508,
    "start_time": "2021-11-23T13:22:18.522Z"
   },
   {
    "duration": 8,
    "start_time": "2021-11-23T13:22:19.032Z"
   },
   {
    "duration": 155,
    "start_time": "2021-11-23T13:22:19.042Z"
   },
   {
    "duration": 67,
    "start_time": "2021-11-23T13:22:19.199Z"
   },
   {
    "duration": 108,
    "start_time": "2021-11-23T13:22:19.268Z"
   },
   {
    "duration": 14,
    "start_time": "2021-11-23T13:22:19.377Z"
   },
   {
    "duration": 48,
    "start_time": "2021-11-23T13:22:19.393Z"
   },
   {
    "duration": 217,
    "start_time": "2021-11-23T13:22:19.443Z"
   },
   {
    "duration": 4,
    "start_time": "2021-11-23T13:22:19.663Z"
   },
   {
    "duration": 28,
    "start_time": "2021-11-23T13:22:19.668Z"
   },
   {
    "duration": 20,
    "start_time": "2021-11-23T13:22:19.697Z"
   },
   {
    "duration": 50,
    "start_time": "2021-11-23T13:22:19.720Z"
   },
   {
    "duration": 95,
    "start_time": "2021-11-23T13:22:19.772Z"
   },
   {
    "duration": 5,
    "start_time": "2021-11-23T13:22:19.869Z"
   },
   {
    "duration": 4000,
    "start_time": "2021-11-23T13:22:19.876Z"
   },
   {
    "duration": 22,
    "start_time": "2021-11-23T13:22:23.878Z"
   },
   {
    "duration": 69,
    "start_time": "2021-11-23T13:22:23.901Z"
   },
   {
    "duration": 271,
    "start_time": "2021-11-23T13:22:23.972Z"
   },
   {
    "duration": 11,
    "start_time": "2021-11-23T13:22:24.245Z"
   },
   {
    "duration": 28,
    "start_time": "2021-11-23T13:22:24.257Z"
   },
   {
    "duration": 65,
    "start_time": "2021-11-23T13:22:24.287Z"
   },
   {
    "duration": 233,
    "start_time": "2021-11-23T13:24:46.131Z"
   },
   {
    "duration": 11,
    "start_time": "2021-11-23T13:25:04.587Z"
   },
   {
    "duration": 7,
    "start_time": "2021-11-23T13:25:44.115Z"
   },
   {
    "duration": 26,
    "start_time": "2021-11-23T13:27:21.207Z"
   },
   {
    "duration": 18,
    "start_time": "2021-11-23T13:28:12.388Z"
   },
   {
    "duration": 20,
    "start_time": "2021-11-23T13:28:20.715Z"
   },
   {
    "duration": 10,
    "start_time": "2021-11-23T13:28:56.975Z"
   },
   {
    "duration": 5,
    "start_time": "2021-11-23T13:29:46.025Z"
   },
   {
    "duration": 9,
    "start_time": "2021-11-23T13:38:00.035Z"
   },
   {
    "duration": 11,
    "start_time": "2021-11-23T13:38:16.714Z"
   },
   {
    "duration": 621,
    "start_time": "2021-11-23T13:38:58.787Z"
   },
   {
    "duration": 345,
    "start_time": "2021-11-23T13:40:07.773Z"
   },
   {
    "duration": 328,
    "start_time": "2021-11-23T13:40:20.502Z"
   },
   {
    "duration": 339,
    "start_time": "2021-11-23T13:40:41.274Z"
   },
   {
    "duration": 1003,
    "start_time": "2021-11-23T13:40:56.364Z"
   },
   {
    "duration": 340,
    "start_time": "2021-11-23T13:41:15.582Z"
   },
   {
    "duration": 335,
    "start_time": "2021-11-23T13:41:23.385Z"
   },
   {
    "duration": 2421,
    "start_time": "2021-11-23T13:41:45.130Z"
   },
   {
    "duration": 330,
    "start_time": "2021-11-23T13:41:54.692Z"
   },
   {
    "duration": 335,
    "start_time": "2021-11-23T13:42:38.425Z"
   },
   {
    "duration": 1034,
    "start_time": "2021-11-23T13:46:16.973Z"
   },
   {
    "duration": 650,
    "start_time": "2021-11-23T13:46:33.801Z"
   },
   {
    "duration": 664,
    "start_time": "2021-11-23T13:47:05.857Z"
   },
   {
    "duration": 19,
    "start_time": "2021-11-23T13:47:21.703Z"
   },
   {
    "duration": 1704,
    "start_time": "2021-11-23T13:47:52.684Z"
   },
   {
    "duration": 9,
    "start_time": "2021-11-23T13:47:56.719Z"
   },
   {
    "duration": 1857,
    "start_time": "2021-11-23T13:48:06.218Z"
   },
   {
    "duration": 10,
    "start_time": "2021-11-23T13:48:16.303Z"
   },
   {
    "duration": 14,
    "start_time": "2021-11-23T13:52:36.865Z"
   },
   {
    "duration": 3315,
    "start_time": "2021-11-23T13:54:12.771Z"
   },
   {
    "duration": -930,
    "start_time": "2021-11-23T13:54:17.019Z"
   },
   {
    "duration": 15,
    "start_time": "2021-11-23T13:54:45.957Z"
   },
   {
    "duration": 268,
    "start_time": "2021-11-23T13:54:51.120Z"
   },
   {
    "duration": 3424,
    "start_time": "2021-11-23T13:54:51.712Z"
   },
   {
    "duration": -885,
    "start_time": "2021-11-23T13:54:56.023Z"
   },
   {
    "duration": 17,
    "start_time": "2021-11-23T13:55:07.599Z"
   },
   {
    "duration": 10,
    "start_time": "2021-11-23T13:55:11.824Z"
   },
   {
    "duration": 653,
    "start_time": "2021-11-23T13:55:13.910Z"
   },
   {
    "duration": 14,
    "start_time": "2021-11-23T13:55:15.872Z"
   },
   {
    "duration": 18,
    "start_time": "2021-11-23T13:55:40.958Z"
   },
   {
    "duration": 8,
    "start_time": "2021-11-23T13:55:45.257Z"
   },
   {
    "duration": 7,
    "start_time": "2021-11-23T13:56:32.956Z"
   },
   {
    "duration": 6,
    "start_time": "2021-11-23T13:57:06.432Z"
   },
   {
    "duration": 15,
    "start_time": "2021-11-23T13:58:25.658Z"
   },
   {
    "duration": 64,
    "start_time": "2021-11-23T13:59:10.199Z"
   },
   {
    "duration": 14,
    "start_time": "2021-11-23T14:00:12.192Z"
   },
   {
    "duration": 5,
    "start_time": "2021-11-23T14:00:26.393Z"
   },
   {
    "duration": 4,
    "start_time": "2021-11-23T14:00:32.049Z"
   },
   {
    "duration": 22,
    "start_time": "2021-11-23T14:00:48.699Z"
   },
   {
    "duration": 64,
    "start_time": "2021-11-23T14:01:30.049Z"
   },
   {
    "duration": 85,
    "start_time": "2021-11-23T14:02:30.438Z"
   },
   {
    "duration": 16,
    "start_time": "2021-11-23T14:02:50.084Z"
   },
   {
    "duration": 60,
    "start_time": "2021-11-23T14:03:23.078Z"
   },
   {
    "duration": 1420,
    "start_time": "2021-11-24T14:12:32.659Z"
   },
   {
    "duration": 12238,
    "start_time": "2021-11-24T14:12:34.080Z"
   },
   {
    "duration": 46,
    "start_time": "2021-11-24T14:12:46.320Z"
   },
   {
    "duration": 11,
    "start_time": "2021-11-24T14:12:46.368Z"
   },
   {
    "duration": 12,
    "start_time": "2021-11-24T14:12:46.380Z"
   },
   {
    "duration": 9,
    "start_time": "2021-11-24T14:12:46.394Z"
   },
   {
    "duration": 15,
    "start_time": "2021-11-24T14:12:46.404Z"
   },
   {
    "duration": 9,
    "start_time": "2021-11-24T14:12:46.421Z"
   },
   {
    "duration": 15,
    "start_time": "2021-11-24T14:12:46.432Z"
   },
   {
    "duration": 22,
    "start_time": "2021-11-24T14:12:46.448Z"
   },
   {
    "duration": 39,
    "start_time": "2021-11-24T14:12:46.472Z"
   },
   {
    "duration": 752,
    "start_time": "2021-11-24T14:12:46.513Z"
   },
   {
    "duration": 20,
    "start_time": "2021-11-24T14:12:47.267Z"
   },
   {
    "duration": 304,
    "start_time": "2021-11-24T14:12:47.289Z"
   },
   {
    "duration": 10,
    "start_time": "2021-11-24T14:12:47.595Z"
   },
   {
    "duration": 356,
    "start_time": "2021-11-24T14:12:47.607Z"
   },
   {
    "duration": 11,
    "start_time": "2021-11-24T14:12:47.964Z"
   },
   {
    "duration": 509,
    "start_time": "2021-11-24T14:12:47.976Z"
   },
   {
    "duration": -960,
    "start_time": "2021-11-24T14:12:49.446Z"
   },
   {
    "duration": -961,
    "start_time": "2021-11-24T14:12:49.448Z"
   },
   {
    "duration": -963,
    "start_time": "2021-11-24T14:12:49.451Z"
   },
   {
    "duration": -964,
    "start_time": "2021-11-24T14:12:49.453Z"
   },
   {
    "duration": -966,
    "start_time": "2021-11-24T14:12:49.456Z"
   },
   {
    "duration": -968,
    "start_time": "2021-11-24T14:12:49.459Z"
   },
   {
    "duration": -971,
    "start_time": "2021-11-24T14:12:49.463Z"
   },
   {
    "duration": -973,
    "start_time": "2021-11-24T14:12:49.466Z"
   },
   {
    "duration": -976,
    "start_time": "2021-11-24T14:12:49.470Z"
   },
   {
    "duration": -979,
    "start_time": "2021-11-24T14:12:49.473Z"
   },
   {
    "duration": -981,
    "start_time": "2021-11-24T14:12:49.476Z"
   },
   {
    "duration": -984,
    "start_time": "2021-11-24T14:12:49.480Z"
   },
   {
    "duration": -986,
    "start_time": "2021-11-24T14:12:49.483Z"
   },
   {
    "duration": -988,
    "start_time": "2021-11-24T14:12:49.486Z"
   },
   {
    "duration": -990,
    "start_time": "2021-11-24T14:12:49.489Z"
   },
   {
    "duration": -992,
    "start_time": "2021-11-24T14:12:49.492Z"
   },
   {
    "duration": -994,
    "start_time": "2021-11-24T14:12:49.495Z"
   },
   {
    "duration": 1145,
    "start_time": "2021-11-24T14:12:56.111Z"
   },
   {
    "duration": 2,
    "start_time": "2021-11-24T14:12:57.258Z"
   },
   {
    "duration": 54,
    "start_time": "2021-11-24T14:12:57.261Z"
   },
   {
    "duration": 10,
    "start_time": "2021-11-24T14:12:57.317Z"
   },
   {
    "duration": 9,
    "start_time": "2021-11-24T14:12:57.328Z"
   },
   {
    "duration": 6,
    "start_time": "2021-11-24T14:12:57.338Z"
   },
   {
    "duration": 7,
    "start_time": "2021-11-24T14:12:57.346Z"
   },
   {
    "duration": 10,
    "start_time": "2021-11-24T14:12:57.355Z"
   },
   {
    "duration": 26,
    "start_time": "2021-11-24T14:12:57.369Z"
   },
   {
    "duration": 17,
    "start_time": "2021-11-24T14:12:57.397Z"
   },
   {
    "duration": 21,
    "start_time": "2021-11-24T14:12:57.416Z"
   },
   {
    "duration": 437,
    "start_time": "2021-11-24T14:12:57.438Z"
   },
   {
    "duration": 7,
    "start_time": "2021-11-24T14:12:57.877Z"
   },
   {
    "duration": 50,
    "start_time": "2021-11-24T14:12:57.886Z"
   },
   {
    "duration": 57,
    "start_time": "2021-11-24T14:12:57.938Z"
   },
   {
    "duration": 111,
    "start_time": "2021-11-24T14:12:57.997Z"
   },
   {
    "duration": 11,
    "start_time": "2021-11-24T14:12:58.110Z"
   },
   {
    "duration": 41,
    "start_time": "2021-11-24T14:12:58.122Z"
   },
   {
    "duration": 192,
    "start_time": "2021-11-24T14:12:58.165Z"
   },
   {
    "duration": 3,
    "start_time": "2021-11-24T14:12:58.359Z"
   },
   {
    "duration": 25,
    "start_time": "2021-11-24T14:12:58.363Z"
   },
   {
    "duration": 17,
    "start_time": "2021-11-24T14:12:58.389Z"
   },
   {
    "duration": 7,
    "start_time": "2021-11-24T14:12:58.407Z"
   },
   {
    "duration": 96,
    "start_time": "2021-11-24T14:12:58.416Z"
   },
   {
    "duration": 6,
    "start_time": "2021-11-24T14:12:58.513Z"
   },
   {
    "duration": 3700,
    "start_time": "2021-11-24T14:12:58.521Z"
   },
   {
    "duration": 19,
    "start_time": "2021-11-24T14:13:02.225Z"
   },
   {
    "duration": 62,
    "start_time": "2021-11-24T14:13:02.246Z"
   },
   {
    "duration": 202,
    "start_time": "2021-11-24T14:13:02.310Z"
   },
   {
    "duration": 5,
    "start_time": "2021-11-24T14:13:02.513Z"
   },
   {
    "duration": 19,
    "start_time": "2021-11-24T14:13:02.520Z"
   },
   {
    "duration": 622,
    "start_time": "2021-11-24T14:13:02.541Z"
   },
   {
    "duration": 13,
    "start_time": "2021-11-24T14:13:03.164Z"
   },
   {
    "duration": 10,
    "start_time": "2021-11-24T14:13:03.179Z"
   },
   {
    "duration": 13,
    "start_time": "2021-11-24T14:13:03.191Z"
   },
   {
    "duration": 76,
    "start_time": "2021-11-24T14:19:41.294Z"
   },
   {
    "duration": 6,
    "start_time": "2021-11-24T14:19:46.444Z"
   },
   {
    "duration": 41,
    "start_time": "2021-11-24T14:20:15.605Z"
   },
   {
    "duration": 8,
    "start_time": "2021-11-24T14:20:16.027Z"
   },
   {
    "duration": 4768,
    "start_time": "2021-11-24T14:27:21.576Z"
   },
   {
    "duration": 4512,
    "start_time": "2021-11-24T14:28:23.642Z"
   },
   {
    "duration": 814,
    "start_time": "2021-11-24T14:28:59.593Z"
   },
   {
    "duration": 10,
    "start_time": "2021-11-24T14:29:10.754Z"
   },
   {
    "duration": 15,
    "start_time": "2021-11-24T14:29:17.240Z"
   },
   {
    "duration": 13,
    "start_time": "2021-11-24T14:32:31.427Z"
   },
   {
    "duration": 732,
    "start_time": "2021-11-24T14:36:26.448Z"
   },
   {
    "duration": 12,
    "start_time": "2021-11-24T14:36:53.552Z"
   },
   {
    "duration": 17,
    "start_time": "2021-11-24T14:37:06.289Z"
   },
   {
    "duration": 43,
    "start_time": "2021-11-24T14:37:17.144Z"
   },
   {
    "duration": 8,
    "start_time": "2021-11-24T14:37:17.849Z"
   },
   {
    "duration": 8,
    "start_time": "2021-11-24T14:37:18.957Z"
   },
   {
    "duration": 6,
    "start_time": "2021-11-24T14:37:21.281Z"
   },
   {
    "duration": 6,
    "start_time": "2021-11-24T14:37:22.768Z"
   },
   {
    "duration": 9,
    "start_time": "2021-11-24T14:37:25.422Z"
   },
   {
    "duration": 706,
    "start_time": "2021-11-24T14:37:28.109Z"
   },
   {
    "duration": 31,
    "start_time": "2021-11-24T14:37:29.776Z"
   },
   {
    "duration": 31,
    "start_time": "2021-11-24T14:37:49.537Z"
   },
   {
    "duration": 63,
    "start_time": "2021-11-24T14:37:58.115Z"
   },
   {
    "duration": 58,
    "start_time": "2021-11-24T14:38:03.030Z"
   },
   {
    "duration": 17,
    "start_time": "2021-11-24T14:38:17.774Z"
   },
   {
    "duration": 41,
    "start_time": "2021-11-24T14:38:22.341Z"
   },
   {
    "duration": 8,
    "start_time": "2021-11-24T14:40:36.747Z"
   },
   {
    "duration": 7,
    "start_time": "2021-11-24T14:41:34.158Z"
   },
   {
    "duration": 39,
    "start_time": "2021-11-24T14:42:39.923Z"
   },
   {
    "duration": 57,
    "start_time": "2021-11-24T14:42:40.255Z"
   },
   {
    "duration": 75,
    "start_time": "2021-11-24T14:42:41.412Z"
   },
   {
    "duration": 16,
    "start_time": "2021-11-24T14:42:48.551Z"
   },
   {
    "duration": 42,
    "start_time": "2021-11-24T14:43:15.313Z"
   },
   {
    "duration": 8,
    "start_time": "2021-11-24T14:43:16.347Z"
   },
   {
    "duration": 9,
    "start_time": "2021-11-24T14:43:17.883Z"
   },
   {
    "duration": 6,
    "start_time": "2021-11-24T14:43:20.292Z"
   },
   {
    "duration": 8,
    "start_time": "2021-11-24T14:43:21.507Z"
   },
   {
    "duration": 8,
    "start_time": "2021-11-24T14:43:23.487Z"
   },
   {
    "duration": 625,
    "start_time": "2021-11-24T14:43:25.588Z"
   },
   {
    "duration": 32,
    "start_time": "2021-11-24T14:43:35.060Z"
   },
   {
    "duration": 11,
    "start_time": "2021-11-24T14:46:32.919Z"
   },
   {
    "duration": 247,
    "start_time": "2021-11-24T14:46:48.415Z"
   },
   {
    "duration": 14,
    "start_time": "2021-11-24T14:46:52.508Z"
   },
   {
    "duration": 16,
    "start_time": "2021-11-24T14:46:55.430Z"
   },
   {
    "duration": 18,
    "start_time": "2021-11-24T14:47:05.755Z"
   },
   {
    "duration": 31,
    "start_time": "2021-11-24T14:47:33.357Z"
   },
   {
    "duration": 20,
    "start_time": "2021-11-24T14:48:00.263Z"
   },
   {
    "duration": 10,
    "start_time": "2021-11-24T14:48:09.161Z"
   },
   {
    "duration": 4,
    "start_time": "2021-11-24T14:48:12.019Z"
   },
   {
    "duration": 9,
    "start_time": "2021-11-24T14:48:24.959Z"
   },
   {
    "duration": 19,
    "start_time": "2021-11-24T14:49:06.679Z"
   },
   {
    "duration": 15,
    "start_time": "2021-11-24T14:49:09.053Z"
   },
   {
    "duration": 10,
    "start_time": "2021-11-24T14:49:22.021Z"
   },
   {
    "duration": 10,
    "start_time": "2021-11-24T14:54:21.507Z"
   },
   {
    "duration": 13,
    "start_time": "2021-11-24T14:54:22.048Z"
   },
   {
    "duration": 22,
    "start_time": "2021-11-24T14:54:23.478Z"
   },
   {
    "duration": 2051,
    "start_time": "2021-11-24T19:06:46.904Z"
   },
   {
    "duration": 24507,
    "start_time": "2021-11-24T19:06:50.404Z"
   },
   {
    "duration": 1684,
    "start_time": "2021-11-24T19:11:46.288Z"
   },
   {
    "duration": 102,
    "start_time": "2021-11-24T19:11:50.828Z"
   },
   {
    "duration": 18,
    "start_time": "2021-11-24T19:11:53.374Z"
   },
   {
    "duration": 13,
    "start_time": "2021-11-24T19:11:55.193Z"
   },
   {
    "duration": 625,
    "start_time": "2021-11-24T19:20:27.173Z"
   },
   {
    "duration": 35,
    "start_time": "2021-11-24T19:22:08.827Z"
   },
   {
    "duration": 17,
    "start_time": "2021-11-24T19:22:27.790Z"
   },
   {
    "duration": 13,
    "start_time": "2021-11-24T19:22:31.226Z"
   },
   {
    "duration": 9,
    "start_time": "2021-11-24T19:22:34.320Z"
   },
   {
    "duration": 10,
    "start_time": "2021-11-24T19:23:08.649Z"
   },
   {
    "duration": 9,
    "start_time": "2021-11-24T19:23:09.301Z"
   },
   {
    "duration": 14,
    "start_time": "2021-11-24T19:23:19.143Z"
   },
   {
    "duration": 23,
    "start_time": "2021-11-24T19:23:49.374Z"
   },
   {
    "duration": 14,
    "start_time": "2021-11-24T19:25:52.249Z"
   },
   {
    "duration": 50,
    "start_time": "2021-11-24T19:26:38.285Z"
   },
   {
    "duration": 24,
    "start_time": "2021-11-24T19:26:39.760Z"
   },
   {
    "duration": 39,
    "start_time": "2021-11-24T19:26:47.107Z"
   },
   {
    "duration": 18,
    "start_time": "2021-11-24T19:27:13.187Z"
   },
   {
    "duration": 727,
    "start_time": "2021-11-24T19:27:46.662Z"
   },
   {
    "duration": 9,
    "start_time": "2021-11-24T19:29:00.969Z"
   },
   {
    "duration": 90,
    "start_time": "2021-11-24T19:29:02.660Z"
   },
   {
    "duration": 15,
    "start_time": "2021-11-24T19:29:53.745Z"
   },
   {
    "duration": 97,
    "start_time": "2021-11-24T19:29:55.408Z"
   },
   {
    "duration": 22,
    "start_time": "2021-11-24T19:30:23.392Z"
   },
   {
    "duration": 75,
    "start_time": "2021-11-24T19:30:25.249Z"
   },
   {
    "duration": 301,
    "start_time": "2021-11-24T19:30:43.536Z"
   },
   {
    "duration": 5,
    "start_time": "2021-11-24T19:30:55.401Z"
   },
   {
    "duration": 10,
    "start_time": "2021-11-24T19:31:03.317Z"
   },
   {
    "duration": 24,
    "start_time": "2021-11-24T19:31:04.002Z"
   },
   {
    "duration": 11,
    "start_time": "2021-11-24T19:31:07.476Z"
   },
   {
    "duration": 82,
    "start_time": "2021-11-24T19:31:09.792Z"
   },
   {
    "duration": 7,
    "start_time": "2021-11-24T19:32:08.278Z"
   },
   {
    "duration": 8073,
    "start_time": "2021-11-24T19:32:09.644Z"
   },
   {
    "duration": 30,
    "start_time": "2021-11-24T19:32:20.382Z"
   },
   {
    "duration": 89,
    "start_time": "2021-11-24T19:32:21.752Z"
   },
   {
    "duration": 18,
    "start_time": "2021-11-24T19:34:36.084Z"
   },
   {
    "duration": 12,
    "start_time": "2021-11-24T19:34:48.021Z"
   },
   {
    "duration": 112,
    "start_time": "2021-11-24T19:35:01.612Z"
   },
   {
    "duration": 7,
    "start_time": "2021-11-24T19:35:04.469Z"
   },
   {
    "duration": 4,
    "start_time": "2021-11-24T19:35:15.036Z"
   },
   {
    "duration": 29,
    "start_time": "2021-11-24T19:36:12.203Z"
   },
   {
    "duration": 35,
    "start_time": "2021-11-24T19:36:25.463Z"
   },
   {
    "duration": 13,
    "start_time": "2021-11-24T19:37:00.672Z"
   },
   {
    "duration": 98,
    "start_time": "2021-11-24T19:41:35.693Z"
   },
   {
    "duration": 14,
    "start_time": "2021-11-24T19:41:36.826Z"
   },
   {
    "duration": 61,
    "start_time": "2021-11-24T19:41:52.712Z"
   },
   {
    "duration": 64,
    "start_time": "2021-11-24T19:41:57.686Z"
   },
   {
    "duration": 35,
    "start_time": "2021-11-24T19:42:18.761Z"
   },
   {
    "duration": 25,
    "start_time": "2021-11-24T19:43:38.962Z"
   },
   {
    "duration": 33,
    "start_time": "2021-11-24T19:44:15.281Z"
   },
   {
    "duration": 26,
    "start_time": "2021-11-24T19:44:40.745Z"
   },
   {
    "duration": 11,
    "start_time": "2021-11-24T19:45:06.137Z"
   },
   {
    "duration": 4,
    "start_time": "2021-11-24T19:45:48.412Z"
   },
   {
    "duration": 17,
    "start_time": "2021-11-24T19:45:53.858Z"
   },
   {
    "duration": 18,
    "start_time": "2021-11-24T19:51:15.369Z"
   },
   {
    "duration": 9,
    "start_time": "2021-11-24T19:53:16.969Z"
   },
   {
    "duration": 8,
    "start_time": "2021-11-24T19:53:26.540Z"
   },
   {
    "duration": 22,
    "start_time": "2021-11-24T19:53:54.673Z"
   },
   {
    "duration": 102,
    "start_time": "2021-11-24T19:53:57.767Z"
   },
   {
    "duration": 5,
    "start_time": "2021-11-24T19:54:02.406Z"
   },
   {
    "duration": 12,
    "start_time": "2021-11-24T19:54:04.280Z"
   },
   {
    "duration": 19,
    "start_time": "2021-11-24T19:54:24.559Z"
   },
   {
    "duration": 6,
    "start_time": "2021-11-24T19:55:52.914Z"
   },
   {
    "duration": 4,
    "start_time": "2021-11-24T19:56:18.310Z"
   },
   {
    "duration": 8,
    "start_time": "2021-11-24T19:56:34.015Z"
   },
   {
    "duration": 17,
    "start_time": "2021-11-24T19:57:17.433Z"
   },
   {
    "duration": 8,
    "start_time": "2021-11-24T19:57:35.047Z"
   },
   {
    "duration": 7,
    "start_time": "2021-11-24T19:57:52.335Z"
   },
   {
    "duration": 9,
    "start_time": "2021-11-24T19:58:12.863Z"
   },
   {
    "duration": 39,
    "start_time": "2021-11-24T19:58:53.614Z"
   },
   {
    "duration": 5,
    "start_time": "2021-11-24T20:00:15.200Z"
   },
   {
    "duration": 13,
    "start_time": "2021-11-24T20:00:53.095Z"
   },
   {
    "duration": 14,
    "start_time": "2021-11-24T20:01:18.345Z"
   },
   {
    "duration": 7,
    "start_time": "2021-11-24T20:03:16.045Z"
   },
   {
    "duration": 12,
    "start_time": "2021-11-24T20:03:39.386Z"
   },
   {
    "duration": 7,
    "start_time": "2021-11-24T20:04:49.348Z"
   },
   {
    "duration": 6,
    "start_time": "2021-11-24T20:05:04.498Z"
   },
   {
    "duration": 15,
    "start_time": "2021-11-24T20:05:32.379Z"
   },
   {
    "duration": 13,
    "start_time": "2021-11-24T20:05:41.387Z"
   },
   {
    "duration": 15,
    "start_time": "2021-11-24T20:05:54.347Z"
   },
   {
    "duration": 14,
    "start_time": "2021-11-24T20:06:56.331Z"
   },
   {
    "duration": 4,
    "start_time": "2021-11-24T20:06:57.865Z"
   },
   {
    "duration": 17,
    "start_time": "2021-11-24T20:07:06.025Z"
   },
   {
    "duration": 18,
    "start_time": "2021-11-24T20:07:52.526Z"
   },
   {
    "duration": 9,
    "start_time": "2021-11-24T20:08:38.209Z"
   },
   {
    "duration": 47,
    "start_time": "2021-11-24T20:09:08.613Z"
   },
   {
    "duration": 21,
    "start_time": "2021-11-24T20:10:49.166Z"
   },
   {
    "duration": 47,
    "start_time": "2021-11-24T20:11:22.224Z"
   },
   {
    "duration": 7,
    "start_time": "2021-11-24T20:11:39.416Z"
   },
   {
    "duration": 50,
    "start_time": "2021-11-24T20:12:57.716Z"
   },
   {
    "duration": 21,
    "start_time": "2021-11-24T20:13:41.308Z"
   },
   {
    "duration": 6,
    "start_time": "2021-11-24T20:14:02.053Z"
   },
   {
    "duration": 18,
    "start_time": "2021-11-24T20:14:07.152Z"
   },
   {
    "duration": 3,
    "start_time": "2021-11-24T20:14:50.968Z"
   },
   {
    "duration": 651,
    "start_time": "2021-11-24T20:16:46.931Z"
   },
   {
    "duration": 347,
    "start_time": "2021-11-24T20:17:20.126Z"
   },
   {
    "duration": 178,
    "start_time": "2021-11-24T20:17:41.222Z"
   },
   {
    "duration": 4,
    "start_time": "2021-11-24T20:17:58.472Z"
   },
   {
    "duration": 4,
    "start_time": "2021-11-24T20:18:25.329Z"
   },
   {
    "duration": 3,
    "start_time": "2021-11-24T20:18:37.134Z"
   },
   {
    "duration": 4,
    "start_time": "2021-11-24T20:18:38.293Z"
   },
   {
    "duration": 7,
    "start_time": "2021-11-24T20:19:50.664Z"
   },
   {
    "duration": 36,
    "start_time": "2021-11-24T20:20:05.552Z"
   },
   {
    "duration": 37,
    "start_time": "2021-11-24T20:20:26.347Z"
   },
   {
    "duration": 31,
    "start_time": "2021-11-24T20:20:32.769Z"
   },
   {
    "duration": 15,
    "start_time": "2021-11-24T20:20:45.704Z"
   },
   {
    "duration": 18,
    "start_time": "2021-11-24T20:20:53.158Z"
   },
   {
    "duration": 29,
    "start_time": "2021-11-24T20:21:14.242Z"
   },
   {
    "duration": 95,
    "start_time": "2021-11-24T20:22:06.763Z"
   },
   {
    "duration": 93,
    "start_time": "2021-11-24T20:22:25.511Z"
   },
   {
    "duration": 125,
    "start_time": "2021-11-24T20:24:07.269Z"
   },
   {
    "duration": 785,
    "start_time": "2021-11-24T20:24:14.361Z"
   },
   {
    "duration": 4,
    "start_time": "2021-11-24T20:24:38.407Z"
   },
   {
    "duration": 495,
    "start_time": "2021-11-24T20:24:48.005Z"
   },
   {
    "duration": 90,
    "start_time": "2021-11-24T20:26:01.871Z"
   },
   {
    "duration": 122,
    "start_time": "2021-11-24T20:26:32.907Z"
   },
   {
    "duration": 108,
    "start_time": "2021-11-24T20:26:36.928Z"
   },
   {
    "duration": 107,
    "start_time": "2021-11-24T20:26:52.013Z"
   },
   {
    "duration": 29,
    "start_time": "2021-11-24T20:27:42.630Z"
   },
   {
    "duration": 90,
    "start_time": "2021-11-24T20:28:33.177Z"
   },
   {
    "duration": 379,
    "start_time": "2021-11-24T20:29:44.564Z"
   },
   {
    "duration": 94,
    "start_time": "2021-11-24T20:29:48.367Z"
   },
   {
    "duration": 131,
    "start_time": "2021-11-24T20:30:04.946Z"
   },
   {
    "duration": 90,
    "start_time": "2021-11-24T20:30:09.858Z"
   },
   {
    "duration": 90,
    "start_time": "2021-11-24T20:30:13.303Z"
   },
   {
    "duration": 167,
    "start_time": "2021-11-24T20:31:27.980Z"
   },
   {
    "duration": 31,
    "start_time": "2021-11-24T20:35:30.664Z"
   },
   {
    "duration": 13,
    "start_time": "2021-11-24T20:44:37.440Z"
   },
   {
    "duration": 1914,
    "start_time": "2021-11-25T08:32:08.223Z"
   },
   {
    "duration": 19358,
    "start_time": "2021-11-25T08:32:10.139Z"
   },
   {
    "duration": 58,
    "start_time": "2021-11-25T08:32:29.501Z"
   },
   {
    "duration": 18,
    "start_time": "2021-11-25T08:32:29.562Z"
   },
   {
    "duration": 36,
    "start_time": "2021-11-25T08:32:29.583Z"
   },
   {
    "duration": 741,
    "start_time": "2021-11-25T08:32:29.622Z"
   },
   {
    "duration": -654,
    "start_time": "2021-11-25T08:32:31.022Z"
   },
   {
    "duration": -658,
    "start_time": "2021-11-25T08:32:31.027Z"
   },
   {
    "duration": -660,
    "start_time": "2021-11-25T08:32:31.030Z"
   },
   {
    "duration": -661,
    "start_time": "2021-11-25T08:32:31.033Z"
   },
   {
    "duration": -664,
    "start_time": "2021-11-25T08:32:31.037Z"
   },
   {
    "duration": -666,
    "start_time": "2021-11-25T08:32:31.041Z"
   },
   {
    "duration": -669,
    "start_time": "2021-11-25T08:32:31.045Z"
   },
   {
    "duration": -670,
    "start_time": "2021-11-25T08:32:31.048Z"
   },
   {
    "duration": -672,
    "start_time": "2021-11-25T08:32:31.051Z"
   },
   {
    "duration": -675,
    "start_time": "2021-11-25T08:32:31.055Z"
   },
   {
    "duration": -685,
    "start_time": "2021-11-25T08:32:31.067Z"
   },
   {
    "duration": -687,
    "start_time": "2021-11-25T08:32:31.070Z"
   },
   {
    "duration": -691,
    "start_time": "2021-11-25T08:32:31.075Z"
   },
   {
    "duration": -692,
    "start_time": "2021-11-25T08:32:31.078Z"
   },
   {
    "duration": -694,
    "start_time": "2021-11-25T08:32:31.081Z"
   },
   {
    "duration": -696,
    "start_time": "2021-11-25T08:32:31.084Z"
   },
   {
    "duration": -697,
    "start_time": "2021-11-25T08:32:31.087Z"
   },
   {
    "duration": -700,
    "start_time": "2021-11-25T08:32:31.091Z"
   },
   {
    "duration": -702,
    "start_time": "2021-11-25T08:32:31.094Z"
   },
   {
    "duration": -704,
    "start_time": "2021-11-25T08:32:31.097Z"
   },
   {
    "duration": -705,
    "start_time": "2021-11-25T08:32:31.100Z"
   },
   {
    "duration": -712,
    "start_time": "2021-11-25T08:32:31.108Z"
   },
   {
    "duration": -714,
    "start_time": "2021-11-25T08:32:31.111Z"
   },
   {
    "duration": -714,
    "start_time": "2021-11-25T08:32:31.113Z"
   },
   {
    "duration": -688,
    "start_time": "2021-11-25T08:32:31.116Z"
   },
   {
    "duration": -688,
    "start_time": "2021-11-25T08:32:31.118Z"
   },
   {
    "duration": -690,
    "start_time": "2021-11-25T08:32:31.121Z"
   },
   {
    "duration": -694,
    "start_time": "2021-11-25T08:32:31.126Z"
   },
   {
    "duration": -694,
    "start_time": "2021-11-25T08:32:31.128Z"
   },
   {
    "duration": -696,
    "start_time": "2021-11-25T08:32:31.131Z"
   },
   {
    "duration": -697,
    "start_time": "2021-11-25T08:32:31.133Z"
   },
   {
    "duration": -699,
    "start_time": "2021-11-25T08:32:31.136Z"
   },
   {
    "duration": -700,
    "start_time": "2021-11-25T08:32:31.139Z"
   },
   {
    "duration": -702,
    "start_time": "2021-11-25T08:32:31.142Z"
   },
   {
    "duration": -703,
    "start_time": "2021-11-25T08:32:31.145Z"
   },
   {
    "duration": -706,
    "start_time": "2021-11-25T08:32:31.149Z"
   },
   {
    "duration": -708,
    "start_time": "2021-11-25T08:32:31.152Z"
   },
   {
    "duration": -717,
    "start_time": "2021-11-25T08:32:31.162Z"
   },
   {
    "duration": -718,
    "start_time": "2021-11-25T08:32:31.165Z"
   },
   {
    "duration": -720,
    "start_time": "2021-11-25T08:32:31.168Z"
   },
   {
    "duration": -721,
    "start_time": "2021-11-25T08:32:31.171Z"
   },
   {
    "duration": 1611,
    "start_time": "2021-11-25T08:32:37.933Z"
   },
   {
    "duration": 3,
    "start_time": "2021-11-25T08:32:39.547Z"
   },
   {
    "duration": 82,
    "start_time": "2021-11-25T08:32:39.553Z"
   },
   {
    "duration": 16,
    "start_time": "2021-11-25T08:32:39.638Z"
   },
   {
    "duration": 30,
    "start_time": "2021-11-25T08:32:39.657Z"
   },
   {
    "duration": 631,
    "start_time": "2021-11-25T08:32:39.690Z"
   },
   {
    "duration": -664,
    "start_time": "2021-11-25T08:32:40.991Z"
   },
   {
    "duration": -673,
    "start_time": "2021-11-25T08:32:41.001Z"
   },
   {
    "duration": -679,
    "start_time": "2021-11-25T08:32:41.009Z"
   },
   {
    "duration": -679,
    "start_time": "2021-11-25T08:32:41.012Z"
   },
   {
    "duration": -681,
    "start_time": "2021-11-25T08:32:41.016Z"
   },
   {
    "duration": -686,
    "start_time": "2021-11-25T08:32:41.023Z"
   },
   {
    "duration": -686,
    "start_time": "2021-11-25T08:32:41.026Z"
   },
   {
    "duration": -688,
    "start_time": "2021-11-25T08:32:41.030Z"
   },
   {
    "duration": -690,
    "start_time": "2021-11-25T08:32:41.034Z"
   },
   {
    "duration": -695,
    "start_time": "2021-11-25T08:32:41.041Z"
   },
   {
    "duration": -700,
    "start_time": "2021-11-25T08:32:41.049Z"
   },
   {
    "duration": -701,
    "start_time": "2021-11-25T08:32:41.052Z"
   },
   {
    "duration": -706,
    "start_time": "2021-11-25T08:32:41.059Z"
   },
   {
    "duration": -707,
    "start_time": "2021-11-25T08:32:41.062Z"
   },
   {
    "duration": -717,
    "start_time": "2021-11-25T08:32:41.074Z"
   },
   {
    "duration": -717,
    "start_time": "2021-11-25T08:32:41.077Z"
   },
   {
    "duration": -717,
    "start_time": "2021-11-25T08:32:41.079Z"
   },
   {
    "duration": -720,
    "start_time": "2021-11-25T08:32:41.083Z"
   },
   {
    "duration": -724,
    "start_time": "2021-11-25T08:32:41.090Z"
   },
   {
    "duration": -730,
    "start_time": "2021-11-25T08:32:41.098Z"
   },
   {
    "duration": -731,
    "start_time": "2021-11-25T08:32:41.101Z"
   },
   {
    "duration": -735,
    "start_time": "2021-11-25T08:32:41.107Z"
   },
   {
    "duration": -736,
    "start_time": "2021-11-25T08:32:41.109Z"
   },
   {
    "duration": -695,
    "start_time": "2021-11-25T08:32:41.124Z"
   },
   {
    "duration": -695,
    "start_time": "2021-11-25T08:32:41.127Z"
   },
   {
    "duration": -696,
    "start_time": "2021-11-25T08:32:41.130Z"
   },
   {
    "duration": -705,
    "start_time": "2021-11-25T08:32:41.141Z"
   },
   {
    "duration": -854,
    "start_time": "2021-11-25T08:32:41.292Z"
   },
   {
    "duration": -882,
    "start_time": "2021-11-25T08:32:41.322Z"
   },
   {
    "duration": -881,
    "start_time": "2021-11-25T08:32:41.324Z"
   },
   {
    "duration": -883,
    "start_time": "2021-11-25T08:32:41.327Z"
   },
   {
    "duration": -883,
    "start_time": "2021-11-25T08:32:41.330Z"
   },
   {
    "duration": -885,
    "start_time": "2021-11-25T08:32:41.333Z"
   },
   {
    "duration": -884,
    "start_time": "2021-11-25T08:32:41.335Z"
   },
   {
    "duration": -885,
    "start_time": "2021-11-25T08:32:41.338Z"
   },
   {
    "duration": -886,
    "start_time": "2021-11-25T08:32:41.341Z"
   },
   {
    "duration": -886,
    "start_time": "2021-11-25T08:32:41.343Z"
   },
   {
    "duration": -888,
    "start_time": "2021-11-25T08:32:41.347Z"
   },
   {
    "duration": -888,
    "start_time": "2021-11-25T08:32:41.349Z"
   },
   {
    "duration": -889,
    "start_time": "2021-11-25T08:32:41.352Z"
   },
   {
    "duration": -890,
    "start_time": "2021-11-25T08:32:41.355Z"
   },
   {
    "duration": 4820,
    "start_time": "2021-11-25T08:34:18.097Z"
   },
   {
    "duration": 5440,
    "start_time": "2021-11-25T08:43:46.625Z"
   },
   {
    "duration": 101,
    "start_time": "2021-11-25T08:44:03.434Z"
   },
   {
    "duration": 4725,
    "start_time": "2021-11-25T08:44:07.842Z"
   },
   {
    "duration": 4096,
    "start_time": "2021-11-25T08:44:18.813Z"
   },
   {
    "duration": 1908,
    "start_time": "2021-11-25T11:42:30.708Z"
   },
   {
    "duration": 21541,
    "start_time": "2021-11-25T11:42:33.259Z"
   },
   {
    "duration": 1688,
    "start_time": "2021-11-25T11:43:06.237Z"
   },
   {
    "duration": 58,
    "start_time": "2021-11-25T11:43:09.916Z"
   },
   {
    "duration": 18,
    "start_time": "2021-11-25T11:43:10.900Z"
   },
   {
    "duration": 12,
    "start_time": "2021-11-25T11:43:11.604Z"
   },
   {
    "duration": 9,
    "start_time": "2021-11-25T11:43:59.446Z"
   },
   {
    "duration": 9,
    "start_time": "2021-11-25T11:44:00.041Z"
   },
   {
    "duration": 12,
    "start_time": "2021-11-25T11:44:04.995Z"
   },
   {
    "duration": 31,
    "start_time": "2021-11-25T11:44:09.494Z"
   },
   {
    "duration": 27,
    "start_time": "2021-11-25T11:44:20.776Z"
   },
   {
    "duration": 15,
    "start_time": "2021-11-25T11:44:26.465Z"
   },
   {
    "duration": 687,
    "start_time": "2021-11-25T11:44:30.699Z"
   },
   {
    "duration": 9,
    "start_time": "2021-11-25T11:44:36.314Z"
   },
   {
    "duration": 86,
    "start_time": "2021-11-25T11:44:36.615Z"
   },
   {
    "duration": 13,
    "start_time": "2021-11-25T11:44:39.169Z"
   },
   {
    "duration": 91,
    "start_time": "2021-11-25T11:44:39.396Z"
   },
   {
    "duration": 22,
    "start_time": "2021-11-25T11:44:46.175Z"
   },
   {
    "duration": 77,
    "start_time": "2021-11-25T11:44:46.623Z"
   },
   {
    "duration": 313,
    "start_time": "2021-11-25T11:44:54.117Z"
   },
   {
    "duration": 5,
    "start_time": "2021-11-25T11:45:00.888Z"
   },
   {
    "duration": 9,
    "start_time": "2021-11-25T11:45:02.094Z"
   },
   {
    "duration": 23,
    "start_time": "2021-11-25T11:45:02.677Z"
   },
   {
    "duration": 12,
    "start_time": "2021-11-25T11:45:14.713Z"
   },
   {
    "duration": 83,
    "start_time": "2021-11-25T11:45:15.207Z"
   },
   {
    "duration": 7,
    "start_time": "2021-11-25T11:45:41.261Z"
   },
   {
    "duration": 8421,
    "start_time": "2021-11-25T11:45:43.382Z"
   },
   {
    "duration": 34,
    "start_time": "2021-11-25T11:45:55.256Z"
   },
   {
    "duration": 18,
    "start_time": "2021-11-25T11:46:00.576Z"
   },
   {
    "duration": 90,
    "start_time": "2021-11-25T11:46:12.211Z"
   },
   {
    "duration": 338,
    "start_time": "2021-11-25T11:47:47.337Z"
   },
   {
    "duration": 191,
    "start_time": "2021-11-25T11:49:03.677Z"
   },
   {
    "duration": 10,
    "start_time": "2021-11-25T11:49:10.943Z"
   },
   {
    "duration": 12,
    "start_time": "2021-11-25T11:49:25.970Z"
   },
   {
    "duration": 9,
    "start_time": "2021-11-25T11:49:28.744Z"
   },
   {
    "duration": 247,
    "start_time": "2021-11-25T11:50:38.417Z"
   },
   {
    "duration": 10,
    "start_time": "2021-11-25T11:50:40.400Z"
   },
   {
    "duration": 9,
    "start_time": "2021-11-25T11:50:42.258Z"
   },
   {
    "duration": 23,
    "start_time": "2021-11-25T11:51:39.305Z"
   },
   {
    "duration": 8,
    "start_time": "2021-11-25T11:51:47.770Z"
   },
   {
    "duration": 199,
    "start_time": "2021-11-25T11:52:30.355Z"
   },
   {
    "duration": 9,
    "start_time": "2021-11-25T11:52:31.406Z"
   },
   {
    "duration": 8,
    "start_time": "2021-11-25T11:52:48.787Z"
   },
   {
    "duration": 16,
    "start_time": "2021-11-25T11:53:31.134Z"
   },
   {
    "duration": 18,
    "start_time": "2021-11-25T11:54:03.739Z"
   },
   {
    "duration": 8,
    "start_time": "2021-11-25T11:54:25.010Z"
   },
   {
    "duration": 11,
    "start_time": "2021-11-25T11:54:27.953Z"
   },
   {
    "duration": 232,
    "start_time": "2021-11-25T11:54:33.735Z"
   },
   {
    "duration": 9,
    "start_time": "2021-11-25T11:54:34.195Z"
   },
   {
    "duration": 16,
    "start_time": "2021-11-25T11:54:35.901Z"
   },
   {
    "duration": 11,
    "start_time": "2021-11-25T11:54:36.263Z"
   },
   {
    "duration": 9,
    "start_time": "2021-11-25T11:54:37.193Z"
   },
   {
    "duration": 16,
    "start_time": "2021-11-25T11:54:41.464Z"
   },
   {
    "duration": 16,
    "start_time": "2021-11-25T11:55:07.071Z"
   },
   {
    "duration": 55,
    "start_time": "2021-11-25T11:57:17.577Z"
   },
   {
    "duration": 534,
    "start_time": "2021-11-25T11:57:25.535Z"
   },
   {
    "duration": 56,
    "start_time": "2021-11-25T11:57:29.349Z"
   },
   {
    "duration": 55,
    "start_time": "2021-11-25T11:57:49.191Z"
   },
   {
    "duration": 65,
    "start_time": "2021-11-25T11:58:45.672Z"
   },
   {
    "duration": 65,
    "start_time": "2021-11-25T11:58:58.406Z"
   },
   {
    "duration": 63,
    "start_time": "2021-11-25T11:59:49.698Z"
   },
   {
    "duration": 67,
    "start_time": "2021-11-25T12:00:20.913Z"
   },
   {
    "duration": 57,
    "start_time": "2021-11-25T14:57:54.963Z"
   },
   {
    "duration": 15,
    "start_time": "2021-11-25T14:58:13.054Z"
   },
   {
    "duration": 12,
    "start_time": "2021-11-25T14:59:00.403Z"
   },
   {
    "duration": 33,
    "start_time": "2021-11-25T14:59:08.905Z"
   },
   {
    "duration": 12,
    "start_time": "2021-11-25T14:59:19.148Z"
   },
   {
    "duration": 8,
    "start_time": "2021-11-25T15:02:12.073Z"
   },
   {
    "duration": 19,
    "start_time": "2021-11-25T15:03:20.835Z"
   },
   {
    "duration": 33,
    "start_time": "2021-11-25T15:03:33.646Z"
   },
   {
    "duration": 36,
    "start_time": "2021-11-25T15:04:13.690Z"
   },
   {
    "duration": 10,
    "start_time": "2021-11-25T15:04:22.620Z"
   },
   {
    "duration": 10,
    "start_time": "2021-11-25T15:04:33.635Z"
   },
   {
    "duration": 8,
    "start_time": "2021-11-25T15:04:58.295Z"
   },
   {
    "duration": 8,
    "start_time": "2021-11-25T15:05:02.518Z"
   },
   {
    "duration": 33,
    "start_time": "2021-11-25T15:05:09.534Z"
   },
   {
    "duration": 33,
    "start_time": "2021-11-25T15:05:17.810Z"
   },
   {
    "duration": 33,
    "start_time": "2021-11-25T15:05:29.965Z"
   },
   {
    "duration": 18,
    "start_time": "2021-11-25T15:05:38.536Z"
   },
   {
    "duration": 35,
    "start_time": "2021-11-25T15:05:48.490Z"
   },
   {
    "duration": 34,
    "start_time": "2021-11-25T15:06:04.073Z"
   },
   {
    "duration": 335,
    "start_time": "2021-11-25T15:06:15.912Z"
   },
   {
    "duration": 17,
    "start_time": "2021-11-25T15:06:29.950Z"
   },
   {
    "duration": 324,
    "start_time": "2021-11-25T15:07:05.006Z"
   },
   {
    "duration": 12,
    "start_time": "2021-11-25T15:07:39.188Z"
   },
   {
    "duration": 13,
    "start_time": "2021-11-25T15:07:46.736Z"
   },
   {
    "duration": 7,
    "start_time": "2021-11-25T15:09:17.369Z"
   },
   {
    "duration": 5,
    "start_time": "2021-11-25T15:09:23.036Z"
   },
   {
    "duration": 102,
    "start_time": "2021-11-25T15:09:24.407Z"
   },
   {
    "duration": 1460,
    "start_time": "2021-11-26T07:58:47.439Z"
   },
   {
    "duration": 14438,
    "start_time": "2021-11-26T07:58:48.901Z"
   },
   {
    "duration": 51,
    "start_time": "2021-11-26T07:59:03.341Z"
   },
   {
    "duration": 14,
    "start_time": "2021-11-26T07:59:03.394Z"
   },
   {
    "duration": 27,
    "start_time": "2021-11-26T07:59:03.410Z"
   },
   {
    "duration": 12,
    "start_time": "2021-11-26T07:59:03.438Z"
   },
   {
    "duration": 11,
    "start_time": "2021-11-26T07:59:03.452Z"
   },
   {
    "duration": 14,
    "start_time": "2021-11-26T07:59:03.465Z"
   },
   {
    "duration": 25,
    "start_time": "2021-11-26T07:59:03.481Z"
   },
   {
    "duration": 22,
    "start_time": "2021-11-26T07:59:03.508Z"
   },
   {
    "duration": 8,
    "start_time": "2021-11-26T07:59:03.532Z"
   },
   {
    "duration": 869,
    "start_time": "2021-11-26T07:59:03.542Z"
   },
   {
    "duration": 6,
    "start_time": "2021-11-26T07:59:04.412Z"
   },
   {
    "duration": 359,
    "start_time": "2021-11-26T07:59:04.420Z"
   },
   {
    "duration": 12,
    "start_time": "2021-11-26T07:59:04.781Z"
   },
   {
    "duration": 382,
    "start_time": "2021-11-26T07:59:04.806Z"
   },
   {
    "duration": 26,
    "start_time": "2021-11-26T07:59:05.190Z"
   },
   {
    "duration": 624,
    "start_time": "2021-11-26T07:59:05.218Z"
   },
   {
    "duration": -772,
    "start_time": "2021-11-26T07:59:06.616Z"
   },
   {
    "duration": -775,
    "start_time": "2021-11-26T07:59:06.620Z"
   },
   {
    "duration": -776,
    "start_time": "2021-11-26T07:59:06.622Z"
   },
   {
    "duration": -778,
    "start_time": "2021-11-26T07:59:06.625Z"
   },
   {
    "duration": -779,
    "start_time": "2021-11-26T07:59:06.627Z"
   },
   {
    "duration": -781,
    "start_time": "2021-11-26T07:59:06.630Z"
   },
   {
    "duration": -782,
    "start_time": "2021-11-26T07:59:06.632Z"
   },
   {
    "duration": -783,
    "start_time": "2021-11-26T07:59:06.635Z"
   },
   {
    "duration": -785,
    "start_time": "2021-11-26T07:59:06.638Z"
   },
   {
    "duration": -787,
    "start_time": "2021-11-26T07:59:06.641Z"
   },
   {
    "duration": -788,
    "start_time": "2021-11-26T07:59:06.643Z"
   },
   {
    "duration": -791,
    "start_time": "2021-11-26T07:59:06.646Z"
   },
   {
    "duration": -793,
    "start_time": "2021-11-26T07:59:06.649Z"
   },
   {
    "duration": -794,
    "start_time": "2021-11-26T07:59:06.652Z"
   },
   {
    "duration": -795,
    "start_time": "2021-11-26T07:59:06.654Z"
   },
   {
    "duration": -798,
    "start_time": "2021-11-26T07:59:06.658Z"
   },
   {
    "duration": -799,
    "start_time": "2021-11-26T07:59:06.660Z"
   },
   {
    "duration": -823,
    "start_time": "2021-11-26T07:59:06.685Z"
   },
   {
    "duration": -828,
    "start_time": "2021-11-26T07:59:06.691Z"
   },
   {
    "duration": -833,
    "start_time": "2021-11-26T07:59:06.697Z"
   },
   {
    "duration": 1263,
    "start_time": "2021-11-26T07:59:12.052Z"
   },
   {
    "duration": 2562,
    "start_time": "2021-11-26T07:59:13.317Z"
   },
   {
    "duration": 50,
    "start_time": "2021-11-26T07:59:15.881Z"
   },
   {
    "duration": 346,
    "start_time": "2021-11-26T07:59:15.933Z"
   },
   {
    "duration": 17,
    "start_time": "2021-11-26T07:59:16.281Z"
   },
   {
    "duration": 8,
    "start_time": "2021-11-26T07:59:16.299Z"
   },
   {
    "duration": 12,
    "start_time": "2021-11-26T07:59:16.308Z"
   },
   {
    "duration": 11,
    "start_time": "2021-11-26T07:59:16.324Z"
   },
   {
    "duration": 21,
    "start_time": "2021-11-26T07:59:16.338Z"
   },
   {
    "duration": 30,
    "start_time": "2021-11-26T07:59:16.361Z"
   },
   {
    "duration": 22,
    "start_time": "2021-11-26T07:59:16.393Z"
   },
   {
    "duration": 516,
    "start_time": "2021-11-26T07:59:16.417Z"
   },
   {
    "duration": 5,
    "start_time": "2021-11-26T07:59:16.935Z"
   },
   {
    "duration": 101,
    "start_time": "2021-11-26T07:59:16.942Z"
   },
   {
    "duration": 61,
    "start_time": "2021-11-26T07:59:17.045Z"
   },
   {
    "duration": 64,
    "start_time": "2021-11-26T07:59:17.108Z"
   },
   {
    "duration": 42,
    "start_time": "2021-11-26T07:59:17.174Z"
   },
   {
    "duration": 46,
    "start_time": "2021-11-26T07:59:17.219Z"
   },
   {
    "duration": 211,
    "start_time": "2021-11-26T07:59:17.267Z"
   },
   {
    "duration": 3,
    "start_time": "2021-11-26T07:59:17.480Z"
   },
   {
    "duration": 22,
    "start_time": "2021-11-26T07:59:17.485Z"
   },
   {
    "duration": 13,
    "start_time": "2021-11-26T07:59:17.509Z"
   },
   {
    "duration": 8,
    "start_time": "2021-11-26T07:59:17.525Z"
   },
   {
    "duration": 102,
    "start_time": "2021-11-26T07:59:17.535Z"
   },
   {
    "duration": 4,
    "start_time": "2021-11-26T07:59:17.639Z"
   },
   {
    "duration": 3886,
    "start_time": "2021-11-26T07:59:17.645Z"
   },
   {
    "duration": 22,
    "start_time": "2021-11-26T07:59:21.533Z"
   },
   {
    "duration": 68,
    "start_time": "2021-11-26T07:59:21.557Z"
   },
   {
    "duration": 248,
    "start_time": "2021-11-26T07:59:21.627Z"
   },
   {
    "duration": 6,
    "start_time": "2021-11-26T07:59:21.876Z"
   },
   {
    "duration": 11,
    "start_time": "2021-11-26T07:59:21.884Z"
   },
   {
    "duration": 12,
    "start_time": "2021-11-26T07:59:21.897Z"
   },
   {
    "duration": 5,
    "start_time": "2021-11-26T07:59:21.911Z"
   },
   {
    "duration": 8,
    "start_time": "2021-11-26T07:59:21.918Z"
   },
   {
    "duration": 6,
    "start_time": "2021-11-26T07:59:21.928Z"
   },
   {
    "duration": 13,
    "start_time": "2021-11-26T07:59:21.936Z"
   },
   {
    "duration": 3,
    "start_time": "2021-11-26T07:59:21.950Z"
   },
   {
    "duration": 80,
    "start_time": "2021-11-26T07:59:21.954Z"
   },
   {
    "duration": 52,
    "start_time": "2021-11-26T08:00:12.857Z"
   },
   {
    "duration": 59,
    "start_time": "2021-11-26T08:02:48.504Z"
   },
   {
    "duration": 58,
    "start_time": "2021-11-26T08:02:54.294Z"
   },
   {
    "duration": 58,
    "start_time": "2021-11-26T08:03:09.402Z"
   },
   {
    "duration": 50,
    "start_time": "2021-11-26T08:03:16.530Z"
   },
   {
    "duration": 333,
    "start_time": "2021-12-11T07:58:11.484Z"
   },
   {
    "duration": 1482,
    "start_time": "2021-12-11T07:58:24.452Z"
   },
   {
    "duration": 13201,
    "start_time": "2021-12-11T07:58:27.089Z"
   },
   {
    "duration": 47,
    "start_time": "2021-12-11T07:58:44.802Z"
   },
   {
    "duration": 12,
    "start_time": "2021-12-11T07:59:46.310Z"
   },
   {
    "duration": 9,
    "start_time": "2021-12-11T07:59:46.499Z"
   },
   {
    "duration": 7,
    "start_time": "2021-12-11T08:01:15.519Z"
   },
   {
    "duration": 8,
    "start_time": "2021-12-11T08:01:15.779Z"
   },
   {
    "duration": 9,
    "start_time": "2021-12-11T08:01:17.023Z"
   },
   {
    "duration": 21,
    "start_time": "2021-12-11T08:01:18.240Z"
   },
   {
    "duration": 13,
    "start_time": "2021-12-11T08:02:24.459Z"
   },
   {
    "duration": 23,
    "start_time": "2021-12-11T08:02:33.366Z"
   },
   {
    "duration": 16,
    "start_time": "2021-12-11T08:03:50.440Z"
   },
   {
    "duration": 15,
    "start_time": "2021-12-11T08:03:59.375Z"
   },
   {
    "duration": 16,
    "start_time": "2021-12-11T08:08:59.313Z"
   },
   {
    "duration": 19,
    "start_time": "2021-12-11T08:09:14.594Z"
   },
   {
    "duration": 19,
    "start_time": "2021-12-11T08:09:46.128Z"
   },
   {
    "duration": 16,
    "start_time": "2021-12-11T08:12:01.604Z"
   },
   {
    "duration": 18,
    "start_time": "2021-12-11T08:12:13.500Z"
   },
   {
    "duration": 18,
    "start_time": "2021-12-11T08:12:17.565Z"
   },
   {
    "duration": 16,
    "start_time": "2021-12-11T08:12:49.511Z"
   },
   {
    "duration": 21,
    "start_time": "2021-12-11T08:13:45.083Z"
   },
   {
    "duration": 2,
    "start_time": "2021-12-11T08:14:13.614Z"
   },
   {
    "duration": 411,
    "start_time": "2021-12-11T08:14:55.381Z"
   },
   {
    "duration": 288,
    "start_time": "2021-12-11T08:15:39.169Z"
   },
   {
    "duration": 15,
    "start_time": "2021-12-11T08:18:21.840Z"
   },
   {
    "duration": 16,
    "start_time": "2021-12-11T08:19:08.025Z"
   },
   {
    "duration": 6,
    "start_time": "2021-12-11T08:19:15.309Z"
   },
   {
    "duration": 8,
    "start_time": "2021-12-11T08:19:17.750Z"
   },
   {
    "duration": 860,
    "start_time": "2021-12-11T08:19:31.373Z"
   },
   {
    "duration": 239,
    "start_time": "2021-12-11T08:25:28.992Z"
   },
   {
    "duration": 353,
    "start_time": "2021-12-11T08:25:35.259Z"
   },
   {
    "duration": 6,
    "start_time": "2021-12-11T08:31:00.846Z"
   },
   {
    "duration": 244,
    "start_time": "2021-12-11T08:31:01.201Z"
   },
   {
    "duration": 304,
    "start_time": "2021-12-11T08:31:26.934Z"
   },
   {
    "duration": 1278,
    "start_time": "2021-12-11T08:31:58.960Z"
   },
   {
    "duration": 2547,
    "start_time": "2021-12-11T08:32:00.240Z"
   },
   {
    "duration": 49,
    "start_time": "2021-12-11T08:32:02.790Z"
   },
   {
    "duration": 12,
    "start_time": "2021-12-11T08:32:02.841Z"
   },
   {
    "duration": 35,
    "start_time": "2021-12-11T08:32:02.855Z"
   },
   {
    "duration": 24,
    "start_time": "2021-12-11T08:32:02.892Z"
   },
   {
    "duration": 23,
    "start_time": "2021-12-11T08:32:02.918Z"
   },
   {
    "duration": 27,
    "start_time": "2021-12-11T08:32:02.944Z"
   },
   {
    "duration": 32,
    "start_time": "2021-12-11T08:32:02.973Z"
   },
   {
    "duration": 34,
    "start_time": "2021-12-11T08:32:03.007Z"
   },
   {
    "duration": 25,
    "start_time": "2021-12-11T08:32:03.043Z"
   },
   {
    "duration": 46,
    "start_time": "2021-12-11T08:32:03.070Z"
   },
   {
    "duration": 33,
    "start_time": "2021-12-11T08:32:03.118Z"
   },
   {
    "duration": 32,
    "start_time": "2021-12-11T08:32:03.152Z"
   },
   {
    "duration": 1248,
    "start_time": "2021-12-11T08:32:39.206Z"
   },
   {
    "duration": 2,
    "start_time": "2021-12-11T08:32:40.457Z"
   },
   {
    "duration": 54,
    "start_time": "2021-12-11T08:32:40.461Z"
   },
   {
    "duration": 12,
    "start_time": "2021-12-11T08:32:40.516Z"
   },
   {
    "duration": 15,
    "start_time": "2021-12-11T08:32:40.530Z"
   },
   {
    "duration": 7,
    "start_time": "2021-12-11T08:32:40.547Z"
   },
   {
    "duration": 15,
    "start_time": "2021-12-11T08:32:40.555Z"
   },
   {
    "duration": 17,
    "start_time": "2021-12-11T08:32:40.573Z"
   },
   {
    "duration": 22,
    "start_time": "2021-12-11T08:32:40.592Z"
   },
   {
    "duration": 33,
    "start_time": "2021-12-11T08:32:40.615Z"
   },
   {
    "duration": 26,
    "start_time": "2021-12-11T08:32:40.649Z"
   },
   {
    "duration": 16,
    "start_time": "2021-12-11T08:32:40.677Z"
   },
   {
    "duration": 5,
    "start_time": "2021-12-11T08:32:40.695Z"
   },
   {
    "duration": 12,
    "start_time": "2021-12-11T08:32:40.701Z"
   },
   {
    "duration": 494,
    "start_time": "2021-12-11T08:32:40.715Z"
   },
   {
    "duration": 6,
    "start_time": "2021-12-11T08:32:41.210Z"
   },
   {
    "duration": 210,
    "start_time": "2021-12-11T08:32:41.218Z"
   },
   {
    "duration": 50,
    "start_time": "2021-12-11T08:32:41.380Z"
   },
   {
    "duration": 46,
    "start_time": "2021-12-11T08:32:41.385Z"
   },
   {
    "duration": 44,
    "start_time": "2021-12-11T08:32:41.388Z"
   },
   {
    "duration": 40,
    "start_time": "2021-12-11T08:32:41.393Z"
   },
   {
    "duration": 34,
    "start_time": "2021-12-11T08:32:41.399Z"
   },
   {
    "duration": 31,
    "start_time": "2021-12-11T08:32:41.403Z"
   },
   {
    "duration": 29,
    "start_time": "2021-12-11T08:32:41.406Z"
   },
   {
    "duration": 27,
    "start_time": "2021-12-11T08:32:41.409Z"
   },
   {
    "duration": 17,
    "start_time": "2021-12-11T08:32:41.420Z"
   },
   {
    "duration": 12,
    "start_time": "2021-12-11T08:32:41.426Z"
   },
   {
    "duration": 8,
    "start_time": "2021-12-11T08:32:41.431Z"
   },
   {
    "duration": 5,
    "start_time": "2021-12-11T08:32:41.435Z"
   },
   {
    "duration": 2,
    "start_time": "2021-12-11T08:32:41.439Z"
   },
   {
    "duration": -4,
    "start_time": "2021-12-11T08:32:41.445Z"
   },
   {
    "duration": -7,
    "start_time": "2021-12-11T08:32:41.450Z"
   },
   {
    "duration": -11,
    "start_time": "2021-12-11T08:32:41.455Z"
   },
   {
    "duration": -30,
    "start_time": "2021-12-11T08:32:41.475Z"
   },
   {
    "duration": -34,
    "start_time": "2021-12-11T08:32:41.480Z"
   },
   {
    "duration": -38,
    "start_time": "2021-12-11T08:32:41.485Z"
   },
   {
    "duration": -40,
    "start_time": "2021-12-11T08:32:41.488Z"
   },
   {
    "duration": -43,
    "start_time": "2021-12-11T08:32:41.492Z"
   },
   {
    "duration": -47,
    "start_time": "2021-12-11T08:32:41.497Z"
   },
   {
    "duration": -49,
    "start_time": "2021-12-11T08:32:41.499Z"
   },
   {
    "duration": -52,
    "start_time": "2021-12-11T08:32:41.503Z"
   },
   {
    "duration": 62,
    "start_time": "2021-12-11T08:32:47.909Z"
   },
   {
    "duration": 94,
    "start_time": "2021-12-11T08:33:27.868Z"
   },
   {
    "duration": 48,
    "start_time": "2021-12-11T08:33:30.439Z"
   },
   {
    "duration": 43,
    "start_time": "2021-12-11T08:33:42.086Z"
   },
   {
    "duration": 43,
    "start_time": "2021-12-11T08:33:52.444Z"
   },
   {
    "duration": 41,
    "start_time": "2021-12-11T08:33:57.709Z"
   },
   {
    "duration": 10,
    "start_time": "2021-12-11T08:35:06.301Z"
   },
   {
    "duration": 56,
    "start_time": "2021-12-11T08:35:06.618Z"
   },
   {
    "duration": 5,
    "start_time": "2021-12-11T08:37:18.939Z"
   },
   {
    "duration": 18,
    "start_time": "2021-12-11T08:37:28.435Z"
   },
   {
    "duration": 10,
    "start_time": "2021-12-11T08:38:20.833Z"
   },
   {
    "duration": 15,
    "start_time": "2021-12-11T08:39:40.050Z"
   },
   {
    "duration": 17,
    "start_time": "2021-12-11T08:39:55.049Z"
   },
   {
    "duration": 11,
    "start_time": "2021-12-11T08:40:26.122Z"
   },
   {
    "duration": 9,
    "start_time": "2021-12-11T08:40:28.211Z"
   },
   {
    "duration": 15,
    "start_time": "2021-12-11T08:40:37.747Z"
   },
   {
    "duration": 7,
    "start_time": "2021-12-11T08:41:16.150Z"
   },
   {
    "duration": 9,
    "start_time": "2021-12-11T08:41:27.186Z"
   },
   {
    "duration": 434,
    "start_time": "2021-12-11T08:41:53.735Z"
   },
   {
    "duration": 875,
    "start_time": "2021-12-11T08:42:35.834Z"
   },
   {
    "duration": 1395,
    "start_time": "2021-12-11T08:43:00.860Z"
   },
   {
    "duration": 2,
    "start_time": "2021-12-11T08:43:02.257Z"
   },
   {
    "duration": 53,
    "start_time": "2021-12-11T08:43:02.261Z"
   },
   {
    "duration": 12,
    "start_time": "2021-12-11T08:43:02.935Z"
   },
   {
    "duration": 9,
    "start_time": "2021-12-11T08:43:03.186Z"
   },
   {
    "duration": 6,
    "start_time": "2021-12-11T08:43:04.250Z"
   },
   {
    "duration": 7,
    "start_time": "2021-12-11T08:43:04.414Z"
   },
   {
    "duration": 11,
    "start_time": "2021-12-11T08:43:04.924Z"
   },
   {
    "duration": 34,
    "start_time": "2021-12-11T08:43:05.548Z"
   },
   {
    "duration": 20,
    "start_time": "2021-12-11T08:43:06.996Z"
   },
   {
    "duration": 22,
    "start_time": "2021-12-11T08:43:11.008Z"
   },
   {
    "duration": 15,
    "start_time": "2021-12-11T08:43:12.715Z"
   },
   {
    "duration": 15,
    "start_time": "2021-12-11T08:43:17.203Z"
   },
   {
    "duration": 363,
    "start_time": "2021-12-11T08:43:29.549Z"
   },
   {
    "duration": 9,
    "start_time": "2021-12-11T08:43:39.719Z"
   },
   {
    "duration": 308,
    "start_time": "2021-12-11T08:43:50.301Z"
   },
   {
    "duration": 25,
    "start_time": "2021-12-11T08:43:56.961Z"
   },
   {
    "duration": 7,
    "start_time": "2021-12-11T08:43:57.508Z"
   },
   {
    "duration": 19,
    "start_time": "2021-12-11T08:44:05.700Z"
   },
   {
    "duration": 22,
    "start_time": "2021-12-11T08:44:16.796Z"
   },
   {
    "duration": 19,
    "start_time": "2021-12-11T08:44:25.062Z"
   },
   {
    "duration": 4,
    "start_time": "2021-12-11T08:44:36.701Z"
   },
   {
    "duration": 9,
    "start_time": "2021-12-11T08:44:38.265Z"
   },
   {
    "duration": 474,
    "start_time": "2021-12-11T08:44:40.416Z"
   },
   {
    "duration": 7,
    "start_time": "2021-12-11T08:44:46.277Z"
   },
   {
    "duration": 46,
    "start_time": "2021-12-11T08:44:46.545Z"
   },
   {
    "duration": 8,
    "start_time": "2021-12-11T08:45:05.292Z"
   },
   {
    "duration": 12,
    "start_time": "2021-12-11T08:45:10.045Z"
   },
   {
    "duration": 10,
    "start_time": "2021-12-11T08:45:15.737Z"
   },
   {
    "duration": 6,
    "start_time": "2021-12-11T08:45:22.037Z"
   },
   {
    "duration": 9,
    "start_time": "2021-12-11T08:45:26.911Z"
   },
   {
    "duration": 8,
    "start_time": "2021-12-11T08:45:27.635Z"
   },
   {
    "duration": 7,
    "start_time": "2021-12-11T08:45:45.742Z"
   },
   {
    "duration": 10,
    "start_time": "2021-12-11T08:45:53.057Z"
   },
   {
    "duration": 7,
    "start_time": "2021-12-11T08:46:53.635Z"
   },
   {
    "duration": 10,
    "start_time": "2021-12-11T08:47:06.421Z"
   },
   {
    "duration": 8,
    "start_time": "2021-12-11T08:47:24.787Z"
   },
   {
    "duration": 122,
    "start_time": "2021-12-11T08:47:25.327Z"
   },
   {
    "duration": 7,
    "start_time": "2021-12-11T08:47:30.457Z"
   },
   {
    "duration": 552,
    "start_time": "2021-12-11T08:47:43.786Z"
   },
   {
    "duration": 50,
    "start_time": "2021-12-11T08:47:50.187Z"
   },
   {
    "duration": 50,
    "start_time": "2021-12-11T08:48:32.936Z"
   },
   {
    "duration": 51,
    "start_time": "2021-12-11T08:49:11.414Z"
   },
   {
    "duration": 8,
    "start_time": "2021-12-11T08:49:57.100Z"
   },
   {
    "duration": 9,
    "start_time": "2021-12-11T08:50:00.589Z"
   },
   {
    "duration": 9,
    "start_time": "2021-12-11T08:50:05.962Z"
   },
   {
    "duration": 8,
    "start_time": "2021-12-11T08:50:10.293Z"
   },
   {
    "duration": 6,
    "start_time": "2021-12-11T08:50:21.909Z"
   },
   {
    "duration": 7,
    "start_time": "2021-12-11T08:50:23.332Z"
   },
   {
    "duration": 54,
    "start_time": "2021-12-11T08:50:25.626Z"
   },
   {
    "duration": 51,
    "start_time": "2021-12-11T08:50:47.225Z"
   },
   {
    "duration": 48,
    "start_time": "2021-12-11T08:50:55.110Z"
   },
   {
    "duration": 48,
    "start_time": "2021-12-11T08:50:57.568Z"
   },
   {
    "duration": 49,
    "start_time": "2021-12-11T08:51:07.196Z"
   },
   {
    "duration": 51,
    "start_time": "2021-12-11T08:51:10.968Z"
   },
   {
    "duration": 49,
    "start_time": "2021-12-11T08:51:13.243Z"
   },
   {
    "duration": 53,
    "start_time": "2021-12-11T08:51:16.831Z"
   },
   {
    "duration": 7,
    "start_time": "2021-12-11T08:52:00.769Z"
   },
   {
    "duration": 6,
    "start_time": "2021-12-11T08:52:03.212Z"
   },
   {
    "duration": 7,
    "start_time": "2021-12-11T08:52:15.965Z"
   },
   {
    "duration": 6,
    "start_time": "2021-12-11T08:52:50.881Z"
   },
   {
    "duration": 86,
    "start_time": "2021-12-11T08:52:55.734Z"
   },
   {
    "duration": 80,
    "start_time": "2021-12-11T08:53:17.180Z"
   },
   {
    "duration": 69,
    "start_time": "2021-12-11T10:16:18.263Z"
   },
   {
    "duration": 11,
    "start_time": "2021-12-11T10:20:04.668Z"
   },
   {
    "duration": 47,
    "start_time": "2021-12-11T10:20:05.228Z"
   },
   {
    "duration": 41,
    "start_time": "2021-12-11T10:20:35.679Z"
   },
   {
    "duration": 3,
    "start_time": "2021-12-11T10:24:26.553Z"
   },
   {
    "duration": 11,
    "start_time": "2021-12-11T10:24:49.019Z"
   },
   {
    "duration": 12,
    "start_time": "2021-12-11T10:26:12.216Z"
   },
   {
    "duration": 5,
    "start_time": "2021-12-11T10:26:26.161Z"
   },
   {
    "duration": 10,
    "start_time": "2021-12-11T10:26:31.040Z"
   },
   {
    "duration": 5,
    "start_time": "2021-12-11T10:28:56.674Z"
   },
   {
    "duration": 4,
    "start_time": "2021-12-11T10:29:59.831Z"
   },
   {
    "duration": 4,
    "start_time": "2021-12-11T10:30:34.962Z"
   },
   {
    "duration": 4,
    "start_time": "2021-12-11T10:30:40.762Z"
   },
   {
    "duration": 9,
    "start_time": "2021-12-11T10:31:52.908Z"
   },
   {
    "duration": 380,
    "start_time": "2021-12-11T10:34:14.447Z"
   },
   {
    "duration": 276,
    "start_time": "2021-12-11T10:34:17.933Z"
   },
   {
    "duration": 132,
    "start_time": "2021-12-11T10:34:20.422Z"
   },
   {
    "duration": 13,
    "start_time": "2021-12-11T10:34:29.407Z"
   },
   {
    "duration": 6,
    "start_time": "2021-12-11T10:35:02.713Z"
   },
   {
    "duration": 7,
    "start_time": "2021-12-11T10:35:54.376Z"
   },
   {
    "duration": 10,
    "start_time": "2021-12-11T10:36:10.983Z"
   },
   {
    "duration": 14,
    "start_time": "2021-12-11T10:36:29.994Z"
   },
   {
    "duration": 16,
    "start_time": "2021-12-11T10:36:46.476Z"
   },
   {
    "duration": 4,
    "start_time": "2021-12-11T10:37:18.802Z"
   },
   {
    "duration": 4,
    "start_time": "2021-12-11T10:37:22.121Z"
   },
   {
    "duration": 181,
    "start_time": "2021-12-11T10:38:23.502Z"
   },
   {
    "duration": 4,
    "start_time": "2021-12-11T10:38:29.997Z"
   },
   {
    "duration": 8,
    "start_time": "2021-12-11T10:38:30.358Z"
   },
   {
    "duration": 17,
    "start_time": "2021-12-11T10:38:31.131Z"
   },
   {
    "duration": 11,
    "start_time": "2021-12-11T10:38:35.303Z"
   },
   {
    "duration": 50,
    "start_time": "2021-12-11T10:38:35.823Z"
   },
   {
    "duration": 5,
    "start_time": "2021-12-11T10:38:55.236Z"
   },
   {
    "duration": 2008,
    "start_time": "2021-12-11T10:39:55.897Z"
   },
   {
    "duration": 10851,
    "start_time": "2021-12-11T10:40:29.821Z"
   },
   {
    "duration": 5,
    "start_time": "2021-12-11T10:41:29.080Z"
   },
   {
    "duration": 1858,
    "start_time": "2021-12-11T10:41:57.934Z"
   },
   {
    "duration": 17,
    "start_time": "2021-12-11T10:42:05.913Z"
   },
   {
    "duration": 1948,
    "start_time": "2021-12-11T10:42:30.927Z"
   },
   {
    "duration": 18,
    "start_time": "2021-12-11T10:44:07.585Z"
   },
   {
    "duration": 52,
    "start_time": "2021-12-11T10:44:08.005Z"
   },
   {
    "duration": 233,
    "start_time": "2021-12-11T10:44:12.230Z"
   },
   {
    "duration": 8,
    "start_time": "2021-12-11T10:44:12.601Z"
   },
   {
    "duration": 11,
    "start_time": "2021-12-11T10:44:14.676Z"
   },
   {
    "duration": 8,
    "start_time": "2021-12-11T10:44:15.064Z"
   },
   {
    "duration": 6,
    "start_time": "2021-12-11T10:44:15.561Z"
   },
   {
    "duration": 10,
    "start_time": "2021-12-11T10:44:17.847Z"
   },
   {
    "duration": 17,
    "start_time": "2021-12-11T10:45:57.543Z"
   },
   {
    "duration": 10,
    "start_time": "2021-12-11T10:53:19.186Z"
   },
   {
    "duration": 21,
    "start_time": "2021-12-11T10:53:35.804Z"
   },
   {
    "duration": 31,
    "start_time": "2021-12-11T10:54:28.903Z"
   },
   {
    "duration": 24,
    "start_time": "2021-12-11T10:55:34.190Z"
   },
   {
    "duration": 18,
    "start_time": "2021-12-11T10:55:43.853Z"
   },
   {
    "duration": 21,
    "start_time": "2021-12-11T10:55:48.472Z"
   },
   {
    "duration": 10,
    "start_time": "2021-12-11T10:56:18.972Z"
   },
   {
    "duration": 18,
    "start_time": "2021-12-11T10:56:44.939Z"
   },
   {
    "duration": 13,
    "start_time": "2021-12-11T10:57:15.748Z"
   },
   {
    "duration": 13,
    "start_time": "2021-12-11T10:57:27.015Z"
   },
   {
    "duration": 11,
    "start_time": "2021-12-11T10:57:41.308Z"
   },
   {
    "duration": 7,
    "start_time": "2021-12-11T10:58:54.749Z"
   },
   {
    "duration": 82,
    "start_time": "2021-12-11T10:59:04.075Z"
   },
   {
    "duration": 89,
    "start_time": "2021-12-11T10:59:10.339Z"
   },
   {
    "duration": 52,
    "start_time": "2021-12-11T10:59:41.484Z"
   },
   {
    "duration": 50,
    "start_time": "2021-12-11T11:00:00.259Z"
   },
   {
    "duration": 52,
    "start_time": "2021-12-11T11:00:16.184Z"
   },
   {
    "duration": 6,
    "start_time": "2021-12-11T11:02:23.650Z"
   },
   {
    "duration": 86,
    "start_time": "2021-12-11T11:04:15.241Z"
   },
   {
    "duration": 88,
    "start_time": "2021-12-11T11:04:33.920Z"
   },
   {
    "duration": 85,
    "start_time": "2021-12-11T11:04:38.049Z"
   },
   {
    "duration": 16,
    "start_time": "2021-12-11T12:01:49.618Z"
   },
   {
    "duration": 172,
    "start_time": "2021-12-11T12:06:00.448Z"
   },
   {
    "duration": 15,
    "start_time": "2021-12-11T12:06:03.615Z"
   },
   {
    "duration": 23,
    "start_time": "2021-12-11T12:06:07.494Z"
   },
   {
    "duration": 25,
    "start_time": "2021-12-11T12:07:04.247Z"
   },
   {
    "duration": 21,
    "start_time": "2021-12-11T12:07:26.836Z"
   },
   {
    "duration": 10,
    "start_time": "2021-12-11T12:07:32.765Z"
   },
   {
    "duration": 16,
    "start_time": "2021-12-11T12:08:12.333Z"
   },
   {
    "duration": 14,
    "start_time": "2021-12-11T12:08:28.029Z"
   },
   {
    "duration": 16,
    "start_time": "2021-12-11T12:08:30.990Z"
   },
   {
    "duration": 10,
    "start_time": "2021-12-11T12:09:04.268Z"
   },
   {
    "duration": 6,
    "start_time": "2021-12-11T12:09:26.268Z"
   },
   {
    "duration": 4,
    "start_time": "2021-12-11T12:09:36.846Z"
   },
   {
    "duration": 307,
    "start_time": "2021-12-11T12:09:58.497Z"
   },
   {
    "duration": 15,
    "start_time": "2021-12-11T12:10:05.737Z"
   },
   {
    "duration": 323,
    "start_time": "2021-12-11T12:10:23.490Z"
   },
   {
    "duration": 4,
    "start_time": "2021-12-11T12:10:36.177Z"
   },
   {
    "duration": 14,
    "start_time": "2021-12-11T12:10:37.912Z"
   },
   {
    "duration": 5,
    "start_time": "2021-12-11T12:11:14.014Z"
   },
   {
    "duration": 53,
    "start_time": "2021-12-11T12:11:16.183Z"
   },
   {
    "duration": 5,
    "start_time": "2021-12-11T12:11:25.968Z"
   },
   {
    "duration": 9,
    "start_time": "2021-12-11T12:11:30.459Z"
   },
   {
    "duration": 54,
    "start_time": "2021-12-11T12:14:07.650Z"
   },
   {
    "duration": 6,
    "start_time": "2021-12-11T12:14:40.092Z"
   },
   {
    "duration": 12,
    "start_time": "2021-12-11T12:14:45.584Z"
   },
   {
    "duration": 28,
    "start_time": "2021-12-11T12:15:20.993Z"
   },
   {
    "duration": 588,
    "start_time": "2021-12-11T12:17:09.224Z"
   },
   {
    "duration": 13,
    "start_time": "2021-12-11T12:17:16.764Z"
   },
   {
    "duration": 20,
    "start_time": "2021-12-11T12:17:36.170Z"
   },
   {
    "duration": 18,
    "start_time": "2021-12-11T12:18:03.251Z"
   },
   {
    "duration": 11,
    "start_time": "2021-12-11T12:18:29.590Z"
   },
   {
    "duration": 10,
    "start_time": "2021-12-11T12:18:59.973Z"
   },
   {
    "duration": 10,
    "start_time": "2021-12-11T12:19:08.784Z"
   },
   {
    "duration": 12,
    "start_time": "2021-12-11T12:19:15.043Z"
   },
   {
    "duration": 16,
    "start_time": "2021-12-11T12:19:39.398Z"
   },
   {
    "duration": 16,
    "start_time": "2021-12-11T12:20:07.382Z"
   },
   {
    "duration": 15,
    "start_time": "2021-12-11T12:20:11.373Z"
   },
   {
    "duration": 128,
    "start_time": "2021-12-11T12:20:21.142Z"
   },
   {
    "duration": 13,
    "start_time": "2021-12-11T12:20:27.133Z"
   },
   {
    "duration": 9,
    "start_time": "2021-12-11T12:21:00.728Z"
   },
   {
    "duration": 4,
    "start_time": "2021-12-11T12:21:12.276Z"
   },
   {
    "duration": 86,
    "start_time": "2021-12-11T12:21:28.713Z"
   },
   {
    "duration": 4,
    "start_time": "2021-12-11T12:21:31.055Z"
   },
   {
    "duration": 5,
    "start_time": "2021-12-11T12:21:41.464Z"
   },
   {
    "duration": 19,
    "start_time": "2021-12-11T12:23:02.010Z"
   },
   {
    "duration": 15,
    "start_time": "2021-12-11T12:23:28.342Z"
   },
   {
    "duration": 20,
    "start_time": "2021-12-11T12:23:46.251Z"
   },
   {
    "duration": 8,
    "start_time": "2021-12-11T12:24:20.756Z"
   },
   {
    "duration": 5,
    "start_time": "2021-12-11T12:24:31.067Z"
   },
   {
    "duration": 5,
    "start_time": "2021-12-11T12:24:40.182Z"
   },
   {
    "duration": 14,
    "start_time": "2021-12-11T12:25:11.719Z"
   },
   {
    "duration": 15,
    "start_time": "2021-12-11T12:25:39.754Z"
   },
   {
    "duration": 9,
    "start_time": "2021-12-11T12:31:04.855Z"
   },
   {
    "duration": 5,
    "start_time": "2021-12-11T12:31:05.839Z"
   },
   {
    "duration": 16,
    "start_time": "2021-12-11T12:31:07.256Z"
   },
   {
    "duration": 4,
    "start_time": "2021-12-11T12:31:38.479Z"
   },
   {
    "duration": 59,
    "start_time": "2021-12-11T12:31:41.379Z"
   },
   {
    "duration": 10,
    "start_time": "2021-12-11T12:32:09.615Z"
   },
   {
    "duration": 8,
    "start_time": "2021-12-11T12:32:21.906Z"
   },
   {
    "duration": 5,
    "start_time": "2021-12-11T12:32:38.992Z"
   },
   {
    "duration": 55,
    "start_time": "2021-12-11T12:32:42.550Z"
   },
   {
    "duration": 3,
    "start_time": "2021-12-11T12:35:56.024Z"
   },
   {
    "duration": 23,
    "start_time": "2021-12-11T12:36:32.484Z"
   },
   {
    "duration": 412,
    "start_time": "2021-12-11T12:36:51.137Z"
   },
   {
    "duration": 73,
    "start_time": "2021-12-11T12:37:15.840Z"
   },
   {
    "duration": 121,
    "start_time": "2021-12-11T12:37:28.774Z"
   },
   {
    "duration": 120,
    "start_time": "2021-12-11T12:37:59.341Z"
   },
   {
    "duration": 71,
    "start_time": "2021-12-11T12:38:06.268Z"
   },
   {
    "duration": 55,
    "start_time": "2021-12-11T12:47:01.157Z"
   },
   {
    "duration": 55,
    "start_time": "2021-12-11T12:51:16.532Z"
   },
   {
    "duration": 56,
    "start_time": "2021-12-11T12:51:49.884Z"
   },
   {
    "duration": 53,
    "start_time": "2021-12-11T12:54:19.978Z"
   },
   {
    "duration": 70,
    "start_time": "2021-12-11T12:54:44.950Z"
   },
   {
    "duration": 61,
    "start_time": "2021-12-11T12:55:27.418Z"
   },
   {
    "duration": 60,
    "start_time": "2021-12-11T12:56:29.377Z"
   },
   {
    "duration": 39,
    "start_time": "2021-12-11T12:56:45.883Z"
   },
   {
    "duration": 1762,
    "start_time": "2021-12-12T09:02:19.723Z"
   },
   {
    "duration": 2,
    "start_time": "2021-12-12T09:02:21.487Z"
   },
   {
    "duration": 45,
    "start_time": "2021-12-12T09:02:21.491Z"
   },
   {
    "duration": 10,
    "start_time": "2021-12-12T09:02:21.538Z"
   },
   {
    "duration": 10,
    "start_time": "2021-12-12T09:02:21.550Z"
   },
   {
    "duration": 6,
    "start_time": "2021-12-12T09:02:21.561Z"
   },
   {
    "duration": 8,
    "start_time": "2021-12-12T09:02:21.568Z"
   },
   {
    "duration": 15,
    "start_time": "2021-12-12T09:02:21.578Z"
   },
   {
    "duration": 18,
    "start_time": "2021-12-12T09:02:21.595Z"
   },
   {
    "duration": 22,
    "start_time": "2021-12-12T09:02:21.614Z"
   },
   {
    "duration": 13,
    "start_time": "2021-12-12T09:02:21.637Z"
   },
   {
    "duration": 37,
    "start_time": "2021-12-12T09:02:21.651Z"
   },
   {
    "duration": 4,
    "start_time": "2021-12-12T09:02:21.690Z"
   },
   {
    "duration": 4,
    "start_time": "2021-12-12T09:02:21.695Z"
   },
   {
    "duration": 10,
    "start_time": "2021-12-12T09:02:21.700Z"
   },
   {
    "duration": 691,
    "start_time": "2021-12-12T09:02:21.712Z"
   },
   {
    "duration": 4,
    "start_time": "2021-12-12T09:02:22.405Z"
   },
   {
    "duration": 410,
    "start_time": "2021-12-12T09:02:22.411Z"
   },
   {
    "duration": -1242,
    "start_time": "2021-12-12T09:02:24.065Z"
   },
   {
    "duration": -1243,
    "start_time": "2021-12-12T09:02:24.067Z"
   },
   {
    "duration": -1245,
    "start_time": "2021-12-12T09:02:24.070Z"
   },
   {
    "duration": -1246,
    "start_time": "2021-12-12T09:02:24.072Z"
   },
   {
    "duration": -1247,
    "start_time": "2021-12-12T09:02:24.074Z"
   },
   {
    "duration": -1248,
    "start_time": "2021-12-12T09:02:24.076Z"
   },
   {
    "duration": -1250,
    "start_time": "2021-12-12T09:02:24.078Z"
   },
   {
    "duration": -1252,
    "start_time": "2021-12-12T09:02:24.081Z"
   },
   {
    "duration": -1253,
    "start_time": "2021-12-12T09:02:24.083Z"
   },
   {
    "duration": -1255,
    "start_time": "2021-12-12T09:02:24.086Z"
   },
   {
    "duration": -1256,
    "start_time": "2021-12-12T09:02:24.088Z"
   },
   {
    "duration": -1257,
    "start_time": "2021-12-12T09:02:24.090Z"
   },
   {
    "duration": -1259,
    "start_time": "2021-12-12T09:02:24.092Z"
   },
   {
    "duration": -1260,
    "start_time": "2021-12-12T09:02:24.094Z"
   },
   {
    "duration": -1262,
    "start_time": "2021-12-12T09:02:24.097Z"
   },
   {
    "duration": -1263,
    "start_time": "2021-12-12T09:02:24.099Z"
   },
   {
    "duration": -1267,
    "start_time": "2021-12-12T09:02:24.103Z"
   },
   {
    "duration": -1269,
    "start_time": "2021-12-12T09:02:24.106Z"
   },
   {
    "duration": -1270,
    "start_time": "2021-12-12T09:02:24.108Z"
   },
   {
    "duration": -1271,
    "start_time": "2021-12-12T09:02:24.110Z"
   },
   {
    "duration": -1272,
    "start_time": "2021-12-12T09:02:24.112Z"
   },
   {
    "duration": -1275,
    "start_time": "2021-12-12T09:02:24.115Z"
   },
   {
    "duration": -1276,
    "start_time": "2021-12-12T09:02:24.117Z"
   },
   {
    "duration": -1277,
    "start_time": "2021-12-12T09:02:24.119Z"
   },
   {
    "duration": -1278,
    "start_time": "2021-12-12T09:02:24.121Z"
   },
   {
    "duration": -1280,
    "start_time": "2021-12-12T09:02:24.124Z"
   },
   {
    "duration": -1281,
    "start_time": "2021-12-12T09:02:24.126Z"
   },
   {
    "duration": -1282,
    "start_time": "2021-12-12T09:02:24.128Z"
   },
   {
    "duration": -1284,
    "start_time": "2021-12-12T09:02:24.130Z"
   },
   {
    "duration": -1286,
    "start_time": "2021-12-12T09:02:24.133Z"
   },
   {
    "duration": -1287,
    "start_time": "2021-12-12T09:02:24.135Z"
   },
   {
    "duration": -1288,
    "start_time": "2021-12-12T09:02:24.137Z"
   },
   {
    "duration": -1289,
    "start_time": "2021-12-12T09:02:24.139Z"
   },
   {
    "duration": -1290,
    "start_time": "2021-12-12T09:02:24.141Z"
   },
   {
    "duration": -1291,
    "start_time": "2021-12-12T09:02:24.143Z"
   },
   {
    "duration": -1294,
    "start_time": "2021-12-12T09:02:24.146Z"
   },
   {
    "duration": -1295,
    "start_time": "2021-12-12T09:02:24.148Z"
   },
   {
    "duration": -1297,
    "start_time": "2021-12-12T09:02:24.151Z"
   },
   {
    "duration": -1299,
    "start_time": "2021-12-12T09:02:24.153Z"
   },
   {
    "duration": -1313,
    "start_time": "2021-12-12T09:02:24.168Z"
   },
   {
    "duration": -1316,
    "start_time": "2021-12-12T09:02:24.172Z"
   },
   {
    "duration": -1319,
    "start_time": "2021-12-12T09:02:24.176Z"
   },
   {
    "duration": 113,
    "start_time": "2021-12-12T09:04:45.199Z"
   },
   {
    "duration": 84,
    "start_time": "2021-12-12T09:05:20.348Z"
   },
   {
    "duration": 92,
    "start_time": "2021-12-12T09:06:38.194Z"
   },
   {
    "duration": 647,
    "start_time": "2021-12-12T09:06:48.935Z"
   },
   {
    "duration": 310,
    "start_time": "2021-12-12T09:07:06.204Z"
   },
   {
    "duration": 240,
    "start_time": "2021-12-12T09:07:51.046Z"
   },
   {
    "duration": 228,
    "start_time": "2021-12-12T09:08:34.450Z"
   },
   {
    "duration": 320,
    "start_time": "2021-12-12T09:08:41.022Z"
   },
   {
    "duration": 211,
    "start_time": "2021-12-12T09:09:06.336Z"
   },
   {
    "duration": 448,
    "start_time": "2021-12-12T09:09:33.674Z"
   },
   {
    "duration": 568,
    "start_time": "2021-12-12T09:09:38.331Z"
   },
   {
    "duration": 215,
    "start_time": "2021-12-12T09:09:40.377Z"
   },
   {
    "duration": 348,
    "start_time": "2021-12-12T09:10:01.092Z"
   },
   {
    "duration": 212,
    "start_time": "2021-12-12T09:10:43.644Z"
   },
   {
    "duration": 6,
    "start_time": "2021-12-12T09:10:55.204Z"
   },
   {
    "duration": 14,
    "start_time": "2021-12-12T09:10:55.212Z"
   },
   {
    "duration": 6,
    "start_time": "2021-12-12T09:10:55.228Z"
   },
   {
    "duration": 237,
    "start_time": "2021-12-12T09:10:55.235Z"
   },
   {
    "duration": 14,
    "start_time": "2021-12-12T09:10:55.474Z"
   },
   {
    "duration": 743,
    "start_time": "2021-12-12T09:10:55.489Z"
   },
   {
    "duration": -120,
    "start_time": "2021-12-12T09:10:56.354Z"
   },
   {
    "duration": -122,
    "start_time": "2021-12-12T09:10:56.357Z"
   },
   {
    "duration": -129,
    "start_time": "2021-12-12T09:10:56.365Z"
   },
   {
    "duration": -131,
    "start_time": "2021-12-12T09:10:56.368Z"
   },
   {
    "duration": -134,
    "start_time": "2021-12-12T09:10:56.371Z"
   },
   {
    "duration": -135,
    "start_time": "2021-12-12T09:10:56.373Z"
   },
   {
    "duration": -136,
    "start_time": "2021-12-12T09:10:56.375Z"
   },
   {
    "duration": -137,
    "start_time": "2021-12-12T09:10:56.377Z"
   },
   {
    "duration": -139,
    "start_time": "2021-12-12T09:10:56.380Z"
   },
   {
    "duration": -140,
    "start_time": "2021-12-12T09:10:56.382Z"
   },
   {
    "duration": -142,
    "start_time": "2021-12-12T09:10:56.385Z"
   },
   {
    "duration": -143,
    "start_time": "2021-12-12T09:10:56.387Z"
   },
   {
    "duration": -145,
    "start_time": "2021-12-12T09:10:56.390Z"
   },
   {
    "duration": -146,
    "start_time": "2021-12-12T09:10:56.392Z"
   },
   {
    "duration": -149,
    "start_time": "2021-12-12T09:10:56.395Z"
   },
   {
    "duration": -150,
    "start_time": "2021-12-12T09:10:56.397Z"
   },
   {
    "duration": -152,
    "start_time": "2021-12-12T09:10:56.400Z"
   },
   {
    "duration": -153,
    "start_time": "2021-12-12T09:10:56.402Z"
   },
   {
    "duration": -155,
    "start_time": "2021-12-12T09:10:56.405Z"
   },
   {
    "duration": -156,
    "start_time": "2021-12-12T09:10:56.407Z"
   },
   {
    "duration": -158,
    "start_time": "2021-12-12T09:10:56.410Z"
   },
   {
    "duration": -165,
    "start_time": "2021-12-12T09:10:56.418Z"
   },
   {
    "duration": -166,
    "start_time": "2021-12-12T09:10:56.420Z"
   },
   {
    "duration": -167,
    "start_time": "2021-12-12T09:10:56.422Z"
   },
   {
    "duration": -169,
    "start_time": "2021-12-12T09:10:56.425Z"
   },
   {
    "duration": -170,
    "start_time": "2021-12-12T09:10:56.427Z"
   },
   {
    "duration": -171,
    "start_time": "2021-12-12T09:10:56.429Z"
   },
   {
    "duration": -173,
    "start_time": "2021-12-12T09:10:56.432Z"
   },
   {
    "duration": -174,
    "start_time": "2021-12-12T09:10:56.434Z"
   },
   {
    "duration": -175,
    "start_time": "2021-12-12T09:10:56.436Z"
   },
   {
    "duration": -175,
    "start_time": "2021-12-12T09:10:56.438Z"
   },
   {
    "duration": -176,
    "start_time": "2021-12-12T09:10:56.440Z"
   },
   {
    "duration": -178,
    "start_time": "2021-12-12T09:10:56.443Z"
   },
   {
    "duration": -179,
    "start_time": "2021-12-12T09:10:56.445Z"
   },
   {
    "duration": -181,
    "start_time": "2021-12-12T09:10:56.447Z"
   },
   {
    "duration": -182,
    "start_time": "2021-12-12T09:10:56.449Z"
   },
   {
    "duration": 18371,
    "start_time": "2021-12-12T09:11:55.764Z"
   },
   {
    "duration": 1177,
    "start_time": "2021-12-12T09:12:26.270Z"
   },
   {
    "duration": 2,
    "start_time": "2021-12-12T09:12:27.449Z"
   },
   {
    "duration": 44,
    "start_time": "2021-12-12T09:12:27.454Z"
   },
   {
    "duration": 10,
    "start_time": "2021-12-12T09:12:27.500Z"
   },
   {
    "duration": 7,
    "start_time": "2021-12-12T09:12:27.512Z"
   },
   {
    "duration": 5,
    "start_time": "2021-12-12T09:12:27.521Z"
   },
   {
    "duration": 7,
    "start_time": "2021-12-12T09:12:27.528Z"
   },
   {
    "duration": 8,
    "start_time": "2021-12-12T09:12:27.536Z"
   },
   {
    "duration": 44,
    "start_time": "2021-12-12T09:12:27.546Z"
   },
   {
    "duration": 17,
    "start_time": "2021-12-12T09:12:27.592Z"
   },
   {
    "duration": 15,
    "start_time": "2021-12-12T09:12:27.610Z"
   },
   {
    "duration": 13,
    "start_time": "2021-12-12T09:12:27.627Z"
   },
   {
    "duration": 4,
    "start_time": "2021-12-12T09:12:27.641Z"
   },
   {
    "duration": 3,
    "start_time": "2021-12-12T09:12:27.646Z"
   },
   {
    "duration": 38,
    "start_time": "2021-12-12T09:12:27.651Z"
   },
   {
    "duration": 555,
    "start_time": "2021-12-12T09:12:27.691Z"
   },
   {
    "duration": 5,
    "start_time": "2021-12-12T09:12:28.248Z"
   },
   {
    "duration": 66,
    "start_time": "2021-12-12T09:12:28.254Z"
   },
   {
    "duration": 5,
    "start_time": "2021-12-12T09:12:28.322Z"
   },
   {
    "duration": 61,
    "start_time": "2021-12-12T09:12:28.328Z"
   },
   {
    "duration": 7,
    "start_time": "2021-12-12T09:12:28.391Z"
   },
   {
    "duration": 47,
    "start_time": "2021-12-12T09:12:28.402Z"
   },
   {
    "duration": 42,
    "start_time": "2021-12-12T09:12:28.451Z"
   },
   {
    "duration": 38,
    "start_time": "2021-12-12T09:12:28.495Z"
   },
   {
    "duration": 6,
    "start_time": "2021-12-12T09:12:28.534Z"
   },
   {
    "duration": 11,
    "start_time": "2021-12-12T09:12:28.541Z"
   },
   {
    "duration": 13,
    "start_time": "2021-12-12T09:12:28.553Z"
   },
   {
    "duration": 49,
    "start_time": "2021-12-12T09:12:28.567Z"
   },
   {
    "duration": 176,
    "start_time": "2021-12-12T09:12:28.617Z"
   },
   {
    "duration": 3,
    "start_time": "2021-12-12T09:12:28.794Z"
   },
   {
    "duration": 10,
    "start_time": "2021-12-12T09:12:28.798Z"
   },
   {
    "duration": 15,
    "start_time": "2021-12-12T09:12:28.809Z"
   },
   {
    "duration": 7,
    "start_time": "2021-12-12T09:12:28.825Z"
   },
   {
    "duration": 89,
    "start_time": "2021-12-12T09:12:28.833Z"
   },
   {
    "duration": 4,
    "start_time": "2021-12-12T09:12:28.923Z"
   },
   {
    "duration": 1761,
    "start_time": "2021-12-12T09:12:28.929Z"
   },
   {
    "duration": 16,
    "start_time": "2021-12-12T09:12:30.692Z"
   },
   {
    "duration": 45,
    "start_time": "2021-12-12T09:12:30.710Z"
   },
   {
    "duration": 218,
    "start_time": "2021-12-12T09:12:30.756Z"
   },
   {
    "duration": 5,
    "start_time": "2021-12-12T09:12:30.975Z"
   },
   {
    "duration": 10,
    "start_time": "2021-12-12T09:12:30.982Z"
   },
   {
    "duration": 11,
    "start_time": "2021-12-12T09:12:30.993Z"
   },
   {
    "duration": 15,
    "start_time": "2021-12-12T09:12:31.005Z"
   },
   {
    "duration": 12,
    "start_time": "2021-12-12T09:12:31.021Z"
   },
   {
    "duration": 13,
    "start_time": "2021-12-12T09:12:31.035Z"
   },
   {
    "duration": 6,
    "start_time": "2021-12-12T09:12:31.050Z"
   },
   {
    "duration": 5,
    "start_time": "2021-12-12T09:12:31.057Z"
   },
   {
    "duration": 9,
    "start_time": "2021-12-12T09:12:31.063Z"
   },
   {
    "duration": 50,
    "start_time": "2021-12-12T09:12:31.073Z"
   },
   {
    "duration": 5,
    "start_time": "2021-12-12T09:12:31.124Z"
   },
   {
    "duration": 18,
    "start_time": "2021-12-12T09:12:31.131Z"
   },
   {
    "duration": 16,
    "start_time": "2021-12-12T09:12:31.150Z"
   },
   {
    "duration": 22,
    "start_time": "2021-12-12T09:12:31.168Z"
   },
   {
    "duration": 13,
    "start_time": "2021-12-12T09:12:31.191Z"
   },
   {
    "duration": 8,
    "start_time": "2021-12-12T09:12:31.205Z"
   },
   {
    "duration": 17,
    "start_time": "2021-12-12T09:12:31.214Z"
   },
   {
    "duration": 3,
    "start_time": "2021-12-12T09:12:31.232Z"
   },
   {
    "duration": 59,
    "start_time": "2021-12-12T09:12:31.236Z"
   },
   {
    "duration": 3,
    "start_time": "2021-12-12T09:12:31.296Z"
   },
   {
    "duration": 62,
    "start_time": "2021-12-12T09:12:31.300Z"
   },
   {
    "duration": 76,
    "start_time": "2021-12-12T09:15:54.874Z"
   },
   {
    "duration": 55,
    "start_time": "2021-12-12T09:19:26.856Z"
   },
   {
    "duration": 52,
    "start_time": "2021-12-12T09:19:40.502Z"
   },
   {
    "duration": 574,
    "start_time": "2021-12-12T09:19:54.430Z"
   },
   {
    "duration": 53,
    "start_time": "2021-12-12T09:20:02.237Z"
   },
   {
    "duration": 47,
    "start_time": "2021-12-12T09:20:29.072Z"
   }
  ],
  "kernelspec": {
   "display_name": "Python 3 (ipykernel)",
   "language": "python",
   "name": "python3"
  },
  "language_info": {
   "codemirror_mode": {
    "name": "ipython",
    "version": 3
   },
   "file_extension": ".py",
   "mimetype": "text/x-python",
   "name": "python",
   "nbconvert_exporter": "python",
   "pygments_lexer": "ipython3",
   "version": "3.9.7"
  },
  "toc": {
   "base_numbering": 1,
   "nav_menu": {},
   "number_sections": true,
   "sideBar": true,
   "skip_h1_title": true,
   "title_cell": "Table of Contents",
   "title_sidebar": "Contents",
   "toc_cell": false,
   "toc_position": {},
   "toc_section_display": true,
   "toc_window_display": false
  }
 },
 "nbformat": 4,
 "nbformat_minor": 2
}
