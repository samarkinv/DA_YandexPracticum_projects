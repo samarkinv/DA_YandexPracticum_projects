{
 "cells": [
  {
   "cell_type": "markdown",
   "metadata": {},
   "source": [
    "# Анализ компьютерных игр в интернет-магазине"
   ]
  },
  {
   "cell_type": "markdown",
   "metadata": {},
   "source": [
    "## 1. Обзор данных"
   ]
  },
  {
   "cell_type": "markdown",
   "metadata": {},
   "source": [
    "**Импорты**"
   ]
  },
  {
   "cell_type": "code",
   "execution_count": 1,
   "metadata": {},
   "outputs": [],
   "source": [
    "import pandas as pd\n",
    "import matplotlib.pyplot as plt\n",
    "from scipy import stats as st\n",
    "import warnings\n",
    "warnings.filterwarnings('ignore')"
   ]
  },
  {
   "cell_type": "markdown",
   "metadata": {},
   "source": [
    "**Таблица**"
   ]
  },
  {
   "cell_type": "code",
   "execution_count": 2,
   "metadata": {},
   "outputs": [],
   "source": [
    "df = pd.read_csv('games.csv')"
   ]
  },
  {
   "cell_type": "code",
   "execution_count": 3,
   "metadata": {},
   "outputs": [
    {
     "data": {
      "text/html": [
       "<div>\n",
       "<style scoped>\n",
       "    .dataframe tbody tr th:only-of-type {\n",
       "        vertical-align: middle;\n",
       "    }\n",
       "\n",
       "    .dataframe tbody tr th {\n",
       "        vertical-align: top;\n",
       "    }\n",
       "\n",
       "    .dataframe thead th {\n",
       "        text-align: right;\n",
       "    }\n",
       "</style>\n",
       "<table border=\"1\" class=\"dataframe\">\n",
       "  <thead>\n",
       "    <tr style=\"text-align: right;\">\n",
       "      <th></th>\n",
       "      <th>Name</th>\n",
       "      <th>Platform</th>\n",
       "      <th>Year_of_Release</th>\n",
       "      <th>Genre</th>\n",
       "      <th>NA_sales</th>\n",
       "      <th>EU_sales</th>\n",
       "      <th>JP_sales</th>\n",
       "      <th>Other_sales</th>\n",
       "      <th>Critic_Score</th>\n",
       "      <th>User_Score</th>\n",
       "      <th>Rating</th>\n",
       "    </tr>\n",
       "  </thead>\n",
       "  <tbody>\n",
       "    <tr>\n",
       "      <th>0</th>\n",
       "      <td>Wii Sports</td>\n",
       "      <td>Wii</td>\n",
       "      <td>2006.0</td>\n",
       "      <td>Sports</td>\n",
       "      <td>41.36</td>\n",
       "      <td>28.96</td>\n",
       "      <td>3.77</td>\n",
       "      <td>8.45</td>\n",
       "      <td>76.0</td>\n",
       "      <td>8</td>\n",
       "      <td>E</td>\n",
       "    </tr>\n",
       "    <tr>\n",
       "      <th>1</th>\n",
       "      <td>Super Mario Bros.</td>\n",
       "      <td>NES</td>\n",
       "      <td>1985.0</td>\n",
       "      <td>Platform</td>\n",
       "      <td>29.08</td>\n",
       "      <td>3.58</td>\n",
       "      <td>6.81</td>\n",
       "      <td>0.77</td>\n",
       "      <td>NaN</td>\n",
       "      <td>NaN</td>\n",
       "      <td>NaN</td>\n",
       "    </tr>\n",
       "    <tr>\n",
       "      <th>2</th>\n",
       "      <td>Mario Kart Wii</td>\n",
       "      <td>Wii</td>\n",
       "      <td>2008.0</td>\n",
       "      <td>Racing</td>\n",
       "      <td>15.68</td>\n",
       "      <td>12.76</td>\n",
       "      <td>3.79</td>\n",
       "      <td>3.29</td>\n",
       "      <td>82.0</td>\n",
       "      <td>8.3</td>\n",
       "      <td>E</td>\n",
       "    </tr>\n",
       "    <tr>\n",
       "      <th>3</th>\n",
       "      <td>Wii Sports Resort</td>\n",
       "      <td>Wii</td>\n",
       "      <td>2009.0</td>\n",
       "      <td>Sports</td>\n",
       "      <td>15.61</td>\n",
       "      <td>10.93</td>\n",
       "      <td>3.28</td>\n",
       "      <td>2.95</td>\n",
       "      <td>80.0</td>\n",
       "      <td>8</td>\n",
       "      <td>E</td>\n",
       "    </tr>\n",
       "    <tr>\n",
       "      <th>4</th>\n",
       "      <td>Pokemon Red/Pokemon Blue</td>\n",
       "      <td>GB</td>\n",
       "      <td>1996.0</td>\n",
       "      <td>Role-Playing</td>\n",
       "      <td>11.27</td>\n",
       "      <td>8.89</td>\n",
       "      <td>10.22</td>\n",
       "      <td>1.00</td>\n",
       "      <td>NaN</td>\n",
       "      <td>NaN</td>\n",
       "      <td>NaN</td>\n",
       "    </tr>\n",
       "  </tbody>\n",
       "</table>\n",
       "</div>"
      ],
      "text/plain": [
       "                       Name Platform  Year_of_Release         Genre  NA_sales  \\\n",
       "0                Wii Sports      Wii           2006.0        Sports     41.36   \n",
       "1         Super Mario Bros.      NES           1985.0      Platform     29.08   \n",
       "2            Mario Kart Wii      Wii           2008.0        Racing     15.68   \n",
       "3         Wii Sports Resort      Wii           2009.0        Sports     15.61   \n",
       "4  Pokemon Red/Pokemon Blue       GB           1996.0  Role-Playing     11.27   \n",
       "\n",
       "   EU_sales  JP_sales  Other_sales  Critic_Score User_Score Rating  \n",
       "0     28.96      3.77         8.45          76.0          8      E  \n",
       "1      3.58      6.81         0.77           NaN        NaN    NaN  \n",
       "2     12.76      3.79         3.29          82.0        8.3      E  \n",
       "3     10.93      3.28         2.95          80.0          8      E  \n",
       "4      8.89     10.22         1.00           NaN        NaN    NaN  "
      ]
     },
     "execution_count": 3,
     "metadata": {},
     "output_type": "execute_result"
    }
   ],
   "source": [
    "df.head()"
   ]
  },
  {
   "cell_type": "code",
   "execution_count": 4,
   "metadata": {},
   "outputs": [
    {
     "name": "stdout",
     "output_type": "stream",
     "text": [
      "<class 'pandas.core.frame.DataFrame'>\n",
      "RangeIndex: 16715 entries, 0 to 16714\n",
      "Data columns (total 11 columns):\n",
      " #   Column           Non-Null Count  Dtype  \n",
      "---  ------           --------------  -----  \n",
      " 0   Name             16713 non-null  object \n",
      " 1   Platform         16715 non-null  object \n",
      " 2   Year_of_Release  16446 non-null  float64\n",
      " 3   Genre            16713 non-null  object \n",
      " 4   NA_sales         16715 non-null  float64\n",
      " 5   EU_sales         16715 non-null  float64\n",
      " 6   JP_sales         16715 non-null  float64\n",
      " 7   Other_sales      16715 non-null  float64\n",
      " 8   Critic_Score     8137 non-null   float64\n",
      " 9   User_Score       10014 non-null  object \n",
      " 10  Rating           9949 non-null   object \n",
      "dtypes: float64(6), object(5)\n",
      "memory usage: 1.4+ MB\n"
     ]
    }
   ],
   "source": [
    "df.info()"
   ]
  },
  {
   "cell_type": "markdown",
   "metadata": {},
   "source": [
    "**Что обработать:**\n",
    "1. **Названия столбцов:** к нижнему регистру\n",
    "2. **name:** пропуски, написание названий\n",
    "3. **platform:** написание названий, к нижнему регистру\n",
    "4. **year_of_release:** пропуски, int\n",
    "5. **genre:** пропуски, написание названий, к нижнему регистру\n",
    "6. **critic_score:** пропуски, тип данных (точно нужен float?), аномальные значения\n",
    "7. **user_score:** пропуски, float (to_numeric), аномальные значения\n",
    "8. **rating:** пропуски, написание названий\n",
    "9. **дубликаты**\n",
    "10. **рассчеты:** посчитать суммарные продажи во всех регионах и записать их в отдельный столбец."
   ]
  },
  {
   "cell_type": "markdown",
   "metadata": {},
   "source": [
    "## 2. Предобработка"
   ]
  },
  {
   "cell_type": "markdown",
   "metadata": {},
   "source": [
    "**Названия столбцов.**\n",
    "Приведем все названия к нижнему регистру для удобства обращения"
   ]
  },
  {
   "cell_type": "code",
   "execution_count": 5,
   "metadata": {},
   "outputs": [],
   "source": [
    "df.columns = df.columns.str.lower()"
   ]
  },
  {
   "cell_type": "markdown",
   "metadata": {},
   "source": [
    "### Столбец Name"
   ]
  },
  {
   "cell_type": "markdown",
   "metadata": {},
   "source": [
    "#### Пропуски"
   ]
  },
  {
   "cell_type": "code",
   "execution_count": 6,
   "metadata": {},
   "outputs": [
    {
     "data": {
      "text/html": [
       "<div>\n",
       "<style scoped>\n",
       "    .dataframe tbody tr th:only-of-type {\n",
       "        vertical-align: middle;\n",
       "    }\n",
       "\n",
       "    .dataframe tbody tr th {\n",
       "        vertical-align: top;\n",
       "    }\n",
       "\n",
       "    .dataframe thead th {\n",
       "        text-align: right;\n",
       "    }\n",
       "</style>\n",
       "<table border=\"1\" class=\"dataframe\">\n",
       "  <thead>\n",
       "    <tr style=\"text-align: right;\">\n",
       "      <th></th>\n",
       "      <th>name</th>\n",
       "      <th>platform</th>\n",
       "      <th>year_of_release</th>\n",
       "      <th>genre</th>\n",
       "      <th>na_sales</th>\n",
       "      <th>eu_sales</th>\n",
       "      <th>jp_sales</th>\n",
       "      <th>other_sales</th>\n",
       "      <th>critic_score</th>\n",
       "      <th>user_score</th>\n",
       "      <th>rating</th>\n",
       "    </tr>\n",
       "  </thead>\n",
       "  <tbody>\n",
       "    <tr>\n",
       "      <th>659</th>\n",
       "      <td>NaN</td>\n",
       "      <td>GEN</td>\n",
       "      <td>1993.0</td>\n",
       "      <td>NaN</td>\n",
       "      <td>1.78</td>\n",
       "      <td>0.53</td>\n",
       "      <td>0.00</td>\n",
       "      <td>0.08</td>\n",
       "      <td>NaN</td>\n",
       "      <td>NaN</td>\n",
       "      <td>NaN</td>\n",
       "    </tr>\n",
       "    <tr>\n",
       "      <th>14244</th>\n",
       "      <td>NaN</td>\n",
       "      <td>GEN</td>\n",
       "      <td>1993.0</td>\n",
       "      <td>NaN</td>\n",
       "      <td>0.00</td>\n",
       "      <td>0.00</td>\n",
       "      <td>0.03</td>\n",
       "      <td>0.00</td>\n",
       "      <td>NaN</td>\n",
       "      <td>NaN</td>\n",
       "      <td>NaN</td>\n",
       "    </tr>\n",
       "  </tbody>\n",
       "</table>\n",
       "</div>"
      ],
      "text/plain": [
       "      name platform  year_of_release genre  na_sales  eu_sales  jp_sales  \\\n",
       "659    NaN      GEN           1993.0   NaN      1.78      0.53      0.00   \n",
       "14244  NaN      GEN           1993.0   NaN      0.00      0.00      0.03   \n",
       "\n",
       "       other_sales  critic_score user_score rating  \n",
       "659           0.08           NaN        NaN    NaN  \n",
       "14244         0.00           NaN        NaN    NaN  "
      ]
     },
     "execution_count": 6,
     "metadata": {},
     "output_type": "execute_result"
    }
   ],
   "source": [
    "df[df['name'].isna() == True]"
   ]
  },
  {
   "cell_type": "markdown",
   "metadata": {},
   "source": [
    "Пропуска всего два, а в строчках так же отсутствует жанр, оценки и рейтинг. Кажется, эти строчки бесполезны для нас. Удалим. \n",
    "\n",
    "Почему пропуски появились ответить сложно: их всего два и никаких заметных закономероностей нет. Видимо случайность. "
   ]
  },
  {
   "cell_type": "code",
   "execution_count": 7,
   "metadata": {},
   "outputs": [],
   "source": [
    "df.dropna(subset=['name'], inplace=True)"
   ]
  },
  {
   "cell_type": "markdown",
   "metadata": {},
   "source": [
    "#### Написание названий"
   ]
  },
  {
   "cell_type": "markdown",
   "metadata": {},
   "source": [
    "Все названия сложные и иногда состоят из большого количества слов. Попробуем базово проверить - изменит ли что-то приведение названий к строчным буквам. "
   ]
  },
  {
   "cell_type": "code",
   "execution_count": 8,
   "metadata": {},
   "outputs": [
    {
     "name": "stdout",
     "output_type": "stream",
     "text": [
      "Количество уникальных названий: 11559\n",
      "Количество уникальных названий (маленькие буквы): 11559\n"
     ]
    }
   ],
   "source": [
    "print('Количество уникальных названий:', df['name'].nunique())\n",
    "print('Количество уникальных названий (маленькие буквы):', df['name'].str.lower().nunique())"
   ]
  },
  {
   "cell_type": "markdown",
   "metadata": {},
   "source": [
    "Ничего не изменилось. Если ошибки и есть, то они будут выражены иначе. Визуально проходиться по всем названиям - неэффективно, поэтому оставим как есть. "
   ]
  },
  {
   "cell_type": "markdown",
   "metadata": {},
   "source": [
    "### Столбец Platform"
   ]
  },
  {
   "cell_type": "markdown",
   "metadata": {},
   "source": [
    "Посмотрим как написаны названия. "
   ]
  },
  {
   "cell_type": "code",
   "execution_count": 9,
   "metadata": {},
   "outputs": [
    {
     "data": {
      "text/plain": [
       "array(['Wii', 'NES', 'GB', 'DS', 'X360', 'PS3', 'PS2', 'SNES', 'GBA',\n",
       "       'PS4', '3DS', 'N64', 'PS', 'XB', 'PC', '2600', 'PSP', 'XOne',\n",
       "       'WiiU', 'GC', 'GEN', 'DC', 'PSV', 'SAT', 'SCD', 'WS', 'NG', 'TG16',\n",
       "       '3DO', 'GG', 'PCFX'], dtype=object)"
      ]
     },
     "execution_count": 9,
     "metadata": {},
     "output_type": "execute_result"
    }
   ],
   "source": [
    "df['platform'].unique()"
   ]
  },
  {
   "cell_type": "markdown",
   "metadata": {},
   "source": [
    "Повторений нет, но для удобства обращения - приведем к нижнему регистру"
   ]
  },
  {
   "cell_type": "code",
   "execution_count": 10,
   "metadata": {},
   "outputs": [],
   "source": [
    "df['platform'] = df['platform'].str.lower()"
   ]
  },
  {
   "cell_type": "markdown",
   "metadata": {},
   "source": [
    "### Столбец year_of_release"
   ]
  },
  {
   "cell_type": "markdown",
   "metadata": {},
   "source": [
    "#### Пропуски"
   ]
  },
  {
   "cell_type": "code",
   "execution_count": 11,
   "metadata": {},
   "outputs": [
    {
     "data": {
      "text/html": [
       "<div>\n",
       "<style scoped>\n",
       "    .dataframe tbody tr th:only-of-type {\n",
       "        vertical-align: middle;\n",
       "    }\n",
       "\n",
       "    .dataframe tbody tr th {\n",
       "        vertical-align: top;\n",
       "    }\n",
       "\n",
       "    .dataframe thead th {\n",
       "        text-align: right;\n",
       "    }\n",
       "</style>\n",
       "<table border=\"1\" class=\"dataframe\">\n",
       "  <thead>\n",
       "    <tr style=\"text-align: right;\">\n",
       "      <th></th>\n",
       "      <th>name</th>\n",
       "      <th>platform</th>\n",
       "      <th>year_of_release</th>\n",
       "      <th>genre</th>\n",
       "      <th>na_sales</th>\n",
       "      <th>eu_sales</th>\n",
       "      <th>jp_sales</th>\n",
       "      <th>other_sales</th>\n",
       "      <th>critic_score</th>\n",
       "      <th>user_score</th>\n",
       "      <th>rating</th>\n",
       "    </tr>\n",
       "  </thead>\n",
       "  <tbody>\n",
       "    <tr>\n",
       "      <th>183</th>\n",
       "      <td>Madden NFL 2004</td>\n",
       "      <td>ps2</td>\n",
       "      <td>NaN</td>\n",
       "      <td>Sports</td>\n",
       "      <td>4.26</td>\n",
       "      <td>0.26</td>\n",
       "      <td>0.01</td>\n",
       "      <td>0.71</td>\n",
       "      <td>94.0</td>\n",
       "      <td>8.5</td>\n",
       "      <td>E</td>\n",
       "    </tr>\n",
       "    <tr>\n",
       "      <th>377</th>\n",
       "      <td>FIFA Soccer 2004</td>\n",
       "      <td>ps2</td>\n",
       "      <td>NaN</td>\n",
       "      <td>Sports</td>\n",
       "      <td>0.59</td>\n",
       "      <td>2.36</td>\n",
       "      <td>0.04</td>\n",
       "      <td>0.51</td>\n",
       "      <td>84.0</td>\n",
       "      <td>6.4</td>\n",
       "      <td>E</td>\n",
       "    </tr>\n",
       "    <tr>\n",
       "      <th>456</th>\n",
       "      <td>LEGO Batman: The Videogame</td>\n",
       "      <td>wii</td>\n",
       "      <td>NaN</td>\n",
       "      <td>Action</td>\n",
       "      <td>1.80</td>\n",
       "      <td>0.97</td>\n",
       "      <td>0.00</td>\n",
       "      <td>0.29</td>\n",
       "      <td>74.0</td>\n",
       "      <td>7.9</td>\n",
       "      <td>E10+</td>\n",
       "    </tr>\n",
       "    <tr>\n",
       "      <th>475</th>\n",
       "      <td>wwe Smackdown vs. Raw 2006</td>\n",
       "      <td>ps2</td>\n",
       "      <td>NaN</td>\n",
       "      <td>Fighting</td>\n",
       "      <td>1.57</td>\n",
       "      <td>1.02</td>\n",
       "      <td>0.00</td>\n",
       "      <td>0.41</td>\n",
       "      <td>NaN</td>\n",
       "      <td>NaN</td>\n",
       "      <td>NaN</td>\n",
       "    </tr>\n",
       "    <tr>\n",
       "      <th>609</th>\n",
       "      <td>Space Invaders</td>\n",
       "      <td>2600</td>\n",
       "      <td>NaN</td>\n",
       "      <td>Shooter</td>\n",
       "      <td>2.36</td>\n",
       "      <td>0.14</td>\n",
       "      <td>0.00</td>\n",
       "      <td>0.03</td>\n",
       "      <td>NaN</td>\n",
       "      <td>NaN</td>\n",
       "      <td>NaN</td>\n",
       "    </tr>\n",
       "  </tbody>\n",
       "</table>\n",
       "</div>"
      ],
      "text/plain": [
       "                           name platform  year_of_release     genre  na_sales  \\\n",
       "183             Madden NFL 2004      ps2              NaN    Sports      4.26   \n",
       "377            FIFA Soccer 2004      ps2              NaN    Sports      0.59   \n",
       "456  LEGO Batman: The Videogame      wii              NaN    Action      1.80   \n",
       "475  wwe Smackdown vs. Raw 2006      ps2              NaN  Fighting      1.57   \n",
       "609              Space Invaders     2600              NaN   Shooter      2.36   \n",
       "\n",
       "     eu_sales  jp_sales  other_sales  critic_score user_score rating  \n",
       "183      0.26      0.01         0.71          94.0        8.5      E  \n",
       "377      2.36      0.04         0.51          84.0        6.4      E  \n",
       "456      0.97      0.00         0.29          74.0        7.9   E10+  \n",
       "475      1.02      0.00         0.41           NaN        NaN    NaN  \n",
       "609      0.14      0.00         0.03           NaN        NaN    NaN  "
      ]
     },
     "execution_count": 11,
     "metadata": {},
     "output_type": "execute_result"
    }
   ],
   "source": [
    "df[df['year_of_release'].isna() == True].head()"
   ]
  },
  {
   "cell_type": "markdown",
   "metadata": {},
   "source": [
    "Процент пропусков"
   ]
  },
  {
   "cell_type": "code",
   "execution_count": 12,
   "metadata": {},
   "outputs": [
    {
     "data": {
      "text/plain": [
       "0.016095255190570215"
      ]
     },
     "execution_count": 12,
     "metadata": {},
     "output_type": "execute_result"
    }
   ],
   "source": [
    "len(df[df['year_of_release'].isna() == True]) / len(df)"
   ]
  },
  {
   "cell_type": "markdown",
   "metadata": {},
   "source": [
    "1,6% данных с пропусками в этом столбце. Кажется, что появление пропусков ни с чем не связано: просто случайность (забыли вбить или потеряли из-за ошибки). \n",
    "\n",
    "Заменить пропуски не получится. Удалять сейчас - не имеет смысла, ведь на следующем шаге мы все равно будем вынуждены избавиться от наблюдений без даты: нам предстоит анализировать данные по годам (они просто не войдут). Оставим их, ведь эти наблюдения содержат другие полезные данные. Вдруг нам все таки они понадобятся. \n",
    "\n",
    "И переведем столбец в целые числа."
   ]
  },
  {
   "cell_type": "code",
   "execution_count": 13,
   "metadata": {},
   "outputs": [],
   "source": [
    "df['year_of_release'] = df['year_of_release'].astype('Int64')"
   ]
  },
  {
   "cell_type": "markdown",
   "metadata": {},
   "source": [
    "### Столбец genre"
   ]
  },
  {
   "cell_type": "markdown",
   "metadata": {},
   "source": [
    "К моменту как мы удалили пропуски в других столбцах, пропуски в этом исчезли сами собой. Разберемся с написанием названий жанров. "
   ]
  },
  {
   "cell_type": "code",
   "execution_count": 14,
   "metadata": {},
   "outputs": [
    {
     "data": {
      "text/plain": [
       "array(['Sports', 'Platform', 'Racing', 'Role-Playing', 'Puzzle', 'Misc',\n",
       "       'Shooter', 'Simulation', 'Action', 'Fighting', 'Adventure',\n",
       "       'Strategy'], dtype=object)"
      ]
     },
     "execution_count": 14,
     "metadata": {},
     "output_type": "execute_result"
    }
   ],
   "source": [
    "df['genre'].unique()"
   ]
  },
  {
   "cell_type": "markdown",
   "metadata": {},
   "source": [
    "Повторений нет. Для удобства обращения сделаем их с маленькой буквы. "
   ]
  },
  {
   "cell_type": "code",
   "execution_count": 15,
   "metadata": {},
   "outputs": [],
   "source": [
    "df['genre'] = df['genre'].str.lower()"
   ]
  },
  {
   "cell_type": "markdown",
   "metadata": {},
   "source": [
    "### Cтолбец Critic_score"
   ]
  },
  {
   "cell_type": "markdown",
   "metadata": {},
   "source": [
    "#### Пропуски"
   ]
  },
  {
   "cell_type": "markdown",
   "metadata": {},
   "source": [
    "Пропусков много и чаще всего, если пропуск есть в столбце 'critic_score', то он есть и в 'user_score', а так же в 'rating'"
   ]
  },
  {
   "cell_type": "code",
   "execution_count": 16,
   "metadata": {},
   "outputs": [
    {
     "name": "stdout",
     "output_type": "stream",
     "text": [
      "Пропусков критиков: 8576\n",
      "Пропусков критиков + юзеров: 6661\n",
      "Проупсков критиков + рейтинга: 6681\n"
     ]
    }
   ],
   "source": [
    "print('Пропусков критиков:', len(df[df['critic_score'].isna() == True]))\n",
    "print('Пропусков критиков + юзеров:', len(df[(df['critic_score'].isna() == True) & (df['user_score'].isna() == True)]))\n",
    "print('Проупсков критиков + рейтинга:', len(df[(df['critic_score'].isna() == True) & (df['rating'].isna() == True)]))"
   ]
  },
  {
   "cell_type": "markdown",
   "metadata": {},
   "source": [
    "Отсутствие этих значений не связано ни с годом выпуска игры (вдруг раньше не учитывали), ни с жанром, ни с платформой. Судя по тому, что пропуски в нескольких столбцах чаще всего идут вместе, видимо их отсутствие взаимосвязано. Возможно - по конкретно этим играм нет оценок (редкая платформа; редкий жанр; мало внимание к игре; продается только в одном регионе, где такие данные не собирают). Либо просто забыли перенести. \n",
    "\n",
    "Заменять их медианой или средним (даже сгруппировав по жанру или платформе) - очень грубо и может исказить данные, поэтому оставим как есть. "
   ]
  },
  {
   "cell_type": "markdown",
   "metadata": {},
   "source": [
    "#### Тип данных и аномальные значения"
   ]
  },
  {
   "cell_type": "code",
   "execution_count": 17,
   "metadata": {},
   "outputs": [
    {
     "data": {
      "text/plain": [
       "count    8137.000000\n",
       "mean       68.967679\n",
       "std        13.938165\n",
       "min        13.000000\n",
       "25%        60.000000\n",
       "50%        71.000000\n",
       "75%        79.000000\n",
       "max        98.000000\n",
       "Name: critic_score, dtype: float64"
      ]
     },
     "execution_count": 17,
     "metadata": {},
     "output_type": "execute_result"
    }
   ],
   "source": [
    "df['critic_score'].describe()"
   ]
  },
  {
   "cell_type": "markdown",
   "metadata": {},
   "source": [
    "Данные не выходят за пределы обозначенных границ"
   ]
  },
  {
   "cell_type": "code",
   "execution_count": 18,
   "metadata": {},
   "outputs": [
    {
     "data": {
      "text/plain": [
       "array([76., nan, 82., 80., 89., 58., 87., 91., 61., 97., 95., 77., 88.,\n",
       "       83., 94., 93., 85., 86., 98., 96., 90., 84., 73., 74., 78., 92.,\n",
       "       71., 72., 68., 62., 49., 67., 81., 66., 56., 79., 70., 59., 64.,\n",
       "       75., 60., 63., 69., 50., 25., 42., 44., 55., 48., 57., 29., 47.,\n",
       "       65., 54., 20., 53., 37., 38., 33., 52., 30., 32., 43., 45., 51.,\n",
       "       40., 46., 39., 34., 35., 41., 36., 28., 31., 27., 26., 19., 23.,\n",
       "       24., 21., 17., 22., 13.])"
      ]
     },
     "execution_count": 18,
     "metadata": {},
     "output_type": "execute_result"
    }
   ],
   "source": [
    "df['critic_score'].unique()"
   ]
  },
  {
   "cell_type": "markdown",
   "metadata": {},
   "source": [
    "Дробных значений нет, а следовательно можно перевести столбец в int"
   ]
  },
  {
   "cell_type": "code",
   "execution_count": 19,
   "metadata": {
    "scrolled": true
   },
   "outputs": [],
   "source": [
    "df['critic_score'] = df['critic_score'].astype('Int64')"
   ]
  },
  {
   "cell_type": "markdown",
   "metadata": {},
   "source": [
    "### Столбец user_score "
   ]
  },
  {
   "cell_type": "markdown",
   "metadata": {},
   "source": [
    "Пропуски рассматривать не будем: их природа судя по всему похожа на природу пропусков в 'critic_score'. Удалять их мы не собираемся. Изменим тип данных и проверим на аномальные значения. "
   ]
  },
  {
   "cell_type": "markdown",
   "metadata": {},
   "source": [
    "#### Тип данных\n",
    "Object нужно привести к float или int?. Посмотрим. "
   ]
  },
  {
   "cell_type": "code",
   "execution_count": 20,
   "metadata": {},
   "outputs": [
    {
     "data": {
      "text/plain": [
       "array(['8', nan, '8.3', '8.5', '6.6', '8.4', '8.6', '7.7', '6.3', '7.4',\n",
       "       '8.2', '9', '7.9', '8.1', '8.7', '7.1', '3.4', '5.3', '4.8', '3.2',\n",
       "       '8.9', '6.4', '7.8', '7.5', '2.6', '7.2', '9.2', '7', '7.3', '4.3',\n",
       "       '7.6', '5.7', '5', '9.1', '6.5', 'tbd', '8.8', '6.9', '9.4', '6.8',\n",
       "       '6.1', '6.7', '5.4', '4', '4.9', '4.5', '9.3', '6.2', '4.2', '6',\n",
       "       '3.7', '4.1', '5.8', '5.6', '5.5', '4.4', '4.6', '5.9', '3.9',\n",
       "       '3.1', '2.9', '5.2', '3.3', '4.7', '5.1', '3.5', '2.5', '1.9', '3',\n",
       "       '2.7', '2.2', '2', '9.5', '2.1', '3.6', '2.8', '1.8', '3.8', '0',\n",
       "       '1.6', '9.6', '2.4', '1.7', '1.1', '0.3', '1.5', '0.7', '1.2',\n",
       "       '2.3', '0.5', '1.3', '0.2', '0.6', '1.4', '0.9', '1', '9.7'],\n",
       "      dtype=object)"
      ]
     },
     "execution_count": 20,
     "metadata": {},
     "output_type": "execute_result"
    }
   ],
   "source": [
    "df['user_score'].unique()"
   ]
  },
  {
   "cell_type": "markdown",
   "metadata": {},
   "source": [
    "Переводить в целые числа нельзя. Оценки пользователей идут с дробной частью.\n",
    "\n",
    "Есть нюанс - значение tbd. Эта аббревиатура означает, что значение \"будет определено\". Для анализа это нам ни о чем не говорит, но и заменить эту аббревиатуру на какую-то цифру мы не можем. Поэтому при переводе в числовое значение мы превратим tbd в NaN с помощью атрибута errors. "
   ]
  },
  {
   "cell_type": "code",
   "execution_count": 21,
   "metadata": {},
   "outputs": [],
   "source": [
    "df['user_score'] = pd.to_numeric(df['user_score'], errors='coerce')"
   ]
  },
  {
   "cell_type": "markdown",
   "metadata": {},
   "source": [
    "#### Аномалии"
   ]
  },
  {
   "cell_type": "code",
   "execution_count": 22,
   "metadata": {},
   "outputs": [
    {
     "data": {
      "text/plain": [
       "count    7590.000000\n",
       "mean        7.125046\n",
       "std         1.500006\n",
       "min         0.000000\n",
       "25%         6.400000\n",
       "50%         7.500000\n",
       "75%         8.200000\n",
       "max         9.700000\n",
       "Name: user_score, dtype: float64"
      ]
     },
     "execution_count": 22,
     "metadata": {},
     "output_type": "execute_result"
    }
   ],
   "source": [
    "df['user_score'].describe()"
   ]
  },
  {
   "cell_type": "markdown",
   "metadata": {},
   "source": [
    "Здесь все в порядке. Максимум и минимум не выходят за пределы. "
   ]
  },
  {
   "cell_type": "markdown",
   "metadata": {},
   "source": [
    "### Столбец rating"
   ]
  },
  {
   "cell_type": "markdown",
   "metadata": {},
   "source": [
    "Пропуски в последних трех столбцах мы решили не заменять. Разберемся только с названиями. "
   ]
  },
  {
   "cell_type": "code",
   "execution_count": 23,
   "metadata": {},
   "outputs": [
    {
     "data": {
      "text/plain": [
       "array(['E', nan, 'M', 'T', 'E10+', 'K-A', 'AO', 'EC', 'RP'], dtype=object)"
      ]
     },
     "execution_count": 23,
     "metadata": {},
     "output_type": "execute_result"
    }
   ],
   "source": [
    "df['rating'].unique()"
   ]
  },
  {
   "cell_type": "markdown",
   "metadata": {},
   "source": [
    "Дубликатов и ошибок нет. сделаем их с маленькой буквы для удобства обращения. "
   ]
  },
  {
   "cell_type": "code",
   "execution_count": 24,
   "metadata": {},
   "outputs": [],
   "source": [
    "df['rating'] = df['rating'].str.lower()"
   ]
  },
  {
   "cell_type": "markdown",
   "metadata": {},
   "source": [
    "### Дубликаты"
   ]
  },
  {
   "cell_type": "code",
   "execution_count": 25,
   "metadata": {},
   "outputs": [
    {
     "data": {
      "text/plain": [
       "0"
      ]
     },
     "execution_count": 25,
     "metadata": {},
     "output_type": "execute_result"
    }
   ],
   "source": [
    "df.duplicated().sum()"
   ]
  },
  {
   "cell_type": "markdown",
   "metadata": {},
   "source": [
    "Полных дубликатов нет."
   ]
  },
  {
   "cell_type": "markdown",
   "metadata": {},
   "source": [
    "### Рассчеты\n",
    "Посчитаем суммарные продажи по регионам и запишем в отдельный столбец"
   ]
  },
  {
   "cell_type": "code",
   "execution_count": 26,
   "metadata": {},
   "outputs": [],
   "source": [
    "df['total_sales'] = df['na_sales'] + df['eu_sales'] + df['jp_sales'] + df['other_sales']"
   ]
  },
  {
   "cell_type": "markdown",
   "metadata": {},
   "source": [
    "Предобработка закончена!"
   ]
  },
  {
   "cell_type": "code",
   "execution_count": 27,
   "metadata": {},
   "outputs": [
    {
     "data": {
      "text/html": [
       "<div>\n",
       "<style scoped>\n",
       "    .dataframe tbody tr th:only-of-type {\n",
       "        vertical-align: middle;\n",
       "    }\n",
       "\n",
       "    .dataframe tbody tr th {\n",
       "        vertical-align: top;\n",
       "    }\n",
       "\n",
       "    .dataframe thead th {\n",
       "        text-align: right;\n",
       "    }\n",
       "</style>\n",
       "<table border=\"1\" class=\"dataframe\">\n",
       "  <thead>\n",
       "    <tr style=\"text-align: right;\">\n",
       "      <th></th>\n",
       "      <th>name</th>\n",
       "      <th>platform</th>\n",
       "      <th>year_of_release</th>\n",
       "      <th>genre</th>\n",
       "      <th>na_sales</th>\n",
       "      <th>eu_sales</th>\n",
       "      <th>jp_sales</th>\n",
       "      <th>other_sales</th>\n",
       "      <th>critic_score</th>\n",
       "      <th>user_score</th>\n",
       "      <th>rating</th>\n",
       "      <th>total_sales</th>\n",
       "    </tr>\n",
       "  </thead>\n",
       "  <tbody>\n",
       "    <tr>\n",
       "      <th>0</th>\n",
       "      <td>Wii Sports</td>\n",
       "      <td>wii</td>\n",
       "      <td>2006</td>\n",
       "      <td>sports</td>\n",
       "      <td>41.36</td>\n",
       "      <td>28.96</td>\n",
       "      <td>3.77</td>\n",
       "      <td>8.45</td>\n",
       "      <td>76</td>\n",
       "      <td>8.0</td>\n",
       "      <td>e</td>\n",
       "      <td>82.54</td>\n",
       "    </tr>\n",
       "    <tr>\n",
       "      <th>1</th>\n",
       "      <td>Super Mario Bros.</td>\n",
       "      <td>nes</td>\n",
       "      <td>1985</td>\n",
       "      <td>platform</td>\n",
       "      <td>29.08</td>\n",
       "      <td>3.58</td>\n",
       "      <td>6.81</td>\n",
       "      <td>0.77</td>\n",
       "      <td>&lt;NA&gt;</td>\n",
       "      <td>NaN</td>\n",
       "      <td>NaN</td>\n",
       "      <td>40.24</td>\n",
       "    </tr>\n",
       "    <tr>\n",
       "      <th>2</th>\n",
       "      <td>Mario Kart Wii</td>\n",
       "      <td>wii</td>\n",
       "      <td>2008</td>\n",
       "      <td>racing</td>\n",
       "      <td>15.68</td>\n",
       "      <td>12.76</td>\n",
       "      <td>3.79</td>\n",
       "      <td>3.29</td>\n",
       "      <td>82</td>\n",
       "      <td>8.3</td>\n",
       "      <td>e</td>\n",
       "      <td>35.52</td>\n",
       "    </tr>\n",
       "    <tr>\n",
       "      <th>3</th>\n",
       "      <td>Wii Sports Resort</td>\n",
       "      <td>wii</td>\n",
       "      <td>2009</td>\n",
       "      <td>sports</td>\n",
       "      <td>15.61</td>\n",
       "      <td>10.93</td>\n",
       "      <td>3.28</td>\n",
       "      <td>2.95</td>\n",
       "      <td>80</td>\n",
       "      <td>8.0</td>\n",
       "      <td>e</td>\n",
       "      <td>32.77</td>\n",
       "    </tr>\n",
       "    <tr>\n",
       "      <th>4</th>\n",
       "      <td>Pokemon Red/Pokemon Blue</td>\n",
       "      <td>gb</td>\n",
       "      <td>1996</td>\n",
       "      <td>role-playing</td>\n",
       "      <td>11.27</td>\n",
       "      <td>8.89</td>\n",
       "      <td>10.22</td>\n",
       "      <td>1.00</td>\n",
       "      <td>&lt;NA&gt;</td>\n",
       "      <td>NaN</td>\n",
       "      <td>NaN</td>\n",
       "      <td>31.38</td>\n",
       "    </tr>\n",
       "  </tbody>\n",
       "</table>\n",
       "</div>"
      ],
      "text/plain": [
       "                       name platform  year_of_release         genre  na_sales  \\\n",
       "0                Wii Sports      wii             2006        sports     41.36   \n",
       "1         Super Mario Bros.      nes             1985      platform     29.08   \n",
       "2            Mario Kart Wii      wii             2008        racing     15.68   \n",
       "3         Wii Sports Resort      wii             2009        sports     15.61   \n",
       "4  Pokemon Red/Pokemon Blue       gb             1996  role-playing     11.27   \n",
       "\n",
       "   eu_sales  jp_sales  other_sales  critic_score  user_score rating  \\\n",
       "0     28.96      3.77         8.45            76         8.0      e   \n",
       "1      3.58      6.81         0.77          <NA>         NaN    NaN   \n",
       "2     12.76      3.79         3.29            82         8.3      e   \n",
       "3     10.93      3.28         2.95            80         8.0      e   \n",
       "4      8.89     10.22         1.00          <NA>         NaN    NaN   \n",
       "\n",
       "   total_sales  \n",
       "0        82.54  \n",
       "1        40.24  \n",
       "2        35.52  \n",
       "3        32.77  \n",
       "4        31.38  "
      ]
     },
     "execution_count": 27,
     "metadata": {},
     "output_type": "execute_result"
    }
   ],
   "source": [
    "df.head()"
   ]
  },
  {
   "cell_type": "code",
   "execution_count": 28,
   "metadata": {},
   "outputs": [
    {
     "name": "stdout",
     "output_type": "stream",
     "text": [
      "<class 'pandas.core.frame.DataFrame'>\n",
      "Int64Index: 16713 entries, 0 to 16714\n",
      "Data columns (total 12 columns):\n",
      " #   Column           Non-Null Count  Dtype  \n",
      "---  ------           --------------  -----  \n",
      " 0   name             16713 non-null  object \n",
      " 1   platform         16713 non-null  object \n",
      " 2   year_of_release  16444 non-null  Int64  \n",
      " 3   genre            16713 non-null  object \n",
      " 4   na_sales         16713 non-null  float64\n",
      " 5   eu_sales         16713 non-null  float64\n",
      " 6   jp_sales         16713 non-null  float64\n",
      " 7   other_sales      16713 non-null  float64\n",
      " 8   critic_score     8137 non-null   Int64  \n",
      " 9   user_score       7590 non-null   float64\n",
      " 10  rating           9949 non-null   object \n",
      " 11  total_sales      16713 non-null  float64\n",
      "dtypes: Int64(2), float64(6), object(4)\n",
      "memory usage: 1.7+ MB\n"
     ]
    }
   ],
   "source": [
    "df.info()"
   ]
  },
  {
   "cell_type": "markdown",
   "metadata": {},
   "source": [
    "## 3. Исследовательский анализ"
   ]
  },
  {
   "cell_type": "markdown",
   "metadata": {},
   "source": [
    "### Количество игр в разные годы"
   ]
  },
  {
   "cell_type": "markdown",
   "metadata": {},
   "source": [
    "Построим диаграмму, чтобы увидеть распределение выпускаемых игр по годам. "
   ]
  },
  {
   "cell_type": "code",
   "execution_count": 29,
   "metadata": {},
   "outputs": [
    {
     "data": {
      "image/png": "[encoded data removed]",
      "text/plain": [
       "<Figure size 792x432 with 1 Axes>"
      ]
     },
     "metadata": {
      "needs_background": "light"
     },
     "output_type": "display_data"
    }
   ],
   "source": [
    "df.groupby('year_of_release')['name'].count().plot(kind='bar', figsize=(11,6))\n",
    "plt.title('Количество выпущенных игр по годам')\n",
    "plt.ylabel('Количество игр')\n",
    "plt.xlabel('Год выпуска')\n",
    "pass"
   ]
  },
  {
   "cell_type": "markdown",
   "metadata": {},
   "source": [
    "Если не брать в рассчет первые годы, то количество игр плавно возрастает с течением времени, но в 2012 происходит какой-то спад и следующие 5 лет количество игр держится примерно в одном диапозоне. **Для прогноза на ОДИН следующий год корректнее взять только эти последние 5 лет.**"
   ]
  },
  {
   "cell_type": "markdown",
   "metadata": {},
   "source": [
    "Но, это предварительный вывод. Следующим шагом мы еще посмотрим продажи по платформам. До этого этапа можно исключить из таблицы данные до 1990 года. Игр там выпускалось очень мало (только с 1991 их количество начинает возрастать) - эти данные малозначимые. Для этого создадим новый фрейм (вдруг нам потребуется вернуться к исходному). "
   ]
  },
  {
   "cell_type": "code",
   "execution_count": 30,
   "metadata": {},
   "outputs": [],
   "source": [
    "data = df[df['year_of_release'] > 1990].reset_index(drop=True)"
   ]
  },
  {
   "cell_type": "markdown",
   "metadata": {},
   "source": [
    "### Продажи по платформам"
   ]
  },
  {
   "cell_type": "markdown",
   "metadata": {},
   "source": [
    "Построим график распределения продаж по платформам, чтобы определить только самые топовые. "
   ]
  },
  {
   "cell_type": "code",
   "execution_count": 31,
   "metadata": {},
   "outputs": [
    {
     "data": {
      "image/png": "[encoded data removed]",
      "text/plain": [
       "<Figure size 792x432 with 1 Axes>"
      ]
     },
     "metadata": {
      "needs_background": "light"
     },
     "output_type": "display_data"
    }
   ],
   "source": [
    "top_platforms = data.groupby('platform')['total_sales'].sum().sort_values(ascending=False)\n",
    "top_platforms.plot(kind='bar', figsize=(11,6))\n",
    "plt.title('Продажи игр по платформам')\n",
    "plt.ylabel('Кол-во проданных копий')\n",
    "plt.xlabel('Платформа')\n",
    "pass"
   ]
  },
  {
   "cell_type": "markdown",
   "metadata": {},
   "source": [
    "Видим 6 топовых платформ (после 6-ой - резкий спад). Возьмем только их и посмотрим распределение по годам. \n",
    "\n",
    "Выделим имена в отедельный список."
   ]
  },
  {
   "cell_type": "code",
   "execution_count": 32,
   "metadata": {},
   "outputs": [],
   "source": [
    "top_platform_names = top_platforms.head(6).index"
   ]
  },
  {
   "cell_type": "markdown",
   "metadata": {},
   "source": [
    "Отберем только те наблюдения, в которых находятся соответствующие платформы, затем построим сводную таблицу и выведем график, где: по Х - годы, по Y - количество копий игр, вышедших на платформе (в млн.). "
   ]
  },
  {
   "cell_type": "code",
   "execution_count": 33,
   "metadata": {},
   "outputs": [
    {
     "data": {
      "image/png": "[encoded data removed]",
      "text/plain": [
       "<Figure size 864x432 with 1 Axes>"
      ]
     },
     "metadata": {
      "needs_background": "light"
     },
     "output_type": "display_data"
    }
   ],
   "source": [
    "data.query('platform in @top_platform_names').pivot_table(index='year_of_release', \n",
    "                                                    columns='platform', \n",
    "                                                    values='total_sales', \n",
    "                                                    aggfunc='sum').plot(figsize=(12,6), \n",
    "                                                                          xlim=(1993, 2016),\n",
    "                                                                         grid=True)\n",
    "plt.title('Продажи игр на топовых платформах в зависимости от года')\n",
    "plt.ylabel('Количество проданных игр (млн.копий)')\n",
    "plt.xlabel('Год выпуска')\n",
    "pass"
   ]
  },
  {
   "cell_type": "markdown",
   "metadata": {},
   "source": [
    "**Выводы**\n",
    "- Количество продаваемых копий падает почти в ДВА раза в 2012 году, а затем держится в одном диапозоне;\n",
    "- Среднее время жизни платформы - 7-11 лет\n",
    "- Для прогноза на 2017 год, нам действительно имеет смысл взять данные только с 2012 года (окончательно пропадает ps2,  значительно падают продажи xbox и ps3)"
   ]
  },
  {
   "cell_type": "markdown",
   "metadata": {},
   "source": [
    "### Отбор данных для анализа"
   ]
  },
  {
   "cell_type": "markdown",
   "metadata": {},
   "source": [
    "Создадим новый фрейм (вдруг нам потребуется вернуться к исходному) и оставим там только данные, начинася с 2012 года. "
   ]
  },
  {
   "cell_type": "code",
   "execution_count": 34,
   "metadata": {},
   "outputs": [],
   "source": [
    "data = data[data['year_of_release'] > 2011].reset_index(drop=True)"
   ]
  },
  {
   "cell_type": "markdown",
   "metadata": {},
   "source": [
    "### Лидеры по продажам\n",
    "Сделаем сводную табличку и построим по ней график. Он будет похож на предыдущий за исключением того, что мы оставили только данные с 2012 года и взяли все платформы. "
   ]
  },
  {
   "cell_type": "code",
   "execution_count": 35,
   "metadata": {},
   "outputs": [
    {
     "data": {
      "image/png": "[encoded data removed]",
      "text/plain": [
       "<Figure size 864x432 with 1 Axes>"
      ]
     },
     "metadata": {
      "needs_background": "light"
     },
     "output_type": "display_data"
    }
   ],
   "source": [
    "data.pivot_table(index='year_of_release', \n",
    "                 columns='platform', \n",
    "                 values='total_sales', \n",
    "                 aggfunc='sum').plot(figsize=(12,6))\n",
    "plt.title('Продажи игр на разных платформах в зависимости от года')\n",
    "plt.ylabel('Количество проданных игр (млн.копий)')\n",
    "plt.xlabel('Год выпуска')\n",
    "pass"
   ]
  },
  {
   "cell_type": "markdown",
   "metadata": {},
   "source": [
    "На графике очень наглядно виден ответ на вопрос:\n",
    "1. Продажи на всех платформах падают\n",
    "2. Есть платформы, которые не растут и не падают, а скорее находятся в одном состоянии. Это линии - которые ползут \"по полу\" на протяжении всего графика.\n",
    "2. Продажи PS3, xBox360 и 3DS падают. \n",
    "3. Продажи xBoxOne и PS4 падают, но при этом - они росли до 2015 года, а сейчас остаются в лидерах. \n",
    "\n",
    "График помог нам увидеть рост и падение. Посмотрим на лидеров по продажам безотносительно динамики. "
   ]
  },
  {
   "cell_type": "code",
   "execution_count": 36,
   "metadata": {},
   "outputs": [
    {
     "data": {
      "image/png": "[encoded data removed]",
      "text/plain": [
       "<Figure size 720x432 with 1 Axes>"
      ]
     },
     "metadata": {
      "needs_background": "light"
     },
     "output_type": "display_data"
    }
   ],
   "source": [
    "data.groupby('platform')['total_sales'].sum().sort_values(ascending=False).plot(kind='bar', figsize=(10,6))\n",
    "plt.title('Продажи игр на разных платформах с 2011 по 2016')\n",
    "plt.ylabel('Количество проданных игр (млн.копий)')\n",
    "plt.xlabel('Платформа')\n",
    "pass"
   ]
  },
  {
   "cell_type": "markdown",
   "metadata": {},
   "source": [
    "- По продажам с 2012 года в лидерах PlayStation. Обе их приставки занимают первые две строчки. \n",
    "- На третьем месте идет xbox 360, но это скорее отстаточное явление. В 2017 году продажи этой консоли точно будут ниже, чем xbox one (xone). \n",
    "- Не смотря на то, что ps3 занимает второе место, к 2017 году их продажи тоже упали на уровень платформ, которые \"ползут по полу\". \n",
    "- 3DS тоже падает, но к 2015-2016 году выходит на 3 строчку. "
   ]
  },
  {
   "cell_type": "markdown",
   "metadata": {},
   "source": [
    "#### Вывод"
   ]
  },
  {
   "cell_type": "markdown",
   "metadata": {},
   "source": [
    "В 2017 году считаю самыми перспективными  3 платформы:\n",
    "1. PS4\n",
    "2. Xbox One\n",
    "3. 3DS"
   ]
  },
  {
   "cell_type": "markdown",
   "metadata": {},
   "source": [
    "### Продажи игр по платформам"
   ]
  },
  {
   "cell_type": "code",
   "execution_count": 37,
   "metadata": {},
   "outputs": [
    {
     "data": {
      "image/png": "[encoded data removed]",
      "text/plain": [
       "<Figure size 1080x432 with 1 Axes>"
      ]
     },
     "metadata": {
      "needs_background": "light"
     },
     "output_type": "display_data"
    }
   ],
   "source": [
    "data.boxplot(by='platform', column='total_sales', figsize=(15,6))\n",
    "plt.title('Распределение продаж по платформам')\n",
    "plt.ylabel('Количество проданных игр (млн.копий)')\n",
    "plt.xlabel('Платформа')\n",
    "pass"
   ]
  },
  {
   "cell_type": "markdown",
   "metadata": {},
   "source": [
    "Из-за большого количества разных платформ и сильных выбросов на некоторых из них, масштаб графика стал очень большой. Это мешает изучить основную массу (коробку и усы). Уберем выбросы и посмотрим еще раз. "
   ]
  },
  {
   "cell_type": "code",
   "execution_count": 38,
   "metadata": {},
   "outputs": [
    {
     "data": {
      "image/png": "[encoded data removed]",
      "text/plain": [
       "<Figure size 1080x432 with 1 Axes>"
      ]
     },
     "metadata": {
      "needs_background": "light"
     },
     "output_type": "display_data"
    }
   ],
   "source": [
    "data.boxplot(by='platform', column='total_sales', figsize=(15,6), showfliers=False)\n",
    "plt.title('Распределение продаж по платформам')\n",
    "plt.ylabel('Количество проданных игр (млн.копий)')\n",
    "plt.xlabel('Платформа')\n",
    "pass"
   ]
  },
  {
   "cell_type": "markdown",
   "metadata": {},
   "source": [
    "#### Вывод"
   ]
  },
  {
   "cell_type": "markdown",
   "metadata": {},
   "source": [
    "1. Большая часть игр продается в количестве где-то до 1 млн копий (реже - до 2 млн).\n",
    "2. На топовых платформах куда чаще встречаются игры, продажи которых могут подниматься далеко от медианных значений (длинная плотная колбаса из точек и единичные точки в верхней части графика).\n",
    "3. Лишь две игры имеют продажи больше, чем 15 миллионов копий. А на самом деле это даже одна игра, просто на разных платформах (GTA V, разумеется).\n",
    "4. Интересное наблюдение про платформу 3ds: ее коробка и усы ниже, чем у wii и wiiu. Однако суммарно по продажам 3ds сильно обходит их. Все за счет выбросов. Игры среднячки - это основной костяк, но в лидеры выводят именно единичные крутые игры. \n",
    "5. Общий вывод: платформу в первую очередь \"вытягивают в топ\" крутые единичные игры. "
   ]
  },
  {
   "cell_type": "markdown",
   "metadata": {},
   "source": [
    "### Влияние отзывов на продажи\n",
    "**Цель:** выяснить как влияют на продажи внутри одной популярной платформы отзывы пользователей и критиков.\n",
    "\n",
    "**Задачи:**\n",
    "- Построить диаграмму рассеяния и посчитать корреляцию между отзывами и продажами\n",
    "- Сформулировать выводы."
   ]
  },
  {
   "cell_type": "markdown",
   "metadata": {},
   "source": [
    "Сейчас нам предстоит множество однотипных операций, поэтому для удобства сделаем функцию, которая показывать нужные нам сравнения. "
   ]
  },
  {
   "cell_type": "code",
   "execution_count": 39,
   "metadata": {},
   "outputs": [],
   "source": [
    "def platform_score_show_stat(platform):\n",
    "    platform_data = df.query('platform == @platform')[['name', 'total_sales', 'critic_score', 'user_score']]\n",
    "    fig, (ax1, ax2) = plt.subplots(1, 2, figsize=(14,4))\n",
    "    ax1.set_title('Диаграмма №1')\n",
    "    ax1.set_xlabel('Оценки критиков')\n",
    "    ax1.set_ylabel('Продажи (млн. копий)')\n",
    "    ax1.scatter(platform_data['critic_score'].astype('float'), platform_data['total_sales'])\n",
    "\n",
    "    ax2.set_title('Диаграмма №2')\n",
    "    ax2.set_xlabel('Оценки пользователей')\n",
    "    ax2.set_ylabel('Продажи (млн. копий)')\n",
    "    ax2.scatter(platform_data['user_score'], platform_data['total_sales'])\n",
    "\n",
    "    pass\n",
    "    display(platform_data.corr().round(2))"
   ]
  },
  {
   "cell_type": "markdown",
   "metadata": {},
   "source": [
    "#### Отзывы и продажи: ps4"
   ]
  },
  {
   "cell_type": "code",
   "execution_count": 40,
   "metadata": {},
   "outputs": [
    {
     "data": {
      "text/html": [
       "<div>\n",
       "<style scoped>\n",
       "    .dataframe tbody tr th:only-of-type {\n",
       "        vertical-align: middle;\n",
       "    }\n",
       "\n",
       "    .dataframe tbody tr th {\n",
       "        vertical-align: top;\n",
       "    }\n",
       "\n",
       "    .dataframe thead th {\n",
       "        text-align: right;\n",
       "    }\n",
       "</style>\n",
       "<table border=\"1\" class=\"dataframe\">\n",
       "  <thead>\n",
       "    <tr style=\"text-align: right;\">\n",
       "      <th></th>\n",
       "      <th>total_sales</th>\n",
       "      <th>critic_score</th>\n",
       "      <th>user_score</th>\n",
       "    </tr>\n",
       "  </thead>\n",
       "  <tbody>\n",
       "    <tr>\n",
       "      <th>total_sales</th>\n",
       "      <td>1.00</td>\n",
       "      <td>0.41</td>\n",
       "      <td>-0.03</td>\n",
       "    </tr>\n",
       "    <tr>\n",
       "      <th>critic_score</th>\n",
       "      <td>0.41</td>\n",
       "      <td>1.00</td>\n",
       "      <td>0.56</td>\n",
       "    </tr>\n",
       "    <tr>\n",
       "      <th>user_score</th>\n",
       "      <td>-0.03</td>\n",
       "      <td>0.56</td>\n",
       "      <td>1.00</td>\n",
       "    </tr>\n",
       "  </tbody>\n",
       "</table>\n",
       "</div>"
      ],
      "text/plain": [
       "              total_sales  critic_score  user_score\n",
       "total_sales          1.00          0.41       -0.03\n",
       "critic_score         0.41          1.00        0.56\n",
       "user_score          -0.03          0.56        1.00"
      ]
     },
     "metadata": {},
     "output_type": "display_data"
    },
    {
     "data": {
      "image/png": "[encoded data removed]",
      "text/plain": [
       "<Figure size 1008x288 with 2 Axes>"
      ]
     },
     "metadata": {
      "needs_background": "light"
     },
     "output_type": "display_data"
    }
   ],
   "source": [
    "platform_score_show_stat('ps4')"
   ]
  },
  {
   "cell_type": "markdown",
   "metadata": {},
   "source": [
    "#### Отзывы и продажи: xbox 360"
   ]
  },
  {
   "cell_type": "code",
   "execution_count": 41,
   "metadata": {},
   "outputs": [
    {
     "data": {
      "text/html": [
       "<div>\n",
       "<style scoped>\n",
       "    .dataframe tbody tr th:only-of-type {\n",
       "        vertical-align: middle;\n",
       "    }\n",
       "\n",
       "    .dataframe tbody tr th {\n",
       "        vertical-align: top;\n",
       "    }\n",
       "\n",
       "    .dataframe thead th {\n",
       "        text-align: right;\n",
       "    }\n",
       "</style>\n",
       "<table border=\"1\" class=\"dataframe\">\n",
       "  <thead>\n",
       "    <tr style=\"text-align: right;\">\n",
       "      <th></th>\n",
       "      <th>total_sales</th>\n",
       "      <th>critic_score</th>\n",
       "      <th>user_score</th>\n",
       "    </tr>\n",
       "  </thead>\n",
       "  <tbody>\n",
       "    <tr>\n",
       "      <th>total_sales</th>\n",
       "      <td>1.00</td>\n",
       "      <td>0.39</td>\n",
       "      <td>0.11</td>\n",
       "    </tr>\n",
       "    <tr>\n",
       "      <th>critic_score</th>\n",
       "      <td>0.39</td>\n",
       "      <td>1.00</td>\n",
       "      <td>0.62</td>\n",
       "    </tr>\n",
       "    <tr>\n",
       "      <th>user_score</th>\n",
       "      <td>0.11</td>\n",
       "      <td>0.62</td>\n",
       "      <td>1.00</td>\n",
       "    </tr>\n",
       "  </tbody>\n",
       "</table>\n",
       "</div>"
      ],
      "text/plain": [
       "              total_sales  critic_score  user_score\n",
       "total_sales          1.00          0.39        0.11\n",
       "critic_score         0.39          1.00        0.62\n",
       "user_score           0.11          0.62        1.00"
      ]
     },
     "metadata": {},
     "output_type": "display_data"
    },
    {
     "data": {
      "image/png": "[encoded data removed]",
      "text/plain": [
       "<Figure size 1008x288 with 2 Axes>"
      ]
     },
     "metadata": {
      "needs_background": "light"
     },
     "output_type": "display_data"
    }
   ],
   "source": [
    "platform_score_show_stat('x360')"
   ]
  },
  {
   "cell_type": "markdown",
   "metadata": {},
   "source": [
    "#### Отзывы и продажи: ps3"
   ]
  },
  {
   "cell_type": "code",
   "execution_count": 42,
   "metadata": {
    "scrolled": true
   },
   "outputs": [
    {
     "data": {
      "text/html": [
       "<div>\n",
       "<style scoped>\n",
       "    .dataframe tbody tr th:only-of-type {\n",
       "        vertical-align: middle;\n",
       "    }\n",
       "\n",
       "    .dataframe tbody tr th {\n",
       "        vertical-align: top;\n",
       "    }\n",
       "\n",
       "    .dataframe thead th {\n",
       "        text-align: right;\n",
       "    }\n",
       "</style>\n",
       "<table border=\"1\" class=\"dataframe\">\n",
       "  <thead>\n",
       "    <tr style=\"text-align: right;\">\n",
       "      <th></th>\n",
       "      <th>total_sales</th>\n",
       "      <th>critic_score</th>\n",
       "      <th>user_score</th>\n",
       "    </tr>\n",
       "  </thead>\n",
       "  <tbody>\n",
       "    <tr>\n",
       "      <th>total_sales</th>\n",
       "      <td>1.00</td>\n",
       "      <td>0.43</td>\n",
       "      <td>0.13</td>\n",
       "    </tr>\n",
       "    <tr>\n",
       "      <th>critic_score</th>\n",
       "      <td>0.43</td>\n",
       "      <td>1.00</td>\n",
       "      <td>0.63</td>\n",
       "    </tr>\n",
       "    <tr>\n",
       "      <th>user_score</th>\n",
       "      <td>0.13</td>\n",
       "      <td>0.63</td>\n",
       "      <td>1.00</td>\n",
       "    </tr>\n",
       "  </tbody>\n",
       "</table>\n",
       "</div>"
      ],
      "text/plain": [
       "              total_sales  critic_score  user_score\n",
       "total_sales          1.00          0.43        0.13\n",
       "critic_score         0.43          1.00        0.63\n",
       "user_score           0.13          0.63        1.00"
      ]
     },
     "metadata": {},
     "output_type": "display_data"
    },
    {
     "data": {
      "image/png": "[encoded data removed]",
      "text/plain": [
       "<Figure size 1008x288 with 2 Axes>"
      ]
     },
     "metadata": {
      "needs_background": "light"
     },
     "output_type": "display_data"
    }
   ],
   "source": [
    "platform_score_show_stat('ps3')"
   ]
  },
  {
   "cell_type": "markdown",
   "metadata": {},
   "source": [
    "#### Отзывы и продажи: xbox one"
   ]
  },
  {
   "cell_type": "code",
   "execution_count": 43,
   "metadata": {
    "scrolled": false
   },
   "outputs": [
    {
     "data": {
      "text/html": [
       "<div>\n",
       "<style scoped>\n",
       "    .dataframe tbody tr th:only-of-type {\n",
       "        vertical-align: middle;\n",
       "    }\n",
       "\n",
       "    .dataframe tbody tr th {\n",
       "        vertical-align: top;\n",
       "    }\n",
       "\n",
       "    .dataframe thead th {\n",
       "        text-align: right;\n",
       "    }\n",
       "</style>\n",
       "<table border=\"1\" class=\"dataframe\">\n",
       "  <thead>\n",
       "    <tr style=\"text-align: right;\">\n",
       "      <th></th>\n",
       "      <th>total_sales</th>\n",
       "      <th>critic_score</th>\n",
       "      <th>user_score</th>\n",
       "    </tr>\n",
       "  </thead>\n",
       "  <tbody>\n",
       "    <tr>\n",
       "      <th>total_sales</th>\n",
       "      <td>1.00</td>\n",
       "      <td>0.42</td>\n",
       "      <td>-0.07</td>\n",
       "    </tr>\n",
       "    <tr>\n",
       "      <th>critic_score</th>\n",
       "      <td>0.42</td>\n",
       "      <td>1.00</td>\n",
       "      <td>0.47</td>\n",
       "    </tr>\n",
       "    <tr>\n",
       "      <th>user_score</th>\n",
       "      <td>-0.07</td>\n",
       "      <td>0.47</td>\n",
       "      <td>1.00</td>\n",
       "    </tr>\n",
       "  </tbody>\n",
       "</table>\n",
       "</div>"
      ],
      "text/plain": [
       "              total_sales  critic_score  user_score\n",
       "total_sales          1.00          0.42       -0.07\n",
       "critic_score         0.42          1.00        0.47\n",
       "user_score          -0.07          0.47        1.00"
      ]
     },
     "metadata": {},
     "output_type": "display_data"
    },
    {
     "data": {
      "image/png": "[encoded data removed]",
      "text/plain": [
       "<Figure size 1008x288 with 2 Axes>"
      ]
     },
     "metadata": {
      "needs_background": "light"
     },
     "output_type": "display_data"
    }
   ],
   "source": [
    "platform_score_show_stat('xone')"
   ]
  },
  {
   "cell_type": "markdown",
   "metadata": {},
   "source": [
    "#### Отзывы и продажи: 3ds"
   ]
  },
  {
   "cell_type": "code",
   "execution_count": 44,
   "metadata": {
    "scrolled": true
   },
   "outputs": [
    {
     "data": {
      "text/html": [
       "<div>\n",
       "<style scoped>\n",
       "    .dataframe tbody tr th:only-of-type {\n",
       "        vertical-align: middle;\n",
       "    }\n",
       "\n",
       "    .dataframe tbody tr th {\n",
       "        vertical-align: top;\n",
       "    }\n",
       "\n",
       "    .dataframe thead th {\n",
       "        text-align: right;\n",
       "    }\n",
       "</style>\n",
       "<table border=\"1\" class=\"dataframe\">\n",
       "  <thead>\n",
       "    <tr style=\"text-align: right;\">\n",
       "      <th></th>\n",
       "      <th>total_sales</th>\n",
       "      <th>critic_score</th>\n",
       "      <th>user_score</th>\n",
       "    </tr>\n",
       "  </thead>\n",
       "  <tbody>\n",
       "    <tr>\n",
       "      <th>total_sales</th>\n",
       "      <td>1.00</td>\n",
       "      <td>0.35</td>\n",
       "      <td>0.22</td>\n",
       "    </tr>\n",
       "    <tr>\n",
       "      <th>critic_score</th>\n",
       "      <td>0.35</td>\n",
       "      <td>1.00</td>\n",
       "      <td>0.74</td>\n",
       "    </tr>\n",
       "    <tr>\n",
       "      <th>user_score</th>\n",
       "      <td>0.22</td>\n",
       "      <td>0.74</td>\n",
       "      <td>1.00</td>\n",
       "    </tr>\n",
       "  </tbody>\n",
       "</table>\n",
       "</div>"
      ],
      "text/plain": [
       "              total_sales  critic_score  user_score\n",
       "total_sales          1.00          0.35        0.22\n",
       "critic_score         0.35          1.00        0.74\n",
       "user_score           0.22          0.74        1.00"
      ]
     },
     "metadata": {},
     "output_type": "display_data"
    },
    {
     "data": {
      "image/png": "[encoded data removed]",
      "text/plain": [
       "<Figure size 1008x288 with 2 Axes>"
      ]
     },
     "metadata": {
      "needs_background": "light"
     },
     "output_type": "display_data"
    }
   ],
   "source": [
    "platform_score_show_stat('3ds')"
   ]
  },
  {
   "cell_type": "markdown",
   "metadata": {},
   "source": [
    "#### Отзывы и продажи: dc"
   ]
  },
  {
   "cell_type": "code",
   "execution_count": 45,
   "metadata": {
    "scrolled": true
   },
   "outputs": [
    {
     "data": {
      "text/html": [
       "<div>\n",
       "<style scoped>\n",
       "    .dataframe tbody tr th:only-of-type {\n",
       "        vertical-align: middle;\n",
       "    }\n",
       "\n",
       "    .dataframe tbody tr th {\n",
       "        vertical-align: top;\n",
       "    }\n",
       "\n",
       "    .dataframe thead th {\n",
       "        text-align: right;\n",
       "    }\n",
       "</style>\n",
       "<table border=\"1\" class=\"dataframe\">\n",
       "  <thead>\n",
       "    <tr style=\"text-align: right;\">\n",
       "      <th></th>\n",
       "      <th>total_sales</th>\n",
       "      <th>critic_score</th>\n",
       "      <th>user_score</th>\n",
       "    </tr>\n",
       "  </thead>\n",
       "  <tbody>\n",
       "    <tr>\n",
       "      <th>total_sales</th>\n",
       "      <td>1.00</td>\n",
       "      <td>0.35</td>\n",
       "      <td>-0.30</td>\n",
       "    </tr>\n",
       "    <tr>\n",
       "      <th>critic_score</th>\n",
       "      <td>0.35</td>\n",
       "      <td>1.00</td>\n",
       "      <td>-0.16</td>\n",
       "    </tr>\n",
       "    <tr>\n",
       "      <th>user_score</th>\n",
       "      <td>-0.30</td>\n",
       "      <td>-0.16</td>\n",
       "      <td>1.00</td>\n",
       "    </tr>\n",
       "  </tbody>\n",
       "</table>\n",
       "</div>"
      ],
      "text/plain": [
       "              total_sales  critic_score  user_score\n",
       "total_sales          1.00          0.35       -0.30\n",
       "critic_score         0.35          1.00       -0.16\n",
       "user_score          -0.30         -0.16        1.00"
      ]
     },
     "metadata": {},
     "output_type": "display_data"
    },
    {
     "data": {
      "image/png": "[encoded data removed]",
      "text/plain": [
       "<Figure size 1008x288 with 2 Axes>"
      ]
     },
     "metadata": {
      "needs_background": "light"
     },
     "output_type": "display_data"
    }
   ],
   "source": [
    "platform_score_show_stat('dc')"
   ]
  },
  {
   "cell_type": "markdown",
   "metadata": {},
   "source": [
    "Здесь в целом очень мало данных, чтобы делать какой-то вывод"
   ]
  },
  {
   "cell_type": "markdown",
   "metadata": {},
   "source": [
    "#### Отзывы и продажи: pс"
   ]
  },
  {
   "cell_type": "code",
   "execution_count": 46,
   "metadata": {
    "scrolled": true
   },
   "outputs": [
    {
     "data": {
      "text/html": [
       "<div>\n",
       "<style scoped>\n",
       "    .dataframe tbody tr th:only-of-type {\n",
       "        vertical-align: middle;\n",
       "    }\n",
       "\n",
       "    .dataframe tbody tr th {\n",
       "        vertical-align: top;\n",
       "    }\n",
       "\n",
       "    .dataframe thead th {\n",
       "        text-align: right;\n",
       "    }\n",
       "</style>\n",
       "<table border=\"1\" class=\"dataframe\">\n",
       "  <thead>\n",
       "    <tr style=\"text-align: right;\">\n",
       "      <th></th>\n",
       "      <th>total_sales</th>\n",
       "      <th>critic_score</th>\n",
       "      <th>user_score</th>\n",
       "    </tr>\n",
       "  </thead>\n",
       "  <tbody>\n",
       "    <tr>\n",
       "      <th>total_sales</th>\n",
       "      <td>1.00</td>\n",
       "      <td>0.26</td>\n",
       "      <td>0.01</td>\n",
       "    </tr>\n",
       "    <tr>\n",
       "      <th>critic_score</th>\n",
       "      <td>0.26</td>\n",
       "      <td>1.00</td>\n",
       "      <td>0.56</td>\n",
       "    </tr>\n",
       "    <tr>\n",
       "      <th>user_score</th>\n",
       "      <td>0.01</td>\n",
       "      <td>0.56</td>\n",
       "      <td>1.00</td>\n",
       "    </tr>\n",
       "  </tbody>\n",
       "</table>\n",
       "</div>"
      ],
      "text/plain": [
       "              total_sales  critic_score  user_score\n",
       "total_sales          1.00          0.26        0.01\n",
       "critic_score         0.26          1.00        0.56\n",
       "user_score           0.01          0.56        1.00"
      ]
     },
     "metadata": {},
     "output_type": "display_data"
    },
    {
     "data": {
      "image/png": "[encoded data removed]",
      "text/plain": [
       "<Figure size 1008x288 with 2 Axes>"
      ]
     },
     "metadata": {
      "needs_background": "light"
     },
     "output_type": "display_data"
    }
   ],
   "source": [
    "platform_score_show_stat('pc')"
   ]
  },
  {
   "cell_type": "markdown",
   "metadata": {},
   "source": [
    "#### Отзывы и продажи: psp"
   ]
  },
  {
   "cell_type": "code",
   "execution_count": 47,
   "metadata": {
    "scrolled": false
   },
   "outputs": [
    {
     "data": {
      "text/html": [
       "<div>\n",
       "<style scoped>\n",
       "    .dataframe tbody tr th:only-of-type {\n",
       "        vertical-align: middle;\n",
       "    }\n",
       "\n",
       "    .dataframe tbody tr th {\n",
       "        vertical-align: top;\n",
       "    }\n",
       "\n",
       "    .dataframe thead th {\n",
       "        text-align: right;\n",
       "    }\n",
       "</style>\n",
       "<table border=\"1\" class=\"dataframe\">\n",
       "  <thead>\n",
       "    <tr style=\"text-align: right;\">\n",
       "      <th></th>\n",
       "      <th>total_sales</th>\n",
       "      <th>critic_score</th>\n",
       "      <th>user_score</th>\n",
       "    </tr>\n",
       "  </thead>\n",
       "  <tbody>\n",
       "    <tr>\n",
       "      <th>total_sales</th>\n",
       "      <td>1.00</td>\n",
       "      <td>0.32</td>\n",
       "      <td>0.22</td>\n",
       "    </tr>\n",
       "    <tr>\n",
       "      <th>critic_score</th>\n",
       "      <td>0.32</td>\n",
       "      <td>1.00</td>\n",
       "      <td>0.54</td>\n",
       "    </tr>\n",
       "    <tr>\n",
       "      <th>user_score</th>\n",
       "      <td>0.22</td>\n",
       "      <td>0.54</td>\n",
       "      <td>1.00</td>\n",
       "    </tr>\n",
       "  </tbody>\n",
       "</table>\n",
       "</div>"
      ],
      "text/plain": [
       "              total_sales  critic_score  user_score\n",
       "total_sales          1.00          0.32        0.22\n",
       "critic_score         0.32          1.00        0.54\n",
       "user_score           0.22          0.54        1.00"
      ]
     },
     "metadata": {},
     "output_type": "display_data"
    },
    {
     "data": {
      "image/png": "[encoded data removed]",
      "text/plain": [
       "<Figure size 1008x288 with 2 Axes>"
      ]
     },
     "metadata": {
      "needs_background": "light"
     },
     "output_type": "display_data"
    }
   ],
   "source": [
    "platform_score_show_stat('psp')"
   ]
  },
  {
   "cell_type": "markdown",
   "metadata": {},
   "source": [
    "#### Отзывы и продажи: psv"
   ]
  },
  {
   "cell_type": "code",
   "execution_count": 48,
   "metadata": {
    "scrolled": true
   },
   "outputs": [
    {
     "data": {
      "text/html": [
       "<div>\n",
       "<style scoped>\n",
       "    .dataframe tbody tr th:only-of-type {\n",
       "        vertical-align: middle;\n",
       "    }\n",
       "\n",
       "    .dataframe tbody tr th {\n",
       "        vertical-align: top;\n",
       "    }\n",
       "\n",
       "    .dataframe thead th {\n",
       "        text-align: right;\n",
       "    }\n",
       "</style>\n",
       "<table border=\"1\" class=\"dataframe\">\n",
       "  <thead>\n",
       "    <tr style=\"text-align: right;\">\n",
       "      <th></th>\n",
       "      <th>total_sales</th>\n",
       "      <th>critic_score</th>\n",
       "      <th>user_score</th>\n",
       "    </tr>\n",
       "  </thead>\n",
       "  <tbody>\n",
       "    <tr>\n",
       "      <th>total_sales</th>\n",
       "      <td>1.00</td>\n",
       "      <td>0.13</td>\n",
       "      <td>0.01</td>\n",
       "    </tr>\n",
       "    <tr>\n",
       "      <th>critic_score</th>\n",
       "      <td>0.13</td>\n",
       "      <td>1.00</td>\n",
       "      <td>0.73</td>\n",
       "    </tr>\n",
       "    <tr>\n",
       "      <th>user_score</th>\n",
       "      <td>0.01</td>\n",
       "      <td>0.73</td>\n",
       "      <td>1.00</td>\n",
       "    </tr>\n",
       "  </tbody>\n",
       "</table>\n",
       "</div>"
      ],
      "text/plain": [
       "              total_sales  critic_score  user_score\n",
       "total_sales          1.00          0.13        0.01\n",
       "critic_score         0.13          1.00        0.73\n",
       "user_score           0.01          0.73        1.00"
      ]
     },
     "metadata": {},
     "output_type": "display_data"
    },
    {
     "data": {
      "image/png": "[encoded data removed]",
      "text/plain": [
       "<Figure size 1008x288 with 2 Axes>"
      ]
     },
     "metadata": {
      "needs_background": "light"
     },
     "output_type": "display_data"
    }
   ],
   "source": [
    "platform_score_show_stat('psv')"
   ]
  },
  {
   "cell_type": "markdown",
   "metadata": {},
   "source": [
    "#### Отзывы и продажи: wii"
   ]
  },
  {
   "cell_type": "code",
   "execution_count": 49,
   "metadata": {
    "scrolled": true
   },
   "outputs": [
    {
     "data": {
      "text/html": [
       "<div>\n",
       "<style scoped>\n",
       "    .dataframe tbody tr th:only-of-type {\n",
       "        vertical-align: middle;\n",
       "    }\n",
       "\n",
       "    .dataframe tbody tr th {\n",
       "        vertical-align: top;\n",
       "    }\n",
       "\n",
       "    .dataframe thead th {\n",
       "        text-align: right;\n",
       "    }\n",
       "</style>\n",
       "<table border=\"1\" class=\"dataframe\">\n",
       "  <thead>\n",
       "    <tr style=\"text-align: right;\">\n",
       "      <th></th>\n",
       "      <th>total_sales</th>\n",
       "      <th>critic_score</th>\n",
       "      <th>user_score</th>\n",
       "    </tr>\n",
       "  </thead>\n",
       "  <tbody>\n",
       "    <tr>\n",
       "      <th>total_sales</th>\n",
       "      <td>1.00</td>\n",
       "      <td>0.18</td>\n",
       "      <td>0.11</td>\n",
       "    </tr>\n",
       "    <tr>\n",
       "      <th>critic_score</th>\n",
       "      <td>0.18</td>\n",
       "      <td>1.00</td>\n",
       "      <td>0.68</td>\n",
       "    </tr>\n",
       "    <tr>\n",
       "      <th>user_score</th>\n",
       "      <td>0.11</td>\n",
       "      <td>0.68</td>\n",
       "      <td>1.00</td>\n",
       "    </tr>\n",
       "  </tbody>\n",
       "</table>\n",
       "</div>"
      ],
      "text/plain": [
       "              total_sales  critic_score  user_score\n",
       "total_sales          1.00          0.18        0.11\n",
       "critic_score         0.18          1.00        0.68\n",
       "user_score           0.11          0.68        1.00"
      ]
     },
     "metadata": {},
     "output_type": "display_data"
    },
    {
     "data": {
      "image/png": "[encoded data removed]",
      "text/plain": [
       "<Figure size 1008x288 with 2 Axes>"
      ]
     },
     "metadata": {
      "needs_background": "light"
     },
     "output_type": "display_data"
    }
   ],
   "source": [
    "platform_score_show_stat('wii')"
   ]
  },
  {
   "cell_type": "markdown",
   "metadata": {},
   "source": [
    "#### Отзывы и продажи: wiiu"
   ]
  },
  {
   "cell_type": "code",
   "execution_count": 50,
   "metadata": {
    "scrolled": true
   },
   "outputs": [
    {
     "data": {
      "text/html": [
       "<div>\n",
       "<style scoped>\n",
       "    .dataframe tbody tr th:only-of-type {\n",
       "        vertical-align: middle;\n",
       "    }\n",
       "\n",
       "    .dataframe tbody tr th {\n",
       "        vertical-align: top;\n",
       "    }\n",
       "\n",
       "    .dataframe thead th {\n",
       "        text-align: right;\n",
       "    }\n",
       "</style>\n",
       "<table border=\"1\" class=\"dataframe\">\n",
       "  <thead>\n",
       "    <tr style=\"text-align: right;\">\n",
       "      <th></th>\n",
       "      <th>total_sales</th>\n",
       "      <th>critic_score</th>\n",
       "      <th>user_score</th>\n",
       "    </tr>\n",
       "  </thead>\n",
       "  <tbody>\n",
       "    <tr>\n",
       "      <th>total_sales</th>\n",
       "      <td>1.00</td>\n",
       "      <td>0.35</td>\n",
       "      <td>0.40</td>\n",
       "    </tr>\n",
       "    <tr>\n",
       "      <th>critic_score</th>\n",
       "      <td>0.35</td>\n",
       "      <td>1.00</td>\n",
       "      <td>0.77</td>\n",
       "    </tr>\n",
       "    <tr>\n",
       "      <th>user_score</th>\n",
       "      <td>0.40</td>\n",
       "      <td>0.77</td>\n",
       "      <td>1.00</td>\n",
       "    </tr>\n",
       "  </tbody>\n",
       "</table>\n",
       "</div>"
      ],
      "text/plain": [
       "              total_sales  critic_score  user_score\n",
       "total_sales          1.00          0.35        0.40\n",
       "critic_score         0.35          1.00        0.77\n",
       "user_score           0.40          0.77        1.00"
      ]
     },
     "metadata": {},
     "output_type": "display_data"
    },
    {
     "data": {
      "image/png": "[encoded data removed]",
      "text/plain": [
       "<Figure size 1008x288 with 2 Axes>"
      ]
     },
     "metadata": {
      "needs_background": "light"
     },
     "output_type": "display_data"
    }
   ],
   "source": [
    "platform_score_show_stat('wiiu')"
   ]
  },
  {
   "cell_type": "markdown",
   "metadata": {},
   "source": [
    "#### Общий вывод по платформам"
   ]
  },
  {
   "cell_type": "markdown",
   "metadata": {},
   "source": [
    "1. **Оценки критиков и продажи** стабильно показывают слабо-умеренную связь на разных платформах. График рассеяния (за парой исключений) повторяет один и тот же паттерн. До оценки 60-70 баллов высокопродаваемых игр нет, а затем они начинают появляться. Одинаковая \"горочка\" видна в конце почти каждого графика.\n",
    "2. **Оценки пользователей и продажи** чаще показывают слабую связь или связи вовсе нет. При этом на нескольких платформах (dc, 3ds, psp) она все показывает значение корреляции больше 0.2. А на платформе wiiu - 0.4, что даже превышает корреляцию оценок критиков и продаж. \n",
    "3. **Генеральный вывод:** оценки критиков влияют на продажи больше, чем оценки пользователей. "
   ]
  },
  {
   "cell_type": "markdown",
   "metadata": {},
   "source": [
    "### Анализ жанров\n",
    "**Задача:** Посмотреть на общее распределение игр по жанрам. Что можно сказать о самых прибыльных жанрах? Выделяются ли жанры с высокими и низкими продажами?"
   ]
  },
  {
   "cell_type": "markdown",
   "metadata": {},
   "source": [
    "Подготовим данные. Создадим сводную табличку и посчитаем в ней общее количество проданных копий и общее количество выпущенных игр для каждого жанра. Заменим названия столбцов."
   ]
  },
  {
   "cell_type": "code",
   "execution_count": 51,
   "metadata": {},
   "outputs": [],
   "source": [
    "genre_data = data.pivot_table(index='genre', values='total_sales', aggfunc=['sum', 'count'])\n",
    "genre_data.columns = ['total_sales', 'total_games']"
   ]
  },
  {
   "cell_type": "markdown",
   "metadata": {},
   "source": [
    "Теперь изучим эту таблицу с разных сторон, каждый раз сортируя ее по нужному параметру. "
   ]
  },
  {
   "cell_type": "markdown",
   "metadata": {},
   "source": [
    "#### Total_sales | Суммарные продажи игр по жанрам"
   ]
  },
  {
   "cell_type": "code",
   "execution_count": 52,
   "metadata": {},
   "outputs": [
    {
     "data": {
      "image/png": "[encoded data removed]",
      "text/plain": [
       "<Figure size 432x288 with 1 Axes>"
      ]
     },
     "metadata": {
      "needs_background": "light"
     },
     "output_type": "display_data"
    }
   ],
   "source": [
    "genre_data.sort_values(by='total_sales', ascending=False)['total_sales'].plot(kind='bar')\n",
    "plt.title('Продажи по жанрам')\n",
    "plt.ylabel('Количество проданных игр (млн.копий)')\n",
    "plt.xlabel('Жанр')\n",
    "pass"
   ]
  },
  {
   "cell_type": "markdown",
   "metadata": {},
   "source": [
    "**Вывод:** Больше всего игр продается в жанре Action и Shooter. В конце списка: симуляторы, приключения, стратегии и пазлы. А что с количеством выпущенных игр? Посмотрим. "
   ]
  },
  {
   "cell_type": "markdown",
   "metadata": {},
   "source": [
    "#### Total_games | Суммарное количество выпущенных игр по жанрам"
   ]
  },
  {
   "cell_type": "code",
   "execution_count": 53,
   "metadata": {
    "scrolled": true
   },
   "outputs": [
    {
     "data": {
      "image/png": "[encoded data removed]",
      "text/plain": [
       "<Figure size 432x288 with 1 Axes>"
      ]
     },
     "metadata": {
      "needs_background": "light"
     },
     "output_type": "display_data"
    }
   ],
   "source": [
    "genre_data.sort_values(by='total_games', ascending=False)['total_games'].plot(kind='bar')\n",
    "plt.title('Игры по жанрам')\n",
    "plt.ylabel('Количество выпущенных игр')\n",
    "plt.xlabel('Жанр')\n",
    "pass"
   ]
  },
  {
   "cell_type": "markdown",
   "metadata": {},
   "source": [
    "**Вывод:** Экшены показывают лидерство, а вот жанр Adventure, например, резко поднимается вверх по количеству игр. Все остальное, в целом, без изменений. Четверка лидеров и аутсайдеров (не считая переметнувшегося снизу вверх жанра Adventure) осталась неизменной. \n"
   ]
  },
  {
   "cell_type": "markdown",
   "metadata": {},
   "source": [
    "#### Sales per game | Средние продажи одной игры по жанрам: \"привлекательность жанра\""
   ]
  },
  {
   "cell_type": "markdown",
   "metadata": {},
   "source": [
    "**Теперь немного дополним таблицу и посмотрим еще один параметр.** Мы не можем говорить о \"прибыльности жанра\", ведь прибыль считают по выручке и издержкам, а такими данными мы не обладаем. Зато мы можем посчитать показатель, косвенно говорящий о прибыльности. Разделим количество проданных копий на количество выпущенных игр в каждом жанре. Получим что-то вроде оценки привлекательности жанра. Это будет чуть более объективная оценка каждого жанра. "
   ]
  },
  {
   "cell_type": "code",
   "execution_count": 54,
   "metadata": {},
   "outputs": [],
   "source": [
    "genre_data['sales_per_game'] = round(genre_data['total_sales'] / genre_data['total_games'], 2)"
   ]
  },
  {
   "cell_type": "markdown",
   "metadata": {},
   "source": [
    "И теперь посмотрим график по этому столбцу"
   ]
  },
  {
   "cell_type": "code",
   "execution_count": 55,
   "metadata": {},
   "outputs": [
    {
     "data": {
      "image/png": "[encoded data removed]",
      "text/plain": [
       "<Figure size 504x360 with 1 Axes>"
      ]
     },
     "metadata": {
      "needs_background": "light"
     },
     "output_type": "display_data"
    }
   ],
   "source": [
    "genre_data.sort_values(by='sales_per_game', ascending=False)['sales_per_game'].plot(kind='bar', \n",
    "                                                                                    figsize=(7,5))\n",
    "plt.title('\"Привлекательность жанра\"')\n",
    "plt.ylabel('Среднее кол-во проданных копий игры (млн.)')\n",
    "plt.xlabel('Жанр')\n",
    "pass"
   ]
  },
  {
   "cell_type": "markdown",
   "metadata": {},
   "source": [
    "#### Выводы"
   ]
  },
  {
   "cell_type": "markdown",
   "metadata": {},
   "source": [
    "1. Больше всего игр выпускается и продается в жанре Action\n",
    "2. В вершине списка по количеству выпущенных игр и количеству проданных копий также role-playing, sport и shooter\n",
    "3. Аутсайдеры по продажам и количеству игр: симуляторы, стратегии, пазлы\n",
    "4. Жанр Adventure находится в нижней части рейтинга по проданным копиям, зато поднимается наверх по количеству игр. \n",
    "5. Самый \"привлекательны\"й жанр - Шутеры. Среднее количество проданных копий для одной игры в этом жанре опережает аналогичный показатель у второго жанра по списку почти в 2 раза. Наверх по \"привлекательности\" так же вышел жанр \"platform\". Экшены, лидировавшие в двух предыдущих показателях сейчас в середине списка. Наименее \"привлекательные\": пазлы, стратегии и тот самый жанр Adventure. \n",
    "\n",
    "Выбирая жанры, определяющие успешность игры, я бы выделил такие, которые одновременно и продаются в большом количестве штук, и имеют большую привлекательность. Например, жанр platform занимает второе место по привлекательности, но при этом продается и выпускается в очень маленьком количестве. Будет неверным сделать ставку на него и забыть про Экшены, которые хоть и имеют меньшую привлекательность, но зато выпускаются и продаются в разы больше. Нужен баланс. Поэтому выделяю перспективными следующие жанры:\n",
    "- Shooter\n",
    "- Sports\n",
    "- Role-Playing\n",
    "- Action"
   ]
  },
  {
   "cell_type": "markdown",
   "metadata": {},
   "source": [
    "## Портрет пользователя\n",
    "Определяем для пользователя каждого региона (NA, EU, JP):\n",
    "- Самые популярные платформы (топ-5). Описать различия в долях продаж.\n",
    "- Самые популярные жанры (топ-5). Пояснить разницу.\n",
    "- Влияет ли рейтинг ESRB на продажи в отдельном регионе?"
   ]
  },
  {
   "cell_type": "markdown",
   "metadata": {},
   "source": [
    "Для каждого региона сейчас будет выполняться одна и та же последовательность, поэтому напишем функцию. Она будет показывать 5 платформ, 5 жанров и все рейтинги по убыванию количества проданных копий игр с ними. "
   ]
  },
  {
   "cell_type": "code",
   "execution_count": 56,
   "metadata": {},
   "outputs": [],
   "source": [
    "def show_stat(region_sales):\n",
    "    print('ТОП-5 платформ')\n",
    "    display(data.groupby('platform')[region_sales].sum().sort_values(ascending=False).head())\n",
    "    print('')\n",
    "    print('')\n",
    "    print('ТОП-5 жанров')\n",
    "    display(data.groupby('genre')[region_sales].sum().sort_values(ascending=False).head())\n",
    "    print('')\n",
    "    print('')\n",
    "    print('Продано игр с рейтингом:')\n",
    "    display(data.groupby('rating')[region_sales].sum().sort_values(ascending=False))"
   ]
  },
  {
   "cell_type": "markdown",
   "metadata": {},
   "source": [
    "### Регион North America"
   ]
  },
  {
   "cell_type": "code",
   "execution_count": 57,
   "metadata": {},
   "outputs": [
    {
     "name": "stdout",
     "output_type": "stream",
     "text": [
      "ТОП-5 платформ\n"
     ]
    },
    {
     "data": {
      "text/plain": [
       "platform\n",
       "x360    140.05\n",
       "ps4     108.74\n",
       "ps3     103.38\n",
       "xone     93.12\n",
       "3ds      55.31\n",
       "Name: na_sales, dtype: float64"
      ]
     },
     "metadata": {},
     "output_type": "display_data"
    },
    {
     "name": "stdout",
     "output_type": "stream",
     "text": [
      "\n",
      "\n",
      "ТОП-5 жанров\n"
     ]
    },
    {
     "data": {
      "text/plain": [
       "genre\n",
       "action          177.84\n",
       "shooter         144.77\n",
       "sports           81.53\n",
       "role-playing     64.00\n",
       "misc             38.19\n",
       "Name: na_sales, dtype: float64"
      ]
     },
     "metadata": {},
     "output_type": "display_data"
    },
    {
     "name": "stdout",
     "output_type": "stream",
     "text": [
      "\n",
      "\n",
      "Продано игр с рейтингом:\n"
     ]
    },
    {
     "data": {
      "text/plain": [
       "rating\n",
       "m       231.57\n",
       "e       114.37\n",
       "e10+     75.70\n",
       "t        66.02\n",
       "Name: na_sales, dtype: float64"
      ]
     },
     "metadata": {},
     "output_type": "display_data"
    }
   ],
   "source": [
    "show_stat('na_sales')"
   ]
  },
  {
   "cell_type": "markdown",
   "metadata": {},
   "source": [
    "### Регион Europe"
   ]
  },
  {
   "cell_type": "code",
   "execution_count": 58,
   "metadata": {},
   "outputs": [
    {
     "name": "stdout",
     "output_type": "stream",
     "text": [
      "ТОП-5 платформ\n"
     ]
    },
    {
     "data": {
      "text/plain": [
       "platform\n",
       "ps4     141.09\n",
       "ps3     106.86\n",
       "x360     74.52\n",
       "xone     51.59\n",
       "3ds      42.64\n",
       "Name: eu_sales, dtype: float64"
      ]
     },
     "metadata": {},
     "output_type": "display_data"
    },
    {
     "name": "stdout",
     "output_type": "stream",
     "text": [
      "\n",
      "\n",
      "ТОП-5 жанров\n"
     ]
    },
    {
     "data": {
      "text/plain": [
       "genre\n",
       "action          159.34\n",
       "shooter         113.47\n",
       "sports           69.09\n",
       "role-playing     48.53\n",
       "racing           27.29\n",
       "Name: eu_sales, dtype: float64"
      ]
     },
     "metadata": {},
     "output_type": "display_data"
    },
    {
     "name": "stdout",
     "output_type": "stream",
     "text": [
      "\n",
      "\n",
      "Продано игр с рейтингом:\n"
     ]
    },
    {
     "data": {
      "text/plain": [
       "rating\n",
       "m       193.96\n",
       "e       113.03\n",
       "e10+     55.37\n",
       "t        52.96\n",
       "Name: eu_sales, dtype: float64"
      ]
     },
     "metadata": {},
     "output_type": "display_data"
    }
   ],
   "source": [
    "show_stat('eu_sales')"
   ]
  },
  {
   "cell_type": "markdown",
   "metadata": {},
   "source": [
    "### Регион Japan"
   ]
  },
  {
   "cell_type": "code",
   "execution_count": 59,
   "metadata": {},
   "outputs": [
    {
     "name": "stdout",
     "output_type": "stream",
     "text": [
      "ТОП-5 платформ\n"
     ]
    },
    {
     "data": {
      "text/plain": [
       "platform\n",
       "3ds     87.79\n",
       "ps3     35.29\n",
       "psv     21.04\n",
       "ps4     15.96\n",
       "wiiu    13.01\n",
       "Name: jp_sales, dtype: float64"
      ]
     },
     "metadata": {},
     "output_type": "display_data"
    },
    {
     "name": "stdout",
     "output_type": "stream",
     "text": [
      "\n",
      "\n",
      "ТОП-5 жанров\n"
     ]
    },
    {
     "data": {
      "text/plain": [
       "genre\n",
       "role-playing    65.44\n",
       "action          52.80\n",
       "misc            12.86\n",
       "simulation      10.41\n",
       "fighting         9.44\n",
       "Name: jp_sales, dtype: float64"
      ]
     },
     "metadata": {},
     "output_type": "display_data"
    },
    {
     "name": "stdout",
     "output_type": "stream",
     "text": [
      "\n",
      "\n",
      "Продано игр с рейтингом:\n"
     ]
    },
    {
     "data": {
      "text/plain": [
       "rating\n",
       "e       28.33\n",
       "t       26.02\n",
       "m       21.20\n",
       "e10+     8.19\n",
       "Name: jp_sales, dtype: float64"
      ]
     },
     "metadata": {},
     "output_type": "display_data"
    }
   ],
   "source": [
    "show_stat('jp_sales')"
   ]
  },
  {
   "cell_type": "markdown",
   "metadata": {},
   "source": [
    "### Портрет: выводы"
   ]
  },
  {
   "cell_type": "markdown",
   "metadata": {},
   "source": [
    "1. Наиболее популярные жанры игр в Европе и Северной Америке не отличаются\n",
    "2. Рейтинги платформ в Европе и Северной Америке тоже очень похожи, за одним исключением: в Северной Америке лидирует xbox 360, а в Европе - ps4. Порассуждаем об этом. Возможно, мы видим лидерство иксбокса в Америке и Канаде просто за счет того, что пользователи там исторически больше любят иксбокс (сильнее маркетинг и поддержка например). А еще, PS4 - это более новое поколение консолей, нежели xbox360. Может быть новые консоли еще не доехали туда в нужном объеме. \n",
    "3. Особняком стоит Япония. \n",
    "- И самые популярные жанры и самые популярные платформы в этом регионе отличаются. \n",
    "- Иксбокса в пятерке нет вообще (его популярность словно убывает с запада на восток). \n",
    "- В лидерах есть 3ds, psv и wiiu: судя по всему это очень нишевые консоли, имеющие такую популярность только в опредленных регионах. \n",
    "- Все это легко объясняется культурными особенностями страны. Европейское и Американское общество кажутся куда более близкими по духу друг к другу, нежели, например Европейское и Японское. \n",
    "- Цифры по продажам в Японии несколько меньше, но это легко объяснить размером рынка: он в целом меньше, чем в Европе и Северной Америке.\n",
    "\n",
    "**Отдельное внимание вопросу рейтинга.** Вопрос стоял так: \"Влияет ли рейтинг ESRB на продажи в отдельном регионе?\". Я не уверен, что мы можем дать ответ на вопрос именно в такой формулировке. Вряд ли мы можем судить о влиянии одного на другое по имеющимся данным. Я бы сформулировал так: мы видим, что пользователи выбирают те или иные игры и так вышло, что большего всего проданных игр в конкретном регионе имело рейтинг [такой-то].\n",
    "\n",
    "Да, мы могли бы предположить, что рейтинг ограничивает от покупки определенные возрастные категории и тем самым снижает продажи. В таком случае мы бы увидели в данных следующую закономерность: чем *у*же аудитория игры, тем меньше ее продажи. Но это не так. Игры с рейтингом M (от 17 лет) обходят игры с рейтингом E (с 6 лет). Предположение не подвтерждается.   \n",
    "\n",
    "Кроме того, мы снова видим разницу в рейтингах наиболее продаваемых игры между Европой + Северной Америкой и Японией. \n",
    "\n",
    "Тем не менее, можно сделать немного иной общий вывод. Скорее всего в 2017 году больше всего проданных игр будут иметь рейтинг M или E. Это не говорит о зависимости, но это в той или иной степени тоже является фактором успешности игры. По крайней мере - это подтверждается в цифрах. "
   ]
  },
  {
   "cell_type": "markdown",
   "metadata": {},
   "source": [
    "## 4. Проверка гипотез"
   ]
  },
  {
   "cell_type": "markdown",
   "metadata": {},
   "source": [
    "### Рейтинги платформ Xbox One и PC\n",
    "\n",
    "Формулируем гипотезы так, чтобы нулевая заявляла о равенстве. \n",
    "- H0: Средние пользовательские рейтинги платформ Xbox One и PC одинаковые;\n",
    "- H1: Средние пользовательские рейтинги платформ Xbox One и PC различаются;\n",
    "\n",
    "Пороговое значение зададим равным 0.05. Сраваниаем две совокупности, не имеющие зависимость друг от друга: используем метод ttest_ind()."
   ]
  },
  {
   "cell_type": "markdown",
   "metadata": {},
   "source": [
    "Задаем параметр alpha и делам срез данных, создавая две нужных переменных с выборками. "
   ]
  },
  {
   "cell_type": "code",
   "execution_count": 60,
   "metadata": {},
   "outputs": [],
   "source": [
    "alpha = 0.05\n",
    "xone_rating = data.query('platform == \"xone\"')['user_score']\n",
    "pc_rating = data.query('platform == \"pc\"')['user_score']"
   ]
  },
  {
   "cell_type": "markdown",
   "metadata": {},
   "source": [
    "Проводим проверку гипотезы. Поскольку обе выборки содержат значения NaN, нам нужно добавить дополнительный аргумент (nan_policy='omit'), который объясняет функции, что NaN значения надо игнорировать и считать, не учитывая их.  "
   ]
  },
  {
   "cell_type": "code",
   "execution_count": 61,
   "metadata": {},
   "outputs": [
    {
     "name": "stdout",
     "output_type": "stream",
     "text": [
      "p-значение: 0.554\n",
      "Не получилось отвергнуть нулевую гипотезу\n"
     ]
    }
   ],
   "source": [
    "results = st.ttest_ind(xone_rating, pc_rating, nan_policy='omit')\n",
    "\n",
    "print('p-значение:', results.pvalue.round(3))\n",
    "\n",
    "if results.pvalue < alpha:\n",
    "    print('Отвергаем нулевую гипотезу')\n",
    "else:\n",
    "    print('Не получилось отвергнуть нулевую гипотезу') "
   ]
  },
  {
   "cell_type": "markdown",
   "metadata": {},
   "source": [
    "Ради интереса посмотрим средние значения по выборкам"
   ]
  },
  {
   "cell_type": "code",
   "execution_count": 62,
   "metadata": {
    "scrolled": true
   },
   "outputs": [
    {
     "name": "stdout",
     "output_type": "stream",
     "text": [
      "Среднее значение рейтинга по Xbox One: 6.52\n",
      "Среднее значение рейтинга по PC: 6.43\n"
     ]
    }
   ],
   "source": [
    "print('Среднее значение рейтинга по Xbox One:', round(xone_rating.mean(),2))\n",
    "print('Среднее значение рейтинга по PC:', round(pc_rating.mean(),2))"
   ]
  },
  {
   "cell_type": "markdown",
   "metadata": {},
   "source": [
    "#### Вывод"
   ]
  },
  {
   "cell_type": "markdown",
   "metadata": {},
   "source": [
    "Полученные данные не противоречат гипотезе о том, что **средние пользовательские рейтинги платформ Xbox One и PC одинаковы.**"
   ]
  },
  {
   "cell_type": "markdown",
   "metadata": {},
   "source": [
    "### Рейтинги жанров Action  и Sports\n",
    "\n",
    "Формулируем гипотезы так, чтобы нулевая заявляла о равенстве. \n",
    "- H0: Средние пользовательские рейтинги жанров Action и Sports одинаковые;\n",
    "- H1: Средние пользовательские рейтинги жанров Action и Sports разные.\n",
    "\n",
    "Пороговое значение оставим равным 0.05. Сравниваем две совокупности, не имеющие зависимость друг от друга: используем метод ttest_ind()."
   ]
  },
  {
   "cell_type": "markdown",
   "metadata": {},
   "source": [
    "Делам срез данных, создавая две нужных переменных с выборками. "
   ]
  },
  {
   "cell_type": "code",
   "execution_count": 63,
   "metadata": {},
   "outputs": [],
   "source": [
    "action_rating = data.query('genre == \"action\"')['user_score']\n",
    "sports_rating = data.query('genre == \"sports\"')['user_score']"
   ]
  },
  {
   "cell_type": "markdown",
   "metadata": {},
   "source": [
    "Проводим проверку гипотезы. Аргумент nan_policy='omit' все еще с нами. "
   ]
  },
  {
   "cell_type": "code",
   "execution_count": 64,
   "metadata": {},
   "outputs": [
    {
     "name": "stdout",
     "output_type": "stream",
     "text": [
      "p-значение: 3.716308946093586e-26\n",
      "Отвергаем нулевую гипотезу\n"
     ]
    }
   ],
   "source": [
    "results = st.ttest_ind(action_rating, sports_rating, nan_policy='omit')\n",
    "\n",
    "print('p-значение:', results.pvalue)\n",
    "\n",
    "if results.pvalue < alpha:\n",
    "    print('Отвергаем нулевую гипотезу')\n",
    "else:\n",
    "    print('Не получилось отвергнуть нулевую гипотезу') "
   ]
  },
  {
   "cell_type": "markdown",
   "metadata": {},
   "source": [
    "Снова сравним результат теста со средними значениями по выборкам"
   ]
  },
  {
   "cell_type": "code",
   "execution_count": 65,
   "metadata": {
    "scrolled": true
   },
   "outputs": [
    {
     "name": "stdout",
     "output_type": "stream",
     "text": [
      "Среднее значение рейтинга по Action: 6.83\n",
      "Среднее значение рейтинга по Sports: 5.46\n"
     ]
    }
   ],
   "source": [
    "print('Среднее значение рейтинга по Action:', round(action_rating.mean(),2))\n",
    "print('Среднее значение рейтинга по Sports:', round(sports_rating.mean(),2))"
   ]
  },
  {
   "cell_type": "markdown",
   "metadata": {},
   "source": [
    "#### Вывод"
   ]
  },
  {
   "cell_type": "markdown",
   "metadata": {},
   "source": [
    "Полученные данные говорят о том, что нулевая гипотеза не подтверждается и **средние пользовательские рейтинги жанров Action и Sports действительно могут различаться.**"
   ]
  },
  {
   "cell_type": "markdown",
   "metadata": {},
   "source": [
    "## 5. Общий вывод"
   ]
  },
  {
   "cell_type": "markdown",
   "metadata": {},
   "source": [
    "В нашем исследовании мы помогали интернет-магазину \"Стримчик\" проанализировать данные о продажах компьютерных игр, чтобы найти закономерности, опеределяющие успешность игры. Это поможет спланировать рекламные кампании на следующий год."
   ]
  },
  {
   "cell_type": "markdown",
   "metadata": {},
   "source": [
    "Для полученния корректных (релевантных) выводов мы проанализировали данные и решили оставить только те игры, которые были выпущены, начиная с 2012 года. Именно эти данные помогут сделать наиболее точный прогноз на 2017 год. "
   ]
  },
  {
   "cell_type": "markdown",
   "metadata": {},
   "source": [
    "**В результате получили следующие выводы:**\n",
    "- Самые перспективные платформы в 2017 году: PS4, xBox One и 3DS;\n",
    "- Чаще всего игры продаются в количестве (примерно) до 1-2 миллионов копий;\n",
    "- Оценка критиков умеренно связана с продажами игр (интуитивно кажется, что именно она на них влияет). Оценка пользователей точно на продажи не влияет. \n",
    "- Самые перспективные жанры с точки зрения продаж: shooter, action, sports, role-playing. Это те жанры, игр в которых выпускается много и одновременно продаются они в наибольшем количестве копий. \n",
    "- Игроки из Европы и Северной Америки очень похожи по своим предпочтениям. Одновременно с этим, предпочтения игроков из Японии отличаются. \n",
    "- Самые перспективные рейтинги игр: M и E. Игр с такими рейтингами совокупно продается больше всего. \n",
    "- Наши данные не противоречат гипотезе о том, что средние пользовательские рейтинги платформ Xbox One и PC одинаковы, а так же подтверждают, что средние пользовательские рейтинги жанров Action и Sports скорее всего различаются. "
   ]
  },
  {
   "cell_type": "markdown",
   "metadata": {},
   "source": [
    "**Портрет успешной игры в 2017 году:** \n",
    "- Платформа PS4, xBox One или 3DS\n",
    "- Хорошая оценка критиков\n",
    "- Жанр из списка: shooter, action, sports, role-playing\n",
    "- Рейтинг M или E"
   ]
  }
 ],
 "metadata": {
  "ExecuteTimeLog": [
   {
    "duration": 825,
    "start_time": "2021-09-22T10:38:01.425Z"
   },
   {
    "duration": 380,
    "start_time": "2021-09-22T10:38:58.764Z"
   },
   {
    "duration": 55,
    "start_time": "2021-09-22T10:39:04.023Z"
   },
   {
    "duration": 31,
    "start_time": "2021-09-22T10:39:04.633Z"
   },
   {
    "duration": 17,
    "start_time": "2021-09-22T10:39:17.369Z"
   },
   {
    "duration": 21,
    "start_time": "2021-09-22T10:42:38.216Z"
   },
   {
    "duration": 19,
    "start_time": "2021-09-22T10:42:50.541Z"
   },
   {
    "duration": 6,
    "start_time": "2021-09-22T10:50:29.239Z"
   },
   {
    "duration": 299,
    "start_time": "2021-09-22T10:50:37.363Z"
   },
   {
    "duration": 8,
    "start_time": "2021-09-22T10:50:45.964Z"
   },
   {
    "duration": 6,
    "start_time": "2021-09-22T10:51:01.995Z"
   },
   {
    "duration": 8,
    "start_time": "2021-09-22T10:51:18.957Z"
   },
   {
    "duration": 4,
    "start_time": "2021-09-22T10:51:29.103Z"
   },
   {
    "duration": 18,
    "start_time": "2021-09-22T10:51:35.252Z"
   },
   {
    "duration": 318,
    "start_time": "2021-09-22T10:52:36.367Z"
   },
   {
    "duration": 325,
    "start_time": "2021-09-22T10:53:12.084Z"
   },
   {
    "duration": 20,
    "start_time": "2021-09-22T10:53:16.016Z"
   },
   {
    "duration": 7,
    "start_time": "2021-09-22T10:54:01.345Z"
   },
   {
    "duration": 333,
    "start_time": "2021-09-22T10:54:21.325Z"
   },
   {
    "duration": 33,
    "start_time": "2021-09-22T10:54:28.775Z"
   },
   {
    "duration": 32,
    "start_time": "2021-09-22T10:54:49.731Z"
   },
   {
    "duration": 9,
    "start_time": "2021-09-22T10:57:36.963Z"
   },
   {
    "duration": 6,
    "start_time": "2021-09-22T10:57:45.270Z"
   },
   {
    "duration": 13,
    "start_time": "2021-09-22T10:57:50.927Z"
   },
   {
    "duration": 5,
    "start_time": "2021-09-22T10:58:36.868Z"
   },
   {
    "duration": 14,
    "start_time": "2021-09-22T10:58:37.182Z"
   },
   {
    "duration": 775,
    "start_time": "2021-09-23T08:31:10.188Z"
   },
   {
    "duration": 47,
    "start_time": "2021-09-23T08:31:10.965Z"
   },
   {
    "duration": 28,
    "start_time": "2021-09-23T08:31:11.015Z"
   },
   {
    "duration": 39,
    "start_time": "2021-09-23T08:31:11.046Z"
   },
   {
    "duration": 3,
    "start_time": "2021-09-23T08:31:11.088Z"
   },
   {
    "duration": 24,
    "start_time": "2021-09-23T08:31:11.094Z"
   },
   {
    "duration": 3,
    "start_time": "2021-09-23T08:31:11.121Z"
   },
   {
    "duration": 10,
    "start_time": "2021-09-23T08:33:18.179Z"
   },
   {
    "duration": 14,
    "start_time": "2021-09-23T08:33:25.744Z"
   },
   {
    "duration": 9,
    "start_time": "2021-09-23T08:34:54.581Z"
   },
   {
    "duration": 10,
    "start_time": "2021-09-23T08:35:35.818Z"
   },
   {
    "duration": 9,
    "start_time": "2021-09-23T08:36:11.804Z"
   },
   {
    "duration": 6,
    "start_time": "2021-09-23T08:36:46.505Z"
   },
   {
    "duration": 12,
    "start_time": "2021-09-23T08:38:51.666Z"
   },
   {
    "duration": 7,
    "start_time": "2021-09-23T08:38:56.660Z"
   },
   {
    "duration": 30,
    "start_time": "2021-09-23T08:39:35.021Z"
   },
   {
    "duration": 444,
    "start_time": "2021-09-23T08:40:57.199Z"
   },
   {
    "duration": 21,
    "start_time": "2021-09-23T08:42:20.579Z"
   },
   {
    "duration": 11,
    "start_time": "2021-09-23T08:42:28.064Z"
   },
   {
    "duration": 8,
    "start_time": "2021-09-23T08:42:49.568Z"
   },
   {
    "duration": 8,
    "start_time": "2021-09-23T08:43:23.284Z"
   },
   {
    "duration": 8,
    "start_time": "2021-09-23T08:43:41.209Z"
   },
   {
    "duration": 8,
    "start_time": "2021-09-23T08:43:44.705Z"
   },
   {
    "duration": 6,
    "start_time": "2021-09-23T08:47:22.165Z"
   },
   {
    "duration": 9,
    "start_time": "2021-09-23T08:47:38.927Z"
   },
   {
    "duration": 12,
    "start_time": "2021-09-23T08:48:42.932Z"
   },
   {
    "duration": 12,
    "start_time": "2021-09-23T08:49:21.536Z"
   },
   {
    "duration": 14,
    "start_time": "2021-09-23T08:49:27.378Z"
   },
   {
    "duration": 15,
    "start_time": "2021-09-23T08:49:45.122Z"
   },
   {
    "duration": 32,
    "start_time": "2021-09-23T08:54:12.051Z"
   },
   {
    "duration": 22,
    "start_time": "2021-09-23T08:54:58.402Z"
   },
   {
    "duration": 12,
    "start_time": "2021-09-23T09:04:01.593Z"
   },
   {
    "duration": 8,
    "start_time": "2021-09-23T09:04:18.158Z"
   },
   {
    "duration": 7,
    "start_time": "2021-09-23T09:04:37.015Z"
   },
   {
    "duration": 10,
    "start_time": "2021-09-23T09:04:43.054Z"
   },
   {
    "duration": 6,
    "start_time": "2021-09-23T09:04:45.311Z"
   },
   {
    "duration": 11,
    "start_time": "2021-09-23T09:05:07.835Z"
   },
   {
    "duration": 10,
    "start_time": "2021-09-23T09:05:16.951Z"
   },
   {
    "duration": 10,
    "start_time": "2021-09-23T09:06:43.598Z"
   },
   {
    "duration": 10,
    "start_time": "2021-09-23T09:07:03.013Z"
   },
   {
    "duration": 16,
    "start_time": "2021-09-23T09:07:12.220Z"
   },
   {
    "duration": 435,
    "start_time": "2021-09-23T09:09:27.500Z"
   },
   {
    "duration": 12,
    "start_time": "2021-09-23T09:09:39.976Z"
   },
   {
    "duration": 17,
    "start_time": "2021-09-23T09:09:45.574Z"
   },
   {
    "duration": 6,
    "start_time": "2021-09-23T09:10:47.028Z"
   },
   {
    "duration": 20,
    "start_time": "2021-09-23T09:11:31.730Z"
   },
   {
    "duration": 7,
    "start_time": "2021-09-23T09:12:36.484Z"
   },
   {
    "duration": 12,
    "start_time": "2021-09-23T09:13:10.282Z"
   },
   {
    "duration": 14,
    "start_time": "2021-09-23T09:14:16.004Z"
   },
   {
    "duration": 30,
    "start_time": "2021-09-23T09:14:45.932Z"
   },
   {
    "duration": 10,
    "start_time": "2021-09-23T09:15:34.927Z"
   },
   {
    "duration": 12,
    "start_time": "2021-09-23T09:15:58.476Z"
   },
   {
    "duration": 11,
    "start_time": "2021-09-23T09:16:13.643Z"
   },
   {
    "duration": 19,
    "start_time": "2021-09-23T09:18:57.433Z"
   },
   {
    "duration": 12,
    "start_time": "2021-09-23T09:19:25.832Z"
   },
   {
    "duration": 17,
    "start_time": "2021-09-23T09:19:36.788Z"
   },
   {
    "duration": 13,
    "start_time": "2021-09-23T09:19:40.919Z"
   },
   {
    "duration": 28,
    "start_time": "2021-09-23T09:20:07.016Z"
   },
   {
    "duration": 9,
    "start_time": "2021-09-23T09:23:45.064Z"
   },
   {
    "duration": 38,
    "start_time": "2021-09-23T09:24:47.883Z"
   },
   {
    "duration": 7,
    "start_time": "2021-09-23T09:25:45.158Z"
   },
   {
    "duration": 13,
    "start_time": "2021-09-23T09:25:51.044Z"
   },
   {
    "duration": 652,
    "start_time": "2021-09-23T09:26:41.662Z"
   },
   {
    "duration": 8,
    "start_time": "2021-09-23T09:28:08.308Z"
   },
   {
    "duration": 414,
    "start_time": "2021-09-23T09:28:55.859Z"
   },
   {
    "duration": 7,
    "start_time": "2021-09-23T09:32:22.327Z"
   },
   {
    "duration": 8,
    "start_time": "2021-09-23T09:32:27.084Z"
   },
   {
    "duration": 13,
    "start_time": "2021-09-23T09:32:38.818Z"
   },
   {
    "duration": 7,
    "start_time": "2021-09-23T09:32:49.494Z"
   },
   {
    "duration": 532,
    "start_time": "2021-09-23T09:33:41.490Z"
   },
   {
    "duration": 2973,
    "start_time": "2021-09-23T09:33:49.594Z"
   },
   {
    "duration": 32,
    "start_time": "2021-09-23T09:36:55.232Z"
   },
   {
    "duration": 15,
    "start_time": "2021-09-23T09:39:46.165Z"
   },
   {
    "duration": 12,
    "start_time": "2021-09-23T09:40:03.602Z"
   },
   {
    "duration": 16,
    "start_time": "2021-09-23T09:40:10.047Z"
   },
   {
    "duration": 13,
    "start_time": "2021-09-23T09:40:38.627Z"
   },
   {
    "duration": 287,
    "start_time": "2021-09-23T09:40:52.267Z"
   },
   {
    "duration": 418,
    "start_time": "2021-09-23T09:42:38.480Z"
   },
   {
    "duration": 7,
    "start_time": "2021-09-23T09:42:47.095Z"
   },
   {
    "duration": 105,
    "start_time": "2021-09-23T09:43:51.934Z"
   },
   {
    "duration": 10,
    "start_time": "2021-09-23T09:44:13.162Z"
   },
   {
    "duration": 7,
    "start_time": "2021-09-23T09:44:17.437Z"
   },
   {
    "duration": 26,
    "start_time": "2021-09-23T09:44:48.092Z"
   },
   {
    "duration": 23,
    "start_time": "2021-09-23T09:44:53.351Z"
   },
   {
    "duration": 19,
    "start_time": "2021-09-23T09:47:37.360Z"
   },
   {
    "duration": 6,
    "start_time": "2021-09-23T09:48:23.715Z"
   },
   {
    "duration": 20,
    "start_time": "2021-09-23T09:48:52.422Z"
   },
   {
    "duration": 7,
    "start_time": "2021-09-23T09:49:07.148Z"
   },
   {
    "duration": 21,
    "start_time": "2021-09-23T09:49:08.811Z"
   },
   {
    "duration": 13,
    "start_time": "2021-09-23T09:49:24.836Z"
   },
   {
    "duration": 632,
    "start_time": "2021-09-24T06:10:37.144Z"
   },
   {
    "duration": 42,
    "start_time": "2021-09-24T06:10:37.778Z"
   },
   {
    "duration": 26,
    "start_time": "2021-09-24T06:10:37.823Z"
   },
   {
    "duration": 11,
    "start_time": "2021-09-24T06:10:37.851Z"
   },
   {
    "duration": 6,
    "start_time": "2021-09-24T06:10:37.863Z"
   },
   {
    "duration": 17,
    "start_time": "2021-09-24T06:10:37.870Z"
   },
   {
    "duration": 9,
    "start_time": "2021-09-24T06:10:37.889Z"
   },
   {
    "duration": 6,
    "start_time": "2021-09-24T06:10:37.901Z"
   },
   {
    "duration": 37,
    "start_time": "2021-09-24T06:10:37.909Z"
   },
   {
    "duration": 9,
    "start_time": "2021-09-24T06:10:37.948Z"
   },
   {
    "duration": 20,
    "start_time": "2021-09-24T06:10:37.960Z"
   },
   {
    "duration": 7,
    "start_time": "2021-09-24T06:10:37.982Z"
   },
   {
    "duration": 9,
    "start_time": "2021-09-24T06:10:37.991Z"
   },
   {
    "duration": 43,
    "start_time": "2021-09-24T06:10:38.002Z"
   },
   {
    "duration": 8,
    "start_time": "2021-09-24T06:10:38.047Z"
   },
   {
    "duration": 16,
    "start_time": "2021-09-24T06:10:38.057Z"
   },
   {
    "duration": 10,
    "start_time": "2021-09-24T06:10:38.075Z"
   },
   {
    "duration": 4,
    "start_time": "2021-09-24T06:10:38.087Z"
   },
   {
    "duration": 8,
    "start_time": "2021-09-24T06:10:38.092Z"
   },
   {
    "duration": 42,
    "start_time": "2021-09-24T06:10:38.102Z"
   },
   {
    "duration": 16,
    "start_time": "2021-09-24T06:10:38.147Z"
   },
   {
    "duration": 12,
    "start_time": "2021-09-24T06:10:38.165Z"
   },
   {
    "duration": 5,
    "start_time": "2021-09-24T06:10:38.180Z"
   },
   {
    "duration": 3,
    "start_time": "2021-09-24T06:10:38.187Z"
   },
   {
    "duration": 15,
    "start_time": "2021-09-24T06:10:38.192Z"
   },
   {
    "duration": 46,
    "start_time": "2021-09-24T06:10:38.209Z"
   },
   {
    "duration": 11,
    "start_time": "2021-09-24T06:10:38.257Z"
   },
   {
    "duration": 7,
    "start_time": "2021-09-24T06:10:38.270Z"
   },
   {
    "duration": 10,
    "start_time": "2021-09-24T06:10:38.279Z"
   },
   {
    "duration": 53,
    "start_time": "2021-09-24T06:10:38.292Z"
   },
   {
    "duration": 11,
    "start_time": "2021-09-24T06:10:38.348Z"
   },
   {
    "duration": 22,
    "start_time": "2021-09-24T06:10:38.361Z"
   },
   {
    "duration": 14,
    "start_time": "2021-09-24T06:10:38.385Z"
   },
   {
    "duration": 6,
    "start_time": "2021-09-24T06:11:43.992Z"
   },
   {
    "duration": 33,
    "start_time": "2021-09-24T06:12:20.387Z"
   },
   {
    "duration": 10,
    "start_time": "2021-09-24T06:12:41.117Z"
   },
   {
    "duration": 17,
    "start_time": "2021-09-24T06:18:11.573Z"
   },
   {
    "duration": 12,
    "start_time": "2021-09-24T06:19:01.254Z"
   },
   {
    "duration": 329,
    "start_time": "2021-09-24T06:19:20.841Z"
   },
   {
    "duration": 16,
    "start_time": "2021-09-24T06:19:35.768Z"
   },
   {
    "duration": 348,
    "start_time": "2021-09-24T06:21:16.117Z"
   },
   {
    "duration": 10,
    "start_time": "2021-09-24T06:21:20.158Z"
   },
   {
    "duration": 362,
    "start_time": "2021-09-24T06:21:27.108Z"
   },
   {
    "duration": 9,
    "start_time": "2021-09-24T06:21:42.376Z"
   },
   {
    "duration": 10,
    "start_time": "2021-09-24T06:22:31.589Z"
   },
   {
    "duration": 472,
    "start_time": "2021-09-24T06:26:26.023Z"
   },
   {
    "duration": 16,
    "start_time": "2021-09-24T06:27:33.572Z"
   },
   {
    "duration": 25,
    "start_time": "2021-09-24T06:28:24.801Z"
   },
   {
    "duration": 10,
    "start_time": "2021-09-24T06:32:18.267Z"
   },
   {
    "duration": 9303,
    "start_time": "2021-09-24T06:33:25.525Z"
   },
   {
    "duration": 329,
    "start_time": "2021-09-24T06:33:53.167Z"
   },
   {
    "duration": 465,
    "start_time": "2021-09-24T06:35:14.561Z"
   },
   {
    "duration": 236,
    "start_time": "2021-09-24T06:35:19.967Z"
   },
   {
    "duration": 386,
    "start_time": "2021-09-24T06:35:23.026Z"
   },
   {
    "duration": 148,
    "start_time": "2021-09-24T06:37:04.562Z"
   },
   {
    "duration": 66,
    "start_time": "2021-09-24T06:37:11.512Z"
   },
   {
    "duration": 9421,
    "start_time": "2021-09-24T06:38:14.846Z"
   },
   {
    "duration": 41,
    "start_time": "2021-09-24T06:41:58.387Z"
   },
   {
    "duration": 412,
    "start_time": "2021-09-24T06:42:13.492Z"
   },
   {
    "duration": 395,
    "start_time": "2021-09-24T06:42:35.188Z"
   },
   {
    "duration": 512,
    "start_time": "2021-09-24T06:43:00.028Z"
   },
   {
    "duration": 795,
    "start_time": "2021-09-24T06:44:00.027Z"
   },
   {
    "duration": 85,
    "start_time": "2021-09-24T06:44:53.812Z"
   },
   {
    "duration": 622,
    "start_time": "2021-09-24T06:47:02.904Z"
   },
   {
    "duration": 298,
    "start_time": "2021-09-24T06:47:16.263Z"
   },
   {
    "duration": 297,
    "start_time": "2021-09-24T06:47:22.729Z"
   },
   {
    "duration": 32,
    "start_time": "2021-09-24T06:47:40.366Z"
   },
   {
    "duration": 253,
    "start_time": "2021-09-24T06:48:34.076Z"
   },
   {
    "duration": 433,
    "start_time": "2021-09-24T06:48:54.625Z"
   },
   {
    "duration": 474,
    "start_time": "2021-09-24T06:49:03.632Z"
   },
   {
    "duration": 320,
    "start_time": "2021-09-24T06:49:36.072Z"
   },
   {
    "duration": 308,
    "start_time": "2021-09-24T06:50:22.377Z"
   },
   {
    "duration": 90,
    "start_time": "2021-09-24T06:51:14.540Z"
   },
   {
    "duration": 344,
    "start_time": "2021-09-24T06:51:16.848Z"
   },
   {
    "duration": 619,
    "start_time": "2021-09-24T06:53:25.463Z"
   },
   {
    "duration": 318,
    "start_time": "2021-09-24T06:53:38.493Z"
   },
   {
    "duration": 321,
    "start_time": "2021-09-24T06:54:47.789Z"
   },
   {
    "duration": 520,
    "start_time": "2021-09-24T06:54:52.344Z"
   },
   {
    "duration": 566,
    "start_time": "2021-09-24T06:55:10.482Z"
   },
   {
    "duration": 312,
    "start_time": "2021-09-24T06:56:18.576Z"
   },
   {
    "duration": 9,
    "start_time": "2021-09-24T07:00:23.529Z"
   },
   {
    "duration": 300,
    "start_time": "2021-09-24T07:00:25.055Z"
   },
   {
    "duration": 8,
    "start_time": "2021-09-24T07:00:56.090Z"
   },
   {
    "duration": 366,
    "start_time": "2021-09-24T07:00:57.031Z"
   },
   {
    "duration": 8,
    "start_time": "2021-09-24T07:01:07.456Z"
   },
   {
    "duration": 429,
    "start_time": "2021-09-24T07:01:09.498Z"
   },
   {
    "duration": 562,
    "start_time": "2021-09-24T07:02:24.661Z"
   },
   {
    "duration": 12,
    "start_time": "2021-09-24T07:05:49.112Z"
   },
   {
    "duration": 465,
    "start_time": "2021-09-24T07:05:50.145Z"
   },
   {
    "duration": 963,
    "start_time": "2021-09-24T07:09:02.076Z"
   },
   {
    "duration": 391,
    "start_time": "2021-09-24T07:09:26.398Z"
   },
   {
    "duration": 279,
    "start_time": "2021-09-24T07:16:25.658Z"
   },
   {
    "duration": 9,
    "start_time": "2021-09-24T07:16:38.031Z"
   },
   {
    "duration": 600,
    "start_time": "2021-09-24T07:19:12.096Z"
   },
   {
    "duration": 40,
    "start_time": "2021-09-24T07:19:12.698Z"
   },
   {
    "duration": 18,
    "start_time": "2021-09-24T07:19:12.741Z"
   },
   {
    "duration": 19,
    "start_time": "2021-09-24T07:19:12.761Z"
   },
   {
    "duration": 10,
    "start_time": "2021-09-24T07:19:12.782Z"
   },
   {
    "duration": 28,
    "start_time": "2021-09-24T07:19:12.794Z"
   },
   {
    "duration": 22,
    "start_time": "2021-09-24T07:19:12.824Z"
   },
   {
    "duration": 6,
    "start_time": "2021-09-24T07:19:12.848Z"
   },
   {
    "duration": 10,
    "start_time": "2021-09-24T07:19:12.856Z"
   },
   {
    "duration": 9,
    "start_time": "2021-09-24T07:19:12.868Z"
   },
   {
    "duration": 23,
    "start_time": "2021-09-24T07:19:12.879Z"
   },
   {
    "duration": 6,
    "start_time": "2021-09-24T07:19:12.904Z"
   },
   {
    "duration": 36,
    "start_time": "2021-09-24T07:19:12.912Z"
   },
   {
    "duration": 10,
    "start_time": "2021-09-24T07:19:12.950Z"
   },
   {
    "duration": 12,
    "start_time": "2021-09-24T07:19:12.962Z"
   },
   {
    "duration": 12,
    "start_time": "2021-09-24T07:19:12.976Z"
   },
   {
    "duration": 13,
    "start_time": "2021-09-24T07:19:12.990Z"
   },
   {
    "duration": 5,
    "start_time": "2021-09-24T07:19:13.005Z"
   },
   {
    "duration": 37,
    "start_time": "2021-09-24T07:19:13.012Z"
   },
   {
    "duration": 20,
    "start_time": "2021-09-24T07:19:13.051Z"
   },
   {
    "duration": 28,
    "start_time": "2021-09-24T07:19:13.073Z"
   },
   {
    "duration": 13,
    "start_time": "2021-09-24T07:19:13.103Z"
   },
   {
    "duration": 7,
    "start_time": "2021-09-24T07:19:13.120Z"
   },
   {
    "duration": 3,
    "start_time": "2021-09-24T07:19:13.145Z"
   },
   {
    "duration": 19,
    "start_time": "2021-09-24T07:19:13.150Z"
   },
   {
    "duration": 18,
    "start_time": "2021-09-24T07:19:13.171Z"
   },
   {
    "duration": 12,
    "start_time": "2021-09-24T07:19:13.192Z"
   },
   {
    "duration": 27,
    "start_time": "2021-09-24T07:19:13.206Z"
   },
   {
    "duration": 14,
    "start_time": "2021-09-24T07:19:13.235Z"
   },
   {
    "duration": 28,
    "start_time": "2021-09-24T07:19:13.251Z"
   },
   {
    "duration": 13,
    "start_time": "2021-09-24T07:19:13.282Z"
   },
   {
    "duration": 25,
    "start_time": "2021-09-24T07:19:13.297Z"
   },
   {
    "duration": 28,
    "start_time": "2021-09-24T07:19:13.324Z"
   },
   {
    "duration": 30,
    "start_time": "2021-09-24T07:19:13.354Z"
   },
   {
    "duration": 25,
    "start_time": "2021-09-24T07:19:13.386Z"
   },
   {
    "duration": 399,
    "start_time": "2021-09-24T07:19:13.413Z"
   },
   {
    "duration": 343,
    "start_time": "2021-09-24T07:19:32.960Z"
   },
   {
    "duration": 325,
    "start_time": "2021-09-24T07:24:26.662Z"
   },
   {
    "duration": 7,
    "start_time": "2021-09-24T07:41:52.476Z"
   },
   {
    "duration": 20,
    "start_time": "2021-09-24T07:41:58.769Z"
   },
   {
    "duration": 6,
    "start_time": "2021-09-24T07:42:16.984Z"
   },
   {
    "duration": 18,
    "start_time": "2021-09-24T07:42:17.671Z"
   },
   {
    "duration": 9,
    "start_time": "2021-09-24T07:42:25.948Z"
   },
   {
    "duration": 775,
    "start_time": "2021-09-24T09:03:17.118Z"
   },
   {
    "duration": 50,
    "start_time": "2021-09-24T09:03:19.091Z"
   },
   {
    "duration": 30,
    "start_time": "2021-09-24T09:03:19.960Z"
   },
   {
    "duration": 16,
    "start_time": "2021-09-24T09:03:21.917Z"
   },
   {
    "duration": 4,
    "start_time": "2021-09-24T09:03:45.354Z"
   },
   {
    "duration": 27,
    "start_time": "2021-09-24T09:03:46.511Z"
   },
   {
    "duration": 13,
    "start_time": "2021-09-24T09:03:48.594Z"
   },
   {
    "duration": 8,
    "start_time": "2021-09-24T09:03:49.214Z"
   },
   {
    "duration": 9,
    "start_time": "2021-09-24T09:04:21.326Z"
   },
   {
    "duration": 17,
    "start_time": "2021-09-24T09:05:29.764Z"
   },
   {
    "duration": 20,
    "start_time": "2021-09-24T09:08:50.680Z"
   },
   {
    "duration": 7,
    "start_time": "2021-09-24T09:12:17.010Z"
   },
   {
    "duration": 12,
    "start_time": "2021-09-24T09:12:18.908Z"
   },
   {
    "duration": 22,
    "start_time": "2021-09-24T09:12:23.745Z"
   },
   {
    "duration": 8,
    "start_time": "2021-09-24T09:12:25.778Z"
   },
   {
    "duration": 7,
    "start_time": "2021-09-24T09:15:53.984Z"
   },
   {
    "duration": 14,
    "start_time": "2021-09-24T09:16:02.552Z"
   },
   {
    "duration": 7,
    "start_time": "2021-09-24T09:16:13.813Z"
   },
   {
    "duration": 12,
    "start_time": "2021-09-24T09:16:20.151Z"
   },
   {
    "duration": 878,
    "start_time": "2021-09-24T09:30:50.219Z"
   },
   {
    "duration": 51,
    "start_time": "2021-09-24T09:30:51.207Z"
   },
   {
    "duration": 29,
    "start_time": "2021-09-24T09:30:51.901Z"
   },
   {
    "duration": 17,
    "start_time": "2021-09-24T09:30:52.544Z"
   },
   {
    "duration": 4,
    "start_time": "2021-09-24T09:30:56.045Z"
   },
   {
    "duration": 21,
    "start_time": "2021-09-24T09:30:58.203Z"
   },
   {
    "duration": 10,
    "start_time": "2021-09-24T09:31:03.671Z"
   },
   {
    "duration": 21,
    "start_time": "2021-09-24T09:31:05.830Z"
   },
   {
    "duration": 7,
    "start_time": "2021-09-24T09:31:27.711Z"
   },
   {
    "duration": 12,
    "start_time": "2021-09-24T09:31:29.044Z"
   },
   {
    "duration": 21,
    "start_time": "2021-09-24T09:31:32.739Z"
   },
   {
    "duration": 8,
    "start_time": "2021-09-24T09:31:34.572Z"
   },
   {
    "duration": 6,
    "start_time": "2021-09-24T09:32:16.253Z"
   },
   {
    "duration": 7,
    "start_time": "2021-09-24T09:32:31.087Z"
   },
   {
    "duration": 12,
    "start_time": "2021-09-24T09:32:33.581Z"
   },
   {
    "duration": 19,
    "start_time": "2021-09-24T09:32:41.725Z"
   },
   {
    "duration": 12,
    "start_time": "2021-09-24T09:34:30.418Z"
   },
   {
    "duration": 7,
    "start_time": "2021-09-24T09:34:33.156Z"
   },
   {
    "duration": 6,
    "start_time": "2021-09-24T09:34:44.423Z"
   },
   {
    "duration": 8,
    "start_time": "2021-09-24T09:35:08.886Z"
   },
   {
    "duration": 13,
    "start_time": "2021-09-24T09:35:57.967Z"
   },
   {
    "duration": 11,
    "start_time": "2021-09-24T09:36:00.998Z"
   },
   {
    "duration": 7,
    "start_time": "2021-09-24T09:36:06.217Z"
   },
   {
    "duration": 11,
    "start_time": "2021-09-24T09:36:14.981Z"
   },
   {
    "duration": 27,
    "start_time": "2021-09-24T09:36:17.134Z"
   },
   {
    "duration": 19,
    "start_time": "2021-09-24T09:38:41.320Z"
   },
   {
    "duration": 7,
    "start_time": "2021-09-24T09:39:26.893Z"
   },
   {
    "duration": 516,
    "start_time": "2021-09-24T09:40:08.974Z"
   },
   {
    "duration": 3,
    "start_time": "2021-09-24T09:40:37.282Z"
   },
   {
    "duration": 344,
    "start_time": "2021-09-24T09:40:49.885Z"
   },
   {
    "duration": 312,
    "start_time": "2021-09-24T09:40:59.834Z"
   },
   {
    "duration": 316,
    "start_time": "2021-09-24T09:43:07.767Z"
   },
   {
    "duration": 316,
    "start_time": "2021-09-24T09:43:14.305Z"
   },
   {
    "duration": 336,
    "start_time": "2021-09-24T09:43:17.057Z"
   },
   {
    "duration": 321,
    "start_time": "2021-09-24T09:43:22.598Z"
   },
   {
    "duration": 5,
    "start_time": "2021-09-24T09:43:29.668Z"
   },
   {
    "duration": 17,
    "start_time": "2021-09-24T09:48:10.823Z"
   },
   {
    "duration": 6,
    "start_time": "2021-09-24T09:48:16.983Z"
   },
   {
    "duration": 5,
    "start_time": "2021-09-24T09:48:21.515Z"
   },
   {
    "duration": 6,
    "start_time": "2021-09-24T09:48:26.273Z"
   },
   {
    "duration": 6,
    "start_time": "2021-09-24T09:48:35.515Z"
   },
   {
    "duration": 23,
    "start_time": "2021-09-24T09:48:46.093Z"
   },
   {
    "duration": 24,
    "start_time": "2021-09-24T09:49:07.185Z"
   },
   {
    "duration": 44,
    "start_time": "2021-09-24T09:49:51.567Z"
   },
   {
    "duration": 374,
    "start_time": "2021-09-24T09:52:48.250Z"
   },
   {
    "duration": 30,
    "start_time": "2021-09-24T09:53:01.033Z"
   },
   {
    "duration": 22,
    "start_time": "2021-09-24T09:53:14.774Z"
   },
   {
    "duration": 31,
    "start_time": "2021-09-24T09:53:37.933Z"
   },
   {
    "duration": 7,
    "start_time": "2021-09-24T09:55:01.348Z"
   },
   {
    "duration": 21,
    "start_time": "2021-09-24T09:55:02.853Z"
   },
   {
    "duration": 13,
    "start_time": "2021-09-24T09:55:03.566Z"
   },
   {
    "duration": 13,
    "start_time": "2021-09-24T09:55:11.208Z"
   },
   {
    "duration": 12,
    "start_time": "2021-09-24T09:55:24.266Z"
   },
   {
    "duration": 712,
    "start_time": "2021-09-24T09:55:37.172Z"
   },
   {
    "duration": 9,
    "start_time": "2021-09-24T09:57:14.733Z"
   },
   {
    "duration": 33,
    "start_time": "2021-09-24T09:57:16.222Z"
   },
   {
    "duration": 39,
    "start_time": "2021-09-24T09:58:44.493Z"
   },
   {
    "duration": 37,
    "start_time": "2021-09-24T09:58:53.383Z"
   },
   {
    "duration": 425,
    "start_time": "2021-09-24T09:59:47.769Z"
   },
   {
    "duration": 493,
    "start_time": "2021-09-24T09:59:59.463Z"
   },
   {
    "duration": 642,
    "start_time": "2021-09-24T10:00:04.034Z"
   },
   {
    "duration": 10,
    "start_time": "2021-09-24T10:04:13.089Z"
   },
   {
    "duration": 10,
    "start_time": "2021-09-24T10:04:29.928Z"
   },
   {
    "duration": 218,
    "start_time": "2021-09-24T10:26:18.370Z"
   },
   {
    "duration": 3908,
    "start_time": "2021-09-24T10:27:47.999Z"
   },
   {
    "duration": 566,
    "start_time": "2021-09-24T10:28:24.709Z"
   },
   {
    "duration": 716,
    "start_time": "2021-09-24T10:28:41.993Z"
   },
   {
    "duration": 32,
    "start_time": "2021-09-24T10:35:29.550Z"
   },
   {
    "duration": 25,
    "start_time": "2021-09-24T10:36:48.616Z"
   },
   {
    "duration": 24,
    "start_time": "2021-09-24T10:37:20.984Z"
   },
   {
    "duration": 28,
    "start_time": "2021-09-24T10:46:42.123Z"
   },
   {
    "duration": 21,
    "start_time": "2021-09-24T10:47:05.906Z"
   },
   {
    "duration": 20,
    "start_time": "2021-09-24T10:47:39.721Z"
   },
   {
    "duration": 10,
    "start_time": "2021-09-24T10:49:40.540Z"
   },
   {
    "duration": 1856,
    "start_time": "2021-09-24T10:49:48.581Z"
   },
   {
    "duration": 12,
    "start_time": "2021-09-24T10:50:08.164Z"
   },
   {
    "duration": 423,
    "start_time": "2021-09-24T10:50:48.971Z"
   },
   {
    "duration": 398,
    "start_time": "2021-09-24T10:51:04.950Z"
   },
   {
    "duration": 673,
    "start_time": "2021-09-24T10:51:24.759Z"
   },
   {
    "duration": 498,
    "start_time": "2021-09-24T10:51:35.184Z"
   },
   {
    "duration": 550,
    "start_time": "2021-09-24T10:51:41.714Z"
   },
   {
    "duration": 443,
    "start_time": "2021-09-24T10:51:46.488Z"
   },
   {
    "duration": 388,
    "start_time": "2021-09-24T10:52:10.135Z"
   },
   {
    "duration": 445,
    "start_time": "2021-09-24T10:54:16.989Z"
   },
   {
    "duration": 870,
    "start_time": "2021-09-24T12:08:17.981Z"
   },
   {
    "duration": 53,
    "start_time": "2021-09-24T12:08:18.854Z"
   },
   {
    "duration": 31,
    "start_time": "2021-09-24T12:08:18.910Z"
   },
   {
    "duration": 17,
    "start_time": "2021-09-24T12:08:18.944Z"
   },
   {
    "duration": 6,
    "start_time": "2021-09-24T12:08:18.964Z"
   },
   {
    "duration": 58,
    "start_time": "2021-09-24T12:08:18.972Z"
   },
   {
    "duration": 11,
    "start_time": "2021-09-24T12:08:19.033Z"
   },
   {
    "duration": 25,
    "start_time": "2021-09-24T12:08:19.048Z"
   },
   {
    "duration": 7,
    "start_time": "2021-09-24T12:08:19.076Z"
   },
   {
    "duration": 13,
    "start_time": "2021-09-24T12:08:19.116Z"
   },
   {
    "duration": 24,
    "start_time": "2021-09-24T12:08:19.131Z"
   },
   {
    "duration": 8,
    "start_time": "2021-09-24T12:08:19.157Z"
   },
   {
    "duration": 10,
    "start_time": "2021-09-24T12:08:19.168Z"
   },
   {
    "duration": 40,
    "start_time": "2021-09-24T12:08:19.181Z"
   },
   {
    "duration": 18,
    "start_time": "2021-09-24T12:08:19.224Z"
   },
   {
    "duration": 28,
    "start_time": "2021-09-24T12:08:19.244Z"
   },
   {
    "duration": 42,
    "start_time": "2021-09-24T12:08:19.274Z"
   },
   {
    "duration": 7,
    "start_time": "2021-09-24T12:08:19.319Z"
   },
   {
    "duration": 7,
    "start_time": "2021-09-24T12:08:19.330Z"
   },
   {
    "duration": 10,
    "start_time": "2021-09-24T12:08:19.340Z"
   },
   {
    "duration": 20,
    "start_time": "2021-09-24T12:08:19.353Z"
   },
   {
    "duration": 48,
    "start_time": "2021-09-24T12:08:19.376Z"
   },
   {
    "duration": 9,
    "start_time": "2021-09-24T12:08:19.432Z"
   },
   {
    "duration": 26,
    "start_time": "2021-09-24T12:08:19.446Z"
   },
   {
    "duration": 74,
    "start_time": "2021-09-24T12:08:19.475Z"
   },
   {
    "duration": 8,
    "start_time": "2021-09-24T12:08:19.553Z"
   },
   {
    "duration": 50,
    "start_time": "2021-09-24T12:08:19.563Z"
   },
   {
    "duration": 30,
    "start_time": "2021-09-24T12:08:19.616Z"
   },
   {
    "duration": 20,
    "start_time": "2021-09-24T12:08:19.649Z"
   },
   {
    "duration": 29,
    "start_time": "2021-09-24T12:08:19.672Z"
   },
   {
    "duration": 690,
    "start_time": "2021-09-24T12:08:19.704Z"
   },
   {
    "duration": 25,
    "start_time": "2021-09-24T12:08:20.397Z"
   },
   {
    "duration": 621,
    "start_time": "2021-09-24T12:08:20.425Z"
   },
   {
    "duration": 11,
    "start_time": "2021-09-24T12:08:21.048Z"
   },
   {
    "duration": 1157,
    "start_time": "2021-09-24T12:08:21.062Z"
   },
   {
    "duration": 16,
    "start_time": "2021-09-24T12:08:22.222Z"
   },
   {
    "duration": 1247,
    "start_time": "2021-09-24T12:08:22.241Z"
   },
   {
    "duration": 25,
    "start_time": "2021-09-24T12:08:23.491Z"
   },
   {
    "duration": 3,
    "start_time": "2021-09-24T12:08:57.822Z"
   },
   {
    "duration": 900,
    "start_time": "2021-09-24T12:09:07.877Z"
   },
   {
    "duration": 813,
    "start_time": "2021-09-24T12:09:13.962Z"
   },
   {
    "duration": 867,
    "start_time": "2021-09-24T12:13:27.538Z"
   },
   {
    "duration": 905,
    "start_time": "2021-09-24T12:13:46.605Z"
   },
   {
    "duration": 1168,
    "start_time": "2021-09-24T12:13:57.671Z"
   },
   {
    "duration": 8,
    "start_time": "2021-09-24T12:40:21.894Z"
   },
   {
    "duration": 9,
    "start_time": "2021-09-24T12:40:27.740Z"
   },
   {
    "duration": 33,
    "start_time": "2021-09-24T12:41:38.588Z"
   },
   {
    "duration": 429,
    "start_time": "2021-09-24T12:42:45.338Z"
   },
   {
    "duration": 26,
    "start_time": "2021-09-24T12:43:16.099Z"
   },
   {
    "duration": 371,
    "start_time": "2021-09-24T12:43:22.790Z"
   },
   {
    "duration": 31,
    "start_time": "2021-09-24T12:44:53.766Z"
   },
   {
    "duration": 436,
    "start_time": "2021-09-24T12:45:19.987Z"
   },
   {
    "duration": 358,
    "start_time": "2021-09-24T12:46:46.276Z"
   },
   {
    "duration": 32,
    "start_time": "2021-09-24T12:46:54.736Z"
   },
   {
    "duration": 12,
    "start_time": "2021-09-24T12:51:26.426Z"
   },
   {
    "duration": 14,
    "start_time": "2021-09-24T12:53:51.036Z"
   },
   {
    "duration": 19,
    "start_time": "2021-09-24T12:55:48.373Z"
   },
   {
    "duration": 18,
    "start_time": "2021-09-24T12:57:45.967Z"
   },
   {
    "duration": 5,
    "start_time": "2021-09-24T13:01:04.997Z"
   },
   {
    "duration": 873,
    "start_time": "2021-09-24T16:31:20.198Z"
   },
   {
    "duration": 49,
    "start_time": "2021-09-24T16:31:21.073Z"
   },
   {
    "duration": 22,
    "start_time": "2021-09-24T16:31:21.125Z"
   },
   {
    "duration": 20,
    "start_time": "2021-09-24T16:31:21.149Z"
   },
   {
    "duration": 4,
    "start_time": "2021-09-24T16:31:21.171Z"
   },
   {
    "duration": 46,
    "start_time": "2021-09-24T16:31:21.178Z"
   },
   {
    "duration": 11,
    "start_time": "2021-09-24T16:31:21.226Z"
   },
   {
    "duration": 22,
    "start_time": "2021-09-24T16:31:21.240Z"
   },
   {
    "duration": 7,
    "start_time": "2021-09-24T16:31:21.265Z"
   },
   {
    "duration": 49,
    "start_time": "2021-09-24T16:31:21.274Z"
   },
   {
    "duration": 27,
    "start_time": "2021-09-24T16:31:21.326Z"
   },
   {
    "duration": 8,
    "start_time": "2021-09-24T16:31:21.356Z"
   },
   {
    "duration": 6,
    "start_time": "2021-09-24T16:31:21.366Z"
   },
   {
    "duration": 7,
    "start_time": "2021-09-24T16:31:21.375Z"
   },
   {
    "duration": 40,
    "start_time": "2021-09-24T16:31:21.385Z"
   },
   {
    "duration": 22,
    "start_time": "2021-09-24T16:31:21.427Z"
   },
   {
    "duration": 12,
    "start_time": "2021-09-24T16:31:21.451Z"
   },
   {
    "duration": 6,
    "start_time": "2021-09-24T16:31:21.465Z"
   },
   {
    "duration": 5,
    "start_time": "2021-09-24T16:31:21.474Z"
   },
   {
    "duration": 7,
    "start_time": "2021-09-24T16:31:21.521Z"
   },
   {
    "duration": 22,
    "start_time": "2021-09-24T16:31:21.530Z"
   },
   {
    "duration": 27,
    "start_time": "2021-09-24T16:31:21.554Z"
   },
   {
    "duration": 6,
    "start_time": "2021-09-24T16:31:21.586Z"
   },
   {
    "duration": 29,
    "start_time": "2021-09-24T16:31:21.595Z"
   },
   {
    "duration": 33,
    "start_time": "2021-09-24T16:31:21.627Z"
   },
   {
    "duration": 12,
    "start_time": "2021-09-24T16:31:21.662Z"
   },
   {
    "duration": 46,
    "start_time": "2021-09-24T16:31:21.676Z"
   },
   {
    "duration": 17,
    "start_time": "2021-09-24T16:31:21.724Z"
   },
   {
    "duration": 15,
    "start_time": "2021-09-24T16:31:21.744Z"
   },
   {
    "duration": 28,
    "start_time": "2021-09-24T16:31:21.761Z"
   },
   {
    "duration": 679,
    "start_time": "2021-09-24T16:31:21.791Z"
   },
   {
    "duration": 12,
    "start_time": "2021-09-24T16:31:22.473Z"
   },
   {
    "duration": 594,
    "start_time": "2021-09-24T16:31:22.488Z"
   },
   {
    "duration": 10,
    "start_time": "2021-09-24T16:31:23.085Z"
   },
   {
    "duration": 691,
    "start_time": "2021-09-24T16:31:23.097Z"
   },
   {
    "duration": 10,
    "start_time": "2021-09-24T16:31:23.791Z"
   },
   {
    "duration": 789,
    "start_time": "2021-09-24T16:31:23.803Z"
   },
   {
    "duration": 28,
    "start_time": "2021-09-24T16:31:24.594Z"
   },
   {
    "duration": 29,
    "start_time": "2021-09-24T16:31:24.625Z"
   },
   {
    "duration": 11,
    "start_time": "2021-09-24T16:31:24.656Z"
   },
   {
    "duration": 14,
    "start_time": "2021-09-24T16:31:24.670Z"
   },
   {
    "duration": 3,
    "start_time": "2021-09-24T16:32:50.152Z"
   },
   {
    "duration": 42,
    "start_time": "2021-09-24T16:34:40.399Z"
   },
   {
    "duration": 10,
    "start_time": "2021-09-24T16:36:48.443Z"
   },
   {
    "duration": 10,
    "start_time": "2021-09-24T16:36:51.733Z"
   },
   {
    "duration": 15,
    "start_time": "2021-09-24T16:38:35.822Z"
   },
   {
    "duration": 11,
    "start_time": "2021-09-24T16:38:46.250Z"
   },
   {
    "duration": 10,
    "start_time": "2021-09-24T16:38:56.139Z"
   },
   {
    "duration": 11,
    "start_time": "2021-09-24T16:38:59.459Z"
   },
   {
    "duration": 13,
    "start_time": "2021-09-24T16:40:29.631Z"
   },
   {
    "duration": 11,
    "start_time": "2021-09-24T16:40:34.657Z"
   },
   {
    "duration": 103,
    "start_time": "2021-09-24T16:43:29.098Z"
   },
   {
    "duration": 5,
    "start_time": "2021-09-24T16:43:48.610Z"
   },
   {
    "duration": 13,
    "start_time": "2021-09-24T16:43:58.801Z"
   },
   {
    "duration": 5,
    "start_time": "2021-09-24T16:44:14.367Z"
   },
   {
    "duration": 14,
    "start_time": "2021-09-24T16:44:15.021Z"
   },
   {
    "duration": 5,
    "start_time": "2021-09-24T16:44:49.469Z"
   },
   {
    "duration": 16,
    "start_time": "2021-09-24T16:44:50.780Z"
   },
   {
    "duration": 6,
    "start_time": "2021-09-24T16:45:15.267Z"
   },
   {
    "duration": 16,
    "start_time": "2021-09-24T16:45:18.364Z"
   },
   {
    "duration": 16,
    "start_time": "2021-09-24T16:47:21.161Z"
   },
   {
    "duration": 16,
    "start_time": "2021-09-24T16:48:58.570Z"
   },
   {
    "duration": 673,
    "start_time": "2021-09-26T10:12:04.281Z"
   },
   {
    "duration": 39,
    "start_time": "2021-09-26T10:12:04.956Z"
   },
   {
    "duration": 17,
    "start_time": "2021-09-26T10:12:04.997Z"
   },
   {
    "duration": 15,
    "start_time": "2021-09-26T10:12:05.016Z"
   },
   {
    "duration": 4,
    "start_time": "2021-09-26T10:12:05.033Z"
   },
   {
    "duration": 37,
    "start_time": "2021-09-26T10:12:05.039Z"
   },
   {
    "duration": 10,
    "start_time": "2021-09-26T10:12:05.078Z"
   },
   {
    "duration": 16,
    "start_time": "2021-09-26T10:12:05.090Z"
   },
   {
    "duration": 5,
    "start_time": "2021-09-26T10:12:05.110Z"
   },
   {
    "duration": 10,
    "start_time": "2021-09-26T10:12:05.117Z"
   },
   {
    "duration": 50,
    "start_time": "2021-09-26T10:12:05.128Z"
   },
   {
    "duration": 6,
    "start_time": "2021-09-26T10:12:05.180Z"
   },
   {
    "duration": 6,
    "start_time": "2021-09-26T10:12:05.188Z"
   },
   {
    "duration": 5,
    "start_time": "2021-09-26T10:12:05.196Z"
   },
   {
    "duration": 11,
    "start_time": "2021-09-26T10:12:05.203Z"
   },
   {
    "duration": 24,
    "start_time": "2021-09-26T10:12:05.216Z"
   },
   {
    "duration": 40,
    "start_time": "2021-09-26T10:12:05.242Z"
   },
   {
    "duration": 4,
    "start_time": "2021-09-26T10:12:05.284Z"
   },
   {
    "duration": 18,
    "start_time": "2021-09-26T10:12:05.290Z"
   },
   {
    "duration": 14,
    "start_time": "2021-09-26T10:12:05.309Z"
   },
   {
    "duration": 17,
    "start_time": "2021-09-26T10:12:05.324Z"
   },
   {
    "duration": 34,
    "start_time": "2021-09-26T10:12:05.342Z"
   },
   {
    "duration": 12,
    "start_time": "2021-09-26T10:12:05.377Z"
   },
   {
    "duration": 23,
    "start_time": "2021-09-26T10:12:05.390Z"
   },
   {
    "duration": 38,
    "start_time": "2021-09-26T10:12:05.415Z"
   },
   {
    "duration": 5,
    "start_time": "2021-09-26T10:12:05.454Z"
   },
   {
    "duration": 25,
    "start_time": "2021-09-26T10:12:05.463Z"
   },
   {
    "duration": 20,
    "start_time": "2021-09-26T10:12:05.490Z"
   },
   {
    "duration": 9,
    "start_time": "2021-09-26T10:12:05.512Z"
   },
   {
    "duration": 8,
    "start_time": "2021-09-26T10:12:05.523Z"
   },
   {
    "duration": 355,
    "start_time": "2021-09-26T10:12:05.533Z"
   },
   {
    "duration": 7,
    "start_time": "2021-09-26T10:12:05.890Z"
   },
   {
    "duration": 381,
    "start_time": "2021-09-26T10:12:05.898Z"
   },
   {
    "duration": 8,
    "start_time": "2021-09-26T10:12:06.282Z"
   },
   {
    "duration": 452,
    "start_time": "2021-09-26T10:12:06.292Z"
   },
   {
    "duration": 9,
    "start_time": "2021-09-26T10:12:06.746Z"
   },
   {
    "duration": 605,
    "start_time": "2021-09-26T10:12:06.757Z"
   },
   {
    "duration": 18,
    "start_time": "2021-09-26T10:12:07.364Z"
   },
   {
    "duration": 22,
    "start_time": "2021-09-26T10:12:07.384Z"
   },
   {
    "duration": 10,
    "start_time": "2021-09-26T10:12:07.408Z"
   },
   {
    "duration": 24,
    "start_time": "2021-09-26T10:12:07.420Z"
   },
   {
    "duration": 16,
    "start_time": "2021-09-26T10:12:07.446Z"
   },
   {
    "duration": 32,
    "start_time": "2021-09-26T10:12:07.464Z"
   },
   {
    "duration": 21,
    "start_time": "2021-09-26T10:12:07.498Z"
   },
   {
    "duration": 11,
    "start_time": "2021-09-26T10:12:07.520Z"
   },
   {
    "duration": 641,
    "start_time": "2021-09-26T10:16:27.617Z"
   },
   {
    "duration": 37,
    "start_time": "2021-09-26T10:16:28.260Z"
   },
   {
    "duration": 16,
    "start_time": "2021-09-26T10:16:28.301Z"
   },
   {
    "duration": 12,
    "start_time": "2021-09-26T10:16:28.318Z"
   },
   {
    "duration": 3,
    "start_time": "2021-09-26T10:16:28.332Z"
   },
   {
    "duration": 18,
    "start_time": "2021-09-26T10:16:28.337Z"
   },
   {
    "duration": 25,
    "start_time": "2021-09-26T10:16:28.356Z"
   },
   {
    "duration": 14,
    "start_time": "2021-09-26T10:16:28.384Z"
   },
   {
    "duration": 5,
    "start_time": "2021-09-26T10:16:28.400Z"
   },
   {
    "duration": 8,
    "start_time": "2021-09-26T10:16:28.407Z"
   },
   {
    "duration": 15,
    "start_time": "2021-09-26T10:16:28.416Z"
   },
   {
    "duration": 5,
    "start_time": "2021-09-26T10:16:28.433Z"
   },
   {
    "duration": 37,
    "start_time": "2021-09-26T10:16:28.441Z"
   },
   {
    "duration": 5,
    "start_time": "2021-09-26T10:16:28.480Z"
   },
   {
    "duration": 9,
    "start_time": "2021-09-26T10:16:28.486Z"
   },
   {
    "duration": 29,
    "start_time": "2021-09-26T10:16:28.497Z"
   },
   {
    "duration": 9,
    "start_time": "2021-09-26T10:16:28.528Z"
   },
   {
    "duration": 6,
    "start_time": "2021-09-26T10:16:28.538Z"
   },
   {
    "duration": 15,
    "start_time": "2021-09-26T10:16:28.546Z"
   },
   {
    "duration": 5,
    "start_time": "2021-09-26T10:16:28.577Z"
   },
   {
    "duration": 14,
    "start_time": "2021-09-26T10:16:28.584Z"
   },
   {
    "duration": 13,
    "start_time": "2021-09-26T10:16:28.600Z"
   },
   {
    "duration": 5,
    "start_time": "2021-09-26T10:16:28.614Z"
   },
   {
    "duration": 13,
    "start_time": "2021-09-26T10:16:28.621Z"
   },
   {
    "duration": 21,
    "start_time": "2021-09-26T10:16:28.636Z"
   },
   {
    "duration": 5,
    "start_time": "2021-09-26T10:16:28.676Z"
   },
   {
    "duration": 14,
    "start_time": "2021-09-26T10:16:28.683Z"
   },
   {
    "duration": 12,
    "start_time": "2021-09-26T10:16:28.699Z"
   },
   {
    "duration": 10,
    "start_time": "2021-09-26T10:16:28.713Z"
   },
   {
    "duration": 12,
    "start_time": "2021-09-26T10:16:28.725Z"
   },
   {
    "duration": 366,
    "start_time": "2021-09-26T10:16:28.739Z"
   },
   {
    "duration": 6,
    "start_time": "2021-09-26T10:16:29.107Z"
   },
   {
    "duration": 361,
    "start_time": "2021-09-26T10:16:29.115Z"
   },
   {
    "duration": 7,
    "start_time": "2021-09-26T10:16:29.478Z"
   },
   {
    "duration": 448,
    "start_time": "2021-09-26T10:16:29.486Z"
   },
   {
    "duration": 9,
    "start_time": "2021-09-26T10:16:29.936Z"
   },
   {
    "duration": 752,
    "start_time": "2021-09-26T10:16:29.946Z"
   },
   {
    "duration": 9,
    "start_time": "2021-09-26T10:16:30.700Z"
   },
   {
    "duration": 21,
    "start_time": "2021-09-26T10:16:30.711Z"
   },
   {
    "duration": 9,
    "start_time": "2021-09-26T10:16:30.734Z"
   },
   {
    "duration": 42,
    "start_time": "2021-09-26T10:16:30.745Z"
   },
   {
    "duration": 10,
    "start_time": "2021-09-26T10:16:30.789Z"
   },
   {
    "duration": 24,
    "start_time": "2021-09-26T10:16:30.800Z"
   },
   {
    "duration": 16,
    "start_time": "2021-09-26T10:16:30.826Z"
   },
   {
    "duration": 33,
    "start_time": "2021-09-26T10:16:30.844Z"
   },
   {
    "duration": 696,
    "start_time": "2021-09-26T10:55:15.483Z"
   },
   {
    "duration": 40,
    "start_time": "2021-09-26T10:55:16.181Z"
   },
   {
    "duration": 15,
    "start_time": "2021-09-26T10:55:16.223Z"
   },
   {
    "duration": 16,
    "start_time": "2021-09-26T10:55:16.240Z"
   },
   {
    "duration": 7,
    "start_time": "2021-09-26T10:55:16.257Z"
   },
   {
    "duration": 21,
    "start_time": "2021-09-26T10:55:16.266Z"
   },
   {
    "duration": 7,
    "start_time": "2021-09-26T10:55:16.289Z"
   },
   {
    "duration": 19,
    "start_time": "2021-09-26T10:55:16.298Z"
   },
   {
    "duration": 5,
    "start_time": "2021-09-26T10:55:16.319Z"
   },
   {
    "duration": 14,
    "start_time": "2021-09-26T10:55:16.326Z"
   },
   {
    "duration": 39,
    "start_time": "2021-09-26T10:55:16.341Z"
   },
   {
    "duration": 5,
    "start_time": "2021-09-26T10:55:16.382Z"
   },
   {
    "duration": 8,
    "start_time": "2021-09-26T10:55:16.389Z"
   },
   {
    "duration": 15,
    "start_time": "2021-09-26T10:55:16.398Z"
   },
   {
    "duration": 13,
    "start_time": "2021-09-26T10:55:16.415Z"
   },
   {
    "duration": 16,
    "start_time": "2021-09-26T10:55:16.430Z"
   },
   {
    "duration": 31,
    "start_time": "2021-09-26T10:55:16.447Z"
   },
   {
    "duration": 5,
    "start_time": "2021-09-26T10:55:16.479Z"
   },
   {
    "duration": 9,
    "start_time": "2021-09-26T10:55:16.487Z"
   },
   {
    "duration": 8,
    "start_time": "2021-09-26T10:55:16.498Z"
   },
   {
    "duration": 12,
    "start_time": "2021-09-26T10:55:16.508Z"
   },
   {
    "duration": 27,
    "start_time": "2021-09-26T10:55:16.522Z"
   },
   {
    "duration": 7,
    "start_time": "2021-09-26T10:55:16.551Z"
   },
   {
    "duration": 9,
    "start_time": "2021-09-26T10:55:16.559Z"
   },
   {
    "duration": 20,
    "start_time": "2021-09-26T10:55:16.576Z"
   },
   {
    "duration": 9,
    "start_time": "2021-09-26T10:55:16.598Z"
   },
   {
    "duration": 17,
    "start_time": "2021-09-26T10:55:16.610Z"
   },
   {
    "duration": 53,
    "start_time": "2021-09-26T10:55:16.629Z"
   },
   {
    "duration": 12,
    "start_time": "2021-09-26T10:55:16.684Z"
   },
   {
    "duration": 15,
    "start_time": "2021-09-26T10:55:16.698Z"
   },
   {
    "duration": 357,
    "start_time": "2021-09-26T10:55:16.715Z"
   },
   {
    "duration": 9,
    "start_time": "2021-09-26T10:55:17.075Z"
   },
   {
    "duration": 375,
    "start_time": "2021-09-26T10:55:17.086Z"
   },
   {
    "duration": 18,
    "start_time": "2021-09-26T10:55:17.464Z"
   },
   {
    "duration": 457,
    "start_time": "2021-09-26T10:55:17.484Z"
   },
   {
    "duration": 9,
    "start_time": "2021-09-26T10:55:17.943Z"
   },
   {
    "duration": 605,
    "start_time": "2021-09-26T10:55:17.954Z"
   },
   {
    "duration": 15,
    "start_time": "2021-09-26T10:55:18.561Z"
   },
   {
    "duration": 25,
    "start_time": "2021-09-26T10:55:18.578Z"
   },
   {
    "duration": 7,
    "start_time": "2021-09-26T10:55:18.606Z"
   },
   {
    "duration": 11,
    "start_time": "2021-09-26T10:55:18.615Z"
   },
   {
    "duration": 5,
    "start_time": "2021-09-26T10:55:18.627Z"
   },
   {
    "duration": 16,
    "start_time": "2021-09-26T10:55:18.633Z"
   },
   {
    "duration": 36,
    "start_time": "2021-09-26T10:55:18.651Z"
   },
   {
    "duration": 23,
    "start_time": "2021-09-26T10:55:18.689Z"
   },
   {
    "duration": 339,
    "start_time": "2021-09-26T11:14:39.922Z"
   },
   {
    "duration": 347,
    "start_time": "2021-09-26T11:14:56.916Z"
   },
   {
    "duration": 3,
    "start_time": "2021-09-26T11:15:11.069Z"
   },
   {
    "duration": 6,
    "start_time": "2021-09-26T11:17:20.802Z"
   },
   {
    "duration": 10,
    "start_time": "2021-09-26T11:17:29.553Z"
   },
   {
    "duration": 481,
    "start_time": "2021-09-26T11:18:40.192Z"
   },
   {
    "duration": 9,
    "start_time": "2021-09-26T11:19:10.495Z"
   },
   {
    "duration": 465,
    "start_time": "2021-09-26T11:19:12.302Z"
   },
   {
    "duration": 5,
    "start_time": "2021-09-26T11:19:18.241Z"
   },
   {
    "duration": 22,
    "start_time": "2021-09-26T11:19:32.877Z"
   },
   {
    "duration": 6,
    "start_time": "2021-09-26T11:19:57.162Z"
   },
   {
    "duration": 6,
    "start_time": "2021-09-26T11:20:02.728Z"
   },
   {
    "duration": 9,
    "start_time": "2021-09-26T11:20:30.094Z"
   },
   {
    "duration": 5,
    "start_time": "2021-09-26T11:20:31.202Z"
   },
   {
    "duration": 4,
    "start_time": "2021-09-26T11:20:40.775Z"
   },
   {
    "duration": 6,
    "start_time": "2021-09-26T11:21:48.716Z"
   },
   {
    "duration": 4,
    "start_time": "2021-09-26T11:21:50.283Z"
   },
   {
    "duration": 8,
    "start_time": "2021-09-26T11:23:41.096Z"
   },
   {
    "duration": 4,
    "start_time": "2021-09-26T11:25:31.109Z"
   },
   {
    "duration": 5,
    "start_time": "2021-09-26T11:25:48.227Z"
   },
   {
    "duration": 5,
    "start_time": "2021-09-26T11:25:52.232Z"
   },
   {
    "duration": 10,
    "start_time": "2021-09-26T11:29:10.745Z"
   },
   {
    "duration": 6,
    "start_time": "2021-09-26T11:29:53.835Z"
   },
   {
    "duration": 4,
    "start_time": "2021-09-26T11:30:37.923Z"
   },
   {
    "duration": 5,
    "start_time": "2021-09-26T12:30:54.434Z"
   },
   {
    "duration": 13,
    "start_time": "2021-09-26T12:30:56.365Z"
   },
   {
    "duration": 14,
    "start_time": "2021-09-26T12:31:04.036Z"
   },
   {
    "duration": 14,
    "start_time": "2021-09-26T12:31:44.286Z"
   },
   {
    "duration": 357,
    "start_time": "2021-09-26T12:53:38.705Z"
   },
   {
    "duration": 350,
    "start_time": "2021-09-26T12:54:09.798Z"
   },
   {
    "duration": 692,
    "start_time": "2021-09-26T12:54:28.366Z"
   },
   {
    "duration": 374,
    "start_time": "2021-09-26T12:55:38.073Z"
   },
   {
    "duration": 350,
    "start_time": "2021-09-26T12:56:17.709Z"
   },
   {
    "duration": 362,
    "start_time": "2021-09-26T12:56:42.739Z"
   },
   {
    "duration": 352,
    "start_time": "2021-09-26T12:57:20.408Z"
   },
   {
    "duration": 361,
    "start_time": "2021-09-26T12:57:25.101Z"
   },
   {
    "duration": 387,
    "start_time": "2021-09-26T12:58:06.043Z"
   },
   {
    "duration": 498,
    "start_time": "2021-09-26T12:58:27.863Z"
   },
   {
    "duration": 77,
    "start_time": "2021-09-27T08:08:24.038Z"
   },
   {
    "duration": 79,
    "start_time": "2021-09-27T08:12:58.401Z"
   },
   {
    "duration": 77,
    "start_time": "2021-09-27T08:15:34.752Z"
   },
   {
    "duration": 77,
    "start_time": "2021-09-27T08:19:25.850Z"
   },
   {
    "duration": 82,
    "start_time": "2021-09-27T08:20:53.968Z"
   },
   {
    "duration": 88,
    "start_time": "2021-09-27T08:22:58.466Z"
   },
   {
    "duration": 74,
    "start_time": "2021-09-27T08:23:38.227Z"
   },
   {
    "duration": 1346,
    "start_time": "2021-09-30T07:10:17.107Z"
   },
   {
    "duration": 47,
    "start_time": "2021-09-30T07:10:18.456Z"
   },
   {
    "duration": 23,
    "start_time": "2021-09-30T07:10:18.510Z"
   },
   {
    "duration": 14,
    "start_time": "2021-09-30T07:10:18.882Z"
   },
   {
    "duration": 46,
    "start_time": "2021-09-30T07:11:05.246Z"
   },
   {
    "duration": 18,
    "start_time": "2021-09-30T07:11:05.862Z"
   },
   {
    "duration": 45,
    "start_time": "2021-09-30T07:11:10.446Z"
   },
   {
    "duration": 19,
    "start_time": "2021-09-30T07:11:10.992Z"
   },
   {
    "duration": 44,
    "start_time": "2021-09-30T07:11:16.481Z"
   },
   {
    "duration": 19,
    "start_time": "2021-09-30T07:11:17.136Z"
   },
   {
    "duration": 46,
    "start_time": "2021-09-30T07:11:28.868Z"
   },
   {
    "duration": 18,
    "start_time": "2021-09-30T07:11:29.299Z"
   },
   {
    "duration": 5,
    "start_time": "2021-09-30T07:11:41.829Z"
   },
   {
    "duration": 19,
    "start_time": "2021-09-30T07:11:43.595Z"
   },
   {
    "duration": 11,
    "start_time": "2021-09-30T07:11:46.708Z"
   },
   {
    "duration": 22,
    "start_time": "2021-09-30T07:11:50.629Z"
   },
   {
    "duration": 7,
    "start_time": "2021-09-30T07:11:51.981Z"
   },
   {
    "duration": 11,
    "start_time": "2021-09-30T07:11:54.426Z"
   },
   {
    "duration": 21,
    "start_time": "2021-09-30T07:11:56.038Z"
   },
   {
    "duration": 8,
    "start_time": "2021-09-30T07:11:57.912Z"
   },
   {
    "duration": 7,
    "start_time": "2021-09-30T07:12:07.995Z"
   },
   {
    "duration": 7,
    "start_time": "2021-09-30T07:12:24.927Z"
   },
   {
    "duration": 12,
    "start_time": "2021-09-30T07:12:26.433Z"
   },
   {
    "duration": 21,
    "start_time": "2021-09-30T07:12:29.319Z"
   },
   {
    "duration": 11,
    "start_time": "2021-09-30T07:12:31.698Z"
   },
   {
    "duration": 8,
    "start_time": "2021-09-30T07:12:32.398Z"
   },
   {
    "duration": 5,
    "start_time": "2021-09-30T07:12:33.924Z"
   },
   {
    "duration": 8,
    "start_time": "2021-09-30T07:12:39.470Z"
   },
   {
    "duration": 12,
    "start_time": "2021-09-30T07:12:41.703Z"
   },
   {
    "duration": 12,
    "start_time": "2021-09-30T07:12:42.704Z"
   },
   {
    "duration": 7,
    "start_time": "2021-09-30T07:12:47.353Z"
   },
   {
    "duration": 9,
    "start_time": "2021-09-30T07:12:48.058Z"
   },
   {
    "duration": 30,
    "start_time": "2021-09-30T07:12:50.497Z"
   },
   {
    "duration": 13,
    "start_time": "2021-09-30T07:12:52.952Z"
   },
   {
    "duration": 20,
    "start_time": "2021-09-30T07:12:53.676Z"
   },
   {
    "duration": 15,
    "start_time": "2021-09-30T07:12:54.183Z"
   },
   {
    "duration": 491,
    "start_time": "2021-09-30T07:13:25.759Z"
   },
   {
    "duration": 635,
    "start_time": "2021-09-30T07:13:39.987Z"
   },
   {
    "duration": 632,
    "start_time": "2021-09-30T07:13:45.433Z"
   },
   {
    "duration": 631,
    "start_time": "2021-09-30T07:14:51.287Z"
   },
   {
    "duration": 13,
    "start_time": "2021-09-30T07:21:22.931Z"
   },
   {
    "duration": 529,
    "start_time": "2021-09-30T07:23:57.057Z"
   },
   {
    "duration": 638,
    "start_time": "2021-09-30T07:24:30.659Z"
   },
   {
    "duration": 863,
    "start_time": "2021-09-30T07:25:34.062Z"
   },
   {
    "duration": 4,
    "start_time": "2021-09-30T07:26:46.428Z"
   },
   {
    "duration": 5,
    "start_time": "2021-09-30T07:26:50.353Z"
   },
   {
    "duration": 5,
    "start_time": "2021-09-30T07:27:02.834Z"
   },
   {
    "duration": 812,
    "start_time": "2021-09-30T07:30:12.085Z"
   },
   {
    "duration": 516,
    "start_time": "2021-09-30T07:30:29.133Z"
   },
   {
    "duration": 12,
    "start_time": "2021-09-30T07:32:23.230Z"
   },
   {
    "duration": 648,
    "start_time": "2021-09-30T07:32:27.786Z"
   },
   {
    "duration": 11,
    "start_time": "2021-09-30T07:32:44.733Z"
   },
   {
    "duration": 288,
    "start_time": "2021-09-30T07:32:56.194Z"
   },
   {
    "duration": 333,
    "start_time": "2021-09-30T07:33:56.127Z"
   },
   {
    "duration": 353,
    "start_time": "2021-09-30T07:34:09.098Z"
   },
   {
    "duration": 410,
    "start_time": "2021-09-30T07:34:12.414Z"
   },
   {
    "duration": 635,
    "start_time": "2021-09-30T07:35:08.206Z"
   },
   {
    "duration": 9,
    "start_time": "2021-09-30T07:35:20.589Z"
   },
   {
    "duration": 826,
    "start_time": "2021-09-30T07:35:42.440Z"
   },
   {
    "duration": 644,
    "start_time": "2021-09-30T07:36:56.965Z"
   },
   {
    "duration": 14,
    "start_time": "2021-09-30T07:43:44.696Z"
   },
   {
    "duration": 802,
    "start_time": "2021-09-30T07:43:46.357Z"
   },
   {
    "duration": 11,
    "start_time": "2021-09-30T07:43:50.202Z"
   },
   {
    "duration": 5,
    "start_time": "2021-09-30T07:52:06.404Z"
   },
   {
    "duration": 5,
    "start_time": "2021-09-30T07:52:19.180Z"
   },
   {
    "duration": 947,
    "start_time": "2021-09-30T07:52:32.552Z"
   },
   {
    "duration": 742,
    "start_time": "2021-09-30T07:52:55.242Z"
   },
   {
    "duration": 5,
    "start_time": "2021-09-30T07:53:04.839Z"
   },
   {
    "duration": 758,
    "start_time": "2021-09-30T07:53:07.336Z"
   },
   {
    "duration": 762,
    "start_time": "2021-09-30T07:57:04.257Z"
   },
   {
    "duration": 748,
    "start_time": "2021-09-30T07:57:33.581Z"
   },
   {
    "duration": 745,
    "start_time": "2021-09-30T07:58:11.511Z"
   },
   {
    "duration": 727,
    "start_time": "2021-09-30T07:58:38.185Z"
   },
   {
    "duration": 703,
    "start_time": "2021-09-30T07:59:11.260Z"
   },
   {
    "duration": 774,
    "start_time": "2021-09-30T07:59:19.208Z"
   },
   {
    "duration": 781,
    "start_time": "2021-09-30T07:59:47.357Z"
   },
   {
    "duration": 904,
    "start_time": "2021-09-30T08:00:16.940Z"
   },
   {
    "duration": 951,
    "start_time": "2021-09-30T08:00:43.755Z"
   },
   {
    "duration": 681,
    "start_time": "2021-09-30T08:00:51.321Z"
   },
   {
    "duration": 750,
    "start_time": "2021-09-30T08:00:53.075Z"
   },
   {
    "duration": 778,
    "start_time": "2021-09-30T08:01:29.752Z"
   },
   {
    "duration": 29,
    "start_time": "2021-09-30T08:10:12.459Z"
   },
   {
    "duration": 12,
    "start_time": "2021-09-30T08:10:29.902Z"
   },
   {
    "duration": 16,
    "start_time": "2021-09-30T08:10:33.513Z"
   },
   {
    "duration": 24,
    "start_time": "2021-09-30T08:11:24.612Z"
   },
   {
    "duration": 369,
    "start_time": "2021-09-30T08:12:10.478Z"
   },
   {
    "duration": 282,
    "start_time": "2021-09-30T08:12:28.444Z"
   },
   {
    "duration": 324,
    "start_time": "2021-09-30T08:13:31.606Z"
   },
   {
    "duration": 331,
    "start_time": "2021-09-30T08:14:31.463Z"
   },
   {
    "duration": 5,
    "start_time": "2021-09-30T08:17:31.817Z"
   },
   {
    "duration": 308,
    "start_time": "2021-09-30T08:19:06.302Z"
   },
   {
    "duration": 378,
    "start_time": "2021-09-30T08:19:25.196Z"
   },
   {
    "duration": 351,
    "start_time": "2021-09-30T08:19:29.497Z"
   },
   {
    "duration": 6,
    "start_time": "2021-09-30T08:21:55.848Z"
   },
   {
    "duration": 22,
    "start_time": "2021-09-30T08:21:58.450Z"
   },
   {
    "duration": 6,
    "start_time": "2021-09-30T08:22:05.343Z"
   },
   {
    "duration": 29,
    "start_time": "2021-09-30T08:22:07.685Z"
   },
   {
    "duration": 6,
    "start_time": "2021-09-30T08:22:15.384Z"
   },
   {
    "duration": 24,
    "start_time": "2021-09-30T08:22:17.311Z"
   },
   {
    "duration": 23,
    "start_time": "2021-09-30T08:22:26.470Z"
   },
   {
    "duration": 23,
    "start_time": "2021-09-30T08:22:32.408Z"
   },
   {
    "duration": 12,
    "start_time": "2021-09-30T08:22:58.654Z"
   },
   {
    "duration": 8,
    "start_time": "2021-09-30T08:22:59.543Z"
   },
   {
    "duration": 5,
    "start_time": "2021-09-30T08:23:02.070Z"
   },
   {
    "duration": 14,
    "start_time": "2021-09-30T08:23:04.376Z"
   },
   {
    "duration": 10,
    "start_time": "2021-09-30T08:23:05.128Z"
   },
   {
    "duration": 7,
    "start_time": "2021-09-30T08:23:05.995Z"
   },
   {
    "duration": 1515,
    "start_time": "2021-09-30T08:24:51.744Z"
   },
   {
    "duration": 51,
    "start_time": "2021-09-30T08:24:53.262Z"
   },
   {
    "duration": 24,
    "start_time": "2021-09-30T08:24:53.316Z"
   },
   {
    "duration": 16,
    "start_time": "2021-09-30T08:24:53.343Z"
   },
   {
    "duration": 21,
    "start_time": "2021-09-30T08:24:53.361Z"
   },
   {
    "duration": 26,
    "start_time": "2021-09-30T08:24:53.385Z"
   },
   {
    "duration": 13,
    "start_time": "2021-09-30T08:24:53.414Z"
   },
   {
    "duration": 71,
    "start_time": "2021-09-30T08:24:53.432Z"
   },
   {
    "duration": 6,
    "start_time": "2021-09-30T08:24:53.506Z"
   },
   {
    "duration": 14,
    "start_time": "2021-09-30T08:24:53.516Z"
   },
   {
    "duration": 22,
    "start_time": "2021-09-30T08:24:53.532Z"
   },
   {
    "duration": 10,
    "start_time": "2021-09-30T08:24:53.581Z"
   },
   {
    "duration": 8,
    "start_time": "2021-09-30T08:24:53.595Z"
   },
   {
    "duration": 8,
    "start_time": "2021-09-30T08:24:53.607Z"
   },
   {
    "duration": 16,
    "start_time": "2021-09-30T08:24:53.620Z"
   },
   {
    "duration": 67,
    "start_time": "2021-09-30T08:24:53.640Z"
   },
   {
    "duration": 12,
    "start_time": "2021-09-30T08:24:53.710Z"
   },
   {
    "duration": 7,
    "start_time": "2021-09-30T08:24:53.725Z"
   },
   {
    "duration": 6,
    "start_time": "2021-09-30T08:24:53.735Z"
   },
   {
    "duration": 9,
    "start_time": "2021-09-30T08:24:53.782Z"
   },
   {
    "duration": 18,
    "start_time": "2021-09-30T08:24:53.794Z"
   },
   {
    "duration": 14,
    "start_time": "2021-09-30T08:24:53.816Z"
   },
   {
    "duration": 46,
    "start_time": "2021-09-30T08:24:53.836Z"
   },
   {
    "duration": 13,
    "start_time": "2021-09-30T08:24:53.887Z"
   },
   {
    "duration": 30,
    "start_time": "2021-09-30T08:24:53.902Z"
   },
   {
    "duration": 11,
    "start_time": "2021-09-30T08:24:53.934Z"
   },
   {
    "duration": 51,
    "start_time": "2021-09-30T08:24:53.947Z"
   },
   {
    "duration": 20,
    "start_time": "2021-09-30T08:24:54.002Z"
   },
   {
    "duration": 693,
    "start_time": "2021-09-30T08:24:54.025Z"
   },
   {
    "duration": 12,
    "start_time": "2021-09-30T08:24:54.720Z"
   },
   {
    "duration": 597,
    "start_time": "2021-09-30T08:24:54.734Z"
   },
   {
    "duration": 5,
    "start_time": "2021-09-30T08:24:55.334Z"
   },
   {
    "duration": 535,
    "start_time": "2021-09-30T08:24:55.342Z"
   },
   {
    "duration": 12,
    "start_time": "2021-09-30T08:24:55.884Z"
   },
   {
    "duration": 780,
    "start_time": "2021-09-30T08:24:55.899Z"
   },
   {
    "duration": 413,
    "start_time": "2021-09-30T08:24:56.683Z"
   },
   {
    "duration": 808,
    "start_time": "2021-09-30T08:24:57.099Z"
   },
   {
    "duration": 776,
    "start_time": "2021-09-30T08:24:57.911Z"
   },
   {
    "duration": 13,
    "start_time": "2021-09-30T08:24:58.691Z"
   },
   {
    "duration": 883,
    "start_time": "2021-09-30T08:24:58.706Z"
   },
   {
    "duration": 15,
    "start_time": "2021-09-30T08:24:59.592Z"
   },
   {
    "duration": 16,
    "start_time": "2021-09-30T08:24:59.610Z"
   },
   {
    "duration": 848,
    "start_time": "2021-09-30T08:24:59.628Z"
   },
   {
    "duration": 864,
    "start_time": "2021-09-30T08:25:00.484Z"
   },
   {
    "duration": 876,
    "start_time": "2021-09-30T08:25:01.350Z"
   },
   {
    "duration": 847,
    "start_time": "2021-09-30T08:25:02.228Z"
   },
   {
    "duration": 902,
    "start_time": "2021-09-30T08:25:03.082Z"
   },
   {
    "duration": 845,
    "start_time": "2021-09-30T08:25:03.987Z"
   },
   {
    "duration": 864,
    "start_time": "2021-09-30T08:25:04.834Z"
   },
   {
    "duration": 897,
    "start_time": "2021-09-30T08:25:05.701Z"
   },
   {
    "duration": 871,
    "start_time": "2021-09-30T08:25:06.602Z"
   },
   {
    "duration": 937,
    "start_time": "2021-09-30T08:25:07.476Z"
   },
   {
    "duration": 21,
    "start_time": "2021-09-30T08:25:08.416Z"
   },
   {
    "duration": 362,
    "start_time": "2021-09-30T08:25:08.440Z"
   },
   {
    "duration": 350,
    "start_time": "2021-09-30T08:25:08.805Z"
   },
   {
    "duration": 5,
    "start_time": "2021-09-30T08:25:09.158Z"
   },
   {
    "duration": 375,
    "start_time": "2021-09-30T08:25:09.165Z"
   },
   {
    "duration": 6,
    "start_time": "2021-09-30T08:25:09.542Z"
   },
   {
    "duration": 52,
    "start_time": "2021-09-30T08:25:09.551Z"
   },
   {
    "duration": 22,
    "start_time": "2021-09-30T08:25:09.605Z"
   },
   {
    "duration": 67,
    "start_time": "2021-09-30T08:25:09.630Z"
   },
   {
    "duration": 12,
    "start_time": "2021-09-30T08:25:09.700Z"
   },
   {
    "duration": 9,
    "start_time": "2021-09-30T08:25:09.715Z"
   },
   {
    "duration": 8,
    "start_time": "2021-09-30T08:25:09.727Z"
   },
   {
    "duration": 52,
    "start_time": "2021-09-30T08:25:09.737Z"
   },
   {
    "duration": 11,
    "start_time": "2021-09-30T08:25:09.793Z"
   },
   {
    "duration": 12,
    "start_time": "2021-09-30T08:25:09.807Z"
   },
   {
    "duration": 50,
    "start_time": "2021-09-30T08:25:36.652Z"
   },
   {
    "duration": 18,
    "start_time": "2021-09-30T08:25:37.200Z"
   },
   {
    "duration": 5,
    "start_time": "2021-09-30T08:25:44.975Z"
   },
   {
    "duration": 48,
    "start_time": "2021-09-30T08:25:53.676Z"
   },
   {
    "duration": 19,
    "start_time": "2021-09-30T08:25:54.231Z"
   },
   {
    "duration": 503,
    "start_time": "2021-09-30T08:26:46.923Z"
   },
   {
    "duration": 1379,
    "start_time": "2021-09-30T08:27:08.309Z"
   },
   {
    "duration": 47,
    "start_time": "2021-09-30T08:27:09.692Z"
   },
   {
    "duration": 22,
    "start_time": "2021-09-30T08:27:09.742Z"
   },
   {
    "duration": 28,
    "start_time": "2021-09-30T08:27:09.767Z"
   },
   {
    "duration": 5,
    "start_time": "2021-09-30T08:27:09.798Z"
   },
   {
    "duration": 22,
    "start_time": "2021-09-30T08:27:09.805Z"
   },
   {
    "duration": 10,
    "start_time": "2021-09-30T08:27:09.829Z"
   },
   {
    "duration": 63,
    "start_time": "2021-09-30T08:27:09.842Z"
   },
   {
    "duration": 6,
    "start_time": "2021-09-30T08:27:09.909Z"
   },
   {
    "duration": 11,
    "start_time": "2021-09-30T08:27:09.918Z"
   },
   {
    "duration": 58,
    "start_time": "2021-09-30T08:27:09.932Z"
   },
   {
    "duration": 10,
    "start_time": "2021-09-30T08:27:09.993Z"
   },
   {
    "duration": 9,
    "start_time": "2021-09-30T08:27:10.006Z"
   },
   {
    "duration": 10,
    "start_time": "2021-09-30T08:27:10.018Z"
   },
   {
    "duration": 52,
    "start_time": "2021-09-30T08:27:10.030Z"
   },
   {
    "duration": 24,
    "start_time": "2021-09-30T08:27:10.085Z"
   },
   {
    "duration": 12,
    "start_time": "2021-09-30T08:27:10.111Z"
   },
   {
    "duration": 7,
    "start_time": "2021-09-30T08:27:10.126Z"
   },
   {
    "duration": 6,
    "start_time": "2021-09-30T08:27:10.135Z"
   },
   {
    "duration": 11,
    "start_time": "2021-09-30T08:27:10.184Z"
   },
   {
    "duration": 17,
    "start_time": "2021-09-30T08:27:10.198Z"
   },
   {
    "duration": 11,
    "start_time": "2021-09-30T08:27:10.217Z"
   },
   {
    "duration": 7,
    "start_time": "2021-09-30T08:27:10.236Z"
   },
   {
    "duration": 40,
    "start_time": "2021-09-30T08:27:10.247Z"
   },
   {
    "duration": 35,
    "start_time": "2021-09-30T08:27:10.290Z"
   },
   {
    "duration": 11,
    "start_time": "2021-09-30T08:27:10.327Z"
   },
   {
    "duration": 58,
    "start_time": "2021-09-30T08:27:10.340Z"
   },
   {
    "duration": 17,
    "start_time": "2021-09-30T08:27:10.401Z"
   },
   {
    "duration": 637,
    "start_time": "2021-09-30T08:27:10.421Z"
   },
   {
    "duration": 30,
    "start_time": "2021-09-30T08:27:11.061Z"
   },
   {
    "duration": 565,
    "start_time": "2021-09-30T08:27:11.094Z"
   },
   {
    "duration": 4,
    "start_time": "2021-09-30T08:27:11.662Z"
   },
   {
    "duration": 516,
    "start_time": "2021-09-30T08:27:11.669Z"
   },
   {
    "duration": 14,
    "start_time": "2021-09-30T08:27:12.188Z"
   },
   {
    "duration": 625,
    "start_time": "2021-09-30T08:27:12.206Z"
   },
   {
    "duration": 393,
    "start_time": "2021-09-30T08:27:12.834Z"
   },
   {
    "duration": 671,
    "start_time": "2021-09-30T08:27:13.230Z"
   },
   {
    "duration": 727,
    "start_time": "2021-09-30T08:27:13.903Z"
   },
   {
    "duration": 9,
    "start_time": "2021-09-30T08:27:14.633Z"
   },
   {
    "duration": 913,
    "start_time": "2021-09-30T08:27:14.644Z"
   },
   {
    "duration": 22,
    "start_time": "2021-09-30T08:27:15.560Z"
   },
   {
    "duration": 11,
    "start_time": "2021-09-30T08:27:15.585Z"
   },
   {
    "duration": 858,
    "start_time": "2021-09-30T08:27:15.598Z"
   },
   {
    "duration": 808,
    "start_time": "2021-09-30T08:27:16.459Z"
   },
   {
    "duration": 834,
    "start_time": "2021-09-30T08:27:17.269Z"
   },
   {
    "duration": 838,
    "start_time": "2021-09-30T08:27:18.106Z"
   },
   {
    "duration": 830,
    "start_time": "2021-09-30T08:27:18.948Z"
   },
   {
    "duration": 935,
    "start_time": "2021-09-30T08:27:19.784Z"
   },
   {
    "duration": 881,
    "start_time": "2021-09-30T08:27:20.721Z"
   },
   {
    "duration": 916,
    "start_time": "2021-09-30T08:27:21.604Z"
   },
   {
    "duration": 832,
    "start_time": "2021-09-30T08:27:22.523Z"
   },
   {
    "duration": 1002,
    "start_time": "2021-09-30T08:27:23.358Z"
   },
   {
    "duration": 33,
    "start_time": "2021-09-30T08:27:24.362Z"
   },
   {
    "duration": 335,
    "start_time": "2021-09-30T08:27:24.399Z"
   },
   {
    "duration": 342,
    "start_time": "2021-09-30T08:27:24.736Z"
   },
   {
    "duration": 6,
    "start_time": "2021-09-30T08:27:25.082Z"
   },
   {
    "duration": 362,
    "start_time": "2021-09-30T08:27:25.091Z"
   },
   {
    "duration": 6,
    "start_time": "2021-09-30T08:27:25.456Z"
   },
   {
    "duration": 42,
    "start_time": "2021-09-30T08:27:25.465Z"
   },
   {
    "duration": 24,
    "start_time": "2021-09-30T08:27:25.510Z"
   },
   {
    "duration": 32,
    "start_time": "2021-09-30T08:27:25.583Z"
   },
   {
    "duration": 12,
    "start_time": "2021-09-30T08:27:25.617Z"
   },
   {
    "duration": 16,
    "start_time": "2021-09-30T08:27:25.631Z"
   },
   {
    "duration": 37,
    "start_time": "2021-09-30T08:27:25.649Z"
   },
   {
    "duration": 14,
    "start_time": "2021-09-30T08:27:25.690Z"
   },
   {
    "duration": 9,
    "start_time": "2021-09-30T08:27:25.706Z"
   },
   {
    "duration": 12,
    "start_time": "2021-09-30T08:27:25.717Z"
   },
   {
    "duration": 1324,
    "start_time": "2021-10-01T05:52:17.858Z"
   },
   {
    "duration": 48,
    "start_time": "2021-10-01T05:52:19.184Z"
   },
   {
    "duration": 22,
    "start_time": "2021-10-01T05:52:19.234Z"
   },
   {
    "duration": 14,
    "start_time": "2021-10-01T05:52:19.258Z"
   },
   {
    "duration": 5,
    "start_time": "2021-10-01T05:52:19.426Z"
   },
   {
    "duration": 20,
    "start_time": "2021-10-01T05:52:21.404Z"
   },
   {
    "duration": 10,
    "start_time": "2021-10-01T05:52:21.427Z"
   },
   {
    "duration": 22,
    "start_time": "2021-10-01T05:52:21.440Z"
   },
   {
    "duration": 7,
    "start_time": "2021-10-01T05:52:21.621Z"
   },
   {
    "duration": 12,
    "start_time": "2021-10-01T05:52:21.995Z"
   },
   {
    "duration": 20,
    "start_time": "2021-10-01T05:52:22.567Z"
   },
   {
    "duration": 8,
    "start_time": "2021-10-01T05:52:22.914Z"
   },
   {
    "duration": 6,
    "start_time": "2021-10-01T05:52:23.291Z"
   },
   {
    "duration": 6,
    "start_time": "2021-10-01T05:52:24.029Z"
   },
   {
    "duration": 12,
    "start_time": "2021-10-01T05:52:24.556Z"
   },
   {
    "duration": 21,
    "start_time": "2021-10-01T05:52:25.338Z"
   },
   {
    "duration": 13,
    "start_time": "2021-10-01T05:52:26.498Z"
   },
   {
    "duration": 8,
    "start_time": "2021-10-01T05:52:26.909Z"
   },
   {
    "duration": 5,
    "start_time": "2021-10-01T05:52:27.516Z"
   },
   {
    "duration": 7,
    "start_time": "2021-10-01T05:52:28.269Z"
   },
   {
    "duration": 12,
    "start_time": "2021-10-01T05:52:28.642Z"
   },
   {
    "duration": 12,
    "start_time": "2021-10-01T05:52:29.028Z"
   },
   {
    "duration": 7,
    "start_time": "2021-10-01T05:52:29.821Z"
   },
   {
    "duration": 11,
    "start_time": "2021-10-01T05:52:30.218Z"
   },
   {
    "duration": 30,
    "start_time": "2021-10-01T05:52:30.796Z"
   },
   {
    "duration": 13,
    "start_time": "2021-10-01T05:52:31.646Z"
   },
   {
    "duration": 22,
    "start_time": "2021-10-01T05:52:32.035Z"
   },
   {
    "duration": 16,
    "start_time": "2021-10-01T05:52:32.240Z"
   },
   {
    "duration": 592,
    "start_time": "2021-10-01T05:52:33.916Z"
   },
   {
    "duration": 18,
    "start_time": "2021-10-01T05:52:34.580Z"
   },
   {
    "duration": 507,
    "start_time": "2021-10-01T05:52:35.980Z"
   },
   {
    "duration": 4,
    "start_time": "2021-10-01T05:52:37.002Z"
   }
  ],
  "kernelspec": {
   "display_name": "Python 3 (ipykernel)",
   "language": "python",
   "name": "python3"
  },
  "language_info": {
   "codemirror_mode": {
    "name": "ipython",
    "version": 3
   },
   "file_extension": ".py",
   "mimetype": "text/x-python",
   "name": "python",
   "nbconvert_exporter": "python",
   "pygments_lexer": "ipython3",
   "version": "3.9.7"
  },
  "toc": {
   "base_numbering": 1,
   "nav_menu": {},
   "number_sections": true,
   "sideBar": true,
   "skip_h1_title": true,
   "title_cell": "Table of Contents",
   "title_sidebar": "Contents",
   "toc_cell": false,
   "toc_position": {},
   "toc_section_display": true,
   "toc_window_display": false
  }
 },
 "nbformat": 4,
 "nbformat_minor": 2
}
